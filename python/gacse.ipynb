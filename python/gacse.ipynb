{
 "cells": [
  {
   "cell_type": "markdown",
   "metadata": {},
   "source": [
    "## Geometric Algebra in Computer Science and Engineering Workshop at CGI 16"
   ]
  },
  {
   "cell_type": "code",
   "execution_count": 1,
   "metadata": {
    "collapsed": false
   },
   "outputs": [],
   "source": [
    "import sys\n",
    "sys.path.append('../build/')"
   ]
  },
  {
   "cell_type": "code",
   "execution_count": 2,
   "metadata": {
    "collapsed": false
   },
   "outputs": [
    {
     "name": "stdout",
     "output_type": "stream",
     "text": [
      "Populating the interactive namespace from numpy and matplotlib\n"
     ]
    }
   ],
   "source": [
    "%pylab inline"
   ]
  },
  {
   "cell_type": "code",
   "execution_count": 3,
   "metadata": {
    "collapsed": true
   },
   "outputs": [],
   "source": [
    "import versor as vsr"
   ]
  },
  {
   "cell_type": "code",
   "execution_count": 4,
   "metadata": {
    "collapsed": true
   },
   "outputs": [],
   "source": [
    "from game import solver_options"
   ]
  },
  {
   "cell_type": "code",
   "execution_count": 5,
   "metadata": {
    "collapsed": true
   },
   "outputs": [],
   "source": [
    "from motor_estimation import MotorEstimationSolver"
   ]
  },
  {
   "cell_type": "markdown",
   "metadata": {},
   "source": [
    "### Dataset generation"
   ]
  },
  {
   "cell_type": "code",
   "execution_count": 6,
   "metadata": {
    "collapsed": false
   },
   "outputs": [],
   "source": [
    "n = 10\n",
    "n_points = n\n",
    "sigma = 0.09\n",
    "motor = vsr.Vec(1,1,1).trs() * vsr.Rot(vsr.Biv(0,1,0) * (np.pi/6.0))\n",
    "points_as = []\n",
    "points_bs = []\n",
    "points_bns = []\n",
    "for i in range(3):\n",
    "    points_a = [vsr.Vec(*np.random.normal(0.0, 0.8, 3)).null() for i in range(n)]\n",
    "    points_b = [point.spin(motor) for point in points_a]\n",
    "    points_b_noisy = [vsr.Vec(*(np.array(point)[:3] + sigma * np.random.randn(3))).null() for point in points_b]\n",
    "    points_as.append(points_a)\n",
    "    points_bs.append(points_b)\n",
    "    points_bns.append(points_b_noisy)"
   ]
  },
  {
   "cell_type": "code",
   "execution_count": 7,
   "metadata": {
    "collapsed": false
   },
   "outputs": [
    {
     "name": "stdout",
     "output_type": "stream",
     "text": [
      "Mot: [ 0.87 0 -0.5 0 -0.68 -0.43 -0.18 -0.25 ]\n"
     ]
    }
   ],
   "source": [
    "print(motor)\n",
    "initial_motor = vsr.Mot(1.0, 0.0, 0.0, 0.0, 0.0, 0.0, 0.0, 0.0)\n",
    "options = solver_options()\n",
    "mes = MotorEstimationSolver(initial_motor, dict(options))"
   ]
  },
  {
   "cell_type": "code",
   "execution_count": 8,
   "metadata": {
    "collapsed": false
   },
   "outputs": [],
   "source": [
    "for a, b in zip(points_a, points_b):\n",
    "    mes.add_point_correspondences_residual_block(a,b)"
   ]
  },
  {
   "cell_type": "code",
   "execution_count": 9,
   "metadata": {
    "collapsed": true
   },
   "outputs": [],
   "source": [
    "mes.set_parameterization('BIVECTOR_GENERATOR')"
   ]
  },
  {
   "cell_type": "code",
   "execution_count": 10,
   "metadata": {
    "collapsed": false
   },
   "outputs": [],
   "source": [
    "final_motor = mes.solve()"
   ]
  },
  {
   "cell_type": "code",
   "execution_count": 11,
   "metadata": {
    "collapsed": false
   },
   "outputs": [
    {
     "name": "stdout",
     "output_type": "stream",
     "text": [
      "Mot: [ 0.91 -0.013 -0.42 -0.0076 -0.41 -0.45 -0.58 -0.2 ]\n"
     ]
    }
   ],
   "source": [
    "print(final_motor[0])"
   ]
  },
  {
   "cell_type": "code",
   "execution_count": 12,
   "metadata": {
    "collapsed": false
   },
   "outputs": [],
   "source": [
    "# lines\n",
    "lines_a = [vsr.Dll(vsr.Vec(*np.random.normal(0.0,0.8,3)),\n",
    "                   vsr.Vec(*np.random.normal(0.0,0.8,3)))\n",
    "          for i in range(10)]\n",
    "lines_b = [line.spin(motor) for line in lines_a]"
   ]
  },
  {
   "cell_type": "code",
   "execution_count": null,
   "metadata": {
    "collapsed": false
   },
   "outputs": [
    {
     "data": {
      "text/plain": [
       "[Dll: [ 1.121 0.09389 0.2581 -1.21 1.785 0.4282 ],\n",
       " Dll: [ 0.1286 1.571 -0.7175 2.065 -1.029 -1.048 ],\n",
       " Dll: [ 0.3756 -0.1167 1.007 0.1575 -0.333 -0.3186 ],\n",
       " Dll: [ -0.8507 1.102 -0.5533 0.818 -0.5728 0.2096 ],\n",
       " Dll: [ -0.08258 1.739 -0.9615 1.3 -0.7739 1.16 ],\n",
       " Dll: [ 0.3747 -1.1 -0.5629 0.8166 0.01835 1.173 ],\n",
       " Dll: [ -0.5107 -0.1079 0.4784 -0.1645 -0.4631 -0.2519 ],\n",
       " Dll: [ -0.1913 0.6591 -0.6755 -0.2736 0.271 0.03228 ],\n",
       " Dll: [ 1.035 -0.5084 0.3912 -2.223 1.106 0.2969 ],\n",
       " Dll: [ -0.4099 -1.161 -0.121 2.034 0.164 -0.1361 ]]"
      ]
     },
     "execution_count": 13,
     "metadata": {},
     "output_type": "execute_result"
    }
   ],
   "source": [
    "lines_a"
   ]
  },
  {
   "cell_type": "code",
   "execution_count": null,
   "metadata": {
    "collapsed": false
   },
   "outputs": [],
   "source": [
    "initial_motor = vsr.Mot(1.0, 0.0, 0.0, 0.0, 0.0, 0.0, 0.0, 0.0)\n",
    "options = solver_options()\n",
    "\n",
    "options[u'trust_region_strategy_type'] = u\"DOGLEG\"\n",
    "# options[u'minimizer_type'] = u'LINE_SEARCH'\n",
    "print \n",
    "\n",
    "# print(options)\n",
    "mes = MotorEstimationSolver(initial_motor, options)\n",
    "mes.num_threads = 1000\n",
    "mes.num_linear_solve_threads = 1000\n",
    "mes.max_num_iterations = 25\n",
    "mes.parameter_tolerance = 1e-8\n",
    "mes.function_tolerance = 1e-8\n",
    "mes.gradient_tolerance = 1e-16\n",
    "# mes.minimizer_type = 'LINE_SEARCH'\n",
    "mes.trust_region_minimizer_iterations_to_dump = [1,2,3]\n",
    "\n",
    "\n",
    "print(mes.trust_region_minimizer_iterations_to_dump)\n",
    "\n",
    "\n",
    "print(mes.num_linear_solve_threads)\n",
    "for a, b in zip(lines_a, lines_b):\n",
    "    mes.add_line_correspondences_residual_block(a,b)\n",
    "mes.set_parameterization('BIVECTOR_GENERATOR')\n",
    "motor, summary = mes.solve()\n",
    "print(summary['full_report'])"
   ]
  },
  {
   "cell_type": "code",
   "execution_count": null,
   "metadata": {
    "collapsed": false
   },
   "outputs": [],
   "source": [
    "print(summary['full_report'])"
   ]
  },
  {
   "cell_type": "code",
   "execution_count": null,
   "metadata": {
    "collapsed": false
   },
   "outputs": [],
   "source": [
    "vsr.Lin(vsr.Vec(*np.random.normal(0.0,0.8,3)),\n",
    "                   vsr.Vec(*np.random.normal(0.0,0.8,3)))"
   ]
  },
  {
   "cell_type": "code",
   "execution_count": null,
   "metadata": {
    "collapsed": false
   },
   "outputs": [],
   "source": [
    "[np.random.normal(0.0, 0.8, 3), np.random.normal(0.0, 0.8, 3)]"
   ]
  },
  {
   "cell_type": "markdown",
   "metadata": {},
   "source": [
    "### Hand Eye Calibration"
   ]
  },
  {
   "cell_type": "code",
   "execution_count": null,
   "metadata": {
    "collapsed": false
   },
   "outputs": [],
   "source": [
    "M_object_in_world = vsr.Vec(1.0,1.0,0.1).trs() * vsr.Biv(pi/4.0, 0.0,0.0).exp()\n",
    "M_eye_in_hand = vsr.Vec(0.1, 0.2, 0.3).trs() * vsr.Biv(0.0,1.0,0.0).exp()\n",
    "M_eye_in_hand_initial = vsr.Vec(0.11, 0.24, 0.36).trs() * (vsr.Biv(1.0,1.0,0.0).unit() * (np.pi/5.)).exp()"
   ]
  },
  {
   "cell_type": "code",
   "execution_count": null,
   "metadata": {
    "collapsed": false
   },
   "outputs": [],
   "source": [
    "M_eye_in_hand.rev() * M_object_in_world"
   ]
  },
  {
   "cell_type": "code",
   "execution_count": null,
   "metadata": {
    "collapsed": false
   },
   "outputs": [],
   "source": [
    "lin = vsr.Lin(vsr.Vec(0,3,0), vsr.Vec(1,0,0))\n",
    "vsr.Biv(1.,0.,0.) * (pi / 3.)"
   ]
  },
  {
   "cell_type": "code",
   "execution_count": null,
   "metadata": {
    "collapsed": false
   },
   "outputs": [],
   "source": [
    "lin.dual().unit().exp().log()"
   ]
  },
  {
   "cell_type": "code",
   "execution_count": null,
   "metadata": {
    "collapsed": false
   },
   "outputs": [],
   "source": [
    "R = B.exp()\n",
    "for i in range(4):\n",
    "    print(R[i])"
   ]
  },
  {
   "cell_type": "code",
   "execution_count": null,
   "metadata": {
    "collapsed": false
   },
   "outputs": [],
   "source": [
    "R = vsr.Rot(B)\n",
    "for i in range(4):\n",
    "    print(R[i])"
   ]
  },
  {
   "cell_type": "code",
   "execution_count": null,
   "metadata": {
    "collapsed": false
   },
   "outputs": [],
   "source": [
    "for i in range(3):\n",
    "    print(B[i])\n",
    "for i in range(3):\n",
    "    print(R.log()[i])"
   ]
  },
  {
   "cell_type": "code",
   "execution_count": null,
   "metadata": {
    "collapsed": false
   },
   "outputs": [],
   "source": [
    "vsr.Vec(1,0,0).trs()[i]\n",
    "for i in range(4): \n",
    "    print vsr.Vec(1,0,0).trs()[i]"
   ]
  },
  {
   "cell_type": "code",
   "execution_count": null,
   "metadata": {
    "collapsed": false
   },
   "outputs": [],
   "source": [
    "vsr.Vec(1,0,0).trs() * vsr.Biv(pi/4,0,0).exp()"
   ]
  }
 ],
 "metadata": {
  "kernelspec": {
   "display_name": "Python 2",
   "language": "python",
   "name": "python2"
  },
  "language_info": {
   "codemirror_mode": {
    "name": "ipython",
    "version": 2
   },
   "file_extension": ".py",
   "mimetype": "text/x-python",
   "name": "python",
   "nbconvert_exporter": "python",
   "pygments_lexer": "ipython2",
   "version": "2.7.11"
  }
 },
 "nbformat": 4,
 "nbformat_minor": 0
}
