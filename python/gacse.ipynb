{
 "cells": [
  {
   "cell_type": "markdown",
   "metadata": {
    "slideshow": {
     "slide_type": "-"
    }
   },
   "source": [
    "# GACSE Workshop"
   ]
  },
  {
   "cell_type": "code",
   "execution_count": 1,
   "metadata": {
    "collapsed": true
   },
   "outputs": [],
   "source": [
    "from __future__ import print_function"
   ]
  },
  {
   "cell_type": "code",
   "execution_count": 2,
   "metadata": {
    "collapsed": false
   },
   "outputs": [],
   "source": [
    "import sys\n",
    "sys.path.append('../build/')"
   ]
  },
  {
   "cell_type": "code",
   "execution_count": 3,
   "metadata": {
    "collapsed": false
   },
   "outputs": [
    {
     "name": "stdout",
     "output_type": "stream",
     "text": [
      "Populating the interactive namespace from numpy and matplotlib\n"
     ]
    }
   ],
   "source": [
    "%pylab inline\n",
    "np.set_printoptions(precision=4, suppress=True)"
   ]
  },
  {
   "cell_type": "code",
   "execution_count": 4,
   "metadata": {
    "collapsed": true
   },
   "outputs": [],
   "source": [
    "import versor as vsr"
   ]
  },
  {
   "cell_type": "code",
   "execution_count": 5,
   "metadata": {
    "collapsed": true
   },
   "outputs": [],
   "source": [
    "from motor_estimation import MotorEstimationSolver"
   ]
  },
  {
   "cell_type": "markdown",
   "metadata": {},
   "source": [
    "## Ground truth motor"
   ]
  },
  {
   "cell_type": "code",
   "execution_count": 6,
   "metadata": {
    "collapsed": false
   },
   "outputs": [
    {
     "name": "stdout",
     "output_type": "stream",
     "text": [
      "Mot: [ 0.87 0 -0.5 0 -0.68 -0.43 -0.18 -0.25 ]\n"
     ]
    }
   ],
   "source": [
    "motor = vsr.Vec(1,1,1).trs() * vsr.Rot(vsr.Biv(0,1,0) * np.pi/6.0)\n",
    "print(motor)"
   ]
  },
  {
   "cell_type": "markdown",
   "metadata": {},
   "source": [
    "## Motor Estimation from Points"
   ]
  },
  {
   "cell_type": "markdown",
   "metadata": {},
   "source": [
    "### Dataset generation"
   ]
  },
  {
   "cell_type": "code",
   "execution_count": 7,
   "metadata": {
    "collapsed": false
   },
   "outputs": [],
   "source": [
    "n_points = 10\n",
    "sigma = 0.09\n",
    "points_a = [vsr.Vec(*np.random.normal(0.0, 0.8, 3)).null() \n",
    "            for i in range(n_points)]\n",
    "points_b = [point.spin(motor) for point in points_a]\n",
    "points_b_noisy = [vsr.Vec(*(np.array(point)[:3] \n",
    "                            + sigma * np.random.randn(3))).null() \n",
    "                  for point in points_b]"
   ]
  },
  {
   "cell_type": "markdown",
   "metadata": {},
   "source": [
    "### Estimate motor"
   ]
  },
  {
   "cell_type": "code",
   "execution_count": 8,
   "metadata": {
    "collapsed": false
   },
   "outputs": [
    {
     "name": "stdout",
     "output_type": "stream",
     "text": [
      "Ceres Solver Report: Iterations: 5, Initial cost: 1.785767e+01, Final cost: 2.105442e-19, Termination: CONVERGENCE\n"
     ]
    }
   ],
   "source": [
    "initial_motor = vsr.Mot(1.0, 0.0, 0.0, 0.0, 0.0, 0.0, 0.0, 0.0)\n",
    "mes = MotorEstimationSolver(initial_motor)\n",
    "for a, b in zip(points_a, points_b):\n",
    "    mes.add_point_correspondences_residual_block(a,b)\n",
    "mes.set_parameterization('BIVECTOR_GENERATOR')\n",
    "mes.linear_solver_type = 'DENSE_QR'\n",
    "(estimated_motor, summary) = mes.solve()\n",
    "print(summary['brief_report'])"
   ]
  },
  {
   "cell_type": "markdown",
   "metadata": {
    "collapsed": false
   },
   "source": [
    "#### Check solution"
   ]
  },
  {
   "cell_type": "code",
   "execution_count": 9,
   "metadata": {
    "collapsed": false,
    "scrolled": true
   },
   "outputs": [
    {
     "name": "stdout",
     "output_type": "stream",
     "text": [
      "[ 0.866  0.    -0.5    0.    -0.683 -0.433 -0.183 -0.25 ]\n",
      "[ 0.866 -0.    -0.5    0.    -0.683 -0.433 -0.183 -0.25 ]\n",
      "True\n"
     ]
    }
   ],
   "source": [
    "print(np.array(motor))\n",
    "print(np.array(estimated_motor))\n",
    "print(np.allclose(np.array(motor), np.array(estimated_motor)))"
   ]
  },
  {
   "cell_type": "markdown",
   "metadata": {},
   "source": [
    "## Motor Estimation from Lines"
   ]
  },
  {
   "cell_type": "markdown",
   "metadata": {},
   "source": [
    "### Dataset generation"
   ]
  },
  {
   "cell_type": "code",
   "execution_count": 10,
   "metadata": {
    "collapsed": false
   },
   "outputs": [],
   "source": [
    "lines_a = [vsr.Dll(vsr.Vec(*np.random.normal(0.0,0.8,3)),\n",
    "                   vsr.Vec(*np.random.normal(0.0,0.8,3)))\n",
    "          for i in range(10)]\n",
    "lines_b = [line.spin(motor) for line in lines_a]"
   ]
  },
  {
   "cell_type": "markdown",
   "metadata": {
    "collapsed": false
   },
   "source": [
    "### Estimate motor using 6 residuals"
   ]
  },
  {
   "cell_type": "markdown",
   "metadata": {},
   "source": [
    "$$ \\arg \\min_M \\frac{1}{2} \\sum_{i=1}^n \\left| M \\varLambda_{b_i} \\tilde{M} - \\varLambda_{a_i}  \\right| $$"
   ]
  },
  {
   "cell_type": "code",
   "execution_count": 11,
   "metadata": {
    "collapsed": false
   },
   "outputs": [
    {
     "name": "stdout",
     "output_type": "stream",
     "text": [
      "Ceres Solver Report: Iterations: 6, Initial cost: 1.983602e+01, Final cost: 1.850827e-24, Termination: CONVERGENCE\n"
     ]
    }
   ],
   "source": [
    "initial_motor = vsr.Mot(1.0, 0.0, 0.0, 0.0, 0.0, 0.0, 0.0, 0.0)\n",
    "mes = MotorEstimationSolver(initial_motor)\n",
    "for a, b in zip(lines_a, lines_b):\n",
    "    mes.add_line_correspondences_residual_block(a,b)\n",
    "mes.set_parameterization('BIVECTOR_GENERATOR')\n",
    "mes.linear_solver_type = \"DENSE_QR\"\n",
    "estimated_motor, summary = mes.solve()\n",
    "print(summary['brief_report'])"
   ]
  },
  {
   "cell_type": "markdown",
   "metadata": {
    "collapsed": false
   },
   "source": [
    "#### Check solution"
   ]
  },
  {
   "cell_type": "code",
   "execution_count": 12,
   "metadata": {
    "collapsed": false
   },
   "outputs": [
    {
     "name": "stdout",
     "output_type": "stream",
     "text": [
      "[ 0.866  0.    -0.5    0.    -0.683 -0.433 -0.183 -0.25 ]\n",
      "[ 0.866  0.    -0.5    0.    -0.683 -0.433 -0.183 -0.25 ]\n",
      "True\n"
     ]
    }
   ],
   "source": [
    "print(np.array(motor))\n",
    "print(np.array(estimated_motor))\n",
    "print(np.allclose(np.array(motor), np.array(estimated_motor)))"
   ]
  },
  {
   "cell_type": "markdown",
   "metadata": {},
   "source": [
    "### Estimate motor using 4 residuals"
   ]
  },
  {
   "cell_type": "code",
   "execution_count": 13,
   "metadata": {
    "collapsed": false
   },
   "outputs": [
    {
     "name": "stdout",
     "output_type": "stream",
     "text": [
      "Ceres Solver Report: Iterations: 12, Initial cost: 1.305758e+01, Final cost: 1.250001e+00, Termination: CONVERGENCE\n"
     ]
    }
   ],
   "source": [
    "initial_motor = vsr.Mot(1.0, 0.0, 0.0, 0.0, 0.0, 0.0, 0.0, 0.0)\n",
    "mes = MotorEstimationSolver(initial_motor)\n",
    "for a, b in zip(lines_a, lines_b):\n",
    "    mes.add_line_angle_distance_residual_block(a,b)\n",
    "mes.set_parameterization('BIVECTOR_GENERATOR')\n",
    "mes.linear_solver_type = \"DENSE_QR\"\n",
    "estimated_motor, summary = mes.solve()\n",
    "print(summary['brief_report'])"
   ]
  },
  {
   "cell_type": "markdown",
   "metadata": {},
   "source": [
    "#### Check solution"
   ]
  },
  {
   "cell_type": "code",
   "execution_count": 14,
   "metadata": {
    "collapsed": false
   },
   "outputs": [
    {
     "name": "stdout",
     "output_type": "stream",
     "text": [
      "[ 0.866  0.    -0.5    0.    -0.683 -0.433 -0.183 -0.25 ]\n",
      "[ 0.8659 -0.0002 -0.5002 -0.0002 -0.6831 -0.433  -0.1829 -0.25  ]\n",
      "False\n",
      "True\n"
     ]
    }
   ],
   "source": [
    "print(np.array(motor))\n",
    "print(np.array(estimated_motor))\n",
    "print(np.allclose(np.array(motor), np.array(estimated_motor)))\n",
    "print(np.allclose(np.array(motor), np.array(estimated_motor), \n",
    "                  rtol=1e-05, atol=1e-03))"
   ]
  },
  {
   "cell_type": "markdown",
   "metadata": {
    "collapsed": false
   },
   "source": [
    "### Estimate motor using 2 residuals"
   ]
  },
  {
   "cell_type": "code",
   "execution_count": 15,
   "metadata": {
    "collapsed": false
   },
   "outputs": [
    {
     "name": "stdout",
     "output_type": "stream",
     "text": [
      "Ceres Solver Report: Iterations: 15, Initial cost: 1.305758e+01, Final cost: 1.250001e+00, Termination: CONVERGENCE\n"
     ]
    }
   ],
   "source": [
    "initial_motor = vsr.Mot(1.0, 0.0, 0.0, 0.0, 0.0, 0.0, 0.0, 0.0)\n",
    "mes = MotorEstimationSolver(initial_motor)\n",
    "for a, b in zip(lines_a, lines_b):\n",
    "    mes.add_line_angle_distance_norm_residual_block(a,b)\n",
    "mes.set_parameterization('BIVECTOR_GENERATOR')\n",
    "mes.linear_solver_type = \"DENSE_QR\"\n",
    "estimated_motor, summary = mes.solve()\n",
    "print(summary['brief_report'])"
   ]
  },
  {
   "cell_type": "markdown",
   "metadata": {},
   "source": [
    "#### Check solution"
   ]
  },
  {
   "cell_type": "code",
   "execution_count": 16,
   "metadata": {
    "collapsed": false
   },
   "outputs": [
    {
     "name": "stdout",
     "output_type": "stream",
     "text": [
      "[ 0.866  0.    -0.5    0.    -0.683 -0.433 -0.183 -0.25 ]\n",
      "[ 0.8662  0.0001 -0.4996  0.     -0.6827 -0.4331 -0.1831 -0.2498]\n",
      "False\n",
      "True\n"
     ]
    }
   ],
   "source": [
    "print(np.array(motor))\n",
    "print(np.array(estimated_motor))\n",
    "print(np.allclose(np.array(motor), np.array(estimated_motor)))\n",
    "print(np.allclose(np.array(motor), np.array(estimated_motor), \n",
    "                  rtol=1e-05, atol=1e-03))"
   ]
  },
  {
   "cell_type": "markdown",
   "metadata": {},
   "source": [
    "### Hand Eye Calibration"
   ]
  },
  {
   "cell_type": "markdown",
   "metadata": {},
   "source": [
    "### Set up motors"
   ]
  },
  {
   "cell_type": "code",
   "execution_count": 17,
   "metadata": {
    "collapsed": false
   },
   "outputs": [],
   "source": [
    "M_object_in_world = vsr.Vec(1.0,1.0,0.1).trs() * vsr.Biv(pi/4.0, 0.0,0.0).exp()\n",
    "M_eye_in_hand = vsr.Vec(0.1, 0.2, 0.3).trs() * vsr.Biv(0.0,1.0,0.0).exp()\n",
    "M_eye_in_hand_initial = vsr.Vec(0.11, 0.24, 0.36).trs() * (vsr.Biv(1.0,1.0,0.0).unit() * (np.pi/5.)).exp()"
   ]
  },
  {
   "cell_type": "markdown",
   "metadata": {},
   "source": [
    "### Dataset generation"
   ]
  },
  {
   "cell_type": "code",
   "execution_count": 18,
   "metadata": {
    "collapsed": true
   },
   "outputs": [],
   "source": [
    "def hand_eye_pose_pairs(M_object_in_world, M_eye_in_hand, n):\n",
    "    pose_pairs = [\n",
    "            (M_hand_in_world, \n",
    "             (M_eye_in_hand.rev() * M_hand_in_world.rev() * M_object_in_world))\n",
    "            for M_hand_in_world in [vsr.Vec(*np.random.rand(3)).trs() *\n",
    "                                    vsr.Rot(vsr.Biv(*np.random.rand(3)).unit() *\n",
    "                                            np.random.rand() * np.pi)\n",
    "                                    for i in range(n)]]\n",
    "\n",
    "    As = [pose_pair[0] for pose_pair in pose_pairs]\n",
    "    Bs = [pose_pair[1] for pose_pair in pose_pairs]\n",
    "\n",
    "    LAs = []\n",
    "    LBs = []\n",
    "    for i in range(n):\n",
    "        for j in range(i+1,n):\n",
    "            LAs.append(((As[j].rev() * As[i]).log() * 0.5).unit())\n",
    "            LBs.append(((Bs[j] * Bs[i].rev()).log() * 0.5).unit())\n",
    "    return LAs, LBs"
   ]
  },
  {
   "cell_type": "code",
   "execution_count": 19,
   "metadata": {
    "collapsed": false
   },
   "outputs": [
    {
     "name": "stdout",
     "output_type": "stream",
     "text": [
      "45\n"
     ]
    }
   ],
   "source": [
    "n_lines = 10\n",
    "lines_a, lines_b = hand_eye_pose_pairs(M_object_in_world, M_eye_in_hand, n_lines)\n",
    "print(len(lines_a))"
   ]
  },
  {
   "cell_type": "markdown",
   "metadata": {},
   "source": [
    "### Estimate hand-eye motor "
   ]
  },
  {
   "cell_type": "code",
   "execution_count": 20,
   "metadata": {
    "collapsed": false
   },
   "outputs": [
    {
     "name": "stdout",
     "output_type": "stream",
     "text": [
      "\n",
      "Solver Summary (v 1.12.0-eigen-(3.2.7)-lapack-suitesparse-(4.4.4)-cxsparse-(3.1.4)-openmp)\n",
      "\n",
      "                                     Original                  Reduced\n",
      "Parameter blocks                            1                        1\n",
      "Parameters                                  8                        8\n",
      "Effective parameters                        6                        6\n",
      "Residual blocks                            45                       45\n",
      "Residual                                  180                      180\n",
      "\n",
      "Minimizer                        TRUST_REGION\n",
      "\n",
      "Dense linear algebra library            EIGEN\n",
      "Trust region strategy     LEVENBERG_MARQUARDT\n",
      "\n",
      "                                        Given                     Used\n",
      "Linear solver                        DENSE_QR                 DENSE_QR\n",
      "Threads                                     1                        1\n",
      "Linear solver threads                       1                        1\n",
      "\n",
      "Cost:\n",
      "Initial                          9.815187e+01\n",
      "Final                            5.625000e+00\n",
      "Change                           9.252687e+01\n",
      "\n",
      "Minimizer iterations                       35\n",
      "Successful steps                           29\n",
      "Unsuccessful steps                          6\n",
      "\n",
      "Time (in seconds):\n",
      "Preprocessor                           0.0000\n",
      "\n",
      "  Residual evaluation                  0.0006\n",
      "  Jacobian evaluation                  0.0105\n",
      "  Linear solver                        0.0005\n",
      "Minimizer                              0.0122\n",
      "\n",
      "Postprocessor                          0.0000\n",
      "Total                                  0.0122\n",
      "\n",
      "Termination:                      CONVERGENCE (Parameter tolerance reached. Relative step_norm: 8.911749e-09 <= 1.000000e-08.)\n",
      "\n"
     ]
    }
   ],
   "source": [
    "mes = MotorEstimationSolver(M_eye_in_hand_initial)\n",
    "for a, b in zip(lines_a, lines_b):\n",
    "    mes.add_line_angle_distance_residual_block(a,b)\n",
    "mes.set_parameterization('BIVECTOR_GENERATOR')\n",
    "mes.linear_solver_type = \"DENSE_QR\"\n",
    "mes.function_tolerance = 1e-16\n",
    "estimated_motor, summary = mes.solve()\n",
    "print(summary['full_report'])"
   ]
  },
  {
   "cell_type": "markdown",
   "metadata": {
    "collapsed": false
   },
   "source": [
    "#### Check solution"
   ]
  },
  {
   "cell_type": "code",
   "execution_count": 21,
   "metadata": {
    "collapsed": false
   },
   "outputs": [
    {
     "name": "stdout",
     "output_type": "stream",
     "text": [
      "[ 0.5403  0.     -0.8415  0.     -0.1532 -0.054  -0.039  -0.0841]\n",
      "[ 0.5403  0.      0.8415 -0.      0.1532  0.054   0.039  -0.0841]\n",
      "False\n"
     ]
    }
   ],
   "source": [
    "print(np.array(M_eye_in_hand))\n",
    "print(np.array(estimated_motor))\n",
    "print(np.allclose(np.array(M_eye_in_hand), np.array(estimated_motor)))"
   ]
  },
  {
   "cell_type": "markdown",
   "metadata": {},
   "source": [
    "### Real Experiment"
   ]
  },
  {
   "cell_type": "code",
   "execution_count": 22,
   "metadata": {
    "collapsed": false
   },
   "outputs": [],
   "source": [
    "import cPickle as pickle\n",
    "import math3d as m3d"
   ]
  },
  {
   "cell_type": "markdown",
   "metadata": {},
   "source": [
    "#### Dataset generation"
   ]
  },
  {
   "cell_type": "code",
   "execution_count": 23,
   "metadata": {
    "collapsed": true
   },
   "outputs": [],
   "source": [
    "rob_pose_list = pickle.load(open('pose_list.dump'))\n",
    "obj_pose_list = pickle.load(open('obj_pose_list.dump'))\n",
    "a_trfs = pickle.load(open('as.dump'))\n",
    "b_trfs = pickle.load(open('bs.dump'))"
   ]
  },
  {
   "cell_type": "code",
   "execution_count": 24,
   "metadata": {
    "collapsed": false
   },
   "outputs": [],
   "source": [
    "rob_motors = [vsr.Vec(*pos).trs() * vsr.Rot(vsr.Vec(*axis).unduale() * angle / 2.)\n",
    "              for pos, (axis, angle) in [(m3d.Transform(pose).pos, \n",
    "                                          m3d.Transform(pose).orient.axis_angle)\n",
    "                                         for pose in rob_pose_list]]\n",
    "obj_motors = [vsr.Vec(*pos).trs() * vsr.Rot(vsr.Vec(*axis).unduale() * angle / 2.)\n",
    "              for pos, (axis, angle) in [(m3d.Transform(pose).pos, \n",
    "                                          m3d.Transform(pose).orient.axis_angle)\n",
    "                                         for pose in obj_pose_list]]"
   ]
  },
  {
   "cell_type": "code",
   "execution_count": 25,
   "metadata": {
    "collapsed": false
   },
   "outputs": [],
   "source": [
    "n_lines = len(rob_motors)\n",
    "lines_a = []\n",
    "lines_b = []\n",
    "for i in range(n_lines):\n",
    "    for j in range(i+1,n_lines):\n",
    "        lines_a.append(((rob_motors[j].rev() * rob_motors[i]).log() * 0.5).unit())\n",
    "        lines_b.append(((obj_motors[j].rev() * obj_motors[i]).log() * 0.5).unit())"
   ]
  },
  {
   "cell_type": "code",
   "execution_count": 26,
   "metadata": {
    "collapsed": false
   },
   "outputs": [],
   "source": [
    "n_lines = len(a_trfs)\n",
    "motors_a = [vsr.Vec(*pos).trs() * vsr.Rot(vsr.Vec(*axis).unduale() * angle / 2.)\n",
    "              for pos, (axis, angle) in [(m3d.Transform(pose).pos, \n",
    "                                          m3d.Transform(pose).orient.axis_angle)\n",
    "                                         for pose in a_trfs]]\n",
    "motors_b = [vsr.Vec(*pos).trs() * vsr.Rot(vsr.Vec(*axis).unduale() * angle / 2.)\n",
    "              for pos, (axis, angle) in [(m3d.Transform(pose).pos, \n",
    "                                          m3d.Transform(pose).orient.axis_angle)\n",
    "                                         for pose in b_trfs]]\n",
    "lines_a = [motor.log() for motor in motors_a]\n",
    "lines_b = [motor.log() for motor in motors_b]"
   ]
  },
  {
   "cell_type": "markdown",
   "metadata": {},
   "source": [
    "#### Estimate hand-eye motor"
   ]
  },
  {
   "cell_type": "code",
   "execution_count": 27,
   "metadata": {
    "collapsed": false
   },
   "outputs": [
    {
     "name": "stdout",
     "output_type": "stream",
     "text": [
      "\n",
      "Solver Summary (v 1.12.0-eigen-(3.2.7)-lapack-suitesparse-(4.4.4)-cxsparse-(3.1.4)-openmp)\n",
      "\n",
      "                                     Original                  Reduced\n",
      "Parameter blocks                            1                        1\n",
      "Parameters                                  8                        8\n",
      "Effective parameters                        6                        6\n",
      "Residual blocks                            20                       20\n",
      "Residual                                  120                      120\n",
      "\n",
      "Minimizer                        TRUST_REGION\n",
      "\n",
      "Dense linear algebra library            EIGEN\n",
      "Trust region strategy     LEVENBERG_MARQUARDT\n",
      "\n",
      "                                        Given                     Used\n",
      "Linear solver                        DENSE_QR                 DENSE_QR\n",
      "Threads                                     1                        1\n",
      "Linear solver threads                       1                        1\n",
      "\n",
      "Cost:\n",
      "Initial                          3.395318e+00\n",
      "Final                            5.006457e-04\n",
      "Change                           3.394818e+00\n",
      "\n",
      "Minimizer iterations                       13\n",
      "Successful steps                           13\n",
      "Unsuccessful steps                          0\n",
      "\n",
      "Time (in seconds):\n",
      "Preprocessor                           0.0000\n",
      "\n",
      "  Residual evaluation                  0.0001\n",
      "  Jacobian evaluation                  0.0007\n",
      "  Linear solver                        0.0001\n",
      "Minimizer                              0.0010\n",
      "\n",
      "Postprocessor                          0.0000\n",
      "Total                                  0.0011\n",
      "\n",
      "Termination:                      CONVERGENCE (Parameter tolerance reached. Relative step_norm: 5.340661e-09 <= 1.000000e-08.)\n",
      "\n"
     ]
    }
   ],
   "source": [
    "mes = MotorEstimationSolver(initial_motor)\n",
    "for a, b in zip(lines_a, lines_b):\n",
    "    mes.add_line_correspondences_residual_block(b,a)\n",
    "#     mes.add_line_angle_distance_residual_block(b,a)\n",
    "mes.set_parameterization('BIVECTOR_GENERATOR')\n",
    "mes.linear_solver_type = \"DENSE_QR\"\n",
    "mes.max_num_iterations = 25\n",
    "mes.function_tolerance = 1e-12\n",
    "estimated_motor, summary = mes.solve()\n",
    "print(summary['full_report'])"
   ]
  },
  {
   "cell_type": "code",
   "execution_count": 28,
   "metadata": {
    "collapsed": false
   },
   "outputs": [
    {
     "name": "stdout",
     "output_type": "stream",
     "text": [
      "Mot: [ 0.0028 -0.0027 -0.68 -0.74 -0.053 -0.058 0.05 -0.018 ]\n"
     ]
    }
   ],
   "source": [
    "print(estimated_motor)"
   ]
  },
  {
   "cell_type": "code",
   "execution_count": 29,
   "metadata": {
    "collapsed": false
   },
   "outputs": [
    {
     "name": "stdout",
     "output_type": "stream",
     "text": [
      "Drv: [ 0.088 -1 0.0079 ]\n",
      "Drv: [ -1 -0.088 0.00053 ]\n",
      "Drv: [ 0.00016 -0.0079 -1 ]\n",
      "Pnt: [ 0.04172 0.09897 0.1578 1 0.01822 ]\n"
     ]
    }
   ],
   "source": [
    "print(vsr.Drv(1,0,0).spin(estimated_motor))\n",
    "print(vsr.Drv(0,1,0).spin(estimated_motor))\n",
    "print(vsr.Drv(0,0,1).spin(estimated_motor))\n",
    "print(vsr.Vec(0,0,0).null().spin(estimated_motor))"
   ]
  },
  {
   "cell_type": "code",
   "execution_count": 30,
   "metadata": {
    "collapsed": true
   },
   "outputs": [],
   "source": [
    "#### Combination of estimates"
   ]
  },
  {
   "cell_type": "code",
   "execution_count": 40,
   "metadata": {
    "collapsed": false
   },
   "outputs": [
    {
     "name": "stdout",
     "output_type": "stream",
     "text": [
      "Mot: [ -0.66 -0.26 -0.25 -0.66 -0.31 -0.66 -0.17 -0.11 ]\n"
     ]
    }
   ],
   "source": [
    "bivectors = [np.array((r * estimated_motor * o.rev()).log()) \n",
    "             for r, o in zip(rob_motors, obj_motors)]\n",
    "m = vsr.Dll(*np.average(bivectors,0)).exp()\n",
    "print(m)"
   ]
  },
  {
   "cell_type": "code",
   "execution_count": 32,
   "metadata": {
    "collapsed": false
   },
   "outputs": [
    {
     "name": "stdout",
     "output_type": "stream",
     "text": [
      "Drv: [ 0.73 -0.68 0.0062 ]\n",
      "Drv: [ 0.0085 0.00011 -1 ]\n",
      "Drv: [ 0.68 0.73 0.0058 ]\n",
      "Pnt: [ -0.985 -0.8773 0.7517 1 1.152 ]\n"
     ]
    }
   ],
   "source": [
    "print(vsr.Drv(1,0,0).spin(m))\n",
    "print(vsr.Drv(0,1,0).spin(m))\n",
    "print(vsr.Drv(0,0,1).spin(m))\n",
    "print(vsr.Vec(0,0,0).null().spin(m))"
   ]
  },
  {
   "cell_type": "code",
   "execution_count": 33,
   "metadata": {
    "collapsed": true
   },
   "outputs": [],
   "source": [
    "from tsai_lens_calibration import TsaiLenzCalibrator"
   ]
  },
  {
   "cell_type": "code",
   "execution_count": 34,
   "metadata": {
    "collapsed": false
   },
   "outputs": [
    {
     "data": {
      "text/plain": [
       "<Transform:\n",
       "<Orientation: \n",
       "array([[ 0.1246, -0.992 , -0.0178],\n",
       "       [-0.9841, -0.1213, -0.1294],\n",
       "       [ 0.1263,  0.0336, -0.9914]])>\n",
       "<Vector: (0.02149, 0.07718, 0.14263)>\n",
       ">"
      ]
     },
     "execution_count": 34,
     "metadata": {},
     "output_type": "execute_result"
    }
   ],
   "source": [
    "pose_pairs = [(m3d.Transform(A), m3d.Transform(B)) \n",
    "              for (A, B)  in zip(rob_pose_list, obj_pose_list)]\n",
    "tsai_lens = TsaiLenzCalibrator(pose_pairs)\n",
    "tsai_lens.sensor_in_flange"
   ]
  },
  {
   "cell_type": "code",
   "execution_count": 35,
   "metadata": {
    "collapsed": false
   },
   "outputs": [],
   "source": [
    "def daniilidis(LAs, LBs):\n",
    "    def skew(v):\n",
    "        skv = roll(roll(diag(v.flatten()), 1, 1), -1, 0)\n",
    "        return skv - skv.T\n",
    "    \n",
    "    Ds = []\n",
    "    for LA, LB in zip(LAs, LBs):\n",
    "        LA = LA.unit()\n",
    "        LB = LB.unit()\n",
    "        D = np.zeros((6,8))\n",
    "        a = np.array(LA).copy()[:3]\n",
    "        a = np.array([a[2], -a[1], a[0]])\n",
    "        b = np.array(LB).copy()[:3]\n",
    "        b = np.array([b[2], -b[1], b[0]])\n",
    "        aprime = np.array(LA).copy()[3:]\n",
    "        bprime = np.array(LB).copy()[3:]\n",
    "        # Upper 3\n",
    "        D[:3,0] = a - b\n",
    "        D[:3,1:4] = skew(a + b)\n",
    "        # Lower 3\n",
    "        D[3:,0] = aprime - bprime\n",
    "        D[3:,1:4] = skew(aprime + bprime)\n",
    "        D[3:,4] = a - b \n",
    "        D[3:,5:8] = skew(a + b)  \n",
    "        Ds.append(D)\n",
    "    Ds = np.array(Ds).reshape(-1,8)\n",
    "    \n",
    "    [U, s, Vt] = np.linalg.svd(Ds)\n",
    "    v7 = Vt.T[:,-2]\n",
    "    v8 = Vt.T[:,-1]\n",
    "    u1 = v7[:4]\n",
    "    v1 = v7[4:]\n",
    "    u2 = v8[:4]\n",
    "    v2 = v8[4:]\n",
    "    \n",
    "    a = np.inner(u1,v1)\n",
    "    b = np.inner(u1,v2) + np.inner(u2,v1)\n",
    "    c = np.inner(u2,v2)\n",
    "    [s1, s2] = np.roots([a,b,c])\n",
    "    \n",
    "    val1 = (s1**2 * np.inner(u1,u1)) + (2 * s1 * np.inner(u1,u2)) + (np.inner(u2,u2))\n",
    "    val2 = (s2**2 * np.inner(u1,u1)) + (2 * s2 * np.inner(u1,u2)) + (np.inner(u2,u2))\n",
    "\n",
    "    if val1 > val2:\n",
    "        s = s1\n",
    "        val = val1\n",
    "    else:\n",
    "        s = s2\n",
    "        val = val2\n",
    "\n",
    "    lambda2 = np.sqrt(1./val)\n",
    "    lambda1 = s * lambda2\n",
    "    \n",
    "    m_arr = lambda1 * v7 + lambda2 * v8\n",
    "    m_arr[1:4] = np.array([m_arr[3], -m_arr[2], m_arr[1]])\n",
    "    m_arr[4:8] = np.roll(m_arr[4:8], -1)\n",
    "    return vsr.Mot(*m_arr)"
   ]
  },
  {
   "cell_type": "code",
   "execution_count": 36,
   "metadata": {
    "collapsed": false
   },
   "outputs": [],
   "source": [
    "daniilidis_motor = daniilidis(lines_b, lines_a)"
   ]
  },
  {
   "cell_type": "code",
   "execution_count": 37,
   "metadata": {
    "collapsed": false
   },
   "outputs": [
    {
     "name": "stdout",
     "output_type": "stream",
     "text": [
      "Drv: [ 0.13 -0.99 -0.013 ]\n",
      "Drv: [ -0.99 -0.13 -0.03 ]\n",
      "Drv: [ 0.028 0.017 -1 ]\n",
      "Pnt: [ 0.06934 0.1201 0.1412 1 0.01959 ]\n"
     ]
    }
   ],
   "source": [
    "print(vsr.Drv(1,0,0).spin(daniilidis_motor.rev()))\n",
    "print(vsr.Drv(0,1,0).spin(daniilidis_motor.rev()))\n",
    "print(vsr.Drv(0,0,1).spin(daniilidis_motor.rev()))\n",
    "print(vsr.Vec(0,0,0).null().spin(daniilidis_motor.rev()))"
   ]
  },
  {
   "cell_type": "code",
   "execution_count": 38,
   "metadata": {
    "collapsed": false
   },
   "outputs": [
    {
     "name": "stdout",
     "output_type": "stream",
     "text": [
      "Mot: [ 1 0 0 0 0 0 -7.6e-18 2.6e-17 ]\n",
      "Mot: [ 1 0 0 0 -8.7e-18 -1.7e-18 4.8e-18 0.00081 ]\n"
     ]
    }
   ],
   "source": [
    "print(estimated_motor * estimated_motor.rev())\n",
    "print(daniilidis_motor * daniilidis_motor.rev())"
   ]
  },
  {
   "cell_type": "code",
   "execution_count": 39,
   "metadata": {
    "collapsed": false
   },
   "outputs": [
    {
     "name": "stdout",
     "output_type": "stream",
     "text": [
      "Drv: [ 0.72 -0.69 0.046 ]\n",
      "Drv: [ 0.025 -0.041 -1 ]\n",
      "Drv: [ 0.69 0.72 -0.013 ]\n",
      "Pnt: [ -0.9711 -0.8614 0.8368 1 1.193 ]\n"
     ]
    }
   ],
   "source": [
    "bivectors = [np.array((r * daniilidis_motor * o.rev()).log()) \n",
    "             for r, o in zip(rob_motors, obj_motors)]\n",
    "m = vsr.Dll(*np.average(bivectors,0)).exp()\n",
    "print(vsr.Drv(1,0,0).spin(m))\n",
    "print(vsr.Drv(0,1,0).spin(m))\n",
    "print(vsr.Drv(0,0,1).spin(m))\n",
    "print(vsr.Vec(0,0,0).null().spin(m))"
   ]
  },
  {
   "cell_type": "code",
   "execution_count": null,
   "metadata": {
    "collapsed": true
   },
   "outputs": [],
   "source": []
  }
 ],
 "metadata": {
  "kernelspec": {
   "display_name": "Python 2",
   "language": "python",
   "name": "python2"
  },
  "language_info": {
   "codemirror_mode": {
    "name": "ipython",
    "version": 2
   },
   "file_extension": ".py",
   "mimetype": "text/x-python",
   "name": "python",
   "nbconvert_exporter": "python",
   "pygments_lexer": "ipython2",
   "version": "2.7.11"
  }
 },
 "nbformat": 4,
 "nbformat_minor": 0
}
