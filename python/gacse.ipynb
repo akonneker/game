{
 "cells": [
  {
   "cell_type": "markdown",
   "metadata": {
    "slideshow": {
     "slide_type": "-"
    }
   },
   "source": [
    "# GACSE Workshop"
   ]
  },
  {
   "cell_type": "code",
   "execution_count": 7,
   "metadata": {
    "collapsed": true
   },
   "outputs": [],
   "source": [
    "from __future__ import print_function"
   ]
  },
  {
   "cell_type": "code",
   "execution_count": 34,
   "metadata": {
    "collapsed": false
   },
   "outputs": [],
   "source": [
    "import sys\n",
    "sys.path.append('../build/')\n",
    "sys.path.append('hand_eye_calibration/')"
   ]
  },
  {
   "cell_type": "code",
   "execution_count": 9,
   "metadata": {
    "collapsed": false
   },
   "outputs": [
    {
     "name": "stdout",
     "output_type": "stream",
     "text": [
      "Populating the interactive namespace from numpy and matplotlib\n"
     ]
    },
    {
     "name": "stderr",
     "output_type": "stream",
     "text": [
      "WARNING: pylab import has clobbered these variables: ['angle', 'axis']\n",
      "`%matplotlib` prevents importing * from pylab and numpy\n"
     ]
    }
   ],
   "source": [
    "%pylab inline\n",
    "np.set_printoptions(precision=4, suppress=True)"
   ]
  },
  {
   "cell_type": "code",
   "execution_count": 10,
   "metadata": {
    "collapsed": false
   },
   "outputs": [],
   "source": [
    "import versor as vsr"
   ]
  },
  {
   "cell_type": "code",
   "execution_count": 11,
   "metadata": {
    "collapsed": false
   },
   "outputs": [],
   "source": [
    "from motor_estimation import MotorEstimationSolver"
   ]
  },
  {
   "cell_type": "code",
   "execution_count": 6,
   "metadata": {
    "collapsed": true
   },
   "outputs": [],
   "source": [
    "fig_width_pt =  332.89726               # Get this from LaTeX using \\showthe\\columnwidth\n",
    "inches_per_pt = 1.0/72.27               # Convert pt to inches\n",
    "golden_mean = (sqrt(5.0)-1.0)/2.0       # Aesthetic ratio\n",
    "fig_width = fig_width_pt*inches_per_pt  # width in inches\n",
    "fig_height = fig_width*golden_mean      # height in inches\n",
    "fig_size = [fig_width,fig_height]\n",
    "params = {\n",
    "    'axes.labelsize': 9,\n",
    "    'font.size': 9,\n",
    "    \"font.family\": \"serif\",\n",
    "    \"font.serif\": [],\n",
    "    'legend.fontsize': 9,\n",
    "    'xtick.labelsize': 8,\n",
    "    'ytick.labelsize': 8,\n",
    "    'text.usetex': True,\n",
    "    'text.latex.preamble':[r'\\usepackage{amsmath}', r'\\usepackage{bm}'],\n",
    "    'figure.figsize': fig_size,\n",
    "    'axes.linewidth': 0.5\n",
    "}\n",
    "matplotlib.rcParams.update(params)"
   ]
  },
  {
   "cell_type": "markdown",
   "metadata": {},
   "source": [
    "## Ground truth motor"
   ]
  },
  {
   "cell_type": "code",
   "execution_count": 14,
   "metadata": {
    "collapsed": false
   },
   "outputs": [
    {
     "name": "stdout",
     "output_type": "stream",
     "text": [
      "Mot: [ 0.87 0 -0.5 0 -0.68 -0.43 -0.18 -0.25 ]\n"
     ]
    }
   ],
   "source": [
    "motor = vsr.Vec(1,1,1).trs() * vsr.Rot(vsr.Biv(0,1,0) * np.pi/6.0)\n",
    "print(motor)"
   ]
  },
  {
   "cell_type": "markdown",
   "metadata": {},
   "source": [
    "## Motor Estimation from Points"
   ]
  },
  {
   "cell_type": "markdown",
   "metadata": {},
   "source": [
    "### Dataset generation"
   ]
  },
  {
   "cell_type": "code",
   "execution_count": 15,
   "metadata": {
    "collapsed": false
   },
   "outputs": [],
   "source": [
    "n_points = 10\n",
    "sigma = 0.09\n",
    "points_a = [vsr.Vec(*np.random.normal(0.0, 0.8, 3)).null() \n",
    "            for i in range(n_points)]\n",
    "points_b = [point.spin(motor) for point in points_a]\n",
    "points_b_noisy = [vsr.Vec(*(np.array(point)[:3] \n",
    "                            + sigma * np.random.randn(3))).null() \n",
    "                  for point in points_b]"
   ]
  },
  {
   "cell_type": "markdown",
   "metadata": {},
   "source": [
    "### Estimate motor"
   ]
  },
  {
   "cell_type": "code",
   "execution_count": 16,
   "metadata": {
    "collapsed": false
   },
   "outputs": [
    {
     "name": "stdout",
     "output_type": "stream",
     "text": [
      "\n",
      "Solver Summary (v 1.12.0-eigen-(3.2.92)-lapack-suitesparse-(4.4.6)-openmp)\n",
      "\n",
      "                                     Original                  Reduced\n",
      "Parameter blocks                            1                        1\n",
      "Parameters                                  8                        8\n",
      "Effective parameters                        6                        6\n",
      "Residual blocks                            10                       10\n",
      "Residual                                   30                       30\n",
      "\n",
      "Minimizer                        TRUST_REGION\n",
      "\n",
      "Dense linear algebra library            EIGEN\n",
      "Trust region strategy     LEVENBERG_MARQUARDT\n",
      "\n",
      "                                        Given                     Used\n",
      "Linear solver                        DENSE_QR                 DENSE_QR\n",
      "Threads                                     1                        1\n",
      "Linear solver threads                       1                        1\n",
      "\n",
      "Cost:\n",
      "Initial                          2.319964e+01\n",
      "Final                            7.349241e-18\n",
      "Change                           2.319964e+01\n",
      "\n",
      "Minimizer iterations                        5\n",
      "Successful steps                            5\n",
      "Unsuccessful steps                          0\n",
      "\n",
      "Time (in seconds):\n",
      "Preprocessor                           0.0001\n",
      "\n",
      "  Residual evaluation                  0.0001\n",
      "  Jacobian evaluation                  0.0007\n",
      "  Linear solver                        0.0001\n",
      "Minimizer                              0.0013\n",
      "\n",
      "Postprocessor                          0.0000\n",
      "Total                                  0.0014\n",
      "\n",
      "Termination:                      CONVERGENCE (Parameter tolerance reached. Relative step_norm: 6.119054e-10 <= 1.000000e-08.)\n",
      "\n"
     ]
    }
   ],
   "source": [
    "initial_motor = vsr.Mot(1.0, 0.0, 0.0, 0.0, 0.0, 0.0, 0.0, 0.0)\n",
    "mes = MotorEstimationSolver(initial_motor)\n",
    "for a, b in zip(points_a, points_b):\n",
    "    mes.add_point_correspondences_residual_block(a,b)\n",
    "mes.set_parameterization('BIVECTOR_GENERATOR')\n",
    "mes.linear_solver_type = 'DENSE_QR'\n",
    "(estimated_motor, summary) = mes.solve()\n",
    "print(summary['full_report'])"
   ]
  },
  {
   "cell_type": "markdown",
   "metadata": {
    "collapsed": false
   },
   "source": [
    "#### Check solution"
   ]
  },
  {
   "cell_type": "code",
   "execution_count": 10,
   "metadata": {
    "collapsed": false,
    "scrolled": true
   },
   "outputs": [
    {
     "name": "stdout",
     "output_type": "stream",
     "text": [
      "[ 0.866  0.    -0.5    0.    -0.683 -0.433 -0.183 -0.25 ]\n",
      "[ 0.866 -0.    -0.5   -0.    -0.683 -0.433 -0.183 -0.25 ]\n",
      "True\n"
     ]
    }
   ],
   "source": [
    "print(np.array(motor))\n",
    "print(np.array(estimated_motor))\n",
    "print(np.allclose(np.array(motor), np.array(estimated_motor)))"
   ]
  },
  {
   "cell_type": "code",
   "execution_count": 11,
   "metadata": {
    "collapsed": false
   },
   "outputs": [
    {
     "name": "stdout",
     "output_type": "stream",
     "text": [
      "[True, True, True, True, True, True, True, True]\n"
     ]
    },
    {
     "data": {
      "text/plain": [
       "[6.1700866638148e-11,\n",
       " 2.563232119880271e-11,\n",
       " 1.0686934670545156e-10,\n",
       " 4.1963751725613409e-11,\n",
       " 7.3379746723389871e-11,\n",
       " 1.1449008407993233e-11,\n",
       " 1.8669882306809882e-10,\n",
       " 2.6123520013854318e-11]"
      ]
     },
     "execution_count": 11,
     "metadata": {},
     "output_type": "execute_result"
    }
   ],
   "source": [
    "rtol = 1e-1\n",
    "atol = 1e-9\n",
    "print([np.abs(a - b) <= atol + rtol * np.abs(b) for a, b in zip(np.array(motor), np.array(estimated_motor))])\n",
    "[np.abs(a - b) for a, b in zip(np.array(motor), np.array(estimated_motor))]"
   ]
  },
  {
   "cell_type": "markdown",
   "metadata": {},
   "source": [
    "## Motor Estimation from Lines"
   ]
  },
  {
   "cell_type": "markdown",
   "metadata": {},
   "source": [
    "### Dataset generation"
   ]
  },
  {
   "cell_type": "code",
   "execution_count": 17,
   "metadata": {
    "collapsed": false
   },
   "outputs": [],
   "source": [
    "lines_a = [vsr.Dll(vsr.Vec(*np.random.normal(0.0,0.8,3)),\n",
    "                   vsr.Vec(*np.random.normal(0.0,0.8,3)))\n",
    "          for i in range(10)]\n",
    "lines_b = [line.spin(motor) for line in lines_a]"
   ]
  },
  {
   "cell_type": "markdown",
   "metadata": {
    "collapsed": false
   },
   "source": [
    "### Estimate motor using 6 residuals"
   ]
  },
  {
   "cell_type": "markdown",
   "metadata": {},
   "source": [
    "$$ \\arg \\min_M \\frac{1}{2} \\sum_{i=1}^n \\left| M \\varLambda_{b_i} \\tilde{M} - \\varLambda_{a_i}  \\right| $$"
   ]
  },
  {
   "cell_type": "code",
   "execution_count": 18,
   "metadata": {
    "collapsed": false
   },
   "outputs": [
    {
     "name": "stdout",
     "output_type": "stream",
     "text": [
      "Ceres Solver Report: Iterations: 5, Initial cost: 3.325778e+01, Final cost: 7.972394e-26, Termination: CONVERGENCE\n"
     ]
    }
   ],
   "source": [
    "initial_motor = vsr.Mot(1.0, 0.0, 0.0, 0.0, 0.0, 0.0, 0.0, 0.0)\n",
    "mes = MotorEstimationSolver(initial_motor)\n",
    "for a, b in zip(lines_a, lines_b):\n",
    "    mes.add_line_correspondences_residual_block(a,b)\n",
    "mes.set_parameterization('BIVECTOR_GENERATOR')\n",
    "mes.linear_solver_type = \"DENSE_QR\"\n",
    "estimated_motor, lin_summary_1 = mes.solve()\n",
    "print(lin_summary_1['brief_report'])"
   ]
  },
  {
   "cell_type": "markdown",
   "metadata": {
    "collapsed": false
   },
   "source": [
    "#### Check solution"
   ]
  },
  {
   "cell_type": "code",
   "execution_count": 19,
   "metadata": {
    "collapsed": false
   },
   "outputs": [
    {
     "name": "stdout",
     "output_type": "stream",
     "text": [
      "[ 0.866  0.    -0.5    0.    -0.683 -0.433 -0.183 -0.25 ]\n",
      "[ 0.866  0.    -0.5   -0.    -0.683 -0.433 -0.183 -0.25 ]\n",
      "True\n"
     ]
    }
   ],
   "source": [
    "print(np.array(motor))\n",
    "print(np.array(estimated_motor))\n",
    "print(np.allclose(np.array(motor), np.array(estimated_motor)))"
   ]
  },
  {
   "cell_type": "markdown",
   "metadata": {},
   "source": [
    "### Estimate motor using 4 residuals"
   ]
  },
  {
   "cell_type": "code",
   "execution_count": 13,
   "metadata": {
    "collapsed": false
   },
   "outputs": [
    {
     "ename": "NameError",
     "evalue": "name 'lines_a' is not defined",
     "output_type": "error",
     "traceback": [
      "\u001b[1;31m---------------------------------------------------------------------------\u001b[0m",
      "\u001b[1;31mNameError\u001b[0m                                 Traceback (most recent call last)",
      "\u001b[1;32m<ipython-input-13-d55922b6ae1d>\u001b[0m in \u001b[0;36m<module>\u001b[1;34m()\u001b[0m\n\u001b[0;32m      1\u001b[0m \u001b[0minitial_motor\u001b[0m \u001b[1;33m=\u001b[0m \u001b[0mvsr\u001b[0m\u001b[1;33m.\u001b[0m\u001b[0mMot\u001b[0m\u001b[1;33m(\u001b[0m\u001b[1;36m1.0\u001b[0m\u001b[1;33m,\u001b[0m \u001b[1;36m0.0\u001b[0m\u001b[1;33m,\u001b[0m \u001b[1;36m0.0\u001b[0m\u001b[1;33m,\u001b[0m \u001b[1;36m0.0\u001b[0m\u001b[1;33m,\u001b[0m \u001b[1;36m0.0\u001b[0m\u001b[1;33m,\u001b[0m \u001b[1;36m0.0\u001b[0m\u001b[1;33m,\u001b[0m \u001b[1;36m0.0\u001b[0m\u001b[1;33m,\u001b[0m \u001b[1;36m0.0\u001b[0m\u001b[1;33m)\u001b[0m\u001b[1;33m\u001b[0m\u001b[0m\n\u001b[0;32m      2\u001b[0m \u001b[0mmes\u001b[0m \u001b[1;33m=\u001b[0m \u001b[0mMotorEstimationSolver\u001b[0m\u001b[1;33m(\u001b[0m\u001b[0minitial_motor\u001b[0m\u001b[1;33m)\u001b[0m\u001b[1;33m\u001b[0m\u001b[0m\n\u001b[1;32m----> 3\u001b[1;33m \u001b[1;32mfor\u001b[0m \u001b[0ma\u001b[0m\u001b[1;33m,\u001b[0m \u001b[0mb\u001b[0m \u001b[1;32min\u001b[0m \u001b[0mzip\u001b[0m\u001b[1;33m(\u001b[0m\u001b[0mlines_a\u001b[0m\u001b[1;33m,\u001b[0m \u001b[0mlines_b\u001b[0m\u001b[1;33m)\u001b[0m\u001b[1;33m:\u001b[0m\u001b[1;33m\u001b[0m\u001b[0m\n\u001b[0m\u001b[0;32m      4\u001b[0m     \u001b[0mmes\u001b[0m\u001b[1;33m.\u001b[0m\u001b[0madd_line_angle_distance_residual_block\u001b[0m\u001b[1;33m(\u001b[0m\u001b[0ma\u001b[0m\u001b[1;33m,\u001b[0m\u001b[0mb\u001b[0m\u001b[1;33m)\u001b[0m\u001b[1;33m\u001b[0m\u001b[0m\n\u001b[0;32m      5\u001b[0m \u001b[0mmes\u001b[0m\u001b[1;33m.\u001b[0m\u001b[0mset_parameterization\u001b[0m\u001b[1;33m(\u001b[0m\u001b[1;34m'BIVECTOR_GENERATOR'\u001b[0m\u001b[1;33m)\u001b[0m\u001b[1;33m\u001b[0m\u001b[0m\n",
      "\u001b[1;31mNameError\u001b[0m: name 'lines_a' is not defined"
     ]
    }
   ],
   "source": [
    "initial_motor = vsr.Mot(1.0, 0.0, 0.0, 0.0, 0.0, 0.0, 0.0, 0.0)\n",
    "mes = MotorEstimationSolver(initial_motor)\n",
    "for a, b in zip(lines_a, lines_b):\n",
    "    mes.add_line_angle_distance_residual_block(a,b)\n",
    "mes.set_parameterization('BIVECTOR_GENERATOR')\n",
    "mes.linear_solver_type = \"DENSE_QR\"\n",
    "estimated_motor, lin_summary_2 = mes.solve()\n",
    "print(lin_summary_2['full_report'])"
   ]
  },
  {
   "cell_type": "markdown",
   "metadata": {},
   "source": [
    "#### Check solution"
   ]
  },
  {
   "cell_type": "code",
   "execution_count": 21,
   "metadata": {
    "collapsed": false
   },
   "outputs": [
    {
     "name": "stdout",
     "output_type": "stream",
     "text": [
      "[ 0.866  0.    -0.5    0.    -0.683 -0.433 -0.183 -0.25 ]\n",
      "[ 0.8661 -0.0001 -0.4999  0.     -0.6831 -0.4329 -0.1832 -0.2499]\n",
      "False\n",
      "True\n"
     ]
    }
   ],
   "source": [
    "print(np.array(motor))\n",
    "print(np.array(estimated_motor))\n",
    "print(np.allclose(np.array(motor), np.array(estimated_motor)))\n",
    "print(np.allclose(np.array(motor), np.array(estimated_motor), \n",
    "                  rtol=1e-05, atol=1e-03))"
   ]
  },
  {
   "cell_type": "code",
   "execution_count": 22,
   "metadata": {
    "collapsed": false
   },
   "outputs": [
    {
     "data": {
      "text/plain": [
       "[True, True, True, True, True, True, True, True]"
      ]
     },
     "execution_count": 22,
     "metadata": {},
     "output_type": "execute_result"
    }
   ],
   "source": [
    "rtol = 1e-5\n",
    "atol = 1e-3\n",
    "[np.abs(a - b) <= atol + rtol * np.abs(b) for a, b in zip(np.array(motor), np.array(estimated_motor))]"
   ]
  },
  {
   "cell_type": "markdown",
   "metadata": {
    "collapsed": false
   },
   "source": [
    "### Estimate motor using 2 residuals"
   ]
  },
  {
   "cell_type": "code",
   "execution_count": 23,
   "metadata": {
    "collapsed": false
   },
   "outputs": [
    {
     "name": "stdout",
     "output_type": "stream",
     "text": [
      "\n",
      "Solver Summary (v 1.11.0-eigen-(3.2.8)-lapack-suitesparse-(4.4.4)-cxsparse-(3.1.4)-no_openmp)\n",
      "\n",
      "                                     Original                  Reduced\n",
      "Parameter blocks                            1                        1\n",
      "Parameters                                  8                        8\n",
      "Effective parameters                        6                        6\n",
      "Residual blocks                            10                       10\n",
      "Residual                                   20                       20\n",
      "\n",
      "Minimizer                        TRUST_REGION\n",
      "\n",
      "Dense linear algebra library            EIGEN\n",
      "Trust region strategy     LEVENBERG_MARQUARDT\n",
      "\n",
      "                                        Given                     Used\n",
      "Linear solver                        DENSE_QR                 DENSE_QR\n",
      "Threads                                     1                        1\n",
      "Linear solver threads                       1                        1\n",
      "\n",
      "Cost:\n",
      "Initial                          2.812992e+01\n",
      "Final                            1.250000e+00\n",
      "Change                           2.687992e+01\n",
      "\n",
      "Minimizer iterations                       17\n",
      "Successful steps                           12\n",
      "Unsuccessful steps                          5\n",
      "\n",
      "Time (in seconds):\n",
      "Preprocessor                           0.0000\n",
      "\n",
      "  Residual evaluation                  0.0000\n",
      "  Jacobian evaluation                  0.0411\n",
      "  Linear solver                        0.0000\n",
      "Minimizer                              0.0413\n",
      "\n",
      "Postprocessor                          0.0000\n",
      "Total                                  0.0413\n",
      "\n",
      "Termination:                      CONVERGENCE (Function tolerance reached. |cost_change|/cost: 1.873879e-07 <= 1.000000e-06)\n",
      "\n"
     ]
    }
   ],
   "source": [
    "initial_motor = vsr.Mot(1.0, 0.0, 0.0, 0.0, 0.0, 0.0, 0.0, 0.0)\n",
    "mes = MotorEstimationSolver(initial_motor)\n",
    "for a, b in zip(lines_a, lines_b):\n",
    "    mes.add_line_angle_distance_norm_residual_block(a,b)\n",
    "mes.set_parameterization('BIVECTOR_GENERATOR')\n",
    "mes.linear_solver_type = \"DENSE_QR\"\n",
    "estimated_motor, lin_summary_3 = mes.solve()\n",
    "print(lin_summary_3['full_report'])"
   ]
  },
  {
   "cell_type": "markdown",
   "metadata": {},
   "source": [
    "#### Check solution"
   ]
  },
  {
   "cell_type": "code",
   "execution_count": 24,
   "metadata": {
    "collapsed": false
   },
   "outputs": [
    {
     "name": "stdout",
     "output_type": "stream",
     "text": [
      "[ 0.866  0.    -0.5    0.    -0.683 -0.433 -0.183 -0.25 ]\n",
      "[ 0.866  -0.0002 -0.5    -0.0001 -0.6832 -0.4329 -0.1829 -0.2498]\n",
      "False\n",
      "True\n"
     ]
    }
   ],
   "source": [
    "print(np.array(motor))\n",
    "print(np.array(estimated_motor))\n",
    "print(np.allclose(np.array(motor), np.array(estimated_motor)))\n",
    "print(np.allclose(np.array(motor), np.array(estimated_motor), \n",
    "                  rtol=1e-05, atol=1e-03))"
   ]
  },
  {
   "cell_type": "markdown",
   "metadata": {},
   "source": [
    "### Plots"
   ]
  },
  {
   "cell_type": "code",
   "execution_count": 74,
   "metadata": {
    "collapsed": false
   },
   "outputs": [
    {
     "data": {
      "text/plain": [
       "<matplotlib.text.Text at 0x1164b1610>"
      ]
     },
     "execution_count": 74,
     "metadata": {},
     "output_type": "execute_result"
    },
    {
     "data": {
      "image/png": "[encoded data removed]",
      "text/plain": [
       "<matplotlib.figure.Figure at 0x1166e7610>"
      ]
     },
     "metadata": {},
     "output_type": "display_data"
    }
   ],
   "source": [
    "fig, ax = plt.subplots(1)\n",
    "\n",
    "# ax.set_aspect('equal')\n",
    "plt.set_cmap('gray')\n",
    "\n",
    "almost_black = '#262626'\n",
    "spines_to_remove = ['top', 'right']\n",
    "for spine in spines_to_remove:\n",
    "    ax.spines[spine].set_visible(False)\n",
    "ax.xaxis.set_ticks_position('none')\n",
    "ax.yaxis.set_ticks_position('none')\n",
    "\n",
    "spines_to_keep = ['bottom', 'left']\n",
    "for spine in spines_to_keep:\n",
    "    ax.spines[spine].set_linewidth(0.5)\n",
    "    ax.spines[spine].set_color(almost_black)\n",
    "ax.xaxis.label.set_color(almost_black)\n",
    "ax.yaxis.label.set_color(almost_black)\n",
    "\n",
    "ax.grid(True,which=\"both\", color='0.5')\n",
    "ax.set_axisbelow(True)\n",
    "\n",
    "ax.plot([it['cost'] for it in lin_summary_3['iterations'] ], label=r\"$2$-residuals\")\n",
    "ax.plot([it['cost'] for it in lin_summary_2['iterations'] ], label=r\"$4$-residuals\")\n",
    "ax.plot([it['cost'] for it in lin_summary_1['iterations'] ], label=r\"$6$-residuals\")\n",
    "\n",
    "ax.title.set_color(almost_black)\n",
    "ax.axhline(0, color=almost_black, linewidth=0.15)\n",
    "ax.axvline(0, color=almost_black, linewidth=0.15)\n",
    "\n",
    "\n",
    "\n",
    "# Remove the line around the legend box, and instead fill it with a light grey\n",
    "# Also only use one point for the scatterplot legend because the user will \n",
    "# get the idea after just one, they don't need three.\n",
    "light_grey = np.array([float(248)/float(255)]*3)\n",
    "legend = ax.legend(frameon=True, scatterpoints=1, bbox_to_anchor=(0.9, 0.8), bbox_transform=plt.gcf().transFigure)\n",
    "# legend = ax.legend(frameon=True, scatterpoints=1)\n",
    "\n",
    "rect = legend.get_frame()\n",
    "\n",
    "rect.set_facecolor(light_grey)\n",
    "rect.set_linewidth(0.0)\n",
    "\n",
    "ax.set_yscale(\"log\")\n",
    "\n",
    "plt.xlabel(r'Iteration $k$')\n",
    "plt.ylabel(r'Cost')\n",
    "\n",
    "\n",
    "# plt.savefig('/Users/lars/Dropbox/Apps/ShareLaTeX/2016-gacse/figures/cost_lines.pdf')"
   ]
  },
  {
   "cell_type": "code",
   "execution_count": null,
   "metadata": {
    "collapsed": false
   },
   "outputs": [],
   "source": []
  },
  {
   "cell_type": "code",
   "execution_count": 24,
   "metadata": {
    "collapsed": false
   },
   "outputs": [
    {
     "data": {
      "image/png": "[encoded data removed]",
      "text/plain": [
       "<matplotlib.figure.Figure at 0x107923950>"
      ]
     },
     "metadata": {},
     "output_type": "display_data"
    }
   ],
   "source": [
    "plt.figure(1)\n",
    "# plt.subplot(311)\n",
    "plt.plot([it['cost'] for it in lin_summary_1['iterations'] ])\n",
    "\n",
    "# plt.subplot(312)\n",
    "plt.plot([it['cost'] for it in lin_summary_2['iterations'] ])\n",
    "\n",
    "# plt.subplot(313)\n",
    "plt.plot([it['cost'] for it in lin_summary_3['iterations'] ])\n",
    "plt.savefig('/Users/lars/Dropbox/Apps/ShareLaTeX/2016-gacse/figures/cost_lines.pdf')"
   ]
  },
  {
   "cell_type": "code",
   "execution_count": 25,
   "metadata": {
    "collapsed": false
   },
   "outputs": [
    {
     "data": {
      "text/plain": [
       "[<matplotlib.lines.Line2D at 0x1073d1450>]"
      ]
     },
     "execution_count": 25,
     "metadata": {},
     "output_type": "execute_result"
    },
    {
     "data": {
      "image/png": "[encoded data removed]",
      "text/plain": [
       "<matplotlib.figure.Figure at 0x107a4ce90>"
      ]
     },
     "metadata": {},
     "output_type": "display_data"
    }
   ],
   "source": [
    "fig, ax = plt.subplots(1)\n",
    "ax.plot([it['gradient_max_norm'] for it in lin_summary_1['iterations'] ])\n",
    "ax.plot([it['gradient_max_norm'] for it in lin_summary_2['iterations'] ])\n",
    "ax.plot([it['gradient_max_norm'] for it in lin_summary_3['iterations'] ])"
   ]
  },
  {
   "cell_type": "markdown",
   "metadata": {},
   "source": [
    "## Motor Estimation from planes"
   ]
  },
  {
   "cell_type": "markdown",
   "metadata": {},
   "source": [
    "### Dataset generation"
   ]
  },
  {
   "cell_type": "code",
   "execution_count": 27,
   "metadata": {
    "collapsed": false
   },
   "outputs": [],
   "source": [
    "n_planes = 10\n",
    "planes_a = []\n",
    "for i in range(10):\n",
    "    dir_vec = np.random.normal(0.0, 0.8, 4)\n",
    "    dir_vec = dir_vec / np.linalg.norm(dir_vec)\n",
    "    distance = np.random.normal(0.0, 0.8,1)\n",
    "    arr = dir_vec + distance\n",
    "    planes_a.append(vsr.Dlp(dir_vec[0],dir_vec[1],dir_vec[2],distance[0]))\n",
    "planes_b = [plane.spin(motor) for plane in planes_a]"
   ]
  },
  {
   "cell_type": "markdown",
   "metadata": {},
   "source": [
    "### Estimate motor using 2 residuals"
   ]
  },
  {
   "cell_type": "code",
   "execution_count": 28,
   "metadata": {
    "collapsed": false
   },
   "outputs": [
    {
     "name": "stdout",
     "output_type": "stream",
     "text": [
      "Ceres Solver Report: Iterations: 7, Initial cost: 5.673069e+01, Final cost: 1.250000e+00, Termination: CONVERGENCE\n"
     ]
    }
   ],
   "source": [
    "motor = vsr.Vec(1,1,1).trs() * vsr.Rot(vsr.Biv(0,1,0) * np.pi/6.0)\n",
    "noise_motor_plane = vsr.Vec(0.1,0.1,0.1).trs() * vsr.Rot(vsr.Biv(1,0,0) * np.pi/24)\n",
    "initial_motor = vsr.Mot(1.0, 0.0, 0.0, 0.0, 0.0, 0.0, 0.0, 0.0)\n",
    "mes = MotorEstimationSolver(initial_motor)\n",
    "for a, b in zip(planes_a, planes_b):\n",
    "#     mes.add_dual_plane_angle_error_residual_block(a,b.spin(noise_motor_plane))\n",
    "    mes.add_dual_plane_angle_error_residual_block(a,b)\n",
    "\n",
    "mes.set_parameterization('BIVECTOR_GENERATOR')\n",
    "mes.linear_solver_type = \"DENSE_QR\"\n",
    "mes.function_tolerance = 1e-8\n",
    "mes.max_num_iterations = 100\n",
    "estimated_motor, pln_summary_1 = mes.solve()\n",
    "print(pln_summary_1['brief_report'])"
   ]
  },
  {
   "cell_type": "code",
   "execution_count": 29,
   "metadata": {
    "collapsed": false
   },
   "outputs": [
    {
     "name": "stdout",
     "output_type": "stream",
     "text": [
      "[ 0.866  0.    -0.5    0.    -0.683 -0.433 -0.183 -0.25 ]\n",
      "[ 0.866  0.    -0.5    0.    -0.683 -0.433 -0.183 -0.25 ]\n",
      "False\n",
      "True\n"
     ]
    }
   ],
   "source": [
    "print(np.array(motor))\n",
    "print(np.array(estimated_motor))\n",
    "print(np.allclose(np.array(motor), np.array(estimated_motor)))\n",
    "print(np.allclose(np.array(motor), np.array(estimated_motor), \n",
    "                  rtol=1e-05, atol=1e-03))"
   ]
  },
  {
   "cell_type": "code",
   "execution_count": 76,
   "metadata": {
    "collapsed": false
   },
   "outputs": [
    {
     "data": {
      "text/plain": [
       "<matplotlib.text.Text at 0x1142c6590>"
      ]
     },
     "execution_count": 76,
     "metadata": {},
     "output_type": "execute_result"
    },
    {
     "data": {
      "image/png": "[encoded data removed]",
      "text/plain": [
       "<matplotlib.figure.Figure at 0x1164b1190>"
      ]
     },
     "metadata": {},
     "output_type": "display_data"
    }
   ],
   "source": [
    "fig, ax = plt.subplots(1)\n",
    "\n",
    "# ax.set_aspect('equal')\n",
    "plt.set_cmap('gray')\n",
    "\n",
    "almost_black = '#262626'\n",
    "spines_to_remove = ['top', 'right']\n",
    "for spine in spines_to_remove:\n",
    "    ax.spines[spine].set_visible(False)\n",
    "ax.xaxis.set_ticks_position('none')\n",
    "ax.yaxis.set_ticks_position('none')\n",
    "\n",
    "spines_to_keep = ['bottom', 'left']\n",
    "for spine in spines_to_keep:\n",
    "    ax.spines[spine].set_linewidth(0.5)\n",
    "    ax.spines[spine].set_color(almost_black)\n",
    "ax.xaxis.label.set_color(almost_black)\n",
    "ax.yaxis.label.set_color(almost_black)\n",
    "\n",
    "ax.plot([it['cost'] for it in pln_summary_1['iterations'] ])\n",
    "\n",
    "ax.title.set_color(almost_black)\n",
    "ax.axhline(0, color=almost_black, linewidth=0.15)\n",
    "ax.axvline(0, color=almost_black, linewidth=0.15)\n",
    "\n",
    "# Remove the line around the legend box, and instead fill it with a light grey\n",
    "# Also only use one point for the scatterplot legend because the user will \n",
    "# get the idea after just one, they don't need three.\n",
    "\n",
    "# light_grey = np.array([float(248)/float(255)]*3)\n",
    "# legend = ax.legend(frameon=True, scatterpoints=1)\n",
    "# rect = legend.get_frame()\n",
    "# rect.set_facecolor(light_grey)\n",
    "# rect.set_linewidth(0.0)\n",
    "\n",
    "# ax.set_yscale('log')\n",
    "\n",
    "\n",
    "ax.grid(True,which=\"both\", color='0.5')\n",
    "ax.set_axisbelow(True)\n",
    "\n",
    "plt.xlabel(r'Iteration $k$')\n",
    "plt.ylabel(r'Cost')\n",
    "\n",
    "# plt.savefig('/Users/lars/Dropbox/Apps/ShareLaTeX/2016-gacse/figures/cost_planes.pdf')"
   ]
  },
  {
   "cell_type": "markdown",
   "metadata": {},
   "source": [
    "## Motor Estimation from tangents"
   ]
  },
  {
   "cell_type": "markdown",
   "metadata": {},
   "source": [
    "### Dataset generation"
   ]
  },
  {
   "cell_type": "code",
   "execution_count": 30,
   "metadata": {
    "collapsed": false
   },
   "outputs": [
    {
     "ename": "TypeError",
     "evalue": "Incompatible function arguments. The following argument types are supported:\n    1. (Tnv, Vec) -> None\n",
     "output_type": "error",
     "traceback": [
      "\u001b[0;31m---------------------------------------------------------------------------\u001b[0m",
      "\u001b[0;31mTypeError\u001b[0m                                 Traceback (most recent call last)",
      "\u001b[0;32m<ipython-input-30-20d074db0df6>\u001b[0m in \u001b[0;36m<module>\u001b[0;34m()\u001b[0m\n\u001b[1;32m      5\u001b[0m     \u001b[0mdir_vec\u001b[0m \u001b[0;34m=\u001b[0m \u001b[0mdir_vec\u001b[0m \u001b[0;34m/\u001b[0m \u001b[0mnp\u001b[0m\u001b[0;34m.\u001b[0m\u001b[0mlinalg\u001b[0m\u001b[0;34m.\u001b[0m\u001b[0mnorm\u001b[0m\u001b[0;34m(\u001b[0m\u001b[0mdir_vec\u001b[0m\u001b[0;34m)\u001b[0m\u001b[0;34m\u001b[0m\u001b[0m\n\u001b[1;32m      6\u001b[0m     \u001b[0mpos\u001b[0m \u001b[0;34m=\u001b[0m \u001b[0mnp\u001b[0m\u001b[0;34m.\u001b[0m\u001b[0mrandom\u001b[0m\u001b[0;34m.\u001b[0m\u001b[0mnormal\u001b[0m\u001b[0;34m(\u001b[0m\u001b[0;36m0.0\u001b[0m\u001b[0;34m,\u001b[0m \u001b[0;36m0.8\u001b[0m\u001b[0;34m,\u001b[0m \u001b[0;36m3\u001b[0m\u001b[0;34m)\u001b[0m\u001b[0;34m\u001b[0m\u001b[0m\n\u001b[0;32m----> 7\u001b[0;31m     tangents_a.append(vsr.Tnv(vsr.Vec(*dir_vec)).spin(vsr.Vec(*pos).trs() * \n\u001b[0m\u001b[1;32m      8\u001b[0m                                              vsr.Rot(1,0,0,0)))\n\u001b[1;32m      9\u001b[0m \u001b[0;34m\u001b[0m\u001b[0m\n",
      "\u001b[0;31mTypeError\u001b[0m: Incompatible function arguments. The following argument types are supported:\n    1. (Tnv, Vec) -> None\n"
     ]
    }
   ],
   "source": [
    "n_tangents = 10\n",
    "tangents_a = []\n",
    "for i in range(n_tangents):\n",
    "    dir_vec = np.random.normal(0.0, 0.8, 3)\n",
    "    dir_vec = dir_vec / np.linalg.norm(dir_vec)\n",
    "    pos = np.random.normal(0.0, 0.8, 3)\n",
    "    tangents_a.append(vsr.Tnv(vsr.Vec(*dir_vec)).spin(vsr.Vec(*pos).trs() * \n",
    "                                             vsr.Rot(1,0,0,0)))\n",
    "\n",
    "tangents_b = [tangent.spin(motor) for tangent in tangents_a]"
   ]
  },
  {
   "cell_type": "markdown",
   "metadata": {},
   "source": [
    "### Estimate motors using flags"
   ]
  },
  {
   "cell_type": "code",
   "execution_count": null,
   "metadata": {
    "collapsed": false
   },
   "outputs": [],
   "source": [
    "motor = vsr.Vec(1,1,1).trs() * vsr.Rot(vsr.Biv(0,1,0) * np.pi/6.0)\n",
    "initial_motor = vsr.Mot(1.0, 0.0, 0.0, 0.0, 0.0, 0.0, 0.0, 0.0)\n",
    "mes = MotorEstimationSolver(initial_motor)\n",
    "for a, b in zip(tangents_a, tangents_b):\n",
    "    dir_vec = np.random.normal(0.0, 0.8, 3)\n",
    "    dir_vec = dir_vec / np.linalg.norm(dir_vec)\n",
    "    pos = np.random.normal(0.0, 0.01, 3)\n",
    "    angle = np.random.normal(0.0, pi/1000., 1)\n",
    "    noise_motor_tangent = vsr.Vec(*pos).trs() * vsr.Rot(vsr.Vec(*dir_vec).unduale() * angle[0])\n",
    "    b = b.spin(noise_motor_tangent)\n",
    "    mes.add_point_correspondences_residual_block(a.pnt(), b.pnt())\n",
    "    mes.add_line_correspondences_residual_block(a.lin().dual(), b.lin().dual())\n",
    "#     mes.add_tangent_vector_point_angle_error_residual_block(a,b)\n",
    "\n",
    "mes.set_parameterization('BIVECTOR_GENERATOR')\n",
    "mes.linear_solver_type = \"DENSE_QR\"\n",
    "mes.function_tolerance = 1e-8\n",
    "mes.max_num_iterations = 200\n",
    "em, summary = mes.solve()\n",
    "print(motor)\n",
    "print(em)\n",
    "print(summary['brief_report'])"
   ]
  },
  {
   "cell_type": "markdown",
   "metadata": {},
   "source": [
    "### Estimate motor"
   ]
  },
  {
   "cell_type": "code",
   "execution_count": null,
   "metadata": {
    "collapsed": false
   },
   "outputs": [],
   "source": [
    "motor = vsr.Vec(1,1,1).trs() * vsr.Rot(vsr.Biv(0,1,0) * np.pi/6.0)\n",
    "initial_motor = vsr.Mot(1.0, 0.0, 0.0, 0.0, 0.0, 0.0, 0.0, 0.0)\n",
    "mes = MotorEstimationSolver(initial_motor)\n",
    "for a, b in zip(tangents_a, tangents_b):\n",
    "    mes.add_tangent_vector_point_angle_error_residual_block(a,b)\n",
    "\n",
    "mes.set_parameterization('BIVECTOR_GENERATOR')\n",
    "mes.linear_solver_type = \"DENSE_QR\"\n",
    "mes.function_tolerance = 1e-8\n",
    "mes.max_num_iterations = 2000\n",
    "em, summary = mes.solve()\n",
    "print(initial_motor)\n",
    "print(motor)\n",
    "print(em)\n",
    "print(summary['full_report'])"
   ]
  },
  {
   "cell_type": "markdown",
   "metadata": {},
   "source": [
    "## Motor Estimation from Circles"
   ]
  },
  {
   "cell_type": "markdown",
   "metadata": {},
   "source": [
    "### Dataset generation"
   ]
  },
  {
   "cell_type": "code",
   "execution_count": null,
   "metadata": {
    "collapsed": false
   },
   "outputs": [],
   "source": [
    "n_circles = 5\n",
    "circles_a = []\n",
    "for i in range(n_circles):\n",
    "    dir_vec = np.random.normal(0.0, 0.8, 3)\n",
    "    dir_vec = dir_vec / np.linalg.norm(dir_vec)\n",
    "    pos = np.random.normal(0.0, 0.8, 3)\n",
    "    radius = np.random.normal(0.0, 0.8, 1)\n",
    "    circles_a.append(vsr.Cir(vsr.Vec(*pos).null(), radius[0], \n",
    "                             vsr.Vec(*(dir_vec)).unduale()))\n",
    "\n",
    "circles_b = [circle.spin(motor) for circle in circles_a]"
   ]
  },
  {
   "cell_type": "markdown",
   "metadata": {},
   "source": [
    "### Estimate motor"
   ]
  },
  {
   "cell_type": "code",
   "execution_count": null,
   "metadata": {
    "collapsed": false
   },
   "outputs": [],
   "source": [
    "motor = vsr.Vec(1,1,1).trs() * vsr.Rot(vsr.Biv(0,1,0) * np.pi/6.0)\n",
    "initial_motor = vsr.Mot(1.0, 0.0, 0.0, 0.0, 0.0, 0.0, 0.0, 0.0)\n",
    "mes = MotorEstimationSolver(initial_motor)\n",
    "for a, b in zip(circles_a, circles_b):\n",
    "#     mes.add_point_correspondences_residual_block(a.pnt(), b.pnt())\n",
    "    mes.add_dual_plane_angle_error_residual_block(a.pln().dual(), b.pln().dual())\n",
    "\n",
    "mes.set_parameterization('BIVECTOR_GENERATOR')\n",
    "mes.linear_solver_type = \"DENSE_QR\"\n",
    "mes.function_tolerance = 1e-6\n",
    "mes.max_num_iterations = 2000\n",
    "em, summary = mes.solve()\n",
    "print(initial_motor)\n",
    "print(motor)\n",
    "print(em)\n",
    "print(summary['full_report'])"
   ]
  },
  {
   "cell_type": "markdown",
   "metadata": {},
   "source": [
    "## Motor Estimation from Spheres"
   ]
  },
  {
   "cell_type": "markdown",
   "metadata": {},
   "source": [
    "### Dataset generation"
   ]
  },
  {
   "cell_type": "code",
   "execution_count": null,
   "metadata": {
    "collapsed": false
   },
   "outputs": [],
   "source": [
    "n_spheres = 5\n",
    "spheres_a = []\n",
    "for i in range(n_spheres):\n",
    "    pos = np.random.normal(0.0, 0.8, 3)\n",
    "    radius = np.random.normal(0.0, 0.8, 1)\n",
    "    spheres_a.append(vsr.Sph(vsr.Vec(*pos).null(), radius[0]))\n",
    "spheres_b = [sphere.spin(motor) for sphere in spheres_a]"
   ]
  },
  {
   "cell_type": "markdown",
   "metadata": {},
   "source": [
    "### Estimate motor"
   ]
  },
  {
   "cell_type": "code",
   "execution_count": null,
   "metadata": {
    "collapsed": false
   },
   "outputs": [],
   "source": [
    "motor = vsr.Vec(1,1,1).trs() * vsr.Rot(vsr.Biv(0,1,0) * np.pi/6.0)\n",
    "initial_motor = vsr.Mot(1.0, 0.0, 0.0, 0.0, 0.0, 0.0, 0.0, 0.0)\n",
    "mes = MotorEstimationSolver(initial_motor)\n",
    "for a, b in zip(spheres_a, spheres_b):\n",
    "    mes.add_point_correspondences_residual_block(a.pnt(),b.pnt())\n",
    "mes.set_parameterization('BIVECTOR_GENERATOR')\n",
    "mes.linear_solver_type = 'DENSE_QR'\n",
    "(estimated_motor, summary) = mes.solve()\n",
    "print(summary['brief_report'])"
   ]
  },
  {
   "cell_type": "markdown",
   "metadata": {},
   "source": [
    "## Motor Estimation from heterogeneous conformal objects"
   ]
  },
  {
   "cell_type": "code",
   "execution_count": 32,
   "metadata": {
    "collapsed": false
   },
   "outputs": [
    {
     "name": "stdout",
     "output_type": "stream",
     "text": [
      "Mot: [ 1 0 0 0 0 0 0 0 ]\n",
      "Mot: [ 0.87 0 -0.5 0 -0.68 -0.43 -0.18 -0.25 ]\n",
      "Mot: [ 0.87 5.3e-07 -0.5 -7.1e-07 -0.68 -0.43 -0.18 -0.25 ]\n",
      "[ 0.866  0.    -0.5    0.    -0.683 -0.433 -0.183 -0.25 ]\n",
      "[ 0.866  0.    -0.5    0.    -0.683 -0.433 -0.183 -0.25 ]\n",
      "False\n",
      "True\n",
      "\n",
      "Solver Summary (v 1.11.0-eigen-(3.2.8)-lapack-suitesparse-(4.4.4)-cxsparse-(3.1.4)-no_openmp)\n",
      "\n",
      "                                     Original                  Reduced\n",
      "Parameter blocks                            1                        1\n",
      "Parameters                                  8                        8\n",
      "Effective parameters                        6                        6\n",
      "Residual blocks                            30                       30\n",
      "Residual                                  110                      110\n",
      "\n",
      "Minimizer                        TRUST_REGION\n",
      "\n",
      "Dense linear algebra library            EIGEN\n",
      "Trust region strategy     LEVENBERG_MARQUARDT\n",
      "\n",
      "                                        Given                     Used\n",
      "Linear solver                        DENSE_QR                 DENSE_QR\n",
      "Threads                                     1                        1\n",
      "Linear solver threads                       1                        1\n",
      "\n",
      "Cost:\n",
      "Initial                          1.113097e+02\n",
      "Final                            1.250000e+00\n",
      "Change                           1.100597e+02\n",
      "\n",
      "Minimizer iterations                        4\n",
      "Successful steps                            4\n",
      "Unsuccessful steps                          0\n",
      "\n",
      "Time (in seconds):\n",
      "Preprocessor                           0.0000\n",
      "\n",
      "  Residual evaluation                  0.0000\n",
      "  Jacobian evaluation                  0.0002\n",
      "  Linear solver                        0.0000\n",
      "Minimizer                              0.0003\n",
      "\n",
      "Postprocessor                          0.0000\n",
      "Total                                  0.0003\n",
      "\n",
      "Termination:                      CONVERGENCE (Function tolerance reached. |cost_change|/cost: 4.560095e-10 <= 1.000000e-06)\n",
      "\n"
     ]
    }
   ],
   "source": [
    "motor = vsr.Vec(1,1,1).trs() * vsr.Rot(vsr.Biv(0,1,0) * np.pi/6.0)\n",
    "noise_motor = vsr.Vec(0.1,0.1,0.1).trs() * vsr.Rot(vsr.Biv(1,0,0) * np.pi/100)\n",
    "\n",
    "noise_motor_plane = vsr.Vec(0.05,0.05,0.05).trs() * vsr.Rot(vsr.Biv(1,0,0) * np.pi/100)\n",
    "noise_motor_lines = vsr.Vec(-0.01,-0.01,-0.01).trs() * vsr.Rot(vsr.Biv(0,1,0) * (-np.pi/100))\n",
    "noise_motor_points = vsr.Vec(0.1,0.1,0.1).trs() * vsr.Rot(vsr.Biv(0,0,1) * (np.pi/100))\n",
    "\n",
    "initial_motor = vsr.Mot(1.0, 0.0, 0.0, 0.0, 0.0, 0.0, 0.0, 0.0)\n",
    "mes = MotorEstimationSolver(initial_motor)\n",
    "for a, b in zip(planes_a, planes_b):\n",
    "    mes.add_dual_plane_angle_error_residual_block(a,b)\n",
    "for a, b in zip(lines_a, lines_b):\n",
    "    mes.add_line_correspondences_residual_block(a,b)\n",
    "for a, b in zip(points_a, points_b):\n",
    "    mes.add_point_correspondences_residual_block(a,b)\n",
    "    \n",
    "    \n",
    "\n",
    "mes.set_parameterization('BIVECTOR_GENERATOR')\n",
    "mes.linear_solver_type = \"DENSE_QR\"\n",
    "# mes.function_tolerance = 1e-8\n",
    "mes.max_num_iterations = 100\n",
    "em, summary_het = mes.solve()\n",
    "print(initial_motor)\n",
    "print(motor)\n",
    "print(em)\n",
    "print(np.array(motor))\n",
    "print(np.array(estimated_motor))\n",
    "print(np.allclose(np.array(motor), np.array(estimated_motor)))\n",
    "print(np.allclose(np.array(motor), np.array(estimated_motor), \n",
    "                  rtol=1e-05, atol=1e-5))\n",
    "print(summary_het['full_report'])"
   ]
  },
  {
   "cell_type": "code",
   "execution_count": 33,
   "metadata": {
    "collapsed": false
   },
   "outputs": [
    {
     "name": "stdout",
     "output_type": "stream",
     "text": [
      "Mot: [ 1 0 0 0 0 0 0 0 ]\n",
      "Mot: [ 0.87 0 -0.5 0 -0.68 -0.43 -0.18 -0.25 ]\n",
      "Mot: [ 0.87 -0.012 -0.49 -0.01 -0.72 -0.44 -0.19 -0.24 ]\n",
      "\n",
      "Solver Summary (v 1.11.0-eigen-(3.2.8)-lapack-suitesparse-(4.4.4)-cxsparse-(3.1.4)-no_openmp)\n",
      "\n",
      "                                     Original                  Reduced\n",
      "Parameter blocks                            1                        1\n",
      "Parameters                                  8                        8\n",
      "Effective parameters                        6                        6\n",
      "Residual blocks                            30                       30\n",
      "Residual                                  110                      110\n",
      "\n",
      "Minimizer                        TRUST_REGION\n",
      "\n",
      "Dense linear algebra library            EIGEN\n",
      "Trust region strategy     LEVENBERG_MARQUARDT\n",
      "\n",
      "                                        Given                     Used\n",
      "Linear solver                        DENSE_QR                 DENSE_QR\n",
      "Threads                                     1                        1\n",
      "Linear solver threads                       1                        1\n",
      "\n",
      "Cost:\n",
      "Initial                          1.159394e+02\n",
      "Final                            1.548959e+00\n",
      "Change                           1.143905e+02\n",
      "\n",
      "Minimizer iterations                       14\n",
      "Successful steps                            9\n",
      "Unsuccessful steps                          5\n",
      "\n",
      "Time (in seconds):\n",
      "Preprocessor                           0.0000\n",
      "\n",
      "  Residual evaluation                  0.0001\n",
      "  Jacobian evaluation                  0.0004\n",
      "  Linear solver                        0.0001\n",
      "Minimizer                              0.0006\n",
      "\n",
      "Postprocessor                          0.0000\n",
      "Total                                  0.0006\n",
      "\n",
      "Termination:                      CONVERGENCE (Function tolerance reached. |cost_change|/cost: 7.217626e-08 <= 1.000000e-06)\n",
      "\n"
     ]
    }
   ],
   "source": [
    "motor = vsr.Vec(1,1,1).trs() * vsr.Rot(vsr.Biv(0,1,0) * np.pi/6.0)\n",
    "noise_motor = vsr.Vec(0.1,0.1,0.1).trs() * vsr.Rot(vsr.Biv(1,0,0) * np.pi/100)\n",
    "\n",
    "noise_motor_planes = vsr.Vec(0.05,0.05,0.05).trs() * vsr.Rot(vsr.Biv(1,0,0) * np.pi/100)\n",
    "noise_motor_lines = vsr.Vec(-0.01,-0.01,-0.01).trs() * vsr.Rot(vsr.Biv(0,1,0) * (-np.pi/100))\n",
    "noise_motor_points = vsr.Vec(0.1,0.1,0.1).trs() * vsr.Rot(vsr.Biv(0,0,1) * (np.pi/100))\n",
    "\n",
    "initial_motor = vsr.Mot(1.0, 0.0, 0.0, 0.0, 0.0, 0.0, 0.0, 0.0)\n",
    "mes = MotorEstimationSolver(initial_motor)\n",
    "for a, b in zip(planes_a, planes_b):\n",
    "    mes.add_dual_plane_angle_error_residual_block(a,b.spin(noise_motor_plane))\n",
    "for a, b in zip(lines_a, lines_b):\n",
    "    mes.add_line_correspondences_residual_block(a,b.spin(noise_motor_lines))\n",
    "for a, b in zip(points_a, points_b):\n",
    "    mes.add_point_correspondences_residual_block(a,b.spin(noise_motor_points))\n",
    "    \n",
    "    \n",
    "\n",
    "mes.set_parameterization('BIVECTOR_GENERATOR')\n",
    "mes.linear_solver_type = \"DENSE_QR\"\n",
    "# mes.function_tolerance = 1e-8\n",
    "mes.max_num_iterations = 100\n",
    "em, summary_het_noise = mes.solve()\n",
    "print(initial_motor)\n",
    "print(motor)\n",
    "print(em)\n",
    "print(summary_het_noise['full_report'])"
   ]
  },
  {
   "cell_type": "code",
   "execution_count": 77,
   "metadata": {
    "collapsed": false
   },
   "outputs": [
    {
     "data": {
      "image/png": "[encoded data removed]",
      "text/plain": [
       "<matplotlib.figure.Figure at 0x115d54710>"
      ]
     },
     "metadata": {},
     "output_type": "display_data"
    }
   ],
   "source": [
    "fig, ax = plt.subplots(1)\n",
    "\n",
    "# ax.set_aspect('equal')\n",
    "plt.set_cmap('gray')\n",
    "\n",
    "almost_black = '#262626'\n",
    "spines_to_remove = ['top', 'right']\n",
    "for spine in spines_to_remove:\n",
    "    ax.spines[spine].set_visible(False)\n",
    "ax.xaxis.set_ticks_position('none')\n",
    "ax.yaxis.set_ticks_position('none')\n",
    "\n",
    "spines_to_keep = ['bottom', 'left']\n",
    "for spine in spines_to_keep:\n",
    "    ax.spines[spine].set_linewidth(0.5)\n",
    "    ax.spines[spine].set_color(almost_black)\n",
    "ax.xaxis.label.set_color(almost_black)\n",
    "ax.yaxis.label.set_color(almost_black)\n",
    "\n",
    "ax.plot([it['cost'] for it in summary_het['iterations'] ], label=\"Without noise\")\n",
    "ax.plot([it['cost'] for it in summary_het_noise['iterations']], label=\"With noise\")\n",
    "\n",
    "\n",
    "ax.title.set_color(almost_black)\n",
    "ax.axhline(0, color=almost_black, linewidth=0.15)\n",
    "ax.axvline(0, color=almost_black, linewidth=0.15)\n",
    "\n",
    "# Remove the line around the legend box, and instead fill it with a light grey\n",
    "# Also only use one point for the scatterplot legend because the user will \n",
    "# get the idea after just one, they don't need three.\n",
    "\n",
    "light_grey = np.array([float(248)/float(255)]*3)\n",
    "legend = ax.legend(frameon=True, scatterpoints=1)\n",
    "\n",
    "rect = legend.get_frame()\n",
    "rect.set_facecolor(light_grey)\n",
    "rect.set_linewidth(0.0)\n",
    "\n",
    "ax.set_yscale('log')\n",
    "\n",
    "ax.grid(True,which=\"both\", color='0.5')\n",
    "ax.set_axisbelow(True)\n",
    "\n",
    "plt.xlabel(r'Iteration $k$')\n",
    "plt.ylabel(r'Cost')\n",
    "\n",
    "\n",
    "plt.savefig('/Users/lars/Dropbox/Apps/ShareLaTeX/2016-gacse/figures/cost_heterogeneous.pdf')"
   ]
  },
  {
   "cell_type": "markdown",
   "metadata": {},
   "source": [
    "## Hand Eye Calibration"
   ]
  },
  {
   "cell_type": "markdown",
   "metadata": {},
   "source": [
    "### Set up motors"
   ]
  },
  {
   "cell_type": "code",
   "execution_count": 107,
   "metadata": {
    "collapsed": false
   },
   "outputs": [],
   "source": [
    "M_object_in_world = vsr.Vec(1.0,1.0,0.1).trs() * vsr.Biv(pi/4.0, 0.0,0.0).exp()\n",
    "M_eye_in_hand = vsr.Vec(0.1, 0.2, 0.3).trs() * (vsr.Biv(0.0,1.0,0.0).unit() * pi/6.).exp()\n",
    "M_eye_in_hand_initial = vsr.Vec(0.11, 0.24, 0.36).trs() * (vsr.Biv(1.0,1.0,0.0).unit() * (np.pi/5.)).exp()"
   ]
  },
  {
   "cell_type": "markdown",
   "metadata": {},
   "source": [
    "### Dataset generation"
   ]
  },
  {
   "cell_type": "code",
   "execution_count": 119,
   "metadata": {
    "collapsed": true
   },
   "outputs": [],
   "source": [
    "def hand_eye_pose_pairs(M_object_in_world, M_eye_in_hand, n):\n",
    "    pose_pairs = [\n",
    "            (M_hand_in_world, \n",
    "             (M_eye_in_hand.rev() * M_hand_in_world.rev() * M_object_in_world))\n",
    "            for M_hand_in_world in [vsr.Vec(*np.random.rand(3)).trs() *\n",
    "                                    vsr.Rot(vsr.Biv(*np.random.rand(3)).unit() *\n",
    "                                            np.random.rand() * np.pi)\n",
    "                                    for i in range(n)]]\n",
    "\n",
    "    As = [pose_pair[0] for pose_pair in pose_pairs]\n",
    "    Bs = [pose_pair[1] for pose_pair in pose_pairs]\n",
    "\n",
    "    LAs = []\n",
    "    LBs = []\n",
    "    for i in range(n):\n",
    "        for j in range(i+1,n):\n",
    "            LAs.append(As[j].rev() * As[i])\n",
    "            LBs.append(Bs[j] * Bs[i].rev())\n",
    "    return LAs, LBs"
   ]
  },
  {
   "cell_type": "code",
   "execution_count": 122,
   "metadata": {
    "collapsed": false
   },
   "outputs": [],
   "source": [
    "n_lines = 10\n",
    "lines_a, lines_b = hand_eye_pose_pairs(M_object_in_world, M_eye_in_hand, n_lines)"
   ]
  },
  {
   "cell_type": "markdown",
   "metadata": {},
   "source": [
    "### Estimate hand-eye motor "
   ]
  },
  {
   "cell_type": "code",
   "execution_count": 71,
   "metadata": {
    "collapsed": false
   },
   "outputs": [],
   "source": [
    "mes = MotorEstimationSolver(M_eye_in_hand_initial)\n",
    "for a, b in zip(lines_a, lines_b):\n",
    "    mes.add_line_angle_distance_residual_block(a,b)\n",
    "mes.set_parameterization('BIVECTOR_GENERATOR')\n",
    "mes.linear_solver_type = \"DENSE_QR\"\n",
    "mes.function_tolerance = 1e-16\n",
    "estimated_motor, summary = mes.solve()\n",
    "# print(summary['full_report'])"
   ]
  },
  {
   "cell_type": "markdown",
   "metadata": {
    "collapsed": false
   },
   "source": [
    "#### Check solution"
   ]
  },
  {
   "cell_type": "code",
   "execution_count": 72,
   "metadata": {
    "collapsed": false
   },
   "outputs": [
    {
     "name": "stdout",
     "output_type": "stream",
     "text": [
      "[ 0.866   0.     -0.5     0.     -0.1183 -0.0866 -0.1049 -0.05  ]\n",
      "[ 0.866  -0.      0.5     0.      0.1183  0.0866  0.1049 -0.05  ]\n",
      "False\n"
     ]
    }
   ],
   "source": [
    "print(np.array(M_eye_in_hand))\n",
    "print(np.array(estimated_motor))\n",
    "print(np.allclose(np.array(M_eye_in_hand), np.array(estimated_motor)))"
   ]
  },
  {
   "cell_type": "markdown",
   "metadata": {},
   "source": [
    "### Real Experiment"
   ]
  },
  {
   "cell_type": "code",
   "execution_count": 73,
   "metadata": {
    "collapsed": false
   },
   "outputs": [],
   "source": [
    "import cPickle as pickle\n",
    "import math3d as m3d"
   ]
  },
  {
   "cell_type": "markdown",
   "metadata": {},
   "source": [
    "#### Dataset generation"
   ]
  },
  {
   "cell_type": "code",
   "execution_count": 41,
   "metadata": {
    "collapsed": false
   },
   "outputs": [],
   "source": [
    "rob_pose_list = pickle.load(open('../data/pose_list.dump'))\n",
    "obj_pose_list = pickle.load(open('../data/obj_pose_list.dump'))\n",
    "a_trfs = pickle.load(open('../data/as.dump'))\n",
    "b_trfs = pickle.load(open('../data/bs.dump'))"
   ]
  },
  {
   "cell_type": "code",
   "execution_count": 42,
   "metadata": {
    "collapsed": false
   },
   "outputs": [],
   "source": [
    "rob_motors = [vsr.Vec(*pos).trs() * vsr.Rot(vsr.Vec(*axis).unduale() * angle / 2.)\n",
    "              for pos, (axis, angle) in [(m3d.Transform(pose).pos, \n",
    "                                          m3d.Transform(pose).orient.axis_angle)\n",
    "                                         for pose in rob_pose_list]]\n",
    "obj_motors = [vsr.Vec(*pos).trs() * vsr.Rot(vsr.Vec(*axis).unduale() * angle / 2.)\n",
    "              for pos, (axis, angle) in [(m3d.Transform(pose).pos, \n",
    "                                          m3d.Transform(pose).orient.axis_angle)\n",
    "                                         for pose in obj_pose_list]]"
   ]
  },
  {
   "cell_type": "code",
   "execution_count": 81,
   "metadata": {
    "collapsed": false
   },
   "outputs": [],
   "source": [
    "n_lines = len(rob_motors)\n",
    "lines_a = []\n",
    "lines_b = []\n",
    "for i in range(n_lines):\n",
    "    for j in range(i+1,n_lines):\n",
    "        lines_a.append(((rob_motors[j].rev() * rob_motors[i]).log() * 0.5).unit())\n",
    "        lines_b.append(((obj_motors[j].rev() * obj_motors[i]).log() * 0.5).unit())"
   ]
  },
  {
   "cell_type": "code",
   "execution_count": 44,
   "metadata": {
    "collapsed": false
   },
   "outputs": [],
   "source": [
    "n_lines = len(a_trfs)\n",
    "motors_a = [vsr.Vec(*pos).trs() * vsr.Rot(vsr.Vec(*axis).unduale() * angle / 2.)\n",
    "              for pos, (axis, angle) in [(m3d.Transform(pose).pos, \n",
    "                                          m3d.Transform(pose).orient.axis_angle)\n",
    "                                         for pose in a_trfs]]\n",
    "motors_b = [vsr.Vec(*pos).trs() * vsr.Rot(vsr.Vec(*axis).unduale() * angle / 2.)\n",
    "              for pos, (axis, angle) in [(m3d.Transform(pose).pos, \n",
    "                                          m3d.Transform(pose).orient.axis_angle)\n",
    "                                         for pose in b_trfs]]\n",
    "lines_a = [motor.log() for motor in motors_a]\n",
    "lines_b = [motor.log() for motor in motors_b]"
   ]
  },
  {
   "cell_type": "markdown",
   "metadata": {},
   "source": [
    "#### Estimate hand-eye motor"
   ]
  },
  {
   "cell_type": "code",
   "execution_count": 75,
   "metadata": {
    "collapsed": false
   },
   "outputs": [
    {
     "name": "stdout",
     "output_type": "stream",
     "text": [
      "\n",
      "Solver Summary (v 1.12.0-eigen-(3.2.92)-lapack-suitesparse-(4.4.6)-openmp)\n",
      "\n",
      "                                     Original                  Reduced\n",
      "Parameter blocks                            1                        1\n",
      "Parameters                                  8                        8\n",
      "Effective parameters                        6                        6\n",
      "Residual blocks                           210                      210\n",
      "Residual                                 1260                     1260\n",
      "\n",
      "Minimizer                        TRUST_REGION\n",
      "\n",
      "Dense linear algebra library            EIGEN\n",
      "Trust region strategy     LEVENBERG_MARQUARDT\n",
      "\n",
      "                                        Given                     Used\n",
      "Linear solver                        DENSE_QR                 DENSE_QR\n",
      "Threads                                     1                        1\n",
      "Linear solver threads                       1                        1\n",
      "\n",
      "Cost:\n",
      "Initial                          1.056910e+03\n",
      "Final                            3.056245e+00\n",
      "Change                           1.053854e+03\n",
      "\n",
      "Minimizer iterations                       14\n",
      "Successful steps                           14\n",
      "Unsuccessful steps                          0\n",
      "\n",
      "Time (in seconds):\n",
      "Preprocessor                           0.0001\n",
      "\n",
      "  Residual evaluation                  0.0010\n",
      "  Jacobian evaluation                  0.0230\n",
      "  Linear solver                        0.0022\n",
      "Minimizer                              0.0270\n",
      "\n",
      "Postprocessor                          0.0000\n",
      "Total                                  0.0271\n",
      "\n",
      "Termination:                      CONVERGENCE (Parameter tolerance reached. Relative step_norm: 3.906056e-09 <= 1.000000e-08.)\n",
      "\n"
     ]
    }
   ],
   "source": [
    "mes = MotorEstimationSolver(initial_motor)\n",
    "for a, b in zip(lines_a, lines_b):\n",
    "    mes.add_line_correspondences_residual_block(b,a)\n",
    "#     mes.add_line_angle_distance_residual_block(b,a)\n",
    "mes.set_parameterization('BIVECTOR_GENERATOR')\n",
    "mes.linear_solver_type = \"DENSE_QR\"\n",
    "mes.max_num_iterations = 25\n",
    "mes.function_tolerance = 1e-12\n",
    "estimated_motor, summary = mes.solve()\n",
    "print(summary['full_report'])"
   ]
  },
  {
   "cell_type": "code",
   "execution_count": 76,
   "metadata": {
    "collapsed": false
   },
   "outputs": [
    {
     "name": "stdout",
     "output_type": "stream",
     "text": [
      "Mot: [ 0.004 -0.0055 -0.68 -0.74 -0.044 -0.047 0.053 -0.0072 ]\n",
      "<Transform:\n",
      "<Orientation: \n",
      "array([[ 0.0835, -0.9965,  0.0027],\n",
      "       [-0.9964, -0.0835, -0.0134],\n",
      "       [ 0.0136, -0.0015, -0.9999]])>\n",
      "<Vector: (0.06106, 0.08873, 0.12802)>\n",
      ">\n"
     ]
    }
   ],
   "source": [
    "print(estimated_motor)\n",
    "print(m3d.Transform(estimated_motor.matrix()))"
   ]
  },
  {
   "cell_type": "markdown",
   "metadata": {
    "collapsed": true
   },
   "source": [
    "#### Combination of estimates"
   ]
  },
  {
   "cell_type": "code",
   "execution_count": 77,
   "metadata": {
    "collapsed": false
   },
   "outputs": [
    {
     "name": "stdout",
     "output_type": "stream",
     "text": [
      "<Transform:\n",
      "<Orientation: \n",
      "array([[ 0.731 ,  0.0077,  0.6823],\n",
      "       [-0.6824,  0.0042,  0.731 ],\n",
      "       [ 0.0028, -1.    ,  0.0083]])>\n",
      "<Vector: (-0.95963, -0.86260, 0.76400)>\n",
      ">\n"
     ]
    }
   ],
   "source": [
    "bivectors = [np.array((r * estimated_motor * o.rev()).log()) \n",
    "             for r, o in zip(rob_motors, obj_motors)]\n",
    "m = vsr.Dll(*np.average(bivectors,0)).exp()\n",
    "print(m3d.Transform(m.matrix()))"
   ]
  },
  {
   "cell_type": "markdown",
   "metadata": {},
   "source": [
    "#### Tsai Lenz Solver"
   ]
  },
  {
   "cell_type": "code",
   "execution_count": 78,
   "metadata": {
    "collapsed": false
   },
   "outputs": [],
   "source": [
    "from tsai_lens_calibration import TsaiLenzCalibrator"
   ]
  },
  {
   "cell_type": "code",
   "execution_count": 123,
   "metadata": {
    "collapsed": false
   },
   "outputs": [
    {
     "data": {
      "text/plain": [
       "<Transform:\n",
       "<Orientation: \n",
       "array([[ 0.5  , -0.   , -0.866],\n",
       "       [-0.   ,  1.   , -0.   ],\n",
       "       [ 0.866,  0.   ,  0.5  ]])>\n",
       "<Vector: (0.10000, 0.20000, 0.30000)>\n",
       ">"
      ]
     },
     "execution_count": 123,
     "metadata": {},
     "output_type": "execute_result"
    }
   ],
   "source": [
    "# pose_pairs = [(m3d.Transform(A), m3d.Transform(B)) \n",
    "#               for (A, B)  in zip(rob_pose_list, obj_pose_list)]\n",
    "pose_pairs = [(m3d.Transform(A.matrix()), m3d.Transform(B.matrix())) \n",
    "              for (A, B)  in zip(lines_a, lines_b)]\n",
    "tsai_lens = TsaiLenzCalibrator(pose_pairs)\n",
    "tsai_lens.sensor_in_flange"
   ]
  },
  {
   "cell_type": "markdown",
   "metadata": {},
   "source": [
    "#### Park Martin Solver"
   ]
  },
  {
   "cell_type": "code",
   "execution_count": 124,
   "metadata": {
    "collapsed": false
   },
   "outputs": [
    {
     "name": "stdout",
     "output_type": "stream",
     "text": [
      "<Transform:\n",
      "<Orientation: \n",
      "array([[ 0.1051, -0.9945,  0.0021],\n",
      "       [-0.9943, -0.1051, -0.0175],\n",
      "       [ 0.0176, -0.0003, -0.9998]])>\n",
      "<Vector: (0.04123, 0.09907, 0.14488)>\n",
      ">\n"
     ]
    }
   ],
   "source": [
    "from park_martin import calibrate as park_martin_calibration\n",
    "A, B = [], []\n",
    "n_trfs = len(rob_pose_list)\n",
    "for i in range(n_trfs):\n",
    "    for j in range(i+1, n_trfs):\n",
    "        A.append((m3d.Transform(rob_pose_list[j]).inverse * m3d.Transform(rob_pose_list[i])).array)\n",
    "        B.append((m3d.Transform(obj_pose_list[j]).inverse * m3d.Transform(obj_pose_list[i])).array)\n",
    "R,t = park_martin_calibration(A,B)\n",
    "print(m3d.Transform(R,t))"
   ]
  },
  {
   "cell_type": "code",
   "execution_count": 148,
   "metadata": {
    "collapsed": false
   },
   "outputs": [
    {
     "name": "stdout",
     "output_type": "stream",
     "text": [
      "<Transform:\n",
      "<Orientation: \n",
      "array([[ 0.5  ,  0.   , -0.866],\n",
      "       [ 0.   ,  1.   , -0.   ],\n",
      "       [ 0.866,  0.   ,  0.5  ]])>\n",
      "<Vector: (0.10000, 0.20000, 0.30000)>\n",
      ">\n"
     ]
    }
   ],
   "source": [
    "A = [p.array for p in np.array(pose_pairs)[:,0]]\n",
    "B = [p.array for p in np.array(pose_pairs)[:,1]]\n",
    "R,t = park_martin_calibration(A,B)\n",
    "print(m3d.Transform(R,t))"
   ]
  },
  {
   "cell_type": "code",
   "execution_count": 136,
   "metadata": {
    "collapsed": false
   },
   "outputs": [],
   "source": [
    "def daniilidis_motor(LAs, LBs):\n",
    "    Ds = []\n",
    "    for LA, LB in zip(LAs, LBs):\n",
    "        D = np.zeros((8,8))\n",
    "        for i in range(8):\n",
    "            ei = vsr.Mot(0,0,0,0,0,0,0,0)\n",
    "            ei[i] = 1.0\n",
    "            D[:,i] = np.array(LA * ei - ei * LB)\n",
    "        Ds.append(D[1:7,:].copy())\n",
    "    \n",
    "    Ds = np.array(Ds).reshape(-1,8)\n",
    "    [U, s, Vt] = np.linalg.svd(Ds)\n",
    "\n",
    "    v7 = Vt.T[:,-2].copy()\n",
    "    v8 = Vt.T[:,-1].copy()\n",
    "    \n",
    "    v7 = np.array([-v7[0], v7[3], -v7[2], v7[1], v7[7],v7[4], v7[5], v7[6]])\n",
    "    v8 = np.array([-v8[0], v8[3], -v8[2], v8[1], v8[7],v8[4], v8[5], v8[6]])\n",
    "    \n",
    "    u1 = v7[:4]\n",
    "    v1 = v7[4:]\n",
    "    u2 = v8[:4]\n",
    "    v2 = v8[4:]\n",
    "\n",
    "    a = np.inner(u1,v1)\n",
    "    b = np.inner(u1,v2) + np.inner(u2,v1)\n",
    "    c = np.inner(u2,v2)\n",
    "    [s1, s2] = np.roots([a,b,c])\n",
    "\n",
    "    val1 = (s1**2 * np.inner(u1,u1)) + (2 * s1 * np.inner(u1,u2)) + (np.inner(u2,u2))\n",
    "    val2 = (s2**2 * np.inner(u1,u1)) + (2 * s2 * np.inner(u1,u2)) + (np.inner(u2,u2))\n",
    "    \n",
    "    if val1 > val2:\n",
    "        s = s1\n",
    "        val = val1\n",
    "    else:\n",
    "        s = s2\n",
    "        val = val2\n",
    "\n",
    "    lambda2 = np.sqrt(1./val)\n",
    "    lambda1 = s * lambda2\n",
    "    \n",
    "    m_arr = lambda1 * Vt.T[:,-2] + lambda2 * Vt.T[:,-1]\n",
    "\n",
    "    return vsr.Mot(*m_arr)"
   ]
  },
  {
   "cell_type": "code",
   "execution_count": 137,
   "metadata": {
    "collapsed": false
   },
   "outputs": [
    {
     "name": "stdout",
     "output_type": "stream",
     "text": [
      "Mot: [ -0.87 -3.3e-17 -0.5 -3.9e-17 -0.12 -0.087 -0.1 0.05 ]\n"
     ]
    }
   ],
   "source": [
    "dm = daniilidis_motor(lines_b, lines_a)\n",
    "print(dm)"
   ]
  },
  {
   "cell_type": "code",
   "execution_count": 138,
   "metadata": {
    "collapsed": false
   },
   "outputs": [
    {
     "name": "stdout",
     "output_type": "stream",
     "text": [
      "<Transform:\n",
      "<Orientation: \n",
      "array([[ 0.5  ,  0.   ,  0.866],\n",
      "       [-0.   ,  1.   ,  0.   ],\n",
      "       [-0.866, -0.   ,  0.5  ]])>\n",
      "<Vector: (-0.30981, -0.20000, -0.06340)>\n",
      ">\n"
     ]
    }
   ],
   "source": [
    "print(m3d.Transform(dm.matrix()))"
   ]
  },
  {
   "cell_type": "code",
   "execution_count": 139,
   "metadata": {
    "collapsed": false
   },
   "outputs": [
    {
     "name": "stdout",
     "output_type": "stream",
     "text": [
      "Mot: [ 0.87 0 -0.5 0 -0.12 -0.087 -0.1 -0.05 ]\n"
     ]
    }
   ],
   "source": [
    "print(M_eye_in_hand)"
   ]
  },
  {
   "cell_type": "code",
   "execution_count": 140,
   "metadata": {
    "collapsed": false
   },
   "outputs": [
    {
     "name": "stdout",
     "output_type": "stream",
     "text": [
      "<Transform:\n",
      "<Orientation: \n",
      "array([[ 0.5  ,  0.   , -0.866],\n",
      "       [ 0.   ,  1.   ,  0.   ],\n",
      "       [ 0.866,  0.   ,  0.5  ]])>\n",
      "<Vector: (0.10000, 0.20000, 0.30000)>\n",
      ">\n"
     ]
    }
   ],
   "source": [
    "print(m3d.Transform(M_eye_in_hand.matrix()))"
   ]
  },
  {
   "cell_type": "code",
   "execution_count": 114,
   "metadata": {
    "collapsed": false
   },
   "outputs": [
    {
     "name": "stdout",
     "output_type": "stream",
     "text": [
      "Mot: [ 1 0 0 0 3.5e-18 4.3e-18 -7e-18 4.3e-17 ]\n",
      "Mot: [ 1 0 1.6e-33 -1.5e-33 2.2e-17 0 5.7e-18 -1.4e-17 ]\n"
     ]
    }
   ],
   "source": [
    "print(estimated_motor * estimated_motor.rev())\n",
    "print(dm * dm.rev())"
   ]
  },
  {
   "cell_type": "code",
   "execution_count": 86,
   "metadata": {
    "collapsed": false
   },
   "outputs": [
    {
     "name": "stdout",
     "output_type": "stream",
     "text": [
      "<Transform:\n",
      "<Orientation: \n",
      "array([[ 0.7348,  0.0333,  0.6774],\n",
      "       [-0.6776, -0.0086,  0.7354],\n",
      "       [ 0.0303, -0.9994,  0.0162]])>\n",
      "<Vector: (-0.98140, -0.88927, 0.79542)>\n",
      ">\n"
     ]
    }
   ],
   "source": [
    "bivectors = [np.array((r * daniilidis_motor * o.rev()).log()) \n",
    "             for r, o in zip(rob_motors, obj_motors)]\n",
    "m = vsr.Dll(*np.average(bivectors,0)).exp()\n",
    "print(m3d.Transform(m.matrix()))"
   ]
  },
  {
   "cell_type": "code",
   "execution_count": null,
   "metadata": {
    "collapsed": true
   },
   "outputs": [],
   "source": []
  },
  {
   "cell_type": "code",
   "execution_count": null,
   "metadata": {
    "collapsed": true
   },
   "outputs": [],
   "source": []
  }
 ],
 "metadata": {
  "kernelspec": {
   "display_name": "Python 2",
   "language": "python",
   "name": "python2"
  },
  "language_info": {
   "codemirror_mode": {
    "name": "ipython",
    "version": 2
   },
   "file_extension": ".py",
   "mimetype": "text/x-python",
   "name": "python",
   "nbconvert_exporter": "python",
   "pygments_lexer": "ipython2",
   "version": "2.7.11+"
  }
 },
 "nbformat": 4,
 "nbformat_minor": 0
}
