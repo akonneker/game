{
 "cells": [
  {
   "cell_type": "code",
   "execution_count": 1,
   "metadata": {
    "collapsed": true
   },
   "outputs": [],
   "source": [
    "from ga import Ga, half, zero, one\n",
    "import mv\n",
    "import metric\n",
    "from printer import Format, GaLatexPrinter\n",
    "from sympy import Symbol, symbols, factor, collect, cos, sin, pi, srepr, sqrt, atan2\n",
    "import numpy as np\n",
    "Format()\n",
    "\n",
    "g = '1 0 0 0 0, 0 1 0 0 0, 0 0 1 0 0, 0 0 0 0 -1, 0 0 0 -1 0'\n",
    "(_1, _2, _3, _o, _i) = coords = symbols('1,2,3,o,\\infty',real=True)\n",
    "\n",
    "c3d = Ga('e_1 e_2 e_3 n_o n_\\infty',g=g,coords=coords)\n",
    "(e1, e2, e3, no, ni) = c3d.mv()\n",
    "(r,th,phi,alpha,beta,gamma) = symbols('r theta phi alpha beta gamma',real=True)"
   ]
  },
  {
   "cell_type": "code",
   "execution_count": 3,
   "metadata": {
    "collapsed": true
   },
   "outputs": [],
   "source": [
    "def make_euclidean_vector(a, n=3, ga=None):\n",
    "    if isinstance(a,str):\n",
    "        v = zero\n",
    "        symbols_list = []\n",
    "        for i in range(n):\n",
    "            a_i = Symbol(a+str(i+1))\n",
    "            symbols_list.append(a_i*ga.basis[i])\n",
    "            v += a_i*ga.basis[i]\n",
    "        v = ga.mv(v)\n",
    "        return v, symbols_list"
   ]
  },
  {
   "cell_type": "code",
   "execution_count": 4,
   "metadata": {
    "collapsed": true
   },
   "outputs": [],
   "source": [
    "t,_ = make_euclidean_vector('t',ga=c3d)"
   ]
  },
  {
   "cell_type": "code",
   "execution_count": 5,
   "metadata": {
    "collapsed": false
   },
   "outputs": [
    {
     "data": {
      "text/latex": [
       "\\begin{equation*} t_{1} \\boldsymbol{e}_{1} + t_{2} \\boldsymbol{e}_{2} + t_{3} \\boldsymbol{e}_{3} + \\boldsymbol{n}_{o} + \\left ( \\frac{1}{2} {\\left ( t_{1} \\right )}^{2} + \\frac{1}{2} {\\left ( t_{2} \\right )}^{2} + \\frac{1}{2} {\\left ( t_{3} \\right )}^{2}\\right ) \\boldsymbol{n}_{\\infty} \\end{equation*}"
      ],
      "text/plain": [
       "t_{1} \\boldsymbol{e}_{1} + t_{2} \\boldsymbol{e}_{2} + t_{3} \\boldsymbol{e}_{3} + \\boldsymbol{n}_{o} + \\left ( \\frac{1}{2} {\\left ( t_{1} \\right )}^{2} + \\frac{1}{2} {\\left ( t_{2} \\right )}^{2} + \\frac{1}{2} {\\left ( t_{3} \\right )}^{2}\\right ) \\boldsymbol{n}_{\\infty}"
      ]
     },
     "execution_count": 5,
     "metadata": {},
     "output_type": "execute_result"
    }
   ],
   "source": [
    "translator = one - half * t * ni\n",
    "translator * no * translator.rev()"
   ]
  },
  {
   "cell_type": "code",
   "execution_count": 6,
   "metadata": {
    "collapsed": false
   },
   "outputs": [
    {
     "data": {
      "text/latex": [
       "\\begin{equation*} \\cos{\\left (\\frac{\\theta }{2} \\right )}  - B_{12} \\sin{\\left (\\frac{\\theta }{2} \\right )} \\boldsymbol{e}_{1}\\wedge \\boldsymbol{e}_{2} - B_{13} \\sin{\\left (\\frac{\\theta }{2} \\right )} \\boldsymbol{e}_{1}\\wedge \\boldsymbol{e}_{3} - B_{23} \\sin{\\left (\\frac{\\theta }{2} \\right )} \\boldsymbol{e}_{2}\\wedge \\boldsymbol{e}_{3} \\end{equation*}"
      ],
      "text/plain": [
       "\\cos{\\left (\\frac{\\theta }{2} \\right )}  - B_{12} \\sin{\\left (\\frac{\\theta }{2} \\right )} \\boldsymbol{e}_{1}\\wedge \\boldsymbol{e}_{2} - B_{13} \\sin{\\left (\\frac{\\theta }{2} \\right )} \\boldsymbol{e}_{1}\\wedge \\boldsymbol{e}_{3} - B_{23} \\sin{\\left (\\frac{\\theta }{2} \\right )} \\boldsymbol{e}_{2}\\wedge \\boldsymbol{e}_{3}"
      ]
     },
     "execution_count": 6,
     "metadata": {},
     "output_type": "execute_result"
    }
   ],
   "source": [
    "from sympy.abc import x, theta\n",
    "# Define unit bivectors\n",
    "e12 = e1 ^ e2\n",
    "e13 = e1 ^ e3\n",
    "e23 = e2 ^ e3\n",
    "e123 = e1 ^ e2 ^ e3\n",
    "(B12, B13, B23) = symbols('B_12,B_13,B_23')\n",
    "rotation_plane = ( B12 * e12 + B13 * e13 + B23 * e23 )\n",
    "B = rotation_plane\n",
    "rotor = cos(half * theta) - sin( half * theta) * rotation_plane\n",
    "rotor"
   ]
  },
  {
   "cell_type": "code",
   "execution_count": 26,
   "metadata": {
    "collapsed": false
   },
   "outputs": [],
   "source": [
    "t = 2 * e2 + e3\n",
    "B = e1*e2\n",
    "th4 = half * half * pi\n",
    "T = (one - half * t * ni)\n",
    "R = (cos(th4) - sin(th4) * B)\n",
    "M = T * R"
   ]
  },
  {
   "cell_type": "code",
   "execution_count": 27,
   "metadata": {
    "collapsed": false
   },
   "outputs": [
    {
     "data": {
      "text/latex": [
       "\\begin{equation*} \\frac{\\sqrt{2}}{2}  - \\frac{\\sqrt{2}}{2} \\boldsymbol{e}_{1}\\wedge \\boldsymbol{e}_{2} - \\frac{\\sqrt{2}}{2} \\boldsymbol{e}_{1}\\wedge \\boldsymbol{n}_{\\infty} - \\frac{\\sqrt{2}}{2} \\boldsymbol{e}_{2}\\wedge \\boldsymbol{n}_{\\infty} - \\frac{\\sqrt{2}}{4} \\boldsymbol{e}_{3}\\wedge \\boldsymbol{n}_{\\infty} + \\frac{\\sqrt{2}}{4} \\boldsymbol{e}_{1}\\wedge \\boldsymbol{e}_{2}\\wedge \\boldsymbol{e}_{3}\\wedge \\boldsymbol{n}_{\\infty} \\end{equation*}"
      ],
      "text/plain": [
       "\\frac{\\sqrt{2}}{2}  - \\frac{\\sqrt{2}}{2} \\boldsymbol{e}_{1}\\wedge \\boldsymbol{e}_{2} - \\frac{\\sqrt{2}}{2} \\boldsymbol{e}_{1}\\wedge \\boldsymbol{n}_{\\infty} - \\frac{\\sqrt{2}}{2} \\boldsymbol{e}_{2}\\wedge \\boldsymbol{n}_{\\infty} - \\frac{\\sqrt{2}}{4} \\boldsymbol{e}_{3}\\wedge \\boldsymbol{n}_{\\infty} + \\frac{\\sqrt{2}}{4} \\boldsymbol{e}_{1}\\wedge \\boldsymbol{e}_{2}\\wedge \\boldsymbol{e}_{3}\\wedge \\boldsymbol{n}_{\\infty}"
      ]
     },
     "execution_count": 27,
     "metadata": {},
     "output_type": "execute_result"
    }
   ],
   "source": [
    "M"
   ]
  },
  {
   "cell_type": "code",
   "execution_count": 24,
   "metadata": {
    "collapsed": false
   },
   "outputs": [
    {
     "data": {
      "text/latex": [
       "\\begin{equation*}  \\boldsymbol{e}_{3} \\end{equation*}"
      ],
      "text/plain": [
       " \\boldsymbol{e}_{3}"
      ]
     },
     "execution_count": 24,
     "metadata": {},
     "output_type": "execute_result"
    }
   ],
   "source": [
    "w = (t ^ B) * B.inv()\n",
    "w"
   ]
  },
  {
   "cell_type": "code",
   "execution_count": 30,
   "metadata": {
    "collapsed": false
   },
   "outputs": [
    {
     "data": {
      "text/latex": [
       "\\begin{equation*} - \\boldsymbol{e}_{1} + \\boldsymbol{e}_{2} \\end{equation*}"
      ],
      "text/plain": [
       "- \\boldsymbol{e}_{1} + \\boldsymbol{e}_{2}"
      ]
     },
     "execution_count": 30,
     "metadata": {},
     "output_type": "execute_result"
    }
   ],
   "source": [
    "v = (one - R * R).inv() * (t < B)*B.inv()\n",
    "v"
   ]
  },
  {
   "cell_type": "code",
   "execution_count": 38,
   "metadata": {
    "collapsed": false
   },
   "outputs": [
    {
     "data": {
      "text/plain": [
       "True"
      ]
     },
     "execution_count": 38,
     "metadata": {},
     "output_type": "execute_result"
    }
   ],
   "source": [
    "M_ = cos(th4) - sin(th4)*B - half * cos(th4) * t * ni + half * sin(th4) * t * B * ni\n",
    "M_ == M"
   ]
  },
  {
   "cell_type": "code",
   "execution_count": 41,
   "metadata": {
    "collapsed": false
   },
   "outputs": [
    {
     "data": {
      "text/latex": [
       "\\begin{equation*} \\frac{1}{2}  - \\frac{1}{2} \\boldsymbol{e}_{1}\\wedge \\boldsymbol{e}_{2} \\end{equation*}"
      ],
      "text/plain": [
       "\\frac{1}{2}  - \\frac{1}{2} \\boldsymbol{e}_{1}\\wedge \\boldsymbol{e}_{2}"
      ]
     },
     "execution_count": 41,
     "metadata": {},
     "output_type": "execute_result"
    }
   ],
   "source": [
    "(one - R * R).inv()"
   ]
  },
  {
   "cell_type": "code",
   "execution_count": 43,
   "metadata": {
    "collapsed": false
   },
   "outputs": [
    {
     "data": {
      "text/latex": [
       "\\begin{equation*} -2 \\boldsymbol{e}_{1} \\end{equation*}"
      ],
      "text/plain": [
       "-2 \\boldsymbol{e}_{1}"
      ]
     },
     "execution_count": 43,
     "metadata": {},
     "output_type": "execute_result"
    }
   ],
   "source": [
    "t < B"
   ]
  },
  {
   "cell_type": "code",
   "execution_count": 44,
   "metadata": {
    "collapsed": false
   },
   "outputs": [
    {
     "data": {
      "text/latex": [
       "\\begin{equation*} - \\boldsymbol{e}_{1}\\wedge \\boldsymbol{e}_{2} \\end{equation*}"
      ],
      "text/plain": [
       "- \\boldsymbol{e}_{1}\\wedge \\boldsymbol{e}_{2}"
      ]
     },
     "execution_count": 44,
     "metadata": {},
     "output_type": "execute_result"
    }
   ],
   "source": [
    "B.inv()"
   ]
  },
  {
   "cell_type": "markdown",
   "metadata": {
    "collapsed": true
   },
   "source": [
    "# Rotor estimation computational graph"
   ]
  },
  {
   "cell_type": "code",
   "execution_count": 105,
   "metadata": {
    "collapsed": false
   },
   "outputs": [
    {
     "data": {
      "text/latex": [
       "\\begin{equation*} a_{1} \\boldsymbol{e}_{1} + a_{2} \\boldsymbol{e}_{2} + a_{3} \\boldsymbol{e}_{3} \\end{equation*}"
      ],
      "text/plain": [
       "a_{1} \\boldsymbol{e}_{1} + a_{2} \\boldsymbol{e}_{2} + a_{3} \\boldsymbol{e}_{3}"
      ]
     },
     "execution_count": 105,
     "metadata": {},
     "output_type": "execute_result"
    }
   ],
   "source": [
    "a,_ = make_euclidean_vector('a',ga=c3d)\n",
    "B = rotation_plane\n",
    "a"
   ]
  },
  {
   "cell_type": "code",
   "execution_count": 167,
   "metadata": {
    "collapsed": false
   },
   "outputs": [
    {
     "data": {
      "text/latex": [
       "\\begin{equation*} R_{0}  - R_{1} \\boldsymbol{e}_{1}\\wedge \\boldsymbol{e}_{2} - R_{2} \\boldsymbol{e}_{1}\\wedge \\boldsymbol{e}_{3} - R_{3} \\boldsymbol{e}_{2}\\wedge \\boldsymbol{e}_{3} \\end{equation*}"
      ],
      "text/plain": [
       "R_{0}  - R_{1} \\boldsymbol{e}_{1}\\wedge \\boldsymbol{e}_{2} - R_{2} \\boldsymbol{e}_{1}\\wedge \\boldsymbol{e}_{3} - R_{3} \\boldsymbol{e}_{2}\\wedge \\boldsymbol{e}_{3}"
      ]
     },
     "execution_count": 167,
     "metadata": {},
     "output_type": "execute_result"
    }
   ],
   "source": [
    "(R0, R1, R2, R3) = symbols('R_0,R_1,R_2,R_3')\n",
    "rotor = R0 - (R1*e1^e2) -(R2*e1^e3) - (R3*e2^e3)\n",
    "# rotor = R0 - (R1*e2^e3) -(R2*e3^e1) - (R3*e1^e2)\n",
    "rotor"
   ]
  },
  {
   "cell_type": "code",
   "execution_count": 168,
   "metadata": {
    "collapsed": false
   },
   "outputs": [
    {
     "data": {
      "text/latex": [
       "\\begin{equation*} \\left ( {\\left ( R_{0} \\right )}^{2} a_{1} - 2 R_{0} R_{1} a_{2} - 2 R_{0} R_{2} a_{3} - {\\left ( R_{1} \\right )}^{2} a_{1} + 2 R_{1} R_{3} a_{3} - {\\left ( R_{2} \\right )}^{2} a_{1} - 2 R_{2} R_{3} a_{2} + {\\left ( R_{3} \\right )}^{2} a_{1}\\right ) \\boldsymbol{e}_{1} + \\left ( {\\left ( R_{0} \\right )}^{2} a_{2} + 2 R_{0} R_{1} a_{1} - 2 R_{0} R_{3} a_{3} - {\\left ( R_{1} \\right )}^{2} a_{2} - 2 R_{1} R_{2} a_{3} + {\\left ( R_{2} \\right )}^{2} a_{2} - 2 R_{2} R_{3} a_{1} - {\\left ( R_{3} \\right )}^{2} a_{2}\\right ) \\boldsymbol{e}_{2} + \\left ( {\\left ( R_{0} \\right )}^{2} a_{3} + 2 R_{0} R_{2} a_{1} + 2 R_{0} R_{3} a_{2} + {\\left ( R_{1} \\right )}^{2} a_{3} - 2 R_{1} R_{2} a_{2} + 2 R_{1} R_{3} a_{1} - {\\left ( R_{2} \\right )}^{2} a_{3} - {\\left ( R_{3} \\right )}^{2} a_{3}\\right ) \\boldsymbol{e}_{3} \\end{equation*}"
      ],
      "text/plain": [
       "\\left ( {\\left ( R_{0} \\right )}^{2} a_{1} - 2 R_{0} R_{1} a_{2} - 2 R_{0} R_{2} a_{3} - {\\left ( R_{1} \\right )}^{2} a_{1} + 2 R_{1} R_{3} a_{3} - {\\left ( R_{2} \\right )}^{2} a_{1} - 2 R_{2} R_{3} a_{2} + {\\left ( R_{3} \\right )}^{2} a_{1}\\right ) \\boldsymbol{e}_{1} + \\left ( {\\left ( R_{0} \\right )}^{2} a_{2} + 2 R_{0} R_{1} a_{1} - 2 R_{0} R_{3} a_{3} - {\\left ( R_{1} \\right )}^{2} a_{2} - 2 R_{1} R_{2} a_{3} + {\\left ( R_{2} \\right )}^{2} a_{2} - 2 R_{2} R_{3} a_{1} - {\\left ( R_{3} \\right )}^{2} a_{2}\\right ) \\boldsymbol{e}_{2} + \\left ( {\\left ( R_{0} \\right )}^{2} a_{3} + 2 R_{0} R_{2} a_{1} + 2 R_{0} R_{3} a_{2} + {\\left ( R_{1} \\right )}^{2} a_{3} - 2 R_{1} R_{2} a_{2} + 2 R_{1} R_{3} a_{1} - {\\left ( R_{2} \\right )}^{2} a_{3} - {\\left ( R_{3} \\right )}^{2} a_{3}\\right ) \\boldsymbol{e}_{3}"
      ]
     },
     "execution_count": 168,
     "metadata": {},
     "output_type": "execute_result"
    }
   ],
   "source": [
    "b = rotor * a  * rotor.rev()\n",
    "b"
   ]
  },
  {
   "cell_type": "markdown",
   "metadata": {},
   "source": [
    "```python\n",
    "rm = np.array([[r0**2 -r1**2 - r2**2 + r3**2, 2*(-r0*r1 - r2*r3), 2*(-r0*r2 + r1*r3)],\n",
    "               [2*(r0*r1 - r2*r3), r0**2 -r1**2 + r2**2 - r3**2, 2*(-r0*r3 - r1*r2) ],\n",
    "               [2*(r0*r2 + r1*r3), 2*(r0*r3 - r1*r2), r0**2 + r1**2 - r2**2 - r3**2  ]])\n",
    "```"
   ]
  },
  {
   "cell_type": "code",
   "execution_count": 108,
   "metadata": {
    "collapsed": false
   },
   "outputs": [],
   "source": [
    "th = half * theta\n",
    "b_ = (cos(th))**2 * a + cos(th)*sin(th)*a*B - cos(th)*sin(th)*B*a - ((sin(th))**2) * B*a*B"
   ]
  },
  {
   "cell_type": "code",
   "execution_count": 109,
   "metadata": {
    "collapsed": false
   },
   "outputs": [
    {
     "data": {
      "text/plain": [
       "False"
      ]
     },
     "execution_count": 109,
     "metadata": {},
     "output_type": "execute_result"
    }
   ],
   "source": [
    "b_1 = (cos(th))**2 * a + 2 * cos(th)*sin(th)*(a < B) - ((sin(th))**2) * B*a*B\n",
    "b_1 == b"
   ]
  },
  {
   "cell_type": "code",
   "execution_count": 72,
   "metadata": {
    "collapsed": false
   },
   "outputs": [
    {
     "data": {
      "text/latex": [
       "\\begin{equation*} \\left ( a_{1} \\cos{\\left (\\frac{\\theta }{2} \\right )} + \\left(- B_{12} a_{2} - B_{13} a_{3}\\right) \\sin{\\left (\\frac{\\theta }{2} \\right )}\\right ) \\boldsymbol{e}_{1} + \\left ( a_{2} \\cos{\\left (\\frac{\\theta }{2} \\right )} + \\left(B_{12} a_{1} - B_{23} a_{3}\\right) \\sin{\\left (\\frac{\\theta }{2} \\right )}\\right ) \\boldsymbol{e}_{2} + \\left ( a_{3} \\cos{\\left (\\frac{\\theta }{2} \\right )} + \\left(B_{13} a_{1} + B_{23} a_{2}\\right) \\sin{\\left (\\frac{\\theta }{2} \\right )}\\right ) \\boldsymbol{e}_{3} + \\left(- B_{12} a_{3} + B_{13} a_{2} - B_{23} a_{1}\\right) \\sin{\\left (\\frac{\\theta }{2} \\right )} \\boldsymbol{e}_{1}\\wedge \\boldsymbol{e}_{2}\\wedge \\boldsymbol{e}_{3} \\end{equation*}"
      ],
      "text/plain": [
       "\\left ( a_{1} \\cos{\\left (\\frac{\\theta }{2} \\right )} + \\left(- B_{12} a_{2} - B_{13} a_{3}\\right) \\sin{\\left (\\frac{\\theta }{2} \\right )}\\right ) \\boldsymbol{e}_{1} + \\left ( a_{2} \\cos{\\left (\\frac{\\theta }{2} \\right )} + \\left(B_{12} a_{1} - B_{23} a_{3}\\right) \\sin{\\left (\\frac{\\theta }{2} \\right )}\\right ) \\boldsymbol{e}_{2} + \\left ( a_{3} \\cos{\\left (\\frac{\\theta }{2} \\right )} + \\left(B_{13} a_{1} + B_{23} a_{2}\\right) \\sin{\\left (\\frac{\\theta }{2} \\right )}\\right ) \\boldsymbol{e}_{3} + \\left(- B_{12} a_{3} + B_{13} a_{2} - B_{23} a_{1}\\right) \\sin{\\left (\\frac{\\theta }{2} \\right )} \\boldsymbol{e}_{1}\\wedge \\boldsymbol{e}_{2}\\wedge \\boldsymbol{e}_{3}"
      ]
     },
     "execution_count": 72,
     "metadata": {},
     "output_type": "execute_result"
    }
   ],
   "source": [
    "rotor * a"
   ]
  },
  {
   "cell_type": "code",
   "execution_count": 80,
   "metadata": {
    "collapsed": false
   },
   "outputs": [
    {
     "data": {
      "text/latex": [
       "\\begin{equation*} \\left ( {\\left ( B_{12} \\right )}^{2} a_{1} - 2 B_{12} B_{23} a_{3} + {\\left ( B_{13} \\right )}^{2} a_{1} + 2 B_{13} B_{23} a_{2} - {\\left ( B_{23} \\right )}^{2} a_{1}\\right ) \\boldsymbol{e}_{1} + \\left ( {\\left ( B_{12} \\right )}^{2} a_{2} + 2 B_{12} B_{13} a_{3} - {\\left ( B_{13} \\right )}^{2} a_{2} + 2 B_{13} B_{23} a_{1} + {\\left ( B_{23} \\right )}^{2} a_{2}\\right ) \\boldsymbol{e}_{2} + \\left ( - {\\left ( B_{12} \\right )}^{2} a_{3} + 2 B_{12} B_{13} a_{2} - 2 B_{12} B_{23} a_{1} + {\\left ( B_{13} \\right )}^{2} a_{3} + {\\left ( B_{23} \\right )}^{2} a_{3}\\right ) \\boldsymbol{e}_{3} \\end{equation*}"
      ],
      "text/plain": [
       "\\left ( {\\left ( B_{12} \\right )}^{2} a_{1} - 2 B_{12} B_{23} a_{3} + {\\left ( B_{13} \\right )}^{2} a_{1} + 2 B_{13} B_{23} a_{2} - {\\left ( B_{23} \\right )}^{2} a_{1}\\right ) \\boldsymbol{e}_{1} + \\left ( {\\left ( B_{12} \\right )}^{2} a_{2} + 2 B_{12} B_{13} a_{3} - {\\left ( B_{13} \\right )}^{2} a_{2} + 2 B_{13} B_{23} a_{1} + {\\left ( B_{23} \\right )}^{2} a_{2}\\right ) \\boldsymbol{e}_{2} + \\left ( - {\\left ( B_{12} \\right )}^{2} a_{3} + 2 B_{12} B_{13} a_{2} - 2 B_{12} B_{23} a_{1} + {\\left ( B_{13} \\right )}^{2} a_{3} + {\\left ( B_{23} \\right )}^{2} a_{3}\\right ) \\boldsymbol{e}_{3}"
      ]
     },
     "execution_count": 80,
     "metadata": {},
     "output_type": "execute_result"
    }
   ],
   "source": [
    "B*a*B"
   ]
  },
  {
   "cell_type": "code",
   "execution_count": 81,
   "metadata": {
    "collapsed": false
   },
   "outputs": [
    {
     "data": {
      "text/latex": [
       "\\begin{equation*} \\left ( B_{12} a_{2} + B_{13} a_{3}\\right ) \\boldsymbol{e}_{1} + \\left ( - B_{12} a_{1} + B_{23} a_{3}\\right ) \\boldsymbol{e}_{2} + \\left ( - B_{13} a_{1} - B_{23} a_{2}\\right ) \\boldsymbol{e}_{3} + \\left ( B_{12} a_{3} - B_{13} a_{2} + B_{23} a_{1}\\right ) \\boldsymbol{e}_{1}\\wedge \\boldsymbol{e}_{2}\\wedge \\boldsymbol{e}_{3} \\end{equation*}"
      ],
      "text/plain": [
       "\\left ( B_{12} a_{2} + B_{13} a_{3}\\right ) \\boldsymbol{e}_{1} + \\left ( - B_{12} a_{1} + B_{23} a_{3}\\right ) \\boldsymbol{e}_{2} + \\left ( - B_{13} a_{1} - B_{23} a_{2}\\right ) \\boldsymbol{e}_{3} + \\left ( B_{12} a_{3} - B_{13} a_{2} + B_{23} a_{1}\\right ) \\boldsymbol{e}_{1}\\wedge \\boldsymbol{e}_{2}\\wedge \\boldsymbol{e}_{3}"
      ]
     },
     "execution_count": 81,
     "metadata": {},
     "output_type": "execute_result"
    }
   ],
   "source": [
    "B * a"
   ]
  },
  {
   "cell_type": "code",
   "execution_count": 82,
   "metadata": {
    "collapsed": false
   },
   "outputs": [
    {
     "data": {
      "text/latex": [
       "\\begin{equation*} \\left ( B_{12} a_{2} + B_{13} a_{3}\\right ) \\boldsymbol{e}_{1} + \\left ( - B_{12} a_{1} + B_{23} a_{3}\\right ) \\boldsymbol{e}_{2} + \\left ( - B_{13} a_{1} - B_{23} a_{2}\\right ) \\boldsymbol{e}_{3} \\end{equation*}"
      ],
      "text/plain": [
       "\\left ( B_{12} a_{2} + B_{13} a_{3}\\right ) \\boldsymbol{e}_{1} + \\left ( - B_{12} a_{1} + B_{23} a_{3}\\right ) \\boldsymbol{e}_{2} + \\left ( - B_{13} a_{1} - B_{23} a_{2}\\right ) \\boldsymbol{e}_{3}"
      ]
     },
     "execution_count": 82,
     "metadata": {},
     "output_type": "execute_result"
    }
   ],
   "source": [
    "B | a"
   ]
  },
  {
   "cell_type": "code",
   "execution_count": 83,
   "metadata": {
    "collapsed": false
   },
   "outputs": [
    {
     "data": {
      "text/latex": [
       "\\begin{equation*} 0 \n",
       " \\end{equation*}"
      ],
      "text/plain": [
       "0 "
      ]
     },
     "execution_count": 83,
     "metadata": {},
     "output_type": "execute_result"
    }
   ],
   "source": [
    "B < a"
   ]
  },
  {
   "cell_type": "code",
   "execution_count": 84,
   "metadata": {
    "collapsed": false
   },
   "outputs": [
    {
     "data": {
      "text/latex": [
       "\\begin{equation*} \\left ( - B_{12} a_{2} - B_{13} a_{3}\\right ) \\boldsymbol{e}_{1} + \\left ( B_{12} a_{1} - B_{23} a_{3}\\right ) \\boldsymbol{e}_{2} + \\left ( B_{13} a_{1} + B_{23} a_{2}\\right ) \\boldsymbol{e}_{3} \\end{equation*}"
      ],
      "text/plain": [
       "\\left ( - B_{12} a_{2} - B_{13} a_{3}\\right ) \\boldsymbol{e}_{1} + \\left ( B_{12} a_{1} - B_{23} a_{3}\\right ) \\boldsymbol{e}_{2} + \\left ( B_{13} a_{1} + B_{23} a_{2}\\right ) \\boldsymbol{e}_{3}"
      ]
     },
     "execution_count": 84,
     "metadata": {},
     "output_type": "execute_result"
    }
   ],
   "source": [
    "a < B"
   ]
  },
  {
   "cell_type": "code",
   "execution_count": 85,
   "metadata": {
    "collapsed": false
   },
   "outputs": [
    {
     "data": {
      "text/latex": [
       "\\begin{equation*} \\left ( B_{12} a_{2} + B_{13} a_{3}\\right ) \\boldsymbol{e}_{1} + \\left ( - B_{12} a_{1} + B_{23} a_{3}\\right ) \\boldsymbol{e}_{2} + \\left ( - B_{13} a_{1} - B_{23} a_{2}\\right ) \\boldsymbol{e}_{3} \\end{equation*}"
      ],
      "text/plain": [
       "\\left ( B_{12} a_{2} + B_{13} a_{3}\\right ) \\boldsymbol{e}_{1} + \\left ( - B_{12} a_{1} + B_{23} a_{3}\\right ) \\boldsymbol{e}_{2} + \\left ( - B_{13} a_{1} - B_{23} a_{2}\\right ) \\boldsymbol{e}_{3}"
      ]
     },
     "execution_count": 85,
     "metadata": {},
     "output_type": "execute_result"
    }
   ],
   "source": [
    "(-one) * (a < B) "
   ]
  },
  {
   "cell_type": "code",
   "execution_count": 86,
   "metadata": {
    "collapsed": false
   },
   "outputs": [
    {
     "data": {
      "text/latex": [
       "\\begin{equation*} - {\\left ( B_{12} \\right )}^{2} - {\\left ( B_{13} \\right )}^{2} - {\\left ( B_{23} \\right )}^{2} \\end{equation*}"
      ],
      "text/plain": [
       "- {\\left ( B_{12} \\right )}^{2} - {\\left ( B_{13} \\right )}^{2} - {\\left ( B_{23} \\right )}^{2}"
      ]
     },
     "execution_count": 86,
     "metadata": {},
     "output_type": "execute_result"
    }
   ],
   "source": [
    "B * B"
   ]
  },
  {
   "cell_type": "code",
   "execution_count": 87,
   "metadata": {
    "collapsed": false
   },
   "outputs": [
    {
     "data": {
      "text/latex": [
       "\\begin{equation*} \\left ( a_{1} + \\left(- \\frac{B_{12} a_{2}}{2} - \\frac{B_{13} a_{3}}{2}\\right) \\sin{\\left (\\theta  \\right )}\\right ) \\boldsymbol{e}_{1} + \\left ( a_{2} + \\left(\\frac{B_{12} a_{1}}{2} - \\frac{B_{23} a_{3}}{2}\\right) \\sin{\\left (\\theta  \\right )}\\right ) \\boldsymbol{e}_{2} + \\left ( a_{3} + \\left(\\frac{B_{13} a_{1}}{2} + \\frac{B_{23} a_{2}}{2}\\right) \\sin{\\left (\\theta  \\right )}\\right ) \\boldsymbol{e}_{3} \\end{equation*}"
      ],
      "text/plain": [
       "\\left ( a_{1} + \\left(- \\frac{B_{12} a_{2}}{2} - \\frac{B_{13} a_{3}}{2}\\right) \\sin{\\left (\\theta  \\right )}\\right ) \\boldsymbol{e}_{1} + \\left ( a_{2} + \\left(\\frac{B_{12} a_{1}}{2} - \\frac{B_{23} a_{3}}{2}\\right) \\sin{\\left (\\theta  \\right )}\\right ) \\boldsymbol{e}_{2} + \\left ( a_{3} + \\left(\\frac{B_{13} a_{1}}{2} + \\frac{B_{23} a_{2}}{2}\\right) \\sin{\\left (\\theta  \\right )}\\right ) \\boldsymbol{e}_{3}"
      ]
     },
     "execution_count": 87,
     "metadata": {},
     "output_type": "execute_result"
    }
   ],
   "source": [
    "a + cos(th)*sin(th)*(a < B)"
   ]
  },
  {
   "cell_type": "code",
   "execution_count": 93,
   "metadata": {
    "collapsed": true
   },
   "outputs": [],
   "source": [
    "av = e1 + e3\n",
    "Bv = e1 ^ e2\n",
    "th = pi/4"
   ]
  },
  {
   "cell_type": "code",
   "execution_count": 94,
   "metadata": {
    "collapsed": false
   },
   "outputs": [
    {
     "data": {
      "text/plain": [
       "pi/4"
      ]
     },
     "execution_count": 94,
     "metadata": {},
     "output_type": "execute_result"
    }
   ],
   "source": [
    "th"
   ]
  },
  {
   "cell_type": "code",
   "execution_count": 95,
   "metadata": {
    "collapsed": false
   },
   "outputs": [
    {
     "data": {
      "text/latex": [
       "\\begin{equation*}  \\boldsymbol{e}_{1} + \\frac{1}{2} \\boldsymbol{e}_{2} + \\boldsymbol{e}_{3} \\end{equation*}"
      ],
      "text/plain": [
       " \\boldsymbol{e}_{1} + \\frac{1}{2} \\boldsymbol{e}_{2} + \\boldsymbol{e}_{3}"
      ]
     },
     "execution_count": 95,
     "metadata": {},
     "output_type": "execute_result"
    }
   ],
   "source": [
    "av + cos(th)*sin(th)*(av < Bv)"
   ]
  },
  {
   "cell_type": "code",
   "execution_count": 96,
   "metadata": {
    "collapsed": false
   },
   "outputs": [
    {
     "data": {
      "text/latex": [
       "\\begin{equation*}  \\boldsymbol{e}_{2} + \\boldsymbol{e}_{3} \\end{equation*}"
      ],
      "text/plain": [
       " \\boldsymbol{e}_{2} + \\boldsymbol{e}_{3}"
      ]
     },
     "execution_count": 96,
     "metadata": {},
     "output_type": "execute_result"
    }
   ],
   "source": [
    "(cos(th))**2 * av + 2 * cos(th)*sin(th)*(av < Bv) - ((sin(th))**2) * Bv*av*Bv"
   ]
  },
  {
   "cell_type": "code",
   "execution_count": 98,
   "metadata": {
    "collapsed": false
   },
   "outputs": [
    {
     "data": {
      "text/latex": [
       "\\begin{equation*}  \\boldsymbol{e}_{2} \\end{equation*}"
      ],
      "text/plain": [
       " \\boldsymbol{e}_{2}"
      ]
     },
     "execution_count": 98,
     "metadata": {},
     "output_type": "execute_result"
    }
   ],
   "source": [
    "(cos(th))**2 * av + 2 * cos(th)*sin(th)*(av < Bv) + ((sin(th))**2) * av*Bv*Bv"
   ]
  },
  {
   "cell_type": "code",
   "execution_count": 100,
   "metadata": {
    "collapsed": false
   },
   "outputs": [
    {
     "data": {
      "text/latex": [
       "\\begin{equation*} - \\boldsymbol{e}_{2} + \\boldsymbol{e}_{1}\\wedge \\boldsymbol{e}_{2}\\wedge \\boldsymbol{e}_{3} \\end{equation*}"
      ],
      "text/plain": [
       "- \\boldsymbol{e}_{2} + \\boldsymbol{e}_{1}\\wedge \\boldsymbol{e}_{2}\\wedge \\boldsymbol{e}_{3}"
      ]
     },
     "execution_count": 100,
     "metadata": {},
     "output_type": "execute_result"
    }
   ],
   "source": [
    "Bv * av"
   ]
  },
  {
   "cell_type": "code",
   "execution_count": 103,
   "metadata": {
    "collapsed": false
   },
   "outputs": [
    {
     "data": {
      "text/latex": [
       "\\begin{equation*}  \\boldsymbol{e}_{1} - \\boldsymbol{e}_{3} \\end{equation*}"
      ],
      "text/plain": [
       " \\boldsymbol{e}_{1} - \\boldsymbol{e}_{3}"
      ]
     },
     "execution_count": 103,
     "metadata": {},
     "output_type": "execute_result"
    }
   ],
   "source": [
    "Bv * av * Bv"
   ]
  },
  {
   "cell_type": "code",
   "execution_count": 127,
   "metadata": {
    "collapsed": false
   },
   "outputs": [
    {
     "data": {
      "text/latex": [
       "\\begin{equation*} \\frac{\\sqrt{2}}{2}  - \\frac{\\sqrt{2}}{2} \\boldsymbol{e}_{1}\\wedge \\boldsymbol{e}_{2} \\end{equation*}"
      ],
      "text/plain": [
       "\\frac{\\sqrt{2}}{2}  - \\frac{\\sqrt{2}}{2} \\boldsymbol{e}_{1}\\wedge \\boldsymbol{e}_{2}"
      ]
     },
     "execution_count": 127,
     "metadata": {},
     "output_type": "execute_result"
    }
   ],
   "source": [
    "r2 = cos(pi/4) - sin(pi/4)*(e1 ^ e2)\n",
    "r2"
   ]
  },
  {
   "cell_type": "code",
   "execution_count": 177,
   "metadata": {
    "collapsed": false
   },
   "outputs": [],
   "source": [
    "r0 = np.cos(np.pi/4)\n",
    "r1 = +np.sin(np.pi/4) \n",
    "r2 = 0.0\n",
    "r3 = 0.0"
   ]
  },
  {
   "cell_type": "code",
   "execution_count": 179,
   "metadata": {
    "collapsed": false
   },
   "outputs": [
    {
     "data": {
      "text/plain": [
       "array([[  2.22044605e-16,  -1.00000000e+00,   0.00000000e+00],\n",
       "       [  1.00000000e+00,   2.22044605e-16,  -0.00000000e+00],\n",
       "       [  0.00000000e+00,   0.00000000e+00,   1.00000000e+00]])"
      ]
     },
     "execution_count": 179,
     "metadata": {},
     "output_type": "execute_result"
    }
   ],
   "source": [
    "rm = np.array([[r0**2 -r1**2 - r2**2 + r3**2, 2*(-r0*r1 - r2*r3), 2*(-r0*r2 + r1*r3)],\n",
    "               [2*(r0*r1 - r2*r3), r0**2 -r1**2 + r2**2 - r3**2, 2*(-r0*r3 - r1*r2) ],\n",
    "               [2*(r0*r2 + r1*r3), 2*(r0*r3 - r1*r2), r0**2 + r1**2 - r2**2 - r3**2  ]])\n",
    "# rm = -1 * rm\n",
    "rm"
   ]
  },
  {
   "cell_type": "code",
   "execution_count": 175,
   "metadata": {
    "collapsed": false
   },
   "outputs": [
    {
     "data": {
      "text/plain": [
       "array([[ -2.22044605e-16],\n",
       "       [  1.00000000e+00],\n",
       "       [ -0.00000000e+00]])"
      ]
     },
     "execution_count": 175,
     "metadata": {},
     "output_type": "execute_result"
    }
   ],
   "source": [
    "np.dot(rm,np.array([1.0,0.0,0.0]).reshape(3,1))"
   ]
  },
  {
   "cell_type": "code",
   "execution_count": 147,
   "metadata": {
    "collapsed": false
   },
   "outputs": [
    {
     "data": {
      "text/plain": [
       "array([[ 0., -1.,  0.,  0.],\n",
       "       [ 1.,  0.,  0.,  0.],\n",
       "       [-0.,  0.,  1.,  0.],\n",
       "       [ 0.,  0.,  0.,  1.]])"
      ]
     },
     "execution_count": 147,
     "metadata": {},
     "output_type": "execute_result"
    }
   ],
   "source": [
    "quaternion_matrix([-r3, r2, -r1, r0])"
   ]
  },
  {
   "cell_type": "code",
   "execution_count": 139,
   "metadata": {
    "collapsed": true
   },
   "outputs": [],
   "source": [
    "from transformations import quaternion_matrix"
   ]
  },
  {
   "cell_type": "code",
   "execution_count": 152,
   "metadata": {
    "collapsed": false
   },
   "outputs": [
    {
     "data": {
      "text/plain": [
       "array([[ 0.],\n",
       "       [ 1.],\n",
       "       [ 0.]])"
      ]
     },
     "execution_count": 152,
     "metadata": {},
     "output_type": "execute_result"
    }
   ],
   "source": [
    "np.dot(quaternion_matrix([-r3, r2, -r1, r0]),np.array([1.0,0.0,0.0,1.0]).reshape(4,1))[:3]"
   ]
  },
  {
   "cell_type": "code",
   "execution_count": 154,
   "metadata": {
    "collapsed": true
   },
   "outputs": [],
   "source": [
    "quaternion_matrix?"
   ]
  },
  {
   "cell_type": "code",
   "execution_count": 158,
   "metadata": {
    "collapsed": false
   },
   "outputs": [
    {
     "data": {
      "text/plain": [
       "0.998109470983818"
      ]
     },
     "execution_count": 158,
     "metadata": {},
     "output_type": "execute_result"
    }
   ],
   "source": [
    "cos(0.123/ 2)\n",
    "# sin(0.123/ 2)"
   ]
  }
 ],
 "metadata": {
  "kernelspec": {
   "display_name": "Python 2",
   "language": "python",
   "name": "python2"
  },
  "language_info": {
   "codemirror_mode": {
    "name": "ipython",
    "version": 2
   },
   "file_extension": ".py",
   "mimetype": "text/x-python",
   "name": "python",
   "nbconvert_exporter": "python",
   "pygments_lexer": "ipython2",
   "version": "2.7.6"
  }
 },
 "nbformat": 4,
 "nbformat_minor": 0
}
