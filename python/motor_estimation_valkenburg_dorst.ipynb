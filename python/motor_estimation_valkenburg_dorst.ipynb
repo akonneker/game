{
 "cells": [
  {
   "cell_type": "markdown",
   "metadata": {},
   "source": [
    "# Estimating Motors from a Variety of Geometric Data in 3D Conformal Geometric Algebra\n",
    "\n",
    "Robert Valkenburg and Leo Dorst"
   ]
  },
  {
   "cell_type": "code",
   "execution_count": 1,
   "metadata": {
    "collapsed": false
   },
   "outputs": [
    {
     "name": "stdout",
     "output_type": "stream",
     "text": [
      "Populating the interactive namespace from numpy and matplotlib\n"
     ]
    }
   ],
   "source": [
    "from __future__ import print_function\n",
    "import sys\n",
    "sys.path.append('../build/')\n",
    "%pylab inline\n",
    "np.set_printoptions(precision=2, suppress=True)\n",
    "import versor as vsr\n",
    "from versor.drawing import *\n",
    "from game import (MotorEstimationSolver, VDMotorEstimationSolver)"
   ]
  },
  {
   "cell_type": "code",
   "execution_count": 2,
   "metadata": {
    "collapsed": false
   },
   "outputs": [],
   "source": [
    "import versor as vsr"
   ]
  },
  {
   "cell_type": "markdown",
   "metadata": {},
   "source": [
    "## Dataset Generation"
   ]
  },
  {
   "cell_type": "code",
   "execution_count": 3,
   "metadata": {
    "collapsed": false
   },
   "outputs": [
    {
     "name": "stdout",
     "output_type": "stream",
     "text": [
      "Mot: [ 0.87 0 -0.5 0 -0.68 -0.43 -0.18 -0.25 ]\n"
     ]
    }
   ],
   "source": [
    "motor = vsr.Vec(1,1,1).trs() * vsr.Rot(vsr.Biv(0,1,0) * np.pi/6.0)\n",
    "print(motor)"
   ]
  },
  {
   "cell_type": "code",
   "execution_count": 4,
   "metadata": {
    "collapsed": false
   },
   "outputs": [],
   "source": [
    "n_points = 10\n",
    "sigma = 0.09\n",
    "points_a = [vsr.Vec(*np.random.rand(3)).null() \n",
    "            for i in range(n_points)]\n",
    "points_b = [point.spin(motor) for point in points_a]\n",
    "points_b_noisy = [vsr.Vec(*(np.array(point)[:3] \n",
    "                            + sigma * np.random.randn(3))).null() \n",
    "                  for point in points_b]"
   ]
  },
  {
   "cell_type": "code",
   "execution_count": 5,
   "metadata": {
    "collapsed": false
   },
   "outputs": [],
   "source": [
    "lines_a = [vsr.Dll(vsr.Vec(*np.random.normal(0.0,0.8,3)).null(),\n",
    "                   vsr.Vec(*np.random.normal(0.0,0.8,3)).null())\n",
    "          for i in range(10)]\n",
    "lines_b = [line.spin(motor) for line in lines_a]"
   ]
  },
  {
   "cell_type": "code",
   "execution_count": 6,
   "metadata": {
    "collapsed": true
   },
   "outputs": [],
   "source": [
    "n_planes = 100\n",
    "planes_a = []\n",
    "for i in range(10):\n",
    "    dir_vec = vsr.Vec(*np.random.normal(0.0, 0.8, 3)).unit()\n",
    "    distance = np.random.normal(0.0, 0.8,1)\n",
    "    planes_a.append(vsr.Dlp(dir_vec[0],dir_vec[1],dir_vec[2],distance[0]))\n",
    "planes_b = [plane.spin(motor) for plane in planes_a]"
   ]
  },
  {
   "cell_type": "code",
   "execution_count": 7,
   "metadata": {
    "collapsed": false
   },
   "outputs": [],
   "source": [
    "n_drvs = 10\n",
    "drvs_a = [vsr.Vec(*np.random.rand(3)).unit().drv() for i in range(10)]\n",
    "drvs_b = [d.spin(motor) for d in drvs_a]"
   ]
  },
  {
   "cell_type": "code",
   "execution_count": 8,
   "metadata": {
    "collapsed": false,
    "scrolled": false
   },
   "outputs": [
    {
     "name": "stdout",
     "output_type": "stream",
     "text": [
      "[ 0.87  0.   -0.5   0.    0.    0.    0.    0.  ]\n"
     ]
    }
   ],
   "source": [
    "vd = VDMotorEstimationSolver()\n",
    "vd.add_dual_plane_observations(planes_a, planes_b)\n",
    "# vd.add_dual_line_observations(lines_a, lines_b)\n",
    "# vd.add_point_observations(points_a, points_b_noisy)\n",
    "vd_estimated_motor = vd.solve()\n",
    "print(np.array(vd_estimated_motor))"
   ]
  },
  {
   "cell_type": "code",
   "execution_count": 9,
   "metadata": {
    "collapsed": false
   },
   "outputs": [
    {
     "name": "stdout",
     "output_type": "stream",
     "text": [
      "Dlp: [ 0.05987 1 1.029 2.6 ]\n",
      "Dlp: [ 0.03118 1 1.323 2.605 ]\n",
      "Dlp: [ 0.7329 1 1.061 2.327 ]\n",
      "Dlp: [ 0.4154 1 1.48 3.281 ]\n",
      "Dlp: [ 0.6164 1 1.341 2.162 ]\n",
      "Dlp: [ 0.4985 1 1.504 3.069 ]\n",
      "Dlp: [ 0.05634 1 1.598 2.768 ]\n",
      "Dlp: [ 0.07839 1 1.554 3.399 ]\n",
      "Dlp: [ 0.6611 1 1.207 2.222 ]\n",
      "Dlp: [ 0.3257 1 0.683 1.697 ]\n"
     ]
    }
   ],
   "source": [
    "for a, b in zip(points_a, points_b):\n",
    "    print(b - a)"
   ]
  },
  {
   "cell_type": "code",
   "execution_count": 10,
   "metadata": {
    "collapsed": false
   },
   "outputs": [],
   "source": [
    "scene = Scene(children=[point_mesh(points_a[0],color='hotpink'),\n",
    "                        point_mesh(points_b[0],color='hotpink'),\n",
    "#                         plane_mesh(points_b[0] - points_a[0], width=10, height=10,color='lightskyblue'),\n",
    "                       frame_mesh(),AmbientLight(color='#cccccc')])\n",
    "\n",
    "camera = PerspectiveCamera(position=[3, -3, 3])\n",
    "renderer = Renderer(camera=camera, \n",
    "                    scene=scene, \n",
    "                    controls=[TrackballControls(controlling=camera)],\n",
    "                    background = 'white')\n",
    "display(renderer)"
   ]
  },
  {
   "cell_type": "code",
   "execution_count": 11,
   "metadata": {
    "collapsed": false
   },
   "outputs": [
    {
     "name": "stdout",
     "output_type": "stream",
     "text": [
      "\n",
      "Solver Summary (v 1.11.0-eigen-(3.2.92)-lapack-suitesparse-(4.4.6)-openmp)\n",
      "\n",
      "                                     Original                  Reduced\n",
      "Parameter blocks                            1                        1\n",
      "Parameters                                  8                        8\n",
      "Effective parameters                        6                        6\n",
      "Residual blocks                            10                       10\n",
      "Residual                                   60                       60\n",
      "\n",
      "Minimizer                        TRUST_REGION\n",
      "\n",
      "Dense linear algebra library            EIGEN\n",
      "Trust region strategy     LEVENBERG_MARQUARDT\n",
      "\n",
      "                                        Given                     Used\n",
      "Linear solver                        DENSE_QR                 DENSE_QR\n",
      "Threads                                     1                        1\n",
      "Linear solver threads                       1                        1\n",
      "\n",
      "Cost:\n",
      "Initial                          6.680085e+01\n",
      "Final                            3.528851e-19\n",
      "Change                           6.680085e+01\n",
      "\n",
      "Minimizer iterations                        4\n",
      "Successful steps                            4\n",
      "Unsuccessful steps                          0\n",
      "\n",
      "Time (in seconds):\n",
      "Preprocessor                           0.0001\n",
      "\n",
      "  Residual evaluation                  0.0001\n",
      "  Jacobian evaluation                  0.0005\n",
      "  Linear solver                        0.0001\n",
      "Minimizer                              0.0008\n",
      "\n",
      "Postprocessor                          0.0000\n",
      "Total                                  0.0009\n",
      "\n",
      "Termination:                      CONVERGENCE (Parameter tolerance reached. Relative step_norm: 6.329526e-11 <= 1.000000e-08.)\n",
      "\n",
      "[ 0.87  0.   -0.5   0.   -0.68 -0.43 -0.18 -0.25]\n"
     ]
    }
   ],
   "source": [
    "initial_motor = vsr.Mot(1.0, 0.0, 0.0, 0.0, 0.0, 0.0, 0.0, 0.0)\n",
    "mes = MotorEstimationSolver(initial_motor)\n",
    "# for a,b in zip(drvs_a, drvs_b):\n",
    "#     mes.add_direction_vector_inner_product_residual_block(a,b)\n",
    "for a,b in zip(lines_a, lines_b):\n",
    "    mes.add_line_correspondences_residual_block(a,b)\n",
    "#     mes.add_line_commutator_residual_block(a,b) \n",
    "#     mes.add_line_inner_product_residual_block(a,b)\n",
    "#     mes.add_line_angle_distance_norm_residual_block(a,b)\n",
    "    \n",
    "# for a,b in zip(points_a, points_b):\n",
    "#     mes.add_point_distance_residual_block(a,b)\n",
    "#     mes.add_point_correspondences_residual_block(a,b)\n",
    "# for a, b, c, d, e, f in zip(points_a, points_b, lines_a, lines_b, planes_a, planes_b):\n",
    "#     mes.add_point_difference_residual_block(a,b)\n",
    "#     mes.add_line_correspondences_residual_block(c,d)\n",
    "#     mes.add_dual_plane_difference_residual_block(e,f)\n",
    "mes.set_parameterization('BIVECTOR_GENERATOR')\n",
    "mes.linear_solver_type = 'DENSE_QR'\n",
    "# mes.num_linear_solver_threads = 4\n",
    "# mes.num_threads = 4\n",
    "# mes.function_tolerance  = 1e-16\n",
    "\n",
    "mes.max_num_iterations = 1000\n",
    "# mes.minimizer_type = 'LINE_SEARCH'\n",
    "\n",
    "te_estimated_motor, summary, motors = mes.solve()\n",
    "print(summary['full_report'])\n",
    "print(np.array(te_estimated_motor))"
   ]
  },
  {
   "cell_type": "code",
   "execution_count": 12,
   "metadata": {
    "collapsed": false
   },
   "outputs": [
    {
     "name": "stdout",
     "output_type": "stream",
     "text": [
      "[ 0.87  0.   -0.5   0.   -0.68 -0.43 -0.18 -0.25]\n"
     ]
    }
   ],
   "source": [
    "print(np.array(motor))"
   ]
  },
  {
   "cell_type": "code",
   "execution_count": 13,
   "metadata": {
    "collapsed": false
   },
   "outputs": [
    {
     "data": {
      "text/plain": [
       "False"
      ]
     },
     "execution_count": 13,
     "metadata": {},
     "output_type": "execute_result"
    }
   ],
   "source": [
    "np.allclose(vd_estimated_motor, te_estimated_motor, atol=1e-03)"
   ]
  },
  {
   "cell_type": "code",
   "execution_count": 14,
   "metadata": {
    "collapsed": false
   },
   "outputs": [
    {
     "name": "stdout",
     "output_type": "stream",
     "text": [
      "[[  0.73   1.73   2.73   1.     0.     0.     0.     0.  ]\n",
      " [  1.73  -0.73  -1.     2.73   0.     0.     0.     0.  ]\n",
      " [  2.73   1.    -0.73  -1.73   0.     0.     0.     0.  ]\n",
      " [ 11.26   1.    -4.5    1.    -0.73  -1.73  -2.73  -1.  ]]\n"
     ]
    }
   ],
   "source": [
    "dlp = vsr.Dlp(1,1,1,5)\n",
    "Jac = np.zeros((5,8))\n",
    "for i in range(8):\n",
    "    ei = vsr.Mot(0,0,0,0,0,0,0,0)\n",
    "    ei[i] = 1.\n",
    "    Jac[:,i] = np.array((vsr.CGA(motor) * vsr.CGA(dlp) * vsr.CGA(ei.rev()) +\n",
    "                         vsr.CGA(ei) * vsr.CGA(dlp) * vsr.CGA(motor.rev())))[1:6]\n",
    "Jac = np.delete(Jac,3,0)\n",
    "print(Jac)"
   ]
  },
  {
   "cell_type": "code",
   "execution_count": 15,
   "metadata": {
    "collapsed": false
   },
   "outputs": [
    {
     "name": "stdout",
     "output_type": "stream",
     "text": [
      "[[ 0.    0.5   0.    0.    0.    0.  ]\n",
      " [ 0.87  0.   -0.5   0.    0.    0.  ]\n",
      " [ 0.    0.87  0.    0.    0.    0.  ]\n",
      " [ 0.5   0.    0.87  0.    0.    0.  ]\n",
      " [-0.43 -0.18  0.25  0.87  0.    0.5 ]\n",
      " [ 0.68 -0.25 -0.18  0.    0.87  0.  ]\n",
      " [ 0.25  0.68  0.43 -0.5   0.    0.87]\n",
      " [-0.18  0.43 -0.68  0.    0.5   0.  ]]\n"
     ]
    }
   ],
   "source": [
    "Jac3 = np.zeros((8,6))\n",
    "Jac3[:,0] = vsr.Dll(1,0,0,0,0,0) * motor\n",
    "Jac3[:,1] = vsr.Dll(0,1,0,0,0,0) * motor\n",
    "Jac3[:,2] = vsr.Dll(0,0,1,0,0,0) * motor\n",
    "Jac3[:,3] = vsr.Dll(0,0,0,1,0,0) * motor\n",
    "Jac3[:,4] = vsr.Dll(0,0,0,0,1,0) * motor\n",
    "Jac3[:,5] = vsr.Dll(0,0,0,0,0,1) * motor\n",
    "print(Jac3)"
   ]
  },
  {
   "cell_type": "code",
   "execution_count": 16,
   "metadata": {
    "collapsed": false
   },
   "outputs": [
    {
     "data": {
      "text/plain": [
       "array([[ 2.  ,  2.73,  0.  ,  0.  ,  0.  ,  0.  ],\n",
       "       [ 0.73,  0.  ,  2.73,  0.  ,  0.  ,  0.  ],\n",
       "       [ 0.  ,  0.73, -2.  ,  0.  ,  0.  ,  0.  ],\n",
       "       [-0.  ,  0.  ,  0.  ,  0.73, -2.  , -2.73]])"
      ]
     },
     "execution_count": 16,
     "metadata": {},
     "output_type": "execute_result"
    }
   ],
   "source": [
    "np.dot(Jac,Jac3)"
   ]
  },
  {
   "cell_type": "code",
   "execution_count": 17,
   "metadata": {
    "collapsed": false
   },
   "outputs": [],
   "source": [
    "p1s = [vsr.Vec(1,0,0).null(), vsr.Vec(0,1,0).null(), vsr.Vec(-1,0,1).null()] \n",
    "p2s = [p1i.spin(motor) for p1i in p1s] \n",
    "p3s = [(p2i.vec() - p1i.vec()).null() for p1i, p2i in zip(p1s,p2s)]\n",
    "c1 = vsr.Cir(*p1s)\n",
    "c2 = vsr.Cir(*p2s)\n",
    "c3 = vsr.Cir(*p3s)"
   ]
  },
  {
   "cell_type": "code",
   "execution_count": 58,
   "metadata": {
    "collapsed": false,
    "scrolled": true
   },
   "outputs": [
    {
     "data": {
      "text/plain": [
       "array([ 1.82, -0.71, -0.11,  0.  ,  0.  ,  0.  ,  0.41, -0.41,  0.41,  0.  ])"
      ]
     },
     "execution_count": 58,
     "metadata": {},
     "output_type": "execute_result"
    }
   ],
   "source": [
    "np.array((vsr.CGA(motor) * vsr.CGA(c1.axis()) * vsr.CGA(vsr.Mot(1,0,0,0,0,0,0,0).rev()) +\n",
    " vsr.CGA(vsr.Mot(1,0,0,0,0,0,0,0)) * vsr.CGA(c1.axis()) * vsr.CGA(motor.rev())))[6:16]"
   ]
  },
  {
   "cell_type": "code",
   "execution_count": 65,
   "metadata": {
    "collapsed": false
   },
   "outputs": [
    {
     "name": "stdout",
     "output_type": "stream",
     "text": [
      "[[ 1.82  0.41  0.11 -0.71  0.    0.    0.    0.  ]\n",
      " [-0.71 -0.11  0.41 -1.82  0.    0.    0.    0.  ]\n",
      " [-0.11  0.71  1.82  0.41  0.    0.    0.    0.  ]\n",
      " [ 0.41 -0.41  0.41 -1.01  0.41 -1.82  0.71  0.11]\n",
      " [-0.41 -0.41  1.01  0.41  1.82  0.41  0.11 -0.71]\n",
      " [ 0.41 -1.01 -0.41  0.41 -0.71 -0.11  0.41 -1.82]]\n"
     ]
    }
   ],
   "source": [
    "JacCircle = np.zeros((6,8))\n",
    "for i in range(8):\n",
    "    ei = vsr.Mot(0,0,0,0,0,0,0,0)\n",
    "    ei[i] = 1.\n",
    "    JacCircle[:,i] = np.delete(np.array((vsr.CGA(motor) * vsr.CGA(c1.axis()) * vsr.CGA(ei.rev()) +\n",
    "                               vsr.CGA(ei) * vsr.CGA(c1.axis()) * vsr.CGA(motor.rev())))[6:16],[3,4,5,9])\n",
    "print(JacCircle)"
   ]
  },
  {
   "cell_type": "code",
   "execution_count": 60,
   "metadata": {
    "collapsed": false
   },
   "outputs": [
    {
     "data": {
      "text/plain": [
       "array([[ 0.,  0.,  0.,  0.,  0.,  0.],\n",
       "       [ 0.,  0.,  0.,  0.,  0.,  0.],\n",
       "       [ 0.,  0.,  0.,  0.,  0.,  0.],\n",
       "       [ 0.,  0.,  0.,  0.,  0.,  0.],\n",
       "       [ 0.,  0.,  0.,  0.,  0.,  0.],\n",
       "       [ 0.,  0.,  0.,  0.,  0.,  0.],\n",
       "       [ 0.,  0.,  0.,  0.,  0.,  0.],\n",
       "       [ 0.,  0.,  0.,  0.,  0.,  0.],\n",
       "       [ 0.,  0.,  0.,  0.,  0.,  0.],\n",
       "       [ 0.,  0.,  0.,  0.,  0.,  0.],\n",
       "       [ 0.,  0.,  0.,  0.,  0.,  0.],\n",
       "       [ 0.,  0.,  0.,  0.,  0.,  0.],\n",
       "       [ 0.,  0.,  0.,  0.,  0.,  0.],\n",
       "       [ 0.,  0.,  0.,  0.,  0.,  0.],\n",
       "       [ 0.,  0.,  0.,  0.,  0.,  0.],\n",
       "       [ 0.,  0.,  0.,  0.,  0.,  0.],\n",
       "       [ 0.,  0.,  0.,  0.,  0.,  0.],\n",
       "       [ 0.,  0.,  0.,  0.,  0.,  0.],\n",
       "       [ 0.,  0.,  0.,  0.,  0.,  0.],\n",
       "       [ 0.,  0.,  0.,  0.,  0.,  0.],\n",
       "       [ 0.,  0.,  0.,  0.,  0.,  0.],\n",
       "       [ 0.,  0.,  0.,  0.,  0.,  0.],\n",
       "       [ 0.,  0.,  0.,  0.,  0.,  0.],\n",
       "       [ 0.,  0.,  0.,  0.,  0.,  0.],\n",
       "       [ 0.,  0.,  0.,  0.,  0.,  0.],\n",
       "       [ 0.,  0.,  0.,  0.,  0.,  0.],\n",
       "       [ 0.,  0.,  0.,  0.,  0.,  0.],\n",
       "       [ 0.,  0.,  0.,  0.,  0.,  0.],\n",
       "       [ 0.,  0.,  0.,  0.,  0.,  0.],\n",
       "       [ 0.,  0.,  0.,  0.,  0.,  0.]])"
      ]
     },
     "execution_count": 60,
     "metadata": {},
     "output_type": "execute_result"
    }
   ],
   "source": [
    "np.dot(np.row_stack((JacCircle,JacCircle,JacCircle)),Jac3)"
   ]
  },
  {
   "cell_type": "code",
   "execution_count": 21,
   "metadata": {
    "collapsed": false
   },
   "outputs": [
    {
     "name": "stdout",
     "output_type": "stream",
     "text": [
      "Mot: [ 0.87 0 -0.5 0 -1.2 -0.87 -1 -0.5 ]\n"
     ]
    }
   ],
   "source": [
    "trs = vsr.Vec(1,2,3).trs() * vsr.Biv(0,pi/6,0).exp()\n",
    "print(trs)\n",
    "cdiff = c1.spin(trs)"
   ]
  },
  {
   "cell_type": "code",
   "execution_count": 22,
   "metadata": {
    "collapsed": false
   },
   "outputs": [],
   "source": [
    "ans = c1.dual().comm(cdiff.dual()).undual()\n",
    "scene = Scene(children=[circle_mesh(c1,color='hotpink'),\n",
    "                        point_mesh(c1.pnt(),color='hotpink'),\n",
    "                        circle_mesh(cdiff,color='lightskyblue'),\n",
    "                        point_mesh(cdiff.pnt(),color='lightskyblue'),\n",
    "                        line_mesh(vsr.Dll(c1.pnt(), cdiff.pnt())),\n",
    "                        bivector_mesh(cdiff.dir().unit()),\n",
    "                        circle_mesh(ans,color='green'),\n",
    "                        point_mesh(ans.pnt(),color='green'),\n",
    "#                         vector_mesh(ans.dual().dir().vec(), arrow=True, position=(ans).pnt()),\n",
    "                        frame_mesh(),\n",
    "                        AmbientLight(color='#cccccc')] +\\\n",
    "             [point_mesh(p, color='red') for p in ans.dual().split()]\n",
    "             )\n",
    "\n",
    "camera = PerspectiveCamera(position=[3, -3, 3])\n",
    "renderer = Renderer(camera=camera, \n",
    "                    scene=scene, \n",
    "                    controls=[TrackballControls(controlling=camera)],\n",
    "                    background = 'white')\n",
    "display(renderer)"
   ]
  },
  {
   "cell_type": "code",
   "execution_count": 23,
   "metadata": {
    "collapsed": false
   },
   "outputs": [
    {
     "data": {
      "text/plain": [
       "Pnt: [ 0 0 0.5 1 0.125 ]"
      ]
     },
     "execution_count": 23,
     "metadata": {},
     "output_type": "execute_result"
    }
   ],
   "source": [
    "c1.pnt()\n"
   ]
  },
  {
   "cell_type": "code",
   "execution_count": 24,
   "metadata": {
    "collapsed": false
   },
   "outputs": [
    {
     "data": {
      "text/plain": [
       "Pnt: [ 0.567 2 3.25 1 7.442 ]"
      ]
     },
     "execution_count": 24,
     "metadata": {},
     "output_type": "execute_result"
    }
   ],
   "source": [
    "cdiff.pnt()"
   ]
  },
  {
   "cell_type": "code",
   "execution_count": 25,
   "metadata": {
    "collapsed": false
   },
   "outputs": [
    {
     "data": {
      "text/plain": [
       "Pnt: [ 0.04788 0.8923 1.848 1 2.108 ]"
      ]
     },
     "execution_count": 25,
     "metadata": {},
     "output_type": "execute_result"
    }
   ],
   "source": [
    "ans.pnt()"
   ]
  },
  {
   "cell_type": "code",
   "execution_count": 26,
   "metadata": {
    "collapsed": false
   },
   "outputs": [
    {
     "data": {
      "text/plain": [
       "Par: [ 1.254 12.67 3.663 5.49 -7.5 -18.29 -5.826 -0.5849 13.19 40.25 ]"
      ]
     },
     "execution_count": 26,
     "metadata": {},
     "output_type": "execute_result"
    }
   ],
   "source": [
    "ans = c1.dual().comm(cdiff.dual())\n",
    "ans"
   ]
  },
  {
   "cell_type": "code",
   "execution_count": 27,
   "metadata": {
    "collapsed": false
   },
   "outputs": [
    {
     "data": {
      "text/plain": [
       "1.4672999095746644"
      ]
     },
     "execution_count": 27,
     "metadata": {},
     "output_type": "execute_result"
    }
   ],
   "source": [
    "ans.radius()"
   ]
  },
  {
   "cell_type": "code",
   "execution_count": 28,
   "metadata": {
    "collapsed": false,
    "scrolled": true
   },
   "outputs": [
    {
     "ename": "TypeError",
     "evalue": "Unable to convert function return value to a Python type! The signature was\n\t(Drv) -> vsr::Multivector<vsr::algebra<vsr::metric<4, 1, true>, double>, vsr::Basis<(short)19, (short)21, (short)22> >",
     "output_type": "error",
     "traceback": [
      "\u001b[1;31m---------------------------------------------------------------------------\u001b[0m",
      "\u001b[1;31mTypeError\u001b[0m                                 Traceback (most recent call last)",
      "\u001b[1;32m<ipython-input-28-4c2deed60e20>\u001b[0m in \u001b[0;36m<module>\u001b[1;34m()\u001b[0m\n\u001b[1;32m----> 1\u001b[1;33m \u001b[0mans\u001b[0m\u001b[1;33m.\u001b[0m\u001b[0mdir\u001b[0m\u001b[1;33m(\u001b[0m\u001b[1;33m)\u001b[0m\u001b[1;33m.\u001b[0m\u001b[0munit\u001b[0m\u001b[1;33m(\u001b[0m\u001b[1;33m)\u001b[0m\u001b[1;33m.\u001b[0m\u001b[0munduale\u001b[0m\u001b[1;33m(\u001b[0m\u001b[1;33m)\u001b[0m\u001b[1;33m\u001b[0m\u001b[0m\n\u001b[0m",
      "\u001b[1;31mTypeError\u001b[0m: Unable to convert function return value to a Python type! The signature was\n\t(Drv) -> vsr::Multivector<vsr::algebra<vsr::metric<4, 1, true>, double>, vsr::Basis<(short)19, (short)21, (short)22> >"
     ]
    }
   ],
   "source": [
    "ans.dir().unit().unduale()"
   ]
  },
  {
   "cell_type": "code",
   "execution_count": null,
   "metadata": {
    "collapsed": false
   },
   "outputs": [],
   "source": [
    "cdiff.dir().unit().unduale() "
   ]
  },
  {
   "cell_type": "code",
   "execution_count": null,
   "metadata": {
    "collapsed": false
   },
   "outputs": [],
   "source": [
    "c1.dir().unit().unduale() "
   ]
  },
  {
   "cell_type": "code",
   "execution_count": null,
   "metadata": {
    "collapsed": false
   },
   "outputs": [],
   "source": [
    "c1.radius()"
   ]
  },
  {
   "cell_type": "code",
   "execution_count": null,
   "metadata": {
    "collapsed": false
   },
   "outputs": [],
   "source": [
    "cdiff.radius()"
   ]
  },
  {
   "cell_type": "code",
   "execution_count": null,
   "metadata": {
    "collapsed": false
   },
   "outputs": [],
   "source": [
    "c1.pnt().vec() - cdiff.pnt().vec()"
   ]
  },
  {
   "cell_type": "code",
   "execution_count": null,
   "metadata": {
    "collapsed": false
   },
   "outputs": [],
   "source": [
    "(c1 - cdiff).dual().dir().vec()"
   ]
  },
  {
   "cell_type": "code",
   "execution_count": null,
   "metadata": {
    "collapsed": false
   },
   "outputs": [],
   "source": [
    "ans[0]"
   ]
  },
  {
   "cell_type": "code",
   "execution_count": null,
   "metadata": {
    "collapsed": false
   },
   "outputs": [],
   "source": [
    "- np.outer(l1,l2)ans[1].undual()"
   ]
  },
  {
   "cell_type": "code",
   "execution_count": null,
   "metadata": {
    "collapsed": false
   },
   "outputs": [],
   "source": [
    "vsr.Lin(c1 - cdiff).__print_debug_info_console()"
   ]
  },
  {
   "cell_type": "code",
   "execution_count": null,
   "metadata": {
    "collapsed": false
   },
   "outputs": [],
   "source": [
    "c1.__print_debug_info_console()\n",
    "cdiff.__print_debug_info_console()"
   ]
  },
  {
   "cell_type": "code",
   "execution_count": null,
   "metadata": {
    "collapsed": false
   },
   "outputs": [],
   "source": [
    "dlp2 = dlp.spin(motor)\n",
    "pd = dlp2 - dlp\n",
    "scene = Scene(children=[\n",
    "        vector_mesh(dlp.dir().vec(),color='hotpink', arrow=True),\n",
    "        plane_mesh(dlp,color='hotpink'),\n",
    "        plane_mesh(dlp2,color='lightskyblue'),\n",
    "        plane_mesh(dlp2-dlp,color='red'),\n",
    "                        frame_mesh(),\n",
    "                        AmbientLight(color='#cccccc')])\n",
    "\n",
    "camera = PerspectiveCamera(position=[3, -3, 3])\n",
    "renderer = Renderer(camera=camera, \n",
    "                    scene=scene, \n",
    "                    controls=[TrackballControls(controlling=camera)],\n",
    "                    background = 'white')\n",
    "display(renderer)"
   ]
  },
  {
   "cell_type": "code",
   "execution_count": null,
   "metadata": {
    "collapsed": false
   },
   "outputs": [],
   "source": [
    "dlp2.dir()"
   ]
  },
  {
   "cell_type": "code",
   "execution_count": null,
   "metadata": {
    "collapsed": false
   },
   "outputs": [],
   "source": [
    "dlp"
   ]
  },
  {
   "cell_type": "code",
   "execution_count": null,
   "metadata": {
    "collapsed": false
   },
   "outputs": [],
   "source": [
    "pd"
   ]
  },
  {
   "cell_type": "code",
   "execution_count": null,
   "metadata": {
    "collapsed": false
   },
   "outputs": [],
   "source": [
    "l1 = lines_a[0]\n",
    "l2 = lines_b[0]\n",
    "Z = np.outer(l2,l1) - np.outer(l1,l2)\n",
    "print(Z)"
   ]
  },
  {
   "cell_type": "code",
   "execution_count": null,
   "metadata": {
    "collapsed": false
   },
   "outputs": [],
   "source": [
    "np.linalg.eig(Z)"
   ]
  },
  {
   "cell_type": "code",
   "execution_count": null,
   "metadata": {
    "collapsed": false
   },
   "outputs": [],
   "source": [
    "np.linalg.norm(l2.comm(l1) * 2.) / np.sqrt(2)"
   ]
  },
  {
   "cell_type": "code",
   "execution_count": null,
   "metadata": {
    "collapsed": false
   },
   "outputs": [],
   "source": [
    "Z = np.zeros(6)\n",
    "for a,b in zip(lines_a, lines_b):\n",
    "    Z = Z + np.outer(a,b)"
   ]
  },
  {
   "cell_type": "code",
   "execution_count": null,
   "metadata": {
    "collapsed": false
   },
   "outputs": [],
   "source": [
    "U,s,Vt = np.linalg.svd(Z)\n",
    "np.dot(U.T,Vt)"
   ]
  },
  {
   "cell_type": "code",
   "execution_count": null,
   "metadata": {
    "collapsed": false
   },
   "outputs": [],
   "source": [
    "np.array(motor)"
   ]
  },
  {
   "cell_type": "code",
   "execution_count": null,
   "metadata": {
    "collapsed": true
   },
   "outputs": [],
   "source": [
    "n_circles = 10\n",
    "sigma = 0.09\n",
    "points_a = [vsr.Vec(*np.random.normal(0.0, 0.3, 3)).null() \n",
    "            for i in range(n_circles)]\n",
    "points_b = [point.spin(motor) for point in points_a]\n",
    "points_b_noisy = [vsr.Vec(*(np.array(point)[:3] \n",
    "                            + sigma * np.random.randn(3))).null() \n",
    "                  for point in points_b]\n",
    "\n",
    "radiuss = [np.random.rand() for i in range(n_circles)]\n",
    "bivs = [vsr.Vec(*np.random.normal(0.0, 0.3, 3)).unit().unduale()\n",
    "            for i in range(n_circles)]\n",
    "\n",
    "circs_a = [vsr.Cir(p,r,b) for p,r,b in zip(points_a, radiuss, bivs)]\n",
    "# circs_b = [vsr.Cir(p,r,b) for p,r,b in zip(points_b_noisy, radiuss, bivs)]\n",
    "circs_b = [circle.spin(motor) for circle in circs_a]\n"
   ]
  },
  {
   "cell_type": "code",
   "execution_count": null,
   "metadata": {
    "collapsed": false
   },
   "outputs": [],
   "source": [
    "initial_motor = vsr.Mot(1.0, 0.0, 0.0, 0.0, 0.0, 0.0, 0.0, 0.0)\n",
    "# initial_motor = vsr.Vec(2,3,4).trs() * vsr.Rot(vsr.Biv(0,-1,0) * np.pi/6)\n",
    "mes = MotorEstimationSolver(initial_motor)\n",
    "for a, b in zip(circs_a, circs_b):\n",
    "    a1,a2 = a.dual().split()\n",
    "    b1,b2 = b.dual().split()\n",
    "    mes.add_line_correspondences_residual_block(vsr.Dll(a1,a2), vsr.Dll(b1,b2))\n",
    "mes.set_parameterization('BIVECTOR_GENERATOR')\n",
    "mes.linear_solver_type = 'DENSE_QR'\n",
    "(estimated_motor, summary, motors) = mes.solve()\n",
    "# print(summary['full_report'])\n",
    "print(estimated_motor)"
   ]
  },
  {
   "cell_type": "code",
   "execution_count": null,
   "metadata": {
    "collapsed": false
   },
   "outputs": [],
   "source": [
    "initial_motor = vsr.Mot(1.0, 0.0, 0.0, 0.0, 0.0, 0.0, 0.0, 0.0)\n",
    "# initial_motor = vsr.Vec(2,3,4).trs() * vsr.Rot(vsr.Biv(0,-1,0) * np.pi/6)\n",
    "mes = MotorEstimationSolver(initial_motor)\n",
    "for a, b in zip(circs_a, circs_b):\n",
    "#     mes.add_circle_difference_residual_block(a,b)\n",
    "    mes.add_circle_commutator_residual_block(a,b)\n",
    "mes.set_parameterization('BIVECTOR_GENERATOR')\n",
    "mes.linear_solver_type = 'DENSE_QR'\n",
    "(estimated_motor, summary, motors2) = mes.solve()\n",
    "print(summary['full_report'])\n",
    "print(estimated_motor)"
   ]
  },
  {
   "cell_type": "code",
   "execution_count": null,
   "metadata": {
    "collapsed": false
   },
   "outputs": [],
   "source": [
    "[np.allclose(m, m2,atol=1e-05) for m,m2 in zip(motors, motors2)]"
   ]
  },
  {
   "cell_type": "code",
   "execution_count": null,
   "metadata": {
    "collapsed": false
   },
   "outputs": [],
   "source": [
    "print(zip(motors, motors2)[-1])"
   ]
  },
  {
   "cell_type": "code",
   "execution_count": null,
   "metadata": {
    "collapsed": false
   },
   "outputs": [],
   "source": [
    "scene = Scene(children=\n",
    "#               [circle_mesh(c,color='hotpink') for c in circs_a] +\\\n",
    "#               [circle_mesh(c,color='lightskyblue') for c in circs_b] +\\\n",
    "              [circle_mesh(c.spin(motors[0]), color='red') for c in circs_a] +\\\n",
    "              [circle_mesh(c.spin(motors[1]), color='yellow') for c in circs_a] +\\\n",
    "              [circle_mesh(c.spin(motors2[1]), color='magenta') for c in circs_a] +\\\n",
    "\n",
    "#               [circle_mesh(c.spin(motors[2]), color='green') for c in circs_a] +\\\n",
    "# #               [circle_mesh(c.spin(motors[3]), color='cyan') for c in circs_a] +\\\n",
    "#               [circle_mesh(c.spin(motors[4]), color='blue') for c in circs_a] +\\\n",
    "\n",
    "#               [circle_mesh(c.spin(motors[-4]), color='green') for c in circs_a] +\\\n",
    "#               [circle_mesh(c.spin(motors2[-4]), color='red') for c in circs_a] +\\\n",
    "              [\n",
    "        \n",
    "                        frame_mesh(),\n",
    "                        AmbientLight(color='#cccccc')])\n",
    "\n",
    "camera = PerspectiveCamera(position=[3, -3, 3])\n",
    "renderer = Renderer(camera=camera, \n",
    "                    scene=scene, \n",
    "                    controls=[TrackballControls(controlling=camera)],\n",
    "                    background = 'white')\n",
    "renderer.width = '1024'\n",
    "renderer.height = '768'\n",
    "display(renderer)"
   ]
  }
 ],
 "metadata": {
  "kernelspec": {
   "display_name": "Python 2",
   "language": "python",
   "name": "python2"
  },
  "language_info": {
   "codemirror_mode": {
    "name": "ipython",
    "version": 2
   },
   "file_extension": ".py",
   "mimetype": "text/x-python",
   "name": "python",
   "nbconvert_exporter": "python",
   "pygments_lexer": "ipython2",
   "version": "2.7.11+"
  },
  "widgets": {
   "state": {
    "024aaf1f8b8f46f883c567a158d100a0": {
     "views": []
    },
    "04611041bf514d589593f6fab07c9052": {
     "views": []
    },
    "0f5fdfbdfe164a7fab5d6c8ce79dd723": {
     "views": []
    },
    "164c6d22da4f440cbb6b3715f9fe4733": {
     "views": []
    },
    "18ec39c0a1384794a0adb9d940114c42": {
     "views": []
    },
    "1b6209d0c75c411195565ef7e370dd6e": {
     "views": []
    },
    "1fdc7048badd4b7b8a0d2e9c9162c8c9": {
     "views": []
    },
    "263e86aadad44f8da661788f4f9b0e39": {
     "views": []
    },
    "2cf2d4b3dca84e539bc10e727ee654d0": {
     "views": []
    },
    "2f3634bbc5d743ad85c4c60a83cfd254": {
     "views": []
    },
    "30a37b48571e480d81c0b5d304b814af": {
     "views": []
    },
    "31027d26edf8447bb4bb7bfda958f7fd": {
     "views": []
    },
    "3522290af84e48eaa4315c43f57c903a": {
     "views": []
    },
    "35d741f81d0c4a55b12d306675d8d2bc": {
     "views": []
    },
    "366fc517d2664bbebc98a3e056f80414": {
     "views": []
    },
    "3958d8fc36a64aba91a7668c9e59e442": {
     "views": []
    },
    "3ef05b0f1d9b4991a29e82867557abf6": {
     "views": []
    },
    "428cd3257a6e4f57bbe00d8a16c43cde": {
     "views": []
    },
    "4428026c93f64412acb6ed4bd41d8c20": {
     "views": []
    },
    "4894eaa2d6564a9cbd1095da387104c4": {
     "views": []
    },
    "48ee921741a34e4ab7230b34660c4b8f": {
     "views": []
    },
    "4a9ec3bbed2f41db8d64bf0ef752f95c": {
     "views": []
    },
    "4ffcdcd212ef4af3b78d2338aad5d0c9": {
     "views": [
      {
       "cell_index": 11
      }
     ]
    },
    "52a4706a3ff44fa89fbf5cf9ce860858": {
     "views": []
    },
    "588c690470fc44ca83d137bf45bf8904": {
     "views": []
    },
    "5968f0bde5384f168d4a08c548e527b7": {
     "views": []
    },
    "5cc50ce1dabd4e478bf144b3b455761b": {
     "views": []
    },
    "6297979257d540d98343e6a709897860": {
     "views": []
    },
    "62b1a608d6bd4babb8ea8e957475e7e2": {
     "views": []
    },
    "62b5ba083eb3428f8269d84f15a0ed36": {
     "views": [
      {
       "cell_index": 23
      }
     ]
    },
    "6743848741a14eac8228c93b3175ff82": {
     "views": []
    },
    "6836a5b99612496e8ab759f4acf4de7e": {
     "views": []
    },
    "68757105b0df477694059d70e5cb69c6": {
     "views": []
    },
    "6d29bf3276e24b2b94d0f4f0e80d9800": {
     "views": []
    },
    "77b0fb8fd0114bc2bd68ce5e552f1452": {
     "views": []
    },
    "7e37d7d05ba84faaad8e0d9f549e9199": {
     "views": []
    },
    "81bf7caa19d146c2b594ceaeee31356d": {
     "views": []
    },
    "8cc18658989448dca5b42be68ee964db": {
     "views": []
    },
    "995b7ce1b0e346798ea1982676547dc3": {
     "views": []
    },
    "9e5d824e1395468887d30144eb46cbab": {
     "views": []
    },
    "a0193934f6db44fca6dfbfef1f658fdf": {
     "views": []
    },
    "aab9c35606e54fecb9e8367674790a06": {
     "views": []
    },
    "ac3e907eaf56436a9637c28feb5a52a5": {
     "views": []
    },
    "ad58568c86a64b38a3f8c22992d4cd26": {
     "views": []
    },
    "b26a260b669542c48a891f0afb335c38": {
     "views": []
    },
    "be4c3c5b2b894441b05fb9f511eb55a5": {
     "views": []
    },
    "c1c600bbc61947889dcec93fc7569673": {
     "views": []
    },
    "cbdecbdd023c43eda4773c529f3355d0": {
     "views": []
    },
    "d32afa8f407841509f921904b585964c": {
     "views": []
    },
    "dbf1a9bab39e4f7fb9e9e93c64934d8c": {
     "views": []
    },
    "dc61d39bbbcf4101b376918023a8684a": {
     "views": []
    },
    "dda4c818cb094c7189ec60b36dd8a23e": {
     "views": []
    },
    "df55c36141dc46d5bf23cea7054f6d03": {
     "views": []
    },
    "e6b1c445f3cb4d12bc0a24c678ef628b": {
     "views": []
    },
    "f0d0343f44b942ea8bb1ee8272354ed7": {
     "views": []
    },
    "f907663ff95145c08d019f31d2cac9e9": {
     "views": []
    },
    "fbe5b23939234357a7995d17dc0d0643": {
     "views": []
    }
   },
   "version": "1.1.2"
  }
 },
 "nbformat": 4,
 "nbformat_minor": 0
}
