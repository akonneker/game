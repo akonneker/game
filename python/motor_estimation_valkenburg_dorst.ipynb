{
 "cells": [
  {
   "cell_type": "markdown",
   "metadata": {},
   "source": [
    "# Estimating Motors from a Variety of Geometric Data in 3D Conformal Geometric Algebra\n",
    "\n",
    "Robert Valkenburg and Leo Dorst"
   ]
  },
  {
   "cell_type": "code",
   "execution_count": 1,
   "metadata": {
    "collapsed": false
   },
   "outputs": [
    {
     "name": "stdout",
     "output_type": "stream",
     "text": [
      "Populating the interactive namespace from numpy and matplotlib\n"
     ]
    }
   ],
   "source": [
    "from __future__ import print_function\n",
    "import sys\n",
    "sys.path.append('../build/')\n",
    "%pylab inline\n",
    "np.set_printoptions(precision=2, suppress=True)\n",
    "import versor as vsr\n",
    "from versor.drawing import *\n",
    "from game import (MotorEstimationSolver, VDMotorEstimationSolver)"
   ]
  },
  {
   "cell_type": "code",
   "execution_count": 2,
   "metadata": {
    "collapsed": false
   },
   "outputs": [],
   "source": [
    "import versor as vsr"
   ]
  },
  {
   "cell_type": "markdown",
   "metadata": {},
   "source": [
    "## Dataset Generation"
   ]
  },
  {
   "cell_type": "code",
   "execution_count": 3,
   "metadata": {
    "collapsed": false
   },
   "outputs": [
    {
     "name": "stdout",
     "output_type": "stream",
     "text": [
      "Mot: [ 0.87 0 -0.5 0 -0.68 -0.43 -0.18 -0.25 ]\n"
     ]
    }
   ],
   "source": [
    "motor = vsr.Vec(1,1,1).trs() * vsr.Rot(vsr.Biv(0,1,0) * np.pi/6.0)\n",
    "print(motor)"
   ]
  },
  {
   "cell_type": "code",
   "execution_count": 4,
   "metadata": {
    "collapsed": false
   },
   "outputs": [],
   "source": [
    "n_points = 10\n",
    "sigma = 0.09\n",
    "points_a = [vsr.Vec(*np.random.rand(3)).null() \n",
    "            for i in range(n_points)]\n",
    "points_b = [point.spin(motor) for point in points_a]\n",
    "points_b_noisy = [vsr.Vec(*(np.array(point)[:3] \n",
    "                            + sigma * np.random.randn(3))).null() \n",
    "                  for point in points_b]"
   ]
  },
  {
   "cell_type": "code",
   "execution_count": 5,
   "metadata": {
    "collapsed": false
   },
   "outputs": [],
   "source": [
    "lines_a = [vsr.Dll(vsr.Vec(*np.random.normal(0.0,0.8,3)).null(),\n",
    "                   vsr.Vec(*np.random.normal(0.0,0.8,3)).null())\n",
    "          for i in range(10)]\n",
    "lines_b = [line.spin(motor) for line in lines_a]"
   ]
  },
  {
   "cell_type": "code",
   "execution_count": 6,
   "metadata": {
    "collapsed": true
   },
   "outputs": [],
   "source": [
    "n_planes = 100\n",
    "planes_a = []\n",
    "for i in range(10):\n",
    "    dir_vec = vsr.Vec(*np.random.normal(0.0, 0.8, 3)).unit()\n",
    "    distance = np.random.normal(0.0, 0.8,1)\n",
    "    planes_a.append(vsr.Dlp(dir_vec[0],dir_vec[1],dir_vec[2],distance[0]))\n",
    "planes_b = [plane.spin(motor) for plane in planes_a]"
   ]
  },
  {
   "cell_type": "code",
   "execution_count": 7,
   "metadata": {
    "collapsed": false
   },
   "outputs": [],
   "source": [
    "n_drvs = 10\n",
    "drvs_a = [vsr.Vec(*np.random.rand(3)).unit().drv() for i in range(10)]\n",
    "drvs_b = [d.spin(motor) for d in drvs_a]"
   ]
  },
  {
   "cell_type": "code",
   "execution_count": 8,
   "metadata": {
    "collapsed": false,
    "scrolled": false
   },
   "outputs": [
    {
     "name": "stdout",
     "output_type": "stream",
     "text": [
      "[-0.87 -0.    0.5   0.    0.    0.    0.    0.  ]\n"
     ]
    }
   ],
   "source": [
    "vd = VDMotorEstimationSolver()\n",
    "vd.add_dual_plane_observations(planes_a, planes_b)\n",
    "# vd.add_dual_line_observations(lines_a, lines_b)\n",
    "# vd.add_point_observations(points_a, points_b_noisy)\n",
    "vd_estimated_motor = vd.solve()\n",
    "print(np.array(vd_estimated_motor))"
   ]
  },
  {
   "cell_type": "code",
   "execution_count": 9,
   "metadata": {
    "collapsed": false
   },
   "outputs": [
    {
     "name": "stdout",
     "output_type": "stream",
     "text": [
      "Dlp: [ 0.8361 1 1.004 1.569 ]\n",
      "Dlp: [ 0.002618 1 0.9409 2.229 ]\n",
      "Dlp: [ 0.296 1 1.391 2.486 ]\n",
      "Dlp: [ 0.3923 1 1.513 3.34 ]\n",
      "Dlp: [ 0.4327 1 0.9013 2.328 ]\n",
      "Dlp: [ 0.2311 1 0.5613 1.815 ]\n",
      "Dlp: [ 0.6047 1 0.8395 1.713 ]\n",
      "Dlp: [ -0.0409 1 1.429 2.757 ]\n",
      "Dlp: [ 0.1448 1 0.5395 1.328 ]\n",
      "Dlp: [ 0.644 1 1.529 2.911 ]\n"
     ]
    }
   ],
   "source": [
    "for a, b in zip(points_a, points_b):\n",
    "    print(b - a)"
   ]
  },
  {
   "cell_type": "code",
   "execution_count": 10,
   "metadata": {
    "collapsed": false
   },
   "outputs": [],
   "source": [
    "scene = Scene(children=[point_mesh(points_a[0],color='hotpink'),\n",
    "                        point_mesh(points_b[0],color='hotpink'),\n",
    "#                         plane_mesh(points_b[0] - points_a[0], width=10, height=10,color='lightskyblue'),\n",
    "                       frame_mesh(),AmbientLight(color='#cccccc')])\n",
    "\n",
    "camera = PerspectiveCamera(position=[3, -3, 3])\n",
    "renderer = Renderer(camera=camera, \n",
    "                    scene=scene, \n",
    "                    controls=[TrackballControls(controlling=camera)],\n",
    "                    background = 'white')\n",
    "display(renderer)"
   ]
  },
  {
   "cell_type": "code",
   "execution_count": 55,
   "metadata": {
    "collapsed": false
   },
   "outputs": [
    {
     "name": "stdout",
     "output_type": "stream",
     "text": [
      "\n",
      "Solver Summary (v 1.11.0-eigen-(3.2.92)-lapack-suitesparse-(4.4.6)-openmp)\n",
      "\n",
      "                                     Original                  Reduced\n",
      "Parameter blocks                            1                        1\n",
      "Parameters                                  8                        8\n",
      "Effective parameters                        6                        6\n",
      "Residual blocks                            10                       10\n",
      "Residual                                   60                       60\n",
      "\n",
      "Minimizer                        TRUST_REGION\n",
      "\n",
      "Dense linear algebra library            EIGEN\n",
      "Trust region strategy     LEVENBERG_MARQUARDT\n",
      "\n",
      "                                        Given                     Used\n",
      "Linear solver                        DENSE_QR                 DENSE_QR\n",
      "Threads                                     1                        1\n",
      "Linear solver threads                       1                        1\n",
      "\n",
      "Cost:\n",
      "Initial                          1.218291e+02\n",
      "Final                            1.155097e-14\n",
      "Change                           1.218291e+02\n",
      "\n",
      "Minimizer iterations                        4\n",
      "Successful steps                            4\n",
      "Unsuccessful steps                          0\n",
      "\n",
      "Time (in seconds):\n",
      "Preprocessor                           0.0000\n",
      "\n",
      "  Residual evaluation                  0.0001\n",
      "  Jacobian evaluation                  0.0003\n",
      "  Linear solver                        0.0001\n",
      "Minimizer                              0.0006\n",
      "\n",
      "Postprocessor                          0.0000\n",
      "Total                                  0.0006\n",
      "\n",
      "Termination:                      CONVERGENCE (Parameter tolerance reached. Relative step_norm: 5.028140e-09 <= 1.000000e-08.)\n",
      "\n",
      "[ 0.87 -0.   -0.5  -0.   -0.68 -0.43 -0.18 -0.25]\n"
     ]
    }
   ],
   "source": [
    "initial_motor = vsr.Mot(1.0, 0.0, 0.0, 0.0, 0.0, 0.0, 0.0, 0.0)\n",
    "mes = MotorEstimationSolver(initial_motor)\n",
    "# for a,b in zip(drvs_a, drvs_b):\n",
    "#     mes.add_direction_vector_inner_product_residual_block(a,b)\n",
    "for a,b in zip(lines_a, lines_b):\n",
    "    mes.add_line_correspondences_residual_block(a,b)\n",
    "#     mes.add_line_commutator_residual_block(a,b) \n",
    "#     mes.add_line_inner_product_residual_block(a,b)\n",
    "#     mes.add_line_angle_distance_norm_residual_block(a,b)\n",
    "    \n",
    "# for a,b in zip(points_a, points_b):\n",
    "#     mes.add_point_distance_residual_block(a,b)\n",
    "#     mes.add_point_correspondences_residual_block(a,b)\n",
    "# for a, b, c, d, e, f in zip(points_a, points_b, lines_a, lines_b, planes_a, planes_b):\n",
    "#     mes.add_point_difference_residual_block(a,b)\n",
    "#     mes.add_line_correspondences_residual_block(c,d)\n",
    "#     mes.add_dual_plane_difference_residual_block(e,f)\n",
    "mes.set_parameterization('BIVECTOR_GENERATOR')\n",
    "mes.linear_solver_type = 'DENSE_QR'\n",
    "# mes.num_linear_solver_threads = 4\n",
    "# mes.num_threads = 4\n",
    "# mes.function_tolerance  = 1e-16\n",
    "\n",
    "mes.max_num_iterations = 1000\n",
    "# mes.minimizer_type = 'LINE_SEARCH'\n",
    "\n",
    "te_estimated_motor, summary, motors = mes.solve()\n",
    "print(summary['full_report'])\n",
    "print(np.array(te_estimated_motor))"
   ]
  },
  {
   "cell_type": "code",
   "execution_count": 37,
   "metadata": {
    "collapsed": false
   },
   "outputs": [
    {
     "name": "stdout",
     "output_type": "stream",
     "text": [
      "[ 0.87  0.   -0.5   0.   -0.68 -0.43 -0.18 -0.25]\n"
     ]
    }
   ],
   "source": [
    "print(np.array(motor))"
   ]
  },
  {
   "cell_type": "code",
   "execution_count": 13,
   "metadata": {
    "collapsed": false
   },
   "outputs": [
    {
     "data": {
      "text/plain": [
       "False"
      ]
     },
     "execution_count": 13,
     "metadata": {},
     "output_type": "execute_result"
    }
   ],
   "source": [
    "np.allclose(vd_estimated_motor, te_estimated_motor, atol=1e-03)"
   ]
  },
  {
   "cell_type": "code",
   "execution_count": 14,
   "metadata": {
    "collapsed": false
   },
   "outputs": [
    {
     "name": "stdout",
     "output_type": "stream",
     "text": [
      "[[  0.73   1.73   2.73   1.     0.     0.     0.     0.  ]\n",
      " [  1.73  -0.73  -1.     2.73   0.     0.     0.     0.  ]\n",
      " [  2.73   1.    -0.73  -1.73   0.     0.     0.     0.  ]\n",
      " [ 11.26   1.    -4.5    1.    -0.73  -1.73  -2.73  -1.  ]]\n"
     ]
    }
   ],
   "source": [
    "dlp = vsr.Dlp(1,1,1,5)\n",
    "Jac = np.zeros((5,8))\n",
    "for i in range(8):\n",
    "    ei = vsr.Mot(0,0,0,0,0,0,0,0)\n",
    "    ei[i] = 1.\n",
    "    Jac[:,i] = np.array((vsr.CGA(motor) * vsr.CGA(dlp) * vsr.CGA(ei.rev()) +\n",
    "                         vsr.CGA(ei) * vsr.CGA(dlp) * vsr.CGA(motor.rev())))[1:6]\n",
    "Jac = np.delete(Jac,3,0)\n",
    "print(Jac)"
   ]
  },
  {
   "cell_type": "code",
   "execution_count": 15,
   "metadata": {
    "collapsed": false
   },
   "outputs": [
    {
     "name": "stdout",
     "output_type": "stream",
     "text": [
      "[[ 0.    0.5   0.    0.    0.    0.  ]\n",
      " [ 0.87  0.   -0.5   0.    0.    0.  ]\n",
      " [ 0.    0.87  0.    0.    0.    0.  ]\n",
      " [ 0.5   0.    0.87  0.    0.    0.  ]\n",
      " [-0.43 -0.18  0.25  0.87  0.    0.5 ]\n",
      " [ 0.68 -0.25 -0.18  0.    0.87  0.  ]\n",
      " [ 0.25  0.68  0.43 -0.5   0.    0.87]\n",
      " [-0.18  0.43 -0.68  0.    0.5   0.  ]]\n"
     ]
    }
   ],
   "source": [
    "Jac3 = np.zeros((8,6))\n",
    "Jac3[:,0] = vsr.Dll(1,0,0,0,0,0) * motor\n",
    "Jac3[:,1] = vsr.Dll(0,1,0,0,0,0) * motor\n",
    "Jac3[:,2] = vsr.Dll(0,0,1,0,0,0) * motor\n",
    "Jac3[:,3] = vsr.Dll(0,0,0,1,0,0) * motor\n",
    "Jac3[:,4] = vsr.Dll(0,0,0,0,1,0) * motor\n",
    "Jac3[:,5] = vsr.Dll(0,0,0,0,0,1) * motor\n",
    "print(Jac3)"
   ]
  },
  {
   "cell_type": "code",
   "execution_count": 16,
   "metadata": {
    "collapsed": false
   },
   "outputs": [
    {
     "data": {
      "text/plain": [
       "array([[ 2.  ,  2.73,  0.  ,  0.  ,  0.  ,  0.  ],\n",
       "       [ 0.73,  0.  ,  2.73,  0.  ,  0.  ,  0.  ],\n",
       "       [ 0.  ,  0.73, -2.  ,  0.  ,  0.  ,  0.  ],\n",
       "       [-0.  ,  0.  ,  0.  ,  0.73, -2.  , -2.73]])"
      ]
     },
     "execution_count": 16,
     "metadata": {},
     "output_type": "execute_result"
    }
   ],
   "source": [
    "np.dot(Jac,Jac3)"
   ]
  },
  {
   "cell_type": "code",
   "execution_count": 17,
   "metadata": {
    "collapsed": false
   },
   "outputs": [],
   "source": [
    "p1s = [vsr.Vec(1,0,0).null(), vsr.Vec(0,1,0).null(), vsr.Vec(-1,0,1).null()] \n",
    "p2s = [p1i.spin(motor) for p1i in p1s] \n",
    "p3s = [(p2i.vec() - p1i.vec()).null() for p1i, p2i in zip(p1s,p2s)]\n",
    "c1 = vsr.Cir(*p1s)\n",
    "c2 = vsr.Cir(*p2s)\n",
    "c3 = vsr.Cir(*p3s)"
   ]
  },
  {
   "cell_type": "code",
   "execution_count": 18,
   "metadata": {
    "collapsed": false,
    "scrolled": true
   },
   "outputs": [
    {
     "data": {
      "text/plain": [
       "array([ 4.7 ,  4.46, -1.73, -0.27,  4.58, -1.8 ,  0.3 , -1.  ,  1.  , -1.  ])"
      ]
     },
     "execution_count": 18,
     "metadata": {},
     "output_type": "execute_result"
    }
   ],
   "source": [
    "np.array((vsr.CGA(motor) * vsr.CGA(c1) * vsr.CGA(vsr.Mot(1,0,0,0,0,0,0,0).rev()) +\n",
    " vsr.CGA(vsr.Mot(1,0,0,0,0,0,0,0)) * vsr.CGA(c1) * vsr.CGA(motor.rev())))[16:26]"
   ]
  },
  {
   "cell_type": "code",
   "execution_count": 19,
   "metadata": {
    "collapsed": false
   },
   "outputs": [
    {
     "name": "stdout",
     "output_type": "stream",
     "text": [
      "[[ 4.7   1.5   0.87  1.87  0.27 -1.73 -4.46 -1.  ]\n",
      " [ 4.46  1.    0.27 -1.73  0.    0.    0.    0.  ]\n",
      " [-1.73 -0.27  1.   -4.46  0.    0.    0.    0.  ]\n",
      " [-0.27  1.73  4.46  1.    0.    0.    0.    0.  ]\n",
      " [ 4.58  1.25 -0.3  -1.8   1.87  2.87 -7.16 -2.5 ]\n",
      " [-1.8   0.3   1.25 -4.58 -2.5   7.16  2.87 -1.87]\n",
      " [ 0.3   1.8   4.58  1.25 -7.16 -2.5  -1.87 -2.87]\n",
      " [-1.    1.   -1.    2.46 -1.    4.46 -1.73 -0.27]\n",
      " [ 1.    1.   -2.46 -1.   -4.46 -1.   -0.27  1.73]\n",
      " [-1.    2.46  1.   -1.    1.73  0.27 -1.    4.46]]\n"
     ]
    }
   ],
   "source": [
    "JacCircle = np.zeros((10,8))\n",
    "for i in range(8):\n",
    "    ei = vsr.Mot(0,0,0,0,0,0,0,0)\n",
    "    ei[i] = 1.\n",
    "    JacCircle[:,i] = np.array((vsr.CGA(motor) * vsr.CGA(c1) * vsr.CGA(ei.rev()) +\n",
    "                               vsr.CGA(ei) * vsr.CGA(c1) * vsr.CGA(motor.rev())))[16:26]\n",
    "print(JacCircle)"
   ]
  },
  {
   "cell_type": "code",
   "execution_count": 20,
   "metadata": {
    "collapsed": false
   },
   "outputs": [
    {
     "data": {
      "text/plain": [
       "array([[-0.  , -0.  ,  0.  ,  2.46, -2.  , -3.73],\n",
       "       [ 0.  ,  2.46, -2.  ,  0.  ,  0.  ,  0.  ],\n",
       "       [-2.46,  0.  , -3.73,  0.  ,  0.  ,  0.  ],\n",
       "       [ 2.  ,  3.73,  0.  ,  0.  ,  0.  ,  0.  ],\n",
       "       [ 0.  , -5.  , -3.63,  5.2 ,  1.23, -5.27],\n",
       "       [ 5.  , -0.  , -3.54, -3.6 ,  5.27,  1.23],\n",
       "       [ 3.63,  3.54, -0.  , -5.27, -3.6 , -5.2 ],\n",
       "       [ 5.2 , -3.6 , -0.  ,  0.  ,  3.73, -2.  ],\n",
       "       [ 1.23,  0.  , -3.6 , -3.73,  0.  , -2.46],\n",
       "       [-0.  ,  1.23, -5.2 ,  2.  ,  2.46,  0.  ]])"
      ]
     },
     "execution_count": 20,
     "metadata": {},
     "output_type": "execute_result"
    }
   ],
   "source": [
    "np.dot(JacCircle,Jac3)"
   ]
  },
  {
   "cell_type": "code",
   "execution_count": 21,
   "metadata": {
    "collapsed": false
   },
   "outputs": [
    {
     "name": "stdout",
     "output_type": "stream",
     "text": [
      "Mot: [ 0.87 0 -0.5 0 -1.2 -0.87 -1 -0.5 ]\n"
     ]
    }
   ],
   "source": [
    "trs = vsr.Vec(1,2,3).trs() * vsr.Biv(0,pi/6,0).exp()\n",
    "print(trs)\n",
    "cdiff = c1.spin(trs)"
   ]
  },
  {
   "cell_type": "code",
   "execution_count": 22,
   "metadata": {
    "collapsed": false
   },
   "outputs": [],
   "source": [
    "ans = c1.dual().comm(cdiff.dual()).undual()\n",
    "scene = Scene(children=[circle_mesh(c1,color='hotpink'),\n",
    "                        point_mesh(c1.pnt(),color='hotpink'),\n",
    "                        circle_mesh(cdiff,color='lightskyblue'),\n",
    "                        point_mesh(cdiff.pnt(),color='lightskyblue'),\n",
    "                        line_mesh(vsr.Dll(c1.pnt(), cdiff.pnt())),\n",
    "                        bivector_mesh(cdiff.dir().unit()),\n",
    "                        circle_mesh(ans,color='green'),\n",
    "                        point_mesh(ans.pnt(),color='green'),\n",
    "#                         vector_mesh(ans.dual().dir().vec(), arrow=True, position=(ans).pnt()),\n",
    "                        frame_mesh(),\n",
    "                        AmbientLight(color='#cccccc')] +\\\n",
    "             [point_mesh(p, color='red') for p in ans.dual().split()]\n",
    "             )\n",
    "\n",
    "camera = PerspectiveCamera(position=[3, -3, 3])\n",
    "renderer = Renderer(camera=camera, \n",
    "                    scene=scene, \n",
    "                    controls=[TrackballControls(controlling=camera)],\n",
    "                    background = 'white')\n",
    "display(renderer)"
   ]
  },
  {
   "cell_type": "code",
   "execution_count": 23,
   "metadata": {
    "collapsed": false
   },
   "outputs": [
    {
     "data": {
      "text/plain": [
       "Pnt: [ 0 0 0.5 1 0.125 ]"
      ]
     },
     "execution_count": 23,
     "metadata": {},
     "output_type": "execute_result"
    }
   ],
   "source": [
    "c1.pnt()\n"
   ]
  },
  {
   "cell_type": "code",
   "execution_count": 24,
   "metadata": {
    "collapsed": false
   },
   "outputs": [
    {
     "data": {
      "text/plain": [
       "Pnt: [ 0.567 2 3.25 1 7.442 ]"
      ]
     },
     "execution_count": 24,
     "metadata": {},
     "output_type": "execute_result"
    }
   ],
   "source": [
    "cdiff.pnt()"
   ]
  },
  {
   "cell_type": "code",
   "execution_count": 25,
   "metadata": {
    "collapsed": false
   },
   "outputs": [
    {
     "data": {
      "text/plain": [
       "Pnt: [ 0.04788 0.8923 1.848 1 2.108 ]"
      ]
     },
     "execution_count": 25,
     "metadata": {},
     "output_type": "execute_result"
    }
   ],
   "source": [
    "ans.pnt()"
   ]
  },
  {
   "cell_type": "code",
   "execution_count": 26,
   "metadata": {
    "collapsed": false
   },
   "outputs": [
    {
     "data": {
      "text/plain": [
       "Par: [ 1.254 12.67 3.663 5.49 -7.5 -18.29 -5.826 -0.5849 13.19 40.25 ]"
      ]
     },
     "execution_count": 26,
     "metadata": {},
     "output_type": "execute_result"
    }
   ],
   "source": [
    "ans = c1.dual().comm(cdiff.dual())\n",
    "ans"
   ]
  },
  {
   "cell_type": "code",
   "execution_count": 27,
   "metadata": {
    "collapsed": false
   },
   "outputs": [
    {
     "data": {
      "text/plain": [
       "1.4672999095746644"
      ]
     },
     "execution_count": 27,
     "metadata": {},
     "output_type": "execute_result"
    }
   ],
   "source": [
    "ans.radius()"
   ]
  },
  {
   "cell_type": "code",
   "execution_count": 28,
   "metadata": {
    "collapsed": false,
    "scrolled": true
   },
   "outputs": [
    {
     "ename": "TypeError",
     "evalue": "Unable to convert function return value to a Python type! The signature was\n\t(Drv) -> vsr::Multivector<vsr::algebra<vsr::metric<4, 1, true>, double>, vsr::Basis<(short)19, (short)21, (short)22> >",
     "output_type": "error",
     "traceback": [
      "\u001b[1;31m---------------------------------------------------------------------------\u001b[0m",
      "\u001b[1;31mTypeError\u001b[0m                                 Traceback (most recent call last)",
      "\u001b[1;32m<ipython-input-28-4c2deed60e20>\u001b[0m in \u001b[0;36m<module>\u001b[1;34m()\u001b[0m\n\u001b[1;32m----> 1\u001b[1;33m \u001b[0mans\u001b[0m\u001b[1;33m.\u001b[0m\u001b[0mdir\u001b[0m\u001b[1;33m(\u001b[0m\u001b[1;33m)\u001b[0m\u001b[1;33m.\u001b[0m\u001b[0munit\u001b[0m\u001b[1;33m(\u001b[0m\u001b[1;33m)\u001b[0m\u001b[1;33m.\u001b[0m\u001b[0munduale\u001b[0m\u001b[1;33m(\u001b[0m\u001b[1;33m)\u001b[0m\u001b[1;33m\u001b[0m\u001b[0m\n\u001b[0m",
      "\u001b[1;31mTypeError\u001b[0m: Unable to convert function return value to a Python type! The signature was\n\t(Drv) -> vsr::Multivector<vsr::algebra<vsr::metric<4, 1, true>, double>, vsr::Basis<(short)19, (short)21, (short)22> >"
     ]
    }
   ],
   "source": [
    "ans.dir().unit().unduale()"
   ]
  },
  {
   "cell_type": "code",
   "execution_count": null,
   "metadata": {
    "collapsed": false
   },
   "outputs": [],
   "source": [
    "cdiff.dir().unit().unduale() "
   ]
  },
  {
   "cell_type": "code",
   "execution_count": null,
   "metadata": {
    "collapsed": false
   },
   "outputs": [],
   "source": [
    "c1.dir().unit().unduale() "
   ]
  },
  {
   "cell_type": "code",
   "execution_count": null,
   "metadata": {
    "collapsed": false
   },
   "outputs": [],
   "source": [
    "c1.radius()"
   ]
  },
  {
   "cell_type": "code",
   "execution_count": null,
   "metadata": {
    "collapsed": false
   },
   "outputs": [],
   "source": [
    "cdiff.radius()"
   ]
  },
  {
   "cell_type": "code",
   "execution_count": null,
   "metadata": {
    "collapsed": false
   },
   "outputs": [],
   "source": [
    "c1.pnt().vec() - cdiff.pnt().vec()"
   ]
  },
  {
   "cell_type": "code",
   "execution_count": null,
   "metadata": {
    "collapsed": false
   },
   "outputs": [],
   "source": [
    "(c1 - cdiff).dual().dir().vec()"
   ]
  },
  {
   "cell_type": "code",
   "execution_count": null,
   "metadata": {
    "collapsed": false
   },
   "outputs": [],
   "source": [
    "ans[0]"
   ]
  },
  {
   "cell_type": "code",
   "execution_count": null,
   "metadata": {
    "collapsed": false
   },
   "outputs": [],
   "source": [
    "- np.outer(l1,l2)ans[1].undual()"
   ]
  },
  {
   "cell_type": "code",
   "execution_count": null,
   "metadata": {
    "collapsed": false
   },
   "outputs": [],
   "source": [
    "vsr.Lin(c1 - cdiff).__print_debug_info_console()"
   ]
  },
  {
   "cell_type": "code",
   "execution_count": null,
   "metadata": {
    "collapsed": false
   },
   "outputs": [],
   "source": [
    "c1.__print_debug_info_console()\n",
    "cdiff.__print_debug_info_console()"
   ]
  },
  {
   "cell_type": "code",
   "execution_count": null,
   "metadata": {
    "collapsed": false
   },
   "outputs": [],
   "source": [
    "dlp2 = dlp.spin(motor)\n",
    "pd = dlp2 - dlp\n",
    "scene = Scene(children=[\n",
    "        vector_mesh(dlp.dir().vec(),color='hotpink', arrow=True),\n",
    "        plane_mesh(dlp,color='hotpink'),\n",
    "        plane_mesh(dlp2,color='lightskyblue'),\n",
    "        plane_mesh(dlp2-dlp,color='red'),\n",
    "                        frame_mesh(),\n",
    "                        AmbientLight(color='#cccccc')])\n",
    "\n",
    "camera = PerspectiveCamera(position=[3, -3, 3])\n",
    "renderer = Renderer(camera=camera, \n",
    "                    scene=scene, \n",
    "                    controls=[TrackballControls(controlling=camera)],\n",
    "                    background = 'white')\n",
    "display(renderer)"
   ]
  },
  {
   "cell_type": "code",
   "execution_count": null,
   "metadata": {
    "collapsed": false
   },
   "outputs": [],
   "source": [
    "dlp2.dir()"
   ]
  },
  {
   "cell_type": "code",
   "execution_count": null,
   "metadata": {
    "collapsed": false
   },
   "outputs": [],
   "source": [
    "dlp"
   ]
  },
  {
   "cell_type": "code",
   "execution_count": null,
   "metadata": {
    "collapsed": false
   },
   "outputs": [],
   "source": [
    "pd"
   ]
  },
  {
   "cell_type": "code",
   "execution_count": null,
   "metadata": {
    "collapsed": false
   },
   "outputs": [],
   "source": [
    "l1 = lines_a[0]\n",
    "l2 = lines_b[0]\n",
    "Z = np.outer(l2,l1) - np.outer(l1,l2)\n",
    "print(Z)"
   ]
  },
  {
   "cell_type": "code",
   "execution_count": null,
   "metadata": {
    "collapsed": false
   },
   "outputs": [],
   "source": [
    "np.linalg.eig(Z)"
   ]
  },
  {
   "cell_type": "code",
   "execution_count": null,
   "metadata": {
    "collapsed": false
   },
   "outputs": [],
   "source": [
    "np.linalg.norm(l2.comm(l1) * 2.) / np.sqrt(2)"
   ]
  },
  {
   "cell_type": "code",
   "execution_count": null,
   "metadata": {
    "collapsed": false
   },
   "outputs": [],
   "source": [
    "Z = np.zeros(6)\n",
    "for a,b in zip(lines_a, lines_b):\n",
    "    Z = Z + np.outer(a,b)"
   ]
  },
  {
   "cell_type": "code",
   "execution_count": null,
   "metadata": {
    "collapsed": false
   },
   "outputs": [],
   "source": [
    "U,s,Vt = np.linalg.svd(Z)\n",
    "np.dot(U.T,Vt)"
   ]
  },
  {
   "cell_type": "code",
   "execution_count": null,
   "metadata": {
    "collapsed": false
   },
   "outputs": [],
   "source": [
    "np.array(motor)"
   ]
  },
  {
   "cell_type": "code",
   "execution_count": null,
   "metadata": {
    "collapsed": true
   },
   "outputs": [],
   "source": [
    "n_circles = 10\n",
    "sigma = 0.09\n",
    "points_a = [vsr.Vec(*np.random.normal(0.0, 0.3, 3)).null() \n",
    "            for i in range(n_circles)]\n",
    "points_b = [point.spin(motor) for point in points_a]\n",
    "points_b_noisy = [vsr.Vec(*(np.array(point)[:3] \n",
    "                            + sigma * np.random.randn(3))).null() \n",
    "                  for point in points_b]\n",
    "\n",
    "radiuss = [np.random.rand() for i in range(n_circles)]\n",
    "bivs = [vsr.Vec(*np.random.normal(0.0, 0.3, 3)).unit().unduale()\n",
    "            for i in range(n_circles)]\n",
    "\n",
    "circs_a = [vsr.Cir(p,r,b) for p,r,b in zip(points_a, radiuss, bivs)]\n",
    "# circs_b = [vsr.Cir(p,r,b) for p,r,b in zip(points_b_noisy, radiuss, bivs)]\n",
    "circs_b = [circle.spin(motor) for circle in circs_a]\n"
   ]
  },
  {
   "cell_type": "code",
   "execution_count": null,
   "metadata": {
    "collapsed": false
   },
   "outputs": [],
   "source": [
    "initial_motor = vsr.Mot(1.0, 0.0, 0.0, 0.0, 0.0, 0.0, 0.0, 0.0)\n",
    "# initial_motor = vsr.Vec(2,3,4).trs() * vsr.Rot(vsr.Biv(0,-1,0) * np.pi/6)\n",
    "mes = MotorEstimationSolver(initial_motor)\n",
    "for a, b in zip(circs_a, circs_b):\n",
    "    a1,a2 = a.dual().split()\n",
    "    b1,b2 = b.dual().split()\n",
    "    mes.add_line_correspondences_residual_block(vsr.Dll(a1,a2), vsr.Dll(b1,b2))\n",
    "mes.set_parameterization('BIVECTOR_GENERATOR')\n",
    "mes.linear_solver_type = 'DENSE_QR'\n",
    "(estimated_motor, summary, motors) = mes.solve()\n",
    "# print(summary['full_report'])\n",
    "print(estimated_motor)"
   ]
  },
  {
   "cell_type": "code",
   "execution_count": null,
   "metadata": {
    "collapsed": false
   },
   "outputs": [],
   "source": [
    "initial_motor = vsr.Mot(1.0, 0.0, 0.0, 0.0, 0.0, 0.0, 0.0, 0.0)\n",
    "# initial_motor = vsr.Vec(2,3,4).trs() * vsr.Rot(vsr.Biv(0,-1,0) * np.pi/6)\n",
    "mes = MotorEstimationSolver(initial_motor)\n",
    "for a, b in zip(circs_a, circs_b):\n",
    "#     mes.add_circle_difference_residual_block(a,b)\n",
    "    mes.add_circle_commutator_residual_block(a,b)\n",
    "mes.set_parameterization('BIVECTOR_GENERATOR')\n",
    "mes.linear_solver_type = 'DENSE_QR'\n",
    "(estimated_motor, summary, motors2) = mes.solve()\n",
    "print(summary['full_report'])\n",
    "print(estimated_motor)"
   ]
  },
  {
   "cell_type": "code",
   "execution_count": null,
   "metadata": {
    "collapsed": false
   },
   "outputs": [],
   "source": [
    "[np.allclose(m, m2,atol=1e-05) for m,m2 in zip(motors, motors2)]"
   ]
  },
  {
   "cell_type": "code",
   "execution_count": null,
   "metadata": {
    "collapsed": false
   },
   "outputs": [],
   "source": [
    "print(zip(motors, motors2)[-1])"
   ]
  },
  {
   "cell_type": "code",
   "execution_count": null,
   "metadata": {
    "collapsed": false
   },
   "outputs": [],
   "source": [
    "scene = Scene(children=\n",
    "#               [circle_mesh(c,color='hotpink') for c in circs_a] +\\\n",
    "#               [circle_mesh(c,color='lightskyblue') for c in circs_b] +\\\n",
    "              [circle_mesh(c.spin(motors[0]), color='red') for c in circs_a] +\\\n",
    "              [circle_mesh(c.spin(motors[1]), color='yellow') for c in circs_a] +\\\n",
    "              [circle_mesh(c.spin(motors2[1]), color='magenta') for c in circs_a] +\\\n",
    "\n",
    "#               [circle_mesh(c.spin(motors[2]), color='green') for c in circs_a] +\\\n",
    "# #               [circle_mesh(c.spin(motors[3]), color='cyan') for c in circs_a] +\\\n",
    "#               [circle_mesh(c.spin(motors[4]), color='blue') for c in circs_a] +\\\n",
    "\n",
    "#               [circle_mesh(c.spin(motors[-4]), color='green') for c in circs_a] +\\\n",
    "#               [circle_mesh(c.spin(motors2[-4]), color='red') for c in circs_a] +\\\n",
    "              [\n",
    "        \n",
    "                        frame_mesh(),\n",
    "                        AmbientLight(color='#cccccc')])\n",
    "\n",
    "camera = PerspectiveCamera(position=[3, -3, 3])\n",
    "renderer = Renderer(camera=camera, \n",
    "                    scene=scene, \n",
    "                    controls=[TrackballControls(controlling=camera)],\n",
    "                    background = 'white')\n",
    "renderer.width = '1024'\n",
    "renderer.height = '768'\n",
    "display(renderer)"
   ]
  }
 ],
 "metadata": {
  "kernelspec": {
   "display_name": "Python 2",
   "language": "python",
   "name": "python2"
  },
  "language_info": {
   "codemirror_mode": {
    "name": "ipython",
    "version": 2
   },
   "file_extension": ".py",
   "mimetype": "text/x-python",
   "name": "python",
   "nbconvert_exporter": "python",
   "pygments_lexer": "ipython2",
   "version": "2.7.11+"
  },
  "widgets": {
   "state": {
    "00a330e6a00c4b5389f78b62805a55a9": {
     "views": [
      {
       "cell_index": 11
      }
     ]
    },
    "013b532790b44ccdb3a0bb5704564b4a": {
     "views": []
    },
    "031b49d2479b483fbbde9ae52c5d4d62": {
     "views": []
    },
    "0459f38571f145de8373b5551c195a70": {
     "views": []
    },
    "0487f6d21fc54e8991a8522c40487aff": {
     "views": []
    },
    "067f45141ace4d4d839b38e2e215146d": {
     "views": []
    },
    "07e9f1c6eb7849e7bdda306c3b1544c1": {
     "views": []
    },
    "095a49d28f4e45479d9917ab29e9d4bb": {
     "views": []
    },
    "0a6d828e2b0041baabfcad399e0e409b": {
     "views": []
    },
    "0af5cd4f2d3b4e6ca3dbfbcd64c3d724": {
     "views": []
    },
    "0afe4c7370864c4ca42bbfda27eed7ef": {
     "views": []
    },
    "0ba029de2cf342c1887000c59aed35ef": {
     "views": []
    },
    "0f107d1386ba43a7947a507274b06a49": {
     "views": []
    },
    "11860aa45d1c4b65b805be3555d0d6c0": {
     "views": []
    },
    "14316e16460f4711bb2d21b45f06fe04": {
     "views": []
    },
    "179194507633461093447da7ab3b61a8": {
     "views": []
    },
    "1a25af8415fe477995b60bccc9cff873": {
     "views": []
    },
    "1a41cc31e60945fdb950313b755b8244": {
     "views": []
    },
    "1a4a52be0e5146149c7ed880653d4caf": {
     "views": []
    },
    "1e1341689be5401e9f89b2080702e2ca": {
     "views": []
    },
    "21c2b53506984852b4a343a24f0105c0": {
     "views": []
    },
    "21cfd20479d44b84a33ebb176d591b35": {
     "views": []
    },
    "22d13bf793f14a5486905d14a9c83cbf": {
     "views": []
    },
    "2335127c18b646e2abd226831fd737a7": {
     "views": []
    },
    "25123d1953014a8eacbe2dc79e526c02": {
     "views": []
    },
    "2653691a32db493cae1a9090eb64599f": {
     "views": []
    },
    "29b542fd63184141a73271db88c5d47e": {
     "views": []
    },
    "2a1bc1807a06490a86844816cbd36e84": {
     "views": []
    },
    "2a77a82c80e4457884a6334883e4ed8f": {
     "views": []
    },
    "2a7cfee7d32b42b88c6aba80abd70993": {
     "views": []
    },
    "2bb9e5e0845448b7a94c0a94ffc51270": {
     "views": []
    },
    "2bfe9eaadef64cb596f147a4067cfd6d": {
     "views": []
    },
    "2dc4dd777d4d4275b58df309bc84d761": {
     "views": []
    },
    "33ad1c43d6ca4960ad6e452c03dc3277": {
     "views": []
    },
    "353f753b44d244469eb683d2ab049ceb": {
     "views": []
    },
    "3825c68762f741628e33493dacace65e": {
     "views": []
    },
    "39a1bc9ccef14ac997fc98266a97d5e7": {
     "views": []
    },
    "39cb8f8f7fe342f980dd94469db5737e": {
     "views": []
    },
    "3bd81918428c4756932a74e714fcc152": {
     "views": []
    },
    "3cce0a23ccd14077871f8de9b46143a3": {
     "views": []
    },
    "3d4195f054d3423db72b4f16bcbd88b0": {
     "views": []
    },
    "3dde22f65f7a44c59a17479fc33c8cc3": {
     "views": []
    },
    "3ff191e7c47142d9834499ed13fe8415": {
     "views": []
    },
    "401d6eb6ceaf41699a5c7f0ddf3ad4b4": {
     "views": []
    },
    "46812f6953fc42aaa0acf153fe8f3e26": {
     "views": []
    },
    "470c0059081144be94fba62cd9598a4e": {
     "views": []
    },
    "47152ee9e2a54224b9cca34c0dad3dd1": {
     "views": []
    },
    "47432f187ce94c449979214c7551137c": {
     "views": []
    },
    "487dd4b09bf8452bbb4eaff7a4632588": {
     "views": []
    },
    "4a00f59f399c42d6a22fb7e77a39540c": {
     "views": []
    },
    "4bd2c22ec750438fbfb9d1861a7b8e25": {
     "views": []
    },
    "4da8425b6d4440cd8b43c051a7bc3c1e": {
     "views": []
    },
    "4f50d6d7f2474147b7e7b6fa50f31285": {
     "views": []
    },
    "50527e66ea0e44bc9c73e323bea0aea7": {
     "views": []
    },
    "51607a392a244ff9952cf54975d497ab": {
     "views": []
    },
    "52c68dd8e52d495ba40469d9381f9014": {
     "views": []
    },
    "55c2d5895feb4a899920006b3b955d82": {
     "views": []
    },
    "599338114e204664bd497b3e99a1c3f4": {
     "views": []
    },
    "59f4f3ea256e49278480007f1ebe6300": {
     "views": []
    },
    "6241a3e23e494b9b9f47ede0375c8bfb": {
     "views": []
    },
    "6398078cc80e4949a86606a1b6141666": {
     "views": []
    },
    "63bbcb45a0ad46bc9d1c9fa4335f1073": {
     "views": []
    },
    "67ed19738fe84a198f205c3690766763": {
     "views": []
    },
    "6c831bcad29a48c98d03f91dd658b4c1": {
     "views": []
    },
    "72465ccf50ba4762995d5496499caece": {
     "views": []
    },
    "728c6dc4880a48beae4e87d84e44661b": {
     "views": []
    },
    "73d01318d30c419a936a22df101bac4d": {
     "views": []
    },
    "74761fa77f664970801fa51547d26fd7": {
     "views": []
    },
    "74c6c9e97a84476693aa6a107ef91d15": {
     "views": []
    },
    "74d3a940c3874677ac1405089ea6b735": {
     "views": []
    },
    "767a841f68664bd2902546eef6311aad": {
     "views": []
    },
    "7a79cb822f6a41a3b85d8ed7d2748169": {
     "views": []
    },
    "7be98c1365a8474a98ff09c806968c54": {
     "views": []
    },
    "7bf15094ff974c468c4ef2df943a6a38": {
     "views": []
    },
    "7c021f0b0b6f4e298aa777d4f7b98b2b": {
     "views": []
    },
    "7c9b34989d7943209930f8413a2f1df7": {
     "views": []
    },
    "7e47fd332f9a462a9f544ab64bd5d15b": {
     "views": []
    },
    "7ea72b9637274cf0b3b865325205b21e": {
     "views": []
    },
    "7ef2068fe762410cbf90c7e0ffe500ee": {
     "views": []
    },
    "850c04ee01d242a488894764eefe9cbf": {
     "views": []
    },
    "85ab7f98740b4050959b87e0367d3eb3": {
     "views": []
    },
    "86f43d3ba79e43efbd46865d9dc33eb5": {
     "views": []
    },
    "874292dacef946b89358b7cf37b3054d": {
     "views": []
    },
    "8808e4b152e94dd6b94c84da34079be5": {
     "views": []
    },
    "889a10c03991475191f9a3808392ef29": {
     "views": []
    },
    "895a8d1b4c1546758f8488031dd0ec2e": {
     "views": []
    },
    "89e9688bccbd4ad2bd2ab5a57e554393": {
     "views": []
    },
    "8d898e2c923b4946b1b0e57845f914df": {
     "views": []
    },
    "90a9c95134a04f379cf44bfa6b3d34ca": {
     "views": []
    },
    "95591d0a9d454d0f8e38a64a3bf81e0f": {
     "views": []
    },
    "9720443da87f4f2ebb7f9a0281d5604a": {
     "views": []
    },
    "9aa6a31f860143dfa20f2edce63e93bf": {
     "views": []
    },
    "a0bd47e76ac34ebabc95472ac3ef096f": {
     "views": []
    },
    "a35cb323c7824e26947d4120f1eace4f": {
     "views": []
    },
    "a7137c70b2224cc7831cf7baebd5a147": {
     "views": []
    },
    "a84dec22582a4cf59abad8d19d569083": {
     "views": []
    },
    "aa2b73a7e320482792d98443ffa9570a": {
     "views": []
    },
    "ad2c23e0164248b39bda1191ad76ec3d": {
     "views": []
    },
    "adfa381c6e554c1aaa3c8a6ee9de918d": {
     "views": []
    },
    "ae43dd85f82d4ad39a1a99eda95cef3b": {
     "views": []
    },
    "afaf5584fc544b18b612e7f376513382": {
     "views": []
    },
    "b2b8bb7c0e0445fb8a28e5bf719ffe85": {
     "views": []
    },
    "b355a57ca5264f1695ac7635ec51b7b3": {
     "views": []
    },
    "b3f8dcb01c934ebda14b3af593cc0a29": {
     "views": []
    },
    "b70ce67d912b42b280b26fe62d4d284f": {
     "views": []
    },
    "b8e6f2b9a81247e2af28eab2cab46be9": {
     "views": []
    },
    "b977ba93f36d4e199f91aa4b4e3db277": {
     "views": []
    },
    "b9ee50fe39b44f0c80f6df58778691a3": {
     "views": []
    },
    "bbe01fa2a4074e8291d24928c99aec70": {
     "views": []
    },
    "c21f8141c9ea4559aa2b72dc5d673b72": {
     "views": []
    },
    "c57dc299b0244ab7bcf4d60b17750b32": {
     "views": []
    },
    "c7eedc7884654376a026fad3ccb91258": {
     "views": []
    },
    "c8f645e7363d48f6828f0aafd6b8e427": {
     "views": []
    },
    "c953a353502144efa0a5c9b0c22d4d2a": {
     "views": []
    },
    "caf59b6145764c5f9c3b49beacb66f92": {
     "views": []
    },
    "cd4362413927425b9722e0458bb64905": {
     "views": []
    },
    "ce908ab5429f4beeabea18474354157f": {
     "views": [
      {
       "cell_index": 23
      }
     ]
    },
    "d0bb180ed2b144c4ad40bc3c0bc51c8b": {
     "views": []
    },
    "d0c5ac92b13344e983b79cddd4fc53f9": {
     "views": []
    },
    "d2936fbd0d6e4794a307db3232282b35": {
     "views": []
    },
    "d4437ac6604d4f73aa91f5fa647bfb12": {
     "views": []
    },
    "d563a5d7007c4d2da33a7f95a5ce4b6d": {
     "views": []
    },
    "d76cad2d96bd448eb29214bd1b59af1f": {
     "views": []
    },
    "d8368c24abba467eaf76413665eb9940": {
     "views": []
    },
    "daeb97ec8e434f1d98add5e993dea6d7": {
     "views": []
    },
    "db1a406dd20142aabfdc8c5f34ad1977": {
     "views": []
    },
    "db1ba6b3ff194fa2ad3f85115b22a9d5": {
     "views": []
    },
    "e186cd631c7f46c9aee6a07a01ca0654": {
     "views": []
    },
    "e4035fe4070440f78ac59ab3d7ed4a73": {
     "views": []
    },
    "e427344a5a024a1e8f77a81058a6deee": {
     "views": []
    },
    "e465fe78ce24467fb969017f1305e773": {
     "views": []
    },
    "e85574dad63045ea9cd0139c7b155821": {
     "views": []
    },
    "eb0b4def8797483e82501fb2f9c50b87": {
     "views": []
    },
    "ebd71f85e4074dd383d489bfe56ebbe3": {
     "views": []
    },
    "ec66d9f98f4c4d609603cfa0a8b027b0": {
     "views": []
    },
    "ed229bb50f1e4d6592e71b831064a29d": {
     "views": []
    },
    "f130fde382914684a81636dc477d5aa2": {
     "views": []
    },
    "f5f1e4afb3bd465d8d6051450341e5d1": {
     "views": []
    },
    "f680449222f5448790c9b6df62a6b54e": {
     "views": []
    },
    "f7f961d7b341482ca10502b940d1c5e6": {
     "views": []
    },
    "fa11d420361047d1a8b79d2287071eda": {
     "views": []
    },
    "fa30a70b59fc47deae0648833c5f96f7": {
     "views": []
    },
    "fa8df3a4c11043ff8114e1bcdbceb658": {
     "views": []
    },
    "fc7591e685f94c75ae16b8185693b1e5": {
     "views": []
    }
   },
   "version": "1.1.2"
  }
 },
 "nbformat": 4,
 "nbformat_minor": 0
}
