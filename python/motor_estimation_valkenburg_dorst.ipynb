{
 "cells": [
  {
   "cell_type": "markdown",
   "metadata": {},
   "source": [
    "# Estimating Motors from a Variety of Geometric Data in 3D Conformal Geometric Algebra\n",
    "\n",
    "Robert Valkenburg and Leo Dorst"
   ]
  },
  {
   "cell_type": "code",
   "execution_count": 177,
   "metadata": {
    "collapsed": false
   },
   "outputs": [
    {
     "name": "stdout",
     "output_type": "stream",
     "text": [
      "Populating the interactive namespace from numpy and matplotlib\n"
     ]
    }
   ],
   "source": [
    "from __future__ import print_function\n",
    "import sys\n",
    "sys.path.append('../build/')\n",
    "%pylab inline\n",
    "np.set_printoptions(precision=2, suppress=True)\n",
    "import versor as vsr\n",
    "from motor_estimation_valkenburg_dorst import point_matrix, dual_line_matrix, dual_plane_matrix\n",
    "from motor_estimation import MotorEstimationSolver"
   ]
  },
  {
   "cell_type": "code",
   "execution_count": 178,
   "metadata": {
    "collapsed": false
   },
   "outputs": [],
   "source": [
    "import versor as vsr"
   ]
  },
  {
   "cell_type": "markdown",
   "metadata": {},
   "source": [
    "## Dataset Generation"
   ]
  },
  {
   "cell_type": "code",
   "execution_count": 179,
   "metadata": {
    "collapsed": false
   },
   "outputs": [
    {
     "name": "stdout",
     "output_type": "stream",
     "text": [
      "Mot: [ 0.87 0 -0.5 0 -0.68 -0.43 -0.18 -0.25 ]\n"
     ]
    }
   ],
   "source": [
    "motor = vsr.Vec(1,1,1).trs() * vsr.Rot(vsr.Biv(0,1,0) * np.pi/6.0)\n",
    "print(motor)"
   ]
  },
  {
   "cell_type": "code",
   "execution_count": 180,
   "metadata": {
    "collapsed": false
   },
   "outputs": [],
   "source": [
    "n_points = 1000\n",
    "sigma = 0.09\n",
    "points_a = [vsr.Vec(*np.random.normal(0.0, 0.8, 3)).null() \n",
    "            for i in range(n_points)]\n",
    "points_b = [point.spin(motor) for point in points_a]\n",
    "points_b_noisy = [vsr.Vec(*(np.array(point)[:3] \n",
    "                            + sigma * np.random.randn(3))).null() \n",
    "                  for point in points_b]"
   ]
  },
  {
   "cell_type": "code",
   "execution_count": 181,
   "metadata": {
    "collapsed": true
   },
   "outputs": [],
   "source": [
    "lines_a = [vsr.Dll(vsr.Vec(*np.random.normal(0.0,0.8,3)),\n",
    "                   vsr.Vec(*np.random.normal(0.0,0.8,3)))\n",
    "          for i in range(1000)]\n",
    "lines_b = [line.spin(motor) for line in lines_a]"
   ]
  },
  {
   "cell_type": "code",
   "execution_count": 182,
   "metadata": {
    "collapsed": true
   },
   "outputs": [],
   "source": [
    "n_planes = 10\n",
    "planes_a = []\n",
    "for i in range(10):\n",
    "    dir_vec = np.random.normal(0.0, 0.8, 4)\n",
    "    dir_vec = dir_vec / np.linalg.norm(dir_vec)\n",
    "    distance = np.random.normal(0.0, 0.8,1)\n",
    "    arr = dir_vec + distance\n",
    "    planes_a.append(vsr.Dlp(dir_vec[0],dir_vec[1],dir_vec[2],distance[0]))\n",
    "planes_b = [plane.spin(motor) for plane in planes_a]"
   ]
  },
  {
   "cell_type": "code",
   "execution_count": 183,
   "metadata": {
    "collapsed": false
   },
   "outputs": [],
   "source": [
    "class VDMotorEstimationSolver(object):\n",
    "    def __init__(self):\n",
    "        self._point_matrix = np.zeros((8,8))\n",
    "        self._dual_line_matrix = np.zeros((8,8))\n",
    "        self._dual_plane_matrix = np.zeros((8,8))\n",
    "        \n",
    "    @property\n",
    "    def L(self):\n",
    "        return self._point_matrix + self._dual_line_matrix + self._dual_plane_matrix\n",
    "    \n",
    "    def add_point_observations(self, ps, qs):\n",
    "        for p, q in zip(ps,qs):\n",
    "            self._point_matrix += point_matrix(p,q)\n",
    "    \n",
    "    def add_dual_line_observations(self,ps,qs):\n",
    "        for p, q in zip(ps,qs):\n",
    "            self._dual_line_matrix += dual_line_matrix(p,q)\n",
    "    \n",
    "    def add_dual_plane_observations(self, ps,qs):\n",
    "        for p, q in zip(ps,qs):\n",
    "            self._dual_plane_matrix += dual_plane_matrix(p,q)\n",
    "        \n",
    "    def solve(self):\n",
    "        L = self.L\n",
    "        Lrr = L[:4,:4]\n",
    "        Lrq = L[:4,4:]\n",
    "        Lqr = L[4:,:4]\n",
    "        Lqq = L[4:,4:]\n",
    "        Lp = Lrr - np.dot(Lrq, np.dot(np.linalg.pinv(Lqq), Lqr))\n",
    "        w,v = np.linalg.eig(Lp)\n",
    "        r = v[:,np.argmax(w)]\n",
    "        q = np.dot(-np.dot(np.linalg.pinv(Lqq), Lqr),r)\n",
    "        return vsr.Mot(*np.array([r,q]).ravel())  "
   ]
  },
  {
   "cell_type": "code",
   "execution_count": 184,
   "metadata": {
    "collapsed": false
   },
   "outputs": [
    {
     "name": "stdout",
     "output_type": "stream",
     "text": [
      "[-0.87 -0.    0.5   0.    0.68  0.43  0.18  0.25]\n"
     ]
    }
   ],
   "source": [
    "vd = VDMotorEstimationSolver()\n",
    "# vd.add_dual_plane_observations(planes_a, planes_b)\n",
    "vd.add_dual_line_observations(lines_a, lines_b)\n",
    "vd.add_point_observations(points_a, points_b_noisy)\n",
    "vd_estimated_motor = vd.solve()\n",
    "print(np.array(vd_estimated_motor))"
   ]
  },
  {
   "cell_type": "code",
   "execution_count": 185,
   "metadata": {
    "collapsed": false
   },
   "outputs": [
    {
     "name": "stdout",
     "output_type": "stream",
     "text": [
      "\n",
      "Solver Summary (v 1.12.0-eigen-(3.2.92)-lapack-suitesparse-(4.4.6)-openmp)\n",
      "\n",
      "                                     Original                  Reduced\n",
      "Parameter blocks                            1                        1\n",
      "Parameters                                  8                        8\n",
      "Effective parameters                        6                        6\n",
      "Residual blocks                          2000                     2000\n",
      "Residual                                 9000                     9000\n",
      "\n",
      "Minimizer                        TRUST_REGION\n",
      "\n",
      "Dense linear algebra library            EIGEN\n",
      "Trust region strategy     LEVENBERG_MARQUARDT\n",
      "\n",
      "                                        Given                     Used\n",
      "Linear solver                        DENSE_QR                 DENSE_QR\n",
      "Threads                                     4                        4\n",
      "Linear solver threads                       4                        4\n",
      "\n",
      "Cost:\n",
      "Initial                          5.512107e+03\n",
      "Final                            1.189577e+01\n",
      "Change                           5.500212e+03\n",
      "\n",
      "Minimizer iterations                        4\n",
      "Successful steps                            4\n",
      "Unsuccessful steps                          0\n",
      "\n",
      "Time (in seconds):\n",
      "Preprocessor                           0.0029\n",
      "\n",
      "  Residual evaluation                  0.0007\n",
      "  Jacobian evaluation                  0.0206\n",
      "  Linear solver                        0.0040\n",
      "Minimizer                              0.0266\n",
      "\n",
      "Postprocessor                          0.0001\n",
      "Total                                  0.0295\n",
      "\n",
      "Termination:                      CONVERGENCE (Function tolerance reached. |cost_change|/cost: 5.333539e-07 <= 1.000000e-06)\n",
      "\n",
      "[ 0.87  0.   -0.5  -0.   -0.68 -0.43 -0.18 -0.25]\n"
     ]
    }
   ],
   "source": [
    "initial_motor = vsr.Mot(1.0, 0.0, 0.0, 0.0, 0.0, 0.0, 0.0, 0.0)\n",
    "mes = MotorEstimationSolver(initial_motor)\n",
    "for a, b in zip(points_a, points_b_noisy):\n",
    "    mes.add_point_correspondences_residual_block(a,b)\n",
    "for a, b in zip(lines_a, lines_b):\n",
    "    mes.add_line_correspondences_residual_block(a,b)\n",
    "mes.set_parameterization('BIVECTOR_GENERATOR')\n",
    "mes.linear_solver_type = 'DENSE_QR'\n",
    "mes.num_linear_solve_threads = 4\n",
    "mes.num_threads = 4\n",
    "# mes.function_tolerance = 1e-16\n",
    "# mes.gradient_tolerance = 1e-16\n",
    "# mes.parameter_tolerance = 1e-16\n",
    "te_estimated_motor, summary = mes.solve()\n",
    "print(summary['full_report'])\n",
    "print(np.array(te_estimated_motor))"
   ]
  },
  {
   "cell_type": "code",
   "execution_count": 186,
   "metadata": {
    "collapsed": false
   },
   "outputs": [
    {
     "name": "stdout",
     "output_type": "stream",
     "text": [
      "[ 0.87  0.   -0.5   0.   -0.68 -0.43 -0.18 -0.25]\n"
     ]
    }
   ],
   "source": [
    "print(np.array(motor))"
   ]
  },
  {
   "cell_type": "code",
   "execution_count": 187,
   "metadata": {
    "collapsed": false
   },
   "outputs": [
    {
     "data": {
      "text/plain": [
       "False"
      ]
     },
     "execution_count": 187,
     "metadata": {},
     "output_type": "execute_result"
    }
   ],
   "source": [
    "np.allclose(vd_estimated_motor, te_estimated_motor, atol=1e-03)"
   ]
  },
  {
   "cell_type": "code",
   "execution_count": null,
   "metadata": {
    "collapsed": true
   },
   "outputs": [],
   "source": []
  },
  {
   "cell_type": "code",
   "execution_count": 188,
   "metadata": {
    "collapsed": false
   },
   "outputs": [
    {
     "name": "stdout",
     "output_type": "stream",
     "text": [
      "[[ -918.8    -12.12 -2264.28     0.4   -983.9   -997.76 -1008.48     0.  ]\n",
      " [  -12.12 -4878.22   -14.49    36.98  1002.   -1019.24     0.   -1008.48]\n",
      " [-2264.28   -14.49 -3593.39   -34.4   1035.96     0.   -1019.24   997.76]\n",
      " [    0.4     36.98   -34.4  -4920.3      0.    1035.96 -1002.    -983.9 ]\n",
      " [ -983.9   1002.    1035.96     0.   -2000.       0.       0.       0.  ]\n",
      " [ -997.76 -1019.24     0.    1035.96     0.   -2000.       0.       0.  ]\n",
      " [-1008.48     0.   -1019.24 -1002.       0.       0.   -2000.       0.  ]\n",
      " [    0.   -1008.48   997.76  -983.9      0.       0.       0.   -2000.  ]]\n"
     ]
    }
   ],
   "source": [
    "print(vd.L)"
   ]
  },
  {
   "cell_type": "code",
   "execution_count": null,
   "metadata": {
    "collapsed": true
   },
   "outputs": [],
   "source": []
  }
 ],
 "metadata": {
  "kernelspec": {
   "display_name": "Python 2",
   "language": "python",
   "name": "python2"
  },
  "language_info": {
   "codemirror_mode": {
    "name": "ipython",
    "version": 2
   },
   "file_extension": ".py",
   "mimetype": "text/x-python",
   "name": "python",
   "nbconvert_exporter": "python",
   "pygments_lexer": "ipython2",
   "version": "2.7.11+"
  }
 },
 "nbformat": 4,
 "nbformat_minor": 0
}
