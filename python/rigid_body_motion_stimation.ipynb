{
 "cells": [
  {
   "cell_type": "code",
   "execution_count": 1,
   "metadata": {
    "collapsed": false
   },
   "outputs": [
    {
     "name": "stdout",
     "output_type": "stream",
     "text": [
      "Populating the interactive namespace from numpy and matplotlib\n"
     ]
    }
   ],
   "source": [
    "import sys\n",
    "sys.path.append('../build/Debug/')\n",
    "from transformations import (quaternion_matrix as quaternion_to_matrix,\n",
    "                             euler_matrix as euler_to_matrix, \n",
    "                             euler_from_quaternion)\n",
    "from plot import *\n",
    "\n",
    "import librigid_body_motion_estimation as rigid_body_motion_estimation\n",
    "%pylab inline\n",
    "np.set_printoptions(suppress=True)"
   ]
  },
  {
   "cell_type": "markdown",
   "metadata": {},
   "source": [
    "# Rigid Body Motion Estimation"
   ]
  },
  {
   "cell_type": "markdown",
   "metadata": {},
   "source": [
    "This notebook presents rigid body motion estimation using geometric algebra. We presents method in both the Euclidean and the conformal model. In the Euclidean model the rigid body transformations are modelled as a rotor and a translation vector and in the conformal model as motors.\n",
    "\n",
    "The motor estimation in the conformal model presents novel results by estimating the motor through its bivector generator. This is similar to the approaches used in quaternion estimation in 3D."
   ]
  },
  {
   "cell_type": "markdown",
   "metadata": {},
   "source": [
    "## Estimating rigid body transformations in the Euclidean model\n",
    "\n",
    "Consider the 3-dimensional Euclidean space, $\\mathbb{E}^3$, with basis $\\{ e_1, e_2, e_3 \\}$. The corresponding geometric algebra $\\mathbb{G}_3$ is of dimension 8 with basis\n",
    "\n",
    "$$ \\{ 1, e_1, e_2, e_3, e_{12}, e_{13}, e_{23}, e_{123} \\}.$$\n",
    "\n",
    "The Euclidean rotors form a subalgebra of $\\mathbb{G}_3$ with basis $\\{ 1, e_{12}, e_{13}, e_{23}  \\}$. Rotors are isomorphic to Quaternions, $\\mathbb{H}$.\n",
    "\n",
    "Given two corresponding, and possibly noisy, point sets the optimal rotor that transform one point set onto the other is found by minimizing the cost function \n",
    "\n",
    "$$ E = \\frac{1}{2} \\| b - R a \\tilde{R} + t  \\|^2 $$"
   ]
  },
  {
   "cell_type": "markdown",
   "metadata": {},
   "source": [
    "## Generate data sets"
   ]
  },
  {
   "cell_type": "code",
   "execution_count": 2,
   "metadata": {
    "collapsed": false
   },
   "outputs": [
    {
     "data": {
      "text/plain": [
       "array([[ 0.5      ,  0.8660254,  0.       ],\n",
       "       [-0.8660254,  0.5      , -0.       ],\n",
       "       [-0.       ,  0.       ,  1.       ]])"
      ]
     },
     "execution_count": 2,
     "metadata": {},
     "output_type": "execute_result"
    }
   ],
   "source": [
    "# Generate rotation matrix\n",
    "r = euler_to_matrix(0.0,0.0,-np.pi/3.0)[:3,:3]\n",
    "r"
   ]
  },
  {
   "cell_type": "code",
   "execution_count": 3,
   "metadata": {
    "collapsed": false
   },
   "outputs": [
    {
     "data": {
      "text/plain": [
       "array([ 0.1,  2. ,  3. ])"
      ]
     },
     "execution_count": 3,
     "metadata": {},
     "output_type": "execute_result"
    }
   ],
   "source": [
    "# translation vector\n",
    "t = np.array([0.1, 2.0, 3.0])\n",
    "t"
   ]
  },
  {
   "cell_type": "code",
   "execution_count": 4,
   "metadata": {
    "collapsed": false
   },
   "outputs": [],
   "source": [
    "# Generate initial point sets\n",
    "n_points = 10\n",
    "points_a = np.random.rand(n_points,3)\n",
    "points_b = np.array([np.dot(r,point.reshape(3,1)).reshape(3) + t for point in points_a])\n",
    "# Add noise to the rotated point cloud\n",
    "sigma = 0.1\n",
    "mu = 0.0\n",
    "points_b_noisy = points_b + sigma * np.random.randn(n_points,3) + mu"
   ]
  },
  {
   "cell_type": "code",
   "execution_count": 5,
   "metadata": {
    "collapsed": false
   },
   "outputs": [
    {
     "data": {
      "image/png": "[encoded data removed]",
      "text/plain": [
       "<matplotlib.figure.Figure at 0x7fbbb2d21150>"
      ]
     },
     "metadata": {},
     "output_type": "display_data"
    }
   ],
   "source": [
    "plot_xy_projection(points_a, points_b_noisy)"
   ]
  },
  {
   "cell_type": "code",
   "execution_count": 6,
   "metadata": {
    "collapsed": false
   },
   "outputs": [
    {
     "data": {
      "text/plain": [
       "'Ceres Solver Report: Iterations: 7, Initial cost: 5.051089e+04, Final cost: 7.039310e-02, Termination: CONVERGENCE'"
      ]
     },
     "execution_count": 6,
     "metadata": {},
     "output_type": "execute_result"
    }
   ],
   "source": [
    "rtbe = rigid_body_motion_estimation.RotorTranslationVectorBivectorGeneratorEstimation()\n",
    "b0 = np.array([0.2, 0.0, 0.0]).reshape(3,1)\n",
    "t00 = np.array([-100.0, 0.0, 0.0]).reshape(3,1)\n",
    "rt1 = rtbe.run(b0, t00, points_a, points_b_noisy)\n",
    "rtbe.summary()['brief_report']"
   ]
  },
  {
   "cell_type": "code",
   "execution_count": 7,
   "metadata": {
    "collapsed": false
   },
   "outputs": [
    {
     "data": {
      "text/plain": [
       "'Ceres Solver Report: Iterations: 7, Initial cost: 5.028441e+04, Final cost: 7.039310e-02, Termination: CONVERGENCE'"
      ]
     },
     "execution_count": 7,
     "metadata": {},
     "output_type": "execute_result"
    }
   ],
   "source": [
    "rte = rigid_body_motion_estimation.RotorTranslationVectorEstimation()\n",
    "r0 = np.array([1.0, 0.0, 0.0, 0.0]).reshape(4,1)\n",
    "t01 = np.array([-100.0, 0.0, 0.0]).reshape(3,1)\n",
    "rt2 = rte.run(r0, t01, points_a, points_b_noisy)\n",
    "rte.summary()['brief_report']"
   ]
  },
  {
   "cell_type": "code",
   "execution_count": 8,
   "metadata": {
    "collapsed": false
   },
   "outputs": [
    {
     "data": {
      "image/png": "[encoded data removed]",
      "text/plain": [
       "<matplotlib.figure.Figure at 0x7fbbb2d21e90>"
      ]
     },
     "metadata": {},
     "output_type": "display_data"
    }
   ],
   "source": [
    "iterations_rtbe = rtbe.summary()['iterations']\n",
    "iterations_rte = rte.summary()['iterations']\n",
    "plt.plot([iteration['gradient_max_norm'] for iteration in iterations_rte], label='full rotor')\n",
    "plt.plot([iteration['gradient_max_norm'] for iteration in iterations_rtbe], label='bivector generator')\n",
    "plt.legend()\n",
    "plt.xticks([iteration['iteration'] for iteration in max(iterations_rte, iterations_rtbe)])\n",
    "plt.xlabel('iteration')\n",
    "plt.ylabel('gradient max norm')\n",
    "plt.show()"
   ]
  },
  {
   "cell_type": "code",
   "execution_count": 9,
   "metadata": {
    "collapsed": false
   },
   "outputs": [
    {
     "data": {
      "text/plain": [
       "array([[ 0.86355388],\n",
       "       [ 0.50183464],\n",
       "       [-0.04544883],\n",
       "       [-0.0192635 ],\n",
       "       [ 0.12668607],\n",
       "       [ 2.02018552],\n",
       "       [ 2.92847996]])"
      ]
     },
     "execution_count": 9,
     "metadata": {},
     "output_type": "execute_result"
    }
   ],
   "source": [
    "rt1"
   ]
  },
  {
   "cell_type": "code",
   "execution_count": 10,
   "metadata": {
    "collapsed": false
   },
   "outputs": [
    {
     "data": {
      "text/plain": [
       "array([[ 0.8635539 ],\n",
       "       [ 0.50183461],\n",
       "       [-0.04544897],\n",
       "       [-0.01926352],\n",
       "       [ 0.12668614],\n",
       "       [ 2.02018544],\n",
       "       [ 2.92847976]])"
      ]
     },
     "execution_count": 10,
     "metadata": {},
     "output_type": "execute_result"
    }
   ],
   "source": [
    "rt2"
   ]
  },
  {
   "cell_type": "code",
   "execution_count": 37,
   "metadata": {
    "collapsed": false
   },
   "outputs": [
    {
     "data": {
      "text/plain": [
       "'Ceres Solver Report: Iterations: 10, Initial cost: 5.473893e+01, Final cost: 5.473893e+01, Termination: CONVERGENCE'"
      ]
     },
     "execution_count": 37,
     "metadata": {},
     "output_type": "execute_result"
    }
   ],
   "source": [
    "gre = rigid_body_motion_estimation.GeneralRotorEstimation()\n",
    "r02 = np.array([1.0, 0.0, 0.0, 0.0]).reshape(4,1)\n",
    "t02 = np.array([0.1, 0.0, 0.0]).reshape(3,1)\n",
    "gre_rt = gre.run(r02, t02, points_a, points_b_noisy)\n",
    "gre.summary()['brief_report']"
   ]
  },
  {
   "cell_type": "code",
   "execution_count": 38,
   "metadata": {
    "collapsed": false
   },
   "outputs": [
    {
     "data": {
      "text/plain": [
       "array([[ 0.22676829,  0.69592691,  0.46004271],\n",
       "       [ 0.68205824,  0.61330599,  0.23226575],\n",
       "       [ 0.76689549,  0.07230001,  0.54473702],\n",
       "       [ 0.69287319,  0.2731462 ,  0.42329788],\n",
       "       [ 0.13024668,  0.07855514,  0.72786078],\n",
       "       [ 0.30489623,  0.92395259,  0.04926286],\n",
       "       [ 0.99812474,  0.84892356,  0.00683685],\n",
       "       [ 0.67093352,  0.07411038,  0.13157638],\n",
       "       [ 0.78500055,  0.53016356,  0.10483718],\n",
       "       [ 0.22970933,  0.61072909,  0.05013109]])"
      ]
     },
     "execution_count": 38,
     "metadata": {},
     "output_type": "execute_result"
    }
   ],
   "source": [
    "points_a"
   ]
  },
  {
   "cell_type": "code",
   "execution_count": 41,
   "metadata": {
    "collapsed": false
   },
   "outputs": [
    {
     "data": {
      "image/png": "[encoded data removed]",
      "text/plain": [
       "<matplotlib.figure.Figure at 0x7fbbb2a7d350>"
      ]
     },
     "metadata": {},
     "output_type": "display_data"
    }
   ],
   "source": [
    "iterations = gre.summary()['iterations']\n",
    "plt.plot([iteration['gradient_max_norm'] for iteration in iterations], label='general rotor')\n",
    "plt.legend()\n",
    "plt.xticks([iteration['iteration'] for iteration in iterations])\n",
    "plt.xlabel('iteration')\n",
    "plt.ylabel('gradient max norm')\n",
    "plt.show()"
   ]
  }
 ],
 "metadata": {
  "kernelspec": {
   "display_name": "Python 2",
   "language": "python",
   "name": "python2"
  },
  "language_info": {
   "codemirror_mode": {
    "name": "ipython",
    "version": 2
   },
   "file_extension": ".py",
   "mimetype": "text/x-python",
   "name": "python",
   "nbconvert_exporter": "python",
   "pygments_lexer": "ipython2",
   "version": "2.7.6"
  }
 },
 "nbformat": 4,
 "nbformat_minor": 0
}
