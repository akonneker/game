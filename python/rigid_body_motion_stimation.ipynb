{
 "cells": [
  {
   "cell_type": "code",
   "execution_count": 1,
   "metadata": {
    "collapsed": false
   },
   "outputs": [
    {
     "name": "stdout",
     "output_type": "stream",
     "text": [
      "Populating the interactive namespace from numpy and matplotlib\n"
     ]
    }
   ],
   "source": [
    "import sys\n",
    "sys.path.append('../build/Debug/')\n",
    "from transformations import (quaternion_matrix as quaternion_to_matrix,\n",
    "                             euler_matrix as euler_to_matrix, \n",
    "                             euler_from_quaternion)\n",
    "from plot import *\n",
    "\n",
    "import librigid_body_motion_estimation as rigid_body_motion_estimation\n",
    "%pylab inline\n",
    "np.set_printoptions(suppress=True)"
   ]
  },
  {
   "cell_type": "markdown",
   "metadata": {},
   "source": [
    "# Rigid Body Motion Estimation"
   ]
  },
  {
   "cell_type": "markdown",
   "metadata": {},
   "source": [
    "This notebook presents rigid body motion estimation using geometric algebra. We presents method in both the Euclidean and the conformal model. In the Euclidean model the rigid body transformations are modelled as a rotor and a translation vector and in the conformal model as motors.\n",
    "\n",
    "The motor estimation in the conformal model presents novel results by estimating the motor through its bivector generator. This is similar to the approaches used in quaternion estimation in 3D."
   ]
  },
  {
   "cell_type": "markdown",
   "metadata": {},
   "source": [
    "## Estimating rigid body transformations in the Euclidean model\n",
    "\n",
    "Consider the 3-dimensional Euclidean space, $\\mathbb{E}^3$, with basis $\\{ e_1, e_2, e_3 \\}$. The corresponding geometric algebra $\\mathbb{G}_3$ is of dimension 8 with basis\n",
    "\n",
    "$$ \\{ 1, e_1, e_2, e_3, e_{12}, e_{13}, e_{23}, e_{123} \\}.$$\n",
    "\n",
    "The Euclidean rotors form a subalgebra of $\\mathbb{G}_3$ with basis $\\{ 1, e_{12}, e_{13}, e_{23}  \\}$. Rotors are isomorphic to Quaternions, $\\mathbb{H}$.\n",
    "\n",
    "Given two corresponding, and possibly noisy, point sets the optimal rotor that transform one point set onto the other is found by minimizing the cost function \n",
    "\n",
    "$$ E = \\frac{1}{2} \\| b - R a \\tilde{R} + t  \\|^2 $$"
   ]
  },
  {
   "cell_type": "markdown",
   "metadata": {},
   "source": [
    "## Generate data sets"
   ]
  },
  {
   "cell_type": "code",
   "execution_count": 39,
   "metadata": {
    "collapsed": false
   },
   "outputs": [
    {
     "data": {
      "text/plain": [
       "array([[ 0.5      , -0.8660254,  0.       ],\n",
       "       [ 0.8660254,  0.5      ,  0.       ],\n",
       "       [-0.       ,  0.       ,  1.       ]])"
      ]
     },
     "execution_count": 39,
     "metadata": {},
     "output_type": "execute_result"
    }
   ],
   "source": [
    "# Generate rotation matrix\n",
    "r = euler_to_matrix(0.0,0.0,np.pi/3.0)[:3,:3]\n",
    "r"
   ]
  },
  {
   "cell_type": "code",
   "execution_count": 40,
   "metadata": {
    "collapsed": false
   },
   "outputs": [
    {
     "data": {
      "text/plain": [
       "array([ 1.,  0.,  0.])"
      ]
     },
     "execution_count": 40,
     "metadata": {},
     "output_type": "execute_result"
    }
   ],
   "source": [
    "# translation vector\n",
    "t = np.array([1.0, 0.0, 0.0])\n",
    "t"
   ]
  },
  {
   "cell_type": "code",
   "execution_count": 41,
   "metadata": {
    "collapsed": false
   },
   "outputs": [
    {
     "name": "stdout",
     "output_type": "stream",
     "text": [
      "[[ 0.33438417  0.51100587 -0.55957736]\n",
      " [ 0.30120695 -1.62760495  0.67811229]\n",
      " [ 1.13918312 -1.22731147 -0.42812231]\n",
      " [-1.3264951   0.48439305 -0.26456307]\n",
      " [-0.13189646  0.22747899 -0.22503065]\n",
      " [ 0.31817896 -0.03115741 -1.19413446]\n",
      " [-0.99269356 -0.40246322 -0.70821051]\n",
      " [ 1.35102964 -1.43489922  0.33428138]\n",
      " [-1.18330577 -0.32913987  0.12984643]\n",
      " [-0.13843632 -1.36605755 -0.63532907]]\n"
     ]
    }
   ],
   "source": [
    "# Generate initial point sets\n",
    "n_points = 10\n",
    "points_a = np.random.normal(0.0, 0.8, (n_points,3))\n",
    "print(points_a)\n",
    "points_b = np.array([np.dot(r,point.reshape(3,1)).reshape(3) + t for point in points_a])\n",
    "# Add noise to the rotated point cloud\n",
    "sigma = 0.09\n",
    "mu = 0.0\n",
    "points_b_noisy = points_b + sigma * np.random.randn(n_points,3) + mu\n",
    "# points_b_noisy = points_b"
   ]
  },
  {
   "cell_type": "code",
   "execution_count": 5,
   "metadata": {
    "collapsed": false
   },
   "outputs": [
    {
     "data": {
      "image/png": "[encoded data removed]",
      "text/plain": [
       "<matplotlib.figure.Figure at 0x7fc38c1954d0>"
      ]
     },
     "metadata": {},
     "output_type": "display_data"
    }
   ],
   "source": [
    "plot_xy_projection(points_a, points_b_noisy)"
   ]
  },
  {
   "cell_type": "code",
   "execution_count": 6,
   "metadata": {
    "collapsed": false
   },
   "outputs": [
    {
     "data": {
      "text/plain": [
       "'Ceres Solver Report: Iterations: 4, Initial cost: 2.641902e+01, Final cost: 2.944452e-26, Termination: CONVERGENCE'"
      ]
     },
     "execution_count": 6,
     "metadata": {},
     "output_type": "execute_result"
    }
   ],
   "source": [
    "rtbe = rigid_body_motion_estimation.RotorTranslationVectorBivectorGeneratorEstimation()\n",
    "b0 = np.array([1.0, 0.0, 0.0]).reshape(3,1)\n",
    "t00 = np.array([-1.0, 0.0, 0.0]).reshape(3,1)\n",
    "rt1 = rtbe.run(b0, t00, points_a, points_b_noisy)\n",
    "rtbe.summary()['brief_report']"
   ]
  },
  {
   "cell_type": "code",
   "execution_count": 7,
   "metadata": {
    "collapsed": true
   },
   "outputs": [],
   "source": [
    "def create_solver_options(use_trust_region_minimizer=True):\n",
    "    solver_options = {\n",
    "        'minimizer_type':'TRUST_REGION',\n",
    "        'trust_region_strategy_type':'LEVENBERG_MARQUARDT',\n",
    "        'linear_solver_type':'DENSE_QR',\n",
    "        'max_num_iterations': 10, \n",
    "        'num_threads': 4,\n",
    "        'num_linear_solver_threads':4,\n",
    "        'parameter_tolerance': 10e-16,\n",
    "        'function_tolerance': 10e-16,\n",
    "        'gradient_tolerance': 10e-12,\n",
    "        'minimizer_progress_to_stdout':False,\n",
    "        'trust_region_minimizer_iterations_to_dump':[],\n",
    "        'trust_region_problem_dump_directory':'',\n",
    "    }\n",
    "    if not use_trust_region_minimizer:\n",
    "        solver_options['minimizer_type'] = 'LINE_SEARCH'\n",
    "        \n",
    "    return solver_options  "
   ]
  },
  {
   "cell_type": "code",
   "execution_count": 8,
   "metadata": {
    "collapsed": false
   },
   "outputs": [
    {
     "name": "stdout",
     "output_type": "stream",
     "text": [
      "\n",
      "Solver Summary (v 1.10.0-eigen-(3.2.0)-lapack-suitesparse-(4.2.1)-openmp)\n",
      "\n",
      "                                     Original                  Reduced\n",
      "Parameter blocks                            2                        2\n",
      "Parameters                                  7                        7\n",
      "Residual blocks                            10                       10\n",
      "Residual                                   30                       30\n",
      "\n",
      "Minimizer                         LINE_SEARCH\n",
      "Line search direction              LBFGS (20)\n",
      "Line search type                  CUBIC WOLFE\n",
      "\n",
      "                                        Given                     Used\n",
      "Threads                                     4                        4\n",
      "\n",
      "Cost:\n",
      "Initial                          2.627579e+01\n",
      "Final                            7.404646e-23\n",
      "Change                           2.627579e+01\n",
      "\n",
      "Minimizer iterations                       21\n",
      "\n",
      "Time (in seconds):\n",
      "Preprocessor                           0.0000\n",
      "\n",
      "  Residual evaluation                  0.0000\n",
      "    Line search cost evaluation        0.0000\n",
      "  Jacobian evaluation                  0.0472\n",
      "    Line search gradient evaluation    0.0248\n",
      "  Line search polynomial minimization  0.0000\n",
      "Minimizer                              0.0477\n",
      "\n",
      "Postprocessor                          0.0000\n",
      "Total                                  0.0477\n",
      "\n",
      "Termination:                      CONVERGENCE (Gradient tolerance reached. Gradient max norm: 3.302286e-12 <= 1.000000e-11)\n",
      "\n"
     ]
    }
   ],
   "source": [
    "solver_options = create_solver_options(use_trust_region_minimizer=False)\n",
    "solver_options['max_num_iterations'] = 100\n",
    "\n",
    "rte = rigid_body_motion_estimation.RotorTranslationVectorEstimation(solver_options)\n",
    "r0 = np.array([1.0, 0.0, 0.0, 0.0]).reshape(4,1)\n",
    "t01 = np.array([-1.0, 0.0, 0.0]).reshape(3,1)\n",
    "rt2 = rte.run(r0, t01, points_a, points_b_noisy)\n",
    "print(rte.summary()['full_report'])"
   ]
  },
  {
   "cell_type": "code",
   "execution_count": 9,
   "metadata": {
    "collapsed": false
   },
   "outputs": [
    {
     "data": {
      "image/png": "[encoded data removed]",
      "text/plain": [
       "<matplotlib.figure.Figure at 0x7fc371685390>"
      ]
     },
     "metadata": {},
     "output_type": "display_data"
    }
   ],
   "source": [
    "iterations_rtbe = rtbe.summary()['iterations']\n",
    "iterations_rte = rte.summary()['iterations']\n",
    "plt.plot([iteration['gradient_max_norm'] for iteration in iterations_rte], label='full rotor')\n",
    "plt.plot([iteration['gradient_max_norm'] for iteration in iterations_rtbe], label='bivector generator')\n",
    "plt.legend()\n",
    "plt.xticks([iteration['iteration'] for iteration in max(iterations_rte, iterations_rtbe)])\n",
    "plt.xlabel('iteration')\n",
    "plt.ylabel('gradient max norm')\n",
    "plt.show()"
   ]
  },
  {
   "cell_type": "code",
   "execution_count": 10,
   "metadata": {
    "collapsed": false
   },
   "outputs": [
    {
     "data": {
      "text/plain": [
       "array([[ 0.70710678],\n",
       "       [-0.70710678],\n",
       "       [ 0.        ],\n",
       "       [ 0.        ],\n",
       "       [ 1.        ],\n",
       "       [-0.        ],\n",
       "       [ 0.        ]])"
      ]
     },
     "execution_count": 10,
     "metadata": {},
     "output_type": "execute_result"
    }
   ],
   "source": [
    "rt1"
   ]
  },
  {
   "cell_type": "code",
   "execution_count": 11,
   "metadata": {
    "collapsed": false
   },
   "outputs": [
    {
     "data": {
      "text/plain": [
       "array([[ 0.70710678],\n",
       "       [-0.70710678],\n",
       "       [ 0.        ],\n",
       "       [-0.        ],\n",
       "       [ 1.        ],\n",
       "       [-0.        ],\n",
       "       [ 0.        ]])"
      ]
     },
     "execution_count": 11,
     "metadata": {},
     "output_type": "execute_result"
    }
   ],
   "source": [
    "rt2"
   ]
  },
  {
   "cell_type": "code",
   "execution_count": 12,
   "metadata": {
    "collapsed": false
   },
   "outputs": [
    {
     "data": {
      "text/plain": [
       "'Ceres Solver Report: Iterations: 5, Initial cost: 1.774434e+01, Final cost: 1.385905e-22, Termination: CONVERGENCE'"
      ]
     },
     "execution_count": 12,
     "metadata": {},
     "output_type": "execute_result"
    }
   ],
   "source": [
    "gre = rigid_body_motion_estimation.GeneralRotorEstimation()\n",
    "gr = np.array([1.0, 0.0, 0.0, 0.0, 0.0, 0.0, 0.0]).reshape(7,1)\n",
    "gre_rt = gre.run(gr, points_a, points_b_noisy)\n",
    "gre.summary()['brief_report']"
   ]
  },
  {
   "cell_type": "code",
   "execution_count": 13,
   "metadata": {
    "collapsed": false
   },
   "outputs": [
    {
     "data": {
      "text/plain": [
       "array([[ 0.70710678],\n",
       "       [-0.70710678],\n",
       "       [-0.        ],\n",
       "       [ 0.        ],\n",
       "       [-0.35355339],\n",
       "       [ 0.35355339],\n",
       "       [ 0.        ]])"
      ]
     },
     "execution_count": 13,
     "metadata": {},
     "output_type": "execute_result"
    }
   ],
   "source": [
    "gre_rt"
   ]
  },
  {
   "cell_type": "code",
   "execution_count": 14,
   "metadata": {
    "collapsed": false
   },
   "outputs": [
    {
     "data": {
      "image/png": "[encoded data removed]",
      "text/plain": [
       "<matplotlib.figure.Figure at 0x7fc3715e4e10>"
      ]
     },
     "metadata": {},
     "output_type": "display_data"
    }
   ],
   "source": [
    "iterations = gre.summary()['iterations']\n",
    "plt.plot([iteration['gradient_max_norm'] for iteration in iterations], label='general rotor')\n",
    "plt.legend()\n",
    "plt.xticks([iteration['iteration'] for iteration in iterations])\n",
    "plt.xlabel('iteration')\n",
    "plt.ylabel('gradient max norm')\n",
    "plt.show()"
   ]
  },
  {
   "cell_type": "code",
   "execution_count": 15,
   "metadata": {
    "collapsed": false
   },
   "outputs": [
    {
     "data": {
      "text/plain": [
       "array([[ 0.5],\n",
       "       [-0.5],\n",
       "       [-0. ]])"
      ]
     },
     "execution_count": 15,
     "metadata": {},
     "output_type": "execute_result"
    }
   ],
   "source": [
    "def extract_screw_axis(motor):\n",
    "    sp = np.sin(np.arccos(motor[0]))\n",
    "    r = motor[:4]\n",
    "    t = motor[4:] / -sp\n",
    "    return r,t\n",
    "\n",
    "r,t = extract_screw_axis(gre_rt)\n",
    "t"
   ]
  },
  {
   "cell_type": "code",
   "execution_count": 16,
   "metadata": {
    "collapsed": true
   },
   "outputs": [],
   "source": [
    "# R = X(1:3,1:3);\n",
    "# t = X(1:3,4);\n",
    "# [n, phi] = RotMat2AxisAngle(R);\n",
    "\n",
    "# B23 =  n(1);\n",
    "# B13 = -n(2);\n",
    "# B12 =  n(3);\n",
    "\n",
    "# cp = cos(phi/2);\n",
    "# sp = sin(phi/2);\n",
    "# t1 = t(1) / 2;\n",
    "# t2 = t(2) / 2;\n",
    "# t3 = t(3) / 2;\n",
    "\n",
    "# M = [ cp, ...\n",
    "#      -B)12 * sp, ...\n",
    "#      -B13 * sp, ...\n",
    "#      -B23 * sp, ...\n",
    "#      -t1 * cp + (-B12 * t2 - B13 * t3) * sp, ...\n",
    "#      -t2 * cp + ( B12 * t1 - B23 * t3) * sp, ...\n",
    "#      -t3 * cp + (-B13 * t1 + B23 * t2) * sp, ...\n",
    "#       (B12 * t3 - B13 * t2 + B23 * t1) * sp];"
   ]
  },
  {
   "cell_type": "code",
   "execution_count": 17,
   "metadata": {
    "collapsed": true
   },
   "outputs": [],
   "source": [
    "# M = [0.739516,0.406033,-0.284237,-0.455481,9.03902,16.5613,-18.74,-9.39839]\n",
    "# theta_half = acos(M(1));\n",
    "\n",
    "# A = [-M(1)  M(2)  M(3);...\n",
    "#      -M(2) -M(1)  M(4); ...\n",
    "#      -M(3) -M(4) -M(1)];\n",
    "  \n",
    "# b = [M(5) M(6) M(7)]';\n",
    "\n",
    "# t = (0.5 * eye(3) * A) \\ b;\n"
   ]
  },
  {
   "cell_type": "code",
   "execution_count": 18,
   "metadata": {
    "collapsed": false
   },
   "outputs": [
    {
     "name": "stdout",
     "output_type": "stream",
     "text": [
      "[[-0.35355339  0.70710678 -0.        ]\n",
      " [-0.70710678 -0.35355339 -0.        ]\n",
      " [ 0.          0.         -0.35355339]]\n"
     ]
    },
    {
     "data": {
      "text/plain": [
       "array([[-0.2],\n",
       "       [-0.6],\n",
       "       [-0. ]])"
      ]
     },
     "execution_count": 18,
     "metadata": {},
     "output_type": "execute_result"
    }
   ],
   "source": [
    "m = gr\n",
    "a = -0.5 * m[0] * np.eye(3) + \\\n",
    "np.array([0.0, -m[1], m[2], \n",
    "          m[1], 0.0, -m[3],\n",
    "         -m[2], m[3], 0.0]).reshape(3,3)\n",
    "\n",
    "b = np.array([m[4], m[5], m[6]]).reshape(3,1)\n",
    "print a\n",
    "np.linalg.solve(a,b)"
   ]
  },
  {
   "cell_type": "code",
   "execution_count": 19,
   "metadata": {
    "collapsed": false
   },
   "outputs": [
    {
     "data": {
      "text/plain": [
       "array([ 0.70710678, -0.70710678, -0.        ,  0.        , -0.35355339,\n",
       "        0.35355339,  0.        ])"
      ]
     },
     "execution_count": 19,
     "metadata": {},
     "output_type": "execute_result"
    }
   ],
   "source": [
    "gr.ravel(0)"
   ]
  },
  {
   "cell_type": "code",
   "execution_count": 33,
   "metadata": {
    "collapsed": true
   },
   "outputs": [],
   "source": [
    "fig_width_pt = 358.50475  # Get this from LaTeX using \\showthe\\columnwidth\n",
    "inches_per_pt = 1.0/72.27               # Convert pt to inches\n",
    "golden_mean = (sqrt(5.0)-1.0)/2.0         # Aesthetic ratio\n",
    "fig_width = fig_width_pt*inches_per_pt  # width in inches\n",
    "fig_height =fig_width*golden_mean       # height in inches\n",
    "fig_size = [fig_width,fig_height]\n",
    "params = {\n",
    "    'axes.labelsize': 9,\n",
    "    'font.size': 9,\n",
    "    \"font.family\": \"serif\",\n",
    "    \"font.serif\": [],\n",
    "    'legend.fontsize': 9,\n",
    "    'legend.linewidth': 0.3,\n",
    "    'xtick.labelsize': 8,\n",
    "    'ytick.labelsize': 8,\n",
    "    'text.usetex': True,\n",
    "    'text.latex.preamble':[r'\\usepackage{amsmath}', r'\\usepackage{bm}'],\n",
    "    'figure.figsize': fig_size,\n",
    "    'axes.linewidth': 0.5\n",
    "}\n",
    "matplotlib.rcParams.update(params)"
   ]
  },
  {
   "cell_type": "code",
   "execution_count": 42,
   "metadata": {
    "collapsed": false
   },
   "outputs": [
    {
     "data": {
      "image/png": "[encoded data removed]",
      "text/plain": [
       "<matplotlib.figure.Figure at 0x7fc3717278d0>"
      ]
     },
     "metadata": {},
     "output_type": "display_data"
    }
   ],
   "source": [
    "# (points_a, points_b, points_b_noisy) = generate_dataset(10, 0.09, 0.0)\n",
    "\n",
    "fig, ax = plt.subplots(1)\n",
    "\n",
    "# ax.set_aspect('equal')\n",
    "plt.set_cmap('gray')\n",
    "\n",
    "almost_black = '#262626'\n",
    "spines_to_remove = ['top', 'right']\n",
    "for spine in spines_to_remove:\n",
    "    ax.spines[spine].set_visible(False)\n",
    "ax.xaxis.set_ticks_position('none')\n",
    "ax.yaxis.set_ticks_position('none')\n",
    "\n",
    "spines_to_keep = ['bottom', 'left']\n",
    "for spine in spines_to_keep:\n",
    "    ax.spines[spine].set_linewidth(0.5)\n",
    "    ax.spines[spine].set_color(almost_black)\n",
    "ax.xaxis.label.set_color(almost_black)\n",
    "ax.yaxis.label.set_color(almost_black)\n",
    "\n",
    "c = random.rand(n_points)\n",
    "\n",
    "x = points_a[:,0]\n",
    "y = points_a[:,1]\n",
    "ax.scatter(x, y, c='r',\n",
    "           edgecolor=almost_black, linewidth=0.15, \n",
    "           label=r\"$\\{a_i\\}$\")\n",
    "for i, txt in enumerate(range(n_points)):\n",
    "    ax.annotate(txt, (x[i],y[i]))\n",
    "    \n",
    "x = points_b[:,0]\n",
    "y = points_b[:,1]\n",
    "ax.scatter(x,y,c='b',\n",
    "           edgecolor=almost_black,linewidth=0.15, \n",
    "           label=r\"$\\{a^\\prime_i\\}$\")\n",
    "for i, txt in enumerate(range(n_points)):\n",
    "    ax.annotate(txt, (x[i],y[i]))\n",
    "    \n",
    "x = points_b_noisy[:,0]\n",
    "y = points_b_noisy[:,1]\n",
    "ax.scatter(x,y,c='g',\n",
    "           edgecolor=almost_black,linewidth=0.15, \n",
    "           label=r\"$\\{b_i\\}$\")\n",
    "for i, txt in enumerate(range(n_points)):\n",
    "    ax.annotate(txt, (x[i],y[i]))\n",
    "    \n",
    "ax.title.set_color(almost_black)\n",
    "ax.axhline(0, color=almost_black, linewidth=0.15)\n",
    "ax.axvline(0, color=almost_black, linewidth=0.15)\n",
    "\n",
    "# Remove the line around the legend box, and instead fill it with a light grey\n",
    "# Also only use one point for the scatterplot legend because the user will \n",
    "# get the idea after just one, they don't need three.\n",
    "light_grey = np.array([float(248)/float(255)]*3)\n",
    "legend = ax.legend(frameon=True, scatterpoints=1)\n",
    "rect = legend.get_frame()\n",
    "rect.set_facecolor(light_grey)\n",
    "rect.set_linewidth(0.0)\n",
    "\n",
    "# Change the legend label colors to almost black, too\n",
    "texts = legend.texts\n",
    "for t in texts:\n",
    "    t.set_color(almost_black)\n",
    "\n",
    "plt.xlabel(r'$\\bm{\\mathrm{e}}_1$-axis $[m]$')\n",
    "plt.ylabel(r'$\\bm{\\mathrm{e}}_2$-axis $[m]$')\n",
    "\n",
    "save_dir = '/home/lars/Dropbox/sharelatex/2016_phd_thesis_lt/figures'\n",
    "plt.show()\n",
    "fig.savefig(save_dir + '/general_rotor_estimation_xy_proj.pdf')"
   ]
  },
  {
   "cell_type": "code",
   "execution_count": null,
   "metadata": {
    "collapsed": true
   },
   "outputs": [],
   "source": []
  },
  {
   "cell_type": "code",
   "execution_count": null,
   "metadata": {
    "collapsed": true
   },
   "outputs": [],
   "source": []
  },
  {
   "cell_type": "code",
   "execution_count": null,
   "metadata": {
    "collapsed": true
   },
   "outputs": [],
   "source": []
  },
  {
   "cell_type": "code",
   "execution_count": null,
   "metadata": {
    "collapsed": true
   },
   "outputs": [],
   "source": []
  },
  {
   "cell_type": "code",
   "execution_count": null,
   "metadata": {
    "collapsed": true
   },
   "outputs": [],
   "source": []
  }
 ],
 "metadata": {
  "kernelspec": {
   "display_name": "Python 2",
   "language": "python",
   "name": "python2"
  },
  "language_info": {
   "codemirror_mode": {
    "name": "ipython",
    "version": 2
   },
   "file_extension": ".py",
   "mimetype": "text/x-python",
   "name": "python",
   "nbconvert_exporter": "python",
   "pygments_lexer": "ipython2",
   "version": "2.7.6"
  }
 },
 "nbformat": 4,
 "nbformat_minor": 0
}
