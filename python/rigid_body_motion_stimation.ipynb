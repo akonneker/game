{
 "cells": [
  {
   "cell_type": "code",
   "execution_count": 1,
   "metadata": {
    "collapsed": false
   },
   "outputs": [
    {
     "name": "stdout",
     "output_type": "stream",
     "text": [
      "Populating the interactive namespace from numpy and matplotlib\n"
     ]
    }
   ],
   "source": [
    "import sys\n",
    "sys.path.append('../build/Debug/')\n",
    "from transformations import (quaternion_matrix as quaternion_to_matrix,\n",
    "                             euler_matrix as euler_to_matrix, \n",
    "                             euler_from_quaternion)\n",
    "from plot import *\n",
    "\n",
    "import librigid_body_motion_estimation as rigid_body_motion_estimation\n",
    "%pylab inline\n",
    "np.set_printoptions(suppress=True)"
   ]
  },
  {
   "cell_type": "markdown",
   "metadata": {},
   "source": [
    "# Rigid Body Motion Estimation"
   ]
  },
  {
   "cell_type": "markdown",
   "metadata": {},
   "source": [
    "This notebook presents rigid body motion estimation using geometric algebra. We presents method in both the Euclidean and the conformal model. In the Euclidean model the rigid body transformations are modelled as a rotor and a translation vector and in the conformal model as motors.\n",
    "\n",
    "The motor estimation in the conformal model presents novel results by estimating the motor through its bivector generator. This is similar to the approaches used in quaternion estimation in 3D."
   ]
  },
  {
   "cell_type": "markdown",
   "metadata": {},
   "source": [
    "## Estimating rigid body transformations in the Euclidean model\n",
    "\n",
    "Consider the 3-dimensional Euclidean space, $\\mathbb{E}^3$, with basis $\\{ e_1, e_2, e_3 \\}$. The corresponding geometric algebra $\\mathbb{G}_3$ is of dimension 8 with basis\n",
    "\n",
    "$$ \\{ 1, e_1, e_2, e_3, e_{12}, e_{13}, e_{23}, e_{123} \\}.$$\n",
    "\n",
    "The Euclidean rotors form a subalgebra of $\\mathbb{G}_3$ with basis $\\{ 1, e_{12}, e_{13}, e_{23}  \\}$. Rotors are isomorphic to Quaternions, $\\mathbb{H}$.\n",
    "\n",
    "Given two corresponding, and possibly noisy, point sets the optimal rotor that transform one point set onto the other is found by minimizing the cost function \n",
    "\n",
    "$$ E = \\frac{1}{2} \\| b - R a \\tilde{R} + t  \\|^2 $$"
   ]
  },
  {
   "cell_type": "markdown",
   "metadata": {},
   "source": [
    "## Generate data sets"
   ]
  },
  {
   "cell_type": "code",
   "execution_count": 2,
   "metadata": {
    "collapsed": false
   },
   "outputs": [
    {
     "data": {
      "text/plain": [
       "array([[ 0., -1.,  0.],\n",
       "       [ 1.,  0.,  0.],\n",
       "       [-0.,  0.,  1.]])"
      ]
     },
     "execution_count": 2,
     "metadata": {},
     "output_type": "execute_result"
    }
   ],
   "source": [
    "# Generate rotation matrix\n",
    "r = euler_to_matrix(0.0,0.0,np.pi/2.0)[:3,:3]\n",
    "r"
   ]
  },
  {
   "cell_type": "code",
   "execution_count": 3,
   "metadata": {
    "collapsed": false
   },
   "outputs": [
    {
     "data": {
      "text/plain": [
       "array([ 0.,  1.,  0.])"
      ]
     },
     "execution_count": 3,
     "metadata": {},
     "output_type": "execute_result"
    }
   ],
   "source": [
    "# translation vector\n",
    "t = np.array([0.0, 1.0, 0.0])\n",
    "t"
   ]
  },
  {
   "cell_type": "code",
   "execution_count": 4,
   "metadata": {
    "collapsed": false
   },
   "outputs": [],
   "source": [
    "# Generate initial point sets\n",
    "n_points = 10\n",
    "points_a = np.random.rand(n_points,3)\n",
    "points_b = np.array([np.dot(r,point.reshape(3,1)).reshape(3) + t for point in points_a])\n",
    "# Add noise to the rotated point cloud\n",
    "sigma = 0.1\n",
    "mu = 0.0\n",
    "# points_b_noisy = points_b + sigma * np.random.randn(n_points,3) + mu\n",
    "points_b_noisy = points_b"
   ]
  },
  {
   "cell_type": "code",
   "execution_count": 5,
   "metadata": {
    "collapsed": false
   },
   "outputs": [
    {
     "data": {
      "image/png": "[encoded data removed]",
      "text/plain": [
       "<matplotlib.figure.Figure at 0x7fb1ee0c8e90>"
      ]
     },
     "metadata": {},
     "output_type": "display_data"
    }
   ],
   "source": [
    "plot_xy_projection(points_a, points_b_noisy)"
   ]
  },
  {
   "cell_type": "code",
   "execution_count": 6,
   "metadata": {
    "collapsed": false
   },
   "outputs": [
    {
     "data": {
      "text/plain": [
       "'Ceres Solver Report: Iterations: 4, Initial cost: 1.572216e+01, Final cost: 9.307648e-27, Termination: CONVERGENCE'"
      ]
     },
     "execution_count": 6,
     "metadata": {},
     "output_type": "execute_result"
    }
   ],
   "source": [
    "rtbe = rigid_body_motion_estimation.RotorTranslationVectorBivectorGeneratorEstimation()\n",
    "b0 = np.array([1.0, 0.0, 0.0]).reshape(3,1)\n",
    "t00 = np.array([-1.0, 0.0, 0.0]).reshape(3,1)\n",
    "rt1 = rtbe.run(b0, t00, points_a, points_b_noisy)\n",
    "rtbe.summary()['brief_report']"
   ]
  },
  {
   "cell_type": "code",
   "execution_count": 7,
   "metadata": {
    "collapsed": false
   },
   "outputs": [
    {
     "data": {
      "text/plain": [
       "'Ceres Solver Report: Iterations: 5, Initial cost: 7.293173e+00, Final cost: 2.610735e-24, Termination: CONVERGENCE'"
      ]
     },
     "execution_count": 7,
     "metadata": {},
     "output_type": "execute_result"
    }
   ],
   "source": [
    "rte = rigid_body_motion_estimation.RotorTranslationVectorEstimation()\n",
    "r0 = np.array([1.0, 0.0, 0.0, 0.0]).reshape(4,1)\n",
    "t01 = np.array([-1.0, 0.0, 0.0]).reshape(3,1)\n",
    "rt2 = rte.run(r0, t01, points_a, points_b_noisy)\n",
    "rte.summary()['brief_report']"
   ]
  },
  {
   "cell_type": "code",
   "execution_count": 8,
   "metadata": {
    "collapsed": false
   },
   "outputs": [
    {
     "data": {
      "image/png": "[encoded data removed]",
      "text/plain": [
       "<matplotlib.figure.Figure at 0x7fb1ee0c8290>"
      ]
     },
     "metadata": {},
     "output_type": "display_data"
    }
   ],
   "source": [
    "iterations_rtbe = rtbe.summary()['iterations']\n",
    "iterations_rte = rte.summary()['iterations']\n",
    "plt.plot([iteration['gradient_max_norm'] for iteration in iterations_rte], label='full rotor')\n",
    "plt.plot([iteration['gradient_max_norm'] for iteration in iterations_rtbe], label='bivector generator')\n",
    "plt.legend()\n",
    "plt.xticks([iteration['iteration'] for iteration in max(iterations_rte, iterations_rtbe)])\n",
    "plt.xlabel('iteration')\n",
    "plt.ylabel('gradient max norm')\n",
    "plt.show()"
   ]
  },
  {
   "cell_type": "code",
   "execution_count": 9,
   "metadata": {
    "collapsed": false
   },
   "outputs": [
    {
     "data": {
      "text/plain": [
       "array([[ 0.70710678],\n",
       "       [-0.70710678],\n",
       "       [-0.        ],\n",
       "       [ 0.        ],\n",
       "       [ 0.        ],\n",
       "       [ 1.        ],\n",
       "       [ 0.        ]])"
      ]
     },
     "execution_count": 9,
     "metadata": {},
     "output_type": "execute_result"
    }
   ],
   "source": [
    "rt1"
   ]
  },
  {
   "cell_type": "code",
   "execution_count": 10,
   "metadata": {
    "collapsed": false
   },
   "outputs": [
    {
     "data": {
      "text/plain": [
       "array([[ 0.70710678],\n",
       "       [-0.70710678],\n",
       "       [-0.        ],\n",
       "       [ 0.        ],\n",
       "       [ 0.        ],\n",
       "       [ 1.        ],\n",
       "       [ 0.        ]])"
      ]
     },
     "execution_count": 10,
     "metadata": {},
     "output_type": "execute_result"
    }
   ],
   "source": [
    "rt2"
   ]
  },
  {
   "cell_type": "code",
   "execution_count": 11,
   "metadata": {
    "collapsed": false
   },
   "outputs": [
    {
     "data": {
      "text/plain": [
       "'Ceres Solver Report: Iterations: 5, Initial cost: 1.406723e+01, Final cost: 3.295311e-20, Termination: CONVERGENCE'"
      ]
     },
     "execution_count": 11,
     "metadata": {},
     "output_type": "execute_result"
    }
   ],
   "source": [
    "gre = rigid_body_motion_estimation.GeneralRotorEstimation()\n",
    "gr = np.array([1.0, 0.0, 0.0, 0.0, 0.0, 0.0, 0.0]).reshape(7,1)\n",
    "gre_rt = gre.run(gr, points_a, points_b_noisy)\n",
    "gre.summary()['brief_report']"
   ]
  },
  {
   "cell_type": "code",
   "execution_count": 12,
   "metadata": {
    "collapsed": false
   },
   "outputs": [
    {
     "data": {
      "text/plain": [
       "array([[ 0.70710678],\n",
       "       [-0.70710678],\n",
       "       [ 0.        ],\n",
       "       [ 0.        ],\n",
       "       [-0.35355339],\n",
       "       [-0.35355339],\n",
       "       [-0.        ]])"
      ]
     },
     "execution_count": 12,
     "metadata": {},
     "output_type": "execute_result"
    }
   ],
   "source": [
    "gre_rt"
   ]
  },
  {
   "cell_type": "code",
   "execution_count": 13,
   "metadata": {
    "collapsed": false
   },
   "outputs": [
    {
     "data": {
      "image/png": "[encoded data removed]",
      "text/plain": [
       "<matplotlib.figure.Figure at 0x7fb1eddd2210>"
      ]
     },
     "metadata": {},
     "output_type": "display_data"
    }
   ],
   "source": [
    "iterations = gre.summary()['iterations']\n",
    "plt.plot([iteration['gradient_max_norm'] for iteration in iterations], label='general rotor')\n",
    "plt.legend()\n",
    "plt.xticks([iteration['iteration'] for iteration in iterations])\n",
    "plt.xlabel('iteration')\n",
    "plt.ylabel('gradient max norm')\n",
    "plt.show()"
   ]
  },
  {
   "cell_type": "code",
   "execution_count": 14,
   "metadata": {
    "collapsed": false
   },
   "outputs": [
    {
     "data": {
      "text/plain": [
       "array([[ 0.5],\n",
       "       [ 0.5],\n",
       "       [ 0. ]])"
      ]
     },
     "execution_count": 14,
     "metadata": {},
     "output_type": "execute_result"
    }
   ],
   "source": [
    "def extract_screw_axis(motor):\n",
    "    sp = np.sin(np.arccos(motor[0]))\n",
    "    r = motor[:4]\n",
    "    t = motor[4:] / -sp\n",
    "    return r,t\n",
    "\n",
    "r,t = extract_screw_axis(gre_rt)\n",
    "t"
   ]
  },
  {
   "cell_type": "code",
   "execution_count": 15,
   "metadata": {
    "collapsed": true
   },
   "outputs": [],
   "source": [
    "# R = X(1:3,1:3);\n",
    "# t = X(1:3,4);\n",
    "# [n, phi] = RotMat2AxisAngle(R);\n",
    "\n",
    "# B23 =  n(1);\n",
    "# B13 = -n(2);\n",
    "# B12 =  n(3);\n",
    "\n",
    "# cp = cos(phi/2);\n",
    "# sp = sin(phi/2);\n",
    "# t1 = t(1) / 2;\n",
    "# t2 = t(2) / 2;\n",
    "# t3 = t(3) / 2;\n",
    "\n",
    "# M = [ cp, ...\n",
    "#      -B12 * sp, ...\n",
    "#      -B13 * sp, ...\n",
    "#      -B23 * sp, ...\n",
    "#      -t1 * cp + (-B12 * t2 - B13 * t3) * sp, ...\n",
    "#      -t2 * cp + ( B12 * t1 - B23 * t3) * sp, ...\n",
    "#      -t3 * cp + (-B13 * t1 + B23 * t2) * sp, ...\n",
    "#       (B12 * t3 - B13 * t2 + B23 * t1) * sp];"
   ]
  },
  {
   "cell_type": "code",
   "execution_count": 16,
   "metadata": {
    "collapsed": true
   },
   "outputs": [],
   "source": [
    "# M = [0.739516,0.406033,-0.284237,-0.455481,9.03902,16.5613,-18.74,-9.39839]\n",
    "# theta_half = acos(M(1));\n",
    "\n",
    "# A = [-M(1)  M(2)  M(3);...\n",
    "#      -M(2) -M(1)  M(4); ...\n",
    "#      -M(3) -M(4) -M(1)];\n",
    "  \n",
    "# b = [M(5) M(6) M(7)]';\n",
    "\n",
    "# t = (0.5 * eye(3) * A) \\ b;\n"
   ]
  },
  {
   "cell_type": "code",
   "execution_count": 17,
   "metadata": {
    "collapsed": false
   },
   "outputs": [
    {
     "name": "stdout",
     "output_type": "stream",
     "text": [
      "[[-0.35355339  0.70710678  0.        ]\n",
      " [-0.70710678 -0.35355339 -0.        ]\n",
      " [-0.          0.         -0.35355339]]\n"
     ]
    },
    {
     "data": {
      "text/plain": [
       "array([[ 0.6],\n",
       "       [-0.2],\n",
       "       [ 0. ]])"
      ]
     },
     "execution_count": 17,
     "metadata": {},
     "output_type": "execute_result"
    }
   ],
   "source": [
    "m = gr\n",
    "a = -0.5 * m[0] * np.eye(3) + \\\n",
    "np.array([0.0, -m[1], m[2], \n",
    "          m[1], 0.0, -m[3],\n",
    "         -m[2], m[3], 0.0]).reshape(3,3)\n",
    "\n",
    "b = np.array([m[4], m[5], m[6]]).reshape(3,1)\n",
    "print a\n",
    "np.linalg.solve(a,b)"
   ]
  },
  {
   "cell_type": "code",
   "execution_count": 18,
   "metadata": {
    "collapsed": false
   },
   "outputs": [
    {
     "data": {
      "text/plain": [
       "array([ 0.70710678, -0.70710678,  0.        ,  0.        , -0.35355339,\n",
       "       -0.35355339, -0.        ])"
      ]
     },
     "execution_count": 18,
     "metadata": {},
     "output_type": "execute_result"
    }
   ],
   "source": [
    "gr.ravel(0)"
   ]
  },
  {
   "cell_type": "code",
   "execution_count": null,
   "metadata": {
    "collapsed": true
   },
   "outputs": [],
   "source": []
  },
  {
   "cell_type": "code",
   "execution_count": null,
   "metadata": {
    "collapsed": true
   },
   "outputs": [],
   "source": []
  },
  {
   "cell_type": "code",
   "execution_count": null,
   "metadata": {
    "collapsed": true
   },
   "outputs": [],
   "source": []
  },
  {
   "cell_type": "code",
   "execution_count": null,
   "metadata": {
    "collapsed": true
   },
   "outputs": [],
   "source": []
  },
  {
   "cell_type": "code",
   "execution_count": null,
   "metadata": {
    "collapsed": true
   },
   "outputs": [],
   "source": []
  },
  {
   "cell_type": "code",
   "execution_count": null,
   "metadata": {
    "collapsed": true
   },
   "outputs": [],
   "source": []
  }
 ],
 "metadata": {
  "kernelspec": {
   "display_name": "Python 2",
   "language": "python",
   "name": "python2"
  },
  "language_info": {
   "codemirror_mode": {
    "name": "ipython",
    "version": 2
   },
   "file_extension": ".py",
   "mimetype": "text/x-python",
   "name": "python",
   "nbconvert_exporter": "python",
   "pygments_lexer": "ipython2",
   "version": "2.7.6"
  }
 },
 "nbformat": 4,
 "nbformat_minor": 0
}
