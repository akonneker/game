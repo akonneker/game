{
 "cells": [
  {
   "cell_type": "code",
   "execution_count": null,
   "metadata": {
    "collapsed": false,
    "scrolled": true
   },
   "outputs": [],
   "source": [
    "%pylab"
   ]
  },
  {
   "cell_type": "code",
   "execution_count": null,
   "metadata": {
    "collapsed": false,
    "scrolled": true
   },
   "outputs": [],
   "source": [
    "def sphere(x):\n",
    "    return np.inner(x,x)"
   ]
  },
  {
   "cell_type": "code",
   "execution_count": null,
   "metadata": {
    "collapsed": false
   },
   "outputs": [],
   "source": [
    "class ArtificialBeeColonyAlgorithm(object):\n",
    "    def __init__(self, \n",
    "                 objective_function, \n",
    "                 dimension, \n",
    "                 upper_bounds,\n",
    "                 lower_bounds,\n",
    "                 population_size, \n",
    "                 max_trial_limit, \n",
    "                 max_num_iterations,\n",
    "                 debug=False):\n",
    "        self._objective_function = objective_function\n",
    "        self._dimension = dimension\n",
    "        self._lower_bounds = lower_bounds\n",
    "        self._upper_bounds = upper_bounds\n",
    "        self._population_size = population_size\n",
    "        self._food_size = self._population_size / 2\n",
    "        self._max_trial_limit = max_trial_limit\n",
    "        self._max_num_iterations = max_num_iterations\n",
    "        \n",
    "        self._foods = self._create_food(self._food_size)\n",
    "        self._past_foods = []\n",
    "        \n",
    "        self._objective_values = self._calculate_objective_values(self._foods)\n",
    "        self._fitness_values = self._calculate_fitness_values(self._objective_values)\n",
    "        \n",
    "        self._trials = np.zeros(self._food_size)\n",
    "        \n",
    "        self._best_index = np.argmin(self._objective_values)\n",
    "        self._global_min_objective_value = self._objective_values[self._best_index]\n",
    "        self._global_min_objective_values = [self._global_min_objective_value]\n",
    "        self._global_best_food = self._foods[self._best_index,:]\n",
    "        \n",
    "        self._debug = debug\n",
    "    \n",
    "    def _create_food(self, size):\n",
    "        food = np.random.random((size, dim)) *\\\n",
    "                np.tile(upper_bounds - lower_bounds, (size,1)) +\\\n",
    "                np.tile(lower_bounds, (size,1))\n",
    "        return food\n",
    "    \n",
    "    def _calculate_objective_values(self, foods):\n",
    "        return np.array([self._objective_function(solution) for solution in foods])\n",
    "    \n",
    "    def _calculate_fitness_values(self, objective_values):\n",
    "        return np.array([1. / (objective_value + 1.) \n",
    "                         if objective_value >= 0. \n",
    "                         else 1. + np.abs(objective_value) \n",
    "                         for objective_value in objective_values])\n",
    "    def _evaluate(self, i):\n",
    "            j = np.random.random_integers(self._dimension) - 1\n",
    "            k = np.random.random_integers(self._food_size) - 1\n",
    "            while k == i:\n",
    "                k = np.random.random_integers(self._food_size) - 1\n",
    "\n",
    "            v_i = self._foods[i,:].copy()\n",
    "            x_ij = self._foods[i,j]\n",
    "            x_kj = self._foods[k,j]\n",
    "            phi_ij = 2 * (np.random.rand() - 0.5)\n",
    "            v_i[j] = x_ij + phi_ij * (x_ij - x_kj)\n",
    "\n",
    "            # Check if parameter is outside bounds. If so set it to the \n",
    "            # limit.\n",
    "            v_i = np.where(v_i < upper_bounds, v_i, upper_bounds).copy()\n",
    "            v_i = np.where(v_i > lower_bounds, v_i, lower_bounds).copy()\n",
    "\n",
    "            objective_value = self._calculate_objective_values([v_i])\n",
    "            fitness_value = self._calculate_fitness_values(objective_value)\n",
    "\n",
    "            if fitness_value > self._fitness_values[i]:\n",
    "                self._foods[i,:] = v_i.copy()\n",
    "                self._fitness_values[i] = fitness_value.copy()\n",
    "                self._objective_values[i] = objective_value.copy()\n",
    "                self._trials[i] = 0\n",
    "            else:\n",
    "                self._trials[i] = self._trials[i] + 1\n",
    "        \n",
    "    def _calculate_probabilities(self, fitness_values):\n",
    "        '''p_i = fit_i / sum_i^n fit_i'''\n",
    "        prob = fitness_values / np.sum(fitness_values)\n",
    "#         prob = (0.9 * fitness_values / max(fitness_values)) + 0.1\n",
    "        return prob\n",
    "    \n",
    "    def solve(self):\n",
    "        for iteration in range(self._max_num_iterations):\n",
    "            # Employed bee phase\n",
    "            for i in range(self._food_size):\n",
    "                self._evaluate(i)\n",
    "\n",
    "            # Calculate probabilities. \n",
    "            # p_i = fit_i / sum_i^n fit_i\n",
    "            probabilities = self._calculate_probabilities(self._fitness_values)\n",
    "\n",
    "            # Onloooker bee phase\n",
    "            i = 0\n",
    "            t = 0\n",
    "            while t < self._food_size:\n",
    "                do_forage = np.random.rand() < probabilities[i]\n",
    "                if do_forage:\n",
    "                    t = t + 1\n",
    "                    self._evaluate(i)\n",
    "                i = i + 1\n",
    "                if i == self._food_size:\n",
    "                    i = 0\n",
    "\n",
    "            # Update best solution\n",
    "            best_index = np.argmin(self._objective_values)\n",
    "            objective_value = self._objective_values[best_index]\n",
    "            if objective_value < self._global_min_objective_value:\n",
    "                self._best_index = best_index\n",
    "                self._global_min_objective_value = objective_value\n",
    "                self._global_best_food = self._foods[best_index,:]\n",
    "\n",
    "            # Scout bee phase\n",
    "            max_trial_idx = np.argmax(self._trials)\n",
    "            max_trial = self._trials[max_trial_idx]\n",
    "            if max_trial > self._max_trial_limit:\n",
    "                self._trials[max_trial_idx] = 0\n",
    "                v_i = self._create_food(1)\n",
    "                objective_value = self._calculate_objective_values([v_i])\n",
    "                fitness_value = self._calculate_fitness_values(objective_value)\n",
    "                self._foods[max_trial_idx, :] = v_i.copy()\n",
    "                self._fitness_values[max_trial_idx] = fitness_value.copy()\n",
    "                self._objective_values[max_trial_idx] = objective_value\n",
    "\n",
    "            self._past_foods.append(self._foods.copy())\n",
    "            self._global_min_objective_values.append(self._global_min_objective_value)\n",
    "            if self._debug:\n",
    "                if not iteration % 50:\n",
    "                    \n",
    "                    print('Iteration: {}, f(x_i)_min: {}, i: {}'.format(iteration, \n",
    "                                                                        self._global_min_objective_value, \n",
    "                                                                        self._best_index))\n",
    "        return self._global_best_food\n",
    "    \n",
    "    def plot(self):\n",
    "        plt.plot(self._global_min_objective_values)\n",
    "        plt.xscale('log')"
   ]
  },
  {
   "cell_type": "code",
   "execution_count": null,
   "metadata": {
    "collapsed": true
   },
   "outputs": [],
   "source": [
    "population_size = 20\n",
    "food_size = population_size / 2\n",
    "max_trial_limit = 100\n",
    "max_num_iterations = 2000\n",
    "obj_function = sphere\n",
    "dim = 2\n",
    "upper_bounds = np.ones((1,dim)) * 100\n",
    "lower_bounds = np.ones((1,dim)) * -100"
   ]
  },
  {
   "cell_type": "code",
   "execution_count": null,
   "metadata": {
    "collapsed": false
   },
   "outputs": [],
   "source": [
    "abc = ArtificialBeeColonyAlgorithm(obj_function, dim, \n",
    "                                   upper_bounds, lower_bounds, \n",
    "                                   population_size, max_trial_limit, \n",
    "                                   max_num_iterations, debug=False)\n",
    "abc.solve()"
   ]
  },
  {
   "cell_type": "code",
   "execution_count": null,
   "metadata": {
    "collapsed": false
   },
   "outputs": [],
   "source": [
    "abc.plot()"
   ]
  },
  {
   "cell_type": "code",
   "execution_count": null,
   "metadata": {
    "collapsed": true
   },
   "outputs": [],
   "source": []
  },
  {
   "cell_type": "code",
   "execution_count": null,
   "metadata": {
    "collapsed": false
   },
   "outputs": [],
   "source": [
    "import matplotlib.animation as animation\n",
    "\n",
    "fig = plt.figure()\n",
    "plt.clf()\n",
    "colors = np.random.random((food_size, 3))\n",
    "scat = plt.scatter(abc._past_foods[0][:,0], abc._past_foods[0][:,1], c=colors)\n",
    "\n",
    "\n",
    "def update_plot(i, data, scat):\n",
    "    data = abc._past_foods[i]\n",
    "    scat.set_offsets(data)\n",
    "    return scat,\n",
    "\n",
    "ani = animation.FuncAnimation(fig,\n",
    "                              update_plot, frames=xrange(max_num_iterations),\n",
    "                                  fargs=([], scat),interval=100, blit=False)\n",
    "plt.show()"
   ]
  },
  {
   "cell_type": "code",
   "execution_count": null,
   "metadata": {
    "collapsed": false
   },
   "outputs": [],
   "source": [
    "color_data.shape"
   ]
  },
  {
   "cell_type": "code",
   "execution_count": null,
   "metadata": {
    "collapsed": false
   },
   "outputs": [],
   "source": [
    "i = 100\n",
    "scat = plt.scatter(abc._past_foods[i][:,0], abc._past_foods[i][:,1])"
   ]
  },
  {
   "cell_type": "code",
   "execution_count": null,
   "metadata": {
    "collapsed": false
   },
   "outputs": [],
   "source": [
    "np.array(abc._past_foods)"
   ]
  },
  {
   "cell_type": "code",
   "execution_count": null,
   "metadata": {
    "collapsed": true
   },
   "outputs": [],
   "source": []
  }
 ],
 "metadata": {
  "kernelspec": {
   "display_name": "Python 2",
   "language": "python",
   "name": "python2"
  },
  "language_info": {
   "codemirror_mode": {
    "name": "ipython",
    "version": 2
   },
   "file_extension": ".py",
   "mimetype": "text/x-python",
   "name": "python",
   "nbconvert_exporter": "python",
   "pygments_lexer": "ipython2",
   "version": "2.7.10"
  }
 },
 "nbformat": 4,
 "nbformat_minor": 0
}
