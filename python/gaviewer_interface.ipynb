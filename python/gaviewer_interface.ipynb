{
 "cells": [
  {
   "cell_type": "code",
   "execution_count": 1,
   "metadata": {
    "collapsed": false
   },
   "outputs": [
    {
     "name": "stdout",
     "output_type": "stream",
     "text": [
      "Populating the interactive namespace from numpy and matplotlib\n"
     ]
    }
   ],
   "source": [
    "import socket\n",
    "%pylab inline"
   ]
  },
  {
   "cell_type": "code",
   "execution_count": 62,
   "metadata": {
    "collapsed": false
   },
   "outputs": [],
   "source": [
    "class GAViewerClient(object):\n",
    "    def __init__(self, host, port):\n",
    "        self._host = host\n",
    "        self._port = port\n",
    "        self._socket = socket.socket(socket.AF_INET, socket.SOCK_STREAM)\n",
    "        self._socket.connect((self._host, self._port))\n",
    "        self._state = self._socket.recv(1024)\n",
    "        \n",
    "    def show_multivector(self, multivector, name='ans', color='red', versor=False,\n",
    "                         stipple=False, wireframe=False, outline=False,\n",
    "                         weight=True, orientation=False):\n",
    "        ret = multivector\n",
    "        \n",
    "        if versor:\n",
    "            ret = 'versor({})'.format(ret)\n",
    "        if stipple:\n",
    "            ret = 'stipple({})'.format(ret)\n",
    "        if wireframe:\n",
    "            ret = 'wireframe({})'.format(ret)\n",
    "        if outline:\n",
    "            ret = 'outline({})'.format(ret)\n",
    "        if not weight:\n",
    "            ret = 'no_weight({})'.format(ret)\n",
    "        elif weight:\n",
    "            ret = 'weight({})'.format(ret)\n",
    "        if not orientation:\n",
    "            ret = 'no_ori({})'.format(ret)\n",
    "        elif orientation:\n",
    "            ret = 'ori({})'.format(ret)\n",
    "            \n",
    "        if type(color) == str:\n",
    "            ret = '{color}({ret})'.format(color=color, ret=ret)\n",
    "        elif type(color) == tuple:\n",
    "            ret = 'color({ret}, {r}, {g}, {b})'.format(ret=ret, r=color[0], g=color[1], b=color[2])\n",
    "        \n",
    "        ret = '{name} = '.format(name=name) + ret\n",
    "                \n",
    "        return self._send(ret)\n",
    "    \n",
    "    def reset(self):\n",
    "        self.evaluate('reset()')\n",
    "            \n",
    "    def evaluate(self, expression):\n",
    "        return self._send(expression, '')\n",
    "\n",
    "    def vector(self, vector):\n",
    "        return '({} e1 + {} e2 + {} e3)'.format(*vector)\n",
    "    \n",
    "    def bivector(self, bivector):\n",
    "        return '({} e1^e2 + {} e1^e3 + {} e2^e3)'.format(*bivector)\n",
    "    \n",
    "    def point(self, point):\n",
    "        return 'c3ga_point({},{},{})'.format(*point)\n",
    "        \n",
    "    def rotor(self, rotor):\n",
    "        return '({} + {} e1^e2 + {} e1^e3 + {} e2^e3)'.format(*rotor)\n",
    "    \n",
    "    def translator(self, translator):\n",
    "        return '(1 - 0.5 ({} e1^ni + {} e2^ni + {} e3^ni))'.format(*translator)\n",
    "    \n",
    "    def general_rotor(self, general_rotor):\n",
    "        return '({} + {} e1^e2 + {} e1^e3 + {} e2^e3 + {} e1^ni + {} e2^ni + {} e3^ni)'.format(*general_rotor)\n",
    "        \n",
    "    def _send(self, data, terminator=','):\n",
    "        self._socket.send('{data}{terminator}$'.format(data=data, terminator=terminator))"
   ]
  },
  {
   "cell_type": "code",
   "execution_count": 63,
   "metadata": {
    "collapsed": false
   },
   "outputs": [],
   "source": [
    "gavcl = GAViewerClient('localhost', 6882)"
   ]
  },
  {
   "cell_type": "code",
   "execution_count": 75,
   "metadata": {
    "collapsed": false
   },
   "outputs": [],
   "source": [
    "gr = gavcl.general_rotor([1.,0.0,0.0,0.0,0.0,0.0,0.0,3.0])\n",
    "gavcl.show_multivector(gr, 'G', versor=True)\n",
    "gavcl.show_multivector(gavcl.point([1.,0.,0.]), 'p')\n",
    "gavcl.evaluate('b = vp(G, p),')"
   ]
  },
  {
   "cell_type": "code",
   "execution_count": 47,
   "metadata": {
    "collapsed": false
   },
   "outputs": [],
   "source": [
    "program = [\n",
    "    'batch init();',\n",
    "    'batch vtrail();',\n",
    "    'set_window_title(\"Chasles\\'s screw\");',\n",
    "    'init(0);',\n",
    "    'campos(20 e3)',\n",
    "    'set_line_width(4);'\n",
    "    'ctrl_range(phi, 0, pi, 0.01);',\n",
    "    'phi = 0.7;',\n",
    "    'dynamic{R: R = exp(e1^e2 phi/2),};',\n",
    "    'dynamic{I: I=grade(R,2); I=I/norm(I);};',\n",
    "    'tvec = e1+e2- e3,',\n",
    "    'dynamic{t: t= c3ga_point(tvec);};',\n",
    "    'dynamic{w: w = (tvec^I)/I,}; label(w,\"\\eqn{\\bold{w}}\");',\n",
    "    'dynamic{v: v = 1/(1-R R)  (tvec.I)/I,}; label(v,\"\\eqn{\\bold{v}}\");',\n",
    "    'dynamic{orgV: orgV = tv(tvec) R, };',\n",
    "    'dynamic{simV: simV = tv(w) vp(tv(v),R),};',\n",
    "    'A = vp(tv(2 e3),no^e2^e3);',\n",
    "    'dynamic{tanB: tanB= color(vp(tv(v), no^I),1,1,0,0.9),};',\n",
    "    'dynamic{simtrail: vtrail(simV,A),};',\n",
    "    'dynamic{orgtrail: vtrail(orgV,A),};',\n",
    "    'dynamic{lineaxis: lineaxis = black(vp(tv(v),no^w^ni)),};',\n",
    "    'dynamic{RvR: RvR =alpha(R v /R, 0.2),}; label(RvR, \"\\eqn{R \\bold{v}/R\");',\n",
    "    'dynamic{vR: vR =dm2(c3ga_point(v)^c3ga_point(RvR)),};',\n",
    "    'dynamic{wR: wR =dm2(c3ga_point(t)^c3ga_point(w)),};',\n",
    "    'dynamic{wt: wt= alpha(dm3(factored_bivector(w,(t-w))),0.3),};',\n",
    "    'dynamic{vRvR: vRvR= alpha(dm3(factored_bivector(RvR,(t-w))),0.3),};',\n",
    "    'set_point_size(0);',\n",
    "    'camori = 4.3e-001 + -4.7e-001*e2^e3 + 6.7e-001*e3^e1 + 3.5e-001*e1^e2;',\n",
    "]\n",
    "for line in program:\n",
    "    gavcl.evaluate(line)\n",
    "    \n",
    "\n",
    "\n",
    "\n",
    "\n"
   ]
  },
  {
   "cell_type": "code",
   "execution_count": 15,
   "metadata": {
    "collapsed": false
   },
   "outputs": [
    {
     "data": {
      "text/plain": [
       "'\"a\" = 1.000000000000000e+00*e1 + 1.000000000000000e+00*e2 + 1.000000000000000e+00*e3,$'"
      ]
     },
     "execution_count": 15,
     "metadata": {},
     "output_type": "execute_result"
    }
   ],
   "source": [
    "gavcl.show_multivector(gavcl.vector([1., 1., 1.]), 'a', (1.,1.,0.))"
   ]
  },
  {
   "cell_type": "code",
   "execution_count": null,
   "metadata": {
    "collapsed": false
   },
   "outputs": [],
   "source": [
    "gavcl.show_multivector(gavcl.point([1., 1., 0. ]), 'p', 'cyan')"
   ]
  },
  {
   "cell_type": "code",
   "execution_count": null,
   "metadata": {
    "collapsed": false
   },
   "outputs": [],
   "source": [
    "gavcl.evaluate('p ^ a ^ ni')\n",
    "L1 = gavcl.show_multivector('f[] ^ a ^ ni', 'L1', (1.0, 0.0, 0.0))\n",
    "print(L1)"
   ]
  },
  {
   "cell_type": "code",
   "execution_count": null,
   "metadata": {
    "collapsed": false
   },
   "outputs": [],
   "source": [
    "import time\n",
    "j = 0\n",
    "for i in np.linspace(0,np.pi):\n",
    "    p = [cos(i), sin(i), 0]\n",
    "    gavcl.show_multivector(gavcl.point(p), 'f[{}]'.format(j), 'yellow')\n",
    "    gavcl.evaluate('L[{}] = f[{}] ^ ({}) ^ ni'.format(j,j, gavcl.vector(p)))\n",
    "    j += 1\n",
    "#     time.sleep(0.01)"
   ]
  },
  {
   "cell_type": "code",
   "execution_count": null,
   "metadata": {
    "collapsed": false
   },
   "outputs": [],
   "source": [
    "gavcl.show_multivector(gavcl.rotor([cos(pi/6), -sin(pi/6), 0., 0. ]), 'R', 'red', versor=True)"
   ]
  },
  {
   "cell_type": "code",
   "execution_count": null,
   "metadata": {
    "collapsed": false
   },
   "outputs": [],
   "source": [
    "_ = gavcl.show_multivector(gavcl.translator([1.,0.,0.]) + ' ' + gavcl.rotor([cos(pi/6), -sin(pi/6), 0., 0. ]), 'M', 'red', versor=True)"
   ]
  },
  {
   "cell_type": "code",
   "execution_count": null,
   "metadata": {
    "collapsed": false
   },
   "outputs": [],
   "source": [
    "gavcl.reset()"
   ]
  }
 ],
 "metadata": {
  "kernelspec": {
   "display_name": "Python 2",
   "language": "python",
   "name": "python2"
  },
  "language_info": {
   "codemirror_mode": {
    "name": "ipython",
    "version": 2
   },
   "file_extension": ".py",
   "mimetype": "text/x-python",
   "name": "python",
   "nbconvert_exporter": "python",
   "pygments_lexer": "ipython2",
   "version": "2.7.6"
  }
 },
 "nbformat": 4,
 "nbformat_minor": 0
}
