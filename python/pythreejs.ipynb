{
 "cells": [
  {
   "cell_type": "code",
   "execution_count": 1,
   "metadata": {
    "collapsed": true
   },
   "outputs": [],
   "source": [
    "from __future__ import print_function"
   ]
  },
  {
   "cell_type": "code",
   "execution_count": 2,
   "metadata": {
    "collapsed": true
   },
   "outputs": [],
   "source": [
    "import sys\n",
    "sys.path.append('../build/')"
   ]
  },
  {
   "cell_type": "code",
   "execution_count": 3,
   "metadata": {
    "collapsed": true
   },
   "outputs": [],
   "source": [
    "import time\n",
    "import copy"
   ]
  },
  {
   "cell_type": "code",
   "execution_count": 4,
   "metadata": {
    "collapsed": false
   },
   "outputs": [
    {
     "name": "stdout",
     "output_type": "stream",
     "text": [
      "Populating the interactive namespace from numpy and matplotlib\n"
     ]
    },
    {
     "name": "stderr",
     "output_type": "stream",
     "text": [
      "WARNING: pylab import has clobbered these variables: ['copy']\n",
      "`%matplotlib` prevents importing * from pylab and numpy\n"
     ]
    }
   ],
   "source": [
    "%pylab inline\n",
    "np.set_printoptions(precision=4, suppress=True)"
   ]
  },
  {
   "cell_type": "code",
   "execution_count": 5,
   "metadata": {
    "collapsed": true
   },
   "outputs": [],
   "source": [
    "import versor as vsr"
   ]
  },
  {
   "cell_type": "code",
   "execution_count": 6,
   "metadata": {
    "collapsed": true
   },
   "outputs": [],
   "source": [
    "from pythreejs import *\n",
    "from pythreejs import Color as Color2\n",
    "import pythreejs\n",
    "import numpy as np\n",
    "from IPython.display import display\n",
    "from ipywidgets import HTML, Text, interact\n",
    "from traitlets import link, dlink"
   ]
  },
  {
   "cell_type": "code",
   "execution_count": 7,
   "metadata": {
    "collapsed": false
   },
   "outputs": [
    {
     "name": "stdout",
     "output_type": "stream",
     "text": [
      "Mot: [ 0.87 0 -0.5 0 -0.68 -0.43 -0.18 -0.25 ]\n"
     ]
    }
   ],
   "source": [
    "motor0 = vsr.Mot(1,0,0,0,0,0,0,0)\n",
    "motor1 = vsr.Vec(1,1,1).trs() * vsr.Rot(vsr.Biv(0,1,0) * np.pi/6.0)\n",
    "print(motor1)"
   ]
  },
  {
   "cell_type": "code",
   "execution_count": null,
   "metadata": {
    "collapsed": false
   },
   "outputs": [],
   "source": []
  },
  {
   "cell_type": "code",
   "execution_count": 8,
   "metadata": {
    "collapsed": false
   },
   "outputs": [],
   "source": [
    "def show_line(line, color):\n",
    "    v = np.array(l.loc(vsr.Vec(0,0,0).null()))[:3]\n",
    "    d = np.array(l.dir())\n",
    "    linesgeom = PlainGeometry(vertices=[(v + d).tolist(), (v - d).tolist()],\n",
    "                                        colors = [color, color])\n",
    "    return Line(geometry=linesgeom, \n",
    "                material=LineBasicMaterial(linewidth=2, vertexColors='VertexColors'), \n",
    "                type='LinePieces')"
   ]
  },
  {
   "cell_type": "code",
   "execution_count": 9,
   "metadata": {
    "collapsed": false
   },
   "outputs": [
    {
     "data": {
      "text/plain": [
       "100"
      ]
     },
     "metadata": {},
     "output_type": "display_data"
    },
    {
     "data": {
      "text/plain": [
       "<function __main__.<lambda>>"
      ]
     },
     "execution_count": 9,
     "metadata": {},
     "output_type": "execute_result"
    }
   ],
   "source": [
    "interact(lambda x: x**2, x=10)"
   ]
  },
  {
   "cell_type": "code",
   "execution_count": 10,
   "metadata": {
    "collapsed": false
   },
   "outputs": [],
   "source": [
    "text.position = [1, 0, 0]\n",
    "text.scale = [0.1, 0.1, 0.1]"
   ]
  },
  {
   "cell_type": "code",
   "execution_count": 11,
   "metadata": {
    "collapsed": false
   },
   "outputs": [],
   "source": [
    "def motor_ratio(a,b,n):\n",
    "    return ((b * a.inv()).log() * (1. / n)).exp()"
   ]
  },
  {
   "cell_type": "code",
   "execution_count": 12,
   "metadata": {
    "collapsed": true
   },
   "outputs": [],
   "source": [
    "from motor_estimation import MotorEstimationSolver"
   ]
  },
  {
   "cell_type": "code",
   "execution_count": 13,
   "metadata": {
    "collapsed": false
   },
   "outputs": [
    {
     "name": "stdout",
     "output_type": "stream",
     "text": [
      "Ceres Solver Report: Iterations: 6, Initial cost: 1.713940e+01, Final cost: 1.666144e-25, Termination: CONVERGENCE\n"
     ]
    }
   ],
   "source": [
    "lines_a_ = [vsr.Dll(vsr.Vec(*np.random.normal(0.0,0.8,3)),\n",
    "                   vsr.Vec(*np.random.normal(0.0,0.8,3)))\n",
    "          for i in range(3)]\n",
    "lines_b_ = [line.spin(motor1) for line in lines_a_]\n",
    "initial_motor = vsr.Mot(1.0, 0.0, 0.0, 0.0, 0.0, 0.0, 0.0, 0.0)\n",
    "mes = MotorEstimationSolver(initial_motor)\n",
    "for a, b in zip(lines_a_, lines_b_):\n",
    "    mes.add_line_correspondences_residual_block(a,b)\n",
    "#     mes.add_line_angle_distance_residual_block(a,b)\n",
    "mes.set_parameterization('BIVECTOR_GENERATOR')\n",
    "mes.linear_solver_type = \"DENSE_QR\"\n",
    "estimated_motor, lin_summary_1, motors = mes.solve()\n",
    "print(lin_summary_1['brief_report'])"
   ]
  },
  {
   "cell_type": "code",
   "execution_count": 15,
   "metadata": {
    "collapsed": false
   },
   "outputs": [],
   "source": [
    "# On windows, linewidth of the material has no effect\n",
    "size = 1\n",
    "csys = Line(geometry=PlainGeometry(vertices=[[0, 0, 0],\n",
    "                                             [size, 0, 0],\n",
    "                                             [0, 0, 0],\n",
    "                                             [0, size, 0],\n",
    "                                             [0, 0, 0],\n",
    "                                             [0, 0, size]],\n",
    "                                   colors = ['red', 'red', 'green', 'green', 'blue', 'blue']), \n",
    "            material=LineBasicMaterial(linewidth=2, vertexColors='VertexColors'), \n",
    "            type='LinePieces')\n",
    "\n",
    "\n",
    "lines_bs = [[line.spin(motor) for line in lines_a_] for motor in motors]\n",
    "lines_a = [show_line(l, 'cyan') for l in lines_a_]\n",
    "lines_b = [show_line(l, 'yellow') for l in lines_b_]\n",
    "plane = Mesh(geometry = PlaneGeometry(width=2), material=PhongMaterial(color='magenta'))\n",
    "scene = Scene(children=lines_a + lines_b +\n",
    "              [AxisHelper(),                     \n",
    "               plane,\n",
    "               DirectionalLight(color='#ccaabb', position=[0,1,1]),\n",
    "               AmbientLight(color='#cccccc')])\n",
    "\n",
    "c = PerspectiveCamera(position=[3, 3, 0])\n",
    "renderer = Renderer(camera=c, scene = scene, controls=[TrackballControls(controlling=c)],\n",
    "                    background = 'black', renderer_type='canvas')\n",
    "\n",
    "display(renderer)"
   ]
  },
  {
   "cell_type": "code",
   "execution_count": 33,
   "metadata": {
    "collapsed": false,
    "scrolled": true
   },
   "outputs": [],
   "source": [
    "m = motors[0]\n",
    "for i in range(len(motors)-1):\n",
    "    n = 50\n",
    "    m0 = motor_ratio(motors[i], motors[i+1], float(n))\n",
    "    m = motors[i]\n",
    "    \n",
    "    for i in range(n):\n",
    "        m = m * m0\n",
    "        for l in lines_a:\n",
    "            l.quaternion_from_rotation(m.matrix()[:3,:3].T.flatten().tolist())\n",
    "            l.position = m.matrix()[:3,3].tolist()\n",
    "        time.sleep(0.001)\n",
    "    time.sleep(1.)"
   ]
  },
  {
   "cell_type": "code",
   "execution_count": 16,
   "metadata": {
    "collapsed": false
   },
   "outputs": [],
   "source": [
    "x = 0.0\n",
    "def f(x):\n",
    "    plane.position = [0,0,x] \n",
    "interact(f, x=0.5)"
   ]
  },
  {
   "cell_type": "code",
   "execution_count": 34,
   "metadata": {
    "collapsed": true
   },
   "outputs": [],
   "source": [
    "n_planes = 10\n",
    "planes_a = []\n",
    "for i in range(10):\n",
    "    dir_vec = np.random.normal(0.0, 0.8, 4)\n",
    "    dir_vec = dir_vec / np.linalg.norm(dir_vec)\n",
    "    distance = np.random.normal(0.0, 0.8,1)\n",
    "    arr = dir_vec + distance\n",
    "    planes_a.append(vsr.Dlp(dir_vec[0],dir_vec[1],dir_vec[2],distance[0]))\n",
    "planes_b = [plane.spin(motor) for plane in planes_a]"
   ]
  },
  {
   "cell_type": "code",
   "execution_count": 35,
   "metadata": {
    "collapsed": false
   },
   "outputs": [],
   "source": [
    "n_points = 10\n",
    "sigma = 0.09\n",
    "points_a = [vsr.Vec(*np.random.normal(0.0, 0.8, 3)).null() \n",
    "            for i in range(n_points)]\n",
    "points_b = [point.spin(motor1) for point in points_a]\n",
    "points_b_noisy = [vsr.Vec(*(np.array(point)[:3] \n",
    "                            + sigma * np.random.randn(3))).null() \n",
    "                  for point in points_b]"
   ]
  },
  {
   "cell_type": "code",
   "execution_count": 36,
   "metadata": {
    "collapsed": false
   },
   "outputs": [],
   "source": [
    "initial_motor = vsr.Mot(1.0, 0.0, 0.0, 0.0, 0.0, 0.0, 0.0, 0.0)\n",
    "mes = MotorEstimationSolver(initial_motor)\n",
    "for a, b in zip(points_a, points_b_noisy):\n",
    "    mes.add_point_correspondences_residual_block(a,b)\n",
    "mes.set_parameterization('BIVECTOR_GENERATOR')\n",
    "mes.linear_solver_type = 'DENSE_QR'\n",
    "(estimated_motor, summary, motors) = mes.solve()"
   ]
  },
  {
   "cell_type": "code",
   "execution_count": 37,
   "metadata": {
    "collapsed": false
   },
   "outputs": [],
   "source": [
    "# size = 1\n",
    "# csys = Line(geometry=PlainGeometry(vertices=[[0, 0, 0],\n",
    "#                                              [size, 0, 0],\n",
    "#                                              [0, 0, 0],\n",
    "#                                              [0, size, 0],\n",
    "#                                              [0, 0, 0],\n",
    "#                                              [0, 0, size]],\n",
    "#                                    colors = ['red', 'red', 'green', 'green', 'blue', 'blue']), \n",
    "#             material=LineBasicMaterial(linewidth=2, vertexColors='VertexColors'), \n",
    "#             type='LinePieces')\n",
    "\n",
    "plane = Mesh(geometry = PlaneGeometry(width=2), material=PhongMaterial(color='magenta'), position=[0,0,1])\n",
    "center = Mesh(geometry=SphereGeometry(radius=0.05), material=LambertMaterial(color='hotpink'))\n",
    "circle = Mesh(geometry = RingGeometry(thetaSegments=32, innerRadius=0.5, outerRadius=0.51), material=PhongMaterial(color='magenta'))\n",
    "# _points_a = [Mesh(geometry=SphereGeometry(radius=0.05), \n",
    "#                material=LambertMaterial(color='hotpink'), \n",
    "#                position=np.array(point)[:3].tolist()) for point in \n",
    "#           [point.spin(estimated_motor) for point in points_a]]\n",
    "_points_b = [Mesh(geometry=SphereGeometry(radius=0.05), \n",
    "               material=LambertMaterial(color='#6CC417'), \n",
    "               position=np.array(point)[:3].copy().tolist()) for point in points_b]\n",
    "_points_a = [Mesh(geometry=SphereGeometry(radius=0.05), \n",
    "               material=LambertMaterial(color='hotpink'), \n",
    "               position=np.array(point)[:3].copy().tolist()) for point in points_a]\n",
    "\n",
    "axishelper = AxisHelper(size=4)\n",
    "\n",
    "# scene = Scene(children = [axishelper])\n",
    "\n",
    "scene = Scene(children =  _points_a + _points_b + [axishelper,\n",
    "               DirectionalLight(color='#ccaabb', position=[0,1,1]),\n",
    "               AmbientLight(color='#cccccc')])\n",
    "\n",
    "c = PerspectiveCamera(position=[3, 3, 0])\n",
    "renderer = Renderer(camera=c, scene = scene, controls=[TrackballControls(controlling=c)],\n",
    "                    background = '#eeeeee')\n",
    "\n",
    "display(renderer)"
   ]
  },
  {
   "cell_type": "code",
   "execution_count": 21,
   "metadata": {
    "collapsed": false
   },
   "outputs": [],
   "source": [
    "n = 120\n",
    "m0 = motor_ratio(initial_motor, estimated_motor, float(n))\n",
    "m = initial_motor\n",
    "for i in range(n):\n",
    "    m = m * m0\n",
    "    for a, b in zip(points_a, _points_a):\n",
    "        b.position = np.array(a.spin(m))[:3].tolist()\n",
    "    time.sleep(1. / 60.)"
   ]
  },
  {
   "cell_type": "code",
   "execution_count": 22,
   "metadata": {
    "collapsed": false
   },
   "outputs": [
    {
     "data": {
      "text/plain": [
       "pythreejs.pythreejs.AxisHelper"
      ]
     },
     "execution_count": 22,
     "metadata": {},
     "output_type": "execute_result"
    }
   ],
   "source": [
    "AxisHelper"
   ]
  },
  {
   "cell_type": "code",
   "execution_count": 23,
   "metadata": {
    "collapsed": false
   },
   "outputs": [
    {
     "data": {
      "text/plain": [
       "[<pythreejs.pythreejs.Mesh at 0x7f76981646d0>,\n",
       " <pythreejs.pythreejs.Mesh at 0x7f7698164910>,\n",
       " <pythreejs.pythreejs.Mesh at 0x7f7698173110>,\n",
       " <pythreejs.pythreejs.Mesh at 0x7f76981737d0>,\n",
       " <pythreejs.pythreejs.Mesh at 0x7f7698173b50>,\n",
       " <pythreejs.pythreejs.Mesh at 0x7f76981739d0>,\n",
       " <pythreejs.pythreejs.Mesh at 0x7f769817f390>,\n",
       " <pythreejs.pythreejs.Mesh at 0x7f769817f690>,\n",
       " <pythreejs.pythreejs.Mesh at 0x7f769817fa90>,\n",
       " <pythreejs.pythreejs.Mesh at 0x7f769817f890>]"
      ]
     },
     "execution_count": 23,
     "metadata": {},
     "output_type": "execute_result"
    }
   ],
   "source": [
    "_points_a"
   ]
  },
  {
   "cell_type": "code",
   "execution_count": 24,
   "metadata": {
    "collapsed": false
   },
   "outputs": [],
   "source": [
    "circle.quaternion_from_rotation(motor1.matrix()[:3,:3].T.flatten().tolist())\n",
    "circle.position = motor1.matrix()[:3,3].tolist()\n",
    "center.position = motor1.matrix()[:3,3].tolist()"
   ]
  },
  {
   "cell_type": "code",
   "execution_count": 25,
   "metadata": {
    "collapsed": false
   },
   "outputs": [
    {
     "name": "stdout",
     "output_type": "stream",
     "text": [
      "Mot: [ 0.57 0.028 -0.82 0.051 -1.3 -0.51 -0.56 -0.87 ]\n"
     ]
    }
   ],
   "source": [
    "n = 2000\n",
    "m0 = motor_ratio(initial_motor, estimated_motor, n)\n",
    "m = motors[1]\n",
    "for i in range(n):\n",
    "    m = m * m0\n",
    "print(m)\n",
    "# m = motors[1]\n",
    "# print(motors[1])\n",
    "# for i in range(n):\n",
    "#     m0 = m0 * m0\n",
    "#     print(m0)\n",
    "#     m = m * m0\n",
    "#     print(m)\n",
    "# print(motors[2])"
   ]
  },
  {
   "cell_type": "code",
   "execution_count": 26,
   "metadata": {
    "collapsed": false
   },
   "outputs": [
    {
     "data": {
      "text/plain": [
       "Mot: [ 0.86 -0.011 -0.51 0.0075 -0.71 -0.44 -0.19 -0.26 ]"
      ]
     },
     "execution_count": 26,
     "metadata": {},
     "output_type": "execute_result"
    }
   ],
   "source": [
    "motors[2]"
   ]
  },
  {
   "cell_type": "code",
   "execution_count": 27,
   "metadata": {
    "collapsed": false
   },
   "outputs": [
    {
     "name": "stdout",
     "output_type": "stream",
     "text": [
      "[Mot: [ 1 0 0 0 0 0 0 0 ], Mot: [ 0.91 0.058 -0.4 0.018 -0.5 -0.46 -0.47 -0.24 ], Mot: [ 0.86 -0.011 -0.51 0.0075 -0.71 -0.44 -0.19 -0.26 ], Mot: [ 0.86 -0.013 -0.52 0.00033 -0.69 -0.43 -0.17 -0.26 ], Mot: [ 0.86 -0.014 -0.52 0.00017 -0.69 -0.43 -0.17 -0.26 ]]\n"
     ]
    }
   ],
   "source": [
    "print(motors)"
   ]
  },
  {
   "cell_type": "code",
   "execution_count": 28,
   "metadata": {
    "collapsed": false
   },
   "outputs": [
    {
     "name": "stdout",
     "output_type": "stream",
     "text": [
      "Mot: [ 1 0 0 0 0 0 0 0 ]\n"
     ]
    }
   ],
   "source": [
    "print(motor0)"
   ]
  }
 ],
 "metadata": {
  "kernelspec": {
   "display_name": "Python 2",
   "language": "python",
   "name": "python2"
  },
  "language_info": {
   "codemirror_mode": {
    "name": "ipython",
    "version": 2
   },
   "file_extension": ".py",
   "mimetype": "text/x-python",
   "name": "python",
   "nbconvert_exporter": "python",
   "pygments_lexer": "ipython2",
   "version": "2.7.11+"
  },
  "widgets": {
   "state": {
    "05682ba0f02c4109bcc7ddad0f45d57a": {
     "views": []
    },
    "05fde5b476b5424599a4911e8a03aa7f": {
     "views": []
    },
    "0635dbd928e649fea2695a3d991e79d2": {
     "views": []
    },
    "067fed49e7d74a10b2129bf885a28d3a": {
     "views": []
    },
    "0910e1ac5c2640098adb6e3b3d882a3a": {
     "views": []
    },
    "0c8d63b3daa54a098007be425b1567e2": {
     "views": []
    },
    "0d600f7e6e494e989bfbad0104491b27": {
     "views": []
    },
    "0ea573068c544ed989282090c904e686": {
     "views": []
    },
    "10bb3fe0e9ac4379aa7ac112734a7fbc": {
     "views": []
    },
    "11e4504b44bf494ba1848bf8447b3eef": {
     "views": []
    },
    "135dac3e6e0f41a3a1f0817dd0529758": {
     "views": []
    },
    "18a45b07b90d451dbc9e5055ab7249c3": {
     "views": []
    },
    "1b1d7793cd8c4ab0a39604d131514b86": {
     "views": []
    },
    "1b64876e3d284325b3faa379aa254e01": {
     "views": [
      {
       "cell_index": 9
      }
     ]
    },
    "1fbffb8018a84235a65c776d3c0ced67": {
     "views": []
    },
    "20a18977d991469aae73b1f863748a2e": {
     "views": []
    },
    "29ff8c4a8aca41888d73aa35d5392423": {
     "views": []
    },
    "2a5adf6da4374a2da3add9ff0569f374": {
     "views": []
    },
    "2dabe774116f47e394d6867b60742bb1": {
     "views": []
    },
    "30895a76266e4704b907f2c889d95875": {
     "views": []
    },
    "34ab3369861142f1ae38e0e30e799c39": {
     "views": []
    },
    "3647d2891dff4838ab8fff832d059c9d": {
     "views": []
    },
    "481828c0bc1f4b42adb30fca78fb0a39": {
     "views": []
    },
    "481a90967c5a492b91ffaf2a694326b9": {
     "views": []
    },
    "4eee5e5c50614335be87320efebdc78f": {
     "views": []
    },
    "4f1b6709f1034af4b4fee9b07a0bb7d0": {
     "views": []
    },
    "53f3e74f0ecc4d32b7041a47044f8aa6": {
     "views": []
    },
    "5808de33f9d34ca5a42ea0c5aefd6d8b": {
     "views": []
    },
    "58d003c3878643f686490542ad38fe64": {
     "views": []
    },
    "5a3fe9c8f4d04cde9b8cf5f1c0e769a3": {
     "views": []
    },
    "5d497cda0c8d466ba7de1252e5d42d2a": {
     "views": []
    },
    "60de4d4dc173443195dedafbf2f71587": {
     "views": []
    },
    "73efa612cb194d748389a75e048da055": {
     "views": []
    },
    "7638425b572345008f965eac762bf6f6": {
     "views": []
    },
    "7724e3574bd641c0a0bf2844758cb93d": {
     "views": []
    },
    "7834603287e34e58998b884b625a69ec": {
     "views": []
    },
    "7d043ce39a2547c98714d5d21b35f0f0": {
     "views": []
    },
    "8abe2840e3934710aa3b8613cf5d989c": {
     "views": []
    },
    "9396ef3580b24573a2a4d837979cf18b": {
     "views": []
    },
    "9cf8c214ad8a4d1794e5a0b0a4830f58": {
     "views": []
    },
    "a2d30f0a09494a338eea5cd1f121d31f": {
     "views": []
    },
    "af738a35d3264afa9e071092ec95225a": {
     "views": []
    },
    "b2ed148cfd3946b68af8463e4bdb9fbc": {
     "views": []
    },
    "b8f41569430b45e6bac6a7ea6dc6cbf7": {
     "views": []
    },
    "ba5401a1192748489e75893f87b433a7": {
     "views": []
    },
    "bef089216ee64800b5da1ebe26c65c9f": {
     "views": []
    },
    "c2abdfa834af4daab669365be687682b": {
     "views": []
    },
    "c8f2970563484bf49664ce9d226602b0": {
     "views": []
    },
    "c8fb9a382ff54b54bb66e7a3a12d06ae": {
     "views": []
    },
    "c94b7230d10743939731299567154767": {
     "views": []
    },
    "cc14816ea19f46f3bde7fa3d6bfb1782": {
     "views": []
    },
    "d04c2851dd024eff8585da8477a48156": {
     "views": []
    },
    "d7bfd76c4fbf4c37b060943edbd9eeac": {
     "views": []
    },
    "de0e8e21b0d747a1aaacef6e29805cd1": {
     "views": []
    },
    "df6386b293c74e32a354e4b9d994c37a": {
     "views": []
    },
    "e199328491e344a0bb19262961a8c351": {
     "views": []
    },
    "e4f611a40ceb40be9777efeec4b12250": {
     "views": [
      {
       "cell_index": 14
      }
     ]
    },
    "e5205ace262442f69b94d03f98f2840c": {
     "views": []
    },
    "e86839a0e5d3493f8a15d38d8e3cde70": {
     "views": []
    },
    "eb22c35035904711a290a40011ab8e00": {
     "views": []
    },
    "ee02b9a30ac54cc0945a39a321577fb1": {
     "views": []
    },
    "f06109e55ff1410db552e4cdd724237b": {
     "views": []
    },
    "f4262baff70b45b88983d30f9cb08d1d": {
     "views": []
    },
    "f55d922c8c384ea38f6108d50e8d1596": {
     "views": []
    },
    "f672598a489f42189fcd168de7fa1e45": {
     "views": []
    },
    "f899ca5735674bcfb6699f05337cc5de": {
     "views": []
    },
    "fa5d77df4d834f189ec9f9c8725fd540": {
     "views": []
    }
   },
   "version": "1.1.1"
  }
 },
 "nbformat": 4,
 "nbformat_minor": 0
}
