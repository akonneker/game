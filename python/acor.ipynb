{
 "cells": [
  {
   "cell_type": "code",
   "execution_count": 1,
   "metadata": {
    "collapsed": false
   },
   "outputs": [
    {
     "name": "stdout",
     "output_type": "stream",
     "text": [
      "Populating the interactive namespace from numpy and matplotlib\n"
     ]
    }
   ],
   "source": [
    "%pylab inline"
   ]
  },
  {
   "cell_type": "code",
   "execution_count": 2,
   "metadata": {
    "collapsed": true
   },
   "outputs": [],
   "source": [
    "def sphere(x):\n",
    "    return np.inner(x,x)"
   ]
  },
  {
   "cell_type": "code",
   "execution_count": 23,
   "metadata": {
    "collapsed": true
   },
   "outputs": [],
   "source": [
    "value = sphere\n",
    "bounds = [-1,1]\n",
    "nparams = 4\n",
    "nants = None\n",
    "archive_size = None\n",
    "maxit = 2\n",
    "diverse = 0.5\n",
    "evap = 0.85\n",
    "seed = None"
   ]
  },
  {
   "cell_type": "code",
   "execution_count": 26,
   "metadata": {
    "collapsed": false
   },
   "outputs": [
    {
     "name": "stdout",
     "output_type": "stream",
     "text": [
      "2\n",
      "[-0.65597938  0.16011252  0.30239519 -0.25926863]\n",
      "1\n",
      "[ 0.22867613 -0.97668961 -0.18357236  0.29257145]\n",
      "7\n",
      "[-0.41653257  0.79952992 -0.38416859 -0.73633809]\n",
      "11\n",
      "[-0.04611468  0.0483724   0.05135982 -0.02372143]\n",
      "6\n",
      "[-0.45744365  0.62943729 -0.34876834 -0.12161928]\n",
      "14\n",
      "[-0.5826332   0.45879956 -0.24258567  0.93929653]\n",
      "6\n",
      "[-0.33013881  0.97637893  0.87152574 -0.15482468]\n",
      "14\n",
      "[ 0.2460038  -0.29898905  0.16569625  0.90588701]\n"
     ]
    }
   ],
   "source": [
    "\"\"\"\n",
    "Minimize the objective function using ACO-R.\n",
    "\n",
    "ACO-R stands for Ant Colony Optimization for Continuous Domains (Socha and\n",
    "Dorigo, 2008).\n",
    "\n",
    "Parameters:\n",
    "\n",
    "* value : function\n",
    "    Returns the value of the objective function at a given parameter vector\n",
    "* bounds : list\n",
    "    The bounds of the search space. If only two values are given, will\n",
    "    interpret as the minimum and maximum, respectively, for all parameters.\n",
    "    Alternatively, you can given a minimum and maximum for each parameter,\n",
    "    e.g., for a problem with 3 parameters you could give\n",
    "    `bounds = [min1, max1, min2, max2, min3, max3]`.\n",
    "* nparams : int\n",
    "    The number of parameters that the objective function takes.\n",
    "* nants : int\n",
    "    The number of ants to use in the search. Defaults to the number of\n",
    "    parameters.\n",
    "* archive_size : int\n",
    "    The number of solutions to keep in the solution archive. Defaults to\n",
    "    10 x nants\n",
    "* maxit : int\n",
    "    The number of iterations to run.\n",
    "* diverse : float\n",
    "    Scalar from 0 to 1, non-inclusive, that controls how much better\n",
    "    solutions are favored when constructing new ones.\n",
    "* evap : float\n",
    "    The pheromone evaporation rate (evap > 0). Controls how spread out the\n",
    "    search is.\n",
    "* seed : None or int\n",
    "    Seed for the random number generator.\n",
    "\n",
    "Yields:\n",
    "\n",
    "* estimate : 1d-array\n",
    "    The best estimate at each iteration\n",
    "\n",
    "\"\"\"\n",
    "numpy.random.seed(seed)\n",
    "# Set the defaults for number of ants and archive size\n",
    "if nants is None:\n",
    "    nants = nparams\n",
    "if archive_size is None:\n",
    "    archive_size = 10 * nants\n",
    "# Check is giving bounds for each parameter or one for all\n",
    "bounds = numpy.array(bounds)\n",
    "if bounds.size == 2:\n",
    "    low, high = bounds\n",
    "    archive = numpy.random.uniform(low, high, (archive_size, nparams))\n",
    "else:\n",
    "    archive = numpy.empty((archive_size, nparams))\n",
    "    bounds = bounds.reshape((nparams, 2))\n",
    "    for i, bound in enumerate(bounds):\n",
    "        low, high = bound\n",
    "        archive[:, i] = numpy.random.uniform(low, high, archive_size)\n",
    "# Compute the inital pheromone trail based on the objetive function value\n",
    "trail = numpy.fromiter((value(p) for p in archive), dtype=numpy.float)\n",
    "# Sort the archive\n",
    "order = numpy.argsort(trail)\n",
    "archive = [archive[i] for i in order]\n",
    "trail = trail[order].tolist()\n",
    "# The first of the archive is the best solution found\n",
    "# yield archive[0]\n",
    "# Compute the weights (probabilities) of the solutions in the archive\n",
    "amp = 1. / (diverse * archive_size * numpy.sqrt(2 * numpy.pi))\n",
    "variance = 2 * diverse ** 2 * archive_size ** 2\n",
    "weights = amp * numpy.exp(-numpy.arange(archive_size) ** 2 / variance)\n",
    "weights /= numpy.sum(weights)\n",
    "for iteration in xrange(maxit):\n",
    "    for k in xrange(nants):\n",
    "        # Sample the propabilities to produce new estimates\n",
    "        ant = numpy.empty(nparams, dtype=numpy.float)\n",
    "        # 1. Choose a pdf from the archive\n",
    "        pdf = numpy.searchsorted(\n",
    "            numpy.cumsum(weights),\n",
    "            numpy.random.uniform())\n",
    "        print(pdf)\n",
    "        for i in xrange(nparams):\n",
    "            # 2. Get the mean and stddev of the chosen pdf\n",
    "            mean = archive[pdf][i]\n",
    "            std = (evap / (archive_size - 1)) * numpy.sum(\n",
    "                abs(p[i] - archive[pdf][i]) for p in archive)\n",
    "            # 3. Sample the pdf until the samples are in bounds\n",
    "            for atempt in xrange(100):\n",
    "                ant[i] = numpy.random.normal(mean, std)\n",
    "                if bounds.size == 2:\n",
    "                    low, high = bounds\n",
    "                else:\n",
    "                    low, high = bounds[i]\n",
    "                if ant[i] >= low and ant[i] <= high:\n",
    "                    break\n",
    "        print(ant)\n",
    "        pheromone = value(ant)\n",
    "        # Place the new estimate in the archive\n",
    "        place = numpy.searchsorted(trail, pheromone)\n",
    "        if place == archive_size:\n",
    "            continue\n",
    "        trail.insert(place, pheromone)\n",
    "        trail.pop()\n",
    "        archive.insert(place, ant)\n",
    "        archive.pop()\n",
    "#     yield archive[0]"
   ]
  },
  {
   "cell_type": "code",
   "execution_count": 17,
   "metadata": {
    "collapsed": false
   },
   "outputs": [
    {
     "data": {
      "text/plain": [
       "0.24685222443595406"
      ]
     },
     "execution_count": 17,
     "metadata": {},
     "output_type": "execute_result"
    }
   ],
   "source": [
    "std"
   ]
  },
  {
   "cell_type": "code",
   "execution_count": 16,
   "metadata": {
    "collapsed": false
   },
   "outputs": [
    {
     "data": {
      "text/plain": [
       "[<matplotlib.lines.Line2D at 0x110b867d0>]"
      ]
     },
     "execution_count": 16,
     "metadata": {},
     "output_type": "execute_result"
    },
    {
     "data": {
      "image/png": "[encoded data removed]",
      "text/plain": [
       "<matplotlib.figure.Figure at 0x110ab94d0>"
      ]
     },
     "metadata": {},
     "output_type": "display_data"
    }
   ],
   "source": [
    "plot(weights)"
   ]
  },
  {
   "cell_type": "code",
   "execution_count": 14,
   "metadata": {
    "collapsed": false
   },
   "outputs": [
    {
     "data": {
      "text/plain": [
       "[0.002129257445994094,\n",
       " 0.054989829713957723,\n",
       " 0.07904577656125028,\n",
       " 0.08693356497458174,\n",
       " 0.093599372752120574,\n",
       " 0.11172465737164347,\n",
       " 0.18104632405551807,\n",
       " 0.1924930368394926,\n",
       " 0.22269324801291485,\n",
       " 0.25048922069955126,\n",
       " 0.29069452802690154,\n",
       " 0.2919404479868708,\n",
       " 0.29916911777350863,\n",
       " 0.31747444488372811,\n",
       " 0.331599810035784,\n",
       " 0.38536202760532701,\n",
       " 0.39283707758080988,\n",
       " 0.4420528887532182,\n",
       " 0.44665176466029455,\n",
       " 0.45618965436112868]"
      ]
     },
     "execution_count": 14,
     "metadata": {},
     "output_type": "execute_result"
    }
   ],
   "source": [
    "trail"
   ]
  },
  {
   "cell_type": "code",
   "execution_count": null,
   "metadata": {
    "collapsed": false
   },
   "outputs": [],
   "source": []
  },
  {
   "cell_type": "code",
   "execution_count": null,
   "metadata": {
    "collapsed": false
   },
   "outputs": [],
   "source": [
    "max_num_iterations=1000\n",
    "solver = acor(sphere, [-1,1], 2, maxit=max_num_iterations)\n",
    "iterations = 0\n",
    "residuals = []\n",
    "solutions = []\n",
    "for p in solver:\n",
    "    iterations = iterations + 1\n",
    "    residual = sphere(p)\n",
    "    residuals.append(residual)\n",
    "    solutions.append(p)\n",
    "    continue\n",
    "print(iterations)\n",
    "solutions = np.array(solutions).reshape(-1, 2)"
   ]
  },
  {
   "cell_type": "code",
   "execution_count": null,
   "metadata": {
    "collapsed": false
   },
   "outputs": [],
   "source": []
  },
  {
   "cell_type": "code",
   "execution_count": null,
   "metadata": {
    "collapsed": false
   },
   "outputs": [],
   "source": [
    "import matplotlib.animation as animation\n",
    "\n",
    "fig = plt.figure()\n",
    "plt.clf()\n",
    "scat = plt.scatter(solutions[0][0], solutions[0][1])\n",
    "plt.xlim((-1,1))\n",
    "plt.ylim((-1,1))\n",
    "\n",
    "def update_plot(i, data, scat):\n",
    "    data = solutions[i]\n",
    "    scat.set_offsets(data)\n",
    "    return scat,\n",
    "\n",
    "ani = animation.FuncAnimation(fig,\n",
    "                              update_plot, frames=xrange(max_num_iterations),\n",
    "                                  fargs=([], scat),interval=25, blit=False)\n",
    "plt.show()"
   ]
  },
  {
   "cell_type": "code",
   "execution_count": null,
   "metadata": {
    "collapsed": true
   },
   "outputs": [],
   "source": []
  },
  {
   "cell_type": "code",
   "execution_count": null,
   "metadata": {
    "collapsed": false
   },
   "outputs": [],
   "source": []
  }
 ],
 "metadata": {
  "kernelspec": {
   "display_name": "Python 2",
   "language": "python",
   "name": "python2"
  },
  "language_info": {
   "codemirror_mode": {
    "name": "ipython",
    "version": 2
   },
   "file_extension": ".py",
   "mimetype": "text/x-python",
   "name": "python",
   "nbconvert_exporter": "python",
   "pygments_lexer": "ipython2",
   "version": "2.7.10"
  }
 },
 "nbformat": 4,
 "nbformat_minor": 0
}
