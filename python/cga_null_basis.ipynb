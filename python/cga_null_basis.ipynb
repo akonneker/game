{
 "cells": [
  {
   "cell_type": "markdown",
   "metadata": {},
   "source": [
    "# Conformal motors"
   ]
  },
  {
   "cell_type": "code",
   "execution_count": 1,
   "metadata": {
    "collapsed": false
   },
   "outputs": [],
   "source": [
    "from ga import Ga, half, zero, one\n",
    "import mv\n",
    "import metric\n",
    "from printer import Format, GaLatexPrinter\n",
    "from sympy import Symbol, symbols, factor, collect, cos, sin, pi, srepr, sqrt, atan2\n",
    "import numpy as np\n",
    "Format()"
   ]
  },
  {
   "cell_type": "code",
   "execution_count": 3,
   "metadata": {
    "collapsed": false
   },
   "outputs": [],
   "source": [
    "## Set up conformal metric"
   ]
  },
  {
   "cell_type": "code",
   "execution_count": 2,
   "metadata": {
    "collapsed": false
   },
   "outputs": [],
   "source": [
    "g = '1 0 0 0 0, 0 1 0 0 0, 0 0 1 0 0, 0 0 0 0 -1, 0 0 0 -1 0'\n",
    "(_1, _2, _3, _o, _i) = coords = symbols('1,2,3,o,\\infty',real=True)\n",
    "\n",
    "c3d = Ga('e_1 e_2 e_3 n_o n_\\infty',g=g,coords=coords)\n",
    "(e1, e2, e3, no, ni) = c3d.mv()\n",
    "(r,th,phi,alpha,beta,gamma) = symbols('r theta phi alpha beta gamma',real=True)"
   ]
  },
  {
   "cell_type": "markdown",
   "metadata": {},
   "source": [
    "The inner product of eo and ei is:"
   ]
  },
  {
   "cell_type": "code",
   "execution_count": 3,
   "metadata": {
    "collapsed": false
   },
   "outputs": [
    {
     "data": {
      "text/latex": [
       "\\begin{equation*} -1 \\end{equation*}"
      ],
      "text/plain": [
       "-1"
      ]
     },
     "execution_count": 3,
     "metadata": {},
     "output_type": "execute_result"
    }
   ],
   "source": [
    "no | ni"
   ]
  },
  {
   "cell_type": "code",
   "execution_count": 4,
   "metadata": {
    "collapsed": false
   },
   "outputs": [
    {
     "data": {
      "text/latex": [
       "\\begin{equation*}  \\boldsymbol{e}_{1}\\wedge \\boldsymbol{e}_{2}\\wedge \\boldsymbol{e}_{3}\\wedge \\boldsymbol{n}_{o}\\wedge \\boldsymbol{n}_{\\infty} \\end{equation*}"
      ],
      "text/plain": [
       " \\boldsymbol{e}_{1}\\wedge \\boldsymbol{e}_{2}\\wedge \\boldsymbol{e}_{3}\\wedge \\boldsymbol{n}_{o}\\wedge \\boldsymbol{n}_{\\infty}"
      ]
     },
     "execution_count": 4,
     "metadata": {},
     "output_type": "execute_result"
    }
   ],
   "source": [
    "pseudo_scalar = e1 ^ e2 ^ e3 ^ no ^ ni\n",
    "pseudo_scalar"
   ]
  },
  {
   "cell_type": "code",
   "execution_count": 7,
   "metadata": {
    "collapsed": false
   },
   "outputs": [
    {
     "data": {
      "text/plain": [
       "{(e_2*e_3*n_o*n_\\infty, e_1*e_2*e_3): -(-e_1 + e_1^n_o^n_\\infty),\n",
       " (e_2, e_2): 1,\n",
       " (e_2, e_3): e_2^e_3,\n",
       " (e_2, n_o): e_2^n_o,\n",
       " (e_1*e_2*e_3, e_1*e_2*e_3): -1,\n",
       " (e_1*e_2, e_1*e_2*e_3): -e_3,\n",
       " (n_o, n_o): 0,\n",
       " (e_2*e_3, e_1*e_2*e_3): -e_1,\n",
       " (e_1*e_2*e_3*n_o, e_1*e_2*e_3): n_o,\n",
       " (e_3, n_\\infty): e_3^n_\\infty,\n",
       " (n_\\infty, n_\\infty): 0,\n",
       " (e_1*e_3, e_1*e_2*e_3): e_2,\n",
       " (e_1*e_2*e_3, e_1*e_2*e_3*n_o*n_\\infty): -(-1 + n_o^n_\\infty),\n",
       " (e_1, n_\\infty): e_1^n_\\infty,\n",
       " (n_o, n_\\infty): -1 + n_o^n_\\infty,\n",
       " (e_1*e_2*e_3*n_o*n_\\infty, e_1*e_2*e_3): -(-1 + n_o^n_\\infty),\n",
       " (e_2*e_3, e_1*e_2*e_3*n_o*n_\\infty): -(-e_1 + e_1^n_o^n_\\infty),\n",
       " (e_1*e_3, e_1*e_2*e_3*n_o*n_\\infty): -e_2 + e_2^n_o^n_\\infty,\n",
       " (e_1*e_2, e_1*e_2*e_3*n_o*n_\\infty): -(-e_3 + e_3^n_o^n_\\infty),\n",
       " (e_1*e_2*n_o*n_\\infty, e_1*e_2*e_3): -(-e_3 + e_3^n_o^n_\\infty),\n",
       " (e_2, n_\\infty): e_2^n_\\infty,\n",
       " (e_1*e_3*n_o*n_\\infty, e_1*e_2*e_3): -e_2 + e_2^n_o^n_\\infty,\n",
       " (e_1*e_2*e_3*n_\\infty, e_1*e_2*e_3): n_\\infty,\n",
       " (n_\\infty, n_o): -2 - (-1 + n_o^n_\\infty),\n",
       " (e_1*e_2*n_o*n_\\infty, e_1*e_2*e_3*n_o*n_\\infty): 2*(-e_3 + e_3^n_o^n_\\infty),\n",
       " (e_3, n_o): e_3^n_o,\n",
       " (e_1, n_o): e_1^n_o,\n",
       " (e_3, e_3): 1,\n",
       " (e_1, e_3): e_1^e_3,\n",
       " (e_2*e_3*n_o*n_\\infty, e_1*e_2*e_3*n_o*n_\\infty): 2*(-e_1 + e_1^n_o^n_\\infty),\n",
       " (e_1, e_2): e_1^e_2,\n",
       " (e_1*e_3*n_o*n_\\infty,\n",
       "  e_1*e_2*e_3*n_o*n_\\infty): -2*(-e_2 + e_2^n_o^n_\\infty),\n",
       " (e_1*e_2*e_3*n_o*n_\\infty, e_1*e_2*e_3*n_o*n_\\infty): 2*(-1 + n_o^n_\\infty),\n",
       " (e_1, e_1): 1,\n",
       " (e_1*e_2*e_3*n_\\infty, e_1*e_2*e_3*n_o*n_\\infty): -2*n_\\infty,\n",
       " (e_1*e_2*e_3*n_o, e_1*e_2*e_3*n_o*n_\\infty): 0}"
      ]
     },
     "execution_count": 7,
     "metadata": {},
     "output_type": "execute_result"
    }
   ],
   "source": [
    "c3d.mul_table_dict"
   ]
  },
  {
   "cell_type": "code",
   "execution_count": 5,
   "metadata": {
    "collapsed": false
   },
   "outputs": [
    {
     "data": {
      "text/latex": [
       "\\begin{equation*}  \\boldsymbol{e}_{1}\\wedge \\boldsymbol{e}_{2}\\wedge \\boldsymbol{e}_{3} \\end{equation*}"
      ],
      "text/plain": [
       " \\boldsymbol{e}_{1}\\wedge \\boldsymbol{e}_{2}\\wedge \\boldsymbol{e}_{3}"
      ]
     },
     "execution_count": 5,
     "metadata": {},
     "output_type": "execute_result"
    }
   ],
   "source": [
    "epss = e1^e2^e3\n",
    "epss"
   ]
  },
  {
   "cell_type": "code",
   "execution_count": 6,
   "metadata": {
    "collapsed": false
   },
   "outputs": [],
   "source": [
    "P1 = no ^ e1 ^ e2 ^ ni\n",
    "P2 = no ^ (e1 + e3) ^ e2 ^ ni"
   ]
  },
  {
   "cell_type": "code",
   "execution_count": 19,
   "metadata": {
    "collapsed": false
   },
   "outputs": [
    {
     "data": {
      "text/latex": [
       "\\begin{equation*} - \\boldsymbol{e}_{1}\\wedge \\boldsymbol{e}_{3} \\end{equation*}"
      ],
      "text/plain": [
       "- \\boldsymbol{e}_{1}\\wedge \\boldsymbol{e}_{3}"
      ]
     },
     "execution_count": 19,
     "metadata": {},
     "output_type": "execute_result"
    }
   ],
   "source": [
    "half * (P1 * P2 - P2 * P1)"
   ]
  },
  {
   "cell_type": "code",
   "execution_count": 20,
   "metadata": {
    "collapsed": false
   },
   "outputs": [
    {
     "data": {
      "text/latex": [
       "\\begin{equation*} -1  - \\boldsymbol{e}_{1}\\wedge \\boldsymbol{e}_{3} \\end{equation*}"
      ],
      "text/plain": [
       "-1  - \\boldsymbol{e}_{1}\\wedge \\boldsymbol{e}_{3}"
      ]
     },
     "execution_count": 20,
     "metadata": {},
     "output_type": "execute_result"
    }
   ],
   "source": [
    "P1 * P2"
   ]
  },
  {
   "cell_type": "code",
   "execution_count": 8,
   "metadata": {
    "collapsed": false
   },
   "outputs": [
    {
     "data": {
      "text/latex": [
       "\\begin{equation*} - \\boldsymbol{e}_{1} - \\boldsymbol{e}_{2} - \\boldsymbol{e}_{3} \\end{equation*}"
      ],
      "text/plain": [
       "- \\boldsymbol{e}_{1} - \\boldsymbol{e}_{2} - \\boldsymbol{e}_{3}"
      ]
     },
     "execution_count": 8,
     "metadata": {},
     "output_type": "execute_result"
    }
   ],
   "source": [
    "avec = e1 + e2 + e3\n",
    "avec\n",
    "(avec | -epss) | -epss"
   ]
  },
  {
   "cell_type": "code",
   "execution_count": 8,
   "metadata": {
    "collapsed": false
   },
   "outputs": [
    {
     "data": {
      "text/plain": [
       "True"
      ]
     },
     "execution_count": 8,
     "metadata": {},
     "output_type": "execute_result"
    }
   ],
   "source": [
    "epss.inv() == -epss"
   ]
  },
  {
   "cell_type": "code",
   "execution_count": 7,
   "metadata": {
    "collapsed": false
   },
   "outputs": [],
   "source": [
    "def make_euclidean_vector(a, n=3, ga=None):\n",
    "    if isinstance(a,str):\n",
    "        v = zero\n",
    "        symbols_list = []\n",
    "        for i in range(n):\n",
    "            a_i = Symbol(a+str(i+1))\n",
    "            symbols_list.append(a_i*ga.basis[i])\n",
    "            v += a_i*ga.basis[i]\n",
    "        v = ga.mv(v)\n",
    "        return v, symbols_list"
   ]
  },
  {
   "cell_type": "code",
   "execution_count": 8,
   "metadata": {
    "collapsed": false
   },
   "outputs": [],
   "source": [
    "t,_ = make_euclidean_vector('t',ga=c3d)"
   ]
  },
  {
   "cell_type": "code",
   "execution_count": 7,
   "metadata": {
    "collapsed": false
   },
   "outputs": [
    {
     "data": {
      "text/latex": [
       "\\begin{equation*} t_{1} \\boldsymbol{e}_{1} + t_{2} \\boldsymbol{e}_{2} + t_{3} \\boldsymbol{e}_{3} + \\boldsymbol{n}_{o} + \\left ( \\frac{1}{2} {\\left ( t_{1} \\right )}^{2} + \\frac{1}{2} {\\left ( t_{2} \\right )}^{2} + \\frac{1}{2} {\\left ( t_{3} \\right )}^{2}\\right ) \\boldsymbol{n}_{\\infty} \\end{equation*}"
      ],
      "text/plain": [
       "t_{1} \\boldsymbol{e}_{1} + t_{2} \\boldsymbol{e}_{2} + t_{3} \\boldsymbol{e}_{3} + \\boldsymbol{n}_{o} + \\left ( \\frac{1}{2} {\\left ( t_{1} \\right )}^{2} + \\frac{1}{2} {\\left ( t_{2} \\right )}^{2} + \\frac{1}{2} {\\left ( t_{3} \\right )}^{2}\\right ) \\boldsymbol{n}_{\\infty}"
      ]
     },
     "execution_count": 7,
     "metadata": {},
     "output_type": "execute_result"
    }
   ],
   "source": [
    "translator = one - half * t * ni\n",
    "translator * no * translator.rev()"
   ]
  },
  {
   "cell_type": "code",
   "execution_count": 12,
   "metadata": {
    "collapsed": false
   },
   "outputs": [
    {
     "data": {
      "text/plain": [
       "0"
      ]
     },
     "execution_count": 12,
     "metadata": {},
     "output_type": "execute_result"
    }
   ],
   "source": [
    "c3d.grad | translator"
   ]
  },
  {
   "cell_type": "code",
   "execution_count": null,
   "metadata": {
    "collapsed": false
   },
   "outputs": [],
   "source": []
  },
  {
   "cell_type": "code",
   "execution_count": 9,
   "metadata": {
    "collapsed": false
   },
   "outputs": [
    {
     "data": {
      "text/latex": [
       "\\begin{equation*} \\cos{\\left (\\frac{\\theta }{2} \\right )}  - B_{12} \\sin{\\left (\\frac{\\theta }{2} \\right )} \\boldsymbol{e}_{1}\\wedge \\boldsymbol{e}_{2} - B_{13} \\sin{\\left (\\frac{\\theta }{2} \\right )} \\boldsymbol{e}_{1}\\wedge \\boldsymbol{e}_{3} - B_{23} \\sin{\\left (\\frac{\\theta }{2} \\right )} \\boldsymbol{e}_{2}\\wedge \\boldsymbol{e}_{3} \\end{equation*}"
      ],
      "text/plain": [
       "\\cos{\\left (\\frac{\\theta }{2} \\right )}  - B_{12} \\sin{\\left (\\frac{\\theta }{2} \\right )} \\boldsymbol{e}_{1}\\wedge \\boldsymbol{e}_{2} - B_{13} \\sin{\\left (\\frac{\\theta }{2} \\right )} \\boldsymbol{e}_{1}\\wedge \\boldsymbol{e}_{3} - B_{23} \\sin{\\left (\\frac{\\theta }{2} \\right )} \\boldsymbol{e}_{2}\\wedge \\boldsymbol{e}_{3}"
      ]
     },
     "execution_count": 9,
     "metadata": {},
     "output_type": "execute_result"
    }
   ],
   "source": [
    "from sympy.abc import x, theta\n",
    "# Define unit bivectors\n",
    "e12 = e1 ^ e2\n",
    "e13 = e1 ^ e3\n",
    "e23 = e2 ^ e3\n",
    "e123 = e1 ^ e2 ^ e3\n",
    "(B12, B13, B23) = symbols('B_12,B_13,B_23')\n",
    "rotation_plane = ( B12 * e12 + B13 * e13 + B23 * e23 )\n",
    "B = rotation_plane\n",
    "rotor = cos(half * theta) - sin( half * theta) * rotation_plane\n",
    "rotor"
   ]
  },
  {
   "cell_type": "code",
   "execution_count": 18,
   "metadata": {
    "collapsed": false
   },
   "outputs": [
    {
     "data": {
      "text/latex": [
       "\\begin{equation*} \\left ( {\\left ( B_{12} \\right )}^{2} a_{1} - B_{12} B_{23} a_{3} + {\\left ( B_{13} \\right )}^{2} a_{1} + B_{13} B_{23} a_{2}\\right ) \\boldsymbol{e}_{1} + \\left ( {\\left ( B_{12} \\right )}^{2} a_{2} + B_{12} B_{13} a_{3} + B_{13} B_{23} a_{1} + {\\left ( B_{23} \\right )}^{2} a_{2}\\right ) \\boldsymbol{e}_{2} + \\left ( B_{12} B_{13} a_{2} - B_{12} B_{23} a_{1} + {\\left ( B_{13} \\right )}^{2} a_{3} + {\\left ( B_{23} \\right )}^{2} a_{3}\\right ) \\boldsymbol{e}_{3} \\end{equation*}"
      ],
      "text/plain": [
       "\\left ( {\\left ( B_{12} \\right )}^{2} a_{1} - B_{12} B_{23} a_{3} + {\\left ( B_{13} \\right )}^{2} a_{1} + B_{13} B_{23} a_{2}\\right ) \\boldsymbol{e}_{1} + \\left ( {\\left ( B_{12} \\right )}^{2} a_{2} + B_{12} B_{13} a_{3} + B_{13} B_{23} a_{1} + {\\left ( B_{23} \\right )}^{2} a_{2}\\right ) \\boldsymbol{e}_{2} + \\left ( B_{12} B_{13} a_{2} - B_{12} B_{23} a_{1} + {\\left ( B_{13} \\right )}^{2} a_{3} + {\\left ( B_{23} \\right )}^{2} a_{3}\\right ) \\boldsymbol{e}_{3}"
      ]
     },
     "execution_count": 18,
     "metadata": {},
     "output_type": "execute_result"
    }
   ],
   "source": [
    "a,_ = make_euclidean_vector('a',ga=c3d)\n",
    "(a | B) * B.rev()"
   ]
  },
  {
   "cell_type": "code",
   "execution_count": 21,
   "metadata": {
    "collapsed": false
   },
   "outputs": [
    {
     "data": {
      "text/latex": [
       "\\begin{equation*} \\frac{{\\left ( B_{12} \\right )}^{2} a_{1} - B_{12} B_{23} a_{3} + {\\left ( B_{13} \\right )}^{2} a_{1} + B_{13} B_{23} a_{2}}{{\\left ( B_{12} \\right )}^{2} + {\\left ( B_{13} \\right )}^{2} + {\\left ( B_{23} \\right )}^{2}} \\boldsymbol{e}_{1} + \\frac{{\\left ( B_{12} \\right )}^{2} a_{2} + B_{12} B_{13} a_{3} + B_{13} B_{23} a_{1} + {\\left ( B_{23} \\right )}^{2} a_{2}}{{\\left ( B_{12} \\right )}^{2} + {\\left ( B_{13} \\right )}^{2} + {\\left ( B_{23} \\right )}^{2}} \\boldsymbol{e}_{2} + \\frac{B_{12} B_{13} a_{2} - B_{12} B_{23} a_{1} + {\\left ( B_{13} \\right )}^{2} a_{3} + {\\left ( B_{23} \\right )}^{2} a_{3}}{{\\left ( B_{12} \\right )}^{2} + {\\left ( B_{13} \\right )}^{2} + {\\left ( B_{23} \\right )}^{2}} \\boldsymbol{e}_{3} \\end{equation*}"
      ],
      "text/plain": [
       "\\frac{{\\left ( B_{12} \\right )}^{2} a_{1} - B_{12} B_{23} a_{3} + {\\left ( B_{13} \\right )}^{2} a_{1} + B_{13} B_{23} a_{2}}{{\\left ( B_{12} \\right )}^{2} + {\\left ( B_{13} \\right )}^{2} + {\\left ( B_{23} \\right )}^{2}} \\boldsymbol{e}_{1} + \\frac{{\\left ( B_{12} \\right )}^{2} a_{2} + B_{12} B_{13} a_{3} + B_{13} B_{23} a_{1} + {\\left ( B_{23} \\right )}^{2} a_{2}}{{\\left ( B_{12} \\right )}^{2} + {\\left ( B_{13} \\right )}^{2} + {\\left ( B_{23} \\right )}^{2}} \\boldsymbol{e}_{2} + \\frac{B_{12} B_{13} a_{2} - B_{12} B_{23} a_{1} + {\\left ( B_{13} \\right )}^{2} a_{3} + {\\left ( B_{23} \\right )}^{2} a_{3}}{{\\left ( B_{12} \\right )}^{2} + {\\left ( B_{13} \\right )}^{2} + {\\left ( B_{23} \\right )}^{2}} \\boldsymbol{e}_{3}"
      ]
     },
     "execution_count": 21,
     "metadata": {},
     "output_type": "execute_result"
    }
   ],
   "source": [
    "tv = (a | B) / B\n",
    "tv"
   ]
  },
  {
   "cell_type": "code",
   "execution_count": 22,
   "metadata": {
    "collapsed": false
   },
   "outputs": [
    {
     "data": {
      "text/latex": [
       "\\begin{equation*} \\frac{B_{23} \\left(B_{12} a_{3} - B_{13} a_{2} + B_{23} a_{1}\\right)}{{\\left ( B_{12} \\right )}^{2} + {\\left ( B_{13} \\right )}^{2} + {\\left ( B_{23} \\right )}^{2}} \\boldsymbol{e}_{1} + \\frac{B_{13} \\left(- B_{12} a_{3} + B_{13} a_{2} - B_{23} a_{1}\\right)}{{\\left ( B_{12} \\right )}^{2} + {\\left ( B_{13} \\right )}^{2} + {\\left ( B_{23} \\right )}^{2}} \\boldsymbol{e}_{2} + \\frac{B_{12} \\left(B_{12} a_{3} - B_{13} a_{2} + B_{23} a_{1}\\right)}{{\\left ( B_{12} \\right )}^{2} + {\\left ( B_{13} \\right )}^{2} + {\\left ( B_{23} \\right )}^{2}} \\boldsymbol{e}_{3} \\end{equation*}"
      ],
      "text/plain": [
       "\\frac{B_{23} \\left(B_{12} a_{3} - B_{13} a_{2} + B_{23} a_{1}\\right)}{{\\left ( B_{12} \\right )}^{2} + {\\left ( B_{13} \\right )}^{2} + {\\left ( B_{23} \\right )}^{2}} \\boldsymbol{e}_{1} + \\frac{B_{13} \\left(- B_{12} a_{3} + B_{13} a_{2} - B_{23} a_{1}\\right)}{{\\left ( B_{12} \\right )}^{2} + {\\left ( B_{13} \\right )}^{2} + {\\left ( B_{23} \\right )}^{2}} \\boldsymbol{e}_{2} + \\frac{B_{12} \\left(B_{12} a_{3} - B_{13} a_{2} + B_{23} a_{1}\\right)}{{\\left ( B_{12} \\right )}^{2} + {\\left ( B_{13} \\right )}^{2} + {\\left ( B_{23} \\right )}^{2}} \\boldsymbol{e}_{3}"
      ]
     },
     "execution_count": 22,
     "metadata": {},
     "output_type": "execute_result"
    }
   ],
   "source": [
    "tw = (a ^ B) / B\n",
    "tw"
   ]
  },
  {
   "cell_type": "code",
   "execution_count": 23,
   "metadata": {
    "collapsed": false
   },
   "outputs": [
    {
     "data": {
      "text/latex": [
       "\\begin{equation*} \\left ( B_{12} a_{3} - B_{13} a_{2} + B_{23} a_{1}\\right ) \\boldsymbol{e}_{1}\\wedge \\boldsymbol{e}_{2}\\wedge \\boldsymbol{e}_{3} \\end{equation*}"
      ],
      "text/plain": [
       "\\left ( B_{12} a_{3} - B_{13} a_{2} + B_{23} a_{1}\\right ) \\boldsymbol{e}_{1}\\wedge \\boldsymbol{e}_{2}\\wedge \\boldsymbol{e}_{3}"
      ]
     },
     "execution_count": 23,
     "metadata": {},
     "output_type": "execute_result"
    }
   ],
   "source": [
    "B * tw"
   ]
  },
  {
   "cell_type": "code",
   "execution_count": 9,
   "metadata": {
    "collapsed": false
   },
   "outputs": [
    {
     "data": {
      "text/latex": [
       "\\begin{equation*} \\cos{\\left (\\frac{\\theta }{2} \\right )}  - B_{12} \\sin{\\left (\\frac{\\theta }{2} \\right )} \\boldsymbol{e}_{1}\\wedge \\boldsymbol{e}_{2} - B_{13} \\sin{\\left (\\frac{\\theta }{2} \\right )} \\boldsymbol{e}_{1}\\wedge \\boldsymbol{e}_{3} + \\left ( - \\frac{t_{1}}{2} \\cos{\\left (\\frac{\\theta }{2} \\right )} + \\left(- \\frac{B_{12} t_{2}}{2} - \\frac{B_{13} t_{3}}{2}\\right) \\sin{\\left (\\frac{\\theta }{2} \\right )}\\right ) \\boldsymbol{e}_{1}\\wedge \\boldsymbol{n}_{\\infty} - B_{23} \\sin{\\left (\\frac{\\theta }{2} \\right )} \\boldsymbol{e}_{2}\\wedge \\boldsymbol{e}_{3} + \\left ( - \\frac{t_{2}}{2} \\cos{\\left (\\frac{\\theta }{2} \\right )} + \\left(\\frac{B_{12} t_{1}}{2} - \\frac{B_{23} t_{3}}{2}\\right) \\sin{\\left (\\frac{\\theta }{2} \\right )}\\right ) \\boldsymbol{e}_{2}\\wedge \\boldsymbol{n}_{\\infty} + \\left ( - \\frac{t_{3}}{2} \\cos{\\left (\\frac{\\theta }{2} \\right )} + \\left(\\frac{B_{13} t_{1}}{2} + \\frac{B_{23} t_{2}}{2}\\right) \\sin{\\left (\\frac{\\theta }{2} \\right )}\\right ) \\boldsymbol{e}_{3}\\wedge \\boldsymbol{n}_{\\infty} + \\left(\\frac{B_{12} t_{3}}{2} - \\frac{B_{13} t_{2}}{2} + \\frac{B_{23} t_{1}}{2}\\right) \\sin{\\left (\\frac{\\theta }{2} \\right )} \\boldsymbol{e}_{1}\\wedge \\boldsymbol{e}_{2}\\wedge \\boldsymbol{e}_{3}\\wedge \\boldsymbol{n}_{\\infty} \\end{equation*}"
      ],
      "text/plain": [
       "\\cos{\\left (\\frac{\\theta }{2} \\right )}  - B_{12} \\sin{\\left (\\frac{\\theta }{2} \\right )} \\boldsymbol{e}_{1}\\wedge \\boldsymbol{e}_{2} - B_{13} \\sin{\\left (\\frac{\\theta }{2} \\right )} \\boldsymbol{e}_{1}\\wedge \\boldsymbol{e}_{3} + \\left ( - \\frac{t_{1}}{2} \\cos{\\left (\\frac{\\theta }{2} \\right )} + \\left(- \\frac{B_{12} t_{2}}{2} - \\frac{B_{13} t_{3}}{2}\\right) \\sin{\\left (\\frac{\\theta }{2} \\right )}\\right ) \\boldsymbol{e}_{1}\\wedge \\boldsymbol{n}_{\\infty} - B_{23} \\sin{\\left (\\frac{\\theta }{2} \\right )} \\boldsymbol{e}_{2}\\wedge \\boldsymbol{e}_{3} + \\left ( - \\frac{t_{2}}{2} \\cos{\\left (\\frac{\\theta }{2} \\right )} + \\left(\\frac{B_{12} t_{1}}{2} - \\frac{B_{23} t_{3}}{2}\\right) \\sin{\\left (\\frac{\\theta }{2} \\right )}\\right ) \\boldsymbol{e}_{2}\\wedge \\boldsymbol{n}_{\\infty} + \\left ( - \\frac{t_{3}}{2} \\cos{\\left (\\frac{\\theta }{2} \\right )} + \\left(\\frac{B_{13} t_{1}}{2} + \\frac{B_{23} t_{2}}{2}\\right) \\sin{\\left (\\frac{\\theta }{2} \\right )}\\right ) \\boldsymbol{e}_{3}\\wedge \\boldsymbol{n}_{\\infty} + \\left(\\frac{B_{12} t_{3}}{2} - \\frac{B_{13} t_{2}}{2} + \\frac{B_{23} t_{1}}{2}\\right) \\sin{\\left (\\frac{\\theta }{2} \\right )} \\boldsymbol{e}_{1}\\wedge \\boldsymbol{e}_{2}\\wedge \\boldsymbol{e}_{3}\\wedge \\boldsymbol{n}_{\\infty}"
      ]
     },
     "execution_count": 9,
     "metadata": {},
     "output_type": "execute_result"
    }
   ],
   "source": [
    "\n",
    "motor = translator * rotor\n",
    "motor"
   ]
  },
  {
   "cell_type": "code",
   "execution_count": null,
   "metadata": {
    "collapsed": true
   },
   "outputs": [],
   "source": [
    "M1 = "
   ]
  },
  {
   "cell_type": "code",
   "execution_count": 15,
   "metadata": {
    "collapsed": false
   },
   "outputs": [
    {
     "data": {
      "text/latex": [
       "\\begin{equation*} B_{12} \\boldsymbol{e}_{1}\\wedge \\boldsymbol{e}_{2} + B_{13} \\boldsymbol{e}_{1}\\wedge \\boldsymbol{e}_{3} + t_{1} \\boldsymbol{e}_{1}\\wedge \\boldsymbol{n}_{\\infty} + B_{23} \\boldsymbol{e}_{2}\\wedge \\boldsymbol{e}_{3} + t_{2} \\boldsymbol{e}_{2}\\wedge \\boldsymbol{n}_{\\infty} + t_{3} \\boldsymbol{e}_{3}\\wedge \\boldsymbol{n}_{\\infty} \\end{equation*}"
      ],
      "text/plain": [
       "B_{12} \\boldsymbol{e}_{1}\\wedge \\boldsymbol{e}_{2} + B_{13} \\boldsymbol{e}_{1}\\wedge \\boldsymbol{e}_{3} + t_{1} \\boldsymbol{e}_{1}\\wedge \\boldsymbol{n}_{\\infty} + B_{23} \\boldsymbol{e}_{2}\\wedge \\boldsymbol{e}_{3} + t_{2} \\boldsymbol{e}_{2}\\wedge \\boldsymbol{n}_{\\infty} + t_{3} \\boldsymbol{e}_{3}\\wedge \\boldsymbol{n}_{\\infty}"
      ]
     },
     "execution_count": 15,
     "metadata": {},
     "output_type": "execute_result"
    }
   ],
   "source": [
    "dll = B + t * ni\n",
    "dll"
   ]
  },
  {
   "cell_type": "code",
   "execution_count": 22,
   "metadata": {
    "collapsed": false,
    "scrolled": true
   },
   "outputs": [
    {
     "data": {
      "text/latex": [
       "\\begin{equation*} \\cos{\\left (\\frac{\\theta }{2} \\right )}  - B_{12} \\sin{\\left (\\frac{\\theta }{2} \\right )} \\boldsymbol{e}_{1}\\wedge \\boldsymbol{e}_{2} - B_{13} \\sin{\\left (\\frac{\\theta }{2} \\right )} \\boldsymbol{e}_{1}\\wedge \\boldsymbol{e}_{3} + \\left(- B_{12} t_{2} - B_{13} t_{3}\\right) \\sin{\\left (\\frac{\\theta }{2} \\right )} \\boldsymbol{e}_{1}\\wedge \\boldsymbol{n}_{\\infty} - B_{23} \\sin{\\left (\\frac{\\theta }{2} \\right )} \\boldsymbol{e}_{2}\\wedge \\boldsymbol{e}_{3} + \\left(B_{12} t_{1} - B_{23} t_{3}\\right) \\sin{\\left (\\frac{\\theta }{2} \\right )} \\boldsymbol{e}_{2}\\wedge \\boldsymbol{n}_{\\infty} + \\left(B_{13} t_{1} + B_{23} t_{2}\\right) \\sin{\\left (\\frac{\\theta }{2} \\right )} \\boldsymbol{e}_{3}\\wedge \\boldsymbol{n}_{\\infty} \\end{equation*}"
      ],
      "text/plain": [
       "\\cos{\\left (\\frac{\\theta }{2} \\right )}  - B_{12} \\sin{\\left (\\frac{\\theta }{2} \\right )} \\boldsymbol{e}_{1}\\wedge \\boldsymbol{e}_{2} - B_{13} \\sin{\\left (\\frac{\\theta }{2} \\right )} \\boldsymbol{e}_{1}\\wedge \\boldsymbol{e}_{3} + \\left(- B_{12} t_{2} - B_{13} t_{3}\\right) \\sin{\\left (\\frac{\\theta }{2} \\right )} \\boldsymbol{e}_{1}\\wedge \\boldsymbol{n}_{\\infty} - B_{23} \\sin{\\left (\\frac{\\theta }{2} \\right )} \\boldsymbol{e}_{2}\\wedge \\boldsymbol{e}_{3} + \\left(B_{12} t_{1} - B_{23} t_{3}\\right) \\sin{\\left (\\frac{\\theta }{2} \\right )} \\boldsymbol{e}_{2}\\wedge \\boldsymbol{n}_{\\infty} + \\left(B_{13} t_{1} + B_{23} t_{2}\\right) \\sin{\\left (\\frac{\\theta }{2} \\right )} \\boldsymbol{e}_{3}\\wedge \\boldsymbol{n}_{\\infty}"
      ]
     },
     "execution_count": 22,
     "metadata": {},
     "output_type": "execute_result"
    }
   ],
   "source": [
    "G = translator * rotor * translator.rev()\n",
    "G"
   ]
  },
  {
   "cell_type": "code",
   "execution_count": 21,
   "metadata": {
    "collapsed": false
   },
   "outputs": [
    {
     "data": {
      "text/plain": [
       "True"
      ]
     },
     "execution_count": 21,
     "metadata": {},
     "output_type": "execute_result"
    }
   ],
   "source": [
    "G * G.rev() == rotor * rotor.rev()"
   ]
  },
  {
   "cell_type": "code",
   "execution_count": 17,
   "metadata": {
    "collapsed": false
   },
   "outputs": [
    {
     "data": {
      "text/plain": [
       "True"
      ]
     },
     "execution_count": 17,
     "metadata": {},
     "output_type": "execute_result"
    }
   ],
   "source": [
    "theta_half = half * theta\n",
    "G2 = cos(theta_half) - sin(theta_half ) *  ( B - (t < B)*ni)\n",
    "G2 == G"
   ]
  },
  {
   "cell_type": "code",
   "execution_count": 30,
   "metadata": {
    "collapsed": false
   },
   "outputs": [
    {
     "data": {
      "text/latex": [
       "\\begin{equation*} 1 \\end{equation*}"
      ],
      "text/plain": [
       "1"
      ]
     },
     "execution_count": 30,
     "metadata": {},
     "output_type": "execute_result"
    }
   ],
   "source": [
    "translator * translator.rev()"
   ]
  },
  {
   "cell_type": "code",
   "execution_count": 24,
   "metadata": {
    "collapsed": false
   },
   "outputs": [
    {
     "data": {
      "text/latex": [
       "\\begin{equation*} \\cos{\\left (\\frac{\\theta }{2} \\right )}  - B_{12} \\sin{\\left (\\frac{\\theta }{2} \\right )} \\boldsymbol{e}_{1}\\wedge \\boldsymbol{e}_{2} - B_{13} \\sin{\\left (\\frac{\\theta }{2} \\right )} \\boldsymbol{e}_{1}\\wedge \\boldsymbol{e}_{3} + \\left(- B_{12} t_{2} - B_{13} t_{3}\\right) \\sin{\\left (\\frac{\\theta }{2} \\right )} \\boldsymbol{e}_{1}\\wedge \\boldsymbol{n}_{\\infty} - B_{23} \\sin{\\left (\\frac{\\theta }{2} \\right )} \\boldsymbol{e}_{2}\\wedge \\boldsymbol{e}_{3} + \\left(B_{12} t_{1} - B_{23} t_{3}\\right) \\sin{\\left (\\frac{\\theta }{2} \\right )} \\boldsymbol{e}_{2}\\wedge \\boldsymbol{n}_{\\infty} + \\left(B_{13} t_{1} + B_{23} t_{2}\\right) \\sin{\\left (\\frac{\\theta }{2} \\right )} \\boldsymbol{e}_{3}\\wedge \\boldsymbol{n}_{\\infty} \\end{equation*}"
      ],
      "text/plain": [
       "\\cos{\\left (\\frac{\\theta }{2} \\right )}  - B_{12} \\sin{\\left (\\frac{\\theta }{2} \\right )} \\boldsymbol{e}_{1}\\wedge \\boldsymbol{e}_{2} - B_{13} \\sin{\\left (\\frac{\\theta }{2} \\right )} \\boldsymbol{e}_{1}\\wedge \\boldsymbol{e}_{3} + \\left(- B_{12} t_{2} - B_{13} t_{3}\\right) \\sin{\\left (\\frac{\\theta }{2} \\right )} \\boldsymbol{e}_{1}\\wedge \\boldsymbol{n}_{\\infty} - B_{23} \\sin{\\left (\\frac{\\theta }{2} \\right )} \\boldsymbol{e}_{2}\\wedge \\boldsymbol{e}_{3} + \\left(B_{12} t_{1} - B_{23} t_{3}\\right) \\sin{\\left (\\frac{\\theta }{2} \\right )} \\boldsymbol{e}_{2}\\wedge \\boldsymbol{n}_{\\infty} + \\left(B_{13} t_{1} + B_{23} t_{2}\\right) \\sin{\\left (\\frac{\\theta }{2} \\right )} \\boldsymbol{e}_{3}\\wedge \\boldsymbol{n}_{\\infty}"
      ]
     },
     "execution_count": 24,
     "metadata": {},
     "output_type": "execute_result"
    }
   ],
   "source": [
    "(cos(theta_half) - sin(theta_half) * B - sin(theta_half) * ni * (t | B))"
   ]
  },
  {
   "cell_type": "code",
   "execution_count": 35,
   "metadata": {
    "collapsed": false
   },
   "outputs": [
    {
     "data": {
      "text/plain": [
       "True"
      ]
     },
     "execution_count": 35,
     "metadata": {},
     "output_type": "execute_result"
    }
   ],
   "source": [
    "( rotor + sin(theta_half) * (t < B) * ni ) == G"
   ]
  },
  {
   "cell_type": "code",
   "execution_count": 47,
   "metadata": {
    "collapsed": false
   },
   "outputs": [
    {
     "data": {
      "text/latex": [
       " \\begin{align*}  & \\cos{\\left (\\frac{\\theta }{2} \\right )}  \\\\  &  - B_{12} \\sin{\\left (\\frac{\\theta }{2} \\right )} \\boldsymbol{e}_{1}\\wedge \\boldsymbol{e}_{2} - B_{13} \\sin{\\left (\\frac{\\theta }{2} \\right )} \\boldsymbol{e}_{1}\\wedge \\boldsymbol{e}_{3} + \\left ( - \\frac{t_{1}}{2} \\cos{\\left (\\frac{\\theta }{2} \\right )} + \\left(- \\frac{B_{12} t_{2}}{2} - \\frac{B_{13} t_{3}}{2}\\right) \\sin{\\left (\\frac{\\theta }{2} \\right )}\\right ) \\boldsymbol{e}_{1}\\wedge \\boldsymbol{n}_{\\infty} - B_{23} \\sin{\\left (\\frac{\\theta }{2} \\right )} \\boldsymbol{e}_{2}\\wedge \\boldsymbol{e}_{3} + \\left ( - \\frac{t_{2}}{2} \\cos{\\left (\\frac{\\theta }{2} \\right )} + \\left(\\frac{B_{12} t_{1}}{2} - \\frac{B_{23} t_{3}}{2}\\right) \\sin{\\left (\\frac{\\theta }{2} \\right )}\\right ) \\boldsymbol{e}_{2}\\wedge \\boldsymbol{n}_{\\infty} + \\left ( - \\frac{t_{3}}{2} \\cos{\\left (\\frac{\\theta }{2} \\right )} + \\left(\\frac{B_{13} t_{1}}{2} + \\frac{B_{23} t_{2}}{2}\\right) \\sin{\\left (\\frac{\\theta }{2} \\right )}\\right ) \\boldsymbol{e}_{3}\\wedge \\boldsymbol{n}_{\\infty} \\\\  &  + \\left(\\frac{B_{12} t_{3}}{2} - \\frac{B_{13} t_{2}}{2} + \\frac{B_{23} t_{1}}{2}\\right) \\sin{\\left (\\frac{\\theta }{2} \\right )} \\boldsymbol{e}_{1}\\wedge \\boldsymbol{e}_{2}\\wedge \\boldsymbol{e}_{3}\\wedge \\boldsymbol{n}_{\\infty}  \\end{align*} \n"
      ],
      "text/plain": [
       " \\begin{align*}  & \\cos{\\left (\\frac{\\theta }{2} \\right )}  \\\\  &  - B_{12} \\sin{\\left (\\frac{\\theta }{2} \\right )} \\boldsymbol{e}_{1}\\wedge \\boldsymbol{e}_{2} - B_{13} \\sin{\\left (\\frac{\\theta }{2} \\right )} \\boldsymbol{e}_{1}\\wedge \\boldsymbol{e}_{3} + \\left ( - \\frac{t_{1}}{2} \\cos{\\left (\\frac{\\theta }{2} \\right )} + \\left(- \\frac{B_{12} t_{2}}{2} - \\frac{B_{13} t_{3}}{2}\\right) \\sin{\\left (\\frac{\\theta }{2} \\right )}\\right ) \\boldsymbol{e}_{1}\\wedge \\boldsymbol{n}_{\\infty} - B_{23} \\sin{\\left (\\frac{\\theta }{2} \\right )} \\boldsymbol{e}_{2}\\wedge \\boldsymbol{e}_{3} + \\left ( - \\frac{t_{2}}{2} \\cos{\\left (\\frac{\\theta }{2} \\right )} + \\left(\\frac{B_{12} t_{1}}{2} - \\frac{B_{23} t_{3}}{2}\\right) \\sin{\\left (\\frac{\\theta }{2} \\right )}\\right ) \\boldsymbol{e}_{2}\\wedge \\boldsymbol{n}_{\\infty} + \\left ( - \\frac{t_{3}}{2} \\cos{\\left (\\frac{\\theta }{2} \\right )} + \\left(\\frac{B_{13} t_{1}}{2} + \\frac{B_{23} t_{2}}{2}\\right) \\sin{\\left (\\frac{\\theta }{2} \\right )}\\right ) \\boldsymbol{e}_{3}\\wedge \\boldsymbol{n}_{\\infty} \\\\  &  + \\left(\\frac{B_{12} t_{3}}{2} - \\frac{B_{13} t_{2}}{2} + \\frac{B_{23} t_{1}}{2}\\right) \\sin{\\left (\\frac{\\theta }{2} \\right )} \\boldsymbol{e}_{1}\\wedge \\boldsymbol{e}_{2}\\wedge \\boldsymbol{e}_{3}\\wedge \\boldsymbol{n}_{\\infty}  \\end{align*} "
      ]
     },
     "execution_count": 47,
     "metadata": {},
     "output_type": "execute_result"
    }
   ],
   "source": [
    "motor"
   ]
  },
  {
   "cell_type": "code",
   "execution_count": 59,
   "metadata": {
    "collapsed": false
   },
   "outputs": [
    {
     "data": {
      "text/latex": [
       "\\begin{equation*} \\frac{{\\left ( B_{12} \\right )}^{2} t_{1} - B_{12} B_{23} t_{3} + {\\left ( B_{13} \\right )}^{2} t_{1} + B_{13} B_{23} t_{2}}{{\\left ( B_{12} \\right )}^{2} + {\\left ( B_{13} \\right )}^{2} + {\\left ( B_{23} \\right )}^{2}} \\boldsymbol{e}_{1} + \\frac{{\\left ( B_{12} \\right )}^{2} t_{2} + B_{12} B_{13} t_{3} + B_{13} B_{23} t_{1} + {\\left ( B_{23} \\right )}^{2} t_{2}}{{\\left ( B_{12} \\right )}^{2} + {\\left ( B_{13} \\right )}^{2} + {\\left ( B_{23} \\right )}^{2}} \\boldsymbol{e}_{2} + \\frac{B_{12} B_{13} t_{2} - B_{12} B_{23} t_{1} + {\\left ( B_{13} \\right )}^{2} t_{3} + {\\left ( B_{23} \\right )}^{2} t_{3}}{{\\left ( B_{12} \\right )}^{2} + {\\left ( B_{13} \\right )}^{2} + {\\left ( B_{23} \\right )}^{2}} \\boldsymbol{e}_{3} \\end{equation*}"
      ],
      "text/plain": [
       "\\frac{{\\left ( B_{12} \\right )}^{2} t_{1} - B_{12} B_{23} t_{3} + {\\left ( B_{13} \\right )}^{2} t_{1} + B_{13} B_{23} t_{2}}{{\\left ( B_{12} \\right )}^{2} + {\\left ( B_{13} \\right )}^{2} + {\\left ( B_{23} \\right )}^{2}} \\boldsymbol{e}_{1} + \\frac{{\\left ( B_{12} \\right )}^{2} t_{2} + B_{12} B_{13} t_{3} + B_{13} B_{23} t_{1} + {\\left ( B_{23} \\right )}^{2} t_{2}}{{\\left ( B_{12} \\right )}^{2} + {\\left ( B_{13} \\right )}^{2} + {\\left ( B_{23} \\right )}^{2}} \\boldsymbol{e}_{2} + \\frac{B_{12} B_{13} t_{2} - B_{12} B_{23} t_{1} + {\\left ( B_{13} \\right )}^{2} t_{3} + {\\left ( B_{23} \\right )}^{2} t_{3}}{{\\left ( B_{12} \\right )}^{2} + {\\left ( B_{13} \\right )}^{2} + {\\left ( B_{23} \\right )}^{2}} \\boldsymbol{e}_{3}"
      ]
     },
     "execution_count": 59,
     "metadata": {},
     "output_type": "execute_result"
    }
   ],
   "source": [
    "(t | B) * B.inv()"
   ]
  },
  {
   "cell_type": "code",
   "execution_count": 108,
   "metadata": {
    "collapsed": false
   },
   "outputs": [
    {
     "data": {
      "text/plain": [
       "True"
      ]
     },
     "execution_count": 108,
     "metadata": {},
     "output_type": "execute_result"
    }
   ],
   "source": [
    "cos_theta_half = cos(theta_half)\n",
    "sin_theta_half = sin(theta_half)\n",
    "t_half = half * t\n",
    "M2 = cos_theta_half *(1 - t_half * ni) - sin_theta_half * (B - t_half * B * ni)\n",
    "M2 == motor"
   ]
  },
  {
   "cell_type": "code",
   "execution_count": 14,
   "metadata": {
    "collapsed": false
   },
   "outputs": [
    {
     "data": {
      "text/latex": [
       "\\begin{equation*} \\frac{B_{23a} d}{\\theta } \\boldsymbol{e}_{1} - \\frac{B_{13a} d}{\\theta } \\boldsymbol{e}_{2} + \\frac{B_{12a} d}{\\theta } \\boldsymbol{e}_{3} \\end{equation*}"
      ],
      "text/plain": [
       "\\frac{B_{23a} d}{\\theta } \\boldsymbol{e}_{1} - \\frac{B_{13a} d}{\\theta } \\boldsymbol{e}_{2} + \\frac{B_{12a} d}{\\theta } \\boldsymbol{e}_{3}"
      ]
     },
     "execution_count": 14,
     "metadata": {},
     "output_type": "execute_result"
    }
   ],
   "source": [
    "(B12a, B13a, B23a) = symbols('B_12a,B_13a,B_23a')\n",
    "B = ( B12a * e12 + B13a * e13 + B23a * e23 )\n",
    "d = symbols('d')\n",
    "pitch = (d / theta)\n",
    "pitch * B * -e123"
   ]
  },
  {
   "cell_type": "code",
   "execution_count": null,
   "metadata": {
    "collapsed": false
   },
   "outputs": [],
   "source": [
    "logM = (theta * half) * (B - ( (t | B) +  (pitch * B * -e123) ) * ni)\n",
    "c3d.grad | logM"
   ]
  },
  {
   "cell_type": "code",
   "execution_count": null,
   "metadata": {
    "collapsed": false
   },
   "outputs": [],
   "source": [
    "logM "
   ]
  },
  {
   "cell_type": "code",
   "execution_count": null,
   "metadata": {
    "collapsed": false
   },
   "outputs": [],
   "source": [
    "#(theta * half * pitch) * (motor *( B * -e123 * ni) * motor.rev()) * (motor * B * motor.rev()).inv()"
   ]
  },
  {
   "cell_type": "code",
   "execution_count": null,
   "metadata": {
    "collapsed": false
   },
   "outputs": [],
   "source": [
    "(theta * half * pitch) * (-e123 * ni) *  (motor * B  * motor.rev()) * (motor * B * motor.rev()).inv()"
   ]
  },
  {
   "cell_type": "code",
   "execution_count": null,
   "metadata": {
    "collapsed": false
   },
   "outputs": [],
   "source": [
    "(theta * half * pitch) * ( B * -e123 * ni)"
   ]
  },
  {
   "cell_type": "code",
   "execution_count": null,
   "metadata": {
    "collapsed": false
   },
   "outputs": [],
   "source": [
    "(theta * half * pitch) * (-e123 * B * ni)"
   ]
  },
  {
   "cell_type": "code",
   "execution_count": null,
   "metadata": {
    "collapsed": false
   },
   "outputs": [],
   "source": [
    "(theta * half * pitch) * (-e123 * ni * B)"
   ]
  },
  {
   "cell_type": "code",
   "execution_count": null,
   "metadata": {
    "collapsed": false
   },
   "outputs": [],
   "source": [
    "(theta * half * pitch) * (-e123 * ni * B) * B.inv()"
   ]
  },
  {
   "cell_type": "code",
   "execution_count": null,
   "metadata": {
    "collapsed": false
   },
   "outputs": [],
   "source": [
    "(theta * half * pitch) * (-e123 * ni)"
   ]
  },
  {
   "cell_type": "code",
   "execution_count": null,
   "metadata": {
    "collapsed": false
   },
   "outputs": [],
   "source": [
    "1 + logM"
   ]
  },
  {
   "cell_type": "code",
   "execution_count": null,
   "metadata": {
    "collapsed": false
   },
   "outputs": [],
   "source": [
    "(logM * logM) /2"
   ]
  },
  {
   "cell_type": "code",
   "execution_count": null,
   "metadata": {
    "collapsed": false
   },
   "outputs": [],
   "source": [
    "no | (theta * half * pitch) * (-e123 * ni) * e123"
   ]
  },
  {
   "cell_type": "code",
   "execution_count": null,
   "metadata": {
    "collapsed": false
   },
   "outputs": [],
   "source": [
    "((theta * half) * B ) * B.inv()"
   ]
  },
  {
   "cell_type": "code",
   "execution_count": null,
   "metadata": {
    "collapsed": false
   },
   "outputs": [],
   "source": [
    "logM * (theta * half * B).inv()"
   ]
  },
  {
   "cell_type": "code",
   "execution_count": null,
   "metadata": {
    "collapsed": false
   },
   "outputs": [],
   "source": [
    "2 * -no | ( (((no | logM) * B.inv()) ^ ni) | e123)"
   ]
  },
  {
   "cell_type": "code",
   "execution_count": null,
   "metadata": {
    "collapsed": false
   },
   "outputs": [],
   "source": [
    "logMBinv = 2*(logM * B.inv())\n",
    "logMBinv"
   ]
  },
  {
   "cell_type": "code",
   "execution_count": null,
   "metadata": {
    "collapsed": false
   },
   "outputs": [],
   "source": [
    "-no | (logMBinv | e123)"
   ]
  },
  {
   "cell_type": "code",
   "execution_count": null,
   "metadata": {
    "collapsed": false
   },
   "outputs": [],
   "source": [
    "-logM * logM.rev()"
   ]
  },
  {
   "cell_type": "code",
   "execution_count": null,
   "metadata": {
    "collapsed": false
   },
   "outputs": [],
   "source": [
    "(-logM | no) * (-logM | no).rev()"
   ]
  },
  {
   "cell_type": "code",
   "execution_count": null,
   "metadata": {
    "collapsed": false
   },
   "outputs": [],
   "source": []
  },
  {
   "cell_type": "code",
   "execution_count": null,
   "metadata": {
    "collapsed": false
   },
   "outputs": [],
   "source": [
    "atmp = sin(theta) / sin(half * theta)\n",
    "atmp * e1"
   ]
  },
  {
   "cell_type": "code",
   "execution_count": null,
   "metadata": {
    "collapsed": false
   },
   "outputs": [],
   "source": [
    "(tex1) = symbols('t_3')\n",
    "trans = (2 * e2 + e3)\n",
    "tex = 1 - half * (2 * e2 + e3) * ni\n",
    "tex"
   ]
  },
  {
   "cell_type": "code",
   "execution_count": null,
   "metadata": {
    "collapsed": false
   },
   "outputs": [],
   "source": [
    "rex = cos(half * half * pi) - sin( half * half * pi) * e12\n",
    "rex"
   ]
  },
  {
   "cell_type": "code",
   "execution_count": null,
   "metadata": {
    "collapsed": false
   },
   "outputs": [],
   "source": [
    "mex = tex * rex\n",
    "mex"
   ]
  },
  {
   "cell_type": "code",
   "execution_count": null,
   "metadata": {
    "collapsed": false
   },
   "outputs": [],
   "source": []
  },
  {
   "cell_type": "code",
   "execution_count": null,
   "metadata": {
    "collapsed": false
   },
   "outputs": [],
   "source": [
    "(trans ^ e12) | e12.inv()"
   ]
  },
  {
   "cell_type": "code",
   "execution_count": null,
   "metadata": {
    "collapsed": false
   },
   "outputs": [],
   "source": [
    "(1 - rex * rex).inv() * ( ( trans | e12 ) | e12.inv() )"
   ]
  },
  {
   "cell_type": "code",
   "execution_count": null,
   "metadata": {
    "collapsed": false
   },
   "outputs": [],
   "source": [
    "(1 - rex * rex).inv() "
   ]
  },
  {
   "cell_type": "code",
   "execution_count": null,
   "metadata": {
    "collapsed": false
   },
   "outputs": [],
   "source": [
    "( ( trans | e12 ) | -e12  )"
   ]
  },
  {
   "cell_type": "code",
   "execution_count": null,
   "metadata": {
    "collapsed": false
   },
   "outputs": [],
   "source": [
    "( trans | e12 ) "
   ]
  },
  {
   "cell_type": "code",
   "execution_count": null,
   "metadata": {
    "collapsed": false
   },
   "outputs": [],
   "source": [
    "-(mex ^ ni ) | no"
   ]
  },
  {
   "cell_type": "code",
   "execution_count": null,
   "metadata": {
    "collapsed": false
   },
   "outputs": [],
   "source": [
    "mb = (1 - half * e1 * ni) * (cos(half * half * pi) - sin(half * half * pi) * e23) \n",
    "ma = mex * mb * mex.rev()\n",
    "ma"
   ]
  },
  {
   "cell_type": "code",
   "execution_count": null,
   "metadata": {
    "collapsed": false
   },
   "outputs": [],
   "source": [
    "mb0 = mb.get_grade(0)\n",
    "mb2 = mb.get_grade(2)\n",
    "mb4 = mb.get_grade(4)\n",
    "ma_grades = mex * mb0 * mex.rev() + mex * mb2 * mex.rev() + mex * mb4 * mex.rev()"
   ]
  },
  {
   "cell_type": "code",
   "execution_count": null,
   "metadata": {
    "collapsed": false
   },
   "outputs": [],
   "source": [
    "ma == ma_grades"
   ]
  },
  {
   "cell_type": "code",
   "execution_count": null,
   "metadata": {
    "collapsed": false
   },
   "outputs": [],
   "source": [
    "mb"
   ]
  },
  {
   "cell_type": "code",
   "execution_count": null,
   "metadata": {
    "collapsed": false
   },
   "outputs": [],
   "source": [
    "-no | (ma ^ ni)"
   ]
  },
  {
   "cell_type": "code",
   "execution_count": null,
   "metadata": {
    "collapsed": false
   },
   "outputs": [],
   "source": [
    "-no | (mb ^ ni)"
   ]
  },
  {
   "cell_type": "code",
   "execution_count": null,
   "metadata": {
    "collapsed": false
   },
   "outputs": [],
   "source": [
    "-no | ((mex * -e23 * mex.rev()) ^ ni )"
   ]
  },
  {
   "cell_type": "code",
   "execution_count": null,
   "metadata": {
    "collapsed": false
   },
   "outputs": [],
   "source": [
    "e23"
   ]
  },
  {
   "cell_type": "code",
   "execution_count": null,
   "metadata": {
    "collapsed": false
   },
   "outputs": [],
   "source": [
    "Ra = (-no | (ma * ni ) )\n",
    "ta = -2 * (no | ma) * Ra.inv()\n",
    "Ra"
   ]
  },
  {
   "cell_type": "code",
   "execution_count": null,
   "metadata": {
    "collapsed": false
   },
   "outputs": [],
   "source": [
    "Rb = (-no | (mb * ni ) )\n",
    "tb = -2 * (no | mb) * Rb.inv()\n",
    "Rb"
   ]
  },
  {
   "cell_type": "code",
   "execution_count": null,
   "metadata": {
    "collapsed": false
   },
   "outputs": [],
   "source": [
    "ta"
   ]
  },
  {
   "cell_type": "code",
   "execution_count": null,
   "metadata": {
    "collapsed": false
   },
   "outputs": [],
   "source": [
    "tb"
   ]
  },
  {
   "cell_type": "code",
   "execution_count": null,
   "metadata": {
    "collapsed": false
   },
   "outputs": [],
   "source": [
    "-(tb ^ -e23) | -e23.inv()"
   ]
  },
  {
   "cell_type": "code",
   "execution_count": null,
   "metadata": {
    "collapsed": false
   },
   "outputs": [],
   "source": [
    "-(ta ^ e13) | e13.inv()"
   ]
  },
  {
   "cell_type": "code",
   "execution_count": null,
   "metadata": {
    "collapsed": false
   },
   "outputs": [],
   "source": [
    "#(ta ^ )"
   ]
  },
  {
   "cell_type": "code",
   "execution_count": null,
   "metadata": {
    "collapsed": false
   },
   "outputs": [],
   "source": [
    "log = (((trans ^ e12) | e12.inv()) + ((1 - rex * rex).inv() * ( ( trans | ((half * theta) * e12) ) | e12.inv() ) )) * (half * ni) - (half * e12 * (half * theta))"
   ]
  },
  {
   "cell_type": "code",
   "execution_count": null,
   "metadata": {
    "collapsed": false
   },
   "outputs": [],
   "source": [
    "1 + log + (log * log / 2)"
   ]
  },
  {
   "cell_type": "code",
   "execution_count": null,
   "metadata": {
    "collapsed": false
   },
   "outputs": [],
   "source": [
    "mex"
   ]
  },
  {
   "cell_type": "code",
   "execution_count": null,
   "metadata": {
    "collapsed": false
   },
   "outputs": [],
   "source": [
    "pihalf = half * pi\n",
    "h = (1 / pihalf)\n",
    "(- pihalf * half * e12) + (( pihalf * half ) * (trans | e12) + h * e3  ) * ni"
   ]
  },
  {
   "cell_type": "code",
   "execution_count": null,
   "metadata": {
    "collapsed": false
   },
   "outputs": [],
   "source": [
    "trans | e12"
   ]
  },
  {
   "cell_type": "code",
   "execution_count": null,
   "metadata": {
    "collapsed": false
   },
   "outputs": [],
   "source": [
    "testLog = (-theta * half * e12) + ((theta * half) * (trans | e12) + (2 * e12 * -e123)) * ni\n",
    "testLog"
   ]
  },
  {
   "cell_type": "code",
   "execution_count": null,
   "metadata": {
    "collapsed": false
   },
   "outputs": [],
   "source": [
    "testLog * testLog.rev()"
   ]
  },
  {
   "cell_type": "code",
   "execution_count": null,
   "metadata": {
    "collapsed": false
   },
   "outputs": [],
   "source": [
    "TRT = translator * rotor * translator.rev()\n",
    "TRT.Fmt(3)"
   ]
  },
  {
   "cell_type": "code",
   "execution_count": null,
   "metadata": {
    "collapsed": false
   },
   "outputs": [],
   "source": [
    "translator"
   ]
  },
  {
   "cell_type": "code",
   "execution_count": null,
   "metadata": {
    "collapsed": false
   },
   "outputs": [],
   "source": [
    "motor = translator * rotor\n",
    "motor"
   ]
  },
  {
   "cell_type": "code",
   "execution_count": null,
   "metadata": {
    "collapsed": false
   },
   "outputs": [],
   "source": [
    "motor.Fmt(3)"
   ]
  },
  {
   "cell_type": "code",
   "execution_count": null,
   "metadata": {
    "collapsed": false
   },
   "outputs": [],
   "source": [
    "m0 = motor.get_grade(0)\n",
    "m2 = motor.get_grade(2)\n",
    "m4 = motor.get_grade(4)\n",
    "-no | m2"
   ]
  },
  {
   "cell_type": "code",
   "execution_count": null,
   "metadata": {
    "collapsed": false
   },
   "outputs": [],
   "source": [
    "rr = -no | (motor ^ ni)\n",
    "rr"
   ]
  },
  {
   "cell_type": "code",
   "execution_count": null,
   "metadata": {
    "collapsed": false
   },
   "outputs": [],
   "source": [
    "rr == rotor"
   ]
  },
  {
   "cell_type": "code",
   "execution_count": null,
   "metadata": {
    "collapsed": false
   },
   "outputs": [],
   "source": [
    "-rotor.get_grade(2) * rotor.get_grade(2)"
   ]
  },
  {
   "cell_type": "code",
   "execution_count": null,
   "metadata": {
    "collapsed": false
   },
   "outputs": [],
   "source": [
    "-2 * (no | motor) * rr.inv()"
   ]
  },
  {
   "cell_type": "code",
   "execution_count": null,
   "metadata": {
    "collapsed": false
   },
   "outputs": [],
   "source": [
    "rr2 = rr.get_grade(2)\n",
    "rr2"
   ]
  },
  {
   "cell_type": "code",
   "execution_count": null,
   "metadata": {
    "collapsed": false
   },
   "outputs": [],
   "source": [
    "1  * (-rr2 * rr2).inv()"
   ]
  },
  {
   "cell_type": "code",
   "execution_count": null,
   "metadata": {
    "collapsed": false
   },
   "outputs": [],
   "source": [
    "atan2(sin(theta * half) , cos(theta * half)) * e1"
   ]
  },
  {
   "cell_type": "code",
   "execution_count": null,
   "metadata": {
    "collapsed": false
   },
   "outputs": [],
   "source": [
    "(-no | motor) * rotor.inv()"
   ]
  },
  {
   "cell_type": "code",
   "execution_count": null,
   "metadata": {
    "collapsed": false
   },
   "outputs": [],
   "source": [
    "(motor * B * motor.rev()) | (motor * B * motor.rev()).rev()"
   ]
  },
  {
   "cell_type": "code",
   "execution_count": null,
   "metadata": {
    "collapsed": false
   },
   "outputs": [],
   "source": [
    "MBMrev = motor * B * motor.rev()"
   ]
  },
  {
   "cell_type": "code",
   "execution_count": null,
   "metadata": {
    "collapsed": false
   },
   "outputs": [],
   "source": [
    "(motor * B * motor.rev()).rev() + (motor.rev() * B.rev() * motor)"
   ]
  },
  {
   "cell_type": "code",
   "execution_count": null,
   "metadata": {
    "collapsed": false
   },
   "outputs": [],
   "source": [
    "motor.rev() * B.rev() * motor"
   ]
  },
  {
   "cell_type": "code",
   "execution_count": null,
   "metadata": {
    "collapsed": false
   },
   "outputs": [],
   "source": [
    "motor * (-e123 * ni) * motor.inv()"
   ]
  },
  {
   "cell_type": "code",
   "execution_count": null,
   "metadata": {
    "collapsed": false
   },
   "outputs": [],
   "source": [
    "motor * translator * motor.rev()"
   ]
  },
  {
   "cell_type": "code",
   "execution_count": null,
   "metadata": {
    "collapsed": false
   },
   "outputs": [],
   "source": [
    "(motor * (-no | translator) * motor.rev() ) ^ni"
   ]
  },
  {
   "cell_type": "code",
   "execution_count": null,
   "metadata": {
    "collapsed": false
   },
   "outputs": [],
   "source": [
    "- no | (motor * translator * motor.rev())"
   ]
  },
  {
   "cell_type": "code",
   "execution_count": null,
   "metadata": {
    "collapsed": false
   },
   "outputs": [],
   "source": [
    "MlogMMrev = (motor * logM * motor.rev() )\n",
    "MlogMMrev"
   ]
  },
  {
   "cell_type": "code",
   "execution_count": null,
   "metadata": {
    "collapsed": false
   },
   "outputs": [],
   "source": [
    "2 * -no | ( (((no | MlogMMrev) * MBMrev.inv()) ^ ni) | e123)"
   ]
  },
  {
   "cell_type": "code",
   "execution_count": null,
   "metadata": {
    "collapsed": false
   },
   "outputs": [],
   "source": [
    "(no | MlogMMrev) * MBMrev.inv()"
   ]
  },
  {
   "cell_type": "code",
   "execution_count": null,
   "metadata": {
    "collapsed": false
   },
   "outputs": [],
   "source": [
    "mnorm = (no | ( MlogMMrev ^ ni) ) * (no | ( MlogMMrev ^ ni).rev())\n",
    "mnorm"
   ]
  },
  {
   "cell_type": "code",
   "execution_count": null,
   "metadata": {
    "collapsed": false
   },
   "outputs": [],
   "source": [
    "(- (no | MlogMMrev)).Fmt(2)"
   ]
  },
  {
   "cell_type": "code",
   "execution_count": null,
   "metadata": {
    "collapsed": false
   },
   "outputs": [],
   "source": [
    "(B * B.rev()) * (B * B.rev())"
   ]
  },
  {
   "cell_type": "code",
   "execution_count": null,
   "metadata": {
    "collapsed": false
   },
   "outputs": [],
   "source": [
    "MBMrev = (motor * B * motor.rev())"
   ]
  },
  {
   "cell_type": "code",
   "execution_count": null,
   "metadata": {
    "collapsed": false
   },
   "outputs": [],
   "source": [
    "Bnorm = MBMrev * MBMrev.rev()\n",
    "Bnorm"
   ]
  },
  {
   "cell_type": "code",
   "execution_count": null,
   "metadata": {
    "collapsed": false
   },
   "outputs": [],
   "source": [
    "((B * rotation_plane) * (B * rotation_plane).rev()) - (( B * B  ) * (rotation_plane * rotation_plane))"
   ]
  },
  {
   "cell_type": "code",
   "execution_count": null,
   "metadata": {
    "collapsed": false
   },
   "outputs": [],
   "source": []
  },
  {
   "cell_type": "code",
   "execution_count": null,
   "metadata": {
    "collapsed": false
   },
   "outputs": [],
   "source": [
    " (( motor | no ) | e123 ) | e123"
   ]
  },
  {
   "cell_type": "code",
   "execution_count": null,
   "metadata": {
    "collapsed": false
   },
   "outputs": [],
   "source": [
    "(  (  motor ^ ni ) | no ) | -e123"
   ]
  },
  {
   "cell_type": "code",
   "execution_count": null,
   "metadata": {
    "collapsed": false
   },
   "outputs": [],
   "source": [
    "((((motor ^ ni ) ^ e123) | no ) | -e123)"
   ]
  },
  {
   "cell_type": "code",
   "execution_count": null,
   "metadata": {
    "collapsed": false
   },
   "outputs": [],
   "source": [
    "motor_constraint_eq = motor * motor.rev()\n",
    "motor_constraint_eq"
   ]
  },
  {
   "cell_type": "code",
   "execution_count": null,
   "metadata": {
    "collapsed": false
   },
   "outputs": [],
   "source": [
    "ts,_ = make_euclidean_vector('s',ga=c3d)\n",
    "tv,_ = make_euclidean_vector('v',ga=c3d)\n",
    "ts"
   ]
  },
  {
   "cell_type": "code",
   "execution_count": null,
   "metadata": {
    "collapsed": false
   },
   "outputs": [],
   "source": []
  },
  {
   "cell_type": "code",
   "execution_count": null,
   "metadata": {
    "collapsed": false
   },
   "outputs": [],
   "source": []
  },
  {
   "cell_type": "code",
   "execution_count": null,
   "metadata": {
    "collapsed": false
   },
   "outputs": [],
   "source": [
    "(v1, v2, v3) = symbols('v_1,v_2,v_3')\n",
    "(w1, w2, w3) = symbols('w_1,w_2,w_3')\n",
    "# translator_s = one - half * (s12 * ) * ni\n",
    "translator_v = one - half * tv * ni\n",
    "# translator_s = one - half *  * ni\n",
    "# translator_s"
   ]
  },
  {
   "cell_type": "code",
   "execution_count": null,
   "metadata": {
    "collapsed": false
   },
   "outputs": [],
   "source": [
    "translator_v"
   ]
  },
  {
   "cell_type": "code",
   "execution_count": null,
   "metadata": {
    "collapsed": false
   },
   "outputs": [],
   "source": [
    "translation_w = ( w1 * e1 - w2 * e2 + w3 * e3  )\n",
    "translator_w = one - half * translation_w * ni\n",
    "translator_w"
   ]
  },
  {
   "cell_type": "code",
   "execution_count": null,
   "metadata": {
    "collapsed": false
   },
   "outputs": [],
   "source": [
    "screw = translator_w * translator_v * rotor * translator_v.rev()\n",
    "screw"
   ]
  },
  {
   "cell_type": "code",
   "execution_count": null,
   "metadata": {
    "collapsed": false
   },
   "outputs": [],
   "source": [
    "(-screw | no) ^ rotor"
   ]
  },
  {
   "cell_type": "code",
   "execution_count": null,
   "metadata": {
    "collapsed": false
   },
   "outputs": [],
   "source": [
    "screw_constraint_eq = screw * screw.rev() - one\n",
    "screw_constraint_eq"
   ]
  },
  {
   "cell_type": "code",
   "execution_count": null,
   "metadata": {
    "collapsed": false
   },
   "outputs": [],
   "source": []
  },
  {
   "cell_type": "code",
   "execution_count": null,
   "metadata": {
    "collapsed": false
   },
   "outputs": [],
   "source": [
    "screw.get_grade(2).Fmt(3)"
   ]
  },
  {
   "cell_type": "code",
   "execution_count": null,
   "metadata": {
    "collapsed": false
   },
   "outputs": [],
   "source": [
    "rotor * rotor.rev()"
   ]
  },
  {
   "cell_type": "code",
   "execution_count": null,
   "metadata": {
    "collapsed": false
   },
   "outputs": [],
   "source": [
    "e1 ^ ni"
   ]
  },
  {
   "cell_type": "code",
   "execution_count": null,
   "metadata": {
    "collapsed": false
   },
   "outputs": [],
   "source": [
    "(e1 ^ ni) * (e1 ^ ni).rev()"
   ]
  },
  {
   "cell_type": "markdown",
   "metadata": {},
   "source": [
    "## Lines"
   ]
  },
  {
   "cell_type": "code",
   "execution_count": 17,
   "metadata": {
    "collapsed": false
   },
   "outputs": [],
   "source": [
    "def Point(x):\n",
    "    global no, ni\n",
    "    P = x + half * x * x * ni + no\n",
    "    return P"
   ]
  },
  {
   "cell_type": "code",
   "execution_count": 18,
   "metadata": {
    "collapsed": false
   },
   "outputs": [
    {
     "ename": "NameError",
     "evalue": "name 'rho' is not defined",
     "output_type": "error",
     "traceback": [
      "\u001b[1;31m---------------------------------------------------------------------------\u001b[0m",
      "\u001b[1;31mNameError\u001b[0m                                 Traceback (most recent call last)",
      "\u001b[1;32m<ipython-input-18-9c1d06a442e5>\u001b[0m in \u001b[0;36m<module>\u001b[1;34m()\u001b[0m\n\u001b[1;32m----> 1\u001b[1;33m \u001b[0mS\u001b[0m \u001b[1;33m=\u001b[0m \u001b[0mPoint\u001b[0m\u001b[1;33m(\u001b[0m\u001b[0ma\u001b[0m\u001b[1;33m)\u001b[0m \u001b[1;33m-\u001b[0m \u001b[0mhalf\u001b[0m \u001b[1;33m*\u001b[0m \u001b[0mrho\u001b[0m\u001b[1;33m**\u001b[0m\u001b[1;36m2\u001b[0m \u001b[1;33m*\u001b[0m \u001b[0mni\u001b[0m\u001b[1;33m\u001b[0m\u001b[0m\n\u001b[0m\u001b[0;32m      2\u001b[0m \u001b[0mS\u001b[0m\u001b[1;33m\u001b[0m\u001b[0m\n",
      "\u001b[1;31mNameError\u001b[0m: name 'rho' is not defined"
     ]
    }
   ],
   "source": [
    "S = Point(a) - half * rho**2 * ni\n",
    "S"
   ]
  },
  {
   "cell_type": "code",
   "execution_count": 178,
   "metadata": {
    "collapsed": false
   },
   "outputs": [
    {
     "data": {
      "text/latex": [
       "\\begin{equation*} \\frac{\\rho ^{2}}{2} - \\frac{1}{2} {\\left ( a_{1} \\right )}^{2} + a_{1} c_{1} - \\frac{1}{2} {\\left ( a_{2} \\right )}^{2} + a_{2} c_{2} - \\frac{1}{2} {\\left ( a_{3} \\right )}^{2} + a_{3} c_{3} - \\frac{1}{2} {\\left ( c_{1} \\right )}^{2} - \\frac{1}{2} {\\left ( c_{2} \\right )}^{2} - \\frac{1}{2} {\\left ( c_{3} \\right )}^{2} \\end{equation*}"
      ],
      "text/plain": [
       "\\frac{\\rho ^{2}}{2} - \\frac{1}{2} {\\left ( a_{1} \\right )}^{2} + a_{1} c_{1} - \\frac{1}{2} {\\left ( a_{2} \\right )}^{2} + a_{2} c_{2} - \\frac{1}{2} {\\left ( a_{3} \\right )}^{2} + a_{3} c_{3} - \\frac{1}{2} {\\left ( c_{1} \\right )}^{2} - \\frac{1}{2} {\\left ( c_{2} \\right )}^{2} - \\frac{1}{2} {\\left ( c_{3} \\right )}^{2}"
      ]
     },
     "execution_count": 178,
     "metadata": {},
     "output_type": "execute_result"
    }
   ],
   "source": [
    "(C | S)"
   ]
  },
  {
   "cell_type": "code",
   "execution_count": 180,
   "metadata": {
    "collapsed": false
   },
   "outputs": [
    {
     "ename": "TypeError",
     "evalue": "unsupported operand type(s) for /: 'One' and 'Mv'",
     "output_type": "error",
     "traceback": [
      "\u001b[1;31m---------------------------------------------------------------------------\u001b[0m",
      "\u001b[1;31mTypeError\u001b[0m                                 Traceback (most recent call last)",
      "\u001b[1;32m<ipython-input-180-2d678d84c764>\u001b[0m in \u001b[0;36m<module>\u001b[1;34m()\u001b[0m\n\u001b[1;32m----> 1\u001b[1;33m \u001b[0mone\u001b[0m \u001b[1;33m/\u001b[0m \u001b[0mS\u001b[0m \u001b[1;33m*\u001b[0m \u001b[0mS\u001b[0m\u001b[1;33m\u001b[0m\u001b[0m\n\u001b[0m",
      "\u001b[1;31mTypeError\u001b[0m: unsupported operand type(s) for /: 'One' and 'Mv'"
     ]
    }
   ],
   "source": [
    "one S * S"
   ]
  },
  {
   "cell_type": "code",
   "execution_count": 13,
   "metadata": {
    "collapsed": false
   },
   "outputs": [],
   "source": [
    "def Line(P, u):\n",
    "    global no, ni\n",
    "    L = P ^ u ^ ni\n",
    "    return L\n",
    "\n",
    "def Line2(P, Q):\n",
    "    global no, ni\n",
    "    L = P ^ Q ^ ni\n",
    "    return L"
   ]
  },
  {
   "cell_type": "code",
   "execution_count": 14,
   "metadata": {
    "collapsed": false
   },
   "outputs": [],
   "source": [
    "def dual(x):\n",
    "    global pseudo_scalar\n",
    "    return x * pseudo_scalar.inv()"
   ]
  },
  {
   "cell_type": "code",
   "execution_count": 15,
   "metadata": {
    "collapsed": false
   },
   "outputs": [],
   "source": [
    "def meet(a,b):\n",
    "    return dual(dual(a) ^ dual(b))"
   ]
  },
  {
   "cell_type": "code",
   "execution_count": 19,
   "metadata": {
    "collapsed": false
   },
   "outputs": [],
   "source": [
    "a,_ = make_euclidean_vector('a',ga=c3d)\n",
    "b,_ = make_euclidean_vector('b',ga=c3d)\n",
    "c,_ = make_euclidean_vector('c',ga=c3d)\n",
    "d,_ = make_euclidean_vector('c',ga=c3d)\n",
    "u,_ = make_euclidean_vector('u',ga=c3d)\n",
    "v,_ = make_euclidean_vector('v',ga=c3d)\n",
    "A = Point(a)\n",
    "B = Point(b)\n",
    "C = Point(c)\n",
    "D = Point(d)\n",
    "La = Line(A,u)\n",
    "Lb = Line(B,v)\n",
    "Lc = Line2(A,B)\n",
    "dLa = dual(La)\n",
    "dLb = dual(Lb)\n",
    "dLc = dual(Lc)"
   ]
  },
  {
   "cell_type": "code",
   "execution_count": 22,
   "metadata": {
    "collapsed": false
   },
   "outputs": [
    {
     "data": {
      "text/latex": [
       "\\begin{equation*} - u_{1} v_{1} - u_{2} v_{2} - u_{3} v_{3} \\end{equation*}"
      ],
      "text/plain": [
       "- u_{1} v_{1} - u_{2} v_{2} - u_{3} v_{3}"
      ]
     },
     "execution_count": 22,
     "metadata": {},
     "output_type": "execute_result"
    }
   ],
   "source": [
    "dLa | dLb"
   ]
  },
  {
   "cell_type": "code",
   "execution_count": 142,
   "metadata": {
    "collapsed": false
   },
   "outputs": [
    {
     "data": {
      "text/latex": [
       " \\begin{align*}  & \\left ( {\\left ( u_{1} \\right )}^{2} + {\\left ( u_{2} \\right )}^{2} + {\\left ( u_{3} \\right )}^{2}\\right )  \\\\  &  + u_{1} \\left(\\alpha  - \\gamma \\right) \\boldsymbol{e}_{1}\\wedge \\boldsymbol{n}_{\\infty} + u_{2} \\left(\\alpha  - \\gamma \\right) \\boldsymbol{e}_{2}\\wedge \\boldsymbol{n}_{\\infty} + u_{3} \\left(\\alpha  - \\gamma \\right) \\boldsymbol{e}_{3}\\wedge \\boldsymbol{n}_{\\infty}  \\end{align*} \n"
      ],
      "text/plain": [
       " \\begin{align*}  & \\left ( {\\left ( u_{1} \\right )}^{2} + {\\left ( u_{2} \\right )}^{2} + {\\left ( u_{3} \\right )}^{2}\\right )  \\\\  &  + u_{1} \\left(\\alpha  - \\gamma \\right) \\boldsymbol{e}_{1}\\wedge \\boldsymbol{n}_{\\infty} + u_{2} \\left(\\alpha  - \\gamma \\right) \\boldsymbol{e}_{2}\\wedge \\boldsymbol{n}_{\\infty} + u_{3} \\left(\\alpha  - \\gamma \\right) \\boldsymbol{e}_{3}\\wedge \\boldsymbol{n}_{\\infty}  \\end{align*} "
      ]
     },
     "execution_count": 142,
     "metadata": {},
     "output_type": "execute_result"
    }
   ],
   "source": [
    "(u + gamma * ni)*(u +alpha * ni)"
   ]
  },
  {
   "cell_type": "code",
   "execution_count": 146,
   "metadata": {
    "collapsed": false
   },
   "outputs": [
    {
     "data": {
      "text/latex": [
       " \\begin{align*}  & 1  \\\\  &  + u_{1} \\left(\\alpha  - \\gamma \\right) \\boldsymbol{e}_{1}\\wedge \\boldsymbol{n}_{\\infty} + u_{2} \\left(\\alpha  - \\gamma \\right) \\boldsymbol{e}_{2}\\wedge \\boldsymbol{n}_{\\infty} + u_{3} \\left(\\alpha  - \\gamma \\right) \\boldsymbol{e}_{3}\\wedge \\boldsymbol{n}_{\\infty}  \\end{align*} \n"
      ],
      "text/plain": [
       " \\begin{align*}  & 1  \\\\  &  + u_{1} \\left(\\alpha  - \\gamma \\right) \\boldsymbol{e}_{1}\\wedge \\boldsymbol{n}_{\\infty} + u_{2} \\left(\\alpha  - \\gamma \\right) \\boldsymbol{e}_{2}\\wedge \\boldsymbol{n}_{\\infty} + u_{3} \\left(\\alpha  - \\gamma \\right) \\boldsymbol{e}_{3}\\wedge \\boldsymbol{n}_{\\infty}  \\end{align*} "
      ]
     },
     "execution_count": 146,
     "metadata": {},
     "output_type": "execute_result"
    }
   ],
   "source": [
    "1 + (alpha - gamma)*u*ni"
   ]
  },
  {
   "cell_type": "code",
   "execution_count": 135,
   "metadata": {
    "collapsed": false
   },
   "outputs": [
    {
     "data": {
      "text/latex": [
       "\\begin{equation*} a_{1} \\boldsymbol{e}_{1} + a_{2} \\boldsymbol{e}_{2} + a_{3} \\boldsymbol{e}_{3} + \\boldsymbol{n}_{o} + \\left ( \\frac{1}{2} {\\left ( a_{1} \\right )}^{2} + \\frac{1}{2} {\\left ( a_{2} \\right )}^{2} + \\frac{1}{2} {\\left ( a_{3} \\right )}^{2}\\right ) \\boldsymbol{n}_{\\infty} \\end{equation*}"
      ],
      "text/plain": [
       "a_{1} \\boldsymbol{e}_{1} + a_{2} \\boldsymbol{e}_{2} + a_{3} \\boldsymbol{e}_{3} + \\boldsymbol{n}_{o} + \\left ( \\frac{1}{2} {\\left ( a_{1} \\right )}^{2} + \\frac{1}{2} {\\left ( a_{2} \\right )}^{2} + \\frac{1}{2} {\\left ( a_{3} \\right )}^{2}\\right ) \\boldsymbol{n}_{\\infty}"
      ]
     },
     "execution_count": 135,
     "metadata": {},
     "output_type": "execute_result"
    }
   ],
   "source": [
    "dual(-dual(A))"
   ]
  },
  {
   "cell_type": "code",
   "execution_count": 160,
   "metadata": {
    "collapsed": false
   },
   "outputs": [
    {
     "data": {
      "text/latex": [
       "\\begin{equation*} \\left ( B_{12} \\gamma  a_{3} - B_{12} \\gamma  c_{3} - B_{12} \\theta  a_{3} + B_{12} \\theta  c_{3} - B_{13} \\gamma  a_{2} + B_{13} \\gamma  c_{2} + B_{13} \\theta  a_{2} - B_{13} \\theta  c_{2} + B_{23} \\gamma  a_{1} - B_{23} \\gamma  c_{1} - B_{23} \\theta  a_{1} + B_{23} \\theta  c_{1}\\right ) \\boldsymbol{e}_{1}\\wedge \\boldsymbol{e}_{2}\\wedge \\boldsymbol{e}_{3}\\wedge \\boldsymbol{n}_{o}\\wedge \\boldsymbol{n}_{\\infty} \\end{equation*}"
      ],
      "text/plain": [
       "\\left ( B_{12} \\gamma  a_{3} - B_{12} \\gamma  c_{3} - B_{12} \\theta  a_{3} + B_{12} \\theta  c_{3} - B_{13} \\gamma  a_{2} + B_{13} \\gamma  c_{2} + B_{13} \\theta  a_{2} - B_{13} \\theta  c_{2} + B_{23} \\gamma  a_{1} - B_{23} \\gamma  c_{1} - B_{23} \\theta  a_{1} + B_{23} \\theta  c_{1}\\right ) \\boldsymbol{e}_{1}\\wedge \\boldsymbol{e}_{2}\\wedge \\boldsymbol{e}_{3}\\wedge \\boldsymbol{n}_{o}\\wedge \\boldsymbol{n}_{\\infty}"
      ]
     },
     "execution_count": 160,
     "metadata": {},
     "output_type": "execute_result"
    }
   ],
   "source": [
    "from sympy.abc import x, theta, rho\n",
    "S1 = (A - alpha*ni)\n",
    "S2 = (B - beta*ni)\n",
    "S3 = (C - gamma*ni)\n",
    "S4 = (D - theta*ni)\n",
    "(S1 ^ S2 ^ S3 ^ S4)"
   ]
  },
  {
   "cell_type": "code",
   "execution_count": 128,
   "metadata": {
    "collapsed": false
   },
   "outputs": [
    {
     "data": {
      "text/latex": [
       "\\begin{equation*} \\left ( a_{1} b_{2} - a_{2} b_{1}\\right ) \\boldsymbol{e}_{1}\\wedge \\boldsymbol{e}_{2} + \\left ( a_{1} b_{3} - a_{3} b_{1}\\right ) \\boldsymbol{e}_{1}\\wedge \\boldsymbol{e}_{3} + \\left ( a_{1} - b_{1}\\right ) \\boldsymbol{e}_{1}\\wedge \\boldsymbol{n}_{o} + \\left ( - \\frac{b_{1}}{2} {\\left ( a_{1} \\right )}^{2} + \\frac{a_{1}}{2} {\\left ( b_{1} \\right )}^{2} + \\frac{a_{1}}{2} {\\left ( b_{2} \\right )}^{2} + \\frac{a_{1}}{2} {\\left ( b_{3} \\right )}^{2} - \\frac{b_{1}}{2} {\\left ( a_{2} \\right )}^{2} - \\frac{b_{1}}{2} {\\left ( a_{3} \\right )}^{2}\\right ) \\boldsymbol{e}_{1}\\wedge \\boldsymbol{n}_{\\infty} + \\left ( a_{2} b_{3} - a_{3} b_{2}\\right ) \\boldsymbol{e}_{2}\\wedge \\boldsymbol{e}_{3} + \\left ( a_{2} - b_{2}\\right ) \\boldsymbol{e}_{2}\\wedge \\boldsymbol{n}_{o} + \\left ( - \\frac{b_{2}}{2} {\\left ( a_{1} \\right )}^{2} - \\frac{b_{2}}{2} {\\left ( a_{2} \\right )}^{2} + \\frac{a_{2}}{2} {\\left ( b_{1} \\right )}^{2} + \\frac{a_{2}}{2} {\\left ( b_{2} \\right )}^{2} + \\frac{a_{2}}{2} {\\left ( b_{3} \\right )}^{2} - \\frac{b_{2}}{2} {\\left ( a_{3} \\right )}^{2}\\right ) \\boldsymbol{e}_{2}\\wedge \\boldsymbol{n}_{\\infty} + \\left ( a_{3} - b_{3}\\right ) \\boldsymbol{e}_{3}\\wedge \\boldsymbol{n}_{o} + \\left ( - \\frac{b_{3}}{2} {\\left ( a_{1} \\right )}^{2} - \\frac{b_{3}}{2} {\\left ( a_{2} \\right )}^{2} - \\frac{b_{3}}{2} {\\left ( a_{3} \\right )}^{2} + \\frac{a_{3}}{2} {\\left ( b_{1} \\right )}^{2} + \\frac{a_{3}}{2} {\\left ( b_{2} \\right )}^{2} + \\frac{a_{3}}{2} {\\left ( b_{3} \\right )}^{2}\\right ) \\boldsymbol{e}_{3}\\wedge \\boldsymbol{n}_{\\infty} + \\left ( - \\frac{1}{2} {\\left ( a_{1} \\right )}^{2} - \\frac{1}{2} {\\left ( a_{2} \\right )}^{2} - \\frac{1}{2} {\\left ( a_{3} \\right )}^{2} + \\frac{1}{2} {\\left ( b_{1} \\right )}^{2} + \\frac{1}{2} {\\left ( b_{2} \\right )}^{2} + \\frac{1}{2} {\\left ( b_{3} \\right )}^{2}\\right ) \\boldsymbol{n}_{o}\\wedge \\boldsymbol{n}_{\\infty} \\end{equation*}"
      ],
      "text/plain": [
       "\\left ( a_{1} b_{2} - a_{2} b_{1}\\right ) \\boldsymbol{e}_{1}\\wedge \\boldsymbol{e}_{2} + \\left ( a_{1} b_{3} - a_{3} b_{1}\\right ) \\boldsymbol{e}_{1}\\wedge \\boldsymbol{e}_{3} + \\left ( a_{1} - b_{1}\\right ) \\boldsymbol{e}_{1}\\wedge \\boldsymbol{n}_{o} + \\left ( - \\frac{b_{1}}{2} {\\left ( a_{1} \\right )}^{2} + \\frac{a_{1}}{2} {\\left ( b_{1} \\right )}^{2} + \\frac{a_{1}}{2} {\\left ( b_{2} \\right )}^{2} + \\frac{a_{1}}{2} {\\left ( b_{3} \\right )}^{2} - \\frac{b_{1}}{2} {\\left ( a_{2} \\right )}^{2} - \\frac{b_{1}}{2} {\\left ( a_{3} \\right )}^{2}\\right ) \\boldsymbol{e}_{1}\\wedge \\boldsymbol{n}_{\\infty} + \\left ( a_{2} b_{3} - a_{3} b_{2}\\right ) \\boldsymbol{e}_{2}\\wedge \\boldsymbol{e}_{3} + \\left ( a_{2} - b_{2}\\right ) \\boldsymbol{e}_{2}\\wedge \\boldsymbol{n}_{o} + \\left ( - \\frac{b_{2}}{2} {\\left ( a_{1} \\right )}^{2} - \\frac{b_{2}}{2} {\\left ( a_{2} \\right )}^{2} + \\frac{a_{2}}{2} {\\left ( b_{1} \\right )}^{2} + \\frac{a_{2}}{2} {\\left ( b_{2} \\right )}^{2} + \\frac{a_{2}}{2} {\\left ( b_{3} \\right )}^{2} - \\frac{b_{2}}{2} {\\left ( a_{3} \\right )}^{2}\\right ) \\boldsymbol{e}_{2}\\wedge \\boldsymbol{n}_{\\infty} + \\left ( a_{3} - b_{3}\\right ) \\boldsymbol{e}_{3}\\wedge \\boldsymbol{n}_{o} + \\left ( - \\frac{b_{3}}{2} {\\left ( a_{1} \\right )}^{2} - \\frac{b_{3}}{2} {\\left ( a_{2} \\right )}^{2} - \\frac{b_{3}}{2} {\\left ( a_{3} \\right )}^{2} + \\frac{a_{3}}{2} {\\left ( b_{1} \\right )}^{2} + \\frac{a_{3}}{2} {\\left ( b_{2} \\right )}^{2} + \\frac{a_{3}}{2} {\\left ( b_{3} \\right )}^{2}\\right ) \\boldsymbol{e}_{3}\\wedge \\boldsymbol{n}_{\\infty} + \\left ( - \\frac{1}{2} {\\left ( a_{1} \\right )}^{2} - \\frac{1}{2} {\\left ( a_{2} \\right )}^{2} - \\frac{1}{2} {\\left ( a_{3} \\right )}^{2} + \\frac{1}{2} {\\left ( b_{1} \\right )}^{2} + \\frac{1}{2} {\\left ( b_{2} \\right )}^{2} + \\frac{1}{2} {\\left ( b_{3} \\right )}^{2}\\right ) \\boldsymbol{n}_{o}\\wedge \\boldsymbol{n}_{\\infty}"
      ]
     },
     "execution_count": 128,
     "metadata": {},
     "output_type": "execute_result"
    }
   ],
   "source": [
    "(A ^ B)"
   ]
  },
  {
   "cell_type": "code",
   "execution_count": 158,
   "metadata": {
    "collapsed": false
   },
   "outputs": [
    {
     "data": {
      "text/latex": [
       "\\begin{equation*} 0 \n",
       " \\end{equation*}"
      ],
      "text/plain": [
       "0 "
      ]
     },
     "execution_count": 158,
     "metadata": {},
     "output_type": "execute_result"
    }
   ],
   "source": []
  },
  {
   "cell_type": "code",
   "execution_count": 18,
   "metadata": {
    "collapsed": false
   },
   "outputs": [
    {
     "data": {
      "text/latex": [
       "\\begin{equation*} \\left ( a_{1} b_{2} c_{3} - a_{1} b_{3} c_{2} - a_{2} b_{1} c_{3} + a_{2} b_{3} c_{1} + a_{3} b_{1} c_{2} - a_{3} b_{2} c_{1}\\right ) \\boldsymbol{e}_{1}\\wedge \\boldsymbol{e}_{2}\\wedge \\boldsymbol{e}_{3} + \\left ( a_{1} b_{2} - a_{1} c_{2} - a_{2} b_{1} + a_{2} c_{1} + b_{1} c_{2} - b_{2} c_{1}\\right ) \\boldsymbol{e}_{1}\\wedge \\boldsymbol{e}_{2}\\wedge \\boldsymbol{n}_{o} + \\left ( \\frac{b_{1} c_{2}}{2} {\\left ( a_{1} \\right )}^{2} - \\frac{b_{2} c_{1}}{2} {\\left ( a_{1} \\right )}^{2} - \\frac{a_{1} c_{2}}{2} {\\left ( b_{1} \\right )}^{2} - \\frac{a_{1} c_{2}}{2} {\\left ( b_{2} \\right )}^{2} + \\frac{a_{1} b_{2}}{2} {\\left ( c_{1} \\right )}^{2} + \\frac{a_{1} b_{2}}{2} {\\left ( c_{2} \\right )}^{2} + \\frac{a_{1} b_{2}}{2} {\\left ( c_{3} \\right )}^{2} - \\frac{a_{1} c_{2}}{2} {\\left ( b_{3} \\right )}^{2} + \\frac{b_{1} c_{2}}{2} {\\left ( a_{2} \\right )}^{2} - \\frac{b_{2} c_{1}}{2} {\\left ( a_{2} \\right )}^{2} + \\frac{a_{2} c_{1}}{2} {\\left ( b_{1} \\right )}^{2} - \\frac{a_{2} b_{1}}{2} {\\left ( c_{1} \\right )}^{2} - \\frac{a_{2} b_{1}}{2} {\\left ( c_{2} \\right )}^{2} - \\frac{a_{2} b_{1}}{2} {\\left ( c_{3} \\right )}^{2} + \\frac{a_{2} c_{1}}{2} {\\left ( b_{2} \\right )}^{2} + \\frac{a_{2} c_{1}}{2} {\\left ( b_{3} \\right )}^{2} + \\frac{b_{1} c_{2}}{2} {\\left ( a_{3} \\right )}^{2} - \\frac{b_{2} c_{1}}{2} {\\left ( a_{3} \\right )}^{2}\\right ) \\boldsymbol{e}_{1}\\wedge \\boldsymbol{e}_{2}\\wedge \\boldsymbol{n}_{\\infty} + \\left ( a_{1} b_{3} - a_{1} c_{3} - a_{3} b_{1} + a_{3} c_{1} + b_{1} c_{3} - b_{3} c_{1}\\right ) \\boldsymbol{e}_{1}\\wedge \\boldsymbol{e}_{3}\\wedge \\boldsymbol{n}_{o} + \\left ( \\frac{b_{1} c_{3}}{2} {\\left ( a_{1} \\right )}^{2} - \\frac{b_{3} c_{1}}{2} {\\left ( a_{1} \\right )}^{2} - \\frac{a_{1} c_{3}}{2} {\\left ( b_{1} \\right )}^{2} - \\frac{a_{1} c_{3}}{2} {\\left ( b_{2} \\right )}^{2} - \\frac{a_{1} c_{3}}{2} {\\left ( b_{3} \\right )}^{2} + \\frac{a_{1} b_{3}}{2} {\\left ( c_{1} \\right )}^{2} + \\frac{a_{1} b_{3}}{2} {\\left ( c_{2} \\right )}^{2} + \\frac{a_{1} b_{3}}{2} {\\left ( c_{3} \\right )}^{2} + \\frac{b_{1} c_{3}}{2} {\\left ( a_{2} \\right )}^{2} - \\frac{b_{3} c_{1}}{2} {\\left ( a_{2} \\right )}^{2} + \\frac{b_{1} c_{3}}{2} {\\left ( a_{3} \\right )}^{2} - \\frac{b_{3} c_{1}}{2} {\\left ( a_{3} \\right )}^{2} + \\frac{a_{3} c_{1}}{2} {\\left ( b_{1} \\right )}^{2} - \\frac{a_{3} b_{1}}{2} {\\left ( c_{1} \\right )}^{2} - \\frac{a_{3} b_{1}}{2} {\\left ( c_{2} \\right )}^{2} - \\frac{a_{3} b_{1}}{2} {\\left ( c_{3} \\right )}^{2} + \\frac{a_{3} c_{1}}{2} {\\left ( b_{2} \\right )}^{2} + \\frac{a_{3} c_{1}}{2} {\\left ( b_{3} \\right )}^{2}\\right ) \\boldsymbol{e}_{1}\\wedge \\boldsymbol{e}_{3}\\wedge \\boldsymbol{n}_{\\infty} + \\left ( \\frac{b_{1}}{2} {\\left ( a_{1} \\right )}^{2} - \\frac{c_{1}}{2} {\\left ( a_{1} \\right )}^{2} - \\frac{a_{1}}{2} {\\left ( b_{1} \\right )}^{2} - \\frac{a_{1}}{2} {\\left ( b_{2} \\right )}^{2} - \\frac{a_{1}}{2} {\\left ( b_{3} \\right )}^{2} + \\frac{a_{1}}{2} {\\left ( c_{1} \\right )}^{2} + \\frac{a_{1}}{2} {\\left ( c_{2} \\right )}^{2} + \\frac{a_{1}}{2} {\\left ( c_{3} \\right )}^{2} + \\frac{b_{1}}{2} {\\left ( a_{2} \\right )}^{2} - \\frac{c_{1}}{2} {\\left ( a_{2} \\right )}^{2} + \\frac{b_{1}}{2} {\\left ( a_{3} \\right )}^{2} - \\frac{c_{1}}{2} {\\left ( a_{3} \\right )}^{2} + \\frac{c_{1}}{2} {\\left ( b_{1} \\right )}^{2} - \\frac{b_{1}}{2} {\\left ( c_{1} \\right )}^{2} - \\frac{b_{1}}{2} {\\left ( c_{2} \\right )}^{2} - \\frac{b_{1}}{2} {\\left ( c_{3} \\right )}^{2} + \\frac{c_{1}}{2} {\\left ( b_{2} \\right )}^{2} + \\frac{c_{1}}{2} {\\left ( b_{3} \\right )}^{2}\\right ) \\boldsymbol{e}_{1}\\wedge \\boldsymbol{n}_{o}\\wedge \\boldsymbol{n}_{\\infty} + \\left ( a_{2} b_{3} - a_{2} c_{3} - a_{3} b_{2} + a_{3} c_{2} + b_{2} c_{3} - b_{3} c_{2}\\right ) \\boldsymbol{e}_{2}\\wedge \\boldsymbol{e}_{3}\\wedge \\boldsymbol{n}_{o} + \\left ( \\frac{b_{2} c_{3}}{2} {\\left ( a_{1} \\right )}^{2} - \\frac{b_{3} c_{2}}{2} {\\left ( a_{1} \\right )}^{2} + \\frac{b_{2} c_{3}}{2} {\\left ( a_{2} \\right )}^{2} - \\frac{b_{3} c_{2}}{2} {\\left ( a_{2} \\right )}^{2} - \\frac{a_{2} c_{3}}{2} {\\left ( b_{1} \\right )}^{2} - \\frac{a_{2} c_{3}}{2} {\\left ( b_{2} \\right )}^{2} - \\frac{a_{2} c_{3}}{2} {\\left ( b_{3} \\right )}^{2} + \\frac{a_{2} b_{3}}{2} {\\left ( c_{1} \\right )}^{2} + \\frac{a_{2} b_{3}}{2} {\\left ( c_{2} \\right )}^{2} + \\frac{a_{2} b_{3}}{2} {\\left ( c_{3} \\right )}^{2} + \\frac{b_{2} c_{3}}{2} {\\left ( a_{3} \\right )}^{2} - \\frac{b_{3} c_{2}}{2} {\\left ( a_{3} \\right )}^{2} + \\frac{a_{3} c_{2}}{2} {\\left ( b_{1} \\right )}^{2} + \\frac{a_{3} c_{2}}{2} {\\left ( b_{2} \\right )}^{2} - \\frac{a_{3} b_{2}}{2} {\\left ( c_{1} \\right )}^{2} - \\frac{a_{3} b_{2}}{2} {\\left ( c_{2} \\right )}^{2} - \\frac{a_{3} b_{2}}{2} {\\left ( c_{3} \\right )}^{2} + \\frac{a_{3} c_{2}}{2} {\\left ( b_{3} \\right )}^{2}\\right ) \\boldsymbol{e}_{2}\\wedge \\boldsymbol{e}_{3}\\wedge \\boldsymbol{n}_{\\infty} + \\left ( \\frac{b_{2}}{2} {\\left ( a_{1} \\right )}^{2} - \\frac{c_{2}}{2} {\\left ( a_{1} \\right )}^{2} + \\frac{b_{2}}{2} {\\left ( a_{2} \\right )}^{2} - \\frac{c_{2}}{2} {\\left ( a_{2} \\right )}^{2} - \\frac{a_{2}}{2} {\\left ( b_{1} \\right )}^{2} - \\frac{a_{2}}{2} {\\left ( b_{2} \\right )}^{2} - \\frac{a_{2}}{2} {\\left ( b_{3} \\right )}^{2} + \\frac{a_{2}}{2} {\\left ( c_{1} \\right )}^{2} + \\frac{a_{2}}{2} {\\left ( c_{2} \\right )}^{2} + \\frac{a_{2}}{2} {\\left ( c_{3} \\right )}^{2} + \\frac{b_{2}}{2} {\\left ( a_{3} \\right )}^{2} - \\frac{c_{2}}{2} {\\left ( a_{3} \\right )}^{2} + \\frac{c_{2}}{2} {\\left ( b_{1} \\right )}^{2} + \\frac{c_{2}}{2} {\\left ( b_{2} \\right )}^{2} - \\frac{b_{2}}{2} {\\left ( c_{1} \\right )}^{2} - \\frac{b_{2}}{2} {\\left ( c_{2} \\right )}^{2} - \\frac{b_{2}}{2} {\\left ( c_{3} \\right )}^{2} + \\frac{c_{2}}{2} {\\left ( b_{3} \\right )}^{2}\\right ) \\boldsymbol{e}_{2}\\wedge \\boldsymbol{n}_{o}\\wedge \\boldsymbol{n}_{\\infty} + \\left ( \\frac{b_{3}}{2} {\\left ( a_{1} \\right )}^{2} - \\frac{c_{3}}{2} {\\left ( a_{1} \\right )}^{2} + \\frac{b_{3}}{2} {\\left ( a_{2} \\right )}^{2} - \\frac{c_{3}}{2} {\\left ( a_{2} \\right )}^{2} + \\frac{b_{3}}{2} {\\left ( a_{3} \\right )}^{2} - \\frac{c_{3}}{2} {\\left ( a_{3} \\right )}^{2} - \\frac{a_{3}}{2} {\\left ( b_{1} \\right )}^{2} - \\frac{a_{3}}{2} {\\left ( b_{2} \\right )}^{2} - \\frac{a_{3}}{2} {\\left ( b_{3} \\right )}^{2} + \\frac{a_{3}}{2} {\\left ( c_{1} \\right )}^{2} + \\frac{a_{3}}{2} {\\left ( c_{2} \\right )}^{2} + \\frac{a_{3}}{2} {\\left ( c_{3} \\right )}^{2} + \\frac{c_{3}}{2} {\\left ( b_{1} \\right )}^{2} + \\frac{c_{3}}{2} {\\left ( b_{2} \\right )}^{2} + \\frac{c_{3}}{2} {\\left ( b_{3} \\right )}^{2} - \\frac{b_{3}}{2} {\\left ( c_{1} \\right )}^{2} - \\frac{b_{3}}{2} {\\left ( c_{2} \\right )}^{2} - \\frac{b_{3}}{2} {\\left ( c_{3} \\right )}^{2}\\right ) \\boldsymbol{e}_{3}\\wedge \\boldsymbol{n}_{o}\\wedge \\boldsymbol{n}_{\\infty} \\end{equation*}"
      ],
      "text/plain": [
       "\\left ( a_{1} b_{2} c_{3} - a_{1} b_{3} c_{2} - a_{2} b_{1} c_{3} + a_{2} b_{3} c_{1} + a_{3} b_{1} c_{2} - a_{3} b_{2} c_{1}\\right ) \\boldsymbol{e}_{1}\\wedge \\boldsymbol{e}_{2}\\wedge \\boldsymbol{e}_{3} + \\left ( a_{1} b_{2} - a_{1} c_{2} - a_{2} b_{1} + a_{2} c_{1} + b_{1} c_{2} - b_{2} c_{1}\\right ) \\boldsymbol{e}_{1}\\wedge \\boldsymbol{e}_{2}\\wedge \\boldsymbol{n}_{o} + \\left ( \\frac{b_{1} c_{2}}{2} {\\left ( a_{1} \\right )}^{2} - \\frac{b_{2} c_{1}}{2} {\\left ( a_{1} \\right )}^{2} - \\frac{a_{1} c_{2}}{2} {\\left ( b_{1} \\right )}^{2} - \\frac{a_{1} c_{2}}{2} {\\left ( b_{2} \\right )}^{2} + \\frac{a_{1} b_{2}}{2} {\\left ( c_{1} \\right )}^{2} + \\frac{a_{1} b_{2}}{2} {\\left ( c_{2} \\right )}^{2} + \\frac{a_{1} b_{2}}{2} {\\left ( c_{3} \\right )}^{2} - \\frac{a_{1} c_{2}}{2} {\\left ( b_{3} \\right )}^{2} + \\frac{b_{1} c_{2}}{2} {\\left ( a_{2} \\right )}^{2} - \\frac{b_{2} c_{1}}{2} {\\left ( a_{2} \\right )}^{2} + \\frac{a_{2} c_{1}}{2} {\\left ( b_{1} \\right )}^{2} - \\frac{a_{2} b_{1}}{2} {\\left ( c_{1} \\right )}^{2} - \\frac{a_{2} b_{1}}{2} {\\left ( c_{2} \\right )}^{2} - \\frac{a_{2} b_{1}}{2} {\\left ( c_{3} \\right )}^{2} + \\frac{a_{2} c_{1}}{2} {\\left ( b_{2} \\right )}^{2} + \\frac{a_{2} c_{1}}{2} {\\left ( b_{3} \\right )}^{2} + \\frac{b_{1} c_{2}}{2} {\\left ( a_{3} \\right )}^{2} - \\frac{b_{2} c_{1}}{2} {\\left ( a_{3} \\right )}^{2}\\right ) \\boldsymbol{e}_{1}\\wedge \\boldsymbol{e}_{2}\\wedge \\boldsymbol{n}_{\\infty} + \\left ( a_{1} b_{3} - a_{1} c_{3} - a_{3} b_{1} + a_{3} c_{1} + b_{1} c_{3} - b_{3} c_{1}\\right ) \\boldsymbol{e}_{1}\\wedge \\boldsymbol{e}_{3}\\wedge \\boldsymbol{n}_{o} + \\left ( \\frac{b_{1} c_{3}}{2} {\\left ( a_{1} \\right )}^{2} - \\frac{b_{3} c_{1}}{2} {\\left ( a_{1} \\right )}^{2} - \\frac{a_{1} c_{3}}{2} {\\left ( b_{1} \\right )}^{2} - \\frac{a_{1} c_{3}}{2} {\\left ( b_{2} \\right )}^{2} - \\frac{a_{1} c_{3}}{2} {\\left ( b_{3} \\right )}^{2} + \\frac{a_{1} b_{3}}{2} {\\left ( c_{1} \\right )}^{2} + \\frac{a_{1} b_{3}}{2} {\\left ( c_{2} \\right )}^{2} + \\frac{a_{1} b_{3}}{2} {\\left ( c_{3} \\right )}^{2} + \\frac{b_{1} c_{3}}{2} {\\left ( a_{2} \\right )}^{2} - \\frac{b_{3} c_{1}}{2} {\\left ( a_{2} \\right )}^{2} + \\frac{b_{1} c_{3}}{2} {\\left ( a_{3} \\right )}^{2} - \\frac{b_{3} c_{1}}{2} {\\left ( a_{3} \\right )}^{2} + \\frac{a_{3} c_{1}}{2} {\\left ( b_{1} \\right )}^{2} - \\frac{a_{3} b_{1}}{2} {\\left ( c_{1} \\right )}^{2} - \\frac{a_{3} b_{1}}{2} {\\left ( c_{2} \\right )}^{2} - \\frac{a_{3} b_{1}}{2} {\\left ( c_{3} \\right )}^{2} + \\frac{a_{3} c_{1}}{2} {\\left ( b_{2} \\right )}^{2} + \\frac{a_{3} c_{1}}{2} {\\left ( b_{3} \\right )}^{2}\\right ) \\boldsymbol{e}_{1}\\wedge \\boldsymbol{e}_{3}\\wedge \\boldsymbol{n}_{\\infty} + \\left ( \\frac{b_{1}}{2} {\\left ( a_{1} \\right )}^{2} - \\frac{c_{1}}{2} {\\left ( a_{1} \\right )}^{2} - \\frac{a_{1}}{2} {\\left ( b_{1} \\right )}^{2} - \\frac{a_{1}}{2} {\\left ( b_{2} \\right )}^{2} - \\frac{a_{1}}{2} {\\left ( b_{3} \\right )}^{2} + \\frac{a_{1}}{2} {\\left ( c_{1} \\right )}^{2} + \\frac{a_{1}}{2} {\\left ( c_{2} \\right )}^{2} + \\frac{a_{1}}{2} {\\left ( c_{3} \\right )}^{2} + \\frac{b_{1}}{2} {\\left ( a_{2} \\right )}^{2} - \\frac{c_{1}}{2} {\\left ( a_{2} \\right )}^{2} + \\frac{b_{1}}{2} {\\left ( a_{3} \\right )}^{2} - \\frac{c_{1}}{2} {\\left ( a_{3} \\right )}^{2} + \\frac{c_{1}}{2} {\\left ( b_{1} \\right )}^{2} - \\frac{b_{1}}{2} {\\left ( c_{1} \\right )}^{2} - \\frac{b_{1}}{2} {\\left ( c_{2} \\right )}^{2} - \\frac{b_{1}}{2} {\\left ( c_{3} \\right )}^{2} + \\frac{c_{1}}{2} {\\left ( b_{2} \\right )}^{2} + \\frac{c_{1}}{2} {\\left ( b_{3} \\right )}^{2}\\right ) \\boldsymbol{e}_{1}\\wedge \\boldsymbol{n}_{o}\\wedge \\boldsymbol{n}_{\\infty} + \\left ( a_{2} b_{3} - a_{2} c_{3} - a_{3} b_{2} + a_{3} c_{2} + b_{2} c_{3} - b_{3} c_{2}\\right ) \\boldsymbol{e}_{2}\\wedge \\boldsymbol{e}_{3}\\wedge \\boldsymbol{n}_{o} + \\left ( \\frac{b_{2} c_{3}}{2} {\\left ( a_{1} \\right )}^{2} - \\frac{b_{3} c_{2}}{2} {\\left ( a_{1} \\right )}^{2} + \\frac{b_{2} c_{3}}{2} {\\left ( a_{2} \\right )}^{2} - \\frac{b_{3} c_{2}}{2} {\\left ( a_{2} \\right )}^{2} - \\frac{a_{2} c_{3}}{2} {\\left ( b_{1} \\right )}^{2} - \\frac{a_{2} c_{3}}{2} {\\left ( b_{2} \\right )}^{2} - \\frac{a_{2} c_{3}}{2} {\\left ( b_{3} \\right )}^{2} + \\frac{a_{2} b_{3}}{2} {\\left ( c_{1} \\right )}^{2} + \\frac{a_{2} b_{3}}{2} {\\left ( c_{2} \\right )}^{2} + \\frac{a_{2} b_{3}}{2} {\\left ( c_{3} \\right )}^{2} + \\frac{b_{2} c_{3}}{2} {\\left ( a_{3} \\right )}^{2} - \\frac{b_{3} c_{2}}{2} {\\left ( a_{3} \\right )}^{2} + \\frac{a_{3} c_{2}}{2} {\\left ( b_{1} \\right )}^{2} + \\frac{a_{3} c_{2}}{2} {\\left ( b_{2} \\right )}^{2} - \\frac{a_{3} b_{2}}{2} {\\left ( c_{1} \\right )}^{2} - \\frac{a_{3} b_{2}}{2} {\\left ( c_{2} \\right )}^{2} - \\frac{a_{3} b_{2}}{2} {\\left ( c_{3} \\right )}^{2} + \\frac{a_{3} c_{2}}{2} {\\left ( b_{3} \\right )}^{2}\\right ) \\boldsymbol{e}_{2}\\wedge \\boldsymbol{e}_{3}\\wedge \\boldsymbol{n}_{\\infty} + \\left ( \\frac{b_{2}}{2} {\\left ( a_{1} \\right )}^{2} - \\frac{c_{2}}{2} {\\left ( a_{1} \\right )}^{2} + \\frac{b_{2}}{2} {\\left ( a_{2} \\right )}^{2} - \\frac{c_{2}}{2} {\\left ( a_{2} \\right )}^{2} - \\frac{a_{2}}{2} {\\left ( b_{1} \\right )}^{2} - \\frac{a_{2}}{2} {\\left ( b_{2} \\right )}^{2} - \\frac{a_{2}}{2} {\\left ( b_{3} \\right )}^{2} + \\frac{a_{2}}{2} {\\left ( c_{1} \\right )}^{2} + \\frac{a_{2}}{2} {\\left ( c_{2} \\right )}^{2} + \\frac{a_{2}}{2} {\\left ( c_{3} \\right )}^{2} + \\frac{b_{2}}{2} {\\left ( a_{3} \\right )}^{2} - \\frac{c_{2}}{2} {\\left ( a_{3} \\right )}^{2} + \\frac{c_{2}}{2} {\\left ( b_{1} \\right )}^{2} + \\frac{c_{2}}{2} {\\left ( b_{2} \\right )}^{2} - \\frac{b_{2}}{2} {\\left ( c_{1} \\right )}^{2} - \\frac{b_{2}}{2} {\\left ( c_{2} \\right )}^{2} - \\frac{b_{2}}{2} {\\left ( c_{3} \\right )}^{2} + \\frac{c_{2}}{2} {\\left ( b_{3} \\right )}^{2}\\right ) \\boldsymbol{e}_{2}\\wedge \\boldsymbol{n}_{o}\\wedge \\boldsymbol{n}_{\\infty} + \\left ( \\frac{b_{3}}{2} {\\left ( a_{1} \\right )}^{2} - \\frac{c_{3}}{2} {\\left ( a_{1} \\right )}^{2} + \\frac{b_{3}}{2} {\\left ( a_{2} \\right )}^{2} - \\frac{c_{3}}{2} {\\left ( a_{2} \\right )}^{2} + \\frac{b_{3}}{2} {\\left ( a_{3} \\right )}^{2} - \\frac{c_{3}}{2} {\\left ( a_{3} \\right )}^{2} - \\frac{a_{3}}{2} {\\left ( b_{1} \\right )}^{2} - \\frac{a_{3}}{2} {\\left ( b_{2} \\right )}^{2} - \\frac{a_{3}}{2} {\\left ( b_{3} \\right )}^{2} + \\frac{a_{3}}{2} {\\left ( c_{1} \\right )}^{2} + \\frac{a_{3}}{2} {\\left ( c_{2} \\right )}^{2} + \\frac{a_{3}}{2} {\\left ( c_{3} \\right )}^{2} + \\frac{c_{3}}{2} {\\left ( b_{1} \\right )}^{2} + \\frac{c_{3}}{2} {\\left ( b_{2} \\right )}^{2} + \\frac{c_{3}}{2} {\\left ( b_{3} \\right )}^{2} - \\frac{b_{3}}{2} {\\left ( c_{1} \\right )}^{2} - \\frac{b_{3}}{2} {\\left ( c_{2} \\right )}^{2} - \\frac{b_{3}}{2} {\\left ( c_{3} \\right )}^{2}\\right ) \\boldsymbol{e}_{3}\\wedge \\boldsymbol{n}_{o}\\wedge \\boldsymbol{n}_{\\infty}"
      ]
     },
     "execution_count": 18,
     "metadata": {},
     "output_type": "execute_result"
    }
   ],
   "source": [
    "circle = A ^ B ^ C\n",
    "circle"
   ]
  },
  {
   "cell_type": "code",
   "execution_count": 19,
   "metadata": {
    "collapsed": false
   },
   "outputs": [
    {
     "data": {
      "text/latex": [
       "\\begin{equation*} \\left ( - \\frac{b_{3}}{2} {\\left ( a_{1} \\right )}^{2} + \\frac{c_{3}}{2} {\\left ( a_{1} \\right )}^{2} - \\frac{b_{3}}{2} {\\left ( a_{2} \\right )}^{2} + \\frac{c_{3}}{2} {\\left ( a_{2} \\right )}^{2} - \\frac{b_{3}}{2} {\\left ( a_{3} \\right )}^{2} + \\frac{c_{3}}{2} {\\left ( a_{3} \\right )}^{2} + \\frac{a_{3}}{2} {\\left ( b_{1} \\right )}^{2} + \\frac{a_{3}}{2} {\\left ( b_{2} \\right )}^{2} + \\frac{a_{3}}{2} {\\left ( b_{3} \\right )}^{2} - \\frac{a_{3}}{2} {\\left ( c_{1} \\right )}^{2} - \\frac{a_{3}}{2} {\\left ( c_{2} \\right )}^{2} - \\frac{a_{3}}{2} {\\left ( c_{3} \\right )}^{2} - \\frac{c_{3}}{2} {\\left ( b_{1} \\right )}^{2} - \\frac{c_{3}}{2} {\\left ( b_{2} \\right )}^{2} - \\frac{c_{3}}{2} {\\left ( b_{3} \\right )}^{2} + \\frac{b_{3}}{2} {\\left ( c_{1} \\right )}^{2} + \\frac{b_{3}}{2} {\\left ( c_{2} \\right )}^{2} + \\frac{b_{3}}{2} {\\left ( c_{3} \\right )}^{2}\\right ) \\boldsymbol{e}_{1}\\wedge \\boldsymbol{e}_{2} + \\left ( \\frac{b_{2}}{2} {\\left ( a_{1} \\right )}^{2} - \\frac{c_{2}}{2} {\\left ( a_{1} \\right )}^{2} + \\frac{b_{2}}{2} {\\left ( a_{2} \\right )}^{2} - \\frac{c_{2}}{2} {\\left ( a_{2} \\right )}^{2} - \\frac{a_{2}}{2} {\\left ( b_{1} \\right )}^{2} - \\frac{a_{2}}{2} {\\left ( b_{2} \\right )}^{2} - \\frac{a_{2}}{2} {\\left ( b_{3} \\right )}^{2} + \\frac{a_{2}}{2} {\\left ( c_{1} \\right )}^{2} + \\frac{a_{2}}{2} {\\left ( c_{2} \\right )}^{2} + \\frac{a_{2}}{2} {\\left ( c_{3} \\right )}^{2} + \\frac{b_{2}}{2} {\\left ( a_{3} \\right )}^{2} - \\frac{c_{2}}{2} {\\left ( a_{3} \\right )}^{2} + \\frac{c_{2}}{2} {\\left ( b_{1} \\right )}^{2} + \\frac{c_{2}}{2} {\\left ( b_{2} \\right )}^{2} - \\frac{b_{2}}{2} {\\left ( c_{1} \\right )}^{2} - \\frac{b_{2}}{2} {\\left ( c_{2} \\right )}^{2} - \\frac{b_{2}}{2} {\\left ( c_{3} \\right )}^{2} + \\frac{c_{2}}{2} {\\left ( b_{3} \\right )}^{2}\\right ) \\boldsymbol{e}_{1}\\wedge \\boldsymbol{e}_{3} + \\left ( - a_{2} b_{3} + a_{2} c_{3} + a_{3} b_{2} - a_{3} c_{2} - b_{2} c_{3} + b_{3} c_{2}\\right ) \\boldsymbol{e}_{1}\\wedge \\boldsymbol{n}_{o} + \\left ( \\frac{b_{2} c_{3}}{2} {\\left ( a_{1} \\right )}^{2} - \\frac{b_{3} c_{2}}{2} {\\left ( a_{1} \\right )}^{2} + \\frac{b_{2} c_{3}}{2} {\\left ( a_{2} \\right )}^{2} - \\frac{b_{3} c_{2}}{2} {\\left ( a_{2} \\right )}^{2} - \\frac{a_{2} c_{3}}{2} {\\left ( b_{1} \\right )}^{2} - \\frac{a_{2} c_{3}}{2} {\\left ( b_{2} \\right )}^{2} - \\frac{a_{2} c_{3}}{2} {\\left ( b_{3} \\right )}^{2} + \\frac{a_{2} b_{3}}{2} {\\left ( c_{1} \\right )}^{2} + \\frac{a_{2} b_{3}}{2} {\\left ( c_{2} \\right )}^{2} + \\frac{a_{2} b_{3}}{2} {\\left ( c_{3} \\right )}^{2} + \\frac{b_{2} c_{3}}{2} {\\left ( a_{3} \\right )}^{2} - \\frac{b_{3} c_{2}}{2} {\\left ( a_{3} \\right )}^{2} + \\frac{a_{3} c_{2}}{2} {\\left ( b_{1} \\right )}^{2} + \\frac{a_{3} c_{2}}{2} {\\left ( b_{2} \\right )}^{2} - \\frac{a_{3} b_{2}}{2} {\\left ( c_{1} \\right )}^{2} - \\frac{a_{3} b_{2}}{2} {\\left ( c_{2} \\right )}^{2} - \\frac{a_{3} b_{2}}{2} {\\left ( c_{3} \\right )}^{2} + \\frac{a_{3} c_{2}}{2} {\\left ( b_{3} \\right )}^{2}\\right ) \\boldsymbol{e}_{1}\\wedge \\boldsymbol{n}_{\\infty} + \\left ( - \\frac{b_{1}}{2} {\\left ( a_{1} \\right )}^{2} + \\frac{c_{1}}{2} {\\left ( a_{1} \\right )}^{2} + \\frac{a_{1}}{2} {\\left ( b_{1} \\right )}^{2} + \\frac{a_{1}}{2} {\\left ( b_{2} \\right )}^{2} + \\frac{a_{1}}{2} {\\left ( b_{3} \\right )}^{2} - \\frac{a_{1}}{2} {\\left ( c_{1} \\right )}^{2} - \\frac{a_{1}}{2} {\\left ( c_{2} \\right )}^{2} - \\frac{a_{1}}{2} {\\left ( c_{3} \\right )}^{2} - \\frac{b_{1}}{2} {\\left ( a_{2} \\right )}^{2} + \\frac{c_{1}}{2} {\\left ( a_{2} \\right )}^{2} - \\frac{b_{1}}{2} {\\left ( a_{3} \\right )}^{2} + \\frac{c_{1}}{2} {\\left ( a_{3} \\right )}^{2} - \\frac{c_{1}}{2} {\\left ( b_{1} \\right )}^{2} + \\frac{b_{1}}{2} {\\left ( c_{1} \\right )}^{2} + \\frac{b_{1}}{2} {\\left ( c_{2} \\right )}^{2} + \\frac{b_{1}}{2} {\\left ( c_{3} \\right )}^{2} - \\frac{c_{1}}{2} {\\left ( b_{2} \\right )}^{2} - \\frac{c_{1}}{2} {\\left ( b_{3} \\right )}^{2}\\right ) \\boldsymbol{e}_{2}\\wedge \\boldsymbol{e}_{3} + \\left ( a_{1} b_{3} - a_{1} c_{3} - a_{3} b_{1} + a_{3} c_{1} + b_{1} c_{3} - b_{3} c_{1}\\right ) \\boldsymbol{e}_{2}\\wedge \\boldsymbol{n}_{o} + \\left ( - \\frac{b_{1} c_{3}}{2} {\\left ( a_{1} \\right )}^{2} + \\frac{b_{3} c_{1}}{2} {\\left ( a_{1} \\right )}^{2} + \\frac{a_{1} c_{3}}{2} {\\left ( b_{1} \\right )}^{2} + \\frac{a_{1} c_{3}}{2} {\\left ( b_{2} \\right )}^{2} + \\frac{a_{1} c_{3}}{2} {\\left ( b_{3} \\right )}^{2} - \\frac{a_{1} b_{3}}{2} {\\left ( c_{1} \\right )}^{2} - \\frac{a_{1} b_{3}}{2} {\\left ( c_{2} \\right )}^{2} - \\frac{a_{1} b_{3}}{2} {\\left ( c_{3} \\right )}^{2} - \\frac{b_{1} c_{3}}{2} {\\left ( a_{2} \\right )}^{2} + \\frac{b_{3} c_{1}}{2} {\\left ( a_{2} \\right )}^{2} - \\frac{b_{1} c_{3}}{2} {\\left ( a_{3} \\right )}^{2} + \\frac{b_{3} c_{1}}{2} {\\left ( a_{3} \\right )}^{2} - \\frac{a_{3} c_{1}}{2} {\\left ( b_{1} \\right )}^{2} + \\frac{a_{3} b_{1}}{2} {\\left ( c_{1} \\right )}^{2} + \\frac{a_{3} b_{1}}{2} {\\left ( c_{2} \\right )}^{2} + \\frac{a_{3} b_{1}}{2} {\\left ( c_{3} \\right )}^{2} - \\frac{a_{3} c_{1}}{2} {\\left ( b_{2} \\right )}^{2} - \\frac{a_{3} c_{1}}{2} {\\left ( b_{3} \\right )}^{2}\\right ) \\boldsymbol{e}_{2}\\wedge \\boldsymbol{n}_{\\infty} + \\left ( - a_{1} b_{2} + a_{1} c_{2} + a_{2} b_{1} - a_{2} c_{1} - b_{1} c_{2} + b_{2} c_{1}\\right ) \\boldsymbol{e}_{3}\\wedge \\boldsymbol{n}_{o} + \\left ( \\frac{b_{1} c_{2}}{2} {\\left ( a_{1} \\right )}^{2} - \\frac{b_{2} c_{1}}{2} {\\left ( a_{1} \\right )}^{2} - \\frac{a_{1} c_{2}}{2} {\\left ( b_{1} \\right )}^{2} - \\frac{a_{1} c_{2}}{2} {\\left ( b_{2} \\right )}^{2} + \\frac{a_{1} b_{2}}{2} {\\left ( c_{1} \\right )}^{2} + \\frac{a_{1} b_{2}}{2} {\\left ( c_{2} \\right )}^{2} + \\frac{a_{1} b_{2}}{2} {\\left ( c_{3} \\right )}^{2} - \\frac{a_{1} c_{2}}{2} {\\left ( b_{3} \\right )}^{2} + \\frac{b_{1} c_{2}}{2} {\\left ( a_{2} \\right )}^{2} - \\frac{b_{2} c_{1}}{2} {\\left ( a_{2} \\right )}^{2} + \\frac{a_{2} c_{1}}{2} {\\left ( b_{1} \\right )}^{2} - \\frac{a_{2} b_{1}}{2} {\\left ( c_{1} \\right )}^{2} - \\frac{a_{2} b_{1}}{2} {\\left ( c_{2} \\right )}^{2} - \\frac{a_{2} b_{1}}{2} {\\left ( c_{3} \\right )}^{2} + \\frac{a_{2} c_{1}}{2} {\\left ( b_{2} \\right )}^{2} + \\frac{a_{2} c_{1}}{2} {\\left ( b_{3} \\right )}^{2} + \\frac{b_{1} c_{2}}{2} {\\left ( a_{3} \\right )}^{2} - \\frac{b_{2} c_{1}}{2} {\\left ( a_{3} \\right )}^{2}\\right ) \\boldsymbol{e}_{3}\\wedge \\boldsymbol{n}_{\\infty} + \\left ( a_{1} b_{2} c_{3} - a_{1} b_{3} c_{2} - a_{2} b_{1} c_{3} + a_{2} b_{3} c_{1} + a_{3} b_{1} c_{2} - a_{3} b_{2} c_{1}\\right ) \\boldsymbol{n}_{o}\\wedge \\boldsymbol{n}_{\\infty} \\end{equation*}"
      ],
      "text/plain": [
       "\\left ( - \\frac{b_{3}}{2} {\\left ( a_{1} \\right )}^{2} + \\frac{c_{3}}{2} {\\left ( a_{1} \\right )}^{2} - \\frac{b_{3}}{2} {\\left ( a_{2} \\right )}^{2} + \\frac{c_{3}}{2} {\\left ( a_{2} \\right )}^{2} - \\frac{b_{3}}{2} {\\left ( a_{3} \\right )}^{2} + \\frac{c_{3}}{2} {\\left ( a_{3} \\right )}^{2} + \\frac{a_{3}}{2} {\\left ( b_{1} \\right )}^{2} + \\frac{a_{3}}{2} {\\left ( b_{2} \\right )}^{2} + \\frac{a_{3}}{2} {\\left ( b_{3} \\right )}^{2} - \\frac{a_{3}}{2} {\\left ( c_{1} \\right )}^{2} - \\frac{a_{3}}{2} {\\left ( c_{2} \\right )}^{2} - \\frac{a_{3}}{2} {\\left ( c_{3} \\right )}^{2} - \\frac{c_{3}}{2} {\\left ( b_{1} \\right )}^{2} - \\frac{c_{3}}{2} {\\left ( b_{2} \\right )}^{2} - \\frac{c_{3}}{2} {\\left ( b_{3} \\right )}^{2} + \\frac{b_{3}}{2} {\\left ( c_{1} \\right )}^{2} + \\frac{b_{3}}{2} {\\left ( c_{2} \\right )}^{2} + \\frac{b_{3}}{2} {\\left ( c_{3} \\right )}^{2}\\right ) \\boldsymbol{e}_{1}\\wedge \\boldsymbol{e}_{2} + \\left ( \\frac{b_{2}}{2} {\\left ( a_{1} \\right )}^{2} - \\frac{c_{2}}{2} {\\left ( a_{1} \\right )}^{2} + \\frac{b_{2}}{2} {\\left ( a_{2} \\right )}^{2} - \\frac{c_{2}}{2} {\\left ( a_{2} \\right )}^{2} - \\frac{a_{2}}{2} {\\left ( b_{1} \\right )}^{2} - \\frac{a_{2}}{2} {\\left ( b_{2} \\right )}^{2} - \\frac{a_{2}}{2} {\\left ( b_{3} \\right )}^{2} + \\frac{a_{2}}{2} {\\left ( c_{1} \\right )}^{2} + \\frac{a_{2}}{2} {\\left ( c_{2} \\right )}^{2} + \\frac{a_{2}}{2} {\\left ( c_{3} \\right )}^{2} + \\frac{b_{2}}{2} {\\left ( a_{3} \\right )}^{2} - \\frac{c_{2}}{2} {\\left ( a_{3} \\right )}^{2} + \\frac{c_{2}}{2} {\\left ( b_{1} \\right )}^{2} + \\frac{c_{2}}{2} {\\left ( b_{2} \\right )}^{2} - \\frac{b_{2}}{2} {\\left ( c_{1} \\right )}^{2} - \\frac{b_{2}}{2} {\\left ( c_{2} \\right )}^{2} - \\frac{b_{2}}{2} {\\left ( c_{3} \\right )}^{2} + \\frac{c_{2}}{2} {\\left ( b_{3} \\right )}^{2}\\right ) \\boldsymbol{e}_{1}\\wedge \\boldsymbol{e}_{3} + \\left ( - a_{2} b_{3} + a_{2} c_{3} + a_{3} b_{2} - a_{3} c_{2} - b_{2} c_{3} + b_{3} c_{2}\\right ) \\boldsymbol{e}_{1}\\wedge \\boldsymbol{n}_{o} + \\left ( \\frac{b_{2} c_{3}}{2} {\\left ( a_{1} \\right )}^{2} - \\frac{b_{3} c_{2}}{2} {\\left ( a_{1} \\right )}^{2} + \\frac{b_{2} c_{3}}{2} {\\left ( a_{2} \\right )}^{2} - \\frac{b_{3} c_{2}}{2} {\\left ( a_{2} \\right )}^{2} - \\frac{a_{2} c_{3}}{2} {\\left ( b_{1} \\right )}^{2} - \\frac{a_{2} c_{3}}{2} {\\left ( b_{2} \\right )}^{2} - \\frac{a_{2} c_{3}}{2} {\\left ( b_{3} \\right )}^{2} + \\frac{a_{2} b_{3}}{2} {\\left ( c_{1} \\right )}^{2} + \\frac{a_{2} b_{3}}{2} {\\left ( c_{2} \\right )}^{2} + \\frac{a_{2} b_{3}}{2} {\\left ( c_{3} \\right )}^{2} + \\frac{b_{2} c_{3}}{2} {\\left ( a_{3} \\right )}^{2} - \\frac{b_{3} c_{2}}{2} {\\left ( a_{3} \\right )}^{2} + \\frac{a_{3} c_{2}}{2} {\\left ( b_{1} \\right )}^{2} + \\frac{a_{3} c_{2}}{2} {\\left ( b_{2} \\right )}^{2} - \\frac{a_{3} b_{2}}{2} {\\left ( c_{1} \\right )}^{2} - \\frac{a_{3} b_{2}}{2} {\\left ( c_{2} \\right )}^{2} - \\frac{a_{3} b_{2}}{2} {\\left ( c_{3} \\right )}^{2} + \\frac{a_{3} c_{2}}{2} {\\left ( b_{3} \\right )}^{2}\\right ) \\boldsymbol{e}_{1}\\wedge \\boldsymbol{n}_{\\infty} + \\left ( - \\frac{b_{1}}{2} {\\left ( a_{1} \\right )}^{2} + \\frac{c_{1}}{2} {\\left ( a_{1} \\right )}^{2} + \\frac{a_{1}}{2} {\\left ( b_{1} \\right )}^{2} + \\frac{a_{1}}{2} {\\left ( b_{2} \\right )}^{2} + \\frac{a_{1}}{2} {\\left ( b_{3} \\right )}^{2} - \\frac{a_{1}}{2} {\\left ( c_{1} \\right )}^{2} - \\frac{a_{1}}{2} {\\left ( c_{2} \\right )}^{2} - \\frac{a_{1}}{2} {\\left ( c_{3} \\right )}^{2} - \\frac{b_{1}}{2} {\\left ( a_{2} \\right )}^{2} + \\frac{c_{1}}{2} {\\left ( a_{2} \\right )}^{2} - \\frac{b_{1}}{2} {\\left ( a_{3} \\right )}^{2} + \\frac{c_{1}}{2} {\\left ( a_{3} \\right )}^{2} - \\frac{c_{1}}{2} {\\left ( b_{1} \\right )}^{2} + \\frac{b_{1}}{2} {\\left ( c_{1} \\right )}^{2} + \\frac{b_{1}}{2} {\\left ( c_{2} \\right )}^{2} + \\frac{b_{1}}{2} {\\left ( c_{3} \\right )}^{2} - \\frac{c_{1}}{2} {\\left ( b_{2} \\right )}^{2} - \\frac{c_{1}}{2} {\\left ( b_{3} \\right )}^{2}\\right ) \\boldsymbol{e}_{2}\\wedge \\boldsymbol{e}_{3} + \\left ( a_{1} b_{3} - a_{1} c_{3} - a_{3} b_{1} + a_{3} c_{1} + b_{1} c_{3} - b_{3} c_{1}\\right ) \\boldsymbol{e}_{2}\\wedge \\boldsymbol{n}_{o} + \\left ( - \\frac{b_{1} c_{3}}{2} {\\left ( a_{1} \\right )}^{2} + \\frac{b_{3} c_{1}}{2} {\\left ( a_{1} \\right )}^{2} + \\frac{a_{1} c_{3}}{2} {\\left ( b_{1} \\right )}^{2} + \\frac{a_{1} c_{3}}{2} {\\left ( b_{2} \\right )}^{2} + \\frac{a_{1} c_{3}}{2} {\\left ( b_{3} \\right )}^{2} - \\frac{a_{1} b_{3}}{2} {\\left ( c_{1} \\right )}^{2} - \\frac{a_{1} b_{3}}{2} {\\left ( c_{2} \\right )}^{2} - \\frac{a_{1} b_{3}}{2} {\\left ( c_{3} \\right )}^{2} - \\frac{b_{1} c_{3}}{2} {\\left ( a_{2} \\right )}^{2} + \\frac{b_{3} c_{1}}{2} {\\left ( a_{2} \\right )}^{2} - \\frac{b_{1} c_{3}}{2} {\\left ( a_{3} \\right )}^{2} + \\frac{b_{3} c_{1}}{2} {\\left ( a_{3} \\right )}^{2} - \\frac{a_{3} c_{1}}{2} {\\left ( b_{1} \\right )}^{2} + \\frac{a_{3} b_{1}}{2} {\\left ( c_{1} \\right )}^{2} + \\frac{a_{3} b_{1}}{2} {\\left ( c_{2} \\right )}^{2} + \\frac{a_{3} b_{1}}{2} {\\left ( c_{3} \\right )}^{2} - \\frac{a_{3} c_{1}}{2} {\\left ( b_{2} \\right )}^{2} - \\frac{a_{3} c_{1}}{2} {\\left ( b_{3} \\right )}^{2}\\right ) \\boldsymbol{e}_{2}\\wedge \\boldsymbol{n}_{\\infty} + \\left ( - a_{1} b_{2} + a_{1} c_{2} + a_{2} b_{1} - a_{2} c_{1} - b_{1} c_{2} + b_{2} c_{1}\\right ) \\boldsymbol{e}_{3}\\wedge \\boldsymbol{n}_{o} + \\left ( \\frac{b_{1} c_{2}}{2} {\\left ( a_{1} \\right )}^{2} - \\frac{b_{2} c_{1}}{2} {\\left ( a_{1} \\right )}^{2} - \\frac{a_{1} c_{2}}{2} {\\left ( b_{1} \\right )}^{2} - \\frac{a_{1} c_{2}}{2} {\\left ( b_{2} \\right )}^{2} + \\frac{a_{1} b_{2}}{2} {\\left ( c_{1} \\right )}^{2} + \\frac{a_{1} b_{2}}{2} {\\left ( c_{2} \\right )}^{2} + \\frac{a_{1} b_{2}}{2} {\\left ( c_{3} \\right )}^{2} - \\frac{a_{1} c_{2}}{2} {\\left ( b_{3} \\right )}^{2} + \\frac{b_{1} c_{2}}{2} {\\left ( a_{2} \\right )}^{2} - \\frac{b_{2} c_{1}}{2} {\\left ( a_{2} \\right )}^{2} + \\frac{a_{2} c_{1}}{2} {\\left ( b_{1} \\right )}^{2} - \\frac{a_{2} b_{1}}{2} {\\left ( c_{1} \\right )}^{2} - \\frac{a_{2} b_{1}}{2} {\\left ( c_{2} \\right )}^{2} - \\frac{a_{2} b_{1}}{2} {\\left ( c_{3} \\right )}^{2} + \\frac{a_{2} c_{1}}{2} {\\left ( b_{2} \\right )}^{2} + \\frac{a_{2} c_{1}}{2} {\\left ( b_{3} \\right )}^{2} + \\frac{b_{1} c_{2}}{2} {\\left ( a_{3} \\right )}^{2} - \\frac{b_{2} c_{1}}{2} {\\left ( a_{3} \\right )}^{2}\\right ) \\boldsymbol{e}_{3}\\wedge \\boldsymbol{n}_{\\infty} + \\left ( a_{1} b_{2} c_{3} - a_{1} b_{3} c_{2} - a_{2} b_{1} c_{3} + a_{2} b_{3} c_{1} + a_{3} b_{1} c_{2} - a_{3} b_{2} c_{1}\\right ) \\boldsymbol{n}_{o}\\wedge \\boldsymbol{n}_{\\infty}"
      ]
     },
     "execution_count": 19,
     "metadata": {},
     "output_type": "execute_result"
    }
   ],
   "source": [
    "dual(circle)"
   ]
  },
  {
   "cell_type": "code",
   "execution_count": null,
   "metadata": {
    "collapsed": false
   },
   "outputs": [],
   "source": [
    "rotor * A * rotor.rev()"
   ]
  },
  {
   "cell_type": "code",
   "execution_count": null,
   "metadata": {
    "collapsed": false
   },
   "outputs": [],
   "source": [
    "no | ((B - A) ^ ni)"
   ]
  },
  {
   "cell_type": "code",
   "execution_count": null,
   "metadata": {
    "collapsed": false
   },
   "outputs": [],
   "source": [
    "A | dLb"
   ]
  },
  {
   "cell_type": "code",
   "execution_count": null,
   "metadata": {
    "collapsed": false
   },
   "outputs": [],
   "source": [
    "(e1 ^ e2) | (-e1 ^ e2 ^ e3)"
   ]
  },
  {
   "cell_type": "code",
   "execution_count": 29,
   "metadata": {
    "collapsed": false
   },
   "outputs": [
    {
     "data": {
      "text/latex": [
       "\\begin{equation*} \\left ( a_{1} b_{2} - a_{2} b_{1}\\right ) \\boldsymbol{e}_{1}\\wedge \\boldsymbol{e}_{2}\\wedge \\boldsymbol{n}_{\\infty} + \\left ( a_{1} b_{3} - a_{3} b_{1}\\right ) \\boldsymbol{e}_{1}\\wedge \\boldsymbol{e}_{3}\\wedge \\boldsymbol{n}_{\\infty} + \\left ( a_{1} - b_{1}\\right ) \\boldsymbol{e}_{1}\\wedge \\boldsymbol{n}_{o}\\wedge \\boldsymbol{n}_{\\infty} + \\left ( a_{2} b_{3} - a_{3} b_{2}\\right ) \\boldsymbol{e}_{2}\\wedge \\boldsymbol{e}_{3}\\wedge \\boldsymbol{n}_{\\infty} + \\left ( a_{2} - b_{2}\\right ) \\boldsymbol{e}_{2}\\wedge \\boldsymbol{n}_{o}\\wedge \\boldsymbol{n}_{\\infty} + \\left ( a_{3} - b_{3}\\right ) \\boldsymbol{e}_{3}\\wedge \\boldsymbol{n}_{o}\\wedge \\boldsymbol{n}_{\\infty} \\end{equation*}"
      ],
      "text/plain": [
       "\\left ( a_{1} b_{2} - a_{2} b_{1}\\right ) \\boldsymbol{e}_{1}\\wedge \\boldsymbol{e}_{2}\\wedge \\boldsymbol{n}_{\\infty} + \\left ( a_{1} b_{3} - a_{3} b_{1}\\right ) \\boldsymbol{e}_{1}\\wedge \\boldsymbol{e}_{3}\\wedge \\boldsymbol{n}_{\\infty} + \\left ( a_{1} - b_{1}\\right ) \\boldsymbol{e}_{1}\\wedge \\boldsymbol{n}_{o}\\wedge \\boldsymbol{n}_{\\infty} + \\left ( a_{2} b_{3} - a_{3} b_{2}\\right ) \\boldsymbol{e}_{2}\\wedge \\boldsymbol{e}_{3}\\wedge \\boldsymbol{n}_{\\infty} + \\left ( a_{2} - b_{2}\\right ) \\boldsymbol{e}_{2}\\wedge \\boldsymbol{n}_{o}\\wedge \\boldsymbol{n}_{\\infty} + \\left ( a_{3} - b_{3}\\right ) \\boldsymbol{e}_{3}\\wedge \\boldsymbol{n}_{o}\\wedge \\boldsymbol{n}_{\\infty}"
      ]
     },
     "execution_count": 29,
     "metadata": {},
     "output_type": "execute_result"
    }
   ],
   "source": [
    "Lc"
   ]
  },
  {
   "cell_type": "code",
   "execution_count": 21,
   "metadata": {
    "collapsed": false
   },
   "outputs": [
    {
     "data": {
      "text/latex": [
       "\\begin{equation*} \\left ( - a_{3} + b_{3}\\right ) \\boldsymbol{e}_{1}\\wedge \\boldsymbol{e}_{2} + \\left ( a_{2} - b_{2}\\right ) \\boldsymbol{e}_{1}\\wedge \\boldsymbol{e}_{3} + \\left ( a_{2} b_{3} - a_{3} b_{2}\\right ) \\boldsymbol{e}_{1}\\wedge \\boldsymbol{n}_{\\infty} + \\left ( - a_{1} + b_{1}\\right ) \\boldsymbol{e}_{2}\\wedge \\boldsymbol{e}_{3} + \\left ( - a_{1} b_{3} + a_{3} b_{1}\\right ) \\boldsymbol{e}_{2}\\wedge \\boldsymbol{n}_{\\infty} + \\left ( a_{1} b_{2} - a_{2} b_{1}\\right ) \\boldsymbol{e}_{3}\\wedge \\boldsymbol{n}_{\\infty} \\end{equation*}"
      ],
      "text/plain": [
       "\\left ( - a_{3} + b_{3}\\right ) \\boldsymbol{e}_{1}\\wedge \\boldsymbol{e}_{2} + \\left ( a_{2} - b_{2}\\right ) \\boldsymbol{e}_{1}\\wedge \\boldsymbol{e}_{3} + \\left ( a_{2} b_{3} - a_{3} b_{2}\\right ) \\boldsymbol{e}_{1}\\wedge \\boldsymbol{n}_{\\infty} + \\left ( - a_{1} + b_{1}\\right ) \\boldsymbol{e}_{2}\\wedge \\boldsymbol{e}_{3} + \\left ( - a_{1} b_{3} + a_{3} b_{1}\\right ) \\boldsymbol{e}_{2}\\wedge \\boldsymbol{n}_{\\infty} + \\left ( a_{1} b_{2} - a_{2} b_{1}\\right ) \\boldsymbol{e}_{3}\\wedge \\boldsymbol{n}_{\\infty}"
      ]
     },
     "execution_count": 21,
     "metadata": {},
     "output_type": "execute_result"
    }
   ],
   "source": [
    "dual(Lc)"
   ]
  },
  {
   "cell_type": "code",
   "execution_count": 28,
   "metadata": {
    "collapsed": false
   },
   "outputs": [
    {
     "data": {
      "text/latex": [
       "\\begin{equation*} u_{1} \\boldsymbol{e}_{1} + u_{2} \\boldsymbol{e}_{2} + u_{3} \\boldsymbol{e}_{3} \\end{equation*}"
      ],
      "text/plain": [
       "u_{1} \\boldsymbol{e}_{1} + u_{2} \\boldsymbol{e}_{2} + u_{3} \\boldsymbol{e}_{3}"
      ]
     },
     "execution_count": 28,
     "metadata": {},
     "output_type": "execute_result"
    }
   ],
   "source": []
  },
  {
   "cell_type": "code",
   "execution_count": null,
   "metadata": {
    "collapsed": false
   },
   "outputs": [],
   "source": [
    "dLb * dLa.rev()"
   ]
  },
  {
   "cell_type": "code",
   "execution_count": 22,
   "metadata": {
    "collapsed": false
   },
   "outputs": [
    {
     "data": {
      "text/latex": [
       "\\begin{equation*} \\left ( a_{1} u_{2} - a_{2} u_{1}\\right ) \\boldsymbol{e}_{1}\\wedge \\boldsymbol{e}_{2}\\wedge \\boldsymbol{n}_{\\infty} + \\left ( a_{1} u_{3} - a_{3} u_{1}\\right ) \\boldsymbol{e}_{1}\\wedge \\boldsymbol{e}_{3}\\wedge \\boldsymbol{n}_{\\infty} - u_{1} \\boldsymbol{e}_{1}\\wedge \\boldsymbol{n}_{o}\\wedge \\boldsymbol{n}_{\\infty} + \\left ( a_{2} u_{3} - a_{3} u_{2}\\right ) \\boldsymbol{e}_{2}\\wedge \\boldsymbol{e}_{3}\\wedge \\boldsymbol{n}_{\\infty} - u_{2} \\boldsymbol{e}_{2}\\wedge \\boldsymbol{n}_{o}\\wedge \\boldsymbol{n}_{\\infty} - u_{3} \\boldsymbol{e}_{3}\\wedge \\boldsymbol{n}_{o}\\wedge \\boldsymbol{n}_{\\infty} \\end{equation*}"
      ],
      "text/plain": [
       "\\left ( a_{1} u_{2} - a_{2} u_{1}\\right ) \\boldsymbol{e}_{1}\\wedge \\boldsymbol{e}_{2}\\wedge \\boldsymbol{n}_{\\infty} + \\left ( a_{1} u_{3} - a_{3} u_{1}\\right ) \\boldsymbol{e}_{1}\\wedge \\boldsymbol{e}_{3}\\wedge \\boldsymbol{n}_{\\infty} - u_{1} \\boldsymbol{e}_{1}\\wedge \\boldsymbol{n}_{o}\\wedge \\boldsymbol{n}_{\\infty} + \\left ( a_{2} u_{3} - a_{3} u_{2}\\right ) \\boldsymbol{e}_{2}\\wedge \\boldsymbol{e}_{3}\\wedge \\boldsymbol{n}_{\\infty} - u_{2} \\boldsymbol{e}_{2}\\wedge \\boldsymbol{n}_{o}\\wedge \\boldsymbol{n}_{\\infty} - u_{3} \\boldsymbol{e}_{3}\\wedge \\boldsymbol{n}_{o}\\wedge \\boldsymbol{n}_{\\infty}"
      ]
     },
     "execution_count": 22,
     "metadata": {},
     "output_type": "execute_result"
    }
   ],
   "source": [
    "La"
   ]
  },
  {
   "cell_type": "code",
   "execution_count": 24,
   "metadata": {
    "collapsed": false
   },
   "outputs": [
    {
     "data": {
      "text/latex": [
       "\\begin{equation*} u_{3} \\boldsymbol{e}_{1}\\wedge \\boldsymbol{e}_{2} - u_{2} \\boldsymbol{e}_{1}\\wedge \\boldsymbol{e}_{3} + \\left ( a_{2} u_{3} - a_{3} u_{2}\\right ) \\boldsymbol{e}_{1}\\wedge \\boldsymbol{n}_{\\infty} + u_{1} \\boldsymbol{e}_{2}\\wedge \\boldsymbol{e}_{3} + \\left ( - a_{1} u_{3} + a_{3} u_{1}\\right ) \\boldsymbol{e}_{2}\\wedge \\boldsymbol{n}_{\\infty} + \\left ( a_{1} u_{2} - a_{2} u_{1}\\right ) \\boldsymbol{e}_{3}\\wedge \\boldsymbol{n}_{\\infty} \\end{equation*}"
      ],
      "text/plain": [
       "u_{3} \\boldsymbol{e}_{1}\\wedge \\boldsymbol{e}_{2} - u_{2} \\boldsymbol{e}_{1}\\wedge \\boldsymbol{e}_{3} + \\left ( a_{2} u_{3} - a_{3} u_{2}\\right ) \\boldsymbol{e}_{1}\\wedge \\boldsymbol{n}_{\\infty} + u_{1} \\boldsymbol{e}_{2}\\wedge \\boldsymbol{e}_{3} + \\left ( - a_{1} u_{3} + a_{3} u_{1}\\right ) \\boldsymbol{e}_{2}\\wedge \\boldsymbol{n}_{\\infty} + \\left ( a_{1} u_{2} - a_{2} u_{1}\\right ) \\boldsymbol{e}_{3}\\wedge \\boldsymbol{n}_{\\infty}"
      ]
     },
     "execution_count": 24,
     "metadata": {},
     "output_type": "execute_result"
    }
   ],
   "source": [
    "dLa"
   ]
  },
  {
   "cell_type": "code",
   "execution_count": 12,
   "metadata": {
    "collapsed": false
   },
   "outputs": [],
   "source": [
    "e123 = e1 ^ e2 ^ e3\n",
    "def euc_dual(a):\n",
    "    return a | (e1 ^ e2 ^ e3).inv()"
   ]
  },
  {
   "cell_type": "code",
   "execution_count": 103,
   "metadata": {
    "collapsed": false
   },
   "outputs": [],
   "source": [
    "B = euc_dual(a)\n",
    "a_ = a | (e1 ^ e2 ^ e3)"
   ]
  },
  {
   "cell_type": "code",
   "execution_count": 104,
   "metadata": {
    "collapsed": false
   },
   "outputs": [
    {
     "data": {
      "text/plain": [
       "True"
      ]
     },
     "execution_count": 104,
     "metadata": {},
     "output_type": "execute_result"
    }
   ],
   "source": [
    "((-1) * B) == a_"
   ]
  },
  {
   "cell_type": "code",
   "execution_count": 106,
   "metadata": {
    "collapsed": false
   },
   "outputs": [
    {
     "data": {
      "text/plain": [
       "True"
      ]
     },
     "execution_count": 106,
     "metadata": {},
     "output_type": "execute_result"
    }
   ],
   "source": [
    "U = (u < e123.inv())\n",
    "dLa_ = -U + ((a < U)*ni)\n",
    "dLa_ == dLa"
   ]
  },
  {
   "cell_type": "code",
   "execution_count": null,
   "metadata": {
    "collapsed": false
   },
   "outputs": [],
   "source": [
    "dLa | dLa.rev()"
   ]
  },
  {
   "cell_type": "code",
   "execution_count": null,
   "metadata": {
    "collapsed": false
   },
   "outputs": [],
   "source": [
    "m = ( (a ^ u) * (- e1 ^ e2 ^ e3) )"
   ]
  },
  {
   "cell_type": "code",
   "execution_count": 107,
   "metadata": {
    "collapsed": false
   },
   "outputs": [
    {
     "data": {
      "text/latex": [
       "\\begin{equation*} 1 \\end{equation*}"
      ],
      "text/plain": [
       "1"
      ]
     },
     "execution_count": 107,
     "metadata": {},
     "output_type": "execute_result"
    }
   ],
   "source": [
    "E = no ^ ni\n",
    "E*E"
   ]
  },
  {
   "cell_type": "code",
   "execution_count": null,
   "metadata": {
    "collapsed": true
   },
   "outputs": [],
   "source": [
    "A "
   ]
  },
  {
   "cell_type": "code",
   "execution_count": null,
   "metadata": {
    "collapsed": false
   },
   "outputs": [],
   "source": [
    "dual(( - (La | no) ^ v) ^ ni)"
   ]
  },
  {
   "cell_type": "code",
   "execution_count": null,
   "metadata": {
    "collapsed": false
   },
   "outputs": [],
   "source": [
    "(b | ( v ^ u ) ) | (a | ( u ^ v ) )"
   ]
  },
  {
   "cell_type": "code",
   "execution_count": null,
   "metadata": {
    "collapsed": false
   },
   "outputs": [],
   "source": [
    "(a ^ u) * (-e1 ^ e2 ^ e3)"
   ]
  },
  {
   "cell_type": "code",
   "execution_count": null,
   "metadata": {
    "collapsed": false
   },
   "outputs": [],
   "source": [
    " ni | (La | no)"
   ]
  },
  {
   "cell_type": "code",
   "execution_count": null,
   "metadata": {
    "collapsed": false
   },
   "outputs": [],
   "source": [
    "dLa | Lb"
   ]
  },
  {
   "cell_type": "code",
   "execution_count": null,
   "metadata": {
    "collapsed": false
   },
   "outputs": [],
   "source": [
    "d = ( dLa | Lb ) | no\n",
    "d"
   ]
  },
  {
   "cell_type": "code",
   "execution_count": null,
   "metadata": {
    "collapsed": false
   },
   "outputs": [],
   "source": [
    "ni | La"
   ]
  },
  {
   "cell_type": "code",
   "execution_count": null,
   "metadata": {
    "collapsed": false
   },
   "outputs": [],
   "source": [
    "no | ( dual((no | dLa)) | Lb )"
   ]
  },
  {
   "cell_type": "code",
   "execution_count": null,
   "metadata": {
    "collapsed": false
   },
   "outputs": [],
   "source": [
    "n = (u ^ v) * (-e1 ^ e2 ^ e3)\n",
    "c = b - a\n",
    "c"
   ]
  },
  {
   "cell_type": "code",
   "execution_count": null,
   "metadata": {
    "collapsed": false
   },
   "outputs": [],
   "source": [
    "( c | n ) * n.inv()"
   ]
  },
  {
   "cell_type": "code",
   "execution_count": null,
   "metadata": {
    "collapsed": false
   },
   "outputs": [],
   "source": [
    "n.inv()"
   ]
  },
  {
   "cell_type": "code",
   "execution_count": null,
   "metadata": {
    "collapsed": false
   },
   "outputs": [],
   "source": [
    "n"
   ]
  },
  {
   "cell_type": "code",
   "execution_count": null,
   "metadata": {
    "collapsed": false
   },
   "outputs": [],
   "source": [
    "n * n.rev()"
   ]
  },
  {
   "cell_type": "code",
   "execution_count": null,
   "metadata": {
    "collapsed": false
   },
   "outputs": [],
   "source": [
    "( (b - a) ^ ( u ^ v ) ) * ( u ^ v ).inv()"
   ]
  },
  {
   "cell_type": "code",
   "execution_count": null,
   "metadata": {
    "collapsed": false
   },
   "outputs": [],
   "source": [
    "pdLa = dual(A ^ Point(a + u) ^ Point(a + v) ^ ni)\n",
    "pdLb = dual(B ^ Point(b + u) ^ Point(b + v) ^ ni)\n",
    "pdLa"
   ]
  },
  {
   "cell_type": "code",
   "execution_count": null,
   "metadata": {
    "collapsed": false
   },
   "outputs": [],
   "source": [
    "(pdLb - pdLa) | no"
   ]
  },
  {
   "cell_type": "code",
   "execution_count": 11,
   "metadata": {
    "collapsed": false
   },
   "outputs": [
    {
     "ename": "NameError",
     "evalue": "name 'pdLa' is not defined",
     "output_type": "error",
     "traceback": [
      "\u001b[1;31m---------------------------------------------------------------------------\u001b[0m",
      "\u001b[1;31mNameError\u001b[0m                                 Traceback (most recent call last)",
      "\u001b[1;32m<ipython-input-11-c583481477e5>\u001b[0m in \u001b[0;36m<module>\u001b[1;34m()\u001b[0m\n\u001b[0;32m      6\u001b[0m \u001b[1;33m\u001b[0m\u001b[0m\n\u001b[0;32m      7\u001b[0m \u001b[0me123\u001b[0m \u001b[1;33m=\u001b[0m \u001b[0me1\u001b[0m \u001b[1;33m^\u001b[0m \u001b[0me2\u001b[0m \u001b[1;33m^\u001b[0m \u001b[0me3\u001b[0m\u001b[1;33m\u001b[0m\u001b[0m\n\u001b[1;32m----> 8\u001b[1;33m \u001b[0mn\u001b[0m \u001b[1;33m=\u001b[0m \u001b[1;33m(\u001b[0m \u001b[0mpdLa\u001b[0m \u001b[1;33m|\u001b[0m \u001b[0me123\u001b[0m \u001b[1;33m)\u001b[0m \u001b[1;33m|\u001b[0m \u001b[1;33m-\u001b[0m\u001b[0me123\u001b[0m\u001b[1;33m\u001b[0m\u001b[0m\n\u001b[0m\u001b[0;32m      9\u001b[0m \u001b[0mn\u001b[0m \u001b[1;33m*\u001b[0m \u001b[0mn\u001b[0m\u001b[1;33m.\u001b[0m\u001b[0mrev\u001b[0m\u001b[1;33m(\u001b[0m\u001b[1;33m)\u001b[0m\u001b[1;33m\u001b[0m\u001b[0m\n",
      "\u001b[1;31mNameError\u001b[0m: name 'pdLa' is not defined"
     ]
    }
   ],
   "source": [
    "def projection(a, b):\n",
    "    return (a | b) | b.inv()\n",
    "\n",
    "def rejection(a, b):\n",
    "    return (a ^ b) | b.inv()\n",
    "\n",
    "e123 = e1 ^ e2 ^ e3\n",
    "n = ( pdLa | e123 ) | -e123\n",
    "n * n.rev()"
   ]
  },
  {
   "cell_type": "code",
   "execution_count": null,
   "metadata": {
    "collapsed": false
   },
   "outputs": [],
   "source": [
    "# proj(pdLa, e123)"
   ]
  },
  {
   "cell_type": "code",
   "execution_count": null,
   "metadata": {
    "collapsed": false
   },
   "outputs": [],
   "source": [
    "rejection(pdLa, e123)"
   ]
  },
  {
   "cell_type": "code",
   "execution_count": null,
   "metadata": {
    "collapsed": false
   },
   "outputs": [],
   "source": [
    "#mlm = motor * dLa * motor.rev()"
   ]
  },
  {
   "cell_type": "code",
   "execution_count": null,
   "metadata": {
    "collapsed": false
   },
   "outputs": [],
   "source": [
    "#mlm"
   ]
  },
  {
   "cell_type": "code",
   "execution_count": null,
   "metadata": {
    "collapsed": false
   },
   "outputs": [],
   "source": [
    "dLa.Fmt(3)"
   ]
  },
  {
   "cell_type": "code",
   "execution_count": null,
   "metadata": {
    "collapsed": false
   },
   "outputs": [],
   "source": [
    "B = rotation_plane\n",
    "L = half * theta * (B - ( (t | B) * ni)) \n",
    "1 + L + ((L * L) / 2) + ((L * L * L) / 6)"
   ]
  },
  {
   "cell_type": "code",
   "execution_count": null,
   "metadata": {
    "collapsed": false
   },
   "outputs": [],
   "source": [
    "dual()"
   ]
  },
  {
   "cell_type": "code",
   "execution_count": null,
   "metadata": {
    "collapsed": false
   },
   "outputs": [],
   "source": [
    "motor * dLa"
   ]
  },
  {
   "cell_type": "code",
   "execution_count": 10,
   "metadata": {
    "collapsed": false
   },
   "outputs": [
    {
     "ename": "NameError",
     "evalue": "name 'dual' is not defined",
     "output_type": "error",
     "traceback": [
      "\u001b[1;31m---------------------------------------------------------------------------\u001b[0m",
      "\u001b[1;31mNameError\u001b[0m                                 Traceback (most recent call last)",
      "\u001b[1;32m<ipython-input-10-1565409c2eff>\u001b[0m in \u001b[0;36m<module>\u001b[1;34m()\u001b[0m\n\u001b[0;32m     25\u001b[0m \u001b[0md3\u001b[0m \u001b[1;33m=\u001b[0m \u001b[0me2\u001b[0m\u001b[1;33m\u001b[0m\u001b[0m\n\u001b[0;32m     26\u001b[0m \u001b[1;33m\u001b[0m\u001b[0m\n\u001b[1;32m---> 27\u001b[1;33m \u001b[0mdL1\u001b[0m \u001b[1;33m=\u001b[0m \u001b[0mdual\u001b[0m\u001b[1;33m(\u001b[0m\u001b[0mp1\u001b[0m \u001b[1;33m^\u001b[0m \u001b[0md1\u001b[0m \u001b[1;33m^\u001b[0m \u001b[0mni\u001b[0m\u001b[1;33m)\u001b[0m\u001b[1;33m\u001b[0m\u001b[0m\n\u001b[0m\u001b[0;32m     28\u001b[0m \u001b[0mdL2\u001b[0m \u001b[1;33m=\u001b[0m \u001b[0mdual\u001b[0m\u001b[1;33m(\u001b[0m\u001b[0mp2\u001b[0m \u001b[1;33m^\u001b[0m \u001b[0md2\u001b[0m \u001b[1;33m^\u001b[0m \u001b[0mni\u001b[0m\u001b[1;33m)\u001b[0m\u001b[1;33m\u001b[0m\u001b[0m\n\u001b[0;32m     29\u001b[0m \u001b[0mL3\u001b[0m \u001b[1;33m=\u001b[0m \u001b[0mp3\u001b[0m \u001b[1;33m^\u001b[0m \u001b[0md3\u001b[0m \u001b[1;33m^\u001b[0m \u001b[0mni\u001b[0m\u001b[1;33m\u001b[0m\u001b[0m\n",
      "\u001b[1;31mNameError\u001b[0m: name 'dual' is not defined"
     ]
    }
   ],
   "source": [
    "(th1, th2, th3) = symbols('phi_1, phi_2, phi_3')\n",
    "t1 = 1 - half * (  0.1273 * e3) * ni\n",
    "t2 = 1 - half * (0.220941 * e2) * ni\n",
    "t3 = 1 - half * ( -0.1719 * e2 + 0.612 * e1) * ni \n",
    "\n",
    "th1 = 0.0\n",
    "# th2 = -np.pi / 2.0\n",
    "th2 = 0.0\n",
    "th3 = 0.0\n",
    "\n",
    "\n",
    "r1 = cos( 0.5 * th1) - sin(0.5 * th1) * (e3 * e123)\n",
    "r2 = cos( 0.5 * th2) - sin(0.5 * th2) * (e2 * e123)\n",
    "r3 = cos( 0.5 * th3) - sin(0.5 * th3) * (e2 * e123)\n",
    "m1 = t1 * r1\n",
    "m2 = t2 * r2\n",
    "m3 = t3 * r3\n",
    "\n",
    "p1 = t1 * no * t1.rev()\n",
    "p2 = t2 * no * t2.rev()\n",
    "p3 = t3 * no * t3.rev()\n",
    "\n",
    "d1 = e3\n",
    "d2 = e2\n",
    "d3 = e2\n",
    "\n",
    "dL1 = dual(p1 ^ d1 ^ ni)\n",
    "dL2 = dual(p2 ^ d2 ^ ni)\n",
    "L3 = p3 ^ d3 ^ ni\n",
    "dL3 = dual(L3)\n"
   ]
  },
  {
   "cell_type": "code",
   "execution_count": null,
   "metadata": {
    "collapsed": false
   },
   "outputs": [],
   "source": [
    "( m1 * m2 * dL3 * m2.rev() * m1.rev() )"
   ]
  },
  {
   "cell_type": "code",
   "execution_count": null,
   "metadata": {
    "collapsed": false
   },
   "outputs": [],
   "source": [
    "no | ( m1  * dL2 * m1.rev() )"
   ]
  },
  {
   "cell_type": "code",
   "execution_count": null,
   "metadata": {
    "collapsed": false
   },
   "outputs": [],
   "source": [
    "( t1 * t2 * L3 * t2.rev() * t1.rev() )"
   ]
  },
  {
   "cell_type": "code",
   "execution_count": null,
   "metadata": {
    "collapsed": false
   },
   "outputs": [],
   "source": [
    "pe = m1 * m2 * m3 * no * m3.rev() * m2.rev() * m1.rev()"
   ]
  },
  {
   "cell_type": "code",
   "execution_count": null,
   "metadata": {
    "collapsed": false
   },
   "outputs": [],
   "source": [
    "g3 = t3 * r3 * t3.rev()\n",
    "g3\n",
    "\n",
    "g3 * dL1 * g3.rev()"
   ]
  },
  {
   "cell_type": "code",
   "execution_count": null,
   "metadata": {
    "collapsed": false
   },
   "outputs": [],
   "source": [
    "le = pe ^ e2 ^ ni\n",
    "le"
   ]
  },
  {
   "cell_type": "code",
   "execution_count": null,
   "metadata": {
    "collapsed": false
   },
   "outputs": [],
   "source": [
    "j1 = 0.5 * ( dual(le) * dL1 - dL1 * dual(le) )\n",
    "no | (j1 ^ ni)\n",
    "j1"
   ]
  },
  {
   "cell_type": "code",
   "execution_count": null,
   "metadata": {
    "collapsed": false
   },
   "outputs": [],
   "source": [
    "j2 = 0.5 * ( pe * m1* dL2 * m1.rev() - m1 * dL2 * m1.rev() * pe)"
   ]
  },
  {
   "cell_type": "code",
   "execution_count": null,
   "metadata": {
    "collapsed": false
   },
   "outputs": [],
   "source": [
    "no | (j2 ^ ni)"
   ]
  },
  {
   "cell_type": "code",
   "execution_count": null,
   "metadata": {
    "collapsed": false
   },
   "outputs": [],
   "source": [
    "no | ((pe | dL1) ^ ni)"
   ]
  },
  {
   "cell_type": "code",
   "execution_count": null,
   "metadata": {
    "collapsed": false
   },
   "outputs": [],
   "source": [
    "no | ( (pe | (m1 * dL2 * m1.rev())) ^ ni)"
   ]
  },
  {
   "cell_type": "code",
   "execution_count": null,
   "metadata": {
    "collapsed": false
   },
   "outputs": [],
   "source": [
    "pe | dL1"
   ]
  },
  {
   "cell_type": "code",
   "execution_count": null,
   "metadata": {
    "collapsed": false
   },
   "outputs": [],
   "source": [
    "dL1 | pe"
   ]
  }
 ],
 "metadata": {
  "kernelspec": {
   "display_name": "Python 2",
   "language": "python",
   "name": "python2"
  },
  "language_info": {
   "codemirror_mode": {
    "name": "ipython",
    "version": 2
   },
   "file_extension": ".py",
   "mimetype": "text/x-python",
   "name": "python",
   "nbconvert_exporter": "python",
   "pygments_lexer": "ipython2",
   "version": "2.7.6"
  }
 },
 "nbformat": 4,
 "nbformat_minor": 0
}
