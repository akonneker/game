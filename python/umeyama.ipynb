{
 "cells": [
  {
   "cell_type": "code",
   "execution_count": 2,
   "metadata": {
    "collapsed": false
   },
   "outputs": [
    {
     "name": "stdout",
     "output_type": "stream",
     "text": [
      "Populating the interactive namespace from numpy and matplotlib\n"
     ]
    }
   ],
   "source": [
    "%pylab inline"
   ]
  },
  {
   "cell_type": "code",
   "execution_count": 4,
   "metadata": {
    "collapsed": false
   },
   "outputs": [],
   "source": [
    "def ralign(X,Y):\n",
    "    m, n = X.shape\n",
    "\n",
    "    mx = X.mean(1)\n",
    "    my = Y.mean(1)\n",
    "    Xc =  X - np.tile(mx, (n, 1)).T\n",
    "    Yc =  Y - np.tile(my, (n, 1)).T\n",
    "\n",
    "    sx = np.mean(np.sum(Xc*Xc, 0))\n",
    "    sy = np.mean(np.sum(Yc*Yc, 0))\n",
    "\n",
    "    Sxy = np.dot(Yc, Xc.T) / n\n",
    "\n",
    "    U,D,V = np.linalg.svd(Sxy,full_matrices=True,compute_uv=True)\n",
    "    V=V.T.copy()\n",
    "    #print U,\"\\n\\n\",D,\"\\n\\n\",V\n",
    "    r = np.rank(Sxy)\n",
    "    d = np.linalg.det(Sxy)\n",
    "    S = np.eye(m)\n",
    "    if r > (m - 1):\n",
    "        if ( np.det(Sxy) < 0 ):\n",
    "            S[m, m] = -1;\n",
    "        elif (r == m - 1):\n",
    "            if (np.det(U) * np.det(V) < 0):\n",
    "                S[m, m] = -1  \n",
    "        else:\n",
    "            R = np.eye(2)\n",
    "            c = 1\n",
    "            t = np.zeros(2)\n",
    "            return R,c,t\n",
    "\n",
    "    R = np.dot( np.dot(U, S ), V.T)\n",
    "\n",
    "    c = np.trace(np.dot(np.diag(D), S)) / sx\n",
    "    t = my - c * np.dot(R, mx)\n",
    "\n",
    "    return R,c,t"
   ]
  }
 ],
 "metadata": {
  "kernelspec": {
   "display_name": "Python 2",
   "language": "python",
   "name": "python2"
  },
  "language_info": {
   "codemirror_mode": {
    "name": "ipython",
    "version": 2
   },
   "file_extension": ".py",
   "mimetype": "text/x-python",
   "name": "python",
   "nbconvert_exporter": "python",
   "pygments_lexer": "ipython2",
   "version": "2.7.6"
  }
 },
 "nbformat": 4,
 "nbformat_minor": 0
}
