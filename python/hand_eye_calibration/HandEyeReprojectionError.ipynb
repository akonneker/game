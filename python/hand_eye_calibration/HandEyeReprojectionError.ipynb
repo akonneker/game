{
 "cells": [
  {
   "cell_type": "code",
   "execution_count": 43,
   "metadata": {
    "collapsed": false
   },
   "outputs": [
    {
     "name": "stdout",
     "output_type": "stream",
     "text": [
      "Populating the interactive namespace from numpy and matplotlib\n"
     ]
    },
    {
     "name": "stderr",
     "output_type": "stream",
     "text": [
      "WARNING: pylab import has clobbered these variables: ['copy', 'angle', 'axis']\n",
      "`%matplotlib` prevents importing * from pylab and numpy\n"
     ]
    }
   ],
   "source": [
    "from __future__ import print_function\n",
    "import sys\n",
    "import copy\n",
    "sys.path.append('../build/')\n",
    "%pylab inline\n",
    "np.set_printoptions(precision=4, suppress=True)\n",
    "import cPickle as pickle\n",
    "import cv2\n",
    "import math3d as m3d\n",
    "import versor as vsr\n",
    "from motor_estimation import MotorEstimationSolver\n",
    "from hand_eye_calibration import HandEyeCalibrator\n",
    "from chessboard import calibrate_lens, find_corners, get_object_pose"
   ]
  },
  {
   "cell_type": "markdown",
   "metadata": {},
   "source": [
    "### Object points"
   ]
  },
  {
   "cell_type": "code",
   "execution_count": 44,
   "metadata": {
    "collapsed": false
   },
   "outputs": [],
   "source": [
    "pattern_size = (10,6)\n",
    "square_size = 0.02\n",
    "pattern_points = np.zeros( (np.prod(pattern_size), 3), np.float64)\n",
    "pattern_points[:,:2] = np.indices(pattern_size).T.reshape(-1,2)\n",
    "pattern_points *= square_size"
   ]
  },
  {
   "cell_type": "markdown",
   "metadata": {},
   "source": [
    "### Robot poses"
   ]
  },
  {
   "cell_type": "code",
   "execution_count": 45,
   "metadata": {
    "collapsed": false
   },
   "outputs": [],
   "source": [
    "rob_pose_list = pickle.load(open('pose_list.dump'))\n",
    "rob_motors = [vsr.Vec(*pos).trs() * vsr.Rot(vsr.Vec(*axis).unduale() * angle / 2.)\n",
    "              for pos, (axis, angle) in [(m3d.Transform(pose).pos, \n",
    "                                          m3d.Transform(pose).orient.axis_angle)\n",
    "                                         for pose in rob_pose_list]]"
   ]
  },
  {
   "cell_type": "markdown",
   "metadata": {},
   "source": [
    "### Object poses"
   ]
  },
  {
   "cell_type": "code",
   "execution_count": 46,
   "metadata": {
    "collapsed": true
   },
   "outputs": [],
   "source": [
    "obj_pose_list = pickle.load(open('obj_pose_list.dump'))\n",
    "obj_motors = [vsr.Vec(*pos).trs() * vsr.Rot(vsr.Vec(*axis).unduale() * angle / 2.)\n",
    "              for pos, (axis, angle) in [(m3d.Transform(pose).pos, \n",
    "                                          m3d.Transform(pose).orient.axis_angle)\n",
    "                                         for pose in obj_pose_list]]"
   ]
  },
  {
   "cell_type": "markdown",
   "metadata": {},
   "source": [
    "### Pixels"
   ]
  },
  {
   "cell_type": "code",
   "execution_count": 5,
   "metadata": {
    "collapsed": false
   },
   "outputs": [],
   "source": [
    "images = pickle.load(open('image_list.dump'))\n",
    "camera_matrix, dist_coeffs = calibrate_lens(images)"
   ]
  },
  {
   "cell_type": "code",
   "execution_count": 6,
   "metadata": {
    "collapsed": false
   },
   "outputs": [
    {
     "name": "stdout",
     "output_type": "stream",
     "text": [
      "9\n"
     ]
    }
   ],
   "source": [
    "intrinsics = [camera_matrix[0,0],  camera_matrix[1,1],\n",
    "              camera_matrix[0,2], camera_matrix[1,2]] + \\\n",
    "              dist_coeffs.tolist()\n",
    "print(len(intrinsics))"
   ]
  },
  {
   "cell_type": "code",
   "execution_count": 47,
   "metadata": {
    "collapsed": false
   },
   "outputs": [],
   "source": [
    "corners = [corners for corners in \n",
    "           [find_corners(image, pattern_size)[1].reshape(-1,2) \n",
    "            for image in images]]"
   ]
  },
  {
   "cell_type": "markdown",
   "metadata": {},
   "source": [
    "### Initital estimate"
   ]
  },
  {
   "cell_type": "code",
   "execution_count": 58,
   "metadata": {
    "collapsed": false
   },
   "outputs": [
    {
     "name": "stdout",
     "output_type": "stream",
     "text": [
      "Mot: [ 0.004 -0.0055 -0.68 -0.74 -0.044 -0.047 0.053 -0.0072 ]\n",
      "Mot: [ -0.66 -0.26 -0.26 -0.66 -0.3 -0.66 -0.15 -0.1 ]\n",
      "\n",
      "Solver Summary (v 1.12.0-eigen-(3.2.7)-lapack-suitesparse-(4.4.4)-cxsparse-(3.1.4)-openmp)\n",
      "\n",
      "                                     Original                  Reduced\n",
      "Parameter blocks                            1                        1\n",
      "Parameters                                  8                        8\n",
      "Effective parameters                        6                        6\n",
      "Residual blocks                           210                      210\n",
      "Residual                                 1260                     1260\n",
      "\n",
      "Minimizer                        TRUST_REGION\n",
      "\n",
      "Dense linear algebra library            EIGEN\n",
      "Trust region strategy     LEVENBERG_MARQUARDT\n",
      "\n",
      "                                        Given                     Used\n",
      "Linear solver                        DENSE_QR                 DENSE_QR\n",
      "Threads                                     1                        1\n",
      "Linear solver threads                       1                        1\n",
      "\n",
      "Cost:\n",
      "Initial                          1.056910e+03\n",
      "Final                            3.056245e+00\n",
      "Change                           1.053854e+03\n",
      "\n",
      "Minimizer iterations                       14\n",
      "Successful steps                           14\n",
      "Unsuccessful steps                          0\n",
      "\n",
      "Time (in seconds):\n",
      "Preprocessor                           0.0013\n",
      "\n",
      "  Residual evaluation                  0.0004\n",
      "  Jacobian evaluation                  0.0081\n",
      "  Linear solver                        0.0008\n",
      "Minimizer                              0.0100\n",
      "\n",
      "Postprocessor                          0.0000\n",
      "Total                                  0.0114\n",
      "\n",
      "Termination:                      CONVERGENCE (Parameter tolerance reached. Relative step_norm: 3.906056e-09 <= 1.000000e-08.)\n",
      "\n"
     ]
    }
   ],
   "source": [
    "n_lines = len(rob_motors)\n",
    "lines_a = []\n",
    "lines_b = []\n",
    "for i in range(n_lines):\n",
    "    for j in range(i+1,n_lines):\n",
    "        lines_a.append(((rob_motors[j].rev() * rob_motors[i]).log() * 0.5).unit())\n",
    "        lines_b.append(((obj_motors[j].rev() * obj_motors[i]).log() * 0.5).unit())\n",
    "initial_motor = vsr.Mot(1.0, 0.0, 0.0, 0.0, 0.0, 0.0, 0.0, 0.0)\n",
    "mes = MotorEstimationSolver(initial_motor)\n",
    "for a, b in zip(lines_a, lines_b):\n",
    "    mes.add_line_correspondences_residual_block(b,a)\n",
    "mes.set_parameterization('BIVECTOR_GENERATOR')\n",
    "mes.linear_solver_type = \"DENSE_QR\"\n",
    "mes.max_num_iterations = 25\n",
    "mes.function_tolerance = 1e-12\n",
    "estimated_hand_eye_motor, summary = mes.solve()\n",
    "print(estimated_hand_eye_motor)\n",
    "bivectors = [np.array((r * estimated_hand_eye_motor * o.rev()).log()) \n",
    "             for r, o in zip(rob_motors, obj_motors)]\n",
    "estimated_camera_robot_motor = vsr.Dll(*np.average(bivectors,0)).exp()\n",
    "print(estimated_camera_robot_motor)\n",
    "print(summary['full_report'])"
   ]
  },
  {
   "cell_type": "code",
   "execution_count": 59,
   "metadata": {
    "collapsed": false
   },
   "outputs": [
    {
     "name": "stdout",
     "output_type": "stream",
     "text": [
      "Pnt: [ 0.04204 0.1157 0.9433 1 0.4525 ]\n",
      "Pnt: [ 0.02951 0.1021 0.9507 1 0.4576 ]\n",
      "\n",
      "Pnt: [ 0.046 0.1775 0.928 1 0.4474 ]\n",
      "Pnt: [ 0.04638 0.171 0.9286 1 0.4469 ]\n",
      "\n",
      "Pnt: [ -0.1384 0.1527 0.9388 1 0.462 ]\n",
      "Pnt: [ -0.1383 0.1525 0.938 1 0.4611 ]\n",
      "\n",
      "Pnt: [ -0.1465 0.1062 0.9426 1 0.4607 ]\n",
      "Pnt: [ -0.1561 0.09907 0.9457 1 0.4643 ]\n",
      "\n",
      "Pnt: [ -0.3186 0.08387 0.905 1 0.4638 ]\n",
      "Pnt: [ -0.3217 0.08077 0.9049 1 0.4645 ]\n",
      "\n",
      "Pnt: [ -0.3181 0.1411 0.9031 1 0.4683 ]\n",
      "Pnt: [ -0.31 0.1466 0.9027 1 0.4662 ]\n",
      "\n",
      "Pnt: [ -0.2504 -0.04202 0.916 1 0.4517 ]\n",
      "Pnt: [ -0.2429 -0.03701 0.9139 1 0.4478 ]\n",
      "\n",
      "Pnt: [ -0.1999 -0.07582 0.9242 1 0.4499 ]\n",
      "Pnt: [ -0.1997 -0.07914 0.9206 1 0.4468 ]\n",
      "\n",
      "Pnt: [ -0.008437 -0.04911 0.9757 1 0.4773 ]\n",
      "Pnt: [ -0.01473 -0.05702 0.9749 1 0.4769 ]\n",
      "\n",
      "Pnt: [ 0.1749 0.06682 1.041 1 0.5598 ]\n",
      "Pnt: [ 0.1698 0.07036 1.045 1 0.5629 ]\n",
      "\n",
      "Pnt: [ 0.1472 0.1037 1.032 1 0.5491 ]\n",
      "Pnt: [ 0.1525 0.1105 1.032 1 0.5505 ]\n",
      "\n",
      "Pnt: [ 0.002844 0.1123 0.6191 1 0.1979 ]\n",
      "Pnt: [ 0.002679 0.1064 0.6169 1 0.196 ]\n",
      "\n",
      "Pnt: [ -0.003107 0.05831 0.6295 1 0.1999 ]\n",
      "Pnt: [ -0.01504 0.04601 0.6327 1 0.2013 ]\n",
      "\n",
      "Pnt: [ -0.1713 0.05327 0.5629 1 0.1745 ]\n",
      "Pnt: [ -0.1742 0.04888 0.5605 1 0.1735 ]\n",
      "\n",
      "Pnt: [ -0.1657 0.1205 0.566 1 0.1812 ]\n",
      "Pnt: [ -0.1546 0.1248 0.5648 1 0.1792 ]\n",
      "\n",
      "Pnt: [ 0.1571 0.2126 1.242 1 0.8059 ]\n",
      "Pnt: [ 0.1583 0.209 1.247 1 0.8118 ]\n",
      "\n",
      "Pnt: [ 0.1122 -0.02287 1.156 1 0.6753 ]\n",
      "Pnt: [ 0.113 -0.01785 1.166 1 0.6858 ]\n",
      "\n",
      "Pnt: [ -0.2527 0.07109 1.288 1 0.8633 ]\n",
      "Pnt: [ -0.245 0.07664 1.284 1 0.8567 ]\n",
      "\n",
      "Pnt: [ -0.172 -0.006157 1.351 1 0.9277 ]\n",
      "Pnt: [ -0.178 -0.01045 1.348 1 0.9248 ]\n",
      "\n",
      "Pnt: [ -0.487 0.1956 1.255 1 0.9248 ]\n",
      "Pnt: [ -0.4719 0.2044 1.26 1 0.9258 ]\n",
      "\n",
      "Pnt: [ -0.1935 0.07125 1.503 1 1.15 ]\n",
      "Pnt: [ -0.1855 0.07604 1.503 1 1.149 ]\n",
      "\n"
     ]
    }
   ],
   "source": [
    "for i in range(len(obj_motors)):\n",
    "    A = rob_motors[i]\n",
    "    X = estimated_hand_eye_motor\n",
    "    Z = estimated_camera_robot_motor\n",
    "    B = obj_motors[i]\n",
    "    p1 = vsr.Vec(*pattern_points[40]).null().spin(Z.rev() * A * X)\n",
    "    print(p1)\n",
    "    p2 = vsr.Vec(*pattern_points[40]).null().spin(B)\n",
    "    print(p2)\n",
    "    print()"
   ]
  },
  {
   "cell_type": "code",
   "execution_count": 60,
   "metadata": {
    "collapsed": false
   },
   "outputs": [],
   "source": [
    "# A = vsr.Vec(0,0,1).trs() * vsr.Biv(0,0,0).exp()\n",
    "# X = vsr.Vec(0.1,0, 0).trs() * vsr.Biv(0,0,0).exp()\n",
    "# Z = vsr.Vec(2, 0, 1).trs() *  vsr.Rot(vsr.Biv(0,1,0) * pi/4)\n",
    "# B = Z.rev() * A * X\n",
    "# print(vsr.Vec(0,0,0).null().spin(A * X))\n",
    "# print(vsr.Vec(0,0,0).null().spin(Z * B))"
   ]
  },
  {
   "cell_type": "code",
   "execution_count": 61,
   "metadata": {
    "collapsed": false
   },
   "outputs": [
    {
     "data": {
      "text/plain": [
       "array([[-0.04  , -0.7854, -0.6177,  0.0674],\n",
       "       [ 0.2279,  0.5947, -0.7709,  0.4222],\n",
       "       [ 0.9729, -0.1717,  0.1552,  0.7171],\n",
       "       [ 0.    ,  0.    ,  0.    ,  0.    ]])"
      ]
     },
     "execution_count": 61,
     "metadata": {},
     "output_type": "execute_result"
    }
   ],
   "source": [
    "A.matrix()"
   ]
  },
  {
   "cell_type": "code",
   "execution_count": 62,
   "metadata": {
    "collapsed": false
   },
   "outputs": [
    {
     "data": {
      "text/plain": [
       "array([[ 0.0835, -0.9965,  0.0027,  0.0611],\n",
       "       [-0.9964, -0.0835, -0.0134,  0.0887],\n",
       "       [ 0.0136, -0.0015, -0.9999,  0.128 ],\n",
       "       [ 0.    ,  0.    ,  0.    ,  0.    ]])"
      ]
     },
     "execution_count": 62,
     "metadata": {},
     "output_type": "execute_result"
    }
   ],
   "source": [
    "X.matrix()"
   ]
  },
  {
   "cell_type": "code",
   "execution_count": 63,
   "metadata": {
    "collapsed": false
   },
   "outputs": [
    {
     "name": "stdout",
     "output_type": "stream",
     "text": [
      "Pnt: [ -0.07896 0.3846 0.7762 1 0.3783 ]\n"
     ]
    }
   ],
   "source": [
    "p1 = vsr.Vec(*pattern_points[0]).null().spin(Z * B)\n",
    "print(p1)"
   ]
  },
  {
   "cell_type": "code",
   "execution_count": 64,
   "metadata": {
    "collapsed": false
   },
   "outputs": [
    {
     "name": "stdout",
     "output_type": "stream",
     "text": [
      "Pnt: [ -0.08379 0.3902 0.7811 1 0.3847 ]\n"
     ]
    }
   ],
   "source": [
    "p2 = vsr.Vec(*pattern_points[0]).null().spin(A * X)\n",
    "print(p2)"
   ]
  },
  {
   "cell_type": "code",
   "execution_count": 65,
   "metadata": {
    "collapsed": false
   },
   "outputs": [
    {
     "data": {
      "text/plain": [
       "0.020575227823769093"
      ]
     },
     "execution_count": 65,
     "metadata": {},
     "output_type": "execute_result"
    }
   ],
   "source": [
    "np.linalg.norm(np.array([-0.2609, -0.2065, 0.7425]) - \n",
    "               np.array([-0.2568, -0.2212, 0.7287]))"
   ]
  },
  {
   "cell_type": "code",
   "execution_count": 66,
   "metadata": {
    "collapsed": false
   },
   "outputs": [],
   "source": [
    "h = np.array(p2, copy=True)"
   ]
  },
  {
   "cell_type": "code",
   "execution_count": 67,
   "metadata": {
    "collapsed": false
   },
   "outputs": [],
   "source": [
    "j = np.array(p1,copy=True)"
   ]
  },
  {
   "cell_type": "code",
   "execution_count": 68,
   "metadata": {
    "collapsed": false
   },
   "outputs": [
    {
     "data": {
      "text/plain": [
       "array([-0.5, -0.5, -0.5])"
      ]
     },
     "execution_count": 68,
     "metadata": {},
     "output_type": "execute_result"
    }
   ],
   "source": [
    "np.array([-1,-2,-3]) - np.array([-0.5, -1.5, -2.5])"
   ]
  },
  {
   "cell_type": "code",
   "execution_count": 82,
   "metadata": {
    "collapsed": false
   },
   "outputs": [
    {
     "name": "stdout",
     "output_type": "stream",
     "text": [
      "Pnt: [ 0.1 0.04 0 1 0.0058 ]\n",
      "Pnt: [ 0.02955 -0.01426 0.1293 1 0.008899 ]\n",
      "Pnt: [ -0.002453 0.3207 0.7683 1 0.3466 ]\n",
      "Pnt: [ -0.1078 0.007956 1.518 1 1.158 ]\n",
      "Pnt: [ -0.1078 0.007956 1.518 1 1.158 ]\n"
     ]
    }
   ],
   "source": [
    "p = vsr.Vec(*pattern_points[25]).null()\n",
    "print(p)\n",
    "p = p.spin(X)\n",
    "print(p)\n",
    "p = p.spin(A)\n",
    "print(p)\n",
    "p = p.spin(Z.rev())\n",
    "print(p)\n",
    "p = vsr.Vec(*pattern_points[25]).null().spin(Z.rev() * A * X)\n",
    "print(p)"
   ]
  },
  {
   "cell_type": "code",
   "execution_count": 83,
   "metadata": {
    "collapsed": false
   },
   "outputs": [
    {
     "name": "stdout",
     "output_type": "stream",
     "text": [
      "Pnt: [ 0 0 0 1 0 ]\n",
      "Pnt: [ 0.06741 0.4222 0.7171 1 0.3485 ]\n",
      "Pnt: [ -0.3521 -0.02334 -0.5887 1 0.2356 ]\n",
      "Pnt: [ -0.1078 0.007956 1.518 1 1.158 ]\n"
     ]
    }
   ],
   "source": [
    "# p = vsr.Vec(*pattern_points[25]).null()\n",
    "p = vsr.Vec(0,0,0).null()\n",
    "print(p)\n",
    "# p = p.spin(Z.rev())\n",
    "# print(p)\n",
    "p = p.spin(A)\n",
    "print(p)\n",
    "p = p.spin(X)\n",
    "print(p)\n",
    "p = vsr.Vec(*pattern_points[25]).null().spin(Z.rev() * A * X)\n",
    "print(p)"
   ]
  },
  {
   "cell_type": "code",
   "execution_count": 84,
   "metadata": {
    "collapsed": false
   },
   "outputs": [],
   "source": [
    "mot = Z.rev() *  A * X\n",
    "tvec = mot.matrix()[:3,3]\n",
    "rvec, _ = cv2.Rodrigues(mot.matrix()[:3,:3])\n",
    "points0 = cv2.projectPoints(pattern_points, rvec, tvec, \n",
    "                            camera_matrix, dist_coeffs)[0].reshape(-1,2).astype(np.float32)\n",
    "mot = B\n",
    "tvec = mot.matrix()[:3,3]\n",
    "rvec, _ = cv2.Rodrigues(mot.matrix()[:3,:3])\n",
    "points1 = cv2.projectPoints(pattern_points, rvec, tvec, camera_matrix,\n",
    "                            dist_coeffs)[0].reshape(-1,2).astype(np.float32)\n",
    "\n",
    "bivectors = [np.array((r * X * o.rev()).log()) \n",
    "             for r, o in zip(rob_motors, obj_motors)]\n",
    "Z = vsr.Dll(*np.average(bivectors,0)).exp()\n",
    "mot = Z.rev() *  A * X\n",
    "tvec = mot.matrix()[:3,3]\n",
    "rvec, _ = cv2.Rodrigues(mot.matrix()[:3,:3])\n",
    "points2 = cv2.projectPoints(pattern_points, rvec, tvec, \n",
    "                            camera_matrix, dist_coeffs)[0].reshape(-1,2).astype(np.float32)"
   ]
  },
  {
   "cell_type": "code",
   "execution_count": 85,
   "metadata": {
    "collapsed": false
   },
   "outputs": [
    {
     "name": "stdout",
     "output_type": "stream",
     "text": [
      "Pnt: [ -0.2146 -0.005152 1.514 1 1.168 ]\n",
      "340.371134859\n",
      "364.062676105\n"
     ]
    }
   ],
   "source": [
    "p = vsr.Vec(*pattern_points[0]).null().spin(Z.rev() *  A * X)\n",
    "# p = vsr.Vec(*pattern_points[0]).null().spin(B)\n",
    "\n",
    "print(p)\n",
    "\n",
    "focal_length_x = camera_matrix[0,0] \n",
    "focal_length_y = camera_matrix[1,1] \n",
    "principal_point_x = camera_matrix[0,2]\n",
    "principal_point_y = camera_matrix[1,2]\n",
    "k1,k2,p1,p2,k3 = dist_coeffs\n",
    "\n",
    "x = p[0] / p[2]\n",
    "y = p[1] / p[2]\n",
    "r2 = x * x + y * y\n",
    "r4 = r2 * r2\n",
    "r6 = r4 * r2\n",
    "r_coeff = (1 + k1 * r2 + k2 * r4 + k3 * r6)\n",
    "xd = x * r_coeff + 2 * p1 * x * y + p2 * (r2 + 2 * x * x)\n",
    "yd = y * r_coeff + 2 * p2 * x * y + p1 * (r2 + 2 * y * y)\n",
    "\n",
    "# Apply focal length and principal point to get the final image\n",
    "# coordinates.\n",
    "image_x = focal_length_x * xd + principal_point_x;\n",
    "image_y = focal_length_y * yd + principal_point_y;\n",
    "\n",
    "print(image_x)\n",
    "print(image_y)"
   ]
  },
  {
   "cell_type": "code",
   "execution_count": 86,
   "metadata": {
    "collapsed": false
   },
   "outputs": [
    {
     "data": {
      "text/plain": [
       "array([ 346.5833,  368.3609], dtype=float32)"
      ]
     },
     "execution_count": 86,
     "metadata": {},
     "output_type": "execute_result"
    }
   ],
   "source": [
    "points1[0]"
   ]
  },
  {
   "cell_type": "code",
   "execution_count": 87,
   "metadata": {
    "collapsed": false
   },
   "outputs": [
    {
     "data": {
      "text/plain": [
       "(615.12787, 409.75198)"
      ]
     },
     "execution_count": 87,
     "metadata": {},
     "output_type": "execute_result"
    }
   ],
   "source": [
    "tuple(corners[0][0])"
   ]
  },
  {
   "cell_type": "code",
   "execution_count": 88,
   "metadata": {
    "collapsed": false
   },
   "outputs": [],
   "source": [
    "cv2.circle(img, tuple(corners[0][0]), 2,(255,0,0), -1)"
   ]
  },
  {
   "cell_type": "code",
   "execution_count": 89,
   "metadata": {
    "collapsed": false
   },
   "outputs": [
    {
     "name": "stdout",
     "output_type": "stream",
     "text": [
      "(60, 2)\n"
     ]
    }
   ],
   "source": [
    "print(corners[0].shape)\n",
    "points0 = points0.reshape(-1,2)\n",
    "points0[0]\n",
    "xpt = tuple(points0[0])"
   ]
  },
  {
   "cell_type": "code",
   "execution_count": 90,
   "metadata": {
    "collapsed": false
   },
   "outputs": [
    {
     "ename": "NameError",
     "evalue": "name 'repr_corners0' is not defined",
     "output_type": "error",
     "traceback": [
      "\u001b[0;31m---------------------------------------------------------------------------\u001b[0m",
      "\u001b[0;31mNameError\u001b[0m                                 Traceback (most recent call last)",
      "\u001b[0;32m<ipython-input-90-d17fe30fe4d4>\u001b[0m in \u001b[0;36m<module>\u001b[0;34m()\u001b[0m\n\u001b[0;32m----> 1\u001b[0;31m \u001b[0mrepr_corners\u001b[0m \u001b[0;34m=\u001b[0m \u001b[0mrepr_corners0\u001b[0m\u001b[0;34m[\u001b[0m\u001b[0;36m0\u001b[0m\u001b[0;34m]\u001b[0m\u001b[0;34m.\u001b[0m\u001b[0mreshape\u001b[0m\u001b[0;34m(\u001b[0m\u001b[0;34m-\u001b[0m\u001b[0;36m1\u001b[0m\u001b[0;34m,\u001b[0m\u001b[0;36m2\u001b[0m\u001b[0;34m)\u001b[0m\u001b[0;34m.\u001b[0m\u001b[0mastype\u001b[0m\u001b[0;34m(\u001b[0m\u001b[0mnp\u001b[0m\u001b[0;34m.\u001b[0m\u001b[0mfloat32\u001b[0m\u001b[0;34m)\u001b[0m\u001b[0;34m\u001b[0m\u001b[0m\n\u001b[0m",
      "\u001b[0;31mNameError\u001b[0m: name 'repr_corners0' is not defined"
     ]
    }
   ],
   "source": [
    "repr_corners = repr_corners0[0].reshape(-1,2).astype(np.float32)"
   ]
  },
  {
   "cell_type": "code",
   "execution_count": 91,
   "metadata": {
    "collapsed": false
   },
   "outputs": [
    {
     "data": {
      "text/plain": [
       "array([[ 0.8494, -0.4184,  0.3216,  0.063 ],\n",
       "       [ 0.3637,  0.9057,  0.2178,  0.0296],\n",
       "       [-0.3824, -0.068 ,  0.9215,  0.9562],\n",
       "       [ 0.    ,  0.    ,  0.    ,  0.    ]])"
      ]
     },
     "execution_count": 91,
     "metadata": {},
     "output_type": "execute_result"
    }
   ],
   "source": [
    "cv2.solvePnP(pattern_points, corners[0], camera_matrix, dist_coeffs)\n",
    "obj_motors[0].matrix()"
   ]
  },
  {
   "cell_type": "code",
   "execution_count": 79,
   "metadata": {
    "collapsed": false
   },
   "outputs": [
    {
     "ename": "NameError",
     "evalue": "name 'points2' is not defined",
     "output_type": "error",
     "traceback": [
      "\u001b[0;31m---------------------------------------------------------------------------\u001b[0m",
      "\u001b[0;31mNameError\u001b[0m                                 Traceback (most recent call last)",
      "\u001b[0;32m<ipython-input-79-9bef27b8aa94>\u001b[0m in \u001b[0;36m<module>\u001b[0;34m()\u001b[0m\n\u001b[1;32m      3\u001b[0m \u001b[0;34m[\u001b[0m\u001b[0mcv2\u001b[0m\u001b[0;34m.\u001b[0m\u001b[0mcircle\u001b[0m\u001b[0;34m(\u001b[0m\u001b[0mimg\u001b[0m\u001b[0;34m,\u001b[0m \u001b[0mtuple\u001b[0m\u001b[0;34m(\u001b[0m\u001b[0mc\u001b[0m\u001b[0;34m)\u001b[0m\u001b[0;34m,\u001b[0m    \u001b[0;36m1\u001b[0m\u001b[0;34m,\u001b[0m\u001b[0;34m(\u001b[0m\u001b[0;36m255\u001b[0m\u001b[0;34m,\u001b[0m\u001b[0;36m0\u001b[0m\u001b[0;34m,\u001b[0m\u001b[0;36m0\u001b[0m\u001b[0;34m)\u001b[0m\u001b[0;34m,\u001b[0m \u001b[0;34m-\u001b[0m\u001b[0;36m1\u001b[0m\u001b[0;34m)\u001b[0m \u001b[0;32mfor\u001b[0m \u001b[0mc\u001b[0m \u001b[0;32min\u001b[0m \u001b[0mcorners\u001b[0m\u001b[0;34m[\u001b[0m\u001b[0;36m0\u001b[0m\u001b[0;34m]\u001b[0m\u001b[0;34m]\u001b[0m\u001b[0;34m\u001b[0m\u001b[0m\n\u001b[1;32m      4\u001b[0m \u001b[0;34m[\u001b[0m\u001b[0mcv2\u001b[0m\u001b[0;34m.\u001b[0m\u001b[0mcircle\u001b[0m\u001b[0;34m(\u001b[0m\u001b[0mimg\u001b[0m\u001b[0;34m,\u001b[0m \u001b[0mtuple\u001b[0m\u001b[0;34m(\u001b[0m\u001b[0mc\u001b[0m\u001b[0;34m)\u001b[0m\u001b[0;34m,\u001b[0m    \u001b[0;36m1\u001b[0m\u001b[0;34m,\u001b[0m\u001b[0;34m(\u001b[0m\u001b[0;36m0\u001b[0m\u001b[0;34m,\u001b[0m\u001b[0;36m255\u001b[0m\u001b[0;34m,\u001b[0m\u001b[0;36m0\u001b[0m\u001b[0;34m)\u001b[0m\u001b[0;34m,\u001b[0m \u001b[0;34m-\u001b[0m\u001b[0;36m1\u001b[0m\u001b[0;34m)\u001b[0m \u001b[0;32mfor\u001b[0m \u001b[0mc\u001b[0m \u001b[0;32min\u001b[0m \u001b[0mpoints0\u001b[0m\u001b[0;34m]\u001b[0m\u001b[0;34m\u001b[0m\u001b[0m\n\u001b[0;32m----> 5\u001b[0;31m \u001b[0;34m[\u001b[0m\u001b[0mcv2\u001b[0m\u001b[0;34m.\u001b[0m\u001b[0mcircle\u001b[0m\u001b[0;34m(\u001b[0m\u001b[0mimg\u001b[0m\u001b[0;34m,\u001b[0m \u001b[0mtuple\u001b[0m\u001b[0;34m(\u001b[0m\u001b[0mc\u001b[0m\u001b[0;34m)\u001b[0m\u001b[0;34m,\u001b[0m    \u001b[0;36m1\u001b[0m\u001b[0;34m,\u001b[0m\u001b[0;34m(\u001b[0m\u001b[0;36m0\u001b[0m\u001b[0;34m,\u001b[0m\u001b[0;36m0\u001b[0m\u001b[0;34m,\u001b[0m\u001b[0;36m255\u001b[0m\u001b[0;34m)\u001b[0m\u001b[0;34m,\u001b[0m \u001b[0;34m-\u001b[0m\u001b[0;36m1\u001b[0m\u001b[0;34m)\u001b[0m \u001b[0;32mfor\u001b[0m \u001b[0mc\u001b[0m \u001b[0;32min\u001b[0m \u001b[0mpoints2\u001b[0m\u001b[0;34m]\u001b[0m\u001b[0;34m\u001b[0m\u001b[0m\n\u001b[0m\u001b[1;32m      6\u001b[0m \u001b[0mplt\u001b[0m\u001b[0;34m.\u001b[0m\u001b[0mimshow\u001b[0m\u001b[0;34m(\u001b[0m\u001b[0mimg\u001b[0m\u001b[0;34m[\u001b[0m\u001b[0;36m450\u001b[0m\u001b[0;34m:\u001b[0m\u001b[0;36m600\u001b[0m\u001b[0;34m,\u001b[0m\u001b[0;36m500\u001b[0m\u001b[0;34m:\u001b[0m\u001b[0;36m700\u001b[0m\u001b[0;34m]\u001b[0m\u001b[0;34m,\u001b[0m \u001b[0mcmap\u001b[0m\u001b[0;34m=\u001b[0m\u001b[0;34m'brg'\u001b[0m\u001b[0;34m)\u001b[0m\u001b[0;34m\u001b[0m\u001b[0m\n",
      "\u001b[0;31mNameError\u001b[0m: name 'points2' is not defined"
     ]
    }
   ],
   "source": [
    "img = images[0].copy()\n",
    "img = cv2.cvtColor(img, cv2.COLOR_GRAY2RGB)\n",
    "[cv2.circle(img, tuple(c),    1,(255,0,0), -1) for c in corners[0]]\n",
    "[cv2.circle(img, tuple(c),    1,(0,255,0), -1) for c in points0]\n",
    "[cv2.circle(img, tuple(c),    1,(0,0,255), -1) for c in points2]\n",
    "plt.imshow(img[450:600,500:700], cmap='brg')"
   ]
  },
  {
   "cell_type": "code",
   "execution_count": 33,
   "metadata": {
    "collapsed": false
   },
   "outputs": [
    {
     "name": "stdout",
     "output_type": "stream",
     "text": [
      "<Transform:\n",
      "<Orientation: \n",
      "array([[ 0.1246, -0.992 , -0.0178],\n",
      "       [-0.9841, -0.1213, -0.1294],\n",
      "       [ 0.1263,  0.0336, -0.9914]])>\n",
      "<Vector: (0.02149, 0.07718, 0.14263)>\n",
      ">\n"
     ]
    }
   ],
   "source": [
    "from tsai_lens_calibration import TsaiLenzCalibrator\n",
    "pose_pairs = [(m3d.Transform(A), m3d.Transform(B)) \n",
    "              for (A, B)  in zip(rob_pose_list, obj_pose_list)]\n",
    "tsai_lens = TsaiLenzCalibrator(pose_pairs)\n",
    "sif = tsai_lens.sensor_in_flange\n",
    "print(sif)"
   ]
  },
  {
   "cell_type": "code",
   "execution_count": 32,
   "metadata": {
    "collapsed": false
   },
   "outputs": [
    {
     "ename": "NameError",
     "evalue": "name 'sif' is not defined",
     "output_type": "error",
     "traceback": [
      "\u001b[0;31m---------------------------------------------------------------------------\u001b[0m",
      "\u001b[0;31mNameError\u001b[0m                                 Traceback (most recent call last)",
      "\u001b[0;32m<ipython-input-32-7c9b7df1afaa>\u001b[0m in \u001b[0;36m<module>\u001b[0;34m()\u001b[0m\n\u001b[0;32m----> 1\u001b[0;31m tsai_lenz_motor = vsr.Vec(*sif.pos).trs() *     vsr.Rot(vsr.Vec(*sif.orient.axis_angle[0]).unduale() * \n\u001b[0m\u001b[1;32m      2\u001b[0m             sif.orient.axis_angle[1] / 2.)\n\u001b[1;32m      3\u001b[0m \u001b[0mX\u001b[0m \u001b[0;34m=\u001b[0m \u001b[0mtsai_lenz_motor\u001b[0m\u001b[0;34m\u001b[0m\u001b[0m\n",
      "\u001b[0;31mNameError\u001b[0m: name 'sif' is not defined"
     ]
    }
   ],
   "source": [
    "tsai_lenz_motor = vsr.Vec(*sif.pos).trs() * \\\n",
    "    vsr.Rot(vsr.Vec(*sif.orient.axis_angle[0]).unduale() * \n",
    "            sif.orient.axis_angle[1] / 2.)\n",
    "X = tsai_lenz_motor"
   ]
  },
  {
   "cell_type": "code",
   "execution_count": 55,
   "metadata": {
    "collapsed": false
   },
   "outputs": [
    {
     "data": {
      "text/plain": [
       "(array([[ 0.1051, -0.9945,  0.0021],\n",
       "        [-0.9943, -0.1051, -0.0175],\n",
       "        [ 0.0176, -0.0003, -0.9998]]), array([ 0.0412,  0.0991,  0.1449]))"
      ]
     },
     "execution_count": 55,
     "metadata": {},
     "output_type": "execute_result"
    }
   ],
   "source": [
    "from park_martin import calibrate as park_martin_calibration\n",
    "A, B = [], []\n",
    "n_trfs = len(rob_pose_list)\n",
    "for i in range(n_trfs):\n",
    "    for j in range(i+1, n_trfs):\n",
    "        A.append((m3d.Transform(rob_pose_list[j]).inverse * m3d.Transform(rob_pose_list[i])).array)\n",
    "        B.append((m3d.Transform(obj_pose_list[j]).inverse * m3d.Transform(obj_pose_list[i])).array)\n",
    "park_martin_calibration(A,B)"
   ]
  },
  {
   "cell_type": "code",
   "execution_count": null,
   "metadata": {
    "collapsed": false
   },
   "outputs": [],
   "source": [
    "Z.matrix()"
   ]
  },
  {
   "cell_type": "code",
   "execution_count": null,
   "metadata": {
    "collapsed": false
   },
   "outputs": [],
   "source": [
    "X.matrix()"
   ]
  },
  {
   "cell_type": "code",
   "execution_count": 12,
   "metadata": {
    "collapsed": false
   },
   "outputs": [],
   "source": [
    "def to_array(self): \n",
    "    arr = np.zeros((4,4),dtype=np.float64)\n",
    "    arr[:3,0] = np.array(vsr.Drv(1,0,0).spin(self))\n",
    "    arr[:3,1] = np.array(vsr.Drv(0,1,0).spin(self))\n",
    "    arr[:3,2] = np.array(vsr.Drv(0,0,1).spin(self))\n",
    "    arr[:3,3] = np.array(vsr.Vec(0,0,0).null().spin(self))[:3]\n",
    "    return arr"
   ]
  },
  {
   "cell_type": "code",
   "execution_count": 13,
   "metadata": {
    "collapsed": true
   },
   "outputs": [],
   "source": [
    "vsr.Mot.matrix = to_array"
   ]
  },
  {
   "cell_type": "code",
   "execution_count": null,
   "metadata": {
    "collapsed": false
   },
   "outputs": [],
   "source": [
    "(vsr.Vec(1,2,3).trs() * vsr.Biv(-pi/4,0,0).exp()).matrix()"
   ]
  },
  {
   "cell_type": "code",
   "execution_count": null,
   "metadata": {
    "collapsed": false
   },
   "outputs": [],
   "source": [
    "R = vsr.Rot(cos(pi/4), -sin(pi/4), 0, 0)\n",
    "mot = vsr.Vec(1,2,3).trs() * R\n",
    "print(mot.matrix())"
   ]
  },
  {
   "cell_type": "code",
   "execution_count": null,
   "metadata": {
    "collapsed": false
   },
   "outputs": [],
   "source": [
    "R = vsr.Biv(pi/4,0,0).exp()\n",
    "mot = vsr.Vec(1,2,3).trs() * R\n",
    "print(mot.matrix())"
   ]
  },
  {
   "cell_type": "code",
   "execution_count": null,
   "metadata": {
    "collapsed": true
   },
   "outputs": [],
   "source": []
  },
  {
   "cell_type": "markdown",
   "metadata": {},
   "source": [
    "### Hand Eye Calibration"
   ]
  },
  {
   "cell_type": "code",
   "execution_count": null,
   "metadata": {
    "collapsed": false
   },
   "outputs": [],
   "source": [
    "print(estimated_hand_eye_motor.matrix())\n",
    "print(estimated_camera_robot_motor.matrix())\n",
    "# print(np.array(intrinsics))"
   ]
  },
  {
   "cell_type": "code",
   "execution_count": null,
   "metadata": {
    "collapsed": false
   },
   "outputs": [],
   "source": [
    "hec = HandEyeCalibrator(estimated_hand_eye_motor, estimated_camera_robot_motor, intrinsics)\n",
    "print(estimated_hand_eye_motor)\n",
    "print(estimated_camera_robot_motor)\n",
    "for a, b in zip(rob_motors, obj_motors):\n",
    "    for p in pattern_points:\n",
    "        hec.add_residual_block_2(a, b, vsr.Vec(*p).null())\n",
    "hec.linear_solver_type = \"DENSE_QR\"\n",
    "hec.max_num_iterations = 100\n",
    "hec.num_linear_solve_threads = 1000\n",
    "hec.num_threads = 1000\n",
    "hec.set_parameterization(\"BIVECTOR_GENERATOR\")\n",
    "# he, cr, intr, summ = hec.solve()\n",
    "# print(he)\n",
    "# print(cr)\n",
    "# print(intr)\n",
    "# print(summ['full_report'])"
   ]
  },
  {
   "cell_type": "code",
   "execution_count": null,
   "metadata": {
    "collapsed": false
   },
   "outputs": [],
   "source": [
    "hec = HandEyeCalibrator(estimated_hand_eye_motor, estimated_camera_robot_motor, intrinsics)\n",
    "for i in range(len(rob_motors)):\n",
    "    for j in range(len(pattern_points)):\n",
    "        hec.add_residual_block(rob_motors[i], \n",
    "                               vsr.Vec(*pattern_points[j]).null(), \n",
    "                               vsr.Vec(corners[i][j][0],corners[i][j][1],0.0))\n",
    "hec.linear_solver_type = \"DENSE_QR\"\n",
    "hec.max_num_iterations = 50\n",
    "hec.parameter_tolerance = 1e-16\n",
    "# hec.function_tolerance = 1e-16\n",
    "hec.parameter_tolerance = 1e-16\n",
    "hec.num_linear_solve_threads = 1000\n",
    "hec.num_threads = 1000\n",
    "hec.set_parameterization(\"BIVECTOR_GENERATOR\")\n",
    "he, cr, intr, summ = hec.solve()\n",
    "print(he)\n",
    "print(cr)\n",
    "print(intr)\n",
    "print(summ['full_report'])"
   ]
  },
  {
   "cell_type": "code",
   "execution_count": null,
   "metadata": {
    "collapsed": false
   },
   "outputs": [],
   "source": [
    "print(vsr.Drv(1,0,0).spin(he))\n",
    "print(vsr.Drv(0,1,0).spin(he))\n",
    "print(vsr.Drv(0,0,1).spin(he))\n",
    "print(vsr.Vec(0,0,0).null().spin(he))"
   ]
  },
  {
   "cell_type": "code",
   "execution_count": null,
   "metadata": {
    "collapsed": false
   },
   "outputs": [],
   "source": [
    "print(vsr.Drv(1,0,0).spin(cr))\n",
    "print(vsr.Drv(0,1,0).spin(cr))\n",
    "print(vsr.Drv(0,0,1).spin(cr))\n",
    "print(vsr.Vec(0,0,0).null().spin(cr))"
   ]
  },
  {
   "cell_type": "code",
   "execution_count": null,
   "metadata": {
    "collapsed": true
   },
   "outputs": [],
   "source": []
  },
  {
   "cell_type": "code",
   "execution_count": null,
   "metadata": {
    "collapsed": true
   },
   "outputs": [],
   "source": []
  }
 ],
 "metadata": {
  "kernelspec": {
   "display_name": "Python 2",
   "language": "python",
   "name": "python2"
  },
  "language_info": {
   "codemirror_mode": {
    "name": "ipython",
    "version": 2
   },
   "file_extension": ".py",
   "mimetype": "text/x-python",
   "name": "python",
   "nbconvert_exporter": "python",
   "pygments_lexer": "ipython2",
   "version": "2.7.11"
  }
 },
 "nbformat": 4,
 "nbformat_minor": 0
}
