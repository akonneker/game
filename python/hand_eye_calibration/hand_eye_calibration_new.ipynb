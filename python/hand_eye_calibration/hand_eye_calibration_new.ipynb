{
 "cells": [
  {
   "cell_type": "code",
   "execution_count": 1,
   "metadata": {
    "collapsed": false
   },
   "outputs": [
    {
     "name": "stdout",
     "output_type": "stream",
     "text": [
      "Populating the interactive namespace from numpy and matplotlib\n"
     ]
    },
    {
     "ename": "ImportError",
     "evalue": "No module named versor_pybind11",
     "output_type": "error",
     "traceback": [
      "\u001b[0;31m---------------------------------------------------------------------------\u001b[0m",
      "\u001b[0;31mImportError\u001b[0m                               Traceback (most recent call last)",
      "\u001b[0;32m<ipython-input-1-380bf0367ca2>\u001b[0m in \u001b[0;36m<module>\u001b[0;34m()\u001b[0m\n\u001b[1;32m      2\u001b[0m \u001b[0;32mimport\u001b[0m \u001b[0msys\u001b[0m\u001b[0;34m\u001b[0m\u001b[0m\n\u001b[1;32m      3\u001b[0m \u001b[0msys\u001b[0m\u001b[0;34m.\u001b[0m\u001b[0mpath\u001b[0m\u001b[0;34m.\u001b[0m\u001b[0mappend\u001b[0m\u001b[0;34m(\u001b[0m\u001b[0;34m'../build_gcc/'\u001b[0m\u001b[0;34m)\u001b[0m\u001b[0;34m\u001b[0m\u001b[0m\n\u001b[0;32m----> 4\u001b[0;31m \u001b[0;32mimport\u001b[0m \u001b[0mversor\u001b[0m \u001b[0;32mas\u001b[0m \u001b[0mvsr\u001b[0m\u001b[0;34m\u001b[0m\u001b[0m\n\u001b[0m",
      "\u001b[0;32m/Users/lars/devel/game_ws/game/python/versor/__init__.py\u001b[0m in \u001b[0;36m<module>\u001b[0;34m()\u001b[0m\n\u001b[1;32m     12\u001b[0m \u001b[0msys\u001b[0m\u001b[0;34m.\u001b[0m\u001b[0mpath\u001b[0m\u001b[0;34m.\u001b[0m\u001b[0mappend\u001b[0m\u001b[0;34m(\u001b[0m\u001b[0;34m'../../build/'\u001b[0m\u001b[0;34m)\u001b[0m\u001b[0;34m\u001b[0m\u001b[0m\n\u001b[1;32m     13\u001b[0m \u001b[0;34m\u001b[0m\u001b[0m\n\u001b[0;32m---> 14\u001b[0;31m \u001b[0;32mfrom\u001b[0m \u001b[0mversor_pybind11\u001b[0m \u001b[0;32mimport\u001b[0m \u001b[0;34m*\u001b[0m\u001b[0;34m\u001b[0m\u001b[0m\n\u001b[0m\u001b[1;32m     15\u001b[0m \u001b[0;34m\u001b[0m\u001b[0m\n\u001b[1;32m     16\u001b[0m \u001b[0;34m\u001b[0m\u001b[0m\n",
      "\u001b[0;31mImportError\u001b[0m: No module named versor_pybind11"
     ]
    }
   ],
   "source": [
    "%pylab inline\n",
    "import sys\n",
    "sys.path.append('../build_gcc/')\n",
    "import versor as vsr"
   ]
  },
  {
   "cell_type": "code",
   "execution_count": null,
   "metadata": {
    "collapsed": true
   },
   "outputs": [],
   "source": [
    "np.set_printoptions(precision=2, suppress=True)"
   ]
  },
  {
   "cell_type": "code",
   "execution_count": null,
   "metadata": {
    "collapsed": false
   },
   "outputs": [],
   "source": []
  },
  {
   "cell_type": "markdown",
   "metadata": {},
   "source": [
    "# Hand Eye Calibration"
   ]
  },
  {
   "cell_type": "code",
   "execution_count": null,
   "metadata": {
    "collapsed": false
   },
   "outputs": [],
   "source": [
    "M_object_in_world = vsr.Trs.from_vector([1,1,0.1]) * vsr.Rot.from_bivector(vsr.Biv(1,0,0) * np.pi/4.0)\n",
    "print(M_object_in_world)"
   ]
  },
  {
   "cell_type": "code",
   "execution_count": null,
   "metadata": {
    "collapsed": false
   },
   "outputs": [],
   "source": [
    "log = M_object_in_world.log()\n",
    "log"
   ]
  },
  {
   "cell_type": "code",
   "execution_count": null,
   "metadata": {
    "collapsed": false
   },
   "outputs": [],
   "source": [
    "M_eye_in_hand = vsr.Trs.from_vector([0.1,0.2,0.3]) * vsr.Rot.from_bivector(vsr.Biv(0,1,0) * np.pi/6.)\n",
    "print(M_eye_in_hand)"
   ]
  },
  {
   "cell_type": "code",
   "execution_count": null,
   "metadata": {
    "collapsed": false
   },
   "outputs": [],
   "source": [
    "M_hand_in_world = vsr.Trs.from_vector([0.0,0.0,1.0]) * vsr.Rot.from_bivector(vsr.Biv(1,1,1).unit() * np.pi/6.)\n",
    "M_hand_in_world"
   ]
  },
  {
   "cell_type": "code",
   "execution_count": null,
   "metadata": {
    "collapsed": false
   },
   "outputs": [],
   "source": [
    "M_object_in_eye = M_eye_in_hand.rev() * M_hand_in_world.rev() * M_object_in_world\n",
    "print(M_object_in_eye.to_array())"
   ]
  },
  {
   "cell_type": "code",
   "execution_count": null,
   "metadata": {
    "collapsed": false
   },
   "outputs": [],
   "source": [
    "print(M_hand_in_world)"
   ]
  },
  {
   "cell_type": "code",
   "execution_count": null,
   "metadata": {
    "collapsed": false
   },
   "outputs": [],
   "source": [
    "print(M_hand_in_world.log().mot())"
   ]
  },
  {
   "cell_type": "code",
   "execution_count": null,
   "metadata": {
    "collapsed": false
   },
   "outputs": [],
   "source": [
    "pose_pairs = np.array([(M_hand_in_world,\n",
    "               M_eye_in_hand.rev() * M_hand_in_world.rev() * M_object_in_world) \n",
    "              for M_hand_in_world in [vsr.Trs.from_vector(vsr.Vec(*np.random.rand(3))) *\n",
    "                                      vsr.Rot.from_bivector(vsr.Biv(*np.random.rand(3)).unit() * \n",
    "                                                            np.random.rand() * np.pi)\n",
    "                                      for i in range(4)]])"
   ]
  },
  {
   "cell_type": "code",
   "execution_count": null,
   "metadata": {
    "collapsed": false
   },
   "outputs": [],
   "source": [
    "M_object_in_world = vsr.Trs.from_vector([1,1,0.1]) * vsr.Rot.from_bivector(vsr.Biv(1,0,0) * np.pi/4.0)\n",
    "M_eye_in_hand = vsr.Trs.from_vector([-0.5,0.2,-0.3]) * vsr.Rot.from_bivector(vsr.Biv(1,1,1).unit() * np.pi/6.)\n",
    "pose_pairs = np.array([(M_hand_in_world,\n",
    "               (M_eye_in_hand.rev() * M_hand_in_world.rev() * M_object_in_world))\n",
    "              for M_hand_in_world in [vsr.Trs.from_vector(vsr.Vec(*np.random.rand(3))) *\n",
    "                                      vsr.Rot.from_bivector(vsr.Biv(*np.random.rand(3)).unit() * \n",
    "                                                            np.random.rand() * np.pi)\n",
    "                                      for i in range(4)]])\n",
    "n = len(pose_pairs)\n",
    "As = pose_pairs[:,0]\n",
    "Bs = pose_pairs[:,1]\n",
    "LAs = []\n",
    "LBs = []\n",
    "MAs = []\n",
    "MBs = []\n",
    "for i in range(n):\n",
    "    for j in range(i+1,n):\n",
    "        MBs.append((Bs[j] * Bs[i].rev()))     \n",
    "        MAs.append((As[j].rev() * As[i]))\n",
    "        LBs.append((Bs[j] * Bs[i].rev()).log())     \n",
    "        LAs.append((As[j].rev() * As[i]).log())\n",
    "print(len(LAs))"
   ]
  },
  {
   "cell_type": "code",
   "execution_count": null,
   "metadata": {
    "collapsed": false
   },
   "outputs": [],
   "source": [
    "print LBs[1].unit().spin(M_eye_in_hand)\n",
    "print(LAs[1].unit())"
   ]
  },
  {
   "cell_type": "code",
   "execution_count": null,
   "metadata": {
    "collapsed": false
   },
   "outputs": [],
   "source": [
    "[np.allclose(M_object_in_world.to_array(),\n",
    "             (M_hand_in_world * M_eye_in_hand * M_object_in_eye).to_array())\n",
    "             for (M_hand_in_world, M_object_in_eye) in pose_pairs]"
   ]
  },
  {
   "cell_type": "code",
   "execution_count": null,
   "metadata": {
    "collapsed": false
   },
   "outputs": [],
   "source": [
    "[np.allclose(a[0],b[0]) for a,b in zip(MAs, MBs)]"
   ]
  },
  {
   "cell_type": "code",
   "execution_count": null,
   "metadata": {
    "collapsed": true
   },
   "outputs": [],
   "source": [
    "def skew(v):\n",
    "    skv = roll(roll(diag(v.flatten()), 1, 1), -1, 0)\n",
    "    return skv - skv.T"
   ]
  },
  {
   "cell_type": "code",
   "execution_count": null,
   "metadata": {
    "collapsed": false
   },
   "outputs": [],
   "source": [
    "skew(np.array([1,2,3]))"
   ]
  },
  {
   "cell_type": "code",
   "execution_count": null,
   "metadata": {
    "collapsed": false
   },
   "outputs": [],
   "source": [
    "Ds = []\n",
    "for MA, MB in zip(MAs, MBs):\n",
    "    D = np.zeros((6,8))\n",
    "#     a = MA.log().unit().to_array().copy()[:3]\n",
    "#     b = MB.log().unit().to_array().copy()[:3]\n",
    "#     aprime = MA.log().unit().to_array().copy()[3:]\n",
    "#     bprime = MB.log().unit().to_array().copy()[3:]\n",
    "#     print(MA)\n",
    "    \n",
    "\n",
    "#     MA = MA.spin(vsr.Trs.from_vector(vsr.Vec(*np.random.randn(3) * 0.001 )) *\n",
    "#                                       vsr.Rot.from_bivector(vsr.Biv(*np.random.rand(3)).unit() * \n",
    "#                                                             np.random.randn() * 0.01))\n",
    "#     MB = MB.spin(vsr.Trs.from_vector(vsr.Vec(*np.random.randn(3) * 0.001 )) *\n",
    "#                                       vsr.Rot.from_bivector(vsr.Biv(*np.random.rand(3)).unit() * \n",
    "#                                                             np.random.randn() * 0.01))\n",
    "\n",
    "#     print(MA)\n",
    "\n",
    "    a = MA.to_array().copy()[1:4]\n",
    "    a = np.array([a[2], -a[1], a[0]])\n",
    "    b = MB.to_array().copy()[1:4]\n",
    "    b = np.array([b[2], -b[1], b[0]])\n",
    "    aprime = MA.to_array().copy()[4:7]\n",
    "    bprime = MB.to_array().copy()[4:7]\n",
    "    # Upper 3\n",
    "    D[:3,0] = a - b\n",
    "    D[:3,1:4] = skew(a + b)\n",
    "    # Lower 3\n",
    "    D[3:,0] = aprime - bprime\n",
    "    D[3:,1:4] = skew(aprime + bprime)\n",
    "    D[3:,4] = a - b \n",
    "    D[3:,5:8] = skew(a + b)\n",
    "    Ds.append(D)\n",
    "Ds = np.array(Ds).reshape(-1,8)"
   ]
  },
  {
   "cell_type": "code",
   "execution_count": null,
   "metadata": {
    "collapsed": false
   },
   "outputs": [],
   "source": [
    "Ds = []\n",
    "for LA, LB in zip(LAs, LBs):\n",
    "    LA = LA.unit()\n",
    "    LB = LB.unit()\n",
    "    D = np.zeros((6,8))\n",
    "    a = LA.to_array().copy()[:3]\n",
    "    a = np.array([a[2], -a[1], a[0]])\n",
    "    b = LB.to_array().copy()[:3]\n",
    "    b = np.array([b[2], -b[1], b[0]])\n",
    "    aprime = LA.to_array().copy()[3:]\n",
    "    bprime = LB.to_array().copy()[3:]\n",
    "    # Upper 3\n",
    "    D[:3,0] = a - b\n",
    "    D[:3,1:4] = skew(a + b)\n",
    "    # Lower 3\n",
    "    D[3:,0] = aprime - bprime\n",
    "    D[3:,1:4] = skew(aprime + bprime)\n",
    "    D[3:,4] = a - b \n",
    "    D[3:,5:8] = skew(a + b)  \n",
    "    Ds.append(D)\n",
    "Ds = np.array(Ds).reshape(-1,8)"
   ]
  },
  {
   "cell_type": "code",
   "execution_count": null,
   "metadata": {
    "collapsed": false
   },
   "outputs": [],
   "source": [
    "[U, s, Vt] = np.linalg.svd(Ds)\n",
    "print(Vt.T)\n",
    "v7 = Vt.T[:,-2]\n",
    "v8 = Vt.T[:,-1]\n",
    "u1 = v7[:4]\n",
    "v1 = v7[4:]\n",
    "u2 = v8[:4]\n",
    "v2 = v8[4:]"
   ]
  },
  {
   "cell_type": "code",
   "execution_count": null,
   "metadata": {
    "collapsed": false
   },
   "outputs": [],
   "source": [
    "a = np.inner(u1,v1)\n",
    "b = np.inner(u1,v2) + np.inner(u2,v1)\n",
    "c = np.inner(u2,v2)\n",
    "[s1, s2] = np.roots([a,b,c])\n",
    "print(s1, s2)"
   ]
  },
  {
   "cell_type": "code",
   "execution_count": null,
   "metadata": {
    "collapsed": false
   },
   "outputs": [],
   "source": [
    "val1 = (s1**2 * np.inner(u1,u1)) + (2 * s1 * np.inner(u1,u2)) + (np.inner(u2,u2))\n",
    "val2 = (s2**2 * np.inner(u1,u1)) + (2 * s2 * np.inner(u1,u2)) + (np.inner(u2,u2))\n",
    "\n",
    "if val1 > val2:\n",
    "    s = s1\n",
    "    val = val1\n",
    "else:\n",
    "    s = s2\n",
    "    val = val2\n",
    "\n",
    "lambda2 = np.sqrt(1./val)\n",
    "lambda1 = s * lambda2\n",
    "print(lambda1)\n",
    "print(lambda2)"
   ]
  },
  {
   "cell_type": "code",
   "execution_count": null,
   "metadata": {
    "collapsed": false
   },
   "outputs": [],
   "source": [
    "m_arr = lambda1 * v7 + lambda2 * v8\n",
    "print(M_eye_in_hand.to_array())\n",
    "# m_arr[1:4] = np.array([m_arr[3], -m_arr[2], m_arr[1]])\n",
    "# m_arr[4:8] = np.roll(m_arr[4:8], -1)\n",
    "print(m_arr)\n",
    "\n",
    "m = vsr.Mot(*m_arr)\n",
    "print(m * m.rev())"
   ]
  },
  {
   "cell_type": "code",
   "execution_count": null,
   "metadata": {
    "collapsed": false
   },
   "outputs": [],
   "source": [
    "M_eye_in_hand * M_eye_in_hand.rev()"
   ]
  },
  {
   "cell_type": "code",
   "execution_count": null,
   "metadata": {
    "collapsed": true
   },
   "outputs": [],
   "source": [
    "def polar_decomposition(x):\n",
    "    xx = x * x.rev()\n",
    "    sinv = (vsr.Sca(1.0) + (vsr.Drt(- xx[7] / (2 * xx[0]))))\n",
    "    return x * sinv"
   ]
  },
  {
   "cell_type": "code",
   "execution_count": null,
   "metadata": {
    "collapsed": false
   },
   "outputs": [],
   "source": [
    "m2 = polar_decomposition(m)\n",
    "print(m2)"
   ]
  },
  {
   "cell_type": "code",
   "execution_count": null,
   "metadata": {
    "collapsed": false
   },
   "outputs": [],
   "source": [
    "M_eye_in_hand"
   ]
  },
  {
   "cell_type": "code",
   "execution_count": null,
   "metadata": {
    "collapsed": false
   },
   "outputs": [],
   "source": [
    "(np.sqrt(1./val2) * s2) * v7 + np.sqrt(1./val2) * v8"
   ]
  },
  {
   "cell_type": "code",
   "execution_count": null,
   "metadata": {
    "collapsed": false
   },
   "outputs": [],
   "source": [
    "(np.sqrt(1./val1) * s1) * v7 + np.sqrt(1./val1) * v8"
   ]
  },
  {
   "cell_type": "code",
   "execution_count": null,
   "metadata": {
    "collapsed": false
   },
   "outputs": [],
   "source": [
    "M_eye_in_hand"
   ]
  },
  {
   "cell_type": "code",
   "execution_count": null,
   "metadata": {
    "collapsed": false
   },
   "outputs": [],
   "source": [
    "np.inner(M_eye_in_hand.to_array()[:4], M_eye_in_hand.to_array()[:4])"
   ]
  },
  {
   "cell_type": "code",
   "execution_count": null,
   "metadata": {
    "collapsed": true
   },
   "outputs": [],
   "source": []
  },
  {
   "cell_type": "code",
   "execution_count": null,
   "metadata": {
    "collapsed": true
   },
   "outputs": [],
   "source": []
  }
 ],
 "metadata": {
  "kernelspec": {
   "display_name": "Python 2",
   "language": "python",
   "name": "python2"
  },
  "language_info": {
   "codemirror_mode": {
    "name": "ipython",
    "version": 2
   },
   "file_extension": ".py",
   "mimetype": "text/x-python",
   "name": "python",
   "nbconvert_exporter": "python",
   "pygments_lexer": "ipython2",
   "version": "2.7.11"
  }
 },
 "nbformat": 4,
 "nbformat_minor": 0
}
