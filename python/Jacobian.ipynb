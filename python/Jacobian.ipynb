{
 "cells": [
  {
   "cell_type": "code",
   "execution_count": 1,
   "metadata": {
    "collapsed": true
   },
   "outputs": [],
   "source": [
    "from __future__ import print_function"
   ]
  },
  {
   "cell_type": "code",
   "execution_count": 2,
   "metadata": {
    "collapsed": true
   },
   "outputs": [],
   "source": [
    "import sys\n",
    "sys.path.append('../build/')"
   ]
  },
  {
   "cell_type": "code",
   "execution_count": 3,
   "metadata": {
    "collapsed": false
   },
   "outputs": [
    {
     "name": "stdout",
     "output_type": "stream",
     "text": [
      "Populating the interactive namespace from numpy and matplotlib\n"
     ]
    }
   ],
   "source": [
    "%pylab inline\n",
    "np.set_printoptions(precision=6, suppress=True)"
   ]
  },
  {
   "cell_type": "code",
   "execution_count": 4,
   "metadata": {
    "collapsed": true
   },
   "outputs": [],
   "source": [
    "import versor as vsr"
   ]
  },
  {
   "cell_type": "code",
   "execution_count": 5,
   "metadata": {
    "collapsed": true
   },
   "outputs": [],
   "source": [
    "import motor_jacobian"
   ]
  },
  {
   "cell_type": "markdown",
   "metadata": {},
   "source": [
    "# Compute Jacobian"
   ]
  },
  {
   "cell_type": "code",
   "execution_count": 6,
   "metadata": {
    "collapsed": false
   },
   "outputs": [
    {
     "name": "stdout",
     "output_type": "stream",
     "text": [
      "Dll: [ 0 -0.5236 0 -0.7152 -0.5 -0.1917 ]\n"
     ]
    }
   ],
   "source": [
    "mot = vsr.Vec(1,1,1).trs() * vsr.Rot(vsr.Biv(0,1,0) * np.pi/6.0)\n",
    "print(mot.log())"
   ]
  },
  {
   "cell_type": "code",
   "execution_count": 7,
   "metadata": {
    "collapsed": false
   },
   "outputs": [
    {
     "data": {
      "text/plain": [
       "Pnt: [ 0 0 1 0 0 ]"
      ]
     },
     "execution_count": 7,
     "metadata": {},
     "output_type": "execute_result"
    }
   ],
   "source": [
    "p = vsr.Vec(0,0,0).null()\n",
    "p.comm(vsr.Lin(vsr.Vec(0,1,0).null(), vsr.Vec(-1,0,0)).dual())"
   ]
  },
  {
   "cell_type": "code",
   "execution_count": 8,
   "metadata": {
    "collapsed": true
   },
   "outputs": [],
   "source": [
    "mot = vsr.Mot(0.0, 1.0, 2.0, 3.0, 4.0, 5.0, 6.0, 7.0)"
   ]
  },
  {
   "cell_type": "code",
   "execution_count": 9,
   "metadata": {
    "collapsed": false
   },
   "outputs": [],
   "source": [
    "dll = vsr.Dll(1.0, 0.0, 0.0, 0.0, 0.0, 0.0)\n",
    "mot0 = vsr.Mot(1.0, 0.0, 0.0, 0.0, 0.0, 0.0, 0.0, 0.0)"
   ]
  },
  {
   "cell_type": "code",
   "execution_count": 10,
   "metadata": {
    "collapsed": false
   },
   "outputs": [
    {
     "data": {
      "text/plain": [
       "Mot: [ 0 0 -3 2 -5 4 0 0 ]"
      ]
     },
     "execution_count": 10,
     "metadata": {},
     "output_type": "execute_result"
    }
   ],
   "source": [
    "mot.comm(dll)"
   ]
  },
  {
   "cell_type": "code",
   "execution_count": 11,
   "metadata": {
    "collapsed": false
   },
   "outputs": [
    {
     "data": {
      "text/plain": [
       "Mot: [ -1 0 0 0 0 0 -7 6 ]"
      ]
     },
     "execution_count": 11,
     "metadata": {},
     "output_type": "execute_result"
    }
   ],
   "source": [
    "mot.acomm(dll)"
   ]
  },
  {
   "cell_type": "code",
   "execution_count": 12,
   "metadata": {
    "collapsed": false
   },
   "outputs": [
    {
     "data": {
      "text/plain": [
       "Mot: [ 0 1 2 3 4 5 6 7 ]"
      ]
     },
     "execution_count": 12,
     "metadata": {},
     "output_type": "execute_result"
    }
   ],
   "source": [
    "mot.acomm(mot0)"
   ]
  },
  {
   "cell_type": "code",
   "execution_count": 13,
   "metadata": {
    "collapsed": false
   },
   "outputs": [
    {
     "data": {
      "text/plain": [
       "Mot: [ -1 0 3 -2 5 -4 -7 6 ]"
      ]
     },
     "execution_count": 13,
     "metadata": {},
     "output_type": "execute_result"
    }
   ],
   "source": [
    "mot.acomm(dll) - mot.comm(dll) "
   ]
  },
  {
   "cell_type": "code",
   "execution_count": 14,
   "metadata": {
    "collapsed": false,
    "scrolled": true
   },
   "outputs": [
    {
     "name": "stdout",
     "output_type": "stream",
     "text": [
      "[[-1. -2. -3.  0.  0.  0.]\n",
      " [ 0. -3.  2.  0.  0.  0.]\n",
      " [ 3.  0. -1.  0.  0.  0.]\n",
      " [-2.  1.  0.  0.  0.  0.]\n",
      " [ 5.  6. -7.  0. -1. -2.]\n",
      " [-4.  7.  6.  1.  0. -3.]\n",
      " [-7. -4. -5.  2.  3.  0.]\n",
      " [ 6. -5.  4.  3. -2.  1.]]\n"
     ]
    }
   ],
   "source": [
    "j = np.zeros((8,6))\n",
    "for i in range(6):\n",
    "    dll = vsr.Dll(0.0, 0.0, 0.0, 0.0, 0.0, 0.0)\n",
    "    dll[i] = 1.0\n",
    "    j[:,i] = np.array(mot.acomm(dll)) - np.array(mot.comm(dll)) \n",
    "print(j)"
   ]
  },
  {
   "cell_type": "code",
   "execution_count": 15,
   "metadata": {
    "collapsed": false
   },
   "outputs": [
    {
     "name": "stdout",
     "output_type": "stream",
     "text": [
      "[[-1. -2. -3.  0.  0.  0.]\n",
      " [ 0. -3.  2.  0.  0.  0.]\n",
      " [ 3.  0. -1.  0.  0.  0.]\n",
      " [-2.  1.  0.  0.  0.  0.]\n",
      " [ 5.  6. -7.  0. -1. -2.]\n",
      " [-4.  7.  6.  1.  0. -3.]\n",
      " [-7. -4. -5.  2.  3.  0.]\n",
      " [ 6. -5.  4.  3. -2.  1.]]\n"
     ]
    }
   ],
   "source": [
    "j = np.zeros((8,6))\n",
    "for i in range(6):\n",
    "    dll = vsr.Dll(0.0, 0.0, 0.0, 0.0, 0.0, 0.0)\n",
    "    dll[i] = 1.0\n",
    "#     print(dll)\n",
    "    j[:,i] = np.array(dll.comm(mot)) + np.array(dll.acomm(mot)) \n",
    "print(j)"
   ]
  },
  {
   "cell_type": "code",
   "execution_count": 16,
   "metadata": {
    "collapsed": false
   },
   "outputs": [
    {
     "data": {
      "text/plain": [
       "Mot: [ -1 0 3 -2 5 -4 -7 6 ]"
      ]
     },
     "execution_count": 16,
     "metadata": {},
     "output_type": "execute_result"
    }
   ],
   "source": [
    "dll = vsr.Dll(1.0, 0.0, 0.0, 0.0, 0.0, 0.0)\n",
    "dll * mot"
   ]
  },
  {
   "cell_type": "code",
   "execution_count": 17,
   "metadata": {
    "collapsed": false
   },
   "outputs": [
    {
     "name": "stdout",
     "output_type": "stream",
     "text": [
      "[[-1. -2. -3.  0.  0.  0.]\n",
      " [ 0. -3.  2.  0.  0.  0.]\n",
      " [ 3.  0. -1.  0.  0.  0.]\n",
      " [-2.  1.  0.  0.  0.  0.]\n",
      " [ 5.  6. -7.  0. -1. -2.]\n",
      " [-4.  7.  6.  1.  0. -3.]\n",
      " [-7. -4. -5.  2.  3.  0.]\n",
      " [ 6. -5.  4.  3. -2.  1.]]\n",
      "(8, 6)\n"
     ]
    }
   ],
   "source": [
    "dll = vsr.Dll(0.0, 0.0, 0.0, 0.0, 0.0, 0.0)\n",
    "jac_exp = motor_jacobian.jacobian_exp(mot, dll)\n",
    "print(jac_exp)\n",
    "print(jac_exp.shape)"
   ]
  },
  {
   "cell_type": "code",
   "execution_count": 18,
   "metadata": {
    "collapsed": false
   },
   "outputs": [
    {
     "data": {
      "text/plain": [
       "True"
      ]
     },
     "execution_count": 18,
     "metadata": {},
     "output_type": "execute_result"
    }
   ],
   "source": [
    "np.allclose(j, jac_exp)"
   ]
  },
  {
   "cell_type": "code",
   "execution_count": 19,
   "metadata": {
    "collapsed": false
   },
   "outputs": [
    {
     "name": "stdout",
     "output_type": "stream",
     "text": [
      "[[ 0.240986 -0.017213 -0.034427 -0.05164   0.        0.        0.        0.      ]\n",
      " [-0.017213  0.240986 -0.034427 -0.05164   0.        0.        0.        0.      ]\n",
      " [-0.034427 -0.034427  0.189346 -0.10328   0.        0.        0.        0.      ]\n",
      " [-0.05164  -0.05164  -0.10328   0.10328   0.        0.        0.        0.      ]\n",
      " [ 0.302953 -0.368364  0.141149 -0.399348  0.10328   0.10328  -0.05164\n",
      "   0.05164 ]\n",
      " [-0.333937  0.113608 -0.340823 -0.141149  0.10328   0.189346  0.034427\n",
      "  -0.034427]\n",
      " [ 0.020656 -0.22033  -0.113608 -0.368364 -0.05164   0.034427  0.240986\n",
      "   0.017213]\n",
      " [-0.227215 -0.020656 -0.333937 -0.302953  0.05164  -0.034427  0.017213\n",
      "   0.240986]]\n",
      "(8, 8)\n"
     ]
    }
   ],
   "source": [
    "jac_polar = motor_jacobian.jacobian_polar(mot, mot0)\n",
    "print(jac_polar)\n",
    "print(jac_polar.shape)"
   ]
  },
  {
   "cell_type": "code",
   "execution_count": 20,
   "metadata": {
    "collapsed": false
   },
   "outputs": [
    {
     "data": {
      "text/plain": [
       "Mot: [ 1 0 0 0 0 0 0 0 ]"
      ]
     },
     "execution_count": 20,
     "metadata": {},
     "output_type": "execute_result"
    }
   ],
   "source": [
    "dll.exp()"
   ]
  },
  {
   "cell_type": "code",
   "execution_count": 21,
   "metadata": {
    "collapsed": false
   },
   "outputs": [
    {
     "name": "stdout",
     "output_type": "stream",
     "text": [
      "Mot: [ 0.54 0 0 -0.84 0 0 0.84 0 ]\n"
     ]
    }
   ],
   "source": [
    "mot = vsr.Lin(vsr.Vec(0,1,0).null(), vsr.Vec(-1,0,0)).dual().exp()\n",
    "print(mot)\n",
    "p = vsr.Vec(0,0,0).null()"
   ]
  },
  {
   "cell_type": "code",
   "execution_count": 22,
   "metadata": {
    "collapsed": false
   },
   "outputs": [
    {
     "name": "stdout",
     "output_type": "stream",
     "text": [
      "[[ 0.        0.        0.        0.       -1.080605  0.        0.        0.      ]\n",
      " [ 0.        0.        0.        0.        0.        0.        0.        1.080605]\n",
      " [ 0.        0.       -1.682942  0.        0.        0.        0.        0.      ]\n",
      " [ 0.        0.        0.        0.        0.        0.        0.        0.      ]\n",
      " [ 0.        0.        0.        0.        0.        0.        0.        0.      ]]\n"
     ]
    }
   ],
   "source": [
    "print(motor_jacobian.diff_point(mot,p))"
   ]
  },
  {
   "cell_type": "code",
   "execution_count": 23,
   "metadata": {
    "collapsed": false
   },
   "outputs": [
    {
     "data": {
      "text/plain": [
       "Pnt: [ 0 0 1 0 0 ]"
      ]
     },
     "execution_count": 23,
     "metadata": {},
     "output_type": "execute_result"
    }
   ],
   "source": [
    "p = vsr.Vec(0,0,0).null()\n",
    "p.comm(vsr.Lin(vsr.Vec(0,1,0).null(), vsr.Vec(-1,0,0)).dual())"
   ]
  },
  {
   "cell_type": "code",
   "execution_count": 24,
   "metadata": {
    "collapsed": false
   },
   "outputs": [
    {
     "data": {
      "text/plain": [
       "Pnt: [ 0 0 0.8415 0 0 ]"
      ]
     },
     "execution_count": 24,
     "metadata": {},
     "output_type": "execute_result"
    }
   ],
   "source": [
    "p.comm(mot)"
   ]
  },
  {
   "cell_type": "code",
   "execution_count": 25,
   "metadata": {
    "collapsed": false
   },
   "outputs": [
    {
     "data": {
      "text/plain": [
       "Pnt: [ 0 0 0 0.5403 0 ]"
      ]
     },
     "execution_count": 25,
     "metadata": {},
     "output_type": "execute_result"
    }
   ],
   "source": [
    "p.acomm(mot)"
   ]
  },
  {
   "cell_type": "code",
   "execution_count": 104,
   "metadata": {
    "collapsed": false
   },
   "outputs": [
    {
     "name": "stdout",
     "output_type": "stream",
     "text": [
      "Pnt: [ 1 0 0 1 0.5 ]\n",
      "Pnt: [ 2.22e-16 1 0 1 0.5 ]\n",
      "Mot: [ 0.87 -0.13 -0.27 -0.4 -0.97 -1.4 -0.76 0.13 ]\n",
      "Dls: [ 1.821 2.017 3.57 1 10.07 ]\n"
     ]
    }
   ],
   "source": [
    "a = vsr.Vec(1,0,0).null()\n",
    "b = a.spin(vsr.Rot(vsr.Biv(1,0,0) * pi/4))\n",
    "print(a)\n",
    "print(b)\n",
    "m = vsr.Vec(1,2,3).trs() * vsr.Rot(vsr.Biv(1,2,3).unit() * pi/6)\n",
    "print(m)\n",
    "c = a.spin(m)\n",
    "print(c)\n",
    "points_a = [a]\n",
    "points_b = [b]"
   ]
  },
  {
   "cell_type": "code",
   "execution_count": 105,
   "metadata": {
    "collapsed": false
   },
   "outputs": [
    {
     "data": {
      "text/plain": [
       "Vec: [ 1.8 1 3.6 ]"
      ]
     },
     "execution_count": 105,
     "metadata": {},
     "output_type": "execute_result"
    }
   ],
   "source": [
    "c.vec() - b.vec()"
   ]
  },
  {
   "cell_type": "code",
   "execution_count": 108,
   "metadata": {
    "collapsed": false
   },
   "outputs": [
    {
     "name": "stdout",
     "output_type": "stream",
     "text": [
      "[[-0.223377 -0.47177  -0.723646  0.        0.        0.      ]\n",
      " [ 0.451522 -0.723646  0.47177   0.        0.        0.      ]\n",
      " [ 0.723646  0.451522 -0.223377  0.        0.        0.      ]\n",
      " [-0.47177   0.223377  0.451522  0.        0.        0.      ]\n",
      " [ 0.817748  0.619494 -0.214571  0.451522 -0.223377 -0.47177 ]\n",
      " [-0.475774  0.214571  0.619494  0.223377  0.451522 -0.723646]\n",
      " [-0.214571 -0.475774 -0.817748  0.47177   0.723646  0.451522]\n",
      " [ 0.619494 -0.817748  0.475774  0.723646 -0.47177   0.223377]]\n",
      "Pnt: [ 1 0 0 1 0.5 ]\n",
      "Pnt: [ 2.22e-16 1 0 1 0.5 ]\n",
      "Mot: [ 0.45 0.22 0.47 0.72 0.48 0.82 0.62 0.21 ]\n",
      "[[-0.048505 -2.08225  -2.182528  1.01815  -0.903044 -0.446754 -0.943541\n",
      "  -1.447292]\n",
      " [-2.08225   0.048505 -1.01815  -2.182528  0.446754 -0.903044 -1.447292\n",
      "   0.943541]\n",
      " [-2.182528  1.01815   0.048505  2.08225   0.943541  1.447292 -0.903044\n",
      "  -0.446754]]\n"
     ]
    },
    {
     "data": {
      "text/plain": [
       "array([[-4.209097,  1.748808, -0.      , -2.      , -0.      , -0.      ],\n",
       "       [ 2.469941,  0.      ,  1.748808,  0.      , -2.      , -0.      ],\n",
       "       [-0.      ,  2.469941,  4.209097, -0.      ,  0.      , -2.      ]])"
      ]
     },
     "execution_count": 108,
     "metadata": {},
     "output_type": "execute_result"
    }
   ],
   "source": [
    "# m = vsr.Mot(1,0,0,0,0,0,0,0)\n",
    "dll = vsr.Dll(0.0, 0.0, 0.0, 0.0, 0.0, 0.0)\n",
    "m = vsr.Dll(*np.random.rand(6)).exp()\n",
    "jac_exp = motor_jacobian.jacobian_exp(m, dll)\n",
    "print(jac_exp)\n",
    "print(a)\n",
    "print(b)\n",
    "print(m)\n",
    "jac_s = motor_jacobian.diff_cost(m, a, b)\n",
    "print(jac_s)\n",
    "np.dot(jac_s, jac_exp)"
   ]
  },
  {
   "cell_type": "code",
   "execution_count": 29,
   "metadata": {
    "collapsed": false
   },
   "outputs": [
    {
     "data": {
      "text/plain": [
       "Pnt: [ 0 3.57 -2.017 0 0 ]"
      ]
     },
     "execution_count": 29,
     "metadata": {},
     "output_type": "execute_result"
    }
   ],
   "source": [
    "vsr.Dll(0,0,1,0,0,0).comm(a.spin(m))"
   ]
  },
  {
   "cell_type": "code",
   "execution_count": 179,
   "metadata": {
    "collapsed": false
   },
   "outputs": [],
   "source": [
    "def jac2(arg):\n",
    "    j = np.zeros((5,6))\n",
    "    for i in range(6):\n",
    "        dll = vsr.Dll(0.0, 0.0, 0.0, 0.0, 0.0, 0.0)\n",
    "        dll[i] = 1.0\n",
    "        j[:,i] = 2. * np.array(dll.comm(a.spin(arg)))\n",
    "    return j"
   ]
  },
  {
   "cell_type": "code",
   "execution_count": 206,
   "metadata": {
    "collapsed": false
   },
   "outputs": [
    {
     "name": "stdout",
     "output_type": "stream",
     "text": [
      "[[ 0.       -1.748808 -4.209097 -2.        0.        0.      ]\n",
      " [ 1.748808 -0.        2.469941  0.       -2.        0.      ]\n",
      " [ 4.209097 -2.469941  0.        0.        0.       -2.      ]\n",
      " [ 0.       -0.        0.        0.        0.        0.      ]\n",
      " [ 0.       -0.        0.        2.469941  4.209097 -1.748808]]\n"
     ]
    }
   ],
   "source": [
    "J = jac2(m)\n",
    "tmp = J[:,0].copy()\n",
    "J[:,0] = J[:,2]\n",
    "J[:,2] = tmp\n",
    "J[:,1] *= -1.\n",
    "print(J)"
   ]
  },
  {
   "cell_type": "code",
   "execution_count": 210,
   "metadata": {
    "collapsed": false
   },
   "outputs": [
    {
     "data": {
      "text/plain": [
       "array([-2.469941, -4.209097,  1.748808,  2.      ,  6.718858])"
      ]
     },
     "execution_count": 210,
     "metadata": {},
     "output_type": "execute_result"
    }
   ],
   "source": [
    "np.array(a.spin(m)) * 2."
   ]
  },
  {
   "cell_type": "code",
   "execution_count": 213,
   "metadata": {
    "collapsed": true
   },
   "outputs": [],
   "source": [
    "def skew(v):\n",
    "    if len(v) == 4: v = v[:3]/v[3]\n",
    "    skv = roll(roll(diag(v.flatten()), 1, 1), -1, 0)\n",
    "    return skv - skv.T"
   ]
  },
  {
   "cell_type": "code",
   "execution_count": 215,
   "metadata": {
    "collapsed": false
   },
   "outputs": [
    {
     "data": {
      "text/plain": [
       "array([[ 0.      , -1.748808, -4.209097],\n",
       "       [ 1.748808,  0.      ,  2.469941],\n",
       "       [ 4.209097, -2.469941,  0.      ]])"
      ]
     },
     "execution_count": 215,
     "metadata": {},
     "output_type": "execute_result"
    }
   ],
   "source": [
    "skew(np.array(a.spin(m).vec()) * 2.)"
   ]
  },
  {
   "cell_type": "code",
   "execution_count": 31,
   "metadata": {
    "collapsed": false
   },
   "outputs": [
    {
     "data": {
      "text/plain": [
       "Pnt: [ 0 0 1 0 3.57 ]"
      ]
     },
     "execution_count": 31,
     "metadata": {},
     "output_type": "execute_result"
    }
   ],
   "source": [
    "dll = vsr.Dll(0,0,0,0,0,1)\n",
    "a.spin(m).comm(dll)"
   ]
  },
  {
   "cell_type": "code",
   "execution_count": 32,
   "metadata": {
    "collapsed": true
   },
   "outputs": [],
   "source": [
    "import scipy.sparse as sparse"
   ]
  },
  {
   "cell_type": "code",
   "execution_count": 33,
   "metadata": {
    "collapsed": false
   },
   "outputs": [],
   "source": [
    "spjacs = [np.loadtxt('/Users/lars/devel/game/dump/ceres_solver_iteration_00{}_A.txt'.format(i)) for i in range(4)]"
   ]
  },
  {
   "cell_type": "code",
   "execution_count": 34,
   "metadata": {
    "collapsed": false
   },
   "outputs": [
    {
     "data": {
      "text/plain": [
       "array([ 0.008843,  0.008881,  0.00866 ,  0.008635,  0.008635,  0.008635])"
      ]
     },
     "execution_count": 34,
     "metadata": {},
     "output_type": "execute_result"
    }
   ],
   "source": [
    "D = np.loadtxt('/Users/lars/devel/game/dump/ceres_solver_iteration_000_D.txt')\n",
    "D"
   ]
  },
  {
   "cell_type": "code",
   "execution_count": 35,
   "metadata": {
    "collapsed": false
   },
   "outputs": [
    {
     "data": {
      "text/plain": [
       "-231.61551823972206"
      ]
     },
     "execution_count": 35,
     "metadata": {},
     "output_type": "execute_result"
    }
   ],
   "source": [
    "-2. / 0.008635"
   ]
  },
  {
   "cell_type": "code",
   "execution_count": 36,
   "metadata": {
    "collapsed": false
   },
   "outputs": [
    {
     "data": {
      "text/plain": [
       "0.135"
      ]
     },
     "execution_count": 36,
     "metadata": {},
     "output_type": "execute_result"
    }
   ],
   "source": [
    "0.27 / 2."
   ]
  },
  {
   "cell_type": "code",
   "execution_count": 37,
   "metadata": {
    "collapsed": false
   },
   "outputs": [
    {
     "data": {
      "text/plain": [
       "array([-1.864489, -1.      , -1.159498, -1.82805 , -1.      , -0.748313,\n",
       "       -1.614547, -1.      , -0.725564, -0.931623, -1.      , -1.708073,\n",
       "        0.68862 , -1.      , -1.443068, -2.281495, -1.      ,  0.820182,\n",
       "       -2.657144, -1.      , -0.945362, -0.676071, -1.      , -1.690215,\n",
       "        0.202711, -1.      , -1.39347 , -1.567853, -1.      , -0.988182])"
      ]
     },
     "execution_count": 37,
     "metadata": {},
     "output_type": "execute_result"
    }
   ],
   "source": [
    "np.loadtxt('/Users/lars/devel/game/dump/ceres_solver_iteration_000_b.txt')"
   ]
  },
  {
   "cell_type": "code",
   "execution_count": 38,
   "metadata": {
    "collapsed": false
   },
   "outputs": [
    {
     "data": {
      "text/plain": [
       "[array([-0.346302, -3.851907,  0.016381, -3.897368, -3.703013, -4.059512]),\n",
       " array([ 0.267082, -0.825742, -0.141204, -2.716673, -0.142328,  1.875994]),\n",
       " array([ 0.012805,  0.001633, -0.018875,  0.120835, -0.073943,  0.220828]),\n",
       " array([ 0.000004,  0.00002 , -0.      ,  0.000049,  0.000673,  0.000122])]"
      ]
     },
     "execution_count": 38,
     "metadata": {},
     "output_type": "execute_result"
    }
   ],
   "source": [
    "[np.loadtxt('/Users/lars/devel/game/dump/ceres_solver_iteration_00{}_x.txt'.format(i)) for i in range(4)]"
   ]
  },
  {
   "cell_type": "code",
   "execution_count": 39,
   "metadata": {
    "collapsed": false
   },
   "outputs": [
    {
     "name": "stdout",
     "output_type": "stream",
     "text": [
      "[[ 1.593533  0.527877 -0.525869 -0.627617  0.710904  0.      ]\n",
      " [ 0.527877  1.695614  0.697878 -0.476785  0.        0.687601]\n",
      " [-0.525869  0.697878  2.377506  0.       -0.570645  0.726547]\n",
      " [-0.627617 -0.476785  0.        0.745585  0.        0.      ]\n",
      " [ 0.710904  0.       -0.570645  0.        0.745585  0.      ]\n",
      " [ 0.        0.687601  0.726547  0.        0.        0.745585]]\n",
      "[ 1.593533  1.695614  2.377506  0.745585  0.745585  0.745585]\n"
     ]
    }
   ],
   "source": [
    "j = 3\n",
    "x, y, d = spjacs[j][:,0],  spjacs[j][:,1],  spjacs[j][:,2]\n",
    "npsparse = sparse.csc_matrix((d,(x,y)))\n",
    "J = npsparse.todense()\n",
    "JTJ = np.dot(J.T, J)\n",
    "print(JTJ)\n",
    "D2 = np.diag(JTJ)\n",
    "print(D2)"
   ]
  },
  {
   "cell_type": "code",
   "execution_count": 40,
   "metadata": {
    "collapsed": false
   },
   "outputs": [
    {
     "data": {
      "text/plain": [
       "array([ 0.008843,  0.008881,  0.00866 ,  0.008635,  0.008635,  0.008635])"
      ]
     },
     "execution_count": 40,
     "metadata": {},
     "output_type": "execute_result"
    }
   ],
   "source": [
    "D"
   ]
  },
  {
   "cell_type": "code",
   "execution_count": 41,
   "metadata": {
    "collapsed": false
   },
   "outputs": [
    {
     "data": {
      "text/plain": [
       "array([ 0.005549,  0.005238,  0.003642,  0.011582,  0.011582,  0.011582])"
      ]
     },
     "execution_count": 41,
     "metadata": {},
     "output_type": "execute_result"
    }
   ],
   "source": [
    "D / D2"
   ]
  },
  {
   "cell_type": "code",
   "execution_count": null,
   "metadata": {
    "collapsed": true
   },
   "outputs": [],
   "source": []
  },
  {
   "cell_type": "code",
   "execution_count": 42,
   "metadata": {
    "collapsed": false
   },
   "outputs": [
    {
     "data": {
      "text/plain": [
       "array([ 1.821429,  1.017169,  3.570053])"
      ]
     },
     "execution_count": 42,
     "metadata": {},
     "output_type": "execute_result"
    }
   ],
   "source": [
    "np.array(c.vec() - b.vec())"
   ]
  },
  {
   "cell_type": "code",
   "execution_count": 43,
   "metadata": {
    "collapsed": true
   },
   "outputs": [],
   "source": [
    "import scipy.optimize as opt"
   ]
  },
  {
   "cell_type": "code",
   "execution_count": 131,
   "metadata": {
    "collapsed": false
   },
   "outputs": [
    {
     "name": "stdout",
     "output_type": "stream",
     "text": [
      "Mot: [ 0.87 -0.13 -0.27 -0.4 -0.97 -1.4 -0.76 0.13 ]\n"
     ]
    }
   ],
   "source": [
    "motor = vsr.Vec(1,2,3).trs() * vsr.Rot(vsr.Biv(1,2,3).unit() * np.pi/6.0)\n",
    "print(motor)"
   ]
  },
  {
   "cell_type": "code",
   "execution_count": 147,
   "metadata": {
    "collapsed": false
   },
   "outputs": [],
   "source": [
    "n_points = 100\n",
    "sigma = 0.09\n",
    "points_a = [vsr.Vec(*np.random.normal(0.0, 0.9, 3)).null() \n",
    "            for i in range(n_points)]\n",
    "points_b = [point.spin(motor) for point in points_a]\n",
    "points_b_noisy = [vsr.Vec(*(np.array(point)[:3] \n",
    "                            + sigma * np.random.randn(3))).null() \n",
    "                  for point in points_b]"
   ]
  },
  {
   "cell_type": "code",
   "execution_count": 148,
   "metadata": {
    "collapsed": true
   },
   "outputs": [],
   "source": [
    "def func(arr):\n",
    "    return np.array([np.array(a.spin(vsr.Dll(*arr).exp()).vec() - b.vec()) \n",
    "                     for a, b in zip(points_a, points_b)]).ravel()"
   ]
  },
  {
   "cell_type": "code",
   "execution_count": 149,
   "metadata": {
    "collapsed": false
   },
   "outputs": [],
   "source": [
    "init_dll = np.array([0,0,0,0,0,0]).reshape(6,1)\n",
    "current_mot = np.array([1,0,0,0,0,0,0,0]).reshape(8,1)"
   ]
  },
  {
   "cell_type": "code",
   "execution_count": null,
   "metadata": {
    "collapsed": false
   },
   "outputs": [],
   "source": []
  },
  {
   "cell_type": "code",
   "execution_count": 150,
   "metadata": {
    "collapsed": true
   },
   "outputs": [],
   "source": [
    "its = 0"
   ]
  },
  {
   "cell_type": "code",
   "execution_count": 151,
   "metadata": {
    "collapsed": false
   },
   "outputs": [],
   "source": [
    "def jac(arg):\n",
    "    global its\n",
    "    global current_mot\n",
    "    current_mot = np.array(vsr.Dll(*arg).exp() * vsr.Mot(*current_mot))\n",
    "    dll = vsr.Dll(0.0, 0.0, 0.0, 0.0, 0.0, 0.0)\n",
    "    \n",
    "    jac_exp = motor_jacobian.jacobian_exp(vsr.Mot(*current_mot), dll)\n",
    "#     print(jac_exp)\n",
    "\n",
    "    js_ = np.array([motor_jacobian.diff_cost(vsr.Mot(*current_mot), a, b)\n",
    "                   for a, b in zip(points_a, points_b)])\n",
    "    \n",
    "#     print(js_)\n",
    "    \n",
    "    js = np.array([np.dot(motor_jacobian.diff_cost(vsr.Mot(*current_mot), a, b), jac_exp)\n",
    "                   for a, b in zip(points_a, points_b)])\n",
    "    \n",
    "#     print(js)\n",
    "    \n",
    "    js = js.reshape(-1,6)\n",
    "    return js"
   ]
  },
  {
   "cell_type": "code",
   "execution_count": 152,
   "metadata": {
    "collapsed": false
   },
   "outputs": [],
   "source": [
    "def __jac(m,a,b):  \n",
    "    j = np.zeros((3,6))\n",
    "    for i in range(6):\n",
    "        dll = vsr.Dll(0.0, 0.0, 0.0, 0.0, 0.0, 0.0)\n",
    "        dll[i] = 1.0\n",
    "        j[:,i] = 2. * np.array(dll.comm(a.spin(vsr.Mot(*m))).vec()).copy()\n",
    "    return j\n",
    "\n",
    "def jac3(arg):\n",
    "    global current_mot\n",
    "    current_mot = np.array(vsr.Dll(*arg).exp() * vsr.Mot(*current_mot)).copy()\n",
    "    \n",
    "    js_ = np.array([__jac(current_mot,a,b) for a, b in zip(points_a, points_b)]).reshape(-1,6)\n",
    "    \n",
    "    return js_"
   ]
  },
  {
   "cell_type": "code",
   "execution_count": 153,
   "metadata": {
    "collapsed": false
   },
   "outputs": [],
   "source": [
    "# dll_ = np.random.rand(6)\n",
    "# print(jac3(dll_))"
   ]
  },
  {
   "cell_type": "code",
   "execution_count": 154,
   "metadata": {
    "collapsed": false
   },
   "outputs": [],
   "source": [
    "# print(jac3(dll_))"
   ]
  },
  {
   "cell_type": "code",
   "execution_count": 155,
   "metadata": {
    "collapsed": false
   },
   "outputs": [],
   "source": [
    "# print(func(init_dll))\n",
    "# jac(init_dll)"
   ]
  },
  {
   "cell_type": "code",
   "execution_count": 156,
   "metadata": {
    "collapsed": false
   },
   "outputs": [],
   "source": [
    "# dll = vsr.Dll(0.0, 0.0, 0.0, 0.0, 0.0, 0.0)\n",
    "# dll[1] = 1.0\n",
    "# 2. * np.array(dll.comm(a.spin(m)).vec())"
   ]
  },
  {
   "cell_type": "code",
   "execution_count": 157,
   "metadata": {
    "collapsed": false
   },
   "outputs": [
    {
     "name": "stdout",
     "output_type": "stream",
     "text": [
      "(array([-0.139935, -0.279875, -0.419813, -1.033147, -1.453353, -0.807249]), 2)\n"
     ]
    }
   ],
   "source": [
    "out = opt.leastsq(func, init_dll, Dfun=jac3, full_output=False)\n",
    "print(out)"
   ]
  },
  {
   "cell_type": "code",
   "execution_count": 158,
   "metadata": {
    "collapsed": false
   },
   "outputs": [
    {
     "name": "stdout",
     "output_type": "stream",
     "text": [
      "Mot: [ 0.87 -0.13 -0.27 -0.4 -0.97 -1.4 -0.76 0.13 ]\n"
     ]
    }
   ],
   "source": [
    "estimated_motor = vsr.Dll(*out[0]).exp()\n",
    "print(estimated_motor)"
   ]
  },
  {
   "cell_type": "code",
   "execution_count": 159,
   "metadata": {
    "collapsed": false
   },
   "outputs": [
    {
     "name": "stdout",
     "output_type": "stream",
     "text": [
      "Mot: [ 0.87 -0.13 -0.27 -0.4 -0.97 -1.4 -0.76 0.13 ]\n"
     ]
    }
   ],
   "source": [
    "print(motor)"
   ]
  },
  {
   "cell_type": "code",
   "execution_count": 58,
   "metadata": {
    "collapsed": false
   },
   "outputs": [],
   "source": [
    "# jac(init_dll)"
   ]
  },
  {
   "cell_type": "code",
   "execution_count": null,
   "metadata": {
    "collapsed": true
   },
   "outputs": [],
   "source": []
  }
 ],
 "metadata": {
  "kernelspec": {
   "display_name": "Python 2",
   "language": "python",
   "name": "python2"
  },
  "language_info": {
   "codemirror_mode": {
    "name": "ipython",
    "version": 2
   },
   "file_extension": ".py",
   "mimetype": "text/x-python",
   "name": "python",
   "nbconvert_exporter": "python",
   "pygments_lexer": "ipython2",
   "version": "2.7.10"
  }
 },
 "nbformat": 4,
 "nbformat_minor": 0
}
