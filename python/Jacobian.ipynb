{
 "cells": [
  {
   "cell_type": "code",
   "execution_count": 1,
   "metadata": {
    "collapsed": true
   },
   "outputs": [],
   "source": [
    "from __future__ import print_function"
   ]
  },
  {
   "cell_type": "code",
   "execution_count": 2,
   "metadata": {
    "collapsed": true
   },
   "outputs": [],
   "source": [
    "import sys\n",
    "sys.path.append('../build/')"
   ]
  },
  {
   "cell_type": "code",
   "execution_count": 3,
   "metadata": {
    "collapsed": false
   },
   "outputs": [
    {
     "name": "stdout",
     "output_type": "stream",
     "text": [
      "Populating the interactive namespace from numpy and matplotlib\n"
     ]
    }
   ],
   "source": [
    "%pylab inline\n",
    "np.set_printoptions(precision=2, suppress=True)"
   ]
  },
  {
   "cell_type": "code",
   "execution_count": 4,
   "metadata": {
    "collapsed": true
   },
   "outputs": [],
   "source": [
    "import versor as vsr"
   ]
  },
  {
   "cell_type": "code",
   "execution_count": 5,
   "metadata": {
    "collapsed": true
   },
   "outputs": [],
   "source": [
    "import motor_jacobian"
   ]
  },
  {
   "cell_type": "markdown",
   "metadata": {},
   "source": [
    "# Compute Jacobian"
   ]
  },
  {
   "cell_type": "code",
   "execution_count": 6,
   "metadata": {
    "collapsed": false
   },
   "outputs": [
    {
     "name": "stdout",
     "output_type": "stream",
     "text": [
      "Dll: [ 0 -0.5236 0 -0.7152 -0.5 -0.1917 ]\n"
     ]
    }
   ],
   "source": [
    "mot = vsr.Vec(1,1,1).trs() * vsr.Rot(vsr.Biv(0,1,0) * np.pi/6.0)\n",
    "print(mot.log())"
   ]
  },
  {
   "cell_type": "code",
   "execution_count": 7,
   "metadata": {
    "collapsed": false
   },
   "outputs": [
    {
     "data": {
      "text/plain": [
       "Dlp: [ 0 0 1 0 ]"
      ]
     },
     "execution_count": 7,
     "metadata": {},
     "output_type": "execute_result"
    }
   ],
   "source": [
    "p = vsr.Vec(0,0,0).null()\n",
    "p.comm(vsr.Lin(vsr.Vec(0,1,0).null(), vsr.Vec(-1,0,0)).dual())"
   ]
  },
  {
   "cell_type": "code",
   "execution_count": 8,
   "metadata": {
    "collapsed": true
   },
   "outputs": [],
   "source": [
    "mot = vsr.Mot(0.0, 1.0, 2.0, 3.0, 4.0, 5.0, 6.0, 7.0)"
   ]
  },
  {
   "cell_type": "code",
   "execution_count": 9,
   "metadata": {
    "collapsed": false
   },
   "outputs": [],
   "source": [
    "dll = vsr.Dll(1.0, 0.0, 0.0, 0.0, 0.0, 0.0)\n",
    "mot0 = vsr.Mot(1.0, 0.0, 0.0, 0.0, 0.0, 0.0, 0.0, 0.0)"
   ]
  },
  {
   "cell_type": "code",
   "execution_count": 10,
   "metadata": {
    "collapsed": false
   },
   "outputs": [
    {
     "data": {
      "text/plain": [
       "Mot: [ 0 0 -3 2 -5 4 0 0 ]"
      ]
     },
     "execution_count": 10,
     "metadata": {},
     "output_type": "execute_result"
    }
   ],
   "source": [
    "mot.comm(dll)"
   ]
  },
  {
   "cell_type": "code",
   "execution_count": 11,
   "metadata": {
    "collapsed": false
   },
   "outputs": [
    {
     "data": {
      "text/plain": [
       "Mot: [ -1 0 0 0 0 0 -7 6 ]"
      ]
     },
     "execution_count": 11,
     "metadata": {},
     "output_type": "execute_result"
    }
   ],
   "source": [
    "mot.acomm(dll)"
   ]
  },
  {
   "cell_type": "code",
   "execution_count": 12,
   "metadata": {
    "collapsed": false
   },
   "outputs": [
    {
     "data": {
      "text/plain": [
       "Mot: [ 0 1 2 3 4 5 6 7 ]"
      ]
     },
     "execution_count": 12,
     "metadata": {},
     "output_type": "execute_result"
    }
   ],
   "source": [
    "mot.acomm(mot0)"
   ]
  },
  {
   "cell_type": "code",
   "execution_count": 13,
   "metadata": {
    "collapsed": false
   },
   "outputs": [
    {
     "data": {
      "text/plain": [
       "Mot: [ -1 0 3 -2 5 -4 -7 6 ]"
      ]
     },
     "execution_count": 13,
     "metadata": {},
     "output_type": "execute_result"
    }
   ],
   "source": [
    "mot.acomm(dll) - mot.comm(dll) "
   ]
  },
  {
   "cell_type": "code",
   "execution_count": 14,
   "metadata": {
    "collapsed": false,
    "scrolled": true
   },
   "outputs": [
    {
     "name": "stdout",
     "output_type": "stream",
     "text": [
      "[[-1. -2. -3.  0.  0.  0.]\n",
      " [ 0. -3.  2.  0.  0.  0.]\n",
      " [ 3.  0. -1.  0.  0.  0.]\n",
      " [-2.  1.  0.  0.  0.  0.]\n",
      " [ 5.  6. -7.  0. -1. -2.]\n",
      " [-4.  7.  6.  1.  0. -3.]\n",
      " [-7. -4. -5.  2.  3.  0.]\n",
      " [ 6. -5.  4.  3. -2.  1.]]\n"
     ]
    }
   ],
   "source": [
    "j = np.zeros((8,6))\n",
    "for i in range(6):\n",
    "    dll = vsr.Dll(0.0, 0.0, 0.0, 0.0, 0.0, 0.0)\n",
    "    dll[i] = 1.0\n",
    "    j[:,i] = np.array(mot.acomm(dll)) - np.array(mot.comm(dll)) \n",
    "print(j)"
   ]
  },
  {
   "cell_type": "code",
   "execution_count": 15,
   "metadata": {
    "collapsed": false
   },
   "outputs": [
    {
     "name": "stdout",
     "output_type": "stream",
     "text": [
      "[[-1. -2. -3.  0.  0.  0.]\n",
      " [ 0. -3.  2.  0.  0.  0.]\n",
      " [ 3.  0. -1.  0.  0.  0.]\n",
      " [-2.  1.  0.  0.  0.  0.]\n",
      " [ 5.  6. -7.  0. -1. -2.]\n",
      " [-4.  7.  6.  1.  0. -3.]\n",
      " [-7. -4. -5.  2.  3.  0.]\n",
      " [ 6. -5.  4.  3. -2.  1.]]\n"
     ]
    }
   ],
   "source": [
    "j = np.zeros((8,6))\n",
    "for i in range(6):\n",
    "    dll = vsr.Dll(0.0, 0.0, 0.0, 0.0, 0.0, 0.0)\n",
    "    dll[i] = 1.0\n",
    "#     print(dll)\n",
    "    j[:,i] = np.array(dll.comm(mot)) + np.array(dll.acomm(mot)) \n",
    "print(j)"
   ]
  },
  {
   "cell_type": "code",
   "execution_count": 16,
   "metadata": {
    "collapsed": false
   },
   "outputs": [
    {
     "data": {
      "text/plain": [
       "Mot: [ -1 0 3 -2 5 -4 -7 6 ]"
      ]
     },
     "execution_count": 16,
     "metadata": {},
     "output_type": "execute_result"
    }
   ],
   "source": [
    "dll = vsr.Dll(1.0, 0.0, 0.0, 0.0, 0.0, 0.0)\n",
    "dll * mot"
   ]
  },
  {
   "cell_type": "code",
   "execution_count": 17,
   "metadata": {
    "collapsed": false
   },
   "outputs": [
    {
     "name": "stdout",
     "output_type": "stream",
     "text": [
      "[[-1. -2. -3.  0.  0.  0.]\n",
      " [ 0. -3.  2.  0.  0.  0.]\n",
      " [ 3.  0. -1.  0.  0.  0.]\n",
      " [-2.  1.  0.  0.  0.  0.]\n",
      " [ 5.  6. -7.  0. -1. -2.]\n",
      " [-4.  7.  6.  1.  0. -3.]\n",
      " [-7. -4. -5.  2.  3.  0.]\n",
      " [ 6. -5.  4.  3. -2.  1.]]\n",
      "(8, 6)\n"
     ]
    }
   ],
   "source": [
    "dll = vsr.Dll(0.0, 0.0, 0.0, 0.0, 0.0, 0.0)\n",
    "jac_exp = motor_jacobian.jacobian_exp(mot, dll)\n",
    "print(jac_exp)\n",
    "print(jac_exp.shape)"
   ]
  },
  {
   "cell_type": "code",
   "execution_count": 18,
   "metadata": {
    "collapsed": false
   },
   "outputs": [
    {
     "data": {
      "text/plain": [
       "True"
      ]
     },
     "execution_count": 18,
     "metadata": {},
     "output_type": "execute_result"
    }
   ],
   "source": [
    "np.allclose(j, jac_exp)"
   ]
  },
  {
   "cell_type": "code",
   "execution_count": 19,
   "metadata": {
    "collapsed": false
   },
   "outputs": [
    {
     "name": "stdout",
     "output_type": "stream",
     "text": [
      "[[ 0.24 -0.02 -0.03 -0.05  0.    0.    0.    0.  ]\n",
      " [-0.02  0.24 -0.03 -0.05  0.    0.    0.    0.  ]\n",
      " [-0.03 -0.03  0.19 -0.1   0.    0.    0.    0.  ]\n",
      " [-0.05 -0.05 -0.1   0.1   0.    0.    0.    0.  ]\n",
      " [ 0.3  -0.37  0.14 -0.4   0.1   0.1  -0.05  0.05]\n",
      " [-0.33  0.11 -0.34 -0.14  0.1   0.19  0.03 -0.03]\n",
      " [ 0.02 -0.22 -0.11 -0.37 -0.05  0.03  0.24  0.02]\n",
      " [-0.23 -0.02 -0.33 -0.3   0.05 -0.03  0.02  0.24]]\n",
      "(8, 8)\n"
     ]
    }
   ],
   "source": [
    "jac_polar = motor_jacobian.jacobian_polar(mot, mot0)\n",
    "print(jac_polar)\n",
    "print(jac_polar.shape)"
   ]
  },
  {
   "cell_type": "code",
   "execution_count": 20,
   "metadata": {
    "collapsed": false
   },
   "outputs": [
    {
     "data": {
      "text/plain": [
       "Mot: [ 1 0 0 0 0 0 0 0 ]"
      ]
     },
     "execution_count": 20,
     "metadata": {},
     "output_type": "execute_result"
    }
   ],
   "source": [
    "dll.exp()"
   ]
  },
  {
   "cell_type": "code",
   "execution_count": 21,
   "metadata": {
    "collapsed": false
   },
   "outputs": [
    {
     "name": "stdout",
     "output_type": "stream",
     "text": [
      "Mot: [ 0.54 0 0 -0.84 0 0 0.84 0 ]\n"
     ]
    }
   ],
   "source": [
    "mot = vsr.Lin(vsr.Vec(0,1,0).null(), vsr.Vec(-1,0,0)).dual().exp()\n",
    "print(mot)\n",
    "p = vsr.Vec(0,0,0).null()"
   ]
  },
  {
   "cell_type": "code",
   "execution_count": 22,
   "metadata": {
    "collapsed": false
   },
   "outputs": [
    {
     "name": "stdout",
     "output_type": "stream",
     "text": [
      "[[ 0.    0.    0.    0.   -1.08  0.    0.    0.  ]\n",
      " [ 0.    0.    0.    0.    0.    0.    0.    1.08]\n",
      " [ 0.    0.   -1.68  0.    0.    0.    0.    0.  ]\n",
      " [ 0.    0.    0.    0.    0.    0.    0.    0.  ]\n",
      " [ 0.    0.    0.    0.    0.    0.    0.    0.  ]]\n"
     ]
    }
   ],
   "source": [
    "print(motor_jacobian.diff_point(mot,p))"
   ]
  },
  {
   "cell_type": "code",
   "execution_count": 23,
   "metadata": {
    "collapsed": false
   },
   "outputs": [
    {
     "data": {
      "text/plain": [
       "Dlp: [ 0 0 1 0 ]"
      ]
     },
     "execution_count": 23,
     "metadata": {},
     "output_type": "execute_result"
    }
   ],
   "source": [
    "p = vsr.Vec(0,0,0).null()\n",
    "p.comm(vsr.Lin(vsr.Vec(0,1,0).null(), vsr.Vec(-1,0,0)).dual())"
   ]
  },
  {
   "cell_type": "code",
   "execution_count": 24,
   "metadata": {
    "collapsed": false
   },
   "outputs": [
    {
     "data": {
      "text/plain": [
       "Pnt: [ 0 0 0.8415 0 0 ]"
      ]
     },
     "execution_count": 24,
     "metadata": {},
     "output_type": "execute_result"
    }
   ],
   "source": [
    "p.comm(mot)"
   ]
  },
  {
   "cell_type": "code",
   "execution_count": 25,
   "metadata": {
    "collapsed": false
   },
   "outputs": [
    {
     "data": {
      "text/plain": [
       "Pnt: [ 0 0 0 0.5403 0 ]"
      ]
     },
     "execution_count": 25,
     "metadata": {},
     "output_type": "execute_result"
    }
   ],
   "source": [
    "p.acomm(mot)"
   ]
  },
  {
   "cell_type": "code",
   "execution_count": 476,
   "metadata": {
    "collapsed": false
   },
   "outputs": [
    {
     "name": "stdout",
     "output_type": "stream",
     "text": [
      "Pnt: [ 1 0 0 1 0.5 ]\n",
      "Pnt: [ 2.22e-16 1 0 1 0.5 ]\n",
      "Mot: [ 1 0 0 0 -0.5 -1 0 0 ]\n",
      "Pnt: [ 2 2 0 1 4 ]\n"
     ]
    }
   ],
   "source": [
    "a = vsr.Vec(1,0,0).null()\n",
    "b = a.spin(vsr.Rot(vsr.Biv(1,0,0) * pi/4))\n",
    "print(a)\n",
    "print(b)\n",
    "m = vsr.Vec(1,2,0).trs() * vsr.Rot(vsr.Biv(0,0,0) * pi/6)\n",
    "print(m)\n",
    "c = a.spin(m)\n",
    "print(c)\n",
    "points_a = [a]\n",
    "points_b = [b]"
   ]
  },
  {
   "cell_type": "code",
   "execution_count": 477,
   "metadata": {
    "collapsed": false
   },
   "outputs": [
    {
     "data": {
      "text/plain": [
       "Vec: [ 2 1 0 ]"
      ]
     },
     "execution_count": 477,
     "metadata": {},
     "output_type": "execute_result"
    }
   ],
   "source": [
    "c.vec() - b.vec()"
   ]
  },
  {
   "cell_type": "code",
   "execution_count": 478,
   "metadata": {
    "collapsed": false
   },
   "outputs": [
    {
     "name": "stdout",
     "output_type": "stream",
     "text": [
      "[[ 0.   0.   0.   0.   0.   0. ]\n",
      " [ 1.   0.   0.   0.   0.   0. ]\n",
      " [ 0.   1.   0.   0.   0.   0. ]\n",
      " [ 0.   0.   1.   0.   0.   0. ]\n",
      " [-1.   0.   0.   1.   0.   0. ]\n",
      " [ 0.5  0.   0.   0.   1.   0. ]\n",
      " [ 0.   0.5  1.   0.   0.   1. ]\n",
      " [ 0.   1.  -0.5  0.   0.   0. ]]\n",
      "[[ 3.  2.  0.  0. -2.  0.  0.  0.]\n",
      " [ 2. -3.  0.  0.  0. -2.  0.  0.]\n",
      " [ 0.  0. -3. -2.  0.  0. -2.  0.]]\n"
     ]
    },
    {
     "data": {
      "text/plain": [
       "array([[ 4.,  0.,  0., -2.,  0.,  0.],\n",
       "       [-4.,  0.,  0.,  0., -2.,  0.],\n",
       "       [ 0., -4., -4.,  0.,  0., -2.]])"
      ]
     },
     "execution_count": 478,
     "metadata": {},
     "output_type": "execute_result"
    }
   ],
   "source": [
    "# m = vsr.Mot(1,0,0,0,0,0,0,0)\n",
    "dll = vsr.Dll(0.0, 0.0, 0.0, 0.0, 0.0, 0.0)\n",
    "jac_exp = motor_jacobian.jacobian_exp(m, dll)\n",
    "print(jac_exp)\n",
    "jac_s = motor_jacobian.diff_cost(m, a, b)\n",
    "print(jac_s)\n",
    "np.dot(jac_s, jac_exp)"
   ]
  },
  {
   "cell_type": "code",
   "execution_count": 472,
   "metadata": {
    "collapsed": false
   },
   "outputs": [],
   "source": [
    "c = a.spin(m)"
   ]
  },
  {
   "cell_type": "code",
   "execution_count": 436,
   "metadata": {
    "collapsed": false
   },
   "outputs": [
    {
     "data": {
      "text/plain": [
       "array([ 0.5 , -0.13,  0.  ])"
      ]
     },
     "execution_count": 436,
     "metadata": {},
     "output_type": "execute_result"
    }
   ],
   "source": [
    "np.array(c.vec() - b.vec())"
   ]
  },
  {
   "cell_type": "code",
   "execution_count": 437,
   "metadata": {
    "collapsed": true
   },
   "outputs": [],
   "source": [
    "import scipy.optimize as opt"
   ]
  },
  {
   "cell_type": "code",
   "execution_count": 438,
   "metadata": {
    "collapsed": false
   },
   "outputs": [
    {
     "name": "stdout",
     "output_type": "stream",
     "text": [
      "Mot: [ 1 0 0 0 -0.5 0 0 0 ]\n"
     ]
    }
   ],
   "source": [
    "motor = vsr.Vec(1,0,0).trs() * vsr.Rot(vsr.Biv(0,0,0).unit() * np.pi/6.0)\n",
    "print(motor)"
   ]
  },
  {
   "cell_type": "code",
   "execution_count": 423,
   "metadata": {
    "collapsed": false
   },
   "outputs": [],
   "source": [
    "n_points = 3\n",
    "sigma = 0.09\n",
    "points_a = [vsr.Vec(*np.random.normal(0.0, 0.9, 3)).null() \n",
    "            for i in range(n_points)]\n",
    "points_b = [point.spin(motor) for point in points_a]\n",
    "points_b_noisy = [vsr.Vec(*(np.array(point)[:3] \n",
    "                            + sigma * np.random.randn(3))).null() \n",
    "                  for point in points_b]"
   ]
  },
  {
   "cell_type": "code",
   "execution_count": 424,
   "metadata": {
    "collapsed": true
   },
   "outputs": [],
   "source": [
    "def func(arr):\n",
    "    return np.array([np.array(a.spin(vsr.Dll(*arr).exp()).vec() - b.vec()) \n",
    "                     for a, b in zip(points_a, points_b)]).ravel()"
   ]
  },
  {
   "cell_type": "code",
   "execution_count": 425,
   "metadata": {
    "collapsed": false
   },
   "outputs": [],
   "source": [
    "init_dll = np.array([0,0,0,0,0,0]).reshape(6,1)\n",
    "current_mot = np.array([1,0,0,0,0,0,0,0]).reshape(8,1)"
   ]
  },
  {
   "cell_type": "code",
   "execution_count": null,
   "metadata": {
    "collapsed": false
   },
   "outputs": [],
   "source": []
  },
  {
   "cell_type": "code",
   "execution_count": 426,
   "metadata": {
    "collapsed": true
   },
   "outputs": [],
   "source": [
    "its = 0"
   ]
  },
  {
   "cell_type": "code",
   "execution_count": 444,
   "metadata": {
    "collapsed": false
   },
   "outputs": [],
   "source": [
    "def jac(arg):\n",
    "    global its\n",
    "    global current_mot\n",
    "    current_mot = np.array(vsr.Dll(*arg).exp() * vsr.Mot(*current_mot))\n",
    "    dll = vsr.Dll(0.0, 0.0, 0.0, 0.0, 0.0, 0.0)\n",
    "    \n",
    "    jac_exp = motor_jacobian.jacobian_exp(vsr.Mot(*current_mot), dll)\n",
    "    print(jac_exp)\n",
    "\n",
    "    js_ = np.array([motor_jacobian.diff_cost(vsr.Mot(*current_mot), a, b)\n",
    "                   for a, b in zip(points_a, points_b)])\n",
    "    \n",
    "    print(js_)\n",
    "    \n",
    "    js = np.array([np.dot(motor_jacobian.diff_cost(vsr.Mot(*current_mot), a, b), jac_exp)\n",
    "                   for a, b in zip(points_a, points_b)])\n",
    "    \n",
    "    print(js)\n",
    "    \n",
    "    js = js.reshape(-1,6)\n",
    "    return js"
   ]
  },
  {
   "cell_type": "code",
   "execution_count": 445,
   "metadata": {
    "collapsed": false
   },
   "outputs": [
    {
     "name": "stdout",
     "output_type": "stream",
     "text": [
      "[ 0.5  -0.87  0.  ]\n",
      "[[ 0.  0.  0.  0.  0.  0.]\n",
      " [ 1.  0.  0.  0.  0.  0.]\n",
      " [ 0.  1.  0.  0.  0.  0.]\n",
      " [ 0.  0.  1.  0.  0.  0.]\n",
      " [ 0.  0.  0.  1.  0.  0.]\n",
      " [ 0.  0.  0.  0.  1.  0.]\n",
      " [ 0.  0.  0.  0.  0.  1.]\n",
      " [ 0.  0.  0.  0.  0.  0.]]\n",
      "[[[ 2.  0.  0.  0. -2.  0.  0.  0.]\n",
      "  [ 0. -2.  0.  0.  0. -2.  0.  0.]\n",
      "  [ 0.  0. -2.  0.  0.  0. -2.  0.]]]\n",
      "[[[ 0.  0.  0. -2.  0.  0.]\n",
      "  [-2.  0.  0.  0. -2.  0.]\n",
      "  [ 0. -2.  0.  0.  0. -2.]]]\n"
     ]
    },
    {
     "data": {
      "text/plain": [
       "array([[ 0.,  0.,  0., -2.,  0.,  0.],\n",
       "       [-2.,  0.,  0.,  0., -2.,  0.],\n",
       "       [ 0., -2.,  0.,  0.,  0., -2.]])"
      ]
     },
     "execution_count": 445,
     "metadata": {},
     "output_type": "execute_result"
    }
   ],
   "source": [
    "print(func(init_dll))\n",
    "jac(init_dll)"
   ]
  },
  {
   "cell_type": "code",
   "execution_count": 431,
   "metadata": {
    "collapsed": false
   },
   "outputs": [
    {
     "ename": "TypeError",
     "evalue": "Improper input: N=6 must not exceed M=3",
     "output_type": "error",
     "traceback": [
      "\u001b[0;31m---------------------------------------------------------------------------\u001b[0m",
      "\u001b[0;31mTypeError\u001b[0m                                 Traceback (most recent call last)",
      "\u001b[0;32m<ipython-input-431-ec1804e9ad42>\u001b[0m in \u001b[0;36m<module>\u001b[0;34m()\u001b[0m\n\u001b[0;32m----> 1\u001b[0;31m \u001b[0mout\u001b[0m \u001b[0;34m=\u001b[0m \u001b[0mopt\u001b[0m\u001b[0;34m.\u001b[0m\u001b[0mleastsq\u001b[0m\u001b[0;34m(\u001b[0m\u001b[0mfunc\u001b[0m\u001b[0;34m,\u001b[0m \u001b[0minit_dll\u001b[0m\u001b[0;34m,\u001b[0m \u001b[0mDfun\u001b[0m\u001b[0;34m=\u001b[0m\u001b[0mjac\u001b[0m\u001b[0;34m,\u001b[0m \u001b[0mfull_output\u001b[0m\u001b[0;34m=\u001b[0m\u001b[0mFalse\u001b[0m\u001b[0;34m)\u001b[0m\u001b[0;34m\u001b[0m\u001b[0m\n\u001b[0m\u001b[1;32m      2\u001b[0m \u001b[0;32mprint\u001b[0m\u001b[0;34m(\u001b[0m\u001b[0mout\u001b[0m\u001b[0;34m)\u001b[0m\u001b[0;34m\u001b[0m\u001b[0m\n",
      "\u001b[0;32m/usr/local/lib/python2.7/site-packages/scipy/optimize/minpack.pyc\u001b[0m in \u001b[0;36mleastsq\u001b[0;34m(func, x0, args, Dfun, full_output, col_deriv, ftol, xtol, gtol, maxfev, epsfcn, factor, diag)\u001b[0m\n\u001b[1;32m    372\u001b[0m     \u001b[0mm\u001b[0m \u001b[0;34m=\u001b[0m \u001b[0mshape\u001b[0m\u001b[0;34m[\u001b[0m\u001b[0;36m0\u001b[0m\u001b[0;34m]\u001b[0m\u001b[0;34m\u001b[0m\u001b[0m\n\u001b[1;32m    373\u001b[0m     \u001b[0;32mif\u001b[0m \u001b[0mn\u001b[0m \u001b[0;34m>\u001b[0m \u001b[0mm\u001b[0m\u001b[0;34m:\u001b[0m\u001b[0;34m\u001b[0m\u001b[0m\n\u001b[0;32m--> 374\u001b[0;31m         \u001b[0;32mraise\u001b[0m \u001b[0mTypeError\u001b[0m\u001b[0;34m(\u001b[0m\u001b[0;34m'Improper input: N=%s must not exceed M=%s'\u001b[0m \u001b[0;34m%\u001b[0m \u001b[0;34m(\u001b[0m\u001b[0mn\u001b[0m\u001b[0;34m,\u001b[0m \u001b[0mm\u001b[0m\u001b[0;34m)\u001b[0m\u001b[0;34m)\u001b[0m\u001b[0;34m\u001b[0m\u001b[0m\n\u001b[0m\u001b[1;32m    375\u001b[0m     \u001b[0;32mif\u001b[0m \u001b[0mepsfcn\u001b[0m \u001b[0;32mis\u001b[0m \u001b[0mNone\u001b[0m\u001b[0;34m:\u001b[0m\u001b[0;34m\u001b[0m\u001b[0m\n\u001b[1;32m    376\u001b[0m         \u001b[0mepsfcn\u001b[0m \u001b[0;34m=\u001b[0m \u001b[0mfinfo\u001b[0m\u001b[0;34m(\u001b[0m\u001b[0mdtype\u001b[0m\u001b[0;34m)\u001b[0m\u001b[0;34m.\u001b[0m\u001b[0meps\u001b[0m\u001b[0;34m\u001b[0m\u001b[0m\n",
      "\u001b[0;31mTypeError\u001b[0m: Improper input: N=6 must not exceed M=3"
     ]
    }
   ],
   "source": [
    "out = opt.leastsq(func, init_dll, Dfun=jac, full_output=False)\n",
    "print(out)"
   ]
  },
  {
   "cell_type": "code",
   "execution_count": 419,
   "metadata": {
    "collapsed": false
   },
   "outputs": [
    {
     "name": "stdout",
     "output_type": "stream",
     "text": [
      "Mot: [ 1 0 0 0 -0.5 -6.4e-18 1.5e-17 0 ]\n"
     ]
    }
   ],
   "source": [
    "estimated_motor = vsr.Dll(*out[0]).exp()\n",
    "print(estimated_motor)"
   ]
  },
  {
   "cell_type": "code",
   "execution_count": 409,
   "metadata": {
    "collapsed": false
   },
   "outputs": [
    {
     "name": "stdout",
     "output_type": "stream",
     "text": [
      "Mot: [ 1 0 0 0 -0.5 -1 -1.5 0 ]\n"
     ]
    }
   ],
   "source": [
    "print(motor)"
   ]
  },
  {
   "cell_type": "code",
   "execution_count": 316,
   "metadata": {
    "collapsed": false
   },
   "outputs": [
    {
     "data": {
      "text/plain": [
       "array([[ 3.4 ,  0.37,  0.  , -2.  ,  0.  ,  0.  ],\n",
       "       [-2.94, -0.  ,  0.37,  0.  , -2.  , -0.  ],\n",
       "       [ 0.  , -2.94, -3.4 ,  0.  ,  0.  , -2.  ],\n",
       "       ..., \n",
       "       [ 1.9 ,  0.96,  0.  , -2.  ,  0.  ,  0.  ],\n",
       "       [-1.65, -0.  ,  0.96,  0.  , -2.  , -0.  ],\n",
       "       [ 0.  , -1.65, -1.9 ,  0.  ,  0.  , -2.  ]])"
      ]
     },
     "execution_count": 316,
     "metadata": {},
     "output_type": "execute_result"
    }
   ],
   "source": [
    "jac(init_dll)"
   ]
  },
  {
   "cell_type": "code",
   "execution_count": null,
   "metadata": {
    "collapsed": true
   },
   "outputs": [],
   "source": []
  }
 ],
 "metadata": {
  "kernelspec": {
   "display_name": "Python 2",
   "language": "python",
   "name": "python2"
  },
  "language_info": {
   "codemirror_mode": {
    "name": "ipython",
    "version": 2
   },
   "file_extension": ".py",
   "mimetype": "text/x-python",
   "name": "python",
   "nbconvert_exporter": "python",
   "pygments_lexer": "ipython2",
   "version": "2.7.10"
  }
 },
 "nbformat": 4,
 "nbformat_minor": 0
}
