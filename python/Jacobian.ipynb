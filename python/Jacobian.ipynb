{
 "cells": [
  {
   "cell_type": "code",
   "execution_count": 1,
   "metadata": {
    "collapsed": true
   },
   "outputs": [],
   "source": [
    "from __future__ import print_function"
   ]
  },
  {
   "cell_type": "code",
   "execution_count": 2,
   "metadata": {
    "collapsed": true
   },
   "outputs": [],
   "source": [
    "import sys\n",
    "sys.path.append('../build/')"
   ]
  },
  {
   "cell_type": "code",
   "execution_count": 3,
   "metadata": {
    "collapsed": false
   },
   "outputs": [
    {
     "name": "stdout",
     "output_type": "stream",
     "text": [
      "Populating the interactive namespace from numpy and matplotlib\n"
     ]
    }
   ],
   "source": [
    "%pylab inline\n",
    "np.set_printoptions(precision=4, suppress=True)"
   ]
  },
  {
   "cell_type": "code",
   "execution_count": 4,
   "metadata": {
    "collapsed": true
   },
   "outputs": [],
   "source": [
    "import versor as vsr"
   ]
  },
  {
   "cell_type": "code",
   "execution_count": 5,
   "metadata": {
    "collapsed": true
   },
   "outputs": [],
   "source": [
    "import motor_jacobian"
   ]
  },
  {
   "cell_type": "markdown",
   "metadata": {},
   "source": [
    "# Compute Jacobian"
   ]
  },
  {
   "cell_type": "code",
   "execution_count": 6,
   "metadata": {
    "collapsed": false
   },
   "outputs": [
    {
     "name": "stdout",
     "output_type": "stream",
     "text": [
      "Mot: [ 0.87 0 -0.5 0 -0.68 -0.43 -0.18 -0.25 ]\n"
     ]
    }
   ],
   "source": [
    "mot = vsr.Vec(1,1,1).trs() * vsr.Rot(vsr.Biv(0,1,0) * np.pi/6.0)\n",
    "print(mot)"
   ]
  },
  {
   "cell_type": "code",
   "execution_count": 14,
   "metadata": {
    "collapsed": true
   },
   "outputs": [],
   "source": [
    "mot = vsr.Mot(0.0, 1.0, 2.0, 3.0, 4.0, 5.0, 6.0, 7.0)"
   ]
  },
  {
   "cell_type": "code",
   "execution_count": 15,
   "metadata": {
    "collapsed": false
   },
   "outputs": [],
   "source": [
    "dll = vsr.Dll(0.0, 0.0, 0.0, 0.0, 0.0, 0.0)\n",
    "mot0 = vsr.Mot(0.0, 0.0, 0.0, 0.0, 0.0, 0.0, 0.0, 0.0)"
   ]
  },
  {
   "cell_type": "code",
   "execution_count": 16,
   "metadata": {
    "collapsed": false
   },
   "outputs": [
    {
     "name": "stdout",
     "output_type": "stream",
     "text": [
      "[[-1. -2. -3.  0.  0.  0.]\n",
      " [ 0. -3.  2.  0.  0.  0.]\n",
      " [ 3.  0. -1.  0.  0.  0.]\n",
      " [-2.  1.  0.  0.  0.  0.]\n",
      " [ 5.  6. -7.  0. -1. -2.]\n",
      " [-4.  7.  6.  1.  0. -3.]\n",
      " [-7. -4. -5.  2.  3.  0.]\n",
      " [ 6. -5.  4.  3. -2.  1.]]\n",
      "(8, 6)\n"
     ]
    }
   ],
   "source": [
    "jac_exp = motor_jacobian.jacobian_exp(mot, dll)\n",
    "print(jac_exp)\n",
    "print(jac_exp.shape)"
   ]
  },
  {
   "cell_type": "code",
   "execution_count": 18,
   "metadata": {
    "collapsed": false
   },
   "outputs": [
    {
     "name": "stdout",
     "output_type": "stream",
     "text": [
      "[[ 0.2673  0.      0.      0.      0.      0.      0.      0.    ]\n",
      " [ 0.      0.2482 -0.0382 -0.0573  0.      0.      0.      0.    ]\n",
      " [ 0.     -0.0382  0.1909 -0.1145  0.      0.      0.      0.    ]\n",
      " [ 0.     -0.0573 -0.1145  0.0955  0.      0.      0.      0.    ]\n",
      " [ 0.4009 -0.3218  0.33   -0.3164  0.0955  0.1145 -0.0573  0.    ]\n",
      " [-0.2673  0.0682 -0.36   -0.33    0.1145  0.1909  0.0382  0.    ]\n",
      " [ 0.1336 -0.3491 -0.0682 -0.3218 -0.0573  0.0382  0.2482  0.    ]\n",
      " [ 0.1527 -0.1336 -0.2673 -0.4009  0.      0.      0.      0.2673]]\n",
      "(8, 8)\n"
     ]
    }
   ],
   "source": [
    "jac_polar = motor_jacobian.jacobian_polar(mot, mot0)\n",
    "print(jac_polar)\n",
    "print(jac_polar.shape)"
   ]
  },
  {
   "cell_type": "code",
   "execution_count": null,
   "metadata": {
    "collapsed": false
   },
   "outputs": [],
   "source": [
    "dll.exp()"
   ]
  },
  {
   "cell_type": "code",
   "execution_count": null,
   "metadata": {
    "collapsed": true
   },
   "outputs": [],
   "source": []
  }
 ],
 "metadata": {
  "kernelspec": {
   "display_name": "Python 2",
   "language": "python",
   "name": "python2"
  },
  "language_info": {
   "codemirror_mode": {
    "name": "ipython",
    "version": 2
   },
   "file_extension": ".py",
   "mimetype": "text/x-python",
   "name": "python",
   "nbconvert_exporter": "python",
   "pygments_lexer": "ipython2",
   "version": "2.7.10"
  }
 },
 "nbformat": 4,
 "nbformat_minor": 0
}
