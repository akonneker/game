{
 "cells": [
  {
   "cell_type": "code",
   "execution_count": 1,
   "metadata": {
    "collapsed": true
   },
   "outputs": [],
   "source": [
    "from __future__ import print_function"
   ]
  },
  {
   "cell_type": "code",
   "execution_count": 2,
   "metadata": {
    "collapsed": true
   },
   "outputs": [],
   "source": [
    "import sys\n",
    "sys.path.append('../build/')"
   ]
  },
  {
   "cell_type": "code",
   "execution_count": 3,
   "metadata": {
    "collapsed": false
   },
   "outputs": [
    {
     "name": "stdout",
     "output_type": "stream",
     "text": [
      "Populating the interactive namespace from numpy and matplotlib\n"
     ]
    }
   ],
   "source": [
    "%pylab inline\n",
    "np.set_printoptions(precision=6, suppress=True)"
   ]
  },
  {
   "cell_type": "code",
   "execution_count": 4,
   "metadata": {
    "collapsed": false
   },
   "outputs": [],
   "source": [
    "import versor as vsr"
   ]
  },
  {
   "cell_type": "code",
   "execution_count": 5,
   "metadata": {
    "collapsed": false
   },
   "outputs": [],
   "source": [
    "import motor_jacobian"
   ]
  },
  {
   "cell_type": "code",
   "execution_count": 6,
   "metadata": {
    "collapsed": false
   },
   "outputs": [
    {
     "name": "stdout",
     "output_type": "stream",
     "text": [
      "Rot: [ 0.87 0.5 0 0 ]\n"
     ]
    }
   ],
   "source": [
    "B = vsr.Biv(-1.0, 0.0, 0.0).unit() * pi/6.\n",
    "R = B.exp()\n",
    "print(R)"
   ]
  },
  {
   "cell_type": "code",
   "execution_count": 7,
   "metadata": {
    "collapsed": false
   },
   "outputs": [
    {
     "name": "stdout",
     "output_type": "stream",
     "text": [
      "Vec: [ -21 -11 -23 ]\n",
      "[[ 4.  2. -8. -6.]\n",
      " [ 2. -4.  6. -8.]\n",
      " [-8. -6. -4. -2.]]\n"
     ]
    }
   ],
   "source": [
    "f, J_f = motor_jacobian.diff_rotor_cost(vsr.Rot(1.0,2.0,3.0,4.0), \n",
    "                                        vsr.Vec(0.0,1.0,0.0), \n",
    "                                        vsr.Vec(1.0,1.0,3.0))\n",
    "f = vsr.Vec(*f)\n",
    "print(f)\n",
    "print(J_f)"
   ]
  },
  {
   "cell_type": "code",
   "execution_count": 8,
   "metadata": {
    "collapsed": false
   },
   "outputs": [
    {
     "name": "stdout",
     "output_type": "stream",
     "text": [
      "[[-0. -0. -8.  6.]\n",
      " [-0. -0. -0. -0.]\n",
      " [-0. -6.  4. -0.]]\n"
     ]
    }
   ],
   "source": [
    "J_f2 = motor_jacobian.analytic_diff_rotor_cost(vsr.Rot(1.0,2.0,3.0,4.0), \n",
    "                                        vsr.Vec(0.0,1.0,0.0), \n",
    "                                        vsr.Vec(1.0,1.0,3.0))\n",
    "print(J_f2 * -1.)"
   ]
  },
  {
   "cell_type": "code",
   "execution_count": 9,
   "metadata": {
    "collapsed": false
   },
   "outputs": [
    {
     "name": "stdout",
     "output_type": "stream",
     "text": [
      "Rot: [ 0.87 -0.29 -0.29 -0.29 ]\n",
      "[[ 0.57735   1.732051  2.886751 -0.57735 ]\n",
      " [ 1.732051 -0.57735   0.57735   2.886751]\n",
      " [ 2.886751 -0.57735  -0.57735  -1.732051]]\n"
     ]
    }
   ],
   "source": [
    "B = vsr.Biv(1.0, 1.0, 1.0).unit() * pi/6.\n",
    "R = B.exp()\n",
    "a = vsr.Vec(1.0, 1.0, 1.0)\n",
    "b = vsr.Vec(0.0, 1.0, 3)\n",
    "print(R)\n",
    "f, J_f = motor_jacobian.diff_rotor_cost(R, a, b)\n",
    "print(J_f)"
   ]
  },
  {
   "cell_type": "code",
   "execution_count": 10,
   "metadata": {
    "collapsed": false
   },
   "outputs": [
    {
     "name": "stdout",
     "output_type": "stream",
     "text": [
      "[[ 0.57735   1.732051  2.886751  0.57735 ]\n",
      " [ 1.732051 -0.57735  -0.57735   2.886751]\n",
      " [ 2.886751  0.57735  -0.57735  -1.732051]]\n"
     ]
    }
   ],
   "source": [
    "J_f3 = 2.* np.array([np.array((vsr.Vec(1,0,0) * a) * R.rev()),\n",
    "                     np.array((vsr.Vec(0,1,0) * a) * R.rev()),\n",
    "                     np.array((vsr.Vec(0,0,1) * a) * R.rev())]).copy()\n",
    "print(J_f3)"
   ]
  },
  {
   "cell_type": "code",
   "execution_count": 11,
   "metadata": {
    "collapsed": false
   },
   "outputs": [],
   "source": [
    "a = vsr.Biv(*np.array(  (vsr.Vec(1,0,0) * a) * R.rev())[1:]).duale().unit()"
   ]
  },
  {
   "cell_type": "code",
   "execution_count": 12,
   "metadata": {
    "collapsed": false
   },
   "outputs": [],
   "source": [
    "b = vsr.Biv(*np.array(J_f[0,1:])).duale().unit()"
   ]
  },
  {
   "cell_type": "code",
   "execution_count": 10,
   "metadata": {
    "collapsed": false
   },
   "outputs": [
    {
     "data": {
      "text/plain": [
       "4.0"
      ]
     },
     "execution_count": 10,
     "metadata": {},
     "output_type": "execute_result"
    }
   ],
   "source": [
    "a <= b"
   ]
  },
  {
   "cell_type": "code",
   "execution_count": null,
   "metadata": {
    "collapsed": true
   },
   "outputs": [],
   "source": []
  },
  {
   "cell_type": "code",
   "execution_count": 14,
   "metadata": {
    "collapsed": false
   },
   "outputs": [
    {
     "data": {
      "text/plain": [
       "Rot: [ -0.85 -0.17 0 0.51 ]"
      ]
     },
     "execution_count": 14,
     "metadata": {},
     "output_type": "execute_result"
    }
   ],
   "source": [
    "(vsr.Vec(0,1,0) * a)"
   ]
  },
  {
   "cell_type": "code",
   "execution_count": 15,
   "metadata": {
    "collapsed": false
   },
   "outputs": [
    {
     "data": {
      "text/plain": [
       "1.0"
      ]
     },
     "execution_count": 15,
     "metadata": {},
     "output_type": "execute_result"
    }
   ],
   "source": [
    "(vsr.Dll(0,0,1,0,0,0).rev() * vsr.Dll(vsr.Vec(1,2,3).null(), vsr.Vec(1,0,0)))[0]"
   ]
  },
  {
   "cell_type": "code",
   "execution_count": 16,
   "metadata": {
    "collapsed": true
   },
   "outputs": [],
   "source": [
    "# p1 = vsr.Vec(1,0,1).null()\n",
    "p2 = vsr.Vec(0,1,1).null()\n",
    "p3 = vsr.Vec(1,1,1).null()\n",
    "p4 = vsr.Vec(0,0,1.5).null()\n",
    "cir = vsr.Cir(p2, p3, p4)\n"
   ]
  },
  {
   "cell_type": "code",
   "execution_count": 17,
   "metadata": {
    "collapsed": false
   },
   "outputs": [
    {
     "data": {
      "text/plain": [
       "Rot: [ 0.17 -0.85 0.51 0 ]"
      ]
     },
     "execution_count": 17,
     "metadata": {},
     "output_type": "execute_result"
    }
   ],
   "source": [
    "(vsr.Vec(1,0,0) * a)"
   ]
  },
  {
   "cell_type": "code",
   "execution_count": 18,
   "metadata": {
    "collapsed": false
   },
   "outputs": [
    {
     "data": {
      "text/plain": [
       "Rot: [ 0.49 -1.7 0.49 0.88 ]"
      ]
     },
     "execution_count": 18,
     "metadata": {},
     "output_type": "execute_result"
    }
   ],
   "source": [
    "(vsr.Vec(1,0,0) * a) * R.rev() * 2."
   ]
  },
  {
   "cell_type": "code",
   "execution_count": 19,
   "metadata": {
    "collapsed": false
   },
   "outputs": [
    {
     "data": {
      "text/plain": [
       "False"
      ]
     },
     "execution_count": 19,
     "metadata": {},
     "output_type": "execute_result"
    }
   ],
   "source": [
    "np.allclose(J_f, J_f3)"
   ]
  },
  {
   "cell_type": "code",
   "execution_count": 23,
   "metadata": {
    "collapsed": false
   },
   "outputs": [
    {
     "data": {
      "text/plain": [
       "array([[ 0.      , -0.      ,  0.      , -1.154701],\n",
       "       [-0.      ,  0.      ,  1.154701,  0.      ],\n",
       "       [ 0.      , -1.154701,  0.      ,  0.      ]])"
      ]
     },
     "execution_count": 23,
     "metadata": {},
     "output_type": "execute_result"
    }
   ],
   "source": [
    "J_f - J_f3"
   ]
  },
  {
   "cell_type": "code",
   "execution_count": 24,
   "metadata": {
    "collapsed": false
   },
   "outputs": [
    {
     "data": {
      "text/plain": [
       "array([[ 0.57735 ,  1.732051,  2.886751,  0.57735 ],\n",
       "       [ 1.732051, -0.57735 , -0.57735 ,  2.886751],\n",
       "       [ 2.886751,  0.57735 , -0.57735 , -1.732051]])"
      ]
     },
     "execution_count": 24,
     "metadata": {},
     "output_type": "execute_result"
    }
   ],
   "source": [
    "J_f3"
   ]
  },
  {
   "cell_type": "code",
   "execution_count": 25,
   "metadata": {
    "collapsed": false
   },
   "outputs": [
    {
     "data": {
      "text/plain": [
       "Rot: [ 0 0.85 3.4 -4.2 ]"
      ]
     },
     "execution_count": 25,
     "metadata": {},
     "output_type": "execute_result"
    }
   ],
   "source": [
    "(vsr.Vec(1,0,0) * a) * vsr.Rot(1.0,2.0,3.0,4.0).rev()"
   ]
  },
  {
   "cell_type": "code",
   "execution_count": 26,
   "metadata": {
    "collapsed": false
   },
   "outputs": [
    {
     "name": "stdout",
     "output_type": "stream",
     "text": [
      "Rot: [ 0.87 -0.29 -0.29 -0.29 ]\n",
      "[[ 0.288675  0.288675  0.288675]\n",
      " [ 0.866025  0.288675 -0.288675]\n",
      " [-0.288675  0.866025  0.288675]\n",
      " [ 0.288675 -0.288675  0.866025]]\n"
     ]
    }
   ],
   "source": [
    "print(R)\n",
    "def J_x(x):\n",
    "    return np.array([[-x[1], -x[2], -x[3]],\n",
    "                     [x[0], -x[3],  x[2]],\n",
    "                     [ x[3],   x[0], -x[1]],\n",
    "                     [-x[2],  x[1],   x[0]]])\n",
    "print(J_x(R))"
   ]
  },
  {
   "cell_type": "code",
   "execution_count": 27,
   "metadata": {
    "collapsed": false
   },
   "outputs": [
    {
     "name": "stdout",
     "output_type": "stream",
     "text": [
      "[[-0.288675 -0.288675 -0.288675]\n",
      " [-0.866025 -0.288675  0.288675]\n",
      " [ 0.288675 -0.866025 -0.288675]\n",
      " [-0.288675  0.288675 -0.866025]]\n"
     ]
    }
   ],
   "source": [
    "J_l = motor_jacobian.rotor_local_parameterization(R)\n",
    "print(J_l)"
   ]
  },
  {
   "cell_type": "code",
   "execution_count": 28,
   "metadata": {
    "collapsed": false
   },
   "outputs": [
    {
     "data": {
      "text/plain": [
       "array([[ 0.866025, -0.288675, -0.288675, -0.288675],\n",
       "       [ 0.288675,  0.866025, -0.288675,  0.288675],\n",
       "       [ 0.288675,  0.288675,  0.866025, -0.288675],\n",
       "       [ 0.288675, -0.288675,  0.288675,  0.866025]])"
      ]
     },
     "execution_count": 28,
     "metadata": {},
     "output_type": "execute_result"
    }
   ],
   "source": [
    "np.array([np.array(vsr.Rot(1,0,0,0) * R),\n",
    "          np.array(vsr.Rot(0.0,1.0,0.0,0.0) * R),\n",
    "          np.array(vsr.Rot(0.0,0.0,1.0,0.0) * R),\n",
    "          np.array(vsr.Rot(0.0,0.0,0.0,1.0) * R)\n",
    "         ])"
   ]
  },
  {
   "cell_type": "code",
   "execution_count": 29,
   "metadata": {
    "collapsed": false
   },
   "outputs": [
    {
     "name": "stdout",
     "output_type": "stream",
     "text": [
      "Biv: [ -0.3023 -0.3023 -0.3023 ]\n",
      "Rot: [ -0.58 -2.2 0.38 0.1 ]\n",
      "Rot: [ -0.58 0.1 -2.2 0.38 ]\n",
      "Rot: [ -0.58 0.38 0.1 -2.2 ]\n"
     ]
    }
   ],
   "source": [
    "np.array([np.array(vsr.Rot(0.0,1.0,0.0,0.0) * R),\n",
    "          np.array(vsr.Rot(0.0,0.0,1.0,0.0) * R),\n",
    "          np.array(vsr.Rot(0.0,0.0,0.0,1.0) * R),\n",
    "         ])\n",
    "print(R.log())\n",
    "print(R * vsr.valkenburg2(vsr.Biv(-2,0,0), R.log()*2.))\n",
    "print(R * vsr.valkenburg2(vsr.Biv(0,-2,0), R.log()*2.))\n",
    "print(R * vsr.valkenburg2(vsr.Biv(0,0,-2), R.log()*2.))"
   ]
  },
  {
   "cell_type": "code",
   "execution_count": 30,
   "metadata": {
    "collapsed": false
   },
   "outputs": [
    {
     "data": {
      "text/plain": [
       "Rot: [ -3.6 -0 -0 -0 ]"
      ]
     },
     "execution_count": 30,
     "metadata": {},
     "output_type": "execute_result"
    }
   ],
   "source": [
    "(B * B).inv()"
   ]
  },
  {
   "cell_type": "code",
   "execution_count": 31,
   "metadata": {
    "collapsed": false
   },
   "outputs": [
    {
     "data": {
      "text/plain": [
       "Rot: [ 0.3 0 -0.3 0.3 ]"
      ]
     },
     "execution_count": 31,
     "metadata": {},
     "output_type": "execute_result"
    }
   ],
   "source": [
    "vsr.Biv(1,0,0) * R.log()"
   ]
  },
  {
   "cell_type": "code",
   "execution_count": 32,
   "metadata": {
    "collapsed": false
   },
   "outputs": [
    {
     "name": "stdout",
     "output_type": "stream",
     "text": [
      "[[ 0.57735   1.732051  2.886751  0.57735 ]\n",
      " [ 1.732051 -0.57735  -0.57735   2.886751]\n",
      " [ 2.886751  0.57735  -0.57735  -1.732051]]\n",
      "[[ 0.288675  0.288675  0.288675]\n",
      " [ 0.866025  0.288675 -0.288675]\n",
      " [-0.288675  0.866025  0.288675]\n",
      " [ 0.288675 -0.288675  0.866025]]\n"
     ]
    },
    {
     "data": {
      "text/plain": [
       "array([[-1., -3., -1.],\n",
       "       [-1.,  1., -3.],\n",
       "       [-1., -1.,  1.]])"
      ]
     },
     "execution_count": 32,
     "metadata": {},
     "output_type": "execute_result"
    }
   ],
   "source": [
    "print(J_f3)\n",
    "print(J_x(R))\n",
    "np.dot(-J_f3.copy(), J_x(R).copy())"
   ]
  },
  {
   "cell_type": "code",
   "execution_count": 33,
   "metadata": {
    "collapsed": false
   },
   "outputs": [
    {
     "data": {
      "text/plain": [
       "array([[-0.666667, -3.333333, -0.      ],\n",
       "       [-0.666667,  0.      , -3.333333],\n",
       "       [-0.      , -0.666667,  0.666667]])"
      ]
     },
     "execution_count": 33,
     "metadata": {},
     "output_type": "execute_result"
    }
   ],
   "source": [
    "np.dot(J_f, J_l)"
   ]
  },
  {
   "cell_type": "code",
   "execution_count": 34,
   "metadata": {
    "collapsed": false
   },
   "outputs": [
    {
     "name": "stdout",
     "output_type": "stream",
     "text": [
      "Vec: [ 1 2 3 ]\n",
      "Biv: [ 0.1399 0.2799 0.4198 ]\n",
      "Rot: [ 0.87 -0.13 -0.27 -0.4 ]\n"
     ]
    },
    {
     "data": {
      "text/plain": [
       "Rot: [ -0.12 0.26 0.36 -0.24 ]"
      ]
     },
     "execution_count": 34,
     "metadata": {},
     "output_type": "execute_result"
    }
   ],
   "source": [
    "a = vsr.Vec(1.,2.,3.)\n",
    "print(a)\n",
    "B = vsr.Biv(1.0, 2.0, 3.0).unit() * pi/6.\n",
    "print(B)\n",
    "R = B.exp()\n",
    "print(R)\n",
    "D = vsr.Biv(1.0,0.0,0.0)\n",
    "D * B * B.exp()"
   ]
  },
  {
   "cell_type": "code",
   "execution_count": 35,
   "metadata": {
    "collapsed": false
   },
   "outputs": [
    {
     "data": {
      "text/plain": [
       "array([[-0.124367, -0.323893, -0.274685],\n",
       "       [ 0.237105,  0.145128, -0.421061],\n",
       "       [ 0.419813, -0.279875,  0.139938]])"
      ]
     },
     "execution_count": 35,
     "metadata": {},
     "output_type": "execute_result"
    }
   ],
   "source": [
    "np.array([vsr.diff_rotor(R,vsr.Biv(1.0,0.0,0.0),vsr.Vec(1.0,0.0,0.0)),\n",
    "          vsr.diff_rotor(R,vsr.Biv(1.0,0.0,0.0),vsr.Vec(0.0,1.0,0.0)),\n",
    "          vsr.diff_rotor(R,vsr.Biv(1.0,0.0,0.0),vsr.Vec(0.0,0.0,1.0)),\n",
    "          vsr.diff_rotor(R,vsr.Biv(0.0,1.0,0.0),vsr.Vec(1.0,0.0,0.0)),\n",
    "          vsr.diff_rotor(R,vsr.Biv(0.0,1.0,0.0),vsr.Vec(0.0,1.0,0.0)),\n",
    "          vsr.diff_rotor(R,vsr.Biv(0.0,1.0,0.0),vsr.Vec(0.0,0.0,1.0)),\n",
    "          vsr.diff_rotor(R,vsr.Biv(0.0,0.0,1.0),vsr.Vec(1.0,0.0,0.0)),\n",
    "          vsr.diff_rotor(R,vsr.Biv(0.0,0.0,1.0),vsr.Vec(0.0,1.0,0.0)),\n",
    "          vsr.diff_rotor(R,vsr.Biv(0.0,0.0,1.0),vsr.Vec(0.0,0.0,1.0))]).reshape(3,3)"
   ]
  },
  {
   "cell_type": "code",
   "execution_count": 36,
   "metadata": {
    "collapsed": false
   },
   "outputs": [
    {
     "name": "stdout",
     "output_type": "stream",
     "text": [
      "Rot: [ 0.87 -0.13 -0.27 -0.4 ]\n"
     ]
    },
    {
     "data": {
      "text/plain": [
       "Rot: [ -12 0 23 -13 ]"
      ]
     },
     "execution_count": 36,
     "metadata": {},
     "output_type": "execute_result"
    }
   ],
   "source": [
    "print(R)\n",
    "vsr.Biv(1.0,0.0,0.0) * vsr.Rot(0, 12, 13, 23)"
   ]
  },
  {
   "cell_type": "code",
   "execution_count": 37,
   "metadata": {
    "collapsed": false
   },
   "outputs": [
    {
     "name": "stdout",
     "output_type": "stream",
     "text": [
      "[[-12. -13. -23.]\n",
      " [  1. -23.  13.]\n",
      " [ 23.   1. -12.]\n",
      " [-13.  12.   1.]]\n"
     ]
    }
   ],
   "source": [
    "j = np.zeros((4,3))\n",
    "for i in range(3):\n",
    "    biv = vsr.Biv(0.0, 0.0, 0.0)\n",
    "    biv[i] = 1.0 \n",
    "    j[:,i] = biv * vsr.Rot(1, 12, 13, 23)\n",
    "print(j)"
   ]
  },
  {
   "cell_type": "code",
   "execution_count": 38,
   "metadata": {
    "collapsed": false
   },
   "outputs": [
    {
     "data": {
      "text/plain": [
       "Rot: [ 0.13 0.87 -0.4 0.27 ]"
      ]
     },
     "execution_count": 38,
     "metadata": {},
     "output_type": "execute_result"
    }
   ],
   "source": [
    "vsr.Biv(1,0,0) * R"
   ]
  },
  {
   "cell_type": "code",
   "execution_count": 39,
   "metadata": {
    "collapsed": false
   },
   "outputs": [
    {
     "data": {
      "text/plain": [
       "Rot: [ 0.87 0.13 0.27 0.4 ]"
      ]
     },
     "execution_count": 39,
     "metadata": {},
     "output_type": "execute_result"
    }
   ],
   "source": [
    "R.log().exp()"
   ]
  },
  {
   "cell_type": "code",
   "execution_count": 40,
   "metadata": {
    "collapsed": false
   },
   "outputs": [
    {
     "data": {
      "text/plain": [
       "Rot: [ -0.52 -0.24 -0.48 -0.73 ]"
      ]
     },
     "execution_count": 40,
     "metadata": {},
     "output_type": "execute_result"
    }
   ],
   "source": [
    "vsr.Rot(1,0,0,0)* R.log() * R * 2."
   ]
  },
  {
   "cell_type": "code",
   "execution_count": 12,
   "metadata": {
    "collapsed": false
   },
   "outputs": [],
   "source": [
    " def jacrot(a, rot):\n",
    "    j = np.zeros((3,3))\n",
    "    for i in range(3):\n",
    "        biv = vsr.Biv(0.0, 0.0, 0.0)\n",
    "        biv[i] = 1.0\n",
    "        j[:,i] = -np.array(biv.comm(a.spin(rot)))\n",
    "    return j"
   ]
  },
  {
   "cell_type": "code",
   "execution_count": 13,
   "metadata": {
    "collapsed": false
   },
   "outputs": [
    {
     "name": "stdout",
     "output_type": "stream",
     "text": [
      "Rot: [ 0.87 -0.5 0 0 ]\n"
     ]
    }
   ],
   "source": [
    "B = vsr.Biv(1.0, 0.0, 0.0).unit() * pi/6.\n",
    "R = B.exp()\n",
    "print(R)\n",
    "a = vsr.Vec(0.0, 1.0, 0.0)\n",
    "b = vsr.Vec(1.0, 1.0, 1.0)"
   ]
  },
  {
   "cell_type": "code",
   "execution_count": 16,
   "metadata": {
    "collapsed": false
   },
   "outputs": [
    {
     "data": {
      "text/plain": [
       "array([[-0.5     , -0.      , -0.      ],\n",
       "       [-0.866025, -0.      , -0.      ],\n",
       "       [-0.      , -0.866025,  0.5     ]])"
      ]
     },
     "execution_count": 16,
     "metadata": {},
     "output_type": "execute_result"
    }
   ],
   "source": [
    "jacrot(a, R)"
   ]
  },
  {
   "cell_type": "markdown",
   "metadata": {},
   "source": [
    "# Compute Jacobian"
   ]
  },
  {
   "cell_type": "code",
   "execution_count": 18,
   "metadata": {
    "collapsed": false
   },
   "outputs": [
    {
     "name": "stdout",
     "output_type": "stream",
     "text": [
      "Dll: [ 0 -0.5236 0 -0.7152 -0.5 -0.1917 ]\n"
     ]
    }
   ],
   "source": [
    "mot = vsr.Vec(1,1,1).trs() * vsr.Rot(vsr.Biv(0,1,0) * np.pi/6.0)\n",
    "print(mot.log())"
   ]
  },
  {
   "cell_type": "code",
   "execution_count": 19,
   "metadata": {
    "collapsed": false
   },
   "outputs": [
    {
     "data": {
      "text/plain": [
       "Pnt: [ 0 0 1 0 0 ]"
      ]
     },
     "execution_count": 19,
     "metadata": {},
     "output_type": "execute_result"
    }
   ],
   "source": [
    "p = vsr.Vec(0,0,0).null()\n",
    "p.comm(vsr.Lin(vsr.Vec(0,1,0).null(), vsr.Vec(-1,0,0)).dual())"
   ]
  },
  {
   "cell_type": "code",
   "execution_count": 20,
   "metadata": {
    "collapsed": true
   },
   "outputs": [],
   "source": [
    "mot = vsr.Mot(1.0, 2.0, 3.0, 4.0, 5.0, 6.0, 7.0, 8.0)"
   ]
  },
  {
   "cell_type": "code",
   "execution_count": 21,
   "metadata": {
    "collapsed": false
   },
   "outputs": [],
   "source": [
    "dll = vsr.Dll(1.0, 0.0, 0.0, 0.0, 0.0, 0.0)\n",
    "mot0 = vsr.Mot(1.0, 0.0, 0.0, 0.0, 0.0, 0.0, 0.0, 0.0)"
   ]
  },
  {
   "cell_type": "code",
   "execution_count": 22,
   "metadata": {
    "collapsed": false
   },
   "outputs": [
    {
     "data": {
      "text/plain": [
       "Mot: [ 0 0 -4 3 -6 5 0 0 ]"
      ]
     },
     "execution_count": 22,
     "metadata": {},
     "output_type": "execute_result"
    }
   ],
   "source": [
    "mot.comm(dll)"
   ]
  },
  {
   "cell_type": "code",
   "execution_count": 23,
   "metadata": {
    "collapsed": false
   },
   "outputs": [
    {
     "data": {
      "text/plain": [
       "Mot: [ -2 1 0 0 0 0 -8 7 ]"
      ]
     },
     "execution_count": 23,
     "metadata": {},
     "output_type": "execute_result"
    }
   ],
   "source": [
    "mot.acomm(dll)"
   ]
  },
  {
   "cell_type": "code",
   "execution_count": 24,
   "metadata": {
    "collapsed": false
   },
   "outputs": [
    {
     "data": {
      "text/plain": [
       "Mot: [ 1 2 3 4 5 6 7 8 ]"
      ]
     },
     "execution_count": 24,
     "metadata": {},
     "output_type": "execute_result"
    }
   ],
   "source": [
    "mot.acomm(mot0)"
   ]
  },
  {
   "cell_type": "code",
   "execution_count": 28,
   "metadata": {
    "collapsed": false
   },
   "outputs": [
    {
     "data": {
      "text/plain": [
       "Mot: [ 0 0 0 0 -3 -4 1 2 ]"
      ]
     },
     "execution_count": 28,
     "metadata": {},
     "output_type": "execute_result"
    }
   ],
   "source": [
    "mot.acomm(dll) - mot.comm(dll) "
   ]
  },
  {
   "cell_type": "code",
   "execution_count": 29,
   "metadata": {
    "collapsed": true
   },
   "outputs": [],
   "source": [
    "mot = vsr.Mot(1.0, -2.0, -3.0, -4.0, 5.0, 6.0, 7.0, 8.0)"
   ]
  },
  {
   "cell_type": "code",
   "execution_count": 33,
   "metadata": {
    "collapsed": false,
    "scrolled": true
   },
   "outputs": [
    {
     "name": "stdout",
     "output_type": "stream",
     "text": [
      "[[-2. -3. -4.  0.  0.  0.]\n",
      " [-1. -4.  3.  0.  0.  0.]\n",
      " [ 4. -1. -2.  0.  0.  0.]\n",
      " [-3.  2. -1.  0.  0.  0.]\n",
      " [-6. -7.  8.  1.  2.  3.]\n",
      " [ 5. -8. -7. -2.  1.  4.]\n",
      " [ 8.  5.  6. -3. -4.  1.]\n",
      " [-7.  6. -5. -4.  3. -2.]]\n"
     ]
    }
   ],
   "source": [
    "j = np.zeros((8,6))\n",
    "idxs = np.array([-1,-1,-1,1,1,1])\n",
    "for i in range(6):\n",
    "    dll = vsr.Dll(0.0, 0.0, 0.0, 0.0, 0.0, 0.0)\n",
    "    dll[i] = idxs[i]\n",
    "#     j[:,i] = np.array(mot.acomm(dll)) - np.array(mot.comm(dll)) \n",
    "    j[:,i] = dll * mot \n",
    "print(j)"
   ]
  },
  {
   "cell_type": "code",
   "execution_count": 34,
   "metadata": {
    "collapsed": false
   },
   "outputs": [
    {
     "name": "stdout",
     "output_type": "stream",
     "text": [
      "Dll: [ 0 0 1 0 0 0 ]\n",
      "Dll: [ -2 -3 -4 5 6 7 ]\n"
     ]
    },
    {
     "data": {
      "text/plain": [
       "Mot: [ 4 2.8 -2.2 1.3 -8.1 -6.6 7.4 5 ]"
      ]
     },
     "execution_count": 34,
     "metadata": {},
     "output_type": "execute_result"
    }
   ],
   "source": [
    "a = vsr.Dll(0.0, 0.0, 1.0, 0.0, 0.0, 0.0)\n",
    "b = mot.log()\n",
    "print(a)\n",
    "print(b)\n",
    "mot * vsr.valkenburg(a, mot.log())"
   ]
  },
  {
   "cell_type": "code",
   "execution_count": 54,
   "metadata": {
    "collapsed": false
   },
   "outputs": [
    {
     "data": {
      "text/plain": [
       "Mot: [ -4 -3 2 0 0 -7 6 5 ]"
      ]
     },
     "execution_count": 54,
     "metadata": {},
     "output_type": "execute_result"
    }
   ],
   "source": [
    "b * a"
   ]
  },
  {
   "cell_type": "code",
   "execution_count": 55,
   "metadata": {
    "collapsed": false
   },
   "outputs": [
    {
     "ename": "SyntaxError",
     "evalue": "invalid syntax (<ipython-input-55-94d5169e331e>, line 1)",
     "output_type": "error",
     "traceback": [
      "\u001b[1;36m  File \u001b[1;32m\"<ipython-input-55-94d5169e331e>\"\u001b[1;36m, line \u001b[1;32m1\u001b[0m\n\u001b[1;33m    a + mot *\u001b[0m\n\u001b[1;37m              ^\u001b[0m\n\u001b[1;31mSyntaxError\u001b[0m\u001b[1;31m:\u001b[0m invalid syntax\n"
     ]
    }
   ],
   "source": [
    "a + mot * "
   ]
  },
  {
   "cell_type": "code",
   "execution_count": 56,
   "metadata": {
    "collapsed": false
   },
   "outputs": [
    {
     "data": {
      "text/plain": [
       "array([-4., -3.,  2.,  0.,  0., -7.,  6.,  5.])"
      ]
     },
     "execution_count": 56,
     "metadata": {},
     "output_type": "execute_result"
    }
   ],
   "source": [
    "np.array(b * a)"
   ]
  },
  {
   "cell_type": "code",
   "execution_count": 57,
   "metadata": {
    "collapsed": false
   },
   "outputs": [
    {
     "data": {
      "text/plain": [
       "Dll: [ -3 2 0 0 -7 6 ]"
      ]
     },
     "execution_count": 57,
     "metadata": {},
     "output_type": "execute_result"
    }
   ],
   "source": [
    "vsr.Dll(*np.array(b * a)[1:7])"
   ]
  },
  {
   "cell_type": "code",
   "execution_count": 58,
   "metadata": {
    "collapsed": false
   },
   "outputs": [
    {
     "ename": "TypeError",
     "evalue": "Incompatible function arguments. The following argument types are supported:\n    1. (Dll, Dll) -> Dll\n",
     "output_type": "error",
     "traceback": [
      "\u001b[1;31m---------------------------------------------------------------------------\u001b[0m",
      "\u001b[1;31mTypeError\u001b[0m                                 Traceback (most recent call last)",
      "\u001b[1;32m<ipython-input-58-4038314c24e1>\u001b[0m in \u001b[0;36m<module>\u001b[1;34m()\u001b[0m\n\u001b[0;32m      1\u001b[0m vsr.Mot(0.0, 1.0, 0.0, 0.0, 0.0, 0.0, 0.0, 0.0) + ((-b * 2.)\n\u001b[0;32m      2\u001b[0m                                                    \u001b[1;33m+\u001b[0m \u001b[0mvsr\u001b[0m\u001b[1;33m.\u001b[0m\u001b[0mMot\u001b[0m\u001b[1;33m(\u001b[0m\u001b[1;36m1.0\u001b[0m\u001b[1;33m,\u001b[0m \u001b[1;36m0.0\u001b[0m\u001b[1;33m,\u001b[0m \u001b[1;36m0.0\u001b[0m\u001b[1;33m,\u001b[0m \u001b[1;36m0.0\u001b[0m\u001b[1;33m,\u001b[0m \u001b[1;36m0.0\u001b[0m\u001b[1;33m,\u001b[0m \u001b[1;36m0.0\u001b[0m\u001b[1;33m,\u001b[0m \u001b[1;36m0.0\u001b[0m\u001b[1;33m,\u001b[0m \u001b[1;36m0.0\u001b[0m\u001b[1;33m)\u001b[0m\u001b[1;33m\u001b[0m\u001b[0m\n\u001b[1;32m----> 3\u001b[1;33m                                                    + (b.exp() * -1.) * (b_inv * b_inv)) * vsr.Dll(*np.array(b * a)[1:7])\n\u001b[0m",
      "\u001b[1;31mTypeError\u001b[0m: Incompatible function arguments. The following argument types are supported:\n    1. (Dll, Dll) -> Dll\n"
     ]
    }
   ],
   "source": [
    "vsr.Mot(0.0, 1.0, 0.0, 0.0, 0.0, 0.0, 0.0, 0.0) + ((-b * 2.)\n",
    "                                                   + vsr.Mot(1.0, 0.0, 0.0, 0.0, 0.0, 0.0, 0.0, 0.0)\n",
    "                                                   + (b.exp() * -1.) * (b_inv * b_inv)) * vsr.Dll(*np.array(b * a)[1:7])"
   ]
  },
  {
   "cell_type": "code",
   "execution_count": 59,
   "metadata": {
    "collapsed": false
   },
   "outputs": [
    {
     "name": "stdout",
     "output_type": "stream",
     "text": [
      "[[-2. -3. -4.  0.  0.  0.]\n",
      " [ 1. -4.  3.  0.  0.  0.]\n",
      " [ 4.  1. -2.  0.  0.  0.]\n",
      " [-3.  2.  1.  0.  0.  0.]\n",
      " [ 6.  7. -8.  1. -2. -3.]\n",
      " [-5.  8.  7.  2.  1. -4.]\n",
      " [-8. -5. -6.  3.  4.  1.]\n",
      " [ 7. -6.  5.  4. -3.  2.]]\n"
     ]
    }
   ],
   "source": [
    "j = np.zeros((8,6))\n",
    "for i in range(6):\n",
    "    dll = vsr.Dll(0.0, 0.0, 0.0, 0.0, 0.0, 0.0)\n",
    "    dll[i] = 1.0\n",
    "#     print(dll)\n",
    "    j[:,i] = np.array(dll.comm(mot)) + np.array(dll.acomm(mot)) \n",
    "print(j)"
   ]
  },
  {
   "cell_type": "code",
   "execution_count": 60,
   "metadata": {
    "collapsed": false
   },
   "outputs": [
    {
     "data": {
      "text/plain": [
       "Mot: [ -2 1 4 -3 6 -5 -8 7 ]"
      ]
     },
     "execution_count": 60,
     "metadata": {},
     "output_type": "execute_result"
    }
   ],
   "source": [
    "dll = vsr.Dll(1.0, 0.0, 0.0, 0.0, 0.0, 0.0)\n",
    "dll * mot"
   ]
  },
  {
   "cell_type": "code",
   "execution_count": 61,
   "metadata": {
    "collapsed": false
   },
   "outputs": [
    {
     "name": "stdout",
     "output_type": "stream",
     "text": [
      "[[-2. -3. -4.  0.  0.  0.]\n",
      " [ 1. -4.  3.  0.  0.  0.]\n",
      " [ 4.  1. -2.  0.  0.  0.]\n",
      " [-3.  2.  1.  0.  0.  0.]\n",
      " [ 6.  7. -8.  1. -2. -3.]\n",
      " [-5.  8.  7.  2.  1. -4.]\n",
      " [-8. -5. -6.  3.  4.  1.]\n",
      " [ 7. -6.  5.  4. -3.  2.]]\n",
      "(8, 6)\n"
     ]
    }
   ],
   "source": [
    "dll = vsr.Dll(0.0, 0.0, 0.0, 0.0, 0.0, 0.0)\n",
    "jac_exp = motor_jacobian.jacobian_exp(mot, dll)\n",
    "print(jac_exp)\n",
    "print(jac_exp.shape)"
   ]
  },
  {
   "cell_type": "code",
   "execution_count": 62,
   "metadata": {
    "collapsed": false
   },
   "outputs": [
    {
     "data": {
      "text/plain": [
       "True"
      ]
     },
     "execution_count": 62,
     "metadata": {},
     "output_type": "execute_result"
    }
   ],
   "source": [
    "np.allclose(j, jac_exp)"
   ]
  },
  {
   "cell_type": "code",
   "execution_count": 63,
   "metadata": {
    "collapsed": false
   },
   "outputs": [
    {
     "name": "stdout",
     "output_type": "stream",
     "text": [
      "[[ 0.152977 -0.0211   -0.03165  -0.042201  0.        0.        0.        0.      ]\n",
      " [-0.0211    0.152977 -0.03165  -0.042201  0.        0.        0.        0.      ]\n",
      " [-0.03165  -0.03165   0.126602 -0.063301  0.        0.        0.        0.      ]\n",
      " [-0.042201 -0.042201 -0.063301  0.089676  0.        0.        0.        0.      ]\n",
      " [ 0.116052 -0.200453  0.047476 -0.211003  0.089676  0.063301 -0.042201\n",
      "   0.042201]\n",
      " [-0.189903  0.047476 -0.189903 -0.047476  0.063301  0.126602  0.03165\n",
      "  -0.03165 ]\n",
      " [ 0.01055  -0.147702 -0.047476 -0.200453 -0.042201  0.03165   0.152977\n",
      "   0.0211  ]\n",
      " [-0.168803 -0.01055  -0.189903 -0.116052  0.042201 -0.03165   0.0211\n",
      "   0.152977]]\n",
      "(8, 8)\n"
     ]
    }
   ],
   "source": [
    "jac_polar = motor_jacobian.jacobian_polar(mot, mot0)\n",
    "print(jac_polar)\n",
    "print(jac_polar.shape)"
   ]
  },
  {
   "cell_type": "code",
   "execution_count": 64,
   "metadata": {
    "collapsed": false
   },
   "outputs": [
    {
     "data": {
      "text/plain": [
       "Mot: [ 1 0 0 0 0 0 0 0 ]"
      ]
     },
     "execution_count": 64,
     "metadata": {},
     "output_type": "execute_result"
    }
   ],
   "source": [
    "dll.exp()"
   ]
  },
  {
   "cell_type": "code",
   "execution_count": 65,
   "metadata": {
    "collapsed": false
   },
   "outputs": [
    {
     "name": "stdout",
     "output_type": "stream",
     "text": [
      "Mot: [ 0.54 0 0 -0.84 0 0 0.84 0 ]\n"
     ]
    }
   ],
   "source": [
    "mot = vsr.Lin(vsr.Vec(0,1,0).null(), vsr.Vec(-1,0,0)).dual().exp()\n",
    "print(mot)\n",
    "p = vsr.Vec(0,0,0).null()"
   ]
  },
  {
   "cell_type": "code",
   "execution_count": 66,
   "metadata": {
    "collapsed": false
   },
   "outputs": [
    {
     "name": "stdout",
     "output_type": "stream",
     "text": [
      "[[ 0.        0.        0.        0.       -1.080605  0.        0.        0.      ]\n",
      " [ 0.        0.        0.        0.        0.        0.        0.        1.080605]\n",
      " [ 0.        0.       -1.682942  0.        0.        0.        0.        0.      ]\n",
      " [ 0.        0.        0.        0.        0.        0.        0.        0.      ]\n",
      " [ 0.        0.        0.        0.        0.        0.        0.        0.      ]]\n"
     ]
    }
   ],
   "source": [
    "print(motor_jacobian.diff_point(mot,p))"
   ]
  },
  {
   "cell_type": "code",
   "execution_count": 67,
   "metadata": {
    "collapsed": false
   },
   "outputs": [
    {
     "data": {
      "text/plain": [
       "Pnt: [ 0 0 1 0 0 ]"
      ]
     },
     "execution_count": 67,
     "metadata": {},
     "output_type": "execute_result"
    }
   ],
   "source": [
    "p = vsr.Vec(0,0,0).null()\n",
    "p.comm(vsr.Lin(vsr.Vec(0,1,0).null(), vsr.Vec(-1,0,0)).dual())"
   ]
  },
  {
   "cell_type": "code",
   "execution_count": 68,
   "metadata": {
    "collapsed": false
   },
   "outputs": [
    {
     "data": {
      "text/plain": [
       "Pnt: [ 0 0 0.8415 0 0 ]"
      ]
     },
     "execution_count": 68,
     "metadata": {},
     "output_type": "execute_result"
    }
   ],
   "source": [
    "p.comm(mot)"
   ]
  },
  {
   "cell_type": "code",
   "execution_count": 69,
   "metadata": {
    "collapsed": false
   },
   "outputs": [
    {
     "data": {
      "text/plain": [
       "Pnt: [ 0 0 0 0.5403 0 ]"
      ]
     },
     "execution_count": 69,
     "metadata": {},
     "output_type": "execute_result"
    }
   ],
   "source": [
    "p.acomm(mot)"
   ]
  },
  {
   "cell_type": "code",
   "execution_count": 70,
   "metadata": {
    "collapsed": false
   },
   "outputs": [
    {
     "name": "stdout",
     "output_type": "stream",
     "text": [
      "Pnt: [ 1 0 0 1 0.5 ]\n",
      "Pnt: [ 2.22e-16 1 0 1 0.5 ]\n",
      "Mot: [ 0.87 -0.13 -0.27 -0.4 -0.97 -1.4 -0.76 0.13 ]\n",
      "Dls: [ 1.821 2.017 3.57 1 10.07 ]\n"
     ]
    }
   ],
   "source": [
    "a = vsr.Vec(1,0,0).null()\n",
    "b = a.spin(vsr.Rot(vsr.Biv(1,0,0) * pi/4))\n",
    "print(a)\n",
    "print(b)\n",
    "m = vsr.Vec(1,2,3).trs() * vsr.Rot(vsr.Biv(1,2,3).unit() * pi/6)\n",
    "print(m)\n",
    "c = a.spin(m)\n",
    "print(c)\n",
    "points_a = [a]\n",
    "points_b = [b]"
   ]
  },
  {
   "cell_type": "code",
   "execution_count": 71,
   "metadata": {
    "collapsed": false
   },
   "outputs": [
    {
     "data": {
      "text/plain": [
       "Vec: [ 1.8 1 3.6 ]"
      ]
     },
     "execution_count": 71,
     "metadata": {},
     "output_type": "execute_result"
    }
   ],
   "source": [
    "c.vec() - b.vec()"
   ]
  },
  {
   "cell_type": "code",
   "execution_count": 72,
   "metadata": {
    "collapsed": false
   },
   "outputs": [
    {
     "name": "stdout",
     "output_type": "stream",
     "text": [
      "[[-0.361477 -0.285467 -0.323918  0.        0.        0.      ]\n",
      " [ 0.82639  -0.323918  0.285467  0.        0.        0.      ]\n",
      " [ 0.323918  0.82639  -0.361477  0.        0.        0.      ]\n",
      " [-0.285467  0.361477  0.82639   0.        0.        0.      ]\n",
      " [ 0.151811  0.579552 -0.53116   0.82639  -0.361477 -0.285467]\n",
      " [-0.84215   0.53116   0.579552  0.361477  0.82639  -0.323918]\n",
      " [-0.53116  -0.84215  -0.151811  0.285467  0.323918  0.82639 ]\n",
      " [ 0.579552 -0.151811  0.84215   0.323918 -0.285467  0.361477]]\n",
      "Pnt: [ 1 0 0 1 0.5 ]\n",
      "Pnt: [ 2.22e-16 1 0 1 0.5 ]\n",
      "Mot: [ 0.83 0.36 0.29 0.32 0.84 0.15 0.58 0.53 ]\n",
      "[[-0.03152  -1.026575 -1.730038 -0.414484 -1.65278  -0.722954 -0.570934\n",
      "  -0.647836]\n",
      " [-1.026575  0.03152   0.414484 -1.730038  0.722954 -1.65278  -0.647836\n",
      "   0.570934]\n",
      " [-1.730038 -0.414484  0.03152   1.026575  0.570934  0.647836 -1.65278\n",
      "  -0.722954]]\n"
     ]
    },
    {
     "data": {
      "text/plain": [
       "array([[-0.993298, -2.000703,  0.      , -2.      ,  0.      ,  0.      ],\n",
       "       [ 3.201889,  0.      , -2.000703,  0.      , -2.      , -0.      ],\n",
       "       [ 0.      ,  3.201889,  0.993298,  0.      , -0.      , -2.      ]])"
      ]
     },
     "execution_count": 72,
     "metadata": {},
     "output_type": "execute_result"
    }
   ],
   "source": [
    "# m = vsr.Mot(1,0,0,0,0,0,0,0)\n",
    "dll = vsr.Dll(0.0, 0.0, 0.0, 0.0, 0.0, 0.0)\n",
    "m = vsr.Dll(*np.random.rand(6)).exp()\n",
    "jac_exp = motor_jacobian.jacobian_exp(m, dll)\n",
    "print(jac_exp)\n",
    "print(a)\n",
    "print(b)\n",
    "print(m)\n",
    "jac_s = motor_jacobian.diff_cost(m, a, b)\n",
    "print(jac_s)\n",
    "np.dot(jac_s, jac_exp)"
   ]
  },
  {
   "cell_type": "code",
   "execution_count": 73,
   "metadata": {
    "collapsed": false
   },
   "outputs": [
    {
     "data": {
      "text/plain": [
       "Pnt: [ 0 -1 0.4966 0 0 ]"
      ]
     },
     "execution_count": 73,
     "metadata": {},
     "output_type": "execute_result"
    }
   ],
   "source": [
    "vsr.Dll(0,0,1,0,0,0).comm(a.spin(m))"
   ]
  },
  {
   "cell_type": "code",
   "execution_count": 74,
   "metadata": {
    "collapsed": false
   },
   "outputs": [],
   "source": [
    "def jac2(arg):\n",
    "    j = np.zeros((5,6))\n",
    "    for i in range(6):\n",
    "        dll = vsr.Dll(0.0, 0.0, 0.0, 0.0, 0.0, 0.0)\n",
    "        dll[i] = 1.0\n",
    "        j[:,i] = 2. * np.array(dll.comm(a.spin(arg)))\n",
    "    return j"
   ]
  },
  {
   "cell_type": "code",
   "execution_count": 82,
   "metadata": {
    "collapsed": false
   },
   "outputs": [
    {
     "name": "stdout",
     "output_type": "stream",
     "text": [
      "[[-0.993298 -2.000703  0.       -2.        0.        0.      ]\n",
      " [ 3.201889  0.       -2.000703  0.       -2.        0.      ]\n",
      " [ 0.        3.201889  0.993298  0.        0.       -2.      ]\n",
      " [ 0.        0.        0.        0.        0.        0.      ]\n",
      " [ 0.        0.        0.        3.201889  0.993298  2.000703]]\n"
     ]
    }
   ],
   "source": [
    "J = jac2(m)\n",
    "tmp = J[:,0].copy()\n",
    "# J[:,0] = J[:,2]\n",
    "# J[:,2] = tmp\n",
    "# J[:,1] *= -1.\n",
    "print(J)"
   ]
  },
  {
   "cell_type": "code",
   "execution_count": 83,
   "metadata": {
    "collapsed": false
   },
   "outputs": [
    {
     "data": {
      "text/plain": [
       "array([-3.201889, -0.993298, -2.000703,  2.      ,  3.810388])"
      ]
     },
     "execution_count": 83,
     "metadata": {},
     "output_type": "execute_result"
    }
   ],
   "source": [
    "np.array(a.spin(m)) * 2."
   ]
  },
  {
   "cell_type": "code",
   "execution_count": 77,
   "metadata": {
    "collapsed": true
   },
   "outputs": [],
   "source": [
    "def skew(v):\n",
    "    if len(v) == 4: v = v[:3]/v[3]\n",
    "    skv = roll(roll(diag(v.flatten()), 1, 1), -1, 0)\n",
    "    return skv - skv.T"
   ]
  },
  {
   "cell_type": "code",
   "execution_count": 215,
   "metadata": {
    "collapsed": false
   },
   "outputs": [
    {
     "data": {
      "text/plain": [
       "array([[ 0.      , -1.748808, -4.209097],\n",
       "       [ 1.748808,  0.      ,  2.469941],\n",
       "       [ 4.209097, -2.469941,  0.      ]])"
      ]
     },
     "execution_count": 215,
     "metadata": {},
     "output_type": "execute_result"
    }
   ],
   "source": [
    "skew(np.array(a.spin(m).vec()) * 2.)"
   ]
  },
  {
   "cell_type": "code",
   "execution_count": 31,
   "metadata": {
    "collapsed": false
   },
   "outputs": [
    {
     "data": {
      "text/plain": [
       "Pnt: [ 0 0 1 0 3.57 ]"
      ]
     },
     "execution_count": 31,
     "metadata": {},
     "output_type": "execute_result"
    }
   ],
   "source": [
    "dll = vsr.Dll(0,0,0,0,0,1)\n",
    "a.spin(m).comm(dll)"
   ]
  },
  {
   "cell_type": "code",
   "execution_count": 32,
   "metadata": {
    "collapsed": true
   },
   "outputs": [],
   "source": [
    "import scipy.sparse as sparse"
   ]
  },
  {
   "cell_type": "code",
   "execution_count": 33,
   "metadata": {
    "collapsed": false
   },
   "outputs": [],
   "source": [
    "spjacs = [np.loadtxt('/Users/lars/devel/game/dump/ceres_solver_iteration_00{}_A.txt'.format(i)) for i in range(4)]"
   ]
  },
  {
   "cell_type": "code",
   "execution_count": 34,
   "metadata": {
    "collapsed": false
   },
   "outputs": [
    {
     "data": {
      "text/plain": [
       "array([ 0.008843,  0.008881,  0.00866 ,  0.008635,  0.008635,  0.008635])"
      ]
     },
     "execution_count": 34,
     "metadata": {},
     "output_type": "execute_result"
    }
   ],
   "source": [
    "D = np.loadtxt('/Users/lars/devel/game/dump/ceres_solver_iteration_000_D.txt')\n",
    "D"
   ]
  },
  {
   "cell_type": "code",
   "execution_count": 35,
   "metadata": {
    "collapsed": false
   },
   "outputs": [
    {
     "data": {
      "text/plain": [
       "-231.61551823972206"
      ]
     },
     "execution_count": 35,
     "metadata": {},
     "output_type": "execute_result"
    }
   ],
   "source": [
    "-2. / 0.008635"
   ]
  },
  {
   "cell_type": "code",
   "execution_count": 36,
   "metadata": {
    "collapsed": false
   },
   "outputs": [
    {
     "data": {
      "text/plain": [
       "0.135"
      ]
     },
     "execution_count": 36,
     "metadata": {},
     "output_type": "execute_result"
    }
   ],
   "source": [
    "0.27 / 2."
   ]
  },
  {
   "cell_type": "code",
   "execution_count": 37,
   "metadata": {
    "collapsed": false
   },
   "outputs": [
    {
     "data": {
      "text/plain": [
       "array([-1.864489, -1.      , -1.159498, -1.82805 , -1.      , -0.748313,\n",
       "       -1.614547, -1.      , -0.725564, -0.931623, -1.      , -1.708073,\n",
       "        0.68862 , -1.      , -1.443068, -2.281495, -1.      ,  0.820182,\n",
       "       -2.657144, -1.      , -0.945362, -0.676071, -1.      , -1.690215,\n",
       "        0.202711, -1.      , -1.39347 , -1.567853, -1.      , -0.988182])"
      ]
     },
     "execution_count": 37,
     "metadata": {},
     "output_type": "execute_result"
    }
   ],
   "source": [
    "np.loadtxt('/Users/lars/devel/game/dump/ceres_solver_iteration_000_b.txt')"
   ]
  },
  {
   "cell_type": "code",
   "execution_count": 38,
   "metadata": {
    "collapsed": false
   },
   "outputs": [
    {
     "data": {
      "text/plain": [
       "[array([-0.346302, -3.851907,  0.016381, -3.897368, -3.703013, -4.059512]),\n",
       " array([ 0.267082, -0.825742, -0.141204, -2.716673, -0.142328,  1.875994]),\n",
       " array([ 0.012805,  0.001633, -0.018875,  0.120835, -0.073943,  0.220828]),\n",
       " array([ 0.000004,  0.00002 , -0.      ,  0.000049,  0.000673,  0.000122])]"
      ]
     },
     "execution_count": 38,
     "metadata": {},
     "output_type": "execute_result"
    }
   ],
   "source": [
    "[np.loadtxt('/Users/lars/devel/game/dump/ceres_solver_iteration_00{}_x.txt'.format(i)) for i in range(4)]"
   ]
  },
  {
   "cell_type": "code",
   "execution_count": 39,
   "metadata": {
    "collapsed": false
   },
   "outputs": [
    {
     "name": "stdout",
     "output_type": "stream",
     "text": [
      "[[ 1.593533  0.527877 -0.525869 -0.627617  0.710904  0.      ]\n",
      " [ 0.527877  1.695614  0.697878 -0.476785  0.        0.687601]\n",
      " [-0.525869  0.697878  2.377506  0.       -0.570645  0.726547]\n",
      " [-0.627617 -0.476785  0.        0.745585  0.        0.      ]\n",
      " [ 0.710904  0.       -0.570645  0.        0.745585  0.      ]\n",
      " [ 0.        0.687601  0.726547  0.        0.        0.745585]]\n",
      "[ 1.593533  1.695614  2.377506  0.745585  0.745585  0.745585]\n"
     ]
    }
   ],
   "source": [
    "j = 3\n",
    "x, y, d = spjacs[j][:,0],  spjacs[j][:,1],  spjacs[j][:,2]\n",
    "npsparse = sparse.csc_matrix((d,(x,y)))\n",
    "J = npsparse.todense()\n",
    "JTJ = np.dot(J.T, J)\n",
    "print(JTJ)\n",
    "D2 = np.diag(JTJ)\n",
    "print(D2)"
   ]
  },
  {
   "cell_type": "code",
   "execution_count": 40,
   "metadata": {
    "collapsed": false
   },
   "outputs": [
    {
     "data": {
      "text/plain": [
       "array([ 0.008843,  0.008881,  0.00866 ,  0.008635,  0.008635,  0.008635])"
      ]
     },
     "execution_count": 40,
     "metadata": {},
     "output_type": "execute_result"
    }
   ],
   "source": [
    "D"
   ]
  },
  {
   "cell_type": "code",
   "execution_count": 41,
   "metadata": {
    "collapsed": false
   },
   "outputs": [
    {
     "data": {
      "text/plain": [
       "array([ 0.005549,  0.005238,  0.003642,  0.011582,  0.011582,  0.011582])"
      ]
     },
     "execution_count": 41,
     "metadata": {},
     "output_type": "execute_result"
    }
   ],
   "source": [
    "D / D2"
   ]
  },
  {
   "cell_type": "code",
   "execution_count": null,
   "metadata": {
    "collapsed": true
   },
   "outputs": [],
   "source": []
  },
  {
   "cell_type": "code",
   "execution_count": 42,
   "metadata": {
    "collapsed": false
   },
   "outputs": [
    {
     "data": {
      "text/plain": [
       "array([ 1.821429,  1.017169,  3.570053])"
      ]
     },
     "execution_count": 42,
     "metadata": {},
     "output_type": "execute_result"
    }
   ],
   "source": [
    "np.array(c.vec() - b.vec())"
   ]
  },
  {
   "cell_type": "code",
   "execution_count": 84,
   "metadata": {
    "collapsed": true
   },
   "outputs": [],
   "source": [
    "import scipy.optimize as opt"
   ]
  },
  {
   "cell_type": "code",
   "execution_count": 85,
   "metadata": {
    "collapsed": false
   },
   "outputs": [
    {
     "name": "stdout",
     "output_type": "stream",
     "text": [
      "Mot: [ 0.87 -0.13 -0.27 -0.4 -0.97 -1.4 -0.76 0.13 ]\n"
     ]
    }
   ],
   "source": [
    "motor = vsr.Vec(1,2,3).trs() * vsr.Rot(vsr.Biv(1,2,3).unit() * np.pi/6.0)\n",
    "print(motor)"
   ]
  },
  {
   "cell_type": "code",
   "execution_count": 117,
   "metadata": {
    "collapsed": false
   },
   "outputs": [],
   "source": [
    "n_points = 10\n",
    "sigma = 0.09\n",
    "points_a = [vsr.Vec(*np.random.normal(0.0, 0.9, 3)).null() \n",
    "            for i in range(n_points)]\n",
    "points_b = [point.spin(motor) for point in points_a]\n",
    "points_b_noisy = [vsr.Vec(*(np.array(point)[:3] \n",
    "                            + sigma * np.random.randn(3))).null() \n",
    "                  for point in points_b]"
   ]
  },
  {
   "cell_type": "code",
   "execution_count": 118,
   "metadata": {
    "collapsed": true
   },
   "outputs": [],
   "source": [
    "def func(arr):\n",
    "    return np.array([np.array(a.spin(vsr.Dll(*arr).exp()).vec() - b.vec()) \n",
    "                     for a, b in zip(points_a, points_b)]).ravel()"
   ]
  },
  {
   "cell_type": "code",
   "execution_count": 119,
   "metadata": {
    "collapsed": false
   },
   "outputs": [],
   "source": [
    "init_dll = np.array([0,0,0,0,0,0]).reshape(6,1)\n",
    "current_mot = np.array([1,0,0,0,0,0,0,0]).reshape(8,1)"
   ]
  },
  {
   "cell_type": "code",
   "execution_count": null,
   "metadata": {
    "collapsed": false
   },
   "outputs": [],
   "source": []
  },
  {
   "cell_type": "code",
   "execution_count": 120,
   "metadata": {
    "collapsed": true
   },
   "outputs": [],
   "source": [
    "its = 0"
   ]
  },
  {
   "cell_type": "code",
   "execution_count": 121,
   "metadata": {
    "collapsed": false
   },
   "outputs": [],
   "source": [
    "def jac(arg):\n",
    "    global its\n",
    "    global current_mot\n",
    "    current_mot = np.array(vsr.Dll(*arg).exp() * vsr.Mot(*current_mot))\n",
    "    dll = vsr.Dll(0.0, 0.0, 0.0, 0.0, 0.0, 0.0)\n",
    "    \n",
    "    jac_exp = motor_jacobian.jacobian_exp(vsr.Mot(*current_mot), dll)\n",
    "#     print(jac_exp)\n",
    "\n",
    "    js_ = np.array([motor_jacobian.diff_cost(vsr.Mot(*current_mot), a, b)\n",
    "                   for a, b in zip(points_a, points_b)])\n",
    "    \n",
    "#     print(js_)\n",
    "    \n",
    "    js = np.array([np.dot(motor_jacobian.diff_cost(vsr.Mot(*current_mot), a, b), jac_exp)\n",
    "                   for a, b in zip(points_a, points_b)])\n",
    "    \n",
    "#     print(js)\n",
    "    \n",
    "    js = js.reshape(-1,6)\n",
    "    return js"
   ]
  },
  {
   "cell_type": "code",
   "execution_count": 122,
   "metadata": {
    "collapsed": false
   },
   "outputs": [],
   "source": [
    "def __jac(m,a,b):  \n",
    "    j = np.zeros((3,6))\n",
    "    for i in range(6):\n",
    "        dll = vsr.Dll(0.0, 0.0, 0.0, 0.0, 0.0, 0.0)\n",
    "        dll[i] = 1.0\n",
    "        j[:,i] = 2. * np.array(dll.comm(a.spin(vsr.Mot(*m))).vec()).copy()\n",
    "    return j\n",
    "\n",
    "def jac3(arg):\n",
    "    global current_mot\n",
    "    current_mot = np.array(vsr.Dll(*arg).exp() * vsr.Mot(*current_mot)).copy()\n",
    "    \n",
    "    js_ = np.array([__jac(current_mot,a,b) for a, b in zip(points_a, points_b)]).reshape(-1,6)\n",
    "    \n",
    "    return js_"
   ]
  },
  {
   "cell_type": "code",
   "execution_count": 123,
   "metadata": {
    "collapsed": false
   },
   "outputs": [],
   "source": [
    "# dll_ = np.random.rand(6)\n",
    "# print(jac3(dll_))"
   ]
  },
  {
   "cell_type": "code",
   "execution_count": 124,
   "metadata": {
    "collapsed": false
   },
   "outputs": [],
   "source": [
    "# print(jac3(dll_))"
   ]
  },
  {
   "cell_type": "code",
   "execution_count": 125,
   "metadata": {
    "collapsed": false
   },
   "outputs": [],
   "source": [
    "# print(func(init_dll))\n",
    "# jac(init_dll)"
   ]
  },
  {
   "cell_type": "code",
   "execution_count": 126,
   "metadata": {
    "collapsed": false
   },
   "outputs": [],
   "source": [
    "# dll = vsr.Dll(0.0, 0.0, 0.0, 0.0, 0.0, 0.0)\n",
    "# dll[1] = 1.0\n",
    "# 2. * np.array(dll.comm(a.spin(m)).vec())"
   ]
  },
  {
   "cell_type": "code",
   "execution_count": 145,
   "metadata": {
    "collapsed": false
   },
   "outputs": [
    {
     "name": "stdout",
     "output_type": "stream",
     "text": [
      "(array([ 0.000012,  0.000037, -0.000074, -0.373027, -0.87198 , -1.624916]), 1)\n"
     ]
    }
   ],
   "source": [
    "out = opt.leastsq(func, init_dll, Dfun=jac3, full_output=False)\n",
    "print(out)"
   ]
  },
  {
   "cell_type": "code",
   "execution_count": 128,
   "metadata": {
    "collapsed": false
   },
   "outputs": [
    {
     "name": "stdout",
     "output_type": "stream",
     "text": [
      "Mot: [ 0.85 -0.15 -0.3 -0.4 -1 -1.4 -0.72 0.12 ]\n"
     ]
    }
   ],
   "source": [
    "estimated_motor = vsr.Dll(*out[0]).exp()\n",
    "print(estimated_motor)"
   ]
  },
  {
   "cell_type": "code",
   "execution_count": 129,
   "metadata": {
    "collapsed": false
   },
   "outputs": [
    {
     "name": "stdout",
     "output_type": "stream",
     "text": [
      "Mot: [ 0.87 -0.13 -0.27 -0.4 -0.97 -1.4 -0.76 0.13 ]\n"
     ]
    }
   ],
   "source": [
    "print(motor)"
   ]
  },
  {
   "cell_type": "code",
   "execution_count": 58,
   "metadata": {
    "collapsed": false
   },
   "outputs": [],
   "source": [
    "# jac(init_dll)"
   ]
  },
  {
   "cell_type": "code",
   "execution_count": null,
   "metadata": {
    "collapsed": true
   },
   "outputs": [],
   "source": []
  }
 ],
 "metadata": {
  "kernelspec": {
   "display_name": "Python 2",
   "language": "python",
   "name": "python2"
  },
  "language_info": {
   "codemirror_mode": {
    "name": "ipython",
    "version": 2
   },
   "file_extension": ".py",
   "mimetype": "text/x-python",
   "name": "python",
   "nbconvert_exporter": "python",
   "pygments_lexer": "ipython2",
   "version": "2.7.11+"
  },
  "widgets": {
   "state": {},
   "version": "1.1.2"
  }
 },
 "nbformat": 4,
 "nbformat_minor": 0
}
