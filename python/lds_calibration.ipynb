{
 "cells": [
  {
   "cell_type": "code",
   "execution_count": 91,
   "metadata": {
    "collapsed": false
   },
   "outputs": [
    {
     "name": "stdout",
     "output_type": "stream",
     "text": [
      "Populating the interactive namespace from numpy and matplotlib\n"
     ]
    },
    {
     "name": "stderr",
     "output_type": "stream",
     "text": [
      "WARNING: pylab import has clobbered these variables: ['dist']\n",
      "`%matplotlib` prevents importing * from pylab and numpy\n"
     ]
    }
   ],
   "source": [
    "%pylab inline\n",
    "import sys\n",
    "sys.path.append('../build_gcc/')\n",
    "import versor as vsr\n",
    "from liblds_calibration import (LaserDistanceSensorCalibrator, transform_tangent_vector)\n",
    "from game import solver_options"
   ]
  },
  {
   "cell_type": "markdown",
   "metadata": {},
   "source": [
    "# Laser Distance Sensor Calibration"
   ]
  },
  {
   "cell_type": "markdown",
   "metadata": {},
   "source": [
    "$$ R = \\frac{1 + \\mathrm{b}\\mathrm{a}}{\\sqrt{2(1 + \\mathrm{b} \\rfloor \\mathrm{a})}} $$"
   ]
  },
  {
   "cell_type": "code",
   "execution_count": 92,
   "metadata": {
    "collapsed": true
   },
   "outputs": [],
   "source": [
    "rotor_from_vectors = lambda a, b: (b * a + 1) / np.sqrt(2*(1+(b <= a)[0]))"
   ]
  },
  {
   "cell_type": "markdown",
   "metadata": {},
   "source": [
    "## Create measurement poses"
   ]
  },
  {
   "cell_type": "code",
   "execution_count": 93,
   "metadata": {
    "collapsed": false,
    "scrolled": true
   },
   "outputs": [
    {
     "name": "stdout",
     "output_type": "stream",
     "text": [
      "0.866025  -0.5  0  0  -0.0933013  -0.0616025  -0.129904  0.075  \n"
     ]
    }
   ],
   "source": [
    "# laser direction in end-effector\n",
    "l0 = vsr.Vec(1,0,0).spin( vsr.Rot.from_bivector(vsr.Biv(1,0,0) * pi/ 3))\n",
    "p0 = vsr.Vec(0.1,0.2,0.3)\n",
    "R0 = rotor_from_vectors(vsr.Vec(1,0,0), l0)\n",
    "T0 = vsr.Trs.from_vector(p0)\n",
    "M_laser_in_ee = T0 * R0\n",
    "print(M_laser_in_ee)"
   ]
  },
  {
   "cell_type": "code",
   "execution_count": 94,
   "metadata": {
    "collapsed": true
   },
   "outputs": [],
   "source": [
    "# Laser sensor\n",
    "lower = 0.065\n",
    "upper = 0.095\n",
    "# lower = 0.01\n",
    "# upper = lower + 0.2\n",
    "generate_measurement_distance = lambda : (upper - lower) * np.random.rand() + lower"
   ]
  },
  {
   "cell_type": "code",
   "execution_count": 165,
   "metadata": {
    "collapsed": true
   },
   "outputs": [],
   "source": [
    "def create_point_on_sphere():\n",
    "    r = generate_measurement_distance()\n",
    "    theta = np.random.rand() * np.pi / 2.0\n",
    "    phi = np.random.rand() * np.pi * 2.0 \n",
    "    return vsr.Vec(r*np.sin(theta)*np.cos(phi),\n",
    "                   r*np.sin(theta)*np.sin(phi),\n",
    "                   r*np.cos(theta)), r"
   ]
  },
  {
   "cell_type": "markdown",
   "metadata": {},
   "source": [
    "Create point on upper hemisphere on measurement sphere:\n",
    "\n",
    "$$ \n",
    "x = r \\sin (\\theta) \\cos(\\varphi),\\\n",
    "y = r \\sin (\\theta) \\cos(\\varphi),\\ \n",
    "z = r \\cos(\\varphi) \n",
    "$$"
   ]
  },
  {
   "cell_type": "code",
   "execution_count": 166,
   "metadata": {
    "collapsed": true
   },
   "outputs": [],
   "source": [
    "def generate_measurement_pose_and_plane_and_distance(M_laser_in_ee, M_plane):\n",
    "    # Model laser as tangent vector in the e_1-direction at the origin\n",
    "    lds_dir = vsr.Vec(1,0,0)\n",
    "    lds_tnv = vsr.no ^ lds_dir\n",
    "    # Model the measurement plane as plane through the orgin with\n",
    "    # normal vector \\hat{n} = e_3\n",
    "    dlp = dlp = vsr.Dlp(0,0,1,0)\n",
    "    # Create point on upper hemisphere of measurement sphere with \n",
    "    # radius equals the measurement distance\n",
    "    p, radius = create_point_on_sphere()\n",
    "    # Compute motor that aligns lds_dir with measurement vector from \n",
    "    # from point on circle to the origin\n",
    "    R = rotor_from_vectors(lds_dir, -p.unit())\n",
    "    T = vsr.Trs.from_vector(p)\n",
    "    M_on_sphere = T * R * vsr.Rot.from_bivector(vsr.Vec(1,0,0).duale() * \n",
    "                                                np.random.rand() * 2 * pi)\n",
    "    # Transform the everything the measurement plane\n",
    "    x_in_plane = np.random.rand()\n",
    "    y_in_plane = np.random.rand()\n",
    "    T_in_plane = vsr.Trs.from_vector(vsr.Vec(x_in_plane, y_in_plane, 0.0)) * vsr.Rot(1.0,0.0,0.0,0.0)\n",
    "    # Transform the plane\n",
    "    dlp_meas = dlp.spin(M_plane)\n",
    "    M2 = M_plane * T_in_plane * M_on_sphere * M_laser_in_ee.rev()   \n",
    "    return M2, dlp_meas, radius"
   ]
  },
  {
   "cell_type": "code",
   "execution_count": 167,
   "metadata": {
    "collapsed": false
   },
   "outputs": [],
   "source": [
    "# M, dlp, r = generate_measurement_pose_and_plane_and_distance(M_laser_in_ee)\n",
    "# t2 = transform_tangent_vector(M * M_laser_in_ee,  (vsr.no ^ vsr.Vec(1,0,0)))\n",
    "# s = (dlp <= t2) / (vsr.ni <= (dlp <= t2))[0]\n",
    "# np.allclose(r, np.sqrt((s <= s)[0]))"
   ]
  },
  {
   "cell_type": "code",
   "execution_count": 168,
   "metadata": {
    "collapsed": false
   },
   "outputs": [
    {
     "name": "stdout",
     "output_type": "stream",
     "text": [
      "0.1  0.2  0.3  1  \n"
     ]
    }
   ],
   "source": [
    "lin = (p0.null() ^ (l0 ^ vsr.ni))\n",
    "print (p0.null() ^ vsr.ni)"
   ]
  },
  {
   "cell_type": "code",
   "execution_count": 169,
   "metadata": {
    "collapsed": false
   },
   "outputs": [],
   "source": [
    "M_plane = vsr.Mot.from_dir_ang_trs(vsr.Vec(0,0,1), 0, vsr.Vec(1,1,0))\n",
    "measurements1 = [generate_measurement_pose_and_plane_and_distance(M_laser_in_ee, M_plane) for i in range(10)]\n",
    "M_plane2 = vsr.Mot.from_dir_ang_trs(vsr.Vec(0,1,0), np.pi/3, vsr.Vec(1,1,0.0))\n",
    "measurements2 = [generate_measurement_pose_and_plane_and_distance(M_laser_in_ee, M_plane2) for i in range(10)]\n",
    "M_plane3 = vsr.Mot.from_dir_ang_trs(vsr.Vec(1,0,0), np.pi/2, vsr.Vec(1,1,0.0))\n",
    "measurements3 = [generate_measurement_pose_and_plane_and_distance(M_laser_in_ee, M_plane3) for i in range(10)]\n",
    "measurements = measurements1 + measurements2 + measurements3\n",
    "measurements_copy = np.array(measurements).copy()"
   ]
  },
  {
   "cell_type": "code",
   "execution_count": 170,
   "metadata": {
    "collapsed": false
   },
   "outputs": [
    {
     "name": "stdout",
     "output_type": "stream",
     "text": [
      "1  -0  0  -0  -0.5  -0.5  0  0  \n"
     ]
    }
   ],
   "source": [
    "print M_plane"
   ]
  },
  {
   "cell_type": "code",
   "execution_count": 171,
   "metadata": {
    "collapsed": false
   },
   "outputs": [],
   "source": [
    "options = solver_options()\n",
    "options['function_tolerance'] = 1e-12\n",
    "options['parameter_tolerance'] = 1e-12\n",
    "options['max_num_iterations'] = 100\n",
    "options['num_linear_solver_threads'] = 100\n",
    "options['num_threads'] = 100\n",
    "# options['trust_region_strategy_type'] = 'DOGLEG'\n",
    "# options['linear_solver_type'] = 'SPARSE_NORMAL_CHOLESKY'"
   ]
  },
  {
   "cell_type": "code",
   "execution_count": 237,
   "metadata": {
    "collapsed": false
   },
   "outputs": [
    {
     "name": "stdout",
     "output_type": "stream",
     "text": [
      "0.952942  -0.303153  0  0  -0.0905233  -0.0866345  -0.152471  0.0485044  \n",
      "0.866025  -0.5  0  0  -0.0933013  -0.0616025  -0.129904  0.075  \n",
      "0.865762  -0.499848  0.0123306  -0.0213573  -0.0914233  -0.0647874  -0.128345  0.0772781  \n",
      "Ceres Solver Report: Iterations: 15, Initial cost: 1.539003e+01, Final cost: 3.785124e-21, Termination: CONVERGENCE\n"
     ]
    },
    {
     "data": {
      "text/plain": [
       "[<matplotlib.lines.Line2D at 0x7fb0d6a70310>]"
      ]
     },
     "execution_count": 237,
     "metadata": {},
     "output_type": "execute_result"
    },
    {
     "data": {
      "image/png": "[encoded data removed]",
      "text/plain": [
       "<matplotlib.figure.Figure at 0x7fb0d6ba7ad0>"
      ]
     },
     "metadata": {},
     "output_type": "display_data"
    }
   ],
   "source": [
    "# M_plane = vsr.Mot.from_dir_ang_trs(vsr.Vec(0,0,1), 0, vsr.Vec(1,1,0))\n",
    "# measurements1 = [generate_measurement_pose_and_plane_and_distance(M_laser_in_ee, M_plane) for i in range(10)]\n",
    "# M_plane2 = vsr.Mot.from_dir_ang_trs(vsr.Vec(0,1,0), np.pi/3, vsr.Vec(1,1,0.0))\n",
    "# measurements2 = [generate_measurement_pose_and_plane_and_distance(M_laser_in_ee, M_plane2) for i in range(10)]\n",
    "# M_plane3 = vsr.Mot.from_dir_ang_trs(vsr.Vec(1,0,0), np.pi/2, vsr.Vec(1,1,0.0))\n",
    "# measurements3 = [generate_measurement_pose_and_plane_and_distance(M_laser_in_ee, M_plane3) for i in range(10)]\n",
    "# measurements = measurements1 + measurements2 + measurements3\n",
    "# measurements_copy = np.array(measurements).copy()\n",
    "\n",
    "# laser direction in end-effector\n",
    "l = vsr.Vec(1,0,0).unit().spin(vsr.Rot.from_bivector(vsr.Biv(1,0,0).unit() * np.pi/5.1))\n",
    "p = vsr.Vec(0.1 + 0.02, 0.2 + 0.02, 0.3 + 0.02)\n",
    "R = rotor_from_vectors(vsr.Vec(1,0,0), l)\n",
    "T = vsr.Trs.from_vector(p)\n",
    "M_initial = T * R\n",
    "\n",
    "print(M_initial)\n",
    "\n",
    "print(M_laser_in_ee)\n",
    "\n",
    "lds_calibrator = LaserDistanceSensorCalibrator(M_initial, options)\n",
    "\n",
    "for measurement in measurements:\n",
    "    lds_calibrator.add_tangent_vector_residual_block(*measurement)\n",
    "\n",
    "# lds_calibrator.set_parameterization('POLAR_DECOMPOSITION')\n",
    "\n",
    "lds_calibrator.set_parameterization('BIVECTOR_GENERATOR')\n",
    "\n",
    "motor, summary = lds_calibrator.solve()\n",
    "\n",
    "print(motor)\n",
    "print(summary['brief_report'])\n",
    "\n",
    "iterations = summary['iterations']\n",
    "plot([it['gradient_max_norm'] for it in iterations])"
   ]
  },
  {
   "cell_type": "code",
   "execution_count": 158,
   "metadata": {
    "collapsed": false
   },
   "outputs": [
    {
     "name": "stdout",
     "output_type": "stream",
     "text": [
      "0.866025  -0.5  0  0  -0.0933013  -0.0616025  -0.129904  0.075  \n"
     ]
    }
   ],
   "source": [
    "print M_laser_in_ee"
   ]
  },
  {
   "cell_type": "code",
   "execution_count": 110,
   "metadata": {
    "collapsed": false
   },
   "outputs": [
    {
     "name": "stdout",
     "output_type": "stream",
     "text": [
      "0.000256403354801\n"
     ]
    }
   ],
   "source": [
    "errors = []\n",
    "for measurement in measurements:\n",
    "    dlp = measurement[1]\n",
    "    t = transform_tangent_vector(measurement[0] * motor,  (vsr.no ^ vsr.Vec(1,0,0)))\n",
    "    s = (dlp <= t) / (vsr.ni <= (dlp <= t))[0]\n",
    "    r_est = np.sqrt((s <= s)[0])\n",
    "    errors.append(np.abs(r_est - measurement[2]))\n",
    "print(np.sum(errors) / 1000)"
   ]
  },
  {
   "cell_type": "code",
   "execution_count": 111,
   "metadata": {
    "collapsed": false
   },
   "outputs": [
    {
     "name": "stdout",
     "output_type": "stream",
     "text": [
      "[ 0.06353575  0.24247041  0.29578398  1.          0.07515843]\n"
     ]
    },
    {
     "data": {
      "text/plain": [
       "False"
      ]
     },
     "execution_count": 111,
     "metadata": {},
     "output_type": "execute_result"
    }
   ],
   "source": [
    "print(vsr.Vec(0,0,0).null().spin(motor).to_array())\n",
    "np.allclose(vsr.Vec(0,0,0).null().spin(motor).to_array(), \n",
    "            vsr.Vec(0,0,0).null().spin(M_laser_in_ee).to_array())"
   ]
  },
  {
   "cell_type": "code",
   "execution_count": 112,
   "metadata": {
    "collapsed": false
   },
   "outputs": [
    {
     "data": {
      "text/plain": [
       "[<matplotlib.lines.Line2D at 0x7fb0dae8df10>]"
      ]
     },
     "execution_count": 112,
     "metadata": {},
     "output_type": "execute_result"
    },
    {
     "data": {
      "image/png": "[encoded data removed]",
      "text/plain": [
       "<matplotlib.figure.Figure at 0x7fb0db1360d0>"
      ]
     },
     "metadata": {},
     "output_type": "display_data"
    }
   ],
   "source": [
    "iterations = summary['iterations']\n",
    "plot([it['gradient_max_norm'] for it in iterations])"
   ]
  },
  {
   "cell_type": "markdown",
   "metadata": {
    "collapsed": true
   },
   "source": [
    "## Point direction"
   ]
  },
  {
   "cell_type": "code",
   "execution_count": 113,
   "metadata": {
    "collapsed": false
   },
   "outputs": [
    {
     "name": "stdout",
     "output_type": "stream",
     "text": [
      "0.1  0.2  0.3  \n",
      "0.11  0.21  0.31  \n",
      "0.5  0.866025  0  \n",
      "0.804738  0.310617  0.505879  \n"
     ]
    }
   ],
   "source": [
    "p_initial = vsr.Vec(0,0,0).null().spin(M_initial)\n",
    "p_initial = vsr.Vec(*p_initial.to_array()[:3])\n",
    "l_initial = (vsr.Vec(1,0,0) ^ vsr.ni).spin(M_initial)\n",
    "l_initial = vsr.Vec(*l_initial.to_array()[:3])\n",
    "p_initial2 = vsr.Vec(*p_initial.to_array().copy()[:3])\n",
    "l_initial2 = vsr.Vec(*l_initial.to_array().copy()[:3])\n",
    "print(p0)\n",
    "print(p_initial)\n",
    "print(l0)\n",
    "print(l_initial)\n",
    "lds_calibrator = LaserDistanceSensorCalibrator(p_initial, l_initial, options)"
   ]
  },
  {
   "cell_type": "code",
   "execution_count": 114,
   "metadata": {
    "collapsed": false
   },
   "outputs": [],
   "source": [
    "for measurement in measurements:\n",
    "    lds_calibrator.add_point_direction_residual_block(*measurement)"
   ]
  },
  {
   "cell_type": "code",
   "execution_count": 115,
   "metadata": {
    "collapsed": false
   },
   "outputs": [
    {
     "name": "stdout",
     "output_type": "stream",
     "text": [
      "Ceres Solver Report: Iterations: 62, Initial cost: 2.566668e-01, Final cost: 7.226376e-04, Termination: CONVERGENCE\n",
      "0.0928943  0.210076  0.272721  \n",
      "0.573503  0.740049  0.351313  \n"
     ]
    }
   ],
   "source": [
    "lds_calibrator.set_direction_parameterization('NORMALIZE')\n",
    "p, l, summary2 = lds_calibrator.solve_point_direction()\n",
    "print(summary2['brief_report'])\n",
    "print(p)\n",
    "print(l.unit())"
   ]
  },
  {
   "cell_type": "code",
   "execution_count": 116,
   "metadata": {
    "collapsed": false
   },
   "outputs": [],
   "source": [
    "# print(summary2['full_report'])"
   ]
  },
  {
   "cell_type": "code",
   "execution_count": 117,
   "metadata": {
    "collapsed": false
   },
   "outputs": [
    {
     "data": {
      "text/plain": [
       "[<matplotlib.lines.Line2D at 0x7fb0dadd7510>]"
      ]
     },
     "execution_count": 117,
     "metadata": {},
     "output_type": "execute_result"
    },
    {
     "data": {
      "image/png": "[encoded data removed]",
      "text/plain": [
       "<matplotlib.figure.Figure at 0x7fb0db30da50>"
      ]
     },
     "metadata": {},
     "output_type": "display_data"
    }
   ],
   "source": [
    "iterations = summary2['iterations']\n",
    "plot([it['gradient_max_norm'] for it in iterations])"
   ]
  },
  {
   "cell_type": "code",
   "execution_count": 118,
   "metadata": {
    "collapsed": false
   },
   "outputs": [
    {
     "name": "stdout",
     "output_type": "stream",
     "text": [
      "0.0928943  0.210076  0.272721  \n"
     ]
    }
   ],
   "source": [
    "print p"
   ]
  },
  {
   "cell_type": "code",
   "execution_count": 119,
   "metadata": {
    "collapsed": false
   },
   "outputs": [
    {
     "name": "stdout",
     "output_type": "stream",
     "text": [
      "-0.0315675  \n"
     ]
    }
   ],
   "source": [
    "p = p0.null().spin(measurements[0][0])\n",
    "p = vsr.Vec(p[0], p[1], p[2])\n",
    "l = (l0 ^ vsr.ni).spin(measurements[0][0])\n",
    "l = vsr.Vec(l[0], l[1], l[2])\n",
    "n = vsr.Vec(dlp[0], dlp[1], dlp[2])\n",
    "num = (vsr.Vec(dlp[0]*dlp[3], dlp[1]*dlp[3], dlp[2]*dlp[3]) - p <= n)\n",
    "den = (l <= n)\n",
    "dist = num / den\n",
    "print(dist)"
   ]
  },
  {
   "cell_type": "code",
   "execution_count": 120,
   "metadata": {
    "collapsed": false
   },
   "outputs": [
    {
     "name": "stdout",
     "output_type": "stream",
     "text": [
      "-0.0485409  \n"
     ]
    }
   ],
   "source": [
    "p2 = p_initial2.null().spin(measurements[0][0])\n",
    "p2 = vsr.Vec(p2[0], p2[1], p2[2])\n",
    "l2 = (l_initial2 ^ vsr.ni).spin(measurements[0][0])\n",
    "l2 = vsr.Vec(l2[0], l2[1], l2[2])\n",
    "n = vsr.Vec(dlp[0], dlp[1], dlp[2])\n",
    "num2 = (vsr.Vec(dlp[0]*dlp[3], dlp[1]*dlp[3], dlp[2]*dlp[3]) - p2 <= n)\n",
    "den2 = (l <= n)\n",
    "dist2 = num2 / den2\n",
    "print(dist2)"
   ]
  },
  {
   "cell_type": "code",
   "execution_count": 121,
   "metadata": {
    "collapsed": false
   },
   "outputs": [
    {
     "data": {
      "text/plain": [
       "0.09370221188659286"
      ]
     },
     "execution_count": 121,
     "metadata": {},
     "output_type": "execute_result"
    }
   ],
   "source": [
    "measurements[0][2]"
   ]
  },
  {
   "cell_type": "code",
   "execution_count": 122,
   "metadata": {
    "collapsed": false
   },
   "outputs": [
    {
     "name": "stdout",
     "output_type": "stream",
     "text": [
      "-1.69733  \n"
     ]
    }
   ],
   "source": [
    "print (dist2 - dist) * 100"
   ]
  },
  {
   "cell_type": "code",
   "execution_count": 123,
   "metadata": {
    "collapsed": false
   },
   "outputs": [
    {
     "data": {
      "text/plain": [
       "array([ 0.11,  0.21,  0.31])"
      ]
     },
     "execution_count": 123,
     "metadata": {},
     "output_type": "execute_result"
    }
   ],
   "source": [
    "p_initial2.to_array()\n"
   ]
  },
  {
   "cell_type": "code",
   "execution_count": 124,
   "metadata": {
    "collapsed": false
   },
   "outputs": [],
   "source": [
    "# s = (dlp <= t2) / (vsr.ni <= (dlp <= t2))[0]\n",
    "# np.allclose(r, np.sqrt((s <= s)[0]))"
   ]
  },
  {
   "cell_type": "code",
   "execution_count": 125,
   "metadata": {
    "collapsed": false
   },
   "outputs": [
    {
     "name": "stdout",
     "output_type": "stream",
     "text": [
      "1.81118  1.01534  0.0233285  \n"
     ]
    }
   ],
   "source": [
    "print(p)"
   ]
  },
  {
   "cell_type": "code",
   "execution_count": 126,
   "metadata": {
    "collapsed": false
   },
   "outputs": [
    {
     "data": {
      "text/plain": [
       "-0.0008068436427008938"
      ]
     },
     "execution_count": 126,
     "metadata": {},
     "output_type": "execute_result"
    }
   ],
   "source": [
    "0.001 * np.random.randn()"
   ]
  },
  {
   "cell_type": "code",
   "execution_count": 127,
   "metadata": {
    "collapsed": false
   },
   "outputs": [],
   "source": [
    "# for m in measurements:\n",
    "#     print m[2]"
   ]
  },
  {
   "cell_type": "markdown",
   "metadata": {},
   "source": [
    "## Point + angles"
   ]
  },
  {
   "cell_type": "code",
   "execution_count": 128,
   "metadata": {
    "collapsed": false
   },
   "outputs": [],
   "source": [
    "lds_calibrator = LaserDistanceSensorCalibrator(p_initial, np.pi/3, 0.0, options)"
   ]
  },
  {
   "cell_type": "code",
   "execution_count": 129,
   "metadata": {
    "collapsed": true
   },
   "outputs": [],
   "source": [
    "for measurement in measurements:\n",
    "    lds_calibrator.add_point_angles_residual_block(*measurement)"
   ]
  },
  {
   "cell_type": "code",
   "execution_count": 130,
   "metadata": {
    "collapsed": false
   },
   "outputs": [],
   "source": [
    "p, theta, phi, summary3 = lds_calibrator.solve_point_angles()"
   ]
  },
  {
   "cell_type": "code",
   "execution_count": 131,
   "metadata": {
    "collapsed": false
   },
   "outputs": [
    {
     "name": "stdout",
     "output_type": "stream",
     "text": [
      "Ceres Solver Report: Iterations: 41, Initial cost: 4.496098e+02, Final cost: 8.875779e-03, Termination: CONVERGENCE\n"
     ]
    }
   ],
   "source": [
    "print(summary3['brief_report'])"
   ]
  },
  {
   "cell_type": "code",
   "execution_count": 132,
   "metadata": {
    "collapsed": false
   },
   "outputs": [
    {
     "name": "stdout",
     "output_type": "stream",
     "text": [
      "0.107212  0.34573  0.303023  \n"
     ]
    }
   ],
   "source": [
    "print(p)"
   ]
  },
  {
   "cell_type": "code",
   "execution_count": 133,
   "metadata": {
    "collapsed": false
   },
   "outputs": [
    {
     "name": "stdout",
     "output_type": "stream",
     "text": [
      "1.1917789939\n"
     ]
    }
   ],
   "source": [
    "print(theta)"
   ]
  },
  {
   "cell_type": "code",
   "execution_count": 134,
   "metadata": {
    "collapsed": false
   },
   "outputs": [
    {
     "name": "stdout",
     "output_type": "stream",
     "text": [
      "0.0\n"
     ]
    }
   ],
   "source": [
    "print(phi)"
   ]
  },
  {
   "cell_type": "code",
   "execution_count": 135,
   "metadata": {
    "collapsed": false
   },
   "outputs": [
    {
     "data": {
      "text/plain": [
       "1.0471975511965976"
      ]
     },
     "execution_count": 135,
     "metadata": {},
     "output_type": "execute_result"
    }
   ],
   "source": [
    "np.pi/3"
   ]
  },
  {
   "cell_type": "code",
   "execution_count": null,
   "metadata": {
    "collapsed": true
   },
   "outputs": [],
   "source": []
  }
 ],
 "metadata": {
  "kernelspec": {
   "display_name": "Python 2",
   "language": "python",
   "name": "python2"
  },
  "language_info": {
   "codemirror_mode": {
    "name": "ipython",
    "version": 2
   },
   "file_extension": ".py",
   "mimetype": "text/x-python",
   "name": "python",
   "nbconvert_exporter": "python",
   "pygments_lexer": "ipython2",
   "version": "2.7.6"
  }
 },
 "nbformat": 4,
 "nbformat_minor": 0
}
