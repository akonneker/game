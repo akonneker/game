{
 "cells": [
  {
   "cell_type": "code",
   "execution_count": 1,
   "metadata": {
    "collapsed": false
   },
   "outputs": [
    {
     "name": "stdout",
     "output_type": "stream",
     "text": [
      "Populating the interactive namespace from numpy and matplotlib\n"
     ]
    },
    {
     "name": "stderr",
     "output_type": "stream",
     "text": [
      "versor/cga.py:4: RuntimeWarning: to-Python converter for vsr::Multivector<vsr::algebra<vsr::metric<4, 1, true>, double>, vsr::Basis<(short)1, (short)2, (short)4, (short)8, (short)16> > already registered; second conversion method ignored.\n",
      "  from libversor import (Biv, Bst, Cir, Con, Dil, Dll, Dlp, Dls, Drb, Drt, Drv,\n",
      "versor/cga.py:4: RuntimeWarning: to-Python converter for vsr::Multivector<vsr::algebra<vsr::metric<4, 1, true>, double>, vsr::Basis<(short)9, (short)10, (short)12> > already registered; second conversion method ignored.\n",
      "  from libversor import (Biv, Bst, Cir, Con, Dil, Dll, Dlp, Dls, Drb, Drt, Drv,\n"
     ]
    }
   ],
   "source": [
    "%pylab inline\n",
    "import sys\n",
    "sys.path.append('../build_gcc/')\n",
    "import versor as vsr\n",
    "from liblds_calibration import (LaserDistanceSensorCalibrator, transform_tangent_vector)\n",
    "from game import solver_options\n",
    "np.set_printoptions(precision=4, suppress=True)"
   ]
  },
  {
   "cell_type": "markdown",
   "metadata": {},
   "source": [
    "# Laser Distance Sensor Calibration"
   ]
  },
  {
   "cell_type": "markdown",
   "metadata": {},
   "source": [
    "$$ R = \\frac{1 + \\mathrm{b}\\mathrm{a}}{\\sqrt{2(1 + \\mathrm{b} \\rfloor \\mathrm{a})}} $$"
   ]
  },
  {
   "cell_type": "code",
   "execution_count": 2,
   "metadata": {
    "collapsed": true
   },
   "outputs": [],
   "source": [
    "rotor_from_vectors = lambda a, b: (b * a + 1) / np.sqrt(2*(1+(b <= a)[0]))"
   ]
  },
  {
   "cell_type": "markdown",
   "metadata": {},
   "source": [
    "## Create measurement poses"
   ]
  },
  {
   "cell_type": "code",
   "execution_count": 3,
   "metadata": {
    "collapsed": false,
    "scrolled": false
   },
   "outputs": [
    {
     "name": "stdout",
     "output_type": "stream",
     "text": [
      "[ 0.5    0.866  0.   ]\n",
      "[ 0.1  0.2  0.3]\n",
      "[ 0.866  -0.5     0.      0.     -0.0933 -0.0616 -0.1299  0.075 ]\n"
     ]
    }
   ],
   "source": [
    "# laser direction in end-effector\n",
    "l0 = vsr.Vec(1,0,0).spin( vsr.Rot.from_bivector(vsr.Biv(1,0,0) * pi/ 3))\n",
    "p0 = vsr.Vec(0.1,0.2,0.3)\n",
    "R0 = rotor_from_vectors(vsr.Vec(1,0,0), l0)\n",
    "T0 = vsr.Trs.from_vector(p0)\n",
    "M_laser_in_ee = T0 * R0\n",
    "print(l0)\n",
    "print(p0)\n",
    "print(M_laser_in_ee)"
   ]
  },
  {
   "cell_type": "code",
   "execution_count": 4,
   "metadata": {
    "collapsed": true
   },
   "outputs": [],
   "source": [
    "# Laser sensor\n",
    "lower = 0.065\n",
    "upper = 0.095\n",
    "# lower = 0.01\n",
    "# upper = lower + 0.2\n",
    "generate_measurement_distance = lambda : (upper - lower) * np.random.rand() + lower"
   ]
  },
  {
   "cell_type": "code",
   "execution_count": 32,
   "metadata": {
    "collapsed": true
   },
   "outputs": [],
   "source": [
    "def create_point_on_sphere():\n",
    "    r = generate_measurement_distance()\n",
    "    theta = np.random.rand() * (np.pi / 2.0) * 0.9 + (np.pi / 2.0) * 0.1\n",
    "    phi = np.random.rand() * np.pi * 2.0 \n",
    "    return vsr.Vec(r*np.sin(theta)*np.cos(phi),\n",
    "                   r*np.sin(theta)*np.sin(phi),\n",
    "                   r*np.cos(theta)), r"
   ]
  },
  {
   "cell_type": "markdown",
   "metadata": {},
   "source": [
    "Create point on upper hemisphere on measurement sphere:\n",
    "\n",
    "$$ \n",
    "x = r \\sin (\\theta) \\cos(\\varphi),\\\n",
    "y = r \\sin (\\theta) \\cos(\\varphi),\\ \n",
    "z = r \\cos(\\varphi) \n",
    "$$"
   ]
  },
  {
   "cell_type": "code",
   "execution_count": 33,
   "metadata": {
    "collapsed": true
   },
   "outputs": [],
   "source": [
    "def generate_measurement_pose_and_plane_and_distance(M_laser_in_ee, M_plane):\n",
    "    # Model laser as tangent vector in the e_1-direction at the origin\n",
    "    lds_dir = vsr.Vec(1,0,0)\n",
    "    lds_tnv = vsr.no ^ lds_dir\n",
    "    # Model the measurement plane as plane through the orgin with\n",
    "    # normal vector \\hat{n} = e_3\n",
    "    dlp = dlp = vsr.Dlp(0,0,1,0)\n",
    "    # Create point on upper hemisphere of measurement sphere with \n",
    "    # radius equals the measurement distance\n",
    "    p, radius = create_point_on_sphere()\n",
    "    # Compute motor that aligns lds_dir with measurement vector from \n",
    "    # from point on circle to the origin\n",
    "    R = rotor_from_vectors(lds_dir, -p.unit())\n",
    "    T = vsr.Trs.from_vector(p)\n",
    "    M_on_sphere = T * R * vsr.Rot.from_bivector(vsr.Vec(1,0,0).duale() * \n",
    "                                                np.random.rand() * 2 * pi)\n",
    "    # Transform the everything the measurement plane\n",
    "    x_in_plane = np.random.rand()\n",
    "    y_in_plane = np.random.rand()\n",
    "    T_in_plane = vsr.Trs.from_vector(vsr.Vec(x_in_plane, y_in_plane, 0.0)) * vsr.Rot(1.0,0.0,0.0,0.0)\n",
    "    # Transform the plane\n",
    "    dlp_meas = dlp.spin(M_plane)\n",
    "    M2 = M_plane * T_in_plane * M_on_sphere * M_laser_in_ee.rev()   \n",
    "    return M2, dlp_meas, radius"
   ]
  },
  {
   "cell_type": "code",
   "execution_count": 34,
   "metadata": {
    "collapsed": false
   },
   "outputs": [],
   "source": [
    "# M, dlp, r = generate_measurement_pose_and_plane_and_distance(M_laser_in_ee)\n",
    "# t2 = transform_tangent_vector(M * M_laser_in_ee,  (vsr.no ^ vsr.Vec(1,0,0)))\n",
    "# s = (dlp <= t2) / (vsr.ni <= (dlp <= t2))[0]\n",
    "# np.allclose(r, np.sqrt((s <= s)[0]))"
   ]
  },
  {
   "cell_type": "code",
   "execution_count": 35,
   "metadata": {
    "collapsed": false
   },
   "outputs": [
    {
     "name": "stdout",
     "output_type": "stream",
     "text": [
      "[ 0.1  0.2  0.3  1. ]\n"
     ]
    }
   ],
   "source": [
    "lin = (p0.null() ^ (l0 ^ vsr.ni))\n",
    "print (p0.null() ^ vsr.ni)"
   ]
  },
  {
   "cell_type": "code",
   "execution_count": 36,
   "metadata": {
    "collapsed": false
   },
   "outputs": [],
   "source": [
    "M_plane = vsr.Mot.from_dir_ang_trs(vsr.Vec(0,0,1), 0, vsr.Vec(1,1,0))\n",
    "measurements1 = [generate_measurement_pose_and_plane_and_distance(M_laser_in_ee, M_plane) for i in range(10)]\n",
    "M_plane2 = vsr.Mot.from_dir_ang_trs(vsr.Vec(0,1,0), np.pi/3, vsr.Vec(1,1,0.0))\n",
    "measurements2 = [generate_measurement_pose_and_plane_and_distance(M_laser_in_ee, M_plane2) for i in range(10)]\n",
    "M_plane3 = vsr.Mot.from_dir_ang_trs(vsr.Vec(1,0,0), np.pi/2, vsr.Vec(1,1,0.0))\n",
    "measurements3 = [generate_measurement_pose_and_plane_and_distance(M_laser_in_ee, M_plane3) for i in range(10)]\n",
    "measurements = measurements1 + measurements2 + measurements3\n",
    "measurements_copy = np.array(measurements).copy()"
   ]
  },
  {
   "cell_type": "code",
   "execution_count": 37,
   "metadata": {
    "collapsed": false
   },
   "outputs": [
    {
     "name": "stdout",
     "output_type": "stream",
     "text": [
      "[ 1.  -0.   0.  -0.  -0.5 -0.5  0.   0. ]\n"
     ]
    }
   ],
   "source": [
    "print M_plane"
   ]
  },
  {
   "cell_type": "code",
   "execution_count": 38,
   "metadata": {
    "collapsed": false
   },
   "outputs": [],
   "source": [
    "options = solver_options()\n",
    "options['function_tolerance'] = 1e-12\n",
    "options['parameter_tolerance'] = 1e-12\n",
    "options['max_num_iterations'] = 100\n",
    "options['num_linear_solver_threads'] = 100\n",
    "options['num_threads'] = 100\n",
    "# options['trust_region_strategy_type'] = 'DOGLEG'\n",
    "# options['linear_solver_type'] = 'SPARSE_NORMAL_CHOLESKY'"
   ]
  },
  {
   "cell_type": "code",
   "execution_count": 50,
   "metadata": {
    "collapsed": false
   },
   "outputs": [
    {
     "name": "stdout",
     "output_type": "stream",
     "text": [
      "[ 0.9529 -0.3032  0.      0.     -0.0905 -0.0866 -0.1525  0.0485]\n",
      "[ 0.866  -0.5     0.      0.     -0.0933 -0.0616 -0.1299  0.075 ]\n",
      "[ 0.9224 -0.3405 -0.1805  0.0277 -0.1123 -0.0781 -0.1212  0.0261]\n",
      "Ceres Solver Report: Iterations: 40, Initial cost: 8.807841e-04, Final cost: 5.938681e-05, Termination: CONVERGENCE\n"
     ]
    },
    {
     "data": {
      "text/plain": [
       "[<matplotlib.lines.Line2D at 0x7ff9b59945d0>]"
      ]
     },
     "execution_count": 50,
     "metadata": {},
     "output_type": "execute_result"
    },
    {
     "data": {
      "image/png": "[encoded data removed]",
      "text/plain": [
       "<matplotlib.figure.Figure at 0x7ff9b5c40390>"
      ]
     },
     "metadata": {},
     "output_type": "display_data"
    }
   ],
   "source": [
    "M_plane = vsr.Mot.from_dir_ang_trs(vsr.Vec(0,0,1), 0, vsr.Vec(1,1,0))\n",
    "measurements1 = [generate_measurement_pose_and_plane_and_distance(M_laser_in_ee, M_plane) for i in range(5)]\n",
    "M_plane2 = vsr.Mot.from_dir_ang_trs(vsr.Vec(0,1,0), -np.pi/3, vsr.Vec(1,1,0.0))\n",
    "measurements2 = [generate_measurement_pose_and_plane_and_distance(M_laser_in_ee, M_plane2) for i in range(0)]\n",
    "M_plane3 = vsr.Mot.from_dir_ang_trs(vsr.Vec(1,0,0), -np.pi/6, vsr.Vec(1,1,0.0))\n",
    "measurements3 = [generate_measurement_pose_and_plane_and_distance(M_laser_in_ee, M_plane3) for i in range(0)]\n",
    "measurements = measurements1 + measurements2 + measurements3\n",
    "measurements_copy = np.array(measurements).copy()\n",
    "\n",
    "# laser direction in end-effector\n",
    "l = vsr.Vec(1,0,0).unit().spin(vsr.Rot.from_bivector(vsr.Biv(1,0,0).unit() * np.pi/5.1))\n",
    "p = vsr.Vec(0.1 + 0.02, 0.2 + 0.02, 0.3 + 0.02)\n",
    "R = rotor_from_vectors(vsr.Vec(1,0,0), l)\n",
    "T = vsr.Trs.from_vector(p)\n",
    "M_initial = T * R\n",
    "\n",
    "print(M_initial)\n",
    "\n",
    "print(M_laser_in_ee)\n",
    "\n",
    "lds_calibrator = LaserDistanceSensorCalibrator(M_initial, options)\n",
    "\n",
    "for measurement in measurements:\n",
    "    M, dlp_meas, r = measurement\n",
    "    r += np.random.randn() * 0.01\n",
    "    lds_calibrator.add_tangent_vector_residual_block(M, dlp_meas, r)\n",
    "\n",
    "# lds_calibrator.set_parameterization('POLAR_DECOMPOSITION')\n",
    "\n",
    "lds_calibrator.set_parameterization('BIVECTOR_GENERATOR')\n",
    "\n",
    "motor, summary = lds_calibrator.solve()\n",
    "\n",
    "print(motor)\n",
    "print(summary['brief_report'])\n",
    "\n",
    "iterations = summary['iterations']\n",
    "plot([it['gradient_max_norm'] for it in iterations])"
   ]
  },
  {
   "cell_type": "code",
   "execution_count": 51,
   "metadata": {
    "collapsed": false
   },
   "outputs": [
    {
     "name": "stdout",
     "output_type": "stream",
     "text": [
      "\n",
      "Solver Summary (v 1.10.0-eigen-(3.2.0)-lapack-suitesparse-(4.2.1)-openmp)\n",
      "\n",
      "                                     Original                  Reduced\n",
      "Parameter blocks                            1                        1\n",
      "Parameters                                  8                        8\n",
      "Effective parameters                        6                        6\n",
      "Residual blocks                             5                        5\n",
      "Residual                                    5                        5\n",
      "\n",
      "Minimizer                        TRUST_REGION\n",
      "\n",
      "Dense linear algebra library            EIGEN\n",
      "Trust region strategy     LEVENBERG_MARQUARDT\n",
      "\n",
      "                                        Given                     Used\n",
      "Linear solver                        DENSE_QR                 DENSE_QR\n",
      "Threads                                   100                      100\n",
      "Linear solver threads                     100                      100\n",
      "\n",
      "Cost:\n",
      "Initial                          8.807841e-04\n",
      "Final                            5.938681e-05\n",
      "Change                           8.213973e-04\n",
      "\n",
      "Minimizer iterations                       40\n",
      "Successful steps                           34\n",
      "Unsuccessful steps                          6\n",
      "\n",
      "Time (in seconds):\n",
      "Preprocessor                           0.0006\n",
      "\n",
      "  Residual evaluation                  0.0298\n",
      "  Jacobian evaluation                  0.0907\n",
      "  Linear solver                        0.0004\n",
      "Minimizer                              0.1242\n",
      "\n",
      "Postprocessor                          0.0004\n",
      "Total                                  0.1252\n",
      "\n",
      "Termination:                      CONVERGENCE (Parameter tolerance reached. Relative step_norm: 1.597236e-13 <= 1.000000e-12.)\n",
      "\n"
     ]
    }
   ],
   "source": [
    "print(summary['full_report'])"
   ]
  },
  {
   "cell_type": "code",
   "execution_count": 52,
   "metadata": {
    "collapsed": false
   },
   "outputs": [
    {
     "name": "stdout",
     "output_type": "stream",
     "text": [
      "4.77414214337e-05\n"
     ]
    }
   ],
   "source": [
    "errors = []\n",
    "for measurement in measurements:\n",
    "    dlp = measurement[1]\n",
    "    t = transform_tangent_vector(measurement[0] * motor,  (vsr.no ^ vsr.Vec(1,0,0)))\n",
    "    s = (dlp <= t) / (vsr.ni <= (dlp <= t))[0]\n",
    "    r_est = np.sqrt((s <= s)[0])\n",
    "    errors.append(np.abs(r_est - measurement[2]))\n",
    "print(np.sum(errors) / 1000)"
   ]
  },
  {
   "cell_type": "code",
   "execution_count": 53,
   "metadata": {
    "collapsed": false
   },
   "outputs": [
    {
     "name": "stdout",
     "output_type": "stream",
     "text": [
      "[ 0.1087  0.2178  0.2776  1.      0.0682]\n"
     ]
    },
    {
     "data": {
      "text/plain": [
       "False"
      ]
     },
     "execution_count": 53,
     "metadata": {},
     "output_type": "execute_result"
    }
   ],
   "source": [
    "print(vsr.Vec(0,0,0).null().spin(motor).to_array())\n",
    "np.allclose(vsr.Vec(0,0,0).null().spin(motor).to_array(), \n",
    "            vsr.Vec(0,0,0).null().spin(M_laser_in_ee).to_array())"
   ]
  },
  {
   "cell_type": "code",
   "execution_count": 54,
   "metadata": {
    "collapsed": false
   },
   "outputs": [
    {
     "data": {
      "text/plain": [
       "[<matplotlib.lines.Line2D at 0x7ff9b58b3a10>]"
      ]
     },
     "execution_count": 54,
     "metadata": {},
     "output_type": "execute_result"
    },
    {
     "data": {
      "image/png": "[encoded data removed]",
      "text/plain": [
       "<matplotlib.figure.Figure at 0x7ff9b5a4d8d0>"
      ]
     },
     "metadata": {},
     "output_type": "display_data"
    }
   ],
   "source": [
    "iterations = summary['iterations']\n",
    "plot([it['gradient_max_norm'] for it in iterations])"
   ]
  },
  {
   "cell_type": "markdown",
   "metadata": {
    "collapsed": true
   },
   "source": [
    "## Point direction"
   ]
  },
  {
   "cell_type": "code",
   "execution_count": 55,
   "metadata": {
    "collapsed": false
   },
   "outputs": [
    {
     "name": "stdout",
     "output_type": "stream",
     "text": [
      "[ 0.1  0.2  0.3]\n",
      "[ 0.12  0.22  0.32]\n",
      "[ 0.5    0.866  0.   ]\n",
      "[ 0.8162  0.5778  0.    ]\n"
     ]
    }
   ],
   "source": [
    "p_initial = vsr.Vec(0,0,0).null().spin(M_initial)\n",
    "p_initial = vsr.Vec(*p_initial.to_array()[:3])\n",
    "l_initial = (vsr.Vec(1,0,0) ^ vsr.ni).spin(M_initial)\n",
    "l_initial = vsr.Vec(*l_initial.to_array()[:3])\n",
    "p_initial2 = vsr.Vec(*p_initial.to_array().copy()[:3])\n",
    "l_initial2 = vsr.Vec(*l_initial.to_array().copy()[:3])\n",
    "print(p0)\n",
    "print(p_initial)\n",
    "print(l0)\n",
    "print(l_initial)\n",
    "lds_calibrator = LaserDistanceSensorCalibrator(p_initial, l_initial, options)"
   ]
  },
  {
   "cell_type": "code",
   "execution_count": 62,
   "metadata": {
    "collapsed": false
   },
   "outputs": [],
   "source": [
    "for measurement in measurements:\n",
    "    M, dlp_meas, r = measurement\n",
    "    r += np.random.randn() * 0.0001\n",
    "    lds_calibrator.add_point_direction_residual_block(M, dlp_meas, r)"
   ]
  },
  {
   "cell_type": "code",
   "execution_count": null,
   "metadata": {
    "collapsed": false
   },
   "outputs": [],
   "source": [
    "lds_calibrator.set_direction_parameterization('NORMALIZE')\n",
    "p, l, summary2 = lds_calibrator.solve_point_direction()\n",
    "print(summary2['brief_report'])\n",
    "print(p)\n",
    "print(l.unit())"
   ]
  },
  {
   "cell_type": "code",
   "execution_count": null,
   "metadata": {
    "collapsed": false
   },
   "outputs": [],
   "source": [
    "print(summary2['full_report'])"
   ]
  },
  {
   "cell_type": "code",
   "execution_count": 1,
   "metadata": {
    "collapsed": false
   },
   "outputs": [
    {
     "ename": "NameError",
     "evalue": "name 'summary2' is not defined",
     "output_type": "error",
     "traceback": [
      "\u001b[1;31m---------------------------------------------------------------------------\u001b[0m",
      "\u001b[1;31mNameError\u001b[0m                                 Traceback (most recent call last)",
      "\u001b[1;32m<ipython-input-1-9cb2955ea2c0>\u001b[0m in \u001b[0;36m<module>\u001b[1;34m()\u001b[0m\n\u001b[1;32m----> 1\u001b[1;33m \u001b[0miterations\u001b[0m \u001b[1;33m=\u001b[0m \u001b[0msummary2\u001b[0m\u001b[1;33m[\u001b[0m\u001b[1;34m'iterations'\u001b[0m\u001b[1;33m]\u001b[0m\u001b[1;33m\u001b[0m\u001b[0m\n\u001b[0m\u001b[0;32m      2\u001b[0m \u001b[0mplot\u001b[0m\u001b[1;33m(\u001b[0m\u001b[1;33m[\u001b[0m\u001b[0mit\u001b[0m\u001b[1;33m[\u001b[0m\u001b[1;34m'gradient_max_norm'\u001b[0m\u001b[1;33m]\u001b[0m \u001b[1;32mfor\u001b[0m \u001b[0mit\u001b[0m \u001b[1;32min\u001b[0m \u001b[0miterations\u001b[0m\u001b[1;33m]\u001b[0m\u001b[1;33m)\u001b[0m\u001b[1;33m\u001b[0m\u001b[0m\n",
      "\u001b[1;31mNameError\u001b[0m: name 'summary2' is not defined"
     ]
    }
   ],
   "source": [
    "iterations = summary2['iterations']\n",
    "plot([it['gradient_max_norm'] for it in iterations])"
   ]
  },
  {
   "cell_type": "code",
   "execution_count": 60,
   "metadata": {
    "collapsed": false
   },
   "outputs": [
    {
     "name": "stdout",
     "output_type": "stream",
     "text": [
      "[ 0.0822  0.2162  0.3136]\n"
     ]
    }
   ],
   "source": [
    "print p"
   ]
  },
  {
   "cell_type": "code",
   "execution_count": null,
   "metadata": {
    "collapsed": false
   },
   "outputs": [],
   "source": [
    "p = p0.null().spin(measurements[0][0])\n",
    "p = vsr.Vec(p[0], p[1], p[2])\n",
    "l = (l0 ^ vsr.ni).spin(measurements[0][0])\n",
    "l = vsr.Vec(l[0], l[1], l[2])\n",
    "n = vsr.Vec(dlp[0], dlp[1], dlp[2])\n",
    "num = (vsr.Vec(dlp[0]*dlp[3], dlp[1]*dlp[3], dlp[2]*dlp[3]) - p <= n)\n",
    "den = (l <= n)\n",
    "dist = num / den\n",
    "print(dist)"
   ]
  },
  {
   "cell_type": "code",
   "execution_count": null,
   "metadata": {
    "collapsed": false
   },
   "outputs": [],
   "source": [
    "p2 = p_initial2.null().spin(measurements[0][0])\n",
    "p2 = vsr.Vec(p2[0], p2[1], p2[2])\n",
    "l2 = (l_initial2 ^ vsr.ni).spin(measurements[0][0])\n",
    "l2 = vsr.Vec(l2[0], l2[1], l2[2])\n",
    "n = vsr.Vec(dlp[0], dlp[1], dlp[2])\n",
    "num2 = (vsr.Vec(dlp[0]*dlp[3], dlp[1]*dlp[3], dlp[2]*dlp[3]) - p2 <= n)\n",
    "den2 = (l <= n)\n",
    "dist2 = num2 / den2\n",
    "print(dist2)"
   ]
  },
  {
   "cell_type": "code",
   "execution_count": null,
   "metadata": {
    "collapsed": false
   },
   "outputs": [],
   "source": [
    "measurements[0][2]"
   ]
  },
  {
   "cell_type": "code",
   "execution_count": null,
   "metadata": {
    "collapsed": false
   },
   "outputs": [],
   "source": [
    "print (dist2 - dist) * 100"
   ]
  },
  {
   "cell_type": "code",
   "execution_count": null,
   "metadata": {
    "collapsed": false
   },
   "outputs": [],
   "source": [
    "p_initial2.to_array()\n"
   ]
  },
  {
   "cell_type": "code",
   "execution_count": null,
   "metadata": {
    "collapsed": false
   },
   "outputs": [],
   "source": [
    "# s = (dlp <= t2) / (vsr.ni <= (dlp <= t2))[0]\n",
    "# np.allclose(r, np.sqrt((s <= s)[0]))"
   ]
  },
  {
   "cell_type": "code",
   "execution_count": null,
   "metadata": {
    "collapsed": false
   },
   "outputs": [],
   "source": [
    "print(p)"
   ]
  },
  {
   "cell_type": "code",
   "execution_count": null,
   "metadata": {
    "collapsed": false
   },
   "outputs": [],
   "source": [
    "0.001 * np.random.randn()"
   ]
  },
  {
   "cell_type": "code",
   "execution_count": null,
   "metadata": {
    "collapsed": false
   },
   "outputs": [],
   "source": [
    "# for m in measurements:\n",
    "#     print m[2]"
   ]
  },
  {
   "cell_type": "markdown",
   "metadata": {},
   "source": [
    "## Point + angles"
   ]
  },
  {
   "cell_type": "code",
   "execution_count": null,
   "metadata": {
    "collapsed": false
   },
   "outputs": [],
   "source": [
    "lds_calibrator = LaserDistanceSensorCalibrator(p_initial, np.pi/3, 0.0, options)"
   ]
  },
  {
   "cell_type": "code",
   "execution_count": null,
   "metadata": {
    "collapsed": true
   },
   "outputs": [],
   "source": [
    "for measurement in measurements:\n",
    "    lds_calibrator.add_point_angles_residual_block(*measurement)"
   ]
  },
  {
   "cell_type": "code",
   "execution_count": null,
   "metadata": {
    "collapsed": false
   },
   "outputs": [],
   "source": [
    "p, theta, phi, summary3 = lds_calibrator.solve_point_angles()"
   ]
  },
  {
   "cell_type": "code",
   "execution_count": null,
   "metadata": {
    "collapsed": false
   },
   "outputs": [],
   "source": [
    "print(summary3['brief_report'])"
   ]
  },
  {
   "cell_type": "code",
   "execution_count": null,
   "metadata": {
    "collapsed": false
   },
   "outputs": [],
   "source": [
    "print(p)"
   ]
  },
  {
   "cell_type": "code",
   "execution_count": null,
   "metadata": {
    "collapsed": false
   },
   "outputs": [],
   "source": [
    "print(theta)"
   ]
  },
  {
   "cell_type": "code",
   "execution_count": null,
   "metadata": {
    "collapsed": false
   },
   "outputs": [],
   "source": [
    "print(phi)"
   ]
  },
  {
   "cell_type": "code",
   "execution_count": null,
   "metadata": {
    "collapsed": false
   },
   "outputs": [],
   "source": [
    "np.pi/3"
   ]
  },
  {
   "cell_type": "code",
   "execution_count": null,
   "metadata": {
    "collapsed": true
   },
   "outputs": [],
   "source": []
  }
 ],
 "metadata": {
  "kernelspec": {
   "display_name": "Python 2",
   "language": "python",
   "name": "python2"
  },
  "language_info": {
   "codemirror_mode": {
    "name": "ipython",
    "version": 2
   },
   "file_extension": ".py",
   "mimetype": "text/x-python",
   "name": "python",
   "nbconvert_exporter": "python",
   "pygments_lexer": "ipython2",
   "version": "2.7.6"
  }
 },
 "nbformat": 4,
 "nbformat_minor": 0
}
