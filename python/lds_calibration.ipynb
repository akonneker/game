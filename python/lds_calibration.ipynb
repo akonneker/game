{
 "cells": [
  {
   "cell_type": "code",
   "execution_count": 35,
   "metadata": {
    "collapsed": false
   },
   "outputs": [
    {
     "name": "stdout",
     "output_type": "stream",
     "text": [
      "Populating the interactive namespace from numpy and matplotlib\n"
     ]
    },
    {
     "name": "stderr",
     "output_type": "stream",
     "text": [
      "WARNING: pylab import has clobbered these variables: ['dist']\n",
      "`%matplotlib` prevents importing * from pylab and numpy\n"
     ]
    }
   ],
   "source": [
    "%pylab inline\n",
    "import sys\n",
    "sys.path.append('../build_gcc/')\n",
    "import versor as vsr\n",
    "from liblds_calibration import (LaserDistanceSensorCalibrator, transform_tangent_vector)\n",
    "from game import solver_options"
   ]
  },
  {
   "cell_type": "markdown",
   "metadata": {},
   "source": [
    "# Laser Distance Sensor Calibration"
   ]
  },
  {
   "cell_type": "markdown",
   "metadata": {},
   "source": [
    "$$ R = \\frac{1 + \\mathrm{b}\\mathrm{a}}{\\sqrt{2(1 + \\mathrm{b} \\rfloor \\mathrm{a})}} $$"
   ]
  },
  {
   "cell_type": "code",
   "execution_count": 36,
   "metadata": {
    "collapsed": true
   },
   "outputs": [],
   "source": [
    "rotor_from_vectors = lambda a, b: (b * a + 1) / np.sqrt(2*(1+(b <= a)[0]))"
   ]
  },
  {
   "cell_type": "markdown",
   "metadata": {},
   "source": [
    "## Create measurement poses"
   ]
  },
  {
   "cell_type": "code",
   "execution_count": 37,
   "metadata": {
    "collapsed": false,
    "scrolled": true
   },
   "outputs": [
    {
     "name": "stdout",
     "output_type": "stream",
     "text": [
      "0.866025  -0.5  0  0  -0.0933013  -0.0616025  -0.129904  0.075  \n"
     ]
    }
   ],
   "source": [
    "# laser direction in end-effector\n",
    "l0 = vsr.Vec(1,0,0).spin( vsr.Rot.from_bivector(vsr.Biv(1,0,0) * pi/ 3))\n",
    "p0 = vsr.Vec(0.1,0.2,0.3)\n",
    "R0 = rotor_from_vectors(vsr.Vec(1,0,0), l0)\n",
    "T0 = vsr.Trs.from_vector(p0)\n",
    "M_laser_in_ee = T0 * R0\n",
    "print(M_laser_in_ee)"
   ]
  },
  {
   "cell_type": "code",
   "execution_count": 38,
   "metadata": {
    "collapsed": true
   },
   "outputs": [],
   "source": [
    "# Laser sensor\n",
    "lower = 0.065\n",
    "upper = 0.095\n",
    "# lower = 0.01\n",
    "# upper = lower + 0.2\n",
    "generate_measurement_distance = lambda : (upper - lower) * np.random.rand() + lower"
   ]
  },
  {
   "cell_type": "code",
   "execution_count": 39,
   "metadata": {
    "collapsed": true
   },
   "outputs": [],
   "source": [
    "def create_point_on_sphere():\n",
    "    r = generate_measurement_distance()\n",
    "    theta = np.random.rand() * np.pi / 2.0\n",
    "    phi = np.random.rand() * np.pi * 2.0 \n",
    "    return vsr.Vec(r*np.sin(theta)*np.cos(phi),\n",
    "                   r*np.sin(theta)*np.sin(phi),\n",
    "                   r*np.cos(theta)), r"
   ]
  },
  {
   "cell_type": "markdown",
   "metadata": {},
   "source": [
    "Create point on upper hemisphere on measurement sphere:\n",
    "\n",
    "$$ \n",
    "x = r \\sin (\\theta) \\cos(\\varphi),\\\n",
    "y = r \\sin (\\theta) \\cos(\\varphi),\\ \n",
    "z = r \\cos(\\varphi) \n",
    "$$"
   ]
  },
  {
   "cell_type": "code",
   "execution_count": 40,
   "metadata": {
    "collapsed": true
   },
   "outputs": [],
   "source": [
    "def generate_measurement_pose_and_plane_and_distance(M_laser_in_ee, M_plane):\n",
    "    # Model laser as tangent vector in the e_1-direction at the origin\n",
    "    lds_dir = vsr.Vec(1,0,0)\n",
    "    lds_tnv = vsr.no ^ lds_dir\n",
    "    # Model the measurement plane as plane through the orgin with\n",
    "    # normal vector \\hat{n} = e_3\n",
    "    dlp = dlp = vsr.Dlp(0,0,1,0)\n",
    "    # Create point on upper hemisphere of measurement sphere with \n",
    "    # radius equals the measurement distance\n",
    "    p, radius = create_point_on_sphere()\n",
    "    # Compute motor that aligns lds_dir with measurement vector from \n",
    "    # from point on circle to the origin\n",
    "    R = rotor_from_vectors(lds_dir, -p.unit())\n",
    "    T = vsr.Trs.from_vector(p)\n",
    "    M_on_sphere = T * R * vsr.Rot.from_bivector(vsr.Vec(1,0,0).duale() * \n",
    "                                                np.random.rand() * 2 * pi)\n",
    "    # Transform the everything the measurement plane\n",
    "    x_in_plane = np.random.rand()\n",
    "    y_in_plane = np.random.rand()\n",
    "    T_in_plane = vsr.Trs.from_vector(vsr.Vec(x_in_plane, y_in_plane, 0.0)) * vsr.Rot(1.0,0.0,0.0,0.0)\n",
    "    # Transform the plane\n",
    "    dlp_meas = dlp.spin(M_plane)\n",
    "    M2 = M_plane * T_in_plane * M_on_sphere * M_laser_in_ee.rev()   \n",
    "    return M2, dlp_meas, radius"
   ]
  },
  {
   "cell_type": "code",
   "execution_count": 41,
   "metadata": {
    "collapsed": false
   },
   "outputs": [],
   "source": [
    "# M, dlp, r = generate_measurement_pose_and_plane_and_distance(M_laser_in_ee)\n",
    "# t2 = transform_tangent_vector(M * M_laser_in_ee,  (vsr.no ^ vsr.Vec(1,0,0)))\n",
    "# s = (dlp <= t2) / (vsr.ni <= (dlp <= t2))[0]\n",
    "# np.allclose(r, np.sqrt((s <= s)[0]))"
   ]
  },
  {
   "cell_type": "code",
   "execution_count": 42,
   "metadata": {
    "collapsed": false
   },
   "outputs": [
    {
     "name": "stdout",
     "output_type": "stream",
     "text": [
      "0.1  0.2  0.3  1  \n"
     ]
    }
   ],
   "source": [
    "lin = (p0.null() ^ (l0 ^ vsr.ni))\n",
    "print (p0.null() ^ vsr.ni)"
   ]
  },
  {
   "cell_type": "code",
   "execution_count": 43,
   "metadata": {
    "collapsed": true
   },
   "outputs": [],
   "source": [
    "M_plane = vsr.Mot.from_dir_ang_trs(vsr.Vec(0,0,1), 0, vsr.Vec(1,1,0))\n",
    "measurements1 = [generate_measurement_pose_and_plane_and_distance(M_laser_in_ee, M_plane) for i in range(33)]\n",
    "M_plane2 = vsr.Mot.from_dir_ang_trs(vsr.Vec(0,1,0), np.pi/2, vsr.Vec(1,1,0.0))\n",
    "measurements2 = [generate_measurement_pose_and_plane_and_distance(M_laser_in_ee, M_plane2) for i in range(33)]\n",
    "M_plane3 = vsr.Mot.from_dir_ang_trs(vsr.Vec(1,0,0), np.pi/2, vsr.Vec(1,1,0.))\n",
    "measurements3 = [generate_measurement_pose_and_plane_and_distance(M_laser_in_ee, M_plane3) for i in range(33)]\n",
    "measurements = measurements1 + measurements2 + measurements3"
   ]
  },
  {
   "cell_type": "code",
   "execution_count": 44,
   "metadata": {
    "collapsed": false
   },
   "outputs": [
    {
     "name": "stdout",
     "output_type": "stream",
     "text": [
      "1  -0  0  -0  -0.5  -0.5  0  0  \n"
     ]
    }
   ],
   "source": [
    "print M_plane"
   ]
  },
  {
   "cell_type": "code",
   "execution_count": 45,
   "metadata": {
    "collapsed": false
   },
   "outputs": [],
   "source": [
    "options = solver_options()\n",
    "options['function_tolerance'] = 1e-12\n",
    "options['parameter_tolerance'] = 1e-12\n",
    "options['max_num_iterations'] = 100\n",
    "options['num_linear_solver_threads'] = 100\n",
    "options['num_threads'] = 100\n",
    "# options['trust_region_strategy_type'] = 'DOGLEG'\n",
    "# options['linear_solver_type'] = 'SPARSE_NORMAL_CHOLESKY'"
   ]
  },
  {
   "cell_type": "code",
   "execution_count": 46,
   "metadata": {
    "collapsed": false
   },
   "outputs": [
    {
     "name": "stdout",
     "output_type": "stream",
     "text": [
      "0.92388  -0.382683  0  0  -0.0909951  -0.0759598  -0.143201  0.0593159  \n",
      "0.866025  -0.5  0  0  -0.0933013  -0.0616025  -0.129904  0.075  \n"
     ]
    }
   ],
   "source": [
    "# laser direction in end-effector\n",
    "l = vsr.Vec(1,0,0).unit().spin(vsr.Rot.from_bivector(vsr.Biv(1,0,0).unit() * np.pi/4))\n",
    "p = vsr.Vec(0.1 + 0.01, 0.2 + 0.01, 0.3 + 0.01)\n",
    "R = rotor_from_vectors(vsr.Vec(1,0,0), l)\n",
    "T = vsr.Trs.from_vector(p)\n",
    "M_initial = T * R\n",
    "print(M_initial)\n",
    "print(M_laser_in_ee)\n",
    "lds_calibrator = LaserDistanceSensorCalibrator(M_initial, options)"
   ]
  },
  {
   "cell_type": "code",
   "execution_count": 47,
   "metadata": {
    "collapsed": false
   },
   "outputs": [
    {
     "data": {
      "text/plain": [
       "-2.0689655172413843"
      ]
     },
     "execution_count": 47,
     "metadata": {},
     "output_type": "execute_result"
    }
   ],
   "source": [
    "np.rad2deg(np.pi/3 - np.pi/2.9)"
   ]
  },
  {
   "cell_type": "code",
   "execution_count": 48,
   "metadata": {
    "collapsed": false
   },
   "outputs": [],
   "source": [
    "for measurement in measurements:\n",
    "    lds_calibrator.add_tangent_vector_residual_block(*measurement)"
   ]
  },
  {
   "cell_type": "code",
   "execution_count": 49,
   "metadata": {
    "collapsed": true
   },
   "outputs": [],
   "source": [
    "# lds_calibrator.set_parameterization('POLAR_DECOMPOSITION')"
   ]
  },
  {
   "cell_type": "code",
   "execution_count": 50,
   "metadata": {
    "collapsed": true
   },
   "outputs": [],
   "source": [
    "lds_calibrator.set_parameterization('BIVECTOR_GENERATOR')"
   ]
  },
  {
   "cell_type": "code",
   "execution_count": 51,
   "metadata": {
    "collapsed": false
   },
   "outputs": [],
   "source": [
    "motor, summary = lds_calibrator.solve()"
   ]
  },
  {
   "cell_type": "code",
   "execution_count": 52,
   "metadata": {
    "collapsed": false
   },
   "outputs": [
    {
     "name": "stdout",
     "output_type": "stream",
     "text": [
      "0.919679  -0.390869  0.0374516  0.00317665  -0.0746343  -0.0807227  -0.141656  0.063234  \n",
      "\n",
      "Solver Summary (v 1.10.0-eigen-(3.2.0)-lapack-suitesparse-(4.2.1)-openmp)\n",
      "\n",
      "                                     Original                  Reduced\n",
      "Parameter blocks                            1                        1\n",
      "Parameters                                  8                        8\n",
      "Effective parameters                        6                        6\n",
      "Residual blocks                            99                       99\n",
      "Residual                                   99                       99\n",
      "\n",
      "Minimizer                        TRUST_REGION\n",
      "\n",
      "Dense linear algebra library            EIGEN\n",
      "Trust region strategy     LEVENBERG_MARQUARDT\n",
      "\n",
      "                                        Given                     Used\n",
      "Linear solver                        DENSE_QR                 DENSE_QR\n",
      "Threads                                   100                      100\n",
      "Linear solver threads                     100                      100\n",
      "\n",
      "Cost:\n",
      "Initial                          1.814064e+00\n",
      "Final                            7.254058e-04\n",
      "Change                           1.813339e+00\n",
      "\n",
      "Minimizer iterations                       26\n",
      "Successful steps                           26\n",
      "Unsuccessful steps                          0\n",
      "\n",
      "Time (in seconds):\n",
      "Preprocessor                           0.0010\n",
      "\n",
      "  Residual evaluation                  0.0292\n",
      "  Jacobian evaluation                  0.6208\n",
      "  Linear solver                        0.0006\n",
      "Minimizer                              0.6534\n",
      "\n",
      "Postprocessor                          0.0004\n",
      "Total                                  0.6548\n",
      "\n",
      "Termination:                      CONVERGENCE (Function tolerance reached. |cost_change|/cost: 7.549299e-13 <= 1.000000e-12)\n",
      "\n"
     ]
    }
   ],
   "source": [
    "print(motor)\n",
    "print(summary['full_report'])"
   ]
  },
  {
   "cell_type": "code",
   "execution_count": 53,
   "metadata": {
    "collapsed": false
   },
   "outputs": [
    {
     "name": "stdout",
     "output_type": "stream",
     "text": [
      "0.866025  -0.5  0  0  -0.0933013  -0.0616025  -0.129904  0.075  \n"
     ]
    }
   ],
   "source": [
    "print M_laser_in_ee"
   ]
  },
  {
   "cell_type": "code",
   "execution_count": 54,
   "metadata": {
    "collapsed": false
   },
   "outputs": [
    {
     "name": "stdout",
     "output_type": "stream",
     "text": [
      "0.000248932866545\n"
     ]
    }
   ],
   "source": [
    "errors = []\n",
    "for measurement in measurements:\n",
    "    dlp = measurement[1]\n",
    "    t = transform_tangent_vector(measurement[0] * motor,  (vsr.no ^ vsr.Vec(1,0,0)))\n",
    "    s = (dlp <= t) / (vsr.ni <= (dlp <= t))[0]\n",
    "    r_est = np.sqrt((s <= s)[0])\n",
    "    errors.append(np.abs(r_est - measurement[2]))\n",
    "print(np.sum(errors) / 1000)"
   ]
  },
  {
   "cell_type": "code",
   "execution_count": 55,
   "metadata": {
    "collapsed": false
   },
   "outputs": [
    {
     "name": "stdout",
     "output_type": "stream",
     "text": [
      "[ 0.08438395  0.21245875  0.30388469  1.          0.07230264]\n"
     ]
    },
    {
     "data": {
      "text/plain": [
       "False"
      ]
     },
     "execution_count": 55,
     "metadata": {},
     "output_type": "execute_result"
    }
   ],
   "source": [
    "print(vsr.Vec(0,0,0).null().spin(motor).to_array())\n",
    "np.allclose(vsr.Vec(0,0,0).null().spin(motor).to_array(), \n",
    "            vsr.Vec(0,0,0).null().spin(M_laser_in_ee).to_array())"
   ]
  },
  {
   "cell_type": "code",
   "execution_count": 56,
   "metadata": {
    "collapsed": false
   },
   "outputs": [
    {
     "data": {
      "text/plain": [
       "[<matplotlib.lines.Line2D at 0x7fb1a3ba7f90>]"
      ]
     },
     "execution_count": 56,
     "metadata": {},
     "output_type": "execute_result"
    },
    {
     "data": {
      "image/png": "[encoded data removed]",
      "text/plain": [
       "<matplotlib.figure.Figure at 0x7fb1a3be6a10>"
      ]
     },
     "metadata": {},
     "output_type": "display_data"
    }
   ],
   "source": [
    "iterations = summary['iterations']\n",
    "plot([it['gradient_max_norm'] for it in iterations])"
   ]
  },
  {
   "cell_type": "markdown",
   "metadata": {
    "collapsed": true
   },
   "source": [
    "## Point direction"
   ]
  },
  {
   "cell_type": "code",
   "execution_count": 57,
   "metadata": {
    "collapsed": false
   },
   "outputs": [
    {
     "name": "stdout",
     "output_type": "stream",
     "text": [
      "0.1  0.2  0.3  \n",
      "0.11  0.21  0.31  \n",
      "0.5  0.866025  0  \n",
      "0.707107  0.707107  0  \n"
     ]
    }
   ],
   "source": [
    "p_initial = vsr.Vec(0,0,0).null().spin(M_initial)\n",
    "p_initial = vsr.Vec(*p_initial.to_array()[:3])\n",
    "l_initial = (vsr.Vec(1,0,0) ^ vsr.ni).spin(M_initial)\n",
    "l_initial = vsr.Vec(*l_initial.to_array()[:3])\n",
    "p_initial2 = vsr.Vec(*p_initial.to_array().copy()[:3])\n",
    "l_initial2 = vsr.Vec(*l_initial.to_array().copy()[:3])\n",
    "print(p0)\n",
    "print(p_initial)\n",
    "print(l0)\n",
    "print(l_initial)\n",
    "lds_calibrator = LaserDistanceSensorCalibrator(p_initial, l_initial.unit(), options)"
   ]
  },
  {
   "cell_type": "code",
   "execution_count": 58,
   "metadata": {
    "collapsed": false
   },
   "outputs": [],
   "source": [
    "for measurement in measurements:\n",
    "    lds_calibrator.add_point_direction_residual_block(*measurement)"
   ]
  },
  {
   "cell_type": "code",
   "execution_count": 59,
   "metadata": {
    "collapsed": false
   },
   "outputs": [
    {
     "name": "stdout",
     "output_type": "stream",
     "text": [
      "Ceres Solver Report: Iterations: 29, Initial cost: 2.153083e+00, Final cost: 1.109218e-03, Termination: CONVERGENCE\n",
      "0.0815737  0.214701  0.302741  \n",
      "0.712371  0.699367  -0.0584257  \n"
     ]
    }
   ],
   "source": [
    "p, l, summary2 = lds_calibrator.solve_point_direction()\n",
    "print(summary2['brief_report'])\n",
    "print(p)\n",
    "print(l.unit())"
   ]
  },
  {
   "cell_type": "code",
   "execution_count": 60,
   "metadata": {
    "collapsed": false
   },
   "outputs": [
    {
     "name": "stdout",
     "output_type": "stream",
     "text": [
      "\n",
      "Solver Summary (v 1.10.0-eigen-(3.2.0)-lapack-suitesparse-(4.2.1)-openmp)\n",
      "\n",
      "                                     Original                  Reduced\n",
      "Parameter blocks                            2                        2\n",
      "Parameters                                  6                        6\n",
      "Residual blocks                            99                       99\n",
      "Residual                                   99                       99\n",
      "\n",
      "Minimizer                        TRUST_REGION\n",
      "\n",
      "Dense linear algebra library            EIGEN\n",
      "Trust region strategy     LEVENBERG_MARQUARDT\n",
      "\n",
      "                                        Given                     Used\n",
      "Linear solver                        DENSE_QR                 DENSE_QR\n",
      "Threads                                   100                      100\n",
      "Linear solver threads                     100                      100\n",
      "\n",
      "Cost:\n",
      "Initial                          2.153083e+00\n",
      "Final                            1.109218e-03\n",
      "Change                           2.151974e+00\n",
      "\n",
      "Minimizer iterations                       29\n",
      "Successful steps                           25\n",
      "Unsuccessful steps                          4\n",
      "\n",
      "Time (in seconds):\n",
      "Preprocessor                           0.0001\n",
      "\n",
      "  Residual evaluation                  0.0170\n",
      "  Jacobian evaluation                  0.3937\n",
      "  Linear solver                        0.0007\n",
      "Minimizer                              0.4129\n",
      "\n",
      "Postprocessor                          0.0000\n",
      "Total                                  0.4130\n",
      "\n",
      "Termination:                      CONVERGENCE (Function tolerance reached. |cost_change|/cost: 4.111144e-13 <= 1.000000e-12)\n",
      "\n"
     ]
    }
   ],
   "source": [
    "print(summary2['full_report'])"
   ]
  },
  {
   "cell_type": "code",
   "execution_count": 61,
   "metadata": {
    "collapsed": false
   },
   "outputs": [
    {
     "data": {
      "text/plain": [
       "[<matplotlib.lines.Line2D at 0x7fb1a3aa4190>]"
      ]
     },
     "execution_count": 61,
     "metadata": {},
     "output_type": "execute_result"
    },
    {
     "data": {
      "image/png": "[encoded data removed]",
      "text/plain": [
       "<matplotlib.figure.Figure at 0x7fb1a3f00b50>"
      ]
     },
     "metadata": {},
     "output_type": "display_data"
    }
   ],
   "source": [
    "iterations = summary2['iterations']\n",
    "plot([it['gradient_max_norm'] for it in iterations])"
   ]
  },
  {
   "cell_type": "code",
   "execution_count": 62,
   "metadata": {
    "collapsed": false
   },
   "outputs": [
    {
     "name": "stdout",
     "output_type": "stream",
     "text": [
      "0.0815737  0.214701  0.302741  \n"
     ]
    }
   ],
   "source": [
    "print p"
   ]
  },
  {
   "cell_type": "code",
   "execution_count": 63,
   "metadata": {
    "collapsed": false
   },
   "outputs": [
    {
     "name": "stdout",
     "output_type": "stream",
     "text": [
      "-0.243585  \n"
     ]
    }
   ],
   "source": [
    "p = p0.null().spin(measurements[0][0])\n",
    "p = vsr.Vec(p[0], p[1], p[2])\n",
    "l = (l0 ^ vsr.ni).spin(measurements[0][0])\n",
    "l = vsr.Vec(l[0], l[1], l[2])\n",
    "n = vsr.Vec(dlp[0], dlp[1], dlp[2])\n",
    "num = (vsr.Vec(dlp[0]*dlp[3], dlp[1]*dlp[3], dlp[2]*dlp[3]) - p <= n)\n",
    "den = (l <= n)\n",
    "dist = num / den\n",
    "print(dist)"
   ]
  },
  {
   "cell_type": "code",
   "execution_count": 30,
   "metadata": {
    "collapsed": false
   },
   "outputs": [
    {
     "name": "stdout",
     "output_type": "stream",
     "text": [
      "0.633535  \n"
     ]
    }
   ],
   "source": [
    "p2 = p_initial2.null().spin(measurements[0][0])\n",
    "p2 = vsr.Vec(p2[0], p2[1], p2[2])\n",
    "l2 = (l_initial2 ^ vsr.ni).spin(measurements[0][0])\n",
    "l2 = vsr.Vec(l2[0], l2[1], l2[2])\n",
    "n = vsr.Vec(dlp[0], dlp[1], dlp[2])\n",
    "num2 = (vsr.Vec(dlp[0]*dlp[3], dlp[1]*dlp[3], dlp[2]*dlp[3]) - p2 <= n)\n",
    "den2 = (l <= n)\n",
    "dist2 = num2 / den2\n",
    "print(dist2)"
   ]
  },
  {
   "cell_type": "code",
   "execution_count": 31,
   "metadata": {
    "collapsed": false
   },
   "outputs": [
    {
     "data": {
      "text/plain": [
       "0.07782330223259985"
      ]
     },
     "execution_count": 31,
     "metadata": {},
     "output_type": "execute_result"
    }
   ],
   "source": [
    "measurements[0][2]"
   ]
  },
  {
   "cell_type": "code",
   "execution_count": 32,
   "metadata": {
    "collapsed": false
   },
   "outputs": [
    {
     "name": "stdout",
     "output_type": "stream",
     "text": [
      "0.251643  \n"
     ]
    }
   ],
   "source": [
    "print (dist2 - dist) * 100"
   ]
  },
  {
   "cell_type": "code",
   "execution_count": 33,
   "metadata": {
    "collapsed": false
   },
   "outputs": [
    {
     "data": {
      "text/plain": [
       "array([ 0.11,  0.21,  0.31])"
      ]
     },
     "execution_count": 33,
     "metadata": {},
     "output_type": "execute_result"
    }
   ],
   "source": [
    "p_initial2.to_array()\n"
   ]
  },
  {
   "cell_type": "code",
   "execution_count": 34,
   "metadata": {
    "collapsed": false
   },
   "outputs": [
    {
     "ename": "NameError",
     "evalue": "name 't2' is not defined",
     "output_type": "error",
     "traceback": [
      "\u001b[1;31m---------------------------------------------------------------------------\u001b[0m",
      "\u001b[1;31mNameError\u001b[0m                                 Traceback (most recent call last)",
      "\u001b[1;32m<ipython-input-34-38bf59c0fd63>\u001b[0m in \u001b[0;36m<module>\u001b[1;34m()\u001b[0m\n\u001b[1;32m----> 1\u001b[1;33m \u001b[0ms\u001b[0m \u001b[1;33m=\u001b[0m \u001b[1;33m(\u001b[0m\u001b[0mdlp\u001b[0m \u001b[1;33m<=\u001b[0m \u001b[0mt2\u001b[0m\u001b[1;33m)\u001b[0m \u001b[1;33m/\u001b[0m \u001b[1;33m(\u001b[0m\u001b[0mvsr\u001b[0m\u001b[1;33m.\u001b[0m\u001b[0mni\u001b[0m \u001b[1;33m<=\u001b[0m \u001b[1;33m(\u001b[0m\u001b[0mdlp\u001b[0m \u001b[1;33m<=\u001b[0m \u001b[0mt2\u001b[0m\u001b[1;33m)\u001b[0m\u001b[1;33m)\u001b[0m\u001b[1;33m[\u001b[0m\u001b[1;36m0\u001b[0m\u001b[1;33m]\u001b[0m\u001b[1;33m\u001b[0m\u001b[0m\n\u001b[0m\u001b[0;32m      2\u001b[0m \u001b[0mnp\u001b[0m\u001b[1;33m.\u001b[0m\u001b[0mallclose\u001b[0m\u001b[1;33m(\u001b[0m\u001b[0mr\u001b[0m\u001b[1;33m,\u001b[0m \u001b[0mnp\u001b[0m\u001b[1;33m.\u001b[0m\u001b[0msqrt\u001b[0m\u001b[1;33m(\u001b[0m\u001b[1;33m(\u001b[0m\u001b[0ms\u001b[0m \u001b[1;33m<=\u001b[0m \u001b[0ms\u001b[0m\u001b[1;33m)\u001b[0m\u001b[1;33m[\u001b[0m\u001b[1;36m0\u001b[0m\u001b[1;33m]\u001b[0m\u001b[1;33m)\u001b[0m\u001b[1;33m)\u001b[0m\u001b[1;33m\u001b[0m\u001b[0m\n",
      "\u001b[1;31mNameError\u001b[0m: name 't2' is not defined"
     ]
    }
   ],
   "source": [
    "s = (dlp <= t2) / (vsr.ni <= (dlp <= t2))[0]\n",
    "np.allclose(r, np.sqrt((s <= s)[0]))"
   ]
  },
  {
   "cell_type": "code",
   "execution_count": null,
   "metadata": {
    "collapsed": false
   },
   "outputs": [],
   "source": [
    "print(p)"
   ]
  },
  {
   "cell_type": "code",
   "execution_count": null,
   "metadata": {
    "collapsed": false
   },
   "outputs": [],
   "source": [
    "0.001 * np.random.randn()"
   ]
  },
  {
   "cell_type": "code",
   "execution_count": null,
   "metadata": {
    "collapsed": false
   },
   "outputs": [],
   "source": [
    "for m in measurements:\n",
    "    print m[2]"
   ]
  },
  {
   "cell_type": "code",
   "execution_count": null,
   "metadata": {
    "collapsed": true
   },
   "outputs": [],
   "source": []
  },
  {
   "cell_type": "markdown",
   "metadata": {},
   "source": [
    "### "
   ]
  },
  {
   "cell_type": "code",
   "execution_count": null,
   "metadata": {
    "collapsed": true
   },
   "outputs": [],
   "source": []
  }
 ],
 "metadata": {
  "kernelspec": {
   "display_name": "Python 2",
   "language": "python",
   "name": "python2"
  },
  "language_info": {
   "codemirror_mode": {
    "name": "ipython",
    "version": 2
   },
   "file_extension": ".py",
   "mimetype": "text/x-python",
   "name": "python",
   "nbconvert_exporter": "python",
   "pygments_lexer": "ipython2",
   "version": "2.7.6"
  }
 },
 "nbformat": 4,
 "nbformat_minor": 0
}
