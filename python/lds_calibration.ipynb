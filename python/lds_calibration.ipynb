{
 "cells": [
  {
   "cell_type": "code",
   "execution_count": 1,
   "metadata": {
    "collapsed": false
   },
   "outputs": [
    {
     "name": "stdout",
     "output_type": "stream",
     "text": [
      "Populating the interactive namespace from numpy and matplotlib\n"
     ]
    },
    {
     "name": "stderr",
     "output_type": "stream",
     "text": [
      "versor/cga.py:4: RuntimeWarning: to-Python converter for vsr::Multivector<vsr::algebra<vsr::metric<4, 1, true>, double>, vsr::Basis<(short)1, (short)2, (short)4, (short)8, (short)16> > already registered; second conversion method ignored.\n",
      "  from libversor import (Biv, Bst, Cir, Con, Dil, Dll, Dlp, Dls, Drb, Drt, Drv,\n",
      "versor/cga.py:4: RuntimeWarning: to-Python converter for vsr::Multivector<vsr::algebra<vsr::metric<4, 1, true>, double>, vsr::Basis<(short)9, (short)10, (short)12> > already registered; second conversion method ignored.\n",
      "  from libversor import (Biv, Bst, Cir, Con, Dil, Dll, Dlp, Dls, Drb, Drt, Drv,\n"
     ]
    }
   ],
   "source": [
    "%pylab inline\n",
    "import sys\n",
    "sys.path.append('../build_gcc/')\n",
    "import versor as vsr\n",
    "from liblds_calibration import (LaserDistanceSensorCalibrator, transform_tangent_vector)\n",
    "from game import solver_options"
   ]
  },
  {
   "cell_type": "markdown",
   "metadata": {},
   "source": [
    "# Laser Distance Sensor Calibration"
   ]
  },
  {
   "cell_type": "markdown",
   "metadata": {},
   "source": [
    "$$ R = \\frac{1 + \\mathrm{b}\\mathrm{a}}{\\sqrt{2(1 + \\mathrm{b} \\rfloor \\mathrm{a})}} $$"
   ]
  },
  {
   "cell_type": "code",
   "execution_count": 2,
   "metadata": {
    "collapsed": true
   },
   "outputs": [],
   "source": [
    "rotor_from_vectors = lambda a, b: (b * a + 1) / np.sqrt(2*(1+(b <= a)[0]))"
   ]
  },
  {
   "cell_type": "markdown",
   "metadata": {},
   "source": [
    "## Create measurement poses"
   ]
  },
  {
   "cell_type": "code",
   "execution_count": 182,
   "metadata": {
    "collapsed": false,
    "scrolled": true
   },
   "outputs": [
    {
     "name": "stdout",
     "output_type": "stream",
     "text": [
      "0.866025  -0.5  0  0  -0.0933013  -0.0616025  -0.129904  0.075  \n"
     ]
    }
   ],
   "source": [
    "# laser direction in end-effector\n",
    "l0 = vsr.Vec(1,0,0).spin( vsr.Rot.from_bivector(vsr.Biv(1,0,0) * pi/ 3))\n",
    "p0 = vsr.Vec(0.1,0.2,0.3)\n",
    "R0 = rotor_from_vectors(vsr.Vec(1,0,0), l0)\n",
    "T0 = vsr.Trs.from_vector(p0)\n",
    "M_laser_in_ee = T0 * R0\n",
    "print(M_laser_in_ee)"
   ]
  },
  {
   "cell_type": "code",
   "execution_count": 333,
   "metadata": {
    "collapsed": true
   },
   "outputs": [],
   "source": [
    "# Laser sensor\n",
    "# lower = 0.065\n",
    "# upper = 0.095\n",
    "\n",
    "lower = 0.01\n",
    "upper = lower + 0.2\n",
    "generate_measurement_distance = lambda : (upper - lower) * np.random.rand() + lower"
   ]
  },
  {
   "cell_type": "code",
   "execution_count": 334,
   "metadata": {
    "collapsed": true
   },
   "outputs": [],
   "source": [
    "def create_point_on_sphere():\n",
    "    r = generate_measurement_distance()\n",
    "    theta = np.random.rand() * np.pi / 2.0\n",
    "    phi = np.random.rand() * np.pi * 2.0 \n",
    "    return vsr.Vec(r*np.sin(theta)*np.cos(phi),\n",
    "                   r*np.sin(theta)*np.sin(phi),\n",
    "                   r*np.cos(theta)), r"
   ]
  },
  {
   "cell_type": "markdown",
   "metadata": {},
   "source": [
    "Create point on upper hemisphere on measurement sphere:\n",
    "\n",
    "$$ \n",
    "x = r \\sin (\\theta) \\cos(\\varphi),\\\n",
    "y = r \\sin (\\theta) \\cos(\\varphi),\\ \n",
    "z = r \\cos(\\varphi) \n",
    "$$"
   ]
  },
  {
   "cell_type": "code",
   "execution_count": 335,
   "metadata": {
    "collapsed": true
   },
   "outputs": [],
   "source": [
    "def generate_measurement_pose_and_plane_and_distance(M_laser_in_ee):\n",
    "    # Model laser as tangent vector in the e_1-direction at the origin\n",
    "    lds_dir = vsr.Vec(1,0,0)\n",
    "    lds_tnv = vsr.no ^ lds_dir\n",
    "    # Model the measurement plane as plane through the orgin with\n",
    "    # normal vector \\hat{n} = e_3\n",
    "    dlp = dlp = vsr.Dlp(0,0,1,0)\n",
    "    # Create point on upper hemisphere of measurement sphere with \n",
    "    # radius equals the measurement distance\n",
    "    p, radius = create_point_on_sphere()\n",
    "    # Compute motor that aligns lds_dir with measurement vector from \n",
    "    # from point on circle to the origin\n",
    "    R = rotor_from_vectors(lds_dir, -p.unit())\n",
    "    T = vsr.Trs.from_vector(p)\n",
    "    M_on_sphere = T * R * vsr.Rot.from_bivector(vsr.Vec(1,0,0).duale() * \n",
    "                                                np.random.rand() * 2 * pi)\n",
    "    # Transform the everything the measurement plane\n",
    "    x_in_plane = np.random.rand()\n",
    "    y_in_plane = np.random.rand()\n",
    "    T_in_plane = vsr.Trs.from_vector(vsr.Vec(x_in_plane, y_in_plane, 0.0)) * vsr.Rot(1.0,0.0,0.0,0.0)\n",
    "    # Transform the plane\n",
    "    M_plane = vsr.Mot.from_dir_ang_trs(vsr.Vec(0,1,0), np.pi/4, vsr.Vec(1,1,0.5))\n",
    "    dlp_meas = dlp.spin(M_plane)\n",
    "    M2 = M_plane * T_in_plane * M_on_sphere * M_laser_in_ee.rev()   \n",
    "    return M2, dlp_meas, radius"
   ]
  },
  {
   "cell_type": "code",
   "execution_count": 336,
   "metadata": {
    "collapsed": false
   },
   "outputs": [
    {
     "data": {
      "text/plain": [
       "True"
      ]
     },
     "execution_count": 336,
     "metadata": {},
     "output_type": "execute_result"
    }
   ],
   "source": [
    "M, dlp, r = generate_measurement_pose_and_plane_and_distance(M_laser_in_ee)\n",
    "t2 = transform_tangent_vector(M * M_laser_in_ee,  (vsr.no ^ vsr.Vec(1,0,0)))\n",
    "s = (dlp <= t2) / (vsr.ni <= (dlp <= t2))[0]\n",
    "np.allclose(r, np.sqrt((s <= s)[0]))"
   ]
  },
  {
   "cell_type": "code",
   "execution_count": 337,
   "metadata": {
    "collapsed": true
   },
   "outputs": [],
   "source": [
    "measurements = [generate_measurement_pose_and_plane_and_distance(M_laser_in_ee) for i in range(1000)]"
   ]
  },
  {
   "cell_type": "code",
   "execution_count": 338,
   "metadata": {
    "collapsed": false
   },
   "outputs": [],
   "source": [
    "options = solver_options()\n",
    "options['function_tolerance'] = 1e-12\n",
    "options['parameter_tolerance'] = 1e-12\n",
    "options['max_num_iterations'] = 100\n",
    "options['num_linear_solver_threads'] = 100\n",
    "options['num_threads'] = 100"
   ]
  },
  {
   "cell_type": "code",
   "execution_count": 346,
   "metadata": {
    "collapsed": false
   },
   "outputs": [
    {
     "name": "stdout",
     "output_type": "stream",
     "text": [
      "0.866025  -0.5  0  0  -0.0939843  -0.0617856  -0.130337  0.07525  \n",
      "0.866025  -0.5  0  0  -0.0933013  -0.0616025  -0.129904  0.075  \n"
     ]
    }
   ],
   "source": [
    "# M_error = vsr.Mot.from_dir_ang_trs(vsr.Vec(1,1,1).unit(), pi/12, [0.01, 0.01, 0.01])\n",
    "# laser direction in end-effector\n",
    "l = vsr.Vec(1,0,0).unit().spin( vsr.Rot.from_bivector(vsr.Biv(1,0.0,0).unit() * (pi/3 + np.deg2rad(0)) ))\n",
    "p = vsr.Vec(0.1 + 0.001 ,0.2 + 0.001,0.3 + 0.001)\n",
    "R = rotor_from_vectors(vsr.Vec(1,0,0), l)\n",
    "T = vsr.Trs.from_vector(p)\n",
    "M_initial = T * R\n",
    "print(M_initial)\n",
    "print(M_laser_in_ee)\n",
    "lds_calibrator = LaserDistanceSensorCalibrator(M_initial, options)"
   ]
  },
  {
   "cell_type": "code",
   "execution_count": 347,
   "metadata": {
    "collapsed": false
   },
   "outputs": [],
   "source": [
    "for measurement in measurements:\n",
    "    lds_calibrator.add_residual_block(*measurement)"
   ]
  },
  {
   "cell_type": "code",
   "execution_count": 348,
   "metadata": {
    "collapsed": true
   },
   "outputs": [],
   "source": [
    "# lds_calibrator.set_parameterization('POLAR_DECOMPOSITION')"
   ]
  },
  {
   "cell_type": "code",
   "execution_count": 349,
   "metadata": {
    "collapsed": true
   },
   "outputs": [],
   "source": [
    "lds_calibrator.set_parameterization('BIVECTOR_GENERATOR_ADEPT')"
   ]
  },
  {
   "cell_type": "code",
   "execution_count": 350,
   "metadata": {
    "collapsed": true
   },
   "outputs": [],
   "source": [
    "motor, summary = lds_calibrator.solve()"
   ]
  },
  {
   "cell_type": "code",
   "execution_count": 351,
   "metadata": {
    "collapsed": false
   },
   "outputs": [
    {
     "name": "stdout",
     "output_type": "stream",
     "text": [
      "\n",
      "Solver Summary (v 1.10.0-eigen-(3.2.0)-lapack-suitesparse-(4.2.1)-openmp)\n",
      "\n",
      "                                     Original                  Reduced\n",
      "Parameter blocks                            1                        1\n",
      "Parameters                                  8                        8\n",
      "Effective parameters                        6                        6\n",
      "Residual blocks                          1000                     1000\n",
      "Residual                                 1000                     1000\n",
      "\n",
      "Minimizer                        TRUST_REGION\n",
      "\n",
      "Dense linear algebra library            EIGEN\n",
      "Trust region strategy     LEVENBERG_MARQUARDT\n",
      "\n",
      "                                        Given                     Used\n",
      "Linear solver                        DENSE_QR                 DENSE_QR\n",
      "Threads                                   100                      100\n",
      "Linear solver threads                     100                      100\n",
      "\n",
      "Cost:\n",
      "Initial                          7.322036e-02\n",
      "Final                            2.867532e-03\n",
      "Change                           7.035283e-02\n",
      "\n",
      "Minimizer iterations                       31\n",
      "Successful steps                           19\n",
      "Unsuccessful steps                         12\n",
      "\n",
      "Time (in seconds):\n",
      "Preprocessor                           0.0007\n",
      "\n",
      "  Residual evaluation                  0.0986\n",
      "  Jacobian evaluation                  3.3903\n",
      "  Linear solver                        0.0025\n",
      "Minimizer                              3.4943\n",
      "\n",
      "Postprocessor                          0.0002\n",
      "Total                                  3.4951\n",
      "\n",
      "Termination:                      CONVERGENCE (Parameter tolerance reached. Relative step_norm: 3.942879e-13 <= 1.000000e-12.)\n",
      "\n",
      "0.865454  -0.500988  0.000624718  0.000380247  -0.0934209  -0.0613133  -0.129982  0.0752462  \n"
     ]
    }
   ],
   "source": [
    "print(summary['full_report'])\n",
    "print(motor)"
   ]
  },
  {
   "cell_type": "code",
   "execution_count": 352,
   "metadata": {
    "collapsed": false
   },
   "outputs": [
    {
     "name": "stdout",
     "output_type": "stream",
     "text": [
      "0.866025  -0.5  0  0  -0.0933013  -0.0616025  -0.129904  0.075  \n"
     ]
    }
   ],
   "source": [
    "print M_laser_in_ee"
   ]
  },
  {
   "cell_type": "code",
   "execution_count": 353,
   "metadata": {
    "collapsed": false
   },
   "outputs": [
    {
     "name": "stdout",
     "output_type": "stream",
     "text": [
      "0.000454412793731\n"
     ]
    }
   ],
   "source": [
    "errors = []\n",
    "for measurement in measurements:\n",
    "    dlp = measurement[1]\n",
    "    t = transform_tangent_vector(measurement[0] * motor,  (vsr.no ^ vsr.Vec(1,0,0)))\n",
    "    s = (dlp <= t) / (vsr.ni <= (dlp <= t))[0]\n",
    "    r_est = np.sqrt((s <= s)[0])\n",
    "    errors.append(np.abs(r_est - measurement[2]))\n",
    "print(np.sum(errors) / 1000)"
   ]
  },
  {
   "cell_type": "code",
   "execution_count": 354,
   "metadata": {
    "collapsed": false
   },
   "outputs": [
    {
     "name": "stdout",
     "output_type": "stream",
     "text": [
      "0.100374  0.199926  0.300218  1  0.0700882  \n"
     ]
    }
   ],
   "source": [
    "print(vsr.Vec(0,0,0).null().spin(motor))"
   ]
  },
  {
   "cell_type": "code",
   "execution_count": 355,
   "metadata": {
    "collapsed": false
   },
   "outputs": [
    {
     "data": {
      "text/plain": [
       "[<matplotlib.lines.Line2D at 0x7efd9de03490>]"
      ]
     },
     "execution_count": 355,
     "metadata": {},
     "output_type": "execute_result"
    },
    {
     "data": {
      "image/png": "[encoded data removed]",
      "text/plain": [
       "<matplotlib.figure.Figure at 0x7efd9df76b50>"
      ]
     },
     "metadata": {},
     "output_type": "display_data"
    }
   ],
   "source": [
    "iterations = summary['iterations']\n",
    "plot([it['gradient_max_norm'] for it in iterations])"
   ]
  },
  {
   "cell_type": "code",
   "execution_count": null,
   "metadata": {
    "collapsed": true
   },
   "outputs": [],
   "source": []
  },
  {
   "cell_type": "code",
   "execution_count": null,
   "metadata": {
    "collapsed": true
   },
   "outputs": [],
   "source": []
  }
 ],
 "metadata": {
  "kernelspec": {
   "display_name": "Python 2",
   "language": "python",
   "name": "python2"
  },
  "language_info": {
   "codemirror_mode": {
    "name": "ipython",
    "version": 2
   },
   "file_extension": ".py",
   "mimetype": "text/x-python",
   "name": "python",
   "nbconvert_exporter": "python",
   "pygments_lexer": "ipython2",
   "version": "2.7.6"
  }
 },
 "nbformat": 4,
 "nbformat_minor": 0
}
