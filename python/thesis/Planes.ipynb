{
 "cells": [
  {
   "cell_type": "code",
   "execution_count": 12,
   "metadata": {
    "collapsed": true
   },
   "outputs": [],
   "source": [
    "from __future__ import print_function"
   ]
  },
  {
   "cell_type": "code",
   "execution_count": 13,
   "metadata": {
    "collapsed": true
   },
   "outputs": [],
   "source": [
    "import sys\n",
    "sys.path.append('../')\n",
    "sys.path.append('../../build/')"
   ]
  },
  {
   "cell_type": "code",
   "execution_count": 14,
   "metadata": {
    "collapsed": false
   },
   "outputs": [
    {
     "name": "stdout",
     "output_type": "stream",
     "text": [
      "Populating the interactive namespace from numpy and matplotlib\n"
     ]
    },
    {
     "name": "stderr",
     "output_type": "stream",
     "text": [
      "WARNING: pylab import has clobbered these variables: ['Inf']\n",
      "`%matplotlib` prevents importing * from pylab and numpy\n"
     ]
    }
   ],
   "source": [
    "%pylab inline\n",
    "np.set_printoptions(precision=4, suppress=True)"
   ]
  },
  {
   "cell_type": "code",
   "execution_count": 15,
   "metadata": {
    "collapsed": false
   },
   "outputs": [],
   "source": [
    "import seaborn as sns\n",
    "import pandas as pd\n",
    "from matplotlib.ticker import MaxNLocator"
   ]
  },
  {
   "cell_type": "code",
   "execution_count": 16,
   "metadata": {
    "collapsed": false
   },
   "outputs": [],
   "source": [
    "import versor as vsr\n",
    "from versor.drawing import *\n",
    "from motor_estimation import MotorEstimationSolver\n",
    "from game import VDMotorEstimationSolver"
   ]
  },
  {
   "cell_type": "markdown",
   "metadata": {},
   "source": [
    "# Ground truth motor"
   ]
  },
  {
   "cell_type": "code",
   "execution_count": 17,
   "metadata": {
    "collapsed": false
   },
   "outputs": [
    {
     "name": "stdout",
     "output_type": "stream",
     "text": [
      "Mot: [ 0.87 0 -0.5 0 -0.68 -0.43 -0.18 -0.25 ]\n",
      "Mot: [ 1 0 0.031 0 0.0048 0.005 0.0052 -0.00016 ]\n"
     ]
    }
   ],
   "source": [
    "motor = vsr.Vec(1,1,1).trs() * vsr.Rot(vsr.Biv(0,1,0) * np.pi/6.0)\n",
    "noise_motor = vsr.Vec(-0.01,-0.01,-0.01).trs() * vsr.Rot(vsr.Biv(0,1,0) * (-np.pi/100))\n",
    "print(motor)\n",
    "print(noise_motor)"
   ]
  },
  {
   "cell_type": "markdown",
   "metadata": {},
   "source": [
    "# Dataset"
   ]
  },
  {
   "cell_type": "code",
   "execution_count": 18,
   "metadata": {
    "collapsed": true
   },
   "outputs": [],
   "source": [
    "n_planes = 10\n",
    "planes_a = []\n",
    "for i in range(10):\n",
    "    dir_vec = np.random.normal(0.0, 0.8, 4)\n",
    "    dir_vec = dir_vec / np.linalg.norm(dir_vec)\n",
    "    distance = np.random.normal(0.0, 0.8,1)\n",
    "    arr = dir_vec + distance\n",
    "    planes_a.append(vsr.Dlp(dir_vec[0],dir_vec[1],dir_vec[2],distance[0]))\n",
    "planes_b = [plane.spin(motor) for plane in planes_a]"
   ]
  },
  {
   "cell_type": "code",
   "execution_count": 19,
   "metadata": {
    "collapsed": false
   },
   "outputs": [],
   "source": [
    "planes_b_noisy = [plane.spin(motor).spin(noise_motor) for plane in planes_a]"
   ]
  },
  {
   "cell_type": "markdown",
   "metadata": {},
   "source": [
    "# Estimate motor\n",
    "## No noise"
   ]
  },
  {
   "cell_type": "markdown",
   "metadata": {},
   "source": [
    "### 4 residuals diff"
   ]
  },
  {
   "cell_type": "code",
   "execution_count": 28,
   "metadata": {
    "collapsed": false
   },
   "outputs": [
    {
     "name": "stdout",
     "output_type": "stream",
     "text": [
      "Ceres Solver Report: Iterations: 4, Initial cost: 7.079740e+00, Final cost: 1.650210e-20, Termination: CONVERGENCE\n",
      "Mot: [ 0.87 6.7e-16 -0.5 -5.5e-14 -0.68 -0.43 -0.18 -0.25 ]\n"
     ]
    }
   ],
   "source": [
    "initial_motor = vsr.Mot(1.0, 0.0, 0.0, 0.0, 0.0, 0.0, 0.0, 0.0)\n",
    "mes = MotorEstimationSolver(initial_motor)\n",
    "for a, b in zip(planes_a, planes_b):\n",
    "    mes.add_dual_plane_difference_residual_block(a,b)\n",
    "mes.set_parameterization('BIVECTOR_GENERATOR')\n",
    "mes.linear_solver_type = 'DENSE_QR'\n",
    "(em_planes_diff_res, summary_planes_diff_res, _) = mes.solve()\n",
    "print(summary_planes_diff_res['brief_report'])\n",
    "print(em_planes_diff_res)"
   ]
  },
  {
   "cell_type": "code",
   "execution_count": 32,
   "metadata": {
    "collapsed": false
   },
   "outputs": [
    {
     "data": {
      "text/plain": [
       "True"
      ]
     },
     "execution_count": 32,
     "metadata": {},
     "output_type": "execute_result"
    }
   ],
   "source": [
    "np.allclose(em_planes_diff_res, motor)"
   ]
  },
  {
   "cell_type": "markdown",
   "metadata": {},
   "source": [
    "### 4 residuals v"
   ]
  },
  {
   "cell_type": "code",
   "execution_count": 35,
   "metadata": {
    "collapsed": false
   },
   "outputs": [
    {
     "name": "stdout",
     "output_type": "stream",
     "text": [
      "Ceres Solver Report: Iterations: 5, Initial cost: 1.410367e+01, Final cost: 1.966713e-16, Termination: CONVERGENCE\n",
      "Mot: [ 0.87 1.7e-09 -0.5 -6.4e-09 -0.68 -0.43 -0.18 -0.25 ]\n"
     ]
    }
   ],
   "source": [
    "initial_motor = vsr.Mot(1.0, 0.0, 0.0, 0.0, 0.0, 0.0, 0.0, 0.0)\n",
    "mes = MotorEstimationSolver(initial_motor)\n",
    "for a, b in zip(planes_a, planes_b):\n",
    "    mes.add_dual_plane_angle_error_residual_block(a,b)\n",
    "mes.set_parameterization('BIVECTOR_GENERATOR')\n",
    "mes.linear_solver_type = 'DENSE_QR'\n",
    "(em_planes_v_res, summary_planes_v_res, _) = mes.solve()\n",
    "print(summary_planes_v_res['brief_report'])\n",
    "print(em_planes_v_res)"
   ]
  },
  {
   "cell_type": "code",
   "execution_count": 33,
   "metadata": {
    "collapsed": false
   },
   "outputs": [
    {
     "data": {
      "text/plain": [
       "True"
      ]
     },
     "execution_count": 33,
     "metadata": {},
     "output_type": "execute_result"
    }
   ],
   "source": [
    "np.allclose(em_planes_v_res, motor)"
   ]
  },
  {
   "cell_type": "markdown",
   "metadata": {
    "collapsed": true
   },
   "source": [
    "### Plots"
   ]
  },
  {
   "cell_type": "code",
   "execution_count": 38,
   "metadata": {
    "collapsed": false
   },
   "outputs": [],
   "source": [
    "sns.set_style('whitegrid')\n",
    "sns.set_context('paper')"
   ]
  },
  {
   "cell_type": "code",
   "execution_count": 41,
   "metadata": {
    "collapsed": false
   },
   "outputs": [
    {
     "data": {
      "image/png": "[encoded data removed]",
      "text/plain": [
       "<matplotlib.figure.Figure at 0x7f7510f4e290>"
      ]
     },
     "metadata": {},
     "output_type": "display_data"
    }
   ],
   "source": [
    "fig, ax = plt.subplots(1)\n",
    "ax.plot(pd.DataFrame(summary_planes_diff_res['iterations'])['cost'], label=r'diff')\n",
    "ax.plot(pd.DataFrame(summary_planes_v_res['iterations'])['cost'], label=r'support')\n",
    "ax.semilogy()\n",
    "legend = ax.legend(frameon=False)\n",
    "ax.xaxis.set_major_locator(MaxNLocator(integer=True))\n",
    "plt.xlabel(r'Iteration $k$')\n",
    "plt.ylabel(r'Cost')\n",
    "# plt.savefig('planes-nonoise.pdf')"
   ]
  },
  {
   "cell_type": "markdown",
   "metadata": {},
   "source": [
    "## Noise"
   ]
  },
  {
   "cell_type": "markdown",
   "metadata": {},
   "source": [
    "### 4 residuals diff"
   ]
  },
  {
   "cell_type": "code",
   "execution_count": 48,
   "metadata": {
    "collapsed": false
   },
   "outputs": [
    {
     "name": "stdout",
     "output_type": "stream",
     "text": [
      "Ceres Solver Report: Iterations: 4, Initial cost: 6.757876e+00, Final cost: 3.336436e-21, Termination: CONVERGENCE\n",
      "Mot: [ 0.88 9.2e-16 -0.47 -2.4e-14 -0.68 -0.44 -0.16 -0.23 ]\n"
     ]
    }
   ],
   "source": [
    "initial_motor = vsr.Mot(1.0, 0.0, 0.0, 0.0, 0.0, 0.0, 0.0, 0.0)\n",
    "mes = MotorEstimationSolver(initial_motor)\n",
    "for a, b in zip(planes_a, planes_b_noisy):\n",
    "    mes.add_dual_plane_difference_residual_block(a,b)\n",
    "mes.set_parameterization('BIVECTOR_GENERATOR')\n",
    "mes.linear_solver_type = 'DENSE_QR'\n",
    "(em_planes_diff_res_noise, summary_planes_diff_res_noise, _) = mes.solve()\n",
    "print(summary_planes_diff_res_noise['brief_report'])\n",
    "print(em_planes_diff_res_noise)"
   ]
  },
  {
   "cell_type": "markdown",
   "metadata": {},
   "source": [
    "### 4 residuals v"
   ]
  },
  {
   "cell_type": "code",
   "execution_count": 69,
   "metadata": {
    "collapsed": false
   },
   "outputs": [
    {
     "name": "stdout",
     "output_type": "stream",
     "text": [
      "Ceres Solver Report: Iterations: 5, Initial cost: 1.282907e+01, Final cost: 8.225608e-16, Termination: CONVERGENCE\n",
      "Mot: [ 0.88 -3.5e-10 -0.47 2.2e-09 -0.68 -0.44 -0.16 -0.23 ]\n"
     ]
    }
   ],
   "source": [
    "initial_motor = vsr.Mot(1.0, 0.0, 0.0, 0.0, 0.0, 0.0, 0.0, 0.0)\n",
    "mes = MotorEstimationSolver(initial_motor)\n",
    "for a, b in zip(planes_a, planes_b_noisy):\n",
    "    mes.add_dual_plane_angle_error_residual_block(a,b)\n",
    "mes.set_parameterization('BIVECTOR_GENERATOR')\n",
    "mes.linear_solver_type = 'DENSE_QR'\n",
    "(em_planes_v_res_noise, summary_planes_v_res_noise, _) = mes.solve()\n",
    "print(summary_planes_v_res_noise['brief_report'])\n",
    "print(em_planes_v_res_noise)"
   ]
  },
  {
   "cell_type": "code",
   "execution_count": 70,
   "metadata": {
    "collapsed": false
   },
   "outputs": [
    {
     "data": {
      "text/plain": [
       "True"
      ]
     },
     "execution_count": 70,
     "metadata": {},
     "output_type": "execute_result"
    }
   ],
   "source": [
    "np.allclose(em_planes_diff_res_noise, em_planes_v_res_noise)"
   ]
  },
  {
   "cell_type": "markdown",
   "metadata": {},
   "source": [
    "### Valkenburg and Dorst"
   ]
  },
  {
   "cell_type": "code",
   "execution_count": 53,
   "metadata": {
    "collapsed": false
   },
   "outputs": [
    {
     "name": "stdout",
     "output_type": "stream",
     "text": [
      "Mot: [ -0.88 2.2e-17 0.47 -1.3e-18 0 0 0 0 ]\n"
     ]
    }
   ],
   "source": [
    "vd = VDMotorEstimationSolver()\n",
    "vd.add_dual_plane_observations(planes_a, planes_b_noisy)\n",
    "vd_em_planes_noise = vd.solve()\n",
    "print(vd_em_planes_noise)"
   ]
  },
  {
   "cell_type": "code",
   "execution_count": 54,
   "metadata": {
    "collapsed": false
   },
   "outputs": [
    {
     "name": "stdout",
     "output_type": "stream",
     "text": [
      "Mot: [ 0.87 -4.8e-17 -0.5 2.5e-18 0 0 0 0 ]\n"
     ]
    }
   ],
   "source": [
    "vd = VDMotorEstimationSolver()\n",
    "vd.add_dual_plane_observations(planes_a, planes_b)\n",
    "vd_em_planes = vd.solve()\n",
    "print(vd_em_planes)"
   ]
  },
  {
   "cell_type": "code",
   "execution_count": 68,
   "metadata": {
    "collapsed": false
   },
   "outputs": [
    {
     "data": {
      "image/png": "[encoded data removed]",
      "text/plain": [
       "<matplotlib.figure.Figure at 0x7f7510b193d0>"
      ]
     },
     "metadata": {},
     "output_type": "display_data"
    }
   ],
   "source": [
    "fig, ax = plt.subplots(1)\n",
    "ax.plot(pd.DataFrame(summary_planes_diff_res_noise['iterations'])['cost'], label=r'diff')\n",
    "ax.plot(pd.DataFrame(summary_planes_v_res_noise['iterations'])['cost'], label=r'support')\n",
    "ax.semilogy()\n",
    "legend = ax.legend(frameon=False)\n",
    "ax.xaxis.set_major_locator(MaxNLocator(integer=True))\n",
    "plt.xlabel(r'Iteration $k$')\n",
    "plt.ylabel(r'Cost')\n",
    "plt.savefig('planes-noise.pdf')"
   ]
  },
  {
   "cell_type": "markdown",
   "metadata": {},
   "source": [
    "# Visualization"
   ]
  },
  {
   "cell_type": "code",
   "execution_count": 72,
   "metadata": {
    "collapsed": false
   },
   "outputs": [],
   "source": [
    "scene = Scene(children=\n",
    "#               [plane_mesh(plane,color=Colors.HOTPINK) for plane in planes_a[:2]] +\\\n",
    "              [plane_mesh(plane,color=Colors.LIGHTSKYBLUE) for plane in planes_b[:2]] +\\\n",
    "              [plane_mesh(plane,color='palegreen') for plane in planes_b_noisy[:2]] +\\\n",
    "              \n",
    "#               [plane_mesh(plane.spin(vd_em_planes),color=Colors.HOTPINK) for plane in planes_a[:2]] +\\\n",
    "              [plane_mesh(plane.spin(em_planes_diff_res_noise), color=Colors.HOTPINK) for plane in planes_a[:2]] +\\\n",
    "              [frame_mesh(),AmbientLight(color='#cccccc')])\n",
    "\n",
    "camera = PerspectiveCamera(position=[3, -3, 3])\n",
    "renderer = Renderer(camera=camera, \n",
    "                    scene=scene, \n",
    "                    controls=[TrackballControls(controlling=camera)],\n",
    "                    background = 'white',\n",
    "                    width='960',\n",
    "                    height='512')\n",
    "renderer.width = '1024'\n",
    "renderer.height = '768'\n",
    "display(renderer)"
   ]
  },
  {
   "cell_type": "code",
   "execution_count": null,
   "metadata": {
    "collapsed": true
   },
   "outputs": [],
   "source": []
  }
 ],
 "metadata": {
  "kernelspec": {
   "display_name": "Python 2",
   "language": "python",
   "name": "python2"
  },
  "language_info": {
   "codemirror_mode": {
    "name": "ipython",
    "version": 2
   },
   "file_extension": ".py",
   "mimetype": "text/x-python",
   "name": "python",
   "nbconvert_exporter": "python",
   "pygments_lexer": "ipython2",
   "version": "2.7.11+"
  },
  "widgets": {
   "state": {
    "00a61b3987164d66afdf7d390ccc26e7": {
     "views": []
    },
    "00f0d607303b4457b7b5e3d6db300a08": {
     "views": []
    },
    "01403f24b14842aa82b6739daaabf5cf": {
     "views": []
    },
    "05c472c6d5fe440a953ee7a9e1b6bc8f": {
     "views": []
    },
    "05f35eccf3b645d09885d9b46391c897": {
     "views": []
    },
    "0b4843d096ab43319cb6116d66cbfabf": {
     "views": []
    },
    "0c3970680984408c98fa41bc0b91e8c4": {
     "views": []
    },
    "0cd24898e0c24cf199d0725c419b285d": {
     "views": []
    },
    "0dc3b508227f46a3af610b6dcd1d99d4": {
     "views": []
    },
    "0e1e7182fb1a4b089cc7a13dd2eef4e4": {
     "views": []
    },
    "0f27335cb897459e9d60d305b60d2a21": {
     "views": []
    },
    "10cdc2f9aa524ec19592ca103b7d6376": {
     "views": []
    },
    "113ae4a29bfa475ab86229bf77e4aaf7": {
     "views": []
    },
    "137f3a1b972946e5b8e79aad3e3e0d8f": {
     "views": []
    },
    "13f6f6db85744a5e8cd9cefc76dc11e0": {
     "views": []
    },
    "141cff5bcf8f47d98cd45fc907506e96": {
     "views": []
    },
    "1427dec2b56f4404bb33905d9438b490": {
     "views": []
    },
    "14f6eb518d2447dc8658c6d363ccd194": {
     "views": []
    },
    "163afc729a0a4071b05e462b04adaee8": {
     "views": []
    },
    "16dabbb7af8140aeb76b503c35c0b1e0": {
     "views": []
    },
    "18b059bbe3154f889a175186ebd93195": {
     "views": []
    },
    "18f798f299a548a7acc43ab9775e5249": {
     "views": []
    },
    "1932a008423e4654862f9570dfbc581f": {
     "views": []
    },
    "1ac3c658fc43430285ab4dfdf5853ead": {
     "views": []
    },
    "1b2f81edd0ca46b5b7760d4988170246": {
     "views": []
    },
    "1b8562e5bfc14ab796a5ad607a4eb21d": {
     "views": []
    },
    "1b87d07b78b24d1b893096d01d607359": {
     "views": []
    },
    "1c16482d2f774d35b5ec17ab6db5b2a3": {
     "views": []
    },
    "1c92c4bb6e5c4b7ab7d322a3389e1834": {
     "views": []
    },
    "1ce998e50fbe4efe9371e15435ab437b": {
     "views": []
    },
    "202455b7ce6b42aaa996853d9ee7c769": {
     "views": []
    },
    "2354972557ae4d69b6d14f1c52c5f268": {
     "views": []
    },
    "24ad5ce70f634457846235b5962a6c64": {
     "views": []
    },
    "2514b230ede34348a8a270187f0d5725": {
     "views": []
    },
    "25158fafe8ff46468a4cce94d71f5b56": {
     "views": []
    },
    "2525aff21f034e9eb0479f254c5cb629": {
     "views": []
    },
    "253088c216da47dbb9f50290544887d3": {
     "views": []
    },
    "2695003bc942496bbf1fe8b58bd0b183": {
     "views": []
    },
    "26b30e555a83454c87c71b3c19e9fc4a": {
     "views": []
    },
    "27c732e73b5a4847a245ab9a9828d31b": {
     "views": []
    },
    "293722de412b48ad9b451dd82ae097fe": {
     "views": []
    },
    "2ba6f02c29594c7fb78c5e8b8574ab3d": {
     "views": []
    },
    "2c5da9c420c741f088e2c6882fdeb595": {
     "views": []
    },
    "2d27e1bda6f74f65a0ef45ebad6f47d4": {
     "views": [
      {
       "cell_index": 31
      }
     ]
    },
    "2e68ecc34ef74bbab9bf7e09a143d28b": {
     "views": []
    },
    "305a62587e1f4b0b962d5119d9b4cded": {
     "views": []
    },
    "30ea3aaa80e147648ae214f0ba5948ba": {
     "views": []
    },
    "31a5718f63de4757be074169aeefde90": {
     "views": []
    },
    "32130d83a7b243a28e7b04b87f221b2a": {
     "views": []
    },
    "3235423d35bb48b2bf9ea3f73c921d26": {
     "views": []
    },
    "33a9b4081fc34bb780074ab1f59771bd": {
     "views": []
    },
    "340d2c390f6e4aa5b1c5a880783bb3c2": {
     "views": []
    },
    "34c146e081014a579e36bb12693b8f6d": {
     "views": []
    },
    "35498608aef24b1ab87ca8c6ba8e0902": {
     "views": []
    },
    "368a520783c847b8a4b3a9cd0895f31d": {
     "views": []
    },
    "39101548651d4b419e87478f35680cab": {
     "views": []
    },
    "3af7a5a4dc824ac3b25a8bb5cb83b8af": {
     "views": []
    },
    "3ca80a67e50440ae96e435e9c2dd9b2e": {
     "views": []
    },
    "3e6766fd9c3f4e08bfdd1dcd93c62763": {
     "views": []
    },
    "3ef54469b83c4bf3a3ad1fc2784444f6": {
     "views": []
    },
    "405c43a1a1114c62bc4d3805241c0ca3": {
     "views": []
    },
    "421bd0154ca04d5a94f1da6f954abd0b": {
     "views": []
    },
    "42fba95d445241ebbb9bc1f06da6317f": {
     "views": []
    },
    "43a9466136354e26a1b46082e4036f5c": {
     "views": []
    },
    "44a56690305a40f99d79e771109ddb5b": {
     "views": []
    },
    "464ac34ebb87440f9b0ba08f7e6201b6": {
     "views": []
    },
    "48dbe7660e6144a3a653f4a614c22514": {
     "views": []
    },
    "4ad91504287b4a988efda624a8da0297": {
     "views": []
    },
    "4cd85d17c099411e99dc9ce2773db576": {
     "views": []
    },
    "4d88404f9dc548a985e17edb6c753c51": {
     "views": []
    },
    "4dd03432f20e43c2aff9ce14099f026c": {
     "views": []
    },
    "4e809f51b9b542ee99dc4b2a0ddb0ff8": {
     "views": []
    },
    "4eca41313d2b4462959f06278612f1ce": {
     "views": []
    },
    "4efd4f8b4da541c1a53f6bb1a5a5b39c": {
     "views": []
    },
    "4fe2f38ad31248d980f518359bf587bf": {
     "views": []
    },
    "5033102e522941ab8ac19c777727d81c": {
     "views": []
    },
    "50dd361bf19c47b2b9c7aff89add38e4": {
     "views": []
    },
    "535b563ea8464e92997b5b3031e5a04f": {
     "views": []
    },
    "5393240173164992a88e9a252d95c8d8": {
     "views": []
    },
    "53ab08aa795142d7a5d770ae793f5ba7": {
     "views": []
    },
    "5423a1110c684d54a252d184e6645048": {
     "views": []
    },
    "56d7a84c93004c9ea5c7e9490be5b7c1": {
     "views": []
    },
    "57f365092c6341b68c7580cfb0cb6930": {
     "views": []
    },
    "588e13d94ffa458288f8634d047d65fc": {
     "views": []
    },
    "5a89f363fd9a4cd09dcd6c115c9d9718": {
     "views": []
    },
    "5bf1bbd2858845fcabc1d9f136c8381d": {
     "views": []
    },
    "5c78e113f91744108afa01cc015f73bb": {
     "views": []
    },
    "5c942e0d41a54a55adb7cb23e873f670": {
     "views": []
    },
    "5d05ac2355924542a19f6c2a2e50e342": {
     "views": []
    },
    "5dcb363228764d8bab2358492dfda2e7": {
     "views": []
    },
    "5e95f61d38924f5bbbcfe469be153e82": {
     "views": []
    },
    "5f8f9163378347f8b19153551fc9d22a": {
     "views": []
    },
    "6045fde0b5534ac2ba4260910503c83c": {
     "views": []
    },
    "6089a21fe25c4f479272dc533b31c4dc": {
     "views": []
    },
    "6162994f2cfe4d5e9a53aa6274cdeb3f": {
     "views": []
    },
    "62389583938c40c486de1d873f1721ef": {
     "views": []
    },
    "63c72f37c16a4551b0359bb04960316d": {
     "views": []
    },
    "63c739e6865c410bb0dee9156ddb9c5d": {
     "views": []
    },
    "64246633f98b419f991ec82573b7ab58": {
     "views": []
    },
    "67334ab0f02a458181ed773c1be20f8e": {
     "views": []
    },
    "69b01b559296457685b37c156f648060": {
     "views": []
    },
    "69e4c86f6d6049969e4f2525b31af49b": {
     "views": []
    },
    "69f8d14258ef44ccad6c29b5868abac6": {
     "views": []
    },
    "6a40a079c4a44425a2deccdd7961f79d": {
     "views": []
    },
    "6a78a14607114d4c847e3c08c0a16ad6": {
     "views": []
    },
    "6aab5f6f66094028996e4748f5f824d9": {
     "views": []
    },
    "6bd48005ffef419289e4d84b338bee63": {
     "views": []
    },
    "6d23e8a84ab340389d4cdb7ee618ad58": {
     "views": []
    },
    "6dcef3ff83a643cb853ea737dc6ae3cb": {
     "views": []
    },
    "6e245a1b833945608a925b52c3958d8f": {
     "views": []
    },
    "6e6aadb561334073a5ea03473500c2cb": {
     "views": []
    },
    "6f75d3c1992d44f58ddb6b3119999442": {
     "views": []
    },
    "6f8c166ca7544dd4822085eae0c69411": {
     "views": []
    },
    "6fa5cca8e2a04001b4fbc56950c26064": {
     "views": []
    },
    "7087d33bff7741bbb0b8539ce7891e40": {
     "views": []
    },
    "710f3c9fe81d4519a0bf4c7a14fe92dd": {
     "views": []
    },
    "74bf45adafe3455584fc4f5ce02c9400": {
     "views": []
    },
    "7822c06095854499bf5b628c42b58359": {
     "views": []
    },
    "7abe80d613bf4c87917b8888a16b80b7": {
     "views": []
    },
    "7c5ecaa5ab5b4beb813fd44c39459cec": {
     "views": []
    },
    "7c95596fa0394eebaa4f461aa46f7ca3": {
     "views": []
    },
    "7cb6f4fa1cd04deb91d47bd3f992b6cb": {
     "views": []
    },
    "7f1dd108a9874f7ab3f8d1ed67728eae": {
     "views": []
    },
    "7fad214c7be8416881fcdad06f4b74df": {
     "views": []
    },
    "80320c3a63d54e70b9ee94902adbdce8": {
     "views": []
    },
    "80a881f2a2d34a06a48c4e0c745df38c": {
     "views": []
    },
    "8306bdc56ec847c187a2ba02eaa85287": {
     "views": []
    },
    "8397edc3cf314439b19aa22f9b658707": {
     "views": []
    },
    "8437ea425f204c13becd5dca3480c504": {
     "views": []
    },
    "84bf3f683c714b379dc8346d196897a8": {
     "views": []
    },
    "85f5e19b33324277a8142485c6741e37": {
     "views": []
    },
    "875f0bf35a5b4316b7e9c5d9f0468320": {
     "views": []
    },
    "886901ec640b403190fab585bdec6b64": {
     "views": []
    },
    "89d084fa6bb44ea1958eed21278b8b3e": {
     "views": []
    },
    "89ebeef6ba7948bc9500c8ca138c8d07": {
     "views": []
    },
    "8be6e251a2234c48b1c0a1ff7e343778": {
     "views": []
    },
    "8f367fe05ae14534998c9ca7d9c5ea51": {
     "views": []
    },
    "9076e88846fc4bf0bf24dedc8a587433": {
     "views": []
    },
    "94a3764743d1473bb4dafe243339fb7a": {
     "views": []
    },
    "94e0e06f9c3145ad8ed697e1a73dd13d": {
     "views": []
    },
    "95f5adb9c11b49978cafe0343cd794dc": {
     "views": []
    },
    "95f7b74cee9e4b268c08f3249c4673f7": {
     "views": []
    },
    "962fd89b3aa046db9fe64ac78f7210e2": {
     "views": []
    },
    "96334b2d737b4803a19b770089a53962": {
     "views": []
    },
    "975edc79d9184718b112cb253c0fb868": {
     "views": []
    },
    "97e3d908834a4ebf904834dd2395bbeb": {
     "views": []
    },
    "987e27885cde41d7a8770cb1bd28589c": {
     "views": []
    },
    "9899145a5fa34624acf462859ed7e82b": {
     "views": []
    },
    "9baebae7473846d184e147a1c1f9af8e": {
     "views": []
    },
    "9eadbcf0074540a18206a3375b7cc053": {
     "views": []
    },
    "9f9fa54b0b054419a85b4011597340d8": {
     "views": []
    },
    "9fc76487f327490c89d8a39833ebf563": {
     "views": []
    },
    "a0abb3600ca34b0f9a35049876e90cc5": {
     "views": []
    },
    "a19acdf070c64923b5c9d3e05af84a52": {
     "views": []
    },
    "a1adf8d91e304d06b9ca5f4787963ca2": {
     "views": []
    },
    "a2737c1f07b84625a3524d6212175ab6": {
     "views": []
    },
    "a46461614c8b42f1b01a3f2c8204f736": {
     "views": []
    },
    "a4b45382520244f9a6e78702ce731abd": {
     "views": []
    },
    "a4e82ae6ba2f475180e9e72aada591c1": {
     "views": []
    },
    "a5274995b6b346f5b1738f2927921778": {
     "views": []
    },
    "a5d0e36ab6364b529d5f9b5650b146e4": {
     "views": []
    },
    "a63d97dc65bf428dbd8542df62218c01": {
     "views": []
    },
    "a7d6fd3d66ea4299bbd0c1052dbf4e56": {
     "views": []
    },
    "a877fac616204e16b3a607d891831935": {
     "views": []
    },
    "a95d025169264bf4b7394b4b4d10162c": {
     "views": []
    },
    "aa0f494905f64395a24653cdf217917f": {
     "views": []
    },
    "aa3592cbe3954fd0ac1b00ff170d7738": {
     "views": []
    },
    "aa8b3776a86c4a369e4622ddb8372e8d": {
     "views": []
    },
    "ab0982c9a4c1496580b384d0b4f8bdb9": {
     "views": []
    },
    "ab1c6f6b59324b8888b20e6f32f4a0ee": {
     "views": []
    },
    "ac48896845d640cbab51e86f3fd621f2": {
     "views": []
    },
    "ae68af0390724e8da40ef81e223d3253": {
     "views": []
    },
    "b2f3527f7fea4e1388387c0e0f795a93": {
     "views": []
    },
    "b30c488dab5e4a1883b1bbee2767fb4a": {
     "views": []
    },
    "b36390cbdfaf4d67ae62ae4ea1716e2d": {
     "views": []
    },
    "b781402ca92b406eb50ffeb49e310918": {
     "views": []
    },
    "b845378409424831a8e16c1e79394518": {
     "views": []
    },
    "b8b1ca850cdc42fb8880a9a6302446d1": {
     "views": []
    },
    "b8c4f2b2730e4fbe8585001823478a9a": {
     "views": []
    },
    "b95ba36e3e184007a8f1ac54e4c142a9": {
     "views": []
    },
    "b9b49283503c4a5c911cc4a39c432146": {
     "views": []
    },
    "b9c3db70d2ef4730bd13aa162d5a0502": {
     "views": []
    },
    "ba1110801ec94fdc8fa04823af0c448b": {
     "views": []
    },
    "bb154eb823b94ba5a7ae143208f6ff4b": {
     "views": []
    },
    "bb8a5199b79344a19ac933ba7e589b97": {
     "views": []
    },
    "bc4dc734f5d14f11b8f5e5d464b5d2c6": {
     "views": []
    },
    "bddb6673a1274fea94a0fd52d0a2e327": {
     "views": []
    },
    "be668a3854d544ebac7bae42765dff62": {
     "views": []
    },
    "bee63dfad1984625b8ca801f7acceae6": {
     "views": []
    },
    "bf3de86785a247fe9dc93d331a4ddf5c": {
     "views": []
    },
    "bfcc8d5a66e74b97b2858b51b65fd60c": {
     "views": []
    },
    "c03a6dabfd414c68a2bcd8d709b19626": {
     "views": []
    },
    "c094ff31f652445cbc32f9e1128a599e": {
     "views": []
    },
    "c0a57c77a09a442e90ec82a2ed555342": {
     "views": []
    },
    "c17cd559342443fb9f61ba2034f7f9cf": {
     "views": []
    },
    "c2a556c986cc49d1ae46ae72cda254b9": {
     "views": []
    },
    "c372faff9bbc4cc197c43e5b21142abb": {
     "views": []
    },
    "c389c1a1e0454472bd5218d6f6da9136": {
     "views": []
    },
    "c567e98ec62648feb0872f5c75c6dafc": {
     "views": []
    },
    "c5c8a52dcb5143848a8c4938e010cea3": {
     "views": []
    },
    "c74beb836d7649289ef11990ecb73350": {
     "views": []
    },
    "c8986c2e5cd34ed7a02c65f907022f71": {
     "views": []
    },
    "cacbab0d778a4d42940fb1fb9f63a0d7": {
     "views": []
    },
    "cad5ecde882f44c599ec3452c3906930": {
     "views": []
    },
    "cafbf77aa2324914a04f70c1c37f38de": {
     "views": []
    },
    "cdacaa6780ef42179e6e901d05a708e2": {
     "views": []
    },
    "ce0127424bc6446dbe6f4c75317edcc8": {
     "views": []
    },
    "ce50d20e38074e109049f31b9f42022c": {
     "views": []
    },
    "d07fa034ce0048efb679a760cf9c3edb": {
     "views": []
    },
    "d091b2c0a1cd44b882b631e32f80829e": {
     "views": []
    },
    "d0edad6eeb3e4621a8abb4e4fd99eead": {
     "views": []
    },
    "d2650f466e6b4c03ae6cc0b62ed109a2": {
     "views": []
    },
    "d45136c0267b4431b7c959e727dd9dac": {
     "views": []
    },
    "d48e20539cef417eb2aa1e92543ef40a": {
     "views": []
    },
    "d576d0eb0c984d8ab987606db2d7ecc9": {
     "views": []
    },
    "d5a8c006376a49539e8932a7fb6da6da": {
     "views": []
    },
    "d7112ac465ae4a6e950e888241413600": {
     "views": []
    },
    "d74c2987cf5a4341848ddd918bb37d30": {
     "views": []
    },
    "d762a6aed29b41f0a12a54e78c9fc59e": {
     "views": []
    },
    "d7f459d0a8794468b20cdcccb77dcd7b": {
     "views": []
    },
    "d8152f4264564fd08618898d42c0ab3f": {
     "views": []
    },
    "d8344884d3e141cfa028a4c8c13f1e45": {
     "views": []
    },
    "d8de7aa0bc6947c7b1bc34c66a980eba": {
     "views": []
    },
    "d91b8848970748e7ab18d6d73d332a7c": {
     "views": []
    },
    "db12b41eaf8a4360865ce31a9e71a4c6": {
     "views": []
    },
    "dbc988be685449c98754ceb69b3d7a31": {
     "views": []
    },
    "dc19f66bdd334c548b5bf1dd926c5b10": {
     "views": []
    },
    "dce05f367aa543d5aff81e0ddd190d5c": {
     "views": []
    },
    "dd2b7c60c40442c78512594be6fa5eaf": {
     "views": []
    },
    "dd4a6307ea7d416bb56d03d34122d013": {
     "views": []
    },
    "e0e93c52b1924148b7d80ea3dfcd3f91": {
     "views": []
    },
    "e1fa8d9fc7554f5ca7578cc00de7e325": {
     "views": []
    },
    "e2530860d5304048aeaca7462a56907f": {
     "views": []
    },
    "e37ee1958d8b4e93844e195d3d64006b": {
     "views": []
    },
    "e450da1daca34e5791033a50e3ed7e2d": {
     "views": []
    },
    "e49218a6f5084d08b785499d296cc79d": {
     "views": []
    },
    "e4c62ce2cf72400daec112466c97ad38": {
     "views": []
    },
    "e68c48976947409fa30bab4b4e4a66ed": {
     "views": []
    },
    "e7be9065480d48c4aa027f25c3b09dd1": {
     "views": []
    },
    "ea3056a55df747a7a5051ab21cb8ca95": {
     "views": []
    },
    "eaa122ee68764779b274e39310998bd5": {
     "views": []
    },
    "eb3b70ae0ecb4d8eb9848545317b7c5d": {
     "views": []
    },
    "eb45b275b76549268d2f181e278aec0d": {
     "views": []
    },
    "ebd98aa067434a1f893d5a868e0752a9": {
     "views": []
    },
    "ec5d1f6c594b426a95e023e3fbdcb1ea": {
     "views": []
    },
    "ef67585bb7b84858873938a860842b1a": {
     "views": []
    },
    "ef69217ca95940ceb62f781ea50a5843": {
     "views": []
    },
    "f0be630b8b8540eb84aa92b5c7a3c4db": {
     "views": []
    },
    "f0dc0a16c3a64f8bbe17a5e300fd686a": {
     "views": []
    },
    "f139acf2a14a433fbd6b0a14b75cd967": {
     "views": []
    },
    "f18f736c25174b0ba98c130a3494ac41": {
     "views": []
    },
    "f18f9809a95d4abea7b748beb6fa6f62": {
     "views": []
    },
    "f25b8a6ecf6b4a2b9383f14a8c18ae3b": {
     "views": []
    },
    "f4dfcc4ac76a43cc8493b6ba31ee5b45": {
     "views": []
    },
    "f59735eb3bcd4e5488619401b703abc0": {
     "views": []
    },
    "f629eb3d98474aa79188ac7b692a9b34": {
     "views": []
    },
    "f94bef279d6e44f9bff3876d166f5eb2": {
     "views": []
    },
    "fa09095280e1471785de40440062ef49": {
     "views": []
    },
    "fa99d1e60610444c828e285d5c70ae43": {
     "views": []
    },
    "fabd5bf8d5b241b182248853036f3575": {
     "views": []
    },
    "fce59b214347428f8d9c71ed8b71f083": {
     "views": []
    },
    "fcedbca8455e45c1b9a94e55ee1acad3": {
     "views": []
    },
    "ff2b0ccd1d22461e9d00599d267e3392": {
     "views": []
    },
    "fffe298a41b2439ebaa260750812ec8e": {
     "views": []
    }
   },
   "version": "1.1.2"
  }
 },
 "nbformat": 4,
 "nbformat_minor": 0
}
