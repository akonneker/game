{
 "cells": [
  {
   "cell_type": "markdown",
   "metadata": {},
   "source": [
    "# The GAME Framework"
   ]
  },
  {
   "cell_type": "code",
   "execution_count": 1,
   "metadata": {
    "collapsed": true
   },
   "outputs": [],
   "source": [
    "from __future__ import print_function"
   ]
  },
  {
   "cell_type": "code",
   "execution_count": 2,
   "metadata": {
    "collapsed": true
   },
   "outputs": [],
   "source": [
    "import sys\n",
    "sys.path.append('../')\n",
    "sys.path.append('../../build/')"
   ]
  },
  {
   "cell_type": "code",
   "execution_count": 3,
   "metadata": {
    "collapsed": false
   },
   "outputs": [
    {
     "name": "stdout",
     "output_type": "stream",
     "text": [
      "Populating the interactive namespace from numpy and matplotlib\n"
     ]
    }
   ],
   "source": [
    "%pylab inline"
   ]
  },
  {
   "cell_type": "code",
   "execution_count": 4,
   "metadata": {
    "collapsed": true
   },
   "outputs": [],
   "source": [
    "import versor as vsr"
   ]
  },
  {
   "cell_type": "markdown",
   "metadata": {},
   "source": [
    "## Euclidean Geometric Algebra"
   ]
  },
  {
   "cell_type": "code",
   "execution_count": 5,
   "metadata": {
    "collapsed": false
   },
   "outputs": [
    {
     "name": "stdout",
     "output_type": "stream",
     "text": [
      "Vec: [ 1 0 0 ]\n"
     ]
    }
   ],
   "source": [
    "a = vsr.Vec(1,0,0) # 1 e1 + 0 e2 + 0 e3\n",
    "print(a)"
   ]
  },
  {
   "cell_type": "code",
   "execution_count": 6,
   "metadata": {
    "collapsed": false
   },
   "outputs": [
    {
     "name": "stdout",
     "output_type": "stream",
     "text": [
      "Vec: [ 0 1 0 ]\n"
     ]
    }
   ],
   "source": [
    "b = vsr.Vec(0,1,0) # 0 e1 + 1 e2 + 0 e3\n",
    "print(b)"
   ]
  },
  {
   "cell_type": "code",
   "execution_count": 7,
   "metadata": {
    "collapsed": false
   },
   "outputs": [
    {
     "name": "stdout",
     "output_type": "stream",
     "text": [
      "Biv: [ 1 0 0 ]\n"
     ]
    }
   ],
   "source": [
    "B = a ^ b # 1 e12 + 0 e13 + 0 e23 \n",
    "print(B) "
   ]
  },
  {
   "cell_type": "code",
   "execution_count": 13,
   "metadata": {
    "collapsed": false
   },
   "outputs": [
    {
     "name": "stdout",
     "output_type": "stream",
     "text": [
      "Vec: [ 1 0 1 ]\n"
     ]
    }
   ],
   "source": [
    "c = vsr.Vec(1,0,1)\n",
    "print(c)"
   ]
  },
  {
   "cell_type": "code",
   "execution_count": 14,
   "metadata": {
    "collapsed": false,
    "scrolled": true
   },
   "outputs": [
    {
     "name": "stdout",
     "output_type": "stream",
     "text": [
      "Vec: [ 0 1 0 ]\n"
     ]
    }
   ],
   "source": [
    "d = c <= B\n",
    "print(d)"
   ]
  },
  {
   "cell_type": "code",
   "execution_count": 10,
   "metadata": {
    "collapsed": true
   },
   "outputs": [],
   "source": [
    "from versor.drawing import *"
   ]
  },
  {
   "cell_type": "code",
   "execution_count": 16,
   "metadata": {
    "collapsed": false
   },
   "outputs": [],
   "source": [
    "scene = Scene(children=[vector_mesh(c, color='red'),\n",
    "                        vector_mesh(d, color='green'),\n",
    "                        bivector_mesh(B, color='lightgray'),\n",
    "                        AmbientLight(color='#cccccc')])\n",
    "camera = PerspectiveCamera(position=[3, -3, 3])\n",
    "renderer = Renderer(camera=camera, \n",
    "                    scene=scene, \n",
    "                    controls=[TrackballControls(controlling=camera)],\n",
    "                    background = 'white')\n",
    "display(renderer)"
   ]
  },
  {
   "cell_type": "markdown",
   "metadata": {},
   "source": [
    "## Conformal Geometric Algebra"
   ]
  },
  {
   "cell_type": "code",
   "execution_count": 20,
   "metadata": {
    "collapsed": false
   },
   "outputs": [
    {
     "name": "stdout",
     "output_type": "stream",
     "text": [
      "Pnt: [ 1 2 3 1 7 ]\n"
     ]
    }
   ],
   "source": [
    "v = vsr.Vec(1,2,3)\n",
    "p = v.null()\n",
    "print(p)"
   ]
  },
  {
   "cell_type": "code",
   "execution_count": 27,
   "metadata": {
    "collapsed": false
   },
   "outputs": [
    {
     "name": "stdout",
     "output_type": "stream",
     "text": [
      "Lin: [ 1 -1 -1 0 -1 1 ]\n"
     ]
    }
   ],
   "source": [
    "lin = vsr.Lin(vsr.Vec(1,0,1).null(), vsr.Vec(1,1,0).null())\n",
    "print(lin)"
   ]
  },
  {
   "cell_type": "code",
   "execution_count": 52,
   "metadata": {
    "collapsed": false
   },
   "outputs": [
    {
     "name": "stdout",
     "output_type": "stream",
     "text": [
      "Cir: [ -2 0 1 0 -6 -2.5 -2 -3 0 1 ]\n"
     ]
    }
   ],
   "source": [
    "cir = vsr.Cir(vsr.Vec(1,2,3).null(), 1, vsr.Biv(0,1,0))\n",
    "print(cir)"
   ]
  },
  {
   "cell_type": "code",
   "execution_count": 55,
   "metadata": {
    "collapsed": false
   },
   "outputs": [],
   "source": [
    "scene = Scene(children=[frame_mesh(),\n",
    "                        line_mesh(lin.dual(), color='lightskyblue'),\n",
    "                        circle_mesh(cir, color='hotpink'),\n",
    "                        AmbientLight(color='#cccccc')])\n",
    "camera = PerspectiveCamera(position=[3, -3, 3])\n",
    "renderer = Renderer(camera=camera, \n",
    "                    scene=scene, \n",
    "                    controls=[TrackballControls(controlling=camera)],\n",
    "                    background = 'white')\n",
    "display(renderer)"
   ]
  },
  {
   "cell_type": "code",
   "execution_count": 30,
   "metadata": {
    "collapsed": false
   },
   "outputs": [
    {
     "data": {
      "text/plain": [
       "Dll: [ -1 -1 0 -1 1 1 ]"
      ]
     },
     "execution_count": 30,
     "metadata": {},
     "output_type": "execute_result"
    }
   ],
   "source": [
    "lin.dual()"
   ]
  },
  {
   "cell_type": "code",
   "execution_count": 33,
   "metadata": {
    "collapsed": false
   },
   "outputs": [
    {
     "data": {
      "text/plain": [
       "Par: [ -1 0 3 0 1 0 -2 2.5 -6 -2 ]"
      ]
     },
     "execution_count": 33,
     "metadata": {},
     "output_type": "execute_result"
    }
   ],
   "source": [
    "cir.dual()"
   ]
  },
  {
   "cell_type": "markdown",
   "metadata": {},
   "source": [
    "### Transformations"
   ]
  },
  {
   "cell_type": "code",
   "execution_count": 36,
   "metadata": {
    "collapsed": false
   },
   "outputs": [
    {
     "name": "stdout",
     "output_type": "stream",
     "text": [
      "Rot: [ 0.87 -0.5 0 0 ]\n"
     ]
    }
   ],
   "source": [
    "rot = vsr.Biv(pi/6,0,0).exp()\n",
    "print(rot)"
   ]
  },
  {
   "cell_type": "code",
   "execution_count": 38,
   "metadata": {
    "collapsed": false
   },
   "outputs": [
    {
     "name": "stdout",
     "output_type": "stream",
     "text": [
      "Trs: [ 1 -0.5 -1 -1.5 ]\n"
     ]
    }
   ],
   "source": [
    "trs = vsr.Vec(1,2,3).trs()\n",
    "print(trs)"
   ]
  },
  {
   "cell_type": "code",
   "execution_count": 41,
   "metadata": {
    "collapsed": false,
    "scrolled": true
   },
   "outputs": [
    {
     "name": "stdout",
     "output_type": "stream",
     "text": [
      "Mot: [ 0.87 -0.5 0 0 -0.93 -0.62 -1.3 0.75 ]\n"
     ]
    }
   ],
   "source": [
    "mot = trs * rot\n",
    "print(mot)"
   ]
  },
  {
   "cell_type": "code",
   "execution_count": 49,
   "metadata": {
    "collapsed": false
   },
   "outputs": [
    {
     "name": "stdout",
     "output_type": "stream",
     "text": [
      "Pnt: [ -0.2321 3.866 6 1 25.5 ]\n"
     ]
    }
   ],
   "source": [
    "a = vsr.Vec(1,2,3).null()\n",
    "print(a.spin(mot))"
   ]
  },
  {
   "cell_type": "code",
   "execution_count": 51,
   "metadata": {
    "collapsed": false
   },
   "outputs": [
    {
     "name": "stdout",
     "output_type": "stream",
     "text": [
      "Dll: [ 0.5774 -0.5774 0.5774 -0.5774 1.155 -0.5774 ]\n",
      "Dll: [ 0.5774 -0.7887 -0.2113 -2.5 -1.134 0.634 ]\n"
     ]
    }
   ],
   "source": [
    "dll = vsr.Lin(vsr.Vec(1,2,3).null(), vsr.Vec(1,1,1).unit()).dual()\n",
    "print(dll)\n",
    "print(dll.spin(mot))"
   ]
  },
  {
   "cell_type": "markdown",
   "metadata": {},
   "source": [
    "### Motor Estimation from points"
   ]
  },
  {
   "cell_type": "code",
   "execution_count": 70,
   "metadata": {
    "collapsed": false
   },
   "outputs": [],
   "source": [
    "from game import MotorEstimationSolver"
   ]
  },
  {
   "cell_type": "code",
   "execution_count": 104,
   "metadata": {
    "collapsed": false
   },
   "outputs": [
    {
     "name": "stdout",
     "output_type": "stream",
     "text": [
      "Mot: [ 0.87 0 -0.5 0 -0.68 -0.43 -0.18 -0.25 ]\n"
     ]
    }
   ],
   "source": [
    "motor = vsr.Vec(1,1,1).trs() * vsr.Rot(vsr.Biv(0,1,0) * np.pi/6.0)\n",
    "print(motor)"
   ]
  },
  {
   "cell_type": "code",
   "execution_count": 105,
   "metadata": {
    "collapsed": false
   },
   "outputs": [
    {
     "name": "stdout",
     "output_type": "stream",
     "text": [
      "[Pnt: [ -0.3254 -0.1521 0.01669 1 0.06466 ], Pnt: [ 0.3133 -0.3945 -0.6437 1 0.3341 ], Pnt: [ -1.245 -0.3456 0.4086 1 0.9187 ], Pnt: [ -0.3075 -0.09817 -0.3023 1 0.09778 ], Pnt: [ 1.443 -0.2657 -0.1703 1 1.092 ], Pnt: [ -1.983 0.8546 -0.4599 1 2.438 ], Pnt: [ -0.7803 1.63 0.1119 1 1.64 ], Pnt: [ 0.03609 0.2265 -0.6533 1 0.2397 ], Pnt: [ 1.589 1.022 0.5129 1 1.917 ], Pnt: [ 0.7147 2.171 0.6741 1 2.839 ]]\n"
     ]
    }
   ],
   "source": [
    "n_points=10\n",
    "points_a = [vsr.Vec(*np.random.normal(0.0, 0.8, 3)).null() \n",
    "            for i in range(n_points)]\n",
    "print(points_a)"
   ]
  },
  {
   "cell_type": "code",
   "execution_count": 106,
   "metadata": {
    "collapsed": true
   },
   "outputs": [],
   "source": [
    "points_b = [point.spin(motor) for point in points_a]"
   ]
  },
  {
   "cell_type": "code",
   "execution_count": 107,
   "metadata": {
    "collapsed": false
   },
   "outputs": [],
   "source": [
    "points_b_noisy = [vsr.Vec(*(np.array(point.vec()) \n",
    "                            + 0.09 * np.random.randn(3))).null() \n",
    "                  for point in points_b]"
   ]
  },
  {
   "cell_type": "code",
   "execution_count": 108,
   "metadata": {
    "collapsed": false
   },
   "outputs": [],
   "source": [
    "initial_motor = vsr.Mot(1.0, 0.0, 0.0, 0.0, 0.0, 0.0, 0.0, 0.0)"
   ]
  },
  {
   "cell_type": "code",
   "execution_count": 109,
   "metadata": {
    "collapsed": false
   },
   "outputs": [],
   "source": [
    "mes = MotorEstimationSolver(initial_motor)"
   ]
  },
  {
   "cell_type": "code",
   "execution_count": 110,
   "metadata": {
    "collapsed": false
   },
   "outputs": [],
   "source": [
    "for a, b in zip(points_a, points_b):\n",
    "    mes.add_point_difference_residual_block(a,b)"
   ]
  },
  {
   "cell_type": "code",
   "execution_count": 111,
   "metadata": {
    "collapsed": true
   },
   "outputs": [],
   "source": [
    "mes.set_parameterization('BIVECTOR_GENERATOR')\n",
    "mes.linear_solver_type = 'DENSE_QR'"
   ]
  },
  {
   "cell_type": "code",
   "execution_count": 112,
   "metadata": {
    "collapsed": false
   },
   "outputs": [
    {
     "name": "stdout",
     "output_type": "stream",
     "text": [
      "Ceres Solver Report: Iterations: 5, Initial cost: 5.435610e+01, Final cost: 1.420364e-24, Termination: CONVERGENCE\n"
     ]
    }
   ],
   "source": [
    "(estimated_motor, summary, iterates) = mes.solve()\n",
    "print(summary['brief_report'])"
   ]
  },
  {
   "cell_type": "code",
   "execution_count": 114,
   "metadata": {
    "collapsed": false
   },
   "outputs": [
    {
     "data": {
      "text/plain": [
       "True"
      ]
     },
     "execution_count": 114,
     "metadata": {},
     "output_type": "execute_result"
    }
   ],
   "source": [
    "np.allclose(motor, estimated_motor)"
   ]
  },
  {
   "cell_type": "code",
   "execution_count": 118,
   "metadata": {
    "collapsed": false
   },
   "outputs": [
    {
     "data": {
      "image/png": "[encoded data removed]",
      "text/plain": [
       "<matplotlib.figure.Figure at 0x7fb2bf63b7d0>"
      ]
     },
     "metadata": {},
     "output_type": "display_data"
    }
   ],
   "source": [
    "plt.plot([it['cost'] for it in summary['iterations'] ])\n",
    "plt.semilogy();"
   ]
  },
  {
   "cell_type": "code",
   "execution_count": 121,
   "metadata": {
    "collapsed": true
   },
   "outputs": [],
   "source": [
    "import pandas as pd"
   ]
  },
  {
   "cell_type": "code",
   "execution_count": 124,
   "metadata": {
    "collapsed": false
   },
   "outputs": [
    {
     "ename": "KeyError",
     "evalue": "'iterations'",
     "output_type": "error",
     "traceback": [
      "\u001b[1;31m---------------------------------------------------------------------------\u001b[0m",
      "\u001b[1;31mKeyError\u001b[0m                                  Traceback (most recent call last)",
      "\u001b[1;32m<ipython-input-124-234b8ac7a7d5>\u001b[0m in \u001b[0;36m<module>\u001b[1;34m()\u001b[0m\n\u001b[1;32m----> 1\u001b[1;33m \u001b[1;32mdel\u001b[0m \u001b[0msummary\u001b[0m\u001b[1;33m[\u001b[0m\u001b[1;34m'iterations'\u001b[0m\u001b[1;33m]\u001b[0m\u001b[1;33m\u001b[0m\u001b[0m\n\u001b[0m",
      "\u001b[1;31mKeyError\u001b[0m: 'iterations'"
     ]
    }
   ],
   "source": [
    "del summary['iterations']"
   ]
  },
  {
   "cell_type": "code",
   "execution_count": 133,
   "metadata": {
    "collapsed": false
   },
   "outputs": [
    {
     "name": "stdout",
     "output_type": "stream",
     "text": [
      "Ceres Solver Report: Iterations: 5, Initial cost: 2.991090e+01, Final cost: 3.173630e-01, Termination: CONVERGENCE\n",
      "False\n"
     ]
    }
   ],
   "source": [
    "motor = vsr.Vec(1,1,1).trs() * vsr.Rot(vsr.Biv(0,1,0) * np.pi/6.0)\n",
    "n_points=10\n",
    "points_a = [vsr.Vec(*np.random.normal(0.0, 0.8, 3)).null() \n",
    "            for i in range(n_points)]\n",
    "points_b = [point.spin(motor) for point in points_a]\n",
    "points_b_noisy = [vsr.Vec(*(np.array(point.vec()) \n",
    "                            + 0.09 * np.random.randn(3))).null() \n",
    "                  for point in points_b]\n",
    "initial_motor = vsr.Mot(1.0, 0.0, 0.0, 0.0, 0.0, 0.0, 0.0, 0.0)\n",
    "mes = MotorEstimationSolver(initial_motor)\n",
    "for a, b in zip(points_a, points_b_noisy):\n",
    "    mes.add_point_difference_residual_block(a,b)\n",
    "mes.set_parameterization('BIVECTOR_GENERATOR')\n",
    "mes.linear_solver_type = 'DENSE_QR'\n",
    "(estimated_motor, summary, iterates) = mes.solve()\n",
    "print(summary['brief_report'])\n",
    "print(np.allclose(motor, estimated_motor))"
   ]
  },
  {
   "cell_type": "code",
   "execution_count": 129,
   "metadata": {
    "collapsed": false
   },
   "outputs": [
    {
     "name": "stdout",
     "output_type": "stream",
     "text": [
      "0.000337386969477\n"
     ]
    }
   ],
   "source": [
    "print(summary['jacobian_evaluation_time_in_seconds'])"
   ]
  },
  {
   "cell_type": "code",
   "execution_count": 130,
   "metadata": {
    "collapsed": false
   },
   "outputs": [
    {
     "name": "stdout",
     "output_type": "stream",
     "text": [
      "0.00063508702442\n"
     ]
    }
   ],
   "source": [
    "print(summary['total_time_in_seconds'])"
   ]
  },
  {
   "cell_type": "code",
   "execution_count": 123,
   "metadata": {
    "collapsed": false
   },
   "outputs": [
    {
     "ename": "ValueError",
     "evalue": "If using all scalar values, you must pass an index",
     "output_type": "error",
     "traceback": [
      "\u001b[1;31m---------------------------------------------------------------------------\u001b[0m",
      "\u001b[1;31mValueError\u001b[0m                                Traceback (most recent call last)",
      "\u001b[1;32m<ipython-input-123-6aebc12c8958>\u001b[0m in \u001b[0;36m<module>\u001b[1;34m()\u001b[0m\n\u001b[1;32m----> 1\u001b[1;33m \u001b[0mpd\u001b[0m\u001b[1;33m.\u001b[0m\u001b[0mDataFrame\u001b[0m\u001b[1;33m(\u001b[0m\u001b[0msummary\u001b[0m\u001b[1;33m)\u001b[0m\u001b[1;33m\u001b[0m\u001b[0m\n\u001b[0m",
      "\u001b[1;32m/home/game/python/local/lib/python2.7/site-packages/pandas/core/frame.pyc\u001b[0m in \u001b[0;36m__init__\u001b[1;34m(self, data, index, columns, dtype, copy)\u001b[0m\n\u001b[0;32m    222\u001b[0m                                  dtype=dtype, copy=copy)\n\u001b[0;32m    223\u001b[0m         \u001b[1;32melif\u001b[0m \u001b[0misinstance\u001b[0m\u001b[1;33m(\u001b[0m\u001b[0mdata\u001b[0m\u001b[1;33m,\u001b[0m \u001b[0mdict\u001b[0m\u001b[1;33m)\u001b[0m\u001b[1;33m:\u001b[0m\u001b[1;33m\u001b[0m\u001b[0m\n\u001b[1;32m--> 224\u001b[1;33m             \u001b[0mmgr\u001b[0m \u001b[1;33m=\u001b[0m \u001b[0mself\u001b[0m\u001b[1;33m.\u001b[0m\u001b[0m_init_dict\u001b[0m\u001b[1;33m(\u001b[0m\u001b[0mdata\u001b[0m\u001b[1;33m,\u001b[0m \u001b[0mindex\u001b[0m\u001b[1;33m,\u001b[0m \u001b[0mcolumns\u001b[0m\u001b[1;33m,\u001b[0m \u001b[0mdtype\u001b[0m\u001b[1;33m=\u001b[0m\u001b[0mdtype\u001b[0m\u001b[1;33m)\u001b[0m\u001b[1;33m\u001b[0m\u001b[0m\n\u001b[0m\u001b[0;32m    225\u001b[0m         \u001b[1;32melif\u001b[0m \u001b[0misinstance\u001b[0m\u001b[1;33m(\u001b[0m\u001b[0mdata\u001b[0m\u001b[1;33m,\u001b[0m \u001b[0mma\u001b[0m\u001b[1;33m.\u001b[0m\u001b[0mMaskedArray\u001b[0m\u001b[1;33m)\u001b[0m\u001b[1;33m:\u001b[0m\u001b[1;33m\u001b[0m\u001b[0m\n\u001b[0;32m    226\u001b[0m             \u001b[1;32mimport\u001b[0m \u001b[0mnumpy\u001b[0m\u001b[1;33m.\u001b[0m\u001b[0mma\u001b[0m\u001b[1;33m.\u001b[0m\u001b[0mmrecords\u001b[0m \u001b[1;32mas\u001b[0m \u001b[0mmrecords\u001b[0m\u001b[1;33m\u001b[0m\u001b[0m\n",
      "\u001b[1;32m/home/game/python/local/lib/python2.7/site-packages/pandas/core/frame.pyc\u001b[0m in \u001b[0;36m_init_dict\u001b[1;34m(self, data, index, columns, dtype)\u001b[0m\n\u001b[0;32m    358\u001b[0m             \u001b[0marrays\u001b[0m \u001b[1;33m=\u001b[0m \u001b[1;33m[\u001b[0m\u001b[0mdata\u001b[0m\u001b[1;33m[\u001b[0m\u001b[0mk\u001b[0m\u001b[1;33m]\u001b[0m \u001b[1;32mfor\u001b[0m \u001b[0mk\u001b[0m \u001b[1;32min\u001b[0m \u001b[0mkeys\u001b[0m\u001b[1;33m]\u001b[0m\u001b[1;33m\u001b[0m\u001b[0m\n\u001b[0;32m    359\u001b[0m \u001b[1;33m\u001b[0m\u001b[0m\n\u001b[1;32m--> 360\u001b[1;33m         \u001b[1;32mreturn\u001b[0m \u001b[0m_arrays_to_mgr\u001b[0m\u001b[1;33m(\u001b[0m\u001b[0marrays\u001b[0m\u001b[1;33m,\u001b[0m \u001b[0mdata_names\u001b[0m\u001b[1;33m,\u001b[0m \u001b[0mindex\u001b[0m\u001b[1;33m,\u001b[0m \u001b[0mcolumns\u001b[0m\u001b[1;33m,\u001b[0m \u001b[0mdtype\u001b[0m\u001b[1;33m=\u001b[0m\u001b[0mdtype\u001b[0m\u001b[1;33m)\u001b[0m\u001b[1;33m\u001b[0m\u001b[0m\n\u001b[0m\u001b[0;32m    361\u001b[0m \u001b[1;33m\u001b[0m\u001b[0m\n\u001b[0;32m    362\u001b[0m     \u001b[1;32mdef\u001b[0m \u001b[0m_init_ndarray\u001b[0m\u001b[1;33m(\u001b[0m\u001b[0mself\u001b[0m\u001b[1;33m,\u001b[0m \u001b[0mvalues\u001b[0m\u001b[1;33m,\u001b[0m \u001b[0mindex\u001b[0m\u001b[1;33m,\u001b[0m \u001b[0mcolumns\u001b[0m\u001b[1;33m,\u001b[0m \u001b[0mdtype\u001b[0m\u001b[1;33m=\u001b[0m\u001b[0mNone\u001b[0m\u001b[1;33m,\u001b[0m \u001b[0mcopy\u001b[0m\u001b[1;33m=\u001b[0m\u001b[0mFalse\u001b[0m\u001b[1;33m)\u001b[0m\u001b[1;33m:\u001b[0m\u001b[1;33m\u001b[0m\u001b[0m\n",
      "\u001b[1;32m/home/game/python/local/lib/python2.7/site-packages/pandas/core/frame.pyc\u001b[0m in \u001b[0;36m_arrays_to_mgr\u001b[1;34m(arrays, arr_names, index, columns, dtype)\u001b[0m\n\u001b[0;32m   5229\u001b[0m     \u001b[1;31m# figure out the index, if necessary\u001b[0m\u001b[1;33m\u001b[0m\u001b[1;33m\u001b[0m\u001b[0m\n\u001b[0;32m   5230\u001b[0m     \u001b[1;32mif\u001b[0m \u001b[0mindex\u001b[0m \u001b[1;32mis\u001b[0m \u001b[0mNone\u001b[0m\u001b[1;33m:\u001b[0m\u001b[1;33m\u001b[0m\u001b[0m\n\u001b[1;32m-> 5231\u001b[1;33m         \u001b[0mindex\u001b[0m \u001b[1;33m=\u001b[0m \u001b[0mextract_index\u001b[0m\u001b[1;33m(\u001b[0m\u001b[0marrays\u001b[0m\u001b[1;33m)\u001b[0m\u001b[1;33m\u001b[0m\u001b[0m\n\u001b[0m\u001b[0;32m   5232\u001b[0m     \u001b[1;32melse\u001b[0m\u001b[1;33m:\u001b[0m\u001b[1;33m\u001b[0m\u001b[0m\n\u001b[0;32m   5233\u001b[0m         \u001b[0mindex\u001b[0m \u001b[1;33m=\u001b[0m \u001b[0m_ensure_index\u001b[0m\u001b[1;33m(\u001b[0m\u001b[0mindex\u001b[0m\u001b[1;33m)\u001b[0m\u001b[1;33m\u001b[0m\u001b[0m\n",
      "\u001b[1;32m/home/game/python/local/lib/python2.7/site-packages/pandas/core/frame.pyc\u001b[0m in \u001b[0;36mextract_index\u001b[1;34m(data)\u001b[0m\n\u001b[0;32m   5268\u001b[0m \u001b[1;33m\u001b[0m\u001b[0m\n\u001b[0;32m   5269\u001b[0m         \u001b[1;32mif\u001b[0m \u001b[1;32mnot\u001b[0m \u001b[0mindexes\u001b[0m \u001b[1;32mand\u001b[0m \u001b[1;32mnot\u001b[0m \u001b[0mraw_lengths\u001b[0m\u001b[1;33m:\u001b[0m\u001b[1;33m\u001b[0m\u001b[0m\n\u001b[1;32m-> 5270\u001b[1;33m             raise ValueError('If using all scalar values, you must pass'\n\u001b[0m\u001b[0;32m   5271\u001b[0m                              ' an index')\n\u001b[0;32m   5272\u001b[0m \u001b[1;33m\u001b[0m\u001b[0m\n",
      "\u001b[1;31mValueError\u001b[0m: If using all scalar values, you must pass an index"
     ]
    }
   ],
   "source": [
    "pd.DataFrame(summary)"
   ]
  }
 ],
 "metadata": {
  "kernelspec": {
   "display_name": "Python 2",
   "language": "python",
   "name": "python2"
  },
  "language_info": {
   "codemirror_mode": {
    "name": "ipython",
    "version": 2
   },
   "file_extension": ".py",
   "mimetype": "text/x-python",
   "name": "python",
   "nbconvert_exporter": "python",
   "pygments_lexer": "ipython2",
   "version": "2.7.11+"
  },
  "widgets": {
   "state": {
    "0027ede1bc4247e194cea966cdc05722": {
     "views": []
    },
    "006b233a8c7a486fb17b135d84116346": {
     "views": []
    },
    "0276443184b648cc88c7185295b566e2": {
     "views": []
    },
    "029ed88cc8844e9d87aa7c0bac2e2364": {
     "views": []
    },
    "037f2d0845d9411585052f2ad901bf1e": {
     "views": []
    },
    "03ff79956560400eaad7092b02811ab4": {
     "views": []
    },
    "05bc3ea27ee24acf8eddc05842eb14ef": {
     "views": []
    },
    "061cb04de31e41aeb322613243bff292": {
     "views": []
    },
    "072666c5736a4cdcaf513f5079583777": {
     "views": []
    },
    "075340d125c0400a8c4d76fe1d254f3e": {
     "views": []
    },
    "07d60826e777417b9d801b337cce5260": {
     "views": []
    },
    "08186b01f2c2449aa8971097dcb63d0d": {
     "views": []
    },
    "09c04c6cf21940a5ae0c623f8021e88c": {
     "views": []
    },
    "0a12cb80373844ae8f50ec7b23eb6233": {
     "views": []
    },
    "0a4fb37bb4b14af99e377bde717043ed": {
     "views": []
    },
    "0d46614cc6e34f54aed1ffcd48648a5b": {
     "views": []
    },
    "0ec6251d4c0140b0b9b4ee4d94878554": {
     "views": []
    },
    "0faa3694ea5b4d818a1c56957d7f3017": {
     "views": []
    },
    "1032e1ae9274496c8f971d73fe0aa942": {
     "views": []
    },
    "128146668e1d4fe791ce03eb2a8ae1c7": {
     "views": []
    },
    "12d302e070aa42afa4429029d8daae72": {
     "views": []
    },
    "137c0b9d52244a63be5186f892bb2d99": {
     "views": []
    },
    "13a422f81222408682d401d2ff18260e": {
     "views": []
    },
    "13ab419cefde45a8ab7b0f90509983f5": {
     "views": []
    },
    "13f6d4d22e974ff3baea7f8be0e118f1": {
     "views": []
    },
    "1455d5f63bef40d7b6fd030bee51149d": {
     "views": []
    },
    "14ef5a69fcd24f8783ac1bd8b48c0d0e": {
     "views": []
    },
    "1534ab85b0c1428c9962d772e0d761c0": {
     "views": []
    },
    "158101adef4e40229bbe2f320f1c1b4e": {
     "views": []
    },
    "16e5de0d8aaa4616a930ff5e974eba5e": {
     "views": []
    },
    "1798c228470e46ed8b07807565a3a2b1": {
     "views": []
    },
    "18b3708ecc86421bb74d268a148400b0": {
     "views": []
    },
    "1b62ef5a578549e2972e942c49ea1c91": {
     "views": []
    },
    "1bd392d318d14d339a917ab95cccec0d": {
     "views": []
    },
    "1c01acf40ff84fb99b09b8afc54cc82d": {
     "views": []
    },
    "1c10e53e685449bb8d1463e6d8877caa": {
     "views": []
    },
    "1c37d6a33a734642b936dda55ce5edd8": {
     "views": []
    },
    "1f9bba6503244b4485e8eb8663ddc1c3": {
     "views": []
    },
    "1fb24119be554c96b2e617cf4a36bd8b": {
     "views": []
    },
    "207ef416ba4a47debedbb46f10c32398": {
     "views": []
    },
    "2197359a585f4de286e24745e0655715": {
     "views": []
    },
    "235cf2f63171452b96aee518ef95bcb3": {
     "views": []
    },
    "236cde1352d54b55a7c17d365929729d": {
     "views": []
    },
    "23ceec836a7b4b0fa842ee14565012bc": {
     "views": []
    },
    "24be60f119b347c5aa8758d4fd927ae5": {
     "views": []
    },
    "2628ad130c6d42b78274672cb541e3e1": {
     "views": []
    },
    "26e633b3a1294b8f9b187e33bf264460": {
     "views": []
    },
    "279485b5a6cf4b4aab970f61239f24ac": {
     "views": []
    },
    "29057054e4c649dc954b055079244cf3": {
     "views": []
    },
    "29203d1d54184ec481495a12ec81f1b7": {
     "views": []
    },
    "292e9992c67d41e1b6a49552cc0b19ea": {
     "views": []
    },
    "2ab032f04385475f84e8196a5371f516": {
     "views": []
    },
    "2abf9eba73a64753a86141ba51b41b76": {
     "views": []
    },
    "2c14ecb035484613b01b400db6639877": {
     "views": []
    },
    "2c82cde3ccf548c4a1aea217d297153e": {
     "views": []
    },
    "2d84f3cb5e024d349380f3980af9d407": {
     "views": []
    },
    "2d9ada1d6f24494b98483e45df238376": {
     "views": []
    },
    "2d9f1353f995481ea2ea6d9cdebc4b07": {
     "views": []
    },
    "2fae77218fba4da4bc9b06ee9132b29f": {
     "views": []
    },
    "2fc07721ef744f989aa56bcee0ebd0bd": {
     "views": []
    },
    "30848a103db6441a864803c9295d0add": {
     "views": []
    },
    "3136b1de444e45b3afcd76f54975e2d0": {
     "views": []
    },
    "31cdd7b920d340a68f62f23319e47b0a": {
     "views": []
    },
    "32d98f3d5e2b40ca86c7f8b3aa2a2cd2": {
     "views": []
    },
    "330c8e5346fa42cfa37815c77e393e5e": {
     "views": []
    },
    "3486276180164dd7a4451ffa4af54b14": {
     "views": []
    },
    "34aa42f6b92e455f8b02120a3c3d8dd7": {
     "views": []
    },
    "35221c1b9d34444daf09f6aad838a477": {
     "views": []
    },
    "36b75c51283042da9e81b977c93f9841": {
     "views": []
    },
    "3742c55e5a594e41bbf1681e77ba5217": {
     "views": []
    },
    "37d8e74c0d32461a9ff37ce1013c82d1": {
     "views": []
    },
    "380fe6eeef35422e8f237b59b814b156": {
     "views": []
    },
    "38bbc50648e14c579fa93465efad6252": {
     "views": []
    },
    "39ac774f2ccc404b9f0869116f533a3b": {
     "views": []
    },
    "3b1dfe37118b4fb693864030987ae7ed": {
     "views": []
    },
    "3c96ea6399e641749329ca196e156181": {
     "views": []
    },
    "3d5aa0c279364328955fc324cde9a832": {
     "views": []
    },
    "3dcffdbaf3ca4af7840e62c2eb080422": {
     "views": []
    },
    "3f810770e4394f36b7cf82f4e50ed53d": {
     "views": []
    },
    "3fb8ad2588d7448a8be199eafbd2a9c3": {
     "views": []
    },
    "40c6a3e60026436698e0be77a58847fa": {
     "views": []
    },
    "422de9c3ebf04690b819219fd2729720": {
     "views": []
    },
    "4257d8a0dafd4bafa2e9d09abe209edc": {
     "views": []
    },
    "444c3549185643cca786b95106e55181": {
     "views": []
    },
    "446e50ade2ad4ea5a5630077b4e6a348": {
     "views": []
    },
    "4559b8b201cc4477a9cb7a0efa2a8d58": {
     "views": []
    },
    "4c23762426eb4142962ff8fea1381d3f": {
     "views": []
    },
    "4cd12c4f69fe4b949a839c6c17c8f797": {
     "views": []
    },
    "4d71ecd4211f4a3ab89f2a83c9f36fe6": {
     "views": []
    },
    "4e4ddbfa27a244baa3b3671392326a9e": {
     "views": []
    },
    "4e699ae4070449d38b32835b0bd5c9ad": {
     "views": []
    },
    "4e937eb15cab44779a061d61f8663e1d": {
     "views": []
    },
    "4ecb7014375a493d95f1024b7afa5cec": {
     "views": []
    },
    "5166198ecc594975a1d55ed25e8a7c57": {
     "views": []
    },
    "51933ba8581a49879100cb4bd2d78cbc": {
     "views": []
    },
    "51b50e5a7eed4ad0b607517ec54f1ca3": {
     "views": []
    },
    "51f5c1d7ed1e4e798e8c6d4ddae30027": {
     "views": []
    },
    "525d018230664b02b1dff3d606dfa3e2": {
     "views": []
    },
    "5305852141f54efaaea37a8a5f028327": {
     "views": []
    },
    "53fb56d2fc904f93984a211f307459c5": {
     "views": []
    },
    "54115a11abb14656a8e5ed2760b86840": {
     "views": []
    },
    "544fd3f1212c497eb4bc2ad856f1062e": {
     "views": []
    },
    "568c9b99497846eaa218eda9bc6a315d": {
     "views": []
    },
    "57c3d080175f41c3a71c2e926b92c280": {
     "views": []
    },
    "58a5d91d28d241129a36bab262b9c9e8": {
     "views": []
    },
    "5abe0feebada47f194f07e4eb0bfa585": {
     "views": []
    },
    "5b3f0ba0ac5a4e21be45de5b1f8ad19b": {
     "views": []
    },
    "5cb2a4c507154b03a66df2762857cafa": {
     "views": []
    },
    "5cf8fade826a4b26b61e761bc14dbd7d": {
     "views": []
    },
    "5f0a5671a6d44a5398a224aac47ce09f": {
     "views": []
    },
    "5fa4adc6565d4706b1e713acec929ebd": {
     "views": []
    },
    "601905c83fea4d1fab8513544429eeea": {
     "views": []
    },
    "601a118b56c14a7fa537c99eb9dcdd3e": {
     "views": []
    },
    "6082025aa6e84743a8498204c0be92f1": {
     "views": []
    },
    "60e49796cef74bcdaf79c6b342a84391": {
     "views": []
    },
    "6131464bfe604d6793e3f2c03a530602": {
     "views": []
    },
    "617b0382ebd84c9fb49cf82e2a8915ac": {
     "views": []
    },
    "61caec6f14f14d959bbe7f4cf07b457e": {
     "views": []
    },
    "62bcb6ee8eee426e9c8263d6dd4e20e7": {
     "views": []
    },
    "63221341a1984c969c54ebb7f8ce7c66": {
     "views": []
    },
    "6564a2b6e1094f9c8507ff31022b7875": {
     "views": []
    },
    "65a4848ff7c64e1ebcdc71d4f63603c9": {
     "views": []
    },
    "695411b49a1c43648a97f9f1d6a0d6d2": {
     "views": []
    },
    "6a7e4688f0bf493eb9c91b49c0ae88bf": {
     "views": []
    },
    "6cb0687268a84e72850a8f70cbba9b60": {
     "views": []
    },
    "6e2d99dd7b0d4f869d34db6fb4b73c2e": {
     "views": []
    },
    "6e352a54eecb4baea4e224394ea10084": {
     "views": []
    },
    "6ee6dc05a31e4f1d93032762c8c74adf": {
     "views": []
    },
    "7013905f3c4449a0b0f95dcaa4323b97": {
     "views": []
    },
    "71039638dd4a4ee991dd61211483d39a": {
     "views": []
    },
    "716245bd584a429ca93b3f092759666d": {
     "views": []
    },
    "71681a1f166142e6815dd34abb839800": {
     "views": []
    },
    "72862be9715e4a8197e24ab34b9ae5d2": {
     "views": []
    },
    "73447f6558294eb28ba557e7767ef1aa": {
     "views": []
    },
    "760b4f1bbec944149c7c571005f7ba4d": {
     "views": []
    },
    "77a84e9306484524b143de54df57944c": {
     "views": []
    },
    "77ec82e33596404a8a1eeef820dab5e5": {
     "views": []
    },
    "787da898ba3c4b31b97ae840203f4e60": {
     "views": []
    },
    "78d2764b37e84901a0972ef59f5a72ec": {
     "views": []
    },
    "7b03f179084145dd982b6cd924e067d7": {
     "views": []
    },
    "7bf6f2c01b6b4b459e4467eeb6203e94": {
     "views": []
    },
    "7ca91f636ea4405a843884f261b63dd0": {
     "views": []
    },
    "7cb2c90ff4f14041879e5fa7d307697d": {
     "views": []
    },
    "7d91e26521c1454dad0d30378bc15382": {
     "views": []
    },
    "7e1df0fad8d04828ad052eac2c772c59": {
     "views": []
    },
    "7f4a235bfb284cef8fc01b03e16f1286": {
     "views": []
    },
    "7fdcd1c64bb046688c9e4a004cab9d5a": {
     "views": []
    },
    "81083d02421a4c728cb777351fa99fa0": {
     "views": []
    },
    "815a5fb361bd40a3a088b1a0a3c09065": {
     "views": []
    },
    "81c211194ea64fc3904c2cf16c0b3db4": {
     "views": []
    },
    "81f9610b0ff64090a1b1f8d4a0e8b818": {
     "views": []
    },
    "824fce4830944fe09b530c8c221465f9": {
     "views": []
    },
    "834be8a04aca4c22bebac195af11c1a2": {
     "views": []
    },
    "8371e7e8fd1c4729ae368b8fa546870b": {
     "views": []
    },
    "83940606f79b4436b06b7039085c69c1": {
     "views": []
    },
    "83ff206bed4d40da8c524eebea20e034": {
     "views": []
    },
    "847293d6f52343b2a1f3e8c90099e3ff": {
     "views": []
    },
    "8476bd493fdc4dcebd8b2e1123e551e8": {
     "views": []
    },
    "85c94cc73f37472aadfb16a36b7dc562": {
     "views": []
    },
    "865ac8bdc8ab459188fb2990ffbc47ec": {
     "views": []
    },
    "873c81cd3713400e8d9270374a755199": {
     "views": []
    },
    "89f6ace3e5fe4a70a4f2769d5d9380f4": {
     "views": []
    },
    "8a19b56a845345f7a50df23c1ebf3777": {
     "views": []
    },
    "8cfec74e2b26473697c0e2ba2b9569b3": {
     "views": []
    },
    "8d2dc8353ebd4adfa6ea1abc4453dc42": {
     "views": []
    },
    "8d9e37ab870448389bfc751489b0faa1": {
     "views": []
    },
    "8dd78e034109424e9f674bdbef973b51": {
     "views": []
    },
    "8df3b8e528e14a7fa87ead37b0ba5207": {
     "views": []
    },
    "8ee6ea9e67ea42a1a09615d7aa646bf9": {
     "views": []
    },
    "8ef151ae22d343cf823604294e7b8ee3": {
     "views": []
    },
    "9047826261144851bc7208d1f4f8b785": {
     "views": []
    },
    "915523b6e3fa4c02bc5f5ec0572f18d3": {
     "views": []
    },
    "91862ae8918649c997c45d7d23b1a26d": {
     "views": []
    },
    "922130aa97034a0ba11dbeb3219fc1e3": {
     "views": []
    },
    "92b4d5cf289443d98c923d365d060d6a": {
     "views": []
    },
    "9739555466c4430ebe59967457b9833e": {
     "views": []
    },
    "973b4ff4a39f40b7a0bdd6822184d1a3": {
     "views": []
    },
    "97408fdd30b84aa3b83c6ad504777222": {
     "views": []
    },
    "9839cbce43bd4651b7bdefd330915f5a": {
     "views": []
    },
    "98907b1a673e46ba986da8483d7f368f": {
     "views": []
    },
    "98a2badaad8f445bae6876c0b0b7994c": {
     "views": []
    },
    "9b81925894f246868c78224bfb8c1782": {
     "views": []
    },
    "9cabfb7b160a43278f768a6d44fdc7fc": {
     "views": []
    },
    "9cae7b53254b4388b0c9928e84062bc0": {
     "views": []
    },
    "9d7553c573e74013a9e468e81eca82a7": {
     "views": []
    },
    "9dad55d8aab94e3bb5e97e76d4e6f989": {
     "views": []
    },
    "9e79f5da9f2f49099f8260f770ee167e": {
     "views": []
    },
    "9e93027822db48a98112f51dbb275793": {
     "views": []
    },
    "9f84498d54624cba8362709ca85d0a82": {
     "views": []
    },
    "9fe7a30df7d24be185463ccec7174909": {
     "views": []
    },
    "a0abed8185b64a27b8fc1173560dbcbf": {
     "views": []
    },
    "a172f0b6da4d40568eb202f8780f3769": {
     "views": []
    },
    "a1afbf557652441cbf6ce25a8175c388": {
     "views": []
    },
    "a215d6d9ce6245c38df8ff3375a89185": {
     "views": []
    },
    "a2dfcc9895b54802aedd5f19ac2ade0a": {
     "views": []
    },
    "a3552bd6e62c4cca9c8a8ed710ad4eb3": {
     "views": []
    },
    "a592ee8de2bd44fbab56b9d1c65e72ef": {
     "views": [
      {
       "cell_index": 17
      }
     ]
    },
    "a5ee69dba0354dc798abe3bea3ae2737": {
     "views": []
    },
    "a71772e379b7408f9bf26558681878d8": {
     "views": []
    },
    "a7a570b1b9f4480d9ba54851b7901cae": {
     "views": []
    },
    "a7cd9a4f87a648c49025be58c8f0db54": {
     "views": []
    },
    "a85b2f2f020f4e40a645ba7eecaf9fdb": {
     "views": []
    },
    "a8dac591cfb24e63a26d053fe9cbf0c1": {
     "views": []
    },
    "a9907f96ce8b46dcba997350184beb7c": {
     "views": []
    },
    "aa285f19515e426e95815a4bd7f886d2": {
     "views": []
    },
    "ab12b88803734cda87605f04d287e364": {
     "views": []
    },
    "accfedc6ab634a2194021ad10f1ebc8a": {
     "views": []
    },
    "acdb51df429b4791b3320fd833293c8b": {
     "views": []
    },
    "ad5522375e2f4f78b5a00684d10fc62a": {
     "views": []
    },
    "ae3451b9ae094b8d98b986081185245b": {
     "views": []
    },
    "af9e7019acc04a7b9974a927d0172ee8": {
     "views": []
    },
    "b1354d7beca544f9843d8e0958dec032": {
     "views": []
    },
    "b23106c587944ebabdff193216ae7b88": {
     "views": []
    },
    "b3592bc517a94545a865e69569f4a39f": {
     "views": []
    },
    "b3616b3d748549aa960ba8e06bb37ebe": {
     "views": []
    },
    "b4d785b926534cdda5bf580d971fe19d": {
     "views": []
    },
    "b580bcf7c1c24ae2bcdaed07546e27cd": {
     "views": []
    },
    "b66d15979a96406f9b8f93829ee6e74f": {
     "views": []
    },
    "b68a0c09f6a34ec1aeea66a8115ffe28": {
     "views": []
    },
    "b6c4a031aedc434591860ff0e3fb12f1": {
     "views": []
    },
    "b76a3c1187c34fb8923e2d4a34a6280f": {
     "views": []
    },
    "b7d58e2130e345df906563be486f3b6f": {
     "views": []
    },
    "b835c1b7aab9486caf9aa44cc67a0a1e": {
     "views": []
    },
    "ba3d9fdc178b430786e78e078a25c79a": {
     "views": []
    },
    "babd103cd3de4c9999444b7e7c8943fd": {
     "views": []
    },
    "bb121771486045ff9bb7cb9fba5e9ba2": {
     "views": []
    },
    "bbb25a8bb4c047b1a1d45354b459a014": {
     "views": []
    },
    "bbdd37dc32ca4614b9a68482f0e84327": {
     "views": []
    },
    "bc069c23d01142068579a8bab6f28b95": {
     "views": []
    },
    "bc1db76f75504a19a7b683a633c355cf": {
     "views": []
    },
    "bceb17defaa1412686bf6b44f0a40b7c": {
     "views": []
    },
    "bd9aec32da664baa85ae20e192862097": {
     "views": []
    },
    "bda22db2b7e849beb9a837f580edba50": {
     "views": []
    },
    "c08b489c1c4646158520b979a4b0fb9e": {
     "views": []
    },
    "c0f9a3623c8e42e99eff0b3d0b53b826": {
     "views": []
    },
    "c2bbcd6eff2c4789a4b35e12cc10b927": {
     "views": []
    },
    "c3a3379023fd430a9df1c9c9603addfb": {
     "views": []
    },
    "c5072469921e4c1c913422cc042584c3": {
     "views": [
      {
       "cell_index": 12
      }
     ]
    },
    "c5df6775a49146e5afba6bacc4bd2744": {
     "views": []
    },
    "c6d96fdaec9e4dce969e3f6b6af42e14": {
     "views": []
    },
    "c8e6a4db0bdd42e28daee9cde9db5a1b": {
     "views": []
    },
    "c9663fe4434149ef8e8ed03421ef6423": {
     "views": []
    },
    "cc245e0eae88493a84b88f9fb92d6bd8": {
     "views": []
    },
    "cf33038f39c542e2b64d312b1bb29c32": {
     "views": []
    },
    "d2874601efad45fcb172a1edd49edaa8": {
     "views": []
    },
    "d2bf935558224a74a1fbe231967a86e3": {
     "views": []
    },
    "d3dfd08d41e64f61b70fcdaeb27ae5c8": {
     "views": []
    },
    "d5cd518ce5e64469b1475061e51a0a10": {
     "views": []
    },
    "d5ed39ef8a0145b090315d17283d7693": {
     "views": []
    },
    "d88160b748e84b789f686eddd36714fd": {
     "views": []
    },
    "d98560a0792640e0889bd364eee590ba": {
     "views": []
    },
    "db33dc31a9b14966ba1fbc353f49bec4": {
     "views": []
    },
    "db3c83c8b5ea464698b3d83713d9ccf0": {
     "views": []
    },
    "dbc5a5a141ee42f7a99caaf32b00d98b": {
     "views": []
    },
    "dd3f503b90764c658fdfbd8f9829ce1f": {
     "views": []
    },
    "dec578ff887142aca124d5d8789dfafc": {
     "views": []
    },
    "dee2e1e9133e4ddfae3bfc097b3c3de2": {
     "views": []
    },
    "e105bf64ad2b4ada90544eb4f0e3d42d": {
     "views": []
    },
    "e12669d5a532468ab5672bd65d1061d2": {
     "views": []
    },
    "e1cfd14db9cc48bebc3a1155308d6382": {
     "views": []
    },
    "e36e7535e43f4985ab0514d132327d14": {
     "views": []
    },
    "e457887c46b042198610cf7f5a27cbbc": {
     "views": []
    },
    "e522abc28d6f439db06662fe9067d3c4": {
     "views": []
    },
    "e524f0b128d64868b304fd58c0938f9b": {
     "views": []
    },
    "e6de5eac752741339b323dcb699cd25d": {
     "views": []
    },
    "e6fc31b6c69c494e9749c73a879e0a8d": {
     "views": []
    },
    "e70bff8d70fc4a7fb6498171f6eccceb": {
     "views": []
    },
    "e8f848bd3ffa4ac3947a676757326f2b": {
     "views": []
    },
    "eb4e0084ad274748893600a0f5e28bc7": {
     "views": []
    },
    "eb5e31dc92b047338f3fd174679f15d9": {
     "views": []
    },
    "ed45f986c30845c798e62c3c802cf9d7": {
     "views": []
    },
    "ee1701c4223a498986889235948d84b2": {
     "views": []
    },
    "ee9c076fb0c94783b5166560deed5f5f": {
     "views": []
    },
    "eefe13749b0f49a0b184b7b948bbcef7": {
     "views": []
    },
    "ef017bc124134dc58b4955e8293fc4cc": {
     "views": []
    },
    "ef74cb9f27664604b38bb3f1e9022c22": {
     "views": []
    },
    "f05a18bd7e26497a8e828a2a17a35b05": {
     "views": []
    },
    "f080097bec234d2aa8f90046e45735ba": {
     "views": []
    },
    "f0e0a7216c61499fb448af552ea9057f": {
     "views": []
    },
    "f1685fb2a0dc41e7bf5595890b1c488c": {
     "views": []
    },
    "f19ecdf1ace74df7b7e262bd6860fd4b": {
     "views": []
    },
    "f41b886936fa4e59854caf8dbecf9202": {
     "views": []
    },
    "f42f5d7a0e464ab9aac57dc0b1ffc7a2": {
     "views": []
    },
    "f4517776997c41108790a947e00bcd7b": {
     "views": []
    },
    "f52c5541ab4a4a92a79174d05929e1d3": {
     "views": []
    },
    "f571e93db4fa49098dc6f4db57f8e51e": {
     "views": []
    },
    "f677317da8d742c8a599ae362719e664": {
     "views": []
    },
    "f6ef9a6cdb194f0dbe16607726e9c0a8": {
     "views": []
    },
    "f8b92bcf63fb4b73aa5ae103c91b6905": {
     "views": []
    },
    "f8d4c6970735443a88379100c0c1cbe9": {
     "views": []
    },
    "f9a7e83f015b4466837fcf919c95b495": {
     "views": []
    },
    "f9f09851a87448c88053ff642e8f4f90": {
     "views": []
    },
    "fa1059bda2334f03a5c169e1e49c70fc": {
     "views": []
    },
    "fa3a3d913fae42efbdf5a876c9a6a800": {
     "views": []
    },
    "fb0e10d3c3c746aeb8624a8ca71017fd": {
     "views": []
    },
    "fb11b82e0113467888a8f3400a9edb02": {
     "views": []
    },
    "fbfb8e1d05284da09db9d2c5cee86169": {
     "views": []
    },
    "fce406802cb64bcaae1d9ce6ef51550a": {
     "views": []
    },
    "fd2791fb49414c62bf4ce81d519014b9": {
     "views": []
    },
    "fdcd37eacd0c4bf593b8b1f996c6e8ee": {
     "views": []
    }
   },
   "version": "1.1.2"
  }
 },
 "nbformat": 4,
 "nbformat_minor": 0
}
