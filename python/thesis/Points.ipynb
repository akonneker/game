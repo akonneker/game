{
 "cells": [
  {
   "cell_type": "code",
   "execution_count": 1,
   "metadata": {
    "collapsed": true
   },
   "outputs": [],
   "source": [
    "from __future__ import print_function"
   ]
  },
  {
   "cell_type": "code",
   "execution_count": 2,
   "metadata": {
    "collapsed": true
   },
   "outputs": [],
   "source": [
    "import sys\n",
    "sys.path.append('../')\n",
    "sys.path.append('../../build/')"
   ]
  },
  {
   "cell_type": "code",
   "execution_count": 3,
   "metadata": {
    "collapsed": false
   },
   "outputs": [
    {
     "name": "stdout",
     "output_type": "stream",
     "text": [
      "Populating the interactive namespace from numpy and matplotlib\n"
     ]
    }
   ],
   "source": [
    "%pylab inline\n",
    "np.set_printoptions(precision=4, suppress=True)"
   ]
  },
  {
   "cell_type": "code",
   "execution_count": 4,
   "metadata": {
    "collapsed": false
   },
   "outputs": [
    {
     "ename": "ImportError",
     "evalue": "No module named 'seaborn'",
     "output_type": "error",
     "traceback": [
      "\u001b[0;31m---------------------------------------------------------------------------\u001b[0m",
      "\u001b[0;31mImportError\u001b[0m                               Traceback (most recent call last)",
      "\u001b[0;32m<ipython-input-4-1c222d79e6d1>\u001b[0m in \u001b[0;36m<module>\u001b[0;34m()\u001b[0m\n\u001b[0;32m----> 1\u001b[0;31m \u001b[0;32mimport\u001b[0m \u001b[0mseaborn\u001b[0m \u001b[0;32mas\u001b[0m \u001b[0msns\u001b[0m\u001b[0;34m\u001b[0m\u001b[0m\n\u001b[0m\u001b[1;32m      2\u001b[0m \u001b[0;32mimport\u001b[0m \u001b[0mpandas\u001b[0m \u001b[0;32mas\u001b[0m \u001b[0mpd\u001b[0m\u001b[0;34m\u001b[0m\u001b[0m\n\u001b[1;32m      3\u001b[0m \u001b[0;32mfrom\u001b[0m \u001b[0mmatplotlib\u001b[0m\u001b[0;34m.\u001b[0m\u001b[0mticker\u001b[0m \u001b[0;32mimport\u001b[0m \u001b[0mMaxNLocator\u001b[0m\u001b[0;34m\u001b[0m\u001b[0m\n",
      "\u001b[0;31mImportError\u001b[0m: No module named 'seaborn'"
     ]
    }
   ],
   "source": [
    "import seaborn as sns\n",
    "import pandas as pd\n",
    "from matplotlib.ticker import MaxNLocator"
   ]
  },
  {
   "cell_type": "code",
   "execution_count": 5,
   "metadata": {
    "collapsed": false
   },
   "outputs": [],
   "source": [
    "import versor as vsr\n",
    "from versor.drawing import *\n",
    "from motor_estimation import MotorEstimationSolver\n",
    "# from game import VDMotorEstimationSolver"
   ]
  },
  {
   "cell_type": "markdown",
   "metadata": {},
   "source": [
    "# Ground truth motor"
   ]
  },
  {
   "cell_type": "code",
   "execution_count": 6,
   "metadata": {
    "collapsed": false
   },
   "outputs": [
    {
     "name": "stdout",
     "output_type": "stream",
     "text": [
      "Mot: [ 0.87 0 -0.5 0 -0.68 -0.43 -0.18 -0.25 ]\n"
     ]
    }
   ],
   "source": [
    "motor = vsr.Vec(1,1,1).trs() * vsr.Rot(vsr.Biv(0,1,0) * (np.pi/6.0))\n",
    "print(motor)"
   ]
  },
  {
   "cell_type": "markdown",
   "metadata": {},
   "source": [
    "# Dataset"
   ]
  },
  {
   "cell_type": "code",
   "execution_count": 7,
   "metadata": {
    "collapsed": false
   },
   "outputs": [],
   "source": [
    "n_points=10\n",
    "points_a = [vsr.Vec(*np.random.normal(0.0, 0.8, 3)).null() for i in range(n_points)]\n",
    "points_b = [point.spin(motor) for point in points_a]"
   ]
  },
  {
   "cell_type": "markdown",
   "metadata": {},
   "source": [
    "# Estimate motor\n",
    "## No noise"
   ]
  },
  {
   "cell_type": "markdown",
   "metadata": {},
   "source": [
    "### 5 residuals"
   ]
  },
  {
   "cell_type": "code",
   "execution_count": 21,
   "metadata": {
    "collapsed": false
   },
   "outputs": [
    {
     "name": "stdout",
     "output_type": "stream",
     "text": [
      "Ceres Solver Report: Iterations: 20, Initial cost: 3.059006e+01, Final cost: 9.588204e-19, Termination: CONVERGENCE\n"
     ]
    }
   ],
   "source": [
    "initial_motor = vsr.Mot(1.0, 0.0, 0.0, 0.0, 0.0, 0.0, 0.0, 0.0)\n",
    "mes = MotorEstimationSolver(initial_motor)\n",
    "for a, b in zip(points_a, points_b):\n",
    "    mes.add_point_difference_residual_block(a,b)\n",
    "# mes.set_parameterization('BIVECTOR_GENERATOR')\n",
    "mes.set_parameterization('CAYLEY')\n",
    "mes.linear_solver_type = 'DENSE_QR'\n",
    "(em_point_5_res, summary_point_5_res, _) = mes.solve()\n",
    "print(summary_point_5_res['brief_report'])"
   ]
  },
  {
   "cell_type": "code",
   "execution_count": 22,
   "metadata": {
    "collapsed": false
   },
   "outputs": [
    {
     "data": {
      "text/plain": [
       "Mot: [ 0.87 -4.4e-11 -0.5 3.2e-11 -0.68 -0.43 -0.18 -0.25 ]"
      ]
     },
     "execution_count": 22,
     "metadata": {},
     "output_type": "execute_result"
    }
   ],
   "source": [
    "em_point_5_res"
   ]
  },
  {
   "cell_type": "markdown",
   "metadata": {},
   "source": [
    "### 3 residuals"
   ]
  },
  {
   "cell_type": "code",
   "execution_count": 9,
   "metadata": {
    "collapsed": false
   },
   "outputs": [
    {
     "name": "stdout",
     "output_type": "stream",
     "text": [
      "Ceres Solver Report: Iterations: 4, Initial cost: 2.450990e+01, Final cost: 7.099457e-19, Termination: CONVERGENCE\n"
     ]
    }
   ],
   "source": [
    "initial_motor = vsr.Mot(1.0, 0.0, 0.0, 0.0, 0.0, 0.0, 0.0, 0.0)\n",
    "mes = MotorEstimationSolver(initial_motor)\n",
    "for a, b in zip(points_a, points_b):\n",
    "    mes.add_point_correspondences_residual_block(a,b)\n",
    "mes.set_parameterization('BIVECTOR_GENERATOR')\n",
    "mes.linear_solver_type = 'DENSE_QR'\n",
    "# mes.function_tolerance = 1e-16\n",
    "(em_point_3_res, summary_point_3_res, _) = mes.solve()\n",
    "print(summary_point_3_res['brief_report'])"
   ]
  },
  {
   "cell_type": "markdown",
   "metadata": {},
   "source": [
    "### 1 residual"
   ]
  },
  {
   "cell_type": "code",
   "execution_count": 10,
   "metadata": {
    "collapsed": false
   },
   "outputs": [
    {
     "name": "stdout",
     "output_type": "stream",
     "text": [
      "Ceres Solver Report: Iterations: 14, Initial cost: 3.845491e+01, Final cost: 4.001523e-16, Termination: CONVERGENCE\n",
      "Mot: [ 0.87 -1.4e-08 -0.5 -1.1e-07 -0.68 -0.43 -0.18 -0.25 ]\n"
     ]
    }
   ],
   "source": [
    "initial_motor = vsr.Mot(1.0, 0.0, 0.0, 0.0, 0.0, 0.0, 0.0, 0.0)\n",
    "mes = MotorEstimationSolver(initial_motor)\n",
    "for a, b in zip(points_a, points_b):\n",
    "    mes.add_point_distance_residual_block(a,b)\n",
    "mes.set_parameterization('BIVECTOR_GENERATOR')\n",
    "mes.linear_solver_type = 'DENSE_QR'\n",
    "(em_point_1_res, summary_point_1_res, _) = mes.solve()\n",
    "print(summary_point_1_res['brief_report'])\n",
    "print(em_point_1_res)"
   ]
  },
  {
   "cell_type": "markdown",
   "metadata": {
    "collapsed": true
   },
   "source": [
    "### Plots"
   ]
  },
  {
   "cell_type": "code",
   "execution_count": 11,
   "metadata": {
    "collapsed": false
   },
   "outputs": [],
   "source": [
    "sns.set_style('whitegrid')\n",
    "sns.set_context('paper')"
   ]
  },
  {
   "cell_type": "code",
   "execution_count": 12,
   "metadata": {
    "collapsed": false
   },
   "outputs": [
    {
     "data": {
      "text/plain": [
       "<matplotlib.text.Text at 0x7f72577ffad0>"
      ]
     },
     "execution_count": 12,
     "metadata": {},
     "output_type": "execute_result"
    },
    {
     "data": {
      "image/png": "[encoded data removed]",
      "text/plain": [
       "<matplotlib.figure.Figure at 0x7f72577d34d0>"
      ]
     },
     "metadata": {},
     "output_type": "display_data"
    }
   ],
   "source": [
    "fig, ax = plt.subplots(1)\n",
    "ax.plot(pd.DataFrame(summary_point_5_res['iterations'])['cost'], label=r'5 residuals')\n",
    "ax.plot(pd.DataFrame(summary_point_3_res['iterations'])['cost'], label=r'3 residuals')\n",
    "ax.plot(pd.DataFrame(summary_point_1_res['iterations'])['cost'], label=r'1 residual')\n",
    "# plt.axhline(y=summary_vd['iterations'][0]['cost'])\n",
    "\n",
    "# ax.plot([it['cost'] for it in summary_point_1_res['iterations']])\n",
    "ax.semilogy()\n",
    "legend = ax.legend(frameon=False)\n",
    "ax.xaxis.set_major_locator(MaxNLocator(integer=True))\n",
    "plt.xlabel(r'Iteration $k$')\n",
    "plt.ylabel(r'Cost')\n",
    "# plt.savefig('../plots/points-nonoise.pdf')"
   ]
  },
  {
   "cell_type": "markdown",
   "metadata": {},
   "source": [
    "## Noise"
   ]
  },
  {
   "cell_type": "code",
   "execution_count": 13,
   "metadata": {
    "collapsed": true
   },
   "outputs": [],
   "source": [
    "points_b_noisy = [vsr.Vec(*(np.array(point)[:3] \n",
    "                            + sigma * np.random.randn(3))).null() \n",
    "                  for point in points_b]"
   ]
  },
  {
   "cell_type": "markdown",
   "metadata": {},
   "source": [
    "### 3 residuals"
   ]
  },
  {
   "cell_type": "code",
   "execution_count": 14,
   "metadata": {
    "collapsed": false
   },
   "outputs": [
    {
     "name": "stdout",
     "output_type": "stream",
     "text": [
      "Ceres Solver Report: Iterations: 4, Initial cost: 2.450990e+01, Final cost: 7.099457e-19, Termination: CONVERGENCE\n",
      "Mot: [ 0.86 -0.011 -0.51 -0.019 -0.68 -0.44 -0.17 -0.24 ]\n"
     ]
    }
   ],
   "source": [
    "initial_motor = vsr.Mot(1.0, 0.0, 0.0, 0.0, 0.0, 0.0, 0.0, 0.0)\n",
    "mes = MotorEstimationSolver(initial_motor)\n",
    "for a, b in zip(points_a, points_b_noisy):\n",
    "    mes.add_point_correspondences_residual_block(a,b)\n",
    "mes.set_parameterization('BIVECTOR_GENERATOR')\n",
    "mes.linear_solver_type = 'DENSE_QR'\n",
    "# mes.function_tolerance = 1e-16\n",
    "(em_point_3_res_noise, summary_point_3_res_noise, _) = mes.solve()\n",
    "print(summary_point_3_res['brief_report'])\n",
    "print(em_point_3_res_noise)"
   ]
  },
  {
   "cell_type": "markdown",
   "metadata": {},
   "source": [
    "### Valkenburg and Dorst"
   ]
  },
  {
   "cell_type": "code",
   "execution_count": 15,
   "metadata": {
    "collapsed": false
   },
   "outputs": [
    {
     "name": "stdout",
     "output_type": "stream",
     "text": [
      "Mot: [ 0.86 -0.011 -0.51 -0.019 -0.68 -0.44 -0.17 -0.24 ]\n"
     ]
    }
   ],
   "source": [
    "vd = VDMotorEstimationSolver()\n",
    "vd.add_point_observations(points_a,points_b_noisy)\n",
    "vd_em_points_noise = vd.solve()\n",
    "print(vd_em_points_noise)"
   ]
  },
  {
   "cell_type": "code",
   "execution_count": 16,
   "metadata": {
    "collapsed": false
   },
   "outputs": [
    {
     "name": "stdout",
     "output_type": "stream",
     "text": [
      "Ceres Solver Report: Iterations: 0, Initial cost: 1.229881e-01, Final cost: 1.229881e-01, Termination: CONVERGENCE\n"
     ]
    }
   ],
   "source": [
    "mes = MotorEstimationSolver(vd_em_points_noise)\n",
    "for a, b in zip(points_a, points_b_noisy):\n",
    "    mes.add_point_correspondences_residual_block(a,b)\n",
    "mes.set_parameterization('BIVECTOR_GENERATOR')\n",
    "mes.linear_solver_type = 'DENSE_QR'\n",
    "(_, summary_vd, _) = mes.solve()\n",
    "print(summary_vd['brief_report'])"
   ]
  },
  {
   "cell_type": "code",
   "execution_count": null,
   "metadata": {
    "collapsed": true
   },
   "outputs": [],
   "source": []
  },
  {
   "cell_type": "code",
   "execution_count": 47,
   "metadata": {
    "collapsed": false
   },
   "outputs": [
    {
     "data": {
      "text/plain": [
       "<matplotlib.text.Text at 0x7f7254f59690>"
      ]
     },
     "execution_count": 47,
     "metadata": {},
     "output_type": "execute_result"
    },
    {
     "data": {
      "image/png": "[encoded data removed]",
      "text/plain": [
       "<matplotlib.figure.Figure at 0x7f7255205510>"
      ]
     },
     "metadata": {},
     "output_type": "display_data"
    }
   ],
   "source": [
    "fig, ax = plt.subplots(1)\n",
    "plt.axhline(y=summary_vd['iterations'][0]['cost'], label=r'Valkenburg and Dorst')\n",
    "\n",
    "ax.plot(pd.DataFrame(summary_point_3_res['iterations'])['cost'], label=r'3 residuals')\n",
    "\n",
    "# ax.plot([it['cost'] for it in summary_point_1_res['iterations']])\n",
    "ax.semilogy()\n",
    "legend = ax.legend(frameon=False)\n",
    "ax.xaxis.set_major_locator(MaxNLocator(integer=True))\n",
    "plt.xlabel(r'Iteration $k$')\n",
    "plt.ylabel(r'Cost')\n",
    "# plt.savefig('../plots/points_noise.pdf')"
   ]
  },
  {
   "cell_type": "markdown",
   "metadata": {},
   "source": [
    "### Evaluate"
   ]
  },
  {
   "cell_type": "code",
   "execution_count": 309,
   "metadata": {
    "collapsed": true
   },
   "outputs": [],
   "source": [
    "def compare_with_vd(n=1):\n",
    "    d3s = []\n",
    "    dvds = []\n",
    "    noise_levels = [0.0, 0.09, 0.18]\n",
    "    for sigma in noise_levels:\n",
    "        d3s_noise = []\n",
    "        dvds_noise = []\n",
    "        for i in range(n):\n",
    "            n_points=10\n",
    "            points_a = [vsr.Vec(*np.random.normal(0.0, 0.8, 3)).null() \n",
    "                        for i in range(n_points)]\n",
    "            points_b = [point.spin(motor) for point in points_a]\n",
    "            points_b_noisy = [vsr.Vec(*(np.array(point)[:3] \n",
    "                                    + sigma * np.random.randn(3))).null() \n",
    "                          for point in points_b]\n",
    "            \n",
    "            initial_motor = vsr.Mot(1.0, 0.0, 0.0, 0.0, 0.0, 0.0, 0.0, 0.0)\n",
    "            mes = MotorEstimationSolver(initial_motor)\n",
    "            for a, b in zip(points_a, points_b_noisy):\n",
    "                mes.add_point_correspondences_residual_block(a,b)\n",
    "            mes.set_parameterization('BIVECTOR_GENERATOR')\n",
    "            mes.linear_solver_type = 'DENSE_QR'\n",
    "            (em_point_3_res_noise, summary_point_3_res_noise, _) = mes.solve()\n",
    "\n",
    "            vd = VDMotorEstimationSolver()\n",
    "            vd.add_point_observations(points_a,points_b_noisy)\n",
    "            vd_em_points_noise = vd.solve()\n",
    "\n",
    "            d3s_noise.append([np.linalg.norm(b.vec() - a.spin(em_point_3_res_noise).vec()) \n",
    "                              for a,b in zip(points_a, points_b)])\n",
    "            dvds_noise.append([np.linalg.norm(b.vec() - a.spin(vd_em_points_noise).vec()) \n",
    "                               for a,b in zip(points_a, points_b)])\n",
    "        d3s.append(d3s_noise)\n",
    "        dvds.append(dvds_noise)\n",
    "    return (d3s, dvds)"
   ]
  },
  {
   "cell_type": "code",
   "execution_count": 342,
   "metadata": {
    "collapsed": false
   },
   "outputs": [],
   "source": [
    "d3s, dvds = compare_with_vd(100)"
   ]
  },
  {
   "cell_type": "code",
   "execution_count": 350,
   "metadata": {
    "collapsed": false
   },
   "outputs": [
    {
     "data": {
      "text/plain": [
       "0.38028497502365344"
      ]
     },
     "execution_count": 350,
     "metadata": {},
     "output_type": "execute_result"
    }
   ],
   "source": [
    " np.mean([np.sum(arr) / np.sqrt(len(arr)) for arr in d3s[2]])"
   ]
  },
  {
   "cell_type": "code",
   "execution_count": 360,
   "metadata": {
    "collapsed": false
   },
   "outputs": [
    {
     "data": {
      "text/plain": [
       "[(1.9045164684190649e-09, 1.5888122724763639e-09),\n",
       " (0.19184335933765864, 0.054211766840794089),\n",
       " (0.38028497502365344, 0.1062314325418712)]"
      ]
     },
     "execution_count": 360,
     "metadata": {},
     "output_type": "execute_result"
    }
   ],
   "source": [
    "[[[(np.mean(arr), np.std(arr)) for arr in [[np.sum(arr) / np.sqrt(len(arr)) for arr in d]]][0] for d in d3s]][0]"
   ]
  },
  {
   "cell_type": "code",
   "execution_count": 362,
   "metadata": {
    "collapsed": false
   },
   "outputs": [
    {
     "data": {
      "text/plain": [
       "[(2.02187343599402e-15, 6.376153994304896e-16),\n",
       " (0.19185358667535052, 0.054196896132366536),\n",
       " (0.38025094211067134, 0.10624555204918278)]"
      ]
     },
     "execution_count": 362,
     "metadata": {},
     "output_type": "execute_result"
    }
   ],
   "source": [
    "[[[(np.mean(arr), np.std(arr)) \n",
    "   for arr in [[np.sum(arr) / np.sqrt(len(arr)) \n",
    "                for arr in d]]][0] \n",
    "  for d in dvds]][0]"
   ]
  },
  {
   "cell_type": "code",
   "execution_count": 21,
   "metadata": {
    "collapsed": false
   },
   "outputs": [],
   "source": [
    "scene = Scene(children=\n",
    "#               [point_mesh(point,color=Colors.HOTPINK) for point in points_a] +\\\n",
    "              [point_mesh(point,color=Colors.LIGHTSKYBLUE) for point in points_b] +\\\n",
    "              [point_mesh(point,color='palegreen') for point in points_b_noisy] +\\\n",
    "#               [point_mesh(point.spin(motors[1]),color='palegreen') for point in points_a] +\\\n",
    "              [point_mesh(point.spin(em_point_3_res_noise),color=Colors.HOTPINK) for point in points_a] +\\\n",
    "            [point_mesh(point.spin(vd_em_points_noise),color=Colors.BLACK) for point in points_a] +\\\n",
    "\n",
    "              [frame_mesh(),AmbientLight(color='#cccccc')])\n",
    "\n",
    "camera = PerspectiveCamera(position=[3, -3, 3])\n",
    "renderer = Renderer(camera=camera, \n",
    "                    scene=scene, \n",
    "                    controls=[TrackballControls(controlling=camera)],\n",
    "                    background = 'white',\n",
    "                    width='960',\n",
    "                    height='512')\n",
    "# renderer.width = '1024'\n",
    "# renderer.height = '768'\n",
    "display(renderer)"
   ]
  }
 ],
 "metadata": {
  "kernelspec": {
   "display_name": "Python 3",
   "language": "python",
   "name": "python3"
  },
  "language_info": {
   "codemirror_mode": {
    "name": "ipython",
    "version": 3
   },
   "file_extension": ".py",
   "mimetype": "text/x-python",
   "name": "python",
   "nbconvert_exporter": "python",
   "pygments_lexer": "ipython3",
   "version": "3.5.2"
  }
 },
 "nbformat": 4,
 "nbformat_minor": 0
}
