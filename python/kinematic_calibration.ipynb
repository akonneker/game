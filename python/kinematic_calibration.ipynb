{
 "cells": [
  {
   "cell_type": "code",
   "execution_count": 1,
   "metadata": {
    "collapsed": false
   },
   "outputs": [
    {
     "name": "stdout",
     "output_type": "stream",
     "text": [
      "Populating the interactive namespace from numpy and matplotlib\n"
     ]
    }
   ],
   "source": [
    "import sys\n",
    "sys.path.append('../build/Debug')\n",
    "from libkinematic_calibration import KinematicCalibration\n",
    "%pylab inline\n",
    "np.set_printoptions(precision=6, suppress=True)"
   ]
  },
  {
   "cell_type": "code",
   "execution_count": 2,
   "metadata": {
    "collapsed": false
   },
   "outputs": [],
   "source": [
    "def create_solver_options(use_trust_region_minimizer=True):\n",
    "    solver_options = {\n",
    "        'minimizer_type':'TRUST_REGION',\n",
    "        'trust_region_strategy_type':'LEVENBERG_MARQUARDT',\n",
    "#         'linear_solver_type':'DENSE_QR',\n",
    "        'linear_solver_type':'SPARSE_NORMAL_CHOLESKY',\n",
    "        'max_num_iterations': 100,\n",
    "        'num_threads': 12,\n",
    "        'num_linear_solver_threads':12,\n",
    "        'parameter_tolerance': 10e-16,\n",
    "        'function_tolerance': 10e-16,\n",
    "        'gradient_tolerance': 10e-16,\n",
    "        'minimizer_progress_to_stdout':True,\n",
    "        'trust_region_minimizer_iterations_to_dump':[],\n",
    "        'trust_region_problem_dump_directory':'',\n",
    "    }\n",
    "    return solver_options  \n",
    "solver_options = create_solver_options()"
   ]
  },
  {
   "cell_type": "code",
   "execution_count": 3,
   "metadata": {
    "collapsed": false
   },
   "outputs": [],
   "source": [
    "m0 = np.array([1.0,0.0,0.0,0.0,0.0,0.0,0.0,0.0]).reshape(8,1)\n",
    "m1 = np.array([1.0,0.0,0.0,0.0,0.0,0.0,0.0,0.0]).reshape(8,1)\n",
    "m2 = np.array([1.0,0.0,0.0,0.0,0.0,0.0,0.0,0.0]).reshape(8,1)\n",
    "m3 = np.array([1.0,0.0,0.0,0.0,0.0,0.0,0.0,0.0]).reshape(8,1)\n",
    "m4 = np.array([1.0,0.0,0.0,0.0,0.0,0.0,0.0,0.0]).reshape(8,1)\n",
    "m5 = np.array([1.0,0.0,0.0,0.0,0.0,0.0,0.0,0.0]).reshape(8,1)\n",
    "m6 = np.array([1.0,0.0,0.0,0.0,0.0,0.0,0.0,0.0]).reshape(8,1)\n",
    "motors = [m0,m1,m2,m3,m4,m5,m6]"
   ]
  },
  {
   "cell_type": "code",
   "execution_count": 4,
   "metadata": {
    "collapsed": false
   },
   "outputs": [
    {
     "data": {
      "text/plain": [
       "array([[ 0.429073,  0.364028,  0.060555,  0.181053,  0.55683 ,  0.199779],\n",
       "       [ 0.520225,  0.079198,  0.427756,  0.163887,  0.055228,  0.649609],\n",
       "       [ 0.311382,  0.731378,  0.611628,  0.801402,  0.307445,  0.06867 ],\n",
       "       [ 0.514305,  0.224428,  0.200793,  0.63936 ,  0.299897,  0.537818],\n",
       "       [ 0.656272,  0.460482,  0.123176,  0.104072,  0.404601,  0.583887],\n",
       "       [ 0.573857,  0.140952,  0.896751,  0.324756,  0.526057,  0.39402 ],\n",
       "       [ 0.752067,  0.670855,  0.500203,  0.222147,  0.861825,  0.636605],\n",
       "       [ 0.835318,  0.806172,  0.358911,  0.271424,  0.809427,  0.536833],\n",
       "       [ 0.852849,  0.551468,  0.72043 ,  0.451262,  0.034907,  0.121807],\n",
       "       [ 0.437668,  0.384986,  0.878099,  0.906249,  0.47348 ,  0.509109]])"
      ]
     },
     "execution_count": 4,
     "metadata": {},
     "output_type": "execute_result"
    }
   ],
   "source": [
    "n = 10\n",
    "qs = np.array([np.random.rand((6)) for i in range(n)]).reshape(n,6)\n",
    "qs"
   ]
  },
  {
   "cell_type": "code",
   "execution_count": 5,
   "metadata": {
    "collapsed": false
   },
   "outputs": [],
   "source": [
    "kc = KinematicCalibration(solver_options)"
   ]
  },
  {
   "cell_type": "code",
   "execution_count": 6,
   "metadata": {
    "collapsed": false
   },
   "outputs": [],
   "source": [
    "kc.run(qs,motors[0], motors[1], motors[2], motors[3], motors[4], motors[5], motors[6])"
   ]
  },
  {
   "cell_type": "code",
   "execution_count": 7,
   "metadata": {
    "collapsed": false
   },
   "outputs": [
    {
     "name": "stdout",
     "output_type": "stream",
     "text": [
      "\n",
      "Solver Summary (v 1.10.0-eigen-(3.2.0)-lapack-suitesparse-(4.2.1)-openmp)\n",
      "\n",
      "                                     Original                  Reduced\n",
      "Parameter blocks                            7                        7\n",
      "Parameters                                 56                       56\n",
      "Residual blocks                            10                       10\n",
      "Residual                                   30                       30\n",
      "\n",
      "Minimizer                        TRUST_REGION\n",
      "\n",
      "Sparse linear algebra library    SUITE_SPARSE\n",
      "Trust region strategy     LEVENBERG_MARQUARDT\n",
      "\n",
      "                                        Given                     Used\n",
      "Linear solver          SPARSE_NORMAL_CHOLESKY   SPARSE_NORMAL_CHOLESKY\n",
      "Threads                                    12                       12\n",
      "Linear solver threads                      12                       12\n",
      "\n",
      "Cost:\n",
      "Initial                          1.803507e+00\n",
      "Final                            1.469641e-01\n",
      "Change                           1.656543e+00\n",
      "\n",
      "Minimizer iterations                        3\n",
      "Successful steps                            3\n",
      "Unsuccessful steps                          0\n",
      "\n",
      "Time (in seconds):\n",
      "Preprocessor                           0.0009\n",
      "\n",
      "  Residual evaluation                  0.0047\n",
      "  Jacobian evaluation                  0.1234\n",
      "  Linear solver                        0.0021\n",
      "Minimizer                              0.1315\n",
      "\n",
      "Postprocessor                          0.0011\n",
      "Total                                  0.1335\n",
      "\n",
      "Termination:                      CONVERGENCE (Function tolerance reached. |cost_change|/cost: 1.888595e-16 <= 1.000000e-15)\n",
      "\n"
     ]
    }
   ],
   "source": [
    "print(kc.summary()['full_report'])"
   ]
  },
  {
   "cell_type": "code",
   "execution_count": 8,
   "metadata": {
    "collapsed": false
   },
   "outputs": [
    {
     "data": {
      "text/plain": [
       "[array([[ 0.999779],\n",
       "        [ 0.      ],\n",
       "        [-0.021022],\n",
       "        [-0.      ],\n",
       "        [ 0.007454],\n",
       "        [ 0.      ],\n",
       "        [-0.020452],\n",
       "        [ 0.      ]]), array([[ 0.999789],\n",
       "        [ 0.      ],\n",
       "        [-0.020551],\n",
       "        [-0.      ],\n",
       "        [ 0.007494],\n",
       "        [ 0.      ],\n",
       "        [-0.020664],\n",
       "        [ 0.      ]]), array([[ 0.999799],\n",
       "        [ 0.      ],\n",
       "        [-0.020032],\n",
       "        [-0.      ],\n",
       "        [ 0.007543],\n",
       "        [ 0.      ],\n",
       "        [-0.020873],\n",
       "        [ 0.      ]]), array([[ 0.99981 ],\n",
       "        [ 0.      ],\n",
       "        [-0.019477],\n",
       "        [-0.      ],\n",
       "        [ 0.0076  ],\n",
       "        [ 0.      ],\n",
       "        [-0.02108 ],\n",
       "        [ 0.      ]]), array([[ 0.999821],\n",
       "        [ 0.      ],\n",
       "        [-0.0189  ],\n",
       "        [-0.      ],\n",
       "        [ 0.007665],\n",
       "        [ 0.      ],\n",
       "        [-0.021285],\n",
       "        [ 0.      ]]), array([[ 0.999832],\n",
       "        [ 0.      ],\n",
       "        [-0.018315],\n",
       "        [-0.      ],\n",
       "        [ 0.007737],\n",
       "        [ 0.      ],\n",
       "        [-0.021488],\n",
       "        [ 0.      ]]), array([[ 0.999843],\n",
       "        [ 0.      ],\n",
       "        [-0.017741],\n",
       "        [-0.      ],\n",
       "        [ 0.007818],\n",
       "        [ 0.      ],\n",
       "        [-0.021687],\n",
       "        [ 0.      ]])]"
      ]
     },
     "execution_count": 8,
     "metadata": {},
     "output_type": "execute_result"
    }
   ],
   "source": [
    "motors"
   ]
  },
  {
   "cell_type": "code",
   "execution_count": 9,
   "metadata": {
    "collapsed": false
   },
   "outputs": [
    {
     "data": {
      "text/plain": [
       "[<matplotlib.lines.Line2D at 0x7fc2ec7abf10>]"
      ]
     },
     "execution_count": 9,
     "metadata": {},
     "output_type": "execute_result"
    },
    {
     "data": {
      "image/png": "[encoded data removed]",
      "text/plain": [
       "<matplotlib.figure.Figure at 0x7fc2f2004bd0>"
      ]
     },
     "metadata": {},
     "output_type": "display_data"
    }
   ],
   "source": [
    "its = kc.summary()['iterations']\n",
    "plot([i['gradient_max_norm'] for i in its])"
   ]
  },
  {
   "cell_type": "code",
   "execution_count": 10,
   "metadata": {
    "collapsed": false
   },
   "outputs": [
    {
     "data": {
      "text/plain": [
       "[<matplotlib.lines.Line2D at 0x7fc2ec5d6d10>]"
      ]
     },
     "execution_count": 10,
     "metadata": {},
     "output_type": "execute_result"
    },
    {
     "data": {
      "image/png": "[encoded data removed]",
      "text/plain": [
       "<matplotlib.figure.Figure at 0x7fc2ec7068d0>"
      ]
     },
     "metadata": {},
     "output_type": "display_data"
    }
   ],
   "source": [
    "times = np.array([0.0721, 0.1533, 1.4150, 12.0537, 147.1182])\n",
    "plt.plot(times)"
   ]
  },
  {
   "cell_type": "code",
   "execution_count": 11,
   "metadata": {
    "collapsed": false
   },
   "outputs": [
    {
     "name": "stdout",
     "output_type": "stream",
     "text": [
      "2.12621359223\n",
      "9.23026744945\n",
      "8.51851590106\n"
     ]
    }
   ],
   "source": [
    "print(times[1] / times[0])\n",
    "print(times[2] / times[1])\n",
    "print(times[3] / times[2])"
   ]
  }
 ],
 "metadata": {
  "kernelspec": {
   "display_name": "Python 2",
   "language": "python",
   "name": "python2"
  },
  "language_info": {
   "codemirror_mode": {
    "name": "ipython",
    "version": 2
   },
   "file_extension": ".py",
   "mimetype": "text/x-python",
   "name": "python",
   "nbconvert_exporter": "python",
   "pygments_lexer": "ipython2",
   "version": "2.7.6"
  }
 },
 "nbformat": 4,
 "nbformat_minor": 0
}
