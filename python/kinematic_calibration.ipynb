{
 "cells": [
  {
   "cell_type": "code",
   "execution_count": 1,
   "metadata": {
    "collapsed": false
   },
   "outputs": [
    {
     "name": "stdout",
     "output_type": "stream",
     "text": [
      "Populating the interactive namespace from numpy and matplotlib\n"
     ]
    }
   ],
   "source": [
    "import sys\n",
    "sys.path.append('../build/Debug')\n",
    "from libkinematic_calibration import KinematicCalibration\n",
    "%pylab inline\n",
    "np.set_printoptions(precision=6, suppress=True)"
   ]
  },
  {
   "cell_type": "code",
   "execution_count": 2,
   "metadata": {
    "collapsed": false
   },
   "outputs": [],
   "source": [
    "def create_solver_options(use_trust_region_minimizer=True):\n",
    "    solver_options = {\n",
    "        'minimizer_type':'TRUST_REGION',\n",
    "        'trust_region_strategy_type':'LEVENBERG_MARQUARDT',\n",
    "#         'linear_solver_type':'DENSE_QR',\n",
    "        'linear_solver_type':'SPARSE_NORMAL_CHOLESKY',\n",
    "        'max_num_iterations': 100,\n",
    "        'num_threads': 12,\n",
    "        'num_linear_solver_threads':12,\n",
    "        'parameter_tolerance': 10e-16,\n",
    "        'function_tolerance': 10e-16,\n",
    "        'gradient_tolerance': 10e-16,\n",
    "        'minimizer_progress_to_stdout':True,\n",
    "        'trust_region_minimizer_iterations_to_dump':[],\n",
    "        'trust_region_problem_dump_directory':'',\n",
    "    }\n",
    "    return solver_options  \n",
    "solver_options = create_solver_options()"
   ]
  },
  {
   "cell_type": "code",
   "execution_count": 3,
   "metadata": {
    "collapsed": false
   },
   "outputs": [],
   "source": [
    "m0 = np.array([1.0,0.0,0.0,0.0,0.0,0.0,0.0,0.0]).reshape(8,1)\n",
    "m1 = np.array([1.0,0.0,0.0,0.0,0.0,0.0,0.0,0.0]).reshape(8,1)\n",
    "m2 = np.array([1.0,0.0,0.0,0.0,0.0,0.0,0.0,0.0]).reshape(8,1)\n",
    "m3 = np.array([1.0,0.0,0.0,0.0,0.0,0.0,0.0,0.0]).reshape(8,1)\n",
    "m4 = np.array([1.0,0.0,0.0,0.0,0.0,0.0,0.0,0.0]).reshape(8,1)\n",
    "m5 = np.array([1.0,0.0,0.0,0.0,0.0,0.0,0.0,0.0]).reshape(8,1)\n",
    "m6 = np.array([1.0,0.0,0.0,0.0,0.0,0.0,0.0,0.0]).reshape(8,1)\n",
    "motors = [m0,m1,m2,m3,m4,m5,m6]"
   ]
  },
  {
   "cell_type": "code",
   "execution_count": 4,
   "metadata": {
    "collapsed": false
   },
   "outputs": [
    {
     "data": {
      "text/plain": [
       "array([[ 0.363751,  0.680867,  0.15828 ,  0.344739,  0.699913,  0.641602],\n",
       "       [ 0.33663 ,  0.218592,  0.748676,  0.207955,  0.905032,  0.246805],\n",
       "       [ 0.730445,  0.379618,  0.896604,  0.791161,  0.954327,  0.845345],\n",
       "       [ 0.61635 ,  0.595182,  0.100559,  0.455277,  0.400641,  0.295666],\n",
       "       [ 0.360618,  0.160504,  0.095914,  0.283067,  0.488216,  0.014942],\n",
       "       [ 0.24337 ,  0.953962,  0.8621  ,  0.114066,  0.235679,  0.976255],\n",
       "       [ 0.70353 ,  0.562853,  0.082506,  0.253013,  0.569595,  0.737261],\n",
       "       [ 0.817779,  0.281785,  0.847847,  0.72937 ,  0.613793,  0.298896],\n",
       "       [ 0.802988,  0.115971,  0.137026,  0.375477,  0.410847,  0.648647],\n",
       "       [ 0.257664,  0.352585,  0.437276,  0.316326,  0.510701,  0.261404]])"
      ]
     },
     "execution_count": 4,
     "metadata": {},
     "output_type": "execute_result"
    }
   ],
   "source": [
    "n = 10\n",
    "qs = np.array([np.random.rand((6)) for i in range(n)]).reshape(n,6)\n",
    "qs"
   ]
  },
  {
   "cell_type": "code",
   "execution_count": 5,
   "metadata": {
    "collapsed": false
   },
   "outputs": [],
   "source": [
    "kc = KinematicCalibration(solver_options)"
   ]
  },
  {
   "cell_type": "code",
   "execution_count": 6,
   "metadata": {
    "collapsed": false
   },
   "outputs": [],
   "source": [
    "kc.run(qs,motors[0], motors[1], motors[2], motors[3], motors[4], motors[5], motors[6])"
   ]
  },
  {
   "cell_type": "code",
   "execution_count": 7,
   "metadata": {
    "collapsed": false
   },
   "outputs": [
    {
     "name": "stdout",
     "output_type": "stream",
     "text": [
      "\n",
      "Solver Summary (v 1.10.0-eigen-(3.2.0)-lapack-suitesparse-(4.2.1)-openmp)\n",
      "\n",
      "                                     Original                  Reduced\n",
      "Parameter blocks                            7                        7\n",
      "Parameters                                 56                       56\n",
      "Residual blocks                            10                       10\n",
      "Residual                                   30                       30\n",
      "\n",
      "Minimizer                        TRUST_REGION\n",
      "\n",
      "Sparse linear algebra library    SUITE_SPARSE\n",
      "Trust region strategy     LEVENBERG_MARQUARDT\n",
      "\n",
      "                                        Given                     Used\n",
      "Linear solver          SPARSE_NORMAL_CHOLESKY   SPARSE_NORMAL_CHOLESKY\n",
      "Threads                                    12                       12\n",
      "Linear solver threads                      12                       12\n",
      "\n",
      "Cost:\n",
      "Initial                          1.546521e+00\n",
      "Final                            2.381764e-01\n",
      "Change                           1.308345e+00\n",
      "\n",
      "Minimizer iterations                        3\n",
      "Successful steps                            3\n",
      "Unsuccessful steps                          0\n",
      "\n",
      "Time (in seconds):\n",
      "Preprocessor                           0.0009\n",
      "\n",
      "  Residual evaluation                  0.0184\n",
      "  Jacobian evaluation                  0.0901\n",
      "  Linear solver                        0.0021\n",
      "Minimizer                              0.1120\n",
      "\n",
      "Postprocessor                          0.0011\n",
      "Total                                  0.1140\n",
      "\n",
      "Termination:                      CONVERGENCE (Function tolerance reached. |cost_change|/cost: 1.165337e-16 <= 1.000000e-15)\n",
      "\n"
     ]
    }
   ],
   "source": [
    "print(kc.summary()['full_report'])"
   ]
  },
  {
   "cell_type": "code",
   "execution_count": 8,
   "metadata": {
    "collapsed": false
   },
   "outputs": [
    {
     "data": {
      "text/plain": [
       "[array([[ 0.992613],\n",
       "        [-0.      ],\n",
       "        [-0.121326],\n",
       "        [-0.      ],\n",
       "        [ 0.047176],\n",
       "        [-0.      ],\n",
       "        [-0.130054],\n",
       "        [ 0.      ]]), array([[ 1.],\n",
       "        [ 0.],\n",
       "        [ 0.],\n",
       "        [ 0.],\n",
       "        [ 0.],\n",
       "        [ 0.],\n",
       "        [ 0.],\n",
       "        [ 0.]]), array([[ 1.],\n",
       "        [ 0.],\n",
       "        [ 0.],\n",
       "        [ 0.],\n",
       "        [ 0.],\n",
       "        [ 0.],\n",
       "        [ 0.],\n",
       "        [ 0.]]), array([[ 1.],\n",
       "        [ 0.],\n",
       "        [ 0.],\n",
       "        [ 0.],\n",
       "        [ 0.],\n",
       "        [ 0.],\n",
       "        [ 0.],\n",
       "        [ 0.]]), array([[ 1.],\n",
       "        [ 0.],\n",
       "        [ 0.],\n",
       "        [ 0.],\n",
       "        [ 0.],\n",
       "        [ 0.],\n",
       "        [ 0.],\n",
       "        [ 0.]]), array([[ 1.],\n",
       "        [ 0.],\n",
       "        [ 0.],\n",
       "        [ 0.],\n",
       "        [ 0.],\n",
       "        [ 0.],\n",
       "        [ 0.],\n",
       "        [ 0.]]), array([[ 1.],\n",
       "        [ 0.],\n",
       "        [ 0.],\n",
       "        [ 0.],\n",
       "        [ 0.],\n",
       "        [ 0.],\n",
       "        [ 0.],\n",
       "        [ 0.]])]"
      ]
     },
     "execution_count": 8,
     "metadata": {},
     "output_type": "execute_result"
    }
   ],
   "source": [
    "motors"
   ]
  },
  {
   "cell_type": "code",
   "execution_count": 9,
   "metadata": {
    "collapsed": false
   },
   "outputs": [
    {
     "data": {
      "text/plain": [
       "[<matplotlib.lines.Line2D at 0x7f65f31c1f10>]"
      ]
     },
     "execution_count": 9,
     "metadata": {},
     "output_type": "execute_result"
    },
    {
     "data": {
      "image/png": "[encoded data removed]",
      "text/plain": [
       "<matplotlib.figure.Figure at 0x7f65f8a19c10>"
      ]
     },
     "metadata": {},
     "output_type": "display_data"
    }
   ],
   "source": [
    "its = kc.summary()['iterations']\n",
    "plot([i['gradient_max_norm'] for i in its])"
   ]
  },
  {
   "cell_type": "code",
   "execution_count": 10,
   "metadata": {
    "collapsed": false
   },
   "outputs": [
    {
     "data": {
      "text/plain": [
       "[<matplotlib.lines.Line2D at 0x7f65f2fec550>]"
      ]
     },
     "execution_count": 10,
     "metadata": {},
     "output_type": "execute_result"
    },
    {
     "data": {
      "image/png": "[encoded data removed]",
      "text/plain": [
       "<matplotlib.figure.Figure at 0x7f65f311cd90>"
      ]
     },
     "metadata": {},
     "output_type": "display_data"
    }
   ],
   "source": [
    "times = np.array([0.0721, 0.1533, 1.4150, 12.0537, 147.1182])\n",
    "plt.plot(times)"
   ]
  },
  {
   "cell_type": "code",
   "execution_count": 11,
   "metadata": {
    "collapsed": false
   },
   "outputs": [
    {
     "name": "stdout",
     "output_type": "stream",
     "text": [
      "2.12621359223\n",
      "9.23026744945\n",
      "8.51851590106\n"
     ]
    }
   ],
   "source": [
    "print(times[1] / times[0])\n",
    "print(times[2] / times[1])\n",
    "print(times[3] / times[2])"
   ]
  }
 ],
 "metadata": {
  "kernelspec": {
   "display_name": "Python 2",
   "language": "python",
   "name": "python2"
  },
  "language_info": {
   "codemirror_mode": {
    "name": "ipython",
    "version": 2
   },
   "file_extension": ".py",
   "mimetype": "text/x-python",
   "name": "python",
   "nbconvert_exporter": "python",
   "pygments_lexer": "ipython2",
   "version": "2.7.6"
  }
 },
 "nbformat": 4,
 "nbformat_minor": 0
}
