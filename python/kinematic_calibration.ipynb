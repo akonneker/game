{
 "cells": [
  {
   "cell_type": "code",
   "execution_count": null,
   "metadata": {
    "collapsed": false
   },
   "outputs": [],
   "source": [
    "import sys\n",
    "sys.path.append('../build/Debug')\n",
    "from libkinematic_calibration import KinematicCalibration\n",
    "%pylab inline\n",
    "np.set_printoptions(precision=6, suppress=True)"
   ]
  },
  {
   "cell_type": "code",
   "execution_count": null,
   "metadata": {
    "collapsed": false
   },
   "outputs": [],
   "source": [
    "def create_solver_options(use_trust_region_minimizer=True):\n",
    "    solver_options = {\n",
    "        'minimizer_type':'TRUST_REGION',\n",
    "        'trust_region_strategy_type':'LEVENBERG_MARQUARDT',\n",
    "        'linear_solver_type':'DENSE_QR',\n",
    "#         'linear_solver_type':'SPARSE_NORMAL_CHOLESKY',\n",
    "        'max_num_iterations': 100,\n",
    "        'num_threads': 1000,\n",
    "        'num_linear_solver_threads':1000,\n",
    "        'parameter_tolerance': 10e-8,\n",
    "        'function_tolerance': 10e-8,\n",
    "        'gradient_tolerance': 10e-10,\n",
    "        'minimizer_progress_to_stdout':True,\n",
    "        'trust_region_minimizer_iterations_to_dump':[],\n",
    "        'trust_region_problem_dump_directory':'',\n",
    "    }\n",
    "    return solver_options  \n",
    "solver_options = create_solver_options()"
   ]
  },
  {
   "cell_type": "code",
   "execution_count": null,
   "metadata": {
    "collapsed": false
   },
   "outputs": [],
   "source": [
    "m0 = np.array([1.0,0.0,0.0,0.0,0.0,0.0,0.0,0.0]).reshape(8,1)\n",
    "m1 = np.array([1.0,0.0,0.0,0.0,0.0,0.0,0.0,0.0]).reshape(8,1)\n",
    "m2 = np.array([1.0,0.0,0.0,0.0,0.0,0.0,0.0,0.0]).reshape(8,1)\n",
    "m3 = np.array([1.0,0.0,0.0,0.0,0.0,0.0,0.0,0.0]).reshape(8,1)\n",
    "m4 = np.array([1.0,0.0,0.0,0.0,0.0,0.0,0.0,0.0]).reshape(8,1)\n",
    "m5 = np.array([1.0,0.0,0.0,0.0,0.0,0.0,0.0,0.0]).reshape(8,1)\n",
    "m6 = np.array([1.0,0.0,0.0,0.0,0.0,0.0,0.0,0.0]).reshape(8,1)\n",
    "motors = [m0,m1,m2,m3,m4,m5,m6]"
   ]
  },
  {
   "cell_type": "code",
   "execution_count": null,
   "metadata": {
    "collapsed": false
   },
   "outputs": [],
   "source": [
    "n = 10\n",
    "qs = np.array([np.random.rand((6)) for i in range(n)]).reshape(n,6)\n",
    "qs"
   ]
  },
  {
   "cell_type": "code",
   "execution_count": 2,
   "metadata": {
    "collapsed": false
   },
   "outputs": [
    {
     "ename": "NameError",
     "evalue": "name 'KinematicCalibration' is not defined",
     "output_type": "error",
     "traceback": [
      "\u001b[1;31m---------------------------------------------------------------------------\u001b[0m",
      "\u001b[1;31mNameError\u001b[0m                                 Traceback (most recent call last)",
      "\u001b[1;32m<ipython-input-2-37993ebebc5d>\u001b[0m in \u001b[0;36m<module>\u001b[1;34m()\u001b[0m\n\u001b[1;32m----> 1\u001b[1;33m \u001b[0mkc\u001b[0m \u001b[1;33m=\u001b[0m \u001b[0mKinematicCalibration\u001b[0m\u001b[1;33m(\u001b[0m\u001b[0msolver_options\u001b[0m\u001b[1;33m)\u001b[0m\u001b[1;33m\u001b[0m\u001b[0m\n\u001b[0m",
      "\u001b[1;31mNameError\u001b[0m: name 'KinematicCalibration' is not defined"
     ]
    }
   ],
   "source": [
    "kc = KinematicCalibration(solver_options)"
   ]
  },
  {
   "cell_type": "code",
   "execution_count": null,
   "metadata": {
    "collapsed": false
   },
   "outputs": [],
   "source": [
    "kc.run(qs,motors[0], motors[1], motors[2], motors[3], motors[4], motors[5], motors[6])"
   ]
  },
  {
   "cell_type": "code",
   "execution_count": 3,
   "metadata": {
    "collapsed": false
   },
   "outputs": [
    {
     "ename": "NameError",
     "evalue": "name 'kc' is not defined",
     "output_type": "error",
     "traceback": [
      "\u001b[1;31m---------------------------------------------------------------------------\u001b[0m",
      "\u001b[1;31mNameError\u001b[0m                                 Traceback (most recent call last)",
      "\u001b[1;32m<ipython-input-3-3a09a91e8547>\u001b[0m in \u001b[0;36m<module>\u001b[1;34m()\u001b[0m\n\u001b[1;32m----> 1\u001b[1;33m \u001b[1;32mprint\u001b[0m\u001b[1;33m(\u001b[0m\u001b[0mkc\u001b[0m\u001b[1;33m.\u001b[0m\u001b[0msummary\u001b[0m\u001b[1;33m(\u001b[0m\u001b[1;33m)\u001b[0m\u001b[1;33m[\u001b[0m\u001b[1;34m'full_report'\u001b[0m\u001b[1;33m]\u001b[0m\u001b[1;33m)\u001b[0m\u001b[1;33m\u001b[0m\u001b[0m\n\u001b[0m",
      "\u001b[1;31mNameError\u001b[0m: name 'kc' is not defined"
     ]
    }
   ],
   "source": [
    "print(kc.summary()['full_report'])"
   ]
  },
  {
   "cell_type": "code",
   "execution_count": null,
   "metadata": {
    "collapsed": false
   },
   "outputs": [],
   "source": [
    "# motors"
   ]
  },
  {
   "cell_type": "code",
   "execution_count": null,
   "metadata": {
    "collapsed": false
   },
   "outputs": [],
   "source": [
    "its = kc.summary()['iterations']\n",
    "plot([i['gradient_max_norm'] for i in its])"
   ]
  },
  {
   "cell_type": "code",
   "execution_count": null,
   "metadata": {
    "collapsed": false
   },
   "outputs": [],
   "source": [
    "times = np.array([0.0721, 0.1533, 1.4150, 12.0537, 147.1182])\n",
    "plt.plot(times)"
   ]
  },
  {
   "cell_type": "code",
   "execution_count": null,
   "metadata": {
    "collapsed": false
   },
   "outputs": [],
   "source": [
    "print(times[1] / times[0])\n",
    "print(times[2] / times[1])\n",
    "print(times[3] / times[2])"
   ]
  }
 ],
 "metadata": {
  "kernelspec": {
   "display_name": "Python 2",
   "language": "python",
   "name": "python2"
  },
  "language_info": {
   "codemirror_mode": {
    "name": "ipython",
    "version": 2
   },
   "file_extension": ".py",
   "mimetype": "text/x-python",
   "name": "python",
   "nbconvert_exporter": "python",
   "pygments_lexer": "ipython2",
   "version": "2.7.6"
  }
 },
 "nbformat": 4,
 "nbformat_minor": 0
}
