{
 "cells": [
  {
   "cell_type": "code",
   "execution_count": 1,
   "metadata": {
    "collapsed": false
   },
   "outputs": [
    {
     "name": "stdout",
     "output_type": "stream",
     "text": [
      "Populating the interactive namespace from numpy and matplotlib\n"
     ]
    },
    {
     "name": "stderr",
     "output_type": "stream",
     "text": [
      "versor/cga.py:4: RuntimeWarning: to-Python converter for vsr::Multivector<vsr::algebra<vsr::metric<4, 1, true>, double>, vsr::Basis<(short)1, (short)2, (short)4, (short)8, (short)16> > already registered; second conversion method ignored.\n",
      "  from libversor import (Biv, Bst, Cir, Con, Dil, Dll, Dlp, Dls, Drb, Drt, Drv,\n",
      "versor/cga.py:4: RuntimeWarning: to-Python converter for vsr::Multivector<vsr::algebra<vsr::metric<4, 1, true>, double>, vsr::Basis<(short)9, (short)10, (short)12> > already registered; second conversion method ignored.\n",
      "  from libversor import (Biv, Bst, Cir, Con, Dil, Dll, Dlp, Dls, Drb, Drt, Drv,\n"
     ]
    }
   ],
   "source": [
    "%pylab inline\n",
    "import sys\n",
    "sys.path.append('../build_gcc/')\n",
    "import versor as vsr"
   ]
  },
  {
   "cell_type": "code",
   "execution_count": 2,
   "metadata": {
    "collapsed": true
   },
   "outputs": [],
   "source": [
    "np.set_printoptions(precision=2, suppress=True)"
   ]
  },
  {
   "cell_type": "code",
   "execution_count": null,
   "metadata": {
    "collapsed": false
   },
   "outputs": [],
   "source": []
  },
  {
   "cell_type": "markdown",
   "metadata": {},
   "source": [
    "# Hand Eye Calibration"
   ]
  },
  {
   "cell_type": "code",
   "execution_count": 3,
   "metadata": {
    "collapsed": false
   },
   "outputs": [
    {
     "name": "stdout",
     "output_type": "stream",
     "text": [
      "[ 0.92 -0.38  0.    0.   -0.65 -0.27 -0.05  0.02]\n"
     ]
    }
   ],
   "source": [
    "M_object_in_world = vsr.Trs.from_vector([1,1,0.1]) * vsr.Rot.from_bivector(vsr.Biv(1,0,0) * np.pi/4.0)\n",
    "print(M_object_in_world)"
   ]
  },
  {
   "cell_type": "code",
   "execution_count": 4,
   "metadata": {
    "collapsed": false
   },
   "outputs": [
    {
     "data": {
      "text/plain": [
       "array([-0.39,  0.  ,  0.  , -0.67, -0.28, -0.05])"
      ]
     },
     "execution_count": 4,
     "metadata": {},
     "output_type": "execute_result"
    }
   ],
   "source": [
    "log = M_object_in_world.log()\n",
    "log"
   ]
  },
  {
   "cell_type": "code",
   "execution_count": 5,
   "metadata": {
    "collapsed": false
   },
   "outputs": [
    {
     "name": "stdout",
     "output_type": "stream",
     "text": [
      "[ 0.97  0.   -0.26  0.   -0.09 -0.1  -0.13 -0.03]\n"
     ]
    }
   ],
   "source": [
    "M_eye_in_hand = vsr.Trs.from_vector([0.1,0.2,0.3]) * vsr.Rot.from_bivector(vsr.Biv(0,1,0) * np.pi/6.)\n",
    "print(M_eye_in_hand)"
   ]
  },
  {
   "cell_type": "code",
   "execution_count": 6,
   "metadata": {
    "collapsed": false
   },
   "outputs": [
    {
     "data": {
      "text/plain": [
       "array([ 0.97, -0.15, -0.15, -0.15, -0.07, -0.07, -0.48,  0.07])"
      ]
     },
     "execution_count": 6,
     "metadata": {},
     "output_type": "execute_result"
    }
   ],
   "source": [
    "M_hand_in_world = vsr.Trs.from_vector([0.0,0.0,1.0]) * vsr.Rot.from_bivector(vsr.Biv(1,1,1).unit() * np.pi/6.)\n",
    "M_hand_in_world"
   ]
  },
  {
   "cell_type": "code",
   "execution_count": 7,
   "metadata": {
    "collapsed": false
   },
   "outputs": [
    {
     "name": "stdout",
     "output_type": "stream",
     "text": [
      "[ 0.87 -0.24  0.43  0.02 -0.34 -0.11  0.84 -0.19]\n"
     ]
    }
   ],
   "source": [
    "M_object_in_eye = M_eye_in_hand.rev() * M_hand_in_world.rev() * M_object_in_world\n",
    "print(M_object_in_eye.to_array())"
   ]
  },
  {
   "cell_type": "code",
   "execution_count": 8,
   "metadata": {
    "collapsed": false
   },
   "outputs": [
    {
     "name": "stdout",
     "output_type": "stream",
     "text": [
      "[ 0.97 -0.15 -0.15 -0.15 -0.07 -0.07 -0.48  0.07]\n"
     ]
    }
   ],
   "source": [
    "print(M_hand_in_world)"
   ]
  },
  {
   "cell_type": "code",
   "execution_count": 9,
   "metadata": {
    "collapsed": false
   },
   "outputs": [
    {
     "name": "stdout",
     "output_type": "stream",
     "text": [
      "[ 0.97 -0.15 -0.15 -0.15 -0.07 -0.07 -0.48  0.07]\n"
     ]
    }
   ],
   "source": [
    "print(M_hand_in_world.log().mot())"
   ]
  },
  {
   "cell_type": "code",
   "execution_count": 10,
   "metadata": {
    "collapsed": false
   },
   "outputs": [],
   "source": [
    "pose_pairs = np.array([(M_hand_in_world,\n",
    "               M_eye_in_hand.rev() * M_hand_in_world.rev() * M_object_in_world) \n",
    "              for M_hand_in_world in [vsr.Trs.from_vector(vsr.Vec(*np.random.rand(3))) *\n",
    "                                      vsr.Rot.from_bivector(vsr.Biv(*np.random.rand(3)).unit() * \n",
    "                                                            np.random.rand() * np.pi)\n",
    "                                      for i in range(4)]])"
   ]
  },
  {
   "cell_type": "code",
   "execution_count": 74,
   "metadata": {
    "collapsed": false
   },
   "outputs": [
    {
     "name": "stdout",
     "output_type": "stream",
     "text": [
      "6\n"
     ]
    }
   ],
   "source": [
    "M_object_in_world = vsr.Trs.from_vector([1,1,0.1]) * vsr.Rot.from_bivector(vsr.Biv(1,0,0) * np.pi/4.0)\n",
    "M_eye_in_hand = vsr.Trs.from_vector([-0.5,0.2,-0.3]) * vsr.Rot.from_bivector(vsr.Biv(1,1,1).unit() * np.pi/6.)\n",
    "pose_pairs = np.array([(M_hand_in_world,\n",
    "               (M_eye_in_hand.rev() * M_hand_in_world.rev() * M_object_in_world))\n",
    "              for M_hand_in_world in [vsr.Trs.from_vector(vsr.Vec(*np.random.rand(3))) *\n",
    "                                      vsr.Rot.from_bivector(vsr.Biv(*np.random.rand(3)).unit() * \n",
    "                                                            np.random.rand() * np.pi)\n",
    "                                      for i in range(4)]])\n",
    "n = len(pose_pairs)\n",
    "As = pose_pairs[:,0]\n",
    "Bs = pose_pairs[:,1]\n",
    "LAs = []\n",
    "LBs = []\n",
    "MAs = []\n",
    "MBs = []\n",
    "for i in range(n):\n",
    "    for j in range(i+1,n):\n",
    "        MBs.append((Bs[j] * Bs[i].rev()))     \n",
    "        MAs.append((As[j].rev() * As[i]))\n",
    "        LBs.append((Bs[j] * Bs[i].rev()).log())     \n",
    "        LAs.append((As[j].rev() * As[i]).log())\n",
    "print(len(LAs))"
   ]
  },
  {
   "cell_type": "code",
   "execution_count": 75,
   "metadata": {
    "collapsed": false
   },
   "outputs": [
    {
     "name": "stdout",
     "output_type": "stream",
     "text": [
      "[ 0.53 -0.18  0.83 -0.5  -0.09 -0.34]\n",
      "[ 0.53 -0.18  0.83 -0.5  -0.09 -0.34]\n"
     ]
    }
   ],
   "source": [
    "print LBs[1].unit().spin(M_eye_in_hand)\n",
    "print(LAs[1].unit())"
   ]
  },
  {
   "cell_type": "code",
   "execution_count": 76,
   "metadata": {
    "collapsed": false
   },
   "outputs": [
    {
     "data": {
      "text/plain": [
       "[True, True, True, True]"
      ]
     },
     "execution_count": 76,
     "metadata": {},
     "output_type": "execute_result"
    }
   ],
   "source": [
    "[np.allclose(M_object_in_world.to_array(),\n",
    "             (M_hand_in_world * M_eye_in_hand * M_object_in_eye).to_array())\n",
    "             for (M_hand_in_world, M_object_in_eye) in pose_pairs]"
   ]
  },
  {
   "cell_type": "code",
   "execution_count": 77,
   "metadata": {
    "collapsed": false
   },
   "outputs": [
    {
     "data": {
      "text/plain": [
       "[True, True, True, True, True, True]"
      ]
     },
     "execution_count": 77,
     "metadata": {},
     "output_type": "execute_result"
    }
   ],
   "source": [
    "[np.allclose(a[0],b[0]) for a,b in zip(MAs, MBs)]"
   ]
  },
  {
   "cell_type": "code",
   "execution_count": 78,
   "metadata": {
    "collapsed": true
   },
   "outputs": [],
   "source": [
    "def skew(v):\n",
    "    skv = roll(roll(diag(v.flatten()), 1, 1), -1, 0)\n",
    "    return skv - skv.T"
   ]
  },
  {
   "cell_type": "code",
   "execution_count": 79,
   "metadata": {
    "collapsed": false
   },
   "outputs": [
    {
     "data": {
      "text/plain": [
       "array([[ 0, -3,  2],\n",
       "       [ 3,  0, -1],\n",
       "       [-2,  1,  0]])"
      ]
     },
     "execution_count": 79,
     "metadata": {},
     "output_type": "execute_result"
    }
   ],
   "source": [
    "skew(np.array([1,2,3]))"
   ]
  },
  {
   "cell_type": "code",
   "execution_count": 112,
   "metadata": {
    "collapsed": false
   },
   "outputs": [],
   "source": [
    "Ds = []\n",
    "for MA, MB in zip(MAs, MBs):\n",
    "    D = np.zeros((6,8))\n",
    "#     a = MA.log().unit().to_array().copy()[:3]\n",
    "#     b = MB.log().unit().to_array().copy()[:3]\n",
    "#     aprime = MA.log().unit().to_array().copy()[3:]\n",
    "#     bprime = MB.log().unit().to_array().copy()[3:]\n",
    "#     print(MA)\n",
    "    \n",
    "\n",
    "#     MA = MA.spin(vsr.Trs.from_vector(vsr.Vec(*np.random.randn(3) * 0.001 )) *\n",
    "#                                       vsr.Rot.from_bivector(vsr.Biv(*np.random.rand(3)).unit() * \n",
    "#                                                             np.random.randn() * 0.01))\n",
    "#     MB = MB.spin(vsr.Trs.from_vector(vsr.Vec(*np.random.randn(3) * 0.001 )) *\n",
    "#                                       vsr.Rot.from_bivector(vsr.Biv(*np.random.rand(3)).unit() * \n",
    "#                                                             np.random.randn() * 0.01))\n",
    "\n",
    "#     print(MA)\n",
    "\n",
    "    a = MA.to_array().copy()[1:4]\n",
    "    a = np.array([a[2], -a[1], a[0]])\n",
    "    b = MB.to_array().copy()[1:4]\n",
    "    b = np.array([b[2], -b[1], b[0]])\n",
    "    aprime = MA.to_array().copy()[4:7]\n",
    "    bprime = MB.to_array().copy()[4:7]\n",
    "    # Upper 3\n",
    "    D[:3,0] = a - b\n",
    "    D[:3,1:4] = skew(a + b)\n",
    "    # Lower 3\n",
    "    D[3:,0] = aprime - bprime\n",
    "    D[3:,1:4] = skew(aprime + bprime)\n",
    "    D[3:,4] = a - b \n",
    "    D[3:,5:8] = skew(a + b)\n",
    "    Ds.append(D)\n",
    "Ds = np.array(Ds).reshape(-1,8)"
   ]
  },
  {
   "cell_type": "code",
   "execution_count": 113,
   "metadata": {
    "collapsed": false
   },
   "outputs": [],
   "source": [
    "Ds = []\n",
    "for LA, LB in zip(LAs, LBs):\n",
    "    LA = LA.unit()\n",
    "    LB = LB.unit()\n",
    "    D = np.zeros((6,8))\n",
    "    \n",
    "    a = LA.to_array().copy()[:3]\n",
    "    a = np.array([a[2], -a[1], a[0]])\n",
    "    b = LB.to_array().copy()[:3]\n",
    "    b = np.array([b[2], -b[1], b[0]])\n",
    "    aprime = LA.to_array().copy()[3:]\n",
    "    bprime = LB.to_array().copy()[3:]\n",
    "    # Upper 3\n",
    "    D[:3,0] = a - b\n",
    "    D[:3,1:4] = skew(a + b)\n",
    "    # Lower 3\n",
    "    D[3:,0] = aprime - bprime\n",
    "    D[3:,1:4] = skew(aprime + bprime)\n",
    "    D[3:,4] = a - b \n",
    "    D[3:,5:8] = skew(a + b)  \n",
    "    Ds.append(D)\n",
    "Ds = np.array(Ds).reshape(-1,8)"
   ]
  },
  {
   "cell_type": "code",
   "execution_count": 114,
   "metadata": {
    "collapsed": false
   },
   "outputs": [
    {
     "name": "stdout",
     "output_type": "stream",
     "text": [
      "[[-0.06  0.15 -0.01  0.19 -0.17 -0.24  0.92  0.02]\n",
      " [-0.62 -0.74 -0.06 -0.22  0.05  0.03  0.14  0.  ]\n",
      " [-0.61  0.53  0.29 -0.33 -0.35 -0.1  -0.14 -0.  ]\n",
      " [ 0.21 -0.14  0.89 -0.21  0.29  0.01  0.14  0.  ]\n",
      " [ 0.02  0.04 -0.03 -0.09  0.    0.22  0.09 -0.96]\n",
      " [-0.13 -0.22  0.34  0.74 -0.41 -0.16 -0.23 -0.16]\n",
      " [ 0.29 -0.18  0.05 -0.24 -0.71  0.53  0.1   0.15]\n",
      " [ 0.31 -0.21 -0.07 -0.38 -0.3  -0.76 -0.11 -0.15]]\n"
     ]
    }
   ],
   "source": [
    "[U, s, Vt] = np.linalg.svd(Ds)\n",
    "print(Vt.T)\n",
    "v7 = Vt.T[:,-2]\n",
    "v8 = Vt.T[:,-1]\n",
    "u1 = v7[:4]\n",
    "v1 = v7[4:]\n",
    "u2 = v8[:4]\n",
    "v2 = v8[4:]"
   ]
  },
  {
   "cell_type": "code",
   "execution_count": 108,
   "metadata": {
    "collapsed": false
   },
   "outputs": [
    {
     "name": "stdout",
     "output_type": "stream",
     "text": [
      "(0.92171771269433955, -0.17738328934948891)\n"
     ]
    }
   ],
   "source": [
    "a = np.inner(u1,v1)\n",
    "b = np.inner(u1,v2) + np.inner(u2,v1)\n",
    "c = np.inner(u2,v2)\n",
    "[s1, s2] = np.roots([a,b,c])\n",
    "print(s1, s2)"
   ]
  },
  {
   "cell_type": "code",
   "execution_count": 109,
   "metadata": {
    "collapsed": false
   },
   "outputs": [
    {
     "name": "stdout",
     "output_type": "stream",
     "text": [
      "0.891239859849\n",
      "0.966933636595\n"
     ]
    }
   ],
   "source": [
    "val1 = (s1**2 * np.inner(u1,u1)) + (2 * s1 * np.inner(u1,u2)) + (np.inner(u2,u2))\n",
    "val2 = (s2**2 * np.inner(u1,u1)) + (2 * s2 * np.inner(u1,u2)) + (np.inner(u2,u2))\n",
    "\n",
    "if val1 > val2:\n",
    "    s = s1\n",
    "    val = val1\n",
    "else:\n",
    "    s = s2\n",
    "    val = val2\n",
    "\n",
    "lambda2 = np.sqrt(1./val)\n",
    "lambda1 = s * lambda2\n",
    "print(lambda1)\n",
    "print(lambda2)"
   ]
  },
  {
   "cell_type": "code",
   "execution_count": 110,
   "metadata": {
    "collapsed": false
   },
   "outputs": [
    {
     "name": "stdout",
     "output_type": "stream",
     "text": [
      "[ 0.97 -0.15 -0.15 -0.15  0.25 -0.11  0.12 -0.07]\n",
      "[ 0.97  0.15 -0.15  0.15 -0.13 -0.01 -0.    0.84]\n",
      "[ 1.    0.    0.    0.    0.    0.    0.    1.67]\n"
     ]
    }
   ],
   "source": [
    "m_arr = lambda1 * v7 + lambda2 * v8\n",
    "print(M_eye_in_hand.to_array())\n",
    "# m_arr[1:4] = np.array([m_arr[3], -m_arr[2], m_arr[1]])\n",
    "# m_arr[4:8] = np.roll(m_arr[4:8], -1)\n",
    "print(m_arr)\n",
    "\n",
    "m = vsr.Mot(*m_arr)\n",
    "print(m * m.rev())"
   ]
  },
  {
   "cell_type": "code",
   "execution_count": 103,
   "metadata": {
    "collapsed": false
   },
   "outputs": [
    {
     "data": {
      "text/plain": [
       "array([ 1.,  0.,  0.,  0.,  0., -0.,  0.,  0.])"
      ]
     },
     "execution_count": 103,
     "metadata": {},
     "output_type": "execute_result"
    }
   ],
   "source": [
    "M_eye_in_hand * M_eye_in_hand.rev()"
   ]
  },
  {
   "cell_type": "code",
   "execution_count": 104,
   "metadata": {
    "collapsed": true
   },
   "outputs": [],
   "source": [
    "def polar_decomposition(x):\n",
    "    xx = x * x.rev()\n",
    "    sinv = (vsr.Sca(1.0) + (vsr.Drt(- xx[7] / (2 * xx[0]))))\n",
    "    return x * sinv"
   ]
  },
  {
   "cell_type": "code",
   "execution_count": 38,
   "metadata": {
    "collapsed": false
   },
   "outputs": [
    {
     "name": "stdout",
     "output_type": "stream",
     "text": [
      "[-0.87  0.   -0.5  -0.   -0.05  0.04 -0.09 -0.03]\n"
     ]
    }
   ],
   "source": [
    "m2 = polar_decomposition(m)\n",
    "print(m2)"
   ]
  },
  {
   "cell_type": "code",
   "execution_count": 39,
   "metadata": {
    "collapsed": false
   },
   "outputs": [
    {
     "data": {
      "text/plain": [
       "array([ 0.87,  0.  , -0.5 ,  0.  ,  0.12, -0.09,  0.1 , -0.05])"
      ]
     },
     "execution_count": 39,
     "metadata": {},
     "output_type": "execute_result"
    }
   ],
   "source": [
    "M_eye_in_hand"
   ]
  },
  {
   "cell_type": "code",
   "execution_count": 26,
   "metadata": {
    "collapsed": false
   },
   "outputs": [
    {
     "name": "stderr",
     "output_type": "stream",
     "text": [
      "/usr/local/lib/python2.7/dist-packages/ipykernel/__main__.py:1: RuntimeWarning: divide by zero encountered in double_scalars\n",
      "  if __name__ == '__main__':\n",
      "/usr/local/lib/python2.7/dist-packages/ipykernel/__main__.py:1: RuntimeWarning: invalid value encountered in add\n",
      "  if __name__ == '__main__':\n"
     ]
    },
    {
     "data": {
      "text/plain": [
       "array([ nan, -inf,  nan,  nan, -inf,  nan,  inf,  nan])"
      ]
     },
     "execution_count": 26,
     "metadata": {},
     "output_type": "execute_result"
    }
   ],
   "source": [
    "(np.sqrt(1./val2) * s2) * v7 + np.sqrt(1./val2) * v8"
   ]
  },
  {
   "cell_type": "code",
   "execution_count": 27,
   "metadata": {
    "collapsed": false
   },
   "outputs": [
    {
     "data": {
      "text/plain": [
       "array([-0.87, -0.  ,  0.5 ,  0.  , -0.05,  0.12, -0.09,  0.1 ])"
      ]
     },
     "execution_count": 27,
     "metadata": {},
     "output_type": "execute_result"
    }
   ],
   "source": [
    "(np.sqrt(1./val1) * s1) * v7 + np.sqrt(1./val1) * v8"
   ]
  },
  {
   "cell_type": "code",
   "execution_count": 28,
   "metadata": {
    "collapsed": false
   },
   "outputs": [
    {
     "data": {
      "text/plain": [
       "array([ 0.87,  0.  , -0.5 ,  0.  ,  0.12, -0.09,  0.1 , -0.05])"
      ]
     },
     "execution_count": 28,
     "metadata": {},
     "output_type": "execute_result"
    }
   ],
   "source": [
    "M_eye_in_hand"
   ]
  },
  {
   "cell_type": "code",
   "execution_count": 29,
   "metadata": {
    "collapsed": false
   },
   "outputs": [
    {
     "data": {
      "text/plain": [
       "1.0"
      ]
     },
     "execution_count": 29,
     "metadata": {},
     "output_type": "execute_result"
    }
   ],
   "source": [
    "np.inner(M_eye_in_hand.to_array()[:4], M_eye_in_hand.to_array()[:4])"
   ]
  },
  {
   "cell_type": "code",
   "execution_count": null,
   "metadata": {
    "collapsed": true
   },
   "outputs": [],
   "source": []
  },
  {
   "cell_type": "code",
   "execution_count": null,
   "metadata": {
    "collapsed": true
   },
   "outputs": [],
   "source": []
  }
 ],
 "metadata": {
  "kernelspec": {
   "display_name": "Python 2",
   "language": "python",
   "name": "python2"
  },
  "language_info": {
   "codemirror_mode": {
    "name": "ipython",
    "version": 2
   },
   "file_extension": ".py",
   "mimetype": "text/x-python",
   "name": "python",
   "nbconvert_exporter": "python",
   "pygments_lexer": "ipython2",
   "version": "2.7.6"
  }
 },
 "nbformat": 4,
 "nbformat_minor": 0
}
