{
 "cells": [
  {
   "cell_type": "code",
   "execution_count": 1,
   "metadata": {
    "collapsed": false
   },
   "outputs": [
    {
     "name": "stdout",
     "output_type": "stream",
     "text": [
      "Populating the interactive namespace from numpy and matplotlib\n"
     ]
    },
    {
     "name": "stderr",
     "output_type": "stream",
     "text": [
      "versor/cga.py:4: RuntimeWarning: to-Python converter for vsr::Multivector<vsr::algebra<vsr::metric<4, 1, true>, double>, vsr::Basis<(short)1, (short)2, (short)4, (short)8, (short)16> > already registered; second conversion method ignored.\n",
      "  from libversor import (Biv, Bst, Cir, Con, Dil, Dll, Dlp, Dls, Drb, Drt, Drv,\n",
      "versor/cga.py:4: RuntimeWarning: to-Python converter for vsr::Multivector<vsr::algebra<vsr::metric<4, 1, true>, double>, vsr::Basis<(short)9, (short)10, (short)12> > already registered; second conversion method ignored.\n",
      "  from libversor import (Biv, Bst, Cir, Con, Dil, Dll, Dlp, Dls, Drb, Drt, Drv,\n"
     ]
    }
   ],
   "source": [
    "%pylab inline\n",
    "import sys\n",
    "sys.path.append('../build_gcc/')\n",
    "import versor as vsr"
   ]
  },
  {
   "cell_type": "code",
   "execution_count": 2,
   "metadata": {
    "collapsed": true
   },
   "outputs": [],
   "source": [
    "np.set_printoptions(precision=4, suppress=True)"
   ]
  },
  {
   "cell_type": "code",
   "execution_count": null,
   "metadata": {
    "collapsed": false
   },
   "outputs": [],
   "source": []
  },
  {
   "cell_type": "markdown",
   "metadata": {},
   "source": [
    "# Hand Eye Calibration"
   ]
  },
  {
   "cell_type": "code",
   "execution_count": 3,
   "metadata": {
    "collapsed": false
   },
   "outputs": [
    {
     "name": "stdout",
     "output_type": "stream",
     "text": [
      "[ 0.9239 -0.3827  0.      0.     -0.6533 -0.2706 -0.0462  0.0191]\n"
     ]
    }
   ],
   "source": [
    "M_object_in_world = vsr.Trs.from_vector([1,1,0.1]) * vsr.Rot.from_bivector(vsr.Biv(1,0,0) * np.pi/4.0)\n",
    "print(M_object_in_world)"
   ]
  },
  {
   "cell_type": "code",
   "execution_count": 4,
   "metadata": {
    "collapsed": false
   },
   "outputs": [
    {
     "data": {
      "text/plain": [
       "array([-0.3927,  0.    ,  0.    , -0.6704, -0.2777, -0.05  ])"
      ]
     },
     "execution_count": 4,
     "metadata": {},
     "output_type": "execute_result"
    }
   ],
   "source": [
    "log = M_object_in_world.log()\n",
    "log"
   ]
  },
  {
   "cell_type": "code",
   "execution_count": 5,
   "metadata": {
    "collapsed": false
   },
   "outputs": [
    {
     "data": {
      "text/plain": [
       "0.70710678118654757"
      ]
     },
     "execution_count": 5,
     "metadata": {},
     "output_type": "execute_result"
    }
   ],
   "source": [
    "np.sqrt(0.5)"
   ]
  },
  {
   "cell_type": "code",
   "execution_count": 6,
   "metadata": {
    "collapsed": false
   },
   "outputs": [
    {
     "data": {
      "text/plain": [
       "0.38268343236508978"
      ]
     },
     "execution_count": 6,
     "metadata": {},
     "output_type": "execute_result"
    }
   ],
   "source": [
    "sin(np.pi / 8)"
   ]
  },
  {
   "cell_type": "code",
   "execution_count": 7,
   "metadata": {
    "collapsed": false
   },
   "outputs": [
    {
     "name": "stdout",
     "output_type": "stream",
     "text": [
      "[ 0.9659  0.     -0.2588  0.     -0.0871 -0.0966 -0.1319 -0.0259]\n"
     ]
    }
   ],
   "source": [
    "M_eye_in_hand = vsr.Trs.from_vector([0.1,0.2,0.3]) * vsr.Rot.from_bivector(vsr.Biv(0,1,0) * np.pi/6.)\n",
    "print(M_eye_in_hand)"
   ]
  },
  {
   "cell_type": "code",
   "execution_count": 8,
   "metadata": {
    "collapsed": false
   },
   "outputs": [
    {
     "data": {
      "text/plain": [
       "array([ 0.9659, -0.1494, -0.1494, -0.1494, -0.0747, -0.0747, -0.483 ,\n",
       "        0.0747])"
      ]
     },
     "execution_count": 8,
     "metadata": {},
     "output_type": "execute_result"
    }
   ],
   "source": [
    "M_hand_in_world = vsr.Trs.from_vector([0.0,0.0,1.0]) * vsr.Rot.from_bivector(vsr.Biv(1,1,1).unit() * np.pi/6.)\n",
    "M_hand_in_world"
   ]
  },
  {
   "cell_type": "code",
   "execution_count": 9,
   "metadata": {
    "collapsed": false
   },
   "outputs": [
    {
     "name": "stdout",
     "output_type": "stream",
     "text": [
      "[ 0.8667 -0.2446  0.4344  0.0182 -0.336  -0.109   0.8413 -0.1899]\n"
     ]
    }
   ],
   "source": [
    "M_object_in_eye = M_eye_in_hand.rev() * M_hand_in_world.rev() * M_object_in_world\n",
    "print(M_object_in_eye.to_array())"
   ]
  },
  {
   "cell_type": "code",
   "execution_count": 10,
   "metadata": {
    "collapsed": false
   },
   "outputs": [
    {
     "name": "stdout",
     "output_type": "stream",
     "text": [
      "[ 1.  0.  0. -0.  0. -0.  0.  0.]\n"
     ]
    }
   ],
   "source": [
    "print(M_object_in_eye * M_object_in_eye.rev())"
   ]
  },
  {
   "cell_type": "code",
   "execution_count": 21,
   "metadata": {
    "collapsed": false
   },
   "outputs": [
    {
     "name": "stdout",
     "output_type": "stream",
     "text": [
      "[ 0.4872 -0.3863 -0.5419 -0.5655 -0.2556 -0.2965  0.2084 -0.1983]\n"
     ]
    }
   ],
   "source": [
    "print(M_hand_in_world)"
   ]
  },
  {
   "cell_type": "code",
   "execution_count": 23,
   "metadata": {
    "collapsed": false
   },
   "outputs": [
    {
     "name": "stdout",
     "output_type": "stream",
     "text": [
      "[ 0.4872 -0.3863 -0.5419 -0.5655 -0.2556 -0.2965  0.2084 -0.1983]\n"
     ]
    }
   ],
   "source": [
    "print(M_hand_in_world.log().mot())"
   ]
  },
  {
   "cell_type": "code",
   "execution_count": 12,
   "metadata": {
    "collapsed": false
   },
   "outputs": [
    {
     "name": "stdout",
     "output_type": "stream",
     "text": [
      "[ 1.     1.     0.1    1.     1.005]\n",
      "[ 1.     1.     0.1    1.     1.005]\n"
     ]
    }
   ],
   "source": [
    "test = M_hand_in_world * M_eye_in_hand * M_object_in_eye\n",
    "print(vsr.Vec(0,0,0).null().spin(test).to_array())\n",
    "print(vsr.Vec(0,0,0).null().spin(M_object_in_world).to_array())"
   ]
  },
  {
   "cell_type": "code",
   "execution_count": 13,
   "metadata": {
    "collapsed": false
   },
   "outputs": [
    {
     "data": {
      "text/plain": [
       "array([ 0.7071,  0.7071,  0.    ])"
      ]
     },
     "execution_count": 13,
     "metadata": {},
     "output_type": "execute_result"
    }
   ],
   "source": [
    "e1ni = (vsr.Vec(1,0,0) ^ vsr.ni)\n",
    "e1ni.spin(test).to_array()\n",
    "e1ni.spin(M_object_in_world).to_array()"
   ]
  },
  {
   "cell_type": "code",
   "execution_count": 40,
   "metadata": {
    "collapsed": false
   },
   "outputs": [],
   "source": [
    "pose_pairs = np.array([(M_hand_in_world,\n",
    "               M_eye_in_hand.rev() * M_hand_in_world.rev() * M_object_in_world) \n",
    "              for M_hand_in_world in [vsr.Trs.from_vector(vsr.Vec(*np.random.rand(3))) *\n",
    "                                      vsr.Rot.from_bivector(vsr.Biv(*np.random.rand(3)).unit() * \n",
    "                                                            np.random.rand() * np.pi)\n",
    "                                      for i in range(4)]])"
   ]
  },
  {
   "cell_type": "code",
   "execution_count": 41,
   "metadata": {
    "collapsed": false
   },
   "outputs": [
    {
     "data": {
      "text/plain": [
       "1.0"
      ]
     },
     "execution_count": 41,
     "metadata": {},
     "output_type": "execute_result"
    }
   ],
   "source": [
    "# wrong\n",
    "As = [((A2.log() / A1.log()) * 0.5).log().unit() for A1, A2 in pose_pairs]\n",
    "np.linalg.norm(As[0].to_array()[:3])"
   ]
  },
  {
   "cell_type": "code",
   "execution_count": 42,
   "metadata": {
    "collapsed": false
   },
   "outputs": [
    {
     "data": {
      "text/plain": [
       "array([ array([ 0.6769, -0.3399, -0.4305, -0.4909, -0.3186, -0.1855,  0.068 ,\n",
       "        0.0789]),\n",
       "       array([ 0.7861, -0.2256, -0.5747, -0.0282, -0.1216, -0.105 , -0.0872,\n",
       "       -0.0474]),\n",
       "       array([ 0.3485, -0.0987, -0.4787, -0.7998, -0.2254, -0.2766,  0.1042,\n",
       "        0.108 ]),\n",
       "       array([ 0.2726, -0.7178, -0.3677, -0.5246, -0.3786, -0.1874,  0.0602,\n",
       "        0.3174])], dtype=object)"
      ]
     },
     "execution_count": 42,
     "metadata": {},
     "output_type": "execute_result"
    }
   ],
   "source": [
    "pose_pairs[:,0]"
   ]
  },
  {
   "cell_type": "code",
   "execution_count": 150,
   "metadata": {
    "collapsed": false
   },
   "outputs": [
    {
     "data": {
      "text/plain": [
       "[array([-0.2984, -0.3565, -0.1286,  0.2316,  0.1355,  0.1377]),\n",
       " array([-0.0629,  0.0494, -0.0072,  0.0674, -0.1139, -0.0234]),\n",
       " array([-0.3033,  0.2493,  0.1623,  0.0454,  0.0593, -0.0358]),\n",
       " array([ 0.235 ,  0.3731,  0.1962, -0.0828, -0.2182, -0.1023]),\n",
       " array([ 0.0711,  0.2557,  0.5642, -0.1142, -0.2281,  0.0576]),\n",
       " array([-0.2621,  0.1778,  0.1607, -0.0835,  0.1267, -0.0032])]"
      ]
     },
     "execution_count": 150,
     "metadata": {},
     "output_type": "execute_result"
    }
   ],
   "source": [
    "M_object_in_world = vsr.Trs.from_vector([1,1,0.1]) * vsr.Rot.from_bivector(vsr.Biv(1,0,0) * np.pi/4.0)\n",
    "M_eye_in_hand = vsr.Trs.from_vector([0.1,0.2,0.3]) * vsr.Rot.from_bivector(vsr.Biv(0,1,0) * np.pi/6.)\n",
    "pose_pairs = np.array([(M_hand_in_world,\n",
    "               (M_eye_in_hand.rev() * M_hand_in_world.rev() * M_object_in_world))\n",
    "              for M_hand_in_world in [vsr.Trs.from_vector(vsr.Vec(*np.random.rand(3))) *\n",
    "                                      vsr.Rot.from_bivector(vsr.Biv(*np.random.rand(3)).unit() * \n",
    "                                                            np.random.rand() * np.pi)\n",
    "                                      for i in range(4)]])\n",
    "n = len(pose_pairs)\n",
    "As = pose_pairs[:,0]\n",
    "Bs = pose_pairs[:,1]\n",
    "LAs = []\n",
    "LBs = []\n",
    "for i in range(n):\n",
    "    for j in range(i+1,n):\n",
    "        LAs.append((As[j].rev() * As[i]).log() * 0.5)\n",
    "        LBs.append((Bs[j] * Bs[i].rev()).log() * 0.5)\n",
    "LAs"
   ]
  },
  {
   "cell_type": "code",
   "execution_count": 151,
   "metadata": {
    "collapsed": false
   },
   "outputs": [
    {
     "name": "stdout",
     "output_type": "stream",
     "text": [
      "[-0.7828  0.6157 -0.0898  0.8394 -1.4179 -0.2917]\n",
      "[-0.7828  0.6157 -0.0898  0.8394 -1.4179 -0.2917]\n"
     ]
    }
   ],
   "source": [
    "print LBs[1].unit().spin(M_eye_in_hand)\n",
    "print(LAs[1].unit())"
   ]
  },
  {
   "cell_type": "code",
   "execution_count": 96,
   "metadata": {
    "collapsed": false
   },
   "outputs": [],
   "source": [
    "# np.array(pose_pairs)[:]"
   ]
  },
  {
   "cell_type": "code",
   "execution_count": 113,
   "metadata": {
    "collapsed": false
   },
   "outputs": [
    {
     "name": "stdout",
     "output_type": "stream",
     "text": [
      "[ 0.0727 -0.001  -0.0181  1.      0.0028]\n",
      "[ 0.002  -0.0255  0.0102  1.      0.0004]\n"
     ]
    }
   ],
   "source": [
    "print(vsr.Vec(0,0,0).null().spin(LBs[0].spin(M_eye_in_hand).mot()))\n",
    "print(vsr.Vec(0,0,0).null().spin(LAs[0].mot()))"
   ]
  },
  {
   "cell_type": "code",
   "execution_count": 18,
   "metadata": {
    "collapsed": false
   },
   "outputs": [
    {
     "data": {
      "text/plain": [
       "[True, True, True, True, True, True, True, True, True, True]"
      ]
     },
     "execution_count": 18,
     "metadata": {},
     "output_type": "execute_result"
    }
   ],
   "source": [
    "[np.allclose(M_object_in_world.to_array(),\n",
    "             (M_hand_in_world * M_eye_in_hand * M_object_in_eye).to_array())\n",
    "             for (M_hand_in_world, M_object_in_eye) in pose_pairs]"
   ]
  },
  {
   "cell_type": "code",
   "execution_count": 19,
   "metadata": {
    "collapsed": false
   },
   "outputs": [
    {
     "data": {
      "text/plain": [
       "array([ 0.9659,  0.    , -0.2588,  0.    , -0.0871, -0.0966, -0.1319,\n",
       "       -0.0259])"
      ]
     },
     "execution_count": 19,
     "metadata": {},
     "output_type": "execute_result"
    }
   ],
   "source": [
    "M_eye_in_hand.to_array()"
   ]
  },
  {
   "cell_type": "code",
   "execution_count": 20,
   "metadata": {
    "collapsed": false
   },
   "outputs": [
    {
     "data": {
      "text/plain": [
       "0.99999999999999989"
      ]
     },
     "execution_count": 20,
     "metadata": {},
     "output_type": "execute_result"
    }
   ],
   "source": [
    "np.linalg.norm(vsr.Vec(*np.random.rand(3)).unit().to_array())"
   ]
  },
  {
   "cell_type": "code",
   "execution_count": null,
   "metadata": {
    "collapsed": true
   },
   "outputs": [],
   "source": []
  }
 ],
 "metadata": {
  "kernelspec": {
   "display_name": "Python 2",
   "language": "python",
   "name": "python2"
  },
  "language_info": {
   "codemirror_mode": {
    "name": "ipython",
    "version": 2
   },
   "file_extension": ".py",
   "mimetype": "text/x-python",
   "name": "python",
   "nbconvert_exporter": "python",
   "pygments_lexer": "ipython2",
   "version": "2.7.6"
  }
 },
 "nbformat": 4,
 "nbformat_minor": 0
}
