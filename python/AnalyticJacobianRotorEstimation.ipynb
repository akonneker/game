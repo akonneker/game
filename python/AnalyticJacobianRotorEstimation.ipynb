{
 "cells": [
  {
   "cell_type": "code",
   "execution_count": 43,
   "metadata": {
    "collapsed": false
   },
   "outputs": [
    {
     "name": "stdout",
     "output_type": "stream",
     "text": [
      "Populating the interactive namespace from numpy and matplotlib\n"
     ]
    }
   ],
   "source": [
    "import sys\n",
    "sys.path.append('../build/')\n",
    "%pylab inline\n",
    "np.set_printoptions(precision=4, suppress=True)\n",
    "import versor as vsr"
   ]
  },
  {
   "cell_type": "code",
   "execution_count": 44,
   "metadata": {
    "collapsed": false
   },
   "outputs": [],
   "source": [
    "rotor = vsr.Biv(pi/6,0,0).exp()\n",
    "vectors_a = [vsr.Vec(1,0,0), vsr.Vec(0,1,0), vsr.Vec(0,0,1)]\n",
    "vectors_b = [a.spin(rotor) for a in vectors_a]"
   ]
  },
  {
   "cell_type": "code",
   "execution_count": 45,
   "metadata": {
    "collapsed": false
   },
   "outputs": [
    {
     "name": "stdout",
     "output_type": "stream",
     "text": [
      "Rot: [ 0.87 0 -0.5 0 ]\n"
     ]
    }
   ],
   "source": [
    "rotor1 = vsr.Biv(0,pi/6,0).exp()\n",
    "print(rotor1)"
   ]
  },
  {
   "cell_type": "markdown",
   "metadata": {},
   "source": [
    "# Result"
   ]
  },
  {
   "cell_type": "code",
   "execution_count": 46,
   "metadata": {
    "collapsed": false
   },
   "outputs": [],
   "source": [
    "def cost(a,b,R):\n",
    "    r = (a.spin(R) - b)\n",
    "    return (r * r * 0.5)[0]"
   ]
  },
  {
   "cell_type": "code",
   "execution_count": 47,
   "metadata": {
    "collapsed": false
   },
   "outputs": [
    {
     "data": {
      "text/plain": [
       "1.0"
      ]
     },
     "execution_count": 47,
     "metadata": {},
     "output_type": "execute_result"
    }
   ],
   "source": [
    "cost(vsr.Vec(1,0,0), vsr.Vec(0,1,0), rotor1)"
   ]
  },
  {
   "cell_type": "markdown",
   "metadata": {},
   "source": [
    "## Jacobian"
   ]
  },
  {
   "cell_type": "code",
   "execution_count": 48,
   "metadata": {
    "collapsed": true
   },
   "outputs": [],
   "source": [
    "def jacobian34(a,b,R):\n",
    "    \n",
    "    def J(Ei,a,b,R):\n",
    "        Ei = vsr.EGA(Ei)\n",
    "        a = vsr.EGA(a)\n",
    "        b = vsr.EGA(b)\n",
    "        R = vsr.EGA(R)\n",
    "        return Ei * a * R.rev() + R * a * Ei.rev()\n",
    "\n",
    "    JR = np.zeros((3,4))\n",
    "    JR[:,0] = np.array(J(vsr.Rot(1,0,0,0),a,b,R))[1:4]\n",
    "    JR[:,1] = np.array(J(vsr.Rot(0,1,0,0),a,b,R))[1:4]\n",
    "    JR[:,2] = np.array(J(vsr.Rot(0,0,1,0),a,b,R))[1:4]\n",
    "    JR[:,3] = np.array(J(vsr.Rot(0,0,0,1),a,b,R))[1:4]\n",
    "    return JR"
   ]
  },
  {
   "cell_type": "code",
   "execution_count": 49,
   "metadata": {
    "collapsed": false
   },
   "outputs": [
    {
     "name": "stdout",
     "output_type": "stream",
     "text": [
      "[[ 1.7321  0.      1.      0.    ]\n",
      " [ 0.     -1.7321  0.      1.    ]\n",
      " [ 1.      0.     -1.7321  0.    ]]\n"
     ]
    }
   ],
   "source": [
    "J34 = jacobian34(vectors_a[0], vectors_b[0], rotor1)\n",
    "print(J34)"
   ]
  },
  {
   "cell_type": "code",
   "execution_count": 50,
   "metadata": {
    "collapsed": false
   },
   "outputs": [
    {
     "data": {
      "text/plain": [
       "EGA: [ 0 0 -1.7 0 0 0 0 0 ]"
      ]
     },
     "execution_count": 50,
     "metadata": {},
     "output_type": "execute_result"
    }
   ],
   "source": [
    "vsr.EGA(vsr.Rot(0,1,0,0))*  vsr.EGA(vsr.Vec(1,0,0)) * vsr.EGA(rotor1.rev()) + vsr.EGA(rotor1) * vsr.EGA(vsr.Vec(1,0,0)) * vsr.EGA(vsr.Rot(0,1,0,0).rev())"
   ]
  },
  {
   "cell_type": "code",
   "execution_count": 51,
   "metadata": {
    "collapsed": false
   },
   "outputs": [
    {
     "data": {
      "text/plain": [
       "array([[ 1.7321,  0.    ,  1.    ,  0.    ],\n",
       "       [ 0.    , -1.7321,  0.    ,  1.    ],\n",
       "       [ 1.    ,  0.    , -1.7321,  0.    ]])"
      ]
     },
     "execution_count": 51,
     "metadata": {},
     "output_type": "execute_result"
    }
   ],
   "source": [
    "jacobian34(vsr.Vec(1,0,0), vsr.Vec(0,1,0), rotor1)"
   ]
  },
  {
   "cell_type": "code",
   "execution_count": 52,
   "metadata": {
    "collapsed": true
   },
   "outputs": [],
   "source": [
    "def jacobian43(R):\n",
    "    JB = np.zeros((4,3))\n",
    "    JB[:,0] = np.array(vsr.Biv(1,0,0) * R)\n",
    "    JB[:,1] = np.array(vsr.Biv(0,1,0) * R)\n",
    "    JB[:,2] = np.array(vsr.Biv(0,0,1) * R)\n",
    "    return JB"
   ]
  },
  {
   "cell_type": "code",
   "execution_count": 53,
   "metadata": {
    "collapsed": false
   },
   "outputs": [
    {
     "name": "stdout",
     "output_type": "stream",
     "text": [
      "[[ 0.     0.5    0.   ]\n",
      " [ 0.866  0.    -0.5  ]\n",
      " [ 0.     0.866  0.   ]\n",
      " [ 0.5    0.     0.866]]\n"
     ]
    }
   ],
   "source": [
    "J43 = jacobian43(rotor1)\n",
    "print(J43)"
   ]
  },
  {
   "cell_type": "code",
   "execution_count": 54,
   "metadata": {
    "collapsed": true
   },
   "outputs": [],
   "source": [
    "def jacobian(a,b,rot):\n",
    "    return np.dot(jacobian34(a,b,rot), jacobian43(rot))"
   ]
  },
  {
   "cell_type": "code",
   "execution_count": 55,
   "metadata": {
    "collapsed": true
   },
   "outputs": [],
   "source": [
    "def jacobian_cay(a,b,rot):\n",
    "    return np.dot(jacobian34(a,b,rot), 2.0 * jacobian43(rot) )"
   ]
  },
  {
   "cell_type": "code",
   "execution_count": 56,
   "metadata": {
    "collapsed": false
   },
   "outputs": [
    {
     "name": "stdout",
     "output_type": "stream",
     "text": [
      "[[ 1.      0.     -1.7321]\n",
      " [ 0.      4.      0.    ]\n",
      " [-1.7321  0.      3.    ]]\n"
     ]
    }
   ],
   "source": [
    "J = jacobian(vectors_a[0], vectors_b[0], rotor1)\n",
    "print(np.dot(J.T,J))"
   ]
  },
  {
   "cell_type": "code",
   "execution_count": 57,
   "metadata": {
    "collapsed": false
   },
   "outputs": [
    {
     "ename": "NameError",
     "evalue": "name 'Hess' is not defined",
     "output_type": "error",
     "traceback": [
      "\u001b[0;31m---------------------------------------------------------------------------\u001b[0m",
      "\u001b[0;31mNameError\u001b[0m                                 Traceback (most recent call last)",
      "\u001b[0;32m<ipython-input-57-d0cdf75a4075>\u001b[0m in \u001b[0;36m<module>\u001b[0;34m()\u001b[0m\n\u001b[0;32m----> 1\u001b[0;31m \u001b[0mHess\u001b[0m\u001b[0;34m(\u001b[0m\u001b[0mvectors_a\u001b[0m\u001b[0;34m[\u001b[0m\u001b[0;36m0\u001b[0m\u001b[0;34m]\u001b[0m\u001b[0;34m,\u001b[0m \u001b[0mvectors_b\u001b[0m\u001b[0;34m[\u001b[0m\u001b[0;36m0\u001b[0m\u001b[0;34m]\u001b[0m\u001b[0;34m,\u001b[0m \u001b[0mrotor1\u001b[0m\u001b[0;34m)\u001b[0m\u001b[0;34m\u001b[0m\u001b[0m\n\u001b[0m",
      "\u001b[0;31mNameError\u001b[0m: name 'Hess' is not defined"
     ]
    }
   ],
   "source": [
    "Hess(vectors_a[0], vectors_b[0], rotor1)"
   ]
  },
  {
   "cell_type": "code",
   "execution_count": 58,
   "metadata": {
    "collapsed": true
   },
   "outputs": [],
   "source": [
    "def Hi(B,a,b,R):\n",
    "    G = B.comm(a.spin(R)) * 2\n",
    "    H = (a.spin(R) - b) * ((B * B * a.spin(R)) + \n",
    "                           2.0 * a.spin(R).spin(B) + (a.spin(R) * B * B))\n",
    "    ans = H + G * G.rev()\n",
    "#     ans = G * G\n",
    "#     ans = H\n",
    "    return ans"
   ]
  },
  {
   "cell_type": "code",
   "execution_count": 59,
   "metadata": {
    "collapsed": false
   },
   "outputs": [
    {
     "data": {
      "text/plain": [
       "3.8459253727671306e-16"
      ]
     },
     "execution_count": 59,
     "metadata": {},
     "output_type": "execute_result"
    }
   ],
   "source": [
    "r1 = vsr.EGA(rotor1)\n",
    "Hi(vsr.EGA(vsr.Biv(1,0,0) )* r1, vsr.EGA(vectors_a[0]), vsr.EGA(vectors_b[0]), r1)[0]"
   ]
  },
  {
   "cell_type": "code",
   "execution_count": 60,
   "metadata": {
    "collapsed": true
   },
   "outputs": [],
   "source": [
    "def res(a,b,rot):\n",
    "    return np.array((a.spin(rot) - b))"
   ]
  },
  {
   "cell_type": "code",
   "execution_count": 61,
   "metadata": {
    "collapsed": true
   },
   "outputs": [],
   "source": [
    "def cost(a,b,rot):\n",
    "    r = res(a,b,rot)\n",
    "    return (r * r * 0.5)[0]"
   ]
  },
  {
   "cell_type": "code",
   "execution_count": 62,
   "metadata": {
    "collapsed": true
   },
   "outputs": [],
   "source": [
    "def Hess(a,b,rot):\n",
    "    a = vsr.EGA(a)\n",
    "    b = vsr.EGA(b)\n",
    "    R = vsr.EGA(rot)\n",
    "    E12 = vsr.EGA(vsr.Biv(1,0,0))\n",
    "    E13 = vsr.EGA(vsr.Biv(0,1,0))\n",
    "    E23 = vsr.EGA(vsr.Biv(0,0,1))\n",
    "    H12 = Hi(E12,a,b,R) \n",
    "    H13 = Hi(E13,a,b,R)  \n",
    "    H23 = Hi(E23,a,b,R)  \n",
    "    H1213 = 0.25 * (Hi(E12+E13,a,b,R) - Hi(E12-E13,a,b,R))\n",
    "    H1223 = 0.25 * (Hi(E12+E23,a,b,R) - Hi(E12-E23,a,b,R))\n",
    "    H1323 = 0.25 * (Hi(E13+E23,a,b,R) - Hi(E13-E23,a,b,R))\n",
    "    return np.array([[  H12[0], H1213[0], H1223[0]],\n",
    "                     [H1213[0],   H13[0], H1323[0]],\n",
    "                     [H1223[0], H1323[0],   H23[0]]])"
   ]
  },
  {
   "cell_type": "code",
   "execution_count": 63,
   "metadata": {
    "collapsed": true
   },
   "outputs": [],
   "source": [
    "def grad(a,b,R):\n",
    "    a = vsr.EGA(a)\n",
    "    b = vsr.EGA(b)\n",
    "    R = vsr.EGA(R)\n",
    "    E12 = vsr.EGA(vsr.Biv(1,0,0)) \n",
    "    E13 = vsr.EGA(vsr.Biv(0,1,0))\n",
    "    E23 = vsr.EGA(vsr.Biv(0,0,1)) \n",
    "    d = lambda Ei : ((a.spin(R) - b) * (2 * Ei.comm(a.spin(R))))[0]\n",
    "    return np.array([d(E12), d(E13), d(E23)])"
   ]
  },
  {
   "cell_type": "code",
   "execution_count": 19,
   "metadata": {
    "collapsed": false
   },
   "outputs": [
    {
     "data": {
      "text/plain": [
       "array([ 2.5981, -2.5981, -1.5   ])"
      ]
     },
     "execution_count": 19,
     "metadata": {},
     "output_type": "execute_result"
    }
   ],
   "source": [
    "np.sum([grad(a,b, rotor1) for a,b in zip(vectors_a, vectors_b)], axis=0)"
   ]
  },
  {
   "cell_type": "code",
   "execution_count": 20,
   "metadata": {
    "collapsed": false
   },
   "outputs": [
    {
     "data": {
      "text/plain": [
       "array([[ 1.   ,  1.5  , -0.866],\n",
       "       [ 1.5  ,  1.   ,  0.866],\n",
       "       [-0.866,  0.866,  0.   ]])"
      ]
     },
     "execution_count": 20,
     "metadata": {},
     "output_type": "execute_result"
    }
   ],
   "source": [
    "np.sum([Hess(a,b, rotor1) for a,b in zip(vectors_a[:1], vectors_b[:1])], axis=0)"
   ]
  },
  {
   "cell_type": "code",
   "execution_count": 21,
   "metadata": {
    "collapsed": false
   },
   "outputs": [
    {
     "ename": "NameError",
     "evalue": "name 'jacobians' is not defined",
     "output_type": "error",
     "traceback": [
      "\u001b[0;31m---------------------------------------------------------------------------\u001b[0m",
      "\u001b[0;31mNameError\u001b[0m                                 Traceback (most recent call last)",
      "\u001b[0;32m<ipython-input-21-2428b6c176f0>\u001b[0m in \u001b[0;36m<module>\u001b[0;34m()\u001b[0m\n\u001b[0;32m----> 1\u001b[0;31m \u001b[0mnp\u001b[0m\u001b[0;34m.\u001b[0m\u001b[0mdot\u001b[0m\u001b[0;34m(\u001b[0m\u001b[0mjacobians\u001b[0m\u001b[0;34m.\u001b[0m\u001b[0mT\u001b[0m\u001b[0;34m,\u001b[0m \u001b[0mjacobians\u001b[0m\u001b[0;34m)\u001b[0m\u001b[0;34m\u001b[0m\u001b[0m\n\u001b[0m",
      "\u001b[0;31mNameError\u001b[0m: name 'jacobians' is not defined"
     ]
    }
   ],
   "source": [
    "np.dot(jacobians.T, jacobians)"
   ]
  },
  {
   "cell_type": "code",
   "execution_count": 22,
   "metadata": {
    "collapsed": false
   },
   "outputs": [
    {
     "ename": "NameError",
     "evalue": "name 'jacobians' is not defined",
     "output_type": "error",
     "traceback": [
      "\u001b[0;31m---------------------------------------------------------------------------\u001b[0m",
      "\u001b[0;31mNameError\u001b[0m                                 Traceback (most recent call last)",
      "\u001b[0;32m<ipython-input-22-a7b959212235>\u001b[0m in \u001b[0;36m<module>\u001b[0;34m()\u001b[0m\n\u001b[0;32m----> 1\u001b[0;31m \u001b[0mnp\u001b[0m\u001b[0;34m.\u001b[0m\u001b[0mdot\u001b[0m\u001b[0;34m(\u001b[0m\u001b[0mjacobians\u001b[0m\u001b[0;34m.\u001b[0m\u001b[0mT\u001b[0m\u001b[0;34m,\u001b[0m\u001b[0mresiduals\u001b[0m\u001b[0;34m)\u001b[0m\u001b[0;34m\u001b[0m\u001b[0m\n\u001b[0m",
      "\u001b[0;31mNameError\u001b[0m: name 'jacobians' is not defined"
     ]
    }
   ],
   "source": [
    "np.dot(jacobians.T,residuals)"
   ]
  },
  {
   "cell_type": "code",
   "execution_count": 23,
   "metadata": {
    "collapsed": false
   },
   "outputs": [
    {
     "data": {
      "text/plain": [
       "array([[ 0.   ],\n",
       "       [-0.866],\n",
       "       [ 0.866],\n",
       "       [ 0.866],\n",
       "       [ 0.5  ],\n",
       "       [ 0.   ],\n",
       "       [-0.866],\n",
       "       [ 0.   ],\n",
       "       [-0.5  ]])"
      ]
     },
     "execution_count": 23,
     "metadata": {},
     "output_type": "execute_result"
    }
   ],
   "source": [
    "residuals = np.array([res(a,b,rotor1) for a,b in zip(vectors_a, vectors_b)]).reshape(-1,1)\n",
    "residuals"
   ]
  },
  {
   "cell_type": "code",
   "execution_count": 24,
   "metadata": {
    "collapsed": false
   },
   "outputs": [
    {
     "data": {
      "text/plain": [
       "3.4999999999999991"
      ]
     },
     "execution_count": 24,
     "metadata": {},
     "output_type": "execute_result"
    }
   ],
   "source": [
    "np.dot(residuals.T,residuals)[0,0]"
   ]
  },
  {
   "cell_type": "code",
   "execution_count": 27,
   "metadata": {
    "collapsed": false
   },
   "outputs": [
    {
     "data": {
      "text/plain": [
       "array([[ 0.0891,  2.4228,  0.    ],\n",
       "       [-2.1468, -0.    ,  2.4228],\n",
       "       [-0.    , -2.1468, -0.0891],\n",
       "       [-2.0789,  1.9706,  0.    ],\n",
       "       [-0.272 , -0.    ,  1.9706],\n",
       "       [ 0.    , -0.272 ,  2.0789],\n",
       "       [ 0.7678, -1.4038, -0.    ],\n",
       "       [ 1.0981,  0.    , -1.4038],\n",
       "       [-0.    ,  1.0981, -0.7678]])"
      ]
     },
     "execution_count": 27,
     "metadata": {},
     "output_type": "execute_result"
    }
   ],
   "source": [
    "jacobians = np.array([jacobian(a,b,rotor1) for a,b in zip(vectors_a, vectors_b)]).reshape(-1,3)\n",
    "jacobians"
   ]
  },
  {
   "cell_type": "code",
   "execution_count": 49,
   "metadata": {
    "collapsed": true
   },
   "outputs": [],
   "source": [
    "def Cayley(B):\n",
    "    wt = B.norm()\n",
    "#     if B.norm() > 1.0:\n",
    "#         B = B.inv()\n",
    "    Rp = vsr.Rot(1.0, B[0], B[1], B[2])\n",
    "    Rn = vsr.Rot(1.0, -B[0], -B[1], -B[2])\n",
    "    return Rp * Rn.inv()"
   ]
  },
  {
   "cell_type": "code",
   "execution_count": null,
   "metadata": {
    "collapsed": true
   },
   "outputs": [],
   "source": [
    "Cay = lambda B : return vsr.Rot()"
   ]
  },
  {
   "cell_type": "code",
   "execution_count": 45,
   "metadata": {
    "collapsed": false
   },
   "outputs": [
    {
     "data": {
      "text/plain": [
       "Rot: [ 0.5 0.87 0 0 ]"
      ]
     },
     "execution_count": 45,
     "metadata": {},
     "output_type": "execute_result"
    }
   ],
   "source": [
    "Cayley(vsr.Biv(tan(pi/6),0,0))"
   ]
  },
  {
   "cell_type": "code",
   "execution_count": 46,
   "metadata": {
    "collapsed": false
   },
   "outputs": [
    {
     "data": {
      "text/plain": [
       "0.50000000000000011"
      ]
     },
     "execution_count": 46,
     "metadata": {},
     "output_type": "execute_result"
    }
   ],
   "source": [
    "cos(pi/3)"
   ]
  },
  {
   "cell_type": "code",
   "execution_count": 56,
   "metadata": {
    "collapsed": false
   },
   "outputs": [
    {
     "name": "stdout",
     "output_type": "stream",
     "text": [
      "3\n",
      "Rot: [ 0.87 -0.5 -5.4e-12 -9.5e-12 ]\n"
     ]
    },
    {
     "data": {
      "text/plain": [
       "[<matplotlib.lines.Line2D at 0x110d109b0>]"
      ]
     },
     "execution_count": 56,
     "metadata": {},
     "output_type": "execute_result"
    },
    {
     "data": {
      "image/png": "[encoded data removed]",
      "text/plain": [
       "<matplotlib.figure.Figure at 0x10fac4f98>"
      ]
     },
     "metadata": {},
     "output_type": "display_data"
    }
   ],
   "source": [
    "n_points=3\n",
    "vectors_a = [vsr.Vec(*np.random.normal(0.0, 0.8, 3)) for i in range(n_points)]\n",
    "vectors_b = [vector.spin(rotor) for vector in vectors_a]\n",
    "\n",
    "def update(rot):\n",
    "    residuals = np.array([res(a,b,rot) for a,b in zip(vectors_a, vectors_b)]).reshape(-1,1)\n",
    "    cost = np.dot(residuals.T,residuals)[0,0]    \n",
    "    jacobians = np.array([jacobian_cay(a,b,rot) for a,b in zip(vectors_a, vectors_b)]).reshape(-1,3)\n",
    "    \n",
    "    g = np.dot(jacobians.T, residuals)\n",
    "    H = np.dot(jacobians.T, jacobians)\n",
    "\n",
    "#     g = np.sum([grad(a,b, rot) for a,b in zip(vectors_a, vectors_b)], axis=0)\n",
    "#     H = np.sum([Hess(a,b, rot) for a,b in zip(vectors_a, vectors_b)], axis=0)\n",
    "#     print(H)\n",
    "\n",
    "    B = np.dot(np.linalg.pinv(H), -g)\n",
    "#     rot = vsr.Biv(*B).exp() * rot\n",
    "    rot = Cayley(vsr.Biv(*B)) * rot\n",
    "    grad_norm = np.linalg.norm(g)\n",
    "    return rot, cost, grad_norm\n",
    "\n",
    "rot = vsr.Rot(1,0,0,0)\n",
    "ress = []\n",
    "for i in range(1000):\n",
    "    rot, cost, grad_norm = update(rot)\n",
    "    ress.append(cost)\n",
    "#     print(cost)\n",
    "    if cost < 1e-6: \n",
    "        break\n",
    "print(i)\n",
    "print(rot)\n",
    "\n",
    "semilogy(ress)"
   ]
  },
  {
   "cell_type": "code",
   "execution_count": 42,
   "metadata": {
    "collapsed": false
   },
   "outputs": [
    {
     "data": {
      "text/plain": [
       "Mot: [ 0.87 -0.5 0 0 0 0 0.87 -0.5 ]"
      ]
     },
     "execution_count": 42,
     "metadata": {},
     "output_type": "execute_result"
    }
   ],
   "source": [
    "vsr.Dll(-pi/6,0,0,0,0,1).exp()"
   ]
  },
  {
   "cell_type": "code",
   "execution_count": 36,
   "metadata": {
    "collapsed": false
   },
   "outputs": [],
   "source": [
    "class MotorOptimizer(object):\n",
    "    def __init__(self):\n",
    "        self._motor_id = vsr.Mot(1,0,0,0,0,0,0,0)\n",
    "        self._motor = vsr.Vec(1,2,3).trs() * vsr.Biv(pi/6,0,0).exp()\n",
    "    \n",
    "    def dataset(self):\n",
    "        n_points = 10\n",
    "        sigma = 0.09\n",
    "        points_a = [(vsr.Vec(*np.random.normal(0.0, 0.8, 3)).null(),\n",
    "                     vsr.Vec(*np.random.normal(0.0, 0.8, 3)).null()  )\n",
    "                    for i in range(n_points)]\n",
    "\n",
    "        points_a_noisy = [(vsr.Vec(*(np.array(a)[:3] + sigma * np.random.randn(3))).null(),\n",
    "                           vsr.Vec(*(np.array(b)[:3] + sigma * np.random.randn(3))).null()) \n",
    "                          for a,b in points_a]\n",
    "\n",
    "        lines_a = [vsr.Dll(a,b).unit() for (a,b) in points_a]\n",
    "        lines_b = [line.spin(self._motor) for line in lines_a]\n",
    "        return lines_a, lines_b\n",
    "    \n",
    "    def _jacobian86(self, M):\n",
    "        J = np.zeros((8,6))\n",
    "        J[:,0] = np.array(vsr.Dll(1,0,0,0,0,0) * M)\n",
    "        J[:,1] = np.array(vsr.Dll(0,1,0,0,0,0) * M)\n",
    "        J[:,2] = np.array(vsr.Dll(0,0,1,0,0,0) * M)\n",
    "        J[:,3] = np.array(vsr.Dll(0,0,0,1,0,0) * M)\n",
    "        J[:,4] = np.array(vsr.Dll(0,0,0,0,1,0) * M)\n",
    "        J[:,5] = np.array(vsr.Dll(0,0,0,0,0,1) * M)\n",
    "        return J\n",
    "    \n",
    "    def _jacobian68(self,a,b,M):\n",
    "        \n",
    "        def Ji(Ei,a,b,M):\n",
    "            Ei = vsr.CGA(Ei)\n",
    "            a = vsr.CGA(a)\n",
    "            b = vsr.CGA(b)\n",
    "            M = vsr.CGA(M)\n",
    "            return Ei * a * M.rev() + M * a * Ei.rev()\n",
    "        \n",
    "        def to_mot(a):\n",
    "            return np.array([a[6], a[7], a[8], a[12], a[13], a[14]])\n",
    "\n",
    "        J = np.zeros((6,8))\n",
    "        J[:,0] = to_mot(Ji(vsr.Mot(1,0,0,0,0,0,0,0),a,b,M))\n",
    "        J[:,1] = to_mot(Ji(vsr.Mot(0,1,0,0,0,0,0,0),a,b,M))\n",
    "        J[:,2] = to_mot(Ji(vsr.Mot(0,0,1,0,0,0,0,0),a,b,M))\n",
    "        J[:,3] = to_mot(Ji(vsr.Mot(0,0,0,1,0,0,0,0),a,b,M))\n",
    "        J[:,4] = to_mot(Ji(vsr.Mot(0,0,0,0,1,0,0,0),a,b,M))\n",
    "        J[:,5] = to_mot(Ji(vsr.Mot(0,0,0,0,0,1,0,0),a,b,M))\n",
    "        J[:,6] = to_mot(Ji(vsr.Mot(0,0,0,0,0,0,1,0),a,b,M))\n",
    "        J[:,7] = to_mot(Ji(vsr.Mot(0,0,0,0,0,0,0,1),a,b,M))\n",
    "        return J\n",
    "        \n",
    "    def jacobian(self, a, b, M):\n",
    "        return np.dot(self._jacobian68(a,b,M), self._jacobian86(M))\n",
    "    \n",
    "    def res(self,a,b,M):\n",
    "        return np.array((a.spin(M) - b))\n",
    "    \n",
    "    def grad(self, a, b, M):\n",
    "        return np.dot(self.jacobian(a,b,M).T,self.res(a,b,M))\n",
    "    \n",
    "    def JtJ(self, a, b, M):\n",
    "        J = self.jacobian(a,b,M)\n",
    "        return np.dot(J.T,J)\n",
    "    \n",
    "    def update(self,vectors_a, vectors_b, M):\n",
    "        residuals = np.array([self.res(a,b,M) \n",
    "                              for a,b in zip(vectors_a, vectors_b)]).reshape(-1,1)\n",
    "        cost = np.dot(residuals.T,residuals)[0,0]    \n",
    "        jacobians = np.array([self.jacobian(a,b,M) \n",
    "                              for a,b in zip(vectors_a, vectors_b)]).reshape(-1,6)\n",
    "\n",
    "        g = np.dot(jacobians.T, residuals)\n",
    "        H = np.dot(jacobians.T, jacobians)\n",
    "\n",
    "        B = np.dot(np.linalg.pinv(H), -g)\n",
    "        M = vsr.Dll(*B).exp() * M\n",
    "        grad_norm = np.linalg.norm(g)\n",
    "        return M, cost, grad_norm"
   ]
  },
  {
   "cell_type": "code",
   "execution_count": null,
   "metadata": {
    "collapsed": true
   },
   "outputs": [],
   "source": []
  },
  {
   "cell_type": "code",
   "execution_count": 37,
   "metadata": {
    "collapsed": false
   },
   "outputs": [],
   "source": [
    "mo = MotorOptimizer()\n",
    "mot = mo._motor_id\n",
    "a,b = mo.dataset()"
   ]
  },
  {
   "cell_type": "code",
   "execution_count": 38,
   "metadata": {
    "collapsed": false
   },
   "outputs": [
    {
     "data": {
      "text/plain": [
       "array([-0.1305,  4.6901, -1.1858,  1.481 , -0.4355,  4.4098])"
      ]
     },
     "execution_count": 38,
     "metadata": {},
     "output_type": "execute_result"
    }
   ],
   "source": [
    "mo.grad(a[0], b[0], mot)"
   ]
  },
  {
   "cell_type": "code",
   "execution_count": 39,
   "metadata": {
    "collapsed": false
   },
   "outputs": [
    {
     "name": "stdout",
     "output_type": "stream",
     "text": [
      "132.76245953\n",
      "23.9499841118\n",
      "1.00240237865\n",
      "0.00216476848167\n",
      "3.48907476743e-09\n",
      "4\n"
     ]
    },
    {
     "data": {
      "text/plain": [
       "[<matplotlib.lines.Line2D at 0x10af63f98>]"
      ]
     },
     "execution_count": 39,
     "metadata": {},
     "output_type": "execute_result"
    },
    {
     "data": {
      "image/png": "[encoded data removed]",
      "text/plain": [
       "<matplotlib.figure.Figure at 0x10af837f0>"
      ]
     },
     "metadata": {},
     "output_type": "display_data"
    }
   ],
   "source": [
    "ress = []\n",
    "for i in range(10):\n",
    "    mot, cost, grad_norm = mo.update(a,b,mot)\n",
    "    ress.append(cost)\n",
    "    print(cost)\n",
    "    if cost < 1e-6: \n",
    "        break\n",
    "print(i)\n",
    "\n",
    "semilogy(ress)"
   ]
  },
  {
   "cell_type": "code",
   "execution_count": 445,
   "metadata": {
    "collapsed": false
   },
   "outputs": [
    {
     "name": "stdout",
     "output_type": "stream",
     "text": [
      "[ 3.9184 -1.9114  0.7441  0.802  -0.3787  3.096 ]\n"
     ]
    }
   ],
   "source": [
    "print(mo.grad(a[0], b[0], mo._motor_id))"
   ]
  },
  {
   "cell_type": "code",
   "execution_count": 446,
   "metadata": {
    "collapsed": true
   },
   "outputs": [],
   "source": [
    "def grad_lines(a,b,R):\n",
    "    a = vsr.CGA(a)\n",
    "    b = vsr.CGA(b)\n",
    "    R = vsr.CGA(R)\n",
    "    E12 = vsr.CGA(vsr.Dll(1,0,0,0,0,0)) \n",
    "    E13 = vsr.CGA(vsr.Dll(0,1,0,0,0,0))\n",
    "    E23 = vsr.CGA(vsr.Dll(0,0,1,0,0,0)) \n",
    "    E1i = vsr.CGA(vsr.Dll(0,0,0,1,0,0)) \n",
    "    E2i = vsr.CGA(vsr.Dll(0,0,0,0,1,0)) \n",
    "    E3i = vsr.CGA(vsr.Dll(0,0,0,0,0,1)) \n",
    "    d = lambda Ei : ((a.spin(R) - b) * (2 * Ei.comm(a.spin(R))))[0]\n",
    "    return np.array([d(E12), d(E13), d(E23), d(E1i), d(E2i), d(E3i)])"
   ]
  },
  {
   "cell_type": "code",
   "execution_count": 455,
   "metadata": {
    "collapsed": false
   },
   "outputs": [
    {
     "ename": "TypeError",
     "evalue": "spin(): incompatible function arguments. The following argument types are supported:\n    1. (self: versor_pybind11.Dll, arg0: vsr::Multivector<vsr::algebra<vsr::metric<4, 1, true>, double>, vsr::Basis<(short)0, (short)3, (short)5, (short)6, (short)17, (short)18, (short)20, (short)23> >) -> versor_pybind11.Dll\n\nInvoked with: Dll: [ -0.1711 -0.4537 0.8746 -0.2019 0.3204 -0.1823 ], CGA: [ 1 0 0 0 0 0 0 0 0 0 0 0 0 0 0 0 0 0 0 0 0 0 0 0 0 0 0 0 0 0 0 0 ]",
     "output_type": "error",
     "traceback": [
      "\u001b[0;31m---------------------------------------------------------------------------\u001b[0m",
      "\u001b[0;31mTypeError\u001b[0m                                 Traceback (most recent call last)",
      "\u001b[0;32m<ipython-input-455-970c68f00a21>\u001b[0m in \u001b[0;36m<module>\u001b[0;34m()\u001b[0m\n\u001b[0;32m----> 1\u001b[0;31m \u001b[0;34m(\u001b[0m\u001b[0ma\u001b[0m\u001b[0;34m[\u001b[0m\u001b[0;36m0\u001b[0m\u001b[0;34m]\u001b[0m\u001b[0;34m.\u001b[0m\u001b[0mspin\u001b[0m\u001b[0;34m(\u001b[0m\u001b[0mR\u001b[0m\u001b[0;34m)\u001b[0m \u001b[0;34m-\u001b[0m \u001b[0mb\u001b[0m\u001b[0;34m[\u001b[0m\u001b[0;36m0\u001b[0m\u001b[0;34m]\u001b[0m\u001b[0;34m)\u001b[0m \u001b[0;34m*\u001b[0m \u001b[0mvsr\u001b[0m\u001b[0;34m.\u001b[0m\u001b[0mDll\u001b[0m\u001b[0;34m(\u001b[0m\u001b[0;36m1\u001b[0m\u001b[0;34m,\u001b[0m\u001b[0;36m0\u001b[0m\u001b[0;34m,\u001b[0m\u001b[0;36m0\u001b[0m\u001b[0;34m,\u001b[0m\u001b[0;36m0\u001b[0m\u001b[0;34m,\u001b[0m\u001b[0;36m0\u001b[0m\u001b[0;34m,\u001b[0m\u001b[0;36m0\u001b[0m\u001b[0;34m)\u001b[0m\u001b[0;34m.\u001b[0m\u001b[0mcomm\u001b[0m\u001b[0;34m(\u001b[0m\u001b[0ma\u001b[0m\u001b[0;34m[\u001b[0m\u001b[0;36m0\u001b[0m\u001b[0;34m]\u001b[0m\u001b[0;34m)\u001b[0m \u001b[0;34m*\u001b[0m \u001b[0;36m2\u001b[0m\u001b[0;34m\u001b[0m\u001b[0m\n\u001b[0m",
      "\u001b[0;31mTypeError\u001b[0m: spin(): incompatible function arguments. The following argument types are supported:\n    1. (self: versor_pybind11.Dll, arg0: vsr::Multivector<vsr::algebra<vsr::metric<4, 1, true>, double>, vsr::Basis<(short)0, (short)3, (short)5, (short)6, (short)17, (short)18, (short)20, (short)23> >) -> versor_pybind11.Dll\n\nInvoked with: Dll: [ -0.1711 -0.4537 0.8746 -0.2019 0.3204 -0.1823 ], CGA: [ 1 0 0 0 0 0 0 0 0 0 0 0 0 0 0 0 0 0 0 0 0 0 0 0 0 0 0 0 0 0 0 0 ]"
     ]
    }
   ],
   "source": [
    "(a[0].spin(R) - b[0]) * vsr.Dll(1,0,0,0,0,0).comm(a[0]) * 2"
   ]
  },
  {
   "cell_type": "code",
   "execution_count": 425,
   "metadata": {
    "collapsed": false
   },
   "outputs": [
    {
     "data": {
      "text/plain": [
       "Vec: [ -0.39 0.49 -0.95 ]"
      ]
     },
     "execution_count": 425,
     "metadata": {},
     "output_type": "execute_result"
    }
   ],
   "source": [
    "a[0].drv().vec()"
   ]
  },
  {
   "cell_type": "code",
   "execution_count": 426,
   "metadata": {
    "collapsed": false
   },
   "outputs": [
    {
     "data": {
      "text/plain": [
       "Dll: [ 0 -0.6088 -0.7716 -3.059 1.185 0.6897 ]"
      ]
     },
     "execution_count": 426,
     "metadata": {},
     "output_type": "execute_result"
    }
   ],
   "source": []
  },
  {
   "cell_type": "code",
   "execution_count": 439,
   "metadata": {
    "collapsed": false
   },
   "outputs": [
    {
     "data": {
      "text/plain": [
       "CGA: [ -1.6 0 0 0 0 0 0.9 0 0 0 0 0 1.7 1.2 5.1 0 0 0 0 0 0 0 0 0 0 0 0 3.4 0 0 0 0 ]"
      ]
     },
     "execution_count": 439,
     "metadata": {},
     "output_type": "execute_result"
    }
   ],
   "source": [
    "ad,bd = mo.dataset()\n",
    "a = vsr.CGA(ad[0])\n",
    "b = vsr.CGA(bd[0])\n",
    "R = vsr.CGA(mo._motor_id)\n",
    "E12 = vsr.CGA(vsr.Dll(1,0,0,0,0,0)) \n",
    "d = lambda Ei : ((a.spin(R) - b) * (2 * Ei.comm(a.spin(R))))\n",
    "d(E12)"
   ]
  },
  {
   "cell_type": "code",
   "execution_count": 440,
   "metadata": {
    "collapsed": false
   },
   "outputs": [
    {
     "data": {
      "text/plain": [
       "CGA: [ -1.8 0 0 0 0 0 3.1 0 0 0 0 0 2.3 -3.4 6.8 0 0 0 0 0 0 0 0 0 0 0 0 -11 0 0 0 0 ]"
      ]
     },
     "execution_count": 440,
     "metadata": {},
     "output_type": "execute_result"
    }
   ],
   "source": [
    "Hi(E12,a,b,R)"
   ]
  },
  {
   "cell_type": "code",
   "execution_count": null,
   "metadata": {
    "collapsed": true
   },
   "outputs": [],
   "source": [
    "def grad(a,b,R):\n",
    "    a = vsr.CGA(a)\n",
    "    b = vsr.CGA(b)\n",
    "    R = vsr.CGA(R)\n",
    "    E12 = vsr.EGA(vsr.Biv(1,0,0)) \n",
    "    E13 = vsr.EGA(vsr.Biv(0,1,0))\n",
    "    E23 = vsr.EGA(vsr.Biv(0,0,1)) \n",
    "    d = lambda Ei : ((a.spin(R) - b) * (2 * Ei.comm(a.spin(R))))[0]\n",
    "    return np.array([d(E12), d(E13), d(E23)])"
   ]
  }
 ],
 "metadata": {
  "anaconda-cloud": {},
  "kernelspec": {
   "display_name": "Python [default]",
   "language": "python",
   "name": "python3"
  },
  "language_info": {
   "codemirror_mode": {
    "name": "ipython",
    "version": 3
   },
   "file_extension": ".py",
   "mimetype": "text/x-python",
   "name": "python",
   "nbconvert_exporter": "python",
   "pygments_lexer": "ipython3",
   "version": "3.5.2"
  }
 },
 "nbformat": 4,
 "nbformat_minor": 1
}
