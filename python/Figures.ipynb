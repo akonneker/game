{
 "cells": [
  {
   "cell_type": "code",
   "execution_count": 1,
   "metadata": {
    "collapsed": true
   },
   "outputs": [],
   "source": [
    "from __future__ import print_function"
   ]
  },
  {
   "cell_type": "code",
   "execution_count": 2,
   "metadata": {
    "collapsed": true
   },
   "outputs": [],
   "source": [
    "import sys\n",
    "sys.path.append('../build/')"
   ]
  },
  {
   "cell_type": "code",
   "execution_count": 3,
   "metadata": {
    "collapsed": false
   },
   "outputs": [
    {
     "name": "stdout",
     "output_type": "stream",
     "text": [
      "Populating the interactive namespace from numpy and matplotlib\n"
     ]
    }
   ],
   "source": [
    "%pylab inline\n",
    "np.set_printoptions(precision=4, suppress=True)"
   ]
  },
  {
   "cell_type": "code",
   "execution_count": 4,
   "metadata": {
    "collapsed": false
   },
   "outputs": [],
   "source": [
    "import versor as vsr\n",
    "from versor.drawing import *"
   ]
  },
  {
   "cell_type": "code",
   "execution_count": 5,
   "metadata": {
    "collapsed": true
   },
   "outputs": [],
   "source": [
    "from IPython.display import display\n",
    "from ipywidgets import HTML, Text, interact, widgets\n",
    "from traitlets import link, dlink"
   ]
  },
  {
   "cell_type": "code",
   "execution_count": 6,
   "metadata": {
    "collapsed": false
   },
   "outputs": [],
   "source": [
    "def rgb2hex(r, g, b):\n",
    "    return \"#{0:02x}{1:02x}{2:02x}\".format(r, g, b)"
   ]
  },
  {
   "cell_type": "markdown",
   "metadata": {},
   "source": [
    "# Figures"
   ]
  },
  {
   "cell_type": "markdown",
   "metadata": {},
   "source": [
    "## Reciprocal frame"
   ]
  },
  {
   "cell_type": "code",
   "execution_count": 47,
   "metadata": {
    "collapsed": false
   },
   "outputs": [
    {
     "name": "stdout",
     "output_type": "stream",
     "text": [
      "Tri: [ -0.67 ]\n",
      "Vec: [ 0.67 -0.67 0 ]\n",
      "[ 0.5 -1.   0. ]\n"
     ]
    }
   ],
   "source": [
    "R = vsr.Biv(pi/6.,0,0).exp()\n",
    "a1 = vsr.Vec(0.5,-1,0)\n",
    "a2 = vsr.Vec(1.,1.,0)\n",
    "a3 = vsr.Vec(-1,-1,1)\n",
    "\n",
    "A = (a1 ^ a2 ^ a3)\n",
    "\n",
    "print(A.inv())\n",
    "\n",
    "ra1 = (a2 ^ a3) <= A.inv()\n",
    "ra2 = (a3 ^ a1) <= A.inv()\n",
    "ra3 = (a1 ^ a2) <= A.inv()\n",
    "\n",
    "print(ra1)\n",
    "\n",
    "b = 1 * a1 + 2. * a2 + 1. * a3\n",
    "# print(b)\n",
    "coords = np.array([(b <= ra1),(b <= ra2), (b <= ra3)])\n",
    "# print(np.array([(b <= ra1),(b <= ra2), (b <= ra3)]))\n",
    "print(coords[0] * a1)\n",
    "\n",
    "scene = Scene(children=[\n",
    "#         frame_mesh(),\n",
    "        vector_mesh(a1, color='red', arrow=True),\n",
    "        vector_mesh(a2, color='green', arrow=True),\n",
    "        vector_mesh(a3, color='blue', arrow=True),\n",
    "        vector_mesh(a1, position=a2, color='gray'),\n",
    "        vector_mesh(a1, position=a3, color='gray'),\n",
    "        vector_mesh(a1, position=a3+a2, color='gray'),\n",
    "        vector_mesh(a2, position=a1, color='gray'),\n",
    "        vector_mesh(a2, position=a3, color='gray'),\n",
    "        vector_mesh(a2, position=a3+a1, color='gray'),\n",
    "        vector_mesh(a3, position=a1, color='gray'),\n",
    "        vector_mesh(a3, position=a2, color='gray'),\n",
    "        vector_mesh(a3, position=a1+a2, color='gray'),\n",
    "        vector_mesh(ra1, color='hotpink', arrow=True),\n",
    "        vector_mesh(ra2, color='lightgreen', arrow=True),\n",
    "        vector_mesh(ra3, color='lightskyblue', arrow=True),\n",
    "#         vector_mesh((coords[0] * a1), position=b, color='gray'),\n",
    "#         vector_mesh(b-a1, position=a1),\n",
    "#         vector_mesh(b-ra1, position=ra1),\n",
    "#         vector_mesh(b),\n",
    "\n",
    "        AmbientLight(color='#cccccc')])\n",
    "camera = PerspectiveCamera(position=[3, -3, 3])\n",
    "renderer = Renderer(camera=camera, \n",
    "                    scene=scene, \n",
    "                    controls=[TrackballControls(controlling=camera)],\n",
    "                    background = 'white')\n",
    "renderer.width = '1024'\n",
    "renderer.height = '768'\n",
    "\n",
    "display(renderer)"
   ]
  },
  {
   "cell_type": "markdown",
   "metadata": {},
   "source": [
    "## Duality"
   ]
  },
  {
   "cell_type": "code",
   "execution_count": 26,
   "metadata": {
    "collapsed": false
   },
   "outputs": [],
   "source": [
    "B = vsr.Biv(1,0,0)\n",
    "a = B.duale()\n",
    "\n",
    "scene = Scene(children=[\n",
    "        frame_mesh(),\n",
    "        vector_mesh(a,color='blue', arrow=True),\n",
    "        bivector_mesh(B,as_plane=False,color='hotpink'),\n",
    "#         DirectionalLight(color='#ccaabb', position=[1,1,1]),\n",
    "        AmbientLight(color='#cccccc')])\n",
    "camera = PerspectiveCamera(position=[3, -3, 3])\n",
    "renderer = Renderer(camera=camera, \n",
    "                    scene=scene, \n",
    "                    controls=[TrackballControls(controlling=camera)],\n",
    "                    background = 'white')\n",
    "# renderer.width = '1024'\n",
    "# renderer.height = '768'\n",
    "\n",
    "display(renderer)"
   ]
  },
  {
   "cell_type": "markdown",
   "metadata": {},
   "source": [
    "## Projection and Rejection"
   ]
  },
  {
   "cell_type": "code",
   "execution_count": 8,
   "metadata": {
    "collapsed": false
   },
   "outputs": [],
   "source": [
    "a = vsr.Vec(1,1,1)\n",
    "B = vsr.Biv(1,0,0)\n",
    "c = a.project_onto(B)\n",
    "d = a.reject_from(B)\n",
    "\n",
    "scene = Scene(children=[\n",
    "        frame_mesh(),\n",
    "        vector_mesh(a,color='gray', arrow=True),\n",
    "        vector_mesh(c,color='gray'),\n",
    "        vector_mesh(d,position=np.array(c).tolist(),color='gray'),\n",
    "        bivector_mesh(B,color='hotpink'),\n",
    "#         DirectionalLight(color='#ccaabb', position=[1,1,1]),\n",
    "        AmbientLight(color='#cccccc')])\n",
    "camera = PerspectiveCamera(position=[3, -3, 3])\n",
    "renderer = Renderer(camera=camera, \n",
    "                    scene=scene, \n",
    "                    controls=[TrackballControls(controlling=camera)],\n",
    "                    background = 'white')\n",
    "# renderer.width = '1024'\n",
    "# renderer.height = '768'\n",
    "display(renderer)"
   ]
  },
  {
   "cell_type": "markdown",
   "metadata": {},
   "source": [
    "## Reflection"
   ]
  },
  {
   "cell_type": "code",
   "execution_count": 9,
   "metadata": {
    "collapsed": false
   },
   "outputs": [],
   "source": [
    "a = vsr.Vec(1,0,1)\n",
    "B = vsr.Biv(2,0,0)\n",
    "n = B.duale().unit()\n",
    "a_reflected = a.reflect_in_line(n)\n",
    "a_reflected2 = a.reflect_in_plane(n)\n",
    "\n",
    "children = [\n",
    "    frame_mesh(),\n",
    "    vector_mesh(a,color='black', arrow=True),\n",
    "    vector_mesh(a_reflected,color='black', arrow=True),\n",
    "    vector_mesh(a_reflected2,color='black', arrow=True),\n",
    "#     vector_mesh(n,color='black', arrow=True),\n",
    "    bivector_mesh(B, as_plane=True,color='hotpink')]\n",
    "\n",
    "children[-1].material.transparent = True\n",
    "children[-1].material.opacity = 0.75\n",
    "\n",
    "\n",
    "def show(children):\n",
    "    scene = Scene(children= children + [AmbientLight(color='#cccccc')])\n",
    "    camera = PerspectiveCamera(position=[1, -3, 0])\n",
    "    renderer = Renderer(camera=camera, \n",
    "                        scene=scene, \n",
    "                        controls=[TrackballControls(controlling=camera)],\n",
    "                        background = 'white')\n",
    "    return renderer\n",
    "display(show(children))"
   ]
  },
  {
   "cell_type": "markdown",
   "metadata": {},
   "source": [
    "## Rotation"
   ]
  },
  {
   "cell_type": "code",
   "execution_count": 10,
   "metadata": {
    "collapsed": false
   },
   "outputs": [],
   "source": [
    "n1 = vsr.Vec(0,1,0).unit()\n",
    "n2 = n1.spin(vsr.Biv(-np.deg2rad(30) / 2,0,0).exp())\n",
    "B = n1 ^ n2\n",
    "R = n1 * n2\n",
    "a = vsr.Vec(1,0,1).unit()\n",
    "a_rot = a.reflect_in_line(n2).reflect_in_line(n1)\n",
    "\n",
    "B_mesh = bivector_mesh(B,color='gray')\n",
    "B_mesh.material.opacity = 0.9\n",
    "B_mesh.material.transparent = True\n",
    "\n",
    "scene = Scene(children=[\n",
    "#         frame_mesh(),\n",
    "        vector_mesh(n1,color='yellow'),\n",
    "        vector_mesh(n2,color='cyan'),\n",
    "        vector_mesh(a, color='hotpink'),\n",
    "        vector_mesh(a.reflect_in_line(n2)),\n",
    "        vector_mesh(a_rot, color='black'),\n",
    "#         bivector_mesh(n1.unduale(),color='yellow'),\n",
    "#         bivector_mesh(n2.unduale(),color='cyan'),\n",
    "        B_mesh,\n",
    "        AmbientLight(color='#cccccc')])\n",
    "\n",
    "camera = PerspectiveCamera(position=[3, -3, 3])\n",
    "renderer = Renderer(camera=camera, \n",
    "                    scene=scene, \n",
    "                    controls=[TrackballControls(controlling=camera)],\n",
    "                    background = 'white')\n",
    "# renderer.width = '1024'\n",
    "# renderer.height = '768'\n",
    "display(renderer)"
   ]
  },
  {
   "cell_type": "markdown",
   "metadata": {
    "collapsed": false
   },
   "source": [
    "# Conformal Geometric Algebra"
   ]
  },
  {
   "cell_type": "code",
   "execution_count": 11,
   "metadata": {
    "collapsed": false
   },
   "outputs": [],
   "source": [
    "p1 = vsr.Vec(1,0,1).null()\n",
    "p2 = vsr.Vec(0,1,1).null()\n",
    "\n",
    "scene = Scene(children=[\n",
    "        frame_mesh(),\n",
    "        point_mesh(p1,color='lightskyblue'),\n",
    "        vector_mesh(p1.vec(),color='lightslategray', arrow=True),\n",
    "        point_mesh(p2,color='lightskyblue'),\n",
    "        vector_mesh(p2.vec(),color='lightslategray', arrow=True),\n",
    "\n",
    "        AmbientLight(color='#cccccc')])\n",
    "\n",
    "camera = PerspectiveCamera(position=[3, -3, 3])\n",
    "renderer = Renderer(camera=camera, \n",
    "                    scene=scene, \n",
    "                    controls=[TrackballControls(controlling=camera)],\n",
    "                    background = 'white')\n",
    "# renderer.width = '1024'\n",
    "# renderer.height = '768'\n",
    "display(renderer)"
   ]
  },
  {
   "cell_type": "code",
   "execution_count": 12,
   "metadata": {
    "collapsed": false
   },
   "outputs": [],
   "source": [
    "# p1 = vsr.Vec(1,0,1).null()\n",
    "p2 = vsr.Vec(0,1,1).null()\n",
    "p3 = vsr.Vec(1,1,1).null()\n",
    "p4 = vsr.Vec(0,0,1.5).null()\n",
    "pln = vsr.Pln(p2, p3, p4).dual()\n",
    "\n",
    "\n",
    "scene = Scene(children=[\n",
    "        frame_mesh(),\n",
    "        point_mesh(p2,color='lightskyblue'),\n",
    "        vector_mesh(p2.vec(),color='lightskyblue', arrow=True),\n",
    "\n",
    "        point_mesh(p3,color='lightskyblue'),\n",
    "        point_mesh(p4,color='lightskyblue'),\n",
    "        plane_mesh(pln, width=3, height=3, color='hotpink'),\n",
    "\n",
    "        AmbientLight(color='#cccccc')])\n",
    "\n",
    "camera = PerspectiveCamera(position=[3, -3, 3])\n",
    "renderer = Renderer(camera=camera, \n",
    "                    scene=scene, \n",
    "                    controls=[TrackballControls(controlling=camera)],\n",
    "                    background = 'white')\n",
    "renderer.width = '1024'\n",
    "renderer.height = '768'\n",
    "display(renderer)"
   ]
  },
  {
   "cell_type": "code",
   "execution_count": 13,
   "metadata": {
    "collapsed": false
   },
   "outputs": [
    {
     "name": "stdout",
     "output_type": "stream",
     "text": [
      "Vec: [ 0 0.6 1.2 ]\n"
     ]
    }
   ],
   "source": [
    "# p1 = vsr.Vec(1,0,1).null()\n",
    "p2 = vsr.Vec(0,1,1).null()\n",
    "p3 = vsr.Vec(1,1,1).null()\n",
    "p4 = vsr.Vec(0,0,1.5).null()\n",
    "pln = vsr.Pln(p2, p3, p4).dual().unit()\n",
    "\n",
    "loc = pln.loc(vsr.Vec(0,0,0).null()).vec()\n",
    "n = loc - vsr.Vec(0,0,0)\n",
    "print(n)\n",
    "\n",
    "\n",
    "scene = Scene(children=[\n",
    "        frame_mesh(),\n",
    "#         point_mesh(loc,color='lightskyblue'),\n",
    "        plane_mesh(pln, width=3, height=3, color='hotpink'),\n",
    "        vector_mesh(n),\n",
    "        vector_mesh(n,position=loc,arrow=True),\n",
    "        AmbientLight(color='#cccccc')])\n",
    "\n",
    "camera = PerspectiveCamera(position=[3, -3, 3])\n",
    "renderer = Renderer(camera=camera, \n",
    "                    scene=scene, \n",
    "                    controls=[TrackballControls(controlling=camera)],\n",
    "                    background = 'white')\n",
    "renderer.width = '1024'\n",
    "renderer.height = '768'\n",
    "display(renderer)"
   ]
  },
  {
   "cell_type": "code",
   "execution_count": 14,
   "metadata": {
    "collapsed": false
   },
   "outputs": [
    {
     "data": {
      "text/plain": [
       "Vec: [ 0 0.6 1.2 ]"
      ]
     },
     "execution_count": 14,
     "metadata": {},
     "output_type": "execute_result"
    }
   ],
   "source": [
    "n"
   ]
  },
  {
   "cell_type": "markdown",
   "metadata": {},
   "source": [
    "### Circle"
   ]
  },
  {
   "cell_type": "code",
   "execution_count": 15,
   "metadata": {
    "collapsed": false
   },
   "outputs": [],
   "source": [
    "# p1 = vsr.Vec(1,0,1).null()\n",
    "p2 = vsr.Vec(0,1,1).null()\n",
    "p3 = vsr.Vec(1,1,1).null()\n",
    "p4 = vsr.Vec(0,0,1.5).null()\n",
    "cir = vsr.Cir(p2, p3, p4)\n",
    "\n",
    "\n",
    "scene = Scene(children=[\n",
    "        frame_mesh(),\n",
    "        point_mesh(p2,color='lightskyblue'),\n",
    "        point_mesh(p3,color='lightskyblue'),\n",
    "        point_mesh(p4,color='lightskyblue'),\n",
    "        circle_mesh(cir, color='coral'),\n",
    "\n",
    "        AmbientLight(color='#cccccc')])\n",
    "\n",
    "camera = PerspectiveCamera(position=[3, -3, 3])\n",
    "renderer = Renderer(camera=camera, \n",
    "                    scene=scene, \n",
    "                    controls=[TrackballControls(controlling=camera)],\n",
    "                    background = 'white')\n",
    "renderer.width = '1024'\n",
    "renderer.height = '768'\n",
    "display(renderer)"
   ]
  },
  {
   "cell_type": "code",
   "execution_count": 16,
   "metadata": {
    "collapsed": true
   },
   "outputs": [],
   "source": [
    "vsr.Sph?"
   ]
  },
  {
   "cell_type": "markdown",
   "metadata": {},
   "source": [
    "### Direct Line"
   ]
  },
  {
   "cell_type": "code",
   "execution_count": 17,
   "metadata": {
    "collapsed": false
   },
   "outputs": [
    {
     "name": "stdout",
     "output_type": "stream",
     "text": [
      "Dll: [ 0 -0.7071 0.7071 -0.7071 0.7071 0.7071 ]\n"
     ]
    }
   ],
   "source": [
    "p1 = vsr.Vec(1,0,1).null()\n",
    "p2 = vsr.Vec(2,1,1).null()\n",
    "l = vsr.Dll(p1,p2).unit()\n",
    "print(l)\n",
    "dlp = vsr.Dlp(l.dir().vec().unit(), 0)\n",
    "\n",
    "ld = vsr.Vec(*np.array(l)[3:])\n",
    "\n",
    "l_dir = l.dir().vec().unit()\n",
    "\n",
    "l_loc = l.loc(vsr.Vec(0,0,0).null()).vec()\n",
    "\n",
    "d = l_loc <= l_dir.unduale()\n",
    "\n",
    "vertices = [[0,0,0], \n",
    "            np.array(p1.vec()).tolist(),\n",
    "            np.array(p2.vec()).tolist(),\n",
    "            np.array(p2.vec() - p1.vec()).tolist() \n",
    "           ]\n",
    "faces= [[1,2,3],[1,4,3]]\n",
    "\n",
    "scene = Scene(children=[\n",
    "        frame_mesh(),\n",
    "        point_mesh(p1,color='#ff00ff'),\n",
    "        vector_mesh(p1.vec(),color='#ff00ff'),\n",
    "#         plane_mesh(dlp, color='plum'),\n",
    "        Mesh(geometry=PlainGeometry(vertices=vertices, faces=faces),\n",
    "             material=LambertMaterial(color='palegreen',\n",
    "                                      transparent=True,\n",
    "                                      opacity=0.75)),\n",
    "        \n",
    "        point_mesh(p2,color='#00ffff'),\n",
    "#         vector_mesh(l_dir,position=p1,color='#ffff00', arrow=True),\n",
    "#         bivector_mesh(l.biv(), color='#ffff00'),\n",
    "#         bivector_mesh(p1.vec() ^ p2.vec(), color='coral', as_plane=True),\n",
    "#         vector_mesh(l.drv().vec(), color='coral'),\n",
    "#         point_mesh(l.meet(dlp), color='red'),\n",
    "\n",
    "        line_mesh(l, length=100),\n",
    "        \n",
    "        AmbientLight(color='#cccccc')])\n",
    "\n",
    "camera = PerspectiveCamera(position=[3, -3, 3])\n",
    "renderer = Renderer(camera=camera, \n",
    "                    scene=scene, \n",
    "                    controls=[TrackballControls(controlling=camera)],\n",
    "                    background = 'white')\n",
    "renderer.width = '1024'\n",
    "renderer.height = '768'\n",
    "display(renderer)"
   ]
  },
  {
   "cell_type": "markdown",
   "metadata": {},
   "source": [
    "### Dual Line"
   ]
  },
  {
   "cell_type": "code",
   "execution_count": 18,
   "metadata": {
    "collapsed": false
   },
   "outputs": [
    {
     "name": "stdout",
     "output_type": "stream",
     "text": [
      "Dll: [ 0 -0.7071 0.7071 -0.7071 0.7071 0.7071 ]\n"
     ]
    }
   ],
   "source": [
    "p1 = vsr.Vec(1,0,1).null()\n",
    "p2 = vsr.Vec(2,1,1).null()\n",
    "l = vsr.Dll(p1,p2).unit()\n",
    "print(l)\n",
    "dlp = vsr.Dlp(l.dir().vec().unit(), 0)\n",
    "\n",
    "ld = vsr.Vec(*np.array(l)[3:])\n",
    "\n",
    "l_dir = l.dir().vec().unit()\n",
    "\n",
    "l_loc = l.loc(vsr.Vec(0,0,0).null()).vec()\n",
    "\n",
    "d = l_loc <= l_dir.unduale()\n",
    "\n",
    "vertices = [[0,0,0], \n",
    "            np.array(p1.vec()).tolist(),\n",
    "            np.array(p2.vec()).tolist(),\n",
    "            np.array(p2.vec() - p1.vec()).tolist() \n",
    "           ]\n",
    "faces= [[1,2,3],[1,4,3]]\n",
    "\n",
    "scene = Scene(children=[\n",
    "        frame_mesh(),\n",
    "        point_mesh(p1,color='#ff00ff'),\n",
    "        vector_mesh(p1.vec(),color='#ff00ff'),\n",
    "#         plane_mesh(dlp, color='plum'),\n",
    "#         Mesh(geometry=PlainGeometry(vertices=vertices, faces=faces),\n",
    "#              material=LambertMaterial(color='palegreen',\n",
    "#                                       transparent=True,\n",
    "#                                       opacity=0.75)),\n",
    "        \n",
    "        point_mesh(p2,color='#00ffff'),\n",
    "#         vector_mesh(l_dir,position=p1,color='#ffff00', arrow=True),\n",
    "        bivector_mesh(l.biv(), color='lightblue'),\n",
    "#         bivector_mesh(p1.vec() ^ p2.vec(), color='coral', as_plane=True),\n",
    "        vector_mesh(l.drv().vec(), color='deepskyblue'),\n",
    "#         point_mesh(l.meet(dlp), color='red'),\n",
    "\n",
    "        line_mesh(l, length=100),\n",
    "        \n",
    "        AmbientLight(color='#cccccc')])\n",
    "\n",
    "camera = PerspectiveCamera(position=[3, -3, 3])\n",
    "renderer = Renderer(camera=camera, \n",
    "                    scene=scene, \n",
    "                    controls=[TrackballControls(controlling=camera)],\n",
    "                    background = 'white')\n",
    "renderer.width = '1024'\n",
    "renderer.height = '768'\n",
    "display(renderer)"
   ]
  },
  {
   "cell_type": "markdown",
   "metadata": {},
   "source": [
    "### Tangent vector"
   ]
  },
  {
   "cell_type": "code",
   "execution_count": 19,
   "metadata": {
    "collapsed": false
   },
   "outputs": [
    {
     "name": "stdout",
     "output_type": "stream",
     "text": [
      "Dll: [ 0 -0.7071 0.7071 -0.7071 0.7071 0.7071 ]\n"
     ]
    }
   ],
   "source": [
    "p1 = vsr.Vec(1,0,1).null()\n",
    "p2 = vsr.Vec(2,1,1).null()\n",
    "l = vsr.Dll(p1,p2).unit()\n",
    "print(l)\n",
    "dlp = vsr.Dlp(l.dir().vec().unit(), 0)\n",
    "\n",
    "ld = vsr.Vec(*np.array(l)[3:])\n",
    "\n",
    "l_dir = l.dir().vec().unit()\n",
    "\n",
    "l_loc = l.loc(vsr.Vec(0,0,0).null()).vec()\n",
    "\n",
    "d = l_loc <= l_dir.unduale()\n",
    "\n",
    "vertices = [[0,0,0], \n",
    "            np.array(p1.vec()).tolist(),\n",
    "            np.array(p2.vec()).tolist(),\n",
    "            np.array(p2.vec() - p1.vec()).tolist() \n",
    "           ]\n",
    "faces= [[1,2,3],[1,4,3]]\n",
    "\n",
    "scene = Scene(children=[\n",
    "        frame_mesh(),\n",
    "        point_mesh(p1,color='#ff00ff'),\n",
    "        vector_mesh(p1.vec(),color='#ff00ff'),\n",
    "        vector_mesh((p2.vec() - p1.vec()).unit(), position=p1.vec(), arrow=True),\n",
    "        vector_mesh((p2.vec() - p1.vec()).unit(), arrow=True),\n",
    "\n",
    "        \n",
    "        AmbientLight(color='#cccccc')])\n",
    "\n",
    "camera = PerspectiveCamera(position=[3, -3, 3])\n",
    "renderer = Renderer(camera=camera, \n",
    "                    scene=scene, \n",
    "                    controls=[TrackballControls(controlling=camera)],\n",
    "                    background = 'white')\n",
    "renderer.width = '1024'\n",
    "renderer.height = '768'\n",
    "display(renderer)"
   ]
  },
  {
   "cell_type": "markdown",
   "metadata": {},
   "source": [
    "### Carrier flats"
   ]
  },
  {
   "cell_type": "code",
   "execution_count": 20,
   "metadata": {
    "collapsed": false
   },
   "outputs": [],
   "source": [
    "# p1 = vsr.Vec(1,0,1).null()\n",
    "p2 = vsr.Vec(0,1,1).null()\n",
    "p3 = vsr.Vec(1,1,1).null()\n",
    "p4 = vsr.Vec(0,0,1.5).null()\n",
    "cir = vsr.Cir(p2, p3, p4)\n",
    "pln = vsr.Pln(p2,p3,p4)\n",
    "\n",
    "\n",
    "scene = Scene(children=[\n",
    "        frame_mesh(),\n",
    "#         point_mesh(p2,color='lightskyblue'),\n",
    "#         point_mesh(p3,color='lightskyblue'),\n",
    "#         point_mesh(p4,color='lightskyblue'),\n",
    "        circle_mesh(cir, color='black'),\n",
    "        plane_mesh(pln, width=3, height=3, color='lightskyblue'),\n",
    "\n",
    "        AmbientLight(color='#cccccc')])\n",
    "\n",
    "camera = PerspectiveCamera(position=[3, -3, 3])\n",
    "renderer = Renderer(camera=camera, \n",
    "                    scene=scene, \n",
    "                    controls=[TrackballControls(controlling=camera)],\n",
    "                    background = 'white')\n",
    "renderer.width = '1024'\n",
    "renderer.height = '768'\n",
    "display(renderer)"
   ]
  },
  {
   "cell_type": "markdown",
   "metadata": {},
   "source": [
    "### Transformations"
   ]
  },
  {
   "cell_type": "markdown",
   "metadata": {},
   "source": [
    "#### Transformations"
   ]
  },
  {
   "cell_type": "code",
   "execution_count": 21,
   "metadata": {
    "collapsed": false
   },
   "outputs": [],
   "source": [
    "\n",
    "normal = vsr.Vec(1,1,1).unit()\n",
    "pao = vsr.Vec(1,0,0).null()\n",
    "pln1 = vsr.Dlp(normal,1.)\n",
    "pln2 = vsr.Dlp(normal,1.75)\n",
    "\n",
    "p1 = pao.reflect_in_plane(pln1)\n",
    "p2 = p1.reflect_in_plane(pln2)\n",
    "\n",
    "scene = Scene(children=[\n",
    "        frame_mesh(),\n",
    "        plane_mesh(pln1, color='hotpink', width=2., height=2.),\n",
    "        plane_mesh(pln2, color='hotpink', width=2., height=2.),\n",
    "        \n",
    "        point_mesh(pao, color='lightskyblue'),\n",
    "        point_mesh(p1, color='lightskyblue'),\n",
    "        point_mesh(p2, color='lightskyblue'),\n",
    "\n",
    "#         point_mesh(pao.spin(T)),\n",
    "        \n",
    "        AmbientLight(color='#cccccc')])\n",
    "\n",
    "camera = PerspectiveCamera(position=[3, -3, 3])\n",
    "renderer = Renderer(camera=camera, \n",
    "                    scene=scene, \n",
    "                    controls=[TrackballControls(controlling=camera)],\n",
    "                    background = 'white')\n",
    "# renderer.width = '1024'\n",
    "# renderer.height = '768'\n",
    "display(renderer)"
   ]
  },
  {
   "cell_type": "markdown",
   "metadata": {},
   "source": [
    "#### General Rotations"
   ]
  },
  {
   "cell_type": "code",
   "execution_count": 87,
   "metadata": {
    "collapsed": false
   },
   "outputs": [
    {
     "name": "stdout",
     "output_type": "stream",
     "text": [
      "Mot: [ 0.87 0 0 0.5 0 0.5 -0.5 0 ]\n"
     ]
    }
   ],
   "source": [
    "t = vsr.Vec(0,1,1)\n",
    "T = t.trs()\n",
    "R = vsr.Biv(0,0,-pi/6).exp()\n",
    "B = R.log().unit()\n",
    "G = T * R * T.rev()\n",
    "print(G)\n",
    "\n",
    "p = vsr.Vec(1,1,2).null()\n",
    "ptrsrev = p.spin(T.rev())\n",
    "prottrsrev = ptrsrev.spin(R)\n",
    "pfinal = prottrsrev.spin(T)\n",
    "\n",
    "line = G.log().unit()\n",
    "\n",
    "v1 = p.vec() - line.loc(p).vec() \n",
    "v2 = pfinal.vec() - line.loc(p).vec()\n",
    "\n",
    "scene = Scene(children=[\n",
    "        frame_mesh(),\n",
    "        vector_mesh(t,color='black', arrow=True),\n",
    "        point_mesh(p, color='yellow'),\n",
    "        point_mesh(ptrsrev, color='orange'),\n",
    "        point_mesh(prottrsrev, color='hotpink'),\n",
    "        point_mesh(p.spin(G), color='deepskyblue'),\n",
    "        line_mesh(line, length=100),\n",
    "        vector_mesh((t <= B), color='deepskyblue'),\n",
    "        \n",
    "        AmbientLight(color='#cccccc')])\n",
    "\n",
    "camera = PerspectiveCamera(position=[3, -3, 3])\n",
    "renderer = Renderer(camera=camera, \n",
    "                    scene=scene, \n",
    "                    controls=[TrackballControls(controlling=camera)],\n",
    "                    background = 'white')\n",
    "renderer.width = '1024'\n",
    "renderer.height = '768'\n",
    "display(renderer)"
   ]
  },
  {
   "cell_type": "markdown",
   "metadata": {},
   "source": [
    "####  Motor and Screws"
   ]
  },
  {
   "cell_type": "code",
   "execution_count": 96,
   "metadata": {
    "collapsed": false
   },
   "outputs": [
    {
     "name": "stdout",
     "output_type": "stream",
     "text": [
      "Mot: [ 0.87 0 0 0.5 0 0.5 -0.5 0 ]\n"
     ]
    }
   ],
   "source": [
    "t = vsr.Vec(0,1,1)\n",
    "T = t.trs()\n",
    "R = vsr.Biv(0,0,-pi/6).exp()\n",
    "B = R.log().unit()\n",
    "G = T * R * T.rev()\n",
    "print(G)\n",
    "\n",
    "p = vsr.Vec(1,1,2).null()\n",
    "ptrsrev = p.spin(T.rev())\n",
    "prottrsrev = ptrsrev.spin(R)\n",
    "ptrt = prottrsrev.spin(T)\n",
    "\n",
    "tpar = R.log().unit()\n",
    "Tpar = tpar.duale().trs()\n",
    "pfinal = ptrt.spin(Tpar)\n",
    "\n",
    "w = pfinal.vec() - ptrt.vec()\n",
    "\n",
    "line = G.log().unit()\n",
    "\n",
    "pc = line.loc(p).vec() \n",
    "v1 = p.vec() - pc \n",
    "v2 = ptrt.vec() - pc\n",
    "\n",
    "m1 = vsr.Vec(1,1,1).trs() * vsr.Biv(0,0,-pi/6).exp()\n",
    "m1log = m1.log().unit()\n",
    "m2 = Tpar*vsr.Rot(1,0,0,0) * G\n",
    "m2log = m2.log().unit()\n",
    "\n",
    "mi = m2log.ratio(m1log,0.2)\n",
    "\n",
    "\n",
    "scene = Scene(children=[\n",
    "        frame_mesh(),\n",
    "        vector_mesh(t,color='gray', arrow=True),\n",
    "        point_mesh(p, color='darkturquoise'),\n",
    "        point_mesh(ptrt, color='deepskyblue'),\n",
    "        point_mesh(pfinal, color='dodgerblue'),\n",
    "        vector_mesh(w, position=ptrt.vec(), color='gray', arrow=True),\n",
    "        bivector_mesh(B, color='lightpink'),\n",
    "        line_mesh(line, length=100),\n",
    "        \n",
    "        vector_mesh(v1, position=pc, color='gray'),\n",
    "        vector_mesh(v2, position=pc, color='gray'),\n",
    "        AmbientLight(color='#cccccc')])\n",
    "\n",
    "camera = PerspectiveCamera(position=[3, -3, 3])\n",
    "renderer = Renderer(camera=camera, \n",
    "                    scene=scene, \n",
    "                    controls=[TrackballControls(controlling=camera)],\n",
    "                    background = 'white')\n",
    "renderer.width = '1024'\n",
    "renderer.height = '768'\n",
    "display(renderer)"
   ]
  },
  {
   "cell_type": "code",
   "execution_count": 81,
   "metadata": {
    "collapsed": false
   },
   "outputs": [
    {
     "data": {
      "text/plain": [
       "Mot: [ 1 0 0 0 0 0.12 -0.087 0 ]"
      ]
     },
     "execution_count": 81,
     "metadata": {},
     "output_type": "execute_result"
    }
   ],
   "source": [
    "mi = m1log.ratio(m2log,0.2)\n",
    "mi"
   ]
  },
  {
   "cell_type": "code",
   "execution_count": 82,
   "metadata": {
    "collapsed": false
   },
   "outputs": [
    {
     "data": {
      "text/plain": [
       "Dls: [ 1 1.027 2.3 1 3.672 ]"
      ]
     },
     "execution_count": 82,
     "metadata": {},
     "output_type": "execute_result"
    }
   ],
   "source": [
    "vsr.Vec(0,0,0).null().spin(m1 * mi)"
   ]
  },
  {
   "cell_type": "code",
   "execution_count": 97,
   "metadata": {
    "collapsed": false
   },
   "outputs": [
    {
     "data": {
      "text/plain": [
       "Mot: [ 0.87 0 0 0.5 -0.43 0.5 -0.5 -0.25 ]"
      ]
     },
     "execution_count": 97,
     "metadata": {},
     "output_type": "execute_result"
    }
   ],
   "source": [
    "m2"
   ]
  },
  {
   "cell_type": "code",
   "execution_count": 98,
   "metadata": {
    "collapsed": false
   },
   "outputs": [
    {
     "data": {
      "text/plain": [
       "Mot: [ 0.87 -0 -0 -0.5 0.43 -0.5 0.5 -0.25 ]"
      ]
     },
     "execution_count": 98,
     "metadata": {},
     "output_type": "execute_result"
    }
   ],
   "source": [
    "m2.rev()"
   ]
  },
  {
   "cell_type": "code",
   "execution_count": 62,
   "metadata": {
    "collapsed": false
   },
   "outputs": [
    {
     "data": {
      "text/plain": [
       "Dll: [ 0 0 0 -0.5 -0.5 -1 ]"
      ]
     },
     "execution_count": 62,
     "metadata": {},
     "output_type": "execute_result"
    }
   ],
   "source": [
    "m1.log()"
   ]
  },
  {
   "cell_type": "code",
   "execution_count": 63,
   "metadata": {
    "collapsed": false
   },
   "outputs": [
    {
     "data": {
      "text/plain": [
       "Dll: [ 0 0 0.5236 -0.5 0.5236 -0.5236 ]"
      ]
     },
     "execution_count": 63,
     "metadata": {},
     "output_type": "execute_result"
    }
   ],
   "source": [
    "m2.log()"
   ]
  },
  {
   "cell_type": "code",
   "execution_count": 23,
   "metadata": {
    "collapsed": false
   },
   "outputs": [
    {
     "name": "stdout",
     "output_type": "stream",
     "text": [
      "Dls: [ 1.677 0.677 0.677 1 2.552 ]\n"
     ]
    }
   ],
   "source": [
    "print(pln2.loc(pao))"
   ]
  },
  {
   "cell_type": "code",
   "execution_count": 8,
   "metadata": {
    "collapsed": false
   },
   "outputs": [],
   "source": [
    "\n",
    "l1 = vsr.Dll(vsr.Vec(0,0,1).null(), vsr.Vec(1,1,1).null()).unit()\n",
    "l = vsr.Dll(vsr.Vec(0,0.,1).null(), vsr.Vec(1,0,1).null()).unit()\n",
    "\n",
    "p1 = vsr.Vec(0,0,0).null().reflect_in_line(l1.inv())\n",
    "p2 = vsr.Vec(0,0,0).null().reflect_in_line(l1.inv()).reflect_in_line(l)\n",
    "\n",
    "mot = l.ratio(l1,1.0)\n",
    "pao = vsr.Vec(0,0,0).null()\n",
    "\n",
    "scene = Scene(children=[\n",
    "        frame_mesh(),\n",
    "\n",
    "        point_mesh(p1, color='magenta'),\n",
    "        point_mesh(p2, color='cyan'),\n",
    "        line_mesh(l1, color='red', length=100),\n",
    "\n",
    "        line_mesh(l1.inv(), color='magenta', length=100),\n",
    "        line_mesh(l, color='cyan', length=100),\n",
    "#         line_mesh( color='cyan', length=100),\n",
    "        Line(geometry=PlainGeometry(vertices=[[0,0,0], np.array(p1.vec()).tolist()],\n",
    "                                   colors = ['magenta', 'magenta']), \n",
    "            material=LineBasicMaterial(linewidth=1,\n",
    "                                       vertexColors='VertexColors'), \n",
    "            type='LinePieces'),\n",
    "        Line(geometry=PlainGeometry(vertices=[np.array(p1.vec()).tolist(), np.array(p2.vec()).tolist()],\n",
    "                                   colors = ['cyan', 'cyan']), \n",
    "            material=LineBasicMaterial(linewidth=1,\n",
    "                                       vertexColors='VertexColors'), \n",
    "            type='LinePieces'),\n",
    "        \n",
    "        point_mesh(pao.spin(mot), color='hotpink'),\n",
    "        line_mesh(l.spin(mot)),\n",
    "        \n",
    "        AmbientLight(color='#cccccc')])\n",
    "\n",
    "camera = PerspectiveCamera(position=[3, -3, 3])\n",
    "renderer = Renderer(camera=camera, \n",
    "                    scene=scene, \n",
    "                    controls=[TrackballControls(controlling=camera)],\n",
    "                    background = 'white')\n",
    "# renderer.width = '1024'\n",
    "# renderer.height = '768'\n",
    "display(renderer)"
   ]
  },
  {
   "cell_type": "code",
   "execution_count": 25,
   "metadata": {
    "collapsed": false
   },
   "outputs": [
    {
     "name": "stdout",
     "output_type": "stream",
     "text": [
      "Pnt: [ -0.6667 0.6667 0.6667 1 0.6667 ]\n"
     ]
    }
   ],
   "source": [
    "print(p2)"
   ]
  },
  {
   "cell_type": "code",
   "execution_count": 26,
   "metadata": {
    "collapsed": false
   },
   "outputs": [
    {
     "name": "stdout",
     "output_type": "stream",
     "text": [
      "Pnt: [ -0.6667 0.6667 0.6667 1 0.6667 ]\n"
     ]
    }
   ],
   "source": [
    "print(p2)"
   ]
  },
  {
   "cell_type": "code",
   "execution_count": 27,
   "metadata": {
    "collapsed": false
   },
   "outputs": [
    {
     "name": "stdout",
     "output_type": "stream",
     "text": [
      "Mot: [ 0.89 0.33 0.33 0 0.33 0 0 0 ]\n"
     ]
    }
   ],
   "source": [
    "M = ((l * l1.inv()).log() / 2.).exp()\n",
    "print(M)"
   ]
  },
  {
   "cell_type": "code",
   "execution_count": 28,
   "metadata": {
    "collapsed": false
   },
   "outputs": [
    {
     "name": "stdout",
     "output_type": "stream",
     "text": [
      "Pnt: [ -0.6667 0.6667 0.6667 1 0.6667 ]\n"
     ]
    }
   ],
   "source": [
    "print(vsr.Vec(0,0,0).null().spin(l * l1.inv()))"
   ]
  },
  {
   "cell_type": "code",
   "execution_count": 29,
   "metadata": {
    "collapsed": false
   },
   "outputs": [
    {
     "name": "stdout",
     "output_type": "stream",
     "text": [
      "Pnt: [ -0.6667 0.6667 0.6667 1 0.6667 ]\n"
     ]
    }
   ],
   "source": [
    "print(vsr.Vec(0,0,0).null().reflect_in_line(l1.inv()).reflect_in_line(l))"
   ]
  },
  {
   "cell_type": "markdown",
   "metadata": {},
   "source": [
    "### Lines"
   ]
  },
  {
   "cell_type": "code",
   "execution_count": 10,
   "metadata": {
    "collapsed": false
   },
   "outputs": [
    {
     "name": "stdout",
     "output_type": "stream",
     "text": [
      "Dll: [ 0.7071 0 0 0 -0.7071 0.7071 ]\n",
      "Vec: [ 0 0 1 ]\n"
     ]
    }
   ],
   "source": [
    "p1 = vsr.Vec(1,0,1).null()\n",
    "p2 = vsr.Vec(2,1,1).null()\n",
    "\n",
    "l1 = vsr.Dll(vsr.Vec(0,0,0).null(), vsr.Vec(1,0,0).null()).unit()\n",
    "# l = vsr.Dll(vsr.Vec(0,0.,1).null(), vsr.Vec(1,0,1).null()).unit()\n",
    "\n",
    "l = vsr.Dll(p1,p2).unit()\n",
    "l_dir = l.dir().vec().unit()\n",
    "l_loc = l.loc(vsr.Vec(0,0,0).null()).vec()\n",
    "\n",
    "l2 = l - l1\n",
    "l3 = l.comm(l1)\n",
    "print(l3)\n",
    "\n",
    "m1 = l1.ratio(l,0.1)\n",
    "# print(l)\n",
    "# print(l1.spin(m1))\n",
    "# ms = [m1]\n",
    "# for i in range(9):\n",
    "#     m1 = m1 * m1\n",
    "#     ms.append(m1)\n",
    "    \n",
    "# print(ms)\n",
    "    \n",
    "\n",
    "# line_meshes = [line_mesh(l) for ] \n",
    "\n",
    "m = ((l * l1.inv()).log() * 0.5 ).exp()\n",
    "w = m.trs().reject_from(m.rot().log().unit())\n",
    "v = m.trs().project_onto(m.rot().log().unit())\n",
    "print(w)\n",
    "\n",
    "d = l_loc <= l_dir.unduale()\n",
    "\n",
    "scene = Scene(children=[\n",
    "        frame_mesh(),\n",
    "#         line_mesh(l1.spin(m1)),\n",
    "#         line_mesh(l1.spin(m1 * m1)),\n",
    "#         line_mesh(l1.spin(m1 * m1 * m1)),\n",
    "#         line_mesh(l1.spin(m1 * m1 * m1 * m1)),\n",
    "#         line_mesh(l1.spin(m1 * m1 * m1 * m1 * m1)),\n",
    "#         line_mesh(l1.spin(m1 * m1 * m1 * m1 * m1)),\n",
    "#         line_mesh(l1.spin(m1 * m1 * m1 * m1 * m1 * m1 )),\n",
    "#         line_mesh(l1.spin(m1 * m1 * m1 * m1 * m1 * m1 * m1)),\n",
    "#         line_mesh(l1.spin(m1 * m1 * m1 * m1 * m1 * m1 * m1 * m1)),\n",
    "#         line_mesh(l1.spin(m1 * m1 * m1 * m1 * m1 * m1 * m1 * m1 * m1)),\n",
    "#         line_mesh(l1.spin(m1 * m1 * m1 * m1 * m1 * m1 * m1 * m1 * m1 * m1)),\n",
    "        \n",
    "#         point_mesh(vsr.Vec(0,0,1), color='blue'),\n",
    "#         point_mesh(vsr.Vec(1,0,1), color='red'),\n",
    "        line_mesh(l, color='steelblue', length=100),\n",
    "        line_mesh(l1, color='slategray', length=100),\n",
    "#         point_mesh(l_loc, color=rgb2hex(255,56,0)),\n",
    "#         point_mesh(vsr.Vec(0,0,0),color='#ffff00'),\n",
    "#         point_mesh(p1,color='#ff00ff'),\n",
    "#         vector_mesh(w, position=v),\n",
    "#         vector_mesh(v),\n",
    "        \n",
    "        # l2 = l - l1\n",
    "#         line_mesh(l2, color='hotpink', length=100),\n",
    "        \n",
    "        # l3 = l x l2 commutator\n",
    "        line_mesh(l3, color='lightgreen', length=100),\n",
    "\n",
    "\n",
    "#         vector_mesh(p1.vec(),color='#ff00ff'),\n",
    "#         vector_mesh(l_dir,positil = l1.trs(vsr.Vec(0,0,1))on=p1,color='#ff00ff', arrow=True),\n",
    "\n",
    "\n",
    "        \n",
    "        AmbientLight(color='#cccccc')])\n",
    "\n",
    "camera = PerspectiveCamera(position=[3, -3, 3])\n",
    "renderer = Renderer(camera=camera, \n",
    "                    scene=scene, \n",
    "                    controls=[TrackballControls(controlling=camera)],\n",
    "                    background = 'white')\n",
    "renderer.width = '1024'\n",
    "renderer.height = '768'\n",
    "display(renderer)"
   ]
  },
  {
   "cell_type": "code",
   "execution_count": 31,
   "metadata": {
    "collapsed": false
   },
   "outputs": [
    {
     "name": "stdout",
     "output_type": "stream",
     "text": [
      "Dll: [ 0.7071 0 0 0 -0.7071 0.7071 ]\n"
     ]
    }
   ],
   "source": [
    "print(l3)"
   ]
  },
  {
   "cell_type": "code",
   "execution_count": 32,
   "metadata": {
    "collapsed": false
   },
   "outputs": [
    {
     "name": "stdout",
     "output_type": "stream",
     "text": [
      "Dll: [ 0 -0.7071 0.7071 -0.7071 0.7071 0.7071 ]\n",
      "Dll: [ 0 0 1 0 0 0 ]\n",
      "Dll: [ 0 -0.7071 -0.2929 -0.7071 0.7071 0.7071 ]\n"
     ]
    }
   ],
   "source": [
    "print(l)\n",
    "print(l1)\n",
    "print(l2)"
   ]
  },
  {
   "cell_type": "code",
   "execution_count": 33,
   "metadata": {
    "collapsed": false
   },
   "outputs": [
    {
     "name": "stdout",
     "output_type": "stream",
     "text": [
      "Mot: [ 0.92 -0.38 0 0 -5.2e-18 0.38 -0.46 0.19 ]\n"
     ]
    }
   ],
   "source": [
    "print(m1 * m1 * m1 * m1 * m1 * m1 * m1 * m1 * m1 * m1)"
   ]
  },
  {
   "cell_type": "code",
   "execution_count": 34,
   "metadata": {
    "collapsed": false
   },
   "outputs": [],
   "source": [
    "l1 = vsr.Dll(vsr.Vec(0,0,0), vsr.Vec(1,0,0)).unit()\n",
    "l2 = vsr.Dll(vsr.Vec(0,-1,1), vsr.Vec(1,-1,1)).unit()\n",
    "pao = vsr.Vec(0,0,0).null()\n",
    "\n",
    "l3 = l2 - l1\n",
    "l4 = l2.comm(l1)\n",
    "\n",
    "scene = Scene(children=[\n",
    "        frame_mesh(),\n",
    "        line_mesh(l1, color='#ffff00'),\n",
    "        point_mesh(pao),\n",
    "        vector_mesh(pao.vec()),\n",
    "        \n",
    "        line_mesh(l2, color='#ffff00'),\n",
    "        \n",
    "        line_mesh(l3, color='powderblue'), \n",
    "        line_mesh(l4, color='deeppink'),\n",
    "\n",
    "        vector_mesh(l_dir, position=l_loc, color=rgb2hex(255,0,123), arrow=True),\n",
    "        bivector_mesh((l_loc ^ l_dir), color = 'salmon'),\n",
    "\n",
    "        \n",
    "        AmbientLight(color='#cccccc')])\n",
    "\n",
    "camera = PerspectiveCamera(position=[3, -3, 3])\n",
    "renderer = Renderer(camera=camera, \n",
    "                    scene=scene, \n",
    "                    controls=[TrackballControls(controlling=camera)],\n",
    "                    background = 'gray')\n",
    "# renderer.width = '1024'\n",
    "# renderer.height = '768'\n",
    "display(renderer)"
   ]
  },
  {
   "cell_type": "code",
   "execution_count": 35,
   "metadata": {
    "collapsed": false
   },
   "outputs": [
    {
     "name": "stdout",
     "output_type": "stream",
     "text": [
      "Dll: [ 0 0 1 0 0 0 ]\n",
      "Dll: [ 0.5774 0.5774 0.5774 0 0.5774 0.5774 ]\n",
      "Dll: [ 0.5774 0.5774 -0.4226 0 0.5774 0.5774 ]\n",
      "Dll: [ -0.5774 0.5774 0 0 -0.5774 0.5774 ]\n"
     ]
    }
   ],
   "source": [
    "print(l1)\n",
    "print(l2)\n",
    "print(l3)\n",
    "print(l4)"
   ]
  },
  {
   "cell_type": "code",
   "execution_count": 36,
   "metadata": {
    "collapsed": false
   },
   "outputs": [
    {
     "name": "stdout",
     "output_type": "stream",
     "text": [
      "Mot: [ 0.87 0 -0.5 0 -0.68 -0.43 -0.18 -0.25 ]\n",
      "Vec: [ 1 1 1 ]\n",
      "Rot: [ 0.87 0 -0.5 0 ]\n"
     ]
    }
   ],
   "source": [
    "motor = vsr.Vec(1,1,1).trs() * vsr.Rot(vsr.Biv(0,1,0) * np.pi/6.0)\n",
    "print(motor)\n",
    "print(motor.trs())\n",
    "print(motor.rot())"
   ]
  },
  {
   "cell_type": "code",
   "execution_count": 37,
   "metadata": {
    "collapsed": false
   },
   "outputs": [],
   "source": [
    "make_text?"
   ]
  },
  {
   "cell_type": "code",
   "execution_count": 38,
   "metadata": {
    "collapsed": false
   },
   "outputs": [],
   "source": [
    "@interact(x=10,y=10,z=10)\n",
    "def position_camera(x,y,z):\n",
    "    camera.position = [x,y,z]"
   ]
  },
  {
   "cell_type": "code",
   "execution_count": 39,
   "metadata": {
    "collapsed": false
   },
   "outputs": [],
   "source": [
    "class Sphere(object):\n",
    "    def __init__(self):\n",
    "        pass\n",
    "    def update(vsr_sph):\n",
    "        r, p, q = vsr_sph.rpo()\n",
    "        \n",
    "def make_sphere():\n",
    "    return Mesh(geometry = SphereGeometry(),\n",
    "                material= BasicMaterial(color='red'))\n",
    "\n",
    "def make_circle():\n",
    "    return Mesh(geometry = RingGeometry(thetaSegments=64), \n",
    "              material= BasicMaterial(color='black'))\n",
    "\n",
    "class Game(object):\n",
    "    class Circle(vsr.Cir, Mesh):\n",
    "        def __init__(self):\n",
    "            self._color = 'black'\n",
    "            super(Mesh, self).__init__(geometry = RingGeometry(thetaSegments=64), \n",
    "                          material= BasicMaterial(color=self._color))\n",
    "            \n",
    "        @property\n",
    "        def mesh(self):\n",
    "            return self._mesh\n",
    "        \n",
    "        def update_mesh(self):\n",
    "            (r, p, q) = self.rpo()\n",
    "            self.geometry.innerRadius = r\n",
    "            self.geometry.outerRadius = r + 0.1\n",
    "            self.position = p\n",
    "            self.quaternion = q\n",
    "        "
   ]
  },
  {
   "cell_type": "markdown",
   "metadata": {},
   "source": [
    "## Rotation"
   ]
  },
  {
   "cell_type": "code",
   "execution_count": 40,
   "metadata": {
    "collapsed": false
   },
   "outputs": [
    {
     "ename": "AttributeError",
     "evalue": "'Vec' object has no attribute 'reflect'",
     "output_type": "error",
     "traceback": [
      "\u001b[1;31m---------------------------------------------------------------------------\u001b[0m",
      "\u001b[1;31mAttributeError\u001b[0m                            Traceback (most recent call last)",
      "\u001b[1;32m<ipython-input-40-e7c73f6cac12>\u001b[0m in \u001b[0;36m<module>\u001b[1;34m()\u001b[0m\n\u001b[0;32m      9\u001b[0m \u001b[1;33m\u001b[0m\u001b[0m\n\u001b[0;32m     10\u001b[0m \u001b[0ma\u001b[0m \u001b[1;33m=\u001b[0m \u001b[0mvsr\u001b[0m\u001b[1;33m.\u001b[0m\u001b[0mVec\u001b[0m\u001b[1;33m(\u001b[0m\u001b[1;36m1\u001b[0m\u001b[1;33m,\u001b[0m\u001b[1;36m0\u001b[0m\u001b[1;33m,\u001b[0m\u001b[1;36m1\u001b[0m\u001b[1;33m)\u001b[0m\u001b[1;33m\u001b[0m\u001b[0m\n\u001b[1;32m---> 11\u001b[1;33m \u001b[0ma_rot\u001b[0m \u001b[1;33m=\u001b[0m \u001b[0ma\u001b[0m\u001b[1;33m.\u001b[0m\u001b[0mreflect\u001b[0m\u001b[1;33m(\u001b[0m\u001b[0mn2\u001b[0m\u001b[1;33m)\u001b[0m\u001b[1;33m.\u001b[0m\u001b[0mreflect\u001b[0m\u001b[1;33m(\u001b[0m\u001b[0mn1\u001b[0m\u001b[1;33m)\u001b[0m\u001b[1;33m\u001b[0m\u001b[0m\n\u001b[0m\u001b[0;32m     12\u001b[0m \u001b[1;32mprint\u001b[0m\u001b[1;33m(\u001b[0m\u001b[0ma_rot\u001b[0m\u001b[1;33m)\u001b[0m\u001b[1;33m\u001b[0m\u001b[0m\n\u001b[0;32m     13\u001b[0m \u001b[1;32mprint\u001b[0m\u001b[1;33m(\u001b[0m\u001b[0ma\u001b[0m\u001b[1;33m.\u001b[0m\u001b[0mspin\u001b[0m\u001b[1;33m(\u001b[0m\u001b[0mR\u001b[0m\u001b[1;33m)\u001b[0m\u001b[1;33m)\u001b[0m\u001b[1;33m\u001b[0m\u001b[0m\n",
      "\u001b[1;31mAttributeError\u001b[0m: 'Vec' object has no attribute 'reflect'"
     ]
    }
   ],
   "source": [
    "\n",
    "n1 = vsr.Vec(0,1,0).unit()\n",
    "# n2 = vsr.Vec(-1,1,0).unit()\n",
    "n2 = n1.spin(vsr.Biv(-np.deg2rad(30),0,0).exp())\n",
    "\n",
    "B = n1 ^ n2\n",
    "\n",
    "R = n1 * n2\n",
    "\n",
    "a = vsr.Vec(1,0,1)\n",
    "a_rot = a.reflect(n2).reflect(n1)\n",
    "print(a_rot)\n",
    "print(a.spin(R))\n",
    "\n",
    "\n",
    "scene = Scene(children=[\n",
    "        frame_mesh(),\n",
    "        vector_mesh(n1,color='yellow'),\n",
    "        vector_mesh(n2,color='cyan'),\n",
    "        vector_mesh(a, color='hotpink'),\n",
    "        vector_mesh(a.reflect(n2)),\n",
    "        vector_mesh(a_rot, color='black'),\n",
    "#         bivector_mesh(n1.unduale(),color='yellow'),\n",
    "#         bivector_mesh(n2.unduale(),color='cyan'),\n",
    "        bivector_mesh(B,color='gray'),\n",
    "        AmbientLight(color='#cccccc')])\n",
    "\n",
    "camera = PerspectiveCamera(position=[3, -3, 3])\n",
    "renderer = Renderer(camera=camera, \n",
    "                    scene=scene, \n",
    "                    controls=[TrackballControls(controlling=camera)],\n",
    "                    background = 'white')\n",
    "# renderer.width = '1024'\n",
    "# renderer.height = '768'\n",
    "display(renderer)"
   ]
  },
  {
   "cell_type": "code",
   "execution_count": null,
   "metadata": {
    "collapsed": false
   },
   "outputs": [],
   "source": [
    "vsr.Vec(1,0,0).spin(R)"
   ]
  },
  {
   "cell_type": "code",
   "execution_count": null,
   "metadata": {
    "collapsed": false
   },
   "outputs": [],
   "source": [
    "2 * np.rad2deg(np.arccos(R[0]))"
   ]
  },
  {
   "cell_type": "code",
   "execution_count": null,
   "metadata": {
    "collapsed": false
   },
   "outputs": [],
   "source": [
    "sph1 = vsr.Sph(vsr.Vec(0.7,0,0).null(), 1.5)\n",
    "sph2 = vsr.Sph(vsr.Vec(-0.5,0,0).null(), 1.)\n",
    "cir = sph1.meet(sph2)\n",
    "r = cir.rot()\n",
    "\n",
    "sphere1 = Mesh(geometry = SphereGeometry(radius=sph1.radius(),\n",
    "                                        widthSegments=64,\n",
    "                                        heightSegments=64), \n",
    "              material= BasicMaterial(color='red'),\n",
    "              position=np.array(sph1.pnt())[:3].tolist())\n",
    "\n",
    "sphere2 = Mesh(geometry = SphereGeometry(radius=sph2.radius(),\n",
    "                                        widthSegments=64,\n",
    "                                        heightSegments=64), \n",
    "              material= BasicMaterial(color='blue', wireframe=False),\n",
    "              position=np.array(sph2.pnt())[:3].tolist())\n",
    "\n",
    "circle = Mesh(geometry = RingGeometry(innerRadius=cir.radius(),\n",
    "                                                outerRadius=cir.radius()+0.05,\n",
    "                                                thetaSegments=64), \n",
    "              material= BasicMaterial(color='black'),\n",
    "              position=np.array(cir.pnt())[:3].tolist(),\n",
    "              quaternion = cir.rot().quat().tolist())\n",
    "\n",
    "\n",
    "\n",
    "scene = Scene(children=[sphere1, sphere2, circle])\n",
    "c = PerspectiveCamera(position=[10, 5, 10])\n",
    "renderer = Renderer(camera=c, scene = scene, controls=[TrackballControls(controlling=c)],\n",
    "                    background = 'white')\n",
    "display(renderer)\n",
    "@interact(circlecolor=('hotpink', 'gray', 'black'),\n",
    "         sphere1color=('hotpink', 'gray', 'black'),\n",
    "         sphere2color=('hotpink', 'gray', 'black'))\n",
    "def set_radius(circlecolor, sphere1color, sphere2color):\n",
    "    sphere1.material.color = sphere1color\n",
    "    sphere2.material.color = sphere2color\n",
    "    circle.material.color = circlecolor"
   ]
  },
  {
   "cell_type": "code",
   "execution_count": null,
   "metadata": {
    "collapsed": false
   },
   "outputs": [],
   "source": [
    "%%javascript\n",
    "console.log('hallo')\n",
    "Jupyter.notebook.get_selected_cell()"
   ]
  },
  {
   "cell_type": "code",
   "execution_count": null,
   "metadata": {
    "collapsed": false
   },
   "outputs": [],
   "source": [
    "cir = vsr.Sph(vsr.Vec(0,0,0).null(), 3).meet(vsr.Sph(vsr.Vec(1,0,0).null(), 3))\n",
    "print(cir.rpo())\n",
    "radius, position, quat = cir.rpo()"
   ]
  },
  {
   "cell_type": "code",
   "execution_count": null,
   "metadata": {
    "collapsed": true
   },
   "outputs": [],
   "source": []
  },
  {
   "cell_type": "code",
   "execution_count": null,
   "metadata": {
    "collapsed": true
   },
   "outputs": [],
   "source": []
  }
 ],
 "metadata": {
  "kernelspec": {
   "display_name": "Python 2",
   "language": "python",
   "name": "python2"
  },
  "language_info": {
   "codemirror_mode": {
    "name": "ipython",
    "version": 2
   },
   "file_extension": ".py",
   "mimetype": "text/x-python",
   "name": "python",
   "nbconvert_exporter": "python",
   "pygments_lexer": "ipython2",
   "version": "2.7.11+"
  },
  "widgets": {
   "state": {
    "05efb9d684f447e39278e71558fad872": {
     "views": []
    },
    "07633c2db545429fa1b695db1fbe1bb6": {
     "views": []
    },
    "0a667e2f873f4e5eb083ac842a29663b": {
     "views": []
    },
    "0c63a4d7e51c4c14851a738ed6779463": {
     "views": []
    },
    "0cdfec9a8cc54563be07de4f4bd05c28": {
     "views": []
    },
    "1257bbb050be4b129ee41688d8222ae4": {
     "views": []
    },
    "13c297e22d0141d283fa1891d09d2de9": {
     "views": []
    },
    "1ce264ec39a24b579060d2e792526680": {
     "views": []
    },
    "1d1d1de7cc9041f6a02d38a4af798a3d": {
     "views": []
    },
    "2027dfbc4bcd44a7b96d2016894d8ab2": {
     "views": []
    },
    "227da57f09ce4b349c2ba0fc4c37ee08": {
     "views": []
    },
    "232a8dcbd9ff47968cfe7f150def4a41": {
     "views": []
    },
    "25ce0d9a4e204daa9da184382a211e2f": {
     "views": []
    },
    "27d6f73638414357aa7cac12b2e87054": {
     "views": []
    },
    "2d44befc4e7c44cab045f78df9d96691": {
     "views": []
    },
    "30a0de3fb15440bcac2b3d992736b011": {
     "views": []
    },
    "34b92e07de5e4132af20d1cf01baf60f": {
     "views": []
    },
    "39780914fa344db392d2a1727d99e935": {
     "views": []
    },
    "397d0b3c6bfd4cbbb902b86ddf110190": {
     "views": []
    },
    "3da967942352457e94033f80caf27403": {
     "views": []
    },
    "4679653a71814ad8a6042bd949ab0f32": {
     "views": []
    },
    "487b3e56283f489e8319d42d09454296": {
     "views": []
    },
    "4bc958cdc7264ae49bb7a0c8a19b505f": {
     "views": []
    },
    "4cbeebb8beb34f1ebec2664feeb317fd": {
     "views": []
    },
    "4e4a2fe9bfc64b57b9a7e7e895fb9ec4": {
     "views": []
    },
    "4f86944a05e54f3b891e04c8893e08c9": {
     "views": []
    },
    "570c55b329834f8aae55b663278fd20b": {
     "views": []
    },
    "57f0f724509b4c7d8b86c8c64030b2a0": {
     "views": []
    },
    "5843c7dba3b245a08def78a39384e693": {
     "views": []
    },
    "5f485447a2cb4e2a88ef9616a89159d6": {
     "views": []
    },
    "60fbb04176054b7aaa524c3f234599ec": {
     "views": []
    },
    "61b0d25793fa4c12bfac06a4b409c8fa": {
     "views": []
    },
    "662dd1289eb346f990850cd47e621184": {
     "views": []
    },
    "6a6a6e8647f6481c897409faafd76ec0": {
     "views": []
    },
    "6fddbb734a9344539ff8d66f2df881f8": {
     "views": []
    },
    "77ebf96c76944ed1b1c704f1d2837e90": {
     "views": [
      {
       "cell_index": 47
      }
     ]
    },
    "7c7b489749a5461288fcabf14962be0f": {
     "views": []
    },
    "7f49058447f344ff94be16d376fed84b": {
     "views": []
    },
    "834a7b0753924576806baccc4da514a5": {
     "views": []
    },
    "8362361690e34f95861e69a45ef2fd3c": {
     "views": []
    },
    "85165f1afee4457e947332ae9babf905": {
     "views": []
    },
    "8e2e3dfc4ba84042bd5c4f638bc27a4f": {
     "views": []
    },
    "9347236bb6244cbd89a6625f4f9d38e4": {
     "views": []
    },
    "99a09f181ef543c582573d524428b2ca": {
     "views": []
    },
    "9a83a96be17d473a9dac57c46312fd29": {
     "views": []
    },
    "9a8ce5f01d414f8f957aac7940785b38": {
     "views": []
    },
    "9d620c11825a43b59204153623a7019d": {
     "views": []
    },
    "9dadefa761234341b892cab7d51c24ef": {
     "views": []
    },
    "a2df00c97a124f2ab935a7f4c4256de9": {
     "views": []
    },
    "a3e5c7d2c85846f8aaeac353687a8882": {
     "views": []
    },
    "a64aa3763d0e4fbc92545068781ddc2d": {
     "views": []
    },
    "a6770eb9b5b449cd905912aa79c54e58": {
     "views": []
    },
    "ab59aac71f74406e851125e2028ff0fe": {
     "views": []
    },
    "abb5eeea435d49b58bae2817624ca12d": {
     "views": []
    },
    "b0962a1dbb80486c987ea3981b464f7b": {
     "views": []
    },
    "b463859c5f9944a39642622806f7be9f": {
     "views": []
    },
    "b77853908e074f438678adc601571b00": {
     "views": []
    },
    "cf19c9d9a7d348c483f39fc51b847abc": {
     "views": []
    },
    "d11e74e6f7574a1192533d75c8ea6b69": {
     "views": []
    },
    "d3c13c38bf6e4cf8ad5e7d7eee00ee80": {
     "views": []
    },
    "d4027c7535b5485383e08ecaaf6a04f2": {
     "views": []
    },
    "d4d6cb6f1c8b4e1498eb238073a44182": {
     "views": []
    },
    "d97ac01b7d2c40d5ad7ed8108366fcd4": {
     "views": []
    },
    "e179333da3464c6196d866b43460b126": {
     "views": []
    },
    "e1b4869671f8495f8ecda1acceeb9499": {
     "views": []
    },
    "e29a7ccad6034a75be7e29846838fd84": {
     "views": []
    },
    "e6f85daaab3f4ce1a6cd141c4e881c8d": {
     "views": []
    },
    "e74290d7f7c34ea48fb5c0e9bba312a6": {
     "views": []
    },
    "ed550ba7a7cf4fd8be6d7c8e190110fd": {
     "views": [
      {
       "cell_index": 54
      }
     ]
    },
    "f195009ac6e143f6a3f61fb58f9218c6": {
     "views": []
    },
    "f68979bc85f94256b13971a9fb7c72c3": {
     "views": []
    },
    "f9257bd9a70d4908b59128cfe4d4348c": {
     "views": []
    },
    "fb79f918545147fcb54e93ca5f816aa7": {
     "views": []
    },
    "fc27f95e71f54ecfbd08d8bf72469385": {
     "views": []
    },
    "fec2cb1dfef54df69322bf6b6698d37b": {
     "views": []
    }
   },
   "version": "1.1.2"
  }
 },
 "nbformat": 4,
 "nbformat_minor": 0
}
