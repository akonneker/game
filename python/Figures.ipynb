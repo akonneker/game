{
 "cells": [
  {
   "cell_type": "code",
   "execution_count": 1,
   "metadata": {
    "collapsed": true
   },
   "outputs": [],
   "source": [
    "from __future__ import print_function"
   ]
  },
  {
   "cell_type": "code",
   "execution_count": 2,
   "metadata": {
    "collapsed": true
   },
   "outputs": [],
   "source": [
    "import sys\n",
    "sys.path.append('../build/')"
   ]
  },
  {
   "cell_type": "code",
   "execution_count": 3,
   "metadata": {
    "collapsed": false
   },
   "outputs": [
    {
     "name": "stdout",
     "output_type": "stream",
     "text": [
      "Populating the interactive namespace from numpy and matplotlib\n"
     ]
    }
   ],
   "source": [
    "%pylab inline\n",
    "np.set_printoptions(precision=4, suppress=True)"
   ]
  },
  {
   "cell_type": "code",
   "execution_count": 4,
   "metadata": {
    "collapsed": false
   },
   "outputs": [],
   "source": [
    "import versor as vsr\n",
    "from versor.drawing import *"
   ]
  },
  {
   "cell_type": "code",
   "execution_count": 5,
   "metadata": {
    "collapsed": true
   },
   "outputs": [],
   "source": [
    "from IPython.display import display\n",
    "from ipywidgets import HTML, Text, interact, widgets\n",
    "from traitlets import link, dlink"
   ]
  },
  {
   "cell_type": "code",
   "execution_count": 6,
   "metadata": {
    "collapsed": false
   },
   "outputs": [],
   "source": [
    "def rgb2hex(r, g, b):\n",
    "    return \"#{0:02x}{1:02x}{2:02x}\".format(r, g, b)"
   ]
  },
  {
   "cell_type": "markdown",
   "metadata": {},
   "source": [
    "# Figures"
   ]
  },
  {
   "cell_type": "markdown",
   "metadata": {},
   "source": [
    "## Reciprocal frame"
   ]
  },
  {
   "cell_type": "code",
   "execution_count": 23,
   "metadata": {
    "collapsed": false
   },
   "outputs": [
    {
     "name": "stdout",
     "output_type": "stream",
     "text": [
      "Vec: [ 0.87 -2.4 0.87 ]\n",
      "Vec: [ 0.87 -2.4 0.87 ]\n",
      "0.866025403784\n"
     ]
    }
   ],
   "source": [
    "R = vsr.Biv(-pi/6.,0,0).exp()\n",
    "a1 = vsr.Vec(1,0,0)\n",
    "a2 = a1.spin(R)\n",
    "# a2 = vsr.Vec(0,1,1)\n",
    "a3 = vsr.Vec(-1,-1,1)\n",
    "\n",
    "I = (a3 ^ a2 ^ a1).unit()\n",
    "\n",
    "ra1 = I.unit() * (a2 ^ a3)\n",
    "ra2 = I.unit() * (a3 ^ a1)\n",
    "ra3 = I.unit() * (a1 ^ a2)\n",
    "\n",
    "b = 1 * a1 + 2. * a2 + 1. * a3\n",
    "\n",
    "print((b <= a1) * ra1 + (b <= a2) * ra2 + (b <= a3) * ra3)\n",
    "print((b <= ra1) * a1 + (b <= ra2) * a2 + (b <= ra3) * a3)\n",
    "\n",
    "print((a1) <= (ra1))\n",
    "\n",
    "\n",
    "\n",
    "scene = Scene(children=[\n",
    "#         frame_mesh(),\n",
    "        vector_mesh(a1, color='red', arrow=True),\n",
    "        vector_mesh(a2, color='green', arrow=True),\n",
    "        vector_mesh(a3, color='blue', arrow=True),\n",
    "        vector_mesh(ra1, color='hotpink', arrow=True),\n",
    "        vector_mesh(ra2, color='lightgreen', arrow=True),\n",
    "        vector_mesh(ra3, color='lightskyblue', arrow=True),\n",
    "        \n",
    "        vector_mesh(b),\n",
    "\n",
    "        AmbientLight(color='#cccccc')])\n",
    "camera = PerspectiveCamera(position=[3, -3, 3])\n",
    "renderer = Renderer(camera=camera, \n",
    "                    scene=scene, \n",
    "                    controls=[TrackballControls(controlling=camera)],\n",
    "                    background = 'white')\n",
    "# renderer.width = '1024'\n",
    "# renderer.height = '768'\n",
    "\n",
    "display(renderer)"
   ]
  },
  {
   "cell_type": "markdown",
   "metadata": {},
   "source": [
    "## Duality"
   ]
  },
  {
   "cell_type": "code",
   "execution_count": 26,
   "metadata": {
    "collapsed": false
   },
   "outputs": [],
   "source": [
    "B = vsr.Biv(1,0,0)\n",
    "a = B.duale()\n",
    "\n",
    "scene = Scene(children=[\n",
    "        frame_mesh(),\n",
    "        vector_mesh(a,color='blue', arrow=True),\n",
    "        bivector_mesh(B,as_plane=False,color='hotpink'),\n",
    "#         DirectionalLight(color='#ccaabb', position=[1,1,1]),\n",
    "        AmbientLight(color='#cccccc')])\n",
    "camera = PerspectiveCamera(position=[3, -3, 3])\n",
    "renderer = Renderer(camera=camera, \n",
    "                    scene=scene, \n",
    "                    controls=[TrackballControls(controlling=camera)],\n",
    "                    background = 'white')\n",
    "# renderer.width = '1024'\n",
    "# renderer.height = '768'\n",
    "\n",
    "display(renderer)"
   ]
  },
  {
   "cell_type": "markdown",
   "metadata": {},
   "source": [
    "## Projection and Rejection"
   ]
  },
  {
   "cell_type": "code",
   "execution_count": 8,
   "metadata": {
    "collapsed": false
   },
   "outputs": [],
   "source": [
    "a = vsr.Vec(1,1,1)\n",
    "B = vsr.Biv(1,0,0)\n",
    "c = a.project_onto(B)\n",
    "d = a.reject_from(B)\n",
    "\n",
    "scene = Scene(children=[\n",
    "        frame_mesh(),\n",
    "        vector_mesh(a,color='gray', arrow=True),\n",
    "        vector_mesh(c,color='gray'),\n",
    "        vector_mesh(d,position=np.array(c).tolist(),color='gray'),\n",
    "        bivector_mesh(B,color='hotpink'),\n",
    "#         DirectionalLight(color='#ccaabb', position=[1,1,1]),\n",
    "        AmbientLight(color='#cccccc')])\n",
    "camera = PerspectiveCamera(position=[3, -3, 3])\n",
    "renderer = Renderer(camera=camera, \n",
    "                    scene=scene, \n",
    "                    controls=[TrackballControls(controlling=camera)],\n",
    "                    background = 'white')\n",
    "# renderer.width = '1024'\n",
    "# renderer.height = '768'\n",
    "display(renderer)"
   ]
  },
  {
   "cell_type": "markdown",
   "metadata": {},
   "source": [
    "## Reflection"
   ]
  },
  {
   "cell_type": "code",
   "execution_count": 9,
   "metadata": {
    "collapsed": false
   },
   "outputs": [],
   "source": [
    "a = vsr.Vec(1,0,1)\n",
    "B = vsr.Biv(2,0,0)\n",
    "n = B.duale().unit()\n",
    "a_reflected = a.reflect_in_line(n)\n",
    "a_reflected2 = a.reflect_in_plane(n)\n",
    "\n",
    "children = [\n",
    "    frame_mesh(),\n",
    "    vector_mesh(a,color='black', arrow=True),\n",
    "    vector_mesh(a_reflected,color='black', arrow=True),\n",
    "    vector_mesh(a_reflected2,color='black', arrow=True),\n",
    "#     vector_mesh(n,color='black', arrow=True),\n",
    "    bivector_mesh(B, as_plane=True,color='hotpink')]\n",
    "\n",
    "children[-1].material.transparent = True\n",
    "children[-1].material.opacity = 0.75\n",
    "\n",
    "\n",
    "def show(children):\n",
    "    scene = Scene(children= children + [AmbientLight(color='#cccccc')])\n",
    "    camera = PerspectiveCamera(position=[1, -3, 0])\n",
    "    renderer = Renderer(camera=camera, \n",
    "                        scene=scene, \n",
    "                        controls=[TrackballControls(controlling=camera)],\n",
    "                        background = 'white')\n",
    "    return renderer\n",
    "display(show(children))"
   ]
  },
  {
   "cell_type": "markdown",
   "metadata": {},
   "source": [
    "## Rotation"
   ]
  },
  {
   "cell_type": "code",
   "execution_count": 10,
   "metadata": {
    "collapsed": false
   },
   "outputs": [],
   "source": [
    "n1 = vsr.Vec(0,1,0).unit()\n",
    "n2 = n1.spin(vsr.Biv(-np.deg2rad(30) / 2,0,0).exp())\n",
    "B = n1 ^ n2\n",
    "R = n1 * n2\n",
    "a = vsr.Vec(1,0,1).unit()\n",
    "a_rot = a.reflect_in_line(n2).reflect_in_line(n1)\n",
    "\n",
    "B_mesh = bivector_mesh(B,color='gray')\n",
    "B_mesh.material.opacity = 0.9\n",
    "B_mesh.material.transparent = True\n",
    "\n",
    "scene = Scene(children=[\n",
    "#         frame_mesh(),\n",
    "        vector_mesh(n1,color='yellow'),\n",
    "        vector_mesh(n2,color='cyan'),\n",
    "        vector_mesh(a, color='hotpink'),\n",
    "        vector_mesh(a.reflect_in_line(n2)),\n",
    "        vector_mesh(a_rot, color='black'),\n",
    "#         bivector_mesh(n1.unduale(),color='yellow'),\n",
    "#         bivector_mesh(n2.unduale(),color='cyan'),\n",
    "        B_mesh,\n",
    "        AmbientLight(color='#cccccc')])\n",
    "\n",
    "camera = PerspectiveCamera(position=[3, -3, 3])\n",
    "renderer = Renderer(camera=camera, \n",
    "                    scene=scene, \n",
    "                    controls=[TrackballControls(controlling=camera)],\n",
    "                    background = 'white')\n",
    "# renderer.width = '1024'\n",
    "# renderer.height = '768'\n",
    "display(renderer)"
   ]
  },
  {
   "cell_type": "markdown",
   "metadata": {
    "collapsed": false
   },
   "source": [
    "# Conformal Geometric Algebra"
   ]
  },
  {
   "cell_type": "code",
   "execution_count": 11,
   "metadata": {
    "collapsed": false
   },
   "outputs": [],
   "source": [
    "p1 = vsr.Vec(1,0,1).null()\n",
    "p2 = vsr.Vec(0,1,1).null()\n",
    "\n",
    "scene = Scene(children=[\n",
    "        frame_mesh(),\n",
    "        point_mesh(p1,color='lightskyblue'),\n",
    "        vector_mesh(p1.vec(),color='lightslategray', arrow=True),\n",
    "        point_mesh(p2,color='lightskyblue'),\n",
    "        vector_mesh(p2.vec(),color='lightslategray', arrow=True),\n",
    "\n",
    "        AmbientLight(color='#cccccc')])\n",
    "\n",
    "camera = PerspectiveCamera(position=[3, -3, 3])\n",
    "renderer = Renderer(camera=camera, \n",
    "                    scene=scene, \n",
    "                    controls=[TrackballControls(controlling=camera)],\n",
    "                    background = 'white')\n",
    "# renderer.width = '1024'\n",
    "# renderer.height = '768'\n",
    "display(renderer)"
   ]
  },
  {
   "cell_type": "code",
   "execution_count": 12,
   "metadata": {
    "collapsed": false
   },
   "outputs": [],
   "source": [
    "# p1 = vsr.Vec(1,0,1).null()\n",
    "p2 = vsr.Vec(0,1,1).null()\n",
    "p3 = vsr.Vec(1,1,1).null()\n",
    "p4 = vsr.Vec(0,0,1.5).null()\n",
    "pln = vsr.Pln(p2, p3, p4).dual()\n",
    "\n",
    "\n",
    "scene = Scene(children=[\n",
    "        frame_mesh(),\n",
    "        point_mesh(p2,color='lightskyblue'),\n",
    "        vector_mesh(p2.vec(),color='lightskyblue', arrow=True),\n",
    "\n",
    "        point_mesh(p3,color='lightskyblue'),\n",
    "        point_mesh(p4,color='lightskyblue'),\n",
    "        plane_mesh(pln, width=3, height=3, color='hotpink'),\n",
    "\n",
    "        AmbientLight(color='#cccccc')])\n",
    "\n",
    "camera = PerspectiveCamera(position=[3, -3, 3])\n",
    "renderer = Renderer(camera=camera, \n",
    "                    scene=scene, \n",
    "                    controls=[TrackballControls(controlling=camera)],\n",
    "                    background = 'white')\n",
    "renderer.width = '1024'\n",
    "renderer.height = '768'\n",
    "display(renderer)"
   ]
  },
  {
   "cell_type": "code",
   "execution_count": 13,
   "metadata": {
    "collapsed": false
   },
   "outputs": [
    {
     "name": "stdout",
     "output_type": "stream",
     "text": [
      "Vec: [ 0 0.6 1.2 ]\n"
     ]
    }
   ],
   "source": [
    "# p1 = vsr.Vec(1,0,1).null()\n",
    "p2 = vsr.Vec(0,1,1).null()\n",
    "p3 = vsr.Vec(1,1,1).null()\n",
    "p4 = vsr.Vec(0,0,1.5).null()\n",
    "pln = vsr.Pln(p2, p3, p4).dual().unit()\n",
    "\n",
    "loc = pln.loc(vsr.Vec(0,0,0).null()).vec()\n",
    "n = loc - vsr.Vec(0,0,0)\n",
    "print(n)\n",
    "\n",
    "\n",
    "scene = Scene(children=[\n",
    "        frame_mesh(),\n",
    "#         point_mesh(loc,color='lightskyblue'),\n",
    "        plane_mesh(pln, width=3, height=3, color='hotpink'),\n",
    "        vector_mesh(n),\n",
    "        vector_mesh(n,position=loc,arrow=True),\n",
    "        AmbientLight(color='#cccccc')])\n",
    "\n",
    "camera = PerspectiveCamera(position=[3, -3, 3])\n",
    "renderer = Renderer(camera=camera, \n",
    "                    scene=scene, \n",
    "                    controls=[TrackballControls(controlling=camera)],\n",
    "                    background = 'white')\n",
    "renderer.width = '1024'\n",
    "renderer.height = '768'\n",
    "display(renderer)"
   ]
  },
  {
   "cell_type": "code",
   "execution_count": 14,
   "metadata": {
    "collapsed": false
   },
   "outputs": [
    {
     "data": {
      "text/plain": [
       "Vec: [ 0 0.6 1.2 ]"
      ]
     },
     "execution_count": 14,
     "metadata": {},
     "output_type": "execute_result"
    }
   ],
   "source": [
    "n"
   ]
  },
  {
   "cell_type": "markdown",
   "metadata": {},
   "source": [
    "### Circle"
   ]
  },
  {
   "cell_type": "code",
   "execution_count": 15,
   "metadata": {
    "collapsed": false
   },
   "outputs": [],
   "source": [
    "# p1 = vsr.Vec(1,0,1).null()\n",
    "p2 = vsr.Vec(0,1,1).null()\n",
    "p3 = vsr.Vec(1,1,1).null()\n",
    "p4 = vsr.Vec(0,0,1.5).null()\n",
    "cir = vsr.Cir(p2, p3, p4)\n",
    "\n",
    "\n",
    "scene = Scene(children=[\n",
    "        frame_mesh(),\n",
    "        point_mesh(p2,color='lightskyblue'),\n",
    "        point_mesh(p3,color='lightskyblue'),\n",
    "        point_mesh(p4,color='lightskyblue'),\n",
    "        circle_mesh(cir, color='coral'),\n",
    "\n",
    "        AmbientLight(color='#cccccc')])\n",
    "\n",
    "camera = PerspectiveCamera(position=[3, -3, 3])\n",
    "renderer = Renderer(camera=camera, \n",
    "                    scene=scene, \n",
    "                    controls=[TrackballControls(controlling=camera)],\n",
    "                    background = 'white')\n",
    "renderer.width = '1024'\n",
    "renderer.height = '768'\n",
    "display(renderer)"
   ]
  },
  {
   "cell_type": "code",
   "execution_count": 16,
   "metadata": {
    "collapsed": true
   },
   "outputs": [],
   "source": [
    "vsr.Sph?"
   ]
  },
  {
   "cell_type": "markdown",
   "metadata": {},
   "source": [
    "### Direct Line"
   ]
  },
  {
   "cell_type": "code",
   "execution_count": 17,
   "metadata": {
    "collapsed": false
   },
   "outputs": [
    {
     "name": "stdout",
     "output_type": "stream",
     "text": [
      "Dll: [ 0 -0.7071 0.7071 -0.7071 0.7071 0.7071 ]\n"
     ]
    }
   ],
   "source": [
    "p1 = vsr.Vec(1,0,1).null()\n",
    "p2 = vsr.Vec(2,1,1).null()\n",
    "l = vsr.Dll(p1,p2).unit()\n",
    "print(l)\n",
    "dlp = vsr.Dlp(l.dir().vec().unit(), 0)\n",
    "\n",
    "ld = vsr.Vec(*np.array(l)[3:])\n",
    "\n",
    "l_dir = l.dir().vec().unit()\n",
    "\n",
    "l_loc = l.loc(vsr.Vec(0,0,0).null()).vec()\n",
    "\n",
    "d = l_loc <= l_dir.unduale()\n",
    "\n",
    "vertices = [[0,0,0], \n",
    "            np.array(p1.vec()).tolist(),\n",
    "            np.array(p2.vec()).tolist(),\n",
    "            np.array(p2.vec() - p1.vec()).tolist() \n",
    "           ]\n",
    "faces= [[1,2,3],[1,4,3]]\n",
    "\n",
    "scene = Scene(children=[\n",
    "        frame_mesh(),\n",
    "        point_mesh(p1,color='#ff00ff'),\n",
    "        vector_mesh(p1.vec(),color='#ff00ff'),\n",
    "#         plane_mesh(dlp, color='plum'),\n",
    "        Mesh(geometry=PlainGeometry(vertices=vertices, faces=faces),\n",
    "             material=LambertMaterial(color='palegreen',\n",
    "                                      transparent=True,\n",
    "                                      opacity=0.75)),\n",
    "        \n",
    "        point_mesh(p2,color='#00ffff'),\n",
    "#         vector_mesh(l_dir,position=p1,color='#ffff00', arrow=True),\n",
    "#         bivector_mesh(l.biv(), color='#ffff00'),\n",
    "#         bivector_mesh(p1.vec() ^ p2.vec(), color='coral', as_plane=True),\n",
    "#         vector_mesh(l.drv().vec(), color='coral'),\n",
    "#         point_mesh(l.meet(dlp), color='red'),\n",
    "\n",
    "        line_mesh(l, length=100),\n",
    "        \n",
    "        AmbientLight(color='#cccccc')])\n",
    "\n",
    "camera = PerspectiveCamera(position=[3, -3, 3])\n",
    "renderer = Renderer(camera=camera, \n",
    "                    scene=scene, \n",
    "                    controls=[TrackballControls(controlling=camera)],\n",
    "                    background = 'white')\n",
    "renderer.width = '1024'\n",
    "renderer.height = '768'\n",
    "display(renderer)"
   ]
  },
  {
   "cell_type": "markdown",
   "metadata": {},
   "source": [
    "### Dual Line"
   ]
  },
  {
   "cell_type": "code",
   "execution_count": 18,
   "metadata": {
    "collapsed": false
   },
   "outputs": [
    {
     "name": "stdout",
     "output_type": "stream",
     "text": [
      "Dll: [ 0 -0.7071 0.7071 -0.7071 0.7071 0.7071 ]\n"
     ]
    }
   ],
   "source": [
    "p1 = vsr.Vec(1,0,1).null()\n",
    "p2 = vsr.Vec(2,1,1).null()\n",
    "l = vsr.Dll(p1,p2).unit()\n",
    "print(l)\n",
    "dlp = vsr.Dlp(l.dir().vec().unit(), 0)\n",
    "\n",
    "ld = vsr.Vec(*np.array(l)[3:])\n",
    "\n",
    "l_dir = l.dir().vec().unit()\n",
    "\n",
    "l_loc = l.loc(vsr.Vec(0,0,0).null()).vec()\n",
    "\n",
    "d = l_loc <= l_dir.unduale()\n",
    "\n",
    "vertices = [[0,0,0], \n",
    "            np.array(p1.vec()).tolist(),\n",
    "            np.array(p2.vec()).tolist(),\n",
    "            np.array(p2.vec() - p1.vec()).tolist() \n",
    "           ]\n",
    "faces= [[1,2,3],[1,4,3]]\n",
    "\n",
    "scene = Scene(children=[\n",
    "        frame_mesh(),\n",
    "        point_mesh(p1,color='#ff00ff'),\n",
    "        vector_mesh(p1.vec(),color='#ff00ff'),\n",
    "#         plane_mesh(dlp, color='plum'),\n",
    "#         Mesh(geometry=PlainGeometry(vertices=vertices, faces=faces),\n",
    "#              material=LambertMaterial(color='palegreen',\n",
    "#                                       transparent=True,\n",
    "#                                       opacity=0.75)),\n",
    "        \n",
    "        point_mesh(p2,color='#00ffff'),\n",
    "#         vector_mesh(l_dir,position=p1,color='#ffff00', arrow=True),\n",
    "        bivector_mesh(l.biv(), color='lightblue'),\n",
    "#         bivector_mesh(p1.vec() ^ p2.vec(), color='coral', as_plane=True),\n",
    "        vector_mesh(l.drv().vec(), color='deepskyblue'),\n",
    "#         point_mesh(l.meet(dlp), color='red'),\n",
    "\n",
    "        line_mesh(l, length=100),\n",
    "        \n",
    "        AmbientLight(color='#cccccc')])\n",
    "\n",
    "camera = PerspectiveCamera(position=[3, -3, 3])\n",
    "renderer = Renderer(camera=camera, \n",
    "                    scene=scene, \n",
    "                    controls=[TrackballControls(controlling=camera)],\n",
    "                    background = 'white')\n",
    "renderer.width = '1024'\n",
    "renderer.height = '768'\n",
    "display(renderer)"
   ]
  },
  {
   "cell_type": "markdown",
   "metadata": {},
   "source": [
    "### Tangent vector"
   ]
  },
  {
   "cell_type": "code",
   "execution_count": 19,
   "metadata": {
    "collapsed": false
   },
   "outputs": [
    {
     "name": "stdout",
     "output_type": "stream",
     "text": [
      "Dll: [ 0 -0.7071 0.7071 -0.7071 0.7071 0.7071 ]\n"
     ]
    }
   ],
   "source": [
    "p1 = vsr.Vec(1,0,1).null()\n",
    "p2 = vsr.Vec(2,1,1).null()\n",
    "l = vsr.Dll(p1,p2).unit()\n",
    "print(l)\n",
    "dlp = vsr.Dlp(l.dir().vec().unit(), 0)\n",
    "\n",
    "ld = vsr.Vec(*np.array(l)[3:])\n",
    "\n",
    "l_dir = l.dir().vec().unit()\n",
    "\n",
    "l_loc = l.loc(vsr.Vec(0,0,0).null()).vec()\n",
    "\n",
    "d = l_loc <= l_dir.unduale()\n",
    "\n",
    "vertices = [[0,0,0], \n",
    "            np.array(p1.vec()).tolist(),\n",
    "            np.array(p2.vec()).tolist(),\n",
    "            np.array(p2.vec() - p1.vec()).tolist() \n",
    "           ]\n",
    "faces= [[1,2,3],[1,4,3]]\n",
    "\n",
    "scene = Scene(children=[\n",
    "        frame_mesh(),\n",
    "        point_mesh(p1,color='#ff00ff'),\n",
    "        vector_mesh(p1.vec(),color='#ff00ff'),\n",
    "        vector_mesh((p2.vec() - p1.vec()).unit(), position=p1.vec(), arrow=True),\n",
    "        vector_mesh((p2.vec() - p1.vec()).unit(), arrow=True),\n",
    "\n",
    "        \n",
    "        AmbientLight(color='#cccccc')])\n",
    "\n",
    "camera = PerspectiveCamera(position=[3, -3, 3])\n",
    "renderer = Renderer(camera=camera, \n",
    "                    scene=scene, \n",
    "                    controls=[TrackballControls(controlling=camera)],\n",
    "                    background = 'white')\n",
    "renderer.width = '1024'\n",
    "renderer.height = '768'\n",
    "display(renderer)"
   ]
  },
  {
   "cell_type": "markdown",
   "metadata": {},
   "source": [
    "### Carrier flats"
   ]
  },
  {
   "cell_type": "code",
   "execution_count": 20,
   "metadata": {
    "collapsed": false
   },
   "outputs": [],
   "source": [
    "# p1 = vsr.Vec(1,0,1).null()\n",
    "p2 = vsr.Vec(0,1,1).null()\n",
    "p3 = vsr.Vec(1,1,1).null()\n",
    "p4 = vsr.Vec(0,0,1.5).null()\n",
    "cir = vsr.Cir(p2, p3, p4)\n",
    "pln = vsr.Pln(p2,p3,p4)\n",
    "\n",
    "\n",
    "scene = Scene(children=[\n",
    "        frame_mesh(),\n",
    "#         point_mesh(p2,color='lightskyblue'),\n",
    "#         point_mesh(p3,color='lightskyblue'),\n",
    "#         point_mesh(p4,color='lightskyblue'),\n",
    "        circle_mesh(cir, color='black'),\n",
    "        plane_mesh(pln, width=3, height=3, color='lightskyblue'),\n",
    "\n",
    "        AmbientLight(color='#cccccc')])\n",
    "\n",
    "camera = PerspectiveCamera(position=[3, -3, 3])\n",
    "renderer = Renderer(camera=camera, \n",
    "                    scene=scene, \n",
    "                    controls=[TrackballControls(controlling=camera)],\n",
    "                    background = 'white')\n",
    "renderer.width = '1024'\n",
    "renderer.height = '768'\n",
    "display(renderer)"
   ]
  },
  {
   "cell_type": "markdown",
   "metadata": {},
   "source": [
    "### Transformations"
   ]
  },
  {
   "cell_type": "markdown",
   "metadata": {},
   "source": [
    "#### Transformations"
   ]
  },
  {
   "cell_type": "code",
   "execution_count": 21,
   "metadata": {
    "collapsed": false
   },
   "outputs": [],
   "source": [
    "\n",
    "normal = vsr.Vec(1,1,1).unit()\n",
    "pao = vsr.Vec(1,0,0).null()\n",
    "pln1 = vsr.Dlp(normal,1.)\n",
    "pln2 = vsr.Dlp(normal,1.75)\n",
    "\n",
    "p1 = pao.reflect_in_plane(pln1)\n",
    "p2 = p1.reflect_in_plane(pln2)\n",
    "\n",
    "scene = Scene(children=[\n",
    "        frame_mesh(),\n",
    "        plane_mesh(pln1, color='hotpink', width=2., height=2.),\n",
    "        plane_mesh(pln2, color='hotpink', width=2., height=2.),\n",
    "        \n",
    "        point_mesh(pao, color='lightskyblue'),\n",
    "        point_mesh(p1, color='lightskyblue'),\n",
    "        point_mesh(p2, color='lightskyblue'),\n",
    "\n",
    "#         point_mesh(pao.spin(T)),\n",
    "        \n",
    "        AmbientLight(color='#cccccc')])\n",
    "\n",
    "camera = PerspectiveCamera(position=[3, -3, 3])\n",
    "renderer = Renderer(camera=camera, \n",
    "                    scene=scene, \n",
    "                    controls=[TrackballControls(controlling=camera)],\n",
    "                    background = 'white')\n",
    "# renderer.width = '1024'\n",
    "# renderer.height = '768'\n",
    "display(renderer)"
   ]
  },
  {
   "cell_type": "markdown",
   "metadata": {},
   "source": [
    "#### General Rotations"
   ]
  },
  {
   "cell_type": "code",
   "execution_count": 87,
   "metadata": {
    "collapsed": false
   },
   "outputs": [
    {
     "name": "stdout",
     "output_type": "stream",
     "text": [
      "Mot: [ 0.87 0 0 0.5 0 0.5 -0.5 0 ]\n"
     ]
    }
   ],
   "source": [
    "t = vsr.Vec(0,1,1)\n",
    "T = t.trs()\n",
    "R = vsr.Biv(0,0,-pi/6).exp()\n",
    "B = R.log().unit()\n",
    "G = T * R * T.rev()\n",
    "print(G)\n",
    "\n",
    "p = vsr.Vec(1,1,2).null()\n",
    "ptrsrev = p.spin(T.rev())\n",
    "prottrsrev = ptrsrev.spin(R)\n",
    "pfinal = prottrsrev.spin(T)\n",
    "\n",
    "line = G.log().unit()\n",
    "\n",
    "v1 = p.vec() - line.loc(p).vec() \n",
    "v2 = pfinal.vec() - line.loc(p).vec()\n",
    "\n",
    "scene = Scene(children=[\n",
    "        frame_mesh(),\n",
    "        vector_mesh(t,color='black', arrow=True),\n",
    "        point_mesh(p, color='yellow'),\n",
    "        point_mesh(ptrsrev, color='orange'),\n",
    "        point_mesh(prottrsrev, color='hotpink'),\n",
    "        point_mesh(p.spin(G), color='deepskyblue'),\n",
    "        line_mesh(line, length=100),\n",
    "        vector_mesh((t <= B), color='deepskyblue'),\n",
    "        \n",
    "        AmbientLight(color='#cccccc')])\n",
    "\n",
    "camera = PerspectiveCamera(position=[3, -3, 3])\n",
    "renderer = Renderer(camera=camera, \n",
    "                    scene=scene, \n",
    "                    controls=[TrackballControls(controlling=camera)],\n",
    "                    background = 'white')\n",
    "renderer.width = '1024'\n",
    "renderer.height = '768'\n",
    "display(renderer)"
   ]
  },
  {
   "cell_type": "markdown",
   "metadata": {},
   "source": [
    "####  Motor and Screws"
   ]
  },
  {
   "cell_type": "code",
   "execution_count": 96,
   "metadata": {
    "collapsed": false
   },
   "outputs": [
    {
     "name": "stdout",
     "output_type": "stream",
     "text": [
      "Mot: [ 0.87 0 0 0.5 0 0.5 -0.5 0 ]\n"
     ]
    }
   ],
   "source": [
    "t = vsr.Vec(0,1,1)\n",
    "T = t.trs()\n",
    "R = vsr.Biv(0,0,-pi/6).exp()\n",
    "B = R.log().unit()\n",
    "G = T * R * T.rev()\n",
    "print(G)\n",
    "\n",
    "p = vsr.Vec(1,1,2).null()\n",
    "ptrsrev = p.spin(T.rev())\n",
    "prottrsrev = ptrsrev.spin(R)\n",
    "ptrt = prottrsrev.spin(T)\n",
    "\n",
    "tpar = R.log().unit()\n",
    "Tpar = tpar.duale().trs()\n",
    "pfinal = ptrt.spin(Tpar)\n",
    "\n",
    "w = pfinal.vec() - ptrt.vec()\n",
    "\n",
    "line = G.log().unit()\n",
    "\n",
    "pc = line.loc(p).vec() \n",
    "v1 = p.vec() - pc \n",
    "v2 = ptrt.vec() - pc\n",
    "\n",
    "m1 = vsr.Vec(1,1,1).trs() * vsr.Biv(0,0,-pi/6).exp()\n",
    "m1log = m1.log().unit()\n",
    "m2 = Tpar*vsr.Rot(1,0,0,0) * G\n",
    "m2log = m2.log().unit()\n",
    "\n",
    "mi = m2log.ratio(m1log,0.2)\n",
    "\n",
    "\n",
    "scene = Scene(children=[\n",
    "        frame_mesh(),\n",
    "        vector_mesh(t,color='gray', arrow=True),\n",
    "        point_mesh(p, color='darkturquoise'),\n",
    "        point_mesh(ptrt, color='deepskyblue'),\n",
    "        point_mesh(pfinal, color='dodgerblue'),\n",
    "        vector_mesh(w, position=ptrt.vec(), color='gray', arrow=True),\n",
    "        bivector_mesh(B, color='lightpink'),\n",
    "        line_mesh(line, length=100),\n",
    "        \n",
    "        vector_mesh(v1, position=pc, color='gray'),\n",
    "        vector_mesh(v2, position=pc, color='gray'),\n",
    "        AmbientLight(color='#cccccc')])\n",
    "\n",
    "camera = PerspectiveCamera(position=[3, -3, 3])\n",
    "renderer = Renderer(camera=camera, \n",
    "                    scene=scene, \n",
    "                    controls=[TrackballControls(controlling=camera)],\n",
    "                    background = 'white')\n",
    "renderer.width = '1024'\n",
    "renderer.height = '768'\n",
    "display(renderer)"
   ]
  },
  {
   "cell_type": "code",
   "execution_count": 81,
   "metadata": {
    "collapsed": false
   },
   "outputs": [
    {
     "data": {
      "text/plain": [
       "Mot: [ 1 0 0 0 0 0.12 -0.087 0 ]"
      ]
     },
     "execution_count": 81,
     "metadata": {},
     "output_type": "execute_result"
    }
   ],
   "source": [
    "mi = m1log.ratio(m2log,0.2)\n",
    "mi"
   ]
  },
  {
   "cell_type": "code",
   "execution_count": 82,
   "metadata": {
    "collapsed": false
   },
   "outputs": [
    {
     "data": {
      "text/plain": [
       "Dls: [ 1 1.027 2.3 1 3.672 ]"
      ]
     },
     "execution_count": 82,
     "metadata": {},
     "output_type": "execute_result"
    }
   ],
   "source": [
    "vsr.Vec(0,0,0).null().spin(m1 * mi)"
   ]
  },
  {
   "cell_type": "code",
   "execution_count": 97,
   "metadata": {
    "collapsed": false
   },
   "outputs": [
    {
     "data": {
      "text/plain": [
       "Mot: [ 0.87 0 0 0.5 -0.43 0.5 -0.5 -0.25 ]"
      ]
     },
     "execution_count": 97,
     "metadata": {},
     "output_type": "execute_result"
    }
   ],
   "source": [
    "m2"
   ]
  },
  {
   "cell_type": "code",
   "execution_count": 98,
   "metadata": {
    "collapsed": false
   },
   "outputs": [
    {
     "data": {
      "text/plain": [
       "Mot: [ 0.87 -0 -0 -0.5 0.43 -0.5 0.5 -0.25 ]"
      ]
     },
     "execution_count": 98,
     "metadata": {},
     "output_type": "execute_result"
    }
   ],
   "source": [
    "m2.rev()"
   ]
  },
  {
   "cell_type": "code",
   "execution_count": 62,
   "metadata": {
    "collapsed": false
   },
   "outputs": [
    {
     "data": {
      "text/plain": [
       "Dll: [ 0 0 0 -0.5 -0.5 -1 ]"
      ]
     },
     "execution_count": 62,
     "metadata": {},
     "output_type": "execute_result"
    }
   ],
   "source": [
    "m1.log()"
   ]
  },
  {
   "cell_type": "code",
   "execution_count": 63,
   "metadata": {
    "collapsed": false
   },
   "outputs": [
    {
     "data": {
      "text/plain": [
       "Dll: [ 0 0 0.5236 -0.5 0.5236 -0.5236 ]"
      ]
     },
     "execution_count": 63,
     "metadata": {},
     "output_type": "execute_result"
    }
   ],
   "source": [
    "m2.log()"
   ]
  },
  {
   "cell_type": "code",
   "execution_count": 23,
   "metadata": {
    "collapsed": false
   },
   "outputs": [
    {
     "name": "stdout",
     "output_type": "stream",
     "text": [
      "Dls: [ 1.677 0.677 0.677 1 2.552 ]\n"
     ]
    }
   ],
   "source": [
    "print(pln2.loc(pao))"
   ]
  },
  {
   "cell_type": "code",
   "execution_count": 24,
   "metadata": {
    "collapsed": false
   },
   "outputs": [],
   "source": [
    "\n",
    "l1 = vsr.Dll(vsr.Vec(0,0,1), vsr.Vec(1,1,1)).unit()\n",
    "l = vsr.Dll(vsr.Vec(0,0.,1).null(), vsr.Vec(1,0,1).null()).unit()\n",
    "\n",
    "p1 = vsr.Vec(0,0,0).null().reflect_in_line(l1.inv())\n",
    "p2 = vsr.Vec(0,0,0).null().reflect_in_line(l1.inv()).reflect_in_line(l)\n",
    "\n",
    "mot = l.ratio(l1,1.0)\n",
    "pao = vsr.Vec(0,0,0).null()\n",
    "\n",
    "scene = Scene(children=[\n",
    "        frame_mesh(),\n",
    "\n",
    "        point_mesh(p1, color='magenta'),\n",
    "        point_mesh(p2, color='cyan'),\n",
    "        line_mesh(l1, color='red', length=100),\n",
    "\n",
    "        line_mesh(l1.inv(), color='magenta', length=100),\n",
    "        line_mesh(l, color='cyan', length=100),\n",
    "#         line_mesh( color='cyan', length=100),\n",
    "        Line(geometry=PlainGeometry(vertices=[[0,0,0], np.array(p1.vec()).tolist()],\n",
    "                                   colors = ['magenta', 'magenta']), \n",
    "            material=LineBasicMaterial(linewidth=1,\n",
    "                                       vertexColors='VertexColors'), \n",
    "            type='LinePieces'),\n",
    "        Line(geometry=PlainGeometry(vertices=[np.array(p1.vec()).tolist(), np.array(p2.vec()).tolist()],\n",
    "                                   colors = ['cyan', 'cyan']), \n",
    "            material=LineBasicMaterial(linewidth=1,\n",
    "                                       vertexColors='VertexColors'), \n",
    "            type='LinePieces'),\n",
    "        \n",
    "        point_mesh(pao.spin(mot), color='hotpink'),\n",
    "        line_mesh(l.spin(mot)),\n",
    "        \n",
    "        AmbientLight(color='#cccccc')])\n",
    "\n",
    "camera = PerspectiveCamera(position=[3, -3, 3])\n",
    "renderer = Renderer(camera=camera, \n",
    "                    scene=scene, \n",
    "                    controls=[TrackballControls(controlling=camera)],\n",
    "                    background = 'white')\n",
    "# renderer.width = '1024'\n",
    "# renderer.height = '768'\n",
    "display(renderer)"
   ]
  },
  {
   "cell_type": "code",
   "execution_count": 25,
   "metadata": {
    "collapsed": false
   },
   "outputs": [
    {
     "name": "stdout",
     "output_type": "stream",
     "text": [
      "Pnt: [ -0.6667 0.6667 0.6667 1 0.6667 ]\n"
     ]
    }
   ],
   "source": [
    "print(p2)"
   ]
  },
  {
   "cell_type": "code",
   "execution_count": 26,
   "metadata": {
    "collapsed": false
   },
   "outputs": [
    {
     "name": "stdout",
     "output_type": "stream",
     "text": [
      "Pnt: [ -0.6667 0.6667 0.6667 1 0.6667 ]\n"
     ]
    }
   ],
   "source": [
    "print(p2)"
   ]
  },
  {
   "cell_type": "code",
   "execution_count": 27,
   "metadata": {
    "collapsed": false
   },
   "outputs": [
    {
     "name": "stdout",
     "output_type": "stream",
     "text": [
      "Mot: [ 0.89 0.33 0.33 0 0.33 0 0 0 ]\n"
     ]
    }
   ],
   "source": [
    "M = ((l * l1.inv()).log() / 2.).exp()\n",
    "print(M)"
   ]
  },
  {
   "cell_type": "code",
   "execution_count": 28,
   "metadata": {
    "collapsed": false
   },
   "outputs": [
    {
     "name": "stdout",
     "output_type": "stream",
     "text": [
      "Pnt: [ -0.6667 0.6667 0.6667 1 0.6667 ]\n"
     ]
    }
   ],
   "source": [
    "print(vsr.Vec(0,0,0).null().spin(l * l1.inv()))"
   ]
  },
  {
   "cell_type": "code",
   "execution_count": 29,
   "metadata": {
    "collapsed": false
   },
   "outputs": [
    {
     "name": "stdout",
     "output_type": "stream",
     "text": [
      "Pnt: [ -0.6667 0.6667 0.6667 1 0.6667 ]\n"
     ]
    }
   ],
   "source": [
    "print(vsr.Vec(0,0,0).null().reflect_in_line(l1.inv()).reflect_in_line(l))"
   ]
  },
  {
   "cell_type": "markdown",
   "metadata": {},
   "source": [
    "### Lines"
   ]
  },
  {
   "cell_type": "code",
   "execution_count": 36,
   "metadata": {
    "collapsed": false
   },
   "outputs": [
    {
     "name": "stdout",
     "output_type": "stream",
     "text": [
      "Dll: [ 0.7071 0 0 0 -0.7071 0.7071 ]\n",
      "Vec: [ 0 0 1 ]\n"
     ]
    }
   ],
   "source": [
    "p1 = vsr.Vec(1,0,1).null()\n",
    "p2 = vsr.Vec(2,1,1).null()\n",
    "\n",
    "l1 = vsr.Dll(vsr.Vec(0,0,0), vsr.Vec(1,0,0)).unit()\n",
    "# l = vsr.Dll(vsr.Vec(0,0.,1).null(), vsr.Vec(1,0,1).null()).unit()\n",
    "\n",
    "l = vsr.Dll(p1,p2).unit()\n",
    "l_dir = l.dir().vec().unit()\n",
    "l_loc = l.loc(vsr.Vec(0,0,0).null()).vec()\n",
    "\n",
    "l2 = l - l1\n",
    "l3 = l.comm(l1)\n",
    "print(l3)\n",
    "\n",
    "m1 = l1.ratio(l,0.1)\n",
    "# print(l)\n",
    "# print(l1.spin(m1))\n",
    "# ms = [m1]\n",
    "# for i in range(9):\n",
    "#     m1 = m1 * m1\n",
    "#     ms.append(m1)\n",
    "    \n",
    "# print(ms)\n",
    "    \n",
    "\n",
    "# line_meshes = [line_mesh(l) for ] \n",
    "\n",
    "m = ((l * l1.inv()).log() * 0.5 ).exp()\n",
    "w = m.trs().reject_from(m.rot().log().unit())\n",
    "v = m.trs().project_onto(m.rot().log().unit())\n",
    "print(w)\n",
    "\n",
    "d = l_loc <= l_dir.unduale()\n",
    "\n",
    "scene = Scene(children=[\n",
    "        frame_mesh(),\n",
    "#         line_mesh(l1.spin(m1)),\n",
    "#         line_mesh(l1.spin(m1 * m1)),\n",
    "#         line_mesh(l1.spin(m1 * m1 * m1)),\n",
    "#         line_mesh(l1.spin(m1 * m1 * m1 * m1)),\n",
    "#         line_mesh(l1.spin(m1 * m1 * m1 * m1 * m1)),\n",
    "#         line_mesh(l1.spin(m1 * m1 * m1 * m1 * m1)),\n",
    "#         line_mesh(l1.spin(m1 * m1 * m1 * m1 * m1 * m1 )),\n",
    "#         line_mesh(l1.spin(m1 * m1 * m1 * m1 * m1 * m1 * m1)),\n",
    "#         line_mesh(l1.spin(m1 * m1 * m1 * m1 * m1 * m1 * m1 * m1)),\n",
    "#         line_mesh(l1.spin(m1 * m1 * m1 * m1 * m1 * m1 * m1 * m1 * m1)),\n",
    "#         line_mesh(l1.spin(m1 * m1 * m1 * m1 * m1 * m1 * m1 * m1 * m1 * m1)),\n",
    "        \n",
    "#         point_mesh(vsr.Vec(0,0,1), color='blue'),\n",
    "#         point_mesh(vsr.Vec(1,0,1), color='red'),\n",
    "        line_mesh(l, color='steelblue', length=100),\n",
    "        line_mesh(l1, color='slategray', length=100),\n",
    "#         point_mesh(l_loc, color=rgb2hex(255,56,0)),\n",
    "#         point_mesh(vsr.Vec(0,0,0),color='#ffff00'),\n",
    "#         point_mesh(p1,color='#ff00ff'),\n",
    "#         vector_mesh(w, position=v),\n",
    "#         vector_mesh(v),\n",
    "        \n",
    "        # l2 = l - l1\n",
    "#         line_mesh(l2, color='hotpink', length=100),\n",
    "        \n",
    "        # l3 = l x l2 commutator\n",
    "        line_mesh(l3, color='lightgreen', length=100),\n",
    "\n",
    "\n",
    "#         vector_mesh(p1.vec(),color='#ff00ff'),\n",
    "#         vector_mesh(l_dir,positil = l1.trs(vsr.Vec(0,0,1))on=p1,color='#ff00ff', arrow=True),\n",
    "\n",
    "\n",
    "        \n",
    "        AmbientLight(color='#cccccc')])\n",
    "\n",
    "camera = PerspectiveCamera(position=[3, -3, 3])\n",
    "renderer = Renderer(camera=camera, \n",
    "                    scene=scene, \n",
    "                    controls=[TrackballControls(controlling=camera)],\n",
    "                    background = 'white')\n",
    "renderer.width = '1024'\n",
    "renderer.height = '768'\n",
    "display(renderer)"
   ]
  },
  {
   "cell_type": "code",
   "execution_count": 31,
   "metadata": {
    "collapsed": false
   },
   "outputs": [
    {
     "name": "stdout",
     "output_type": "stream",
     "text": [
      "Dll: [ 0.7071 0 0 0 -0.7071 0.7071 ]\n"
     ]
    }
   ],
   "source": [
    "print(l3)"
   ]
  },
  {
   "cell_type": "code",
   "execution_count": 32,
   "metadata": {
    "collapsed": false
   },
   "outputs": [
    {
     "name": "stdout",
     "output_type": "stream",
     "text": [
      "Dll: [ 0 -0.7071 0.7071 -0.7071 0.7071 0.7071 ]\n",
      "Dll: [ 0 0 1 0 0 0 ]\n",
      "Dll: [ 0 -0.7071 -0.2929 -0.7071 0.7071 0.7071 ]\n"
     ]
    }
   ],
   "source": [
    "print(l)\n",
    "print(l1)\n",
    "print(l2)"
   ]
  },
  {
   "cell_type": "code",
   "execution_count": 33,
   "metadata": {
    "collapsed": false
   },
   "outputs": [
    {
     "name": "stdout",
     "output_type": "stream",
     "text": [
      "Mot: [ 0.92 -0.38 0 0 -5.2e-18 0.38 -0.46 0.19 ]\n"
     ]
    }
   ],
   "source": [
    "print(m1 * m1 * m1 * m1 * m1 * m1 * m1 * m1 * m1 * m1)"
   ]
  },
  {
   "cell_type": "code",
   "execution_count": 34,
   "metadata": {
    "collapsed": false
   },
   "outputs": [],
   "source": [
    "l1 = vsr.Dll(vsr.Vec(0,0,0), vsr.Vec(1,0,0)).unit()\n",
    "l2 = vsr.Dll(vsr.Vec(0,-1,1), vsr.Vec(1,-1,1)).unit()\n",
    "pao = vsr.Vec(0,0,0).null()\n",
    "\n",
    "l3 = l2 - l1\n",
    "l4 = l2.comm(l1)\n",
    "\n",
    "scene = Scene(children=[\n",
    "        frame_mesh(),\n",
    "        line_mesh(l1, color='#ffff00'),\n",
    "        point_mesh(pao),\n",
    "        vector_mesh(pao.vec()),\n",
    "        \n",
    "        line_mesh(l2, color='#ffff00'),\n",
    "        \n",
    "        line_mesh(l3, color='powderblue'), \n",
    "        line_mesh(l4, color='deeppink'),\n",
    "\n",
    "        vector_mesh(l_dir, position=l_loc, color=rgb2hex(255,0,123), arrow=True),\n",
    "        bivector_mesh((l_loc ^ l_dir), color = 'salmon'),\n",
    "\n",
    "        \n",
    "        AmbientLight(color='#cccccc')])\n",
    "\n",
    "camera = PerspectiveCamera(position=[3, -3, 3])\n",
    "renderer = Renderer(camera=camera, \n",
    "                    scene=scene, \n",
    "                    controls=[TrackballControls(controlling=camera)],\n",
    "                    background = 'gray')\n",
    "# renderer.width = '1024'\n",
    "# renderer.height = '768'\n",
    "display(renderer)"
   ]
  },
  {
   "cell_type": "code",
   "execution_count": 35,
   "metadata": {
    "collapsed": false
   },
   "outputs": [
    {
     "name": "stdout",
     "output_type": "stream",
     "text": [
      "Dll: [ 0 0 1 0 0 0 ]\n",
      "Dll: [ 0.5774 0.5774 0.5774 0 0.5774 0.5774 ]\n",
      "Dll: [ 0.5774 0.5774 -0.4226 0 0.5774 0.5774 ]\n",
      "Dll: [ -0.5774 0.5774 0 0 -0.5774 0.5774 ]\n"
     ]
    }
   ],
   "source": [
    "print(l1)\n",
    "print(l2)\n",
    "print(l3)\n",
    "print(l4)"
   ]
  },
  {
   "cell_type": "code",
   "execution_count": 36,
   "metadata": {
    "collapsed": false
   },
   "outputs": [
    {
     "name": "stdout",
     "output_type": "stream",
     "text": [
      "Mot: [ 0.87 0 -0.5 0 -0.68 -0.43 -0.18 -0.25 ]\n",
      "Vec: [ 1 1 1 ]\n",
      "Rot: [ 0.87 0 -0.5 0 ]\n"
     ]
    }
   ],
   "source": [
    "motor = vsr.Vec(1,1,1).trs() * vsr.Rot(vsr.Biv(0,1,0) * np.pi/6.0)\n",
    "print(motor)\n",
    "print(motor.trs())\n",
    "print(motor.rot())"
   ]
  },
  {
   "cell_type": "code",
   "execution_count": 37,
   "metadata": {
    "collapsed": false
   },
   "outputs": [],
   "source": [
    "make_text?"
   ]
  },
  {
   "cell_type": "code",
   "execution_count": 38,
   "metadata": {
    "collapsed": false
   },
   "outputs": [],
   "source": [
    "@interact(x=10,y=10,z=10)\n",
    "def position_camera(x,y,z):\n",
    "    camera.position = [x,y,z]"
   ]
  },
  {
   "cell_type": "code",
   "execution_count": 39,
   "metadata": {
    "collapsed": false
   },
   "outputs": [],
   "source": [
    "class Sphere(object):\n",
    "    def __init__(self):\n",
    "        pass\n",
    "    def update(vsr_sph):\n",
    "        r, p, q = vsr_sph.rpo()\n",
    "        \n",
    "def make_sphere():\n",
    "    return Mesh(geometry = SphereGeometry(),\n",
    "                material= BasicMaterial(color='red'))\n",
    "\n",
    "def make_circle():\n",
    "    return Mesh(geometry = RingGeometry(thetaSegments=64), \n",
    "              material= BasicMaterial(color='black'))\n",
    "\n",
    "class Game(object):\n",
    "    class Circle(vsr.Cir, Mesh):\n",
    "        def __init__(self):\n",
    "            self._color = 'black'\n",
    "            super(Mesh, self).__init__(geometry = RingGeometry(thetaSegments=64), \n",
    "                          material= BasicMaterial(color=self._color))\n",
    "            \n",
    "        @property\n",
    "        def mesh(self):\n",
    "            return self._mesh\n",
    "        \n",
    "        def update_mesh(self):\n",
    "            (r, p, q) = self.rpo()\n",
    "            self.geometry.innerRadius = r\n",
    "            self.geometry.outerRadius = r + 0.1\n",
    "            self.position = p\n",
    "            self.quaternion = q\n",
    "        "
   ]
  },
  {
   "cell_type": "markdown",
   "metadata": {},
   "source": [
    "## Rotation"
   ]
  },
  {
   "cell_type": "code",
   "execution_count": 40,
   "metadata": {
    "collapsed": false
   },
   "outputs": [
    {
     "ename": "AttributeError",
     "evalue": "'Vec' object has no attribute 'reflect'",
     "output_type": "error",
     "traceback": [
      "\u001b[1;31m---------------------------------------------------------------------------\u001b[0m",
      "\u001b[1;31mAttributeError\u001b[0m                            Traceback (most recent call last)",
      "\u001b[1;32m<ipython-input-40-e7c73f6cac12>\u001b[0m in \u001b[0;36m<module>\u001b[1;34m()\u001b[0m\n\u001b[0;32m      9\u001b[0m \u001b[1;33m\u001b[0m\u001b[0m\n\u001b[0;32m     10\u001b[0m \u001b[0ma\u001b[0m \u001b[1;33m=\u001b[0m \u001b[0mvsr\u001b[0m\u001b[1;33m.\u001b[0m\u001b[0mVec\u001b[0m\u001b[1;33m(\u001b[0m\u001b[1;36m1\u001b[0m\u001b[1;33m,\u001b[0m\u001b[1;36m0\u001b[0m\u001b[1;33m,\u001b[0m\u001b[1;36m1\u001b[0m\u001b[1;33m)\u001b[0m\u001b[1;33m\u001b[0m\u001b[0m\n\u001b[1;32m---> 11\u001b[1;33m \u001b[0ma_rot\u001b[0m \u001b[1;33m=\u001b[0m \u001b[0ma\u001b[0m\u001b[1;33m.\u001b[0m\u001b[0mreflect\u001b[0m\u001b[1;33m(\u001b[0m\u001b[0mn2\u001b[0m\u001b[1;33m)\u001b[0m\u001b[1;33m.\u001b[0m\u001b[0mreflect\u001b[0m\u001b[1;33m(\u001b[0m\u001b[0mn1\u001b[0m\u001b[1;33m)\u001b[0m\u001b[1;33m\u001b[0m\u001b[0m\n\u001b[0m\u001b[0;32m     12\u001b[0m \u001b[1;32mprint\u001b[0m\u001b[1;33m(\u001b[0m\u001b[0ma_rot\u001b[0m\u001b[1;33m)\u001b[0m\u001b[1;33m\u001b[0m\u001b[0m\n\u001b[0;32m     13\u001b[0m \u001b[1;32mprint\u001b[0m\u001b[1;33m(\u001b[0m\u001b[0ma\u001b[0m\u001b[1;33m.\u001b[0m\u001b[0mspin\u001b[0m\u001b[1;33m(\u001b[0m\u001b[0mR\u001b[0m\u001b[1;33m)\u001b[0m\u001b[1;33m)\u001b[0m\u001b[1;33m\u001b[0m\u001b[0m\n",
      "\u001b[1;31mAttributeError\u001b[0m: 'Vec' object has no attribute 'reflect'"
     ]
    }
   ],
   "source": [
    "\n",
    "n1 = vsr.Vec(0,1,0).unit()\n",
    "# n2 = vsr.Vec(-1,1,0).unit()\n",
    "n2 = n1.spin(vsr.Biv(-np.deg2rad(30),0,0).exp())\n",
    "\n",
    "B = n1 ^ n2\n",
    "\n",
    "R = n1 * n2\n",
    "\n",
    "a = vsr.Vec(1,0,1)\n",
    "a_rot = a.reflect(n2).reflect(n1)\n",
    "print(a_rot)\n",
    "print(a.spin(R))\n",
    "\n",
    "\n",
    "scene = Scene(children=[\n",
    "        frame_mesh(),\n",
    "        vector_mesh(n1,color='yellow'),\n",
    "        vector_mesh(n2,color='cyan'),\n",
    "        vector_mesh(a, color='hotpink'),\n",
    "        vector_mesh(a.reflect(n2)),\n",
    "        vector_mesh(a_rot, color='black'),\n",
    "#         bivector_mesh(n1.unduale(),color='yellow'),\n",
    "#         bivector_mesh(n2.unduale(),color='cyan'),\n",
    "        bivector_mesh(B,color='gray'),\n",
    "        AmbientLight(color='#cccccc')])\n",
    "\n",
    "camera = PerspectiveCamera(position=[3, -3, 3])\n",
    "renderer = Renderer(camera=camera, \n",
    "                    scene=scene, \n",
    "                    controls=[TrackballControls(controlling=camera)],\n",
    "                    background = 'white')\n",
    "# renderer.width = '1024'\n",
    "# renderer.height = '768'\n",
    "display(renderer)"
   ]
  },
  {
   "cell_type": "code",
   "execution_count": null,
   "metadata": {
    "collapsed": false
   },
   "outputs": [],
   "source": [
    "vsr.Vec(1,0,0).spin(R)"
   ]
  },
  {
   "cell_type": "code",
   "execution_count": null,
   "metadata": {
    "collapsed": false
   },
   "outputs": [],
   "source": [
    "2 * np.rad2deg(np.arccos(R[0]))"
   ]
  },
  {
   "cell_type": "code",
   "execution_count": null,
   "metadata": {
    "collapsed": false
   },
   "outputs": [],
   "source": [
    "sph1 = vsr.Sph(vsr.Vec(0.7,0,0).null(), 1.5)\n",
    "sph2 = vsr.Sph(vsr.Vec(-0.5,0,0).null(), 1.)\n",
    "cir = sph1.meet(sph2)\n",
    "r = cir.rot()\n",
    "\n",
    "sphere1 = Mesh(geometry = SphereGeometry(radius=sph1.radius(),\n",
    "                                        widthSegments=64,\n",
    "                                        heightSegments=64), \n",
    "              material= BasicMaterial(color='red'),\n",
    "              position=np.array(sph1.pnt())[:3].tolist())\n",
    "\n",
    "sphere2 = Mesh(geometry = SphereGeometry(radius=sph2.radius(),\n",
    "                                        widthSegments=64,\n",
    "                                        heightSegments=64), \n",
    "              material= BasicMaterial(color='blue', wireframe=False),\n",
    "              position=np.array(sph2.pnt())[:3].tolist())\n",
    "\n",
    "circle = Mesh(geometry = RingGeometry(innerRadius=cir.radius(),\n",
    "                                                outerRadius=cir.radius()+0.05,\n",
    "                                                thetaSegments=64), \n",
    "              material= BasicMaterial(color='black'),\n",
    "              position=np.array(cir.pnt())[:3].tolist(),\n",
    "              quaternion = cir.rot().quat().tolist())\n",
    "\n",
    "\n",
    "\n",
    "scene = Scene(children=[sphere1, sphere2, circle])\n",
    "c = PerspectiveCamera(position=[10, 5, 10])\n",
    "renderer = Renderer(camera=c, scene = scene, controls=[TrackballControls(controlling=c)],\n",
    "                    background = 'white')\n",
    "display(renderer)\n",
    "@interact(circlecolor=('hotpink', 'gray', 'black'),\n",
    "         sphere1color=('hotpink', 'gray', 'black'),\n",
    "         sphere2color=('hotpink', 'gray', 'black'))\n",
    "def set_radius(circlecolor, sphere1color, sphere2color):\n",
    "    sphere1.material.color = sphere1color\n",
    "    sphere2.material.color = sphere2color\n",
    "    circle.material.color = circlecolor"
   ]
  },
  {
   "cell_type": "code",
   "execution_count": null,
   "metadata": {
    "collapsed": false
   },
   "outputs": [],
   "source": [
    "%%javascript\n",
    "console.log('hallo')\n",
    "Jupyter.notebook.get_selected_cell()"
   ]
  },
  {
   "cell_type": "code",
   "execution_count": null,
   "metadata": {
    "collapsed": false
   },
   "outputs": [],
   "source": [
    "cir = vsr.Sph(vsr.Vec(0,0,0).null(), 3).meet(vsr.Sph(vsr.Vec(1,0,0).null(), 3))\n",
    "print(cir.rpo())\n",
    "radius, position, quat = cir.rpo()"
   ]
  },
  {
   "cell_type": "code",
   "execution_count": null,
   "metadata": {
    "collapsed": true
   },
   "outputs": [],
   "source": []
  },
  {
   "cell_type": "code",
   "execution_count": null,
   "metadata": {
    "collapsed": true
   },
   "outputs": [],
   "source": []
  }
 ],
 "metadata": {
  "kernelspec": {
   "display_name": "Python 2",
   "language": "python",
   "name": "python2"
  },
  "language_info": {
   "codemirror_mode": {
    "name": "ipython",
    "version": 2
   },
   "file_extension": ".py",
   "mimetype": "text/x-python",
   "name": "python",
   "nbconvert_exporter": "python",
   "pygments_lexer": "ipython2",
   "version": "2.7.11+"
  },
  "widgets": {
   "state": {
    "0026bbebec9e4adea909674a5fbfcbf6": {
     "views": []
    },
    "00303d03e3bf4bb29459d691230b7358": {
     "views": []
    },
    "004656753e3d4fef84c742c5c8cf6982": {
     "views": []
    },
    "004d9c110f6a46d49c3e849185a72ddd": {
     "views": []
    },
    "007532d8fe4b4860a766859a1026391c": {
     "views": []
    },
    "008a58659df24949992d11ff00d0bc1c": {
     "views": []
    },
    "008deecdd92141528d10a3aca39e11a2": {
     "views": []
    },
    "009aa9f9ff9d494f8ac78e123831aa97": {
     "views": []
    },
    "009ac23a94124d2aba7561a3caa659a5": {
     "views": []
    },
    "00aa3ec8d4204ab68d85c5292d434d50": {
     "views": []
    },
    "00d8bf85427d4e7f8c56c10b68cd2f73": {
     "views": []
    },
    "00f7703f6caa4ecab870f7126d7f6ad3": {
     "views": []
    },
    "01189f0a670b445a9d39c0855ea5e73d": {
     "views": []
    },
    "0120dec9adcf44cd9811353cdcaaf5b3": {
     "views": []
    },
    "013c7a69fa7342e08147e061e2c2cf3b": {
     "views": []
    },
    "013ca97e007549dba2729d3ee92222e5": {
     "views": []
    },
    "0145bb5dd64a4bc7b0679f270e96d1bf": {
     "views": []
    },
    "0149cac67f7c4acaa602e196fde6d57c": {
     "views": []
    },
    "015a80c8806f4a5c9650e678fb836b70": {
     "views": []
    },
    "0167cc302815488585cb2f66b6cb0e39": {
     "views": []
    },
    "0175e976c3f044a8988bec425b3ab7fe": {
     "views": []
    },
    "019146d9fe7a496b920dbe89ef3f2889": {
     "views": []
    },
    "01aeeb519ceb414a8af8ee73fc8c9926": {
     "views": []
    },
    "01bb30e409ee4155be6843bc9a887999": {
     "views": []
    },
    "01cfadeb58084978b4ebbc861217d362": {
     "views": []
    },
    "01e2bdcfc194418aa8bc81e6cd00c1eb": {
     "views": []
    },
    "01edaa88589246ef8a943691d1fc4749": {
     "views": []
    },
    "01f10e0182ac4c93af51fdb68c9db395": {
     "views": []
    },
    "01f1afd839424457ae8502467b7f69e2": {
     "views": []
    },
    "021735fc2f6541eba28781ea84dd325c": {
     "views": []
    },
    "022099d39e9b4b989cb21c8c76b8dcdf": {
     "views": []
    },
    "0226c39d0fc54061afdcbb3687b28fb0": {
     "views": []
    },
    "024067721acc41dab4b7d36c78ebe103": {
     "views": []
    },
    "02695448680f4e66b52df09c4f689de9": {
     "views": []
    },
    "0269613bbd714c46b7956581fa319ab6": {
     "views": []
    },
    "02cbf1c4e0f8427cbdc1eff58651ed16": {
     "views": []
    },
    "02ceee6e851b49caac6a5ade9197b358": {
     "views": []
    },
    "02d5b73649db412b92653efb5aed3860": {
     "views": []
    },
    "02dc28d2a4f044538d05a7e9607046f0": {
     "views": []
    },
    "02e11eeecd7348779eb9bd5f0a16977c": {
     "views": []
    },
    "02e1cffe37ad428d844168df67f017c8": {
     "views": []
    },
    "02e79eaefed64438bc15d581e25e1dfb": {
     "views": []
    },
    "0313b789c10d484ea0531d5c0aa0b1ea": {
     "views": []
    },
    "03190d858093464c9e2b52486e507a77": {
     "views": []
    },
    "0330294e6bdf47a9803ec1b7aedba6cf": {
     "views": []
    },
    "033830d66ae64cdb91c5d687e2afda64": {
     "views": []
    },
    "033beb162aab4b0ca5d36b2c6f1d9a90": {
     "views": []
    },
    "034761ca841a45a8bb0daeed165e0278": {
     "views": []
    },
    "034fb1be40c34d8ca354af49d879906b": {
     "views": []
    },
    "03b2386dbe7a45878365132edbe60d83": {
     "views": []
    },
    "03b2f63f997b4d108c2d8ff6b87fc8a6": {
     "views": []
    },
    "03c9a77eecff49fc83e9822ea3635f32": {
     "views": []
    },
    "03cc6b70161a4a568d06adf818d9f7db": {
     "views": []
    },
    "03dbafdf8341461ea94b1e24fbe41fd7": {
     "views": []
    },
    "03f1ad09d82d4fe49ee7f9612133881e": {
     "views": []
    },
    "03f2657244db4398ad7b5e19b17af7cc": {
     "views": []
    },
    "03f7a4939646415d9eabbad98124396a": {
     "views": []
    },
    "03f7f290d88d4219ad7e91e8dab4b34d": {
     "views": []
    },
    "042145877fce4fa29bd000342b0b1b99": {
     "views": []
    },
    "043b5edee121458091dac77a3e29d477": {
     "views": []
    },
    "044238e632254fb4acc7f10662c95bf3": {
     "views": []
    },
    "0446e12d58904f559a1e725a29321fac": {
     "views": []
    },
    "0455d0d741e0412b8b798de05d9c88c6": {
     "views": []
    },
    "048820be40af4c0eaad8ea29107b5786": {
     "views": []
    },
    "04b261549f5047b0b92bb3b36809724d": {
     "views": []
    },
    "04d3fe42dc0f4ac0a29c62e37bc14117": {
     "views": []
    },
    "04dd35819ab14adeb7d35ea963b0a493": {
     "views": []
    },
    "04dd3ef45e8a40c68a55398b6f6b40f2": {
     "views": []
    },
    "04ddc2a1ab4d48189c01a0d6efc3fb19": {
     "views": []
    },
    "04fd26cbcd3643c5bf16933cb146cf23": {
     "views": []
    },
    "0510361318f44b40b6c8e17a81ffd298": {
     "views": []
    },
    "051aaf4aa347465cb2dc05627efd0ff3": {
     "views": []
    },
    "05700ef5395b49cead333735e923bdab": {
     "views": []
    },
    "0573f3cbfeaa4b9486ff3ed69b382803": {
     "views": []
    },
    "05a52d983ea64d469e6011b9319dd08d": {
     "views": []
    },
    "05b168f6cf93416e9ac9099d95a1ae73": {
     "views": []
    },
    "05c2d71865434bca833143e485fc73b7": {
     "views": []
    },
    "05fa5e2206e943649ce6826cf69a562f": {
     "views": []
    },
    "063c49c5186642f4afee1b10d1750ffb": {
     "views": []
    },
    "064059afb522462494ade90c543ee95f": {
     "views": []
    },
    "0641a80118984d1aae6ede3db7f75449": {
     "views": []
    },
    "0642ae752e4a4842a1ea8f3d6c6f8178": {
     "views": []
    },
    "06473f46b0954e21b302eb0c580bc1bf": {
     "views": []
    },
    "064fb18727264a71b0b368edef2685f8": {
     "views": []
    },
    "06901cc421274c8d8b49c29393711ac5": {
     "views": []
    },
    "0692047e13f549a3a4cbea01350bb389": {
     "views": []
    },
    "069c6052909840509cbbdb02f1c2b06c": {
     "views": []
    },
    "069ef360687b407aa8e4922b8e6a9e92": {
     "views": []
    },
    "06a1ededba4949e89466545998d07718": {
     "views": []
    },
    "06ace470d75e4cd988f358a9b2a3ff43": {
     "views": []
    },
    "06afba74c0404b23b1fd6ef5dbe10750": {
     "views": []
    },
    "06c3545a38994e478008ad112e13f6c0": {
     "views": []
    },
    "06d3dc7a4385458f9508642be0f736a0": {
     "views": []
    },
    "070208d8b8e347f49004a761126afe9e": {
     "views": []
    },
    "07388850b2e64ecfb4d93668d52c172f": {
     "views": []
    },
    "075fb5edeb544ce9a02ce56b891b994a": {
     "views": []
    },
    "0760ff583e894b25b5a631ff00370ec0": {
     "views": []
    },
    "0762092f407f4f10b32910f6769ef61b": {
     "views": []
    },
    "0767d19b22ce46338e6e5bcecc5014f9": {
     "views": []
    },
    "07764b63d7234b5e89bed286b3bd0232": {
     "views": []
    },
    "078edea2652c4ca79fe24f5f953246ba": {
     "views": []
    },
    "0793638d56bf4e2babde88b298fe9e1e": {
     "views": []
    },
    "07c0f91fe1b449bd86961ab49cc3b0ee": {
     "views": []
    },
    "07c6182f354949eabc0bae405e54e59d": {
     "views": []
    },
    "07ca9f3b176d43ce99fb1d6f24eac7fb": {
     "views": []
    },
    "07cd923b523547d4abfd7fd5f7ea915b": {
     "views": []
    },
    "07d9b8e4026e4b0cab425f955e0d916d": {
     "views": []
    },
    "07ee138599974532b3a44caf53ca4dc7": {
     "views": []
    },
    "07ee2a80240e47c99e7fad49f92da118": {
     "views": []
    },
    "08444bacc5c444b99daa55ce7fa3768c": {
     "views": []
    },
    "08838f7b31de4881b79d6b083543e628": {
     "views": []
    },
    "0889890908bb47809b354524fd3fe06e": {
     "views": []
    },
    "08933ee5d70341198ebf7f0ee916a65e": {
     "views": []
    },
    "08a8a51c5eb14b508087108bc2c70045": {
     "views": []
    },
    "08b8aafdfff1422284c3104efd11e57f": {
     "views": []
    },
    "08ca902977104d87978de125fdd12916": {
     "views": []
    },
    "08dd5230284b4630a573dc4f2cce719e": {
     "views": []
    },
    "08f911365b4e4522857d365959d80367": {
     "views": []
    },
    "09014bb5eb9346ec929f204f5de0d614": {
     "views": []
    },
    "09292f9a2f4347f8b86e30287d181a45": {
     "views": []
    },
    "092cd84fd28f4e13896dab292ab1bc5e": {
     "views": []
    },
    "092de075ca064ee8a3aa47526e902612": {
     "views": []
    },
    "094ed7f73a1c43648a507bb8fb9db379": {
     "views": []
    },
    "094f5837289242398d2bb8fa3f568882": {
     "views": []
    },
    "09505da1ca3a4d4fbfeb3d1cf6c08b4b": {
     "views": []
    },
    "09570e33d9e64843a0da56d45ed87e5f": {
     "views": []
    },
    "097c75d9fc3640219e6959b2b07693a4": {
     "views": []
    },
    "09a2d8f27b754e908cf360b2a9c63796": {
     "views": []
    },
    "09ac7d7bbe2a4bc698cc777f007d283e": {
     "views": []
    },
    "09d04e3fad6a407ebba23e2d0a104873": {
     "views": []
    },
    "09de6f2d5ca04d4eac2ef638b21e2573": {
     "views": []
    },
    "09e7e6f341e84d588fdbb9e7f9444913": {
     "views": []
    },
    "09e97eb74bd445228e65689cdf7d770f": {
     "views": []
    },
    "0a0a084b9d954bb7be1b58d6a6405400": {
     "views": []
    },
    "0a3a2db0cb74463fb1fa4fdc112b6f53": {
     "views": []
    },
    "0a4ab07892cc4c46997105ab1ed8ddd6": {
     "views": []
    },
    "0a5189fac71d42af91a8141f587264c9": {
     "views": []
    },
    "0a5da7c2697c4315af28998740d23771": {
     "views": []
    },
    "0a7559ab1f6d4b71a95680c2c1548d05": {
     "views": []
    },
    "0a771b2635ba435e8f5a7a23c261d920": {
     "views": []
    },
    "0a7ce5901a024c3897139bed401439b5": {
     "views": []
    },
    "0ab6be548cbb4b2fb666dc9f51c01112": {
     "views": []
    },
    "0ac12c29f74344769521814d84dd5c5b": {
     "views": []
    },
    "0ae8216fb1e941058b64d4601f9a43c9": {
     "views": []
    },
    "0afc3fb7052743c99c20f2e4febe54b5": {
     "views": []
    },
    "0b0d7afcd3cf47cc8962cf6cdd2e9ed9": {
     "views": []
    },
    "0b10917dad674bb69e862b48bd628a91": {
     "views": []
    },
    "0b18a481e42644d4b4005a56a3d159bf": {
     "views": []
    },
    "0b2f39a12c6748d78c9e658affcdfdee": {
     "views": []
    },
    "0b3462d6e60c4e58a36d4b18ce4841d9": {
     "views": []
    },
    "0b415bd492ed4a62bbf2908ef68d5648": {
     "views": []
    },
    "0b96a70aa7a344dfba8e38a88c27cde2": {
     "views": []
    },
    "0b98e42626fd45cab8ad542ba4677cbf": {
     "views": []
    },
    "0baaa39b34d94ecc9a1fb58a2dc3f7dd": {
     "views": []
    },
    "0bc72eb5ffff406882c9b15037a92d79": {
     "views": []
    },
    "0bce3bcf94c14933929e53fe32bf2813": {
     "views": []
    },
    "0bf07050538e4406befd9460a7261576": {
     "views": []
    },
    "0c0cbc16794c4b32868427d57ae9934c": {
     "views": []
    },
    "0c0cbd29120d4d38a1a40b806f15c124": {
     "views": []
    },
    "0c1ee8a893cb42329cd79e9081b00070": {
     "views": []
    },
    "0c6632ff68d5413ba069bcf74151bed2": {
     "views": []
    },
    "0caf954372ad44b698ad2865d77d46b2": {
     "views": []
    },
    "0caff6758103426087e27c5aea7b708c": {
     "views": []
    },
    "0ccd143e34b54e3db114f1ae2545e528": {
     "views": []
    },
    "0cd71d59e73c417f8a2cef3a49cb67ce": {
     "views": []
    },
    "0d0645699b10465aaeb11ca7efa1b61c": {
     "views": []
    },
    "0d1c63784cfc4401b8498eff3cad6533": {
     "views": []
    },
    "0d1e2a01b6e9454c92ddd6979d0b67c8": {
     "views": []
    },
    "0d40959af46c45eab67605a4d1fdafc9": {
     "views": []
    },
    "0d4691fc5e5c45ebad61bb62c3440c1d": {
     "views": []
    },
    "0d4cc585c80e4f6fab6a9f5a51f50de1": {
     "views": []
    },
    "0d5462192631493393594fcb35337a04": {
     "views": []
    },
    "0d58eecac09b432c9c5395bbb805a390": {
     "views": []
    },
    "0d6b623f74a64136bbcab7d41e4955df": {
     "views": []
    },
    "0d709b09caeb48b79df2c5608f86b5b2": {
     "views": []
    },
    "0d7e4c96dd71454381777689529a5127": {
     "views": []
    },
    "0d83e9b3244e407284ec230697768201": {
     "views": []
    },
    "0da399e7f4984d4da7e01e30506d7630": {
     "views": []
    },
    "0da44242f0e042dcbe15befaf4e634de": {
     "views": []
    },
    "0dba9804330b46a6a212a5ae6d0a71d6": {
     "views": []
    },
    "0dc66125efe8463e8a2fd4385dbe382b": {
     "views": []
    },
    "0dce464d093045d7b6aa114c7f6e2b8e": {
     "views": []
    },
    "0dce71fdb07443339bd64d34c2ac8339": {
     "views": []
    },
    "0dce8bdf59d34b1d8a1531584c57854c": {
     "views": []
    },
    "0de0543857ff47528dffc725f6f18879": {
     "views": []
    },
    "0df2b0a47a404f339897f52cdcfaa959": {
     "views": []
    },
    "0dff95af3d7b4621be9f4090b5a8515c": {
     "views": []
    },
    "0e27610b65ca4a4fa51bdbfb3efd462b": {
     "views": []
    },
    "0e27bcc7cf6848b0a5d89abbf1cd9ad8": {
     "views": []
    },
    "0e448d3cd9b34e30926c479d6efcaf17": {
     "views": []
    },
    "0e45189166ac40ce9698e085449e8f28": {
     "views": []
    },
    "0e648bfa3e624ff5a3e1eb3e94b70d4c": {
     "views": []
    },
    "0e77a0fce445485a97267e793984ecf5": {
     "views": []
    },
    "0e862affb818404b8a6cb2e431b552ed": {
     "views": []
    },
    "0e8aada6d61b462bb4470bb50de0ebbc": {
     "views": []
    },
    "0e9e37fe8466474391c8419d6d0e088d": {
     "views": []
    },
    "0ebf88c9176b4dce8bb0364603dd8803": {
     "views": []
    },
    "0ed39085b19a4efa9e2d37d2e94cad42": {
     "views": []
    },
    "0ed9c145ea0d4309b61dbb6ae827ba67": {
     "views": []
    },
    "0efc2ddcb6b5433482a2040e8b367979": {
     "views": []
    },
    "0f3183c34775482b8dd14e7d85b1a842": {
     "views": []
    },
    "0f44ba72ba2d4337a7d68bed11f21797": {
     "views": []
    },
    "0f59e833fb744b15895d7b094e1f82e1": {
     "views": []
    },
    "0f5ef16e14d2402da275501cd3298fba": {
     "views": []
    },
    "0f6a6a543c2640bd8bebdea7801194b1": {
     "views": []
    },
    "0f924e7a62154a3bb55e15baa5d195a3": {
     "views": []
    },
    "0fb0fdec82d74648a39eb84d286704ab": {
     "views": []
    },
    "0fbb3bcb001e48fba38d2c3029e1db1a": {
     "views": []
    },
    "0fcc5e2f98364b20b5e993dbd977e340": {
     "views": []
    },
    "0fccafe61c884792ab2505c94732684d": {
     "views": []
    },
    "0ff446dc921f4bbfaa94d16a51a30f35": {
     "views": []
    },
    "100782e58a554aa199cb5d2ea60b82fe": {
     "views": []
    },
    "1030a59d06c04fdcb91c0891cacdf434": {
     "views": []
    },
    "1053869b61684c4996cda7f1789178ae": {
     "views": []
    },
    "105c83a9d1694fc29a850deb95049782": {
     "views": []
    },
    "105ebba39cba41109f0bb4421b04ddb3": {
     "views": []
    },
    "1065c824632a4bf1aa0109eb375b1df1": {
     "views": []
    },
    "1065d68c491f436f912bc8e367e3b521": {
     "views": []
    },
    "10ab102aa1df465a9ca75bad9664581c": {
     "views": []
    },
    "10b4483648c542bcbee717169ad1bd68": {
     "views": []
    },
    "10cb4202a53e4e2fab92009ac92f01d2": {
     "views": []
    },
    "10d0126223594577b1aae3494321976b": {
     "views": []
    },
    "10d22ba25509412b85daacccc096b26b": {
     "views": []
    },
    "10dfec02c3cb4b2092ad415a9f8c07d5": {
     "views": []
    },
    "10e204cad99c40c48e5a4bda5e2a8005": {
     "views": []
    },
    "10e909aa0d7540edb0a57f58d79e497e": {
     "views": []
    },
    "1131c81d6828482f9377d90abf713a2e": {
     "views": []
    },
    "116d0c09fd414726a228cc03ec4a2d69": {
     "views": []
    },
    "116d9377162e46b69ebd999af1faaf47": {
     "views": []
    },
    "118b5d30f5864482920f034c3a389a35": {
     "views": []
    },
    "11b0b52753c749718ffe14c07cc31424": {
     "views": []
    },
    "11fe6f70d9a7437989ae85818a763a26": {
     "views": []
    },
    "12010b14dc2b4526b0c28a3ed75285ae": {
     "views": []
    },
    "120d429eaced4ad28ca0226ce8334c5e": {
     "views": []
    },
    "1216d2d4324643df8c47384667a08e1a": {
     "views": []
    },
    "12282478824445fa94fd7e06cb44f911": {
     "views": []
    },
    "122993efa76146d483182955811667fe": {
     "views": []
    },
    "122fd461cdcc48a09210f2ff608eb401": {
     "views": []
    },
    "12396a58bf5a4a89a9c883b6c07af87d": {
     "views": []
    },
    "124ee09b48ac4fa69ddd752063f1d915": {
     "views": []
    },
    "12561d6568494793afd57a3451dd0d4e": {
     "views": []
    },
    "125ba6b2f6444863969bf2f00cda05c2": {
     "views": []
    },
    "127370f86d8b41cca404fdc1afb7ce30": {
     "views": []
    },
    "1293365490b04d479a0e5025bc298552": {
     "views": []
    },
    "1294b289f6944147a8c2956d291e814c": {
     "views": []
    },
    "12990114a1fb4b4b907ac4d40da11fd7": {
     "views": []
    },
    "12b20819783541d2947068bd3b74dbcf": {
     "views": []
    },
    "12c08b4aaa08467ab2f133e91a0a0ae6": {
     "views": []
    },
    "12c7e9242aa5439c8a02ed29ce9366f5": {
     "views": []
    },
    "12f2dbfec1644cfbb5f40a37ca743ec7": {
     "views": []
    },
    "131e630fc6224c48bd3df7fb8da3a46b": {
     "views": []
    },
    "132c0d6e434148f4b52e1a72caff6341": {
     "views": []
    },
    "1331a0e981ff435bbbde98e81d9cbd7c": {
     "views": []
    },
    "1341a4c6b7f141eab504530f5cf421cf": {
     "views": []
    },
    "13a5141ef0794bbda3c69a409ab86609": {
     "views": []
    },
    "13a65a8e861c4c0aa7bb845c3ee31180": {
     "views": []
    },
    "13b2589ed8c24bc69739a74c7063bc6b": {
     "views": []
    },
    "13b44bdbde264cb092804d8e68028462": {
     "views": []
    },
    "13b666caac5c463787cfdd526de9e40e": {
     "views": []
    },
    "13d0fc67f5f543beaeb7818e0dd885d8": {
     "views": []
    },
    "13d28e4d1f794711b2ae19a7be26f971": {
     "views": []
    },
    "13dbb32804204c6785e4315362474b36": {
     "views": []
    },
    "14039fa6c2594dfaa553eae656d3d981": {
     "views": []
    },
    "140b1c010ed44d33b239e4bcad57a66c": {
     "views": []
    },
    "1431de5b70f1408a8d8ce1f1a1c0aaf1": {
     "views": []
    },
    "143508ba14bb44638472744e27459bb9": {
     "views": []
    },
    "1475ffb2bae24190a062875ba30422a8": {
     "views": []
    },
    "147f0455d0b24346b16462871a656f6e": {
     "views": []
    },
    "1486ee9138bd4c5299c3f4b0a6a18cd4": {
     "views": []
    },
    "149d4db0730842a38321017b85f23a13": {
     "views": []
    },
    "149ea69803b54ddebdcdb53417c8cbec": {
     "views": []
    },
    "14e558baa4ec4f48922c1fb304abc639": {
     "views": []
    },
    "1511e5dee93f4cf28288456b3adceb63": {
     "views": []
    },
    "152c3f83ff6044eaab44e9a117b4c96e": {
     "views": []
    },
    "153f1afc3a0440af990c24f77dfb5656": {
     "views": []
    },
    "156702cce08b4035bc44605c85187844": {
     "views": []
    },
    "15676947e3524442b601be4bff828add": {
     "views": []
    },
    "156bb3c53dfc4adf89aab2db1fada5aa": {
     "views": []
    },
    "15739cc6f0e4471a80eab0d5cb1d0944": {
     "views": []
    },
    "157526b26a974750a8b9aed17c1798ac": {
     "views": []
    },
    "1586bf5952814e37ac8f9c881b94a1be": {
     "views": []
    },
    "158b19b8941846768a8f294ce0470ca1": {
     "views": []
    },
    "15a5e1986c5142c4bf5fa92378fbca0a": {
     "views": []
    },
    "15d02396a05645fdad2446dfa3922fc8": {
     "views": []
    },
    "15d04f97bba8486eadb107ba5291a5d0": {
     "views": []
    },
    "162ca717b94048a195f402f8dff5c683": {
     "views": []
    },
    "163cc0bc20ce4d59a0d1a76d574d5132": {
     "views": []
    },
    "165b7490bfa64160ba5f8b7193d7b56a": {
     "views": []
    },
    "167ea3af309f48dcbc1989af035a7327": {
     "views": []
    },
    "169b495e6ad74638b2cbda3dc4a1cb45": {
     "views": []
    },
    "16a912c6d15c4906834658ddf9d2fad8": {
     "views": []
    },
    "16c607b8ae714692815bb0010d49d1d3": {
     "views": []
    },
    "16c710a35c8b4014825df45763841daa": {
     "views": []
    },
    "16c89dbfd4db497eaedd3060049aa622": {
     "views": []
    },
    "16d3d26f58d54d348eddb4f664224d2e": {
     "views": []
    },
    "16e355d3f3804525a4fb8153099708d1": {
     "views": []
    },
    "1705034923ba41fda865104b73429ceb": {
     "views": []
    },
    "170f0e1e55cd43f9857714d7cbc52516": {
     "views": []
    },
    "1714f22fd39f477886489988a7e50ed2": {
     "views": []
    },
    "17244818531c48dc9158301fbda14ebd": {
     "views": []
    },
    "1728940ac5884be98b68544ff09ad2db": {
     "views": []
    },
    "17321ba2979d47c2888fb7e78c0999d6": {
     "views": []
    },
    "173ade85cd104bc7bbec96db68b8581f": {
     "views": []
    },
    "173d497fff6e4eec8bc0600415c725ef": {
     "views": []
    },
    "173d7b033c6d4b21a3305924cc72e50f": {
     "views": []
    },
    "1740a2f4e92c4164a0a2c67cab3a0d86": {
     "views": []
    },
    "176414c3639f4f1e857cb697a6ea2193": {
     "views": []
    },
    "179156f38d6c4e9c9097025631370277": {
     "views": []
    },
    "17a4ec0b5bbf4db4ad6fe3520a72442e": {
     "views": []
    },
    "17acbf6c3650496f9ad68697086e0584": {
     "views": []
    },
    "17b62a3302cc4bc287a48ee84dca42a1": {
     "views": []
    },
    "17daed6a90bf4b4c9da7a89530563590": {
     "views": []
    },
    "17f538c83d5f47b3bf30ab09ae45108d": {
     "views": []
    },
    "17fd4c545d944bf487c36bf16ef831b4": {
     "views": []
    },
    "1802e60f790940f4b650990e5c169000": {
     "views": []
    },
    "18051905c2944c60a6c25ce3d32ce0a9": {
     "views": []
    },
    "180972dfb61647068520eba9cca3a00a": {
     "views": []
    },
    "18341165ed4b4fdbb2e1131afa951a86": {
     "views": []
    },
    "183e10adab7f4c1bbfbe932972ead3ce": {
     "views": []
    },
    "1851be2311c4412cb1340ab12dd074f0": {
     "views": []
    },
    "1869702819e143e29353e0c9611cd223": {
     "views": []
    },
    "187add15c5b44fdfb815b8f616275a25": {
     "views": []
    },
    "1882cc84ed2b40c1ad76e1db75a023cf": {
     "views": []
    },
    "188525ac22d448209c9832d0cbd79ada": {
     "views": []
    },
    "18b5f14170b24584a3492ba802831cc4": {
     "views": []
    },
    "18be03f585e2410d85bbecabd220b74a": {
     "views": []
    },
    "18d3c0dcb7db491c8f9de31af75e2f01": {
     "views": []
    },
    "18fc03de2ff24ee998e5479352e8aee5": {
     "views": []
    },
    "1906d58b53934af9bf2d288da54509c4": {
     "views": []
    },
    "194637ce27f54a259e951e1eeea77b2f": {
     "views": []
    },
    "194881ffe8694777965cdb14f84b6f10": {
     "views": []
    },
    "1956e00d8aaf4503b1fde611cba159b3": {
     "views": []
    },
    "19579f0ca0b943afb2ed57499c3f5677": {
     "views": []
    },
    "197d69205b77463c9c0b5ee7460447c3": {
     "views": []
    },
    "197e54f400b44a6d9b7bdf0056ab2151": {
     "views": []
    },
    "19b213dc9c634ad38cefcfbc8a5786c7": {
     "views": []
    },
    "19b80c81471249b481e6c478f56c7b9a": {
     "views": []
    },
    "19bdcfa703b24e3fbbfbb6e628bde3cc": {
     "views": []
    },
    "19d7a904d76043a3a353ee8ccbda984c": {
     "views": []
    },
    "19df0c75ad9045ec92883f15839fefb1": {
     "views": []
    },
    "19e058d4997d4e0c8952c423f0145413": {
     "views": []
    },
    "19e22f1fd1b647f2a8e55536c09cedad": {
     "views": []
    },
    "19eb66afc9244278ba99934ad33a1c4b": {
     "views": []
    },
    "19ecb55907ae47fab2a6e2d6ebca5b2b": {
     "views": []
    },
    "19f7de1e9ffe47acbc14fd1ba6c4b542": {
     "views": []
    },
    "1a5429751d0c490e82361c7413b6cab1": {
     "views": []
    },
    "1ab55c4ae49d47699b8801bc81a52a3b": {
     "views": []
    },
    "1b0045c3e2a04f1ead526473f1ec2071": {
     "views": []
    },
    "1b0d57934016426687a484f80ffc12ae": {
     "views": []
    },
    "1b194950a94b4276b011cfd878835cf4": {
     "views": []
    },
    "1b20769515cd474d8ea4a8d1d62dc962": {
     "views": []
    },
    "1b25639e4aa049f39a9f0c589e4ce5ea": {
     "views": []
    },
    "1b2ddb5e1d6040efb4d715d2acd5ff73": {
     "views": []
    },
    "1b48adf1b984484ba71f02fc42926b26": {
     "views": []
    },
    "1b558342a643401f9342bc9f737c52b7": {
     "views": []
    },
    "1b5998b29f0b407d81a5f158b4141d32": {
     "views": []
    },
    "1b5ec20ca8fd426f94b32cd6f4f837d6": {
     "views": []
    },
    "1b8934b421df4b2c89a8ce87cf6dc938": {
     "views": []
    },
    "1b9a28fb5f874849b9ec21cea9f3385f": {
     "views": []
    },
    "1babc395ebce445696d54dad3bf48d98": {
     "views": []
    },
    "1bb69d15201444c481eb378d67a6dd13": {
     "views": []
    },
    "1be875f9045a44b6a012e3d1576dba93": {
     "views": []
    },
    "1bee0ac7cb144be69cee0d8a7caf1586": {
     "views": []
    },
    "1bfaf0596f3f464f9471f4db2578a6da": {
     "views": []
    },
    "1c050a87ac9b4c35adc2da79742a3799": {
     "views": []
    },
    "1c0b44ec7cd14c648aa3af399bd27c66": {
     "views": []
    },
    "1c483eaebfe64b1ba96f5824fc76703d": {
     "views": []
    },
    "1c6bf83934aa49e8ac233eb17b490dd1": {
     "views": []
    },
    "1c7c52b21a3b413fa4f547059f7a1bbe": {
     "views": []
    },
    "1c8dd6dc9063437bac09422e5fd96203": {
     "views": []
    },
    "1ca8514c5df44bb39c678482e7bd9994": {
     "views": []
    },
    "1ce943f67d2d45fc8d6f8826eceb7899": {
     "views": []
    },
    "1cf4c223c18144989c477a925bc2515d": {
     "views": []
    },
    "1d049f4a106f4b26b04549a5b1cd2f72": {
     "views": []
    },
    "1d1116f01a174fbabb64a3210a11e7b0": {
     "views": []
    },
    "1d15be95736c4aba9deaf99c93ccadff": {
     "views": []
    },
    "1d244090f1a5456cba78fdf83441dbfd": {
     "views": []
    },
    "1d2a66a0a6734bf7ad2ced3573cdd288": {
     "views": []
    },
    "1d2bb311134f45da99724c0c79becdb6": {
     "views": []
    },
    "1de379bfd4724f51ae2179f4069a1492": {
     "views": []
    },
    "1df0524ae82444a98b9dabe78bba3a60": {
     "views": []
    },
    "1dfeeb9016a6439dbe469311c60af9ca": {
     "views": []
    },
    "1e03c9a3061742e0903ce832d5af6017": {
     "views": []
    },
    "1e152a79a3b14dd78cfad275ed551040": {
     "views": []
    },
    "1e31b10eed09459faf3dcf2ae12019ba": {
     "views": []
    },
    "1e4f8d5b4a57423ab5d00cacb31b59f9": {
     "views": []
    },
    "1e50d20b68f1429dba2706ab96dd784c": {
     "views": []
    },
    "1e54d5003b4d4c0cbbf3d26f9ce3bb5d": {
     "views": []
    },
    "1e810e0a47504a8080620bb61ef15937": {
     "views": []
    },
    "1ea65747b47c4ca6b9e223e9e501159d": {
     "views": []
    },
    "1ebba01672754e6f82423adae4823ae6": {
     "views": []
    },
    "1ec5e604527a48e1ab02eb21a26ce447": {
     "views": []
    },
    "1edb8887cbd442c1b017bde710e51ea9": {
     "views": []
    },
    "1eefdd82b1ec40d396a9a5694e30b3c9": {
     "views": []
    },
    "1ef531f064e64c1a837010644ef86e0f": {
     "views": []
    },
    "1f106824fe3042a886e7371ca6d1320c": {
     "views": []
    },
    "1f11951640b14280afee177e5dd22c0c": {
     "views": []
    },
    "1f3061fe304642ac9f5344044125cf1b": {
     "views": []
    },
    "1f39f86246544154b617ca1dbac17c84": {
     "views": []
    },
    "1f5b37cdc7eb4d9fa9f88dff8c6890a5": {
     "views": []
    },
    "1f6149bf07294bbba4e1773244d58555": {
     "views": []
    },
    "1f6e82f999054bee9fec7e6b02c023f9": {
     "views": []
    },
    "1f798697002f451391eedd1c1e77517d": {
     "views": []
    },
    "1f7a8087e52c48a8af0afde13c2a05e8": {
     "views": []
    },
    "1f85b247161a4ce8a727192d683e3c53": {
     "views": []
    },
    "1fa641bf44774984b5db67093d5aece4": {
     "views": []
    },
    "1fad68de8a224347a68c878ad34e0495": {
     "views": []
    },
    "1fb4e99536394900b6cac3d5e0892de5": {
     "views": []
    },
    "1fc8af4080d944b193beb7dbbec4cd95": {
     "views": []
    },
    "1fe4b9eb4e434454b483f3a70f72f2bc": {
     "views": []
    },
    "1ffe0f14401d4ac2824e193616f9466a": {
     "views": []
    },
    "203325969b6d4e7db88f94b6c75ae969": {
     "views": []
    },
    "2035ff112eca465a973248d6bb3d6051": {
     "views": []
    },
    "203d3fc034984bd0b8d7e2047a2f0229": {
     "views": []
    },
    "2046f9ae9ada4b3395e617e680996c65": {
     "views": []
    },
    "20b10376cf5541fbb1848fd7c45dcf51": {
     "views": []
    },
    "20b6ddeff53e4c359834eff6ae6d97c6": {
     "views": []
    },
    "20bda51f3a4c4d698284fa4e2eec1f2c": {
     "views": []
    },
    "20c05df95d9f4d0ea9acef0bea56fc28": {
     "views": []
    },
    "20c2d82ec72946afa68629ee8b1f213f": {
     "views": []
    },
    "20d0b02c2150443bbc8e0eadc35bf980": {
     "views": []
    },
    "20d6930c02a54fbeb7b586708941de26": {
     "views": []
    },
    "210fee5188fc4f6192f29bb4e784223d": {
     "views": []
    },
    "211a3c28be494c47b0b2832d7c34e464": {
     "views": []
    },
    "21216b9fa143409f993c9b65ffdc3c02": {
     "views": []
    },
    "213627a9094f4b239bc6e79e51f0d958": {
     "views": []
    },
    "213d3aede70d4c07bdb8fb8b89c10bd7": {
     "views": []
    },
    "21507ea5084e4f9686f80af97baec51a": {
     "views": []
    },
    "2183a25f2de448329796b9862eb1a0fc": {
     "views": []
    },
    "2193f77a2c2640aa8c004b92aeaacb2c": {
     "views": []
    },
    "2198c5a87fc94a148ffcd71113b26752": {
     "views": []
    },
    "21a05b5d91944d6fbef8b3fcd79ba96a": {
     "views": []
    },
    "21cb85024de84d0f943c73b640666fb3": {
     "views": []
    },
    "220ea470cd8c4ac6a5456612619daff4": {
     "views": []
    },
    "222051b533bb4a4882dac10e9ca8c3c3": {
     "views": []
    },
    "222bc3b365b448588b0fe9ed66cf73e9": {
     "views": []
    },
    "222d9c39bd19456886a2c55a90a10920": {
     "views": []
    },
    "22530709c8ee481f83d35b1f971d32d9": {
     "views": []
    },
    "22759edd9ea04ab29137e64e2199877c": {
     "views": []
    },
    "2290338550884c968b649f7f5100d26c": {
     "views": []
    },
    "22933a17ab624f038f235c065a59c55a": {
     "views": []
    },
    "22980af5c0e64ccc9750a5a8626071e7": {
     "views": []
    },
    "22b206c7bd6041618438cd112d0ea18e": {
     "views": []
    },
    "22baa88946624448a676e0032caf22fa": {
     "views": []
    },
    "22bb38ad2d404b05b6b53b008ec85be4": {
     "views": []
    },
    "22ca2f6593db4106a59c915985b23e3b": {
     "views": []
    },
    "22d279eecd8d4e3281fe6a11ccb258aa": {
     "views": []
    },
    "22d5411122564a978a141ad0334bd575": {
     "views": []
    },
    "230dbe2d165942f4b695e225171a44ca": {
     "views": []
    },
    "2335b054eff84a1d8de75c54db32ce0a": {
     "views": []
    },
    "234bb56a60a2412dbb9c473e41a47593": {
     "views": []
    },
    "238f4b8b420146df9783d94327b573d2": {
     "views": []
    },
    "23972f9c087541d9849019c2ee5b0350": {
     "views": []
    },
    "23995d6ff1b7473f97f42f0b8b9db6fa": {
     "views": []
    },
    "23b0069428e44b7db9c9617edadcf376": {
     "views": []
    },
    "23b6bae82dd94aa08927e95b62207b81": {
     "views": []
    },
    "23ccb60e02ce46bdbb727c04e55c9b6d": {
     "views": []
    },
    "23de05f12e4b466d94c2cd189cdfa8c5": {
     "views": []
    },
    "23f8b56af36b4c1eb988f343163661ad": {
     "views": []
    },
    "240f4a99ddf3440dbe33e8d1a4ba9621": {
     "views": []
    },
    "241066e122a5413098deb1778cca47c0": {
     "views": []
    },
    "241fa1eb6b32411299e084e6c3b90921": {
     "views": []
    },
    "24203aceeb7b43d0a0daab1e40ce8b16": {
     "views": []
    },
    "2421f52a67c947ec9f2b71166977fb9f": {
     "views": []
    },
    "242fff5473744485bf30fac00d5fcb6e": {
     "views": []
    },
    "243d5af4459f4138a6d5c5b28dc38373": {
     "views": []
    },
    "244c2fe5517744e3b9ab4edc309ac140": {
     "views": []
    },
    "24514b32af5247da935b1118865f0e6f": {
     "views": []
    },
    "246e353ca8e44607a84fa1819585f218": {
     "views": []
    },
    "2473ddd3012c483795736744289d1a05": {
     "views": []
    },
    "2486531b17c4403ab1f9f1e14ad6c69d": {
     "views": []
    },
    "2492aceb25bc4ff98b0b27c81d658814": {
     "views": []
    },
    "24a3cb4315f24e2ea22ba931e6d31ca7": {
     "views": []
    },
    "24c8f001d5034ceca6f4192427d5548d": {
     "views": []
    },
    "24f10255199a4c7d94f9e85688cca2f7": {
     "views": []
    },
    "252c36166bc547efa844fdca84a0a2d1": {
     "views": []
    },
    "252f3eebaeba47f5a0540bb19b760988": {
     "views": []
    },
    "256a6f2593184d9c8aee649ae3ab7496": {
     "views": []
    },
    "256f063825a8443db5420956f99a6808": {
     "views": []
    },
    "25a168394d84451f8f44535409375b19": {
     "views": []
    },
    "25a5a384de8a410591abe99bbc7d020e": {
     "views": []
    },
    "25c3443f7a7a43879034fde0ed7ab6ee": {
     "views": []
    },
    "25d0cd43a33f4974ab83cd2359204be9": {
     "views": []
    },
    "25ec3a935aa44bee8f16ae0d40ef0767": {
     "views": []
    },
    "262e5483295b469ca50c0203fa2c2c05": {
     "views": []
    },
    "26364666448444e582ab7f468d837373": {
     "views": []
    },
    "263fa09a9b374f008bc6e19d15265103": {
     "views": []
    },
    "267c17dc7849413896886a7a166e1529": {
     "views": []
    },
    "269a548d2e1c41b6a144102c584bb797": {
     "views": []
    },
    "26a49a391e214ea8a0a8c100a86d8a71": {
     "views": []
    },
    "26a59c9c39ac46caa0364b4d03c12ac2": {
     "views": []
    },
    "26c6587b8eab42f7b9d665d92583907c": {
     "views": []
    },
    "26dc4b4539154105b5b9dce92c695e0c": {
     "views": []
    },
    "2734d5ffe99c428c930e8c9c45d431ca": {
     "views": []
    },
    "273853794ce245cdbff16f0236411e16": {
     "views": []
    },
    "2747a1152731415d859d6774184f5864": {
     "views": []
    },
    "2759e87971a14983910f423bdee24ad1": {
     "views": []
    },
    "2795952522874dd7a01caa757dae9192": {
     "views": []
    },
    "2797ba8d08af475ca2aa81a8426efc2f": {
     "views": []
    },
    "27a292a25c814091a107b7c44a65f94f": {
     "views": []
    },
    "27ae3e05673e40a59e0fd726da280178": {
     "views": []
    },
    "27baa778ba694d6dabf5caa734d89acf": {
     "views": []
    },
    "27c9a0c6e9b4474b856ca6ceaa87f71f": {
     "views": []
    },
    "27dcb9f0834e4860bc6d544caca70424": {
     "views": []
    },
    "27f8917b254442549226330ad75f1b27": {
     "views": []
    },
    "2819cd88433742249e2e5ebbb5a9a6ec": {
     "views": []
    },
    "2825dd1da3e540eb9ff7ca879b5f5085": {
     "views": []
    },
    "282f02a657f24fcfb27bc9e28ded3795": {
     "views": []
    },
    "28333a3a229d438f8b0f086dca0a982c": {
     "views": []
    },
    "285375138784498ba791423e65a007f0": {
     "views": []
    },
    "285502a0d0054388a94c5ac95043ea1d": {
     "views": []
    },
    "28557645b9964d729d1e558e58727fa9": {
     "views": []
    },
    "285c996be74241998584880a5abf6fcc": {
     "views": [
      {
       "cell_index": 28
      }
     ]
    },
    "286a18ed60e0414f9b1b636042290813": {
     "views": []
    },
    "2870118f2be046d9ad01193f1ef65b7c": {
     "views": []
    },
    "287284e5770549a394c958c252de5400": {
     "views": []
    },
    "287c790bb0fd4f8da6ba1ab945c91a60": {
     "views": [
      {
       "cell_index": 17
      }
     ]
    },
    "28874925c4354761b3091530021c49b5": {
     "views": []
    },
    "28886c247f5a40b1bc15c95eafac94c9": {
     "views": []
    },
    "288ff8452d034cc48737705be86841e8": {
     "views": []
    },
    "28d94bb792734800bf1c10f2f9238f06": {
     "views": []
    },
    "28e54b941aad43d698918d29b189c71d": {
     "views": []
    },
    "2915e3102e35442ab78037d06e0d4f4c": {
     "views": []
    },
    "2923a10a62f749b4a089537edd6c193e": {
     "views": []
    },
    "292c8e2000e64c4a9b00f4edc4f4298c": {
     "views": []
    },
    "2935d09fb02448c6a0b7261aa292c9c7": {
     "views": []
    },
    "29368a0f6a4e4da38c8e88b24632c1fb": {
     "views": []
    },
    "2945b84868c44fa6bcb0bb1d4c2b373c": {
     "views": []
    },
    "294e652d789b4d69b54a6bfff1f4ddc8": {
     "views": []
    },
    "295c443f37544703b65adaf45a687342": {
     "views": []
    },
    "29757b267ed4493abf06ebfbdf4d1833": {
     "views": []
    },
    "2978978785c94e3cbb421876fb645248": {
     "views": []
    },
    "297aeb337dd1446db893baef80ac117c": {
     "views": []
    },
    "299094f7cba04faa81c856549ed41c0b": {
     "views": []
    },
    "2999f80e669247f08b2ec2298183c74c": {
     "views": []
    },
    "29a81c2a40c14a758f40d66828d677b5": {
     "views": []
    },
    "29cf22efad2449f79551d43cf8b5a1c8": {
     "views": []
    },
    "29d505e123f64e669e54f916a7f57714": {
     "views": []
    },
    "2a102d1aa65045ddbe5fbc8fe347e14b": {
     "views": []
    },
    "2a277d9474bb478bb9b7facb65167e1a": {
     "views": []
    },
    "2a27dbb1f17f4f5f8f7d127472372b62": {
     "views": []
    },
    "2a2a5e8de3404c77b3b4e71d320fba22": {
     "views": []
    },
    "2a2e35f6d42e40f68098f6cfc0abae8c": {
     "views": []
    },
    "2a3641e7ade24eb6a64b8c0327f4eef8": {
     "views": []
    },
    "2a3cad773d2a465d85d35a3eaca302b0": {
     "views": []
    },
    "2a4d4e0057e24feaa513a227b9b55e9d": {
     "views": []
    },
    "2a607a0567b840dd985589c791ce9f5b": {
     "views": []
    },
    "2a80eb1cc0aa4862a6cf99e0bf77c59e": {
     "views": []
    },
    "2a83d21237af4832a933fc26540c38be": {
     "views": []
    },
    "2a91870ad0f14d6bb3f70c555d63b349": {
     "views": []
    },
    "2a99ed629ef840e0b54c41791ad08045": {
     "views": []
    },
    "2ab6fb9ae2b54651b0b857760876b1a4": {
     "views": []
    },
    "2aefdacbfa434363884339744ce6dca6": {
     "views": []
    },
    "2af1158fe7c240f7b618caead8a1c048": {
     "views": []
    },
    "2af815383417495d8e4b2b61097a009c": {
     "views": []
    },
    "2af9f6569f9743dd87298e006f1f2c2f": {
     "views": []
    },
    "2afa995f368d407696b343f831df1297": {
     "views": []
    },
    "2afb31ddf4af40caa86c748c7857e9b1": {
     "views": []
    },
    "2b0f33322a474729bfa835ae37674422": {
     "views": []
    },
    "2b105d8fe1374a2ca4189363723e70c7": {
     "views": []
    },
    "2b41b8d440f049e6b09b53948c3b2b8b": {
     "views": []
    },
    "2b6f5624c8f043da82a2fa127602e415": {
     "views": []
    },
    "2b9b6fe262e64c1ca0f079e87b508815": {
     "views": []
    },
    "2b9e1bf4e58145bba97d5368c3eeaf22": {
     "views": []
    },
    "2bbfb5ad79534147a660b96ff131711d": {
     "views": []
    },
    "2bd61b8a3020417ba6b99760aa826889": {
     "views": []
    },
    "2bdc45a58e854187ab2570ed8854bf68": {
     "views": []
    },
    "2beeab4099d74211b2d510e1494a252c": {
     "views": []
    },
    "2c1af1a9977a4ebcb1e732c7bc6dc9f8": {
     "views": []
    },
    "2c2f5d41bbbe4271b0a833001445856e": {
     "views": []
    },
    "2c30367db8744b8aabdf392e0a0ccd31": {
     "views": []
    },
    "2c328e535a6a470898bc19938a6fba19": {
     "views": []
    },
    "2c3bb789d3e140a8b61f7eca806c1a3f": {
     "views": []
    },
    "2c3f068dabbe46aabb7e091086cc83a1": {
     "views": []
    },
    "2c521e85c04a46679b6dd355c717e230": {
     "views": []
    },
    "2c57fc51594241549f47d0d2375d7ef5": {
     "views": []
    },
    "2c759c2b82e843c0bdd657c117255d0e": {
     "views": []
    },
    "2c9fa46c6e9d44bd8f34c21f11bb08f6": {
     "views": []
    },
    "2cbfc8a054eb4f8d9766142c955df26b": {
     "views": []
    },
    "2cc426e313344e0192b0921a258af342": {
     "views": []
    },
    "2cd3eb3f6258438e8dab60009b5246bd": {
     "views": []
    },
    "2ce9b42ab2634657b9a0bc830d7b6cf8": {
     "views": []
    },
    "2cedb84a603f4f6881361168b54380d0": {
     "views": []
    },
    "2cf37c3a7b504912a1f4154a8b0b87eb": {
     "views": []
    },
    "2d049f85c2e847448f9c6abb150b15f6": {
     "views": []
    },
    "2d1f380b2d3f4dbe8c365e826e0ad2b3": {
     "views": []
    },
    "2d3bccba17a9428fb2da8961d0bb795d": {
     "views": []
    },
    "2d403a367b374568af441344654b78c9": {
     "views": []
    },
    "2d54ad8200cf4584b20010536fd71bbc": {
     "views": []
    },
    "2d641d7a465647d3b069070a5827407c": {
     "views": []
    },
    "2d7759fed4ad4399b6fc94bec9ac0dbd": {
     "views": []
    },
    "2d9d53f12af94b75b720f6e898556f68": {
     "views": []
    },
    "2daf8fd8cca241698c6ecd94fd0e4ff6": {
     "views": []
    },
    "2db4a8e3d4c8496d839e44967dc5bf2e": {
     "views": []
    },
    "2dbf9496647f4fb0ba8ceea2af50b5f6": {
     "views": []
    },
    "2dc0481ff65744ef85c1b5ac80a9031a": {
     "views": []
    },
    "2dc083cf61b446ecb7abcb310eb1e262": {
     "views": []
    },
    "2defddb7ee2d4052b8c50a3eed8fe8f2": {
     "views": []
    },
    "2e0b4814f257417badd83bdddc9e2bde": {
     "views": []
    },
    "2e0da77b67c24b7989605ab7720b7d3c": {
     "views": []
    },
    "2e122245b0374e30a994210e3d9656d6": {
     "views": []
    },
    "2e152fc11ed84b4c977b2b059e2b7d33": {
     "views": []
    },
    "2e3c6125824443f9a68f0e71600ac32f": {
     "views": []
    },
    "2e3df51890a84ae6bd9a81c7717bae1b": {
     "views": []
    },
    "2e56e8a1495b44b380ecb1fe5e49fc35": {
     "views": []
    },
    "2e5d9079ea9b46ae8f489a9e5b042f84": {
     "views": []
    },
    "2e7693ea18de4e8ba5a30ae2be3e3720": {
     "views": []
    },
    "2e8f20257417470aaa84fe08a0ce3dba": {
     "views": []
    },
    "2eab4d1cb4944e3081330219a8deacd8": {
     "views": []
    },
    "2eabea3924424a11a7304b6ba84f2d38": {
     "views": []
    },
    "2eafdd5b510d42cfb21dc646e966b61d": {
     "views": []
    },
    "2ec0178a5cb44d0e800f906c8e8d4034": {
     "views": []
    },
    "2ec656961f214ed998660fa30d2baee5": {
     "views": [
      {
       "cell_index": 12
      }
     ]
    },
    "2ec8416bf3aa4355bc4e9b92228c6baa": {
     "views": []
    },
    "2ed0e721d8f3434b9c6d0df7c2911526": {
     "views": [
      {
       "cell_index": 21
      }
     ]
    },
    "2ed7f35dc1934b81b74f8eaa3ba7a08a": {
     "views": []
    },
    "2ede6d447a5044eab20b2e1ae9338a4a": {
     "views": []
    },
    "2eedb39c53bf4a1e9e392eb3422cf0f9": {
     "views": []
    },
    "2ef61be370e441a8a53e67bf33c2e14f": {
     "views": []
    },
    "2f0a9199f96442b3867e62bf2092a433": {
     "views": []
    },
    "2f0e9adebf3c42598ebf505970918529": {
     "views": []
    },
    "2f10860ce2d244a78a3a591b77a0e1bc": {
     "views": []
    },
    "2f24e9d8f6f64b7cbac022850c7929ed": {
     "views": []
    },
    "2f54abc470a241a2ac1ff25ab4a2f775": {
     "views": []
    },
    "2f5e999d9b474193b25e404bb6274965": {
     "views": []
    },
    "2f77df550f0c489e81d91c937a04415a": {
     "views": []
    },
    "2f7c6ba2b1394b078c7e319c93e77b38": {
     "views": []
    },
    "2f8482d9e71f475f8f14d56cc73de1bc": {
     "views": []
    },
    "2f89c3f0cc364154a834023c94d78e7e": {
     "views": []
    },
    "2f94c2bb06ff4de79c73f2e6a35b5140": {
     "views": []
    },
    "2f97afac30994e33a0e0011ed08e281a": {
     "views": []
    },
    "2faaeebe6ad1409bad7ef8b697f0b5a5": {
     "views": []
    },
    "2faf4ad26e9e4494a8a8afc2ffc08100": {
     "views": []
    },
    "2fbe3b84b9ef419497bb95907c8c0288": {
     "views": []
    },
    "2fc78ad86bb04219a662f07488aac1c8": {
     "views": []
    },
    "2fcf65e24a11434c9518ef4d9f37e7ae": {
     "views": []
    },
    "2fd3a78d2ee74172a5e20217aa968da0": {
     "views": []
    },
    "2fdd1cad3f6b40de9c939278754035d0": {
     "views": []
    },
    "301195bbd1b548aa8e1a637c8e3358d6": {
     "views": []
    },
    "3022c94d79ee47c686b671ece4b308a8": {
     "views": []
    },
    "302efe6cf51c4d0d89d987b6ee9a119f": {
     "views": []
    },
    "304bd0270ce2455c972bffd189511c7f": {
     "views": []
    },
    "305e8b86845d4a1795ae900e6bb8a90f": {
     "views": []
    },
    "30735a4e76494feca98ce580e4c8e201": {
     "views": []
    },
    "309230f25a54434d84f903cdbacc39d8": {
     "views": []
    },
    "30b9227962884a3db27cf1fc27376636": {
     "views": []
    },
    "30c19c27095741378f3f0682d920673b": {
     "views": []
    },
    "30c91400feb1401381a9879716b564cb": {
     "views": []
    },
    "30e7875864fb4b73a3966284d8a17ebd": {
     "views": []
    },
    "3105377b0d124ace8e3c8aed871b69ea": {
     "views": []
    },
    "3108a6d361494298870720e4f539c435": {
     "views": []
    },
    "311c3252af344c2da9c97daabbf72cb7": {
     "views": []
    },
    "311eb3512c3741aca2ff9cd899c37482": {
     "views": []
    },
    "312512a6c4d749bd9bc1c07d473f68ed": {
     "views": []
    },
    "3131864bc2ba497fbb48ba57fe9680d9": {
     "views": []
    },
    "3134fb79280e49b1a066da0932dfa5bd": {
     "views": []
    },
    "313564ec32604b43b84b7b83ad4bc5ac": {
     "views": []
    },
    "3145e5b7b4194fa293cfc3c6c83a7f82": {
     "views": []
    },
    "3146cfb6e04a40eea09f6a761e3d4323": {
     "views": []
    },
    "3167e7af9e534ef0b38d335c994ff678": {
     "views": []
    },
    "31793ea3ff384723a0160564df982739": {
     "views": []
    },
    "317ac9775d3a4ef9acbcf1a69fee2fc0": {
     "views": []
    },
    "317b7098479f45b0b854653cf0c1dcb4": {
     "views": []
    },
    "31865aa8319a4f2ca8e86e744a94a6eb": {
     "views": []
    },
    "319011fec7c44029bf3b55c823f30520": {
     "views": []
    },
    "319a78c795d54320bee1d517320b5821": {
     "views": []
    },
    "31a8bfbebd3d43b19edd424647403e5b": {
     "views": []
    },
    "31c56ae039634fa585b684f9799ed076": {
     "views": []
    },
    "31c6748f73b24573b6bd8002185dd5d3": {
     "views": []
    },
    "31c9ad896a9445f59dacdc23473d42d1": {
     "views": []
    },
    "31d7eb8a46d246ec80dc6d753e2066b9": {
     "views": []
    },
    "31e1dbfb0efa4c8fb97fb1304366b320": {
     "views": []
    },
    "3200b5cdaffe4987b1c1e7288a4512c4": {
     "views": []
    },
    "320a1b235e814381958d70e315e73a31": {
     "views": []
    },
    "321e8c59b3cd4d46bc7f9bb15cc6a4c5": {
     "views": []
    },
    "324c0dd58c9443a7a88ef5cd01d7ef30": {
     "views": []
    },
    "3268eb24582641edb9a1710f4ff604eb": {
     "views": []
    },
    "3272f69aa6ed46bcaa24e43244b8f7d5": {
     "views": []
    },
    "3283d1e79b29492fac89eb37903fada6": {
     "views": []
    },
    "3297dc10acbf4edea16cd6504f7ee018": {
     "views": []
    },
    "329d7acb273445558f8214edb06fdcc8": {
     "views": []
    },
    "32ab17cbba3140958384d202a744a9c3": {
     "views": []
    },
    "32cde2642bd7407da932b3d846afd451": {
     "views": []
    },
    "32f2501b8d9a413c962073c0996ee5e4": {
     "views": []
    },
    "32f6b23481bd43e2b3a5b1eff03745e2": {
     "views": []
    },
    "331fe850f066484e84c7ed904273d6d2": {
     "views": []
    },
    "3327ea22bfc24acfbd9362a41e18a451": {
     "views": []
    },
    "33683c7d4aca4cdebe342ebf7af38443": {
     "views": []
    },
    "339129a0b424471a846baff1687a1e05": {
     "views": []
    },
    "33ec941d1eb84b51836098949e57c27e": {
     "views": []
    },
    "3411ea7417b943dcb4a372c4346baa84": {
     "views": []
    },
    "3412a60e15be40e2a11b35d7a949bb1d": {
     "views": []
    },
    "342bb8d5945c4975b6d76bf42a5abe93": {
     "views": []
    },
    "344883b3203844f8adcab8cb62679b14": {
     "views": []
    },
    "344f63d12cbd426f827b8473118c0361": {
     "views": []
    },
    "34748b55e291480f8220c5072a63e699": {
     "views": []
    },
    "3479ff11ea4b4619a7cae688ef81f133": {
     "views": []
    },
    "3482313d64ef4620a96b7b72757b3df7": {
     "views": []
    },
    "34c9ebcedb63471ebf73142416460e5d": {
     "views": []
    },
    "34cbce0937d94039b39e5618886a465c": {
     "views": []
    },
    "34da2f2eda6b4b9caa30c06c466ed976": {
     "views": []
    },
    "34dce4403523476381d30a2155b09f2a": {
     "views": []
    },
    "34e76c10505f4b0297dcbc949511cfad": {
     "views": []
    },
    "34f59dca41b94bb8a6774c28c163d3d1": {
     "views": []
    },
    "3503d2440d9e448db10bf82129e0ae28": {
     "views": []
    },
    "35178b2947a948ecb196b0d654d810f1": {
     "views": []
    },
    "351bdf2c46374573b6571a1a87524741": {
     "views": []
    },
    "3533ba05f81340d8a799e9b0219c5397": {
     "views": []
    },
    "35436a12c9bf4e128a31cd6cf6f27f67": {
     "views": []
    },
    "3582de9068b645b79ecd77b5dae28423": {
     "views": []
    },
    "3594c31302b34fae83a1deca77ffe0d0": {
     "views": []
    },
    "359c6d7c321d4707b9d9b2ab09cd7a58": {
     "views": []
    },
    "35ac9f753cd34f198a75d9884a965def": {
     "views": []
    },
    "35b1a61985584faeb3ab77a6f022489d": {
     "views": []
    },
    "35babd2c589e4fbcb597f3ba548f2848": {
     "views": []
    },
    "35baf9f1e393432ca0eac69abb7abfad": {
     "views": []
    },
    "35c45f3d971f4dccbf74cbbb3ee280c1": {
     "views": []
    },
    "35ca97f9c01242978a4ff21d052bee28": {
     "views": []
    },
    "35d2248658404df78c5d740f5c99f7c8": {
     "views": []
    },
    "35e130443ffe420d98a706d6d23eab43": {
     "views": []
    },
    "35f1c9c1ab4449e38c6dca47e9a01893": {
     "views": []
    },
    "360bd0b1704f42d0be3c3810e78e4536": {
     "views": []
    },
    "361616d9be9b4545b692d622ace83538": {
     "views": []
    },
    "361cdceaea134305bcd538f6ebbb39b4": {
     "views": []
    },
    "3620806e96794aec99ab8ac478101ac5": {
     "views": []
    },
    "362278a0ad2047a6a7a204ca50ad70bd": {
     "views": []
    },
    "362873ea26d3440887cffc17f62ba1b1": {
     "views": []
    },
    "363c751e361944d398ee7933ebab2a4f": {
     "views": []
    },
    "363eee8f2afb4422a5539ea8dfe373fe": {
     "views": []
    },
    "365dd2f6bc1548768e0ed957c07b3429": {
     "views": []
    },
    "3674cedc10ea4cdab896ccb85da95119": {
     "views": []
    },
    "36a486c14e424e3e9921c12c18da3189": {
     "views": []
    },
    "36a4a5b257094891883498c9c4c64a7b": {
     "views": []
    },
    "36b0abedee754ac4bbb25e9ba5322c88": {
     "views": []
    },
    "370b6d519c82465eae279f4caecc8f4d": {
     "views": []
    },
    "37182c5691f649c3a85a302fdd18ca85": {
     "views": []
    },
    "371a11ea31e8443b9a2a419dd4085200": {
     "views": []
    },
    "371d4e946cbd42d4b420b038d3a87883": {
     "views": []
    },
    "372ba3cf8dc14dabbc0dab641be23d4f": {
     "views": []
    },
    "372c952194954f1aaa4f14f6695cc09b": {
     "views": []
    },
    "373d448afb7a4221be2dd65a06539213": {
     "views": []
    },
    "37573923917d4b9182a420a3e961dbbc": {
     "views": []
    },
    "375c4532256648c5b5d1eeb570cbf98f": {
     "views": []
    },
    "377481584ae84032a303f94bec24e7f5": {
     "views": []
    },
    "37795ca2443b4baea49e2d87083eab0d": {
     "views": []
    },
    "37804156ad634ddbbef1941a6d5ca311": {
     "views": []
    },
    "37ad255def8d4154ab9a4c53e4d8576a": {
     "views": []
    },
    "37bc8e06d9b24f08a67db78db51f6180": {
     "views": []
    },
    "37ffc5da891a4a14a375b21710426ff5": {
     "views": []
    },
    "38191d7795e6480b998529997ab2aabf": {
     "views": []
    },
    "381a74a7e2ef453b8dda6dac3012842a": {
     "views": []
    },
    "38245cd488a84ef18e1fa719a06deaf9": {
     "views": []
    },
    "3831c3ac202a434eb5e70a1eaac9e9a1": {
     "views": []
    },
    "385c9e4de8ee40689a518292e91dc472": {
     "views": []
    },
    "38794d0298a740538d73158a8e1b2a02": {
     "views": []
    },
    "388621b72b0947d89266ecc256b23979": {
     "views": []
    },
    "388ee28856c14537b65bd062b539f315": {
     "views": []
    },
    "389f7e877fda4e32a8c54abb8fe8a741": {
     "views": []
    },
    "38a331cfb94444709181fdcbe810d3ad": {
     "views": []
    },
    "38a37d952b11411ba9b6292264b417d9": {
     "views": []
    },
    "38a3e4fed77d45eda0197f6954131c03": {
     "views": []
    },
    "38b0f05f78dc41bda5e748db08295286": {
     "views": []
    },
    "38cb4551b49d4870b171b5c5e19d6315": {
     "views": []
    },
    "38d4a25b6a09436bb7067e24aaf46567": {
     "views": []
    },
    "38d92d75f12e4b1b8951eead96bd76dc": {
     "views": []
    },
    "38f80ea44c8445a3b0cd63d13b7d14a8": {
     "views": []
    },
    "3992a4d739074069a844f8b2530eb012": {
     "views": []
    },
    "399cce019d0d4cef9e3bd8f5f12f525e": {
     "views": []
    },
    "39dcd55a8f5648a88906f3f6e7205d02": {
     "views": []
    },
    "3a0adbfe4c524a0caed4f562a6212836": {
     "views": []
    },
    "3a1354e32c9942ed9023456bf4f677d7": {
     "views": []
    },
    "3a2c9b1c82754b53bb684736b480097c": {
     "views": []
    },
    "3a420b0ea4d344009c3834806e520ca1": {
     "views": []
    },
    "3a47ea86eb084bcb947bcebced589325": {
     "views": []
    },
    "3a556ff170044126b6049024125a2c3b": {
     "views": []
    },
    "3a7f6a892a9f43058b301dc6567f16ce": {
     "views": []
    },
    "3ab9b36dc04a4b098cf66091578386bd": {
     "views": []
    },
    "3abbcbe3cd4f4a1c8abdfb6233db72bb": {
     "views": []
    },
    "3ad1f5cd719249acb9d65a46652f6599": {
     "views": []
    },
    "3af195a404874c748c9f6b167fac489b": {
     "views": []
    },
    "3b1ab54001e74813b1cd401b07e51ac7": {
     "views": []
    },
    "3b1d8fd6ee23436a9ac45b4967fe7691": {
     "views": []
    },
    "3b2aab787210485291e791212fc6ecb8": {
     "views": []
    },
    "3b3b8dcc42ee4586a48430fbf876afc0": {
     "views": []
    },
    "3b4d6b15b2394752ac9ddbeba4f68855": {
     "views": []
    },
    "3b690cf391db4c32b385e7fb146aba11": {
     "views": []
    },
    "3b82a29766d04649a65997ae5130758f": {
     "views": []
    },
    "3b96b4c83c3d47ecaaa044f98c31c832": {
     "views": []
    },
    "3bbd44918b504eecb512e778b1c69abb": {
     "views": []
    },
    "3bd1026dc5d846339de1e5ed5707d2d6": {
     "views": []
    },
    "3bdfc2eec248445da44a73063d7c6926": {
     "views": []
    },
    "3be00fa224fa4e1d80ce3e946cd9083c": {
     "views": []
    },
    "3be44420f71b414384551e3cdb2921c1": {
     "views": []
    },
    "3be7f72d59da42f58db0594ee16a0c0c": {
     "views": []
    },
    "3c2cf95384ef4fe3b234a5553c196150": {
     "views": []
    },
    "3c3326ebbe194721aef63651e05a4eda": {
     "views": []
    },
    "3c394109c1be4d9087b02f012420929f": {
     "views": []
    },
    "3c4e9e91e170417aa7f2d8bd72076718": {
     "views": []
    },
    "3c5209e36e7b4a809c2c17166686ff4b": {
     "views": []
    },
    "3c54c7631b3f464cbce18da5d88ee53c": {
     "views": []
    },
    "3c599642b0ac47458e0e063ce2d7c126": {
     "views": []
    },
    "3c7217e535be4eec8c9ad8540b7f4672": {
     "views": []
    },
    "3c78af6f39c64abd9a6d7d17f1111b32": {
     "views": []
    },
    "3c81df6193f04caba024212aef2086b8": {
     "views": [
      {
       "cell_index": 10
      }
     ]
    },
    "3c9095abd8fe411cbb511884826a8abc": {
     "views": []
    },
    "3ca93574cba5403993002b57d5739c07": {
     "views": []
    },
    "3cd5241700b940a3aca894a217ee31e9": {
     "views": []
    },
    "3cd8e24fae644106a6f6799531fa14dd": {
     "views": []
    },
    "3d2230bbb1c349c29b1e7c3f95acc2dc": {
     "views": []
    },
    "3d2aa312872c474e9d30de8e9ff52845": {
     "views": []
    },
    "3d310913ddfd4194bf743e38ce6ab937": {
     "views": []
    },
    "3d531d79c58f43ea900ec53b0c7b45f1": {
     "views": []
    },
    "3d606be9091844d4806df306cfe30353": {
     "views": []
    },
    "3d673ec59d094471bf84d5f407a3200b": {
     "views": []
    },
    "3d709fe4390e451ca6aee0eb845f8866": {
     "views": []
    },
    "3da3f5558007400eac253fe778ba1586": {
     "views": []
    },
    "3db9b2a64c954babb72304607d1eb897": {
     "views": []
    },
    "3dbe20af48a0431690f25af169fdfe81": {
     "views": []
    },
    "3ddf1c1471a5461ba574d19a434fe71b": {
     "views": []
    },
    "3e0b6e9cf9614f1ea1523670bb2366d3": {
     "views": []
    },
    "3e16bad1951f4da08b63b40db893bfe3": {
     "views": []
    },
    "3e2b01cb2a344b0f82a84507e375233a": {
     "views": []
    },
    "3e321759e81042b2b982041567ae290f": {
     "views": []
    },
    "3e629424a95a4a6091ee6a8a3ec70054": {
     "views": []
    },
    "3e66d77fdc934ad983bbf98082a8e5f8": {
     "views": []
    },
    "3e698c4410a645699c4a40ebe992d5aa": {
     "views": []
    },
    "3e8f16c587fa4e61b8472a161a325e15": {
     "views": []
    },
    "3e9f2646f23647e1b8fad6fc6a97c982": {
     "views": []
    },
    "3eb05747dfdd4df392f740c7b4ada59c": {
     "views": []
    },
    "3eb2af6f42fe43a4bbbea047e458ebaf": {
     "views": []
    },
    "3ee3c64e81194a8383a406bfb43251d1": {
     "views": []
    },
    "3eeea43b15944404b9237d4054b59698": {
     "views": []
    },
    "3ef2ab0654ce4ab6bf5f846037f0131a": {
     "views": []
    },
    "3f1f8563289d42f5a66891088ba628ab": {
     "views": []
    },
    "3f2514d180cd4b11adc4a0ae97fe44b0": {
     "views": []
    },
    "3f47395f237c4070a16ce528d7bbef35": {
     "views": []
    },
    "3f554d4acc4f4b18bd7161fc427a3e18": {
     "views": []
    },
    "3f580b83c5234151b3db098c80bc62eb": {
     "views": []
    },
    "3f59303ac8ae4e35af06f9785833324e": {
     "views": []
    },
    "3f5a1cefa4d843199e2eaf5d2d50c956": {
     "views": []
    },
    "3f5b7a31b2424d229b577146a0f37de9": {
     "views": []
    },
    "3f77acf8e41c4851b81f5977355639c8": {
     "views": []
    },
    "3f81a0e744ac42d7b69a3d6f358667ea": {
     "views": []
    },
    "3f8619777bd94db599c9058a74d8fad2": {
     "views": []
    },
    "3f912acd62ae497990fb60189c316d36": {
     "views": []
    },
    "3fb06cdd5cca4b768337a3bc35abcf79": {
     "views": []
    },
    "3fb58be551ad432fb0f5a494edcc874d": {
     "views": []
    },
    "3fc68527c9f841ea8c2c977193ddad5f": {
     "views": []
    },
    "3fe2997acb914b59a967e7122597a584": {
     "views": []
    },
    "4006158591d1458eacdd8ab1a426cbdb": {
     "views": []
    },
    "4010b96baa334df4854d06c439fa3eab": {
     "views": []
    },
    "401897ef30704dbbbdfd30fac44debf8": {
     "views": []
    },
    "4018c601357144d6b8fff7b68d00b3f6": {
     "views": []
    },
    "40250e6e3e834b4f884145588f6b094d": {
     "views": []
    },
    "40261b34f98840b5913c06b0f031d399": {
     "views": []
    },
    "4027f220b45f4c7c83761f89193fc394": {
     "views": []
    },
    "403e11aec2bf49f0b40a6f5b63565dc4": {
     "views": []
    },
    "40791a2d40f44d11838f07fee54d70bb": {
     "views": []
    },
    "40984f9473c04ab6a3cd95148eb86773": {
     "views": []
    },
    "40a07e944b8f43f98fca405f2ed48bf2": {
     "views": []
    },
    "40b1dc11b00d4c33b62b330c0a61c7fd": {
     "views": []
    },
    "40c62632e8cb4a42bf970cef6e9a3e2c": {
     "views": []
    },
    "40cd1a65da46458ab1948bcad9a30a2f": {
     "views": []
    },
    "40cf94e839ae4ec9928fd898f3fb17c5": {
     "views": []
    },
    "40dc9259d0dd443f9eab3a9b025dc443": {
     "views": []
    },
    "40ef848afcf2434687be81f7ace8d3dd": {
     "views": []
    },
    "40f5fa3ed2584975829a17edb8f7faf0": {
     "views": []
    },
    "40ff376b0e024083968865af3b326cbe": {
     "views": []
    },
    "410c0cd7262544bfa043863e92090910": {
     "views": []
    },
    "410f2ecd53a941d384076be75e8bace0": {
     "views": []
    },
    "41215f5461414b65a67fbcf577279f81": {
     "views": []
    },
    "412f23efd9024e189d1b8cd4f7081678": {
     "views": []
    },
    "413501c98ebd4a9180531b9bbea96410": {
     "views": []
    },
    "41405874564a4a36a1d6988ab9158d75": {
     "views": []
    },
    "414a847242f847c0b8951591d77dcc69": {
     "views": []
    },
    "415197381af8449e8f2a2ce5dcb5f957": {
     "views": []
    },
    "418542391d4a41cd9e133591a3644192": {
     "views": []
    },
    "41a0f79f17eb4655baf56a11d1b0bdcf": {
     "views": []
    },
    "41e58e4863854c139142d5a1bac902a2": {
     "views": []
    },
    "41ea2094296a44a4859654b3fd397aa6": {
     "views": []
    },
    "41ede4e1af304d5296c9317386410043": {
     "views": []
    },
    "41fa38f2bbf3433b999a79e69d890fbf": {
     "views": []
    },
    "420fb4fc4c5b42218de3f65c23f7689a": {
     "views": []
    },
    "4213bf2f9f3e45b3bbb89704a64305f6": {
     "views": []
    },
    "42177642a9424b79a63d096c67cfeae9": {
     "views": []
    },
    "4252e93c4f4c498abb934fedb68917bc": {
     "views": []
    },
    "42536411b3c74b99adb5b69284870e9a": {
     "views": []
    },
    "42800f5ee2864f84a6d96d695bab4da3": {
     "views": []
    },
    "429a169d7fb34f8aa8118ba8bb22172e": {
     "views": []
    },
    "42a8394481514359b5d73b63871e2645": {
     "views": []
    },
    "42aa46a7651c4c059df9a05fa23ad623": {
     "views": []
    },
    "42cdad73a4594a65b1fa8c2f27e9d3fa": {
     "views": []
    },
    "42d7e49a6cad4fbe9678cc65420c7ccb": {
     "views": []
    },
    "42e18772e49f40058a8e9eb51371aa01": {
     "views": []
    },
    "42e5bbf96a8d4887893a4d9ac18d4a86": {
     "views": []
    },
    "4309025098ca4fbe8f6fc98d9f1b8490": {
     "views": []
    },
    "431412a7dc0e4a289beb244903265fe2": {
     "views": []
    },
    "43190f9a4c784c2a987651e1324b7683": {
     "views": []
    },
    "433cc86a7d3a4b098930d78f272d8e1d": {
     "views": []
    },
    "4348b8e5330e4d98901bfdd4f2af2365": {
     "views": []
    },
    "434f5139dcde4ec4b86da70feeb9da7b": {
     "views": []
    },
    "435be7bfdf6d4bf3b320cfa09120bc26": {
     "views": []
    },
    "4360e94128b24375ae65646b816c3dda": {
     "views": []
    },
    "43632155dedd458d91467ce97c0d4b9e": {
     "views": []
    },
    "4371f5e1f12846f7a807422db5384e7b": {
     "views": []
    },
    "437ce138638341a8979cc3a6f475c146": {
     "views": []
    },
    "439c313ed8cb442b8b5bb1d4feffcb12": {
     "views": []
    },
    "43a706db5c444bf088173dd30c0b4e4f": {
     "views": []
    },
    "43ab4a634e924a24addc2c0ed1f54c4d": {
     "views": []
    },
    "43cd4c17857a489985ebb49e90c84290": {
     "views": []
    },
    "43d0701ff64e4d2f94c38139cebbfc53": {
     "views": []
    },
    "43f8ae910ff748f9bb064a6d026a3aff": {
     "views": []
    },
    "43fa394faa8845c5ad37fe56e830ca60": {
     "views": []
    },
    "4406f6bbccd140fba5d081e561d4ef62": {
     "views": []
    },
    "441a6b08bf5142229af4e7f557b8491a": {
     "views": []
    },
    "44275a8ed8d447fbbe1e25735901453b": {
     "views": []
    },
    "4439bdf751414b5186581a472819f05a": {
     "views": []
    },
    "4454ee53967844acbea18e0735ee27d4": {
     "views": []
    },
    "448b2b2b6d0f452b917d2cb106241e62": {
     "views": []
    },
    "44934156bd494e5f8dce36689e67de7a": {
     "views": []
    },
    "449cabc197d64bf9aa5983b46d521cd6": {
     "views": []
    },
    "44b8a38589954aad8fd8659c6310d7fd": {
     "views": []
    },
    "44c8ce3b1ac543b89df3f17c90c925ec": {
     "views": []
    },
    "44ef8cb8754a4034b948c3d0afa9b172": {
     "views": []
    },
    "44f5107a4c154a1ea1ec6a9d6adbd0be": {
     "views": []
    },
    "4517f2f9dcf34ee0bd1f02d69cd6ca0c": {
     "views": []
    },
    "45185a8573bd4281b0c348a2976c8d3d": {
     "views": []
    },
    "451d9b4472bf4a1ea87c3c7cf7e9b515": {
     "views": []
    },
    "452e187310904a0a96af546c717a7d14": {
     "views": []
    },
    "453898e8b87d4080b2a3db828a8214f9": {
     "views": []
    },
    "45479f584629420ba35efb50802dd143": {
     "views": []
    },
    "454fb45de505464285faef3c5bf3ab97": {
     "views": []
    },
    "456db1b75e084359a6aa1f6eb7c62a22": {
     "views": []
    },
    "45a3090599d04995b1b089ed11ef3cc3": {
     "views": []
    },
    "45a5c34af0e142879caa0781132c800c": {
     "views": []
    },
    "45c30d0c0d0d4e7d9784d97a7a54254d": {
     "views": []
    },
    "45f8894a3999474588ac95475382752a": {
     "views": []
    },
    "46016ca21eee42c2ae2a25317a6d9db2": {
     "views": []
    },
    "4602a17f5319455d9066b55077d8db34": {
     "views": []
    },
    "460ddf68de9b43b9971b5627dd707770": {
     "views": []
    },
    "46120244928245c7ba0ba5fb0bf20631": {
     "views": []
    },
    "46178af3083d49f8be8ba2e9a172add8": {
     "views": []
    },
    "462095046824458d851fe0a6dd4640e6": {
     "views": []
    },
    "4642d2d24403437090e6c8ff4e54bc5b": {
     "views": []
    },
    "464bf717e65b4c0cb35ed9b49ce9853b": {
     "views": []
    },
    "464f197f4c1f4543b547b36b7fcb19c4": {
     "views": []
    },
    "4653ec4f3396468ba4a4958b17b49e9f": {
     "views": []
    },
    "466205f2290545f18a381e77945162a1": {
     "views": []
    },
    "4679610fb815488ab3467534bc01cefb": {
     "views": []
    },
    "467cb98e2e6345a2bd468304c6b60b36": {
     "views": []
    },
    "467e20679f3a49ed87f0d28b8eb79800": {
     "views": []
    },
    "46aa025a3b1b4ae8a7566ef2bb1955d5": {
     "views": []
    },
    "46b14858157c4f6aa440656b6f3fc3d3": {
     "views": []
    },
    "470412426bf64acf9f9ad1eb09a1ed3c": {
     "views": []
    },
    "4711bdc3fe554289ba20911f4932baf1": {
     "views": []
    },
    "47173a9b4aff49f48578e94f8dbab69e": {
     "views": []
    },
    "475146b320f440418e1e9a34592592c6": {
     "views": []
    },
    "4765bf62f1b84db3bcb8f5add7cacf9c": {
     "views": []
    },
    "47893f57a9e3463988cb9b29b6548c7a": {
     "views": []
    },
    "47be72b998124bac84c40bfc503f2486": {
     "views": []
    },
    "47c0192ff2054a2b8047a22761f8ab2f": {
     "views": []
    },
    "47ca627fb6bf4a7fa532452eb5761c44": {
     "views": []
    },
    "47cfa2fffbdf4449bd1bcb984ebb278b": {
     "views": []
    },
    "47cff2e77b4740158292eadb8b13be98": {
     "views": []
    },
    "47e45d3516d349629c042748bbf5f562": {
     "views": []
    },
    "47e56f2956c34a899c1cd19498f3e409": {
     "views": []
    },
    "48110a1dc7b84f61b0a491f31840b183": {
     "views": []
    },
    "482d8cbd7eac4767a8c39db92e0c9265": {
     "views": []
    },
    "484d194627c74d34b1e116d45aefb239": {
     "views": []
    },
    "4852c4a7e9de402da5dd1dbf883c9706": {
     "views": []
    },
    "4862f3aba9ce46c0953187d8f2b6bfa1": {
     "views": []
    },
    "48680ee62f194475ae47bfb732bcbc02": {
     "views": []
    },
    "4886dc82c6274984800ccd9742fa2d7c": {
     "views": []
    },
    "48aa4b2a79ab4625a20f3947a4ce3f1c": {
     "views": []
    },
    "48b1dffef81042a8a0deede852ee2c4c": {
     "views": []
    },
    "48dd46fcd2c549739d13ee6d7be51451": {
     "views": []
    },
    "48de243078e245aabdda35aa837aece2": {
     "views": []
    },
    "48de74695a1247bab249f4052ae8e37b": {
     "views": []
    },
    "48e7aff1cced4f93a6c06150d0ec77f2": {
     "views": []
    },
    "48f8e7fdf9394b46869157b65e1f60ac": {
     "views": []
    },
    "490368f51dbc4cab83f2569a40ec0618": {
     "views": []
    },
    "4927e491677048a8a42a66e08e982e63": {
     "views": []
    },
    "492e04100a884d7ea41a3fb655539186": {
     "views": []
    },
    "49383746c2eb4e5bac219c8eef787627": {
     "views": []
    },
    "495ed1913e264fcd89c85600c8090bfe": {
     "views": []
    },
    "498c78dc859041c79eb3c46ea1b34a1c": {
     "views": []
    },
    "49934ed4a9614312ade0ef2438ffb49b": {
     "views": []
    },
    "4993c1f827e94e46abbeb1c419498060": {
     "views": []
    },
    "499ba6bda85d4cdabac26018018c9afe": {
     "views": []
    },
    "49c8408143ee4c319a5d2c51deaf1cd9": {
     "views": []
    },
    "49e4fd74d05e487e9ca92927b31e2e68": {
     "views": []
    },
    "49f343e62317459a9ae6ec647f880b29": {
     "views": []
    },
    "4a369163eb214d9ab5ee66782da9151e": {
     "views": []
    },
    "4a39a3c3cfde4d18b93a70dff6706796": {
     "views": []
    },
    "4a56e810bc38467bb4489207cbbebf73": {
     "views": []
    },
    "4a7367fe741b4fadb541e08da4d70a51": {
     "views": []
    },
    "4a85d26e00e34bbd9a829e485702cab3": {
     "views": []
    },
    "4a90895f8d4e42228c868b50fb49cfa4": {
     "views": []
    },
    "4a949f9476334274bb9fa2cb3269f084": {
     "views": []
    },
    "4aa3cc62b5a54b43a7072ee96a509c93": {
     "views": []
    },
    "4abd965786544c90aa78da6411ec0d60": {
     "views": []
    },
    "4ac2cb56f1ba487a839a273f3883eedf": {
     "views": []
    },
    "4ad1874209544b86b1a0b2060be3b555": {
     "views": []
    },
    "4ae4e308c068475990a6b8038ca9c32f": {
     "views": []
    },
    "4b1162b7cd094616b134276f3d137586": {
     "views": []
    },
    "4b3e5c7ff5524d27bcfe5ad06e3adc20": {
     "views": []
    },
    "4b652bac49fc4ee796e01991bc916b9d": {
     "views": []
    },
    "4b69528b06fc4ae0a06bc68f34957db6": {
     "views": []
    },
    "4b6f707ce3c94250a91e6df43ed50b71": {
     "views": []
    },
    "4b724f863b3f4d6a9643d8d59274f7e6": {
     "views": []
    },
    "4b8256a962094ebd9e601bb1d195b4ec": {
     "views": []
    },
    "4b85c60840ca4acf9581f1b254923b15": {
     "views": []
    },
    "4b860eb5093e4e5e8bfe528e233e0b03": {
     "views": []
    },
    "4b91b20e23404c1681b8416b1ead4152": {
     "views": []
    },
    "4b94383ca95b43468fc660c8574f3001": {
     "views": []
    },
    "4bc403bb260a4944a1b611774aace4e1": {
     "views": []
    },
    "4c0ed17115444ca38e9595e27aeadfa3": {
     "views": []
    },
    "4c20b63c129b47e38b1a3a0504dc8d2d": {
     "views": []
    },
    "4c38941236da4c96bff9586f7b81b1da": {
     "views": []
    },
    "4c3caa85815d47f4aba76b3cb81838e4": {
     "views": []
    },
    "4c43e2b42f9a41239738bc53ff176ce4": {
     "views": []
    },
    "4c4da34fb2334d98acdd1074f3e65b95": {
     "views": []
    },
    "4c59217ef7ee40558de7e1b8f6fc44d9": {
     "views": []
    },
    "4c6e4a1723f844448d03fac43a5a6ce8": {
     "views": []
    },
    "4c987efb42a249ac9e62ea8bc47ac6b9": {
     "views": []
    },
    "4cc8d5cf87ad4b48a4c3133635d444de": {
     "views": []
    },
    "4cf048d8d53c4877b7954cccdf2d82d5": {
     "views": []
    },
    "4d103ca590f64aa09a17fcfcbf2d6bce": {
     "views": []
    },
    "4d1414dc45c44b889afc8dc7fc87b535": {
     "views": []
    },
    "4d252ae5523847a393e4324930d5d8d8": {
     "views": []
    },
    "4d2bb4e84b6c450db4424d69009f6f24": {
     "views": []
    },
    "4d7cf46bb98f47b4a5d39efebddfd094": {
     "views": []
    },
    "4d9cbfd0de034e2fa98dc60f7581e0a1": {
     "views": []
    },
    "4d9ccb8c663d41ca8ad3c28e6dd5b9e2": {
     "views": []
    },
    "4dad52a8d9f743cbbe2e520222fb59a1": {
     "views": []
    },
    "4dae0d8c7ee64c97a079f906891fecd0": {
     "views": []
    },
    "4dcab6a5392245a1ba19667327236926": {
     "views": []
    },
    "4dd776793868430fa8b41075ab6df23d": {
     "views": []
    },
    "4df8a8b3620a438daf42cf0d3527348b": {
     "views": []
    },
    "4e201d9e45d842a8bf31eab19f1c6f6a": {
     "views": []
    },
    "4e31411ebb354477b13b84eade8ebdcd": {
     "views": []
    },
    "4e60bf4c51d64f28bec846713884a57b": {
     "views": []
    },
    "4e978311179041ceb40ee96674c5581d": {
     "views": []
    },
    "4ebdffd0cd0b4a37b5e69dd0f33957fc": {
     "views": []
    },
    "4ecdd2fa4c8149c1b4950865b8c300f6": {
     "views": []
    },
    "4ee13ef5332e4947b94bc6f379fa5e80": {
     "views": []
    },
    "4f22296ac8b14751958987213db91c3e": {
     "views": []
    },
    "4f3adbddae454b23ade8c55a93f42743": {
     "views": []
    },
    "4f6490d9f2b1406e9a6de32af837aa08": {
     "views": []
    },
    "4f72f88d17d544b795547cd7c8b94fbb": {
     "views": []
    },
    "4fb7eaf587be4f7abd08e90a9b69f34c": {
     "views": []
    },
    "4fcd2ccfc54c4696a95902a957069318": {
     "views": []
    },
    "4ff53fba5e92446db4461afc71c0d05f": {
     "views": []
    },
    "501f585588444525b50d78af68d1e3c7": {
     "views": []
    },
    "508e7e5a99994f5aa71699b61d1c6ed9": {
     "views": []
    },
    "50c3f69f12f94021b8a8544d01d5c37b": {
     "views": []
    },
    "50cd81cca94d4fd28227d00de2174978": {
     "views": []
    },
    "50d3153ad3d344748ea75a06ec5db520": {
     "views": []
    },
    "50d74e4963f5446b82097e63a8587461": {
     "views": []
    },
    "50de924a3e0e4d5f9baa3101451c9683": {
     "views": []
    },
    "50f1f36a3db347f7bfc7e6c869100a7e": {
     "views": []
    },
    "5108ccfb5590473bbfa4d6f1cbba3c83": {
     "views": []
    },
    "510b398926c44a1e98a477cf701931ef": {
     "views": []
    },
    "514bcd1ad29f4439921b0793e163e435": {
     "views": []
    },
    "516b19db85dc42ab82c92c32f731af0a": {
     "views": []
    },
    "5194b52a0a944d119c2af483765d2b34": {
     "views": []
    },
    "519e791372ba4bcebb3d94019a567926": {
     "views": []
    },
    "51ac156daa9344a0aa8a07fbc448828c": {
     "views": []
    },
    "51b67e9415a04dea980e740326864f80": {
     "views": []
    },
    "51dd3f9a65ec4ffd983558fda3a0200e": {
     "views": []
    },
    "51dd52e3076b4b4ea48d40d55aef6e89": {
     "views": []
    },
    "51e71036ee824c6e9a28a6251beb1c5a": {
     "views": []
    },
    "51efe6a25cf64284861112912a82f86b": {
     "views": []
    },
    "51f2bccb929d4190874009d09ffd7413": {
     "views": []
    },
    "51ff0af4761049e9a2736388e44a5aa4": {
     "views": []
    },
    "51ffb135e27c4ef98fe8e2788f005cb0": {
     "views": []
    },
    "520887608a0c43c09d43175cfe00dd1b": {
     "views": []
    },
    "522df461f2374a51939b1f161a0e6fc1": {
     "views": []
    },
    "5230c7b03f9541808c4324ae17d4697b": {
     "views": []
    },
    "5233eda47ca944cababdbaac5d5b3f7b": {
     "views": []
    },
    "52445514e4ea459f896397b545d90e23": {
     "views": []
    },
    "524f24c545104d5fa951fc85e180a016": {
     "views": []
    },
    "52567a12c6094ce5a38baa4ab044b1fd": {
     "views": []
    },
    "5258431b75c942458a55b3efdf4839e1": {
     "views": []
    },
    "527428ef93224f3795678292c961d034": {
     "views": []
    },
    "527550d9540a4051838bffd54f05dfd8": {
     "views": []
    },
    "527c7c8929f341cdaf189561f8a20bcf": {
     "views": []
    },
    "527e941af70d431a96601e284888e738": {
     "views": []
    },
    "52802501fee84c13b791ba1f700e88c2": {
     "views": []
    },
    "52a5d4eec15a4070a69662a074928126": {
     "views": []
    },
    "52b2b72965d54a10b5ac9b405beeb3de": {
     "views": []
    },
    "52b6af62cc1d42ec9e2872da21e3d086": {
     "views": []
    },
    "52cf5c7ecec84e1ab6744a2db2971037": {
     "views": []
    },
    "52d12f6ff2974677aa15b265ca28034c": {
     "views": []
    },
    "52f50fabd71647ce9a092172da80ffd0": {
     "views": []
    },
    "52fb3350c2bd4451b31284d7bf98bfe4": {
     "views": []
    },
    "5307bd8064d5479c91003c9299c3338b": {
     "views": []
    },
    "530ac0e4bcc942ffab9e93baad41c96a": {
     "views": []
    },
    "531b5b2cb80044cb9fb98aff9df5cba2": {
     "views": []
    },
    "5320427f95b4437ca171701ce3fa032f": {
     "views": []
    },
    "534d3c7b744747acb29f2f039028ba7c": {
     "views": []
    },
    "5365c408e8ff4557b9c3cabb98670701": {
     "views": []
    },
    "537dba5b42ac40889dc4b5ad7ec8408e": {
     "views": []
    },
    "538269a5a490434eacbfe9776153861f": {
     "views": []
    },
    "539928faf6b74c2c9c10d8d37dc8ee9e": {
     "views": []
    },
    "53a4f4e1736a4dc6a4793262abe33780": {
     "views": []
    },
    "53c78af35e144445a84317c9bb19a692": {
     "views": []
    },
    "53e74eab518b4003bd7f55798e442365": {
     "views": []
    },
    "53e9a590cf064bfea3db546775c474b3": {
     "views": []
    },
    "53f0da9ed4584d0b915ef44ab9cae65c": {
     "views": []
    },
    "542365196f62454894664b2ae9c3f0e9": {
     "views": []
    },
    "5431dd47169443d296b0a4d4883f3215": {
     "views": []
    },
    "5433eedb551e4e5f9e9180daeceeb7b8": {
     "views": []
    },
    "5435567215ab46309d6be9f565c14b56": {
     "views": []
    },
    "5435d8277cb74c06859cafd095b501a0": {
     "views": []
    },
    "54364deaec6246878f1af7a5a12e14b4": {
     "views": []
    },
    "543f268fc8694e4ba1dfc9a5c718562e": {
     "views": []
    },
    "545861b5d6714710bb867ed3f4993232": {
     "views": []
    },
    "545b2aa314544102b2dd96a057bacb7f": {
     "views": []
    },
    "54729ae573f7432b833467f58233ee08": {
     "views": []
    },
    "547e886a701f442c971bb0a9dd1c0432": {
     "views": []
    },
    "54880e9661304fd984f7d814d05f54c1": {
     "views": []
    },
    "548ea48fa082426297bbb6bf5014e719": {
     "views": []
    },
    "54ec3609a7ed4bf7bd89841c5c9a46b2": {
     "views": []
    },
    "54ed3d7eb73f45c5b686f11b6fc51015": {
     "views": []
    },
    "54f6acfbd5fa42548a920902c02f074a": {
     "views": []
    },
    "550b62c989fb4d4b85014e168199e3bc": {
     "views": []
    },
    "551697963fde4be7a99f1986b5a92585": {
     "views": []
    },
    "551895ef7d134e33bfd3526f16041e3b": {
     "views": []
    },
    "5527a7eb3c224273b3887c30d6a41721": {
     "views": []
    },
    "55370458854f41b28702f47130f8ab2f": {
     "views": []
    },
    "553cd6e784b94418ba2dcdc89ebad340": {
     "views": []
    },
    "5556073772044df798d9585e73eb9d79": {
     "views": []
    },
    "5559bec869784f2bb122fc8a608d505f": {
     "views": []
    },
    "5565b17e769149859b82343c484f483a": {
     "views": []
    },
    "5569db5e3cbe40a2b5ca6ad32b3783c3": {
     "views": []
    },
    "5576136ea18546b48d00184d7847bf71": {
     "views": []
    },
    "558558403a664d51ba1a609ca757b76d": {
     "views": []
    },
    "558e63660b49473cb8e4adcca7e40343": {
     "views": []
    },
    "5592c2cb50014157b9cdde2fab447700": {
     "views": []
    },
    "55a31e8e84d14e8693f45816b9e92c20": {
     "views": []
    },
    "55cae5988ad44ecfb0098e20a0f0d04d": {
     "views": []
    },
    "55ed9f5ba9364994a1ab944cbdcef19a": {
     "views": []
    },
    "5610a4cd0ac24cd4936d45c38fa1223f": {
     "views": []
    },
    "5630b26fb6f7434b8aba563e356b7251": {
     "views": []
    },
    "564226508280450c9bfea23704259d0b": {
     "views": []
    },
    "5672db7b90b24d4388691b2a45d0be7c": {
     "views": []
    },
    "5683e88eca984cc19a64c79eb843701b": {
     "views": []
    },
    "568b355c4d074218863058674571aefb": {
     "views": []
    },
    "5690d446ad9441598c8abf4f93df0040": {
     "views": []
    },
    "569387a59b6b41dc9192464b6333d8fe": {
     "views": []
    },
    "569ec61c376040f1af932b8fc1cf93bb": {
     "views": []
    },
    "56a307ad0e104a058e8727f5dee9a621": {
     "views": []
    },
    "56b3eedd1dc142b88a0b23e14bb7cd77": {
     "views": []
    },
    "56c8596667b141fa9d473ae311346532": {
     "views": []
    },
    "56de17ba92644f7b8953676635ffb40f": {
     "views": []
    },
    "56e9c2a742114f1fba15b9a2f6d36583": {
     "views": []
    },
    "56fbca78ee6d402b8aa37a02110cec92": {
     "views": []
    },
    "56fea9fe218445f8bc2725f1bac02fd6": {
     "views": []
    },
    "56ff08bcb7d54981800155ddeb049a53": {
     "views": []
    },
    "571bf1c0587449ecbc4b92669096b834": {
     "views": []
    },
    "5723c972d08b40df8d11c8a9f0b58286": {
     "views": []
    },
    "572efc60b9d1485eba7953d27d6562fd": {
     "views": []
    },
    "572fe954e554405799bc2887b00c4dcd": {
     "views": []
    },
    "573a763e65e647f2b6788641c38be9cd": {
     "views": []
    },
    "575dab13c9614585aa5e5d3b1ad645f3": {
     "views": []
    },
    "5761cbff1fb5475d9f917d0dfc5f4b68": {
     "views": []
    },
    "578012039f4e4dfe8591fbe8c6fcc0e0": {
     "views": []
    },
    "57801b49e8cf4f668a19b95671ad11ac": {
     "views": []
    },
    "5784384010e5428480b9fa27581ebf14": {
     "views": []
    },
    "57a04cefd8394325b479726e08cbaf57": {
     "views": []
    },
    "57a5373575c84897a66c7b030ea22c7b": {
     "views": []
    },
    "57bebea9c6184fc39c5041d6f9108744": {
     "views": []
    },
    "58176d57e0464397a5aeb3415286316a": {
     "views": []
    },
    "581933b7a32a42729507ff7a0c9de1db": {
     "views": []
    },
    "582fd153d4604ba1ad133ca3a2f320a4": {
     "views": []
    },
    "584e564918c748c897968cbdb3934157": {
     "views": []
    },
    "589610ccf00647f09453d2768895d4dd": {
     "views": []
    },
    "58b2815763854972ab82fb39803d8c11": {
     "views": []
    },
    "58b912c2cae84619a2e019b9ac24a8ac": {
     "views": []
    },
    "58c38cd1016247448761c167b23ab47c": {
     "views": []
    },
    "58c76a2c6cdd4734a276a1073b7bfbaf": {
     "views": []
    },
    "58d12bdc9c8847cc97b48822e13bc50f": {
     "views": []
    },
    "58e3cd94951e4257bafaba2022331a9b": {
     "views": []
    },
    "58e72c930f694e93b6e1ba149f491b37": {
     "views": []
    },
    "58e769359cb844fdb89285ba0cc39b8a": {
     "views": []
    },
    "58f231992a3f470faf5c14ed5002ba81": {
     "views": []
    },
    "591a67b7481d4a9fa08a8cdd2a54fc0f": {
     "views": []
    },
    "592eecfeec0e4b9d8e3f54adab77cc58": {
     "views": []
    },
    "5933da60765246689c1fe953c5e2634a": {
     "views": []
    },
    "5942b7d65490483cbd6158debd495a5f": {
     "views": []
    },
    "59490e2d164e40cdbb531bc35c7dbb69": {
     "views": []
    },
    "59529ad243224ad883dff3fb4db1cf0f": {
     "views": []
    },
    "595ea53361ee43048b8b24618d47b6fe": {
     "views": []
    },
    "5960e364066a4a99a66dc4143bcb96b1": {
     "views": []
    },
    "5966dc41a22347c59aeaface40ce0854": {
     "views": []
    },
    "596efa47df524ac39eea0a36a9cfa11d": {
     "views": []
    },
    "59775597f1384dea9a54a76b44364643": {
     "views": []
    },
    "59786b8b7b5542e58f64161a09707288": {
     "views": []
    },
    "597d3b6cfe9045429208ae4e6e2a3d5b": {
     "views": []
    },
    "5981a60199bc4632a579e791a47f5cad": {
     "views": []
    },
    "598c0ef67db145a195b7f23c13a7d7e2": {
     "views": []
    },
    "598f806e544048498e2117bcef8382d8": {
     "views": []
    },
    "599b4e8a4c2e491b8b1255d29d3663b3": {
     "views": []
    },
    "59a5acbbac2f4caeabbfdb210b524ccc": {
     "views": []
    },
    "59c2360e7b894398b86cac1a3df2a88f": {
     "views": []
    },
    "59cc30cdfe8145d59943e8415c682361": {
     "views": []
    },
    "59da1abfb67442e69bb595c10dbbe07d": {
     "views": []
    },
    "59fc939661354225998581a62ebe378f": {
     "views": []
    },
    "59fe1d6ca43e4aacbdccdb1bd594d382": {
     "views": []
    },
    "5a396c542855425ba22bc7e7b9a24a6d": {
     "views": []
    },
    "5a3f5245d6b04346b9826244fc70b126": {
     "views": []
    },
    "5a6cb878307a4805af7190f258a059bf": {
     "views": []
    },
    "5a7b05c333aa4f51a325eeb5dd428701": {
     "views": []
    },
    "5a7b115d6df841bba2aefdbd91ff6150": {
     "views": []
    },
    "5a7c7c1a39c14798af9585ca3ad242d1": {
     "views": []
    },
    "5ad20242829a43628a2f7fb40a2fe4aa": {
     "views": []
    },
    "5b177a39c9d7479883392568f4ed281d": {
     "views": []
    },
    "5b1891e1cf4e417aadbb60cccbff3456": {
     "views": []
    },
    "5b21762dbb544fa9a82d9a88761fdeb3": {
     "views": []
    },
    "5b54b7317a5243d49339832d234fa935": {
     "views": []
    },
    "5b55b83b4e064165877a0ea25e548503": {
     "views": []
    },
    "5b9b4de5232c41b99d589679f8ad62bf": {
     "views": []
    },
    "5bc8aaefbbca40598b939ad4da74f3cc": {
     "views": []
    },
    "5bcc8507c585493191c535d735022b1f": {
     "views": []
    },
    "5bd5f796d6cd4efd859218a3ac6fab7e": {
     "views": []
    },
    "5be0b464a6e44abfaccb017993022fd3": {
     "views": []
    },
    "5bf34913131348c995d4812228d8e1a8": {
     "views": []
    },
    "5c2db76413d74691b5aeb9c34b51d4f1": {
     "views": []
    },
    "5c736256ac834e108fb14f90e44d3d4b": {
     "views": []
    },
    "5c79f4cc962446d185b0e42fa95ef737": {
     "views": []
    },
    "5c8463ab27e445a48fa34d4e2b349e38": {
     "views": []
    },
    "5cc3df50644f487d9859d1bf286543d6": {
     "views": []
    },
    "5cc881a2d8ff4396a6ff10df545e17e1": {
     "views": []
    },
    "5cde24ba5e6348378f2eb82dd70d5713": {
     "views": []
    },
    "5cedd3c6f3a140469ac20b609ad74aea": {
     "views": []
    },
    "5cfad5b2c6b6475faf72c995d422b537": {
     "views": []
    },
    "5d0f40d1313742bd80fba55d3518193d": {
     "views": []
    },
    "5d1ef3998f7846789c722fc3cbdfe089": {
     "views": []
    },
    "5d2caf298ea1420982b0e39d2071e05e": {
     "views": []
    },
    "5d37482098364338a8604c245725a41d": {
     "views": []
    },
    "5d45fdb69f5446348438dbcad54f37b2": {
     "views": []
    },
    "5d5344833a9d48118e08b51661ec8aea": {
     "views": []
    },
    "5d57c6dfa2fe499baae57ac00858b5de": {
     "views": []
    },
    "5d6ac5d7507d47d1ab47b4070193963b": {
     "views": []
    },
    "5d8a0fb97f784516af3c466e8d560c1d": {
     "views": []
    },
    "5dae1efbfcb04736bcbe2609c2006216": {
     "views": []
    },
    "5dd952df891f4665ac01f82aca0fbdac": {
     "views": []
    },
    "5de5e67d893b440b98bc482411ceeed7": {
     "views": []
    },
    "5dec8d2abcff4ce98c4e00263e672b47": {
     "views": []
    },
    "5dfefd631c824e3385c2872cc8889c52": {
     "views": []
    },
    "5e1760c5abd146c787ae16bc470c28ee": {
     "views": []
    },
    "5e1c7c1860b24a5eae8ad81ba5d3d11f": {
     "views": []
    },
    "5e29ecfe623141f199a90e21dc8a14a3": {
     "views": []
    },
    "5e39f469fa374bf6b78fb7f8777da4fe": {
     "views": []
    },
    "5e43eda010f94036ad268101f4b4d184": {
     "views": []
    },
    "5e48e90bf3b74a2daeef56b029d8f1dd": {
     "views": []
    },
    "5e5447ee1c69460e8101acb5cb602f05": {
     "views": []
    },
    "5eadfe6f271a4e3aabcd86d909f00525": {
     "views": []
    },
    "5ec7377375684cb1839ca91bcd00bb63": {
     "views": []
    },
    "5ed7ec90bb454ea382e8c7871a0708bb": {
     "views": []
    },
    "5ee1b6afca7d4829903e8b0ce4f425d6": {
     "views": []
    },
    "5f0dcaecf8b747be9458fcd52d5ab3bc": {
     "views": []
    },
    "5f18b5e0dcb940faad4cc54585326639": {
     "views": []
    },
    "5f287295ebb04801af0d9f4f9d3f7167": {
     "views": []
    },
    "5f29356712844c6c9a2299cabea79cb3": {
     "views": []
    },
    "5f44137b1a2c44c6a37f706d9b6590c2": {
     "views": []
    },
    "5f4f272f7f1744099d46566ddf799ba2": {
     "views": []
    },
    "5f511a4c3b394599a81af67b46c0cd63": {
     "views": []
    },
    "5f603105b89c41c1ac4fdc8c49eafee8": {
     "views": []
    },
    "5f645c6fafa74a6cb4f672115a06ed47": {
     "views": []
    },
    "5f76aaad70d94370901c1c29ba58c01c": {
     "views": []
    },
    "5f7f73aabbae45b3be000077e9a18b45": {
     "views": []
    },
    "5f85c59294a6400ca02b067fb0007a2f": {
     "views": []
    },
    "5f8ef09a6fcd48fa8997aec2ef3c72f0": {
     "views": []
    },
    "5f978dcfc14d4457ab9376c38dafb51b": {
     "views": []
    },
    "5f9ccaf38b3348a090e2d9d6beb31361": {
     "views": []
    },
    "5fb459f46f8c469dbca19d760ef384ac": {
     "views": []
    },
    "5fb518120d36497196866d7ac5047d93": {
     "views": []
    },
    "5fb8621bafda4012a4357d93214d3df8": {
     "views": []
    },
    "5fb8f20fbb09417bbe73478468d5f3e3": {
     "views": []
    },
    "5fbe3f35e1e2481d88b213137e229ae6": {
     "views": []
    },
    "5fcb9d78d647412cb0924dfef982e654": {
     "views": []
    },
    "5fefe617aebb4a1b9ce50408cf0ffa79": {
     "views": []
    },
    "5ff8eebc4e6e4a7c9ecb17fdacf5cb3f": {
     "views": []
    },
    "6000167ce6424aabb4eb3a1ecbfeb6da": {
     "views": []
    },
    "6036f3b273004de8b632200a8b82e129": {
     "views": []
    },
    "606b22113a644e9fb2ab2ab70f325c54": {
     "views": []
    },
    "6085d35036b14d7cac19debd6689bc5a": {
     "views": []
    },
    "609a4f98e0844a1eb86631fd20beb5b4": {
     "views": []
    },
    "60cada3ab11a4447ac2646b2fd0b0b34": {
     "views": []
    },
    "60d3656c969b4c2caaad231d33ead1fc": {
     "views": []
    },
    "60e86ea21bb148fa80e156f25e9c14db": {
     "views": []
    },
    "60e9a93556f6404fa577d06ccfb04e70": {
     "views": []
    },
    "60f585db42ad4f4aa2a0233a6019c839": {
     "views": []
    },
    "60f7d7a466a34f9aab8b51fc4eb5468d": {
     "views": []
    },
    "60f9ad0a459548f58c38963459357b9c": {
     "views": []
    },
    "612d1b564ddc4ea19683d6ce7ccab0f2": {
     "views": []
    },
    "6137c44a08874f17aa024abe6149bdb5": {
     "views": []
    },
    "613fd02f3d784eccae2a804e109df00d": {
     "views": []
    },
    "614c627836034180b32deaaf9a91cad8": {
     "views": []
    },
    "61508ad0018247bd8da5ae1ade2a5260": {
     "views": []
    },
    "615a2d8206df47d18ed849a321a48d69": {
     "views": []
    },
    "617059ce0add44f7916df7a645cec6de": {
     "views": []
    },
    "61b01ddc8da14386b6db7fcff5acc9d6": {
     "views": []
    },
    "61baa70ab7444e86b22c6c558fc34601": {
     "views": []
    },
    "61bd838ef8f3449f9d1186c57b803a9b": {
     "views": []
    },
    "61c2406a237747c1885a3459c9e37aea": {
     "views": []
    },
    "61d1a603e6ba45b6a5bcb5f64a3b50b8": {
     "views": []
    },
    "61e8fdfbf6574625bfe01cf3f1c937a8": {
     "views": []
    },
    "61f462bc7a8547dcb182e61fc212166e": {
     "views": []
    },
    "61f86b7e29464a1a92feee8d5a79ca25": {
     "views": []
    },
    "621242bc509c457eba068c0d823f3bbb": {
     "views": []
    },
    "621d1cbf73174792a630fd24c0c9eebe": {
     "views": []
    },
    "621f7a2b00d640d383457b0b2c72cf40": {
     "views": []
    },
    "621fbb7de1844b5b8a23a905c59cbb83": {
     "views": []
    },
    "6242e976adb24070b251929ca8db4c0a": {
     "views": []
    },
    "625205661f7c4550a97887cda0c07eaf": {
     "views": []
    },
    "625e6550f66949b7b0bff0f72981ec16": {
     "views": []
    },
    "626cfbba5d8949668b1f3992cdc325a9": {
     "views": []
    },
    "6286835450b2456c8fb418b64046ceee": {
     "views": []
    },
    "628e336a1dff416fa7137bc0a989c07f": {
     "views": []
    },
    "62a2006d00a34a35beeb36c8574d8032": {
     "views": []
    },
    "62e0ed9903d241bbac28780f28e1bf4f": {
     "views": []
    },
    "6324c2b35f5746fb867391ef1c087df1": {
     "views": []
    },
    "6344c69392004da697342e84734d4796": {
     "views": []
    },
    "63514f2cc05e4f7e9db89a4b96deb651": {
     "views": []
    },
    "635bbe2440314bd08748fd4f97ef3e1f": {
     "views": []
    },
    "637d84ea76224e33b2468eee9bbac340": {
     "views": []
    },
    "63b24f931f8d4f06a12172e5b070f306": {
     "views": []
    },
    "63c66995f50147229ba941e549901b0b": {
     "views": []
    },
    "63c94818020b44d691f6f83626829b7f": {
     "views": []
    },
    "63d652dba9ef4f1799b717410377fa7a": {
     "views": []
    },
    "63deecdd567b4c51b40c244c3aa2e5bb": {
     "views": []
    },
    "64024ccfc66b4a4aadacc17b482f16c3": {
     "views": []
    },
    "64087243f9c44247b8ac1e93f7b68239": {
     "views": []
    },
    "6421a113e9194fdfb3f4adebeba5a07d": {
     "views": []
    },
    "64263e9765544f22a899e92f11ae884b": {
     "views": []
    },
    "6430df06d4a94a2a9e3036a94f56695a": {
     "views": []
    },
    "6431fe0c3860421cbbad56ea02a671a8": {
     "views": []
    },
    "6432e587ba614c7e947ddd1bf8bde2ae": {
     "views": []
    },
    "6462834bfff04f04b3b810e526e52a49": {
     "views": []
    },
    "6464f4c0d2e942eb93b10a4a812c916a": {
     "views": []
    },
    "648286090a4f40d79d9960ca79d128e6": {
     "views": []
    },
    "648406b7bb7840e6b067a9705fd69f29": {
     "views": []
    },
    "649b7b5c944d4b298fe0f47ef4617a05": {
     "views": []
    },
    "64ab60abc4c943308a720db3e59b3c98": {
     "views": []
    },
    "64ae4b5387a445119e39c18b6a89b952": {
     "views": []
    },
    "64b49870e9ca42f19d0c8c7752418c1f": {
     "views": []
    },
    "64b7fb3407d3451ab15f5190d1b9c12a": {
     "views": []
    },
    "64c72042456c49c8acb4235c23923f5c": {
     "views": []
    },
    "64cc01bfe3eb44ebb1a59dd969a6d265": {
     "views": []
    },
    "64f6e5388003416396c6cd35a622469a": {
     "views": []
    },
    "64fa5ab4babf4ae394bccbeb01a8a066": {
     "views": []
    },
    "65037956601046d28aa44662523944d1": {
     "views": []
    },
    "652cfd3ef3b74fbe990d49701f9bc89c": {
     "views": []
    },
    "6546e29defa94a00a2ab121e92643a55": {
     "views": []
    },
    "6553efd14670492e96408698b006e826": {
     "views": []
    },
    "6557fbd4e620497483478e1de61c0793": {
     "views": []
    },
    "658e57412cbe422ab68eb085b4d49119": {
     "views": []
    },
    "658fe094f9bc4d1b81cda0a8a8086fc1": {
     "views": []
    },
    "65c89d007259484c9ce802b99ec8d617": {
     "views": []
    },
    "65d80ab674cd436680c5a14b9391327c": {
     "views": []
    },
    "65d8679799574051a29982d04a514c5d": {
     "views": []
    },
    "65eb9b0649f54c4399779ce9d6d94f64": {
     "views": []
    },
    "660ea0a1e5644ba2b9b0158eb96119e5": {
     "views": []
    },
    "6617977b27f34ae2a8228dbf7a323784": {
     "views": []
    },
    "661a8a0930e0431698a67db6faec5258": {
     "views": []
    },
    "664a3869810a48f1893dd4eb9be55fee": {
     "views": []
    },
    "6658ef60e6a44474a9dc56552b11234d": {
     "views": []
    },
    "6664e898681d4d45a1e5651551f3eb15": {
     "views": []
    },
    "66710cb667304c57a0a9c65af5852201": {
     "views": []
    },
    "667c73c5544e40f68a1bd9f720d7f5ea": {
     "views": []
    },
    "66872a829f4744c293c0ccc376a32bbb": {
     "views": []
    },
    "66be2b94820240c6b1e5278c083f4917": {
     "views": []
    },
    "66c15874d371485ea09fa11214ed0acc": {
     "views": []
    },
    "66e4f02253e6442fa855ed0d186b6b44": {
     "views": []
    },
    "6705b54264e9483caf5e947e5f3bd97e": {
     "views": []
    },
    "670608836d0b4f709f591933627d1928": {
     "views": []
    },
    "670f38a5a5864f19b301769785d91463": {
     "views": []
    },
    "6712466d86b044e8a639c25691a0ae66": {
     "views": []
    },
    "673975bf341246c2a62c80475a33cc63": {
     "views": []
    },
    "67686d9a14a44ea3a4acedd6434d7f54": {
     "views": []
    },
    "67b242c7ca26413da8559b6aad4e84f4": {
     "views": []
    },
    "67caf31447784003abf5c8fddfcf6950": {
     "views": []
    },
    "67e6dcf5dba8408995d4f1d093601d51": {
     "views": []
    },
    "67ec917a8d674a54abd9dfde4f1cce8e": {
     "views": []
    },
    "681ad266377e4359bee155a0f813ee26": {
     "views": []
    },
    "6825035582ed46c6876decf256179fe6": {
     "views": []
    },
    "6827f2cc72264a2186251c81e49758c2": {
     "views": []
    },
    "684211417202470fb8d30b6d349813d1": {
     "views": []
    },
    "684b3246c5844caba96f47c98d92d356": {
     "views": []
    },
    "68600d78c23b4540b142b3d9dc5111b9": {
     "views": [
      {
       "cell_index": 35
      }
     ]
    },
    "6870e00302834703aaa73905f4274beb": {
     "views": []
    },
    "687354fc6cbf4fc18bea097d969b1683": {
     "views": []
    },
    "687a676eb7a0478580232d05bcb67749": {
     "views": []
    },
    "68a9b54800bb49d7860140482cd23285": {
     "views": []
    },
    "68c9d5bab8c54ebdae2c4d086edef35b": {
     "views": []
    },
    "68d3b6245e0540b2964c7795f1de418a": {
     "views": []
    },
    "68f81849bad745b4aeb5e7e5d53d1769": {
     "views": []
    },
    "68f932cbe62546639f4d4f1b93bc598b": {
     "views": []
    },
    "691387c60c5b4345bbb80548ee878b88": {
     "views": []
    },
    "69545885666f44fbb8d0d485866fc595": {
     "views": []
    },
    "6954c67b3fc64b28a5a2d5d53ed264c5": {
     "views": []
    },
    "69596f0de388425c8614994537586c93": {
     "views": []
    },
    "6961697560364f298bd747041d989116": {
     "views": []
    },
    "696eb239654c417385f6601bc92cc1a9": {
     "views": []
    },
    "6974fbf7a5ae45e3adf00fce2c519ddc": {
     "views": []
    },
    "699f4d3e0a4a44e08d3d0f080a54407b": {
     "views": []
    },
    "69faf6cbed584244993e6c36675140e2": {
     "views": []
    },
    "6a2567782e4941cb8099b560312bd469": {
     "views": []
    },
    "6a38cd7ccb2b4b0ba4ea557f23c1eb4b": {
     "views": []
    },
    "6a41cc9465b44d70b7229ce86ae7e359": {
     "views": []
    },
    "6a500915be31416cb32d6e56b06d3417": {
     "views": []
    },
    "6a69336f8c0b467aa747a0f0ebd0cef8": {
     "views": []
    },
    "6a9c7eb1d1b441d29c4e7b5a443f65b3": {
     "views": []
    },
    "6ac2d28d9bb34a80908f5161bd054d69": {
     "views": []
    },
    "6ac4d9e54df24013825338b2db0530ca": {
     "views": []
    },
    "6acbf16af7e94b56a860469f218f8683": {
     "views": []
    },
    "6af543f5cec9426da222ca362695b280": {
     "views": []
    },
    "6b14901fa7c547e6bb67f3ec53a8e661": {
     "views": []
    },
    "6b17be997bb34be697d8241a8eeaf58f": {
     "views": []
    },
    "6b203813a6a244efa604e24f1595be27": {
     "views": []
    },
    "6b3281ad92494d7993f838722572a3bf": {
     "views": []
    },
    "6b54a465d7194aaaa89cbd3b2d227dd1": {
     "views": []
    },
    "6b5a66ba55794d23b8c3761c878b3f3b": {
     "views": []
    },
    "6b6e6e3535874253bc5f36b5996f1a5a": {
     "views": []
    },
    "6b75418325be4b49a39de65bc41b095e": {
     "views": []
    },
    "6b98b1f25aa44c0c87d13f1c902b1469": {
     "views": []
    },
    "6baf6ddc59a64b4980c764a6a4585c3c": {
     "views": []
    },
    "6bb226d9f2a143d0812b424a87cca2e0": {
     "views": []
    },
    "6bc8ecb2e1da40e487713ecdc43cddea": {
     "views": []
    },
    "6bc90f2e3e2949d6b863a005588162e8": {
     "views": []
    },
    "6bd4dd0d0536436cbac8f6a650196374": {
     "views": []
    },
    "6bd7385a94fe4c37b3ab4fe892c7f377": {
     "views": []
    },
    "6bdf2fc5daa240a7a84acfdb39095002": {
     "views": []
    },
    "6c0ecd3c74844f1e80a2553473100889": {
     "views": []
    },
    "6c1d49f869714addad5cb9688bd1dbc3": {
     "views": []
    },
    "6c332ef877934978af9438570ef6907b": {
     "views": []
    },
    "6c71f13569014f95993b6e2d2b788d4c": {
     "views": []
    },
    "6c72632913e748e8a687ec8c36586869": {
     "views": []
    },
    "6c758d21fd81406382c39942c5c4c4e2": {
     "views": []
    },
    "6c847c64881446abba78e7939ddd17d1": {
     "views": [
      {
       "cell_index": 30
      }
     ]
    },
    "6ca2f360ad9f444793179f2aa0df7b6e": {
     "views": []
    },
    "6cba294fa8914422a14674b205a713ab": {
     "views": []
    },
    "6cdeffbba5cb480bbd5d59dfbf1dc377": {
     "views": []
    },
    "6ce02bb93f3e4e31bdc3f675c2fb5f85": {
     "views": []
    },
    "6ce4de34541b4fad8a40facf0b2861ea": {
     "views": []
    },
    "6cebf6d1286446a696f46d7a0bdb891b": {
     "views": []
    },
    "6cf1dfc6473a4e0abb8a0c812d7fb36e": {
     "views": []
    },
    "6cfc62e4f5ca481f9e7ad182a3af3036": {
     "views": []
    },
    "6d1f4f39fca04a0eb2974a6e0f0f3b5b": {
     "views": []
    },
    "6d280a685ad440149025c4ec6bd9e278": {
     "views": []
    },
    "6d2856cc7a3146418153da8acd72ca67": {
     "views": []
    },
    "6d409b07e12f42b59504a19b6642bdbf": {
     "views": []
    },
    "6d76f2739aed4e438d8ff7e0db95e7ca": {
     "views": []
    },
    "6d78398bea7f4d989f1dd68ff68d7b35": {
     "views": []
    },
    "6d79e41b578a4f89b6a0c3a172886b8b": {
     "views": []
    },
    "6db488559fd54166ab03008d480580e4": {
     "views": []
    },
    "6dd387ca91834f169ca8d8a3fefb0ff5": {
     "views": []
    },
    "6dd3f3fb2fbd404c96278ca713ce98b2": {
     "views": []
    },
    "6ddf8eaa4d824a48bf72704fc458e817": {
     "views": []
    },
    "6de2e2ad58d345f684c3829887dce04d": {
     "views": []
    },
    "6dfb5f71302940ae9c37b52dfcfd4e21": {
     "views": []
    },
    "6e027a39de644e70a51655bedc8e82de": {
     "views": []
    },
    "6e04b2038d8f42c88974649c79595a64": {
     "views": []
    },
    "6e10dabb327440879f35edc237eb54b4": {
     "views": []
    },
    "6e1af1823a2548feae8dd8999185ef20": {
     "views": []
    },
    "6e4115fd94264361b4a6336aa7a44be1": {
     "views": []
    },
    "6e4da00aa00249f7b1ea80c3904e2048": {
     "views": []
    },
    "6e524c9b8bf543839d7e39971528d602": {
     "views": []
    },
    "6e58f6aba0dc4a049f353c85dfaf9bbe": {
     "views": []
    },
    "6e5a00cf3d8e4836a7e53e7d266f42e7": {
     "views": []
    },
    "6e5a2639942a4214ad559b721ad67bff": {
     "views": []
    },
    "6e69adc76f6041bbab0fce6ab2164fcb": {
     "views": []
    },
    "6e886e7b79664d6ba9cc73fb0a534348": {
     "views": []
    },
    "6ea452df09b84059973a4e99dfc4bb10": {
     "views": []
    },
    "6eb599958aa847e9ba05f3adab25aae5": {
     "views": []
    },
    "6ec4fe4e1ec84e04b2bae5da1da0c9c5": {
     "views": []
    },
    "6ece0337905740bdb4f39456f836dd82": {
     "views": []
    },
    "6edbc30745594a8ba28bdf4eb42c83bd": {
     "views": []
    },
    "6ef31a25a0ac4c738123f2d95b07b3d0": {
     "views": []
    },
    "6efee6e185af451c8dbcbe2141bdc213": {
     "views": []
    },
    "6f1c6c948128456cae2d5ba3f4797e12": {
     "views": []
    },
    "6f209b61b9be4b38b7461caaa59c6b87": {
     "views": []
    },
    "6f6e56aeb9b44141af4247e1599e7080": {
     "views": []
    },
    "6f8fe5e81b15455eafe688a7b0e0cdb7": {
     "views": []
    },
    "6fac5b708cd5486685d027225aef8369": {
     "views": []
    },
    "6faedc2052e44125988988aa38b74791": {
     "views": []
    },
    "6fbb1c03cb524d6babc3dfdd47aec95c": {
     "views": []
    },
    "6fc1942b86e74ffb8a8fff376c16a6d8": {
     "views": []
    },
    "6ff80e9d2d7b4a14a9a1cea3066e5d5c": {
     "views": []
    },
    "6ffa8deb45f4401b92c320375aba838a": {
     "views": []
    },
    "70193c38456841c3860dc35498e7f01a": {
     "views": []
    },
    "701fdff0673b4e458068b6c9dcc1c8aa": {
     "views": []
    },
    "70346d5438e64dfcb81f14cbf2fd92c3": {
     "views": []
    },
    "705e377a8f184c7bb649bfad9a6c4f51": {
     "views": []
    },
    "7063224417694c809e813c11210f8442": {
     "views": []
    },
    "706acaab30a94b1eb34c120af2807d6a": {
     "views": []
    },
    "70a946a088b34bac80f8c39eddf7341a": {
     "views": []
    },
    "70ae9029eacf4da48990d8a27fa7cff3": {
     "views": []
    },
    "70c2fec6338d4d4b88765015e4ffbbc1": {
     "views": []
    },
    "70e027834c1845b7b67e6ba435e740b6": {
     "views": []
    },
    "71082cecfbae4ce78eae49bb948ddb1c": {
     "views": []
    },
    "711756c8a33b4d71bd0d2d9224e091e4": {
     "views": []
    },
    "7147ea27e2664d7ca83a02469b3bf274": {
     "views": []
    },
    "714ea111cfb64d0dbc41bceb053299b7": {
     "views": []
    },
    "715291975b8c46df89ba84025de89a94": {
     "views": []
    },
    "7161d1dbf3d0484ca9dceb94df9ef88f": {
     "views": []
    },
    "716ac629a4b94492bc1ce70e2a1fc0a9": {
     "views": []
    },
    "716d57f7112b4efc9f85b58a26d9016f": {
     "views": []
    },
    "717b7f0b710147e8bbe998d9597dbf0d": {
     "views": []
    },
    "719b36a54f2640cca6d6f64e8d6a1fbc": {
     "views": []
    },
    "719ce463dc064880802205a33b4b2659": {
     "views": []
    },
    "71afd22c558e493f8ef6b96bc0fa4f3d": {
     "views": []
    },
    "71d0432cd92146f1bccc374e2cf38513": {
     "views": []
    },
    "71e464e804c1406f85988d06d69c7e7d": {
     "views": []
    },
    "720713fa0e7b4eb1b4bbfa2da5ae3c86": {
     "views": []
    },
    "7217ede89e994fbd8640f0c1bd4aa041": {
     "views": []
    },
    "722f886efab34e9cb0f100babc24df77": {
     "views": []
    },
    "7232b1b4a23e423dbb3455b4c89f3dcc": {
     "views": []
    },
    "7242570f21c14930bc6047f4735b8eb0": {
     "views": []
    },
    "724d600459f24b8594429ce7bba1ea11": {
     "views": []
    },
    "728275225c6c4028963ee1f39f6398ac": {
     "views": []
    },
    "72943ec2b38a4ee38807a7eb83022acc": {
     "views": []
    },
    "72a2c115dda641b3a47729def0342f14": {
     "views": []
    },
    "72c0c4803a684d8e825e63bae899a134": {
     "views": []
    },
    "72c9f57afbd0422c8b904636132484af": {
     "views": []
    },
    "72e0687b6ad34e1e9cc1a3f820086e22": {
     "views": []
    },
    "72e6ecb5160f43e2a7a635d30cd6587b": {
     "views": []
    },
    "730667e0ae7743ebaa2a1775ac994b6b": {
     "views": []
    },
    "731e9ae59bc54e6097d1022804a24727": {
     "views": []
    },
    "7353d8a6f294456e82c69744745d81a0": {
     "views": []
    },
    "73702174e8574db89aab9929e9f77d84": {
     "views": []
    },
    "7399a1e2b8184a92962e14265f05627e": {
     "views": []
    },
    "73b630d6365348228de68bf756b3de0d": {
     "views": []
    },
    "73eb883f35474c9dbfe5f0eb067d6eed": {
     "views": []
    },
    "73ed7cfe8ab24fa3ac1852308bfc1338": {
     "views": []
    },
    "7402431a33974e11b41e3300eea6b28e": {
     "views": []
    },
    "743c310aa2c649f2b5dc747058091740": {
     "views": []
    },
    "744266d64b994ce092bf6440466bbdeb": {
     "views": []
    },
    "744bb9f2322d49d4afd9b7d7268c5b4a": {
     "views": []
    },
    "745d32f7261a4cfaa0d0416289feecd8": {
     "views": []
    },
    "748a631d9465473b96aec8eca76e345b": {
     "views": []
    },
    "74af4c643ee84f36b03be170a3b2045c": {
     "views": []
    },
    "74b3b142b12242f28b9ddfa92fe85df5": {
     "views": []
    },
    "74d5868ac5264f0fa551bef0f3c8b21d": {
     "views": []
    },
    "74daf7d23395473ca41750f9d9f27fbc": {
     "views": []
    },
    "751ac7e9de1e45668d48fbcce1dc27b6": {
     "views": []
    },
    "7521175507dc416dbf26356c60c5f3b9": {
     "views": []
    },
    "7524a87808014b15b80b99776876c905": {
     "views": []
    },
    "753814965b724960ba32832fd3720f84": {
     "views": []
    },
    "7543dc9b9bdd44818fe756ec8a235004": {
     "views": []
    },
    "754e0a04fb1349e6b37e5b12f763a0ac": {
     "views": []
    },
    "75534cbbdcc8429d987c67081db0da2c": {
     "views": []
    },
    "755bc087ac14402f8be322a681a65662": {
     "views": []
    },
    "75695cce84e04a588539bfe5ee6ae8d7": {
     "views": []
    },
    "756e71483c65499d9a5f7e40b48e1683": {
     "views": []
    },
    "7576a4dbe08046519212fd25fd6e3641": {
     "views": []
    },
    "757e13e85cc846bca23ff9f95f4d2ab4": {
     "views": []
    },
    "758d0080c62d4f98ac5a036891dcb44b": {
     "views": []
    },
    "75a268d821024109879b34a5d7b67cd3": {
     "views": []
    },
    "75c91c21e07b49cfb2788c5e2f846330": {
     "views": []
    },
    "75e23d209d564a51a27fd177037eea67": {
     "views": []
    },
    "75f9eede9a404225a4ae31c18628627a": {
     "views": []
    },
    "760fb06aa4fb4795b8dad3cb45df3606": {
     "views": []
    },
    "762c793c544347d98461290e63af1497": {
     "views": []
    },
    "7655568c85e344c1889c3df765e62400": {
     "views": []
    },
    "7668217400eb43dd9954eed70b844e97": {
     "views": []
    },
    "766e6fe8166a46fa8a4254cb91cf39b1": {
     "views": []
    },
    "767d28c91a2a4db891b43505ed672c6f": {
     "views": []
    },
    "7693c60a1c8c4aad9035d3ba912c3d1b": {
     "views": []
    },
    "769de17cd7cd47fe85a659dbb00b3ef2": {
     "views": []
    },
    "76a2e7888d3741fbbd833d4cbb6b8e0c": {
     "views": []
    },
    "76c4c0a297894de6b0b7d9777a5727ba": {
     "views": []
    },
    "76d07c6c5ca24b0699545615eaaa92ce": {
     "views": []
    },
    "76de3d624f9b4f1884a3033ea20be88e": {
     "views": []
    },
    "76f5ffda4cd4451cb11ddb1fd0c5178a": {
     "views": []
    },
    "7727143c29fc446b9f7345a789d6ca2f": {
     "views": []
    },
    "77369525aff9486c95073615bb05f457": {
     "views": []
    },
    "77707cba996445ec8580356967933b40": {
     "views": []
    },
    "77992bb833714cbead604c4e7ff2de2f": {
     "views": []
    },
    "77a49c30946740ceb5685775f943c966": {
     "views": []
    },
    "77a9d7f9e95c446db1357e45380c184c": {
     "views": []
    },
    "77b586353b5b4cf7b9a9d991c88141a9": {
     "views": []
    },
    "77caad8c967246009901cf841b943cf6": {
     "views": []
    },
    "77d077004543414a8f6a6a05b355e8db": {
     "views": []
    },
    "77dfd0563893458bbb94f201cace5885": {
     "views": []
    },
    "77eae890e4c240ed9c873b75a33a39e0": {
     "views": []
    },
    "77f2327e8d0d470a9e2c417c6389f7d6": {
     "views": []
    },
    "77f56d49fc0d4a30bb4b9476255ba024": {
     "views": []
    },
    "77fe7674798a4af0980473a2394920f4": {
     "views": []
    },
    "7801f5c558d74d99860f78add3d5278c": {
     "views": []
    },
    "780cb0caad1641fd88bdd463d96e7b1e": {
     "views": []
    },
    "78217d62c54e4844945f62067c233369": {
     "views": []
    },
    "7821d0c331b2456f8c0f57cbce5a5465": {
     "views": []
    },
    "782366ada727428a82906d5c07a7d723": {
     "views": []
    },
    "7829b18bffa946c08a9221804bc088fd": {
     "views": []
    },
    "786e8588ddde4f428e63c7e0d948b880": {
     "views": []
    },
    "7880cfd7c92c4330b0c18b600fbc4faf": {
     "views": []
    },
    "7893b72911234584937dd67c95f921ee": {
     "views": []
    },
    "78cdca889ccd496cbd66348dbf84cd7e": {
     "views": []
    },
    "78ef752390b64ecfb16f3d0d0750d59b": {
     "views": []
    },
    "790c7d1b0cfd47cebd4992641dbf7249": {
     "views": []
    },
    "791ad5d2794b4a95aa99febde92212de": {
     "views": []
    },
    "79371a2a9b444c668e27fb445aecf1a3": {
     "views": []
    },
    "796e636eb3c54aadbaff4b2cb699f541": {
     "views": []
    },
    "797a01294ba54b849af9ca53137df96b": {
     "views": []
    },
    "797fc8f000c54b3b8689d65aace195ac": {
     "views": []
    },
    "798228c6c9064afe9c912ee27c00e593": {
     "views": []
    },
    "798d44477b77488c8acd68bbc24d933e": {
     "views": []
    },
    "798f3729dded42cb9fc9394f0f921798": {
     "views": []
    },
    "799dbf98e6b740579afaa9fc612e9f31": {
     "views": []
    },
    "79abe542c60b4736ac575e1af65eb223": {
     "views": []
    },
    "79dcc0f9f1e04b71980100164fd2d75b": {
     "views": []
    },
    "79e33827e524434aa59fc202060801f0": {
     "views": []
    },
    "79e6c650305340c885a6b4f2ce454728": {
     "views": []
    },
    "79f5e3ce0a2d47ea87ee1d9295e13e67": {
     "views": []
    },
    "7a3ec4cccbee48789a93d20b88c31421": {
     "views": []
    },
    "7a49126d6cce49a1aea4533cc55eb8fd": {
     "views": []
    },
    "7a78f0839c3349128a797b44c66caf4d": {
     "views": []
    },
    "7a964166f1ab4786a2a6c37271af570c": {
     "views": []
    },
    "7a9ed813302b49dc93a23c02376100af": {
     "views": []
    },
    "7ab2bffc89cc46bfbd5ad6e218c867ca": {
     "views": []
    },
    "7ab4cb6dc88441349cade9292af7f7ae": {
     "views": []
    },
    "7ac5c3edb011427a91c98616d6b3061b": {
     "views": []
    },
    "7ac95866eb64434184446115c567478f": {
     "views": []
    },
    "7ada1577d87c49469f85dc672c8926be": {
     "views": []
    },
    "7aed88ce10ac43178d03a31ea6cef47d": {
     "views": []
    },
    "7b2db9a21d0f4e0c8caaed3152eaa308": {
     "views": []
    },
    "7b3489834511441cb8c1abdba9b34d59": {
     "views": []
    },
    "7b3bbe71fdc849ee8c81f0f19a45f861": {
     "views": []
    },
    "7b4fb0a809c448a48e6ea5efcf241d16": {
     "views": []
    },
    "7b504af64dcd45158391beed9769a854": {
     "views": []
    },
    "7b5decc81dbb41d7b86fead02c1713d8": {
     "views": []
    },
    "7b7c8f510ec8491bbe3950899ebf5ee0": {
     "views": []
    },
    "7b7d94b92b634b7bbd8bac0e1a52a29f": {
     "views": []
    },
    "7b7f2f1b09ab487e96cd27544f196bca": {
     "views": []
    },
    "7ba4b69181d4493a8d1e4a81832238c6": {
     "views": []
    },
    "7bb658828afd4ab0a8ea1c93aab70f91": {
     "views": []
    },
    "7bcbbfa9776f4784b24b8242d38de2c2": {
     "views": []
    },
    "7be2790a99c54feebcc84d06dbea7318": {
     "views": []
    },
    "7be48ce3721b4e3eadbd19295fee3014": {
     "views": []
    },
    "7c0fec5a16784437b38a2b38557feb3a": {
     "views": []
    },
    "7c24e53fdfb947118f6ababe28e09462": {
     "views": []
    },
    "7c29a82fcb7c47cda66d59a9c091d7f4": {
     "views": []
    },
    "7c3aff0f952e4296ab07e562f245cac5": {
     "views": []
    },
    "7c8ada0ec6494000a206fcf88dc68a4a": {
     "views": []
    },
    "7c9c8a2338c04cbdbca3f4689deec017": {
     "views": []
    },
    "7c9cf6b0b9494ed386b2554e611f24f5": {
     "views": []
    },
    "7c9db527727041c38c71cd8de0b9ead8": {
     "views": []
    },
    "7cab9f96f33e432393072f6e68cc22ea": {
     "views": []
    },
    "7cabdad765964c20b05b94dde4d9adbc": {
     "views": []
    },
    "7cddaa60a4bb4363ade86cd886a61e38": {
     "views": []
    },
    "7cf133901dff47c5a7d34917ddb7bce3": {
     "views": []
    },
    "7cf525e05c0f4863a3cb10ad3570ec69": {
     "views": []
    },
    "7d1387826496463c9ade30029435027a": {
     "views": []
    },
    "7d15c882ead34e5e9a825698b7388955": {
     "views": []
    },
    "7d20fa2ab2854fad8a631531c0448d9a": {
     "views": []
    },
    "7d3240b4ed454058924b24a78fb23edf": {
     "views": []
    },
    "7d3da9433f6d40779c197dad6a41c6ad": {
     "views": []
    },
    "7d48b59121b1483796127f80441c1eeb": {
     "views": []
    },
    "7d5598269c2b435e8b52e10de96ac1e9": {
     "views": []
    },
    "7d65ac82b02c4c40af1eb76efc938e33": {
     "views": []
    },
    "7d69239d5bb74e2a9f305ada7aa8e2cf": {
     "views": []
    },
    "7d87f724db9d4592a3a35eb05a698620": {
     "views": []
    },
    "7d9447f0a6c84db5b5b41330b944c678": {
     "views": []
    },
    "7de695d6a5854045aa7e37bbc7acfd6a": {
     "views": []
    },
    "7e09898b9c6a4f979205500b15fa6d23": {
     "views": []
    },
    "7e35038d403d4208838a886e4cf1d658": {
     "views": []
    },
    "7e8d70ea1a3f41878249d3f81e85f40c": {
     "views": []
    },
    "7ea901c5a9ad411da0d2df4c26c88b8c": {
     "views": []
    },
    "7ebb67adef7140909fd04fb1bac00146": {
     "views": []
    },
    "7ecf38d390fc43099a0757179a3b22d8": {
     "views": []
    },
    "7ed15c93c5fa40a5a559c45879000a36": {
     "views": []
    },
    "7ee5caa7baba4451b43e4caed88b1f82": {
     "views": []
    },
    "7ef8a5326c7d49399d81996aa49f0faf": {
     "views": []
    },
    "7efc9677dae443a090811546a7ccd834": {
     "views": []
    },
    "7f13431ba095404ca56ce7829ce13b3c": {
     "views": []
    },
    "7f3a6080db0d454f95b751e7f9021419": {
     "views": []
    },
    "7f513ee6357f4f51889d6e4b55880946": {
     "views": []
    },
    "7f618b4ddf6d44af935f7455e014423c": {
     "views": []
    },
    "7f667e198f27449dac0debc0d6060805": {
     "views": []
    },
    "7f77e6571ea848478b4f2155710f52a4": {
     "views": []
    },
    "7f79643632d64469b25148ed3fe64c1d": {
     "views": []
    },
    "7fbe4d12c8ee4fac9f3c1079c63aa908": {
     "views": []
    },
    "7fce7e593dfe4cb9ba373e1e0861d011": {
     "views": []
    },
    "80096953b7674f60853386f769858e4b": {
     "views": []
    },
    "80157cce59c64136aabe7c54e62dd983": {
     "views": []
    },
    "8016bb843240463ba4bc990684dbb57a": {
     "views": []
    },
    "80527d3038574e8ca0d7a4e07012f1a4": {
     "views": []
    },
    "8075a3ad94604f3a838d126452199f02": {
     "views": []
    },
    "80858d10776a4fbaa819815a93f65840": {
     "views": []
    },
    "808ff1eac2dc4d799044ee7dc0e62749": {
     "views": []
    },
    "8093001c709c4c44a7dd4c3842e9a77f": {
     "views": []
    },
    "809522743668443a8ae8d3697ab0fb99": {
     "views": []
    },
    "80cbbf8eb521418c81684089573d42da": {
     "views": []
    },
    "80dee9eaff4d40d882f81ca43bfed5c9": {
     "views": []
    },
    "80e2f2fc6b184560a84718db127fc880": {
     "views": []
    },
    "810ffafb1d764ab88def5ed2320cef61": {
     "views": []
    },
    "81144ac569f4429aa5283cc7b82701e4": {
     "views": []
    },
    "8115c1eb8c0e47fdb306d26900c2671b": {
     "views": []
    },
    "812db0d0a5994f98b35e0222bf94293f": {
     "views": []
    },
    "812ea85cfeaf41f0aaad19a43955d17f": {
     "views": []
    },
    "813368defb2c4e36bc0a560199b09e9c": {
     "views": []
    },
    "8139e468b8a640e8a1dee74e96f756e2": {
     "views": []
    },
    "813a8828c08a4f2781dd63eb21d8a389": {
     "views": []
    },
    "813fe7f904004d7e8076e225f14bd4f8": {
     "views": []
    },
    "815e2dc99525415489938e5cbdba4bff": {
     "views": []
    },
    "8160e380acf74489b4d1b648dc23e38f": {
     "views": []
    },
    "8165168d891348cf9ca07111bdd9293f": {
     "views": []
    },
    "816742c09f804c06afac3f0182ec96c3": {
     "views": []
    },
    "8184239bb58a49e8bc30d6395af792f5": {
     "views": []
    },
    "818bf6313e1f4099b126a22d0d8afabb": {
     "views": []
    },
    "818c5827246341fd98e8c5f0057227bf": {
     "views": []
    },
    "81a5f87dc30245418df2b9c4c63603e4": {
     "views": []
    },
    "81ab4c4c35ce42f0a3681fd2640597ce": {
     "views": []
    },
    "81c4b43248c64e298e75a35942f911da": {
     "views": []
    },
    "81c7c92d16d8404d8ad9c345dfc10575": {
     "views": []
    },
    "81fe9a20b50545d882f1f4d135206c6e": {
     "views": []
    },
    "8207dc9268304767af5ce541f96207b4": {
     "views": []
    },
    "821f4906e7eb455698326517bee138e7": {
     "views": []
    },
    "822d5e6a1c984418a1b35176519c1b6a": {
     "views": []
    },
    "8256fc02ad0b4c1caed8236b21b17e26": {
     "views": []
    },
    "82773a1d6f2f4102b6d4bb68c419a1d9": {
     "views": []
    },
    "827db142bb85493dad22db964f495a16": {
     "views": []
    },
    "828b126dbad74a29bc0968bc30196e5a": {
     "views": []
    },
    "82a158c87ed04126a01da58b6977ce0c": {
     "views": []
    },
    "82a752ce69d1428d8e769fe551ace220": {
     "views": []
    },
    "82d72ec64c5e4fae93ade14ba7530390": {
     "views": [
      {
       "cell_index": 16
      }
     ]
    },
    "82db52cd9bb147f7af942561487aa49b": {
     "views": []
    },
    "82dbfb07e4a04c5a8a76c773b6ebd154": {
     "views": []
    },
    "82ff3c20f7e8425b8d2ea33676be7d67": {
     "views": []
    },
    "8315ed1b08b048f58c3d4713bc52ffba": {
     "views": []
    },
    "833804f2e74f4b3a86d70a6b43797df4": {
     "views": []
    },
    "8343ab672a224a3c8a81512bb325dc80": {
     "views": []
    },
    "834825bc718647c0b65eb41ff361d337": {
     "views": []
    },
    "835f52806078478ab2e1194d01f3b964": {
     "views": []
    },
    "8360067ec00242d7b18c27d46c0642f2": {
     "views": []
    },
    "836d4668284a40a08034b80451c3ed7b": {
     "views": []
    },
    "837fb8aef1b047d49e0cad37764df5ab": {
     "views": []
    },
    "83a71404753442618d84d803d40d0c1f": {
     "views": []
    },
    "83c9c90887a44316b7c6a3907d95ea2b": {
     "views": []
    },
    "83f086c5f28a4399b5f4a179b4b10366": {
     "views": []
    },
    "8418260acdfc4ceb95c8f87a320aeb8d": {
     "views": []
    },
    "84373b68ce9544d0952a0cffbbc0acf1": {
     "views": []
    },
    "8448aed7d5764dc29e1da95949d79e96": {
     "views": []
    },
    "844f469fd2a64e27a53ad63fea829985": {
     "views": []
    },
    "84500753fa5c4517a13435a268fe5b58": {
     "views": []
    },
    "84696dec8a0b4de1a7a2631dde57672e": {
     "views": []
    },
    "847431d2f450443c82cc0fe51210c8e2": {
     "views": []
    },
    "847db9448d3341278ae84183bbffc32e": {
     "views": []
    },
    "8482726d4bfd4205991fa5ac405ea5b8": {
     "views": []
    },
    "84890ff0d61a4aaaa19a0a48b30ece37": {
     "views": []
    },
    "84a48fb91365450d9e14340eee0bab26": {
     "views": []
    },
    "84da3cfd693a4da2b6645e998ab2f4bf": {
     "views": []
    },
    "84f23ca297e24bc5a7bc02c8d49d973f": {
     "views": []
    },
    "852f8e354d78460686f060f506089de2": {
     "views": [
      {
       "cell_index": 24
      }
     ]
    },
    "853ba0a6dfbb4956ba86081903fa6aac": {
     "views": []
    },
    "8561f2f4d75446ac88895ec9266bc327": {
     "views": []
    },
    "8589a0d61e6c48f8be701864728f556e": {
     "views": []
    },
    "859d2d1470174b518999a8b72a32e3d6": {
     "views": []
    },
    "859ef81d188a497aa658b2a1d2cd151e": {
     "views": []
    },
    "85c01a45567e423a90fc8a3bd99efe37": {
     "views": []
    },
    "85c1b0df5d484bccbad911bf61dad51f": {
     "views": []
    },
    "85c901be0218449b9b1042460c8c5093": {
     "views": []
    },
    "85de7b9af2c541ffa76dd3ebb93af9bf": {
     "views": []
    },
    "85f0e661a4eb4982bcbd377d109b36c0": {
     "views": []
    },
    "861708e5b76246618401b61096350832": {
     "views": []
    },
    "86236e0d62964449ba24fbe6c95c3ef2": {
     "views": []
    },
    "8628ca300d894e2cbf7fbac268ebe73e": {
     "views": []
    },
    "8631a1e9abbf453089bd7339773cfb35": {
     "views": []
    },
    "863c4003354943bf95ea28750cf23eeb": {
     "views": []
    },
    "86467dcc71ec4f8c9f263c10a3351a5a": {
     "views": []
    },
    "86664d8e19b94b0083869f31ea6042f1": {
     "views": []
    },
    "868abbf6bafa4c90be339c5f777e25c9": {
     "views": []
    },
    "868b1492d74b4c2fb5566e78d57806ea": {
     "views": []
    },
    "86983993db7c4b06b1da03b669885e24": {
     "views": []
    },
    "86b51f90d12e4768b42a51078de7719e": {
     "views": []
    },
    "86d2722cc6164d35bf7ad8d096afe74e": {
     "views": []
    },
    "86f75e81df214b2d873f21e0208307ab": {
     "views": []
    },
    "872c5cc6835d4e9492c6fd51b623b809": {
     "views": []
    },
    "873adf4efeba4c6b857ad9575a3e646a": {
     "views": []
    },
    "875c9829af7b424dbf364114d6725f06": {
     "views": []
    },
    "876d647708ce433cac60a1ccef4851fe": {
     "views": []
    },
    "876fc7fc2b6941128b93360c0fc5c58c": {
     "views": []
    },
    "878aca18577b440482f8dc5ab9dabe47": {
     "views": []
    },
    "87b4ef9b45674f298af80f42296640a0": {
     "views": []
    },
    "87c2c42a132e4f1ebc32dffd5150383c": {
     "views": []
    },
    "87ca5d48e3b0459ebb8a095891103d96": {
     "views": []
    },
    "87e1e4f4a75748378750e92d26bcaeb1": {
     "views": []
    },
    "87ecb34941bd4996adf39c7e31a6f1da": {
     "views": []
    },
    "8802686b30e94f99bb0c95b607cf976f": {
     "views": []
    },
    "883ceeaf20c541b9b538c9c917d747f9": {
     "views": []
    },
    "8854001a76eb4838bc5d790917ea5662": {
     "views": []
    },
    "887f7456b54d4f87925c72acf4bb4869": {
     "views": []
    },
    "888077d38c7b4c899e19a175468ff170": {
     "views": []
    },
    "88ef08b73d84496d8f730b5b8c1e967b": {
     "views": []
    },
    "88f26411eb29473983141825803b9b46": {
     "views": []
    },
    "88f9a2a7b6074d2a912297de5d0f866a": {
     "views": []
    },
    "89096c3aab3349eebaacace5d16947a4": {
     "views": []
    },
    "891cd33cbf564dfdb60959fb7f1d8d64": {
     "views": []
    },
    "892d085057c84d729c692dd244b8cfc6": {
     "views": []
    },
    "892f2507c91d459cbe459eff642afad4": {
     "views": []
    },
    "89381fe160b34819984d199fba5f2f38": {
     "views": []
    },
    "89421b8ae08945178308b9cdc03a178d": {
     "views": []
    },
    "897d4bb07b5945fb9d2d82538e3fc8ef": {
     "views": []
    },
    "89a5f162c10240d1b8cccf9858a8c559": {
     "views": []
    },
    "89dff08ba3e64d6883bc80dada589d4f": {
     "views": []
    },
    "89e53537e60c4b6ab7f51e49a780d6e2": {
     "views": []
    },
    "89e5431cb1014791a5871fae45facee6": {
     "views": []
    },
    "89e97e2101b64e0db3e34bf85985b0ec": {
     "views": []
    },
    "8a05f7d06de54adebe9e3fc52abf9c28": {
     "views": []
    },
    "8a0927169c2341529eb37a5b514745d6": {
     "views": []
    },
    "8a1c6b5ad3364a7e8a77067b1593d74f": {
     "views": []
    },
    "8a3f4cf4915b40e98befe101f1de7192": {
     "views": []
    },
    "8a44ae25f1c94859b6de51b38fba29b4": {
     "views": []
    },
    "8a4bc28c759c40b7893986febe771653": {
     "views": []
    },
    "8a6d18f88ec847dea85ef6f8e835db4f": {
     "views": []
    },
    "8a734d154d3f477b87d4261ced10df96": {
     "views": []
    },
    "8a875480b2c042e4bbcd96f86eddacac": {
     "views": []
    },
    "8a8811629cd44121bbc07152be637185": {
     "views": []
    },
    "8a9ebc2f38f448e3a0fc6ce0032d1048": {
     "views": []
    },
    "8aa32b59f5e947989bedccf183e5f1d4": {
     "views": []
    },
    "8ab53a7b2cd543d09406603506187eea": {
     "views": []
    },
    "8ad9ef44c4234d128af518c8874c28b3": {
     "views": []
    },
    "8adbc05acf88476c855868ea617ed2f7": {
     "views": []
    },
    "8aebb8a85d9e4726bf786e429206d35a": {
     "views": []
    },
    "8b05563c40164e47a7fe2a38ac118b3f": {
     "views": []
    },
    "8b085c0776bb4d53b25a7771ff069568": {
     "views": []
    },
    "8b1e36c9ef364b70ba69e3803d74fbea": {
     "views": []
    },
    "8b25d4fd8f6246cfb53b40b05ac04c03": {
     "views": [
      {
       "cell_index": 37
      }
     ]
    },
    "8b3396f15a7d412ea35ccc59972a379c": {
     "views": []
    },
    "8b3f34dc7a164926a6242d7938f0f620": {
     "views": []
    },
    "8b587d9d050c4246be176681ede42f87": {
     "views": []
    },
    "8b642249f42c45eabab5de82846e5cac": {
     "views": []
    },
    "8b7e9d30f18b4ef4af772e656bddd22d": {
     "views": []
    },
    "8ba636137a1a4b94bb66fcffc5458872": {
     "views": []
    },
    "8baf40fc932140a2a6ae4f8870f91742": {
     "views": []
    },
    "8bbb0e4ffce0497698de8b71ddebfb61": {
     "views": []
    },
    "8bcaf6aed06a467a971ec38cce6802af": {
     "views": []
    },
    "8be16a0541bf4297b1f6a6aba94796be": {
     "views": []
    },
    "8bf0741d28604ace8111e8a625372be3": {
     "views": []
    },
    "8c02c29ea85045c08f3678e3dabfd1d5": {
     "views": []
    },
    "8c04a3e8507640f5a75159be58e5e9c8": {
     "views": []
    },
    "8c1ff31abe274046addae5c706133a6f": {
     "views": []
    },
    "8c514334775d4f3abadfeecad277f6d4": {
     "views": []
    },
    "8c7f74b5b2ac426ca226f2a755bb0280": {
     "views": []
    },
    "8cb3db7153204e08915ba6a47710ab50": {
     "views": []
    },
    "8cc5de6569d948c38d8c427ea981fd34": {
     "views": []
    },
    "8cd938a2511a465d80c31aeb4f429729": {
     "views": []
    },
    "8ce1310ae6c24c57a63ee4f16ca4133f": {
     "views": []
    },
    "8cfdf4a2311b4d79a76d56a862f3a85c": {
     "views": []
    },
    "8d0bf3915b4f4c65936a4b7701812643": {
     "views": []
    },
    "8d0c55e730a142d2bf44a34649a5dcfa": {
     "views": []
    },
    "8d18d0ac48254f68a5ff58df12af0eef": {
     "views": []
    },
    "8d36f57dce5446549281a8c36c03b887": {
     "views": []
    },
    "8d40f69f66f04cdc9e4a21205320dc49": {
     "views": []
    },
    "8d567045aaaa452ca60b657ade7215b6": {
     "views": []
    },
    "8d571774276b4d2ca5a656189a35d738": {
     "views": []
    },
    "8d6173bbb1c34b1e9f6090634f6f6d82": {
     "views": []
    },
    "8d61ea19895946fdb325d8ef6d9383cb": {
     "views": []
    },
    "8d83bb4b8df14b6b89abe6cb71c4c4fb": {
     "views": []
    },
    "8d8f2bc0565f4a1b8ecd382f9e391499": {
     "views": []
    },
    "8dae1795fccf4284bf34276d40a5826e": {
     "views": []
    },
    "8dbb0b0d60604794abae88725bfba894": {
     "views": []
    },
    "8dbbf173a60e40b0afd8b7901f21f8cd": {
     "views": []
    },
    "8de5bf6ad78145cabcf243378b68492d": {
     "views": []
    },
    "8df95bf86e5d4075860b3638a95c566d": {
     "views": []
    },
    "8e0529c40d524cefa84f0230c3233d51": {
     "views": []
    },
    "8e0f154cf6a04d00b01217c0ae482c26": {
     "views": []
    },
    "8e1f1179568a491a897178e36a58cd64": {
     "views": []
    },
    "8e238ae8ea054b058eebc66597457d99": {
     "views": []
    },
    "8e3d8c6e5da54e878b3792fe711fe9f2": {
     "views": []
    },
    "8e711ede491c468ebb89ab85cf737a94": {
     "views": []
    },
    "8e87631b403d48e7b8cf17701538dfeb": {
     "views": []
    },
    "8e8d3f3d0298446da1602d25d10baeaf": {
     "views": []
    },
    "8ed288fe95b847e2b294d451ff5d0794": {
     "views": []
    },
    "8ef1a408c43e4853917d6305645029b2": {
     "views": []
    },
    "8ef23290f7cd49f6aa75d4dd9504aaf3": {
     "views": []
    },
    "8efb3d9abbe748a8b175d867a13f9ff6": {
     "views": []
    },
    "8f12cf168a144e6586e2661d2f5d1963": {
     "views": []
    },
    "8f19fa8bf2fb4fae86da9e42c4ef292d": {
     "views": []
    },
    "8f28832179ee4b4aad836f915676e9fe": {
     "views": []
    },
    "8f2f4fcd18fc4d0f828ef4dd253a56ec": {
     "views": []
    },
    "8f34cd5d516042778d0fab444fbe3007": {
     "views": []
    },
    "8f3875f3dc9b4e2190021d752ca0b826": {
     "views": []
    },
    "8f40e0584fc2420dbfce48d31e757cbf": {
     "views": []
    },
    "8f465d630f9743509a24881ed15abbb8": {
     "views": []
    },
    "8f4dbb291fda4b5c81fb20d4fb2f6d65": {
     "views": []
    },
    "8f55f43e90034796b086ed76f7bb3b07": {
     "views": []
    },
    "8f5b06cfe5274facbee99f81098898e0": {
     "views": []
    },
    "8f724a61ae204d608898085db16bc88f": {
     "views": []
    },
    "8f807a690c954a59b01eb254f7c5dee4": {
     "views": []
    },
    "8f871280bbfe48dcb80a19dbbeb3922d": {
     "views": []
    },
    "8fd1db5011df486ab2ca94a34b8340e8": {
     "views": []
    },
    "8fd36ddc48de4fdcadbe41ba2f6b376d": {
     "views": []
    },
    "9004c1df3df941d28eadf5212e6f1097": {
     "views": []
    },
    "901ab7a66452445d9503ea3ebabeba22": {
     "views": []
    },
    "90291c95f12e474da5c5a51efba8be4f": {
     "views": []
    },
    "902db8c36e9440f7b0a75be6a6ea38a6": {
     "views": []
    },
    "902f84d3b15d49feb10d824971e925ca": {
     "views": []
    },
    "904ce872743441ce918030533ecc0f21": {
     "views": []
    },
    "906cd47668f94fc4a940a3ce877bc2f6": {
     "views": []
    },
    "9073a43a3b314e89a72aa32c53e9b2e9": {
     "views": []
    },
    "90784fcf54194328b5a41e39c609ba3a": {
     "views": []
    },
    "9078f1b4c78e44f1a5c25e401e57d3a7": {
     "views": []
    },
    "90793eb6eba84a5b88a94864589e59b4": {
     "views": []
    },
    "90924ceca9264d6eb810a0fb44e0d660": {
     "views": []
    },
    "90975e34aa4c4e52bb7c828262556144": {
     "views": []
    },
    "90b7c5be293847f9946ff620a5de2712": {
     "views": []
    },
    "90c9da0328fc4171810ce9116d7d4fce": {
     "views": []
    },
    "90d54c56fb5b477b93c2bc11add6b471": {
     "views": []
    },
    "90f469a8d8bd4e61a6f017b9a651bc62": {
     "views": []
    },
    "9106a71a4aad44a4988e1edc6a545cd5": {
     "views": []
    },
    "910ad744f2344b06aca6fe776f14457e": {
     "views": []
    },
    "914258352f064c48935946f318dc7ad6": {
     "views": []
    },
    "91434b3151d14aa9923754ce1fba5d54": {
     "views": []
    },
    "9145e1478eff4cc6ae7ab9559fa76af6": {
     "views": []
    },
    "91464e1ce8044c668542ccde317100e3": {
     "views": []
    },
    "915d0727f2b1461d8eaa1bcf22a24188": {
     "views": []
    },
    "9170a279a7e541618986d3e1ba3379ad": {
     "views": []
    },
    "91807edda4d34dc08c3c81ae0470f8bb": {
     "views": []
    },
    "918debd915d44988a69a161434c1e122": {
     "views": []
    },
    "918f1d9cafd0417299fb970fbc5a0334": {
     "views": []
    },
    "91996925e7bb4b8e8b42a70842eb2c6f": {
     "views": []
    },
    "91f9254659cb46b2886798d4a9b19b9c": {
     "views": []
    },
    "9238be34462a41ca95362631931118ed": {
     "views": []
    },
    "9246fd4d195a4cac8289de9666bf0ef5": {
     "views": []
    },
    "924e5901d6634ba89d2a7b38bb98ef70": {
     "views": []
    },
    "9253ed25f82140ff8357c9910fd3ff4e": {
     "views": []
    },
    "9266b569e4c94ca19158b5d1ad1381a2": {
     "views": []
    },
    "92740949fb8d4f24af225a202db11943": {
     "views": []
    },
    "92a6a711cfc94132b86a0cc86cf1459b": {
     "views": []
    },
    "92a7a989e1b341a4898a077b691f6a70": {
     "views": []
    },
    "92cf8786227142a398bd7289de766dfb": {
     "views": []
    },
    "92d5d0431d7b478f91bcc3656213f333": {
     "views": []
    },
    "92e0a4e06cb34df1bd64ce5ef6504cf2": {
     "views": []
    },
    "92e1ea06b1d04e42bc0c813f8d5707c1": {
     "views": []
    },
    "92e48ff2aa904996a467b192db90df1a": {
     "views": []
    },
    "92e690cc15524a59be452e634ab0adcc": {
     "views": []
    },
    "92e8a4fd883e4879ac348c86d6f34f04": {
     "views": []
    },
    "9304d513df4f449c98003367ab1c689c": {
     "views": []
    },
    "932abc7b47e741069aeed9b666410de9": {
     "views": []
    },
    "934156a0e43a447da3ce5f9795ae1d45": {
     "views": []
    },
    "934b74d3cf2d4bf4a0d1bd1e64db2b6d": {
     "views": []
    },
    "936036d21917474cb12731753743863f": {
     "views": []
    },
    "93bfc63ea7134663a1ef9691ab871b38": {
     "views": []
    },
    "93d36e6f946742639c80411b4b0ba0a1": {
     "views": []
    },
    "93d5b45be7a34a7f8447755dc5553ba7": {
     "views": []
    },
    "9404b03ec61049f4b8a98a34d1de0256": {
     "views": []
    },
    "940e2c0d0dd848dfaf9362cc7a70677a": {
     "views": []
    },
    "9422bea2b9434c13a96e1a45f278ede3": {
     "views": []
    },
    "9427c24849764093a912890040527c20": {
     "views": []
    },
    "942bf07d709b4fb58a80eace81ae3343": {
     "views": []
    },
    "942cb0a56f994035bc44083b6c799174": {
     "views": []
    },
    "942f6a942c694c1e80929ab73f731ffa": {
     "views": []
    },
    "9432e320119f43378c87c4741fd57757": {
     "views": []
    },
    "9433404756a34aed9d0907630cc41d9a": {
     "views": []
    },
    "945efed11aea4da0a980db961a86c597": {
     "views": []
    },
    "9469317dffc84492b58ac2fcefa98f75": {
     "views": []
    },
    "948887fecc8241f9a8d23308d17c60b1": {
     "views": []
    },
    "94955241b706419dafe468dd7c022ff8": {
     "views": []
    },
    "94b3e592d5d9465590131963342819b9": {
     "views": []
    },
    "94c8c012a54d4cc78c0871a38ef7dc4f": {
     "views": []
    },
    "94ea38dece704bbb91ae9817995c7500": {
     "views": []
    },
    "94ebf71218cf420d914c0b40f85ac080": {
     "views": []
    },
    "94ec86bd14894a26aa6d9c7fa8d04038": {
     "views": []
    },
    "950a0b8a04b24b389fa2bf16326b02d8": {
     "views": []
    },
    "95168b2f98984d76824291c20fbf7fb5": {
     "views": []
    },
    "9525e5cde1c840b190dccfe27f9dbdfe": {
     "views": []
    },
    "952d28f99cf24ceb8043f3102e07c96c": {
     "views": []
    },
    "95309694dfac45d6b5afa8ef432b5968": {
     "views": []
    },
    "953f6f18eec046c8ab1e1524a6d8b7bf": {
     "views": []
    },
    "954faa96c5954f35a6602bd8387d1fc2": {
     "views": []
    },
    "957da951d1be45d491a807c2060d440a": {
     "views": []
    },
    "958926b9ce754d38ab0db71106b92595": {
     "views": []
    },
    "958f80cff68d402db6d11c4ebde5f39b": {
     "views": []
    },
    "95a5d64312bc4b93afa467e5d7c5a95b": {
     "views": []
    },
    "95aecd018cc9445580ee61bf6f8fd0cd": {
     "views": []
    },
    "95b0ed98bd6444768cca735805205fb2": {
     "views": []
    },
    "95cbbb1f835b4f848b52f614b0d012c6": {
     "views": []
    },
    "95dbcc5057d24362b2520a5c766dbe6a": {
     "views": []
    },
    "95f6dd224aba4360aff41eea5295d289": {
     "views": []
    },
    "961586bc081f4a8086b742fd4434e058": {
     "views": []
    },
    "9624446494244061bd4f24af16696326": {
     "views": []
    },
    "964f43ed8d1d41cda4219112e9e23adf": {
     "views": []
    },
    "96563544fb2344318cd9da8bb7b5b229": {
     "views": []
    },
    "9674c5cc04314b3fb4dffe23d1ee8aac": {
     "views": []
    },
    "96a6d54161814b6785668c4d43ce37d1": {
     "views": []
    },
    "96afa66984e4432ab97ddbb18f47fc89": {
     "views": []
    },
    "96c2f1e96a804d2faa2e9d57f1fb8eda": {
     "views": []
    },
    "96cc31bdf1474d4395ae6b76aa73b566": {
     "views": []
    },
    "96d0cfa38d72424d8cd805e72420d8b6": {
     "views": []
    },
    "96e2e38b174c4bcc9496c136164f93b8": {
     "views": []
    },
    "972302d7b9714e07925cd009e0b81f36": {
     "views": []
    },
    "972efc2814c846c491da96a00165c3f5": {
     "views": []
    },
    "972f0d1c660c4cc9b2365cf58dfdab3c": {
     "views": []
    },
    "9737803fbe2b437d95ebb448239ce214": {
     "views": []
    },
    "974647f780a2419db9a70d8141e7e8bc": {
     "views": []
    },
    "9758793b6a3f43ab8d06a970ef8d8eb1": {
     "views": []
    },
    "9776d48d8bc045f19504862af4af194e": {
     "views": []
    },
    "9784e25a399c43ad8c9f880c2a540fc3": {
     "views": []
    },
    "9794e4b0329b4ecebf1911c9622cce6a": {
     "views": []
    },
    "979c8e87dc90438993ef6bdbde9e08b9": {
     "views": []
    },
    "97e0bf99d8024532a552453a4f2929fb": {
     "views": []
    },
    "97e435f691a2454a92a3d93ba8cefa1e": {
     "views": []
    },
    "9811829ed0c44e47aff31c5c7f2e8d35": {
     "views": []
    },
    "9836c48f64c04e29b8eec45992e59f24": {
     "views": []
    },
    "983700d57bdc440d96a40f5a73b4fe82": {
     "views": []
    },
    "9851e5eaacac4c5d95d7efbf64ad0ee8": {
     "views": []
    },
    "98704b7b3fce43a4934575f5d4b20697": {
     "views": []
    },
    "98868da5f00c4fdea7b1b39b636b2d5e": {
     "views": []
    },
    "98aa1581f03d4eb59f738bc2450e67d0": {
     "views": []
    },
    "98e7586d328b4bac8702947bef84f8d1": {
     "views": []
    },
    "98feed3271114a42ab3f47a48b5a1229": {
     "views": []
    },
    "990abc24c552409f844242cf59cc548d": {
     "views": []
    },
    "992960b75d55410ca227745dcf6f8bf6": {
     "views": []
    },
    "993300d57e8e44d396c7b55cbfbe7ea2": {
     "views": []
    },
    "9943af7a49e84daa85899d1329493ef3": {
     "views": []
    },
    "99497019ed2b481490d9982b9f0a5b3d": {
     "views": []
    },
    "9990c9270e8c409a8cb7c2b21bb9f1b7": {
     "views": []
    },
    "9997a4b077c346cf9545d5d026d08776": {
     "views": []
    },
    "99a698cb80604cc2aaf22282332ffcf8": {
     "views": []
    },
    "99aba6101620439ba9a239a7682d0ef6": {
     "views": []
    },
    "99bfce6b42ad4ecfac5723d782ca1652": {
     "views": []
    },
    "99c4812037c14d4d83bb27a8dad09af5": {
     "views": []
    },
    "9a15c54e7d114d299aefddb61ff92788": {
     "views": []
    },
    "9a27c54a628c414fb16c95ccd9b1af27": {
     "views": []
    },
    "9a32943bb344440d9dc3cb197ed50a88": {
     "views": []
    },
    "9a44c9133cfc480eb1ec99136e1d28eb": {
     "views": []
    },
    "9a45d7a7e846495a81f59999ea657fd7": {
     "views": []
    },
    "9a474eb5e6d54109928bcc9e5a8525b5": {
     "views": []
    },
    "9a580ef6702a411db629bc6cbef42731": {
     "views": []
    },
    "9a66497bb7a6442c88d132f258dbdd46": {
     "views": []
    },
    "9a90a33ae44f417c9f13ca29e446266d": {
     "views": []
    },
    "9a9471dd90514fdda680b6571d2fb8a6": {
     "views": []
    },
    "9aa9eb9f6691438c941424c1126b5e50": {
     "views": []
    },
    "9ac0eec707d24f42b687b73c060fabbe": {
     "views": []
    },
    "9ac86f92bfa24939b6f7df2b707121b3": {
     "views": []
    },
    "9ad2f95ed9dc457e980a0af95d84999b": {
     "views": []
    },
    "9afb58c1b7cd42938f415abd8669c1fa": {
     "views": []
    },
    "9b1636e123ae4241a889d12aec8dc763": {
     "views": []
    },
    "9b31080c88af4673bee0f9f1d0faef16": {
     "views": []
    },
    "9b50244d62224e408432977ecb84ea43": {
     "views": []
    },
    "9b5b7301ce614c85944490c9d1b35e41": {
     "views": []
    },
    "9b70c95da2ff4378917ceeb4d26df502": {
     "views": []
    },
    "9b8410bc2da7403bae024dd6769c4635": {
     "views": [
      {
       "cell_index": 33
      }
     ]
    },
    "9bb36b8f14464a51976892d0eef6e52e": {
     "views": []
    },
    "9bb8dfd0c4a0404e88f57570d0efdd5c": {
     "views": []
    },
    "9bbf86dd3bc247f3b8923c2b0c4d6c83": {
     "views": []
    },
    "9be1aa1959e841bea77b6aeb4c8e389f": {
     "views": []
    },
    "9be446146036474e99ceb9e18873cbb9": {
     "views": []
    },
    "9bec9ed027e647dc94012b7cd5170bb3": {
     "views": []
    },
    "9bf16395ec07418c9ba267ce4e55af7d": {
     "views": []
    },
    "9bf48d5afee94e47b5f06d09aa4d2349": {
     "views": []
    },
    "9bf6175c91f04aa990ee916366fbe8fa": {
     "views": []
    },
    "9c015f047b894db0b9129c7dc12fed69": {
     "views": []
    },
    "9c076f477b874561915b18f1cb5b6819": {
     "views": []
    },
    "9c1386bc1d4841d0bf9a4451a20cd78a": {
     "views": []
    },
    "9c1b06b38b4c4ae09148a9dab1efc4db": {
     "views": []
    },
    "9c20daa063494768891ee33d21ffe4f0": {
     "views": []
    },
    "9c2f44a39bcd4f51858b5b7a41ec8635": {
     "views": []
    },
    "9c4805fd938047a392dfb5c432757a8d": {
     "views": []
    },
    "9c6046c17d424750b356743ac5034364": {
     "views": []
    },
    "9caaa5793f3c49fd8140f7b99bdd8a4a": {
     "views": []
    },
    "9cb91c701ae4422486fe95e752eb4444": {
     "views": [
      {
       "cell_index": 26
      }
     ]
    },
    "9ccfff40a5ce460684ca4b23a2ef7e82": {
     "views": []
    },
    "9ce4be0f29aa42999eb4bc666807e97d": {
     "views": []
    },
    "9cedbefcd355466d87de0d2673ae01b4": {
     "views": []
    },
    "9cf045e7b7e747829914a437394e7cde": {
     "views": []
    },
    "9d2a2661278d41a69207664b999ec064": {
     "views": []
    },
    "9d2d290bab88454abf42d1aed9e6b4bb": {
     "views": []
    },
    "9d380737734e4433bf85514f086c1317": {
     "views": []
    },
    "9d4d33f7631343a9b1cd7f576878c120": {
     "views": []
    },
    "9d87e5088ec7451b8ce22c3c86315aff": {
     "views": []
    },
    "9d98d09b2f9c45e784f1fd8ced827111": {
     "views": []
    },
    "9d9e4ce6114a40c8a50019565e46f1f5": {
     "views": []
    },
    "9da9c8f00251468fbb998b03cf2fbc51": {
     "views": []
    },
    "9daaa365870d4c12a0af56d9d39033a7": {
     "views": []
    },
    "9dc5408ed6f743d692bb9d0b289f6a60": {
     "views": []
    },
    "9dd38052b9ff4d8797c2ad9746c1b72c": {
     "views": []
    },
    "9dec1150419f4960af7d2ae58caf98c3": {
     "views": []
    },
    "9e05ff0f3f6d407097de72c424306183": {
     "views": []
    },
    "9e151bcb025f4dda9ac7eff84ac6b26a": {
     "views": []
    },
    "9e18791b379141cdb2a9dc4a31e3a79e": {
     "views": []
    },
    "9e1fbc324217404f8f8051368788ee53": {
     "views": []
    },
    "9e52fcc3779245a8a7d1f5d8d45ec60a": {
     "views": []
    },
    "9e6594978bc04d6c97f1f8b82bf3d81c": {
     "views": []
    },
    "9e7c8f49471847b28cbd75c37cf97d9d": {
     "views": []
    },
    "9e8e0300b9004af081da8fc343e9cf50": {
     "views": []
    },
    "9eb95651603b406d8fd97f83ab703b51": {
     "views": []
    },
    "9ebc9d0f02574d61b7a4ed4aa4af4802": {
     "views": []
    },
    "9ee13072a536432c98ee61beb2e4d849": {
     "views": []
    },
    "9f2a04a915294dc2b92f4c2862588fa3": {
     "views": []
    },
    "9f30fe0d9cb64473b819fdaf2b42a548": {
     "views": []
    },
    "9f67571a89024588af4d253d63c5635c": {
     "views": []
    },
    "9f78d53698914300a20764e3a21a874f": {
     "views": []
    },
    "9f7cea13e2e24af69665649f2fa98005": {
     "views": []
    },
    "9f848bd563454c1aaaa12ec816635968": {
     "views": []
    },
    "9f84cee32aa84566b778587591bf494b": {
     "views": []
    },
    "9f8dd5cbb0f44e73839c5e5eb47e41a0": {
     "views": []
    },
    "9f9f2a6a6aac44ed99820e8643e57aea": {
     "views": []
    },
    "9fa0b4f8fa144289b508c4f7f59b3d56": {
     "views": []
    },
    "9fa882dc60ca4256ab5e1daaaa677ca9": {
     "views": []
    },
    "9fd41fa251c34e91b4f171d6ebbb7a2b": {
     "views": []
    },
    "9fde92cc399b4bc9a21bc33c038f0536": {
     "views": []
    },
    "9ff7c4220a1049ddb2e36b784f66f46e": {
     "views": []
    },
    "a004cf226d0a4550b8ce56aaa2535113": {
     "views": []
    },
    "a01a9e9466534f89ba8b84b9a913f0fe": {
     "views": []
    },
    "a03ecb79703b49009ac26271117dcd94": {
     "views": []
    },
    "a0509dae8de84ab492598f6f60345a05": {
     "views": []
    },
    "a070f892c55b4e73bb4f41fa0497b3a4": {
     "views": []
    },
    "a09ffdbdd0894e2d98e2e70b97a63753": {
     "views": []
    },
    "a0abc7b6b4f84c9b89a1798ca43db150": {
     "views": []
    },
    "a0b8c5bfd66e48bfb5b017c33b4ddb90": {
     "views": []
    },
    "a0cf7fa918764b39af2899c0a8020857": {
     "views": []
    },
    "a0fa3042c8e248ebb336a065297cf4cd": {
     "views": []
    },
    "a0fd7920b0df4824b9e233ed14b23487": {
     "views": []
    },
    "a11b778e69d34849867fbbb2a208574e": {
     "views": []
    },
    "a12bed949a9b4866bf463849428a9548": {
     "views": []
    },
    "a153c98e69a8410b83b7528cca646652": {
     "views": []
    },
    "a15e3d318b784f14965965f6c8691527": {
     "views": []
    },
    "a183d4e24d00420f9775787119c9fc0b": {
     "views": []
    },
    "a195884f3a924934bd2b7a8c5b57629f": {
     "views": []
    },
    "a19be04ec01e4c8c811f7a0e78c5dcf5": {
     "views": []
    },
    "a1a30e9aef774951ad650f5516497d5c": {
     "views": []
    },
    "a1aa1cac4fb6428cb963a6203c80ae56": {
     "views": []
    },
    "a1b4114ab8074dd9a2b21e1e4d91943a": {
     "views": []
    },
    "a1b8cd8de851419f82ef17c7a68409ed": {
     "views": []
    },
    "a1c5028f6be549238da729d1fcaca268": {
     "views": []
    },
    "a1e5adf08c164ee28f4d36c6fb1b2f5c": {
     "views": []
    },
    "a1f9de539dad4bb8b541a2980c6c7220": {
     "views": []
    },
    "a2332bec195a40babfb03b6151c8918a": {
     "views": []
    },
    "a2450d22b4754649bf8424ccbdc9ae8c": {
     "views": []
    },
    "a252efcf19dd49158f2fd3503b54101a": {
     "views": []
    },
    "a262a2ac83fa4a9c8e79429dd99237af": {
     "views": []
    },
    "a26a25c6e69344c8a02a0a55efd47a07": {
     "views": []
    },
    "a271e30e89ff42d591b88343bd9aeb7c": {
     "views": []
    },
    "a27cc1ccf30b4c9189c9915e52024ebe": {
     "views": []
    },
    "a2804f774f3448d4ad1dc1c61511af1b": {
     "views": []
    },
    "a288ed148622488f9968c69e585c5d51": {
     "views": []
    },
    "a28e97f7c035427ebf6f3de50907b9c3": {
     "views": []
    },
    "a2919bef8363474093c4ca3b80ea72ec": {
     "views": []
    },
    "a2c041ddfa4b425ba6285da63223f480": {
     "views": []
    },
    "a2f1d20a024f4770b549fd5f0584fec4": {
     "views": []
    },
    "a33288ec36a249c582533dde90b167e9": {
     "views": []
    },
    "a33cc1ef920e4e6bb91f14ecde816194": {
     "views": []
    },
    "a3414a3a380d4b2b946cda26d9404e3e": {
     "views": []
    },
    "a34b2bfb784147b292ac70426dd556df": {
     "views": []
    },
    "a34be1ead52a40fea65894e0535f53bd": {
     "views": []
    },
    "a360329407964e8ea952cd6b01c4346e": {
     "views": []
    },
    "a385f142449049fc98727f1bfa2965b1": {
     "views": []
    },
    "a3ab89314c95443d9f0e00991a3c1a4b": {
     "views": []
    },
    "a3c6632b44dd40ae95dfb058b5330388": {
     "views": []
    },
    "a3cea2742ae646aeb19effb783ada1d0": {
     "views": []
    },
    "a3f1dff3774449388358fa3c97ea9e9b": {
     "views": []
    },
    "a3f6abf6641e4649823bf2e985e4ea74": {
     "views": []
    },
    "a403e8ebfc34464b8f83716cbb422ead": {
     "views": []
    },
    "a404c939bf604739a4bb96c25accf7dc": {
     "views": []
    },
    "a414ccbc7cc244b9a613d6cd1dababe0": {
     "views": []
    },
    "a4161bcc36cc4717989777795b9611e4": {
     "views": []
    },
    "a417c2e8140c489b9c32608f07991d05": {
     "views": []
    },
    "a42a94a196644bc38d64882fb3373b32": {
     "views": []
    },
    "a446f2e11dcc4167b91e9aed819ab282": {
     "views": []
    },
    "a44b4e22d1964bc9b969c81b50709e4d": {
     "views": []
    },
    "a452e8ee2d7c4d039049156d7d73cd2d": {
     "views": []
    },
    "a46029f4bc0b48f0ba061e46ea376c44": {
     "views": []
    },
    "a46850b60737411ea0907ef6001cce43": {
     "views": []
    },
    "a4b95c088cba49c3aa04c8132dd12617": {
     "views": []
    },
    "a4eee16391f04f1a811160b0cce4eb71": {
     "views": []
    },
    "a4f53c2152a74f0580101de2e6f1efe0": {
     "views": []
    },
    "a4f540ca7c6c4ef8afcc7d61c69f77b9": {
     "views": []
    },
    "a5074c50cd2943a5ba563fda99515fbd": {
     "views": []
    },
    "a50b8964456c48daa88bbc7f13800491": {
     "views": []
    },
    "a51fe5949e0445abbe509b30b98b9e71": {
     "views": []
    },
    "a53d0fe703d640be8d68526bc09fa96c": {
     "views": []
    },
    "a545bd296c9f4166beeaed02216252fa": {
     "views": []
    },
    "a55ae36eb6d5437a9eb131e09a6bf779": {
     "views": []
    },
    "a562bfafcb3547599702c0e8734d73a0": {
     "views": []
    },
    "a56deef377c84446a8945a3b4a4cff9a": {
     "views": []
    },
    "a57968354bc74202b5ef417cc3383b5f": {
     "views": []
    },
    "a589a617226340fb85f47ee041585067": {
     "views": []
    },
    "a59c4721bebb4fe6b8f4cce4f77e6de6": {
     "views": []
    },
    "a59ffd682b78421c89de8397412b1eda": {
     "views": []
    },
    "a5b64d94d50d43db9c8cf54811c55f4c": {
     "views": []
    },
    "a5d4a122479e4ddf8eefc9cfe7606c68": {
     "views": []
    },
    "a5dda5c00df14f70aa91983fb4714f12": {
     "views": []
    },
    "a5e230bf1f634cca96ecf7e7538780af": {
     "views": []
    },
    "a5e2b0f407f840a1a9e6f1aba981aaae": {
     "views": []
    },
    "a5fdcc8528fd443e947a37663f1e080e": {
     "views": []
    },
    "a61353d964364dabbe09cc32786f1fc0": {
     "views": []
    },
    "a614517c269a4ab89362d92d899f7a74": {
     "views": []
    },
    "a64b2de0a5104713a37afcafc5b80f4a": {
     "views": []
    },
    "a64edb92d4a54c54be787bbce6369369": {
     "views": []
    },
    "a657634a08d94eb0b8f541c3fe193410": {
     "views": []
    },
    "a65ab09f66e349a7b5f168344f602e91": {
     "views": []
    },
    "a65dfbf08d5c46f0a6a3e176903c481e": {
     "views": []
    },
    "a67b9478184c4edb895cb9b70c01252c": {
     "views": []
    },
    "a69e84c62f9443e3854602c1584cf089": {
     "views": []
    },
    "a6a3e84ff06a48d8bdbc7a23dd8e1b2d": {
     "views": []
    },
    "a6ac442c85a24364a6f25dadc2f18b65": {
     "views": []
    },
    "a6ba27af0d0244c9939713d2fba38d59": {
     "views": []
    },
    "a6d2145227fe4a91a60d71468d7df49b": {
     "views": []
    },
    "a6ef4139d7bd437e8cdc793661fb05f4": {
     "views": []
    },
    "a6f98a3aa4534bd5811ececdf9297629": {
     "views": []
    },
    "a729d954079a422cb684fbd1ee2f0eea": {
     "views": []
    },
    "a73a2430ec7b4cc69593af16aff22afc": {
     "views": []
    },
    "a742dabbb0c54edf8ce7b28cfe458b3c": {
     "views": []
    },
    "a7536474519544649eca5b96ccf15399": {
     "views": []
    },
    "a7593dbee3ed4f6cb57dac24b7d8450c": {
     "views": []
    },
    "a75a7264ae22493f9819f65532b61783": {
     "views": []
    },
    "a77559b4401847a6b53899d83ffe9579": {
     "views": []
    },
    "a77c83237cea4591bfd9a590c6f54965": {
     "views": []
    },
    "a77d3ff698e74d508725f91992324e5c": {
     "views": []
    },
    "a79321278aaf426e8bc2f704d9d3a645": {
     "views": []
    },
    "a797dd83fc414b46a7ef772a9adfc29a": {
     "views": []
    },
    "a7aea09c0db540f2a101bb710814afbb": {
     "views": []
    },
    "a7c7c434ef844c4aabd550a2da809b6c": {
     "views": []
    },
    "a7d4e51356f94e478fa8ac495686ddac": {
     "views": []
    },
    "a7db576aac084a7a940b04c2cfc8db7f": {
     "views": []
    },
    "a7ed068c7a0e48ceb02707eff50d8d6a": {
     "views": []
    },
    "a80b8cc89cf049498f2d947953511439": {
     "views": []
    },
    "a8355a544619428aaf2d50c2abe9b3ed": {
     "views": []
    },
    "a85e28e713c54fd3af2fe38525639f77": {
     "views": []
    },
    "a86e2cdce633440ba70f5b0d77b3f772": {
     "views": []
    },
    "a88fe381d46a4b42a2b86f6ef7d57785": {
     "views": []
    },
    "a893f5e7cfe847dca3a3078157f4d06e": {
     "views": []
    },
    "a8978301316d4ddfa06121cca024ef09": {
     "views": []
    },
    "a8a2f67e9ce6418fa72e87c727a1e9f6": {
     "views": []
    },
    "a8b5849156a048b0b42328941c339786": {
     "views": []
    },
    "a8e8d243f7df4e888b25d554fd651062": {
     "views": []
    },
    "a8f395c62115415391e7d94bb9590561": {
     "views": []
    },
    "a8f53cd29b1045f5bde0939aee704c15": {
     "views": []
    },
    "a9015ab2747644b99f47e36a22914e9d": {
     "views": []
    },
    "a90470f8104f4de29cee9e14adf6565e": {
     "views": []
    },
    "a91010a241a64d7badc0e8c814a0ff65": {
     "views": []
    },
    "a912d12f40e941b2b9fe1521a7224220": {
     "views": []
    },
    "a937d9e901cc47f1b85b4faa18fd0b8f": {
     "views": []
    },
    "a947e6a4896949beb354bdf496fd9512": {
     "views": []
    },
    "a94aab6b3ddd416d9a51805b37b4180a": {
     "views": []
    },
    "a94c9ebcc9724e46b8d9fd5591754e87": {
     "views": []
    },
    "a9543772e65247dc9d73beee55884729": {
     "views": []
    },
    "a95aceae91394edfaca444b343c7dc17": {
     "views": []
    },
    "a9625791709d4a279a7ab2d5523d8f54": {
     "views": []
    },
    "a9632b03917e46cfa102cb10e63d7b42": {
     "views": []
    },
    "a965599ac3c045b3a2a68cb9a20149b3": {
     "views": []
    },
    "a97b683001504399b01fb0358e3963f1": {
     "views": []
    },
    "a97bf9d80d0c41209dd728b3779e2d34": {
     "views": []
    },
    "a99770b56bd840ac84a64867eaa282af": {
     "views": []
    },
    "a99bc1f6f4884ebeb2bfcf5f4350e1b7": {
     "views": []
    },
    "a99e67d7e0294d8598bd29f5b89d12a2": {
     "views": []
    },
    "a9a37605d3254551b10b96c47abef538": {
     "views": []
    },
    "a9a4843fc27a4c648a9ddc800df8ee05": {
     "views": []
    },
    "a9c0c61f008246eca0e3d0d6627d48ac": {
     "views": []
    },
    "a9e08511332a459f9e8298495afaaf99": {
     "views": []
    },
    "a9fb722e82db4e3988bb1b7ac440843e": {
     "views": []
    },
    "aa1385e3508047b3a83cb78a5184f199": {
     "views": []
    },
    "aa3a1344c3b74b7f8fc707c4a5fb560c": {
     "views": []
    },
    "aa5db285096b404fb892c0053ba804a6": {
     "views": []
    },
    "aa9fff07d60f44c1ba95f6d350ee464b": {
     "views": []
    },
    "aac0640db121461f8ae0b01bce795744": {
     "views": []
    },
    "aac6468372d843828e0ea997a07052ea": {
     "views": []
    },
    "aad1ab2b389141baaa6d2153800ec93f": {
     "views": []
    },
    "aad57abc501645888e5380e424f84691": {
     "views": []
    },
    "aae827ffc5aa495d92765768ec296be9": {
     "views": []
    },
    "aae8a9ca6f7c445b8c5523f00516b03e": {
     "views": []
    },
    "ab0960da70d14c8e80e3c8d2aab6321f": {
     "views": []
    },
    "ab0da389424d49ad8beb220210cb5f26": {
     "views": []
    },
    "ab0fa69873f843718e794dbf0e5f98fe": {
     "views": []
    },
    "ab12832b63d64fae98e16809ec9ab550": {
     "views": []
    },
    "ab23ac72388144b6823ac3dd3ed52816": {
     "views": []
    },
    "ab2b25c46b0a451b844dd3136072c238": {
     "views": []
    },
    "ab551abacd684010927bf067a601b9bf": {
     "views": []
    },
    "ab58f0c194724b23874147a900203b6b": {
     "views": []
    },
    "ab5b52e32d054b79a936378e0ec70195": {
     "views": []
    },
    "ab62af06a7e543d090cb349e86ebb4b1": {
     "views": []
    },
    "ab8652805232494198aa2c99e4b786fb": {
     "views": []
    },
    "ab89c600413a472dbc52499ce800d022": {
     "views": []
    },
    "ab8b710e638345c89e2621aa404036ed": {
     "views": []
    },
    "ab949b4b04334e02b772cb42d374c8a5": {
     "views": []
    },
    "ab9eaa579451420a872f66448d36dde5": {
     "views": []
    },
    "aba7d4d9bc8e4f78bb4df8ed51672124": {
     "views": []
    },
    "abacf07f1cfd4794835aa13246129a88": {
     "views": []
    },
    "abbdbf5e2fba4de4b0c90e855dcb73c1": {
     "views": []
    },
    "abc73eaa559e43cdb9696303430ae087": {
     "views": []
    },
    "abce0e53107049ebb4f5cdd90abb21da": {
     "views": []
    },
    "abcf56c2dc21491d934ba573825caf0f": {
     "views": []
    },
    "abe84d57dc5a4659a68bd1f55de92644": {
     "views": []
    },
    "ac00c420ec154d9aa238099582cb760f": {
     "views": []
    },
    "ac1f857730c246b1a07818a790f1577f": {
     "views": []
    },
    "ac1fe140b6154e5ea920ea8c18ab49e8": {
     "views": []
    },
    "ac41128f0858475aa5602901f17c1a13": {
     "views": []
    },
    "ac5ba3e997c14760ae386cba27d9a44e": {
     "views": []
    },
    "ac6377e311cd4e639dd956fb64371adf": {
     "views": []
    },
    "ac7a4e108ba64b8da5432719e17ba681": {
     "views": []
    },
    "ac7d1342a0054ab0883a496b462edd39": {
     "views": []
    },
    "ac86dce3984d42f39f303fe9c4498c2a": {
     "views": []
    },
    "aca302471b4d4584ae64b78a94391d62": {
     "views": []
    },
    "acb39993dc1f4a3a8c9031011fceaa13": {
     "views": []
    },
    "acb97b540eaf49b5827dd7c262e6a47e": {
     "views": []
    },
    "acbae2bc6b1e4771a231e115ef29de59": {
     "views": []
    },
    "acbb7e268b7448f19aca38c9e8912a6f": {
     "views": []
    },
    "acbf29481ecf4a56a5d1b14da426f48c": {
     "views": []
    },
    "accf018d0a1a44dbb1c7075304e8149f": {
     "views": []
    },
    "acdc4e8b503d49f69c59a9b1c950ef7e": {
     "views": []
    },
    "ace14a8070904726ac9441775db61626": {
     "views": []
    },
    "ace4954ef3e8449781c2b3b7696ee23f": {
     "views": []
    },
    "ace87e3c0a1440739eac48d16737d8f3": {
     "views": []
    },
    "acef53e2c01d44d89a576726c1fd9bd1": {
     "views": []
    },
    "ad0100bbb4ab4949a916e9e5024bf032": {
     "views": []
    },
    "ad018fca4fba4d7eb3d8ed674f3ba404": {
     "views": []
    },
    "ad20579e05c54978a7d9dbb9245b87ea": {
     "views": []
    },
    "ad485b15f3054a7096dfb16260e81d2f": {
     "views": []
    },
    "ad4c8b9ebf3d42d6a62f2e84f71d69aa": {
     "views": []
    },
    "ad565363f58d491d93c8eb21c4c331b5": {
     "views": []
    },
    "ad5903f8b5184aa8b33807c78a60886f": {
     "views": []
    },
    "ad5fdab1336d49ff8138314cef43a64a": {
     "views": []
    },
    "ad8a3cb7a9134959a4a8c83e98268c49": {
     "views": []
    },
    "ad948250c94247f0ab399232c95d70df": {
     "views": []
    },
    "ada9dd61a89a45eb882ad0dc0c4aaaa4": {
     "views": []
    },
    "add4a8acab634772ba9aec46067573ab": {
     "views": []
    },
    "ae1951e1a6d24c558d19826a562b40ac": {
     "views": []
    },
    "ae21727f62a645169bf03dd7166a8918": {
     "views": []
    },
    "ae65580a979b4089a1cde6de2a8f48a0": {
     "views": []
    },
    "ae7b2721e2af4a4792e0538798026186": {
     "views": []
    },
    "ae82b15e46b049e08fedc7967b00cc62": {
     "views": []
    },
    "ae93895dd5954d0789aebe899262876c": {
     "views": []
    },
    "ae9af6d863d14608856dedb10dbd394b": {
     "views": []
    },
    "aea02cc996054b6fabbdce4792e066e4": {
     "views": []
    },
    "aea6b34fefb246f68d102ca36ac1367e": {
     "views": []
    },
    "aeb79a1941554a188fa701b69a7923ea": {
     "views": []
    },
    "aee0cf37f7964e569814f5fc181d09c1": {
     "views": []
    },
    "aef692b587404285b60437e08d865df7": {
     "views": []
    },
    "af34e59b7fa543f599bf549d2bd667ff": {
     "views": []
    },
    "af85ac36206a47b2a1c2af223c6888f3": {
     "views": []
    },
    "af85c3c49087435d84448369f046141a": {
     "views": []
    },
    "af92af9f862046b699704bc93844c26c": {
     "views": []
    },
    "af92b56bd0814296a8331bd26252b43f": {
     "views": []
    },
    "af9a6986be244270930b50e806a08127": {
     "views": []
    },
    "afcd3832efab4a749d262ab19e21c1c0": {
     "views": []
    },
    "afd9e6ce81bc451586ba39e96954bf3d": {
     "views": []
    },
    "afe7079512a6462699893caa5dabd8a3": {
     "views": []
    },
    "aff964a10d88486f8ae1ac149632b554": {
     "views": []
    },
    "affb7cdec4784193a892588f5a36e0d3": {
     "views": []
    },
    "b0153e04b9de41fdbb5ded31440ecc2e": {
     "views": []
    },
    "b01f5183a3e24f3ab3210d1d2d5da7cf": {
     "views": []
    },
    "b03ae947c27c4817a61f9adaab00e065": {
     "views": []
    },
    "b03cb9a758184e82b0b2a108fbc62bc7": {
     "views": []
    },
    "b0434273910b4b989ad35f74353638a0": {
     "views": []
    },
    "b046d21a3ee24cee8e8d3c9198ff3aaa": {
     "views": []
    },
    "b05763c1b407425f8cdf7738744c172a": {
     "views": []
    },
    "b06fa0ddbbf34af9980dc99830c4836a": {
     "views": []
    },
    "b07d141acecf4f7e990abb2aae1b7c72": {
     "views": []
    },
    "b08860292b28415d8c1a5b527a70b945": {
     "views": []
    },
    "b08d71a968ea436c8a909251e2fdcc6d": {
     "views": []
    },
    "b0a6b6decddc4ee2af0b103a2a7542ba": {
     "views": []
    },
    "b0baaa272ffa4434bf74f2073c2ea8ab": {
     "views": []
    },
    "b0c825be71f942a594ef2ff3b4dae39c": {
     "views": []
    },
    "b0d1c4e38d7d4cb2b64c480a643ea0c9": {
     "views": []
    },
    "b0de4b3c9c844815b336c4b8911c69ba": {
     "views": []
    },
    "b0e54e8eae91431095446affac53ef5f": {
     "views": []
    },
    "b11340c487404956a7526edc38506725": {
     "views": []
    },
    "b14339257e084cd98253e5a802a2c232": {
     "views": []
    },
    "b15804f6b5e340f3bacc9bbcf373c7ac": {
     "views": []
    },
    "b158ee3fbd804c55bae422f817e8d6a5": {
     "views": []
    },
    "b15c8e1a211a4219b852bf64d5a039ea": {
     "views": []
    },
    "b176ca9806bc48ba81c39480abbcd185": {
     "views": []
    },
    "b17fd1867be84211a1d40b6c0ea626f4": {
     "views": []
    },
    "b18f5121dd674efbb7172b163aa29f73": {
     "views": []
    },
    "b19c82ee83c2445d8033eddab4491989": {
     "views": []
    },
    "b1a4746dc3f849688f5e3abaea83902c": {
     "views": []
    },
    "b1c86043a14a4586a990ea914554d5fa": {
     "views": []
    },
    "b1dba1dd9dd048efa5e2a0a98189040c": {
     "views": []
    },
    "b1f2949214744a389089396027ce14cf": {
     "views": []
    },
    "b2054f0247f64186b5919288e8e3b386": {
     "views": []
    },
    "b20cb1ce16e740d3a3c738f9d98fb601": {
     "views": []
    },
    "b20dfd06d1584f3b8f618d5fa9791a9f": {
     "views": []
    },
    "b217afc1e00b423b885acc9a50647cd4": {
     "views": []
    },
    "b21bc6b1788d477094a3a371171041ec": {
     "views": []
    },
    "b21bd8f7d8494dae9025d2df8c00aa33": {
     "views": []
    },
    "b23e1bb9fc2c48f9ba49ff64f326df19": {
     "views": []
    },
    "b246e05edaa64375a48fdfddd9ce29d4": {
     "views": []
    },
    "b249259ad19d452bb770cc4ef7828add": {
     "views": []
    },
    "b272b3e6f7b84564aa2684135b8f6347": {
     "views": []
    },
    "b274fdc70dc04fafac5d22d2e2b3a3cc": {
     "views": []
    },
    "b2940d5e201848718012ed417998407e": {
     "views": []
    },
    "b29b02ff999d456f8d3521c6d6d13f0b": {
     "views": []
    },
    "b2a62bea39754b8ebd26d18226ecf05b": {
     "views": []
    },
    "b2d8b321c97542499ae085397559a83e": {
     "views": []
    },
    "b2eb9738237146f49e879a9d814979f6": {
     "views": []
    },
    "b30129d2792a4e7e82fdeb814cb958c0": {
     "views": []
    },
    "b30a5af914b3493fa28000bc0893bb9e": {
     "views": []
    },
    "b331a8910ff847dbac3226fef70f43fc": {
     "views": []
    },
    "b3353a5adea54a46bac12fbece3ec93d": {
     "views": []
    },
    "b3aef292a4a14f5d964b99dee5cdc3a0": {
     "views": []
    },
    "b3b9f08c5f504a618844a9e9b2958b29": {
     "views": []
    },
    "b3cfe60f06fd49c4a7b7cc9e8f300f0a": {
     "views": []
    },
    "b3d9b18d760848f88c87584e0878f3f7": {
     "views": []
    },
    "b3fdd24c93824cac857e8d89b7f172fe": {
     "views": []
    },
    "b40f528cd01c414aa0e6876b35af21ce": {
     "views": []
    },
    "b42304d07afb4d1189fca142dd945ea8": {
     "views": []
    },
    "b432f53f4b9e49edb9a525c249b0bfab": {
     "views": []
    },
    "b440125cd6b144ae8dc04228d155e69a": {
     "views": []
    },
    "b4514e1812364fc2808672cdd29c828b": {
     "views": []
    },
    "b45f1ca1eb4f413dab461a76bebf9f8a": {
     "views": []
    },
    "b475ba942f124e7c9863da67081932b6": {
     "views": []
    },
    "b4852b1f69814c42ae1a91513d28a630": {
     "views": []
    },
    "b495c0b1b03147268e7d9b0e02aa4892": {
     "views": []
    },
    "b49dcc094dfe473996941a49c588add7": {
     "views": []
    },
    "b49dd544f25542c386ffb92007b0d50c": {
     "views": []
    },
    "b4a2eee991c1479291a780c45ea51d8f": {
     "views": []
    },
    "b4a351ff09c04bf2939d3241195b36ce": {
     "views": []
    },
    "b4ab87bb5ef44cadbdb45506951dbf1a": {
     "views": []
    },
    "b4add597d73c45118225e1aedb2f4a98": {
     "views": []
    },
    "b4b15c8592b24c7cbe661867d255127a": {
     "views": []
    },
    "b4cef3ecee914e228021c970f08a2894": {
     "views": []
    },
    "b514a2e1441e4672b42248e68148085e": {
     "views": []
    },
    "b5153dcc8be74eddac696f90873ea4b4": {
     "views": []
    },
    "b51e3ab89fc4401caca1f7c1c276102a": {
     "views": []
    },
    "b53592479d564583b0b35c969f40722f": {
     "views": [
      {
       "cell_index": 14
      }
     ]
    },
    "b549437047d14bce8ebbaf46e048a891": {
     "views": []
    },
    "b5495dab7eb6464ea4bb276399b4ec7f": {
     "views": []
    },
    "b58586ab55024add9d3eebdbf6580cf7": {
     "views": []
    },
    "b58ad2cdfa13402ba85ef800e208ac0f": {
     "views": []
    },
    "b59a2e89af1e45bbaf10580cc70a5f0a": {
     "views": []
    },
    "b59d02bc7e004d57b3593731df0642fa": {
     "views": []
    },
    "b5a36a9d02614e8a92bf11f3a5f90a81": {
     "views": []
    },
    "b5b92185ce484faead9f69c3ced4a28d": {
     "views": []
    },
    "b5f6f423b6ef44f69b5de59515e629f1": {
     "views": []
    },
    "b5f881bf0db34f30b4c2f5eaa174df88": {
     "views": []
    },
    "b6151220dbf04c1ba0feeb776a518c3b": {
     "views": []
    },
    "b618746b7310464fac6c560a6cbb2f03": {
     "views": []
    },
    "b628bf7bb13a49be9a2b7bd3cbeb7464": {
     "views": []
    },
    "b638a26ad2664d1eb4d933f4e2443b59": {
     "views": []
    },
    "b642f4e91cf54346b468598a09bf98af": {
     "views": []
    },
    "b6560d02f5ad41aca64c0b23445f1ebd": {
     "views": []
    },
    "b682d1865e654238b2ad9ea84871e625": {
     "views": []
    },
    "b6b914ea2d1e46b498ba153ad860c849": {
     "views": []
    },
    "b73ee496c3b6459197f556fbf3cd4576": {
     "views": []
    },
    "b743fe203c5d483d991c90bdcab5c6b5": {
     "views": []
    },
    "b75eed3c99ef43a1890a366bb65e5733": {
     "views": []
    },
    "b77fecd1c8f04d91aa5988c1af644f0d": {
     "views": []
    },
    "b7a18d58695b42ac811ae91f0b597174": {
     "views": []
    },
    "b7b0c3bccc3045d6977609ccdb4cd737": {
     "views": []
    },
    "b7e108fbd3f44bfdba6f40c5efe8d394": {
     "views": []
    },
    "b7e69962ecba46ad8e243b8c05ea464d": {
     "views": []
    },
    "b80c47a4005a4438b3825992f0309a05": {
     "views": []
    },
    "b80ce7d813a24c109826f30416b21630": {
     "views": []
    },
    "b834f5cfeb8e4535a83bd828f9095627": {
     "views": []
    },
    "b852d9d0e9eb4724b33dc09a6f955c6d": {
     "views": []
    },
    "b86ed1dfba7642aa885cde8c215d3b2b": {
     "views": []
    },
    "b872924c1a384717a02bf25a27de36a4": {
     "views": []
    },
    "b8757d249b9f404085d35da09918bfec": {
     "views": []
    },
    "b8764f5dbfa5423696d11352ff6d80f5": {
     "views": []
    },
    "b8c2f1ee905648978ac4eff726b17863": {
     "views": []
    },
    "b8d1cda9bb3d4d8aa2e01462fbefe036": {
     "views": []
    },
    "b8f521e19f2841d2bf3299282f536e0f": {
     "views": []
    },
    "b914a43709944e7a8509e005f56d9333": {
     "views": []
    },
    "b918af4bffff447ab706bc014c0ab7ce": {
     "views": []
    },
    "b91dce53ca3e404e86f2c0998a5358fa": {
     "views": []
    },
    "b91ea1b322d04d92ae4b17bcb83f64be": {
     "views": [
      {
       "cell_index": 48
      }
     ]
    },
    "b94bfb869fb849688c270495d74c553d": {
     "views": []
    },
    "b94c9da706c54568a5e79a47b242a075": {
     "views": []
    },
    "b95396c8b7fe47af976cff5a76ffdf32": {
     "views": []
    },
    "b9690ec514ae4302a750bd3e0252fbfc": {
     "views": []
    },
    "b9a3ba6782c24db6a30b00709a20cf26": {
     "views": []
    },
    "b9b5a1472c494831a9348f858319e4c5": {
     "views": []
    },
    "b9b979c634964f4da2980291a3cbfafd": {
     "views": []
    },
    "b9bf67461e2b42dbbe015f97d9f6bd2f": {
     "views": []
    },
    "b9d29aa7bf434b58ac6dd2623a2752c9": {
     "views": []
    },
    "ba00f931fc06437899869e5bccd2425f": {
     "views": []
    },
    "ba062ce50f8c415396501c43ab488ecc": {
     "views": []
    },
    "ba247ffa88054220b5bc324c5a214af2": {
     "views": []
    },
    "ba355a9dfa794a15b201adec1cb4bcf5": {
     "views": []
    },
    "ba41357d6f3f4281899d90f9aff76e62": {
     "views": []
    },
    "ba433f66f89e4507b154ae9aa99f487a": {
     "views": []
    },
    "ba46fe25a8b74a06bb78385c528c46c2": {
     "views": []
    },
    "ba4871780bfb4b8288687e5b560ff4dc": {
     "views": []
    },
    "ba54abe112cf405f947d318869a8cf04": {
     "views": [
      {
       "cell_index": 10
      }
     ]
    },
    "ba72b39a4dbc450894db807f80c39378": {
     "views": []
    },
    "ba7981f1652b4d868d20da5033580d34": {
     "views": []
    },
    "ba7c1187a3324ac0b9778de97bf9d936": {
     "views": []
    },
    "ba8908b1bc0541da9a986f716b271000": {
     "views": []
    },
    "ba937ab1e5a94e6ab6fb736327f5409d": {
     "views": []
    },
    "ba9be7c270a54ef5a9605d309138d6bf": {
     "views": []
    },
    "bac4b07d4eff450f8ca4683b07d9d4ed": {
     "views": []
    },
    "bac66c304b4e487fa76a839a69a98a2d": {
     "views": []
    },
    "baccd2e7069c4e548af63b4c8daf928f": {
     "views": []
    },
    "bace36a109a743b8af8053a2c763ba9f": {
     "views": []
    },
    "bae0bee1cbec40c6b3804495432deb06": {
     "views": []
    },
    "bae0df54ed72411585ab302bb1b57dc3": {
     "views": []
    },
    "bafe19484bfd4e3b89685185d06fadfd": {
     "views": []
    },
    "bb0743005cef4048af5a8aef34387704": {
     "views": []
    },
    "bb0bf31ddacd421aa30ac8282425831c": {
     "views": []
    },
    "bb2ca14b746c469a87bf204230ac45c0": {
     "views": []
    },
    "bb781bbb845042e8988df4f7b1d583de": {
     "views": []
    },
    "bb8215661b73402f9a025965b3324603": {
     "views": []
    },
    "bb8b3fd910da4494aa26fb8b0f920efb": {
     "views": []
    },
    "bbb15d56d2934c45bf7e87d9bdb27583": {
     "views": []
    },
    "bbb70f2ea02445579e0b10e2e5639582": {
     "views": []
    },
    "bbca8071ad544f40865f7046eaa41987": {
     "views": []
    },
    "bbeb15288902449481f06067325d4204": {
     "views": []
    },
    "bbec84f0e76d45a3a9fc12207b5d89c4": {
     "views": []
    },
    "bc230f9835414c759e56536c48d592cd": {
     "views": []
    },
    "bc4e7b38c02c4e7fb753083d47764fc4": {
     "views": []
    },
    "bc7ba27950d24680bbdd2045f22020b4": {
     "views": []
    },
    "bc90a00fc736474da53d2c9b4c2b4ce3": {
     "views": []
    },
    "bcc9b6c2f7134d81a565cda00b164ba0": {
     "views": []
    },
    "bccd6f2fd4434825be2fb638204aeb42": {
     "views": []
    },
    "bcd02c2c03e34b47953755932308328e": {
     "views": []
    },
    "bce36c32d63d4a309778cece0c630dd3": {
     "views": []
    },
    "bcebe8ab44a343e984e487dcb56f6196": {
     "views": []
    },
    "bcf42d0252df410c8da18d968607fa9a": {
     "views": []
    },
    "bd16bd4413874494a5f7c72df5402fbc": {
     "views": []
    },
    "bd174d0d91034a9eb4e2af232012c949": {
     "views": []
    },
    "bd228928a3404323ae060b1fbe696498": {
     "views": []
    },
    "bd3c64f4d5454462b896e250ee0faa8b": {
     "views": []
    },
    "bd4c31686f544ee3a00c7f72fb8acde6": {
     "views": []
    },
    "bd510030298245b49a250e3b57e52b3d": {
     "views": []
    },
    "bd573fb3baf34928a0484c7a59841b6f": {
     "views": []
    },
    "bd77a6b6c6614f9db7bc3cbbd6685b72": {
     "views": []
    },
    "bd7f221de3794f6d861f12a4c20f1efd": {
     "views": []
    },
    "bda707db43394caea05ae866ac71fb34": {
     "views": []
    },
    "bdae550e388948b586d50d62ff4540d3": {
     "views": []
    },
    "bdb55e6303ba4b70bbc760f7ba53f50b": {
     "views": []
    },
    "bdc68d68e215411bb4724adea52d8f4e": {
     "views": []
    },
    "bdc791b74ea44334a4fc78c1fba7fd40": {
     "views": []
    },
    "bdd310afdfb8421ca411014c2ba71c79": {
     "views": []
    },
    "bdd8d65b4b6f40f49aa676d93afa40f6": {
     "views": []
    },
    "bdfe3011a44f4734af45ace6e5252a49": {
     "views": []
    },
    "be06f61ca37540b997319b6dcb22baa8": {
     "views": []
    },
    "be0fe1f08b374e1783b33dc4a5317a2e": {
     "views": []
    },
    "be423904d7064f72bf26fd156cb61d56": {
     "views": []
    },
    "be602b79358c4ec8a3cc7ed27f165eb8": {
     "views": []
    },
    "be85bd3c848b406ba4814555f94cbe4f": {
     "views": []
    },
    "be89778b79b14e109b04df57dcef367e": {
     "views": []
    },
    "be94545625ef49898c1b724682cd929f": {
     "views": []
    },
    "bea30d1836a0497f83206526502817a0": {
     "views": []
    },
    "bea65a0e37a444268c1ec0ca66540432": {
     "views": []
    },
    "bea981211e3d4069bf5a01905a7f5907": {
     "views": []
    },
    "beb2c84ef48d4671acf62c5086aabe80": {
     "views": []
    },
    "bebb7d6fa5444ebcb06cb262ea9621c2": {
     "views": []
    },
    "bf16cac9fa0c4d9b883f07e857b26ee3": {
     "views": []
    },
    "bf3ff359aef5496b984edd7bc53b1380": {
     "views": []
    },
    "bf412c5912804f10b27fa3ca151e92c7": {
     "views": []
    },
    "bf546bdc446d4cb0b062a46861909453": {
     "views": []
    },
    "bf64aec9132a4d61be844fb62f111ad4": {
     "views": []
    },
    "bf672d0656234ba8bd7b46b135790592": {
     "views": []
    },
    "bf71e4f5463f48848088a3d60a47f0a0": {
     "views": []
    },
    "bf775a93c804435a81902c92d8274fdb": {
     "views": []
    },
    "bf82185a69ce4f62859aa85db5e7b646": {
     "views": []
    },
    "bf8364ac13114945bbf49f5f9e1b8fe8": {
     "views": []
    },
    "bf8ec86257db45fea9062dc6e05402ba": {
     "views": []
    },
    "bfc9dae976c84a2ca6661f305a49e1f0": {
     "views": []
    },
    "bfe4ee69aae642f498969f4d82aa5ff7": {
     "views": []
    },
    "c00152cb83304ed3b2bd05f5b2e37eaa": {
     "views": []
    },
    "c019e1d29e2f4512b59b6f121e6615c2": {
     "views": []
    },
    "c01a57716e03400ea2c30d4cb695cc41": {
     "views": []
    },
    "c02f13fe9bff4cc3a85341fd40a2510c": {
     "views": []
    },
    "c0ad47a5dfe940bb9a76661ed9f130df": {
     "views": []
    },
    "c0c00b97f37f4c38b43ad34f11defdcc": {
     "views": []
    },
    "c0cd52c6536c4f8c95febd1c117f906e": {
     "views": []
    },
    "c0ecbeca6bff45f1b48f9c3a84ae32cc": {
     "views": []
    },
    "c0efccfc2d2f4d789ab947c1c0975ae6": {
     "views": []
    },
    "c1128b88629043cf9d0ebdef7b8b0129": {
     "views": []
    },
    "c11f44fa47964bfdb40b0bfce94c5370": {
     "views": []
    },
    "c11f76eea83443c58c9d52a0ea58b0f4": {
     "views": []
    },
    "c12005dfe2e641f48b0b7f5961cef3f8": {
     "views": []
    },
    "c121d06e47a949bebf8c1b24d8294e78": {
     "views": []
    },
    "c12c137bb057411d8a2ea2a5cc8b9e20": {
     "views": []
    },
    "c13ba3903d394bb3a1a869e6b92c4bce": {
     "views": []
    },
    "c159ad0bbc0845e0a61f1c601f9939c4": {
     "views": []
    },
    "c16d9da828504e0885333189a3ab14b4": {
     "views": []
    },
    "c174ce74fa2a4ddcba098ad3d287c316": {
     "views": []
    },
    "c18b24f6bc104cfdabab548c02d25685": {
     "views": []
    },
    "c194e6213daf42cf8e29621dd9368833": {
     "views": []
    },
    "c1a512fe127c497981b1d3ab840dc4ac": {
     "views": []
    },
    "c1a56a232ac84dea8cfe225e54db53fc": {
     "views": []
    },
    "c1a736f66f484dc487b0d3f7387a9f20": {
     "views": []
    },
    "c1a7e330b7d749ba830e810955faec4f": {
     "views": []
    },
    "c1b55ad0f7f643f490e0cf90a134867b": {
     "views": []
    },
    "c1cbd9898fe74f76a11b60ea49597987": {
     "views": []
    },
    "c2055d3d541146ddad7fec43e857de3a": {
     "views": []
    },
    "c211566f4a56441f8fc74ca458fc6da3": {
     "views": []
    },
    "c217bb13710543469f96cfab733c5dff": {
     "views": []
    },
    "c22f6219318042eabb9befa3a6967b8f": {
     "views": []
    },
    "c239d3069699487ba7c1ed9e94ad6ced": {
     "views": []
    },
    "c25439c4b10343d9a28bb27e88277240": {
     "views": []
    },
    "c27625e574104bb297f9e8de167dc455": {
     "views": []
    },
    "c28b06ed75f9485f958b0c4a4009b5a0": {
     "views": []
    },
    "c28d78425658468a9bfe971fb1213939": {
     "views": []
    },
    "c297e2e4520c479dbdd15c8c624a67a0": {
     "views": []
    },
    "c299c57c78924f4180902003f8c25673": {
     "views": []
    },
    "c2a6a086a161452fa7b6dedafc52fa65": {
     "views": []
    },
    "c2c14cb253484d31b70a8deee971cac2": {
     "views": []
    },
    "c2e5558c79234248a0716397ce0bc04e": {
     "views": []
    },
    "c336dca0265241ca8aa1f349097dfaff": {
     "views": []
    },
    "c34b269d6dd94ad99872d57c0e527ad3": {
     "views": []
    },
    "c3694175035b4ee783ec4d563fed6317": {
     "views": []
    },
    "c3901ef718bd49f3923d038f26b0ac2b": {
     "views": []
    },
    "c3b875dc80914208932995cae5e2bf6c": {
     "views": []
    },
    "c3dc2175d1254232b83fa12ced1b7fc5": {
     "views": []
    },
    "c3ef704facc2465cbef9b9e3a06e0246": {
     "views": []
    },
    "c417ca0965544f06b4833ee7811c18a7": {
     "views": []
    },
    "c41bfaf89bef407ca9b741140b3dffa0": {
     "views": []
    },
    "c44972f5d21c4562ad3d1bcca8690534": {
     "views": []
    },
    "c44fab46599d4e589705622889dcc924": {
     "views": []
    },
    "c46fa71682004da8a5ddbc2f91e3014a": {
     "views": []
    },
    "c481bfdd4eb047b39bd120b4afeac9c7": {
     "views": []
    },
    "c4ff097324ef4c0d8527f25bbfb4d7b2": {
     "views": []
    },
    "c51f2a3d01a34aae914959bec1c3f0eb": {
     "views": []
    },
    "c5578587364c4f539c26fc40445f52e5": {
     "views": []
    },
    "c564defcb2e34db4bf736e6d8c0482c0": {
     "views": []
    },
    "c56a63495b2240c4afa915c873e9de6c": {
     "views": []
    },
    "c58f394f4b9a4f518a56d028435307ed": {
     "views": []
    },
    "c593aaf43a044c06ab5d05967d71e1ec": {
     "views": []
    },
    "c59bdc1d1230416b8b16f3a906e6716a": {
     "views": []
    },
    "c59e7693b5ab47a9810c47fb9d42375e": {
     "views": []
    },
    "c5a28eb42b6b48fabf2cfe62d9e23ed5": {
     "views": []
    },
    "c5bb278cd400454daf7ed7fabebff5f4": {
     "views": []
    },
    "c5c907a4aca349c791efd5a6e92c04a7": {
     "views": []
    },
    "c5ccb82f22364a8089b344045ebae2f4": {
     "views": []
    },
    "c5d0fc4929e24d40b9a6941c40c51236": {
     "views": []
    },
    "c5efb3a0a20d4a3cb5f4f8b0544f7833": {
     "views": []
    },
    "c65667a1a84041ad96a8d74908f55400": {
     "views": []
    },
    "c65fbe7600df48eb90bd84056a2732dc": {
     "views": []
    },
    "c662f97b36b54acea99d0dceda60eed8": {
     "views": []
    },
    "c696b3e4665945eba9a7e9e46e88fe0e": {
     "views": []
    },
    "c6979ff465ef45ce9e31cfa3f7c3acd6": {
     "views": []
    },
    "c6a59182e7da4720b73baa871755de91": {
     "views": []
    },
    "c6c62b95129343b7848483add8ab8291": {
     "views": []
    },
    "c6d990349e92419a9f1b13ed36952844": {
     "views": []
    },
    "c6f63c73e0e0498e9be499b645cf05bb": {
     "views": []
    },
    "c7032afd29bc4d82acf3052d358d5c73": {
     "views": []
    },
    "c707ae63626542039eb7ce0022d6ca10": {
     "views": []
    },
    "c7202f00ab0f4a348d51014b7a93f7cd": {
     "views": []
    },
    "c73b3e5835d041d4a7ff71fe066ad9f5": {
     "views": []
    },
    "c74403dbca604e6b8ae0747f2c510ab1": {
     "views": []
    },
    "c74c564700e6474e9523137ebe1824a4": {
     "views": []
    },
    "c7514dc8418b459ea8d68732d412cb8c": {
     "views": []
    },
    "c76b33ec60af43ebbe5d4618ae64ccda": {
     "views": []
    },
    "c76fe04b06854b2d85353389434b0a78": {
     "views": []
    },
    "c774bb423e0649239b4ea02a795dc771": {
     "views": []
    },
    "c7bc1907786d4cf995ef20be25cddae9": {
     "views": []
    },
    "c7bc591b69cc45ceb1b6db1ad726bd61": {
     "views": []
    },
    "c7bd32342ccb41e98dfdd4588983d3dc": {
     "views": []
    },
    "c7c385bb93b040dcb62404ed07dd04d2": {
     "views": []
    },
    "c7ee491635e1437caad53ebafca8d730": {
     "views": []
    },
    "c7f6b3f680454514a9f7ca5569832166": {
     "views": []
    },
    "c81952c2b10d4276844bea697110a5df": {
     "views": []
    },
    "c830cde307e04aedb8ef1668cd10f919": {
     "views": []
    },
    "c841079f577f4e3ba4c5d9858bdb50f5": {
     "views": []
    },
    "c843c6dc850c4ca38051a5a1c1474d01": {
     "views": []
    },
    "c8455099d66c4fff8b007b3ac612d30e": {
     "views": []
    },
    "c85888d08aba4ec2ad9fb0edcb532932": {
     "views": []
    },
    "c86191f4e99349a1a01ba446076ef575": {
     "views": []
    },
    "c87300204bd84967b9f93374709de076": {
     "views": []
    },
    "c8813e3d9ee9490881113085d5b1786c": {
     "views": []
    },
    "c886647b26ce4175a6e92bbd0dbacb73": {
     "views": []
    },
    "c8a2142101a14237a61912d5e1ca5b45": {
     "views": []
    },
    "c8c734a04c9546deba1f8b56cfbb6232": {
     "views": []
    },
    "c8ca0b7de80b4db4ae63290a16df3cc7": {
     "views": []
    },
    "c8dfde6dc7944d6da55686d28b023178": {
     "views": []
    },
    "c8e23be960d341d295442e323442d7bd": {
     "views": []
    },
    "c8fbeb8fb772427a8a51aae5289a7b68": {
     "views": []
    },
    "c90e85e5436449b1a3effae82f89c392": {
     "views": []
    },
    "c90f6efe72ce4b628640ef5ceb559512": {
     "views": []
    },
    "c9230459b54240d38885865cc4712f32": {
     "views": []
    },
    "c9284976a0dc4b6db92e8339e14661fd": {
     "views": []
    },
    "c9436c2bf4f04318ac39ff4b219be986": {
     "views": []
    },
    "c95dbabe84464d0ea50c72dc8c41551e": {
     "views": []
    },
    "c96c984a7a824e54ae78f11e308b7d48": {
     "views": []
    },
    "c974e7c591cf4d32a6958f10e0daccc8": {
     "views": []
    },
    "c97ce3c4ff1e4f419faeaa7be44d1736": {
     "views": []
    },
    "c9846a0cc74349f9b4b236079c2dde4c": {
     "views": []
    },
    "c9a115f7879345389f3b4c89684e3c00": {
     "views": []
    },
    "c9a7117b6db241469cb150ec5ab90890": {
     "views": []
    },
    "c9d97840d566461f8a8ae848d864bb40": {
     "views": []
    },
    "c9e7fb01469649279deb840a21648a5c": {
     "views": []
    },
    "c9f3908651e346d3bc85d4cb94b292c6": {
     "views": []
    },
    "c9fc98c366af48e69f45c4e594d577eb": {
     "views": []
    },
    "ca47aa7a334346e9952a5c6cb660079a": {
     "views": []
    },
    "ca628e1ed85e4be9a5bcfb6d3fb26e0c": {
     "views": []
    },
    "ca66a0b41d8445b7a3d8e75437b03a83": {
     "views": []
    },
    "caabb1d6171d42b79b547d1d439c98d2": {
     "views": []
    },
    "cacfaf539aad489badd7860a91652d47": {
     "views": []
    },
    "cad09a68afe94bdba1fbd6e1bb832e4a": {
     "views": []
    },
    "caef87edd01a4f2e949fd0cc2c7a3513": {
     "views": []
    },
    "cafd45889118400e9eb2a7a8c4f5d623": {
     "views": []
    },
    "cb0f4ff53b554885bf7b4aba6d5c9541": {
     "views": []
    },
    "cb3e4cbb1fc74ddc8e9dc87e84ac5680": {
     "views": []
    },
    "cb55086f5bf3476b9d281e613b5d6a5e": {
     "views": []
    },
    "cb64fd33b5bf482f9b7ea1089e0a641e": {
     "views": []
    },
    "cb6ffaf128a04ae9b950f75e70df47fe": {
     "views": []
    },
    "cb87672434aa4262a9d1a8b0c31e7874": {
     "views": []
    },
    "cb9b554edd6544838002a28e85409319": {
     "views": []
    },
    "cbcf3dc99a594ab289e84b85275c511e": {
     "views": []
    },
    "cbfa45f2fd994ac181dbe2b7afdfb2a8": {
     "views": []
    },
    "cbfb1afd9224430b8e8c86bfd00a0109": {
     "views": []
    },
    "cc270e8d9b7c495ab7800598da2c2ab4": {
     "views": []
    },
    "cc2a18567c66437988c93429e20711a0": {
     "views": []
    },
    "cc33174ed8b54cf4a5602bd8c80e6bf1": {
     "views": []
    },
    "cc7c03484704435cbb7d5d26b56915c3": {
     "views": []
    },
    "cc7fd8cee67b4330bfa17ee92157832b": {
     "views": []
    },
    "ccc0f928a99143118fad451997f1a380": {
     "views": []
    },
    "ccc4ae7e89d549ebb41b9582cd058101": {
     "views": []
    },
    "ccd04582224e44dcbe7f170fbe70318a": {
     "views": []
    },
    "cce96784fe2a46bca6343356bc036ff6": {
     "views": []
    },
    "ccf9aa9a566f43768a9c34b22595151b": {
     "views": []
    },
    "ccf9e7fd1b7c471b9800df67147c7be8": {
     "views": []
    },
    "cd05056eab5548eba72e6e4219dae3d8": {
     "views": []
    },
    "cd15923f827f48298db1275ad774d0d8": {
     "views": []
    },
    "cd383f0921ca44d389d09b8db08c5451": {
     "views": []
    },
    "cd4bba7ee2024450bc1696887640a8f6": {
     "views": []
    },
    "cd597997fc8c41558330b528f0ae15d7": {
     "views": []
    },
    "cd5a3dfc451c4cee96aba887b1df96cf": {
     "views": []
    },
    "cd7adf0539834bae91b23ac452a9bdc7": {
     "views": []
    },
    "cd7d7eb3c53b476d93c7279b3568b781": {
     "views": []
    },
    "cd7f3e55585343aa977b5f04ae0669a3": {
     "views": []
    },
    "cd9bf0e10035458fadc9e157b7ed99e1": {
     "views": []
    },
    "cda6268735244e25b78319b5b5edb610": {
     "views": []
    },
    "cdbc12e54f5546a6912a967529e22837": {
     "views": []
    },
    "cdc5183c710842169b79822771658c14": {
     "views": []
    },
    "cdc6587731864220a88fd7441cbaa00e": {
     "views": []
    },
    "cdd8f6b9148749d78512f41aadaddc19": {
     "views": []
    },
    "cddad298bf804310b91f04f0d791aac2": {
     "views": []
    },
    "ce18e150ed624e718063d5af239bea8a": {
     "views": []
    },
    "ce39254dd0b74dbd8176bd4633371dc0": {
     "views": []
    },
    "ce40d107b68b42d193b9284142b1225a": {
     "views": []
    },
    "ce5a76be3d7147d388baea5a44efe2fc": {
     "views": []
    },
    "ce5c3cb620944cffaab9427ec79943f6": {
     "views": []
    },
    "ce5c565aa741474ab0b2991efd5e7616": {
     "views": []
    },
    "ce5d1dded9484605aa09e09e7aca03c2": {
     "views": []
    },
    "ce6afd32fe624a1982c3e9a2ec888ad7": {
     "views": []
    },
    "ce768cf0eefd4e09bbed3c68579218ea": {
     "views": []
    },
    "ce793ed257714d499adc1a61a70e34a1": {
     "views": []
    },
    "ce9eccddafb241a1b1b172e533d2278e": {
     "views": []
    },
    "cee33fa99a1c417092496a78b1eedf03": {
     "views": []
    },
    "ceede790ab9447548609bd7538b03ee2": {
     "views": []
    },
    "cef1082d198f4a4ab3e4125ce9cb4fbd": {
     "views": []
    },
    "cef39649e8b14174905fffc2569c3ee5": {
     "views": []
    },
    "cf01c29b464b4f93ab0e296843b8f7ee": {
     "views": []
    },
    "cf1fbb903f564b1293be562669823ba7": {
     "views": []
    },
    "cf27eba887c247c1bbd2cf1aafe77191": {
     "views": []
    },
    "cf344a14eb0f4898b03bd8d0c7848a6e": {
     "views": []
    },
    "cf3677c3b4b84db2b72e74521f4fa3ac": {
     "views": []
    },
    "cf3fae49ed36471b9dba1911baef8bf6": {
     "views": []
    },
    "cf564e4ad23243bb886ebda0c518733e": {
     "views": []
    },
    "cf674e0735fa448f9c6e603848351d1f": {
     "views": []
    },
    "cfc44ffa772447e9af17dc8602c63b04": {
     "views": []
    },
    "cfe2e56780344286953d283cf37ae8a3": {
     "views": []
    },
    "cff32044ef294a99ab8ebd29f6217ca0": {
     "views": []
    },
    "d0164989d5e94e87ab8ed459c4b0c19f": {
     "views": []
    },
    "d0180e7fc29d4648b36c55d457c03fa2": {
     "views": []
    },
    "d02b3f5b5fb24d3a92243b473963a257": {
     "views": []
    },
    "d02b41ff87d145e485d0e3f4d02911cc": {
     "views": []
    },
    "d02fe7ca96c047408c38aa585465e46f": {
     "views": []
    },
    "d03d05e8169b4834b85158a2ed521b52": {
     "views": []
    },
    "d03ece50d6b040758f5d23b21a6c9d7b": {
     "views": []
    },
    "d048f5768a374bfcb6fdb765d530c27c": {
     "views": []
    },
    "d064cfb7d14f49b592a0d4f31675ef9d": {
     "views": []
    },
    "d0757de1cfc8448eb8220b68c738e0ff": {
     "views": []
    },
    "d0760e5effbe4fb4bd7aca006bbdf9a5": {
     "views": []
    },
    "d096acb473eb46e6ac814b6baf03ac09": {
     "views": []
    },
    "d0baa7ed7d63413db3eab412174613cb": {
     "views": []
    },
    "d0ca93563e1c45449e8c105f595bf77c": {
     "views": []
    },
    "d0cf8df1c8af448187dbac6f30fe4804": {
     "views": []
    },
    "d0ed418be0a3459fb060bdf537d06fd7": {
     "views": []
    },
    "d0ee59917b4b47edb9ff525e1387636e": {
     "views": []
    },
    "d0f11fafc9544ec2b27ebacbd7a040b2": {
     "views": []
    },
    "d0fb93357585456597da88944ff5fb1d": {
     "views": []
    },
    "d10dcb32851248dba6e550b05aa8c843": {
     "views": []
    },
    "d127c7b866d64dd6858770b0969a6f3e": {
     "views": []
    },
    "d140cfdad0074b8783b7971199d9b8a6": {
     "views": []
    },
    "d1468d90d05848b3bf20ccd70a837997": {
     "views": []
    },
    "d15bb785b26e4b09a9e1699551bd16de": {
     "views": []
    },
    "d176f2046bf748ff83bfe47bbefd2441": {
     "views": []
    },
    "d17fd13993f54843bbcef35043ece40b": {
     "views": []
    },
    "d181290608dc4dab9b30396c47390c10": {
     "views": []
    },
    "d1aa839443e2494cae9a47595012d70d": {
     "views": []
    },
    "d1adb064e579412e8ca6c1fb8a7a2312": {
     "views": []
    },
    "d1bf8dc903094d0d90d64e9648e7f0cb": {
     "views": []
    },
    "d1ed96c904da4704aeab61d5fb06e326": {
     "views": []
    },
    "d2088dd1b65f46529f85c24b57fc5b2a": {
     "views": []
    },
    "d21524703da24e13b0bb6babe4ec3e27": {
     "views": []
    },
    "d216e72499ac445c9623ae81c3bed44f": {
     "views": []
    },
    "d22dedeffc09475493d9f1a4b1f90a55": {
     "views": []
    },
    "d2325e1132e2442d9d87f3fb834b2528": {
     "views": []
    },
    "d2350cb3ce5047298106af3d748c06a0": {
     "views": []
    },
    "d254991713524139a1c52e663a0d42b1": {
     "views": []
    },
    "d257e89eee3c4885b33c46f0aea77784": {
     "views": []
    },
    "d2766925881840718297edb541a0bbc7": {
     "views": []
    },
    "d2a66f9d4814444d9daa3fbcfc7890df": {
     "views": []
    },
    "d2c214624f9648659c05db6bc5d46715": {
     "views": []
    },
    "d2c4371494b8459fafa4f37ea22b3a42": {
     "views": []
    },
    "d2dc2006862e4a4387700a7e81102735": {
     "views": []
    },
    "d2e3a361e77f43a9b4f7bc5e238d0d20": {
     "views": []
    },
    "d30b798bb9544d928cb63826b4806ca7": {
     "views": []
    },
    "d31fa4370dad442394c74004184e349d": {
     "views": []
    },
    "d32287c9d7904dbbb0d9d3fe34e5e01e": {
     "views": []
    },
    "d3513b36453949c6a22d746574133e6e": {
     "views": []
    },
    "d353a294abd64f7b92e15fd122ad7477": {
     "views": []
    },
    "d35d508d7a464b4492bca6f1d8e2ab2a": {
     "views": []
    },
    "d36c95c729114bfd91f25c4cecea1920": {
     "views": []
    },
    "d3a52b1d66164a049d2ed0a14c087d45": {
     "views": []
    },
    "d3a7060af7744c89aeee8d55627af45a": {
     "views": []
    },
    "d3b05da5837b4daab2f5917b19da9553": {
     "views": []
    },
    "d3d99672a5ad45c2abfe556a9ba52ece": {
     "views": []
    },
    "d3de5135b11c4950b9e7a3cbc3d21bbe": {
     "views": []
    },
    "d3f53b26c23945eaa00783ae5987d753": {
     "views": []
    },
    "d404df9871a744bda5c64b4f21305d8f": {
     "views": []
    },
    "d417867ce85f45279bd39beac3cffbc8": {
     "views": []
    },
    "d41c903815314a108ded4bb66b2b42fe": {
     "views": []
    },
    "d42952b213a04d75aee8a7b0370e135d": {
     "views": []
    },
    "d42a61c0079642fbbdf487a0ba9502f9": {
     "views": []
    },
    "d42e0600a509405f852d885587fdc7bb": {
     "views": []
    },
    "d42eb53a2e094becb917ff026f02fa51": {
     "views": []
    },
    "d4328ee1e29d4d769f3e036d2223bb15": {
     "views": []
    },
    "d455f6b87fd84079a01e4e5bab19215c": {
     "views": []
    },
    "d47dcac0dd014aabb870a39b7a74ad57": {
     "views": []
    },
    "d4862e706d424d748f547019d2d1489d": {
     "views": []
    },
    "d48ad5a33c4b4278b4ca29fc37336b3a": {
     "views": []
    },
    "d4918c8385834d1c97b2756d3a5c8b25": {
     "views": []
    },
    "d4a39a6e90394e71a228972940805f6c": {
     "views": []
    },
    "d4a52fe6121140b9b7b97586e56d0b63": {
     "views": []
    },
    "d4b0d5e153d048f8be3a0c84c0df503e": {
     "views": []
    },
    "d4ce0b41d8ab4c0d9e1c9af4d5ed7da9": {
     "views": []
    },
    "d4e8d662f2bd4826b5ef06c840d4445f": {
     "views": []
    },
    "d4eb407a06bc49f7b2e884091336ae86": {
     "views": []
    },
    "d4f65fd2017b414d8d1c80b63ad54be2": {
     "views": []
    },
    "d5130179e795462ab0593732e6d3a582": {
     "views": []
    },
    "d51e34f320a940ab980beef70b79a747": {
     "views": []
    },
    "d528b2ba22c8427b87727642a7659e84": {
     "views": []
    },
    "d52ec8b0ba43446bb48a04bb88da036a": {
     "views": []
    },
    "d53815cc4a854380becba232b7b19b91": {
     "views": []
    },
    "d54cdb3ebe974e47976ee884d5e66e13": {
     "views": []
    },
    "d5662810fcf94f4a86eef8e83937d261": {
     "views": []
    },
    "d56d8999ff384138be7b8961403af5e1": {
     "views": []
    },
    "d585b6933c3b4566aabb97ec40819271": {
     "views": []
    },
    "d59a16a60d834fe3ae5fb67569f82fbd": {
     "views": []
    },
    "d5ad9b6eee9048b5a2be2a25290589af": {
     "views": []
    },
    "d5b623f7b80046959ced343562c6c3ca": {
     "views": []
    },
    "d5c3115715ec4bebbdb669754c5b2362": {
     "views": []
    },
    "d5ca9fb1877541bc99d4f422deac9724": {
     "views": []
    },
    "d5cf0228f3074f0baeb2f9e5ba0c5af9": {
     "views": []
    },
    "d5e2391e3a76463e8f2f8637006135e6": {
     "views": []
    },
    "d5e5b110522f4cc0a69ab532f2a9bed3": {
     "views": []
    },
    "d5eda2d0a2a44ff59e7eaaa33a668f47": {
     "views": []
    },
    "d5fcd971384746c4bbe47246959a90cb": {
     "views": []
    },
    "d61bca9bde2f412ababcd9f4218c1960": {
     "views": []
    },
    "d61cba68588a4aa99795b17e978fe7b6": {
     "views": []
    },
    "d61d1b14c58e4d14975c79c277557127": {
     "views": []
    },
    "d61ec14b5f1a490d996ce97d6d9b2cd6": {
     "views": []
    },
    "d62e68266557466a8e72b31b9f52ad80": {
     "views": []
    },
    "d646b21074a041e8a92bbcda0017bc39": {
     "views": []
    },
    "d6507d47f8db42389418069854ed20ec": {
     "views": []
    },
    "d6696e0d257e41a3b04f91374b1a59c4": {
     "views": []
    },
    "d688bb86124b405b94ea6bb38e87ebe3": {
     "views": []
    },
    "d6947f32a60a4314a892047a1fa3342b": {
     "views": []
    },
    "d6968b16dd544a94a2e45d34fe610a45": {
     "views": []
    },
    "d6b38cf9e5594c109306822b4fa08db8": {
     "views": []
    },
    "d6b6dff25f994562ae74ea18615d04b8": {
     "views": []
    },
    "d6d4a11254c44d38b68777faf1ba7e54": {
     "views": []
    },
    "d6ed1da2262b44658fa722f7bf2ae118": {
     "views": []
    },
    "d713d4e7bebd4708ae15e911b989d4d6": {
     "views": []
    },
    "d74a6fb6f41f4fd38d39bdc24d147ed1": {
     "views": []
    },
    "d77604d15d16400a9d66e144afa03eb7": {
     "views": []
    },
    "d7ac937ef6cd44599c6d7097c9a085cd": {
     "views": []
    },
    "d7bf00d07e37442e8be339a4ffb87982": {
     "views": []
    },
    "d7bfc5db1b484017b376a5f1c8fb2b9b": {
     "views": []
    },
    "d7dc81cb56f5421ea9fe551420668592": {
     "views": []
    },
    "d7f0fc5504894a7583b017fedf547cbb": {
     "views": []
    },
    "d7f81601ad8541c3aaa55d300cd8de85": {
     "views": []
    },
    "d80026ce77b449e296a86b97d01a6144": {
     "views": []
    },
    "d81a67c881884c3bbfc4fbe29163be0e": {
     "views": []
    },
    "d8201ed475e64eacbfd4488fbfc1ea6d": {
     "views": []
    },
    "d8338a7f085c4b3aa0b32a424ce5a9af": {
     "views": []
    },
    "d83c73594a344e4bb522f7c3872f237a": {
     "views": []
    },
    "d84adbe2ac1c419bb2ad9f91d239313a": {
     "views": []
    },
    "d84dfc60958247ac8e588c022c864fd4": {
     "views": []
    },
    "d85852eec7ac4fe6953d950cb60e6773": {
     "views": []
    },
    "d86681ea211547e3a03d0d82e7106da1": {
     "views": []
    },
    "d88034d76be04a078f73ad284b4742c1": {
     "views": []
    },
    "d88913d1d908475691b3f62b6d089313": {
     "views": []
    },
    "d88a7bd5f52e4ee1aaca7acf2272269d": {
     "views": []
    },
    "d8bdd308251d42cbaf08862ba12fa258": {
     "views": []
    },
    "d8cff5d1d269455b8bafe1d43f14c0e5": {
     "views": []
    },
    "d8d492d893114f6d9446ec2a70f03f9a": {
     "views": []
    },
    "d8d6a20ebc604d15a8fd9c8d6b7fc057": {
     "views": []
    },
    "d8e9a6814ca54f6daf694b4b65b62f05": {
     "views": []
    },
    "d92298f336ac48799d7c2778b84a93d2": {
     "views": []
    },
    "d92966291af04f0aa085c3a79d9d6494": {
     "views": []
    },
    "d92daf0ed2e949a4b0869e33d37b8f71": {
     "views": []
    },
    "d93e217ff9a14a39b53109a4e2ecbf56": {
     "views": []
    },
    "d95531c454024cc2886a2243c4113b1f": {
     "views": []
    },
    "d956e5c771b1472396a36c1e7c5a94fc": {
     "views": []
    },
    "d95b0c62e7f84c82b2aecfb68eaf6f5a": {
     "views": []
    },
    "d97049bb37104348a4fa005be49bb7b7": {
     "views": []
    },
    "d981705a33434efca332103af5cf79b5": {
     "views": []
    },
    "d98485b41b774d12b015b2973e7d1ade": {
     "views": []
    },
    "d9865df2a24b4bd8a5c4d81e89084960": {
     "views": []
    },
    "d998048f219c44829be061b641e985f4": {
     "views": []
    },
    "d9a25ce48aed4dcda960f1ad71ddbb84": {
     "views": []
    },
    "d9a6adfa06d344a6b511eceb10e01065": {
     "views": []
    },
    "d9af6a3f3f3d4b3ab686a7e0bfb4556c": {
     "views": []
    },
    "d9b2feba706248e686f834499076707a": {
     "views": []
    },
    "d9b37e76a3884e9bb59b2705acaeceee": {
     "views": []
    },
    "d9d9f8847769405e8d1c826a87c8246a": {
     "views": []
    },
    "d9e668cfb14346619e2e1c5833cddd36": {
     "views": []
    },
    "d9ec8da3dbd34703976e93e06a5df7ac": {
     "views": []
    },
    "d9fc2d47218b4034a59437964fb81887": {
     "views": []
    },
    "d9fd794ea90840b28c4441cec4fa39ab": {
     "views": []
    },
    "d9fdfd1e99504ae496917f3e7a1dbffc": {
     "views": []
    },
    "da2b543958984b448065376919356e83": {
     "views": []
    },
    "da376c8229e941edbf9407ac4f352f76": {
     "views": []
    },
    "da74a3dc56b84d0f89422996dc96a642": {
     "views": []
    },
    "da8aa7aca704478f9d5d73a040cda103": {
     "views": []
    },
    "daad97580cd34a9e9d0254905c97a66b": {
     "views": []
    },
    "daafe7920ae049f5ab6cc9fffe5b4a6f": {
     "views": []
    },
    "dab6385ff4b8439d9722375bb7bb20f3": {
     "views": []
    },
    "dad3e0ecde5142fe9456dfbf76ff3c9c": {
     "views": []
    },
    "dadc285168c64dc7b73e0c6d8867a213": {
     "views": []
    },
    "dae3dbc9677045c8a0ce2cbc5326932b": {
     "views": []
    },
    "daea8ee57dcf4db28cbba7aa0bdd6e1b": {
     "views": []
    },
    "db043298eeb54530b072c4bad5a5f5a1": {
     "views": []
    },
    "db143328f0814dbebc10e348a04affc4": {
     "views": []
    },
    "db1fe1db39154f56ab03ee0a6b493a3a": {
     "views": []
    },
    "db239cff2daf4e15920fac8b67d1401f": {
     "views": []
    },
    "db4020c3114d424da4c4d6d6c0ce1c79": {
     "views": []
    },
    "db605f3d15d441799395c795f46e6187": {
     "views": []
    },
    "db627c1f8518487384132a5021a39851": {
     "views": []
    },
    "db73190dd3854987b10c72b13bae0ffe": {
     "views": []
    },
    "db7524c1caae4fc29a0abfecfe1be513": {
     "views": []
    },
    "db86ea74b6b44f4cb0b919241528acf2": {
     "views": []
    },
    "db9af5d600074d068ddae66ca915e671": {
     "views": []
    },
    "dbaacd4d56844a139b0293123bf30d14": {
     "views": []
    },
    "dbdb39e2432a48829277388a7e3d231a": {
     "views": []
    },
    "dc259ddb6efa453e80e09dd277238664": {
     "views": []
    },
    "dc2ef1c14c6d4e8b87ae1160b0472dc3": {
     "views": []
    },
    "dc8a0657bb944cbb9e84875ba1fe785d": {
     "views": []
    },
    "dcd5c824031d46e98a201e8ac2a97ce2": {
     "views": []
    },
    "dd06953036bb4cb2987880c91d862578": {
     "views": []
    },
    "dd1e8e4cd07b4f1ab2597d790d24240a": {
     "views": []
    },
    "dd26e123a76b4500a53baff3b10c974b": {
     "views": []
    },
    "dd37a6932ed14655a44d6492a00cfc65": {
     "views": []
    },
    "dd3ec2afcca34725ae34fdd730dcced2": {
     "views": []
    },
    "dd5ab4cc3ce6413e8cba215540e34d87": {
     "views": []
    },
    "dd651bb5320640c282dcfc57c820bc63": {
     "views": []
    },
    "dd78f93a31f946debc3004b5f03fae5a": {
     "views": []
    },
    "dde585b3e18d4a99a20de590681405d2": {
     "views": []
    },
    "ddec10a8e4614bbb8e078a56918e91ad": {
     "views": []
    },
    "de558fcf9ed34665a9991819dab7374f": {
     "views": []
    },
    "de774eabfec44c2892b2e92d606093ca": {
     "views": []
    },
    "de7d3fa4e3ab4c5485e03727fc0f110d": {
     "views": []
    },
    "ded95d9a98164f1aaad8f3b338da04ee": {
     "views": []
    },
    "deedd2f3845b492eb7a04ed7adeaff01": {
     "views": []
    },
    "df18605071994506ac1fc395f6ee2aef": {
     "views": []
    },
    "df1b988f047043769efeaff090567cb1": {
     "views": []
    },
    "df2b2e2d295a4ce7a4db872d7ec6fef5": {
     "views": []
    },
    "df390f270c6c487b888887c9849b8b4f": {
     "views": []
    },
    "df39635dc76d41adb9336063044866f7": {
     "views": []
    },
    "df3ba367178643f3a509437a338ffff3": {
     "views": []
    },
    "df52c4b7fde941a4aec6aebef29183f1": {
     "views": []
    },
    "df6068390182424bae936550f9c9f641": {
     "views": []
    },
    "df6de8e293b64b7c8c5000769f4313ad": {
     "views": []
    },
    "df7c8d795bc74736896665dae96703cd": {
     "views": []
    },
    "df83a5af3b2c4d3e81b1b83544406738": {
     "views": []
    },
    "df90473ee5994c65b575a041c21292fe": {
     "views": []
    },
    "e026bea19248442ba4987f221f7f4bbc": {
     "views": []
    },
    "e02a92b8503142939f182dbf7b9a443e": {
     "views": []
    },
    "e02b4dbc07524380918b5231fe74b5bc": {
     "views": []
    },
    "e02f9e60060f4ef0a316a9e131ffd450": {
     "views": []
    },
    "e04afcc296cb43ca88643408c7357449": {
     "views": []
    },
    "e0678b947e5746059e63382224675e4b": {
     "views": [
      {
       "cell_index": 8
      }
     ]
    },
    "e06c6a94dc274a66b348632558d827c1": {
     "views": []
    },
    "e073439515d34173b32c07974cef9995": {
     "views": []
    },
    "e0909726de95437997354360bd33a9d0": {
     "views": []
    },
    "e09f3f4aefcb41199248fee28a155c7e": {
     "views": []
    },
    "e0ae2268844b4bd4bf32dbd3f156e62d": {
     "views": []
    },
    "e0be4cf19cc2441c885068e151aeb48f": {
     "views": []
    },
    "e0c330b336744086afc79d206f17f6e0": {
     "views": []
    },
    "e0d0b3c5cd7847a6887759eaa777ed2a": {
     "views": []
    },
    "e0d6434cfdf1492fb2708987a1787e3d": {
     "views": []
    },
    "e0e67f4552134fbe8829e0ec2bb10755": {
     "views": []
    },
    "e0fa47efda804964a9fcf53f4439c08b": {
     "views": []
    },
    "e0fa5b4dc5fc4d3f991339924cba9ade": {
     "views": []
    },
    "e1025184ddb642209b43ea144b2070a7": {
     "views": []
    },
    "e106ff37505e49418b5d30cf8a6f818c": {
     "views": []
    },
    "e1115da124f54dbebf43ad56a608c880": {
     "views": []
    },
    "e127af5d08dc414ca0b9186b398b3269": {
     "views": []
    },
    "e133e522b2494506bb68a3b589cae023": {
     "views": []
    },
    "e13a30e015f947848abab2b2657d12ed": {
     "views": []
    },
    "e1473de60b444008bf987e1ebdc8a67e": {
     "views": []
    },
    "e162bd827126422fbae79918117359bc": {
     "views": []
    },
    "e167abf7358f4794a600ea138b8c4d3d": {
     "views": []
    },
    "e16b4e401655434fa17c95b5ad2c7e3e": {
     "views": []
    },
    "e16d305d9f7946218af33995a05e2828": {
     "views": []
    },
    "e1ab388628eb49fe901d9411189c8f21": {
     "views": []
    },
    "e1d5d21db30f40218e75559d0233270d": {
     "views": []
    },
    "e1dfecf8a682436d8641928d737f7c15": {
     "views": []
    },
    "e1e729bef2074a8a9b1344d1278346eb": {
     "views": []
    },
    "e1e9b1baaf2d41658834bf956bf97fc6": {
     "views": []
    },
    "e1f977a830b340329d4f6a38dff8c9df": {
     "views": []
    },
    "e210a8e78c354bcb9c0ecdebcc62d2d3": {
     "views": []
    },
    "e24210b4ebc34bcda3a008d516e9ba85": {
     "views": []
    },
    "e2448f40d79d4a59bd63c8e6e19a0fe1": {
     "views": []
    },
    "e2901672600146698b9a7d570ca1bd81": {
     "views": []
    },
    "e29255edf51c4caaa8f917e91f597e06": {
     "views": []
    },
    "e2b31e593afb4ec087f8a4bc2a992f57": {
     "views": []
    },
    "e2e324ab77054fa3abd02bd181c8b36c": {
     "views": []
    },
    "e300b31ae97b43a0bd2bb00caad452fc": {
     "views": []
    },
    "e30af79505eb424e9ac9938268cf0838": {
     "views": []
    },
    "e31a603cf7e44cc48a444cd047ae3586": {
     "views": []
    },
    "e33840ab2df741889c82991ab76c7519": {
     "views": []
    },
    "e38a9713c5b446d2a2048e060b657e21": {
     "views": []
    },
    "e3a1c38e053542e88b354fd85c90f9a6": {
     "views": []
    },
    "e3c3a731330246fe95311c7389d98a20": {
     "views": []
    },
    "e3dfda32952040469263a449820b921a": {
     "views": []
    },
    "e42c8c6d69ea48dfa2922d96ca598e98": {
     "views": []
    },
    "e444078e154b44a6ba54783e8c2e369e": {
     "views": []
    },
    "e44e24426eb34a3698b38438ecafaf82": {
     "views": []
    },
    "e466dba72ef94803aa547005ed0c9a29": {
     "views": []
    },
    "e468cf93871248f3b25df2333f21c0d7": {
     "views": []
    },
    "e473b8703e244441af5101b749e2fba1": {
     "views": []
    },
    "e4814abbe5f64cb782e3654807f388b1": {
     "views": []
    },
    "e494169b76ee4839ac64fc814a05563c": {
     "views": []
    },
    "e4a1a6255ced444480daffd15492dd0f": {
     "views": []
    },
    "e4ae8a256e2d40248b0709c53ec54484": {
     "views": []
    },
    "e4b70b3beede44fba18e225a6e0ea9fe": {
     "views": []
    },
    "e4d1e198510445548e20b273c125b717": {
     "views": []
    },
    "e4dc7e980ab84ae0851b328d6a3181c3": {
     "views": []
    },
    "e52d1c70c5c84230bddec044cdc4e4a5": {
     "views": []
    },
    "e53a936fe12e42d691962dd6a2e65cd3": {
     "views": []
    },
    "e55fd6b4d8a14b668bd411291e9e035c": {
     "views": []
    },
    "e572b27884734cfea7a2f48f4819579c": {
     "views": []
    },
    "e577dacc571e445c8ccf2f2bb0be89e8": {
     "views": []
    },
    "e588e18201f1494fa7210f37ec62b2ad": {
     "views": []
    },
    "e59794f44ef24c6da950715d5ee5745e": {
     "views": []
    },
    "e5a0b573912248daaf34d79b3f061f90": {
     "views": []
    },
    "e5b773ed764c4d2e9a61e99ddafa3ff4": {
     "views": []
    },
    "e5c285424eba435486b5560ee68dd411": {
     "views": []
    },
    "e5c8c17ac87942d0bd56326d541e8047": {
     "views": []
    },
    "e5eff4c58d35491494e252e5302a5843": {
     "views": []
    },
    "e5f9c200cb4c4725816e488f87f7f2a4": {
     "views": []
    },
    "e60a7fec42e14860a54e582cee2aff62": {
     "views": []
    },
    "e61fdac2b66e49c3b76ecc507ceed818": {
     "views": []
    },
    "e62273093abb4ba3bb9578dc1d6198fa": {
     "views": []
    },
    "e62c4a7352564be3bccde1d6e486ba18": {
     "views": []
    },
    "e646eca283054f67b6b553ff6b6943aa": {
     "views": []
    },
    "e64f4bf89bac47188e37ab165a01572d": {
     "views": []
    },
    "e652d37a3d374a3e8e7714c744c983f7": {
     "views": []
    },
    "e6647c81dbd441b9aff47923b5480d96": {
     "views": []
    },
    "e6736c73c3764bcfbaceb026de2cbe3a": {
     "views": []
    },
    "e67445d2ff024b0086b065af958c2bdc": {
     "views": []
    },
    "e678a6b65d3c433398fd33dff6b5bd6c": {
     "views": []
    },
    "e6d13365ab1842d482cc09aef906ad29": {
     "views": []
    },
    "e6e3a25e714c4608858b45ee417d6468": {
     "views": []
    },
    "e6f4dcea0db94684bbed516efbde6cba": {
     "views": []
    },
    "e6f9eef88612412b9804a00d3119ae6d": {
     "views": []
    },
    "e70d138f361e4ce2bfbe706efb4a8b61": {
     "views": []
    },
    "e72a73e4fce141c993b95baee2ea1f67": {
     "views": []
    },
    "e7384f79c0ce4a09adf123fb07e9ccfd": {
     "views": []
    },
    "e73992ac95ec44a8b69968c5af8f9e5c": {
     "views": []
    },
    "e73e9c5dca934223b8f0fbc1a7a77b2c": {
     "views": []
    },
    "e73eb3624e464f1f8b3347e2f529c4e6": {
     "views": []
    },
    "e7bf61ae209142fcaeb7292fa7ebaa63": {
     "views": []
    },
    "e7cc89d4034844a9a3518d57efba4796": {
     "views": []
    },
    "e7dd9a36d9fc48caaf92163565cbacaa": {
     "views": []
    },
    "e8052ce7dffe4aed903d370d38b283a7": {
     "views": []
    },
    "e80e3fbcddad4f34a4f759eeba136da0": {
     "views": []
    },
    "e82c1dc6eacf4ffc87a18127cb26baeb": {
     "views": []
    },
    "e82e7b764ff7442b80146cc489fc4d8a": {
     "views": []
    },
    "e839f89153644009b76fed4edeaa6f58": {
     "views": []
    },
    "e876c0585ab54376b410700fc6192601": {
     "views": []
    },
    "e87edfd794ae43f688cd5b97e8aa8d3f": {
     "views": []
    },
    "e88533ec6dbe4803b551fbe53ef931f0": {
     "views": []
    },
    "e8945a50c84e43ea8dedc303eb98398c": {
     "views": []
    },
    "e89f02897dcc4a71b397bdf04f26ed5f": {
     "views": []
    },
    "e8aabb00544f4730a132941e6f534e83": {
     "views": []
    },
    "e8b59a3c1c5c41f78784f7f76294ec97": {
     "views": []
    },
    "e8f3a384b91b4d2597a6214082920528": {
     "views": []
    },
    "e923cf9b2d01401283d5c9003601c3ff": {
     "views": []
    },
    "e93805658c4e4e08995353a1a43b1e50": {
     "views": []
    },
    "e9719b3ca62743bd98857091c67f227d": {
     "views": []
    },
    "e971cbb050484a33877f867d040ac9f2": {
     "views": []
    },
    "e98ff9bd85744a29b4ebb1185042a01e": {
     "views": []
    },
    "e9a3f311f8ae4e0392f559fef39ba3a9": {
     "views": []
    },
    "e9a8f3bb4d264d618238971482c082b0": {
     "views": []
    },
    "e9b4f7eb674b46f8adede12cd8866d70": {
     "views": []
    },
    "e9bdf64578184fa9a85c3842c760da04": {
     "views": []
    },
    "e9c77e43e44d460aba2c2e7402a05834": {
     "views": []
    },
    "e9f09a0c57844e3d8134aa9e0a67a62e": {
     "views": []
    },
    "ea06885907d7498cb68ebc1a7e1dd3e8": {
     "views": []
    },
    "ea0f5210e2fb4da88679768882293da7": {
     "views": []
    },
    "ea17240b2176443a858b1d8dcd7b0512": {
     "views": []
    },
    "ea2c0b26b1684463a68e0e05266e43e7": {
     "views": []
    },
    "ea2ff09a955d4b3aaa514fd8c6a2127b": {
     "views": []
    },
    "ea77a5abce55486cb108d84313db5346": {
     "views": []
    },
    "ea91231fbb4542bdb3dd7f1b425628b6": {
     "views": []
    },
    "eaa6b823154743b18eb50cccc6978564": {
     "views": []
    },
    "eaae9eaea8e9432a9f68645ac53c954a": {
     "views": []
    },
    "eab4e03d5b6b443dab9c407b33b4cb96": {
     "views": []
    },
    "eab7c49ffc60476cba35991c92cdcc4c": {
     "views": []
    },
    "eabd715761a24689919f5b4f35915eaf": {
     "views": []
    },
    "eac317da45da445197fb46a273821966": {
     "views": []
    },
    "eadf2196d22040ab83893aeadb5f4409": {
     "views": []
    },
    "eb1cecb5895041be901b5591896cb7f8": {
     "views": []
    },
    "eb2815688f814b19b16188dc793ca62c": {
     "views": []
    },
    "eb5b7ab422e84a388625595bab1f11f5": {
     "views": []
    },
    "eb5d0526b0a84fd99a484e8b9da7754e": {
     "views": []
    },
    "eb671a99c03a4e1fb58be7f78b35f491": {
     "views": []
    },
    "eb9adc34317e42fcb1bbed757c80a5dd": {
     "views": []
    },
    "eb9f3fa252814d5eb6ad1c869d40b74d": {
     "views": []
    },
    "eba39106d85946d8809d3170141f72bd": {
     "views": []
    },
    "ebb3e95f4a8b4174a112fce2647b49c4": {
     "views": []
    },
    "ebc12049fd8a4e398137fc79f2693521": {
     "views": []
    },
    "ebcd94aa31454b54a534f4420c7faf27": {
     "views": []
    },
    "ebd818c979994466979f7481f733a22a": {
     "views": []
    },
    "ebe51e1e6ffa4644bd13275abb09168a": {
     "views": []
    },
    "ebe85a7b902f4643932563d67f81761c": {
     "views": []
    },
    "ebea53b59e9548daaad5b76281c6f073": {
     "views": []
    },
    "ec01e99dbe324635b22cb89931d8efa5": {
     "views": []
    },
    "ec0a86a339204d6ba6f494ecaf01edb9": {
     "views": []
    },
    "ec13a05921fe4bb696ff72c2cc708c7a": {
     "views": []
    },
    "ec21f4a472a14d72a7c7f12292661fe1": {
     "views": []
    },
    "ec227cfc25cc4d069d47722001f93a31": {
     "views": []
    },
    "ec24c748478846088efcb90d143ec2aa": {
     "views": []
    },
    "ec504ece34054552be5e35e9ff6c7b1b": {
     "views": []
    },
    "ec55ba4589aa4628abc5136c2289fb17": {
     "views": []
    },
    "ec5917a7579a4cb68235b151729876e7": {
     "views": []
    },
    "ec6c59750d904c20a3e8b0a01ae1b447": {
     "views": []
    },
    "ec8cd8ddc8584d7b8f28b691f618c97b": {
     "views": []
    },
    "ecb16c0806464f418fd64c34bfcc21ca": {
     "views": []
    },
    "eccee3d2173e4be9b6f1d4e37de36239": {
     "views": []
    },
    "ecd842d55d9c4a0893c30f4ff3a8493d": {
     "views": []
    },
    "ecdbe4f05da64a0c965e96d7f7f866b2": {
     "views": []
    },
    "ed18d0e9c9e9472c93586d75db9bea16": {
     "views": []
    },
    "ed4fd54d83434a029bde6b8c491e37a2": {
     "views": []
    },
    "ed60b0cd57584039a3f3c337762ce049": {
     "views": []
    },
    "ed99c25415fb4ac09d87e6a1e4f81902": {
     "views": []
    },
    "edb0b5ef1f284527918dfb81dc72a481": {
     "views": []
    },
    "edb232c9e49f478b8e2e90cc33d99ba6": {
     "views": []
    },
    "edc0e961a0d34f97ab3b80b62553337f": {
     "views": []
    },
    "edc1db143c18450285d621cebe0eacbb": {
     "views": []
    },
    "edca1ebf70ac47d7a039fc117cde6e8c": {
     "views": []
    },
    "edd37a5976b64111a3d1f85501820284": {
     "views": []
    },
    "ede6fb8ff5ff4d42a39b4d99c885675f": {
     "views": []
    },
    "edf7495877e941998bda01994d8fbc44": {
     "views": []
    },
    "ee0f2f617a62461e9ca2a4b05dfb959e": {
     "views": []
    },
    "ee3c5afd912a48a1967a7d28df3b731d": {
     "views": []
    },
    "ee5a8b3558984a12bf5f7555b3da9cdc": {
     "views": []
    },
    "ee5ce73e6988478c966a02c0fcd17917": {
     "views": []
    },
    "ee62b8de95d148afa732cf5ab6ca376c": {
     "views": []
    },
    "ee7226637873457cab06d91f3dcd4ed8": {
     "views": []
    },
    "ee873b8f1e71487c9dc951867b80c928": {
     "views": []
    },
    "ee8d2dc43add414492496df0c0dd236b": {
     "views": []
    },
    "eebbcb30e0a8406d8a77d9dea8793553": {
     "views": []
    },
    "eece9330dd7f4dff8c17e790dd8d595e": {
     "views": []
    },
    "eed55105bd504b2d90fd89b5377d8e32": {
     "views": []
    },
    "eeef8b7a36da4a398a0fca4e45108d7a": {
     "views": []
    },
    "eef5ee94d01845819300a594d46eb9d2": {
     "views": []
    },
    "ef1dde9a9a234e189b493300f2579b97": {
     "views": []
    },
    "ef28404c965e40b299e953b48d9c6faf": {
     "views": []
    },
    "ef3b744f4ef44b1498f51556d4bdf5c7": {
     "views": []
    },
    "ef7c8cbbf39842828bda3e873707dc9a": {
     "views": []
    },
    "ef8e1b9cd47f49dd8852b81b05319638": {
     "views": []
    },
    "efa51a1ecc72431da6d99de36a21a08a": {
     "views": []
    },
    "efb60649da194d088bede4856356d24c": {
     "views": []
    },
    "efd4b4aca47c45aaa4525a27af673628": {
     "views": []
    },
    "efd8e6103b944030bb284b37e922be00": {
     "views": []
    },
    "effab32ec6984e0a958780557c7fa88c": {
     "views": []
    },
    "f02e6a65792146aa93651f0e64021ec8": {
     "views": []
    },
    "f04ee3eee5c74740881f9e7f1373ffc9": {
     "views": []
    },
    "f051843437cd4e1ab27892dcf511fda1": {
     "views": []
    },
    "f061e8434d5f4b328a09a4a831f5774a": {
     "views": []
    },
    "f0631bf6f8a741d5a1530fe6981d68e6": {
     "views": []
    },
    "f0637a5fadd249d09cb50af59e8f8d20": {
     "views": []
    },
    "f06630f9f3ac43d0907c047b441275e8": {
     "views": []
    },
    "f095f4a72e4643c8bfe32e7b3a0f9d90": {
     "views": []
    },
    "f096a416ed9640d0b42923935aa3dc3d": {
     "views": []
    },
    "f0a509ec69384fe69c013dfb5a89343b": {
     "views": []
    },
    "f0b024d3585643e081db93e3c65b9abf": {
     "views": []
    },
    "f0b3de5b8a6d4c64af07fd2b556069f3": {
     "views": []
    },
    "f0b6103d923148cda8696b8d96b7d737": {
     "views": []
    },
    "f0daf0f5a85e422c93301cb38f5f8a9c": {
     "views": []
    },
    "f0e032fa6ddd412c9dbd60c50473e388": {
     "views": []
    },
    "f0f7768f2b984ebcb5079dafe90553d7": {
     "views": []
    },
    "f11b13cac2724451be45a1834c3d4ec2": {
     "views": []
    },
    "f123dc3fea1d4b4a95f3cd445da055c1": {
     "views": []
    },
    "f12c3dd9220e49f5b4dbaaf47d677357": {
     "views": []
    },
    "f13b055190cf47c5a0927b91ec280981": {
     "views": []
    },
    "f13ef286059c424da7241f74f55c296f": {
     "views": []
    },
    "f13fd2dd1cc14a28b16a1da0712f1b96": {
     "views": []
    },
    "f16b4c2cb80343f5847f81411baa59b0": {
     "views": []
    },
    "f16e307715eb42b2bf1605df0c337a7a": {
     "views": []
    },
    "f1749513314e48eb8eb3c5fac69c9b48": {
     "views": []
    },
    "f189dea12575435781dd300ef272ecdb": {
     "views": []
    },
    "f1907a99e5824b3fa674fe4bfb5c79ee": {
     "views": []
    },
    "f19cd7bcc72e4921a8826158e6289821": {
     "views": []
    },
    "f1b209392617428bb5b5464e282a52bf": {
     "views": []
    },
    "f1b4bfc3e6bb4ffea3ca8eeb8746d0bf": {
     "views": []
    },
    "f1c08c86e4cd4fd8a65f921b92dd60f2": {
     "views": []
    },
    "f1c91fd95ac748a1bd33f87a1903ee7d": {
     "views": []
    },
    "f1d139f653c14a3da2a7c4922dd635e3": {
     "views": []
    },
    "f1deacb746bb4feaa6f407fdf4ee99b3": {
     "views": []
    },
    "f1f196c6a4a6478b894ff212e7a972bf": {
     "views": []
    },
    "f20182e72d7f449da69276e9108bb359": {
     "views": []
    },
    "f2576e4bf3af479396770373fd124f44": {
     "views": []
    },
    "f26ac6db99d2472e9a88cb41bbf64cb2": {
     "views": []
    },
    "f270123ab090420ea413c74f854fdb64": {
     "views": []
    },
    "f29af15f2cc94e3e91b7d72923994972": {
     "views": []
    },
    "f2a25b22f08f473ca325bf81b3a2b79a": {
     "views": []
    },
    "f2aaeab9945e42bdb3163d0527cc7a76": {
     "views": []
    },
    "f2ab2b6f772742fc88d36021479fea44": {
     "views": []
    },
    "f2c16920d4e4459b980331a2739a3a9d": {
     "views": []
    },
    "f2d4dea51a2147f4a77e3c480c6902c6": {
     "views": []
    },
    "f2f92a9319b04fb8aab2cd471477144c": {
     "views": []
    },
    "f2fc770463ee4af98c6d95d1dc52b1b6": {
     "views": []
    },
    "f30fe938395640878838be1646acc684": {
     "views": []
    },
    "f31e8272766748ba9b0f24d85c6fe3e2": {
     "views": []
    },
    "f3252463727a403bb1ae282042a84580": {
     "views": []
    },
    "f33838dc626f4148869680a613456525": {
     "views": []
    },
    "f33a2307ffd14fdbaff60c49d3edb753": {
     "views": []
    },
    "f3402ca67d944256a787805003d7cb7a": {
     "views": []
    },
    "f351e9d45fef44a198248350587ba737": {
     "views": []
    },
    "f377facd545149558eff635e10f54c79": {
     "views": []
    },
    "f37e8115475d4c05af342fcfc889e260": {
     "views": []
    },
    "f38ae539cafb489cabef8ddb2fbe3d4a": {
     "views": []
    },
    "f394bf1d1b8c4f939da7d40ee1a31255": {
     "views": []
    },
    "f3a234641fb44034b59bc5151830f425": {
     "views": []
    },
    "f3b34f8b848e4418a79fa4177e2a07f0": {
     "views": []
    },
    "f3ba7ee29e24491a9545f14020eece01": {
     "views": []
    },
    "f3e49bc749414d47a7bcecf8aa3edcca": {
     "views": []
    },
    "f3f447bf8a334cd080cc78bbcbc3916a": {
     "views": []
    },
    "f3f49af656cf4f21bf988bfd9afba91b": {
     "views": []
    },
    "f3f765475a884f14b8e9a6c0a656bfb1": {
     "views": []
    },
    "f3f80368589f4d4fb86da67743ae7dca": {
     "views": []
    },
    "f402bad796b14f7fafa597b092e29de0": {
     "views": []
    },
    "f40fb3e94c6d4074af81093b31ddc7d0": {
     "views": []
    },
    "f41185dc3c8044cd8d929ce026d6b91d": {
     "views": []
    },
    "f416f119ccfd4d88b905e52927c15d9e": {
     "views": []
    },
    "f42f8e2659a4403ea2511ffe951754bc": {
     "views": []
    },
    "f43cdf5956504722a33b4719b0117905": {
     "views": []
    },
    "f44b73f53a544585bcfec68b145e8b4d": {
     "views": []
    },
    "f462824cb0b8491499314a9784e7948d": {
     "views": []
    },
    "f47db4dde8dc437ba104f841c170758f": {
     "views": []
    },
    "f483e0156ee5441d95273dce49bbed7e": {
     "views": []
    },
    "f490142a74494a2ab55a5579efbb7ae8": {
     "views": []
    },
    "f4a84b3ec1de48bf80156d5a7ca06630": {
     "views": []
    },
    "f4b328ea31af4ea2bff840dc149bde49": {
     "views": []
    },
    "f4b3bcccf20d4060b679740ef56e5869": {
     "views": []
    },
    "f4b6f884c41f4ebb897ad7031861b97a": {
     "views": []
    },
    "f4bc60f3286e467cbdf94c7ec1cadd3d": {
     "views": []
    },
    "f4c61bef07ad48538ce5038abe9267bb": {
     "views": []
    },
    "f4cdddfd86784b7ca5ada1b720a01c15": {
     "views": []
    },
    "f4d35f9f41d04a42ac0a0ea5b932122b": {
     "views": []
    },
    "f4e3fe6f383548a4a0dae3d6eab555af": {
     "views": []
    },
    "f52158b2bc084620b1b8cc9846212a29": {
     "views": []
    },
    "f540256bde0043f5a9dc6a66b5e35042": {
     "views": []
    },
    "f54b53cb11524488a6e727bd05974602": {
     "views": []
    },
    "f5648724037d4e988036361dd7d2a6d6": {
     "views": []
    },
    "f56745130a514ca2a208d54514d64d2f": {
     "views": []
    },
    "f57d5013c8a34642848896cea2706729": {
     "views": []
    },
    "f594895a90da41e195aadda5d3a22699": {
     "views": []
    },
    "f5949a86958a45cb9885490f78684a90": {
     "views": []
    },
    "f5dc173a84444aa0aca0f2b60a4588d6": {
     "views": []
    },
    "f5e7af9750d443a592091d2eaf1b2e23": {
     "views": []
    },
    "f5ebf1b7165b42068341ab0f7d5edd97": {
     "views": []
    },
    "f60f85eb95a3480ab912d36927ccb2a2": {
     "views": []
    },
    "f62f0bffccca431eb237446587c1896e": {
     "views": []
    },
    "f6382c045afa49a0852d896b3ea68ea7": {
     "views": []
    },
    "f639e7e6681543fca7c745a494312f93": {
     "views": []
    },
    "f63ef7d3efed455ba86f11ea46c1a1dc": {
     "views": []
    },
    "f65172849de94a2184d379078f48e416": {
     "views": []
    },
    "f6542a92dabe4bf29728623642c5c6ef": {
     "views": []
    },
    "f65d744b4f09466a8331f8cb4760339c": {
     "views": []
    },
    "f65da8416647451888fb91994cbe49b6": {
     "views": []
    },
    "f695928df0a446dc8694741c8f3ab716": {
     "views": []
    },
    "f6dd70bc1e344995ab8d71ede3d0bcde": {
     "views": []
    },
    "f714ec43be6d49f8b00f69466d8e4886": {
     "views": []
    },
    "f73d5f2aab604966ac5daf91f9f595f3": {
     "views": []
    },
    "f742a368437a435aa28f556c0b4e336b": {
     "views": []
    },
    "f760def246354d198cd7ee37063e339d": {
     "views": []
    },
    "f76d21e2b2954a738280b48ff87552f6": {
     "views": []
    },
    "f77beaca22174b22b4f3355de803bbcd": {
     "views": []
    },
    "f78be0ed22744ae1b8ace1ca5aa30e09": {
     "views": []
    },
    "f78d3e39ee5d4a069c19598851bd81ac": {
     "views": []
    },
    "f7a4fac98dac40c2bd82542798f48959": {
     "views": []
    },
    "f7bd328f22734258ad1403d9573dacb9": {
     "views": []
    },
    "f7bd71db4b624aa29264bdb18c1aafbd": {
     "views": []
    },
    "f7bdadcd93614d2baa947975e1ce94bd": {
     "views": []
    },
    "f7c2334efdd8443d87bf374175485006": {
     "views": []
    },
    "f7cae0b58b62418eb5b0ffe401e75635": {
     "views": []
    },
    "f7f54468eeb34dcd97e5262a8df1c45e": {
     "views": []
    },
    "f816aa277c2d474f82f60bf5a7f4bd9d": {
     "views": []
    },
    "f8474470ef874a0fa8226c3679a25fae": {
     "views": []
    },
    "f8532d138a524dd0adb9f59e643281a3": {
     "views": []
    },
    "f853c0bf03f947fa9e83c6c17a45b37f": {
     "views": []
    },
    "f8564ff47a4f42d0aaa89431851c966e": {
     "views": []
    },
    "f875154f04694ca4bf2524fadfc2890d": {
     "views": []
    },
    "f87b164bf8354450bcd95be2627c4e28": {
     "views": []
    },
    "f89c8461e4da4de2bc924999c1090e3d": {
     "views": []
    },
    "f8c9f7d495fe4d778a080d7db86d4c57": {
     "views": []
    },
    "f8e7db368879428aa1076b48fa9f5bfd": {
     "views": []
    },
    "f8feada566a54d9fa01aaa6a6a324467": {
     "views": []
    },
    "f9090199c1fc451d894becd39fc71d3d": {
     "views": []
    },
    "f9103d172f7f400d9ed30206facf78b0": {
     "views": []
    },
    "f927526fa756460faad0031b04ce42ed": {
     "views": [
      {
       "cell_index": 18
      }
     ]
    },
    "f92f383e61e4409988ff2c51bc581b61": {
     "views": []
    },
    "f93834b095484052ad476182c23d5a73": {
     "views": []
    },
    "f949f58594844c4eb86b7e913a66bf4f": {
     "views": []
    },
    "f9696a01353f4356ad5444f611ad1900": {
     "views": []
    },
    "f984623782a24441970db8f15a2a15dc": {
     "views": []
    },
    "f98ea3dd0bbe4ddd88530032c1506e7a": {
     "views": []
    },
    "f9974e68fa90476a98babbdb6a186ccd": {
     "views": []
    },
    "f9a3b7bc80294d7d82ab32a96438eb54": {
     "views": []
    },
    "f9a94a1109e645ed8b7b3d78bbc5e323": {
     "views": []
    },
    "f9dac174d72b4ea68a4dc945ae5686e6": {
     "views": []
    },
    "f9e09d929dea49eca07492ba220f9fe8": {
     "views": []
    },
    "f9e8c0c47430452dad01796f50ca6042": {
     "views": []
    },
    "f9e9b3a13a8c40939b99a43d344bd8da": {
     "views": []
    },
    "f9ecf6e24cda4fbda98de60b320e4f15": {
     "views": []
    },
    "fa0275097f7e49e08166754711f66857": {
     "views": []
    },
    "fa1e38577acf4368841a62beff76ab43": {
     "views": []
    },
    "fa3d77f8fdd84e9f93606d15ac8b18c8": {
     "views": []
    },
    "fa49ebe4ac154097a18a46febc061242": {
     "views": []
    },
    "fa4f09e48c0d4ea8baeec6ae6d4d0c22": {
     "views": []
    },
    "fab96c07f25f49c3b205275f488c041f": {
     "views": []
    },
    "fac0b56c54c44a0cb946e5cc94c44606": {
     "views": []
    },
    "fae673fe34f646b8bfafbf9723d4b201": {
     "views": []
    },
    "fb184a8217cd4d1b9043ac78b476a799": {
     "views": []
    },
    "fb4328c761d24882a6fc8a17c664b44c": {
     "views": []
    },
    "fb44c0d73a304027b2074f051d93db2a": {
     "views": []
    },
    "fb5167c2a93a44788e9ca18abad929c1": {
     "views": []
    },
    "fb756a0b33b9497193a620bca118491f": {
     "views": []
    },
    "fb7c091b9c7d4861b10e7dd8074f5d71": {
     "views": []
    },
    "fb9bc132a5814a33aa1de9a0ece453cf": {
     "views": []
    },
    "fbaec375361240b48a198a2f41675a4a": {
     "views": []
    },
    "fbe5d47a0e4c475e8fc26dc23abff7ff": {
     "views": []
    },
    "fbf3b3584c004c77906ed3fb909db7d4": {
     "views": []
    },
    "fbfe0314707a4b349fa729e836ff7eea": {
     "views": []
    },
    "fc2029dc165b4520b138099a04c61a32": {
     "views": []
    },
    "fc2f8277b1464e7886e05a4384cbd8a8": {
     "views": []
    },
    "fc4817e72b8f44c6a7d92dae6f550ce9": {
     "views": []
    },
    "fc4844387bfd4e9e905a450d03d6a962": {
     "views": []
    },
    "fc54fdd9a65848d3857862f360bbdbc0": {
     "views": []
    },
    "fc69f70a2a9348c99b317925a7133e49": {
     "views": []
    },
    "fc73f4f159ff41ed8eee4b3a2493f88a": {
     "views": []
    },
    "fc799bb0bb3a4e1c81c802bba8b3f159": {
     "views": []
    },
    "fc8189563b5a4ed9a253c7cb18093af6": {
     "views": []
    },
    "fc86ff1ac8104b2f82d071b9c820e7a6": {
     "views": []
    },
    "fcbecd95982a4cd6959e2f80f2a8cfe9": {
     "views": []
    },
    "fcc097c59d5f457b8afc367dd9dbb0ea": {
     "views": []
    },
    "fcd3ca5caf984ad8a1fce27171a8163e": {
     "views": []
    },
    "fcdbaa2682524fbd98b5ddda0878b944": {
     "views": []
    },
    "fcdc5aaaa1484e7c9e6ce4d783f3124c": {
     "views": []
    },
    "fce596518cfe4fba9c273dc2c1fd61c6": {
     "views": []
    },
    "fcee1952882b409d8c23bf5d03ddda3a": {
     "views": []
    },
    "fd019f50eb654e15a659e91896fc179f": {
     "views": []
    },
    "fd110299cd164b80a010c4599599a0db": {
     "views": []
    },
    "fd231909f75d4851919721319744b997": {
     "views": []
    },
    "fd4496d1e2ce424f9e5ce7ecb9c56981": {
     "views": []
    },
    "fd4e6cbc74d34a56aecbbbe341f8a988": {
     "views": []
    },
    "fd4e88cacee94f609215a26cf0397d12": {
     "views": []
    },
    "fd57478be7a242d2954ccb1b83c6a46c": {
     "views": []
    },
    "fd5d8bacc9894f42931a661ad4038813": {
     "views": []
    },
    "fd6be18086b6423a91845bf673a784ae": {
     "views": []
    },
    "fd7b633d00284a7aafa7ae8ea886e377": {
     "views": []
    },
    "fd88fcae0bfc49b89a063138740e4e43": {
     "views": []
    },
    "fd8fb50c14b444e99164aa8949484985": {
     "views": []
    },
    "fdd67b620a4e4ba69aa70b3e5b9dd344": {
     "views": []
    },
    "fddff93582154d59b7738c6c20f535d6": {
     "views": []
    },
    "fe08443e64754c41bdbff6da362546b7": {
     "views": []
    },
    "fe0e926d04ec4a7a9b2f149b19a35fac": {
     "views": []
    },
    "fe3b85c4af4a421980e0ecc0990e7d36": {
     "views": []
    },
    "fe469a1293a24adb9b4b9255411ecfa0": {
     "views": []
    },
    "fe552c8048bd4df491108b637e486e09": {
     "views": []
    },
    "fe7ec72d1d85499f8c45e3cf830a85dc": {
     "views": []
    },
    "fe872d3259d846088aa477ffabe23504": {
     "views": []
    },
    "fe95b5ba5da34bf0bd937d213540d253": {
     "views": []
    },
    "feb56d924d2d4d74ac852f260001048f": {
     "views": []
    },
    "feb5c0ee4e5c449ba2fc953e04ae68e0": {
     "views": []
    },
    "fec2e400f7104fd186e07cec21bbafb8": {
     "views": []
    },
    "fec52c11bc844cd598e85aa8027d0a81": {
     "views": []
    },
    "fef0fafc518f4f2ca4fc571e7b0b01df": {
     "views": []
    },
    "fef866b686524f11b6d8523780ef8105": {
     "views": []
    },
    "feffda60a19743c2856cb83cd893604c": {
     "views": []
    },
    "ff078992d88643bcbc221c09484b4f2c": {
     "views": []
    },
    "ff55cf447e284b89a63aff209b4a5e25": {
     "views": []
    },
    "ff6539c756474b448f182772f5175f25": {
     "views": []
    },
    "ff6abac6959148d9878aa51b6828353a": {
     "views": []
    },
    "ff6ff0e7c05041319371eb6f237c8483": {
     "views": []
    },
    "ff8316d1d9c04c75bcc1c59677da033c": {
     "views": []
    },
    "ff875c9f26e443a5a2c415f6c7df27f6": {
     "views": []
    },
    "ff953528a0734feab1a1baa95f5226fd": {
     "views": []
    },
    "ffc6d194ad0f4884adb3152499afc244": {
     "views": []
    },
    "ffdaed84dfc940128c41bb970f9078cc": {
     "views": []
    },
    "ffe5a641f11a4fb0b86eb921b5b0ee09": {
     "views": []
    }
   },
   "version": "1.1.2"
  }
 },
 "nbformat": 4,
 "nbformat_minor": 0
}
