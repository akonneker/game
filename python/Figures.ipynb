{
 "cells": [
  {
   "cell_type": "code",
   "execution_count": 1,
   "metadata": {
    "collapsed": true
   },
   "outputs": [],
   "source": [
    "from __future__ import print_function"
   ]
  },
  {
   "cell_type": "code",
   "execution_count": 2,
   "metadata": {
    "collapsed": true
   },
   "outputs": [],
   "source": [
    "import sys\n",
    "sys.path.append('../build/')"
   ]
  },
  {
   "cell_type": "code",
   "execution_count": 3,
   "metadata": {
    "collapsed": false
   },
   "outputs": [
    {
     "name": "stdout",
     "output_type": "stream",
     "text": [
      "Populating the interactive namespace from numpy and matplotlib\n"
     ]
    }
   ],
   "source": [
    "%pylab inline\n",
    "np.set_printoptions(precision=4, suppress=True)"
   ]
  },
  {
   "cell_type": "code",
   "execution_count": 4,
   "metadata": {
    "collapsed": false
   },
   "outputs": [],
   "source": [
    "import versor as vsr\n",
    "from versor.drawing import *"
   ]
  },
  {
   "cell_type": "code",
   "execution_count": 5,
   "metadata": {
    "collapsed": true
   },
   "outputs": [],
   "source": [
    "from IPython.display import display\n",
    "from ipywidgets import HTML, Text, interact, widgets\n",
    "from traitlets import link, dlink"
   ]
  },
  {
   "cell_type": "code",
   "execution_count": 10,
   "metadata": {
    "collapsed": false
   },
   "outputs": [],
   "source": [
    "def rgb2hex(r, g, b):\n",
    "    return \"#{0:02x}{1:02x}{2:02x}\".format(r, g, b)"
   ]
  },
  {
   "cell_type": "markdown",
   "metadata": {},
   "source": [
    "# Figures"
   ]
  },
  {
   "cell_type": "markdown",
   "metadata": {},
   "source": [
    "## Duality"
   ]
  },
  {
   "cell_type": "code",
   "execution_count": 11,
   "metadata": {
    "collapsed": false
   },
   "outputs": [],
   "source": [
    "B = vsr.Biv(1,0,0)\n",
    "a = B.duale()\n",
    "\n",
    "scene = Scene(children=[\n",
    "        frame_mesh(),\n",
    "        vector_mesh(a,color='blue', arrow=True),\n",
    "        bivector_mesh(B,as_plane=False,color='hotpink'),\n",
    "#         DirectionalLight(color='#ccaabb', position=[1,1,1]),\n",
    "        AmbientLight(color='#cccccc')])\n",
    "camera = PerspectiveCamera(position=[3, -3, 3])\n",
    "renderer = Renderer(camera=camera, \n",
    "                    scene=scene, \n",
    "                    controls=[TrackballControls(controlling=camera)],\n",
    "                    background = 'white')\n",
    "# renderer.width = '1024'\n",
    "# renderer.height = '768'\n",
    "\n",
    "display(renderer)"
   ]
  },
  {
   "cell_type": "markdown",
   "metadata": {},
   "source": [
    "## Projection and Rejection"
   ]
  },
  {
   "cell_type": "code",
   "execution_count": 12,
   "metadata": {
    "collapsed": false
   },
   "outputs": [],
   "source": [
    "a = vsr.Vec(1,1,1)\n",
    "B = vsr.Biv(1,0,0)\n",
    "c = a.project_onto(B)\n",
    "d = a.reject_from(B)\n",
    "\n",
    "scene = Scene(children=[\n",
    "        frame_mesh(),\n",
    "        vector_mesh(a,color='gray', arrow=True),\n",
    "        vector_mesh(c,color='gray'),\n",
    "        vector_mesh(d,position=np.array(c).tolist(),color='gray'),\n",
    "        bivector_mesh(B,color='hotpink'),\n",
    "#         DirectionalLight(color='#ccaabb', position=[1,1,1]),\n",
    "        AmbientLight(color='#cccccc')])\n",
    "camera = PerspectiveCamera(position=[3, -3, 3])\n",
    "renderer = Renderer(camera=camera, \n",
    "                    scene=scene, \n",
    "                    controls=[TrackballControls(controlling=camera)],\n",
    "                    background = 'white')\n",
    "# renderer.width = '1024'\n",
    "# renderer.height = '768'\n",
    "display(renderer)"
   ]
  },
  {
   "cell_type": "markdown",
   "metadata": {},
   "source": [
    "## Reflection"
   ]
  },
  {
   "cell_type": "code",
   "execution_count": 13,
   "metadata": {
    "collapsed": false
   },
   "outputs": [],
   "source": [
    "a = vsr.Vec(1,0,1)\n",
    "B = vsr.Biv(2,0,0)\n",
    "n = B.duale().unit()\n",
    "a_reflected = a.reflect_in_line(n)\n",
    "a_reflected2 = a.reflect_in_plane(n)\n",
    "\n",
    "children = [\n",
    "    frame_mesh(),\n",
    "    vector_mesh(a,color='black', arrow=True),\n",
    "    vector_mesh(a_reflected,color='black', arrow=True),\n",
    "    vector_mesh(a_reflected2,color='black', arrow=True),\n",
    "#     vector_mesh(n,color='black', arrow=True),\n",
    "    bivector_mesh(B, as_plane=True,color='hotpink')]\n",
    "\n",
    "children[-1].material.transparent = True\n",
    "children[-1].material.opacity = 0.75\n",
    "\n",
    "\n",
    "def show(children):\n",
    "    scene = Scene(children= children + [AmbientLight(color='#cccccc')])\n",
    "    camera = PerspectiveCamera(position=[1, -3, 0])\n",
    "    renderer = Renderer(camera=camera, \n",
    "                        scene=scene, \n",
    "                        controls=[TrackballControls(controlling=camera)],\n",
    "                        background = 'white')\n",
    "    return renderer\n",
    "display(show(children))"
   ]
  },
  {
   "cell_type": "markdown",
   "metadata": {},
   "source": [
    "## Rotation"
   ]
  },
  {
   "cell_type": "code",
   "execution_count": 14,
   "metadata": {
    "collapsed": false
   },
   "outputs": [],
   "source": [
    "n1 = vsr.Vec(0,1,0).unit()\n",
    "n2 = n1.spin(vsr.Biv(-np.deg2rad(30) / 2,0,0).exp())\n",
    "B = n1 ^ n2\n",
    "R = n1 * n2\n",
    "a = vsr.Vec(1,0,1).unit()\n",
    "a_rot = a.reflect_in_line(n2).reflect_in_line(n1)\n",
    "\n",
    "B_mesh = bivector_mesh(B,color='gray')\n",
    "B_mesh.material.opacity = 0.9\n",
    "B_mesh.material.transparent = True\n",
    "\n",
    "scene = Scene(children=[\n",
    "#         frame_mesh(),\n",
    "        vector_mesh(n1,color='yellow'),\n",
    "        vector_mesh(n2,color='cyan'),\n",
    "        vector_mesh(a, color='hotpink'),\n",
    "        vector_mesh(a.reflect_in_line(n2)),\n",
    "        vector_mesh(a_rot, color='black'),\n",
    "#         bivector_mesh(n1.unduale(),color='yellow'),\n",
    "#         bivector_mesh(n2.unduale(),color='cyan'),\n",
    "        B_mesh,\n",
    "        AmbientLight(color='#cccccc')])\n",
    "\n",
    "camera = PerspectiveCamera(position=[3, -3, 3])\n",
    "renderer = Renderer(camera=camera, \n",
    "                    scene=scene, \n",
    "                    controls=[TrackballControls(controlling=camera)],\n",
    "                    background = 'white')\n",
    "# renderer.width = '1024'\n",
    "# renderer.height = '768'\n",
    "display(renderer)"
   ]
  },
  {
   "cell_type": "markdown",
   "metadata": {
    "collapsed": false
   },
   "source": [
    "# Conformal Geometric Algebra"
   ]
  },
  {
   "cell_type": "code",
   "execution_count": 15,
   "metadata": {
    "collapsed": false
   },
   "outputs": [],
   "source": [
    "p1 = vsr.Vec(1,0,1).null()\n",
    "p2 = vsr.Vec(0,1,1).null()\n",
    "\n",
    "scene = Scene(children=[\n",
    "        frame_mesh(),\n",
    "        point_mesh(p1,color='lightskyblue'),\n",
    "        vector_mesh(p1.vec(),color='lightslategray', arrow=True),\n",
    "        point_mesh(p2,color='lightskyblue'),\n",
    "        vector_mesh(p2.vec(),color='lightslategray', arrow=True),\n",
    "\n",
    "        AmbientLight(color='#cccccc')])\n",
    "\n",
    "camera = PerspectiveCamera(position=[3, -3, 3])\n",
    "renderer = Renderer(camera=camera, \n",
    "                    scene=scene, \n",
    "                    controls=[TrackballControls(controlling=camera)],\n",
    "                    background = 'white')\n",
    "# renderer.width = '1024'\n",
    "# renderer.height = '768'\n",
    "display(renderer)"
   ]
  },
  {
   "cell_type": "code",
   "execution_count": 16,
   "metadata": {
    "collapsed": false
   },
   "outputs": [],
   "source": [
    "# p1 = vsr.Vec(1,0,1).null()\n",
    "p2 = vsr.Vec(0,1,1).null()\n",
    "p3 = vsr.Vec(1,1,1).null()\n",
    "p4 = vsr.Vec(0,0,1.5).null()\n",
    "pln = vsr.Pln(p2, p3, p4)\n",
    "\n",
    "\n",
    "scene = Scene(children=[\n",
    "        frame_mesh(),\n",
    "        point_mesh(p2,color='lightskyblue'),\n",
    "        point_mesh(p3,color='lightskyblue'),\n",
    "        point_mesh(p4,color='lightskyblue'),\n",
    "        plane_mesh(pln, width=3, height=3, color='hotpink'),\n",
    "\n",
    "        AmbientLight(color='#cccccc')])\n",
    "\n",
    "camera = PerspectiveCamera(position=[3, -3, 3])\n",
    "renderer = Renderer(camera=camera, \n",
    "                    scene=scene, \n",
    "                    controls=[TrackballControls(controlling=camera)],\n",
    "                    background = 'white')\n",
    "renderer.width = '1024'\n",
    "renderer.height = '768'\n",
    "display(renderer)"
   ]
  },
  {
   "cell_type": "markdown",
   "metadata": {},
   "source": [
    "### Circle"
   ]
  },
  {
   "cell_type": "code",
   "execution_count": null,
   "metadata": {
    "collapsed": true
   },
   "outputs": [],
   "source": [
    "# p1 = vsr.Vec(1,0,1).null()\n",
    "p2 = vsr.Vec(0,1,1).null()\n",
    "p3 = vsr.Vec(1,1,1).null()\n",
    "p4 = vsr.Vec(0,0,1.5).null()\n",
    "cir = vsr.Cir(p2, p3, p4)\n",
    "\n",
    "\n",
    "scene = Scene(children=[\n",
    "        frame_mesh(),\n",
    "        point_mesh(p2,color='lightskyblue'),\n",
    "        point_mesh(p3,color='lightskyblue'),\n",
    "        point_mesh(p4,color='lightskyblue'),\n",
    "        circle_mesh(pln, color='coral'),\n",
    "\n",
    "        AmbientLight(color='#cccccc')])\n",
    "\n",
    "camera = PerspectiveCamera(position=[3, -3, 3])\n",
    "renderer = Renderer(camera=camera, \n",
    "                    scene=scene, \n",
    "                    controls=[TrackballControls(controlling=camera)],\n",
    "                    background = 'white')\n",
    "renderer.width = '1024'\n",
    "renderer.height = '768'\n",
    "display(renderer)"
   ]
  },
  {
   "cell_type": "code",
   "execution_count": null,
   "metadata": {
    "collapsed": true
   },
   "outputs": [],
   "source": [
    "vsr.Sph?"
   ]
  },
  {
   "cell_type": "markdown",
   "metadata": {},
   "source": [
    "### Direct Line"
   ]
  },
  {
   "cell_type": "code",
   "execution_count": null,
   "metadata": {
    "collapsed": false
   },
   "outputs": [],
   "source": [
    "p1 = vsr.Vec(1,0,1).null()\n",
    "p2 = vsr.Vec(2,1,1).null()\n",
    "l = vsr.Dll(p1,p2).unit()\n",
    "print(l)\n",
    "dlp = vsr.Dlp(l.dir().vec().unit(), 0)\n",
    "\n",
    "ld = vsr.Vec(*np.array(l)[3:])\n",
    "\n",
    "l_dir = l.dir().vec().unit()\n",
    "\n",
    "l_loc = l.loc(vsr.Vec(0,0,0).null()).vec()\n",
    "\n",
    "d = l_loc <= l_dir.unduale()\n",
    "\n",
    "vertices = [[0,0,0], \n",
    "            np.array(p1.vec()).tolist(),\n",
    "            np.array(p2.vec()).tolist(),\n",
    "            np.array(p2.vec() - p1.vec()).tolist() \n",
    "           ]\n",
    "faces= [[1,2,3],[1,4,3]]\n",
    "\n",
    "scene = Scene(children=[\n",
    "        frame_mesh(),\n",
    "        point_mesh(p1,color='#ff00ff'),\n",
    "        vector_mesh(p1.vec(),color='#ff00ff'),\n",
    "#         plane_mesh(dlp, color='plum'),\n",
    "        Mesh(geometry=PlainGeometry(vertices=vertices, faces=faces),\n",
    "             material=LambertMaterial(color='palegreen',\n",
    "                                      transparent=True,\n",
    "                                      opacity=0.75)),\n",
    "        \n",
    "        point_mesh(p2,color='#00ffff'),\n",
    "#         vector_mesh(l_dir,position=p1,color='#ffff00', arrow=True),\n",
    "#         bivector_mesh(l.biv(), color='#ffff00'),\n",
    "#         bivector_mesh(p1.vec() ^ p2.vec(), color='coral', as_plane=True),\n",
    "#         vector_mesh(l.drv().vec(), color='coral'),\n",
    "#         point_mesh(l.meet(dlp), color='red'),\n",
    "\n",
    "        line_mesh(l, length=100),\n",
    "        \n",
    "        AmbientLight(color='#cccccc')])\n",
    "\n",
    "camera = PerspectiveCamera(position=[3, -3, 3])\n",
    "renderer = Renderer(camera=camera, \n",
    "                    scene=scene, \n",
    "                    controls=[TrackballControls(controlling=camera)],\n",
    "                    background = 'white')\n",
    "renderer.width = '1024'\n",
    "renderer.height = '768'\n",
    "display(renderer)"
   ]
  },
  {
   "cell_type": "markdown",
   "metadata": {},
   "source": [
    "### Dual Line"
   ]
  },
  {
   "cell_type": "code",
   "execution_count": null,
   "metadata": {
    "collapsed": false
   },
   "outputs": [],
   "source": [
    "p1 = vsr.Vec(1,0,1).null()\n",
    "p2 = vsr.Vec(2,1,1).null()\n",
    "l = vsr.Dll(p1,p2).unit()\n",
    "print(l)\n",
    "dlp = vsr.Dlp(l.dir().vec().unit(), 0)\n",
    "\n",
    "ld = vsr.Vec(*np.array(l)[3:])\n",
    "\n",
    "l_dir = l.dir().vec().unit()\n",
    "\n",
    "l_loc = l.loc(vsr.Vec(0,0,0).null()).vec()\n",
    "\n",
    "d = l_loc <= l_dir.unduale()\n",
    "\n",
    "vertices = [[0,0,0], \n",
    "            np.array(p1.vec()).tolist(),\n",
    "            np.array(p2.vec()).tolist(),\n",
    "            np.array(p2.vec() - p1.vec()).tolist() \n",
    "           ]\n",
    "faces= [[1,2,3],[1,4,3]]\n",
    "\n",
    "scene = Scene(children=[\n",
    "        frame_mesh(),\n",
    "        point_mesh(p1,color='#ff00ff'),\n",
    "        vector_mesh(p1.vec(),color='#ff00ff'),\n",
    "#         plane_mesh(dlp, color='plum'),\n",
    "#         Mesh(geometry=PlainGeometry(vertices=vertices, faces=faces),\n",
    "#              material=LambertMaterial(color='palegreen',\n",
    "#                                       transparent=True,\n",
    "#                                       opacity=0.75)),\n",
    "        \n",
    "        point_mesh(p2,color='#00ffff'),\n",
    "#         vector_mesh(l_dir,position=p1,color='#ffff00', arrow=True),\n",
    "        bivector_mesh(l.biv(), color='lightblue'),\n",
    "#         bivector_mesh(p1.vec() ^ p2.vec(), color='coral', as_plane=True),\n",
    "        vector_mesh(l.drv().vec(), color='deepskyblue'),\n",
    "#         point_mesh(l.meet(dlp), color='red'),\n",
    "\n",
    "        line_mesh(l, length=100),\n",
    "        \n",
    "        AmbientLight(color='#cccccc')])\n",
    "\n",
    "camera = PerspectiveCamera(position=[3, -3, 3])\n",
    "renderer = Renderer(camera=camera, \n",
    "                    scene=scene, \n",
    "                    controls=[TrackballControls(controlling=camera)],\n",
    "                    background = 'white')\n",
    "renderer.width = '1024'\n",
    "renderer.height = '768'\n",
    "display(renderer)"
   ]
  },
  {
   "cell_type": "markdown",
   "metadata": {},
   "source": [
    "### Tangent vector"
   ]
  },
  {
   "cell_type": "code",
   "execution_count": null,
   "metadata": {
    "collapsed": false
   },
   "outputs": [],
   "source": [
    "p1 = vsr.Vec(1,0,1).null()\n",
    "p2 = vsr.Vec(2,1,1).null()\n",
    "l = vsr.Dll(p1,p2).unit()\n",
    "print(l)\n",
    "dlp = vsr.Dlp(l.dir().vec().unit(), 0)\n",
    "\n",
    "ld = vsr.Vec(*np.array(l)[3:])\n",
    "\n",
    "l_dir = l.dir().vec().unit()\n",
    "\n",
    "l_loc = l.loc(vsr.Vec(0,0,0).null()).vec()\n",
    "\n",
    "d = l_loc <= l_dir.unduale()\n",
    "\n",
    "vertices = [[0,0,0], \n",
    "            np.array(p1.vec()).tolist(),\n",
    "            np.array(p2.vec()).tolist(),\n",
    "            np.array(p2.vec() - p1.vec()).tolist() \n",
    "           ]\n",
    "faces= [[1,2,3],[1,4,3]]\n",
    "\n",
    "scene = Scene(children=[\n",
    "        frame_mesh(),\n",
    "        point_mesh(p1,color='#ff00ff'),\n",
    "        vector_mesh(p1.vec(),color='#ff00ff'),\n",
    "        vector_mesh((p2.vec() - p1.vec()).unit(), position=p1.vec(), arrow=True),\n",
    "        vector_mesh((p2.vec() - p1.vec()).unit(), arrow=True),\n",
    "\n",
    "        \n",
    "        AmbientLight(color='#cccccc')])\n",
    "\n",
    "camera = PerspectiveCamera(position=[3, -3, 3])\n",
    "renderer = Renderer(camera=camera, \n",
    "                    scene=scene, \n",
    "                    controls=[TrackballControls(controlling=camera)],\n",
    "                    background = 'white')\n",
    "renderer.width = '1024'\n",
    "renderer.height = '768'\n",
    "display(renderer)"
   ]
  },
  {
   "cell_type": "markdown",
   "metadata": {},
   "source": [
    "### Carrier flats"
   ]
  },
  {
   "cell_type": "code",
   "execution_count": null,
   "metadata": {
    "collapsed": false
   },
   "outputs": [],
   "source": [
    "# p1 = vsr.Vec(1,0,1).null()\n",
    "p2 = vsr.Vec(0,1,1).null()\n",
    "p3 = vsr.Vec(1,1,1).null()\n",
    "p4 = vsr.Vec(0,0,1.5).null()\n",
    "cir = vsr.Cir(p2, p3, p4)\n",
    "pln = vsr.Pln(p2,p3,p4)\n",
    "\n",
    "\n",
    "scene = Scene(children=[\n",
    "        frame_mesh(),\n",
    "#         point_mesh(p2,color='lightskyblue'),\n",
    "#         point_mesh(p3,color='lightskyblue'),\n",
    "#         point_mesh(p4,color='lightskyblue'),\n",
    "        circle_mesh(cir, color='black'),\n",
    "        plane_mesh(pln, width=3, height=3, color='lightskyblue'),\n",
    "\n",
    "        AmbientLight(color='#cccccc')])\n",
    "\n",
    "camera = PerspectiveCamera(position=[3, -3, 3])\n",
    "renderer = Renderer(camera=camera, \n",
    "                    scene=scene, \n",
    "                    controls=[TrackballControls(controlling=camera)],\n",
    "                    background = 'white')\n",
    "renderer.width = '1024'\n",
    "renderer.height = '768'\n",
    "display(renderer)"
   ]
  },
  {
   "cell_type": "markdown",
   "metadata": {},
   "source": [
    "### Transformations"
   ]
  },
  {
   "cell_type": "code",
   "execution_count": null,
   "metadata": {
    "collapsed": false
   },
   "outputs": [],
   "source": [
    "\n",
    "normal = vsr.Vec(1,1,1).unit()\n",
    "pao = vsr.Vec(0,0,0).null()\n",
    "pln1 = vsr.Dlp(normal,1.)\n",
    "pln2 = vsr.Dlp(normal,2.)\n",
    "\n",
    "p1 = pao.reflect_in_plane(pln2).reflect_in_plane(pln1)\n",
    "\n",
    "scene = Scene(children=[\n",
    "        frame_mesh(),\n",
    "        plane_mesh(pln1, color='coral', width=2., height=2.),\n",
    "        plane_mesh(pln2, color='coral', width=2., height=2.),\n",
    "        \n",
    "        point_mesh(p1),\n",
    "        \n",
    "        AmbientLight(color='#cccccc')])\n",
    "\n",
    "camera = PerspectiveCamera(position=[3, -3, 3])\n",
    "renderer = Renderer(camera=camera, \n",
    "                    scene=scene, \n",
    "                    controls=[TrackballControls(controlling=camera)],\n",
    "                    background = 'white')\n",
    "# renderer.width = '1024'\n",
    "# renderer.height = '768'\n",
    "display(renderer)"
   ]
  },
  {
   "cell_type": "code",
   "execution_count": null,
   "metadata": {
    "collapsed": false
   },
   "outputs": [],
   "source": [
    "print(pln2.loc(pao))"
   ]
  },
  {
   "cell_type": "code",
   "execution_count": null,
   "metadata": {
    "collapsed": false
   },
   "outputs": [],
   "source": [
    "\n",
    "l1 = vsr.Dll(vsr.Vec(0,0,1), vsr.Vec(1,1,1)).unit()\n",
    "l = vsr.Dll(vsr.Vec(0,0.,1).null(), vsr.Vec(1,0,1).null()).unit()\n",
    "\n",
    "p1 = vsr.Vec(0,0,0).null().reflect_in_line(l1.inv())\n",
    "p2 = vsr.Vec(0,0,0).null().reflect_in_line(l1.inv()).reflect_in_line(l)\n",
    "\n",
    "mot = l.ratio(l1,1.0)\n",
    "pao = vsr.Vec(0,0,0).null()\n",
    "\n",
    "scene = Scene(children=[\n",
    "        frame_mesh(),\n",
    "\n",
    "        point_mesh(p1, color='magenta'),\n",
    "        point_mesh(p2, color='cyan'),\n",
    "        line_mesh(l1, color='red', length=100),\n",
    "\n",
    "        line_mesh(l1.inv(), color='magenta', length=100),\n",
    "        line_mesh(l, color='cyan', length=100),\n",
    "#         line_mesh( color='cyan', length=100),\n",
    "        Line(geometry=PlainGeometry(vertices=[[0,0,0], np.array(p1.vec()).tolist()],\n",
    "                                   colors = ['magenta', 'magenta']), \n",
    "            material=LineBasicMaterial(linewidth=1,\n",
    "                                       vertexColors='VertexColors'), \n",
    "            type='LinePieces'),\n",
    "        Line(geometry=PlainGeometry(vertices=[np.array(p1.vec()).tolist(), np.array(p2.vec()).tolist()],\n",
    "                                   colors = ['cyan', 'cyan']), \n",
    "            material=LineBasicMaterial(linewidth=1,\n",
    "                                       vertexColors='VertexColors'), \n",
    "            type='LinePieces'),\n",
    "        \n",
    "        point_mesh(pao.spin(mot), color='hotpink'),\n",
    "        line_mesh(l.spin(mot)),\n",
    "        \n",
    "        AmbientLight(color='#cccccc')])\n",
    "\n",
    "camera = PerspectiveCamera(position=[3, -3, 3])\n",
    "renderer = Renderer(camera=camera, \n",
    "                    scene=scene, \n",
    "                    controls=[TrackballControls(controlling=camera)],\n",
    "                    background = 'white')\n",
    "# renderer.width = '1024'\n",
    "# renderer.height = '768'\n",
    "display(renderer)"
   ]
  },
  {
   "cell_type": "code",
   "execution_count": null,
   "metadata": {
    "collapsed": false
   },
   "outputs": [],
   "source": [
    "print(p2)"
   ]
  },
  {
   "cell_type": "code",
   "execution_count": null,
   "metadata": {
    "collapsed": false
   },
   "outputs": [],
   "source": [
    "print(p2)"
   ]
  },
  {
   "cell_type": "code",
   "execution_count": null,
   "metadata": {
    "collapsed": false
   },
   "outputs": [],
   "source": [
    "M = ((l * l1.inv()).log() / 2.).exp()\n",
    "print(M)"
   ]
  },
  {
   "cell_type": "code",
   "execution_count": null,
   "metadata": {
    "collapsed": false
   },
   "outputs": [],
   "source": [
    "print(vsr.Vec(0,0,0).null().spin(l * l1.inv()))"
   ]
  },
  {
   "cell_type": "code",
   "execution_count": null,
   "metadata": {
    "collapsed": false
   },
   "outputs": [],
   "source": [
    "print(vsr.Vec(0,0,0).null().reflect_in_line(l1.inv()).reflect_in_line(l))"
   ]
  },
  {
   "cell_type": "markdown",
   "metadata": {},
   "source": [
    "### Lines"
   ]
  },
  {
   "cell_type": "code",
   "execution_count": null,
   "metadata": {
    "collapsed": false
   },
   "outputs": [],
   "source": [
    "p1 = vsr.Vec(1,0,1).null()\n",
    "p2 = vsr.Vec(2,1,1).null()\n",
    "\n",
    "l1 = vsr.Dll(vsr.Vec(0,0,0), vsr.Vec(1,0,0)).unit()\n",
    "l = vsr.Dll(vsr.Vec(0,0.,1).null(), vsr.Vec(1,0,1).null()).unit()\n",
    "\n",
    "# l = vsr.Dll(p1,p2).unit()\n",
    "l_dir = l.dir().vec().unit()\n",
    "l_loc = l.loc(vsr.Vec(0,0,0).null()).vec()\n",
    "\n",
    "l2 = l - l1\n",
    "l3 = l.comm(l1)\n",
    "print(l3)\n",
    "\n",
    "m1 = l1.ratio(l,0.1)\n",
    "# print(l)\n",
    "# print(l1.spin(m1))\n",
    "# ms = [m1]\n",
    "# for i in range(9):\n",
    "#     m1 = m1 * m1\n",
    "#     ms.append(m1)\n",
    "    \n",
    "# print(ms)\n",
    "    \n",
    "\n",
    "# line_meshes = [line_mesh(l) for ] \n",
    "\n",
    "m = ((l * l1.inv()).log() * 0.5 ).exp()\n",
    "w = m.trs().reject_from(m.rot().log().unit())\n",
    "v = m.trs().project_onto(m.rot().log().unit())\n",
    "print(w)\n",
    "\n",
    "d = l_loc <= l_dir.unduale()\n",
    "\n",
    "scene = Scene(children=[\n",
    "        frame_mesh(),\n",
    "#         line_mesh(l1.spin(m1)),\n",
    "#         line_mesh(l1.spin(m1 * m1)),\n",
    "#         line_mesh(l1.spin(m1 * m1 * m1)),\n",
    "#         line_mesh(l1.spin(m1 * m1 * m1 * m1)),\n",
    "#         line_mesh(l1.spin(m1 * m1 * m1 * m1 * m1)),\n",
    "#         line_mesh(l1.spin(m1 * m1 * m1 * m1 * m1)),\n",
    "#         line_mesh(l1.spin(m1 * m1 * m1 * m1 * m1 * m1 )),\n",
    "#         line_mesh(l1.spin(m1 * m1 * m1 * m1 * m1 * m1 * m1)),\n",
    "#         line_mesh(l1.spin(m1 * m1 * m1 * m1 * m1 * m1 * m1 * m1)),\n",
    "#         line_mesh(l1.spin(m1 * m1 * m1 * m1 * m1 * m1 * m1 * m1 * m1)),\n",
    "#         line_mesh(l1.spin(m1 * m1 * m1 * m1 * m1 * m1 * m1 * m1 * m1 * m1)),\n",
    "        \n",
    "        point_mesh(vsr.Vec(0,0,1), color='blue'),\n",
    "        point_mesh(vsr.Vec(1,0,1), color='red'),\n",
    "        line_mesh(l1, color='#ffff00', length=100),\n",
    "#         point_mesh(l_loc, color=rgb2hex(255,56,0)),\n",
    "#         point_mesh(vsr.Vec(0,0,0),color='#ffff00'),\n",
    "#         point_mesh(p1,color='#ff00ff'),\n",
    "        vector_mesh(w, position=v),\n",
    "        vector_mesh(v),\n",
    "        \n",
    "        line_mesh(l2, color='hotpink', length=100),\n",
    "        line_mesh(l3, color=rgb2hex(255,155,0), length=100),\n",
    "\n",
    "\n",
    "#         vector_mesh(p1.vec(),color='#ff00ff'),\n",
    "#         vector_mesh(l_dir,positil = l1.trs(vsr.Vec(0,0,1))on=p1,color='#ff00ff', arrow=True),\n",
    "\n",
    "\n",
    "        line_mesh(l,color='#ff00ff', length=100),\n",
    "        \n",
    "        AmbientLight(color='#cccccc')])\n",
    "\n",
    "camera = PerspectiveCamera(position=[3, -3, 3])\n",
    "renderer = Renderer(camera=camera, \n",
    "                    scene=scene, \n",
    "                    controls=[TrackballControls(controlling=camera)],\n",
    "                    background = 'white')\n",
    "renderer.width = '1024'\n",
    "renderer.height = '768'\n",
    "display(renderer)"
   ]
  },
  {
   "cell_type": "code",
   "execution_count": null,
   "metadata": {
    "collapsed": false
   },
   "outputs": [],
   "source": [
    "print(l3)"
   ]
  },
  {
   "cell_type": "code",
   "execution_count": null,
   "metadata": {
    "collapsed": false
   },
   "outputs": [],
   "source": [
    "print(l)\n",
    "print(l1)\n",
    "print(l2)"
   ]
  },
  {
   "cell_type": "code",
   "execution_count": null,
   "metadata": {
    "collapsed": false
   },
   "outputs": [],
   "source": [
    "print(m1 * m1 * m1 * m1 * m1 * m1 * m1 * m1 * m1 * m1)"
   ]
  },
  {
   "cell_type": "code",
   "execution_count": null,
   "metadata": {
    "collapsed": false
   },
   "outputs": [],
   "source": [
    "l1 = vsr.Dll(vsr.Vec(0,0,0), vsr.Vec(1,0,0)).unit()\n",
    "l2 = vsr.Dll(vsr.Vec(0,-1,1), vsr.Vec(1,-1,1)).unit()\n",
    "pao = vsr.Vec(0,0,0).null()\n",
    "\n",
    "l3 = l2 - l1\n",
    "l4 = l2.comm(l1)\n",
    "\n",
    "scene = Scene(children=[\n",
    "        frame_mesh(),\n",
    "        line_mesh(l1, color='#ffff00'),\n",
    "        point_mesh(pao),\n",
    "        vector_mesh(pao.vec()),\n",
    "        \n",
    "        line_mesh(l2, color='#ffff00'),\n",
    "        \n",
    "        line_mesh(l3, color='powderblue'), \n",
    "        line_mesh(l4, color='deeppink'),\n",
    "\n",
    "        vector_mesh(l_dir, position=l_loc, color=rgb2hex(255,0,123), arrow=True),\n",
    "        bivector_mesh((l_loc ^ l_dir), color = 'salmon'),\n",
    "\n",
    "        \n",
    "        AmbientLight(color='#cccccc')])\n",
    "\n",
    "camera = PerspectiveCamera(position=[3, -3, 3])\n",
    "renderer = Renderer(camera=camera, \n",
    "                    scene=scene, \n",
    "                    controls=[TrackballControls(controlling=camera)],\n",
    "                    background = 'gray')\n",
    "# renderer.width = '1024'\n",
    "# renderer.height = '768'\n",
    "display(renderer)"
   ]
  },
  {
   "cell_type": "code",
   "execution_count": null,
   "metadata": {
    "collapsed": false
   },
   "outputs": [],
   "source": [
    "print(l1)\n",
    "print(l2)\n",
    "print(l3)\n",
    "print(l4)"
   ]
  },
  {
   "cell_type": "code",
   "execution_count": null,
   "metadata": {
    "collapsed": false
   },
   "outputs": [],
   "source": [
    "motor = vsr.Vec(1,1,1).trs() * vsr.Rot(vsr.Biv(0,1,0) * np.pi/6.0)\n",
    "print(motor)\n",
    "print(motor.trs())\n",
    "print(motor.rot())"
   ]
  },
  {
   "cell_type": "code",
   "execution_count": null,
   "metadata": {
    "collapsed": false
   },
   "outputs": [],
   "source": [
    "make_text?"
   ]
  },
  {
   "cell_type": "code",
   "execution_count": null,
   "metadata": {
    "collapsed": false
   },
   "outputs": [],
   "source": [
    "@interact(x=10,y=10,z=10)\n",
    "def position_camera(x,y,z):\n",
    "    camera.position = [x,y,z]"
   ]
  },
  {
   "cell_type": "code",
   "execution_count": null,
   "metadata": {
    "collapsed": false
   },
   "outputs": [],
   "source": [
    "class Sphere(object):\n",
    "    def __init__(self):\n",
    "        pass\n",
    "    def update(vsr_sph):\n",
    "        r, p, q = vsr_sph.rpo()\n",
    "        \n",
    "def make_sphere():\n",
    "    return Mesh(geometry = SphereGeometry(),\n",
    "                material= BasicMaterial(color='red'))\n",
    "\n",
    "def make_circle():\n",
    "    return Mesh(geometry = RingGeometry(thetaSegments=64), \n",
    "              material= BasicMaterial(color='black'))\n",
    "\n",
    "class Game(object):\n",
    "    class Circle(vsr.Cir, Mesh):\n",
    "        def __init__(self):\n",
    "            self._color = 'black'\n",
    "            super(Mesh, self).__init__(geometry = RingGeometry(thetaSegments=64), \n",
    "                          material= BasicMaterial(color=self._color))\n",
    "            \n",
    "        @property\n",
    "        def mesh(self):\n",
    "            return self._mesh\n",
    "        \n",
    "        def update_mesh(self):\n",
    "            (r, p, q) = self.rpo()\n",
    "            self.geometry.innerRadius = r\n",
    "            self.geometry.outerRadius = r + 0.1\n",
    "            self.position = p\n",
    "            self.quaternion = q\n",
    "        "
   ]
  },
  {
   "cell_type": "markdown",
   "metadata": {},
   "source": [
    "## Rotation"
   ]
  },
  {
   "cell_type": "code",
   "execution_count": null,
   "metadata": {
    "collapsed": false
   },
   "outputs": [],
   "source": [
    "\n",
    "n1 = vsr.Vec(0,1,0).unit()\n",
    "# n2 = vsr.Vec(-1,1,0).unit()\n",
    "n2 = n1.spin(vsr.Biv(-np.deg2rad(30),0,0).exp())\n",
    "\n",
    "B = n1 ^ n2\n",
    "\n",
    "R = n1 * n2\n",
    "\n",
    "a = vsr.Vec(1,0,1)\n",
    "a_rot = a.reflect(n2).reflect(n1)\n",
    "print(a_rot)\n",
    "print(a.spin(R))\n",
    "\n",
    "\n",
    "scene = Scene(children=[\n",
    "        frame_mesh(),\n",
    "        vector_mesh(n1,color='yellow'),\n",
    "        vector_mesh(n2,color='cyan'),\n",
    "        vector_mesh(a, color='hotpink'),\n",
    "        vector_mesh(a.reflect(n2)),\n",
    "        vector_mesh(a_rot, color='black'),\n",
    "#         bivector_mesh(n1.unduale(),color='yellow'),\n",
    "#         bivector_mesh(n2.unduale(),color='cyan'),\n",
    "        bivector_mesh(B,color='gray'),\n",
    "        AmbientLight(color='#cccccc')])\n",
    "\n",
    "camera = PerspectiveCamera(position=[3, -3, 3])\n",
    "renderer = Renderer(camera=camera, \n",
    "                    scene=scene, \n",
    "                    controls=[TrackballControls(controlling=camera)],\n",
    "                    background = 'white')\n",
    "# renderer.width = '1024'\n",
    "# renderer.height = '768'\n",
    "display(renderer)"
   ]
  },
  {
   "cell_type": "code",
   "execution_count": null,
   "metadata": {
    "collapsed": false
   },
   "outputs": [],
   "source": [
    "vsr.Vec(1,0,0).spin(R)"
   ]
  },
  {
   "cell_type": "code",
   "execution_count": null,
   "metadata": {
    "collapsed": false
   },
   "outputs": [],
   "source": [
    "2 * np.rad2deg(np.arccos(R[0]))"
   ]
  },
  {
   "cell_type": "code",
   "execution_count": null,
   "metadata": {
    "collapsed": false
   },
   "outputs": [],
   "source": [
    "sph1 = vsr.Sph(vsr.Vec(0.7,0,0).null(), 1.5)\n",
    "sph2 = vsr.Sph(vsr.Vec(-0.5,0,0).null(), 1.)\n",
    "cir = sph1.meet(sph2)\n",
    "r = cir.rot()\n",
    "\n",
    "sphere1 = Mesh(geometry = SphereGeometry(radius=sph1.radius(),\n",
    "                                        widthSegments=64,\n",
    "                                        heightSegments=64), \n",
    "              material= BasicMaterial(color='red'),\n",
    "              position=np.array(sph1.pnt())[:3].tolist())\n",
    "\n",
    "sphere2 = Mesh(geometry = SphereGeometry(radius=sph2.radius(),\n",
    "                                        widthSegments=64,\n",
    "                                        heightSegments=64), \n",
    "              material= BasicMaterial(color='blue', wireframe=False),\n",
    "              position=np.array(sph2.pnt())[:3].tolist())\n",
    "\n",
    "circle = Mesh(geometry = RingGeometry(innerRadius=cir.radius(),\n",
    "                                                outerRadius=cir.radius()+0.05,\n",
    "                                                thetaSegments=64), \n",
    "              material= BasicMaterial(color='black'),\n",
    "              position=np.array(cir.pnt())[:3].tolist(),\n",
    "              quaternion = cir.rot().quat().tolist())\n",
    "\n",
    "\n",
    "\n",
    "scene = Scene(children=[sphere1, sphere2, circle])\n",
    "c = PerspectiveCamera(position=[10, 5, 10])\n",
    "renderer = Renderer(camera=c, scene = scene, controls=[TrackballControls(controlling=c)],\n",
    "                    background = 'white')\n",
    "display(renderer)\n",
    "@interact(circlecolor=('hotpink', 'gray', 'black'),\n",
    "         sphere1color=('hotpink', 'gray', 'black'),\n",
    "         sphere2color=('hotpink', 'gray', 'black'))\n",
    "def set_radius(circlecolor, sphere1color, sphere2color):\n",
    "    sphere1.material.color = sphere1color\n",
    "    sphere2.material.color = sphere2color\n",
    "    circle.material.color = circlecolor"
   ]
  },
  {
   "cell_type": "code",
   "execution_count": null,
   "metadata": {
    "collapsed": false
   },
   "outputs": [],
   "source": [
    "%%javascript\n",
    "console.log('hallo')\n",
    "Jupyter.notebook.get_selected_cell()"
   ]
  },
  {
   "cell_type": "code",
   "execution_count": null,
   "metadata": {
    "collapsed": false
   },
   "outputs": [],
   "source": [
    "cir = vsr.Sph(vsr.Vec(0,0,0).null(), 3).meet(vsr.Sph(vsr.Vec(1,0,0).null(), 3))\n",
    "print(cir.rpo())\n",
    "radius, position, quat = cir.rpo()"
   ]
  },
  {
   "cell_type": "code",
   "execution_count": null,
   "metadata": {
    "collapsed": true
   },
   "outputs": [],
   "source": []
  },
  {
   "cell_type": "code",
   "execution_count": null,
   "metadata": {
    "collapsed": true
   },
   "outputs": [],
   "source": []
  }
 ],
 "metadata": {
  "kernelspec": {
   "display_name": "Python 2",
   "language": "python",
   "name": "python2"
  },
  "language_info": {
   "codemirror_mode": {
    "name": "ipython",
    "version": 2
   },
   "file_extension": ".py",
   "mimetype": "text/x-python",
   "name": "python",
   "nbconvert_exporter": "python",
   "pygments_lexer": "ipython2",
   "version": "2.7.11+"
  },
  "widgets": {
   "state": {
    "005318d965044a608d5fa23c29e39daa": {
     "views": []
    },
    "034254844bb84f43bb0c8ff6e9b1e79b": {
     "views": []
    },
    "034d5123ae61406483001bab435dda5b": {
     "views": []
    },
    "0471d0adce604b13bfa2188c7372e92a": {
     "views": []
    },
    "0618fc662ee64fdab124e66411346ba5": {
     "views": []
    },
    "068779c71b1e49298aeee603d01e9b33": {
     "views": []
    },
    "08022b0af9814da7bcabf204cb4841d1": {
     "views": []
    },
    "08198cf3ffd54ccfbb38d1033d4e2905": {
     "views": []
    },
    "0863b886d12a4f1682a237fd2af7eceb": {
     "views": []
    },
    "086bf941794c4568999dbdc727528bfe": {
     "views": []
    },
    "08d8f363b5de45f9a1f696feec3c6528": {
     "views": []
    },
    "0a5ef23b89a644bb9373a45d66938fda": {
     "views": []
    },
    "0b38c67f7fee4b79a7c06d91865622c5": {
     "views": [
      {
       "cell_index": 14
      }
     ]
    },
    "0bfcf052096c4ee9b5be7eecd5422b8b": {
     "views": []
    },
    "0c06d355dc914720a348f29445f4d1ce": {
     "views": []
    },
    "0c2ef3bcd939467cbe398ba62fc86498": {
     "views": []
    },
    "0c9f696988584b3a8a59fd5a366c282f": {
     "views": []
    },
    "0cbef59979f14b9492378a1badc9b5a4": {
     "views": []
    },
    "0dac3fef0941472ea8b87596ad4f4804": {
     "views": []
    },
    "0dafd9ab6c33472db6e5b83635c9cd1c": {
     "views": []
    },
    "0ef0a157d52b4dc8aaf06bebab1e231a": {
     "views": []
    },
    "0f153a0dca734bfc8708f9bbca9a110e": {
     "views": []
    },
    "1176bddc04184c7f9c28e946f0493162": {
     "views": []
    },
    "11c9fe84d7e84e1abe70cecdd721b7ea": {
     "views": []
    },
    "1278efb00847405cab681d01f8acc48f": {
     "views": []
    },
    "12e27d2672314069b45d948034c9248f": {
     "views": []
    },
    "1384c26081d5425fa5405fb689ba66f7": {
     "views": []
    },
    "14bbdef278f94bc0b0e6f4668cda3d04": {
     "views": []
    },
    "150cdca450104f83b6f28cfdad3dedc3": {
     "views": []
    },
    "1530f195792f4ef097762fe063512635": {
     "views": []
    },
    "1559af1522b04481ac7b4660e5a4248c": {
     "views": []
    },
    "15a36c5f119e4d9eb9f8d7333a83d507": {
     "views": []
    },
    "1691489cfc88498890c8ab0c73c17fc4": {
     "views": []
    },
    "17e362e3b31b4e239ae8d659933c56c2": {
     "views": []
    },
    "18c481999a114585824daecaee6d9c10": {
     "views": []
    },
    "19641214c9344d00a1a9bd6d5ea5e6ab": {
     "views": []
    },
    "19fb43c5f1374c2697c475c670a44adc": {
     "views": []
    },
    "1a0a58d06723435d98506409572ce490": {
     "views": []
    },
    "1a6fcf99714d43378642ffbb91e24dd9": {
     "views": []
    },
    "1aef59050d8f4207b7565dec4317c659": {
     "views": []
    },
    "1ba8993f1564406e9be379c6139030e4": {
     "views": []
    },
    "1bdf1ab7c9a34b268dd1930780ae9e60": {
     "views": []
    },
    "1dcd81a33c0042fea7a60c4ef9f7448d": {
     "views": []
    },
    "1edd339d42c646148f615408457c2903": {
     "views": []
    },
    "1eebebe59a5242f4ab3133678b2f7603": {
     "views": []
    },
    "1fc4f246942842d880e8ebc987ffce30": {
     "views": []
    },
    "1fe55cd039e6431aa0cbe8324957b651": {
     "views": []
    },
    "20cedfd9563843fe80a4af881460e4d3": {
     "views": []
    },
    "2250b5689845439e9b93cafad84b05f3": {
     "views": []
    },
    "235bf4ee32ff490fa84458fb65b2dbc1": {
     "views": []
    },
    "237e72463e5b4d06a36ca279c32261b4": {
     "views": []
    },
    "238705815c124115bb5533f39a0d59b5": {
     "views": []
    },
    "238e7919343348d8ab1d9b334716b029": {
     "views": []
    },
    "23c7abd72d064fb79b86c00f817be205": {
     "views": []
    },
    "24e321ba9cbd4f37b82e0ac700b26a3f": {
     "views": []
    },
    "25a902e12b704e8baa50c65b6d56352b": {
     "views": []
    },
    "265b2365d0c14994bd811e3a65e93434": {
     "views": []
    },
    "2671e13dd7f9430f89132610aa0875a3": {
     "views": []
    },
    "26e2fbb03df649339a7eac53af24013e": {
     "views": []
    },
    "27685e0bd95d49eab8f249b9761da5ef": {
     "views": []
    },
    "29296574d5334c90a98a73902aae1b40": {
     "views": []
    },
    "2a61f96c65b140278f7563eddb199722": {
     "views": []
    },
    "2aab5b14647b464ea82703fe77f04f95": {
     "views": []
    },
    "2b6cfa10cca44aeb9c536b7aed078dfe": {
     "views": []
    },
    "2f1948f06a4c4d959ad01fc7d64cd9f8": {
     "views": []
    },
    "2f871854be58454e9d466d3ae36004de": {
     "views": []
    },
    "30f9af58356f4ee0ab09b8be29c3d155": {
     "views": []
    },
    "31358c738f8448c083cb5234761a06e1": {
     "views": []
    },
    "313b3d165f3a4b53b21529631f5822cf": {
     "views": []
    },
    "324de43efde649d796ece325f6ef7930": {
     "views": []
    },
    "327b45839ccd4372b981aa35347a1b1d": {
     "views": []
    },
    "333113d4e56841daa2bea383a8072ee1": {
     "views": []
    },
    "33828506f9ff49829d2905c8e064a58b": {
     "views": []
    },
    "33be99f8fed8469daaf3aa76b31d4938": {
     "views": []
    },
    "349c7caa08014270ac2612f06a2684f7": {
     "views": []
    },
    "34f9d2414c64485dbbf1410c71e24cee": {
     "views": []
    },
    "3817ead80fd54206a9248e7ef6fa955a": {
     "views": []
    },
    "3838eb4bd8af499aa450062ca4b0b50d": {
     "views": []
    },
    "38c6a33d2a71427eaf7739ea86a115a4": {
     "views": []
    },
    "398b1a2d5f654cf0a5a6d2480632aecd": {
     "views": []
    },
    "39cbbfc12a014f15ac8cc0c0af1dbcd3": {
     "views": []
    },
    "3bcad68f31e5499c9e52dd9937982c7f": {
     "views": []
    },
    "3bd2edb08901493e8be187f374329395": {
     "views": []
    },
    "3c10d5dda8764334bd8116bb4d96d526": {
     "views": [
      {
       "cell_index": 10
      }
     ]
    },
    "3caadcf2bb6747bfbbc102bea8a31999": {
     "views": []
    },
    "3d07c56db4814e7eab38f19fa0596db0": {
     "views": []
    },
    "3e2bd39045cf4cfe98d9aa76fc5c1204": {
     "views": []
    },
    "3e381faf6b19448fbe2e4e196c20351b": {
     "views": []
    },
    "3f4103e10abc45cda7807e95d98412b6": {
     "views": []
    },
    "3ff8f3c83d5f47d5ba11a293239b57c7": {
     "views": []
    },
    "406b4bd3efc04699b03494468b1ea4e3": {
     "views": []
    },
    "40b31ab13cef457dbcedd7b9c289a15b": {
     "views": []
    },
    "412a08a6b2ce4f10a8b1ebc264a6d4c5": {
     "views": []
    },
    "41e3b883f54e40dab625620dea583fbd": {
     "views": []
    },
    "42b4e91192604cae9f4254725c125dc7": {
     "views": []
    },
    "430f7d24814e4603a99428181b0c5117": {
     "views": []
    },
    "4333d921adc54cc89edaaa0ef6b92a3e": {
     "views": []
    },
    "44b4310f36374b4881652b117175a0f0": {
     "views": []
    },
    "45385ff2977e46ba97b621514a36dc99": {
     "views": []
    },
    "456d476c7df647ed8ed45461cb57fbdf": {
     "views": []
    },
    "460578edcb0144dc8bf369a716ee28af": {
     "views": []
    },
    "463ea82d033749c18d069ce01d7bb1be": {
     "views": []
    },
    "4760633a675446339e7c8de0f5225355": {
     "views": []
    },
    "4782f24f2937464b8d7b5ca417902efe": {
     "views": []
    },
    "47ca916f911d446ba62f46e63793318f": {
     "views": []
    },
    "47fa6306632d44149d0580b13ef33a71": {
     "views": []
    },
    "4869ef2bb85c4c08b1f7423e3a85d376": {
     "views": []
    },
    "486e904801a543b3b25f546ddb71dbdf": {
     "views": []
    },
    "48a1b4dddc3b4ef2bf46391fcab851d5": {
     "views": []
    },
    "48b38bbcc7114850a15d10a4327c8af6": {
     "views": []
    },
    "48d05e96aad248cdaca59c5d265da9ec": {
     "views": []
    },
    "492bf32e810e45fdaa195bcba6bc1dca": {
     "views": []
    },
    "498f62c9ac6449f5af5886b374efa5d0": {
     "views": []
    },
    "49ad97a4b5b54987ac2ebca4fcedb6fd": {
     "views": []
    },
    "4a2e142f015845d098d132e0b9facd2d": {
     "views": []
    },
    "4bc6cec706fd4bd4aa7bbe3b7996f152": {
     "views": []
    },
    "4c3655cb75824282ab2dc37962c6ed8d": {
     "views": []
    },
    "4ca9f78c66434da2af743bcf58eae978": {
     "views": []
    },
    "4d1823d6dad04a94b69a854346a1eb82": {
     "views": []
    },
    "4d9bd9f68e1a47ef93308a416259a2dc": {
     "views": []
    },
    "4db53ae079c342dbb33555a4573f69e2": {
     "views": []
    },
    "4f3cf2d9649e4125b8e6245f84125df4": {
     "views": []
    },
    "4f64c27e11aa48749c6e9c68c763a9f7": {
     "views": []
    },
    "4f8c96af40f941da87bae0d9ad2d303a": {
     "views": []
    },
    "4f8f899f5b89460b889e92c61b9da737": {
     "views": []
    },
    "5015423becf04919a75a969619eafc5d": {
     "views": []
    },
    "54c65b9d88484ab395d8e0cab4a58397": {
     "views": []
    },
    "54e1e0b2b8b944cebe7d4f364e078490": {
     "views": []
    },
    "55bc6737a46e4f7c96a15ac0d1d53227": {
     "views": []
    },
    "571c691da61c4c0ba10c7cfe2a2f4b36": {
     "views": []
    },
    "5788b4ae3b47423a93ca45425c62f8c0": {
     "views": []
    },
    "5893282769db4731929e7921e6ddae9c": {
     "views": []
    },
    "59ea1f0b8bf94cd0aef2e23df28c7833": {
     "views": []
    },
    "5ab6647453ca45b4ba107aebd7b2feb6": {
     "views": []
    },
    "5ca6bc38b88e44a6a6d45e706b886a09": {
     "views": []
    },
    "5dbfb11fbe804235a02513c2c6a6c30c": {
     "views": []
    },
    "5e40f1c56f82461085d80db8f17b3949": {
     "views": []
    },
    "5ed429056a2e491390cddf3ae7fc848b": {
     "views": []
    },
    "5f9ae1abd2d94611992bb85e98959801": {
     "views": []
    },
    "60dcaa229b184778b2460a5deddc406c": {
     "views": []
    },
    "60dce46ef5d748e997337124aa0794bd": {
     "views": []
    },
    "60f3d3a71cdf4a54bb9c5575c7b1b15f": {
     "views": []
    },
    "6153beb23f9b4109bdfaec5ae660a2f1": {
     "views": []
    },
    "626ff4a6dfef435e88b0759eb92a7a87": {
     "views": []
    },
    "6273717dc4f947bfba5e790996b092b8": {
     "views": []
    },
    "636ee5d3a9b3437aa44b79888412199f": {
     "views": []
    },
    "638549c22fee445882a0f2a7577ff731": {
     "views": []
    },
    "643c49eeef65449781fd7dd99ef64de6": {
     "views": []
    },
    "64b3f9b44f1c4c1f83a4c14b301bd12b": {
     "views": []
    },
    "6593ce85ccc2401b9784887716d79f38": {
     "views": []
    },
    "67039a80ef2141beab0da0f1eb6c9b58": {
     "views": []
    },
    "67635589a3214d0fb9319960afee09f5": {
     "views": []
    },
    "680f60d804c34331a9e87a849d03ebea": {
     "views": []
    },
    "68582313f9754f42abc359bac6135017": {
     "views": []
    },
    "68a4ec480d1c40baad9fbc8fb21b219c": {
     "views": []
    },
    "68e45210f5af4b129d4c0595c53ddd08": {
     "views": []
    },
    "69150dea331d44c6bc7d021c400978d8": {
     "views": []
    },
    "6a9d1640932e41ccad7f57a7547dc182": {
     "views": []
    },
    "6b51f128659d48e7826358301fbbedbf": {
     "views": []
    },
    "6bf34e36d13a486085b32fd17e6d5830": {
     "views": []
    },
    "6db9f3eaf6b740268b576f69c616c48e": {
     "views": []
    },
    "6dd8d9ff637e41008397074916b3e8de": {
     "views": []
    },
    "6e1b1177a08e4229b69096b858b4ad1b": {
     "views": []
    },
    "6e5b9337c6954eddb2c9cca27eae4978": {
     "views": []
    },
    "6e754d96cf07493eb132ce34b79690a0": {
     "views": []
    },
    "6ed1631154a541faa5ecf8dda28a67f7": {
     "views": []
    },
    "6f1ea3c138ee43979c790a48d6e2ab98": {
     "views": []
    },
    "6f31b292b3b549db953ecb81e1b626df": {
     "views": []
    },
    "6f706759b55e49d4a8178c3745dcc121": {
     "views": []
    },
    "701ca2c600a2477193fee0c069f7c931": {
     "views": []
    },
    "704c1c4e6ae14a7e8167b914bc08f338": {
     "views": []
    },
    "70867c1b15714216b746940099f22a6f": {
     "views": []
    },
    "711919679e884557b36de23b1caa585b": {
     "views": []
    },
    "711e0337772b41e88e0365fa0bd73df3": {
     "views": []
    },
    "71c81c3ca12e47d2aa7ae3333836adba": {
     "views": []
    },
    "71c8da4fa6cd482eba35b5a633dfe8f3": {
     "views": [
      {
       "cell_index": 8
      }
     ]
    },
    "71dcb2016893402b9d4847a660722cc9": {
     "views": []
    },
    "71f09245f59a4621a96a96ed3f57c89f": {
     "views": []
    },
    "72165d58e0f34c7fb40bb7455bf9c432": {
     "views": []
    },
    "727f482a78504a92aac98862a5ddd6b6": {
     "views": []
    },
    "72e931120fcb4560aa36db1e2f1c934d": {
     "views": []
    },
    "73c3d144f9d04b0e851520c77a026fcd": {
     "views": []
    },
    "74385a37964a42e8b166ce80736393d1": {
     "views": []
    },
    "743ace36897442c79bbe46f368af2852": {
     "views": []
    },
    "74a77fb564334176a1a6096a6b05680c": {
     "views": []
    },
    "76eb08e1b6584bfeb1f249ec64306ff3": {
     "views": []
    },
    "76f27e2af5374167b69a2f91a42de42e": {
     "views": []
    },
    "774f96e5532e4ef8bd96f2a2efd2aa1d": {
     "views": []
    },
    "77c2ec6b420d4fa4947e49bb9e1d07fe": {
     "views": []
    },
    "781058299cd44eefbb2acd638c8c182d": {
     "views": []
    },
    "782d9c330a20414d8143d964ae0258f9": {
     "views": []
    },
    "7864b1a05ffb40ecb78990f79140682d": {
     "views": []
    },
    "788f30f2b6c7429aa863718745fd27be": {
     "views": []
    },
    "7972148502d4483c9d48412621315f0f": {
     "views": []
    },
    "7ac827bc1eff4be29cc4927f6964f03e": {
     "views": []
    },
    "7b936b454a384bc6aaa4bfd7e6af7e4b": {
     "views": []
    },
    "7cb6b42e1f004062af9443ca500011f7": {
     "views": []
    },
    "7ee47ed4f1404a4ab627277354ae7ae9": {
     "views": []
    },
    "7f0c6b1f6330454da79d706bc8dc1322": {
     "views": []
    },
    "7faad2de928e44a0810186b11c25d3ed": {
     "views": []
    },
    "7fd9a3cc342f4498b60144d130bc66a1": {
     "views": []
    },
    "819992e7e1e84f9e88eb9290f3094bb9": {
     "views": []
    },
    "81c25ae5c92e49f0b344d4cf0c71b254": {
     "views": []
    },
    "82548f0231194348af3b41479f7097cb": {
     "views": []
    },
    "825523f2197440cf8cb7ec9bc771a923": {
     "views": []
    },
    "8270f897efac4b77a28a23ab1e601bcc": {
     "views": []
    },
    "8292d65acde348ad835cb31ff1ad3f25": {
     "views": []
    },
    "82ff9c047a2a422aaf191410c4a83cbe": {
     "views": []
    },
    "831fbb5058e24d968882503da7c30c44": {
     "views": []
    },
    "83a308caa03e47d98e3c7727271b0a38": {
     "views": []
    },
    "8435af11f36a49e49dd1d7a4f359e970": {
     "views": []
    },
    "84f7ae654e47473a9b8961ba58f5b659": {
     "views": []
    },
    "867818ecc5df4f9da252b4624623b6fa": {
     "views": []
    },
    "869d7b04f6d44354b482834a7d9ab75d": {
     "views": []
    },
    "86cd3ebb737a4024928c104d3ac697cd": {
     "views": []
    },
    "87a7b2ad94454614abd75fc1c1185a6d": {
     "views": []
    },
    "886e10a618a84cc8bf8b142f61a3cffa": {
     "views": []
    },
    "88acb1ec71614e668f556c277ad8bf3e": {
     "views": []
    },
    "88df71fa9e7d42f89c802784875acf94": {
     "views": []
    },
    "8995fa50037e42578ae928206c5c0040": {
     "views": []
    },
    "89e381e54d9b4f8a95270c5509babd3a": {
     "views": []
    },
    "8a5dbc8ec46748479b58058f645abb1b": {
     "views": []
    },
    "8a9a28aa1e6c4ed389bfbf267ba6206d": {
     "views": []
    },
    "8b8bb0bc3f6f4224bb17c93c5909362d": {
     "views": []
    },
    "8baedda3a5914c308682bf78d7733680": {
     "views": []
    },
    "8bbc65ef92904e61b995e6a99e1d4033": {
     "views": []
    },
    "8c13831b2b224f7f9d746819fb90793c": {
     "views": []
    },
    "8c23f45c4a5941d5b76a51838e77b7e0": {
     "views": []
    },
    "8c7ec3b9d55e4c9bad3aae8b3a48e92b": {
     "views": []
    },
    "8d7b79d7908648fbb19686b2838db905": {
     "views": []
    },
    "8eaade73cb884c0b9270735b7e15adf1": {
     "views": []
    },
    "8f290ddeaf5d4938925d8bd7405a79c1": {
     "views": []
    },
    "91ec499813bc45b0b2b3383afbb0403a": {
     "views": []
    },
    "93aa2248edc34e2f956f8a56051d6469": {
     "views": []
    },
    "942113ef348a403b9f7af275e96d5853": {
     "views": []
    },
    "94c5fd07c7b5467e94a52e313423f644": {
     "views": []
    },
    "951c16787c0041dc82ea0063093c9677": {
     "views": []
    },
    "95819fb9e22b4368bbaf1ab34cff8f52": {
     "views": []
    },
    "984674c32bbc44e493076011b630900d": {
     "views": []
    },
    "988ddfee052f4775bd114c9dcc6f9a1f": {
     "views": []
    },
    "989e6abe9b8f425db085186d624fc877": {
     "views": []
    },
    "99ec328f8812439385914949f01f7047": {
     "views": []
    },
    "9a497a15581b4989bee8ace01b1603bb": {
     "views": []
    },
    "9a8b74ccbafa4b3b9fdaf6121127b355": {
     "views": []
    },
    "9ad25c9075fd4f01a70d07dee1c6b535": {
     "views": []
    },
    "9b87ef0ff7a848d394b73588c79f9aa4": {
     "views": []
    },
    "9bd7f668f2844b01969a811a631bbe75": {
     "views": []
    },
    "9c7cf3c2b2da4ad8b0e2f44188910adb": {
     "views": []
    },
    "9ccb6a93e81b47fb8aae48461d96c990": {
     "views": []
    },
    "9ddb132c79dc41f893670bc01f3f036b": {
     "views": []
    },
    "9dfc4a3c57174aa8a55de66acc7aacfb": {
     "views": []
    },
    "9e7478a56261487dad59fa184d211009": {
     "views": []
    },
    "a05b0b15df2248eca8bb799899bbf819": {
     "views": [
      {
       "cell_index": 12
      }
     ]
    },
    "a160ebfdfe8d47e6bec78053f6a9b18a": {
     "views": []
    },
    "a2784dc8611443738a3dda588b95642f": {
     "views": []
    },
    "a35e23cca20545c1889674589073f77c": {
     "views": []
    },
    "a4b9333b3b404392bd03f048a66f5acc": {
     "views": []
    },
    "a6fd6056bf764710b794844d7a24d425": {
     "views": []
    },
    "a6fefed01666412a8002c70b0b71b3ae": {
     "views": []
    },
    "a6ff6b9fdef042c19a6b83a8a40cc2a8": {
     "views": []
    },
    "a77d35b4108e4034b44809f1bfe2c374": {
     "views": []
    },
    "a7885125c9574a6cb80a4c62e6ade67f": {
     "views": []
    },
    "a78c5cd271984a0793e44088199443d9": {
     "views": []
    },
    "a7d5f0b0edc04465b0ac496f8a67bc13": {
     "views": []
    },
    "a829a853bdef442b8614b6bb83ec9b56": {
     "views": [
      {
       "cell_index": 17
      }
     ]
    },
    "a866e03ffbc4485593a5c696c55bc163": {
     "views": []
    },
    "a88e5331335845229f02e348e445f5b1": {
     "views": []
    },
    "a8bb0ac1d9344ad5b334b7bbded31395": {
     "views": []
    },
    "a8df803703974d73b1b4506ee972018c": {
     "views": []
    },
    "aa300ecc3b124c7889689b24fdca751f": {
     "views": []
    },
    "aa3f7fe6e0814713afd9182e9ceec362": {
     "views": []
    },
    "aa9e459d49024d328792df7bc757bb04": {
     "views": []
    },
    "aaa1e141b81a40e591ffdbd23d7d6410": {
     "views": []
    },
    "ab8d9a59c3e84ec0b0cafc99ec059896": {
     "views": []
    },
    "ac173d0ac48a482c85ab42ecf2fb1396": {
     "views": []
    },
    "ac61dd0c5bc3455e9605e75f2fd8b9e3": {
     "views": []
    },
    "ac8b3a32790d4858af04b3c0bcefbef0": {
     "views": []
    },
    "acb8d12e3f54421d949a997faffe9088": {
     "views": []
    },
    "ae0d7449032f43108973df7dffe4cad3": {
     "views": []
    },
    "aef03a7a7bc5409e9f0bb740c7c2a241": {
     "views": []
    },
    "aef5addd9b2d462c962d82407cd2a5a1": {
     "views": []
    },
    "afdca66e312e44a2bc4833a8e0ec9d0d": {
     "views": []
    },
    "b093805fcafa4bf6a8b87174596822a9": {
     "views": []
    },
    "b1b63e4223ee4f9181741f2fa7acb6bc": {
     "views": []
    },
    "b1d185a8c0b5481e8bf7838b03a703f8": {
     "views": []
    },
    "b1fe6b0e61664cf48bee5a9831586b2d": {
     "views": []
    },
    "b2a22df2c72f43af9bcd9fcccdbce462": {
     "views": []
    },
    "b34909cc863f4a3980165d12f62159f6": {
     "views": []
    },
    "b3ad3d88f51542018b7145507203df0a": {
     "views": []
    },
    "b3d60b291657474691eb724de6de078d": {
     "views": []
    },
    "b3dd34ee495c4d28be22f08277af79e9": {
     "views": []
    },
    "b7523c2ba4a4407f9f8b29341288ff91": {
     "views": []
    },
    "b76bd38c484f47d5a0c08d8e49e4ec22": {
     "views": []
    },
    "b85b8eeaea8c41bcbbc1e62197a0431a": {
     "views": []
    },
    "b939de5044394ca9b06c84b7e2db93d2": {
     "views": []
    },
    "b9b6df08aae9439a9b5193d79e9c0930": {
     "views": []
    },
    "b9e3759bae48433c8d4f4f972d357968": {
     "views": []
    },
    "ba1385abf67b4077b9ea7ca1219806ee": {
     "views": []
    },
    "ba463e17ce7a415cb4e155dcffaf6886": {
     "views": []
    },
    "bbbd42275bc142a08954c28ea4be0fda": {
     "views": []
    },
    "bc482f4b908144238f0957ed241682ab": {
     "views": []
    },
    "bca6a7a11be24f9aaf11876dd4208904": {
     "views": []
    },
    "bcc63256d5184edda6d2be00489bfc9e": {
     "views": []
    },
    "bcc64217ac1a4162add48e6c48e44619": {
     "views": []
    },
    "bd44864d8f40462f832e95ede7b7899a": {
     "views": []
    },
    "bd7b20d8d3a44fbc9801b0e340680549": {
     "views": []
    },
    "be7065ec18384f528a464dc41316b2f6": {
     "views": []
    },
    "bfa1e8b3591c4b7fa26106a05c441e18": {
     "views": []
    },
    "c06e53891e254ece80fdbe31ace872e2": {
     "views": []
    },
    "c0720c9c2dae4fcfa0e6c0f04c62b796": {
     "views": []
    },
    "c0b8cca5d2d740eaa575dc2fbcb4448e": {
     "views": []
    },
    "c0c83e770b244188b40f2af5fe300842": {
     "views": []
    },
    "c16c3380ac524c40895197cd74882916": {
     "views": []
    },
    "c19c343a58334805abc983ebb33ce34d": {
     "views": []
    },
    "c1f32dc38f0f4306b2f8bb5662666084": {
     "views": []
    },
    "c4df9e1ce2c34e6c99f199bf8d908fbd": {
     "views": []
    },
    "c537c7b0b60648a3b0115512d11ca555": {
     "views": []
    },
    "c5e7bb9503d44515adabca208ab7fa3d": {
     "views": []
    },
    "c5fcbbb5a2ce4a98a440d6ec313da30a": {
     "views": []
    },
    "c69cecb811f745b2afae10f0d1c4aa8a": {
     "views": []
    },
    "c76fc280cebd44b2afd3047eba572563": {
     "views": []
    },
    "c8494e43c4f645f68f8b1a634d3df695": {
     "views": []
    },
    "c8f50c481d6c40e088bf9569942f05f5": {
     "views": []
    },
    "c97d83532ad54ecda972ad5b49b4887c": {
     "views": []
    },
    "c9c63c039a6c4b46b1dd55ab5026552e": {
     "views": []
    },
    "cb0406c1af904185ad0e9847c4e08a54": {
     "views": []
    },
    "cb515f51647048338c2eed3a92820f87": {
     "views": []
    },
    "cb92082b5b364e1bb387ddccdde12049": {
     "views": []
    },
    "cbbcccd8bbaa4265b96de04fc38881e0": {
     "views": []
    },
    "cc821b5a848c4c278fa13f0c43b5cd65": {
     "views": []
    },
    "cce8d5b891c74a3e85b239f90dc59cec": {
     "views": []
    },
    "ccf340480f7240ca8f35aa3f52ce1b7e": {
     "views": []
    },
    "cdb48de0917a4557bcaf8846be192bde": {
     "views": []
    },
    "cdee26e2c7da4172a264f22359cf7de4": {
     "views": []
    },
    "d05b679d6b3944c5b45522fc58609183": {
     "views": []
    },
    "d07b15d4d6784c1084b363f9368cabc2": {
     "views": []
    },
    "d0c6240b9bf54f7cbda23877111a72a8": {
     "views": []
    },
    "d15150afceca4ad88937caecd77aa314": {
     "views": []
    },
    "d1c5822e010942688667289bd3f79500": {
     "views": []
    },
    "d1f04663d9f34998b631a381f8b04cd1": {
     "views": []
    },
    "d1fa0de73bc14e3fa96a6805cb0fa1bf": {
     "views": []
    },
    "d295801965ea4266a98cc52bf5a678f7": {
     "views": []
    },
    "d2a840cba060421fabe0c99292ca77f5": {
     "views": []
    },
    "d3daa12c1c3440bd9708f9f6bb9eb920": {
     "views": []
    },
    "d456eab4e1ec4e2fa142346541b0da3a": {
     "views": []
    },
    "d4d0d781bc8547e8bc9b9b45c0c090ec": {
     "views": []
    },
    "d55a935648464647aab45da68ac2a1f9": {
     "views": []
    },
    "d6046ec909c84066ac1a19b7fe891218": {
     "views": []
    },
    "d7cbd97aad784fb5b0153c2b34918f56": {
     "views": []
    },
    "d7cc1936836145c4bd35d6b9e2ebe397": {
     "views": []
    },
    "d81a1fbcb06647aca30f96c66f04ca06": {
     "views": []
    },
    "d821e7e1182440e39573a615523fe034": {
     "views": []
    },
    "d86e8377bb5d4daca845f65bb0b5875f": {
     "views": []
    },
    "d88bda2ae99b4c48ab5b7a7589bc6de9": {
     "views": []
    },
    "d9380f0869c04bcd98487bbabe52a7e6": {
     "views": []
    },
    "d9d175f3cc8e41829e0226e4a9278618": {
     "views": []
    },
    "da20b1859f0c4fe08b193ca0b0301f1b": {
     "views": []
    },
    "da3655c01d8744fb92d5e28ceb62bed7": {
     "views": []
    },
    "db190a4efa5e42308e49894aa3764587": {
     "views": []
    },
    "dc3c983e63ac4ff9b228b13f6fae1d99": {
     "views": []
    },
    "dd2610e1c09e40b792db4fc8e853b051": {
     "views": []
    },
    "df3f70d5384147bc994af03e4dddbc8c": {
     "views": []
    },
    "dfce96affeda4e35bd7450dd746f106c": {
     "views": []
    },
    "e0fd714f2f6f4d099c76fef6482a8068": {
     "views": []
    },
    "e581c0c0a9e448ee904897795e5cc7fd": {
     "views": []
    },
    "e59943bef550454f86eaf9caec75e880": {
     "views": []
    },
    "e7649c4d8ebc46ef8acec5d2dab4a3f2": {
     "views": []
    },
    "e79d165553264f77a954646f913166ca": {
     "views": []
    },
    "e86c8dbd44cc402eb836efdba22c3002": {
     "views": []
    },
    "e8df5038483248c4808bfa668d350beb": {
     "views": []
    },
    "e9651f5f25ff422ebc6183ed5fa746cc": {
     "views": []
    },
    "e9dc4a981b594165a9371a800d598fc6": {
     "views": []
    },
    "eaa1c2c161cf4c0889b74f57b6b80e1e": {
     "views": []
    },
    "eac6c770f3d24989855406bfd7348013": {
     "views": []
    },
    "ec3c553ca4c04d0caa328aba76a96329": {
     "views": []
    },
    "ec9cf6b283004797a0be17c97eb06038": {
     "views": []
    },
    "ee4a42d1acc94534a25c2915c30fb0e3": {
     "views": []
    },
    "f1cc64743f6d44ec943580faad5af225": {
     "views": []
    },
    "f1e63118acdf40d8825b1ebb88795c4a": {
     "views": [
      {
       "cell_index": 16
      }
     ]
    },
    "f21c8c30a7124cc8a263a0bfae9d067e": {
     "views": []
    },
    "f2739fbe4875492b8556af25f131cd6e": {
     "views": []
    },
    "f293afe81ddc43cf8978772dfd06384d": {
     "views": []
    },
    "f2e6871aa9a54e208a68c54800c0893b": {
     "views": []
    },
    "f30e5e7f39e3499ab2e0a681c8a3dd49": {
     "views": []
    },
    "f31caebd46964bb9b0d6ee68a2394a47": {
     "views": []
    },
    "f429be92f9c04a1199c924d3976b4898": {
     "views": []
    },
    "f47c7db8bbe6401999140cdcf3fa6909": {
     "views": []
    },
    "f47f132c1f9f49eca6400f87e5f383c5": {
     "views": []
    },
    "f4b56cac01454c5bb80e77912a475476": {
     "views": []
    },
    "f5862ad220914dcdbfef7db840f2352e": {
     "views": []
    },
    "f5b4bc49f3bf437ba833a30d815c5a47": {
     "views": []
    },
    "f5e8b80fa3f043b6a462f46490288c83": {
     "views": []
    },
    "f5ee3280760445daa398fa5dbaf67be0": {
     "views": []
    },
    "f89f4bc2eea64f54870a8e0554fa1703": {
     "views": []
    },
    "f8c83a19b8334f9b966f61c34915805b": {
     "views": []
    },
    "f8d6ae8437dc4726b91a08ab61fed41a": {
     "views": []
    },
    "f9427c67077e4bcdbd9e59a3aef91a0a": {
     "views": []
    },
    "fa6138b613394f699696feb40bd9e492": {
     "views": []
    },
    "fb4adb93658142e5beffde2df859da7c": {
     "views": []
    },
    "fc57577c442c42db97c6c5d4b35cbf31": {
     "views": []
    },
    "fd5e97e995ed44ffaf4a98e58c8a1806": {
     "views": []
    },
    "fde0d02be982471e9f21349ee8ef23d4": {
     "views": []
    },
    "fde93b78a810454f89ec99b280381760": {
     "views": []
    },
    "fee4cb67f8dc436685a7cd64bd34a651": {
     "views": []
    },
    "ff0849f174c542eaba62c222a0049a5b": {
     "views": []
    }
   },
   "version": "1.1.2"
  }
 },
 "nbformat": 4,
 "nbformat_minor": 0
}
