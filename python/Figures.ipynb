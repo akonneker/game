{
 "cells": [
  {
   "cell_type": "code",
   "execution_count": 1,
   "metadata": {
    "collapsed": true
   },
   "outputs": [],
   "source": [
    "from __future__ import print_function"
   ]
  },
  {
   "cell_type": "code",
   "execution_count": 2,
   "metadata": {
    "collapsed": true
   },
   "outputs": [],
   "source": [
    "import sys\n",
    "sys.path.append('../build/')"
   ]
  },
  {
   "cell_type": "code",
   "execution_count": 3,
   "metadata": {
    "collapsed": false
   },
   "outputs": [
    {
     "name": "stdout",
     "output_type": "stream",
     "text": [
      "Populating the interactive namespace from numpy and matplotlib\n"
     ]
    }
   ],
   "source": [
    "%pylab inline\n",
    "np.set_printoptions(precision=4, suppress=True)"
   ]
  },
  {
   "cell_type": "code",
   "execution_count": 4,
   "metadata": {
    "collapsed": true
   },
   "outputs": [],
   "source": [
    "import versor as vsr"
   ]
  },
  {
   "cell_type": "code",
   "execution_count": 5,
   "metadata": {
    "collapsed": true
   },
   "outputs": [],
   "source": [
    "from pythreejs import *\n",
    "import numpy as np\n",
    "from IPython.display import display\n",
    "from ipywidgets import HTML, Text, interact, widgets\n",
    "from traitlets import link, dlink"
   ]
  },
  {
   "cell_type": "markdown",
   "metadata": {},
   "source": [
    "# Drawing functions"
   ]
  },
  {
   "cell_type": "code",
   "execution_count": 144,
   "metadata": {
    "collapsed": false
   },
   "outputs": [],
   "source": [
    "def vector_mesh(vec, position=None, color='black', linewidth=2, arrow=False):\n",
    "    length = vec.norm()\n",
    "    line = Line(geometry=PlainGeometry(vertices=[[0,0,0], [0,length,0]],\n",
    "                                   colors = [color, color]), \n",
    "            material=LineBasicMaterial(linewidth=linewidth,\n",
    "                                       vertexColors='VertexColors'), \n",
    "            type='LinePieces')\n",
    "    if arrow:\n",
    "        cone = Mesh(geometry=CylinderGeometry(radiusTop = 0,\n",
    "                                              radiusBottom = 0.1,\n",
    "                                              height = 0.2,\n",
    "                                              radiusSegments = 20,\n",
    "                                              heightSegments = 1,\n",
    "                                              openEnded = False),\n",
    "                    material=LambertMaterial(color=color))\n",
    "        cone.position = [0,length-0.1,0]\n",
    "        line.children = [cone]\n",
    "    line.quaternion = np.array(vec.unit().ratio(vsr.Vec(0,1,0)).quat()).tolist()\n",
    "    if position is not None:\n",
    "        line.position = np.array(position)[:3].tolist()\n",
    "    return line\n",
    "\n",
    "def bivector_mesh(biv, position=None, as_plane=False, color='gray'):\n",
    "    \n",
    "    weight = biv.norm()\n",
    "    if as_plane:\n",
    "        geometry = PlaneGeometry(width=weight, height=weight)\n",
    "    else:\n",
    "        geometry = CircleGeometry(radius=weight,\n",
    "                                  segments=64)\n",
    "        \n",
    "    material = LambertMaterial(color=color)\n",
    "    material.transparent = True\n",
    "    material.opacity = 0.75\n",
    "    mesh = Mesh(geometry=geometry,\n",
    "                material=material)\n",
    "    mesh.quaternion = np.array(biv.unit().duale().ratio(vsr.Vec(0,0,1)).quat()).tolist()\n",
    "    if position is not None:\n",
    "        mesh.position = np.array(position)[:3].tolist()\n",
    "    return mesh\n",
    "\n",
    "def trivector_mesh(tri, color='gray'):\n",
    "    geometry = BoxGeometry()\n",
    "    material = LambertMaterial(color=color)\n",
    "    mesh = Mesh(geometry=geometry,\n",
    "                material=material)\n",
    "    mesh.material.wireframe = True\n",
    "    mesh.position = [0.5,0.5,0.5]\n",
    "\n",
    "    return mesh\n",
    "\n",
    "def sphere_mesh(sph, color='violet'):\n",
    "    if type(sph) == vsr.Dls:\n",
    "        sph = sph.undual()\n",
    "    radius = sph.radius()\n",
    "    geometry = SphereGeometry(radius=radius,\n",
    "                            widthSegments=64,\n",
    "                            heightSegments=64) \n",
    "    material = LambertMaterial(color=color)\n",
    "    material.transparent = True\n",
    "    material.opacity = 0.75\n",
    "    mesh = Mesh(geometry=geometry, material=material)\n",
    "    mesh.position=np.array(sph.pnt())[:3].tolist()\n",
    "    return mesh\n",
    "\n",
    "def point_mesh(pnt, color='gray'):\n",
    "    mesh = Mesh(geometry=SphereGeometry(radius=0.05,\n",
    "                                        widthSegments=32,\n",
    "                                        heightSegments=32), \n",
    "              material=LambertMaterial(color=color))\n",
    "    mesh.position = np.array(pnt)[:3].tolist()\n",
    "    return mesh\n",
    "\n",
    "def line_mesh(line, arrow=True, length=100, color='gray'):\n",
    "    v = np.array(line.loc(vsr.Vec(0,0,0).null()))[:3]\n",
    "    d = np.array(line.dir()) * 0.5 * length\n",
    "    linesgeom = PlainGeometry(vertices=[(v + d).tolist(), (v - d).tolist()],\n",
    "                                        colors = [color, color])\n",
    "    mesh = Line(geometry=linesgeom, \n",
    "                material=LineBasicMaterial(linewidth=2, vertexColors='VertexColors'), \n",
    "                type='LinePieces')\n",
    "    if arrow:\n",
    "        cone = Mesh(geometry=CylinderGeometry(radiusTop = 0,\n",
    "                                              radiusBottom = 0.04,\n",
    "                                              height = 0.2,\n",
    "                                              radiusSegments = 20,\n",
    "                                              heightSegments = 1,\n",
    "                                              openEnded = False),\n",
    "                    material=LambertMaterial(color=color))\n",
    "        cone.position = v.tolist()\n",
    "        cone.quaternion = np.array(line.dir().vec().unit().ratio(vsr.Vec(0,1,0)).quat()).tolist()\n",
    "        mesh.children = [cone]\n",
    "    return mesh\n",
    "\n",
    "def plane_mesh(plane, width=10, height=10, color='gray'):\n",
    "    mesh = Mesh(geometry=PlaneGeometry(width=width, height=height),\n",
    "               material=LambertMaterial(color=color,\n",
    "                                        transparent=True,\n",
    "                                        opacity=0.75))\n",
    "    mesh.position = np.array(plane.loc(vsr.Vec(0,0,0).null()))[:3].tolist()\n",
    "    if type(plane) == vsr.Pln:\n",
    "        normal = plane.dual().dir().vec()\n",
    "    else:\n",
    "        normal = plane.dir().vec()\n",
    "    mesh.quaternion = np.array(normal.ratio(vsr.Vec(0,0,1)).quat()).tolist()\n",
    "    return mesh\n",
    "\n",
    "def circle_mesh(circle, color='gray'):\n",
    "    mesh = Mesh(geometry = RingGeometry(innerRadius=cir.radius()-0.01,\n",
    "                                        outerRadius=cir.radius()+0.01,\n",
    "                                        thetaSegments=64), \n",
    "                material= LambertMaterial(color=color),\n",
    "                position=np.array(cir.pnt())[:3].tolist(),\n",
    "                quaternion = cir.rot().quat().tolist()\n",
    "               )\n",
    "    return mesh\n",
    "    \n",
    "def frame_mesh(position=None, quaternion=None, size=1, linewidth=2):\n",
    "    frame = Line(geometry=PlainGeometry(vertices=[[0, 0, 0],[size, 0, 0],\n",
    "                                                  [0, 0, 0],[0, size, 0],\n",
    "                                                  [0, 0, 0],[0, 0, size]],\n",
    "                                        colors = ['red','red', \n",
    "                                                  'green','green', \n",
    "                                                  'blue','blue']), \n",
    "             material=LineBasicMaterial(linewidth=linewidth, vertexColors='VertexColors'), \n",
    "             type='LinePieces')\n",
    "    if position is not None:\n",
    "        frame.position = position\n",
    "    if quaternion is not None:\n",
    "        frame.quaternion = quaternion\n",
    "    return frame"
   ]
  },
  {
   "cell_type": "code",
   "execution_count": null,
   "metadata": {
    "collapsed": false
   },
   "outputs": [],
   "source": []
  },
  {
   "cell_type": "code",
   "execution_count": null,
   "metadata": {
    "collapsed": false
   },
   "outputs": [],
   "source": []
  },
  {
   "cell_type": "code",
   "execution_count": 140,
   "metadata": {
    "collapsed": false
   },
   "outputs": [
    {
     "data": {
      "text/plain": [
       "Dls: [ 0.25 0 1.25 1 0.25 ]"
      ]
     },
     "execution_count": 140,
     "metadata": {},
     "output_type": "execute_result"
    }
   ],
   "source": [
    "a = vsr.Vec(1,0,2).null()\n",
    "b = vsr.Vec(0,1,1).null()\n",
    "c = vsr.Vec(0,-1,1).null()\n",
    "dll1 = vsr.Dll(a,b)\n",
    "dll2 = vsr.Dll(b,c)\n",
    "dll3 = vsr.Dll(c,a)\n",
    "\n",
    "pln = vsr.Pln(a,b,c)\n",
    "cir = vsr.Cir(a,b,c)\n",
    "cir.surround()"
   ]
  },
  {
   "cell_type": "code",
   "execution_count": 145,
   "metadata": {
    "collapsed": false
   },
   "outputs": [],
   "source": [
    "scene = Scene(children=[\n",
    "        frame_mesh(),\n",
    "#         point_mesh(a, color='lawngreen'),\n",
    "#         point_mesh(b, color='skyblue'),\n",
    "#         point_mesh(c),\n",
    "        line_mesh(dll1,color='hotpink',arrow=False),\n",
    "        line_mesh(dll2,color='skyblue'),\n",
    "        line_mesh(dll3,color='skyblue'),\n",
    "#         sphere_mesh(cir.surround()),\n",
    "#         plane_mesh(pln, width=5, height=5),\n",
    "        circle_mesh(cir, color='lightsalmon'),\n",
    "        AmbientLight(color='#cccccc')])\n",
    "camera = PerspectiveCamera(position=[3, -3, 3])\n",
    "renderer = Renderer(camera=camera, \n",
    "                    scene=scene, \n",
    "                    controls=[TrackballControls(controlling=camera)],\n",
    "                    background = 'white')\n",
    "display(renderer)"
   ]
  },
  {
   "cell_type": "code",
   "execution_count": 9,
   "metadata": {
    "collapsed": false
   },
   "outputs": [
    {
     "name": "stdout",
     "output_type": "stream",
     "text": [
      "#ff0000\n"
     ]
    }
   ],
   "source": [
    "def rgb2hex(r, g, b):\n",
    "    return \"#{0:02x}{1:02x}{2:02x}\".format(r, g, b)\n",
    "print(rgb2hex(255,0,0))"
   ]
  },
  {
   "cell_type": "code",
   "execution_count": 10,
   "metadata": {
    "collapsed": false
   },
   "outputs": [
    {
     "data": {
      "text/plain": [
       "'000001'"
      ]
     },
     "execution_count": 10,
     "metadata": {},
     "output_type": "execute_result"
    }
   ],
   "source": [
    "def rgb_to_hex(rgb):\n",
    "    return '%02x%02x%02x' % rgb\n",
    "rgb_to_hex((0,0,1))"
   ]
  },
  {
   "cell_type": "markdown",
   "metadata": {},
   "source": [
    "# Figures"
   ]
  },
  {
   "cell_type": "markdown",
   "metadata": {},
   "source": [
    "## Duality"
   ]
  },
  {
   "cell_type": "code",
   "execution_count": 11,
   "metadata": {
    "collapsed": false
   },
   "outputs": [],
   "source": [
    "B = vsr.Biv(1,0,0)\n",
    "a = B.duale()\n",
    "\n",
    "scene = Scene(children=[\n",
    "        frame_mesh(),\n",
    "        vector_mesh(a,color='blue', arrow=True),\n",
    "        bivector_mesh(B,as_plane=False,color='hotpink'),\n",
    "#         DirectionalLight(color='#ccaabb', position=[1,1,1]),\n",
    "        AmbientLight(color='#cccccc')])\n",
    "camera = PerspectiveCamera(position=[3, -3, 3])\n",
    "renderer = Renderer(camera=camera, \n",
    "                    scene=scene, \n",
    "                    controls=[TrackballControls(controlling=camera)],\n",
    "                    background = 'white')\n",
    "# renderer.width = '1024'\n",
    "# renderer.height = '768'\n",
    "\n",
    "display(renderer)"
   ]
  },
  {
   "cell_type": "markdown",
   "metadata": {},
   "source": [
    "## Projection and Rejection"
   ]
  },
  {
   "cell_type": "code",
   "execution_count": 12,
   "metadata": {
    "collapsed": false
   },
   "outputs": [],
   "source": [
    "a = vsr.Vec(1,1,1)\n",
    "B = vsr.Biv(1,0,0)\n",
    "c = a.project_onto(B)\n",
    "d = a.reject_from(B)\n",
    "\n",
    "scene = Scene(children=[\n",
    "        frame_mesh(),\n",
    "        vector_mesh(a,color='gray', arrow=True),\n",
    "        vector_mesh(c,color='gray'),\n",
    "        vector_mesh(d,position=np.array(c).tolist(),color='gray'),\n",
    "        bivector_mesh(B,color='hotpink'),\n",
    "#         DirectionalLight(color='#ccaabb', position=[1,1,1]),\n",
    "        AmbientLight(color='#cccccc')])\n",
    "camera = PerspectiveCamera(position=[3, -3, 3])\n",
    "renderer = Renderer(camera=camera, \n",
    "                    scene=scene, \n",
    "                    controls=[TrackballControls(controlling=camera)],\n",
    "                    background = 'white')\n",
    "# renderer.width = '1024'\n",
    "# renderer.height = '768'\n",
    "display(renderer)"
   ]
  },
  {
   "cell_type": "markdown",
   "metadata": {},
   "source": [
    "## Reflection"
   ]
  },
  {
   "cell_type": "code",
   "execution_count": 13,
   "metadata": {
    "collapsed": false
   },
   "outputs": [],
   "source": [
    "a = vsr.Vec(1,0,1)\n",
    "B = vsr.Biv(2,0,0)\n",
    "n = B.duale().unit()\n",
    "a_reflected = a.reflect_in_line(n)\n",
    "a_reflected2 = a.reflect_in_plane(n)\n",
    "\n",
    "children = [\n",
    "    frame_mesh(),\n",
    "    vector_mesh(a,color='black', arrow=True),\n",
    "    vector_mesh(a_reflected,color='black', arrow=True),\n",
    "    vector_mesh(a_reflected2,color='black', arrow=True),\n",
    "#     vector_mesh(n,color='black', arrow=True),\n",
    "    bivector_mesh(B, as_plane=True,color='hotpink')]\n",
    "\n",
    "children[-1].material.transparent = True\n",
    "children[-1].material.opacity = 0.75\n",
    "\n",
    "\n",
    "def show(children):\n",
    "    scene = Scene(children= children + [AmbientLight(color='#cccccc')])\n",
    "    camera = PerspectiveCamera(position=[1, -3, 0])\n",
    "    renderer = Renderer(camera=camera, \n",
    "                        scene=scene, \n",
    "                        controls=[TrackballControls(controlling=camera)],\n",
    "                        background = 'white')\n",
    "    return renderer\n",
    "display(show(children))"
   ]
  },
  {
   "cell_type": "markdown",
   "metadata": {},
   "source": [
    "## Rotation"
   ]
  },
  {
   "cell_type": "code",
   "execution_count": 14,
   "metadata": {
    "collapsed": false
   },
   "outputs": [],
   "source": [
    "n1 = vsr.Vec(0,1,0).unit()\n",
    "n2 = n1.spin(vsr.Biv(-np.deg2rad(30) / 2,0,0).exp())\n",
    "B = n1 ^ n2\n",
    "R = n1 * n2\n",
    "a = vsr.Vec(1,0,1).unit()\n",
    "a_rot = a.reflect_in_line(n2).reflect_in_line(n1)\n",
    "\n",
    "B_mesh = bivector_mesh(B,color='gray')\n",
    "B_mesh.material.opacity = 0.9\n",
    "B_mesh.material.transparent = True\n",
    "\n",
    "scene = Scene(children=[\n",
    "#         frame_mesh(),\n",
    "        vector_mesh(n1,color='yellow'),\n",
    "        vector_mesh(n2,color='cyan'),\n",
    "        vector_mesh(a, color='hotpink'),\n",
    "        vector_mesh(a.reflect_in_line(n2)),\n",
    "        vector_mesh(a_rot, color='black'),\n",
    "#         bivector_mesh(n1.unduale(),color='yellow'),\n",
    "#         bivector_mesh(n2.unduale(),color='cyan'),\n",
    "        B_mesh,\n",
    "        AmbientLight(color='#cccccc')])\n",
    "\n",
    "camera = PerspectiveCamera(position=[3, -3, 3])\n",
    "renderer = Renderer(camera=camera, \n",
    "                    scene=scene, \n",
    "                    controls=[TrackballControls(controlling=camera)],\n",
    "                    background = 'white')\n",
    "# renderer.width = '1024'\n",
    "# renderer.height = '768'\n",
    "display(renderer)"
   ]
  },
  {
   "cell_type": "markdown",
   "metadata": {
    "collapsed": false
   },
   "source": [
    "# Conformal Geometric Algebra"
   ]
  },
  {
   "cell_type": "code",
   "execution_count": 15,
   "metadata": {
    "collapsed": false
   },
   "outputs": [],
   "source": [
    "p1 = vsr.Vec(1,0,1).null()\n",
    "p2 = vsr.Vec(2,1,1).null()\n",
    "l = vsr.Dll(p1,p2)\n",
    "l_dir = l.dir().vec().unit()\n",
    "l_loc = l.loc(vsr.Vec(0,0,0).null()).vec()\n",
    "\n",
    "d = l_loc <= l_dir.unduale()\n",
    "\n",
    "scene = Scene(children=[\n",
    "        frame_mesh(),\n",
    "        point_mesh(p1,color='#ff00ff'),\n",
    "        vector_mesh(p1.vec(),color='#ff00ff'),\n",
    "#         make_text('p1', position=(np.array(p1)[:3] + np.array([0,0,0.5]) ).tolist(), height=0.5),\n",
    "        point_mesh(p2,color='#00ffff'),\n",
    "        vector_mesh(l_dir,position=p1,color='#ffff00', arrow=True),\n",
    "        bivector_mesh(l_dir.unduale(), position=p1, color='#ffff00'),\n",
    "        vector_mesh(d,position=p1,color='gray'),\n",
    "\n",
    "\n",
    "        line_mesh(l, length=100),\n",
    "        \n",
    "        AmbientLight(color='#cccccc')])\n",
    "\n",
    "camera = PerspectiveCamera(position=[3, -3, 3])\n",
    "renderer = Renderer(camera=camera, \n",
    "                    scene=scene, \n",
    "                    controls=[TrackballControls(controlling=camera)],\n",
    "                    background = 'white')\n",
    "# renderer.width = '1024'\n",
    "# renderer.height = '768'\n",
    "display(renderer)"
   ]
  },
  {
   "cell_type": "markdown",
   "metadata": {},
   "source": [
    "### Lines"
   ]
  },
  {
   "cell_type": "code",
   "execution_count": 39,
   "metadata": {
    "collapsed": false
   },
   "outputs": [
    {
     "name": "stdout",
     "output_type": "stream",
     "text": [
      "Dll: [ 0.7071 0 0 0 -0.7071 0.7071 ]\n",
      "Vec: [ 0 0 1 ]\n"
     ]
    }
   ],
   "source": [
    "p1 = vsr.Vec(1,0,1).null()\n",
    "p2 = vsr.Vec(2,1,1).null()\n",
    "l1 = vsr.Dll(vsr.Vec(0,0,0), vsr.Vec(1,0,0)).unit()\n",
    "l = vsr.Dll(p1,p2).unit()\n",
    "l_dir = l.dir().vec().unit()\n",
    "l_loc = l.loc(vsr.Vec(0,0,0).null()).vec()\n",
    "\n",
    "l2 = l - l1\n",
    "l3 = l.comm(l1)\n",
    "print(l3)\n",
    "\n",
    "m1 = l1.ratio(l,0.1)\n",
    "# print(l)\n",
    "# print(l1.spin(m1))\n",
    "# ms = [m1]\n",
    "# for i in range(9):\n",
    "#     m1 = m1 * m1\n",
    "#     ms.append(m1)\n",
    "    \n",
    "# print(ms)\n",
    "    \n",
    "\n",
    "# line_meshes = [line_mesh(l) for ] \n",
    "\n",
    "m = ((l * l1.inv()).log() * 0.5 ).exp()\n",
    "w = m.trs().reject_from(m.rot().log().unit())\n",
    "v = m.trs().project_onto(m.rot().log().unit())\n",
    "print(w)\n",
    "\n",
    "d = l_loc <= l_dir.unduale()\n",
    "\n",
    "scene = Scene(children=[\n",
    "        frame_mesh(),\n",
    "        line_mesh(l1.spin(m1)),\n",
    "        line_mesh(l1.spin(m1 * m1)),\n",
    "        line_mesh(l1.spin(m1 * m1 * m1)),\n",
    "        line_mesh(l1.spin(m1 * m1 * m1 * m1)),\n",
    "        line_mesh(l1.spin(m1 * m1 * m1 * m1 * m1)),\n",
    "        line_mesh(l1.spin(m1 * m1 * m1 * m1 * m1)),\n",
    "        line_mesh(l1.spin(m1 * m1 * m1 * m1 * m1 * m1 )),\n",
    "        line_mesh(l1.spin(m1 * m1 * m1 * m1 * m1 * m1 * m1)),\n",
    "        line_mesh(l1.spin(m1 * m1 * m1 * m1 * m1 * m1 * m1 * m1)),\n",
    "        line_mesh(l1.spin(m1 * m1 * m1 * m1 * m1 * m1 * m1 * m1 * m1)),\n",
    "        line_mesh(l1.spin(m1 * m1 * m1 * m1 * m1 * m1 * m1 * m1 * m1 * m1)),\n",
    "        \n",
    "\n",
    "        line_mesh(l1, color='#ffff00', length=100),\n",
    "        point_mesh(l_loc, color=rgb2hex(255,56,0)),\n",
    "        point_mesh(vsr.Vec(0,0,0),color='#ffff00'),\n",
    "        point_mesh(p1,color='#ff00ff'),\n",
    "        vector_mesh(w, position=v),\n",
    "        vector_mesh(v),\n",
    "        \n",
    "        line_mesh(l2, color='hotpink', length=100),\n",
    "        line_mesh(l3, color=rgb2hex(255,155,0), length=100),\n",
    "\n",
    "\n",
    "        vector_mesh(p1.vec(),color='#ff00ff'),\n",
    "        vector_mesh(l_dir,position=p1,color='#ff00ff', arrow=True),\n",
    "\n",
    "\n",
    "        line_mesh(l,color='#ff00ff', length=100),\n",
    "        \n",
    "        AmbientLight(color='#cccccc')])\n",
    "\n",
    "camera = PerspectiveCamera(position=[3, -3, 3])\n",
    "renderer = Renderer(camera=camera, \n",
    "                    scene=scene, \n",
    "                    controls=[TrackballControls(controlling=camera)],\n",
    "                    background = 'white')\n",
    "# renderer.width = '1024'\n",
    "# renderer.height = '768'\n",
    "display(renderer)"
   ]
  },
  {
   "cell_type": "code",
   "execution_count": 40,
   "metadata": {
    "collapsed": false
   },
   "outputs": [
    {
     "name": "stdout",
     "output_type": "stream",
     "text": [
      "Mot: [ 0.92 -0.38 0 0 -5.2e-18 0.38 -0.46 0.19 ]\n"
     ]
    }
   ],
   "source": [
    "print(m1 * m1 * m1 * m1 * m1 * m1 * m1 * m1 * m1 * m1)"
   ]
  },
  {
   "cell_type": "code",
   "execution_count": 59,
   "metadata": {
    "collapsed": false
   },
   "outputs": [],
   "source": [
    "l1 = vsr.Dll(vsr.Vec(0,0,0), vsr.Vec(1,0,0)).unit()\n",
    "l2 = vsr.Dll(vsr.Vec(0,-1,1), vsr.Vec(1,-1,1)).unit()\n",
    "pao = vsr.Vec(0,0,0).null()\n",
    "\n",
    "l3 = l2 - l1\n",
    "l4 = l2.comm(l1)\n",
    "\n",
    "scene = Scene(children=[\n",
    "        frame_mesh(),\n",
    "        line_mesh(l1, color='#ffff00'),\n",
    "        point_mesh(pao),\n",
    "        vector_mesh(pao.vec()),\n",
    "        \n",
    "        line_mesh(l2, color='#ffff00'),\n",
    "        \n",
    "        line_mesh(l3, color='powderblue'), \n",
    "        line_mesh(l4, color='deeppink'),\n",
    "\n",
    "        vector_mesh(l_dir, position=l_loc, color=rgb2hex(255,0,123), arrow=True),\n",
    "        bivector_mesh((l_loc ^ l_dir), color = 'salmon'),\n",
    "\n",
    "        \n",
    "        AmbientLight(color='#cccccc')])\n",
    "\n",
    "camera = PerspectiveCamera(position=[3, -3, 3])\n",
    "renderer = Renderer(camera=camera, \n",
    "                    scene=scene, \n",
    "                    controls=[TrackballControls(controlling=camera)],\n",
    "                    background = 'gray')\n",
    "# renderer.width = '1024'\n",
    "# renderer.height = '768'\n",
    "display(renderer)"
   ]
  },
  {
   "cell_type": "code",
   "execution_count": 64,
   "metadata": {
    "collapsed": false
   },
   "outputs": [
    {
     "name": "stdout",
     "output_type": "stream",
     "text": [
      "Dll: [ 0 0 1 0 0 0 ]\n",
      "Dll: [ 0.5774 0.5774 0.5774 0 0.5774 0.5774 ]\n",
      "Dll: [ 0.5774 0.5774 -0.4226 0 0.5774 0.5774 ]\n",
      "Dll: [ -0.5774 0.5774 0 0 -0.5774 0.5774 ]\n"
     ]
    }
   ],
   "source": [
    "print(l1)\n",
    "print(l2)\n",
    "print(l3)\n",
    "print(l4)"
   ]
  },
  {
   "cell_type": "code",
   "execution_count": 18,
   "metadata": {
    "collapsed": false
   },
   "outputs": [
    {
     "name": "stdout",
     "output_type": "stream",
     "text": [
      "Mot: [ 0.87 0 -0.5 0 -0.68 -0.43 -0.18 -0.25 ]\n",
      "Vec: [ 1 1 1 ]\n",
      "Rot: [ 0.87 0 -0.5 0 ]\n"
     ]
    }
   ],
   "source": [
    "motor = vsr.Vec(1,1,1).trs() * vsr.Rot(vsr.Biv(0,1,0) * np.pi/6.0)\n",
    "print(motor)\n",
    "print(motor.trs())\n",
    "print(motor.rot())"
   ]
  },
  {
   "cell_type": "code",
   "execution_count": 19,
   "metadata": {
    "collapsed": false
   },
   "outputs": [],
   "source": [
    "make_text?"
   ]
  },
  {
   "cell_type": "code",
   "execution_count": 20,
   "metadata": {
    "collapsed": false
   },
   "outputs": [],
   "source": [
    "@interact(x=10,y=10,z=10)\n",
    "def position_camera(x,y,z):\n",
    "    camera.position = [x,y,z]"
   ]
  },
  {
   "cell_type": "code",
   "execution_count": 21,
   "metadata": {
    "collapsed": false
   },
   "outputs": [],
   "source": [
    "class Sphere(object):\n",
    "    def __init__(self):\n",
    "        pass\n",
    "    def update(vsr_sph):\n",
    "        r, p, q = vsr_sph.rpo()\n",
    "        \n",
    "def make_sphere():\n",
    "    return Mesh(geometry = SphereGeometry(),\n",
    "                material= BasicMaterial(color='red'))\n",
    "\n",
    "def make_circle():\n",
    "    return Mesh(geometry = RingGeometry(thetaSegments=64), \n",
    "              material= BasicMaterial(color='black'))\n",
    "\n",
    "class Game(object):\n",
    "    class Circle(vsr.Cir, Mesh):\n",
    "        def __init__(self):\n",
    "            self._color = 'black'\n",
    "            super(Mesh, self).__init__(geometry = RingGeometry(thetaSegments=64), \n",
    "                          material= BasicMaterial(color=self._color))\n",
    "            \n",
    "        @property\n",
    "        def mesh(self):\n",
    "            return self._mesh\n",
    "        \n",
    "        def update_mesh(self):\n",
    "            (r, p, q) = self.rpo()\n",
    "            self.geometry.innerRadius = r\n",
    "            self.geometry.outerRadius = r + 0.1\n",
    "            self.position = p\n",
    "            self.quaternion = q\n",
    "        "
   ]
  },
  {
   "cell_type": "markdown",
   "metadata": {},
   "source": [
    "## Rotation"
   ]
  },
  {
   "cell_type": "code",
   "execution_count": 22,
   "metadata": {
    "collapsed": false
   },
   "outputs": [
    {
     "ename": "AttributeError",
     "evalue": "'Vec' object has no attribute 'reflect'",
     "output_type": "error",
     "traceback": [
      "\u001b[1;31m---------------------------------------------------------------------------\u001b[0m",
      "\u001b[1;31mAttributeError\u001b[0m                            Traceback (most recent call last)",
      "\u001b[1;32m<ipython-input-22-e7c73f6cac12>\u001b[0m in \u001b[0;36m<module>\u001b[1;34m()\u001b[0m\n\u001b[0;32m      9\u001b[0m \u001b[1;33m\u001b[0m\u001b[0m\n\u001b[0;32m     10\u001b[0m \u001b[0ma\u001b[0m \u001b[1;33m=\u001b[0m \u001b[0mvsr\u001b[0m\u001b[1;33m.\u001b[0m\u001b[0mVec\u001b[0m\u001b[1;33m(\u001b[0m\u001b[1;36m1\u001b[0m\u001b[1;33m,\u001b[0m\u001b[1;36m0\u001b[0m\u001b[1;33m,\u001b[0m\u001b[1;36m1\u001b[0m\u001b[1;33m)\u001b[0m\u001b[1;33m\u001b[0m\u001b[0m\n\u001b[1;32m---> 11\u001b[1;33m \u001b[0ma_rot\u001b[0m \u001b[1;33m=\u001b[0m \u001b[0ma\u001b[0m\u001b[1;33m.\u001b[0m\u001b[0mreflect\u001b[0m\u001b[1;33m(\u001b[0m\u001b[0mn2\u001b[0m\u001b[1;33m)\u001b[0m\u001b[1;33m.\u001b[0m\u001b[0mreflect\u001b[0m\u001b[1;33m(\u001b[0m\u001b[0mn1\u001b[0m\u001b[1;33m)\u001b[0m\u001b[1;33m\u001b[0m\u001b[0m\n\u001b[0m\u001b[0;32m     12\u001b[0m \u001b[1;32mprint\u001b[0m\u001b[1;33m(\u001b[0m\u001b[0ma_rot\u001b[0m\u001b[1;33m)\u001b[0m\u001b[1;33m\u001b[0m\u001b[0m\n\u001b[0;32m     13\u001b[0m \u001b[1;32mprint\u001b[0m\u001b[1;33m(\u001b[0m\u001b[0ma\u001b[0m\u001b[1;33m.\u001b[0m\u001b[0mspin\u001b[0m\u001b[1;33m(\u001b[0m\u001b[0mR\u001b[0m\u001b[1;33m)\u001b[0m\u001b[1;33m)\u001b[0m\u001b[1;33m\u001b[0m\u001b[0m\n",
      "\u001b[1;31mAttributeError\u001b[0m: 'Vec' object has no attribute 'reflect'"
     ]
    }
   ],
   "source": [
    "\n",
    "n1 = vsr.Vec(0,1,0).unit()\n",
    "# n2 = vsr.Vec(-1,1,0).unit()\n",
    "n2 = n1.spin(vsr.Biv(-np.deg2rad(30),0,0).exp())\n",
    "\n",
    "B = n1 ^ n2\n",
    "\n",
    "R = n1 * n2\n",
    "\n",
    "a = vsr.Vec(1,0,1)\n",
    "a_rot = a.reflect(n2).reflect(n1)\n",
    "print(a_rot)\n",
    "print(a.spin(R))\n",
    "\n",
    "\n",
    "scene = Scene(children=[\n",
    "        frame_mesh(),\n",
    "        vector_mesh(n1,color='yellow'),\n",
    "        vector_mesh(n2,color='cyan'),\n",
    "        vector_mesh(a, color='hotpink'),\n",
    "        vector_mesh(a.reflect(n2)),\n",
    "        vector_mesh(a_rot, color='black'),\n",
    "#         bivector_mesh(n1.unduale(),color='yellow'),\n",
    "#         bivector_mesh(n2.unduale(),color='cyan'),\n",
    "        bivector_mesh(B,color='gray'),\n",
    "        AmbientLight(color='#cccccc')])\n",
    "\n",
    "camera = PerspectiveCamera(position=[3, -3, 3])\n",
    "renderer = Renderer(camera=camera, \n",
    "                    scene=scene, \n",
    "                    controls=[TrackballControls(controlling=camera)],\n",
    "                    background = 'white')\n",
    "# renderer.width = '1024'\n",
    "# renderer.height = '768'\n",
    "display(renderer)"
   ]
  },
  {
   "cell_type": "code",
   "execution_count": null,
   "metadata": {
    "collapsed": false
   },
   "outputs": [],
   "source": [
    "vsr.Vec(1,0,0).spin(R)"
   ]
  },
  {
   "cell_type": "code",
   "execution_count": null,
   "metadata": {
    "collapsed": false
   },
   "outputs": [],
   "source": [
    "2 * np.rad2deg(np.arccos(R[0]))"
   ]
  },
  {
   "cell_type": "code",
   "execution_count": null,
   "metadata": {
    "collapsed": false
   },
   "outputs": [],
   "source": [
    "sph1 = vsr.Sph(vsr.Vec(0.7,0,0).null(), 1.5)\n",
    "sph2 = vsr.Sph(vsr.Vec(-0.5,0,0).null(), 1.)\n",
    "cir = sph1.meet(sph2)\n",
    "r = cir.rot()\n",
    "\n",
    "sphere1 = Mesh(geometry = SphereGeometry(radius=sph1.radius(),\n",
    "                                        widthSegments=64,\n",
    "                                        heightSegments=64), \n",
    "              material= BasicMaterial(color='red'),\n",
    "              position=np.array(sph1.pnt())[:3].tolist())\n",
    "\n",
    "sphere2 = Mesh(geometry = SphereGeometry(radius=sph2.radius(),\n",
    "                                        widthSegments=64,\n",
    "                                        heightSegments=64), \n",
    "              material= BasicMaterial(color='blue', wireframe=False),\n",
    "              position=np.array(sph2.pnt())[:3].tolist())\n",
    "\n",
    "circle = Mesh(geometry = RingGeometry(innerRadius=cir.radius(),\n",
    "                                                outerRadius=cir.radius()+0.05,\n",
    "                                                thetaSegments=64), \n",
    "              material= BasicMaterial(color='black'),\n",
    "              position=np.array(cir.pnt())[:3].tolist(),\n",
    "              quaternion = cir.rot().quat().tolist())\n",
    "\n",
    "\n",
    "\n",
    "scene = Scene(children=[sphere1, sphere2, circle])\n",
    "c = PerspectiveCamera(position=[10, 5, 10])\n",
    "renderer = Renderer(camera=c, scene = scene, controls=[TrackballControls(controlling=c)],\n",
    "                    background = 'white')\n",
    "display(renderer)\n",
    "@interact(circlecolor=('hotpink', 'gray', 'black'),\n",
    "         sphere1color=('hotpink', 'gray', 'black'),\n",
    "         sphere2color=('hotpink', 'gray', 'black'))\n",
    "def set_radius(circlecolor, sphere1color, sphere2color):\n",
    "    sphere1.material.color = sphere1color\n",
    "    sphere2.material.color = sphere2color\n",
    "    circle.material.color = circlecolor"
   ]
  },
  {
   "cell_type": "code",
   "execution_count": null,
   "metadata": {
    "collapsed": false
   },
   "outputs": [],
   "source": [
    "%%javascript\n",
    "console.log('hallo')\n",
    "Jupyter.notebook.get_selected_cell()"
   ]
  },
  {
   "cell_type": "code",
   "execution_count": null,
   "metadata": {
    "collapsed": false
   },
   "outputs": [],
   "source": [
    "cir = vsr.Sph(vsr.Vec(0,0,0).null(), 3).meet(vsr.Sph(vsr.Vec(1,0,0).null(), 3))\n",
    "print(cir.rpo())\n",
    "radius, position, quat = cir.rpo()"
   ]
  },
  {
   "cell_type": "code",
   "execution_count": null,
   "metadata": {
    "collapsed": true
   },
   "outputs": [],
   "source": []
  },
  {
   "cell_type": "code",
   "execution_count": null,
   "metadata": {
    "collapsed": true
   },
   "outputs": [],
   "source": []
  }
 ],
 "metadata": {
  "kernelspec": {
   "display_name": "Python 2",
   "language": "python",
   "name": "python2"
  },
  "language_info": {
   "codemirror_mode": {
    "name": "ipython",
    "version": 2
   },
   "file_extension": ".py",
   "mimetype": "text/x-python",
   "name": "python",
   "nbconvert_exporter": "python",
   "pygments_lexer": "ipython2",
   "version": "2.7.11+"
  },
  "widgets": {
   "state": {
    "000dd031aafa42879c0b6cf042af64ae": {
     "views": []
    },
    "003052953a1440db81cbb0adab57c2e1": {
     "views": []
    },
    "00372cd76da6458fb5c0fb54fce8ecde": {
     "views": []
    },
    "005548d07d97466d8c98834262d6907f": {
     "views": []
    },
    "0076d217a2b24313bb845136413d0745": {
     "views": []
    },
    "00a03441bd584be2af29d0c6dd37ac29": {
     "views": []
    },
    "00d136711b22422496ba9b64d48da34d": {
     "views": []
    },
    "00e7f24159f344d7ad22447b3b27e3b7": {
     "views": []
    },
    "01182725a7164f74ab01081018825350": {
     "views": []
    },
    "01670d028f21424084c5577cbb2c28ff": {
     "views": []
    },
    "018189c1c9834ebfb2c3ea03d2e2650b": {
     "views": []
    },
    "0198b427757e41648cdbac24e1e7af28": {
     "views": []
    },
    "019fae72a9124dde8244b5c6bc575d2a": {
     "views": []
    },
    "01b82ec02133409194e2f564a65bfd08": {
     "views": []
    },
    "01c59f137ff04b3f9dce6c83aa51e472": {
     "views": []
    },
    "01f0c71c365f437683c9269a09d6fdbe": {
     "views": []
    },
    "0239830227444fb3bf148fb599bbf4c9": {
     "views": []
    },
    "026ca066c78247a4bf94a50b6246a38f": {
     "views": []
    },
    "02777e4db19343e7be999fb1c48d5d86": {
     "views": []
    },
    "028a2b1be3a84cddae99461691fb1fb2": {
     "views": []
    },
    "029755ca98df4e3fb5ebad83215184ea": {
     "views": []
    },
    "02e7c9c87410489c8942c86fbb7e1049": {
     "views": []
    },
    "031a20c858fa471f8801ef375fdba88a": {
     "views": []
    },
    "034a1112e8154cfd90e32e550cb8632e": {
     "views": []
    },
    "036163f907e8490ea54fc127ecdd3f74": {
     "views": []
    },
    "0374635c89124abbb51ce9cd2dc48edc": {
     "views": []
    },
    "03a0633edf9042d099caa86e3df3c5f6": {
     "views": []
    },
    "03fbb343691e4a7abfc367347feec392": {
     "views": []
    },
    "0414e5fe8484463a8a1a82ab84d3dc7e": {
     "views": []
    },
    "042cee62d587467da2a16b33114a15c8": {
     "views": []
    },
    "044fd486fd6c41b880a9482f5b001f63": {
     "views": []
    },
    "045e1c305cea49439f2281a33e3aa75f": {
     "views": []
    },
    "0479efadfc754d7c92b934bd09405e6b": {
     "views": []
    },
    "04b34269035a49c79e8a922f3915d3c5": {
     "views": []
    },
    "04ba68564ac74bcea535f9992e9996b6": {
     "views": []
    },
    "04bcba4c08dd43c9a84b77c30b1692a0": {
     "views": []
    },
    "04d33007d9a54d59b738db7bd4ef5e38": {
     "views": []
    },
    "0500989a3d154cd084d51980d8e3dda6": {
     "views": []
    },
    "05092fb6ce60421c8a366e51b8993d50": {
     "views": []
    },
    "0523b086bc374f87bc006340076775aa": {
     "views": []
    },
    "052ee2f4f4624f36a54f2925323a50e2": {
     "views": []
    },
    "05449939443541bfae019de594360b23": {
     "views": []
    },
    "054bff45efc94442a3315c6ca5f2469b": {
     "views": []
    },
    "05adc9f174b84f5e903fa4abacc7b795": {
     "views": []
    },
    "05dfe54d231c4cd3940b2584d7a56c99": {
     "views": []
    },
    "05e40979c5834ee695ea4806b5f54040": {
     "views": []
    },
    "062830c621e3497e900dcb5670531975": {
     "views": []
    },
    "06564258bbde45d5a067798a83aee492": {
     "views": []
    },
    "065b275ed24442f59150fae19e433523": {
     "views": []
    },
    "06e204a08027453bbefb4820427acd1f": {
     "views": []
    },
    "06f356a983b242b185cef97ff73cb129": {
     "views": []
    },
    "0742a2b27e8548df88fba4484184a26d": {
     "views": []
    },
    "0748cf33edb743619230954299dd40cc": {
     "views": []
    },
    "0771ac670062495f97d136210e9279f2": {
     "views": []
    },
    "078e6ba25e784c1ebf1a64b5b32e21d3": {
     "views": []
    },
    "0792e8bf93e84d498da9962e1e974b4c": {
     "views": []
    },
    "07b227a86553448eba978c3c007664cf": {
     "views": []
    },
    "07b3905d1f2a48bd9e916f1cb69f10e4": {
     "views": []
    },
    "07eb70ace16d4d6c8f6eafb9c201d552": {
     "views": []
    },
    "080fd606e59c469c87b6d28f5d0fac54": {
     "views": []
    },
    "08171884a4b3427a85a72dd4269fffca": {
     "views": []
    },
    "0835f495c5fc47ac84bbb02f718db942": {
     "views": []
    },
    "08893c1827b5435e86ca83404cef2019": {
     "views": []
    },
    "08a0c5d237ce483aa6988d288eba06ad": {
     "views": []
    },
    "08b5c347b71f4fed868dd7a8cd09d70b": {
     "views": []
    },
    "08c7abcad18d4cabbd05bcb01cfcb5ee": {
     "views": []
    },
    "08d0ef2fe8024f8581601eccb6420ae7": {
     "views": []
    },
    "08e9f2fe490b4b8a93bbd62c9298c978": {
     "views": []
    },
    "09260da6863141319574eedae6779e17": {
     "views": []
    },
    "0934074087a24928bf99dd8e964f67e3": {
     "views": []
    },
    "09494f23adb94b92b2a1ac06a082aecd": {
     "views": []
    },
    "0962ac3daa55479bb081ff7f38a271a0": {
     "views": []
    },
    "096c384de7a243d6b98701087f0884b3": {
     "views": []
    },
    "098feb9d2c414ec18dcb7d3133c7d7c1": {
     "views": [
      {
       "cell_index": 27
      }
     ]
    },
    "09a237bada7f4cd5b8dedd560a033fab": {
     "views": []
    },
    "09a5cf56652b4ed4a3024128445192a6": {
     "views": []
    },
    "09ad76f80bfe4a22b94aef8811be0a39": {
     "views": []
    },
    "09b16e985b6043a58d1d579455285c85": {
     "views": []
    },
    "0a3698bfb3c44d78bd595521803d2c0c": {
     "views": []
    },
    "0a3f08ee5a2447369eebb52f752245f1": {
     "views": []
    },
    "0a49954aa3344234a2ccc52e33a55ded": {
     "views": []
    },
    "0a4f7500e6004422a9a2cf6339d8b9fa": {
     "views": []
    },
    "0a728e9d58fe45dda481f69707ea004d": {
     "views": []
    },
    "0a7d73f1956149fda4eb2665dee9fef0": {
     "views": []
    },
    "0a7f8676e30c48448ca80712ded2a487": {
     "views": []
    },
    "0a9a7b960d144e0f98f7926aa4989645": {
     "views": []
    },
    "0ab6ba27ecd546ae89c004ae2e77770e": {
     "views": []
    },
    "0ab79faff1724a6a8a9b04329b99ecc3": {
     "views": []
    },
    "0ac14a08b9cd4deda4f13ba5f3ad2c6f": {
     "views": []
    },
    "0af500893a954424b3f5cba4a704c6fc": {
     "views": []
    },
    "0b14d89d4a1645d4b4dd0eb00e081a5e": {
     "views": []
    },
    "0b72baf488cc4f82a06b8180fd5e3ef5": {
     "views": []
    },
    "0b885fea49484594ad15163ddbcd1570": {
     "views": []
    },
    "0bca586cd64042159c5023c93a9e9533": {
     "views": []
    },
    "0c08c252083f480682f8f30156d90739": {
     "views": []
    },
    "0c0a4347b21c442c81cbed686cc36f8d": {
     "views": []
    },
    "0c697e1d0f5343b7b39e9ce0f67f6bf1": {
     "views": []
    },
    "0c6fb083877b49f9b4c669e9997a47a6": {
     "views": []
    },
    "0c89d2da976347c58dfcada15a300550": {
     "views": []
    },
    "0c9519b231c94ffdb1e9396940c4c798": {
     "views": []
    },
    "0cafd1fbc0ce4c6bba40ae88446c3991": {
     "views": []
    },
    "0cc39697ffa6483e967431f690f55710": {
     "views": []
    },
    "0cc8ab70035549e4893119845af82b21": {
     "views": []
    },
    "0cd69909aaf64bddade5a6fb7cdc4ec1": {
     "views": []
    },
    "0d02bb461bdc4c06925934116e1a4b21": {
     "views": []
    },
    "0d238e4826df4a1bab1befc438f89a33": {
     "views": []
    },
    "0d2acab6ff9f4dc287ff8ad5ff837cef": {
     "views": []
    },
    "0d5690c27b77488b83727802472cafb3": {
     "views": []
    },
    "0d5c4405de17437a8e7595185a2a00b3": {
     "views": []
    },
    "0dd848dc8e0b4320a1a2948d466fec6c": {
     "views": []
    },
    "0dd9fb64e6314c28b8d8a181c467c7d7": {
     "views": []
    },
    "0de76c0b65114fc6bf9aa421ac8b6d60": {
     "views": []
    },
    "0df5960da7cc4f1cbd8887a1b80865f0": {
     "views": []
    },
    "0e170de911984d88a221bb9277b9b16e": {
     "views": []
    },
    "0e1b81de1d9244de924d641a88444850": {
     "views": []
    },
    "0e27b5a3ba0f4253b5109ff0b9c433e0": {
     "views": []
    },
    "0e456bdcffac40f2a5f257c826c93eb5": {
     "views": []
    },
    "0efa29c154394a18a254f810868312b0": {
     "views": []
    },
    "0f191a0c224b41af9c92aef733d46306": {
     "views": []
    },
    "0f5172ebfe7246fe8c2dae2fabb2a5db": {
     "views": []
    },
    "0f5c0b550abb45ffa714cd91cc48f8b4": {
     "views": []
    },
    "0f5d53e09b314ddab6c2e90fd87700c1": {
     "views": []
    },
    "0f8f0715ad5c4281bfadebf32a74cc0a": {
     "views": []
    },
    "0fa4b21887c246b8893a17692855519d": {
     "views": []
    },
    "1067c3632f124590ac17da86526f6cb4": {
     "views": []
    },
    "108080d037bd4f4db79ac64ab3bd3f51": {
     "views": []
    },
    "10d9e27733e240ec99c1fa5bd11cf651": {
     "views": []
    },
    "110ef684643e4322986d66838eb1a7e3": {
     "views": []
    },
    "111764e9c1b64e9989847b503932c522": {
     "views": []
    },
    "111c70d6647a45a88d73cf2efa96d4a5": {
     "views": []
    },
    "11383e9d5fbb41dd9f441e3e1e356313": {
     "views": []
    },
    "1145f5f0f11e41b1879fcde730080a35": {
     "views": []
    },
    "119edfc091ff4bae93d0633fd523ca58": {
     "views": []
    },
    "11c007ac939040f7ac776615b0cec85f": {
     "views": []
    },
    "11c04ea16518487eadebb088d55dd9c0": {
     "views": []
    },
    "11de70e6eea74e4f87a89f59742edae6": {
     "views": []
    },
    "11e3e693b7724b59a48fa41f090893a0": {
     "views": []
    },
    "11fff6e1b74a42caa1a242bba7dc28d2": {
     "views": []
    },
    "120d251ced62410599eacdc3f8efc2f6": {
     "views": []
    },
    "120e38e7bb9a401388135e595f981351": {
     "views": []
    },
    "1264ad2dfcae44519f0a7903c19a45c6": {
     "views": []
    },
    "12815607857d483c88d6f43406974d4a": {
     "views": []
    },
    "12afced7d41b4c65b946f6023fb17d92": {
     "views": []
    },
    "12cff30787b541039861cf51e6fc6571": {
     "views": []
    },
    "12f624c9226a4f81a3d2f5d9595c07d9": {
     "views": []
    },
    "1310c254dca749e3a902d847ed7d3e46": {
     "views": []
    },
    "131ad674078444f9bff7b89a2a6e43fd": {
     "views": []
    },
    "13204a7cd1c545d682d01ec207e0d181": {
     "views": []
    },
    "136d09693cf946849c61dcf5781ac14e": {
     "views": []
    },
    "1381aa167b1d49538622093524cfb7ca": {
     "views": []
    },
    "139c4350c2984035bd97c887547218f6": {
     "views": []
    },
    "13a10230f7ee42c5983e56bcb71a88fd": {
     "views": []
    },
    "13b9890c100240a5a628579cbe7cd6b8": {
     "views": []
    },
    "13c599112f4349d29b9e7d9ac8155ea6": {
     "views": []
    },
    "13c7be07ef4c4dfe9cf56c3f6aebe60e": {
     "views": []
    },
    "13d2267f0c004ebbad82ff728571409e": {
     "views": []
    },
    "13eb8d3c28dd40a49559ea61fa988e94": {
     "views": []
    },
    "13f9b5d511f4490580846a7554e20a2f": {
     "views": []
    },
    "1435e48dfb3a4f3fb19dbea7a4765adf": {
     "views": []
    },
    "1436fbe6defc450388429e252fdc4825": {
     "views": []
    },
    "143c018b77a644539508f531eb5cb36d": {
     "views": []
    },
    "14425b6037d241338771c0f93ad6e72d": {
     "views": []
    },
    "1446931aa8284a32899767d7190f5618": {
     "views": []
    },
    "1464f3df109740da8970633d4b8a1262": {
     "views": []
    },
    "14b26fdcd021468c9214a591172190cb": {
     "views": []
    },
    "14b7e7d18f524bc486a4c98680ad365a": {
     "views": []
    },
    "14c5ba74a71247f8b0510abaf1e9db15": {
     "views": []
    },
    "14c6908d77f9419399ac2be1df663ec6": {
     "views": []
    },
    "14ee56dfbd614ffc9bdc48fb8ec64d90": {
     "views": []
    },
    "15001d76edb64ab78292bf5352a2f420": {
     "views": []
    },
    "150e2526102049d184b1509ef20b8b96": {
     "views": []
    },
    "151b6009d5b743b29b40c9a6da229606": {
     "views": []
    },
    "152ca4c0c621453ca2cbac0b14cd8979": {
     "views": []
    },
    "1550537515ca4a20bf2b9c7899d2de31": {
     "views": []
    },
    "1587901e336c4a9caafbd34abe7eb4ca": {
     "views": []
    },
    "1589911822e44b9d872db7f7622aac16": {
     "views": []
    },
    "158f3788fe694ce8b324e70de460c4a8": {
     "views": []
    },
    "15cd8f54d2bd4c0780c213e62e919e49": {
     "views": []
    },
    "15f50fad621949ba94cb1aa233bc24cd": {
     "views": []
    },
    "16033b842bc442308e719ef1072a4752": {
     "views": []
    },
    "1609b15914f54b488902811d284a2c09": {
     "views": []
    },
    "160a3e9bd30941edb8e0dd41cb51d6f6": {
     "views": []
    },
    "1620e2338bbd4dcd957a0f248f16f5f3": {
     "views": []
    },
    "16250ab4e9264498b7837c066a12f03b": {
     "views": []
    },
    "1626e2c8381947118feb7a0ed7babdcd": {
     "views": []
    },
    "162961e49826486886efa12e42192c92": {
     "views": []
    },
    "167f62024de14e2193cecc7d72f4e154": {
     "views": []
    },
    "16e3d10cf2c945ea9a88ca3b70dfe26c": {
     "views": []
    },
    "17065ac91b31460ca137c5e4c6ac447f": {
     "views": []
    },
    "1734b5f6bbf245a29bed024eb1d17fa0": {
     "views": []
    },
    "173cd79e6241494799bcdc1cdeb33238": {
     "views": []
    },
    "175de7b4932b4c11b8d44b9dd8eb0e46": {
     "views": []
    },
    "178edc6ba8534d05a7efa75d17d8a284": {
     "views": []
    },
    "17e599e474ab4c928b20767d717b0ae5": {
     "views": []
    },
    "183b6cbe8daa4eddbf20bc3f2038d365": {
     "views": []
    },
    "184ecd04c2af4141b0263bb126559800": {
     "views": []
    },
    "18b40ca0f925400d922aa8c182968602": {
     "views": []
    },
    "18d86b69f57944ec9e030a0f43cff3a7": {
     "views": []
    },
    "190ff0bb5ebd4a6e952fc55fbebc1078": {
     "views": []
    },
    "197bf7a70d31489dbe04ad3bae4bcfbd": {
     "views": []
    },
    "19960fb0cc484399a564c5a2b6258795": {
     "views": []
    },
    "19c0f1b99f0349efbf0d9272d4e16c73": {
     "views": []
    },
    "19c681a01a824b589dc810b7be1bdf05": {
     "views": []
    },
    "19d169b8c345497391110c0636134b99": {
     "views": []
    },
    "19e7ed68af36430a885b2cd9da81afc1": {
     "views": []
    },
    "19ed8ab23570490d97869abaac5c07cd": {
     "views": []
    },
    "1a072341634842fc9314d0d8cea641e4": {
     "views": []
    },
    "1a1129a774ff46d28841ef6cda288818": {
     "views": []
    },
    "1a46b370c4834da5939be8142fdbd8b8": {
     "views": []
    },
    "1a4ba6c5248a4f30aa9cdc2797f8d9a1": {
     "views": []
    },
    "1a4e6827af024d3cb1dfeaedb490f850": {
     "views": []
    },
    "1a5887c573854394a46c63ef8f1d71e3": {
     "views": []
    },
    "1a61c0d57a1249f8bc89eae5b30a4b0b": {
     "views": []
    },
    "1a68a53c4fc3406cbe58c9f6659e22f9": {
     "views": []
    },
    "1a6ed861202546d2836b25a743a6c63e": {
     "views": []
    },
    "1a751b785a4240baa3e84b18137449bd": {
     "views": []
    },
    "1b558ceeb0a747e7a793bc5cf272b2ba": {
     "views": []
    },
    "1b6a3a254f294f5592e9f6570fc5d8d4": {
     "views": []
    },
    "1b745cdd69c546e4a33b588985039b13": {
     "views": []
    },
    "1b937e8f54d5448eb860c9d7ce574068": {
     "views": []
    },
    "1ba27b3c7b35478f8eec9592064140e8": {
     "views": []
    },
    "1bb7e1ad2d2e49e2bfc782503ee626f1": {
     "views": []
    },
    "1be3330dea5d46b393393655112e7f67": {
     "views": []
    },
    "1be61ee89b194343a13583e48fff4dc7": {
     "views": []
    },
    "1c0431aa100a472fbffd5d3c2c6b30ad": {
     "views": []
    },
    "1c0906373d3e4fcc9758a5d2f672a7ec": {
     "views": []
    },
    "1c3175aab38d43eca04f9ab57436008b": {
     "views": []
    },
    "1c39fa41664244ceb2ac21819197a3a7": {
     "views": []
    },
    "1c44fa94229c421890425522a33ced8c": {
     "views": []
    },
    "1c5f41204fc3469eb76730d514acabbd": {
     "views": []
    },
    "1ca3229633f248e384910cd84065351d": {
     "views": []
    },
    "1cb1068da4a34f1e9396f9b155926f08": {
     "views": []
    },
    "1cb4ba0e478e4e7799b7cb1a9e344faa": {
     "views": []
    },
    "1cbcebdbc5b5420b842f5ba0507c6d0e": {
     "views": []
    },
    "1ccb395038bc4e01a6b9e2c513687c5b": {
     "views": []
    },
    "1ccd2c82563e4737b640c65c70df7087": {
     "views": []
    },
    "1cf004397cbe4dbca5d09a7affe5c95a": {
     "views": []
    },
    "1cf5809eba81468bac5d7ccb1d935f71": {
     "views": []
    },
    "1cfd19c5bfe6410ba0c7c3988d8115b8": {
     "views": []
    },
    "1d32c96e0853476e8bfa0fbf02d10f38": {
     "views": []
    },
    "1d338d5263a343dfb371862c68e3a2fb": {
     "views": []
    },
    "1d518af84b064baf880e9deef29bb5d2": {
     "views": []
    },
    "1d5cc4f41db041a1a10d8856d61410f5": {
     "views": []
    },
    "1d67bb683594437385ff350f826629d3": {
     "views": []
    },
    "1d7fa192b09e4f219f9e5df8ca756c2f": {
     "views": []
    },
    "1db09179953748a682a0f37ccaf08047": {
     "views": []
    },
    "1db0dbdb91de4d238f1780f7c951dfa9": {
     "views": []
    },
    "1e4768669f184ca6828792058d87f0fc": {
     "views": []
    },
    "1e6a7ffcb75146e3908aee04d397c25a": {
     "views": []
    },
    "1e7cbfb180bf426abb84b317330f1981": {
     "views": []
    },
    "1e7ed767ab6c4df79a91c9ee492cd3c4": {
     "views": []
    },
    "1e8d359aa9484ca5a86eee5839c5f3c8": {
     "views": []
    },
    "1ea8e5def35b4580a2e9fa0554bc9f43": {
     "views": []
    },
    "1eb2b2eacf3d4a4c9a7284121b3fbd85": {
     "views": []
    },
    "1eb47f8e41be4e009a4e8852ff2f2f89": {
     "views": []
    },
    "1ef58ac7642d4e689c090fb4de23b8f5": {
     "views": []
    },
    "1f2ce63502d147ae9d4dac32cc62fbf9": {
     "views": []
    },
    "1f49b0fdc8f648a9b5aa5cf0a9948464": {
     "views": []
    },
    "1f670af1214d4efe8ef5a8ddbaf41339": {
     "views": []
    },
    "1f853e6c9cf847278a3aae60f7cdc896": {
     "views": []
    },
    "1fadf51430b242b3a04bafc3c6f22b9b": {
     "views": []
    },
    "1fb1ce51e8dd4242bbf0c5e23e9558a3": {
     "views": []
    },
    "1fb5922e14a440cab210aeb06f34daec": {
     "views": []
    },
    "2010f9c23cd14337a174ef39cf767d37": {
     "views": []
    },
    "20135f09eeb846e9a3e46390d4696d11": {
     "views": []
    },
    "203f91d408a84288b2612e07fb3a65aa": {
     "views": []
    },
    "207fa0c31116458a820b133afdc94db8": {
     "views": []
    },
    "219f22c5082d46279f236ab399e4b0df": {
     "views": []
    },
    "221a57a5c3d34681b47e3c731e67482c": {
     "views": []
    },
    "221d7d3cf4474692869ef50a74cf4269": {
     "views": []
    },
    "225619491af34a4c859a655c279d8663": {
     "views": []
    },
    "226937da57764f72bf024fe17f92ab12": {
     "views": []
    },
    "22bbcc5d55454dbd9e7c349cbf5ff869": {
     "views": []
    },
    "22f26a2f38bb4e179a5c2ef66c43b79f": {
     "views": []
    },
    "22f5ab7ea6944dbfb59f6da16d6379ac": {
     "views": []
    },
    "23be3956c8164e46935904ce1cfd1d64": {
     "views": []
    },
    "23e69fdc548c4c4593f74d9458efff14": {
     "views": []
    },
    "23ee656ba62f4253a3275272d1403108": {
     "views": []
    },
    "23f5e21ce5c94763b240338879314860": {
     "views": []
    },
    "23f6841f510b440b8a53092eec217231": {
     "views": []
    },
    "23f765f47d7e486880d60711d87092a5": {
     "views": []
    },
    "23fd5fadea9f44619aceffe3a36e4a63": {
     "views": []
    },
    "2405c6246d86408f8c5fc10f35753f2a": {
     "views": []
    },
    "242b5bff80d34621bc0d915f18eaa7ee": {
     "views": []
    },
    "242d5bf5bf5f45e691a3ec927c3e57eb": {
     "views": []
    },
    "2449790f565d49cd8807363ba9c42b2e": {
     "views": []
    },
    "244d147ce7a941a2b967069856aef3fc": {
     "views": []
    },
    "246314ad11084bf29bfde47cc81aef96": {
     "views": []
    },
    "24698bef0c304622bc420f1603a087e7": {
     "views": []
    },
    "24e0262dd7554b1693cb15d0306166ad": {
     "views": []
    },
    "24eab1ad20164222bbe573db890cf2b5": {
     "views": []
    },
    "2517a376516c4cc29bf9806559e31a46": {
     "views": []
    },
    "252a686885d541ec97fcdb7614088d6a": {
     "views": []
    },
    "25319240ceee469d93580e20c980b27d": {
     "views": []
    },
    "2537156d0b924e7794808dc885515885": {
     "views": []
    },
    "25752c3f001243358e81b6bfaef06ec0": {
     "views": []
    },
    "259fedf4091546c8a28742725822103d": {
     "views": []
    },
    "25a7747cccc3447fbaaac17d0398a533": {
     "views": []
    },
    "25d43c31168c4d7aa2e321c3a4dcf24a": {
     "views": []
    },
    "25ddf37528c44959a7f0f7ed754fc0f7": {
     "views": []
    },
    "25df5308fd124c098595325de48eee17": {
     "views": []
    },
    "264160fbcb9e4ce59eeab1afcf4ee07c": {
     "views": []
    },
    "26652fb5c2d44f05a5d2cafeb08d46f4": {
     "views": []
    },
    "26a2941ea4a14f06a949a740ebd1c6a4": {
     "views": []
    },
    "26a6bb82e5074adba45fd0953eed3017": {
     "views": []
    },
    "26c6da20ba404105922f4807bc015934": {
     "views": []
    },
    "26d08b8fb4d2420683a808d412e168b3": {
     "views": []
    },
    "26efc70c27fd4be6b9a56934ba7aaccd": {
     "views": []
    },
    "26f75ef9e1d248cf99604a5c0e0ea2c0": {
     "views": []
    },
    "270d957f663a46388b31946085a30031": {
     "views": []
    },
    "271c382132604f5a94b3507981ab9994": {
     "views": []
    },
    "27206063ed9b4841965a4e3639eb1ad2": {
     "views": []
    },
    "27703b71971c4c12b43c30f731b038eb": {
     "views": []
    },
    "277f229efad942ad8b65d8ff0f419418": {
     "views": []
    },
    "27820401a0fd4c41b58e95830882b207": {
     "views": []
    },
    "27c8d29536bf4cd2a556dc1a18f139e9": {
     "views": []
    },
    "27dd1b1345914c1bb2505301777304da": {
     "views": []
    },
    "27dd295da723436da2e146a0c430950c": {
     "views": []
    },
    "27e721d9d60946e79530f638e495ca02": {
     "views": []
    },
    "27f23bd3e8874aabb59ac3df40bb65fe": {
     "views": []
    },
    "28105c42259f470d82779fe4618adc3d": {
     "views": []
    },
    "281d96d9827c4fca8f04b10e9203b57c": {
     "views": []
    },
    "2838a418285e40e5b744bb9cf5fb491c": {
     "views": []
    },
    "283f6b05933d4d818254380f95c775c3": {
     "views": []
    },
    "2845138423cd43f9a4c9c9c69c0bce14": {
     "views": []
    },
    "28c79d802a4d4b86bb130a6ea7697197": {
     "views": []
    },
    "28d9457a36f24474a49297aa16b5f13a": {
     "views": []
    },
    "28e760e80746454aa7059fe647aa716c": {
     "views": []
    },
    "29117f2e20e6484ca538d2db1c36c906": {
     "views": []
    },
    "2972757c4e054c4db1b53f63c76e31ab": {
     "views": []
    },
    "297ef43bbb93417d849ed1a7b19b6b59": {
     "views": []
    },
    "298f5f30e4784ccd936a3a9499c240b4": {
     "views": []
    },
    "2992b648a99640778ef99895d6f9f60a": {
     "views": []
    },
    "2994ffbff18541e5be2f25a371b4b36c": {
     "views": []
    },
    "299c8f666f084050a502b612dd5ff086": {
     "views": []
    },
    "29cff91fcbd3458da967a08e217c7543": {
     "views": []
    },
    "29d9b50449ba4b2992b2f5197d54e928": {
     "views": []
    },
    "2a2195b7ca82423692eb3d7023f77b43": {
     "views": []
    },
    "2a29f55b113247aba62c304bf16c2e60": {
     "views": []
    },
    "2a3ec2ce2bb74960baef9920dddc80b8": {
     "views": []
    },
    "2a405979c8f84fa0961eecd5b6b9c9ee": {
     "views": []
    },
    "2a74e4a2295745d2a603e6a05aea7729": {
     "views": []
    },
    "2ab276ac2e73447ca43965b167fd536a": {
     "views": []
    },
    "2accbdea7fbc4367a45c599843fdb5de": {
     "views": []
    },
    "2aeb221c8cb0429cb65f5f6e8e5773e8": {
     "views": []
    },
    "2b0336fbac584ad18ea550bfc8fd0829": {
     "views": []
    },
    "2b0dee478811420e8fb76a963bc37431": {
     "views": []
    },
    "2b26c36c52744f81bf03b891b000da58": {
     "views": []
    },
    "2b2ab0767c8042898643d49ef8ae6fe4": {
     "views": []
    },
    "2b3d1d36cd6d4bb88c8593dd308e32b5": {
     "views": []
    },
    "2b4800dedc8048b7844841ffd18cf8c0": {
     "views": []
    },
    "2b52dd5e7d5a43bd80c12cfd97674fed": {
     "views": []
    },
    "2b531147f5b24117bcc1407cf0f9a76b": {
     "views": []
    },
    "2b689ff5089d41fcac739ee32770aeac": {
     "views": []
    },
    "2bb99b035a8e44d0b64cc1bdb4412f63": {
     "views": []
    },
    "2bbdbe73bd394e84a80237244d109abc": {
     "views": []
    },
    "2bc28c642a314cd7836b9bc29abc2fda": {
     "views": []
    },
    "2c14ee6685874c1e8b4a9b11c89660f8": {
     "views": []
    },
    "2c59c08f79d74750b5f54942982059d0": {
     "views": []
    },
    "2ce8491171ea4164ac96010ce9ee489e": {
     "views": []
    },
    "2d00359e1dc844228b5d56db00652902": {
     "views": []
    },
    "2d0ac867f8bc41e495a520f98bdd2cc5": {
     "views": []
    },
    "2d24838e7ec04886bde6cce98f9f1ad9": {
     "views": []
    },
    "2d57a1571a7246f798aae5765878fdbc": {
     "views": []
    },
    "2d868d46b7d14fdeabce824026668256": {
     "views": []
    },
    "2d8d61ebd0aa49548671944820f42f9d": {
     "views": []
    },
    "2da5aeac4b794bcaa164e48c0e03d970": {
     "views": []
    },
    "2dcda9307add40629493449422f92afd": {
     "views": []
    },
    "2dd9fca8405541868630e3566bc7f037": {
     "views": []
    },
    "2df0caf9882b4f68b301ceec88e37b7d": {
     "views": []
    },
    "2dfd76965c6f49ec9b1f86984add373d": {
     "views": []
    },
    "2e032c4d71914f848915b5af7beb738b": {
     "views": []
    },
    "2e1a8ea5e5e3457f9ec88dd22d4df9cd": {
     "views": []
    },
    "2e7b758984e24d78b0ca796c8359c3e4": {
     "views": []
    },
    "2e8d225176774467b3490105f4a8aa60": {
     "views": []
    },
    "2e8f7cb23c844733a9d8c05f1044bfc3": {
     "views": []
    },
    "2e96ab6454014eb8be8664867efe53b2": {
     "views": []
    },
    "2e9a448ab49948838d17dfa87a160fd4": {
     "views": []
    },
    "2ea8fb3907f34f2da1b98a301c23821c": {
     "views": []
    },
    "2ebfa44a1c83428ba0f2dc31311edf47": {
     "views": []
    },
    "2ee62b883c4545e9aca420635be76f53": {
     "views": []
    },
    "2f0361f02c814a5ba11366ffa0190e55": {
     "views": []
    },
    "2f0d4c9934cc4c7a88e4eccff07ef552": {
     "views": []
    },
    "2f1f433df84240f28d44d055f186dea6": {
     "views": []
    },
    "2fac5e0ed99b418d9db85f1147ea83cb": {
     "views": []
    },
    "2fc460f11a6d4d069623d8f5e9fc57ea": {
     "views": []
    },
    "2fdf86a014f44243bbc4c38273b74b19": {
     "views": []
    },
    "3067670ab37a49a1807bb5c110a07a8d": {
     "views": []
    },
    "306820237d4543ffa0d37e76ea58b840": {
     "views": []
    },
    "3068df467b974120a20d085fc784f2ff": {
     "views": []
    },
    "30a3952b905246eb80c6d44a74b6aef9": {
     "views": []
    },
    "30ac2a1df30e443d8c7fb7ea3b0cf6a9": {
     "views": []
    },
    "30b0e2b864944b6caf320cf1563ef51b": {
     "views": []
    },
    "30d78c740a0c430d94bf826a1f25bf5e": {
     "views": []
    },
    "30ebe234731a42028122010faf79d868": {
     "views": []
    },
    "312e5d8fbb7a4ceb9ed71916d7bcc098": {
     "views": []
    },
    "31520237649b4c8f99a3b51dc21d77e7": {
     "views": []
    },
    "316505def0244c4c84173e53aefecb8c": {
     "views": []
    },
    "3186931c44b84f4cb0b8b8243ece269a": {
     "views": []
    },
    "31aa1cf522334af1bab54bef0cbce7da": {
     "views": []
    },
    "327b37b195fb4aaf973917f1c908275b": {
     "views": []
    },
    "329cf6cf67cb4ea595debc92025f52b2": {
     "views": []
    },
    "32a07ae496044474af49e152220c9eb6": {
     "views": []
    },
    "32bfa77aad534a96a9eec102daeed753": {
     "views": []
    },
    "32e44c31cd104547a416a8cafc33a69c": {
     "views": []
    },
    "3301feaeb7ce43748cf7fd5c6128d32c": {
     "views": []
    },
    "33078c44ca474938a0b39aed68f9d0a1": {
     "views": []
    },
    "331baf0426454a9e809068ffa77eb998": {
     "views": []
    },
    "33492db2232746948530dbe266625947": {
     "views": []
    },
    "3379f493c7134ec1865d3e1c66b129e5": {
     "views": []
    },
    "338e3cb230204a4f8f0206a028ab2216": {
     "views": []
    },
    "33fb4d05e901460db91ba959e0559948": {
     "views": []
    },
    "3434be5b4f8543a9b9568427870edd3c": {
     "views": []
    },
    "3466d0d96af344a492ffb9d8a36c01b5": {
     "views": []
    },
    "347bdb117ea2443f82838c4f32fd5b17": {
     "views": []
    },
    "34827ccc8d544a2aa9b8510df653f400": {
     "views": []
    },
    "3497a2787dcf4cc99953684310735bef": {
     "views": []
    },
    "34b950ae5a6d4ccabcedab6238e5bf9f": {
     "views": []
    },
    "34c74a0ddedb47e5939702e6a3b46738": {
     "views": []
    },
    "34e67e82a1ae4fb78a78f8b341d7fcd0": {
     "views": []
    },
    "34f9da47d8024ff3b5330d0176c991ff": {
     "views": []
    },
    "350749791a914a39ab39addb67460664": {
     "views": []
    },
    "351f6f2088ba4c729aeb0f430d34b782": {
     "views": []
    },
    "3524ea2b4606466e8be8ef1d97626997": {
     "views": []
    },
    "35724513b9a546ae8021a37a91e00a29": {
     "views": []
    },
    "358d38ab157d46da99eb36b05756d5b0": {
     "views": []
    },
    "35a66297c42f453e84761e01e0f5adf1": {
     "views": []
    },
    "35ca5805f7f941ed9eba9bb80e3408c9": {
     "views": []
    },
    "35da1d8895e942e6ac84924cfe414b9b": {
     "views": []
    },
    "360bf7a961e84213b86c7107de85b8b9": {
     "views": []
    },
    "3614a47408e04a758b16a00a0deada34": {
     "views": []
    },
    "36166f1fcb244678813207c22dde8350": {
     "views": []
    },
    "365807b0a3444c78bfb5421a6fae13b3": {
     "views": []
    },
    "36967cf79a7d490b91054c32e44faa85": {
     "views": []
    },
    "369e53e685ec4b12ae82aeec5fbdc8e8": {
     "views": []
    },
    "3700978f6599400ba37a9b8988b03281": {
     "views": []
    },
    "37093e9914de48b7957e105f33f29c10": {
     "views": []
    },
    "37283ffed6fe4b61a73c03b6a1cee922": {
     "views": []
    },
    "37456c47dba64a5fadb7d93f412efc07": {
     "views": []
    },
    "377bf134584a4e319fea086303622956": {
     "views": []
    },
    "37c4db9593e1482e808da250734a7b41": {
     "views": []
    },
    "37c7bc675e3a46508ec4288612b87f4d": {
     "views": []
    },
    "38148878b0f447d28442bf23be121505": {
     "views": []
    },
    "38261b1506994ad89f2e2b09ec62078c": {
     "views": []
    },
    "3848460e1f4045d99cfcc67302fb8662": {
     "views": []
    },
    "3854c09b589449dd9cf6e5da2a9c6138": {
     "views": []
    },
    "38564fba107a45fe8f6e4e0c76cb0ea0": {
     "views": []
    },
    "3883d15a9f00420b951db7b528f3492c": {
     "views": []
    },
    "388f4d21151a4eb0a3f759dd3f46a552": {
     "views": []
    },
    "38ad95e53360497cb8951e1b8a6f9c6c": {
     "views": []
    },
    "38fb0eb33fb2425da45204336bc717f1": {
     "views": []
    },
    "3901f90011bf4b038ad150f0c31d6e2c": {
     "views": []
    },
    "39075da1a2304286994b57b9af10be11": {
     "views": []
    },
    "3928f11450d740499872d2ce3afa2255": {
     "views": []
    },
    "3944abb197914452ac91c1496fa9aec6": {
     "views": []
    },
    "394bef85e8ad4bb7a5c788b4e9fbc367": {
     "views": []
    },
    "394e7be1efe6433a869aa7576fc9c11f": {
     "views": []
    },
    "3970538e48ae4d2b98de8845296860d5": {
     "views": []
    },
    "39909d5b20174d5aac111c447f474680": {
     "views": []
    },
    "399f6df7c5444550b81c75da84a6f5ff": {
     "views": []
    },
    "39d0776f2ac6476fa7aa549b8ec7173b": {
     "views": []
    },
    "39da14b851244809a961eaf2aead48f7": {
     "views": []
    },
    "39dea3ffbe734fbeaac6690949063f58": {
     "views": []
    },
    "3a28e3b3f8c54c22a9b5a955ceb9fa41": {
     "views": []
    },
    "3a6fa603bc3649798cc4af041a498570": {
     "views": []
    },
    "3a885bfce56b4fa29b6b8ae0d3f53590": {
     "views": []
    },
    "3a9a5ada58b7400799d68db3b9fe0699": {
     "views": []
    },
    "3a9a8d92ad6144cfba55afcc6916aaaa": {
     "views": []
    },
    "3a9b6fa5c5f243f0a40b1c828d3dde6f": {
     "views": []
    },
    "3ad2bc8d9cfe450b80a078a835e8ed73": {
     "views": []
    },
    "3ad45803daa34e23be38344b2fcd2fe3": {
     "views": []
    },
    "3b02c123f65f48c388d7b19dea3c9b5a": {
     "views": []
    },
    "3b22420147ae4d40895a94cde91a3885": {
     "views": []
    },
    "3b83d99f8ed7434b986dac6c64aced9b": {
     "views": []
    },
    "3b8a135810e14189b920e4cc2806b2f7": {
     "views": []
    },
    "3bd911180a3941f6aa0e29992456929e": {
     "views": []
    },
    "3bfb0f9bddb1462cb4b55ff87df1a8ce": {
     "views": []
    },
    "3bfe3824f44d4cb28d2192a88e66e429": {
     "views": []
    },
    "3bfec8de74e648d08aaca8f5d29ceb18": {
     "views": []
    },
    "3c03cd2691e842a39ef7e8360dfe24a8": {
     "views": []
    },
    "3c099ee56adb4b91a660d3ba2649392f": {
     "views": []
    },
    "3c17dbbea2cb4b9dabc84b8c515d4b82": {
     "views": []
    },
    "3c9a8224d7964fcc88200bbae057376c": {
     "views": []
    },
    "3cd360db29994c029cdd59e9a2e1f392": {
     "views": []
    },
    "3d1a42a46ced433ead3329401c6a9e24": {
     "views": []
    },
    "3d588a618362445995e418db75dc141c": {
     "views": []
    },
    "3d63c85894f34aa4b94ed4a54acc2096": {
     "views": []
    },
    "3d74c0b0324047bda2683c9687decf03": {
     "views": []
    },
    "3db74823bbf54745b9028f1194c0212c": {
     "views": []
    },
    "3dbd42231e564a0a8e1cd1810a21b408": {
     "views": []
    },
    "3dc7d512f1e548f8ac14b7d5a0f4211e": {
     "views": []
    },
    "3e09a2f15e094ece8ab89d4fdb6eafe4": {
     "views": []
    },
    "3e2629ee9f864593957cef14ba387d53": {
     "views": []
    },
    "3e7aac47a2aa44dfa5a6df6c668033c3": {
     "views": []
    },
    "3e86cf323a2d4bdd9729557751c1bc32": {
     "views": []
    },
    "3ebdcef079044723a23a1a19130c3ce2": {
     "views": []
    },
    "3ecd958401714709a6e29464cf93666e": {
     "views": []
    },
    "3ecf3dcad0f2405fb3ace01bf2e27814": {
     "views": []
    },
    "3ed8ba86b2ce4993812a6955179d70fa": {
     "views": []
    },
    "3ee894fda78a4c728fb9b514262d7220": {
     "views": []
    },
    "3ee8eaeb0a554045bc63b1ed382204d2": {
     "views": []
    },
    "3f0336fe9bbd43b9894199238fbb643c": {
     "views": []
    },
    "3f0deb564f3741d3ab81ea83beb4edd3": {
     "views": []
    },
    "3f632d81e3074c46b86f82310ee53405": {
     "views": []
    },
    "3f7a0b2fb44f4829a04b7ad8668c97cb": {
     "views": []
    },
    "3f871aa0dea54c218a5c8382d5855be8": {
     "views": []
    },
    "3f8a4bd314134154ae39cb7e5e5894e3": {
     "views": []
    },
    "3f8c80d495924c799ad03e2e30a7c1fe": {
     "views": []
    },
    "3fba305e0f1a4b768b1a820e40e8a799": {
     "views": []
    },
    "409033ea2f124ff2bdb63795c61c3649": {
     "views": []
    },
    "40a673d710a5471e9e0da58c7a5b54f3": {
     "views": []
    },
    "40abb2ab16014ddfb72cee186f7a02ee": {
     "views": []
    },
    "40ed94232aa8474bbb812f36127826cb": {
     "views": []
    },
    "40f0970900384b8b9554dbcf51802ad5": {
     "views": []
    },
    "415ef9b8a6f845ba89b67ed5b138e64b": {
     "views": []
    },
    "4186b778751941a4bb0076ad85ef7b8b": {
     "views": []
    },
    "41bd8ef663ac4f6aa21855ff6360e940": {
     "views": []
    },
    "424fca2f4be34e408e5fa3c8d564209f": {
     "views": []
    },
    "42539e34ea5649c596af080caa18d253": {
     "views": []
    },
    "4254155747f942a1b38eb0a4e211ed42": {
     "views": []
    },
    "4258744d33dc45efa197bf11a19e6a48": {
     "views": []
    },
    "425bae9e7ef04b08871c5ec994516d95": {
     "views": []
    },
    "4275a377e541444099f3cec0107d242a": {
     "views": []
    },
    "42a991a3db5c4aeda0ae3ac127970aa2": {
     "views": []
    },
    "42cb5ec79bb54dd1b357978ec4a6302f": {
     "views": []
    },
    "43241d1e9922455b81ea9d94daa2a669": {
     "views": []
    },
    "4326428202e64329bf6c3377cd439965": {
     "views": []
    },
    "43343eb29b6c461b8602721c2cd82941": {
     "views": []
    },
    "43785262441d457ebbc52a29a78a79d1": {
     "views": []
    },
    "4378a4d739824b78a33c17d840b6176a": {
     "views": []
    },
    "437b3d4d3af9492c981c533cc93ddbd2": {
     "views": []
    },
    "438152682000431881db4130e578f17c": {
     "views": []
    },
    "43990c64be674ee4a5b9a4480a77f91f": {
     "views": []
    },
    "439e7b9489d14edbb318188834823994": {
     "views": []
    },
    "43a64e5c8f964de8b5ebf0423bafe9c4": {
     "views": []
    },
    "43d234ce74fe4c119ada87298be98ab1": {
     "views": []
    },
    "43d8f1e6840f4797888ceb68d5ba51ed": {
     "views": []
    },
    "43fd053de9a740eaacff6c72af14c657": {
     "views": []
    },
    "43fdbd24f4974dc39211d87e252c6eea": {
     "views": []
    },
    "442dbaca14a6475580f096d9304650b7": {
     "views": []
    },
    "444c4bddc7d141f991cb0c2180b0c6c5": {
     "views": []
    },
    "44501405c5534770912aded7a23c30da": {
     "views": []
    },
    "446cbf63f3234ce08758fab9e56f13f2": {
     "views": []
    },
    "4486a3ddd24c4d4d92e776c4c153f5a4": {
     "views": []
    },
    "44a03fb563524690ac5baf54449739da": {
     "views": []
    },
    "44e1b1db0bae498f82fa838d24849b0a": {
     "views": []
    },
    "44e34eb3a74542c6a27bf0faffad19d8": {
     "views": []
    },
    "44e3ad258a6340f0b5d1eb1ed97e2763": {
     "views": []
    },
    "44fc400fa15445be9a651d329eaea339": {
     "views": []
    },
    "44fc8c635200499d9c5a143d6ae0f60b": {
     "views": []
    },
    "4508232f1b434d959fd2a99966d5cac8": {
     "views": []
    },
    "4523cb06a7ca49ed978b60f624b729d0": {
     "views": []
    },
    "452a704074884bbd99633a11d82768a2": {
     "views": []
    },
    "454a6e3bfa1747c882ac1b97d17a2ca3": {
     "views": []
    },
    "45f21c814c5f4e2b86a83898d2db3ec6": {
     "views": []
    },
    "45f482091b6a405f9b02f245fe421082": {
     "views": []
    },
    "4608579cef8c41eeb67b760a87cff4b9": {
     "views": []
    },
    "4615c2b5e04b42778ea94e2d8edabaee": {
     "views": []
    },
    "461726fbe0dd453e8faffede209458f4": {
     "views": []
    },
    "463945f052714953aa3b8bbc75a4ad42": {
     "views": []
    },
    "463f63f69a714d7d9f8d5d004b7d70ef": {
     "views": []
    },
    "464ac34f1e8048efb487bdca0c7a1855": {
     "views": []
    },
    "46546939375849daabfd9e515e4c38aa": {
     "views": []
    },
    "46d672756b5f4dfd909c95467f6b6623": {
     "views": []
    },
    "46e1db5f5ad8476da94080de484b8c14": {
     "views": []
    },
    "46e92ab3c755493d98fe9e9130128a86": {
     "views": []
    },
    "4714c7e6bfc746a89f7b6e08b2a6bd4d": {
     "views": []
    },
    "475f14cf18dc4390ac673eac712b2de8": {
     "views": []
    },
    "47b0173cd4ec40ce8cded8fb3ecd2430": {
     "views": []
    },
    "47d225988f1a455f8db1fe0d31420056": {
     "views": []
    },
    "47ee890db4ff4b9fa20759ed22027dfd": {
     "views": []
    },
    "47ffa72ab727472a9e2fe87d9eef8557": {
     "views": []
    },
    "48467a7eb6884832ab535d8263774e4b": {
     "views": []
    },
    "487f886ed01c4faf97b196141b5650a7": {
     "views": []
    },
    "48931344d22049ea944f64688b974187": {
     "views": []
    },
    "4897ccc829434b2cbe15f4ed73ea480e": {
     "views": []
    },
    "48b3913defea46a69970a527b21de209": {
     "views": []
    },
    "49347f7aad8348e5ba1389197344e39d": {
     "views": []
    },
    "49396bb7319e40c98dee2aacc47c62c5": {
     "views": []
    },
    "4947b98d8d53412f96b5742aa87da2de": {
     "views": []
    },
    "494c24fb3eef4c3e826b8b580750a2b2": {
     "views": []
    },
    "494fb7f075554c89ae19edc70e2990ac": {
     "views": []
    },
    "496da3be800a4f2aaacc0c3df1158bd5": {
     "views": []
    },
    "49bb0ce172cd427fb72f30c7e3a1fd5a": {
     "views": []
    },
    "4a5a11fcc0ad4e45b1718a3f4201f049": {
     "views": []
    },
    "4a5ba7e332f0451499186da38a1098d3": {
     "views": []
    },
    "4a7f4fb9af8b4826a47db050d5de34c2": {
     "views": []
    },
    "4aa3f02b4e3e4c18818f164d80b344b6": {
     "views": []
    },
    "4aaf9314e18a40f3baea4b872f29c56c": {
     "views": []
    },
    "4b35cea5513442ac94e4ef2472c0b35f": {
     "views": []
    },
    "4b3ea5abac7a4b88951080d1f9ccaeb1": {
     "views": []
    },
    "4b4160e918a146b59a15501d37aa9804": {
     "views": []
    },
    "4b4269d934374d49b669837a6de93bdd": {
     "views": []
    },
    "4b47526e547942fbbe1f5423770abe42": {
     "views": []
    },
    "4b68a216d6c64d37a4b83fc2672574c9": {
     "views": []
    },
    "4b7fed44a3aa4054ad0de90502049a4f": {
     "views": []
    },
    "4bc3f1d66bb244f48f786301592ee198": {
     "views": []
    },
    "4bda2bb0512c4d7f893e9415bec1e6db": {
     "views": []
    },
    "4c032eb7653c41b08c28e29b9bcc9255": {
     "views": [
      {
       "cell_index": 19
      }
     ]
    },
    "4c1458c6b4a54431b8af4ddac65f4337": {
     "views": []
    },
    "4c2582b468f44e3d8d2da11a86aaa9ad": {
     "views": []
    },
    "4c2fa206c5d84ede875c63e46b3afcff": {
     "views": []
    },
    "4c3a9642edf04d0c808bc1f15937cfba": {
     "views": []
    },
    "4caebbdf3d534a93807d2a0c9501a574": {
     "views": []
    },
    "4d1af28c934144b5a0851497ea8d48a1": {
     "views": []
    },
    "4d301b7b6a20476e9071826cdaca8b09": {
     "views": []
    },
    "4d348a70940e4d34867f1442cbe4187c": {
     "views": []
    },
    "4d49676141c94d19839dae71b3db022d": {
     "views": []
    },
    "4d51913c8cd74bf6a27b87b2bd3df162": {
     "views": []
    },
    "4d65ca045ac14b6392cabe09ffdde92b": {
     "views": []
    },
    "4d75f7f150ea40069b1963333a7ae44d": {
     "views": []
    },
    "4d8b431922f743e19ef0b5463e45a5b7": {
     "views": []
    },
    "4db49da3e953416991671d3fa1f2cd82": {
     "views": []
    },
    "4ddecceb34c94e4ca969fc30d9ecd611": {
     "views": []
    },
    "4ddff4f44b4947a2aec272049fae7c1b": {
     "views": []
    },
    "4de46816aeb649da83b3193b6aa8a9c5": {
     "views": []
    },
    "4dfa79bc7d33459b8cf454de223bbcd1": {
     "views": []
    },
    "4e7ac5629e9b4d9a90dd34faa6e0cbdf": {
     "views": []
    },
    "4e86204c9e1f42ac87bd0c964bfd0d35": {
     "views": []
    },
    "4e9473ad74e6442da215ee942139b49e": {
     "views": []
    },
    "4e9dd1ce61134fed8dbc5b1a88a43422": {
     "views": []
    },
    "4ea950315fd44b3dade509fc3e2fb8de": {
     "views": []
    },
    "4eee9055ddd44b7199287718e330b616": {
     "views": []
    },
    "4f02e21c43804458a9657fcf7061f060": {
     "views": []
    },
    "4f20294c9bd1465383e5754c41041cee": {
     "views": []
    },
    "4f4751a89cc64c389e6f755c9a296710": {
     "views": []
    },
    "4f4aa854ef7145c7a045275f28b53676": {
     "views": []
    },
    "4f4c7aae0c2d477db7df62e6f84ee76b": {
     "views": []
    },
    "4f519d16240b40d5b15f57820be21d9c": {
     "views": []
    },
    "4f6819fda61847b1a9445fb3057a8561": {
     "views": []
    },
    "4f87d1a22c6f4aa48ccf1dca437c2c0d": {
     "views": []
    },
    "4f9deb4993c34e608d2ffbec9a1fd688": {
     "views": []
    },
    "4fbb7774f07549a9941089e03d2613aa": {
     "views": []
    },
    "4fbfc58eb6814215a5ee12ae552bcd02": {
     "views": []
    },
    "4fd70b6860e94200b91344f13f8da1a3": {
     "views": []
    },
    "4fd7f72a85394649b74917a6bc78e185": {
     "views": []
    },
    "4ff42dfe7b7c4fa69b0a18928ae88420": {
     "views": []
    },
    "500440b4909e479589504796a9018053": {
     "views": []
    },
    "501389429c744896bb2d6efd34dc5bc0": {
     "views": []
    },
    "50256810e66b46398626d8113c6892f9": {
     "views": []
    },
    "50ae7dce58fc464a860758c3c179eb49": {
     "views": []
    },
    "50bfc7864746454481764a12baf6eade": {
     "views": []
    },
    "50cb90f2c9da4c88bec78b1878fdfd49": {
     "views": []
    },
    "50e7aa8575274e43a084050bfe1fb322": {
     "views": []
    },
    "50f9d4985a2f4623aa913c93fd1f779b": {
     "views": []
    },
    "51019b2d38d54296b8468d18639249c6": {
     "views": []
    },
    "5101b4fc9310466dbd51246e3558a92e": {
     "views": []
    },
    "5112bd2652aa4b49a3c7ddca9f74ba55": {
     "views": []
    },
    "5129e0d4f56d4317923a4e3ea94ebe27": {
     "views": []
    },
    "512b72d9f87e4cf691a3eb914e71f6c1": {
     "views": []
    },
    "512b9884ca7e440187994082239860f1": {
     "views": []
    },
    "514ebbc4fb2f4f19a6acb6b0cd364d0b": {
     "views": []
    },
    "5162a532246f451b9911154c78c3b60a": {
     "views": []
    },
    "51771baafde44d11a06ba4693bd98479": {
     "views": []
    },
    "51afe5e147b3419d8168d652fad543e6": {
     "views": []
    },
    "51f08d65800042199df1dc8a48a28c92": {
     "views": []
    },
    "51fcaa8c16d6463fb856fc9e2ae7a294": {
     "views": []
    },
    "5223ffe2655b44059738807d963f650a": {
     "views": []
    },
    "5227f44206df40279fd88a500d2dceb4": {
     "views": []
    },
    "5231015f10844004a008469a4833d8e1": {
     "views": []
    },
    "525817f396404683b4129b85da107920": {
     "views": []
    },
    "525ad006d3db4822bf48392ee1216552": {
     "views": []
    },
    "5264a24cdf4243c196f1a4108b84c7c2": {
     "views": []
    },
    "528124986899487b9547f5e70146ea00": {
     "views": []
    },
    "52a145023ff1452a92795a7c19347b19": {
     "views": []
    },
    "52a661c09d25422a9182f2d7c83433e4": {
     "views": []
    },
    "52bc260699f9406f9b23e794f2690389": {
     "views": []
    },
    "52e6d7421ba84388af61a8920e6bca63": {
     "views": []
    },
    "52f511dfa4674a56a849e74a6904f023": {
     "views": []
    },
    "52f5e2c2f92041cc86d7b1628629d042": {
     "views": []
    },
    "530e49be069447219b69819a7a15c60e": {
     "views": []
    },
    "5318ee41145246688a48c96403e7448e": {
     "views": []
    },
    "531e9a7773ad4f558ea9e7b375ff6437": {
     "views": []
    },
    "5320640b33124b789ecca889b4968d45": {
     "views": []
    },
    "532dad1aecec4dce909d56a84d5691e1": {
     "views": []
    },
    "532db067794e41a290075618df95eb0e": {
     "views": []
    },
    "5344248bcdae43e1a5c69e110d6c392e": {
     "views": []
    },
    "536ceb00c7a04df0a810db8aea9f56ac": {
     "views": []
    },
    "536e1f3e7fdf4ce790e4f40feadcfd91": {
     "views": []
    },
    "538f10efbc0f42729f64a5fc640c43e8": {
     "views": []
    },
    "5392bb3139ee4269a17e097dec78887a": {
     "views": []
    },
    "5395899f868740b9a1ad237f24f8002f": {
     "views": []
    },
    "53b8b2670ee14f00a0d9570192bbc66a": {
     "views": []
    },
    "53cab2290a1f496fb9d0a45db0fee103": {
     "views": []
    },
    "54156b6a0db5421ab060e59ef69fb47e": {
     "views": []
    },
    "5416a0d325b546e89e8c03f8fc5aba9e": {
     "views": []
    },
    "54173b16eb9643a1b843cc43b56fe061": {
     "views": []
    },
    "545e90376661491ea68519953f974315": {
     "views": []
    },
    "54c675f3a5c74921a2836ad7feef7465": {
     "views": []
    },
    "54e33555394247fb849c1168220f5434": {
     "views": []
    },
    "54efddbd78f54d848adfdae6c73ad8a1": {
     "views": []
    },
    "556fd3e973b142c29a31381e316d4285": {
     "views": []
    },
    "55749c9807304256b6e1f62c5912a4d3": {
     "views": []
    },
    "55999a33594b477a96a2d39d1aaa6b29": {
     "views": []
    },
    "55c1fcba95c34cda90a33707a0b41cab": {
     "views": []
    },
    "55c662de399248f8ab316c665140256e": {
     "views": []
    },
    "55d32051d97c404cba82ff44755c453b": {
     "views": []
    },
    "566e5db07a2644e8a17158699cd1d1fd": {
     "views": []
    },
    "56e89c869ba947bc8d8252b7616973ab": {
     "views": []
    },
    "5707008d79c64f7a8cd2d602bb7258bc": {
     "views": []
    },
    "572adaf6b5ec4121b33340304babc217": {
     "views": []
    },
    "57684b1242524ec2864940cce4d35e33": {
     "views": []
    },
    "578e665851f44038a46ac9dd3ef39ac5": {
     "views": []
    },
    "57ad5e8df4a74932aae32c1298bef47b": {
     "views": []
    },
    "57b5d4e8c6854c77ba89acdfe60ace67": {
     "views": []
    },
    "57bfac957d024e26859c2d774992aea1": {
     "views": []
    },
    "57f1daa68778430295f3b98af197d870": {
     "views": []
    },
    "581f50e0226b4eeba9d17ec83f0709e8": {
     "views": []
    },
    "583918296bc2421596d2c2359082eebd": {
     "views": []
    },
    "58904989af3b453f8bbb9380fca917e2": {
     "views": []
    },
    "58916e3996494f1aba02734a772d7380": {
     "views": []
    },
    "5894316f7d2d4ab485601132371fb703": {
     "views": []
    },
    "58b18ed296f946c790797998a2af66ab": {
     "views": []
    },
    "58bb7c5aadcb4c18856a99d3bf95b444": {
     "views": []
    },
    "58dab49736ed4d96acf642a91f9f20dd": {
     "views": []
    },
    "58e91bfe9c364353b8dc1cadf4f2661d": {
     "views": []
    },
    "58f7081050a04152916f8ff3da6bee3d": {
     "views": []
    },
    "58ff44b4d49945cca89f1b6ff52508ba": {
     "views": []
    },
    "590e0a4da3c948c6bda73e841d9e88c0": {
     "views": []
    },
    "59167798e5d643cd84023f24e1d0ac9f": {
     "views": []
    },
    "592db280e90f40d6921c7c1ff57652fb": {
     "views": []
    },
    "5947b38796a94168bbe576f9266693da": {
     "views": []
    },
    "594c4c5d3fcf469ca3255064e3e9f8f7": {
     "views": []
    },
    "5958cbfa3a334842b0eaef2bd8cd53ab": {
     "views": []
    },
    "59981a3dd21e498d8e73a7eec6080d2f": {
     "views": []
    },
    "59a85fc044424447a6808cb96e7d5a59": {
     "views": []
    },
    "59cbcf17bd06454e875d2edf98325616": {
     "views": []
    },
    "59fee08801eb43659824ce278e0d4949": {
     "views": []
    },
    "5a06ccbc4d4e44f0a92a6e1ee0ed0c28": {
     "views": []
    },
    "5a09e188a5664c449f62bb1c200dc2b3": {
     "views": []
    },
    "5a4b0d966832490fad6bab3837cec486": {
     "views": []
    },
    "5aa51c1b4f524399a570bba60b0f4abe": {
     "views": []
    },
    "5ab604569e3c4eb4926bdd972c47fce2": {
     "views": []
    },
    "5ac2977fcca848589375779823369c00": {
     "views": []
    },
    "5ac3f6118ad34c3eb92731954ec6f6d9": {
     "views": []
    },
    "5ae85a99475249a3a649012c3d68664a": {
     "views": []
    },
    "5b0409fefc2444c1890e6dcf33bdd003": {
     "views": []
    },
    "5b265366119542e185b2e7eae54a2e13": {
     "views": []
    },
    "5b4babfd1d344e8ca358d1ab94a9bb68": {
     "views": []
    },
    "5b530085ce59424a8770f64f8bfd5822": {
     "views": []
    },
    "5b6ada2f40cf4eb6a1e09e40f2d2a002": {
     "views": []
    },
    "5b7092c4883b4a5e8644af457b514d60": {
     "views": []
    },
    "5b86aa4afbad40c196cf0595aea309ec": {
     "views": []
    },
    "5b89e04c85bf427794b667042b72b489": {
     "views": []
    },
    "5ba07d91e6104ccdbf9b355fc9341716": {
     "views": []
    },
    "5ba4d87c3ed6475cb19287c3274c1b28": {
     "views": []
    },
    "5bae63ac6a0c43c2a4ce13c4f20d1860": {
     "views": []
    },
    "5bc0079f816a4c1e9272141009d69ccc": {
     "views": []
    },
    "5bcef628b5bd40b893ca266ce1c3a771": {
     "views": []
    },
    "5bd7e742549840ec91deee91d61e906f": {
     "views": []
    },
    "5bdc18908f7f40a89cee5d0da0def994": {
     "views": []
    },
    "5c0f7c8793954e8fbb10078f0298f052": {
     "views": []
    },
    "5c3403bafd6c4e8cb494eb9e8803835a": {
     "views": []
    },
    "5c3c6f900ed64c7a9686aa846d156edc": {
     "views": []
    },
    "5c8bc17504a245089333dd825bae8fb7": {
     "views": []
    },
    "5cd02dfea64e44889c8d141ef54a55e0": {
     "views": []
    },
    "5cfb192275aa4acfa8d42c1e0063bb56": {
     "views": []
    },
    "5d316570e17543efae66afbc55c63355": {
     "views": []
    },
    "5d468692094e4b49a12bca1486530975": {
     "views": []
    },
    "5d653c75bb194f1eaa9d02f52ac76dee": {
     "views": []
    },
    "5d7ccbb4cb424ea6a8567074f60b853a": {
     "views": []
    },
    "5d9a5173e99440e4a984cbbfd50edcea": {
     "views": []
    },
    "5dc4557ba6a64d72b29c3306313db298": {
     "views": [
      {
       "cell_index": 15
      }
     ]
    },
    "5dec8cd29beb4283be7d900b347c5ab0": {
     "views": []
    },
    "5e06e8bb3f2748e29d5d888fba6b8c91": {
     "views": []
    },
    "5e65ebccb2494bb0b2e520604f8def51": {
     "views": []
    },
    "5e690e5c0f364f6b96d31889bbf48ff3": {
     "views": []
    },
    "5e81157d20e0449d8605186afc394bb9": {
     "views": []
    },
    "5ed1ba08f5b548519c6af6cb864f4a74": {
     "views": []
    },
    "5ed6b737aba4413797ae6cab2e09b201": {
     "views": []
    },
    "5ee15d5fd18d4418bf6976795dcbc075": {
     "views": []
    },
    "5ef88d44d8ac403bb10506f3ebdb8285": {
     "views": []
    },
    "5f369674d6e94bb49e936add952fd19d": {
     "views": []
    },
    "5f493e6826ad4a59be9aba6e23ee734f": {
     "views": []
    },
    "5f6d22241dd343f5a1999a8e4a5af755": {
     "views": []
    },
    "5f7cbf9e7330431f8ebf05d2afd402af": {
     "views": []
    },
    "5f867fb9f7be42aab846e18ae00ded5d": {
     "views": []
    },
    "5fac1d0c001749bf861a0e852577f094": {
     "views": []
    },
    "5fcd2399bc5140c7908e3a740f60dd9b": {
     "views": []
    },
    "5fe8f113799f4a19b66f3c247152e02c": {
     "views": []
    },
    "6021aa44070d4b84a451fcd2c86b1cd4": {
     "views": []
    },
    "602a14d9ee65481ea79ef4cd32a71191": {
     "views": []
    },
    "6033d4d7d82948b5b2cef6c7e2d7b669": {
     "views": []
    },
    "6165b470b1d24dacb1886dbab2e915af": {
     "views": []
    },
    "619327f7d65b4daea217c162b088cda9": {
     "views": []
    },
    "61d20f3f4d8a468981f755ab7ee83a23": {
     "views": []
    },
    "61ded98d66bd40a19fd50a7c2068bfe9": {
     "views": []
    },
    "6209b05aa97b44d4abb7fdc965e8b982": {
     "views": []
    },
    "6295ef8fc7664f168dece4f37431eccf": {
     "views": []
    },
    "62a001cde72e4ad1beed163e43c607c5": {
     "views": []
    },
    "62b9db671dc243f0affa6997a949a76f": {
     "views": []
    },
    "62c57aeb968e4461888abf85541893b9": {
     "views": []
    },
    "6313e5fc05e041d2b9cba5b42c355f71": {
     "views": []
    },
    "6326e158a8da45fda1b06d4f492eace6": {
     "views": []
    },
    "635dc4cda6154e0f897c38b3685c1872": {
     "views": []
    },
    "636044ef13874de4b4bb677f146adee5": {
     "views": []
    },
    "6362e238491b4a84acd7c8509acbcacd": {
     "views": []
    },
    "636b3344c89b48d5874676f1ecde9367": {
     "views": []
    },
    "63a0b3cbea0e42ce9ae5353f10219e2c": {
     "views": []
    },
    "63a953ae257745289985bf202cc263f4": {
     "views": []
    },
    "63bf6e0aff0b4de28b035dad9d12ecb8": {
     "views": []
    },
    "644ef0df10d847b1ab715a31eb66afa8": {
     "views": []
    },
    "645cae6f43d346588e692308d0653ca4": {
     "views": []
    },
    "64fca8eec2e0478eaf893900f22b1263": {
     "views": []
    },
    "65189c310e164e13a89838afc912db46": {
     "views": []
    },
    "6565cf7753e64e3d97ce254568a3de40": {
     "views": []
    },
    "6602c5d790b647c2b581fb1b67a14d5a": {
     "views": []
    },
    "664b0764447d4c90a0589826a0f6adca": {
     "views": []
    },
    "66a13ae65d2b4c44b789f7937ed2731c": {
     "views": []
    },
    "66b9ad6580ca4bddb9d1773e2725cd28": {
     "views": []
    },
    "66f84128ecda4857a4c1078f94f02543": {
     "views": []
    },
    "66f88fdd4e8e49289d03a28dff2d6e27": {
     "views": []
    },
    "6728474b166244dd85ec611132948ba5": {
     "views": []
    },
    "675ac45d2a1d49fdbc6a6c61bab483e3": {
     "views": []
    },
    "675fdf2acb3d445aa720c1e61347a879": {
     "views": []
    },
    "676391600497438cb4be628e28482f5f": {
     "views": []
    },
    "67863871822d402d9310c2238a044329": {
     "views": []
    },
    "67c01a3de54e44ada00a1214c995d7bd": {
     "views": []
    },
    "67e83c021146457fb11334f41d5ac5b6": {
     "views": []
    },
    "67f970731c294d34ae3ba2e8af76d2cb": {
     "views": []
    },
    "683b4a0add124b75a72b71dff9df5ce1": {
     "views": []
    },
    "6840fc40004a44329909f06b0b0aafcf": {
     "views": []
    },
    "6851d2a4695e45bfa3c59d9c7f22ee15": {
     "views": []
    },
    "6885961c1c4c46699b74f98e7e56ad8d": {
     "views": []
    },
    "68c4cfc5fd8f4de288a95c28b7201425": {
     "views": []
    },
    "68cf5385262b4f83ac74aeead9322121": {
     "views": []
    },
    "68d37160d66340f0abc79dd05b58fc65": {
     "views": []
    },
    "68d7339d63d24c4cb6b87877a1e17c87": {
     "views": []
    },
    "68da568984e2450dbb77406401131d2e": {
     "views": []
    },
    "68e4318500a04f1c83e6436323648074": {
     "views": []
    },
    "69041a4b3b384b39a1dad68c9184a9e6": {
     "views": []
    },
    "693f9da7d3774cd4ac71d4109566401e": {
     "views": [
      {
       "cell_index": 25
      }
     ]
    },
    "699ac243e21841b1b2e23235f05bda8e": {
     "views": []
    },
    "69fb1f3b84e945d9a477ffabe79a711d": {
     "views": []
    },
    "6a9f6882ce014d9a80a4a927f1a8885e": {
     "views": []
    },
    "6ab126c0ebbe416492d62dd48bafdb1c": {
     "views": []
    },
    "6add18fdc69241509576033dbf96b60c": {
     "views": []
    },
    "6af534e30797463a89a6ca832e4a54ec": {
     "views": []
    },
    "6b0b26a05067484b9bdf41155cc33d16": {
     "views": []
    },
    "6b2003790cfe4ee696dea2662e7edad2": {
     "views": []
    },
    "6b3d79e9b36a466cb545a24bcdb0ee46": {
     "views": []
    },
    "6b586d2807cd4927a63e0ae9ea2d22f0": {
     "views": []
    },
    "6b75a2690e0a428d9f55d2d329fb8756": {
     "views": []
    },
    "6b75f05840024db898b0b192894d2df3": {
     "views": []
    },
    "6bdf850500ad46ce8c2c0cf165f9008d": {
     "views": []
    },
    "6c0460c3fad347aa9c5c64390800c082": {
     "views": []
    },
    "6c0b5ffa3eb0449e973459f23eb30311": {
     "views": []
    },
    "6c103dc455f449cdb724c219f6b77f8c": {
     "views": []
    },
    "6c37ca30ea4941cba6514c6b5efdb358": {
     "views": []
    },
    "6c386a536fab4c999456309a1e40d888": {
     "views": []
    },
    "6c41421e26cd48df9b0da441faf424f0": {
     "views": []
    },
    "6c5b549e2e064da098227a56fc86aae7": {
     "views": []
    },
    "6c64377d9d2e43748f5731b2ab6193c3": {
     "views": []
    },
    "6c767663ee274115ac658da19385fb90": {
     "views": []
    },
    "6ce7d3557a9a4f478f3167faf4279f4b": {
     "views": []
    },
    "6cea4ab9be264646b97e536214222b72": {
     "views": []
    },
    "6d183f599a2e411683ae7283acf6fbd8": {
     "views": []
    },
    "6d2ff424667c41c8b9baae64bd403646": {
     "views": []
    },
    "6d5ef81b4424443d99133fe1842b7585": {
     "views": []
    },
    "6d61f1bc53324bbcbbfcbf087719a2f3": {
     "views": []
    },
    "6d8e067632534569af9f7ff992557bdd": {
     "views": []
    },
    "6d8f1b0569cd45718c67a694d89937db": {
     "views": []
    },
    "6d964945d345470980f9084e5be8053a": {
     "views": []
    },
    "6d98c7bd92a344df93bd6e5ace1623d7": {
     "views": []
    },
    "6d9e5ff2b99f4ce0a0531f2bc48deece": {
     "views": []
    },
    "6daab783c5194fd0bc511c6090a9f0bb": {
     "views": []
    },
    "6db60fc684ee483cb020f02029e6b76c": {
     "views": []
    },
    "6db6cd34ab314951a9ff38666c78b459": {
     "views": []
    },
    "6db8de36be9847bea7f0cbeb5b22daff": {
     "views": []
    },
    "6dbd1ed3a4f24c0fad34f8ee2689e67c": {
     "views": []
    },
    "6dded5b8ddf941f694e7ee6a3d56de38": {
     "views": []
    },
    "6e2d901c11e04c0abdc53b332258c659": {
     "views": []
    },
    "6e7495b2618348aa807432993fe56d10": {
     "views": []
    },
    "6ea25122a2dc42b5b424a3854018164c": {
     "views": []
    },
    "6ee0edfae754494a838dbf90804f5579": {
     "views": []
    },
    "6f264c0a84f1467baddda1bb79cac373": {
     "views": []
    },
    "6f773cbd595c49a08421afd629020b05": {
     "views": []
    },
    "6fad8810121b45e58459752238e1d27c": {
     "views": []
    },
    "6fd68c0e50874c5481d222a6c6c8d766": {
     "views": []
    },
    "6fe96024c12847d1abe88e0e12e1e31d": {
     "views": []
    },
    "6febe01d87404284bb26e297d98f430d": {
     "views": []
    },
    "70125b41b42b410e96443cf6f0d7c21a": {
     "views": []
    },
    "701911b04f084e168f97820492b24179": {
     "views": []
    },
    "7034c6acad864052ac3613ae6325e957": {
     "views": []
    },
    "703a04103af8483690165781272c2cbd": {
     "views": []
    },
    "7070ac7826ac4f27b307ee7768d62e58": {
     "views": []
    },
    "709866ad97654689aa70cd534d94a5c1": {
     "views": []
    },
    "70b27bf870034f7387492a58dfaeb2e1": {
     "views": []
    },
    "7105e4242b6d4e69be318eb3d4b14949": {
     "views": []
    },
    "715f38bcbaf14814948ce86a431bab54": {
     "views": []
    },
    "71651e72839f4943a5ed92e9b78bce89": {
     "views": []
    },
    "717a8fb4b0a64c5485cce304b0011193": {
     "views": []
    },
    "71c03f799776418b8cc89101dde7c295": {
     "views": []
    },
    "71d620250c1a46ef8fd366200befdbf7": {
     "views": []
    },
    "723082f6c6924930803966ebac01505d": {
     "views": []
    },
    "726920e069504bc583e23743469b4178": {
     "views": []
    },
    "72764c1e577c4616b236f6db35ab2f21": {
     "views": []
    },
    "72d43b7e3f3d4751be16581680a2a3fe": {
     "views": []
    },
    "73347915ce034bac93ddb0c45a114795": {
     "views": []
    },
    "7345a66d4a624f18bddbf6cf94d71e6b": {
     "views": []
    },
    "737083e16ca04be2a9dfa474b418a5ae": {
     "views": []
    },
    "73772012f0684ed6aa68bd0812bfd4a4": {
     "views": []
    },
    "745003e641804ea7ae10b885e418785f": {
     "views": []
    },
    "7459b97c72dd45feb2d8d0a72b11916c": {
     "views": []
    },
    "746eaba797bb4b7fb20590d3afec9212": {
     "views": []
    },
    "748959fd70334b29af1da30478ae5264": {
     "views": []
    },
    "74a72e06265d45cd92df3133c8ab5faf": {
     "views": []
    },
    "74cab862b0f14d8380f0885c10107760": {
     "views": []
    },
    "74cd473ab3644a6eb9c1bd1493060f3f": {
     "views": []
    },
    "74d4cfa9ca664e3bb024032aa25cfbbc": {
     "views": []
    },
    "74e23b476e1246668ade727a6abaf62e": {
     "views": []
    },
    "7503d984db994ffca844a61195d9642f": {
     "views": []
    },
    "750fc005faa94f5590d373cd9130fbce": {
     "views": []
    },
    "752ccd2328d44b92979197c9bfa7f4d8": {
     "views": []
    },
    "755f9b1224cd49398f8bc962e922da0d": {
     "views": []
    },
    "75c1b5de16e84a02882f40c24575f250": {
     "views": []
    },
    "75c33e3b842a4f0b9121ba8077b3f14f": {
     "views": []
    },
    "75d6407305fa446f8905bae1b3139259": {
     "views": []
    },
    "75e88bdaca19452998426124e6d6e112": {
     "views": []
    },
    "75f30c595cc945e29757c71a9929b364": {
     "views": []
    },
    "7616540ddeb04c72abef4273c8feed26": {
     "views": []
    },
    "761a70a8c610473ca9e1d5320a66c357": {
     "views": []
    },
    "763d1402be2046f992f5e827b7b1b35d": {
     "views": []
    },
    "766f265c1e4d48a4bf59b7877f09f397": {
     "views": []
    },
    "76b5e72bcc814e6eb0312353c0146214": {
     "views": []
    },
    "770afe2c28bf4128b0e6913051814d85": {
     "views": []
    },
    "770eacab635d4d4c95ed0f38c6a23374": {
     "views": []
    },
    "7762c8101df94321af91e675cdcef88d": {
     "views": []
    },
    "77677e9184a44c64967a07bc74864d07": {
     "views": []
    },
    "777ac34d1e7748db8155b3c86f932377": {
     "views": []
    },
    "77c3da1d24654930a474cc9ee67858b3": {
     "views": []
    },
    "77c78be8a6b743b0932fd5f64a852888": {
     "views": []
    },
    "77dd34bffc9f4a1586142d13734197c4": {
     "views": []
    },
    "78026e68266347d2852b0114d3aa622f": {
     "views": []
    },
    "783b9aa6a8c944eabc6b7577f68059da": {
     "views": []
    },
    "78478b27c7464dc4abfe67c32f2c47c6": {
     "views": []
    },
    "785abc5346ba48eeb7e7ef8476b84874": {
     "views": []
    },
    "786b8cdcacc14ad2ae35cfa329dd6759": {
     "views": []
    },
    "787a03b6e7874e71816570579ef6c449": {
     "views": []
    },
    "78a1e10854404a4b91ffe54945a72d5f": {
     "views": []
    },
    "78b568263aa84c09a7de2efd62ae5af2": {
     "views": []
    },
    "78bdb8b4a35945f99e0460b302670f4c": {
     "views": []
    },
    "78c1dd8d506d4f20aff8d66e5a29f150": {
     "views": []
    },
    "78ed498bbc5a4bed8888cd3aa6e85d40": {
     "views": []
    },
    "78ee0e9d1db742adb2be8107fa821dc5": {
     "views": []
    },
    "78f602fa68b3480891a4020f7cbc4efb": {
     "views": []
    },
    "7900e12135b140a788c675252eaa810e": {
     "views": []
    },
    "79366a5dbcbc44f196f292a8f95af867": {
     "views": []
    },
    "7956e6adca4a45389c77de023dd3d448": {
     "views": []
    },
    "7978b687f8d24c98ac24ed87c8f13474": {
     "views": []
    },
    "79aca454449240edb8c584df21ba19de": {
     "views": []
    },
    "79caf08777384f55b3c5b2c61096c38c": {
     "views": []
    },
    "79d05295019f4f0f96fc9fd4e58ff3c4": {
     "views": []
    },
    "79e1ead3331d4d21b4cba75e7d2a7ffd": {
     "views": []
    },
    "7a00f3598ef04b338406e0cffdf01f4e": {
     "views": []
    },
    "7a0feba27ad042cabb471eed7ce74150": {
     "views": []
    },
    "7a2536d5b53b47518314752aac24c8b0": {
     "views": []
    },
    "7a3b3cfc2f594ee89b61dcc8677ef7c2": {
     "views": []
    },
    "7a541dd7503c466e8db97f7d657b5c24": {
     "views": []
    },
    "7a646e5fbdca4439bae61517ec6cee21": {
     "views": []
    },
    "7aad416e8c2e4d65bd16da1a561f7a3b": {
     "views": []
    },
    "7aaf8e022ef042b7a8dd8d573d9e9157": {
     "views": []
    },
    "7ab91185f58b4526a1c3c77b12729d55": {
     "views": []
    },
    "7ad500be37034ccb8ca81ea4a527d966": {
     "views": []
    },
    "7ad79bc695744363804d885e853e7734": {
     "views": []
    },
    "7ae1f674a7864baa87e882c2fec92a83": {
     "views": []
    },
    "7ae2f043fbd646ed99c7ae8cb30a86d6": {
     "views": []
    },
    "7b05ea4d8fd64c569d4389b3e16b1c23": {
     "views": []
    },
    "7b2f3bc6bc8e4618a5f416abf7c68d71": {
     "views": []
    },
    "7b56511df2b44a96a4de9bf89e0b9c8e": {
     "views": []
    },
    "7b6e54299aa342c39d5da836ac2a81ce": {
     "views": []
    },
    "7b7dcf9ee75347ddb25912e7679ae294": {
     "views": []
    },
    "7ba071aa86894c1f856ddb669e40ba2d": {
     "views": []
    },
    "7bc187acbe6747b9814ebd6be21b0532": {
     "views": []
    },
    "7bc3abecb4db4152903f311b3c839c55": {
     "views": []
    },
    "7bdeea7d76404163b3db37a0d9ede4a9": {
     "views": []
    },
    "7bf4be95a9934466b2c0fcf94ee49db0": {
     "views": []
    },
    "7bf782fa47d44a27956048e51f5af2fd": {
     "views": []
    },
    "7bf7dedc713b45d4a35c6ea8455e4db4": {
     "views": []
    },
    "7c29207163e94098903ac3e8c2600376": {
     "views": []
    },
    "7c2c6560960e46dc8c4a7e6294e36936": {
     "views": []
    },
    "7c37864b4c8b47c3b24b7fa53000bf49": {
     "views": []
    },
    "7c4297d2087f49d1861c0974aec4079f": {
     "views": []
    },
    "7c50e44a2973406b8eccff4d51ffa11e": {
     "views": []
    },
    "7c58a6126fb947d19c1f1ac8ed501f2b": {
     "views": []
    },
    "7c747489567643ca94ccbf2b844e0577": {
     "views": []
    },
    "7c74c9e0020e4c7f97936e8a56a5fe1a": {
     "views": []
    },
    "7ceeb90176f64007a68b0e0f2f57f337": {
     "views": []
    },
    "7d1de4b7d4824736a668163829fd8bdc": {
     "views": []
    },
    "7d29822b43524c818c7ac4ace5426f51": {
     "views": []
    },
    "7d7c1108495d4ae5914a18e26e70a18b": {
     "views": []
    },
    "7dabf6f5fc6848a09c9e90fa82f63e54": {
     "views": []
    },
    "7dbdc8bd84a64183a9f557591feb7ac7": {
     "views": []
    },
    "7e04f96ecf5346168cba77f4cd845268": {
     "views": []
    },
    "7e07b0dc805d44e9907e396826774824": {
     "views": []
    },
    "7e1e1a7a50fb490296ba734fc29e17c6": {
     "views": []
    },
    "7e308ad6bfe4495f935f383e546bc353": {
     "views": []
    },
    "7e40736e1f7f4629ac3ec0a58132cacb": {
     "views": []
    },
    "7e5744bb88164b3aaaa364fc2543273b": {
     "views": []
    },
    "7e6660c0b3524542a0a69bf1fcffe4a0": {
     "views": []
    },
    "7e964514f15b42f4a5459b3186c4f8bc": {
     "views": []
    },
    "7eba72c689d24f848c2562995b3d1ce0": {
     "views": []
    },
    "7ec55735f5e14180ad6ea2d97a176ba8": {
     "views": []
    },
    "7ee9e3bbf67f4b84aae06bc44b082847": {
     "views": []
    },
    "7f4f0044607d44509313d393c389ebf6": {
     "views": []
    },
    "7f6696d1b547475f8494ac09423f71d1": {
     "views": []
    },
    "7f8268b4e29942699458a53fc178d658": {
     "views": []
    },
    "7fda7da636fa48deb139a0ca8091fcbf": {
     "views": []
    },
    "8019ee43776844de981db45cab064036": {
     "views": []
    },
    "804c301fb82140b09b244fbbd7bf287e": {
     "views": []
    },
    "8053684a131944479774a0db74ab8bb8": {
     "views": []
    },
    "80591cb2a2de4ff994a9fb45945ce6d4": {
     "views": []
    },
    "8079daf488ba49f890238c15bce5a043": {
     "views": []
    },
    "80970a91b84b4f47837b3e23a3d8179b": {
     "views": []
    },
    "80be74d94171432aa8e736a4de71012a": {
     "views": []
    },
    "80d47c2477184f6ca687f836619cbc3f": {
     "views": []
    },
    "80f0f5810516492f94785ec2337401e1": {
     "views": []
    },
    "813d4c9afbcb4f97bb9854dec892a05d": {
     "views": []
    },
    "8152c8639edc471d9ba4b827832c16e1": {
     "views": []
    },
    "818847d7596f437fa5dc118d744ea046": {
     "views": []
    },
    "819b4b780a354ed19a7212efea0b6c13": {
     "views": []
    },
    "81c5e94cba14444c90eb1021ec73e3d5": {
     "views": []
    },
    "81c75bd81c73433c93a7dc5338ce72e7": {
     "views": []
    },
    "81d9980fc5fa40a1ba0697ef783626d1": {
     "views": []
    },
    "81df2ee133e145f3921d23e2fda684d9": {
     "views": []
    },
    "81e7efd814ad4cd59aca74c9b4f3c44f": {
     "views": []
    },
    "81f4fd691c04420eb50931b0b28468e7": {
     "views": []
    },
    "826b2f7ca0184056af0a08fccbfba9a4": {
     "views": []
    },
    "8274b71c2ed948bbacbb36d90f661b15": {
     "views": []
    },
    "8297e2d9d6d743f0ab5d313a6af7cb18": {
     "views": []
    },
    "82d33e366f4840ff93748ca2881607d6": {
     "views": []
    },
    "82da5152998b48b895b86b8758f68d64": {
     "views": []
    },
    "830090d74d224fc7aea1293f89f42082": {
     "views": []
    },
    "8314b6338e46484fbb0bf1a29b1579c1": {
     "views": []
    },
    "831f291982214ee99b8e08d1c3990c85": {
     "views": []
    },
    "83904604344544b3bc6a73480348629e": {
     "views": []
    },
    "83b2a9a4c42e4d28a2667a4ab4e62ca6": {
     "views": []
    },
    "83fa892eac0043aeb4651c37001377cf": {
     "views": []
    },
    "8416ad99a6cb42c2b39665530e2d892e": {
     "views": []
    },
    "841f700102554521a0c82cd809ddf276": {
     "views": []
    },
    "8427890a6f9d409384103abe41c322eb": {
     "views": []
    },
    "8478b2cbab554cbbb549213a585ffe12": {
     "views": []
    },
    "8482365af01a48869cb14762957105f4": {
     "views": []
    },
    "8493db5ff621403d86df8399f107ffae": {
     "views": []
    },
    "84fe6b0588094bcaa5dadab8c5163a90": {
     "views": []
    },
    "853dea4b0a964f97b51d4733c0883111": {
     "views": []
    },
    "856f411cb8624bb7b3a22a34db7338c7": {
     "views": [
      {
       "cell_index": 23
      }
     ]
    },
    "85aff3d25a6b45b4a745e44487565773": {
     "views": []
    },
    "85ba2c2d9e5747b78059cbfc384e73bc": {
     "views": []
    },
    "85c22e9bf95040fabd1fd59ef9935702": {
     "views": []
    },
    "860d200a61b04f90ac8b4232e1d7d6bb": {
     "views": []
    },
    "861aff4bb6bf43c59aebce5b723c8976": {
     "views": []
    },
    "8623dbe2cd8847299050148f758bbff8": {
     "views": []
    },
    "8665f6cbae0947edaba16787fb7f4f7e": {
     "views": []
    },
    "86bdc05a4dc34999abdff1cdb2310ec7": {
     "views": []
    },
    "86c52c8ee5e44b4f915049cc74ba3f4f": {
     "views": []
    },
    "86c7003550d845e29fa86b90b21747c4": {
     "views": []
    },
    "86ff6f25ee4e491194b27881b09b2d78": {
     "views": []
    },
    "870ece8919d443118d46849d6254ccda": {
     "views": []
    },
    "8711933136aa454089c5d737fc67f6a0": {
     "views": []
    },
    "87264168b1d54eae90ff3712f33a0327": {
     "views": []
    },
    "873894991ad04a54a481c3da1da0e4f6": {
     "views": []
    },
    "87a94331bb6b4162a291adeb392d2925": {
     "views": []
    },
    "87e3469c66794c8b9f47eccf6d413f33": {
     "views": []
    },
    "87e5675d5a4f40748fcd620de773fee6": {
     "views": []
    },
    "880ab8809cc74aca825ab70c395e916f": {
     "views": []
    },
    "880dfa5d273f4185b48c4d48d5457412": {
     "views": []
    },
    "887fbf4654074b8f91424ef1d75465e8": {
     "views": []
    },
    "8883ba4a6eb043389d1bdc74efcbbf8b": {
     "views": []
    },
    "88ad30aad12f4b9ea6787d9d6372bbc8": {
     "views": []
    },
    "88afe8db0aa44c7ab5d0f1003dc694ed": {
     "views": []
    },
    "88b038d3005e49abbacaf375345a5014": {
     "views": []
    },
    "88b4272ea3174d78bad84480eca5d7f2": {
     "views": []
    },
    "88b812e879e544dd8ac257d0214c931c": {
     "views": []
    },
    "88c3fce617b145af828352afb7a22dd4": {
     "views": []
    },
    "88dfbaeb5bb84a0cb514cfccb74520fe": {
     "views": []
    },
    "88f355c6d2cd434e82554fa59e2782ad": {
     "views": []
    },
    "89001d410b04433fa5b5edf1f73f2936": {
     "views": []
    },
    "891005eb6fbd46e4b042c92f050428b7": {
     "views": []
    },
    "891502e0007f4e26b6744ca899896f27": {
     "views": []
    },
    "8939a0b0e0314daaaa5b67f9b56ed2d9": {
     "views": []
    },
    "8950da88f3844cb6a298b466ea5347a6": {
     "views": []
    },
    "895cdaf1f1934e34a0addf3726e20df5": {
     "views": []
    },
    "89c80ed899ac4d658a23e78632fe9950": {
     "views": []
    },
    "89caace8e01349b4a12e4b364f6b5240": {
     "views": []
    },
    "89efbd0328d24e16b289dfe9fa6a8ad2": {
     "views": []
    },
    "8a0c40f3775640118a7be53af360b59a": {
     "views": []
    },
    "8a43a1ec5d434220b0984cd480df20d8": {
     "views": []
    },
    "8a702875f9d9443291f3bc38602d0b38": {
     "views": []
    },
    "8a737d6760994bbe843de17fd64f2030": {
     "views": []
    },
    "8a94ca89bcd940e4b068ce596b260b0b": {
     "views": []
    },
    "8ab08c4d6b4745d0acd1079e7682cbc6": {
     "views": []
    },
    "8ac81d4589b546308b20793980b6ec91": {
     "views": []
    },
    "8af6987ca9a546acb0a5fa5e3f60cda1": {
     "views": []
    },
    "8b071ff59e1d40e38e10119071596256": {
     "views": []
    },
    "8b11d81fa8094b76b6b83c6ea9c468d1": {
     "views": []
    },
    "8b519de618534ed29e249663d3d2a821": {
     "views": []
    },
    "8b56fe1d755c447f986d5bc12eac077c": {
     "views": []
    },
    "8b5aa6adad1c4a449a0d672b687b7c47": {
     "views": []
    },
    "8ba34072aede4e06bb19a568e0b82d8a": {
     "views": []
    },
    "8bb8bf78cd77425aa3aa6173d679171b": {
     "views": []
    },
    "8bc12fa8f4e24685b1404d59a1946223": {
     "views": []
    },
    "8bdca1cc9c864ee2aebbe08b4d3a0905": {
     "views": []
    },
    "8bf439390c2c462db6d99d469907765b": {
     "views": []
    },
    "8c4dd55a5a2c49869e0eda3e8ee95c20": {
     "views": []
    },
    "8c55750fc6284865bb63f3584c8e6a2a": {
     "views": []
    },
    "8c61800f28624a0bbdd5ddeec1d78f68": {
     "views": []
    },
    "8c7c382009104e73a3d860d76c7afc1b": {
     "views": []
    },
    "8c837168f261466eafdd731829646b8a": {
     "views": []
    },
    "8c91c55d56dd42f2979ef06abc34945a": {
     "views": []
    },
    "8c963df119ee45b6a828bdea72a55440": {
     "views": []
    },
    "8c9aad87fd0f4cd489f8ce64bafbedb7": {
     "views": []
    },
    "8caacc50a75645d2a7cc3546cc868ff4": {
     "views": []
    },
    "8cadb3a61d854e7b9253f291364324ed": {
     "views": []
    },
    "8cb62fc0464f406c9a32299ceae87bd8": {
     "views": []
    },
    "8cf94788648042b1a03cf8ea1cd418a1": {
     "views": []
    },
    "8cfafb8083824edb92c3435bcc89244c": {
     "views": []
    },
    "8d049798f39b4c23a8a53c462204ceb9": {
     "views": []
    },
    "8d22b9eeebd540cf9721ff5f6737a978": {
     "views": []
    },
    "8d3dbe4a653d4cb282f96dd4f46a89a1": {
     "views": []
    },
    "8d55c5d6097e4a12a242ba4d2de8629b": {
     "views": []
    },
    "8d582881a26145178af25ddb7c7a08aa": {
     "views": []
    },
    "8ddddb11fcfa4a03bec6b7b34670f444": {
     "views": []
    },
    "8de7ef85b9694a0dbbd80f2c7b63f51d": {
     "views": []
    },
    "8e0ed1fd0bcd4440ad49b971c37600c9": {
     "views": []
    },
    "8e5ab7c985a84fa7aa6420e8f3f8d009": {
     "views": []
    },
    "8e62ca4640f34b56ae121d3d5ff96bf7": {
     "views": []
    },
    "8e70ff157cdc482fb383553ef7718d32": {
     "views": []
    },
    "8e7b1ab945c642b590fa27d33832f876": {
     "views": []
    },
    "8e83b365b6c64d5aa754cb502a8fdb87": {
     "views": []
    },
    "8ec4dd99127546188b583309e994440a": {
     "views": []
    },
    "8ec8fcac98a544b1aa2729d4078606d4": {
     "views": []
    },
    "8ecd592a43f74f1f8bd15ed463a3318f": {
     "views": []
    },
    "8eda37205ac348068179d4e0d0eb71c3": {
     "views": []
    },
    "8edd64ab073e4596a82f022e75821aef": {
     "views": []
    },
    "8eecc8ce597c4096992a86023734bc3e": {
     "views": []
    },
    "8eeec679952146359f035d09e8b75a5d": {
     "views": []
    },
    "8eef358635874ff7995b7b1d2aec80d3": {
     "views": []
    },
    "8f60f3799a174b2fb62377121f6801d0": {
     "views": []
    },
    "8f6c71290ed649af84bc617f83abdb4b": {
     "views": []
    },
    "8f7ab9c3969846438b3bd11486870f16": {
     "views": []
    },
    "8f94ca203f0d4616b73bfb06f638654e": {
     "views": []
    },
    "8fc64a47575741e3af0a1d9b802a44ce": {
     "views": []
    },
    "8fd84bc17cc144558f95c91a77de2445": {
     "views": []
    },
    "90364dc2dc7d416885bc9f64100ccd83": {
     "views": []
    },
    "903711d6340b45d69285b56b31725f38": {
     "views": []
    },
    "9076e4d98dd54b16ac1824ecdcfe8f08": {
     "views": []
    },
    "90b00d2509194cc296a674cade54dbc4": {
     "views": []
    },
    "90d0d82b333d4126800489e34f58d615": {
     "views": []
    },
    "90f017917f82439ab23865c250711482": {
     "views": []
    },
    "90f93b23697f432fbcc35bdee532b8f0": {
     "views": []
    },
    "914cc6fdab2146a5863b1516d046f968": {
     "views": []
    },
    "9198eb276a214894b8fb612fb4fd8e67": {
     "views": []
    },
    "919eabfc8ea340b7867ea3a19fc5258e": {
     "views": []
    },
    "91a4ef4a53154759920d553ef11a33f8": {
     "views": []
    },
    "91b5ec0d525b44bb892e8ed4113688b5": {
     "views": []
    },
    "91b642956bc44b589d7c8a9791ee3a03": {
     "views": []
    },
    "91ee75a0919748de853c6df79bd50ef2": {
     "views": []
    },
    "91f3e3733f2e4d1c9e49d6379dfab1b8": {
     "views": []
    },
    "91feccb2f01d41289c76d1536297e851": {
     "views": []
    },
    "920b6a5702d34bc9b3c432fb41bb118a": {
     "views": []
    },
    "922941e70ca7482cacfca037f2833df1": {
     "views": []
    },
    "924ff0bb1c4c4caaac5d4df103483d3b": {
     "views": []
    },
    "926cf4c217534498adffd98e87745a6e": {
     "views": []
    },
    "926fa9669f7848e8be5b8f1538969c4f": {
     "views": []
    },
    "927164f7297b4e278ac67481f9e7e216": {
     "views": []
    },
    "92717b2e698a4a1ea65b8dc9ee0bb5d9": {
     "views": []
    },
    "928f2bc5a9874dea98e9ef637cfa7178": {
     "views": []
    },
    "93234753b05f4020bdf62265d60459fd": {
     "views": []
    },
    "9323a6cf54df4ee0aac43c6b54509d3a": {
     "views": []
    },
    "9339e40fedfb46a693f6a8cca9c5cb35": {
     "views": []
    },
    "933b5be414664ffebcdd121bc4e7cf33": {
     "views": []
    },
    "9354129a1ec342c68c6fe4024d153f82": {
     "views": []
    },
    "9369745a7deb4d059118470c3f3fb8e5": {
     "views": []
    },
    "93e1ad246d664d708f6134c652e7c8b1": {
     "views": []
    },
    "93fa29271186470eaafba963809abdc6": {
     "views": []
    },
    "93fe7534765e44fda5e84a88c5609151": {
     "views": []
    },
    "943714d325084e8c8b97976f2f048f3e": {
     "views": []
    },
    "947f36ff65154d808e73b27d109af9fb": {
     "views": []
    },
    "9497ed0c7b894371b12c34fdcd61943f": {
     "views": []
    },
    "95122bf7cb844baebb929f9c9da25273": {
     "views": []
    },
    "952274c7449145c697150c588f0be613": {
     "views": []
    },
    "9546718ada6f4108b22527b0034ee315": {
     "views": []
    },
    "957fe855903e4f1684eaa61603a05709": {
     "views": []
    },
    "9581db77044946a3accaecf6d277d444": {
     "views": []
    },
    "959457725dbd42cab17f47efdcca6a79": {
     "views": []
    },
    "95d631b3851043bfb478e77b9919973b": {
     "views": []
    },
    "95f4e3a6a8d44d6f8070ad3f98d77139": {
     "views": []
    },
    "960dffca789a4016a2f2795121e3a844": {
     "views": []
    },
    "9619a2942d6c4d658ea513e50f7e7fa2": {
     "views": []
    },
    "9639160df2244a4ca6a528402cc4914c": {
     "views": []
    },
    "964708b92d7d40e188efd027121b42a5": {
     "views": []
    },
    "9681514c1e5845f386bbd44e44964188": {
     "views": []
    },
    "968c225d679547b9bb6ab9173ba30667": {
     "views": []
    },
    "96ac6a6aeb424813bda9a2918050dcb9": {
     "views": []
    },
    "96bce7ab98cf4d3a8c672971211e6628": {
     "views": []
    },
    "975f73c2621f475796400e4434cffee1": {
     "views": []
    },
    "978333a6382942d08fd02761cf443f7a": {
     "views": []
    },
    "9784184600ee443f8776222d6eff2c2c": {
     "views": []
    },
    "97b72338a73947d688d810458eb1e127": {
     "views": []
    },
    "97bf1f5d6d91474db62949b3f3734987": {
     "views": []
    },
    "97c33d87d6534ad8af94bf68b0b19829": {
     "views": []
    },
    "97c50fde948e4f0eb2cb6d4d94e6e4d1": {
     "views": []
    },
    "97cc0e88f3754e92b4d3d61bd7ce5970": {
     "views": []
    },
    "97d5a6cb1e3748289b8a11a482000e7d": {
     "views": []
    },
    "980763e65a3e4c7eaa0a28cc6a0d5bd0": {
     "views": []
    },
    "983f530341ed41108fb91a2da251591d": {
     "views": []
    },
    "984e3248d25745a288b244453e00a75c": {
     "views": []
    },
    "9853758405fe4cebb70274a6d8dc27dd": {
     "views": []
    },
    "9877daead70c43988aac5860bfa6bc57": {
     "views": []
    },
    "98953f8fad1044c59d3b49ae10981f51": {
     "views": []
    },
    "98afce6aa3f748e3b7b2e9eb3acc75f0": {
     "views": []
    },
    "98d04bc424aa4c50942625a7b2913bc5": {
     "views": []
    },
    "98e9ac9e53a94262a166640401052fba": {
     "views": []
    },
    "9943c230ab764c089cd7a0f9b12f965d": {
     "views": []
    },
    "994e016036fe4b43967e0d248dbeb954": {
     "views": []
    },
    "997af86437254f82976d5e9aaacb4783": {
     "views": []
    },
    "997f9314dfd148c2a0e4cd4955aae0f4": {
     "views": []
    },
    "998cbabd255b4697852f267b67176c1d": {
     "views": []
    },
    "99b3052a31fd40c7ad4649752aeddb31": {
     "views": []
    },
    "99d1d6da167c4111bceb61a5ac719d03": {
     "views": []
    },
    "99d82bbbe8264fedb76aff2181b57f66": {
     "views": []
    },
    "99e0aec3532647caa25f86f00fbb4088": {
     "views": []
    },
    "99e380b35e544e7aaaf8cf944f04157b": {
     "views": []
    },
    "99f3762f3add418fa66f74459a0fbd51": {
     "views": []
    },
    "9a2c984ea5bb4be08f3d98fe4a70e2a7": {
     "views": []
    },
    "9a30303f799846ab8989c249b238342b": {
     "views": []
    },
    "9ae4addc51a64eafbcea8e57bf87740d": {
     "views": []
    },
    "9afd1960fff54f309217690bad546995": {
     "views": []
    },
    "9b0669fbd8434dcd9f74781afb3f3a93": {
     "views": []
    },
    "9b14f2a4fc3d48e683a876917babf5e5": {
     "views": []
    },
    "9b23b6d48d284dd9885b91468dfe1040": {
     "views": []
    },
    "9b3dd52755a64d7bab1f44162b192116": {
     "views": []
    },
    "9b94b9b7136649d38803161140e40466": {
     "views": []
    },
    "9bb37761545b4d5097400736ba220a72": {
     "views": []
    },
    "9bb6c30139024f248827d7ad331f3783": {
     "views": []
    },
    "9bc891ba85e144d097748369f15929ef": {
     "views": []
    },
    "9bcdff50a74848bda6f7531691a799e8": {
     "views": []
    },
    "9bed6f4b038c47119202df20b661c90e": {
     "views": []
    },
    "9bee0a8a323647e48454fa3d2e867dc5": {
     "views": []
    },
    "9c72a94b0cf74a6ba5173fb252545c9f": {
     "views": []
    },
    "9c78fa689e1b4e80bd0a8f5c41dacba5": {
     "views": []
    },
    "9ca64b0a8ea746cab0619f13445fe3e1": {
     "views": []
    },
    "9cab6a67e6e84837884f5cff1fd81c1a": {
     "views": []
    },
    "9cc225ac8d9f4089955b45e4d4ab57f6": {
     "views": []
    },
    "9cea017c5d1c4e9f8f8ee9f17ffc81a8": {
     "views": []
    },
    "9d10d1bffb124562822c6887aa8cd56a": {
     "views": []
    },
    "9d3c86ff37c74249a946ff2ef87097f8": {
     "views": []
    },
    "9d72704bfe5d484eb8d4a920a4aa7e67": {
     "views": []
    },
    "9d8d91e71a3d4ccd80f331f15285c53a": {
     "views": []
    },
    "9d9002e0ef7d4ef68da38fb9410087f2": {
     "views": []
    },
    "9d9d802686474dfbbf1e33d3ff60970f": {
     "views": []
    },
    "9da8139dd90b47ed896597219259ec54": {
     "views": []
    },
    "9df1900e25ca44a2b558e129c050ae3e": {
     "views": []
    },
    "9df352f3563344b78c1dd5588a0555ce": {
     "views": []
    },
    "9e68976c38b3419c97f6b0fb9ef7cab5": {
     "views": []
    },
    "9e8737143c9349e08d2be54b8bcdacde": {
     "views": []
    },
    "9ebb178fbf034a73b1bf5e8967089047": {
     "views": []
    },
    "9ecb891ff9f841368cc42ec1b862de90": {
     "views": []
    },
    "9ee53bb7157b41eb93d4cd1977b53154": {
     "views": []
    },
    "9f1ad31008034eab9edde26890db5602": {
     "views": []
    },
    "9f35568486b8431c87122edfc14198ea": {
     "views": []
    },
    "9f495b2916614d17b131ad04746ecc8f": {
     "views": []
    },
    "9f6daf1a652641b5908827f2cae20135": {
     "views": []
    },
    "9fa73c10a67146cca29746a5f050f3a9": {
     "views": []
    },
    "9fb16f3c810f46d29020bdbd81a03e6f": {
     "views": []
    },
    "9fc71ab3067740a2be1f271678987a72": {
     "views": []
    },
    "9fde15b3310444fc92bdb1cb277c1694": {
     "views": []
    },
    "a020e18f2f144a199e820ff306fc3e6e": {
     "views": []
    },
    "a02690cbac0f4ea39c8ea0069faac1ea": {
     "views": []
    },
    "a0297b5f0f5e4d748ffd7a65dbcb9ea2": {
     "views": []
    },
    "a041a1b9fb904cd6bacbd230c0d9a447": {
     "views": []
    },
    "a0652a1f9955480bb2e5dbab4765a782": {
     "views": []
    },
    "a06cd25891674d958f17c4b31b6add55": {
     "views": []
    },
    "a07468ec0da44a089619c1c4a4a510d3": {
     "views": []
    },
    "a07fefad92ea442aa9106a20a725bb54": {
     "views": []
    },
    "a092a83888574438b77f790b25b2a6bc": {
     "views": []
    },
    "a0b4c9779278439cbee3ab4f3f05aaf1": {
     "views": []
    },
    "a0bd7bdbdab345fb8e47234e880b438e": {
     "views": []
    },
    "a0c2fae72fdd4e09823d536af20d6419": {
     "views": []
    },
    "a1165310dcce4e26ae1903f608b5347f": {
     "views": []
    },
    "a12d64ffc80249b2941926034a34978c": {
     "views": []
    },
    "a1893dae43164f039cea88952c51e800": {
     "views": []
    },
    "a190cd3fa129444c9389800765b4d7ee": {
     "views": []
    },
    "a1a784946de84036be352e00ddd724a5": {
     "views": []
    },
    "a1d49d165dc54e7bb7188990088182b7": {
     "views": []
    },
    "a1ea766d88cd4a52883f293f1c1e710a": {
     "views": []
    },
    "a1f589c58d4c41ffa4f9cdf41d6296d3": {
     "views": []
    },
    "a233a24724a04b0daae60fdab6745155": {
     "views": []
    },
    "a2aeaaeba29d4bc3b270dcff54501443": {
     "views": []
    },
    "a3227e100178475eb280440abc48e82f": {
     "views": []
    },
    "a33a5dc0bcbf4259afeaeb29d6d4955b": {
     "views": []
    },
    "a343c963e6524020b392eaf82585aad8": {
     "views": []
    },
    "a34a8e6819704aadb5b029bb41a2d80a": {
     "views": []
    },
    "a374c9eaadea4e36b5e322eebe3b2b46": {
     "views": []
    },
    "a3b00e7c32e54c098bd534fe32235ed0": {
     "views": []
    },
    "a3b3b98a05284315bb09c6c5be09e3a2": {
     "views": []
    },
    "a3bcf449d47b47069f073f6a0fa838a6": {
     "views": []
    },
    "a3db9f09385942b584055359a64ee1c0": {
     "views": []
    },
    "a3eae2d8c2b44399a24c52eef3d42d03": {
     "views": []
    },
    "a3ee291aeb0d478f9498d74bc65d885e": {
     "views": []
    },
    "a462f465600445b39a39fca890ee5cc8": {
     "views": []
    },
    "a48aedc2ef294059adfe5129b95eb177": {
     "views": []
    },
    "a4a7873a07a74e0884e2dbeaf249f625": {
     "views": []
    },
    "a4ce88dadcbc48fda51ebab031fd8e6f": {
     "views": []
    },
    "a4d20821fd0c4e83a87cc3cc6f6eaaa7": {
     "views": []
    },
    "a4d3a6f3895f463fb25cae183fc7d675": {
     "views": []
    },
    "a4fb00880a4e4be781580abee6d2745c": {
     "views": []
    },
    "a5036ff5c67a41939a08607fc8c81afc": {
     "views": []
    },
    "a51c2f46f75e4e49bced8cc70942c857": {
     "views": []
    },
    "a54bd7714fd3458d9600d6a07a1243d3": {
     "views": []
    },
    "a5570c937e934ffbb8e523076c0940d8": {
     "views": []
    },
    "a56c9a1882ad4cbb8a15b2e36fd95151": {
     "views": []
    },
    "a5746ca5f1df4208975bf5d45d101de5": {
     "views": []
    },
    "a5845b322d46452e92b9d2efa7a73886": {
     "views": []
    },
    "a5b7528dd8ac4d1bb97738602dcc2307": {
     "views": []
    },
    "a5babd8b490e44aca252c6c626f36282": {
     "views": []
    },
    "a5cb5b232ff14bde98a7542d6814572e": {
     "views": []
    },
    "a5cb6becd68f40abbb454fd308e82abb": {
     "views": []
    },
    "a5f13655db07491db1280866859c1cfe": {
     "views": []
    },
    "a5f3cc744b964db898c476a1518ab0da": {
     "views": []
    },
    "a6109c8b95474a4cb7db069de7638877": {
     "views": []
    },
    "a62132e8122d4c0cba61f6eb53ff21fa": {
     "views": []
    },
    "a64340704f51406cb72c01348337c08d": {
     "views": []
    },
    "a648d7d21b8c4f1dacaf176fe99af1b3": {
     "views": []
    },
    "a64b4184d79f4835a5c2ac501978a872": {
     "views": []
    },
    "a6864fceb50947ea90d9efec9b36cc7a": {
     "views": []
    },
    "a68accddaa0041e18706f90fcd1cc31a": {
     "views": []
    },
    "a6e0b9d6b84a4b14b4a16273a10ea3ac": {
     "views": []
    },
    "a72b22cd04b44702b55a45d5abe0f757": {
     "views": []
    },
    "a72b8a1a2f384c23996c73cc0d472ec5": {
     "views": []
    },
    "a74253b1cb864ba18a17926db6a8aaff": {
     "views": []
    },
    "a752a735f5b542f19d490fe174d9350e": {
     "views": []
    },
    "a75978fd4e274a8ead49115c1d48188e": {
     "views": []
    },
    "a7b371f7c4d548a8ade62cfdb08e45d6": {
     "views": []
    },
    "a7f9e7209cd14bd692a132b98ef755f8": {
     "views": []
    },
    "a85a49e1715c440182cda16624b43d2b": {
     "views": []
    },
    "a8aa4aeac13441dca43061ccd8b72bef": {
     "views": []
    },
    "a8abdc21ed1b42b9be5946adbcef9be7": {
     "views": []
    },
    "a8ae36b617c1416aa6b28fc9b3268f59": {
     "views": []
    },
    "a8b183ade2e9436786d3dec5c09bece4": {
     "views": []
    },
    "a8f03df359fd4ce4bde2211cc38dbb84": {
     "views": []
    },
    "a92bc369f46c41c88896dc139120a433": {
     "views": []
    },
    "a9609132970f4d74b9c76fc438753b52": {
     "views": []
    },
    "a9a84c2ae94b46ab8338988cd32a2b37": {
     "views": []
    },
    "a9f2dec208a042bf80fd24059b459227": {
     "views": []
    },
    "aa033cd11d1a4c3497b03513a1ab1d3e": {
     "views": [
      {
       "cell_index": 17
      }
     ]
    },
    "aa0d90cfeae84dfd8795aaec75a68019": {
     "views": []
    },
    "aa201cfaffb24db084b89a043b4ba0b3": {
     "views": []
    },
    "aa40def7ea2b4d05bcaf156a056c3e16": {
     "views": []
    },
    "aa6aca0b5b7e4eeea4d429dcd413d31c": {
     "views": []
    },
    "aa87a259c53a467a9e83258540cca2d4": {
     "views": []
    },
    "aab7b5eee88340a7a2cac74878316406": {
     "views": []
    },
    "aac3149bcf8844f3ba29088a28cd1d3a": {
     "views": []
    },
    "aaefc31af9604fe493161cb481c169b1": {
     "views": []
    },
    "ab33d12d1ccd48d19ea22f54c074a539": {
     "views": []
    },
    "ab4ca95074594393aa7f24238d12b6f0": {
     "views": []
    },
    "ab72335267a649039a94c3e03f90d287": {
     "views": []
    },
    "ab773b7a4bb94286ac17978ca2ea7459": {
     "views": []
    },
    "ab890cf10f204c17a49fe8db532cff0e": {
     "views": []
    },
    "ab8d56bf40f641faa93352bf4e86765a": {
     "views": []
    },
    "abb6b2910429436b91bb0f8b3afb1203": {
     "views": []
    },
    "abce724935404c709eaa33fe156c70c1": {
     "views": []
    },
    "abe4f9655c2a488a935221787376fab9": {
     "views": []
    },
    "abe53b0392e7405d851215e20aa347fc": {
     "views": []
    },
    "abffbfffb1974c4d8007459e810d3666": {
     "views": []
    },
    "ac1d639a499a4cec88a828672455d934": {
     "views": []
    },
    "ac32158f4fa94a01b7267fd3cc4fa45d": {
     "views": []
    },
    "ac38da7fe86a40948b6fbe86d7388a3c": {
     "views": []
    },
    "ac40d32689d740d3a0d4734d28bf77fe": {
     "views": []
    },
    "ac50957496e04af2bf25a25d648fcdc3": {
     "views": []
    },
    "ac520d841ff54e569076846ec26b9d70": {
     "views": []
    },
    "ac7ada8eebcb4c228481c2bbb45f1c79": {
     "views": []
    },
    "ac8a6e8129464b7c9a172c7c16c5ce6d": {
     "views": []
    },
    "ac8f55882957491c93152a2557e647f0": {
     "views": []
    },
    "acaa50c11e644e5b8ca9735706eb1161": {
     "views": []
    },
    "acac8a9f8a25480b8c7f7394c91a9d38": {
     "views": []
    },
    "ad048837622e48dcb8786f7949c2109d": {
     "views": []
    },
    "ad184a0e61ea4efc9e9ce916942165e6": {
     "views": []
    },
    "adb2ff514191404ab2c536465046c59d": {
     "views": []
    },
    "adca778dd7324e47beabe42b87e53793": {
     "views": []
    },
    "addca62c94004145bd5e75daa3a65dbe": {
     "views": []
    },
    "ade442530ace462497d17586c67f1343": {
     "views": []
    },
    "ae52bdffade949f396a06e4fdb342629": {
     "views": []
    },
    "ae59d4c0b02f4889a944e132e129ae31": {
     "views": []
    },
    "ae6fb4b55a1846458767781bf3c2985c": {
     "views": []
    },
    "ae750ef4d9e74eb4a92f76d923622de4": {
     "views": []
    },
    "ae7b2c77556a4001a0bc07bf0e2005c8": {
     "views": []
    },
    "ae7bfa5452534894a9a7a3f26a154b9b": {
     "views": []
    },
    "ae84eee2a29d42fc906841eb423f784d": {
     "views": []
    },
    "ae9f6276a88c4e7bb28dcb8ed872328b": {
     "views": []
    },
    "aea4563142ff4e31b1f19760917ac1a0": {
     "views": []
    },
    "aeccffb3b19f441facf31385a3c9afcd": {
     "views": []
    },
    "aecdee91cac74c8984506429d64f9bb3": {
     "views": []
    },
    "aeefdba94c6c4eb5b92d6c418926d527": {
     "views": []
    },
    "aefffe3c809c42afbf43e01aa1411f39": {
     "views": []
    },
    "af0a57a1388341a1b9223e730090bb31": {
     "views": []
    },
    "af0dc03e6a9244da8494d4fddaa10be3": {
     "views": []
    },
    "af3d9a9710854d97af7f633aa125a898": {
     "views": []
    },
    "af4b3a00daf74e8a8957e2b938f149c8": {
     "views": []
    },
    "afa7002af31145c8836b649b22615c7b": {
     "views": []
    },
    "afc98c7a56b04cb4abfaf6e97d5f1cbc": {
     "views": []
    },
    "afcd44d7ff334fcba96ef0eec3f989e7": {
     "views": []
    },
    "b005a96acef24639981fbcdb323073ca": {
     "views": []
    },
    "b00c81102c8b4510b5900ff62e6bb48b": {
     "views": []
    },
    "b0423d380bac4bb9990d9540afe82c56": {
     "views": []
    },
    "b05b825eda654903947bc1f3f71d51a6": {
     "views": []
    },
    "b06b1b7ca5eb400cb47347404571e131": {
     "views": []
    },
    "b087f07394ec4e42b62eda4e4e81fff8": {
     "views": []
    },
    "b0a965fdc8834bb088d5cf2b38cac277": {
     "views": []
    },
    "b0ae4b5ef1184be1bf19597b4d6a9251": {
     "views": []
    },
    "b0b75659deae44acaa058b0ee7c7656d": {
     "views": []
    },
    "b0ca623063ec464681b14a6a7c217af9": {
     "views": []
    },
    "b117ec5b681f493c8dfcbe4297cb6ab2": {
     "views": []
    },
    "b1204b34338f41888d3fbbf65f7d2d28": {
     "views": []
    },
    "b1b82d5bf5074e2181e8027ef14c0762": {
     "views": []
    },
    "b1c51eb4d46c405592ba342bf7f2f36b": {
     "views": []
    },
    "b22803dbd3ec44f58bcf69cdfa3cc567": {
     "views": []
    },
    "b2308b8aa5ff4faaa9e3d4610f5e4ab3": {
     "views": []
    },
    "b23c5999934140828cb4935da5d1cba9": {
     "views": []
    },
    "b27b3a1e1a974be699315d5d79bdf5ba": {
     "views": []
    },
    "b295d508491b4769bf3869c98bdf3617": {
     "views": []
    },
    "b2a49e949b1b494f9786395ae9a451d5": {
     "views": []
    },
    "b2a66d1e8573436482da40e40090582d": {
     "views": []
    },
    "b2ab43c15cce459ebc23598c120f49b8": {
     "views": []
    },
    "b2bd65f877074b23a46c7a6f9c7c50e5": {
     "views": []
    },
    "b2d718b5e61d44de80a1e059b513beb5": {
     "views": []
    },
    "b2e988e4f33c4e10bceeeac655dc2539": {
     "views": []
    },
    "b3096bcfee3a416c9c9d661ba8ea06cd": {
     "views": [
      {
       "cell_index": 13
      }
     ]
    },
    "b30dfa63cfe548249ed9ac2993f85e2c": {
     "views": []
    },
    "b36e891efefd44ada36f2ffbce95113f": {
     "views": []
    },
    "b3789633e6ac4e64a6d92bcf5c50ec78": {
     "views": []
    },
    "b3af4cf7813845e3958c415e6aa07050": {
     "views": []
    },
    "b3c0c90603c544699faf725e520a47a2": {
     "views": []
    },
    "b3cb2dd00f924133ab8d7b2a3d5be48a": {
     "views": []
    },
    "b43c2a3b771649a4be6687510cd4d390": {
     "views": []
    },
    "b453328487754530b00288511c7850f1": {
     "views": []
    },
    "b4951795713a44039c350c11c372642b": {
     "views": []
    },
    "b4a7235e47fe4b66b3a5410480929508": {
     "views": []
    },
    "b4f38f2b4f2e48458317f9e47c247129": {
     "views": []
    },
    "b502d4b0880b4b3da8265cba9559b498": {
     "views": []
    },
    "b5058328c1be48bd8535ca783596d597": {
     "views": []
    },
    "b507b21ef945441b8fbcc7b1e5264b7b": {
     "views": []
    },
    "b50fc3fa2dd54e4d943eada54c89c677": {
     "views": []
    },
    "b5229839ef9e4eaa9b1b55888786fa92": {
     "views": []
    },
    "b52bd300a1d84663acf2b505c74ea2ec": {
     "views": []
    },
    "b53b36b46ab745edbad8bb500380796f": {
     "views": []
    },
    "b57028a142394cffba886e65a4d4449d": {
     "views": []
    },
    "b58a86b6ad0447bdbe27371f71bcdc63": {
     "views": []
    },
    "b5b990c3986a42f3bfb35de2cf319b48": {
     "views": []
    },
    "b60c8752a78145ff8c822cebd601d71e": {
     "views": []
    },
    "b61d759321c941d3be53e70f04bfa204": {
     "views": []
    },
    "b6478afa196f4ef4a5dfbd9cdc61d270": {
     "views": []
    },
    "b660a794375d47d989a6f57810775b36": {
     "views": []
    },
    "b66cf64d907c4291b9ab86cda52feece": {
     "views": []
    },
    "b66f2375272e46a9a022e9d85427475b": {
     "views": []
    },
    "b68bd1b2327e4f9495269bee66293259": {
     "views": []
    },
    "b6a0d41b02ae47659399b2844443d920": {
     "views": []
    },
    "b6a2e9407211484086f5e0d11b995d80": {
     "views": []
    },
    "b6c603072a474619a76401267653ecc9": {
     "views": []
    },
    "b71d9a5e6e8c494d8cfb4d15348c9699": {
     "views": []
    },
    "b733cf705da944cba885b5c9dbc5ca52": {
     "views": []
    },
    "b739392fbb794141b1138279c7080ebb": {
     "views": []
    },
    "b774f68b92b64ffea9c196cfbcd1d860": {
     "views": []
    },
    "b7814c1605784004ab50f4161fc63fd4": {
     "views": []
    },
    "b783d6b225ce48c0b4a1feef791cb9f4": {
     "views": []
    },
    "b7c363d98bbc450b8dba5dc4593623e4": {
     "views": []
    },
    "b7d0a2aab4104aed909e02947e325fd6": {
     "views": []
    },
    "b823b5f821ac44668a069d24e1a15278": {
     "views": []
    },
    "b8448a231f9c42efb63730370ba79b66": {
     "views": []
    },
    "b899978fc7704ab790e942141a1c643d": {
     "views": []
    },
    "b8e832507ba540939e0cb79df1350dee": {
     "views": []
    },
    "b906238ecdaf41409c021553251c48b5": {
     "views": []
    },
    "b928e93673614943b853077069f1697e": {
     "views": []
    },
    "b9405edde156418d94d08d92f11f9f37": {
     "views": []
    },
    "b95a08fd008f436a92fc5a4c3b1d827f": {
     "views": []
    },
    "b95d251770e24d98854d123b415ff260": {
     "views": []
    },
    "b9638418ecf94d3793a255bb21c5be19": {
     "views": []
    },
    "b96cdd227d6747aea90f1af142b7b1fc": {
     "views": []
    },
    "b98e38740d944e869b5785002e0c2d39": {
     "views": []
    },
    "b999d78960e141b5b8c317ec2c427fbf": {
     "views": []
    },
    "b9aee9727e5b48fe8bd7284c572340b1": {
     "views": []
    },
    "b9baf7341f0a460d960cff623d6b4089": {
     "views": []
    },
    "b9f21516b5234459ae3177eb342f3011": {
     "views": []
    },
    "b9fe5f5a081a4e6489860598fc10b731": {
     "views": []
    },
    "ba14fdd9e1cf4443aa99aaf51383812f": {
     "views": []
    },
    "ba1be0036223481ba6498fad8d399072": {
     "views": []
    },
    "ba1d5371f0054f639df8cf16bac6d657": {
     "views": []
    },
    "ba44d1546b6a4e07976c5f30e4f602d7": {
     "views": []
    },
    "ba5ee1b46aa4475987e5971c42d127fc": {
     "views": []
    },
    "ba643d6d771d4ea8aa3658948a159f77": {
     "views": []
    },
    "ba7d74f2b7024794820e03dc7f99c5ff": {
     "views": []
    },
    "ba7e877a68f54683bdaa12e120de91c8": {
     "views": []
    },
    "ba96d4de653b4676976e5f93b871f12d": {
     "views": []
    },
    "bab0eba67f174ed691724d14e2c6a7dd": {
     "views": []
    },
    "bad141e8dd4f4f618e91ce96b6b99b6c": {
     "views": []
    },
    "bad7dc978e6546f58d13cf5e9505a83d": {
     "views": []
    },
    "bb21a86f602a46b7bb22431a8a05ffcc": {
     "views": []
    },
    "bb317c3149cd4ad1a242529ef1b462cc": {
     "views": []
    },
    "bb38dcb0f3674b9fa4e70772585aa431": {
     "views": []
    },
    "bb3cea30bc39405fbc0acde0e8d1637b": {
     "views": []
    },
    "bb62cfea67d1470bb76193ba7e57e465": {
     "views": []
    },
    "bb67d897e9ca403f94cfcbafe97218f0": {
     "views": []
    },
    "bb7ce48872f346339dd2478e04a3fa08": {
     "views": []
    },
    "bb836c46a0b74b8e9bb25de60c88bea2": {
     "views": []
    },
    "bb900b35118a49df94e054cc83df4572": {
     "views": []
    },
    "bba90ed441df49069d8f7b79be53af5b": {
     "views": []
    },
    "bbbfcba6f7504dc0b310d49f63b5aaf2": {
     "views": []
    },
    "bbd3eece4ddc4e6ea990a960cc0184ee": {
     "views": []
    },
    "bbdafad995c4430cb43af5c969889a5c": {
     "views": []
    },
    "bc3372fef105441c891a5fc77c79949d": {
     "views": []
    },
    "bc4c4a7097d44c79bf2db8a69930fa40": {
     "views": []
    },
    "bc67e8429b20479dab57ddae8cd6ec4d": {
     "views": []
    },
    "bc6fec6a628e45aca356fef491386dea": {
     "views": []
    },
    "bc91716934c14c499d86bc9bb245638a": {
     "views": []
    },
    "bcbdf3364fd140b4bdbbc995f0e45def": {
     "views": []
    },
    "bccd214d9a7e44a1abae8f5a9fe4c0d3": {
     "views": []
    },
    "bd4900db41c145f2be1d6d18482c165c": {
     "views": []
    },
    "bd5fe22ec0b94785bb52c573f7721157": {
     "views": []
    },
    "bd6105989f7945ce8ef663ad3ccdf40b": {
     "views": []
    },
    "bd8d4e564cd348319be962dfcf082ff0": {
     "views": []
    },
    "bd9d79b4cc1348e888135f6eeaf019c9": {
     "views": []
    },
    "bda2186f3b5a4fba94c34c9c7ad8d4f8": {
     "views": []
    },
    "bdcb35535b444df0ac08b10b829f7c18": {
     "views": []
    },
    "bdf73baed6fa429188bd0ca284bd33ce": {
     "views": []
    },
    "be5060645d674768912c17bdfe11c37e": {
     "views": []
    },
    "be526598c02b43df91c410563311be73": {
     "views": []
    },
    "bea133ec15ca49a8b74bbb7f53bce080": {
     "views": []
    },
    "bea6af6e82aa4775a1114f243d84c42a": {
     "views": []
    },
    "bed0413117164e71a34694b4bfe53d40": {
     "views": []
    },
    "bef02ac9dcc941d38aa0e9ddd5228ea5": {
     "views": []
    },
    "bef1cbe0135b4b42afd83626117e6a7b": {
     "views": []
    },
    "bf2fe2f97aac419ebe22f527230b390e": {
     "views": []
    },
    "bf4522e8f2634cf794020b01fc3e977e": {
     "views": []
    },
    "bfc834a252de42008c8d7d10580106a2": {
     "views": []
    },
    "bfdbd451185645eaa16424f4de705bbb": {
     "views": []
    },
    "c00cc084cbe34db289fd428b893c2da5": {
     "views": []
    },
    "c0265c072105447ead93639592363572": {
     "views": []
    },
    "c0395a12348d43af8af1c42649720c25": {
     "views": []
    },
    "c05b4004b307403284d5aa3c05a3ba72": {
     "views": []
    },
    "c0bad2a183824bd1a2ea996b7c65f1e6": {
     "views": []
    },
    "c10206bdc89a47048cf2d12f294eb929": {
     "views": []
    },
    "c10562477c1e473a834ce3f6e9fd8163": {
     "views": []
    },
    "c11b3f3e73b6464487e58ceb027de760": {
     "views": []
    },
    "c1497d86d46144c986ab140c0b38260d": {
     "views": []
    },
    "c1c87644f92146c8b9999f5a6877c378": {
     "views": []
    },
    "c1e0d5ce96884db28d5a0ca895e26654": {
     "views": []
    },
    "c205b6865ad6408eb6e3b51859300d52": {
     "views": []
    },
    "c21351a8b2e54e90b64d83a5149f959f": {
     "views": []
    },
    "c2332e2631634e53bc8e2ea21815b46b": {
     "views": []
    },
    "c265e95907d440aab54b921a154acb72": {
     "views": []
    },
    "c282693f3cec4e359cc249ea4b7f46ca": {
     "views": []
    },
    "c2bb5583427f4cb7b99de7975af0d7fd": {
     "views": []
    },
    "c2d00e6bde8341c088219f1adbf3e513": {
     "views": []
    },
    "c2d7a43d059e4a8db0cdef65d0ea5939": {
     "views": []
    },
    "c2f66cdd951b4b48a09cdb307182e694": {
     "views": []
    },
    "c30814d7cce444b7afac96b4526c7cca": {
     "views": []
    },
    "c31da34fdf6e420da335ed00e80c6d75": {
     "views": []
    },
    "c338bed17895407db43c328b7d652c6d": {
     "views": []
    },
    "c33caf33d1e34531b895c8c7a2611535": {
     "views": []
    },
    "c36aeffdb67947f1b2731e5043e77c02": {
     "views": []
    },
    "c382d6b8efa94f679025b6c802bbb690": {
     "views": []
    },
    "c3875e30d4e1441284f1ba34825c9512": {
     "views": []
    },
    "c393b04b82944d74affc8903d962a6a7": {
     "views": []
    },
    "c3b65c50a5d54f7fb41b0f970792f682": {
     "views": []
    },
    "c3d35ab477244098a68457e821ea7cc4": {
     "views": []
    },
    "c3e4f15ca4b24dcc8056b28de22fa01b": {
     "views": []
    },
    "c3ef97a55b454ed0b11ac8221a0de0d3": {
     "views": []
    },
    "c40eb5dd8e214df584ea570600bf55c7": {
     "views": []
    },
    "c466ddce9a4147df80f443c0d58e7cac": {
     "views": []
    },
    "c468fe5c835549818e046f72a3dd92b8": {
     "views": []
    },
    "c47ee56f5fa64e5e9a0e470bebedfe56": {
     "views": []
    },
    "c4997d730d8a4fdb9ceefab6a4f18a0c": {
     "views": []
    },
    "c4a64e2e133a4081aa1e6b74979180bd": {
     "views": []
    },
    "c4ac160a419b44f79017afc423b7e56f": {
     "views": []
    },
    "c4b62d9436594601a2b74991fa0a033d": {
     "views": []
    },
    "c538eb193039466dbc5dfad7d8ce29d9": {
     "views": []
    },
    "c5ca03631dca40be826063b28b24117f": {
     "views": []
    },
    "c5e0fc3b30594cc59f80bd3d2db49d90": {
     "views": []
    },
    "c629496309ec4656b16495ba0e81b3a4": {
     "views": []
    },
    "c633ce8599274be19298730342a4a114": {
     "views": []
    },
    "c64fd2e8cdd24ddaa7d2ba5148de9e96": {
     "views": []
    },
    "c65cd78b4e1646d4a4636f97ef8d2d98": {
     "views": []
    },
    "c6606c62c4354b659bf426e785189cf2": {
     "views": []
    },
    "c67375aced96405f806318e9a23391bd": {
     "views": []
    },
    "c6b06e271e834901a95a0f3c161e2c85": {
     "views": []
    },
    "c7757fe8a39446aa9f0d0d75b68fcf08": {
     "views": []
    },
    "c7799b4a4d56446b9ffbec2638023bad": {
     "views": []
    },
    "c78a2458eef342c1b7969719a0136ea0": {
     "views": []
    },
    "c7a18866527448e3a20bc12a36a73708": {
     "views": []
    },
    "c7a29bb86725480ab4e3a01f616c2cef": {
     "views": []
    },
    "c7b252cbebcd48d88f6ccfe41a8cd09a": {
     "views": []
    },
    "c7ba586ef5a44c5d8e5b7368c688564e": {
     "views": []
    },
    "c7e43d88c6e649fba96c9ceea03c7132": {
     "views": []
    },
    "c7f585110f1540c792f7411b4ff9cbfa": {
     "views": []
    },
    "c7fddb0a32504bc2a5f67fdae9338e09": {
     "views": []
    },
    "c80635c9bb7e47acb524358568a49663": {
     "views": []
    },
    "c8325bdfcffc45cb8dd6a4794de9a236": {
     "views": []
    },
    "c840a3b64dc54fef97814aad4dd48361": {
     "views": []
    },
    "c8ce71705f6143a9aff3f5d313d886b5": {
     "views": []
    },
    "c90afd6da34a4cd0a4b171b63a3061f6": {
     "views": []
    },
    "c9167cca2d5a4ad6abdd73b0d485d651": {
     "views": []
    },
    "c91f3fecae584af1a32eb326cff8b77c": {
     "views": []
    },
    "c93417d0421e47e79632f6cd887fc9ae": {
     "views": []
    },
    "c977f45722a74ce381b162312ba323ae": {
     "views": []
    },
    "c97919a0e0e046f0879afdf8685e0587": {
     "views": []
    },
    "c984556a7eaf469ea166820ccb55f767": {
     "views": []
    },
    "c98eb82400614d16bb0c6d9d7178e2fc": {
     "views": []
    },
    "c9911c8adb924771ae7f36e99bf455c6": {
     "views": []
    },
    "c9a9524d73834f7189ab96ad753d9470": {
     "views": []
    },
    "c9aa4f079c7b4c10a3503f1898ac9991": {
     "views": []
    },
    "c9ec1c463a3846d8944dddaa2a774423": {
     "views": []
    },
    "c9ecbee7223949ac901c3aa18034aba6": {
     "views": []
    },
    "c9f34f7dc265440c9d8584cbfb6441d8": {
     "views": []
    },
    "c9f540982f974a129819cd430f8a9f7a": {
     "views": []
    },
    "ca0441fb54ba4e06a2e13d98599cec3c": {
     "views": []
    },
    "ca20936b78bb40e78a83e85f173d3bfa": {
     "views": []
    },
    "ca2a0f9f172543959a2acf5ad7eaef90": {
     "views": []
    },
    "ca349d32ce8d4233a6410dce12f87b68": {
     "views": []
    },
    "ca3517076cba4aae88d91b832abb34c0": {
     "views": []
    },
    "ca54100d528e40019390ee7fb17044a2": {
     "views": []
    },
    "ca7745bdd8994a62878014d44288bf67": {
     "views": []
    },
    "ca7a9b7bdd1343cf809e52d5bfea9e68": {
     "views": []
    },
    "ca9a08743eba4de399c7ce616540e94a": {
     "views": []
    },
    "caa40944dc944a70824dc68e09b2152a": {
     "views": []
    },
    "cac3bd4f4dd84fdeb3c2eecd2f39109b": {
     "views": []
    },
    "cad7f02612f54a448e294a5e6876e2ba": {
     "views": []
    },
    "cb62b9412fc94507a20738ca8682050f": {
     "views": []
    },
    "cb97a8ee22bc441794a9989739e38994": {
     "views": []
    },
    "cbb581a08dd34654aa0d9f28cefb5f85": {
     "views": []
    },
    "cbdc127b3b564807aa44c933838767c5": {
     "views": []
    },
    "cc20814578184adfbdfda8888702053c": {
     "views": []
    },
    "cc6d659ceb1e4270bc703d0f3cd2996b": {
     "views": []
    },
    "cc7db01e8cba4625856982af405192ea": {
     "views": []
    },
    "cc80ee2267514fa78be68a442193c6ca": {
     "views": []
    },
    "cca931be8ba14a7db8afefd8db048bd9": {
     "views": []
    },
    "ccb82fb16a464020a4f5a1fdc48ad78b": {
     "views": []
    },
    "ccc82e166f4041a490f3c7b75f502014": {
     "views": []
    },
    "cccdb36d01154c0bbb3b99d9ba7e45df": {
     "views": []
    },
    "ccdd3489cf5a4705901603fa0fdd5ed3": {
     "views": []
    },
    "cd2eb55b9fc4463a8e2495f204c80bfd": {
     "views": []
    },
    "cd45399d35e04d8b89056a8e1873fa7c": {
     "views": []
    },
    "cd8a903b83bd4f36aea30b819ad4cba5": {
     "views": []
    },
    "cda014bd6cca4402a9ab04cc0dda319b": {
     "views": []
    },
    "cdc311f2aa054e42a623cafd41b3ff1d": {
     "views": []
    },
    "cdebca36eb7f4bffa802d4cdf8b3d5a6": {
     "views": []
    },
    "ce0b9e4a1c3a4a6fa6058c9332e65baf": {
     "views": []
    },
    "ce4f3685005d46fd8712e6b67e6a65f2": {
     "views": []
    },
    "ce5e4a6c813e4a4f974f106c20d0ed25": {
     "views": []
    },
    "ceae4ae7e2cb4d76af409970a60dd93f": {
     "views": []
    },
    "cf0807f9bc264917baaf9e96f43addb8": {
     "views": []
    },
    "cf0e6a8181764b35bb146c52795d46ea": {
     "views": []
    },
    "cf186b0c4fb54c94a88d5cb2319b8cb5": {
     "views": []
    },
    "cf191a5c3eab46d1b2aa7eceeb5f15d7": {
     "views": []
    },
    "cf41827e45f1462492e22518c14a51bd": {
     "views": []
    },
    "cf4df64db67240d68f37c2bdc245e014": {
     "views": []
    },
    "cf6d5efef57d4e949da7cef3575f5b36": {
     "views": []
    },
    "cf70f25a18c64696af702ffe6d5d6f2e": {
     "views": []
    },
    "cf7643c98fb44ef08f9fb651708f4f65": {
     "views": []
    },
    "cf7cc3dde9e94720b19ae4839575c4cf": {
     "views": []
    },
    "cf9d3367770449d8a761671e0eadcce8": {
     "views": []
    },
    "cf9ec10c6c974e5cb789cd32728b9f80": {
     "views": []
    },
    "cf9f8642f8bc4ba58fbf443d8dc7efa1": {
     "views": []
    },
    "cfa032aaad1c4bc78f5d16657016d310": {
     "views": []
    },
    "cfe34bafeb6445e092c6300e19b45481": {
     "views": []
    },
    "cfe3eb64e1d04d8797fe0def666d6607": {
     "views": []
    },
    "cff5ea5fd9304c33833d99ad47373d0c": {
     "views": []
    },
    "cff6e8071c7c40768fd98e701afb99cd": {
     "views": []
    },
    "d0395c67c53841b18e98c83fa20b155a": {
     "views": []
    },
    "d03af1da319b4faab6ea60b42d53335e": {
     "views": []
    },
    "d045138750884565bd60339a802ab0bd": {
     "views": []
    },
    "d047e7e6c4114b02bba7466f63a91db4": {
     "views": []
    },
    "d06a2472558c4b2e95414e7ec9781d59": {
     "views": []
    },
    "d06f13d1d05245a58061e336b480f479": {
     "views": []
    },
    "d0927e5080ca40eaa67d1f62bf2b797c": {
     "views": []
    },
    "d0e3e3f194584e2cb6386115b73c6374": {
     "views": []
    },
    "d10927d589f345b5a5f3d72e662800fc": {
     "views": []
    },
    "d143ea4eb1f043a6ba48f4e2fabf543c": {
     "views": []
    },
    "d14b365ade8648cbb59fc376c523461a": {
     "views": []
    },
    "d158500ac945462eb149ecb5320c40e8": {
     "views": []
    },
    "d16820cb6ad94d6ea1578c560de9811f": {
     "views": []
    },
    "d1ca8607d983425a8af8a496d30ddc1f": {
     "views": []
    },
    "d1caeaa45f954109a84bd5b6cd56873e": {
     "views": []
    },
    "d214b77e9b4140ffabb889634bd77bf7": {
     "views": []
    },
    "d21fcb40643641389bc30300ec299069": {
     "views": []
    },
    "d2409b0dcc7b4f39b79f8ea3c2158db9": {
     "views": []
    },
    "d258eeff36ec4d8c9a8d38bf508a59cb": {
     "views": []
    },
    "d26e5e7b5c1848b5baa0621736d5a4d9": {
     "views": []
    },
    "d274af7dfff6423cb0dec0f743da567d": {
     "views": []
    },
    "d2a338eb849f470f99097a6add77c02e": {
     "views": []
    },
    "d2e6f2472e4c41239e1585bdfdde330c": {
     "views": []
    },
    "d2ea50d55ecd4de4ad8ae5bdf730ce62": {
     "views": []
    },
    "d2ee925f03cb4685b7e4e9e64ad6e695": {
     "views": []
    },
    "d30f6f2ff78340a39352627560d17662": {
     "views": []
    },
    "d311f881081841b9a42ac6592d49836a": {
     "views": []
    },
    "d32a6ff2ffb741fca6a177021eb3b69c": {
     "views": []
    },
    "d33dd8858d0548c689e5c270b1d5f51b": {
     "views": []
    },
    "d35e60dad75d4564be1807d15b9d3607": {
     "views": []
    },
    "d37f3d1cf2ad4faf86a451fbd757ec50": {
     "views": []
    },
    "d3862b51992c4415976cec6fbef35360": {
     "views": []
    },
    "d3a1e901d61c4766b30137ba2bfcade3": {
     "views": []
    },
    "d3c6e161084c437ea4e6e1a56da58552": {
     "views": []
    },
    "d4074473e1f9434694cd3f50d4e88b08": {
     "views": []
    },
    "d41999b4ba904cf08211e7a2d5c4a963": {
     "views": []
    },
    "d4836cf0428a46febb08388e8fea8639": {
     "views": []
    },
    "d4b5adcf93474e1b955bfcaa6f08b4be": {
     "views": []
    },
    "d4cbb06b10bf4ec091629debe6f74dde": {
     "views": []
    },
    "d4dd476bb4f145afb64ffbea5abf946a": {
     "views": []
    },
    "d4e529032be84d8fa420521089ccc2cf": {
     "views": []
    },
    "d51323e93f184ec1b4bb288a6e144c28": {
     "views": []
    },
    "d51537783ad74d479ce27f5d96e705f2": {
     "views": []
    },
    "d51673ae7242422aa69bcbb0f05a39bc": {
     "views": []
    },
    "d526f3c126924baba0a18026f88cfa74": {
     "views": []
    },
    "d550464da7194f309f6a16cbd5959c0b": {
     "views": []
    },
    "d580669cbe224a5da6a09f6b4de0157e": {
     "views": []
    },
    "d582084618544c92b76a39fb54308163": {
     "views": []
    },
    "d5a31dda81b64443865f057183ea7c24": {
     "views": []
    },
    "d5c7fee8c29446bc8754e20ab7cb638c": {
     "views": []
    },
    "d5d5f734f5f249c9aea8270da37f2b70": {
     "views": []
    },
    "d5e1978e719b4177ac749aede226c158": {
     "views": []
    },
    "d5e401d8fb914435b92cb17ada640115": {
     "views": []
    },
    "d5ed59e537214df09c7387e26e2e1486": {
     "views": []
    },
    "d612064e01304edb94f603ab46dac53f": {
     "views": []
    },
    "d62291105b5d427ea3e24c735ed65b11": {
     "views": []
    },
    "d62b934cae8e46618939cf9cb14a94d2": {
     "views": []
    },
    "d6306aafb4b447679d0f72ef634294d4": {
     "views": []
    },
    "d63232eeec1d450fa3f188e7987701bb": {
     "views": []
    },
    "d6cc5876d39c461ea394cc1416f2bc1a": {
     "views": []
    },
    "d6ebfc27516e4c25aedf786a0607b02f": {
     "views": []
    },
    "d6f53af856fb43b492cfaa129e0aa3a7": {
     "views": []
    },
    "d6ff417da4204c8bbcd26fdc7e0822da": {
     "views": []
    },
    "d70225d856d24ee189412df58009315f": {
     "views": []
    },
    "d70d281d20c64ef8baefa99f7fdcf841": {
     "views": []
    },
    "d72778a5974a49c9b4a89df6823d57d5": {
     "views": []
    },
    "d72cebac8dd3467097fc3c5a5f378061": {
     "views": []
    },
    "d744f02116c346f8ab20088315ccdb3e": {
     "views": []
    },
    "d749b2d651af4edb9c19c0d9ab71c81c": {
     "views": []
    },
    "d76fc1c57bcc4767930c86661a570dda": {
     "views": []
    },
    "d78604bd97004975acfd5d2d605a0665": {
     "views": []
    },
    "d7d0f8e7537042b48b772cc716651b11": {
     "views": []
    },
    "d7d99bfca98544a1a90f79908e2388b3": {
     "views": []
    },
    "d857f559639e4eadae2a57cf7ba71155": {
     "views": []
    },
    "d868acc7d8d54bebbcb389b01ed0e783": {
     "views": []
    },
    "d86cb5d2c6eb4752af5521e1f89d63fb": {
     "views": []
    },
    "d8b43f4d47164fa99d7b72dfc0744cec": {
     "views": []
    },
    "d8c81c41fffd418ebfef45da4451a2b6": {
     "views": []
    },
    "d8ef6a478a5f45f6a3e45dd7411574d7": {
     "views": []
    },
    "d8f3486ca5f24ffda880a4ebe7840615": {
     "views": []
    },
    "d904e5e1e833492c998e12f770c9d40e": {
     "views": []
    },
    "d9564696cc344315937f51d6adc2f9e1": {
     "views": []
    },
    "d97dd57f45614d7dae5061b37cc07b35": {
     "views": []
    },
    "d9806b918d7f4675b166c11e094a90f1": {
     "views": []
    },
    "d9814325f41c4808b2d64eabfefde644": {
     "views": []
    },
    "d98dd83173df44d195ed6abc256de964": {
     "views": []
    },
    "d9a426eb8d5f4aca94740125da745793": {
     "views": []
    },
    "d9a8877177514b4487a6ba222757ba57": {
     "views": []
    },
    "da3af69d4a464940bf5a516b6aa209e7": {
     "views": []
    },
    "da7a94ab90e742d48e7beb86bb3e391f": {
     "views": []
    },
    "da8228ee51ca45b0b6b076b09aa8d34c": {
     "views": []
    },
    "dad31f1a874a43338ecf7172c7e9819d": {
     "views": []
    },
    "db0ae543a1764d6997efae7f2ccdb903": {
     "views": []
    },
    "db3d77787c29456a81041e7c383daf3a": {
     "views": []
    },
    "db55938c3fb3452fa2cbe6118173133f": {
     "views": []
    },
    "db5d4e714f62446fbfd0b7c93c8579a7": {
     "views": []
    },
    "db83f9cf4a274debba2a8164a353a207": {
     "views": []
    },
    "db905cb6270e400aae0cca6d4361ec3e": {
     "views": []
    },
    "dbb90e6ca3d743b9a7657ee7bd5c3c53": {
     "views": []
    },
    "dbd8cc60916e49aa897fc18cb7bc8105": {
     "views": []
    },
    "dc06517a2eeb46a2b9527cd80b87ba00": {
     "views": []
    },
    "dc251a2b3ab2409a8ce76f510a357338": {
     "views": []
    },
    "dc323c254ff14ad4a4b79f444d819939": {
     "views": []
    },
    "dc3644b813d24a63afbc011eb485a89f": {
     "views": []
    },
    "dc6848b7c6024332bf2a3327ea57bf79": {
     "views": []
    },
    "dc698a3a52634a4c849950f2eab82715": {
     "views": []
    },
    "dcb174c594c1404b8d047f34491100b8": {
     "views": []
    },
    "dcd1614bf9ed4471b89e1db6521a5dd9": {
     "views": []
    },
    "dcd4d45c795c4e3386a5083470a0e1cc": {
     "views": []
    },
    "dceac0f136e24ec3aae61e58f105f7fd": {
     "views": []
    },
    "dcf054f6f0c04c7bb45d9edaf8e4f567": {
     "views": []
    },
    "dd0dcb1f314d40bb8e81ace653b19d3f": {
     "views": []
    },
    "dd519d432f414e7f8bb102e1e410bdab": {
     "views": []
    },
    "dd539480933b4234a8cd680f94bddc4b": {
     "views": []
    },
    "dda25c54b31044bebf142d934acb8333": {
     "views": []
    },
    "dda5f5999c11405aa6b0e6fed0718699": {
     "views": []
    },
    "ddc29e480f4c4d928b70a8b75bbf441d": {
     "views": []
    },
    "dddc97e08d5a42eeb45aa52b2a40f41d": {
     "views": []
    },
    "de3dbb77dbb54c3987130886197647a0": {
     "views": []
    },
    "de4f3dcc71ef493d9567dece89e4ed88": {
     "views": []
    },
    "de540b2612e64742bbc643b253668d3a": {
     "views": []
    },
    "de5b14ccff6244cf847e2b07cdbdeb75": {
     "views": []
    },
    "de61859174014a82b38866104c24a405": {
     "views": []
    },
    "de6bee7e66fb4daf9b6808729fc8589d": {
     "views": []
    },
    "de70ee80648046999f3782550558b891": {
     "views": []
    },
    "de71d8616d294b1fa47b76ffb44a4680": {
     "views": []
    },
    "de784f16b4ac4bdcbf2fe074ccb47d6f": {
     "views": []
    },
    "de9477f569284d498bf8d04bc26a9d92": {
     "views": []
    },
    "de9ebd98cc554eba9b6d08240e6171d8": {
     "views": []
    },
    "deca2fed76a44e81b3b36b75a28c2db1": {
     "views": []
    },
    "dee346cb4eca4adcbd42aa8a0747a9f1": {
     "views": []
    },
    "defe9cb7365145d5a07ee594ebb2c9d5": {
     "views": []
    },
    "df125cb2340b4e42a7a0dd3e4928b5d3": {
     "views": []
    },
    "df341fdc48c24d279c2851301e940ee9": {
     "views": []
    },
    "df3ebcda40fb43be95be20ec7ed147c1": {
     "views": []
    },
    "df42cfb9ea9641a9858a146f4926533c": {
     "views": []
    },
    "df4cf782a14349b6b9ba41d67eea2ebc": {
     "views": []
    },
    "df51ca5cffa24d808291d4e108ebfd66": {
     "views": []
    },
    "df6e3b57f9954d1d8b59ce19f1479d63": {
     "views": []
    },
    "df6ea1e1fddd4351a1b009b4ea5906ea": {
     "views": []
    },
    "df8eb13eb933403b816d5bf3c1bb5e1d": {
     "views": []
    },
    "df99fcc7751d4dc584a2b72d3d52deb0": {
     "views": []
    },
    "dfa0aafb13284ae6b232ec786ad60837": {
     "views": []
    },
    "dfa3f3ea4db64cd1b1d80a166013ba5c": {
     "views": []
    },
    "dfda512eb70144bc86afb1b3f72308ca": {
     "views": []
    },
    "dfe9307e832b4dd0ba4c96d8aa30c1a8": {
     "views": []
    },
    "e042f162403041398e601e28f2f7df91": {
     "views": []
    },
    "e048ba4daa354b5886ac6026fdd4168e": {
     "views": []
    },
    "e04bee2f13fa4a4e996bda389ea90da9": {
     "views": []
    },
    "e06734fb8d05435095859aaf2b415189": {
     "views": []
    },
    "e12333f6a4c0489f92d4a6e0402831fb": {
     "views": []
    },
    "e128afc72ef7423f9982473165603f7d": {
     "views": []
    },
    "e16f28b861d046c28128e861477c5b24": {
     "views": []
    },
    "e17ff41467bd4f01b7111e0bc4a6cf09": {
     "views": []
    },
    "e1ed23468cac45368693421e2d71d46a": {
     "views": []
    },
    "e21676355b1a404081fa1e53b4dd8ad4": {
     "views": []
    },
    "e21b52d8870a41e0abb0046fe2b2437c": {
     "views": []
    },
    "e25b4280b96d421bbe499ce468e69c59": {
     "views": []
    },
    "e26d239bc2f84e1b819aaee274ace0f3": {
     "views": []
    },
    "e2961ef0663a4dd2a030ec8b621bfe4a": {
     "views": []
    },
    "e29b4958862d49d6952d33d06b2e7a04": {
     "views": []
    },
    "e29b5789a72649c8ada14a15341b16be": {
     "views": []
    },
    "e2baae665a7b47cdaa849fc8c7a7b211": {
     "views": []
    },
    "e2bbcb6bad6f457cabd486019bb69749": {
     "views": []
    },
    "e2de916e9a754fac87ba064086b6ef3f": {
     "views": []
    },
    "e2edcfec0a39463eb0f39f7a613895ed": {
     "views": []
    },
    "e2fe301255694bd19911bcca332ac8c1": {
     "views": []
    },
    "e31f43f4cc62413a889988ea43a75f86": {
     "views": []
    },
    "e35f403848fe4114b3ae1298fea862c6": {
     "views": []
    },
    "e383a5a26b2f499880273074290a1b66": {
     "views": []
    },
    "e38fbdf9e6704aaab31c9023ebd92011": {
     "views": []
    },
    "e3b3d11e0bd945d4819b4742616875e8": {
     "views": []
    },
    "e3cc54e3c4c540f29f375256ecb4ba62": {
     "views": []
    },
    "e48d7910bb9e4dec9936c43e271d277f": {
     "views": []
    },
    "e49be4561e3b49c5a14aa635df0be8a6": {
     "views": []
    },
    "e49cfe3a273b4472b5b8f0ebf9ddaa76": {
     "views": []
    },
    "e4c09c1711f44a248e0d4feac9de76c3": {
     "views": []
    },
    "e4cc4e7156184f82ac3f577c33432654": {
     "views": []
    },
    "e4d0506b7bd8487496bdb3e03676a0b3": {
     "views": []
    },
    "e4ddc434ac194e959b9601b9764f6833": {
     "views": []
    },
    "e504b249c5af45f89a3b222c6613e1cb": {
     "views": []
    },
    "e50dbc387cd849b7add2de8b4b31db78": {
     "views": []
    },
    "e51af1f99c434f3ab3f2c3ea9446809f": {
     "views": []
    },
    "e51b03ef0f59460387fdc96c2e17c712": {
     "views": []
    },
    "e535c8962ab04e8eb696bbcd252f840e": {
     "views": []
    },
    "e57dc25dcd6540b59d3d53ccd03909ba": {
     "views": []
    },
    "e59be478bff14c83baaaeecb212c787e": {
     "views": []
    },
    "e5a8bbb5b3c2474e97b624340f024c17": {
     "views": []
    },
    "e5ae64d847124f118729d40f63563ad0": {
     "views": []
    },
    "e5d8afc5121e44459d857007b2a21081": {
     "views": []
    },
    "e5de8c4697854f79bfaaeab8bcc759c9": {
     "views": []
    },
    "e636dcab71944dd589efc5f81e46f8cd": {
     "views": []
    },
    "e6920ddf0810453497ef963dfb48ad18": {
     "views": []
    },
    "e6b0394e67f34fa4b0047a59291c95db": {
     "views": []
    },
    "e6c41a7ced1b403398ec7f8f50494b56": {
     "views": []
    },
    "e6c7792de7364c9a876466dc0de18a63": {
     "views": []
    },
    "e6e62fb4d30f44759ef94223ddd50859": {
     "views": []
    },
    "e710588eed404a5b8261cd5eec9e2bda": {
     "views": []
    },
    "e72400f8aa0a4d69ba137a33d20dcd0c": {
     "views": []
    },
    "e729e6d6aa6041a093e4dedd98181796": {
     "views": []
    },
    "e737822010144db38e3c7cc7fc3d028c": {
     "views": []
    },
    "e7444ffa9cef4ca98bea78db22bf38eb": {
     "views": []
    },
    "e754ad4d120341668d09f8422b104536": {
     "views": []
    },
    "e768931a6afe457db72248420a7a67c4": {
     "views": []
    },
    "e7965b46ec884d7d8e2da479bfad2553": {
     "views": []
    },
    "e7ce960e1d67470a959de526081ad1ed": {
     "views": []
    },
    "e7f03f203f98405a837957b67722a376": {
     "views": []
    },
    "e8298b740f514dc79464e7f643c4d71b": {
     "views": []
    },
    "e88c139d6f9f4a2e83a3a7918038c1a9": {
     "views": []
    },
    "e8ebd15adf5d44c0be8dec5b7b6d61c4": {
     "views": []
    },
    "e907ed4da9b8458e93e5bb09d214218a": {
     "views": []
    },
    "e9253b7c36df4e2bb4898197d2985697": {
     "views": []
    },
    "e926d9a5aedb4a8b86e302cdd55b9eec": {
     "views": []
    },
    "e92739cd82794054a082fbac1dbed94e": {
     "views": []
    },
    "e9427295c10346a2ada1a73696f16ce5": {
     "views": []
    },
    "e94d30402eaa472f8229d1217600a8f1": {
     "views": []
    },
    "e9a7c16aec3b49fc92e61e03a3aeb0ee": {
     "views": []
    },
    "e9bcbe85d8824fccab2702420eae9968": {
     "views": []
    },
    "e9c63b88e5ad4d759a1bde1841e696b9": {
     "views": []
    },
    "e9c6f9a0006844fa929d91b44edbdb40": {
     "views": []
    },
    "e9cb27e6128241bbbbab5eb2c6c3cb0f": {
     "views": []
    },
    "e9e8dd17806a4ddb860c414b88f8e183": {
     "views": []
    },
    "e9ff2394befe4d46833355adb6028557": {
     "views": []
    },
    "ea1c1204fccb47f39f4b56e13851c729": {
     "views": []
    },
    "ea2616d714934b1aafd494e27e79be08": {
     "views": []
    },
    "ea2d763641684f459c5b774b237669e6": {
     "views": []
    },
    "ea369c4d9e4943158979b3efbf88b5d7": {
     "views": []
    },
    "ea3fcf26dfab4052aed067649ac1377d": {
     "views": []
    },
    "ea65aabead5c4c278d3bc871f7378637": {
     "views": []
    },
    "ea7028adc58b4f4f8816b7041ef38e30": {
     "views": []
    },
    "ea782ffbb9914b44a8a55703e2a87ba6": {
     "views": []
    },
    "ea7d302e662645288e9d10c4d683dce8": {
     "views": []
    },
    "ea80ff17c9b74ea28ea8392cb2b80d50": {
     "views": []
    },
    "ea87927bf7694c9e8d221f5eed49a0cb": {
     "views": []
    },
    "ea9c45eb41a54b35885f9f31bcb9e5a9": {
     "views": []
    },
    "eaa613a807b345a58d22f5463f92692c": {
     "views": []
    },
    "eab1fcff136243329042e743a8d275a4": {
     "views": []
    },
    "eb14631c73d44ccc9f829eb8f4142803": {
     "views": []
    },
    "eb2cae18754c420f8b303515af2595ab": {
     "views": []
    },
    "eb4e643962394d3a8e67a0c638f0d332": {
     "views": []
    },
    "eb52687777de44e2b0cb4f2f56666ada": {
     "views": []
    },
    "eb5cf5d380db4c80b0d1eeb0212a8d21": {
     "views": []
    },
    "eb6a3a70a21140b4b52205f4ed3514a2": {
     "views": []
    },
    "eb6ed519b19d4fbea762a67156a5d390": {
     "views": []
    },
    "eb78b979deec4f3597b34e0871a21d18": {
     "views": []
    },
    "eb8a91fae73243c9bbbc79a9e29ee97e": {
     "views": []
    },
    "eb8bf98ddf104b15988d5402e14aa982": {
     "views": [
      {
       "cell_index": 8
      }
     ]
    },
    "ebd16186380b47068583548ea382cfac": {
     "views": []
    },
    "ebe20411807a4136bd081088275337ef": {
     "views": []
    },
    "ec223818cedd43769cc617f1d43bb42b": {
     "views": []
    },
    "ec27bbd23a0b411ab2fa685e60fc2f09": {
     "views": []
    },
    "ec4ba74c896844efa532b90ccb215c74": {
     "views": []
    },
    "ec5fe3c32b97405b96f0c3b993901780": {
     "views": []
    },
    "ec7dc910028f49339c87756219b61c55": {
     "views": []
    },
    "eca44bfd57894e4c8f1da68b307d39a9": {
     "views": []
    },
    "ed65029d33064c649eb7071cee63318f": {
     "views": []
    },
    "ed69cdb385504b6ca48e67ea55a9fc63": {
     "views": []
    },
    "ed7806f3054d48178e0fe4f5d732b32d": {
     "views": []
    },
    "ed9db1916c024446873d7d702a8ec04e": {
     "views": []
    },
    "eda793f25f4d4d8492c208ac06081958": {
     "views": []
    },
    "edec110f91fa43cf81a1e37e61ad8fa5": {
     "views": []
    },
    "edf68cb5e3a046bd926ff77b7157ed04": {
     "views": []
    },
    "ee086a20cf6145d8ae32e17af8ca6ec7": {
     "views": []
    },
    "ee11d5da58d3471ebb6551ee96a554bd": {
     "views": []
    },
    "ee2482e41cb64e74b14d2ed3f794b9f2": {
     "views": []
    },
    "ee2b2348e30b49e5b86e2504fd279dfe": {
     "views": []
    },
    "ee4987402b6b4080b2ffeedd4ed0cd26": {
     "views": []
    },
    "ee51746492484294b681ed9bc2d95670": {
     "views": []
    },
    "ee7845133d5e404280d120e0305d618a": {
     "views": []
    },
    "ee873fee60d4476c8454b8ee4b44ce34": {
     "views": []
    },
    "ee8b769b92674695bf259850331b46c9": {
     "views": [
      {
       "cell_index": 21
      }
     ]
    },
    "eea67a0ce9a74ee5aa5c2b0fc34fe9bf": {
     "views": []
    },
    "eea8f60281264de09a35c21fc94235b5": {
     "views": []
    },
    "eef5b076f87b4bbb89c8c2c538159103": {
     "views": []
    },
    "ef50b87a3f0a4f888ebc0e85c18c20ad": {
     "views": []
    },
    "ef57e3e5e83f458db840d477b024c602": {
     "views": []
    },
    "ef99716a1ae44168bdaf5ebeb8e8be03": {
     "views": []
    },
    "efc980b60fd749a0992aec5173b018f1": {
     "views": []
    },
    "effd6bf1f9bc46b583627ec5ab4baeca": {
     "views": []
    },
    "f01886e44da743b0bf7cad207fdacba9": {
     "views": []
    },
    "f03f39d521e446368213da497c947619": {
     "views": []
    },
    "f045ad7b9958444fb8c04d927025190d": {
     "views": []
    },
    "f048280eea794d64905bec06e0abde3e": {
     "views": []
    },
    "f06eb229cf1b4c438f379cd8cbcda5f0": {
     "views": []
    },
    "f06ee024f2b440f389b2a8c910fb3c68": {
     "views": []
    },
    "f072169c63884271be05342b279d19ad": {
     "views": []
    },
    "f0857ddae0a341a883e955b5526c4a2b": {
     "views": []
    },
    "f08a7bad301f41c8b24a486d1a4b55a8": {
     "views": []
    },
    "f0c73c15869f4a03921bc5c162d83591": {
     "views": []
    },
    "f0f86d70845242898b1a0fb4cc9f20c2": {
     "views": []
    },
    "f15641de20f84a65b0cf7b77e818b138": {
     "views": []
    },
    "f16f03dba96240aba9d36c598a5636a1": {
     "views": []
    },
    "f18affcaddd14f54bb7e1d771e4307bb": {
     "views": []
    },
    "f19796569e024846a0be78d86006b40c": {
     "views": []
    },
    "f1a05810916141139a0ff469c6f4e97e": {
     "views": []
    },
    "f23f72213f9043baa7b4aa3312cbc0ca": {
     "views": []
    },
    "f249d4e5d12141a8a75515a622ee34d2": {
     "views": []
    },
    "f264f6f3804d4d2084897d3b519450f0": {
     "views": []
    },
    "f26c3a096b3649e487e797f3709e565a": {
     "views": []
    },
    "f27291d531de4795991e92b520b222dc": {
     "views": []
    },
    "f279aa748e954c3aa552beb945dc90f1": {
     "views": []
    },
    "f28286ae921a46039bf6427ad50c2721": {
     "views": []
    },
    "f293add29e624a9481aae496e92fd83d": {
     "views": []
    },
    "f299a39b207e454ba094ef6aebeb6aa7": {
     "views": []
    },
    "f2b7c950104540b98f9eeb09622bc66f": {
     "views": []
    },
    "f2da3ad0d1564be19a3c2b673ad8d796": {
     "views": []
    },
    "f2e74eedcf9d45a0900141e88f8557a6": {
     "views": []
    },
    "f2ef9ce2df1b4ca38a8cb0839157ab9d": {
     "views": []
    },
    "f32901a34a194e94b1106f22b2c8fefd": {
     "views": []
    },
    "f33e4671853e4140b635b49c514530f8": {
     "views": []
    },
    "f38162069888484eb4a0f252698cc9bb": {
     "views": []
    },
    "f3f40940acbf47638b24aa1cdd485da8": {
     "views": []
    },
    "f4272d7161bd490898fb3046c43399da": {
     "views": []
    },
    "f438d73d27ee4c2a994e00b5f3fa7687": {
     "views": []
    },
    "f4813a134adc4901bba099f886d41565": {
     "views": []
    },
    "f48d950ccb284712a9ac380444c2d769": {
     "views": []
    },
    "f4a4454bd0d24cd487c4c0bd3e2807b1": {
     "views": []
    },
    "f4bc5f2448a8435cbe0ef28daf9585df": {
     "views": []
    },
    "f4d472d607d1492098a8b22863057e9a": {
     "views": []
    },
    "f4df3f4208a84a79b0f64a0033aff4ff": {
     "views": []
    },
    "f4ef3bcd39734222b84431f2e0c7b2a8": {
     "views": []
    },
    "f51c45b8b90341398b3e392284f22282": {
     "views": []
    },
    "f52d8e12971d408abde5c4bc1910da69": {
     "views": []
    },
    "f53cffc87ae04a9aa8f686831b052d28": {
     "views": []
    },
    "f57d0fd78cfa4e4b986250376792ca1e": {
     "views": []
    },
    "f57ff6d836ae4f1a9e7a7b3a152e5bc0": {
     "views": []
    },
    "f5bfa0838a4c44678c463c7a18760d35": {
     "views": []
    },
    "f5c3769ebc624182b89cd320b6539af1": {
     "views": []
    },
    "f65b549e82754a42b5aa4d10eab8be8d": {
     "views": []
    },
    "f6755aa7e9734047b550331f13cc79b5": {
     "views": []
    },
    "f68ba85b4164458b90286eda9e5508a6": {
     "views": []
    },
    "f6c1b3fce57a46edb8ee9423e2bb220c": {
     "views": []
    },
    "f6fd3a91d60c466784f1a030b83069eb": {
     "views": []
    },
    "f76b803ec2884998bd90093c9cd6712f": {
     "views": []
    },
    "f7933f62bc404586a5a0a17c86c62c7e": {
     "views": []
    },
    "f7cefb6244634faa892e176090d4af02": {
     "views": []
    },
    "f8025ddfb6124181b2d080e310f63e9f": {
     "views": []
    },
    "f8710f4798414ffe94e6f36af5c34779": {
     "views": []
    },
    "f88245ba931e46c3ae9bfe388e1ef991": {
     "views": []
    },
    "f882eba9947c49b1a6a8b0744fd930eb": {
     "views": []
    },
    "f8ac8669a58c425fae794c1852c3ef7b": {
     "views": []
    },
    "f8baf4494ce747bd82ecab25c9e2c378": {
     "views": []
    },
    "f8cc2030e7b243418bb6222cce19832c": {
     "views": []
    },
    "f8df86741de14826b0d4dcb6ba1c2887": {
     "views": []
    },
    "f8e19c77e9604984a7ea51036d9bd893": {
     "views": []
    },
    "f8f92eed1f744b8687a698adf2e19a2e": {
     "views": []
    },
    "f90dc8790b014b3d9c79e0d362309496": {
     "views": []
    },
    "f95ad6a65e6544919341c39ae26c91d4": {
     "views": []
    },
    "f969b00df266456fb2e77e55421c459d": {
     "views": []
    },
    "f9745b36ac6a41459ae8448dbe4107f7": {
     "views": []
    },
    "f9752e9ed54a42d8a223090306ee59bf": {
     "views": []
    },
    "f98a38f6a3da4f8583c8df0c8cecbb35": {
     "views": []
    },
    "f9b9e5d6ec4f41a6bcd6875b66b63a0f": {
     "views": []
    },
    "f9d0ebd1d6b0426f8835b74ec5422220": {
     "views": []
    },
    "fa0c9da1528b4e92ad52d9bdff414d9f": {
     "views": []
    },
    "fa1e1362da924fceaee99c4ec4c83a76": {
     "views": []
    },
    "fa7806c733db436eb90e7ebee862754a": {
     "views": []
    },
    "fa78ff32982b4be0ba6fb483a12bc3b9": {
     "views": []
    },
    "fa87602445e24d1ea1c443087657bfa4": {
     "views": []
    },
    "fad22b161f3747bebdd507615010430a": {
     "views": []
    },
    "fb0661bfc7aa409e8c16e6f396b2de2e": {
     "views": []
    },
    "fb0e2c2e010b45ed9a941cc92b4afe51": {
     "views": []
    },
    "fb133569631d40239ae206ffa076476c": {
     "views": []
    },
    "fb24c45dd67d4ddda64c2191569310ab": {
     "views": []
    },
    "fb4a009b86bf48beb7c92238e192446d": {
     "views": []
    },
    "fb675a750dc2461095515f4cfff0d61e": {
     "views": []
    },
    "fb7e8f81871a4c71a40c12f9adcf2d08": {
     "views": []
    },
    "fba7a841024c4a77a8358f968eabcf32": {
     "views": []
    },
    "fbaf561d1bed4f868a0aecfde2a80809": {
     "views": []
    },
    "fbf14475e7c349ef8cd464770fef4cc7": {
     "views": []
    },
    "fc0b1e15d30a4ebdbd46d1fb499b86cf": {
     "views": []
    },
    "fc12406f2efa494d9347b6a8f1b1b74a": {
     "views": []
    },
    "fc24f1dbc0b74ca683f74879bbbb4c7f": {
     "views": []
    },
    "fc7f9f4b24d54a1eb74a3fcca0ade623": {
     "views": []
    },
    "fcba2602560443a381171b8909c25573": {
     "views": []
    },
    "fccd2963931143ab96b0a85d505c447e": {
     "views": []
    },
    "fcde43f074df4e5fab87008a742c9839": {
     "views": []
    },
    "fcf69d3524cc40f2b742483b231597de": {
     "views": []
    },
    "fcfc68765f564fc2a84251eea66ed8b8": {
     "views": []
    },
    "fd2c3649bedc4583be543f3ef4acec65": {
     "views": []
    },
    "fd2f457bfe574e49b0d9244751de018d": {
     "views": []
    },
    "fd3269984d874a51a7cfb170a4ab99a7": {
     "views": []
    },
    "fd98fc9a03de4076b4ff2ec85e38291c": {
     "views": []
    },
    "fda6a2b08fa848d49968f1b924f2c3dc": {
     "views": []
    },
    "fdabeb29fd0f4fa1a44815905b970137": {
     "views": []
    },
    "fdb3c07c850843db9ac63e218fc3c1ce": {
     "views": []
    },
    "fdb7bfe3fc9c40b5b6a52a1c34e669b6": {
     "views": []
    },
    "fdb8f6dda37f4ee5914b3947941b360f": {
     "views": []
    },
    "fdc4bf3c8bdb452da514ce46dbe0a476": {
     "views": []
    },
    "fdd399fa06ec46649d1e39690554453a": {
     "views": []
    },
    "fdefc3e94898444dbfb206d911cc4f21": {
     "views": []
    },
    "fdf744ffeef04b7ca1cf57ccbbc3426d": {
     "views": []
    },
    "fe034c40352940dc856f88be7f1f77da": {
     "views": []
    },
    "fe63f6d8614f4433920728acb9a6cbe9": {
     "views": []
    },
    "fe7ca88596424921b4dfab65a02c4035": {
     "views": []
    },
    "fe8e715a80db42f7911f92938b1685af": {
     "views": []
    },
    "fe9371a9af1846ff81fc3a5db2d54cd1": {
     "views": []
    },
    "fe9d7f0a0b834e7fbf2baf02173d68aa": {
     "views": []
    },
    "feac14ac394f437a9a161cdd2a4367fc": {
     "views": []
    },
    "feb3dad0ab974b8892d4d10769b141c6": {
     "views": []
    },
    "ff2c16e68192440a840154ba6ad240f2": {
     "views": []
    },
    "ff65b46eaa394bdd8dd21d03101e378d": {
     "views": []
    },
    "ff660db5a4cb4f68803cdceb9f524274": {
     "views": []
    },
    "ff845c5e147940a9a9bc85c66b57f84d": {
     "views": []
    }
   },
   "version": "1.1.2"
  }
 },
 "nbformat": 4,
 "nbformat_minor": 0
}
