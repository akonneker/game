{
 "cells": [
  {
   "cell_type": "code",
   "execution_count": 1,
   "metadata": {
    "collapsed": true
   },
   "outputs": [],
   "source": [
    "from __future__ import print_function"
   ]
  },
  {
   "cell_type": "code",
   "execution_count": 2,
   "metadata": {
    "collapsed": true
   },
   "outputs": [],
   "source": [
    "import sys\n",
    "sys.path.append('../build/')"
   ]
  },
  {
   "cell_type": "code",
   "execution_count": 3,
   "metadata": {
    "collapsed": false
   },
   "outputs": [
    {
     "name": "stdout",
     "output_type": "stream",
     "text": [
      "Populating the interactive namespace from numpy and matplotlib\n"
     ]
    }
   ],
   "source": [
    "%pylab inline\n",
    "np.set_printoptions(precision=4, suppress=True)"
   ]
  },
  {
   "cell_type": "code",
   "execution_count": 4,
   "metadata": {
    "collapsed": false
   },
   "outputs": [],
   "source": [
    "import versor as vsr\n",
    "from versor.drawing import *"
   ]
  },
  {
   "cell_type": "code",
   "execution_count": 5,
   "metadata": {
    "collapsed": true
   },
   "outputs": [],
   "source": [
    "from IPython.display import display\n",
    "from ipywidgets import HTML, Text, interact, widgets\n",
    "from traitlets import link, dlink"
   ]
  },
  {
   "cell_type": "code",
   "execution_count": 6,
   "metadata": {
    "collapsed": false
   },
   "outputs": [],
   "source": [
    "def rgb2hex(r, g, b):\n",
    "    return \"#{0:02x}{1:02x}{2:02x}\".format(r, g, b)"
   ]
  },
  {
   "cell_type": "markdown",
   "metadata": {},
   "source": [
    "# Figures"
   ]
  },
  {
   "cell_type": "markdown",
   "metadata": {},
   "source": [
    "## Duality"
   ]
  },
  {
   "cell_type": "code",
   "execution_count": 7,
   "metadata": {
    "collapsed": false
   },
   "outputs": [],
   "source": [
    "B = vsr.Biv(1,0,0)\n",
    "a = B.duale()\n",
    "\n",
    "scene = Scene(children=[\n",
    "        frame_mesh(),\n",
    "        vector_mesh(a,color='blue', arrow=True),\n",
    "        bivector_mesh(B,as_plane=False,color='hotpink'),\n",
    "#         DirectionalLight(color='#ccaabb', position=[1,1,1]),\n",
    "        AmbientLight(color='#cccccc')])\n",
    "camera = PerspectiveCamera(position=[3, -3, 3])\n",
    "renderer = Renderer(camera=camera, \n",
    "                    scene=scene, \n",
    "                    controls=[TrackballControls(controlling=camera)],\n",
    "                    background = 'white')\n",
    "# renderer.width = '1024'\n",
    "# renderer.height = '768'\n",
    "\n",
    "display(renderer)"
   ]
  },
  {
   "cell_type": "markdown",
   "metadata": {},
   "source": [
    "## Projection and Rejection"
   ]
  },
  {
   "cell_type": "code",
   "execution_count": 8,
   "metadata": {
    "collapsed": false
   },
   "outputs": [],
   "source": [
    "a = vsr.Vec(1,1,1)\n",
    "B = vsr.Biv(1,0,0)\n",
    "c = a.project_onto(B)\n",
    "d = a.reject_from(B)\n",
    "\n",
    "scene = Scene(children=[\n",
    "        frame_mesh(),\n",
    "        vector_mesh(a,color='gray', arrow=True),\n",
    "        vector_mesh(c,color='gray'),\n",
    "        vector_mesh(d,position=np.array(c).tolist(),color='gray'),\n",
    "        bivector_mesh(B,color='hotpink'),\n",
    "#         DirectionalLight(color='#ccaabb', position=[1,1,1]),\n",
    "        AmbientLight(color='#cccccc')])\n",
    "camera = PerspectiveCamera(position=[3, -3, 3])\n",
    "renderer = Renderer(camera=camera, \n",
    "                    scene=scene, \n",
    "                    controls=[TrackballControls(controlling=camera)],\n",
    "                    background = 'white')\n",
    "# renderer.width = '1024'\n",
    "# renderer.height = '768'\n",
    "display(renderer)"
   ]
  },
  {
   "cell_type": "markdown",
   "metadata": {},
   "source": [
    "## Reflection"
   ]
  },
  {
   "cell_type": "code",
   "execution_count": 9,
   "metadata": {
    "collapsed": false
   },
   "outputs": [],
   "source": [
    "a = vsr.Vec(1,0,1)\n",
    "B = vsr.Biv(2,0,0)\n",
    "n = B.duale().unit()\n",
    "a_reflected = a.reflect_in_line(n)\n",
    "a_reflected2 = a.reflect_in_plane(n)\n",
    "\n",
    "children = [\n",
    "    frame_mesh(),\n",
    "    vector_mesh(a,color='black', arrow=True),\n",
    "    vector_mesh(a_reflected,color='black', arrow=True),\n",
    "    vector_mesh(a_reflected2,color='black', arrow=True),\n",
    "#     vector_mesh(n,color='black', arrow=True),\n",
    "    bivector_mesh(B, as_plane=True,color='hotpink')]\n",
    "\n",
    "children[-1].material.transparent = True\n",
    "children[-1].material.opacity = 0.75\n",
    "\n",
    "\n",
    "def show(children):\n",
    "    scene = Scene(children= children + [AmbientLight(color='#cccccc')])\n",
    "    camera = PerspectiveCamera(position=[1, -3, 0])\n",
    "    renderer = Renderer(camera=camera, \n",
    "                        scene=scene, \n",
    "                        controls=[TrackballControls(controlling=camera)],\n",
    "                        background = 'white')\n",
    "    return renderer\n",
    "display(show(children))"
   ]
  },
  {
   "cell_type": "markdown",
   "metadata": {},
   "source": [
    "## Rotation"
   ]
  },
  {
   "cell_type": "code",
   "execution_count": 10,
   "metadata": {
    "collapsed": false
   },
   "outputs": [],
   "source": [
    "n1 = vsr.Vec(0,1,0).unit()\n",
    "n2 = n1.spin(vsr.Biv(-np.deg2rad(30) / 2,0,0).exp())\n",
    "B = n1 ^ n2\n",
    "R = n1 * n2\n",
    "a = vsr.Vec(1,0,1).unit()\n",
    "a_rot = a.reflect_in_line(n2).reflect_in_line(n1)\n",
    "\n",
    "B_mesh = bivector_mesh(B,color='gray')\n",
    "B_mesh.material.opacity = 0.9\n",
    "B_mesh.material.transparent = True\n",
    "\n",
    "scene = Scene(children=[\n",
    "#         frame_mesh(),\n",
    "        vector_mesh(n1,color='yellow'),\n",
    "        vector_mesh(n2,color='cyan'),\n",
    "        vector_mesh(a, color='hotpink'),\n",
    "        vector_mesh(a.reflect_in_line(n2)),\n",
    "        vector_mesh(a_rot, color='black'),\n",
    "#         bivector_mesh(n1.unduale(),color='yellow'),\n",
    "#         bivector_mesh(n2.unduale(),color='cyan'),\n",
    "        B_mesh,\n",
    "        AmbientLight(color='#cccccc')])\n",
    "\n",
    "camera = PerspectiveCamera(position=[3, -3, 3])\n",
    "renderer = Renderer(camera=camera, \n",
    "                    scene=scene, \n",
    "                    controls=[TrackballControls(controlling=camera)],\n",
    "                    background = 'white')\n",
    "# renderer.width = '1024'\n",
    "# renderer.height = '768'\n",
    "display(renderer)"
   ]
  },
  {
   "cell_type": "markdown",
   "metadata": {
    "collapsed": false
   },
   "source": [
    "# Conformal Geometric Algebra"
   ]
  },
  {
   "cell_type": "code",
   "execution_count": 11,
   "metadata": {
    "collapsed": false
   },
   "outputs": [],
   "source": [
    "p1 = vsr.Vec(1,0,1).null()\n",
    "p2 = vsr.Vec(0,1,1).null()\n",
    "\n",
    "scene = Scene(children=[\n",
    "        frame_mesh(),\n",
    "        point_mesh(p1,color='lightskyblue'),\n",
    "        vector_mesh(p1.vec(),color='lightslategray', arrow=True),\n",
    "        point_mesh(p2,color='lightskyblue'),\n",
    "        vector_mesh(p2.vec(),color='lightslategray', arrow=True),\n",
    "\n",
    "        AmbientLight(color='#cccccc')])\n",
    "\n",
    "camera = PerspectiveCamera(position=[3, -3, 3])\n",
    "renderer = Renderer(camera=camera, \n",
    "                    scene=scene, \n",
    "                    controls=[TrackballControls(controlling=camera)],\n",
    "                    background = 'white')\n",
    "# renderer.width = '1024'\n",
    "# renderer.height = '768'\n",
    "display(renderer)"
   ]
  },
  {
   "cell_type": "code",
   "execution_count": 12,
   "metadata": {
    "collapsed": false
   },
   "outputs": [],
   "source": [
    "# p1 = vsr.Vec(1,0,1).null()\n",
    "p2 = vsr.Vec(0,1,1).null()\n",
    "p3 = vsr.Vec(1,1,1).null()\n",
    "p4 = vsr.Vec(0,0,1.5).null()\n",
    "pln = vsr.Pln(p2, p3, p4).dual()\n",
    "\n",
    "\n",
    "scene = Scene(children=[\n",
    "        frame_mesh(),\n",
    "        point_mesh(p2,color='lightskyblue'),\n",
    "        vector_mesh(p2.vec(),color='lightskyblue', arrow=True),\n",
    "\n",
    "        point_mesh(p3,color='lightskyblue'),\n",
    "        point_mesh(p4,color='lightskyblue'),\n",
    "        plane_mesh(pln, width=3, height=3, color='hotpink'),\n",
    "\n",
    "        AmbientLight(color='#cccccc')])\n",
    "\n",
    "camera = PerspectiveCamera(position=[3, -3, 3])\n",
    "renderer = Renderer(camera=camera, \n",
    "                    scene=scene, \n",
    "                    controls=[TrackballControls(controlling=camera)],\n",
    "                    background = 'white')\n",
    "renderer.width = '1024'\n",
    "renderer.height = '768'\n",
    "display(renderer)"
   ]
  },
  {
   "cell_type": "code",
   "execution_count": 43,
   "metadata": {
    "collapsed": false
   },
   "outputs": [
    {
     "name": "stdout",
     "output_type": "stream",
     "text": [
      "Vec: [ 0 0.6 1.2 ]\n"
     ]
    }
   ],
   "source": [
    "# p1 = vsr.Vec(1,0,1).null()\n",
    "p2 = vsr.Vec(0,1,1).null()\n",
    "p3 = vsr.Vec(1,1,1).null()\n",
    "p4 = vsr.Vec(0,0,1.5).null()\n",
    "pln = vsr.Pln(p2, p3, p4).dual().unit()\n",
    "\n",
    "loc = pln.loc(vsr.Vec(0,0,0).null()).vec()\n",
    "n = loc - vsr.Vec(0,0,0)\n",
    "print(n)\n",
    "\n",
    "\n",
    "scene = Scene(children=[\n",
    "        frame_mesh(),\n",
    "#         point_mesh(loc,color='lightskyblue'),\n",
    "        plane_mesh(pln, width=3, height=3, color='hotpink'),\n",
    "        vector_mesh(n),\n",
    "        vector_mesh(n,position=loc,arrow=True),\n",
    "        AmbientLight(color='#cccccc')])\n",
    "\n",
    "camera = PerspectiveCamera(position=[3, -3, 3])\n",
    "renderer = Renderer(camera=camera, \n",
    "                    scene=scene, \n",
    "                    controls=[TrackballControls(controlling=camera)],\n",
    "                    background = 'white')\n",
    "renderer.width = '1024'\n",
    "renderer.height = '768'\n",
    "display(renderer)"
   ]
  },
  {
   "cell_type": "code",
   "execution_count": 14,
   "metadata": {
    "collapsed": false
   },
   "outputs": [
    {
     "data": {
      "text/plain": [
       "Vec: [ 0 0.6 1.2 ]"
      ]
     },
     "execution_count": 14,
     "metadata": {},
     "output_type": "execute_result"
    }
   ],
   "source": [
    "n"
   ]
  },
  {
   "cell_type": "markdown",
   "metadata": {},
   "source": [
    "### Circle"
   ]
  },
  {
   "cell_type": "code",
   "execution_count": 15,
   "metadata": {
    "collapsed": false
   },
   "outputs": [],
   "source": [
    "# p1 = vsr.Vec(1,0,1).null()\n",
    "p2 = vsr.Vec(0,1,1).null()\n",
    "p3 = vsr.Vec(1,1,1).null()\n",
    "p4 = vsr.Vec(0,0,1.5).null()\n",
    "cir = vsr.Cir(p2, p3, p4)\n",
    "\n",
    "\n",
    "scene = Scene(children=[\n",
    "        frame_mesh(),\n",
    "        point_mesh(p2,color='lightskyblue'),\n",
    "        point_mesh(p3,color='lightskyblue'),\n",
    "        point_mesh(p4,color='lightskyblue'),\n",
    "        circle_mesh(cir, color='coral'),\n",
    "\n",
    "        AmbientLight(color='#cccccc')])\n",
    "\n",
    "camera = PerspectiveCamera(position=[3, -3, 3])\n",
    "renderer = Renderer(camera=camera, \n",
    "                    scene=scene, \n",
    "                    controls=[TrackballControls(controlling=camera)],\n",
    "                    background = 'white')\n",
    "renderer.width = '1024'\n",
    "renderer.height = '768'\n",
    "display(renderer)"
   ]
  },
  {
   "cell_type": "code",
   "execution_count": 16,
   "metadata": {
    "collapsed": true
   },
   "outputs": [],
   "source": [
    "vsr.Sph?"
   ]
  },
  {
   "cell_type": "markdown",
   "metadata": {},
   "source": [
    "### Direct Line"
   ]
  },
  {
   "cell_type": "code",
   "execution_count": 17,
   "metadata": {
    "collapsed": false
   },
   "outputs": [
    {
     "name": "stdout",
     "output_type": "stream",
     "text": [
      "Dll: [ 0 -0.7071 0.7071 -0.7071 0.7071 0.7071 ]\n"
     ]
    }
   ],
   "source": [
    "p1 = vsr.Vec(1,0,1).null()\n",
    "p2 = vsr.Vec(2,1,1).null()\n",
    "l = vsr.Dll(p1,p2).unit()\n",
    "print(l)\n",
    "dlp = vsr.Dlp(l.dir().vec().unit(), 0)\n",
    "\n",
    "ld = vsr.Vec(*np.array(l)[3:])\n",
    "\n",
    "l_dir = l.dir().vec().unit()\n",
    "\n",
    "l_loc = l.loc(vsr.Vec(0,0,0).null()).vec()\n",
    "\n",
    "d = l_loc <= l_dir.unduale()\n",
    "\n",
    "vertices = [[0,0,0], \n",
    "            np.array(p1.vec()).tolist(),\n",
    "            np.array(p2.vec()).tolist(),\n",
    "            np.array(p2.vec() - p1.vec()).tolist() \n",
    "           ]\n",
    "faces= [[1,2,3],[1,4,3]]\n",
    "\n",
    "scene = Scene(children=[\n",
    "        frame_mesh(),\n",
    "        point_mesh(p1,color='#ff00ff'),\n",
    "        vector_mesh(p1.vec(),color='#ff00ff'),\n",
    "#         plane_mesh(dlp, color='plum'),\n",
    "        Mesh(geometry=PlainGeometry(vertices=vertices, faces=faces),\n",
    "             material=LambertMaterial(color='palegreen',\n",
    "                                      transparent=True,\n",
    "                                      opacity=0.75)),\n",
    "        \n",
    "        point_mesh(p2,color='#00ffff'),\n",
    "#         vector_mesh(l_dir,position=p1,color='#ffff00', arrow=True),\n",
    "#         bivector_mesh(l.biv(), color='#ffff00'),\n",
    "#         bivector_mesh(p1.vec() ^ p2.vec(), color='coral', as_plane=True),\n",
    "#         vector_mesh(l.drv().vec(), color='coral'),\n",
    "#         point_mesh(l.meet(dlp), color='red'),\n",
    "\n",
    "        line_mesh(l, length=100),\n",
    "        \n",
    "        AmbientLight(color='#cccccc')])\n",
    "\n",
    "camera = PerspectiveCamera(position=[3, -3, 3])\n",
    "renderer = Renderer(camera=camera, \n",
    "                    scene=scene, \n",
    "                    controls=[TrackballControls(controlling=camera)],\n",
    "                    background = 'white')\n",
    "renderer.width = '1024'\n",
    "renderer.height = '768'\n",
    "display(renderer)"
   ]
  },
  {
   "cell_type": "markdown",
   "metadata": {},
   "source": [
    "### Dual Line"
   ]
  },
  {
   "cell_type": "code",
   "execution_count": 18,
   "metadata": {
    "collapsed": false
   },
   "outputs": [
    {
     "name": "stdout",
     "output_type": "stream",
     "text": [
      "Dll: [ 0 -0.7071 0.7071 -0.7071 0.7071 0.7071 ]\n"
     ]
    }
   ],
   "source": [
    "p1 = vsr.Vec(1,0,1).null()\n",
    "p2 = vsr.Vec(2,1,1).null()\n",
    "l = vsr.Dll(p1,p2).unit()\n",
    "print(l)\n",
    "dlp = vsr.Dlp(l.dir().vec().unit(), 0)\n",
    "\n",
    "ld = vsr.Vec(*np.array(l)[3:])\n",
    "\n",
    "l_dir = l.dir().vec().unit()\n",
    "\n",
    "l_loc = l.loc(vsr.Vec(0,0,0).null()).vec()\n",
    "\n",
    "d = l_loc <= l_dir.unduale()\n",
    "\n",
    "vertices = [[0,0,0], \n",
    "            np.array(p1.vec()).tolist(),\n",
    "            np.array(p2.vec()).tolist(),\n",
    "            np.array(p2.vec() - p1.vec()).tolist() \n",
    "           ]\n",
    "faces= [[1,2,3],[1,4,3]]\n",
    "\n",
    "scene = Scene(children=[\n",
    "        frame_mesh(),\n",
    "        point_mesh(p1,color='#ff00ff'),\n",
    "        vector_mesh(p1.vec(),color='#ff00ff'),\n",
    "#         plane_mesh(dlp, color='plum'),\n",
    "#         Mesh(geometry=PlainGeometry(vertices=vertices, faces=faces),\n",
    "#              material=LambertMaterial(color='palegreen',\n",
    "#                                       transparent=True,\n",
    "#                                       opacity=0.75)),\n",
    "        \n",
    "        point_mesh(p2,color='#00ffff'),\n",
    "#         vector_mesh(l_dir,position=p1,color='#ffff00', arrow=True),\n",
    "        bivector_mesh(l.biv(), color='lightblue'),\n",
    "#         bivector_mesh(p1.vec() ^ p2.vec(), color='coral', as_plane=True),\n",
    "        vector_mesh(l.drv().vec(), color='deepskyblue'),\n",
    "#         point_mesh(l.meet(dlp), color='red'),\n",
    "\n",
    "        line_mesh(l, length=100),\n",
    "        \n",
    "        AmbientLight(color='#cccccc')])\n",
    "\n",
    "camera = PerspectiveCamera(position=[3, -3, 3])\n",
    "renderer = Renderer(camera=camera, \n",
    "                    scene=scene, \n",
    "                    controls=[TrackballControls(controlling=camera)],\n",
    "                    background = 'white')\n",
    "renderer.width = '1024'\n",
    "renderer.height = '768'\n",
    "display(renderer)"
   ]
  },
  {
   "cell_type": "markdown",
   "metadata": {},
   "source": [
    "### Tangent vector"
   ]
  },
  {
   "cell_type": "code",
   "execution_count": 19,
   "metadata": {
    "collapsed": false
   },
   "outputs": [
    {
     "name": "stdout",
     "output_type": "stream",
     "text": [
      "Dll: [ 0 -0.7071 0.7071 -0.7071 0.7071 0.7071 ]\n"
     ]
    }
   ],
   "source": [
    "p1 = vsr.Vec(1,0,1).null()\n",
    "p2 = vsr.Vec(2,1,1).null()\n",
    "l = vsr.Dll(p1,p2).unit()\n",
    "print(l)\n",
    "dlp = vsr.Dlp(l.dir().vec().unit(), 0)\n",
    "\n",
    "ld = vsr.Vec(*np.array(l)[3:])\n",
    "\n",
    "l_dir = l.dir().vec().unit()\n",
    "\n",
    "l_loc = l.loc(vsr.Vec(0,0,0).null()).vec()\n",
    "\n",
    "d = l_loc <= l_dir.unduale()\n",
    "\n",
    "vertices = [[0,0,0], \n",
    "            np.array(p1.vec()).tolist(),\n",
    "            np.array(p2.vec()).tolist(),\n",
    "            np.array(p2.vec() - p1.vec()).tolist() \n",
    "           ]\n",
    "faces= [[1,2,3],[1,4,3]]\n",
    "\n",
    "scene = Scene(children=[\n",
    "        frame_mesh(),\n",
    "        point_mesh(p1,color='#ff00ff'),\n",
    "        vector_mesh(p1.vec(),color='#ff00ff'),\n",
    "        vector_mesh((p2.vec() - p1.vec()).unit(), position=p1.vec(), arrow=True),\n",
    "        vector_mesh((p2.vec() - p1.vec()).unit(), arrow=True),\n",
    "\n",
    "        \n",
    "        AmbientLight(color='#cccccc')])\n",
    "\n",
    "camera = PerspectiveCamera(position=[3, -3, 3])\n",
    "renderer = Renderer(camera=camera, \n",
    "                    scene=scene, \n",
    "                    controls=[TrackballControls(controlling=camera)],\n",
    "                    background = 'white')\n",
    "renderer.width = '1024'\n",
    "renderer.height = '768'\n",
    "display(renderer)"
   ]
  },
  {
   "cell_type": "markdown",
   "metadata": {},
   "source": [
    "### Carrier flats"
   ]
  },
  {
   "cell_type": "code",
   "execution_count": 20,
   "metadata": {
    "collapsed": false
   },
   "outputs": [],
   "source": [
    "# p1 = vsr.Vec(1,0,1).null()\n",
    "p2 = vsr.Vec(0,1,1).null()\n",
    "p3 = vsr.Vec(1,1,1).null()\n",
    "p4 = vsr.Vec(0,0,1.5).null()\n",
    "cir = vsr.Cir(p2, p3, p4)\n",
    "pln = vsr.Pln(p2,p3,p4)\n",
    "\n",
    "\n",
    "scene = Scene(children=[\n",
    "        frame_mesh(),\n",
    "#         point_mesh(p2,color='lightskyblue'),\n",
    "#         point_mesh(p3,color='lightskyblue'),\n",
    "#         point_mesh(p4,color='lightskyblue'),\n",
    "        circle_mesh(cir, color='black'),\n",
    "        plane_mesh(pln, width=3, height=3, color='lightskyblue'),\n",
    "\n",
    "        AmbientLight(color='#cccccc')])\n",
    "\n",
    "camera = PerspectiveCamera(position=[3, -3, 3])\n",
    "renderer = Renderer(camera=camera, \n",
    "                    scene=scene, \n",
    "                    controls=[TrackballControls(controlling=camera)],\n",
    "                    background = 'white')\n",
    "renderer.width = '1024'\n",
    "renderer.height = '768'\n",
    "display(renderer)"
   ]
  },
  {
   "cell_type": "markdown",
   "metadata": {},
   "source": [
    "### Transformations"
   ]
  },
  {
   "cell_type": "code",
   "execution_count": 21,
   "metadata": {
    "collapsed": false
   },
   "outputs": [],
   "source": [
    "\n",
    "normal = vsr.Vec(1,1,1).unit()\n",
    "pao = vsr.Vec(0,0,0).null()\n",
    "pln1 = vsr.Dlp(normal,1.)\n",
    "pln2 = vsr.Dlp(normal,2.)\n",
    "\n",
    "p1 = pao.reflect_in_plane(pln2).reflect_in_plane(pln1)\n",
    "\n",
    "scene = Scene(children=[\n",
    "        frame_mesh(),\n",
    "        plane_mesh(pln1, color='coral', width=2., height=2.),\n",
    "        plane_mesh(pln2, color='coral', width=2., height=2.),\n",
    "        \n",
    "        point_mesh(p1),\n",
    "        \n",
    "        AmbientLight(color='#cccccc')])\n",
    "\n",
    "camera = PerspectiveCamera(position=[3, -3, 3])\n",
    "renderer = Renderer(camera=camera, \n",
    "                    scene=scene, \n",
    "                    controls=[TrackballControls(controlling=camera)],\n",
    "                    background = 'white')\n",
    "# renderer.width = '1024'\n",
    "# renderer.height = '768'\n",
    "display(renderer)"
   ]
  },
  {
   "cell_type": "code",
   "execution_count": 22,
   "metadata": {
    "collapsed": false
   },
   "outputs": [
    {
     "name": "stdout",
     "output_type": "stream",
     "text": [
      "Dls: [ 1.155 1.155 1.155 1 4 ]\n"
     ]
    }
   ],
   "source": [
    "print(pln2.loc(pao))"
   ]
  },
  {
   "cell_type": "code",
   "execution_count": 23,
   "metadata": {
    "collapsed": false
   },
   "outputs": [],
   "source": [
    "\n",
    "l1 = vsr.Dll(vsr.Vec(0,0,1), vsr.Vec(1,1,1)).unit()\n",
    "l = vsr.Dll(vsr.Vec(0,0.,1).null(), vsr.Vec(1,0,1).null()).unit()\n",
    "\n",
    "p1 = vsr.Vec(0,0,0).null().reflect_in_line(l1.inv())\n",
    "p2 = vsr.Vec(0,0,0).null().reflect_in_line(l1.inv()).reflect_in_line(l)\n",
    "\n",
    "mot = l.ratio(l1,1.0)\n",
    "pao = vsr.Vec(0,0,0).null()\n",
    "\n",
    "scene = Scene(children=[\n",
    "        frame_mesh(),\n",
    "\n",
    "        point_mesh(p1, color='magenta'),\n",
    "        point_mesh(p2, color='cyan'),\n",
    "        line_mesh(l1, color='red', length=100),\n",
    "\n",
    "        line_mesh(l1.inv(), color='magenta', length=100),\n",
    "        line_mesh(l, color='cyan', length=100),\n",
    "#         line_mesh( color='cyan', length=100),\n",
    "        Line(geometry=PlainGeometry(vertices=[[0,0,0], np.array(p1.vec()).tolist()],\n",
    "                                   colors = ['magenta', 'magenta']), \n",
    "            material=LineBasicMaterial(linewidth=1,\n",
    "                                       vertexColors='VertexColors'), \n",
    "            type='LinePieces'),\n",
    "        Line(geometry=PlainGeometry(vertices=[np.array(p1.vec()).tolist(), np.array(p2.vec()).tolist()],\n",
    "                                   colors = ['cyan', 'cyan']), \n",
    "            material=LineBasicMaterial(linewidth=1,\n",
    "                                       vertexColors='VertexColors'), \n",
    "            type='LinePieces'),\n",
    "        \n",
    "        point_mesh(pao.spin(mot), color='hotpink'),\n",
    "        line_mesh(l.spin(mot)),\n",
    "        \n",
    "        AmbientLight(color='#cccccc')])\n",
    "\n",
    "camera = PerspectiveCamera(position=[3, -3, 3])\n",
    "renderer = Renderer(camera=camera, \n",
    "                    scene=scene, \n",
    "                    controls=[TrackballControls(controlling=camera)],\n",
    "                    background = 'white')\n",
    "# renderer.width = '1024'\n",
    "# renderer.height = '768'\n",
    "display(renderer)"
   ]
  },
  {
   "cell_type": "code",
   "execution_count": 24,
   "metadata": {
    "collapsed": false
   },
   "outputs": [
    {
     "name": "stdout",
     "output_type": "stream",
     "text": [
      "Pnt: [ -0.6667 0.6667 0.6667 1 0.6667 ]\n"
     ]
    }
   ],
   "source": [
    "print(p2)"
   ]
  },
  {
   "cell_type": "code",
   "execution_count": 25,
   "metadata": {
    "collapsed": false
   },
   "outputs": [
    {
     "name": "stdout",
     "output_type": "stream",
     "text": [
      "Pnt: [ -0.6667 0.6667 0.6667 1 0.6667 ]\n"
     ]
    }
   ],
   "source": [
    "print(p2)"
   ]
  },
  {
   "cell_type": "code",
   "execution_count": 26,
   "metadata": {
    "collapsed": false
   },
   "outputs": [
    {
     "name": "stdout",
     "output_type": "stream",
     "text": [
      "Mot: [ 0.89 0.33 0.33 0 0.33 0 0 0 ]\n"
     ]
    }
   ],
   "source": [
    "M = ((l * l1.inv()).log() / 2.).exp()\n",
    "print(M)"
   ]
  },
  {
   "cell_type": "code",
   "execution_count": 27,
   "metadata": {
    "collapsed": false
   },
   "outputs": [
    {
     "name": "stdout",
     "output_type": "stream",
     "text": [
      "Pnt: [ -0.6667 0.6667 0.6667 1 0.6667 ]\n"
     ]
    }
   ],
   "source": [
    "print(vsr.Vec(0,0,0).null().spin(l * l1.inv()))"
   ]
  },
  {
   "cell_type": "code",
   "execution_count": 28,
   "metadata": {
    "collapsed": false
   },
   "outputs": [
    {
     "name": "stdout",
     "output_type": "stream",
     "text": [
      "Pnt: [ -0.6667 0.6667 0.6667 1 0.6667 ]\n"
     ]
    }
   ],
   "source": [
    "print(vsr.Vec(0,0,0).null().reflect_in_line(l1.inv()).reflect_in_line(l))"
   ]
  },
  {
   "cell_type": "markdown",
   "metadata": {},
   "source": [
    "### Lines"
   ]
  },
  {
   "cell_type": "code",
   "execution_count": 51,
   "metadata": {
    "collapsed": false
   },
   "outputs": [
    {
     "name": "stdout",
     "output_type": "stream",
     "text": [
      "Dll: [ 0.7071 0 0 0 -0.7071 0.7071 ]\n",
      "Vec: [ 0 0 1 ]\n"
     ]
    }
   ],
   "source": [
    "p1 = vsr.Vec(1,0,1).null()\n",
    "p2 = vsr.Vec(2,1,1).null()\n",
    "\n",
    "l1 = vsr.Dll(vsr.Vec(0,0,0), vsr.Vec(1,0,0)).unit()\n",
    "# l = vsr.Dll(vsr.Vec(0,0.,1).null(), vsr.Vec(1,0,1).null()).unit()\n",
    "\n",
    "l = vsr.Dll(p1,p2).unit()\n",
    "l_dir = l.dir().vec().unit()\n",
    "l_loc = l.loc(vsr.Vec(0,0,0).null()).vec()\n",
    "\n",
    "l2 = l - l1\n",
    "l3 = l.comm(l1)\n",
    "print(l3)\n",
    "\n",
    "m1 = l1.ratio(l,0.1)\n",
    "# print(l)\n",
    "# print(l1.spin(m1))\n",
    "# ms = [m1]\n",
    "# for i in range(9):\n",
    "#     m1 = m1 * m1\n",
    "#     ms.append(m1)\n",
    "    \n",
    "# print(ms)\n",
    "    \n",
    "\n",
    "# line_meshes = [line_mesh(l) for ] \n",
    "\n",
    "m = ((l * l1.inv()).log() * 0.5 ).exp()\n",
    "w = m.trs().reject_from(m.rot().log().unit())\n",
    "v = m.trs().project_onto(m.rot().log().unit())\n",
    "print(w)\n",
    "\n",
    "d = l_loc <= l_dir.unduale()\n",
    "\n",
    "scene = Scene(children=[\n",
    "        frame_mesh(),\n",
    "#         line_mesh(l1.spin(m1)),\n",
    "#         line_mesh(l1.spin(m1 * m1)),\n",
    "#         line_mesh(l1.spin(m1 * m1 * m1)),\n",
    "#         line_mesh(l1.spin(m1 * m1 * m1 * m1)),\n",
    "#         line_mesh(l1.spin(m1 * m1 * m1 * m1 * m1)),\n",
    "#         line_mesh(l1.spin(m1 * m1 * m1 * m1 * m1)),\n",
    "#         line_mesh(l1.spin(m1 * m1 * m1 * m1 * m1 * m1 )),\n",
    "#         line_mesh(l1.spin(m1 * m1 * m1 * m1 * m1 * m1 * m1)),\n",
    "#         line_mesh(l1.spin(m1 * m1 * m1 * m1 * m1 * m1 * m1 * m1)),\n",
    "#         line_mesh(l1.spin(m1 * m1 * m1 * m1 * m1 * m1 * m1 * m1 * m1)),\n",
    "#         line_mesh(l1.spin(m1 * m1 * m1 * m1 * m1 * m1 * m1 * m1 * m1 * m1)),\n",
    "        \n",
    "#         point_mesh(vsr.Vec(0,0,1), color='blue'),\n",
    "#         point_mesh(vsr.Vec(1,0,1), color='red'),\n",
    "        line_mesh(l, color='steelblue', length=100),\n",
    "        line_mesh(l1, color='slategray', length=100),\n",
    "#         point_mesh(l_loc, color=rgb2hex(255,56,0)),\n",
    "#         point_mesh(vsr.Vec(0,0,0),color='#ffff00'),\n",
    "#         point_mesh(p1,color='#ff00ff'),\n",
    "#         vector_mesh(w, position=v),\n",
    "#         vector_mesh(v),\n",
    "        \n",
    "        # l2 = l - l1\n",
    "#         line_mesh(l2, color='hotpink', length=100),\n",
    "        \n",
    "        # l3 = l x l2 commutator\n",
    "        line_mesh(l3, color='lightgreen', length=100),\n",
    "\n",
    "\n",
    "#         vector_mesh(p1.vec(),color='#ff00ff'),\n",
    "#         vector_mesh(l_dir,positil = l1.trs(vsr.Vec(0,0,1))on=p1,color='#ff00ff', arrow=True),\n",
    "\n",
    "\n",
    "        \n",
    "        AmbientLight(color='#cccccc')])\n",
    "\n",
    "camera = PerspectiveCamera(position=[3, -3, 3])\n",
    "renderer = Renderer(camera=camera, \n",
    "                    scene=scene, \n",
    "                    controls=[TrackballControls(controlling=camera)],\n",
    "                    background = 'white')\n",
    "renderer.width = '1024'\n",
    "renderer.height = '768'\n",
    "display(renderer)"
   ]
  },
  {
   "cell_type": "code",
   "execution_count": 30,
   "metadata": {
    "collapsed": false
   },
   "outputs": [
    {
     "name": "stdout",
     "output_type": "stream",
     "text": [
      "Dll: [ 0 0 0 0 0 1 ]\n"
     ]
    }
   ],
   "source": [
    "print(l3)"
   ]
  },
  {
   "cell_type": "code",
   "execution_count": 31,
   "metadata": {
    "collapsed": false
   },
   "outputs": [
    {
     "name": "stdout",
     "output_type": "stream",
     "text": [
      "Dll: [ 0 0 1 0 1 0 ]\n",
      "Dll: [ 0 0 1 0 0 0 ]\n",
      "Dll: [ 0 0 0 0 1 0 ]\n"
     ]
    }
   ],
   "source": [
    "print(l)\n",
    "print(l1)\n",
    "print(l2)"
   ]
  },
  {
   "cell_type": "code",
   "execution_count": 32,
   "metadata": {
    "collapsed": false
   },
   "outputs": [
    {
     "name": "stdout",
     "output_type": "stream",
     "text": [
      "Mot: [ 1 0 0 0 0 0 -0.5 0 ]\n"
     ]
    }
   ],
   "source": [
    "print(m1 * m1 * m1 * m1 * m1 * m1 * m1 * m1 * m1 * m1)"
   ]
  },
  {
   "cell_type": "code",
   "execution_count": 33,
   "metadata": {
    "collapsed": false
   },
   "outputs": [],
   "source": [
    "l1 = vsr.Dll(vsr.Vec(0,0,0), vsr.Vec(1,0,0)).unit()\n",
    "l2 = vsr.Dll(vsr.Vec(0,-1,1), vsr.Vec(1,-1,1)).unit()\n",
    "pao = vsr.Vec(0,0,0).null()\n",
    "\n",
    "l3 = l2 - l1\n",
    "l4 = l2.comm(l1)\n",
    "\n",
    "scene = Scene(children=[\n",
    "        frame_mesh(),\n",
    "        line_mesh(l1, color='#ffff00'),\n",
    "        point_mesh(pao),\n",
    "        vector_mesh(pao.vec()),\n",
    "        \n",
    "        line_mesh(l2, color='#ffff00'),\n",
    "        \n",
    "        line_mesh(l3, color='powderblue'), \n",
    "        line_mesh(l4, color='deeppink'),\n",
    "\n",
    "        vector_mesh(l_dir, position=l_loc, color=rgb2hex(255,0,123), arrow=True),\n",
    "        bivector_mesh((l_loc ^ l_dir), color = 'salmon'),\n",
    "\n",
    "        \n",
    "        AmbientLight(color='#cccccc')])\n",
    "\n",
    "camera = PerspectiveCamera(position=[3, -3, 3])\n",
    "renderer = Renderer(camera=camera, \n",
    "                    scene=scene, \n",
    "                    controls=[TrackballControls(controlling=camera)],\n",
    "                    background = 'gray')\n",
    "# renderer.width = '1024'\n",
    "# renderer.height = '768'\n",
    "display(renderer)"
   ]
  },
  {
   "cell_type": "code",
   "execution_count": 34,
   "metadata": {
    "collapsed": false
   },
   "outputs": [
    {
     "name": "stdout",
     "output_type": "stream",
     "text": [
      "Dll: [ 0 0 1 0 0 0 ]\n",
      "Dll: [ 0.5774 0.5774 0.5774 0 0.5774 0.5774 ]\n",
      "Dll: [ 0.5774 0.5774 -0.4226 0 0.5774 0.5774 ]\n",
      "Dll: [ -0.5774 0.5774 0 0 -0.5774 0.5774 ]\n"
     ]
    }
   ],
   "source": [
    "print(l1)\n",
    "print(l2)\n",
    "print(l3)\n",
    "print(l4)"
   ]
  },
  {
   "cell_type": "code",
   "execution_count": 35,
   "metadata": {
    "collapsed": false
   },
   "outputs": [
    {
     "name": "stdout",
     "output_type": "stream",
     "text": [
      "Mot: [ 0.87 0 -0.5 0 -0.68 -0.43 -0.18 -0.25 ]\n",
      "Vec: [ 1 1 1 ]\n",
      "Rot: [ 0.87 0 -0.5 0 ]\n"
     ]
    }
   ],
   "source": [
    "motor = vsr.Vec(1,1,1).trs() * vsr.Rot(vsr.Biv(0,1,0) * np.pi/6.0)\n",
    "print(motor)\n",
    "print(motor.trs())\n",
    "print(motor.rot())"
   ]
  },
  {
   "cell_type": "code",
   "execution_count": 36,
   "metadata": {
    "collapsed": false
   },
   "outputs": [],
   "source": [
    "make_text?"
   ]
  },
  {
   "cell_type": "code",
   "execution_count": 37,
   "metadata": {
    "collapsed": false
   },
   "outputs": [],
   "source": [
    "@interact(x=10,y=10,z=10)\n",
    "def position_camera(x,y,z):\n",
    "    camera.position = [x,y,z]"
   ]
  },
  {
   "cell_type": "code",
   "execution_count": 38,
   "metadata": {
    "collapsed": false
   },
   "outputs": [],
   "source": [
    "class Sphere(object):\n",
    "    def __init__(self):\n",
    "        pass\n",
    "    def update(vsr_sph):\n",
    "        r, p, q = vsr_sph.rpo()\n",
    "        \n",
    "def make_sphere():\n",
    "    return Mesh(geometry = SphereGeometry(),\n",
    "                material= BasicMaterial(color='red'))\n",
    "\n",
    "def make_circle():\n",
    "    return Mesh(geometry = RingGeometry(thetaSegments=64), \n",
    "              material= BasicMaterial(color='black'))\n",
    "\n",
    "class Game(object):\n",
    "    class Circle(vsr.Cir, Mesh):\n",
    "        def __init__(self):\n",
    "            self._color = 'black'\n",
    "            super(Mesh, self).__init__(geometry = RingGeometry(thetaSegments=64), \n",
    "                          material= BasicMaterial(color=self._color))\n",
    "            \n",
    "        @property\n",
    "        def mesh(self):\n",
    "            return self._mesh\n",
    "        \n",
    "        def update_mesh(self):\n",
    "            (r, p, q) = self.rpo()\n",
    "            self.geometry.innerRadius = r\n",
    "            self.geometry.outerRadius = r + 0.1\n",
    "            self.position = p\n",
    "            self.quaternion = q\n",
    "        "
   ]
  },
  {
   "cell_type": "markdown",
   "metadata": {},
   "source": [
    "## Rotation"
   ]
  },
  {
   "cell_type": "code",
   "execution_count": 39,
   "metadata": {
    "collapsed": false
   },
   "outputs": [
    {
     "ename": "AttributeError",
     "evalue": "'Vec' object has no attribute 'reflect'",
     "output_type": "error",
     "traceback": [
      "\u001b[1;31m---------------------------------------------------------------------------\u001b[0m",
      "\u001b[1;31mAttributeError\u001b[0m                            Traceback (most recent call last)",
      "\u001b[1;32m<ipython-input-39-e7c73f6cac12>\u001b[0m in \u001b[0;36m<module>\u001b[1;34m()\u001b[0m\n\u001b[0;32m      9\u001b[0m \u001b[1;33m\u001b[0m\u001b[0m\n\u001b[0;32m     10\u001b[0m \u001b[0ma\u001b[0m \u001b[1;33m=\u001b[0m \u001b[0mvsr\u001b[0m\u001b[1;33m.\u001b[0m\u001b[0mVec\u001b[0m\u001b[1;33m(\u001b[0m\u001b[1;36m1\u001b[0m\u001b[1;33m,\u001b[0m\u001b[1;36m0\u001b[0m\u001b[1;33m,\u001b[0m\u001b[1;36m1\u001b[0m\u001b[1;33m)\u001b[0m\u001b[1;33m\u001b[0m\u001b[0m\n\u001b[1;32m---> 11\u001b[1;33m \u001b[0ma_rot\u001b[0m \u001b[1;33m=\u001b[0m \u001b[0ma\u001b[0m\u001b[1;33m.\u001b[0m\u001b[0mreflect\u001b[0m\u001b[1;33m(\u001b[0m\u001b[0mn2\u001b[0m\u001b[1;33m)\u001b[0m\u001b[1;33m.\u001b[0m\u001b[0mreflect\u001b[0m\u001b[1;33m(\u001b[0m\u001b[0mn1\u001b[0m\u001b[1;33m)\u001b[0m\u001b[1;33m\u001b[0m\u001b[0m\n\u001b[0m\u001b[0;32m     12\u001b[0m \u001b[1;32mprint\u001b[0m\u001b[1;33m(\u001b[0m\u001b[0ma_rot\u001b[0m\u001b[1;33m)\u001b[0m\u001b[1;33m\u001b[0m\u001b[0m\n\u001b[0;32m     13\u001b[0m \u001b[1;32mprint\u001b[0m\u001b[1;33m(\u001b[0m\u001b[0ma\u001b[0m\u001b[1;33m.\u001b[0m\u001b[0mspin\u001b[0m\u001b[1;33m(\u001b[0m\u001b[0mR\u001b[0m\u001b[1;33m)\u001b[0m\u001b[1;33m)\u001b[0m\u001b[1;33m\u001b[0m\u001b[0m\n",
      "\u001b[1;31mAttributeError\u001b[0m: 'Vec' object has no attribute 'reflect'"
     ]
    }
   ],
   "source": [
    "\n",
    "n1 = vsr.Vec(0,1,0).unit()\n",
    "# n2 = vsr.Vec(-1,1,0).unit()\n",
    "n2 = n1.spin(vsr.Biv(-np.deg2rad(30),0,0).exp())\n",
    "\n",
    "B = n1 ^ n2\n",
    "\n",
    "R = n1 * n2\n",
    "\n",
    "a = vsr.Vec(1,0,1)\n",
    "a_rot = a.reflect(n2).reflect(n1)\n",
    "print(a_rot)\n",
    "print(a.spin(R))\n",
    "\n",
    "\n",
    "scene = Scene(children=[\n",
    "        frame_mesh(),\n",
    "        vector_mesh(n1,color='yellow'),\n",
    "        vector_mesh(n2,color='cyan'),\n",
    "        vector_mesh(a, color='hotpink'),\n",
    "        vector_mesh(a.reflect(n2)),\n",
    "        vector_mesh(a_rot, color='black'),\n",
    "#         bivector_mesh(n1.unduale(),color='yellow'),\n",
    "#         bivector_mesh(n2.unduale(),color='cyan'),\n",
    "        bivector_mesh(B,color='gray'),\n",
    "        AmbientLight(color='#cccccc')])\n",
    "\n",
    "camera = PerspectiveCamera(position=[3, -3, 3])\n",
    "renderer = Renderer(camera=camera, \n",
    "                    scene=scene, \n",
    "                    controls=[TrackballControls(controlling=camera)],\n",
    "                    background = 'white')\n",
    "# renderer.width = '1024'\n",
    "# renderer.height = '768'\n",
    "display(renderer)"
   ]
  },
  {
   "cell_type": "code",
   "execution_count": null,
   "metadata": {
    "collapsed": false
   },
   "outputs": [],
   "source": [
    "vsr.Vec(1,0,0).spin(R)"
   ]
  },
  {
   "cell_type": "code",
   "execution_count": null,
   "metadata": {
    "collapsed": false
   },
   "outputs": [],
   "source": [
    "2 * np.rad2deg(np.arccos(R[0]))"
   ]
  },
  {
   "cell_type": "code",
   "execution_count": null,
   "metadata": {
    "collapsed": false
   },
   "outputs": [],
   "source": [
    "sph1 = vsr.Sph(vsr.Vec(0.7,0,0).null(), 1.5)\n",
    "sph2 = vsr.Sph(vsr.Vec(-0.5,0,0).null(), 1.)\n",
    "cir = sph1.meet(sph2)\n",
    "r = cir.rot()\n",
    "\n",
    "sphere1 = Mesh(geometry = SphereGeometry(radius=sph1.radius(),\n",
    "                                        widthSegments=64,\n",
    "                                        heightSegments=64), \n",
    "              material= BasicMaterial(color='red'),\n",
    "              position=np.array(sph1.pnt())[:3].tolist())\n",
    "\n",
    "sphere2 = Mesh(geometry = SphereGeometry(radius=sph2.radius(),\n",
    "                                        widthSegments=64,\n",
    "                                        heightSegments=64), \n",
    "              material= BasicMaterial(color='blue', wireframe=False),\n",
    "              position=np.array(sph2.pnt())[:3].tolist())\n",
    "\n",
    "circle = Mesh(geometry = RingGeometry(innerRadius=cir.radius(),\n",
    "                                                outerRadius=cir.radius()+0.05,\n",
    "                                                thetaSegments=64), \n",
    "              material= BasicMaterial(color='black'),\n",
    "              position=np.array(cir.pnt())[:3].tolist(),\n",
    "              quaternion = cir.rot().quat().tolist())\n",
    "\n",
    "\n",
    "\n",
    "scene = Scene(children=[sphere1, sphere2, circle])\n",
    "c = PerspectiveCamera(position=[10, 5, 10])\n",
    "renderer = Renderer(camera=c, scene = scene, controls=[TrackballControls(controlling=c)],\n",
    "                    background = 'white')\n",
    "display(renderer)\n",
    "@interact(circlecolor=('hotpink', 'gray', 'black'),\n",
    "         sphere1color=('hotpink', 'gray', 'black'),\n",
    "         sphere2color=('hotpink', 'gray', 'black'))\n",
    "def set_radius(circlecolor, sphere1color, sphere2color):\n",
    "    sphere1.material.color = sphere1color\n",
    "    sphere2.material.color = sphere2color\n",
    "    circle.material.color = circlecolor"
   ]
  },
  {
   "cell_type": "code",
   "execution_count": null,
   "metadata": {
    "collapsed": false
   },
   "outputs": [],
   "source": [
    "%%javascript\n",
    "console.log('hallo')\n",
    "Jupyter.notebook.get_selected_cell()"
   ]
  },
  {
   "cell_type": "code",
   "execution_count": null,
   "metadata": {
    "collapsed": false
   },
   "outputs": [],
   "source": [
    "cir = vsr.Sph(vsr.Vec(0,0,0).null(), 3).meet(vsr.Sph(vsr.Vec(1,0,0).null(), 3))\n",
    "print(cir.rpo())\n",
    "radius, position, quat = cir.rpo()"
   ]
  },
  {
   "cell_type": "code",
   "execution_count": null,
   "metadata": {
    "collapsed": true
   },
   "outputs": [],
   "source": []
  },
  {
   "cell_type": "code",
   "execution_count": null,
   "metadata": {
    "collapsed": true
   },
   "outputs": [],
   "source": []
  }
 ],
 "metadata": {
  "kernelspec": {
   "display_name": "Python 2",
   "language": "python",
   "name": "python2"
  },
  "language_info": {
   "codemirror_mode": {
    "name": "ipython",
    "version": 2
   },
   "file_extension": ".py",
   "mimetype": "text/x-python",
   "name": "python",
   "nbconvert_exporter": "python",
   "pygments_lexer": "ipython2",
   "version": "2.7.11+"
  },
  "widgets": {
   "state": {
    "00060ce1fda54390b3375febde5c9a4e": {
     "views": []
    },
    "009f58d46ca7431b8974262619991744": {
     "views": []
    },
    "00ae42c57d5a4b79a8a53ac133649ac2": {
     "views": []
    },
    "0118759a693a4d4f9e6488b02a026a01": {
     "views": []
    },
    "01616cee7d1a45e7a5a7bdd22ee20cff": {
     "views": []
    },
    "0178ec0963894af2a7a54c6278ec4e93": {
     "views": []
    },
    "0204f01bb71c4b38b7d18e3f61a9f94f": {
     "views": []
    },
    "02293c13826f4d248e875f2b6dcff06a": {
     "views": []
    },
    "0245a4438fa2467d8fc4c4f2d0907ffe": {
     "views": []
    },
    "02517b830b224042bf84032c4f1c070a": {
     "views": []
    },
    "0267df7c97cb481780871a67e4fd8455": {
     "views": []
    },
    "026ecf1f51ee46009dfc0c88f2d052f6": {
     "views": []
    },
    "031d52dbd3184354a2dbff9fba460712": {
     "views": []
    },
    "034d1ceba988471b96cb71942dd9b041": {
     "views": []
    },
    "03e1f310486349df9f2bcdc67ae7e118": {
     "views": []
    },
    "03f61591a88c464c9d237e2cdf76613a": {
     "views": []
    },
    "04e194f485b14c9f84ad6fdac4bd900c": {
     "views": []
    },
    "0525bcecd3d649c2808453a3a333f0fa": {
     "views": []
    },
    "0561b325e21e48cd971c3c7f54974e0f": {
     "views": []
    },
    "059bb84c13714eb9a9e441b772f18432": {
     "views": []
    },
    "05aa414e0e2342149efc8d234d7734ef": {
     "views": []
    },
    "05d80f9d08274c00b7d65e601d706be6": {
     "views": []
    },
    "0682c4a1bd2140529620c00fd44b8c39": {
     "views": []
    },
    "068fe72f8d394271a9f689d069e247da": {
     "views": []
    },
    "0744469605fe4ab79005b8a8dce93159": {
     "views": []
    },
    "0757807d274c424d8f1de12557ff863d": {
     "views": []
    },
    "07d07741dcf64c4a901a611746b85c4f": {
     "views": []
    },
    "07dfaffe9f244323b1208bc5f14b7ec3": {
     "views": []
    },
    "081c609407e7456d859897c702ad6c36": {
     "views": []
    },
    "083f01ffda794e26b971199338f1d765": {
     "views": []
    },
    "088bed0bcbde4a04acaa46433695c292": {
     "views": []
    },
    "08a57699327e4af0ba2d7341bdb9e4d6": {
     "views": []
    },
    "09f3b5c8eff240d69646668ed15a0b31": {
     "views": []
    },
    "09f5a28fc69f4c54950657faaed6c4ce": {
     "views": []
    },
    "0a22a762c3a14424afbaf35c9ffd7c60": {
     "views": []
    },
    "0a398ab324bd4af58bdaf52029062371": {
     "views": []
    },
    "0aa8854aba914089af3ceaf26054b3ea": {
     "views": []
    },
    "0b4ac171f3e24b9080cf094ed27bee8c": {
     "views": []
    },
    "0b648f1ca98f47e98768beaee599a6b1": {
     "views": []
    },
    "0cf1c459b2584f9489ae9268cda67fb7": {
     "views": []
    },
    "0d706f662d9c4ee79432f63db779aabf": {
     "views": []
    },
    "0e26a2cb1e3946aabca5812c332a90b6": {
     "views": []
    },
    "0e92a81a750c481bbbae3b2e64e080ec": {
     "views": []
    },
    "0f7e1340a724455fb8eb02568755a231": {
     "views": []
    },
    "0f92b95aa3ac4f89b4c7cf7ffec8999e": {
     "views": []
    },
    "102c5e5ea78c469c91cebf300aa5ff57": {
     "views": []
    },
    "10aa7f3b9783419cac79bafafcfbaa11": {
     "views": []
    },
    "10ae276bbe864ac78c6a8b2524030cc3": {
     "views": []
    },
    "121de2c4920b4d608dad75da6d950dc8": {
     "views": []
    },
    "1276a859cfda4cb6ac8452faeca222ef": {
     "views": []
    },
    "136975d4da694a1382b432367ceb088f": {
     "views": []
    },
    "1384daff197b49a28630e1f9a7009163": {
     "views": []
    },
    "13de4cbf09df4e5f88cd2c40f8759927": {
     "views": []
    },
    "13ef6f73c15a4a8abe5a08ac9e6c6f6c": {
     "views": []
    },
    "1551fbbeb2bf491e92c31ec46a089a36": {
     "views": []
    },
    "157639337dc34bd582cb2a720aca97f9": {
     "views": []
    },
    "163f2ef45bf145ceaada756355509d3b": {
     "views": []
    },
    "16628a94214a412b9dd2e26155770a45": {
     "views": []
    },
    "177ba057d4424b1ea2c04f800a6e9607": {
     "views": []
    },
    "177f6924ecdc4aa39e541680605d7c71": {
     "views": []
    },
    "177f8e91a8bb428b9d0e714f2ca3dd1c": {
     "views": [
      {
       "cell_index": 18
      }
     ]
    },
    "1783afe2714e403e81926f31bea4e871": {
     "views": []
    },
    "18402c5793a7433db9dd8f9e98d0a573": {
     "views": []
    },
    "18b0b9f0047e48f1895c7cb6ddd8ddf7": {
     "views": []
    },
    "1905f94cabca40a6b48ad9bc37c11f92": {
     "views": []
    },
    "197bd1c3f8424fd9b77dbae1ff878a46": {
     "views": []
    },
    "19938cfc68c9425088f70251d2079d23": {
     "views": []
    },
    "1ada53f749544950bfcdf5201c71e72e": {
     "views": []
    },
    "1aef31a14653414182c57dc462c7383b": {
     "views": []
    },
    "1ba3a7dc1cef4015803b42b9967d5a44": {
     "views": []
    },
    "1c2cdc6ef3df4cf8b2727e82c0ded9ab": {
     "views": []
    },
    "1cecee1b453b4d24a3ae28fdeacff04d": {
     "views": []
    },
    "1d515f601fd84584836092c44b3acd73": {
     "views": []
    },
    "1d75b4d0c30b4cb893a22e6efd53ee1e": {
     "views": []
    },
    "1d8964eb893846cb8b9b15ac29490348": {
     "views": []
    },
    "1e04b5baeeeb435cbd6c2f91abe13a3c": {
     "views": []
    },
    "1e74182aa2aa4c1f89fe33bcc173e25f": {
     "views": []
    },
    "1f573a7351d64904a34b192fe7b515bc": {
     "views": []
    },
    "1f6ae7772b5749f5ad00878baaf21148": {
     "views": []
    },
    "204d9bd782fe442fa0c44af8331a9df2": {
     "views": []
    },
    "213f8184cd35453a9e71b5c3dee75178": {
     "views": []
    },
    "2181479af65f4e55b5f26e56550e2e5b": {
     "views": []
    },
    "2198665228de436d93e4fadd69e1f871": {
     "views": []
    },
    "22a46dee4cd54596b52d24a4c476bc12": {
     "views": []
    },
    "22c26935bfbc4a9a86a4ce5d7026a4a4": {
     "views": []
    },
    "2345a0a6941f456aa4bff478d2b48b6f": {
     "views": []
    },
    "2359ca9b567642808d8bbd5c7c5abce7": {
     "views": []
    },
    "23921eee2e0b447a97e9c1fae240931c": {
     "views": [
      {
       "cell_index": 34
      }
     ]
    },
    "23cf4620d33b474da8a75b5c9547ec75": {
     "views": []
    },
    "23fbc604d9364e4299c72580b7e7bd9b": {
     "views": []
    },
    "24a041857ef64a42b6aca8c56e3f2e17": {
     "views": []
    },
    "250e117a2f6d4a43bdf16a9b62f74831": {
     "views": []
    },
    "2678d6b079e94c9d93bd93dd7a93571c": {
     "views": []
    },
    "26823c567c1544d59cf633a9b74b2b33": {
     "views": []
    },
    "2688cc6686cb4951accc2f53434545d4": {
     "views": []
    },
    "26c6e71e15194bbdb3413d2cb19b2881": {
     "views": []
    },
    "2770397b1b344a7280d47021571f0c64": {
     "views": []
    },
    "27710e30cda546178ca516c71dbc7f2f": {
     "views": []
    },
    "27914d1abd43470d9593d7c2460f4bd5": {
     "views": [
      {
       "cell_index": 30
      }
     ]
    },
    "283246e34aca4772864610931fe13721": {
     "views": []
    },
    "28440298eb5840b19f12caa967754e79": {
     "views": []
    },
    "2886258378a64d88bd7de24b03ab0115": {
     "views": []
    },
    "291d1357edd442deb7f0a3ff32bffab8": {
     "views": []
    },
    "292c519a41d34c25960d801703d60541": {
     "views": []
    },
    "29302da86df84164b5ac4a75d1e88d7d": {
     "views": []
    },
    "2977519fe55240a9a10dee01360ce8a9": {
     "views": []
    },
    "29ee4afe779c41138c28684b9354a394": {
     "views": []
    },
    "2a40907696bb489cad25ba35b228272a": {
     "views": []
    },
    "2a76dcc204e441ffbaf14853dce5db42": {
     "views": []
    },
    "2b18c5ec925649b19bd84a8921eec445": {
     "views": []
    },
    "2c932bfa01a04bd9b9359a7b38f443e2": {
     "views": []
    },
    "2cf7462c906344349ad34edf52f5fc1a": {
     "views": []
    },
    "2e4e593b59a843b9b60772305bec1837": {
     "views": []
    },
    "2ed37dc9a1ef42ec920474dbaba38f69": {
     "views": []
    },
    "2f00c177c4ea4fcbbee6a6ac4b19348f": {
     "views": []
    },
    "2f132f0bc6a74b4d9b8671e140ee7257": {
     "views": []
    },
    "2f1673d708f84f51ba504e04dd56bc45": {
     "views": []
    },
    "2f71c6785be947dcb415672cbd415b10": {
     "views": []
    },
    "2f9f711c707446e4971d29932a787330": {
     "views": []
    },
    "2fd3f2c8a0f94affaf1748e8b5dfe35d": {
     "views": []
    },
    "301f528a61b744dba1b097158ee4f74e": {
     "views": []
    },
    "306f25ea6174464e801bc4ad3862f882": {
     "views": []
    },
    "308717416ed74719a9e1a1e5a10bb7fd": {
     "views": []
    },
    "30c203edd5cf4ad69c2ca640312d5ec2": {
     "views": []
    },
    "3110cbc452f7432890c790a5b8d3ab1a": {
     "views": []
    },
    "31137c01c9bb41cf8698be00184d731b": {
     "views": []
    },
    "313f3521ec3d452abb7f13b94f33a16d": {
     "views": []
    },
    "31591e87c68e4329b055b895818daebb": {
     "views": []
    },
    "31a84b78b5f545998fdf570d8435171c": {
     "views": []
    },
    "31d43690d9f74a6cbfc8b3ac000a8bdd": {
     "views": []
    },
    "3224e1dda69942659b6c1422a17c8a6a": {
     "views": []
    },
    "3252803fb2ea483281dd2be91b435044": {
     "views": []
    },
    "329f663e731f474aa88f08765c1902fe": {
     "views": []
    },
    "33cc95d0235e458fadbcae504b3b17fc": {
     "views": []
    },
    "3620ab8a41614c9fa922e5861c929cbb": {
     "views": []
    },
    "36402488f5b5427abb4acfb9f67d2284": {
     "views": []
    },
    "365feb8c30da4aefa421c7a3599e1318": {
     "views": []
    },
    "367b6c62b6294c4b9f7c17fd7ba2ea6c": {
     "views": []
    },
    "36a457ac70564dde8ca0fdc5a2d558df": {
     "views": []
    },
    "37651d216cee417ba2e3c367481a09bf": {
     "views": []
    },
    "37e6e2a8535e4da9839b8b8cf65707bb": {
     "views": []
    },
    "3930fb23ca974dcc9cd6aa346b8f34e7": {
     "views": []
    },
    "394c1442453a400db6ed30a4d8e15589": {
     "views": []
    },
    "39a4e8f825844ed1b1943b33cbdf9d54": {
     "views": []
    },
    "39d5e288084e4139a0f8295dff2be8e8": {
     "views": []
    },
    "39e3902a01b94954a49c95120654a152": {
     "views": []
    },
    "3a44ef8ddb0a4679a20944f39d067e4e": {
     "views": []
    },
    "3a509eeccb07480f914221033c158977": {
     "views": []
    },
    "3a79bb2480574b39853302ddd4f16c86": {
     "views": []
    },
    "3b0378607ffd46fe9d743547b1f0c0c4": {
     "views": []
    },
    "3cb37e1e52284b368cd1a240eb03a02e": {
     "views": []
    },
    "3cf66c9048fb4e3789cbab0dac631348": {
     "views": []
    },
    "3d30366630f648e1887863b7d6207afa": {
     "views": []
    },
    "3d8eb33f0a8042adb3b0bc74ac3f0bba": {
     "views": []
    },
    "3e249c869cea476fbf37db685645204e": {
     "views": []
    },
    "3e367b4fe8f340b3b2e2335b8c991a6b": {
     "views": []
    },
    "3e9923c3066c4a1f9e77546d89e04d57": {
     "views": []
    },
    "3e9a7c4990874a72b1456686cd356dea": {
     "views": []
    },
    "3ebf3fb805cc4ca6998d3151d7b79bd1": {
     "views": []
    },
    "3ed3e25c740e42f98e2187a569207f40": {
     "views": []
    },
    "3ef916870cbe47c1a875284244091ebb": {
     "views": []
    },
    "3f59a081f36c4ea89c8ee012e472caa9": {
     "views": []
    },
    "3f6bded28e404e6196f84b771269d94f": {
     "views": []
    },
    "3fded16bc66e4f929ac9aa7b1284ca15": {
     "views": []
    },
    "40035521f01e45e397bce1bd7dbacf66": {
     "views": []
    },
    "405e1c00aa3045fe92f3b4bfe518f44b": {
     "views": []
    },
    "40874f47114f446491fd2488e0339240": {
     "views": []
    },
    "40a71f550af747b6aec4606045c88ce7": {
     "views": []
    },
    "40bd57a787e84d008c1bf7f2d1b3a434": {
     "views": []
    },
    "410bb1bc754a48c5bb3461bdedf5b5d0": {
     "views": [
      {
       "cell_index": 45
      }
     ]
    },
    "416954e7a5e44682b254e9fbadb9e313": {
     "views": []
    },
    "41fcb667ed504a4b8c6f73af1d134518": {
     "views": []
    },
    "4200f5efa4c64576ae9bab9715ca12c6": {
     "views": []
    },
    "42766f8bdb2840a49b2290852f103585": {
     "views": []
    },
    "42b926898df141de85e0581b04d923ec": {
     "views": []
    },
    "42f302b2717547e7b0bc6d988733cdaf": {
     "views": []
    },
    "42fa867856904627aa9bf353860a911d": {
     "views": []
    },
    "43bf0452c07146bb83343cec4278b0a2": {
     "views": [
      {
       "cell_index": 21
      }
     ]
    },
    "43c3b1c5e6d64f9395597b25f74eb11a": {
     "views": []
    },
    "43d91bb57da448a39a95a66311e16839": {
     "views": []
    },
    "44038b5a35614bd5a2499e2ef84b9feb": {
     "views": []
    },
    "4438cb8b44c145aaae90474fcc1760d6": {
     "views": []
    },
    "444181de27c74a0482b64997bc7138c8": {
     "views": []
    },
    "4492e1402ff84e74ac5169978924c383": {
     "views": []
    },
    "44c6f294c0574788a246e3c72e6c4a45": {
     "views": []
    },
    "44e61f0c80514d3db6ccd4ac7a7c79f5": {
     "views": []
    },
    "4524e166444b468ba35832f983a4fa6f": {
     "views": []
    },
    "45e2effd1d4c4780a337e0a52ee3a465": {
     "views": [
      {
       "cell_index": 41
      }
     ]
    },
    "45e31a4b777645a6aec6f438c9f72243": {
     "views": []
    },
    "45f18e53b50c414cbe50ed9cfda51140": {
     "views": []
    },
    "46b1891378704dbaac2e3d590aadab26": {
     "views": []
    },
    "46c93b7def754b3881e4a982defaf162": {
     "views": []
    },
    "46cac066d5fb4006b44eca09ed81f270": {
     "views": []
    },
    "4794fca6717a4ea4913d0cbebaa4190a": {
     "views": []
    },
    "47b872309c184dcb86c8cfd02c28b50a": {
     "views": []
    },
    "47fa614029da41e6bf461860e53a2d76": {
     "views": []
    },
    "4835ba5a79b54943a32e36235af325af": {
     "views": []
    },
    "487ac31d44d34434b90018bfe1e0ddc4": {
     "views": []
    },
    "4890fa0cb819426a8058865c56070b18": {
     "views": []
    },
    "4988e23b36354cb6abe43bfda8767902": {
     "views": []
    },
    "49d3d300747547ccba4868c626b28459": {
     "views": []
    },
    "4a742721e98b45a8ab211454aaaef994": {
     "views": []
    },
    "4bd195580c3443ea95d98dcc9e668b98": {
     "views": []
    },
    "4bdbb2ddbda64909b34afe8f12ab8465": {
     "views": []
    },
    "4c058fa293a04216a8905f30128d4680": {
     "views": []
    },
    "4c89491b798a46b692d7d0f0c106c321": {
     "views": []
    },
    "4cebc8d6b6104273b1f480e3e23b4e87": {
     "views": []
    },
    "4d1c2add12754394ac5381b9dcb26b0d": {
     "views": []
    },
    "4d3cdaa9fef6434dbbef6900defee106": {
     "views": []
    },
    "4d8d947897d643869f3f40c779e2c085": {
     "views": []
    },
    "4d9119b016a746ed844740670852c005": {
     "views": []
    },
    "4ddb9af71df344d38fb928f22725044f": {
     "views": []
    },
    "4decf0d40e7c424b8e2ade843a0945cf": {
     "views": []
    },
    "4e11217afc4b4d658eff106cc6d425ef": {
     "views": []
    },
    "4e4308904fe1443aa5cff774f642d2f9": {
     "views": []
    },
    "4e5fe0d6a48d44ec896d1be0835250de": {
     "views": []
    },
    "4e6766ccc9634131b960b97dcff7ff36": {
     "views": []
    },
    "4e6942af1b1d46ff82d7a71cbb01afc3": {
     "views": []
    },
    "4eb1d1f687254f3685cf8bdbe789ed50": {
     "views": []
    },
    "4f4de3e47e924262a538107ff9c9f7a4": {
     "views": [
      {
       "cell_index": 17
      }
     ]
    },
    "4fd7768cdeee467686aa2b89391f3b16": {
     "views": []
    },
    "4ff48ee00a504cfc92329fd4f45d10c0": {
     "views": []
    },
    "5046bc7829864fe495e5a6333a6ab6e8": {
     "views": []
    },
    "507e2a52780c4dcfa7b00cd4c5d2dc34": {
     "views": []
    },
    "50d8c970390b4b13ae1e1c216cfa50a4": {
     "views": []
    },
    "50f88659617a43a599cabc55b21528ce": {
     "views": []
    },
    "516b62c52fde4b158d56c50db70b7bba": {
     "views": []
    },
    "51dfbb40006e4267a33b28eecca09d2b": {
     "views": []
    },
    "5212a2b18b7248e7bfcf159906ee5861": {
     "views": []
    },
    "525ee7437c3b4d87bce732e05bdde3c2": {
     "views": []
    },
    "52a6749b5be2404e89d55686444c7a0a": {
     "views": []
    },
    "52ec7b2e3f4b42a9a54555b8267a8b2a": {
     "views": []
    },
    "530e5e158efd4a0eb9c70cce27e3f83e": {
     "views": []
    },
    "530f00c027a049b58341c25fe3812dbf": {
     "views": []
    },
    "53529ce6096640bea2c4195e3471daed": {
     "views": []
    },
    "536f1720227f4fd6abae74b87de17766": {
     "views": []
    },
    "539258dd5b7b44fc98337007a9c31075": {
     "views": []
    },
    "541e02be62fe44b1aac2efd7637a7eb4": {
     "views": []
    },
    "543acfb72eea4fc992bd6dc32927b271": {
     "views": []
    },
    "546a256df288415b8c292698a1ec27b2": {
     "views": []
    },
    "54bddc1a6a5440fe81410b01b4364fd9": {
     "views": []
    },
    "54f66dbaafe54ead8878ec5aab089715": {
     "views": []
    },
    "553cef9fa52e47a59480888cb1a82722": {
     "views": []
    },
    "5563967e710d4f40b36c3498998c445a": {
     "views": []
    },
    "573def9ec6ef4030ba4cc793a7bd855a": {
     "views": []
    },
    "577be6c5304842238a6ba2ce06fdd36e": {
     "views": []
    },
    "5788868702d942d5b9d222c832c06b99": {
     "views": []
    },
    "578e43768eaf440ca09aecff6651182a": {
     "views": []
    },
    "57d565df5c4f483bb8f211d86a0849de": {
     "views": []
    },
    "5833fb8c1e3d4bddb1716466c2bd4b04": {
     "views": []
    },
    "58d44edeca2d40849141965e6881e4d9": {
     "views": []
    },
    "58edfec5fbb14482beff446fe0af7277": {
     "views": []
    },
    "5972b9cadb634f7896f1ee4ca7542abf": {
     "views": []
    },
    "59da91fc86fb4376805effef89389ccc": {
     "views": []
    },
    "5a2a58efd73e4d1d893ac53c7aa1fc0c": {
     "views": []
    },
    "5a2d40148d7c468387afe74b0f9d39b5": {
     "views": []
    },
    "5a765481c36441248b1e2d045d4bb32d": {
     "views": []
    },
    "5ab06964b23545f397ad0605a045b497": {
     "views": []
    },
    "5af6edfe823741a8b00392e7f53e7fee": {
     "views": []
    },
    "5b91b19f61914c96b3183334ff1b5bc5": {
     "views": []
    },
    "5b9aa4a3712f4daf922a5de6d47e9f7f": {
     "views": []
    },
    "5cb01baa0fa34134bc077737727e99ac": {
     "views": []
    },
    "5cdb56a09acf439cb16ac52164288173": {
     "views": []
    },
    "5d0660f9c3fe4106927b10344cb6665a": {
     "views": []
    },
    "5d5849e7d08a41e0817d7fcbd2ea7f67": {
     "views": []
    },
    "5d6ba88d7f27442d91593c5bb668fc06": {
     "views": []
    },
    "5d9ff01440e6440e8eb450328af7eea8": {
     "views": []
    },
    "5e599e20696f4e2d96b9cb166ac9bb7f": {
     "views": []
    },
    "5e8b90ec29ba44c0b8637c80aff8dffb": {
     "views": []
    },
    "5f23abeb0c4a455aa1f964375e75c686": {
     "views": []
    },
    "5f6eff4bc52d42d99e6c321dea5195b2": {
     "views": []
    },
    "6058bce96f984bad8152ffca2295e919": {
     "views": []
    },
    "60e52e1cd9c04faba36f7d171c6106c7": {
     "views": []
    },
    "61047b44bb3c4aa48713273852d7ecba": {
     "views": []
    },
    "6122fbf2bada4ff69bea0dfe7f175269": {
     "views": []
    },
    "61249b658f4142d28b9833ad31b809f5": {
     "views": []
    },
    "61f28b2f8fe34d20aeed3a38801609c8": {
     "views": [
      {
       "cell_index": 49
      }
     ]
    },
    "62058f51f74b4c51a2db6c6c7e61231b": {
     "views": []
    },
    "621871d4cd0f40599363f3427c2564a6": {
     "views": []
    },
    "62668ece24ef40b9b0079681fa5cae6f": {
     "views": []
    },
    "62836317c6584fcd8e486e3f5b38e0cf": {
     "views": []
    },
    "62f48feb5bb049e1874ad4d32b85d675": {
     "views": []
    },
    "630e110274c642d69ad5d22bd7f171a2": {
     "views": []
    },
    "6377f5cd11094af4b25cdc70e594bc2a": {
     "views": []
    },
    "639baa3110e2495eb3996803c1c12218": {
     "views": []
    },
    "63d04f11a5934ead8a1d5c8faaa50c49": {
     "views": []
    },
    "64096431db9e426db7ad0d4135b112af": {
     "views": []
    },
    "641489e23bdc4828b12f4616f895a1a1": {
     "views": []
    },
    "642438359e4e492eba3ae84fce9ed931": {
     "views": []
    },
    "64df3734f5754fa287a0cd38ecea01c0": {
     "views": []
    },
    "651ddb61ea174a95ab2748c76c2cbe2b": {
     "views": []
    },
    "65bfe65603184564a0c1c690f377ca9e": {
     "views": []
    },
    "6609a477d9ef48188310ec8e82eeb02c": {
     "views": []
    },
    "663e526e979548999138b8194e6ed8ce": {
     "views": []
    },
    "664d09c5be2a4cc29967b3f7583b4402": {
     "views": []
    },
    "66b91bb15fe44cd0ad00bbed776217ee": {
     "views": []
    },
    "66ca6c3a17364ff0af151cb2c75aa503": {
     "views": []
    },
    "6711203c4dad46c7a9331c8f30450597": {
     "views": []
    },
    "6712e330eb644c3fa370753d5214e0b7": {
     "views": []
    },
    "671db426477c4c358e2616797abce444": {
     "views": []
    },
    "671f8c7174c84d60b8bfb4cd11dca7f6": {
     "views": []
    },
    "6762a70184ff437d9644d7c5a9f0a2a7": {
     "views": []
    },
    "679e802caae04034863a003264ec412c": {
     "views": []
    },
    "67a532d2c93743c4b3b05a52105a1bb0": {
     "views": []
    },
    "68641685c9b44cfd85242ba2cfd4e5ae": {
     "views": []
    },
    "697a19703d0045b7b531fa9e7c3c9cfd": {
     "views": []
    },
    "697b51bbc4f54406b3359c4596369cb9": {
     "views": []
    },
    "697b917ebbf54e35b24f2a8f2675985f": {
     "views": []
    },
    "6a9de3e6da00472fb74ff88d4b18be09": {
     "views": []
    },
    "6ab87288aea7460aa3b25f71c301018f": {
     "views": []
    },
    "6b5746d3aaca45da9f5a36ad13d88342": {
     "views": []
    },
    "6bb46464f94c41ad935f796ff86eb149": {
     "views": []
    },
    "6c6430e222f64d51870857effed7bb3a": {
     "views": []
    },
    "6c8633502a1044899594aacb920a5ea4": {
     "views": []
    },
    "6cc34b8a8b8b48159c30c7761eb49989": {
     "views": []
    },
    "6d6c9aeacd70485c9944450b577cce28": {
     "views": []
    },
    "6dbd7378b4294d9daf4c6dca7295760b": {
     "views": []
    },
    "6e11551c61874308957f444559760fbf": {
     "views": []
    },
    "6e15cae118ea4d42b6bdb297168527da": {
     "views": []
    },
    "6e15d0f740574e41899eca37889ab134": {
     "views": []
    },
    "6ed170d853be4c91803682f59ea6a634": {
     "views": []
    },
    "6f1f64c5ffd34ea6a1ecff83283754c1": {
     "views": []
    },
    "6f73ffb0eeb142a9846ff056513380fb": {
     "views": []
    },
    "6ff0f659a9e940a3b8c22c54483f1ad7": {
     "views": []
    },
    "6ffdfe22dab84d809a6db61bee65cff2": {
     "views": []
    },
    "700cc40b76e44cc4874b20647db401f4": {
     "views": []
    },
    "70121b6d1d24484d8b5611fdf9861175": {
     "views": []
    },
    "71043c17c10b4963aa45fdd64779de67": {
     "views": []
    },
    "71153d06bbab4bba9554407381b5b5b7": {
     "views": []
    },
    "714ed6b19748452489ea84fc66a577ff": {
     "views": []
    },
    "716d3e96aa2a4bfa868c07cafff19035": {
     "views": []
    },
    "7171d549bd2f4933af8c77abf9e9dea1": {
     "views": []
    },
    "71c134f67c404a92aa9d0f2ae6d83894": {
     "views": []
    },
    "71e9764ebe984dd0b72dd9dce6503441": {
     "views": []
    },
    "72e7b176da37468a82e93b1716a9f968": {
     "views": []
    },
    "72edd1abc17d45ab85ace663ed04733f": {
     "views": []
    },
    "735d7340f853406ebba9bbdc89d69a13": {
     "views": []
    },
    "736ef115e99246a490bda72cb0403bcb": {
     "views": []
    },
    "7386fbf9359c4f7dbba5ac1fbe7b7a28": {
     "views": []
    },
    "73c4d9a73706456680bbb8bd086df9db": {
     "views": []
    },
    "74d9e59ebe0a46928028a7199e181050": {
     "views": []
    },
    "755f142c49494101a48784cc11484801": {
     "views": []
    },
    "757ed75aa89943ffb44c0b3b6690841b": {
     "views": []
    },
    "75b7e8bea7a1447eba471732f57d3dd4": {
     "views": []
    },
    "762c3bf270224c108c493bd0ca9fa837": {
     "views": []
    },
    "777ebfe4e79f4efc9a9a0edf1d24cb6f": {
     "views": []
    },
    "779f230957ea46dcbfc1199f0a78358f": {
     "views": []
    },
    "78533b7327914ad99b9a137e9a9e2831": {
     "views": []
    },
    "78e79ec3c5a94041911b53c63f8981ba": {
     "views": []
    },
    "790daa97784e4359b19474c3626f347c": {
     "views": []
    },
    "7947d0ec480c41e3a449e9ea5f7b6436": {
     "views": []
    },
    "7951cf4cd78c4ec086f5ae3bb90a815f": {
     "views": []
    },
    "795452adb0b04e769cf05ad373ec034b": {
     "views": []
    },
    "79d252130c5242f486c9949966cdcf59": {
     "views": []
    },
    "7a6983d198e64fe59fe1c5c8ab87ef0e": {
     "views": []
    },
    "7a7b9f42d6a343b7bd5df544031b01e2": {
     "views": []
    },
    "7ac82356527d41b5bd6bc1564800264d": {
     "views": []
    },
    "7b7cb5e3f7644d2ea7e186fc986c3a9e": {
     "views": []
    },
    "7b7f139abdc64d2e943ca912dfd26315": {
     "views": []
    },
    "7bc163922c4a43b79b010bc2bf3693a7": {
     "views": []
    },
    "7be784b71aa0414483a67e8e1f68040b": {
     "views": []
    },
    "7c5d82855fad4686973be9e27664f5de": {
     "views": []
    },
    "7cb836f33ddb472b9af838a12a40429f": {
     "views": []
    },
    "7d7b83def87c44bb8bd159f53da4b8dd": {
     "views": []
    },
    "7d9fa7a806934cc2beed6260674769ae": {
     "views": []
    },
    "7dffdc434a1840bbbbe8b053842f23cf": {
     "views": []
    },
    "7e05904628e14236b24bffbe1058d85d": {
     "views": []
    },
    "7e753a20bc824b06806d046d228fff67": {
     "views": []
    },
    "7f82e295adf74f38b2976a87d2c98061": {
     "views": []
    },
    "7fa703cc4d8945e9b72087b213a39f7e": {
     "views": []
    },
    "7fde025b14054ec3b650ec2d4c951adb": {
     "views": []
    },
    "8003cdc890c544cbb376574b7a49bc29": {
     "views": []
    },
    "803187155eb2435e8c780d20ca0870ba": {
     "views": [
      {
       "cell_index": 12
      }
     ]
    },
    "80a25b5381f44a47af34ad639fb25e11": {
     "views": []
    },
    "80a58b3ed96d4174999580bcce9c0ab4": {
     "views": []
    },
    "80d63c9a26c14c75acad4d5ad7128ce2": {
     "views": []
    },
    "80f5c2cf4a2f49409ae7d3a34b7a0236": {
     "views": []
    },
    "8148d50ab8de4b019dfec7f64b3ea996": {
     "views": []
    },
    "814b457caed544bc9fb42345adc568de": {
     "views": []
    },
    "81a9819167814410bde174b19cb9d81f": {
     "views": []
    },
    "81e561dfe1f34bc8a7ab669b41809115": {
     "views": []
    },
    "821c801f159f4ba2b4ce5be99529abd1": {
     "views": []
    },
    "824db7196c7d40b4bf7ad76a11796229": {
     "views": [
      {
       "cell_index": 8
      }
     ]
    },
    "8278b5e138a448d7985fb16e4e92d0db": {
     "views": [
      {
       "cell_index": 26
      }
     ]
    },
    "82e12e219ec64e19b09cf2d596de1b50": {
     "views": []
    },
    "837e48a13f73434ba7938bd6c1a8cd65": {
     "views": []
    },
    "850337a591764d3fb59e5967f3c0d476": {
     "views": []
    },
    "8518e59e96a741c89cb7f43938e3be8f": {
     "views": []
    },
    "854a4f3ccec140d19c79ac3b271dd09f": {
     "views": []
    },
    "85ee78af75a74e358406d6d2840807e5": {
     "views": []
    },
    "860e7a2ef4a84ac696adb2812f8178fe": {
     "views": []
    },
    "8615010ede1a495eba386b45c9447927": {
     "views": []
    },
    "8626eb637e1e4af59719a183160b0bae": {
     "views": []
    },
    "865c8bc0848947189ae5624d6f387f56": {
     "views": []
    },
    "86c1348a7d434ab4a4b6208811ca9504": {
     "views": []
    },
    "86fa716b49644e908e277765ed6c7fef": {
     "views": []
    },
    "86fb3929e7814d03ba72b56d329cae43": {
     "views": []
    },
    "87e31be620904192b4a8387f0644be69": {
     "views": []
    },
    "87f6f6756e2d4d3d9456d3499fa20388": {
     "views": []
    },
    "8810894ec9a54d47b18d91ed1bc13d67": {
     "views": []
    },
    "891cbf6aa43b4ff8b6b7a78b91e1af47": {
     "views": []
    },
    "89609d3281654aaaa2cc90a6111938e8": {
     "views": []
    },
    "896bca9490e4440e93151e5b0dd3d2ba": {
     "views": []
    },
    "8a375215bb084ae58807511cd09459ea": {
     "views": []
    },
    "8ab0e00c266a4df4b8fdc2bd21492eab": {
     "views": []
    },
    "8b5903f9ca334a9aa2e59d933a600a71": {
     "views": []
    },
    "8ba076b0b5834a2b9f3cfc216b68a27b": {
     "views": []
    },
    "8bd4431312f7416191a342e9ac2cbe79": {
     "views": []
    },
    "8c3f16c54c2a4a0997098227d537fc87": {
     "views": []
    },
    "8c8ad8876ef545e4beda6402b7b34a57": {
     "views": []
    },
    "8cbb9115b46e4304848887cd05b1bd45": {
     "views": []
    },
    "8cca336e51344a09b6f03ccf606fe9c7": {
     "views": []
    },
    "8d12010ddd5b4ade8d125a18b1cb6b92": {
     "views": []
    },
    "8d5cedb7753b4033bed652a81b49b956": {
     "views": []
    },
    "8d9200a633e34f9e866952a885d6ae20": {
     "views": []
    },
    "8e45348f7d7f46d8a70e7b37f0b527ed": {
     "views": []
    },
    "8e5bfc98c86e43f88e13754d2feae369": {
     "views": []
    },
    "8e88a31178dc46c88e02495d3e64c908": {
     "views": []
    },
    "8f4843afa55b471691b1b2f4f5cd9875": {
     "views": []
    },
    "8fdfd85786fe4eab9982f5686a216001": {
     "views": []
    },
    "91f3a4bb34fb43039d98c067200b6241": {
     "views": []
    },
    "92b8a20d799c48879a55e391a2be3a5e": {
     "views": []
    },
    "9352c5e5bb8e42789d6b9cc60a8a34b2": {
     "views": []
    },
    "93ad6418c04b4b0f82e7ebddf38ec14e": {
     "views": []
    },
    "9419d326f70d482aa37006b8eb9239ab": {
     "views": []
    },
    "9492927b30bf4a9cb30e617bbd8f3493": {
     "views": []
    },
    "95134e1b3f8b4bcf9b3a14afd13506c5": {
     "views": []
    },
    "952274b2fdc147f5b71fc932da13c863": {
     "views": []
    },
    "9525b817764e4db99b7ec2e5ab64202a": {
     "views": []
    },
    "962fc2d578fc4850bad2e4020a66bedb": {
     "views": []
    },
    "964bf8697daf4a919a8526532e7588ad": {
     "views": []
    },
    "975f01b583db47f3b14c0d0a8029f0f0": {
     "views": [
      {
       "cell_index": 28
      }
     ]
    },
    "97771a5a615e4d8380e2887e866f63bb": {
     "views": []
    },
    "97c0aa3776064cbe85134f31075afe92": {
     "views": []
    },
    "97cd5b8976224d80ba049389d4de0d4c": {
     "views": []
    },
    "981997293f31485e835facce69a43ee8": {
     "views": []
    },
    "98a0b37e5aaa4c2eb5c3b1e3f6516496": {
     "views": []
    },
    "98f85a2c9c614e4099a99e5429eb8c65": {
     "views": []
    },
    "99a1751526a54bef9aaa8e027a66d7c6": {
     "views": []
    },
    "99a7d111337f4eab9d13b853dd83e9f0": {
     "views": []
    },
    "99dc418f95944d48ae705d5c3cf12a86": {
     "views": []
    },
    "99f50c5bb3284f4da276daf20ebbeef6": {
     "views": []
    },
    "9a22ec8359df4f14a68d4242877148ea": {
     "views": []
    },
    "9ac562eb545b44669964fc36dc33ec5e": {
     "views": []
    },
    "9adde0327c8c4ffe954099baa30b4f35": {
     "views": []
    },
    "9aecb6be7059491d9a4b0e175541358d": {
     "views": []
    },
    "9b1c28a3c33d4b4da9682e9d495342ad": {
     "views": []
    },
    "9b30a6b628964f5a83343b8ff81d6f39": {
     "views": []
    },
    "9b3ae52b8564498f8ee2191e868e7094": {
     "views": []
    },
    "9c38e48d91b744d784913f54f7848800": {
     "views": []
    },
    "9d671bc3ea564b68a35e474d405fba8c": {
     "views": []
    },
    "9daa3012a26e465b82c8e9ed7bd6e3c5": {
     "views": []
    },
    "9dbb07b62b9e4314b4a5dca086c97bce": {
     "views": []
    },
    "9dc73108ad20408f822ef74e1c51839d": {
     "views": []
    },
    "9dfde12a5712401e95f30c44bdc9b638": {
     "views": []
    },
    "9e38711e23224d56917ba01643869fca": {
     "views": []
    },
    "9ea313adffbc4147928eb4da29a75922": {
     "views": []
    },
    "9f0e47899e594e26b20fd30c2625d75b": {
     "views": []
    },
    "9ff69737892945d7a91539f55228c75c": {
     "views": []
    },
    "a03008f829f04e71821ce93317af6e43": {
     "views": []
    },
    "a0421442bef64d40a976362a68fc05db": {
     "views": []
    },
    "a09d615dcb334e5494c5943397e7041f": {
     "views": []
    },
    "a09fc8bd6bd6492686e1d686aa4e286c": {
     "views": []
    },
    "a0aafbffdf4440059dcb795355d8a7dc": {
     "views": []
    },
    "a1cd275e29a3415ba89147d4f9576221": {
     "views": []
    },
    "a209a2ce3eb24621ab711a87516ec507": {
     "views": []
    },
    "a25423221091472ab2a49b12611acda5": {
     "views": []
    },
    "a33a415381364c839ddb8ec820a862af": {
     "views": []
    },
    "a41945137fb34627bd65b7a9b2555919": {
     "views": []
    },
    "a44abdace5574e688a7011506559f19d": {
     "views": []
    },
    "a48d4e86277a4ea5b498bb36c0715470": {
     "views": []
    },
    "a4dec7715a984b9dae8c72b7f3a4f9e9": {
     "views": [
      {
       "cell_index": 10
      }
     ]
    },
    "a572dccf78e347c18cc022c662d9a550": {
     "views": []
    },
    "a5e4355b4a254a698f571a2e8d0dba81": {
     "views": []
    },
    "a5f3b6c40dc24812a0825935325bdd0d": {
     "views": []
    },
    "a632125937354d6e91d475197f846cbc": {
     "views": []
    },
    "a6ce9aecde5945a988865032877356b3": {
     "views": []
    },
    "a6e2a7bb58d842959599a367fac73d0a": {
     "views": []
    },
    "a719f49a559c4038b7679d28ffc8b098": {
     "views": []
    },
    "a7815464254a4de5ae426f8169196b20": {
     "views": []
    },
    "a7bbcbeb3bac48888fd7bb3d7183ec33": {
     "views": []
    },
    "a8103d808939426e813e2a3ea9122e94": {
     "views": []
    },
    "a86b75c7c9a5422ea58a68c4a1f19953": {
     "views": []
    },
    "a8ba4fb91c5340bd8a1602fa0dbc7608": {
     "views": []
    },
    "a8e7d57145964d8788e3c4cfe2fd4c49": {
     "views": []
    },
    "a90926e5c8eb420890783a34a318d508": {
     "views": []
    },
    "a970652bdc7e4c60b49ae3f05bfef1e3": {
     "views": []
    },
    "a9e52d00b2a7472e9778fa59a3cc4608": {
     "views": []
    },
    "a9e6c356ca3a426ba45dd55a8d214917": {
     "views": []
    },
    "aa493b34dd6a4ea8831a60cbf8897e27": {
     "views": []
    },
    "aaa2fcbba3f14a7fae882e2917df026c": {
     "views": []
    },
    "ab07ec92f55441139877bb75aea6b97c": {
     "views": []
    },
    "ab79c12a3f5643c08f930f63d3d77bd3": {
     "views": []
    },
    "ab93ba67d3b84cb081ec704ecd8b2b4d": {
     "views": []
    },
    "abc459198e394d63b97a76f4a0dc2f48": {
     "views": []
    },
    "aca77daafb5249d9b2fb4421be7bdcf0": {
     "views": []
    },
    "acf00b20be7a4aaa9f24f50e6b28dfe7": {
     "views": []
    },
    "acf4f0f246d942b096093c375fc541bf": {
     "views": []
    },
    "acff37e312ac44e5ad8edcbb28c9ad01": {
     "views": []
    },
    "ad887282520f42ada460fbf59eaf5d17": {
     "views": []
    },
    "ad9ed6cc6f5044008460a2f23faea093": {
     "views": []
    },
    "adc6bb09e32d40778f9925e8d78d5ff6": {
     "views": []
    },
    "ae7cbca8a12941bf9c156c13d68ff00f": {
     "views": []
    },
    "aeb7eabf21304694ab43f6519cf40cfd": {
     "views": []
    },
    "af0c7616e65f457695bbbbc26593c4c0": {
     "views": []
    },
    "afa28b49984a415d84c64fe9cc3c7c37": {
     "views": []
    },
    "aff4c6dcd9934fc2b75594d14ba5a86b": {
     "views": []
    },
    "b17a1e82f5bb4a04a01610f2876cec69": {
     "views": []
    },
    "b18b7648e3c7475b8c520b8361d6c317": {
     "views": []
    },
    "b1a6c1b7624845158dfee2df39485a37": {
     "views": []
    },
    "b1d116eceaf44d5c94bf5f3ec54afbbe": {
     "views": []
    },
    "b1d159a8a15a4ef487a936e0b5437d07": {
     "views": []
    },
    "b1d18532680c4c9faa3647db801138ca": {
     "views": []
    },
    "b1d925930ddc41b785d59779f47e42cf": {
     "views": []
    },
    "b1ec17829dd441999144aa3ff5371b65": {
     "views": []
    },
    "b20142dc6b6640d2abc29d34bc8269f6": {
     "views": []
    },
    "b2332e9d23e943709f95dde2260ff5bf": {
     "views": []
    },
    "b34544f3467c48bf8957712a907856e5": {
     "views": []
    },
    "b3660a7e29df4ca4a8ba3f202fc2ea88": {
     "views": []
    },
    "b37709ad33fc4aa287d0041fea5cf0db": {
     "views": []
    },
    "b3cd713871de479cb40198c359579b51": {
     "views": []
    },
    "b5b0b1fb55d44156b026b700a05364a0": {
     "views": []
    },
    "b5e84250368449beb33b1bfe8591c315": {
     "views": []
    },
    "b613036b47d740379da527e99812edd7": {
     "views": []
    },
    "b686dee8e730497e9535db1103dba141": {
     "views": []
    },
    "b809764c96d34eaea3bca2c26831a0eb": {
     "views": []
    },
    "b8591e2b38e94d38912eed42287ad58a": {
     "views": []
    },
    "b873ef90dd444fbf837c2685ec6b01bb": {
     "views": []
    },
    "b8b7e9aba35846898586d5aaf44b55b9": {
     "views": []
    },
    "b989d1fd7a2944ccbaacb3cd5693e021": {
     "views": []
    },
    "b9c34d46452e4fa79e578eb86bce9953": {
     "views": []
    },
    "ba357d40209f477fa40465d8b131eb6a": {
     "views": []
    },
    "ba4acaa67f7145b0ab06bf14e4f937ee": {
     "views": []
    },
    "ba795de7ae1a4466ad5cec1596e275f9": {
     "views": []
    },
    "bb0ff74fd31e4a1d9ec0447a11ad2f09": {
     "views": []
    },
    "bbda948c5bb54b10a3b069a3688074f5": {
     "views": []
    },
    "bc5be8d08cc04f7392c80ffc66df8c53": {
     "views": []
    },
    "bc6a237661204dbd91e85ec7dce08a55": {
     "views": []
    },
    "bc6d8ac4c59e41c5b61343cd1d76c8f2": {
     "views": []
    },
    "bd372872200446c1a7076e0da547cf4a": {
     "views": []
    },
    "be593b81a3b5467b8dc2ec8858543480": {
     "views": []
    },
    "be6ff5962a6e4561b9a37ec190864c0b": {
     "views": []
    },
    "be7f2c74d2e5438b8296df2eafc0ceb5": {
     "views": []
    },
    "be93a5975ab948f7a83c3fb906cfdaf0": {
     "views": []
    },
    "bea83afddef645ffabb76153fb81b64b": {
     "views": []
    },
    "becb9557620947a1a52f1c01f7b0d551": {
     "views": []
    },
    "bf07112408134d089b8f3f897d7f64db": {
     "views": []
    },
    "bf4ce9167a1045fe93cdb1914935ecaa": {
     "views": []
    },
    "c0110202d73f4e4a96c90550740643c6": {
     "views": []
    },
    "c04d6f4f78a0488ca81050245b5b2f93": {
     "views": []
    },
    "c05aa2e650354e548075295a44a6bceb": {
     "views": []
    },
    "c0974f703a4e4801952b9c5adb4c3224": {
     "views": []
    },
    "c15ad8ff804f42e9be2e3423e933e834": {
     "views": []
    },
    "c161ce6a7a094629a0b22c349e70a416": {
     "views": []
    },
    "c186c137d96e41b095cfcaf1df95809f": {
     "views": []
    },
    "c1aef4598dc548958499660ea88cbb70": {
     "views": []
    },
    "c2841f550a0d4732bcf4ab27d769b211": {
     "views": []
    },
    "c3a85c30884b4aa286bfd30d425fff11": {
     "views": []
    },
    "c3a919c7b1cc4b56aef24db544d5b30f": {
     "views": []
    },
    "c3a9944084cd49b1979ed00d87e7ebc2": {
     "views": []
    },
    "c4113a96f00244088fc9efb711b64a84": {
     "views": []
    },
    "c462ba4e3e344a01ac6d468c97af32be": {
     "views": []
    },
    "c5b987800d3542bd9c7fe24e09a3b4a8": {
     "views": []
    },
    "c61a3dfd97b84ce0b1f9ac0b5d31ce04": {
     "views": []
    },
    "c653796189834547929e6c0d862c3bf1": {
     "views": []
    },
    "c656c98e7e634c3f968c04b7d40f018b": {
     "views": []
    },
    "c6cecbe7828444d7add6d01e3d77a529": {
     "views": []
    },
    "c73756890471497eaae4d58445439450": {
     "views": []
    },
    "c81a2fd46aee4684b3ff80d874494d1e": {
     "views": []
    },
    "c82c58fdf3154130b6ac234ac409e5d8": {
     "views": []
    },
    "c8c08d02c7a44f18b23e381d16abe338": {
     "views": []
    },
    "c8dd79a843df47518f449fcebe7a8aad": {
     "views": []
    },
    "c9207117f2804c12ac2d2d7adba88e68": {
     "views": []
    },
    "c9845e9bace44a2ab4db213ba8d01e10": {
     "views": []
    },
    "c9b8541666264416a5c40b51a68574e4": {
     "views": []
    },
    "caa7e5d34df84ae79830ed7dc60f6401": {
     "views": []
    },
    "cac37dd0c20d44ea982ebd0ed954b919": {
     "views": []
    },
    "cad704c5f9a340dc8aced495a18cda3a": {
     "views": []
    },
    "cb2a9f91a9cb482eb14144e61959956f": {
     "views": []
    },
    "cb4585840f324414a459717d6563a28d": {
     "views": []
    },
    "cb909b1b65e24c4ea91b5483d1c42c3b": {
     "views": []
    },
    "cbc3d6eb97d3479db2952de0989d9860": {
     "views": []
    },
    "cbe2f21b57b9437b84737c581d45481c": {
     "views": []
    },
    "cc8f36e33d0a4d8baff00b9c0e0946ed": {
     "views": []
    },
    "ccd04901baec41b38dad991ec072ea40": {
     "views": []
    },
    "cdcd62c402f64eb8ae7fe9ce437b48d7": {
     "views": []
    },
    "cea9950d43334a0f9f86d22a3b4a93e5": {
     "views": []
    },
    "ceb1cdd10e444f998ebe751900095aa4": {
     "views": []
    },
    "cf3af6832e8e46a881413bdda89d0f89": {
     "views": []
    },
    "cff329d3362541a09bcaf3d9883f2c7c": {
     "views": []
    },
    "d0221e14c4c84365ad50d307819b180f": {
     "views": [
      {
       "cell_index": 32
      }
     ]
    },
    "d078055365f245db8b71ba2065efe142": {
     "views": []
    },
    "d0c8d1495d6846ac9d15c672395a2fb6": {
     "views": []
    },
    "d0cf42f78f484c90b470f25fe0aea1e1": {
     "views": []
    },
    "d1e795185fd44c8593acebb4e4236fa8": {
     "views": []
    },
    "d1ec769c95754342bc7fa8f79650db98": {
     "views": []
    },
    "d1f284ed21754ea1847ab96878a097eb": {
     "views": []
    },
    "d2236dfa5ea44c94bd22b095491b664f": {
     "views": []
    },
    "d352be7292b8400494c9fe240d4aa458": {
     "views": []
    },
    "d35725865bf043ffbed65b721ab8e20c": {
     "views": []
    },
    "d36c208d0e904d5e816d368e29b9dd04": {
     "views": []
    },
    "d39d0570e9ca4873afbb6ac2f7f8f69f": {
     "views": []
    },
    "d43bfb1e577e4d88bab20dde6452baa1": {
     "views": []
    },
    "d4ba81b7b64841649c587a0d8558b0e3": {
     "views": []
    },
    "d4c633c4dc5541c7944e1f99314b0304": {
     "views": []
    },
    "d4f5507d8aa244d6aaea5585438c8c3c": {
     "views": []
    },
    "d58f9378e2564667b1f12b2217245e0c": {
     "views": []
    },
    "d600d8a2d73d489eba0a1c656ab93e24": {
     "views": []
    },
    "d65c56f405f242168569699bcfb31892": {
     "views": []
    },
    "d739414daa984367ad8f700ba991059d": {
     "views": []
    },
    "d84a0fed59bc43f0b11876eebb0501c9": {
     "views": []
    },
    "d932ec9efbd841569593f4db3ea0d6e4": {
     "views": []
    },
    "d9853c2768334f0492900cd30dc40ee5": {
     "views": []
    },
    "daeb11b029694f8f93185ad62538a679": {
     "views": []
    },
    "db2eac6b63574ce29d9cf3b11da3a732": {
     "views": []
    },
    "db65509c1b0a4dbca277397a961328ab": {
     "views": []
    },
    "dc29ed4b39ed46379c2b5f84d2ecd577": {
     "views": []
    },
    "dc6a239ad22a472084d01a699d481cfe": {
     "views": []
    },
    "dcefc317eabe415bbbcff25b999bcb1b": {
     "views": []
    },
    "dd00f3ac56fe4ef28fd18918bd588561": {
     "views": []
    },
    "dd2189c5422f49b089c32693b3b5871e": {
     "views": []
    },
    "dd30de28861044c09ca4575722e8f053": {
     "views": []
    },
    "dd62752cd63746bca2e5223b50b9c2fe": {
     "views": []
    },
    "ddd54ec19e294d018e0184c10c199da2": {
     "views": []
    },
    "ddeb127cedf04d7f9616d8eb278425f0": {
     "views": []
    },
    "defe5ba6e8bd476888b5b88b73f83ced": {
     "views": []
    },
    "df0bb45166824438847f4ea8e3e16864": {
     "views": []
    },
    "dfad4217db3440d38c8cec757144705b": {
     "views": []
    },
    "dfc35433e0884e69ae30a1eb442b6778": {
     "views": []
    },
    "dfef043f53fb47b1a64b4b91dfef81c4": {
     "views": []
    },
    "e07c4de8b5a440c7a65cfb76161dcdf4": {
     "views": []
    },
    "e0e08fb9e4b844258156fe20899498c5": {
     "views": []
    },
    "e0fd2762b7374197aadff7b8d8ad161d": {
     "views": []
    },
    "e10ef3d4f533485d85888d60b9dc2782": {
     "views": []
    },
    "e16a864d96274ae188240f69e54585c8": {
     "views": []
    },
    "e1f41d1c1e844815a3b14c8c275e3854": {
     "views": []
    },
    "e22f174ceb0d497d994551a5ed1921bb": {
     "views": []
    },
    "e24f005e746e44c1b5c12323934f3e9b": {
     "views": []
    },
    "e267d8772fff460797200f3ef51e42cf": {
     "views": []
    },
    "e2700f619047475b9ba06fddab4cbf4d": {
     "views": []
    },
    "e2778466c2444c54a644aef07cbe7a01": {
     "views": []
    },
    "e2c5bc1cdbaf4c058b1cc71c907bf9ff": {
     "views": []
    },
    "e2e320c37e6c4bf492fedfa9db029e61": {
     "views": []
    },
    "e31ac0058d7c4c2bac8fd173863e7386": {
     "views": []
    },
    "e32fbff269584ca1bf019c1376e6c6e8": {
     "views": []
    },
    "e38f67a56ea74ee3913bcf8e3b5925ef": {
     "views": []
    },
    "e3c33dafeacd464db84a763399e67924": {
     "views": []
    },
    "e3fd78cca741489abd82e7f52e45164d": {
     "views": []
    },
    "e49af98ae3394378aa732a533a26d326": {
     "views": []
    },
    "e50fc3a61a8247a1bfba50ee750a51ef": {
     "views": []
    },
    "e5cbda06ff2a47e8821dc8957573be27": {
     "views": []
    },
    "e6541f9c2e8e4ea9b4a55d9f4d036b00": {
     "views": []
    },
    "e65ba95e17654e73bbaf06e48865a01b": {
     "views": []
    },
    "e68da39c9f5b485da037aaf7a52aaa9f": {
     "views": []
    },
    "e6b62e8cabac43588e3c54bd704095b9": {
     "views": []
    },
    "e6fd0059d99b49e88e98b011a8a79261": {
     "views": []
    },
    "e7211d90f4e745dcad770dc00d23a09e": {
     "views": []
    },
    "e737c694a86847929104a04f9663858a": {
     "views": []
    },
    "e747f4b4e72c4caa808a653cee04ed45": {
     "views": []
    },
    "e7511e20ca3341dbbee1a07bc7ba93ed": {
     "views": [
      {
       "cell_index": 24
      }
     ]
    },
    "e758858f79374cd9be95535ef7dc9662": {
     "views": []
    },
    "e7cb3bda69d2429fb1819942470093c3": {
     "views": []
    },
    "e7d25f13d5c840f390962f7861e57511": {
     "views": []
    },
    "e7d7cf402d99459ea21e6f0019c53b59": {
     "views": []
    },
    "e7e5e1a270324bfaa6487086acc0b0b1": {
     "views": []
    },
    "e82dc129118d46d49e59c079cb3b82ba": {
     "views": []
    },
    "e8d3e14a71a84ec4be141fa7f7f6c416": {
     "views": []
    },
    "e91b2ce3390c44dd849a6f4ec07e5b8b": {
     "views": []
    },
    "e92dff1749ba4206bdeef7770268872b": {
     "views": []
    },
    "ea2a117efadd453aa303ed5769e526e6": {
     "views": []
    },
    "eb699c8d2b7741a8a1a5e7958665f291": {
     "views": []
    },
    "eb8bb3e4ff644c5e8ed121783e2e4910": {
     "views": []
    },
    "ebe6aa96ee2442829a9024dbc41c4501": {
     "views": []
    },
    "ec4af5c00ca1454ba620e7d7f7925fae": {
     "views": []
    },
    "ec723ca8521d4c7194b5886c6a48ceae": {
     "views": []
    },
    "eca2928f1bc044a3a87e91ba286886e4": {
     "views": []
    },
    "ecd8f040f089466ca88de93191698360": {
     "views": []
    },
    "ed0861ef84a3414cad58c2d6bd113784": {
     "views": []
    },
    "ed26e1d18dac40178c173191ba29c6c6": {
     "views": []
    },
    "ed52329165d44e4791d4d8065e82317f": {
     "views": []
    },
    "ed593f8e82294a1a8b5edf7cb42dcfe0": {
     "views": []
    },
    "eddedbb118104658a5ec4631d767f981": {
     "views": []
    },
    "ee04be21ae4a410fa7205894f4dbc9b2": {
     "views": []
    },
    "ee6a0025cb874097a9ece752e5863921": {
     "views": []
    },
    "eec8216438bb4661a87ed7e444d312e6": {
     "views": []
    },
    "eefd4c2d21f84b8c86de5a2bc4720aa8": {
     "views": []
    },
    "ef2ab85459fb4e1f95c6e0c7cb7a6dd9": {
     "views": []
    },
    "ef326c141b13426491914edd137e727d": {
     "views": []
    },
    "ef4bb3a02c9c46a888caa33d7eff4b3b": {
     "views": []
    },
    "ef701041e79b48e0a32bf1734d4fa6b7": {
     "views": []
    },
    "ef994d2e4141498cad476caea6c20b3c": {
     "views": []
    },
    "f01207d3506844968130e8001cf5ad6c": {
     "views": []
    },
    "f04e3c41026f4b2299ff7c31e4bef8b4": {
     "views": []
    },
    "f07f7f0a1c494f6aaf2890726060f117": {
     "views": []
    },
    "f09149e1e2394af0bd709ceaf9149b77": {
     "views": []
    },
    "f0b41ef11c604d7ba97334d8e4a37630": {
     "views": []
    },
    "f0c51e00fd8f49fbb8fa095d8ac171f6": {
     "views": []
    },
    "f112180b12e541a9b39d7d18a9ae8c30": {
     "views": []
    },
    "f193663ff5034becaa62d2ee50593e12": {
     "views": []
    },
    "f194913cd3644e6992a6c8000bd2365e": {
     "views": [
      {
       "cell_index": 16
      }
     ]
    },
    "f1f009d0d39f4c20a27df4e53628ce9d": {
     "views": []
    },
    "f2b4efeb00a24ad98eb3eda3fbc3e10c": {
     "views": []
    },
    "f359416fdb3342eaaff1c1faf9ba3137": {
     "views": []
    },
    "f3a7875da247432c9d2a72fc60142921": {
     "views": []
    },
    "f3ad9104840a4628a5f2bc17c831851b": {
     "views": []
    },
    "f432bf7a65ff401988c5ad1b7b56deab": {
     "views": []
    },
    "f453ce0c8d96411b8c9439c95c0b7c1f": {
     "views": []
    },
    "f463955b4a354393987813476e1a5982": {
     "views": []
    },
    "f490a9f57da4420d8d59d7aa777a0ad8": {
     "views": []
    },
    "f49c833b2bf2416d86ddcefa9d38e893": {
     "views": []
    },
    "f5156086a4da45a2ae29722528e1d3d4": {
     "views": []
    },
    "f55b8f7da8b540ba9165106110ebee93": {
     "views": []
    },
    "f56bc2f53c4a4cde80b74ad60ef9b56c": {
     "views": []
    },
    "f5a273bf019944688209189ae525efad": {
     "views": []
    },
    "f5ab74b871604a05adc786bf75c279d7": {
     "views": []
    },
    "f633e74ca9d34fdbb84e5c57617c49ba": {
     "views": []
    },
    "f63ad26a62b34ddfaf99672ec021ab12": {
     "views": []
    },
    "f67188d8324642f1af5ad3bdd7763332": {
     "views": []
    },
    "f701a68314474d21a0940800a09bcbb5": {
     "views": []
    },
    "f710ad4186af47228750e5897dc744e9": {
     "views": []
    },
    "f7177999161a4d3fa6848d63c47e3377": {
     "views": []
    },
    "f8e2889206374d9e9a34f147e50a1438": {
     "views": []
    },
    "f91653eed9ae44ae876f1e236dc6c366": {
     "views": []
    },
    "f92535942eb64156b9a5729b7d3d61bc": {
     "views": []
    },
    "f94a6a08d5794ce3bb263279cdf96e75": {
     "views": []
    },
    "f9c56a49662944f8a429cd164fd21e30": {
     "views": []
    },
    "faaf00d5c86a4eaa9f593ee150c957a0": {
     "views": []
    },
    "fb03206bbabb4fce96cf7d6d82b370c0": {
     "views": []
    },
    "fb13d2c8b57e4794bf6fdf787f4c8496": {
     "views": []
    },
    "fb522489b3924438be0a13af483dcf4a": {
     "views": []
    },
    "fbbae716b68d43f085aff997d5730d22": {
     "views": []
    },
    "fbd26fcf1b9c4eeab11243f01b63ec04": {
     "views": []
    },
    "fc0fff19e4d4454eb798f65fb6237be4": {
     "views": []
    },
    "fc2ea774c4e1432caeb9af3f5f23cc68": {
     "views": []
    },
    "fc350edf96124bf08f94e43f08a37f5f": {
     "views": []
    },
    "fc842a5d4e5b4c8a9f68c5be002135c2": {
     "views": []
    },
    "fcaec19fcb98428c9f3b2c2a15b7ee4b": {
     "views": []
    },
    "fcde3c747eb0493ca91467f7d45dfde3": {
     "views": []
    },
    "fdee15527dad4b4795c0b51da375b356": {
     "views": []
    },
    "fe1526b7d7d2446c8d20b68bbd29a6aa": {
     "views": []
    },
    "fe52370cb26c4f8db582196dcedcc831": {
     "views": []
    },
    "fea00c03eae445f4af375580f155a0c4": {
     "views": []
    },
    "fee6f2e12cd2465d911f8443c0bc2d24": {
     "views": []
    },
    "ff0e0308de664f94a5ada135ecb06a57": {
     "views": []
    },
    "ff1579958cef4929a473051f5d81a9c8": {
     "views": [
      {
       "cell_index": 14
      }
     ]
    },
    "ffb633a582da46b49c2ee6cb0eb14acc": {
     "views": []
    }
   },
   "version": "1.1.2"
  }
 },
 "nbformat": 4,
 "nbformat_minor": 0
}
