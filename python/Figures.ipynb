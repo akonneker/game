{
 "cells": [
  {
   "cell_type": "code",
   "execution_count": 1,
   "metadata": {
    "collapsed": true
   },
   "outputs": [],
   "source": [
    "from __future__ import print_function"
   ]
  },
  {
   "cell_type": "code",
   "execution_count": 2,
   "metadata": {
    "collapsed": true
   },
   "outputs": [],
   "source": [
    "import sys\n",
    "sys.path.append('../build/')"
   ]
  },
  {
   "cell_type": "code",
   "execution_count": 9,
   "metadata": {
    "collapsed": false
   },
   "outputs": [
    {
     "name": "stdout",
     "output_type": "stream",
     "text": [
      "Populating the interactive namespace from numpy and matplotlib\n"
     ]
    }
   ],
   "source": [
    "%pylab inline\n",
    "np.set_printoptions(precision=4, suppress=True)"
   ]
  },
  {
   "cell_type": "code",
   "execution_count": 10,
   "metadata": {
    "collapsed": false
   },
   "outputs": [],
   "source": [
    "import versor as vsr\n",
    "from versor.drawing import *"
   ]
  },
  {
   "cell_type": "code",
   "execution_count": 11,
   "metadata": {
    "collapsed": true
   },
   "outputs": [],
   "source": [
    "from IPython.display import display\n",
    "from ipywidgets import HTML, Text, interact, widgets\n",
    "from traitlets import link, dlink"
   ]
  },
  {
   "cell_type": "code",
   "execution_count": 12,
   "metadata": {
    "collapsed": false
   },
   "outputs": [],
   "source": [
    "def rgb2hex(r, g, b):\n",
    "    return \"#{0:02x}{1:02x}{2:02x}\".format(r, g, b)"
   ]
  },
  {
   "cell_type": "markdown",
   "metadata": {},
   "source": [
    "# Figures"
   ]
  },
  {
   "cell_type": "markdown",
   "metadata": {},
   "source": [
    "## Reciprocal frame"
   ]
  },
  {
   "cell_type": "code",
   "execution_count": 47,
   "metadata": {
    "collapsed": false
   },
   "outputs": [
    {
     "name": "stdout",
     "output_type": "stream",
     "text": [
      "Tri: [ -0.67 ]\n",
      "Vec: [ 0.67 -0.67 0 ]\n",
      "[ 0.5 -1.   0. ]\n"
     ]
    }
   ],
   "source": [
    "R = vsr.Biv(pi/6.,0,0).exp()\n",
    "a1 = vsr.Vec(0.5,-1,0)\n",
    "a2 = vsr.Vec(1.,1.,0)\n",
    "a3 = vsr.Vec(-1,-1,1)\n",
    "\n",
    "A = (a1 ^ a2 ^ a3)\n",
    "\n",
    "print(A.inv())\n",
    "\n",
    "ra1 = (a2 ^ a3) <= A.inv()\n",
    "ra2 = (a3 ^ a1) <= A.inv()\n",
    "ra3 = (a1 ^ a2) <= A.inv()\n",
    "\n",
    "print(ra1)\n",
    "\n",
    "b = 1 * a1 + 2. * a2 + 1. * a3\n",
    "# print(b)\n",
    "coords = np.array([(b <= ra1),(b <= ra2), (b <= ra3)])\n",
    "# print(np.array([(b <= ra1),(b <= ra2), (b <= ra3)]))\n",
    "print(coords[0] * a1)\n",
    "\n",
    "scene = Scene(children=[\n",
    "#         frame_mesh(),\n",
    "        vector_mesh(a1, color='red', arrow=True),\n",
    "        vector_mesh(a2, color='green', arrow=True),\n",
    "        vector_mesh(a3, color='blue', arrow=True),\n",
    "        vector_mesh(a1, position=a2, color='gray'),\n",
    "        vector_mesh(a1, position=a3, color='gray'),\n",
    "        vector_mesh(a1, position=a3+a2, color='gray'),\n",
    "        vector_mesh(a2, position=a1, color='gray'),\n",
    "        vector_mesh(a2, position=a3, color='gray'),\n",
    "        vector_mesh(a2, position=a3+a1, color='gray'),\n",
    "        vector_mesh(a3, position=a1, color='gray'),\n",
    "        vector_mesh(a3, position=a2, color='gray'),\n",
    "        vector_mesh(a3, position=a1+a2, color='gray'),\n",
    "        vector_mesh(ra1, color='hotpink', arrow=True),\n",
    "        vector_mesh(ra2, color='lightgreen', arrow=True),\n",
    "        vector_mesh(ra3, color='lightskyblue', arrow=True),\n",
    "#         vector_mesh((coords[0] * a1), position=b, color='gray'),\n",
    "#         vector_mesh(b-a1, position=a1),\n",
    "#         vector_mesh(b-ra1, position=ra1),\n",
    "#         vector_mesh(b),\n",
    "\n",
    "        AmbientLight(color='#cccccc')])\n",
    "camera = PerspectiveCamera(position=[3, -3, 3])\n",
    "renderer = Renderer(camera=camera, \n",
    "                    scene=scene, \n",
    "                    controls=[TrackballControls(controlling=camera)],\n",
    "                    background = 'white')\n",
    "renderer.width = '1024'\n",
    "renderer.height = '768'\n",
    "\n",
    "display(renderer)"
   ]
  },
  {
   "cell_type": "markdown",
   "metadata": {},
   "source": [
    "## Duality"
   ]
  },
  {
   "cell_type": "code",
   "execution_count": 26,
   "metadata": {
    "collapsed": false
   },
   "outputs": [],
   "source": [
    "B = vsr.Biv(1,0,0)\n",
    "a = B.duale()\n",
    "\n",
    "scene = Scene(children=[\n",
    "        frame_mesh(),\n",
    "        vector_mesh(a,color='blue', arrow=True),\n",
    "        bivector_mesh(B,as_plane=False,color='hotpink'),\n",
    "#         DirectionalLight(color='#ccaabb', position=[1,1,1]),\n",
    "        AmbientLight(color='#cccccc')])\n",
    "camera = PerspectiveCamera(position=[3, -3, 3])\n",
    "renderer = Renderer(camera=camera, \n",
    "                    scene=scene, \n",
    "                    controls=[TrackballControls(controlling=camera)],\n",
    "                    background = 'white')\n",
    "# renderer.width = '1024'\n",
    "# renderer.height = '768'\n",
    "\n",
    "display(renderer)"
   ]
  },
  {
   "cell_type": "markdown",
   "metadata": {},
   "source": [
    "## Projection and Rejection"
   ]
  },
  {
   "cell_type": "code",
   "execution_count": 8,
   "metadata": {
    "collapsed": false
   },
   "outputs": [],
   "source": [
    "a = vsr.Vec(1,1,1)\n",
    "B = vsr.Biv(1,0,0)\n",
    "c = a.project_onto(B)\n",
    "d = a.reject_from(B)\n",
    "\n",
    "scene = Scene(children=[\n",
    "        frame_mesh(),\n",
    "        vector_mesh(a,color='gray', arrow=True),\n",
    "        vector_mesh(c,color='gray'),\n",
    "        vector_mesh(d,position=np.array(c).tolist(),color='gray'),\n",
    "        bivector_mesh(B,color='hotpink'),\n",
    "#         DirectionalLight(color='#ccaabb', position=[1,1,1]),\n",
    "        AmbientLight(color='#cccccc')])\n",
    "camera = PerspectiveCamera(position=[3, -3, 3])\n",
    "renderer = Renderer(camera=camera, \n",
    "                    scene=scene, \n",
    "                    controls=[TrackballControls(controlling=camera)],\n",
    "                    background = 'white')\n",
    "# renderer.width = '1024'\n",
    "# renderer.height = '768'\n",
    "display(renderer)"
   ]
  },
  {
   "cell_type": "markdown",
   "metadata": {},
   "source": [
    "## Reflection"
   ]
  },
  {
   "cell_type": "code",
   "execution_count": 9,
   "metadata": {
    "collapsed": false
   },
   "outputs": [],
   "source": [
    "a = vsr.Vec(1,0,1)\n",
    "B = vsr.Biv(2,0,0)\n",
    "n = B.duale().unit()\n",
    "a_reflected = a.reflect_in_line(n)\n",
    "a_reflected2 = a.reflect_in_plane(n)\n",
    "\n",
    "children = [\n",
    "    frame_mesh(),\n",
    "    vector_mesh(a,color='black', arrow=True),\n",
    "    vector_mesh(a_reflected,color='black', arrow=True),\n",
    "    vector_mesh(a_reflected2,color='black', arrow=True),\n",
    "#     vector_mesh(n,color='black', arrow=True),\n",
    "    bivector_mesh(B, as_plane=True,color='hotpink')]\n",
    "\n",
    "children[-1].material.transparent = True\n",
    "children[-1].material.opacity = 0.75\n",
    "\n",
    "\n",
    "def show(children):\n",
    "    scene = Scene(children= children + [AmbientLight(color='#cccccc')])\n",
    "    camera = PerspectiveCamera(position=[1, -3, 0])\n",
    "    renderer = Renderer(camera=camera, \n",
    "                        scene=scene, \n",
    "                        controls=[TrackballControls(controlling=camera)],\n",
    "                        background = 'white')\n",
    "    return renderer\n",
    "display(show(children))"
   ]
  },
  {
   "cell_type": "markdown",
   "metadata": {},
   "source": [
    "## Rotation"
   ]
  },
  {
   "cell_type": "code",
   "execution_count": 10,
   "metadata": {
    "collapsed": false
   },
   "outputs": [],
   "source": [
    "n1 = vsr.Vec(0,1,0).unit()\n",
    "n2 = n1.spin(vsr.Biv(-np.deg2rad(30) / 2,0,0).exp())\n",
    "B = n1 ^ n2\n",
    "R = n1 * n2\n",
    "a = vsr.Vec(1,0,1).unit()\n",
    "a_rot = a.reflect_in_line(n2).reflect_in_line(n1)\n",
    "\n",
    "B_mesh = bivector_mesh(B,color='gray')\n",
    "B_mesh.material.opacity = 0.9\n",
    "B_mesh.material.transparent = True\n",
    "\n",
    "scene = Scene(children=[\n",
    "#         frame_mesh(),\n",
    "        vector_mesh(n1,color='yellow'),\n",
    "        vector_mesh(n2,color='cyan'),\n",
    "        vector_mesh(a, color='hotpink'),\n",
    "        vector_mesh(a.reflect_in_line(n2)),\n",
    "        vector_mesh(a_rot, color='black'),\n",
    "#         bivector_mesh(n1.unduale(),color='yellow'),\n",
    "#         bivector_mesh(n2.unduale(),color='cyan'),\n",
    "        B_mesh,\n",
    "        AmbientLight(color='#cccccc')])\n",
    "\n",
    "camera = PerspectiveCamera(position=[3, -3, 3])\n",
    "renderer = Renderer(camera=camera, \n",
    "                    scene=scene, \n",
    "                    controls=[TrackballControls(controlling=camera)],\n",
    "                    background = 'white')\n",
    "# renderer.width = '1024'\n",
    "# renderer.height = '768'\n",
    "display(renderer)"
   ]
  },
  {
   "cell_type": "markdown",
   "metadata": {
    "collapsed": false
   },
   "source": [
    "# Conformal Geometric Algebra"
   ]
  },
  {
   "cell_type": "code",
   "execution_count": 11,
   "metadata": {
    "collapsed": false
   },
   "outputs": [],
   "source": [
    "p1 = vsr.Vec(1,0,1).null()\n",
    "p2 = vsr.Vec(0,1,1).null()\n",
    "\n",
    "scene = Scene(children=[\n",
    "        frame_mesh(),\n",
    "        point_mesh(p1,color='lightskyblue'),\n",
    "        vector_mesh(p1.vec(),color='lightslategray', arrow=True),\n",
    "        point_mesh(p2,color='lightskyblue'),\n",
    "        vector_mesh(p2.vec(),color='lightslategray', arrow=True),\n",
    "\n",
    "        AmbientLight(color='#cccccc')])\n",
    "\n",
    "camera = PerspectiveCamera(position=[3, -3, 3])\n",
    "renderer = Renderer(camera=camera, \n",
    "                    scene=scene, \n",
    "                    controls=[TrackballControls(controlling=camera)],\n",
    "                    background = 'white')\n",
    "# renderer.width = '1024'\n",
    "# renderer.height = '768'\n",
    "display(renderer)"
   ]
  },
  {
   "cell_type": "code",
   "execution_count": 12,
   "metadata": {
    "collapsed": false
   },
   "outputs": [],
   "source": [
    "# p1 = vsr.Vec(1,0,1).null()\n",
    "p2 = vsr.Vec(0,1,1).null()\n",
    "p3 = vsr.Vec(1,1,1).null()\n",
    "p4 = vsr.Vec(0,0,1.5).null()\n",
    "pln = vsr.Pln(p2, p3, p4).dual()\n",
    "\n",
    "\n",
    "scene = Scene(children=[\n",
    "        frame_mesh(),\n",
    "        point_mesh(p2,color='lightskyblue'),\n",
    "        vector_mesh(p2.vec(),color='lightskyblue', arrow=True),\n",
    "\n",
    "        point_mesh(p3,color='lightskyblue'),\n",
    "        point_mesh(p4,color='lightskyblue'),\n",
    "        plane_mesh(pln, width=3, height=3, color='hotpink'),\n",
    "\n",
    "        AmbientLight(color='#cccccc')])\n",
    "\n",
    "camera = PerspectiveCamera(position=[3, -3, 3])\n",
    "renderer = Renderer(camera=camera, \n",
    "                    scene=scene, \n",
    "                    controls=[TrackballControls(controlling=camera)],\n",
    "                    background = 'white')\n",
    "renderer.width = '1024'\n",
    "renderer.height = '768'\n",
    "display(renderer)"
   ]
  },
  {
   "cell_type": "code",
   "execution_count": 13,
   "metadata": {
    "collapsed": false
   },
   "outputs": [
    {
     "name": "stdout",
     "output_type": "stream",
     "text": [
      "Vec: [ 0 0.6 1.2 ]\n"
     ]
    }
   ],
   "source": [
    "# p1 = vsr.Vec(1,0,1).null()\n",
    "p2 = vsr.Vec(0,1,1).null()\n",
    "p3 = vsr.Vec(1,1,1).null()\n",
    "p4 = vsr.Vec(0,0,1.5).null()\n",
    "pln = vsr.Pln(p2, p3, p4).dual().unit()\n",
    "\n",
    "loc = pln.loc(vsr.Vec(0,0,0).null()).vec()\n",
    "n = loc - vsr.Vec(0,0,0)\n",
    "print(n)\n",
    "\n",
    "\n",
    "scene = Scene(children=[\n",
    "        frame_mesh(),\n",
    "#         point_mesh(loc,color='lightskyblue'),\n",
    "        plane_mesh(pln, width=3, height=3, color='hotpink'),\n",
    "        vector_mesh(n),\n",
    "        vector_mesh(n,position=loc,arrow=True),\n",
    "        AmbientLight(color='#cccccc')])\n",
    "\n",
    "camera = PerspectiveCamera(position=[3, -3, 3])\n",
    "renderer = Renderer(camera=camera, \n",
    "                    scene=scene, \n",
    "                    controls=[TrackballControls(controlling=camera)],\n",
    "                    background = 'white')\n",
    "renderer.width = '1024'\n",
    "renderer.height = '768'\n",
    "display(renderer)"
   ]
  },
  {
   "cell_type": "code",
   "execution_count": 14,
   "metadata": {
    "collapsed": false
   },
   "outputs": [
    {
     "data": {
      "text/plain": [
       "Vec: [ 0 0.6 1.2 ]"
      ]
     },
     "execution_count": 14,
     "metadata": {},
     "output_type": "execute_result"
    }
   ],
   "source": [
    "n"
   ]
  },
  {
   "cell_type": "markdown",
   "metadata": {},
   "source": [
    "### Circle"
   ]
  },
  {
   "cell_type": "code",
   "execution_count": 15,
   "metadata": {
    "collapsed": false
   },
   "outputs": [],
   "source": [
    "# p1 = vsr.Vec(1,0,1).null()\n",
    "p2 = vsr.Vec(0,1,1).null()\n",
    "p3 = vsr.Vec(1,1,1).null()\n",
    "p4 = vsr.Vec(0,0,1.5).null()\n",
    "cir = vsr.Cir(p2, p3, p4)\n",
    "\n",
    "\n",
    "scene = Scene(children=[\n",
    "        frame_mesh(),\n",
    "        point_mesh(p2,color='lightskyblue'),\n",
    "        point_mesh(p3,color='lightskyblue'),\n",
    "        point_mesh(p4,color='lightskyblue'),\n",
    "        circle_mesh(cir, color='coral'),\n",
    "\n",
    "        AmbientLight(color='#cccccc')])\n",
    "\n",
    "camera = PerspectiveCamera(position=[3, -3, 3])\n",
    "renderer = Renderer(camera=camera, \n",
    "                    scene=scene, \n",
    "                    controls=[TrackballControls(controlling=camera)],\n",
    "                    background = 'white')\n",
    "renderer.width = '1024'\n",
    "renderer.height = '768'\n",
    "display(renderer)"
   ]
  },
  {
   "cell_type": "code",
   "execution_count": 16,
   "metadata": {
    "collapsed": true
   },
   "outputs": [],
   "source": [
    "vsr.Sph?"
   ]
  },
  {
   "cell_type": "markdown",
   "metadata": {},
   "source": [
    "### Direct Line"
   ]
  },
  {
   "cell_type": "code",
   "execution_count": 17,
   "metadata": {
    "collapsed": false
   },
   "outputs": [
    {
     "name": "stdout",
     "output_type": "stream",
     "text": [
      "Dll: [ 0 -0.7071 0.7071 -0.7071 0.7071 0.7071 ]\n"
     ]
    }
   ],
   "source": [
    "p1 = vsr.Vec(1,0,1).null()\n",
    "p2 = vsr.Vec(2,1,1).null()\n",
    "l = vsr.Dll(p1,p2).unit()\n",
    "print(l)\n",
    "dlp = vsr.Dlp(l.dir().vec().unit(), 0)\n",
    "\n",
    "ld = vsr.Vec(*np.array(l)[3:])\n",
    "\n",
    "l_dir = l.dir().vec().unit()\n",
    "\n",
    "l_loc = l.loc(vsr.Vec(0,0,0).null()).vec()\n",
    "\n",
    "d = l_loc <= l_dir.unduale()\n",
    "\n",
    "vertices = [[0,0,0], \n",
    "            np.array(p1.vec()).tolist(),\n",
    "            np.array(p2.vec()).tolist(),\n",
    "            np.array(p2.vec() - p1.vec()).tolist() \n",
    "           ]\n",
    "faces= [[1,2,3],[1,4,3]]\n",
    "\n",
    "scene = Scene(children=[\n",
    "        frame_mesh(),\n",
    "        point_mesh(p1,color='#ff00ff'),\n",
    "        vector_mesh(p1.vec(),color='#ff00ff'),\n",
    "#         plane_mesh(dlp, color='plum'),\n",
    "        Mesh(geometry=PlainGeometry(vertices=vertices, faces=faces),\n",
    "             material=LambertMaterial(color='palegreen',\n",
    "                                      transparent=True,\n",
    "                                      opacity=0.75)),\n",
    "        \n",
    "        point_mesh(p2,color='#00ffff'),\n",
    "#         vector_mesh(l_dir,position=p1,color='#ffff00', arrow=True),\n",
    "#         bivector_mesh(l.biv(), color='#ffff00'),\n",
    "#         bivector_mesh(p1.vec() ^ p2.vec(), color='coral', as_plane=True),\n",
    "#         vector_mesh(l.drv().vec(), color='coral'),\n",
    "#         point_mesh(l.meet(dlp), color='red'),\n",
    "\n",
    "        line_mesh(l, length=100),\n",
    "        \n",
    "        AmbientLight(color='#cccccc')])\n",
    "\n",
    "camera = PerspectiveCamera(position=[3, -3, 3])\n",
    "renderer = Renderer(camera=camera, \n",
    "                    scene=scene, \n",
    "                    controls=[TrackballControls(controlling=camera)],\n",
    "                    background = 'white')\n",
    "renderer.width = '1024'\n",
    "renderer.height = '768'\n",
    "display(renderer)"
   ]
  },
  {
   "cell_type": "markdown",
   "metadata": {},
   "source": [
    "### Dual Line"
   ]
  },
  {
   "cell_type": "code",
   "execution_count": 18,
   "metadata": {
    "collapsed": false
   },
   "outputs": [
    {
     "name": "stdout",
     "output_type": "stream",
     "text": [
      "Dll: [ 0 -0.7071 0.7071 -0.7071 0.7071 0.7071 ]\n"
     ]
    }
   ],
   "source": [
    "p1 = vsr.Vec(1,0,1).null()\n",
    "p2 = vsr.Vec(2,1,1).null()\n",
    "l = vsr.Dll(p1,p2).unit()\n",
    "print(l)\n",
    "dlp = vsr.Dlp(l.dir().vec().unit(), 0)\n",
    "\n",
    "ld = vsr.Vec(*np.array(l)[3:])\n",
    "\n",
    "l_dir = l.dir().vec().unit()\n",
    "\n",
    "l_loc = l.loc(vsr.Vec(0,0,0).null()).vec()\n",
    "\n",
    "d = l_loc <= l_dir.unduale()\n",
    "\n",
    "vertices = [[0,0,0], \n",
    "            np.array(p1.vec()).tolist(),\n",
    "            np.array(p2.vec()).tolist(),\n",
    "            np.array(p2.vec() - p1.vec()).tolist() \n",
    "           ]\n",
    "faces= [[1,2,3],[1,4,3]]\n",
    "\n",
    "scene = Scene(children=[\n",
    "        frame_mesh(),\n",
    "        point_mesh(p1,color='#ff00ff'),\n",
    "        vector_mesh(p1.vec(),color='#ff00ff'),\n",
    "#         plane_mesh(dlp, color='plum'),\n",
    "#         Mesh(geometry=PlainGeometry(vertices=vertices, faces=faces),\n",
    "#              material=LambertMaterial(color='palegreen',\n",
    "#                                       transparent=True,\n",
    "#                                       opacity=0.75)),\n",
    "        \n",
    "        point_mesh(p2,color='#00ffff'),\n",
    "#         vector_mesh(l_dir,position=p1,color='#ffff00', arrow=True),\n",
    "        bivector_mesh(l.biv(), color='lightblue'),\n",
    "#         bivector_mesh(p1.vec() ^ p2.vec(), color='coral', as_plane=True),\n",
    "        vector_mesh(l.drv().vec(), color='deepskyblue'),\n",
    "#         point_mesh(l.meet(dlp), color='red'),\n",
    "\n",
    "        line_mesh(l, length=100),\n",
    "        \n",
    "        AmbientLight(color='#cccccc')])\n",
    "\n",
    "camera = PerspectiveCamera(position=[3, -3, 3])\n",
    "renderer = Renderer(camera=camera, \n",
    "                    scene=scene, \n",
    "                    controls=[TrackballControls(controlling=camera)],\n",
    "                    background = 'white')\n",
    "renderer.width = '1024'\n",
    "renderer.height = '768'\n",
    "display(renderer)"
   ]
  },
  {
   "cell_type": "markdown",
   "metadata": {},
   "source": [
    "### Tangent vector"
   ]
  },
  {
   "cell_type": "code",
   "execution_count": 19,
   "metadata": {
    "collapsed": false
   },
   "outputs": [
    {
     "name": "stdout",
     "output_type": "stream",
     "text": [
      "Dll: [ 0 -0.7071 0.7071 -0.7071 0.7071 0.7071 ]\n"
     ]
    }
   ],
   "source": [
    "p1 = vsr.Vec(1,0,1).null()\n",
    "p2 = vsr.Vec(2,1,1).null()\n",
    "l = vsr.Dll(p1,p2).unit()\n",
    "print(l)\n",
    "dlp = vsr.Dlp(l.dir().vec().unit(), 0)\n",
    "\n",
    "ld = vsr.Vec(*np.array(l)[3:])\n",
    "\n",
    "l_dir = l.dir().vec().unit()\n",
    "\n",
    "l_loc = l.loc(vsr.Vec(0,0,0).null()).vec()\n",
    "\n",
    "d = l_loc <= l_dir.unduale()\n",
    "\n",
    "vertices = [[0,0,0], \n",
    "            np.array(p1.vec()).tolist(),\n",
    "            np.array(p2.vec()).tolist(),\n",
    "            np.array(p2.vec() - p1.vec()).tolist() \n",
    "           ]\n",
    "faces= [[1,2,3],[1,4,3]]\n",
    "\n",
    "scene = Scene(children=[\n",
    "        frame_mesh(),\n",
    "        point_mesh(p1,color='#ff00ff'),\n",
    "        vector_mesh(p1.vec(),color='#ff00ff'),\n",
    "        vector_mesh((p2.vec() - p1.vec()).unit(), position=p1.vec(), arrow=True),\n",
    "        vector_mesh((p2.vec() - p1.vec()).unit(), arrow=True),\n",
    "\n",
    "        \n",
    "        AmbientLight(color='#cccccc')])\n",
    "\n",
    "camera = PerspectiveCamera(position=[3, -3, 3])\n",
    "renderer = Renderer(camera=camera, \n",
    "                    scene=scene, \n",
    "                    controls=[TrackballControls(controlling=camera)],\n",
    "                    background = 'white')\n",
    "renderer.width = '1024'\n",
    "renderer.height = '768'\n",
    "display(renderer)"
   ]
  },
  {
   "cell_type": "markdown",
   "metadata": {},
   "source": [
    "### Carrier flats"
   ]
  },
  {
   "cell_type": "code",
   "execution_count": 20,
   "metadata": {
    "collapsed": false
   },
   "outputs": [],
   "source": [
    "# p1 = vsr.Vec(1,0,1).null()\n",
    "p2 = vsr.Vec(0,1,1).null()\n",
    "p3 = vsr.Vec(1,1,1).null()\n",
    "p4 = vsr.Vec(0,0,1.5).null()\n",
    "cir = vsr.Cir(p2, p3, p4)\n",
    "pln = vsr.Pln(p2,p3,p4)\n",
    "\n",
    "\n",
    "scene = Scene(children=[\n",
    "        frame_mesh(),\n",
    "#         point_mesh(p2,color='lightskyblue'),\n",
    "#         point_mesh(p3,color='lightskyblue'),\n",
    "#         point_mesh(p4,color='lightskyblue'),\n",
    "        circle_mesh(cir, color='black'),\n",
    "        plane_mesh(pln, width=3, height=3, color='lightskyblue'),\n",
    "\n",
    "        AmbientLight(color='#cccccc')])\n",
    "\n",
    "camera = PerspectiveCamera(position=[3, -3, 3])\n",
    "renderer = Renderer(camera=camera, \n",
    "                    scene=scene, \n",
    "                    controls=[TrackballControls(controlling=camera)],\n",
    "                    background = 'white')\n",
    "renderer.width = '1024'\n",
    "renderer.height = '768'\n",
    "display(renderer)"
   ]
  },
  {
   "cell_type": "markdown",
   "metadata": {},
   "source": [
    "### Transformations"
   ]
  },
  {
   "cell_type": "markdown",
   "metadata": {},
   "source": [
    "#### Transformations"
   ]
  },
  {
   "cell_type": "code",
   "execution_count": 21,
   "metadata": {
    "collapsed": false
   },
   "outputs": [],
   "source": [
    "\n",
    "normal = vsr.Vec(1,1,1).unit()\n",
    "pao = vsr.Vec(1,0,0).null()\n",
    "pln1 = vsr.Dlp(normal,1.)\n",
    "pln2 = vsr.Dlp(normal,1.75)\n",
    "\n",
    "p1 = pao.reflect_in_plane(pln1)\n",
    "p2 = p1.reflect_in_plane(pln2)\n",
    "\n",
    "scene = Scene(children=[\n",
    "        frame_mesh(),\n",
    "        plane_mesh(pln1, color='hotpink', width=2., height=2.),\n",
    "        plane_mesh(pln2, color='hotpink', width=2., height=2.),\n",
    "        \n",
    "        point_mesh(pao, color='lightskyblue'),\n",
    "        point_mesh(p1, color='lightskyblue'),\n",
    "        point_mesh(p2, color='lightskyblue'),\n",
    "\n",
    "#         point_mesh(pao.spin(T)),\n",
    "        \n",
    "        AmbientLight(color='#cccccc')])\n",
    "\n",
    "camera = PerspectiveCamera(position=[3, -3, 3])\n",
    "renderer = Renderer(camera=camera, \n",
    "                    scene=scene, \n",
    "                    controls=[TrackballControls(controlling=camera)],\n",
    "                    background = 'white')\n",
    "# renderer.width = '1024'\n",
    "# renderer.height = '768'\n",
    "display(renderer)"
   ]
  },
  {
   "cell_type": "markdown",
   "metadata": {},
   "source": [
    "#### General Rotations"
   ]
  },
  {
   "cell_type": "code",
   "execution_count": 87,
   "metadata": {
    "collapsed": false
   },
   "outputs": [
    {
     "name": "stdout",
     "output_type": "stream",
     "text": [
      "Mot: [ 0.87 0 0 0.5 0 0.5 -0.5 0 ]\n"
     ]
    }
   ],
   "source": [
    "t = vsr.Vec(0,1,1)\n",
    "T = t.trs()\n",
    "R = vsr.Biv(0,0,-pi/6).exp()\n",
    "B = R.log().unit()\n",
    "G = T * R * T.rev()\n",
    "print(G)\n",
    "\n",
    "p = vsr.Vec(1,1,2).null()\n",
    "ptrsrev = p.spin(T.rev())\n",
    "prottrsrev = ptrsrev.spin(R)\n",
    "pfinal = prottrsrev.spin(T)\n",
    "\n",
    "line = G.log().unit()\n",
    "\n",
    "v1 = p.vec() - line.loc(p).vec() \n",
    "v2 = pfinal.vec() - line.loc(p).vec()\n",
    "\n",
    "scene = Scene(children=[\n",
    "        frame_mesh(),\n",
    "        vector_mesh(t,color='black', arrow=True),\n",
    "        point_mesh(p, color='yellow'),\n",
    "        point_mesh(ptrsrev, color='orange'),\n",
    "        point_mesh(prottrsrev, color='hotpink'),\n",
    "        point_mesh(p.spin(G), color='deepskyblue'),\n",
    "        line_mesh(line, length=100),\n",
    "        vector_mesh((t <= B), color='deepskyblue'),\n",
    "        \n",
    "        AmbientLight(color='#cccccc')])\n",
    "\n",
    "camera = PerspectiveCamera(position=[3, -3, 3])\n",
    "renderer = Renderer(camera=camera, \n",
    "                    scene=scene, \n",
    "                    controls=[TrackballControls(controlling=camera)],\n",
    "                    background = 'white')\n",
    "renderer.width = '1024'\n",
    "renderer.height = '768'\n",
    "display(renderer)"
   ]
  },
  {
   "cell_type": "markdown",
   "metadata": {},
   "source": [
    "####  Motor and Screws"
   ]
  },
  {
   "cell_type": "code",
   "execution_count": 96,
   "metadata": {
    "collapsed": false
   },
   "outputs": [
    {
     "name": "stdout",
     "output_type": "stream",
     "text": [
      "Mot: [ 0.87 0 0 0.5 0 0.5 -0.5 0 ]\n"
     ]
    }
   ],
   "source": [
    "t = vsr.Vec(0,1,1)\n",
    "T = t.trs()\n",
    "R = vsr.Biv(0,0,-pi/6).exp()\n",
    "B = R.log().unit()\n",
    "G = T * R * T.rev()\n",
    "print(G)\n",
    "\n",
    "p = vsr.Vec(1,1,2).null()\n",
    "ptrsrev = p.spin(T.rev())\n",
    "prottrsrev = ptrsrev.spin(R)\n",
    "ptrt = prottrsrev.spin(T)\n",
    "\n",
    "tpar = R.log().unit()\n",
    "Tpar = tpar.duale().trs()\n",
    "pfinal = ptrt.spin(Tpar)\n",
    "\n",
    "w = pfinal.vec() - ptrt.vec()\n",
    "\n",
    "line = G.log().unit()\n",
    "\n",
    "pc = line.loc(p).vec() \n",
    "v1 = p.vec() - pc \n",
    "v2 = ptrt.vec() - pc\n",
    "\n",
    "m1 = vsr.Vec(1,1,1).trs() * vsr.Biv(0,0,-pi/6).exp()\n",
    "m1log = m1.log().unit()\n",
    "m2 = Tpar*vsr.Rot(1,0,0,0) * G\n",
    "m2log = m2.log().unit()\n",
    "\n",
    "mi = m2log.ratio(m1log,0.2)\n",
    "\n",
    "\n",
    "scene = Scene(children=[\n",
    "        frame_mesh(),\n",
    "        vector_mesh(t,color='gray', arrow=True),\n",
    "        point_mesh(p, color='darkturquoise'),\n",
    "        point_mesh(ptrt, color='deepskyblue'),\n",
    "        point_mesh(pfinal, color='dodgerblue'),\n",
    "        vector_mesh(w, position=ptrt.vec(), color='gray', arrow=True),\n",
    "        bivector_mesh(B, color='lightpink'),\n",
    "        line_mesh(line, length=100),\n",
    "        \n",
    "        vector_mesh(v1, position=pc, color='gray'),\n",
    "        vector_mesh(v2, position=pc, color='gray'),\n",
    "        AmbientLight(color='#cccccc')])\n",
    "\n",
    "camera = PerspectiveCamera(position=[3, -3, 3])\n",
    "renderer = Renderer(camera=camera, \n",
    "                    scene=scene, \n",
    "                    controls=[TrackballControls(controlling=camera)],\n",
    "                    background = 'white')\n",
    "renderer.width = '1024'\n",
    "renderer.height = '768'\n",
    "display(renderer)"
   ]
  },
  {
   "cell_type": "code",
   "execution_count": 81,
   "metadata": {
    "collapsed": false
   },
   "outputs": [
    {
     "data": {
      "text/plain": [
       "Mot: [ 1 0 0 0 0 0.12 -0.087 0 ]"
      ]
     },
     "execution_count": 81,
     "metadata": {},
     "output_type": "execute_result"
    }
   ],
   "source": [
    "mi = m1log.ratio(m2log,0.2)\n",
    "mi"
   ]
  },
  {
   "cell_type": "code",
   "execution_count": 82,
   "metadata": {
    "collapsed": false
   },
   "outputs": [
    {
     "data": {
      "text/plain": [
       "Dls: [ 1 1.027 2.3 1 3.672 ]"
      ]
     },
     "execution_count": 82,
     "metadata": {},
     "output_type": "execute_result"
    }
   ],
   "source": [
    "vsr.Vec(0,0,0).null().spin(m1 * mi)"
   ]
  },
  {
   "cell_type": "code",
   "execution_count": 97,
   "metadata": {
    "collapsed": false
   },
   "outputs": [
    {
     "data": {
      "text/plain": [
       "Mot: [ 0.87 0 0 0.5 -0.43 0.5 -0.5 -0.25 ]"
      ]
     },
     "execution_count": 97,
     "metadata": {},
     "output_type": "execute_result"
    }
   ],
   "source": [
    "m2"
   ]
  },
  {
   "cell_type": "code",
   "execution_count": 98,
   "metadata": {
    "collapsed": false
   },
   "outputs": [
    {
     "data": {
      "text/plain": [
       "Mot: [ 0.87 -0 -0 -0.5 0.43 -0.5 0.5 -0.25 ]"
      ]
     },
     "execution_count": 98,
     "metadata": {},
     "output_type": "execute_result"
    }
   ],
   "source": [
    "m2.rev()"
   ]
  },
  {
   "cell_type": "code",
   "execution_count": 62,
   "metadata": {
    "collapsed": false
   },
   "outputs": [
    {
     "data": {
      "text/plain": [
       "Dll: [ 0 0 0 -0.5 -0.5 -1 ]"
      ]
     },
     "execution_count": 62,
     "metadata": {},
     "output_type": "execute_result"
    }
   ],
   "source": [
    "m1.log()"
   ]
  },
  {
   "cell_type": "code",
   "execution_count": 63,
   "metadata": {
    "collapsed": false
   },
   "outputs": [
    {
     "data": {
      "text/plain": [
       "Dll: [ 0 0 0.5236 -0.5 0.5236 -0.5236 ]"
      ]
     },
     "execution_count": 63,
     "metadata": {},
     "output_type": "execute_result"
    }
   ],
   "source": [
    "m2.log()"
   ]
  },
  {
   "cell_type": "code",
   "execution_count": 23,
   "metadata": {
    "collapsed": false
   },
   "outputs": [
    {
     "name": "stdout",
     "output_type": "stream",
     "text": [
      "Dls: [ 1.677 0.677 0.677 1 2.552 ]\n"
     ]
    }
   ],
   "source": [
    "print(pln2.loc(pao))"
   ]
  },
  {
   "cell_type": "code",
   "execution_count": 24,
   "metadata": {
    "collapsed": false
   },
   "outputs": [],
   "source": [
    "\n",
    "l1 = vsr.Dll(vsr.Vec(0,0,1), vsr.Vec(1,1,1)).unit()\n",
    "l = vsr.Dll(vsr.Vec(0,0.,1).null(), vsr.Vec(1,0,1).null()).unit()\n",
    "\n",
    "p1 = vsr.Vec(0,0,0).null().reflect_in_line(l1.inv())\n",
    "p2 = vsr.Vec(0,0,0).null().reflect_in_line(l1.inv()).reflect_in_line(l)\n",
    "\n",
    "mot = l.ratio(l1,1.0)\n",
    "pao = vsr.Vec(0,0,0).null()\n",
    "\n",
    "scene = Scene(children=[\n",
    "        frame_mesh(),\n",
    "\n",
    "        point_mesh(p1, color='magenta'),\n",
    "        point_mesh(p2, color='cyan'),\n",
    "        line_mesh(l1, color='red', length=100),\n",
    "\n",
    "        line_mesh(l1.inv(), color='magenta', length=100),\n",
    "        line_mesh(l, color='cyan', length=100),\n",
    "#         line_mesh( color='cyan', length=100),\n",
    "        Line(geometry=PlainGeometry(vertices=[[0,0,0], np.array(p1.vec()).tolist()],\n",
    "                                   colors = ['magenta', 'magenta']), \n",
    "            material=LineBasicMaterial(linewidth=1,\n",
    "                                       vertexColors='VertexColors'), \n",
    "            type='LinePieces'),\n",
    "        Line(geometry=PlainGeometry(vertices=[np.array(p1.vec()).tolist(), np.array(p2.vec()).tolist()],\n",
    "                                   colors = ['cyan', 'cyan']), \n",
    "            material=LineBasicMaterial(linewidth=1,\n",
    "                                       vertexColors='VertexColors'), \n",
    "            type='LinePieces'),\n",
    "        \n",
    "        point_mesh(pao.spin(mot), color='hotpink'),\n",
    "        line_mesh(l.spin(mot)),\n",
    "        \n",
    "        AmbientLight(color='#cccccc')])\n",
    "\n",
    "camera = PerspectiveCamera(position=[3, -3, 3])\n",
    "renderer = Renderer(camera=camera, \n",
    "                    scene=scene, \n",
    "                    controls=[TrackballControls(controlling=camera)],\n",
    "                    background = 'white')\n",
    "# renderer.width = '1024'\n",
    "# renderer.height = '768'\n",
    "display(renderer)"
   ]
  },
  {
   "cell_type": "code",
   "execution_count": 25,
   "metadata": {
    "collapsed": false
   },
   "outputs": [
    {
     "name": "stdout",
     "output_type": "stream",
     "text": [
      "Pnt: [ -0.6667 0.6667 0.6667 1 0.6667 ]\n"
     ]
    }
   ],
   "source": [
    "print(p2)"
   ]
  },
  {
   "cell_type": "code",
   "execution_count": 26,
   "metadata": {
    "collapsed": false
   },
   "outputs": [
    {
     "name": "stdout",
     "output_type": "stream",
     "text": [
      "Pnt: [ -0.6667 0.6667 0.6667 1 0.6667 ]\n"
     ]
    }
   ],
   "source": [
    "print(p2)"
   ]
  },
  {
   "cell_type": "code",
   "execution_count": 27,
   "metadata": {
    "collapsed": false
   },
   "outputs": [
    {
     "name": "stdout",
     "output_type": "stream",
     "text": [
      "Mot: [ 0.89 0.33 0.33 0 0.33 0 0 0 ]\n"
     ]
    }
   ],
   "source": [
    "M = ((l * l1.inv()).log() / 2.).exp()\n",
    "print(M)"
   ]
  },
  {
   "cell_type": "code",
   "execution_count": 28,
   "metadata": {
    "collapsed": false
   },
   "outputs": [
    {
     "name": "stdout",
     "output_type": "stream",
     "text": [
      "Pnt: [ -0.6667 0.6667 0.6667 1 0.6667 ]\n"
     ]
    }
   ],
   "source": [
    "print(vsr.Vec(0,0,0).null().spin(l * l1.inv()))"
   ]
  },
  {
   "cell_type": "code",
   "execution_count": 29,
   "metadata": {
    "collapsed": false
   },
   "outputs": [
    {
     "name": "stdout",
     "output_type": "stream",
     "text": [
      "Pnt: [ -0.6667 0.6667 0.6667 1 0.6667 ]\n"
     ]
    }
   ],
   "source": [
    "print(vsr.Vec(0,0,0).null().reflect_in_line(l1.inv()).reflect_in_line(l))"
   ]
  },
  {
   "cell_type": "markdown",
   "metadata": {},
   "source": [
    "### Lines"
   ]
  },
  {
   "cell_type": "code",
   "execution_count": 36,
   "metadata": {
    "collapsed": false
   },
   "outputs": [
    {
     "name": "stdout",
     "output_type": "stream",
     "text": [
      "Dll: [ 0.7071 0 0 0 -0.7071 0.7071 ]\n",
      "Vec: [ 0 0 1 ]\n"
     ]
    }
   ],
   "source": [
    "p1 = vsr.Vec(1,0,1).null()\n",
    "p2 = vsr.Vec(2,1,1).null()\n",
    "\n",
    "l1 = vsr.Dll(vsr.Vec(0,0,0), vsr.Vec(1,0,0)).unit()\n",
    "# l = vsr.Dll(vsr.Vec(0,0.,1).null(), vsr.Vec(1,0,1).null()).unit()\n",
    "\n",
    "l = vsr.Dll(p1,p2).unit()\n",
    "l_dir = l.dir().vec().unit()\n",
    "l_loc = l.loc(vsr.Vec(0,0,0).null()).vec()\n",
    "\n",
    "l2 = l - l1\n",
    "l3 = l.comm(l1)\n",
    "print(l3)\n",
    "\n",
    "m1 = l1.ratio(l,0.1)\n",
    "# print(l)\n",
    "# print(l1.spin(m1))\n",
    "# ms = [m1]\n",
    "# for i in range(9):\n",
    "#     m1 = m1 * m1\n",
    "#     ms.append(m1)\n",
    "    \n",
    "# print(ms)\n",
    "    \n",
    "\n",
    "# line_meshes = [line_mesh(l) for ] \n",
    "\n",
    "m = ((l * l1.inv()).log() * 0.5 ).exp()\n",
    "w = m.trs().reject_from(m.rot().log().unit())\n",
    "v = m.trs().project_onto(m.rot().log().unit())\n",
    "print(w)\n",
    "\n",
    "d = l_loc <= l_dir.unduale()\n",
    "\n",
    "scene = Scene(children=[\n",
    "        frame_mesh(),\n",
    "#         line_mesh(l1.spin(m1)),\n",
    "#         line_mesh(l1.spin(m1 * m1)),\n",
    "#         line_mesh(l1.spin(m1 * m1 * m1)),\n",
    "#         line_mesh(l1.spin(m1 * m1 * m1 * m1)),\n",
    "#         line_mesh(l1.spin(m1 * m1 * m1 * m1 * m1)),\n",
    "#         line_mesh(l1.spin(m1 * m1 * m1 * m1 * m1)),\n",
    "#         line_mesh(l1.spin(m1 * m1 * m1 * m1 * m1 * m1 )),\n",
    "#         line_mesh(l1.spin(m1 * m1 * m1 * m1 * m1 * m1 * m1)),\n",
    "#         line_mesh(l1.spin(m1 * m1 * m1 * m1 * m1 * m1 * m1 * m1)),\n",
    "#         line_mesh(l1.spin(m1 * m1 * m1 * m1 * m1 * m1 * m1 * m1 * m1)),\n",
    "#         line_mesh(l1.spin(m1 * m1 * m1 * m1 * m1 * m1 * m1 * m1 * m1 * m1)),\n",
    "        \n",
    "#         point_mesh(vsr.Vec(0,0,1), color='blue'),\n",
    "#         point_mesh(vsr.Vec(1,0,1), color='red'),\n",
    "        line_mesh(l, color='steelblue', length=100),\n",
    "        line_mesh(l1, color='slategray', length=100),\n",
    "#         point_mesh(l_loc, color=rgb2hex(255,56,0)),\n",
    "#         point_mesh(vsr.Vec(0,0,0),color='#ffff00'),\n",
    "#         point_mesh(p1,color='#ff00ff'),\n",
    "#         vector_mesh(w, position=v),\n",
    "#         vector_mesh(v),\n",
    "        \n",
    "        # l2 = l - l1\n",
    "#         line_mesh(l2, color='hotpink', length=100),\n",
    "        \n",
    "        # l3 = l x l2 commutator\n",
    "        line_mesh(l3, color='lightgreen', length=100),\n",
    "\n",
    "\n",
    "#         vector_mesh(p1.vec(),color='#ff00ff'),\n",
    "#         vector_mesh(l_dir,positil = l1.trs(vsr.Vec(0,0,1))on=p1,color='#ff00ff', arrow=True),\n",
    "\n",
    "\n",
    "        \n",
    "        AmbientLight(color='#cccccc')])\n",
    "\n",
    "camera = PerspectiveCamera(position=[3, -3, 3])\n",
    "renderer = Renderer(camera=camera, \n",
    "                    scene=scene, \n",
    "                    controls=[TrackballControls(controlling=camera)],\n",
    "                    background = 'white')\n",
    "renderer.width = '1024'\n",
    "renderer.height = '768'\n",
    "display(renderer)"
   ]
  },
  {
   "cell_type": "code",
   "execution_count": 31,
   "metadata": {
    "collapsed": false
   },
   "outputs": [
    {
     "name": "stdout",
     "output_type": "stream",
     "text": [
      "Dll: [ 0.7071 0 0 0 -0.7071 0.7071 ]\n"
     ]
    }
   ],
   "source": [
    "print(l3)"
   ]
  },
  {
   "cell_type": "code",
   "execution_count": 32,
   "metadata": {
    "collapsed": false
   },
   "outputs": [
    {
     "name": "stdout",
     "output_type": "stream",
     "text": [
      "Dll: [ 0 -0.7071 0.7071 -0.7071 0.7071 0.7071 ]\n",
      "Dll: [ 0 0 1 0 0 0 ]\n",
      "Dll: [ 0 -0.7071 -0.2929 -0.7071 0.7071 0.7071 ]\n"
     ]
    }
   ],
   "source": [
    "print(l)\n",
    "print(l1)\n",
    "print(l2)"
   ]
  },
  {
   "cell_type": "code",
   "execution_count": 33,
   "metadata": {
    "collapsed": false
   },
   "outputs": [
    {
     "name": "stdout",
     "output_type": "stream",
     "text": [
      "Mot: [ 0.92 -0.38 0 0 -5.2e-18 0.38 -0.46 0.19 ]\n"
     ]
    }
   ],
   "source": [
    "print(m1 * m1 * m1 * m1 * m1 * m1 * m1 * m1 * m1 * m1)"
   ]
  },
  {
   "cell_type": "code",
   "execution_count": 34,
   "metadata": {
    "collapsed": false
   },
   "outputs": [],
   "source": [
    "l1 = vsr.Dll(vsr.Vec(0,0,0), vsr.Vec(1,0,0)).unit()\n",
    "l2 = vsr.Dll(vsr.Vec(0,-1,1), vsr.Vec(1,-1,1)).unit()\n",
    "pao = vsr.Vec(0,0,0).null()\n",
    "\n",
    "l3 = l2 - l1\n",
    "l4 = l2.comm(l1)\n",
    "\n",
    "scene = Scene(children=[\n",
    "        frame_mesh(),\n",
    "        line_mesh(l1, color='#ffff00'),\n",
    "        point_mesh(pao),\n",
    "        vector_mesh(pao.vec()),\n",
    "        \n",
    "        line_mesh(l2, color='#ffff00'),\n",
    "        \n",
    "        line_mesh(l3, color='powderblue'), \n",
    "        line_mesh(l4, color='deeppink'),\n",
    "\n",
    "        vector_mesh(l_dir, position=l_loc, color=rgb2hex(255,0,123), arrow=True),\n",
    "        bivector_mesh((l_loc ^ l_dir), color = 'salmon'),\n",
    "\n",
    "        \n",
    "        AmbientLight(color='#cccccc')])\n",
    "\n",
    "camera = PerspectiveCamera(position=[3, -3, 3])\n",
    "renderer = Renderer(camera=camera, \n",
    "                    scene=scene, \n",
    "                    controls=[TrackballControls(controlling=camera)],\n",
    "                    background = 'gray')\n",
    "# renderer.width = '1024'\n",
    "# renderer.height = '768'\n",
    "display(renderer)"
   ]
  },
  {
   "cell_type": "code",
   "execution_count": 35,
   "metadata": {
    "collapsed": false
   },
   "outputs": [
    {
     "name": "stdout",
     "output_type": "stream",
     "text": [
      "Dll: [ 0 0 1 0 0 0 ]\n",
      "Dll: [ 0.5774 0.5774 0.5774 0 0.5774 0.5774 ]\n",
      "Dll: [ 0.5774 0.5774 -0.4226 0 0.5774 0.5774 ]\n",
      "Dll: [ -0.5774 0.5774 0 0 -0.5774 0.5774 ]\n"
     ]
    }
   ],
   "source": [
    "print(l1)\n",
    "print(l2)\n",
    "print(l3)\n",
    "print(l4)"
   ]
  },
  {
   "cell_type": "code",
   "execution_count": 36,
   "metadata": {
    "collapsed": false
   },
   "outputs": [
    {
     "name": "stdout",
     "output_type": "stream",
     "text": [
      "Mot: [ 0.87 0 -0.5 0 -0.68 -0.43 -0.18 -0.25 ]\n",
      "Vec: [ 1 1 1 ]\n",
      "Rot: [ 0.87 0 -0.5 0 ]\n"
     ]
    }
   ],
   "source": [
    "motor = vsr.Vec(1,1,1).trs() * vsr.Rot(vsr.Biv(0,1,0) * np.pi/6.0)\n",
    "print(motor)\n",
    "print(motor.trs())\n",
    "print(motor.rot())"
   ]
  },
  {
   "cell_type": "code",
   "execution_count": 37,
   "metadata": {
    "collapsed": false
   },
   "outputs": [],
   "source": [
    "make_text?"
   ]
  },
  {
   "cell_type": "code",
   "execution_count": 38,
   "metadata": {
    "collapsed": false
   },
   "outputs": [],
   "source": [
    "@interact(x=10,y=10,z=10)\n",
    "def position_camera(x,y,z):\n",
    "    camera.position = [x,y,z]"
   ]
  },
  {
   "cell_type": "code",
   "execution_count": 39,
   "metadata": {
    "collapsed": false
   },
   "outputs": [],
   "source": [
    "class Sphere(object):\n",
    "    def __init__(self):\n",
    "        pass\n",
    "    def update(vsr_sph):\n",
    "        r, p, q = vsr_sph.rpo()\n",
    "        \n",
    "def make_sphere():\n",
    "    return Mesh(geometry = SphereGeometry(),\n",
    "                material= BasicMaterial(color='red'))\n",
    "\n",
    "def make_circle():\n",
    "    return Mesh(geometry = RingGeometry(thetaSegments=64), \n",
    "              material= BasicMaterial(color='black'))\n",
    "\n",
    "class Game(object):\n",
    "    class Circle(vsr.Cir, Mesh):\n",
    "        def __init__(self):\n",
    "            self._color = 'black'\n",
    "            super(Mesh, self).__init__(geometry = RingGeometry(thetaSegments=64), \n",
    "                          material= BasicMaterial(color=self._color))\n",
    "            \n",
    "        @property\n",
    "        def mesh(self):\n",
    "            return self._mesh\n",
    "        \n",
    "        def update_mesh(self):\n",
    "            (r, p, q) = self.rpo()\n",
    "            self.geometry.innerRadius = r\n",
    "            self.geometry.outerRadius = r + 0.1\n",
    "            self.position = p\n",
    "            self.quaternion = q\n",
    "        "
   ]
  },
  {
   "cell_type": "markdown",
   "metadata": {},
   "source": [
    "## Rotation"
   ]
  },
  {
   "cell_type": "code",
   "execution_count": 40,
   "metadata": {
    "collapsed": false
   },
   "outputs": [
    {
     "ename": "AttributeError",
     "evalue": "'Vec' object has no attribute 'reflect'",
     "output_type": "error",
     "traceback": [
      "\u001b[1;31m---------------------------------------------------------------------------\u001b[0m",
      "\u001b[1;31mAttributeError\u001b[0m                            Traceback (most recent call last)",
      "\u001b[1;32m<ipython-input-40-e7c73f6cac12>\u001b[0m in \u001b[0;36m<module>\u001b[1;34m()\u001b[0m\n\u001b[0;32m      9\u001b[0m \u001b[1;33m\u001b[0m\u001b[0m\n\u001b[0;32m     10\u001b[0m \u001b[0ma\u001b[0m \u001b[1;33m=\u001b[0m \u001b[0mvsr\u001b[0m\u001b[1;33m.\u001b[0m\u001b[0mVec\u001b[0m\u001b[1;33m(\u001b[0m\u001b[1;36m1\u001b[0m\u001b[1;33m,\u001b[0m\u001b[1;36m0\u001b[0m\u001b[1;33m,\u001b[0m\u001b[1;36m1\u001b[0m\u001b[1;33m)\u001b[0m\u001b[1;33m\u001b[0m\u001b[0m\n\u001b[1;32m---> 11\u001b[1;33m \u001b[0ma_rot\u001b[0m \u001b[1;33m=\u001b[0m \u001b[0ma\u001b[0m\u001b[1;33m.\u001b[0m\u001b[0mreflect\u001b[0m\u001b[1;33m(\u001b[0m\u001b[0mn2\u001b[0m\u001b[1;33m)\u001b[0m\u001b[1;33m.\u001b[0m\u001b[0mreflect\u001b[0m\u001b[1;33m(\u001b[0m\u001b[0mn1\u001b[0m\u001b[1;33m)\u001b[0m\u001b[1;33m\u001b[0m\u001b[0m\n\u001b[0m\u001b[0;32m     12\u001b[0m \u001b[1;32mprint\u001b[0m\u001b[1;33m(\u001b[0m\u001b[0ma_rot\u001b[0m\u001b[1;33m)\u001b[0m\u001b[1;33m\u001b[0m\u001b[0m\n\u001b[0;32m     13\u001b[0m \u001b[1;32mprint\u001b[0m\u001b[1;33m(\u001b[0m\u001b[0ma\u001b[0m\u001b[1;33m.\u001b[0m\u001b[0mspin\u001b[0m\u001b[1;33m(\u001b[0m\u001b[0mR\u001b[0m\u001b[1;33m)\u001b[0m\u001b[1;33m)\u001b[0m\u001b[1;33m\u001b[0m\u001b[0m\n",
      "\u001b[1;31mAttributeError\u001b[0m: 'Vec' object has no attribute 'reflect'"
     ]
    }
   ],
   "source": [
    "\n",
    "n1 = vsr.Vec(0,1,0).unit()\n",
    "# n2 = vsr.Vec(-1,1,0).unit()\n",
    "n2 = n1.spin(vsr.Biv(-np.deg2rad(30),0,0).exp())\n",
    "\n",
    "B = n1 ^ n2\n",
    "\n",
    "R = n1 * n2\n",
    "\n",
    "a = vsr.Vec(1,0,1)\n",
    "a_rot = a.reflect(n2).reflect(n1)\n",
    "print(a_rot)\n",
    "print(a.spin(R))\n",
    "\n",
    "\n",
    "scene = Scene(children=[\n",
    "        frame_mesh(),\n",
    "        vector_mesh(n1,color='yellow'),\n",
    "        vector_mesh(n2,color='cyan'),\n",
    "        vector_mesh(a, color='hotpink'),\n",
    "        vector_mesh(a.reflect(n2)),\n",
    "        vector_mesh(a_rot, color='black'),\n",
    "#         bivector_mesh(n1.unduale(),color='yellow'),\n",
    "#         bivector_mesh(n2.unduale(),color='cyan'),\n",
    "        bivector_mesh(B,color='gray'),\n",
    "        AmbientLight(color='#cccccc')])\n",
    "\n",
    "camera = PerspectiveCamera(position=[3, -3, 3])\n",
    "renderer = Renderer(camera=camera, \n",
    "                    scene=scene, \n",
    "                    controls=[TrackballControls(controlling=camera)],\n",
    "                    background = 'white')\n",
    "# renderer.width = '1024'\n",
    "# renderer.height = '768'\n",
    "display(renderer)"
   ]
  },
  {
   "cell_type": "code",
   "execution_count": null,
   "metadata": {
    "collapsed": false
   },
   "outputs": [],
   "source": [
    "vsr.Vec(1,0,0).spin(R)"
   ]
  },
  {
   "cell_type": "code",
   "execution_count": null,
   "metadata": {
    "collapsed": false
   },
   "outputs": [],
   "source": [
    "2 * np.rad2deg(np.arccos(R[0]))"
   ]
  },
  {
   "cell_type": "code",
   "execution_count": null,
   "metadata": {
    "collapsed": false
   },
   "outputs": [],
   "source": [
    "sph1 = vsr.Sph(vsr.Vec(0.7,0,0).null(), 1.5)\n",
    "sph2 = vsr.Sph(vsr.Vec(-0.5,0,0).null(), 1.)\n",
    "cir = sph1.meet(sph2)\n",
    "r = cir.rot()\n",
    "\n",
    "sphere1 = Mesh(geometry = SphereGeometry(radius=sph1.radius(),\n",
    "                                        widthSegments=64,\n",
    "                                        heightSegments=64), \n",
    "              material= BasicMaterial(color='red'),\n",
    "              position=np.array(sph1.pnt())[:3].tolist())\n",
    "\n",
    "sphere2 = Mesh(geometry = SphereGeometry(radius=sph2.radius(),\n",
    "                                        widthSegments=64,\n",
    "                                        heightSegments=64), \n",
    "              material= BasicMaterial(color='blue', wireframe=False),\n",
    "              position=np.array(sph2.pnt())[:3].tolist())\n",
    "\n",
    "circle = Mesh(geometry = RingGeometry(innerRadius=cir.radius(),\n",
    "                                                outerRadius=cir.radius()+0.05,\n",
    "                                                thetaSegments=64), \n",
    "              material= BasicMaterial(color='black'),\n",
    "              position=np.array(cir.pnt())[:3].tolist(),\n",
    "              quaternion = cir.rot().quat().tolist())\n",
    "\n",
    "\n",
    "\n",
    "scene = Scene(children=[sphere1, sphere2, circle])\n",
    "c = PerspectiveCamera(position=[10, 5, 10])\n",
    "renderer = Renderer(camera=c, scene = scene, controls=[TrackballControls(controlling=c)],\n",
    "                    background = 'white')\n",
    "display(renderer)\n",
    "@interact(circlecolor=('hotpink', 'gray', 'black'),\n",
    "         sphere1color=('hotpink', 'gray', 'black'),\n",
    "         sphere2color=('hotpink', 'gray', 'black'))\n",
    "def set_radius(circlecolor, sphere1color, sphere2color):\n",
    "    sphere1.material.color = sphere1color\n",
    "    sphere2.material.color = sphere2color\n",
    "    circle.material.color = circlecolor"
   ]
  },
  {
   "cell_type": "code",
   "execution_count": null,
   "metadata": {
    "collapsed": false
   },
   "outputs": [],
   "source": [
    "%%javascript\n",
    "console.log('hallo')\n",
    "Jupyter.notebook.get_selected_cell()"
   ]
  },
  {
   "cell_type": "code",
   "execution_count": null,
   "metadata": {
    "collapsed": false
   },
   "outputs": [],
   "source": [
    "cir = vsr.Sph(vsr.Vec(0,0,0).null(), 3).meet(vsr.Sph(vsr.Vec(1,0,0).null(), 3))\n",
    "print(cir.rpo())\n",
    "radius, position, quat = cir.rpo()"
   ]
  },
  {
   "cell_type": "code",
   "execution_count": null,
   "metadata": {
    "collapsed": true
   },
   "outputs": [],
   "source": []
  },
  {
   "cell_type": "code",
   "execution_count": null,
   "metadata": {
    "collapsed": true
   },
   "outputs": [],
   "source": []
  }
 ],
 "metadata": {
  "kernelspec": {
   "display_name": "Python 2",
   "language": "python",
   "name": "python2"
  },
  "language_info": {
   "codemirror_mode": {
    "name": "ipython",
    "version": 2
   },
   "file_extension": ".py",
   "mimetype": "text/x-python",
   "name": "python",
   "nbconvert_exporter": "python",
   "pygments_lexer": "ipython2",
   "version": "2.7.11+"
  },
  "widgets": {
   "state": {
    "00418627acf14f5d868eee03f2760e9c": {
     "views": []
    },
    "0055f4c8751d48a48d9d98c517e660fb": {
     "views": []
    },
    "005e0abd5e4b4e8fb956cf720f70eb81": {
     "views": []
    },
    "0079c23347044d5998e73da30ee60058": {
     "views": []
    },
    "0096b36284374aecab1bcf65feb8b262": {
     "views": []
    },
    "00c5eef56043459abe8a5d7d84476777": {
     "views": []
    },
    "00e24c7cfdda42c688c64cf530b706af": {
     "views": []
    },
    "00ec573e6f2d4030abdc12e1ede90b8c": {
     "views": []
    },
    "01058d37530147529d98b24c79dc1951": {
     "views": []
    },
    "010a39b7387340aba6c4286e6885ec72": {
     "views": []
    },
    "01126f12fed14c76a44e6ab4428a0b00": {
     "views": []
    },
    "01394182afe34c1dafa47711f4418105": {
     "views": []
    },
    "014fd9f974b1463ab4dce2058f0c15cc": {
     "views": []
    },
    "01622319de34482480171693165089cc": {
     "views": []
    },
    "017488b2a9aa42d6b70561e3338ebd33": {
     "views": []
    },
    "01f06711863e4adfa3b578bcc54d865e": {
     "views": []
    },
    "023c4643940b40968c66f435987f17c4": {
     "views": []
    },
    "023c69bafd88483cbc30f7203be93c2d": {
     "views": []
    },
    "025ad78ba6954ac1a2ebcf37ed72f84a": {
     "views": []
    },
    "026f36cf7cb74e21a54b4b8b619bbc3f": {
     "views": []
    },
    "028c49675fd74413a143e1d9a4f9a690": {
     "views": []
    },
    "028c9d2d501243b6b9e885f0dd548b89": {
     "views": []
    },
    "02dc9c4ac60c421cbc533afbe59a8013": {
     "views": []
    },
    "03064ceb6f27484292f25bc9aab90c1b": {
     "views": []
    },
    "030bd2b4e2814568ae9ee9cf3eca1010": {
     "views": []
    },
    "030cd6baff38493d9b594522a96cfbd3": {
     "views": []
    },
    "03348786be45477e856cfa85e5a77439": {
     "views": []
    },
    "034a53f765734bf4a066df8d1ca462fc": {
     "views": []
    },
    "039923e078004ab2a4522c4ea40e19de": {
     "views": []
    },
    "03a68cb1e27e42328ec94d77f7885899": {
     "views": []
    },
    "03c0af31cd134ff1910aac2924c00893": {
     "views": []
    },
    "03d9ba4375eb42328d43cad9ff91d963": {
     "views": []
    },
    "03ef1f697c9a41258ab2339a9fa29278": {
     "views": []
    },
    "0420660eac0c41ffb5f8252882dd38f7": {
     "views": []
    },
    "046e91d811bb495f9c06af25f2bda007": {
     "views": []
    },
    "0485149d25ed4553a5ecdfcdeef405cc": {
     "views": []
    },
    "0494e0cb76de42b5a962343406246450": {
     "views": []
    },
    "049dacbabd984fd6a62bbf43da4de1a0": {
     "views": []
    },
    "049dd6b7c73d41048ba6e46080cecea3": {
     "views": []
    },
    "04a9be77384c45ffbc95ae3aa4ba0188": {
     "views": []
    },
    "04db9e0df1d44206b5da814d7315c50e": {
     "views": []
    },
    "051e638635714f7c94fc7b174f20d254": {
     "views": []
    },
    "0523085e568940cf8ae315301ffca445": {
     "views": []
    },
    "0530a5f9e58a4836b44ae26e4c09b6e9": {
     "views": []
    },
    "05b81583472b458d9dcb3b3634736861": {
     "views": []
    },
    "05c201c4c86e4f2f9d1398072a234a23": {
     "views": []
    },
    "05e59525877f4731a98788e63c5a1f83": {
     "views": []
    },
    "05e64e037c0f4d6085ef069c47ad1f49": {
     "views": []
    },
    "06141346fcd54354a9dd623a69b09c6b": {
     "views": []
    },
    "0619ab66afbd4ca9ba121f47b01275ab": {
     "views": []
    },
    "064f35b586624863b0e1d3cefdd1a8d1": {
     "views": []
    },
    "06522865e0b74f9bb6d009752270701e": {
     "views": []
    },
    "06751cf05d384e6a868a534a2a5e9113": {
     "views": []
    },
    "069f4b2f36f44956a4ad8f4cf8f5617d": {
     "views": []
    },
    "06b6d1b0cde1429db90390deaf39ee76": {
     "views": []
    },
    "06c9741de6d845ba84121e9d381b1009": {
     "views": []
    },
    "06fc51d6bf7348679752935ba404301b": {
     "views": []
    },
    "06fe125a62f644fd94811f69de0efadd": {
     "views": []
    },
    "070dbe46bde9430aa7a9002557314a17": {
     "views": []
    },
    "076255d3434341d89f682e277c4ebaea": {
     "views": []
    },
    "079fda86a7a94fe2bebbaf30cb69a5ca": {
     "views": []
    },
    "07a32869e6b54a39befd418119c07e04": {
     "views": []
    },
    "07a62e29ed8d4c3b820ac68859875d85": {
     "views": []
    },
    "07abea6a573f41ebbdf12ad1080cd982": {
     "views": []
    },
    "07bada593ed44a3a8ac1d78b5264b88d": {
     "views": []
    },
    "07bbed0bd28b404f87793f0c891c89b5": {
     "views": []
    },
    "07f8f26e17bd4fad9049671de1e51b6c": {
     "views": []
    },
    "080ac2fe2a964fdda45b766bdc318521": {
     "views": []
    },
    "0819e37fb0bc488b843ec4bffe615364": {
     "views": []
    },
    "0831ef533754476d843213d35728561f": {
     "views": []
    },
    "093c7200ac2944f38ce2308893ff90ac": {
     "views": []
    },
    "0941eb0a3cce4c72a4e59d8fd1e39c1a": {
     "views": []
    },
    "097799f085ea48cb89c6cdd315af6e38": {
     "views": []
    },
    "0977a224d63d4f01af85acb607466fec": {
     "views": []
    },
    "09828ad369ca4099bf9606e6d1ca313f": {
     "views": []
    },
    "09ab53dddce24478939fde811261ecf9": {
     "views": []
    },
    "09b1aa62a32a4e65b573a869d6ea35f9": {
     "views": []
    },
    "09c6f0ba54f248169dba568442837e48": {
     "views": []
    },
    "0a65cad6b2554ded8917de0fa3051d24": {
     "views": []
    },
    "0aaf62239ab248bca6bf9c596ce2236c": {
     "views": []
    },
    "0acc38145b884e67a31ddd1fa2b9130a": {
     "views": []
    },
    "0afb651a28f04905b36cfc80713081fb": {
     "views": []
    },
    "0afbf73fad00459799461c984ba70cc3": {
     "views": []
    },
    "0afdba6ac5ba4a78a160f3b083c1db6a": {
     "views": []
    },
    "0b17a7b4b686404aa0cb5f321bf495f9": {
     "views": []
    },
    "0b19ab3d850d4bf3beeb20d670ad1ea4": {
     "views": []
    },
    "0b302d5708f2443392a131605a9e9867": {
     "views": []
    },
    "0b42b53d619f4788bca9388266b1751e": {
     "views": []
    },
    "0bb3965fcea241bb86331bbedba26b85": {
     "views": []
    },
    "0bc6755a61464ff5908d457fdf28b6be": {
     "views": []
    },
    "0c44795da65d49eeadf9eb8a8869b0cf": {
     "views": []
    },
    "0c4bcb93a9cf49adbdc4f51eed4d4068": {
     "views": []
    },
    "0c505709dbbc4108b66fca79d6b08fc4": {
     "views": []
    },
    "0c80af7b351a415db459b82e19b9d4fb": {
     "views": []
    },
    "0c9002212b0341c58cc59432904937b6": {
     "views": []
    },
    "0ca2ebdea9e94ac4af557453e224870f": {
     "views": []
    },
    "0ca587372b294743b93c1e76bd0aea52": {
     "views": []
    },
    "0cca3ff536174e8c806aeb575ae4c97d": {
     "views": []
    },
    "0cff751a4466425c9e22d52eadd9ba9d": {
     "views": []
    },
    "0d1e978a8a3d4d90847dc83d8083cb7c": {
     "views": []
    },
    "0d77817585fb4c2a920ebd32e2121748": {
     "views": []
    },
    "0d8a3af7b2784430b515a34b5fd5f269": {
     "views": []
    },
    "0db06030f1f743dc912e7133731f1c49": {
     "views": []
    },
    "0dc6e35d8b86416682a42ed86ced3866": {
     "views": []
    },
    "0dc8fe8aa05f46c8b0506cf31fc0cb52": {
     "views": []
    },
    "0e07ef4fbd874acba343e0fa4c261265": {
     "views": []
    },
    "0e08377ed4f14b408d36be6bbe2090ec": {
     "views": []
    },
    "0e944e89190b4713a16001352942ffb4": {
     "views": []
    },
    "0ed8f5da2572465f86182d0e147ac18b": {
     "views": []
    },
    "0edf6f36afd24d6480b45ad89c1ad158": {
     "views": []
    },
    "0eeb87e598e4416ab1b088bb0c7c8bb9": {
     "views": []
    },
    "0f2263c8d5d34e1dafad7230a26a296f": {
     "views": []
    },
    "0f372beef826428fb50a7fced2c0e145": {
     "views": []
    },
    "0f48ea6670e84dce8ed7a71efbd4ec87": {
     "views": []
    },
    "0f5dbcfc56864f14bb5cc865463fdd40": {
     "views": []
    },
    "0f7632b7eb0747ccb7f00cf63ae6e615": {
     "views": []
    },
    "0f7d3611cf184bcc8229870b0316b647": {
     "views": []
    },
    "0f854dcab5d042b8b365fdaa797a37af": {
     "views": []
    },
    "0f8cc42a270644099c4e2a55023f0835": {
     "views": []
    },
    "0fa567cc515143e2a1d56212cbad8696": {
     "views": []
    },
    "0fb3b6389a5f42f1903fdc66b8333e4a": {
     "views": []
    },
    "0fc372acb55b40debfd02827d806eb71": {
     "views": []
    },
    "0fe35eed4938461e9bec86abbd56aa59": {
     "views": []
    },
    "0febb6efde7141efb7e0e50710704683": {
     "views": []
    },
    "1065ebe144d6404f85e706398fde27e3": {
     "views": []
    },
    "1067c0f2992c4a32abd1fc0417143b34": {
     "views": []
    },
    "1081196828d84477a488480331736398": {
     "views": []
    },
    "10adb9f424494bc3975e2943ae6f1d64": {
     "views": []
    },
    "10ce378a7edf44daaa8afafdbda190c3": {
     "views": []
    },
    "10fd94548b994ad497fbcc59299994b9": {
     "views": []
    },
    "110761b00f70440ea15d35d6b1714bce": {
     "views": []
    },
    "1139c4c2cb964bafb93aac7426129e3b": {
     "views": []
    },
    "1185119c3f384230ba08735d2433be4b": {
     "views": []
    },
    "1197c9221cb3496ea90709155485a771": {
     "views": []
    },
    "11d79027e97a438095212bfc20426ece": {
     "views": []
    },
    "1254dd9ee7ef46f1a42976e50cb11b57": {
     "views": []
    },
    "1257aebf869941369343629affac648d": {
     "views": []
    },
    "127f46e462974de783d0d38a4ea0bfe5": {
     "views": []
    },
    "128cb4cd1ccc4519952af383aadb0ac0": {
     "views": []
    },
    "12a0ace0ff364875b8314e911a2df8ff": {
     "views": []
    },
    "12c480bfc8af41b2a61d88d745883b13": {
     "views": []
    },
    "12ca917210f74434a0ff3e942741263e": {
     "views": []
    },
    "13749efad0aa4ae3b185110ea8c72eb1": {
     "views": []
    },
    "14192ebb11a844dd8f7e14749d7fb171": {
     "views": []
    },
    "14783051fac749f5a28de4da6d8aa4e8": {
     "views": []
    },
    "148b3c2c0fb44430b1db235674a5cf97": {
     "views": []
    },
    "14911459306a41f0a214dd02c1e7b469": {
     "views": []
    },
    "14ba1b0feb984e1eab3395381dfa49b5": {
     "views": []
    },
    "14f4c297d74b4bcba02475527c19aea2": {
     "views": []
    },
    "1514cdc0b1284197bb391310331fadc3": {
     "views": []
    },
    "151c0cd906a343cda95f7f5771d654e4": {
     "views": []
    },
    "1560159c3f9d47818e6d98ff9f492f1b": {
     "views": []
    },
    "1560bdcb195c4fd2886af716bbaba6e5": {
     "views": []
    },
    "158ad75c985c486b8859c8aa0ce74c1a": {
     "views": []
    },
    "15ae1d2373724569a3091fe241a0994f": {
     "views": []
    },
    "15baecb8b262441ebb0ef37ec25bb4ba": {
     "views": []
    },
    "15ec0c2005784d4f9415df7dc1715439": {
     "views": []
    },
    "15f54556a5194698a3d16d52e61ace93": {
     "views": []
    },
    "15fb7b09f8994c459089ead600984e6e": {
     "views": []
    },
    "161f4873c3564920b551929c60b36128": {
     "views": []
    },
    "163fa22faccd40f781812205500a7f01": {
     "views": []
    },
    "164a97ab8ae44a128fb4b52129c5aef8": {
     "views": []
    },
    "16514469465747e58b328455f8daa630": {
     "views": []
    },
    "1691885e53c447a086fa736b018ee85b": {
     "views": []
    },
    "16c7e2c0ecef415cbe701e7237c9c6c3": {
     "views": []
    },
    "16ebe360bd04483da74b10831c189ebc": {
     "views": []
    },
    "170e56726d974eaca46298219f9e2661": {
     "views": []
    },
    "17453ce3553e44719d655bf2a8ea3d63": {
     "views": []
    },
    "175f461c421b45e4a4251bcd969f74ef": {
     "views": []
    },
    "176f3ffa8d04495a81a8ab820f769a54": {
     "views": []
    },
    "177024f0e86e4ab5a5955d5e8776a9b4": {
     "views": []
    },
    "177cfda5c9f74c9abb69975eeac889b3": {
     "views": []
    },
    "179aa5f560f147ae88a43a0194f226be": {
     "views": []
    },
    "179ca98b3e314437a9a2b68ce46efc89": {
     "views": []
    },
    "17a625844e61448b875346b2a177bf76": {
     "views": []
    },
    "17d0b29c7bba43f1829195bd257bf173": {
     "views": []
    },
    "17d5fb00ec814d1b99e51623ea4d09f1": {
     "views": []
    },
    "180449360666451a8f8896e51ebf5f93": {
     "views": []
    },
    "181b6bc789024d39aa6f0057eed37946": {
     "views": []
    },
    "183ea763f12d46368f9e792e5b7dd52d": {
     "views": []
    },
    "18531c8813774cfcba22d4ea14314d41": {
     "views": []
    },
    "185d0a0093a04dff8d2a60de2f25e29a": {
     "views": []
    },
    "185edb8eb375434e8475bfa9b01ec7d5": {
     "views": []
    },
    "186084c7667244729b0ac26fab4b7388": {
     "views": []
    },
    "18c3e32e70e842a78d11d71f048aab8d": {
     "views": []
    },
    "18dd233fc70347fe819823ed9eeb9a1c": {
     "views": []
    },
    "18e5651e935645f29dbcd90231c4a4ef": {
     "views": []
    },
    "197e01ff5e0b421aa46b96d43f1f4f7c": {
     "views": []
    },
    "198c869eb8ed432e8ddb9c528e64ead0": {
     "views": []
    },
    "19b8080859a64a70a683d5d67d82f9a4": {
     "views": []
    },
    "19d895b78a5f49f0b9befaa9585d4aa8": {
     "views": []
    },
    "1a13d19e435b4c61a6475db81e1aaf7c": {
     "views": []
    },
    "1a3dfc05a51a4a3da27883a265c5d4df": {
     "views": []
    },
    "1a55e3fbea6f41da9270fa5e5f6f1986": {
     "views": []
    },
    "1a6170b0e4d74789881ced8c2f01a08e": {
     "views": []
    },
    "1a8c652ad1c74d5fbf94f55fef51917a": {
     "views": []
    },
    "1a8ccc9cd6c74455aafcf293a9f666ee": {
     "views": []
    },
    "1ac6f1a538154ed790e2cc751cba4667": {
     "views": []
    },
    "1b01c45926214696bee5543318e3ef1d": {
     "views": []
    },
    "1b668fdb0dae490e95213f2a9e2571b5": {
     "views": []
    },
    "1b702e88f5ce4063bbd4139480bd3d62": {
     "views": []
    },
    "1b87cb71f0d849d686133b1ed167dbcd": {
     "views": []
    },
    "1bd008a6f5dd449c8910119e1ec2777e": {
     "views": []
    },
    "1bef420a1cd641f7b0c4200207f689a7": {
     "views": []
    },
    "1c33accd33f54e7082a17e9f27a52a36": {
     "views": []
    },
    "1cb75eafa1034c20807bd4a1ef62df2b": {
     "views": []
    },
    "1cc446cb11ef4f188d72f74eb02b8ebb": {
     "views": []
    },
    "1cd0595106054e58aa226efebdc9885c": {
     "views": []
    },
    "1ce639c13cfb49ddbb1dbcfc7d10b784": {
     "views": []
    },
    "1d00211684d946c58f90638decd0662d": {
     "views": []
    },
    "1d21d3bd757141afb7dcc45a7e7942d4": {
     "views": []
    },
    "1d661cb7550440b580730e2102b127e9": {
     "views": []
    },
    "1d6d89eaacf343868b69855170f0b900": {
     "views": []
    },
    "1d93f5f9979345f0ac1f27b66c06ffe8": {
     "views": []
    },
    "1dabd292349d46b595313fa9f821a210": {
     "views": []
    },
    "1db0d1c69a3243ef897ccd6645879eaa": {
     "views": []
    },
    "1db97a6cf71e40b382395fb504138559": {
     "views": []
    },
    "1df36bd3f3124555bd83bef11b082973": {
     "views": []
    },
    "1e4efe13a5d241b2826031c5864dd835": {
     "views": []
    },
    "1e5c2beb95694634927600fd302e1dcd": {
     "views": []
    },
    "1e9632c6ad43457e9a28b2b146e135f5": {
     "views": []
    },
    "1e99f040cf064eda8b6c8e299b0a9d8a": {
     "views": []
    },
    "1eec2e692f7b49f8bfc249f1ec630906": {
     "views": []
    },
    "1eed90601cb84b3786233be6eb57f93d": {
     "views": []
    },
    "1eeea0fa50204c49b17c316580f55870": {
     "views": []
    },
    "1efa5def3ab043cf8389ad3ca9ef565a": {
     "views": []
    },
    "1f198ea422a14bb4acc5b94d219b7828": {
     "views": []
    },
    "1f3f807a68bb4d5db415c7b73d499f6d": {
     "views": []
    },
    "1fee24205c6b414fb01dcc893e73f9c2": {
     "views": []
    },
    "1ff00eae99394e0b97c0bae70e5792ce": {
     "views": []
    },
    "201077ddc7974843844498da4589c365": {
     "views": []
    },
    "20506c6407894435b8f9ac5b5e110ff4": {
     "views": []
    },
    "205322f9560c4137907681967d24d6c2": {
     "views": []
    },
    "20921d601f0b41c7bce7dc7962d9724f": {
     "views": []
    },
    "20bae5c560464b97bbfdcf4b4a3a8377": {
     "views": []
    },
    "20df162cdb4246d4bfd3b6288f6582cf": {
     "views": []
    },
    "20e0c942563f4bf7b3677086ac047012": {
     "views": []
    },
    "20fc4cbf45be4aeb8167670bde3791f0": {
     "views": []
    },
    "213c14eaca5240a19390b35d8c8dad32": {
     "views": []
    },
    "214ec27fd4fc4180b9320dd82923584f": {
     "views": []
    },
    "215ece9d55b84f419a5ec9f24560c843": {
     "views": []
    },
    "21a6856ae91c469b8d4171ab8a80bfe8": {
     "views": []
    },
    "21c1ece045b0470a854744b4236b2b26": {
     "views": []
    },
    "21def8f4785145fea226433c97287d16": {
     "views": []
    },
    "223546b4a1c347fb8ea3381908e6072d": {
     "views": []
    },
    "2247e19f836948a9bd74b472ec87ccfb": {
     "views": []
    },
    "22825b6a1c104be79ceb24411766ee1b": {
     "views": []
    },
    "2297cb91ed96449db67a813506ca456f": {
     "views": []
    },
    "229ae333de664ce18e85ea6aefad6632": {
     "views": []
    },
    "230d0ca9a80a40e4abe7f76a047fd872": {
     "views": []
    },
    "235c220fd0fc45389e35c576ae42c0eb": {
     "views": []
    },
    "235da3778ea24e29a0fb05f821091107": {
     "views": []
    },
    "2362bb784c5c408fb8a60298c78217a2": {
     "views": []
    },
    "238c5a964d4745fab51c4b867771ac6a": {
     "views": []
    },
    "23a5cbc66e614b59854bc92b637e3334": {
     "views": []
    },
    "23aca289f29e4f86af2ee6ab841b6955": {
     "views": []
    },
    "23f7638df37f47f89509b82a3821022f": {
     "views": []
    },
    "2401960f1bd44ccb9faf11a5dc1de44f": {
     "views": []
    },
    "242e6fe4a67e4942bbb6a340d7d09f11": {
     "views": []
    },
    "244dea5acaa74a879b090649aec09bbe": {
     "views": []
    },
    "24691aebd44b4376a644e772ff7bc0e0": {
     "views": []
    },
    "249eaeb4afa2472f8ed2f3caf1140f48": {
     "views": []
    },
    "251ed967a93e4243805d6139965a142d": {
     "views": []
    },
    "251fb8a1f44a4617bc8fff80c44c8548": {
     "views": []
    },
    "2526b496c67145e489878f109d58466b": {
     "views": []
    },
    "254e1efe8f7f47ec9cb1d0869577c9c9": {
     "views": []
    },
    "25778ae4d43f4167854ca2d36b399cba": {
     "views": []
    },
    "25804662f9f4471e8f5ad2d5891a8195": {
     "views": []
    },
    "25856c384fbf4bdb9b584cad1183f8d3": {
     "views": []
    },
    "259bfd18242346f790e51d9419e33923": {
     "views": []
    },
    "25a1f1adbc224e62bada396bb49f0c71": {
     "views": []
    },
    "25c8eb9575a740299140f2864cba7c6c": {
     "views": []
    },
    "25d4153f386e429d8172977a21ea0498": {
     "views": []
    },
    "25d9237859884b20a33a698d64bb4287": {
     "views": []
    },
    "25f0a823ae5540db81d66852dd62daa5": {
     "views": []
    },
    "26147a57ef284b86af17669cb1708bbc": {
     "views": []
    },
    "26151d0e90454d189bb57b6c9775459f": {
     "views": []
    },
    "26197b650aa24774ba9e16f77052ab0e": {
     "views": []
    },
    "263db5f39b1049b3a607fd81d752fad2": {
     "views": []
    },
    "26599f84cb784ef2ac24bde0d897c6c2": {
     "views": []
    },
    "26830b03d5ac499d93098f5cc913ddc0": {
     "views": []
    },
    "26cb1b2e34f74e3ca72ee14199b98632": {
     "views": []
    },
    "26ed90eab1d44be4aaf87fcb5d7544be": {
     "views": []
    },
    "271af229ee934ca58c767c2e8f620699": {
     "views": []
    },
    "2720aa6ac3aa47f291a7411a5ebfad65": {
     "views": []
    },
    "2740fd69b56a4b658661bbcd389eb669": {
     "views": []
    },
    "275c17b25ea5496fa8ff87646ff8f95d": {
     "views": []
    },
    "277b93a11ed642e2a5206a958e8fa961": {
     "views": []
    },
    "277bfc8b14d447b0a628e274457ae2f5": {
     "views": []
    },
    "27970d8812cd455ab98b7d710cc82040": {
     "views": []
    },
    "27a3f17882464fcdae74b564a900e48f": {
     "views": []
    },
    "27ac15e8b8d94be3bd4834acc3d95d92": {
     "views": []
    },
    "27c7b4f8c1ed4a51a2f3428243b9e63b": {
     "views": []
    },
    "27fc23f6578d401ca33bd3db00a2afad": {
     "views": []
    },
    "280f13757bdd4ff796fda0d58c99c059": {
     "views": []
    },
    "281ef0a3ce944f13af69a15ee5f3be0a": {
     "views": []
    },
    "28317f74e99d4299a7edefb292a09cb2": {
     "views": []
    },
    "284e4c6e1e6f40ffae6fe2641d529e53": {
     "views": []
    },
    "285fef2a5d504a6e94efb8def7300267": {
     "views": []
    },
    "287ca3a254744d43b6cea5fcb2d1cd64": {
     "views": []
    },
    "288a2ad1f6ea4b089128894fdbe249c2": {
     "views": []
    },
    "289e6f2afaec446b8f39b154f9f877ba": {
     "views": []
    },
    "28a5d43e58154df6ac390269a83796cc": {
     "views": []
    },
    "28b21d930c2a49daba05fb1fa947e664": {
     "views": []
    },
    "28ce1a10f23c4502980f13bac8ef94c1": {
     "views": []
    },
    "28ebed03204a4509a10a9d3c7a3bd865": {
     "views": []
    },
    "291b8da3ef224b9e9c30504044de4366": {
     "views": []
    },
    "294d7d47359a4dc1a36b4f0f1f136948": {
     "views": []
    },
    "2976644bcb2c48868002f4c81598cfa1": {
     "views": []
    },
    "29d4edb7959d4ab48b5b37a4d6a833f6": {
     "views": []
    },
    "29d55a6d29d641678e5c741fd7abe75f": {
     "views": []
    },
    "29e58a8699b74ba2967429c8fec44386": {
     "views": []
    },
    "2a10a740e6ae4cc393ad248c23ce0cf7": {
     "views": []
    },
    "2a68e1e89f2a4af79b824eff51d03bf4": {
     "views": []
    },
    "2a6a7f19a28a40afb5058fb223820df5": {
     "views": []
    },
    "2a6c8755add44c7a8853205ca60e3c96": {
     "views": []
    },
    "2a8427c59cc242f39789e47146854d71": {
     "views": []
    },
    "2a8ea8f0bf5e448e9bd1768a6adc29c7": {
     "views": []
    },
    "2abdbe91a0a846bea74db74f62ba76bf": {
     "views": []
    },
    "2ad0b35656df4b21bc330547ab7d0a63": {
     "views": []
    },
    "2ae2bf3b49484308a7b21acf204fb58f": {
     "views": []
    },
    "2b0874b3aec145b09db5bb58a582ded3": {
     "views": []
    },
    "2b2f27983e6f4a2a81f2358663227587": {
     "views": []
    },
    "2b3c5b60d75c455db85cd3bbbde9a78b": {
     "views": []
    },
    "2b9a019317574349a7a83c483d667387": {
     "views": []
    },
    "2bccdb0631f249bfa3d5d591daedc62d": {
     "views": []
    },
    "2c69fd5e66694a98952cb6bd59768cdd": {
     "views": []
    },
    "2c7cb603d9b941fa80f99e90d1335065": {
     "views": []
    },
    "2c82f54a86b04e60b7d98932c41d800b": {
     "views": []
    },
    "2ca163aadd1e436492a1a52f26bad7db": {
     "views": []
    },
    "2ca3ffc6d87444dfa5f5411e2569d2b2": {
     "views": []
    },
    "2cae974c7c6245fab798d3ccfa9acad3": {
     "views": []
    },
    "2cc562ceec5648a59142abdf5406727c": {
     "views": []
    },
    "2cca9e9bd0f74e8e80bccf2c3fd86be1": {
     "views": []
    },
    "2cdf03c533044f17a838958a8d1f56d9": {
     "views": []
    },
    "2ced062f421f499cb9459f8760cd0246": {
     "views": []
    },
    "2cf93b1db2694c4cb3c4790eaa0605ad": {
     "views": []
    },
    "2d2cc944aa544164b26bc834a7ee18cb": {
     "views": []
    },
    "2d32b45e11a9486e9ce6c6440d43a40d": {
     "views": []
    },
    "2d60a81ce76e471e8555cf00cd965920": {
     "views": []
    },
    "2d7230367be34629b8a1d78e584dd7b6": {
     "views": []
    },
    "2d7ba67cd3d54f79b12cc11294cbbf20": {
     "views": []
    },
    "2dc0db7ad90f4fa08c8f218a5646931e": {
     "views": []
    },
    "2dcebce5fac545f0b202e8f2f3ebe1b6": {
     "views": []
    },
    "2ddfb12cf6744392bd133335bf0007fa": {
     "views": []
    },
    "2e05e738b6a54335ab85a47cebfe6e61": {
     "views": []
    },
    "2e39218cd7b747bba70d702b2d161f1e": {
     "views": []
    },
    "2e42b4e3d8b847f6afd8ee12b79651d6": {
     "views": []
    },
    "2e4732e4160e48b4bb9d57a6e7fcec73": {
     "views": []
    },
    "2e49f8dbe6b04bfc8f59e91e9a5cbcaa": {
     "views": []
    },
    "2e505d914d484d268a7ce79b92eecaa3": {
     "views": []
    },
    "2e77fcd67de345c19e3107012e41b8b4": {
     "views": []
    },
    "2f035155b6474bc38c4add0d3196cb53": {
     "views": []
    },
    "2f2c5d349e8746aba9577d1c5e943d7c": {
     "views": []
    },
    "2f543167e1f54c6aa6929a577bbc1c73": {
     "views": []
    },
    "2f67149ca68a4fc482dcc79dbf810e48": {
     "views": []
    },
    "2f74368a2a0443e9a740ce6dd8c75c0e": {
     "views": []
    },
    "2f9195790f4b495f82889bc04da57917": {
     "views": []
    },
    "30089803b0ad44739b6fd65be1198df1": {
     "views": []
    },
    "30346f668e5b49bcac7091c0b29681e3": {
     "views": []
    },
    "3045e276684c4d00953145adb6305e50": {
     "views": []
    },
    "30501fb353034a4694fdbd76c89dd78d": {
     "views": []
    },
    "306beeec2794441585b51a0f7cc2db1c": {
     "views": []
    },
    "307a6090c410453783b2d8cb9bf77a2c": {
     "views": []
    },
    "307e6e9da80d4c99806d38e806077283": {
     "views": []
    },
    "3081d4894d2a453cb99ab1ee79086982": {
     "views": []
    },
    "3082e3a2191b41da9ba956cd5c5fd79e": {
     "views": []
    },
    "30ac21fd7a634df9a6c7790816d550c0": {
     "views": []
    },
    "30b013658520413a9234880f19405b2d": {
     "views": []
    },
    "30c0d9d747b242209fcdb779ac6f3f5f": {
     "views": []
    },
    "30d4f2114ae744bcb7800f2b10915bbe": {
     "views": []
    },
    "310d6692fa064786b5095a752579683c": {
     "views": []
    },
    "314a1e21d84642f3b6c539d38825ce0b": {
     "views": []
    },
    "3162dd935c0a432e864ec0a9deae1729": {
     "views": []
    },
    "317373e29cd1425790429765c7caecfa": {
     "views": []
    },
    "322efc2d8984467f831ae7a4fe240556": {
     "views": []
    },
    "325a91108a3e4d11b017e7f4faf17a77": {
     "views": []
    },
    "32700def404f4653a04c6081fc64cd4f": {
     "views": []
    },
    "329f1bfb2c5a42d299db083c4fd3f4c4": {
     "views": []
    },
    "32b56d6acee54e52ad602c1f7a07fb53": {
     "views": []
    },
    "32cd9e657a9147aabfc187486cf73e94": {
     "views": []
    },
    "32dbee99549e4f059dca048a7d457e1e": {
     "views": []
    },
    "3334eef7f0ee4bcc980ce7de5bbea264": {
     "views": []
    },
    "334b2d69d6ca46d5a0207819834b9363": {
     "views": []
    },
    "334f57ea25964bfcba24d2611f96c0c3": {
     "views": []
    },
    "336e71102e7f490686e795704e35958e": {
     "views": []
    },
    "33a0d30ad0514004b94f7fabb56c4da5": {
     "views": []
    },
    "33a696ffc9194991ba8dd5dfc543f027": {
     "views": []
    },
    "3425f719b6dc49a4a07b305ca58f61d4": {
     "views": []
    },
    "342d91ef89cc425cb040c9c09cf3c70d": {
     "views": []
    },
    "34e0ac567f794128a0be9199277f04f3": {
     "views": []
    },
    "34fa3810d0004d8ab130a46c361d294e": {
     "views": []
    },
    "34fabe23181a4c6d81f0ceb3dec2b0ac": {
     "views": []
    },
    "3556af7014324f399bfdd5a7b11a14de": {
     "views": []
    },
    "3582291145474a6890ccc9c275ae0cae": {
     "views": []
    },
    "35ba6ec49f964db3bc1008ef12f30b73": {
     "views": []
    },
    "35e1e1b9bd88458c9268068e0382eda8": {
     "views": []
    },
    "35f5c7cf0aca4c64af20e276e4f54562": {
     "views": []
    },
    "3611e7fe605d4fe7a44d6ec15732296f": {
     "views": []
    },
    "361f5469648241bd94b218e57f42412e": {
     "views": []
    },
    "363491e6c79945fba856aff8f650da75": {
     "views": []
    },
    "363d6dbe7cff43068a3f276551d481ba": {
     "views": []
    },
    "366336dffab54cfe82e32b6ecc032f91": {
     "views": []
    },
    "36740474b79d42bfb3deac324ad0b0dd": {
     "views": []
    },
    "36b21074595a4c439f3d6807dff62178": {
     "views": []
    },
    "3708f8c4d57441ecbe2397dd6f6be4e9": {
     "views": []
    },
    "3718f96033a9474ca58f20762d2ff599": {
     "views": []
    },
    "371d509c11e34a20bf1837b972222c69": {
     "views": []
    },
    "371e6510915d4d85b74d9abf73b6788b": {
     "views": []
    },
    "3729645684224ebcbb836130a09760e2": {
     "views": []
    },
    "37740b0908764171a5ed52297a39b389": {
     "views": []
    },
    "37d4b2beced849b4bd255a0fb74a745d": {
     "views": []
    },
    "37db725898714bdd880330d3867a91b0": {
     "views": []
    },
    "37fb0b46d02a4e90990c0a6de6758d7f": {
     "views": []
    },
    "38152667f1e340b48aa25c0ffe59cfdd": {
     "views": []
    },
    "3836a84702324fc7b41caa255ba0464d": {
     "views": []
    },
    "383a44ebbb814a11bb08646b7c1c4be6": {
     "views": []
    },
    "38679e7ea7764524885566ef5562d3ed": {
     "views": []
    },
    "3885d9968a9343deaf4a2069bdc4ac9e": {
     "views": []
    },
    "393439c140364198b9310d44060bf1dc": {
     "views": []
    },
    "3934df044b3745e089b13d8552f1b67b": {
     "views": []
    },
    "3972aa4ab9964c18bf5e8f0070e1ee58": {
     "views": []
    },
    "39a99d4eaaba4b949af4644132c13158": {
     "views": []
    },
    "39b29aca85ac498b978d2c8887c9cc7f": {
     "views": []
    },
    "39b90a59f7734a789eafc4b5ac49e663": {
     "views": []
    },
    "39bf737036c442e38727ebacd8abe306": {
     "views": []
    },
    "39bfc38fb3a94693bf9a2ad191e304e3": {
     "views": []
    },
    "39c7e667118d4e52aae437ef668e49d0": {
     "views": []
    },
    "39d067821c0e4154a13e6623c551db72": {
     "views": []
    },
    "39d16dc6632a42b3b000310b120475c8": {
     "views": []
    },
    "39d46935fa624547b809f311a7957285": {
     "views": []
    },
    "39d51483eded4ce3815ad8d763bdeeba": {
     "views": []
    },
    "39d559741245425fbea55b58808aaf9a": {
     "views": []
    },
    "39f5c13c52f941a891e62520be9af245": {
     "views": []
    },
    "3a1cb7a0467f43bf9d6107671c3baa06": {
     "views": []
    },
    "3a2d3d17f1784956b73e9c218a6731d8": {
     "views": []
    },
    "3a48d84dedb64bf1803cbc0df2373321": {
     "views": []
    },
    "3a5f12a7db6248a58c40cffab5488930": {
     "views": []
    },
    "3a619a1fb5f84d58810421a974e125ec": {
     "views": []
    },
    "3a945c83ce6c4ab28d74be8fb85ddd05": {
     "views": []
    },
    "3afe3d5662b34201bd57348e27fba29d": {
     "views": []
    },
    "3b06e72a326343eb942bc5a846df9fbf": {
     "views": []
    },
    "3b2fcccd08734a80b294779eb85168a4": {
     "views": []
    },
    "3b39fae6ecc241c983b915ee335cf337": {
     "views": []
    },
    "3b7566a083004d798b60a9a45143a20f": {
     "views": []
    },
    "3b837bb1794142f98014b9527f18d40e": {
     "views": []
    },
    "3bb5993279dc4649867a56063569bce5": {
     "views": []
    },
    "3bcccc158de945269fa9b3b53eabe3e0": {
     "views": []
    },
    "3c1d931359ad4678b6a6d13160f46958": {
     "views": []
    },
    "3c5577b833be4e0086c6df7bcfef02ce": {
     "views": []
    },
    "3c6537e831c5491aa457c72f5c5ede40": {
     "views": []
    },
    "3c6fd58aecc943c9b626c75df9512523": {
     "views": []
    },
    "3c91ccfacb754e96a525badff007f314": {
     "views": []
    },
    "3cbed09a9c514cb4962090060a026114": {
     "views": []
    },
    "3cc5fe19af424166ae45883183f08270": {
     "views": []
    },
    "3cd955996bb349a090a1b65bfb2392aa": {
     "views": []
    },
    "3cf0d5e1f34d4919b3a0250e16178db6": {
     "views": []
    },
    "3cf74cada1aa44d781e9f11840736845": {
     "views": []
    },
    "3d1a784664dc4d70bf08ae0d80e36a3f": {
     "views": []
    },
    "3d4ba85beedc4d92b8fd3336475c3d24": {
     "views": []
    },
    "3d8844c19ae8480eb42c7a117d32639d": {
     "views": []
    },
    "3da60752bee141548e57c3c1c7e5bc18": {
     "views": []
    },
    "3ddaf7c30e464368ac94796461515de3": {
     "views": []
    },
    "3de787c7d1af4e31ac44f3d164724329": {
     "views": []
    },
    "3dedae48be0a4d8fb5c97ce86bca1f38": {
     "views": []
    },
    "3e1b45b65baa429a9bc22f23f90afc94": {
     "views": []
    },
    "3e2c450fab984370991a0dd7a135608c": {
     "views": []
    },
    "3e2cf70aacfe48a99768cb11310f0dc7": {
     "views": []
    },
    "3e518e0b061c423796ce3da1af4eff64": {
     "views": []
    },
    "3eabb5e7dc694cc6ad584b76e594c823": {
     "views": []
    },
    "3eac921d6e2749eebc5cc98aab5d1f45": {
     "views": []
    },
    "3eb48b7464964b88b0202edbcdb164ec": {
     "views": []
    },
    "3eb72484a0fc48f2bd457263007df072": {
     "views": []
    },
    "3ec502d171af4b7d995ec1f0bd82ee05": {
     "views": []
    },
    "3ec85ea56dee4c3f99a8cc51d03d0449": {
     "views": []
    },
    "3f78d14f66704db4990535a4cfa9b748": {
     "views": []
    },
    "3f9222e34bd6491bb12293d0b37c6549": {
     "views": []
    },
    "3fda7ae0f1c747c49440571b2a922df1": {
     "views": []
    },
    "4030b268c5714a84b0cf752d1c555904": {
     "views": []
    },
    "403a565641c94227b6e291a32420d902": {
     "views": []
    },
    "40975f61692e428d9d6ff85cdfc0de53": {
     "views": []
    },
    "40ea3df3640b4169aa4dc4510bce8b64": {
     "views": []
    },
    "40f73f649c0a48acaf840b261e06d739": {
     "views": []
    },
    "410517c42fe74a1abd461d946abcaaf2": {
     "views": []
    },
    "4144671dc1c046ee9aed5ca789754866": {
     "views": []
    },
    "41543712bb484f3bb19288aa55f1f5c0": {
     "views": []
    },
    "417cbd4f955a444eb7950409509abeb0": {
     "views": []
    },
    "4193b10316744b95ad2519abf61e1509": {
     "views": []
    },
    "41cabff2ff5d463695ecc0cecbfbdc73": {
     "views": []
    },
    "41d7f669a65341dfa9305ce205011fd0": {
     "views": []
    },
    "41da5860e2084a33b2bc9879b45570d8": {
     "views": []
    },
    "421037f4722e41f8939ad2af19a2929a": {
     "views": []
    },
    "4246ffbdd5024c6b97c7ac7408aabcee": {
     "views": []
    },
    "426b881672df4124a68e58c35f956a22": {
     "views": []
    },
    "4284a581edd6490b89af4c3d8eb48d32": {
     "views": []
    },
    "4284aa65bc0a487fa033418c79a8e3e7": {
     "views": []
    },
    "42a882ddfc904f52ac8b7bd2ba0a104a": {
     "views": []
    },
    "42b63af528eb45e8ac4f91a6de94b2cc": {
     "views": []
    },
    "42bab974c77947038c267d71105cb475": {
     "views": []
    },
    "42c92c598c5d45dfb01548d7ae09b859": {
     "views": []
    },
    "42f71f5f34f34ccc8a8ef327398273e6": {
     "views": []
    },
    "432be0198ab44c48ba3014a0b0d11830": {
     "views": []
    },
    "4339d60c2b674022af59293dc1d2a7fb": {
     "views": []
    },
    "43445a9a8cd84e46843831aa37563ac1": {
     "views": []
    },
    "434b469761e749a6b3d2e000bc152d6c": {
     "views": []
    },
    "4353e848f7204c7a92ae99d2fac24caf": {
     "views": []
    },
    "4354601c99164b42836f7d38a5d288de": {
     "views": []
    },
    "4364407bed754f0aa620d5fba7e6c6a8": {
     "views": []
    },
    "43c4ef8865a04d8188009696af43e66d": {
     "views": []
    },
    "43d495871c3342f2978004ea2d57fff7": {
     "views": []
    },
    "43d70803bbab407498a8551d05e1d5d4": {
     "views": []
    },
    "447baa782a4642bd8540d0fdfaec2b1c": {
     "views": []
    },
    "44882f93ea1a4d5ab0208831ee4633c4": {
     "views": []
    },
    "448ddc8e2ddf42ca9a334e7b6de9f127": {
     "views": []
    },
    "44e14ca2995e465c8c75349fc82c2218": {
     "views": []
    },
    "44fd3539be8146dfb91663091f7397c8": {
     "views": []
    },
    "4587d16d609b4d42aaff2b20f28c26d5": {
     "views": []
    },
    "4595aac077c54a6980322bd5e8fde231": {
     "views": []
    },
    "45b346653fe34f95bc8b9ec4d897d36e": {
     "views": []
    },
    "45c01602eed845468ec127f22c27dc40": {
     "views": []
    },
    "45d4ba1c9b49404abc631f44a04ff612": {
     "views": []
    },
    "45d8bc5f7e734a8994e1f1128a8ce321": {
     "views": []
    },
    "45fb081b45d243298ae560b77c511185": {
     "views": []
    },
    "4620cb8e431248d9aef14afc5a409721": {
     "views": []
    },
    "4639e016c4d34c72baa5f0ce4a6b5b17": {
     "views": []
    },
    "46487b66bafa4ee08b456b04b2196f9c": {
     "views": []
    },
    "465e2c6197c540a7b005218a82c136b7": {
     "views": []
    },
    "4670de5139e645daa68032a8fa013bee": {
     "views": []
    },
    "4675b2abc1874fffba8f835e6e5221ab": {
     "views": []
    },
    "46cb598952574523a76e435dbf87c8f9": {
     "views": []
    },
    "46f2ef58e62b4c4f80ae7fcc1b311f5d": {
     "views": []
    },
    "4718b318317d4a28a5cc1a5861e0cfea": {
     "views": []
    },
    "471cf04629a44edbafa7bd87d804e316": {
     "views": []
    },
    "4728d6b0366c487791e7ad8fb80c8b0f": {
     "views": []
    },
    "4735f558c38f470d8d32df86f009034b": {
     "views": []
    },
    "4775d7d80bcf4b8e84fe54a07f71dc90": {
     "views": []
    },
    "4796d66fdfb845b5af2d790cf16a407a": {
     "views": []
    },
    "479779588d384b319eabcaeec6de1031": {
     "views": []
    },
    "47ab4d06caff4cb698974c939162e188": {
     "views": []
    },
    "47adba8242fb478ba8fa81d2de3fce4a": {
     "views": []
    },
    "47d0ae4d9ddf4336af3b9f0769895eb8": {
     "views": []
    },
    "47d0e1d80b8146c09865af33c1b35b38": {
     "views": []
    },
    "485fd879e7fb40ab8149edb48cfcd7b8": {
     "views": []
    },
    "488abbb7f24f438ba50a1fd5a09c7eb8": {
     "views": []
    },
    "48a8fff2d48b477ea0c427004c2eba60": {
     "views": []
    },
    "48ade3f1760e436280368571b051c54d": {
     "views": []
    },
    "48d2c6a3fe6e4aa48b432970945f3b53": {
     "views": []
    },
    "48d9d0d1778a4f8595c680d1d0f6b797": {
     "views": []
    },
    "48eabe112b054f43a8636c89bf4f7b73": {
     "views": []
    },
    "4957ddfa141946649f406628ba52f07b": {
     "views": []
    },
    "495c525fe20b4821b758f90d0a783ecc": {
     "views": []
    },
    "4960bb2fc68d442c861412093a046275": {
     "views": []
    },
    "49c57ea9bbbb48a1bad0b10417b2bcd1": {
     "views": []
    },
    "49d14a0691054c7293e1b5d4ac891c2d": {
     "views": []
    },
    "49eb759a98e84c02a09298fead5934b3": {
     "views": []
    },
    "4a2c0a90debb45028569838c62063af5": {
     "views": []
    },
    "4a4238db2e1740adb9cc88d1be9a5318": {
     "views": []
    },
    "4a438f9fd728411ba92cfd63b9e72324": {
     "views": []
    },
    "4a78e1bf6ef245bba12b032de6d2f5d2": {
     "views": []
    },
    "4a8a93a8e717495db24276d16e4cd46d": {
     "views": []
    },
    "4a97433e53e84813b1eea7f7eb3e8a46": {
     "views": []
    },
    "4aaf70b1c8c944c6991869282d8aed10": {
     "views": []
    },
    "4ac2931ef19a45ec9b380a665b0e40a8": {
     "views": []
    },
    "4b293983f9d246499ddf19b67aec9171": {
     "views": []
    },
    "4b2c6491c03b4afba997276ac10d8aa6": {
     "views": []
    },
    "4b95d2ea88bb485ab8352f4dfdc099de": {
     "views": []
    },
    "4b9b5eb8cc01402cb6de065f5d6aba4e": {
     "views": []
    },
    "4bc3bc1c125d42ad9f321be986300dc8": {
     "views": []
    },
    "4c02e1d48bee4bd590f7b96851f0f503": {
     "views": []
    },
    "4c103965ee5545508eaa778ffc92a4de": {
     "views": []
    },
    "4c3b92fc9e7b4174b56e0173de06d394": {
     "views": []
    },
    "4c680d633e82408ea5c44e744e5b8383": {
     "views": []
    },
    "4c688e12228b4b6ab8f1a0dda1a0f1fa": {
     "views": []
    },
    "4c81a35a9f434083a83a022c2111e248": {
     "views": []
    },
    "4c8b8dd557094cd7b7131aa420989249": {
     "views": []
    },
    "4ca4ee07d4194a408e93bc1b75afe81e": {
     "views": []
    },
    "4cba6ab3cdcb4202a5ae3fa7b9874b31": {
     "views": []
    },
    "4cda7c0382dc4c01888cac28102adfdf": {
     "views": []
    },
    "4ceb0e3a282b4baabb06e66b8c4083b5": {
     "views": []
    },
    "4d484209b0b143d787604e8bd2f52349": {
     "views": []
    },
    "4d5fedfd5b92499d80108c952a3dc0ba": {
     "views": []
    },
    "4d6ebf9132c146a885f9bbb121895bac": {
     "views": []
    },
    "4d86480cedf244919d739385d5c0179b": {
     "views": []
    },
    "4d8e0688c2954432b3a65bc3f0443f30": {
     "views": []
    },
    "4d8f3273c0804f478a515a4c011bba40": {
     "views": []
    },
    "4d96cd2a97b04c2086d2614c93757714": {
     "views": []
    },
    "4db544d20b044f769d3b399d97f61144": {
     "views": []
    },
    "4dd6f2c8cbed45d3a11dbdee057df7d0": {
     "views": []
    },
    "4dfce8634ba6473bb665cd06a2ab8644": {
     "views": []
    },
    "4e1597b3cfbf4566b5d9ca88d43e1ec0": {
     "views": []
    },
    "4e19a68757ac4e4482ad49f9691c6321": {
     "views": []
    },
    "4e2c5ab8634e4e8dac0b86bf4ef0a63f": {
     "views": []
    },
    "4e32496ddaec4d32831b3be0b03e2960": {
     "views": []
    },
    "4e40669098774d71be486a855e22d5b2": {
     "views": []
    },
    "4eb6f03293134c018b07392189730f53": {
     "views": []
    },
    "4ebdbd6690184188a20c897391eebb8a": {
     "views": []
    },
    "4f0a1d70459a43739f3e26dcc62ba3ce": {
     "views": []
    },
    "4f596e6469e848bea4a66eb6b73004a5": {
     "views": []
    },
    "4f6ebd825f0b4351bebf0d3f7d78fff2": {
     "views": []
    },
    "4f6f9164ba7c4178b48bafb2531a9952": {
     "views": []
    },
    "4fb1d09e8aa3445983626b24c0ee8efb": {
     "views": []
    },
    "4ff6108fc1dd48f8ad226aade1add522": {
     "views": []
    },
    "500f48cd1fba457d8368ceb65c5846a4": {
     "views": []
    },
    "501a41d935fe4422a3604ccb68d18246": {
     "views": []
    },
    "5021545344294c579d468406cc48d8d2": {
     "views": []
    },
    "505298ae0c2d4023a4108c2cc6b4c760": {
     "views": []
    },
    "506828f27c7643b3adf164ea41bb81dc": {
     "views": []
    },
    "50a477336bcf483392e26a474f3b74bc": {
     "views": []
    },
    "50a7c79a2ea94fd78f7ca056cd4be163": {
     "views": []
    },
    "50befa408bb9422bbbbe375f5128d974": {
     "views": []
    },
    "50dfe94013ea4b128a0839769d5fae19": {
     "views": []
    },
    "50f9f0f8fcb64a708cf2999c106ee826": {
     "views": []
    },
    "511220ba1b4d4cfd97bd5435ab373dc8": {
     "views": []
    },
    "51417274524a492b89b6b8cfd207a70e": {
     "views": []
    },
    "517783596e9b4239b21187557b129971": {
     "views": []
    },
    "517c0e3d297d4d2da1cacb09f3a89b33": {
     "views": []
    },
    "519ec3694e314fc79bec4da000bd4e3a": {
     "views": []
    },
    "51b2833e0a2140d89c637ab23266488b": {
     "views": []
    },
    "51c50d0d28ac402db2910890a3fbae97": {
     "views": []
    },
    "51e1fcadb6554c5ab25310f5f1bf25e4": {
     "views": []
    },
    "52234863e3f34bbaa3cd8f2fc9d068e8": {
     "views": []
    },
    "524b60e09f134bc0b6bfc6f07cc785a3": {
     "views": []
    },
    "524b7df18c8042da8844c038df8c23a1": {
     "views": []
    },
    "52600b50206f45f093baa20f5a800cfd": {
     "views": []
    },
    "52657b7dbc93401aa5801c08ea7c7d50": {
     "views": []
    },
    "5276e04e6b5e46e9a07da708b58e4b40": {
     "views": []
    },
    "5299f8082de54577a6018946177ed90d": {
     "views": []
    },
    "529e554718e54c578bc3e3accd0d1680": {
     "views": []
    },
    "52bcde47a9c7495aaa5f95c333894c26": {
     "views": []
    },
    "530648f83f394e4cbd1330f9d8e0f221": {
     "views": []
    },
    "5312a31a12be43a2950544914969de41": {
     "views": []
    },
    "5322a1aa904046e4b0fe5ccc551e5677": {
     "views": []
    },
    "5341424df0ba46d1a8811cab6d703798": {
     "views": []
    },
    "5356949052fb4ff4a2ed83cc40c00cae": {
     "views": []
    },
    "536c8809aa0047bb84e8945c2c85416d": {
     "views": []
    },
    "537ccef0571a4d9d82409149d7834884": {
     "views": []
    },
    "5390261d24634a83993976bb470e3313": {
     "views": []
    },
    "53a2d6e9f48341ddb4866b72762a6a06": {
     "views": []
    },
    "53b0c11e65e5443a83ce4c157d910c62": {
     "views": []
    },
    "54bff7feafcc41d083683826dc66131c": {
     "views": []
    },
    "54c63a04f0494bb18b9e934a31c10eb6": {
     "views": []
    },
    "54e206c4f31e4aff81c9541579f4be88": {
     "views": []
    },
    "5500d84513af4595ae271f7f18e420b1": {
     "views": []
    },
    "550ac5ee5ef44eec9d9c631db3210347": {
     "views": []
    },
    "550c4c91beb2436a804f5a12e3655f69": {
     "views": []
    },
    "5522b1996ece426e9d9cf0151622c46e": {
     "views": []
    },
    "55a5be1fc1e94aa3984f93dbeedeb1e4": {
     "views": []
    },
    "55b06b71b7024d6e99223e53229ab7c9": {
     "views": []
    },
    "55b8f1541e70478bb54878a7858d2a9a": {
     "views": []
    },
    "55bd57b314994b01ab23051a7705e268": {
     "views": []
    },
    "55c57839e83f4301bd7c3b8516b7d7e7": {
     "views": []
    },
    "55c8ef8acb1f4b6a8501b510068f4086": {
     "views": []
    },
    "55e65eda2a8a4b1cacf1e042aa5152a7": {
     "views": []
    },
    "5600deea17f24bb6b48c46d9f3f55866": {
     "views": []
    },
    "56146c2ba548417892bb7a95e1cb2dda": {
     "views": []
    },
    "562e1072550e4aefb790903cc685cdb8": {
     "views": []
    },
    "56514cb71998422db285b2f8192009bb": {
     "views": []
    },
    "565e38f49f644473905129aa2703065a": {
     "views": []
    },
    "565e497386154685bfa063667d9340ec": {
     "views": []
    },
    "566b8be4e16e47c5a311d2f13aa580e8": {
     "views": []
    },
    "568f05d30d1f44a0a83e1c6640593f61": {
     "views": []
    },
    "56aa062e517c42b2a5ce8f8e7289db62": {
     "views": []
    },
    "56ae490556de4393b31c686ae517fcf8": {
     "views": []
    },
    "56c07e69f50446b2b42c95b53f0bcc57": {
     "views": []
    },
    "56fb933572b447638b44eacb8a10886f": {
     "views": []
    },
    "57425ec1fda8478e8116fa17d466ee79": {
     "views": []
    },
    "579284eed58c4d7ebae00d9083c60829": {
     "views": []
    },
    "57aadd035a6140ed97df1af90d1caf3e": {
     "views": []
    },
    "57b75ab12ca84af1aee2fccf7451cd59": {
     "views": []
    },
    "57b763ee4aab4b0c97820c9846f3a97d": {
     "views": []
    },
    "57c8616217304db4b8fe0c15af5cd4be": {
     "views": []
    },
    "5887679a383145b4ab47ca9dd46f6d4f": {
     "views": []
    },
    "589d6d51f147490b8c9e49b496ed2f0f": {
     "views": []
    },
    "5902c19e13ef47b98b38e5df3402f03d": {
     "views": []
    },
    "592e5d3bd1e74696975d3acaf0420067": {
     "views": []
    },
    "593ca11ea85340c098446bfbdd3b61c1": {
     "views": []
    },
    "5968e82caa07476691b9b08d79686356": {
     "views": []
    },
    "5972fb57287e49e28a6c33c87c37b17f": {
     "views": []
    },
    "59d82916e39f4ee19f22b5fafd6965fa": {
     "views": []
    },
    "59e67b22f5bd45dc9d94a59da1139222": {
     "views": []
    },
    "5a0acf2bde8449f9a960daf5047a2fe3": {
     "views": []
    },
    "5a6b0b3dcdfa4747a6b8e7d1223ab4a5": {
     "views": []
    },
    "5a72fa44ff34432eb246aa5cb6eb6433": {
     "views": []
    },
    "5a885ba9b51c45f2b6c1fd75ff041d11": {
     "views": []
    },
    "5ae4f162ca684b98974eea66c56ba42e": {
     "views": []
    },
    "5b273f0dd4784026b8c40dce46085d04": {
     "views": []
    },
    "5b3cfcd2799149d4b5a5cc7266218603": {
     "views": []
    },
    "5b79d879a3ad41ef968c824e52089b99": {
     "views": []
    },
    "5b7a107f22324abb982ab91d405d6fc3": {
     "views": []
    },
    "5b8f41d022124cff8a47cfb018f9db58": {
     "views": []
    },
    "5b9ece8774de4ccb9c87315e80b0cd70": {
     "views": []
    },
    "5bda7903b74e41ad922571edfd06bd63": {
     "views": []
    },
    "5c1d2be81fdb4f5fb871066f52cb9beb": {
     "views": []
    },
    "5c523527f5b24d5c8c6761577a2eee70": {
     "views": []
    },
    "5c6a54229e7143bb8565bd59147836e2": {
     "views": []
    },
    "5c843c1b62a249ab83a9fea72191809c": {
     "views": []
    },
    "5c845bd8124e4c2e97c575eea50f017b": {
     "views": []
    },
    "5c86bb2b9e184908a89c7c2a17daaa44": {
     "views": []
    },
    "5d15cb3162294722aecdb45f5c80d725": {
     "views": []
    },
    "5d7ef9550dc2402ebe8ca55a28ee5f91": {
     "views": []
    },
    "5d85eb1ac76148668796276ddd225db9": {
     "views": []
    },
    "5daa151d2ac441a58de59d0b5b37a9dd": {
     "views": []
    },
    "5ddf664b8ca9406aaccdfc02b36bf7dc": {
     "views": []
    },
    "5e3309f9f659474e89ed0aaa0298414d": {
     "views": []
    },
    "5e3827fa085e4fbe9952cac074a5250e": {
     "views": []
    },
    "5e3c4f93ee0b42f1a73f6c24619001bd": {
     "views": []
    },
    "5e643404a8f646f49730447850a272a5": {
     "views": []
    },
    "5e9cdf32beaf4f86bf640d06112195da": {
     "views": []
    },
    "5ec174bdd37341209897b028270a4688": {
     "views": []
    },
    "5ed84296f77b4e3589c01ff0952b8631": {
     "views": []
    },
    "5ee0d5942bd64f08add4ee6e9a7c28b2": {
     "views": []
    },
    "5ef900c5032f40d1b65583a79425a94e": {
     "views": []
    },
    "5efdc20a15314117b455465dd9244c84": {
     "views": []
    },
    "5f0041402fb642caaa5f256a6b8f05ac": {
     "views": []
    },
    "5f027f215c8945ca8cf8bf69b668f1e5": {
     "views": []
    },
    "5f03091b41f8495886e3f45fb90aea70": {
     "views": []
    },
    "5f20ef9bc50c4d569386ea6a80ad313c": {
     "views": []
    },
    "5f2258076ff44fb7b660b91d1a424d4d": {
     "views": []
    },
    "5f2f0a8902fa47899d22595ff47099c1": {
     "views": []
    },
    "5f9e3a4030af41b586b061596933c6b0": {
     "views": []
    },
    "5fb3022d169c4656a651de378de8c915": {
     "views": []
    },
    "5fc423a49a6446208a17cab69c1d5bc8": {
     "views": []
    },
    "5fcb6c927b194633a5043ede752d9db8": {
     "views": []
    },
    "5fd0307ebd1346c1a75a22211ab735eb": {
     "views": []
    },
    "5fd466306fb049fcb21782de9f281046": {
     "views": []
    },
    "6011580e61b5465183645ea1a745c502": {
     "views": []
    },
    "6069af5e265945d0a836372e6d0a81ff": {
     "views": []
    },
    "607cc80500a2402c9e86bc08fee104a3": {
     "views": []
    },
    "6093ba60da0c41b6a23ec9722d740202": {
     "views": []
    },
    "60a67e287463431bad2c1e39d6fff79f": {
     "views": []
    },
    "60d14c0ae2cf4e7085d712effc7e9da9": {
     "views": []
    },
    "61431a7052274f30942ff1fb7b60a0b8": {
     "views": []
    },
    "619d464d098644a09445b90a4775b1ad": {
     "views": []
    },
    "61a597e5e50e467fa94863d56b345126": {
     "views": []
    },
    "61ee002f97d74a56916c86256ab33a75": {
     "views": []
    },
    "6204e0e9859944729fa2164867dfec0d": {
     "views": []
    },
    "62075ec12cfd4e9da2391c34b04cb940": {
     "views": []
    },
    "621f4648bc8b4a4e9b4ccc5261c40cc9": {
     "views": []
    },
    "62210eaf571649759bfe3c41acd19263": {
     "views": []
    },
    "623639f0e94a43c78b492df0bf66a906": {
     "views": []
    },
    "624aba89eff8480fb6224eff6fe5ad43": {
     "views": []
    },
    "626de3919d744b28b84a6d709683ca20": {
     "views": []
    },
    "62af4ba5ee704a1c8d2c85a7187eab99": {
     "views": []
    },
    "62b6d2465a9f4f7a97cdce9818a4b575": {
     "views": []
    },
    "6314f932115447b59c982f797451608c": {
     "views": []
    },
    "631a074b91284445b53bea00d0cd52dc": {
     "views": []
    },
    "63345045dc3943798c9403fe43b44d57": {
     "views": []
    },
    "635a33914d2344a8bc4c124437b95327": {
     "views": []
    },
    "635d91e1ac484ab7951383a6406da4cd": {
     "views": []
    },
    "6376d1abd80f4af29084cff5f2ad01ae": {
     "views": []
    },
    "638a1b57e05d462c9a8ff0abf2c7291a": {
     "views": []
    },
    "639e8aad70d1439caa0ef3c9f123d332": {
     "views": []
    },
    "63bc3003dc394b70bb53c9aa174829ad": {
     "views": []
    },
    "63c34fd95cd745459cc33e2ee2623db3": {
     "views": []
    },
    "63cf6c0731c748b7ac08dbdcc7b83424": {
     "views": []
    },
    "63dacf178ec040848244995da36d2e78": {
     "views": []
    },
    "641a805299664353807e14996fda3977": {
     "views": []
    },
    "641d2ef058324263acc75658cddddef2": {
     "views": []
    },
    "643906ef810a4bd282f42f3e055839ed": {
     "views": []
    },
    "64443996ca0b45138b11e8ddc1cd399a": {
     "views": []
    },
    "647c55a77a174c7293474adda58bf9bc": {
     "views": []
    },
    "648850da0b0e40e18620b543eff10302": {
     "views": []
    },
    "648b4826d10540659386030c8a4d9978": {
     "views": []
    },
    "64bec51ce4104fc88f7576c47b1fcc8a": {
     "views": []
    },
    "650a8aa66b0142168206146987b50865": {
     "views": []
    },
    "6544f5a56ee341e59da08e95650f3b6e": {
     "views": []
    },
    "65452123095446a59d278ffba6d985d4": {
     "views": []
    },
    "654a75d628074452a869d68460a10ea8": {
     "views": []
    },
    "6582f849527141e1bef7df4ac697177b": {
     "views": []
    },
    "658a8fdea99249c292ed8429fc2b429d": {
     "views": []
    },
    "65e8ea5a247840ceba99412d9a4a796e": {
     "views": []
    },
    "6601c268f79946d9a3b6136402fb8ce6": {
     "views": []
    },
    "6632767d03e5460cb822bb497a5b696b": {
     "views": []
    },
    "6637efa466a14535b375cf964731bdc0": {
     "views": []
    },
    "6643a54899034749966030f164c08dd4": {
     "views": []
    },
    "6648fe7e78924c6f92d2ffdabc1e6271": {
     "views": []
    },
    "664ebc8588394da68dc80171582bb919": {
     "views": []
    },
    "6661ed81684f4d99981cce15ef545218": {
     "views": []
    },
    "66d2d80e354844e89d22d96271170d38": {
     "views": []
    },
    "66df920ec1bf410485e987d69ba985df": {
     "views": []
    },
    "66e1e4c8e0fd4e91bdf6ec243fb4aa84": {
     "views": []
    },
    "66eec8a118a348c2aea431002c10e665": {
     "views": []
    },
    "6736c197b2964d9a9a89321bd813267e": {
     "views": []
    },
    "6739658330f646819f7ee96f360f4e81": {
     "views": []
    },
    "67806176ef78480fa6b69bbeee0fd8ff": {
     "views": []
    },
    "67ff3be94ca84c83bc121a7dbf32c589": {
     "views": []
    },
    "680410ab27d548e086c564210589e574": {
     "views": []
    },
    "6808c4a1bbf3415092f2f72494c35b7b": {
     "views": []
    },
    "681eb7a4b49843e5aa5433364b9bd317": {
     "views": []
    },
    "6828b1f914104b9595997220f9d59f42": {
     "views": []
    },
    "6856bd1af33847dba18af52941df6257": {
     "views": []
    },
    "68776a85ed844733844646f3328e7d09": {
     "views": []
    },
    "68bdfafdfc724b41aac632ca577cb06f": {
     "views": []
    },
    "6930860655b844cfbd46bd849dfbdd48": {
     "views": []
    },
    "693e6d7be1f047b58f8f04ad379e791a": {
     "views": []
    },
    "696c297d68ec47d1a3a6d31c0ae4cf7c": {
     "views": []
    },
    "699da2d50b0a46089f22aac4879c9c14": {
     "views": []
    },
    "6a27d2e4432a43c9b8bc32acf3a7d987": {
     "views": []
    },
    "6a594b38e154496db06a3b902bf300fb": {
     "views": []
    },
    "6a6e90e7e08942e48ccf766c98f1c7de": {
     "views": []
    },
    "6afc212f7b9640bda19b28f85d8a4e31": {
     "views": []
    },
    "6b2d6c09a5a1483ca2734e30dad5417b": {
     "views": []
    },
    "6b33a04fd68f48a1bde526508ff40f7b": {
     "views": []
    },
    "6b5e09cb856949cc876454829f82cbec": {
     "views": []
    },
    "6b7dd45c0e064ce4b8562db10ee9685b": {
     "views": []
    },
    "6b8d9f0317414bdb8f6d3a202595b4fb": {
     "views": []
    },
    "6b9530b07ce740c2b920fd1930e6f1ee": {
     "views": []
    },
    "6b9c6e8e8e924f3193daf18f185efed2": {
     "views": []
    },
    "6bbfdde137834380a93edbe1c4dac3f1": {
     "views": []
    },
    "6c02746304e64403ac01e2885823620b": {
     "views": []
    },
    "6c1601cbaa1745eb8a7b93c74b5b1c91": {
     "views": []
    },
    "6c2dddc0f33d44cc827c3735b670276c": {
     "views": []
    },
    "6c5c1514a9274806afac8bcc6a577899": {
     "views": []
    },
    "6c78a5a4d6084495877225e917e78c4c": {
     "views": []
    },
    "6c823b02e79e497ba3f805d599d51746": {
     "views": []
    },
    "6c8e39b8622640a5be24cf22f6102018": {
     "views": []
    },
    "6cf1b42cb97f40f586453b8fd440d7e2": {
     "views": []
    },
    "6d0d783f48ee4b74a5055f290d1517da": {
     "views": []
    },
    "6d296781bb90448b928fd6a2010966c7": {
     "views": []
    },
    "6d38650bab67461f8581948f7be87362": {
     "views": []
    },
    "6d413db8922a4e90aed1794c44185118": {
     "views": []
    },
    "6d66cf9343b44408942324e05eb6d313": {
     "views": []
    },
    "6d699adbf371484e9f0f4b82796abd35": {
     "views": []
    },
    "6d8adde0159f43b28d2b7e92924ec48d": {
     "views": []
    },
    "6d9ece98344349c8889fbb4c48276e31": {
     "views": []
    },
    "6da22a433e354af4a2d5b0c5499be86f": {
     "views": []
    },
    "6ea2f4479fe941a18e1b15eedc319658": {
     "views": []
    },
    "6ea8aa51f8614517867cf81881d46561": {
     "views": []
    },
    "6ec909ee4fdf4837a9b83566bacb40b6": {
     "views": []
    },
    "6ecb74cf38f74ec0997c11f040c93bea": {
     "views": []
    },
    "6eda9e410c394ef3936d0c60853f2a22": {
     "views": []
    },
    "6edbc873454544038faef0ce050c4da5": {
     "views": []
    },
    "6f0207ae8b9a45eaa97c93592a695bbd": {
     "views": []
    },
    "6f02709071b0448984bb8852807bf2dd": {
     "views": []
    },
    "6f02c0ea16ed41a5b9c1d946cff677cb": {
     "views": []
    },
    "6f0e449d800540c681a4fde1056255d9": {
     "views": []
    },
    "6f1376d30c3b4052ae65e545057bb4bb": {
     "views": []
    },
    "6f196728fa0e4de7a767a6129e88e5cc": {
     "views": []
    },
    "6f9cc6f03e1a46afbdab312d8dc24bd1": {
     "views": []
    },
    "6fafc8d317e546f884b81a22e9e27e7d": {
     "views": []
    },
    "6fe0c1f150544dd7bc29d9a4fbff88f6": {
     "views": []
    },
    "700e396c271749dea6838e5087aa5378": {
     "views": []
    },
    "7026426b204a4d76a4d223f917104329": {
     "views": []
    },
    "7066e83b415c4bbfb517b0f14ed165e8": {
     "views": []
    },
    "70b379229fa64ec3ba0f51600afa1e2f": {
     "views": []
    },
    "7114266f5d7b48ae9f070096b735a85a": {
     "views": []
    },
    "71199a1c2fcf42ffbc3c452844607c6d": {
     "views": []
    },
    "7131061fe9bf4b5d86da15fc52f4961e": {
     "views": []
    },
    "71422b55ad8a4dc088c7cd86c72253e2": {
     "views": []
    },
    "714e7e4406f64995aeb8a9286e6b3e35": {
     "views": []
    },
    "715bc6864b3347a1834ca0764034ad6a": {
     "views": []
    },
    "7167e62164ab43a1a142fb61d3b52709": {
     "views": []
    },
    "719fba9f9b304052aa058220e2e135f6": {
     "views": []
    },
    "71ac6dffefe84b18af9de03876c42798": {
     "views": []
    },
    "71cc0f09f652464daf18980ff16995a5": {
     "views": []
    },
    "7241199508774367b0fc2a9fbbc3d838": {
     "views": []
    },
    "724f3fe773744e0f927707f4e87b02be": {
     "views": []
    },
    "72f787698bb64d31a6bd15d92189c1a6": {
     "views": []
    },
    "730d107f7bb344e29cc1c3d61791741f": {
     "views": []
    },
    "732c585d180245ba86e1881e6ce796b0": {
     "views": []
    },
    "733c6d4b25d748a2a282c0901a9290ff": {
     "views": []
    },
    "73a3d53d78964aea8126af5e69d5e627": {
     "views": []
    },
    "7404b7cc1a664d2eb8c1b7c513b1806b": {
     "views": []
    },
    "74174bbe45754b568ef55a5e6d294160": {
     "views": []
    },
    "7422ee987a9f4a67b7597dec1a3b6219": {
     "views": []
    },
    "74261a6e901541a3b4625df1656e2ed0": {
     "views": []
    },
    "742d92ac0dd3472c9459d3ba8d4ca2fb": {
     "views": []
    },
    "74638917bd4c4f129c0d5fb7a21b7fb1": {
     "views": []
    },
    "74894cb0a66c413db0921c678dc9e174": {
     "views": []
    },
    "74d237bdef4744dc96a2f56f1bc11ad2": {
     "views": []
    },
    "74e5c4354d244d5ea65067e5bebc8443": {
     "views": []
    },
    "750986e4aa074334b796833565db1b96": {
     "views": []
    },
    "75327ffcbe37495589ad84daa780e787": {
     "views": []
    },
    "75498d02b8e34c38a42fff1ca3d27946": {
     "views": []
    },
    "75540524a6e3462b88c857fec9b8e434": {
     "views": []
    },
    "758e020888dc458cbd3564eaa25560f2": {
     "views": []
    },
    "7592f7b9158c481f864c572333adb438": {
     "views": []
    },
    "75adf9bfe01f4670b951b546825856cc": {
     "views": []
    },
    "75ccb5539a994f969749a7fa03f70183": {
     "views": []
    },
    "75d948bfb5bb49e385b8018b2a173640": {
     "views": []
    },
    "75ed8f41ff044934a188c295caea8ae7": {
     "views": []
    },
    "75f908c00d344f508fdaf4cfd6718747": {
     "views": []
    },
    "7611a9df7fa84edcabaebd2de25c1192": {
     "views": []
    },
    "762779f664d1414292b8f9464618f33a": {
     "views": []
    },
    "765f2e46148b404f9db72c889e34f4ec": {
     "views": []
    },
    "768d737b6c514152bfe8240ab850df76": {
     "views": []
    },
    "76b83ca10eb04c86934f83f9d97b1369": {
     "views": []
    },
    "76baa3ebf5f64cfb96310bdd636932ed": {
     "views": []
    },
    "77288272543b4642961cbc9a169533dc": {
     "views": []
    },
    "773d54557e604ddbb741f2deb8e957e7": {
     "views": []
    },
    "777eb5e8e98149c7af0c15b49dd5a8e3": {
     "views": []
    },
    "779911c3e20142a6863f38407f47972e": {
     "views": []
    },
    "77b15582f7d64bb8bcc1e2ad42732ec5": {
     "views": []
    },
    "77bcf8ff57b54c6ba5321982b7f8c047": {
     "views": []
    },
    "77be4f90584440c38ac3386861b55e25": {
     "views": []
    },
    "77e4a81ec6bd42bd91a89008557eb02f": {
     "views": []
    },
    "77e5a831409c4c7584d40f2406acd246": {
     "views": []
    },
    "77e7d0f567594e92b377453cea073a74": {
     "views": []
    },
    "77ee36acc03f4b2093258091bcd6522b": {
     "views": []
    },
    "77f76cf98be74313b7315b91843ce79f": {
     "views": []
    },
    "78218855d8ec4a708d63a74660820b33": {
     "views": []
    },
    "782ff7a33caf4bf19e5ff8ac193b8542": {
     "views": []
    },
    "7835c0fa707946989a75167290817722": {
     "views": []
    },
    "784eddb844f34730aefaf64efc12b461": {
     "views": []
    },
    "78ba776e6c334256a237559dfedef61d": {
     "views": []
    },
    "78dbe97197134bf5a96af1d5cdf587e8": {
     "views": []
    },
    "78faafb899c244c687dfc5f0ecfc592b": {
     "views": []
    },
    "78fb248c67ad420da6a75441898fa519": {
     "views": []
    },
    "790740f6dada4044ae109ba4ca264950": {
     "views": []
    },
    "792f85307824474ebf43555488872c88": {
     "views": []
    },
    "794a4c4e12d9440e896c905bdd89d426": {
     "views": []
    },
    "794e2269ee9d48c49b4cca2f22d88196": {
     "views": []
    },
    "7956d7c191bd45c38dfec3a22b3a9467": {
     "views": []
    },
    "79a2ee280fa747d08b2aecbe6e5474ea": {
     "views": []
    },
    "7a07a9ea7f1c4aad82759f748592c8ae": {
     "views": []
    },
    "7a10e422fd0542fb99a8a7eaf9d93732": {
     "views": []
    },
    "7a2c730aba684bbea728e0e88b3b5553": {
     "views": []
    },
    "7a364413010849be8f025ab116ee7a66": {
     "views": []
    },
    "7a40a27619f84aec89cda30a600dc3dc": {
     "views": []
    },
    "7a6cfea3d0a34a05aff093efce7fc3a8": {
     "views": []
    },
    "7a9ac2d3a77e4c2cab5a9e8863aaee97": {
     "views": []
    },
    "7a9f65dc62c54d169c4ef7d1ebd951e0": {
     "views": []
    },
    "7aa75a51d23a416d9fe3807dc617036d": {
     "views": []
    },
    "7aeec79d7ed64275a21bdaf262ccdd7d": {
     "views": []
    },
    "7b0d54957e3f4b85b07b9d42317a8fd9": {
     "views": []
    },
    "7b0d5ef2871b4c478fca289847d6bc03": {
     "views": []
    },
    "7b2fb96ec7c54e4585c591f470cc70a6": {
     "views": []
    },
    "7b40228fa14d4d0faf52d19c6171912e": {
     "views": []
    },
    "7b90ac0077ac49328c320740b7c119ea": {
     "views": []
    },
    "7bc2688ae5d2416cb3f4c6d9d32b49c8": {
     "views": []
    },
    "7c1cad9523834ed285dc92d340832792": {
     "views": []
    },
    "7c3f357e270a4c438cac574dd17776b8": {
     "views": []
    },
    "7cc58d0564cc44c9bf671a1be5fb0e28": {
     "views": []
    },
    "7cc6c6a8adf34c8e9254d76a429eccba": {
     "views": []
    },
    "7ccf69e668614b1fb5558bd168f2228f": {
     "views": []
    },
    "7ce8fea22a884e0497931bd0a2805913": {
     "views": []
    },
    "7cf41e03559f4c24b3a7e93ed121294a": {
     "views": []
    },
    "7d0e7f0ec5204c7a879991577c2c690a": {
     "views": []
    },
    "7d3d49da2cef4674a1c8bdd70a81d305": {
     "views": []
    },
    "7d4cc97fde1d46ebbe129f3d7d8bbd57": {
     "views": []
    },
    "7d772ada3a1c408ca89974d2ac33a336": {
     "views": []
    },
    "7d7fac6b2c2c4a58b98e86a3043c52f3": {
     "views": []
    },
    "7d80e66916e64a40a1accd4bcb07a43e": {
     "views": []
    },
    "7daeb72c21eb4849ab5312ff0e83e78a": {
     "views": []
    },
    "7db367d56fc34981bdeb2dc1a531647e": {
     "views": []
    },
    "7de2a6ed2f744c449e8b461c5e2b5d93": {
     "views": []
    },
    "7e1f040ef4144f7e88183ff301ae71c9": {
     "views": []
    },
    "7e25c8d59fb34fe49fe57cbc03d96115": {
     "views": []
    },
    "7e30e2e0ff7a4780bcdaeccdba8c656b": {
     "views": []
    },
    "7e5125fd050a4957b1b7d424bbe4b2a9": {
     "views": []
    },
    "7e6578200a4d4f5fa17691a0a8014790": {
     "views": []
    },
    "7e9df293d1a74263993cb62462d36f91": {
     "views": []
    },
    "7ec36f905b3e49ffa4d424cbdb329577": {
     "views": []
    },
    "7ed5b96fec3040029de3d6ec113e938b": {
     "views": []
    },
    "7f210d89fde34e3092d0f4e69edc52a2": {
     "views": []
    },
    "7f2f3088595a4ead9c054f4307a54b6f": {
     "views": []
    },
    "7f824cfd9ca346bf9f6c62e624d61cae": {
     "views": []
    },
    "7f900661ae154e7ebbbf907376141e43": {
     "views": []
    },
    "7fb5bf4f50424e96b74f8fbcf2a4e18f": {
     "views": []
    },
    "7fbe3bf9c8754977b73db67b3ece3b74": {
     "views": []
    },
    "7fc43516546e49c58ca2dfdee7e18057": {
     "views": []
    },
    "802ba2a5a5ae43b38808405774537fee": {
     "views": []
    },
    "80330aa6e3334f8092dab9dc2494bfd1": {
     "views": []
    },
    "808584348f464bd3937da2d5069ccb76": {
     "views": []
    },
    "8089a9306e63462faeef3e30869647a9": {
     "views": []
    },
    "8098c868b100451b8c678cca9f722c0a": {
     "views": []
    },
    "809c6ce29a974b8fa489c573a8557595": {
     "views": []
    },
    "80b05584d2374f5bb8ac09f3ba6b46d8": {
     "views": []
    },
    "80b25a10f2d74394b4a025eae4ec1521": {
     "views": []
    },
    "80c5f88a0da040fdb36755fbcaeaeaa0": {
     "views": []
    },
    "80ce258fb07e47f4b412cc5d14352bae": {
     "views": []
    },
    "80db171248a948b6a4c1ef386ad4b34d": {
     "views": []
    },
    "80ec9109a73345b1ab2f4490053291ca": {
     "views": []
    },
    "80ee7a5fe8b2422e87ccc5287965e8b2": {
     "views": []
    },
    "811b04d36c7945a5b5072c5f08afa1f9": {
     "views": []
    },
    "8127803afc004250858a960becc90de1": {
     "views": []
    },
    "812c705d35804ea685fec85eb6413dff": {
     "views": []
    },
    "812f9b84af3f468c8a41f2ebbc630e56": {
     "views": []
    },
    "816b3ad2f8c5427cb0dd989b28ad1b34": {
     "views": []
    },
    "81815c59da3e4eadb378018fe6166baf": {
     "views": []
    },
    "8219e5e2dff1447980c7a0c1108e09d1": {
     "views": []
    },
    "82348b4b48e647aaae96c559fc883f61": {
     "views": []
    },
    "823ec74c027745f39ecfee1468e344f0": {
     "views": []
    },
    "823fb87c760949018607a09f72c6b593": {
     "views": []
    },
    "824abcecf09d4ce2bd922bc17d09d9bc": {
     "views": []
    },
    "8256d8dd2eb445cf930c85bf06cce225": {
     "views": []
    },
    "82667f1d0bc347c9aaf089e333b98b87": {
     "views": []
    },
    "826f39dd48ec4394bec6cd9fa9be8181": {
     "views": []
    },
    "8274e6aca3b04c4fb04e4802881584a3": {
     "views": []
    },
    "827a704b710f4375b0c1aeb0313ca7f7": {
     "views": [
      {
       "cell_index": 8
      }
     ]
    },
    "82995a9998f940c18a346a7fffa15b45": {
     "views": []
    },
    "82a3b145c8f643e1a9f95c3cd8f65f58": {
     "views": []
    },
    "82b9ad7a94ac4c13a48718c01c8bd233": {
     "views": []
    },
    "82c1594ad8d642a8ad8ac94934e8f645": {
     "views": []
    },
    "82c23cab23da494aa527d2f56ebdedda": {
     "views": []
    },
    "82f8cf26b727492087291051f8715ed0": {
     "views": []
    },
    "83042306a62c4f618ca9374f17ca116c": {
     "views": []
    },
    "83274af47b7942969a18c8e5f877c375": {
     "views": []
    },
    "83571e7c921f4b4fa693ebfda9010477": {
     "views": []
    },
    "838d949ebea54458a99d806efa905fb7": {
     "views": []
    },
    "83a3b16a1f5c40dfb8ff984386d4ce2f": {
     "views": []
    },
    "83d6d72a9f814068a6b765da7b8df6ff": {
     "views": []
    },
    "83e8bd046cf04e259e96708066bf3c0d": {
     "views": []
    },
    "83ec1fd7b297412ea84ecffed994d53d": {
     "views": []
    },
    "840ffbea70a5447ab39a6cf5df7f4a9a": {
     "views": []
    },
    "84143a13a2864d819dca82cf407caf6e": {
     "views": []
    },
    "84795753d28e454e8a212ec36a637987": {
     "views": []
    },
    "84a3a942266b413984d771553bd4f3ff": {
     "views": []
    },
    "84ce0b252d0447748bd7bd45d1184e0a": {
     "views": []
    },
    "84d9a8c576e3427298e35eb406b1c001": {
     "views": []
    },
    "84e6793de2004ed5951eadee9bdfbd5a": {
     "views": []
    },
    "8501d5f5dd1a44ceb7891e24c50a6db4": {
     "views": []
    },
    "853d16ab434e4bceb8b9c10df5137265": {
     "views": []
    },
    "8558bc40c7ce4e39a9fbdb43aa990b45": {
     "views": []
    },
    "8578201e1df8479abb623c126371a808": {
     "views": []
    },
    "857e0cd0e21b4375b3f3f783bfc00da9": {
     "views": []
    },
    "859236ae4f794caca056a11ec6999ba5": {
     "views": []
    },
    "85d6840bf85548dba16fd512c60312e3": {
     "views": []
    },
    "861b897fad4d41b8bff016201fe879d9": {
     "views": []
    },
    "86527e00d3a14e72904135ca8f6b85dd": {
     "views": []
    },
    "8675829489b64d35917dd9e110255456": {
     "views": []
    },
    "86a8ef9a250b4784b902fb3c4fa4af66": {
     "views": []
    },
    "86b59056dc7c4f12929b141fa2e7f87b": {
     "views": []
    },
    "86dbb0adb6f4403d9ba631d0c464ef95": {
     "views": []
    },
    "86f77d5b04c54c3fbc060eb1cebde4f1": {
     "views": []
    },
    "8725acc8b39c4b1894e4537d8fbd63e4": {
     "views": []
    },
    "8787bbdc051d435986f92d1ec1645e2e": {
     "views": []
    },
    "8807bd22036b45d9b2d980f2add1ce00": {
     "views": []
    },
    "880da92f14de4a1bad6beea2391728d0": {
     "views": []
    },
    "8829b573136348a1a2bf0b1c190de0e7": {
     "views": []
    },
    "888d11ef0d1c41ae9cfafd086c5dcef2": {
     "views": []
    },
    "88a55e9156f24ce39af24d23073d7a8a": {
     "views": []
    },
    "8940b8557652415a9010d06773077e63": {
     "views": []
    },
    "895dac68961d4fd195fb8ccb2b1b0617": {
     "views": []
    },
    "896087bebd2a4087ae0c4779badf39a5": {
     "views": []
    },
    "8972d0c2520045e796eb7afb5ebd35fd": {
     "views": []
    },
    "8973bd1ed50e401fa5d89169acf8cb8f": {
     "views": []
    },
    "89958b30c2774c37afca004681189566": {
     "views": []
    },
    "89e2fcaa5fe14df6baee1dfbcb5dacf5": {
     "views": []
    },
    "89f722c1015a49d896e64419c19411df": {
     "views": []
    },
    "8a296f7c4d734ff494e946e8a5f84333": {
     "views": []
    },
    "8a4af6111f564de1b0b924e8d06a314f": {
     "views": []
    },
    "8a5171495c4e4375af0d3ca78b62bf87": {
     "views": []
    },
    "8a624a06a00944ff85d1f643f152529a": {
     "views": []
    },
    "8a7d552ce5d54f27af5ba8bce80d5cce": {
     "views": []
    },
    "8a7e1948716e444dabdd42bd8c58dd9d": {
     "views": []
    },
    "8a98d93fdc3b4fb395a100f7d4457543": {
     "views": []
    },
    "8abbd6adf56b4d159717606c0eda6207": {
     "views": []
    },
    "8af34530941545df9e168032c89a20c3": {
     "views": []
    },
    "8b1128b421a047ae873220634c5257cc": {
     "views": []
    },
    "8b3ebf1a6fde43a3bfa28dd46477358b": {
     "views": []
    },
    "8b7daace1669467684190bee78958cea": {
     "views": []
    },
    "8b9ca677b1bd45a7aab8710b46afc9e0": {
     "views": []
    },
    "8bc491576c344e098df5639ee2a6810e": {
     "views": []
    },
    "8be35e85abfd45b0ac87a93240722a08": {
     "views": []
    },
    "8be53bd8fc184529a02ee257a771d2de": {
     "views": []
    },
    "8c00c7772dc043ae952827739ea2543e": {
     "views": []
    },
    "8c146a159dff46e7ac808fe63b084f6a": {
     "views": []
    },
    "8c2ca3e7c0cb4721825bcb6c609cdb6f": {
     "views": []
    },
    "8c2f777e36b746e3b8e878f982394f7a": {
     "views": []
    },
    "8c3742c4bc9a49f6811f76592ba7b12d": {
     "views": []
    },
    "8ca6a90d78214b1982b0364298fb5348": {
     "views": []
    },
    "8cd29ff06e92433199e98796260e47f3": {
     "views": []
    },
    "8cdaeb54ea9a4120b3873aefc8f1b279": {
     "views": []
    },
    "8d02fa4fb05644b4b81e2e28ab031d5e": {
     "views": []
    },
    "8d2926dc41304cfa85bc83d3150da4fc": {
     "views": []
    },
    "8df1180ce66f4b25bd3d4299f4052394": {
     "views": []
    },
    "8e496f41a1c04e0f93cf6dd32bd0735a": {
     "views": []
    },
    "8ecc0995185d4b44a0e994e9e9aad8f1": {
     "views": []
    },
    "8ed892693c4b4844b8b1381d6b9cacd1": {
     "views": []
    },
    "8ee708c9b6a14f518879f8b5f3abe02d": {
     "views": []
    },
    "8f0b4571a0e348a9828d41d07000f9b7": {
     "views": []
    },
    "8f26d04b81f9488c9fc8b2ac720eb478": {
     "views": []
    },
    "8f7b965860814a848153cc04a6025b35": {
     "views": []
    },
    "8f81bcd9ba0646728558aa0809fa8d85": {
     "views": []
    },
    "8f980da19b794d38bbe72d1b24f4d919": {
     "views": []
    },
    "8fa7999a5bcc47e98a8b604992ccdde8": {
     "views": []
    },
    "8fd618055f3a45feb4e3f4830ccd6420": {
     "views": []
    },
    "8fe2e30a48e9406e98a6c8472161ba60": {
     "views": []
    },
    "90197af062554a1d95901a8a4c34e99f": {
     "views": []
    },
    "901b5c650e384c04a83dc7bc8f03232e": {
     "views": []
    },
    "901ddbffc9a44d2bb89c45bb89094e85": {
     "views": []
    },
    "903c68bafb7849448baa9c3e611f1ef5": {
     "views": []
    },
    "9051d0cacd4242e1a7e9e64d5bc24784": {
     "views": []
    },
    "9086b94aa07b44d5a2ef45ae9d85077e": {
     "views": []
    },
    "90a3c7e104bd447b823f800101ef01f7": {
     "views": []
    },
    "90a98c6501e54c9ba21a1f4036b1c3d4": {
     "views": []
    },
    "90a9b7cfa2d040f288d3412906d25e76": {
     "views": []
    },
    "90bbb37508a64950b6aed93a379b7216": {
     "views": []
    },
    "90c950cb62564ad99dd7e809581b0c50": {
     "views": []
    },
    "90d7feee599e482485933558eaf7467e": {
     "views": []
    },
    "90e00ba94c86410d8042bddf357669ad": {
     "views": []
    },
    "90e0a6abdd8a406ab0372a70af37a8fd": {
     "views": []
    },
    "90ee368a996c4414a61001dba435b1b9": {
     "views": []
    },
    "90f4bb75a4e648c9a37be81dd3b1339e": {
     "views": []
    },
    "91451fee9bfb4bb38ee3909d60937094": {
     "views": []
    },
    "9151e9c548fc4f2fada715a800b7e30a": {
     "views": []
    },
    "92074d49dd3a4760b2c0bb3ec84a59d6": {
     "views": []
    },
    "921c4d22b19c43f0a28d43b9e155932e": {
     "views": []
    },
    "9246802f41e34b579a9bf23acc124d54": {
     "views": []
    },
    "926a786bc1aa483eb3c8187cc238c060": {
     "views": []
    },
    "929ef1f09444428094e2b0558a381e7b": {
     "views": []
    },
    "92cc229046934170ab7e3be29900a5b9": {
     "views": []
    },
    "92daf6d6a10f4fe5ac8272ac392c2431": {
     "views": []
    },
    "93152149c03d46ae8f1ec01a554e52fc": {
     "views": []
    },
    "93263be8060c4f7cb8869e0ba0c78845": {
     "views": []
    },
    "93302e227bd94d9886ac8afdcfbd08b5": {
     "views": []
    },
    "9333f1496b78469a8617db88d5d75c10": {
     "views": []
    },
    "9354dace170a4cf599344bd8f878d897": {
     "views": []
    },
    "9362d02a63784eeab949c0f9cb46c634": {
     "views": []
    },
    "93856d45d32247e2836069fc6c1cc4d4": {
     "views": []
    },
    "93fe531572264bf5b5799ad633d750ae": {
     "views": []
    },
    "941520f5bd734437a5d0c140a70faa86": {
     "views": []
    },
    "943644858737459aa42ae049cc410184": {
     "views": []
    },
    "9485e4a761d44a5aafc55a0af1195b99": {
     "views": []
    },
    "9492693f13b7408f9ab4394a50fb8354": {
     "views": []
    },
    "94adf8e19f2d4326807366047e02e1fc": {
     "views": []
    },
    "94dc8b835f64417d8960986aa5471778": {
     "views": []
    },
    "94f9a651aeac4c139d5c5513d2f56ebe": {
     "views": []
    },
    "9524367e318849be977667f6b102ae65": {
     "views": []
    },
    "952e914f668c4f3a9e2fe8f5ca9e3d3d": {
     "views": []
    },
    "9572567b7e734576923f6761e46348d0": {
     "views": []
    },
    "9592e788cce1468cb368b79e4745d85a": {
     "views": []
    },
    "95b14092a16b49cd816af4a07c7381b1": {
     "views": []
    },
    "95b6e0ed379d4f3598ef5dc983ee328a": {
     "views": []
    },
    "95f13a01aa4e42d1901dba794a49c313": {
     "views": []
    },
    "960b4ca86872442086c3b8298bdb8008": {
     "views": []
    },
    "962aa2a03efa43bb9755ba0fdda0f69b": {
     "views": []
    },
    "963ecebce8874097b0a9924a69367856": {
     "views": []
    },
    "9682de468ca346e2a802c62d92a21258": {
     "views": []
    },
    "968cfd65762940ceb876f3a2a3fcd0e8": {
     "views": []
    },
    "96dd9a993f88429b90cd59011dfc7cbd": {
     "views": []
    },
    "970c0eb3833d4f3c95a9680934d5218b": {
     "views": []
    },
    "97664d9f578b4312b1bc9b5908353063": {
     "views": []
    },
    "97829ef7d1d84411b10b2e6464649644": {
     "views": []
    },
    "978d5ca3153645369efff2410d6d0440": {
     "views": []
    },
    "979baf1f1602465e98a10064e417ea22": {
     "views": []
    },
    "97a0921a8c2a44d59eb559b11eb89b23": {
     "views": []
    },
    "97dc4331fb9e4c4db40993ea81541154": {
     "views": []
    },
    "97e6d4c8b65a4bff990b554be4cdcde7": {
     "views": []
    },
    "97eaf58a5aba483790026936d8b66bb7": {
     "views": []
    },
    "97f56fe01fe84a9696f615006e968a89": {
     "views": []
    },
    "984338d7feae4e48ab25ece0b78335b4": {
     "views": []
    },
    "985ab45f45af4080bdd7dead92b82180": {
     "views": []
    },
    "985d34e1fbfa464ca97cc154be66b7be": {
     "views": []
    },
    "987527785ae24c26af8f73c675bf4daa": {
     "views": []
    },
    "987cdb4389424322ac7082b63cbb8f34": {
     "views": []
    },
    "99170690f7f849b5a5ae55f039d1f9ba": {
     "views": []
    },
    "9940c0f9473341f986b4a7dd949fe332": {
     "views": []
    },
    "9946c81cd8f04e4db4ea63add44687fa": {
     "views": []
    },
    "99622896f6b94d0480a0fccbb6d0bb23": {
     "views": []
    },
    "996816e39b8d44aea0b6be2cc51dbb23": {
     "views": []
    },
    "996d6afe3c2244b2beb108d6b208ed4f": {
     "views": []
    },
    "997d455727d446dbb01374c684a7f596": {
     "views": []
    },
    "99922d5ca0ab453d91d8b888680250b7": {
     "views": []
    },
    "9993587b1b8f43b7b22600bcac7fff25": {
     "views": []
    },
    "9a0145162e6146ac88f40549bbbf1159": {
     "views": []
    },
    "9a03703815524f3b915b5c659c79c7c9": {
     "views": []
    },
    "9a1650b090d44fbaab9710a06659f020": {
     "views": []
    },
    "9a2921b4b1c14c64a8f64274e0441fa7": {
     "views": []
    },
    "9a33016946ca4a41b4b322535f3771d7": {
     "views": []
    },
    "9a3ad8e6396c4eff9dbadca89b36b7c5": {
     "views": []
    },
    "9a41dba8ab9c4d139f79c0b82a1bbcac": {
     "views": []
    },
    "9a896cfe8bdb45828d652cb4d8444187": {
     "views": []
    },
    "9a8a37b61b784f6d986621d616816bf0": {
     "views": []
    },
    "9ad7790b9ef1469f86beca8a6c0e98d4": {
     "views": []
    },
    "9add821f976b4d139547989242102f61": {
     "views": []
    },
    "9ade55aed4144077926ac77f6d3067ef": {
     "views": []
    },
    "9aef8a4e69b942bcabf37349289509df": {
     "views": []
    },
    "9b5b3af4c11743e59f8a8ca1cef05029": {
     "views": []
    },
    "9b7a33b07cb34b7496ef0f6db29111a5": {
     "views": []
    },
    "9ba4a9ed705343828f3b0ca31766c2d3": {
     "views": []
    },
    "9bdd9145e8024d59adb1a2515773aaec": {
     "views": []
    },
    "9bf487c8a1e34bbcb80cf9a6d16d6ddb": {
     "views": []
    },
    "9bf525bfb52c43edba51cbae01d84ba4": {
     "views": []
    },
    "9c1bdfa646024e7fa9c9943b72a9f98d": {
     "views": []
    },
    "9c2498c7ab9a4858a606403c93ad16b2": {
     "views": []
    },
    "9c2b7380e63d46458760b24f9e6badba": {
     "views": []
    },
    "9c2d44cb2a314723b4924905180ca6c9": {
     "views": []
    },
    "9c402ed497f6443f9f49275fe581c992": {
     "views": []
    },
    "9c415160330c4e6291aac65b25c2a3a6": {
     "views": []
    },
    "9c8cda8c79ad4b05b9c5d6643740d631": {
     "views": []
    },
    "9ca4a1916724418dac6043f13e163e28": {
     "views": []
    },
    "9ca623707860410a9892924da206a1ca": {
     "views": []
    },
    "9ce0af3fe8b44078a721c8b64cf0349e": {
     "views": []
    },
    "9cec5321cece4e84aaa9920fa614d54d": {
     "views": []
    },
    "9ceee16f23db428f962439471690e6b0": {
     "views": []
    },
    "9d08dbf94dd44ed8819216263ad476c5": {
     "views": []
    },
    "9d323dbd56524bb08e9242d699951e16": {
     "views": []
    },
    "9d57da83202242028ab8cc34bb3b22b5": {
     "views": []
    },
    "9d64edaf67344a28b98ec237481094fe": {
     "views": []
    },
    "9d923eccb68e4f5391ff4149c1e349c3": {
     "views": []
    },
    "9db3754f31524fb99fc1f1f946784fdd": {
     "views": []
    },
    "9e43cde22fd243429d0f5cd1e435631a": {
     "views": []
    },
    "9e65619e60e94e3d9e4cc1f5bd128d92": {
     "views": []
    },
    "9e7cfe32487a446ab88e187abf6160ba": {
     "views": []
    },
    "9ea501986f54467ca11923f4497b9f05": {
     "views": []
    },
    "9ed148f09eaf481485410645ec17a354": {
     "views": []
    },
    "9edb3807e9684907b349cb6a63d308f3": {
     "views": []
    },
    "9f24d0bbec8944679cf2cada577df3ba": {
     "views": []
    },
    "9f8301a0852443efab4e2f4e29a1399b": {
     "views": []
    },
    "9f84da5a42b84a95b6cfe012b0293a20": {
     "views": []
    },
    "9f967627f280440d8aa224ed81b52fd2": {
     "views": []
    },
    "9f9cc199120c48638703cfb1ebd0e665": {
     "views": []
    },
    "9fac7f3c88a64c9a81b8b0bf776c468d": {
     "views": []
    },
    "9fb524de2e3d4a57b81d7faebb9642e0": {
     "views": []
    },
    "9fb5c23c89eb4cd98f0341e18a606e42": {
     "views": []
    },
    "9fe9027abffb4a6fa9abb320494c4bdb": {
     "views": []
    },
    "9fed9c7b639d40998727f879b4506b1b": {
     "views": []
    },
    "a05d4a52ecc947cdaacc4ea1acde2754": {
     "views": []
    },
    "a0625ed5ebe143578a3d514dceb1bba1": {
     "views": []
    },
    "a081f34875314abca8dac82bc3eff528": {
     "views": []
    },
    "a0931e2ce9cf4d6ea0f36e663593e7bb": {
     "views": []
    },
    "a0badd71b5e9417d80e9929515b3d00b": {
     "views": []
    },
    "a0da126dff6c4f0fa1b61a73b1643cd9": {
     "views": []
    },
    "a0f6755b89cf416782bda41e5ce50bbf": {
     "views": []
    },
    "a1197ccecb5c41119ce2eb30bf677198": {
     "views": []
    },
    "a13c40c0d8b541ab92f145b3a7fae1d0": {
     "views": []
    },
    "a16089efbdc44978aa6eae5baf2921cd": {
     "views": []
    },
    "a1da26d3fccb44d08690837412f63d4a": {
     "views": []
    },
    "a1e02e9b0d9a4ad9ae8f2cd7d6844bb7": {
     "views": []
    },
    "a1ed5165eee2452dae6b240c42fed9bb": {
     "views": []
    },
    "a1fb7342cf43488aa81bbf7af9854092": {
     "views": []
    },
    "a2083fc772d94f9da3b9b798b2a107bd": {
     "views": []
    },
    "a2265ef6dfb5419da73b970604dcc5b6": {
     "views": []
    },
    "a243db038b6348598192f82b70c64442": {
     "views": []
    },
    "a250894603c147d993d51a9867e77648": {
     "views": []
    },
    "a278b7def1b1431ab8a0ed80a291f1da": {
     "views": []
    },
    "a298d77cce92486fa850dc85431e4334": {
     "views": []
    },
    "a29b676aa3b8433e9c560fde0c6c7efd": {
     "views": []
    },
    "a29e5a1e327f41c58068eb369e22ee45": {
     "views": []
    },
    "a2d00d4457384949a3da6debe744799e": {
     "views": []
    },
    "a2e93910dd3e45ae86317370fe5bd32d": {
     "views": []
    },
    "a2f3879d9de740c4960381a984345bad": {
     "views": []
    },
    "a30fc88f9e684b439d4f9d26e48c1c01": {
     "views": []
    },
    "a35e49e78db641b5b4682755b7777691": {
     "views": []
    },
    "a3a793b47a30477fb1217261def59969": {
     "views": []
    },
    "a3c46de695964a76a230430f44a87cd2": {
     "views": []
    },
    "a3fbec0cee8d4cf4a4c1881e644ac7bf": {
     "views": []
    },
    "a400e28917884b9a999e8a983e970307": {
     "views": []
    },
    "a409e542d4ab474a821e804d892ca098": {
     "views": []
    },
    "a4c05ee3b04246a48c9084b9b4bcc182": {
     "views": []
    },
    "a4c0921860414c43ab679b84cdc2508f": {
     "views": []
    },
    "a4cd1f57117a47a986bfaad29ee226cd": {
     "views": []
    },
    "a4ed66a202d941cbbcdab4b86c6e122d": {
     "views": []
    },
    "a4f90a695cae48a5ba19b6e4b3aa7e77": {
     "views": []
    },
    "a523fb89c58a49d0b08ba41d192da107": {
     "views": []
    },
    "a526766d89d94a42924fb9c09fc2143e": {
     "views": []
    },
    "a54d0ee9e0cd4ac1b02d35f37826f3da": {
     "views": []
    },
    "a5569eede97f4fffbb63f0a5f448399e": {
     "views": []
    },
    "a5731e9ea9db406f8f0bde231618a9e9": {
     "views": []
    },
    "a582d76d1dce480a87752e4ae5d4a15b": {
     "views": []
    },
    "a5a6b079c3d8427d84ea8566378de2ca": {
     "views": []
    },
    "a5c2aee705cc4032a13515c31491ab35": {
     "views": []
    },
    "a5db6d8c6ea3438eb549d5b08604a9af": {
     "views": []
    },
    "a5f35160567f4fdd88fa5318a6bf0d71": {
     "views": []
    },
    "a612f97443dc4236a3e491275c831df5": {
     "views": []
    },
    "a621690f269744faae9f753e708d8582": {
     "views": []
    },
    "a649d2a6a35c4cedaff6a0838bf372be": {
     "views": []
    },
    "a64de0dd7b234fe3bbd8c4722c7e424d": {
     "views": []
    },
    "a6551dc2e16a420f893399e3fb803332": {
     "views": []
    },
    "a69b7c3390f34fd9b00dfd14855336c6": {
     "views": []
    },
    "a6c4abba4fc3425c8269f3608354b543": {
     "views": []
    },
    "a6cfc74d51ce4bf9b182881f06b47eb9": {
     "views": []
    },
    "a6d2abc0546c4dfd96da6dff5b19e513": {
     "views": []
    },
    "a6fdc220d0884888a0918a077b969fe4": {
     "views": []
    },
    "a71e1e5a191c47b188ee573b961dd957": {
     "views": []
    },
    "a72851fd5942471aa4bfe8be696b24d2": {
     "views": []
    },
    "a747f13ace014f239960b357f070a786": {
     "views": []
    },
    "a75047f02df2411bbb49c545e9010e02": {
     "views": []
    },
    "a756dfe0c72e49b6975ac7e9a04960f1": {
     "views": []
    },
    "a758c4e68d4b44da999411c5664c6c11": {
     "views": []
    },
    "a7690049c53b4a46a96ba96d4a4fa2e6": {
     "views": []
    },
    "a78603e9096f4acc8aaac99a6f5e8eed": {
     "views": []
    },
    "a7998533b7a74155951a00f169e52646": {
     "views": []
    },
    "a7bc2ff885d344c1a16ee9e0e74514f1": {
     "views": []
    },
    "a7e2c9e0e0c84e5c93631e479df44ade": {
     "views": []
    },
    "a8a59a3f2c1146d7a04b5046d1f9931a": {
     "views": []
    },
    "a8ae35304c0f4ca3b07d7ef86a3d48cb": {
     "views": []
    },
    "a8b8d3bfa20c4a3ab3d96c203468be81": {
     "views": []
    },
    "a8d0714348fb43169889dbe44e094152": {
     "views": []
    },
    "a8f5895483fa45fe86213ef4b72af66f": {
     "views": []
    },
    "a8f743f273dc4621ab079573a416a341": {
     "views": []
    },
    "a8f992a2cee34f4fae7cfc9acd5afed4": {
     "views": []
    },
    "a920321b2a684c17aeada12cb915cbf6": {
     "views": []
    },
    "a92c75bc7f0a44ffa748249bd346c111": {
     "views": []
    },
    "a9691473de6a40a5962160370758816b": {
     "views": []
    },
    "a9eaba6d4d714500bf03acfb3e6dd4b7": {
     "views": []
    },
    "a9fb9df728bc47cfae3831f44b5f7e95": {
     "views": []
    },
    "aa18eb83781c46a4914e199683f42956": {
     "views": []
    },
    "aa4295a56af0442f8904303f78c08c25": {
     "views": []
    },
    "aa45a716f36b424ab23d6c90b0ac27f3": {
     "views": []
    },
    "aa59c49d0c2b4b4d907973b1617298d8": {
     "views": []
    },
    "aa6ffa1828724707ad1d50fb63a7e042": {
     "views": []
    },
    "aa808780a76d4450b418e9b846a24957": {
     "views": []
    },
    "aa9bb3e6ee1f48afab6e677f7b838aca": {
     "views": []
    },
    "aaa535f173294ff2987d8e2743a3b32d": {
     "views": []
    },
    "aaeece0945cc483eb7e899e60863983f": {
     "views": []
    },
    "ab078edc306948488fb696235e9d1580": {
     "views": []
    },
    "abb901d2e69d4ce694ab9f450e9edd60": {
     "views": []
    },
    "abcb48f31fbd4fecb4b2234c990da5e0": {
     "views": []
    },
    "abf04a81281848ff943b25ca6032129a": {
     "views": []
    },
    "ac32d45d2d3f4e9288d6370878f3a4ef": {
     "views": []
    },
    "ac3a19161e77416bab4bc4d5f778149e": {
     "views": []
    },
    "ac43903ee1f0407fa2c84694a20e140e": {
     "views": []
    },
    "ac60de2ee39941b0a07e88fd10710171": {
     "views": []
    },
    "ac89d617c34c4dfa8be9883da748e1d5": {
     "views": []
    },
    "ac9793cfa804401291879a54d3c5c763": {
     "views": []
    },
    "ac9a82c1bcf1431c8f8564ba35852a95": {
     "views": []
    },
    "ac9fcee69eb846ec90a6e569cb831fd5": {
     "views": []
    },
    "acde0f4ad12944c89eee786df8fb4610": {
     "views": []
    },
    "ad4fa70021444a64861bffe65fa905e5": {
     "views": []
    },
    "ad69f174753340829a0cc34be9944ccf": {
     "views": []
    },
    "ad8293c0bf3a404cbfd118c9e50c61dc": {
     "views": []
    },
    "ad88a7da367f44cd839b035a0427fdae": {
     "views": []
    },
    "ad8d857ef08542cea6ecb3f402a829d3": {
     "views": []
    },
    "adf75b21be104ab3ae662d79a9029f33": {
     "views": []
    },
    "ae04fcae1b494fc98e51b6759e84791e": {
     "views": []
    },
    "ae1dd11d77204a919c5849e06bdc85bb": {
     "views": []
    },
    "ae663d7f5b2a454ab4de84d7ae773227": {
     "views": []
    },
    "ae7d07299bdf4a809d279d6a9f421895": {
     "views": []
    },
    "aeb263f2892146a48a318d8cb4b0f8a1": {
     "views": []
    },
    "aeb9096e1d934cca9feeed9b8222ffe3": {
     "views": []
    },
    "aee5bb314d50453bbe55a655c043937c": {
     "views": []
    },
    "aee7579f940a4d27bfea3e4d85de99de": {
     "views": []
    },
    "aef40261d160486083afe9fb5bc33d9b": {
     "views": []
    },
    "aefed174ce23473aacbed42d0fcc2090": {
     "views": []
    },
    "af299e684f7a4094b7dbe56b9495d99f": {
     "views": []
    },
    "af676a903112488d997441530fc86d0d": {
     "views": []
    },
    "af84a9a8ca424ae8b90cd41a3315a6d5": {
     "views": []
    },
    "afa073532a994327a335116ed6d327ef": {
     "views": []
    },
    "afa493f39be44caf86cd65ff3228b404": {
     "views": []
    },
    "afa4bf508b1f416482523caebd832f33": {
     "views": []
    },
    "afec784944a74732a7aa7d91d12cf8ef": {
     "views": []
    },
    "b00f94380c86435a84e2e2be14dd2109": {
     "views": []
    },
    "b016207bdbb64c23a0e49532a8014a70": {
     "views": []
    },
    "b01e432e3e86435ca825a87c4382468f": {
     "views": []
    },
    "b02d9135b4414aeba0cba07c1e7ecb81": {
     "views": []
    },
    "b042dc6f7e044926bbe4a41c9f3e982e": {
     "views": []
    },
    "b057381308c147889f87848fdffb2e8e": {
     "views": []
    },
    "b089bf400b434a05a0a93b13bef9c502": {
     "views": []
    },
    "b0b7f91585934d1a8b268f1607c5c058": {
     "views": []
    },
    "b11413ac6b564250b2ad75974f7b3b9e": {
     "views": []
    },
    "b138b87d7611491fa4cdaf962b475ec6": {
     "views": []
    },
    "b13b3fcf28154f5fac812d0696de7a9d": {
     "views": []
    },
    "b15f81ef3bd5482e806e467e1aeba0c9": {
     "views": []
    },
    "b18a16dc708743bf90fbf787343807b9": {
     "views": []
    },
    "b1a920ec39d14fd5b9e3f9cdfb01a6b2": {
     "views": []
    },
    "b1d21c3b2bcd4c00ae21263797b4439e": {
     "views": []
    },
    "b1da35dbad2a4e4b9939c832b4e376b4": {
     "views": []
    },
    "b1f08b57e689449b86d73c8a27b3b30c": {
     "views": []
    },
    "b253d8c30658452d9fa4f0c5b5a085bc": {
     "views": []
    },
    "b25f7360ae134478a090384b9ee2596e": {
     "views": []
    },
    "b261704552224ff6b5231577c120c50b": {
     "views": []
    },
    "b281a7a71ef749d1886ff203b07f8980": {
     "views": []
    },
    "b30ae3c045274dd5bf37ed4b2c6eb54d": {
     "views": []
    },
    "b325fcfeada64503ab674a48fcb233f5": {
     "views": []
    },
    "b349d47384b847acbfe224eb074897b5": {
     "views": []
    },
    "b363ffcfaaf44b56866134e7d1a167d3": {
     "views": []
    },
    "b37df0c28e104bf9916f20b69eccc849": {
     "views": []
    },
    "b385361ef224400e985f03f16903007c": {
     "views": []
    },
    "b40ac24ff86744d89301ced23ed1b83f": {
     "views": []
    },
    "b4186cffe9ab49cca5d3abae070d5b75": {
     "views": []
    },
    "b42f27b101094298915cbb7903a76ff9": {
     "views": []
    },
    "b47c7ef5a81143eb84ce4a357a1a6400": {
     "views": []
    },
    "b4890b2aff8b44ec82be3d691e55f0e7": {
     "views": []
    },
    "b4948afa3091495c9c4abd2fad61c989": {
     "views": []
    },
    "b496cb2323b8457798cae6a5ff90db03": {
     "views": []
    },
    "b4d5319deca04ec5a6af5b4405d942c8": {
     "views": []
    },
    "b4d5ed99041f4ad680cfb2f585266c58": {
     "views": []
    },
    "b4e5e9d0cecf4758a9725af0ff5352f0": {
     "views": []
    },
    "b4f8987428b94db0a63fa4b78c2020ab": {
     "views": []
    },
    "b51b439f67604e9ab148f5105310feaf": {
     "views": []
    },
    "b5209ea1346249c9a60e0b8247c6388b": {
     "views": []
    },
    "b56491f061224c5e9399b319af51385e": {
     "views": []
    },
    "b57101a458544a14bf76a1d7f15d4d2c": {
     "views": []
    },
    "b5766ad8b57e4ef289c2d85486e21474": {
     "views": []
    },
    "b57eba0b809542a1bde4276362027f21": {
     "views": []
    },
    "b5a7065cf528479cab5f4b28c215e4ec": {
     "views": []
    },
    "b5ba103a544c4d7aa4727d65300ff2b9": {
     "views": []
    },
    "b62fcb34b816408c933c8f393de7f4dc": {
     "views": []
    },
    "b63e4d87f3fe4e3890c06decf6ef4989": {
     "views": []
    },
    "b6941b312e2644c683b732936a30e84d": {
     "views": []
    },
    "b69acdf377fc40c092b24233bf5900b0": {
     "views": []
    },
    "b6d40ae070f4490da5d5067048ba079a": {
     "views": []
    },
    "b704505262364f91a06a0a068d060c76": {
     "views": []
    },
    "b7086ef26dbd46aa9c2ebdce27a93f47": {
     "views": []
    },
    "b70ff10e12e64e3f9d091c784bc6be41": {
     "views": []
    },
    "b71af3999d2240bfb3b065e390046103": {
     "views": []
    },
    "b71c1cc2ee374bf0b60ab189694f97c7": {
     "views": []
    },
    "b71eba6da2a24bac93217b640b146a4a": {
     "views": []
    },
    "b783676a982a4b3fad0931b516325e22": {
     "views": []
    },
    "b7aa5ca2873543a58326affaa59cee53": {
     "views": []
    },
    "b7e2bd916437446f914cd17fe4f8ec2f": {
     "views": []
    },
    "b8039abe2e944f0dbcc5c6ba1bfe4594": {
     "views": []
    },
    "b8849b8018294268a6333750dcd1850b": {
     "views": []
    },
    "b8a3659ef8e34847890a75fbf5b1b47a": {
     "views": []
    },
    "b8b821e0a92643828d014c9d24fcf1d8": {
     "views": []
    },
    "b8ba1137297d4ef9b3d38a1977081c0a": {
     "views": []
    },
    "b8bc28fcabcf49d7979fd91978a3ffe0": {
     "views": []
    },
    "b8fe56489c574d64a2a9818f3d6e51f4": {
     "views": []
    },
    "b90eaf2393544a03a3a6d65aa352698d": {
     "views": []
    },
    "b91aa7ed01284a5bb54d7818a50ed07e": {
     "views": []
    },
    "b9a7eba98e5c402e91a5c89ea788caf9": {
     "views": []
    },
    "b9e29e1c8c89429e84f05b80ac480bd8": {
     "views": []
    },
    "b9eb8f49b1694de58262814a19e284e7": {
     "views": []
    },
    "ba0d9f83fd174f0a8e14dc32840e1c5d": {
     "views": []
    },
    "ba0ffcba3e3d4daa9dda8d0b02b723a3": {
     "views": []
    },
    "ba18a6a48ed4448ea934e487b547a466": {
     "views": []
    },
    "ba1fb27acaf142519dd04e219caef4c0": {
     "views": []
    },
    "ba24526b6eb149ceba24f9a4749c7fa5": {
     "views": []
    },
    "ba2626aa11c0499a8ca03d4934936d23": {
     "views": []
    },
    "ba662c21fdeb4204bd1158cd4b899509": {
     "views": []
    },
    "ba773b6697524c2a954e75db2ec87aa8": {
     "views": []
    },
    "ba83d9461d98440fa7b812b6fbb41e4b": {
     "views": []
    },
    "bab47937441c4195ae3c68fc09aa57aa": {
     "views": []
    },
    "bab5c7b393414dbab891c51bfd3a66d0": {
     "views": []
    },
    "bad02c4f10e54d90b078c34c893cd85a": {
     "views": []
    },
    "bad87f709a404e0eb1d036bbed4d3fa6": {
     "views": []
    },
    "baec788f978b4e81805dece45aa5297b": {
     "views": []
    },
    "baf77d3ca18e4724b6f850ff23599444": {
     "views": []
    },
    "bb468ab883574ca981b829bd2dc7eaa6": {
     "views": []
    },
    "bb9c726899764313890fd83311df3e9c": {
     "views": []
    },
    "bba84de655ff4a64ae15b267a425c0a9": {
     "views": []
    },
    "bbb27ebd147444aa962a4e16fbdb2b8f": {
     "views": []
    },
    "bbc322204638427caeb207607166df36": {
     "views": []
    },
    "bbf0ca2805ce43b2969c263fb1989183": {
     "views": []
    },
    "bbf18b0490d34206bfbfae6601fbce50": {
     "views": []
    },
    "bc0d71279f78401199980b864187118b": {
     "views": []
    },
    "bc4c33316acc472b8b80b36210c0ef7d": {
     "views": []
    },
    "bc59c2b96c994b4483e3e6157dbc8bed": {
     "views": []
    },
    "bc80bacc7ee54f41bfd90b5be2016818": {
     "views": []
    },
    "bcc8432c2fb0497c8e41e9b0f42c1a9f": {
     "views": []
    },
    "bce9c6f4479d421d80bc3c21c3635db0": {
     "views": []
    },
    "bcff13afca564d3088baea544bbceb10": {
     "views": []
    },
    "bd12ee7d912544a29e37e0410b0b5f6b": {
     "views": []
    },
    "bd15fee0d5634ab58c01555386d642d6": {
     "views": []
    },
    "bd1d7813c0d346a7bd06ae744cdf4c3b": {
     "views": []
    },
    "bd50b8a5ddbb484faad2372109e071e2": {
     "views": []
    },
    "bd6ddb0fb6464e0e9f944ff7f804b83a": {
     "views": []
    },
    "bd7ae2d35ac5494cb913cb2a48d381b2": {
     "views": []
    },
    "bd88f140a680422099734cebf52c888b": {
     "views": []
    },
    "bdb5038cdad346c991e3dfaa05e40815": {
     "views": []
    },
    "bdcb573d2a55450488134b50de00a586": {
     "views": []
    },
    "bdce668b0b6b4625a90c204a09f0a1cf": {
     "views": []
    },
    "bde5c41f8ec14b5089f4cf98c1420d46": {
     "views": []
    },
    "be33f292624a46f2a5d34001d057465c": {
     "views": []
    },
    "be4c11e9108f47a08ca0e948aa935486": {
     "views": []
    },
    "be530c0272004202a17ed11992b51914": {
     "views": []
    },
    "be5ea07e858e4de1aa3a3fe8938c94c8": {
     "views": []
    },
    "be89d2583ddb417db07d05e2998e5624": {
     "views": []
    },
    "bed4c03488164ab38e7ab5eadd2baea2": {
     "views": []
    },
    "bf2037b6599448b2bb0606a485e0beea": {
     "views": []
    },
    "bf26f5c8e9fe46a4a14bdd1357f43bff": {
     "views": []
    },
    "bf34fb4caaee465fae0d5c9486eb262a": {
     "views": []
    },
    "bf3892452d154c6a890457e28725dfa7": {
     "views": []
    },
    "bf454e00afb34316881c298d914d66ed": {
     "views": []
    },
    "bfc31e98859749a0b62079515161b50e": {
     "views": []
    },
    "bfeaff99e36e448a9683dc6eaa93b247": {
     "views": []
    },
    "c02591b3e7b74fb6a9c5ef3088f5b7f6": {
     "views": []
    },
    "c06b6c8c3d8542ccb7936aaf7229869e": {
     "views": []
    },
    "c086baddeef14015a134d2b2b3ca0b38": {
     "views": []
    },
    "c0877a08ffa0443a99186edc6cce4331": {
     "views": []
    },
    "c0c863a5dc4e42039da0ee1f75e74bda": {
     "views": []
    },
    "c0d00c818aa945d384f3a4385e620147": {
     "views": []
    },
    "c0f06c08f6da4b3cbfe26acc15e42c5a": {
     "views": []
    },
    "c11ab005f5a14db4a9295e7cb236b106": {
     "views": []
    },
    "c14a8ff2896a4d4fb662cc23eb2554cd": {
     "views": []
    },
    "c15c3418b56445a0a5c179c320d8245a": {
     "views": []
    },
    "c16283be8f2f42eaaa24b2f0c08ab1a5": {
     "views": []
    },
    "c172c8a299c3463b87016b840836adea": {
     "views": []
    },
    "c17caecb729e4e709efa6f00cc68b59b": {
     "views": []
    },
    "c1a0f0b272c2406c856283c896c9b336": {
     "views": []
    },
    "c1ac7643494d46c8aa8cd314b657e5c8": {
     "views": []
    },
    "c1e03c14dc4540ed972d58328fb77bdf": {
     "views": []
    },
    "c2438851c6a94c45881761e00d44a110": {
     "views": []
    },
    "c2468fb9f1b542d386935a2a12772a01": {
     "views": []
    },
    "c25db11ec4364735959425c493469a6f": {
     "views": []
    },
    "c28b2628028745a4a5473b30f4ac5387": {
     "views": []
    },
    "c2edb0a4d3e8471db92982af83d001f2": {
     "views": []
    },
    "c2eeea4fd92c4ac58b568e1a8a510fce": {
     "views": []
    },
    "c3116a737c8341249187843ca0e5a8f5": {
     "views": []
    },
    "c32ccaeabfe34c6d8850403d3bae49c5": {
     "views": []
    },
    "c3384a6260ef46ab9fc818314a363397": {
     "views": []
    },
    "c341e621d56241ecb0b2c2bf07441aa6": {
     "views": []
    },
    "c3701839a7ad463fb7ddcea5ca6d50d0": {
     "views": []
    },
    "c37769562e114ae298c36017aca7e845": {
     "views": []
    },
    "c377dc5c037948d4b75f1d3911d4735c": {
     "views": []
    },
    "c38a38073b674200b1fc701fa4925ffe": {
     "views": []
    },
    "c3dc714930ff425a987a66e2a74cbbf8": {
     "views": []
    },
    "c3dc8c34a62449319cff167e6a86b4d5": {
     "views": []
    },
    "c3f968c2577847f68bcd7f2682a3106e": {
     "views": []
    },
    "c3feb68a73ac49538cada0a9f3808650": {
     "views": []
    },
    "c43ff8f8fd034214a82e6572905be26e": {
     "views": []
    },
    "c44c37af0f5c4c2391d555a8fdac7813": {
     "views": []
    },
    "c44eeae1374c473d8de807cbedc2af26": {
     "views": []
    },
    "c46ae1c49d784f649ff39ac5022a82f8": {
     "views": []
    },
    "c4826445260d44e99d55b4f337634e10": {
     "views": []
    },
    "c49023dc54824ca2a3199b67a8d58c70": {
     "views": []
    },
    "c4f6409d956a47068f44c13841d0fe6a": {
     "views": []
    },
    "c5025714ad8d49328903eaa9d760f915": {
     "views": []
    },
    "c50ecb810810425c9d246eecc0587480": {
     "views": []
    },
    "c52bb9196aa04b88ac0a63efe69beefe": {
     "views": []
    },
    "c564c4bf6b604156b5aef43f4d5fd5af": {
     "views": []
    },
    "c575e94ebc4f4ea1a3bacae8b897fbec": {
     "views": []
    },
    "c5af5d7bd9114c58a6b64d1125fd4220": {
     "views": []
    },
    "c5bdd352933b4dcdac2dbf68cc6d5def": {
     "views": []
    },
    "c5ce0daa72de48e8935448f9b374b4b1": {
     "views": []
    },
    "c668b0f5c96f4bf6992c1bf094f260f1": {
     "views": []
    },
    "c66c6086f9124d58a9a5f080f2284dd6": {
     "views": []
    },
    "c66e2ce1dafc47778fb1fc936f9c4253": {
     "views": []
    },
    "c6ec9b8c71e645499e055dfc2a72ee67": {
     "views": []
    },
    "c724fe13fac64cbab8de83a19bea0ed9": {
     "views": []
    },
    "c74824eafec8418c99987c8501aa2e73": {
     "views": []
    },
    "c759f832b6054beca156e3d7341475b9": {
     "views": []
    },
    "c75b5ebbcea7483b9ffa634db0664e5c": {
     "views": []
    },
    "c7965ac06d8b467aae159884c6a0f1d8": {
     "views": []
    },
    "c7b61ce7ed2942ad976e2eab2a5a041d": {
     "views": []
    },
    "c7d126048e60428283423cd1a7e2ed1c": {
     "views": []
    },
    "c7d45216e63e43f0981c1f41a8d81dd7": {
     "views": []
    },
    "c7df58964b164103a00d033fcc6badcf": {
     "views": []
    },
    "c868886bff5343179d93ce11149b1622": {
     "views": []
    },
    "c86f74d80ae54f4a9ef88e4922bbb45f": {
     "views": []
    },
    "c87f241067104cc1b077478fe4d392a7": {
     "views": []
    },
    "c88154cd1d4a4e77993579f99e679110": {
     "views": []
    },
    "c8825242c5f44853948dfdf23cf22757": {
     "views": []
    },
    "c892784bb61e498cb5b5e5a99f4713c0": {
     "views": []
    },
    "c8aea03f26084ce4a1d0825ea778bd6d": {
     "views": []
    },
    "c8b899c8c7bd4484846959b353288d11": {
     "views": []
    },
    "c8c279ca0a2e456b9a760677fe793c94": {
     "views": []
    },
    "c8d14f1adc8d4e409768745fc77b5dba": {
     "views": []
    },
    "c96469a3e6a24962aa02b61e32df3a8c": {
     "views": []
    },
    "c9c2c9ca8fa0471faba593cece41aa9e": {
     "views": []
    },
    "ca139494f3224a64b74a70f9a6285914": {
     "views": []
    },
    "ca45de295448419e9a5abd14270c51c6": {
     "views": []
    },
    "ca61c95bd8d142c695b6599448bb1408": {
     "views": []
    },
    "ca878eb61317406bbf23ddf65256f4ad": {
     "views": []
    },
    "ca96c878c2af41faa354c7dda34cc397": {
     "views": []
    },
    "ca9e1886aa1549a896d738c787fadf31": {
     "views": []
    },
    "caab4c6b21f148a6bac80095efbc7474": {
     "views": []
    },
    "cabb641a9fe4414b856cfaba44efb309": {
     "views": []
    },
    "cade5f42035c4297aceba7e5530072e0": {
     "views": []
    },
    "caf2bffe0fd04f5eaaa05bad385da19a": {
     "views": []
    },
    "caf79ec3de34401c8d23712efae8b1c2": {
     "views": []
    },
    "cb05163a70c74954bfb1456f5ac3b246": {
     "views": []
    },
    "cb0f54cfe8e14897ab38f60b47aabff4": {
     "views": []
    },
    "cb7d75535d534468a80d42b638bd82f5": {
     "views": []
    },
    "cb8dcbbe0ed9428fb3c2d3c226a1542f": {
     "views": []
    },
    "cb8f253c771e435b96f79b9e4f489b4f": {
     "views": []
    },
    "cbbbc89efcf74826a62dde865a259478": {
     "views": []
    },
    "cbcceed745ea496a9eec093d765dc21d": {
     "views": []
    },
    "cc0b287db5fd40a3a5e1c9cad2c3b906": {
     "views": []
    },
    "cc24abc01f7c4431bf38aa0a531dcf1a": {
     "views": []
    },
    "cc317822cfbf4ea0a5d1dd4c2fa044f9": {
     "views": []
    },
    "cc39ea84576a42c3a1ec4e1515fe4a72": {
     "views": []
    },
    "cc44847497694ce1bf6c92787d05b019": {
     "views": []
    },
    "cc6d7ad59ea44f689ad84a406c9ca6a3": {
     "views": []
    },
    "cc80eab8997a4beb8870b8e32f58924b": {
     "views": []
    },
    "cc91cc67c032434786349e76a186d4ab": {
     "views": []
    },
    "cca348cc0f0c45728157963cd83f7528": {
     "views": []
    },
    "cccd012dc3c54ae5aa7b453f76aadaad": {
     "views": []
    },
    "ccdc696730ab4f6f9e4489de313e2e9b": {
     "views": []
    },
    "ccdc743188244cacb20b3bd9a925fa98": {
     "views": []
    },
    "cce4eca589c349549b2bf3088e33d59c": {
     "views": []
    },
    "cce53a225fad4fc58d9b7e6e8c7e2b46": {
     "views": []
    },
    "ccf5195ef2ec4d3facbb19d731e2ae7a": {
     "views": []
    },
    "cd0a6cbfd461479ba03cc242a8ae4cc4": {
     "views": []
    },
    "cd4ecdfea82241b699c4a93cfcadc5ae": {
     "views": []
    },
    "cd5f61118fca4ef38c7396e171b19c81": {
     "views": []
    },
    "cd86ff1ff07d40558c672dbb16e8111d": {
     "views": []
    },
    "cd8f7b5f134f4f95a3ec85352b3a0611": {
     "views": []
    },
    "cd91ea2b099d4da597c6669434bf261b": {
     "views": []
    },
    "cddd1029de8f463d86c75ee40d88f3f2": {
     "views": []
    },
    "ce122a9799f94fad9c8129ef8e6c6d27": {
     "views": []
    },
    "ce292d57b6c04f6c9ffd9be3ce1e43bd": {
     "views": []
    },
    "ce5943b9ee9c446d8f6a89e7ea7c2c0c": {
     "views": []
    },
    "ce62861f74f94335821099d57b7b7805": {
     "views": []
    },
    "ce8360e272ee4d57a2a40ad20cfacbae": {
     "views": []
    },
    "cea89d38b035404a91d0fa9381b67b2b": {
     "views": []
    },
    "ceb003019b1243f0bd684ce5b1783b87": {
     "views": []
    },
    "ceb72061dd67417c8697f90630889dc8": {
     "views": []
    },
    "cee25eb6162a41289e5b08cfa1764018": {
     "views": []
    },
    "cee825cc020743b2bdebce3ac2bed650": {
     "views": []
    },
    "ceead59f126c404daecf2b15bb8396f2": {
     "views": []
    },
    "cf0cb60b6d1c43fe8fa74711472aa316": {
     "views": []
    },
    "cf2862d0f66b46a081ea0721facf0ad7": {
     "views": []
    },
    "cf463412a2ad4eb59f84b1bada7e35d3": {
     "views": []
    },
    "cf68451b31f54ec080a2a5f9d51c6cb6": {
     "views": []
    },
    "cf787dafd1da46dcb458d5a7be7cb9eb": {
     "views": []
    },
    "cf883afd9e4941b4854c484d539b4a66": {
     "views": []
    },
    "d05c73d2a61f4ba98d4c61a688450422": {
     "views": []
    },
    "d06124271578463f80da5c3a741bf79e": {
     "views": []
    },
    "d0a3b200c4974f898f3cdc09c67273b5": {
     "views": []
    },
    "d0af8986c4e14424b52ef9a0f18b3d9f": {
     "views": []
    },
    "d0e748f0baa54af3969e890469c31e86": {
     "views": []
    },
    "d0ff493d2a6c48afb9d0ab961a78bafb": {
     "views": []
    },
    "d12b0b79102f4346847db17b4a757b06": {
     "views": []
    },
    "d1594df5577a471cb0ffb55a4150e8d2": {
     "views": []
    },
    "d15bf9f009eb4ecfbd440d833829601f": {
     "views": []
    },
    "d16bb42abcb54bdaaa85650b1f733e16": {
     "views": []
    },
    "d1a2302711ca438ba88b97ce2fdd1b96": {
     "views": []
    },
    "d1c54846a2954255ba13abc73a59c8c5": {
     "views": []
    },
    "d1cc8505f4aa453b894e536c62092c5c": {
     "views": []
    },
    "d1d6f3368afe4de7ace45d5ec95e1776": {
     "views": []
    },
    "d1d8e16433f04e6293236219fd863cfe": {
     "views": []
    },
    "d1e26e4f0eea420cb9101981fb015c46": {
     "views": []
    },
    "d1e4d5a7ce884748a7729c94d84d28f4": {
     "views": []
    },
    "d1e6e12084344297a698e3d3c907559b": {
     "views": []
    },
    "d1f6c2dc4bcb47b79f0a463038ba5026": {
     "views": []
    },
    "d2046d4eebf84d22bf3d51a8fe9cb0b4": {
     "views": []
    },
    "d25166e3503543a3a97737c571880dcb": {
     "views": []
    },
    "d26bcde1aa2546268e4ce6faf4c29e0c": {
     "views": []
    },
    "d28526ecdff44584a1ef44592d02476c": {
     "views": []
    },
    "d2e24ae7a9b8470995dac60f2884353f": {
     "views": []
    },
    "d2e676d64cc94025948d43e5850f2781": {
     "views": []
    },
    "d338df9a99424844b02a9ae55e574d4b": {
     "views": []
    },
    "d34e2195c6eb40babc3fe0bdac257b45": {
     "views": []
    },
    "d35cc2c63c5b4fbfa6dd9d1f9e7b257f": {
     "views": []
    },
    "d3787f212a494f1e9eec9b5f84860744": {
     "views": []
    },
    "d383a3871358487e9bc82f09a617561f": {
     "views": []
    },
    "d41005c0b97649349b385939b8a5b59b": {
     "views": []
    },
    "d44f1d1d36d74032b550f49604dfe0ab": {
     "views": []
    },
    "d4669e8dbdef43e1a05b018130aa1301": {
     "views": []
    },
    "d46a720bdfb0467ab0147b08fb602965": {
     "views": []
    },
    "d46b46d246954b44b133ba66b21ae06c": {
     "views": []
    },
    "d4735dd96aa546c5866f0b3688f72ab3": {
     "views": []
    },
    "d4950ae2c7044e2887fffe6c90ecd9ac": {
     "views": []
    },
    "d4a7207861ca4d49bf6e5dc0c5584cc3": {
     "views": []
    },
    "d4b7117fdf76442ba5d2342ae3560706": {
     "views": []
    },
    "d4b73d927fed4c97afbd023239b08824": {
     "views": []
    },
    "d4bd4138c5924fb2a9df71d1c264e2db": {
     "views": []
    },
    "d4c6888196a54d22881628aaa6d3e263": {
     "views": []
    },
    "d4d294ccf4f44912b7b56ae23a3381c3": {
     "views": []
    },
    "d4d3f6b093ad482e954b48794f01ac9c": {
     "views": []
    },
    "d4decd8a0cec400eb779433ce86d8489": {
     "views": []
    },
    "d4f28c8ce4a74d9bb8c7f1486b1c6b4c": {
     "views": []
    },
    "d4f339ca6f8a4dd7a69233e93be06879": {
     "views": []
    },
    "d50a75b325bb469cbeadb14a4a975420": {
     "views": []
    },
    "d50c01b6beaa4cc09ea8590bac137ea3": {
     "views": []
    },
    "d5197f65e8da41f88d287b91d174030a": {
     "views": []
    },
    "d556000acb4448cfaa9da89b2effdd19": {
     "views": []
    },
    "d5b624dfeb63444bad3c627ec513b39e": {
     "views": []
    },
    "d5d4c2a5ee284dd9b97632894ba3b038": {
     "views": []
    },
    "d5dc5a0e74bf4fbcb64554824a83e4e2": {
     "views": []
    },
    "d5df40e937464f16b6148399d1204abe": {
     "views": []
    },
    "d5ed2ae2f10b404dac642fccf6d2258c": {
     "views": []
    },
    "d62cdabd91db4547ba7cbd715111295f": {
     "views": []
    },
    "d6e57731302a4fedbbbe2f402c6e72ed": {
     "views": []
    },
    "d6f09dab00614cafada198d70332301c": {
     "views": []
    },
    "d6f4039579f249c6980e1a1d799074af": {
     "views": []
    },
    "d72dadf66d0941068b6b1031ae4e90ce": {
     "views": []
    },
    "d72f5fd5a89340eda5ed8c21db15b75a": {
     "views": []
    },
    "d74a30efe52b41288a7d7944851050de": {
     "views": []
    },
    "d763c512393b46bdbaebf6e91e456859": {
     "views": []
    },
    "d78259eabf8141e6bd4ba5d281dd2d3c": {
     "views": []
    },
    "d7996154821a4249a5b8a82fffeccaf3": {
     "views": []
    },
    "d7a5630addfc4e31873fc39dc39dd5db": {
     "views": []
    },
    "d7baa37d99d54b83af53537f4503e62c": {
     "views": []
    },
    "d7c211ff0f9340e99513db96d7367ec8": {
     "views": []
    },
    "d7dba3a4826443818448b70b961d374c": {
     "views": []
    },
    "d7f4a6a4cbb849b0bd5b41223ecfd73f": {
     "views": []
    },
    "d8033568e4c748db8942ddf170133e0c": {
     "views": []
    },
    "d8109165d5ec4852aa190bc033530182": {
     "views": []
    },
    "d82d39f1b92b4bdeab21fc6cddea26a5": {
     "views": []
    },
    "d84fa4ce750540d8b03e1d9f92aec665": {
     "views": []
    },
    "d914e69fd38d4402b72590cb75b80268": {
     "views": []
    },
    "d92343c5868e43f5b98c7658b83ed2dd": {
     "views": []
    },
    "d9384cf9685046cab8dd2a6733a97f2d": {
     "views": []
    },
    "d941629d1f5545dcb34e90fb5d5e9a5a": {
     "views": []
    },
    "d944b55b46384f80a976ad908300e704": {
     "views": []
    },
    "d94cb2d4ce0e4cc0be0aca62e64a88a7": {
     "views": []
    },
    "d9bc9e5563f248fabf75c3595b81a51b": {
     "views": []
    },
    "d9c0e6b1770443b5a773b273a203563c": {
     "views": []
    },
    "da31cc51295b4fd8876b5886e2a49e88": {
     "views": []
    },
    "da3c9414cbd0425680ec339557957e82": {
     "views": []
    },
    "da4b7e1e5a4d42a286ed646dd48b6939": {
     "views": []
    },
    "da6285f36afe4d5380cc2e9b69a6c28b": {
     "views": []
    },
    "da778acd79eb43779c09954776b54e37": {
     "views": []
    },
    "daa848841bb749edb775ca492fe383b2": {
     "views": []
    },
    "dabf4d9a0fa648cb84122f09aa2686a7": {
     "views": []
    },
    "dac76bc751814515bd73337b1ec39304": {
     "views": []
    },
    "dae14117a3924604a97ad667d165dbaf": {
     "views": []
    },
    "daf2f708731c4f3b95fc80c74c21bef4": {
     "views": []
    },
    "db3237b4e8ff4edc8b997eb34e9ad31c": {
     "views": []
    },
    "db3ef3e7f5d349cb870b5782e93a8155": {
     "views": []
    },
    "dbbf984a0724437989512fd47b26b15f": {
     "views": []
    },
    "dbe819bce968432e9f13168781c47cb3": {
     "views": []
    },
    "dbe9fcf078c945338d86382334db2337": {
     "views": []
    },
    "dc030766a2784846991919a8efea161d": {
     "views": []
    },
    "dc598d2f9d974fcb949856a1ac602d2f": {
     "views": []
    },
    "dcafeba305614ad7b3a85fbf769204fa": {
     "views": []
    },
    "dcb79912b39f4c2da7f5f4ea15f75568": {
     "views": []
    },
    "dcf06465ab3742adbd860ae0fb78e8bf": {
     "views": []
    },
    "dd0cfacad3364e56ad6fe4ac1345c5c8": {
     "views": []
    },
    "dd2f1bf78bd74d5fbe58f9b115726607": {
     "views": []
    },
    "dd35a4b8cfcc4f8296a43d40c2a4c1c9": {
     "views": []
    },
    "dd37e4a494fa4687bd376e9b9be6eea3": {
     "views": []
    },
    "dd65acac7fcd4c6b86afeb1075774ef5": {
     "views": []
    },
    "dd74789860524ea393b0b0f7f765db1a": {
     "views": []
    },
    "dd7749ba700a475fac867c48cb65b93e": {
     "views": []
    },
    "dd7ce21c27664868ba336cf9162e9cce": {
     "views": []
    },
    "ddc35edf6a6044128ddcde065e1470e2": {
     "views": []
    },
    "dde07c2982974081a953ac388561cfb4": {
     "views": []
    },
    "dde12d683c3947f4ac940fbb45a8fabc": {
     "views": []
    },
    "de2abf974da94e399e227d80c8813cf2": {
     "views": []
    },
    "de4a623b344842338c1fb3e1bf222f3e": {
     "views": []
    },
    "de64bc3ec03b458cb314715daa58d959": {
     "views": []
    },
    "de69d54983b44a4baa811a32b27fdfea": {
     "views": []
    },
    "de807c2d1e9547519564007d31dc94be": {
     "views": []
    },
    "de87e13c4abd4cc5ad2f23dbe7297710": {
     "views": []
    },
    "df082566710c40a9b025074bb0493711": {
     "views": []
    },
    "df0a8beb396e44e394b0851551350136": {
     "views": []
    },
    "df11146b6c0a484db5d0c498e2aedbcf": {
     "views": []
    },
    "df126dc48411497f8e5b0bf1c00c908e": {
     "views": []
    },
    "df2cd9b2165e431d9bd6d885eb8140b1": {
     "views": []
    },
    "df2eaf83b42643fb935e6e6cfc6ea6d2": {
     "views": []
    },
    "df742e9e7dad4edf8a3de08dcb96c9f5": {
     "views": []
    },
    "df97410459df43a7b369ec131460a422": {
     "views": []
    },
    "dfb1474508674a09a60d5ff960bd7939": {
     "views": []
    },
    "e0069a50aad149b9b66a442fff04dc63": {
     "views": []
    },
    "e055f29848ce4675ab19636b25ccbf7d": {
     "views": []
    },
    "e0571b0784234ac79314fc274adf8a3c": {
     "views": []
    },
    "e06b823098ee4052804c9353264c0650": {
     "views": []
    },
    "e07d7f1e03fc4949aa5216d6a70ef97c": {
     "views": []
    },
    "e0b26c9e6523409a9a329ad5229efbce": {
     "views": []
    },
    "e0c8e0bede434f1ebeaca7e07c117c14": {
     "views": []
    },
    "e0e03aed5f5c477ea10da552aac1f078": {
     "views": []
    },
    "e1040583180049d19afaa477f0c34efd": {
     "views": []
    },
    "e13dad3da6554e959bcec78791118b36": {
     "views": []
    },
    "e15d38bec4094b828509c69dd484f3d7": {
     "views": []
    },
    "e1709e6518644b6d983d05e438838148": {
     "views": []
    },
    "e1b5e14c721d4cdd8d5fe14b7cb2cb9d": {
     "views": []
    },
    "e1efc431e8db4088befcc102648c409d": {
     "views": []
    },
    "e23ab72a199740de972bd7488c11fac8": {
     "views": []
    },
    "e24253517fc6468f8f788128b61ff4a9": {
     "views": []
    },
    "e2531a96939f40ddb950632bdb53271e": {
     "views": []
    },
    "e2869e09196242749fabf6b915416c90": {
     "views": []
    },
    "e2e071cf055745b18a02698c3f12a560": {
     "views": []
    },
    "e2f5025205d84456a1e1fbd2b49784a7": {
     "views": []
    },
    "e31f817f8448418ebe1916a538155bf4": {
     "views": []
    },
    "e3200a285e3e4e81a6507f75ec21c59d": {
     "views": []
    },
    "e345fe852a384ddea4aed8ead3ee4e4a": {
     "views": []
    },
    "e3460a24ef4c40d19ea6ebeda19390ce": {
     "views": []
    },
    "e351a4a13ba443788f70fba57b318b58": {
     "views": []
    },
    "e35dc85617884750b312eff485a451f0": {
     "views": []
    },
    "e36fdd2d8d9248868f13a44ef56039c6": {
     "views": []
    },
    "e3a7519368544d56828767f364c6e861": {
     "views": []
    },
    "e3b783f9bbb84dfca441dcc77b5d4a30": {
     "views": []
    },
    "e3c79b7319e04724aab3613f4559e882": {
     "views": []
    },
    "e3e41a67e5154a5c84d4e0ad606d951c": {
     "views": []
    },
    "e3ea00a0a300438090a8323acebc8158": {
     "views": []
    },
    "e3fe08813529454da0cd5181674bbccf": {
     "views": []
    },
    "e452ae86fb4b49e4afe8d6dd096c5483": {
     "views": []
    },
    "e45866cb63d24a57bfb06cdf32a82721": {
     "views": []
    },
    "e4cdf1bda853449d98ae6897c02fb940": {
     "views": []
    },
    "e4f9eec8493c476fbcccf999051bd29b": {
     "views": []
    },
    "e558db49275743d881109b1547857953": {
     "views": []
    },
    "e58ccabf18414985bbb2e0babe78b6a7": {
     "views": []
    },
    "e5ae37ffe5534e0a87fd99fcd6f345f9": {
     "views": []
    },
    "e5c6482c8d1743a6a181bc0428b478aa": {
     "views": []
    },
    "e5d94a3a326e4880a33c489af10f88da": {
     "views": []
    },
    "e5eff3cab71c40f999e99140dba69b6d": {
     "views": []
    },
    "e6198e2aff1b48d9a39c8ae07cff9fdd": {
     "views": []
    },
    "e632dd43c5304deeb12759fe1a75697d": {
     "views": []
    },
    "e678e1b2db4a4dc29f11b1cecee668e1": {
     "views": []
    },
    "e6815f942f60453c8825fec8c4e1ca77": {
     "views": []
    },
    "e6cadd36a5f6468ca9f7f7235493a2b9": {
     "views": []
    },
    "e70f986035544896b6c575c12538b4ca": {
     "views": []
    },
    "e72c278de4fb46808c14e22097cba3c7": {
     "views": []
    },
    "e78e0d26ed0a48318d8b1af4876ec14e": {
     "views": []
    },
    "e7b077a585bb450fb7dc9193cf5df992": {
     "views": []
    },
    "e7bc7bd8a5a947389ab39eb15a784a4e": {
     "views": []
    },
    "e7c2f76bc34a47faa820505b6877496f": {
     "views": []
    },
    "e826058a6f784d4ebf24c10d1db0d928": {
     "views": []
    },
    "e84ee3092a314e50a2b92f6f57858f11": {
     "views": []
    },
    "e88a0debf7c74e03b049b7f948999b86": {
     "views": []
    },
    "e88ee564b45e4122b916435466a280e2": {
     "views": []
    },
    "e8baebc00651448c973428e0b7688de0": {
     "views": []
    },
    "e8cc866e4a5446a6ba8d082fc78c9095": {
     "views": []
    },
    "e8cd5994b2494d55b1fdf09b0e9b9c3f": {
     "views": []
    },
    "e8cdd5ef9f8249ffb87b76c3640b8e99": {
     "views": []
    },
    "e90c4b0ffdf94a648c8e978345edd813": {
     "views": []
    },
    "e9328afb46654bc18d4adea39e312558": {
     "views": []
    },
    "e95ed12e743b431bbcf7e47858cfbc6b": {
     "views": []
    },
    "e969fef825cb4b828bec8070922983dd": {
     "views": []
    },
    "e96d9db5e69e40a7a1e4ee1de3755985": {
     "views": []
    },
    "e983289cd5a44650a23917cbb45a334d": {
     "views": []
    },
    "e9c8d106c0834a049c8919e8add50a22": {
     "views": []
    },
    "e9cad566e8ac4fb48aba8bd7aacf8773": {
     "views": []
    },
    "ea00719bc83d4b018d7dc79cce90a635": {
     "views": []
    },
    "ea07ccb68c544768a24305a8d2010b7f": {
     "views": []
    },
    "ea0e4c5118234f5893d60d59849e6295": {
     "views": []
    },
    "ea1db034559349479f3950f8065b47d1": {
     "views": []
    },
    "ea7e08045f4e400780f9cc15f1277126": {
     "views": []
    },
    "eacd8cbb79fe40a79ac0d073bc18c869": {
     "views": []
    },
    "eafbe30477ac48f9b2ba3a3d712254e8": {
     "views": []
    },
    "eb120fc46af24640a3e6c079d9a46ba5": {
     "views": []
    },
    "eb29028005404ede83027c3161132669": {
     "views": []
    },
    "eb3ecc5b85b84049bb9bdd08d0736a5c": {
     "views": []
    },
    "eb6958bc0e3b4b9ea5774714f34b5df6": {
     "views": []
    },
    "eb6cac34dd4746a3876c09a8c96e2a2b": {
     "views": []
    },
    "eba4df498f4a482aa7ae35651bac0a97": {
     "views": []
    },
    "ebb3bbb5b82e4366b87ff0b2883569d1": {
     "views": []
    },
    "ebccd4bfcad544c08f16514bc7fc1de6": {
     "views": []
    },
    "ebf5103d7fc84b448219a42c69b248eb": {
     "views": []
    },
    "ec78b69a194c4dcba627f2a058e631f8": {
     "views": []
    },
    "ec942fd73c9c4531bcae8314ff6da79a": {
     "views": []
    },
    "eca07ccc7c5b4ce8834f926fba1952e6": {
     "views": []
    },
    "ecb6477e3f33425a8651430ae5d18e5e": {
     "views": []
    },
    "eccf739aa67741d0858616864b6856b5": {
     "views": []
    },
    "ece2e678ff1240169878efb5c2274b27": {
     "views": []
    },
    "ed01f200d00f4cd9a5a32731fb56d37d": {
     "views": []
    },
    "ed45655521d949b5b7af63907547ec26": {
     "views": []
    },
    "ed46a920006648549c96265beb2ec311": {
     "views": []
    },
    "ed89fe7cc1b742769d5659c2b4b2482f": {
     "views": []
    },
    "ed9a78e0e9d047feb77f5edb1f12ff36": {
     "views": []
    },
    "edbeb3de8b0f49e5b754b0d1391d845d": {
     "views": []
    },
    "ee07d34bcbfc402bbd17c490a1e725d3": {
     "views": []
    },
    "ee1c01d3799a43d5812d85b98946750e": {
     "views": []
    },
    "ee2788f2764e408c85e8ccca9a255a00": {
     "views": []
    },
    "ee2cfbab7d15459697fa74252c053add": {
     "views": []
    },
    "ee4ea2f3f29c4157bedba8f3576a3ee7": {
     "views": []
    },
    "ee780e6763c1471f8318b117c91cd2d2": {
     "views": []
    },
    "ee97d7bd136c405fad2b8add89c70f5f": {
     "views": []
    },
    "eed1242768be4b2485346ce837185680": {
     "views": []
    },
    "ef0a562b8677481e93d23f5b23584223": {
     "views": []
    },
    "ef1bf301a0d341a68f9b91c98785d16b": {
     "views": []
    },
    "ef6a33da2aaa4d12a60fd493e034334d": {
     "views": []
    },
    "ef8128df403541ff9f0c5547b134023d": {
     "views": []
    },
    "efae0ba6f19b4567a19ec18c3b7f5939": {
     "views": []
    },
    "efb875232d1445a2bb81e9d0e88dbd1e": {
     "views": []
    },
    "efe1be55960b45f5b103f0c7d4bc8dc9": {
     "views": []
    },
    "efe554cfe5de48f9831ac2c0e452a6c9": {
     "views": []
    },
    "eff6471de7df4301ac4db4477aae5b20": {
     "views": []
    },
    "f0148dc096294403a31a10046d28dbb9": {
     "views": []
    },
    "f040b25b7f59480c8008231e8ae6ab16": {
     "views": []
    },
    "f075831ba2ce42f89f63cf05b7a6eb42": {
     "views": []
    },
    "f08cfe7469224962a522ae59b40b1e56": {
     "views": []
    },
    "f08f5187593b408690ff2a89a8ebaf74": {
     "views": []
    },
    "f0b4a105f11041d7bd5d6c99a0bb57e7": {
     "views": []
    },
    "f0bdbad2556445aaa07ed63431fc5a62": {
     "views": []
    },
    "f0de29640a544f518131b123147f6055": {
     "views": []
    },
    "f0e6b77e0a7e44e19374f1ffd736c348": {
     "views": []
    },
    "f0f59a971f864532ab8a428eab6d4d94": {
     "views": []
    },
    "f1273b910a534711bb5cad7c991dd98c": {
     "views": []
    },
    "f12db8fcf7034ebfa8dd4df37d66112f": {
     "views": []
    },
    "f1341ab8c16d44bc9c57b4cd46858997": {
     "views": []
    },
    "f15696d5089d4a8b89bd84b41c42f7dc": {
     "views": []
    },
    "f184236c35c94ac08b3f6e9e64ae1ea5": {
     "views": []
    },
    "f1c64240f19a4d1c8744b71fdc57bdcd": {
     "views": []
    },
    "f1d16b19fab14fbbae4f58d5408f3bf1": {
     "views": []
    },
    "f1f16d9086444da69663dde30217c4d5": {
     "views": []
    },
    "f2134a07ecc641f7a89d1155eed05ba5": {
     "views": []
    },
    "f232db6f1d6b41d0a6034a22fc4b9c65": {
     "views": []
    },
    "f24963c023b84dbdb2120bcc20b80f59": {
     "views": []
    },
    "f25cb856bd1b48b3870d61dc4a3ff2f9": {
     "views": []
    },
    "f25f4a589d20444c92b738245f0aaa38": {
     "views": []
    },
    "f297df2ba79140fca906711ab9ff95ef": {
     "views": []
    },
    "f2ace78810534d34988877af4c4afc94": {
     "views": []
    },
    "f2e463a801034b0f8adb49acf0e9791f": {
     "views": []
    },
    "f3155dbff7c34b788624356dd59c0cf3": {
     "views": []
    },
    "f32c5a009c8647a28d73b775a5bf56b5": {
     "views": []
    },
    "f350386924fc4c7abddbeceb21e4fd2e": {
     "views": []
    },
    "f3646a521ab94ba8a3ca7076504bcd3c": {
     "views": []
    },
    "f38732caae1c4cebbeb623e731c02e0f": {
     "views": []
    },
    "f3927f8cb96041cd8946776e77193b2c": {
     "views": []
    },
    "f3d80f40583440c6aa756b4b6e287006": {
     "views": []
    },
    "f41dbac1cd8f4590898636340114e1c7": {
     "views": []
    },
    "f42c0d264ddd444a94b6bdbdd0702df3": {
     "views": []
    },
    "f44804856b084e5ab24a8cbfa7599686": {
     "views": []
    },
    "f4627034b53549019b27c5927ccf7939": {
     "views": []
    },
    "f463e9a49eb044ee8cd15ddc9cf0d887": {
     "views": []
    },
    "f47428f6beb9474c8602ca96c84e41a8": {
     "views": []
    },
    "f4c48bcfe40547ab9c5f96966b3099ee": {
     "views": []
    },
    "f51474329cd14940a8e278cc92f33677": {
     "views": []
    },
    "f52e6bbbd4c348a987c1b95ee4340196": {
     "views": []
    },
    "f5308fcc26ff472b96e51233ded5d0bb": {
     "views": []
    },
    "f55ab803acc14735948c2f353c5ec442": {
     "views": []
    },
    "f566ab42dd654435a2d0d0705661e024": {
     "views": []
    },
    "f57c07bc97c94c33862718bf99b5a89a": {
     "views": []
    },
    "f5df2b15c13243b489cfb08f10523372": {
     "views": []
    },
    "f655ae00acb8416688892b28c4172266": {
     "views": []
    },
    "f65f8c09afca4b5ba86f1bf8560d0e33": {
     "views": []
    },
    "f669dddf2a8c4d2fb6835b4c269e5ac7": {
     "views": []
    },
    "f6713950068a4ff7a7a70eb3896e0be1": {
     "views": []
    },
    "f679d4c4239543eba41ef3830b6da9b3": {
     "views": []
    },
    "f6a022bd29d4403480e4f1108c03c544": {
     "views": []
    },
    "f6accc576c3842b08c9516b052809abb": {
     "views": []
    },
    "f6d0413620cd4cdca7d6b0389be304a3": {
     "views": []
    },
    "f6e0fc4baece41188298a883fa8d45d9": {
     "views": []
    },
    "f72f7f6c3f3945a2bd1184c2dffd9b72": {
     "views": []
    },
    "f74303e136bc4b3391bc5c750902c4f6": {
     "views": []
    },
    "f75e504d7565465b94845c436ac7fd47": {
     "views": []
    },
    "f79002993944433d9a390ea1709a8771": {
     "views": []
    },
    "f7ac0d06182c4630a1ecdb66e779a3b6": {
     "views": []
    },
    "f7d74913a58043a2a96c96e6ab666277": {
     "views": []
    },
    "f7dd75462b454b52beeca1bc890c67e4": {
     "views": []
    },
    "f82348ba30fc400381b34760bcbec96b": {
     "views": []
    },
    "f8259fe935f2446eaed292a1f232245e": {
     "views": []
    },
    "f829de7659394bb49c32a0851d4feed7": {
     "views": []
    },
    "f82b3310985b44f5aefdd38d3bf31afe": {
     "views": []
    },
    "f832a306a8544b1481942cc84f143f2c": {
     "views": []
    },
    "f8365b020a0c4024a29a3bbd8088cdb8": {
     "views": []
    },
    "f844d03638c646d4a985de1cec7e806e": {
     "views": []
    },
    "f84bb2dda4ec4e3b953574c2c02c9e64": {
     "views": []
    },
    "f896163d011b47b8b71a44a87409117c": {
     "views": []
    },
    "f8b67e03b73344298bb008dbd8457b4d": {
     "views": []
    },
    "f8be2ff7723746f58410c35b966ded42": {
     "views": []
    },
    "f8c19d6754974c9ab10d44cc64f18c40": {
     "views": []
    },
    "f8df7a65f5984b0fb4e5986105fd824a": {
     "views": []
    },
    "f91efd7fa5fb422e865c6fdb30682837": {
     "views": []
    },
    "f95b3fbc078948e89acd10a519949909": {
     "views": []
    },
    "f97b0bf4c1dd4778b635c3728d7dd4ec": {
     "views": []
    },
    "f98b39520b144ced9e4fa696d53bebd0": {
     "views": []
    },
    "f9986202d81a4593875c0e6dffa83b32": {
     "views": []
    },
    "f9a374222bd94cb09db46d9752bd8199": {
     "views": []
    },
    "f9d5f441c29949e486dd1cd01d0ac03b": {
     "views": []
    },
    "f9e8cc72e9ea4073883b43416e1e787f": {
     "views": []
    },
    "f9e8e99443a444a89e7994932f05682a": {
     "views": []
    },
    "f9f3d284bbb545619524c3a631005e88": {
     "views": []
    },
    "fa5522ae7f224949a273583c41ecdd2d": {
     "views": []
    },
    "fa6ea7b7f4924879ac8c953e0f98cec0": {
     "views": []
    },
    "fa75ea2d78e849f9b480def0ff3baf6b": {
     "views": []
    },
    "fa7b6a63d3434ac0a846bf2b80cd243e": {
     "views": []
    },
    "fa7bad95acca4a45ab4913e8798b595e": {
     "views": []
    },
    "fa98537be7844b3da0ba119a374555ef": {
     "views": []
    },
    "fadb3e9e35864e7cb7302e6dc4d58b04": {
     "views": []
    },
    "fb0095aac10144fdac8b633b8db9176e": {
     "views": []
    },
    "fb2118e9d7b74617885cdf222be75f4d": {
     "views": []
    },
    "fb28598b22354cda88ea05100874117b": {
     "views": []
    },
    "fb2b954a9cdd40999347a134410b41ae": {
     "views": []
    },
    "fb2d5b512554443ab43c2a191c09e9c6": {
     "views": []
    },
    "fb45de74b0954bfd9218aa76119a226f": {
     "views": []
    },
    "fb50d50ec1f94d5396b0a609778e211f": {
     "views": []
    },
    "fba128ebcc7844d899125d9e43ef460f": {
     "views": []
    },
    "fbc27d05ffa04d968ad9340c24f2ece9": {
     "views": []
    },
    "fc098944a969401b8b4758268b95fda7": {
     "views": []
    },
    "fc1caa9e15ab4e5f9ecbbe6959c05af1": {
     "views": []
    },
    "fc48eb1cbbd641d4b4d9ae18ad2e5863": {
     "views": []
    },
    "fc5d843ec3e44013971e56a5f8f27a80": {
     "views": []
    },
    "fc98086a48104e46b0d84ca6c6c277ab": {
     "views": []
    },
    "fcb76897129d4e2db81a11a4a24bc798": {
     "views": []
    },
    "fce0eb69bc4e47d8859158de3039d2e4": {
     "views": []
    },
    "fcfaff4179a74f8d91f8f911b2c9d55f": {
     "views": []
    },
    "fd0a67bbcbef409d85740cfdf7108bd4": {
     "views": []
    },
    "fd0c304bba94499a97dae8931dcf43e6": {
     "views": []
    },
    "fd2149e288204fb7806f2ee829bf1576": {
     "views": []
    },
    "fd3b18334036498aaec0e19f1abce0be": {
     "views": []
    },
    "fd7268db236840efa42ea7e239e32840": {
     "views": []
    },
    "fd77c3e70dbb4ea485a0ccdfc0c9e898": {
     "views": []
    },
    "fd87c1c133f141808303be0ec98a7658": {
     "views": []
    },
    "fd9e5360baaf4fb486d2b0151004c63e": {
     "views": []
    },
    "fda41f1f0f6e449eb11e144ebc7b2a50": {
     "views": []
    },
    "fdb325a0082b4fdc98a0ec4852a6f2d3": {
     "views": []
    },
    "fdf730f229b04c92bbc8929fb25413e3": {
     "views": []
    },
    "fe15ce2db4054c6594dc9fa3d9ff0dab": {
     "views": []
    },
    "fe3e9eaac94e42b19db668d708a40185": {
     "views": []
    },
    "fe40672d38e14c04a49df3aa0f97bcf9": {
     "views": []
    },
    "fe6aee6261b248dfbded9b5571818375": {
     "views": []
    },
    "fe6c598bf96e41c0bb68078eb41d680c": {
     "views": []
    },
    "fe99ee79711f49b790d508c335a9e348": {
     "views": []
    },
    "fec87c52bccf4a10b5396b181e2607fe": {
     "views": []
    },
    "ff6f5a5c153f4b5192b58685a4daed52": {
     "views": []
    },
    "ff74e6b5ab9b47d48811bc40d9628e63": {
     "views": []
    },
    "ff7b95806b864849a661ff3e0c2d9871": {
     "views": []
    },
    "ffbc5d01bf1248588ffd17a06949c126": {
     "views": []
    },
    "ffcccda7269b45cdba8fe0e23d6fc5e3": {
     "views": []
    },
    "ffd3981d093c4623ab1e13a44737f5a0": {
     "views": []
    }
   },
   "version": "1.1.2"
  }
 },
 "nbformat": 4,
 "nbformat_minor": 0
}
