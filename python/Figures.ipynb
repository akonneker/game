{
 "cells": [
  {
   "cell_type": "code",
   "execution_count": 1,
   "metadata": {
    "collapsed": true
   },
   "outputs": [],
   "source": [
    "from __future__ import print_function"
   ]
  },
  {
   "cell_type": "code",
   "execution_count": 2,
   "metadata": {
    "collapsed": true
   },
   "outputs": [],
   "source": [
    "import sys\n",
    "sys.path.append('../build/')"
   ]
  },
  {
   "cell_type": "code",
   "execution_count": 3,
   "metadata": {
    "collapsed": false
   },
   "outputs": [
    {
     "name": "stdout",
     "output_type": "stream",
     "text": [
      "Populating the interactive namespace from numpy and matplotlib\n"
     ]
    }
   ],
   "source": [
    "%pylab inline\n",
    "np.set_printoptions(precision=4, suppress=True)"
   ]
  },
  {
   "cell_type": "code",
   "execution_count": 4,
   "metadata": {
    "collapsed": true
   },
   "outputs": [],
   "source": [
    "import versor as vsr"
   ]
  },
  {
   "cell_type": "code",
   "execution_count": 5,
   "metadata": {
    "collapsed": true
   },
   "outputs": [],
   "source": [
    "from pythreejs import *\n",
    "import numpy as np\n",
    "from IPython.display import display\n",
    "from ipywidgets import HTML, Text, interact\n",
    "from traitlets import link, dlink"
   ]
  },
  {
   "cell_type": "markdown",
   "metadata": {},
   "source": [
    "# Drawing functions"
   ]
  },
  {
   "cell_type": "code",
   "execution_count": 6,
   "metadata": {
    "collapsed": false
   },
   "outputs": [],
   "source": [
    "def vector_mesh(vec, position=None, color='black', linewidth=2, arrow=False):\n",
    "    length = vec.norm()\n",
    "    line = Line(geometry=PlainGeometry(vertices=[[0,0,0], [0,length,0]],\n",
    "                                   colors = [color, color]), \n",
    "            material=LineBasicMaterial(linewidth=linewidth,\n",
    "                                       vertexColors='VertexColors'), \n",
    "            type='LinePieces')\n",
    "    if arrow:\n",
    "        cone = Mesh(geometry=CylinderGeometry(radiusTop = 0,\n",
    "                                              radiusBottom = 0.1,\n",
    "                                              height = 0.2,\n",
    "                                              radiusSegments = 20,\n",
    "                                              heightSegments = 1,\n",
    "                                              openEnded = False),\n",
    "                    material=LambertMaterial(color=color))\n",
    "        cone.position = [0,length-0.1,0]\n",
    "        line.children = [cone]\n",
    "    line.quaternion = np.array(vec.unit().ratio(vsr.Vec(0,1,0)).quat()).tolist()\n",
    "    if position is not None:\n",
    "        line.position = position\n",
    "    return line\n",
    "\n",
    "def bivector_mesh(biv, color='gray'):\n",
    "    geometry = CircleGeometry(radius=biv.norm(),\n",
    "                              segments=64)\n",
    "    material = LambertMaterial(color=color)\n",
    "    mesh = Mesh(geometry=geometry,\n",
    "                material=material)\n",
    "    mesh.quaternion = np.array(biv.unit().duale().ratio(vsr.Vec(0,0,1)).quat()).tolist()\n",
    "    return mesh\n",
    "\n",
    "def trivector_mesh(tri, color='gray'):\n",
    "    geometry = BoxGeometry()\n",
    "    material = LambertMaterial(color=color)\n",
    "    mesh = Mesh(geometry=geometry,\n",
    "                material=material)\n",
    "    mesh.material.wireframe = True\n",
    "    mesh.position = [0.5,0.5,0.5]\n",
    "\n",
    "    return mesh\n",
    "\n",
    "def sphere_mesh(sph, color='gray'):\n",
    "    mesh = Mesh(geometry=SphereGeometry(radius=sph1.radius(),\n",
    "                                            widthSegments=64,\n",
    "                                            heightSegments=64), \n",
    "                  material=LambertMaterial(color=color),\n",
    "                  position=np.array(sph.pnt())[:3].tolist())\n",
    "    return mesh\n",
    "\n",
    "def point_mesh(pnt, color='gray'):\n",
    "    mesh = Mesh(geometry=SphereGeometry(radius=0.1,\n",
    "                                        widthSegments=32,\n",
    "                                        heightSegments=32), \n",
    "              material=LambertMaterial(color=color))\n",
    "    mesh.position = np.array(pnt)[:3].tolist()\n",
    "    return mesh\n",
    "\n",
    "def frame_mesh(position=None, quaternion=None, size=1, linewidth=2):\n",
    "    frame = Line(geometry=PlainGeometry(vertices=[[0, 0, 0],[size, 0, 0],\n",
    "                                                  [0, 0, 0],[0, size, 0],\n",
    "                                                  [0, 0, 0],[0, 0, size]],\n",
    "                                        colors = ['red','red', \n",
    "                                                  'green','green', \n",
    "                                                  'blue','blue']), \n",
    "             material=LineBasicMaterial(linewidth=linewidth, vertexColors='VertexColors'), \n",
    "             type='LinePieces')\n",
    "    if position is not None:\n",
    "        frame.position = position\n",
    "    if quaternion is not None:\n",
    "        frame.quaternion = quaternion\n",
    "    return frame"
   ]
  },
  {
   "cell_type": "markdown",
   "metadata": {},
   "source": [
    "# Figures"
   ]
  },
  {
   "cell_type": "markdown",
   "metadata": {},
   "source": [
    "## Duality"
   ]
  },
  {
   "cell_type": "code",
   "execution_count": 7,
   "metadata": {
    "collapsed": true
   },
   "outputs": [],
   "source": [
    "B = vsr.Biv(1,0,0)\n",
    "a = B.duale()\n",
    "\n",
    "scene = Scene(children=[\n",
    "        frame_mesh(),\n",
    "        vector_mesh(a,color='blue', arrow=True),\n",
    "        bivector_mesh(B,color='hotpink'),\n",
    "        bivector_mesh(B,color='#eeeeee'),\n",
    "#         DirectionalLight(color='#ccaabb', position=[1,1,1]),\n",
    "        AmbientLight(color='#cccccc')])\n",
    "camera = PerspectiveCamera(position=[3, -3, 3])\n",
    "renderer = Renderer(camera=camera, \n",
    "                    scene=scene, \n",
    "                    controls=[TrackballControls(controlling=camera)],\n",
    "                    background = 'white')\n",
    "# renderer.width = '1024'\n",
    "# renderer.height = '768'\n",
    "\n",
    "display(renderer)"
   ]
  },
  {
   "cell_type": "markdown",
   "metadata": {},
   "source": [
    "## Projection and Rejection"
   ]
  },
  {
   "cell_type": "code",
   "execution_count": 8,
   "metadata": {
    "collapsed": false
   },
   "outputs": [],
   "source": [
    "a = vsr.Vec(1,1,1)\n",
    "B = vsr.Biv(1,0,0)\n",
    "c = a.project_onto(B)\n",
    "d = a.reject_from(B)\n",
    "\n",
    "scene = Scene(children=[\n",
    "        frame_mesh(),\n",
    "        vector_mesh(a,color='gray', arrow=True),\n",
    "        vector_mesh(c,color='gray'),\n",
    "        vector_mesh(d,position=np.array(c).tolist(),color='gray'),\n",
    "        bivector_mesh(B,color='hotpink'),\n",
    "#         DirectionalLight(color='#ccaabb', position=[1,1,1]),\n",
    "        AmbientLight(color='#cccccc')])\n",
    "camera = PerspectiveCamera(position=[3, -3, 3])\n",
    "renderer = Renderer(camera=camera, \n",
    "                    scene=scene, \n",
    "                    controls=[TrackballControls(controlling=camera)],\n",
    "                    background = 'white')\n",
    "# renderer.width = '1024'\n",
    "# renderer.height = '768'\n",
    "display(renderer)"
   ]
  },
  {
   "cell_type": "markdown",
   "metadata": {},
   "source": [
    "## Rotation"
   ]
  },
  {
   "cell_type": "code",
   "execution_count": null,
   "metadata": {
    "collapsed": true
   },
   "outputs": [],
   "source": [
    "a = vsr.Vec(1,0,1)\n",
    "B = vsr.Biv(1,0,0)\n",
    "n = B.duale()\n",
    "a_reflected = a.reflect(n)\n",
    "\n",
    "scene = Scene(children=[\n",
    "        frame_mesh(),\n",
    "        vector_mesh(a,color='black', arrow=True),\n",
    "        vector_mesh(a_reflected,color='black', arrow=True),\n",
    "        vector_mesh(n,color='black', arrow=True),\n",
    "        bivector_mesh(B,color='gray'),\n",
    "        AmbientLight(color='#cccccc')])\n",
    "\n",
    "camera = PerspectiveCamera(position=[1, -3, 0])\n",
    "renderer = Renderer(camera=camera, \n",
    "                    scene=scene, \n",
    "                    controls=[TrackballControls(controlling=camera)],\n",
    "                    background = 'white')\n",
    "# renderer.width = '1024'\n",
    "# renderer.height = '768'\n",
    "display(renderer)"
   ]
  },
  {
   "cell_type": "markdown",
   "metadata": {},
   "source": [
    "## Rotation"
   ]
  },
  {
   "cell_type": "code",
   "execution_count": 35,
   "metadata": {
    "collapsed": false
   },
   "outputs": [
    {
     "name": "stdout",
     "output_type": "stream",
     "text": [
      "Vec: [ 0.35 0.61 0.71 ]\n",
      "Vec: [ 0.35 0.61 0.71 ]\n"
     ]
    }
   ],
   "source": [
    "\n",
    "n1 = vsr.Vec(0,1,0).unit()\n",
    "# n2 = vsr.Vec(-1,1,0).unit()\n",
    "n2 = n1.spin(vsr.Biv(-np.deg2rad(30) / 2,0,0).exp())\n",
    "\n",
    "B = n1 ^ n2\n",
    "\n",
    "R = n1 * n2\n",
    "\n",
    "a = vsr.Vec(1,0,1).unit()\n",
    "a_rot = a.reflect(n2).reflect(n1)\n",
    "print(a_rot)\n",
    "print(a.spin(R))\n",
    "B_mesh = bivector_mesh(B,color='gray')\n",
    "B_mesh.material.opacity = 0.9\n",
    "B_mesh.material.transparent = True\n",
    "\n",
    "scene = Scene(children=[\n",
    "#         frame_mesh(),\n",
    "        vector_mesh(n1,color='yellow'),\n",
    "        vector_mesh(n2,color='cyan'),\n",
    "        vector_mesh(a, color='hotpink'),\n",
    "        vector_mesh(a.reflect(n2)),\n",
    "        vector_mesh(a_rot, color='black'),\n",
    "#         bivector_mesh(n1.unduale(),color='yellow'),\n",
    "#         bivector_mesh(n2.unduale(),color='cyan'),\n",
    "        B_mesh,\n",
    "        AmbientLight(color='#cccccc')])\n",
    "\n",
    "camera = PerspectiveCamera(position=[3, -3, 3])\n",
    "renderer = Renderer(camera=camera, \n",
    "                    scene=scene, \n",
    "                    controls=[TrackballControls(controlling=camera)],\n",
    "                    background = 'white')\n",
    "# renderer.width = '1024'\n",
    "# renderer.height = '768'\n",
    "display(renderer)"
   ]
  },
  {
   "cell_type": "code",
   "execution_count": 27,
   "metadata": {
    "collapsed": false
   },
   "outputs": [
    {
     "data": {
      "text/plain": [
       "Vec: [ 0.5 0.87 0 ]"
      ]
     },
     "execution_count": 27,
     "metadata": {},
     "output_type": "execute_result"
    }
   ],
   "source": [
    "vsr.Vec(1,0,0).spin(R)"
   ]
  },
  {
   "cell_type": "code",
   "execution_count": 28,
   "metadata": {
    "collapsed": false
   },
   "outputs": [
    {
     "data": {
      "text/plain": [
       "29.999999999999993"
      ]
     },
     "execution_count": 28,
     "metadata": {},
     "output_type": "execute_result"
    }
   ],
   "source": [
    "np.rad2deg(np.arccos(R[0]))"
   ]
  },
  {
   "cell_type": "code",
   "execution_count": null,
   "metadata": {
    "collapsed": false
   },
   "outputs": [],
   "source": [
    "@interact(x=10,y=10,z=10)\n",
    "def position_camera(x,y,z):\n",
    "    camera.position = [x,y,z]"
   ]
  },
  {
   "cell_type": "code",
   "execution_count": null,
   "metadata": {
    "collapsed": false
   },
   "outputs": [],
   "source": [
    "class Sphere(object):\n",
    "    def __init__(self):\n",
    "        pass\n",
    "    def update(vsr_sph):\n",
    "        r, p, q = vsr_sph.rpo()\n",
    "        \n",
    "def make_sphere():\n",
    "    return Mesh(geometry = SphereGeometry(),\n",
    "                material= BasicMaterial(color='red'))\n",
    "\n",
    "def make_circle():\n",
    "    return Mesh(geometry = RingGeometry(thetaSegments=64), \n",
    "              material= BasicMaterial(color='black'))\n",
    "\n",
    "class Game(object):\n",
    "    class Circle(vsr.Cir, Mesh):\n",
    "        def __init__(self):\n",
    "            self._color = 'black'\n",
    "            super(Mesh, self).__init__(geometry = RingGeometry(thetaSegments=64), \n",
    "                          material= BasicMaterial(color=self._color))\n",
    "            \n",
    "        @property\n",
    "        def mesh(self):\n",
    "            return self._mesh\n",
    "        \n",
    "        def update_mesh(self):\n",
    "            (r, p, q) = self.rpo()\n",
    "            self.geometry.innerRadius = r\n",
    "            self.geometry.outerRadius = r + 0.1\n",
    "            self.position = p\n",
    "            self.quaternion = q\n",
    "        "
   ]
  },
  {
   "cell_type": "markdown",
   "metadata": {},
   "source": [
    "## Rotation"
   ]
  },
  {
   "cell_type": "code",
   "execution_count": 24,
   "metadata": {
    "collapsed": false
   },
   "outputs": [
    {
     "name": "stdout",
     "output_type": "stream",
     "text": [
      "Vec: [ -0.5 0.87 1 ]\n",
      "Vec: [ -0.5 0.87 1 ]\n"
     ]
    }
   ],
   "source": [
    "\n",
    "n1 = vsr.Vec(0,1,0).unit()\n",
    "# n2 = vsr.Vec(-1,1,0).unit()\n",
    "n2 = n1.spin(vsr.Biv(-np.deg2rad(30),0,0).exp())\n",
    "\n",
    "B = n1 ^ n2\n",
    "\n",
    "R = n1 * n2\n",
    "\n",
    "a = vsr.Vec(1,0,1)\n",
    "a_rot = a.reflect(n2).reflect(n1)\n",
    "print(a_rot)\n",
    "print(a.spin(R))\n",
    "\n",
    "\n",
    "scene = Scene(children=[\n",
    "        frame_mesh(),\n",
    "        vector_mesh(n1,color='yellow'),\n",
    "        vector_mesh(n2,color='cyan'),\n",
    "        vector_mesh(a, color='hotpink'),\n",
    "        vector_mesh(a.reflect(n2)),\n",
    "        vector_mesh(a_rot, color='black'),\n",
    "#         bivector_mesh(n1.unduale(),color='yellow'),\n",
    "#         bivector_mesh(n2.unduale(),color='cyan'),\n",
    "        bivector_mesh(B,color='gray'),\n",
    "        AmbientLight(color='#cccccc')])\n",
    "\n",
    "camera = PerspectiveCamera(position=[3, -3, 3])\n",
    "renderer = Renderer(camera=camera, \n",
    "                    scene=scene, \n",
    "                    controls=[TrackballControls(controlling=camera)],\n",
    "                    background = 'white')\n",
    "# renderer.width = '1024'\n",
    "# renderer.height = '768'\n",
    "display(renderer)"
   ]
  },
  {
   "cell_type": "code",
   "execution_count": 22,
   "metadata": {
    "collapsed": false
   },
   "outputs": [
    {
     "data": {
      "text/plain": [
       "Vec: [ -0.5 0.87 0 ]"
      ]
     },
     "execution_count": 22,
     "metadata": {},
     "output_type": "execute_result"
    }
   ],
   "source": [
    "vsr.Vec(1,0,0).spin(R)"
   ]
  },
  {
   "cell_type": "code",
   "execution_count": 23,
   "metadata": {
    "collapsed": false
   },
   "outputs": [
    {
     "data": {
      "text/plain": [
       "119.99999999999997"
      ]
     },
     "execution_count": 23,
     "metadata": {},
     "output_type": "execute_result"
    }
   ],
   "source": [
    "2 * np.rad2deg(np.arccos(R[0]))"
   ]
  },
  {
   "cell_type": "code",
   "execution_count": null,
   "metadata": {
    "collapsed": false
   },
   "outputs": [],
   "source": [
    "sph1 = vsr.Sph(vsr.Vec(0.7,0,0).null(), 1.5)\n",
    "sph2 = vsr.Sph(vsr.Vec(-0.5,0,0).null(), 1.)\n",
    "cir = sph1.meet(sph2)\n",
    "r = cir.rot()\n",
    "\n",
    "sphere1 = Mesh(geometry = SphereGeometry(radius=sph1.radius(),\n",
    "                                        widthSegments=64,\n",
    "                                        heightSegments=64), \n",
    "              material= BasicMaterial(color='red'),\n",
    "              position=np.array(sph1.pnt())[:3].tolist())\n",
    "\n",
    "sphere2 = Mesh(geometry = SphereGeometry(radius=sph2.radius(),\n",
    "                                        widthSegments=64,\n",
    "                                        heightSegments=64), \n",
    "              material= BasicMaterial(color='blue', wireframe=False),\n",
    "              position=np.array(sph2.pnt())[:3].tolist())\n",
    "\n",
    "circle = Mesh(geometry = RingGeometry(innerRadius=cir.radius(),\n",
    "                                                outerRadius=cir.radius()+0.05,\n",
    "                                                thetaSegments=64), \n",
    "              material= BasicMaterial(color='black'),\n",
    "              position=np.array(cir.pnt())[:3].tolist(),\n",
    "              quaternion = cir.rot().quat().tolist())\n",
    "\n",
    "\n",
    "\n",
    "scene = Scene(children=[sphere1, sphere2, circle])\n",
    "c = PerspectiveCamera(position=[10, 5, 10])\n",
    "renderer = Renderer(camera=c, scene = scene, controls=[TrackballControls(controlling=c)],\n",
    "                    background = 'white')\n",
    "display(renderer)\n",
    "@interact(circlecolor=('hotpink', 'gray', 'black'),\n",
    "         sphere1color=('hotpink', 'gray', 'black'),\n",
    "         sphere2color=('hotpink', 'gray', 'black'))\n",
    "def set_radius(circlecolor, sphere1color, sphere2color):\n",
    "    sphere1.material.color = sphere1color\n",
    "    sphere2.material.color = sphere2color\n",
    "    circle.material.color = circlecolor"
   ]
  },
  {
   "cell_type": "code",
   "execution_count": null,
   "metadata": {
    "collapsed": false
   },
   "outputs": [],
   "source": [
    "%%javascript\n",
    "console.log('hallo')\n",
    "Jupyter.notebook.get_selected_cell()"
   ]
  },
  {
   "cell_type": "code",
   "execution_count": null,
   "metadata": {
    "collapsed": false
   },
   "outputs": [],
   "source": [
    "cir = vsr.Sph(vsr.Vec(0,0,0).null(), 3).meet(vsr.Sph(vsr.Vec(1,0,0).null(), 3))\n",
    "print(cir.rpo())\n",
    "radius, position, quat = cir.rpo()"
   ]
  },
  {
   "cell_type": "code",
   "execution_count": null,
   "metadata": {
    "collapsed": true
   },
   "outputs": [],
   "source": []
  },
  {
   "cell_type": "code",
   "execution_count": null,
   "metadata": {
    "collapsed": true
   },
   "outputs": [],
   "source": []
  }
 ],
 "metadata": {
  "kernelspec": {
   "display_name": "Python 2",
   "language": "python",
   "name": "python2"
  },
  "language_info": {
   "codemirror_mode": {
    "name": "ipython",
    "version": 2
   },
   "file_extension": ".py",
   "mimetype": "text/x-python",
   "name": "python",
   "nbconvert_exporter": "python",
   "pygments_lexer": "ipython2",
   "version": "2.7.11+"
  },
  "widgets": {
   "state": {
    "005dd13735e34157a537d22b8c2f5ce2": {
     "views": []
    },
    "0077bee4e16243f796e2af8c1aaf3e43": {
     "views": []
    },
    "00f1226ca3d84aefa25d8a2c87e230dc": {
     "views": []
    },
    "01830dfdd1bb4574a8b2c4f93c387be4": {
     "views": []
    },
    "01c17462e3a94ab69c5384cbc0338c28": {
     "views": []
    },
    "020522ae9c04482baa7b7b9abc0bc341": {
     "views": []
    },
    "06ddfe6cccf74fde8c803eb877321a5e": {
     "views": []
    },
    "07b3721319bb4b6d88e6c8b67a97d6ca": {
     "views": []
    },
    "08144bb5ec574ad2868389cab0fc9ace": {
     "views": []
    },
    "084f07906f6642b7bd3ad075e75aa859": {
     "views": []
    },
    "08a1f6e6aeb446748380a46deedb79af": {
     "views": []
    },
    "0b76627bfaa44f2fab043941823e8e0c": {
     "views": []
    },
    "0fb430edcb294f10be328ea89c034964": {
     "views": []
    },
    "112234c73d724dabb0d3f447aa675403": {
     "views": []
    },
    "155b8c4915144fe9949a238230a236ea": {
     "views": []
    },
    "165411e8671d46a281edabb51fce3e44": {
     "views": []
    },
    "184b38d823f5413abc41e7ff9c0a8c33": {
     "views": []
    },
    "19c9c453eab64722af341414bd468323": {
     "views": []
    },
    "1b0d2082204d4b4392071af3c51de2a1": {
     "views": []
    },
    "1b83a1fddd4b4d6cb4c0f4f28e53bd9b": {
     "views": []
    },
    "1ba8b0767747485ba9a0f5a7f7f85d5b": {
     "views": []
    },
    "1fba028807164478be354bc707555456": {
     "views": []
    },
    "2211a9a11c084aa1b438f55cf936c770": {
     "views": []
    },
    "22f190e5164c4e11a99f3aa2299ccc21": {
     "views": []
    },
    "249be15590e94776bf60dbc08cd26cb9": {
     "views": []
    },
    "2517d2f8598f411abb6eb43cf94b48d7": {
     "views": []
    },
    "253ac65d377a4580b7a1ce05ea400e3b": {
     "views": []
    },
    "25c478a10c89486b9f3f7898f069b730": {
     "views": []
    },
    "2eb45b61fd8c4082abdccf6446d9578f": {
     "views": []
    },
    "330dfc9f8c02439fbf12a119fe97809c": {
     "views": []
    },
    "334b64297fb447c4bc0e13e68b00c4ac": {
     "views": []
    },
    "340fc5ba91c74fda902dc43bf2ab386b": {
     "views": []
    },
    "3733ea85b0f44d94a9654a9db3de21d3": {
     "views": []
    },
    "39aed372d0604bcc8a813c6f6d30f0db": {
     "views": []
    },
    "3a2130ba755d4d3297f231122a703c89": {
     "views": []
    },
    "3a3172ee7a6d444ca0f42ee1bfdb5f05": {
     "views": []
    },
    "3aaae53c704845bb80fa40ce67b03058": {
     "views": []
    },
    "3b07e2da69954dd9b3a224d9d82d3e0e": {
     "views": []
    },
    "3c4e65b96d4f4eb898843a3238b28558": {
     "views": []
    },
    "3c6fa5a967a14424a12614012dbc9f36": {
     "views": []
    },
    "4034cc55580c4a11996d5a2b83ffbf12": {
     "views": []
    },
    "424ac77d374c400bba0d60d42215a43a": {
     "views": []
    },
    "45930ee33d864766ac36ff5dc7c05c04": {
     "views": [
      {
       "cell_index": 9
      }
     ]
    },
    "4845ffc14f214fe0b87d7477f751c201": {
     "views": []
    },
    "4bd12c5d6e2f4c928a59892768566f15": {
     "views": []
    },
    "4c9e5513556e49e2beebcd5fa62b588e": {
     "views": []
    },
    "4e085caf53ae4c5799954eb8c6ff4648": {
     "views": []
    },
    "5129d15d3a8f4748bfc074267ac3b191": {
     "views": []
    },
    "563f551397ef4a3c90f0ac3403370302": {
     "views": []
    },
    "57b3b9e979e945be9836525749f50e6e": {
     "views": []
    },
    "58825f230a2f4d50a7ae0d9e28977d48": {
     "views": []
    },
    "58946672ac15424899f8d121a8b2a43a": {
     "views": []
    },
    "5950b95862334c2096725a30bf021f2a": {
     "views": []
    },
    "59c0bc3d3cd7489bb6fa32e66a6f0428": {
     "views": []
    },
    "5a4c7bf804a04feb96c6803e1e7e3925": {
     "views": []
    },
    "5d319eb03c4644b8aadf0bd8ea7552c2": {
     "views": []
    },
    "5da4e67a6b8e4223bd16edf67556d083": {
     "views": []
    },
    "5dbc86389c2f4a45bd516b66a233f26c": {
     "views": []
    },
    "5eb23504732f451b8353fcb53b3fd227": {
     "views": []
    },
    "5f287568c3b849f692922409a50e1ada": {
     "views": []
    },
    "5fe5eef5ec21472d94d0ab6c6b05de05": {
     "views": []
    },
    "60b317870bc94c3b88d0450e090788a1": {
     "views": []
    },
    "61c706cda9bd40e3857bfd8949adc942": {
     "views": []
    },
    "631b5a4749a6458492418bdf5dba7dd7": {
     "views": []
    },
    "633e48a5f0af498daf35106f95308870": {
     "views": []
    },
    "64952e517c434e7987286e8de1502b5a": {
     "views": []
    },
    "652a848256754f0595feaefb3915544c": {
     "views": []
    },
    "6674b0076704427498129efd3836f7e7": {
     "views": []
    },
    "66d80b4b25e4451ba30ac7745b66c2c7": {
     "views": []
    },
    "679673e3eba6410b89b478d347302477": {
     "views": []
    },
    "67b6a1e4ca5d401ba8e2f0f47b41a63a": {
     "views": []
    },
    "6853f9deb2444c268d5b9cbd67fb14d6": {
     "views": []
    },
    "6e923e183b294ded83e4475b1afd2aa4": {
     "views": []
    },
    "6f8db98e55414ae29ccb75a4942452a7": {
     "views": []
    },
    "722a496d736442a6bae748dae6ef63f0": {
     "views": []
    },
    "733a6f7a873e46e08280a6d5364c89f6": {
     "views": []
    },
    "740304f119094bdf8bf16a83740b0c2b": {
     "views": []
    },
    "74106848bd3c4bac9da0bfbd5530a04d": {
     "views": []
    },
    "74f32d519ad847f2bc878c7264d88345": {
     "views": []
    },
    "76e22ce4f699420d9efbca08668956f6": {
     "views": []
    },
    "77c9e83862554a5491576bf0a859ea50": {
     "views": []
    },
    "78988eac48144dcfa63dabcb0b478b56": {
     "views": []
    },
    "7990530ffde14683b94c807f384616a9": {
     "views": []
    },
    "7a533f37066347b5bb2f234b83da9baa": {
     "views": []
    },
    "7bffd6466f2c4f33926cfc83072d5c82": {
     "views": []
    },
    "7c4f1c3f35d7485eb24841ab877450d3": {
     "views": []
    },
    "7fa4848eaf974cc883c85a94685c298c": {
     "views": []
    },
    "820dd8544fd8473c8f237dc3477e0d16": {
     "views": []
    },
    "82a51db476b5429d97da057b9855b8d5": {
     "views": []
    },
    "852284d4a9f84ccbac5dcbaf07b7b39c": {
     "views": []
    },
    "865ec8b5d11b4da79450ad20fddd78bd": {
     "views": []
    },
    "866b78ab07994b4c89316894b2ad7bc8": {
     "views": []
    },
    "869489c36ad14a27aaa5e752b198c9f4": {
     "views": []
    },
    "8823c4ba5cf4469bb2e1199bb484bfa9": {
     "views": []
    },
    "8bb8286606de4ac1bf8f1ec498ccbf7e": {
     "views": []
    },
    "910a59073102496183e4b8292ca062a5": {
     "views": []
    },
    "9195a78bdbc94ff890241b3f12864e07": {
     "views": []
    },
    "9289c937f7f641218e50755237624fc1": {
     "views": []
    },
    "93225ff6ff7743609dc3222b8fa6f9bf": {
     "views": []
    },
    "93657ec5370c4cb08a03bfa48aec0e14": {
     "views": []
    },
    "97bf562f96fb473c84fb3fd759500300": {
     "views": []
    },
    "98305a0e177f4d2da73e65f801bc38d5": {
     "views": []
    },
    "9855d84d170c462d910d7b4dfd011253": {
     "views": []
    },
    "9c17ba187b6c47f3a1450c1caa2f2eef": {
     "views": []
    },
    "9fc13f43ee7f42339b9d562acb7ccfea": {
     "views": []
    },
    "a2454e1dae3c4f7998811c99b743f3ed": {
     "views": []
    },
    "a24dc54a1e964429b292536239fd8d3f": {
     "views": []
    },
    "a2a950d5bdc84fbe9f234345e0ea8234": {
     "views": []
    },
    "a34204a82fb64c7d8d71dde7f8aeb98f": {
     "views": []
    },
    "a652ffe51b174843a35df633bcae20d8": {
     "views": []
    },
    "a676a16448844dc48f68b37bb6ee3bd3": {
     "views": []
    },
    "a9998b51e79747da8d7269359a061491": {
     "views": []
    },
    "aadc9827bf184955b07ac5e3898185c7": {
     "views": []
    },
    "ab68b25e72754b6083b16e55cfe350bb": {
     "views": []
    },
    "ac6b5901dfc248d7ae5129035a4def5e": {
     "views": []
    },
    "ae5e09736c8b432db08e9dbbb63cdb72": {
     "views": []
    },
    "b193305de5dc4fbf9df7521ebdd3e01e": {
     "views": []
    },
    "b2c923376be34088a14f803c2e44f16f": {
     "views": []
    },
    "b346b2ce44604b1583cd358dcfaa560b": {
     "views": []
    },
    "b45fc4ee89074a7a9be9a61dcd8392f7": {
     "views": []
    },
    "b521e6bfbdc84d2589acb83591cfc4d7": {
     "views": []
    },
    "b70fc9e2a64047fcbee4e536236d6546": {
     "views": []
    },
    "b924715a923d40378b4063b9598ceff7": {
     "views": []
    },
    "bae5f83d430541b6a8e6d363131c2ef0": {
     "views": []
    },
    "bae6327bd7ed4c60a35a330b5b9066d4": {
     "views": []
    },
    "be6b5ffdcfd948d6885938a1a0447f94": {
     "views": [
      {
       "cell_index": 11
      }
     ]
    },
    "beb6129aa782498180e54964abc8fad3": {
     "views": []
    },
    "bfcdf61851a145198ef9dfacfebe9c99": {
     "views": []
    },
    "c0ffd67bbafe4519bfdf35dcf36d418b": {
     "views": []
    },
    "c2297074b03f45349f785c291eb022a3": {
     "views": []
    },
    "c3b1d2bf4be84164b3148eb53c47698a": {
     "views": []
    },
    "c7c0aaa9393f4fa59015a5b986fc17d5": {
     "views": []
    },
    "c84c24d84ce14316bd74520a448aed2a": {
     "views": []
    },
    "c93724404d7e4594ad2eeb8474fc4549": {
     "views": []
    },
    "c9b3168e2ecc4e069d0c8ffcd24a74b2": {
     "views": []
    },
    "cc42b863e64d4cfb95c36fe590c082e5": {
     "views": []
    },
    "cdae8a931a404be0b1c3c158a2a434ff": {
     "views": []
    },
    "ce51044ea1ac48ad81db8881e1969114": {
     "views": []
    },
    "d16539c5b56949bb903ea02fcc439332": {
     "views": []
    },
    "d1ded46f3a784a4f945f3ca908d081c4": {
     "views": []
    },
    "d2b461b0c74d4eb8a7d7e11d774071a4": {
     "views": []
    },
    "d4ef3d1f9e23435393139b01dd8d276f": {
     "views": []
    },
    "d53f7815a2124ac197218bf763b88b56": {
     "views": []
    },
    "d7a0b3cc45d04993a35d3dce1550c263": {
     "views": []
    },
    "d924a52675c8471dbd13d8e0aa18deaf": {
     "views": []
    },
    "d987113858b143138631d59597bd408d": {
     "views": []
    },
    "d9e333a964f3402ba8f168aa7c2d766a": {
     "views": []
    },
    "dbb555a43c8e463187c1329f17530675": {
     "views": []
    },
    "dbbd413dcd204d079db26214cd4793cb": {
     "views": []
    },
    "dbc7bc63855642f29e501b62816cf926": {
     "views": []
    },
    "ddd090fd7cb44ae486d1258b87271e3b": {
     "views": []
    },
    "ddd87d3a9708417fae58e9f97f13b414": {
     "views": []
    },
    "ded4b30c77e84b74a8fcb5debf0a90c9": {
     "views": []
    },
    "df326078765549c4b0b7caf5eb2ef014": {
     "views": [
      {
       "cell_index": 9
      }
     ]
    },
    "e1fb1e45a8184b9696cf74ccdc696e48": {
     "views": []
    },
    "e2b1ff083d284d8781e89df18af5e9f8": {
     "views": []
    },
    "e2b3a4ca258043559bb77bff793294f0": {
     "views": []
    },
    "e39994c841ec44c79a50b4cdb960b1d0": {
     "views": []
    },
    "e5baf2ebaa8f49ba9fea4760fac2f7e6": {
     "views": []
    },
    "e6e4a5abc6694f428645fb8c5acacf2b": {
     "views": []
    },
    "edca8a263f1e4066b971b0e6e7549c6d": {
     "views": []
    },
    "ee1d3ce7af2c4f7ab3b6f6ce00c47e07": {
     "views": []
    },
    "efda442e5ba3493cac3b7fe708f4a441": {
     "views": []
    },
    "f057d019ba80468885eda39b513c1863": {
     "views": []
    },
    "f11a20f75e3041fc88723ae23cffbd73": {
     "views": []
    },
    "f22a714c4be141e98f521a3d157c3780": {
     "views": []
    },
    "f2cf30d9acca489398fb0474e62b4964": {
     "views": []
    },
    "f4b7f99d671a4348bcc303e8e1873a4e": {
     "views": []
    },
    "f532fb99c0df486cbe6c3607067e4013": {
     "views": []
    },
    "f54be49e1a9943bc9f0c32fdde337a13": {
     "views": []
    },
    "f654b891ffc04f62a2a71cf06c4b7922": {
     "views": []
    },
    "f796b93984144345997285df5bf01998": {
     "views": []
    },
    "fa6d6c361ac14d33a352f5bf17612839": {
     "views": []
    },
    "fa9df36b57bf4072ab5c20f41d1aba7d": {
     "views": []
    },
    "fb4a7cc335d544a6a28c42d59ac2a1da": {
     "views": []
    },
    "fbc71c8918f34d63a06c0b35fc183797": {
     "views": []
    },
    "fcdf98eb17b84a10a9ff79343f3497e9": {
     "views": []
    },
    "fdc0c3c1ca8048818e634ce614d9a4ec": {
     "views": []
    },
    "ff42ed9ea0d64a70babe98839226accc": {
     "views": []
    }
   },
   "version": "1.1.2"
  }
 },
 "nbformat": 4,
 "nbformat_minor": 0
}
