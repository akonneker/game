{
 "cells": [
  {
   "cell_type": "code",
   "execution_count": 1,
   "metadata": {
    "collapsed": false
   },
   "outputs": [
    {
     "name": "stdout",
     "output_type": "stream",
     "text": [
      "Populating the interactive namespace from numpy and matplotlib\n"
     ]
    }
   ],
   "source": [
    "from __future__ import print_function\n",
    "import sys\n",
    "sys.path.append('../build/')\n",
    "%pylab inline\n",
    "np.set_printoptions(precision=4, suppress=True)"
   ]
  },
  {
   "cell_type": "code",
   "execution_count": 2,
   "metadata": {
    "collapsed": true
   },
   "outputs": [],
   "source": [
    "import versor as vsr\n",
    "from versor.drawing import *"
   ]
  },
  {
   "cell_type": "markdown",
   "metadata": {},
   "source": [
    "# Points and Spheres"
   ]
  },
  {
   "cell_type": "code",
   "execution_count": 3,
   "metadata": {
    "collapsed": false
   },
   "outputs": [],
   "source": [
    "motor = vsr.Vec(1,1,1).trs() * vsr.Rot(vsr.Biv(0,1,0) * np.pi/6.0)\n",
    "points_a = [vsr.Vec(*np.random.rand(3) * 2.).null() for i in range(3)]\n",
    "points_b = [point.spin(motor) for point in points_a]\n",
    "vectors = [b - a for a,b in zip(points_a, points_b)]\n",
    "spheres_a = [vsr.Sph(point, np.random.rand(1) * 0.4 + 0.2) for point in points_a]\n",
    "spheres_b = [sphere.spin(motor) for sphere in spheres_a]"
   ]
  },
  {
   "cell_type": "markdown",
   "metadata": {},
   "source": [
    "## Points"
   ]
  },
  {
   "cell_type": "code",
   "execution_count": 4,
   "metadata": {
    "collapsed": false
   },
   "outputs": [],
   "source": [
    "scene = Scene(children=\n",
    "              [point_mesh(point,color=Colors.HOTPINK) for point in points_a] +\\\n",
    "              [point_mesh(point,color=Colors.LIGHTSKYBLUE) for point in points_b] +\\\n",
    "              [vector_mesh((b-a).vec(), position=a, arrow=True, color=Colors.GRAY) for a,b in zip(points_a, points_b)] +\\\n",
    "              [frame_mesh(),AmbientLight(color='#cccccc')])\n",
    "\n",
    "camera = PerspectiveCamera(position=[3, -3, 3])\n",
    "renderer = Renderer(camera=camera, \n",
    "                    scene=scene, \n",
    "                    controls=[TrackballControls(controlling=camera)],\n",
    "                    background = 'white',\n",
    "                    width='960',\n",
    "                    height='512')\n",
    "display(renderer)"
   ]
  },
  {
   "cell_type": "code",
   "execution_count": 5,
   "metadata": {
    "collapsed": false
   },
   "outputs": [],
   "source": [
    "scene = Scene(children=\n",
    "              [point_mesh(point,color=Colors.HOTPINK) for point in points_a] +\\\n",
    "              [point_mesh(point,color=Colors.LIGHTSKYBLUE) for point in points_b] +\\\n",
    "              [vector_mesh((b-a).vec(), position=a, arrow=True, color=Colors.GRAY) for a,b in zip(points_a, points_b)] +\\\n",
    "              [plane_mesh((b-a), position=(a.vec() + (b-a).vec() * 0.5),height=1, width=1, color=Colors.LIGHTGRAY) for a,b in zip(points_a, points_b)] +\\\n",
    "              [plane_mesh((b-a).unit(), height=10, width=10, color=Colors.LIGHTSKYBLUE) for a,b in zip(points_a, points_b)] +\\\n",
    "              [frame_mesh(),AmbientLight(color='#cccccc')])\n",
    "\n",
    "camera = PerspectiveCamera(position=[3, -3, 3])\n",
    "renderer = Renderer(camera=camera, \n",
    "                    scene=scene, \n",
    "                    controls=[TrackballControls(controlling=camera)],\n",
    "                    background = 'white',\n",
    "                    width='960',\n",
    "                    height='512')\n",
    "width='1024'\n",
    "height='768'\n",
    "display(renderer)"
   ]
  },
  {
   "cell_type": "code",
   "execution_count": 6,
   "metadata": {
    "collapsed": false
   },
   "outputs": [
    {
     "data": {
      "text/plain": [
       "22.650970341611632"
      ]
     },
     "execution_count": 6,
     "metadata": {},
     "output_type": "execute_result"
    }
   ],
   "source": [
    "a = points_a[0]\n",
    "b = points_b[0]\n",
    "c = b - a\n",
    "np.inner(c,c)"
   ]
  },
  {
   "cell_type": "code",
   "execution_count": 7,
   "metadata": {
    "collapsed": false
   },
   "outputs": [
    {
     "data": {
      "text/plain": [
       "Pnt: [ 1.488 0.7219 0.3186 1 1.418 ]"
      ]
     },
     "execution_count": 7,
     "metadata": {},
     "output_type": "execute_result"
    }
   ],
   "source": [
    "a"
   ]
  },
  {
   "cell_type": "code",
   "execution_count": 8,
   "metadata": {
    "collapsed": false
   },
   "outputs": [
    {
     "data": {
      "text/plain": [
       "Pnt: [ 1.468 1.722 2.448 1 5.555 ]"
      ]
     },
     "execution_count": 8,
     "metadata": {},
     "output_type": "execute_result"
    }
   ],
   "source": [
    "b"
   ]
  },
  {
   "cell_type": "code",
   "execution_count": 9,
   "metadata": {
    "collapsed": false
   },
   "outputs": [
    {
     "data": {
      "text/plain": [
       "Dlp: [ -0.01972 1 2.129 4.137 ]"
      ]
     },
     "execution_count": 9,
     "metadata": {},
     "output_type": "execute_result"
    }
   ],
   "source": [
    "c"
   ]
  },
  {
   "cell_type": "code",
   "execution_count": 10,
   "metadata": {
    "collapsed": false
   },
   "outputs": [
    {
     "data": {
      "text/plain": [
       "4.1373708805380254"
      ]
     },
     "execution_count": 10,
     "metadata": {},
     "output_type": "execute_result"
    }
   ],
   "source": [
    "v = np.array(c)[:3]\n",
    "0.5 * (np.inner(np.array(b)[:3],np.array(b)[:3]) - np.inner(np.array(a)[:3],np.array(a)[:3]))"
   ]
  },
  {
   "cell_type": "code",
   "execution_count": 11,
   "metadata": {
    "collapsed": false
   },
   "outputs": [
    {
     "data": {
      "text/plain": [
       "1.4177945588957181"
      ]
     },
     "execution_count": 11,
     "metadata": {},
     "output_type": "execute_result"
    }
   ],
   "source": [
    "0.5 * np.inner(np.array(a)[:3],np.array(a)[:3])"
   ]
  },
  {
   "cell_type": "code",
   "execution_count": 12,
   "metadata": {
    "collapsed": false
   },
   "outputs": [
    {
     "data": {
      "text/plain": [
       "5.5331325384876378"
      ]
     },
     "execution_count": 12,
     "metadata": {},
     "output_type": "execute_result"
    }
   ],
   "source": [
    "np.inner(v,v)"
   ]
  },
  {
   "cell_type": "markdown",
   "metadata": {},
   "source": [
    "## Spheres"
   ]
  },
  {
   "cell_type": "code",
   "execution_count": 13,
   "metadata": {
    "collapsed": false
   },
   "outputs": [],
   "source": [
    "scene = Scene(children=\n",
    "              [sphere_mesh(sphere,color=Colors.HOTPINK) for sphere in spheres_a] +\\\n",
    "              [sphere_mesh(sphere,color=Colors.LIGHTSKYBLUE) for sphere in spheres_b] +\\\n",
    "              [point_mesh(point,color=Colors.RED) for point in points_a] +\\\n",
    "              [point_mesh(point,color=Colors.BLUE) for point in points_b] +\\\n",
    "              [vector_mesh((b-a).vec(), position=a, arrow=True, color=Colors.BLACK) for a,b in zip(points_a, points_b)] +\\\n",
    "              [frame_mesh(),AmbientLight(color='#cccccc')])\n",
    "\n",
    "camera = PerspectiveCamera(position=[3, -3, 3])\n",
    "renderer = Renderer(camera=camera, \n",
    "                    scene=scene, \n",
    "                    controls=[TrackballControls(controlling=camera)],\n",
    "                    background = 'white')\n",
    "renderer.width = '800'\n",
    "renderer.height = '600'\n",
    "\n",
    "display(renderer)"
   ]
  },
  {
   "cell_type": "markdown",
   "metadata": {
    "collapsed": false
   },
   "source": [
    "# Lines and Planes"
   ]
  },
  {
   "cell_type": "markdown",
   "metadata": {
    "collapsed": true
   },
   "source": [
    "## Lines"
   ]
  },
  {
   "cell_type": "code",
   "execution_count": 14,
   "metadata": {
    "collapsed": true
   },
   "outputs": [],
   "source": [
    "def line_intersection(l1,l2):\n",
    "    return(l1.loc(l1.comm(l2).unit().loc(vsr.Vec(0,0,0).null()))) "
   ]
  },
  {
   "cell_type": "code",
   "execution_count": 15,
   "metadata": {
    "collapsed": false,
    "scrolled": true
   },
   "outputs": [],
   "source": [
    "motor = vsr.Vec(1,0,1).trs() * vsr.Rot(vsr.Biv(1,0,0) * np.pi/6.0)\n",
    "\n",
    "l1 = vsr.Dll(vsr.Vec(0,-1,0).null(), vsr.Vec(1,0,0).null()).unit()\n",
    "l2 = l1.spin(motor)\n",
    "l22 = l2.spin(vsr.Vec(0,0,-1).trs() * vsr.Rot(1,0,0,0))\n",
    "\n",
    "m = ((l2 * l1.inv()).log() * 0.5 ).exp()\n",
    "w = m.trs().reject_from(m.rot().log().unit())\n",
    "v = m.trs().project_onto(m.rot().log().unit())\n",
    "l11 = l1.spin(w.trs() * vsr.Rot(vsr.Biv(0,0,0)))\n",
    "l22 = l2.spin((w).trs().rev() * vsr.Rot(1,0,0,0))\n",
    "\n",
    "scene = Scene(children=[\n",
    "        frame_mesh(),\n",
    "        vector_mesh(w, position=l1.undual().meet(l22.undual()), color=Colors.GRAY),\n",
    "        line_mesh(l1, color=Colors.HOTPINK, length=100),\n",
    "        line_mesh(l22, color=Colors.LIGHTGRAY, length=100),\n",
    "        line_mesh(l11, color=Colors.LIGHTGRAY, length=100),\n",
    "        line_mesh(l1.comm(l2),color=Colors.GRAY),\n",
    "        point_mesh(line_intersection(l1,l2)),\n",
    "        point_mesh(line_intersection(l2,l1)),\n",
    "        line_mesh(l2, color=Colors.LIGHTSKYBLUE, length=100),       \n",
    "        AmbientLight(color='#cccccc')])\n",
    "camera = PerspectiveCamera(position=[3, -3, 3])\n",
    "renderer = Renderer(camera=camera, \n",
    "                    scene=scene, \n",
    "                    controls=[TrackballControls(controlling=camera)],\n",
    "                    background = 'white')\n",
    "renderer.width = '960'\n",
    "renderer.height = '512'\n",
    "display(renderer)"
   ]
  },
  {
   "cell_type": "code",
   "execution_count": 16,
   "metadata": {
    "collapsed": false
   },
   "outputs": [],
   "source": [
    "motor = vsr.Vec(1,0,1).trs() * vsr.Rot(vsr.Biv(1,0,0) * np.pi/6.0)\n",
    "lines_a = [vsr.Dll(vsr.Vec(*np.random.normal(0.0,0.8,3)).null(),\n",
    "                   vsr.Vec(*np.random.normal(0.0,0.8,3)).null())\n",
    "          for i in range(2)]\n",
    "lines_b = [line.spin(motor) for line in lines_a]\n",
    "\n",
    "ms = [((l2 * l1.inv()).log() * 0.5 ).exp() for l1, l2 in zip(lines_a, lines_b)]\n",
    "ws = [m.trs().reject_from(m.rot().log().unit()) for m in ms]\n",
    "ps = [line_intersection(l1,l2) for l1,l2 in zip(lines_a, lines_b)]\n",
    "\n",
    "\n",
    "scene = Scene(children=\n",
    "              [line_mesh(l1, color=Colors.HOTPINK, length=100) for l1 in lines_a] +\\\n",
    "              [line_mesh(l2, color=Colors.LIGHTSKYBLUE, length=100) for l2 in lines_b] +\\\n",
    "              [line_mesh(l1.comm(l2), color=Colors.GRAY, length=100) for l1,l2 in zip(lines_a,lines_b)] +\\\n",
    "#               [line_mesh(l2 - l1, color=Colors.GRAY, length=100) for l1,l2 in zip(lines_a,lines_b)] +\\\n",
    "#               [vector_mesh(w, arrow=True, position=p,color=Colors.GRAY) for w,p in zip(ws,ps)] +\\\n",
    "              [frame_mesh(),AmbientLight(color='#cccccc')])\n",
    "camera = PerspectiveCamera(position=[3, -3, 3])\n",
    "renderer = Renderer(camera=camera, \n",
    "                    scene=scene, \n",
    "                    controls=[TrackballControls(controlling=camera)],\n",
    "                    background = 'white')\n",
    "renderer.width = '960'\n",
    "renderer.height = '512'\n",
    "display(renderer)"
   ]
  },
  {
   "cell_type": "markdown",
   "metadata": {},
   "source": [
    "## Planes"
   ]
  },
  {
   "cell_type": "code",
   "execution_count": 17,
   "metadata": {
    "collapsed": true
   },
   "outputs": [],
   "source": [
    "n_planes = 2\n",
    "planes_a = []\n",
    "for i in range(n_planes):\n",
    "    dir_vec = np.random.normal(0.0, 0.8, 4)\n",
    "    dir_vec = dir_vec / np.linalg.norm(dir_vec)\n",
    "    distance = np.random.normal(0.0, 0.8,1)\n",
    "    arr = dir_vec + distance\n",
    "    planes_a.append(vsr.Dlp(dir_vec[0],dir_vec[1],dir_vec[2],distance[0]))\n",
    "planes_b = [plane.spin(motor) for plane in planes_a]"
   ]
  },
  {
   "cell_type": "code",
   "execution_count": 18,
   "metadata": {
    "collapsed": false
   },
   "outputs": [],
   "source": [
    "motor = vsr.Vec(1,0,1).trs() * vsr.Rot(vsr.Biv(1,0,0) * np.pi/6.0)\n",
    "p1 = vsr.Dlp(vsr.Vec(0,0,1).unit(),0)\n",
    "p2 = vsr.Dlp(vsr.Vec(1,0,1).unit(),1)\n",
    "m = ((p2 * p1.inv()).log() * 0.5 ).exp()\n",
    "v = m.trs().project_onto(m.rot().log().unit())\n",
    "m.rot().biv()\n",
    "\n",
    "scene = Scene(children=[plane_mesh(p1,width=3, height=3,color=Colors.HOTPINK),\n",
    "                        plane_mesh(p2,width=3, height=3,color=Colors.LIGHTSKYBLUE),\n",
    "                        vector_mesh(v, position=p1.loc(vsr.Vec(0,0,0).null()), arrow=True, color=Colors.GRAY),\n",
    "                        bivector_mesh(m.rot().biv(),color=Colors.LIGHTGRAY),\n",
    "                        frame_mesh(),\n",
    "                        AmbientLight(color='#cccccc')])\n",
    "\n",
    "camera = PerspectiveCamera(position=[3, -3, 3])\n",
    "renderer = Renderer(camera=camera, \n",
    "                    scene=scene, \n",
    "                    controls=[TrackballControls(controlling=camera)],\n",
    "                    background = 'white')\n",
    "renderer.width = '960'\n",
    "renderer.height = '512'\n",
    "display(renderer)"
   ]
  },
  {
   "cell_type": "markdown",
   "metadata": {},
   "source": [
    "## Direction vectors"
   ]
  },
  {
   "cell_type": "code",
   "execution_count": 19,
   "metadata": {
    "collapsed": false
   },
   "outputs": [],
   "source": [
    "vectors_a = [vsr.Vec(1,1,1).unit()]\n",
    "vectors_b = [a.spin(motor.rot()) for a in vectors_a]\n",
    "lines_a = [vsr.Dll(vsr.Vec(0,0,0).null(), vector.null()) for vector in vectors_a]\n",
    "lines_b = [vsr.Dll(vsr.Vec(0,0,0).null(), vector.null()) for vector in vectors_b]"
   ]
  },
  {
   "cell_type": "code",
   "execution_count": 20,
   "metadata": {
    "collapsed": true
   },
   "outputs": [],
   "source": [
    "scene = Scene(children=\n",
    "\n",
    "              [line_mesh(a,arrow=False,color=Colors.LIGHTGRAY) for a in lines_a] +\\\n",
    "              [line_mesh(b,arrow=False,color=Colors.LIGHTGRAY) for b in lines_b] +\\\n",
    "            [vector_mesh(a,arrow=True,color=Colors.HOTPINK) for a in vectors_a] +\\\n",
    "              [vector_mesh(b,arrow=True,color=Colors.LIGHTSKYBLUE) for b in vectors_b] +\\\n",
    "              [frame_mesh(),AmbientLight(color='#cccccc')])\n",
    "\n",
    "camera = PerspectiveCamera(position=[3, -3, 3])\n",
    "renderer = Renderer(camera=camera, \n",
    "                    scene=scene, \n",
    "                    controls=[TrackballControls(controlling=camera)],\n",
    "                    background = 'white')\n",
    "renderer.width = '960'\n",
    "renderer.height = '512'\n",
    "display(renderer)"
   ]
  },
  {
   "cell_type": "markdown",
   "metadata": {},
   "source": [
    "## Circles"
   ]
  },
  {
   "cell_type": "code",
   "execution_count": 21,
   "metadata": {
    "collapsed": false
   },
   "outputs": [],
   "source": [
    "n_circles = 10\n",
    "sigma = 0.09\n",
    "points_a = [vsr.Vec(*np.random.normal(0.0, 0.3, 3)).null() \n",
    "            for i in range(n_circles)]\n",
    "points_b = [point.spin(motor) for point in points_a]\n",
    "points_b_noisy = [vsr.Vec(*(np.array(point)[:3] \n",
    "                            + sigma * np.random.randn(3))).null() \n",
    "                  for point in points_b]\n",
    "\n",
    "radiuss = [np.random.rand() for i in range(n_circles)]\n",
    "bivs = [vsr.Vec(*np.random.normal(0.0, 0.3, 3)).unit().unduale()\n",
    "            for i in range(n_circles)]\n",
    "\n",
    "circs_a = [vsr.Cir(p,r,b) for p,r,b in zip(points_a, radiuss, bivs)]\n",
    "# circs_b = [vsr.Cir(p,r,b) for p,r,b in zip(points_b_noisy, radiuss, bivs)]\n",
    "circs_b = [circle.spin(motor) for circle in circs_a]"
   ]
  },
  {
   "cell_type": "code",
   "execution_count": 22,
   "metadata": {
    "collapsed": false
   },
   "outputs": [],
   "source": [
    "c1 = vsr.Cir(vsr.Vec(1,0,1).null(), 0.5, vsr.Biv(-1,2,3).unit())\n",
    "c2 = vsr.Cir(vsr.Vec(0,1,0.5).null(), 0.5, vsr.Biv(2,4,1).unit())\n",
    "\n",
    "scene = Scene(children=[circle_mesh(c1, color=Colors.HOTPINK),\n",
    "                        circle_mesh(c2, color=Colors.LIGHTSKYBLUE),\n",
    "                        line_mesh(c1.axis(), arrow=False, color=Colors.HOTPINK),\n",
    "                        line_mesh(c2.axis(), arrow=False, color=Colors.LIGHTSKYBLUE),\n",
    "                        point_mesh(c1.pnt(), color=Colors.HOTPINK),\n",
    "                        point_mesh(c2.pnt(), color=Colors.LIGHTSKYBLUE),\n",
    "                        frame_mesh(),AmbientLight(color='#cccccc')])\n",
    "\n",
    "camera = PerspectiveCamera(position=[3, -3, 3])\n",
    "renderer = Renderer(camera=camera, \n",
    "                    scene=scene, \n",
    "                    controls=[TrackballControls(controlling=camera)],\n",
    "                    background = 'white')\n",
    "renderer.width = '960'\n",
    "renderer.height = '512' \n",
    "display(renderer)"
   ]
  },
  {
   "cell_type": "markdown",
   "metadata": {
    "collapsed": true
   },
   "source": [
    "## Tangents"
   ]
  },
  {
   "cell_type": "code",
   "execution_count": 23,
   "metadata": {
    "collapsed": false
   },
   "outputs": [],
   "source": [
    "p1 = vsr.Vec(1,1,1).null()\n",
    "p2 = p1.spin(motor)\n",
    "v1 = p1.vec().unit()\n",
    "v2 = p2.vec().unit()\n",
    "l1 = vsr.Dll(p1,v1)\n",
    "l2 = vsr.Dll(p2,v2)\n",
    "\n",
    "scene = Scene(children=[point_mesh(p1,color=Colors.HOTPINK),\n",
    "                        point_mesh(p2, color=Colors.LIGHTSKYBLUE),\n",
    "                        vector_mesh(v1,position=p1.vec(), arrow=True, color=Colors.HOTPINK),\n",
    "                        vector_mesh(v2,position=p2.vec(), arrow=True, color=Colors.LIGHTSKYBLUE),\n",
    "                        line_mesh(l1, arrow=False, color=Colors.LIGHTGRAY),\n",
    "                        line_mesh(l2, arrow=False, color=Colors.LIGHTGRAY),\n",
    "                        frame_mesh(),AmbientLight(color='#cccccc')])\n",
    "\n",
    "camera = PerspectiveCamera(position=[3, -3, 3])\n",
    "renderer = Renderer(camera=camera, \n",
    "                    scene=scene, \n",
    "                    controls=[TrackballControls(controlling=camera)],\n",
    "                    background = 'white')\n",
    "renderer.width = '960'\n",
    "renderer.height = '512' \n",
    "display(renderer)"
   ]
  },
  {
   "cell_type": "markdown",
   "metadata": {},
   "source": [
    "## Point Pairs"
   ]
  },
  {
   "cell_type": "code",
   "execution_count": 24,
   "metadata": {
    "collapsed": false
   },
   "outputs": [],
   "source": [
    "p11 = vsr.Vec(1,1,1).null()\n",
    "p12 = vsr.Vec(1,-1,1).null()\n",
    "\n",
    "p21 = p11.spin(motor)\n",
    "p22 = p12.spin(motor)\n",
    "\n",
    "scene = Scene(children=[point_mesh(p11,color=Colors.HOTPINK),\n",
    "                        point_mesh(p12,color=Colors.HOTPINK),\n",
    "                        point_mesh(p21, color=Colors.RED),\n",
    "                        point_mesh(p22, color=Colors.LIGHTSKYBLUE),\n",
    "                        vector_mesh((p12.vec()-p11.vec()), position=p11.vec(), color=Colors.LIGHTGRAY),\n",
    "                        vector_mesh((p22.vec()-p21.vec()), position=p21.vec(), color=Colors.LIGHTGRAY),\n",
    "\n",
    "                        frame_mesh(),AmbientLight(color='#cccccc')])\n",
    "\n",
    "camera = PerspectiveCamera(position=[3, -3, 3])\n",
    "renderer = Renderer(camera=camera, \n",
    "                    scene=scene, \n",
    "                    controls=[TrackballControls(controlling=camera)],\n",
    "                    background = 'white')\n",
    "renderer.width = '960'\n",
    "renderer.height = '512' \n",
    "display(renderer)"
   ]
  },
  {
   "cell_type": "markdown",
   "metadata": {
    "collapsed": true
   },
   "source": [
    "# Heterogeneous Sets of Objects"
   ]
  },
  {
   "cell_type": "code",
   "execution_count": 27,
   "metadata": {
    "collapsed": true
   },
   "outputs": [],
   "source": [
    "pnt = vsr.Vec(0,1,1).null()\n",
    "dlp = vsr.Dlp(vsr.Vec(1,1,1).unit(), 1)\n",
    "p1 = vsr.Vec(1,0,1).null()\n",
    "p2 = vsr.Vec(2,1,1).null()\n",
    "dll = vsr.Dll(p1,p2).unit()\n",
    "\n",
    "scene = Scene(children=[\n",
    "        frame_mesh(),\n",
    "        point_mesh(points_a[0],color=Colors.HOTPINK),\n",
    "        point_mesh(points_a[0].spin(motor),color=Colors.LIGHTSKYBLUE),\n",
    "        line_mesh(lines_a[0],color=Colors.HOTPINK),\n",
    "        line_mesh(lines_a[0].spin(motor),color=Colors.LIGHTSKYBLUE),\n",
    "        circle_mesh(circs_a[1], color=Colors.HOTPINK),\n",
    "        circle_mesh(circs_a[1].spin(motor), color=Colors.LIGHTSKYBLUE),\n",
    "        plane_mesh(planes_a[1],width=1,height=1, color=Colors.HOTPINK),\n",
    "        plane_mesh(planes_a[1].spin(motor),width=1,height=1, color=Colors.LIGHTSKYBLUE),\n",
    "        AmbientLight(color='#cccccc')])\n",
    "\n",
    "camera = PerspectiveCamera(position=[3, -3, 3])\n",
    "renderer = Renderer(camera=camera, \n",
    "                    scene=scene, \n",
    "                    controls=[TrackballControls(controlling=camera)],\n",
    "                    background = 'white')\n",
    "renderer.width = '1024'\n",
    "renderer.height = '768'\n",
    "display(renderer)"
   ]
  },
  {
   "cell_type": "code",
   "execution_count": 28,
   "metadata": {
    "collapsed": true
   },
   "outputs": [],
   "source": [
    "a = np.array([1,1,1,1,1,1])"
   ]
  },
  {
   "cell_type": "code",
   "execution_count": null,
   "metadata": {
    "collapsed": true
   },
   "outputs": [],
   "source": []
  },
  {
   "cell_type": "code",
   "execution_count": null,
   "metadata": {
    "collapsed": true
   },
   "outputs": [],
   "source": []
  },
  {
   "cell_type": "code",
   "execution_count": null,
   "metadata": {
    "collapsed": true
   },
   "outputs": [],
   "source": [
    "\n",
    "\n",
    "\n",
    "\n",
    "\n",
    "\n",
    "\n",
    "\n",
    "\n",
    "\n",
    "\n",
    "\n",
    "\n",
    "\n",
    "\n",
    "\n"
   ]
  },
  {
   "cell_type": "code",
   "execution_count": null,
   "metadata": {
    "collapsed": true
   },
   "outputs": [],
   "source": []
  },
  {
   "cell_type": "code",
   "execution_count": null,
   "metadata": {
    "collapsed": true
   },
   "outputs": [],
   "source": []
  },
  {
   "cell_type": "code",
   "execution_count": null,
   "metadata": {
    "collapsed": true
   },
   "outputs": [],
   "source": []
  },
  {
   "cell_type": "code",
   "execution_count": null,
   "metadata": {
    "collapsed": true
   },
   "outputs": [],
   "source": []
  },
  {
   "cell_type": "code",
   "execution_count": null,
   "metadata": {
    "collapsed": true
   },
   "outputs": [],
   "source": []
  },
  {
   "cell_type": "code",
   "execution_count": null,
   "metadata": {
    "collapsed": true
   },
   "outputs": [],
   "source": []
  },
  {
   "cell_type": "code",
   "execution_count": null,
   "metadata": {
    "collapsed": true
   },
   "outputs": [],
   "source": []
  },
  {
   "cell_type": "code",
   "execution_count": null,
   "metadata": {
    "collapsed": true
   },
   "outputs": [],
   "source": []
  },
  {
   "cell_type": "code",
   "execution_count": null,
   "metadata": {
    "collapsed": true
   },
   "outputs": [],
   "source": []
  },
  {
   "cell_type": "code",
   "execution_count": null,
   "metadata": {
    "collapsed": true
   },
   "outputs": [],
   "source": []
  },
  {
   "cell_type": "code",
   "execution_count": null,
   "metadata": {
    "collapsed": true
   },
   "outputs": [],
   "source": []
  },
  {
   "cell_type": "code",
   "execution_count": null,
   "metadata": {
    "collapsed": true
   },
   "outputs": [],
   "source": []
  },
  {
   "cell_type": "code",
   "execution_count": null,
   "metadata": {
    "collapsed": true
   },
   "outputs": [],
   "source": []
  },
  {
   "cell_type": "code",
   "execution_count": null,
   "metadata": {
    "collapsed": true
   },
   "outputs": [],
   "source": []
  },
  {
   "cell_type": "code",
   "execution_count": null,
   "metadata": {
    "collapsed": true
   },
   "outputs": [],
   "source": []
  },
  {
   "cell_type": "code",
   "execution_count": null,
   "metadata": {
    "collapsed": true
   },
   "outputs": [],
   "source": []
  },
  {
   "cell_type": "code",
   "execution_count": null,
   "metadata": {
    "collapsed": true
   },
   "outputs": [],
   "source": []
  },
  {
   "cell_type": "code",
   "execution_count": null,
   "metadata": {
    "collapsed": true
   },
   "outputs": [],
   "source": []
  },
  {
   "cell_type": "code",
   "execution_count": null,
   "metadata": {
    "collapsed": true
   },
   "outputs": [],
   "source": []
  },
  {
   "cell_type": "code",
   "execution_count": null,
   "metadata": {
    "collapsed": true
   },
   "outputs": [],
   "source": []
  },
  {
   "cell_type": "code",
   "execution_count": null,
   "metadata": {
    "collapsed": true
   },
   "outputs": [],
   "source": []
  },
  {
   "cell_type": "code",
   "execution_count": null,
   "metadata": {
    "collapsed": true
   },
   "outputs": [],
   "source": []
  },
  {
   "cell_type": "code",
   "execution_count": null,
   "metadata": {
    "collapsed": true
   },
   "outputs": [],
   "source": []
  },
  {
   "cell_type": "code",
   "execution_count": null,
   "metadata": {
    "collapsed": true
   },
   "outputs": [],
   "source": []
  },
  {
   "cell_type": "code",
   "execution_count": null,
   "metadata": {
    "collapsed": true
   },
   "outputs": [],
   "source": []
  },
  {
   "cell_type": "code",
   "execution_count": null,
   "metadata": {
    "collapsed": true
   },
   "outputs": [],
   "source": []
  }
 ],
 "metadata": {
  "kernelspec": {
   "display_name": "Python 2",
   "language": "python",
   "name": "python2"
  },
  "language_info": {
   "codemirror_mode": {
    "name": "ipython",
    "version": 2
   },
   "file_extension": ".py",
   "mimetype": "text/x-python",
   "name": "python",
   "nbconvert_exporter": "python",
   "pygments_lexer": "ipython2",
   "version": "2.7.11+"
  },
  "widgets": {
   "state": {
    "000b86618ddf4d519a97184da5934de8": {
     "views": []
    },
    "00908fb429df41ffbc44dac76bf12cde": {
     "views": []
    },
    "00bafe17255e4a449397beaba3036811": {
     "views": []
    },
    "00d37b4353e141ce9ee1fe0addaa4bd6": {
     "views": []
    },
    "00f89af8178345b58b4e07a9558497da": {
     "views": []
    },
    "00fdaae8fba8485291630886ba933901": {
     "views": []
    },
    "0137edfd87504f388a58d649185b1e37": {
     "views": []
    },
    "0143a331c2e9408ca2d6ab8f31bcbd9f": {
     "views": []
    },
    "01736a91fb7e4c129b944214b925bfd0": {
     "views": []
    },
    "01ec49f78ca2433c9ca24c6ff167e006": {
     "views": []
    },
    "01f9f3f42d2d416286e6e9f7e33ba7c4": {
     "views": []
    },
    "01fbaf36b82e4d92a95a4eada9d358da": {
     "views": []
    },
    "026259b72ab04f64bd0d0247477deeab": {
     "views": []
    },
    "0279df2adbc6463cbd1077d7be9847a3": {
     "views": []
    },
    "029505dfa7964e7b8cf32b02a83ca5d6": {
     "views": [
      {
       "cell_index": 15
      }
     ]
    },
    "02c459cad31440f085aaacc5ef2679f8": {
     "views": []
    },
    "036916c74bdb4580bf576347136648d3": {
     "views": []
    },
    "03ec3714131c4ebf98995fb2f66180df": {
     "views": []
    },
    "04279fe920c64595bf939c40044cbd43": {
     "views": []
    },
    "047984e6c5da451f9fb5afd6f417ba28": {
     "views": []
    },
    "04badc82e8894016b59bdbb5ef3ef4bb": {
     "views": []
    },
    "04d61accf44f4f66990b22ba7c1719a4": {
     "views": []
    },
    "0508d95d33134dc2aeab1bfce016ad23": {
     "views": []
    },
    "056ec3986f914000aad566d33778cc8f": {
     "views": []
    },
    "05a899f8f23342c4889d16bd4f3d26db": {
     "views": []
    },
    "05a936a3eab041569b2ced5bd9acfeeb": {
     "views": []
    },
    "05deb3e753044a3e9827a4478fbc19ef": {
     "views": []
    },
    "061683cddaa743318a99a1d321806d0f": {
     "views": []
    },
    "0636ee8db35e4b1cb54e4a628483710a": {
     "views": []
    },
    "066e738ba3d045adb3839ac62234871c": {
     "views": [
      {
       "cell_index": 29
      }
     ]
    },
    "06833bccb3f54a6fb237b0707a2d09dd": {
     "views": []
    },
    "06bef990fd28449980fd7120374f6541": {
     "views": []
    },
    "06f62a6f864e4e77ad71f86f170bb56d": {
     "views": []
    },
    "079406adbf37445895064b4bb1da8edc": {
     "views": []
    },
    "07b44c01c4244dc9900848af00fe5387": {
     "views": []
    },
    "07d91b6d8abf4b56b4f7c998d02fd4af": {
     "views": []
    },
    "082965040fd34d7084b1955ad28d8214": {
     "views": []
    },
    "084a60ac71f944b283972b8871bea390": {
     "views": []
    },
    "087c988a104a46028134ee929c3f799d": {
     "views": []
    },
    "093f0b265ddf4b35a7a7a96e9c65df1c": {
     "views": []
    },
    "094fb303ee3347f3bea9fc93dd9798d1": {
     "views": []
    },
    "09aa1224b8584bbc8fe70246aa739ba2": {
     "views": []
    },
    "09ac74248c2c43bd84abc6cdbd2df35e": {
     "views": []
    },
    "0a17c1bfdf3e4c628f94ff75df33361a": {
     "views": []
    },
    "0a9214c2788f4687973d26eeae370e96": {
     "views": []
    },
    "0ade867e0fbc4cf09f6ecb95d49b8980": {
     "views": []
    },
    "0b69dbae612b429d9fd0e0210e8d852d": {
     "views": []
    },
    "0b80e3cdf8014f608176d2a987f6a124": {
     "views": []
    },
    "0bc5f801b1a94f7aaabb06456614293f": {
     "views": []
    },
    "0bc858cb31164e8abde64c0a46eb3323": {
     "views": []
    },
    "0c11a8b05e3e4311b617b41c7d5bc3cd": {
     "views": []
    },
    "0c9e615c61f1426495e5245cbebc4917": {
     "views": []
    },
    "0d2f1a0c6fc94005ba1db7607dc6214c": {
     "views": []
    },
    "0d444b09a4054985838df5966209a9f9": {
     "views": []
    },
    "0d56a8b3dd9c4fcba8a62cd7cbe4ebdf": {
     "views": []
    },
    "0d8b0d8a00734904b065e88a1b7cf79d": {
     "views": []
    },
    "0dc04f571dbd4e75a735cd1bbf7aa71b": {
     "views": []
    },
    "0e12a82ba8f642c1b2f1b5ad75aac909": {
     "views": []
    },
    "0e154c2026fa47c39b9648842bf66182": {
     "views": []
    },
    "0e20ac525a7a44c5a2744427b784ec7f": {
     "views": []
    },
    "0e3e44fcb12c4bed8b1f73e2d7e5ac03": {
     "views": []
    },
    "0e74f01665f147f0aa83b6a536ce8881": {
     "views": []
    },
    "0e8778c78f224d59a6e3c74b2fe64692": {
     "views": []
    },
    "0ec872e9fe7a4de98707166465835f6a": {
     "views": []
    },
    "0eede183b680497a8fea629e9fbbbaad": {
     "views": []
    },
    "0f0f35779d994c2a95fbc214d1c3465c": {
     "views": []
    },
    "0f4aa1eb9cf0458cab09f7efc7b43c95": {
     "views": []
    },
    "0f7220c0e0e7465d9fc00f3fe603ed60": {
     "views": []
    },
    "0fa4655763014ee881d4de4571739e5e": {
     "views": []
    },
    "0fea7277a6364158ac7311a71b0f06de": {
     "views": []
    },
    "10457870f0f744bba92e140f287ae9e6": {
     "views": []
    },
    "10585c78557f4fc2adc84f18d237a0d1": {
     "views": []
    },
    "11ca4802e0824e6ebe619b794f41fd3a": {
     "views": []
    },
    "11e8caab1fe4403ba88d72dd6a890ca1": {
     "views": []
    },
    "123b0f073a8f415295a49cc7c6108bad": {
     "views": []
    },
    "1297757766ce4f79b45f8889eeb66dbc": {
     "views": []
    },
    "12c21396c3104c9eadf7600c077fef9f": {
     "views": []
    },
    "130f5520ac54428faa8e34cde88a370e": {
     "views": []
    },
    "133fd5754dac4dc69833c55df5d1b6c7": {
     "views": []
    },
    "135f1d7f39774027ad4cb456c1dd78a6": {
     "views": []
    },
    "1366206a6d3c4ee385eb4afff599cd82": {
     "views": []
    },
    "136f9fed292f48048c3fbb6875f70371": {
     "views": []
    },
    "137bcb81245b40398e21dfb1cb700473": {
     "views": []
    },
    "138e45f9eb7249918f1d5f4612384dac": {
     "views": []
    },
    "13a3250fb6f24afc8abd1edfc94c9792": {
     "views": []
    },
    "13c75d855f2a4aacadbc36790cd4f272": {
     "views": []
    },
    "13e03d74161945a8b7d01b43dbdeeddc": {
     "views": []
    },
    "144462a592734fba8a7fa161e92e9ce7": {
     "views": []
    },
    "14721ddd536048bab6b9b3829a078ba3": {
     "views": []
    },
    "149704caf1cd42acacabb88df4c8499d": {
     "views": []
    },
    "14a6991389f147b181a30a983014b398": {
     "views": []
    },
    "14e40783c5d64f45a133b4c38a4778b6": {
     "views": []
    },
    "14e49497c87f4fad9621b2fce3bb9987": {
     "views": []
    },
    "1516bb95a73144abab548cac29e8072e": {
     "views": []
    },
    "15610cc1251349ddaa07b47a8fcd732b": {
     "views": []
    },
    "1572187fba4d4e79a2fdd0c633659e61": {
     "views": []
    },
    "15819c5f378046e7a38639e87c0ce783": {
     "views": []
    },
    "15fd0b8feefc4364b604d27461a2ee77": {
     "views": []
    },
    "1643ac2ec7d3462893a12d44a8bd4a81": {
     "views": []
    },
    "16b7ecac021b43a8b141738d3323207e": {
     "views": []
    },
    "170d3808cb9b4bec96874022e53e0c96": {
     "views": []
    },
    "1726306342954821b0ac76372229c447": {
     "views": []
    },
    "1752938919574a7189597af2187d1d10": {
     "views": []
    },
    "17dd668d9ae648b8ab741fc47de6d47e": {
     "views": []
    },
    "17e4882bf54143779bce552faa0cf9e8": {
     "views": []
    },
    "18151fb922444e4f9d5e3050cd5e9959": {
     "views": []
    },
    "184161a11134411f8e8d5cc7d8a2f6f3": {
     "views": []
    },
    "188c3d54ee884462890a875e9ae6d5e0": {
     "views": []
    },
    "18c931857b4841e592b605dd10a1b9d4": {
     "views": []
    },
    "18e72f05e26a44e2b90b8e257f5a81e7": {
     "views": []
    },
    "18e955a6e8c84eac85ca93b8c56b4ce3": {
     "views": []
    },
    "190edc733ed84f73b0d78e121e7a0214": {
     "views": []
    },
    "19206daeca1b4124a7863ef1f34c9cce": {
     "views": []
    },
    "193ea21e0275470dae02d2ffb218e672": {
     "views": []
    },
    "19601d1c0d5d48abb1a87fbc67fe3b42": {
     "views": []
    },
    "1982e6d0f91d4f92b68342f00ceeaef8": {
     "views": []
    },
    "199c18ddbb1e4e9f998ee1753abbf80d": {
     "views": []
    },
    "199f32c54c8545d7adf3f5b8dc14d7a0": {
     "views": []
    },
    "1a578e815c85445fa632bf85374f8778": {
     "views": []
    },
    "1a5cc3ef9f6e4c9592f33a872dfec30f": {
     "views": []
    },
    "1a6027f36f7a46f69cb431aaa51cadd3": {
     "views": []
    },
    "1a83450b63ee4f448bb1caf307f88717": {
     "views": []
    },
    "1b1156dce7054ef0a18575ea38891c97": {
     "views": []
    },
    "1b15eb83409e42cbb11f6dc016369aec": {
     "views": []
    },
    "1b72b973074e44d1bc931840aa96f3fb": {
     "views": []
    },
    "1bb334e1591d4b3bafcae0a197029efe": {
     "views": []
    },
    "1bbfcae56d3a42f6b74d1691e19598c6": {
     "views": []
    },
    "1c5fe4e4311f4743887c548790f13982": {
     "views": []
    },
    "1c98a83cab8c4b239c203f65ca55b670": {
     "views": []
    },
    "1cbf3e928999491f8ab51c059fbc0e8b": {
     "views": []
    },
    "1d25caa4d2914badb42bbb883af285b3": {
     "views": []
    },
    "1d272f9479ac491e8896796c4b44feb7": {
     "views": []
    },
    "1d4e18edc29c4e768a46009fcbd79a60": {
     "views": []
    },
    "1db1dfc0d09642b5ab15d2551cddb3d9": {
     "views": []
    },
    "1dd74dce40ee41ecb05757043fdd213c": {
     "views": []
    },
    "1e1d5918758145d1a8e93509ac0ad70b": {
     "views": []
    },
    "1e7e34448a9e4a278ca421bcbe758410": {
     "views": []
    },
    "1e8db65b158343b29f7e1795a9a87ae8": {
     "views": []
    },
    "1e96dfe701b94a9db34c5557c7dfc19c": {
     "views": []
    },
    "1eb9b42df6d54eb7aa5478c5e7a1ae9f": {
     "views": []
    },
    "1f4dae93cf3d44adab177c15cf11e390": {
     "views": []
    },
    "1fa9d32991744e9c83cc1c250503f5de": {
     "views": []
    },
    "201810d8533a42f2a036635aee11b113": {
     "views": []
    },
    "2046f735ca3b4fbd9efbf0442e435c9a": {
     "views": []
    },
    "207c011363c3446eb5fad1c0f358cbff": {
     "views": []
    },
    "20b897c957554f5db5289b7f5b9c1d61": {
     "views": []
    },
    "20ef8759ccf844cf9ada3e0514e14846": {
     "views": []
    },
    "21ccd73d2fd4413faadf3eb71f0412ac": {
     "views": []
    },
    "21ffb4c2505a4acd94fce57f3ee10e54": {
     "views": []
    },
    "2244e32eba454a3ba3141f6383c051be": {
     "views": []
    },
    "22b9a308f5f649eaa3c12e4c38e0a50e": {
     "views": []
    },
    "22d9880f70334bddb5f647aa98524889": {
     "views": []
    },
    "230920c6f1bb457e8c488d9e0285d91c": {
     "views": []
    },
    "231cd8cc7130433296c2ad6b51a5ce4e": {
     "views": []
    },
    "232213173b02418aab7a05386d500e36": {
     "views": []
    },
    "236a402c718a47f9931dceed0ebdc41d": {
     "views": []
    },
    "23760885921a4d4cb8bfc4c8806145af": {
     "views": []
    },
    "2399e932306e4e85b09b90266d952af8": {
     "views": []
    },
    "243fa7b82a534611b55e1d9436b0882c": {
     "views": []
    },
    "24a4492e36154beb9835dc554e4a8f05": {
     "views": []
    },
    "24f21711ae1a474f83582b193a91c198": {
     "views": [
      {
       "cell_index": 19
      }
     ]
    },
    "25218e6065c448839b6486ec07956dec": {
     "views": []
    },
    "254f7e78dc0540f4bced6069374b30bb": {
     "views": []
    },
    "25502f050932448e9be33aa4dd95431f": {
     "views": []
    },
    "25504f2cce5f4adfb9956ef42f4685cb": {
     "views": []
    },
    "2552cff1902e41ec89304e08c9021abd": {
     "views": []
    },
    "25ba60c3b6fc4a3fadde9d6fcd899f77": {
     "views": []
    },
    "25d7288b199a4c608a428ab9bd808fc8": {
     "views": []
    },
    "261e0feaf4254698b997b69475019eba": {
     "views": []
    },
    "2674f6d408494cce8c2f6f9302f60523": {
     "views": []
    },
    "26d8b6da8faa40cd8bb490e941a489ef": {
     "views": []
    },
    "27638d05ba964e0eb07afe0bafd5bb7b": {
     "views": []
    },
    "2798cb1d397847dc80e1e0ff744ecdf7": {
     "views": []
    },
    "27ab93f8e4c8463c9295ec538f2e5c4d": {
     "views": []
    },
    "27e81865003d432caa85590905eff72e": {
     "views": []
    },
    "2820916abe9c4f2b99308922810a165e": {
     "views": []
    },
    "28484b66b2644b43b2ecef78afc66146": {
     "views": []
    },
    "28f364db34be423a86568b150a7d9d4e": {
     "views": []
    },
    "2963ea6e11b440eca0a7f84e8ec6ae75": {
     "views": []
    },
    "29a9772b2f094b31a6c1533da5ffdfb0": {
     "views": []
    },
    "29dd2ddfda1e42e2932df04d7da8975d": {
     "views": []
    },
    "2a2c7fe9a4ab441d9c7e07d4546aa79f": {
     "views": []
    },
    "2a5840bdefcd42ac8f055f309c965cee": {
     "views": []
    },
    "2a587f44881a456fabdad1cdf6fad995": {
     "views": []
    },
    "2abbe1a5d1f74d3cbfea0a447170d520": {
     "views": []
    },
    "2b00c23b4c9046afa35e5e2079c7b9f0": {
     "views": []
    },
    "2b3bf25eb4f64b14bea8efc55039db87": {
     "views": []
    },
    "2ba4eb8b17c243dfaf2351ac534c0667": {
     "views": []
    },
    "2bca8bec233d4c869cfaf7d4b7597577": {
     "views": []
    },
    "2be2181ff03d4af99ace5113651529d6": {
     "views": []
    },
    "2c8ad03ff35b4bbc873cf760eb7c63f1": {
     "views": []
    },
    "2ca79ab3681a492cb4428d8b8d1825b2": {
     "views": []
    },
    "2ccd7b3cf89a4b8091ded766028257a8": {
     "views": []
    },
    "2ce1937128cd4cb29023af7726b24244": {
     "views": []
    },
    "2d01878ea1cf4de4bf384e856270406c": {
     "views": []
    },
    "2d10b03c2a4c477dbceb3110d111ce83": {
     "views": []
    },
    "2d1dd8b1c6114837a9a17457ce3abba3": {
     "views": []
    },
    "2d6951974731491296dec6e0b7730a51": {
     "views": []
    },
    "2da2110f7c58405ab1bfa6d2b0c1a54a": {
     "views": []
    },
    "2e05817f8d874e498d5917768ed64449": {
     "views": []
    },
    "2e914441e6d24a22ab43959868f69d0a": {
     "views": []
    },
    "2eb12253118a4ae287c2e42077378d17": {
     "views": []
    },
    "2eba4454f2e64270a5cdad7a1b7aa20c": {
     "views": []
    },
    "2ebcea915a214fa19e92753c197e1519": {
     "views": []
    },
    "2ecae991ba9e42ae953d42d5acd1c41d": {
     "views": []
    },
    "2ed2724c9f484f4581d783fcc2e130aa": {
     "views": []
    },
    "2efc397d37104b9fa8032a739ac5ea81": {
     "views": []
    },
    "2f5c8bd8ca7c4b3e98da099b5cbde039": {
     "views": []
    },
    "302ab12103164ad494dc7f249c61e82b": {
     "views": []
    },
    "30ccaa4e30774b7fa5159524053671be": {
     "views": []
    },
    "30ffc72758a448c4a70e47651bf1edbc": {
     "views": []
    },
    "315e5836c50742de9313da14c4878690": {
     "views": []
    },
    "3179fd90567945e8bdbe7ffdf69a2b66": {
     "views": [
      {
       "cell_index": 23
      }
     ]
    },
    "32312feced2c4cc38eb29172c057e2ef": {
     "views": []
    },
    "3261208cd7314e839a6c884c72df5779": {
     "views": []
    },
    "326240fe0b684b2e89e9e916c3c08574": {
     "views": []
    },
    "32b073fa2fd942fcb171a91538c3385b": {
     "views": []
    },
    "32b7f3f35d91499a828495d111963c63": {
     "views": []
    },
    "338277ac5a18495ebb8c8ad2ed965da8": {
     "views": []
    },
    "33be38934a5f469c93f1cf47c2cdc63a": {
     "views": []
    },
    "33e6fb2b175741819bcef2c9a43411de": {
     "views": []
    },
    "342675cad18c4299882643f15c81a81c": {
     "views": []
    },
    "342d59aa77e74690991c24cd2a0b23e5": {
     "views": []
    },
    "3469ecadc0534cebacde735349b61865": {
     "views": []
    },
    "346ad2ad946d4d04bec5c05e873e8991": {
     "views": []
    },
    "34d6d43554f94624afe8533120723fb1": {
     "views": []
    },
    "3525d5b5458d4d829fdfb16676ad3327": {
     "views": []
    },
    "35264388347e43daabfe29e2365be585": {
     "views": []
    },
    "35415a1610f94efdb205ef78ee4dbd84": {
     "views": []
    },
    "358a4a37b2344fc3ac3c0b2b8870b3c2": {
     "views": []
    },
    "35c873ae16f946ef881e4c565f4bf88d": {
     "views": []
    },
    "364afa17032a43d79e0fbb8026b4986a": {
     "views": []
    },
    "3661a235f2b24119a39382c5f581de3b": {
     "views": []
    },
    "36797a2508f047ffa26b2091ceaa5db5": {
     "views": []
    },
    "3681ebcf63d94dc09be7c6d7b89e9bac": {
     "views": []
    },
    "3682d2a1b70546e5b6e63143d8398033": {
     "views": []
    },
    "3726d9b0421b4456800eee3a003a0461": {
     "views": []
    },
    "376bf598d5db48369cdc8fc64e23e7e1": {
     "views": []
    },
    "37aa84941c6b452aa45d0b3fed2c6ab3": {
     "views": []
    },
    "382c5c73d9a4473cb35fe23823b62f66": {
     "views": []
    },
    "387f264fabfe4b4d929bacb0e09f5f2b": {
     "views": []
    },
    "389eb73cabfd4ecbb67bd15df95625c9": {
     "views": []
    },
    "390c07ee2dc6430bb5e69228a50303d6": {
     "views": []
    },
    "39fddbb6f40e4b989fd60c54c9599453": {
     "views": []
    },
    "3a0eaaef3d224017ba58f207b9ac86bc": {
     "views": []
    },
    "3a29213ba16e4275b570a52091031fc0": {
     "views": []
    },
    "3a8e3b4ee75146618bae43298398a570": {
     "views": []
    },
    "3a9281f611ea4b50b07b3073659896b8": {
     "views": []
    },
    "3ac0d0b306d44be2afd98f27cfa849f5": {
     "views": []
    },
    "3b17c84ade7043539a11242c2db6e49d": {
     "views": []
    },
    "3b325ef9aeb34bbe932fc4c7bae315ab": {
     "views": []
    },
    "3b6ae3e688004f25a4533ef9dfaaa574": {
     "views": []
    },
    "3b6f3b17d125490f99b9f44e5f9321df": {
     "views": []
    },
    "3b9c1c3b6ea64574a62e73984453dc5c": {
     "views": []
    },
    "3bcdce34636948b89b73d6652aad5c39": {
     "views": []
    },
    "3c0b75aed7d142929877a430f32a7a26": {
     "views": []
    },
    "3c1af71e68754a01b8179fc614d25f05": {
     "views": []
    },
    "3c5916a4d61d46a1b314a22601660ee7": {
     "views": []
    },
    "3ce6c4912a334eb4a59363cb7949dd2d": {
     "views": []
    },
    "3cf3da3d31ac4280a6278add0885cea1": {
     "views": []
    },
    "3cfd7a1e05804165ab8d082b547cdf64": {
     "views": []
    },
    "3d5411f706c44954b0a10b9b700fc803": {
     "views": []
    },
    "3dc7b63cb4f24468a440de5c82de06c2": {
     "views": []
    },
    "3dc987185765429c9b059e4d3cce078e": {
     "views": []
    },
    "3e2a9a6446ad4d35b5ba964146240105": {
     "views": []
    },
    "3e517c71a8d34c99b83a1b55517cc6cb": {
     "views": []
    },
    "3e7044b7a00a47ff9346df3359bc793d": {
     "views": []
    },
    "3ea46577acd14261aec73847c9b357af": {
     "views": []
    },
    "3ea74c4233d4492baa1642885d4cca39": {
     "views": []
    },
    "3f55a072f2a046bd88d22fd0ff91c06c": {
     "views": []
    },
    "3fc9f49a83284a4f98bc3f1fdcde22b2": {
     "views": []
    },
    "3fde798d4fa64cc49f7bb3dc1be64c51": {
     "views": []
    },
    "4021cc110e1c4791a53bc47e921462c0": {
     "views": []
    },
    "409e3c96ad3f44f7b14afac65ab1ea57": {
     "views": []
    },
    "40a95f1b1a3042b492dc9334e97d88fb": {
     "views": []
    },
    "40b9fc388dae4c6b85e3becf7d8b920c": {
     "views": []
    },
    "40d10eb9a099421fafb19cddf1c46747": {
     "views": []
    },
    "40d2f5a9881b4e9281028679df9c76fb": {
     "views": []
    },
    "40e84dc8b8e84b8b8659ee9dbaea1715": {
     "views": []
    },
    "4106b3e9eb4d461eb6e964ba85991ddf": {
     "views": []
    },
    "414365a996e44d70b5086693e95bdfb5": {
     "views": []
    },
    "4181b59553374bbab393ff2953957148": {
     "views": []
    },
    "4198cfddb8914f5780e29585ab770492": {
     "views": []
    },
    "419d7db2827e42978555e746cdacb953": {
     "views": []
    },
    "41b6c7e3faa94753b1fa6a1fc2541a01": {
     "views": []
    },
    "41c1c39176a144b593109b957b21598f": {
     "views": []
    },
    "41c6c113b78e4d82b769f369c6906cf0": {
     "views": []
    },
    "41d4a19b340c49de9ec9b8e81efb3df3": {
     "views": []
    },
    "43333ea3aa3d46f1915242401ef69b0f": {
     "views": []
    },
    "436b37f7ae4c48548acf3cee8354f453": {
     "views": []
    },
    "43ca6fdb8fa74c6485d276475b12844c": {
     "views": []
    },
    "43d2caf3426f4c429b1b2b98cc3d25fc": {
     "views": []
    },
    "43e8b8276104400281a8bb1d2e19df9d": {
     "views": []
    },
    "4436cb2e16b24d8fb0ee329de6093dd9": {
     "views": []
    },
    "449ca75ed30e4eb08d2f701bcca90d08": {
     "views": []
    },
    "44cba5e51e3c46e98600d9afe5fad78e": {
     "views": []
    },
    "4533a47b1fcc4952b5544e364a569136": {
     "views": []
    },
    "45714780acb44b978ce2a679a3407e6b": {
     "views": []
    },
    "462141e29974484a98d990a2873abd22": {
     "views": [
      {
       "cell_index": 33
      }
     ]
    },
    "465f3f09fe004a819c022acf7c49632c": {
     "views": []
    },
    "46ce2e13044b4b5393150e2f120ab417": {
     "views": []
    },
    "4796e731db9d450b8399b349e9886c45": {
     "views": []
    },
    "47e3c88f27c04d58a8cd0e2d5b64325d": {
     "views": []
    },
    "487807bd4f8d4226b18d3425d6d1cff8": {
     "views": []
    },
    "4898ff73aabc41ea838c9e3b6cfece6a": {
     "views": []
    },
    "48a165b84ed143689ff986534fa2fe8a": {
     "views": []
    },
    "48d35485824f4a0596a76d3d76cdca1e": {
     "views": []
    },
    "48f66d8e6a5043eda6dcc74440a11ac5": {
     "views": []
    },
    "491f1d76854d4ef19d5d1c5d55ecc74a": {
     "views": []
    },
    "494c08b680b848e6a096ba9bd11e0ae5": {
     "views": []
    },
    "4975260480f84f6da674cb5587451246": {
     "views": []
    },
    "49c5e02cd0254e63b394266de3143e0b": {
     "views": []
    },
    "49e0e3b7fd034d1d9a1e882725ab6560": {
     "views": []
    },
    "4a0c319065e449deae8475c59463395d": {
     "views": []
    },
    "4a228f657a604e2d8a1aebddfe095095": {
     "views": []
    },
    "4a246f2f39f349a5be3255f1f28e405b": {
     "views": []
    },
    "4a855b686fae4239be0f4ef92b0c27e8": {
     "views": []
    },
    "4a99ed4d0ef24ce9bf1de93874c18002": {
     "views": []
    },
    "4b91ee5b238e44c29d28a6668dfa6166": {
     "views": []
    },
    "4bad7569a12d45d1b17438be85c68e86": {
     "views": []
    },
    "4bf02fb499ca4aa6b71a13289e8beceb": {
     "views": []
    },
    "4c32d6f068804c15860a2d9565cb099b": {
     "views": []
    },
    "4c4d0a38a6ff41bebd645ded5aacb42e": {
     "views": []
    },
    "4c519a8d7f7648dabb02a68cb319d08e": {
     "views": []
    },
    "4c5f285bfe0a4a0b9c48e2a778938a56": {
     "views": []
    },
    "4d19a3c441304474a0423952c9177c57": {
     "views": []
    },
    "4df9df04375844dfb3e73dad3fc59c85": {
     "views": []
    },
    "4e8baa948d3840199d9f0826d3406a9c": {
     "views": []
    },
    "4eb589c72566472691ff468cb1a5d7f9": {
     "views": []
    },
    "4eb7c535f0aa4408bf484df822b749ce": {
     "views": []
    },
    "4efd3355b6814ad79524cb96cfc03e37": {
     "views": []
    },
    "4f081e2bfeab49bda535917814de8b23": {
     "views": []
    },
    "4f1b27c784204da2bcd9c012c3b266df": {
     "views": []
    },
    "4f86b3164cd84024a62c117c117a6f9e": {
     "views": []
    },
    "4f9889bc123c4932ae2414bf1bb7e0b8": {
     "views": []
    },
    "4fc960a695a642a6b4ad6198afd3fc16": {
     "views": []
    },
    "4ff84f884e0f4ebeb70c8dcb3abbe58d": {
     "views": []
    },
    "5013c607ab664089a87a5c4ec79a7524": {
     "views": []
    },
    "502909779eea437b8e61852699f4fd09": {
     "views": []
    },
    "505875a0e43743e985f1f50318074f44": {
     "views": []
    },
    "50799f0b39254c1598a1ced64a1a44fb": {
     "views": []
    },
    "51051e2c2b3f4ccca1f27132a6781759": {
     "views": []
    },
    "510ccfded61e410bad3f090dd472c914": {
     "views": []
    },
    "510dd08d7c764ae6b839e14e407a778b": {
     "views": []
    },
    "515b291a122b4142866cae90cccb650d": {
     "views": []
    },
    "51677c07e5d247c5bdc26a6246179f09": {
     "views": []
    },
    "51a2c666a2cf4bb58f199667130cfe31": {
     "views": []
    },
    "51c1fd1aaa774806a3f4f2b8c601f87b": {
     "views": []
    },
    "522e720a1b9e4fb188301c460ef79575": {
     "views": []
    },
    "5232f8470b9d4a678ce47614a3121a2e": {
     "views": []
    },
    "5286123dc1ae4671a4cda3767244a634": {
     "views": []
    },
    "5286cb5b8eee4f4d9fc91e8b3aa375ee": {
     "views": []
    },
    "5322545e7d7842b0826a1d09f595dd88": {
     "views": []
    },
    "532a1a03bb564fa7ad1064519f164a47": {
     "views": []
    },
    "53afbb3585004c9ea346a7deabed419d": {
     "views": []
    },
    "53e6f504221042cdaa3200dc97bf07f2": {
     "views": []
    },
    "545036ef69174ba893b2829adf0f5764": {
     "views": []
    },
    "54775a6151da4a619c71a7feface6fdb": {
     "views": []
    },
    "5493db3db3454aba853c95907a9f8839": {
     "views": []
    },
    "5494d44100634173b80be627ef6ca4df": {
     "views": []
    },
    "549cf263b4ab4812bea867f425e9264d": {
     "views": []
    },
    "54d9e39b5a59447fa56179bf103c47a8": {
     "views": []
    },
    "54e316f2369f450596c3d7f66f559f0a": {
     "views": []
    },
    "5517dacc70484509a0bc6d3f67573f6e": {
     "views": []
    },
    "551c9b30e16f444199b7a72db9e2dbb2": {
     "views": []
    },
    "5553709ca3bd4e6db86d0780524e4afc": {
     "views": []
    },
    "55b3fa2d31ad4bdcacc25b1e08997989": {
     "views": []
    },
    "55e7ca9c2ce24069b6c4a1c32c537c93": {
     "views": []
    },
    "560e27bf80e24cc3b9cb95497d4d9e68": {
     "views": []
    },
    "56140032f4df40c2a0570b67a0774da5": {
     "views": []
    },
    "56661bb764274d0dbfbcf81197f4646a": {
     "views": []
    },
    "56677355b2754a2bbdb17dee5004963a": {
     "views": []
    },
    "566ac8b5e4514494be5103ed7ff0fd2f": {
     "views": []
    },
    "568fcc0802a148bfa17e594489439919": {
     "views": []
    },
    "56999ea8e88a484d952bbb74154ba2d3": {
     "views": []
    },
    "56e7bfbef33d4088b3726c6a46faf9a7": {
     "views": []
    },
    "56e831b3dd304316b7abb07080c26d14": {
     "views": []
    },
    "5700ad2f156e43ba9ecf67ed5f9a6c46": {
     "views": []
    },
    "5713eabe2e9647e49da45a38f0120253": {
     "views": []
    },
    "5769ae2f0dc84ca4bc01e5bffeef7a62": {
     "views": []
    },
    "576a163bf77e4c4c8fa1a8b1e167918f": {
     "views": []
    },
    "57a7732ba45f4ac88255f76f982dc00a": {
     "views": []
    },
    "57afa629e9ab4e89aa7eb52a8af6b427": {
     "views": []
    },
    "57ca38fc1acb4b9699d3df538cef8bc7": {
     "views": []
    },
    "57fd663ba55d491393ece5be5ab7cf3b": {
     "views": []
    },
    "580162f5c35e4b96958e50c660a2ed1d": {
     "views": []
    },
    "581c24b233f54593b51358987acea4a8": {
     "views": []
    },
    "588c3a66c460490390cb568d9c82f4f2": {
     "views": []
    },
    "588fc219bc6e4ca8bd6be290fd31dc9e": {
     "views": []
    },
    "58c8d6a373714e3392d981c2090335e2": {
     "views": []
    },
    "58c9c9892bed423fbdaeef9febbca4ed": {
     "views": []
    },
    "58cc98f774e24b2fbf0ac6601a48f7ee": {
     "views": []
    },
    "58d01f179ce04449af9e072d25da3237": {
     "views": []
    },
    "590641f9430f4d23a251661eab2d0c3d": {
     "views": []
    },
    "59c54bfac2f042ee8fe11c0e60996b00": {
     "views": []
    },
    "59dd74326be04a5bb9762246e541e673": {
     "views": []
    },
    "59f9033bac084e408cf0beb62cdf99ac": {
     "views": []
    },
    "5a114ecf64b04197ad94e985c60b8ab4": {
     "views": []
    },
    "5a13f0d4cea74573b39493d0a6233095": {
     "views": []
    },
    "5a88bcd4608f472a8c9a5f425bb25487": {
     "views": []
    },
    "5ac7edfbe9ba47ba8ed28c5c7eada4a6": {
     "views": []
    },
    "5add7c45bdb8486f85ec5e67e3783b22": {
     "views": []
    },
    "5ae16f9736394e0f82955d91bc1e6540": {
     "views": []
    },
    "5b5e0a8612af48dc88360dcfde02453d": {
     "views": []
    },
    "5b728c2178da4b5c8895c611e751c3d6": {
     "views": []
    },
    "5b88ac7199a34d2399d7d92ac5ae8feb": {
     "views": []
    },
    "5bac251f97914363bd5dccc5eda28813": {
     "views": []
    },
    "5bca17d95efc40e1850d00b4341e7131": {
     "views": []
    },
    "5c2602421e0d41f798c1e955c9c16cfa": {
     "views": []
    },
    "5c6d506f988c4294bd158c82b601a1aa": {
     "views": []
    },
    "5c95a0b9cc814a3f90e7cbe2278c1472": {
     "views": []
    },
    "5c9b545efa8640baafff35cd939bde8a": {
     "views": []
    },
    "5cdeca7339dd4582b426803360e7acd6": {
     "views": []
    },
    "5db2a0baa04a41ab820dfffd359d11f4": {
     "views": []
    },
    "5de49cbda6f54664805df875040234e5": {
     "views": []
    },
    "5e0596487e174d52a8ae5f1f7a351ba6": {
     "views": []
    },
    "5e1d207f59cd47efad475175826377b1": {
     "views": []
    },
    "5e37140668cc4c27a4f900955fdd47ad": {
     "views": []
    },
    "5e7bad02a5754675b4a606cf3212555c": {
     "views": []
    },
    "5e96a7b8dec54178a97eba06ff965455": {
     "views": []
    },
    "5eccd0a7021241dfabece0313dfa8b4a": {
     "views": []
    },
    "5ee2b191cc954cbcbfb3ceaf636fd6a6": {
     "views": []
    },
    "5ee494d3bd8546b0bf3cf42d2b8326f6": {
     "views": []
    },
    "5ef5e5cfd6434334ad611de598108a2a": {
     "views": []
    },
    "5efc1fea6df24e8680c7b181d4b3e54b": {
     "views": []
    },
    "5f43c9f582fd4a3fb94bd6e5c392b8cf": {
     "views": []
    },
    "5f868fe5814840e89bafce18eec0ded7": {
     "views": []
    },
    "5fa0ab0d21a44feaa573ce31f1d58c0c": {
     "views": []
    },
    "5ff0466a6326407e9180710b1269aa61": {
     "views": []
    },
    "60e2b086d1e144809646cc1d463faf88": {
     "views": []
    },
    "60f57cf46a4446d98d251f5e0455fa51": {
     "views": []
    },
    "60fbebc6b00c4c1aa81d805bbb347490": {
     "views": []
    },
    "6160c9366dc2419b8a8a92f91ef7192e": {
     "views": []
    },
    "61c3721d27ba4716a42b84db31413456": {
     "views": []
    },
    "61e641046afd438ba85c1e6b499041d8": {
     "views": []
    },
    "6210b29f381c46419ce49fd1bb33ffb1": {
     "views": []
    },
    "62b76d10a38b4b2c8ea3a31b8dd51030": {
     "views": []
    },
    "62e7a76eda20442986e988ad4c217165": {
     "views": []
    },
    "6339f2dee0bc408ab473fcab62cb0163": {
     "views": []
    },
    "63410f24a32b4098a795db12c24c4b5e": {
     "views": []
    },
    "63d1d5996ed34f54b99e51c5006a1d18": {
     "views": []
    },
    "64107edca12f4b63860f8a10615d44e4": {
     "views": []
    },
    "647317fb167c4193b4686742a663a4b1": {
     "views": []
    },
    "64774f5ea1d147ea9a86df41e9b765db": {
     "views": []
    },
    "6483b8c064c04603bdea7cb882009f83": {
     "views": []
    },
    "64951447d8fb49628e1390741f180e65": {
     "views": []
    },
    "649f854d95d94db78280540b168dc853": {
     "views": []
    },
    "64b41ad252ff481187a902e0f825dd62": {
     "views": []
    },
    "64c3d6f18e7c405b87727e824e16f2df": {
     "views": []
    },
    "64fa4a888f3048888267d35d9a4a28fe": {
     "views": []
    },
    "64fe7bb8d4da4f0ba2df530107840631": {
     "views": []
    },
    "652020184cc74e19897c30731783dd6c": {
     "views": []
    },
    "6625f911c0fa4a84813620a80ec654e1": {
     "views": []
    },
    "662e475393324b2c95c200c2e7c13a87": {
     "views": []
    },
    "663896c64fd04a8ebf37f2ecdbb899e9": {
     "views": []
    },
    "665a2f3b21b44144a4770b3337781f70": {
     "views": []
    },
    "6668151b847d4ccb817a4670eaeea433": {
     "views": []
    },
    "6690606293024bb9b99040c2da5d5a92": {
     "views": []
    },
    "66cf8a63c8354b81bf8c21b4d1f99c17": {
     "views": []
    },
    "66e0930cc4f44252949914d7e62ec6a2": {
     "views": []
    },
    "66e69528d3cd405995ace9ede126d022": {
     "views": []
    },
    "66efc69a0a4443afac1b888ac3691f0d": {
     "views": []
    },
    "6709dbf3227a42f29da9b6f7ccdf3ff1": {
     "views": []
    },
    "67206a0d272448a89098d59ca2b74a69": {
     "views": []
    },
    "674d2cc1b03c401fb6b466132d5d381c": {
     "views": []
    },
    "674f617a3e2e49cf92c0a07e2b1883da": {
     "views": []
    },
    "67845778d7194990ac7869aaafdcc053": {
     "views": []
    },
    "678a8dc2a24f4216a7731b07d6561989": {
     "views": []
    },
    "67be610e65b245a5af1bb5ddf7657747": {
     "views": []
    },
    "67ddd905a2ea42cc8cbf6ba212e5719b": {
     "views": []
    },
    "6818952b3dbe4bd5a0d0734b40285f92": {
     "views": []
    },
    "685b0fdfe8bf4303a06e200bde7f9fd0": {
     "views": []
    },
    "6868f887b307402597d888758952884e": {
     "views": []
    },
    "6896a79f163e4eb0935f3d63c20b1519": {
     "views": []
    },
    "695264ce561f459bbc12645d397674d9": {
     "views": []
    },
    "696e8b46bec741d0a506335e742656a6": {
     "views": []
    },
    "69721f9dd950495d98584e331b3a94f6": {
     "views": []
    },
    "69938199258c41a6a19dc2d60bf58e49": {
     "views": []
    },
    "69b3f3c45b234f61a9aafa2869e596f3": {
     "views": []
    },
    "69cd0129dbb145019820a0a4461c9124": {
     "views": [
      {
       "cell_index": 6
      }
     ]
    },
    "69cf0b7a767340e2b7948b00d293fb5d": {
     "views": []
    },
    "69f3b7312f6649e692af2ca55c8e39cc": {
     "views": []
    },
    "6a32dae50c2841adb3e504169cd5f3a9": {
     "views": []
    },
    "6acfd0b492d049c588c30d145202cf92": {
     "views": []
    },
    "6ada9a1503ed41fd9d0b8a237c6b1c29": {
     "views": []
    },
    "6b369073914642bcbe983897d3082818": {
     "views": []
    },
    "6b3fdc0b57cf4794accc08706ba5ddf2": {
     "views": []
    },
    "6b8721d11b4044dda4f45add1675ec72": {
     "views": []
    },
    "6bc278ad6abd43448fa2872f1a50a096": {
     "views": []
    },
    "6bc8513eb4354aaf87f82df474cc2a9a": {
     "views": []
    },
    "6bf524a1db6043d88cc951f2e979ad1f": {
     "views": []
    },
    "6bf871f0b54a4c43b908aa3872f2b1d2": {
     "views": []
    },
    "6bfcefcfebe84111b003ea25967fe036": {
     "views": []
    },
    "6c0734a0b46544b39d08b6ef232aa99f": {
     "views": []
    },
    "6c2ce87d34d1433cab20e1e25187b2c6": {
     "views": []
    },
    "6c3ddc4cb1344afe82981c0194e75494": {
     "views": []
    },
    "6c86e7d249e447f2b19870d57af76c69": {
     "views": []
    },
    "6cd79cc6c8a546c3a5cf20a63df0eff0": {
     "views": []
    },
    "6cde9b090ebf4474b40a9fba65fc6c1f": {
     "views": []
    },
    "6d18a4c55ad446cca6b633762375bce3": {
     "views": []
    },
    "6d4ecdbac44244bab2ee3aeecb567b1e": {
     "views": []
    },
    "6d4fa0d12e064eaaa9bfe62e97834403": {
     "views": []
    },
    "6e229bb9026d48c8a37f2021c702ca2e": {
     "views": []
    },
    "6e35470c5b884b98861842fa92e2730c": {
     "views": []
    },
    "6e367f9446c94f5b9d8e778e9c860740": {
     "views": []
    },
    "6e593f760878488691a42f2bafa30e48": {
     "views": []
    },
    "6e5db214b9544cd5b533eab00f3a4970": {
     "views": []
    },
    "6e7af689526a494ca733ef56997f7d23": {
     "views": []
    },
    "6e82486308f74e72a125d9fca00aa110": {
     "views": []
    },
    "6eb069480e914250bec99a9ab2323646": {
     "views": []
    },
    "6eb3550a751f44baa3d2be82d68af3f4": {
     "views": []
    },
    "701f020f8abf47238855e2af075d257d": {
     "views": []
    },
    "7038dccf922a462dba7471e14abd0932": {
     "views": []
    },
    "70ae09db65f143f79edd4e6c93bdc7a1": {
     "views": []
    },
    "70d0bf631b96465ba37089e5d60dff01": {
     "views": []
    },
    "70d78d1499c843289457961c54ad5faa": {
     "views": []
    },
    "70e664745112472fa442b587e6f669ed": {
     "views": []
    },
    "71891a1d43d742babd1cbeed983f20bf": {
     "views": []
    },
    "718aba0dbcea42aebb4f2c97fcfb05dc": {
     "views": []
    },
    "71c52031b5c34416a107d4c34b240a08": {
     "views": []
    },
    "71e56a14a09142639415d4bb657cc8f3": {
     "views": []
    },
    "71fb744c247546119ae34314a8162263": {
     "views": []
    },
    "722231b483924db6acc4c0e740a1a8bb": {
     "views": []
    },
    "7243c084b9484c2599ff100a9b440360": {
     "views": []
    },
    "729abf3543dc45c3a2595b59c55a5fa1": {
     "views": []
    },
    "72b683180c2a4955be80c1a964a693f5": {
     "views": []
    },
    "72e77801540c4e0fbc9d959e774ca7ee": {
     "views": []
    },
    "72f7412af9c5440281c7828ea68672a5": {
     "views": []
    },
    "72fe3cb71dc24c4782d63e9e0171aefb": {
     "views": []
    },
    "730d905a43694244bca76efe8f3a1854": {
     "views": []
    },
    "7321353932dd4ca78b8f7076afd92e28": {
     "views": []
    },
    "732488a384e64ecbbcb6636a13fb4295": {
     "views": []
    },
    "736ff20808b34ce1a710f3764b0475cb": {
     "views": []
    },
    "73e8a7d02f2a47658f92ccf41d8cf1fb": {
     "views": []
    },
    "741c05e2e85545daadda5227eeda2999": {
     "views": []
    },
    "74690f77236f41e7999e7631af57c75a": {
     "views": []
    },
    "74c195dedba74290b053044e8293720d": {
     "views": []
    },
    "74f1fef260f245ce883614be10fbd959": {
     "views": []
    },
    "75072b97e5284b0eb6921a2ba010a1b3": {
     "views": []
    },
    "75cd769207ea46d996d7bde21ceb494d": {
     "views": []
    },
    "75e12a33efea413592f504c30e94f2ef": {
     "views": []
    },
    "75e95a0211b74b1aa1b5c43936860db8": {
     "views": []
    },
    "7656b861d185464ebc0da2102d32d888": {
     "views": []
    },
    "7685678852c942df965b9832f8660a69": {
     "views": []
    },
    "76f2fb137bdc4737b8cefdf0a9c30ee8": {
     "views": []
    },
    "776288b588cd4ed28a8b40ded3107a03": {
     "views": []
    },
    "778ed6a1bd5c458781f2e39ede978ebb": {
     "views": []
    },
    "77a186a8657a4239801abb7eb9f7da55": {
     "views": []
    },
    "77b99d9719b74489858b9a83482d9e0d": {
     "views": []
    },
    "77c8189f6c0140ca9f6d3f90cd698aa2": {
     "views": []
    },
    "77ea5a03d72543d2b011764396ac40a7": {
     "views": []
    },
    "77f6a46c1d9d4ac2b90915376cd257fd": {
     "views": []
    },
    "785459eb3bcb43ada5e0e8bc30d68b97": {
     "views": []
    },
    "78855bb917b24faebfc4bf68ecb5f8fa": {
     "views": []
    },
    "78fc1b4520bb435bbaaf0fd465d10449": {
     "views": []
    },
    "79af85dad39f4a7e8763ce792e5b17d9": {
     "views": []
    },
    "79c04485ed744067a98ce6436bba2e82": {
     "views": []
    },
    "79d46045450d43bb897da9718edb1ea7": {
     "views": []
    },
    "7a13b3d3eb1341ef94d3a9279224d8ec": {
     "views": []
    },
    "7a157d206657426cbabdacad799771cb": {
     "views": []
    },
    "7a37caf6e3f04ed79188051a4cedd1d2": {
     "views": []
    },
    "7a49942a23514e79a0c6ffcf09f5d746": {
     "views": []
    },
    "7ab86721b287427293decfe9070726e3": {
     "views": []
    },
    "7aee6d4798374ca383d9efaf0c032d7b": {
     "views": []
    },
    "7b27ccd6db344f04bd07149fd2f5d413": {
     "views": []
    },
    "7b86847778f2408293b1b9210b27c584": {
     "views": []
    },
    "7ba0f09fb6bd43c1b4de25f6df8d8a79": {
     "views": []
    },
    "7bd9f49c6dc7476aa32f57784fa5d4ca": {
     "views": []
    },
    "7bdd09fee4c54acd8bd838047a570cb8": {
     "views": []
    },
    "7bde068509974720a651abc98b6910e6": {
     "views": []
    },
    "7c0ec3064e6b4d45847234294fb98406": {
     "views": []
    },
    "7c1aa84147bc45919100e56c2cbebbd7": {
     "views": []
    },
    "7c23bd6b00994fc68c6750c594421303": {
     "views": []
    },
    "7c3778ed0e904f86aeff71381aede8d9": {
     "views": []
    },
    "7c45cca3b0604024a991c563025b2f14": {
     "views": []
    },
    "7c4aa036b90a4b49be9c50530aefe627": {
     "views": []
    },
    "7c6562b857334bdfae395b5642d0d4b2": {
     "views": []
    },
    "7c984f5ae60146b998fbb5edc2c7edfc": {
     "views": []
    },
    "7cd173f882774d65856a9939882135ce": {
     "views": []
    },
    "7d45d516d02640b3a1f58656e2f6ea03": {
     "views": []
    },
    "7d8a53e0cbe647a19ee4850d22652bca": {
     "views": []
    },
    "7dcd952aa5694567a230343308c12fc2": {
     "views": []
    },
    "7ddbadb9d56249a9aa98875c2bca1693": {
     "views": []
    },
    "7e0b3a818fb148d2a47b1437a892e5d7": {
     "views": []
    },
    "7e73a0b38b774ab1a93949d11047735c": {
     "views": []
    },
    "7ee9e68101b348c59c2c7446327a7f97": {
     "views": []
    },
    "7eee2c6cea2b4949ae6db587b21249c6": {
     "views": []
    },
    "7fa6074be7a4443888f56dabe0d7445c": {
     "views": []
    },
    "7ffb6cf0edfb4930a3b4ba3bc08d0cf5": {
     "views": []
    },
    "8009cc108f6947e99f5e61616f5fd936": {
     "views": []
    },
    "8024a0c379c942ebb21e1010a19ea9d8": {
     "views": []
    },
    "803b2c3e008949f3836507b8540a2233": {
     "views": []
    },
    "805d088233d94c2783aa0cf9d0ad79ed": {
     "views": []
    },
    "80792a36b92e4af5a9c5f4b119cd4751": {
     "views": []
    },
    "80c39e4295124b8d889ba35b4a7f0690": {
     "views": []
    },
    "80e94f6cf86b44e2997318aef3f8ebb0": {
     "views": []
    },
    "80ead53420d24bd2a7d5081f4ccb88d3": {
     "views": []
    },
    "80f767248f8849318937270eeaf18c97": {
     "views": []
    },
    "810ae193a61745c1916587ae74dfd870": {
     "views": []
    },
    "8118664146504979b01056381448d298": {
     "views": []
    },
    "811c9683503a49bc9a957cbb9c9d7e17": {
     "views": []
    },
    "8120fae2b36848e88012980a40232b4f": {
     "views": []
    },
    "812a5c19f5b14d9ca99610d9dd4c5f1f": {
     "views": []
    },
    "815db7ca356244b1a1db4ecc838dbd9d": {
     "views": []
    },
    "817738d178954c2da12c0c31804d1ea2": {
     "views": []
    },
    "817a9d06be744934ac30afdbe01b3fff": {
     "views": []
    },
    "81af5754a51444acbe6bb8d837341237": {
     "views": []
    },
    "81c2bf8e131f4d19bada98337d3242ef": {
     "views": []
    },
    "82ce726ac32e4c27b0c99065e3446e45": {
     "views": []
    },
    "82f73506df0649069fc70a64fd3e4378": {
     "views": []
    },
    "837fef22ec354b79b5f28b657bda5326": {
     "views": []
    },
    "83b00510dd884f30a647c3171294daa8": {
     "views": []
    },
    "83de7bc4a93b4cae94931e35d3321c05": {
     "views": []
    },
    "844e686629774c8c8738ea23535b8e33": {
     "views": [
      {
       "cell_index": 5
      }
     ]
    },
    "8489196c297940ceb6f6a0fe912d8aa0": {
     "views": []
    },
    "849af8a1a833407ab5c3f2333b6a1910": {
     "views": []
    },
    "84a29f8f8820425f8bf37f1486932d20": {
     "views": []
    },
    "84c7aeca754246f390d6bd7a8f24a2d8": {
     "views": []
    },
    "84cfc72377c04f0193bdd68addffac2a": {
     "views": []
    },
    "850613f2d6fe49c68e8e9ceda16bd845": {
     "views": []
    },
    "851091e957eb4a02b5842dce950e6dea": {
     "views": []
    },
    "854f7e629d11407c99afca2ef0b3f613": {
     "views": []
    },
    "85ae817aad2d46ea9868c8675f5ba8c5": {
     "views": []
    },
    "85fe8f4a312d4233a40e849c367417a0": {
     "views": []
    },
    "86144c2c998d4d2e8354fbc3e3e20d97": {
     "views": []
    },
    "8614e10431ce46e3af1c99164e650703": {
     "views": []
    },
    "862eff58c5ea4128b13af5de458e14e5": {
     "views": []
    },
    "86cfab20ae4c4d21be72029f1b2b0803": {
     "views": []
    },
    "871f25441a89467abaa70f25143eaebe": {
     "views": []
    },
    "873849143e36481999dbe79a9b4be4bb": {
     "views": []
    },
    "8747dd6a9cf44a87951bc564faa920b2": {
     "views": []
    },
    "8765c156f29943bfa162b5988e0a5e92": {
     "views": []
    },
    "87decd8c7f834d749babe5d8340dad13": {
     "views": []
    },
    "87eeed343f7e42b2a0f4b7d02c7644d2": {
     "views": []
    },
    "88066451ef284ee0a1535a9b41096025": {
     "views": []
    },
    "881de384d1d24ad8972e8de8bd033bcb": {
     "views": []
    },
    "88217ba150244cf591a6db9414bcf016": {
     "views": []
    },
    "8846e00f5c474779b87f8181af0262eb": {
     "views": []
    },
    "8854141f8a0447bf9041e3268fe15b8a": {
     "views": []
    },
    "887cbb55934c42c991eecb1f707f3e2b": {
     "views": []
    },
    "889d63c7697e46cdb93882f9e05b1062": {
     "views": []
    },
    "88a0243417a04a3e91a97f07b9b7743a": {
     "views": []
    },
    "8907e966983845a99308e77e6d18ebeb": {
     "views": []
    },
    "893724ae0e2f46eaa8fee64f2dbf4855": {
     "views": []
    },
    "8961427733d84be4acf179ed737eaa17": {
     "views": []
    },
    "89cff7e3f7bc4c2f906e4cec5cbff30f": {
     "views": []
    },
    "89d485dd5c3f43598f6743654a92708e": {
     "views": []
    },
    "8a061e19e2404974a16b8dee588d5b94": {
     "views": []
    },
    "8a865ca28d5c4b52bcc00e39369f0653": {
     "views": []
    },
    "8add5dfba0874c5b8cbfb1f9ad828472": {
     "views": []
    },
    "8b41454cef91441c97c6b613a60f38c1": {
     "views": []
    },
    "8b76e1e05c7a44369a41f49f08826384": {
     "views": []
    },
    "8bf0523573a946f7ac07bb48f556e7b8": {
     "views": []
    },
    "8c4ead54a2334c9ba721ffc17f635fd4": {
     "views": []
    },
    "8c723714b92a43ad87240e87300bdb04": {
     "views": []
    },
    "8cb33b998a3f4129abdaa6f2dec8affc": {
     "views": []
    },
    "8cbb4f2b38124d78bae03db1870743ad": {
     "views": []
    },
    "8cbd1e15817b45de9732a817e5dea00b": {
     "views": []
    },
    "8cd3397a8fc442398a20c287e4b91805": {
     "views": []
    },
    "8d1a300ce5364cb1a34828fbc8a5cf66": {
     "views": []
    },
    "8d4dd07301234fb0947b1f08809d503f": {
     "views": []
    },
    "8d8039618f84420ea90a72998a6cb249": {
     "views": []
    },
    "8d94a4f0ecc448c7915fd194da36d7d9": {
     "views": []
    },
    "8d980f7369044348829161175289b90a": {
     "views": []
    },
    "8da85c286de34b3bb2857095833ec349": {
     "views": []
    },
    "8db10f9e70654ca28d6def866ce4e560": {
     "views": []
    },
    "8dc86f3478ee489c855bfde8667a1b2c": {
     "views": []
    },
    "8ddb012f6d8e46fca11e3a0e471e61f7": {
     "views": []
    },
    "8df91cab074042a7b677a9bb4dcb09e8": {
     "views": []
    },
    "8e06b4831bea4b18a8e5c2d7b6d05d8d": {
     "views": []
    },
    "8e2b2c12e93f41cba2b8247673a0ea87": {
     "views": []
    },
    "8e922d065b35487faaad8752bc41a3d9": {
     "views": []
    },
    "8f9eaf0f7ec9405a92ef7600089aaa02": {
     "views": []
    },
    "8feca9dc54164129944ef49e28e55916": {
     "views": []
    },
    "900a066b10024f718bfcb5fe65c9bbf6": {
     "views": []
    },
    "901be722f19245b9ac87a0e2ebf13d75": {
     "views": []
    },
    "9068407ae85949b6a1b8508ede5cccf9": {
     "views": []
    },
    "907d5384e3634d44a007d9735e552627": {
     "views": []
    },
    "90b663de20e64e249486dc7d97304d79": {
     "views": []
    },
    "90ecfbfcbaf34f9caf2272fc64e030fe": {
     "views": []
    },
    "910c6c4311464a55b481835450a4a230": {
     "views": []
    },
    "91245d19e5ca4567a412b9ee48cdcb5f": {
     "views": []
    },
    "91657b9ee2d14313aadf3eebbb7d8f16": {
     "views": []
    },
    "916a77f770094e5e93c88fa3b1e170b1": {
     "views": []
    },
    "91a06397b0d3421da4ffe30ae37e636e": {
     "views": []
    },
    "91d8263cf3a54e3590e492ce48a847ee": {
     "views": []
    },
    "91ea98a01a8740938426336801bc5f62": {
     "views": []
    },
    "91edf0ef78a047aa9f6f42cbe4ad86e0": {
     "views": []
    },
    "925a5c8f4888462a87f1974c3704c774": {
     "views": []
    },
    "92702983c1d64f7fb3ef55d5c7a512b1": {
     "views": []
    },
    "92bda5b7321e40b98a5183514eac628f": {
     "views": []
    },
    "92d1fa580ac3485aa7e4bbc1b0aab08e": {
     "views": []
    },
    "92e66720c4a44524823128836469af1b": {
     "views": []
    },
    "92ed9555009542eb9b381459aa963909": {
     "views": []
    },
    "933a0f990e5b44f9a933d5fdd13214eb": {
     "views": []
    },
    "9373872436144610a3aae4c94bfec96a": {
     "views": []
    },
    "938086c7d90748719d2dae6b9518a751": {
     "views": []
    },
    "93a7d726868f4424825c8550fb26e6b4": {
     "views": []
    },
    "93d315ec59e24898b0d8024b03c006ba": {
     "views": []
    },
    "93f22c3375494d9f8061632128fce07a": {
     "views": []
    },
    "942976a0e2ce4062aa7fc53b3950be75": {
     "views": []
    },
    "944102edecae4dcfabf181b37cbed8ef": {
     "views": []
    },
    "94a53f97a629480eb1568bdde658acec": {
     "views": []
    },
    "953d7533e386401e94a092a40d3527cf": {
     "views": []
    },
    "959fb840baa948c592f608669d762fe0": {
     "views": []
    },
    "95b4e354f5d7488fbb011c65eb65eeb7": {
     "views": []
    },
    "95b721c57da34b17a659ea76e9254526": {
     "views": []
    },
    "95eb0310e27e49a4a4d347a08f81e33b": {
     "views": []
    },
    "9620d3dec4a14b408764836cb5594dc6": {
     "views": []
    },
    "969dbbedf40a448a9274d84acaff2fe8": {
     "views": []
    },
    "96ed8f1589f64de5a9421b6a21762dd6": {
     "views": []
    },
    "973eaa4116ef43cdba944722e4704e9f": {
     "views": []
    },
    "979e74fe52ed4b48b23cb89e55eddc61": {
     "views": []
    },
    "97a1a2ad09dc40ac999d8cc8bf81c70e": {
     "views": []
    },
    "97cecc6a33a249e6aa2b125df7ef8c06": {
     "views": []
    },
    "97d0e9bc405f43f3acff0dcaf382d078": {
     "views": []
    },
    "97d4b196c61c4114ae1ddef6bffcabe9": {
     "views": []
    },
    "97d867c265c34f79949486ada07f2dad": {
     "views": []
    },
    "98ad460bcd8542c69baaa8bb9bf5b14a": {
     "views": []
    },
    "98ada5dda53d406b8e413bc00f33ec54": {
     "views": []
    },
    "991dcd32666a4d848bd4d53eb95ace45": {
     "views": []
    },
    "99605fcc36d34ab3b3a633e1b38b93af": {
     "views": []
    },
    "99beffe7aa4e42829dc38fb2f3469890": {
     "views": []
    },
    "99f6504b8ebf481fb650627b2b8a6441": {
     "views": []
    },
    "9a0a14fa40b540279ca1a07208e49cbd": {
     "views": []
    },
    "9a3e4b7ab16c43cf9e219fb6176c26df": {
     "views": []
    },
    "9a507965fea749578fe10f743d630589": {
     "views": []
    },
    "9a6062c954d245d89d7915c3fd3fed81": {
     "views": []
    },
    "9a6b28b338be4db4a8735fbaa77bbb8b": {
     "views": []
    },
    "9a7a5713cec8402fb2656b274983689f": {
     "views": []
    },
    "9a9511363f184d5a8074a36e1d497a1f": {
     "views": []
    },
    "9aabee2acafd4c3bbaef9c0931819269": {
     "views": []
    },
    "9ad5649b9b8a4f4b888b81afbe8a5e5c": {
     "views": []
    },
    "9ad8307681b74f329feb4a24a15ba2f4": {
     "views": []
    },
    "9b13c1e4e42a4ad184ba67b36d246baa": {
     "views": []
    },
    "9b96419405d445508f30a5965a66b4d3": {
     "views": []
    },
    "9bbfaf0af976401b8ed154afdfd88bdd": {
     "views": []
    },
    "9bc86b6b04304962acd03f8270958815": {
     "views": []
    },
    "9bd53d6675fa4044adf399a05a248d86": {
     "views": []
    },
    "9c116161dc0448d2a477924b82561b8e": {
     "views": []
    },
    "9c163292a2054e5289f98cc453d5401a": {
     "views": []
    },
    "9c255ce381864655b9b6f127c2227ebc": {
     "views": []
    },
    "9c51cb19620f467bb0be0798ec9d00bd": {
     "views": []
    },
    "9c758043f67345779f46237849594f20": {
     "views": []
    },
    "9d39f803b3e048a78b63e0108928c3e5": {
     "views": []
    },
    "9d47d1b325d74ce1b3d2e5d4df40946a": {
     "views": []
    },
    "9dee01ded5a14355b7a7f4dac29289f7": {
     "views": []
    },
    "9e380436d7c841039dba9d5f5fcd4c6a": {
     "views": []
    },
    "9e69f640627f4c39b715315d685d3623": {
     "views": []
    },
    "9eb197ef85644e659d4f2ca322456366": {
     "views": []
    },
    "9ecc84e145384a989d6505344b3e418c": {
     "views": []
    },
    "9ed8c918f5bc4f49b534b136bb4fcff9": {
     "views": []
    },
    "9eecd12e658b450bb761c2e5973ae179": {
     "views": []
    },
    "9f2af784a37f4be08e380cd29bf61d97": {
     "views": []
    },
    "9f64bf83d78a477e86e65f28caef5f2a": {
     "views": []
    },
    "9f7f5695c8a142bc953d5e90f9bbfbdc": {
     "views": []
    },
    "9f81f0a47fd647909c7a3f9deac17dc8": {
     "views": []
    },
    "9f892e9a086e4709bf190f074fb418f6": {
     "views": []
    },
    "9fb3e8cbb2174e488b4cf0ac438e88e2": {
     "views": []
    },
    "9fd8ea416cd74cfba49887a0a68caf78": {
     "views": []
    },
    "a00816f753ac42ebbf807a3e45f2496e": {
     "views": []
    },
    "a050daac58c54fa88f727ad6ef1fbb55": {
     "views": []
    },
    "a068207a6851478f8a8b65f12be9dc49": {
     "views": []
    },
    "a09147bd0a654b43b7e933823b518d47": {
     "views": []
    },
    "a0ef8cc01e0b4d04848a054238672608": {
     "views": []
    },
    "a11bb73793f3437dbd183791ec503893": {
     "views": []
    },
    "a1b7fc0ce34242a3915d228d54d726be": {
     "views": []
    },
    "a1f3563dcd044d5aa78fe04d6a619f0c": {
     "views": []
    },
    "a23e13f158684481a946329cc0cef391": {
     "views": []
    },
    "a245d04e5b124a5b9e8cddb16925ec4c": {
     "views": []
    },
    "a32430b190a84495873a0276ab6ca093": {
     "views": []
    },
    "a33dff62dfc047219bf51ebead4d9171": {
     "views": []
    },
    "a3bc41133f814b09bcb74120ee766aa1": {
     "views": []
    },
    "a3cbf11e7d0649219801e76a6a3cddfd": {
     "views": []
    },
    "a3dc5cb7cc2b48fd80e717a4f29019dc": {
     "views": []
    },
    "a40d5d38ed51463586f810724ec37e4b": {
     "views": []
    },
    "a41ce28d2eed4e25ad9a76bdb7191c76": {
     "views": []
    },
    "a44205e6edb34ab6ae11dc43dc1145b3": {
     "views": []
    },
    "a4a5484aa7d74603937374f622b989d5": {
     "views": []
    },
    "a4cc479899a24a35b8c10851efe1ff8f": {
     "views": []
    },
    "a4e9b1ec30ec49338c7446c5b22e903b": {
     "views": []
    },
    "a52c268f84924a96bba91e881ac3babd": {
     "views": []
    },
    "a53ae68a0903482c8b4938f7c61b60e1": {
     "views": []
    },
    "a54a167be7b740e4848b9b60dedf3e3c": {
     "views": []
    },
    "a6280520e16d4c10a377a007886de948": {
     "views": []
    },
    "a63acd739e82445f9051cb6aa345e927": {
     "views": []
    },
    "a650d39084094820bcd8e6b6cf197c0e": {
     "views": []
    },
    "a6cb2ca3420c403d96ee22888ef77e8c": {
     "views": []
    },
    "a6ddf32cd1c048798c5439cef7cb15e4": {
     "views": []
    },
    "a7191bfb2c764a02a5700c170d9c9935": {
     "views": []
    },
    "a7640462c1604c1ea1ed82c2f5fd9a25": {
     "views": []
    },
    "a7d27479ea7b408fa75a88e2ef8d0f90": {
     "views": []
    },
    "a849e820491d40b6b54c27cf7187bd15": {
     "views": []
    },
    "a8d43c1d1f084aca9083fe8d34d0b10a": {
     "views": []
    },
    "a9032a752d4f4ab5b6804cc70f87e1ff": {
     "views": []
    },
    "a93b25b6b1f644f3806a8058af139467": {
     "views": []
    },
    "a9521c2f11f848ff99fcd5cd7fb724b1": {
     "views": []
    },
    "a9662a3737d446088c36d5c8b5871841": {
     "views": []
    },
    "a9f9bab18c244e15b227e8ce4d1a59a7": {
     "views": []
    },
    "aa555f70297f411ba5f21030a3f5567b": {
     "views": []
    },
    "aa93a75cf5134e2da7fa771fc00f1635": {
     "views": []
    },
    "ab4deda2d310473188ae60be7949ef3e": {
     "views": []
    },
    "ab9998380d48435b91784f8ee8d16ea2": {
     "views": []
    },
    "ac2a6e86618b408dbe22f0ee275bb326": {
     "views": []
    },
    "ac5a7cb40a9440f8a11528e12176dd16": {
     "views": []
    },
    "aca38681080a4618861f640d452f71e8": {
     "views": []
    },
    "ad07817c41d745dcbfc4e07e523b4bfe": {
     "views": []
    },
    "ad16768bd852406ca547692fe81858e2": {
     "views": []
    },
    "ad6b81b79cf041c98dc2fd89597fa5dd": {
     "views": []
    },
    "adc8a85f7c9c4f3a87531dd5a5b7ca9e": {
     "views": []
    },
    "add16527d93e4f08b006a42286572bf1": {
     "views": []
    },
    "add677c2081544ab9056701fe9ffa89d": {
     "views": []
    },
    "ae22d70be009461197239ca485107e1e": {
     "views": []
    },
    "ae3f246ac50e44949c674ff92b80a569": {
     "views": []
    },
    "ae4f65feef4c41938e7c37586204b870": {
     "views": []
    },
    "ae805525c3574875b09a1f34163224f5": {
     "views": []
    },
    "aea6e30709db471ea39bdae709d1d2db": {
     "views": []
    },
    "aed766acb528452b82f217967d846770": {
     "views": []
    },
    "aed9b3d487144964b6e8e651b25d7fe8": {
     "views": []
    },
    "aef1ffda2fa84da9b3eb965096150cd0": {
     "views": []
    },
    "af0bab288c8a41adb6c3bd2e8709e9d8": {
     "views": []
    },
    "af63b4e3434a47b4b7ff2d56549fbfc0": {
     "views": []
    },
    "af9498004f6b49ef9dd2f91759974d50": {
     "views": []
    },
    "af970df1c1cc4acdb4b838d5a9769539": {
     "views": []
    },
    "afef4a63c13145ad9e8205530f1e9531": {
     "views": []
    },
    "b02cbdc378a44d6b9a4780cacd198bb1": {
     "views": []
    },
    "b03c6c5290bd43cda21ef806ed0dd7c4": {
     "views": []
    },
    "b03d0701c4b8446e84d876c0febb7534": {
     "views": []
    },
    "b0a5f35c3c56445a8ad060208d26c1d6": {
     "views": []
    },
    "b0b725c5e1c04f8b802ed94b7aede9d8": {
     "views": [
      {
       "cell_index": 26
      }
     ]
    },
    "b0c6db2c798d4ed996389c492bbc9d36": {
     "views": []
    },
    "b0d66e5057bd4856a006b7b60127a8e5": {
     "views": []
    },
    "b0dc24e807134285af59ace2cd4c16d6": {
     "views": []
    },
    "b0f37eca76d646a1a0c31b2c7a9591ec": {
     "views": []
    },
    "b25b345ef9a446f496f5b7e85b77aeac": {
     "views": []
    },
    "b2654b42652043408233756d2ce1800d": {
     "views": []
    },
    "b27bdf5705ae406aad7ea3a84834b8d7": {
     "views": []
    },
    "b2be5eaa29d3467292bff3e72391e7c6": {
     "views": []
    },
    "b320199e8ca54df4a5c81434e2b1e35e": {
     "views": []
    },
    "b34ace1be9a94707b9fd913776bed205": {
     "views": []
    },
    "b36b340799494cd580164c56f79020c8": {
     "views": []
    },
    "b38d1eede88d47e1ba1a8d664a890bcc": {
     "views": []
    },
    "b3c5925fd98e4e11849d79a77906616b": {
     "views": []
    },
    "b3c81feb33aa4ab1b081daf2d62defcb": {
     "views": []
    },
    "b3ce343e82384684be2ceba639862e7f": {
     "views": []
    },
    "b408f6e5c27b4d939aa78a37a3fdbed8": {
     "views": []
    },
    "b41f495335434dbcadab647170089fe2": {
     "views": []
    },
    "b4456e4883574b26a1607ac4bbc5f5b4": {
     "views": []
    },
    "b45e423e710044b1a7fdbe4daada8bfa": {
     "views": []
    },
    "b481fab60a8b42b18607220af501cfc4": {
     "views": []
    },
    "b4cbe34d21ae4ae085b7879dc840e348": {
     "views": []
    },
    "b4e4f48440d34d919cb79145e522d234": {
     "views": []
    },
    "b4f8f9f9db8f4c7bbb1b1e5960a52618": {
     "views": []
    },
    "b57db42e85774dfb9ca7a91c3f45e143": {
     "views": []
    },
    "b59d5f70f4364fc0a1d5d7ad4a929f57": {
     "views": []
    },
    "b5d7e4ae22b140e09c456921800ab657": {
     "views": []
    },
    "b5e38a5ca3d7406c886835c4bcf970ac": {
     "views": []
    },
    "b5e6fc518a224e2a830b3be8c3e88e9b": {
     "views": []
    },
    "b5e7abeb07bf44caa855988493bd97bd": {
     "views": []
    },
    "b611dff7f9f14de9b18c35d46a99255d": {
     "views": []
    },
    "b6199de1118544459cc5e0f11599a014": {
     "views": []
    },
    "b63e807319db49f3aa8534d7e56f1dcf": {
     "views": []
    },
    "b64355aa538a4ea4a5109a8ebe3fa6ab": {
     "views": []
    },
    "b64abe60da9b4d86bc1979f603c96f83": {
     "views": []
    },
    "b64bab2595414749aa67591947afd62d": {
     "views": []
    },
    "b666449739a54e79ba9b9d89869866f1": {
     "views": [
      {
       "cell_index": 31
      }
     ]
    },
    "b68ca2b404a44419a46af4f6ca9e10d3": {
     "views": []
    },
    "b6fb1ea179aa4fbfa0daf5e81aa5ec0d": {
     "views": []
    },
    "b733299677aa4dab860e2e0dd742c7f5": {
     "views": []
    },
    "b735f93ad65446729a9552f6475961c5": {
     "views": []
    },
    "b7736df20f9642baa3ccdbdad2a2b1c9": {
     "views": []
    },
    "b7e73a66d2e243d6976cdf36d04ec414": {
     "views": []
    },
    "b7f4a3648ddc4fb9b70e2bbf141bdf57": {
     "views": []
    },
    "b80e9070df6e48f28d480fffe4a7cd9e": {
     "views": []
    },
    "b889ca9932af40ba901641e837d749a2": {
     "views": []
    },
    "b8f04098ccc64e2b999d6a0bb447ffc2": {
     "views": []
    },
    "b8fec3bf0d814e5bb02c5c9b42c98a9f": {
     "views": []
    },
    "b937101a95d44009af49f53134f2676e": {
     "views": []
    },
    "b94f8d402830482b9aeb9986d256e6b4": {
     "views": []
    },
    "b998a248f4da407ebe7c204bff4caa83": {
     "views": []
    },
    "b9c69f51cec54a829bb769867ea35dde": {
     "views": []
    },
    "b9e60e4436fe40a3bfe30beda0f701c4": {
     "views": []
    },
    "ba2534fe008645519471c3f33a912159": {
     "views": []
    },
    "ba3a7237100e4c71a408b1478754f579": {
     "views": []
    },
    "ba7b30c78cac4750847b5f188bbe8590": {
     "views": []
    },
    "bade39819a8f46198c164cd215440771": {
     "views": []
    },
    "bae6216d2be34603ace722b43cc3b1ae": {
     "views": []
    },
    "bb648fa98c3d4e5b8cf6ea73e4baa8f9": {
     "views": []
    },
    "bc079de65b6d46d58db6fa69dee1c40b": {
     "views": []
    },
    "bc365205c44e4f9da1526b4ff59b4634": {
     "views": []
    },
    "bc999e35f4b04eaea837e931174d2be9": {
     "views": []
    },
    "bcdc61bc48a74aad94233418cfd540ca": {
     "views": []
    },
    "bcf9b774e54744a2ad8da9f7f630b59a": {
     "views": []
    },
    "bd20cc13ee1f4345885d961f094f1a2b": {
     "views": []
    },
    "bd49e657ee3b49c88a39695b10372574": {
     "views": []
    },
    "bd52646f88b6428282f0f6d98d1a665e": {
     "views": []
    },
    "bd711bafafc8458eab7886199ae8de58": {
     "views": []
    },
    "bdc2d424acff404db6a63e462e148520": {
     "views": []
    },
    "be0cdf9af0244770adc788778f985cfe": {
     "views": []
    },
    "be248898b1534136b013c47c01da199c": {
     "views": []
    },
    "be353ec2e01945d3801b6723dbd5c599": {
     "views": []
    },
    "be440822d21e4f99800e3b18371e1f41": {
     "views": []
    },
    "be7f4269a44b476ebdab031edb1da7c1": {
     "views": []
    },
    "be8f8fcbcefe496ab09b59c94e664cc8": {
     "views": []
    },
    "bf0d29c416fd421a8f8c409a512bf21e": {
     "views": []
    },
    "bf127e40b73842919a23fc2da57ce462": {
     "views": []
    },
    "bf34f012658f45cf9bbd38d2ee2fe4a7": {
     "views": []
    },
    "bf3d2c15eb54435e9ff4197ed1df1c14": {
     "views": []
    },
    "bf7e59b5d7654a338433acc4d8ca2a21": {
     "views": []
    },
    "bfb9a6c3c00045c5924c80b6d39156dd": {
     "views": []
    },
    "bff46a8fc2e9490aa3447a9b2da6b52f": {
     "views": []
    },
    "c049f53627444acca2c5202fbd298e53": {
     "views": []
    },
    "c0d70c9558cb4d719f8a5de596f79a3c": {
     "views": []
    },
    "c0e8fd29d0354c4bb273f6a30eb2215d": {
     "views": []
    },
    "c0f1fdfdc667447b8aef56d924414bfc": {
     "views": []
    },
    "c13ea60016ba4daea884742cf168d6ed": {
     "views": []
    },
    "c1bbd1c3a4574d03bf43116f7659503b": {
     "views": [
      {
       "cell_index": 20
      }
     ]
    },
    "c21fe7eeb9cb4812b7ad3a65584f6858": {
     "views": []
    },
    "c270cd40eba74de8bde48686f68fe1d4": {
     "views": []
    },
    "c29892aa17e24491bd998e1db1fb91b0": {
     "views": []
    },
    "c3343c46f28747e89beebc4f470b811c": {
     "views": []
    },
    "c368ff54724c4340867eb407e2cdac88": {
     "views": []
    },
    "c39fbbab3e0545eab5cf52a7438a5ec3": {
     "views": []
    },
    "c3cf989fc573463f88be254cf31801c0": {
     "views": []
    },
    "c42291044cf1425991d02b2e490f17be": {
     "views": []
    },
    "c4ac6360ef8048d5bb4aeb83234f80a3": {
     "views": []
    },
    "c4e9f2a5ead14ee9b9d5d160d3dcc95d": {
     "views": []
    },
    "c4f3693456cf462dbb6dfd4791bb337c": {
     "views": []
    },
    "c5d9ba10005544dcb4c75cba1a0b8775": {
     "views": []
    },
    "c5dfb4195a7d4d74a67e664d3195c4ff": {
     "views": []
    },
    "c6182ec803054cbca9f719e73d02321d": {
     "views": []
    },
    "c61eeafbf5234290830850d28531c4fb": {
     "views": []
    },
    "c6433c7f99d04d109da82fdc56ddabd4": {
     "views": []
    },
    "c66d1dab0fe74db4a8ca58ab9506d114": {
     "views": []
    },
    "c67fed8ed95c4d1ba7424387f98413cb": {
     "views": []
    },
    "c6f7b5647ad7403ea3c4cf715de43169": {
     "views": []
    },
    "c6fa958bd7154bf7936eb63c0970611b": {
     "views": []
    },
    "c710888c9a9f4fa98aed4f06f0137713": {
     "views": []
    },
    "c71d7536d5514a1e8d630b2528fd4343": {
     "views": []
    },
    "c75bbfade2c64adbaa77a061fbda6543": {
     "views": []
    },
    "c794cd1f12644704be8287caf28dea26": {
     "views": []
    },
    "c796a7bed0b64e38b0ab9ec8e76e9ce7": {
     "views": []
    },
    "c7f3269ffbf44a6d9e82096658379d4c": {
     "views": []
    },
    "c817d86e59d942c5a27ce450bffd78c6": {
     "views": []
    },
    "c886c2f5e32c487fb02aa1c824eb1964": {
     "views": []
    },
    "c8923c5b564c4b119c20a4360a9c42db": {
     "views": []
    },
    "c8aead1425d8451c983346fe1ce8577c": {
     "views": []
    },
    "c8d5083a373f4530b792ccb04d220093": {
     "views": []
    },
    "c8f4779c49a5453f818c7ea3b256e039": {
     "views": []
    },
    "c8fb4fe15a044c8b9b22f36a5e916743": {
     "views": []
    },
    "c90469d459e54f16b6916c724110fe5f": {
     "views": []
    },
    "c921530c04124f6f9b0bfc281d3d942b": {
     "views": []
    },
    "c98126cbef3841d7951e4d3efb7f5ed4": {
     "views": []
    },
    "c9b42553b79f404a915e66f94666aa9b": {
     "views": []
    },
    "c9d0352f75ed414aac0037d11bc7f0f4": {
     "views": []
    },
    "c9f6bdff71494e0a954227bd0d7ad02a": {
     "views": []
    },
    "c9f85dd89db642cf9485d3f7c673cf12": {
     "views": []
    },
    "ca02867359074f1f8d9929328a841503": {
     "views": []
    },
    "ca672c4aa6af4b1f9b8d180e0506beae": {
     "views": []
    },
    "ca9bd26da5ba47028f124f5c82609f13": {
     "views": []
    },
    "cac9e80de99d46638f8c07b34957b71e": {
     "views": []
    },
    "caeb67d7c07a4a6ea4c40909d574255d": {
     "views": []
    },
    "cbc04a4a13e845388a410c1ebd9f732d": {
     "views": []
    },
    "cbd6746947e744a8bf780d64a3a1da32": {
     "views": []
    },
    "cc22e8397915446288bf19a080481f82": {
     "views": []
    },
    "cc4c8461b7f6423d91016fbbed8a21e5": {
     "views": []
    },
    "cc5dc309ce0b47c9982724de590bb073": {
     "views": []
    },
    "cc92b640afc04144b244f04f52d976cd": {
     "views": []
    },
    "cca306b9857845edb0bce0385ec630f5": {
     "views": []
    },
    "ccb21752793d4eb6bfa40a2446ffecbe": {
     "views": []
    },
    "ccdd5353849a4ce482f2086680b8fbd8": {
     "views": []
    },
    "ccef64aafd28406c8c6790f0865f39bb": {
     "views": []
    },
    "cd5fd961aecc45c6ac98c663597e817d": {
     "views": []
    },
    "cd6244c9aa0e473aa08f5c0212bfe414": {
     "views": []
    },
    "cd80ec3f0adb468eb49d3b5d55a11d51": {
     "views": []
    },
    "cd888eddf21b46c99d9b4f8286b4dae4": {
     "views": []
    },
    "cda01675d57143259460ef349dd13c2a": {
     "views": []
    },
    "cda76cd4d9e24fdcb6fe657eff60fa62": {
     "views": []
    },
    "cdaa267353bb4f9c89004bbe84486aa1": {
     "views": []
    },
    "cdca878138b74267babb892596ad59ce": {
     "views": []
    },
    "ce127651fc064507afd0eb3830d8ccfd": {
     "views": []
    },
    "ce20f9e9cae34f958092798568bea3e8": {
     "views": []
    },
    "ce45422ba7964974be831e175b69cf2a": {
     "views": []
    },
    "ce7ae0dc17a04df69056c591a7f3e770": {
     "views": []
    },
    "ce9956774b0b4095b2d72ca638848c6c": {
     "views": []
    },
    "ce9b409f06c2478aa3b103aee9e356ca": {
     "views": []
    },
    "ceed9c1c672b476fab97933ce61d7d76": {
     "views": []
    },
    "cf0f400c16b542d68c0e49c1ce767981": {
     "views": []
    },
    "cf69a58db7834cca9d404e8fb92dc7f7": {
     "views": []
    },
    "d00d4b01d4534ae1aa28f40237f9e7f9": {
     "views": []
    },
    "d0512d0590ad4432890be9d0fce7fcc5": {
     "views": []
    },
    "d05993d425184a6a99bf240b92e0b6a6": {
     "views": []
    },
    "d0684671266940e2bdcf147f4c0501a7": {
     "views": []
    },
    "d06979412861497d927e1992e1f729c5": {
     "views": []
    },
    "d0ef1f3ef9c84e3896712a6d0abd4216": {
     "views": []
    },
    "d12199e2b83f46f9af635cb6ccb14397": {
     "views": []
    },
    "d14a4b26aa4448d082cdd420b1016c43": {
     "views": []
    },
    "d19bc531670547b3be70cbbac6a20da1": {
     "views": []
    },
    "d1c0d4c75c9b42b198fd9875cd452bc1": {
     "views": []
    },
    "d1f3e5242c594be984a2efa89b49bb1c": {
     "views": []
    },
    "d1f9a4b3d3db4bf68f3f7c1bb2b83e1b": {
     "views": []
    },
    "d207859de1324dbeba60509b4314fa1a": {
     "views": []
    },
    "d2078cd2835444e087cc329ae44cfdf2": {
     "views": []
    },
    "d22062ce284a4b429aa0c56a3d0acf56": {
     "views": []
    },
    "d31bb69539374932aecb351b59863892": {
     "views": []
    },
    "d343ec07946a48a19bf28f9bbc615f3f": {
     "views": []
    },
    "d344674399d649c0bff76055ee95cee6": {
     "views": []
    },
    "d38b0dbb6e3f4f8a9cbf5622f38e2f0f": {
     "views": []
    },
    "d3b3e1d6cb7f4a2eaac5e917268025ea": {
     "views": []
    },
    "d3e9140e53084456a453c38f30f8bcc4": {
     "views": []
    },
    "d3edbe672f434454b862fd7352647aed": {
     "views": []
    },
    "d407aad1b20c404696ae55b53f1a5e8a": {
     "views": []
    },
    "d4e6d58bc6e043f4b64e3343475a312a": {
     "views": []
    },
    "d535bb50e2ef47e8962664fa8877547f": {
     "views": []
    },
    "d58edccf67d54b82a46a5448bbc5e8a4": {
     "views": []
    },
    "d5c64aa372f1429cbe81598cee733912": {
     "views": []
    },
    "d5fb138cc4754d63a9ed333ef3e9defc": {
     "views": []
    },
    "d608c74a051c4965b4b999f7cec527f3": {
     "views": []
    },
    "d62401cd9b3c4353bdfb87d8ad2ddb5e": {
     "views": []
    },
    "d6639fb2fc6e431aafe3eb98e6ca8a4a": {
     "views": []
    },
    "d67b16f37fd24ea9ab96804d3bfaa042": {
     "views": []
    },
    "d71b3855143447efa82c52f28a4958e9": {
     "views": []
    },
    "d7964d6bd8cb48fb8aaa9ba169be47a7": {
     "views": []
    },
    "d7aba79a1dee45bd8f1785a20bccc7aa": {
     "views": []
    },
    "d7d85c36e6e343e6882b742ffe75fbcf": {
     "views": []
    },
    "d7ef299f2c0248dfa11f80a19a73cdc4": {
     "views": []
    },
    "d84bbba77ee34514a67cd78624891e4f": {
     "views": []
    },
    "d87a77e746d64a31a8c2028efee8517d": {
     "views": []
    },
    "d8b4bab239c94fb2807a827af8560160": {
     "views": []
    },
    "d8c7633320074919b4a05f0534a9fd52": {
     "views": []
    },
    "d8f1ac0573ad4ae0872c19996abdfa69": {
     "views": []
    },
    "d90957eb9d3f4549b595e826d65fddab": {
     "views": []
    },
    "d9ae806d71b444be9bec26e2a62f8535": {
     "views": []
    },
    "d9bbfc17d0f847b79b0127865f5d71de": {
     "views": []
    },
    "d9c4b67606a64e14acf3e87a2c540ffc": {
     "views": []
    },
    "d9dd7dc9267d444995ba02d52dc25820": {
     "views": []
    },
    "da29b27515774f42852973ac2358ceb7": {
     "views": []
    },
    "da3703098e294219a8fadd82ef0dc543": {
     "views": []
    },
    "da3c87658482482b821993749f59ab59": {
     "views": []
    },
    "db9cb96235494c7c8b260007b0e9b652": {
     "views": []
    },
    "dbc627388d92455a95a48fa453f6cec7": {
     "views": []
    },
    "dbf5fe855460454ba08baaecd47c8b56": {
     "views": []
    },
    "dc8927ccf1884826971c7009a8ea32d1": {
     "views": []
    },
    "dce7852d42be4e0d896f1ceafdf33aa3": {
     "views": []
    },
    "dd01441cada14cc49ce1f6ca3bc276b1": {
     "views": []
    },
    "dd3ba0d3abf94a9aa59b8d9d07546589": {
     "views": []
    },
    "dd7c5fb46072428a8f849fd056a19a3a": {
     "views": []
    },
    "dd820597f83b4ecdbd8b5c818eafddc0": {
     "views": []
    },
    "ddc22821828c43cb8d090931ca5e4b96": {
     "views": []
    },
    "de084b7afb864bc3afaff75bf5f0045c": {
     "views": []
    },
    "de6bbb7126e94aa1b8541d33b73a06a5": {
     "views": []
    },
    "de9a03485f1d416195e058cd55cd41d2": {
     "views": []
    },
    "deb1c2ca0eac4120ae35a77d6cf55d0a": {
     "views": []
    },
    "deb8f026ae6f4710a1c9d4e0207da5b7": {
     "views": []
    },
    "dee1f6c8a1f34fada231422ca09ce024": {
     "views": []
    },
    "dee2e4baa093473293c4eb466173ac88": {
     "views": []
    },
    "deee8587d005407ebc52742b0119b96a": {
     "views": []
    },
    "df0c5bcaa0b54c6cb3d1a554cefcd048": {
     "views": []
    },
    "df124db354844f9889d5ad978c4349f3": {
     "views": []
    },
    "df4bf15a517844048d7900e03537ae9c": {
     "views": []
    },
    "df4fff6ae66447f394ac35a6b5daf598": {
     "views": []
    },
    "df87f07bada94524981afd0391fa28f9": {
     "views": []
    },
    "dffddeaa415a47889f91fa6dbd2e74e9": {
     "views": []
    },
    "e0004ca82f1643efac642f4da46bf691": {
     "views": []
    },
    "e02e6f978e64471c820cbd2a78fa3988": {
     "views": []
    },
    "e037a44648ae4f90871fe5ee51bba225": {
     "views": []
    },
    "e0756c8a8dd04621a902d32855509148": {
     "views": []
    },
    "e0f2340a6d3d45e88932f5111b320ea4": {
     "views": []
    },
    "e118f0eb52f84113a9870574b417fdc4": {
     "views": []
    },
    "e11fab2bf2f644e19093c53b4a53b850": {
     "views": []
    },
    "e120c02328af43db95c6651df95be584": {
     "views": []
    },
    "e1808e4a715d4fc0b5578480467c8166": {
     "views": []
    },
    "e2108e5376574962a0692eb623aae0c5": {
     "views": []
    },
    "e25bf0252795428594fbf029be548cf7": {
     "views": []
    },
    "e31ddbc237f64a76ba78faf6633f1551": {
     "views": []
    },
    "e32c94b51dad4c52a9188d1d3c7ab658": {
     "views": []
    },
    "e33bb4dbe9f64945828f8f227e8ad019": {
     "views": []
    },
    "e38148ff4f904766b88fbaef80f14989": {
     "views": []
    },
    "e3bf1f3b73a647509e8a1db32a238818": {
     "views": []
    },
    "e3ccc2abdce842969c75e0bfcfdbc5f9": {
     "views": []
    },
    "e3d3ee23a8c047a8bdbedac31ef432b9": {
     "views": []
    },
    "e3d42b6d147642dbb4972cd665e07745": {
     "views": []
    },
    "e3f3eef4363444e8829d55ec1f32a984": {
     "views": []
    },
    "e3f708fa13524f8d8122b7090149d5ce": {
     "views": []
    },
    "e48a1771ee764f5f96f05c61048154cd": {
     "views": []
    },
    "e48cb856e95241a099333e035090cced": {
     "views": []
    },
    "e499ff872ada441898f2c4c9123abf1a": {
     "views": []
    },
    "e49dc595a23c46dc9cd9a3ed270d08a0": {
     "views": []
    },
    "e4a8136fc881428aac18f5f0630e7691": {
     "views": []
    },
    "e4cc0f69286a4085ad32858ac593e780": {
     "views": []
    },
    "e4e72f79340544259f13b917ca99493b": {
     "views": []
    },
    "e5276231182a4c048119f822c1b899d3": {
     "views": []
    },
    "e5342c600b1a46a0bb99ef10600d42fe": {
     "views": []
    },
    "e54c15ed442d4256962dfcb56d5c31b4": {
     "views": []
    },
    "e58154aa346447b0a868a188564bba89": {
     "views": []
    },
    "e58fa154da874495b85aa1c11c263dbf": {
     "views": []
    },
    "e5eb31befcc0402a9b256c21917ed206": {
     "views": []
    },
    "e5faefac379441f2920a5c6a95e8c316": {
     "views": []
    },
    "e602dbf94ad84d0da720a8e81c74d577": {
     "views": []
    },
    "e68708441a394545924631a090923d37": {
     "views": []
    },
    "e68b054ac4da4ec7bfe4b45a20c2a85a": {
     "views": []
    },
    "e6a622483c27445682b12b6b4cd6a47d": {
     "views": []
    },
    "e701769bfb084e319b02219e9e858be3": {
     "views": []
    },
    "e707d718a78c4435a6f470a662c1efb2": {
     "views": []
    },
    "e74ece3b30e2439fa552c01d5c4657ef": {
     "views": []
    },
    "e78e19e064c5405ead45a731229c6655": {
     "views": []
    },
    "e7a671b766fe490eb5f54aac23e3076c": {
     "views": []
    },
    "e82781869e6e4dfd99bb0dcf56b55ab4": {
     "views": []
    },
    "e837ccc5c49a4b4b96fb7fa15a311dd6": {
     "views": []
    },
    "e860e18824a04eb1b2a3e67f6e67a3e5": {
     "views": []
    },
    "e86c9b36d4bd43c6b53c6a5598835934": {
     "views": []
    },
    "e8a7cd77e6f74873a4ee2789f956472b": {
     "views": []
    },
    "e8c0d1826f51416bbd5f70c4461e68dd": {
     "views": []
    },
    "e8c91b7319cd4bbba6c637361de07df8": {
     "views": []
    },
    "e95ec311f71545f68371b843d026c38b": {
     "views": []
    },
    "e98064cb6f204ed595f618f76a8e88c8": {
     "views": []
    },
    "e98cf4042377457392afb3b7e4bbf123": {
     "views": []
    },
    "e9a59931cfea4b81a741d461e9bcd398": {
     "views": []
    },
    "ea0c3ca0b5af46488e0aa5894a5a3f17": {
     "views": []
    },
    "ea4f1c7f71c94fdb807b26cc0b0c2373": {
     "views": []
    },
    "ea7edd8626114d4e99653919fe97c2c0": {
     "views": []
    },
    "eade691896be4313ac780a0eb9a8f836": {
     "views": []
    },
    "eaf217f3892642b78088b417ed6d072b": {
     "views": []
    },
    "eb008b0304164e12a71ebcf2951ba28b": {
     "views": []
    },
    "eb13258449a843f1a9c158fb5ee84101": {
     "views": []
    },
    "eb58152b6d58485087ee68debc3f7984": {
     "views": []
    },
    "eb62aed050174110b10f0b820cd27645": {
     "views": []
    },
    "eb97bfc22cf14758b945332bcff60ee9": {
     "views": []
    },
    "eb98138e817a47f49b18e9b135a9c235": {
     "views": []
    },
    "ebba1c7ba3924ccda004e80e5f0f490d": {
     "views": []
    },
    "ec2885ee455649f3bf1e19c7d628daf2": {
     "views": []
    },
    "ec41b1ef95fc4db6ae115eac4eec9fbc": {
     "views": []
    },
    "ed0e584754d14a3094f0e8fed74ef4f9": {
     "views": []
    },
    "ed160ee186f649f1a593706f4a5f4519": {
     "views": []
    },
    "ed310a593e5a47f4a07b9ec688c4e8b4": {
     "views": []
    },
    "ed3d9b63c2cc4704a9d5539bcf5b5525": {
     "views": []
    },
    "ed6de82563634ba18298f0d66e854a0e": {
     "views": []
    },
    "ed7503cdfa4b401aa30cdc608a45b561": {
     "views": []
    },
    "ed8c221ee3ba4be1a3f5733057442903": {
     "views": []
    },
    "edec3c13c01245cbb1c515e657895918": {
     "views": []
    },
    "edf21316f7624e4f8e1769a9053157b9": {
     "views": []
    },
    "ee30e365f4dc4fac97b9d54777bacae1": {
     "views": []
    },
    "ee606bebd97f4cf4b9697f029d9f9ae4": {
     "views": []
    },
    "ee85d08259e544568d091623277376f0": {
     "views": []
    },
    "ee87f3a9da1f4871b56ffad8dca1a2d2": {
     "views": []
    },
    "eeb8650940c4421eb6d2a805e48dd830": {
     "views": []
    },
    "eed8a3f612c94ac48661ee5dfe24fed0": {
     "views": []
    },
    "eeedf0aadf8d4a53addd82113f1a2aaf": {
     "views": []
    },
    "ef92d18cbcb54692a43485b19bf033a4": {
     "views": []
    },
    "efa94594a2134a1f92da971892724b7f": {
     "views": []
    },
    "efc12e907a9f479b9998966686df1f10": {
     "views": []
    },
    "efc666cf7bab405484b7827499be885a": {
     "views": []
    },
    "eff413cc326e4bc581241d72b0dd893e": {
     "views": []
    },
    "eff98c53139d4084baadfb5ad3b0a8a0": {
     "views": []
    },
    "f004c7feca7f4dd9a9bf9747dd743050": {
     "views": []
    },
    "f014bc4ab24642f9aa79a7d679889d5b": {
     "views": []
    },
    "f036699ee93441c0a81e988034753c51": {
     "views": []
    },
    "f04732a7802c477f9f97abd8f2da65cf": {
     "views": []
    },
    "f04bdd68b04742de8cf45385996bdfac": {
     "views": []
    },
    "f0cc39096eb54ecda0b3210c9d72755b": {
     "views": []
    },
    "f0d2e92d254e42c48cc318ed4a51e6ec": {
     "views": []
    },
    "f0e6f27582014973aee8d9bf7ed9eb2a": {
     "views": []
    },
    "f0ed3dfc86524039b84ef4f370b462ff": {
     "views": []
    },
    "f1425cf57ed14ae8a1675e0acf3e670c": {
     "views": []
    },
    "f1560f7b10124f13b76cbe3c6d9f5cee": {
     "views": []
    },
    "f17cf2d74c9143639273ce8f7c1a1d7b": {
     "views": []
    },
    "f1b4020d49474f08ad21b2d2780e64b1": {
     "views": []
    },
    "f1bb8243900e4dd3a368984f9b086980": {
     "views": []
    },
    "f1d3e8367a64471ea06a24c8d2a48f75": {
     "views": []
    },
    "f1d90f314a9f4328837cd00ee34ace4a": {
     "views": []
    },
    "f1e118c1be934f268843caaecae29d65": {
     "views": []
    },
    "f2134cf38d854673a2d55919da61b656": {
     "views": []
    },
    "f223c3c494204103bd6c772bd09f020d": {
     "views": []
    },
    "f22ad7cf82954addbbaef75edcce32de": {
     "views": []
    },
    "f25dbb7d6eac46a984b950ff5613d5f9": {
     "views": []
    },
    "f28410568a8346359d53d786f30cbb59": {
     "views": []
    },
    "f2d7aa7508074b779bb58c8f34f7d878": {
     "views": []
    },
    "f3012a38f5204d3e85f4d51326125eca": {
     "views": []
    },
    "f3b87282e0434f67a2417383ae2d0244": {
     "views": []
    },
    "f3c2aac61e4841a4a62f42792635a878": {
     "views": []
    },
    "f3c741b94e9d430f8d48504aab117d15": {
     "views": []
    },
    "f428e19d04f04818b8410bc40e66b0cb": {
     "views": []
    },
    "f4772a526c794947a24a7131f5cc1f9b": {
     "views": []
    },
    "f4df939de043486d8dac3153729538bb": {
     "views": []
    },
    "f56a70c612304e2eac45f9723548000e": {
     "views": []
    },
    "f58b745223f341d09d19f10c89f29cf5": {
     "views": []
    },
    "f5e9aaa87a0e4a11b129862f94c73aff": {
     "views": []
    },
    "f66a98ce68394d869a7b437a4d626855": {
     "views": []
    },
    "f686a6eeb7ae49e38cd406b73af429de": {
     "views": []
    },
    "f6b801576ae84cc7b3d803450e403624": {
     "views": []
    },
    "f6f46fc1de5648c0b3258c9e090a6f70": {
     "views": []
    },
    "f73cd4124bc740c5bc14b3a86cef5705": {
     "views": []
    },
    "f798a383a23b4e95a1de72c5fb63c0ae": {
     "views": []
    },
    "f7be2f3cddca4b4f93fb2ff66525cbb2": {
     "views": []
    },
    "f7ca522dbb464f8ca5f15aafad25773f": {
     "views": []
    },
    "f7ccbe9689c645f2b313b0d2ad303641": {
     "views": []
    },
    "f7ee4f8944884ac792c5b54496427d8a": {
     "views": []
    },
    "f85049a29463439ca90e49b3bcc6e955": {
     "views": []
    },
    "f86bf7e4f12d43a3b2049f469bb4dae0": {
     "views": []
    },
    "f86f2b830878473389842073ded74973": {
     "views": []
    },
    "f8ba5d6254c8493aa3b8d6832850947a": {
     "views": []
    },
    "f8c515bccf6b4cf6ae9e22b0e267f771": {
     "views": []
    },
    "f9196a150dcb46e48348de62d2f87d72": {
     "views": []
    },
    "f933642e591848098d0fe0cd4f287c3b": {
     "views": []
    },
    "f9510570e8e34e1c94a8987b9cb6cb24": {
     "views": []
    },
    "f9995a087e0b46b59fa4b97bc21a0e92": {
     "views": []
    },
    "f99de523cea84891ab6511690d99ec91": {
     "views": []
    },
    "f9aeada619bc45329479136720bc0090": {
     "views": []
    },
    "fa69433450174834aaf515cc60124b48": {
     "views": []
    },
    "fa8adcc5a0b046c98561bf4324f1d746": {
     "views": []
    },
    "fa935c54ae704cde8c2b422d53ed6a58": {
     "views": []
    },
    "fa957f6225ae40059124468592363bc2": {
     "views": []
    },
    "fa97e4d1e0784349afc272b4aa28718c": {
     "views": []
    },
    "fb6db492415a4c32b0d6c3e868a73cc3": {
     "views": []
    },
    "fb866e8c72584faa80229e70d3da04bb": {
     "views": []
    },
    "fbd4cc15fe1e4fca982f4a848619dc99": {
     "views": []
    },
    "fc5bf78c506b47b39e9ce62bdd779d22": {
     "views": []
    },
    "fc72dba3feec40f58fc74641df34eafa": {
     "views": []
    },
    "fc9cd7e751694c3d982dca7c95d2cbe6": {
     "views": []
    },
    "fca7fd6aee0e45a283fb5d30a7dacd7e": {
     "views": []
    },
    "fcbe5ca915a64e44afd1b839ebe9a0ae": {
     "views": []
    },
    "fcd05e2aff0c4bca8fa297c464cdb66a": {
     "views": []
    },
    "fda1fb2b25934f399271ceb6dea2d073": {
     "views": []
    },
    "fdff8cad9cd046959e0264211987fb9f": {
     "views": []
    },
    "fea026256d53472390bd93ea01873944": {
     "views": []
    },
    "ff2b8efeb7d645389e3a9ceda6fd0d7e": {
     "views": []
    },
    "ff3f9f54b3a74a9ca7d2a1e6d5e9e4cb": {
     "views": []
    },
    "ff689a823621442daeae3436ce08ba57": {
     "views": [
      {
       "cell_index": 35
      }
     ]
    },
    "ff73277872e04b469b0e71cb65320050": {
     "views": []
    },
    "ff797375109d40ad8bffe46442b9afdb": {
     "views": []
    },
    "ff9a58116a4241018f5b9a380a15e126": {
     "views": []
    },
    "ff9f89b9a91449e884b3048ce4e62caf": {
     "views": []
    },
    "ffadc9dca2314a43931e8327cf7c9d0d": {
     "views": []
    }
   },
   "version": "1.1.2"
  }
 },
 "nbformat": 4,
 "nbformat_minor": 0
}
