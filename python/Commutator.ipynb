{
 "cells": [
  {
   "cell_type": "code",
   "execution_count": 1,
   "metadata": {
    "collapsed": false
   },
   "outputs": [
    {
     "name": "stderr",
     "output_type": "stream",
     "text": [
      "/home/game/python/local/lib/python2.7/site-packages/matplotlib/font_manager.py:273: UserWarning: Matplotlib is building the font cache using fc-list. This may take a moment.\n",
      "  warnings.warn('Matplotlib is building the font cache using fc-list. This may take a moment.')\n"
     ]
    },
    {
     "name": "stdout",
     "output_type": "stream",
     "text": [
      "Populating the interactive namespace from numpy and matplotlib\n"
     ]
    }
   ],
   "source": [
    "from __future__ import print_function\n",
    "import sys\n",
    "sys.path.append('../build/')\n",
    "%pylab inline\n",
    "np.set_printoptions(precision=4, suppress=True)\n",
    "import versor as vsr\n",
    "from versor.drawing import *"
   ]
  },
  {
   "cell_type": "code",
   "execution_count": 56,
   "metadata": {
    "collapsed": false
   },
   "outputs": [],
   "source": [
    "p1 = vsr.Vec(1,0,1).null()\n",
    "p2 = vsr.Vec(2,0.2,1).null()\n",
    "\n",
    "l1 = vsr.Dll(vsr.Vec(0,0,0).null(), vsr.Vec(1,0,0).null()).unit()\n",
    "\n",
    "theta = pi/6\n",
    "delta = 0.6\n",
    "\n",
    "\n",
    "m = vsr.Vec(1,1,delta).trs() * vsr.Biv(theta/2,0,0).exp()\n",
    "\n",
    "l1 = l1.spin(m)\n",
    "l2 = l1.spin(m)\n",
    "l3 = l2.comm(l1)\n",
    "\n",
    "l1_dir = l1.dir().vec().unit()\n",
    "l1_loc = l1.loc(vsr.Vec(0,0,0).null()).vec()\n",
    "\n",
    "l4 = vsr.Dll(l3.loc(vsr.Vec(0,0,0).null()), l3.biv().duale().unit())\n",
    "\n",
    "p1 = l1.loc(l4.loc(vsr.Vec(0,0,0).null()))\n",
    "p2 = l2.loc(l4.loc(vsr.Vec(0,0,0).null()))\n",
    "\n",
    "Bn = (l1.biv().duale() ^ l2.biv().duale()).unit()\n",
    "bn = Bn.duale()\n",
    "B1 = l1.biv()\n",
    "B2 = l2.biv()\n",
    "d1 = l1.drv().vec()\n",
    "d2 = l2.drv().vec()\n",
    "\n",
    "scene = Scene(children=[\n",
    "        frame_mesh(),\n",
    "        line_mesh(l1, color=Colors.DEEPSKYBLUE),\n",
    "#         vector_mesh(l1.dir().vec(), arrow=True, color=Colors.DEEPSKYBLUE),\n",
    "        point_mesh(p1,color=Colors.DEEPSKYBLUE),\n",
    "        line_mesh(l2, color=Colors.DEEPPINK),\n",
    "#         vector_mesh(l2.dir().vec(), arrow=True, color=Colors.DEEPPINK),\n",
    "        point_mesh(p2,color=Colors.DEEPPINK),\n",
    "        line_mesh(l3, color='lightgreen', length=100),\n",
    "\n",
    "        \n",
    "#         bivector_mesh(l3.biv(), color='red'),\n",
    "        vector_mesh(B1.comm(bn.comm(B2) * delta), color='red'),\n",
    "        \n",
    "#         line_mesh(l4, color='blue'),\n",
    "        vector_mesh(l3.drv().vec(), color='blue'),\n",
    "\n",
    "        \n",
    "        AmbientLight(color='#777777')])\n",
    "\n",
    "camera = PerspectiveCamera(position=[0, 5, 5], up=[0, 0, 1],\n",
    "                      children=[DirectionalLight(color='white', \n",
    "                                                 position=[3, 5, 1], \n",
    "                                                 intensity=0.5)])\n",
    "\n",
    "renderer = Renderer(camera=camera, \n",
    "                    scene=scene, \n",
    "                    controls=[TrackballControls(controlling=camera)],\n",
    "                    background = 'white')\n",
    "renderer.width = '950'\n",
    "renderer.height = '713'\n",
    "display(renderer)"
   ]
  },
  {
   "cell_type": "code",
   "execution_count": 89,
   "metadata": {
    "collapsed": false
   },
   "outputs": [
    {
     "data": {
      "text/plain": [
       "Vec: [ 0.37 0.63 1.2 ]"
      ]
     },
     "execution_count": 89,
     "metadata": {},
     "output_type": "execute_result"
    }
   ],
   "source": [
    "Bn = (l1.biv().duale() ^ l2.biv().duale()).unit()\n",
    "p1.vec() + Bn.duale() * delta"
   ]
  },
  {
   "cell_type": "code",
   "execution_count": 129,
   "metadata": {
    "collapsed": false
   },
   "outputs": [
    {
     "data": {
      "text/plain": [
       "Dll: [ 0.5 0 0 0.317 -0.183 0.5196 ]"
      ]
     },
     "execution_count": 129,
     "metadata": {},
     "output_type": "execute_result"
    }
   ],
   "source": [
    "l3"
   ]
  },
  {
   "cell_type": "code",
   "execution_count": 94,
   "metadata": {
    "collapsed": false
   },
   "outputs": [
    {
     "data": {
      "text/plain": [
       "Dll: [ 1 0 0 0.634 -0.366 0 ]"
      ]
     },
     "execution_count": 94,
     "metadata": {},
     "output_type": "execute_result"
    }
   ],
   "source": [
    "l4"
   ]
  },
  {
   "cell_type": "code",
   "execution_count": 133,
   "metadata": {
    "collapsed": true
   },
   "outputs": [],
   "source": [
    "B = l3.biv() \n",
    "d = l3.drv().vec()"
   ]
  },
  {
   "cell_type": "code",
   "execution_count": 137,
   "metadata": {
    "collapsed": true
   },
   "outputs": [],
   "source": [
    "Bn = l4.biv()\n",
    "bn = Bn.duale()\n",
    "dn = l4.drv().vec()"
   ]
  },
  {
   "cell_type": "code",
   "execution_count": 138,
   "metadata": {
    "collapsed": false
   },
   "outputs": [
    {
     "data": {
      "text/plain": [
       "Biv: [ 0.5 0 0 ]"
      ]
     },
     "execution_count": 138,
     "metadata": {},
     "output_type": "execute_result"
    }
   ],
   "source": [
    "Bn * st"
   ]
  },
  {
   "cell_type": "code",
   "execution_count": 106,
   "metadata": {
    "collapsed": false
   },
   "outputs": [
    {
     "data": {
      "text/plain": [
       "Rot: [ 0.4 0 0 0 ]"
      ]
     },
     "execution_count": 106,
     "metadata": {},
     "output_type": "execute_result"
    }
   ],
   "source": [
    "l3.drv().vec() * l3.drv().vec()"
   ]
  },
  {
   "cell_type": "code",
   "execution_count": 110,
   "metadata": {
    "collapsed": false
   },
   "outputs": [
    {
     "ename": "SyntaxError",
     "evalue": "invalid syntax (<ipython-input-110-2bdf82a77725>, line 1)",
     "output_type": "error",
     "traceback": [
      "\u001b[1;36m  File \u001b[1;32m\"<ipython-input-110-2bdf82a77725>\"\u001b[1;36m, line \u001b[1;32m1\u001b[0m\n\u001b[1;33m    sin(theta) * sin(theta) * (l3.drv().vec() * l3.drv().vec()) + delta**2 * cos(theta) * cos(theta) * l4.\u001b[0m\n\u001b[1;37m                                                                                                          ^\u001b[0m\n\u001b[1;31mSyntaxError\u001b[0m\u001b[1;31m:\u001b[0m invalid syntax\n"
     ]
    }
   ],
   "source": [
    "sin(theta) * sin(theta) * (l3.drv().vec() * l3.drv().vec()) + delta**2 * cos(theta) * cos(theta) * l4."
   ]
  },
  {
   "cell_type": "code",
   "execution_count": 113,
   "metadata": {
    "collapsed": true
   },
   "outputs": [],
   "source": [
    "ct = cos(theta)\n",
    "st = sin(theta)"
   ]
  },
  {
   "cell_type": "code",
   "execution_count": 147,
   "metadata": {
    "collapsed": false
   },
   "outputs": [
    {
     "data": {
      "text/plain": [
       "True"
      ]
     },
     "execution_count": 147,
     "metadata": {},
     "output_type": "execute_result"
    }
   ],
   "source": [
    "np.allclose(np.inner(l3,l3), st**2 + st**2 * np.inner(dn,dn) + delta**2 * ct**2)"
   ]
  },
  {
   "cell_type": "code",
   "execution_count": 142,
   "metadata": {
    "collapsed": false
   },
   "outputs": [
    {
     "data": {
      "text/plain": [
       "0.53589838486224473"
      ]
     },
     "execution_count": 142,
     "metadata": {},
     "output_type": "execute_result"
    }
   ],
   "source": [
    "np.inner(dn,dn)"
   ]
  },
  {
   "cell_type": "code",
   "execution_count": 144,
   "metadata": {
    "collapsed": false
   },
   "outputs": [
    {
     "data": {
      "text/plain": [
       "0.27000000000000002"
      ]
     },
     "execution_count": 144,
     "metadata": {},
     "output_type": "execute_result"
    }
   ],
   "source": [
    "ct**2 * delta**2"
   ]
  },
  {
   "cell_type": "code",
   "execution_count": 132,
   "metadata": {
    "collapsed": false
   },
   "outputs": [
    {
     "data": {
      "text/plain": [
       "0.6539745962155612"
      ]
     },
     "execution_count": 132,
     "metadata": {},
     "output_type": "execute_result"
    }
   ],
   "source": [
    "np.dot(np.array(l3).T, np.array(l3))"
   ]
  },
  {
   "cell_type": "code",
   "execution_count": 127,
   "metadata": {
    "collapsed": false
   },
   "outputs": [
    {
     "data": {
      "text/plain": [
       "0.25"
      ]
     },
     "execution_count": 127,
     "metadata": {},
     "output_type": "execute_result"
    }
   ],
   "source": [
    "np.inner(B,B)"
   ]
  },
  {
   "cell_type": "code",
   "execution_count": 128,
   "metadata": {
    "collapsed": false
   },
   "outputs": [
    {
     "data": {
      "text/plain": [
       "0.24999999999999994"
      ]
     },
     "execution_count": 128,
     "metadata": {},
     "output_type": "execute_result"
    }
   ],
   "source": [
    "st**2"
   ]
  },
  {
   "cell_type": "code",
   "execution_count": 145,
   "metadata": {
    "collapsed": false
   },
   "outputs": [
    {
     "data": {
      "text/plain": [
       "0.65397459621556109"
      ]
     },
     "execution_count": 145,
     "metadata": {},
     "output_type": "execute_result"
    }
   ],
   "source": [
    "st**2 + st**2 * np.inner(dn,dn) + delta**2 * ct**2"
   ]
  },
  {
   "cell_type": "code",
   "execution_count": 102,
   "metadata": {
    "collapsed": false
   },
   "outputs": [
    {
     "data": {
      "text/plain": [
       "Dll: [ 1 0 0 0 0 0 ]"
      ]
     },
     "execution_count": 102,
     "metadata": {},
     "output_type": "execute_result"
    }
   ],
   "source": [
    "B * "
   ]
  },
  {
   "cell_type": "code",
   "execution_count": 4,
   "metadata": {
    "collapsed": false
   },
   "outputs": [
    {
     "data": {
      "text/plain": [
       "Vec: [ 0.37 0.63 1.2 ]"
      ]
     },
     "execution_count": 4,
     "metadata": {},
     "output_type": "execute_result"
    }
   ],
   "source": [
    "p2.vec()"
   ]
  },
  {
   "cell_type": "code",
   "execution_count": 5,
   "metadata": {
    "collapsed": false
   },
   "outputs": [],
   "source": [
    "B1 = l1.biv()\n",
    "B2 = l2.biv()\n",
    "d1 = l1.drv().vec()\n",
    "d2 = l2.drv().vec()"
   ]
  },
  {
   "cell_type": "code",
   "execution_count": 6,
   "metadata": {
    "collapsed": false
   },
   "outputs": [
    {
     "data": {
      "text/plain": [
       "Vec: [ 0.32 -0.18 0.52 ]"
      ]
     },
     "execution_count": 6,
     "metadata": {},
     "output_type": "execute_result"
    }
   ],
   "source": [
    "B2.comm(-(p1.vec() <= B1)) + (-(p2.vec() <= B2)).comm(B1)"
   ]
  },
  {
   "cell_type": "code",
   "execution_count": 7,
   "metadata": {
    "collapsed": false
   },
   "outputs": [
    {
     "data": {
      "text/plain": [
       "Vec: [ 0.32 -0.18 0.52 ]"
      ]
     },
     "execution_count": 7,
     "metadata": {},
     "output_type": "execute_result"
    }
   ],
   "source": [
    "-(B2.comm(p1.vec().comm(B1)) + (p2.vec().comm(B2)).comm(B1))"
   ]
  },
  {
   "cell_type": "code",
   "execution_count": 8,
   "metadata": {
    "collapsed": false
   },
   "outputs": [
    {
     "data": {
      "text/plain": [
       "Vec: [ 0.32 -0.18 0.52 ]"
      ]
     },
     "execution_count": 8,
     "metadata": {},
     "output_type": "execute_result"
    }
   ],
   "source": [
    "B2.comm(B1.comm(p1.vec())) + B2.comm(p2.vec()).comm(B1)"
   ]
  },
  {
   "cell_type": "code",
   "execution_count": 9,
   "metadata": {
    "collapsed": false
   },
   "outputs": [
    {
     "data": {
      "text/plain": [
       "Vec: [ 2.2e-16 -3.8e-16 -1 ]"
      ]
     },
     "execution_count": 9,
     "metadata": {},
     "output_type": "execute_result"
    }
   ],
   "source": [
    "B1.comm(B2.comm(p2.vec()))"
   ]
  },
  {
   "cell_type": "code",
   "execution_count": 10,
   "metadata": {
    "collapsed": false
   },
   "outputs": [
    {
     "data": {
      "text/plain": [
       "Vec: [ -2.2e-16 3.8e-16 1 ]"
      ]
     },
     "execution_count": 10,
     "metadata": {},
     "output_type": "execute_result"
    }
   ],
   "source": [
    "B2.comm(p2.vec()).comm(B1)"
   ]
  },
  {
   "cell_type": "code",
   "execution_count": 11,
   "metadata": {
    "collapsed": false
   },
   "outputs": [
    {
     "data": {
      "text/plain": [
       "Vec: [ 8.3e-17 -3.9e-17 0 ]"
      ]
     },
     "execution_count": 11,
     "metadata": {},
     "output_type": "execute_result"
    }
   ],
   "source": [
    "B2.comm(B1.comm(p1.vec())) + p1.vec().comm(B2.comm(B1)) + B1.comm(p1.vec().comm(B2))"
   ]
  },
  {
   "cell_type": "code",
   "execution_count": 12,
   "metadata": {
    "collapsed": false
   },
   "outputs": [
    {
     "data": {
      "text/plain": [
       "Vec: [ 0.32 -0.18 0 ]"
      ]
     },
     "execution_count": 12,
     "metadata": {},
     "output_type": "execute_result"
    }
   ],
   "source": [
    "B2.comm(B1.comm(p1.vec())) + B1.comm(p1.vec().comm(B2))"
   ]
  },
  {
   "cell_type": "code",
   "execution_count": 13,
   "metadata": {
    "collapsed": false
   },
   "outputs": [
    {
     "data": {
      "text/plain": [
       "Vec: [ 0.32 -0.18 -0 ]"
      ]
     },
     "execution_count": 13,
     "metadata": {},
     "output_type": "execute_result"
    }
   ],
   "source": [
    "-p1.vec().comm(B2.comm(B1))"
   ]
  },
  {
   "cell_type": "code",
   "execution_count": 14,
   "metadata": {
    "collapsed": false
   },
   "outputs": [
    {
     "data": {
      "text/plain": [
       "Vec: [ 0.32 -0.18 -0 ]"
      ]
     },
     "execution_count": 14,
     "metadata": {},
     "output_type": "execute_result"
    }
   ],
   "source": [
    "-p1.vec().comm(B2.comm(B1))"
   ]
  },
  {
   "cell_type": "code",
   "execution_count": 15,
   "metadata": {
    "collapsed": false
   },
   "outputs": [
    {
     "data": {
      "text/plain": [
       "Vec: [ 0 0 0.52 ]"
      ]
     },
     "execution_count": 15,
     "metadata": {},
     "output_type": "execute_result"
    }
   ],
   "source": [
    "B2.comm(Bn.duale()).comm(B1) * delta"
   ]
  },
  {
   "cell_type": "code",
   "execution_count": 16,
   "metadata": {
    "collapsed": false
   },
   "outputs": [
    {
     "data": {
      "text/plain": [
       "Vec: [ 0 0 0.52 ]"
      ]
     },
     "execution_count": 16,
     "metadata": {},
     "output_type": "execute_result"
    }
   ],
   "source": [
    "Bn.duale() * delta * cos(theta)"
   ]
  },
  {
   "cell_type": "code",
   "execution_count": 17,
   "metadata": {
    "collapsed": false
   },
   "outputs": [
    {
     "data": {
      "text/plain": [
       "Vec: [ 0.32 -0.18 0 ]"
      ]
     },
     "execution_count": 17,
     "metadata": {},
     "output_type": "execute_result"
    }
   ],
   "source": [
    "(p1.vec() <= B1.comm(B2))"
   ]
  },
  {
   "cell_type": "code",
   "execution_count": 18,
   "metadata": {
    "collapsed": false
   },
   "outputs": [
    {
     "data": {
      "text/plain": [
       "Dll: [ 0.5 0 0 0.317 -0.183 0 ]"
      ]
     },
     "execution_count": 18,
     "metadata": {},
     "output_type": "execute_result"
    }
   ],
   "source": [
    "l4 * sin(theta)"
   ]
  },
  {
   "cell_type": "code",
   "execution_count": 19,
   "metadata": {
    "collapsed": true
   },
   "outputs": [],
   "source": [
    "bn = Bn.duale()"
   ]
  },
  {
   "cell_type": "code",
   "execution_count": 20,
   "metadata": {
    "collapsed": false
   },
   "outputs": [
    {
     "data": {
      "text/plain": [
       "Vec: [ 0 0 0.52 ]"
      ]
     },
     "execution_count": 20,
     "metadata": {},
     "output_type": "execute_result"
    }
   ],
   "source": [
    "B2.comm(bn).comm(B1) * delta"
   ]
  },
  {
   "cell_type": "code",
   "execution_count": 21,
   "metadata": {
    "collapsed": false
   },
   "outputs": [
    {
     "data": {
      "text/plain": [
       "Vec: [ 0 0 0.52 ]"
      ]
     },
     "execution_count": 21,
     "metadata": {},
     "output_type": "execute_result"
    }
   ],
   "source": [
    "B1.comm(bn.comm(B2)) * delta"
   ]
  },
  {
   "cell_type": "code",
   "execution_count": 22,
   "metadata": {
    "collapsed": false
   },
   "outputs": [
    {
     "data": {
      "text/plain": [
       "Vec: [ 0 0 0.87 ]"
      ]
     },
     "execution_count": 22,
     "metadata": {},
     "output_type": "execute_result"
    }
   ],
   "source": [
    "B1.comm(bn <= B2)"
   ]
  },
  {
   "cell_type": "code",
   "execution_count": 23,
   "metadata": {
    "collapsed": false
   },
   "outputs": [
    {
     "data": {
      "text/plain": [
       "Vec: [ 0.5 -0.87 0 ]"
      ]
     },
     "execution_count": 23,
     "metadata": {},
     "output_type": "execute_result"
    }
   ],
   "source": [
    "bn <= B1"
   ]
  },
  {
   "cell_type": "code",
   "execution_count": 24,
   "metadata": {
    "collapsed": false
   },
   "outputs": [
    {
     "data": {
      "text/plain": [
       "Vec: [ -0 -0 -0.87 ]"
      ]
     },
     "execution_count": 24,
     "metadata": {},
     "output_type": "execute_result"
    }
   ],
   "source": [
    "bn * (B1 <= B2)"
   ]
  },
  {
   "cell_type": "code",
   "execution_count": 25,
   "metadata": {
    "collapsed": false
   },
   "outputs": [
    {
     "data": {
      "text/plain": [
       "Vec: [ 0 0 0.87 ]"
      ]
     },
     "execution_count": 25,
     "metadata": {},
     "output_type": "execute_result"
    }
   ],
   "source": [
    "-(bn <= B2) <= B1"
   ]
  },
  {
   "cell_type": "code",
   "execution_count": 26,
   "metadata": {
    "collapsed": false
   },
   "outputs": [
    {
     "data": {
      "text/plain": [
       "Vec: [ 0 0 0.87 ]"
      ]
     },
     "execution_count": 26,
     "metadata": {},
     "output_type": "execute_result"
    }
   ],
   "source": [
    "-bn * (B2 <= B1)"
   ]
  },
  {
   "cell_type": "code",
   "execution_count": 27,
   "metadata": {
    "collapsed": false
   },
   "outputs": [
    {
     "data": {
      "text/plain": [
       "Vec: [ 0 0 0 ]"
      ]
     },
     "execution_count": 27,
     "metadata": {},
     "output_type": "execute_result"
    }
   ],
   "source": [
    "bn <= (B1.comm(B2))"
   ]
  },
  {
   "cell_type": "code",
   "execution_count": 28,
   "metadata": {
    "collapsed": false
   },
   "outputs": [
    {
     "data": {
      "text/plain": [
       "Vec: [ 0 0 0.87 ]"
      ]
     },
     "execution_count": 28,
     "metadata": {},
     "output_type": "execute_result"
    }
   ],
   "source": [
    "B1.comm(bn) <= B2"
   ]
  },
  {
   "cell_type": "code",
   "execution_count": 29,
   "metadata": {
    "collapsed": false
   },
   "outputs": [
    {
     "data": {
      "text/plain": [
       "Vec: [ 0 0 0.87 ]"
      ]
     },
     "execution_count": 29,
     "metadata": {},
     "output_type": "execute_result"
    }
   ],
   "source": [
    "-(bn <= B1) <= B2"
   ]
  },
  {
   "cell_type": "code",
   "execution_count": 30,
   "metadata": {
    "collapsed": false
   },
   "outputs": [
    {
     "data": {
      "text/plain": [
       "Biv: [ 0 -0.433 -0.25 ]"
      ]
     },
     "execution_count": 30,
     "metadata": {},
     "output_type": "execute_result"
    }
   ],
   "source": [
    "(B1.duale() ^ (B1.comm(B2.duale())))"
   ]
  },
  {
   "cell_type": "code",
   "execution_count": 31,
   "metadata": {
    "collapsed": false
   },
   "outputs": [
    {
     "data": {
      "text/plain": [
       "Vec: [ 0 0 0 ]"
      ]
     },
     "execution_count": 31,
     "metadata": {},
     "output_type": "execute_result"
    }
   ],
   "source": [
    "B1.comm(B1.duale())"
   ]
  },
  {
   "cell_type": "code",
   "execution_count": 32,
   "metadata": {
    "collapsed": false
   },
   "outputs": [
    {
     "data": {
      "text/plain": [
       "Vec: [ 0.3 -0.52 0.37 ]"
      ]
     },
     "execution_count": 32,
     "metadata": {},
     "output_type": "execute_result"
    }
   ],
   "source": [
    "p1.vec().comm(B1)"
   ]
  },
  {
   "cell_type": "code",
   "execution_count": 33,
   "metadata": {
    "collapsed": false
   },
   "outputs": [
    {
     "data": {
      "text/plain": [
       "Vec: [ 0.3 -0.52 0.37 ]"
      ]
     },
     "execution_count": 33,
     "metadata": {},
     "output_type": "execute_result"
    }
   ],
   "source": [
    "p1.vec() <= B1"
   ]
  },
  {
   "cell_type": "code",
   "execution_count": 57,
   "metadata": {
    "collapsed": false
   },
   "outputs": [],
   "source": [
    "b1 = B1.duale()\n",
    "b2 = B2.duale()"
   ]
  },
  {
   "cell_type": "code",
   "execution_count": 63,
   "metadata": {
    "collapsed": false
   },
   "outputs": [
    {
     "data": {
      "text/plain": [
       "Vec: [ 0 0 0.43 ]"
      ]
     },
     "execution_count": 63,
     "metadata": {},
     "output_type": "execute_result"
    }
   ],
   "source": [
    "B1.comm((b1 ^ b2).duale().comm(B2))"
   ]
  },
  {
   "cell_type": "code",
   "execution_count": 65,
   "metadata": {
    "collapsed": false
   },
   "outputs": [
    {
     "data": {
      "text/plain": [
       "Vec: [ 0.43 -0.25 0 ]"
      ]
     },
     "execution_count": 65,
     "metadata": {},
     "output_type": "execute_result"
    }
   ],
   "source": [
    "(b1 ^ b2).duale().comm(B2)"
   ]
  },
  {
   "cell_type": "code",
   "execution_count": 73,
   "metadata": {
    "collapsed": false
   },
   "outputs": [
    {
     "data": {
      "text/plain": [
       "Vec: [ 0 0 0.5 ]"
      ]
     },
     "execution_count": 73,
     "metadata": {},
     "output_type": "execute_result"
    }
   ],
   "source": [
    "(b1 ^ b2).duale()"
   ]
  },
  {
   "cell_type": "code",
   "execution_count": 86,
   "metadata": {
    "collapsed": false
   },
   "outputs": [
    {
     "data": {
      "text/plain": [
       "Vec: [ 0 0 0.43 ]"
      ]
     },
     "execution_count": 86,
     "metadata": {},
     "output_type": "execute_result"
    }
   ],
   "source": [
    "B1.comm(-(b1 <= b2.unduale()) <= B2) "
   ]
  },
  {
   "cell_type": "code",
   "execution_count": 88,
   "metadata": {
    "collapsed": false
   },
   "outputs": [
    {
     "data": {
      "text/plain": [
       "Vec: [ 0 0 0.43 ]"
      ]
     },
     "execution_count": 88,
     "metadata": {},
     "output_type": "execute_result"
    }
   ],
   "source": [
    "((b1 <= B2) <= B2) <= B1"
   ]
  },
  {
   "cell_type": "code",
   "execution_count": 35,
   "metadata": {
    "collapsed": false
   },
   "outputs": [
    {
     "data": {
      "text/plain": [
       "Vec: [ 0 0 1 ]"
      ]
     },
     "execution_count": 35,
     "metadata": {},
     "output_type": "execute_result"
    }
   ],
   "source": [
    "(b1 ^ b2).unit().duale()"
   ]
  },
  {
   "cell_type": "code",
   "execution_count": 36,
   "metadata": {
    "collapsed": false
   },
   "outputs": [
    {
     "data": {
      "text/plain": [
       "Vec: [ 0 0 1 ]"
      ]
     },
     "execution_count": 36,
     "metadata": {},
     "output_type": "execute_result"
    }
   ],
   "source": [
    "bn"
   ]
  },
  {
   "cell_type": "code",
   "execution_count": 37,
   "metadata": {
    "collapsed": false
   },
   "outputs": [
    {
     "data": {
      "text/plain": [
       "Biv: [ 1 0 0 ]"
      ]
     },
     "execution_count": 37,
     "metadata": {},
     "output_type": "execute_result"
    }
   ],
   "source": [
    "Bn"
   ]
  },
  {
   "cell_type": "code",
   "execution_count": 38,
   "metadata": {
    "collapsed": false
   },
   "outputs": [
    {
     "data": {
      "text/plain": [
       "-0.8660254037844387"
      ]
     },
     "execution_count": 38,
     "metadata": {},
     "output_type": "execute_result"
    }
   ],
   "source": [
    "B1 <= B2"
   ]
  },
  {
   "cell_type": "code",
   "execution_count": 39,
   "metadata": {
    "collapsed": false
   },
   "outputs": [
    {
     "data": {
      "text/plain": [
       "EGA: [ 0 0 0 0 0 0 0 0 ]"
      ]
     },
     "execution_count": 39,
     "metadata": {},
     "output_type": "execute_result"
    }
   ],
   "source": [
    "vsr.EGA(B1) ^ vsr.EGA(B2)"
   ]
  },
  {
   "cell_type": "code",
   "execution_count": 40,
   "metadata": {
    "collapsed": false
   },
   "outputs": [
    {
     "data": {
      "text/plain": [
       "Vec: [ 0.87 -0.5 0 ]"
      ]
     },
     "execution_count": 40,
     "metadata": {},
     "output_type": "execute_result"
    }
   ],
   "source": [
    "(b1 ^ b2).unit().duale() <= B2"
   ]
  },
  {
   "cell_type": "code",
   "execution_count": 41,
   "metadata": {
    "collapsed": false
   },
   "outputs": [
    {
     "data": {
      "text/plain": [
       "Vec: [ 0 0 0.87 ]"
      ]
     },
     "execution_count": 41,
     "metadata": {},
     "output_type": "execute_result"
    }
   ],
   "source": [
    "B1.comm(B2.comm(B1).unit().duale().comm(B2))"
   ]
  },
  {
   "cell_type": "code",
   "execution_count": 42,
   "metadata": {
    "collapsed": false
   },
   "outputs": [
    {
     "ename": "TypeError",
     "evalue": "Incompatible function arguments. The following argument types are supported:\n    1. (Vec, vsr::Multivector<vsr::algebra<vsr::metric<4, 1, true>, double>, vsr::Basis<(short)3, (short)5, (short)6> >) -> Vec\n",
     "output_type": "error",
     "traceback": [
      "\u001b[1;31m---------------------------------------------------------------------------\u001b[0m",
      "\u001b[1;31mTypeError\u001b[0m                                 Traceback (most recent call last)",
      "\u001b[1;32m<ipython-input-42-0c534efa835c>\u001b[0m in \u001b[0;36m<module>\u001b[1;34m()\u001b[0m\n\u001b[1;32m----> 1\u001b[1;33m \u001b[0mB1\u001b[0m\u001b[1;33m.\u001b[0m\u001b[0mcomm\u001b[0m\u001b[1;33m(\u001b[0m\u001b[0mB2\u001b[0m\u001b[1;33m.\u001b[0m\u001b[0mduale\u001b[0m\u001b[1;33m(\u001b[0m\u001b[1;33m)\u001b[0m\u001b[1;33m.\u001b[0m\u001b[0mcomm\u001b[0m\u001b[1;33m(\u001b[0m\u001b[0mB1\u001b[0m\u001b[1;33m.\u001b[0m\u001b[0mduale\u001b[0m\u001b[1;33m(\u001b[0m\u001b[1;33m)\u001b[0m\u001b[1;33m)\u001b[0m\u001b[1;33m.\u001b[0m\u001b[0munit\u001b[0m\u001b[1;33m(\u001b[0m\u001b[1;33m)\u001b[0m\u001b[1;33m.\u001b[0m\u001b[0mcomm\u001b[0m\u001b[1;33m(\u001b[0m\u001b[0mB2\u001b[0m\u001b[1;33m)\u001b[0m\u001b[1;33m)\u001b[0m\u001b[1;33m\u001b[0m\u001b[0m\n\u001b[0m",
      "\u001b[1;31mTypeError\u001b[0m: Incompatible function arguments. The following argument types are supported:\n    1. (Vec, vsr::Multivector<vsr::algebra<vsr::metric<4, 1, true>, double>, vsr::Basis<(short)3, (short)5, (short)6> >) -> Vec\n"
     ]
    }
   ],
   "source": [
    "B1.comm(B2.duale().comm(B1.duale()).unit().comm(B2))"
   ]
  },
  {
   "cell_type": "code",
   "execution_count": 43,
   "metadata": {
    "collapsed": false
   },
   "outputs": [
    {
     "data": {
      "text/plain": [
       "Vec: [ 0 0 0.87 ]"
      ]
     },
     "execution_count": 43,
     "metadata": {},
     "output_type": "execute_result"
    }
   ],
   "source": [
    "B1.comm(bn.comm(B2))"
   ]
  },
  {
   "cell_type": "code",
   "execution_count": 44,
   "metadata": {
    "collapsed": false
   },
   "outputs": [
    {
     "data": {
      "text/plain": [
       "Vec: [ 0.32 -0.18 0.52 ]"
      ]
     },
     "execution_count": 44,
     "metadata": {},
     "output_type": "execute_result"
    }
   ],
   "source": [
    "l2.comm(l1).drv().vec()"
   ]
  },
  {
   "cell_type": "code",
   "execution_count": 45,
   "metadata": {
    "collapsed": false
   },
   "outputs": [
    {
     "data": {
      "text/plain": [
       "Drv: [ -1 0.6 -4.7e-16 ]"
      ]
     },
     "execution_count": 45,
     "metadata": {},
     "output_type": "execute_result"
    }
   ],
   "source": [
    "l2.drv()"
   ]
  },
  {
   "cell_type": "code",
   "execution_count": 46,
   "metadata": {
    "collapsed": false
   },
   "outputs": [],
   "source": [
    "p2 = l2.loc(vsr.Vec(0,0,0).null())"
   ]
  },
  {
   "cell_type": "code",
   "execution_count": 47,
   "metadata": {
    "collapsed": false
   },
   "outputs": [
    {
     "data": {
      "text/plain": [
       "Vec: [ -1 0.6 -4.7e-16 ]"
      ]
     },
     "execution_count": 47,
     "metadata": {},
     "output_type": "execute_result"
    }
   ],
   "source": [
    "-(p2.vec() <= l2.biv())"
   ]
  },
  {
   "cell_type": "code",
   "execution_count": 48,
   "metadata": {
    "collapsed": false
   },
   "outputs": [
    {
     "data": {
      "text/plain": [
       "Mot: [ -0.87 -0.5 0 0 -0.32 0.18 -0.52 -0.3 ]"
      ]
     },
     "execution_count": 48,
     "metadata": {},
     "output_type": "execute_result"
    }
   ],
   "source": [
    "l1 * l2"
   ]
  },
  {
   "cell_type": "code",
   "execution_count": 49,
   "metadata": {
    "collapsed": false
   },
   "outputs": [
    {
     "data": {
      "text/plain": [
       "Rot: [ -0.87 -0.5 0 0 ]"
      ]
     },
     "execution_count": 49,
     "metadata": {},
     "output_type": "execute_result"
    }
   ],
   "source": [
    "l1.biv() * l2.biv()"
   ]
  },
  {
   "cell_type": "code",
   "execution_count": 50,
   "metadata": {
    "collapsed": false
   },
   "outputs": [
    {
     "data": {
      "text/plain": [
       "EGA: [ 0 0 0 0 0.5 0 0 0 ]"
      ]
     },
     "execution_count": 50,
     "metadata": {},
     "output_type": "execute_result"
    }
   ],
   "source": [
    "vsr.EGA(B2).comm(vsr.EGA(B1))"
   ]
  },
  {
   "cell_type": "code",
   "execution_count": 51,
   "metadata": {
    "collapsed": false
   },
   "outputs": [
    {
     "data": {
      "text/plain": [
       "EGA: [ 0 0 0 0.52 0 0 0 0 ]"
      ]
     },
     "execution_count": 51,
     "metadata": {},
     "output_type": "execute_result"
    }
   ],
   "source": [
    "(vsr.EGA((B1.comm(bn))) * vsr.EGA(B2) + vsr.EGA(bn) * (vsr.EGA(B1.comm(B2)))) * delta"
   ]
  },
  {
   "cell_type": "code",
   "execution_count": 52,
   "metadata": {
    "collapsed": false
   },
   "outputs": [
    {
     "data": {
      "text/plain": [
       "EGA: [ 0 0 0 0.52 0 0 0 0 ]"
      ]
     },
     "execution_count": 52,
     "metadata": {},
     "output_type": "execute_result"
    }
   ],
   "source": [
    "(vsr.EGA(bn) * vsr.EGA(B1.comm(B2)) - vsr.EGA(bn <= B1) * (vsr.EGA(B2))) * delta"
   ]
  },
  {
   "cell_type": "code",
   "execution_count": null,
   "metadata": {
    "collapsed": false
   },
   "outputs": [],
   "source": [
    "vsr.EGA(bn) * vsr.EGA(B1.comm(B2))"
   ]
  },
  {
   "cell_type": "code",
   "execution_count": null,
   "metadata": {
    "collapsed": false
   },
   "outputs": [],
   "source": [
    "vsr.EGA(bn <= B1) * (vsr.EGA(B2))"
   ]
  },
  {
   "cell_type": "code",
   "execution_count": null,
   "metadata": {
    "collapsed": false
   },
   "outputs": [],
   "source": [
    "-l1.biv().duale() * l2.biv().duale()"
   ]
  },
  {
   "cell_type": "code",
   "execution_count": null,
   "metadata": {
    "collapsed": false
   },
   "outputs": [],
   "source": [
    "-(l1.biv().duale() <= l2.biv().duale() )"
   ]
  },
  {
   "cell_type": "code",
   "execution_count": null,
   "metadata": {
    "collapsed": false
   },
   "outputs": [],
   "source": [
    "-(l2.biv().duale() <= l1.biv().duale() )"
   ]
  },
  {
   "cell_type": "code",
   "execution_count": null,
   "metadata": {
    "collapsed": false
   },
   "outputs": [],
   "source": [
    "(l1.biv().duale() ^ l2.biv().duale() ) * -1"
   ]
  },
  {
   "cell_type": "code",
   "execution_count": null,
   "metadata": {
    "collapsed": false
   },
   "outputs": [],
   "source": [
    "a1 = l1.biv().duale()"
   ]
  },
  {
   "cell_type": "code",
   "execution_count": null,
   "metadata": {
    "collapsed": false
   },
   "outputs": [],
   "source": [
    "a2 = l2.biv().duale()"
   ]
  },
  {
   "cell_type": "code",
   "execution_count": null,
   "metadata": {
    "collapsed": false
   },
   "outputs": [],
   "source": [
    "(a1 ^ a2)"
   ]
  },
  {
   "cell_type": "code",
   "execution_count": null,
   "metadata": {
    "collapsed": false
   },
   "outputs": [],
   "source": [
    "a1 <= a2"
   ]
  },
  {
   "cell_type": "code",
   "execution_count": null,
   "metadata": {
    "collapsed": false
   },
   "outputs": [],
   "source": [
    "cos(theta)"
   ]
  },
  {
   "cell_type": "code",
   "execution_count": null,
   "metadata": {
    "collapsed": true
   },
   "outputs": [],
   "source": [
    "m1 = l1.drv().vec()\n",
    "m2 = l2.drv().vec()"
   ]
  },
  {
   "cell_type": "code",
   "execution_count": null,
   "metadata": {
    "collapsed": false
   },
   "outputs": [],
   "source": [
    "((a1 ^ m2).duale() - (a2 ^ m1).duale()).drv()"
   ]
  },
  {
   "cell_type": "code",
   "execution_count": null,
   "metadata": {
    "collapsed": false
   },
   "outputs": [],
   "source": [
    "sin(theta)"
   ]
  },
  {
   "cell_type": "code",
   "execution_count": null,
   "metadata": {
    "collapsed": false
   },
   "outputs": [],
   "source": [
    "print(l3.biv())\n",
    "print(l3.drv())"
   ]
  },
  {
   "cell_type": "code",
   "execution_count": null,
   "metadata": {
    "collapsed": false
   },
   "outputs": [],
   "source": [
    "B = l4.biv()\n",
    "n = B.duale()\n",
    "print(B)\n",
    "print(n)"
   ]
  },
  {
   "cell_type": "code",
   "execution_count": null,
   "metadata": {
    "collapsed": false
   },
   "outputs": [],
   "source": [
    "d = l4.drv().vec()\n",
    "d"
   ]
  },
  {
   "cell_type": "code",
   "execution_count": null,
   "metadata": {
    "collapsed": false
   },
   "outputs": [],
   "source": [
    "B1 = vsr.EGA(l1.biv())\n",
    "B2 = vsr.EGA(l2.biv())\n",
    "p1 = vsr.EGA(l1.loc(vsr.Vec(0,0,0).null()).vec())"
   ]
  },
  {
   "cell_type": "code",
   "execution_count": null,
   "metadata": {
    "collapsed": false
   },
   "outputs": [],
   "source": [
    "B1.comm(p1.comm(B2)) + B2.comm(B1.comm(p1)) + p1.comm(B2.comm(B1))"
   ]
  },
  {
   "cell_type": "code",
   "execution_count": null,
   "metadata": {
    "collapsed": false
   },
   "outputs": [],
   "source": [
    "B2.comm(B1.comm(p1))"
   ]
  },
  {
   "cell_type": "code",
   "execution_count": null,
   "metadata": {
    "collapsed": false
   },
   "outputs": [],
   "source": [
    "p1.comm(B1).comm(B2)"
   ]
  },
  {
   "cell_type": "code",
   "execution_count": null,
   "metadata": {
    "collapsed": false
   },
   "outputs": [],
   "source": [
    "B1.comm(p1).comm(B2) * -1."
   ]
  },
  {
   "cell_type": "code",
   "execution_count": null,
   "metadata": {
    "collapsed": false
   },
   "outputs": [],
   "source": [
    "B2.comm(B1.comm(p1))"
   ]
  },
  {
   "cell_type": "code",
   "execution_count": null,
   "metadata": {
    "collapsed": false
   },
   "outputs": [],
   "source": [
    "B1.comm(p1.comm(B2)) + B2.comm(B1.comm(p1))"
   ]
  },
  {
   "cell_type": "code",
   "execution_count": null,
   "metadata": {
    "collapsed": false
   },
   "outputs": [],
   "source": [
    "p1.comm(B1.comm(B2))"
   ]
  },
  {
   "cell_type": "code",
   "execution_count": null,
   "metadata": {
    "collapsed": false
   },
   "outputs": [],
   "source": [
    "B1.comm(B2)"
   ]
  },
  {
   "cell_type": "code",
   "execution_count": null,
   "metadata": {
    "collapsed": false
   },
   "outputs": [],
   "source": [
    "p1 <= B2.comm(B1)"
   ]
  },
  {
   "cell_type": "code",
   "execution_count": null,
   "metadata": {
    "collapsed": false
   },
   "outputs": [],
   "source": [
    "l1.biv().comm(l2.biv())"
   ]
  },
  {
   "cell_type": "code",
   "execution_count": null,
   "metadata": {
    "collapsed": false
   },
   "outputs": [],
   "source": [
    "-l1.biv().duale() ^ l2.biv().duale()"
   ]
  },
  {
   "cell_type": "code",
   "execution_count": null,
   "metadata": {
    "collapsed": false
   },
   "outputs": [],
   "source": [
    "(l1.loc(vsr.Vec(0,0,0).null()).vec() <= l4.biv() ) * sin(theta)"
   ]
  },
  {
   "cell_type": "code",
   "execution_count": null,
   "metadata": {
    "collapsed": false
   },
   "outputs": [],
   "source": [
    "np.array((-l1.loc(vsr.Vec(0,0,0).null()).vec() <= l2.biv().comm(l1.biv() ))) * 2."
   ]
  },
  {
   "cell_type": "code",
   "execution_count": null,
   "metadata": {
    "collapsed": false
   },
   "outputs": [],
   "source": [
    "np.array(l3.drv().vec() )"
   ]
  },
  {
   "cell_type": "code",
   "execution_count": null,
   "metadata": {
    "collapsed": false
   },
   "outputs": [],
   "source": [
    "l1.comm(l2)"
   ]
  },
  {
   "cell_type": "code",
   "execution_count": null,
   "metadata": {
    "collapsed": false
   },
   "outputs": [],
   "source": [
    "l2.comm(l1)"
   ]
  },
  {
   "cell_type": "code",
   "execution_count": null,
   "metadata": {
    "collapsed": false
   },
   "outputs": [],
   "source": [
    "l1.biv().comm(l4.biv().duale().comm(l2.biv())) * delta"
   ]
  },
  {
   "cell_type": "code",
   "execution_count": null,
   "metadata": {
    "collapsed": true
   },
   "outputs": [],
   "source": [
    "st = sin(theta)\n",
    "ct = cos(theta)"
   ]
  },
  {
   "cell_type": "code",
   "execution_count": null,
   "metadata": {
    "collapsed": false
   },
   "outputs": [],
   "source": [
    "l1.biv().comm(l2.biv()) - l2.biv().comm(l1.biv())"
   ]
  },
  {
   "cell_type": "code",
   "execution_count": null,
   "metadata": {
    "collapsed": false
   },
   "outputs": [],
   "source": [
    "0.5 * (B1 * B2 - B2 * B1)"
   ]
  },
  {
   "cell_type": "code",
   "execution_count": null,
   "metadata": {
    "collapsed": false
   },
   "outputs": [],
   "source": [
    "B1.dual() ^ B2.dual() "
   ]
  },
  {
   "cell_type": "code",
   "execution_count": null,
   "metadata": {
    "collapsed": false
   },
   "outputs": [],
   "source": [
    "B2.comm(B1)"
   ]
  },
  {
   "cell_type": "code",
   "execution_count": null,
   "metadata": {
    "collapsed": false
   },
   "outputs": [],
   "source": [
    "(B1.dual() * B2.dual() - B2.dual() * B1.dual()) * 0.5"
   ]
  },
  {
   "cell_type": "code",
   "execution_count": null,
   "metadata": {
    "collapsed": false
   },
   "outputs": [],
   "source": [
    "B2.comm(B1)"
   ]
  },
  {
   "cell_type": "code",
   "execution_count": null,
   "metadata": {
    "collapsed": false
   },
   "outputs": [],
   "source": [
    "p1 = l1.loc(vsr.Vec(0,0,0).null())\n",
    "p1"
   ]
  },
  {
   "cell_type": "code",
   "execution_count": null,
   "metadata": {
    "collapsed": true
   },
   "outputs": [],
   "source": []
  },
  {
   "cell_type": "code",
   "execution_count": null,
   "metadata": {
    "collapsed": true
   },
   "outputs": [],
   "source": []
  },
  {
   "cell_type": "code",
   "execution_count": null,
   "metadata": {
    "collapsed": true
   },
   "outputs": [],
   "source": []
  },
  {
   "cell_type": "code",
   "execution_count": null,
   "metadata": {
    "collapsed": true
   },
   "outputs": [],
   "source": []
  },
  {
   "cell_type": "code",
   "execution_count": null,
   "metadata": {
    "collapsed": true
   },
   "outputs": [],
   "source": []
  },
  {
   "cell_type": "code",
   "execution_count": null,
   "metadata": {
    "collapsed": true
   },
   "outputs": [],
   "source": []
  },
  {
   "cell_type": "code",
   "execution_count": null,
   "metadata": {
    "collapsed": false
   },
   "outputs": [],
   "source": [
    "l1.inv()"
   ]
  },
  {
   "cell_type": "code",
   "execution_count": null,
   "metadata": {
    "collapsed": false
   },
   "outputs": [],
   "source": [
    "l2.comm(l1.inv())"
   ]
  },
  {
   "cell_type": "code",
   "execution_count": null,
   "metadata": {
    "collapsed": false
   },
   "outputs": [],
   "source": [
    "(l1 * l2 - l2 * l1) * 0.5"
   ]
  },
  {
   "cell_type": "code",
   "execution_count": null,
   "metadata": {
    "collapsed": false
   },
   "outputs": [],
   "source": [
    "B1.comm(B2)"
   ]
  },
  {
   "cell_type": "code",
   "execution_count": null,
   "metadata": {
    "collapsed": false
   },
   "outputs": [],
   "source": [
    "B2.comm(B1)"
   ]
  },
  {
   "cell_type": "code",
   "execution_count": null,
   "metadata": {
    "collapsed": true
   },
   "outputs": [],
   "source": []
  },
  {
   "cell_type": "code",
   "execution_count": null,
   "metadata": {
    "collapsed": false
   },
   "outputs": [],
   "source": [
    "l4.dir()"
   ]
  },
  {
   "cell_type": "code",
   "execution_count": null,
   "metadata": {
    "collapsed": false
   },
   "outputs": [],
   "source": [
    "(B * st)"
   ]
  },
  {
   "cell_type": "code",
   "execution_count": null,
   "metadata": {
    "collapsed": false
   },
   "outputs": [],
   "source": [
    "(d * st)"
   ]
  },
  {
   "cell_type": "code",
   "execution_count": null,
   "metadata": {
    "collapsed": false
   },
   "outputs": [],
   "source": [
    "(n * delta * ct)"
   ]
  },
  {
   "cell_type": "code",
   "execution_count": null,
   "metadata": {
    "collapsed": false
   },
   "outputs": [],
   "source": [
    "n"
   ]
  },
  {
   "cell_type": "code",
   "execution_count": null,
   "metadata": {
    "collapsed": false
   },
   "outputs": [],
   "source": [
    "l5 = ( l1 - l2 ) * 0.5\n",
    "l5"
   ]
  },
  {
   "cell_type": "code",
   "execution_count": null,
   "metadata": {
    "collapsed": false
   },
   "outputs": [],
   "source": [
    "l3"
   ]
  },
  {
   "cell_type": "code",
   "execution_count": null,
   "metadata": {
    "collapsed": false
   },
   "outputs": [],
   "source": [
    "B1 = l1.biv()\n",
    "B2 = l2.biv()\n",
    "print(B1)\n",
    "print(B2)"
   ]
  },
  {
   "cell_type": "code",
   "execution_count": null,
   "metadata": {
    "collapsed": false
   },
   "outputs": [],
   "source": [
    "a2"
   ]
  },
  {
   "cell_type": "code",
   "execution_count": null,
   "metadata": {
    "collapsed": false
   },
   "outputs": [],
   "source": [
    "l6 = vsr.Dll(l5.loc(vsr.Vec(0,0,0).null()), l5.dir().vec() ).unit()\n",
    "l6"
   ]
  },
  {
   "cell_type": "code",
   "execution_count": null,
   "metadata": {
    "collapsed": false
   },
   "outputs": [],
   "source": [
    "l5arr = np.array(l5)\n",
    "l5arr"
   ]
  },
  {
   "cell_type": "code",
   "execution_count": null,
   "metadata": {
    "collapsed": true
   },
   "outputs": [],
   "source": []
  },
  {
   "cell_type": "code",
   "execution_count": null,
   "metadata": {
    "collapsed": false
   },
   "outputs": [],
   "source": [
    "st2 = sin(theta/2)\n",
    "ct2 = cos(theta/2)"
   ]
  },
  {
   "cell_type": "code",
   "execution_count": null,
   "metadata": {
    "collapsed": false
   },
   "outputs": [],
   "source": [
    "Bdiff = l6.biv() * st2"
   ]
  },
  {
   "cell_type": "code",
   "execution_count": null,
   "metadata": {
    "collapsed": false
   },
   "outputs": [],
   "source": [
    "coeffs = np.array((np.array(l6.biv() * st2), np.array(l6.drv().vec() * st2 + l6.biv().duale() * (delta / 2) * ct2))).ravel()"
   ]
  },
  {
   "cell_type": "code",
   "execution_count": null,
   "metadata": {
    "collapsed": false
   },
   "outputs": [],
   "source": [
    "np.allclose(coeffs, l5)"
   ]
  },
  {
   "cell_type": "code",
   "execution_count": null,
   "metadata": {
    "collapsed": true
   },
   "outputs": [],
   "source": []
  },
  {
   "cell_type": "code",
   "execution_count": null,
   "metadata": {
    "collapsed": true
   },
   "outputs": [],
   "source": []
  },
  {
   "cell_type": "code",
   "execution_count": null,
   "metadata": {
    "collapsed": true
   },
   "outputs": [],
   "source": []
  },
  {
   "cell_type": "code",
   "execution_count": null,
   "metadata": {
    "collapsed": false
   },
   "outputs": [],
   "source": [
    "(n * delta * ct)"
   ]
  },
  {
   "cell_type": "code",
   "execution_count": null,
   "metadata": {
    "collapsed": false
   },
   "outputs": [],
   "source": [
    "n.drv()"
   ]
  },
  {
   "cell_type": "code",
   "execution_count": null,
   "metadata": {
    "collapsed": false
   },
   "outputs": [],
   "source": [
    "l4 * sin(theta) "
   ]
  },
  {
   "cell_type": "code",
   "execution_count": null,
   "metadata": {
    "collapsed": false
   },
   "outputs": [],
   "source": [
    "d * cos(theta)"
   ]
  },
  {
   "cell_type": "code",
   "execution_count": null,
   "metadata": {
    "collapsed": false
   },
   "outputs": [],
   "source": [
    "print(l4.biv())\n",
    "print(l4.drv())"
   ]
  },
  {
   "cell_type": "code",
   "execution_count": null,
   "metadata": {
    "collapsed": false
   },
   "outputs": [],
   "source": [
    "l4.drv().vec()"
   ]
  },
  {
   "cell_type": "code",
   "execution_count": null,
   "metadata": {
    "collapsed": false
   },
   "outputs": [],
   "source": [
    "v = l4.drv().vec() * cos(theta / 2)\n",
    "v[1]"
   ]
  },
  {
   "cell_type": "code",
   "execution_count": null,
   "metadata": {
    "collapsed": false
   },
   "outputs": [],
   "source": [
    "cos(theta/2)"
   ]
  },
  {
   "cell_type": "code",
   "execution_count": null,
   "metadata": {
    "collapsed": false
   },
   "outputs": [],
   "source": [
    "theta / d / 2"
   ]
  },
  {
   "cell_type": "code",
   "execution_count": null,
   "metadata": {
    "collapsed": false
   },
   "outputs": [],
   "source": [
    "cos(theta)"
   ]
  },
  {
   "cell_type": "code",
   "execution_count": null,
   "metadata": {
    "collapsed": false
   },
   "outputs": [],
   "source": [
    "ct = cos(theta)\n",
    "print(ct)\n",
    "st = sin(theta)\n",
    "print(st);\n",
    "B = vsr.Biv(1,0,0)\n",
    "theta"
   ]
  },
  {
   "cell_type": "code",
   "execution_count": null,
   "metadata": {
    "collapsed": false
   },
   "outputs": [],
   "source": []
  },
  {
   "cell_type": "code",
   "execution_count": null,
   "metadata": {
    "collapsed": false
   },
   "outputs": [],
   "source": [
    "l5[4] * sin(theta/2)"
   ]
  },
  {
   "cell_type": "code",
   "execution_count": null,
   "metadata": {
    "collapsed": false
   },
   "outputs": [],
   "source": [
    "vsr.Dll(B[0], B[1], B[2] )"
   ]
  },
  {
   "cell_type": "code",
   "execution_count": null,
   "metadata": {
    "collapsed": false
   },
   "outputs": [],
   "source": [
    "a1 = l1.biv().duale()\n",
    "a2 = l2.biv().duale()"
   ]
  },
  {
   "cell_type": "code",
   "execution_count": null,
   "metadata": {
    "collapsed": false
   },
   "outputs": [],
   "source": [
    "a1"
   ]
  },
  {
   "cell_type": "code",
   "execution_count": null,
   "metadata": {
    "collapsed": false
   },
   "outputs": [],
   "source": [
    "a2"
   ]
  },
  {
   "cell_type": "code",
   "execution_count": null,
   "metadata": {
    "collapsed": false
   },
   "outputs": [],
   "source": [
    "(a1 ^ a2).duale()"
   ]
  },
  {
   "cell_type": "code",
   "execution_count": null,
   "metadata": {
    "collapsed": false
   },
   "outputs": [],
   "source": [
    "sin(theta)"
   ]
  },
  {
   "cell_type": "code",
   "execution_count": null,
   "metadata": {
    "collapsed": false
   },
   "outputs": [],
   "source": [
    "l4[4] * ct"
   ]
  },
  {
   "cell_type": "code",
   "execution_count": null,
   "metadata": {
    "collapsed": false
   },
   "outputs": [],
   "source": [
    "2 * st"
   ]
  },
  {
   "cell_type": "code",
   "execution_count": null,
   "metadata": {
    "collapsed": false
   },
   "outputs": [],
   "source": [
    "sin(theta)"
   ]
  },
  {
   "cell_type": "code",
   "execution_count": null,
   "metadata": {
    "collapsed": false
   },
   "outputs": [],
   "source": [
    "l3.biv().duale() <= l3.biv().duale()"
   ]
  },
  {
   "cell_type": "code",
   "execution_count": null,
   "metadata": {
    "collapsed": false
   },
   "outputs": [],
   "source": [
    "l3.drv().vec().project_onto(l3.biv().unit())"
   ]
  },
  {
   "cell_type": "code",
   "execution_count": null,
   "metadata": {
    "collapsed": false
   },
   "outputs": [],
   "source": [
    "l3 * l3"
   ]
  },
  {
   "cell_type": "code",
   "execution_count": null,
   "metadata": {
    "collapsed": false
   },
   "outputs": [],
   "source": [
    "m"
   ]
  },
  {
   "cell_type": "code",
   "execution_count": null,
   "metadata": {
    "collapsed": false
   },
   "outputs": [],
   "source": [
    "m"
   ]
  },
  {
   "cell_type": "code",
   "execution_count": null,
   "metadata": {
    "collapsed": false
   },
   "outputs": [],
   "source": [
    "l3.dir().vec()"
   ]
  },
  {
   "cell_type": "code",
   "execution_count": null,
   "metadata": {
    "collapsed": false
   },
   "outputs": [],
   "source": [
    "l2 <= l1"
   ]
  },
  {
   "cell_type": "code",
   "execution_count": null,
   "metadata": {
    "collapsed": true
   },
   "outputs": [],
   "source": [
    "theta = pi/4"
   ]
  },
  {
   "cell_type": "code",
   "execution_count": null,
   "metadata": {
    "collapsed": false
   },
   "outputs": [],
   "source": [
    "sin(theta)"
   ]
  },
  {
   "cell_type": "code",
   "execution_count": null,
   "metadata": {
    "collapsed": false
   },
   "outputs": [],
   "source": [
    "l1.comm(l2)"
   ]
  },
  {
   "cell_type": "code",
   "execution_count": null,
   "metadata": {
    "collapsed": false
   },
   "outputs": [],
   "source": [
    "(l1 * l2 - l2 * l1) * 0.5"
   ]
  }
 ],
 "metadata": {
  "kernelspec": {
   "display_name": "Python 2",
   "language": "python",
   "name": "python2"
  },
  "language_info": {
   "codemirror_mode": {
    "name": "ipython",
    "version": 2
   },
   "file_extension": ".py",
   "mimetype": "text/x-python",
   "name": "python",
   "nbconvert_exporter": "python",
   "pygments_lexer": "ipython2",
   "version": "2.7.11+"
  },
  "widgets": {
   "state": {
    "020249b3dcdc422ba182c963ec47f694": {
     "views": []
    },
    "043127d28e744430bfdcef73dd9f8192": {
     "views": []
    },
    "0776b13418b240ab9a2877d179ca70ba": {
     "views": []
    },
    "07dc14bc96ef45c4bd293b8bf888fbeb": {
     "views": []
    },
    "09e026c1c20441d390e7b3bdb246f69a": {
     "views": []
    },
    "0a5f8cc1bb054889902a23cadf14bdaf": {
     "views": []
    },
    "0bb12c8df36a4148951cbbd99339406a": {
     "views": []
    },
    "0cfd6fc8a07b4eff89df5401e54234ef": {
     "views": []
    },
    "0dc799ad3e1943bbbe276bcbfccdbd8d": {
     "views": []
    },
    "112e349dee214958bf046ccaff2f6845": {
     "views": []
    },
    "118fc467c41c45a7ba26dcec710f9d84": {
     "views": []
    },
    "1493d8cef5cf461f82710800607a4bbd": {
     "views": []
    },
    "151a21a8e72543ae9686704c7693bf97": {
     "views": []
    },
    "15960c21a27647b1af1b5bedce513603": {
     "views": []
    },
    "16b1c992465b40c0937f5aa7bfb56c40": {
     "views": []
    },
    "1748480a3e1a4d42952252b391be5be6": {
     "views": []
    },
    "19be7ca34f5c47bfacc31e6dbb643a96": {
     "views": []
    },
    "1c53651f47fc4b8a99e0b6d56f3b160e": {
     "views": []
    },
    "1f921e8267b945deac652a475b7c4142": {
     "views": []
    },
    "2058a5bf88be424fb477d2c97eb134a2": {
     "views": []
    },
    "20ce5be7892f4d4b822abf73115045c7": {
     "views": []
    },
    "23c49a9f2ab3483f881228599537cbbe": {
     "views": []
    },
    "2406b19f296d4ec992729358fabd9bd6": {
     "views": []
    },
    "275311e5f115438885c6fe9b2aef9735": {
     "views": []
    },
    "2a5cbe6a78aa4f24a7154c623cc41c29": {
     "views": []
    },
    "2a62eef40d964b63ba581dc2ef258e43": {
     "views": []
    },
    "2beb818819aa41e3b14a51619b200ccd": {
     "views": []
    },
    "2c102f1abaa440c79cc88f719c7bc985": {
     "views": []
    },
    "2ccd1ee6082942efb10729f5c1919ecc": {
     "views": []
    },
    "2dd2cde96cb04699a76fd5d3e8574c3e": {
     "views": []
    },
    "2decf3da07f148afbb8fd740d6a168c3": {
     "views": []
    },
    "2ee3bd27c92146a3aeeeb17e94246578": {
     "views": []
    },
    "2fca6c96e42044848c6cdeec05409c36": {
     "views": []
    },
    "33340940ddff42fab0fdf8d19267652a": {
     "views": []
    },
    "34743f8c954140628acd38bb318bcd60": {
     "views": []
    },
    "36eed862b0f4452bbd80841d0a4cea23": {
     "views": []
    },
    "374f4867c6934845b3b4632b28426ea6": {
     "views": []
    },
    "3754cbf931994e968ddc85a9ae886046": {
     "views": []
    },
    "3952d23c3bd746b29f45aad9c39e494f": {
     "views": []
    },
    "3a98239dcc9e44df89c5b905b81ccc34": {
     "views": []
    },
    "3c1e07744a614d7e9818553775e8e7f2": {
     "views": []
    },
    "3e225df8b23f4539a0c4aaa45ed437d9": {
     "views": []
    },
    "3f88574564f2411e978677874c5d86c9": {
     "views": []
    },
    "4091d6a2d85340eda68bf052c241a721": {
     "views": []
    },
    "40e23fb56b6f4ae3b75f3deb1f251452": {
     "views": []
    },
    "41ae0cfd43644dfe954d23ef33384c6f": {
     "views": []
    },
    "42a7de8b5f584a91b468b8cbe09bd9df": {
     "views": []
    },
    "449c7f422e394cdeabf06065060f644e": {
     "views": []
    },
    "450b9194c83445149e86b1f8190ef561": {
     "views": []
    },
    "463b16890b81498f838ae00c6b08904e": {
     "views": []
    },
    "4a7600277f234db4bf71439c906adea6": {
     "views": []
    },
    "4b945fb441ad4545af8790eb67c354e8": {
     "views": []
    },
    "4c9b73b3d99f44d4a4c8e4f2269dcd01": {
     "views": []
    },
    "503223ba7f92402dbc6457208049d14c": {
     "views": []
    },
    "508c665a7c8940f69b07ecb5107ebeb3": {
     "views": []
    },
    "5227492407f346e4b43820f1db1692b4": {
     "views": []
    },
    "52c453e20de248e6b0f12b517cf42266": {
     "views": []
    },
    "552f997d438a4978995fe5e6f460afc6": {
     "views": []
    },
    "55cc3c858b8e4047ac3bf40eceeec851": {
     "views": []
    },
    "57d1078a676645e5bac3fc5de9b24f24": {
     "views": []
    },
    "584b222c696e4d269be4da36ea30fb11": {
     "views": []
    },
    "59070636c91a4021afbfb9096345d353": {
     "views": []
    },
    "5c213e49d887401e826838ca04d6f904": {
     "views": []
    },
    "5cbacf2c54884f158cd3694620429dd8": {
     "views": []
    },
    "5dbb478585654844a25f7e2d3b63bce4": {
     "views": []
    },
    "5deb6fd652ff45008f3caec8d52e6be2": {
     "views": []
    },
    "5f6e972c48784b8e8d3777791f63da9d": {
     "views": []
    },
    "5ffeab4586fb4d60a4d7b4a2cb76ec6a": {
     "views": []
    },
    "60a92631f74b4b6db6d74bb3abdc1396": {
     "views": []
    },
    "61bc966f90384903980cb1d2e9809934": {
     "views": []
    },
    "62438952ca5b41d1bdb8f44a68ed6a6e": {
     "views": []
    },
    "6387be92f97648c187407464127480c4": {
     "views": []
    },
    "64558074171c41b9b7876ad0e7c3c0cd": {
     "views": []
    },
    "647dc043e1c045908755daaaa993cc18": {
     "views": []
    },
    "65901319a0694d569f25ff56860c5706": {
     "views": []
    },
    "6619fd86916143ddb443df37702bb937": {
     "views": []
    },
    "69d95d20cb024f299b112c88056bd123": {
     "views": []
    },
    "6d8cc08b453049f983aa86fb2e105684": {
     "views": []
    },
    "6e2cb0c9671947bb9585f98e5bbeafa8": {
     "views": []
    },
    "6f3e695d423e46d0b0d0d7ba038cf87e": {
     "views": []
    },
    "72445acccb4f446fae50be1c8414a037": {
     "views": []
    },
    "73eb66e8d1ae4775bebf0d4019e1a7d9": {
     "views": []
    },
    "747e4619685b40e4b39462b93293d184": {
     "views": []
    },
    "771c6eee0e9f463eb10222f8928e701f": {
     "views": []
    },
    "782d7f253008446da67580a33adc4c75": {
     "views": []
    },
    "78d8c0f25c0a4c76b3d8b46ec62c32c5": {
     "views": []
    },
    "79ab1a2ed300410fa2d43f1cf898cafe": {
     "views": []
    },
    "7f4ae7847e5c46da9e5f23606189f81f": {
     "views": []
    },
    "801ff2f7c9374a25890ac5641838501c": {
     "views": []
    },
    "805ce35cf92c4a4eb0d22c044b689de5": {
     "views": []
    },
    "814b6666d52b4674b93994196e95f420": {
     "views": []
    },
    "82e74a39cd3d4773a8d4504d4748b659": {
     "views": []
    },
    "835e5c5654e94c5299bb7f2a89f4d2e4": {
     "views": []
    },
    "83d64bb9bde1460f8d9b69572bb0b058": {
     "views": []
    },
    "858d889a85294752854b4005abda6ef7": {
     "views": []
    },
    "85e6653c04464671a4cb0808a81b146b": {
     "views": []
    },
    "86e24419c4154ad8905b51750f88b368": {
     "views": [
      {
       "cell_index": 1
      }
     ]
    },
    "87deeabab3c64e7dbc082351f0953a9d": {
     "views": []
    },
    "881d788a161a4c87a1b4a45b055a85a8": {
     "views": []
    },
    "886fff8ea5e14909bb523023d931fe68": {
     "views": []
    },
    "88b305c5031847e48ade54e287cddffa": {
     "views": []
    },
    "8a4036c9243f47a98e9bdd4bcf732d0d": {
     "views": []
    },
    "8aa5629e36544e47b4ced89f96388cb6": {
     "views": []
    },
    "8ac5d212554142cfa67bee4116f83c76": {
     "views": []
    },
    "8dd0ab68438a4026943ed0a2f46a3d3f": {
     "views": []
    },
    "937cefc330f542c5a3ee3000ea9f63ff": {
     "views": []
    },
    "944061e699214d589eabc571c11d42d8": {
     "views": []
    },
    "97df70ef02ce4093accbe1fd2028142e": {
     "views": []
    },
    "9a610a83d2124234941fedc8e7b8dc34": {
     "views": []
    },
    "9b27dfadabcf42e7abe2861fb5b1dc81": {
     "views": []
    },
    "9bbc20f51e224cf5ac197fdd1dd3e478": {
     "views": []
    },
    "9c7167ceded248028c3e1f83785055d8": {
     "views": []
    },
    "9c92cf6197244e1d922f3e4a9a9adaf3": {
     "views": []
    },
    "9ca50b5208514a639385584a56633cc3": {
     "views": []
    },
    "9d2786adafba46b9bad1ee56a4a2997d": {
     "views": []
    },
    "9fbbb91bcae241dba8b5a6291f567f5c": {
     "views": []
    },
    "a058d4787e0c4dd8bdbec7e2d600dd51": {
     "views": []
    },
    "a140437f580b43d392ab04c349f74695": {
     "views": []
    },
    "a26e7ea2db26428d94e74340d2213032": {
     "views": []
    },
    "a26ee3cdc072499d94e0b4dd3de58d5b": {
     "views": []
    },
    "a6049d6e21544e84a424a8ec5f1c198d": {
     "views": []
    },
    "a6c4e3b62a0542fda830ca4632aac614": {
     "views": []
    },
    "a6e0403fa51b416b890c07f258ac3050": {
     "views": []
    },
    "a6ea305dd09c4541a663914be6be89fa": {
     "views": []
    },
    "a9303f6c639b4d6ca3439824ad125178": {
     "views": []
    },
    "ac1ef3288db44d5295da202ab8eb4a7e": {
     "views": []
    },
    "b11aa20569a14907860374ee6e68dfd8": {
     "views": []
    },
    "b460a939850047b88754ebb184b64929": {
     "views": []
    },
    "b5ece60c371a43e2a8bd694a2dcdd2e3": {
     "views": []
    },
    "b617ef4295ef48cbb0986396e293baa7": {
     "views": []
    },
    "b7690e09317148578f63b8e2d3faf58a": {
     "views": []
    },
    "b7d2e1cfb3e44725bf9ad49796770f24": {
     "views": []
    },
    "b98de7b459ce45579d6bd9f88cd1e3ce": {
     "views": []
    },
    "b9d09b91d9fd4ebea3863b3d7688a952": {
     "views": []
    },
    "bd30fe16a3ed440f8fef6fbd612487d4": {
     "views": []
    },
    "c079302cbe4c49c898fa0200411d911c": {
     "views": []
    },
    "c0ac5b62346f42c989394f27a6e741b7": {
     "views": []
    },
    "c149194397ee401e89802385b9c67c63": {
     "views": []
    },
    "c24cf55f790a472797f8d12c649a716e": {
     "views": []
    },
    "c29f485a570e4db78cc6a7b7ba0f8464": {
     "views": []
    },
    "c3e56a3ad8ae4bf6b644595fd1893a77": {
     "views": []
    },
    "c554bd00db444bc98f4feaa200afdc7e": {
     "views": []
    },
    "c7971ad759c84869b65209d274d94fc6": {
     "views": []
    },
    "c7c6d15473104bb18bcffb401b622be8": {
     "views": []
    },
    "c99d975e96594896b00b5ef9f7a3c1e0": {
     "views": []
    },
    "cbc6e88f0fcd4c43b4c735331763eb25": {
     "views": []
    },
    "cc0c8b25b65948dfb29811e36c9704b5": {
     "views": []
    },
    "cdda551677ae4f91a5b20553c7826ab4": {
     "views": []
    },
    "cedd4957b1274204bbced6d121825e83": {
     "views": []
    },
    "d06195676da34b4986a4acaef9e9ce8d": {
     "views": []
    },
    "d099671abfa14d5f86236320f939fa79": {
     "views": []
    },
    "d1fe24b247ce45c0b8e4a0da307a93f6": {
     "views": []
    },
    "d5919279c3fe476aa01a325e5cf9cdca": {
     "views": []
    },
    "d766960c3389492594a09ed3110d5447": {
     "views": []
    },
    "d840f8279c7449308bc7b3758cfe1c42": {
     "views": []
    },
    "d9c4d9ace6cc4bdebad3f1cf600f8faa": {
     "views": []
    },
    "da298535d6284f04aeec6cc16852cec8": {
     "views": []
    },
    "e02adeb0d8ef4832a7601fd9f412f089": {
     "views": []
    },
    "e31ad106f6df4341961a2445551c6f94": {
     "views": []
    },
    "e6a4dc7fad0e42c4a62ddd34aac7bf54": {
     "views": []
    },
    "e99c13d19960455d84e2b323390cfe02": {
     "views": []
    },
    "eb78af79d4cb432486d6c52606519798": {
     "views": []
    },
    "ecac247590b54ec4b1c7f62d4f7feae9": {
     "views": []
    },
    "ecbbebbe60e645e28551715daa2fcb53": {
     "views": []
    },
    "edc0ff75f7c244898a7bfa7fa5d775b6": {
     "views": []
    },
    "edf56eadc68d4d069f0bb6ab87ce9db0": {
     "views": []
    },
    "ef0f5f2794bc4e36b23ae71ff0b7bf56": {
     "views": []
    },
    "ef84d9a610944570b380dbcdde86d652": {
     "views": []
    },
    "f0281d26ba9842d7b8e665c5ee4c1638": {
     "views": []
    },
    "f1b98bf4a6ee4ab7a49dbaee07a13736": {
     "views": []
    },
    "f2302109739f46acb7661043a484136f": {
     "views": []
    },
    "f27dbaef050040d8b73c7d69b675dc3e": {
     "views": []
    },
    "f334abf155f143039c087337346906ff": {
     "views": []
    },
    "f40aa2c0e98e4ff2a595dd8fd6393a63": {
     "views": []
    },
    "f588764c8ea74b92b06259a0b9416edd": {
     "views": []
    },
    "f7076c1dc73640dc97975ee17606bd71": {
     "views": []
    },
    "f740d834002e4163a95194e9a5de9b8b": {
     "views": []
    },
    "f828f8340b6a47e38efcd7ddb54a603f": {
     "views": []
    },
    "f86d139a0f454ae4989727987ec75487": {
     "views": []
    },
    "f8acd0651e5443359edc44a0c8540e6b": {
     "views": []
    },
    "f9b0ddf48c7a4959ae277a5558bd7dd9": {
     "views": []
    },
    "fab74b847dea4ec185b1451f5e1f478b": {
     "views": []
    },
    "fc669cd4248449ffab9dc03822101f22": {
     "views": []
    },
    "fd7d8fdcb215433bb92307135634d5b5": {
     "views": []
    },
    "ff754b082eba4a729dc0e8ae3f1b068f": {
     "views": []
    }
   },
   "version": "1.1.2"
  }
 },
 "nbformat": 4,
 "nbformat_minor": 1
}
