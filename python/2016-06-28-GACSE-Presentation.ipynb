{
 "cells": [
  {
   "cell_type": "markdown",
   "metadata": {
    "slideshow": {
     "slide_type": "-"
    }
   },
   "source": [
    "# Motor Estimation Using Heterogeneus Sets of Objects in Conformal Geometric Algebra\n",
    "\n",
    "## Lars Tingelstad, IPK, NTNU\n",
    "\n",
    "### GACSE Workshop @ CGI 2016"
   ]
  },
  {
   "cell_type": "code",
   "execution_count": 1,
   "metadata": {
    "collapsed": true
   },
   "outputs": [],
   "source": [
    "from __future__ import print_function"
   ]
  },
  {
   "cell_type": "code",
   "execution_count": 2,
   "metadata": {
    "collapsed": false
   },
   "outputs": [],
   "source": [
    "import sys\n",
    "sys.path.append('../build/')"
   ]
  },
  {
   "cell_type": "code",
   "execution_count": 3,
   "metadata": {
    "collapsed": false
   },
   "outputs": [
    {
     "name": "stdout",
     "output_type": "stream",
     "text": [
      "Populating the interactive namespace from numpy and matplotlib\n"
     ]
    }
   ],
   "source": [
    "%pylab inline\n",
    "np.set_printoptions(precision=4, suppress=True)\n"
   ]
  },
  {
   "cell_type": "code",
   "execution_count": 4,
   "metadata": {
    "collapsed": false
   },
   "outputs": [],
   "source": [
    "import versor as vsr\n",
    "from versor.drawing import *"
   ]
  },
  {
   "cell_type": "code",
   "execution_count": 5,
   "metadata": {
    "collapsed": false
   },
   "outputs": [],
   "source": [
    "from motor_estimation import MotorEstimationSolver\n",
    "from motor_estimation_valkenburg_dorst import (point_matrix, dual_line_matrix, dual_plane_matrix)"
   ]
  },
  {
   "cell_type": "code",
   "execution_count": 6,
   "metadata": {
    "collapsed": false
   },
   "outputs": [],
   "source": [
    "from game import (MotorEstimationSolver, VDMotorEstimationSolver)"
   ]
  },
  {
   "cell_type": "markdown",
   "metadata": {},
   "source": [
    "## Ground truth motor"
   ]
  },
  {
   "cell_type": "code",
   "execution_count": 10,
   "metadata": {
    "collapsed": false,
    "scrolled": true
   },
   "outputs": [
    {
     "name": "stdout",
     "output_type": "stream",
     "text": [
      "Mot: [ 0.87 0 -0.5 0 -0.68 -0.43 -0.18 -0.25 ]\n"
     ]
    }
   ],
   "source": [
    "motor = vsr.Vec(1,1,1).trs() * vsr.Rot(vsr.Biv(0,1,0) * np.pi/6.0)\n",
    "print(motor)"
   ]
  },
  {
   "cell_type": "code",
   "execution_count": 14,
   "metadata": {
    "collapsed": false
   },
   "outputs": [
    {
     "ename": "TypeError",
     "evalue": "Incompatible function arguments. The following argument types are supported:\n    1. (Tnv, Vec) -> None\n",
     "output_type": "error",
     "traceback": [
      "\u001b[1;31m---------------------------------------------------------------------------\u001b[0m",
      "\u001b[1;31mTypeError\u001b[0m                                 Traceback (most recent call last)",
      "\u001b[1;32m<ipython-input-14-61d713e512a7>\u001b[0m in \u001b[0;36m<module>\u001b[1;34m()\u001b[0m\n\u001b[1;32m----> 1\u001b[1;33m \u001b[0mvsr\u001b[0m\u001b[1;33m.\u001b[0m\u001b[0mTnv\u001b[0m\u001b[1;33m(\u001b[0m\u001b[0mvsr\u001b[0m\u001b[1;33m.\u001b[0m\u001b[0mVec\u001b[0m\u001b[1;33m(\u001b[0m\u001b[1;36m1\u001b[0m\u001b[1;33m,\u001b[0m\u001b[1;36m2\u001b[0m\u001b[1;33m,\u001b[0m\u001b[1;36m3\u001b[0m\u001b[1;33m)\u001b[0m\u001b[1;33m)\u001b[0m\u001b[1;33m\u001b[0m\u001b[0m\n\u001b[0m",
      "\u001b[1;31mTypeError\u001b[0m: Incompatible function arguments. The following argument types are supported:\n    1. (Tnv, Vec) -> None\n"
     ]
    }
   ],
   "source": [
    "vsr.Tnv(vsr.Vec(1,2,3))"
   ]
  },
  {
   "cell_type": "code",
   "execution_count": 9,
   "metadata": {
    "collapsed": false
   },
   "outputs": [
    {
     "name": "stdout",
     "output_type": "stream",
     "text": [
      "CGA: [ 0 1 2 3 1 7 0 0 0 0 0 0 0 0 0 0 0 0 0 0 0 0 0 0 0 0 0 0 0 0 0 0 ]\n"
     ]
    }
   ],
   "source": [
    "pnt = vsr.CGA(vsr.Vec(1,2,3).null())\n",
    "print(pnt)"
   ]
  },
  {
   "cell_type": "code",
   "execution_count": 10,
   "metadata": {
    "collapsed": false
   },
   "outputs": [
    {
     "name": "stdout",
     "output_type": "stream",
     "text": [
      "CGA: [ 0.87 0 0 0 0 0 0 -0.5 0 0 0 0 -0.68 -0.43 -0.18 0 0 0 0 0 0 0 0 0 0 0 0 -0.25 0 0 0 0 ]\n"
     ]
    }
   ],
   "source": [
    "mot = vsr.CGA(motor)\n",
    "print(mot)"
   ]
  },
  {
   "cell_type": "code",
   "execution_count": 11,
   "metadata": {
    "collapsed": false
   },
   "outputs": [
    {
     "data": {
      "text/plain": [
       "CGA: [ 0 0.049 2.2 3.3 0.87 8.2 0 0 0 0 0 0 0 0 0 0 -1.2 0 0.5 0 -1.7 2.1 -1.2 -0.68 -0.43 -0.18 0 0 0 0 0 0.25 ]"
      ]
     },
     "execution_count": 11,
     "metadata": {},
     "output_type": "execute_result"
    }
   ],
   "source": [
    "pnt * mot.rev()"
   ]
  },
  {
   "cell_type": "code",
   "execution_count": 12,
   "metadata": {
    "collapsed": false
   },
   "outputs": [
    {
     "ename": "TypeError",
     "evalue": "Incompatible function arguments. The following argument types are supported:\n    1. (Mot, float, float, float, float, float, float, float, float) -> None\n",
     "output_type": "error",
     "traceback": [
      "\u001b[1;31m---------------------------------------------------------------------------\u001b[0m",
      "\u001b[1;31mTypeError\u001b[0m                                 Traceback (most recent call last)",
      "\u001b[1;32m<ipython-input-12-b09a3539290b>\u001b[0m in \u001b[0;36m<module>\u001b[1;34m()\u001b[0m\n\u001b[1;32m----> 1\u001b[1;33m \u001b[0mvsr\u001b[0m\u001b[1;33m.\u001b[0m\u001b[0mCGA\u001b[0m\u001b[1;33m(\u001b[0m\u001b[0mvsr\u001b[0m\u001b[1;33m.\u001b[0m\u001b[0mMot\u001b[0m\u001b[1;33m(\u001b[0m\u001b[0mmot\u001b[0m \u001b[1;33m*\u001b[0m \u001b[0mpnt\u001b[0m\u001b[1;33m)\u001b[0m\u001b[1;33m)\u001b[0m\u001b[1;33m\u001b[0m\u001b[0m\n\u001b[0m",
      "\u001b[1;31mTypeError\u001b[0m: Incompatible function arguments. The following argument types are supported:\n    1. (Mot, float, float, float, float, float, float, float, float) -> None\n"
     ]
    }
   ],
   "source": [
    "vsr.CGA(vsr.Mot(mot * pnt))"
   ]
  },
  {
   "cell_type": "code",
   "execution_count": 13,
   "metadata": {
    "collapsed": false
   },
   "outputs": [
    {
     "data": {
      "text/plain": [
       "CGA: [ 0 2.9 2.1 0.48 0 0 0 0 0 0 0 0 0 0 0 0 -0.91 0 0 0 0 0 0 0 0 0 0 0 0 0 0 0 ]"
      ]
     },
     "execution_count": 13,
     "metadata": {},
     "output_type": "execute_result"
    }
   ],
   "source": [
    "a = vsr.Vec(1,2,3)\n",
    "R  = vsr.Rot(vsr.Biv(1,1,1) * np.pi/6.0)\n",
    "vsr.CGA(a) * vsr.CGA(R)"
   ]
  },
  {
   "cell_type": "code",
   "execution_count": 14,
   "metadata": {
    "collapsed": false
   },
   "outputs": [
    {
     "data": {
      "text/plain": [
       "CGA: [ 0.62 0 0 0 0 0 -0.45 -0.45 -0.45 0 0 0 0 0 0 0 0 0 0 0 0 0 0 0 0 0 0 0 0 0 0 0 ]"
      ]
     },
     "execution_count": 14,
     "metadata": {},
     "output_type": "execute_result"
    }
   ],
   "source": [
    "vsr.CGA(R)"
   ]
  },
  {
   "cell_type": "code",
   "execution_count": 15,
   "metadata": {
    "collapsed": false
   },
   "outputs": [
    {
     "data": {
      "text/plain": [
       "CGA: [ 0 2.9 2.1 0.48 0 0 0 0 0 0 0 0 0 0 0 0 0.91 0 0 0 0 0 0 0 0 0 0 0 0 0 0 0 ]"
      ]
     },
     "execution_count": 15,
     "metadata": {},
     "output_type": "execute_result"
    }
   ],
   "source": [
    "vsr.CGA(R).rev() * vsr.CGA(a) "
   ]
  },
  {
   "cell_type": "code",
   "execution_count": 16,
   "metadata": {
    "collapsed": true
   },
   "outputs": [],
   "source": [
    "import motor_jacobian"
   ]
  },
  {
   "cell_type": "code",
   "execution_count": 17,
   "metadata": {
    "collapsed": false
   },
   "outputs": [
    {
     "name": "stdout",
     "output_type": "stream",
     "text": [
      "[[-0.2679  4.4641  5.1962 -3.    ]\n",
      " [ 4.4641  0.2679  3.      5.1962]\n",
      " [ 5.1962 -3.      0.2679 -4.4641]]\n"
     ]
    }
   ],
   "source": [
    "a = vsr.Vec(1,2,3)\n",
    "R  = vsr.Rot(vsr.Biv(1,0,0) * np.pi/6.0)\n",
    "_, J = motor_jacobian.diff_rotor_cost(R, a, vsr.Vec(1,3,4))\n",
    "print(J)"
   ]
  },
  {
   "cell_type": "code",
   "execution_count": 18,
   "metadata": {
    "collapsed": false
   },
   "outputs": [],
   "source": [
    "ae = vsr.EGA(a)\n",
    "Re = vsr.EGA(R)\n",
    "one = vsr.EGA(1,0,0,0,0,0,0,0)"
   ]
  },
  {
   "cell_type": "code",
   "execution_count": 19,
   "metadata": {
    "collapsed": false
   },
   "outputs": [
    {
     "data": {
      "text/plain": [
       "EGA: [ -0.13 0 0 0 2.2 2.6 1.5 0 ]"
      ]
     },
     "execution_count": 19,
     "metadata": {},
     "output_type": "execute_result"
    }
   ],
   "source": [
    "vsr.EGA(0,1,0,0,0,0,0,0) * ae * Re.rev()"
   ]
  },
  {
   "cell_type": "code",
   "execution_count": 20,
   "metadata": {
    "collapsed": false
   },
   "outputs": [
    {
     "data": {
      "text/plain": [
       "EGA: [ 0 -0.13 2.2 2.6 0 0 0 -1.5 ]"
      ]
     },
     "execution_count": 20,
     "metadata": {},
     "output_type": "execute_result"
    }
   ],
   "source": [
    "Re * ae"
   ]
  },
  {
   "cell_type": "code",
   "execution_count": 21,
   "metadata": {
    "collapsed": false
   },
   "outputs": [
    {
     "data": {
      "text/plain": [
       "EGA: [ 0 4.5 0.27 -3 0 0 0 0 ]"
      ]
     },
     "execution_count": 21,
     "metadata": {},
     "output_type": "execute_result"
    }
   ],
   "source": [
    "vsr.EGA(0,0,0,0,1.,0,0,0) * ae * Re.rev() + Re * ae * vsr.EGA(0,0,0,0,-1.,0,0,0)"
   ]
  },
  {
   "cell_type": "code",
   "execution_count": 22,
   "metadata": {
    "collapsed": false
   },
   "outputs": [
    {
     "name": "stdout",
     "output_type": "stream",
     "text": [
      "[[-0.2679  0.      0.      0.    ]\n",
      " [ 0.      0.      0.      0.    ]\n",
      " [ 0.      0.      0.      0.    ]]\n"
     ]
    }
   ],
   "source": [
    "Jac0 = np.zeros((3,4))\n",
    "Jac0[0,1:] = np.array(vsr.EGA(0,1,0,0,0,0,0,0) * ae * Re.rev() + Re * ae * vsr.EGA(0,1,0,0,0,0,0,0))[4:7]\n",
    "Jac0[0,0] = np.array(vsr.EGA(0,1,0,0,0,0,0,0) * ae * Re.rev() + Re * ae * vsr.EGA(0,1,0,0,0,0,0,0))[0]\n",
    "\n",
    "# Jac0[0,:] = np.array(vsr.EGA(0,0,1,0,0,0,0,0) * ae * Re.rev() + Re * ae * vsr.EGA(0,0,1,0,0,0,0,0))[1:4]\n",
    "# Jac0[0,:] = np.array(vsr.EGA(0,0,0,1,0,0,0,0) * ae * Re.rev() + Re * ae * vsr.EGA(0,0,0,1,0,0,0,0))[1:4]\n",
    "print(Jac0)"
   ]
  },
  {
   "cell_type": "code",
   "execution_count": 23,
   "metadata": {
    "collapsed": false
   },
   "outputs": [
    {
     "data": {
      "text/plain": [
       "array([ 0.    ,  0.    ,  0.    ,  0.    ,  4.4641,  5.1962,  3.    ,  0.    ])"
      ]
     },
     "execution_count": 23,
     "metadata": {},
     "output_type": "execute_result"
    }
   ],
   "source": [
    "np.array(vsr.EGA(0,1,0,0,0,0,0,0) * ae * Re.rev() + Re * ae * vsr.EGA(0,-1,0,0,0,0,0,0))"
   ]
  },
  {
   "cell_type": "code",
   "execution_count": 24,
   "metadata": {
    "collapsed": false
   },
   "outputs": [
    {
     "data": {
      "text/plain": [
       "Mot: [ -3 0 -5.2 -5.2 -12 -3.7 1.1e-16 -1.5 ]"
      ]
     },
     "execution_count": 24,
     "metadata": {},
     "output_type": "execute_result"
    }
   ],
   "source": [
    "dll = vsr.Dll(vsr.Vec(4,5,6).null(), vsr.Vec(1,2,3).null())\n",
    "vsr.Mot(1,0,0,0,0,0,0,0) * dll * motor + motor * dll * vsr.Mot(1,0,0,0,0,0,0,0).rev()\n",
    "vsr.Mot(0,1,0,0,0,0,0,0) * dll * motor + motor * dll * vsr.Mot(0,1,0,0,0,0,0,0).rev()"
   ]
  },
  {
   "cell_type": "code",
   "execution_count": 25,
   "metadata": {
    "collapsed": false
   },
   "outputs": [
    {
     "name": "stdout",
     "output_type": "stream",
     "text": [
      "[[-8.1962 -3.      2.1962  5.1962  0.      0.      0.      0.    ]\n",
      " [ 5.1962 -2.1962 -3.      8.1962  0.      0.      0.      0.    ]\n",
      " [-2.1962 -5.1962 -8.1962 -3.      0.      0.      0.      0.    ]\n",
      " [-0.8038 -8.8923  5.1962  1.7942 -3.      8.1962 -5.1962  2.1962]\n",
      " [-8.8923  0.8038 -1.7942  5.1962 -8.1962 -3.      2.1962  5.1962]\n",
      " [ 5.1962  1.7942  0.8038  8.8923  5.1962 -2.1962 -3.      8.1962]]\n"
     ]
    }
   ],
   "source": [
    "dll1 = vsr.Dll(vsr.Vec(4,5,6).null(), vsr.Vec(1,2,3).null())\n",
    "dll2 = vsr.Dll(vsr.Vec(-4,5,-6).null(), vsr.Vec(2,2,3).null())\n",
    "print(motor_jacobian.diff_cost_lines(motor, dll1, dll2))"
   ]
  },
  {
   "cell_type": "code",
   "execution_count": 26,
   "metadata": {
    "collapsed": false
   },
   "outputs": [
    {
     "name": "stdout",
     "output_type": "stream",
     "text": [
      "[[ -37.7654   -2.4115   -6.5885  -58.1769    0.        0.        0.        0.    ]\n",
      " [ -29.4115   28.7654   86.9423   58.1769    0.        0.        0.        0.    ]\n",
      " [  71.3538  -10.7654  -33.5885   58.1769    0.        0.        0.        0.    ]\n",
      " [ -29.0885   26.9134   67.7365 -220.973    58.1769   33.5885  -10.7654\n",
      "   -71.3538]\n",
      " [ 222.4153   83.7346  130.1769 -123.5019  -58.1769   86.9423  -28.7654\n",
      "   -29.4115]\n",
      " [-196.0615   37.4423   85.8231 -184.7365  -58.1769    6.5885   -2.4115\n",
      "    37.7654]]\n"
     ]
    }
   ],
   "source": [
    "Jadcomm = motor_jacobian.diff_cost_lines_comm(motor, dll1, dll2)\n",
    "print(Jadcomm)"
   ]
  },
  {
   "cell_type": "code",
   "execution_count": 27,
   "metadata": {
    "collapsed": false
   },
   "outputs": [
    {
     "name": "stdout",
     "output_type": "stream",
     "text": [
      "[[-8.1962 -3.      2.1962  5.1962  0.      0.      0.      0.    ]\n",
      " [ 5.1962 -2.1962 -3.      8.1962  0.      0.      0.      0.    ]\n",
      " [-2.1962 -5.1962 -8.1962 -3.      0.      0.      0.      0.    ]\n",
      " [-0.8038 -8.8923  5.1962  1.7942 -3.      8.1962 -5.1962  2.1962]\n",
      " [-8.8923  0.8038 -1.7942  5.1962 -8.1962 -3.      2.1962  5.1962]\n",
      " [ 5.1962  1.7942  0.8038  8.8923  5.1962 -2.1962 -3.      8.1962]]\n"
     ]
    }
   ],
   "source": [
    "JacLines = np.zeros((6,8))\n",
    "for i in range(8):\n",
    "    ei = vsr.Mot(0,0,0,0,0,0,0,0)\n",
    "    ei[i] = 1.\n",
    "    JacLines[:,i] = np.array(motor * dll * ei.rev() + ei * dll * motor.rev())[1:7]\n",
    "print(JacLines)"
   ]
  },
  {
   "cell_type": "code",
   "execution_count": 28,
   "metadata": {
    "collapsed": false
   },
   "outputs": [
    {
     "data": {
      "text/plain": [
       "Mot: [ -27 0 0 0 0 0 0 0 ]"
      ]
     },
     "execution_count": 28,
     "metadata": {},
     "output_type": "execute_result"
    }
   ],
   "source": [
    "dll * dll"
   ]
  },
  {
   "cell_type": "code",
   "execution_count": 29,
   "metadata": {
    "collapsed": false
   },
   "outputs": [
    {
     "name": "stdout",
     "output_type": "stream",
     "text": [
      "[[-0.2679  4.4641  5.1962 -3.    ]\n",
      " [ 4.4641  0.2679  3.      5.1962]\n",
      " [ 5.1962 -3.      0.2679 -4.4641]]\n"
     ]
    }
   ],
   "source": [
    "Jac = np.zeros((3,4))\n",
    "Jac[:,0] = np.array(vsr.EGA(1,0,0,0,0,0,0,0) * ae * Re.rev() + Re * ae * vsr.EGA(1,0,0,0,0,0,0,0))[1:4]\n",
    "Jac[:,1] = np.array(vsr.EGA(0,0,0,0,1,0,0,0) * ae * Re.rev() + Re * ae * vsr.EGA(0,0,0,0,-1.,0,0,0))[1:4]\n",
    "Jac[:,2] = np.array(vsr.EGA(0,0,0,0,0,1,0,0) * ae * Re.rev() + Re * ae * vsr.EGA(0,0,0,0,0,-1,0,0))[1:4]\n",
    "Jac[:,3] = np.array(vsr.EGA(0,0,0,0,0,0,1.,0) * ae * Re.rev() + Re * ae * vsr.EGA(0,0,0,0,0,0,-1,0))[1:4]\n",
    "print(Jac)"
   ]
  },
  {
   "cell_type": "code",
   "execution_count": 30,
   "metadata": {
    "collapsed": false
   },
   "outputs": [
    {
     "name": "stdout",
     "output_type": "stream",
     "text": [
      "[[-0.2679  4.4641  5.1962 -3.    ]\n",
      " [ 4.4641  0.2679  3.      5.1962]\n",
      " [ 5.1962 -3.      0.2679 -4.4641]]\n"
     ]
    }
   ],
   "source": [
    "print(Jac)"
   ]
  },
  {
   "cell_type": "code",
   "execution_count": 31,
   "metadata": {
    "collapsed": false
   },
   "outputs": [
    {
     "name": "stdout",
     "output_type": "stream",
     "text": [
      "[[  3.0981e+000  -2.0000e+000   1.0000e+000   0.0000e+000  -1.7321e+000\n",
      "   -2.0000e+000  -3.0981e+000   0.0000e+000]\n",
      " [  1.0000e+000   0.0000e+000   1.0000e+000   0.0000e+000  -3.0981e+000\n",
      "    2.0000e+000  -1.0000e+000   1.7321e+000]\n",
      " [  0.0000e+000  -1.0000e+000   0.0000e+000   0.0000e+000   2.2321e+000\n",
      "    2.0000e+000  -5.0000e-001   0.0000e+000]\n",
      " [ -4.4641e+000   3.5907e-052   5.9728e+015   4.2649e-096   9.0837e+223\n",
      "    7.2941e-043   2.5833e-057   8.2605e-067]\n",
      " [  7.2941e-043   2.5833e-057   8.2605e-067   5.1229e+015   1.4153e+161\n",
      "    9.1665e-072   4.5258e+097   4.9170e-062]]\n"
     ]
    }
   ],
   "source": [
    "print(motor_jacobian.diff_point(motor, vsr.Vec(1,0,0).null()))"
   ]
  },
  {
   "cell_type": "code",
   "execution_count": 32,
   "metadata": {
    "collapsed": false
   },
   "outputs": [
    {
     "data": {
      "text/plain": [
       "array([[ 3.0981,  0.866 ,  1.366 ,  0.5   , -1.7321,  0.    ,  1.    ,  0.    ],\n",
       "       [ 0.866 , -3.0981, -0.5   ,  1.366 ,  0.    , -1.7321,  0.    , -1.    ],\n",
       "       [ 1.366 ,  0.5   , -3.0981, -0.866 , -1.    ,  0.    , -1.7321,  0.    ]])"
      ]
     },
     "execution_count": 32,
     "metadata": {},
     "output_type": "execute_result"
    }
   ],
   "source": [
    "motor_jacobian.diff_cost(motor, vsr.Vec(1,0,0).null(), vsr.Vec(0,0,0).null())"
   ]
  },
  {
   "cell_type": "code",
   "execution_count": 33,
   "metadata": {
    "collapsed": false
   },
   "outputs": [],
   "source": [
    "me = vsr.CGA(motor)\n",
    "pe = vsr.CGA(vsr.Vec(1,0,0).null())"
   ]
  },
  {
   "cell_type": "code",
   "execution_count": 34,
   "metadata": {
    "collapsed": false
   },
   "outputs": [
    {
     "name": "stdout",
     "output_type": "stream",
     "text": [
      "[[ 3.0981  0.866   1.366   0.5    -1.7321  0.      1.      0.    ]\n",
      " [ 0.866  -3.0981 -0.5     1.366   0.     -1.7321  0.     -1.    ]\n",
      " [ 1.366   0.5    -3.0981 -0.866  -1.      0.     -1.7321  0.    ]\n",
      " [ 1.7321  0.     -1.      0.      0.      0.      0.      0.    ]\n",
      " [ 2.2321 -0.866  -0.866   0.5    -4.4641 -1.7321 -1.7321 -1.    ]]\n"
     ]
    }
   ],
   "source": [
    "Jac2 = np.zeros((5,8))\n",
    "Jac2[:,0] = np.array(vsr.CGA(vsr.Mot(1,0,0,0,0,0,0,0)) * pe * me.rev() +  me * pe * vsr.CGA(vsr.Mot(1,0,0,0,0,0,0,0)))[1:6]\n",
    "Jac2[:,1] = np.array(vsr.CGA(vsr.Mot(0,1,0,0,0,0,0,0)) * pe * me.rev() +  me * pe * vsr.CGA(vsr.Mot(0,-1,0,0,0,0,0,0)))[1:6]\n",
    "Jac2[:,2] = np.array(vsr.CGA(vsr.Mot(0,0,1,0,0,0,0,0)) * pe * me.rev() +  me * pe * vsr.CGA(vsr.Mot(0,0,-1,0,0,0,0,0)))[1:6]\n",
    "Jac2[:,3] = np.array(vsr.CGA(vsr.Mot(0,0,0,1,0,0,0,0)) * pe * me.rev() +  me * pe * vsr.CGA(vsr.Mot(0,0,0,-1,0,0,0,0)))[1:6]\n",
    "Jac2[:,4] = np.array(vsr.CGA(vsr.Mot(0,0,0,0,1,0,0,0)) * pe * me.rev() +  me * pe * vsr.CGA(vsr.Mot(0,0,0,0,-1,0,0,0)))[1:6]\n",
    "Jac2[:,5] = np.array(vsr.CGA(vsr.Mot(0,0,0,0,0,1,0,0)) * pe * me.rev() +  me * pe * vsr.CGA(vsr.Mot(0,0,0,0,0,-1,0,0)))[1:6]\n",
    "Jac2[:,6] = np.array(vsr.CGA(vsr.Mot(0,0,0,0,0,0,1,0)) * pe * me.rev() +  me * pe * vsr.CGA(vsr.Mot(0,0,0,0,0,0,-1,0)))[1:6]\n",
    "Jac2[:,7] = np.array(vsr.CGA(vsr.Mot(0,0,0,0,0,0,0,1)) * pe * me.rev() +  me * pe * vsr.CGA(vsr.Mot(0,0,0,0,0,0,0,1)))[1:6]\n",
    "print(Jac2)"
   ]
  },
  {
   "cell_type": "code",
   "execution_count": 35,
   "metadata": {
    "collapsed": false
   },
   "outputs": [
    {
     "data": {
      "text/plain": [
       "Mot: [ -0 0.87 0 0 0 0 0 -0 ]"
      ]
     },
     "execution_count": 35,
     "metadata": {},
     "output_type": "execute_result"
    }
   ],
   "source": [
    "vsr.Mot(0,1,0,0,0,0,0,0).rev() * (vsr.Mot(0,1,0,0,0,0,0,0) * vsr.Mot(*Jac2[0,:]))[0]"
   ]
  },
  {
   "cell_type": "code",
   "execution_count": 36,
   "metadata": {
    "collapsed": false
   },
   "outputs": [
    {
     "data": {
      "text/plain": [
       "Mot: [ 0 -0 -0 -0 -0 -0 -0 1 ]"
      ]
     },
     "execution_count": 36,
     "metadata": {},
     "output_type": "execute_result"
    }
   ],
   "source": [
    "vsr.Mot(0,0,0,0,0,0,0,1).rev()"
   ]
  },
  {
   "cell_type": "code",
   "execution_count": 37,
   "metadata": {
    "collapsed": false
   },
   "outputs": [
    {
     "data": {
      "text/plain": [
       "CGA: [ 0 1.5 0.43 0.68 0.87 1.1 0 0 0 0 0 0 0 0 0 0 -0.25 0 0.5 0 0.43 0.43 -0.25 -0.68 -0.43 -0.18 0 0 0 0 0 0.25 ]"
      ]
     },
     "execution_count": 37,
     "metadata": {},
     "output_type": "execute_result"
    }
   ],
   "source": [
    "pe * me.rev()"
   ]
  },
  {
   "cell_type": "code",
   "execution_count": 121,
   "metadata": {
    "collapsed": false
   },
   "outputs": [],
   "source": [
    "a = vsr.Vec(1,2,3)\n",
    "R = vsr.Rot(vsr.Biv(1,1,1).unit() * np.pi/6.0)\n",
    "B = vsr.Biv(1,2,3).unit()\n",
    "ae = vsr.EGA(a)\n",
    "Re = vsr.EGA(R)\n",
    "Be = vsr.EGA(B)"
   ]
  },
  {
   "cell_type": "code",
   "execution_count": 110,
   "metadata": {
    "collapsed": false
   },
   "outputs": [
    {
     "name": "stdout",
     "output_type": "stream",
     "text": [
      "EGA: [ 2.3 0 0 0 -1.2 -1.2 -6.9 0 ]\n"
     ]
    },
    {
     "data": {
      "text/plain": [
       "Rot: [ 2.3 -1.2 -1.2 -6.9 ]"
      ]
     },
     "execution_count": 110,
     "metadata": {},
     "output_type": "execute_result"
    }
   ],
   "source": [
    "B = (ae * Re.rev() * vsr.EGA(0,0,1,0,0,0,0,0)) + (ae.rev() * Re.rev() * vsr.EGA(0,0,1,0,0,0,0,0).rev())\n",
    "print(B)\n",
    "vsr.Rot(B[0], \n",
    "        (e12.rev() * (e12 * B)[0])[4], \n",
    "        (e13.rev() * (e13 * B)[0])[5],\n",
    "        (e23.rev() * (e23 * B)[0])[6])"
   ]
  },
  {
   "cell_type": "code",
   "execution_count": 111,
   "metadata": {
    "collapsed": false
   },
   "outputs": [],
   "source": [
    "xe = vsr.EGA(0,1,1,1,0,0,0,0)\n",
    "ae = vsr.EGA(0,1,2,3,0,0,0,0)"
   ]
  },
  {
   "cell_type": "code",
   "execution_count": 112,
   "metadata": {
    "collapsed": false
   },
   "outputs": [
    {
     "data": {
      "text/plain": [
       "EGA: [ 0 12 12 12 0 0 0 0 ]"
      ]
     },
     "execution_count": 112,
     "metadata": {},
     "output_type": "execute_result"
    }
   ],
   "source": [
    "(ae * xe * xe) + xe * ae * xe"
   ]
  },
  {
   "cell_type": "code",
   "execution_count": 113,
   "metadata": {
    "collapsed": false
   },
   "outputs": [
    {
     "name": "stdout",
     "output_type": "stream",
     "text": [
      "[[-1.1547  2.3094  6.9282 -1.1547]\n",
      " [ 2.3094  1.1547  1.1547  6.9282]\n",
      " [ 6.9282 -1.1547  1.1547 -2.3094]]\n"
     ]
    }
   ],
   "source": [
    "_, J = motor_jacobian.diff_rotor_cost(R, a, vsr.Vec(1,11,4))\n",
    "print(J)"
   ]
  },
  {
   "cell_type": "code",
   "execution_count": 114,
   "metadata": {
    "collapsed": true
   },
   "outputs": [],
   "source": [
    "f0 = ae * Re.rev() + Re * ae"
   ]
  },
  {
   "cell_type": "code",
   "execution_count": 123,
   "metadata": {
    "collapsed": false
   },
   "outputs": [
    {
     "data": {
      "text/plain": [
       "EGA: [ 0 -3.5 6.9 21 0 0 0 3.5 ]"
      ]
     },
     "execution_count": 123,
     "metadata": {},
     "output_type": "execute_result"
    }
   ],
   "source": [
    "(ae * Re.rev() + Re * ae) +\\\n",
    "e12.rev() * ( e12 * ae * Re.rev() + Re * ae * e12.rev()) +\\\n",
    "e13.rev() * ( e13 * ae * Re.rev() + Re * ae * e13.rev()) +\\\n",
    "e23.rev() * ( e23 * ae * Re.rev() + Re * ae * e23.rev()) "
   ]
  },
  {
   "cell_type": "code",
   "execution_count": null,
   "metadata": {
    "collapsed": true
   },
   "outputs": [],
   "source": [
    "e12.rev() *( e12 * ae * Re.rev() ) + e12.rev() * Re * ae * e12.rev()"
   ]
  },
  {
   "cell_type": "code",
   "execution_count": 122,
   "metadata": {
    "collapsed": false
   },
   "outputs": [
    {
     "data": {
      "text/plain": [
       "EGA: [ 0 -0.91 2.1 7 0 0 0 1.2 ]"
      ]
     },
     "execution_count": 122,
     "metadata": {},
     "output_type": "execute_result"
    }
   ],
   "source": [
    "Be.rev() * (Be * ae * Re.rev() + Re * ae * Be.rev())"
   ]
  },
  {
   "cell_type": "code",
   "execution_count": 85,
   "metadata": {
    "collapsed": false
   },
   "outputs": [],
   "source": [
    "f2 = e13.rev() *( e13 * ae * Re.rev() ) + e13.rev() * Re * ae * e13.rev()"
   ]
  },
  {
   "cell_type": "code",
   "execution_count": 86,
   "metadata": {
    "collapsed": false
   },
   "outputs": [],
   "source": [
    "f3 = e23.rev() *( e23 * ae * Re.rev() ) + e23.rev() * Re * ae * e23.rev()"
   ]
  },
  {
   "cell_type": "code",
   "execution_count": 87,
   "metadata": {
    "collapsed": false
   },
   "outputs": [
    {
     "data": {
      "text/plain": [
       "EGA: [ 0 5.2 1.4 22 0 0 0 3 ]"
      ]
     },
     "execution_count": 87,
     "metadata": {},
     "output_type": "execute_result"
    }
   ],
   "source": [
    "f0 + f1 + f2 + f3"
   ]
  },
  {
   "cell_type": "code",
   "execution_count": 127,
   "metadata": {
    "collapsed": false
   },
   "outputs": [
    {
     "data": {
      "text/plain": [
       "EGA: [ 0 2.3 1.2 -1.2 0 0 0 -4.4e-16 ]"
      ]
     },
     "execution_count": 127,
     "metadata": {},
     "output_type": "execute_result"
    }
   ],
   "source": [
    "( e12 * ae * Re.rev() + Re * ae * e12.rev())"
   ]
  },
  {
   "cell_type": "code",
   "execution_count": 124,
   "metadata": {
    "collapsed": false
   },
   "outputs": [
    {
     "name": "stdout",
     "output_type": "stream",
     "text": [
      "[[-1.1547  2.3094  6.9282 -1.1547]\n",
      " [ 2.3094  1.1547  1.1547  6.9282]\n",
      " [ 6.9282 -1.1547  1.1547 -2.3094]]\n"
     ]
    }
   ],
   "source": [
    "Jac = np.zeros((3,4))\n",
    "Jac[:,0] = np.array(vsr.EGA(1,0,0,0,0,0,0,0) * ae * Re.rev() + Re * ae * vsr.EGA(1,0,0,0,0,0,0,0))[1:4]\n",
    "Jac[:,1] = np.array(vsr.EGA(0,0,0,0,1,0,0,0) * ae * Re.rev() + Re * ae * vsr.EGA(0,0,0,0,-1.,0,0,0))[1:4]\n",
    "Jac[:,2] = np.array(vsr.EGA(0,0,0,0,0,1,0,0) * ae * Re.rev() + Re * ae * vsr.EGA(0,0,0,0,0,-1,0,0))[1:4]\n",
    "Jac[:,3] = np.array(vsr.EGA(0,0,0,0,0,0,1.,0) * ae * Re.rev() + Re * ae * vsr.EGA(0,0,0,0,0,0,-1,0))[1:4]\n",
    "print(Jac)"
   ]
  },
  {
   "cell_type": "code",
   "execution_count": 60,
   "metadata": {
    "collapsed": false
   },
   "outputs": [
    {
     "data": {
      "text/plain": [
       "EGA: [ 7.2 0 0 0 0 0 0 0 ]"
      ]
     },
     "execution_count": 60,
     "metadata": {},
     "output_type": "execute_result"
    }
   ],
   "source": [
    "ei = vsr.EGA(0,0,0,0,0,0,1,0) \n",
    "((Re * ae * ei.rev() + ei * ae * Re.rev()) <= vsr.EGA(0,0,1,0,0,0,0,0) ) "
   ]
  },
  {
   "cell_type": "code",
   "execution_count": 61,
   "metadata": {
    "collapsed": false
   },
   "outputs": [
    {
     "data": {
      "text/plain": [
       "CGA: [ 0 0.43 -1.5 0.25 0 -0.43 0 0 0 0 0 0 0 0 0 0 0.68 0.87 0 -0.5 1.1 -0.25 -0.43 -0.43 0.68 -0.25 0 0 0 0 0 -0.18 ]"
      ]
     },
     "execution_count": 61,
     "metadata": {},
     "output_type": "execute_result"
    }
   ],
   "source": [
    "vsr.CGA(vsr.Mot(0,1,0,0,0,0,0,0)) * pe * me.rev()"
   ]
  },
  {
   "cell_type": "code",
   "execution_count": 62,
   "metadata": {
    "collapsed": false
   },
   "outputs": [
    {
     "ename": "TypeError",
     "evalue": "Incompatible function arguments. The following argument types are supported:\n    1. (Mot, float, float, float, float, float, float, float, float) -> None\n",
     "output_type": "error",
     "traceback": [
      "\u001b[1;31m---------------------------------------------------------------------------\u001b[0m",
      "\u001b[1;31mTypeError\u001b[0m                                 Traceback (most recent call last)",
      "\u001b[1;32m<ipython-input-62-696e0345d0c0>\u001b[0m in \u001b[0;36m<module>\u001b[1;34m()\u001b[0m\n\u001b[1;32m----> 1\u001b[1;33m \u001b[0mvsr\u001b[0m\u001b[1;33m.\u001b[0m\u001b[0mMot\u001b[0m\u001b[1;33m(\u001b[0m\u001b[0mme\u001b[0m \u001b[1;33m*\u001b[0m \u001b[0mpe\u001b[0m\u001b[1;33m)\u001b[0m\u001b[1;33m\u001b[0m\u001b[0m\n\u001b[0m",
      "\u001b[1;31mTypeError\u001b[0m: Incompatible function arguments. The following argument types are supported:\n    1. (Mot, float, float, float, float, float, float, float, float) -> None\n"
     ]
    }
   ],
   "source": [
    "vsr.Mot(me * pe)"
   ]
  },
  {
   "cell_type": "code",
   "execution_count": 63,
   "metadata": {
    "collapsed": false
   },
   "outputs": [],
   "source": [
    "vd = VDMotorEstimationSolver()"
   ]
  },
  {
   "cell_type": "code",
   "execution_count": 64,
   "metadata": {
    "collapsed": false
   },
   "outputs": [
    {
     "name": "stdout",
     "output_type": "stream",
     "text": [
      "[[ 0.     0.5    0.     0.     0.     0.   ]\n",
      " [ 0.866  0.    -0.5    0.     0.     0.   ]\n",
      " [ 0.     0.866  0.     0.     0.     0.   ]\n",
      " [ 0.5    0.     0.866  0.     0.     0.   ]\n",
      " [-0.433 -0.183  0.25   0.866  0.     0.5  ]\n",
      " [ 0.683 -0.25  -0.183  0.     0.866  0.   ]\n",
      " [ 0.25   0.683  0.433 -0.5    0.     0.866]\n",
      " [-0.183  0.433 -0.683  0.     0.5    0.   ]]\n"
     ]
    }
   ],
   "source": [
    "Jac3 = np.zeros((8,6))\n",
    "Jac3[:,0] = vsr.Dll(1,0,0,0,0,0) * motor\n",
    "Jac3[:,1] = vsr.Dll(0,1,0,0,0,0) * motor\n",
    "Jac3[:,2] = vsr.Dll(0,0,1,0,0,0) * motor\n",
    "Jac3[:,3] = vsr.Dll(0,0,0,1,0,0) * motor\n",
    "Jac3[:,4] = vsr.Dll(0,0,0,0,1,0) * motor\n",
    "Jac3[:,5] = vsr.Dll(0,0,0,0,0,1) * motor\n",
    "print(Jac3)"
   ]
  },
  {
   "cell_type": "code",
   "execution_count": 65,
   "metadata": {
    "collapsed": false
   },
   "outputs": [
    {
     "data": {
      "text/plain": [
       "array([[ 2.    ,  3.7321,  0.    , -2.    ,  0.    ,  0.    ],\n",
       "       [-3.    ,  0.    ,  3.7321,  0.    , -2.    ,  0.    ],\n",
       "       [ 0.    , -3.    , -2.    ,  0.    ,  0.    , -2.    ],\n",
       "       [ 0.    ,  0.    ,  0.    ,  0.    ,  0.    ,  0.    ],\n",
       "       [-0.    , -0.    ,  0.    , -3.    , -2.    , -3.7321]])"
      ]
     },
     "execution_count": 65,
     "metadata": {},
     "output_type": "execute_result"
    }
   ],
   "source": [
    "np.dot(Jac2,Jac3)"
   ]
  },
  {
   "cell_type": "code",
   "execution_count": 66,
   "metadata": {
    "collapsed": false
   },
   "outputs": [
    {
     "data": {
      "text/plain": [
       "array([[ 0.    , -2.1962,  6.    ,  0.    ,  0.    ,  0.    ],\n",
       "       [ 2.1962,  0.    ,  8.1962,  0.    ,  0.    ,  0.    ],\n",
       "       [-6.    , -8.1962,  0.    ,  0.    ,  0.    ,  0.    ],\n",
       "       [-1.6077,  0.    , -0.    ,  0.    ,  8.1962, -6.    ],\n",
       "       [ 4.3923,  0.    ,  0.    , -8.1962,  0.    , -2.1962],\n",
       "       [-0.    ,  4.3923,  1.6077,  6.    ,  2.1962,  0.    ]])"
      ]
     },
     "execution_count": 66,
     "metadata": {},
     "output_type": "execute_result"
    }
   ],
   "source": [
    "np.dot(JacLines,Jac3) "
   ]
  },
  {
   "cell_type": "code",
   "execution_count": 67,
   "metadata": {
    "collapsed": false
   },
   "outputs": [],
   "source": [
    "def printer(**kwargs):\n",
    "    ega = vsr.EGA(1,0,0,0,0,0,0,0)\n",
    "    rarr = np.recarray((8), \n",
    "                       names=('s','e1', 'e2', 'e3', 'e12', 'e13', 'e23', 'e123'), \n",
    "                       buf=np.array(ega))\n",
    "#     rarr['e12'] = 1\n",
    "    print(rarr)\n",
    "    "
   ]
  },
  {
   "cell_type": "code",
   "execution_count": 68,
   "metadata": {
    "collapsed": true
   },
   "outputs": [],
   "source": [
    "def full(m):\n",
    "    return vsr.EGA(m)"
   ]
  },
  {
   "cell_type": "code",
   "execution_count": 69,
   "metadata": {
    "collapsed": false
   },
   "outputs": [
    {
     "data": {
      "text/plain": [
       "EGA: [ -9 0 0 0 0 3 0 0 ]"
      ]
     },
     "execution_count": 69,
     "metadata": {},
     "output_type": "execute_result"
    }
   ],
   "source": [
    "\n",
    "B = vsr.EGA(vsr.Rot(1,2,3,4))\n",
    "X = vsr.EGA(vsr.Biv(1,1,1))\n",
    "\n",
    "X * B\n"
   ]
  },
  {
   "cell_type": "code",
   "execution_count": 70,
   "metadata": {
    "collapsed": true
   },
   "outputs": [],
   "source": [
    "e12 = vsr.EGA(vsr.Biv(1,0,0))\n",
    "e13 = vsr.EGA(vsr.Biv(0,1,0))\n",
    "e23 = vsr.EGA(vsr.Biv(0,0,1))"
   ]
  },
  {
   "cell_type": "code",
   "execution_count": 71,
   "metadata": {
    "collapsed": false
   },
   "outputs": [
    {
     "data": {
      "text/plain": [
       "EGA: [ -0 -0 -0 -0 2 3 4 0 ]"
      ]
     },
     "execution_count": 71,
     "metadata": {},
     "output_type": "execute_result"
    }
   ],
   "source": [
    "(e12.rev() * (e12 * B)[0] + \n",
    " e13.rev() * (e13 * B)[0] +\n",
    " e23.rev() * (e23 * B)[0])"
   ]
  },
  {
   "cell_type": "code",
   "execution_count": 72,
   "metadata": {
    "collapsed": false
   },
   "outputs": [
    {
     "data": {
      "text/plain": [
       "EGA: [ 0 3.5 0.93 14 0 0 0 3 ]"
      ]
     },
     "execution_count": 72,
     "metadata": {},
     "output_type": "execute_result"
    }
   ],
   "source": [
    "e12.rev() * (e12 * ae * Re.rev() + Re * ae * e12.rev()) +\\\n",
    "e13.rev() * (e13 * ae * Re.rev() + Re * ae * e13.rev()) +\\\n",
    "e23.rev() * (e23 * ae * Re.rev() + Re * ae * e23.rev())"
   ]
  },
  {
   "cell_type": "code",
   "execution_count": 73,
   "metadata": {
    "collapsed": false
   },
   "outputs": [
    {
     "data": {
      "text/plain": [
       "array([[ -31.1769,  -24.5885,  -49.1769,    0.    ,    0.    ,    0.    ],\n",
       "       [  54.    ,   60.5885,   36.    ,    0.    ,    0.    ,    0.    ],\n",
       "       [  19.7654,    6.5885,   55.7654,    0.    ,    0.    ,    0.    ],\n",
       "       [ -79.0615,  -13.1769, -152.3538,   55.7654,   -6.5885,   19.7654],\n",
       "       [  93.5307,  180.473 , -171.6462,  -36.    ,   60.5885,  -54.    ],\n",
       "       [ -37.7654,    0.    , -221.2961,  -49.1769,   24.5885,  -31.1769]])"
      ]
     },
     "execution_count": 73,
     "metadata": {},
     "output_type": "execute_result"
    }
   ],
   "source": [
    "np.dot(Jadcomm,Jac3) "
   ]
  },
  {
   "cell_type": "code",
   "execution_count": 74,
   "metadata": {
    "collapsed": false
   },
   "outputs": [
    {
     "name": "stdout",
     "output_type": "stream",
     "text": [
      "[[ 2.      3.7321  0.     -2.      0.      0.    ]\n",
      " [-3.      0.      3.7321  0.     -2.      0.    ]\n",
      " [ 0.     -3.     -2.      0.      0.     -2.    ]\n",
      " [ 0.      0.      0.      0.      0.      0.    ]\n",
      " [ 0.      0.      0.     -3.     -2.     -3.7321]]\n"
     ]
    }
   ],
   "source": [
    "Jac4 = np.zeros((5,6))\n",
    "Jac4[:,0] = 2. * np.array(vsr.Dll(1,0,0,0,0,0).comm(vsr.Vec(1,0,0).null().spin(motor)))\n",
    "Jac4[:,1] = 2. * np.array(vsr.Dll(0,1,0,0,0,0).comm(vsr.Vec(1,0,0).null().spin(motor)))\n",
    "Jac4[:,2] = 2. * np.array(vsr.Dll(0,0,1,0,0,0).comm(vsr.Vec(1,0,0).null().spin(motor)))\n",
    "Jac4[:,3] = 2. * np.array(vsr.Dll(0,0,0,1,0,0).comm(vsr.Vec(1,0,0).null().spin(motor)))\n",
    "Jac4[:,4] = 2. * np.array(vsr.Dll(0,0,0,0,1,0).comm(vsr.Vec(1,0,0).null().spin(motor)))\n",
    "Jac4[:,5] = 2. * np.array(vsr.Dll(0,0,0,0,0,1).comm(vsr.Vec(1,0,0).null().spin(motor)))\n",
    "print(Jac4)"
   ]
  },
  {
   "cell_type": "code",
   "execution_count": 75,
   "metadata": {
    "collapsed": false
   },
   "outputs": [
    {
     "data": {
      "text/plain": [
       "array([ 0.    ,  0.866 , -3.0981,  0.5   ,  0.    , -0.866 ,  0.    ,\n",
       "        0.    ,  0.    ,  0.    ,  0.    ,  0.    ,  0.    ,  0.    ,\n",
       "        0.    ,  0.    ,  0.    ,  0.    ,  0.    ,  0.    ,  0.    ,\n",
       "        0.    ,  0.    ,  0.    ,  0.    ,  0.    ,  0.    ,  0.    ,\n",
       "        0.    ,  0.    ,  0.    , -0.366 ])"
      ]
     },
     "execution_count": 75,
     "metadata": {},
     "output_type": "execute_result"
    }
   ],
   "source": [
    "np.array(vsr.CGA(vsr.Mot(0,1,0,0,0,0,0,0)) * pe * me.rev() +  me * pe * vsr.CGA(vsr.Mot(0,-1,0,0,0,0,0,0)))"
   ]
  },
  {
   "cell_type": "markdown",
   "metadata": {},
   "source": [
    "# Figure"
   ]
  },
  {
   "cell_type": "code",
   "execution_count": 9,
   "metadata": {
    "collapsed": false
   },
   "outputs": [],
   "source": [
    "pnt = vsr.Vec(0,1,1).null()\n",
    "dlp = vsr.Dlp(vsr.Vec(1,1,1).unit(), 1)\n",
    "p1 = vsr.Vec(1,0,1).null()\n",
    "p2 = vsr.Vec(2,1,1).null()\n",
    "dll = vsr.Dll(p1,p2).unit()\n",
    "\n",
    "scene = Scene(children=[\n",
    "        frame_mesh(),\n",
    "        point_mesh(pnt,color='palegreen'),\n",
    "        plane_mesh(dlp, width=1, height=1, color='palegreen'),\n",
    "        line_mesh(dll, length=100, color='palegreen'),\n",
    "\n",
    "        point_mesh(pnt.spin(motor),color='lightpink'),\n",
    "        plane_mesh(dlp.spin(motor), width=1, height=1, color='lightpink'),\n",
    "        line_mesh(dll.spin(motor), length=100, color='lightpink'),\n",
    "\n",
    "        AmbientLight(color='#cccccc')])\n",
    "\n",
    "camera = PerspectiveCamera(position=[3, -3, 3])\n",
    "renderer = Renderer(camera=camera, \n",
    "                    scene=scene, \n",
    "                    controls=[TrackballControls(controlling=camera)],\n",
    "                    background = 'white')\n",
    "# renderer.width = '1024'\n",
    "# renderer.height = '768'\n",
    "display(renderer)"
   ]
  },
  {
   "cell_type": "code",
   "execution_count": 18,
   "metadata": {
    "collapsed": false
   },
   "outputs": [
    {
     "name": "stdout",
     "output_type": "stream",
     "text": [
      "Ceres Solver Report: Iterations: 5, Initial cost: 2.167468e+00, Final cost: 5.764567e-25, Termination: CONVERGENCE\n"
     ]
    }
   ],
   "source": [
    "initial_motor = vsr.Mot(1.0, 0.0, 0.0, 0.0, 0.0, 0.0, 0.0, 0.0)\n",
    "# initial_motor = vsr.Vec(0.1,0.1,0.1).trs() * vsr.Rot(vsr.Biv(0,1,0) * (np.pi/6.0 + np.pi/2.))\n",
    "mes = MotorEstimationSolver(initial_motor)\n",
    "mes.add_point_correspondences_residual_block(pnt,pnt.spin(motor))\n",
    "mes.add_line_correspondences_residual_block(dll, dll.spin(motor))\n",
    "mes.add_dual_plane_difference_residual_block(dlp, dlp.spin(motor))\n",
    "mes.set_parameterization('BIVECTOR_GENERATOR')\n",
    "mes.linear_solver_type = 'DENSE_QR'\n",
    "(estimated_motor, summary, motors) = mes.solve()\n",
    "print(summary['brief_report'])"
   ]
  },
  {
   "cell_type": "code",
   "execution_count": 19,
   "metadata": {
    "collapsed": false
   },
   "outputs": [
    {
     "data": {
      "text/plain": [
       "[<matplotlib.lines.Line2D at 0x7fd562169a90>]"
      ]
     },
     "execution_count": 19,
     "metadata": {},
     "output_type": "execute_result"
    },
    {
     "data": {
      "image/png": "[encoded data removed]",
      "text/plain": [
       "<matplotlib.figure.Figure at 0x7fd565d37a10>"
      ]
     },
     "metadata": {},
     "output_type": "display_data"
    }
   ],
   "source": [
    "plt.plot([it['cost'] for it in summary['iterations'] ])"
   ]
  },
  {
   "cell_type": "code",
   "execution_count": 21,
   "metadata": {
    "collapsed": false
   },
   "outputs": [],
   "source": [
    "dlp = vsr.Dlp(vsr.Vec(1,1,1).unit(), 1)\n",
    "p1 = vsr.Vec(1,0,1).null()\n",
    "p2 = vsr.Vec(2,1,1).null()\n",
    "dll = vsr.Dll(p1,p2).unit()\n",
    "\n",
    "points = [point_mesh(pnt.spin(motor),color='lightpink') for motor in motors[2:3]]\n",
    "lines = [line_mesh(dll.spin(motor),color='lightpink') for motor in motors[2:3]]\n",
    "planes = [plane_mesh(dlp.spin(motor), width=1, height=1, color='lightpink') \n",
    "          for motor in motors[2:3]]\n",
    "\n",
    "\n",
    "scene = Scene(children=[\n",
    "        frame_mesh(),\n",
    "        AmbientLight(color='#cccccc')] + points + lines + planes)\n",
    "\n",
    "camera = PerspectiveCamera(position=[3, -3, 3])\n",
    "renderer = Renderer(camera=camera, \n",
    "                    scene=scene, \n",
    "                    controls=[TrackballControls(controlling=camera)],\n",
    "                    background = 'white')\n",
    "# renderer.width = '1024'\n",
    "# renderer.height = '768'\n",
    "display(renderer)"
   ]
  },
  {
   "cell_type": "code",
   "execution_count": 8,
   "metadata": {
    "collapsed": false
   },
   "outputs": [],
   "source": [
    "n_circles = 10\n",
    "sigma = 0.09\n",
    "points_a = [vsr.Vec(*np.random.normal(0.0, 0.3, 3)).null() \n",
    "            for i in range(n_circles)]\n",
    "points_b = [point.spin(motor) for point in points_a]\n",
    "points_b_noisy = [vsr.Vec(*(np.array(point)[:3] \n",
    "                            + sigma * np.random.randn(3))).null() \n",
    "                  for point in points_b]\n",
    "radiuss = [np.random.rand() for i in range(n_circles)]\n",
    "bivs = [vsr.Vec(*np.random.normal(0.0, 0.3, 3)).unit().unduale()\n",
    "            for i in range(n_circles)]\n",
    "circs_a = [vsr.Cir(p,r,b) for p,r,b in zip(points_a, radiuss, bivs)]\n",
    "circs_b = [circle.spin(motor) for circle in circs_a]\n"
   ]
  },
  {
   "cell_type": "code",
   "execution_count": 9,
   "metadata": {
    "collapsed": false
   },
   "outputs": [
    {
     "name": "stdout",
     "output_type": "stream",
     "text": [
      "\n",
      "Solver Summary (v 1.11.0-eigen-(3.2.92)-lapack-suitesparse-(4.4.6)-openmp)\n",
      "\n",
      "                                     Original                  Reduced\n",
      "Parameter blocks                            1                        1\n",
      "Parameters                                  8                        8\n",
      "Effective parameters                        6                        6\n",
      "Residual blocks                            10                       10\n",
      "Residual                                  100                      100\n",
      "\n",
      "Minimizer                        TRUST_REGION\n",
      "\n",
      "Dense linear algebra library            EIGEN\n",
      "Trust region strategy     LEVENBERG_MARQUARDT\n",
      "\n",
      "                                        Given                     Used\n",
      "Linear solver                        DENSE_QR                 DENSE_QR\n",
      "Threads                                     1                        1\n",
      "Linear solver threads                       1                        1\n",
      "\n",
      "Cost:\n",
      "Initial                          2.911186e+01\n",
      "Final                            2.111391e-24\n",
      "Change                           2.911186e+01\n",
      "\n",
      "Minimizer iterations                        5\n",
      "Successful steps                            5\n",
      "Unsuccessful steps                          0\n",
      "\n",
      "Time (in seconds):\n",
      "Preprocessor                           0.0053\n",
      "\n",
      "  Residual evaluation                  0.0001\n",
      "  Jacobian evaluation                  0.0028\n",
      "  Linear solver                        0.0016\n",
      "Minimizer                              0.0049\n",
      "\n",
      "Postprocessor                          0.0000\n",
      "Total                                  0.0102\n",
      "\n",
      "Termination:                      CONVERGENCE (Gradient tolerance reached. Gradient max norm: 1.065100e-11 <= 1.000000e-10)\n",
      "\n"
     ]
    }
   ],
   "source": [
    "initial_motor = vsr.Mot(1.0, 0.0, 0.0, 0.0, 0.0, 0.0, 0.0, 0.0)\n",
    "# initial_motor = vsr.Vec(2,3,4).trs() * vsr.Rot(vsr.Biv(0,-1,0) * np.pi/6)\n",
    "mes = MotorEstimationSolver(initial_motor)\n",
    "for a, b in zip(circs_a, circs_b):\n",
    "    mes.add_circle_difference_residual_block(a,b)\n",
    "#     mes.add_circle_commutator_residual_block(a,b)\n",
    "mes.set_parameterization('BIVECTOR_GENERATOR')\n",
    "mes.linear_solver_type = 'DENSE_QR'\n",
    "(estimated_motor, summary, motors) = mes.solve()\n",
    "print(summary['full_report'])"
   ]
  },
  {
   "cell_type": "code",
   "execution_count": 10,
   "metadata": {
    "collapsed": false
   },
   "outputs": [
    {
     "ename": "TypeError",
     "evalue": "Unable to convert function return value to a Python type! The signature was\n\t(Cir, Cir) -> vsr::Multivector<vsr::algebra<vsr::metric<4, 1, true>, double>, vsr::Basis<(short)0, (short)3, (short)5, (short)6, (short)9, (short)10, (short)12, (short)17, (short)18, (short)20, (short)24, (short)15, (short)23, (short)27, (short)29, (short)30> >",
     "output_type": "error",
     "traceback": [
      "\u001b[1;31m---------------------------------------------------------------------------\u001b[0m",
      "\u001b[1;31mTypeError\u001b[0m                                 Traceback (most recent call last)",
      "\u001b[1;32m<ipython-input-10-f9229dd0673e>\u001b[0m in \u001b[0;36m<module>\u001b[1;34m()\u001b[0m\n\u001b[1;32m----> 1\u001b[1;33m \u001b[0mcircs_b\u001b[0m\u001b[1;33m[\u001b[0m\u001b[1;36m0\u001b[0m\u001b[1;33m]\u001b[0m\u001b[1;33m.\u001b[0m\u001b[0mcomm\u001b[0m\u001b[1;33m(\u001b[0m\u001b[0mcircs_a\u001b[0m\u001b[1;33m[\u001b[0m\u001b[1;36m0\u001b[0m\u001b[1;33m]\u001b[0m\u001b[1;33m)\u001b[0m\u001b[1;33m\u001b[0m\u001b[0m\n\u001b[0m",
      "\u001b[1;31mTypeError\u001b[0m: Unable to convert function return value to a Python type! The signature was\n\t(Cir, Cir) -> vsr::Multivector<vsr::algebra<vsr::metric<4, 1, true>, double>, vsr::Basis<(short)0, (short)3, (short)5, (short)6, (short)9, (short)10, (short)12, (short)17, (short)18, (short)20, (short)24, (short)15, (short)23, (short)27, (short)29, (short)30> >"
     ]
    }
   ],
   "source": [
    "circs_b[0].comm(circs_a[0])"
   ]
  },
  {
   "cell_type": "code",
   "execution_count": 11,
   "metadata": {
    "collapsed": true
   },
   "outputs": [],
   "source": [
    "scene = Scene(children=\n",
    "              [circle_mesh(p,color='hotpink') for p in circs_a] +\\\n",
    "              [circle_mesh(p,color='lightskyblue') for p in circs_b] +\\\n",
    "              [circle_mesh(p.spin(motors[2]),color='green') for p in circs_a] +\\\n",
    "\n",
    "              [frame_mesh(),AmbientLight(color='#cccccc')])\n",
    "\n",
    "camera = PerspectiveCamera(position=[3, -3, 3])\n",
    "renderer = Renderer(camera=camera, \n",
    "                    scene=scene, \n",
    "                    controls=[TrackballControls(controlling=camera)],\n",
    "                    background = 'white')\n",
    "display(renderer)"
   ]
  },
  {
   "cell_type": "markdown",
   "metadata": {},
   "source": [
    "## Motor Estimation from Points"
   ]
  },
  {
   "cell_type": "markdown",
   "metadata": {},
   "source": [
    "### Dataset generation"
   ]
  },
  {
   "cell_type": "code",
   "execution_count": null,
   "metadata": {
    "collapsed": false
   },
   "outputs": [],
   "source": [
    "n_points = 10\n",
    "sigma = 0.09\n",
    "points_a = [vsr.Vec(*np.random.normal(0.0, 0.3, 3)).null() \n",
    "            for i in range(n_points)]\n",
    "points_b = [point.spin(motor) for point in points_a]\n",
    "points_b_noisy = [vsr.Vec(*(np.array(point)[:3] \n",
    "                            + sigma * np.random.randn(3))).null() \n",
    "                  for point in points_b]"
   ]
  },
  {
   "cell_type": "code",
   "execution_count": null,
   "metadata": {
    "collapsed": false
   },
   "outputs": [],
   "source": [
    "scene = Scene(children=\n",
    "              [point_mesh(p,color='hotpink') for p in points_a] +\\\n",
    "              [point_mesh(p,color='lightskyblue') for p in points_b] +\\\n",
    "              [frame_mesh(),AmbientLight(color='#cccccc')])\n",
    "\n",
    "camera = PerspectiveCamera(position=[3, -3, 3])\n",
    "renderer = Renderer(camera=camera, \n",
    "                    scene=scene, \n",
    "                    controls=[TrackballControls(controlling=camera)],\n",
    "                    background = 'white')\n",
    "display(renderer)"
   ]
  },
  {
   "cell_type": "markdown",
   "metadata": {},
   "source": [
    "### Estimate motor using Exponential Formulation"
   ]
  },
  {
   "cell_type": "code",
   "execution_count": null,
   "metadata": {
    "collapsed": false
   },
   "outputs": [],
   "source": [
    "# initial_motor = vsr.Mot(1.0, 0.0, 0.0, 0.0, 0.0, 0.0, 0.0, 0.0)\n",
    "initial_motor = vsr.Vec(2,3,4).trs() * vsr.Rot(vsr.Biv(0,-1,0) * np.pi/6)\n",
    "mes = MotorEstimationSolver(initial_motor)\n",
    "for a, b in zip(points_a, points_b_noisy):\n",
    "    mes.add_point_correspondences_residual_block(a,b)\n",
    "mes.set_parameterization('BIVECTOR_GENERATOR')\n",
    "mes.linear_solver_type = 'DENSE_QR'\n",
    "(estimated_motor, summary_point_1, motors) = mes.solve()\n",
    "print(summary_point_1['full_report'])"
   ]
  },
  {
   "cell_type": "code",
   "execution_count": null,
   "metadata": {
    "collapsed": false
   },
   "outputs": [],
   "source": [
    "plt.plot([it['cost'] for it in summary_point_1['iterations'] ])"
   ]
  },
  {
   "cell_type": "markdown",
   "metadata": {},
   "source": [
    "#### Check solution"
   ]
  },
  {
   "cell_type": "code",
   "execution_count": null,
   "metadata": {
    "collapsed": false
   },
   "outputs": [],
   "source": [
    "print(np.array(motor))\n",
    "print(np.array(estimated_motor))\n",
    "print(np.allclose(np.array(motor), np.array(estimated_motor)))"
   ]
  },
  {
   "cell_type": "markdown",
   "metadata": {},
   "source": [
    "### Estimate motor using Valkenburg-Dorst solver"
   ]
  },
  {
   "cell_type": "code",
   "execution_count": null,
   "metadata": {
    "collapsed": false
   },
   "outputs": [],
   "source": [
    "vd = VDMotorEstimationSolver()\n",
    "vd.add_point_observations(points_a, points_b)\n",
    "vd_estimated_motor = vd.solve()"
   ]
  },
  {
   "cell_type": "markdown",
   "metadata": {},
   "source": [
    "#### Check solution"
   ]
  },
  {
   "cell_type": "code",
   "execution_count": null,
   "metadata": {
    "collapsed": false
   },
   "outputs": [],
   "source": [
    "print(np.array(motor))\n",
    "print(np.array(vd_estimated_motor))\n",
    "print(np.allclose(np.array(motor), np.array(vd_estimated_motor)))"
   ]
  },
  {
   "cell_type": "markdown",
   "metadata": {},
   "source": [
    "### Visualize Solution"
   ]
  },
  {
   "cell_type": "code",
   "execution_count": null,
   "metadata": {
    "collapsed": true
   },
   "outputs": [],
   "source": [
    "scene = Scene(children=\n",
    "              [point_mesh(p,color='palegreen') for p in [p.spin(estimated_motor) for p in points_a]] +\\\n",
    "              [point_mesh(p,color='hotpink') for p in points_a] +\\\n",
    "              [point_mesh(p,color='hotpink') for p in points_b] +\\\n",
    "              [frame_mesh(),AmbientLight(color='#cccccc')])\n",
    "\n",
    "camera = PerspectiveCamera(position=[3, -3, 3])\n",
    "renderer = Renderer(camera=camera, \n",
    "                    scene=scene, \n",
    "                    controls=[TrackballControls(controlling=camera)],\n",
    "                    background = 'white')\n",
    "# renderer.width = '1600'\n",
    "# renderer.height = '900'\n",
    "display(renderer)"
   ]
  },
  {
   "cell_type": "markdown",
   "metadata": {},
   "source": [
    "## Motor Estimation from Lines"
   ]
  },
  {
   "cell_type": "markdown",
   "metadata": {},
   "source": [
    "### Dataset generation"
   ]
  },
  {
   "cell_type": "code",
   "execution_count": null,
   "metadata": {
    "collapsed": false
   },
   "outputs": [],
   "source": [
    "lines_a = [vsr.Dll(vsr.Vec(*np.random.normal(0.0,0.8,3)),\n",
    "                   vsr.Vec(*np.random.normal(0.0,0.8,3)))\n",
    "          for i in range(10)]\n",
    "lines_b = [line.spin(motor) for line in lines_a]\n",
    "noise_motor = vsr.Vec(0.05,0.05,0.05).trs() * vsr.Rot(vsr.Biv(1,0,0) * np.pi/50.)\n",
    "lines_b_noisy = [line.spin(motor * noise_motor) for line in lines_a]"
   ]
  },
  {
   "cell_type": "code",
   "execution_count": null,
   "metadata": {
    "collapsed": false
   },
   "outputs": [],
   "source": [
    "scene = Scene(children=\n",
    "              [line_mesh(l.unit(),length=10, color='hotpink') for l in lines_a[:3]] +\\\n",
    "              [line_mesh(l.unit(), length=10, color='lightskyblue') for l in lines_b[:3]] +\\\n",
    "              [frame_mesh(),\n",
    "               AmbientLight(color='#cccccc')])\n",
    "\n",
    "camera = PerspectiveCamera(position=[3, -3, 3])\n",
    "renderer = Renderer(camera=camera, \n",
    "                    scene=scene, \n",
    "                    controls=[TrackballControls(controlling=camera)],\n",
    "                    background = 'white')\n",
    "\n",
    "renderer.width = '1024'\n",
    "renderer.height = '768'\n",
    "display(renderer)"
   ]
  },
  {
   "cell_type": "markdown",
   "metadata": {
    "collapsed": false
   },
   "source": [
    "### Estimate motor using 6 residuals"
   ]
  },
  {
   "cell_type": "markdown",
   "metadata": {},
   "source": [
    "$$ \\min_{M \\in \\mathcal M} \\frac{1}{2} \\sum_{i=1}^n \\| M \\varLambda_{b_i} \\tilde{M} - \\varLambda_{a_i} \\|^2 $$"
   ]
  },
  {
   "cell_type": "code",
   "execution_count": null,
   "metadata": {
    "collapsed": false
   },
   "outputs": [],
   "source": [
    "initial_motor = vsr.Mot(1.0, 0.0, 0.0, 0.0, 0.0, 0.0, 0.0, 0.0)\n",
    "mes = MotorEstimationSolver(initial_motor)\n",
    "for a, b in zip(lines_a, lines_b_noisy):\n",
    "    mes.add_line_correspondences_residual_block(a,b)\n",
    "mes.set_parameterization('BIVECTOR_GENERATOR')\n",
    "mes.linear_solver_type = \"DENSE_QR\"\n",
    "mes.parameter_tolerance = 1e-6\n",
    "estimated_motor, lin_summary_1, motors = mes.solve()\n",
    "print(lin_summary_1['brief_report'])"
   ]
  },
  {
   "cell_type": "markdown",
   "metadata": {
    "collapsed": false
   },
   "source": [
    "#### Check solution"
   ]
  },
  {
   "cell_type": "code",
   "execution_count": null,
   "metadata": {
    "collapsed": false
   },
   "outputs": [],
   "source": [
    "print(np.array(motor))\n",
    "print(np.array(estimated_motor))\n",
    "print(np.allclose(np.array(motor), np.array(estimated_motor)))"
   ]
  },
  {
   "cell_type": "markdown",
   "metadata": {},
   "source": [
    "### Valkenburg and Dorst Solver"
   ]
  },
  {
   "cell_type": "code",
   "execution_count": null,
   "metadata": {
    "collapsed": false
   },
   "outputs": [],
   "source": [
    "vd = VDMotorEstimationSolver()\n",
    "vd.add_dual_line_observations(lines_a, lines_b)\n",
    "vd_estimated_motor = vd.solve()\n",
    "print(vd_estimated_motor)"
   ]
  },
  {
   "cell_type": "code",
   "execution_count": null,
   "metadata": {
    "collapsed": false
   },
   "outputs": [],
   "source": [
    "scene = Scene(children=\n",
    "              [line_mesh(l,length=1, color='hotpink') for l in [l.spin(estimated_motor) for l in lines_a]] +\\\n",
    "              [line_mesh(l,length=1, color='lightgreen') for l in [l.spin(vd_estimated_motor) for l in lines_a]] +\\\n",
    "              [line_mesh(l, length=1, color='lightskyblue') for l in lines_b] +\\\n",
    "              [frame_mesh(),\n",
    "               AmbientLight(color='#cccccc')])\n",
    "\n",
    "camera = PerspectiveCamera(position=[3, -3, 3])\n",
    "renderer = Renderer(camera=camera, \n",
    "                    scene=scene, \n",
    "                    controls=[TrackballControls(controlling=camera)],\n",
    "                    background = 'white')\n",
    "renderer.width = '800'\n",
    "renderer.height = '450'\n",
    "display(renderer)"
   ]
  },
  {
   "cell_type": "code",
   "execution_count": 18,
   "metadata": {
    "collapsed": false
   },
   "outputs": [],
   "source": [
    "a = vsr.Vec(1,2,3)"
   ]
  },
  {
   "cell_type": "code",
   "execution_count": 19,
   "metadata": {
    "collapsed": false
   },
   "outputs": [
    {
     "ename": "TypeError",
     "evalue": "Incompatible function arguments. The following argument types are supported:\n    1. (Tnv, Vec) -> None\n",
     "output_type": "error",
     "traceback": [
      "\u001b[1;31m---------------------------------------------------------------------------\u001b[0m",
      "\u001b[1;31mTypeError\u001b[0m                                 Traceback (most recent call last)",
      "\u001b[1;32m<ipython-input-19-8ce4013ac781>\u001b[0m in \u001b[0;36m<module>\u001b[1;34m()\u001b[0m\n\u001b[1;32m----> 1\u001b[1;33m \u001b[0mvsr\u001b[0m\u001b[1;33m.\u001b[0m\u001b[0mTnv\u001b[0m\u001b[1;33m(\u001b[0m\u001b[0ma\u001b[0m\u001b[1;33m)\u001b[0m\u001b[1;33m\u001b[0m\u001b[0m\n\u001b[0m",
      "\u001b[1;31mTypeError\u001b[0m: Incompatible function arguments. The following argument types are supported:\n    1. (Tnv, Vec) -> None\n"
     ]
    }
   ],
   "source": [
    "vsr.Tnv(a)"
   ]
  },
  {
   "cell_type": "markdown",
   "metadata": {},
   "source": [
    "### Estimate motor using 4 residuals"
   ]
  },
  {
   "cell_type": "code",
   "execution_count": null,
   "metadata": {
    "collapsed": false
   },
   "outputs": [],
   "source": [
    "initial_motor = vsr.Mot(1.0, 0.0, 0.0, 0.0, 0.0, 0.0, 0.0, 0.0)\n",
    "mes = MotorEstimationSolver(initial_motor)\n",
    "for a, b in zip(lines_a, lines_b):\n",
    "    mes.add_line_angle_distance_residual_block(a,b)\n",
    "mes.set_parameterization('BIVECTOR_GENERATOR')\n",
    "mes.linear_solver_type = \"DENSE_QR\"\n",
    "estimated_motor, lin_summary_2, motors = mes.solve()\n",
    "print(lin_summary_2['full_report'])"
   ]
  },
  {
   "cell_type": "markdown",
   "metadata": {},
   "source": [
    "#### Check solution"
   ]
  },
  {
   "cell_type": "code",
   "execution_count": null,
   "metadata": {
    "collapsed": false
   },
   "outputs": [],
   "source": [
    "print(np.array(motor))\n",
    "print(np.array(estimated_motor))\n",
    "print(np.allclose(np.array(motor), np.array(estimated_motor)))\n",
    "print(np.allclose(np.array(motor), np.array(estimated_motor), \n",
    "                  rtol=1e-05, atol=1e-03))"
   ]
  },
  {
   "cell_type": "markdown",
   "metadata": {
    "collapsed": false
   },
   "source": [
    "### Estimate motor using 2 residuals"
   ]
  },
  {
   "cell_type": "code",
   "execution_count": null,
   "metadata": {
    "collapsed": false
   },
   "outputs": [],
   "source": [
    "initial_motor = vsr.Mot(1.0, 0.0, 0.0, 0.0, 0.0, 0.0, 0.0, 0.0)\n",
    "mes = MotorEstimationSolver(initial_motor)\n",
    "for a, b in zip(lines_a, lines_b):\n",
    "    mes.add_line_angle_distance_norm_residual_block(a,b)\n",
    "mes.set_parameterization('BIVECTOR_GENERATOR')\n",
    "mes.linear_solver_type = \"DENSE_QR\"\n",
    "estimated_motor, lin_summary_3 = mes.solve()\n",
    "print(lin_summary_3['full_report'])"
   ]
  },
  {
   "cell_type": "markdown",
   "metadata": {},
   "source": [
    "#### Check solution"
   ]
  },
  {
   "cell_type": "code",
   "execution_count": null,
   "metadata": {
    "collapsed": false
   },
   "outputs": [],
   "source": [
    "print(np.array(motor))\n",
    "print(np.array(estimated_motor))\n",
    "print(np.allclose(np.array(motor), np.array(estimated_motor)))\n",
    "print(np.allclose(np.array(motor), np.array(estimated_motor), \n",
    "                  rtol=1e-05, atol=1e-03))"
   ]
  },
  {
   "cell_type": "markdown",
   "metadata": {},
   "source": [
    "### Estimate motor using Valkenburg-Dorst solver"
   ]
  },
  {
   "cell_type": "code",
   "execution_count": null,
   "metadata": {
    "collapsed": false
   },
   "outputs": [],
   "source": [
    "vd = VDMotorEstimationSolver()\n",
    "vd.add_dual_line_observations(lines_a, lines_b)\n",
    "vd_estimated_motor = vd.solve()\n",
    "print(vd_estimated_motor)"
   ]
  },
  {
   "cell_type": "markdown",
   "metadata": {},
   "source": [
    "#### Check solution"
   ]
  },
  {
   "cell_type": "code",
   "execution_count": null,
   "metadata": {
    "collapsed": false
   },
   "outputs": [],
   "source": [
    "print(np.array(motor))\n",
    "print(np.array(vd_estimated_motor))\n",
    "print(np.allclose(motor, vd_estimated_motor))"
   ]
  },
  {
   "cell_type": "markdown",
   "metadata": {},
   "source": [
    "### Plots"
   ]
  },
  {
   "cell_type": "code",
   "execution_count": null,
   "metadata": {
    "collapsed": false
   },
   "outputs": [],
   "source": [
    "fig, ax = plt.subplots(2, sharex=True)\n",
    "\n",
    "ax[0].set_aspect('equal')\n",
    "plt.set_cmap('gray')\n",
    "\n",
    "almost_black = '#262626'\n",
    "spines_to_remove = ['top', 'right']\n",
    "for spine in spines_to_remove:\n",
    "    ax[0].spines[spine].set_visible(False)\n",
    "    ax[1].spines[spine].set_visible(False)\n",
    "    \n",
    "ax[0].xaxis.set_ticks_position('none')\n",
    "ax[0].yaxis.set_ticks_position('none')\n",
    "ax[1].xaxis.set_ticks_position('none')\n",
    "ax[1].yaxis.set_ticks_position('none')\n",
    "\n",
    "spines_to_keep = ['bottom', 'left']\n",
    "for spine in spines_to_keep:\n",
    "    ax[0].spines[spine].set_linewidth(0.5)\n",
    "    ax[0].spines[spine].set_color(almost_black)\n",
    "    ax[1].spines[spine].set_linewidth(0.5)\n",
    "    ax[1].spines[spine].set_color(almost_black)\n",
    "ax[0].xaxis.label.set_color(almost_black)\n",
    "ax[0].yaxis.label.set_color(almost_black)\n",
    "ax[1].xaxis.label.set_color(almost_black)\n",
    "ax[1].yaxis.label.set_color(almost_black)\n",
    "\n",
    "# ax.plot([it['cost'] for it in lin_summary_4['iterations'] ], label=r\"commutator\")\n",
    "# ax[0].plot([it['cost'] for it in lin_summary_3['iterations'] ], label=r\"$2$-residuals\", c='red')\n",
    "ax[0].plot([it['cost'] for it in lin_summary_2['iterations'] ], label=r\"$4$-residuals\")\n",
    "ax[1].plot([it['cost'] for it in lin_summary_1['iterations'] ], label=r\"$6$-residuals\")\n",
    "\n",
    "ax[0].set_yscale('log')\n",
    "ax[1].set_yscale('log')\n",
    "\n",
    "ax[0].grid(which=\"both\")\n",
    "ax[1].grid(which=\"both\")\n",
    "\n",
    "# ax[0].set_xscale('log')\n",
    "\n",
    "# plt.yscale('log')\n",
    "\n",
    "# ax[0].title.set_color(almost_black)\n",
    "# ax[0].axhline(0, color=almost_black, linewidth=0.15)\n",
    "# ax[0].axvline(0, color=almost_black, linewidth=0.15)\n",
    "# ax[1].title.set_color(almost_black)\n",
    "# ax[1].axhline(0, color=almost_black, linewidth=0.15)\n",
    "# ax[1].axvline(0, color=almost_black, linewidth=0.15)\n",
    "\n",
    "# Remove the line around the legend box, and instead fill it with a light grey\n",
    "# Also only use one point for the scatterplot legend because the user will \n",
    "# get the idea after just one, they don't need three.\n",
    "light_grey = np.array([float(248)/float(255)]*3)\n",
    "legend = ax[0].legend(frameon=True, scatterpoints=1)\n",
    "rect = legend.get_frame()\n",
    "rect.set_facecolor(light_grey)\n",
    "rect.set_linewidth(0.0)\n",
    "legend = ax[1].legend(frameon=True, scatterpoints=1)\n",
    "rect = legend.get_frame()\n",
    "rect.set_facecolor(light_grey)\n",
    "rect.set_linewidth(0.0)\n",
    "\n",
    "fig.text(0.06, 0.5, 'Cost', ha='center', va='center', rotation='vertical')\n",
    "\n",
    "# plt.tight_layout()\n",
    "plt.xlabel(r'Iteration $k$')\n",
    "# fig.ylabel(r'Cost')\n",
    "# ax[1].ylabel(r'Cost')\n",
    "\n",
    "# plt.savefig('/home/lars/Dropbox/Apps/ShareLaTeX/2016-gacse/figures/cost_lines2.pdf')"
   ]
  },
  {
   "cell_type": "markdown",
   "metadata": {},
   "source": [
    "## Motor Estimation from planes"
   ]
  },
  {
   "cell_type": "markdown",
   "metadata": {},
   "source": [
    "### Dataset generation"
   ]
  },
  {
   "cell_type": "code",
   "execution_count": null,
   "metadata": {
    "collapsed": false
   },
   "outputs": [],
   "source": [
    "n_planes = 10\n",
    "planes_a = []\n",
    "for i in range(10):\n",
    "    dir_vec = np.random.normal(0.0, 0.8, 4)\n",
    "    dir_vec = dir_vec / np.linalg.norm(dir_vec)\n",
    "    distance = np.random.normal(0.0, 0.8,1)\n",
    "    arr = dir_vec + distance\n",
    "    planes_a.append(vsr.Dlp(dir_vec[0],dir_vec[1],dir_vec[2],distance[0]))\n",
    "planes_b = [plane.spin(motor) for plane in planes_a]"
   ]
  },
  {
   "cell_type": "code",
   "execution_count": null,
   "metadata": {
    "collapsed": false
   },
   "outputs": [],
   "source": [
    "scene = Scene(children=\n",
    "              [plane_mesh(p,width=1, height=1,color='hotpink') for p in planes_a[:3]] +\\\n",
    "              [plane_mesh(p,width=1, height=1,color='lightskyblue') for p in planes_b[:3]] +\\\n",
    "              [frame_mesh(),AmbientLight(color='#cccccc')])\n",
    "\n",
    "camera = PerspectiveCamera(position=[3, -3, 3])\n",
    "renderer = Renderer(camera=camera, \n",
    "                    scene=scene, \n",
    "                    controls=[TrackballControls(controlling=camera)],\n",
    "                    background = 'white')\n",
    "\n",
    "renderer.width = '1024'\n",
    "renderer.height = '768'\n",
    "display(renderer)"
   ]
  },
  {
   "cell_type": "markdown",
   "metadata": {},
   "source": [
    "### Estimate motor using 2 residuals"
   ]
  },
  {
   "cell_type": "code",
   "execution_count": null,
   "metadata": {
    "collapsed": false
   },
   "outputs": [],
   "source": [
    "motor = vsr.Vec(1,1,1).trs() * vsr.Rot(vsr.Biv(0,1,0) * np.pi/6.0)\n",
    "noise_motor_plane = vsr.Vec(0.1,0.1,0.1).trs() * vsr.Rot(vsr.Biv(1,0,0) * np.pi/24)\n",
    "initial_motor = vsr.Mot(1.0, 0.0, 0.0, 0.0, 0.0, 0.0, 0.0, 0.0)\n",
    "mes = MotorEstimationSolver(initial_motor)\n",
    "for a, b in zip(planes_a, planes_b):\n",
    "#     mes.add_dual_plane_angle_error_residual_block(a,b.spin(noise_motor_plane))\n",
    "    mes.add_dual_plane_angle_error_residual_block(a,b)\n",
    "\n",
    "mes.set_parameterization('BIVECTOR_GENERATOR')\n",
    "mes.linear_solver_type = \"DENSE_QR\"\n",
    "mes.function_tolerance = 1e-8\n",
    "mes.max_num_iterations = 100\n",
    "estimated_motor, pln_summary_1 = mes.solve()\n",
    "print(pln_summary_1['brief_report'])"
   ]
  },
  {
   "cell_type": "code",
   "execution_count": null,
   "metadata": {
    "collapsed": false
   },
   "outputs": [],
   "source": [
    "print(np.array(motor))\n",
    "print(np.array(estimated_motor))\n",
    "print(np.allclose(np.array(motor), np.array(estimated_motor)))\n",
    "print(np.allclose(np.array(motor), np.array(estimated_motor), \n",
    "                  rtol=1e-05, atol=1e-05))"
   ]
  },
  {
   "cell_type": "code",
   "execution_count": null,
   "metadata": {
    "collapsed": false
   },
   "outputs": [],
   "source": [
    "fig, ax = plt.subplots(1)\n",
    "\n",
    "# ax.set_aspect('equal')\n",
    "plt.set_cmap('gray')\n",
    "\n",
    "almost_black = '#262626'\n",
    "spines_to_remove = ['top', 'right']\n",
    "for spine in spines_to_remove:\n",
    "    ax.spines[spine].set_visible(False)\n",
    "ax.xaxis.set_ticks_position('none')\n",
    "ax.yaxis.set_ticks_position('none')\n",
    "\n",
    "spines_to_keep = ['bottom', 'left']\n",
    "for spine in spines_to_keep:\n",
    "    ax.spines[spine].set_linewidth(0.5)\n",
    "    ax.spines[spine].set_color(almost_black)\n",
    "ax.xaxis.label.set_color(almost_black)\n",
    "ax.yaxis.label.set_color(almost_black)\n",
    "\n",
    "ax.plot([it['cost'] for it in pln_summary_1['iterations'] ])\n",
    "\n",
    "ax.title.set_color(almost_black)\n",
    "ax.axhline(0, color=almost_black, linewidth=0.15)\n",
    "ax.axvline(0, color=almost_black, linewidth=0.15)\n",
    "\n",
    "# Remove the line around the legend box, and instead fill it with a light grey\n",
    "# Also only use one point for the scatterplot legend because the user will \n",
    "# get the idea after just one, they don't need three.\n",
    "\n",
    "# light_grey = np.array([float(248)/float(255)]*3)\n",
    "# legend = ax.legend(frameon=True, scatterpoints=1)\n",
    "# rect = legend.get_frame()\n",
    "# rect.set_facecolor(light_grey)\n",
    "# rect.set_linewidth(0.0)\n",
    "\n",
    "plt.xlabel(r'Iteration $k$')\n",
    "plt.ylabel(r'Cost')\n",
    "\n",
    "\n",
    "# plt.savefig('/Users/lars/Dropbox/Apps/ShareLaTeX/2016-gacse/figures/cost_planes.pdf')"
   ]
  },
  {
   "cell_type": "markdown",
   "metadata": {},
   "source": [
    "### Estimate motor using Valkenburg-Dorst solver"
   ]
  },
  {
   "cell_type": "code",
   "execution_count": null,
   "metadata": {
    "collapsed": false
   },
   "outputs": [],
   "source": [
    "vd = VDMotorEstimationSolver()\n",
    "vd.add_dual_plane_observations(planes_a, planes_b)\n",
    "vd_estimated_motor = vd.solve()\n",
    "print(vd_estimated_motor)"
   ]
  },
  {
   "cell_type": "markdown",
   "metadata": {},
   "source": [
    "#### Check solution"
   ]
  },
  {
   "cell_type": "code",
   "execution_count": null,
   "metadata": {
    "collapsed": false
   },
   "outputs": [],
   "source": [
    "print(np.array(motor))\n",
    "print(np.array(vd_estimated_motor))\n",
    "print(np.allclose(motor, vd_estimated_motor))"
   ]
  },
  {
   "cell_type": "markdown",
   "metadata": {},
   "source": [
    "## Motor Estimation from heterogeneous conformal objects"
   ]
  },
  {
   "cell_type": "markdown",
   "metadata": {},
   "source": [
    "### Estimate motor using Valkenburg-Dorst solver"
   ]
  },
  {
   "cell_type": "code",
   "execution_count": null,
   "metadata": {
    "collapsed": false
   },
   "outputs": [],
   "source": [
    "vd = VDMotorEstimationSolver()\n",
    "vd.add_point_observations(points_a, points_b)\n",
    "vd.add_dual_line_observations(lines_a, lines_b)\n",
    "vd.add_dual_plane_observations(planes_a, planes_b)\n",
    "vd_estimated_motor = vd.solve()\n",
    "print(vd_estimated_motor)"
   ]
  },
  {
   "cell_type": "markdown",
   "metadata": {},
   "source": [
    "#### Check solution"
   ]
  },
  {
   "cell_type": "code",
   "execution_count": null,
   "metadata": {
    "collapsed": false,
    "scrolled": true
   },
   "outputs": [],
   "source": [
    "print(np.array(motor))\n",
    "print(np.array(vd_estimated_motor))\n",
    "print(np.allclose(motor, vd_estimated_motor))"
   ]
  },
  {
   "cell_type": "code",
   "execution_count": null,
   "metadata": {
    "collapsed": false
   },
   "outputs": [],
   "source": [
    "initial_motors = [vd_estimated_motor]\n",
    "vd_summaries_no_noise = []\n",
    "estimated_motors = []\n",
    "for initial_motor in initial_motors:\n",
    "    mes = MotorEstimationSolver(initial_motor)\n",
    "    for a, b in zip(planes_a, planes_b):\n",
    "        mes.add_dual_plane_angle_error_residual_block(a,b)\n",
    "    for a, b in zip(lines_a, lines_b):\n",
    "        mes.add_line_correspondences_residual_block(a,b)\n",
    "    for a, b in zip(points_a, points_b):\n",
    "        mes.add_point_correspondences_residual_block(a,b)\n",
    "    mes.set_parameterization('BIVECTOR_GENERATOR')\n",
    "    mes.linear_solver_type = \"DENSE_QR\"\n",
    "    mes.max_num_iterations = 100\n",
    "    mes.function_tolerance = 1e-2\n",
    "    em, summary_het = mes.solve()\n",
    "    estimated_motors.append(em)\n",
    "    vd_summaries_no_noise.append(summary_het)\n",
    "    print(np.array(initial_motor))\n",
    "    print(np.array(motor))\n",
    "    print(np.array(em))\n",
    "    print(summary_het['brief_report'])"
   ]
  },
  {
   "cell_type": "code",
   "execution_count": null,
   "metadata": {
    "collapsed": false
   },
   "outputs": [],
   "source": [
    "motor = vsr.Vec(1,1,1).trs() * vsr.Rot(vsr.Biv(0,1,0) * np.pi/6.0)\n",
    "noise_motor = vsr.Vec(0.1,0.1,0.1).trs() * vsr.Rot(vsr.Biv(1,0,0) * np.pi/100)\n",
    "\n",
    "noise_motor_plane = vsr.Vec(0.05,0.05,0.05).trs() * vsr.Rot(vsr.Biv(1,0,0) * np.pi/100)\n",
    "noise_motor_lines = vsr.Vec(-0.01,-0.01,-0.01).trs() * vsr.Rot(vsr.Biv(0,1,0) * (-np.pi/100))\n",
    "noise_motor_points = vsr.Vec(0.1,0.1,0.1).trs() * vsr.Rot(vsr.Biv(0,0,1) * (np.pi/100))\n",
    "\n",
    "# initial_motor = vsr.Mot(1.0, 0.0, 0.0, 0.0, 0.0, 0.0, 0.0, 0.0)\n",
    "\n",
    "initial_motors = [vsr.Mot(1.0, 0.0, 0.0, 0.0, 0.0, 0.0, 0.0, 0.0),\n",
    "                  vsr.Vec(0.1,0.1,0.1).trs() * vsr.Rot(vsr.Biv(0,1,0) * (np.pi/6.0 + np.pi/2.))]\n",
    "\n",
    "labels = [\"1\", \"$\\pi$\"]\n",
    "summaries_no_noise = []\n",
    "estimated_motors_no_noise = []\n",
    "for initial_motor in initial_motors:\n",
    "    mes = MotorEstimationSolver(initial_motor)\n",
    "    for a, b in zip(planes_a, planes_b):\n",
    "        mes.add_dual_plane_angle_error_residual_block(a,b)\n",
    "    for a, b in zip(lines_a, lines_b):\n",
    "        mes.add_line_correspondences_residual_block(a,b)\n",
    "    for a, b in zip(points_a, points_b):\n",
    "        mes.add_point_correspondences_residual_block(a,b)\n",
    "    mes.set_parameterization('BIVECTOR_GENERATOR')\n",
    "    mes.linear_solver_type = \"DENSE_QR\"\n",
    "    mes.max_num_iterations = 100\n",
    "    em, summary_het = mes.solve()\n",
    "    estimated_motors_no_noise.append(em)\n",
    "    summaries_no_noise.append(summary_het)\n",
    "    print(initial_motor)\n",
    "#     print(motor)\n",
    "    print(em)\n",
    "\n",
    "#     print(np.array(motor))\n",
    "#     print(np.array(estimated_motor))\n",
    "#     print(np.allclose(np.array(motor), np.array(estimated_motor)))\n",
    "#     print(np.allclose(np.array(motor), np.array(estimated_motor), \n",
    "#                       rtol=1e-05, atol=1e-5))\n",
    "    print(summary_het['brief_report'])\n",
    "    print()"
   ]
  },
  {
   "cell_type": "code",
   "execution_count": null,
   "metadata": {
    "collapsed": false
   },
   "outputs": [],
   "source": [
    "for s,l in zip(summaries_no_noise, labels):\n",
    "    plt.plot([it['cost'] for it in s['iterations']], label=l)\n",
    "plt.semilogy()\n",
    "plt.legend()"
   ]
  },
  {
   "cell_type": "markdown",
   "metadata": {},
   "source": [
    "## With noise"
   ]
  },
  {
   "cell_type": "code",
   "execution_count": null,
   "metadata": {
    "collapsed": false
   },
   "outputs": [],
   "source": [
    "motor = vsr.Vec(1,1,1).trs() * vsr.Rot(vsr.Biv(0,1,0) * np.pi/6.0)\n",
    "\n",
    "noise_motor_planes = vsr.Vec(0.05,0.05,0.05).trs() * vsr.Rot(vsr.Biv(1,0,0) * np.pi/100)\n",
    "noise_motor_lines = vsr.Vec(-0.01,-0.01,-0.01).trs() * vsr.Rot(vsr.Biv(0,1,0) * (-np.pi/100))\n",
    "noise_motor_points = vsr.Vec(0.1,0.1,0.1).trs() * vsr.Rot(vsr.Biv(0,0,1) * (np.pi/100))\n",
    "\n",
    "points_b_noisy = [b.spin(noise_motor_points) for b in points_b]\n",
    "lines_b_noisy = [b.spin(noise_motor_lines) for b in lines_b]\n",
    "planes_b_noisy = [b.spin(noise_motor_planes) for b in planes_b]"
   ]
  },
  {
   "cell_type": "markdown",
   "metadata": {},
   "source": [
    "### Estimate motor using Valkenburg-Dorst solver"
   ]
  },
  {
   "cell_type": "code",
   "execution_count": null,
   "metadata": {
    "collapsed": false
   },
   "outputs": [],
   "source": [
    "vd = VDMotorEstimationSolver()\n",
    "vd.add_point_observations(points_a, points_b_noisy)\n",
    "vd.add_dual_line_observations(lines_a, lines_b_noisy)\n",
    "vd.add_dual_plane_observations(planes_a, planes_b_noisy)\n",
    "vd_estimated_motor = vd.solve()\n",
    "print(vd_estimated_motor)"
   ]
  },
  {
   "cell_type": "markdown",
   "metadata": {},
   "source": [
    "#### Check solution"
   ]
  },
  {
   "cell_type": "code",
   "execution_count": null,
   "metadata": {
    "collapsed": false,
    "scrolled": true
   },
   "outputs": [],
   "source": [
    "print(np.array(motor))\n",
    "print(np.array(vd_estimated_motor))\n",
    "print(np.allclose(motor, vd_estimated_motor))"
   ]
  },
  {
   "cell_type": "code",
   "execution_count": null,
   "metadata": {
    "collapsed": false
   },
   "outputs": [],
   "source": [
    "d = [np.linalg.norm(np.array(a.spin(vd_estimated_motor)) - np.array(a.spin(motor))) for a in points_a]\n",
    "print(np.mean(d), np.std(d))"
   ]
  },
  {
   "cell_type": "code",
   "execution_count": null,
   "metadata": {
    "collapsed": false
   },
   "outputs": [],
   "source": [
    "# initial_motors = [vsr.Mot(1.0, 0.0, 0.0, 0.0, 0.0, 0.0, 0.0, 0.0),\n",
    "#                   vsr.Vec(1,1,1).trs() * vsr.Rot(vsr.Biv(0,1,0) * (np.pi/6.0 + np.pi/2))]\n",
    "summaries_noise = []\n",
    "estimated_motors_noise = []\n",
    "for initial_motor in initial_motors:\n",
    "    mes = MotorEstimationSolver(initial_motor)\n",
    "    for a, b in zip(planes_a, planes_b_noisy):\n",
    "        mes.add_dual_plane_angle_error_residual_block(a,b)\n",
    "    for a, b in zip(lines_a, lines_b_noisy):\n",
    "        mes.add_line_correspondences_residual_block(a,b)\n",
    "    for a, b in zip(points_a, points_b_noisy):\n",
    "        mes.add_point_correspondences_residual_block(a,b)\n",
    "    mes.set_parameterization('BIVECTOR_GENERATOR')\n",
    "    mes.linear_solver_type = \"DENSE_QR\"\n",
    "    mes.max_num_iterations = 100\n",
    "#     mes.function_tolerance = 1e-4\n",
    "    em, summary_het = mes.solve()\n",
    "    estimated_motors_noise.append(em)\n",
    "    summaries_noise.append(summary_het)\n",
    "    print(np.array(initial_motor))\n",
    "#     print(np.array(motor))\n",
    "#     print(np.array(em))\n",
    "    print(summary_het['brief_report'])"
   ]
  },
  {
   "cell_type": "code",
   "execution_count": null,
   "metadata": {
    "collapsed": false
   },
   "outputs": [],
   "source": [
    "d = [[np.linalg.norm(np.array(a.spin(em)) - \n",
    "                np.array(a.spin(motor))) for a in points_a] for em in estimated_motors_noise]\n",
    "for d in d:\n",
    "    print(np.mean(d), np.std(d))"
   ]
  },
  {
   "cell_type": "code",
   "execution_count": null,
   "metadata": {
    "collapsed": false
   },
   "outputs": [],
   "source": [
    "initial_motors = [vd_estimated_motor]\n",
    "vd_summaries_noise = []\n",
    "estimated_motors = []\n",
    "for initial_motor in initial_motors:\n",
    "    mes = MotorEstimationSolver(initial_motor)\n",
    "    for a, b in zip(planes_a, planes_b_noisy):\n",
    "        mes.add_dual_plane_angle_error_residual_block(a,b)\n",
    "    for a, b in zip(lines_a, lines_b_noisy):\n",
    "        mes.add_line_correspondences_residual_block(a,b)\n",
    "    for a, b in zip(points_a, points_b_noisy):\n",
    "        mes.add_point_correspondences_residual_block(a,b)\n",
    "    mes.set_parameterization('BIVECTOR_GENERATOR')\n",
    "    mes.linear_solver_type = \"DENSE_QR\"\n",
    "    mes.max_num_iterations = 100\n",
    "#     mes.function_tolerance = 1e-5\n",
    "    em, summary_het = mes.solve()\n",
    "    estimated_motors.append(em)\n",
    "    vd_summaries_noise.append(summary_het)\n",
    "    print(np.array(initial_motor))\n",
    "    print(np.array(motor))\n",
    "    print(np.array(em))\n",
    "    print(summary_het['brief_report'])"
   ]
  },
  {
   "cell_type": "code",
   "execution_count": null,
   "metadata": {
    "collapsed": false
   },
   "outputs": [],
   "source": [
    "for s,l in zip(summaries_no_noise, labels):\n",
    "    plt.plot([it['cost'] for it in s['iterations']], label=l)\n",
    "for s,l in zip(summaries_noise, labels):\n",
    "    plt.plot([it['cost'] for it in s['iterations']], label=l)\n",
    "plt.axhline(y=vd_summaries_noise[0]['iterations'][0]['cost'])\n",
    "plt.axhline(y=vd_summaries_no_noise[0]['iterations'][0]['cost'])\n",
    "plt.semilogy()\n",
    "plt.legend()"
   ]
  },
  {
   "cell_type": "code",
   "execution_count": null,
   "metadata": {
    "collapsed": false
   },
   "outputs": [],
   "source": [
    "for s in summaries:\n",
    "    plt.plot([it['cost'] for it in s['iterations']])\n",
    "plt.semilogy()"
   ]
  },
  {
   "cell_type": "code",
   "execution_count": null,
   "metadata": {
    "collapsed": false
   },
   "outputs": [],
   "source": [
    "d = [[np.linalg.norm(np.array(a.spin(em)) - \n",
    "                np.array(a.spin(motor))) for a in points_a] for em in estimated_motors]\n",
    "for d in d:\n",
    "    print(np.mean(d), np.std(d))"
   ]
  },
  {
   "cell_type": "code",
   "execution_count": null,
   "metadata": {
    "collapsed": false
   },
   "outputs": [],
   "source": [
    "fig, ax = plt.subplots(1)\n",
    "\n",
    "ax.set_aspect('equal')\n",
    "\n",
    "almost_black = '#262626'\n",
    "spines_to_remove = ['top', 'right']\n",
    "for spine in spines_to_remove:\n",
    "    ax.spines[spine].set_visible(False)\n",
    "ax.xaxis.set_ticks_position('none')\n",
    "ax.yaxis.set_ticks_position('none')\n",
    "\n",
    "spines_to_keep = ['bottom', 'left']\n",
    "for spine in spines_to_keep:\n",
    "    ax.spines[spine].set_linewidth(0.5)\n",
    "    ax.spines[spine].set_color(almost_black)\n",
    "ax.xaxis.label.set_color(almost_black)\n",
    "ax.yaxis.label.set_color(almost_black)\n",
    "\n",
    "# ax.grid(which=\"both\")\n",
    "\n",
    "ax.axhline(y=vd_summaries_noise[0]['iterations'][0]['cost'], \n",
    "           ls=\"-\", lw=0.75,c='black',label=\"V\\&D~[26], With noise\")\n",
    "ax.axhline(y=vd_summaries_no_noise[0]['iterations'][0]['cost'],\n",
    "           ls=\"--\", lw=0.75,c='black',label=\"V\\&D~[26], Without noise\")\n",
    "\n",
    "ax.plot([it['cost'] for it in summaries_no_noise[1]['iterations']], label=r\"Without noise, $\\bar{\\theta}_0 = \\pi$\")\n",
    "ax.plot([it['cost'] for it in summaries_no_noise[0]['iterations']], label=r\"Without noise, $\\bar{\\theta}_0 = {\\pi \\over 3}$\")\n",
    "\n",
    "\n",
    "ax.plot([it['cost'] for it in summaries_noise[1]['iterations']], label=r\"With noise, $\\bar{\\theta}_0 = \\pi$\")\n",
    "ax.plot([it['cost'] for it in summaries_noise[0]['iterations']], label=r\"With noise, $\\bar{\\theta}_0 = {\\pi \\over 3}$\")\n",
    "\n",
    "\n",
    "\n",
    "ax.semilogy()\n",
    "\n",
    "# ax.set_yscale('log')\n",
    "\n",
    "ax.title.set_color(almost_black)\n",
    "ax.axhline(0, color=almost_black, linewidth=0.15)\n",
    "ax.axvline(0, color=almost_black, linewidth=0.15)\n",
    "\n",
    "# Remove the line around the legend box, and instead fill it with a light grey\n",
    "# Also only use one point for the scatterplot legend because the user will \n",
    "# get the idea after just one, they don't need three.\n",
    "\n",
    "light_grey = np.array([float(248)/float(255)]*3)\n",
    "legend = ax.legend(frameon=True, scatterpoints=1)\n",
    "rect = legend.get_frame()\n",
    "rect.set_facecolor(light_grey)\n",
    "rect.set_linewidth(0.0)\n",
    "\n",
    "\n",
    "\n",
    "\n",
    "plt.xlabel(r'Iteration $k$')\n",
    "plt.ylabel(r'Cost')\n",
    "\n",
    "\n",
    "plt.savefig('/home/lars/Dropbox/PhD/latex/2016-05-18_-_AACA-D-16-00064_Manuscript_Tingelstad_Egeland/cost_heterogeneous2.pdf')"
   ]
  },
  {
   "cell_type": "code",
   "execution_count": null,
   "metadata": {
    "collapsed": true
   },
   "outputs": [],
   "source": []
  },
  {
   "cell_type": "code",
   "execution_count": null,
   "metadata": {
    "collapsed": true
   },
   "outputs": [],
   "source": []
  }
 ],
 "metadata": {
  "kernelspec": {
   "display_name": "Python 2",
   "language": "python",
   "name": "python2"
  },
  "language_info": {
   "codemirror_mode": {
    "name": "ipython",
    "version": 2
   },
   "file_extension": ".py",
   "mimetype": "text/x-python",
   "name": "python",
   "nbconvert_exporter": "python",
   "pygments_lexer": "ipython2",
   "version": "2.7.11+"
  },
  "widgets": {
   "state": {
    "0016c47dc3864a50a60f84722192fb57": {
     "views": []
    },
    "002d593ba83d475b968165123c3bbd06": {
     "views": []
    },
    "00bd19d54f5b4d669ae484fafd34afea": {
     "views": []
    },
    "00ee8ccf0cca4da6ae7c3a135b227317": {
     "views": []
    },
    "013fbb3d3f064b1bb9b6718cda20a1a1": {
     "views": []
    },
    "019948c596e542798b5c938f0968e925": {
     "views": []
    },
    "022b7e964f9f498c98acb904a707e688": {
     "views": []
    },
    "0277d7e7516946d8bfa3dbdc2d0eda1c": {
     "views": []
    },
    "0297edb4830c41caad13d8ba0ae8b947": {
     "views": []
    },
    "02ae1f1a2ec045f6ab3849a33f85749f": {
     "views": []
    },
    "035d13f0793243dcbe8847c72704f684": {
     "views": []
    },
    "038b95aedbcf4a4babbfe3cc5d31040f": {
     "views": []
    },
    "03e7c85cafd14d10943d6177ca541be9": {
     "views": []
    },
    "03f81c79fc2b4d38bd0a422bb33de2d7": {
     "views": []
    },
    "03f88abff76a4f92874cc90f537aa5dd": {
     "views": []
    },
    "04086be725a54f58829262d54fefcadd": {
     "views": []
    },
    "0451923dddfe4ff8a919ea8d812f2224": {
     "views": []
    },
    "04a1a419c7c54a5b90617a601b5b90c5": {
     "views": []
    },
    "04de345a49374901806e2ff23bfc5491": {
     "views": []
    },
    "04f800994f1141f186af03e2ae2b8dd8": {
     "views": []
    },
    "050779e830754434be2120d6fb2a716a": {
     "views": []
    },
    "053629358e624c88abbe82915ac40184": {
     "views": []
    },
    "056cfffd18864808826d5ef95714c4b2": {
     "views": []
    },
    "05de51d34be24cf8be0691a5a9c0261e": {
     "views": []
    },
    "05eeaf71f4c8419eb65e730ac5c816c1": {
     "views": []
    },
    "061e32a8ebdd4c53a5fd6b21b965b78b": {
     "views": []
    },
    "061f564fa99e4a9a850d19666ee41f1c": {
     "views": []
    },
    "064084f3757c4766ab022c38b8cf6dc7": {
     "views": []
    },
    "06414fa990ec400c860342718532659d": {
     "views": []
    },
    "069027ee83e643a6895820354ee3ecb8": {
     "views": []
    },
    "06a1a3f34caf4e66adce328c85d100a0": {
     "views": []
    },
    "06a7675006a3428e9411760b4363e095": {
     "views": []
    },
    "06b23aad86584a74b3a8c863ae552d4b": {
     "views": []
    },
    "06d9b6cca1de457c98e35e2a2dc3f86d": {
     "views": []
    },
    "071bf742102f48cbb39c7c47c67319a1": {
     "views": []
    },
    "07aae7f0ec354764818cfc50a07c4169": {
     "views": []
    },
    "07ae16747fb0430a929628c076fb0d46": {
     "views": []
    },
    "07e5229c9de140518b5f8c2676e11738": {
     "views": []
    },
    "0808fe2c79fc443bb5d161688d1420ac": {
     "views": []
    },
    "087d29a2588244f397f06150a7debf46": {
     "views": []
    },
    "088ee95da3ce4118b6a8ea7c122a46e4": {
     "views": []
    },
    "08caa45cc056458b9b9b51915bb1cb66": {
     "views": []
    },
    "08f4d876d910444ca32c2bafe4b7343f": {
     "views": []
    },
    "0976ce4ff6df45d2beda8169d916e255": {
     "views": []
    },
    "099ce40e2e544140875d896aa120ac2a": {
     "views": []
    },
    "09a3907293204e439aa6170fe180b0d6": {
     "views": []
    },
    "09befc19a7e440cda61f8004a895ba4e": {
     "views": []
    },
    "0a4c95ffc4324c76b581c9c0e6009e06": {
     "views": []
    },
    "0a4dd914268341eda19a521822ab3012": {
     "views": []
    },
    "0b5125009d8647558f64546c3ca4072e": {
     "views": []
    },
    "0b7648832a7c4ee1825a43257fbaade5": {
     "views": []
    },
    "0bacca74adc344e5b0cf83097058c432": {
     "views": []
    },
    "0bccd77fe60c40cba74daa5848b95072": {
     "views": []
    },
    "0bce514145ea4fcd95b6d10be4b1d6b7": {
     "views": []
    },
    "0c0731d811a74634be0ae7d3a9c2a5f8": {
     "views": []
    },
    "0c1c51a97eab4ab78c34f737344484f8": {
     "views": []
    },
    "0c679e9da2244d41b02e38ef2e6c72c3": {
     "views": []
    },
    "0c6d3cf1714e4025a010dea1e9ec4dd0": {
     "views": []
    },
    "0cc01ce24552498d89f7c7a77d7901d8": {
     "views": []
    },
    "0d23f9f91787466ca993e06b8719f90e": {
     "views": []
    },
    "0d8e1b72626b4705ae24687e39d22a66": {
     "views": []
    },
    "0dad901a0895492bbdc98958ef3855fb": {
     "views": []
    },
    "0def4034701c4c159dc0e3e5271ff238": {
     "views": []
    },
    "0df4c188b0684c9db346d2d9c2310a2f": {
     "views": []
    },
    "0e2162c2579e427588c16f075065f909": {
     "views": []
    },
    "0e31bafcd76944e598ab0f8373e8bd16": {
     "views": []
    },
    "0e402598f3cc42eda95443733d5c6eb9": {
     "views": []
    },
    "0e9f79dec5544bc88967cff6f19a0d6e": {
     "views": []
    },
    "0eb966131093422392b6ff84e7e68aec": {
     "views": []
    },
    "0ec931f80239407f9c715b4d5b3b23c0": {
     "views": []
    },
    "0f063954bc984da98c7444b2568b542d": {
     "views": []
    },
    "0f3db6e4324e4782809ad49fda29fafe": {
     "views": []
    },
    "0f572ebbfa764a58879bfaed56848cd7": {
     "views": []
    },
    "0fbce6372f584849bd6361991d253c9b": {
     "views": []
    },
    "0fe1eaeec45c4d0e8822243d25f340a6": {
     "views": []
    },
    "0fea693f0b684eee98b5c1eb63fbc43b": {
     "views": []
    },
    "100088a86adc4ae599d65bb92b701982": {
     "views": []
    },
    "101b3ac7d40047b1b02fe59d17bb694e": {
     "views": []
    },
    "105c3bb3bb764cd3aec774597be20636": {
     "views": []
    },
    "107a5fecbf244a6e98476f569a1124dc": {
     "views": []
    },
    "10a99a5a27624f53a1f73408628b1120": {
     "views": []
    },
    "10d132fdecae46a18c17ea6e08ddf5dd": {
     "views": []
    },
    "10d6fa68e7c44711a7389d75a3f39cd6": {
     "views": []
    },
    "10f00a8685c14719bf23fd96f517d7a2": {
     "views": []
    },
    "10f3a88fdde242029ed7fdd4396e16f8": {
     "views": []
    },
    "11453f40033e43ee976e534d8e2d0f6a": {
     "views": []
    },
    "114c9b91f73a4bb79082c7fe1d12a16e": {
     "views": []
    },
    "1163b89f524e411db1a150254aa543e4": {
     "views": []
    },
    "121f2e99060e4158b3b91f6b16e08b12": {
     "views": []
    },
    "1223298ba60647e8a482fb479516afe4": {
     "views": []
    },
    "1273f9fcbedc44709328dc665c27a784": {
     "views": []
    },
    "12f3366d98404491a0e7b7783782385c": {
     "views": []
    },
    "12f534ddb74f4adc95b598e512dac444": {
     "views": []
    },
    "1319abca854b404092d87d075324080a": {
     "views": []
    },
    "13a4e306fc44405bbe9972e31614ec56": {
     "views": []
    },
    "13f5f245af494ed5b5cdc74f71115e51": {
     "views": []
    },
    "1414df9fc99c47ff912d185e687dc817": {
     "views": []
    },
    "148f04bde23c4c0ca275058e0dac4be9": {
     "views": []
    },
    "14e05792310d4651b82e027b75e3721f": {
     "views": []
    },
    "14eed0dec6b44968af85ab2a1a3910f3": {
     "views": []
    },
    "157a7e7f941642f9bf13e2f53f92e7cb": {
     "views": []
    },
    "1648f13178d4484b955734613e96fa96": {
     "views": []
    },
    "16610f70705d4a8ebc19cb16e08d0b9d": {
     "views": []
    },
    "1676437618354f9ea386a65c6033d9d9": {
     "views": []
    },
    "16c2a8e92ed14660847b6297e9f3f011": {
     "views": []
    },
    "16c32432d98044e3a9589af2a651646f": {
     "views": []
    },
    "16f2e82e0cf14e77a593feeeec24c414": {
     "views": []
    },
    "175aedf7cf7349f2a7a68988493fa45b": {
     "views": []
    },
    "176b36cbbab1411485bec6ca8afd116f": {
     "views": []
    },
    "18712a11b7a54e14abc5acfd5af585ff": {
     "views": []
    },
    "18862503725642acb7552851a580400a": {
     "views": []
    },
    "18a81324edfe4d5dbc9ac96804e62af7": {
     "views": []
    },
    "1929b3f1aa9e44e488651f7e8e644668": {
     "views": []
    },
    "19849592103a4646911cae5365d9e5f3": {
     "views": []
    },
    "19aeae63e65849689f4ef30702c4b743": {
     "views": []
    },
    "19d514c4ed0f4e648c9f895f0caf3c0f": {
     "views": [
      {
       "cell_index": 69
      }
     ]
    },
    "1a3c08fbc64b4e2db2da91b24b28a8d5": {
     "views": []
    },
    "1a7bbb27e08b420eb16550bcd6423363": {
     "views": []
    },
    "1a877b42993a40e491b097ab4754293e": {
     "views": []
    },
    "1ae991b3b584421083bdde4bd799c518": {
     "views": []
    },
    "1b44379e54ea4e12bd81af442fea728a": {
     "views": []
    },
    "1b60c319a981413289c0d3fe80a356da": {
     "views": []
    },
    "1b98570280f94fbdba8c1870e0f569be": {
     "views": []
    },
    "1bb176fd19234d4598b476356694ba03": {
     "views": []
    },
    "1bc2190cb4204cabb184a21f35c91e94": {
     "views": []
    },
    "1c59ba4a92f942e0bddfdbd52805a6de": {
     "views": []
    },
    "1c8bd7edf14643ed84bcbd06b126c488": {
     "views": []
    },
    "1d0bf936abba43e4968251a8ffbcf4c2": {
     "views": []
    },
    "1d207487041c485d8f152924be634c7b": {
     "views": []
    },
    "1d7edc2ab95d40398cc3cdee20d7a7bb": {
     "views": []
    },
    "1d85fa4f9e614abbb31d94686c966c91": {
     "views": []
    },
    "1da3e841e097430b855e860fb569676e": {
     "views": []
    },
    "1e1d973e9df74447829147e0b1634a53": {
     "views": []
    },
    "1ea08814f0354c0ba6ab51fea433f20f": {
     "views": []
    },
    "1eb1f0bec6f141f8a2833810c0bd25b6": {
     "views": []
    },
    "1ec3d3987db141c78d58430347a1cead": {
     "views": []
    },
    "1edc5d27bfca483fbb8a97d386d44f44": {
     "views": []
    },
    "1ee75ff8fdc44b48baf7417d3d689aa1": {
     "views": []
    },
    "1ee7d2d07a214914919c573a7416035b": {
     "views": []
    },
    "1ef9673262ad43c4b62cc6ff52b53521": {
     "views": []
    },
    "1f850f28990f4284a7edb14006ad2f10": {
     "views": []
    },
    "1ff4a8ff290447b996eba9fe2b672605": {
     "views": []
    },
    "2024cf82129f41d88b71aeb21ec42522": {
     "views": []
    },
    "206c16a0911f4db2a147bb354d4eb325": {
     "views": []
    },
    "20a222b8d143481d8e5fcfc51a981f45": {
     "views": []
    },
    "210d42ddcc4a4c9498a0a1fd50f062a7": {
     "views": []
    },
    "213d1bb5b23e4f598ff59b2625670118": {
     "views": []
    },
    "214015796d064690befb69be3658e753": {
     "views": []
    },
    "21468d921a8e4071b4184d1a2d3127d2": {
     "views": []
    },
    "214cc4761d554d198dc95c73ee31ed05": {
     "views": []
    },
    "21b3f06184de4e04855e81df3fdcdfd1": {
     "views": []
    },
    "21c085df1e6842f7ac0f82ab170165d2": {
     "views": []
    },
    "21f024d5450247cba9a83e880d8b6703": {
     "views": []
    },
    "228ae419291c4130ad7186232047e9dd": {
     "views": []
    },
    "22b14d358e28459390ff16af8e07577c": {
     "views": []
    },
    "22b350c466194364874f1dba8ac39641": {
     "views": []
    },
    "236c4facf14b410ab5b61b56abbfa94b": {
     "views": []
    },
    "239add7bbdb645b3bc4ea61b15ca3b75": {
     "views": []
    },
    "23c791a1cfc64d1281f662d8e6dafb72": {
     "views": []
    },
    "23fcb9776bde4a84b4015000ee2edb6a": {
     "views": []
    },
    "243c8e5af4c84394800fc19178c6ef7a": {
     "views": []
    },
    "2473ff20006742228fa752a8c38d325d": {
     "views": []
    },
    "24c3dd939a8e465c985d32f205f34a95": {
     "views": []
    },
    "24cd79b0646a4ac6b831974e656f1d9f": {
     "views": []
    },
    "24f4aa92b243402b9b7d6ba7d29c4588": {
     "views": []
    },
    "257f66bbb4be49fcb26b581f8f2ad02c": {
     "views": []
    },
    "2588acb14ca140afa672a277edce40b7": {
     "views": []
    },
    "25a2cdf6a40d4520bc1909155cb29268": {
     "views": []
    },
    "25ac575a7ebf4b00acdac5b657b68490": {
     "views": []
    },
    "25c25f442e304425bcfe50f36d7a1d4e": {
     "views": []
    },
    "25fc7cbe83f24cd980c4af8798f2321d": {
     "views": []
    },
    "26109b5d7dc442ca98e675d7234c110d": {
     "views": []
    },
    "2631e91e122d4971b893b21ae09010a6": {
     "views": []
    },
    "2706f19460df4417af911fbb009f5bc4": {
     "views": []
    },
    "2775bd914fb5465e8cad1bb5c2313c75": {
     "views": []
    },
    "2794fea7998d419695c883322b54f744": {
     "views": []
    },
    "27e6fd2a6fb042e484abb313ce66d39c": {
     "views": []
    },
    "28600e6b23a64e0da5ea0bdeced540d5": {
     "views": []
    },
    "286b38b885b44fb693eba0034333518a": {
     "views": []
    },
    "28a833c75a654cf78681ee001507762b": {
     "views": []
    },
    "28c76c52ca854ddda68f9d2c8d4c0cb5": {
     "views": []
    },
    "28d2abd759dd4f3abc4792f68827d4d4": {
     "views": []
    },
    "28e1be9fa76c49d7a8588b295a404607": {
     "views": []
    },
    "28e53e954ceb4603b8175981f57ad3d1": {
     "views": []
    },
    "29513674f788475882ac37a0930a45d6": {
     "views": []
    },
    "29a68ba6792947e6b02e5832f8259090": {
     "views": []
    },
    "29b026fc9c5a4725932e94a0e4d54c9d": {
     "views": []
    },
    "29d2e403d8a64d329cf59dc8174a58e7": {
     "views": []
    },
    "29f43cc4b5024995ab441254053bed26": {
     "views": []
    },
    "2a2e92c6a6dc424199b6f9d7fd8fab08": {
     "views": []
    },
    "2a6707b5844c4e9795c26b11bb2c2ced": {
     "views": []
    },
    "2a6ccf00ca824d31b2972859a72d2812": {
     "views": []
    },
    "2a70b97107d14cf5bf40cfe2fe1f195e": {
     "views": []
    },
    "2ababd5559b84bc5a3c653abcc64fd66": {
     "views": []
    },
    "2ae4aca6da0a4d8e871f29f3d644191d": {
     "views": []
    },
    "2b6cd2616eb54733a865569a257e9109": {
     "views": []
    },
    "2bc7aa4fbcef4d9d8ea5fe9ca4513700": {
     "views": []
    },
    "2c4705e255ef41e39b762bb7143fa8e5": {
     "views": []
    },
    "2c622cd9e4424019a15626228c47d61c": {
     "views": []
    },
    "2cb1316230f14cdba32e32c4bcdf1aeb": {
     "views": []
    },
    "2cc5c8f469b54ff2b3f35d12538fdf00": {
     "views": []
    },
    "2ccd2d4250eb430a8928759bcc241502": {
     "views": []
    },
    "2cd853bc4c4948a48695b8b99aa13672": {
     "views": []
    },
    "2d56ffb3f3a94c1fbd606df806d1e39e": {
     "views": []
    },
    "2d83f57ee6464c74bf00bcc0ad48db48": {
     "views": []
    },
    "2da8e3886df4446e92a75e9bc0f9ab43": {
     "views": []
    },
    "2dc1c3a4aa384542a5e16f5d2b62009c": {
     "views": []
    },
    "2ddf704f50934bcc83e3339d07422b8f": {
     "views": []
    },
    "2deaaa8035ce47f0942bcde99d517f46": {
     "views": []
    },
    "2e28d65e81c94281a08cc60b5fdd70ac": {
     "views": []
    },
    "2e44bd547a6943dc8f450a884c5cfcd0": {
     "views": []
    },
    "2e4cd9f24d344db79e9a2625731765be": {
     "views": []
    },
    "2f5ea2cb923d485f978236479ba658d3": {
     "views": []
    },
    "2f924dd29081485f8a8d7cb40e197706": {
     "views": []
    },
    "2fa15f39e0ff4acc96ededf24d27ec60": {
     "views": []
    },
    "2fa7f77294654ab494b8369a9772fc79": {
     "views": []
    },
    "2facd8a3e4074b1f91b51350f7a85698": {
     "views": []
    },
    "2fbc865c713e44d9aa8a520a58c23144": {
     "views": []
    },
    "30161c1fc234428fbbddb254d99d5c24": {
     "views": []
    },
    "3051c43b67f54666810f2dd63ca5f192": {
     "views": []
    },
    "3070505773fa482584e88dc796e82371": {
     "views": []
    },
    "308b2298072e4a7b977705791ac8c2c3": {
     "views": []
    },
    "309b25c0941240a8b3bd1942b2d9ff62": {
     "views": []
    },
    "30a696248d224e81a0abd7f90ec20b9a": {
     "views": []
    },
    "30e59be40c6a4f9cb525961d27f43c9c": {
     "views": []
    },
    "31278b7b3a9d47a3b336ddf1e5288058": {
     "views": []
    },
    "3137b755667249828c8459095504c754": {
     "views": []
    },
    "316e03f2dd67458f848725d032b783fd": {
     "views": []
    },
    "31917b51a0ad4d5e870aaddaac6c3be3": {
     "views": []
    },
    "31aa2271052d430ea5c1e64c96db4c3d": {
     "views": []
    },
    "31d13906f231442999d9e13bcd1e5dc9": {
     "views": []
    },
    "3244f6fb4b844147b17e97dde77d0678": {
     "views": []
    },
    "327256ffc44c4bc78a8830ae0302fd42": {
     "views": []
    },
    "32c4d2aabb09469ca67e0bcb05660240": {
     "views": []
    },
    "330407223c264d29aed42b7de676c0ad": {
     "views": []
    },
    "33658a277cc44727b0d6f45a61bb5f3f": {
     "views": []
    },
    "33b9ce47201944b2b65669de8a1e72fc": {
     "views": []
    },
    "33f2bf4eb5b2457eb794b19b03b3a6fd": {
     "views": []
    },
    "344dd25311a04c12b15cea0f1830bfb6": {
     "views": []
    },
    "3456ff6f5dca42f6ab652514391e40fc": {
     "views": []
    },
    "34580313ada14819931f3ddbe320eae7": {
     "views": []
    },
    "345ae5f54ed74be9b32f5c1ba319afdc": {
     "views": []
    },
    "3474a03c92cf4049b72544beefd06be3": {
     "views": []
    },
    "3476d0bf44204ee6af3479b416be1d34": {
     "views": []
    },
    "34783f5abfce4adab9ee9729a1caebf9": {
     "views": []
    },
    "34e4251284884a4e853a8ffc1097a489": {
     "views": []
    },
    "34f27448f46546a9a616f4ebb1c3c77e": {
     "views": []
    },
    "3503dfc87aaf40e69fa67bc87ce7c583": {
     "views": []
    },
    "351f5101b7d740d1a54f5c03d55d5a2e": {
     "views": []
    },
    "3564f5c778b54da791defe751b745e4e": {
     "views": []
    },
    "3581d5eec76443dd95e122e9a8c741c4": {
     "views": []
    },
    "3592112400a145958565a94befb4f292": {
     "views": []
    },
    "35ce6ae8ac214f73b918e74e6b91fd0a": {
     "views": []
    },
    "368f0b6067794250bc71542097eaf03f": {
     "views": []
    },
    "36e9788adf2a43fb95ac0fc066a65cb6": {
     "views": []
    },
    "376fd27495a3428dac43ec9a33aa6f49": {
     "views": []
    },
    "37c0a195a6064e1abf59ff3132c5923a": {
     "views": []
    },
    "380fdd4dcc6f471ebf05360776ce8d4c": {
     "views": []
    },
    "38200feb8e6d477688a6924b97882cd5": {
     "views": []
    },
    "38a227f7200f4423b6b2ea027b355795": {
     "views": []
    },
    "38f5f37b4017492a8cd2b32564d21b86": {
     "views": []
    },
    "390fbd046a8c4ddabbbe312f675def40": {
     "views": []
    },
    "39514a75b8cf4628ac94108ded7cb7d9": {
     "views": []
    },
    "39f98cc257564c86ad0b92a1f144b748": {
     "views": []
    },
    "3aa3fa4742e748e0a91dbb4f599b26ce": {
     "views": []
    },
    "3ad2e59502e441fc8cdea4588486671a": {
     "views": []
    },
    "3addcb989fab443d81835f9306b3fcd1": {
     "views": []
    },
    "3ae111babe1943b08bf4a9eccf0a7bd4": {
     "views": []
    },
    "3afc4d683077492dbea41c1d21595992": {
     "views": []
    },
    "3b29e17602ba4fb2b074f0f856fa3abd": {
     "views": []
    },
    "3b56176881014e50896f3bca8b775118": {
     "views": []
    },
    "3ba89071beee444b8dc3eb4044280832": {
     "views": []
    },
    "3bd9fcb0416c426ba81a3791878f6c0d": {
     "views": []
    },
    "3c13e48abfb349e2a1a44ead27ee776d": {
     "views": []
    },
    "3c14c57a4abd46caa22fe963ff6e63ad": {
     "views": []
    },
    "3c244084b9164e349092d4a08fc85baa": {
     "views": []
    },
    "3c3837dfe0f04328839a1e45eaa18904": {
     "views": []
    },
    "3c82421ac6124ca19f68440c6525ead8": {
     "views": []
    },
    "3ca2be86c66d4b6cb27e1e8f6db7ef91": {
     "views": []
    },
    "3ce00df450ba4b88b8a7893d3318746c": {
     "views": []
    },
    "3ce4877a793c441988b4d5f29ce9701a": {
     "views": []
    },
    "3d63e6ca3317456ca88e6055a6bda349": {
     "views": []
    },
    "3e60f759a4d24f78a676788c9ec201f7": {
     "views": []
    },
    "3e74e6560d9344b58eacd1395a0fcbe7": {
     "views": []
    },
    "3ec086f6ab404d09bfc2cf2b5e1cf488": {
     "views": []
    },
    "3f03f765897b4f6384881a072ede8a8a": {
     "views": []
    },
    "3f785b7795024c3c9a3a76d5b0e9783a": {
     "views": []
    },
    "3f86b2ae732746898143d5df3ef0748a": {
     "views": []
    },
    "3fe8ce1aa7a84023b450e0bed6f431cd": {
     "views": []
    },
    "3ff23c93499e46c6a4a8cd91c2c43d94": {
     "views": []
    },
    "4008adb18c784cb595fb2f6ae7ac4ff7": {
     "views": []
    },
    "400d06300877433a94672cd0b957bd6f": {
     "views": []
    },
    "40a85e512b6840ffb4e1cd70e7ee79a6": {
     "views": []
    },
    "40cd7e400359450985f13a45dc13433d": {
     "views": []
    },
    "40da12a156e74fbc95f2b73fe9fea429": {
     "views": []
    },
    "40ea333fd06a4573ac77743122fc2681": {
     "views": []
    },
    "40ee45bf5fa641719fbb109a7bf3890c": {
     "views": []
    },
    "4104985288fc4f3daa113bb61d240dc2": {
     "views": []
    },
    "4127173b8f21495a895ee7c7390aa244": {
     "views": []
    },
    "417f9c1d5cba4dcaa11ea8b681ebf392": {
     "views": []
    },
    "4191a59b50ad483999a8dc236e6c0564": {
     "views": []
    },
    "4207a221169e4d7bbddfa04c49d3f7de": {
     "views": []
    },
    "422c842eccf242b69dd6fedc41522925": {
     "views": []
    },
    "4241ecbe87c54a96b7578df35fe17eb8": {
     "views": []
    },
    "427fb898e1c44f3b80939e0e05b53961": {
     "views": []
    },
    "429ed8f60bd145768c4af15b9b7af748": {
     "views": []
    },
    "42a0ae8659dc48f7805c46dd7ab03d4e": {
     "views": []
    },
    "42ec76d889174de9bb36739f3e88687a": {
     "views": []
    },
    "4311ea723bbe4181a370af7166dee7bc": {
     "views": []
    },
    "436b18eb001d4f17a485071d178f0257": {
     "views": []
    },
    "43870f209f3449c8984cb66a2e1d3b29": {
     "views": []
    },
    "438989844508402ab036668d92f147de": {
     "views": []
    },
    "43d5b1144ab34706a0119d01ea856a7b": {
     "views": []
    },
    "43e979494f344b6c8820d70819554343": {
     "views": []
    },
    "43f0ef0df73f456892f559d2d1c8674a": {
     "views": []
    },
    "43f9dc5985df44eaa6d2322c8f64bab5": {
     "views": []
    },
    "4448164aab614a5b8d14739646c52035": {
     "views": []
    },
    "445766cad7af4688b972a82b3ea11b42": {
     "views": []
    },
    "4482b0fe347041bb8106158d2ea1bffc": {
     "views": []
    },
    "4487f55dd0cb48eb941d7c58c5fe0334": {
     "views": []
    },
    "44ab889d526342fa907d789799d348b0": {
     "views": []
    },
    "44d7fa3759354dd087393d6491525526": {
     "views": []
    },
    "44dfb301474b4c22be2a1720a73d2cae": {
     "views": []
    },
    "45a4ef2bc32e422ca8998aee2017f07c": {
     "views": []
    },
    "45d9a1bfc1164789ab02ea2cfa13f1dc": {
     "views": []
    },
    "45fc75a0d7ec46eb96f3a9733fd6c7a8": {
     "views": []
    },
    "465a013ee8c74873834cfe7b60ff4ffe": {
     "views": []
    },
    "466af7fd66ec419bbda04bd80a96dc69": {
     "views": []
    },
    "4707a3d5d31e46bcaf8cd10a9c46cbec": {
     "views": []
    },
    "470cdfd09f934ccf8bd4d8b31db174b0": {
     "views": []
    },
    "474fe03d3fa14ce2abfbd648682bac77": {
     "views": []
    },
    "4832acdda9494e33840502d21205e74a": {
     "views": []
    },
    "483706f57ec8415f857fdd5c25af05b5": {
     "views": []
    },
    "485dedf62e724a0fa1fbfbab7035a37e": {
     "views": []
    },
    "4940c982f6284d9ead7250d4d1ccf785": {
     "views": []
    },
    "4942ef59a01a48a183592c9e896e8411": {
     "views": []
    },
    "495b64fd806843cea02af7d997a34aeb": {
     "views": []
    },
    "49b8219ba09d40f6a8cc842a4ad2d0ec": {
     "views": []
    },
    "49d388c4d4d6401fb77feadfe84e1bf4": {
     "views": []
    },
    "4a016a770c334415a9d28bf214b7b948": {
     "views": []
    },
    "4a08130bbb034aed8510181a7ba5559d": {
     "views": []
    },
    "4a0fdb76cc1548869680c020c67de9c7": {
     "views": []
    },
    "4a21b44882d34f4fa350672b0a3f5680": {
     "views": []
    },
    "4aef6bbaf10f42889d214ffbff4e73a8": {
     "views": []
    },
    "4b59bf44d3754c31af757d9489fc6f38": {
     "views": []
    },
    "4b6924592b4749a69d7149dd881148b2": {
     "views": []
    },
    "4b965b2441b34a32acbc85466e559065": {
     "views": []
    },
    "4c0de40639d649039e9b18071d4305cf": {
     "views": []
    },
    "4cf1c5b325834d6f92d22c3cdacf139b": {
     "views": []
    },
    "4d112979c8a247b2961f9b1ce94e7154": {
     "views": []
    },
    "4d11b10c334b41968b283ed16a37cb0d": {
     "views": []
    },
    "4d1cca19eb2f4ad2806ecab9cb32a83e": {
     "views": []
    },
    "4d3e22535cb6466e9bc85f3b6ed855c2": {
     "views": []
    },
    "4d7545c2cf4a4806a7746714d9f393b4": {
     "views": []
    },
    "4dcf814f89584755bc46efb9bb2941d2": {
     "views": []
    },
    "4e56f3da23ef49108deab8cbf6bb744d": {
     "views": []
    },
    "4e5c8d088e6c451e9095518baf0a0e8d": {
     "views": []
    },
    "4e75268d6dda4cc4bf8595fa54c4d1a5": {
     "views": []
    },
    "4f0f76b763554477a1851130a382bf62": {
     "views": []
    },
    "4f15b648e78740bebca45980dd09b28c": {
     "views": []
    },
    "4f1dad97650f4a0d8bc38fac00c5104b": {
     "views": []
    },
    "4fcce6eb86ea4a2fa0b54d51d481b24b": {
     "views": []
    },
    "501887b622b245fe8dc2cda8ea6a1d4a": {
     "views": []
    },
    "50cc8f837e7f4b0f9ef322b9d7d6803a": {
     "views": []
    },
    "50ce50f1cd404dcc9ebb962af93ad534": {
     "views": []
    },
    "50fa2d1cd92d4a178454ff3c8d258b12": {
     "views": []
    },
    "51a95446f2b74aaa9e10a62af5d31358": {
     "views": []
    },
    "520a3821f1a0413cb5a23cbb0427dc2a": {
     "views": []
    },
    "52403b46b5714217b2662bd23d154e02": {
     "views": []
    },
    "52460294b8714adaa52fb309f475b426": {
     "views": []
    },
    "529e7a1f92734294bba37d6da386d96b": {
     "views": []
    },
    "5301ef45a03f4bebaf295942edfaf650": {
     "views": []
    },
    "531cf03ef38c4709994086420cab3f91": {
     "views": []
    },
    "5348c9cfade84d388fe2669c873228be": {
     "views": []
    },
    "541bf3c26c77493c80d3a130fd3e6028": {
     "views": []
    },
    "54233cbc139645aa9cc15f552db477db": {
     "views": []
    },
    "54448b2e319c49f6a20afdf0a5b0da5c": {
     "views": []
    },
    "5457d5f1e95b48e795e66398b4d3764a": {
     "views": []
    },
    "54711ab3345a4aa882da30e5277d7028": {
     "views": []
    },
    "54c02f2e2e9a4d528b6143b9cb5f3908": {
     "views": []
    },
    "54ee6257a1da4a52b0b627edb9c5939f": {
     "views": []
    },
    "54ef2c9d17a24dad869fd9024a2a56f5": {
     "views": []
    },
    "5570fe1e6e0644ddb6e22f37541ceade": {
     "views": []
    },
    "55710230ddc74565965d548be5ad2521": {
     "views": []
    },
    "561ec65e889640d293317a8388deee60": {
     "views": []
    },
    "562a498e484248a18007199748e683e1": {
     "views": []
    },
    "56333b5b0e6e4171964eacfdd508d66f": {
     "views": []
    },
    "56340c99ddb64ec7851f0c225029f2c2": {
     "views": []
    },
    "566ea7dd13dc495096001fdf0ae94b86": {
     "views": []
    },
    "567d913d023745369c310069a8f5dda6": {
     "views": []
    },
    "5693d3a10a4b4a048aa279e2360ae27c": {
     "views": []
    },
    "5696efedd49e4ce499adaf1a605de345": {
     "views": []
    },
    "5698fdc4de224012a3a1d7caee3bff33": {
     "views": []
    },
    "56fdeb756770450e90bee879c71463bf": {
     "views": []
    },
    "5715911903784a77b180543f4aa4c9df": {
     "views": []
    },
    "5765ce2bfd7244bb96867e7980caa270": {
     "views": []
    },
    "57c259e95e254c6da8faecc75201778c": {
     "views": []
    },
    "57c889b704624584a5f28792f6b8b53c": {
     "views": []
    },
    "5891d4f304504f29a3a645b4c4bccf72": {
     "views": []
    },
    "58c91bee2d7343d9b540d866728ebb67": {
     "views": []
    },
    "58fac8993b5e43e09073f8d01535ed55": {
     "views": []
    },
    "590808ac8d16469ba64f58f278d6b5f5": {
     "views": []
    },
    "591b969319ef4f09a243f630a0942f43": {
     "views": []
    },
    "598e272c2bb44892bfec5d77d3310c4e": {
     "views": []
    },
    "5994a4025dc34a1983a35c0b3a0ffcfd": {
     "views": []
    },
    "59fd7aaee0444e5fba548d9f8972082a": {
     "views": []
    },
    "5a305147a68f4e08be70df3e1c268c3b": {
     "views": []
    },
    "5a66d473ff0e426582598d543fc5e77b": {
     "views": []
    },
    "5aec6e9a9b154c469db4630f99ecdd51": {
     "views": []
    },
    "5aed88fd410c493796c23d25cfa3cce7": {
     "views": []
    },
    "5b03561158d74e13bde48d46ce2c4bbb": {
     "views": []
    },
    "5b63d6d75b1b44adb84b2b02fadf78ae": {
     "views": []
    },
    "5b6e82fde5c74cf6ab7aa37166c41165": {
     "views": []
    },
    "5bbccef9f58d40b5ac94d7cdbbf66f0c": {
     "views": []
    },
    "5bc0048a48a14bf0b58c44aa924f4825": {
     "views": []
    },
    "5bc4c2b734a8491d93780d21ab2c5e4d": {
     "views": []
    },
    "5c06e9ebac4d48ddaa2ca765ccf72384": {
     "views": []
    },
    "5c8fe0cf5bf04b30a13750b3e052c62c": {
     "views": []
    },
    "5d0adaa02d124d91970e0f329749fa6b": {
     "views": []
    },
    "5d2f5c4889764f579cc10cda53bd6e40": {
     "views": []
    },
    "5d87dc3a2a044be09317325215f455a7": {
     "views": []
    },
    "5da13550d9cb4d1eaef3294b691c4f20": {
     "views": []
    },
    "5db315efd85846ba94b6f6d71d722fa3": {
     "views": []
    },
    "5db6885c7b5e4134952c17ff1d8da1cb": {
     "views": []
    },
    "5dfb31d6af1543588925d72f83c6312a": {
     "views": []
    },
    "5e1898f767eb481f8b4e8d59c3cb6703": {
     "views": []
    },
    "5e85b74a597b4668805baf96db390f47": {
     "views": []
    },
    "5f1391f6763b4c979765a9947d45fdd1": {
     "views": []
    },
    "5f41da8c6ca741e6a58fe0449180bedc": {
     "views": []
    },
    "5ffe0ab53d41415caea9fe4ec86181f8": {
     "views": []
    },
    "600fef3b3e6043d6bb29e11f09b24e31": {
     "views": []
    },
    "60919b4d68b04ef68d7930e57509199c": {
     "views": []
    },
    "60fbdffe81fb48b5aaac36f4ca4b7015": {
     "views": []
    },
    "612c85451b3a4be683039267e36a3876": {
     "views": []
    },
    "612e95fb37ef4940bbed7fda7579eeb7": {
     "views": []
    },
    "614cdc08c2c04886a2424c8edf6e72f0": {
     "views": []
    },
    "6166b84855a544ea97603cd19f6f86d3": {
     "views": []
    },
    "6186aa71e3f34d2885517e06ad5dd475": {
     "views": []
    },
    "6201cfcdd9134a4db6fea7e4f6338d10": {
     "views": []
    },
    "6213310718454b559412566b137d2cf3": {
     "views": []
    },
    "624e482bb3934cc8a49f7c861c4fead5": {
     "views": []
    },
    "6271e3e4d8544bd9bd89db4ab4e66e79": {
     "views": []
    },
    "629ca8c31b274ec8832512c99d720c58": {
     "views": []
    },
    "62a2744c08fe41698066d8aa7f1195f5": {
     "views": []
    },
    "62acd11a1f294d298cffb55e6f3f190d": {
     "views": []
    },
    "62bbd8d95b334c2caca70ae544f9e68d": {
     "views": []
    },
    "62c83f2df4314573827cc6ca9d6d589c": {
     "views": []
    },
    "62ce14f8f1474308bda1a9121595850b": {
     "views": []
    },
    "62db18e68b074bb4918cda5c8b91a233": {
     "views": []
    },
    "6305cdf8c658450c83086eccefcddfed": {
     "views": []
    },
    "6309f232ec4445f8b48fe746be050875": {
     "views": []
    },
    "63826ad8c45d48289c5d781cb0ce60e7": {
     "views": []
    },
    "638addc0636b4b859ac831a948b42708": {
     "views": []
    },
    "64387b2702034e79a2261ace8bd238ef": {
     "views": []
    },
    "64a5d63d3e664ebc84c3c69f8df4f89e": {
     "views": []
    },
    "64e2ee53367446dca800f917e5f14a52": {
     "views": []
    },
    "65304a056aa84cd898fb17a8551fc054": {
     "views": []
    },
    "6573b46488c74565b7c5513f6778a351": {
     "views": []
    },
    "660bb33eb0f44a13ad4064ec51bf9128": {
     "views": []
    },
    "661d22e9f6fb4a2d800363b6572f420a": {
     "views": []
    },
    "662fbab973c541298e3e4d489ef43e0a": {
     "views": []
    },
    "667d1b5f44574981885c3646ab1175e2": {
     "views": []
    },
    "66962157fddb48d1b729a8fb80ebda28": {
     "views": []
    },
    "66d73ea86c8e42318ef4e2626ee1cd33": {
     "views": []
    },
    "674488e4201243d284e4d7900c8479df": {
     "views": []
    },
    "6777466acbbf484d9b3711b9db54863d": {
     "views": []
    },
    "67a372ff114847e5994ce64ac41edb03": {
     "views": []
    },
    "680aa5ce79784f0da4d882306c6a9b8d": {
     "views": []
    },
    "683113d6aefc4bf69dac7c23751756fd": {
     "views": []
    },
    "6866d46bf16748ef89a8bfe85b31bc81": {
     "views": []
    },
    "6871e75f210b485e848eb92ad09a7c66": {
     "views": []
    },
    "689035d2e49a4a2ba859b6e1b5936a03": {
     "views": []
    },
    "68c2d519bb0f444d995cd1dcc8511efa": {
     "views": []
    },
    "68d2d3eae78247c899821d36fe4698b6": {
     "views": []
    },
    "68d6699974b347c8a37ab6ea0330710b": {
     "views": []
    },
    "691419080ab74f35aaf83f9615f85092": {
     "views": []
    },
    "693bb05c0d944ec2b34798670c866469": {
     "views": []
    },
    "69cf11d76d98495a83b682bb6f67d9ae": {
     "views": []
    },
    "69f5594ba68844cbb7b68b96177446b0": {
     "views": []
    },
    "6a5ec4df06aa494184d9f32fc1ac348b": {
     "views": []
    },
    "6a80494007914b0d94b8fcd2dcb8b328": {
     "views": []
    },
    "6a8a680376704dc395702973be577d10": {
     "views": []
    },
    "6aa6cc168ed54f09bebdde9c11c573c2": {
     "views": []
    },
    "6ad12054435e460096f643453980be57": {
     "views": []
    },
    "6b229392607543a886ffc5e38361f728": {
     "views": []
    },
    "6ba606e1a8a2489e97fa1fac5b04874c": {
     "views": []
    },
    "6c047c0499f242e58cdbffba17fed37a": {
     "views": []
    },
    "6c6e720d6c7848bf8002509d4a73f2da": {
     "views": []
    },
    "6c6f931d3bf64f49ac7cd98798cd652c": {
     "views": []
    },
    "6ca7bb9ec79048d18168fc978a36e51c": {
     "views": []
    },
    "6cbf3798602a45fabcfa2dca80980612": {
     "views": []
    },
    "6cebeac995c4458993742d791c451127": {
     "views": []
    },
    "6cf82ca39c374f6482822d01ff8bd5b9": {
     "views": []
    },
    "6d0bb1934aa84e2bae1d2d6458c71be8": {
     "views": []
    },
    "6d6c4e21e02b4f319c273a5b6d9cc368": {
     "views": []
    },
    "6d8da56f019f4d58b90b59a032706204": {
     "views": []
    },
    "6da27a18e98f451da4160cb28b5ce535": {
     "views": []
    },
    "6ddc9ff01e174a9c9e87ef1c00e3573b": {
     "views": [
      {
       "cell_index": 76
      }
     ]
    },
    "6de99c642c934caeb66f203854ab8001": {
     "views": []
    },
    "6e12b9fd097e4095b75ac70f79626855": {
     "views": []
    },
    "6ea16823c33d479c8cf414384afe96e1": {
     "views": []
    },
    "6eb59ec022874ea5b3663e6974809979": {
     "views": [
      {
       "cell_index": 72
      }
     ]
    },
    "6ef68cf0ce0348d1881c5c4dc04f036e": {
     "views": []
    },
    "6f43ff352cdf438eab0b8770c0a1c38a": {
     "views": []
    },
    "6f57dbf691274173a6abb46949300967": {
     "views": []
    },
    "701487d8c6fb4f86bb619e3c39ba0707": {
     "views": []
    },
    "7016135c35fd48048bcb32af21a45741": {
     "views": []
    },
    "702212e77b1941db8708d55e5bdc280a": {
     "views": []
    },
    "70418d4ec9384c3d86fd2141b83ee64d": {
     "views": []
    },
    "70af9b3b6f384d909eb5a012785c1e37": {
     "views": []
    },
    "7192c72018d14d1b8e3656d94a0b9f5e": {
     "views": []
    },
    "71af18e0a6624649b5deed7aba8144a7": {
     "views": []
    },
    "72375f505b7a4673aa27dc5b863e2a74": {
     "views": []
    },
    "725a7ee05ea24ec981dcfc8a7a8e0a36": {
     "views": []
    },
    "72898b81248b43fcb1f214bd1bdbffce": {
     "views": []
    },
    "72c40d951aac40f2bca3cb57fb3d30cc": {
     "views": []
    },
    "72f441dd49134b65a7855b69fe29100a": {
     "views": []
    },
    "737f02b1f254404c84b60d76fd753cf6": {
     "views": []
    },
    "73819bce71de43e9826fa2f14aebe18a": {
     "views": []
    },
    "73ee6f18e8264588aa65c3111cd51b20": {
     "views": []
    },
    "755f0d994dc14beea5b9203f6b6ac5a5": {
     "views": []
    },
    "757e469f2a864f1fa28d52e4412f9024": {
     "views": []
    },
    "758708866adc44379057427d4d53c983": {
     "views": []
    },
    "7605069affba428680d745188cfb1ebd": {
     "views": []
    },
    "761db388658a414da96974c26bb21e60": {
     "views": []
    },
    "761e1ea47bf04e779efe29e45c742fdc": {
     "views": []
    },
    "766a4f8c973d41b2970de4724b5fa250": {
     "views": []
    },
    "7702734b6c0943c7816c078f96bd92af": {
     "views": []
    },
    "779bb8d9857c45c1bf07c34771dc5731": {
     "views": []
    },
    "784d2e971ea64c059de2669c0aed1c0f": {
     "views": []
    },
    "785fd1eff952477f8bc7fe4df7bea899": {
     "views": []
    },
    "793df222015a4739b7314b85d1498cd7": {
     "views": []
    },
    "7961dc754e024bbfb7e2176524c90de4": {
     "views": []
    },
    "7a1fbe0c887c4b8484c5cd639afb9e86": {
     "views": []
    },
    "7a385870fce14369ae5e816a69e99311": {
     "views": []
    },
    "7af6128627754ad69ce4b9bff99d5ce8": {
     "views": []
    },
    "7af67de781c34a58bc2219680a0d1a5b": {
     "views": []
    },
    "7b1885bcdcb248059f994e46f647234c": {
     "views": []
    },
    "7b94d862112c496b950e0b5867bbdd8d": {
     "views": []
    },
    "7bf10d64e6564d0db1fa7cc0da9f6981": {
     "views": []
    },
    "7caa010a2ce0496f8b4e4e8834375b7e": {
     "views": []
    },
    "7cd9ef59f4d043bcb5092743380929a6": {
     "views": []
    },
    "7cee526dd43b417988f587f96f6e93c9": {
     "views": []
    },
    "7d5d73e125c04df6892f0aa36c82a073": {
     "views": []
    },
    "7e2cfc84a64c4d29bb281c43ef28bc09": {
     "views": []
    },
    "7e447d34357e4767bae66dcc7dca37bd": {
     "views": []
    },
    "7e67a72e00a54c1a88d371335b181cb9": {
     "views": []
    },
    "7e682822b3364499a2f567ad0010d95a": {
     "views": []
    },
    "7e7b19f7b4a44865a3b51cb353ba302b": {
     "views": []
    },
    "7e837013d377424e8f59c39a9df99132": {
     "views": []
    },
    "7e9db4b2345c408088a226c16802b889": {
     "views": []
    },
    "7ec40ec3140343e38a76a0b293b27b0f": {
     "views": []
    },
    "7edcfff924fc447597f419bc91d46e09": {
     "views": []
    },
    "7eed671b038c40e3b2a11ec94043706a": {
     "views": []
    },
    "7f265117684d4a7495d6dae4844ea21d": {
     "views": []
    },
    "7f2a62710e964c17adc260d058e29e51": {
     "views": []
    },
    "7f2abcd0e252427da35d137f07d2b132": {
     "views": []
    },
    "7f61f8240a12442ca9e3c1598ff9d6a0": {
     "views": []
    },
    "7fc27bafb4e54821bfe62d4214a45339": {
     "views": []
    },
    "7fcee9f1ac3e4156a193cce0be528f5d": {
     "views": []
    },
    "7fe807d6a2174333b63ca5b6588c36ae": {
     "views": []
    },
    "7ff5c5c532a644bd9dcc190a65358efe": {
     "views": []
    },
    "802587af9b49464685ff07b37260768c": {
     "views": []
    },
    "8035a31e437e4fe68056ff72d148a399": {
     "views": []
    },
    "803d1718b1a04655a7a2a3683ee66013": {
     "views": []
    },
    "80594d95180242f790a0ef75b9794dc4": {
     "views": []
    },
    "80f30290ae4049c989449d4fa01b0bd3": {
     "views": []
    },
    "81447a63390449218f7d5e009025c7fa": {
     "views": []
    },
    "817b6848692d49db8f49f230d715d34b": {
     "views": []
    },
    "8185988a88d24932831f1f2d4a369962": {
     "views": []
    },
    "81900a6cc4b044ccb2cff389e2e962ac": {
     "views": []
    },
    "81b9e8dfb5784a65a9c9021cfc8f656c": {
     "views": []
    },
    "82011f4442194fe6a174df481e9af843": {
     "views": []
    },
    "821ba30eae804adb91fe74dccc4481a9": {
     "views": []
    },
    "828c5364c5bd40bca2908c73ba2b0dd0": {
     "views": []
    },
    "82935d1afde840e6a39b9059b7cbbea0": {
     "views": []
    },
    "82c4266d6d384628aff907851e9a742d": {
     "views": []
    },
    "82d8ea2d753c47fea865ae74cbd56eb6": {
     "views": []
    },
    "82dad91eab58486c8fe0332206658a28": {
     "views": []
    },
    "8310c23aaef244df995ab4bed4046a09": {
     "views": []
    },
    "8317338ef9a54a2992379e1a8f243bc7": {
     "views": []
    },
    "83206c28c42445a9a1167ad7329d7d95": {
     "views": []
    },
    "833fb47d78234b8a9dc718b8ca8a0709": {
     "views": []
    },
    "8349d2e9bb1a4c3ead0c3a09d3e3046b": {
     "views": []
    },
    "8381964ed69f40eaa7a2da32004cfe37": {
     "views": []
    },
    "83b7ea0d53eb4214a2bf36ff6a2a41df": {
     "views": []
    },
    "83cdc593479443eda39a5eb30b01c8a1": {
     "views": []
    },
    "83ceabd3925a421f902f272aedb0c918": {
     "views": []
    },
    "83e4ade42e4946838c4a131f145e7ad6": {
     "views": []
    },
    "83ee997c43fc4a69ba97c8b28b0052f4": {
     "views": []
    },
    "840d63400e4e4a16b0f49a1835e5e573": {
     "views": []
    },
    "843e7645e1384b48b5adf6219397aafd": {
     "views": []
    },
    "844b54da52d040e79b188bc533955d4b": {
     "views": []
    },
    "84bece48b69b4be395c24fc07b825fa9": {
     "views": []
    },
    "84f15c189c4e42eebfa30b9c287a27a3": {
     "views": []
    },
    "8579eb73f9db44bb8ee9e002a1be60d0": {
     "views": []
    },
    "8590aa4ef5cd4fe18cf44a337d507b7c": {
     "views": []
    },
    "85b91016effe490ca068d42245bf0934": {
     "views": []
    },
    "85be4633f3ca4705b445610f36f24a7d": {
     "views": []
    },
    "85cb79d5a3a04e2fa4a1c73e59c0af77": {
     "views": []
    },
    "85d4f0dfabd44240bbf04a095f690f36": {
     "views": []
    },
    "863797afd67d4b00885b8ce0f40075ac": {
     "views": []
    },
    "8657173d1afb47489dbe587295c4cbfc": {
     "views": []
    },
    "866c7ceba2bb4711903261c0750d0416": {
     "views": []
    },
    "86b70d782911465c9ca07e74df88beb8": {
     "views": []
    },
    "86e43b45c7984c798e8e38ac459ad5ce": {
     "views": []
    },
    "87238eaaf24846be84bdd06c78029462": {
     "views": []
    },
    "87482a833267406485c5623c6d711b1a": {
     "views": []
    },
    "877d15ff32a743e28a531ad20390c7fe": {
     "views": []
    },
    "87af8ad7f4a74339a29ecb111531fa13": {
     "views": []
    },
    "87b1177131194b0b80714abd5dd43729": {
     "views": []
    },
    "87dd2fe38f2c4a1083dcb13edf854cb6": {
     "views": []
    },
    "87dec7f7ce26485cae60aa295d85ac06": {
     "views": []
    },
    "87e54ca804a84b82a752f79848d44bc9": {
     "views": []
    },
    "87faf5a774664c1781a8296655648bf4": {
     "views": []
    },
    "888095deac154b8c8e8dc5b20c0fa6d7": {
     "views": []
    },
    "888bad3f3fc540d28d9da8a1e5fe500c": {
     "views": []
    },
    "88b69af057cb4d4ba4fdfe1faf718ac3": {
     "views": []
    },
    "8939e5aadf134c9cad1aa44951e30bb9": {
     "views": []
    },
    "8a02b4315384417ea74772355ad5eec1": {
     "views": []
    },
    "8a0d579ade754ccc8b2e0f0b77f16f4d": {
     "views": []
    },
    "8a19a89c33a34b018fdf4d5e78298ed1": {
     "views": []
    },
    "8a1c5bf7f0154dac9dfb756aff46e84f": {
     "views": []
    },
    "8a899a05a53447899cba7f0082fabc5b": {
     "views": []
    },
    "8b6622ad06d54e5983a3eed509ccaaaf": {
     "views": []
    },
    "8b79785f8f224f80b31a721d6456adb7": {
     "views": []
    },
    "8b92332e6a1b44c9b2db7c87c08f40bf": {
     "views": []
    },
    "8bbfa90e1def48fab9727f77ddf42c15": {
     "views": []
    },
    "8c04f963aaa54914967346d127f693b0": {
     "views": []
    },
    "8c721df80669407ea59bd6676d4d9c20": {
     "views": []
    },
    "8caa083bb24540f5b877d0dd97ce7336": {
     "views": []
    },
    "8cfeb64cb4e74f67b7e17bf0dccb096b": {
     "views": []
    },
    "8dfd1f6495524dbaad659af7856b2ccb": {
     "views": []
    },
    "8e579952170a40aaa67e8a5318731a9f": {
     "views": []
    },
    "8e6fe10bf44f4239ba2c93cf632a565d": {
     "views": []
    },
    "8eb33c5431e04e75a72ecf13fc68e2dc": {
     "views": []
    },
    "8ee03d705c2e4a0aa4e2b4eacc0f7b4e": {
     "views": []
    },
    "8f172902c5ee410782064c1bf1b14e52": {
     "views": []
    },
    "8f7c5cfac7a540d387d8904346a60518": {
     "views": []
    },
    "8febe1ecc945414db26d25e6a05fa5b0": {
     "views": []
    },
    "8ffab7c269214a04b5a489e9d2e7a5e1": {
     "views": []
    },
    "9017f4fff36342c38bf30dfff1580f50": {
     "views": []
    },
    "9078a7891f9945b3adac1e97b1e02556": {
     "views": []
    },
    "907a3461c65a4c91aacc8bfb2cf5e815": {
     "views": []
    },
    "90eb86a37f3f452d825205cb13b05eea": {
     "views": []
    },
    "912387c04d384daeb08cb4dd89bff3b4": {
     "views": []
    },
    "914f70cfa9ec4d18a805ae0515bbfa7a": {
     "views": []
    },
    "91623d058a5b439eb02c951cc11186d1": {
     "views": []
    },
    "9164587bd9c84f669f0ddb6085c89808": {
     "views": []
    },
    "91be19a164a24d95b8994519fcb134a5": {
     "views": []
    },
    "91df7f0198724008996d8b09ecc1a4ed": {
     "views": []
    },
    "926eddb7ea3643a6891bed456c5fc45d": {
     "views": []
    },
    "92875fd2af8343bfac5234f475a657d7": {
     "views": []
    },
    "928ac53de55e49bea127944025702e40": {
     "views": []
    },
    "92c280db4f9d4ba79f88b584f2aaa5b5": {
     "views": []
    },
    "92c5d361d34d46328f0dd99e96cf441c": {
     "views": []
    },
    "933beb79b6084073abc537dde02ada7d": {
     "views": []
    },
    "934177249fd94f7cbcb72244fd76815c": {
     "views": []
    },
    "93e06cb6daed4171a004a566bb6090a7": {
     "views": []
    },
    "93e3d945be7d4eeaa991b64a5e517534": {
     "views": []
    },
    "93ec56b642b84ef7a9e866ba1b2d71fc": {
     "views": []
    },
    "9471996f852d46709e7167a09c990e8c": {
     "views": []
    },
    "947504a0373d49aa93d0b9fcbdd146d8": {
     "views": []
    },
    "947605ac9c7e474ab2b56539c2fb2b37": {
     "views": []
    },
    "949068d2e3eb4cbaaae8a89d08e0c27a": {
     "views": []
    },
    "94e22335c69c4bbe82c980d8f77a240b": {
     "views": []
    },
    "9520fef1bae14bb6bf85ecdd2deab195": {
     "views": []
    },
    "954ab0064bf24503880b08b0df677a74": {
     "views": []
    },
    "957d63db24f945f78194cb2060a46a63": {
     "views": []
    },
    "959ec10073fb413cb9ef1d06c1b76433": {
     "views": []
    },
    "95c09bc35ceb4ad08c2d05ecaab96cf1": {
     "views": []
    },
    "95c39bc69f184843871e06cacd148413": {
     "views": []
    },
    "95dc1d46a9fa45edba9ad8823ba5c69e": {
     "views": []
    },
    "95ee922aa8c34814a86f796dd0f57557": {
     "views": []
    },
    "9603547b817b4f37bca475be61fe2fdc": {
     "views": []
    },
    "96615d6cc22c4e8294fb3b47abbf0398": {
     "views": []
    },
    "96cd90bb49c04a259884d8c9d6b2dd63": {
     "views": []
    },
    "96dd4465d2934cad82de75a81e14d0bf": {
     "views": []
    },
    "97508a287e0549f290e48bd1d4e8ef42": {
     "views": []
    },
    "975c542fe37a467eadf10b1ec8f0f650": {
     "views": []
    },
    "97ac2b65e56244bfab9d3a587654486a": {
     "views": []
    },
    "97ef635356074d0195875bf8d3f00867": {
     "views": []
    },
    "9804e3c5bc5c4f639a64bbff2fe6f97f": {
     "views": []
    },
    "981b0886630f46ba91f28602925566a1": {
     "views": []
    },
    "98f1e1cbaf2a4ee0a8afde6dec543887": {
     "views": []
    },
    "98f89d1a827d44798615db7885876b34": {
     "views": []
    },
    "997bc967dc3b4949ae2b51eda21770e7": {
     "views": []
    },
    "998977ea9f374abca9267e800725ddea": {
     "views": []
    },
    "9a21cba2abad4bde97a927b5bcd98e93": {
     "views": []
    },
    "9a519bd2ccc4407b95d2d66b948b58f0": {
     "views": []
    },
    "9b60b5a2e905466b9587f12ca63addd2": {
     "views": []
    },
    "9b6fb5cfdaab4f71ad6d5490d03e524c": {
     "views": []
    },
    "9b91bcef65c145bdbbe082c77678c872": {
     "views": []
    },
    "9bd0e86e15974162814e76c92c0359d7": {
     "views": []
    },
    "9bed87a8daf947da95dbdfa97af74590": {
     "views": []
    },
    "9c2d8a9357f34c04b5b0cd00defbb52f": {
     "views": []
    },
    "9c7ac12c5b4749ec8575cc4d7b69d175": {
     "views": []
    },
    "9cb0838600c349ee8a80bda0dea4fe7c": {
     "views": []
    },
    "9cfe0d6df789491b846b6817825112fc": {
     "views": []
    },
    "9e2443dd4fd34d46baec641779c32063": {
     "views": []
    },
    "9e4e7fe7866f4f66aaa966b3e07ba15e": {
     "views": []
    },
    "9eb2590dd7fc40e7b0051951ed2bc6b3": {
     "views": []
    },
    "9f23f4a4652241f8b0277a6e1cbade50": {
     "views": []
    },
    "9f54e97c5bee4132a2ec752163ad8a52": {
     "views": []
    },
    "9fae9d26542440d7950dc87de8ed362d": {
     "views": []
    },
    "9feada0742734ec4ba871ff011a1eb88": {
     "views": []
    },
    "a0828b9877f94db7aab1a50ce0d45576": {
     "views": []
    },
    "a0fb8dd5ac244c52a3b9e43af20a5d23": {
     "views": []
    },
    "a1e9c5786f604d9aa6e02633c84ed9b7": {
     "views": []
    },
    "a1eed6d9ec7848fbb4dc55f244b1e89d": {
     "views": []
    },
    "a2060307aa814cf580ca1b14b987a6bf": {
     "views": []
    },
    "a20d5de13bca46c984789efb127db0fa": {
     "views": []
    },
    "a24921e3b7fb46bda9240b2c7d073782": {
     "views": []
    },
    "a27a509b6dbe4d2fadd17f7b496a3010": {
     "views": []
    },
    "a2a955e9c3824090984979b57737d657": {
     "views": []
    },
    "a2e7c95d9f7f4c39af79cfebd5821278": {
     "views": []
    },
    "a34bbab477c345968cac1c1b1c73aaed": {
     "views": []
    },
    "a36c9850b464438587b74cd3807dde24": {
     "views": []
    },
    "a3b61b991ac44b58a9b4014fe876820f": {
     "views": []
    },
    "a3c2cd207bbe4427ad57dd9d730713e0": {
     "views": []
    },
    "a3d68efde8e541eb9342bd23275cdd8a": {
     "views": []
    },
    "a44a35cee40d4ef4881b7838d72d84c7": {
     "views": []
    },
    "a46dca8d7c3f4dc1b66352db43d78fa5": {
     "views": []
    },
    "a4a7b98dc7854efcae7e500fe6014e3d": {
     "views": []
    },
    "a4dff02b33c34fc1840a5b2b09b21edb": {
     "views": []
    },
    "a55362036f5a4cf3a3e316c3d03b412f": {
     "views": []
    },
    "a56cf680ab4a44b6b31ec93e2ac5db9c": {
     "views": []
    },
    "a59272e4cad94d0ca828dc88468029f0": {
     "views": []
    },
    "a5d8637887f54aa38b4a410f553c8f1b": {
     "views": []
    },
    "a64ceaf6093244f390892afb67a38025": {
     "views": []
    },
    "a65fda8c50564193bfff64214940c5f4": {
     "views": []
    },
    "a66c8d36b00c4b64b127c3f2d16f3e2b": {
     "views": []
    },
    "a678ab079f87408887b18f6a6e7ea0ed": {
     "views": []
    },
    "a69745e83382452fbd9a84e0ab979f59": {
     "views": []
    },
    "a6e0017fc1264df4b4e3f0a819792c20": {
     "views": []
    },
    "a710495dcde2485b8ac43337e881b67d": {
     "views": []
    },
    "a762c53b35fb4e5689d0ec6a9b32da3a": {
     "views": []
    },
    "a76c641fc2554b298539e7ee34085da2": {
     "views": []
    },
    "a7baa281a31440ae9654a1b2b3201ae7": {
     "views": []
    },
    "a7dd954443e64a9ea28419e2b0be14f7": {
     "views": []
    },
    "a80a02089f2d4943a49084557400fada": {
     "views": []
    },
    "a8222d4c9c7446e8ad9d269b0c14c30f": {
     "views": []
    },
    "a828f1a0749d44319db58dde06cccde8": {
     "views": []
    },
    "a8bcbb86f3794ee3a0e5d6ef1bfc332b": {
     "views": []
    },
    "a8e7b2875412429888f746fa1a3f04cd": {
     "views": []
    },
    "a97b8cafc4d648de8b5c3eb57db75b45": {
     "views": []
    },
    "a986789f0e2242a6bf8a4ddea308faf3": {
     "views": []
    },
    "a9e870a8ee7a4adf9932e13249288714": {
     "views": []
    },
    "aa133283978c41c181b2a1685591f1a4": {
     "views": []
    },
    "aa248d4bdbeb4ba2829ae1b391a75ba8": {
     "views": []
    },
    "aa2c4f0bbf05483db59dbd775cb5aa09": {
     "views": []
    },
    "aa673c25c86c4856b9b0aeb01fc37791": {
     "views": []
    },
    "aa885610f72441b4bc3c80b3c60a51cb": {
     "views": []
    },
    "aabeccb616cd49f394c8f8667ab93b8c": {
     "views": []
    },
    "aacac5b153cc41248111133b7e165b75": {
     "views": []
    },
    "aadb5470df634ab691ba3c77cf6bcfee": {
     "views": []
    },
    "ab07800efddf42a58ceadde095dac1b1": {
     "views": []
    },
    "ac3a38d2947f484eb406b7f63306030c": {
     "views": []
    },
    "ac49219f74ac400c91eb3b072ad62c5f": {
     "views": []
    },
    "ac50d52ae5674585af73825343602fa6": {
     "views": []
    },
    "ac9a5c498e594c2ea362f9fbe690f053": {
     "views": []
    },
    "acd77409cefc4f9b85fb8d2861640fe3": {
     "views": []
    },
    "ad09b12e09af4fbf95ff490742dd2b1c": {
     "views": []
    },
    "adffb78b7d234c0db98606fc5c0ead53": {
     "views": []
    },
    "ae89977316084a36b1699075ed621af4": {
     "views": []
    },
    "aeb7969e57b24a23ac31e72d5dfc2d6a": {
     "views": []
    },
    "af23b2b09ea64d5c9452a1b98a663b37": {
     "views": []
    },
    "af92368dbbdc4310a172c330c0381c95": {
     "views": []
    },
    "af9454383cd34a6cac73f1048ab9b855": {
     "views": []
    },
    "afa5e0a9ce1b46d68d06a07be6e04e46": {
     "views": []
    },
    "afd31c841b7f47ed85995f3ad60c7180": {
     "views": []
    },
    "aff2ce1ceb744008aeb6ec88023bda02": {
     "views": []
    },
    "b0502d85e2d04b0484e9b939bcfbd3bb": {
     "views": []
    },
    "b06d4c6aaf254e298bb8fa82236658e2": {
     "views": []
    },
    "b0b311ee6fb840c38619f7497fffb312": {
     "views": []
    },
    "b1069eed8125421dae9eb14db92b6c98": {
     "views": []
    },
    "b111f0c179ea42ca99b0f7507fa8b4a5": {
     "views": []
    },
    "b165eb068fe749d1a0bb757eb66d416b": {
     "views": []
    },
    "b172c14df1e54a48b1209f95ba06ab2e": {
     "views": []
    },
    "b1e178fdf55f4cdf8adcfacf80dc13ef": {
     "views": []
    },
    "b1e2e0d88c9f4f6c8eafc580ba4ddca7": {
     "views": []
    },
    "b243b16dde2e48c6a889192130085ea5": {
     "views": []
    },
    "b2c757425e984677b16b01acb818a981": {
     "views": []
    },
    "b2e6f8307d0a45f491493a4bdc22903b": {
     "views": []
    },
    "b2f0890a21eb4b5bb2d7e7187b24abc1": {
     "views": []
    },
    "b35a301a1eaf48b4aab9591545c0e6b2": {
     "views": []
    },
    "b36046e6e8dc4c06bdcc7d8418690f31": {
     "views": []
    },
    "b3643dad43bd442c98c74baa1911bec2": {
     "views": []
    },
    "b3f61df9324a462f801ad0ada3045885": {
     "views": []
    },
    "b4957078a92a4d06980bc508e4c86194": {
     "views": []
    },
    "b4deb49552644c13b30c24c34b5bc270": {
     "views": []
    },
    "b4e699c0f9cf4c208e093b59bbfda199": {
     "views": []
    },
    "b528fc8aa2854d3e929047c042143ddd": {
     "views": []
    },
    "b56495dfbeda4979aa9aaa79134091ea": {
     "views": []
    },
    "b589679bca7445c380de01fcc3ae5b4c": {
     "views": []
    },
    "b62c6ff676954c7e9d2cfa7c8a684e83": {
     "views": []
    },
    "b68e89d1da7849298624a76c99ac4678": {
     "views": []
    },
    "b6a199447d894aa09805165b178b7cfe": {
     "views": []
    },
    "b6cedad306b04fa0b342b42f534c3436": {
     "views": []
    },
    "b71aa6dc13424aa7995e680b0b725921": {
     "views": []
    },
    "b71db55e9a5841f39d213c4c5a301405": {
     "views": []
    },
    "b743af8622264496970cc4cf3605d727": {
     "views": []
    },
    "b78508d68c274364891da0cf2a6625ed": {
     "views": []
    },
    "b7bf1e101a2643209fb3ffee9ae0e034": {
     "views": []
    },
    "b8205a8df9c848cb8336edbcd18623f2": {
     "views": []
    },
    "b870b1a895194e41ac5202353948e79c": {
     "views": []
    },
    "b87c180092574170887e0e1d9b1a8594": {
     "views": []
    },
    "b89ce6296cc84877a9642a844be89d2a": {
     "views": []
    },
    "b8a0ba01a1084433bf17eac16cee4fa7": {
     "views": []
    },
    "b8f22040de0f48c7b798418ba25c15fb": {
     "views": []
    },
    "b8f7bf4fa6684b44a08ff22d25328016": {
     "views": []
    },
    "ba00eb45433b476eb9952dd93bc4f784": {
     "views": []
    },
    "ba170b97465f49dc9a215b14cba7680e": {
     "views": []
    },
    "ba55173772fe4c26a3b287ecdf0afd74": {
     "views": []
    },
    "baa68ea1b7ab4c7ba00af3ded1251940": {
     "views": []
    },
    "babe1eb1538a4e48908cb66e2422eb04": {
     "views": []
    },
    "bae82ee89a7a4d949115e133830c54ea": {
     "views": []
    },
    "bbb66285aafc4b669a68dd8399b45229": {
     "views": []
    },
    "bbbaed315c844b53b90112f3a6cb01e8": {
     "views": []
    },
    "bc28beed47f144f6a47775e2f43defbe": {
     "views": []
    },
    "bcc896fe901f4953bb32797484c91a58": {
     "views": []
    },
    "bcee9b2b416b41419561970cf1819617": {
     "views": []
    },
    "bcefe9feb47841d2a3616ba2a877ce65": {
     "views": []
    },
    "bd28bb935526414895f07de574c1acf2": {
     "views": []
    },
    "bd33ceac3c7c4452b5fb6f26f12a1ee5": {
     "views": []
    },
    "bd4eda2e5d50484fb23e7f9d5ff18d4c": {
     "views": []
    },
    "bd912f3fb5fd4826a1b5daf4dae5c0ca": {
     "views": []
    },
    "bda9aa22940640c584f7fa6aefaadfcb": {
     "views": []
    },
    "bddb419554ef4cbe9c99c6cda53e4e31": {
     "views": []
    },
    "be6a18081bba468c83be0c974904cde4": {
     "views": []
    },
    "be8443577e8d424c92d7271a12e5bb4f": {
     "views": []
    },
    "be9ca450c81443718859302d559b366a": {
     "views": []
    },
    "bea5e1ae68b947ef882523bc9f60b85b": {
     "views": []
    },
    "beb9312abcb049f28d1831b56ceffb9d": {
     "views": []
    },
    "bf201675728445cb9be1b1036cb1e590": {
     "views": []
    },
    "bfc3b0d0173d4de6949c0f3f0e7c95bd": {
     "views": []
    },
    "bfe457dcdf4a4d3394cb73e847816133": {
     "views": []
    },
    "c015562605ca44a1965c602beba22366": {
     "views": []
    },
    "c0677fcfddbd4789b41905eb6a49e88a": {
     "views": []
    },
    "c0eb4d79c49642b9bb1cc865a7bbb80c": {
     "views": []
    },
    "c0ecad7d08ab443fbbdbaffc9969ff3f": {
     "views": []
    },
    "c114175b220940a186d23ddce40e25b0": {
     "views": []
    },
    "c14fa6cb8c11475181235996c6b17d81": {
     "views": []
    },
    "c1939d137d5c416ebb52173f295c3214": {
     "views": []
    },
    "c1b4310d361045ad9db17ed0ceb68b2f": {
     "views": []
    },
    "c1b653fb4437420a8ae24bb8a4affcfd": {
     "views": []
    },
    "c1de1ff65f834a7f95ad62fc0e4e90e6": {
     "views": []
    },
    "c21123188ecd4788b139798696e54d2f": {
     "views": []
    },
    "c2416c2cc36b4bbdb19e967f77591be5": {
     "views": []
    },
    "c27a9b1b392b450891a7394c1876edf3": {
     "views": []
    },
    "c2b50b4dd5e1434285d60d33ac2ada61": {
     "views": []
    },
    "c3530176ebfc4f1c917925cd2f689566": {
     "views": []
    },
    "c3a3e650a5b442b993fabe62e09583eb": {
     "views": []
    },
    "c3a8a8284c9442b2b1185022a12d8a65": {
     "views": []
    },
    "c3db77f97c7a4f4da6d8fad626467f43": {
     "views": []
    },
    "c402ee8dcc054573921f23843cbfef4f": {
     "views": []
    },
    "c50c1ed871324cd4966c38dae7bb12e8": {
     "views": []
    },
    "c52a4e792f1d4a278c1f03222a5dd6e3": {
     "views": []
    },
    "c5444d5a744e47e0bed07d21e6063687": {
     "views": []
    },
    "c546e22d56864d478d7741d89a4118b7": {
     "views": []
    },
    "c56688d6e83f47a6bd665fe779000dbe": {
     "views": []
    },
    "c57ce95f522d48848a39d16bffa91fb2": {
     "views": []
    },
    "c581955fb52749019cf1ba0e5f8453d9": {
     "views": []
    },
    "c5cfd7640b6e47199f630bfb186ad24c": {
     "views": []
    },
    "c5da605c27374d7293a04f14f0a91ffc": {
     "views": []
    },
    "c5da9b1ca3794ce0808654c0e46d4fc3": {
     "views": []
    },
    "c5f57c7a65ba423b83b406f3cc975d35": {
     "views": []
    },
    "c604f1f6d8354898ae9a23d9afdc6349": {
     "views": []
    },
    "c60b5f9eded24113bd0540cf418d3885": {
     "views": []
    },
    "c6481fb851b04b2287fefeeac9922c64": {
     "views": []
    },
    "c6afdf11f0ef487a9a616b6387184438": {
     "views": []
    },
    "c73bcb72c80b4ff79ff30b9da6567997": {
     "views": []
    },
    "c74cf1e0e2bf4490ae89733f6c68a194": {
     "views": []
    },
    "c77789d70c8d45b3ae92d88d6a40f86f": {
     "views": []
    },
    "c79c2f61e2ed46deb0052eefa03cb0b0": {
     "views": []
    },
    "c81bb4927cb34f2eb81bd5490a452f9e": {
     "views": []
    },
    "c8bc1364bbd041058662e748a1dc3148": {
     "views": []
    },
    "c8c02d93c200499f8a8e98f8c3c5c54b": {
     "views": []
    },
    "c8c0de0974d64fdba359cfa4e0cb074b": {
     "views": []
    },
    "c8fa1a17f4ca4cb2ae20878cbc404f25": {
     "views": []
    },
    "c9384629706446969734466f01b71abb": {
     "views": []
    },
    "c96bbe3edb964fd2b9574b7a813c48c4": {
     "views": []
    },
    "c9dc4101e9c148158a9bf7ae88c7af31": {
     "views": []
    },
    "ca3647b1523b41c4a84d7c62f3ef5035": {
     "views": []
    },
    "ca45e4ce73224af0b8f15596667b9564": {
     "views": []
    },
    "ca80dbf800534f408b473129b1fdb9af": {
     "views": []
    },
    "caa39113eed24fe3be308645000f5cbb": {
     "views": []
    },
    "cb38f01919ec41c9a906cb57a73a8e5f": {
     "views": []
    },
    "cb56c8b5587243dc953eb93241e0d1e3": {
     "views": []
    },
    "cc149e5dda714924b3b10cb0bb9b1500": {
     "views": []
    },
    "cc15347b6ce741b18a01125c3f838284": {
     "views": []
    },
    "cc1f406775284c05827d47623f488d5c": {
     "views": []
    },
    "cc5ba2695e494d86b4652abee1bf6b24": {
     "views": []
    },
    "ccbc7bc5eaec41ae829eb7567ce3fe53": {
     "views": []
    },
    "ccc7818a8edf43baa0e5e1360054b2b9": {
     "views": []
    },
    "ccd24082f9c3404ab37567c873e40662": {
     "views": []
    },
    "ccd8d2230083497e950fb2113008ac5a": {
     "views": []
    },
    "cd00bfa1a01a46cc9c77cd8375319fec": {
     "views": []
    },
    "cd161bf562a14e02a082841e758c1a84": {
     "views": []
    },
    "cd26a5e0a4164ed4888fd54663e7d845": {
     "views": []
    },
    "cd39c29e45da4807871696ac38d9f35c": {
     "views": []
    },
    "cd5353dc5d814de6a7effe91f5693539": {
     "views": []
    },
    "cde1f95bd5cf4fad9fe2cb8880749579": {
     "views": []
    },
    "ce058c500bb54f279ee13b2f5d81bc05": {
     "views": []
    },
    "ce98f838cd75476792aa3b8c3b4a2677": {
     "views": []
    },
    "cefcf49bf6cb414daa76ad932d243b67": {
     "views": []
    },
    "cf6a18573d8c48369efe694d258dc87c": {
     "views": []
    },
    "cf9e4f0ee7ae426d937395a2f9a51378": {
     "views": []
    },
    "cfa21959d6c64165a7241a295ade86a0": {
     "views": []
    },
    "d03d9b9240434344bf755c77506e331c": {
     "views": []
    },
    "d045c1d9dd164562a7cde57fb63a15f8": {
     "views": []
    },
    "d05f226cbb9c4903b7077889fb4890df": {
     "views": []
    },
    "d0c574dc17f84eccbd66d8dc1d9ec307": {
     "views": []
    },
    "d15c6fd410154a729c66c0b2fa3784bb": {
     "views": []
    },
    "d16a25cecd1c4b19a21ce6be9bf393fa": {
     "views": []
    },
    "d1771ee323694be2bcc2d7c266a12110": {
     "views": []
    },
    "d18e6d9caf934775ace4df759dabbe8d": {
     "views": []
    },
    "d1c59ccd57e041009116dfdab6528f17": {
     "views": []
    },
    "d21534c6cc23486488eba870ea1c0dbd": {
     "views": []
    },
    "d235bfd57239457cb12c8d2f14b0a8cd": {
     "views": []
    },
    "d237b1fdddf9452aa70eade3e28a6978": {
     "views": []
    },
    "d2c53e58438549b5a8fcce975d7db146": {
     "views": []
    },
    "d2e86f2c49d64fbfb2cd03f39b75cfcf": {
     "views": []
    },
    "d317dc2c02bf46a3817b341f7192321c": {
     "views": []
    },
    "d356780fcd314ef8888eb4b94de397c2": {
     "views": []
    },
    "d359d0233a85408e952891b091da2e87": {
     "views": []
    },
    "d36e0614e0d74aaba0f0ca55918d5c20": {
     "views": []
    },
    "d38e327160c8455fae1eb05b6773da54": {
     "views": []
    },
    "d3d0a29caa59487cb1c83673dbec1ef0": {
     "views": []
    },
    "d531b3638b3f4e9fbc29ab899deda542": {
     "views": []
    },
    "d5738ed9350042269dde1fdddac466cd": {
     "views": []
    },
    "d599f099b34b4e78a2cf1b5856a874ee": {
     "views": []
    },
    "d6130e132a094fcd8b8eab59f87f9bdf": {
     "views": []
    },
    "d6600044dd8444c493b30562fc896480": {
     "views": []
    },
    "d673e86fceed44378ae12c20e83cacde": {
     "views": []
    },
    "d6c15628329d4972844a493be202f13f": {
     "views": []
    },
    "d6d18fc2764246be967842356305504b": {
     "views": []
    },
    "d74105198b0d469991e25db9841ccce8": {
     "views": []
    },
    "d76c8812bcaf4c75a79d398eba93a97b": {
     "views": []
    },
    "d78298adbb0e4cabae9ee3bdddf1a618": {
     "views": []
    },
    "d79459adcf5c4654964a5ca127c63e96": {
     "views": []
    },
    "d7b9c11c5c6944ca875b0ef568019e33": {
     "views": []
    },
    "d85efda875b54349b934936ad9c97c18": {
     "views": []
    },
    "d868abc5a8a74b6897dddf4a25526d61": {
     "views": []
    },
    "d879d16436a64685b3edfa87cb1a12be": {
     "views": []
    },
    "d94487eb537d479daaa3c66a860a44db": {
     "views": []
    },
    "d95575ecfc5d4add9f6fab15d8c0682d": {
     "views": []
    },
    "d98dcc65989d4ecfadcd492368516d27": {
     "views": []
    },
    "d9a44aff4e044ddfab32c957d11ec3d7": {
     "views": []
    },
    "d9c6fc46ceb74c8483b1c7b9935b5007": {
     "views": []
    },
    "daa9e538d767483087fb24e4531cdf71": {
     "views": []
    },
    "dac2e115ba2f4a9a816e5e40a70254f8": {
     "views": []
    },
    "db15ff51d1244a6797e1a68e2fcaf0ed": {
     "views": []
    },
    "db170082f54a4568a76cdc227ff9a7cd": {
     "views": []
    },
    "db1f40862e304b868925117ed17f2e29": {
     "views": []
    },
    "db30d52b113b4d44863542993073425b": {
     "views": []
    },
    "db74aeecdc1a4defae8d0cbb06193d1f": {
     "views": []
    },
    "db78329005fb4b768311ca32c83a583f": {
     "views": []
    },
    "dbc0575495624f40be13de216462e0ea": {
     "views": []
    },
    "dc5f541d181145d98044ae602e10a09b": {
     "views": []
    },
    "dcb2a5029c934462bbc67b4dacd91619": {
     "views": []
    },
    "dcc6f147ea1649c094ed545094673287": {
     "views": []
    },
    "dcec5dcd5afb4c3798fbec8b37c710f4": {
     "views": []
    },
    "dd09997119884f3fa0c2b811377fec4b": {
     "views": []
    },
    "dd1ab4a5858244b59f56b4356e240b1e": {
     "views": []
    },
    "dda043a0adec478e84fa3be3475b80b2": {
     "views": []
    },
    "ddb70d076fcd459b833c5a29baccf718": {
     "views": []
    },
    "de21089d57cd4d70bad8df27bd7a2065": {
     "views": []
    },
    "de65b56259ae4a06bca15ee67290b387": {
     "views": []
    },
    "de74249f61164f1fa92ed0d0f300d5ba": {
     "views": []
    },
    "de85a63e381c4e7db9fc6324d36a5d09": {
     "views": []
    },
    "dea82610f39547c6b5f01ccdb29316c8": {
     "views": []
    },
    "dee01fcf265e43478058bdc80b9b58df": {
     "views": []
    },
    "df058468681f4353871913f600b0595c": {
     "views": []
    },
    "df2aa08b5d2245d38ce2e6578e637584": {
     "views": []
    },
    "dfc5fde1fac245bbb4bec475c2d8eedf": {
     "views": []
    },
    "dfe831bafe044daaae7f47371202588c": {
     "views": []
    },
    "e0b314d61fb44d6f93e561783ecbb786": {
     "views": []
    },
    "e0f8f8fc29fe46afab202ceceaed2026": {
     "views": []
    },
    "e1859048ac734dc1ae364df866dc620e": {
     "views": []
    },
    "e19a61f594ce4d1d8b423cea61751dd7": {
     "views": []
    },
    "e1a12eea29604ab0a98ea7dd3f0e5c9c": {
     "views": []
    },
    "e1b2a89ae0b642c999f12bca264e6cfe": {
     "views": []
    },
    "e1c158b46f5143cd8c1a2fc4d60d10a6": {
     "views": []
    },
    "e1d1c75b883c46428ead8535b6edd535": {
     "views": []
    },
    "e1ef47661a2a4355818ba43f1502474f": {
     "views": []
    },
    "e24e5253d1ce40128e9ce27c025c9bc6": {
     "views": []
    },
    "e2a2440e010f4e0cb1d2311568729a96": {
     "views": []
    },
    "e2d5e708a4fd4abbb42582e182b24646": {
     "views": []
    },
    "e3246659c9fc47e2beb9f75ee2709b05": {
     "views": []
    },
    "e345de0878bd43d4958503bc4b31a08b": {
     "views": []
    },
    "e39c9e7f62d94350b051b8ccbdc522c9": {
     "views": []
    },
    "e39da5a85b4048dcae040b629827c6a4": {
     "views": []
    },
    "e39f7bd5241d4a68bb392c9345ab1afc": {
     "views": []
    },
    "e3c75d9842e649bdacc48035c90f24ea": {
     "views": []
    },
    "e3eab7d3edf0425384dfed6ce28cc622": {
     "views": []
    },
    "e43e2178f337431f8be4630a28586d20": {
     "views": []
    },
    "e44b39b105234026b18661909c4e600d": {
     "views": []
    },
    "e44e1b9b27354d9197f2a85fffe8f5b9": {
     "views": []
    },
    "e4748a397fd84301aff34b4861ca93cf": {
     "views": []
    },
    "e492cce3b2ee4584a199ce7c58f77ac6": {
     "views": []
    },
    "e49e64c7dc944568b8eb91314a63b925": {
     "views": []
    },
    "e4b828c7d7144413a988b5871983f323": {
     "views": []
    },
    "e4d65ace00724bc1bccd71610b8a22b6": {
     "views": []
    },
    "e571e13d477e4c949a3cd82497517e31": {
     "views": []
    },
    "e58f7aff4db24dc295a4dad079f0784b": {
     "views": []
    },
    "e5b3feb3b0ca4447ae584b32599bef88": {
     "views": []
    },
    "e5da7f2730f3452793cd0b1ee1c5df0d": {
     "views": []
    },
    "e67b74767f04401c8931ae83820aa891": {
     "views": []
    },
    "e6848dc0312b454eb79319038516a4f2": {
     "views": []
    },
    "e77dee275c6a4591967fb364bd43a844": {
     "views": []
    },
    "e7ca925ad616429198dbbd90f3d23a45": {
     "views": []
    },
    "e7cd40a2e3564f949ac8634e08a5c339": {
     "views": []
    },
    "e8432d16e088455bae0fd36242730a7d": {
     "views": []
    },
    "e8838c5b6523419ba76eec1420f7eeb7": {
     "views": []
    },
    "e889467fe0b045c7beecccfbf04f79c4": {
     "views": []
    },
    "e8a6ece38825431bbfb6dea36291bdc9": {
     "views": []
    },
    "e8dc0a5e654f4078bc9af6a76ef6383b": {
     "views": []
    },
    "e960dbeacfd2417faaf0c7e1f0326e65": {
     "views": []
    },
    "e96d34f28c0b49b3b1a7561232943a78": {
     "views": []
    },
    "e9b08e2235ed49ccbad4d7eee826a704": {
     "views": []
    },
    "e9b381fe35174141b454fe86a00f4808": {
     "views": []
    },
    "e9dfbe4dafc6481ea55ade293d2648ab": {
     "views": []
    },
    "e9fdd27be8c74b48bb9748bdef4da129": {
     "views": []
    },
    "eaceeeabdcf8400cbd035e8e42e4cf9e": {
     "views": []
    },
    "eb5ff5faa92f417a843fd6197a1d3093": {
     "views": []
    },
    "eb8d01834f054edb8e350767071ff794": {
     "views": []
    },
    "eb9c71b8044447729ff88146bc62f8c5": {
     "views": []
    },
    "ebbe2900adb24148b61364f41b21a63a": {
     "views": []
    },
    "ebf249445d084c7ebb09e039a8c82d16": {
     "views": []
    },
    "ebfd947021b346c6b4af2456ed06fc00": {
     "views": []
    },
    "ec07c46a80734f1facbcc679ff601576": {
     "views": []
    },
    "ec07cd1d02334f7ca70509ffd54b5da4": {
     "views": []
    },
    "ec460f60e33440be8f48c76814640197": {
     "views": []
    },
    "ec94b3b8e3d7499f9b395e25fa3346ec": {
     "views": []
    },
    "ed310d9a27894d21a65f193f8284c4ac": {
     "views": []
    },
    "edf9a806b7a04f1eb5f84d375ef442e2": {
     "views": []
    },
    "ee235b7e7e1146d48ae112d424837b71": {
     "views": []
    },
    "ee39e060edaa43ad9f536188981a8fb8": {
     "views": []
    },
    "eea2c9e47358444f918d462342fc0b93": {
     "views": []
    },
    "eec15c98892040cfa39322996e7f3cb4": {
     "views": []
    },
    "ef11a1c2d9d44fc084d2fa444790ccec": {
     "views": []
    },
    "ef5a957047f54b8c9eb86d9e9efd991f": {
     "views": []
    },
    "ef65dde1d58046ebbb078ea71d016d1c": {
     "views": []
    },
    "ef6c05bbfcdb4cf7a18331bf13a765b9": {
     "views": []
    },
    "ef905a90f0484793a8bab446ed111162": {
     "views": []
    },
    "f0244f0a26164f9db589f0ca798149b7": {
     "views": []
    },
    "f05544dd061f4275bbe2285b64b6e554": {
     "views": []
    },
    "f06822e8fc6a4c138a5eeb8984dab4c4": {
     "views": []
    },
    "f0775fe363834c84b1d47e02b4602217": {
     "views": []
    },
    "f07c31b34975436890ae77565a0e259b": {
     "views": []
    },
    "f0a6049627f640e0ba3b9698119b34bf": {
     "views": []
    },
    "f0c8a5a450a1415190a54d21c1dbc69f": {
     "views": []
    },
    "f106b66409c340448c94f70d183a5cf4": {
     "views": []
    },
    "f16a5a9d60a844aa9e77425a7c06214b": {
     "views": []
    },
    "f1ae3e0fa603447182bd10a04e36caec": {
     "views": []
    },
    "f1d1ac0827fb48b9ac83fdb49f92b371": {
     "views": []
    },
    "f1eaea446a98446e9082652c688dcce8": {
     "views": []
    },
    "f2058ac900264279a6bd423a77be1592": {
     "views": []
    },
    "f284b62219384193a0d1b6c3a087c540": {
     "views": []
    },
    "f2c1031c253545f9b493cd6645cfabf6": {
     "views": []
    },
    "f300229f16f44be18f6dfadcd5505b42": {
     "views": []
    },
    "f38e0bac489c42119e701d0f598e78b4": {
     "views": []
    },
    "f3d1fb48ea044e0da177e669cbcab3a3": {
     "views": []
    },
    "f3eb880197434d298b81c3d68e66a80f": {
     "views": []
    },
    "f453c9f3a7e64feabf86edb931cfa0b5": {
     "views": []
    },
    "f493393b563147549ac8c99e7fbc5ec8": {
     "views": []
    },
    "f498d8b2cc1c4e7d9ec97326986209b1": {
     "views": []
    },
    "f4b33856d35d4c91ab147d1ca9149f0e": {
     "views": []
    },
    "f4bbba9e57df47139a2ef7cbe58d856a": {
     "views": []
    },
    "f4fcc95d187b45ac9ef72e903b65d820": {
     "views": []
    },
    "f50f79d568cc42c7a638f86d28b87613": {
     "views": []
    },
    "f534680c5edf4c9f8d8de52334295266": {
     "views": []
    },
    "f564fbcf78bb45b9af5beae8345444bd": {
     "views": []
    },
    "f56e007ecd7d438287d802b35cec7d7c": {
     "views": []
    },
    "f59f61981b3a4cfcb4f9bc8515da106b": {
     "views": []
    },
    "f5b5297c4b1a45abb45129af117468e3": {
     "views": []
    },
    "f62680538482467faff163c89c2f8d87": {
     "views": []
    },
    "f641f593d6d84f82bd8e7ada3f30679e": {
     "views": []
    },
    "f6607db9b5884ab5acdb2700077551dd": {
     "views": []
    },
    "f66a6b63ecfd4eed8313d4def95b780b": {
     "views": []
    },
    "f675c6e1c69b4cd2a0871cb2b976fd43": {
     "views": []
    },
    "f6acbcfe84c84d929f886e30cead2fe0": {
     "views": []
    },
    "f6c46c0db7ad4faeac1c166f08a97d6b": {
     "views": []
    },
    "f6d257a4e8b14a83916be6f955b2de5c": {
     "views": []
    },
    "f7023de5e2c0429d9bc60b26db51e5fc": {
     "views": []
    },
    "f74028fe8a894517b16937d2b3cc6124": {
     "views": []
    },
    "f7406daea8394ac596d9ea6cbb083722": {
     "views": []
    },
    "f753474d58744da6b18bb47597d6ec79": {
     "views": []
    },
    "f775ebb5073145448847a85bcd63676d": {
     "views": []
    },
    "f7ab8b44cf8d4770a2cef6a9a89adc29": {
     "views": []
    },
    "f7ad38a9bf984101a86ed8a98b1de7a8": {
     "views": []
    },
    "f8369bae42814176b4ec7dc863c6a6fc": {
     "views": []
    },
    "f853e5fba6bd4ca4a8e70766f3276b02": {
     "views": []
    },
    "f85e2998674f4930914548c281492af2": {
     "views": []
    },
    "f878291d4b68443a8a7d0897f2873682": {
     "views": []
    },
    "f8a07a419bd04ab4b6f9980d911a8853": {
     "views": []
    },
    "f8a4098ba64440268f589540decd3dcc": {
     "views": []
    },
    "f91b0ec229d34eb0b11ae7d98c366071": {
     "views": []
    },
    "f94a415474674e50b126622eeca40978": {
     "views": []
    },
    "f95b6f497efe468bab69bd931f7cf0c3": {
     "views": []
    },
    "f9707c38bff64c3ca5b8adeb36e0ac8b": {
     "views": []
    },
    "fa091d5ff23e434ca16dcc27fba4f870": {
     "views": []
    },
    "fa337f4b1abb49a28f3818a1f104f2a7": {
     "views": []
    },
    "fa57572b510446e0962925f8f410959f": {
     "views": []
    },
    "fa6fc8cd002e457c94aa3641e67be286": {
     "views": []
    },
    "fa78fafcbf574d24835f77da484a2664": {
     "views": []
    },
    "faa0bef1e6ec4a8db099451edf738238": {
     "views": []
    },
    "faf543331c404f418cbeef08690382b9": {
     "views": []
    },
    "fb14ac6b0c8249518e4e5fa4e90aca41": {
     "views": []
    },
    "fb1b077c44ab43a894f2e848fa9044b3": {
     "views": []
    },
    "fb67a998309e4327857e37b01f3ac020": {
     "views": []
    },
    "fbef0566744646688dd83a61711f1329": {
     "views": []
    },
    "fc222bb908e4414a9d3eb6cacb24893b": {
     "views": []
    },
    "fc4b8bc8dd0749b7a55158b95c5ce806": {
     "views": []
    },
    "fc6147b800404a9c8612e71413b4e5d4": {
     "views": []
    },
    "fc6b6d4105494cbd916345855db1e318": {
     "views": []
    },
    "fcab1acedadd4fbeb2dd645ba7f8640c": {
     "views": []
    },
    "fcda941c152442958a1fcb5239f0ca6d": {
     "views": []
    },
    "fce2db1baca842af8c33728c3b5511fb": {
     "views": []
    },
    "fd5bebebd3fa4deb83ed4723bdb03258": {
     "views": []
    },
    "fd802ab2780540e0a7d60ee8a7fafb65": {
     "views": []
    },
    "fd9a795a3eb24f2292ccc0df587036c6": {
     "views": []
    },
    "fdeac861ade24b00b24813970fe38d90": {
     "views": []
    },
    "fe023457150d490582fbc2d97ff6552a": {
     "views": []
    },
    "fe5934c343414736afaf0b09420d7c89": {
     "views": []
    },
    "fe5995a46fa94d28a087157671e6393c": {
     "views": []
    },
    "fe6b302adae34b0ab671997cf8f16d96": {
     "views": []
    },
    "fe6e49bb70ff4075b4f160d6f0055e30": {
     "views": []
    },
    "fe8fd21b13ef4d0ab991b43248fa39b1": {
     "views": []
    },
    "ff03e8be6e134587aa2100fe57790e2d": {
     "views": []
    },
    "ff8762b82958453791a94734f8accb05": {
     "views": []
    },
    "ff90b95860d8402a8370743a9561558f": {
     "views": []
    },
    "ffa135c0369844dc80b88fb20f2df3ca": {
     "views": []
    }
   },
   "version": "1.1.2"
  }
 },
 "nbformat": 4,
 "nbformat_minor": 0
}
