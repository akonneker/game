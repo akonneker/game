{
 "cells": [
  {
   "cell_type": "markdown",
   "metadata": {
    "slideshow": {
     "slide_type": "-"
    }
   },
   "source": [
    "# Motor Estimation Using Heterogeneus Sets of Objects in Conformal Geometric Algebra\n",
    "\n",
    "## Lars Tingelstad, IPK, NTNU\n",
    "\n",
    "### GACSE Workshop @ CGI 2016"
   ]
  },
  {
   "cell_type": "code",
   "execution_count": 1,
   "metadata": {
    "collapsed": true
   },
   "outputs": [],
   "source": [
    "from __future__ import print_function"
   ]
  },
  {
   "cell_type": "code",
   "execution_count": 2,
   "metadata": {
    "collapsed": false
   },
   "outputs": [],
   "source": [
    "import sys\n",
    "sys.path.append('../build/')"
   ]
  },
  {
   "cell_type": "code",
   "execution_count": 4,
   "metadata": {
    "collapsed": false
   },
   "outputs": [
    {
     "name": "stdout",
     "output_type": "stream",
     "text": [
      "Populating the interactive namespace from numpy and matplotlib\n"
     ]
    }
   ],
   "source": [
    "%pylab inline\n",
    "np.set_printoptions(precision=4, suppress=True)\n"
   ]
  },
  {
   "cell_type": "code",
   "execution_count": 5,
   "metadata": {
    "collapsed": false
   },
   "outputs": [],
   "source": [
    "import versor as vsr\n",
    "from versor.drawing import *"
   ]
  },
  {
   "cell_type": "code",
   "execution_count": 6,
   "metadata": {
    "collapsed": false
   },
   "outputs": [],
   "source": [
    "from motor_estimation import MotorEstimationSolver\n",
    "from motor_estimation_valkenburg_dorst import (point_matrix, dual_line_matrix, dual_plane_matrix)"
   ]
  },
  {
   "cell_type": "code",
   "execution_count": 7,
   "metadata": {
    "collapsed": false
   },
   "outputs": [],
   "source": [
    "from game import (MotorEstimationSolver, VDMotorEstimationSolver)"
   ]
  },
  {
   "cell_type": "markdown",
   "metadata": {},
   "source": [
    "## Ground truth motor"
   ]
  },
  {
   "cell_type": "code",
   "execution_count": 8,
   "metadata": {
    "collapsed": false,
    "scrolled": true
   },
   "outputs": [
    {
     "name": "stdout",
     "output_type": "stream",
     "text": [
      "Mot: [ 0.87 0 -0.5 0 -0.68 -0.43 -0.18 -0.25 ]\n"
     ]
    }
   ],
   "source": [
    "motor = vsr.Vec(1,1,1).trs() * vsr.Rot(vsr.Biv(0,1,0) * np.pi/6.0)\n",
    "print(motor)"
   ]
  },
  {
   "cell_type": "code",
   "execution_count": 9,
   "metadata": {
    "collapsed": false
   },
   "outputs": [
    {
     "name": "stdout",
     "output_type": "stream",
     "text": [
      "CGA: [ 0 1 2 3 1 7 0 0 0 0 0 0 0 0 0 0 0 0 0 0 0 0 0 0 0 0 0 0 0 0 0 0 ]\n"
     ]
    }
   ],
   "source": [
    "pnt = vsr.CGA(vsr.Vec(1,2,3).null())\n",
    "print(pnt)"
   ]
  },
  {
   "cell_type": "code",
   "execution_count": 10,
   "metadata": {
    "collapsed": false
   },
   "outputs": [
    {
     "name": "stdout",
     "output_type": "stream",
     "text": [
      "CGA: [ 0.87 0 0 0 0 0 0 -0.5 0 0 0 0 -0.68 -0.43 -0.18 0 0 0 0 0 0 0 0 0 0 0 0 -0.25 0 0 0 0 ]\n"
     ]
    }
   ],
   "source": [
    "mot = vsr.CGA(motor)\n",
    "print(mot)"
   ]
  },
  {
   "cell_type": "code",
   "execution_count": 11,
   "metadata": {
    "collapsed": false
   },
   "outputs": [
    {
     "data": {
      "text/plain": [
       "CGA: [ 0 0.049 2.2 3.3 0.87 8.2 0 0 0 0 0 0 0 0 0 0 -1.2 0 0.5 0 -1.7 2.1 -1.2 -0.68 -0.43 -0.18 0 0 0 0 0 0.25 ]"
      ]
     },
     "execution_count": 11,
     "metadata": {},
     "output_type": "execute_result"
    }
   ],
   "source": [
    "pnt * mot.rev()"
   ]
  },
  {
   "cell_type": "code",
   "execution_count": 12,
   "metadata": {
    "collapsed": false
   },
   "outputs": [
    {
     "ename": "TypeError",
     "evalue": "Incompatible function arguments. The following argument types are supported:\n    1. (Mot, float, float, float, float, float, float, float, float) -> None\n",
     "output_type": "error",
     "traceback": [
      "\u001b[1;31m---------------------------------------------------------------------------\u001b[0m",
      "\u001b[1;31mTypeError\u001b[0m                                 Traceback (most recent call last)",
      "\u001b[1;32m<ipython-input-12-b09a3539290b>\u001b[0m in \u001b[0;36m<module>\u001b[1;34m()\u001b[0m\n\u001b[1;32m----> 1\u001b[1;33m \u001b[0mvsr\u001b[0m\u001b[1;33m.\u001b[0m\u001b[0mCGA\u001b[0m\u001b[1;33m(\u001b[0m\u001b[0mvsr\u001b[0m\u001b[1;33m.\u001b[0m\u001b[0mMot\u001b[0m\u001b[1;33m(\u001b[0m\u001b[0mmot\u001b[0m \u001b[1;33m*\u001b[0m \u001b[0mpnt\u001b[0m\u001b[1;33m)\u001b[0m\u001b[1;33m)\u001b[0m\u001b[1;33m\u001b[0m\u001b[0m\n\u001b[0m",
      "\u001b[1;31mTypeError\u001b[0m: Incompatible function arguments. The following argument types are supported:\n    1. (Mot, float, float, float, float, float, float, float, float) -> None\n"
     ]
    }
   ],
   "source": [
    "vsr.CGA(vsr.Mot(mot * pnt))"
   ]
  },
  {
   "cell_type": "code",
   "execution_count": 13,
   "metadata": {
    "collapsed": false
   },
   "outputs": [
    {
     "data": {
      "text/plain": [
       "CGA: [ 0 2.9 2.1 0.48 0 0 0 0 0 0 0 0 0 0 0 0 -0.91 0 0 0 0 0 0 0 0 0 0 0 0 0 0 0 ]"
      ]
     },
     "execution_count": 13,
     "metadata": {},
     "output_type": "execute_result"
    }
   ],
   "source": [
    "a = vsr.Vec(1,2,3)\n",
    "R  = vsr.Rot(vsr.Biv(1,1,1) * np.pi/6.0)\n",
    "vsr.CGA(a) * vsr.CGA(R)"
   ]
  },
  {
   "cell_type": "code",
   "execution_count": 14,
   "metadata": {
    "collapsed": false
   },
   "outputs": [
    {
     "data": {
      "text/plain": [
       "CGA: [ 0.62 0 0 0 0 0 -0.45 -0.45 -0.45 0 0 0 0 0 0 0 0 0 0 0 0 0 0 0 0 0 0 0 0 0 0 0 ]"
      ]
     },
     "execution_count": 14,
     "metadata": {},
     "output_type": "execute_result"
    }
   ],
   "source": [
    "vsr.CGA(R)"
   ]
  },
  {
   "cell_type": "code",
   "execution_count": 15,
   "metadata": {
    "collapsed": false
   },
   "outputs": [
    {
     "data": {
      "text/plain": [
       "CGA: [ 0 2.9 2.1 0.48 0 0 0 0 0 0 0 0 0 0 0 0 0.91 0 0 0 0 0 0 0 0 0 0 0 0 0 0 0 ]"
      ]
     },
     "execution_count": 15,
     "metadata": {},
     "output_type": "execute_result"
    }
   ],
   "source": [
    "vsr.CGA(R).rev() * vsr.CGA(a) "
   ]
  },
  {
   "cell_type": "code",
   "execution_count": 16,
   "metadata": {
    "collapsed": true
   },
   "outputs": [],
   "source": [
    "import motor_jacobian"
   ]
  },
  {
   "cell_type": "code",
   "execution_count": 17,
   "metadata": {
    "collapsed": false
   },
   "outputs": [
    {
     "name": "stdout",
     "output_type": "stream",
     "text": [
      "[[-0.2679  4.4641  5.1962 -3.    ]\n",
      " [ 4.4641  0.2679  3.      5.1962]\n",
      " [ 5.1962 -3.      0.2679 -4.4641]]\n"
     ]
    }
   ],
   "source": [
    "a = vsr.Vec(1,2,3)\n",
    "R  = vsr.Rot(vsr.Biv(1,0,0) * np.pi/6.0)\n",
    "_, J = motor_jacobian.diff_rotor_cost(R, a, vsr.Vec(1,3,4))\n",
    "print(J)"
   ]
  },
  {
   "cell_type": "code",
   "execution_count": 18,
   "metadata": {
    "collapsed": false
   },
   "outputs": [],
   "source": [
    "ae = vsr.EGA(a)\n",
    "Re = vsr.EGA(R)\n",
    "one = vsr.EGA(1,0,0,0,0,0,0,0)"
   ]
  },
  {
   "cell_type": "code",
   "execution_count": 19,
   "metadata": {
    "collapsed": false
   },
   "outputs": [
    {
     "data": {
      "text/plain": [
       "EGA: [ -0.13 0 0 0 2.2 2.6 1.5 0 ]"
      ]
     },
     "execution_count": 19,
     "metadata": {},
     "output_type": "execute_result"
    }
   ],
   "source": [
    "vsr.EGA(0,1,0,0,0,0,0,0) * ae * Re.rev()"
   ]
  },
  {
   "cell_type": "code",
   "execution_count": 20,
   "metadata": {
    "collapsed": false
   },
   "outputs": [
    {
     "data": {
      "text/plain": [
       "EGA: [ 0 -0.13 2.2 2.6 0 0 0 -1.5 ]"
      ]
     },
     "execution_count": 20,
     "metadata": {},
     "output_type": "execute_result"
    }
   ],
   "source": [
    "Re * ae"
   ]
  },
  {
   "cell_type": "code",
   "execution_count": 21,
   "metadata": {
    "collapsed": false
   },
   "outputs": [
    {
     "data": {
      "text/plain": [
       "EGA: [ 0 4.5 0.27 -3 0 0 0 0 ]"
      ]
     },
     "execution_count": 21,
     "metadata": {},
     "output_type": "execute_result"
    }
   ],
   "source": [
    "vsr.EGA(0,0,0,0,1.,0,0,0) * ae * Re.rev() + Re * ae * vsr.EGA(0,0,0,0,-1.,0,0,0)"
   ]
  },
  {
   "cell_type": "code",
   "execution_count": 22,
   "metadata": {
    "collapsed": false
   },
   "outputs": [
    {
     "name": "stdout",
     "output_type": "stream",
     "text": [
      "[[-0.2679  0.      0.      0.    ]\n",
      " [ 0.      0.      0.      0.    ]\n",
      " [ 0.      0.      0.      0.    ]]\n"
     ]
    }
   ],
   "source": [
    "Jac0 = np.zeros((3,4))\n",
    "Jac0[0,1:] = np.array(vsr.EGA(0,1,0,0,0,0,0,0) * ae * Re.rev() + Re * ae * vsr.EGA(0,1,0,0,0,0,0,0))[4:7]\n",
    "Jac0[0,0] = np.array(vsr.EGA(0,1,0,0,0,0,0,0) * ae * Re.rev() + Re * ae * vsr.EGA(0,1,0,0,0,0,0,0))[0]\n",
    "\n",
    "# Jac0[0,:] = np.array(vsr.EGA(0,0,1,0,0,0,0,0) * ae * Re.rev() + Re * ae * vsr.EGA(0,0,1,0,0,0,0,0))[1:4]\n",
    "# Jac0[0,:] = np.array(vsr.EGA(0,0,0,1,0,0,0,0) * ae * Re.rev() + Re * ae * vsr.EGA(0,0,0,1,0,0,0,0))[1:4]\n",
    "print(Jac0)"
   ]
  },
  {
   "cell_type": "code",
   "execution_count": 23,
   "metadata": {
    "collapsed": false
   },
   "outputs": [
    {
     "data": {
      "text/plain": [
       "array([ 0.    ,  0.    ,  0.    ,  0.    ,  4.4641,  5.1962,  3.    ,  0.    ])"
      ]
     },
     "execution_count": 23,
     "metadata": {},
     "output_type": "execute_result"
    }
   ],
   "source": [
    "np.array(vsr.EGA(0,1,0,0,0,0,0,0) * ae * Re.rev() + Re * ae * vsr.EGA(0,-1,0,0,0,0,0,0))"
   ]
  },
  {
   "cell_type": "code",
   "execution_count": 24,
   "metadata": {
    "collapsed": false
   },
   "outputs": [
    {
     "data": {
      "text/plain": [
       "Mot: [ -3 0 -5.2 -5.2 -12 -3.7 1.1e-16 -1.5 ]"
      ]
     },
     "execution_count": 24,
     "metadata": {},
     "output_type": "execute_result"
    }
   ],
   "source": [
    "dll = vsr.Dll(vsr.Vec(4,5,6).null(), vsr.Vec(1,2,3).null())\n",
    "vsr.Mot(1,0,0,0,0,0,0,0) * dll * motor + motor * dll * vsr.Mot(1,0,0,0,0,0,0,0).rev()\n",
    "vsr.Mot(0,1,0,0,0,0,0,0) * dll * motor + motor * dll * vsr.Mot(0,1,0,0,0,0,0,0).rev()"
   ]
  },
  {
   "cell_type": "code",
   "execution_count": 25,
   "metadata": {
    "collapsed": false
   },
   "outputs": [
    {
     "name": "stdout",
     "output_type": "stream",
     "text": [
      "[[-8.1962 -3.      2.1962  5.1962  0.      0.      0.      0.    ]\n",
      " [ 5.1962 -2.1962 -3.      8.1962  0.      0.      0.      0.    ]\n",
      " [-2.1962 -5.1962 -8.1962 -3.      0.      0.      0.      0.    ]\n",
      " [-0.8038 -8.8923  5.1962  1.7942 -3.      8.1962 -5.1962  2.1962]\n",
      " [-8.8923  0.8038 -1.7942  5.1962 -8.1962 -3.      2.1962  5.1962]\n",
      " [ 5.1962  1.7942  0.8038  8.8923  5.1962 -2.1962 -3.      8.1962]]\n"
     ]
    }
   ],
   "source": [
    "dll1 = vsr.Dll(vsr.Vec(4,5,6).null(), vsr.Vec(1,2,3).null())\n",
    "dll2 = vsr.Dll(vsr.Vec(-4,5,-6).null(), vsr.Vec(2,2,3).null())\n",
    "print(motor_jacobian.diff_cost_lines(motor, dll1, dll2))"
   ]
  },
  {
   "cell_type": "code",
   "execution_count": 26,
   "metadata": {
    "collapsed": false
   },
   "outputs": [
    {
     "name": "stdout",
     "output_type": "stream",
     "text": [
      "[[ -37.7654   -2.4115   -6.5885  -58.1769    0.        0.        0.        0.    ]\n",
      " [ -29.4115   28.7654   86.9423   58.1769    0.        0.        0.        0.    ]\n",
      " [  71.3538  -10.7654  -33.5885   58.1769    0.        0.        0.        0.    ]\n",
      " [ -29.0885   26.9134   67.7365 -220.973    58.1769   33.5885  -10.7654\n",
      "   -71.3538]\n",
      " [ 222.4153   83.7346  130.1769 -123.5019  -58.1769   86.9423  -28.7654\n",
      "   -29.4115]\n",
      " [-196.0615   37.4423   85.8231 -184.7365  -58.1769    6.5885   -2.4115\n",
      "    37.7654]]\n"
     ]
    }
   ],
   "source": [
    "Jadcomm = motor_jacobian.diff_cost_lines_comm(motor, dll1, dll2)\n",
    "print(Jadcomm)"
   ]
  },
  {
   "cell_type": "code",
   "execution_count": 27,
   "metadata": {
    "collapsed": false
   },
   "outputs": [
    {
     "name": "stdout",
     "output_type": "stream",
     "text": [
      "[[-8.1962 -3.      2.1962  5.1962  0.      0.      0.      0.    ]\n",
      " [ 5.1962 -2.1962 -3.      8.1962  0.      0.      0.      0.    ]\n",
      " [-2.1962 -5.1962 -8.1962 -3.      0.      0.      0.      0.    ]\n",
      " [-0.8038 -8.8923  5.1962  1.7942 -3.      8.1962 -5.1962  2.1962]\n",
      " [-8.8923  0.8038 -1.7942  5.1962 -8.1962 -3.      2.1962  5.1962]\n",
      " [ 5.1962  1.7942  0.8038  8.8923  5.1962 -2.1962 -3.      8.1962]]\n"
     ]
    }
   ],
   "source": [
    "JacLines = np.zeros((6,8))\n",
    "for i in range(8):\n",
    "    ei = vsr.Mot(0,0,0,0,0,0,0,0)\n",
    "    ei[i] = 1.\n",
    "    JacLines[:,i] = np.array(motor * dll * ei.rev() + ei * dll * motor.rev())[1:7]\n",
    "print(JacLines)"
   ]
  },
  {
   "cell_type": "code",
   "execution_count": 28,
   "metadata": {
    "collapsed": false
   },
   "outputs": [
    {
     "data": {
      "text/plain": [
       "Mot: [ -27 0 0 0 0 0 0 0 ]"
      ]
     },
     "execution_count": 28,
     "metadata": {},
     "output_type": "execute_result"
    }
   ],
   "source": [
    "dll * dll"
   ]
  },
  {
   "cell_type": "code",
   "execution_count": 29,
   "metadata": {
    "collapsed": false
   },
   "outputs": [
    {
     "name": "stdout",
     "output_type": "stream",
     "text": [
      "[[-0.2679  4.4641  5.1962 -3.    ]\n",
      " [ 4.4641  0.2679  3.      5.1962]\n",
      " [ 5.1962 -3.      0.2679 -4.4641]]\n"
     ]
    }
   ],
   "source": [
    "Jac = np.zeros((3,4))\n",
    "Jac[:,0] = np.array(vsr.EGA(1,0,0,0,0,0,0,0) * ae * Re.rev() + Re * ae * vsr.EGA(1,0,0,0,0,0,0,0))[1:4]\n",
    "Jac[:,1] = np.array(vsr.EGA(0,0,0,0,1,0,0,0) * ae * Re.rev() + Re * ae * vsr.EGA(0,0,0,0,-1.,0,0,0))[1:4]\n",
    "Jac[:,2] = np.array(vsr.EGA(0,0,0,0,0,1,0,0) * ae * Re.rev() + Re * ae * vsr.EGA(0,0,0,0,0,-1,0,0))[1:4]\n",
    "Jac[:,3] = np.array(vsr.EGA(0,0,0,0,0,0,1.,0) * ae * Re.rev() + Re * ae * vsr.EGA(0,0,0,0,0,0,-1,0))[1:4]\n",
    "print(Jac)"
   ]
  },
  {
   "cell_type": "code",
   "execution_count": 30,
   "metadata": {
    "collapsed": false
   },
   "outputs": [
    {
     "name": "stdout",
     "output_type": "stream",
     "text": [
      "[[-0.2679  4.4641  5.1962 -3.    ]\n",
      " [ 4.4641  0.2679  3.      5.1962]\n",
      " [ 5.1962 -3.      0.2679 -4.4641]]\n"
     ]
    }
   ],
   "source": [
    "print(Jac)"
   ]
  },
  {
   "cell_type": "code",
   "execution_count": 31,
   "metadata": {
    "collapsed": false
   },
   "outputs": [
    {
     "name": "stdout",
     "output_type": "stream",
     "text": [
      "[[  3.0981e+000  -2.0000e+000   1.0000e+000   0.0000e+000  -1.7321e+000\n",
      "   -2.0000e+000  -3.0981e+000   0.0000e+000]\n",
      " [  1.0000e+000   0.0000e+000   1.0000e+000   0.0000e+000  -3.0981e+000\n",
      "    2.0000e+000  -1.0000e+000   1.7321e+000]\n",
      " [  0.0000e+000  -1.0000e+000   0.0000e+000   0.0000e+000   2.2321e+000\n",
      "    2.0000e+000  -5.0000e-001   0.0000e+000]\n",
      " [ -4.4641e+000   3.5907e-052   5.9728e+015   4.2649e-096   9.0837e+223\n",
      "    7.2941e-043   2.5833e-057   8.2605e-067]\n",
      " [  7.2941e-043   2.5833e-057   8.2605e-067   5.1229e+015   1.4153e+161\n",
      "    9.1665e-072   4.5258e+097   4.9170e-062]]\n"
     ]
    }
   ],
   "source": [
    "print(motor_jacobian.diff_point(motor, vsr.Vec(1,0,0).null()))"
   ]
  },
  {
   "cell_type": "code",
   "execution_count": 32,
   "metadata": {
    "collapsed": false
   },
   "outputs": [
    {
     "data": {
      "text/plain": [
       "array([[ 3.0981,  0.866 ,  1.366 ,  0.5   , -1.7321,  0.    ,  1.    ,  0.    ],\n",
       "       [ 0.866 , -3.0981, -0.5   ,  1.366 ,  0.    , -1.7321,  0.    , -1.    ],\n",
       "       [ 1.366 ,  0.5   , -3.0981, -0.866 , -1.    ,  0.    , -1.7321,  0.    ]])"
      ]
     },
     "execution_count": 32,
     "metadata": {},
     "output_type": "execute_result"
    }
   ],
   "source": [
    "motor_jacobian.diff_cost(motor, vsr.Vec(1,0,0).null(), vsr.Vec(0,0,0).null())"
   ]
  },
  {
   "cell_type": "code",
   "execution_count": 33,
   "metadata": {
    "collapsed": false
   },
   "outputs": [],
   "source": [
    "me = vsr.CGA(motor)\n",
    "pe = vsr.CGA(vsr.Vec(1,0,0).null())"
   ]
  },
  {
   "cell_type": "code",
   "execution_count": 34,
   "metadata": {
    "collapsed": false
   },
   "outputs": [
    {
     "name": "stdout",
     "output_type": "stream",
     "text": [
      "[[ 3.0981  0.866   1.366   0.5    -1.7321  0.      1.      0.    ]\n",
      " [ 0.866  -3.0981 -0.5     1.366   0.     -1.7321  0.     -1.    ]\n",
      " [ 1.366   0.5    -3.0981 -0.866  -1.      0.     -1.7321  0.    ]\n",
      " [ 1.7321  0.     -1.      0.      0.      0.      0.      0.    ]\n",
      " [ 2.2321 -0.866  -0.866   0.5    -4.4641 -1.7321 -1.7321 -1.    ]]\n"
     ]
    }
   ],
   "source": [
    "Jac2 = np.zeros((5,8))\n",
    "Jac2[:,0] = np.array(vsr.CGA(vsr.Mot(1,0,0,0,0,0,0,0)) * pe * me.rev() +  me * pe * vsr.CGA(vsr.Mot(1,0,0,0,0,0,0,0)))[1:6]\n",
    "Jac2[:,1] = np.array(vsr.CGA(vsr.Mot(0,1,0,0,0,0,0,0)) * pe * me.rev() +  me * pe * vsr.CGA(vsr.Mot(0,-1,0,0,0,0,0,0)))[1:6]\n",
    "Jac2[:,2] = np.array(vsr.CGA(vsr.Mot(0,0,1,0,0,0,0,0)) * pe * me.rev() +  me * pe * vsr.CGA(vsr.Mot(0,0,-1,0,0,0,0,0)))[1:6]\n",
    "Jac2[:,3] = np.array(vsr.CGA(vsr.Mot(0,0,0,1,0,0,0,0)) * pe * me.rev() +  me * pe * vsr.CGA(vsr.Mot(0,0,0,-1,0,0,0,0)))[1:6]\n",
    "Jac2[:,4] = np.array(vsr.CGA(vsr.Mot(0,0,0,0,1,0,0,0)) * pe * me.rev() +  me * pe * vsr.CGA(vsr.Mot(0,0,0,0,-1,0,0,0)))[1:6]\n",
    "Jac2[:,5] = np.array(vsr.CGA(vsr.Mot(0,0,0,0,0,1,0,0)) * pe * me.rev() +  me * pe * vsr.CGA(vsr.Mot(0,0,0,0,0,-1,0,0)))[1:6]\n",
    "Jac2[:,6] = np.array(vsr.CGA(vsr.Mot(0,0,0,0,0,0,1,0)) * pe * me.rev() +  me * pe * vsr.CGA(vsr.Mot(0,0,0,0,0,0,-1,0)))[1:6]\n",
    "Jac2[:,7] = np.array(vsr.CGA(vsr.Mot(0,0,0,0,0,0,0,1)) * pe * me.rev() +  me * pe * vsr.CGA(vsr.Mot(0,0,0,0,0,0,0,1)))[1:6]\n",
    "print(Jac2)"
   ]
  },
  {
   "cell_type": "code",
   "execution_count": 35,
   "metadata": {
    "collapsed": false
   },
   "outputs": [
    {
     "data": {
      "text/plain": [
       "Mot: [ -0 0.87 0 0 0 0 0 -0 ]"
      ]
     },
     "execution_count": 35,
     "metadata": {},
     "output_type": "execute_result"
    }
   ],
   "source": [
    "vsr.Mot(0,1,0,0,0,0,0,0).rev() * (vsr.Mot(0,1,0,0,0,0,0,0) * vsr.Mot(*Jac2[0,:]))[0]"
   ]
  },
  {
   "cell_type": "code",
   "execution_count": 36,
   "metadata": {
    "collapsed": false
   },
   "outputs": [
    {
     "data": {
      "text/plain": [
       "Mot: [ 0 -0 -0 -0 -0 -0 -0 1 ]"
      ]
     },
     "execution_count": 36,
     "metadata": {},
     "output_type": "execute_result"
    }
   ],
   "source": [
    "vsr.Mot(0,0,0,0,0,0,0,1).rev()"
   ]
  },
  {
   "cell_type": "code",
   "execution_count": 37,
   "metadata": {
    "collapsed": false
   },
   "outputs": [
    {
     "data": {
      "text/plain": [
       "CGA: [ 0 1.5 0.43 0.68 0.87 1.1 0 0 0 0 0 0 0 0 0 0 -0.25 0 0.5 0 0.43 0.43 -0.25 -0.68 -0.43 -0.18 0 0 0 0 0 0.25 ]"
      ]
     },
     "execution_count": 37,
     "metadata": {},
     "output_type": "execute_result"
    }
   ],
   "source": [
    "pe * me.rev()"
   ]
  },
  {
   "cell_type": "code",
   "execution_count": 121,
   "metadata": {
    "collapsed": false
   },
   "outputs": [],
   "source": [
    "a = vsr.Vec(1,2,3)\n",
    "R = vsr.Rot(vsr.Biv(1,1,1).unit() * np.pi/6.0)\n",
    "B = vsr.Biv(1,2,3).unit()\n",
    "ae = vsr.EGA(a)\n",
    "Re = vsr.EGA(R)\n",
    "Be = vsr.EGA(B)"
   ]
  },
  {
   "cell_type": "code",
   "execution_count": 110,
   "metadata": {
    "collapsed": false
   },
   "outputs": [
    {
     "name": "stdout",
     "output_type": "stream",
     "text": [
      "EGA: [ 2.3 0 0 0 -1.2 -1.2 -6.9 0 ]\n"
     ]
    },
    {
     "data": {
      "text/plain": [
       "Rot: [ 2.3 -1.2 -1.2 -6.9 ]"
      ]
     },
     "execution_count": 110,
     "metadata": {},
     "output_type": "execute_result"
    }
   ],
   "source": [
    "B = (ae * Re.rev() * vsr.EGA(0,0,1,0,0,0,0,0)) + (ae.rev() * Re.rev() * vsr.EGA(0,0,1,0,0,0,0,0).rev())\n",
    "print(B)\n",
    "vsr.Rot(B[0], \n",
    "        (e12.rev() * (e12 * B)[0])[4], \n",
    "        (e13.rev() * (e13 * B)[0])[5],\n",
    "        (e23.rev() * (e23 * B)[0])[6])"
   ]
  },
  {
   "cell_type": "code",
   "execution_count": 111,
   "metadata": {
    "collapsed": false
   },
   "outputs": [],
   "source": [
    "xe = vsr.EGA(0,1,1,1,0,0,0,0)\n",
    "ae = vsr.EGA(0,1,2,3,0,0,0,0)"
   ]
  },
  {
   "cell_type": "code",
   "execution_count": 112,
   "metadata": {
    "collapsed": false
   },
   "outputs": [
    {
     "data": {
      "text/plain": [
       "EGA: [ 0 12 12 12 0 0 0 0 ]"
      ]
     },
     "execution_count": 112,
     "metadata": {},
     "output_type": "execute_result"
    }
   ],
   "source": [
    "(ae * xe * xe) + xe * ae * xe"
   ]
  },
  {
   "cell_type": "code",
   "execution_count": 113,
   "metadata": {
    "collapsed": false
   },
   "outputs": [
    {
     "name": "stdout",
     "output_type": "stream",
     "text": [
      "[[-1.1547  2.3094  6.9282 -1.1547]\n",
      " [ 2.3094  1.1547  1.1547  6.9282]\n",
      " [ 6.9282 -1.1547  1.1547 -2.3094]]\n"
     ]
    }
   ],
   "source": [
    "_, J = motor_jacobian.diff_rotor_cost(R, a, vsr.Vec(1,11,4))\n",
    "print(J)"
   ]
  },
  {
   "cell_type": "code",
   "execution_count": 114,
   "metadata": {
    "collapsed": true
   },
   "outputs": [],
   "source": [
    "f0 = ae * Re.rev() + Re * ae"
   ]
  },
  {
   "cell_type": "code",
   "execution_count": 123,
   "metadata": {
    "collapsed": false
   },
   "outputs": [
    {
     "data": {
      "text/plain": [
       "EGA: [ 0 -3.5 6.9 21 0 0 0 3.5 ]"
      ]
     },
     "execution_count": 123,
     "metadata": {},
     "output_type": "execute_result"
    }
   ],
   "source": [
    "(ae * Re.rev() + Re * ae) +\\\n",
    "e12.rev() * ( e12 * ae * Re.rev() + Re * ae * e12.rev()) +\\\n",
    "e13.rev() * ( e13 * ae * Re.rev() + Re * ae * e13.rev()) +\\\n",
    "e23.rev() * ( e23 * ae * Re.rev() + Re * ae * e23.rev()) "
   ]
  },
  {
   "cell_type": "code",
   "execution_count": null,
   "metadata": {
    "collapsed": true
   },
   "outputs": [],
   "source": [
    "e12.rev() *( e12 * ae * Re.rev() ) + e12.rev() * Re * ae * e12.rev()"
   ]
  },
  {
   "cell_type": "code",
   "execution_count": 122,
   "metadata": {
    "collapsed": false
   },
   "outputs": [
    {
     "data": {
      "text/plain": [
       "EGA: [ 0 -0.91 2.1 7 0 0 0 1.2 ]"
      ]
     },
     "execution_count": 122,
     "metadata": {},
     "output_type": "execute_result"
    }
   ],
   "source": [
    "Be.rev() * (Be * ae * Re.rev() + Re * ae * Be.rev())"
   ]
  },
  {
   "cell_type": "code",
   "execution_count": 85,
   "metadata": {
    "collapsed": false
   },
   "outputs": [],
   "source": [
    "f2 = e13.rev() *( e13 * ae * Re.rev() ) + e13.rev() * Re * ae * e13.rev()"
   ]
  },
  {
   "cell_type": "code",
   "execution_count": 86,
   "metadata": {
    "collapsed": false
   },
   "outputs": [],
   "source": [
    "f3 = e23.rev() *( e23 * ae * Re.rev() ) + e23.rev() * Re * ae * e23.rev()"
   ]
  },
  {
   "cell_type": "code",
   "execution_count": 87,
   "metadata": {
    "collapsed": false
   },
   "outputs": [
    {
     "data": {
      "text/plain": [
       "EGA: [ 0 5.2 1.4 22 0 0 0 3 ]"
      ]
     },
     "execution_count": 87,
     "metadata": {},
     "output_type": "execute_result"
    }
   ],
   "source": [
    "f0 + f1 + f2 + f3"
   ]
  },
  {
   "cell_type": "code",
   "execution_count": 127,
   "metadata": {
    "collapsed": false
   },
   "outputs": [
    {
     "data": {
      "text/plain": [
       "EGA: [ 0 2.3 1.2 -1.2 0 0 0 -4.4e-16 ]"
      ]
     },
     "execution_count": 127,
     "metadata": {},
     "output_type": "execute_result"
    }
   ],
   "source": [
    "( e12 * ae * Re.rev() + Re * ae * e12.rev())"
   ]
  },
  {
   "cell_type": "code",
   "execution_count": 124,
   "metadata": {
    "collapsed": false
   },
   "outputs": [
    {
     "name": "stdout",
     "output_type": "stream",
     "text": [
      "[[-1.1547  2.3094  6.9282 -1.1547]\n",
      " [ 2.3094  1.1547  1.1547  6.9282]\n",
      " [ 6.9282 -1.1547  1.1547 -2.3094]]\n"
     ]
    }
   ],
   "source": [
    "Jac = np.zeros((3,4))\n",
    "Jac[:,0] = np.array(vsr.EGA(1,0,0,0,0,0,0,0) * ae * Re.rev() + Re * ae * vsr.EGA(1,0,0,0,0,0,0,0))[1:4]\n",
    "Jac[:,1] = np.array(vsr.EGA(0,0,0,0,1,0,0,0) * ae * Re.rev() + Re * ae * vsr.EGA(0,0,0,0,-1.,0,0,0))[1:4]\n",
    "Jac[:,2] = np.array(vsr.EGA(0,0,0,0,0,1,0,0) * ae * Re.rev() + Re * ae * vsr.EGA(0,0,0,0,0,-1,0,0))[1:4]\n",
    "Jac[:,3] = np.array(vsr.EGA(0,0,0,0,0,0,1.,0) * ae * Re.rev() + Re * ae * vsr.EGA(0,0,0,0,0,0,-1,0))[1:4]\n",
    "print(Jac)"
   ]
  },
  {
   "cell_type": "code",
   "execution_count": 60,
   "metadata": {
    "collapsed": false
   },
   "outputs": [
    {
     "data": {
      "text/plain": [
       "EGA: [ 7.2 0 0 0 0 0 0 0 ]"
      ]
     },
     "execution_count": 60,
     "metadata": {},
     "output_type": "execute_result"
    }
   ],
   "source": [
    "ei = vsr.EGA(0,0,0,0,0,0,1,0) \n",
    "((Re * ae * ei.rev() + ei * ae * Re.rev()) <= vsr.EGA(0,0,1,0,0,0,0,0) ) "
   ]
  },
  {
   "cell_type": "code",
   "execution_count": 61,
   "metadata": {
    "collapsed": false
   },
   "outputs": [
    {
     "data": {
      "text/plain": [
       "CGA: [ 0 0.43 -1.5 0.25 0 -0.43 0 0 0 0 0 0 0 0 0 0 0.68 0.87 0 -0.5 1.1 -0.25 -0.43 -0.43 0.68 -0.25 0 0 0 0 0 -0.18 ]"
      ]
     },
     "execution_count": 61,
     "metadata": {},
     "output_type": "execute_result"
    }
   ],
   "source": [
    "vsr.CGA(vsr.Mot(0,1,0,0,0,0,0,0)) * pe * me.rev()"
   ]
  },
  {
   "cell_type": "code",
   "execution_count": 62,
   "metadata": {
    "collapsed": false
   },
   "outputs": [
    {
     "ename": "TypeError",
     "evalue": "Incompatible function arguments. The following argument types are supported:\n    1. (Mot, float, float, float, float, float, float, float, float) -> None\n",
     "output_type": "error",
     "traceback": [
      "\u001b[1;31m---------------------------------------------------------------------------\u001b[0m",
      "\u001b[1;31mTypeError\u001b[0m                                 Traceback (most recent call last)",
      "\u001b[1;32m<ipython-input-62-696e0345d0c0>\u001b[0m in \u001b[0;36m<module>\u001b[1;34m()\u001b[0m\n\u001b[1;32m----> 1\u001b[1;33m \u001b[0mvsr\u001b[0m\u001b[1;33m.\u001b[0m\u001b[0mMot\u001b[0m\u001b[1;33m(\u001b[0m\u001b[0mme\u001b[0m \u001b[1;33m*\u001b[0m \u001b[0mpe\u001b[0m\u001b[1;33m)\u001b[0m\u001b[1;33m\u001b[0m\u001b[0m\n\u001b[0m",
      "\u001b[1;31mTypeError\u001b[0m: Incompatible function arguments. The following argument types are supported:\n    1. (Mot, float, float, float, float, float, float, float, float) -> None\n"
     ]
    }
   ],
   "source": [
    "vsr.Mot(me * pe)"
   ]
  },
  {
   "cell_type": "code",
   "execution_count": 63,
   "metadata": {
    "collapsed": false
   },
   "outputs": [],
   "source": [
    "vd = VDMotorEstimationSolver()"
   ]
  },
  {
   "cell_type": "code",
   "execution_count": 64,
   "metadata": {
    "collapsed": false
   },
   "outputs": [
    {
     "name": "stdout",
     "output_type": "stream",
     "text": [
      "[[ 0.     0.5    0.     0.     0.     0.   ]\n",
      " [ 0.866  0.    -0.5    0.     0.     0.   ]\n",
      " [ 0.     0.866  0.     0.     0.     0.   ]\n",
      " [ 0.5    0.     0.866  0.     0.     0.   ]\n",
      " [-0.433 -0.183  0.25   0.866  0.     0.5  ]\n",
      " [ 0.683 -0.25  -0.183  0.     0.866  0.   ]\n",
      " [ 0.25   0.683  0.433 -0.5    0.     0.866]\n",
      " [-0.183  0.433 -0.683  0.     0.5    0.   ]]\n"
     ]
    }
   ],
   "source": [
    "Jac3 = np.zeros((8,6))\n",
    "Jac3[:,0] = vsr.Dll(1,0,0,0,0,0) * motor\n",
    "Jac3[:,1] = vsr.Dll(0,1,0,0,0,0) * motor\n",
    "Jac3[:,2] = vsr.Dll(0,0,1,0,0,0) * motor\n",
    "Jac3[:,3] = vsr.Dll(0,0,0,1,0,0) * motor\n",
    "Jac3[:,4] = vsr.Dll(0,0,0,0,1,0) * motor\n",
    "Jac3[:,5] = vsr.Dll(0,0,0,0,0,1) * motor\n",
    "print(Jac3)"
   ]
  },
  {
   "cell_type": "code",
   "execution_count": 65,
   "metadata": {
    "collapsed": false
   },
   "outputs": [
    {
     "data": {
      "text/plain": [
       "array([[ 2.    ,  3.7321,  0.    , -2.    ,  0.    ,  0.    ],\n",
       "       [-3.    ,  0.    ,  3.7321,  0.    , -2.    ,  0.    ],\n",
       "       [ 0.    , -3.    , -2.    ,  0.    ,  0.    , -2.    ],\n",
       "       [ 0.    ,  0.    ,  0.    ,  0.    ,  0.    ,  0.    ],\n",
       "       [-0.    , -0.    ,  0.    , -3.    , -2.    , -3.7321]])"
      ]
     },
     "execution_count": 65,
     "metadata": {},
     "output_type": "execute_result"
    }
   ],
   "source": [
    "np.dot(Jac2,Jac3)"
   ]
  },
  {
   "cell_type": "code",
   "execution_count": 66,
   "metadata": {
    "collapsed": false
   },
   "outputs": [
    {
     "data": {
      "text/plain": [
       "array([[ 0.    , -2.1962,  6.    ,  0.    ,  0.    ,  0.    ],\n",
       "       [ 2.1962,  0.    ,  8.1962,  0.    ,  0.    ,  0.    ],\n",
       "       [-6.    , -8.1962,  0.    ,  0.    ,  0.    ,  0.    ],\n",
       "       [-1.6077,  0.    , -0.    ,  0.    ,  8.1962, -6.    ],\n",
       "       [ 4.3923,  0.    ,  0.    , -8.1962,  0.    , -2.1962],\n",
       "       [-0.    ,  4.3923,  1.6077,  6.    ,  2.1962,  0.    ]])"
      ]
     },
     "execution_count": 66,
     "metadata": {},
     "output_type": "execute_result"
    }
   ],
   "source": [
    "np.dot(JacLines,Jac3) "
   ]
  },
  {
   "cell_type": "code",
   "execution_count": 67,
   "metadata": {
    "collapsed": false
   },
   "outputs": [],
   "source": [
    "def printer(**kwargs):\n",
    "    ega = vsr.EGA(1,0,0,0,0,0,0,0)\n",
    "    rarr = np.recarray((8), \n",
    "                       names=('s','e1', 'e2', 'e3', 'e12', 'e13', 'e23', 'e123'), \n",
    "                       buf=np.array(ega))\n",
    "#     rarr['e12'] = 1\n",
    "    print(rarr)\n",
    "    "
   ]
  },
  {
   "cell_type": "code",
   "execution_count": 68,
   "metadata": {
    "collapsed": true
   },
   "outputs": [],
   "source": [
    "def full(m):\n",
    "    return vsr.EGA(m)"
   ]
  },
  {
   "cell_type": "code",
   "execution_count": 69,
   "metadata": {
    "collapsed": false
   },
   "outputs": [
    {
     "data": {
      "text/plain": [
       "EGA: [ -9 0 0 0 0 3 0 0 ]"
      ]
     },
     "execution_count": 69,
     "metadata": {},
     "output_type": "execute_result"
    }
   ],
   "source": [
    "\n",
    "B = vsr.EGA(vsr.Rot(1,2,3,4))\n",
    "X = vsr.EGA(vsr.Biv(1,1,1))\n",
    "\n",
    "X * B\n"
   ]
  },
  {
   "cell_type": "code",
   "execution_count": 70,
   "metadata": {
    "collapsed": true
   },
   "outputs": [],
   "source": [
    "e12 = vsr.EGA(vsr.Biv(1,0,0))\n",
    "e13 = vsr.EGA(vsr.Biv(0,1,0))\n",
    "e23 = vsr.EGA(vsr.Biv(0,0,1))"
   ]
  },
  {
   "cell_type": "code",
   "execution_count": 71,
   "metadata": {
    "collapsed": false
   },
   "outputs": [
    {
     "data": {
      "text/plain": [
       "EGA: [ -0 -0 -0 -0 2 3 4 0 ]"
      ]
     },
     "execution_count": 71,
     "metadata": {},
     "output_type": "execute_result"
    }
   ],
   "source": [
    "(e12.rev() * (e12 * B)[0] + \n",
    " e13.rev() * (e13 * B)[0] +\n",
    " e23.rev() * (e23 * B)[0])"
   ]
  },
  {
   "cell_type": "code",
   "execution_count": 72,
   "metadata": {
    "collapsed": false
   },
   "outputs": [
    {
     "data": {
      "text/plain": [
       "EGA: [ 0 3.5 0.93 14 0 0 0 3 ]"
      ]
     },
     "execution_count": 72,
     "metadata": {},
     "output_type": "execute_result"
    }
   ],
   "source": [
    "e12.rev() * (e12 * ae * Re.rev() + Re * ae * e12.rev()) +\\\n",
    "e13.rev() * (e13 * ae * Re.rev() + Re * ae * e13.rev()) +\\\n",
    "e23.rev() * (e23 * ae * Re.rev() + Re * ae * e23.rev())"
   ]
  },
  {
   "cell_type": "code",
   "execution_count": 73,
   "metadata": {
    "collapsed": false
   },
   "outputs": [
    {
     "data": {
      "text/plain": [
       "array([[ -31.1769,  -24.5885,  -49.1769,    0.    ,    0.    ,    0.    ],\n",
       "       [  54.    ,   60.5885,   36.    ,    0.    ,    0.    ,    0.    ],\n",
       "       [  19.7654,    6.5885,   55.7654,    0.    ,    0.    ,    0.    ],\n",
       "       [ -79.0615,  -13.1769, -152.3538,   55.7654,   -6.5885,   19.7654],\n",
       "       [  93.5307,  180.473 , -171.6462,  -36.    ,   60.5885,  -54.    ],\n",
       "       [ -37.7654,    0.    , -221.2961,  -49.1769,   24.5885,  -31.1769]])"
      ]
     },
     "execution_count": 73,
     "metadata": {},
     "output_type": "execute_result"
    }
   ],
   "source": [
    "np.dot(Jadcomm,Jac3) "
   ]
  },
  {
   "cell_type": "code",
   "execution_count": 74,
   "metadata": {
    "collapsed": false
   },
   "outputs": [
    {
     "name": "stdout",
     "output_type": "stream",
     "text": [
      "[[ 2.      3.7321  0.     -2.      0.      0.    ]\n",
      " [-3.      0.      3.7321  0.     -2.      0.    ]\n",
      " [ 0.     -3.     -2.      0.      0.     -2.    ]\n",
      " [ 0.      0.      0.      0.      0.      0.    ]\n",
      " [ 0.      0.      0.     -3.     -2.     -3.7321]]\n"
     ]
    }
   ],
   "source": [
    "Jac4 = np.zeros((5,6))\n",
    "Jac4[:,0] = 2. * np.array(vsr.Dll(1,0,0,0,0,0).comm(vsr.Vec(1,0,0).null().spin(motor)))\n",
    "Jac4[:,1] = 2. * np.array(vsr.Dll(0,1,0,0,0,0).comm(vsr.Vec(1,0,0).null().spin(motor)))\n",
    "Jac4[:,2] = 2. * np.array(vsr.Dll(0,0,1,0,0,0).comm(vsr.Vec(1,0,0).null().spin(motor)))\n",
    "Jac4[:,3] = 2. * np.array(vsr.Dll(0,0,0,1,0,0).comm(vsr.Vec(1,0,0).null().spin(motor)))\n",
    "Jac4[:,4] = 2. * np.array(vsr.Dll(0,0,0,0,1,0).comm(vsr.Vec(1,0,0).null().spin(motor)))\n",
    "Jac4[:,5] = 2. * np.array(vsr.Dll(0,0,0,0,0,1).comm(vsr.Vec(1,0,0).null().spin(motor)))\n",
    "print(Jac4)"
   ]
  },
  {
   "cell_type": "code",
   "execution_count": 75,
   "metadata": {
    "collapsed": false
   },
   "outputs": [
    {
     "data": {
      "text/plain": [
       "array([ 0.    ,  0.866 , -3.0981,  0.5   ,  0.    , -0.866 ,  0.    ,\n",
       "        0.    ,  0.    ,  0.    ,  0.    ,  0.    ,  0.    ,  0.    ,\n",
       "        0.    ,  0.    ,  0.    ,  0.    ,  0.    ,  0.    ,  0.    ,\n",
       "        0.    ,  0.    ,  0.    ,  0.    ,  0.    ,  0.    ,  0.    ,\n",
       "        0.    ,  0.    ,  0.    , -0.366 ])"
      ]
     },
     "execution_count": 75,
     "metadata": {},
     "output_type": "execute_result"
    }
   ],
   "source": [
    "np.array(vsr.CGA(vsr.Mot(0,1,0,0,0,0,0,0)) * pe * me.rev() +  me * pe * vsr.CGA(vsr.Mot(0,-1,0,0,0,0,0,0)))"
   ]
  },
  {
   "cell_type": "markdown",
   "metadata": {},
   "source": [
    "# Figure"
   ]
  },
  {
   "cell_type": "code",
   "execution_count": 76,
   "metadata": {
    "collapsed": false
   },
   "outputs": [],
   "source": [
    "pnt = vsr.Vec(0,1,1).null()\n",
    "dlp = vsr.Dlp(vsr.Vec(1,1,1).unit(), 1)\n",
    "p1 = vsr.Vec(1,0,1).null()\n",
    "p2 = vsr.Vec(2,1,1).null()\n",
    "dll = vsr.Dll(p1,p2).unit()\n",
    "\n",
    "scene = Scene(children=[\n",
    "        frame_mesh(),\n",
    "        point_mesh(pnt,color='palegreen'),\n",
    "        plane_mesh(dlp, width=1, height=1, color='palegreen'),\n",
    "        line_mesh(dll, length=100, color='palegreen'),\n",
    "\n",
    "        point_mesh(pnt.spin(motor),color='lightpink'),\n",
    "        plane_mesh(dlp.spin(motor), width=1, height=1, color='lightpink'),\n",
    "        line_mesh(dll.spin(motor), length=100, color='lightpink'),\n",
    "\n",
    "        AmbientLight(color='#cccccc')])\n",
    "\n",
    "camera = PerspectiveCamera(position=[3, -3, 3])\n",
    "renderer = Renderer(camera=camera, \n",
    "                    scene=scene, \n",
    "                    controls=[TrackballControls(controlling=camera)],\n",
    "                    background = 'white')\n",
    "# renderer.width = '1024'\n",
    "# renderer.height = '768'\n",
    "display(renderer)"
   ]
  },
  {
   "cell_type": "code",
   "execution_count": 128,
   "metadata": {
    "collapsed": false
   },
   "outputs": [
    {
     "ename": "NameError",
     "evalue": "name 'summary_point_1' is not defined",
     "output_type": "error",
     "traceback": [
      "\u001b[1;31m---------------------------------------------------------------------------\u001b[0m",
      "\u001b[1;31mNameError\u001b[0m                                 Traceback (most recent call last)",
      "\u001b[1;32m<ipython-input-128-9619cf0e7cc6>\u001b[0m in \u001b[0;36m<module>\u001b[1;34m()\u001b[0m\n\u001b[0;32m      9\u001b[0m \u001b[0mmes\u001b[0m\u001b[1;33m.\u001b[0m\u001b[0mlinear_solver_type\u001b[0m \u001b[1;33m=\u001b[0m \u001b[1;34m'DENSE_QR'\u001b[0m\u001b[1;33m\u001b[0m\u001b[0m\n\u001b[0;32m     10\u001b[0m \u001b[1;33m(\u001b[0m\u001b[0mestimated_motor\u001b[0m\u001b[1;33m,\u001b[0m \u001b[0msummary\u001b[0m\u001b[1;33m,\u001b[0m \u001b[0mmotors\u001b[0m\u001b[1;33m)\u001b[0m \u001b[1;33m=\u001b[0m \u001b[0mmes\u001b[0m\u001b[1;33m.\u001b[0m\u001b[0msolve\u001b[0m\u001b[1;33m(\u001b[0m\u001b[1;33m)\u001b[0m\u001b[1;33m\u001b[0m\u001b[0m\n\u001b[1;32m---> 11\u001b[1;33m \u001b[1;32mprint\u001b[0m\u001b[1;33m(\u001b[0m\u001b[0msummary_point_1\u001b[0m\u001b[1;33m[\u001b[0m\u001b[1;34m'brief_report'\u001b[0m\u001b[1;33m]\u001b[0m\u001b[1;33m)\u001b[0m\u001b[1;33m\u001b[0m\u001b[0m\n\u001b[0m",
      "\u001b[1;31mNameError\u001b[0m: name 'summary_point_1' is not defined"
     ]
    }
   ],
   "source": [
    "# initial_motor = vsr.Mot(1.0, 0.0, 0.0, 0.0, 0.0, 0.0, 0.0, 0.0)\n",
    "initial_motor = vsr.Vec(0.1,0.1,0.1).trs() * vsr.Rot(vsr.Biv(0,1,0) * (np.pi/6.0 + np.pi/2.))\n",
    "\n",
    "mes = MotorEstimationSolver(initial_motor)\n",
    "mes.add_point_correspondences_residual_block(pnt,pnt.spin(motor))\n",
    "mes.add_line_correspondences_residual_block(dll, dll.spin(motor))\n",
    "mes.add_dual_plane_angle_error_residual_block(dlp, dlp.spin(motor))\n",
    "mes.set_parameterization('BIVECTOR_GENERATOR')\n",
    "mes.linear_solver_type = 'DENSE_QR'\n",
    "(estimated_motor, summary, motors) = mes.solve()\n",
    "print(summary_point_1['brief_report'])"
   ]
  },
  {
   "cell_type": "code",
   "execution_count": 78,
   "metadata": {
    "collapsed": false
   },
   "outputs": [
    {
     "data": {
      "text/plain": [
       "[<matplotlib.lines.Line2D at 0x7fcbeb079910>]"
      ]
     },
     "execution_count": 78,
     "metadata": {},
     "output_type": "execute_result"
    },
    {
     "data": {
      "image/png": "[encoded data removed]",
      "text/plain": [
       "<matplotlib.figure.Figure at 0x7fcbeb0a8510>"
      ]
     },
     "metadata": {},
     "output_type": "display_data"
    }
   ],
   "source": [
    "plt.plot([it['cost'] for it in summary['iterations'] ])"
   ]
  },
  {
   "cell_type": "code",
   "execution_count": 79,
   "metadata": {
    "collapsed": false
   },
   "outputs": [],
   "source": [
    "dlp = vsr.Dlp(vsr.Vec(1,1,1).unit(), 1)\n",
    "p1 = vsr.Vec(1,0,1).null()\n",
    "p2 = vsr.Vec(2,1,1).null()\n",
    "dll = vsr.Dll(p1,p2).unit()\n",
    "\n",
    "points = [point_mesh(pnt.spin(motor),color='lightpink') for motor in motors[2:3]]\n",
    "lines = [line_mesh(dll.spin(motor),color='lightpink') for motor in motors[2:3]]\n",
    "planes = [plane_mesh(dlp.spin(motor), width=1, height=1, color='lightpink') \n",
    "          for motor in motors[2:3]]\n",
    "\n",
    "\n",
    "scene = Scene(children=[\n",
    "        frame_mesh(),\n",
    "        AmbientLight(color='#cccccc')] + points + lines + planes)\n",
    "\n",
    "camera = PerspectiveCamera(position=[3, -3, 3])\n",
    "renderer = Renderer(camera=camera, \n",
    "                    scene=scene, \n",
    "                    controls=[TrackballControls(controlling=camera)],\n",
    "                    background = 'white')\n",
    "# renderer.width = '1024'\n",
    "# renderer.height = '768'\n",
    "display(renderer)"
   ]
  },
  {
   "cell_type": "markdown",
   "metadata": {},
   "source": [
    "## Motor Estimation from Points"
   ]
  },
  {
   "cell_type": "markdown",
   "metadata": {},
   "source": [
    "### Dataset generation"
   ]
  },
  {
   "cell_type": "code",
   "execution_count": null,
   "metadata": {
    "collapsed": false
   },
   "outputs": [],
   "source": [
    "n_points = 10\n",
    "sigma = 0.09\n",
    "points_a = [vsr.Vec(*np.random.normal(0.0, 0.3, 3)).null() \n",
    "            for i in range(n_points)]\n",
    "points_b = [point.spin(motor) for point in points_a]\n",
    "points_b_noisy = [vsr.Vec(*(np.array(point)[:3] \n",
    "                            + sigma * np.random.randn(3))).null() \n",
    "                  for point in points_b]"
   ]
  },
  {
   "cell_type": "code",
   "execution_count": null,
   "metadata": {
    "collapsed": false
   },
   "outputs": [],
   "source": [
    "scene = Scene(children=\n",
    "              [point_mesh(p,color='hotpink') for p in points_a] +\\\n",
    "              [point_mesh(p,color='lightskyblue') for p in points_b] +\\\n",
    "              [frame_mesh(),AmbientLight(color='#cccccc')])\n",
    "\n",
    "camera = PerspectiveCamera(position=[3, -3, 3])\n",
    "renderer = Renderer(camera=camera, \n",
    "                    scene=scene, \n",
    "                    controls=[TrackballControls(controlling=camera)],\n",
    "                    background = 'white')\n",
    "display(renderer)"
   ]
  },
  {
   "cell_type": "markdown",
   "metadata": {},
   "source": [
    "### Estimate motor using Exponential Formulation"
   ]
  },
  {
   "cell_type": "code",
   "execution_count": null,
   "metadata": {
    "collapsed": false
   },
   "outputs": [],
   "source": [
    "# initial_motor = vsr.Mot(1.0, 0.0, 0.0, 0.0, 0.0, 0.0, 0.0, 0.0)\n",
    "initial_motor = vsr.Vec(2,3,4).trs() * vsr.Rot(vsr.Biv(0,-1,0) * np.pi/6)\n",
    "mes = MotorEstimationSolver(initial_motor)\n",
    "for a, b in zip(points_a, points_b_noisy):\n",
    "    mes.add_point_correspondences_residual_block(a,b)\n",
    "mes.set_parameterization('BIVECTOR_GENERATOR')\n",
    "mes.linear_solver_type = 'DENSE_QR'\n",
    "(estimated_motor, summary_point_1, motors) = mes.solve()\n",
    "print(summary_point_1['full_report'])"
   ]
  },
  {
   "cell_type": "code",
   "execution_count": null,
   "metadata": {
    "collapsed": false
   },
   "outputs": [],
   "source": [
    "plt.plot([it['cost'] for it in summary_point_1['iterations'] ])"
   ]
  },
  {
   "cell_type": "markdown",
   "metadata": {},
   "source": [
    "#### Check solution"
   ]
  },
  {
   "cell_type": "code",
   "execution_count": null,
   "metadata": {
    "collapsed": false
   },
   "outputs": [],
   "source": [
    "print(np.array(motor))\n",
    "print(np.array(estimated_motor))\n",
    "print(np.allclose(np.array(motor), np.array(estimated_motor)))"
   ]
  },
  {
   "cell_type": "markdown",
   "metadata": {},
   "source": [
    "### Estimate motor using Valkenburg-Dorst solver"
   ]
  },
  {
   "cell_type": "code",
   "execution_count": null,
   "metadata": {
    "collapsed": false
   },
   "outputs": [],
   "source": [
    "vd = VDMotorEstimationSolver()\n",
    "vd.add_point_observations(points_a, points_b)\n",
    "vd_estimated_motor = vd.solve()"
   ]
  },
  {
   "cell_type": "markdown",
   "metadata": {},
   "source": [
    "#### Check solution"
   ]
  },
  {
   "cell_type": "code",
   "execution_count": null,
   "metadata": {
    "collapsed": false
   },
   "outputs": [],
   "source": [
    "print(np.array(motor))\n",
    "print(np.array(vd_estimated_motor))\n",
    "print(np.allclose(np.array(motor), np.array(vd_estimated_motor)))"
   ]
  },
  {
   "cell_type": "markdown",
   "metadata": {},
   "source": [
    "### Visualize Solution"
   ]
  },
  {
   "cell_type": "code",
   "execution_count": null,
   "metadata": {
    "collapsed": true
   },
   "outputs": [],
   "source": [
    "scene = Scene(children=\n",
    "              [point_mesh(p,color='palegreen') for p in [p.spin(estimated_motor) for p in points_a]] +\\\n",
    "              [point_mesh(p,color='hotpink') for p in points_a] +\\\n",
    "              [point_mesh(p,color='hotpink') for p in points_b] +\\\n",
    "              [frame_mesh(),AmbientLight(color='#cccccc')])\n",
    "\n",
    "camera = PerspectiveCamera(position=[3, -3, 3])\n",
    "renderer = Renderer(camera=camera, \n",
    "                    scene=scene, \n",
    "                    controls=[TrackballControls(controlling=camera)],\n",
    "                    background = 'white')\n",
    "# renderer.width = '1600'\n",
    "# renderer.height = '900'\n",
    "display(renderer)"
   ]
  },
  {
   "cell_type": "markdown",
   "metadata": {},
   "source": [
    "## Motor Estimation from Lines"
   ]
  },
  {
   "cell_type": "markdown",
   "metadata": {},
   "source": [
    "### Dataset generation"
   ]
  },
  {
   "cell_type": "code",
   "execution_count": null,
   "metadata": {
    "collapsed": false
   },
   "outputs": [],
   "source": [
    "lines_a = [vsr.Dll(vsr.Vec(*np.random.normal(0.0,0.8,3)),\n",
    "                   vsr.Vec(*np.random.normal(0.0,0.8,3)))\n",
    "          for i in range(10)]\n",
    "lines_b = [line.spin(motor) for line in lines_a]\n",
    "noise_motor = vsr.Vec(0.05,0.05,0.05).trs() * vsr.Rot(vsr.Biv(1,0,0) * np.pi/50.)\n",
    "lines_b_noisy = [line.spin(motor * noise_motor) for line in lines_a]"
   ]
  },
  {
   "cell_type": "code",
   "execution_count": null,
   "metadata": {
    "collapsed": false
   },
   "outputs": [],
   "source": [
    "scene = Scene(children=\n",
    "              [line_mesh(l.unit(),length=10, color='hotpink') for l in lines_a[:3]] +\\\n",
    "              [line_mesh(l.unit(), length=10, color='lightskyblue') for l in lines_b[:3]] +\\\n",
    "              [frame_mesh(),\n",
    "               AmbientLight(color='#cccccc')])\n",
    "\n",
    "camera = PerspectiveCamera(position=[3, -3, 3])\n",
    "renderer = Renderer(camera=camera, \n",
    "                    scene=scene, \n",
    "                    controls=[TrackballControls(controlling=camera)],\n",
    "                    background = 'white')\n",
    "\n",
    "renderer.width = '1024'\n",
    "renderer.height = '768'\n",
    "display(renderer)"
   ]
  },
  {
   "cell_type": "markdown",
   "metadata": {
    "collapsed": false
   },
   "source": [
    "### Estimate motor using 6 residuals"
   ]
  },
  {
   "cell_type": "markdown",
   "metadata": {},
   "source": [
    "$$ \\min_{M \\in \\mathcal M} \\frac{1}{2} \\sum_{i=1}^n \\| M \\varLambda_{b_i} \\tilde{M} - \\varLambda_{a_i} \\|^2 $$"
   ]
  },
  {
   "cell_type": "code",
   "execution_count": null,
   "metadata": {
    "collapsed": false
   },
   "outputs": [],
   "source": [
    "initial_motor = vsr.Mot(1.0, 0.0, 0.0, 0.0, 0.0, 0.0, 0.0, 0.0)\n",
    "mes = MotorEstimationSolver(initial_motor)\n",
    "for a, b in zip(lines_a, lines_b_noisy):\n",
    "    mes.add_line_correspondences_residual_block(a,b)\n",
    "mes.set_parameterization('BIVECTOR_GENERATOR')\n",
    "mes.linear_solver_type = \"DENSE_QR\"\n",
    "mes.parameter_tolerance = 1e-6\n",
    "estimated_motor, lin_summary_1, motors = mes.solve()\n",
    "print(lin_summary_1['brief_report'])"
   ]
  },
  {
   "cell_type": "markdown",
   "metadata": {
    "collapsed": false
   },
   "source": [
    "#### Check solution"
   ]
  },
  {
   "cell_type": "code",
   "execution_count": null,
   "metadata": {
    "collapsed": false
   },
   "outputs": [],
   "source": [
    "print(np.array(motor))\n",
    "print(np.array(estimated_motor))\n",
    "print(np.allclose(np.array(motor), np.array(estimated_motor)))"
   ]
  },
  {
   "cell_type": "markdown",
   "metadata": {},
   "source": [
    "### Valkenburg and Dorst Solver"
   ]
  },
  {
   "cell_type": "code",
   "execution_count": null,
   "metadata": {
    "collapsed": false
   },
   "outputs": [],
   "source": [
    "vd = VDMotorEstimationSolver()\n",
    "vd.add_dual_line_observations(lines_a, lines_b)\n",
    "vd_estimated_motor = vd.solve()\n",
    "print(vd_estimated_motor)"
   ]
  },
  {
   "cell_type": "code",
   "execution_count": null,
   "metadata": {
    "collapsed": false
   },
   "outputs": [],
   "source": [
    "scene = Scene(children=\n",
    "              [line_mesh(l,length=1, color='hotpink') for l in [l.spin(estimated_motor) for l in lines_a]] +\\\n",
    "              [line_mesh(l,length=1, color='lightgreen') for l in [l.spin(vd_estimated_motor) for l in lines_a]] +\\\n",
    "              [line_mesh(l, length=1, color='lightskyblue') for l in lines_b] +\\\n",
    "              [frame_mesh(),\n",
    "               AmbientLight(color='#cccccc')])\n",
    "\n",
    "camera = PerspectiveCamera(position=[3, -3, 3])\n",
    "renderer = Renderer(camera=camera, \n",
    "                    scene=scene, \n",
    "                    controls=[TrackballControls(controlling=camera)],\n",
    "                    background = 'white')\n",
    "renderer.width = '800'\n",
    "renderer.height = '450'\n",
    "display(renderer)"
   ]
  },
  {
   "cell_type": "code",
   "execution_count": null,
   "metadata": {
    "collapsed": true
   },
   "outputs": [],
   "source": []
  },
  {
   "cell_type": "markdown",
   "metadata": {},
   "source": [
    "### Estimate motor using 4 residuals"
   ]
  },
  {
   "cell_type": "code",
   "execution_count": null,
   "metadata": {
    "collapsed": false
   },
   "outputs": [],
   "source": [
    "initial_motor = vsr.Mot(1.0, 0.0, 0.0, 0.0, 0.0, 0.0, 0.0, 0.0)\n",
    "mes = MotorEstimationSolver(initial_motor)\n",
    "for a, b in zip(lines_a, lines_b):\n",
    "    mes.add_line_angle_distance_residual_block(a,b)\n",
    "mes.set_parameterization('BIVECTOR_GENERATOR')\n",
    "mes.linear_solver_type = \"DENSE_QR\"\n",
    "estimated_motor, lin_summary_2, motors = mes.solve()\n",
    "print(lin_summary_2['full_report'])"
   ]
  },
  {
   "cell_type": "markdown",
   "metadata": {},
   "source": [
    "#### Check solution"
   ]
  },
  {
   "cell_type": "code",
   "execution_count": null,
   "metadata": {
    "collapsed": false
   },
   "outputs": [],
   "source": [
    "print(np.array(motor))\n",
    "print(np.array(estimated_motor))\n",
    "print(np.allclose(np.array(motor), np.array(estimated_motor)))\n",
    "print(np.allclose(np.array(motor), np.array(estimated_motor), \n",
    "                  rtol=1e-05, atol=1e-03))"
   ]
  },
  {
   "cell_type": "markdown",
   "metadata": {
    "collapsed": false
   },
   "source": [
    "### Estimate motor using 2 residuals"
   ]
  },
  {
   "cell_type": "code",
   "execution_count": null,
   "metadata": {
    "collapsed": false
   },
   "outputs": [],
   "source": [
    "initial_motor = vsr.Mot(1.0, 0.0, 0.0, 0.0, 0.0, 0.0, 0.0, 0.0)\n",
    "mes = MotorEstimationSolver(initial_motor)\n",
    "for a, b in zip(lines_a, lines_b):\n",
    "    mes.add_line_angle_distance_norm_residual_block(a,b)\n",
    "mes.set_parameterization('BIVECTOR_GENERATOR')\n",
    "mes.linear_solver_type = \"DENSE_QR\"\n",
    "estimated_motor, lin_summary_3 = mes.solve()\n",
    "print(lin_summary_3['full_report'])"
   ]
  },
  {
   "cell_type": "markdown",
   "metadata": {},
   "source": [
    "#### Check solution"
   ]
  },
  {
   "cell_type": "code",
   "execution_count": null,
   "metadata": {
    "collapsed": false
   },
   "outputs": [],
   "source": [
    "print(np.array(motor))\n",
    "print(np.array(estimated_motor))\n",
    "print(np.allclose(np.array(motor), np.array(estimated_motor)))\n",
    "print(np.allclose(np.array(motor), np.array(estimated_motor), \n",
    "                  rtol=1e-05, atol=1e-03))"
   ]
  },
  {
   "cell_type": "markdown",
   "metadata": {},
   "source": [
    "### Estimate motor using Valkenburg-Dorst solver"
   ]
  },
  {
   "cell_type": "code",
   "execution_count": null,
   "metadata": {
    "collapsed": false
   },
   "outputs": [],
   "source": [
    "vd = VDMotorEstimationSolver()\n",
    "vd.add_dual_line_observations(lines_a, lines_b)\n",
    "vd_estimated_motor = vd.solve()\n",
    "print(vd_estimated_motor)"
   ]
  },
  {
   "cell_type": "markdown",
   "metadata": {},
   "source": [
    "#### Check solution"
   ]
  },
  {
   "cell_type": "code",
   "execution_count": null,
   "metadata": {
    "collapsed": false
   },
   "outputs": [],
   "source": [
    "print(np.array(motor))\n",
    "print(np.array(vd_estimated_motor))\n",
    "print(np.allclose(motor, vd_estimated_motor))"
   ]
  },
  {
   "cell_type": "markdown",
   "metadata": {},
   "source": [
    "### Plots"
   ]
  },
  {
   "cell_type": "code",
   "execution_count": null,
   "metadata": {
    "collapsed": false
   },
   "outputs": [],
   "source": [
    "fig, ax = plt.subplots(2, sharex=True)\n",
    "\n",
    "ax[0].set_aspect('equal')\n",
    "plt.set_cmap('gray')\n",
    "\n",
    "almost_black = '#262626'\n",
    "spines_to_remove = ['top', 'right']\n",
    "for spine in spines_to_remove:\n",
    "    ax[0].spines[spine].set_visible(False)\n",
    "    ax[1].spines[spine].set_visible(False)\n",
    "    \n",
    "ax[0].xaxis.set_ticks_position('none')\n",
    "ax[0].yaxis.set_ticks_position('none')\n",
    "ax[1].xaxis.set_ticks_position('none')\n",
    "ax[1].yaxis.set_ticks_position('none')\n",
    "\n",
    "spines_to_keep = ['bottom', 'left']\n",
    "for spine in spines_to_keep:\n",
    "    ax[0].spines[spine].set_linewidth(0.5)\n",
    "    ax[0].spines[spine].set_color(almost_black)\n",
    "    ax[1].spines[spine].set_linewidth(0.5)\n",
    "    ax[1].spines[spine].set_color(almost_black)\n",
    "ax[0].xaxis.label.set_color(almost_black)\n",
    "ax[0].yaxis.label.set_color(almost_black)\n",
    "ax[1].xaxis.label.set_color(almost_black)\n",
    "ax[1].yaxis.label.set_color(almost_black)\n",
    "\n",
    "# ax.plot([it['cost'] for it in lin_summary_4['iterations'] ], label=r\"commutator\")\n",
    "# ax[0].plot([it['cost'] for it in lin_summary_3['iterations'] ], label=r\"$2$-residuals\", c='red')\n",
    "ax[0].plot([it['cost'] for it in lin_summary_2['iterations'] ], label=r\"$4$-residuals\")\n",
    "ax[1].plot([it['cost'] for it in lin_summary_1['iterations'] ], label=r\"$6$-residuals\")\n",
    "\n",
    "ax[0].set_yscale('log')\n",
    "ax[1].set_yscale('log')\n",
    "\n",
    "ax[0].grid(which=\"both\")\n",
    "ax[1].grid(which=\"both\")\n",
    "\n",
    "# ax[0].set_xscale('log')\n",
    "\n",
    "# plt.yscale('log')\n",
    "\n",
    "# ax[0].title.set_color(almost_black)\n",
    "# ax[0].axhline(0, color=almost_black, linewidth=0.15)\n",
    "# ax[0].axvline(0, color=almost_black, linewidth=0.15)\n",
    "# ax[1].title.set_color(almost_black)\n",
    "# ax[1].axhline(0, color=almost_black, linewidth=0.15)\n",
    "# ax[1].axvline(0, color=almost_black, linewidth=0.15)\n",
    "\n",
    "# Remove the line around the legend box, and instead fill it with a light grey\n",
    "# Also only use one point for the scatterplot legend because the user will \n",
    "# get the idea after just one, they don't need three.\n",
    "light_grey = np.array([float(248)/float(255)]*3)\n",
    "legend = ax[0].legend(frameon=True, scatterpoints=1)\n",
    "rect = legend.get_frame()\n",
    "rect.set_facecolor(light_grey)\n",
    "rect.set_linewidth(0.0)\n",
    "legend = ax[1].legend(frameon=True, scatterpoints=1)\n",
    "rect = legend.get_frame()\n",
    "rect.set_facecolor(light_grey)\n",
    "rect.set_linewidth(0.0)\n",
    "\n",
    "fig.text(0.06, 0.5, 'Cost', ha='center', va='center', rotation='vertical')\n",
    "\n",
    "# plt.tight_layout()\n",
    "plt.xlabel(r'Iteration $k$')\n",
    "# fig.ylabel(r'Cost')\n",
    "# ax[1].ylabel(r'Cost')\n",
    "\n",
    "# plt.savefig('/home/lars/Dropbox/Apps/ShareLaTeX/2016-gacse/figures/cost_lines2.pdf')"
   ]
  },
  {
   "cell_type": "markdown",
   "metadata": {},
   "source": [
    "## Motor Estimation from planes"
   ]
  },
  {
   "cell_type": "markdown",
   "metadata": {},
   "source": [
    "### Dataset generation"
   ]
  },
  {
   "cell_type": "code",
   "execution_count": null,
   "metadata": {
    "collapsed": false
   },
   "outputs": [],
   "source": [
    "n_planes = 10\n",
    "planes_a = []\n",
    "for i in range(10):\n",
    "    dir_vec = np.random.normal(0.0, 0.8, 4)\n",
    "    dir_vec = dir_vec / np.linalg.norm(dir_vec)\n",
    "    distance = np.random.normal(0.0, 0.8,1)\n",
    "    arr = dir_vec + distance\n",
    "    planes_a.append(vsr.Dlp(dir_vec[0],dir_vec[1],dir_vec[2],distance[0]))\n",
    "planes_b = [plane.spin(motor) for plane in planes_a]"
   ]
  },
  {
   "cell_type": "code",
   "execution_count": null,
   "metadata": {
    "collapsed": false
   },
   "outputs": [],
   "source": [
    "scene = Scene(children=\n",
    "              [plane_mesh(p,width=1, height=1,color='hotpink') for p in planes_a[:3]] +\\\n",
    "              [plane_mesh(p,width=1, height=1,color='lightskyblue') for p in planes_b[:3]] +\\\n",
    "              [frame_mesh(),AmbientLight(color='#cccccc')])\n",
    "\n",
    "camera = PerspectiveCamera(position=[3, -3, 3])\n",
    "renderer = Renderer(camera=camera, \n",
    "                    scene=scene, \n",
    "                    controls=[TrackballControls(controlling=camera)],\n",
    "                    background = 'white')\n",
    "\n",
    "renderer.width = '1024'\n",
    "renderer.height = '768'\n",
    "display(renderer)"
   ]
  },
  {
   "cell_type": "markdown",
   "metadata": {},
   "source": [
    "### Estimate motor using 2 residuals"
   ]
  },
  {
   "cell_type": "code",
   "execution_count": null,
   "metadata": {
    "collapsed": false
   },
   "outputs": [],
   "source": [
    "motor = vsr.Vec(1,1,1).trs() * vsr.Rot(vsr.Biv(0,1,0) * np.pi/6.0)\n",
    "noise_motor_plane = vsr.Vec(0.1,0.1,0.1).trs() * vsr.Rot(vsr.Biv(1,0,0) * np.pi/24)\n",
    "initial_motor = vsr.Mot(1.0, 0.0, 0.0, 0.0, 0.0, 0.0, 0.0, 0.0)\n",
    "mes = MotorEstimationSolver(initial_motor)\n",
    "for a, b in zip(planes_a, planes_b):\n",
    "#     mes.add_dual_plane_angle_error_residual_block(a,b.spin(noise_motor_plane))\n",
    "    mes.add_dual_plane_angle_error_residual_block(a,b)\n",
    "\n",
    "mes.set_parameterization('BIVECTOR_GENERATOR')\n",
    "mes.linear_solver_type = \"DENSE_QR\"\n",
    "mes.function_tolerance = 1e-8\n",
    "mes.max_num_iterations = 100\n",
    "estimated_motor, pln_summary_1 = mes.solve()\n",
    "print(pln_summary_1['brief_report'])"
   ]
  },
  {
   "cell_type": "code",
   "execution_count": null,
   "metadata": {
    "collapsed": false
   },
   "outputs": [],
   "source": [
    "print(np.array(motor))\n",
    "print(np.array(estimated_motor))\n",
    "print(np.allclose(np.array(motor), np.array(estimated_motor)))\n",
    "print(np.allclose(np.array(motor), np.array(estimated_motor), \n",
    "                  rtol=1e-05, atol=1e-05))"
   ]
  },
  {
   "cell_type": "code",
   "execution_count": null,
   "metadata": {
    "collapsed": false
   },
   "outputs": [],
   "source": [
    "fig, ax = plt.subplots(1)\n",
    "\n",
    "# ax.set_aspect('equal')\n",
    "plt.set_cmap('gray')\n",
    "\n",
    "almost_black = '#262626'\n",
    "spines_to_remove = ['top', 'right']\n",
    "for spine in spines_to_remove:\n",
    "    ax.spines[spine].set_visible(False)\n",
    "ax.xaxis.set_ticks_position('none')\n",
    "ax.yaxis.set_ticks_position('none')\n",
    "\n",
    "spines_to_keep = ['bottom', 'left']\n",
    "for spine in spines_to_keep:\n",
    "    ax.spines[spine].set_linewidth(0.5)\n",
    "    ax.spines[spine].set_color(almost_black)\n",
    "ax.xaxis.label.set_color(almost_black)\n",
    "ax.yaxis.label.set_color(almost_black)\n",
    "\n",
    "ax.plot([it['cost'] for it in pln_summary_1['iterations'] ])\n",
    "\n",
    "ax.title.set_color(almost_black)\n",
    "ax.axhline(0, color=almost_black, linewidth=0.15)\n",
    "ax.axvline(0, color=almost_black, linewidth=0.15)\n",
    "\n",
    "# Remove the line around the legend box, and instead fill it with a light grey\n",
    "# Also only use one point for the scatterplot legend because the user will \n",
    "# get the idea after just one, they don't need three.\n",
    "\n",
    "# light_grey = np.array([float(248)/float(255)]*3)\n",
    "# legend = ax.legend(frameon=True, scatterpoints=1)\n",
    "# rect = legend.get_frame()\n",
    "# rect.set_facecolor(light_grey)\n",
    "# rect.set_linewidth(0.0)\n",
    "\n",
    "plt.xlabel(r'Iteration $k$')\n",
    "plt.ylabel(r'Cost')\n",
    "\n",
    "\n",
    "# plt.savefig('/Users/lars/Dropbox/Apps/ShareLaTeX/2016-gacse/figures/cost_planes.pdf')"
   ]
  },
  {
   "cell_type": "markdown",
   "metadata": {},
   "source": [
    "### Estimate motor using Valkenburg-Dorst solver"
   ]
  },
  {
   "cell_type": "code",
   "execution_count": null,
   "metadata": {
    "collapsed": false
   },
   "outputs": [],
   "source": [
    "vd = VDMotorEstimationSolver()\n",
    "vd.add_dual_plane_observations(planes_a, planes_b)\n",
    "vd_estimated_motor = vd.solve()\n",
    "print(vd_estimated_motor)"
   ]
  },
  {
   "cell_type": "markdown",
   "metadata": {},
   "source": [
    "#### Check solution"
   ]
  },
  {
   "cell_type": "code",
   "execution_count": null,
   "metadata": {
    "collapsed": false
   },
   "outputs": [],
   "source": [
    "print(np.array(motor))\n",
    "print(np.array(vd_estimated_motor))\n",
    "print(np.allclose(motor, vd_estimated_motor))"
   ]
  },
  {
   "cell_type": "markdown",
   "metadata": {},
   "source": [
    "## Motor Estimation from heterogeneous conformal objects"
   ]
  },
  {
   "cell_type": "markdown",
   "metadata": {},
   "source": [
    "### Estimate motor using Valkenburg-Dorst solver"
   ]
  },
  {
   "cell_type": "code",
   "execution_count": null,
   "metadata": {
    "collapsed": false
   },
   "outputs": [],
   "source": [
    "vd = VDMotorEstimationSolver()\n",
    "vd.add_point_observations(points_a, points_b)\n",
    "vd.add_dual_line_observations(lines_a, lines_b)\n",
    "vd.add_dual_plane_observations(planes_a, planes_b)\n",
    "vd_estimated_motor = vd.solve()\n",
    "print(vd_estimated_motor)"
   ]
  },
  {
   "cell_type": "markdown",
   "metadata": {},
   "source": [
    "#### Check solution"
   ]
  },
  {
   "cell_type": "code",
   "execution_count": null,
   "metadata": {
    "collapsed": false,
    "scrolled": true
   },
   "outputs": [],
   "source": [
    "print(np.array(motor))\n",
    "print(np.array(vd_estimated_motor))\n",
    "print(np.allclose(motor, vd_estimated_motor))"
   ]
  },
  {
   "cell_type": "code",
   "execution_count": null,
   "metadata": {
    "collapsed": false
   },
   "outputs": [],
   "source": [
    "initial_motors = [vd_estimated_motor]\n",
    "vd_summaries_no_noise = []\n",
    "estimated_motors = []\n",
    "for initial_motor in initial_motors:\n",
    "    mes = MotorEstimationSolver(initial_motor)\n",
    "    for a, b in zip(planes_a, planes_b):\n",
    "        mes.add_dual_plane_angle_error_residual_block(a,b)\n",
    "    for a, b in zip(lines_a, lines_b):\n",
    "        mes.add_line_correspondences_residual_block(a,b)\n",
    "    for a, b in zip(points_a, points_b):\n",
    "        mes.add_point_correspondences_residual_block(a,b)\n",
    "    mes.set_parameterization('BIVECTOR_GENERATOR')\n",
    "    mes.linear_solver_type = \"DENSE_QR\"\n",
    "    mes.max_num_iterations = 100\n",
    "    mes.function_tolerance = 1e-2\n",
    "    em, summary_het = mes.solve()\n",
    "    estimated_motors.append(em)\n",
    "    vd_summaries_no_noise.append(summary_het)\n",
    "    print(np.array(initial_motor))\n",
    "    print(np.array(motor))\n",
    "    print(np.array(em))\n",
    "    print(summary_het['brief_report'])"
   ]
  },
  {
   "cell_type": "code",
   "execution_count": null,
   "metadata": {
    "collapsed": false
   },
   "outputs": [],
   "source": [
    "motor = vsr.Vec(1,1,1).trs() * vsr.Rot(vsr.Biv(0,1,0) * np.pi/6.0)\n",
    "noise_motor = vsr.Vec(0.1,0.1,0.1).trs() * vsr.Rot(vsr.Biv(1,0,0) * np.pi/100)\n",
    "\n",
    "noise_motor_plane = vsr.Vec(0.05,0.05,0.05).trs() * vsr.Rot(vsr.Biv(1,0,0) * np.pi/100)\n",
    "noise_motor_lines = vsr.Vec(-0.01,-0.01,-0.01).trs() * vsr.Rot(vsr.Biv(0,1,0) * (-np.pi/100))\n",
    "noise_motor_points = vsr.Vec(0.1,0.1,0.1).trs() * vsr.Rot(vsr.Biv(0,0,1) * (np.pi/100))\n",
    "\n",
    "# initial_motor = vsr.Mot(1.0, 0.0, 0.0, 0.0, 0.0, 0.0, 0.0, 0.0)\n",
    "\n",
    "initial_motors = [vsr.Mot(1.0, 0.0, 0.0, 0.0, 0.0, 0.0, 0.0, 0.0),\n",
    "                  vsr.Vec(0.1,0.1,0.1).trs() * vsr.Rot(vsr.Biv(0,1,0) * (np.pi/6.0 + np.pi/2.))]\n",
    "\n",
    "labels = [\"1\", \"$\\pi$\"]\n",
    "summaries_no_noise = []\n",
    "estimated_motors_no_noise = []\n",
    "for initial_motor in initial_motors:\n",
    "    mes = MotorEstimationSolver(initial_motor)\n",
    "    for a, b in zip(planes_a, planes_b):\n",
    "        mes.add_dual_plane_angle_error_residual_block(a,b)\n",
    "    for a, b in zip(lines_a, lines_b):\n",
    "        mes.add_line_correspondences_residual_block(a,b)\n",
    "    for a, b in zip(points_a, points_b):\n",
    "        mes.add_point_correspondences_residual_block(a,b)\n",
    "    mes.set_parameterization('BIVECTOR_GENERATOR')\n",
    "    mes.linear_solver_type = \"DENSE_QR\"\n",
    "    mes.max_num_iterations = 100\n",
    "    em, summary_het = mes.solve()\n",
    "    estimated_motors_no_noise.append(em)\n",
    "    summaries_no_noise.append(summary_het)\n",
    "    print(initial_motor)\n",
    "#     print(motor)\n",
    "    print(em)\n",
    "\n",
    "#     print(np.array(motor))\n",
    "#     print(np.array(estimated_motor))\n",
    "#     print(np.allclose(np.array(motor), np.array(estimated_motor)))\n",
    "#     print(np.allclose(np.array(motor), np.array(estimated_motor), \n",
    "#                       rtol=1e-05, atol=1e-5))\n",
    "    print(summary_het['brief_report'])\n",
    "    print()"
   ]
  },
  {
   "cell_type": "code",
   "execution_count": null,
   "metadata": {
    "collapsed": false
   },
   "outputs": [],
   "source": [
    "for s,l in zip(summaries_no_noise, labels):\n",
    "    plt.plot([it['cost'] for it in s['iterations']], label=l)\n",
    "plt.semilogy()\n",
    "plt.legend()"
   ]
  },
  {
   "cell_type": "markdown",
   "metadata": {},
   "source": [
    "## With noise"
   ]
  },
  {
   "cell_type": "code",
   "execution_count": null,
   "metadata": {
    "collapsed": false
   },
   "outputs": [],
   "source": [
    "motor = vsr.Vec(1,1,1).trs() * vsr.Rot(vsr.Biv(0,1,0) * np.pi/6.0)\n",
    "\n",
    "noise_motor_planes = vsr.Vec(0.05,0.05,0.05).trs() * vsr.Rot(vsr.Biv(1,0,0) * np.pi/100)\n",
    "noise_motor_lines = vsr.Vec(-0.01,-0.01,-0.01).trs() * vsr.Rot(vsr.Biv(0,1,0) * (-np.pi/100))\n",
    "noise_motor_points = vsr.Vec(0.1,0.1,0.1).trs() * vsr.Rot(vsr.Biv(0,0,1) * (np.pi/100))\n",
    "\n",
    "points_b_noisy = [b.spin(noise_motor_points) for b in points_b]\n",
    "lines_b_noisy = [b.spin(noise_motor_lines) for b in lines_b]\n",
    "planes_b_noisy = [b.spin(noise_motor_planes) for b in planes_b]"
   ]
  },
  {
   "cell_type": "markdown",
   "metadata": {},
   "source": [
    "### Estimate motor using Valkenburg-Dorst solver"
   ]
  },
  {
   "cell_type": "code",
   "execution_count": null,
   "metadata": {
    "collapsed": false
   },
   "outputs": [],
   "source": [
    "vd = VDMotorEstimationSolver()\n",
    "vd.add_point_observations(points_a, points_b_noisy)\n",
    "vd.add_dual_line_observations(lines_a, lines_b_noisy)\n",
    "vd.add_dual_plane_observations(planes_a, planes_b_noisy)\n",
    "vd_estimated_motor = vd.solve()\n",
    "print(vd_estimated_motor)"
   ]
  },
  {
   "cell_type": "markdown",
   "metadata": {},
   "source": [
    "#### Check solution"
   ]
  },
  {
   "cell_type": "code",
   "execution_count": null,
   "metadata": {
    "collapsed": false,
    "scrolled": true
   },
   "outputs": [],
   "source": [
    "print(np.array(motor))\n",
    "print(np.array(vd_estimated_motor))\n",
    "print(np.allclose(motor, vd_estimated_motor))"
   ]
  },
  {
   "cell_type": "code",
   "execution_count": null,
   "metadata": {
    "collapsed": false
   },
   "outputs": [],
   "source": [
    "d = [np.linalg.norm(np.array(a.spin(vd_estimated_motor)) - np.array(a.spin(motor))) for a in points_a]\n",
    "print(np.mean(d), np.std(d))"
   ]
  },
  {
   "cell_type": "code",
   "execution_count": null,
   "metadata": {
    "collapsed": false
   },
   "outputs": [],
   "source": [
    "# initial_motors = [vsr.Mot(1.0, 0.0, 0.0, 0.0, 0.0, 0.0, 0.0, 0.0),\n",
    "#                   vsr.Vec(1,1,1).trs() * vsr.Rot(vsr.Biv(0,1,0) * (np.pi/6.0 + np.pi/2))]\n",
    "summaries_noise = []\n",
    "estimated_motors_noise = []\n",
    "for initial_motor in initial_motors:\n",
    "    mes = MotorEstimationSolver(initial_motor)\n",
    "    for a, b in zip(planes_a, planes_b_noisy):\n",
    "        mes.add_dual_plane_angle_error_residual_block(a,b)\n",
    "    for a, b in zip(lines_a, lines_b_noisy):\n",
    "        mes.add_line_correspondences_residual_block(a,b)\n",
    "    for a, b in zip(points_a, points_b_noisy):\n",
    "        mes.add_point_correspondences_residual_block(a,b)\n",
    "    mes.set_parameterization('BIVECTOR_GENERATOR')\n",
    "    mes.linear_solver_type = \"DENSE_QR\"\n",
    "    mes.max_num_iterations = 100\n",
    "#     mes.function_tolerance = 1e-4\n",
    "    em, summary_het = mes.solve()\n",
    "    estimated_motors_noise.append(em)\n",
    "    summaries_noise.append(summary_het)\n",
    "    print(np.array(initial_motor))\n",
    "#     print(np.array(motor))\n",
    "#     print(np.array(em))\n",
    "    print(summary_het['brief_report'])"
   ]
  },
  {
   "cell_type": "code",
   "execution_count": null,
   "metadata": {
    "collapsed": false
   },
   "outputs": [],
   "source": [
    "d = [[np.linalg.norm(np.array(a.spin(em)) - \n",
    "                np.array(a.spin(motor))) for a in points_a] for em in estimated_motors_noise]\n",
    "for d in d:\n",
    "    print(np.mean(d), np.std(d))"
   ]
  },
  {
   "cell_type": "code",
   "execution_count": null,
   "metadata": {
    "collapsed": false
   },
   "outputs": [],
   "source": [
    "initial_motors = [vd_estimated_motor]\n",
    "vd_summaries_noise = []\n",
    "estimated_motors = []\n",
    "for initial_motor in initial_motors:\n",
    "    mes = MotorEstimationSolver(initial_motor)\n",
    "    for a, b in zip(planes_a, planes_b_noisy):\n",
    "        mes.add_dual_plane_angle_error_residual_block(a,b)\n",
    "    for a, b in zip(lines_a, lines_b_noisy):\n",
    "        mes.add_line_correspondences_residual_block(a,b)\n",
    "    for a, b in zip(points_a, points_b_noisy):\n",
    "        mes.add_point_correspondences_residual_block(a,b)\n",
    "    mes.set_parameterization('BIVECTOR_GENERATOR')\n",
    "    mes.linear_solver_type = \"DENSE_QR\"\n",
    "    mes.max_num_iterations = 100\n",
    "#     mes.function_tolerance = 1e-5\n",
    "    em, summary_het = mes.solve()\n",
    "    estimated_motors.append(em)\n",
    "    vd_summaries_noise.append(summary_het)\n",
    "    print(np.array(initial_motor))\n",
    "    print(np.array(motor))\n",
    "    print(np.array(em))\n",
    "    print(summary_het['brief_report'])"
   ]
  },
  {
   "cell_type": "code",
   "execution_count": null,
   "metadata": {
    "collapsed": false
   },
   "outputs": [],
   "source": [
    "for s,l in zip(summaries_no_noise, labels):\n",
    "    plt.plot([it['cost'] for it in s['iterations']], label=l)\n",
    "for s,l in zip(summaries_noise, labels):\n",
    "    plt.plot([it['cost'] for it in s['iterations']], label=l)\n",
    "plt.axhline(y=vd_summaries_noise[0]['iterations'][0]['cost'])\n",
    "plt.axhline(y=vd_summaries_no_noise[0]['iterations'][0]['cost'])\n",
    "plt.semilogy()\n",
    "plt.legend()"
   ]
  },
  {
   "cell_type": "code",
   "execution_count": null,
   "metadata": {
    "collapsed": false
   },
   "outputs": [],
   "source": [
    "for s in summaries:\n",
    "    plt.plot([it['cost'] for it in s['iterations']])\n",
    "plt.semilogy()"
   ]
  },
  {
   "cell_type": "code",
   "execution_count": null,
   "metadata": {
    "collapsed": false
   },
   "outputs": [],
   "source": [
    "d = [[np.linalg.norm(np.array(a.spin(em)) - \n",
    "                np.array(a.spin(motor))) for a in points_a] for em in estimated_motors]\n",
    "for d in d:\n",
    "    print(np.mean(d), np.std(d))"
   ]
  },
  {
   "cell_type": "code",
   "execution_count": null,
   "metadata": {
    "collapsed": false
   },
   "outputs": [],
   "source": [
    "fig, ax = plt.subplots(1)\n",
    "\n",
    "ax.set_aspect('equal')\n",
    "\n",
    "almost_black = '#262626'\n",
    "spines_to_remove = ['top', 'right']\n",
    "for spine in spines_to_remove:\n",
    "    ax.spines[spine].set_visible(False)\n",
    "ax.xaxis.set_ticks_position('none')\n",
    "ax.yaxis.set_ticks_position('none')\n",
    "\n",
    "spines_to_keep = ['bottom', 'left']\n",
    "for spine in spines_to_keep:\n",
    "    ax.spines[spine].set_linewidth(0.5)\n",
    "    ax.spines[spine].set_color(almost_black)\n",
    "ax.xaxis.label.set_color(almost_black)\n",
    "ax.yaxis.label.set_color(almost_black)\n",
    "\n",
    "# ax.grid(which=\"both\")\n",
    "\n",
    "ax.axhline(y=vd_summaries_noise[0]['iterations'][0]['cost'], \n",
    "           ls=\"-\", lw=0.75,c='black',label=\"V\\&D~[26], With noise\")\n",
    "ax.axhline(y=vd_summaries_no_noise[0]['iterations'][0]['cost'],\n",
    "           ls=\"--\", lw=0.75,c='black',label=\"V\\&D~[26], Without noise\")\n",
    "\n",
    "ax.plot([it['cost'] for it in summaries_no_noise[1]['iterations']], label=r\"Without noise, $\\bar{\\theta}_0 = \\pi$\")\n",
    "ax.plot([it['cost'] for it in summaries_no_noise[0]['iterations']], label=r\"Without noise, $\\bar{\\theta}_0 = {\\pi \\over 3}$\")\n",
    "\n",
    "\n",
    "ax.plot([it['cost'] for it in summaries_noise[1]['iterations']], label=r\"With noise, $\\bar{\\theta}_0 = \\pi$\")\n",
    "ax.plot([it['cost'] for it in summaries_noise[0]['iterations']], label=r\"With noise, $\\bar{\\theta}_0 = {\\pi \\over 3}$\")\n",
    "\n",
    "\n",
    "\n",
    "ax.semilogy()\n",
    "\n",
    "# ax.set_yscale('log')\n",
    "\n",
    "ax.title.set_color(almost_black)\n",
    "ax.axhline(0, color=almost_black, linewidth=0.15)\n",
    "ax.axvline(0, color=almost_black, linewidth=0.15)\n",
    "\n",
    "# Remove the line around the legend box, and instead fill it with a light grey\n",
    "# Also only use one point for the scatterplot legend because the user will \n",
    "# get the idea after just one, they don't need three.\n",
    "\n",
    "light_grey = np.array([float(248)/float(255)]*3)\n",
    "legend = ax.legend(frameon=True, scatterpoints=1)\n",
    "rect = legend.get_frame()\n",
    "rect.set_facecolor(light_grey)\n",
    "rect.set_linewidth(0.0)\n",
    "\n",
    "\n",
    "\n",
    "\n",
    "plt.xlabel(r'Iteration $k$')\n",
    "plt.ylabel(r'Cost')\n",
    "\n",
    "\n",
    "plt.savefig('/home/lars/Dropbox/PhD/latex/2016-05-18_-_AACA-D-16-00064_Manuscript_Tingelstad_Egeland/cost_heterogeneous2.pdf')"
   ]
  },
  {
   "cell_type": "code",
   "execution_count": null,
   "metadata": {
    "collapsed": true
   },
   "outputs": [],
   "source": []
  },
  {
   "cell_type": "code",
   "execution_count": null,
   "metadata": {
    "collapsed": true
   },
   "outputs": [],
   "source": []
  }
 ],
 "metadata": {
  "kernelspec": {
   "display_name": "Python 2",
   "language": "python",
   "name": "python2"
  },
  "language_info": {
   "codemirror_mode": {
    "name": "ipython",
    "version": 2
   },
   "file_extension": ".py",
   "mimetype": "text/x-python",
   "name": "python",
   "nbconvert_exporter": "python",
   "pygments_lexer": "ipython2",
   "version": "2.7.11+"
  },
  "widgets": {
   "state": {
    "03be594341a2464e89d86348c6ca0bb0": {
     "views": []
    },
    "172043fb214c48b88937f821e047b810": {
     "views": []
    },
    "18a4b943b6f546c783026ab67ce97012": {
     "views": []
    },
    "23845ede81d24b0a9df4424fc1e6f751": {
     "views": []
    },
    "2827eb91606440479d673d28d38ff938": {
     "views": []
    },
    "2a49da28c332479c969e276367fc51b7": {
     "views": []
    },
    "2ff5c588d5044bebb507f6aba97e579b": {
     "views": []
    },
    "36290df292cb4f43b2944606afce853b": {
     "views": []
    },
    "3788b89ab0054a25b99862c150196c80": {
     "views": []
    },
    "3ec6462e1f58417296fa004323afd75c": {
     "views": []
    },
    "418e8fca9c0c4be3b7dc529e6fa695ad": {
     "views": [
      {
       "cell_index": 70
      }
     ]
    },
    "421242be9b23400481499bb95fd6de5e": {
     "views": []
    },
    "58a060db9c2c419f9ad624632f2377ac": {
     "views": []
    },
    "5bb763f908ce48eca7b32ed2fcce6a97": {
     "views": []
    },
    "5d91161f97114709883b165a1d7c3c07": {
     "views": []
    },
    "5e2feab73bd341108b9ce41eae2fc8ce": {
     "views": []
    },
    "5fa05b04191b45b2bc0c6e675844cc67": {
     "views": []
    },
    "66edb671228341739fe3a8c0023e11ce": {
     "views": []
    },
    "69a1aadd18534c388e4dc7832ac182ed": {
     "views": []
    },
    "6e404a86b4fd4986aeaa42110cfdcc3f": {
     "views": []
    },
    "71be4428a5e74f76803bfea2f050781f": {
     "views": []
    },
    "721ea74c1cbe44a4973934ab47485819": {
     "views": []
    },
    "7276f55dd795458e853e6efd53c581e6": {
     "views": []
    },
    "75ebe14ce8084645b152a9e70561cd71": {
     "views": []
    },
    "79f68e2ac4e54ecebd97423cc8dced5d": {
     "views": []
    },
    "7dc33b1ac8d44b2f84572f9d4bc7aaff": {
     "views": []
    },
    "8bb3677609854ae28ac67737c5990227": {
     "views": []
    },
    "8cfccadbf818404da3e68286e9034814": {
     "views": []
    },
    "8f0a526ca8ce44caa2d1da037b3d3c9d": {
     "views": []
    },
    "922deacce16f41888b33dae1cda6c995": {
     "views": []
    },
    "936c242fb449403982b3f590fb9d8c17": {
     "views": []
    },
    "99b8762e07cd43ae94416f031e517ae0": {
     "views": []
    },
    "99c05409d4cb41ed84b5848e057d96eb": {
     "views": []
    },
    "9a5b9ce201464606a72183139ae7199b": {
     "views": [
      {
       "cell_index": 67
      }
     ]
    },
    "9e960d5a96c1464eafcac4d2829873c6": {
     "views": []
    },
    "a5bd1725f92a48268134868891af22d1": {
     "views": []
    },
    "a9f487202c6a427da2f1e222ff5ba421": {
     "views": []
    },
    "aa9a3e8d31614d33b8b15c2ec60183fe": {
     "views": []
    },
    "aad7932189f345178da8e8a5f7442ad7": {
     "views": []
    },
    "b35fa044390740b69cf532fe8c3f29b6": {
     "views": []
    },
    "b68d3343f6ec48d0a732f640dd675065": {
     "views": []
    },
    "b8850c17b38446f2ab0fbe13ad6fe143": {
     "views": []
    },
    "b99eb256aa944b7a94a9902ef2c45373": {
     "views": []
    },
    "c0292c5b1117468d85f17520599e4ac0": {
     "views": []
    },
    "c8334f059d43420e88870dc1aa9d5265": {
     "views": []
    },
    "c86ab5999568476fbaf980fe14b65979": {
     "views": []
    },
    "c911506ba77e4c84a86c2a2581593ae7": {
     "views": []
    },
    "d1ac99000e484bccbad57085cba1f77c": {
     "views": []
    },
    "e08e6e3c20a84d359ece601b5f9d56da": {
     "views": []
    },
    "e2ad9470881c4577911fba8c6cb39ae0": {
     "views": []
    },
    "e8e4c22c878548d1a9fe9c163819f196": {
     "views": []
    },
    "ec74b7fc18834440bf38679db1d270c6": {
     "views": []
    },
    "f4657260d1c34eeeac690ebf6626cb56": {
     "views": []
    },
    "f4bcd997c8e64d57adb078d38b116873": {
     "views": []
    }
   },
   "version": "1.1.2"
  }
 },
 "nbformat": 4,
 "nbformat_minor": 0
}
