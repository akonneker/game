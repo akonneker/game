{
 "cells": [
  {
   "cell_type": "markdown",
   "metadata": {
    "slideshow": {
     "slide_type": "-"
    }
   },
   "source": [
    "# Motor Estimation Using Heterogeneus Sets of Objects in Conformal Geometric Algebra\n",
    "\n",
    "## Lars Tingelstad, IPK, NTNU\n",
    "\n",
    "### GACSE Workshop @ CGI 2016"
   ]
  },
  {
   "cell_type": "code",
   "execution_count": 1,
   "metadata": {
    "collapsed": true
   },
   "outputs": [],
   "source": [
    "from __future__ import print_function"
   ]
  },
  {
   "cell_type": "code",
   "execution_count": 2,
   "metadata": {
    "collapsed": false
   },
   "outputs": [],
   "source": [
    "import sys\n",
    "sys.path.append('../build/')"
   ]
  },
  {
   "cell_type": "code",
   "execution_count": 3,
   "metadata": {
    "collapsed": false
   },
   "outputs": [
    {
     "name": "stdout",
     "output_type": "stream",
     "text": [
      "Populating the interactive namespace from numpy and matplotlib\n"
     ]
    }
   ],
   "source": [
    "%pylab inline\n",
    "np.set_printoptions(precision=4, suppress=True)\n"
   ]
  },
  {
   "cell_type": "code",
   "execution_count": 4,
   "metadata": {
    "collapsed": false
   },
   "outputs": [],
   "source": [
    "import versor as vsr\n",
    "from versor.drawing import *"
   ]
  },
  {
   "cell_type": "code",
   "execution_count": 5,
   "metadata": {
    "collapsed": false
   },
   "outputs": [],
   "source": [
    "from motor_estimation import MotorEstimationSolver\n",
    "from motor_estimation_valkenburg_dorst import (point_matrix, dual_line_matrix, dual_plane_matrix)"
   ]
  },
  {
   "cell_type": "code",
   "execution_count": 6,
   "metadata": {
    "collapsed": false
   },
   "outputs": [],
   "source": [
    "from game import (MotorEstimationSolver, VDMotorEstimationSolver)"
   ]
  },
  {
   "cell_type": "markdown",
   "metadata": {},
   "source": [
    "## Ground truth motor"
   ]
  },
  {
   "cell_type": "code",
   "execution_count": 9,
   "metadata": {
    "collapsed": false,
    "scrolled": true
   },
   "outputs": [
    {
     "name": "stdout",
     "output_type": "stream",
     "text": [
      "Mot: [ 0.87 0 -0.5 0 -0.68 -0.43 -0.18 -0.25 ]\n"
     ]
    }
   ],
   "source": [
    "motor = vsr.Vec(1,1,1).trs() * vsr.Rot(vsr.Biv(0,1,0) * np.pi/6.0)\n",
    "print(motor)"
   ]
  },
  {
   "cell_type": "code",
   "execution_count": 8,
   "metadata": {
    "collapsed": false
   },
   "outputs": [
    {
     "ename": "TypeError",
     "evalue": "Incompatible function arguments. The following argument types are supported:\n    1. (Tnv, Vec) -> None\n",
     "output_type": "error",
     "traceback": [
      "\u001b[1;31m---------------------------------------------------------------------------\u001b[0m",
      "\u001b[1;31mTypeError\u001b[0m                                 Traceback (most recent call last)",
      "\u001b[1;32m<ipython-input-8-61d713e512a7>\u001b[0m in \u001b[0;36m<module>\u001b[1;34m()\u001b[0m\n\u001b[1;32m----> 1\u001b[1;33m \u001b[0mvsr\u001b[0m\u001b[1;33m.\u001b[0m\u001b[0mTnv\u001b[0m\u001b[1;33m(\u001b[0m\u001b[0mvsr\u001b[0m\u001b[1;33m.\u001b[0m\u001b[0mVec\u001b[0m\u001b[1;33m(\u001b[0m\u001b[1;36m1\u001b[0m\u001b[1;33m,\u001b[0m\u001b[1;36m2\u001b[0m\u001b[1;33m,\u001b[0m\u001b[1;36m3\u001b[0m\u001b[1;33m)\u001b[0m\u001b[1;33m)\u001b[0m\u001b[1;33m\u001b[0m\u001b[0m\n\u001b[0m",
      "\u001b[1;31mTypeError\u001b[0m: Incompatible function arguments. The following argument types are supported:\n    1. (Tnv, Vec) -> None\n"
     ]
    }
   ],
   "source": [
    "vsr.Tnv(vsr.Vec(1,2,3))"
   ]
  },
  {
   "cell_type": "code",
   "execution_count": 9,
   "metadata": {
    "collapsed": false
   },
   "outputs": [
    {
     "name": "stdout",
     "output_type": "stream",
     "text": [
      "CGA: [ 0 1 2 3 1 7 0 0 0 0 0 0 0 0 0 0 0 0 0 0 0 0 0 0 0 0 0 0 0 0 0 0 ]\n"
     ]
    }
   ],
   "source": [
    "pnt = vsr.CGA(vsr.Vec(1,2,3).null())\n",
    "print(pnt)"
   ]
  },
  {
   "cell_type": "code",
   "execution_count": 10,
   "metadata": {
    "collapsed": false
   },
   "outputs": [
    {
     "name": "stdout",
     "output_type": "stream",
     "text": [
      "CGA: [ 0.87 0 0 0 0 0 0 -0.5 0 0 0 0 -0.68 -0.43 -0.18 0 0 0 0 0 0 0 0 0 0 0 0 -0.25 0 0 0 0 ]\n"
     ]
    }
   ],
   "source": [
    "mot = vsr.CGA(motor)\n",
    "print(mot)"
   ]
  },
  {
   "cell_type": "code",
   "execution_count": 11,
   "metadata": {
    "collapsed": false
   },
   "outputs": [
    {
     "data": {
      "text/plain": [
       "CGA: [ 0 0.049 2.2 3.3 0.87 8.2 0 0 0 0 0 0 0 0 0 0 -1.2 0 0.5 0 -1.7 2.1 -1.2 -0.68 -0.43 -0.18 0 0 0 0 0 0.25 ]"
      ]
     },
     "execution_count": 11,
     "metadata": {},
     "output_type": "execute_result"
    }
   ],
   "source": [
    "pnt * mot.rev()"
   ]
  },
  {
   "cell_type": "code",
   "execution_count": 12,
   "metadata": {
    "collapsed": false
   },
   "outputs": [
    {
     "ename": "TypeError",
     "evalue": "Incompatible function arguments. The following argument types are supported:\n    1. (Mot, float, float, float, float, float, float, float, float) -> None\n",
     "output_type": "error",
     "traceback": [
      "\u001b[1;31m---------------------------------------------------------------------------\u001b[0m",
      "\u001b[1;31mTypeError\u001b[0m                                 Traceback (most recent call last)",
      "\u001b[1;32m<ipython-input-12-b09a3539290b>\u001b[0m in \u001b[0;36m<module>\u001b[1;34m()\u001b[0m\n\u001b[1;32m----> 1\u001b[1;33m \u001b[0mvsr\u001b[0m\u001b[1;33m.\u001b[0m\u001b[0mCGA\u001b[0m\u001b[1;33m(\u001b[0m\u001b[0mvsr\u001b[0m\u001b[1;33m.\u001b[0m\u001b[0mMot\u001b[0m\u001b[1;33m(\u001b[0m\u001b[0mmot\u001b[0m \u001b[1;33m*\u001b[0m \u001b[0mpnt\u001b[0m\u001b[1;33m)\u001b[0m\u001b[1;33m)\u001b[0m\u001b[1;33m\u001b[0m\u001b[0m\n\u001b[0m",
      "\u001b[1;31mTypeError\u001b[0m: Incompatible function arguments. The following argument types are supported:\n    1. (Mot, float, float, float, float, float, float, float, float) -> None\n"
     ]
    }
   ],
   "source": [
    "vsr.CGA(vsr.Mot(mot * pnt))"
   ]
  },
  {
   "cell_type": "code",
   "execution_count": 13,
   "metadata": {
    "collapsed": false
   },
   "outputs": [
    {
     "data": {
      "text/plain": [
       "CGA: [ 0 2.9 2.1 0.48 0 0 0 0 0 0 0 0 0 0 0 0 -0.91 0 0 0 0 0 0 0 0 0 0 0 0 0 0 0 ]"
      ]
     },
     "execution_count": 13,
     "metadata": {},
     "output_type": "execute_result"
    }
   ],
   "source": [
    "a = vsr.Vec(1,2,3)\n",
    "R  = vsr.Rot(vsr.Biv(1,1,1) * np.pi/6.0)\n",
    "vsr.CGA(a) * vsr.CGA(R)"
   ]
  },
  {
   "cell_type": "code",
   "execution_count": 14,
   "metadata": {
    "collapsed": false
   },
   "outputs": [
    {
     "data": {
      "text/plain": [
       "CGA: [ 0.62 0 0 0 0 0 -0.45 -0.45 -0.45 0 0 0 0 0 0 0 0 0 0 0 0 0 0 0 0 0 0 0 0 0 0 0 ]"
      ]
     },
     "execution_count": 14,
     "metadata": {},
     "output_type": "execute_result"
    }
   ],
   "source": [
    "vsr.CGA(R)"
   ]
  },
  {
   "cell_type": "code",
   "execution_count": 15,
   "metadata": {
    "collapsed": false
   },
   "outputs": [
    {
     "data": {
      "text/plain": [
       "CGA: [ 0 2.9 2.1 0.48 0 0 0 0 0 0 0 0 0 0 0 0 0.91 0 0 0 0 0 0 0 0 0 0 0 0 0 0 0 ]"
      ]
     },
     "execution_count": 15,
     "metadata": {},
     "output_type": "execute_result"
    }
   ],
   "source": [
    "vsr.CGA(R).rev() * vsr.CGA(a) "
   ]
  },
  {
   "cell_type": "code",
   "execution_count": 16,
   "metadata": {
    "collapsed": true
   },
   "outputs": [],
   "source": [
    "import motor_jacobian"
   ]
  },
  {
   "cell_type": "code",
   "execution_count": 17,
   "metadata": {
    "collapsed": false
   },
   "outputs": [
    {
     "name": "stdout",
     "output_type": "stream",
     "text": [
      "[[-0.2679  4.4641  5.1962 -3.    ]\n",
      " [ 4.4641  0.2679  3.      5.1962]\n",
      " [ 5.1962 -3.      0.2679 -4.4641]]\n"
     ]
    }
   ],
   "source": [
    "a = vsr.Vec(1,2,3)\n",
    "R  = vsr.Rot(vsr.Biv(1,0,0) * np.pi/6.0)\n",
    "_, J = motor_jacobian.diff_rotor_cost(R, a, vsr.Vec(1,3,4))\n",
    "print(J)"
   ]
  },
  {
   "cell_type": "code",
   "execution_count": 18,
   "metadata": {
    "collapsed": false
   },
   "outputs": [],
   "source": [
    "ae = vsr.EGA(a)\n",
    "Re = vsr.EGA(R)\n",
    "one = vsr.EGA(1,0,0,0,0,0,0,0)"
   ]
  },
  {
   "cell_type": "code",
   "execution_count": 19,
   "metadata": {
    "collapsed": false
   },
   "outputs": [
    {
     "data": {
      "text/plain": [
       "EGA: [ -0.13 0 0 0 2.2 2.6 1.5 0 ]"
      ]
     },
     "execution_count": 19,
     "metadata": {},
     "output_type": "execute_result"
    }
   ],
   "source": [
    "vsr.EGA(0,1,0,0,0,0,0,0) * ae * Re.rev()"
   ]
  },
  {
   "cell_type": "code",
   "execution_count": 20,
   "metadata": {
    "collapsed": false
   },
   "outputs": [
    {
     "data": {
      "text/plain": [
       "EGA: [ 0 -0.13 2.2 2.6 0 0 0 -1.5 ]"
      ]
     },
     "execution_count": 20,
     "metadata": {},
     "output_type": "execute_result"
    }
   ],
   "source": [
    "Re * ae"
   ]
  },
  {
   "cell_type": "code",
   "execution_count": 21,
   "metadata": {
    "collapsed": false
   },
   "outputs": [
    {
     "data": {
      "text/plain": [
       "EGA: [ 0 4.5 0.27 -3 0 0 0 0 ]"
      ]
     },
     "execution_count": 21,
     "metadata": {},
     "output_type": "execute_result"
    }
   ],
   "source": [
    "vsr.EGA(0,0,0,0,1.,0,0,0) * ae * Re.rev() + Re * ae * vsr.EGA(0,0,0,0,-1.,0,0,0)"
   ]
  },
  {
   "cell_type": "code",
   "execution_count": 22,
   "metadata": {
    "collapsed": false
   },
   "outputs": [
    {
     "name": "stdout",
     "output_type": "stream",
     "text": [
      "[[-0.2679  0.      0.      0.    ]\n",
      " [ 0.      0.      0.      0.    ]\n",
      " [ 0.      0.      0.      0.    ]]\n"
     ]
    }
   ],
   "source": [
    "Jac0 = np.zeros((3,4))\n",
    "Jac0[0,1:] = np.array(vsr.EGA(0,1,0,0,0,0,0,0) * ae * Re.rev() + Re * ae * vsr.EGA(0,1,0,0,0,0,0,0))[4:7]\n",
    "Jac0[0,0] = np.array(vsr.EGA(0,1,0,0,0,0,0,0) * ae * Re.rev() + Re * ae * vsr.EGA(0,1,0,0,0,0,0,0))[0]\n",
    "\n",
    "# Jac0[0,:] = np.array(vsr.EGA(0,0,1,0,0,0,0,0) * ae * Re.rev() + Re * ae * vsr.EGA(0,0,1,0,0,0,0,0))[1:4]\n",
    "# Jac0[0,:] = np.array(vsr.EGA(0,0,0,1,0,0,0,0) * ae * Re.rev() + Re * ae * vsr.EGA(0,0,0,1,0,0,0,0))[1:4]\n",
    "print(Jac0)"
   ]
  },
  {
   "cell_type": "code",
   "execution_count": 23,
   "metadata": {
    "collapsed": false
   },
   "outputs": [
    {
     "data": {
      "text/plain": [
       "array([ 0.    ,  0.    ,  0.    ,  0.    ,  4.4641,  5.1962,  3.    ,  0.    ])"
      ]
     },
     "execution_count": 23,
     "metadata": {},
     "output_type": "execute_result"
    }
   ],
   "source": [
    "np.array(vsr.EGA(0,1,0,0,0,0,0,0) * ae * Re.rev() + Re * ae * vsr.EGA(0,-1,0,0,0,0,0,0))"
   ]
  },
  {
   "cell_type": "code",
   "execution_count": 24,
   "metadata": {
    "collapsed": false
   },
   "outputs": [
    {
     "data": {
      "text/plain": [
       "Mot: [ -3 0 -5.2 -5.2 -12 -3.7 1.1e-16 -1.5 ]"
      ]
     },
     "execution_count": 24,
     "metadata": {},
     "output_type": "execute_result"
    }
   ],
   "source": [
    "dll = vsr.Dll(vsr.Vec(4,5,6).null(), vsr.Vec(1,2,3).null())\n",
    "vsr.Mot(1,0,0,0,0,0,0,0) * dll * motor + motor * dll * vsr.Mot(1,0,0,0,0,0,0,0).rev()\n",
    "vsr.Mot(0,1,0,0,0,0,0,0) * dll * motor + motor * dll * vsr.Mot(0,1,0,0,0,0,0,0).rev()"
   ]
  },
  {
   "cell_type": "code",
   "execution_count": 25,
   "metadata": {
    "collapsed": false
   },
   "outputs": [
    {
     "name": "stdout",
     "output_type": "stream",
     "text": [
      "[[-8.1962 -3.      2.1962  5.1962  0.      0.      0.      0.    ]\n",
      " [ 5.1962 -2.1962 -3.      8.1962  0.      0.      0.      0.    ]\n",
      " [-2.1962 -5.1962 -8.1962 -3.      0.      0.      0.      0.    ]\n",
      " [-0.8038 -8.8923  5.1962  1.7942 -3.      8.1962 -5.1962  2.1962]\n",
      " [-8.8923  0.8038 -1.7942  5.1962 -8.1962 -3.      2.1962  5.1962]\n",
      " [ 5.1962  1.7942  0.8038  8.8923  5.1962 -2.1962 -3.      8.1962]]\n"
     ]
    }
   ],
   "source": [
    "dll1 = vsr.Dll(vsr.Vec(4,5,6).null(), vsr.Vec(1,2,3).null())\n",
    "dll2 = vsr.Dll(vsr.Vec(-4,5,-6).null(), vsr.Vec(2,2,3).null())\n",
    "print(motor_jacobian.diff_cost_lines(motor, dll1, dll2))"
   ]
  },
  {
   "cell_type": "code",
   "execution_count": 26,
   "metadata": {
    "collapsed": false
   },
   "outputs": [
    {
     "name": "stdout",
     "output_type": "stream",
     "text": [
      "[[ -37.7654   -2.4115   -6.5885  -58.1769    0.        0.        0.        0.    ]\n",
      " [ -29.4115   28.7654   86.9423   58.1769    0.        0.        0.        0.    ]\n",
      " [  71.3538  -10.7654  -33.5885   58.1769    0.        0.        0.        0.    ]\n",
      " [ -29.0885   26.9134   67.7365 -220.973    58.1769   33.5885  -10.7654\n",
      "   -71.3538]\n",
      " [ 222.4153   83.7346  130.1769 -123.5019  -58.1769   86.9423  -28.7654\n",
      "   -29.4115]\n",
      " [-196.0615   37.4423   85.8231 -184.7365  -58.1769    6.5885   -2.4115\n",
      "    37.7654]]\n"
     ]
    }
   ],
   "source": [
    "Jadcomm = motor_jacobian.diff_cost_lines_comm(motor, dll1, dll2)\n",
    "print(Jadcomm)"
   ]
  },
  {
   "cell_type": "code",
   "execution_count": 27,
   "metadata": {
    "collapsed": false
   },
   "outputs": [
    {
     "name": "stdout",
     "output_type": "stream",
     "text": [
      "[[-8.1962 -3.      2.1962  5.1962  0.      0.      0.      0.    ]\n",
      " [ 5.1962 -2.1962 -3.      8.1962  0.      0.      0.      0.    ]\n",
      " [-2.1962 -5.1962 -8.1962 -3.      0.      0.      0.      0.    ]\n",
      " [-0.8038 -8.8923  5.1962  1.7942 -3.      8.1962 -5.1962  2.1962]\n",
      " [-8.8923  0.8038 -1.7942  5.1962 -8.1962 -3.      2.1962  5.1962]\n",
      " [ 5.1962  1.7942  0.8038  8.8923  5.1962 -2.1962 -3.      8.1962]]\n"
     ]
    }
   ],
   "source": [
    "JacLines = np.zeros((6,8))\n",
    "for i in range(8):\n",
    "    ei = vsr.Mot(0,0,0,0,0,0,0,0)\n",
    "    ei[i] = 1.\n",
    "    JacLines[:,i] = np.array(motor * dll * ei.rev() + ei * dll * motor.rev())[1:7]\n",
    "print(JacLines)"
   ]
  },
  {
   "cell_type": "code",
   "execution_count": 28,
   "metadata": {
    "collapsed": false
   },
   "outputs": [
    {
     "data": {
      "text/plain": [
       "Mot: [ -27 0 0 0 0 0 0 0 ]"
      ]
     },
     "execution_count": 28,
     "metadata": {},
     "output_type": "execute_result"
    }
   ],
   "source": [
    "dll * dll"
   ]
  },
  {
   "cell_type": "code",
   "execution_count": 29,
   "metadata": {
    "collapsed": false
   },
   "outputs": [
    {
     "name": "stdout",
     "output_type": "stream",
     "text": [
      "[[-0.2679  4.4641  5.1962 -3.    ]\n",
      " [ 4.4641  0.2679  3.      5.1962]\n",
      " [ 5.1962 -3.      0.2679 -4.4641]]\n"
     ]
    }
   ],
   "source": [
    "Jac = np.zeros((3,4))\n",
    "Jac[:,0] = np.array(vsr.EGA(1,0,0,0,0,0,0,0) * ae * Re.rev() + Re * ae * vsr.EGA(1,0,0,0,0,0,0,0))[1:4]\n",
    "Jac[:,1] = np.array(vsr.EGA(0,0,0,0,1,0,0,0) * ae * Re.rev() + Re * ae * vsr.EGA(0,0,0,0,-1.,0,0,0))[1:4]\n",
    "Jac[:,2] = np.array(vsr.EGA(0,0,0,0,0,1,0,0) * ae * Re.rev() + Re * ae * vsr.EGA(0,0,0,0,0,-1,0,0))[1:4]\n",
    "Jac[:,3] = np.array(vsr.EGA(0,0,0,0,0,0,1.,0) * ae * Re.rev() + Re * ae * vsr.EGA(0,0,0,0,0,0,-1,0))[1:4]\n",
    "print(Jac)"
   ]
  },
  {
   "cell_type": "code",
   "execution_count": 30,
   "metadata": {
    "collapsed": false
   },
   "outputs": [
    {
     "name": "stdout",
     "output_type": "stream",
     "text": [
      "[[-0.2679  4.4641  5.1962 -3.    ]\n",
      " [ 4.4641  0.2679  3.      5.1962]\n",
      " [ 5.1962 -3.      0.2679 -4.4641]]\n"
     ]
    }
   ],
   "source": [
    "print(Jac)"
   ]
  },
  {
   "cell_type": "code",
   "execution_count": 31,
   "metadata": {
    "collapsed": false
   },
   "outputs": [
    {
     "name": "stdout",
     "output_type": "stream",
     "text": [
      "[[  3.0981e+000  -2.0000e+000   1.0000e+000   0.0000e+000  -1.7321e+000\n",
      "   -2.0000e+000  -3.0981e+000   0.0000e+000]\n",
      " [  1.0000e+000   0.0000e+000   1.0000e+000   0.0000e+000  -3.0981e+000\n",
      "    2.0000e+000  -1.0000e+000   1.7321e+000]\n",
      " [  0.0000e+000  -1.0000e+000   0.0000e+000   0.0000e+000   2.2321e+000\n",
      "    2.0000e+000  -5.0000e-001   0.0000e+000]\n",
      " [ -4.4641e+000   3.5907e-052   5.9728e+015   4.2649e-096   9.0837e+223\n",
      "    7.2941e-043   2.5833e-057   8.2605e-067]\n",
      " [  7.2941e-043   2.5833e-057   8.2605e-067   5.1229e+015   1.4153e+161\n",
      "    9.1665e-072   4.5258e+097   4.9170e-062]]\n"
     ]
    }
   ],
   "source": [
    "print(motor_jacobian.diff_point(motor, vsr.Vec(1,0,0).null()))"
   ]
  },
  {
   "cell_type": "code",
   "execution_count": 32,
   "metadata": {
    "collapsed": false
   },
   "outputs": [
    {
     "data": {
      "text/plain": [
       "array([[ 3.0981,  0.866 ,  1.366 ,  0.5   , -1.7321,  0.    ,  1.    ,  0.    ],\n",
       "       [ 0.866 , -3.0981, -0.5   ,  1.366 ,  0.    , -1.7321,  0.    , -1.    ],\n",
       "       [ 1.366 ,  0.5   , -3.0981, -0.866 , -1.    ,  0.    , -1.7321,  0.    ]])"
      ]
     },
     "execution_count": 32,
     "metadata": {},
     "output_type": "execute_result"
    }
   ],
   "source": [
    "motor_jacobian.diff_cost(motor, vsr.Vec(1,0,0).null(), vsr.Vec(0,0,0).null())"
   ]
  },
  {
   "cell_type": "code",
   "execution_count": 33,
   "metadata": {
    "collapsed": false
   },
   "outputs": [],
   "source": [
    "me = vsr.CGA(motor)\n",
    "pe = vsr.CGA(vsr.Vec(1,0,0).null())"
   ]
  },
  {
   "cell_type": "code",
   "execution_count": 34,
   "metadata": {
    "collapsed": false
   },
   "outputs": [
    {
     "name": "stdout",
     "output_type": "stream",
     "text": [
      "[[ 3.0981  0.866   1.366   0.5    -1.7321  0.      1.      0.    ]\n",
      " [ 0.866  -3.0981 -0.5     1.366   0.     -1.7321  0.     -1.    ]\n",
      " [ 1.366   0.5    -3.0981 -0.866  -1.      0.     -1.7321  0.    ]\n",
      " [ 1.7321  0.     -1.      0.      0.      0.      0.      0.    ]\n",
      " [ 2.2321 -0.866  -0.866   0.5    -4.4641 -1.7321 -1.7321 -1.    ]]\n"
     ]
    }
   ],
   "source": [
    "Jac2 = np.zeros((5,8))\n",
    "Jac2[:,0] = np.array(vsr.CGA(vsr.Mot(1,0,0,0,0,0,0,0)) * pe * me.rev() +  me * pe * vsr.CGA(vsr.Mot(1,0,0,0,0,0,0,0)))[1:6]\n",
    "Jac2[:,1] = np.array(vsr.CGA(vsr.Mot(0,1,0,0,0,0,0,0)) * pe * me.rev() +  me * pe * vsr.CGA(vsr.Mot(0,-1,0,0,0,0,0,0)))[1:6]\n",
    "Jac2[:,2] = np.array(vsr.CGA(vsr.Mot(0,0,1,0,0,0,0,0)) * pe * me.rev() +  me * pe * vsr.CGA(vsr.Mot(0,0,-1,0,0,0,0,0)))[1:6]\n",
    "Jac2[:,3] = np.array(vsr.CGA(vsr.Mot(0,0,0,1,0,0,0,0)) * pe * me.rev() +  me * pe * vsr.CGA(vsr.Mot(0,0,0,-1,0,0,0,0)))[1:6]\n",
    "Jac2[:,4] = np.array(vsr.CGA(vsr.Mot(0,0,0,0,1,0,0,0)) * pe * me.rev() +  me * pe * vsr.CGA(vsr.Mot(0,0,0,0,-1,0,0,0)))[1:6]\n",
    "Jac2[:,5] = np.array(vsr.CGA(vsr.Mot(0,0,0,0,0,1,0,0)) * pe * me.rev() +  me * pe * vsr.CGA(vsr.Mot(0,0,0,0,0,-1,0,0)))[1:6]\n",
    "Jac2[:,6] = np.array(vsr.CGA(vsr.Mot(0,0,0,0,0,0,1,0)) * pe * me.rev() +  me * pe * vsr.CGA(vsr.Mot(0,0,0,0,0,0,-1,0)))[1:6]\n",
    "Jac2[:,7] = np.array(vsr.CGA(vsr.Mot(0,0,0,0,0,0,0,1)) * pe * me.rev() +  me * pe * vsr.CGA(vsr.Mot(0,0,0,0,0,0,0,1)))[1:6]\n",
    "print(Jac2)"
   ]
  },
  {
   "cell_type": "code",
   "execution_count": 35,
   "metadata": {
    "collapsed": false
   },
   "outputs": [
    {
     "data": {
      "text/plain": [
       "Mot: [ -0 0.87 0 0 0 0 0 -0 ]"
      ]
     },
     "execution_count": 35,
     "metadata": {},
     "output_type": "execute_result"
    }
   ],
   "source": [
    "vsr.Mot(0,1,0,0,0,0,0,0).rev() * (vsr.Mot(0,1,0,0,0,0,0,0) * vsr.Mot(*Jac2[0,:]))[0]"
   ]
  },
  {
   "cell_type": "code",
   "execution_count": 36,
   "metadata": {
    "collapsed": false
   },
   "outputs": [
    {
     "data": {
      "text/plain": [
       "Mot: [ 0 -0 -0 -0 -0 -0 -0 1 ]"
      ]
     },
     "execution_count": 36,
     "metadata": {},
     "output_type": "execute_result"
    }
   ],
   "source": [
    "vsr.Mot(0,0,0,0,0,0,0,1).rev()"
   ]
  },
  {
   "cell_type": "code",
   "execution_count": 37,
   "metadata": {
    "collapsed": false
   },
   "outputs": [
    {
     "data": {
      "text/plain": [
       "CGA: [ 0 1.5 0.43 0.68 0.87 1.1 0 0 0 0 0 0 0 0 0 0 -0.25 0 0.5 0 0.43 0.43 -0.25 -0.68 -0.43 -0.18 0 0 0 0 0 0.25 ]"
      ]
     },
     "execution_count": 37,
     "metadata": {},
     "output_type": "execute_result"
    }
   ],
   "source": [
    "pe * me.rev()"
   ]
  },
  {
   "cell_type": "code",
   "execution_count": 121,
   "metadata": {
    "collapsed": false
   },
   "outputs": [],
   "source": [
    "a = vsr.Vec(1,2,3)\n",
    "R = vsr.Rot(vsr.Biv(1,1,1).unit() * np.pi/6.0)\n",
    "B = vsr.Biv(1,2,3).unit()\n",
    "ae = vsr.EGA(a)\n",
    "Re = vsr.EGA(R)\n",
    "Be = vsr.EGA(B)"
   ]
  },
  {
   "cell_type": "code",
   "execution_count": 110,
   "metadata": {
    "collapsed": false
   },
   "outputs": [
    {
     "name": "stdout",
     "output_type": "stream",
     "text": [
      "EGA: [ 2.3 0 0 0 -1.2 -1.2 -6.9 0 ]\n"
     ]
    },
    {
     "data": {
      "text/plain": [
       "Rot: [ 2.3 -1.2 -1.2 -6.9 ]"
      ]
     },
     "execution_count": 110,
     "metadata": {},
     "output_type": "execute_result"
    }
   ],
   "source": [
    "B = (ae * Re.rev() * vsr.EGA(0,0,1,0,0,0,0,0)) + (ae.rev() * Re.rev() * vsr.EGA(0,0,1,0,0,0,0,0).rev())\n",
    "print(B)\n",
    "vsr.Rot(B[0], \n",
    "        (e12.rev() * (e12 * B)[0])[4], \n",
    "        (e13.rev() * (e13 * B)[0])[5],\n",
    "        (e23.rev() * (e23 * B)[0])[6])"
   ]
  },
  {
   "cell_type": "code",
   "execution_count": 111,
   "metadata": {
    "collapsed": false
   },
   "outputs": [],
   "source": [
    "xe = vsr.EGA(0,1,1,1,0,0,0,0)\n",
    "ae = vsr.EGA(0,1,2,3,0,0,0,0)"
   ]
  },
  {
   "cell_type": "code",
   "execution_count": 112,
   "metadata": {
    "collapsed": false
   },
   "outputs": [
    {
     "data": {
      "text/plain": [
       "EGA: [ 0 12 12 12 0 0 0 0 ]"
      ]
     },
     "execution_count": 112,
     "metadata": {},
     "output_type": "execute_result"
    }
   ],
   "source": [
    "(ae * xe * xe) + xe * ae * xe"
   ]
  },
  {
   "cell_type": "code",
   "execution_count": 113,
   "metadata": {
    "collapsed": false
   },
   "outputs": [
    {
     "name": "stdout",
     "output_type": "stream",
     "text": [
      "[[-1.1547  2.3094  6.9282 -1.1547]\n",
      " [ 2.3094  1.1547  1.1547  6.9282]\n",
      " [ 6.9282 -1.1547  1.1547 -2.3094]]\n"
     ]
    }
   ],
   "source": [
    "_, J = motor_jacobian.diff_rotor_cost(R, a, vsr.Vec(1,11,4))\n",
    "print(J)"
   ]
  },
  {
   "cell_type": "code",
   "execution_count": 114,
   "metadata": {
    "collapsed": true
   },
   "outputs": [],
   "source": [
    "f0 = ae * Re.rev() + Re * ae"
   ]
  },
  {
   "cell_type": "code",
   "execution_count": 123,
   "metadata": {
    "collapsed": false
   },
   "outputs": [
    {
     "data": {
      "text/plain": [
       "EGA: [ 0 -3.5 6.9 21 0 0 0 3.5 ]"
      ]
     },
     "execution_count": 123,
     "metadata": {},
     "output_type": "execute_result"
    }
   ],
   "source": [
    "(ae * Re.rev() + Re * ae) +\\\n",
    "e12.rev() * ( e12 * ae * Re.rev() + Re * ae * e12.rev()) +\\\n",
    "e13.rev() * ( e13 * ae * Re.rev() + Re * ae * e13.rev()) +\\\n",
    "e23.rev() * ( e23 * ae * Re.rev() + Re * ae * e23.rev()) "
   ]
  },
  {
   "cell_type": "code",
   "execution_count": null,
   "metadata": {
    "collapsed": true
   },
   "outputs": [],
   "source": [
    "e12.rev() *( e12 * ae * Re.rev() ) + e12.rev() * Re * ae * e12.rev()"
   ]
  },
  {
   "cell_type": "code",
   "execution_count": 122,
   "metadata": {
    "collapsed": false
   },
   "outputs": [
    {
     "data": {
      "text/plain": [
       "EGA: [ 0 -0.91 2.1 7 0 0 0 1.2 ]"
      ]
     },
     "execution_count": 122,
     "metadata": {},
     "output_type": "execute_result"
    }
   ],
   "source": [
    "Be.rev() * (Be * ae * Re.rev() + Re * ae * Be.rev())"
   ]
  },
  {
   "cell_type": "code",
   "execution_count": 85,
   "metadata": {
    "collapsed": false
   },
   "outputs": [],
   "source": [
    "f2 = e13.rev() *( e13 * ae * Re.rev() ) + e13.rev() * Re * ae * e13.rev()"
   ]
  },
  {
   "cell_type": "code",
   "execution_count": 86,
   "metadata": {
    "collapsed": false
   },
   "outputs": [],
   "source": [
    "f3 = e23.rev() *( e23 * ae * Re.rev() ) + e23.rev() * Re * ae * e23.rev()"
   ]
  },
  {
   "cell_type": "code",
   "execution_count": 87,
   "metadata": {
    "collapsed": false
   },
   "outputs": [
    {
     "data": {
      "text/plain": [
       "EGA: [ 0 5.2 1.4 22 0 0 0 3 ]"
      ]
     },
     "execution_count": 87,
     "metadata": {},
     "output_type": "execute_result"
    }
   ],
   "source": [
    "f0 + f1 + f2 + f3"
   ]
  },
  {
   "cell_type": "code",
   "execution_count": 127,
   "metadata": {
    "collapsed": false
   },
   "outputs": [
    {
     "data": {
      "text/plain": [
       "EGA: [ 0 2.3 1.2 -1.2 0 0 0 -4.4e-16 ]"
      ]
     },
     "execution_count": 127,
     "metadata": {},
     "output_type": "execute_result"
    }
   ],
   "source": [
    "( e12 * ae * Re.rev() + Re * ae * e12.rev())"
   ]
  },
  {
   "cell_type": "code",
   "execution_count": 124,
   "metadata": {
    "collapsed": false
   },
   "outputs": [
    {
     "name": "stdout",
     "output_type": "stream",
     "text": [
      "[[-1.1547  2.3094  6.9282 -1.1547]\n",
      " [ 2.3094  1.1547  1.1547  6.9282]\n",
      " [ 6.9282 -1.1547  1.1547 -2.3094]]\n"
     ]
    }
   ],
   "source": [
    "Jac = np.zeros((3,4))\n",
    "Jac[:,0] = np.array(vsr.EGA(1,0,0,0,0,0,0,0) * ae * Re.rev() + Re * ae * vsr.EGA(1,0,0,0,0,0,0,0))[1:4]\n",
    "Jac[:,1] = np.array(vsr.EGA(0,0,0,0,1,0,0,0) * ae * Re.rev() + Re * ae * vsr.EGA(0,0,0,0,-1.,0,0,0))[1:4]\n",
    "Jac[:,2] = np.array(vsr.EGA(0,0,0,0,0,1,0,0) * ae * Re.rev() + Re * ae * vsr.EGA(0,0,0,0,0,-1,0,0))[1:4]\n",
    "Jac[:,3] = np.array(vsr.EGA(0,0,0,0,0,0,1.,0) * ae * Re.rev() + Re * ae * vsr.EGA(0,0,0,0,0,0,-1,0))[1:4]\n",
    "print(Jac)"
   ]
  },
  {
   "cell_type": "code",
   "execution_count": 60,
   "metadata": {
    "collapsed": false
   },
   "outputs": [
    {
     "data": {
      "text/plain": [
       "EGA: [ 7.2 0 0 0 0 0 0 0 ]"
      ]
     },
     "execution_count": 60,
     "metadata": {},
     "output_type": "execute_result"
    }
   ],
   "source": [
    "ei = vsr.EGA(0,0,0,0,0,0,1,0) \n",
    "((Re * ae * ei.rev() + ei * ae * Re.rev()) <= vsr.EGA(0,0,1,0,0,0,0,0) ) "
   ]
  },
  {
   "cell_type": "code",
   "execution_count": 61,
   "metadata": {
    "collapsed": false
   },
   "outputs": [
    {
     "data": {
      "text/plain": [
       "CGA: [ 0 0.43 -1.5 0.25 0 -0.43 0 0 0 0 0 0 0 0 0 0 0.68 0.87 0 -0.5 1.1 -0.25 -0.43 -0.43 0.68 -0.25 0 0 0 0 0 -0.18 ]"
      ]
     },
     "execution_count": 61,
     "metadata": {},
     "output_type": "execute_result"
    }
   ],
   "source": [
    "vsr.CGA(vsr.Mot(0,1,0,0,0,0,0,0)) * pe * me.rev()"
   ]
  },
  {
   "cell_type": "code",
   "execution_count": 62,
   "metadata": {
    "collapsed": false
   },
   "outputs": [
    {
     "ename": "TypeError",
     "evalue": "Incompatible function arguments. The following argument types are supported:\n    1. (Mot, float, float, float, float, float, float, float, float) -> None\n",
     "output_type": "error",
     "traceback": [
      "\u001b[1;31m---------------------------------------------------------------------------\u001b[0m",
      "\u001b[1;31mTypeError\u001b[0m                                 Traceback (most recent call last)",
      "\u001b[1;32m<ipython-input-62-696e0345d0c0>\u001b[0m in \u001b[0;36m<module>\u001b[1;34m()\u001b[0m\n\u001b[1;32m----> 1\u001b[1;33m \u001b[0mvsr\u001b[0m\u001b[1;33m.\u001b[0m\u001b[0mMot\u001b[0m\u001b[1;33m(\u001b[0m\u001b[0mme\u001b[0m \u001b[1;33m*\u001b[0m \u001b[0mpe\u001b[0m\u001b[1;33m)\u001b[0m\u001b[1;33m\u001b[0m\u001b[0m\n\u001b[0m",
      "\u001b[1;31mTypeError\u001b[0m: Incompatible function arguments. The following argument types are supported:\n    1. (Mot, float, float, float, float, float, float, float, float) -> None\n"
     ]
    }
   ],
   "source": [
    "vsr.Mot(me * pe)"
   ]
  },
  {
   "cell_type": "code",
   "execution_count": 63,
   "metadata": {
    "collapsed": false
   },
   "outputs": [],
   "source": [
    "vd = VDMotorEstimationSolver()"
   ]
  },
  {
   "cell_type": "code",
   "execution_count": 64,
   "metadata": {
    "collapsed": false
   },
   "outputs": [
    {
     "name": "stdout",
     "output_type": "stream",
     "text": [
      "[[ 0.     0.5    0.     0.     0.     0.   ]\n",
      " [ 0.866  0.    -0.5    0.     0.     0.   ]\n",
      " [ 0.     0.866  0.     0.     0.     0.   ]\n",
      " [ 0.5    0.     0.866  0.     0.     0.   ]\n",
      " [-0.433 -0.183  0.25   0.866  0.     0.5  ]\n",
      " [ 0.683 -0.25  -0.183  0.     0.866  0.   ]\n",
      " [ 0.25   0.683  0.433 -0.5    0.     0.866]\n",
      " [-0.183  0.433 -0.683  0.     0.5    0.   ]]\n"
     ]
    }
   ],
   "source": [
    "Jac3 = np.zeros((8,6))\n",
    "Jac3[:,0] = vsr.Dll(1,0,0,0,0,0) * motor\n",
    "Jac3[:,1] = vsr.Dll(0,1,0,0,0,0) * motor\n",
    "Jac3[:,2] = vsr.Dll(0,0,1,0,0,0) * motor\n",
    "Jac3[:,3] = vsr.Dll(0,0,0,1,0,0) * motor\n",
    "Jac3[:,4] = vsr.Dll(0,0,0,0,1,0) * motor\n",
    "Jac3[:,5] = vsr.Dll(0,0,0,0,0,1) * motor\n",
    "print(Jac3)"
   ]
  },
  {
   "cell_type": "code",
   "execution_count": 65,
   "metadata": {
    "collapsed": false
   },
   "outputs": [
    {
     "data": {
      "text/plain": [
       "array([[ 2.    ,  3.7321,  0.    , -2.    ,  0.    ,  0.    ],\n",
       "       [-3.    ,  0.    ,  3.7321,  0.    , -2.    ,  0.    ],\n",
       "       [ 0.    , -3.    , -2.    ,  0.    ,  0.    , -2.    ],\n",
       "       [ 0.    ,  0.    ,  0.    ,  0.    ,  0.    ,  0.    ],\n",
       "       [-0.    , -0.    ,  0.    , -3.    , -2.    , -3.7321]])"
      ]
     },
     "execution_count": 65,
     "metadata": {},
     "output_type": "execute_result"
    }
   ],
   "source": [
    "np.dot(Jac2,Jac3)"
   ]
  },
  {
   "cell_type": "code",
   "execution_count": 66,
   "metadata": {
    "collapsed": false
   },
   "outputs": [
    {
     "data": {
      "text/plain": [
       "array([[ 0.    , -2.1962,  6.    ,  0.    ,  0.    ,  0.    ],\n",
       "       [ 2.1962,  0.    ,  8.1962,  0.    ,  0.    ,  0.    ],\n",
       "       [-6.    , -8.1962,  0.    ,  0.    ,  0.    ,  0.    ],\n",
       "       [-1.6077,  0.    , -0.    ,  0.    ,  8.1962, -6.    ],\n",
       "       [ 4.3923,  0.    ,  0.    , -8.1962,  0.    , -2.1962],\n",
       "       [-0.    ,  4.3923,  1.6077,  6.    ,  2.1962,  0.    ]])"
      ]
     },
     "execution_count": 66,
     "metadata": {},
     "output_type": "execute_result"
    }
   ],
   "source": [
    "np.dot(JacLines,Jac3) "
   ]
  },
  {
   "cell_type": "code",
   "execution_count": 67,
   "metadata": {
    "collapsed": false
   },
   "outputs": [],
   "source": [
    "def printer(**kwargs):\n",
    "    ega = vsr.EGA(1,0,0,0,0,0,0,0)\n",
    "    rarr = np.recarray((8), \n",
    "                       names=('s','e1', 'e2', 'e3', 'e12', 'e13', 'e23', 'e123'), \n",
    "                       buf=np.array(ega))\n",
    "#     rarr['e12'] = 1\n",
    "    print(rarr)\n",
    "    "
   ]
  },
  {
   "cell_type": "code",
   "execution_count": 68,
   "metadata": {
    "collapsed": true
   },
   "outputs": [],
   "source": [
    "def full(m):\n",
    "    return vsr.EGA(m)"
   ]
  },
  {
   "cell_type": "code",
   "execution_count": 69,
   "metadata": {
    "collapsed": false
   },
   "outputs": [
    {
     "data": {
      "text/plain": [
       "EGA: [ -9 0 0 0 0 3 0 0 ]"
      ]
     },
     "execution_count": 69,
     "metadata": {},
     "output_type": "execute_result"
    }
   ],
   "source": [
    "\n",
    "B = vsr.EGA(vsr.Rot(1,2,3,4))\n",
    "X = vsr.EGA(vsr.Biv(1,1,1))\n",
    "\n",
    "X * B\n"
   ]
  },
  {
   "cell_type": "code",
   "execution_count": 70,
   "metadata": {
    "collapsed": true
   },
   "outputs": [],
   "source": [
    "e12 = vsr.EGA(vsr.Biv(1,0,0))\n",
    "e13 = vsr.EGA(vsr.Biv(0,1,0))\n",
    "e23 = vsr.EGA(vsr.Biv(0,0,1))"
   ]
  },
  {
   "cell_type": "code",
   "execution_count": 71,
   "metadata": {
    "collapsed": false
   },
   "outputs": [
    {
     "data": {
      "text/plain": [
       "EGA: [ -0 -0 -0 -0 2 3 4 0 ]"
      ]
     },
     "execution_count": 71,
     "metadata": {},
     "output_type": "execute_result"
    }
   ],
   "source": [
    "(e12.rev() * (e12 * B)[0] + \n",
    " e13.rev() * (e13 * B)[0] +\n",
    " e23.rev() * (e23 * B)[0])"
   ]
  },
  {
   "cell_type": "code",
   "execution_count": 72,
   "metadata": {
    "collapsed": false
   },
   "outputs": [
    {
     "data": {
      "text/plain": [
       "EGA: [ 0 3.5 0.93 14 0 0 0 3 ]"
      ]
     },
     "execution_count": 72,
     "metadata": {},
     "output_type": "execute_result"
    }
   ],
   "source": [
    "e12.rev() * (e12 * ae * Re.rev() + Re * ae * e12.rev()) +\\\n",
    "e13.rev() * (e13 * ae * Re.rev() + Re * ae * e13.rev()) +\\\n",
    "e23.rev() * (e23 * ae * Re.rev() + Re * ae * e23.rev())"
   ]
  },
  {
   "cell_type": "code",
   "execution_count": 73,
   "metadata": {
    "collapsed": false
   },
   "outputs": [
    {
     "data": {
      "text/plain": [
       "array([[ -31.1769,  -24.5885,  -49.1769,    0.    ,    0.    ,    0.    ],\n",
       "       [  54.    ,   60.5885,   36.    ,    0.    ,    0.    ,    0.    ],\n",
       "       [  19.7654,    6.5885,   55.7654,    0.    ,    0.    ,    0.    ],\n",
       "       [ -79.0615,  -13.1769, -152.3538,   55.7654,   -6.5885,   19.7654],\n",
       "       [  93.5307,  180.473 , -171.6462,  -36.    ,   60.5885,  -54.    ],\n",
       "       [ -37.7654,    0.    , -221.2961,  -49.1769,   24.5885,  -31.1769]])"
      ]
     },
     "execution_count": 73,
     "metadata": {},
     "output_type": "execute_result"
    }
   ],
   "source": [
    "np.dot(Jadcomm,Jac3) "
   ]
  },
  {
   "cell_type": "code",
   "execution_count": 74,
   "metadata": {
    "collapsed": false
   },
   "outputs": [
    {
     "name": "stdout",
     "output_type": "stream",
     "text": [
      "[[ 2.      3.7321  0.     -2.      0.      0.    ]\n",
      " [-3.      0.      3.7321  0.     -2.      0.    ]\n",
      " [ 0.     -3.     -2.      0.      0.     -2.    ]\n",
      " [ 0.      0.      0.      0.      0.      0.    ]\n",
      " [ 0.      0.      0.     -3.     -2.     -3.7321]]\n"
     ]
    }
   ],
   "source": [
    "Jac4 = np.zeros((5,6))\n",
    "Jac4[:,0] = 2. * np.array(vsr.Dll(1,0,0,0,0,0).comm(vsr.Vec(1,0,0).null().spin(motor)))\n",
    "Jac4[:,1] = 2. * np.array(vsr.Dll(0,1,0,0,0,0).comm(vsr.Vec(1,0,0).null().spin(motor)))\n",
    "Jac4[:,2] = 2. * np.array(vsr.Dll(0,0,1,0,0,0).comm(vsr.Vec(1,0,0).null().spin(motor)))\n",
    "Jac4[:,3] = 2. * np.array(vsr.Dll(0,0,0,1,0,0).comm(vsr.Vec(1,0,0).null().spin(motor)))\n",
    "Jac4[:,4] = 2. * np.array(vsr.Dll(0,0,0,0,1,0).comm(vsr.Vec(1,0,0).null().spin(motor)))\n",
    "Jac4[:,5] = 2. * np.array(vsr.Dll(0,0,0,0,0,1).comm(vsr.Vec(1,0,0).null().spin(motor)))\n",
    "print(Jac4)"
   ]
  },
  {
   "cell_type": "code",
   "execution_count": 75,
   "metadata": {
    "collapsed": false
   },
   "outputs": [
    {
     "data": {
      "text/plain": [
       "array([ 0.    ,  0.866 , -3.0981,  0.5   ,  0.    , -0.866 ,  0.    ,\n",
       "        0.    ,  0.    ,  0.    ,  0.    ,  0.    ,  0.    ,  0.    ,\n",
       "        0.    ,  0.    ,  0.    ,  0.    ,  0.    ,  0.    ,  0.    ,\n",
       "        0.    ,  0.    ,  0.    ,  0.    ,  0.    ,  0.    ,  0.    ,\n",
       "        0.    ,  0.    ,  0.    , -0.366 ])"
      ]
     },
     "execution_count": 75,
     "metadata": {},
     "output_type": "execute_result"
    }
   ],
   "source": [
    "np.array(vsr.CGA(vsr.Mot(0,1,0,0,0,0,0,0)) * pe * me.rev() +  me * pe * vsr.CGA(vsr.Mot(0,-1,0,0,0,0,0,0)))"
   ]
  },
  {
   "cell_type": "markdown",
   "metadata": {},
   "source": [
    "# Figure"
   ]
  },
  {
   "cell_type": "code",
   "execution_count": 9,
   "metadata": {
    "collapsed": false
   },
   "outputs": [],
   "source": [
    "pnt = vsr.Vec(0,1,1).null()\n",
    "dlp = vsr.Dlp(vsr.Vec(1,1,1).unit(), 1)\n",
    "p1 = vsr.Vec(1,0,1).null()\n",
    "p2 = vsr.Vec(2,1,1).null()\n",
    "dll = vsr.Dll(p1,p2).unit()\n",
    "\n",
    "scene = Scene(children=[\n",
    "        frame_mesh(),\n",
    "        point_mesh(pnt,color='palegreen'),\n",
    "        plane_mesh(dlp, width=1, height=1, color='palegreen'),\n",
    "        line_mesh(dll, length=100, color='palegreen'),\n",
    "\n",
    "        point_mesh(pnt.spin(motor),color='lightpink'),\n",
    "        plane_mesh(dlp.spin(motor), width=1, height=1, color='lightpink'),\n",
    "        line_mesh(dll.spin(motor), length=100, color='lightpink'),\n",
    "\n",
    "        AmbientLight(color='#cccccc')])\n",
    "\n",
    "camera = PerspectiveCamera(position=[3, -3, 3])\n",
    "renderer = Renderer(camera=camera, \n",
    "                    scene=scene, \n",
    "                    controls=[TrackballControls(controlling=camera)],\n",
    "                    background = 'white')\n",
    "# renderer.width = '1024'\n",
    "# renderer.height = '768'\n",
    "display(renderer)"
   ]
  },
  {
   "cell_type": "code",
   "execution_count": 18,
   "metadata": {
    "collapsed": false
   },
   "outputs": [
    {
     "name": "stdout",
     "output_type": "stream",
     "text": [
      "Ceres Solver Report: Iterations: 5, Initial cost: 2.167468e+00, Final cost: 5.764567e-25, Termination: CONVERGENCE\n"
     ]
    }
   ],
   "source": [
    "initial_motor = vsr.Mot(1.0, 0.0, 0.0, 0.0, 0.0, 0.0, 0.0, 0.0)\n",
    "# initial_motor = vsr.Vec(0.1,0.1,0.1).trs() * vsr.Rot(vsr.Biv(0,1,0) * (np.pi/6.0 + np.pi/2.))\n",
    "mes = MotorEstimationSolver(initial_motor)\n",
    "mes.add_point_correspondences_residual_block(pnt,pnt.spin(motor))\n",
    "mes.add_line_correspondences_residual_block(dll, dll.spin(motor))\n",
    "mes.add_dual_plane_difference_residual_block(dlp, dlp.spin(motor))\n",
    "mes.set_parameterization('BIVECTOR_GENERATOR')\n",
    "mes.linear_solver_type = 'DENSE_QR'\n",
    "(estimated_motor, summary, motors) = mes.solve()\n",
    "print(summary['brief_report'])"
   ]
  },
  {
   "cell_type": "code",
   "execution_count": 19,
   "metadata": {
    "collapsed": false
   },
   "outputs": [
    {
     "data": {
      "text/plain": [
       "[<matplotlib.lines.Line2D at 0x7fd562169a90>]"
      ]
     },
     "execution_count": 19,
     "metadata": {},
     "output_type": "execute_result"
    },
    {
     "data": {
      "image/png": "[encoded data removed]",
      "text/plain": [
       "<matplotlib.figure.Figure at 0x7fd565d37a10>"
      ]
     },
     "metadata": {},
     "output_type": "display_data"
    }
   ],
   "source": [
    "plt.plot([it['cost'] for it in summary['iterations'] ])"
   ]
  },
  {
   "cell_type": "code",
   "execution_count": 21,
   "metadata": {
    "collapsed": false
   },
   "outputs": [],
   "source": [
    "dlp = vsr.Dlp(vsr.Vec(1,1,1).unit(), 1)\n",
    "p1 = vsr.Vec(1,0,1).null()\n",
    "p2 = vsr.Vec(2,1,1).null()\n",
    "dll = vsr.Dll(p1,p2).unit()\n",
    "\n",
    "points = [point_mesh(pnt.spin(motor),color='lightpink') for motor in motors[2:3]]\n",
    "lines = [line_mesh(dll.spin(motor),color='lightpink') for motor in motors[2:3]]\n",
    "planes = [plane_mesh(dlp.spin(motor), width=1, height=1, color='lightpink') \n",
    "          for motor in motors[2:3]]\n",
    "\n",
    "\n",
    "scene = Scene(children=[\n",
    "        frame_mesh(),\n",
    "        AmbientLight(color='#cccccc')] + points + lines + planes)\n",
    "\n",
    "camera = PerspectiveCamera(position=[3, -3, 3])\n",
    "renderer = Renderer(camera=camera, \n",
    "                    scene=scene, \n",
    "                    controls=[TrackballControls(controlling=camera)],\n",
    "                    background = 'white')\n",
    "# renderer.width = '1024'\n",
    "# renderer.height = '768'\n",
    "display(renderer)"
   ]
  },
  {
   "cell_type": "code",
   "execution_count": 32,
   "metadata": {
    "collapsed": false
   },
   "outputs": [],
   "source": [
    "n_circles = 10\n",
    "sigma = 0.09\n",
    "points_a = [vsr.Vec(*np.random.normal(0.0, 0.3, 3)).null() \n",
    "            for i in range(n_circles)]\n",
    "points_b = [point.spin(motor) for point in points_a]\n",
    "points_b_noisy = [vsr.Vec(*(np.array(point)[:3] \n",
    "                            + sigma * np.random.randn(3))).null() \n",
    "                  for point in points_b]\n",
    "\n",
    "radiuss = [np.random.rand() for i in range(n_circles)]\n",
    "bivs = [vsr.Vec(*np.random.normal(0.0, 0.3, 3)).unit().unduale()\n",
    "            for i in range(n_circles)]\n",
    "\n",
    "circs_a = [vsr.Cir(p,r,b) for p,r,b in zip(points_a, radiuss, bivs)]\n",
    "# circs_b = [vsr.Cir(p,r,b) for p,r,b in zip(points_b_noisy, radiuss, bivs)]\n",
    "circs_b = [circle.spin(motor) for circle in circs_a]\n"
   ]
  },
  {
   "cell_type": "code",
   "execution_count": 35,
   "metadata": {
    "collapsed": false
   },
   "outputs": [
    {
     "name": "stdout",
     "output_type": "stream",
     "text": [
      "\n",
      "Solver Summary (v 1.11.0-eigen-(3.2.92)-lapack-suitesparse-(4.4.6)-openmp)\n",
      "\n",
      "                                     Original                  Reduced\n",
      "Parameter blocks                            1                        1\n",
      "Parameters                                  8                        8\n",
      "Effective parameters                        6                        6\n",
      "Residual blocks                            10                       10\n",
      "Residual                                   60                       60\n",
      "\n",
      "Minimizer                        TRUST_REGION\n",
      "\n",
      "Dense linear algebra library            EIGEN\n",
      "Trust region strategy     LEVENBERG_MARQUARDT\n",
      "\n",
      "                                        Given                     Used\n",
      "Linear solver                        DENSE_QR                 DENSE_QR\n",
      "Threads                                     1                        1\n",
      "Linear solver threads                       1                        1\n",
      "\n",
      "Cost:\n",
      "Initial                          2.244468e+01\n",
      "Final                            1.114881e-22\n",
      "Change                           2.244468e+01\n",
      "\n",
      "Minimizer iterations                        5\n",
      "Successful steps                            5\n",
      "Unsuccessful steps                          0\n",
      "\n",
      "Time (in seconds):\n",
      "Preprocessor                           0.0000\n",
      "\n",
      "  Residual evaluation                  0.0000\n",
      "  Jacobian evaluation                  0.0003\n",
      "  Linear solver                        0.0001\n",
      "Minimizer                              0.0006\n",
      "\n",
      "Postprocessor                          0.0000\n",
      "Total                                  0.0006\n",
      "\n",
      "Termination:                      CONVERGENCE (Gradient tolerance reached. Gradient max norm: 7.655787e-11 <= 1.000000e-10)\n",
      "\n",
      "Mot: [ 0.87 -4.9e-14 -0.5 -2.4e-14 -0.68 -0.43 -0.18 -0.25 ]\n"
     ]
    }
   ],
   "source": [
    "initial_motor = vsr.Mot(1.0, 0.0, 0.0, 0.0, 0.0, 0.0, 0.0, 0.0)\n",
    "# initial_motor = vsr.Vec(2,3,4).trs() * vsr.Rot(vsr.Biv(0,-1,0) * np.pi/6)\n",
    "mes = MotorEstimationSolver(initial_motor)\n",
    "for a, b in zip(circs_a, circs_b):\n",
    "    a1,a2 = a.dual().split()\n",
    "    b1,b2 = b.dual().split()\n",
    "    mes.add_line_correspondences_residual_block(vsr.Dll(a1,a2), vsr.Dll(b1,b2))\n",
    "mes.set_parameterization('BIVECTOR_GENERATOR')\n",
    "mes.linear_solver_type = 'DENSE_QR'\n",
    "(estimated_motor, summary, motors) = mes.solve()\n",
    "print(summary['full_report'])\n",
    "print(estimated_motor)"
   ]
  },
  {
   "cell_type": "code",
   "execution_count": 28,
   "metadata": {
    "collapsed": false
   },
   "outputs": [
    {
     "name": "stdout",
     "output_type": "stream",
     "text": [
      "\n",
      "Solver Summary (v 1.11.0-eigen-(3.2.92)-lapack-suitesparse-(4.4.6)-openmp)\n",
      "\n",
      "                                     Original                  Reduced\n",
      "Parameter blocks                            1                        1\n",
      "Parameters                                  8                        8\n",
      "Effective parameters                        6                        6\n",
      "Residual blocks                            10                       10\n",
      "Residual                                   30                       30\n",
      "\n",
      "Minimizer                        TRUST_REGION\n",
      "\n",
      "Dense linear algebra library            EIGEN\n",
      "Trust region strategy     LEVENBERG_MARQUARDT\n",
      "\n",
      "                                        Given                     Used\n",
      "Linear solver                        DENSE_QR                 DENSE_QR\n",
      "Threads                                     1                        1\n",
      "Linear solver threads                       1                        1\n",
      "\n",
      "Cost:\n",
      "Initial                          1.630418e+01\n",
      "Final                            7.387801e-02\n",
      "Change                           1.623030e+01\n",
      "\n",
      "Minimizer iterations                        5\n",
      "Successful steps                            5\n",
      "Unsuccessful steps                          0\n",
      "\n",
      "Time (in seconds):\n",
      "Preprocessor                           0.0000\n",
      "\n",
      "  Residual evaluation                  0.0001\n",
      "  Jacobian evaluation                  0.0003\n",
      "  Linear solver                        0.0001\n",
      "Minimizer                              0.0006\n",
      "\n",
      "Postprocessor                          0.0000\n",
      "Total                                  0.0007\n",
      "\n",
      "Termination:                      CONVERGENCE (Function tolerance reached. |cost_change|/cost: 6.197320e-08 <= 1.000000e-06)\n",
      "\n",
      "Mot: [ 0.86 0.035 -0.51 0.03 -0.68 -0.42 -0.19 -0.28 ]\n"
     ]
    }
   ],
   "source": [
    "initial_motor = vsr.Mot(1.0, 0.0, 0.0, 0.0, 0.0, 0.0, 0.0, 0.0)\n",
    "# initial_motor = vsr.Vec(2,3,4).trs() * vsr.Rot(vsr.Biv(0,-1,0) * np.pi/6)\n",
    "mes = MotorEstimationSolver(initial_motor)\n",
    "for a, b in zip(points_a, points_b_noisy):\n",
    "    mes.add_point_correspondences_residual_block(a,b)\n",
    "mes.set_parameterization('BIVECTOR_GENERATOR')\n",
    "mes.linear_solver_type = 'DENSE_QR'\n",
    "(estimated_motor, summary, motors) = mes.solve()\n",
    "print(summary['full_report'])\n",
    "print(estimated_motor)"
   ]
  },
  {
   "cell_type": "code",
   "execution_count": 22,
   "metadata": {
    "collapsed": false
   },
   "outputs": [
    {
     "ename": "TypeError",
     "evalue": "Unable to convert function return value to a Python type! The signature was\n\t(Cir, Cir) -> vsr::Multivector<vsr::algebra<vsr::metric<4, 1, true>, double>, vsr::Basis<(short)0, (short)3, (short)5, (short)6, (short)9, (short)10, (short)12, (short)17, (short)18, (short)20, (short)24, (short)15, (short)23, (short)27, (short)29, (short)30> >",
     "output_type": "error",
     "traceback": [
      "\u001b[1;31m---------------------------------------------------------------------------\u001b[0m",
      "\u001b[1;31mTypeError\u001b[0m                                 Traceback (most recent call last)",
      "\u001b[1;32m<ipython-input-22-f9229dd0673e>\u001b[0m in \u001b[0;36m<module>\u001b[1;34m()\u001b[0m\n\u001b[1;32m----> 1\u001b[1;33m \u001b[0mcircs_b\u001b[0m\u001b[1;33m[\u001b[0m\u001b[1;36m0\u001b[0m\u001b[1;33m]\u001b[0m\u001b[1;33m.\u001b[0m\u001b[0mcomm\u001b[0m\u001b[1;33m(\u001b[0m\u001b[0mcircs_a\u001b[0m\u001b[1;33m[\u001b[0m\u001b[1;36m0\u001b[0m\u001b[1;33m]\u001b[0m\u001b[1;33m)\u001b[0m\u001b[1;33m\u001b[0m\u001b[0m\n\u001b[0m",
      "\u001b[1;31mTypeError\u001b[0m: Unable to convert function return value to a Python type! The signature was\n\t(Cir, Cir) -> vsr::Multivector<vsr::algebra<vsr::metric<4, 1, true>, double>, vsr::Basis<(short)0, (short)3, (short)5, (short)6, (short)9, (short)10, (short)12, (short)17, (short)18, (short)20, (short)24, (short)15, (short)23, (short)27, (short)29, (short)30> >"
     ]
    }
   ],
   "source": [
    "circs_b[0].comm(circs_a[0])"
   ]
  },
  {
   "cell_type": "code",
   "execution_count": 13,
   "metadata": {
    "collapsed": false
   },
   "outputs": [
    {
     "data": {
      "text/plain": [
       "Par: [ -0.007184 0.0813 0.109 0.5734 0.7886 -0.2222 0.001903 0.002445 0.001214 0.01376 ]"
      ]
     },
     "execution_count": 13,
     "metadata": {},
     "output_type": "execute_result"
    }
   ],
   "source": [
    "circs_a[0].dual()"
   ]
  },
  {
   "cell_type": "code",
   "execution_count": 23,
   "metadata": {
    "collapsed": false
   },
   "outputs": [],
   "source": [
    "scene = Scene(children=\n",
    "              [circle_mesh(p,color='hotpink') for p in circs_a] +\\\n",
    "              [circle_mesh(p,color='lightskyblue') for p in circs_b] +\\\n",
    "#               [circle_mesh(p.spin(motors[2]),color='green') for p in circs_a] +\\\n",
    "              [circle_mesh(circs_b[0] - circs_a[0].spin(motors[4]),color='green') for p in circs_a] +\\\n",
    "\n",
    "              [frame_mesh(),AmbientLight(color='#cccccc')])\n",
    "\n",
    "camera = PerspectiveCamera(position=[3, -3, 3])\n",
    "renderer = Renderer(camera=camera, \n",
    "                    scene=scene, \n",
    "                    controls=[TrackballControls(controlling=camera)],\n",
    "                    background = 'white')\n",
    "display(renderer)"
   ]
  },
  {
   "cell_type": "code",
   "execution_count": 27,
   "metadata": {
    "collapsed": false
   },
   "outputs": [
    {
     "data": {
      "text/plain": [
       "Cir: [ 0.05316 -0.02884 -0.03763 -0.0005067 0.07717 0.008269 0.06473 0.05384 -0.03316 -0.05783 ]"
      ]
     },
     "execution_count": 27,
     "metadata": {},
     "output_type": "execute_result"
    }
   ],
   "source": [
    "circs_b[0] - circs_a[0].spin(motors[2])"
   ]
  },
  {
   "cell_type": "markdown",
   "metadata": {},
   "source": [
    "## Motor Estimation from Points"
   ]
  },
  {
   "cell_type": "markdown",
   "metadata": {},
   "source": [
    "### Dataset generation"
   ]
  },
  {
   "cell_type": "code",
   "execution_count": null,
   "metadata": {
    "collapsed": false
   },
   "outputs": [],
   "source": [
    "n_points = 10\n",
    "sigma = 0.09\n",
    "points_a = [vsr.Vec(*np.random.normal(0.0, 0.3, 3)).null() \n",
    "            for i in range(n_points)]\n",
    "points_b = [point.spin(motor) for point in points_a]\n",
    "points_b_noisy = [vsr.Vec(*(np.array(point)[:3] \n",
    "                            + sigma * np.random.randn(3))).null() \n",
    "                  for point in points_b]"
   ]
  },
  {
   "cell_type": "code",
   "execution_count": null,
   "metadata": {
    "collapsed": false
   },
   "outputs": [],
   "source": [
    "scene = Scene(children=\n",
    "              [point_mesh(p,color='hotpink') for p in points_a] +\\\n",
    "              [point_mesh(p,color='lightskyblue') for p in points_b] +\\\n",
    "              [frame_mesh(),AmbientLight(color='#cccccc')])\n",
    "\n",
    "camera = PerspectiveCamera(position=[3, -3, 3])\n",
    "renderer = Renderer(camera=camera, \n",
    "                    scene=scene, \n",
    "                    controls=[TrackballControls(controlling=camera)],\n",
    "                    background = 'white')\n",
    "display(renderer)"
   ]
  },
  {
   "cell_type": "markdown",
   "metadata": {},
   "source": [
    "### Estimate motor using Exponential Formulation"
   ]
  },
  {
   "cell_type": "code",
   "execution_count": null,
   "metadata": {
    "collapsed": false
   },
   "outputs": [],
   "source": [
    "# initial_motor = vsr.Mot(1.0, 0.0, 0.0, 0.0, 0.0, 0.0, 0.0, 0.0)\n",
    "initial_motor = vsr.Vec(2,3,4).trs() * vsr.Rot(vsr.Biv(0,-1,0) * np.pi/6)\n",
    "mes = MotorEstimationSolver(initial_motor)\n",
    "for a, b in zip(points_a, points_b_noisy):\n",
    "    mes.add_point_correspondences_residual_block(a,b)\n",
    "mes.set_parameterization('BIVECTOR_GENERATOR')\n",
    "mes.linear_solver_type = 'DENSE_QR'\n",
    "(estimated_motor, summary_point_1, motors) = mes.solve()\n",
    "print(summary_point_1['full_report'])"
   ]
  },
  {
   "cell_type": "code",
   "execution_count": null,
   "metadata": {
    "collapsed": false
   },
   "outputs": [],
   "source": [
    "plt.plot([it['cost'] for it in summary_point_1['iterations'] ])"
   ]
  },
  {
   "cell_type": "markdown",
   "metadata": {},
   "source": [
    "#### Check solution"
   ]
  },
  {
   "cell_type": "code",
   "execution_count": null,
   "metadata": {
    "collapsed": false
   },
   "outputs": [],
   "source": [
    "print(np.array(motor))\n",
    "print(np.array(estimated_motor))\n",
    "print(np.allclose(np.array(motor), np.array(estimated_motor)))"
   ]
  },
  {
   "cell_type": "markdown",
   "metadata": {},
   "source": [
    "### Estimate motor using Valkenburg-Dorst solver"
   ]
  },
  {
   "cell_type": "code",
   "execution_count": null,
   "metadata": {
    "collapsed": false
   },
   "outputs": [],
   "source": [
    "vd = VDMotorEstimationSolver()\n",
    "vd.add_point_observations(points_a, points_b)\n",
    "vd_estimated_motor = vd.solve()"
   ]
  },
  {
   "cell_type": "markdown",
   "metadata": {},
   "source": [
    "#### Check solution"
   ]
  },
  {
   "cell_type": "code",
   "execution_count": null,
   "metadata": {
    "collapsed": false
   },
   "outputs": [],
   "source": [
    "print(np.array(motor))\n",
    "print(np.array(vd_estimated_motor))\n",
    "print(np.allclose(np.array(motor), np.array(vd_estimated_motor)))"
   ]
  },
  {
   "cell_type": "markdown",
   "metadata": {},
   "source": [
    "### Visualize Solution"
   ]
  },
  {
   "cell_type": "code",
   "execution_count": null,
   "metadata": {
    "collapsed": true
   },
   "outputs": [],
   "source": [
    "scene = Scene(children=\n",
    "              [point_mesh(p,color='palegreen') for p in [p.spin(estimated_motor) for p in points_a]] +\\\n",
    "              [point_mesh(p,color='hotpink') for p in points_a] +\\\n",
    "              [point_mesh(p,color='hotpink') for p in points_b] +\\\n",
    "              [frame_mesh(),AmbientLight(color='#cccccc')])\n",
    "\n",
    "camera = PerspectiveCamera(position=[3, -3, 3])\n",
    "renderer = Renderer(camera=camera, \n",
    "                    scene=scene, \n",
    "                    controls=[TrackballControls(controlling=camera)],\n",
    "                    background = 'white')\n",
    "# renderer.width = '1600'\n",
    "# renderer.height = '900'\n",
    "display(renderer)"
   ]
  },
  {
   "cell_type": "markdown",
   "metadata": {},
   "source": [
    "## Motor Estimation from Lines"
   ]
  },
  {
   "cell_type": "markdown",
   "metadata": {},
   "source": [
    "### Dataset generation"
   ]
  },
  {
   "cell_type": "code",
   "execution_count": 10,
   "metadata": {
    "collapsed": false
   },
   "outputs": [],
   "source": [
    "lines_a = [vsr.Dll(vsr.Vec(*np.random.normal(0.0,0.8,3)).null(),\n",
    "                   vsr.Vec(*np.random.normal(0.0,0.8,3)).null())\n",
    "          for i in range(10)]\n",
    "lines_b = [line.spin(motor) for line in lines_a]\n",
    "noise_motor = vsr.Vec(0.05,0.05,0.05).trs() * vsr.Rot(vsr.Biv(1,0,0) * np.pi/50.)\n",
    "lines_b_noisy = [line.spin(motor * noise_motor) for line in lines_a]"
   ]
  },
  {
   "cell_type": "code",
   "execution_count": 11,
   "metadata": {
    "collapsed": false
   },
   "outputs": [],
   "source": [
    "scene = Scene(children=\n",
    "              [line_mesh(l.unit(),length=10, color='hotpink') for l in lines_a[:3]] +\\\n",
    "              [line_mesh(l.unit(), length=10, color='lightskyblue') for l in lines_b[:3]] +\\\n",
    "              [frame_mesh(),\n",
    "               AmbientLight(color='#cccccc')])\n",
    "\n",
    "camera = PerspectiveCamera(position=[3, -3, 3])\n",
    "renderer = Renderer(camera=camera, \n",
    "                    scene=scene, \n",
    "                    controls=[TrackballControls(controlling=camera)],\n",
    "                    background = 'white')\n",
    "\n",
    "renderer.width = '1024'\n",
    "renderer.height = '768'\n",
    "display(renderer)"
   ]
  },
  {
   "cell_type": "markdown",
   "metadata": {
    "collapsed": false
   },
   "source": [
    "### Estimate motor using 6 residuals"
   ]
  },
  {
   "cell_type": "markdown",
   "metadata": {},
   "source": [
    "$$ \\min_{M \\in \\mathcal M} \\frac{1}{2} \\sum_{i=1}^n \\| M \\varLambda_{b_i} \\tilde{M} - \\varLambda_{a_i} \\|^2 $$"
   ]
  },
  {
   "cell_type": "code",
   "execution_count": 13,
   "metadata": {
    "collapsed": false
   },
   "outputs": [
    {
     "name": "stdout",
     "output_type": "stream",
     "text": [
      "Ceres Solver Report: Iterations: 4, Initial cost: 6.686984e+01, Final cost: 4.277417e-11, Termination: CONVERGENCE\n"
     ]
    }
   ],
   "source": [
    "initial_motor = vsr.Mot(1.0, 0.0, 0.0, 0.0, 0.0, 0.0, 0.0, 0.0)\n",
    "mes = MotorEstimationSolver(initial_motor)\n",
    "for a, b in zip(lines_a, lines_b_noisy):\n",
    "    mes.add_line_correspondences_residual_block(a,b)\n",
    "mes.set_parameterization('BIVECTOR_GENERATOR')\n",
    "mes.linear_solver_type = \"DENSE_QR\"\n",
    "mes.parameter_tolerance = 1e-6\n",
    "estimated_motor, lin_summary_1, motors = mes.solve()\n",
    "print(lin_summary_1['brief_report'])"
   ]
  },
  {
   "cell_type": "markdown",
   "metadata": {
    "collapsed": false
   },
   "source": [
    "#### Check solution"
   ]
  },
  {
   "cell_type": "code",
   "execution_count": 14,
   "metadata": {
    "collapsed": false
   },
   "outputs": [
    {
     "name": "stdout",
     "output_type": "stream",
     "text": [
      "[ 0.866  0.    -0.5    0.    -0.683 -0.433 -0.183 -0.25 ]\n",
      "[ 0.8643 -0.0544 -0.499   0.0314 -0.7193 -0.4103 -0.2332 -0.2483]\n",
      "False\n"
     ]
    }
   ],
   "source": [
    "print(np.array(motor))\n",
    "print(np.array(estimated_motor))\n",
    "print(np.allclose(np.array(motor), np.array(estimated_motor)))"
   ]
  },
  {
   "cell_type": "markdown",
   "metadata": {},
   "source": [
    "### Valkenburg and Dorst Solver"
   ]
  },
  {
   "cell_type": "code",
   "execution_count": 15,
   "metadata": {
    "collapsed": false
   },
   "outputs": [
    {
     "name": "stdout",
     "output_type": "stream",
     "text": [
      "Mot: [ -0.87 -1.6e-17 0.5 2.8e-17 0 0 0 0 ]\n"
     ]
    }
   ],
   "source": [
    "vd = VDMotorEstimationSolver()\n",
    "vd.add_dual_line_observations(lines_a, lines_b)\n",
    "vd_estimated_motor = vd.solve()\n",
    "print(vd_estimated_motor)"
   ]
  },
  {
   "cell_type": "code",
   "execution_count": 16,
   "metadata": {
    "collapsed": false
   },
   "outputs": [],
   "source": [
    "scene = Scene(children=\n",
    "              [line_mesh(l,length=1, color='hotpink') for l in [l.spin(estimated_motor) for l in lines_a]] +\\\n",
    "              [line_mesh(l,length=1, color='lightgreen') for l in [l.spin(vd_estimated_motor) for l in lines_a]] +\\\n",
    "              [line_mesh(l, length=1, color='lightskyblue') for l in lines_b] +\\\n",
    "              [frame_mesh(),\n",
    "               AmbientLight(color='#cccccc')])\n",
    "\n",
    "camera = PerspectiveCamera(position=[3, -3, 3])\n",
    "renderer = Renderer(camera=camera, \n",
    "                    scene=scene, \n",
    "                    controls=[TrackballControls(controlling=camera)],\n",
    "                    background = 'white')\n",
    "renderer.width = '800'\n",
    "renderer.height = '450'\n",
    "display(renderer)"
   ]
  },
  {
   "cell_type": "markdown",
   "metadata": {},
   "source": [
    "### Estimate motor using 4 residuals"
   ]
  },
  {
   "cell_type": "code",
   "execution_count": 34,
   "metadata": {
    "collapsed": false
   },
   "outputs": [
    {
     "name": "stdout",
     "output_type": "stream",
     "text": [
      "Ceres Solver Report: Iterations: 5, Initial cost: 5.234295e+00, Final cost: 1.352903e-18, Termination: CONVERGENCE\n"
     ]
    }
   ],
   "source": [
    "initial_motor = vsr.Mot(1.0, 0.0, 0.0, 0.0, 0.0, 0.0, 0.0, 0.0)\n",
    "mes = MotorEstimationSolver(initial_motor)\n",
    "for a, b in zip(lines_a, lines_b_noisy):\n",
    "    mes.add_line_angle_distance_residual_block(a,b)\n",
    "mes.set_parameterization('BIVECTOR_GENERATOR')\n",
    "mes.linear_solver_type = \"DENSE_QR\"\n",
    "estimated_motor, lin_summary_2, motors = mes.solve()\n",
    "print(lin_summary_2['brief_report'])"
   ]
  },
  {
   "cell_type": "markdown",
   "metadata": {},
   "source": [
    "#### Check solution"
   ]
  },
  {
   "cell_type": "code",
   "execution_count": 32,
   "metadata": {
    "collapsed": false
   },
   "outputs": [
    {
     "name": "stdout",
     "output_type": "stream",
     "text": [
      "[ 0.866  0.    -0.5    0.    -0.683 -0.433 -0.183 -0.25 ]\n",
      "[ 0.8643 -0.0544 -0.499   0.0314 -0.7193 -0.4103 -0.2332 -0.2483]\n",
      "False\n",
      "False\n"
     ]
    }
   ],
   "source": [
    "print(np.array(motor))\n",
    "print(np.array(estimated_motor))\n",
    "print(np.allclose(np.array(motor), np.array(estimated_motor)))\n",
    "print(np.allclose(np.array(motor), np.array(estimated_motor)))"
   ]
  },
  {
   "cell_type": "markdown",
   "metadata": {
    "collapsed": false
   },
   "source": [
    "### Estimate motor using 2 residuals"
   ]
  },
  {
   "cell_type": "code",
   "execution_count": 39,
   "metadata": {
    "collapsed": false
   },
   "outputs": [
    {
     "name": "stdout",
     "output_type": "stream",
     "text": [
      "Ceres Solver Report: Iterations: 5, Initial cost: 5.234295e+00, Final cost: 3.822475e-17, Termination: CONVERGENCE\n"
     ]
    }
   ],
   "source": [
    "initial_motor = vsr.Mot(1.0, 0.0, 0.0, 0.0, 0.0, 0.0, 0.0, 0.0)\n",
    "mes = MotorEstimationSolver(initial_motor)\n",
    "for a, b in zip(lines_a, lines_b_noisy):\n",
    "    mes.add_line_angle_distance_norm_residual_block(a,b)\n",
    "mes.set_parameterization('BIVECTOR_GENERATOR')\n",
    "mes.linear_solver_type = \"DENSE_QR\"\n",
    "estimated_motor, lin_summary_3, motors = mes.solve()\n",
    "print(lin_summary_3['brief_report'])"
   ]
  },
  {
   "cell_type": "markdown",
   "metadata": {},
   "source": [
    "#### Check solution"
   ]
  },
  {
   "cell_type": "code",
   "execution_count": 40,
   "metadata": {
    "collapsed": false
   },
   "outputs": [
    {
     "name": "stdout",
     "output_type": "stream",
     "text": [
      "[ 0.866  0.    -0.5    0.    -0.683 -0.433 -0.183 -0.25 ]\n",
      "[ 0.8643 -0.0544 -0.499   0.0314 -0.7193 -0.4103 -0.2332 -0.2483]\n",
      "False\n",
      "False\n"
     ]
    }
   ],
   "source": [
    "print(np.array(motor))\n",
    "print(np.array(estimated_motor))\n",
    "print(np.allclose(np.array(motor), np.array(estimated_motor)))\n",
    "print(np.allclose(np.array(motor), np.array(estimated_motor)))"
   ]
  },
  {
   "cell_type": "markdown",
   "metadata": {},
   "source": [
    "### Estimate motor using Valkenburg-Dorst solver"
   ]
  },
  {
   "cell_type": "code",
   "execution_count": null,
   "metadata": {
    "collapsed": false
   },
   "outputs": [],
   "source": [
    "vd = VDMotorEstimationSolver()\n",
    "vd.add_dual_line_observations(lines_a, lines_b)\n",
    "vd_estimated_motor = vd.solve()\n",
    "print(vd_estimated_motor)"
   ]
  },
  {
   "cell_type": "markdown",
   "metadata": {},
   "source": [
    "#### Check solution"
   ]
  },
  {
   "cell_type": "code",
   "execution_count": null,
   "metadata": {
    "collapsed": false
   },
   "outputs": [],
   "source": [
    "print(np.array(motor))\n",
    "print(np.array(vd_estimated_motor))\n",
    "print(np.allclose(motor, vd_estimated_motor))"
   ]
  },
  {
   "cell_type": "markdown",
   "metadata": {},
   "source": [
    "### Plots"
   ]
  },
  {
   "cell_type": "code",
   "execution_count": null,
   "metadata": {
    "collapsed": false
   },
   "outputs": [],
   "source": [
    "fig, ax = plt.subplots(2, sharex=True)\n",
    "\n",
    "ax[0].set_aspect('equal')\n",
    "plt.set_cmap('gray')\n",
    "\n",
    "almost_black = '#262626'\n",
    "spines_to_remove = ['top', 'right']\n",
    "for spine in spines_to_remove:\n",
    "    ax[0].spines[spine].set_visible(False)\n",
    "    ax[1].spines[spine].set_visible(False)\n",
    "    \n",
    "ax[0].xaxis.set_ticks_position('none')\n",
    "ax[0].yaxis.set_ticks_position('none')\n",
    "ax[1].xaxis.set_ticks_position('none')\n",
    "ax[1].yaxis.set_ticks_position('none')\n",
    "\n",
    "spines_to_keep = ['bottom', 'left']\n",
    "for spine in spines_to_keep:\n",
    "    ax[0].spines[spine].set_linewidth(0.5)\n",
    "    ax[0].spines[spine].set_color(almost_black)\n",
    "    ax[1].spines[spine].set_linewidth(0.5)\n",
    "    ax[1].spines[spine].set_color(almost_black)\n",
    "ax[0].xaxis.label.set_color(almost_black)\n",
    "ax[0].yaxis.label.set_color(almost_black)\n",
    "ax[1].xaxis.label.set_color(almost_black)\n",
    "ax[1].yaxis.label.set_color(almost_black)\n",
    "\n",
    "# ax.plot([it['cost'] for it in lin_summary_4['iterations'] ], label=r\"commutator\")\n",
    "# ax[0].plot([it['cost'] for it in lin_summary_3['iterations'] ], label=r\"$2$-residuals\", c='red')\n",
    "ax[0].plot([it['cost'] for it in lin_summary_2['iterations'] ], label=r\"$4$-residuals\")\n",
    "ax[1].plot([it['cost'] for it in lin_summary_1['iterations'] ], label=r\"$6$-residuals\")\n",
    "\n",
    "ax[0].set_yscale('log')\n",
    "ax[1].set_yscale('log')\n",
    "\n",
    "ax[0].grid(which=\"both\")\n",
    "ax[1].grid(which=\"both\")\n",
    "\n",
    "# ax[0].set_xscale('log')\n",
    "\n",
    "# plt.yscale('log')\n",
    "\n",
    "# ax[0].title.set_color(almost_black)\n",
    "# ax[0].axhline(0, color=almost_black, linewidth=0.15)\n",
    "# ax[0].axvline(0, color=almost_black, linewidth=0.15)\n",
    "# ax[1].title.set_color(almost_black)\n",
    "# ax[1].axhline(0, color=almost_black, linewidth=0.15)\n",
    "# ax[1].axvline(0, color=almost_black, linewidth=0.15)\n",
    "\n",
    "# Remove the line around the legend box, and instead fill it with a light grey\n",
    "# Also only use one point for the scatterplot legend because the user will \n",
    "# get the idea after just one, they don't need three.\n",
    "light_grey = np.array([float(248)/float(255)]*3)\n",
    "legend = ax[0].legend(frameon=True, scatterpoints=1)\n",
    "rect = legend.get_frame()\n",
    "rect.set_facecolor(light_grey)\n",
    "rect.set_linewidth(0.0)\n",
    "legend = ax[1].legend(frameon=True, scatterpoints=1)\n",
    "rect = legend.get_frame()\n",
    "rect.set_facecolor(light_grey)\n",
    "rect.set_linewidth(0.0)\n",
    "\n",
    "fig.text(0.06, 0.5, 'Cost', ha='center', va='center', rotation='vertical')\n",
    "\n",
    "# plt.tight_layout()\n",
    "plt.xlabel(r'Iteration $k$')\n",
    "# fig.ylabel(r'Cost')\n",
    "# ax[1].ylabel(r'Cost')\n",
    "\n",
    "# plt.savefig('/home/lars/Dropbox/Apps/ShareLaTeX/2016-gacse/figures/cost_lines2.pdf')"
   ]
  },
  {
   "cell_type": "markdown",
   "metadata": {},
   "source": [
    "## Motor Estimation from planes"
   ]
  },
  {
   "cell_type": "markdown",
   "metadata": {},
   "source": [
    "### Dataset generation"
   ]
  },
  {
   "cell_type": "code",
   "execution_count": 11,
   "metadata": {
    "collapsed": false
   },
   "outputs": [],
   "source": [
    "n_planes = 10\n",
    "planes_a = []\n",
    "for i in range(10):\n",
    "    dir_vec = np.random.normal(0.0, 0.8, 4)\n",
    "    dir_vec = dir_vec / np.linalg.norm(dir_vec)\n",
    "    distance = np.random.normal(0.0, 0.8,1)\n",
    "    arr = dir_vec + distance\n",
    "    planes_a.append(vsr.Dlp(dir_vec[0],dir_vec[1],dir_vec[2],distance[0]))\n",
    "planes_b = [plane.spin(motor) for plane in planes_a]"
   ]
  },
  {
   "cell_type": "code",
   "execution_count": 12,
   "metadata": {
    "collapsed": false
   },
   "outputs": [],
   "source": [
    "scene = Scene(children=\n",
    "              [plane_mesh(p,width=1, height=1,color='hotpink') for p in planes_a[:3]] +\\\n",
    "              [plane_mesh(p,width=1, height=1,color='lightskyblue') for p in planes_b[:3]] +\\\n",
    "              [frame_mesh(),AmbientLight(color='#cccccc')])\n",
    "\n",
    "camera = PerspectiveCamera(position=[3, -3, 3])\n",
    "renderer = Renderer(camera=camera, \n",
    "                    scene=scene, \n",
    "                    controls=[TrackballControls(controlling=camera)],\n",
    "                    background = 'white')\n",
    "renderer.width = '960'\n",
    "renderer.height = '512'\n",
    "display(renderer)"
   ]
  },
  {
   "cell_type": "markdown",
   "metadata": {},
   "source": [
    "### Estimate motor using 2 residuals"
   ]
  },
  {
   "cell_type": "code",
   "execution_count": 33,
   "metadata": {
    "collapsed": false
   },
   "outputs": [
    {
     "name": "stdout",
     "output_type": "stream",
     "text": [
      "Ceres Solver Report: Iterations: 7, Initial cost: 9.541601e+00, Final cost: 3.021542e-14, Termination: CONVERGENCE\n"
     ]
    }
   ],
   "source": [
    "motor = vsr.Vec(1,1,1).trs() * vsr.Rot(vsr.Biv(0,1,0) * np.pi/6.0)\n",
    "noise_motor_plane = vsr.Vec(0.1,0.1,0.1).trs() * vsr.Rot(vsr.Biv(1,0,0) * np.pi/24)\n",
    "initial_motor = vsr.Mot(1.0, 0.0, 0.0, 0.0, 0.0, 0.0, 0.0, 0.0)\n",
    "mes = MotorEstimationSolver(initial_motor)\n",
    "for a, b in zip(planes_a, planes_b):\n",
    "#     mes.add_dual_plane_angle_error_residual_block(a,b.spin(noise_motor_plane))\n",
    "    mes.add_dual_plane_angle_error_residual_block(a,b)\n",
    "\n",
    "mes.set_parameterization('BIVECTOR_GENERATOR')\n",
    "mes.linear_solver_type = \"DENSE_QR\"\n",
    "# mes.function_tolerance = 1e-8\n",
    "# mes.max_num_iterations = 100\n",
    "estimated_motor, pln_summary_1, motors = mes.solve()\n",
    "print(pln_summary_1['brief_report'])"
   ]
  },
  {
   "cell_type": "code",
   "execution_count": 47,
   "metadata": {
    "collapsed": false
   },
   "outputs": [
    {
     "name": "stdout",
     "output_type": "stream",
     "text": [
      "[ 0.866  0.    -0.5    0.    -0.683 -0.433 -0.183 -0.25 ]\n",
      "[ 0.866  0.    -0.5    0.    -0.683 -0.433 -0.183 -0.25 ]\n",
      "False\n",
      "True\n"
     ]
    }
   ],
   "source": [
    "print(np.array(motor))\n",
    "print(np.array(estimated_motor))\n",
    "print(np.allclose(np.array(motor), np.array(estimated_motor)))\n",
    "print(np.allclose(np.array(motor), np.array(estimated_motor), atol=1e-07))"
   ]
  },
  {
   "cell_type": "code",
   "execution_count": 48,
   "metadata": {
    "collapsed": false
   },
   "outputs": [
    {
     "data": {
      "text/plain": [
       "array([ 0.866,  0.   , -0.5  ,  0.   , -0.683, -0.433, -0.183, -0.25 ])"
      ]
     },
     "execution_count": 48,
     "metadata": {},
     "output_type": "execute_result"
    }
   ],
   "source": [
    "np.array(estimated_motor)"
   ]
  },
  {
   "cell_type": "code",
   "execution_count": 38,
   "metadata": {
    "collapsed": false
   },
   "outputs": [
    {
     "data": {
      "text/plain": [
       "array([ 0.866,  0.   , -0.5  ,  0.   , -0.683, -0.433, -0.183, -0.25 ])"
      ]
     },
     "execution_count": 38,
     "metadata": {},
     "output_type": "execute_result"
    }
   ],
   "source": [
    "np.array(motor)"
   ]
  },
  {
   "cell_type": "code",
   "execution_count": null,
   "metadata": {
    "collapsed": false
   },
   "outputs": [],
   "source": [
    "fig, ax = plt.subplots(1)\n",
    "\n",
    "# ax.set_aspect('equal')\n",
    "plt.set_cmap('gray')\n",
    "\n",
    "almost_black = '#262626'\n",
    "spines_to_remove = ['top', 'right']\n",
    "for spine in spines_to_remove:\n",
    "    ax.spines[spine].set_visible(False)\n",
    "ax.xaxis.set_ticks_position('none')\n",
    "ax.yaxis.set_ticks_position('none')\n",
    "\n",
    "spines_to_keep = ['bottom', 'left']\n",
    "for spine in spines_to_keep:\n",
    "    ax.spines[spine].set_linewidth(0.5)\n",
    "    ax.spines[spine].set_color(almost_black)\n",
    "ax.xaxis.label.set_color(almost_black)\n",
    "ax.yaxis.label.set_color(almost_black)\n",
    "\n",
    "ax.plot([it['cost'] for it in pln_summary_1['iterations'] ])\n",
    "\n",
    "ax.title.set_color(almost_black)\n",
    "ax.axhline(0, color=almost_black, linewidth=0.15)\n",
    "ax.axvline(0, color=almost_black, linewidth=0.15)\n",
    "\n",
    "# Remove the line around the legend box, and instead fill it with a light grey\n",
    "# Also only use one point for the scatterplot legend because the user will \n",
    "# get the idea after just one, they don't need three.\n",
    "\n",
    "# light_grey = np.array([float(248)/float(255)]*3)\n",
    "# legend = ax.legend(frameon=True, scatterpoints=1)\n",
    "# rect = legend.get_frame()\n",
    "# rect.set_facecolor(light_grey)\n",
    "# rect.set_linewidth(0.0)\n",
    "\n",
    "plt.xlabel(r'Iteration $k$')\n",
    "plt.ylabel(r'Cost')\n",
    "\n",
    "\n",
    "# plt.savefig('/Users/lars/Dropbox/Apps/ShareLaTeX/2016-gacse/figures/cost_planes.pdf')"
   ]
  },
  {
   "cell_type": "markdown",
   "metadata": {},
   "source": [
    "### Estimate motor using Valkenburg-Dorst solver"
   ]
  },
  {
   "cell_type": "code",
   "execution_count": null,
   "metadata": {
    "collapsed": false
   },
   "outputs": [],
   "source": [
    "vd = VDMotorEstimationSolver()\n",
    "vd.add_dual_plane_observations(planes_a, planes_b)\n",
    "vd_estimated_motor = vd.solve()\n",
    "print(vd_estimated_motor)"
   ]
  },
  {
   "cell_type": "markdown",
   "metadata": {},
   "source": [
    "#### Check solution"
   ]
  },
  {
   "cell_type": "code",
   "execution_count": null,
   "metadata": {
    "collapsed": false
   },
   "outputs": [],
   "source": [
    "print(np.array(motor))\n",
    "print(np.array(vd_estimated_motor))\n",
    "print(np.allclose(motor, vd_estimated_motor))"
   ]
  },
  {
   "cell_type": "markdown",
   "metadata": {},
   "source": [
    "## Motor Estimation from heterogeneous conformal objects"
   ]
  },
  {
   "cell_type": "markdown",
   "metadata": {},
   "source": [
    "### Estimate motor using Valkenburg-Dorst solver"
   ]
  },
  {
   "cell_type": "code",
   "execution_count": null,
   "metadata": {
    "collapsed": false
   },
   "outputs": [],
   "source": [
    "vd = VDMotorEstimationSolver()\n",
    "vd.add_point_observations(points_a, points_b)\n",
    "vd.add_dual_line_observations(lines_a, lines_b)\n",
    "vd.add_dual_plane_observations(planes_a, planes_b)\n",
    "vd_estimated_motor = vd.solve()\n",
    "print(vd_estimated_motor)"
   ]
  },
  {
   "cell_type": "markdown",
   "metadata": {},
   "source": [
    "#### Check solution"
   ]
  },
  {
   "cell_type": "code",
   "execution_count": null,
   "metadata": {
    "collapsed": false,
    "scrolled": true
   },
   "outputs": [],
   "source": [
    "print(np.array(motor))\n",
    "print(np.array(vd_estimated_motor))\n",
    "print(np.allclose(motor, vd_estimated_motor))"
   ]
  },
  {
   "cell_type": "code",
   "execution_count": null,
   "metadata": {
    "collapsed": false
   },
   "outputs": [],
   "source": [
    "initial_motors = [vd_estimated_motor]\n",
    "vd_summaries_no_noise = []\n",
    "estimated_motors = []\n",
    "for initial_motor in initial_motors:\n",
    "    mes = MotorEstimationSolver(initial_motor)\n",
    "    for a, b in zip(planes_a, planes_b):\n",
    "        mes.add_dual_plane_angle_error_residual_block(a,b)\n",
    "    for a, b in zip(lines_a, lines_b):\n",
    "        mes.add_line_correspondences_residual_block(a,b)\n",
    "    for a, b in zip(points_a, points_b):\n",
    "        mes.add_point_correspondences_residual_block(a,b)\n",
    "    mes.set_parameterization('BIVECTOR_GENERATOR')\n",
    "    mes.linear_solver_type = \"DENSE_QR\"\n",
    "    mes.max_num_iterations = 100\n",
    "    mes.function_tolerance = 1e-2\n",
    "    em, summary_het = mes.solve()\n",
    "    estimated_motors.append(em)\n",
    "    vd_summaries_no_noise.append(summary_het)\n",
    "    print(np.array(initial_motor))\n",
    "    print(np.array(motor))\n",
    "    print(np.array(em))\n",
    "    print(summary_het['brief_report'])"
   ]
  },
  {
   "cell_type": "code",
   "execution_count": null,
   "metadata": {
    "collapsed": false
   },
   "outputs": [],
   "source": [
    "motor = vsr.Vec(1,1,1).trs() * vsr.Rot(vsr.Biv(0,1,0) * np.pi/6.0)\n",
    "noise_motor = vsr.Vec(0.1,0.1,0.1).trs() * vsr.Rot(vsr.Biv(1,0,0) * np.pi/100)\n",
    "\n",
    "noise_motor_plane = vsr.Vec(0.05,0.05,0.05).trs() * vsr.Rot(vsr.Biv(1,0,0) * np.pi/100)\n",
    "noise_motor_lines = vsr.Vec(-0.01,-0.01,-0.01).trs() * vsr.Rot(vsr.Biv(0,1,0) * (-np.pi/100))\n",
    "noise_motor_points = vsr.Vec(0.1,0.1,0.1).trs() * vsr.Rot(vsr.Biv(0,0,1) * (np.pi/100))\n",
    "\n",
    "# initial_motor = vsr.Mot(1.0, 0.0, 0.0, 0.0, 0.0, 0.0, 0.0, 0.0)\n",
    "\n",
    "initial_motors = [vsr.Mot(1.0, 0.0, 0.0, 0.0, 0.0, 0.0, 0.0, 0.0),\n",
    "                  vsr.Vec(0.1,0.1,0.1).trs() * vsr.Rot(vsr.Biv(0,1,0) * (np.pi/6.0 + np.pi/2.))]\n",
    "\n",
    "labels = [\"1\", \"$\\pi$\"]\n",
    "summaries_no_noise = []\n",
    "estimated_motors_no_noise = []\n",
    "for initial_motor in initial_motors:\n",
    "    mes = MotorEstimationSolver(initial_motor)\n",
    "    for a, b in zip(planes_a, planes_b):\n",
    "        mes.add_dual_plane_angle_error_residual_block(a,b)\n",
    "    for a, b in zip(lines_a, lines_b):\n",
    "        mes.add_line_correspondences_residual_block(a,b)\n",
    "    for a, b in zip(points_a, points_b):\n",
    "        mes.add_point_correspondences_residual_block(a,b)\n",
    "    mes.set_parameterization('BIVECTOR_GENERATOR')\n",
    "    mes.linear_solver_type = \"DENSE_QR\"\n",
    "    mes.max_num_iterations = 100\n",
    "    em, summary_het = mes.solve()\n",
    "    estimated_motors_no_noise.append(em)\n",
    "    summaries_no_noise.append(summary_het)\n",
    "    print(initial_motor)\n",
    "#     print(motor)\n",
    "    print(em)\n",
    "\n",
    "#     print(np.array(motor))\n",
    "#     print(np.array(estimated_motor))\n",
    "#     print(np.allclose(np.array(motor), np.array(estimated_motor)))\n",
    "#     print(np.allclose(np.array(motor), np.array(estimated_motor), \n",
    "#                       rtol=1e-05, atol=1e-5))\n",
    "    print(summary_het['brief_report'])\n",
    "    print()"
   ]
  },
  {
   "cell_type": "code",
   "execution_count": null,
   "metadata": {
    "collapsed": false
   },
   "outputs": [],
   "source": [
    "for s,l in zip(summaries_no_noise, labels):\n",
    "    plt.plot([it['cost'] for it in s['iterations']], label=l)\n",
    "plt.semilogy()\n",
    "plt.legend()"
   ]
  },
  {
   "cell_type": "markdown",
   "metadata": {},
   "source": [
    "## With noise"
   ]
  },
  {
   "cell_type": "code",
   "execution_count": null,
   "metadata": {
    "collapsed": false
   },
   "outputs": [],
   "source": [
    "motor = vsr.Vec(1,1,1).trs() * vsr.Rot(vsr.Biv(0,1,0) * np.pi/6.0)\n",
    "\n",
    "noise_motor_planes = vsr.Vec(0.05,0.05,0.05).trs() * vsr.Rot(vsr.Biv(1,0,0) * np.pi/100)\n",
    "noise_motor_lines = vsr.Vec(-0.01,-0.01,-0.01).trs() * vsr.Rot(vsr.Biv(0,1,0) * (-np.pi/100))\n",
    "noise_motor_points = vsr.Vec(0.1,0.1,0.1).trs() * vsr.Rot(vsr.Biv(0,0,1) * (np.pi/100))\n",
    "\n",
    "points_b_noisy = [b.spin(noise_motor_points) for b in points_b]\n",
    "lines_b_noisy = [b.spin(noise_motor_lines) for b in lines_b]\n",
    "planes_b_noisy = [b.spin(noise_motor_planes) for b in planes_b]"
   ]
  },
  {
   "cell_type": "markdown",
   "metadata": {},
   "source": [
    "### Estimate motor using Valkenburg-Dorst solver"
   ]
  },
  {
   "cell_type": "code",
   "execution_count": null,
   "metadata": {
    "collapsed": false
   },
   "outputs": [],
   "source": [
    "vd = VDMotorEstimationSolver()\n",
    "vd.add_point_observations(points_a, points_b_noisy)\n",
    "vd.add_dual_line_observations(lines_a, lines_b_noisy)\n",
    "vd.add_dual_plane_observations(planes_a, planes_b_noisy)\n",
    "vd_estimated_motor = vd.solve()\n",
    "print(vd_estimated_motor)"
   ]
  },
  {
   "cell_type": "markdown",
   "metadata": {},
   "source": [
    "#### Check solution"
   ]
  },
  {
   "cell_type": "code",
   "execution_count": null,
   "metadata": {
    "collapsed": false,
    "scrolled": true
   },
   "outputs": [],
   "source": [
    "print(np.array(motor))\n",
    "print(np.array(vd_estimated_motor))\n",
    "print(np.allclose(motor, vd_estimated_motor))"
   ]
  },
  {
   "cell_type": "code",
   "execution_count": null,
   "metadata": {
    "collapsed": false
   },
   "outputs": [],
   "source": [
    "d = [np.linalg.norm(np.array(a.spin(vd_estimated_motor)) - np.array(a.spin(motor))) for a in points_a]\n",
    "print(np.mean(d), np.std(d))"
   ]
  },
  {
   "cell_type": "code",
   "execution_count": null,
   "metadata": {
    "collapsed": false
   },
   "outputs": [],
   "source": [
    "# initial_motors = [vsr.Mot(1.0, 0.0, 0.0, 0.0, 0.0, 0.0, 0.0, 0.0),\n",
    "#                   vsr.Vec(1,1,1).trs() * vsr.Rot(vsr.Biv(0,1,0) * (np.pi/6.0 + np.pi/2))]\n",
    "summaries_noise = []\n",
    "estimated_motors_noise = []\n",
    "for initial_motor in initial_motors:\n",
    "    mes = MotorEstimationSolver(initial_motor)\n",
    "    for a, b in zip(planes_a, planes_b_noisy):\n",
    "        mes.add_dual_plane_angle_error_residual_block(a,b)\n",
    "    for a, b in zip(lines_a, lines_b_noisy):\n",
    "        mes.add_line_correspondences_residual_block(a,b)\n",
    "    for a, b in zip(points_a, points_b_noisy):\n",
    "        mes.add_point_correspondences_residual_block(a,b)\n",
    "    mes.set_parameterization('BIVECTOR_GENERATOR')\n",
    "    mes.linear_solver_type = \"DENSE_QR\"\n",
    "    mes.max_num_iterations = 100\n",
    "#     mes.function_tolerance = 1e-4\n",
    "    em, summary_het = mes.solve()\n",
    "    estimated_motors_noise.append(em)\n",
    "    summaries_noise.append(summary_het)\n",
    "    print(np.array(initial_motor))\n",
    "#     print(np.array(motor))\n",
    "#     print(np.array(em))\n",
    "    print(summary_het['brief_report'])"
   ]
  },
  {
   "cell_type": "code",
   "execution_count": null,
   "metadata": {
    "collapsed": false
   },
   "outputs": [],
   "source": [
    "d = [[np.linalg.norm(np.array(a.spin(em)) - \n",
    "                np.array(a.spin(motor))) for a in points_a] for em in estimated_motors_noise]\n",
    "for d in d:\n",
    "    print(np.mean(d), np.std(d))"
   ]
  },
  {
   "cell_type": "code",
   "execution_count": null,
   "metadata": {
    "collapsed": false
   },
   "outputs": [],
   "source": [
    "initial_motors = [vd_estimated_motor]\n",
    "vd_summaries_noise = []\n",
    "estimated_motors = []\n",
    "for initial_motor in initial_motors:\n",
    "    mes = MotorEstimationSolver(initial_motor)\n",
    "    for a, b in zip(planes_a, planes_b_noisy):\n",
    "        mes.add_dual_plane_angle_error_residual_block(a,b)\n",
    "    for a, b in zip(lines_a, lines_b_noisy):\n",
    "        mes.add_line_correspondences_residual_block(a,b)\n",
    "    for a, b in zip(points_a, points_b_noisy):\n",
    "        mes.add_point_correspondences_residual_block(a,b)\n",
    "    mes.set_parameterization('BIVECTOR_GENERATOR')\n",
    "    mes.linear_solver_type = \"DENSE_QR\"\n",
    "    mes.max_num_iterations = 100\n",
    "#     mes.function_tolerance = 1e-5\n",
    "    em, summary_het = mes.solve()\n",
    "    estimated_motors.append(em)\n",
    "    vd_summaries_noise.append(summary_het)\n",
    "    print(np.array(initial_motor))\n",
    "    print(np.array(motor))\n",
    "    print(np.array(em))\n",
    "    print(summary_het['brief_report'])"
   ]
  },
  {
   "cell_type": "code",
   "execution_count": null,
   "metadata": {
    "collapsed": false
   },
   "outputs": [],
   "source": [
    "for s,l in zip(summaries_no_noise, labels):\n",
    "    plt.plot([it['cost'] for it in s['iterations']], label=l)\n",
    "for s,l in zip(summaries_noise, labels):\n",
    "    plt.plot([it['cost'] for it in s['iterations']], label=l)\n",
    "plt.axhline(y=vd_summaries_noise[0]['iterations'][0]['cost'])\n",
    "plt.axhline(y=vd_summaries_no_noise[0]['iterations'][0]['cost'])\n",
    "plt.semilogy()\n",
    "plt.legend()"
   ]
  },
  {
   "cell_type": "code",
   "execution_count": null,
   "metadata": {
    "collapsed": false
   },
   "outputs": [],
   "source": [
    "for s in summaries:\n",
    "    plt.plot([it['cost'] for it in s['iterations']])\n",
    "plt.semilogy()"
   ]
  },
  {
   "cell_type": "code",
   "execution_count": null,
   "metadata": {
    "collapsed": false
   },
   "outputs": [],
   "source": [
    "d = [[np.linalg.norm(np.array(a.spin(em)) - \n",
    "                np.array(a.spin(motor))) for a in points_a] for em in estimated_motors]\n",
    "for d in d:\n",
    "    print(np.mean(d), np.std(d))"
   ]
  },
  {
   "cell_type": "code",
   "execution_count": null,
   "metadata": {
    "collapsed": false
   },
   "outputs": [],
   "source": [
    "fig, ax = plt.subplots(1)\n",
    "\n",
    "ax.set_aspect('equal')\n",
    "\n",
    "almost_black = '#262626'\n",
    "spines_to_remove = ['top', 'right']\n",
    "for spine in spines_to_remove:\n",
    "    ax.spines[spine].set_visible(False)\n",
    "ax.xaxis.set_ticks_position('none')\n",
    "ax.yaxis.set_ticks_position('none')\n",
    "\n",
    "spines_to_keep = ['bottom', 'left']\n",
    "for spine in spines_to_keep:\n",
    "    ax.spines[spine].set_linewidth(0.5)\n",
    "    ax.spines[spine].set_color(almost_black)\n",
    "ax.xaxis.label.set_color(almost_black)\n",
    "ax.yaxis.label.set_color(almost_black)\n",
    "\n",
    "# ax.grid(which=\"both\")\n",
    "\n",
    "ax.axhline(y=vd_summaries_noise[0]['iterations'][0]['cost'], \n",
    "           ls=\"-\", lw=0.75,c='black',label=\"V\\&D~[26], With noise\")\n",
    "ax.axhline(y=vd_summaries_no_noise[0]['iterations'][0]['cost'],\n",
    "           ls=\"--\", lw=0.75,c='black',label=\"V\\&D~[26], Without noise\")\n",
    "\n",
    "ax.plot([it['cost'] for it in summaries_no_noise[1]['iterations']], label=r\"Without noise, $\\bar{\\theta}_0 = \\pi$\")\n",
    "ax.plot([it['cost'] for it in summaries_no_noise[0]['iterations']], label=r\"Without noise, $\\bar{\\theta}_0 = {\\pi \\over 3}$\")\n",
    "\n",
    "\n",
    "ax.plot([it['cost'] for it in summaries_noise[1]['iterations']], label=r\"With noise, $\\bar{\\theta}_0 = \\pi$\")\n",
    "ax.plot([it['cost'] for it in summaries_noise[0]['iterations']], label=r\"With noise, $\\bar{\\theta}_0 = {\\pi \\over 3}$\")\n",
    "\n",
    "\n",
    "\n",
    "ax.semilogy()\n",
    "\n",
    "# ax.set_yscale('log')\n",
    "\n",
    "ax.title.set_color(almost_black)\n",
    "ax.axhline(0, color=almost_black, linewidth=0.15)\n",
    "ax.axvline(0, color=almost_black, linewidth=0.15)\n",
    "\n",
    "# Remove the line around the legend box, and instead fill it with a light grey\n",
    "# Also only use one point for the scatterplot legend because the user will \n",
    "# get the idea after just one, they don't need three.\n",
    "\n",
    "light_grey = np.array([float(248)/float(255)]*3)\n",
    "legend = ax.legend(frameon=True, scatterpoints=1)\n",
    "rect = legend.get_frame()\n",
    "rect.set_facecolor(light_grey)\n",
    "rect.set_linewidth(0.0)\n",
    "\n",
    "\n",
    "\n",
    "\n",
    "plt.xlabel(r'Iteration $k$')\n",
    "plt.ylabel(r'Cost')\n",
    "\n",
    "\n",
    "plt.savefig('/home/lars/Dropbox/PhD/latex/2016-05-18_-_AACA-D-16-00064_Manuscript_Tingelstad_Egeland/cost_heterogeneous2.pdf')"
   ]
  },
  {
   "cell_type": "code",
   "execution_count": null,
   "metadata": {
    "collapsed": true
   },
   "outputs": [],
   "source": []
  },
  {
   "cell_type": "code",
   "execution_count": null,
   "metadata": {
    "collapsed": true
   },
   "outputs": [],
   "source": []
  }
 ],
 "metadata": {
  "kernelspec": {
   "display_name": "Python 2",
   "language": "python",
   "name": "python2"
  },
  "language_info": {
   "codemirror_mode": {
    "name": "ipython",
    "version": 2
   },
   "file_extension": ".py",
   "mimetype": "text/x-python",
   "name": "python",
   "nbconvert_exporter": "python",
   "pygments_lexer": "ipython2",
   "version": "2.7.11+"
  },
  "widgets": {
   "state": {
    "00a2b9c61b24446fb3e3879c8e86738c": {
     "views": []
    },
    "011a9a3f193540de8e9bbf6fbad86712": {
     "views": []
    },
    "0434752aedac497983854d04ea420330": {
     "views": []
    },
    "061f0484705a422c8110bdc6241a7aea": {
     "views": []
    },
    "06537045e7da44da9d838ff2f987f04c": {
     "views": []
    },
    "065495a67b834103911cd1371d4541fa": {
     "views": []
    },
    "06723231eacc4b2fb4a22901315f2f09": {
     "views": []
    },
    "081181792c414500a752925031acbc8e": {
     "views": []
    },
    "0865906f192d45ddb4acf70e9dadf004": {
     "views": []
    },
    "08f24024a13e4a6999f5d0620067f755": {
     "views": []
    },
    "09e81497681f499f9915e66a6c7ce609": {
     "views": []
    },
    "0a251df413fe4923a9606968409a85a1": {
     "views": [
      {
       "cell_index": 125
      }
     ]
    },
    "0a9d10c7acb14a8095302f62e05fb48e": {
     "views": []
    },
    "0b3d9bb3a84e41e69041de1288dbc9f7": {
     "views": []
    },
    "0b7fd6b5056a48b8b7f5838eca88f7d7": {
     "views": []
    },
    "0b81282103c2407f8a92f1b5353a1221": {
     "views": []
    },
    "0cf0b0da2cbc4dc49963a2dbb4ee55a2": {
     "views": []
    },
    "0d1208d100ac40259113fbc7c2e94873": {
     "views": []
    },
    "0d6766a93e304cd0a1b977c2802832ec": {
     "views": []
    },
    "0e5a39d9ba8c4bfba1f2903f87f4596f": {
     "views": []
    },
    "0f44190f52db4cf99d79464dc893b8df": {
     "views": []
    },
    "0faa355c68864c06b9587336b42f1b0f": {
     "views": []
    },
    "0fc4bddfa13b47a1a839fb61162703e7": {
     "views": []
    },
    "1004ff452afb47c097b33a3a6d1d57a7": {
     "views": []
    },
    "11573d3dc8874321b22c458ad6fa936c": {
     "views": []
    },
    "11a956a4ee3f4a2f9d696acf98fe9205": {
     "views": []
    },
    "11b466cde26843d3b58ec15de8fc764a": {
     "views": []
    },
    "11cdac8f8c9544f481a78532ce895af2": {
     "views": []
    },
    "12e69726b01546f28b99d0903b51ce0d": {
     "views": []
    },
    "1367a7a81e3149c68627bfd1d934f082": {
     "views": []
    },
    "149579be2f3247a2a8f89782e894f661": {
     "views": []
    },
    "15b8e6e9b8a441e8a1236e98f4fbf1e7": {
     "views": []
    },
    "17dcc1e1ab114430b04ad8864a73652a": {
     "views": []
    },
    "19463647ef7c46d59a9c16a144876cbd": {
     "views": []
    },
    "19c15a1c80b44788898da0e3e1c018c2": {
     "views": []
    },
    "1a769de4d7d74cb5a7184056d78971ed": {
     "views": []
    },
    "1a93ed1a04704e46a6a550212d995080": {
     "views": []
    },
    "1a969cdf18164ec88d0d872c4f0e570c": {
     "views": []
    },
    "1acd2b0ab1ca4007a5b7ea622fb4de51": {
     "views": []
    },
    "1b6550c82be84c299abb6c7eb3bb89ba": {
     "views": []
    },
    "1c55b8ee5f244ff8a639867b7aca9233": {
     "views": []
    },
    "1daec058c308400caa9c8153066db6ab": {
     "views": []
    },
    "2062e28d06a542eca81ce37fb5513973": {
     "views": []
    },
    "209a3157003a4d5a867087acf12d8f21": {
     "views": []
    },
    "218ee73e4b2b4d3382b34ddd01b126db": {
     "views": []
    },
    "243fe1acf87e4d95aae309c4c93f74e9": {
     "views": []
    },
    "248bcb8306d44c849d837609884837bd": {
     "views": []
    },
    "248e6251a6b24c5e95078074cd033c7d": {
     "views": []
    },
    "25abc445ce4c43a985eebd1e521f3b14": {
     "views": []
    },
    "26398c8544b8431c99baaa6ef9add777": {
     "views": []
    },
    "267d2ae89fcf4b8e8a2fbd43c2da8e3d": {
     "views": []
    },
    "2777a26625dd453ebb33d06b21cecdf6": {
     "views": []
    },
    "2781912ab9144ed2870ebae5e396b1f5": {
     "views": []
    },
    "27d4d73cdb664c8eba5af1f1ec5dcc30": {
     "views": []
    },
    "27dc3dfd29424e419c609ffd49198e7d": {
     "views": []
    },
    "28435776a91d41f8904ee0e4abc18794": {
     "views": []
    },
    "289395a351d44236b894da09e1f606e1": {
     "views": []
    },
    "28d0da814c0f4e7e97b05ccb5e6f9d28": {
     "views": []
    },
    "296ffa52007247c0b6b47d868d6166d3": {
     "views": []
    },
    "2af9863f27664d928c047c4c16c6a48b": {
     "views": []
    },
    "2b31d4a764c34840bdb49ea997aee127": {
     "views": []
    },
    "2bba14d62b1b42f988dffaa93b7e6823": {
     "views": []
    },
    "2d923f375cbb4dd79c6f7b6fe50af7c6": {
     "views": []
    },
    "2e3a139948cc4ce8b1e553e5f8ccc5db": {
     "views": []
    },
    "2e3b3be7602a4c4693c908494f899a9b": {
     "views": []
    },
    "2fb317dd907440618d24f6347ee23924": {
     "views": []
    },
    "304cc871c6f4439ebcabc96ae812e926": {
     "views": []
    },
    "3086b306d2674d0db14ee052337b4a0f": {
     "views": []
    },
    "30d7dfa56c8140c086dce8652cacaaaa": {
     "views": []
    },
    "31d895af9e9e4285962c100ed320ff62": {
     "views": []
    },
    "32d041f2f34c45dab626c145e1b79407": {
     "views": []
    },
    "344fd4249690462fb3d8ea551cef224d": {
     "views": []
    },
    "3458dc60175c436cbb66f21ea584255e": {
     "views": []
    },
    "34a01dc861bd4047b8042947fe9966f6": {
     "views": []
    },
    "34dab9f8f73d4dc680eb6712ec6d4d3d": {
     "views": []
    },
    "34dbcac28c594675a3e3a1e41892e9b0": {
     "views": []
    },
    "35bccb2a94eb430a9da146717edde4f2": {
     "views": []
    },
    "39761571ed94481eb28f5b372f2be0df": {
     "views": []
    },
    "3b2ba512d38848fda2bb98fa44e7f79d": {
     "views": []
    },
    "3cf02d0de1f741b797bed26e8785b44a": {
     "views": []
    },
    "3eb5a9810cd0494dbd55ed621199174b": {
     "views": []
    },
    "3fbbcce61b3e48188285ad082363997c": {
     "views": []
    },
    "40965cec28834b93afdd22c7d62becd2": {
     "views": []
    },
    "409dfb8c580d418186c3a8fbf035caed": {
     "views": []
    },
    "412824fd2eef4f7faae76fa4f3742e85": {
     "views": []
    },
    "413e3a9103a64affbaf8cdbc3c50501e": {
     "views": []
    },
    "41403b5571b8464797ed26d65c9353b2": {
     "views": []
    },
    "41c3e9885ff04f10865ef82d6ed48730": {
     "views": []
    },
    "41eed506666145e09b4599136c165c6f": {
     "views": []
    },
    "420cc15751cd4952aae1a80b4e116a59": {
     "views": []
    },
    "4299d26d1c2749c68273b23a88e8c13f": {
     "views": []
    },
    "431415ef25604f79ac17458435de23a3": {
     "views": []
    },
    "4371a047398d48f5b6e63aa6e19ea2f0": {
     "views": []
    },
    "443a666dda8f469e9fc640de52963e42": {
     "views": []
    },
    "4457af953a4845008c5058c873305d48": {
     "views": []
    },
    "44715aeb8e5148318477805f59d9575f": {
     "views": []
    },
    "457763f9cdf24524b410cfe4ded5fe92": {
     "views": []
    },
    "45e7968108304647a6a79e19ea6277cb": {
     "views": []
    },
    "4620f9491dda4d88bbb3a8c14fdd2afe": {
     "views": []
    },
    "46508b44eff24129879f620d2cad3c20": {
     "views": []
    },
    "4681d8c3afa04233b32607804b733171": {
     "views": []
    },
    "4713200192594747962f2b12ed0d234f": {
     "views": []
    },
    "4782e1e1b77144e0afaf409df12cce70": {
     "views": []
    },
    "4826ff69d495401f9380ed67bf88c7d5": {
     "views": []
    },
    "4829880a59cd497ca47b2ff8c78d66eb": {
     "views": []
    },
    "4bebb1403a9241fe896a90b190bd9df6": {
     "views": []
    },
    "4bfbee4321b94f3b96aebee169a69953": {
     "views": [
      {
       "cell_index": 99
      }
     ]
    },
    "4c386f53a45a43cbab15c894fa8c6f5f": {
     "views": []
    },
    "4cf943a2c73f485f807e41b3706d7ede": {
     "views": []
    },
    "4d40d22e901d4c6b99b770ef3b191a3b": {
     "views": []
    },
    "4d99fecb45d34dba9d70514aae3fbf36": {
     "views": []
    },
    "4f072e0158314ead8f187a4e45342a44": {
     "views": []
    },
    "4f8d4b0823df476d9903883c9249bf13": {
     "views": []
    },
    "4fde3aa8592c4d3f80ad45a8369825cb": {
     "views": []
    },
    "50cf68b69c8940d5975e9030901f9869": {
     "views": []
    },
    "5208473544544cbcaf59bc143f4de78b": {
     "views": []
    },
    "54ecd0b2bb0446cf87a89d070173e871": {
     "views": []
    },
    "56647da0d97c44bca73638bfbdc77a54": {
     "views": []
    },
    "5681419d1b20402c8330dda1d702af05": {
     "views": []
    },
    "577951b0773744a2b8ba18294f06d6f1": {
     "views": []
    },
    "57cbcc746aed40dd80795a2ffb275491": {
     "views": []
    },
    "586c381d4e124acebe86391a661e0426": {
     "views": []
    },
    "58770eb412114599a91cda2f554cee2d": {
     "views": []
    },
    "59370645009a406e89483ca64c4304ff": {
     "views": []
    },
    "59437979c8c5409cb46883ab04465423": {
     "views": []
    },
    "594a0e4cbd6a4d7fb2b83f2f806fb6f3": {
     "views": []
    },
    "594e8711d1f8431b81f6f3a6df469f38": {
     "views": []
    },
    "5a8483e9f8344b5f8e1e05c65db4e6e3": {
     "views": []
    },
    "5b1329ab17a54a8baef8842a99563486": {
     "views": []
    },
    "5b3d651521a94e0ea2b36c133b940bb3": {
     "views": []
    },
    "5c50d9c5bea240dfa21eec4bbc4be873": {
     "views": []
    },
    "5c94070b8f124e7488e0e26d40ae1dd0": {
     "views": []
    },
    "5cdd0ca4a3004b1fb500d1e30c9eab0d": {
     "views": []
    },
    "5e97eb169cc94a7ea776f368a31f8956": {
     "views": []
    },
    "60f82b40e18347ef8cd43e5daeeb2a70": {
     "views": []
    },
    "61216fa22eb6482db1889be387259f7b": {
     "views": []
    },
    "63571c5c912440c9830b92d91e74f2fd": {
     "views": []
    },
    "63e3e03cf03541ecbd86d2cca4a025f0": {
     "views": []
    },
    "6480c37ecc3044f18cf1ae6916e38e37": {
     "views": []
    },
    "651e1a6fdf2d444da17c4a30a8a1ff00": {
     "views": []
    },
    "65457624a361468d96852e4f21c257f0": {
     "views": []
    },
    "65e952066a2042109b333e58925a9401": {
     "views": []
    },
    "66153e9cc8c04402b6fc5582dc91093a": {
     "views": []
    },
    "6690eeb80fce47dc8f67ed2e2e6ad422": {
     "views": []
    },
    "669ae9b30ef644c1a878062cf3d19e20": {
     "views": []
    },
    "66e8813c12c8437d856c3150c3f75641": {
     "views": []
    },
    "675cc9a6627e4d95b06158e33773e537": {
     "views": []
    },
    "685249b4b6104d09ad4860436cd1daae": {
     "views": []
    },
    "6a0f1a7ab3214bb8ba5c5dd53df95720": {
     "views": []
    },
    "6ab79fdd43c94a7e8c0856c689d50187": {
     "views": []
    },
    "6d3c31097e2b4a909cc60192b098197e": {
     "views": []
    },
    "6f897d27897b49fd9d387d4536de7546": {
     "views": []
    },
    "6fe67f41de9249258ec96877e96e14e5": {
     "views": []
    },
    "70f92932bfda4f68b3ca0e4b6080df36": {
     "views": []
    },
    "7128d2698171419b87cba11e56826f7e": {
     "views": []
    },
    "7202160dc42549e591001888d80b96ba": {
     "views": []
    },
    "7232ca4c6cda46ccacaf914f94bc9ab6": {
     "views": []
    },
    "7258b79754424f7a8a5f60b0b6d3d121": {
     "views": []
    },
    "729270c2bad84170b545bc36fba9f712": {
     "views": []
    },
    "75ffe97ba47f4bffbf844c3aea239cdc": {
     "views": []
    },
    "766117ea472d47e68a3139a27037fa49": {
     "views": []
    },
    "78569b5f2e0e43d8ac0be449fb7440e8": {
     "views": []
    },
    "7887ac3665794a659f8ec5a0ae91e71e": {
     "views": []
    },
    "78a10fc07c544454b07c6b1e9fdc50cf": {
     "views": []
    },
    "78bd20cc6a2948838302cfa3af8e86ac": {
     "views": []
    },
    "7926c59ecd254e7587633ad13abd93bc": {
     "views": []
    },
    "795d48148e8949da8d4798d292daf978": {
     "views": []
    },
    "797171b7de23474288ac08d438c14a11": {
     "views": []
    },
    "79aa2f1a257449bda3eb10e12ae23caa": {
     "views": []
    },
    "7a203160cda64ecb96a3223100f28a13": {
     "views": []
    },
    "7a53d91af201443a803cfda2cdc9142c": {
     "views": []
    },
    "7abb3e03972c4b8880ed8b9407d34af5": {
     "views": []
    },
    "7b488b72e38f472ab61d69557d330c0d": {
     "views": []
    },
    "7bba1dcc49e0489081c360bfa4ecb088": {
     "views": []
    },
    "7c656eb909e24454bd7494c1bdb59797": {
     "views": []
    },
    "7cd2cf1918534a2296d61879954791af": {
     "views": []
    },
    "7d7a858fa8674797ab3ecac08d4ed207": {
     "views": []
    },
    "7d88a5a356da4921a60506f5b4c716c7": {
     "views": []
    },
    "7d92b71d06b743ea9a03525cf6b1a5c2": {
     "views": []
    },
    "7dbdb16d8e0a47328a47e7842cfe7981": {
     "views": []
    },
    "7e74e654ef194771bc54503200714f76": {
     "views": []
    },
    "7ec08a30ceb44232af63545e25367154": {
     "views": []
    },
    "7f415edc21cc45b1ad7829d844aaebfd": {
     "views": []
    },
    "7fd94643cb63485b87324333ccab8239": {
     "views": []
    },
    "801e2258b44f470b978e60930d0cface": {
     "views": []
    },
    "8051b6cb786d4354af22f745880e04d6": {
     "views": []
    },
    "80ed84669a884333bebe34835f00be55": {
     "views": []
    },
    "8108b0cefd6f4be49801419211458f80": {
     "views": []
    },
    "815ee68f13074b01be3f7fcf5dff2286": {
     "views": []
    },
    "826864917e5c4a8bac17c81ae9132337": {
     "views": []
    },
    "8293c890254247aeb65fa30123aac7fe": {
     "views": []
    },
    "841387bcf57e4fa3815a9fae31062ab4": {
     "views": []
    },
    "862435782a9743028155e2fec89d90f6": {
     "views": []
    },
    "8695c2a816654aa89c8ed71cbc6ebf7a": {
     "views": []
    },
    "86f96d968e85486fbf6fa4beca934202": {
     "views": []
    },
    "8736fb503af24da8a8f7ad7fd63216a6": {
     "views": []
    },
    "884e6c3fdb654b759748792645900ff9": {
     "views": []
    },
    "888e56af4f2e4f7bafcbfe868b213014": {
     "views": []
    },
    "888f5480dbe94f97bc18025f71fa884e": {
     "views": []
    },
    "88f776c3811f44f2a77e61437fedccf7": {
     "views": []
    },
    "892493cf297346d4a43b2580e3bdedb0": {
     "views": []
    },
    "892606b94d054dddac22549230280838": {
     "views": []
    },
    "8a6f76d744644ca3bfdf3817713fa7ed": {
     "views": []
    },
    "8ab387b302bb4e56b18fdd9385e808fa": {
     "views": []
    },
    "8b42d269fe96460f89ebfaac3f1801c9": {
     "views": []
    },
    "8bf4fc5ad3694417baf29aff00e12c18": {
     "views": []
    },
    "8c068a865e3d4b1d85bc3c7a5b798674": {
     "views": []
    },
    "8c5991ad41864b5b9ecc61b72a6bf458": {
     "views": []
    },
    "8c90a38827e243238ed7ac9e74a31384": {
     "views": []
    },
    "8e8250a347524509bca9343b0b538200": {
     "views": []
    },
    "8eb49561d1394447b4e42609ef33aa9c": {
     "views": []
    },
    "90d5690a3ecd4ea198aecb14ce0537d9": {
     "views": []
    },
    "910188596295401192ae787c992a08c1": {
     "views": []
    },
    "914975b1b26c445293c7aab46b3ef4d8": {
     "views": []
    },
    "9185dbfac73a4d3cb5597566b88fb1cf": {
     "views": []
    },
    "9252bedf191a4d379cb2869d5499953f": {
     "views": []
    },
    "926f232814dc4e5e849bfa7296320e94": {
     "views": []
    },
    "9385b6c5d4ef4919af6a678a8aad12b3": {
     "views": []
    },
    "938636fe861b43778033b648e6aa2a8b": {
     "views": []
    },
    "93d5c03dc0784a499503538634b3c37e": {
     "views": []
    },
    "9451d210fb334ed2bf0eee55feff9587": {
     "views": []
    },
    "9495730568764ff2966c59c137acec31": {
     "views": []
    },
    "94b04f084c1746538660d9da75fc03e1": {
     "views": []
    },
    "96015e8c24c349db89d31bb15da24e16": {
     "views": []
    },
    "98b6042e3ea1465088160359d8e9bbc3": {
     "views": []
    },
    "994dfc27552b4ff29f4828abf460c7a3": {
     "views": []
    },
    "99c588f9bba34db18b14df3c10fa125b": {
     "views": []
    },
    "99e3d3652ccc4cedb006f1318efa8aea": {
     "views": []
    },
    "9a1158de45b04227a1c492c469a6d59c": {
     "views": []
    },
    "9acd13ce5b1e49edb3362a2564c359d0": {
     "views": []
    },
    "9ce108d51ca84faa83652f6f25cd5b3a": {
     "views": []
    },
    "9d25eaf3348747308747ac25e26ef803": {
     "views": []
    },
    "9f0aceaf73424451bd20c2d13e0aed08": {
     "views": []
    },
    "9f3d6dbef129489183b1a3a58456b0f6": {
     "views": []
    },
    "9f57f1d7aee441aabd98251c74a5afd8": {
     "views": []
    },
    "9fa773b6cb55477292dce3eded6562de": {
     "views": []
    },
    "9fb8fbf9a2b7411fba6b9b4c58f82355": {
     "views": []
    },
    "a151818ee7a44ce3b2ec93fc9e084327": {
     "views": []
    },
    "a2b28b0c17e74d57a4dc0effbf96f1cd": {
     "views": []
    },
    "a2f43f77b79644829cf11d8b2b472290": {
     "views": []
    },
    "a5353b98d590401d8f7d33f902381571": {
     "views": []
    },
    "a56aa42ce468484d92a1142d81863aa1": {
     "views": []
    },
    "a57aef2fa2a646e49b93459f99bb126f": {
     "views": []
    },
    "a5b16d1dd83b4c9f955c7e16fb54c756": {
     "views": []
    },
    "a645bbed5f8b46eca7bf3b36378b3424": {
     "views": []
    },
    "a663624a7db145b1bcc9685f568586e9": {
     "views": []
    },
    "a6de9a3969364edaad6c8f12e1120fdf": {
     "views": []
    },
    "a73d3e8c918d452286a6d96cb00c6305": {
     "views": []
    },
    "a77b8792ebd74d8ea402816de0b2c41d": {
     "views": []
    },
    "a8af3313d01a452c8284f1b0f61f5989": {
     "views": []
    },
    "a91573e5e7d04b0291d5a252aadff059": {
     "views": []
    },
    "aa565230e7a24896b3b4d0fd47a18ece": {
     "views": []
    },
    "aaeb0db6dfbb48f8920ea4e04a44db4b": {
     "views": []
    },
    "ab95a93384864f3fbc64c02357d22240": {
     "views": []
    },
    "adb06a06edca42eab639d8d50008e717": {
     "views": []
    },
    "aef8fe68312647b9af40382891319675": {
     "views": []
    },
    "af64bf0a1c354e30840dc5d1ae42f875": {
     "views": []
    },
    "af7a0780d7194766ba33a58d1bfa14e2": {
     "views": []
    },
    "af8c626c811842bca2f4248a7cb68011": {
     "views": []
    },
    "b0c7a1b7c9734e9980938248388e9690": {
     "views": []
    },
    "b0f2ffbb3eeb4fdebe8e84aacb130398": {
     "views": []
    },
    "b1faa3736c6a43ce808f31070816a819": {
     "views": []
    },
    "b2d6638626784e7686b6efdd68ad4c0c": {
     "views": []
    },
    "b34762790f97498ca2b437cdbb391b17": {
     "views": []
    },
    "b448ffc9a8af490f9cf6797452649827": {
     "views": []
    },
    "b4eb7786e2de47039086673b65d0fd3f": {
     "views": []
    },
    "b577cd116f0a4304bf01bcb1f65a1dc0": {
     "views": []
    },
    "b6e5ab1d29b145cda6600f53a7162464": {
     "views": []
    },
    "b701788b9a1d44b8bbd50623694421f4": {
     "views": []
    },
    "b9da1436c26848eab2a7a76d3955aca5": {
     "views": []
    },
    "babd09ae7b034df99f13905ffdbd4787": {
     "views": []
    },
    "bb3df22d23804bfeb226a18f05b1db93": {
     "views": []
    },
    "bd0551d854dd42afb7e7ffa551d54d56": {
     "views": []
    },
    "bd89c532dee34cc5a1a1884b8c457fe4": {
     "views": []
    },
    "bd9f0d752b594a519d1f5289ccb8044a": {
     "views": []
    },
    "be6fd107dbbf4638a7a615b5781b26a7": {
     "views": []
    },
    "be9234065196434587e6bd7025a4da96": {
     "views": []
    },
    "bf221414524c423a8065c3f1129f4ad0": {
     "views": []
    },
    "bf91c8934ef64033ae32c12213bd1562": {
     "views": []
    },
    "c00b7e7f771f4765ba88313578cb4a4c": {
     "views": []
    },
    "c00d811f4d3d41aea6f36ee06d83db54": {
     "views": []
    },
    "c0153e879b5f4e1c982b2ded36d418e9": {
     "views": []
    },
    "c0817c8f9ce44bf6aab5305606fdac73": {
     "views": []
    },
    "c0fc7afc564a4972a7962203a3c7710d": {
     "views": []
    },
    "c1993db2bbfe41e1853d11ff8886e803": {
     "views": []
    },
    "c1e639b5d02147d69e8939bafdb6abcb": {
     "views": []
    },
    "c326839ce0f741f28c462decbd870997": {
     "views": []
    },
    "c35a754c374f40879075c13bb0328640": {
     "views": []
    },
    "c3a491d32e3c425d947f5cb318547292": {
     "views": []
    },
    "c45f6704c80648ee9a8b7e6a32227b6b": {
     "views": []
    },
    "c47b4c17104a4b28be42090b861eab2d": {
     "views": []
    },
    "c524640c13454272be0fba73a205d08a": {
     "views": []
    },
    "c5992822c271461e8e086b115fd0ac70": {
     "views": []
    },
    "c5a46156d6c341d0b5133d48a9e9bbef": {
     "views": []
    },
    "c64c1d04876849c39f0206e04a532d35": {
     "views": []
    },
    "c69ef3f701794192994bad7fd3a24a1f": {
     "views": []
    },
    "c82fc3639e2942cfabcbfdadbfd59d53": {
     "views": []
    },
    "c94e8d9161a145af820d72c665bed97b": {
     "views": []
    },
    "c9533235602d4b119f559922f0f303a6": {
     "views": []
    },
    "c97c9aaf56c841b8b45fac5b3247602e": {
     "views": []
    },
    "ca5a62b4a5b54dd1be24703afc8d8ffb": {
     "views": []
    },
    "cacda8a3e0c4414ab51612f2a9ed802d": {
     "views": []
    },
    "cbf9b17cfbe040758e491bba4ea6e420": {
     "views": []
    },
    "cc3342d0b09f4e98a4763aeabc1764fb": {
     "views": []
    },
    "ccc2fef2f29847b797d349eed6f2672f": {
     "views": []
    },
    "ccf1aa60cef946ecb7a153b3e6b69d4e": {
     "views": []
    },
    "cd044f64e21b494faf5d066d30994e05": {
     "views": []
    },
    "ce032032a046410e9fa454d064ece452": {
     "views": []
    },
    "ce37e5ab32074b1db1513c3c5cef3c61": {
     "views": []
    },
    "cf45c78946f342a19731e39dd4b99227": {
     "views": []
    },
    "cf659f2a46ed44348677fadba86dd773": {
     "views": []
    },
    "d025810050444dc78c867d5194987750": {
     "views": []
    },
    "d0410e7d46c740b9a5f04d1bc314a7b8": {
     "views": []
    },
    "d17e1c91c6bc4bd2af35d48803b50630": {
     "views": []
    },
    "d22a184ac0a94b8898f01206978913a2": {
     "views": []
    },
    "d2aff26f26a64fa68f4e5dfaa2a33458": {
     "views": []
    },
    "d302fc8e847d46218a854bccaf21115b": {
     "views": []
    },
    "d34e2e9e86184846b699edad45a0f0f2": {
     "views": []
    },
    "d4b7e2d06b4f4a8ca2e3043a1727cb5d": {
     "views": []
    },
    "d4f17239963144f89b56ad493d182c13": {
     "views": []
    },
    "d4fdf037748c4003acec08ef2ada4e7e": {
     "views": []
    },
    "d52c6977067a4ab1818da7ac2d460ce9": {
     "views": []
    },
    "d553fee6d88a4787bf9c77c20592859e": {
     "views": []
    },
    "d627d24f59b049dbbc6d8fe4d3ecb19c": {
     "views": []
    },
    "d6dcedf1a5974af094159ccbb6c8e94c": {
     "views": []
    },
    "d6e3da94cdac4b0d9c9ff8e289a701eb": {
     "views": []
    },
    "d871887565f7423eba3a058f88b0fcf8": {
     "views": []
    },
    "da4ce640b9d1456d889598737f1fc2d6": {
     "views": []
    },
    "dbc8f2b83fc2484183f83869004f5a16": {
     "views": []
    },
    "dbd22febaacb4c79a8c0a003b094fbdf": {
     "views": []
    },
    "dbd66de349554f888789dcf6e00c657a": {
     "views": []
    },
    "dcd40b06f67541e4aae01b9a99ce3bac": {
     "views": []
    },
    "ddf68093e75c4ec9b437ed8861ac64e2": {
     "views": []
    },
    "de966d98d46f48e78da7e236bc172295": {
     "views": []
    },
    "df1abec6a9ba4074bf70ae171b7d41b9": {
     "views": []
    },
    "dfca12f3ad8046bea20f7afbdceb8dbf": {
     "views": []
    },
    "e18d9ad6c6f945519a85e2aa73d439da": {
     "views": []
    },
    "e1f3134c5fdd40008de0807257d938a3": {
     "views": []
    },
    "e2962920f2a94a6299718e2adc82d590": {
     "views": []
    },
    "e3272cb4cf6d4956a68c78e71f3ce21c": {
     "views": []
    },
    "e33abba1463c489783ee5d7226ceb19a": {
     "views": []
    },
    "e355d976073f43dca09f039adad5b9e3": {
     "views": []
    },
    "e3e15430a2514ae78b3316c5774e0c56": {
     "views": []
    },
    "e4a9d45444b54feebb093bef9964fc14": {
     "views": []
    },
    "e5bbf8bf090f4bc5a3d41703ad055f82": {
     "views": []
    },
    "e657565d8a7e4a30af1ebdaaaed4d8e3": {
     "views": []
    },
    "e85e948b9ad54f50aca96b59fa04384a": {
     "views": []
    },
    "e9436b41831143058937c7c10e250ca7": {
     "views": []
    },
    "eae044e9881b47bcba7e544c74885d49": {
     "views": []
    },
    "eb313f4babbb4879bf1dd632f4f5e834": {
     "views": []
    },
    "ebbc8ded8c0e484c9a1dfc4fe46c6002": {
     "views": []
    },
    "ebcdf03a28ae4603bb1f78c311e29a89": {
     "views": []
    },
    "ebe16f2cc64f44b4bfbfaeaaecfe634d": {
     "views": []
    },
    "edddd893fa5c44ff995fd8d951e7cf4f": {
     "views": []
    },
    "ee016ae0e0064142b1718545caf8b6b2": {
     "views": []
    },
    "ee3221246929494d8c0487b007c28804": {
     "views": []
    },
    "eed7252f2f914d8dbb73177ec1c6e92a": {
     "views": []
    },
    "eef80ffbe3cd4ad0b0e9de2d0eb0dbe1": {
     "views": []
    },
    "ef00fdb6dbe94e279e9d1d9ed9fd7b9c": {
     "views": []
    },
    "efae99877b8443f58bd5f0edf65c42bb": {
     "views": []
    },
    "effcc1700a3c481d9ccdabc1c694fbe0": {
     "views": []
    },
    "f2851d5f0e82432faf68b3a6cdee0561": {
     "views": []
    },
    "f33f4a6f6b86400a87e6c94ce9ee7bf8": {
     "views": []
    },
    "f36d041c4f9d40f0bb862e92c3d92915": {
     "views": []
    },
    "f7c4f4cd269442a38462c21a4f3237ca": {
     "views": []
    },
    "f8a07827013e477e8eeae6c68579869e": {
     "views": []
    },
    "f919566cee9b45fcb3c338814967a32d": {
     "views": []
    },
    "f94790c54bf6454785d7ba950d1226e0": {
     "views": []
    },
    "f9801d6943de49c1a55c659d40222d87": {
     "views": []
    },
    "f9c5eff0d4dc41da997166dc7ccb06e5": {
     "views": []
    },
    "fb9f0b89779e4ab58dc888a449f4ef98": {
     "views": []
    },
    "fc17447401e04af4a7a9f3b0503dc21d": {
     "views": []
    },
    "fceffe0d06f44cb1ab49d02747338bc1": {
     "views": []
    },
    "fd33763e821d43cd877ddd60b9d1acee": {
     "views": []
    },
    "fe23ef0ff80349b880e91d3fc48a9f18": {
     "views": []
    },
    "fe790dff511c4ff59a560836cff998c9": {
     "views": []
    },
    "ff0b747dd14b471686c274470e8362ef": {
     "views": []
    },
    "ff28c087cdd04ac4b5b43e6690397cf3": {
     "views": []
    }
   },
   "version": "1.1.2"
  }
 },
 "nbformat": 4,
 "nbformat_minor": 0
}
