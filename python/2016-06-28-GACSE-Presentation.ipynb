{
 "cells": [
  {
   "cell_type": "markdown",
   "metadata": {
    "slideshow": {
     "slide_type": "-"
    }
   },
   "source": [
    "# Motor Estimation Using Heterogeneus Sets of Objects in Conformal Geometric Algebra\n",
    "\n",
    "## Lars Tingelstad, IPK, NTNU\n",
    "\n",
    "### GACSE Workshop @ CGI 2016"
   ]
  },
  {
   "cell_type": "code",
   "execution_count": 1,
   "metadata": {
    "collapsed": true
   },
   "outputs": [],
   "source": [
    "from __future__ import print_function"
   ]
  },
  {
   "cell_type": "code",
   "execution_count": 2,
   "metadata": {
    "collapsed": false
   },
   "outputs": [],
   "source": [
    "import sys\n",
    "sys.path.append('../build/')"
   ]
  },
  {
   "cell_type": "code",
   "execution_count": 3,
   "metadata": {
    "collapsed": false
   },
   "outputs": [
    {
     "name": "stdout",
     "output_type": "stream",
     "text": [
      "Populating the interactive namespace from numpy and matplotlib\n"
     ]
    }
   ],
   "source": [
    "%pylab inline\n",
    "np.set_printoptions(precision=4, suppress=True)\n"
   ]
  },
  {
   "cell_type": "code",
   "execution_count": 4,
   "metadata": {
    "collapsed": false
   },
   "outputs": [],
   "source": [
    "import versor as vsr\n",
    "from versor.drawing import *"
   ]
  },
  {
   "cell_type": "code",
   "execution_count": 5,
   "metadata": {
    "collapsed": false
   },
   "outputs": [],
   "source": [
    "from motor_estimation import MotorEstimationSolver\n",
    "from motor_estimation_valkenburg_dorst import (point_matrix, dual_line_matrix, dual_plane_matrix)"
   ]
  },
  {
   "cell_type": "code",
   "execution_count": 10,
   "metadata": {
    "collapsed": false
   },
   "outputs": [],
   "source": [
    "from game import (MotorEstimationSolver, VDMotorEstimationSolver)"
   ]
  },
  {
   "cell_type": "markdown",
   "metadata": {},
   "source": [
    "## Ground truth motor"
   ]
  },
  {
   "cell_type": "code",
   "execution_count": 7,
   "metadata": {
    "collapsed": false,
    "scrolled": true
   },
   "outputs": [
    {
     "name": "stdout",
     "output_type": "stream",
     "text": [
      "Mot: [ 0.87 0 -0.5 0 -0.68 -0.43 -0.18 -0.25 ]\n"
     ]
    }
   ],
   "source": [
    "motor = vsr.Vec(1,1,1).trs() * vsr.Rot(vsr.Biv(0,1,0) * np.pi/6.0)\n",
    "print(motor)"
   ]
  },
  {
   "cell_type": "markdown",
   "metadata": {},
   "source": [
    "# Figure"
   ]
  },
  {
   "cell_type": "code",
   "execution_count": 27,
   "metadata": {
    "collapsed": false
   },
   "outputs": [],
   "source": [
    "pnt = vsr.Vec(0,1,1).null()\n",
    "pln = vsr.Dlp(vsr.Vec(1,1,1).unit(), 1)\n",
    "vsr.Sph(vsr.Vec(1,0,1).null(), 0.5)\n",
    "p1 = vsr.Vec(1,0,1).null()\n",
    "p2 = vsr.Vec(2,1,1).null()\n",
    "dll = vsr.Dll(p1,p2).unit()\n",
    "p2 = vsr.Vec(0,1,1).null()\n",
    "p3 = vsr.Vec(1,1,1).null()\n",
    "p4 = vsr.Vec(0,0,1.5).null()\n",
    "cir = vsr.Cir(p2, p3, p4)\n",
    "scene = Scene(children=[\n",
    "        frame_mesh(),\n",
    "        point_mesh(pnt,color='palegreen'),\n",
    "        plane_mesh(pln, width=1, height=1, color='palegreen'),\n",
    "        circle_mesh(cir, color='palegreen'),\n",
    "        line_mesh(dll, length=100, color='palegreen'),\n",
    "\n",
    "        point_mesh(pnt.spin(motor),color='lightpink'),\n",
    "        plane_mesh(pln.spin(motor), width=1, height=1, color='lightpink'),\n",
    "        circle_mesh(cir.spin(motor), color='lightpink'),\n",
    "        line_mesh(dll.spin(motor), length=100, color='lightpink'),\n",
    "\n",
    "        AmbientLight(color='#cccccc')])\n",
    "\n",
    "camera = PerspectiveCamera(position=[3, -3, 3])\n",
    "renderer = Renderer(camera=camera, \n",
    "                    scene=scene, \n",
    "                    controls=[TrackballControls(controlling=camera)],\n",
    "                    background = 'white')\n",
    "renderer.width = '1024'\n",
    "renderer.height = '768'\n",
    "display(renderer)"
   ]
  },
  {
   "cell_type": "code",
   "execution_count": 14,
   "metadata": {
    "collapsed": true
   },
   "outputs": [],
   "source": []
  },
  {
   "cell_type": "markdown",
   "metadata": {},
   "source": [
    "## Motor Estimation from Points"
   ]
  },
  {
   "cell_type": "markdown",
   "metadata": {},
   "source": [
    "$$\\min_{M \\in \\mathcal M} {1 \\over 2} \\sum_{i=1}^N \\| \\mathrm{P}_{\\mathbb R_3^1}(M a_i \\widetilde M) - \\mathrm{P}_{\\mathbb R_3^1}(b_i )  \\|^2$$"
   ]
  },
  {
   "cell_type": "markdown",
   "metadata": {},
   "source": [
    "### Dataset generation"
   ]
  },
  {
   "cell_type": "code",
   "execution_count": 28,
   "metadata": {
    "collapsed": false
   },
   "outputs": [],
   "source": [
    "n_points = 10\n",
    "sigma = 0.09\n",
    "points_a = [vsr.Vec(*np.random.normal(0.0, 0.3, 3)).null() \n",
    "            for i in range(n_points)]\n",
    "points_b = [point.spin(motor) for point in points_a]\n",
    "points_b_noisy = [vsr.Vec(*(np.array(point)[:3] \n",
    "                            + sigma * np.random.randn(3))).null() \n",
    "                  for point in points_b]"
   ]
  },
  {
   "cell_type": "code",
   "execution_count": 30,
   "metadata": {
    "collapsed": false
   },
   "outputs": [],
   "source": [
    "points_a_mesh = [point_mesh(p,color='hotpink') for p in points_a]\n",
    "points_b_mesh = [point_mesh(p,color='lightskyblue') for p in points_b]\n",
    "\n",
    "\n",
    "scene = Scene(children=\n",
    "              [point_mesh(p,color='hotpink') for p in points_a] +\\\n",
    "              [point_mesh(p,color='lightskyblue') for p in points_b] +\\\n",
    "              [frame_mesh(),AmbientLight(color='#cccccc')])\n",
    "\n",
    "camera = PerspectiveCamera(position=[3, -3, 3])\n",
    "renderer = Renderer(camera=camera, \n",
    "                    scene=scene, \n",
    "                    controls=[TrackballControls(controlling=camera)],\n",
    "                    background = 'white')\n",
    "\n",
    "renderer.width = '1024'\n",
    "renderer.height = '768'\n",
    "display(renderer)"
   ]
  },
  {
   "cell_type": "markdown",
   "metadata": {},
   "source": [
    "### Estimate motor using local parameterization"
   ]
  },
  {
   "cell_type": "code",
   "execution_count": 13,
   "metadata": {
    "collapsed": false
   },
   "outputs": [
    {
     "name": "stdout",
     "output_type": "stream",
     "text": [
      "\n",
      "Solver Summary (v 1.11.0-eigen-(3.2.92)-lapack-suitesparse-(4.4.6)-openmp)\n",
      "\n",
      "                                     Original                  Reduced\n",
      "Parameter blocks                            1                        1\n",
      "Parameters                                  8                        8\n",
      "Effective parameters                        6                        6\n",
      "Residual blocks                            10                       10\n",
      "Residual                                   30                       30\n",
      "\n",
      "Minimizer                        TRUST_REGION\n",
      "\n",
      "Dense linear algebra library            EIGEN\n",
      "Trust region strategy     LEVENBERG_MARQUARDT\n",
      "\n",
      "                                        Given                     Used\n",
      "Linear solver                        DENSE_QR                 DENSE_QR\n",
      "Threads                                     1                        1\n",
      "Linear solver threads                       1                        1\n",
      "\n",
      "Cost:\n",
      "Initial                          6.604903e+01\n",
      "Final                            5.964068e-02\n",
      "Change                           6.598939e+01\n",
      "\n",
      "Minimizer iterations                        6\n",
      "Successful steps                            6\n",
      "Unsuccessful steps                          0\n",
      "\n",
      "Time (in seconds):\n",
      "Preprocessor                           0.0001\n",
      "\n",
      "  Residual evaluation                  0.0002\n",
      "  Jacobian evaluation                  0.0010\n",
      "  Linear solver                        0.0002\n",
      "Minimizer                              0.0020\n",
      "\n",
      "Postprocessor                          0.0000\n",
      "Total                                  0.0021\n",
      "\n",
      "Termination:                      CONVERGENCE (Function tolerance reached. |cost_change|/cost: 1.701588e-08 <= 1.000000e-06)\n",
      "\n"
     ]
    }
   ],
   "source": [
    "# initial_motor = vsr.Mot(1.0, 0.0, 0.0, 0.0, 0.0, 0.0, 0.0, 0.0)\n",
    "initial_motor = vsr.Vec(2,3,4).trs() * vsr.Rot(vsr.Biv(0,-1,0) * np.pi/6)\n",
    "mes = MotorEstimationSolver(initial_motor)\n",
    "for a, b in zip(points_a, points_b_noisy):\n",
    "    mes.add_point_correspondences_residual_block(a,b)\n",
    "mes.set_parameterization('BIVECTOR_GENERATOR')\n",
    "mes.linear_solver_type = 'DENSE_QR'\n",
    "(estimated_motor, summary_point_1, motors) = mes.solve()\n",
    "print(summary_point_1['full_report'])"
   ]
  },
  {
   "cell_type": "code",
   "execution_count": 15,
   "metadata": {
    "collapsed": false
   },
   "outputs": [
    {
     "data": {
      "text/plain": [
       "[<matplotlib.lines.Line2D at 0x7fc2bdfd51d0>]"
      ]
     },
     "execution_count": 15,
     "metadata": {},
     "output_type": "execute_result"
    },
    {
     "data": {
      "image/png": "[encoded data removed]",
      "text/plain": [
       "<matplotlib.figure.Figure at 0x7fc2be0acd90>"
      ]
     },
     "metadata": {},
     "output_type": "display_data"
    }
   ],
   "source": [
    "plt.plot([it['cost'] for it in summary_point_1['iterations'] ])"
   ]
  },
  {
   "cell_type": "markdown",
   "metadata": {},
   "source": [
    "#### Check solution"
   ]
  },
  {
   "cell_type": "code",
   "execution_count": 16,
   "metadata": {
    "collapsed": false
   },
   "outputs": [
    {
     "name": "stdout",
     "output_type": "stream",
     "text": [
      "[ 0.866  0.    -0.5    0.    -0.683 -0.433 -0.183 -0.25 ]\n",
      "[ 0.8597  0.0557 -0.5057  0.0452 -0.6521 -0.4259 -0.2322 -0.2999]\n",
      "False\n"
     ]
    }
   ],
   "source": [
    "print(np.array(motor))\n",
    "print(np.array(estimated_motor))\n",
    "print(np.allclose(np.array(motor), np.array(estimated_motor)))"
   ]
  },
  {
   "cell_type": "markdown",
   "metadata": {},
   "source": [
    "### Estimate motor using Valkenburg-Dorst solver"
   ]
  },
  {
   "cell_type": "code",
   "execution_count": 17,
   "metadata": {
    "collapsed": false
   },
   "outputs": [],
   "source": [
    "vd = VDMotorEstimationSolver()\n",
    "vd.add_point_observations(points_a, points_b)\n",
    "vd_estimated_motor = vd.solve()"
   ]
  },
  {
   "cell_type": "markdown",
   "metadata": {},
   "source": [
    "#### Check solution"
   ]
  },
  {
   "cell_type": "code",
   "execution_count": 18,
   "metadata": {
    "collapsed": false
   },
   "outputs": [
    {
     "name": "stdout",
     "output_type": "stream",
     "text": [
      "[ 0.866  0.    -0.5    0.    -0.683 -0.433 -0.183 -0.25 ]\n",
      "[ 0.866  0.    -0.5   -0.    -0.683 -0.433 -0.183 -0.25 ]\n",
      "True\n"
     ]
    }
   ],
   "source": [
    "print(np.array(motor))\n",
    "print(np.array(vd_estimated_motor))\n",
    "print(np.allclose(np.array(motor), np.array(vd_estimated_motor)))"
   ]
  },
  {
   "cell_type": "markdown",
   "metadata": {},
   "source": [
    "### Visualize Solution"
   ]
  },
  {
   "cell_type": "code",
   "execution_count": 19,
   "metadata": {
    "collapsed": true
   },
   "outputs": [],
   "source": [
    "scene = Scene(children=\n",
    "              [point_mesh(p,color='palegreen') for p in [p.spin(estimated_motor) for p in points_a]] +\\\n",
    "              [point_mesh(p,color='hotpink') for p in points_a] +\\\n",
    "              [point_mesh(p,color='hotpink') for p in points_b] +\\\n",
    "              [frame_mesh(),AmbientLight(color='#cccccc')])\n",
    "\n",
    "camera = PerspectiveCamera(position=[3, -3, 3])\n",
    "renderer = Renderer(camera=camera, \n",
    "                    scene=scene, \n",
    "                    controls=[TrackballControls(controlling=camera)],\n",
    "                    background = 'white')\n",
    "# renderer.width = '1600'\n",
    "# renderer.height = '900'\n",
    "display(renderer)"
   ]
  },
  {
   "cell_type": "markdown",
   "metadata": {},
   "source": [
    "## Motor Estimation from Lines"
   ]
  },
  {
   "cell_type": "markdown",
   "metadata": {},
   "source": [
    "### Dataset generation"
   ]
  },
  {
   "cell_type": "code",
   "execution_count": 42,
   "metadata": {
    "collapsed": false
   },
   "outputs": [],
   "source": [
    "lines_a = [vsr.Dll(vsr.Vec(*np.random.normal(0.0,0.8,3)),\n",
    "                   vsr.Vec(*np.random.normal(0.0,0.8,3)))\n",
    "          for i in range(10)]\n",
    "lines_b = [line.spin(motor) for line in lines_a]\n",
    "noise_motor = vsr.Vec(0.05,0.05,0.05).trs() * vsr.Rot(vsr.Biv(1,0,0) * np.pi/50.)\n",
    "lines_b_noisy = [line.spin(motor * noise_motor) for line in lines_a]"
   ]
  },
  {
   "cell_type": "code",
   "execution_count": 47,
   "metadata": {
    "collapsed": false
   },
   "outputs": [],
   "source": [
    "scene = Scene(children=\n",
    "              [line_mesh(l.unit(),length=10, color='hotpink') for l in lines_a[:3]] +\\\n",
    "              [line_mesh(l.unit(), length=10, color='lightskyblue') for l in lines_b[:3]] +\\\n",
    "              [frame_mesh(),\n",
    "               AmbientLight(color='#cccccc')])\n",
    "\n",
    "camera = PerspectiveCamera(position=[3, -3, 3])\n",
    "renderer = Renderer(camera=camera, \n",
    "                    scene=scene, \n",
    "                    controls=[TrackballControls(controlling=camera)],\n",
    "                    background = 'white')\n",
    "\n",
    "renderer.width = '1024'\n",
    "renderer.height = '768'\n",
    "display(renderer)"
   ]
  },
  {
   "cell_type": "markdown",
   "metadata": {
    "collapsed": false
   },
   "source": [
    "### Estimate motor using 6 residuals"
   ]
  },
  {
   "cell_type": "markdown",
   "metadata": {},
   "source": [
    "$$ \\min_{M \\in \\mathcal M} \\frac{1}{2} \\sum_{i=1}^n \\| M \\varLambda_{b_i} \\tilde{M} - \\varLambda_{a_i} \\|^2 $$"
   ]
  },
  {
   "cell_type": "code",
   "execution_count": 27,
   "metadata": {
    "collapsed": false
   },
   "outputs": [
    {
     "name": "stdout",
     "output_type": "stream",
     "text": [
      "Ceres Solver Report: Iterations: 4, Initial cost: 2.952932e+01, Final cost: 8.783125e-14, Termination: CONVERGENCE\n"
     ]
    }
   ],
   "source": [
    "initial_motor = vsr.Mot(1.0, 0.0, 0.0, 0.0, 0.0, 0.0, 0.0, 0.0)\n",
    "mes = MotorEstimationSolver(initial_motor)\n",
    "for a, b in zip(lines_a, lines_b_noisy):\n",
    "    mes.add_line_correspondences_residual_block(a,b)\n",
    "mes.set_parameterization('BIVECTOR_GENERATOR')\n",
    "mes.linear_solver_type = \"DENSE_QR\"\n",
    "mes.parameter_tolerance = 1e-6\n",
    "estimated_motor, lin_summary_1, motors = mes.solve()\n",
    "print(lin_summary_1['brief_report'])"
   ]
  },
  {
   "cell_type": "markdown",
   "metadata": {
    "collapsed": false
   },
   "source": [
    "#### Check solution"
   ]
  },
  {
   "cell_type": "code",
   "execution_count": 24,
   "metadata": {
    "collapsed": false
   },
   "outputs": [
    {
     "name": "stdout",
     "output_type": "stream",
     "text": [
      "[ 0.866  0.    -0.5    0.    -0.683 -0.433 -0.183 -0.25 ]\n",
      "[ 0.8643 -0.0544 -0.499   0.0314 -0.7193 -0.4103 -0.2332 -0.2483]\n",
      "False\n"
     ]
    }
   ],
   "source": [
    "print(np.array(motor))\n",
    "print(np.array(estimated_motor))\n",
    "print(np.allclose(np.array(motor), np.array(estimated_motor)))"
   ]
  },
  {
   "cell_type": "markdown",
   "metadata": {},
   "source": [
    "### Valkenburg and Dorst Solver"
   ]
  },
  {
   "cell_type": "code",
   "execution_count": 25,
   "metadata": {
    "collapsed": false
   },
   "outputs": [
    {
     "name": "stdout",
     "output_type": "stream",
     "text": [
      "Mot: [ 0.87 8.9e-18 -0.5 2e-17 0 0 0 0 ]\n"
     ]
    }
   ],
   "source": [
    "vd = VDMotorEstimationSolver()\n",
    "vd.add_dual_line_observations(lines_a, lines_b)\n",
    "vd_estimated_motor = vd.solve()\n",
    "print(vd_estimated_motor)"
   ]
  },
  {
   "cell_type": "code",
   "execution_count": 26,
   "metadata": {
    "collapsed": false
   },
   "outputs": [],
   "source": [
    "scene = Scene(children=\n",
    "              [line_mesh(l,length=1, color='hotpink') for l in [l.spin(estimated_motor) for l in lines_a]] +\\\n",
    "              [line_mesh(l,length=1, color='lightgreen') for l in [l.spin(vd_estimated_motor) for l in lines_a]] +\\\n",
    "              [line_mesh(l, length=1, color='lightskyblue') for l in lines_b] +\\\n",
    "              [frame_mesh(),\n",
    "               AmbientLight(color='#cccccc')])\n",
    "\n",
    "camera = PerspectiveCamera(position=[3, -3, 3])\n",
    "renderer = Renderer(camera=camera, \n",
    "                    scene=scene, \n",
    "                    controls=[TrackballControls(controlling=camera)],\n",
    "                    background = 'white')\n",
    "renderer.width = '800'\n",
    "renderer.height = '450'\n",
    "display(renderer)"
   ]
  },
  {
   "cell_type": "code",
   "execution_count": null,
   "metadata": {
    "collapsed": true
   },
   "outputs": [],
   "source": []
  },
  {
   "cell_type": "markdown",
   "metadata": {},
   "source": [
    "### Estimate motor using 4 residuals"
   ]
  },
  {
   "cell_type": "code",
   "execution_count": 19,
   "metadata": {
    "collapsed": false
   },
   "outputs": [
    {
     "name": "stdout",
     "output_type": "stream",
     "text": [
      "\n",
      "Solver Summary (v 1.11.0-eigen-(3.2.92)-lapack-suitesparse-(4.4.6)-openmp)\n",
      "\n",
      "                                     Original                  Reduced\n",
      "Parameter blocks                            1                        1\n",
      "Parameters                                  8                        8\n",
      "Effective parameters                        6                        6\n",
      "Residual blocks                            10                       10\n",
      "Residual                                   40                       40\n",
      "\n",
      "Minimizer                        TRUST_REGION\n",
      "\n",
      "Dense linear algebra library            EIGEN\n",
      "Trust region strategy     LEVENBERG_MARQUARDT\n",
      "\n",
      "                                        Given                     Used\n",
      "Linear solver                        DENSE_QR                 DENSE_QR\n",
      "Threads                                     1                        1\n",
      "Linear solver threads                       1                        1\n",
      "\n",
      "Cost:\n",
      "Initial                          4.739404e+00\n",
      "Final                            1.298020e+00\n",
      "Change                           3.441385e+00\n",
      "\n",
      "Minimizer iterations                       50\n",
      "Successful steps                           36\n",
      "Unsuccessful steps                         14\n",
      "\n",
      "Time (in seconds):\n",
      "Preprocessor                           0.0000\n",
      "\n",
      "  Residual evaluation                  0.0009\n",
      "  Jacobian evaluation                  0.0050\n",
      "  Linear solver                        0.0005\n",
      "Minimizer                              0.0084\n",
      "\n",
      "Postprocessor                          0.0000\n",
      "Total                                  0.0084\n",
      "\n",
      "Termination:                   NO_CONVERGENCE (Maximum number of iterations reached.)\n",
      "\n"
     ]
    }
   ],
   "source": [
    "initial_motor = vsr.Mot(1.0, 0.0, 0.0, 0.0, 0.0, 0.0, 0.0, 0.0)\n",
    "mes = MotorEstimationSolver(initial_motor)\n",
    "for a, b in zip(lines_a, lines_b):\n",
    "    mes.add_line_angle_distance_residual_block(a,b)\n",
    "mes.set_parameterization('BIVECTOR_GENERATOR')\n",
    "mes.linear_solver_type = \"DENSE_QR\"\n",
    "estimated_motor, lin_summary_2, motors = mes.solve()\n",
    "print(lin_summary_2['full_report'])"
   ]
  },
  {
   "cell_type": "markdown",
   "metadata": {},
   "source": [
    "#### Check solution"
   ]
  },
  {
   "cell_type": "code",
   "execution_count": 20,
   "metadata": {
    "collapsed": false
   },
   "outputs": [
    {
     "name": "stdout",
     "output_type": "stream",
     "text": [
      "[ 0.866  0.    -0.5    0.    -0.683 -0.433 -0.183 -0.25 ]\n",
      "[ 0.8746  0.001  -0.4848  0.0044 -0.6822 -0.4338 -0.2186 -0.2441]\n",
      "False\n",
      "False\n"
     ]
    }
   ],
   "source": [
    "print(np.array(motor))\n",
    "print(np.array(estimated_motor))\n",
    "print(np.allclose(np.array(motor), np.array(estimated_motor)))\n",
    "print(np.allclose(np.array(motor), np.array(estimated_motor), \n",
    "                  rtol=1e-05, atol=1e-03))"
   ]
  },
  {
   "cell_type": "markdown",
   "metadata": {
    "collapsed": false
   },
   "source": [
    "### Estimate motor using 2 residuals"
   ]
  },
  {
   "cell_type": "code",
   "execution_count": 61,
   "metadata": {
    "collapsed": false
   },
   "outputs": [
    {
     "name": "stdout",
     "output_type": "stream",
     "text": [
      "\n",
      "Solver Summary (v 1.12.0-eigen-(3.2.92)-lapack-suitesparse-(4.4.6)-openmp)\n",
      "\n",
      "                                     Original                  Reduced\n",
      "Parameter blocks                            1                        1\n",
      "Parameters                                  8                        8\n",
      "Effective parameters                        6                        6\n",
      "Residual blocks                            10                       10\n",
      "Residual                                   20                       20\n",
      "\n",
      "Minimizer                        TRUST_REGION\n",
      "\n",
      "Dense linear algebra library            EIGEN\n",
      "Trust region strategy     LEVENBERG_MARQUARDT\n",
      "\n",
      "                                        Given                     Used\n",
      "Linear solver                        DENSE_QR                 DENSE_QR\n",
      "Threads                                     1                        1\n",
      "Linear solver threads                       1                        1\n",
      "\n",
      "Cost:\n",
      "Initial                          1.493945e+01\n",
      "Final                            1.250001e+00\n",
      "Change                           1.368945e+01\n",
      "\n",
      "Minimizer iterations                       17\n",
      "Successful steps                           14\n",
      "Unsuccessful steps                          3\n",
      "\n",
      "Time (in seconds):\n",
      "Preprocessor                           0.0000\n",
      "\n",
      "  Residual evaluation                  0.0002\n",
      "  Jacobian evaluation                  0.0019\n",
      "  Linear solver                        0.0001\n",
      "Minimizer                              0.0026\n",
      "\n",
      "Postprocessor                          0.0000\n",
      "Total                                  0.0026\n",
      "\n",
      "Termination:                      CONVERGENCE (Function tolerance reached. |cost_change|/cost: 5.541330e-07 <= 1.000000e-06)\n",
      "\n"
     ]
    }
   ],
   "source": [
    "initial_motor = vsr.Mot(1.0, 0.0, 0.0, 0.0, 0.0, 0.0, 0.0, 0.0)\n",
    "mes = MotorEstimationSolver(initial_motor)\n",
    "for a, b in zip(lines_a, lines_b):\n",
    "    mes.add_line_angle_distance_norm_residual_block(a,b)\n",
    "mes.set_parameterization('BIVECTOR_GENERATOR')\n",
    "mes.linear_solver_type = \"DENSE_QR\"\n",
    "estimated_motor, lin_summary_3 = mes.solve()\n",
    "print(lin_summary_3['full_report'])"
   ]
  },
  {
   "cell_type": "markdown",
   "metadata": {},
   "source": [
    "#### Check solution"
   ]
  },
  {
   "cell_type": "code",
   "execution_count": 62,
   "metadata": {
    "collapsed": false
   },
   "outputs": [
    {
     "name": "stdout",
     "output_type": "stream",
     "text": [
      "[ 0.866  0.    -0.5    0.    -0.683 -0.433 -0.183 -0.25 ]\n",
      "[ 0.8659 -0.0003 -0.5002 -0.0002 -0.6829 -0.4329 -0.183  -0.2499]\n",
      "False\n",
      "True\n"
     ]
    }
   ],
   "source": [
    "print(np.array(motor))\n",
    "print(np.array(estimated_motor))\n",
    "print(np.allclose(np.array(motor), np.array(estimated_motor)))\n",
    "print(np.allclose(np.array(motor), np.array(estimated_motor), \n",
    "                  rtol=1e-05, atol=1e-03))"
   ]
  },
  {
   "cell_type": "markdown",
   "metadata": {},
   "source": [
    "### Estimate motor using Valkenburg-Dorst solver"
   ]
  },
  {
   "cell_type": "code",
   "execution_count": 63,
   "metadata": {
    "collapsed": false
   },
   "outputs": [
    {
     "name": "stdout",
     "output_type": "stream",
     "text": [
      "Mot: [ -0.87 -3e-17 0.5 4.3e-18 0 0 0 0 ]\n"
     ]
    }
   ],
   "source": [
    "vd = VDMotorEstimationSolver()\n",
    "vd.add_dual_line_observations(lines_a, lines_b)\n",
    "vd_estimated_motor = vd.solve()\n",
    "print(vd_estimated_motor)"
   ]
  },
  {
   "cell_type": "markdown",
   "metadata": {},
   "source": [
    "#### Check solution"
   ]
  },
  {
   "cell_type": "code",
   "execution_count": 64,
   "metadata": {
    "collapsed": false
   },
   "outputs": [
    {
     "name": "stdout",
     "output_type": "stream",
     "text": [
      "[ 0.866  0.    -0.5    0.    -0.683 -0.433 -0.183 -0.25 ]\n",
      "[-0.866 -0.     0.5    0.     0.     0.     0.     0.   ]\n",
      "False\n"
     ]
    }
   ],
   "source": [
    "print(np.array(motor))\n",
    "print(np.array(vd_estimated_motor))\n",
    "print(np.allclose(motor, vd_estimated_motor))"
   ]
  },
  {
   "cell_type": "markdown",
   "metadata": {},
   "source": [
    "### Plots"
   ]
  },
  {
   "cell_type": "code",
   "execution_count": 65,
   "metadata": {
    "collapsed": false
   },
   "outputs": [
    {
     "data": {
      "text/plain": [
       "<matplotlib.text.Text at 0x7fd8a8c0b990>"
      ]
     },
     "execution_count": 65,
     "metadata": {},
     "output_type": "execute_result"
    },
    {
     "data": {
      "image/png": "[encoded data removed]",
      "text/plain": [
       "<matplotlib.figure.Figure at 0x7fd8a8c3e3d0>"
      ]
     },
     "metadata": {},
     "output_type": "display_data"
    }
   ],
   "source": [
    "fig, ax = plt.subplots(2, sharex=True)\n",
    "\n",
    "ax[0].set_aspect('equal')\n",
    "plt.set_cmap('gray')\n",
    "\n",
    "almost_black = '#262626'\n",
    "spines_to_remove = ['top', 'right']\n",
    "for spine in spines_to_remove:\n",
    "    ax[0].spines[spine].set_visible(False)\n",
    "    ax[1].spines[spine].set_visible(False)\n",
    "    \n",
    "ax[0].xaxis.set_ticks_position('none')\n",
    "ax[0].yaxis.set_ticks_position('none')\n",
    "ax[1].xaxis.set_ticks_position('none')\n",
    "ax[1].yaxis.set_ticks_position('none')\n",
    "\n",
    "spines_to_keep = ['bottom', 'left']\n",
    "for spine in spines_to_keep:\n",
    "    ax[0].spines[spine].set_linewidth(0.5)\n",
    "    ax[0].spines[spine].set_color(almost_black)\n",
    "    ax[1].spines[spine].set_linewidth(0.5)\n",
    "    ax[1].spines[spine].set_color(almost_black)\n",
    "ax[0].xaxis.label.set_color(almost_black)\n",
    "ax[0].yaxis.label.set_color(almost_black)\n",
    "ax[1].xaxis.label.set_color(almost_black)\n",
    "ax[1].yaxis.label.set_color(almost_black)\n",
    "\n",
    "# ax.plot([it['cost'] for it in lin_summary_4['iterations'] ], label=r\"commutator\")\n",
    "# ax[0].plot([it['cost'] for it in lin_summary_3['iterations'] ], label=r\"$2$-residuals\", c='red')\n",
    "ax[0].plot([it['cost'] for it in lin_summary_2['iterations'] ], label=r\"$4$-residuals\")\n",
    "ax[1].plot([it['cost'] for it in lin_summary_1['iterations'] ], label=r\"$6$-residuals\")\n",
    "\n",
    "ax[0].set_yscale('log')\n",
    "ax[1].set_yscale('log')\n",
    "\n",
    "ax[0].grid(which=\"both\")\n",
    "ax[1].grid(which=\"both\")\n",
    "\n",
    "# ax[0].set_xscale('log')\n",
    "\n",
    "# plt.yscale('log')\n",
    "\n",
    "# ax[0].title.set_color(almost_black)\n",
    "# ax[0].axhline(0, color=almost_black, linewidth=0.15)\n",
    "# ax[0].axvline(0, color=almost_black, linewidth=0.15)\n",
    "# ax[1].title.set_color(almost_black)\n",
    "# ax[1].axhline(0, color=almost_black, linewidth=0.15)\n",
    "# ax[1].axvline(0, color=almost_black, linewidth=0.15)\n",
    "\n",
    "# Remove the line around the legend box, and instead fill it with a light grey\n",
    "# Also only use one point for the scatterplot legend because the user will \n",
    "# get the idea after just one, they don't need three.\n",
    "light_grey = np.array([float(248)/float(255)]*3)\n",
    "legend = ax[0].legend(frameon=True, scatterpoints=1)\n",
    "rect = legend.get_frame()\n",
    "rect.set_facecolor(light_grey)\n",
    "rect.set_linewidth(0.0)\n",
    "legend = ax[1].legend(frameon=True, scatterpoints=1)\n",
    "rect = legend.get_frame()\n",
    "rect.set_facecolor(light_grey)\n",
    "rect.set_linewidth(0.0)\n",
    "\n",
    "fig.text(0.06, 0.5, 'Cost', ha='center', va='center', rotation='vertical')\n",
    "\n",
    "# plt.tight_layout()\n",
    "plt.xlabel(r'Iteration $k$')\n",
    "# fig.ylabel(r'Cost')\n",
    "# ax[1].ylabel(r'Cost')\n",
    "\n",
    "# plt.savefig('/home/lars/Dropbox/Apps/ShareLaTeX/2016-gacse/figures/cost_lines2.pdf')"
   ]
  },
  {
   "cell_type": "markdown",
   "metadata": {},
   "source": [
    "## Motor Estimation from planes"
   ]
  },
  {
   "cell_type": "markdown",
   "metadata": {},
   "source": [
    "### Dataset generation"
   ]
  },
  {
   "cell_type": "code",
   "execution_count": 39,
   "metadata": {
    "collapsed": false
   },
   "outputs": [],
   "source": [
    "n_planes = 10\n",
    "planes_a = []\n",
    "for i in range(10):\n",
    "    dir_vec = np.random.normal(0.0, 0.8, 4)\n",
    "    dir_vec = dir_vec / np.linalg.norm(dir_vec)\n",
    "    distance = np.random.normal(0.0, 0.8,1)\n",
    "    arr = dir_vec + distance\n",
    "    planes_a.append(vsr.Dlp(dir_vec[0],dir_vec[1],dir_vec[2],distance[0]))\n",
    "planes_b = [plane.spin(motor) for plane in planes_a]"
   ]
  },
  {
   "cell_type": "code",
   "execution_count": 40,
   "metadata": {
    "collapsed": false
   },
   "outputs": [],
   "source": [
    "scene = Scene(children=\n",
    "              [plane_mesh(p,width=1, height=1,color='hotpink') for p in planes_a[:3]] +\\\n",
    "              [plane_mesh(p,width=1, height=1,color='lightskyblue') for p in planes_b[:3]] +\\\n",
    "              [frame_mesh(),AmbientLight(color='#cccccc')])\n",
    "\n",
    "camera = PerspectiveCamera(position=[3, -3, 3])\n",
    "renderer = Renderer(camera=camera, \n",
    "                    scene=scene, \n",
    "                    controls=[TrackballControls(controlling=camera)],\n",
    "                    background = 'white')\n",
    "\n",
    "renderer.width = '1024'\n",
    "renderer.height = '768'\n",
    "display(renderer)"
   ]
  },
  {
   "cell_type": "markdown",
   "metadata": {},
   "source": [
    "### Estimate motor using 2 residuals"
   ]
  },
  {
   "cell_type": "code",
   "execution_count": 67,
   "metadata": {
    "collapsed": false
   },
   "outputs": [
    {
     "name": "stdout",
     "output_type": "stream",
     "text": [
      "Ceres Solver Report: Iterations: 17, Initial cost: 2.753812e+01, Final cost: 1.250000e+00, Termination: CONVERGENCE\n"
     ]
    }
   ],
   "source": [
    "motor = vsr.Vec(1,1,1).trs() * vsr.Rot(vsr.Biv(0,1,0) * np.pi/6.0)\n",
    "noise_motor_plane = vsr.Vec(0.1,0.1,0.1).trs() * vsr.Rot(vsr.Biv(1,0,0) * np.pi/24)\n",
    "initial_motor = vsr.Mot(1.0, 0.0, 0.0, 0.0, 0.0, 0.0, 0.0, 0.0)\n",
    "mes = MotorEstimationSolver(initial_motor)\n",
    "for a, b in zip(planes_a, planes_b):\n",
    "#     mes.add_dual_plane_angle_error_residual_block(a,b.spin(noise_motor_plane))\n",
    "    mes.add_dual_plane_angle_error_residual_block(a,b)\n",
    "\n",
    "mes.set_parameterization('BIVECTOR_GENERATOR')\n",
    "mes.linear_solver_type = \"DENSE_QR\"\n",
    "mes.function_tolerance = 1e-8\n",
    "mes.max_num_iterations = 100\n",
    "estimated_motor, pln_summary_1 = mes.solve()\n",
    "print(pln_summary_1['brief_report'])"
   ]
  },
  {
   "cell_type": "code",
   "execution_count": 68,
   "metadata": {
    "collapsed": false
   },
   "outputs": [
    {
     "name": "stdout",
     "output_type": "stream",
     "text": [
      "[ 0.866  0.    -0.5    0.    -0.683 -0.433 -0.183 -0.25 ]\n",
      "[ 0.866  0.    -0.5   -0.    -0.683 -0.433 -0.183 -0.25 ]\n",
      "False\n",
      "True\n"
     ]
    }
   ],
   "source": [
    "print(np.array(motor))\n",
    "print(np.array(estimated_motor))\n",
    "print(np.allclose(np.array(motor), np.array(estimated_motor)))\n",
    "print(np.allclose(np.array(motor), np.array(estimated_motor), \n",
    "                  rtol=1e-05, atol=1e-05))"
   ]
  },
  {
   "cell_type": "code",
   "execution_count": 69,
   "metadata": {
    "collapsed": false
   },
   "outputs": [
    {
     "data": {
      "text/plain": [
       "<matplotlib.text.Text at 0x7fd8a8e1bdd0>"
      ]
     },
     "execution_count": 69,
     "metadata": {},
     "output_type": "execute_result"
    },
    {
     "data": {
      "image/png": "[encoded data removed]",
      "text/plain": [
       "<matplotlib.figure.Figure at 0x7fd8a8aabc90>"
      ]
     },
     "metadata": {},
     "output_type": "display_data"
    }
   ],
   "source": [
    "fig, ax = plt.subplots(1)\n",
    "\n",
    "# ax.set_aspect('equal')\n",
    "plt.set_cmap('gray')\n",
    "\n",
    "almost_black = '#262626'\n",
    "spines_to_remove = ['top', 'right']\n",
    "for spine in spines_to_remove:\n",
    "    ax.spines[spine].set_visible(False)\n",
    "ax.xaxis.set_ticks_position('none')\n",
    "ax.yaxis.set_ticks_position('none')\n",
    "\n",
    "spines_to_keep = ['bottom', 'left']\n",
    "for spine in spines_to_keep:\n",
    "    ax.spines[spine].set_linewidth(0.5)\n",
    "    ax.spines[spine].set_color(almost_black)\n",
    "ax.xaxis.label.set_color(almost_black)\n",
    "ax.yaxis.label.set_color(almost_black)\n",
    "\n",
    "ax.plot([it['cost'] for it in pln_summary_1['iterations'] ])\n",
    "\n",
    "ax.title.set_color(almost_black)\n",
    "ax.axhline(0, color=almost_black, linewidth=0.15)\n",
    "ax.axvline(0, color=almost_black, linewidth=0.15)\n",
    "\n",
    "# Remove the line around the legend box, and instead fill it with a light grey\n",
    "# Also only use one point for the scatterplot legend because the user will \n",
    "# get the idea after just one, they don't need three.\n",
    "\n",
    "# light_grey = np.array([float(248)/float(255)]*3)\n",
    "# legend = ax.legend(frameon=True, scatterpoints=1)\n",
    "# rect = legend.get_frame()\n",
    "# rect.set_facecolor(light_grey)\n",
    "# rect.set_linewidth(0.0)\n",
    "\n",
    "plt.xlabel(r'Iteration $k$')\n",
    "plt.ylabel(r'Cost')\n",
    "\n",
    "\n",
    "# plt.savefig('/Users/lars/Dropbox/Apps/ShareLaTeX/2016-gacse/figures/cost_planes.pdf')"
   ]
  },
  {
   "cell_type": "markdown",
   "metadata": {},
   "source": [
    "### Estimate motor using Valkenburg-Dorst solver"
   ]
  },
  {
   "cell_type": "code",
   "execution_count": 70,
   "metadata": {
    "collapsed": false
   },
   "outputs": [
    {
     "name": "stdout",
     "output_type": "stream",
     "text": [
      "Mot: [ 0.87 -3.5e-17 -0.5 8.1e-18 0 0 0 0 ]\n"
     ]
    }
   ],
   "source": [
    "vd = VDMotorEstimationSolver()\n",
    "vd.add_dual_plane_observations(planes_a, planes_b)\n",
    "vd_estimated_motor = vd.solve()\n",
    "print(vd_estimated_motor)"
   ]
  },
  {
   "cell_type": "markdown",
   "metadata": {},
   "source": [
    "#### Check solution"
   ]
  },
  {
   "cell_type": "code",
   "execution_count": 71,
   "metadata": {
    "collapsed": false
   },
   "outputs": [
    {
     "name": "stdout",
     "output_type": "stream",
     "text": [
      "[ 0.866  0.    -0.5    0.    -0.683 -0.433 -0.183 -0.25 ]\n",
      "[ 0.866 -0.    -0.5    0.     0.     0.     0.     0.   ]\n",
      "False\n"
     ]
    }
   ],
   "source": [
    "print(np.array(motor))\n",
    "print(np.array(vd_estimated_motor))\n",
    "print(np.allclose(motor, vd_estimated_motor))"
   ]
  },
  {
   "cell_type": "markdown",
   "metadata": {},
   "source": [
    "## Motor Estimation from heterogeneous conformal objects"
   ]
  },
  {
   "cell_type": "markdown",
   "metadata": {},
   "source": [
    "### Estimate motor using Valkenburg-Dorst solver"
   ]
  },
  {
   "cell_type": "code",
   "execution_count": 280,
   "metadata": {
    "collapsed": false
   },
   "outputs": [
    {
     "name": "stdout",
     "output_type": "stream",
     "text": [
      "Mot: [ -0.87 2.1e-18 0.5 -2.8e-17 0.68 0.43 0.18 0.25 ]\n"
     ]
    }
   ],
   "source": [
    "vd = VDMotorEstimationSolver()\n",
    "vd.add_point_observations(points_a, points_b)\n",
    "vd.add_dual_line_observations(lines_a, lines_b)\n",
    "vd.add_dual_plane_observations(planes_a, planes_b)\n",
    "vd_estimated_motor = vd.solve()\n",
    "print(vd_estimated_motor)"
   ]
  },
  {
   "cell_type": "markdown",
   "metadata": {},
   "source": [
    "#### Check solution"
   ]
  },
  {
   "cell_type": "code",
   "execution_count": 281,
   "metadata": {
    "collapsed": false,
    "scrolled": true
   },
   "outputs": [
    {
     "name": "stdout",
     "output_type": "stream",
     "text": [
      "[ 0.866  0.    -0.5    0.    -0.683 -0.433 -0.183 -0.25 ]\n",
      "[-0.866  0.     0.5   -0.     0.683  0.433  0.183  0.25 ]\n",
      "False\n"
     ]
    }
   ],
   "source": [
    "print(np.array(motor))\n",
    "print(np.array(vd_estimated_motor))\n",
    "print(np.allclose(motor, vd_estimated_motor))"
   ]
  },
  {
   "cell_type": "code",
   "execution_count": 282,
   "metadata": {
    "collapsed": false
   },
   "outputs": [
    {
     "name": "stdout",
     "output_type": "stream",
     "text": [
      "[-0.866  0.     0.5   -0.     0.683  0.433  0.183  0.25 ]\n",
      "[ 0.866  0.    -0.5    0.    -0.683 -0.433 -0.183 -0.25 ]\n",
      "[-0.866  0.     0.5   -0.     0.683  0.433  0.183  0.25 ]\n",
      "Ceres Solver Report: Iterations: 1, Initial cost: 1.250000e+00, Final cost: 1.250000e+00, Termination: CONVERGENCE\n"
     ]
    }
   ],
   "source": [
    "initial_motors = [vd_estimated_motor]\n",
    "vd_summaries_no_noise = []\n",
    "estimated_motors = []\n",
    "for initial_motor in initial_motors:\n",
    "    mes = MotorEstimationSolver(initial_motor)\n",
    "    for a, b in zip(planes_a, planes_b):\n",
    "        mes.add_dual_plane_angle_error_residual_block(a,b)\n",
    "    for a, b in zip(lines_a, lines_b):\n",
    "        mes.add_line_correspondences_residual_block(a,b)\n",
    "    for a, b in zip(points_a, points_b):\n",
    "        mes.add_point_correspondences_residual_block(a,b)\n",
    "    mes.set_parameterization('BIVECTOR_GENERATOR')\n",
    "    mes.linear_solver_type = \"DENSE_QR\"\n",
    "    mes.max_num_iterations = 100\n",
    "    mes.function_tolerance = 1e-2\n",
    "    em, summary_het = mes.solve()\n",
    "    estimated_motors.append(em)\n",
    "    vd_summaries_no_noise.append(summary_het)\n",
    "    print(np.array(initial_motor))\n",
    "    print(np.array(motor))\n",
    "    print(np.array(em))\n",
    "    print(summary_het['brief_report'])"
   ]
  },
  {
   "cell_type": "code",
   "execution_count": 309,
   "metadata": {
    "collapsed": false
   },
   "outputs": [
    {
     "name": "stdout",
     "output_type": "stream",
     "text": [
      "Mot: [ 1 0 0 0 0 0 0 0 ]\n",
      "Mot: [ 0.87 4.2e-07 -0.5 1.1e-06 -0.68 -0.43 -0.18 -0.25 ]\n",
      "Ceres Solver Report: Iterations: 5, Initial cost: 9.075208e+01, Final cost: 1.250000e+00, Termination: CONVERGENCE\n",
      "\n",
      "Mot: [ -0.5 0 -0.87 0 -0.018 0.025 0.068 -0.043 ]\n",
      "Mot: [ -0.87 4.1e-06 0.5 -6.6e-05 0.68 0.43 0.18 0.25 ]\n",
      "Ceres Solver Report: Iterations: 10, Initial cost: 2.060420e+02, Final cost: 1.250001e+00, Termination: CONVERGENCE\n",
      "\n"
     ]
    }
   ],
   "source": [
    "motor = vsr.Vec(1,1,1).trs() * vsr.Rot(vsr.Biv(0,1,0) * np.pi/6.0)\n",
    "noise_motor = vsr.Vec(0.1,0.1,0.1).trs() * vsr.Rot(vsr.Biv(1,0,0) * np.pi/100)\n",
    "\n",
    "noise_motor_plane = vsr.Vec(0.05,0.05,0.05).trs() * vsr.Rot(vsr.Biv(1,0,0) * np.pi/100)\n",
    "noise_motor_lines = vsr.Vec(-0.01,-0.01,-0.01).trs() * vsr.Rot(vsr.Biv(0,1,0) * (-np.pi/100))\n",
    "noise_motor_points = vsr.Vec(0.1,0.1,0.1).trs() * vsr.Rot(vsr.Biv(0,0,1) * (np.pi/100))\n",
    "\n",
    "# initial_motor = vsr.Mot(1.0, 0.0, 0.0, 0.0, 0.0, 0.0, 0.0, 0.0)\n",
    "\n",
    "initial_motors = [vsr.Mot(1.0, 0.0, 0.0, 0.0, 0.0, 0.0, 0.0, 0.0),\n",
    "                  vsr.Vec(0.1,0.1,0.1).trs() * vsr.Rot(vsr.Biv(0,1,0) * (np.pi/6.0 + np.pi/2.))]\n",
    "\n",
    "labels = [\"1\", \"$\\pi$\"]\n",
    "summaries_no_noise = []\n",
    "estimated_motors_no_noise = []\n",
    "for initial_motor in initial_motors:\n",
    "    mes = MotorEstimationSolver(initial_motor)\n",
    "    for a, b in zip(planes_a, planes_b):\n",
    "        mes.add_dual_plane_angle_error_residual_block(a,b)\n",
    "    for a, b in zip(lines_a, lines_b):\n",
    "        mes.add_line_correspondences_residual_block(a,b)\n",
    "    for a, b in zip(points_a, points_b):\n",
    "        mes.add_point_correspondences_residual_block(a,b)\n",
    "    mes.set_parameterization('BIVECTOR_GENERATOR')\n",
    "    mes.linear_solver_type = \"DENSE_QR\"\n",
    "    mes.max_num_iterations = 100\n",
    "    em, summary_het = mes.solve()\n",
    "    estimated_motors_no_noise.append(em)\n",
    "    summaries_no_noise.append(summary_het)\n",
    "    print(initial_motor)\n",
    "#     print(motor)\n",
    "    print(em)\n",
    "\n",
    "#     print(np.array(motor))\n",
    "#     print(np.array(estimated_motor))\n",
    "#     print(np.allclose(np.array(motor), np.array(estimated_motor)))\n",
    "#     print(np.allclose(np.array(motor), np.array(estimated_motor), \n",
    "#                       rtol=1e-05, atol=1e-5))\n",
    "    print(summary_het['brief_report'])\n",
    "    print()"
   ]
  },
  {
   "cell_type": "code",
   "execution_count": 310,
   "metadata": {
    "collapsed": false
   },
   "outputs": [
    {
     "data": {
      "text/plain": [
       "<matplotlib.legend.Legend at 0x7fd8a49da350>"
      ]
     },
     "execution_count": 310,
     "metadata": {},
     "output_type": "execute_result"
    },
    {
     "data": {
      "image/png": "[encoded data removed]",
      "text/plain": [
       "<matplotlib.figure.Figure at 0x7fd8a5df0e10>"
      ]
     },
     "metadata": {},
     "output_type": "display_data"
    }
   ],
   "source": [
    "for s,l in zip(summaries_no_noise, labels):\n",
    "    plt.plot([it['cost'] for it in s['iterations']], label=l)\n",
    "plt.semilogy()\n",
    "plt.legend()"
   ]
  },
  {
   "cell_type": "markdown",
   "metadata": {},
   "source": [
    "## With noise"
   ]
  },
  {
   "cell_type": "code",
   "execution_count": 311,
   "metadata": {
    "collapsed": false
   },
   "outputs": [],
   "source": [
    "motor = vsr.Vec(1,1,1).trs() * vsr.Rot(vsr.Biv(0,1,0) * np.pi/6.0)\n",
    "\n",
    "noise_motor_planes = vsr.Vec(0.05,0.05,0.05).trs() * vsr.Rot(vsr.Biv(1,0,0) * np.pi/100)\n",
    "noise_motor_lines = vsr.Vec(-0.01,-0.01,-0.01).trs() * vsr.Rot(vsr.Biv(0,1,0) * (-np.pi/100))\n",
    "noise_motor_points = vsr.Vec(0.1,0.1,0.1).trs() * vsr.Rot(vsr.Biv(0,0,1) * (np.pi/100))\n",
    "\n",
    "points_b_noisy = [b.spin(noise_motor_points) for b in points_b]\n",
    "lines_b_noisy = [b.spin(noise_motor_lines) for b in lines_b]\n",
    "planes_b_noisy = [b.spin(noise_motor_planes) for b in planes_b]"
   ]
  },
  {
   "cell_type": "markdown",
   "metadata": {},
   "source": [
    "### Estimate motor using Valkenburg-Dorst solver"
   ]
  },
  {
   "cell_type": "code",
   "execution_count": 312,
   "metadata": {
    "collapsed": false
   },
   "outputs": [
    {
     "name": "stdout",
     "output_type": "stream",
     "text": [
      "Mot: [ -0.87 -0.0029 0.49 0.0083 0.76 0.45 0.25 0.24 ]\n"
     ]
    }
   ],
   "source": [
    "vd = VDMotorEstimationSolver()\n",
    "vd.add_point_observations(points_a, points_b_noisy)\n",
    "vd.add_dual_line_observations(lines_a, lines_b_noisy)\n",
    "vd.add_dual_plane_observations(planes_a, planes_b_noisy)\n",
    "vd_estimated_motor = vd.solve()\n",
    "print(vd_estimated_motor)"
   ]
  },
  {
   "cell_type": "markdown",
   "metadata": {},
   "source": [
    "#### Check solution"
   ]
  },
  {
   "cell_type": "code",
   "execution_count": 313,
   "metadata": {
    "collapsed": false,
    "scrolled": true
   },
   "outputs": [
    {
     "name": "stdout",
     "output_type": "stream",
     "text": [
      "[ 0.866  0.    -0.5    0.    -0.683 -0.433 -0.183 -0.25 ]\n",
      "[-0.8736 -0.0029  0.4865  0.0083  0.762   0.4471  0.252   0.2426]\n",
      "False\n"
     ]
    }
   ],
   "source": [
    "print(np.array(motor))\n",
    "print(np.array(vd_estimated_motor))\n",
    "print(np.allclose(motor, vd_estimated_motor))"
   ]
  },
  {
   "cell_type": "code",
   "execution_count": 288,
   "metadata": {
    "collapsed": false
   },
   "outputs": [
    {
     "name": "stdout",
     "output_type": "stream",
     "text": [
      "0.503397771552 0.147638265685\n"
     ]
    }
   ],
   "source": [
    "d = [np.linalg.norm(np.array(a.spin(vd_estimated_motor)) - np.array(a.spin(motor))) for a in points_a]\n",
    "print(np.mean(d), np.std(d))"
   ]
  },
  {
   "cell_type": "code",
   "execution_count": 329,
   "metadata": {
    "collapsed": false
   },
   "outputs": [
    {
     "name": "stdout",
     "output_type": "stream",
     "text": [
      "[ 1.  0.  0.  0.  0.  0.  0.  0.]\n",
      "Ceres Solver Report: Iterations: 14, Initial cost: 9.449687e+01, Final cost: 1.563907e+00, Termination: CONVERGENCE\n",
      "[-0.5     0.     -0.866   0.     -0.0183  0.025   0.0683 -0.0433]\n",
      "Ceres Solver Report: Iterations: 20, Initial cost: 2.140821e+02, Final cost: 1.563907e+00, Termination: CONVERGENCE\n"
     ]
    }
   ],
   "source": [
    "# initial_motors = [vsr.Mot(1.0, 0.0, 0.0, 0.0, 0.0, 0.0, 0.0, 0.0),\n",
    "#                   vsr.Vec(1,1,1).trs() * vsr.Rot(vsr.Biv(0,1,0) * (np.pi/6.0 + np.pi/2))]\n",
    "summaries_noise = []\n",
    "estimated_motors_noise = []\n",
    "for initial_motor in initial_motors:\n",
    "    mes = MotorEstimationSolver(initial_motor)\n",
    "    for a, b in zip(planes_a, planes_b_noisy):\n",
    "        mes.add_dual_plane_angle_error_residual_block(a,b)\n",
    "    for a, b in zip(lines_a, lines_b_noisy):\n",
    "        mes.add_line_correspondences_residual_block(a,b)\n",
    "    for a, b in zip(points_a, points_b_noisy):\n",
    "        mes.add_point_correspondences_residual_block(a,b)\n",
    "    mes.set_parameterization('BIVECTOR_GENERATOR')\n",
    "    mes.linear_solver_type = \"DENSE_QR\"\n",
    "    mes.max_num_iterations = 100\n",
    "#     mes.function_tolerance = 1e-4\n",
    "    em, summary_het = mes.solve()\n",
    "    estimated_motors_noise.append(em)\n",
    "    summaries_noise.append(summary_het)\n",
    "    print(np.array(initial_motor))\n",
    "#     print(np.array(motor))\n",
    "#     print(np.array(em))\n",
    "    print(summary_het['brief_report'])"
   ]
  },
  {
   "cell_type": "code",
   "execution_count": 290,
   "metadata": {
    "collapsed": false
   },
   "outputs": [
    {
     "name": "stdout",
     "output_type": "stream",
     "text": [
      "0.201342423866 0.0597160798383\n",
      "0.201275060229 0.0596699971294\n"
     ]
    }
   ],
   "source": [
    "d = [[np.linalg.norm(np.array(a.spin(em)) - \n",
    "                np.array(a.spin(motor))) for a in points_a] for em in estimated_motors_noise]\n",
    "for d in d:\n",
    "    print(np.mean(d), np.std(d))"
   ]
  },
  {
   "cell_type": "code",
   "execution_count": 330,
   "metadata": {
    "collapsed": false
   },
   "outputs": [
    {
     "name": "stdout",
     "output_type": "stream",
     "text": [
      "[-0.8736 -0.0029  0.4865  0.0083  0.762   0.4471  0.252   0.2426]\n",
      "[ 0.866  0.    -0.5    0.    -0.683 -0.433 -0.183 -0.25 ]\n",
      "[-0.8705  0.0084  0.4918  0.0166  0.7129  0.4549  0.1952  0.2415]\n",
      "Ceres Solver Report: Iterations: 17, Initial cost: 2.046072e+00, Final cost: 1.563907e+00, Termination: CONVERGENCE\n"
     ]
    }
   ],
   "source": [
    "initial_motors = [vd_estimated_motor]\n",
    "vd_summaries_noise = []\n",
    "estimated_motors = []\n",
    "for initial_motor in initial_motors:\n",
    "    mes = MotorEstimationSolver(initial_motor)\n",
    "    for a, b in zip(planes_a, planes_b_noisy):\n",
    "        mes.add_dual_plane_angle_error_residual_block(a,b)\n",
    "    for a, b in zip(lines_a, lines_b_noisy):\n",
    "        mes.add_line_correspondences_residual_block(a,b)\n",
    "    for a, b in zip(points_a, points_b_noisy):\n",
    "        mes.add_point_correspondences_residual_block(a,b)\n",
    "    mes.set_parameterization('BIVECTOR_GENERATOR')\n",
    "    mes.linear_solver_type = \"DENSE_QR\"\n",
    "    mes.max_num_iterations = 100\n",
    "#     mes.function_tolerance = 1e-5\n",
    "    em, summary_het = mes.solve()\n",
    "    estimated_motors.append(em)\n",
    "    vd_summaries_noise.append(summary_het)\n",
    "    print(np.array(initial_motor))\n",
    "    print(np.array(motor))\n",
    "    print(np.array(em))\n",
    "    print(summary_het['brief_report'])"
   ]
  },
  {
   "cell_type": "code",
   "execution_count": 331,
   "metadata": {
    "collapsed": false
   },
   "outputs": [
    {
     "data": {
      "text/plain": [
       "<matplotlib.legend.Legend at 0x7fd8a3a70a90>"
      ]
     },
     "execution_count": 331,
     "metadata": {},
     "output_type": "execute_result"
    },
    {
     "data": {
      "image/png": "[encoded data removed]",
      "text/plain": [
       "<matplotlib.figure.Figure at 0x7fd8a3e61650>"
      ]
     },
     "metadata": {},
     "output_type": "display_data"
    }
   ],
   "source": [
    "for s,l in zip(summaries_no_noise, labels):\n",
    "    plt.plot([it['cost'] for it in s['iterations']], label=l)\n",
    "for s,l in zip(summaries_noise, labels):\n",
    "    plt.plot([it['cost'] for it in s['iterations']], label=l)\n",
    "plt.axhline(y=vd_summaries_noise[0]['iterations'][0]['cost'])\n",
    "plt.axhline(y=vd_summaries_no_noise[0]['iterations'][0]['cost'])\n",
    "plt.semilogy()\n",
    "plt.legend()"
   ]
  },
  {
   "cell_type": "code",
   "execution_count": 273,
   "metadata": {
    "collapsed": false
   },
   "outputs": [
    {
     "data": {
      "text/plain": [
       "[]"
      ]
     },
     "execution_count": 273,
     "metadata": {},
     "output_type": "execute_result"
    },
    {
     "data": {
      "image/png": "[encoded data removed]",
      "text/plain": [
       "<matplotlib.figure.Figure at 0x7fd8a69f6110>"
      ]
     },
     "metadata": {},
     "output_type": "display_data"
    }
   ],
   "source": [
    "for s in summaries:\n",
    "    plt.plot([it['cost'] for it in s['iterations']])\n",
    "plt.semilogy()"
   ]
  },
  {
   "cell_type": "code",
   "execution_count": 246,
   "metadata": {
    "collapsed": false
   },
   "outputs": [
    {
     "name": "stdout",
     "output_type": "stream",
     "text": [
      "1.3584124525e-15 8.55792174811e-16\n"
     ]
    }
   ],
   "source": [
    "d = [[np.linalg.norm(np.array(a.spin(em)) - \n",
    "                np.array(a.spin(motor))) for a in points_a] for em in estimated_motors]\n",
    "for d in d:\n",
    "    print(np.mean(d), np.std(d))"
   ]
  },
  {
   "cell_type": "code",
   "execution_count": 380,
   "metadata": {
    "collapsed": false
   },
   "outputs": [
    {
     "data": {
      "image/png": "[encoded data removed]",
      "text/plain": [
       "<matplotlib.figure.Figure at 0x7fd8a2a24c50>"
      ]
     },
     "metadata": {},
     "output_type": "display_data"
    }
   ],
   "source": [
    "fig, ax = plt.subplots(1)\n",
    "\n",
    "ax.set_aspect('equal')\n",
    "\n",
    "almost_black = '#262626'\n",
    "spines_to_remove = ['top', 'right']\n",
    "for spine in spines_to_remove:\n",
    "    ax.spines[spine].set_visible(False)\n",
    "ax.xaxis.set_ticks_position('none')\n",
    "ax.yaxis.set_ticks_position('none')\n",
    "\n",
    "spines_to_keep = ['bottom', 'left']\n",
    "for spine in spines_to_keep:\n",
    "    ax.spines[spine].set_linewidth(0.5)\n",
    "    ax.spines[spine].set_color(almost_black)\n",
    "ax.xaxis.label.set_color(almost_black)\n",
    "ax.yaxis.label.set_color(almost_black)\n",
    "\n",
    "# ax.grid(which=\"both\")\n",
    "\n",
    "ax.axhline(y=vd_summaries_noise[0]['iterations'][0]['cost'], \n",
    "           ls=\"-\", lw=0.75,c='black',label=\"V\\&D~[26], With noise\")\n",
    "ax.axhline(y=vd_summaries_no_noise[0]['iterations'][0]['cost'],\n",
    "           ls=\"--\", lw=0.75,c='black',label=\"V\\&D~[26], Without noise\")\n",
    "\n",
    "ax.plot([it['cost'] for it in summaries_no_noise[1]['iterations']], label=r\"Without noise, $\\bar{\\theta}_0 = \\pi$\")\n",
    "ax.plot([it['cost'] for it in summaries_no_noise[0]['iterations']], label=r\"Without noise, $\\bar{\\theta}_0 = {\\pi \\over 3}$\")\n",
    "\n",
    "\n",
    "ax.plot([it['cost'] for it in summaries_noise[1]['iterations']], label=r\"With noise, $\\bar{\\theta}_0 = \\pi$\")\n",
    "ax.plot([it['cost'] for it in summaries_noise[0]['iterations']], label=r\"With noise, $\\bar{\\theta}_0 = {\\pi \\over 3}$\")\n",
    "\n",
    "\n",
    "\n",
    "ax.semilogy()\n",
    "\n",
    "# ax.set_yscale('log')\n",
    "\n",
    "ax.title.set_color(almost_black)\n",
    "ax.axhline(0, color=almost_black, linewidth=0.15)\n",
    "ax.axvline(0, color=almost_black, linewidth=0.15)\n",
    "\n",
    "# Remove the line around the legend box, and instead fill it with a light grey\n",
    "# Also only use one point for the scatterplot legend because the user will \n",
    "# get the idea after just one, they don't need three.\n",
    "\n",
    "light_grey = np.array([float(248)/float(255)]*3)\n",
    "legend = ax.legend(frameon=True, scatterpoints=1)\n",
    "rect = legend.get_frame()\n",
    "rect.set_facecolor(light_grey)\n",
    "rect.set_linewidth(0.0)\n",
    "\n",
    "\n",
    "\n",
    "\n",
    "plt.xlabel(r'Iteration $k$')\n",
    "plt.ylabel(r'Cost')\n",
    "\n",
    "\n",
    "plt.savefig('/home/lars/Dropbox/PhD/latex/2016-05-18_-_AACA-D-16-00064_Manuscript_Tingelstad_Egeland/cost_heterogeneous2.pdf')"
   ]
  },
  {
   "cell_type": "code",
   "execution_count": null,
   "metadata": {
    "collapsed": true
   },
   "outputs": [],
   "source": []
  },
  {
   "cell_type": "code",
   "execution_count": null,
   "metadata": {
    "collapsed": true
   },
   "outputs": [],
   "source": []
  }
 ],
 "metadata": {
  "kernelspec": {
   "display_name": "Python 2",
   "language": "python",
   "name": "python2"
  },
  "language_info": {
   "codemirror_mode": {
    "name": "ipython",
    "version": 2
   },
   "file_extension": ".py",
   "mimetype": "text/x-python",
   "name": "python",
   "nbconvert_exporter": "python",
   "pygments_lexer": "ipython2",
   "version": "2.7.11+"
  },
  "widgets": {
   "state": {
    "001ac42d81464f4ba99dbdd84d52408c": {
     "views": []
    },
    "0046a1256c4648028673ee6a5e94549b": {
     "views": []
    },
    "0058bfe3dcb54e208444899f4f0cc18a": {
     "views": []
    },
    "00a24889d3264f2f981a3c0528be37f1": {
     "views": []
    },
    "00b140942290438c9c5539ea7741e065": {
     "views": []
    },
    "00f30b45dfcf48b0b26cfb0ddc92eef0": {
     "views": []
    },
    "01208b0337eb44b293f5ff94af0f0f63": {
     "views": []
    },
    "0166dd2459f54e59b73b8c9447dabe84": {
     "views": []
    },
    "02109cfe697b4887adaefe4de4f31cd5": {
     "views": []
    },
    "02197879025f4b93bd6350701381836f": {
     "views": []
    },
    "021b25c0759048e09851381ed1569ad0": {
     "views": []
    },
    "02328a3d8db041c186d435d9bea3fe1c": {
     "views": []
    },
    "024df1438c99458992106e48088e7e0f": {
     "views": []
    },
    "025d003a524c47bbad1d2a950af9c6bd": {
     "views": []
    },
    "028b4a5745d742aba34b9952fe465023": {
     "views": []
    },
    "02b6a80533ba4730b46d12906e32fa24": {
     "views": []
    },
    "02d02f59337f41529f8402328d32024a": {
     "views": []
    },
    "035d839abe5f4d37bfc51c516520f851": {
     "views": []
    },
    "038d1e21e7aa4649b2376a0d0afa3e41": {
     "views": []
    },
    "03a262b9f5ef4b1498dbfcddc3843fff": {
     "views": []
    },
    "03e8f86260544c0a8f7cdbeece3e46de": {
     "views": []
    },
    "044319ff3aaf417184c33e473b079e0c": {
     "views": []
    },
    "047418aed18347b192f36e8b8a2f7760": {
     "views": []
    },
    "04cb0369279d429cad53c2375230893a": {
     "views": []
    },
    "04dae64fe1d24710928f9cb12a7bfa10": {
     "views": []
    },
    "050b559bc4874cf8bb182a601195c79c": {
     "views": []
    },
    "054db14725ac4042b972ac540a11a127": {
     "views": []
    },
    "05a2e43ac3654a9b87f2c7a22afd74c8": {
     "views": []
    },
    "05be9baf5aa74608a7baefba34c24405": {
     "views": []
    },
    "06361ccb5682419fa1b198eb53591000": {
     "views": []
    },
    "0638cd3bd5b64551b377dd4d2a756b78": {
     "views": []
    },
    "0667b0880a13437b863c1a51b847a377": {
     "views": []
    },
    "06b086d1427a4f589c7437b1367d41ff": {
     "views": []
    },
    "06b74e50dfa84e498f430ad9a55284cc": {
     "views": []
    },
    "06e9e4233e4346e1b79018c62ee24df1": {
     "views": []
    },
    "06ff28999cb74fd5bdc707e788325907": {
     "views": []
    },
    "077263a568d840a7b4d6c02a7011bb0d": {
     "views": []
    },
    "07e7c2f0a0a74c12a31525f9abe833ad": {
     "views": []
    },
    "081c24763eb64dcf95eb7211560394a8": {
     "views": []
    },
    "0825d11b72fc447f97c4ef905ea9b080": {
     "views": []
    },
    "083f3499ea564c33b30082aa87870cdf": {
     "views": []
    },
    "08d9ada4229447a9a906cb1118ed2ebc": {
     "views": []
    },
    "094e9f1fae824089b195d38d8c8d07fd": {
     "views": []
    },
    "094ed27d0427453dac6618c69136d45b": {
     "views": []
    },
    "094fc661c8e0486ca7dc257550117686": {
     "views": []
    },
    "09844eb680e947afacaaa062cca6bffe": {
     "views": []
    },
    "09d8d1080fa34d59ad2941edc8303006": {
     "views": []
    },
    "09fef3d192d049e1a3208c4b219d3047": {
     "views": []
    },
    "0a2e28184b824f6fabe9fb5eb91b3124": {
     "views": []
    },
    "0a87b96481544266865e3c14b8124c09": {
     "views": []
    },
    "0ac1fdbac2ec4441be592d23c6d72c06": {
     "views": []
    },
    "0ae632eb149a4b019bae1b510e37ff01": {
     "views": []
    },
    "0ae7f9af123b4537b81b0ac2553ed3e5": {
     "views": []
    },
    "0ae9263ce02d44e9aef350592739be4b": {
     "views": []
    },
    "0afd8a88643047b1a87bd9c7c95417c0": {
     "views": []
    },
    "0aff0f64a910418c8e09106a3fb988c6": {
     "views": []
    },
    "0b05e00721444c93a9f2546fc6f41f46": {
     "views": []
    },
    "0b1ec0221e794a2fa164d31c22155892": {
     "views": []
    },
    "0ba5abe5d48a424394f53c7304e15e13": {
     "views": []
    },
    "0bf6c178ae6842b7af157b7721397749": {
     "views": []
    },
    "0c147bfc0b9646d094e9f8487d4425f6": {
     "views": []
    },
    "0c5e95a51f00435a965d49bb8c5bce24": {
     "views": []
    },
    "0c6e3d13536d45b0a6bee435183ced4d": {
     "views": []
    },
    "0c799d63c6fb41d398d5a3c9ad278562": {
     "views": []
    },
    "0d7440f114f948efb1f9c2a8f9704868": {
     "views": []
    },
    "0d7c683c263347d78cabdef68e337aa3": {
     "views": []
    },
    "0d8526bb29a24d16936363d5c2675f92": {
     "views": []
    },
    "0e32e83585914a7295bb290406cca1a8": {
     "views": []
    },
    "0ec3a30178524ede8203881b83500ed7": {
     "views": []
    },
    "0ee80109e29e4ac986c9e3cc04475265": {
     "views": []
    },
    "0ef60d5a259642c28d7a97f42439dd6d": {
     "views": []
    },
    "0f65c68245624b8a9742f6ea46be5fea": {
     "views": []
    },
    "0f884db89deb4f86a624f0a87c112a71": {
     "views": []
    },
    "0fa6da2b5d4a428d9eb4dbb3aca2c209": {
     "views": []
    },
    "0fdb54df2f3543f98ff892ff7f4b06e6": {
     "views": []
    },
    "0fe080bdfc0d43c8b704a7ee00828e60": {
     "views": []
    },
    "107bead688ca43b7bf9f1aeaa25155de": {
     "views": []
    },
    "109ab786348b4b7196a80e34fbcefe44": {
     "views": []
    },
    "10ba8e7f2c2c4b37b41cfaa6d2104a30": {
     "views": []
    },
    "10d7ed270c6d45beb6cdad389614995f": {
     "views": []
    },
    "1104798c521f4a79a782c5d173c8b220": {
     "views": []
    },
    "11521abca7ab41eb92a1acfcf29650e7": {
     "views": []
    },
    "1152572a2a584c999c7d9cf5caf4cf2d": {
     "views": []
    },
    "11a2156f0c204706bce14aef4689d74b": {
     "views": []
    },
    "11d52f1731f943a5860f85c20c3539b8": {
     "views": []
    },
    "11fe512f86e7478b8e43b5d6239a3078": {
     "views": []
    },
    "125a6d5fa2174b7ebf06f87e6ff8c73b": {
     "views": []
    },
    "1269f45094434d51a9a221db3c87052c": {
     "views": []
    },
    "12fb5346ad254c7f9bdb78e10eddfe4e": {
     "views": []
    },
    "12ff875d7e764137b28f9f48ff24b57f": {
     "views": []
    },
    "1310dc21c64742c78d066c5e7125ad41": {
     "views": []
    },
    "13249acb90fc43ff820d75c2d67d2962": {
     "views": []
    },
    "135cc594e8bb4664a77dc07b636788bb": {
     "views": []
    },
    "13716149ac054b18a3a92b75b2b9ded6": {
     "views": []
    },
    "13c7eb20ad75402fa9e7fad364f8e091": {
     "views": []
    },
    "13cda7eb234f49318c9f9c4727fe5e10": {
     "views": []
    },
    "13d8a03d113443e4966629a86a3fe49b": {
     "views": []
    },
    "13e02f2604704fdfa4111df6841ac870": {
     "views": []
    },
    "13ebe97c934f40dfb17c1b0c58f7fcff": {
     "views": []
    },
    "13fec1de38b74488a8d0b6d08d92c5b4": {
     "views": []
    },
    "140b6dc428974af1b3ad13fe5391f8d9": {
     "views": []
    },
    "1420bb122a1f4e7898d3ab403c68ecd7": {
     "views": []
    },
    "1421bf79241b4abf94adaa74ca2b3def": {
     "views": []
    },
    "14234d74a41b4084a961aa3bd27a1ef4": {
     "views": []
    },
    "1464dc4fd82340b5a3723c83a065bdb9": {
     "views": []
    },
    "14e8826764af412caaa4d289484be21f": {
     "views": []
    },
    "14f6d4ffa8804b768e98c47d785a1d1c": {
     "views": []
    },
    "1507f432525042f19539b1400b2c574e": {
     "views": []
    },
    "154480eb381e48c3b6020bc453c0ea2f": {
     "views": []
    },
    "154e64c1273941f488525bc2bc9e0318": {
     "views": []
    },
    "157e041ac6a4423c856daa74b07741a3": {
     "views": []
    },
    "158eed318c8f44b7b9e1b08f8dda8633": {
     "views": []
    },
    "158f0175e76548ef96125ddc471ef099": {
     "views": []
    },
    "15d224acfcf64b2eb0dc6260d6ee4c17": {
     "views": []
    },
    "15dd067a2cd841919318928d9d92ab25": {
     "views": []
    },
    "16139b0a7aa44ceca92b0e4f1381432d": {
     "views": []
    },
    "161da4c0f3ab4bd0a0e277c75743a109": {
     "views": []
    },
    "1658be17fd0e40519ff1fa1c33327eb2": {
     "views": []
    },
    "179b3bf8425b45c8bb93aa9eca37c423": {
     "views": []
    },
    "17a5bcf499024b4990f087756a87cb46": {
     "views": []
    },
    "17bb95c40912432eb332e560de135772": {
     "views": []
    },
    "17c8c54e195d4ac58ac1e70752259961": {
     "views": []
    },
    "1842b7a80aa34a0494456c3ee3624aec": {
     "views": []
    },
    "185db49af18841ad97d7fb80bc7f9447": {
     "views": []
    },
    "18906e2eae094a439cccc766fe1d1b8f": {
     "views": []
    },
    "18a12d54fd524dfba46431ade00cc44f": {
     "views": []
    },
    "18b04b25080848a299613efbcc1feb67": {
     "views": []
    },
    "18cb3d4f2a224c9f9b70854c25977e68": {
     "views": []
    },
    "197eb21915de4b0b985e0f38154835e2": {
     "views": []
    },
    "198266676b294699a5117590344d5387": {
     "views": []
    },
    "1a2c7b430dcc49ba9078ddaa291bda9c": {
     "views": []
    },
    "1a414f9afeb04ee5ac6dd3a61af5bac4": {
     "views": []
    },
    "1aa95abc16b84a488071477d75646a42": {
     "views": []
    },
    "1b30fdc1e84847e4a748947f64983628": {
     "views": []
    },
    "1b853dc94bf5448a8c43a9bc0eb3affd": {
     "views": []
    },
    "1be4619c1de549d3bd3fbf98d6b478d2": {
     "views": []
    },
    "1c1000e967a348d497a879f216d11ee0": {
     "views": []
    },
    "1c3e2cd468434afc8c0804d5dbf10192": {
     "views": []
    },
    "1c6a0a2b38234cc19566ef85008494d3": {
     "views": []
    },
    "1c6a397426804d788f75f454df29a406": {
     "views": []
    },
    "1c707f310a9b4d85bfb78eeb482d9901": {
     "views": []
    },
    "1c777dd1821b4d4d96eac180df1761db": {
     "views": []
    },
    "1d09ba89b90d4aecadbeba303740afa5": {
     "views": []
    },
    "1d0d09bdc1004a4db08ca37577c4eb78": {
     "views": []
    },
    "1d1ce9768fef4030a9399d96f7e51883": {
     "views": []
    },
    "1d34deb8103749cd8224514c89abe638": {
     "views": []
    },
    "1d6992673043494b9e87851447e3f336": {
     "views": []
    },
    "1d9a90120919442b923d694d93236bba": {
     "views": []
    },
    "1df63555e4b54d2eb393a112a9b961ff": {
     "views": []
    },
    "1dfd4173b97b4e71a1d30fa1605ad0b0": {
     "views": []
    },
    "1ee47e5ac4e84431a9ca12f4ed0d4594": {
     "views": []
    },
    "1f07d2a13e8745108b57bb2d1bc1036c": {
     "views": []
    },
    "1f085d097e2f4c78a302939abdbe3fe7": {
     "views": []
    },
    "1f3b416ef59f4174a99a9860b0303292": {
     "views": []
    },
    "1f620fc2afeb4787b55fe304d989441e": {
     "views": []
    },
    "1f9affd538ca4ccf82139d4c8746aebc": {
     "views": []
    },
    "1fe157df303948a0abd821a09afebf23": {
     "views": []
    },
    "1ffeb4e1780040bdb15bfc1aecc430dc": {
     "views": []
    },
    "2064b029d57541d3a87c0834d776c03b": {
     "views": []
    },
    "20b635f61ffb4d88a309f9604630a9cf": {
     "views": []
    },
    "20dc308a51304e7ca2be71cab9a13fab": {
     "views": []
    },
    "20e18c086ab5416a9f466da2e61cad9b": {
     "views": []
    },
    "21000569498b4396a82649a436b1edd2": {
     "views": []
    },
    "211e134d216e45bb8c447a155e2914bc": {
     "views": []
    },
    "216ce87ac62747f58bc74857be063e9d": {
     "views": []
    },
    "217f2e4f1bff4e42bb9841bf09cf6510": {
     "views": []
    },
    "21bae8f5bb5d43d798dce3d009de24fd": {
     "views": []
    },
    "222e8e142b1845d2aeab60364bd84ccb": {
     "views": []
    },
    "22336b0508024dfd9a11ff906372b076": {
     "views": []
    },
    "224def6636ba46509055766b1f186cd7": {
     "views": []
    },
    "227285ed83ca4eb3ac8eb063c167b96d": {
     "views": []
    },
    "2275b9eb87424c33bc1e905236d896f5": {
     "views": []
    },
    "22799093351a40c9b3166056ac641945": {
     "views": []
    },
    "229509e7e2af4b51a763ae9b4fb1db63": {
     "views": []
    },
    "22a8cf579ee84ca8a57ba3b9310e7f5f": {
     "views": []
    },
    "235793b19a1c4bf8a23829f586b157d0": {
     "views": []
    },
    "237e5a6808664eaba04967a06aabd7ce": {
     "views": []
    },
    "23c43b1d447048699ff6356a8eaf9716": {
     "views": []
    },
    "23ef9b191b014d9f9ea113b5434a60e6": {
     "views": []
    },
    "2431be69d96b454790cddddfa14bd41c": {
     "views": []
    },
    "2447b6c8c57543f49d2264571a15d476": {
     "views": []
    },
    "2448e4734d5545438c58374e2096c689": {
     "views": []
    },
    "2459d3282c6047d1abc22e72cfdf384c": {
     "views": []
    },
    "246d47f970f74edf816cc8eeb8bf2d41": {
     "views": []
    },
    "2470e85d2b8b4981b18d17e53bf3513e": {
     "views": []
    },
    "2475554240f1462e863454a75b21b973": {
     "views": []
    },
    "251f90e5f0f84c29b07144074219657c": {
     "views": []
    },
    "25408a103c2a4084b3a2993b42c9c58c": {
     "views": []
    },
    "2579f9c378cf425d8b79b8d376a6f72d": {
     "views": []
    },
    "257be5256bb44695a3d669939e2e0d5c": {
     "views": []
    },
    "25a00e34a7634564b9ba2b7fb3579110": {
     "views": []
    },
    "25c5f985717b45d7bd9826fd7b27e367": {
     "views": []
    },
    "25d90e5f8bd24c95bd13fb00639111f4": {
     "views": []
    },
    "25f9b9c6708341ec8395dc8a2ab4b6da": {
     "views": []
    },
    "2623e46319d04b7d9c5e98d87830b01a": {
     "views": []
    },
    "26381793f9c4425488ed1636c942c848": {
     "views": []
    },
    "264f735f18224a4cb0414476b3d7b16b": {
     "views": []
    },
    "26775cf7937844e6acaea18b626e867b": {
     "views": []
    },
    "268dcca329d04fd6a20077f1304df9f1": {
     "views": []
    },
    "26b567a173d9403ba90cc3066f8c623c": {
     "views": []
    },
    "27130a8160d54a7fae7f79ac7ca39bc7": {
     "views": []
    },
    "27eaa50cc2b641c3a1be08f0bf40b182": {
     "views": []
    },
    "285ec57831694f4583d57fd6c0760529": {
     "views": []
    },
    "2870bce7a648487e8cfb1becb02c997d": {
     "views": []
    },
    "287de61318744129b4e72392f946e989": {
     "views": []
    },
    "288d001e09084e98a8a3d48ecfb8c784": {
     "views": []
    },
    "28c95c2b2d8c41ce9f17268fbd21f11e": {
     "views": []
    },
    "28ffe39f76484646b072fe8bf5aa178d": {
     "views": []
    },
    "293cddd604874e04a4a1e22700520fec": {
     "views": []
    },
    "296c255b682c4c8e8339e67b018a8823": {
     "views": []
    },
    "297e508783094abaa556202bd1161f83": {
     "views": []
    },
    "2980bd03f253427092b3babab695764b": {
     "views": []
    },
    "29b1a4b3854a417db188099e69e814e1": {
     "views": []
    },
    "29cea76327954a7badcd776b6508da0d": {
     "views": []
    },
    "2a191867e4ca4a8f8adb736453891e41": {
     "views": []
    },
    "2a2619b5ce7c473d98997e12bdb425e1": {
     "views": []
    },
    "2a2733f9d2b6429cb0ec314f44543fef": {
     "views": []
    },
    "2a5d8acbdc014a388c003e05c560150f": {
     "views": []
    },
    "2a6324bb3d904aeea996d74d3ef26291": {
     "views": []
    },
    "2a7a7eb8ef7d40c8bbb6c2780f84312f": {
     "views": []
    },
    "2a89ef55ba6847d6a5f48a3e381ce31d": {
     "views": []
    },
    "2ac0d52fdb6c4066a254cb31c4dc894d": {
     "views": []
    },
    "2ae1b153e60741d6b8fe4aeea2a173d5": {
     "views": []
    },
    "2b30cd7e8968416898e0e75dca089916": {
     "views": []
    },
    "2b82aa69d3484105923e8e0a571e87c9": {
     "views": []
    },
    "2b8d0580d9694b92baa49484c8e625e9": {
     "views": []
    },
    "2bb6391d241c4f958030683b470442a2": {
     "views": []
    },
    "2bbe62a316844560a4ef024050089f45": {
     "views": []
    },
    "2bc7930038814510a4a2ed1272cc38ca": {
     "views": []
    },
    "2c493ec3928d464599b57624aa8de2c5": {
     "views": []
    },
    "2c8de5cb597548be88de22a675a7c2a1": {
     "views": []
    },
    "2ccfbfa3674f4838a37c43335895fa14": {
     "views": []
    },
    "2cd6f2a444b54a2ea7df1a0b9f281a43": {
     "views": []
    },
    "2d2c484a700444df865b5b4fee027f89": {
     "views": []
    },
    "2d6ccc8087464c038a3063b7623a57b8": {
     "views": []
    },
    "2dab68e35891486998f2fa264e3c1a5f": {
     "views": []
    },
    "2db26b6393a847b4a8de8380157762f8": {
     "views": []
    },
    "2e1cad9f3a114b9ba9f79e52f8e9f5af": {
     "views": []
    },
    "2e213c162a2649ab80aa8c6c9edd1de7": {
     "views": []
    },
    "2e3f92828be746d7a6aee10390b4d149": {
     "views": []
    },
    "2e4603761b23447a9a3e4e728c5be97d": {
     "views": []
    },
    "2e60eade937f4fc884e7bb5018a32996": {
     "views": []
    },
    "2e9f06e370284e5e80b91a7a3c097dca": {
     "views": []
    },
    "2f7724c9d31a409ca56e6be580417af9": {
     "views": []
    },
    "2fbaa3ade86e4978ac73e5c41ba1c93b": {
     "views": []
    },
    "2fcfbf8c703746bcbfe7edbaff258d94": {
     "views": []
    },
    "303771e0df5d4db09dc7212b3ade0ea5": {
     "views": []
    },
    "308725dcb1d24cc484e78030e91064c8": {
     "views": []
    },
    "30b6cf6015ab4adca1a2d6e56f239fc7": {
     "views": []
    },
    "30e25e146dd844dd8dd25ca9c4e5d5d3": {
     "views": []
    },
    "311a0b46d35540659625de83d9ba6e55": {
     "views": []
    },
    "31a5e7a951be4451a043b0f36aca31d2": {
     "views": []
    },
    "31b294491ecc4a1e99ecfe54489da280": {
     "views": []
    },
    "323c231ec5d643c38f45afd4dd783b6a": {
     "views": []
    },
    "32592cab71fd44cf9c761c8b59a4656c": {
     "views": []
    },
    "32629bcd2e6d4eb0b797988022e2ce4d": {
     "views": []
    },
    "326a6a8dbbef4707822d54c8e7b16d31": {
     "views": []
    },
    "328a9c0293e546dea32c3d023104329d": {
     "views": []
    },
    "32957d1631da432097fa696fd8387f28": {
     "views": []
    },
    "332155de16bb4a818292b79777dba6e5": {
     "views": []
    },
    "3360eb2ccc7e46debc0730cbf6296504": {
     "views": []
    },
    "33807e915ab044bba95bc87fc67a5a68": {
     "views": []
    },
    "33a5648ee95c404bb3d00af87364eeed": {
     "views": []
    },
    "33b9a712745144f8bd8c1de1268580d1": {
     "views": []
    },
    "33e842701ee5440aac341fa141aea937": {
     "views": []
    },
    "33ebe4e9bfde4087a728a734ccdef6dd": {
     "views": []
    },
    "34173acb645b435b99b495c729de669c": {
     "views": []
    },
    "341956467e904c1bbb4aefe9e3555db3": {
     "views": []
    },
    "345e7ef3400545f683a933de87651ab3": {
     "views": []
    },
    "349442b07133483587b19bf006b1f119": {
     "views": []
    },
    "34944783f63640d9a81d9c1379953f35": {
     "views": []
    },
    "34ca6c740971491bbd3237f8dc94d96a": {
     "views": []
    },
    "34d6181130ed4241b1fd3dbe065ff07c": {
     "views": []
    },
    "34f8ee9c8e014cc7a68478d89e0641a1": {
     "views": []
    },
    "35456df7cfe240bdbf6763d8bf363377": {
     "views": []
    },
    "35707af80fb84684bb15fc36a30f6fdc": {
     "views": []
    },
    "3607c294c604426499d4e3034a6d3648": {
     "views": []
    },
    "3610711306d4438a95abf503baad1283": {
     "views": []
    },
    "3617aba287e64b6fba2665f5598ab6c5": {
     "views": []
    },
    "36520e8b614d4df8b165858b9b35a281": {
     "views": []
    },
    "368fac32f93c44018446701beb0632e8": {
     "views": []
    },
    "369fd514d39848eeac3acdc93d19b879": {
     "views": []
    },
    "36cc78bc94834f8187268abd204607ab": {
     "views": []
    },
    "36e01337cb144a31bcc5323fb9306fc7": {
     "views": []
    },
    "36f96391b13140ae9f16ecbbb5b9a135": {
     "views": []
    },
    "3701843de80d456f9c4fcf9be4651e73": {
     "views": []
    },
    "3748fc2a2e854d96b986d4c8517466be": {
     "views": []
    },
    "378449721d884c7396a089b58108c613": {
     "views": []
    },
    "37b9950c35944e3e812c6a240cbdef5f": {
     "views": []
    },
    "37c19e47e55c4edeb66187cc286cd9cb": {
     "views": []
    },
    "37daaa47676340569fbcc83f242fbf6f": {
     "views": []
    },
    "38311d8d3d604d129168487b706907c6": {
     "views": []
    },
    "387d46f5b4ad4bd6a04b25d64a429ace": {
     "views": []
    },
    "38beb87f106540529752ef66ece00c37": {
     "views": []
    },
    "38ee3dfa36bf4396be0709795a49a263": {
     "views": []
    },
    "38fa5cbe6077424e9568c25e80aacb6f": {
     "views": []
    },
    "390c8982688e4ac0b4398b30b5f6f4b4": {
     "views": []
    },
    "39358bff09844808954d397ac4a7287f": {
     "views": []
    },
    "39ed2db2dd224eb1bb8840ee20157519": {
     "views": []
    },
    "39f7e32ff7b1474f9278dd9c90686503": {
     "views": []
    },
    "3a786de8cc554c6793ee867653691885": {
     "views": []
    },
    "3a8cef42b666471b82f5744421570742": {
     "views": []
    },
    "3ac3f7a4ed4d4cd1b17f8ff9f6e4033a": {
     "views": []
    },
    "3ae0ecfcf3f44e889bdbd6df5ad91b46": {
     "views": []
    },
    "3aee8e23631a464cb9496fb893c0b2b1": {
     "views": []
    },
    "3b2a84c57a5444478b82f165cb1b5cbc": {
     "views": []
    },
    "3b4941967f6546139ec0fd574114cf84": {
     "views": []
    },
    "3b6ff1b01b7d42d194fd0273e6567bb8": {
     "views": []
    },
    "3b75751aad48425cb71f08f4e5d49865": {
     "views": []
    },
    "3badd44c7845432da2ab4cc362637894": {
     "views": []
    },
    "3c46a8876fca4e81b93c85c7bb1b202b": {
     "views": []
    },
    "3c51e2c9bf004aa6a6933c34cc2ac74b": {
     "views": []
    },
    "3c5af2b7efe94eac9b47908dacfaf80c": {
     "views": []
    },
    "3ca6e16010414677bd16a58016971628": {
     "views": []
    },
    "3cb1cc21e0b14f979a5b0769b76cec43": {
     "views": []
    },
    "3d12440030f540558abc8e00ab478f79": {
     "views": []
    },
    "3d2b74393232440aaff8accb4fce0ae8": {
     "views": []
    },
    "3d46ab4d95394193b31eba4b1d661e88": {
     "views": []
    },
    "3d7b489378174239954e7e134f299d72": {
     "views": []
    },
    "3d7da89068b84791b28d46fb60f8e56d": {
     "views": []
    },
    "3d7dfcda0bae45b7bbe254142e4ffe62": {
     "views": []
    },
    "3d80dc85780e409093869a2bc97a2129": {
     "views": []
    },
    "3dd32155239e47738c7962a54ba9cba9": {
     "views": []
    },
    "3e03d992d23a4e5c9f072c48af13fd14": {
     "views": []
    },
    "3e04cd844ce34290a1a50d3d48eba9c5": {
     "views": []
    },
    "3e11ac3cc4334e3e9ed6f765122e391d": {
     "views": []
    },
    "3e244e9aa6cd4ffb927c10f9d58ea97c": {
     "views": []
    },
    "3e604fc46df8478bb3299680c3f176ff": {
     "views": []
    },
    "3e758b184d0648c78d31747cfd35f374": {
     "views": []
    },
    "3ea7b2187f684846b188ada77d60de45": {
     "views": []
    },
    "3ea7eac8354f48febe3b14a777c39df4": {
     "views": []
    },
    "3ed7d806f07e43a79ab42c560d5fb94c": {
     "views": []
    },
    "3eea735917704e6780f749911d3ed849": {
     "views": []
    },
    "3f087dac5b1a41d397f14c98c5ababc4": {
     "views": []
    },
    "3f45aeea86554d989d61f0488b55a1d8": {
     "views": []
    },
    "3f7b082151834fa9bf0c1b88c868ed10": {
     "views": []
    },
    "3ff2bc8eb40540cbada9cfdd9f394651": {
     "views": []
    },
    "4030bf8e5c0547b6a8c338d279bcddfd": {
     "views": []
    },
    "403e607d394b4f5e8aa5a089fb238563": {
     "views": []
    },
    "404335e807614617900ba7da5ca5bee1": {
     "views": []
    },
    "404fcfb1d0a7456aa8166d1063047609": {
     "views": []
    },
    "406b112a0f984834a0442aaa00b3e5bf": {
     "views": []
    },
    "408cf4553b2e4366a61754a40dbef75d": {
     "views": []
    },
    "40a0dc9dcfbe4bcd84f052521bc982a8": {
     "views": []
    },
    "40a95d3aa49e4d3a95ef9b9b23d5331a": {
     "views": []
    },
    "40af0475911a44f897054a935fff4d50": {
     "views": []
    },
    "40d8ee30d5a0451ca88d829d6ee9b82e": {
     "views": []
    },
    "40e54e78bd824ac886f541b8bba684e9": {
     "views": []
    },
    "40f514e7ebd94da08bd45ce91a23f996": {
     "views": []
    },
    "416a430aaef64976aecc01c465be445d": {
     "views": []
    },
    "419db28980b04486b8a3d70cc2b92ed3": {
     "views": []
    },
    "41fb56c4b33040d681f371612ac3cc9d": {
     "views": []
    },
    "422cdd56a84946559c6df3f6e5d4b358": {
     "views": []
    },
    "427b264dbe174956a1cdb4e7e850d824": {
     "views": []
    },
    "428069e631dc47d8b5e8bb7ebfc1cc92": {
     "views": []
    },
    "42ce113ed3c14438b8b7b263d6b143e9": {
     "views": []
    },
    "42e8ad83421d4fccbe0226d9358e26dc": {
     "views": []
    },
    "42fcce012ae945e996045c3d48899224": {
     "views": []
    },
    "4369ac094db74525b47c794259640c34": {
     "views": []
    },
    "43c5091059ca411aad39d635ba35075b": {
     "views": []
    },
    "447b1be787c64002908dfa2211ab944e": {
     "views": []
    },
    "44a8f7c322934c86bf9fe44ee66e0804": {
     "views": []
    },
    "44c13f29247c4cc1b6777f071784d130": {
     "views": []
    },
    "44c6de585c6442d38c5d3ad69919c4a4": {
     "views": []
    },
    "44d120c24a3647e6a9afc0481fdcc143": {
     "views": []
    },
    "4578e30b81d248b78b046023b09d9efe": {
     "views": []
    },
    "4581d993fc8b4fe68263b3f9a36695b9": {
     "views": []
    },
    "4582ba6b6aa74ec6ae2701c3805fcd24": {
     "views": []
    },
    "45df1005c16b45448f33ccfdba3c8737": {
     "views": []
    },
    "45e58bec6b1f43c7881437e74e22f474": {
     "views": []
    },
    "462cfdeb593a4def9690fa3d1e7e14ad": {
     "views": []
    },
    "462f5f1921784d62853742ee75afad3d": {
     "views": []
    },
    "463bf8d414df4eb497cd959b65e2e355": {
     "views": []
    },
    "464c5afa295f42a2af06c7631faf8075": {
     "views": []
    },
    "464ee6cebdca4e7fa12c70bc2efd6573": {
     "views": []
    },
    "46a3904f139642f8821a5c01ad793cad": {
     "views": []
    },
    "46baa4e3942040629f3378f8c9d3f22f": {
     "views": []
    },
    "46dc70c5af0148728225331d1191a87d": {
     "views": []
    },
    "47462f94554549bc99d629d6bf31ef61": {
     "views": []
    },
    "47559d6b93a84b42ae7bd60d210d8ddd": {
     "views": []
    },
    "4755d81b3a7e4accab9376bb333f2c38": {
     "views": []
    },
    "4761a80f6caf484d95f58c25b057df14": {
     "views": []
    },
    "476b73019f4f455abf1f39cbf9b4d7c3": {
     "views": []
    },
    "47f12213c63c4866a629b401fed1da73": {
     "views": []
    },
    "480f1f6c7eb4473ba16b9230cffd53cf": {
     "views": []
    },
    "481bd8778e2f4ceca9bc6990eabf6c34": {
     "views": []
    },
    "4823b4bc2ce54af8961aa41f96434bb9": {
     "views": []
    },
    "482e5d0e9b864485ac83ff9dcdc43b4c": {
     "views": []
    },
    "4843e325b06a41a18ca17cf88f0f8cea": {
     "views": []
    },
    "48464f20e53441238a32c06bba51f588": {
     "views": []
    },
    "48a8c9aac9a647b695cff16adb81726a": {
     "views": []
    },
    "48e337bb57c94c1ead1f70072575cc82": {
     "views": []
    },
    "48ece45ca6234893bfaceebfd81373d5": {
     "views": []
    },
    "495857ef591847d090c1a4ad7b91be5e": {
     "views": []
    },
    "496bc2f7f0844730a798dd2288f19643": {
     "views": []
    },
    "498c665d5ae44772939ead14dfedc20c": {
     "views": []
    },
    "49c269da0ef94eb49cb6aef7a5b21b1a": {
     "views": []
    },
    "4b08879f09b94817891393991b28005e": {
     "views": []
    },
    "4b64b7dedc8e482db100220713297971": {
     "views": []
    },
    "4b87bb4c7ec34873a04c24a773197186": {
     "views": []
    },
    "4bba99156022442083ae63d6c4f43170": {
     "views": []
    },
    "4c7df4babd2e4077bc2f6a642c8d9e4e": {
     "views": []
    },
    "4c8a7b05cddf46bfbb9ae636cba43b6b": {
     "views": []
    },
    "4ca1697374ee4bfb92c252840cf2bf31": {
     "views": []
    },
    "4d06231262b744fb94690c82790d6665": {
     "views": []
    },
    "4d22b2ef13bf4546aa3e96769b8fb1b9": {
     "views": []
    },
    "4d3d5a052fbe4dcabb3703147541b854": {
     "views": []
    },
    "4d4f97142a544bbb9b8e2f2b5c403aae": {
     "views": []
    },
    "4d60a546ef8941c79b4b277b7bf6bf09": {
     "views": []
    },
    "4d7b799c41054ffdb2466a7a9abff627": {
     "views": []
    },
    "4d808ff6611c4f2997a941458b5fb55b": {
     "views": []
    },
    "4d896513b02e4841bd015b86ad00d580": {
     "views": []
    },
    "4d9d59f23e5047c9aac5263ca37fb745": {
     "views": []
    },
    "4dbfa3a8447f4eb49f8299fbf3a36055": {
     "views": []
    },
    "4df354cfd8ee464bb6c7c2d748565f27": {
     "views": []
    },
    "4e39071740064b7aa1629ed8038d3e6d": {
     "views": []
    },
    "4e681fa85be0462793a3defc179b6063": {
     "views": []
    },
    "4e98b2810ecf4ff8ace0885e1db924ab": {
     "views": []
    },
    "4f2d25cd25854d5e867f173e38f39216": {
     "views": []
    },
    "4f57b047e19a440a852831a7b10073c0": {
     "views": []
    },
    "4f833d1b90b6479597447bca137a3fe9": {
     "views": []
    },
    "4f9afb569f7c4970aed1f4e0cd78be6b": {
     "views": []
    },
    "4fcfbdbbaefe4d538b611f8b19b22bda": {
     "views": []
    },
    "4fd3713bc1f04bfa9f2e3cb57ce9f187": {
     "views": []
    },
    "4feb4d08350a45b38706c11433c143eb": {
     "views": []
    },
    "501c270300e84e1d96e9b8c00251efe3": {
     "views": []
    },
    "50c7dfdfaf30442ea627a80679a2ba37": {
     "views": []
    },
    "50cf993218a14e218994665a961110d6": {
     "views": []
    },
    "5199a47633ac456aaa5d143809ef2181": {
     "views": []
    },
    "51c6fe129bf0459bbe3c752500519f56": {
     "views": []
    },
    "51e797ad28834284bf2f97b67d5d86c1": {
     "views": []
    },
    "52166ce8a91046438f42247332f9deed": {
     "views": []
    },
    "524e7acd442649cf9aeffc1e9ce4d4a5": {
     "views": []
    },
    "525ab83d2499496594ea53532d240e0b": {
     "views": []
    },
    "526f8080f2164ec1bb3976ad8abc0961": {
     "views": []
    },
    "529962f7b2e344c6ab1ae38c8db3f115": {
     "views": []
    },
    "533158c25d664900b4adc265c5dbbfc8": {
     "views": []
    },
    "53cf2e328dc44c86ad6754ef8dc4db42": {
     "views": []
    },
    "53e05dbd7e394b59ab5a989e832ee662": {
     "views": []
    },
    "54867f81713e49b7b43bfd6cf4036f58": {
     "views": []
    },
    "5495d8a9cb4847d1859ec31ae5c7f5b8": {
     "views": []
    },
    "549936f70346442fa5260563ef83be9a": {
     "views": []
    },
    "54b85134402c4404a32f6ff5f8da4264": {
     "views": []
    },
    "5592e6e4a4c14612977f73bcb4e25ae4": {
     "views": []
    },
    "55cdb7abf2e64c769b3c9fb8f25c0828": {
     "views": []
    },
    "55f7e82b4ac04ebdb4f03040cbb67560": {
     "views": []
    },
    "563e67bab37c4a04b6ba7e6212f35358": {
     "views": []
    },
    "56791872463541238a0931f969e8477e": {
     "views": []
    },
    "56832abb90014070a086a5c1cf19bfa0": {
     "views": []
    },
    "56b6e01c8f0946ca8815966a486f0a5b": {
     "views": []
    },
    "5758ec9bc2344265b54db5e78ca81098": {
     "views": []
    },
    "57738c7f2eb84db39eee3e8ae47d457e": {
     "views": []
    },
    "578b5bf40fec4660a35c014050f03023": {
     "views": []
    },
    "57ce43fd6854499384827ccacc6ea336": {
     "views": []
    },
    "57d25d27ba854bdda7c2aa5520b7d740": {
     "views": []
    },
    "57e5cdf9c1224ad1b9a34184d1fabcbf": {
     "views": []
    },
    "5815b807b95e4dfe9443c6014578129d": {
     "views": []
    },
    "584573a9e90d46d4a20cfe4b491b47d2": {
     "views": []
    },
    "58ae5da0eb62425b8853ad53768d7071": {
     "views": []
    },
    "58e1e612ee0849c5a64f90cc53cdd56f": {
     "views": []
    },
    "595c26ffe03941788e429df71565b1d7": {
     "views": []
    },
    "595fee0c9d0143ab8e5349b054ac1989": {
     "views": []
    },
    "5a02afc262be43ba8b1fb147f14e3986": {
     "views": []
    },
    "5a0c3d93ad3746f38bc72b48a2ca0d9b": {
     "views": []
    },
    "5a4a7e3d1160450fab03b37810f154f8": {
     "views": []
    },
    "5a558aabbe0045e88fb4c64ba5843350": {
     "views": []
    },
    "5a8d7dfb4c3b4931aaf8bff5fb03a1bf": {
     "views": []
    },
    "5ad1e97db2ae44a888caaa0af16e9ea5": {
     "views": []
    },
    "5ae629e5249a46189a58dec02b4f3772": {
     "views": []
    },
    "5b6dd19ba30744fb8f50e7c93c714ded": {
     "views": []
    },
    "5b7cd05a6a2a4fd585d24f052ca154cc": {
     "views": []
    },
    "5b9ecda505644008aabfed6cc334261f": {
     "views": []
    },
    "5bc3c846bcb2467fb9daa3e9a2d74546": {
     "views": []
    },
    "5bd2d14d725448f79835091306167bd1": {
     "views": []
    },
    "5bd35aa4997349a2b1044cf710f16f0f": {
     "views": []
    },
    "5bd4ea49251c4bfb8dcda96d99ee1e23": {
     "views": []
    },
    "5bdc07ae7f3d4d88882e0f18f0905ae3": {
     "views": []
    },
    "5be2b090b6ce4250a3cc5e4142bdfe48": {
     "views": []
    },
    "5c1948ebe16843c7a8a39a1eb7830287": {
     "views": []
    },
    "5c5f68cc5d484b3f9a21dad8a8fd0390": {
     "views": []
    },
    "5ca41f9512ba4f618ae3851d63b0a04a": {
     "views": []
    },
    "5cabbee6f82a4fafb980853526dfe088": {
     "views": []
    },
    "5cd0d85eab454a0f999d6a26ceb97acf": {
     "views": []
    },
    "5d02eaa60a9a49179ac3cd2776462b59": {
     "views": []
    },
    "5d477ee5520e4f66a66760e7d2f13cfb": {
     "views": []
    },
    "5d5f6758a3a448f5b4d77cfa2b6486cb": {
     "views": []
    },
    "5d6a429cba63463096843a9bd566471d": {
     "views": []
    },
    "5d769d7a38ae4b278926941e7c1228fd": {
     "views": []
    },
    "5dae915ac2cf45c091b7e59d0f4b6405": {
     "views": []
    },
    "5e06a538a12b4822a2996346258e7c77": {
     "views": []
    },
    "5e52315212ce44039a9e46a6df59303b": {
     "views": []
    },
    "5e763565cecc4364bfcca1e7aec891da": {
     "views": []
    },
    "5e924be47bbd4c8c87f0ddbc2feeb900": {
     "views": []
    },
    "5ed421e050f948c0919f07e759458082": {
     "views": []
    },
    "5ed9997cb98a4581aaeab6cf5454ff4d": {
     "views": []
    },
    "5edb746928a24049b4023f1c84951b00": {
     "views": []
    },
    "5f27c594fe264f31a43369ca32a875ca": {
     "views": []
    },
    "5f39ff8568b14516919bdefa8002858b": {
     "views": []
    },
    "5fdcaa69f1a84b49a5780ae03d4228e4": {
     "views": []
    },
    "5ffc39fa45d5429eb298147f8357327a": {
     "views": []
    },
    "60821d266d474c4184799fe27366eb21": {
     "views": []
    },
    "608b5a781080449aaf29673cd31bacd4": {
     "views": []
    },
    "60cd6ea423e84f0eae47acd4be1a6fe5": {
     "views": []
    },
    "611e8d8d997946cb96360c6f5fb875e6": {
     "views": []
    },
    "614c611cf9a94021be04619af5d2bc4e": {
     "views": []
    },
    "6169e1c248d5415ba95a4f8ca2d7c58f": {
     "views": []
    },
    "6175edd1d4634736b8d6126263bdd76f": {
     "views": []
    },
    "61b8ca1351444965a8fad969b4392ce8": {
     "views": []
    },
    "61bdb13757644c45bc8289f6a602d646": {
     "views": []
    },
    "61e7bd980e7441f5a55c28abe597ade3": {
     "views": []
    },
    "61f3663d9b354a3f9cd6a3cbbff67a9f": {
     "views": []
    },
    "620974db513b4aee8bf47d33f0f66157": {
     "views": []
    },
    "620e9ee902fe45adbfb5e0b8adc78d75": {
     "views": []
    },
    "621b8637b68843ad85ba8fc4acfa85ee": {
     "views": []
    },
    "6245e9449a0c44cdb50e2555d18c513a": {
     "views": []
    },
    "6252f94cdfaa4874aed367e3de6a9f75": {
     "views": []
    },
    "62868af581dd4ef5b22f62ed64feb016": {
     "views": []
    },
    "628d291f6a2146698a5eb2693f88ff24": {
     "views": []
    },
    "62987dc8343a487e885fcdfd240978b6": {
     "views": []
    },
    "62b59bf4749249bdb528d4b4a9b8270b": {
     "views": []
    },
    "630624ec9b6f466ca8c14f2d01f3e045": {
     "views": []
    },
    "6328d105dd6f47c5887c526d232dc7a6": {
     "views": []
    },
    "6383241585954a8da4f403bdbccbe05f": {
     "views": []
    },
    "638675d422264249b71875c070359c1a": {
     "views": []
    },
    "63a644f75356434aba1afbb70614dd30": {
     "views": []
    },
    "644d38b280734195b1439b427bfacd2b": {
     "views": []
    },
    "648a168f6ef5461696738193dfea6c71": {
     "views": []
    },
    "64a0133025484bd7b9bd3f41bf8183d7": {
     "views": []
    },
    "651e56d6e34847599e411167a462b2cd": {
     "views": []
    },
    "65388e94baa34c74ac698bf652018c8a": {
     "views": []
    },
    "65c09315e20c48e197df733002fcd15a": {
     "views": []
    },
    "6605e37c41244b50b01e8c930faf4456": {
     "views": []
    },
    "6660017189dc4f5b9be93092887115ab": {
     "views": []
    },
    "66a24fea65ef4ac4bcbdc739a5b1efc2": {
     "views": []
    },
    "66a2df66ffe1470ca76c62b05d062e73": {
     "views": []
    },
    "66d46fad735a489abe3a5f9f7b7529e1": {
     "views": []
    },
    "672e55b804594020af78b9a24d533ee3": {
     "views": []
    },
    "67870e8ffb7f4de8b7d8ab05ade8b0d3": {
     "views": []
    },
    "67e1af1cb79e4b1d806ec04409e7e4e7": {
     "views": []
    },
    "67e6bdd4d1ed400c968239e348091308": {
     "views": []
    },
    "682b55e8c3294d9cb0d7626bfff1db0e": {
     "views": []
    },
    "68489341f8424d7d81991d5a41c0354f": {
     "views": []
    },
    "68640829612d41c28d696e86ff2ba47c": {
     "views": []
    },
    "6882ebdb11ac4d28b46ac77af4a3e2b5": {
     "views": []
    },
    "68a8b84a0acb4c72a64d836e36d1322f": {
     "views": []
    },
    "68d2dcbc45d1408c9eddc271663022ce": {
     "views": []
    },
    "68efdb99aa9a4222b86ba18a5895ca6e": {
     "views": []
    },
    "69261c139d00468596289e85cc69c440": {
     "views": []
    },
    "69312113de40405da411b3ad6a6e58c1": {
     "views": []
    },
    "69a0d418b6ca44afaa72a66c45e38a7b": {
     "views": []
    },
    "6a53570101624ea5b3ec803f5e6ffa57": {
     "views": []
    },
    "6a7d4474e98e40a7ab5c23e83d1f2806": {
     "views": []
    },
    "6a835eb54c2741c9b7d2e3fac0fabda5": {
     "views": []
    },
    "6aa99478487640728b4084e70da93225": {
     "views": []
    },
    "6aafdf8de74a4e7c96f5a61c139a3b40": {
     "views": []
    },
    "6b18b212647c49cd9ba2a2a7e577265a": {
     "views": []
    },
    "6b47e058b88f450493507fb4530ed48e": {
     "views": []
    },
    "6b9924d459b547a1b0b7abf6504631fa": {
     "views": []
    },
    "6bb88525ea0145518c4e73c5f8a75f1d": {
     "views": []
    },
    "6bd6c4879e584ca6b4c85426533da863": {
     "views": []
    },
    "6c7076f9ba9d4b32973cca86c5e518f6": {
     "views": []
    },
    "6c86c6f5acc7458da4f85d8962cda6e4": {
     "views": []
    },
    "6cb0f37bc2784c4d9d0ab70680643b68": {
     "views": []
    },
    "6d16a6be475e43438cc8c144258a6d5f": {
     "views": []
    },
    "6d5e6599cdae4697a3fb67a723c745e3": {
     "views": []
    },
    "6de9afcf91d6464999c63e0d741bfe0a": {
     "views": []
    },
    "6e2cb0b10296446396bfc36fa87a8f5d": {
     "views": []
    },
    "6e8e106096644ec385b79e7084098736": {
     "views": []
    },
    "6e93029d814a4af7a51da95732a677f8": {
     "views": []
    },
    "6e9543203aa849a3a2a2952d2fdf2bd8": {
     "views": []
    },
    "6e9823c65fc548cea5f693522247828a": {
     "views": []
    },
    "6ed8ba365f4a4b8e9dafa1bf0e917e2c": {
     "views": []
    },
    "6ef34001f8ef4ff485709fdbc401c547": {
     "views": []
    },
    "6f33515fb1d24213bf3bb9bdf06685f9": {
     "views": []
    },
    "6f83a5ff302f47a9aa3738b2e0ae7c3e": {
     "views": []
    },
    "705213c7336a4f87803ebd73ed4b490a": {
     "views": []
    },
    "7052af015f49412589b3bb7afcf8c9c8": {
     "views": []
    },
    "7096f7e02c1145f6981b4638d3a78eac": {
     "views": []
    },
    "709b9bf1d7f64186aece3d43715c6cfb": {
     "views": []
    },
    "70e9c632649b45c0bb27f25dd6b7539f": {
     "views": []
    },
    "712f8213ccad4a17826c6b7894640492": {
     "views": []
    },
    "71c9bea58cc146bcb99f28ed252991d2": {
     "views": []
    },
    "71d2b17dbb5c4526b71c883c201cb0ed": {
     "views": []
    },
    "71f493f0eac042dd9aa8547c45bc6b71": {
     "views": []
    },
    "71f81f2f1a6b4798870bf3a6b977a6eb": {
     "views": []
    },
    "722d49667a7a41c687f9ae2edf7c3b21": {
     "views": []
    },
    "72356b3c541d417ea307b9028353db39": {
     "views": []
    },
    "72c09b06318d492dac0e33fc69156292": {
     "views": []
    },
    "72db16623bec4957a9de366bcd371077": {
     "views": []
    },
    "72e5a2a8d74a47bbbd10dfd4c92cce05": {
     "views": []
    },
    "72e5e8b8970a4bc2807e35e6a74ceb59": {
     "views": []
    },
    "72ec2697357743f69a1878738140f124": {
     "views": []
    },
    "72f260922d4c48108be19dd03eccdda7": {
     "views": []
    },
    "72f5d3224ac240618937d5185e1e01fa": {
     "views": []
    },
    "731dc0e2d932437284dbf91c899f562e": {
     "views": []
    },
    "732ea79ba38642cfb8ada004b5b3402b": {
     "views": []
    },
    "7373eee5d8fc4e7fa224c769fd4fb0e2": {
     "views": []
    },
    "738d2a3b308f437281dbf95405c04d42": {
     "views": []
    },
    "74235aaf2b7f4ca399c66b4629122f5d": {
     "views": []
    },
    "745492a9e7bf437fa6ea7cc602b6ad0b": {
     "views": []
    },
    "74a3d82afeb54ac7890f0092a6bbcb5d": {
     "views": []
    },
    "74db7ed3941542269144ff3bcaa11cf2": {
     "views": []
    },
    "74ed5e67333a41dcbff95f00d0120bbf": {
     "views": []
    },
    "75470e03a58d45028ba8e5c8b8a952a9": {
     "views": []
    },
    "758f7e3cc96c4cf8be529f07a7d76dd8": {
     "views": []
    },
    "7599a0db44404eb08dc973a680148b07": {
     "views": []
    },
    "75afcd7479e644c89560cb9489d925e3": {
     "views": []
    },
    "75ba5fbe7d08411b9c96ce9028f04983": {
     "views": []
    },
    "75d399c49b5542228b25e15e46fe4038": {
     "views": []
    },
    "75e76b41e5bd43fcb2d972f0128fab2e": {
     "views": []
    },
    "75ec9180f5d44fd4ab21616b195fc102": {
     "views": []
    },
    "763d73825f594d428cc9927f6cd89413": {
     "views": []
    },
    "765ec0fd562a46f1ae37a1033c0314dd": {
     "views": []
    },
    "76830bc3be4c4d338d9026b46aa1be26": {
     "views": []
    },
    "7743974e2aeb4a169e7cb7d75d802c93": {
     "views": []
    },
    "775180a7f85d406c97c73d1029d1e568": {
     "views": []
    },
    "77c485cf48484917932b37dafad7706b": {
     "views": []
    },
    "77d83f1b3e5246b9b5bfb2313e4a8457": {
     "views": []
    },
    "782e3f7b9a87445fbfa2914225f7d546": {
     "views": []
    },
    "78a2b3a505fa4d63a572f174a54334f1": {
     "views": []
    },
    "78cb316abbc34b7b94d4c32c31407b23": {
     "views": []
    },
    "790f0e3dce7144ac85a605ce5f74e915": {
     "views": []
    },
    "79b51d3d47564f65a0964edd119b372f": {
     "views": []
    },
    "79c82d770eb8436eac34c668e077d196": {
     "views": []
    },
    "79ef14d198034ad5804ee0f1a215b287": {
     "views": []
    },
    "7a10ba0a76a0478598b7a116c9c2393b": {
     "views": []
    },
    "7a32d0c976be4c129dcc84332ca6aa94": {
     "views": []
    },
    "7a5ce5cbd2654cb4a1a78201fc53a511": {
     "views": []
    },
    "7ab5e81e96704882a011b43d23f48e5c": {
     "views": []
    },
    "7b0d2e225a0d4a72afac9408e663cd6c": {
     "views": []
    },
    "7b231315e4ea48ad9bd631aa715c3b51": {
     "views": []
    },
    "7b3968a7729d4746a35eff16a4321860": {
     "views": []
    },
    "7b6a5282cbc644da971de03dd853bfde": {
     "views": []
    },
    "7ba0476c3f894c8299d0c3dfdb6486d9": {
     "views": []
    },
    "7bce88a4e2194bd982beb9ff6420fb9c": {
     "views": []
    },
    "7bedfc970af94f2c8ab63f153f3eadff": {
     "views": []
    },
    "7bf078d9a861425bb81c2b0dfd57dfd7": {
     "views": []
    },
    "7c027794a78b461aaf2ae8b96c6e3432": {
     "views": []
    },
    "7c4acae5dc784aa9a06643cd1702af6f": {
     "views": []
    },
    "7c5d242e5ed540e6be9bfc83b69e0423": {
     "views": []
    },
    "7ceb7a6c155f4367b6c7ebb4a62b1a93": {
     "views": []
    },
    "7cfffab65f81413fb8eaf423a319dd8c": {
     "views": []
    },
    "7d063d21bd144da680887da589818c27": {
     "views": []
    },
    "7d2a57e615dc4a819d26ec300b23c1c1": {
     "views": []
    },
    "7d42bc5ba11d4cacb3c34ace90724160": {
     "views": []
    },
    "7da0d03ed1df424bb65c5f21a1f83bb0": {
     "views": []
    },
    "7db6ab4eb20343cabb4e0d444334084d": {
     "views": []
    },
    "7dd38974fdab40aaa8f3918163b597a9": {
     "views": []
    },
    "7e0f0239025e42c9a0f683971e9e7cf5": {
     "views": []
    },
    "7e222b262a3d4203afadd9ffdae68f7f": {
     "views": []
    },
    "7e2452577e0a48d9b2c6643a935eb1ed": {
     "views": []
    },
    "7f0e094dad444599bf0426a35f7c897a": {
     "views": []
    },
    "7f2b4f323b8c46619cd5aa0f67b7cf24": {
     "views": []
    },
    "7f58fb24f79c4ba8acc824bf4e69b1e5": {
     "views": []
    },
    "7f7a061b054c4f5fb4e6cd089c502afc": {
     "views": []
    },
    "7f8b6158687e45c8a3074eebeded871a": {
     "views": []
    },
    "7fd1e135462148ee87f528b5659c0a6c": {
     "views": []
    },
    "7fda1fce08c442728e9a5fecac09395d": {
     "views": []
    },
    "7ff29b3c05d1410a953aea23b741bf7b": {
     "views": []
    },
    "80165bc76fa04a0faaaa9bdc6dd80aa3": {
     "views": []
    },
    "8021ba361754493a84e9202d18ebfd77": {
     "views": []
    },
    "8024f30f9ab64ed4bf4119ce454fadff": {
     "views": []
    },
    "805d70021ef14a69876a51170527fdfe": {
     "views": []
    },
    "80c925a66d794d7fbdf607c24e71a2e5": {
     "views": []
    },
    "80fe03db8eee438c9bc343e536a48aca": {
     "views": []
    },
    "8117f155b120486aa0d704c81a848f04": {
     "views": []
    },
    "811b5621446c4acd99d40c8424245f9f": {
     "views": []
    },
    "811df7313016437a8a033b2bfca211e1": {
     "views": []
    },
    "813462dcffab479696959d415f0b400f": {
     "views": []
    },
    "8182bbdba8cb489d974315a0e6a1dadb": {
     "views": []
    },
    "81b5c8aeb0d8429db32687da6903e71e": {
     "views": []
    },
    "825bf9ea6ead42269514b122377694fd": {
     "views": []
    },
    "827c258529b44d43a1d99e97b22aea8b": {
     "views": []
    },
    "82b657edbb73487b90d951f7814bbefc": {
     "views": []
    },
    "82d15a79716248c982b37ab773ffa5e7": {
     "views": []
    },
    "831128c2c3e6425f97b02632b0f0d613": {
     "views": []
    },
    "8369f5623e074ff08bda7bf2db4bef25": {
     "views": []
    },
    "83885f147a244677bf216468213397de": {
     "views": []
    },
    "8399b5a8b0a745bf833b457b14c55046": {
     "views": []
    },
    "83b0082d552145d9954ef199d631708c": {
     "views": []
    },
    "83b95965124a4d8d91f2ce769ee02b01": {
     "views": []
    },
    "83c6f330289a4088a74d7b7fbe05a409": {
     "views": []
    },
    "83cfccea47764c0f888ee1a36db84409": {
     "views": []
    },
    "83d34ce238f64065ae6de30e5ddb8380": {
     "views": []
    },
    "83f117ae074e4cbe832b15ed4a239e6b": {
     "views": []
    },
    "84463ba9edea4605a2e99cd31557ca50": {
     "views": []
    },
    "846586e53491470883a3b57ef7038e1c": {
     "views": []
    },
    "849a6869ea0241d48959e2851df59c33": {
     "views": []
    },
    "84b77562c01d44cbb51eedf094645302": {
     "views": []
    },
    "84bfa59c684149c18487b0ebb49eb12a": {
     "views": []
    },
    "84c3aaf5356d4e8e9021f280b55ddc99": {
     "views": []
    },
    "84f9b8443be44f24930ff96f30ed4f7b": {
     "views": []
    },
    "8532e59031464e1489d9bd48cb266d07": {
     "views": []
    },
    "85779a36dfb347beb3cc9e53443ff5da": {
     "views": []
    },
    "857ae619d3624d6281dc6cb53f77d2a6": {
     "views": []
    },
    "8582089003ec407ba74462e7b2996d32": {
     "views": []
    },
    "85ad0dd1d6a24d98b20c1dd491dc72ff": {
     "views": []
    },
    "85c1e8c943d445dba485e648cacd4b9e": {
     "views": []
    },
    "8652cfdb223245108dd914f42a4b9d20": {
     "views": []
    },
    "865d983014a740599754a2688b001f46": {
     "views": []
    },
    "86832ae54e134ddbbe8ecb568c1451fa": {
     "views": []
    },
    "868476c6b4874cefae3a2b360f4bc156": {
     "views": []
    },
    "86f8a1897f56461a86f9db6ad0b64e63": {
     "views": []
    },
    "8709e08583644aa98b89177ea2780649": {
     "views": []
    },
    "8750969b91b944329b0fb5f65edbd130": {
     "views": []
    },
    "87564fc5f53f49afa96b8fa04948d766": {
     "views": []
    },
    "8780db71992e4b49ab25ff0bdf0085d0": {
     "views": []
    },
    "87ac9538c5894661a96e42715e48a763": {
     "views": []
    },
    "87b53ad9dc5d48be980f18226b8e0da8": {
     "views": []
    },
    "87bb7596493540c0a3280dba7c260009": {
     "views": []
    },
    "87fd3e36f74a43639b46451deb0b9280": {
     "views": []
    },
    "8811198ffb4d43e3bacd39b31c0483b6": {
     "views": []
    },
    "8820f6528d064a87a7bd8e7ea659f2c2": {
     "views": []
    },
    "8862b9b3f6524811b0e6b73b0edbf043": {
     "views": []
    },
    "88a1c7399ded4baf8ce1e8a8e5f62e44": {
     "views": []
    },
    "88a9d44852c946c281a44d61d67169d7": {
     "views": []
    },
    "88c76c592bc741e6b4ede84c0964f7b1": {
     "views": []
    },
    "88eea85787ec49fd9f24ad98b6b5cceb": {
     "views": []
    },
    "8952f855a58d4042bf3909501426f1cf": {
     "views": []
    },
    "898164e84a5c4535a484336eeb7fa479": {
     "views": []
    },
    "898a3d28de0b421285f0181121d730b5": {
     "views": []
    },
    "89af22e79c5f42fa843d30e73e1121b6": {
     "views": []
    },
    "89c5ba3bdecd40e38f3c12c77b9e944f": {
     "views": []
    },
    "89f6e3f0bfad49f28a912960e5b9563d": {
     "views": []
    },
    "89fd640e01c7462baa72d91175c6c027": {
     "views": []
    },
    "8a01bfff293145ab9e258f561d0cbd58": {
     "views": []
    },
    "8a19fb184f8a4e04a9b950f4a40f95e4": {
     "views": []
    },
    "8a27b5b5ef9248ad92922a0acabcc447": {
     "views": []
    },
    "8a528a59d6f840cca845deccf63f70ff": {
     "views": []
    },
    "8a7bcbc4c1ce41179ed70309560b0650": {
     "views": []
    },
    "8a805ca28ddc4e5e90d0c90cb798a2e1": {
     "views": []
    },
    "8a84ad16013745299313a1be507166d3": {
     "views": []
    },
    "8a89e416a5294163b5a7915a32ad1599": {
     "views": []
    },
    "8af6d097b53d4777af0d36a9408b75c6": {
     "views": []
    },
    "8b2d3e5c29e449f6b828d7ae3c6f03c8": {
     "views": []
    },
    "8b3a7e7b9ced4a71b68a36c7339f2c9d": {
     "views": []
    },
    "8b669c07f3034d29ab962fc4d9e66f17": {
     "views": []
    },
    "8b66b350aa8a4c1086cc99f46a509a96": {
     "views": []
    },
    "8b775a3218bf436aacf7bf7163344815": {
     "views": []
    },
    "8b80fe79d954409d9d3174df9a6fc9ef": {
     "views": []
    },
    "8be988f650e34177aadd7665dcfeda72": {
     "views": []
    },
    "8c904f0bbbbd47549e95de2c02a0002d": {
     "views": []
    },
    "8c9cb1e300f94eb8b7516f9466124614": {
     "views": []
    },
    "8cc7e4677aa64db9b6fde3f0e90f6b01": {
     "views": []
    },
    "8cca9468269a4bf7a3c1ff6d6603529a": {
     "views": [
      {
       "cell_index": 13
      }
     ]
    },
    "8ce08f2abede42ee8c674083ef40a01e": {
     "views": []
    },
    "8d33aa8477c74b10bd022dc7da111dca": {
     "views": []
    },
    "8d845e417d5c40408fd529d201784eaa": {
     "views": []
    },
    "8da8c0de0b994e5c96e3a22fa87d8c9b": {
     "views": []
    },
    "8db22549e7374f28aabd3a69bae53eeb": {
     "views": []
    },
    "8dbdeaac46b9495c980dcd3de45450ec": {
     "views": []
    },
    "8de55e0bb749473faadb83c89c2dd697": {
     "views": []
    },
    "8df3d4254ab84075a2580d25335063b2": {
     "views": []
    },
    "8e18385a2d2145f8bad52969f14165f7": {
     "views": []
    },
    "8e1b935136ba4bd7a753089ecfeb4e9f": {
     "views": []
    },
    "8e47606e1d1a4b2d956ccbbcc802b7cb": {
     "views": []
    },
    "8e6b97fefde64d38ad519c8bdf9e3a5f": {
     "views": []
    },
    "8e721b8bee9942be9b78755bac6b3ed3": {
     "views": []
    },
    "8efce97218bc4ac195ca67351ced3f60": {
     "views": []
    },
    "8f1ab721fe25495ebcbf2d80ff3e104c": {
     "views": []
    },
    "8f378b20bdee47b9a7fd02dcde43c408": {
     "views": [
      {
       "cell_index": 10
      }
     ]
    },
    "8f4d1112da294cf2afb47eab2bd66174": {
     "views": []
    },
    "8f811b81e0f244439d161ecf3b74a80a": {
     "views": []
    },
    "8fac18678ac84c7f99ba62c569e29134": {
     "views": []
    },
    "9052e18b7908477ba5a5267067d09bc4": {
     "views": []
    },
    "90777c9abc9c4a10b7b4b7550f06d699": {
     "views": []
    },
    "909385fe7b9f437585d2a8178c6aef48": {
     "views": []
    },
    "90c2b192dfec4421a6276b65199f8ef5": {
     "views": []
    },
    "90d69a4cebf74d709ff54d706493e88d": {
     "views": []
    },
    "90fea7babdf54beca7a9260a471753ee": {
     "views": []
    },
    "911c0303a0f348e7a81db8bcdca96141": {
     "views": []
    },
    "911d8c3d8a3e4ad8adbb177dfa129a7d": {
     "views": []
    },
    "915e77d0b71b4d5fac116675c952f4f4": {
     "views": []
    },
    "916f2305aa4742ea8c7523b8e06c438b": {
     "views": []
    },
    "920568067db64561be4af822665bb96a": {
     "views": []
    },
    "920c56755f774ce3b59f0d6e1b406f37": {
     "views": []
    },
    "92160e0b1ef940e2ab56c0f91ce9330b": {
     "views": []
    },
    "929fd39ea6714d31a1034434ce55cfd9": {
     "views": []
    },
    "92bb3e55255e404e8a40a51b36dc8a91": {
     "views": []
    },
    "9320d1642a48424aa0048f6e9eb7471f": {
     "views": []
    },
    "9375be02b3b34cd191e4504caa0569ed": {
     "views": []
    },
    "938c9b998b5a4861a6383926dbcb2564": {
     "views": []
    },
    "9397cf0803b04746bbe14555a09a6a9e": {
     "views": []
    },
    "93a778f0e5e645e19f2bc3fbc0f1c242": {
     "views": []
    },
    "93b7b178daf2473683a71efc035fa71b": {
     "views": []
    },
    "93ef087bc71e4812ade38b40343ffe5f": {
     "views": []
    },
    "940a569130714078b8cf28d82384c2ea": {
     "views": []
    },
    "9423e6ab63d84da0b9a28d1345d931c2": {
     "views": []
    },
    "9445358f59974d50a3c82355a5f50316": {
     "views": []
    },
    "9445cffd044b4dfb841a00185ef1f51d": {
     "views": []
    },
    "9459b83d49a34ae4bfeb2375aed4c62e": {
     "views": []
    },
    "94d982fd14ca4aada0efcca42e0204db": {
     "views": []
    },
    "9548dca4cd9f4178bd9e9dd2f2646b32": {
     "views": []
    },
    "955346e8989d45d08aedb6e7b8146646": {
     "views": []
    },
    "96143db11dab4466b58ff555bfac6ccc": {
     "views": []
    },
    "9663218df52f4af2a5456cff72ae3898": {
     "views": []
    },
    "969998cd12804c4281f718157b35e757": {
     "views": []
    },
    "96ba77846d6c442a833067b4ed8467c1": {
     "views": []
    },
    "96ff86a69f084633bc17b862ceef973b": {
     "views": []
    },
    "9710bbc26ab548b2bb1f0d686b71b39b": {
     "views": []
    },
    "972fa5d297b749038a2b1eea9b3955d5": {
     "views": []
    },
    "9740bfa16138430fa7e52f04462790b2": {
     "views": []
    },
    "978178401fb944c788ec953802575cd5": {
     "views": []
    },
    "97ab0718c7a14707acca104914ed0d1d": {
     "views": []
    },
    "97c38341a33f4a93acc8eaa55c1efdf1": {
     "views": []
    },
    "97cae3703c5a4f73adcee7a9abaa83b3": {
     "views": []
    },
    "97d05bdab5704f459cf5095386ef93d8": {
     "views": []
    },
    "980da911de8142df911320c9a6044cdf": {
     "views": []
    },
    "98f5220432e343ae94d6fa15061c8cd8": {
     "views": []
    },
    "991a794c343340efa6d9fc8d456d06cc": {
     "views": []
    },
    "9930c74bf9e54e58a19937e2e73ecb0f": {
     "views": []
    },
    "9967e5a2f81442baaec710fb049bbad1": {
     "views": []
    },
    "9982e649f18943868dc48f95d920be73": {
     "views": []
    },
    "99c5adc6fae046d1b09124918a8cd561": {
     "views": []
    },
    "99ceb0fc61d44718a1214b959214eb1e": {
     "views": []
    },
    "9a23000573c54e8482bfa66d4ddb413f": {
     "views": []
    },
    "9a344b1f76f74a2ea4cc03b7b7e95a4f": {
     "views": []
    },
    "9a736e9d5a464d27a67eab2b3fa339e1": {
     "views": []
    },
    "9a749784ccba4eeb996a82caabaac7ac": {
     "views": []
    },
    "9a7946e5656e4204abc306eab1b48450": {
     "views": []
    },
    "9a7ec1822ead45849ca7a735e4c3a918": {
     "views": []
    },
    "9acaf6bddd91482394947e5b713ec3f8": {
     "views": []
    },
    "9b09f167b072470d8b7ac8c43a5b3847": {
     "views": []
    },
    "9b2d37baa1da4c2393299c0a7d08aa64": {
     "views": []
    },
    "9b43e816ee634a108f5741c4b92aa29f": {
     "views": []
    },
    "9b6245016e2a488482f796aa4d6c0278": {
     "views": []
    },
    "9b991553d0e44f4989558542f3cd2d2b": {
     "views": []
    },
    "9badcf9a2f4548dfb1a61f7afeb13f04": {
     "views": []
    },
    "9c1dff652e9f4559bb52cd071220c013": {
     "views": []
    },
    "9c6ff80022954009a2e5a4ee1c16c75f": {
     "views": []
    },
    "9cf5ae88eed64e59950298126f36ca7f": {
     "views": []
    },
    "9d111dd60b344e52b95e2230b87fc7b8": {
     "views": []
    },
    "9d2106f9bf324e378257c83af58b0bd8": {
     "views": []
    },
    "9da0e7406b41401b9f75e82b680cf623": {
     "views": []
    },
    "9dbb9e28ef0b4ce993d5fa3890d070ae": {
     "views": []
    },
    "9df1480591c3449bae5491a806e041d9": {
     "views": []
    },
    "9e6631fb8d97458aa655fb238043b019": {
     "views": []
    },
    "9ea48beb1d0c41c6932c3219acc4d586": {
     "views": []
    },
    "9f251a82227e42dfb7f4153474b3a50d": {
     "views": []
    },
    "9fb4769ddd3647099a3066c726746173": {
     "views": []
    },
    "a06ee104250841478a0d72df9fc2a2bb": {
     "views": []
    },
    "a0969088b3554216b82c83035e523aa5": {
     "views": []
    },
    "a0ab7eda87f74b7f9a5d90f54ff47dcb": {
     "views": []
    },
    "a11209a8b9974495ac1e726b40f36ffa": {
     "views": []
    },
    "a12596f889c3411991a03928b8aef433": {
     "views": []
    },
    "a127e566162340f1b128c91421806679": {
     "views": []
    },
    "a13f84e9fd924653a4010aa378ae5917": {
     "views": []
    },
    "a1eea7cfc62d4d9eb63d232cc2132a9e": {
     "views": []
    },
    "a2279331d7fa4f63ab161037b7acdd18": {
     "views": []
    },
    "a24df88cf04c4170892ebec74858dba9": {
     "views": []
    },
    "a278606c80484d45874f720e70da2dfb": {
     "views": []
    },
    "a27fa91b8585426eb3345dfc42fc4479": {
     "views": []
    },
    "a2b17791ec894eabb7f223336608fb13": {
     "views": []
    },
    "a2b972857e394030bcc148de966a7423": {
     "views": []
    },
    "a3543eb4764341a2a4dc1d05ca6d1945": {
     "views": []
    },
    "a36344781e1d4e7aafc96149a8619538": {
     "views": []
    },
    "a38100d15e3249f8917549934080f9f4": {
     "views": []
    },
    "a39ba84b510c402cbfc67e05da9de1e4": {
     "views": []
    },
    "a3ce841f5c4f4c6ca59b729a63fa0313": {
     "views": []
    },
    "a3d0fd612ee6450faa80ec112283c6ab": {
     "views": []
    },
    "a3e146e659dc42fc93967eaf724ab722": {
     "views": []
    },
    "a3e4bf5173c74736ba3f8b3f0f43688f": {
     "views": []
    },
    "a3f3e725f4b04a8bb17da306e168cf0d": {
     "views": []
    },
    "a3f8155e7c2c43e3be82bf28ec132e44": {
     "views": []
    },
    "a3fbef6cab8b41429c2e124f221061c9": {
     "views": []
    },
    "a443d33069bb445994166389e4565ad5": {
     "views": []
    },
    "a4b17fb9606c497b878edb3291ed1b73": {
     "views": []
    },
    "a4c918b801f2463bb7ff2a12e9a28e71": {
     "views": []
    },
    "a4e206ca6b60486c979256a0a720033e": {
     "views": []
    },
    "a5379d8542a84619b789765fdca47828": {
     "views": []
    },
    "a574197cd9024191a612019c25cf0432": {
     "views": []
    },
    "a5d907b405204be08c08ed7dca785bf4": {
     "views": []
    },
    "a662a74ebec84a879afedf40f0c23137": {
     "views": []
    },
    "a66bdba7622a4acca39fedbabc4c32a3": {
     "views": []
    },
    "a68c5e7345b74055b970ea8c39767fbd": {
     "views": []
    },
    "a69534fb7eb54ae5918980edaad1adb5": {
     "views": []
    },
    "a6f8d6e6762b44d0ae354606b566ede0": {
     "views": [
      {
       "cell_index": 16
      }
     ]
    },
    "a7957242490f4e74b5066594a809cdc7": {
     "views": []
    },
    "a7a504133ca94420a07dbd9f73c44cb0": {
     "views": []
    },
    "a7d247e016984b86948e2369c1ddb0e2": {
     "views": []
    },
    "a7e7e08e1e684464bbc1c41ce9c2b344": {
     "views": []
    },
    "a80ddcc526a34c5c8d3330772a19e302": {
     "views": []
    },
    "a84781a8b65a49889d8cef5e0cfdee02": {
     "views": []
    },
    "a8581cb27f7249c7a26a5c5f18d6e1b1": {
     "views": []
    },
    "a887e3cabe2947008153a8201b137096": {
     "views": []
    },
    "a8a7d4211feb485fabf2513a2f1e242e": {
     "views": []
    },
    "a9591ad543f74499a597d9d36fe06f44": {
     "views": []
    },
    "a9ca7a136fe743ada71cd14139d51a89": {
     "views": []
    },
    "a9ea980c26ba4497869ccc781fc75828": {
     "views": []
    },
    "aa106cb7ab774e0fbbc9629abd69d414": {
     "views": []
    },
    "aa19e777f9e44a92bc606eb77e83b6d6": {
     "views": []
    },
    "aa8b07ceb68e430fb10e728c841731c8": {
     "views": []
    },
    "aae75810b6544d6ca2631593887ad4b2": {
     "views": []
    },
    "aaeb0250ef5e4f2bb2f938563d925f0e": {
     "views": []
    },
    "ab7bdace76724f44a13bceb2cb3bf7a0": {
     "views": []
    },
    "ab9cb12833f44f7c8f11021975ea6bbb": {
     "views": []
    },
    "abe9a03599a349ddbec9eaf700b97851": {
     "views": []
    },
    "ac3562306c234727afe5dcf46bc24492": {
     "views": []
    },
    "ac3742cb497f4a679a775bcf95bdaaad": {
     "views": []
    },
    "ac971c2f301442219a91e7515b701192": {
     "views": []
    },
    "acb0a16c4e084512bcf5692972b565d1": {
     "views": []
    },
    "acccb40e6b7e46b8bfca3e75f63f0759": {
     "views": []
    },
    "ad0c106145604b8391d8f28664ef2059": {
     "views": []
    },
    "ad2c271eadba4b11af394f7a21a7185e": {
     "views": []
    },
    "ad5ebfc80c3f422f865d1a0d08df66ca": {
     "views": []
    },
    "adaeefbe35194210b995cf3d3c084238": {
     "views": []
    },
    "adbaf655e5e549ebbfd257910656c68d": {
     "views": []
    },
    "ae0a9ce454214b0b8ac7a9860ac2c5c3": {
     "views": []
    },
    "ae30f975f0f040c396ef463cc116f9cf": {
     "views": []
    },
    "ae3ff809d59048518652edc59af0c05e": {
     "views": []
    },
    "ae8b50fe443f42a38fa79185f45bdfcb": {
     "views": []
    },
    "aea9525e4f514e02a888287a5e5f3dbf": {
     "views": []
    },
    "af11f78e024d493a8447fb1da883fdf0": {
     "views": []
    },
    "af330379a32c4d03b702d69c870d4abd": {
     "views": []
    },
    "af6f098118ba4b43a8c8744b7dc5d581": {
     "views": []
    },
    "af6fb58b4baa431583c6a0eaaf275c21": {
     "views": []
    },
    "afa6f03f727442019b0eccca44ca81eb": {
     "views": []
    },
    "afd00ab0eb244f239ba14b44853654c8": {
     "views": []
    },
    "afd68e111c0e41b7a16b79bd5c000e8e": {
     "views": []
    },
    "b0000d3ac8454750a89a2730a5716326": {
     "views": []
    },
    "b00d12290b9c422a862f2e0bc52bcfcc": {
     "views": []
    },
    "b00ffb6aa1c94bf19f1fe2438cf686d4": {
     "views": []
    },
    "b01d7b587d6b4ad185a95c481d8d9c97": {
     "views": []
    },
    "b055ecdf9fb14f348411adf7eeb051f5": {
     "views": []
    },
    "b067de3eb8fb41d38ac0a64f5ef84ffa": {
     "views": []
    },
    "b06f8159f607481098c19595422af9da": {
     "views": []
    },
    "b0fdbfa6b68541d8bf6d4625b4af5188": {
     "views": []
    },
    "b152862d800e414ab480ca61279077bb": {
     "views": []
    },
    "b1533ed9912e4218ae24b99eeb8eae87": {
     "views": []
    },
    "b16acf7d152844bf978d656ec67aa72b": {
     "views": []
    },
    "b1701fd6af2a4199ab15f8b0e42f3756": {
     "views": []
    },
    "b18d279cf90b45d98b6e05b4f3c3e6fd": {
     "views": []
    },
    "b27551d8ccf7435c9a629c1c7ec989b4": {
     "views": []
    },
    "b28a409dbe3c453290d6ad21d48abc4a": {
     "views": []
    },
    "b2d2b8454df24742a2e97236c0cef9a4": {
     "views": []
    },
    "b2e8070772d847c2b353c67462c476f9": {
     "views": []
    },
    "b308df1c5f604a24823c5571d95df680": {
     "views": []
    },
    "b34f399e97a242289d842f5bf5f5af1b": {
     "views": []
    },
    "b37bade6098142d4b51b87963e708d00": {
     "views": []
    },
    "b40ee71e99344e7392c03d5e360e6399": {
     "views": []
    },
    "b412545c025c49b6a9fada14680f8bef": {
     "views": []
    },
    "b477718f79d040f5b01163e1abf8e11e": {
     "views": []
    },
    "b4a85da7407b44c2be6da98af26d8fce": {
     "views": []
    },
    "b4e58b06d2e54b4986149c177b63f879": {
     "views": []
    },
    "b4f5f25e652a4cd4ac795083112a6a60": {
     "views": []
    },
    "b531210326fe4144bab4878de1de1d94": {
     "views": []
    },
    "b585048f60fc468b8c398f9fbe3ea19f": {
     "views": []
    },
    "b5bf02c2b077419e8cd5dd03b3cfe716": {
     "views": []
    },
    "b5de21af52d84560a31c4dbed335e88b": {
     "views": []
    },
    "b5fad125036747cbb751376203c332ea": {
     "views": []
    },
    "b5fb5bfeb4f74104bcf5d56fc92cdefa": {
     "views": []
    },
    "b64a501f5f7f400fb7b4798ea2bc47ce": {
     "views": []
    },
    "b6d57d43453643e3b8cbca439717f90a": {
     "views": []
    },
    "b6fb316034184f09950ec2099571f95b": {
     "views": []
    },
    "b75eaaada15344d3bd68ae9152fe509f": {
     "views": []
    },
    "b783cf8783ff4ddd9a818ba322c915a0": {
     "views": []
    },
    "b794ea7e450a4de3be1c30dbe580f4e2": {
     "views": []
    },
    "b7df8ede55064b51812fa0996889cc49": {
     "views": [
      {
       "cell_index": 31
      }
     ]
    },
    "b84f9d37e44f4c488c5f543af4e99560": {
     "views": []
    },
    "b87536ae78934bd099634be5933b8a0f": {
     "views": []
    },
    "b885727aa01c483380710b19bb0391c5": {
     "views": []
    },
    "b8ddfb1ca47443c1b5b4fb27c72298e0": {
     "views": []
    },
    "b8e79744babb43068a64295be2a18423": {
     "views": []
    },
    "b8f3f732646e4197840cc1afb64de012": {
     "views": []
    },
    "b92be60726cf4cbfa54b96f17fa963a0": {
     "views": []
    },
    "b9a896b647c54c49824950aa81cee27f": {
     "views": []
    },
    "b9ea08a0344b411ea8a56e48b7b58ecd": {
     "views": []
    },
    "b9f1599e587d4c009060753dcb312489": {
     "views": []
    },
    "ba4b9b94dc27494ea847b96a920e58f8": {
     "views": []
    },
    "ba7e2f09bf8e46dfbee0c8623f620397": {
     "views": []
    },
    "ba89d389e4464505a0a9557b61086636": {
     "views": []
    },
    "bafe0dbf0ef0485e9928f04894d8e5a5": {
     "views": []
    },
    "bb417f46dbdd4b9dbcfbb0d05e12e45d": {
     "views": []
    },
    "bb5379d6905d42d69d655b2797ecf648": {
     "views": []
    },
    "bb59744a299147739cc5e2db7f56424d": {
     "views": []
    },
    "bb882d65851f411a87834928ae2c027d": {
     "views": []
    },
    "bbcf0d9002ac4a3fafd5ca17ba844e71": {
     "views": []
    },
    "bc09f2fbb02a4ba596dde8d83ce2125a": {
     "views": []
    },
    "bc3544f5e84a4ad6933f76d0f7bd86cd": {
     "views": []
    },
    "bc7029f0b5b746d8911dc50d4d245878": {
     "views": []
    },
    "bc90b57b08a34fb2ba0f218755159957": {
     "views": []
    },
    "bd0fc9d593274ce68eeab39cb6897df3": {
     "views": []
    },
    "bd4367600b5d4cc48241253f0cadd80c": {
     "views": []
    },
    "bd5229e5dccb4a398b3bfc5c9cffcd61": {
     "views": []
    },
    "bd6a9cd12ab647b69173cacec4b75a21": {
     "views": []
    },
    "bd77c4b55047444a96e59e5f4c57c6ae": {
     "views": []
    },
    "bdb2d09e5ead495ea278ae381a092f3b": {
     "views": []
    },
    "bdb6ae49b6f744f9ae3e2fb5ebe7e50e": {
     "views": []
    },
    "bdc7de4c53504d559e7468333d41d475": {
     "views": []
    },
    "bea0086c0fe749ea919355b903de65ad": {
     "views": []
    },
    "bec2ddd2fd664f5b9472f0b972ad4689": {
     "views": []
    },
    "bede5c2751404070968b2dba8c2d073a": {
     "views": []
    },
    "bf08f751a1684eb1aa65c543a2b86a38": {
     "views": []
    },
    "bf61276e923447a7a417e8f34e9c77b9": {
     "views": []
    },
    "bf75733f1b374ef8a950fc3739cc917f": {
     "views": []
    },
    "bf93585b5b424d5b81e448e6bd081668": {
     "views": []
    },
    "bfc195aa592e40c2802a3bf329cfb917": {
     "views": []
    },
    "c0221b02183243d3abdcadf49171c75b": {
     "views": []
    },
    "c05461daf21148959e2625be584c2b3c": {
     "views": []
    },
    "c0679a793b924326a1a9ac9a02c01caf": {
     "views": []
    },
    "c09851e2e708438b83ec1027b4bdd62a": {
     "views": []
    },
    "c0fc93d792af445e81c3dd7eb7044eef": {
     "views": []
    },
    "c103313b897847418855472c0ad848e0": {
     "views": []
    },
    "c18c8689f79b42fcbdfd8419628f3ea0": {
     "views": []
    },
    "c1932f3c59534d92874af40ef07be57b": {
     "views": [
      {
       "cell_index": 58
      }
     ]
    },
    "c19679f4a48f46289f3307c769e045ac": {
     "views": []
    },
    "c1a1f418d49641e69ae5443c34b558df": {
     "views": []
    },
    "c1af86907e7a4599a27c0ea9f309b881": {
     "views": []
    },
    "c243ba3d72914ae7802f1920c9a6e261": {
     "views": []
    },
    "c24fb8aaee01491dbc67837c9dc34974": {
     "views": []
    },
    "c265689a671946198c98901b8dc50e31": {
     "views": []
    },
    "c268e1c499a24a118357f7531066a2a7": {
     "views": []
    },
    "c2736a587e32490eaa73ef9784eaeb57": {
     "views": []
    },
    "c277fe2719ae4b1e81bb276fca20bfdf": {
     "views": []
    },
    "c2a3d25b896b490287465ab131d26f9b": {
     "views": []
    },
    "c2c151c2d5b249679a23f996adc8767c": {
     "views": []
    },
    "c2e0d6f24e744416892a91bc5ffab5dc": {
     "views": []
    },
    "c38fc9680208497fa463663b81e34713": {
     "views": []
    },
    "c3afbda3938f43a8b4ef28d9bea1485d": {
     "views": []
    },
    "c3d61eb95bbd483b894a53cae7c5913c": {
     "views": []
    },
    "c3f47b941d3546d49eaaccb979133c7c": {
     "views": []
    },
    "c404f3f5821b4d11a4524fd1d0ced622": {
     "views": []
    },
    "c43b4cb6a85b444ea96ee8497772ed89": {
     "views": []
    },
    "c4470e3b497f4c699ad07497bbec6b56": {
     "views": []
    },
    "c4b1b69ddf7541dba2cceb7beb08bdef": {
     "views": []
    },
    "c4df642f225a4dbe846a514727269db5": {
     "views": []
    },
    "c4e4013f034f42eebdb6be1d70d89e8e": {
     "views": []
    },
    "c4e95605150f459bb9defe0958560c03": {
     "views": []
    },
    "c5563410f84c48cd8eea7fc4d3b99569": {
     "views": []
    },
    "c59ae1305d1c4d00a16ad2ceefe9c395": {
     "views": []
    },
    "c5dc3c4eeb3c48348e2a8f168b4c537e": {
     "views": []
    },
    "c5ddcba1da6a434299d8e61edbf71ebf": {
     "views": []
    },
    "c5ea9cc0a53a4aa6835a704634584c84": {
     "views": []
    },
    "c609b826c5854ffca193db662c87d0d8": {
     "views": []
    },
    "c61d8314c83d466d9048729d5e1fa370": {
     "views": []
    },
    "c63a00e1e23e47f496c90c996ad855c1": {
     "views": []
    },
    "c679e3ecc12c415facc3c918099c30c1": {
     "views": []
    },
    "c67b0b7405dd4f939608a869c1549003": {
     "views": []
    },
    "c67d50516167412a9b7bac45a1a98155": {
     "views": []
    },
    "c6dbf75caa3c435fb777c0a20d2fead0": {
     "views": []
    },
    "c6e03511275546b7951af76e3ce4f5e6": {
     "views": []
    },
    "c6e28e617f9147399c4675e69f07a2bb": {
     "views": []
    },
    "c6eedb20f9504d2fae2c806c13e6d2b9": {
     "views": []
    },
    "c6f2ce2df27a4cd7baf804ec77ba47c2": {
     "views": []
    },
    "c70c52b19d804dbdb8ed55a73f56f954": {
     "views": []
    },
    "c7262cc907934fc6935329f38f37c6ce": {
     "views": []
    },
    "c7aa558b95774ca9a60089aab357b976": {
     "views": []
    },
    "c7d698a4b52c44269a0ba1b52376a13d": {
     "views": []
    },
    "c7ec310cbe53435891044493007c040d": {
     "views": []
    },
    "c7f96d8e01f440a3bb504ac6adfb07a2": {
     "views": []
    },
    "c8256edc89224da5a116c1d2d87f2591": {
     "views": []
    },
    "c87695a044394bcebc0dc73c11c0e639": {
     "views": []
    },
    "c886ca6107ea498c968f2aa6558b16af": {
     "views": []
    },
    "c8ae0744797a46e2a412bb02dc88da46": {
     "views": []
    },
    "c8ae4b728f27457ab49cd1001f44d3e2": {
     "views": []
    },
    "c8dc43654c5443db854b3fd23c88067b": {
     "views": []
    },
    "c8ea27e2ae3f4667a718178c8e26842f": {
     "views": []
    },
    "c98e558c518046f8a9517bb4e1737dd5": {
     "views": []
    },
    "c99b4124b3a1415f84be7d5eac6770c4": {
     "views": []
    },
    "c99d5caf8e804556bf916928cabfeb0b": {
     "views": []
    },
    "c9a3f8ce97954691a3d5465e83c3e146": {
     "views": []
    },
    "c9b00d0fb4f2425ebd4e1ca5b09ac275": {
     "views": []
    },
    "c9f505d91985406cbb9a13cef422210d": {
     "views": []
    },
    "c9f6186e6d6d4d6daad34e633fff1b9d": {
     "views": []
    },
    "c9fd3767dcc142528d630f2f94b4800d": {
     "views": []
    },
    "ca4a6c1e4f28467b947cfe98f9eb57d5": {
     "views": []
    },
    "ca7dc46b72c74e5b9da5d343ffa688bf": {
     "views": []
    },
    "cb0cd15b53e84fcd94f6eebcdafc4386": {
     "views": []
    },
    "cbbae5f6b4ef4ff1ba302a2491650594": {
     "views": []
    },
    "cbc1cc426f75402c996805d4d575c255": {
     "views": []
    },
    "cbe6faa57c6e43ec88f3236c2238b4e5": {
     "views": []
    },
    "cc0749d4154741d2b8e777d088e66221": {
     "views": []
    },
    "cc1a7c712bd34657a693ad7699714a30": {
     "views": []
    },
    "cc2336e7f56a4abfa7faf45f55171525": {
     "views": []
    },
    "cc23789e11794a4cb72d68e7054f6892": {
     "views": []
    },
    "cc587b8592d34963808acfc3107b8990": {
     "views": []
    },
    "cc97333f3ac24a1abfada4b3f09b2637": {
     "views": []
    },
    "cce66518dd464dd290094e94dba61aa2": {
     "views": []
    },
    "cd29f6ad697f4ec4b802b52900ffed4d": {
     "views": []
    },
    "cd2ed01e595f4697b7f357272d28173a": {
     "views": []
    },
    "cd9c9e8fdff943c58d873b7d93160e98": {
     "views": []
    },
    "ce43ef62eb114dfdbf5fa1cfd0176be4": {
     "views": []
    },
    "ce8484913b094927839162cbebb79a87": {
     "views": []
    },
    "ceed4d308f66451cb15b81a63d396005": {
     "views": []
    },
    "cf3bcef7bee94062b02857b1de10b8b4": {
     "views": []
    },
    "cf7dc0f1173c4c0cbc6e2370c5b7ab5a": {
     "views": []
    },
    "d00e7628735947d1888091331856d9d6": {
     "views": []
    },
    "d015009286384b7eb5a2f87bdb717ee2": {
     "views": []
    },
    "d017d5d3a8fe46e5adc432edc56b0c55": {
     "views": []
    },
    "d0307997fb244d52ae8798f3a99ea84f": {
     "views": []
    },
    "d04f2ff692eb4babbe9c19bb2527d98d": {
     "views": []
    },
    "d0518c20eac34ad0888cd21b1529c34b": {
     "views": []
    },
    "d0be29deddb94c739982d5b5ca512f6b": {
     "views": []
    },
    "d0e6b8941cad4a9da0c55f2b610deb44": {
     "views": []
    },
    "d0f37dcef6ff4ca8ba727cb9e04f0086": {
     "views": []
    },
    "d10313fb4e8542dd9d3024ce00940a6d": {
     "views": []
    },
    "d15e1d1ce22c433c9ac02901fbfa44bf": {
     "views": []
    },
    "d161d65b8c37427d98bfb757071cf571": {
     "views": []
    },
    "d2399e0888c040c8bd1cdc276f5b2e2f": {
     "views": []
    },
    "d286c5a1ac4e464d8d0fb87413767b59": {
     "views": []
    },
    "d2aa1de7011a441e925819e487687099": {
     "views": []
    },
    "d2dbc7ca503d4f8bade49f3b8e92548f": {
     "views": []
    },
    "d2ebd24f37964f6fa0c9ef135b960f7f": {
     "views": []
    },
    "d384b39add7c4c4fae7a6bfccc5fe360": {
     "views": []
    },
    "d38a362f9ebc41db8455e8187befdf7f": {
     "views": []
    },
    "d38e1ac429ab4bfe98b29aa5efac578d": {
     "views": []
    },
    "d3c2c00764b94e47adea3835e78d4ef4": {
     "views": []
    },
    "d3dc809f81c3458396a64adda3ab0966": {
     "views": []
    },
    "d427c18e752f4ac093bc927037a6556d": {
     "views": []
    },
    "d55dcb0716a34bf9b570e7e27c9aec23": {
     "views": []
    },
    "d5cef878d2c0421695adb083faad3d2f": {
     "views": []
    },
    "d601c39b3a734d2596facdfb4a36f59e": {
     "views": []
    },
    "d6118709e1c74b7d82a1151ae7fe7665": {
     "views": []
    },
    "d6316c963a824dd78d0253105ffdd10e": {
     "views": []
    },
    "d65b313631a54241a41de08aa9afb70c": {
     "views": []
    },
    "d759491b8e7c4e12a1ccfe078d665e16": {
     "views": []
    },
    "d867e426cae94c058195d547ee4c8a8f": {
     "views": []
    },
    "d8e9b581e8d645b8a3a35540338ec547": {
     "views": []
    },
    "d90613620696478bb66f4f040dd3163e": {
     "views": []
    },
    "d933a9bff06e45efb6948d55a23094cd": {
     "views": []
    },
    "d962b6e30f23465096763c9c0631579f": {
     "views": []
    },
    "d9a1523f3b1241f1884d6d330e98c8b7": {
     "views": []
    },
    "d9a78254a79c400e99b0c6fdcaca58ce": {
     "views": []
    },
    "d9cf4ee349ab4aa2a7c03fa6236d29f6": {
     "views": []
    },
    "d9d2e3c7f53f45959864a3c16bd79bb5": {
     "views": []
    },
    "d9f4a1210fb34a3d85670f80a6937cf6": {
     "views": []
    },
    "da2e129876ce4e73bbb3a649eb0e7ba3": {
     "views": []
    },
    "da4767cc8e37491d9ec833bcd4e92412": {
     "views": []
    },
    "da8f4b321ee948bf9ffc952d33bc810b": {
     "views": []
    },
    "daca6a2bfc274513bc6004cbddb441ad": {
     "views": []
    },
    "db6c0d72dbd14afab1508270ca76fbb1": {
     "views": []
    },
    "dba086a9b5554163916ec23aa1001ddb": {
     "views": []
    },
    "dbcf94189bfe41b0b81abfb6d39a81d4": {
     "views": []
    },
    "dbfbd24573ce493b9eadd19f0bcbcf5b": {
     "views": []
    },
    "dc3bbc6913ef449893249d04570ca360": {
     "views": []
    },
    "dc7e526c33844916bde7acf38df94a4d": {
     "views": []
    },
    "dcf98108e91f44b79123af8538070153": {
     "views": []
    },
    "dd1970f42cde47b5b7453821c19065ec": {
     "views": []
    },
    "dd3b816b352040bf9f877047cb2d91d2": {
     "views": []
    },
    "dd86a22e72b449a0bf56fb594e326e85": {
     "views": []
    },
    "dd8b602ed01f4137894cc0c78b23bac7": {
     "views": []
    },
    "dda2a215e84446d7b8dff49d7d01eb2b": {
     "views": []
    },
    "ddb304869809424783e07212159e9da8": {
     "views": []
    },
    "de3acddd5c3144a5abdd6fe677d98c64": {
     "views": []
    },
    "de4d2bee66784e68999c264a6c41d929": {
     "views": []
    },
    "de54060d23bc4c318e1e8dec3f636b29": {
     "views": []
    },
    "de5de7b03339450a8d1e8811596e90c1": {
     "views": []
    },
    "de7e233ada8d46a4a4ad537f8816780a": {
     "views": []
    },
    "de7fa613f86d4a8ab5b08609507069eb": {
     "views": []
    },
    "deb2f0aac403429a9541aac9cea77bda": {
     "views": []
    },
    "dec31fc95fc74b0b9a724422dddb25b4": {
     "views": []
    },
    "dec682e966754c758b8b7fc584781876": {
     "views": []
    },
    "df3369745da74dc297c3eb025d4a93eb": {
     "views": []
    },
    "df4a7e7ffb2c4c98bbf81e3b1f2a5832": {
     "views": []
    },
    "e035a4450c6a44a5ac6bd9e5cd8e0327": {
     "views": []
    },
    "e05d72028b314313b333474f59b30bf9": {
     "views": []
    },
    "e092ae17908f43c7b52f5b225b60176b": {
     "views": []
    },
    "e09982058ef946eca51086920c72cedc": {
     "views": []
    },
    "e159707908bf47c58fdf5a3b73cbd5a2": {
     "views": []
    },
    "e16f3e371c4a4a69b4bff4c02ab12e2d": {
     "views": []
    },
    "e1d84d208b444a8ba05a745e8fd034ba": {
     "views": []
    },
    "e266627d9c1242e1977e3a4738a63272": {
     "views": []
    },
    "e36143eb77b74a17956dfd749e4fd570": {
     "views": []
    },
    "e394e8060cf745078d5b0fce8324833b": {
     "views": []
    },
    "e3983ab4fb2849f0b2c3fe4555926ff6": {
     "views": []
    },
    "e3eae6fc058346f09ca62b9cde5160b3": {
     "views": []
    },
    "e420c83c07254dcba7dbb5cc3974668b": {
     "views": []
    },
    "e42d0f2919f54040ad78c3b210ed58a5": {
     "views": []
    },
    "e435d182963942adbfad217688d82554": {
     "views": []
    },
    "e43a0fa1581d486f9a712ef9e37fcac4": {
     "views": []
    },
    "e460f1f954c048e294a47336c6c48c00": {
     "views": []
    },
    "e4b4ce6995294d6ea5dfc9396a95bfd1": {
     "views": []
    },
    "e4f3a525f6e54ddcad935709e03d5967": {
     "views": []
    },
    "e5a2fca1a4634372829c52434dcd86d6": {
     "views": []
    },
    "e5d52f990c774c37ae3bfca454586a51": {
     "views": []
    },
    "e6020634a27241558d30fb8ca4cca212": {
     "views": []
    },
    "e62ad8ad7b40413994ed5a494672e145": {
     "views": []
    },
    "e6647dd475b848ecb409b8e5c8a13843": {
     "views": []
    },
    "e668c929946d45a8aea98cad0a13d2e2": {
     "views": []
    },
    "e675ae9aae274935bafb9b38d1cc02a3": {
     "views": []
    },
    "e6c54180c9f4461bbe0561759390d942": {
     "views": []
    },
    "e70e8c267a0642479907f1f82a739a81": {
     "views": []
    },
    "e72d92d628874fa5accf4a6575a37cee": {
     "views": []
    },
    "e74497155b9a45f084eaa90062b9f150": {
     "views": []
    },
    "e75aca40979244e0bb13c7defe8aa336": {
     "views": []
    },
    "e79125d2fa874e9f9d64e4b758f8951f": {
     "views": []
    },
    "e792ff29a2164371a806ebe2b32f9b09": {
     "views": []
    },
    "e7faecf6de42421788994b60128a7e7c": {
     "views": []
    },
    "e841c2066ff84a5b84c9d147a0f91b25": {
     "views": []
    },
    "e87056f86571453c9ccca770960f01ff": {
     "views": []
    },
    "e8725e5622fc42ddaefc533018405062": {
     "views": []
    },
    "e891c5d5e6804adc83d69c70717d5699": {
     "views": []
    },
    "e89634004fb84f68b9257393d1d435e4": {
     "views": []
    },
    "e89c3b74f9f6480aa1ec2f877215bd51": {
     "views": []
    },
    "e89e4535f21446e7a0bab01f835b5c5b": {
     "views": []
    },
    "e8ea1eb847ce447eb9582d75e0afb547": {
     "views": []
    },
    "e903816880f44ec3a999e63149b234c3": {
     "views": []
    },
    "e911effa7bef46e4baae4319044c5fe2": {
     "views": []
    },
    "e950fbe22cfa41fd8cff3fecb4d3067b": {
     "views": []
    },
    "e9c3a919b4b54c7290bd0e00cca84831": {
     "views": []
    },
    "e9eb3c067bab45cb9f8e12995a8cb503": {
     "views": []
    },
    "ea064a37daa3409ea14ce03f4773936f": {
     "views": []
    },
    "ea133e7d4e0e4bb9bc464388d5d9725a": {
     "views": []
    },
    "ea54f314b6ae4f7bb9c06c65bfbccc35": {
     "views": []
    },
    "ea56d42d116d4aebbc53a68869710452": {
     "views": []
    },
    "ea8813b05e3346b9bb89faa4edbe4242": {
     "views": []
    },
    "eaa94e5512e94c71bdca1adcdf2767f2": {
     "views": []
    },
    "eafb43d1acc04f3e837bebc424830f24": {
     "views": []
    },
    "eb1021206d4d454b840aa33f49f74c47": {
     "views": []
    },
    "eb182aa60b8a4bfd8bead772184c6d91": {
     "views": []
    },
    "eb64345c2998484590fdcb72da830c1f": {
     "views": []
    },
    "eb914246299a4b95a48855a60051c233": {
     "views": []
    },
    "eba3636a39ca4d0587976c69b323cb8b": {
     "views": []
    },
    "ebc79cab7c0c437dac121c42a938009f": {
     "views": []
    },
    "ebfe65b1923a48198b003a3e83b880ad": {
     "views": []
    },
    "ec1c7c351ad14d7993ddae2cae411f1a": {
     "views": []
    },
    "ec2162f883354b65820e8c905d0f85bb": {
     "views": []
    },
    "ec3c4b4c754b49268c08c4ec6c9fe1e8": {
     "views": []
    },
    "ec5a2bd6403f40abbf5e70173376d133": {
     "views": []
    },
    "ecbcce260ebd4fe487a864131cd3139e": {
     "views": []
    },
    "ecce85266a8649eb8454f30cc2d5a2ab": {
     "views": []
    },
    "ed040d1c32894e82bbc31db96f4b356e": {
     "views": []
    },
    "ed9012e7098c4f93950e81ba41278b18": {
     "views": []
    },
    "ed9b4f731ab641c2b36b8c2c9701c375": {
     "views": []
    },
    "edf933c20a564d93b97af424380a7642": {
     "views": []
    },
    "ee2a8849819c46f1a67bcac8e278d229": {
     "views": []
    },
    "ee2bf879839f49b49c527fec1c0e1935": {
     "views": []
    },
    "ee3c214a7f124c7f83263d59242d235c": {
     "views": []
    },
    "ef8a8fdeb6214268a50191e3b6eec4c4": {
     "views": []
    },
    "ef92f1195f814d4d9ca14390c9e6c0e5": {
     "views": []
    },
    "efe8c1b073d74a8b917ed03317b14979": {
     "views": []
    },
    "effbbf06f55a4adeb7c035af55e89f8a": {
     "views": []
    },
    "f00b68379de94ce8b916b4de0878a913": {
     "views": []
    },
    "f047b4fb3b3144ab92b7cf2a865887ea": {
     "views": []
    },
    "f0ec093f1edb4c259c8cff25ec7fabef": {
     "views": []
    },
    "f101d4cf67e94a23b344d23c0ea908ba": {
     "views": []
    },
    "f14691f6f7974a068d663f5079bce48a": {
     "views": []
    },
    "f15e97cb186f42158ff0f96801e47afb": {
     "views": []
    },
    "f1bf814038e5424d8bcf5a589d4f174d": {
     "views": []
    },
    "f224d70892474e2f8051fea958c79482": {
     "views": []
    },
    "f26b0a1fa34b4d498aee8aa7997851c1": {
     "views": []
    },
    "f28082e1c60f43929a9c24dad9676cff": {
     "views": []
    },
    "f282e00433e742edb3fb838a78e9db5f": {
     "views": []
    },
    "f2a29a6a018242978a97680d2a1907ac": {
     "views": []
    },
    "f2a4baa829624ccca9e00cb0fb7dc54e": {
     "views": []
    },
    "f2c20df0404447cfaefafbe40d147e88": {
     "views": []
    },
    "f2e104a1f6d64bc38cf954124453b7e6": {
     "views": []
    },
    "f3188b474b4146118db4b334ab3b09a1": {
     "views": []
    },
    "f318d28b45084f26b96a96b41cbc8342": {
     "views": []
    },
    "f32d04339c994ff59a21b7ae4e72a59d": {
     "views": []
    },
    "f340a582f4694af4ade305e843a687fc": {
     "views": []
    },
    "f38de2aec1e3420584972c1272a31750": {
     "views": []
    },
    "f433d4c5e17349a78ff28fab3ea93d6e": {
     "views": []
    },
    "f4512fe2f45e4704b89c969ae0f397e9": {
     "views": []
    },
    "f485cf209f3c4c488b2022688f252585": {
     "views": []
    },
    "f5148b73dd554f67a4b59db20bf7d6aa": {
     "views": []
    },
    "f5a30c59130e439da061953f77f31311": {
     "views": []
    },
    "f5fbe5fc4dd74c40bd6d9c5ec30eb8c1": {
     "views": []
    },
    "f637318d0a8545fd8876b4fb272b52a0": {
     "views": []
    },
    "f6b3ec2ed7424d7aa3b84161dd94ad7b": {
     "views": []
    },
    "f6bd8281c9c34179beda09139c375d11": {
     "views": []
    },
    "f6c871ff5c124b70898ff192de886632": {
     "views": []
    },
    "f6d72e3d288c4a33805752d4edebcdbb": {
     "views": []
    },
    "f6e59761734547f5842a56772b701897": {
     "views": []
    },
    "f70506a0da44492fa80f4d2fea4e61d8": {
     "views": []
    },
    "f86bf742c2a84682b67a0f69e54ca5b7": {
     "views": []
    },
    "f8a21e9191f84fe8915d72fd6db1d985": {
     "views": []
    },
    "f8a2acf4e0614fa59d22f2d7ed74dc32": {
     "views": []
    },
    "f8a2c4607e6547ff880a9ae0cb3e51f0": {
     "views": []
    },
    "f912a8073f784ae2ae4b63a0a69711cb": {
     "views": []
    },
    "f96d64db117342668dc8efb6cb097593": {
     "views": []
    },
    "f9a3435b629645439ede13a37b35bc5a": {
     "views": []
    },
    "fa1784284209432884e0b2df9f37677a": {
     "views": []
    },
    "fa3ce386c1c54f46b7c8bb2379f1046a": {
     "views": []
    },
    "fa80086f37b54b4d983781e8ae7f7789": {
     "views": []
    },
    "fa98ee0826a54ee3a425935147ada4d0": {
     "views": []
    },
    "fae6c08c18f84e77a8d0e4d8bcef7a70": {
     "views": []
    },
    "faf66323332546958c9f6064a182600b": {
     "views": []
    },
    "fb342a689bd44f23839649861d60c11e": {
     "views": []
    },
    "fb7b8082123844c790d418923f22fd77": {
     "views": []
    },
    "fb7e977377d64fef9c73f9deaf79d725": {
     "views": []
    },
    "fb8014ce5e094dc5b331dfaf844a6fff": {
     "views": []
    },
    "fbd140d9a5054f12b6d0c0feceb54402": {
     "views": []
    },
    "fbf9786f1722472d85ca68ed152dd2d7": {
     "views": []
    },
    "fc08bb1dbffd401a8d57b3a981055767": {
     "views": []
    },
    "fc17a5a6fa094d9281ba48b40acfcd83": {
     "views": []
    },
    "fc2a163ee8b4417b9076b5de95a1dbf5": {
     "views": []
    },
    "fc3cff11859b4ca89d31b068e8c94a9e": {
     "views": []
    },
    "fc84278602024ec492d98436113bfff5": {
     "views": []
    },
    "fce65de89aec4b1b98a9bc29eb22b42d": {
     "views": []
    },
    "fcfc195c00664e76b3cefdb4ec22e084": {
     "views": []
    },
    "fd229dedd6a042fe87d7c14e6f09a5ab": {
     "views": []
    },
    "fd34fcd999ee4b67978503b5ff61efc9": {
     "views": []
    },
    "fd4c8b75da514468a72f5e9d55c54911": {
     "views": []
    },
    "fd6a54dde6df4a64b3aaf73bb808f495": {
     "views": []
    },
    "fd6cd3e2696d4edb9b50ded42cff3461": {
     "views": []
    },
    "fd769b402d404b1a854cda55363e799b": {
     "views": []
    },
    "fd7b9f0c7bd64477be2dac0fe03f15f8": {
     "views": []
    },
    "fdfc7566203a463ca2baa46d21a5bb2f": {
     "views": []
    },
    "fe80be3ff81b49fc9478a0dd9b1af814": {
     "views": []
    },
    "fec92fdf7a6945d4a4af54fe802dfaaa": {
     "views": []
    },
    "feffb49476aa4ef8ae9afa0fd67b4ed3": {
     "views": []
    },
    "ff1256169602415aa15c1795042a9fb9": {
     "views": []
    },
    "ff33f2f886e94d5b97acfb13661f52e3": {
     "views": []
    },
    "ff6cc233ca9c473bb214bec287a1e9d9": {
     "views": []
    },
    "ff77997fed924d21bb52dadb43915319": {
     "views": []
    },
    "ff818106163043cb88c0848b1ff72f31": {
     "views": []
    },
    "ff8591022c954515a8501bbe23ed03d4": {
     "views": []
    }
   },
   "version": "1.1.2"
  }
 },
 "nbformat": 4,
 "nbformat_minor": 0
}
