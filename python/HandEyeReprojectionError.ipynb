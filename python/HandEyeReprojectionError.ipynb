{
 "cells": [
  {
   "cell_type": "code",
   "execution_count": 4,
   "metadata": {
    "collapsed": false
   },
   "outputs": [
    {
     "name": "stdout",
     "output_type": "stream",
     "text": [
      "Populating the interactive namespace from numpy and matplotlib\n"
     ]
    }
   ],
   "source": [
    "from __future__ import print_function\n",
    "import sys\n",
    "sys.path.append('../build/')\n",
    "%pylab inline\n",
    "np.set_printoptions(precision=4, suppress=True)\n",
    "import cv2\n",
    "import versor as vsr\n",
    "from hand_eye_calibration import HandEyeCalibrator"
   ]
  },
  {
   "cell_type": "markdown",
   "metadata": {},
   "source": [
    "### Object points"
   ]
  },
  {
   "cell_type": "code",
   "execution_count": 9,
   "metadata": {
    "collapsed": false
   },
   "outputs": [
    {
     "name": "stdout",
     "output_type": "stream",
     "text": [
      "[[ 0.    0.    0.  ]\n",
      " [ 0.02  0.    0.  ]\n",
      " [ 0.04  0.    0.  ]\n",
      " [ 0.06  0.    0.  ]\n",
      " [ 0.08  0.    0.  ]\n",
      " [ 0.1   0.    0.  ]\n",
      " [ 0.12  0.    0.  ]\n",
      " [ 0.14  0.    0.  ]\n",
      " [ 0.16  0.    0.  ]\n",
      " [ 0.18  0.    0.  ]\n",
      " [ 0.    0.02  0.  ]\n",
      " [ 0.02  0.02  0.  ]\n",
      " [ 0.04  0.02  0.  ]\n",
      " [ 0.06  0.02  0.  ]\n",
      " [ 0.08  0.02  0.  ]\n",
      " [ 0.1   0.02  0.  ]\n",
      " [ 0.12  0.02  0.  ]\n",
      " [ 0.14  0.02  0.  ]\n",
      " [ 0.16  0.02  0.  ]\n",
      " [ 0.18  0.02  0.  ]\n",
      " [ 0.    0.04  0.  ]\n",
      " [ 0.02  0.04  0.  ]\n",
      " [ 0.04  0.04  0.  ]\n",
      " [ 0.06  0.04  0.  ]\n",
      " [ 0.08  0.04  0.  ]\n",
      " [ 0.1   0.04  0.  ]\n",
      " [ 0.12  0.04  0.  ]\n",
      " [ 0.14  0.04  0.  ]\n",
      " [ 0.16  0.04  0.  ]\n",
      " [ 0.18  0.04  0.  ]\n",
      " [ 0.    0.06  0.  ]\n",
      " [ 0.02  0.06  0.  ]\n",
      " [ 0.04  0.06  0.  ]\n",
      " [ 0.06  0.06  0.  ]\n",
      " [ 0.08  0.06  0.  ]\n",
      " [ 0.1   0.06  0.  ]\n",
      " [ 0.12  0.06  0.  ]\n",
      " [ 0.14  0.06  0.  ]\n",
      " [ 0.16  0.06  0.  ]\n",
      " [ 0.18  0.06  0.  ]\n",
      " [ 0.    0.08  0.  ]\n",
      " [ 0.02  0.08  0.  ]\n",
      " [ 0.04  0.08  0.  ]\n",
      " [ 0.06  0.08  0.  ]\n",
      " [ 0.08  0.08  0.  ]\n",
      " [ 0.1   0.08  0.  ]\n",
      " [ 0.12  0.08  0.  ]\n",
      " [ 0.14  0.08  0.  ]\n",
      " [ 0.16  0.08  0.  ]\n",
      " [ 0.18  0.08  0.  ]\n",
      " [ 0.    0.1   0.  ]\n",
      " [ 0.02  0.1   0.  ]\n",
      " [ 0.04  0.1   0.  ]\n",
      " [ 0.06  0.1   0.  ]\n",
      " [ 0.08  0.1   0.  ]\n",
      " [ 0.1   0.1   0.  ]\n",
      " [ 0.12  0.1   0.  ]\n",
      " [ 0.14  0.1   0.  ]\n",
      " [ 0.16  0.1   0.  ]\n",
      " [ 0.18  0.1   0.  ]]\n"
     ]
    }
   ],
   "source": [
    "pattern_size = (10,6)\n",
    "square_size = 0.02\n",
    "pattern_points = np.zeros( (np.prod(pattern_size), 3), np.float64)\n",
    "pattern_points[:,:2] = np.indices(pattern_size).T.reshape(-1,2)\n",
    "pattern_points *= square_size\n",
    "print(pattern_points)"
   ]
  }
 ],
 "metadata": {
  "kernelspec": {
   "display_name": "Python 2",
   "language": "python",
   "name": "python2"
  },
  "language_info": {
   "codemirror_mode": {
    "name": "ipython",
    "version": 2
   },
   "file_extension": ".py",
   "mimetype": "text/x-python",
   "name": "python",
   "nbconvert_exporter": "python",
   "pygments_lexer": "ipython2",
   "version": "2.7.11"
  }
 },
 "nbformat": 4,
 "nbformat_minor": 0
}
