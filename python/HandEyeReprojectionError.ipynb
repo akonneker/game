{
 "cells": [
  {
   "cell_type": "code",
   "execution_count": 1,
   "metadata": {
    "collapsed": false
   },
   "outputs": [
    {
     "name": "stdout",
     "output_type": "stream",
     "text": [
      "Populating the interactive namespace from numpy and matplotlib\n"
     ]
    },
    {
     "name": "stderr",
     "output_type": "stream",
     "text": [
      "WARNING: pylab import has clobbered these variables: ['copy']\n",
      "`%matplotlib` prevents importing * from pylab and numpy\n"
     ]
    }
   ],
   "source": [
    "from __future__ import print_function\n",
    "import sys\n",
    "import copy\n",
    "sys.path.append('../build/')\n",
    "%pylab inline\n",
    "np.set_printoptions(precision=4, suppress=True)\n",
    "import cPickle as pickle\n",
    "import cv2\n",
    "import math3d as m3d\n",
    "import versor as vsr\n",
    "from motor_estimation import MotorEstimationSolver\n",
    "from hand_eye_calibration import HandEyeCalibrator\n",
    "from chessboard import calibrate_lens, find_corners, get_object_pose"
   ]
  },
  {
   "cell_type": "markdown",
   "metadata": {},
   "source": [
    "### Object points"
   ]
  },
  {
   "cell_type": "code",
   "execution_count": 2,
   "metadata": {
    "collapsed": false
   },
   "outputs": [],
   "source": [
    "pattern_size = (10,6)\n",
    "square_size = 0.02\n",
    "pattern_points = np.zeros( (np.prod(pattern_size), 3), np.float64)\n",
    "pattern_points[:,:2] = np.indices(pattern_size).T.reshape(-1,2)\n",
    "pattern_points *= square_size"
   ]
  },
  {
   "cell_type": "markdown",
   "metadata": {},
   "source": [
    "### Robot poses"
   ]
  },
  {
   "cell_type": "code",
   "execution_count": 3,
   "metadata": {
    "collapsed": false
   },
   "outputs": [],
   "source": [
    "rob_pose_list = pickle.load(open('pose_list.dump'))\n",
    "rob_motors = [vsr.Vec(*pos).trs() * vsr.Rot(vsr.Vec(*axis).unduale() * angle / 2.)\n",
    "              for pos, (axis, angle) in [(m3d.Transform(pose).pos, \n",
    "                                          m3d.Transform(pose).orient.axis_angle)\n",
    "                                         for pose in rob_pose_list]]"
   ]
  },
  {
   "cell_type": "markdown",
   "metadata": {},
   "source": [
    "### Object poses"
   ]
  },
  {
   "cell_type": "code",
   "execution_count": 4,
   "metadata": {
    "collapsed": true
   },
   "outputs": [],
   "source": [
    "obj_pose_list = pickle.load(open('obj_pose_list.dump'))\n",
    "obj_motors = [vsr.Vec(*pos).trs() * vsr.Rot(vsr.Vec(*axis).unduale() * angle / 2.)\n",
    "              for pos, (axis, angle) in [(m3d.Transform(pose).pos, \n",
    "                                          m3d.Transform(pose).orient.axis_angle)\n",
    "                                         for pose in obj_pose_list]]"
   ]
  },
  {
   "cell_type": "markdown",
   "metadata": {},
   "source": [
    "### Pixels"
   ]
  },
  {
   "cell_type": "code",
   "execution_count": 5,
   "metadata": {
    "collapsed": false
   },
   "outputs": [],
   "source": [
    "images = pickle.load(open('image_list.dump'))\n",
    "camera_matrix, dist_coeffs = calibrate_lens(images)"
   ]
  },
  {
   "cell_type": "code",
   "execution_count": 6,
   "metadata": {
    "collapsed": false
   },
   "outputs": [
    {
     "name": "stdout",
     "output_type": "stream",
     "text": [
      "9\n"
     ]
    }
   ],
   "source": [
    "intrinsics = [camera_matrix[0,0],  camera_matrix[1,1],\n",
    "              camera_matrix[0,2], camera_matrix[1,2]] + \\\n",
    "              dist_coeffs.tolist()\n",
    "print(len(intrinsics))"
   ]
  },
  {
   "cell_type": "code",
   "execution_count": 7,
   "metadata": {
    "collapsed": false
   },
   "outputs": [],
   "source": [
    "corners = [corners for corners in \n",
    "           [find_corners(image, pattern_size)[1].reshape(-1,2) \n",
    "            for image in images]]"
   ]
  },
  {
   "cell_type": "markdown",
   "metadata": {},
   "source": [
    "### Initital estimate"
   ]
  },
  {
   "cell_type": "code",
   "execution_count": 8,
   "metadata": {
    "collapsed": false
   },
   "outputs": [
    {
     "name": "stdout",
     "output_type": "stream",
     "text": [
      "Mot: [ 0.004 -0.0055 -0.68 -0.74 -0.044 -0.047 0.053 -0.0072 ]\n",
      "Mot: [ -0.66 -0.26 -0.26 -0.66 -0.3 -0.66 -0.15 -0.1 ]\n",
      "\n",
      "Solver Summary (v 1.12.0-eigen-(3.2.7)-lapack-suitesparse-(4.4.4)-cxsparse-(3.1.4)-openmp)\n",
      "\n",
      "                                     Original                  Reduced\n",
      "Parameter blocks                            1                        1\n",
      "Parameters                                  8                        8\n",
      "Effective parameters                        6                        6\n",
      "Residual blocks                           210                      210\n",
      "Residual                                 1260                     1260\n",
      "\n",
      "Minimizer                        TRUST_REGION\n",
      "\n",
      "Dense linear algebra library            EIGEN\n",
      "Trust region strategy     LEVENBERG_MARQUARDT\n",
      "\n",
      "                                        Given                     Used\n",
      "Linear solver                        DENSE_QR                 DENSE_QR\n",
      "Threads                                     1                        1\n",
      "Linear solver threads                       1                        1\n",
      "\n",
      "Cost:\n",
      "Initial                          1.056910e+03\n",
      "Final                            3.056245e+00\n",
      "Change                           1.053854e+03\n",
      "\n",
      "Minimizer iterations                       14\n",
      "Successful steps                           14\n",
      "Unsuccessful steps                          0\n",
      "\n",
      "Time (in seconds):\n",
      "Preprocessor                           0.0001\n",
      "\n",
      "  Residual evaluation                  0.0005\n",
      "  Jacobian evaluation                  0.0092\n",
      "  Linear solver                        0.0009\n",
      "Minimizer                              0.0112\n",
      "\n",
      "Postprocessor                          0.0000\n",
      "Total                                  0.0113\n",
      "\n",
      "Termination:                      CONVERGENCE (Parameter tolerance reached. Relative step_norm: 3.906056e-09 <= 1.000000e-08.)\n",
      "\n"
     ]
    }
   ],
   "source": [
    "n_lines = len(rob_motors)\n",
    "lines_a = []\n",
    "lines_b = []\n",
    "for i in range(n_lines):\n",
    "    for j in range(i+1,n_lines):\n",
    "        lines_a.append(((rob_motors[j].rev() * rob_motors[i]).log() * 0.5).unit())\n",
    "        lines_b.append(((obj_motors[j].rev() * obj_motors[i]).log() * 0.5).unit())\n",
    "initial_motor = vsr.Mot(1.0, 0.0, 0.0, 0.0, 0.0, 0.0, 0.0, 0.0)\n",
    "mes = MotorEstimationSolver(initial_motor)\n",
    "for a, b in zip(lines_a, lines_b):\n",
    "    mes.add_line_correspondences_residual_block(b,a)\n",
    "mes.set_parameterization('BIVECTOR_GENERATOR')\n",
    "mes.linear_solver_type = \"DENSE_QR\"\n",
    "mes.max_num_iterations = 25\n",
    "mes.function_tolerance = 1e-12\n",
    "estimated_hand_eye_motor, summary = mes.solve()\n",
    "print(estimated_hand_eye_motor)\n",
    "bivectors = [np.array((r * estimated_hand_eye_motor * o.rev()).log()) \n",
    "             for r, o in zip(rob_motors, obj_motors)]\n",
    "estimated_camera_robot_motor = vsr.Dll(*np.average(bivectors,0)).exp()\n",
    "print(estimated_camera_robot_motor)\n",
    "print(summary['full_report'])"
   ]
  },
  {
   "cell_type": "code",
   "execution_count": 9,
   "metadata": {
    "collapsed": false
   },
   "outputs": [],
   "source": [
    "A = rob_motors[0]\n",
    "X = estimated_hand_eye_motor\n",
    "Z = estimated_camera_robot_motor\n",
    "B = obj_motors[0]\n",
    "p1 = vsr.Vec(*pattern_points[0]).null().spin(A * X)"
   ]
  },
  {
   "cell_type": "code",
   "execution_count": 10,
   "metadata": {
    "collapsed": false
   },
   "outputs": [
    {
     "name": "stdout",
     "output_type": "stream",
     "text": [
      "Pnt: [ -0.2609 -0.2065 0.7425 1 0.331 ]\n"
     ]
    }
   ],
   "source": [
    "p2 = vsr.Vec(*pattern_points[0]).null().spin(Z * B)\n",
    "print(p2)"
   ]
  },
  {
   "cell_type": "code",
   "execution_count": 11,
   "metadata": {
    "collapsed": false
   },
   "outputs": [
    {
     "name": "stdout",
     "output_type": "stream",
     "text": [
      "Pnt: [ 0.1435 0.1166 0.9072 1 0.4286 ]\n",
      "4008.43840061\n",
      "3409.39267925\n"
     ]
    }
   ],
   "source": [
    "p = vsr.Vec(*pattern_points[25]).null().spin(Z.rev() * A * X)\n",
    "print(p)\n",
    "\n",
    "focal_length_x = camera_matrix[0,0] \n",
    "focal_length_y = camera_matrix[1,1] \n",
    "principal_point_x = camera_matrix[0,2]\n",
    "principal_point_y = camera_matrix[0,2]\n",
    "k1 = intrinsics[3]\n",
    "k2 = intrinsics[4]\n",
    "p1 = intrinsics[5]\n",
    "p2 = intrinsics[6]\n",
    "k3 = intrinsics[7]\n",
    "\n",
    "\n",
    "x = p[0] / p[2]\n",
    "y = p[1] / p[2]\n",
    "r2 = x * x + y * y\n",
    "r4 = r2 * r2\n",
    "r6 = r4 * r2\n",
    "r_coeff = (1 + k1 * r2 + k2 * r4 + k3 * r6)\n",
    "xd = x * r_coeff + 2 * p1 * x * y + p2 * (r2 + 2 * x * x)\n",
    "yd = y * r_coeff + 2 * p2 * x * y + p1 * (r2 + 2 * y * y)\n",
    "\n",
    "# Apply focal length and principal point to get the final image\n",
    "# coordinates.\n",
    "image_x = focal_length_x * xd + principal_point_x;\n",
    "image_y = focal_length_y * yd + principal_point_y;\n",
    "\n",
    "print(image_x)\n",
    "print(image_y)"
   ]
  },
  {
   "cell_type": "code",
   "execution_count": 12,
   "metadata": {
    "collapsed": false
   },
   "outputs": [
    {
     "name": "stdout",
     "output_type": "stream",
     "text": [
      "[-0.2983  0.9377 -0.0016 -0.0005 -1.9702]\n"
     ]
    }
   ],
   "source": [
    "print(dist_coeffs)"
   ]
  },
  {
   "cell_type": "code",
   "execution_count": 13,
   "metadata": {
    "collapsed": false
   },
   "outputs": [
    {
     "data": {
      "text/plain": [
       "array([ 716.5082,  515.7298], dtype=float32)"
      ]
     },
     "execution_count": 13,
     "metadata": {},
     "output_type": "execute_result"
    }
   ],
   "source": [
    "corners[0][25]"
   ]
  },
  {
   "cell_type": "markdown",
   "metadata": {},
   "source": [
    "### Hand Eye Calibration"
   ]
  },
  {
   "cell_type": "code",
   "execution_count": 14,
   "metadata": {
    "collapsed": false
   },
   "outputs": [
    {
     "name": "stdout",
     "output_type": "stream",
     "text": [
      "Mot: [ 0.004 -0.0055 -0.68 -0.74 -0.044 -0.047 0.053 -0.0072 ]\n",
      "Mot: [ -0.66 -0.26 -0.26 -0.66 -0.3 -0.66 -0.15 -0.1 ]\n",
      "[ 1329.1847  1329.8877   527.8128   368.6073    -0.2983     0.9377\n",
      "    -0.0016    -0.0005    -1.9702]\n"
     ]
    }
   ],
   "source": [
    "print(estimated_hand_eye_motor)\n",
    "print(estimated_camera_robot_motor)\n",
    "print(np.array(intrinsics))"
   ]
  },
  {
   "cell_type": "code",
   "execution_count": 15,
   "metadata": {
    "collapsed": false
   },
   "outputs": [
    {
     "name": "stdout",
     "output_type": "stream",
     "text": [
      "Drv: [ 0.083 -1 0.014 ]\n",
      "Drv: [ -1 -0.084 -0.0015 ]\n",
      "Drv: [ 0.0027 -0.013 -1 ]\n",
      "Pnt: [ 0.06106 0.08873 0.128 1 0.01399 ]\n"
     ]
    }
   ],
   "source": [
    "print(vsr.Drv(1,0,0).spin(estimated_hand_eye_motor))\n",
    "print(vsr.Drv(0,1,0).spin(estimated_hand_eye_motor))\n",
    "print(vsr.Drv(0,0,1).spin(estimated_hand_eye_motor))\n",
    "print(vsr.Vec(0,0,0).null().spin(estimated_hand_eye_motor))"
   ]
  },
  {
   "cell_type": "code",
   "execution_count": 16,
   "metadata": {
    "collapsed": false
   },
   "outputs": [
    {
     "name": "stdout",
     "output_type": "stream",
     "text": [
      "Mot: [ 0.004 -0.0055 -0.68 -0.74 -0.044 -0.047 0.053 -0.0072 ]\n",
      "Mot: [ -0.66 -0.26 -0.26 -0.66 -0.3 -0.66 -0.15 -0.1 ]\n"
     ]
    }
   ],
   "source": [
    "hec = HandEyeCalibrator(estimated_hand_eye_motor, estimated_camera_robot_motor, intrinsics)\n",
    "print(estimated_hand_eye_motor)\n",
    "print(estimated_camera_robot_motor)\n",
    "for a, b in zip(rob_motors, obj_motors):\n",
    "    for p in pattern_points:\n",
    "        hec.add_residual_block_2(a, b, vsr.Vec(*p).null())\n",
    "hec.linear_solver_type = \"DENSE_QR\"\n",
    "hec.max_num_iterations = 100\n",
    "hec.num_linear_solve_threads = 1000\n",
    "hec.num_threads = 1000\n",
    "hec.set_parameterization(\"BIVECTOR_GENERATOR\")\n",
    "# he, cr, intr, summ = hec.solve()\n",
    "# print(he)\n",
    "# print(cr)\n",
    "# print(intr)\n",
    "# print(summ['full_report'])"
   ]
  },
  {
   "cell_type": "code",
   "execution_count": 17,
   "metadata": {
    "collapsed": false
   },
   "outputs": [
    {
     "name": "stdout",
     "output_type": "stream",
     "text": [
      "Mot: [ 0.0062 -0.0083 -0.68 -0.73 -0.055 -0.059 0.05 -0.016 ]\n",
      "Mot: [ -0.67 -0.26 -0.26 -0.65 -0.31 -0.66 -0.17 -0.11 ]\n",
      "[1329.1846511778317, 1329.887696356418, 527.8127667721765, 368.60726444265345, -0.2982520378865284, 0.9377411649999892, -0.0015767729018760857, -0.0005171784934892454, -1.97016543830641]\n",
      "\n",
      "Solver Summary (v 1.12.0-eigen-(3.2.7)-lapack-suitesparse-(4.4.4)-cxsparse-(3.1.4)-openmp)\n",
      "\n",
      "                                     Original                  Reduced\n",
      "Parameter blocks                            3                        2\n",
      "Parameters                                 25                       16\n",
      "Effective parameters                       21                       12\n",
      "Residual blocks                          1260                     1260\n",
      "Residual                                 2520                     2520\n",
      "\n",
      "Minimizer                        TRUST_REGION\n",
      "\n",
      "Dense linear algebra library            EIGEN\n",
      "Trust region strategy     LEVENBERG_MARQUARDT\n",
      "\n",
      "                                        Given                     Used\n",
      "Linear solver                        DENSE_QR                 DENSE_QR\n",
      "Threads                                  1000                     1000\n",
      "Linear solver threads                    1000                     1000\n",
      "\n",
      "Cost:\n",
      "Initial                          1.562746e+05\n",
      "Final                            6.462812e+03\n",
      "Change                           1.498118e+05\n",
      "\n",
      "Minimizer iterations                        4\n",
      "Successful steps                            4\n",
      "Unsuccessful steps                          0\n",
      "\n",
      "Time (in seconds):\n",
      "Preprocessor                           0.0023\n",
      "\n",
      "  Residual evaluation                  0.1377\n",
      "  Jacobian evaluation                  0.1769\n",
      "  Linear solver                        0.0019\n",
      "Minimizer                              0.3172\n",
      "\n",
      "Postprocessor                          0.0001\n",
      "Total                                  0.3195\n",
      "\n",
      "Termination:                      CONVERGENCE (Function tolerance reached. |cost_change|/cost: 1.361551e-08 <= 1.000000e-06)\n",
      "\n"
     ]
    }
   ],
   "source": [
    "hec = HandEyeCalibrator(estimated_hand_eye_motor, estimated_camera_robot_motor, intrinsics)\n",
    "for i in range(len(rob_motors)):\n",
    "    for j in range(len(pattern_points)):\n",
    "        hec.add_residual_block(rob_motors[i], \n",
    "                               vsr.Vec(*pattern_points[j]).null(), \n",
    "                               vsr.Vec(corners[i][j][0],corners[i][j][1],0.0))\n",
    "hec.linear_solver_type = \"DENSE_QR\"\n",
    "hec.max_num_iterations = 50\n",
    "hec.parameter_tolerance = 1e-16\n",
    "# hec.function_tolerance = 1e-16\n",
    "hec.parameter_tolerance = 1e-16\n",
    "hec.num_linear_solve_threads = 1000\n",
    "hec.num_threads = 1000\n",
    "hec.set_parameterization(\"BIVECTOR_GENERATOR\")\n",
    "he, cr, intr, summ = hec.solve()\n",
    "print(he)\n",
    "print(cr)\n",
    "print(intr)\n",
    "print(summ['full_report'])"
   ]
  },
  {
   "cell_type": "code",
   "execution_count": 18,
   "metadata": {
    "collapsed": false
   },
   "outputs": [
    {
     "name": "stdout",
     "output_type": "stream",
     "text": [
      "Drv: [ 0.07 -1 0.021 ]\n",
      "Drv: [ -1 -0.07 -0.0022 ]\n",
      "Drv: [ 0.0036 -0.02 -1 ]\n",
      "Pnt: [ 0.04378 0.09631 0.1596 1 0.01834 ]\n"
     ]
    }
   ],
   "source": [
    "print(vsr.Drv(1,0,0).spin(he))\n",
    "print(vsr.Drv(0,1,0).spin(he))\n",
    "print(vsr.Drv(0,0,1).spin(he))\n",
    "print(vsr.Vec(0,0,0).null().spin(he))"
   ]
  },
  {
   "cell_type": "code",
   "execution_count": 19,
   "metadata": {
    "collapsed": false
   },
   "outputs": [
    {
     "name": "stdout",
     "output_type": "stream",
     "text": [
      "Drv: [ 0.73 -0.68 -0.011 ]\n",
      "Drv: [ 0.0037 0.021 -1 ]\n",
      "Drv: [ 0.68 0.73 0.018 ]\n",
      "Pnt: [ -0.986 -0.8785 0.7388 1 1.145 ]\n"
     ]
    }
   ],
   "source": [
    "print(vsr.Drv(1,0,0).spin(cr))\n",
    "print(vsr.Drv(0,1,0).spin(cr))\n",
    "print(vsr.Drv(0,0,1).spin(cr))\n",
    "print(vsr.Vec(0,0,0).null().spin(cr))"
   ]
  },
  {
   "cell_type": "code",
   "execution_count": null,
   "metadata": {
    "collapsed": true
   },
   "outputs": [],
   "source": []
  },
  {
   "cell_type": "code",
   "execution_count": null,
   "metadata": {
    "collapsed": true
   },
   "outputs": [],
   "source": []
  }
 ],
 "metadata": {
  "kernelspec": {
   "display_name": "Python 2",
   "language": "python",
   "name": "python2"
  },
  "language_info": {
   "codemirror_mode": {
    "name": "ipython",
    "version": 2
   },
   "file_extension": ".py",
   "mimetype": "text/x-python",
   "name": "python",
   "nbconvert_exporter": "python",
   "pygments_lexer": "ipython2",
   "version": "2.7.11"
  }
 },
 "nbformat": 4,
 "nbformat_minor": 0
}
