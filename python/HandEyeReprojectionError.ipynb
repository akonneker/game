{
 "cells": [
  {
   "cell_type": "code",
   "execution_count": 1,
   "metadata": {
    "collapsed": false
   },
   "outputs": [
    {
     "name": "stdout",
     "output_type": "stream",
     "text": [
      "Populating the interactive namespace from numpy and matplotlib\n"
     ]
    },
    {
     "name": "stderr",
     "output_type": "stream",
     "text": [
      "WARNING: pylab import has clobbered these variables: ['copy']\n",
      "`%matplotlib` prevents importing * from pylab and numpy\n"
     ]
    }
   ],
   "source": [
    "from __future__ import print_function\n",
    "import sys\n",
    "import copy\n",
    "sys.path.append('../build/')\n",
    "%pylab inline\n",
    "np.set_printoptions(precision=4, suppress=True)\n",
    "import cPickle as pickle\n",
    "import cv2\n",
    "import math3d as m3d\n",
    "import versor as vsr\n",
    "from motor_estimation import MotorEstimationSolver\n",
    "from hand_eye_calibration import HandEyeCalibrator\n",
    "from chessboard import calibrate_lens, find_corners, get_object_pose"
   ]
  },
  {
   "cell_type": "markdown",
   "metadata": {},
   "source": [
    "### Object points"
   ]
  },
  {
   "cell_type": "code",
   "execution_count": 2,
   "metadata": {
    "collapsed": false
   },
   "outputs": [],
   "source": [
    "pattern_size = (10,6)\n",
    "square_size = 0.02\n",
    "pattern_points = np.zeros( (np.prod(pattern_size), 3), np.float64)\n",
    "pattern_points[:,:2] = np.indices(pattern_size).T.reshape(-1,2)\n",
    "pattern_points *= square_size"
   ]
  },
  {
   "cell_type": "markdown",
   "metadata": {},
   "source": [
    "### Robot poses"
   ]
  },
  {
   "cell_type": "code",
   "execution_count": 3,
   "metadata": {
    "collapsed": false
   },
   "outputs": [],
   "source": [
    "rob_pose_list = pickle.load(open('pose_list.dump'))\n",
    "rob_motors = [vsr.Vec(*pos).trs() * vsr.Rot(vsr.Vec(*axis).unduale() * angle / 2.)\n",
    "              for pos, (axis, angle) in [(m3d.Transform(pose).pos, \n",
    "                                          m3d.Transform(pose).orient.axis_angle)\n",
    "                                         for pose in rob_pose_list]]"
   ]
  },
  {
   "cell_type": "markdown",
   "metadata": {},
   "source": [
    "### Object poses"
   ]
  },
  {
   "cell_type": "code",
   "execution_count": 4,
   "metadata": {
    "collapsed": true
   },
   "outputs": [],
   "source": [
    "obj_pose_list = pickle.load(open('obj_pose_list.dump'))\n",
    "obj_motors = [vsr.Vec(*pos).trs() * vsr.Rot(vsr.Vec(*axis).unduale() * angle / 2.)\n",
    "              for pos, (axis, angle) in [(m3d.Transform(pose).pos, \n",
    "                                          m3d.Transform(pose).orient.axis_angle)\n",
    "                                         for pose in obj_pose_list]]"
   ]
  },
  {
   "cell_type": "markdown",
   "metadata": {},
   "source": [
    "### Pixels"
   ]
  },
  {
   "cell_type": "code",
   "execution_count": 5,
   "metadata": {
    "collapsed": false
   },
   "outputs": [],
   "source": [
    "images = pickle.load(open('image_list.dump'))\n",
    "camera_matrix, dist_coeffs = calibrate_lens(images)"
   ]
  },
  {
   "cell_type": "code",
   "execution_count": 6,
   "metadata": {
    "collapsed": false
   },
   "outputs": [],
   "source": [
    "intrinsics = [(camera_matrix[0,0] + camera_matrix[1,1]) / 2,\n",
    "              camera_matrix[0,2], camera_matrix[1,2]] + \\\n",
    "              dist_coeffs.tolist()"
   ]
  },
  {
   "cell_type": "code",
   "execution_count": 7,
   "metadata": {
    "collapsed": false
   },
   "outputs": [],
   "source": [
    "corners = [corners for corners in \n",
    "           [find_corners(image, pattern_size)[1].reshape(-1,2) \n",
    "            for image in images]]"
   ]
  },
  {
   "cell_type": "markdown",
   "metadata": {},
   "source": [
    "### Initital estimate"
   ]
  },
  {
   "cell_type": "code",
   "execution_count": 36,
   "metadata": {
    "collapsed": false
   },
   "outputs": [
    {
     "name": "stdout",
     "output_type": "stream",
     "text": [
      "Mot: [ 0.004 -0.0055 -0.68 -0.74 -0.044 -0.047 0.053 -0.0072 ]\n",
      "Mot: [ -0.66 -0.26 -0.26 -0.66 -0.3 -0.66 -0.15 -0.1 ]\n",
      "\n",
      "Solver Summary (v 1.12.0-eigen-(3.2.7)-lapack-suitesparse-(4.4.4)-cxsparse-(3.1.4)-openmp)\n",
      "\n",
      "                                     Original                  Reduced\n",
      "Parameter blocks                            1                        1\n",
      "Parameters                                  8                        8\n",
      "Effective parameters                        6                        6\n",
      "Residual blocks                           210                      210\n",
      "Residual                                 1260                     1260\n",
      "\n",
      "Minimizer                        TRUST_REGION\n",
      "\n",
      "Dense linear algebra library            EIGEN\n",
      "Trust region strategy     LEVENBERG_MARQUARDT\n",
      "\n",
      "                                        Given                     Used\n",
      "Linear solver                        DENSE_QR                 DENSE_QR\n",
      "Threads                                     1                        1\n",
      "Linear solver threads                       1                        1\n",
      "\n",
      "Cost:\n",
      "Initial                          1.056910e+03\n",
      "Final                            3.056245e+00\n",
      "Change                           1.053854e+03\n",
      "\n",
      "Minimizer iterations                       14\n",
      "Successful steps                           14\n",
      "Unsuccessful steps                          0\n",
      "\n",
      "Time (in seconds):\n",
      "Preprocessor                           0.0000\n",
      "\n",
      "  Residual evaluation                  0.0006\n",
      "  Jacobian evaluation                  0.0103\n",
      "  Linear solver                        0.0011\n",
      "Minimizer                              0.0128\n",
      "\n",
      "Postprocessor                          0.0000\n",
      "Total                                  0.0129\n",
      "\n",
      "Termination:                      CONVERGENCE (Parameter tolerance reached. Relative step_norm: 3.906056e-09 <= 1.000000e-08.)\n",
      "\n"
     ]
    }
   ],
   "source": [
    "n_lines = len(rob_motors)\n",
    "lines_a = []\n",
    "lines_b = []\n",
    "for i in range(n_lines):\n",
    "    for j in range(i+1,n_lines):\n",
    "        lines_a.append(((rob_motors[j].rev() * rob_motors[i]).log() * 0.5).unit())\n",
    "        lines_b.append(((obj_motors[j].rev() * obj_motors[i]).log() * 0.5).unit())\n",
    "initial_motor = vsr.Mot(1.0, 0.0, 0.0, 0.0, 0.0, 0.0, 0.0, 0.0)\n",
    "mes = MotorEstimationSolver(initial_motor)\n",
    "for a, b in zip(lines_a, lines_b):\n",
    "    mes.add_line_correspondences_residual_block(b,a)\n",
    "mes.set_parameterization('BIVECTOR_GENERATOR')\n",
    "mes.linear_solver_type = \"DENSE_QR\"\n",
    "mes.max_num_iterations = 25\n",
    "mes.function_tolerance = 1e-12\n",
    "estimated_hand_eye_motor, summary = mes.solve()\n",
    "print(estimated_hand_eye_motor)\n",
    "bivectors = [np.array((r * estimated_hand_eye_motor * o.rev()).log()) \n",
    "             for r, o in zip(rob_motors, obj_motors)]\n",
    "estimated_camera_robot_motor = vsr.Dll(*np.average(bivectors,0)).exp()\n",
    "print(estimated_camera_robot_motor)\n",
    "print(summary['full_report'])"
   ]
  },
  {
   "cell_type": "code",
   "execution_count": 38,
   "metadata": {
    "collapsed": false
   },
   "outputs": [
    {
     "data": {
      "text/plain": [
       "Pnt: [ -0.2568 -0.2212 0.7287 1 0.3229 ]"
      ]
     },
     "execution_count": 38,
     "metadata": {},
     "output_type": "execute_result"
    }
   ],
   "source": [
    "A = rob_motors[0]\n",
    "X = estimated_hand_eye_motor\n",
    "Z = estimated_camera_robot_motor\n",
    "B = obj_motors[0]\n",
    "vsr.Vec(*pattern_points[0]).null().spin(A * X)"
   ]
  },
  {
   "cell_type": "code",
   "execution_count": 39,
   "metadata": {
    "collapsed": false
   },
   "outputs": [
    {
     "data": {
      "text/plain": [
       "Pnt: [ -0.2609 -0.2065 0.7425 1 0.331 ]"
      ]
     },
     "execution_count": 39,
     "metadata": {},
     "output_type": "execute_result"
    }
   ],
   "source": [
    "vsr.Vec(*pattern_points[0]).null().spin(Z * B)"
   ]
  },
  {
   "cell_type": "code",
   "execution_count": null,
   "metadata": {
    "collapsed": true
   },
   "outputs": [],
   "source": []
  },
  {
   "cell_type": "markdown",
   "metadata": {},
   "source": [
    "### Hand Eye Calibration"
   ]
  },
  {
   "cell_type": "code",
   "execution_count": 40,
   "metadata": {
    "collapsed": false
   },
   "outputs": [
    {
     "name": "stdout",
     "output_type": "stream",
     "text": [
      "Mot: [ 0.004 -0.0055 -0.68 -0.74 -0.044 -0.047 0.053 -0.0072 ]\n",
      "Mot: [ -0.66 -0.26 -0.26 -0.66 -0.3 -0.66 -0.15 -0.1 ]\n",
      "[ 1329.5362   527.8128   368.6073    -0.2983     0.9377    -0.0016\n",
      "    -0.0005    -1.9702]\n"
     ]
    }
   ],
   "source": [
    "print(estimated_hand_eye_motor)\n",
    "print(estimated_camera_robot_motor)\n",
    "print(np.array(intrinsics))"
   ]
  },
  {
   "cell_type": "code",
   "execution_count": 41,
   "metadata": {
    "collapsed": false
   },
   "outputs": [
    {
     "name": "stdout",
     "output_type": "stream",
     "text": [
      "Drv: [ 0.083 -1 0.014 ]\n",
      "Drv: [ -1 -0.084 -0.0015 ]\n",
      "Drv: [ 0.0027 -0.013 -1 ]\n",
      "Pnt: [ 0.06106 0.08873 0.128 1 0.01399 ]\n"
     ]
    }
   ],
   "source": [
    "print(vsr.Drv(1,0,0).spin(estimated_hand_eye_motor))\n",
    "print(vsr.Drv(0,1,0).spin(estimated_hand_eye_motor))\n",
    "print(vsr.Drv(0,0,1).spin(estimated_hand_eye_motor))\n",
    "print(vsr.Vec(0,0,0).null().spin(estimated_hand_eye_motor))"
   ]
  },
  {
   "cell_type": "code",
   "execution_count": 42,
   "metadata": {
    "collapsed": false
   },
   "outputs": [
    {
     "name": "stdout",
     "output_type": "stream",
     "text": [
      "Mot: [ 0.0016 -0.0064 -0.68 -0.73 -0.054 -0.057 0.05 -0.016 ]\n",
      "Mot: [ -0.66 -0.26 -0.26 -0.65 -0.31 -0.66 -0.17 -0.11 ]\n",
      "[1329.5361737671249, 527.8127667721765, 368.60726444265345, -0.2982520378865284, 0.9377411649999892, -0.0015767729018760857, -0.0005171784934892454, -1.97016543830641]\n",
      "\n",
      "Solver Summary (v 1.12.0-eigen-(3.2.7)-lapack-suitesparse-(4.4.4)-cxsparse-(3.1.4)-openmp)\n",
      "\n",
      "                                     Original                  Reduced\n",
      "Parameter blocks                            2                        2\n",
      "Parameters                                 16                       16\n",
      "Effective parameters                       12                       12\n",
      "Residual blocks                          1260                     1260\n",
      "Residual                                 3780                     3780\n",
      "\n",
      "Minimizer                        TRUST_REGION\n",
      "\n",
      "Dense linear algebra library            EIGEN\n",
      "Trust region strategy     LEVENBERG_MARQUARDT\n",
      "\n",
      "                                        Given                     Used\n",
      "Linear solver                        DENSE_QR                 DENSE_QR\n",
      "Threads                                  1000                     1000\n",
      "Linear solver threads                    1000                     1000\n",
      "\n",
      "Cost:\n",
      "Initial                          7.114512e-02\n",
      "Final                            9.233000e-03\n",
      "Change                           6.191212e-02\n",
      "\n",
      "Minimizer iterations                        3\n",
      "Successful steps                            3\n",
      "Unsuccessful steps                          0\n",
      "\n",
      "Time (in seconds):\n",
      "Preprocessor                           0.0006\n",
      "\n",
      "  Residual evaluation                  0.1096\n",
      "  Jacobian evaluation                  0.1351\n",
      "  Linear solver                        0.0025\n",
      "Minimizer                              0.2479\n",
      "\n",
      "Postprocessor                          0.0001\n",
      "Total                                  0.2486\n",
      "\n",
      "Termination:                      CONVERGENCE (Function tolerance reached. |cost_change|/cost: 1.967865e-09 <= 1.000000e-06)\n",
      "\n"
     ]
    }
   ],
   "source": [
    "hec = HandEyeCalibrator(estimated_hand_eye_motor, estimated_camera_robot_motor, intrinsics)\n",
    "for a, b in zip(rob_motors, obj_motors):\n",
    "    for p in pattern_points:\n",
    "        hec.add_residual_block_2(a, b, vsr.Vec(*p).null())\n",
    "hec.linear_solver_type = \"DENSE_QR\"\n",
    "hec.max_num_iterations = 100\n",
    "hec.num_linear_solve_threads = 1000\n",
    "hec.num_threads = 1000\n",
    "hec.set_parameterization(\"BIVECTOR_GENERATOR\")\n",
    "he, cr, intr, summ = hec.solve()\n",
    "print(he)\n",
    "print(cr)\n",
    "print(intr)\n",
    "print(summ['full_report'])"
   ]
  },
  {
   "cell_type": "code",
   "execution_count": 28,
   "metadata": {
    "collapsed": false
   },
   "outputs": [],
   "source": [
    "\n",
    "# hec = HandEyeCalibrator(estimated_hand_eye_motor, estimated_camera_robot_motor, intrinsics)\n",
    "\n",
    "# k = 0\n",
    "# for i in range(len(rob_motors)):\n",
    "#     for j in range(len(pattern_points)):\n",
    "#         k += 1\n",
    "#         hec.add_residual_block(rob_motors[i], \n",
    "#                                vsr.Vec(*pattern_points[j]).null(), \n",
    "#                                vsr.Vec(corners[i][j][0],corners[i][j][1],0.0))\n",
    "        \n",
    "# hec.linear_solver_type = \"DENSE_QR\"\n",
    "# hec.max_num_iterations = 50\n",
    "# hec.num_linear_solve_threads = 1000\n",
    "# hec.num_threads = 1000\n",
    "# hec.set_parameterization(\"BIVECTOR_GENERATOR\")\n",
    "# he, cr, intr, summ = hec.solve()\n",
    "# print(he)\n",
    "# print(cr)\n",
    "# print(intr)\n",
    "# print(summ['full_report'])"
   ]
  },
  {
   "cell_type": "code",
   "execution_count": 43,
   "metadata": {
    "collapsed": false
   },
   "outputs": [
    {
     "name": "stdout",
     "output_type": "stream",
     "text": [
      "Drv: [ 0.071 -1 0.012 ]\n",
      "Drv: [ -1 -0.071 -0.0065 ]\n",
      "Drv: [ 0.0073 -0.011 -1 ]\n",
      "Pnt: [ 0.04445 0.09669 0.157 1 0.01799 ]\n"
     ]
    }
   ],
   "source": [
    "print(vsr.Drv(1,0,0).spin(he))\n",
    "print(vsr.Drv(0,1,0).spin(he))\n",
    "print(vsr.Drv(0,0,1).spin(he))\n",
    "print(vsr.Vec(0,0,0).null().spin(he))"
   ]
  },
  {
   "cell_type": "code",
   "execution_count": 30,
   "metadata": {
    "collapsed": false
   },
   "outputs": [
    {
     "name": "stdout",
     "output_type": "stream",
     "text": [
      "Drv: [ 0.73 -0.68 -0.011 ]\n",
      "Drv: [ 0.0027 0.018 -1 ]\n",
      "Drv: [ 0.68 0.73 0.015 ]\n",
      "Pnt: [ -0.9877 -0.8758 0.7416 1 1.146 ]\n"
     ]
    }
   ],
   "source": [
    "print(vsr.Drv(1,0,0).spin(cr))\n",
    "print(vsr.Drv(0,1,0).spin(cr))\n",
    "print(vsr.Drv(0,0,1).spin(cr))\n",
    "print(vsr.Vec(0,0,0).null().spin(cr))"
   ]
  },
  {
   "cell_type": "code",
   "execution_count": null,
   "metadata": {
    "collapsed": true
   },
   "outputs": [],
   "source": []
  },
  {
   "cell_type": "code",
   "execution_count": null,
   "metadata": {
    "collapsed": true
   },
   "outputs": [],
   "source": []
  }
 ],
 "metadata": {
  "kernelspec": {
   "display_name": "Python 2",
   "language": "python",
   "name": "python2"
  },
  "language_info": {
   "codemirror_mode": {
    "name": "ipython",
    "version": 2
   },
   "file_extension": ".py",
   "mimetype": "text/x-python",
   "name": "python",
   "nbconvert_exporter": "python",
   "pygments_lexer": "ipython2",
   "version": "2.7.11"
  }
 },
 "nbformat": 4,
 "nbformat_minor": 0
}
