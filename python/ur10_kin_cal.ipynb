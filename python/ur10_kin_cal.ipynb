{
 "cells": [
  {
   "cell_type": "code",
   "execution_count": 1,
   "metadata": {
    "collapsed": false
   },
   "outputs": [
    {
     "name": "stdout",
     "output_type": "stream",
     "text": [
      "Populating the interactive namespace from numpy and matplotlib\n"
     ]
    }
   ],
   "source": [
    "import PyKDL as kdl\n",
    "%pylab inline\n",
    "np.set_printoptions(precision=4,suppress=True)"
   ]
  },
  {
   "cell_type": "markdown",
   "metadata": {},
   "source": [
    "# Kinematic Calibration of the Universal Robots UR10 Manipulator"
   ]
  },
  {
   "cell_type": "markdown",
   "metadata": {},
   "source": [
    " ![](http://www.universal-robots.com/media/22419/ur_product_ur10.png)"
   ]
  },
  {
   "cell_type": "markdown",
   "metadata": {},
   "source": [
    "## Denavit-Hartenberg Parameters"
   ]
  },
  {
   "cell_type": "code",
   "execution_count": 2,
   "metadata": {
    "collapsed": true
   },
   "outputs": [],
   "source": [
    "dh_a = [0.000, -0.612, -0.5723, 0.000000, 0.0000, 0.0000]\n",
    "dh_d = [0.1273,  0.000,  0.0000, 0.163941, 0.1157, 0.0922]\n",
    "dh_alpha = [ 1.570796327, 0, 0, 1.570796327, -1.570796327, 0 ]\n",
    "q_home_offset = [0, -1.570796327, 0, -1.570796327, 0, 0]\n",
    "joint_direction = [1, 1, -1, 1, 1, 1]\n",
    "num_of_joints = 6"
   ]
  },
  {
   "cell_type": "markdown",
   "metadata": {},
   "source": [
    "## Link Parameters"
   ]
  },
  {
   "cell_type": "code",
   "execution_count": 3,
   "metadata": {
    "collapsed": false
   },
   "outputs": [],
   "source": [
    "mass = [7.1, 12.7, 4.27, 2.000, 2.000, 0.365]\n",
    "center_of_mass = [[0.021, 0.000, 0.027], \n",
    "                  [0.38, 0.000, 0.158], \n",
    "                  [0.24, 0.000, 0.068], \n",
    "                  [0.000, 0.007, 0.018], \n",
    "                  [0.000, 0.007, 0.018], \n",
    "                  [0, 0, -0.026] ]\n",
    "inertia_matrix = np.array([[0.03408, 0.00002, -0.00425, 0.00002, 0.03529, 0.00008, 0.00425, 0.00008, 0.02156], \n",
    "                  [0.02814, 0.00005, -0.01561, 0.00005, 0.77068, 0.00002, -0.01561, 0.00002, 0.76943], \n",
    "                  [0.01014, 0.00008, 0.00916, 0.00008, 0.30928, 0.00000, 0.00916, 0.00000, 0.30646], \n",
    "                  [0.00296, -0.00001, -0.00000, -0.00001, 0.00222, -0.00024, -0.00000, -0.00024, 0.00258], \n",
    "                  [0.00296, -0.00001, -0.00000, -0.00001, 0.00222, -0.00024, -0.00000, -0.00024, 0.00258], \n",
    "                  [0.00040, 0.00000,  -0.00000, 0.00000, 0.00041, 0.00000, -0.00000, 0.00000, 0.00034]])\n",
    "gravity = [0.0, 0.0, 9.82]"
   ]
  },
  {
   "cell_type": "markdown",
   "metadata": {
    "collapsed": false
   },
   "source": [
    "## Orocos "
   ]
  },
  {
   "cell_type": "code",
   "execution_count": 4,
   "metadata": {
    "collapsed": false
   },
   "outputs": [],
   "source": [
    "chain = kdl.Chain()\n",
    "for a, alpha, d in zip(dh_a, dh_alpha, dh_d):\n",
    "    joint = kdl.Joint(kdl.Joint.RotZ)\n",
    "    frame = kdl.Frame().DH(a, alpha, d, 0)\n",
    "    chain.addSegment(kdl.Segment(joint, frame))"
   ]
  },
  {
   "cell_type": "code",
   "execution_count": 5,
   "metadata": {
    "collapsed": false
   },
   "outputs": [],
   "source": [
    "jnt_jac_solver = kdl.ChainJntToJacSolver(chain)\n",
    "fk_solver_pos = kdl.ChainFkSolverPos_recursive(chain)\n",
    "fk_solver_vel = kdl.ChainFkSolverVel_recursive(chain)\n",
    "ik_solver_vel = kdl.ChainIkSolverVel_pinv(chain)\n",
    "ik_solver_pos = kdl.ChainIkSolverPos_NR(chain, fk_solver_pos, ik_solver_vel)"
   ]
  },
  {
   "cell_type": "code",
   "execution_count": 6,
   "metadata": {
    "collapsed": false
   },
   "outputs": [
    {
     "name": "stdout",
     "output_type": "stream",
     "text": [
      "[     -0.1157,-2.42904e-10,      1.1843,           0,           1, 2.05103e-10]\n"
     ]
    }
   ],
   "source": [
    "q = kdl.JntArray(6)\n",
    "# q[0] = 0.5\n",
    "# q[1] = pi/2 \n",
    "qdot = kdl.JntArray(6)\n",
    "qdot[1] = -1.0\n",
    "kdl_frame_vel = kdl.FrameVel()\n",
    "kdl_joint_vel = kdl.JntArrayVel(6)\n",
    "kdl_joint_vel.q = q\n",
    "kdl_joint_vel.qdot = qdot\n",
    "fk_solver_vel.JntToCart(kdl_joint_vel, kdl_frame_vel, -1)\n",
    "twist = kdl_frame_vel.GetTwist()\n",
    "print(twist)"
   ]
  },
  {
   "cell_type": "code",
   "execution_count": 7,
   "metadata": {
    "collapsed": false
   },
   "outputs": [
    {
     "data": {
      "text/plain": [
       "array([     -1.1843,   -0.256141,      0.0116], dtype=object)"
      ]
     },
     "execution_count": 7,
     "metadata": {},
     "output_type": "execute_result"
    }
   ],
   "source": [
    "frame = kdl.Frame()\n",
    "# q[1] = -pi/2\n",
    "fk_solver_pos.JntToCart(q, frame)\n",
    "np.array(frame.p)"
   ]
  },
  {
   "cell_type": "code",
   "execution_count": 12,
   "metadata": {
    "collapsed": false
   },
   "outputs": [
    {
     "name": "stdout",
     "output_type": "stream",
     "text": [
      "[[ 0.2561  0.1157  0.1157  0.1157 -0.0922  0.    ]\n",
      " [-1.1843  0.      0.      0.      0.      0.    ]\n",
      " [ 0.     -1.1843 -0.5723  0.      0.      0.    ]\n",
      " [ 0.      0.      0.      0.      0.      0.    ]\n",
      " [ 0.     -1.     -1.     -1.      0.     -1.    ]\n",
      " [ 1.     -0.     -0.     -0.     -1.     -0.    ]]\n"
     ]
    }
   ],
   "source": [
    "jac = kdl.Jacobian(6)\n",
    "jnt_jac_solver.JntToJac(q,jac)\n",
    "J = np.zeros((6,6))\n",
    "for i in range(6):\n",
    "    for j in range(6):\n",
    "        J[i,j] = jac[i,j]\n",
    "print(J)"
   ]
  },
  {
   "cell_type": "code",
   "execution_count": 9,
   "metadata": {
    "collapsed": false
   },
   "outputs": [
    {
     "data": {
      "text/plain": [
       "array([[ 1.,  0.,  0.,  0.,  0.,  0.],\n",
       "       [ 0.,  2.,  0.,  0.,  0.,  0.],\n",
       "       [ 0.,  0.,  3.,  0.,  0.,  0.],\n",
       "       [ 0.,  0.,  0.,  4.,  0.,  0.],\n",
       "       [ 0.,  0.,  0.,  0.,  5.,  0.],\n",
       "       [ 0.,  0.,  0.,  0.,  0.,  6.]])"
      ]
     },
     "execution_count": 9,
     "metadata": {},
     "output_type": "execute_result"
    }
   ],
   "source": [
    "K = np.diag([1.0, 2.0, 3.0, 4.0, 5.0, 6.0])\n",
    "K"
   ]
  },
  {
   "cell_type": "code",
   "execution_count": 10,
   "metadata": {
    "collapsed": false
   },
   "outputs": [
    {
     "data": {
      "text/plain": [
       "1.5833352156129166"
      ]
     },
     "execution_count": 10,
     "metadata": {},
     "output_type": "execute_result"
    }
   ],
   "source": [
    "r = np.linalg.norm(np.array([-0.11, 0.16, 0.33]) - np.array([0.0, 0.16, 0.13]))\n",
    "r * cos(-pi/4) * 9.81"
   ]
  }
 ],
 "metadata": {
  "kernelspec": {
   "display_name": "Python 2",
   "language": "python",
   "name": "python2"
  },
  "language_info": {
   "codemirror_mode": {
    "name": "ipython",
    "version": 2
   },
   "file_extension": ".py",
   "mimetype": "text/x-python",
   "name": "python",
   "nbconvert_exporter": "python",
   "pygments_lexer": "ipython2",
   "version": "2.7.6"
  }
 },
 "nbformat": 4,
 "nbformat_minor": 0
}
