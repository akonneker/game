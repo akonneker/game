{
 "cells": [
  {
   "cell_type": "code",
   "execution_count": 2,
   "metadata": {
    "collapsed": false
   },
   "outputs": [
    {
     "name": "stdout",
     "output_type": "stream",
     "text": [
      "Populating the interactive namespace from numpy and matplotlib\n"
     ]
    }
   ],
   "source": [
    "import sys\n",
    "import sys\n",
    "sys.path.append('../build/')\n",
    "\n",
    "from PyGMO import algorithm, island, archipelago\n",
    "import versor as vsr\n",
    "%pylab inline\n",
    "np.set_printoptions(precision=6, suppress=True)"
   ]
  },
  {
   "cell_type": "markdown",
   "metadata": {},
   "source": [
    "# PK8103 Swarm Intelligence"
   ]
  },
  {
   "cell_type": "markdown",
   "metadata": {},
   "source": [
    "This notebook implements the swarm intelligence algorithms **Ant Colony Optimization (ACO)**, **Artificial Bee Colony Optimization (ABC)** and **Particle Swarm Optimization (PSO)** for estimation of **rigid body motion motors** from point clouds using **Conformal Geometric Algebra (CGA)**."
   ]
  },
  {
   "cell_type": "markdown",
   "metadata": {},
   "source": [
    "## Conformal Geometric Algebra"
   ]
  },
  {
   "cell_type": "markdown",
   "metadata": {},
   "source": [
    "### Polar Decomposition"
   ]
  },
  {
   "cell_type": "markdown",
   "metadata": {},
   "source": [
    "$$M = \\frac{X}{|X|}\\left(1 - \\frac{\\langle X \\widetilde{X} \\rangle_4}{2 \\langle X \\widetilde{X} \\rangle} \\right),\\ X \\in \\mathbb{M}$$"
   ]
  },
  {
   "cell_type": "code",
   "execution_count": 3,
   "metadata": {
    "collapsed": true
   },
   "outputs": [],
   "source": [
    "def polar_decomposition(x):\n",
    "    xx = x * x.rev()\n",
    "    sinv = (vsr.Sca(1.0) + (vsr.Drt(- xx[7] / (2 * xx[0]))))\n",
    "    return x * sinv"
   ]
  },
  {
   "cell_type": "markdown",
   "metadata": {},
   "source": [
    "### Cost Function\n",
    "\n",
    "$$ C = \\sum_i^n \\| \\mathcal{K}^{-1}(b_i) - \\mathcal{K}^{-1}(M a_i \\widetilde{M})    \\|^2 $$"
   ]
  },
  {
   "cell_type": "code",
   "execution_count": 4,
   "metadata": {
    "collapsed": false
   },
   "outputs": [],
   "source": [
    "def cost_function(m):\n",
    "    mot = vsr.Mot(*m.ravel())\n",
    "    mot = polar_decomposition(mot)\n",
    "    b_ = [point.spin(mot) for point in points_a]\n",
    "#     b = points_b_noisy\n",
    "    b = points_b\n",
    "    return np.sum([np.linalg.norm(pa.to_array()[:3] - \n",
    "                                  pb.to_array()[:3]) for pa, pb in zip(b, b_)])"
   ]
  },
  {
   "cell_type": "markdown",
   "metadata": {},
   "source": [
    "### Dataset generation"
   ]
  },
  {
   "cell_type": "code",
   "execution_count": 5,
   "metadata": {
    "collapsed": false
   },
   "outputs": [],
   "source": [
    "n = 10\n",
    "sigma = 0.01\n",
    "motor = vsr.Trs.from_vector(vsr.Vec(1,1,1)) * vsr.Rot.from_bivector(vsr.Biv(0,1,0) * np.pi/6.0)\n",
    "points_a = [vsr.Vec(*np.random.normal(0.0, 0.8, 3)).null() for i in range(n)]\n",
    "points_b = [point.spin(motor) for point in points_a]\n",
    "points_b_noisy = [vsr.Vec(*(point.to_array()[:3] + sigma * np.random.randn(3))).null() for point in points_b]"
   ]
  },
  {
   "cell_type": "markdown",
   "metadata": {},
   "source": [
    "### RMS Distance"
   ]
  },
  {
   "cell_type": "code",
   "execution_count": 6,
   "metadata": {
    "collapsed": true
   },
   "outputs": [],
   "source": [
    "def rms_distance(final_motor):\n",
    "    points_b_estimated = [point.spin(final_motor) for point in points_a]\n",
    "    rms_distance = np.sum([ np.linalg.norm(a.to_array()[:3] - b.to_array()[:3])\n",
    "                            for a, b in zip(points_b, points_b_estimated)]) / np.sqrt(n)\n",
    "    return rms_distance"
   ]
  },
  {
   "cell_type": "markdown",
   "metadata": {},
   "source": [
    "### PyGMO wrapper"
   ]
  },
  {
   "cell_type": "code",
   "execution_count": 7,
   "metadata": {
    "collapsed": false
   },
   "outputs": [],
   "source": [
    "from PyGMO.problem import base\n",
    "class MotorEstimationProblem(base):\n",
    "    def __init__(self, dim=8):\n",
    "        super(MotorEstimationProblem,self).__init__(dim)\n",
    "        self.set_bounds(-1, 1)\n",
    "    \n",
    "    def _objfun_impl(self, x):\n",
    "        return (cost_function(x), )\n",
    "    \n",
    "    def human_readable_extra(self):\n",
    "        return \"\\n\\t Problem dimension: \" + str(self.__dim)"
   ]
  },
  {
   "cell_type": "markdown",
   "metadata": {},
   "source": [
    "## Artificial Bee Colony Optimization *(ABC)*"
   ]
  },
  {
   "cell_type": "code",
   "execution_count": 8,
   "metadata": {
    "collapsed": false
   },
   "outputs": [],
   "source": [
    "# prob = MotorEstimationProblem(dim=8)\n",
    "# algo = algorithm.bee_colony(gen=1000)\n",
    "# isl = island(algo, prob, 20)\n",
    "# isl.evolve(1)\n",
    "# isl.join()\n",
    "# print(isl.population.champion.f[0])\n",
    "# x = isl.population.champion.x\n",
    "# m_bee = polar_decomposition(vsr.Mot(*x))\n",
    "# print(m_bee)"
   ]
  },
  {
   "cell_type": "code",
   "execution_count": 9,
   "metadata": {
    "collapsed": false
   },
   "outputs": [],
   "source": [
    "class ArtificialBeeColonyAlgorithm(object):\n",
    "    def __init__(self, \n",
    "                 objective_function, \n",
    "                 dimension, \n",
    "                 upper_bounds,\n",
    "                 lower_bounds,\n",
    "                 population_size, \n",
    "                 max_trial_limit, \n",
    "                 max_num_iterations,\n",
    "                 debug=False):\n",
    "        self._objective_function = objective_function\n",
    "        self._dimension = dimension\n",
    "        self._lower_bounds = lower_bounds\n",
    "        self._upper_bounds = upper_bounds\n",
    "        self._population_size = population_size\n",
    "        self._food_size = self._population_size / 2\n",
    "        self._max_trial_limit = max_trial_limit\n",
    "        self._max_num_iterations = max_num_iterations\n",
    "        \n",
    "        self._foods = self._create_food(self._food_size)\n",
    "        self._objective_values = self._calculate_objective_values(self._foods)\n",
    "        self._fitness_values = self._calculate_fitness_values(self._objective_values)\n",
    "        \n",
    "        self._trials = np.zeros(self._food_size)\n",
    "        \n",
    "        self._best_index = np.argmin(self._objective_values)\n",
    "        self._global_min_objective_value = self._objective_values[self._best_index]\n",
    "        self._global_min_objective_values = [self._global_min_objective_value]\n",
    "        self._global_best_food = self._foods[self._best_index,:]\n",
    "        \n",
    "        self._debug = debug\n",
    "    \n",
    "    def _create_food(self, size):\n",
    "        food = np.random.random((size, dim)) *\\\n",
    "                np.tile(upper_bounds - lower_bounds, (size,1)) +\\\n",
    "                np.tile(lower_bounds, (size,1))\n",
    "        return food\n",
    "    \n",
    "    def _calculate_objective_values(self, foods):\n",
    "        return np.array([self._objective_function(solution) for solution in foods])\n",
    "    \n",
    "    def _calculate_fitness_values(self, objective_values):\n",
    "        return np.array([1. / (objective_value + 1.) \n",
    "                         if objective_value >= 0. \n",
    "                         else 1. + np.abs(objective_value) \n",
    "                         for objective_value in objective_values])\n",
    "    def _evaluate(self, i):\n",
    "            j = np.random.random_integers(self._dimension) - 1\n",
    "            k = np.random.random_integers(self._food_size) - 1\n",
    "            while k == i:\n",
    "                k = np.random.random_integers(self._food_size) - 1\n",
    "\n",
    "            v_i = self._foods[i,:].copy()\n",
    "            x_ij = self._foods[i,j]\n",
    "            x_kj = self._foods[k,j]\n",
    "            phi_ij = 2 * (np.random.rand() - 0.5)\n",
    "            v_i[j] = x_ij + phi_ij * (x_ij - x_kj)\n",
    "\n",
    "            # Check if parameter is outside bounds. If so set it to the \n",
    "            # limit.\n",
    "            v_i = np.where(v_i < upper_bounds, v_i, upper_bounds).copy()\n",
    "            v_i = np.where(v_i > lower_bounds, v_i, lower_bounds).copy()\n",
    "\n",
    "            objective_value = self._calculate_objective_values([v_i])\n",
    "            fitness_value = self._calculate_fitness_values(objective_value)\n",
    "\n",
    "            if fitness_value > self._fitness_values[i]:\n",
    "                self._foods[i,:] = v_i.copy()\n",
    "                self._fitness_values[i] = fitness_value.copy()\n",
    "                self._objective_values[i] = objective_value.copy()\n",
    "                self._trials[i] = 0\n",
    "            else:\n",
    "                self._trials[i] = self._trials[i] + 1\n",
    "        \n",
    "    def _calculate_probabilities(self, fitness_values):\n",
    "        '''p_i = fit_i / sum_i^n fit_i'''\n",
    "        prob = fitness_values / np.sum(fitness_values)\n",
    "#         prob = (0.9 * fitness_values / max(fitness_values)) + 0.1\n",
    "        return prob\n",
    "    \n",
    "    def solve(self):\n",
    "        for iteration in range(self._max_num_iterations):\n",
    "            # Employed bee phase\n",
    "            for i in range(self._food_size):\n",
    "                self._evaluate(i)\n",
    "\n",
    "            # Calculate probabilities. \n",
    "            # p_i = fit_i / sum_i^n fit_i\n",
    "            probabilities = self._calculate_probabilities(self._fitness_values)\n",
    "\n",
    "            # Onloooker bee phase\n",
    "            i = 0\n",
    "            t = 0\n",
    "            while t < self._food_size:\n",
    "                do_forage = np.random.rand() < probabilities[i]\n",
    "                if do_forage:\n",
    "                    t = t + 1\n",
    "                    self._evaluate(i)\n",
    "                i = i + 1\n",
    "                if i == self._food_size:\n",
    "                    i = 0\n",
    "\n",
    "            # Update best solution\n",
    "            best_index = np.argmin(self._objective_values)\n",
    "            objective_value = self._objective_values[best_index]\n",
    "            if objective_value < self._global_min_objective_value:\n",
    "                self._best_index = best_index\n",
    "                self._global_min_objective_value = objective_value\n",
    "                self._global_best_food = self._foods[best_index,:]\n",
    "\n",
    "            # Scout bee phase\n",
    "            max_trial_idx = np.argmax(self._trials)\n",
    "            max_trial = self._trials[max_trial_idx]\n",
    "            if max_trial > self._max_trial_limit:\n",
    "                self._trials[max_trial_idx] = 0\n",
    "                v_i = self._create_food(1)\n",
    "                objective_value = self._calculate_objective_values([v_i])\n",
    "                fitness_value = self._calculate_fitness_values(objective_value)\n",
    "                self._foods[max_trial_idx, :] = v_i.copy()\n",
    "                self._fitness_values[max_trial_idx] = fitness_value.copy()\n",
    "                self._objective_values[max_trial_idx] = objective_value\n",
    "\n",
    "            self._global_min_objective_values.append(self._global_min_objective_value)\n",
    "            if self._debug:\n",
    "                if not iteration % 50:\n",
    "                    print('Iteration: {}, f(x_i)_min: {}, i: {}'.format(iteration, \n",
    "                                                                        self._global_min_objective_value, \n",
    "                                                                        self._best_index))\n",
    "        return self._global_best_food\n",
    "    \n",
    "    def plot(self):\n",
    "        plt.plot(self._global_min_objective_values)\n",
    "        plt.xscale('log')"
   ]
  },
  {
   "cell_type": "code",
   "execution_count": 10,
   "metadata": {
    "collapsed": false
   },
   "outputs": [],
   "source": [
    "population_size = 20\n",
    "max_trial_limit = 80\n",
    "max_num_iterations = 2000\n",
    "dim = 8\n",
    "upper_bounds = np.ones((1,dim)) * 1\n",
    "lower_bounds = np.ones((1,dim)) * -1\n",
    "abc = ArtificialBeeColonyAlgorithm(cost_function, dim, \n",
    "                                   upper_bounds, lower_bounds, \n",
    "                                   population_size, max_trial_limit, \n",
    "                                   max_num_iterations, debug=True)"
   ]
  },
  {
   "cell_type": "code",
   "execution_count": 11,
   "metadata": {
    "collapsed": false
   },
   "outputs": [
    {
     "name": "stdout",
     "output_type": "stream",
     "text": [
      "Iteration: 0, f(x_i)_min: 22.4060347951, i: 9\n",
      "Iteration: 50, f(x_i)_min: 3.68256238517, i: 9\n",
      "Iteration: 100, f(x_i)_min: 1.16895904149, i: 9\n",
      "Iteration: 150, f(x_i)_min: 0.728810856463, i: 9\n",
      "Iteration: 200, f(x_i)_min: 0.235094256397, i: 9\n",
      "Iteration: 250, f(x_i)_min: 0.163124017769, i: 9\n",
      "Iteration: 300, f(x_i)_min: 0.163124017769, i: 9\n",
      "Iteration: 350, f(x_i)_min: 0.163124017769, i: 9\n",
      "Iteration: 400, f(x_i)_min: 0.163124017769, i: 9\n",
      "Iteration: 450, f(x_i)_min: 0.105109947851, i: 3\n",
      "Iteration: 500, f(x_i)_min: 0.0699819886072, i: 3\n",
      "Iteration: 550, f(x_i)_min: 0.0454650755784, i: 5\n",
      "Iteration: 600, f(x_i)_min: 0.0399885964231, i: 3\n",
      "Iteration: 650, f(x_i)_min: 0.0247655972821, i: 3\n",
      "Iteration: 700, f(x_i)_min: 0.0192974756967, i: 3\n",
      "Iteration: 750, f(x_i)_min: 0.0163678266621, i: 3\n",
      "Iteration: 800, f(x_i)_min: 0.0109411223464, i: 9\n",
      "Iteration: 850, f(x_i)_min: 0.00703499070999, i: 3\n",
      "Iteration: 900, f(x_i)_min: 0.0053991097854, i: 3\n",
      "Iteration: 950, f(x_i)_min: 0.00422352366204, i: 9\n",
      "Iteration: 1000, f(x_i)_min: 0.00404248335153, i: 9\n",
      "Iteration: 1050, f(x_i)_min: 0.00196271884316, i: 9\n",
      "Iteration: 1100, f(x_i)_min: 0.000664072556573, i: 9\n",
      "Iteration: 1150, f(x_i)_min: 0.0005916740651, i: 9\n",
      "Iteration: 1200, f(x_i)_min: 0.000290117815498, i: 9\n",
      "Iteration: 1250, f(x_i)_min: 0.000148949379488, i: 9\n",
      "Iteration: 1300, f(x_i)_min: 0.000122783944952, i: 9\n",
      "Iteration: 1350, f(x_i)_min: 7.71135749982e-05, i: 9\n",
      "Iteration: 1400, f(x_i)_min: 7.66569731094e-05, i: 9\n",
      "Iteration: 1450, f(x_i)_min: 7.66569731094e-05, i: 9\n",
      "Iteration: 1500, f(x_i)_min: 7.66569731094e-05, i: 9\n",
      "Iteration: 1550, f(x_i)_min: 7.66569731094e-05, i: 9\n",
      "Iteration: 1600, f(x_i)_min: 7.66569731094e-05, i: 9\n",
      "Iteration: 1650, f(x_i)_min: 7.66569731094e-05, i: 9\n",
      "Iteration: 1700, f(x_i)_min: 7.66569731094e-05, i: 9\n",
      "Iteration: 1750, f(x_i)_min: 7.66569731094e-05, i: 9\n",
      "Iteration: 1800, f(x_i)_min: 7.66569731094e-05, i: 9\n",
      "Iteration: 1850, f(x_i)_min: 7.66569731094e-05, i: 9\n",
      "Iteration: 1900, f(x_i)_min: 7.66569731094e-05, i: 9\n",
      "Iteration: 1950, f(x_i)_min: 7.66569731094e-05, i: 9\n"
     ]
    }
   ],
   "source": [
    "m_bee = abc.solve()"
   ]
  },
  {
   "cell_type": "code",
   "execution_count": 13,
   "metadata": {
    "collapsed": false
   },
   "outputs": [
    {
     "data": {
      "text/plain": [
       "<Container object of 10 artists>"
      ]
     },
     "execution_count": 13,
     "metadata": {},
     "output_type": "execute_result"
    },
    {
     "data": {
      "image/png": "[encoded data removed]",
      "text/plain": [
       "<matplotlib.figure.Figure at 0x10d5d4d50>"
      ]
     },
     "metadata": {},
     "output_type": "display_data"
    }
   ],
   "source": [
    "plt.bar(np.arange(10),abc._calculate_probabilities(abc._fitness_values))"
   ]
  },
  {
   "cell_type": "code",
   "execution_count": 14,
   "metadata": {
    "collapsed": false
   },
   "outputs": [
    {
     "name": "stdout",
     "output_type": "stream",
     "text": [
      "0.965743  0.00519804  -0.25598  -0.00106484  -0.607621  -0.486423  -0.354073  -0.130167  \n"
     ]
    }
   ],
   "source": [
    "m_bee = polar_decomposition(vsr.Mot(*m_bee))\n",
    "print(m_bee)\n"
   ]
  },
  {
   "cell_type": "code",
   "execution_count": 15,
   "metadata": {
    "collapsed": false
   },
   "outputs": [
    {
     "data": {
      "text/plain": [
       "0.033358165395865294"
      ]
     },
     "execution_count": 15,
     "metadata": {},
     "output_type": "execute_result"
    }
   ],
   "source": [
    "rms_distance(vsr.Mot(*m_bee.to_array()))"
   ]
  },
  {
   "cell_type": "markdown",
   "metadata": {},
   "source": [
    "## Particle Swarm Optimization *(PSO)*"
   ]
  },
  {
   "cell_type": "code",
   "execution_count": null,
   "metadata": {
    "collapsed": false
   },
   "outputs": [],
   "source": [
    "prob = MotorEstimationProblem(dim=8)\n",
    "algo = algorithm.pso(gen=1000)\n",
    "isl = island(algo, prob, 20)\n",
    "isl.evolve(1)\n",
    "isl.join()\n",
    "print(isl.population.champion.f[0])\n",
    "x = isl.population.champion.x\n",
    "m_pso = polar_decomposition(vsr.Mot(*x))\n",
    "print(m_pso)"
   ]
  },
  {
   "cell_type": "code",
   "execution_count": null,
   "metadata": {
    "collapsed": false
   },
   "outputs": [],
   "source": [
    "rms_distance(m_pso)"
   ]
  },
  {
   "cell_type": "markdown",
   "metadata": {},
   "source": [
    "### Genetic Algorithm"
   ]
  },
  {
   "cell_type": "code",
   "execution_count": null,
   "metadata": {
    "collapsed": false
   },
   "outputs": [],
   "source": [
    "prob = MotorEstimationProblem(dim=8)\n",
    "algo = algorithm.sga(gen=4000)\n",
    "isl = island(algo, prob, 10)\n",
    "isl.evolve(1)\n",
    "isl.join()\n",
    "print(isl.population.champion.f[0])\n",
    "x = isl.population.champion.x\n",
    "m_sga = polar_decomposition(vsr.Mot(*x))\n",
    "print(m_sga)"
   ]
  },
  {
   "cell_type": "code",
   "execution_count": null,
   "metadata": {
    "collapsed": false
   },
   "outputs": [],
   "source": [
    "rms_distance(m_sga)"
   ]
  },
  {
   "cell_type": "markdown",
   "metadata": {},
   "source": [
    "## Ant Colony Optimization for Continuous Domains *(ACO$_\\mathbb{R}$)*"
   ]
  },
  {
   "cell_type": "code",
   "execution_count": null,
   "metadata": {
    "collapsed": false
   },
   "outputs": [],
   "source": [
    "from fatiando.inversion.solvers import acor\n",
    "print(motor)\n",
    "solver = acor(cost_function, [-1,1], 8, nants=2, diverse=0.5, maxit=30000)\n",
    "iterations = 0\n",
    "residuals = []\n",
    "for p in solver:\n",
    "    iterations = iterations + 1\n",
    "    residual = cost_function(p)\n",
    "    residuals.append(residual)\n",
    "    continue\n",
    "m_ant = polar_decomposition(vsr.Mot(*p))\n",
    "print(m_ant)\n",
    "print(iterations)"
   ]
  },
  {
   "cell_type": "code",
   "execution_count": null,
   "metadata": {
    "collapsed": false
   },
   "outputs": [],
   "source": [
    "rms_distance(m_ant)"
   ]
  },
  {
   "cell_type": "code",
   "execution_count": null,
   "metadata": {
    "collapsed": false
   },
   "outputs": [],
   "source": [
    "plt.plot(residuals)\n",
    "plt.xscale('log')"
   ]
  },
  {
   "cell_type": "code",
   "execution_count": null,
   "metadata": {
    "collapsed": false
   },
   "outputs": [],
   "source": [
    "from motor_estimation import estimate_motor\n",
    "summary, m_game = estimate_motor(5,1,10, points_a, points_b)\n",
    "rms_distance(m_game)"
   ]
  }
 ],
 "metadata": {
  "kernelspec": {
   "display_name": "Python 2",
   "language": "python",
   "name": "python2"
  },
  "language_info": {
   "codemirror_mode": {
    "name": "ipython",
    "version": 2
   },
   "file_extension": ".py",
   "mimetype": "text/x-python",
   "name": "python",
   "nbconvert_exporter": "python",
   "pygments_lexer": "ipython2",
   "version": "2.7.6"
  }
 },
 "nbformat": 4,
 "nbformat_minor": 0
}
