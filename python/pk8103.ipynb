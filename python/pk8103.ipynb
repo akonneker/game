{
 "cells": [
  {
   "cell_type": "code",
   "execution_count": 1,
   "metadata": {
    "collapsed": false
   },
   "outputs": [
    {
     "name": "stderr",
     "output_type": "stream",
     "text": [
      "versor/cga.py:4: RuntimeWarning: to-Python converter for vsr::Multivector<vsr::algebra<vsr::metric<4, 1, true>, double>, vsr::Basis<(short)1, (short)2, (short)4, (short)8, (short)16> > already registered; second conversion method ignored.\n",
      "  from libversor import (Biv, Bst, Cir, Con, Dil, Dll, Dlp, Dls, Drb, Drt, Drv,\n"
     ]
    }
   ],
   "source": [
    "import sys\n",
    "import sys\n",
    "sys.path.append('../build/')\n",
    "\n",
    "import numpy as np\n",
    "np.set_printoptions(precision=6, suppress=True)\n",
    "\n",
    "import versor as vsr"
   ]
  },
  {
   "cell_type": "markdown",
   "metadata": {},
   "source": [
    "# PK8103 Swarm Intelligence"
   ]
  },
  {
   "cell_type": "markdown",
   "metadata": {},
   "source": [
    "This notebook implements the swarm intelligence algorithms **Ant Colony Optimization (ACO)**, **Artificial Bee Colony Optimization (ABC)** and **Particle Swarm Optimization (PSO)** for estimation of **rigid body motion motors** from point clouds using **Conformal Geometric Algebra (CGA)**."
   ]
  },
  {
   "cell_type": "markdown",
   "metadata": {},
   "source": [
    "## Conformal Geometric Algebra"
   ]
  },
  {
   "cell_type": "markdown",
   "metadata": {},
   "source": [
    "### Polar Decomposition"
   ]
  },
  {
   "cell_type": "markdown",
   "metadata": {},
   "source": [
    "$$M = \\frac{X}{|X|}\\left(1 - \\frac{\\langle X \\widetilde{X} \\rangle_4}{2 \\langle X \\widetilde{X} \\rangle} \\right),\\ X \\in \\mathbb{M}$$"
   ]
  },
  {
   "cell_type": "code",
   "execution_count": 2,
   "metadata": {
    "collapsed": true
   },
   "outputs": [],
   "source": [
    "def polar_decomposition(x):\n",
    "    xx = x * x.rev()\n",
    "    sinv = (vsr.Sca(1.0) + (vsr.Drt(- xx[7] / (2 * xx[0]))))\n",
    "    return x * sinv"
   ]
  },
  {
   "cell_type": "markdown",
   "metadata": {},
   "source": [
    "### Cost Function\n",
    "\n",
    "$$ C = \\sum_i^n \\| \\mathcal{K}^{-1}(b_i) - \\mathcal{K}^{-1}(M a_i \\widetilde{M})    \\|^2 $$"
   ]
  },
  {
   "cell_type": "code",
   "execution_count": 3,
   "metadata": {
    "collapsed": false
   },
   "outputs": [],
   "source": [
    "def cost_function(m):\n",
    "    mot = vsr.Mot(*m)\n",
    "#     print(mot)\n",
    "    mot = polar_decomposition(mot)\n",
    "    b_ = [point.spin(mot) for point in points_a]\n",
    "    b = points_b\n",
    "    return np.sum([np.linalg.norm(pa.to_array()[:3] - \n",
    "                                  pb.to_array()[:3]) for pa, pb in zip(b, b_)])"
   ]
  },
  {
   "cell_type": "markdown",
   "metadata": {},
   "source": [
    "### Dataset generation"
   ]
  },
  {
   "cell_type": "code",
   "execution_count": 4,
   "metadata": {
    "collapsed": false
   },
   "outputs": [],
   "source": [
    "n = 10\n",
    "motor = vsr.Trs.from_vector(vsr.Vec(1,1,1)) * vsr.Rot.from_bivector(vsr.Biv(0,1,0) * np.pi/6.0)\n",
    "points_a = [vsr.Vec(*np.random.normal(0.0, 0.8, 3)).null() for i in range(n)]\n",
    "points_b = [point.spin(motor) for point in points_a]"
   ]
  },
  {
   "cell_type": "markdown",
   "metadata": {},
   "source": [
    "## Artificial Bee Colony Optimization *(ABC)*"
   ]
  },
  {
   "cell_type": "code",
   "execution_count": 18,
   "metadata": {
    "collapsed": false
   },
   "outputs": [],
   "source": [
    "from PyGMO.problem import base\n",
    "\n",
    "class MotorEstimationProblem(base):\n",
    "\n",
    "    def __init__(self, dim=8):\n",
    "        # First we call the constructor of the base class telling PyGMO\n",
    "        # what kind of problem to expect ('dim' dimensions, 1 objective, 0 contraints etc.)\n",
    "        super(MotorEstimationProblem,self).__init__(dim)\n",
    "\n",
    "        # We set the problem bounds (in this case equal for all components)\n",
    "        self.set_bounds(-1, 1)\n",
    "\n",
    "    # Reimplement the virtual method that defines the objective function.\n",
    "    def _objfun_impl(self, x):\n",
    "\n",
    "        # Note that we return a tuple with one element only. In PyGMO the objective functions\n",
    "        # return tuples so that multi-objective optimization is also possible.\n",
    "        return (cost_function(x), )\n",
    "\n",
    "    # Finally we also reimplement a virtual method that adds some output to the __repr__ method\n",
    "    def human_readable_extra(self):\n",
    "        return \"\\n\\t Problem dimension: \" + str(self.__dim)"
   ]
  },
  {
   "cell_type": "code",
   "execution_count": 37,
   "metadata": {
    "collapsed": false
   },
   "outputs": [
    {
     "name": "stdout",
     "output_type": "stream",
     "text": [
      "0.000617144157239\n",
      "-0.965925  1.70338e-05  0.258817  -4.02722e-05  0.612374  0.482946  0.353568  0.129423  \n"
     ]
    }
   ],
   "source": [
    "from PyGMO import algorithm, island\n",
    "\n",
    "prob = MotorEstimationProblem(dim=8)  # Create a 10-dimensional problem\n",
    "algo = algorithm.bee_colony(gen=2000)  # 500 generations of bee_colony algorithm\n",
    "isl = island(algo, prob, 100)  # Instantiate population with 20 individuals\n",
    "isl.evolve(1)  # Evolve the island once\n",
    "isl.join()\n",
    "print(isl.population.champion.f[0])\n",
    "x = isl.population.champion.x\n",
    "m = polar_decomposition(vsr.Mot(*x))\n",
    "print(m)"
   ]
  },
  {
   "cell_type": "markdown",
   "metadata": {},
   "source": [
    "## Particle Swarm Optimization *(PSO)*"
   ]
  },
  {
   "cell_type": "code",
   "execution_count": 28,
   "metadata": {
    "collapsed": false
   },
   "outputs": [
    {
     "name": "stdout",
     "output_type": "stream",
     "text": [
      "(5.28475486091371e-09,)\n",
      "-0.965926  1.11723e-10  0.258819  -3.73612e-11  0.612372  0.482963  0.353553  0.12941  \n"
     ]
    }
   ],
   "source": [
    "prob = MotorEstimationProblem(dim=8)  # Create a 10-dimensional problem\n",
    "algo = algorithm.pso(gen=500)  # 500 generations of bee_colony algorithm\n",
    "isl = island(algo, prob, 20)  # Instantiate population with 20 individuals\n",
    "isl.evolve(1)  # Evolve the island once\n",
    "isl.join()\n",
    "print(isl.population.champion.f[0])\n",
    "x = isl.population.champion.x\n",
    "m = polar_decomposition(vsr.Mot(*x))\n",
    "print(m)"
   ]
  },
  {
   "cell_type": "code",
   "execution_count": null,
   "metadata": {
    "collapsed": false
   },
   "outputs": [],
   "source": [
    "prob = my_problem(dim=8)  # Create a 10-dimensional problem\n",
    "algo = algorithm.de(gen=500)  # 500 generations of bee_colony algorithm\n",
    "isl = island(algo, prob, 200)  # Instantiate population with 20 individuals\n",
    "isl.evolve(1)  # Evolve the island once\n",
    "isl.join()\n",
    "print(isl.population.champion.f[0])\n",
    "x = isl.population.champion.x\n",
    "m = polar_decomposition(vsr.Mot(*x))\n",
    "print(m)"
   ]
  },
  {
   "cell_type": "markdown",
   "metadata": {},
   "source": [
    "## Ant Colony Optimization for Continuous Domains *(ACO$_\\mathbb{R}$)*"
   ]
  }
 ],
 "metadata": {
  "kernelspec": {
   "display_name": "Python 2",
   "language": "python",
   "name": "python2"
  },
  "language_info": {
   "codemirror_mode": {
    "name": "ipython",
    "version": 2
   },
   "file_extension": ".py",
   "mimetype": "text/x-python",
   "name": "python",
   "nbconvert_exporter": "python",
   "pygments_lexer": "ipython2",
   "version": "2.7.10"
  }
 },
 "nbformat": 4,
 "nbformat_minor": 0
}
