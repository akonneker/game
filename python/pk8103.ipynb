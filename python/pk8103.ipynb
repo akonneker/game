{
 "cells": [
  {
   "cell_type": "code",
   "execution_count": 1,
   "metadata": {
    "collapsed": false
   },
   "outputs": [
    {
     "name": "stdout",
     "output_type": "stream",
     "text": [
      "Populating the interactive namespace from numpy and matplotlib\n"
     ]
    },
    {
     "name": "stderr",
     "output_type": "stream",
     "text": [
      "/usr/local/lib/python2.7/site-packages/IPython/kernel/__init__.py:13: ShimWarning: The `IPython.kernel` package has been deprecated. You should import from ipykernel or jupyter_client instead.\n",
      "  \"You should import from ipykernel or jupyter_client instead.\", ShimWarning)\n",
      "versor/cga.py:4: RuntimeWarning: to-Python converter for vsr::Multivector<vsr::algebra<vsr::metric<4, 1, true>, double>, vsr::Basis<(short)1, (short)2, (short)4, (short)8, (short)16> > already registered; second conversion method ignored.\n",
      "  from libversor import (Biv, Bst, Cir, Con, Dil, Dll, Dlp, Dls, Drb, Drt, Drv,\n"
     ]
    }
   ],
   "source": [
    "import sys\n",
    "import sys\n",
    "sys.path.append('../build/')\n",
    "\n",
    "from PyGMO import algorithm, island, archipelago\n",
    "import versor as vsr\n",
    "%pylab inline\n",
    "np.set_printoptions(precision=6, suppress=True)"
   ]
  },
  {
   "cell_type": "code",
   "execution_count": 2,
   "metadata": {
    "collapsed": true
   },
   "outputs": [],
   "source": [
    "fig_width_pt =  332.89726  # Get this from LaTeX using \\showthe\\columnwidth\n",
    "inches_per_pt = 1.0/72.27               # Convert pt to inches\n",
    "golden_mean = (sqrt(5.0)-1.0)/2.0         # Aesthetic ratio\n",
    "fig_width = fig_width_pt*inches_per_pt  # width in inches\n",
    "fig_height =fig_width*golden_mean       # height in inches\n",
    "fig_size = [fig_width,fig_height]\n",
    "params = {\n",
    "    'axes.labelsize': 9,\n",
    "    'font.size': 9,\n",
    "    \"font.family\": \"serif\",\n",
    "    \"font.serif\": [],\n",
    "    'legend.fontsize': 9,\n",
    "    'xtick.labelsize': 8,\n",
    "    'ytick.labelsize': 8,\n",
    "    'text.usetex': True,\n",
    "    'text.latex.preamble':[r'\\usepackage{amsmath}', r'\\usepackage{bm}'],\n",
    "    'figure.figsize': fig_size,\n",
    "    'axes.linewidth': 0.5\n",
    "}\n",
    "matplotlib.rcParams.update(params)"
   ]
  },
  {
   "cell_type": "markdown",
   "metadata": {},
   "source": [
    "# PK8103 Swarm Intelligence"
   ]
  },
  {
   "cell_type": "markdown",
   "metadata": {},
   "source": [
    "This notebook implements the swarm intelligence algorithms **Ant Colony Optimization (ACO)**, **Artificial Bee Colony Optimization (ABC)** and **Particle Swarm Optimization (PSO)** for estimation of **rigid body motion motors** from point clouds using **Conformal Geometric Algebra (CGA)**."
   ]
  },
  {
   "cell_type": "markdown",
   "metadata": {},
   "source": [
    "## Conformal Geometric Algebra"
   ]
  },
  {
   "cell_type": "markdown",
   "metadata": {},
   "source": [
    "### Polar Decomposition"
   ]
  },
  {
   "cell_type": "markdown",
   "metadata": {},
   "source": [
    "$$M = \\frac{X}{|X|}\\left(1 - \\frac{\\langle X \\widetilde{X} \\rangle_4}{2 \\langle X \\widetilde{X} \\rangle} \\right),\\ X \\in \\mathbb{M}$$"
   ]
  },
  {
   "cell_type": "code",
   "execution_count": 3,
   "metadata": {
    "collapsed": true
   },
   "outputs": [],
   "source": [
    "def polar_decomposition(x):\n",
    "    xx = x * x.rev()\n",
    "    sinv = (vsr.Sca(1.0) + (vsr.Drt(- xx[7] / (2 * xx[0]))))\n",
    "    return x * sinv"
   ]
  },
  {
   "cell_type": "markdown",
   "metadata": {},
   "source": [
    "### Cost Function\n",
    "\n",
    "$$ C = \\sum_i^n \\| \\mathcal{K}^{-1}(b_i) - \\mathcal{K}^{-1}(M a_i \\widetilde{M})    \\|^2 $$"
   ]
  },
  {
   "cell_type": "code",
   "execution_count": 4,
   "metadata": {
    "collapsed": false
   },
   "outputs": [],
   "source": [
    "def cost_function(m):\n",
    "    global points_a, points_b, points_b_noisy\n",
    "    mot = vsr.Mot(*m.ravel())\n",
    "    mot = polar_decomposition(mot)\n",
    "    b_ = [point.spin(mot) for point in points_a]\n",
    "    b = points_b_noisy\n",
    "#     b = points_b\n",
    "    return np.sum([np.linalg.norm(pa.to_array()[:3] - \n",
    "                                  pb.to_array()[:3]) for pa, pb in zip(b, b_)])"
   ]
  },
  {
   "cell_type": "markdown",
   "metadata": {},
   "source": [
    "### Dataset generation"
   ]
  },
  {
   "cell_type": "code",
   "execution_count": 98,
   "metadata": {
    "collapsed": false
   },
   "outputs": [],
   "source": [
    "n = 10\n",
    "n_points = n\n",
    "sigma = 0.09\n",
    "motor = vsr.Trs.from_vector(vsr.Vec(1,1,1)) * vsr.Rot.from_bivector(vsr.Biv(0,1,0) * np.pi/6.0)\n",
    "points_as = []\n",
    "points_bs = []\n",
    "points_bns = []\n",
    "for i in range(3):\n",
    "    points_a = [vsr.Vec(*np.random.normal(0.0, 0.8, 3)).null() for i in range(n)]\n",
    "    points_b = [point.spin(motor) for point in points_a]\n",
    "    points_b_noisy = [vsr.Vec(*(point.to_array()[:3] + sigma * np.random.randn(3))).null() for point in points_b]\n",
    "    points_as.append(points_a)\n",
    "    points_bs.append(points_b)\n",
    "    points_bns.append(points_b_noisy)"
   ]
  },
  {
   "cell_type": "code",
   "execution_count": 50,
   "metadata": {
    "collapsed": false
   },
   "outputs": [
    {
     "data": {
      "text/plain": [
       "array([ 0.965926,  0.      , -0.258819,  0.      , -0.612372, -0.482963,\n",
       "       -0.353553, -0.12941 ])"
      ]
     },
     "execution_count": 50,
     "metadata": {},
     "output_type": "execute_result"
    }
   ],
   "source": [
    "motor.to_array()"
   ]
  },
  {
   "cell_type": "markdown",
   "metadata": {},
   "source": [
    "### RMS Distance"
   ]
  },
  {
   "cell_type": "code",
   "execution_count": 6,
   "metadata": {
    "collapsed": false
   },
   "outputs": [],
   "source": [
    "def rms_distance(final_motor):\n",
    "    global points_a, points_b\n",
    "    points_b_estimated = [point.spin(final_motor) for point in points_a]\n",
    "    rms_distance = np.sum([ np.linalg.norm(a.to_array()[:3] - b.to_array()[:3])\n",
    "                            for a, b in zip(points_b, points_b_estimated)]) / np.sqrt(n)\n",
    "    return rms_distance"
   ]
  },
  {
   "cell_type": "markdown",
   "metadata": {},
   "source": [
    "### PyGMO wrapper"
   ]
  },
  {
   "cell_type": "code",
   "execution_count": 7,
   "metadata": {
    "collapsed": false
   },
   "outputs": [],
   "source": [
    "from PyGMO.problem import base\n",
    "class MotorEstimationProblem(base):\n",
    "    def __init__(self, dim=8):\n",
    "        super(MotorEstimationProblem,self).__init__(dim)\n",
    "        self.set_bounds(-1, 1)\n",
    "    \n",
    "    def _objfun_impl(self, x):\n",
    "        return (cost_function(x), )\n",
    "    \n",
    "    def human_readable_extra(self):\n",
    "        return \"\\n\\t Problem dimension: \" + str(self.__dim)"
   ]
  },
  {
   "cell_type": "markdown",
   "metadata": {},
   "source": [
    "## Artificial Bee Colony Optimization *(ABC)*"
   ]
  },
  {
   "cell_type": "code",
   "execution_count": 8,
   "metadata": {
    "collapsed": false
   },
   "outputs": [],
   "source": [
    "# prob = MotorEstimationProblem(dim=8)\n",
    "# algo = algorithm.bee_colony(gen=1000)\n",
    "# isl = island(algo, prob, 20)\n",
    "# isl.evolve(1)\n",
    "# isl.join()\n",
    "# print(isl.population.champion.f[0])\n",
    "# x = isl.population.champion.x\n",
    "# m_bee = polar_decomposition(vsr.Mot(*x))\n",
    "# print(m_bee)"
   ]
  },
  {
   "cell_type": "code",
   "execution_count": 19,
   "metadata": {
    "collapsed": false
   },
   "outputs": [],
   "source": [
    "class ArtificialBeeColonyAlgorithm(object):\n",
    "    def __init__(self, \n",
    "                 objective_function, \n",
    "                 dimension, \n",
    "                 upper_bounds,\n",
    "                 lower_bounds,\n",
    "                 population_size, \n",
    "                 max_trial_limit, \n",
    "                 max_num_iterations,\n",
    "                 debug=False):\n",
    "        self._objective_function = objective_function\n",
    "        self._dimension = dimension\n",
    "        self._lower_bounds = lower_bounds\n",
    "        self._upper_bounds = upper_bounds\n",
    "        self._population_size = population_size\n",
    "        self._food_size = self._population_size / 2\n",
    "        self._max_trial_limit = max_trial_limit\n",
    "        self._max_num_iterations = max_num_iterations\n",
    "        \n",
    "        self._foods = self._create_food(self._food_size)\n",
    "        self._objective_values = self._calculate_objective_values(self._foods)\n",
    "        self._fitness_values = self._calculate_fitness_values(self._objective_values)\n",
    "        \n",
    "        self._trials = np.zeros(self._food_size)\n",
    "        \n",
    "        self._best_index = np.argmin(self._objective_values)\n",
    "        self._global_min_objective_value = self._objective_values[self._best_index]\n",
    "        self._global_min_objective_values = [self._global_min_objective_value]\n",
    "        self._global_best_food = self._foods[self._best_index,:]\n",
    "        \n",
    "        self._debug = debug\n",
    "    \n",
    "    def _create_food(self, size):\n",
    "        food = np.random.random((size, dim)) *\\\n",
    "                np.tile(upper_bounds - lower_bounds, (size,1)) +\\\n",
    "                np.tile(lower_bounds, (size,1))\n",
    "        return food\n",
    "    \n",
    "    def _calculate_objective_values(self, foods):\n",
    "        return np.array([self._objective_function(solution) for solution in foods])\n",
    "    \n",
    "    def _calculate_fitness_values(self, objective_values):\n",
    "        return np.array([1. / (objective_value + 1.) \n",
    "                         if objective_value >= 0. \n",
    "                         else 1. + np.abs(objective_value) \n",
    "                         for objective_value in objective_values])\n",
    "    def _evaluate(self, i):\n",
    "            j = np.random.random_integers(self._dimension) - 1\n",
    "            k = np.random.random_integers(self._food_size) - 1\n",
    "            while k == i:\n",
    "                k = np.random.random_integers(self._food_size) - 1\n",
    "\n",
    "            v_i = self._foods[i,:].copy()\n",
    "            x_ij = self._foods[i,j]\n",
    "            x_kj = self._foods[k,j]\n",
    "            phi_ij = 2 * (np.random.rand() - 0.5)\n",
    "            v_i[j] = x_ij + phi_ij * (x_ij - x_kj)\n",
    "\n",
    "            # Check if parameter is outside bounds. If so set it to the \n",
    "            # limit.\n",
    "            v_i = np.where(v_i < upper_bounds, v_i, upper_bounds).copy()\n",
    "            v_i = np.where(v_i > lower_bounds, v_i, lower_bounds).copy()\n",
    "\n",
    "            objective_value = self._calculate_objective_values([v_i])\n",
    "            fitness_value = self._calculate_fitness_values(objective_value)\n",
    "\n",
    "            if fitness_value > self._fitness_values[i]:\n",
    "                self._foods[i,:] = v_i.copy()\n",
    "                self._fitness_values[i] = fitness_value.copy()\n",
    "                self._objective_values[i] = objective_value.copy()\n",
    "                self._trials[i] = 0\n",
    "            else:\n",
    "                self._trials[i] = self._trials[i] + 1\n",
    "        \n",
    "    def _calculate_probabilities(self, fitness_values):\n",
    "        '''p_i = fit_i / sum_i^n fit_i'''\n",
    "        prob = fitness_values / np.sum(fitness_values)\n",
    "#         prob = (0.9 * fitness_values / max(fitness_values)) + 0.1\n",
    "        return prob\n",
    "    \n",
    "    def solve(self):\n",
    "        for iteration in range(self._max_num_iterations):\n",
    "            # Employed bee phase\n",
    "            for i in range(self._food_size):\n",
    "                self._evaluate(i)\n",
    "\n",
    "            # Calculate probabilities. \n",
    "            # p_i = fit_i / sum_i^n fit_i\n",
    "            probabilities = self._calculate_probabilities(self._fitness_values)\n",
    "\n",
    "            # Onloooker bee phase\n",
    "            i = 0\n",
    "            t = 0\n",
    "            while t < self._food_size:\n",
    "                do_forage = np.random.rand() < probabilities[i]\n",
    "                if do_forage:\n",
    "                    t = t + 1\n",
    "                    self._evaluate(i)\n",
    "                i = i + 1\n",
    "                if i == self._food_size:\n",
    "                    i = 0\n",
    "\n",
    "            # Update best solution\n",
    "            best_index = np.argmin(self._objective_values)\n",
    "            objective_value = self._objective_values[best_index]\n",
    "            if objective_value < self._global_min_objective_value:\n",
    "                self._best_index = best_index\n",
    "                self._global_min_objective_value = objective_value\n",
    "                self._global_best_food = self._foods[best_index,:]\n",
    "\n",
    "            # Scout bee phase\n",
    "            max_trial_idx = np.argmax(self._trials)\n",
    "            max_trial = self._trials[max_trial_idx]\n",
    "            if max_trial > self._max_trial_limit:\n",
    "                self._trials[max_trial_idx] = 0\n",
    "                v_i = self._create_food(1)\n",
    "                objective_value = self._calculate_objective_values([v_i])\n",
    "                fitness_value = self._calculate_fitness_values(objective_value)\n",
    "                self._foods[max_trial_idx, :] = v_i.copy()\n",
    "                self._fitness_values[max_trial_idx] = fitness_value.copy()\n",
    "                self._objective_values[max_trial_idx] = objective_value\n",
    "\n",
    "            self._global_min_objective_values.append(self._global_min_objective_value)\n",
    "            if self._debug:\n",
    "                if not iteration % 50:\n",
    "                    print('Iteration: {}, f(x_i)_min: {}, i: {}'.format(iteration, \n",
    "                                                                        self._global_min_objective_value, \n",
    "                                                                        self._best_index))\n",
    "        return self._global_best_food\n",
    "    \n",
    "    def plot(self, save_dir=None):\n",
    "        fig, ax = plt.subplots(1)\n",
    "        plt.set_cmap('gray')\n",
    "        plt.xlabel(r'Iteration $k$')\n",
    "        plt.ylabel(r'$f=C(x_k)$')\n",
    "        ax.plot(self._global_min_objective_values)\n",
    "#         plt.xscale('log')\n",
    "        if save_dir is not None:\n",
    "            fig.savefig(save_dir)\n"
   ]
  },
  {
   "cell_type": "code",
   "execution_count": 115,
   "metadata": {
    "collapsed": false
   },
   "outputs": [],
   "source": [
    "population_size = 20\n",
    "max_trial_limit = 100\n",
    "max_num_iterations = 200\n",
    "dim = 8\n",
    "upper_bounds = np.ones((1,dim)) * 1\n",
    "lower_bounds = np.ones((1,dim)) * -1\n",
    "rms_abc = []\n",
    "residualss_abc = []\n",
    "for points_a, points_b, points_b_noisy in zip(points_as, points_bs, points_bns):\n",
    "    abc = ArtificialBeeColonyAlgorithm(cost_function, dim, \n",
    "                                   upper_bounds, lower_bounds, \n",
    "                                   population_size, max_trial_limit, \n",
    "                                   max_num_iterations, debug=False)\n",
    "    residualss_abc.append(abc._global_min_objective_values)\n",
    "    m_bee = polar_decomposition(vsr.Mot(*abc.solve()))\n",
    "    rms_abc.append(rms_distance(m_bee))"
   ]
  },
  {
   "cell_type": "code",
   "execution_count": 116,
   "metadata": {
    "collapsed": false,
    "scrolled": true
   },
   "outputs": [
    {
     "name": "stdout",
     "output_type": "stream",
     "text": [
      "0.286464125092\n",
      "0.110862148702\n"
     ]
    }
   ],
   "source": [
    "mean_abc = np.mean(rms_abc)\n",
    "std_abc = np.std(rms_abc)\n",
    "print(mean_abc)\n",
    "print(std_abc)"
   ]
  },
  {
   "cell_type": "code",
   "execution_count": 117,
   "metadata": {
    "collapsed": false
   },
   "outputs": [
    {
     "data": {
      "image/png": "[encoded data removed]",
      "text/plain": [
       "<matplotlib.figure.Figure at 0x110916b90>"
      ]
     },
     "metadata": {},
     "output_type": "display_data"
    }
   ],
   "source": [
    "fig, ax = plt.subplots(1)\n",
    "plt.set_cmap('gray')\n",
    "plt.xlabel(r'Iteration $k$')\n",
    "plt.ylabel(r'$C(x_k)$')\n",
    "for r in residualss_abc:\n",
    "    ax.plot(r)\n",
    "# plt.xscale('log')\n",
    "fig.savefig('/Users/lars/Dropbox/sharelatex/PK8103/abc2.pdf')"
   ]
  },
  {
   "cell_type": "code",
   "execution_count": null,
   "metadata": {
    "collapsed": false
   },
   "outputs": [],
   "source": [
    "plt.bar(np.arange(10),abc._calculate_probabilities(abc._fitness_values))"
   ]
  },
  {
   "cell_type": "code",
   "execution_count": null,
   "metadata": {
    "collapsed": false
   },
   "outputs": [],
   "source": [
    "m_bee = polar_decomposition(vsr.Mot(*m_bee))\n",
    "print(m_bee)\n"
   ]
  },
  {
   "cell_type": "code",
   "execution_count": null,
   "metadata": {
    "collapsed": false
   },
   "outputs": [],
   "source": [
    "rms_distance(vsr.Mot(*m_bee.to_array()))"
   ]
  },
  {
   "cell_type": "markdown",
   "metadata": {},
   "source": [
    "## Particle Swarm Optimization *(PSO)*"
   ]
  },
  {
   "cell_type": "code",
   "execution_count": 103,
   "metadata": {
    "collapsed": false
   },
   "outputs": [
    {
     "name": "stdout",
     "output_type": "stream",
     "text": [
      "Stopping search: maximum iterations reached --> 200\n",
      "Stopping search: maximum iterations reached --> 200\n",
      "Stopping search: maximum iterations reached --> 200\n"
     ]
    }
   ],
   "source": [
    "from pso import *\n",
    "\n",
    "lb = [-1] * 8\n",
    "ub = [1] * 8\n",
    "\n",
    "rms_pso = []\n",
    "residualss = []\n",
    "for points_a, points_b, points_b_noisy in zip(points_as, points_bs, points_bns):\n",
    "    g, fg, residuals = pso(cost_function, lb, ub, \n",
    "           swarmsize=100, \n",
    "           maxiter=200, \n",
    "           minstep=1e-8, \n",
    "           minfunc=1e-8,\n",
    "           omega=0.75,\n",
    "           phip=0.75,\n",
    "           phig=0.75)\n",
    "    residualss.append(residuals)\n",
    "    m_pso = polar_decomposition(vsr.Mot(*g))\n",
    "    rms_pso.append(rms_distance(m_pso))"
   ]
  },
  {
   "cell_type": "code",
   "execution_count": 104,
   "metadata": {
    "collapsed": false
   },
   "outputs": [
    {
     "name": "stdout",
     "output_type": "stream",
     "text": [
      "0.207573142099\n",
      "0.0643192383569\n"
     ]
    }
   ],
   "source": [
    "rms_pso\n",
    "mean_pso = np.mean(rms_pso)\n",
    "std_pso = np.std(rms_pso)\n",
    "print(mean_pso)\n",
    "print(std_pso)"
   ]
  },
  {
   "cell_type": "code",
   "execution_count": 105,
   "metadata": {
    "collapsed": false
   },
   "outputs": [
    {
     "data": {
      "image/png": "[encoded data removed]",
      "text/plain": [
       "<matplotlib.figure.Figure at 0x10e744b90>"
      ]
     },
     "metadata": {},
     "output_type": "display_data"
    }
   ],
   "source": [
    "fig, ax = plt.subplots(1)\n",
    "plt.set_cmap('gray')\n",
    "plt.xlabel(r'Iteration $k$')\n",
    "plt.ylabel(r'$C(x_k)$')\n",
    "for r in residualss:\n",
    "    ax.plot(r)\n",
    "# plt.xscale('log')\n",
    "fig.savefig('/Users/lars/Dropbox/sharelatex/PK8103/pso2.pdf')"
   ]
  },
  {
   "cell_type": "code",
   "execution_count": null,
   "metadata": {
    "collapsed": false
   },
   "outputs": [],
   "source": []
  },
  {
   "cell_type": "code",
   "execution_count": null,
   "metadata": {
    "collapsed": false
   },
   "outputs": [],
   "source": [
    "prob = MotorEstimationProblem(dim=8)\n",
    "algo = algorithm.pso(gen=1000)\n",
    "isl = island(algo, prob, 20)\n",
    "isl.evolve(1)\n",
    "isl.join()\n",
    "print(isl.population.champion.f[0])\n",
    "x = isl.population.champion.x\n",
    "m_pso = polar_decomposition(vsr.Mot(*x))\n",
    "print(m_pso)"
   ]
  },
  {
   "cell_type": "code",
   "execution_count": null,
   "metadata": {
    "collapsed": false
   },
   "outputs": [],
   "source": [
    "rms_distance(m_pso)"
   ]
  },
  {
   "cell_type": "markdown",
   "metadata": {},
   "source": [
    "### Genetic Algorithm"
   ]
  },
  {
   "cell_type": "code",
   "execution_count": null,
   "metadata": {
    "collapsed": false
   },
   "outputs": [],
   "source": [
    "prob = MotorEstimationProblem(dim=8)\n",
    "algo = algorithm.sga(gen=4000)\n",
    "isl = island(algo, prob, 10)\n",
    "isl.evolve(1)\n",
    "isl.join()\n",
    "print(isl.population.champion.f[0])\n",
    "x = isl.population.champion.x\n",
    "m_sga = polar_decomposition(vsr.Mot(*x))\n",
    "print(m_sga)"
   ]
  },
  {
   "cell_type": "code",
   "execution_count": null,
   "metadata": {
    "collapsed": false
   },
   "outputs": [],
   "source": [
    "rms_distance(m_sga)"
   ]
  },
  {
   "cell_type": "markdown",
   "metadata": {},
   "source": [
    "## Ant Colony Optimization for Continuous Domains *(ACO$_\\mathbb{R}$)*"
   ]
  },
  {
   "cell_type": "code",
   "execution_count": 99,
   "metadata": {
    "collapsed": false
   },
   "outputs": [
    {
     "name": "stdout",
     "output_type": "stream",
     "text": [
      "201\n",
      "201\n",
      "201\n"
     ]
    }
   ],
   "source": [
    "from fatiando.inversion.solvers import acor\n",
    "rms_acor = []\n",
    "residualss_acor = []\n",
    "for points_a, points_b, points_b_noisy in zip(points_as, points_bs, points_bns):\n",
    "    solver = acor(cost_function, [-1,1], 8, diverse=0.001, evap=0.7, maxit=200)\n",
    "    iterations = 0\n",
    "    residuals = []\n",
    "    for p in solver:\n",
    "        iterations = iterations + 1\n",
    "        residual = cost_function(p)\n",
    "        residuals.append(residual)\n",
    "    print(iterations)\n",
    "    residualss_acor.append(residuals)\n",
    "    m_ant = polar_decomposition(vsr.Mot(*p))\n",
    "    rms_acor.append(rms_distance(m_pso))"
   ]
  },
  {
   "cell_type": "code",
   "execution_count": 100,
   "metadata": {
    "collapsed": false
   },
   "outputs": [
    {
     "name": "stdout",
     "output_type": "stream",
     "text": [
      "0.801690676837\n",
      "0.0536327337438\n"
     ]
    }
   ],
   "source": [
    "mean_acor = np.mean(rms_acor)\n",
    "std_acor = np.std(rms_acor)\n",
    "print(mean_acor)\n",
    "print(std_acor)"
   ]
  },
  {
   "cell_type": "code",
   "execution_count": 85,
   "metadata": {
    "collapsed": false
   },
   "outputs": [
    {
     "name": "stdout",
     "output_type": "stream",
     "text": [
      "-0.961292  0.0272316  0.264096  -0.0308311  0.622159  0.39122  0.383411  0.116573  \n"
     ]
    }
   ],
   "source": [
    "print(m_ant)"
   ]
  },
  {
   "cell_type": "code",
   "execution_count": 67,
   "metadata": {
    "collapsed": true
   },
   "outputs": [],
   "source": [
    "save_dir = '/Users/lars/Dropbox/sharelatex/PK8103/'"
   ]
  },
  {
   "cell_type": "code",
   "execution_count": null,
   "metadata": {
    "collapsed": false
   },
   "outputs": [],
   "source": []
  },
  {
   "cell_type": "code",
   "execution_count": 102,
   "metadata": {
    "collapsed": false
   },
   "outputs": [
    {
     "data": {
      "image/png": "[encoded data removed]",
      "text/plain": [
       "<matplotlib.figure.Figure at 0x10daa2350>"
      ]
     },
     "metadata": {},
     "output_type": "display_data"
    }
   ],
   "source": [
    "\n",
    "fig, ax = plt.subplots(1)\n",
    "plt.set_cmap('gray')\n",
    "plt.xlabel(r'Iteration $k$')\n",
    "plt.ylabel(r'$C(x_k)$')\n",
    "for r in residualss_acor:\n",
    "    ax.plot(r)\n",
    "# plt.xscale('log')\n",
    "fig.savefig(save_dir + 'acor2.pdf')"
   ]
  },
  {
   "cell_type": "code",
   "execution_count": null,
   "metadata": {
    "collapsed": false
   },
   "outputs": [],
   "source": [
    "rms_distance(m_ant)"
   ]
  },
  {
   "cell_type": "code",
   "execution_count": null,
   "metadata": {
    "collapsed": false
   },
   "outputs": [],
   "source": [
    "plt.plot(residuals)\n",
    "plt.xscale('log')"
   ]
  },
  {
   "cell_type": "code",
   "execution_count": 94,
   "metadata": {
    "collapsed": false
   },
   "outputs": [
    {
     "name": "stdout",
     "output_type": "stream",
     "text": [
      "game::Point vector. 3 residuals\n",
      "game:: Original motor\n",
      "0.965926  0  -0.258819  0  -0.612372  -0.482963  -0.353553  -0.12941  \n",
      "game:: Estimated motor\n",
      "0.950734  0.0344911  -0.303348  0.0538031  -0.564792  -0.529746  -0.311356  -0.212282  \n",
      "\n",
      "Solver Summary (v 1.11.0-eigen-(3.2.5)-lapack-suitesparse-(4.4.4)-cxsparse-(3.1.4)-no_openmp)\n",
      "\n",
      "                                     Original                  Reduced\n",
      "Parameter blocks                            1                        1\n",
      "Parameters                                  8                        8\n",
      "Residual blocks                            10                       10\n",
      "Residual                                   30                       30\n",
      "\n",
      "Minimizer                        TRUST_REGION\n",
      "\n",
      "Dense linear algebra library            EIGEN\n",
      "Trust region strategy     LEVENBERG_MARQUARDT\n",
      "\n",
      "                                        Given                     Used\n",
      "Linear solver                        DENSE_QR                 DENSE_QR\n",
      "Threads                                   100                        1\n",
      "Linear solver threads                     100                        1\n",
      "\n",
      "Cost:\n",
      "Initial                          1.695456e+01\n",
      "Final                            5.434530e-01\n",
      "Change                           1.641110e+01\n",
      "\n",
      "Minimizer iterations                        6\n",
      "Successful steps                            6\n",
      "Unsuccessful steps                          0\n",
      "\n",
      "Time (in seconds):\n",
      "Preprocessor                           0.0001\n",
      "\n",
      "  Residual evaluation                  0.0000\n",
      "  Jacobian evaluation                  0.0001\n",
      "  Linear solver                        0.0001\n",
      "Minimizer                              0.0004\n",
      "\n",
      "Postprocessor                          0.0000\n",
      "Total                                  0.0005\n",
      "\n",
      "Termination:                      CONVERGENCE (Function tolerance reached. |cost_change|/cost: 1.573037e-14 <= 1.000000e-12)\n",
      "\n"
     ]
    },
    {
     "data": {
      "text/plain": [
       "0.91744737236313112"
      ]
     },
     "execution_count": 94,
     "metadata": {},
     "output_type": "execute_result"
    }
   ],
   "source": [
    "from motor_estimation import estimate_motor\n",
    "summary, m_game = estimate_motor(5,1,10, points_a, points_b_noisy)\n",
    "rms_distance(m_game)"
   ]
  },
  {
   "cell_type": "code",
   "execution_count": null,
   "metadata": {
    "collapsed": false
   },
   "outputs": [],
   "source": [
    "points_a[0].to_array()"
   ]
  },
  {
   "cell_type": "code",
   "execution_count": null,
   "metadata": {
    "collapsed": false
   },
   "outputs": [],
   "source": [
    "fig, ax = plt.subplots(1)\n",
    "\n",
    "# ax.set_aspect('equal')\n",
    "plt.set_cmap('gray')\n",
    "\n",
    "almost_black = '#262626'\n",
    "spines_to_remove = ['top', 'right']\n",
    "for spine in spines_to_remove:\n",
    "    ax.spines[spine].set_visible(False)\n",
    "ax.xaxis.set_ticks_position('none')\n",
    "ax.yaxis.set_ticks_position('none')\n",
    "\n",
    "spines_to_keep = ['bottom', 'left']\n",
    "for spine in spines_to_keep:\n",
    "    ax.spines[spine].set_linewidth(0.5)\n",
    "    ax.spines[spine].set_color(almost_black)\n",
    "ax.xaxis.label.set_color(almost_black)\n",
    "ax.yaxis.label.set_color(almost_black)\n",
    "\n",
    "c = random.rand(n_points)\n",
    "\n",
    "\n",
    "x = [p.to_array()[0] for p in points_a]\n",
    "y = [p.to_array()[1] for p in points_a]\n",
    "\n",
    "ax.scatter(x, y, c='r',\n",
    "           edgecolor=almost_black, linewidth=0.15, \n",
    "           label=r\"$\\{\\bm{\\mathrm{a}}_i\\}$\")\n",
    "for i, txt in enumerate(range(n_points)):\n",
    "    ax.annotate(txt, (x[i],y[i]))\n",
    "    \n",
    "x = [p.to_array()[0] for p in points_b]\n",
    "y = [p.to_array()[1] for p in points_b]\n",
    "ax.scatter(x,y,c='b',\n",
    "           edgecolor=almost_black,linewidth=0.15, \n",
    "           label=r\"$\\{\\bm{\\mathrm{a}^\\prime}_i\\}$\")\n",
    "for i, txt in enumerate(range(n_points)):\n",
    "    ax.annotate(txt, (x[i],y[i]))\n",
    "    \n",
    "    \n",
    "x = [p.to_array()[0] for p in points_b_noisy]\n",
    "y = [p.to_array()[1] for p in points_b_noisy]\n",
    "\n",
    "\n",
    "ax.scatter(x,y,c='g',\n",
    "           edgecolor=almost_black,linewidth=0.15, \n",
    "           label=r\"$\\{\\bm{\\mathrm{b}}_i\\}$\")\n",
    "for i, txt in enumerate(range(n_points)):\n",
    "    ax.annotate(txt, (x[i],y[i]))\n",
    "    \n",
    "ax.title.set_color(almost_black)\n",
    "ax.axhline(0, color=almost_black, linewidth=0.15)\n",
    "ax.axvline(0, color=almost_black, linewidth=0.15)\n",
    "\n",
    "# Remove the line around the legend box, and instead fill it with a light grey\n",
    "# Also only use one point for the scatterplot legend because the user will \n",
    "# get the idea after just one, they don't need three.\n",
    "light_grey = np.array([float(248)/float(255)]*3)\n",
    "legend = ax.legend(frameon=True, scatterpoints=1)\n",
    "rect = legend.get_frame()\n",
    "rect.set_facecolor(light_grey)\n",
    "rect.set_linewidth(0.0)\n",
    "\n",
    "# Change the legend label colors to almost black, too\n",
    "texts = legend.texts\n",
    "for t in texts:\n",
    "    t.set_color(almost_black)\n",
    "\n",
    "plt.xlabel(r'$\\bm{\\mathrm{e}}_1$-axis $[\\mathrm{m}]$')\n",
    "plt.ylabel(r'$\\bm{\\mathrm{e}}_2$-axis $[\\mathrm{m}]$')\n",
    "\n",
    "plt.show()\n",
    "fig.savefig(save_dir + '/motor_estimation_xy_proj.pdf')"
   ]
  }
 ],
 "metadata": {
  "kernelspec": {
   "display_name": "Python 2",
   "language": "python",
   "name": "python2"
  },
  "language_info": {
   "codemirror_mode": {
    "name": "ipython",
    "version": 2
   },
   "file_extension": ".py",
   "mimetype": "text/x-python",
   "name": "python",
   "nbconvert_exporter": "python",
   "pygments_lexer": "ipython2",
   "version": "2.7.10"
  }
 },
 "nbformat": 4,
 "nbformat_minor": 0
}
