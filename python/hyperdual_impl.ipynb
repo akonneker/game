{
 "cells": [
  {
   "cell_type": "code",
   "execution_count": 8,
   "metadata": {
    "collapsed": true
   },
   "outputs": [],
   "source": [
    "import numpy as np"
   ]
  },
  {
   "cell_type": "code",
   "execution_count": 184,
   "metadata": {
    "collapsed": false
   },
   "outputs": [],
   "source": [
    "class HyperDual(object):\n",
    "    def __init__(self, x=0, y=0, z=0, w=0):\n",
    "        self._data = np.array([x,y,z,w])\n",
    "        \n",
    "    @property\n",
    "    def real(self):\n",
    "        return self._data[0]\n",
    "    \n",
    "    @property\n",
    "    def eps1(self):\n",
    "        return self._data[1]\n",
    "    \n",
    "    @property\n",
    "    def eps2(self):\n",
    "        return self._data[2]\n",
    "\n",
    "    @property\n",
    "    def eps12(self):\n",
    "        return self._data[3]\n",
    "    \n",
    "    def __repr__(self):\n",
    "        return self._data.__repr__()[6:-1]\n",
    "    \n",
    "    def __neg__(self):\n",
    "        return HyperDual(-self.real, -self.eps1, -self.eps2, -self.eps12)\n",
    "    \n",
    "    def __add__(self, other):\n",
    "        return HyperDual(self.real + other.real, \n",
    "                         self.eps1 + other.eps1, \n",
    "                         self.eps2 + other.eps2, \n",
    "                         self.eps12 + other.eps12)\n",
    "        \n",
    "    \n",
    "    def __mul__(self, other):\n",
    "        return HyperDual(self.real * other.real, \n",
    "                         self.real * other.eps1 + self.eps1 * other.real,\n",
    "                         self.real * other.eps2 + self.eps2 * other.real,\n",
    "                         self.real * other.eps12 + self.eps12 * other.real +\n",
    "                         self.eps1 * other.eps2 + self.eps2 * other.eps1)\n",
    "    \n",
    "    def sin(self):\n",
    "        return HyperDual(np.sin(self.real), \n",
    "                         self.eps1 * np.cos(self.real),\n",
    "                         self.eps1 * np.cos(self.real),\n",
    "                         self.eps12 * np.cos(self.real) - \n",
    "                         self.eps1 * self.eps2 * np.sin(self.real))\n",
    "    "
   ]
  },
  {
   "cell_type": "code",
   "execution_count": 141,
   "metadata": {
    "collapsed": false
   },
   "outputs": [
    {
     "data": {
      "text/plain": [
       "[[[0, 0, 0, 0], [0, 0, 0, 0], [0, 0, 0, 0], [0, 0, 0, 0]],\n",
       " [[0, 0, 0, 0], [0, 0, 0, 0], [0, 0, 0, 0], [0, 0, 0, 0]],\n",
       " [[0, 0, 0, 0], [0, 0, 0, 0], [0, 0, 0, 0], [0, 0, 0, 0]],\n",
       " [[0, 0, 0, 0], [0, 0, 0, 0], [0, 0, 0, 0], [0, 0, 0, 0]]]"
      ]
     },
     "execution_count": 141,
     "metadata": {},
     "output_type": "execute_result"
    }
   ],
   "source": [
    "[[HyperDual(0)] * 4] * 4"
   ]
  },
  {
   "cell_type": "code",
   "execution_count": 222,
   "metadata": {
    "collapsed": false
   },
   "outputs": [],
   "source": [
    "class G3(object):\n",
    "    def __init__(self):\n",
    "        self._data = [[HyperDual(), HyperDual(),HyperDual(),HyperDual()],\n",
    "                      [HyperDual(), HyperDual(),HyperDual(),HyperDual()],\n",
    "                      [HyperDual(), HyperDual(),HyperDual(),HyperDual()],\n",
    "                      [HyperDual(), HyperDual(),HyperDual(),HyperDual()]]\n",
    "    @classmethod\n",
    "    def Id(self, a):\n",
    "        res = G3()\n",
    "        res._data[0][0] = a\n",
    "        res._data[1][1] = a\n",
    "        res._data[2][2] = a\n",
    "        res._data[3][3] = a\n",
    "        return res\n",
    "    \n",
    "            \n",
    "    @classmethod\n",
    "    def E1(self, a):\n",
    "        res = G3()\n",
    "        res._data[0][2] = a\n",
    "        res._data[1][3] = a\n",
    "        res._data[2][0] = a\n",
    "        res._data[3][1] = a\n",
    "        return res\n",
    "\n",
    "    @classmethod\n",
    "    def E2(self, a):\n",
    "        res = G3()\n",
    "        res._data[0][3] = a\n",
    "        res._data[1][2] = -a\n",
    "        res._data[2][1] = -a\n",
    "        res._data[3][0] = a\n",
    "        return res\n",
    "    \n",
    "    @classmethod\n",
    "    def E3(self, a):\n",
    "        res = G3()\n",
    "        res._data[0][0] = a\n",
    "        res._data[1][1] = a\n",
    "        res._data[2][2] = -a\n",
    "        res._data[3][3] = -a\n",
    "        return res\n",
    "    \n",
    "    \n",
    "    \n",
    "    def real(self):\n",
    "        res = np.zeros((4,4))\n",
    "        for i in range(4):\n",
    "            for j in range(4):\n",
    "                res[i][j] = self._data[i][j].real\n",
    "        return res\n",
    "    \n",
    "    def eps1(self):\n",
    "        res = np.zeros((4,4))\n",
    "        for i in range(4):\n",
    "            for j in range(4):\n",
    "                res[i][j] = self._data[i][j].eps1\n",
    "        return res\n",
    "    \n",
    "    def eps2(self):\n",
    "        res = np.zeros((4,4))\n",
    "        for i in range(4):\n",
    "            for j in range(4):\n",
    "                res[i][j] = self._data[i][j].eps2\n",
    "        return res\n",
    "    \n",
    "    def eps12(self):\n",
    "        res = np.zeros((4,4))\n",
    "        for i in range(4):\n",
    "            for j in range(4):\n",
    "                res[i][j] = self._data[i][j].eps12\n",
    "        return res\n",
    "    \n",
    "    def __repr__(self):\n",
    "        return self._data.__repr__()\n",
    "    \n",
    "    def __mul__(self, other):\n",
    "        res = G3()\n",
    "        for i in range(4):\n",
    "            for j in range(4):\n",
    "                for k in range(4):\n",
    "                    res._data[i][j] += self._data[i][k] * other._data[k][j]\n",
    "        return res"
   ]
  },
  {
   "cell_type": "code",
   "execution_count": null,
   "metadata": {
    "collapsed": true
   },
   "outputs": [],
   "source": []
  },
  {
   "cell_type": "code",
   "execution_count": 225,
   "metadata": {
    "collapsed": false
   },
   "outputs": [
    {
     "data": {
      "text/plain": [
       "array([[  0.,   0., -27.,   0.],\n",
       "       [  0.,   0.,   0., -27.],\n",
       "       [ 27.,   0.,   0.,   0.],\n",
       "       [  0.,  27.,   0.,   0.]])"
      ]
     },
     "execution_count": 225,
     "metadata": {},
     "output_type": "execute_result"
    }
   ],
   "source": [
    "A = G3.E1(HyperDual(3,1,0,0))\n",
    "B = G3.E3(HyperDual(3,0,1,0))\n",
    "C = A * B * G3.Id(HyperDual(3))\n",
    "C.real()"
   ]
  },
  {
   "cell_type": "code",
   "execution_count": null,
   "metadata": {
    "collapsed": true
   },
   "outputs": [],
   "source": []
  }
 ],
 "metadata": {
  "kernelspec": {
   "display_name": "Python [default]",
   "language": "python",
   "name": "python3"
  },
  "language_info": {
   "codemirror_mode": {
    "name": "ipython",
    "version": 3
   },
   "file_extension": ".py",
   "mimetype": "text/x-python",
   "name": "python",
   "nbconvert_exporter": "python",
   "pygments_lexer": "ipython3",
   "version": "3.5.2"
  }
 },
 "nbformat": 4,
 "nbformat_minor": 1
}
