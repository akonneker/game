{
 "cells": [
  {
   "cell_type": "code",
   "execution_count": 1,
   "metadata": {
    "collapsed": false
   },
   "outputs": [
    {
     "name": "stdout",
     "output_type": "stream",
     "text": [
      "Populating the interactive namespace from numpy and matplotlib\n"
     ]
    }
   ],
   "source": [
    "from __future__ import print_function\n",
    "import sys\n",
    "sys.path.append('../build/')\n",
    "%pylab inline\n",
    "np.set_printoptions(precision=4, suppress=True)"
   ]
  },
  {
   "cell_type": "code",
   "execution_count": 2,
   "metadata": {
    "collapsed": true
   },
   "outputs": [],
   "source": [
    "import versor as vsr\n",
    "from versor.drawing import *"
   ]
  },
  {
   "cell_type": "code",
   "execution_count": 3,
   "metadata": {
    "collapsed": false
   },
   "outputs": [],
   "source": [
    "motor = vsr.Vec(1,1,1).trs() * vsr.Rot(vsr.Biv(0,1,0) * np.pi/6.0)\n",
    "n_points = 10\n",
    "sigma = 0.09\n",
    "points_a = [vsr.Vec(*np.random.normal(0.0, 0.3, 3)).null() \n",
    "            for i in range(n_points)]\n",
    "points_b = [point.spin(motor) for point in points_a]\n",
    "points_b_noisy = [vsr.Vec(*(np.array(point)[:3] \n",
    "                            + sigma * np.random.randn(3))).null() \n",
    "                  for point in points_b]\n",
    "\n",
    "\n"
   ]
  },
  {
   "cell_type": "code",
   "execution_count": 4,
   "metadata": {
    "collapsed": true
   },
   "outputs": [],
   "source": [
    "points_a = [vsr.Vec(0,0,0).null(), \n",
    "            vsr.Vec(1,0,0).null(), \n",
    "            vsr.Vec(0,1,0).null(), \n",
    "            vsr.Vec(0,0,1).null(), \n",
    "            vsr.Vec(0,0,-1).null(),\n",
    "            vsr.Vec(-1,0,0).null(),\n",
    "            vsr.Vec(0,-1,0).null()]"
   ]
  },
  {
   "cell_type": "code",
   "execution_count": 46,
   "metadata": {
    "collapsed": false
   },
   "outputs": [
    {
     "ename": "SyntaxError",
     "evalue": "invalid syntax (<ipython-input-46-c8e36d9aba97>, line 9)",
     "output_type": "error",
     "traceback": [
      "\u001b[1;36m  File \u001b[1;32m\"<ipython-input-46-c8e36d9aba97>\"\u001b[1;36m, line \u001b[1;32m9\u001b[0m\n\u001b[1;33m    scene=scene, |\u001b[0m\n\u001b[1;37m                 ^\u001b[0m\n\u001b[1;31mSyntaxError\u001b[0m\u001b[1;31m:\u001b[0m invalid syntax\n"
     ]
    }
   ],
   "source": [
    "scene = Scene(children=\n",
    "              [point_mesh(points_a[0], color=Colors.GREEN)] +\\\n",
    "              [point_mesh(p, color=Colors.HOTPINK) for p in points_a[1:]] +\\\n",
    "              [plane_mesh(points_a[0]- b, color=Colors.LIGHTSKYBLUE, width=1, height=1) for b in points_a[1:]] +\\\n",
    "              [frame_mesh(), AmbientLight(color='#cccccc')])\n",
    "\n",
    "camera = PerspectiveCamera(position=[3, -3, 3])\n",
    "renderer = Renderer(camera=camera, \n",
    "                    scene=scene, |\n",
    "                    controls=[TrackballControls(controlling=camera)],\n",
    "                    background = 'white')\n",
    "# renderer.width = '1024'\n",
    "# renderer.height = '768'\n",
    "display(renderer)"
   ]
  },
  {
   "cell_type": "code",
   "execution_count": 47,
   "metadata": {
    "collapsed": false
   },
   "outputs": [],
   "source": [
    "a = points_a[0]\n",
    "out = np.sum([np.outer(b ^ a, b ^ a) for b in points_a[1:]],0)\n",
    "w,v = np.linalg.eig(out)\n",
    "sw = np.sort(w)"
   ]
  },
  {
   "cell_type": "code",
   "execution_count": 42,
   "metadata": {
    "collapsed": false
   },
   "outputs": [
    {
     "data": {
      "text/plain": [
       "array([ 0. ,  0. ,  0. ,  2. ,  2. ,  2. ,  0. ,  0. ,  0. ,  1.5])"
      ]
     },
     "execution_count": 42,
     "metadata": {},
     "output_type": "execute_result"
    }
   ],
   "source": [
    "w"
   ]
  },
  {
   "cell_type": "code",
   "execution_count": 44,
   "metadata": {
    "collapsed": false
   },
   "outputs": [
    {
     "data": {
      "text/plain": [
       "0.4330127018922193"
      ]
     },
     "execution_count": 44,
     "metadata": {},
     "output_type": "execute_result"
    }
   ],
   "source": [
    "Q = vsr.Par(*w).dual()\n",
    "Q.radius()"
   ]
  },
  {
   "cell_type": "code",
   "execution_count": 45,
   "metadata": {
    "collapsed": false
   },
   "outputs": [
    {
     "data": {
      "text/plain": [
       "Pnt: [ -0.25 -0.25 -0.25 1 0.09375 ]"
      ]
     },
     "execution_count": 45,
     "metadata": {},
     "output_type": "execute_result"
    }
   ],
   "source": [
    "Q.pnt()"
   ]
  },
  {
   "cell_type": "code",
   "execution_count": 39,
   "metadata": {
    "collapsed": false
   },
   "outputs": [],
   "source": [
    "par = b ^ a\n",
    "par.__print_debug_info_console()"
   ]
  },
  {
   "cell_type": "code",
   "execution_count": 8,
   "metadata": {
    "collapsed": true
   },
   "outputs": [],
   "source": [
    "c_lin = (sw[2] - sw[1]) / np.sum(sw)\n",
    "c_pln = 2 * (sw[1] - sw[0]) / np.sum(sw)\n",
    "c_sph = 3 * sw[0] / np.sum(sw)"
   ]
  },
  {
   "cell_type": "code",
   "execution_count": 9,
   "metadata": {
    "collapsed": false
   },
   "outputs": [
    {
     "name": "stdout",
     "output_type": "stream",
     "text": [
      "0.0 0.0 0.0\n"
     ]
    }
   ],
   "source": [
    "print(c_lin, c_pln, c_sph)"
   ]
  },
  {
   "cell_type": "code",
   "execution_count": 10,
   "metadata": {
    "collapsed": true
   },
   "outputs": [],
   "source": [
    "np.linalg.eigh?"
   ]
  },
  {
   "cell_type": "code",
   "execution_count": 11,
   "metadata": {
    "collapsed": false
   },
   "outputs": [],
   "source": [
    "\n",
    "np.linalg.eig?"
   ]
  },
  {
   "cell_type": "code",
   "execution_count": 12,
   "metadata": {
    "collapsed": true
   },
   "outputs": [],
   "source": [
    "def new_positions_spherical_coordinates(num_points, radius, x_offset=1.0, y_offset=2.0, z_offset=3.0, stddev=0.0):\n",
    "    radius = radius + stddev * np.random.rand()\n",
    "    theta = np.random.uniform(0.,2. * np.pi ,(num_points,1))\n",
    "    phi = np.arccos(1-2*np.random.uniform(0.0,1.,(num_points,1)))\n",
    "    x = radius * np.sin( theta ) * np.cos( phi ) + x_offset + stddev * np.random.rand()\n",
    "    y = radius * np.sin( theta ) * np.sin( phi ) + y_offset + stddev * np.random.rand()\n",
    "    z = radius * np.cos( theta ) + z_offset + stddev * np.random.rand()\n",
    "    return (x,y,z)"
   ]
  },
  {
   "cell_type": "code",
   "execution_count": 13,
   "metadata": {
    "collapsed": false
   },
   "outputs": [],
   "source": [
    "x,y,z = new_positions_spherical_coordinates(10, 4)"
   ]
  },
  {
   "cell_type": "code",
   "execution_count": 14,
   "metadata": {
    "collapsed": true
   },
   "outputs": [],
   "source": [
    "ps = [vsr.Vec(x,y,z).null() for x,y,z in zip(x,y,z) ]"
   ]
  },
  {
   "cell_type": "code",
   "execution_count": 15,
   "metadata": {
    "collapsed": false
   },
   "outputs": [
    {
     "name": "stdout",
     "output_type": "stream",
     "text": [
      "[[ 1.  0.  0.  0.  0.]\n",
      " [ 0.  1.  0.  0.  0.]\n",
      " [ 0.  0.  1.  0.  0.]\n",
      " [ 0.  0.  0.  0. -1.]\n",
      " [ 0.  0.  0. -1.  0.]]\n",
      "[-0.     -0.     -0.      1.     -0.4629]\n",
      "Estimated radius: 0.962195458196\n"
     ]
    }
   ],
   "source": [
    "ps = points_a\n",
    "M = np.zeros((5,5))\n",
    "M[:3,:3] = np.eye(3)\n",
    "M[3,4] = -1\n",
    "M[4,3] = -1\n",
    "print(M)\n",
    "P = np.zeros((5,5)) \n",
    "for p in ps:\n",
    "    P += np.outer(p,p)\n",
    "PM = np.dot(P,M)\n",
    "(w,v) = np.linalg.eig(PM)\n",
    "idx = np.where(w == np.min(w[w>0]))[0][0]\n",
    "x_ = v[:,idx]\n",
    "x_ /= x_[3]\n",
    "x_dorst = x_.copy()\n",
    "\n",
    "print(x_)\n",
    "radius = np.sqrt(x_[0]*x_[0] + x_[1]*x_[1] + x_[2]*x_[2] - 2*x_[4])\n",
    "print(\"Estimated radius: {}\".format(radius))"
   ]
  },
  {
   "cell_type": "code",
   "execution_count": 16,
   "metadata": {
    "collapsed": false
   },
   "outputs": [
    {
     "data": {
      "text/plain": [
       "array([[ 2. ,  0. ,  0. ,  0. ,  0. ],\n",
       "       [ 0. ,  2. ,  0. ,  0. ,  0. ],\n",
       "       [ 0. ,  0. ,  2. ,  0. ,  0. ],\n",
       "       [ 0. ,  0. ,  0. ,  7. ,  3. ],\n",
       "       [ 0. ,  0. ,  0. ,  3. ,  1.5]])"
      ]
     },
     "execution_count": 16,
     "metadata": {},
     "output_type": "execute_result"
    }
   ],
   "source": [
    "P"
   ]
  },
  {
   "cell_type": "code",
   "execution_count": 17,
   "metadata": {
    "collapsed": true
   },
   "outputs": [],
   "source": [
    "scene = Scene(children=\n",
    "              [point_mesh(p, color=Colors.HOTPINK) for p in ps] +\\\n",
    "              [sphere_mesh(vsr.Pnt(*x_dorst).undual(), color=Colors.LIGHTSKYBLUE)] +\\\n",
    "              [frame_mesh(), AmbientLight(color='#cccccc')])\n",
    "\n",
    "camera = PerspectiveCamera(position=[3, -3, 3])\n",
    "renderer = Renderer(camera=camera, \n",
    "                    scene=scene, \n",
    "                    controls=[TrackballControls(controlling=camera)],\n",
    "                    background = 'white')\n",
    "# renderer.width = '1024'\n",
    "# renderer.height = '768'\n",
    "display(renderer)"
   ]
  }
 ],
 "metadata": {
  "kernelspec": {
   "display_name": "Python 2",
   "language": "python",
   "name": "python2"
  },
  "language_info": {
   "codemirror_mode": {
    "name": "ipython",
    "version": 2
   },
   "file_extension": ".py",
   "mimetype": "text/x-python",
   "name": "python",
   "nbconvert_exporter": "python",
   "pygments_lexer": "ipython2",
   "version": "2.7.11+"
  },
  "widgets": {
   "state": {
    "009b5b5e09f64f2aae25e74b66e0c1b1": {
     "views": []
    },
    "00f79e176dc4499b9f45e8a9496fa8d5": {
     "views": []
    },
    "015c7f42348a4f22b7502dd5ae8cde0c": {
     "views": []
    },
    "01a05024d3f148f0bc3aff7d981fe136": {
     "views": []
    },
    "023421159097409986c7932f166ac3c2": {
     "views": []
    },
    "0264377483474698b0131ef873134fb8": {
     "views": []
    },
    "0297a6bb16524ede885c0d9fd56dd917": {
     "views": []
    },
    "02b57f3ce3ca4ba6923de568290441ce": {
     "views": []
    },
    "02f47096bb004cb2a7587750e283400e": {
     "views": []
    },
    "03539efafd6b465385ebec557f12c231": {
     "views": []
    },
    "035dc31cd4c24c79acdd6a7c1b1c1bfe": {
     "views": []
    },
    "0374bf0575b14a1989f506660adae70e": {
     "views": []
    },
    "03ba113367ed4e3fa18f39c5a06d292b": {
     "views": []
    },
    "03bad2ef2b674391b67cf02113349061": {
     "views": []
    },
    "040446307c0549b3b0f871b0671bffbb": {
     "views": []
    },
    "0440d842af4e46fea7268acedaec96f4": {
     "views": []
    },
    "0441127a61a044dead0687088e2cc2e9": {
     "views": []
    },
    "0471add2a8fc44138391ce3497fc408f": {
     "views": []
    },
    "04760e5ae37248b994fd4357f70745e9": {
     "views": []
    },
    "04e25b75092f4f30b73175065e7665b3": {
     "views": []
    },
    "04ecc6dfcf27457c867ad23cbe46bde4": {
     "views": []
    },
    "0509dc2a302a46a9ba60967eb05370bc": {
     "views": []
    },
    "050a1fa9c8bb4352993ccbb0a11faa4e": {
     "views": []
    },
    "05befd7c95f047d89038af9a7ca70556": {
     "views": []
    },
    "06c791fc40a241d0ac37b9b63b318392": {
     "views": []
    },
    "06e7ebf218a342d58e5ed250db164db9": {
     "views": []
    },
    "074e63d9fb9444248192aec895b4dfc8": {
     "views": []
    },
    "075377d172ed4a7792938b5ee98b9369": {
     "views": []
    },
    "076ea00c8123419d8bd1ee56c9e8b24b": {
     "views": []
    },
    "07ad5f4577ec4f24a49ca73bfffbf537": {
     "views": []
    },
    "07c0651b7e95457aafbc74f0cdb8d925": {
     "views": []
    },
    "07cc80548b4149008b15ca0decac32b7": {
     "views": []
    },
    "07e63eb184ba402581c044b9ea88b7f7": {
     "views": []
    },
    "07f7ef83fd3341598feca8f3adc58d69": {
     "views": []
    },
    "085422d72b544f728403cadf1e22df02": {
     "views": []
    },
    "08849ed3bf4c47fda1e251e60024e467": {
     "views": []
    },
    "0889f90b40d14940bd14c22900497c47": {
     "views": []
    },
    "08cab2cc38de458db34b712eb224fcfd": {
     "views": []
    },
    "09437269c1024a40a78a85e987a63ff8": {
     "views": []
    },
    "09b3bce203024b06b48953bfe384e799": {
     "views": []
    },
    "0a2438a5a9e64ce9a612138be356f16f": {
     "views": []
    },
    "0a7a413cdbae494e90a5e1dfc9481dde": {
     "views": []
    },
    "0a815292ea7f44da9a5f49805c973722": {
     "views": []
    },
    "0a9a923af61b45e6a41a428774fbde41": {
     "views": []
    },
    "0b0863e362cc46fc87a077738d3dbc5f": {
     "views": []
    },
    "0b3c01b7f0ec44359e43af0f286df327": {
     "views": []
    },
    "0b4e292e45e34617badb2f9a5d63121c": {
     "views": []
    },
    "0bce8e16ca37443eb929800fa5478e89": {
     "views": []
    },
    "0bdd8234de0448598a5a4fd37aeec6fe": {
     "views": []
    },
    "0be5ea12e55345eb8398ddeeb46040cf": {
     "views": []
    },
    "0c96c6d9ac80437bb376aaf520f8ca3b": {
     "views": []
    },
    "0c9700804023493a9a40b4c14b4865c9": {
     "views": []
    },
    "0cb54078857c4f63866a5a6e82f9df29": {
     "views": []
    },
    "0ceb023fe8dc4513bee55740d95a6491": {
     "views": []
    },
    "0cef53d99c394aab89d1f06b2de1381c": {
     "views": []
    },
    "0d8aa227c36d42158081404aac8025d7": {
     "views": []
    },
    "0ddf4b5cbde84d2a8de5712acfef2982": {
     "views": []
    },
    "0e60402a37e94e1ebd9c03409b7da95a": {
     "views": []
    },
    "0e91b8c6b69b4034896bba0c8ef492e3": {
     "views": []
    },
    "1027d42373804fcca1aba4faab888358": {
     "views": []
    },
    "103963621f474adca12a99cbc9d61398": {
     "views": []
    },
    "103a7f3d2b184452b28e463756f3b15d": {
     "views": []
    },
    "1068ca70542d47a3a181f45550158050": {
     "views": []
    },
    "10770fb5f2bf404c9b67b56e7f2c33e8": {
     "views": []
    },
    "10cc00b52f1841e4a00b6adc2c1bbbba": {
     "views": []
    },
    "10ceff9f809a46ca956e3e31a47c9acb": {
     "views": []
    },
    "1132e29fae1b4a5abf7f2e27fad19040": {
     "views": []
    },
    "11652d2701754e368cd6fbd8d1ea1001": {
     "views": []
    },
    "117684327b164621b27168aa1680e816": {
     "views": []
    },
    "11ba6512b372450a9d79b5f094d6e268": {
     "views": []
    },
    "11fd496f1e5a4d1cb59a1c549fbff202": {
     "views": []
    },
    "12069a05097143eda018937ee8731da5": {
     "views": []
    },
    "12ef5de3f71549f281e00bf58a9f0aa8": {
     "views": []
    },
    "13328478624b41a094b11f7085eb2058": {
     "views": []
    },
    "13676b0c99af40d18f400618634829e1": {
     "views": []
    },
    "138428b1dba74e6ca762651721f9b7a4": {
     "views": []
    },
    "13dc9f2d475c473d8181e603275a13a3": {
     "views": []
    },
    "142416b4cf6f45bfafd78edd56eecbf6": {
     "views": []
    },
    "14af3bed7a3242558f3d566532a21b02": {
     "views": []
    },
    "14d484718966487e86a756c47afd0b0e": {
     "views": []
    },
    "14e168e92fa24b9aa2901e149495656b": {
     "views": []
    },
    "14ec22e1d2dc4f958fcb40f143f56838": {
     "views": []
    },
    "150a12645d114697a9fabf950546b3ff": {
     "views": []
    },
    "152bd5e71ac64a5582bdca6fc78365f0": {
     "views": []
    },
    "160c63cafa604a509fb09421e70e46ca": {
     "views": []
    },
    "16afc759c9494766aab4c5dbbf579584": {
     "views": []
    },
    "16cd49d95f644932a4712c0a3832ac1f": {
     "views": []
    },
    "1709338169c04956856f5ed860c29df2": {
     "views": []
    },
    "17598f5a93b34f6b9f419d10a01d7712": {
     "views": []
    },
    "17947429d40a4c70a2c687a2949084e0": {
     "views": []
    },
    "17bf8a34e26b4d969db41c04fecd64ff": {
     "views": []
    },
    "18656a23147e400bb66437144233f58d": {
     "views": []
    },
    "18bda6926c9e49f0af3648f4e675ab14": {
     "views": []
    },
    "18f5e9b88edd4e64aea1b75c18b0ed3d": {
     "views": []
    },
    "1950ec559369496b946752da04e54d32": {
     "views": []
    },
    "1968e0a031b34c76982860668f6a436c": {
     "views": []
    },
    "19927ce689a24e43aae8f920147c53fc": {
     "views": []
    },
    "199ef3b856374083aef082f7366215ca": {
     "views": []
    },
    "1a332fa4f951492b9d7f167596f27515": {
     "views": []
    },
    "1a4c5a130d004f018805ece9cadafc89": {
     "views": []
    },
    "1b7dfdb4d90046ca846f862f008bca95": {
     "views": []
    },
    "1bed61289bb54e84b5f63baaceb64979": {
     "views": []
    },
    "1c1e53c279c447d9969c83ac0d02cbd9": {
     "views": []
    },
    "1cfaafa9795144248626ba8a81bf7352": {
     "views": []
    },
    "1cfd7552ddc0491887e8c67741abe949": {
     "views": []
    },
    "1d53fd448f2c4e31905cbad7650f30b9": {
     "views": []
    },
    "1d802a1a5a9e4aeeac73f60271d2d86b": {
     "views": []
    },
    "1d929dc9540642b1bdd07081f444c9bc": {
     "views": []
    },
    "1dae891e6c114b16a83bbc0d553aa508": {
     "views": []
    },
    "1e086676f2c44ca2ac88c98d898963bf": {
     "views": []
    },
    "1e77a294804843de9118328ffe614a51": {
     "views": []
    },
    "1e88546fce3a45648071b43078e33e69": {
     "views": []
    },
    "1eddcd47434f427dae0b2f8110eb2f45": {
     "views": []
    },
    "1eeb16cf56bf4b24aca8b6993ba5a3bd": {
     "views": []
    },
    "1f1061b1141f4f84be0b199aa625e882": {
     "views": []
    },
    "1f120c084d62429a85301d0fb92595a4": {
     "views": []
    },
    "1f206fe1c9ba4bb2b741df6e1573c0ba": {
     "views": []
    },
    "1f4574893cdc4a088de9195df53b7cce": {
     "views": []
    },
    "1f559e133631451ca1135a457afb4db9": {
     "views": []
    },
    "1fc32bbb791b4a79be4c518204e7f280": {
     "views": []
    },
    "1fe7060f25d54239a8f6bfb56921633a": {
     "views": []
    },
    "1fef6fe27548456096e590954d2203f6": {
     "views": []
    },
    "2000adcc22244348a98c9a27651739fd": {
     "views": []
    },
    "201627661d644c7c8c409c6ca78805fb": {
     "views": []
    },
    "2049e92fbd2a4cfd864b190f335aad7c": {
     "views": []
    },
    "2053779d528c4427a13b407c38329734": {
     "views": []
    },
    "209ba71cfcd14e95b0ef089e48784689": {
     "views": []
    },
    "20a26821078444738a0258b1ded3705a": {
     "views": []
    },
    "20ddcf1394d64fc58463e0aec3c852c1": {
     "views": []
    },
    "20fc9b66dc40444cbaa3c5475670a88f": {
     "views": []
    },
    "214dc589461048c88b9341ddd1c51e11": {
     "views": []
    },
    "21d1b513c7c84b128cd7133e70a885c9": {
     "views": []
    },
    "21d7df568a5e45e2bfdbaf9d151546be": {
     "views": []
    },
    "221a3c7c1aae46ffbe326801ea7a8f7f": {
     "views": []
    },
    "23f84f14c4cb4a80b095d87c083581e5": {
     "views": []
    },
    "2427f74c15a04623a3790a5304c99fc0": {
     "views": []
    },
    "2441f23a0c0143759f348751e76833b9": {
     "views": []
    },
    "24bfbcecad304b98bb5a57ca19f57e84": {
     "views": []
    },
    "24ded6ecdbf941d69fd90bce7d61126e": {
     "views": []
    },
    "25154d74b9a4458881f9890f23e1b34a": {
     "views": []
    },
    "25185af081df493f84f912c69bee8851": {
     "views": []
    },
    "25319d225961427db2eb0e0b55b2ccee": {
     "views": []
    },
    "25351c9eee9d4e2db184704b5a3f3bb3": {
     "views": []
    },
    "257c9f49cfe34f85b218713375e85973": {
     "views": []
    },
    "261f5387785d4fe6a2b5865fee7a6c52": {
     "views": []
    },
    "26f9665ffb164d4ebcf4c76e9c37f538": {
     "views": []
    },
    "2718a1e3328a4c3d9b259268abe6a0b8": {
     "views": []
    },
    "2737c88103334cac9229d977d8b4c30d": {
     "views": []
    },
    "27ac435f0bad46c48ca1eff3b331836a": {
     "views": []
    },
    "28201d474d0d4c5fb296bbd7205d3c9b": {
     "views": []
    },
    "28a4aaee58bb4e66bda25583624cf11a": {
     "views": []
    },
    "29b90617960842c7a4f4f5599326544c": {
     "views": []
    },
    "2a1ebfa618304ba7aa79bd113acb8bcd": {
     "views": []
    },
    "2a65e4d3f4944b74addbfaeb30c92d33": {
     "views": []
    },
    "2a80de401b0e45409fb07d3518054b32": {
     "views": []
    },
    "2ab174fcc03c4b2baa0abcd95e846890": {
     "views": []
    },
    "2ae05793d4164fac8a4d243756faabde": {
     "views": []
    },
    "2ae8e4f3957e46dfabeeda43f9b01b98": {
     "views": []
    },
    "2bc82e003a724cde9c5e47c29a8267b0": {
     "views": []
    },
    "2bd1663672df4f0b953b021550e122e7": {
     "views": []
    },
    "2bd3094405aa40b0909bebec0cc75737": {
     "views": []
    },
    "2beb96e79ba24931af14fd2882dbf275": {
     "views": []
    },
    "2c6772fdcb45465ebcfdb289728caa69": {
     "views": []
    },
    "2cd601b761224f729fba195a6107a97c": {
     "views": []
    },
    "2d0d102151b34dadb92cee8e4974a89c": {
     "views": []
    },
    "2d57e5239fcc4ff79a0c411d822c540c": {
     "views": []
    },
    "2d67946c212e4038996605f127f5eba8": {
     "views": []
    },
    "2df86f6927ec457a97ca942b3128bed7": {
     "views": []
    },
    "2e75b713d8d145eab7e09309bc9e94fb": {
     "views": []
    },
    "2eaccbfa5bdc4c9fad495653e083d005": {
     "views": []
    },
    "2ebc70ecb3994f0e99edea314b15ba65": {
     "views": []
    },
    "2ef37aa0e39449b4a57dfd351a0cd2d9": {
     "views": []
    },
    "2f0d00f719104f25851d44f9272fecad": {
     "views": []
    },
    "2fc541b36f714252b964a0ed3888d49e": {
     "views": []
    },
    "2fca8815c6544b7ab4f0a07564791666": {
     "views": []
    },
    "2fd908be2cfe42bc8d981b64971cea4a": {
     "views": []
    },
    "2ff1ff3383914322b8a2d1898febd84f": {
     "views": []
    },
    "3027d24d21bd4aeeb99bebe8a475bcb0": {
     "views": []
    },
    "3047fc2c7b374e23a87d53c377d7d9d9": {
     "views": []
    },
    "3056113296794ccb82548d8ba7362766": {
     "views": []
    },
    "30675f179f4d4402bc378030cba12525": {
     "views": []
    },
    "30969c9f686941388b4b3b78123f9080": {
     "views": []
    },
    "309a4ca5bd114581acefee28e7613266": {
     "views": []
    },
    "30dad4b3705e4384b71ecd54ae57dccf": {
     "views": []
    },
    "30f478e3e7af4b429e6696b4be795b87": {
     "views": []
    },
    "30fbd3e68089497abf52af7cb93b5793": {
     "views": []
    },
    "31165b0ade564bb68c0296479740f322": {
     "views": []
    },
    "3133d3921d904946aab2ccc6d6780afe": {
     "views": []
    },
    "3155d34c0546489d840ffeeab3a8507b": {
     "views": []
    },
    "31dafc54d366419fa2b1cbcc15425b0f": {
     "views": []
    },
    "31e56b7fe8944611a21ad24f07d9dddc": {
     "views": []
    },
    "323252de125f4ae8b5ad300c58473fe0": {
     "views": []
    },
    "32a9da937b534ab085259c6d28a3ed14": {
     "views": []
    },
    "32e52316275646cb948f4fe2079d5fba": {
     "views": []
    },
    "330992a74784457ba1292bb957fb1c45": {
     "views": []
    },
    "33537856d1af4038bb3f96fb70c8ab46": {
     "views": []
    },
    "33685a1e768b47ff94ec37d9c3c145c2": {
     "views": []
    },
    "345dbed75b4d4b05a0187ffc53710e8a": {
     "views": []
    },
    "34ed6b755e094755ac81a1a5941ab460": {
     "views": []
    },
    "34ff6eaf97b94e638c902aab05d116c5": {
     "views": []
    },
    "350dcf7e3e9340be8761dd35b094a2b2": {
     "views": []
    },
    "351a2d09bc404e3ab0c843e98afbb67f": {
     "views": []
    },
    "35ac4e62a892494cbe544da9040880c1": {
     "views": []
    },
    "35cc2f4e23e84e1cbf374f55cb14ad8a": {
     "views": []
    },
    "35d379af64dc4b4f9c53cbdef41f2732": {
     "views": []
    },
    "3606eb1062134a9fa5c7f132aacc070c": {
     "views": []
    },
    "363aef8384884ecea2e296bc33e396d5": {
     "views": []
    },
    "36b0861f88834889869c44486456586d": {
     "views": []
    },
    "36b6243b73eb46c4bcad123fe32f4c88": {
     "views": []
    },
    "3734105acf4b4ebc9ea925eb4a4d9481": {
     "views": []
    },
    "3742817e923448749cc7e5def8d9a00e": {
     "views": []
    },
    "3772dae42ffb4fa58fc2bd00bbcd2987": {
     "views": []
    },
    "37bdca41054d4c14b135a81208d3c67e": {
     "views": []
    },
    "38c2166007b440dcb23e14cf5e463c05": {
     "views": []
    },
    "39837bfb480d4c7a8318bb872074f295": {
     "views": []
    },
    "3986d01e9587415f8433af04f0ff9723": {
     "views": []
    },
    "39daac8cc2d144f3859219ac7761867f": {
     "views": []
    },
    "3aed5a2dfd5d4ab38568ac81b384473e": {
     "views": []
    },
    "3b4e6668d647444e939d6854a45bcdcf": {
     "views": []
    },
    "3b887686ddcf42369331af6b89703736": {
     "views": []
    },
    "3b8c5dfd02fe4c20bdc80fd7394ea068": {
     "views": []
    },
    "3bdc7269436a4e8c935efa8e91a416db": {
     "views": []
    },
    "3c84dfc8dde046eb898d7bd2943538ac": {
     "views": []
    },
    "3cb2bc1fab254ef2bbe85b60a1a8d59b": {
     "views": []
    },
    "3cb6ce5145df47a2af0049da5b7b5c5f": {
     "views": []
    },
    "3cd271bd37794f8489a4d7379e1707a4": {
     "views": []
    },
    "3cdfbb602d38448cb5577f53835c84d5": {
     "views": []
    },
    "3e7f503c5fcd4612a112e12ed1e0b53c": {
     "views": []
    },
    "3e8f6805386f4dbc8724aa9e97202c04": {
     "views": []
    },
    "3eb0c8f5bdec4f1fbe218d59af3972a4": {
     "views": []
    },
    "3f0d44169bd541ceadce9762a3383568": {
     "views": []
    },
    "3fa269f3e9c648f3a0169dac20978355": {
     "views": []
    },
    "40452ff9a2824a1ebf3baee7e0e02483": {
     "views": []
    },
    "4075b0c7d7ce4313a24ebbc028a98cc8": {
     "views": []
    },
    "409067c5190e4bc596393b141fcd764e": {
     "views": []
    },
    "412444e584514874a3377b5c9e386476": {
     "views": []
    },
    "418be82706d54b32a14dc392f97f7d67": {
     "views": []
    },
    "41f06fc23df14b2dbf9f96e5b881f430": {
     "views": []
    },
    "428adfcdedc948e8bc32d59e1c4cf6bc": {
     "views": []
    },
    "42e17d527acc4b5a95c513ca44daac3d": {
     "views": []
    },
    "430a116ec86545808c739b796381d98a": {
     "views": []
    },
    "436e0d1c0cd94a4f97c1b258d53c8e90": {
     "views": []
    },
    "43bb203bc7f94fe29283809601470468": {
     "views": []
    },
    "43d99cf625a447b7bdd4b9886f2b35ed": {
     "views": []
    },
    "441f321c340d4c56988f700e56a4faaa": {
     "views": []
    },
    "44831071dd584ed69ed7c290ec4d4227": {
     "views": []
    },
    "44f8e03c0f014510b2f65446ffec8437": {
     "views": []
    },
    "45000604a75149f69211394203a1c99c": {
     "views": []
    },
    "45129aec7b494726a016bd12e10151cd": {
     "views": []
    },
    "452b75d2fbba45638729a659a2d4c1d0": {
     "views": []
    },
    "4598c408004040c99edc04839221965c": {
     "views": []
    },
    "45a17903a11945b1ae519c16a15f09df": {
     "views": []
    },
    "45a36b3c95d64de792666eeea71059ef": {
     "views": []
    },
    "45b80cdc5a9b47b1b0cfe1e790532110": {
     "views": []
    },
    "45ee285d09274649ab14f85927296ca6": {
     "views": []
    },
    "45fa7177226e4234bf9d4877bb7dd1e0": {
     "views": []
    },
    "4603322cbb0e41dbb9b301e265e0e625": {
     "views": []
    },
    "4637611341614772b99d8e1850d57c6a": {
     "views": []
    },
    "46ae73ed09b54ecdadf04c2a1d94a073": {
     "views": []
    },
    "47b6be8b0bea441cad77bbb1bdd21244": {
     "views": []
    },
    "47dd801c16dc4646909cd26167246d44": {
     "views": []
    },
    "48131c06e9304fc2886f1e218872fa14": {
     "views": []
    },
    "482b015e47f4418c89a4d77eae262f0f": {
     "views": []
    },
    "486e45cdce524dc5a642c236496f4259": {
     "views": []
    },
    "4874b888949d4280b279f36371a960f9": {
     "views": []
    },
    "48d4814618134a3a9a3b53468ba35e82": {
     "views": []
    },
    "48e1d26ab72b4fdba8cd9530a0ca8b28": {
     "views": []
    },
    "48f089a19889481197bb55484ba5513e": {
     "views": []
    },
    "48fc73f52512424892ff4602e4e3335f": {
     "views": []
    },
    "495a121004454191a791c062002767e1": {
     "views": []
    },
    "497b9efb653042c191c1b43d9a70f190": {
     "views": []
    },
    "49f18358b03640f6b192888021dfeccd": {
     "views": []
    },
    "4a75efaaef8a4d6d954aaf4e4f3ff72a": {
     "views": []
    },
    "4abc8c9f69c8443a94bc0fd2dfc5ccbf": {
     "views": []
    },
    "4aca0e221e4e4eb5b6dbe3468bee6cf2": {
     "views": []
    },
    "4ae89bd3a82a4945b11f39704001fc04": {
     "views": []
    },
    "4b4b7649417e409186c2c7238dc4aa05": {
     "views": []
    },
    "4b99af989c2544cb8b5b459cc209469a": {
     "views": []
    },
    "4bb536246483438996d69f4df34ca77f": {
     "views": []
    },
    "4bd90cdee14a4a4abf23ec0066aaeee7": {
     "views": []
    },
    "4cb259c2d20347f3b3fa787743807ece": {
     "views": []
    },
    "4d4a1469dae74a6483cd4c5e94905d23": {
     "views": []
    },
    "4e63e18da27845e9ae08f172132dc9a6": {
     "views": []
    },
    "4f29d5f5f5f94cc0983a3b4190b59c85": {
     "views": []
    },
    "4f2cde78ed98473b895135c8df9ac222": {
     "views": []
    },
    "4fc11f5df8c449c3aa4b2607389f5b2e": {
     "views": []
    },
    "4fed2a1efc1c4e73b65ca22028d43b2b": {
     "views": []
    },
    "506d01ef76c64345a8b234db77c7a0aa": {
     "views": []
    },
    "507bf708c3704357bcd5a024b8b7c724": {
     "views": []
    },
    "50add555f06945ac8d219031b48bee56": {
     "views": []
    },
    "50efa797da834d12906228a392d40c15": {
     "views": []
    },
    "514b9fe791ec4b3097ea71def9a374d6": {
     "views": []
    },
    "516ddde552ea4ee5927bbdc8c337ad5a": {
     "views": []
    },
    "5211e1345b9a47b7af52e2b850ef5baf": {
     "views": []
    },
    "521e0a483cf44ac1b19a788b428cc020": {
     "views": []
    },
    "52279c5ef1f54b77a131aff9c14b3b3c": {
     "views": []
    },
    "523302e40865412992028a60e6c56920": {
     "views": []
    },
    "52452bf4467c48dcaf51e452589313bf": {
     "views": []
    },
    "5287c36e5db94851a959f28be5a4774d": {
     "views": []
    },
    "528f2a0ad34f404d85fd5f8aa197bf0b": {
     "views": []
    },
    "52b3363c0e6b4996bc40258981e18123": {
     "views": []
    },
    "52becb1e80144b0cb11529d5af8f73c2": {
     "views": []
    },
    "52c1d844242c42dcae35046c4b1ffe99": {
     "views": []
    },
    "52c36a3533e342f0a36f6809ca2071bb": {
     "views": []
    },
    "52dc483344564cb581b5ed07cf65a024": {
     "views": []
    },
    "53b6ef52a544427b8808cc0d9b1a7db8": {
     "views": []
    },
    "53f1d26b4edc41a3ab5060ab7577ccf6": {
     "views": []
    },
    "53f8a775a7fa4df39d7f8b6668083de4": {
     "views": []
    },
    "542f73978afb4ccfb7f9d83c5b27edf2": {
     "views": []
    },
    "544fa53d850e4fbf921e75a5fc4c5e27": {
     "views": []
    },
    "549c091085e24874b88cb41dffa85f68": {
     "views": []
    },
    "54ab90fb05bb4e0a9622870bdda950c5": {
     "views": []
    },
    "54ccc5e418744ccf915cdd75a4a0eba1": {
     "views": []
    },
    "550c95eeaac74ef8a12c62c9e1ceffca": {
     "views": []
    },
    "5551d56dfbf14d94890f5aec0ff3ca07": {
     "views": []
    },
    "55599ec613294e88a2499fbed70adecb": {
     "views": []
    },
    "55717470fdce48a78f1c077ef5090cb8": {
     "views": []
    },
    "559c833779214bb480986057f3ecc45e": {
     "views": []
    },
    "55b5da4c7acd4e8ca3d209896d01b553": {
     "views": []
    },
    "56203b27f199467c9099d788f55de826": {
     "views": []
    },
    "5625b5506c3f4138bee244016a6d4f09": {
     "views": []
    },
    "563caa958f71487680be75dc230bea62": {
     "views": []
    },
    "5642e743e18d4c56a633f7810b9c9320": {
     "views": []
    },
    "56625be218f64c84869fec7657b172e5": {
     "views": []
    },
    "56721608ef4c44cebfbef0f84e39443a": {
     "views": []
    },
    "5688a441c92c415d82463dd1c2cf74a6": {
     "views": []
    },
    "569fe4c0e3e342bbbc46f9300a6e9c08": {
     "views": []
    },
    "5728916e03a44e9bbbaf3a49109c9b18": {
     "views": []
    },
    "5742e2df7c224ed8a9b84ddb73bcc10d": {
     "views": []
    },
    "5746f0a74ec24c2f90d59382f1d66266": {
     "views": []
    },
    "577bd6963283447393bcf546ab859ccf": {
     "views": []
    },
    "577d9603265f41dba90b8ddf41734124": {
     "views": []
    },
    "57d1e4f5f6b24ae39a976be44370ae94": {
     "views": []
    },
    "57ff18cd5edc4951a56904ad49403672": {
     "views": []
    },
    "5824bba37934481c91f474205a1214fb": {
     "views": []
    },
    "58c107850c5048639457148daf132430": {
     "views": []
    },
    "59c5cb6ad031474fb36f98a70237237a": {
     "views": []
    },
    "59dfdda920a74d8b864f39ef57992754": {
     "views": []
    },
    "5a2e0324524940baafdb8119bc34bd53": {
     "views": []
    },
    "5a3dbcba75b14afda8759a85cc1c7955": {
     "views": []
    },
    "5a43dccce88d4fd4bb185c2b2e9479bb": {
     "views": []
    },
    "5a88d2decb9e403b8cbb0d8e7cf1bef4": {
     "views": []
    },
    "5aa9a81ca3364115afd0b2082ee0129d": {
     "views": []
    },
    "5af29d56c62e4afcbc8d36ee517dae0d": {
     "views": []
    },
    "5b3620d3dbdd44d29698ca999d3c3d42": {
     "views": []
    },
    "5ba9a7644ff34062868b3ed9cf44edd1": {
     "views": []
    },
    "5bc82843015b4337a4b74cf69ee39332": {
     "views": []
    },
    "5bfc50b1598a447bb819a39a5f535cc6": {
     "views": []
    },
    "5c310abc091649bfaaf952e00e791cc4": {
     "views": []
    },
    "5d16c29764ff4c378832b30dfc1fd370": {
     "views": []
    },
    "5d324f972c214d1386acdf14f8b5aa34": {
     "views": []
    },
    "5d47c0e846c34ea78c139096522ba6d3": {
     "views": []
    },
    "5d7e5ab88ea14f168497d269bae9feb2": {
     "views": []
    },
    "5dd42dfc0712413cb005ef07cf7ff0dd": {
     "views": []
    },
    "5ddc56a95f354bb789668a8d19e8dd71": {
     "views": []
    },
    "6030846f5ec3446089b1f42186551512": {
     "views": []
    },
    "60a63db8be724c99ae2d8c21e11ee8ba": {
     "views": []
    },
    "6132116524c04355bb5d9244f25624fa": {
     "views": []
    },
    "61c57a511f0f44ca9f567c9d0ae45937": {
     "views": []
    },
    "61cebde8929d4dc8a6aa6452e71f29dc": {
     "views": []
    },
    "61df2b63900b464a81ec1d8715f50b5c": {
     "views": []
    },
    "62033342bccf45bea763a2e9b8bffb9e": {
     "views": []
    },
    "622e16818b0945b296e8ecc78afd803c": {
     "views": []
    },
    "62530231f87f46c6a22178b6b03dde57": {
     "views": []
    },
    "628052d157ef4caa9407aafdf3e6fead": {
     "views": []
    },
    "628ddb421694408bb133ccb76fc37b33": {
     "views": []
    },
    "6348303ea33d4cebb24090435268a139": {
     "views": []
    },
    "634ae102c15c458dbcb4ea8c62688707": {
     "views": []
    },
    "63bbadce19f04c9f806a92d96a577b30": {
     "views": []
    },
    "647003a8d3b24250be0fb66b7b7d6aaf": {
     "views": []
    },
    "648786782617427781e1ddf36a347b82": {
     "views": []
    },
    "64ba3da691404d6895cc87006a17e23e": {
     "views": []
    },
    "651f2ac7c68a4c42bf8030ec982ddd11": {
     "views": []
    },
    "65345887cec747d2ba869db34284fb9d": {
     "views": []
    },
    "654e1f6c41b144a5bd31b226e34aa419": {
     "views": []
    },
    "659f3351d4f94f50958ca6482fc694b3": {
     "views": []
    },
    "65c377fad940429ca25d05ef26dcb7bf": {
     "views": []
    },
    "6600eec95b9b465cb695387945368bb3": {
     "views": []
    },
    "667e3021cb9343be933c412b401fb23c": {
     "views": []
    },
    "6704adcf53074c3f93201089628e617a": {
     "views": []
    },
    "679b34ec214741da815637687c240907": {
     "views": []
    },
    "67a78c61fcee4453ad0023a63ccaac43": {
     "views": []
    },
    "684fcb97b96b415e9133ba4e07180084": {
     "views": []
    },
    "685d496b908d4f4f86cedcd0e068989e": {
     "views": []
    },
    "690d0e0fa6de4d75990200742372218f": {
     "views": []
    },
    "692ae527563b4d74bf87881ecac1c0ba": {
     "views": []
    },
    "694fc4b26f424676b89f27dd7a7611a0": {
     "views": []
    },
    "69588386e4a941c78d74778ed4cd5761": {
     "views": []
    },
    "6982b50e468f4dbe94d4a53d35579f4a": {
     "views": []
    },
    "699575399712440f9e01d118544ada0e": {
     "views": []
    },
    "69e263bf4af04b17a0b0ba9e46b21720": {
     "views": []
    },
    "69e5943f745f495e843a66026e7e35e6": {
     "views": []
    },
    "6a96b96f967146ea8c7437ca08914408": {
     "views": []
    },
    "6b4b59d3f2604e8ca162f51fe4368bd2": {
     "views": []
    },
    "6bd94ab8a8fa4bd798278c361e99dd0e": {
     "views": []
    },
    "6c687bc844a94e57b65a08196bd74655": {
     "views": []
    },
    "6c82668081ac4f5987bcb2d71a0acf2e": {
     "views": []
    },
    "6c8a7711394e4e95a385293eed861839": {
     "views": []
    },
    "6cd5fc1b75be4631938ec88a72cc2b26": {
     "views": []
    },
    "6cf0b4cd4c4e466d8abe4e399fa5e70f": {
     "views": []
    },
    "6cf3acb342ec448d8e2d04a43251adc9": {
     "views": []
    },
    "6d7ca7177cab457d9144a296b4367e78": {
     "views": []
    },
    "6d7fb4bd937841fabfd8834e573442ec": {
     "views": []
    },
    "6dafeff07d354078a3e01f3f845909ce": {
     "views": []
    },
    "6ddf9fd90be24293a07b317f64a232b7": {
     "views": []
    },
    "6df532888d9a4b8b8f6d201acf297e7d": {
     "views": []
    },
    "6e1c5f4083cd4550bd1c9cb192640995": {
     "views": []
    },
    "6e1f92dd3f67481fb4bcc5566b3581a6": {
     "views": []
    },
    "6e503e15f461480b96d0abaf7c4286fd": {
     "views": []
    },
    "6e6d9b0cf0b64b9daeac1f28775f335d": {
     "views": []
    },
    "6ec5cc1311b047f4823dfd170e442901": {
     "views": []
    },
    "6ed7a15bc9a3422c8e78a29710c8830c": {
     "views": []
    },
    "6efb88b439064bf4bb56647a42c4eb2b": {
     "views": []
    },
    "6f4fc4726c544e599a7d009873db0b85": {
     "views": []
    },
    "6f7795b8fe394cd98679fff70f939d32": {
     "views": []
    },
    "6f989855fcaa47b3ac53a7791a7d7d7b": {
     "views": []
    },
    "706fda2c20fd491ea64adafba4591a09": {
     "views": []
    },
    "70c3e6d4954c489bb4de57a1187387f2": {
     "views": []
    },
    "711201c837394d808a63d264ebd35cad": {
     "views": []
    },
    "711735ad681e40dea1b79afa24ad9097": {
     "views": []
    },
    "71342d0a137942509e356858f79b86d5": {
     "views": []
    },
    "71926a9ca46a4f379e1a11b319526267": {
     "views": []
    },
    "71af77bb6cfd488693af397dff770e82": {
     "views": []
    },
    "721e1ae41ced400d947a46a813721ee0": {
     "views": []
    },
    "7295c1292e714f9993d023b98e599469": {
     "views": []
    },
    "72c75cb955d94ccfb797117d2324dd93": {
     "views": []
    },
    "72d0d10f5233445b83037e97ab43d657": {
     "views": []
    },
    "72d447c654774a2fbd57daf37ab9f636": {
     "views": []
    },
    "73482152f84549cd8f77e99486fc4a39": {
     "views": []
    },
    "7359ccb1a26d4d0081662e88de3e556f": {
     "views": []
    },
    "736feb1b35ab4e34bf61b4dd72ef369b": {
     "views": []
    },
    "737cb61a312e4f79b4da58ae56ac0eb6": {
     "views": []
    },
    "738f2f53f9954c75998bc776cc118be8": {
     "views": []
    },
    "73d0ee19da3f4dc193b3411eca352511": {
     "views": []
    },
    "742ca64832804d59afd5a43583159dd1": {
     "views": []
    },
    "74ba4064f0784c13854ae810d064b217": {
     "views": []
    },
    "755e4177524143ea9a2bcba7f7ba93f4": {
     "views": []
    },
    "75a3a63a4ace4cb0a08db192e6c88551": {
     "views": []
    },
    "75c3d81d7dd3464594c9e77dcc7420e3": {
     "views": []
    },
    "75c8d673a1ed4c22a14eabfc336c9e2a": {
     "views": []
    },
    "76114f3fe4854cf2ad08e0c48c0057d2": {
     "views": []
    },
    "765bcc1ca7164956aa598c373beb05c0": {
     "views": []
    },
    "768f4e09484a45b3bb70682c2505a748": {
     "views": []
    },
    "76b4fa0f48f845e2a6df9e295ce5e19b": {
     "views": []
    },
    "76f53dd509bc4824815d5a03de50394c": {
     "views": []
    },
    "77299fb61d0c4919bdcd7f4157c1f0b4": {
     "views": []
    },
    "772b6f90173048beb5a9740e9493e34d": {
     "views": []
    },
    "77404f6ad5df45e8a64ceaa2292a06ff": {
     "views": []
    },
    "78277ce91d5345bbb03f05ccb00c06fa": {
     "views": []
    },
    "78841216c4eb4ae99fbac228f10df758": {
     "views": []
    },
    "78907c99612b4d139fd1114ff2563ba2": {
     "views": []
    },
    "79215159284042248189ea2cf6b834d9": {
     "views": []
    },
    "79a6feb7d7464a2ab83f9f86b04c9d41": {
     "views": []
    },
    "79dc142b45f448c78e72f519aac634a0": {
     "views": []
    },
    "79dea8cbee344fadbbb3dd1bda90dfad": {
     "views": []
    },
    "7a432a4053b14476b377d81ac0b58593": {
     "views": []
    },
    "7a45df7a2f2645059079d1a93ce118a5": {
     "views": []
    },
    "7a8ff26ba9484708b1d123a81d2b7fa1": {
     "views": []
    },
    "7ac7343cbba44a138c99fe28b757ac72": {
     "views": []
    },
    "7ae7cc630eb346848af54bf80a79d240": {
     "views": []
    },
    "7ae82e36a56946fba86fd73f5866eb4f": {
     "views": []
    },
    "7afbac5713424d51a53d264d4a212ec5": {
     "views": []
    },
    "7b1dfdf476a0411f90c7b2ce224bb363": {
     "views": []
    },
    "7b1f245b0c4d4647af45dc91b84ff25f": {
     "views": []
    },
    "7b42730527664ccdba717f9e66618cac": {
     "views": []
    },
    "7b49e8a6623a4e52bf25c67101db47d8": {
     "views": []
    },
    "7b7ff415147b4c71b3a12518887435da": {
     "views": []
    },
    "7c245b51360b4f029ab8a536720828d4": {
     "views": []
    },
    "7c51d3b59ba149eba108c6f79f41301d": {
     "views": []
    },
    "7c5e9ba1fbd84fe38e8d765cb560b72f": {
     "views": []
    },
    "7cb5d5c68df84443b20712493860e9e8": {
     "views": []
    },
    "7cdcb68926a24e47bf49440d9be2dbde": {
     "views": []
    },
    "7d5ad5f70983493d9b61c6a67b13bc40": {
     "views": []
    },
    "7d72d55eded24eab8a634f7ce9e5804a": {
     "views": []
    },
    "7df4cf8095fb46a2a5f6e2802130a35b": {
     "views": []
    },
    "7ebd2eed504544298f1bcd48cd569cba": {
     "views": []
    },
    "7efbc3af293d4e4290f972d992a7285a": {
     "views": []
    },
    "7f43e2b7d3864f0189bb18ec4c292d1b": {
     "views": []
    },
    "7fc47df52e2a479b9e3f7fc62c330a3d": {
     "views": []
    },
    "7fccc708c5254bb9b11a2a2094a9d50f": {
     "views": []
    },
    "8050ff55d8164c9e940af35d8da9d901": {
     "views": []
    },
    "809924ddaea248719340148a2e64d84d": {
     "views": []
    },
    "80b2b653b4d44096b44ca18defdfc7a6": {
     "views": []
    },
    "80b7873872174df09d0a0cd761d074dc": {
     "views": []
    },
    "80caf8105aa94b528ac72d89303046e3": {
     "views": []
    },
    "819b1451c03e4bf49a4fd946bc54d8c9": {
     "views": []
    },
    "81f2691e9b674853809058903949a2f8": {
     "views": []
    },
    "827040e755584d2b9f6f153eb5e5cc49": {
     "views": []
    },
    "83531804228f44ec9714d1d375c23cfb": {
     "views": []
    },
    "83874efc6d184d3f86f580b6e333df83": {
     "views": []
    },
    "83b94b1461974ac581e3da0c9dd8b656": {
     "views": []
    },
    "83c4eeea0dc04abab701d2103446f49f": {
     "views": []
    },
    "8497c4a361394d749ed06f8533f6a7a0": {
     "views": []
    },
    "84c6fdd318804dcbb03dd1be841b8fb5": {
     "views": []
    },
    "84fe3d1c47a4455c83599e36693bb8bc": {
     "views": []
    },
    "85b1d3f18c484aeea8adec7a4852c957": {
     "views": []
    },
    "85b9420e567a4ecd95de2e24796371f0": {
     "views": []
    },
    "85eb4c4fca294d89b4faeaf091e19425": {
     "views": []
    },
    "86e4261b9d6c4757897c3f59b5351438": {
     "views": []
    },
    "86f7ee47ce7e4b17a88cc6e46ad7a5cb": {
     "views": []
    },
    "875f8444a19342b6a822d26c8585508b": {
     "views": []
    },
    "8780318de9644d0b803603bb5da5ee16": {
     "views": []
    },
    "879bb2647b1e4588be341b81208f7984": {
     "views": []
    },
    "87b0f59becb54e48afd7df68e104f427": {
     "views": []
    },
    "87bde838b8854e328a796be96d3c11a1": {
     "views": []
    },
    "87ce523a046a471e96e593d488b585c4": {
     "views": []
    },
    "89140dff2041497cbc78ea7cb4d90fd6": {
     "views": []
    },
    "891cbe398422493199da8b1a506fe7a7": {
     "views": []
    },
    "8986a1feaadd43908c4f674acd3f363e": {
     "views": []
    },
    "898a173b3474446fba30b0c1ef7c437e": {
     "views": []
    },
    "89c1b78a142242b0a0d8f5b6786bd447": {
     "views": []
    },
    "8a1d24cf6939407a958e85378f4f692e": {
     "views": []
    },
    "8a4f8e2185e34852935a5331b3537ca3": {
     "views": []
    },
    "8adefa875bf64190ac659fdac3ad64d0": {
     "views": []
    },
    "8b75736a95e845898a620bd0ab382b89": {
     "views": []
    },
    "8b8e1de3fa1d4f6ca6df2fb18b4209eb": {
     "views": []
    },
    "8b93dcf5ffe14ea38e6f0600b2368964": {
     "views": []
    },
    "8bc595d5a3f045dd814978fab0206534": {
     "views": []
    },
    "8becfb4f4df34168801032125812c9be": {
     "views": []
    },
    "8c4729b79ee74cfe8af4e15642423645": {
     "views": []
    },
    "8ca01065b54f46eb88f0f031e904ef4b": {
     "views": []
    },
    "8cb269056923447f8750773e37ebd37a": {
     "views": []
    },
    "8d0e9f51c96a4119a0a37582033f8ff1": {
     "views": []
    },
    "8def137faf4c42fea56327246791bd03": {
     "views": []
    },
    "8e5faf6640ca43bc86a51dbe381eed6a": {
     "views": []
    },
    "8e63a2e094084be9b786085bfdbc277a": {
     "views": []
    },
    "8e791ea67ad340f683f8b5753cbe5d66": {
     "views": []
    },
    "8e7f013e94254984aadd48f5af5bae7b": {
     "views": []
    },
    "8ed43f738fa84e53b6a6dcb647623f81": {
     "views": []
    },
    "90172a4098ae4fb7aa8eafa3cbc54cd5": {
     "views": []
    },
    "9027f8292d634e3786ed5b639ef07216": {
     "views": []
    },
    "904b4a490e714f46b48cd08a4ed0c7ea": {
     "views": []
    },
    "905e77d0a2a74c1c8282ef9da323ea79": {
     "views": []
    },
    "91326ce3cbbd4585bbf0552de582c6e6": {
     "views": []
    },
    "9138dbef43ca4ccb8e3a169da243f8b9": {
     "views": []
    },
    "91600c58729b422895ebfc04da0e5961": {
     "views": []
    },
    "9171ea00ea3a4649afaf753ed13b7a3e": {
     "views": []
    },
    "918682fd487d4bb1862f24636e81b2db": {
     "views": []
    },
    "9238413aa48c4e93aa2e35f38469b20e": {
     "views": []
    },
    "92e60129f40f4b7aa447760947309602": {
     "views": []
    },
    "93567dd814fb443190abea28f9628600": {
     "views": []
    },
    "938d74b92a5640969db2f80090781840": {
     "views": []
    },
    "93a8008bd4cb4289bffcc78eceaadc84": {
     "views": []
    },
    "93c2b504ebb54b1b89be81f809ae3506": {
     "views": []
    },
    "93c706bdc24c48a78253dfe42112defa": {
     "views": []
    },
    "942b04236a4f45769524f0e7782d577c": {
     "views": []
    },
    "9443fe4592f54c46bc36798cc1a5af94": {
     "views": []
    },
    "946d5fdc4f1943aca2aa8e976397afc6": {
     "views": []
    },
    "94ff71f7b6fc4e6595c7b692200f420c": {
     "views": []
    },
    "9578e5ce16f9498b8b0a9991e6e6e737": {
     "views": []
    },
    "9584a0287c774aa8b69b0131daffe6bd": {
     "views": []
    },
    "95944701807c44feba409a9823e06ad7": {
     "views": []
    },
    "969581353d2d49029e989d3dc089199a": {
     "views": []
    },
    "96d39d30a7b747d6a0d7992721c0092e": {
     "views": []
    },
    "96e99f4289d547a6ad18a60214ad93c5": {
     "views": []
    },
    "974d37fd8fdf4661858a2d973e92543a": {
     "views": []
    },
    "975c533419944cb7b0b09d2e7ca855c1": {
     "views": []
    },
    "977e1ac62cb94789a1559028922f7544": {
     "views": []
    },
    "98559f853b9246bcb502207013e62e67": {
     "views": []
    },
    "98aa5f61371b452ca2aece21f371908f": {
     "views": []
    },
    "98babeb2425b4b7c9ed7e25326654d37": {
     "views": []
    },
    "98d8860a0a194e798463cbb434baf30f": {
     "views": []
    },
    "99419bc63dca4ec3add1237b55053495": {
     "views": []
    },
    "9975621c899f4738bd423442d665b00e": {
     "views": []
    },
    "99b059bbfac144b0a86250bf5d05ab72": {
     "views": []
    },
    "9a16e9b04bd64cd4b36466d3f357ac26": {
     "views": []
    },
    "9a3307c2706c4223b861ed49b987fe00": {
     "views": []
    },
    "9a4448384d64438a804af19bc6faf282": {
     "views": []
    },
    "9a4937ddb777439c9da94d87332a6a6b": {
     "views": []
    },
    "9a8038aef22647cca9c3d1089147dfc4": {
     "views": []
    },
    "9ad57a26054640cf9e8f0c37cbfdc2f3": {
     "views": []
    },
    "9b56fbeb7e164a66b017fa9cf9f4a95c": {
     "views": []
    },
    "9b5e1e2160264c319a063d862ddc8f8b": {
     "views": []
    },
    "9b6a8a3e0df2459c858ae425735fbbbd": {
     "views": []
    },
    "9b8f76801bdd4b3a921e1d383e3c4894": {
     "views": []
    },
    "9c07e9e739bb4543bb7d74d7d795c512": {
     "views": []
    },
    "9c9325c78f924eaf9863d5d80cdc1035": {
     "views": []
    },
    "9ca2fcf55a5a4f7e8a69bbd6526cf2a3": {
     "views": []
    },
    "9cc4cf3dc268425596572de520997b15": {
     "views": []
    },
    "9ccfcd91aeee422daf894123d035e0e3": {
     "views": []
    },
    "9cd25dad63fd4bcdbfd557a7e429045f": {
     "views": []
    },
    "9d73d5a807e643e79f0cba3eb86c17ec": {
     "views": []
    },
    "9dc03f16655f4321808198ce8a22c0b1": {
     "views": []
    },
    "9e479bc47e6f442783a9534e5c5c4112": {
     "views": []
    },
    "9e4d57e2a39b4ee7b84ed5bf99edef76": {
     "views": []
    },
    "9e73beee60d24dda910b70e9c62d005c": {
     "views": []
    },
    "9ed5326fe6a64796bf0788cf5e9f8c11": {
     "views": []
    },
    "9ee678fd1e544913befc60d32dcea62a": {
     "views": []
    },
    "9f1fd7ce4b90444897bd24150c15cd52": {
     "views": []
    },
    "9f3c5025bd4c47398c77e27172f03698": {
     "views": []
    },
    "9f8b9a0408b44b458209c7399a9d6e84": {
     "views": []
    },
    "9f9f8e45870941939cf7f1b1a8ab18c3": {
     "views": []
    },
    "a029555a8a7740e8896e1021fb40f154": {
     "views": []
    },
    "a0d458b9aa4c4423bd319181225bc2a4": {
     "views": []
    },
    "a0f2ccb0ee574819a1d74c336908df47": {
     "views": []
    },
    "a149e7eb6aa54fa6a9bf91158d50efa4": {
     "views": []
    },
    "a1a87e635f5b4f24b5bbaae06619dc8d": {
     "views": []
    },
    "a294e93344254ab7895fe574f7746162": {
     "views": []
    },
    "a2b4a2817f8f4048a7c4e018a8a16cf8": {
     "views": []
    },
    "a2de84c1d43744bc9462d12ab4436e87": {
     "views": []
    },
    "a2eafebd5e3a48728ba985c33a945dfe": {
     "views": []
    },
    "a2fd12a03e1741e498425709e8f9eaf4": {
     "views": []
    },
    "a3a8a37c287f4ff5b8eed5439717be86": {
     "views": []
    },
    "a3d6a666f41a4b6c8018ef295d870077": {
     "views": []
    },
    "a47b3c98dc464bef83179c7a930f76da": {
     "views": []
    },
    "a4962a3b37ed4986b4aa9b215cc4da43": {
     "views": []
    },
    "a496f41f83c041a9a67016213a5686cd": {
     "views": []
    },
    "a4ace8003a2640ad89c7daa0ae509862": {
     "views": []
    },
    "a4b6e339baa644fa88b0d511a7f3fffa": {
     "views": []
    },
    "a4e697774c174113bc39d26914a364bd": {
     "views": []
    },
    "a50036fed7f24fc2a4105fae822c3364": {
     "views": []
    },
    "a55518132bf04c2da16e16e6456c57b2": {
     "views": []
    },
    "a5671176e40f4834b7a3f825b5410b18": {
     "views": []
    },
    "a5887a3728034a01bd78ee5be3d1e883": {
     "views": []
    },
    "a595724750d34c45930378de2356de27": {
     "views": []
    },
    "a5ece2b3b5134b389b7c16c9a7e5e795": {
     "views": []
    },
    "a5f527d46606461ca4d0c14ca1ef7d49": {
     "views": []
    },
    "a62e17143d9e418daa881af39a8a74e4": {
     "views": []
    },
    "a65d270844584914880ca550e14674a9": {
     "views": []
    },
    "a69b1a1d91984500b6c4f859c9198170": {
     "views": []
    },
    "a6a488e926f841f088ab67613fabf1cd": {
     "views": []
    },
    "a6d788214a1641aa8d54499ac6698b9b": {
     "views": []
    },
    "a6f2a0f5511c458187c5c14196586324": {
     "views": []
    },
    "a7649f07cdae476ba683af6600c5d507": {
     "views": []
    },
    "a853e1a7895b4601a2356101e841b295": {
     "views": []
    },
    "a857f94e6871459f97c9d190a86cbd05": {
     "views": []
    },
    "a88d6dffa7e94101b088426783bf55d1": {
     "views": []
    },
    "a964aedeb3b540418829dd0089c416e4": {
     "views": []
    },
    "a990667085544cc3b723c70c0ab69c62": {
     "views": []
    },
    "aa16b36ce0434d81b62a9c4ec48622e5": {
     "views": []
    },
    "aa17139b911d4becab1fbfe9ceb9d396": {
     "views": []
    },
    "aa7c6c959fda495d95174a46d58c4d5c": {
     "views": []
    },
    "aafdb8219eee4a559d4b2955544dac5f": {
     "views": []
    },
    "ab22aafde4324573ac7a37399c19932d": {
     "views": []
    },
    "ab793ea6edd2412d955f1feec6c41037": {
     "views": []
    },
    "ac7fb9d466b54c96aa801e2bdfd929f6": {
     "views": []
    },
    "ad4b2feb6cbc46389666e4e35c2de613": {
     "views": []
    },
    "ad63ad88dc344c5aa0cc465184b10673": {
     "views": []
    },
    "adc703c73c17428ab3b76c559419fff4": {
     "views": []
    },
    "ae7b9234d18c46b1bd2dd237ddebc457": {
     "views": []
    },
    "ae9436828b0347a99d41c19b75079a0b": {
     "views": []
    },
    "aecbde2600cb4b91b209db5919fb5fe6": {
     "views": []
    },
    "af59586434f34ed1a84c26020604d775": {
     "views": []
    },
    "b01a7966dc1a40558eeea693d01fcf17": {
     "views": []
    },
    "b0603c43e7d44d209019eeb60dc95d26": {
     "views": []
    },
    "b11ad616640646a7b424061288ea4730": {
     "views": []
    },
    "b147868dc0354f1990d40dd00a665b22": {
     "views": []
    },
    "b1a46f2bf7ce414b9d7f2608947a65ae": {
     "views": []
    },
    "b2522ad7dd4c473f8f1435bd252989c6": {
     "views": []
    },
    "b2b0b64f27574fb3ada92ebf6ac1d406": {
     "views": []
    },
    "b2b21af647c845838eae37269eff96c4": {
     "views": []
    },
    "b2bc03db87a4455f8b583d7421893f9f": {
     "views": []
    },
    "b2bf6acf78464455867cdac61a0a009f": {
     "views": []
    },
    "b2cb76f3437e417789dd97c238d0dbe9": {
     "views": []
    },
    "b309bac813c14e17867105fe2475eca8": {
     "views": []
    },
    "b312d547b04d4bc6a26f2965006f3e68": {
     "views": []
    },
    "b335bf202b9d4ec587df4f1d2406967d": {
     "views": []
    },
    "b35d8a2bd56d4da9bec8e216c72635f9": {
     "views": []
    },
    "b3f7e9afe6254b38901c090e041247a8": {
     "views": []
    },
    "b4d6ee20d9714b169e0f7f1a7cf99f15": {
     "views": []
    },
    "b51bd8b70ce94a338e79f465a1e676fe": {
     "views": []
    },
    "b533a3186191435287438888890b26ee": {
     "views": []
    },
    "b55f500d358c4e02b31d79ea754cac95": {
     "views": []
    },
    "b5b6e24b7f0b404fad100dd0200c1bb4": {
     "views": []
    },
    "b6352f8105e74236801264e1b0df97c3": {
     "views": []
    },
    "b648806974324c1889923920bd8260e8": {
     "views": []
    },
    "b670e56caca441519fe33f2212319c62": {
     "views": []
    },
    "b6d1842ce8864267a547cfbc8b961730": {
     "views": []
    },
    "b6dfd1a538a149a2ac9c42ccd08e7fc5": {
     "views": []
    },
    "b7a9131944dd49959ee5fc275d8bc079": {
     "views": []
    },
    "b7e7ade69fa74ae2bb71f514f4763d1c": {
     "views": []
    },
    "b808a85bcf4b4a36b6e81cc9b526887c": {
     "views": []
    },
    "b9667883c2bc4287bd7ed46b10833ec9": {
     "views": []
    },
    "b9a2567ff7a04b19ab77fc0ce7762eb3": {
     "views": []
    },
    "b9bffda04b5b4f6db1b5e5afa1afbc6d": {
     "views": []
    },
    "ba02b78927874071b4e1ff89d1aa5f5e": {
     "views": []
    },
    "ba288409039f4e2ab605e11451318826": {
     "views": []
    },
    "ba2c485fb785487083451606b93f3d82": {
     "views": []
    },
    "ba548263afd845298a1a5a04ea3043a9": {
     "views": []
    },
    "ba6621f1e6db48a58ebdcadc307c8502": {
     "views": []
    },
    "baa184c1319d434985951030278d8ee0": {
     "views": []
    },
    "bb0d3f4d23d243728a2cce7672d42758": {
     "views": []
    },
    "bc1add6724fb4e00a57dd1ab5bf3de56": {
     "views": []
    },
    "bc1f2fd7f64249e38ca5c7e8793d0a09": {
     "views": []
    },
    "bc2111667bcd4a77b99031f0b6ceaf2e": {
     "views": []
    },
    "bca4add470c6449b939f55b776f30b6b": {
     "views": []
    },
    "bcbcbc954d8c47ef9895a9ef411f11fe": {
     "views": []
    },
    "bcd2457b0ff94f41b04748e5cce187d6": {
     "views": []
    },
    "bcdba7c317bc413095ed0bb4c68708e8": {
     "views": []
    },
    "bcfb15f9b4ab406e86d59ae677c4f15d": {
     "views": []
    },
    "bd028f12b7f14416b0edff4b299dffd4": {
     "views": []
    },
    "bd1de908f6974e9a95a99c2b3d84fd68": {
     "views": []
    },
    "bd305f75bc8546babecb9fa487ff645c": {
     "views": []
    },
    "bd3301f8aa964161b5ac2e6e245e3f39": {
     "views": []
    },
    "bd67dfcca9fc48d6b03abf0567abc19d": {
     "views": []
    },
    "bd76813818ec43bbb3b0efe3b74e3020": {
     "views": []
    },
    "bd9254158cb44a32b5858be3885d5548": {
     "views": []
    },
    "bdbb4d66f9f3462cbf3cee90a73ade67": {
     "views": []
    },
    "be420eaa27f84fb490c1889724fa76af": {
     "views": []
    },
    "be67edd983714ad99a18aa51a50a857e": {
     "views": []
    },
    "bf3c208afa234b18abffea865627874e": {
     "views": []
    },
    "bff4b50634784ca698afc29d2ce6f6e1": {
     "views": []
    },
    "c035d928dccd4a6a8e2fa60490cd036b": {
     "views": []
    },
    "c09acd70380546929a84f133b94fff88": {
     "views": []
    },
    "c0e3be3bf2d245ea90052b80e9dae246": {
     "views": []
    },
    "c0f4f41ec8fa4dcdb862347feaa22420": {
     "views": []
    },
    "c1173bdedd7442e9ad7885b249eea9fd": {
     "views": []
    },
    "c1291cee21b74a1ba39e11032c35e267": {
     "views": []
    },
    "c135e90bd58244d7af60a2a423ef62f1": {
     "views": []
    },
    "c1531309de4642a2893e330b65c0178c": {
     "views": []
    },
    "c19f3e2d8de84ce884d1707b7ebb48c5": {
     "views": []
    },
    "c1bbf515459841f19506f78be3233e12": {
     "views": []
    },
    "c2127e02590e445f82c9c01242c7b5ca": {
     "views": []
    },
    "c21e13f4c01d4ec0afd36bf189cf1cbb": {
     "views": []
    },
    "c269c533dd57400584a407a2fa15e965": {
     "views": []
    },
    "c26e44868aa24753ad897fce71884b45": {
     "views": []
    },
    "c2867fdb03514c24a62a9741597e6426": {
     "views": []
    },
    "c316c468f28048a19cfcdcb733336f96": {
     "views": []
    },
    "c31c81eff22f4b2bbb70e80d2d08f408": {
     "views": []
    },
    "c354fe9c57024adeacc9ec433cc88f34": {
     "views": []
    },
    "c3d29f810ac446638f41146305800984": {
     "views": []
    },
    "c3fccdb8e9de41a3867f5b854b16742d": {
     "views": []
    },
    "c4390c60b47149eebf3b2484b690edc5": {
     "views": []
    },
    "c448471cedbf4c5799f18968a51bd21a": {
     "views": []
    },
    "c461c50137134f26a6b1e9767db5ce7b": {
     "views": []
    },
    "c4c469afbf2d469ea058b0a644d5b560": {
     "views": []
    },
    "c508e39d7d394b9eae920c04d8483d24": {
     "views": []
    },
    "c55fad0827ab49ae927e18dfd464f880": {
     "views": []
    },
    "c597ebdfda854fb09663f6587fae4e78": {
     "views": []
    },
    "c5c05e7d486942c28e964d5cce2f5c57": {
     "views": []
    },
    "c5f25c40833f447a9ece2779841be79e": {
     "views": []
    },
    "c62bf36fa8154de5a8f0d5a11599304f": {
     "views": []
    },
    "c62c0e1dbb8a4239a6c245d8d135fdfa": {
     "views": []
    },
    "c6a0aed0484346a3a5e886762ab730c0": {
     "views": []
    },
    "c71ef04e9f0847588990e440447eda38": {
     "views": []
    },
    "c7215c2ad0254654bad92bf160a055fa": {
     "views": []
    },
    "c765bff37ea34ab2876185af2141bae7": {
     "views": []
    },
    "c76e534f440044e2bcc3fa4bfbebdace": {
     "views": []
    },
    "c7ef405fc30a4276ad7522c493dce28f": {
     "views": []
    },
    "c7f353708be54f88b86932eb2cd03ff3": {
     "views": []
    },
    "c81f50b57b07490ea11c2c63a27fb1cc": {
     "views": []
    },
    "c881effd4a234928a21e9efa0ccd6e1f": {
     "views": []
    },
    "c88dc00d11134bb7a4470b9acdbf3085": {
     "views": []
    },
    "c8f8cebf19bd4a9cae54adcb20aeee60": {
     "views": []
    },
    "c9096408cb8f4a909bcd71f43783da21": {
     "views": []
    },
    "c911c1b9883a46ae98463385e5ffac47": {
     "views": []
    },
    "c9569f62af19464ab2d72c23b83b4766": {
     "views": []
    },
    "c99c9af2d9584bdbbf2e9b052d51d4e8": {
     "views": []
    },
    "c9bb35f343f64e28929d039cd90a12b8": {
     "views": []
    },
    "c9ccf0c12c9f42a8a7c7eceac68bd897": {
     "views": []
    },
    "ca1552f02e224fdb840a8d90dc4fbea0": {
     "views": []
    },
    "ca1a650ffba944e3b260d47b92fd70f8": {
     "views": []
    },
    "ca5c433b58bc441686787102c5bf17a1": {
     "views": []
    },
    "ca63dec5da854d9da2add1ce0767aa86": {
     "views": []
    },
    "cb8c567ec01c448b8aa4033a43f257df": {
     "views": []
    },
    "cb8e200cb550447cbbdc785646c134f7": {
     "views": []
    },
    "cbd36920526f412abc9a5f03f856c1e8": {
     "views": []
    },
    "cc14641cfe7c464c89081ebc5d99dba7": {
     "views": []
    },
    "cc687a03ae954bbfae8c9137781b5808": {
     "views": []
    },
    "cca8d3357aad40a3946fd07c3494fdcf": {
     "views": []
    },
    "cce4d9eca28749deab48a79e30c1e92b": {
     "views": []
    },
    "ccfccde0cf55401082bff98f96e193fe": {
     "views": []
    },
    "cd485beee51741608b77b238f8dfa4d5": {
     "views": []
    },
    "cd71e97e2562405ba00b714d0b96c0de": {
     "views": []
    },
    "cdb4948be181425fb758f55c5e0230fd": {
     "views": []
    },
    "cdebbcd450844d7aa67d4406c0743b47": {
     "views": []
    },
    "cdf905f6a2b140f59151dd0684dfb162": {
     "views": []
    },
    "cecfa4b99fd44647b139753e173a24ac": {
     "views": []
    },
    "cef1461f51ce4a89addc3de8ba209c09": {
     "views": [
      {
       "cell_index": 17
      }
     ]
    },
    "cf452d3ba2db431b924f7cd54b041863": {
     "views": []
    },
    "cfc4d4ab5c4541ef863a9d3b65c4bc6a": {
     "views": []
    },
    "d05b8ff7377844688d7806534ed6a09b": {
     "views": []
    },
    "d06e2a8068a146929a54a373ed44d3ea": {
     "views": []
    },
    "d1291abeccc44b71b719a3d57b555ceb": {
     "views": []
    },
    "d1419b05cf2e49299f961034f155415e": {
     "views": []
    },
    "d150519964294d2b979ce2abfb0254a1": {
     "views": []
    },
    "d220ed67b35f4fbb865df47218d448a3": {
     "views": []
    },
    "d2244f25d1e84fda8fc7338e9a4b4e7e": {
     "views": []
    },
    "d26c94d6248f4b4fbe3ed93f92bf30eb": {
     "views": []
    },
    "d293b01e7bfc4694b433c33eb51deba6": {
     "views": []
    },
    "d2b797f072bb4f3389ae1767bb3a0c87": {
     "views": []
    },
    "d2cbb4468f3548a099536c17fc0d1d2b": {
     "views": []
    },
    "d35743a3bf73493dafefd3803e57013b": {
     "views": []
    },
    "d3f543a50daa46acaf78e250c1bea14f": {
     "views": []
    },
    "d47782760555466680afb1efe04e60ec": {
     "views": []
    },
    "d479259a28804f7aa9d9ee972f163c1d": {
     "views": []
    },
    "d4c5d99da80b4b63a2da3321e42c6278": {
     "views": []
    },
    "d4caed75ec4d48bd96b82879689aea88": {
     "views": []
    },
    "d4f7a63fceec4113b732f78002378cea": {
     "views": []
    },
    "d538cc272aa04e2aa323638c1a3d30f6": {
     "views": []
    },
    "d552f781932e4aa2b8fa944850f018f6": {
     "views": []
    },
    "d5c779546c1b455cb588a02e60a2aa0b": {
     "views": []
    },
    "d620b1e58cdf4d78b20a79ef4efe8032": {
     "views": []
    },
    "d6adb2ad861045acb309bbc790a3325d": {
     "views": []
    },
    "d7ad0b29de0443f3b568bc7c99926311": {
     "views": []
    },
    "d7cbfcccc5704a0aad856428c67609cf": {
     "views": []
    },
    "d81766024acc4f48ad0323d04088e206": {
     "views": []
    },
    "d82132e322474d849e24ac9f0763360d": {
     "views": []
    },
    "d8630b6d065a4b8ebc89bd5fdebbaa6e": {
     "views": []
    },
    "d87932df542748c2abe4fe66a6b49213": {
     "views": []
    },
    "d89ad27f314244e29bc8ead43f854f33": {
     "views": []
    },
    "d8dc2858229b4788852aca68b6787f65": {
     "views": []
    },
    "d912bf8d933247fabe8ea4753d747e1e": {
     "views": []
    },
    "d94558755cd544e0b8fc22747112393f": {
     "views": []
    },
    "d94c5f912ea9438e8278c200b0425f69": {
     "views": []
    },
    "d97e8e02fcbb4ef5872a70547b3410fe": {
     "views": []
    },
    "da07551516fa4166844d1f5cac94414d": {
     "views": []
    },
    "da58d9be3bda4059b72c0c38a5b03f48": {
     "views": []
    },
    "da66a06d49d842a29a562277a628c361": {
     "views": []
    },
    "da6b27eb01ed4d2494a06542ae6e4ead": {
     "views": []
    },
    "dab486b0fd2642f5981be6abce3cba94": {
     "views": []
    },
    "daffad8a7ae046e7a22dc2e07f5f334c": {
     "views": []
    },
    "db7acc0c52f942babb1ab2189a8a9523": {
     "views": []
    },
    "dbc6fb4aab85479cbeb0c3bfbb344089": {
     "views": []
    },
    "dbdb4901fb244f11ba964f53a0d367c3": {
     "views": []
    },
    "dc22aaf680604b1695a5fffa95280333": {
     "views": []
    },
    "dc780adba74d4776b3d9e57466551c86": {
     "views": []
    },
    "dcbb1d4e5e9040b5b96c4a5084a438cf": {
     "views": []
    },
    "dcbea7d3a62b44829080a4569130f761": {
     "views": []
    },
    "dce04b1ffd07447584f1fc203011399a": {
     "views": []
    },
    "dd3186589437489ca732bfd053f0050b": {
     "views": []
    },
    "ddd6adb743d7403589f23c60142a123a": {
     "views": []
    },
    "de40e4a28caa43a0aa452960708e69bc": {
     "views": []
    },
    "de5c19bafacb47a29e902dd66a64ca57": {
     "views": []
    },
    "de994509b5324f559e1c61938d2aedb4": {
     "views": []
    },
    "df08ea2aae964691a3ec0a5ba4868048": {
     "views": []
    },
    "df2c7479257f4ee69f2e10b891f0b09c": {
     "views": []
    },
    "df46c3d766ad4fed8db530cbbf1da269": {
     "views": []
    },
    "dfe1bc4da4314c329272d0042788f1d6": {
     "views": []
    },
    "e0084d6092c846d292bbe15036e0bdaa": {
     "views": []
    },
    "e0a61b0738c344da9080ccc7ef1e1891": {
     "views": []
    },
    "e0edcead90a14f9baea7b355568ad803": {
     "views": []
    },
    "e1a19b53cf894909b9fb654b68a3dbd2": {
     "views": []
    },
    "e1c15dd84867440fbc6c56ea7659202e": {
     "views": []
    },
    "e1c94992c4994df6ac57c9b261bfdbcd": {
     "views": []
    },
    "e1fe55bba09b461989c09d458eefd8a7": {
     "views": []
    },
    "e20ae038acf7425abf4b0ad86b3c3a99": {
     "views": []
    },
    "e2a35eecc7f149b4958757739d57ab88": {
     "views": []
    },
    "e2a5a7cb92a448d28098a0f408e61356": {
     "views": []
    },
    "e2b17168ae934e5580a54635fb7f0f15": {
     "views": []
    },
    "e38be6506ee040b4ac1e4c888569b12f": {
     "views": []
    },
    "e3b9376711f74b2da5bd23f583f213e2": {
     "views": []
    },
    "e3e0377d5b164ae5b1c4bbd6cd7d5e58": {
     "views": []
    },
    "e43a49d6adc24e1cbe9436bf83952a3a": {
     "views": []
    },
    "e4418e1d941e4981a52299d7ec446732": {
     "views": []
    },
    "e46b6571da114624855905c5c18ce87f": {
     "views": []
    },
    "e4872fae4d4041d19359a327de7b2ef1": {
     "views": []
    },
    "e50097fe61ab4e76b21f7b8051bab751": {
     "views": []
    },
    "e50eaefa2f1a4557bd74d6d79b785d4e": {
     "views": []
    },
    "e5bb5f3b53914efcae2df20dbeea1c2b": {
     "views": []
    },
    "e5e80bebc4dd4eff87aa79dcebe28fd3": {
     "views": []
    },
    "e6243f1ee1a54bd5b658602ae98f3c9b": {
     "views": []
    },
    "e6564cc063034c5ea12754ec5699bc7b": {
     "views": []
    },
    "e657b835c29c484e8705648f8c805bc3": {
     "views": []
    },
    "e68a60b82f4643a2b01705f78b9d0841": {
     "views": []
    },
    "e68b663cb34f4440a9e9ee55df892b08": {
     "views": []
    },
    "e6a3923ec06f46e1b3bc85ec3e9250f1": {
     "views": []
    },
    "e6eb50683f66461db260b88a508134b3": {
     "views": []
    },
    "e72b74c3d959460b8fbde51e1c083773": {
     "views": []
    },
    "e7452bd389a8419896331a3c4f3ddf10": {
     "views": []
    },
    "e7a1226015164ac6a0785fcac3ba3e48": {
     "views": []
    },
    "e7b4bc31662a434bba41842a6740c288": {
     "views": []
    },
    "e7d5f5e0eb794e758d3ecc50f0c65ce4": {
     "views": []
    },
    "e7f4eb073bfc43a38058ce42936ada8f": {
     "views": []
    },
    "e854b87e2814486681352ee0bae1a949": {
     "views": []
    },
    "e859766c85ce4d0796e488d438128dd0": {
     "views": []
    },
    "e85a5fdfcaba47189863652d4236461c": {
     "views": []
    },
    "e863d91ac5344a04849163dbaabda8cf": {
     "views": []
    },
    "e87737ea803a4249a314a89d2ae71ec5": {
     "views": []
    },
    "e892b18d88af4d73a1ea49ae2f35d5bc": {
     "views": []
    },
    "e8b7513bf0034869b6f2efc1d14b19bc": {
     "views": []
    },
    "e8d75a3ae2be4718b9564ab5898768e4": {
     "views": []
    },
    "e8eec281c3a64ef38f9b1d04438419ac": {
     "views": []
    },
    "e8efcdbf1fd2464499d86bf42033d0db": {
     "views": []
    },
    "e92bac4c9bc34e33b399f5f30891e660": {
     "views": []
    },
    "e95df7b1eb9948cc8ca48aa06c778bea": {
     "views": []
    },
    "ea3c6f836345461f9312c2cd398e9e42": {
     "views": []
    },
    "ea68a7259abb422b9825e87f375f2f3b": {
     "views": []
    },
    "ea780ae799a945cdaf8c8479906ce046": {
     "views": []
    },
    "eb56dd6806ab4baf8802ff4d7ff5a2eb": {
     "views": []
    },
    "eb8fdbac1e3c44128896b84f5d29c963": {
     "views": []
    },
    "eb97aa5df23f438987a45ed5b3a4e121": {
     "views": []
    },
    "ec06e2fcdba7412ab449fb50d116e408": {
     "views": []
    },
    "ecac5f337cd64352b2bd4c4705a3a03d": {
     "views": []
    },
    "ecd9c3ba34fc4bad93b5d481624be948": {
     "views": []
    },
    "edba6979d8a04bbdae26506a00c93a31": {
     "views": []
    },
    "ee931b0b5d2a4c139a553550b484709d": {
     "views": []
    },
    "eed08df47ae64777bf9e4744a784a2b3": {
     "views": []
    },
    "ef50e79cf78348658e8e8f86c877af21": {
     "views": []
    },
    "efd4c2af005d459f8a4e4a1d81f9ffe2": {
     "views": []
    },
    "efd8e2c6a20945dfa1442a5a22947f06": {
     "views": []
    },
    "efda7ac89f554c5db19cfbc78b9ba9e8": {
     "views": []
    },
    "efe7d4be9da3454fa59719edb56ce458": {
     "views": []
    },
    "effa9d2d246d4db7a9e7c4b08a76f94c": {
     "views": []
    },
    "f01fc72768c44718ae18e9e04f57da2c": {
     "views": []
    },
    "f077e90956c443d69ae29c26ae532138": {
     "views": []
    },
    "f0c3a8c6cf76436a9be1bcccfbf4e3cf": {
     "views": []
    },
    "f1329aca588042dd8526588cf4eb339c": {
     "views": []
    },
    "f151a3493d494a62a2894bae8ff99479": {
     "views": []
    },
    "f17b091dd37a482b953441a2e2518a4e": {
     "views": []
    },
    "f1a2a4d1cd95403fa0f3e11ce04cf9be": {
     "views": []
    },
    "f2499063077a40ac8a256c50a1c48f42": {
     "views": []
    },
    "f24de3df56924a03aea35f632a652a28": {
     "views": []
    },
    "f310af5b42f44ffeb0170dc0c6b0f8aa": {
     "views": []
    },
    "f38a2cb51c7c42aeafe77fadc4e686ea": {
     "views": []
    },
    "f3b59f5bb7164d39acd9b09c72c9a9ca": {
     "views": []
    },
    "f3d94a50a2ff4bafa4ea4b5acff134ca": {
     "views": []
    },
    "f3dfd0f775cb421e903533ac48e040bc": {
     "views": []
    },
    "f4c83a405bd54ca79ad477172f183659": {
     "views": []
    },
    "f59d6d8e9ebd416bbccbe545a1d64ea3": {
     "views": []
    },
    "f5b70b6c01de4c5897ed50d1f05ffc7f": {
     "views": []
    },
    "f5d1950e14be430484a012cc0d024112": {
     "views": []
    },
    "f63fbc5f68f94801962871a6ff3fe5be": {
     "views": []
    },
    "f6803ef569224428aca8ed55fb416380": {
     "views": []
    },
    "f6f4aa31a9bf430684ce357e1aa4c899": {
     "views": []
    },
    "f72be1fe34ed4590b73685429273907f": {
     "views": []
    },
    "f73e41c1e6ba4bd48a7420f3b0c6f71c": {
     "views": []
    },
    "f798193bc1da47c7b04d2a600fa0025b": {
     "views": []
    },
    "f7ab0c07d2a4451e8b5c09cd53bf00b1": {
     "views": []
    },
    "f8e313c176db44d5b9d97ddbbd261051": {
     "views": []
    },
    "f91946402f1443649c6eca2726ce8482": {
     "views": []
    },
    "f93a67185c5745b0b21e83c36ddac087": {
     "views": []
    },
    "f98ab3dd30bc4a56b3167c55a8e4d5eb": {
     "views": []
    },
    "f9ad5879cc0d4fff91e04c03ddfc4b82": {
     "views": []
    },
    "f9b8055fa30c4b5f8584be26c8637d1b": {
     "views": []
    },
    "f9dac27440674105967a0fc0eac3198c": {
     "views": []
    },
    "fa25c2be8ccf491987aad9c7a689436d": {
     "views": []
    },
    "fa7eeedf92de433d944866de81d9203d": {
     "views": []
    },
    "fa85c613a3d345ef8990eb1ce41457bf": {
     "views": []
    },
    "fb599a7cc626409db3880661af36792b": {
     "views": []
    },
    "fb5aaaeea410411fb8724bbf9fcaa492": {
     "views": []
    },
    "fc1425dffe524304ba0d08cd01321eee": {
     "views": []
    },
    "fc58063bb11d4aa292c0a37aff5134fe": {
     "views": []
    },
    "fc962e97c6c248628a29fbe3f8bfab03": {
     "views": []
    },
    "fcb5b99ccb124cc989df730088873065": {
     "views": []
    },
    "fcc9c40ef79243eea3fe9d530a6cf123": {
     "views": []
    },
    "fd097f7170194c85bd2601fcf24aaa07": {
     "views": []
    },
    "fd57a49371eb44dda456307fa6dc08e9": {
     "views": []
    },
    "fdd137c8dd774362955b23e65e412966": {
     "views": []
    },
    "fe15a31ee2544bfa99fdf3c3faa9a7ee": {
     "views": []
    },
    "fe178cd327bc46f0bf473caa88130ee7": {
     "views": []
    },
    "fe46ae8bf5f24df9b9fd85878f628a7f": {
     "views": []
    },
    "fe922a0b5d2e479389839efc5851d1e6": {
     "views": []
    },
    "feb3e9fd1c504004836d849fed46bce7": {
     "views": []
    },
    "fec29204dcba409d856eb16fdda65d24": {
     "views": []
    },
    "fedb4645b5d348d887586196d010fad0": {
     "views": []
    },
    "ff1c2560f59f480baba2aca90c11216d": {
     "views": []
    },
    "ff73fde360ee47f89278516c7b65fc7b": {
     "views": []
    },
    "ff9d42f52c6d470c99bdeaecdd97943e": {
     "views": []
    },
    "fff5a0dec2ea4018925fd3914d75730d": {
     "views": []
    },
    "fffce8edc52a4198aac01ef55082d5c7": {
     "views": []
    }
   },
   "version": "1.1.2"
  }
 },
 "nbformat": 4,
 "nbformat_minor": 0
}
