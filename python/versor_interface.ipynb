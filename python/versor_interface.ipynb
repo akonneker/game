{
 "cells": [
  {
   "cell_type": "code",
   "execution_count": 1,
   "metadata": {
    "collapsed": false
   },
   "outputs": [
    {
     "name": "stdout",
     "output_type": "stream",
     "text": [
      "Populating the interactive namespace from numpy and matplotlib\n"
     ]
    }
   ],
   "source": [
    "%pylab inline\n",
    "import sys\n",
    "sys.path.append('../build/Debug/')\n",
    "# from libversor import Rotor as RotorBase,Vector as VectorBase, Bivector, Point as PointBase, Motor, Versor, DualLine\n",
    "np.set_printoptions(precision=6, suppress=True)"
   ]
  },
  {
   "cell_type": "code",
   "execution_count": 14,
   "metadata": {
    "collapsed": false
   },
   "outputs": [
    {
     "data": {
      "text/plain": [
       "array([ 1.,  2.,  3.,  1.,  7.])"
      ]
     },
     "execution_count": 14,
     "metadata": {},
     "output_type": "execute_result"
    }
   ],
   "source": [
    "from libversor import Vec as Vector, Rot as Rotor\n",
    "v = Vector(1,2,3)\n",
    "rarr = [cos(pi/4), -sin(pi/4), 0.0, 0.0]\n",
    "r = Rotor(*rarr)\n",
    "v.spin(r)[1]\n",
    "v <= v\n",
    "def array(multivector):\n",
    "    return np.array([multivector[i] for i in range(multivector.num)])\n",
    "array(v.null())"
   ]
  },
  {
   "cell_type": "code",
   "execution_count": null,
   "metadata": {
    "collapsed": false
   },
   "outputs": [],
   "source": [
    "def create_motor(direction, angle, translation):\n",
    "    d = direction\n",
    "    a = angle\n",
    "    t = translation\n",
    "    B23 =  d[0]\n",
    "    B13 = -d[1]\n",
    "    B12 =  d[2]\n",
    "    cp = cos(angle/2.0)\n",
    "    sp = sin(angle/2.0)\n",
    "    t1 = t[0] / 2.0\n",
    "    t2 = t[1] / 2.0\n",
    "    t3 = t[2] / 2.0\n",
    "    M = np.array([cp,\n",
    "                  -B12 * sp,\n",
    "                  -B13 * sp,\n",
    "                  -B23 * sp,\n",
    "                  -t1 * cp + (-B12 * t2 - B13 * t3) * sp,\n",
    "                  -t2 * cp + ( B12 * t1 - B23 * t3) * sp, \n",
    "                  -t3 * cp + (-B13 * t1 + B23 * t2) * sp, \n",
    "                  (B12 * t3 - B13 * t2 + B23 * t1) * sp]).reshape(8,1)\n",
    "    return M\n"
   ]
  },
  {
   "cell_type": "code",
   "execution_count": null,
   "metadata": {
    "collapsed": false
   },
   "outputs": [],
   "source": [
    "p = np.array([1.0,1.0,1.0]).reshape(3,1)\n",
    "u = np.array([1.0, 0.0,0.0]).reshape(3,1)\n",
    "v = Versor()\n",
    "dll = v.dual_line(p, u)\n",
    "print dll\n",
    "m= create_motor([0,0,1], pi/2, [0,0,1])\n",
    "motor = Motor(*m.ravel())\n",
    "print(m)\n",
    "# p1 = Vector(1,0,0).null()\n",
    "# p2 = p1 | motor\n",
    "# for i in range(5):\n",
    "#     print(p2[i])\n",
    "# motor = Motor(m[0], m[1],m[2], m[3], m[4], m[5], m[6], m[7])"
   ]
  },
  {
   "cell_type": "code",
   "execution_count": null,
   "metadata": {
    "collapsed": false
   },
   "outputs": [],
   "source": [
    "# v.motor_transform_line(m, dll )"
   ]
  },
  {
   "cell_type": "code",
   "execution_count": null,
   "metadata": {
    "collapsed": false
   },
   "outputs": [],
   "source": [
    "dll2 = DualLine(*dll.ravel())\n",
    "print(dll2 | motor)"
   ]
  },
  {
   "cell_type": "code",
   "execution_count": null,
   "metadata": {
    "collapsed": true
   },
   "outputs": [],
   "source": [
    "class Multivector(object):\n",
    "    def __init__(self, base):\n",
    "        self._base = base\n",
    "        \n",
    "    def __xor__(self, other):\n",
    "        '''outer product'''\n",
    "        self._base.__init__(self, self._base.__xor__(self, other))\n",
    "        return self\n",
    "    \n",
    "    \n",
    "    def spin(self, versor):\n",
    "        self._base.__init__(self, self | versor)\n",
    "        return self\n",
    "        \n",
    "    def data(self):\n",
    "        return np.array([self[i] for i in range(self.num)])"
   ]
  },
  {
   "cell_type": "code",
   "execution_count": 3,
   "metadata": {
    "collapsed": false
   },
   "outputs": [
    {
     "ename": "NameError",
     "evalue": "name 'RotorBase' is not defined",
     "output_type": "error",
     "traceback": [
      "\u001b[1;31m---------------------------------------------------------------------------\u001b[0m",
      "\u001b[1;31mNameError\u001b[0m                                 Traceback (most recent call last)",
      "\u001b[1;32m<ipython-input-3-49b479b9e257>\u001b[0m in \u001b[0;36m<module>\u001b[1;34m()\u001b[0m\n\u001b[0;32m      2\u001b[0m     \u001b[1;32mreturn\u001b[0m \u001b[0mnp\u001b[0m\u001b[1;33m.\u001b[0m\u001b[0marray\u001b[0m\u001b[1;33m(\u001b[0m\u001b[1;33m[\u001b[0m\u001b[0mmultivector\u001b[0m\u001b[1;33m[\u001b[0m\u001b[0mi\u001b[0m\u001b[1;33m]\u001b[0m \u001b[1;32mfor\u001b[0m \u001b[0mi\u001b[0m \u001b[1;32min\u001b[0m \u001b[0mrange\u001b[0m\u001b[1;33m(\u001b[0m\u001b[0mmultivector\u001b[0m\u001b[1;33m.\u001b[0m\u001b[0mnum\u001b[0m\u001b[1;33m)\u001b[0m\u001b[1;33m]\u001b[0m\u001b[1;33m)\u001b[0m\u001b[1;33m\u001b[0m\u001b[0m\n\u001b[0;32m      3\u001b[0m \u001b[1;33m\u001b[0m\u001b[0m\n\u001b[1;32m----> 4\u001b[1;33m \u001b[1;32mclass\u001b[0m \u001b[0mRotor\u001b[0m\u001b[1;33m(\u001b[0m\u001b[0mRotorBase\u001b[0m\u001b[1;33m,\u001b[0m \u001b[0mMultivector\u001b[0m\u001b[1;33m)\u001b[0m\u001b[1;33m:\u001b[0m\u001b[1;33m\u001b[0m\u001b[0m\n\u001b[0m\u001b[0;32m      5\u001b[0m     \u001b[1;32mdef\u001b[0m \u001b[0m__init__\u001b[0m\u001b[1;33m(\u001b[0m\u001b[0mself\u001b[0m\u001b[1;33m,\u001b[0m \u001b[0mrotor\u001b[0m\u001b[1;33m)\u001b[0m\u001b[1;33m:\u001b[0m\u001b[1;33m\u001b[0m\u001b[0m\n\u001b[0;32m      6\u001b[0m         \u001b[0mRotorBase\u001b[0m\u001b[1;33m.\u001b[0m\u001b[0m__init__\u001b[0m\u001b[1;33m(\u001b[0m\u001b[0mself\u001b[0m\u001b[1;33m,\u001b[0m \u001b[1;33m*\u001b[0m\u001b[0mrotor\u001b[0m\u001b[1;33m)\u001b[0m\u001b[1;33m\u001b[0m\u001b[0m\n",
      "\u001b[1;31mNameError\u001b[0m: name 'RotorBase' is not defined"
     ]
    }
   ],
   "source": [
    "def array(multivector):\n",
    "    return np.array([multivector[i] for i in range(multivector.num)])\n",
    "\n",
    "class Rotor(RotorBase, Multivector):\n",
    "    def __init__(self, rotor):\n",
    "        RotorBase.__init__(self, *rotor)\n",
    "\n",
    "class Vector(Multivector, VectorBase):\n",
    "    def __init__(self, vector):\n",
    "        Multivector.__init__(self, VectorBase)\n",
    "        VectorBase.__init__(self, *vector)\n",
    "#         super(Multivector, self).__init__(VectorBase)\n",
    "    \n",
    "#     def spin(self, versor):\n",
    "#         VectorBase.__init__(self, self | versor)\n",
    "#         return self\n",
    "\n",
    "rarr = [cos(pi/4), -sin(pi/4), 0.0, 0.0]\n",
    "r = RotorBase(*rarr)\n",
    "v = VectorBase(1,0,0)\n",
    "print(array(v))"
   ]
  },
  {
   "cell_type": "code",
   "execution_count": null,
   "metadata": {
    "collapsed": false
   },
   "outputs": [],
   "source": [
    "print(v.spin(r))"
   ]
  },
  {
   "cell_type": "code",
   "execution_count": null,
   "metadata": {
    "collapsed": false
   },
   "outputs": [],
   "source": [
    "v5 = v4.spin(r)\n",
    "type(v5)"
   ]
  },
  {
   "cell_type": "code",
   "execution_count": null,
   "metadata": {
    "collapsed": false
   },
   "outputs": [],
   "source": [
    "type(v4.spin(r))"
   ]
  },
  {
   "cell_type": "code",
   "execution_count": null,
   "metadata": {
    "collapsed": false
   },
   "outputs": [],
   "source": [
    "v.motor_transform_line(m, dll)"
   ]
  },
  {
   "cell_type": "code",
   "execution_count": null,
   "metadata": {
    "collapsed": false
   },
   "outputs": [],
   "source": [
    "v.translator(np.array([1.0, 2.0, 3.0]).reshape(3,1))"
   ]
  }
 ],
 "metadata": {
  "kernelspec": {
   "display_name": "Python 2",
   "language": "python",
   "name": "python2"
  },
  "language_info": {
   "codemirror_mode": {
    "name": "ipython",
    "version": 2
   },
   "file_extension": ".py",
   "mimetype": "text/x-python",
   "name": "python",
   "nbconvert_exporter": "python",
   "pygments_lexer": "ipython2",
   "version": "2.7.6"
  }
 },
 "nbformat": 4,
 "nbformat_minor": 0
}
