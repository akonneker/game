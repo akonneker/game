{
 "cells": [
  {
   "cell_type": "code",
   "execution_count": 1,
   "metadata": {
    "collapsed": false
   },
   "outputs": [
    {
     "name": "stdout",
     "output_type": "stream",
     "text": [
      "Populating the interactive namespace from numpy and matplotlib\n"
     ]
    }
   ],
   "source": [
    "%pylab inline\n",
    "import sys\n",
    "sys.path.append('../build/Debug')\n",
    "from libversor import Versor\n",
    "np.set_printoptions(precision=6, suppress=True)"
   ]
  },
  {
   "cell_type": "code",
   "execution_count": 2,
   "metadata": {
    "collapsed": false
   },
   "outputs": [],
   "source": [
    "def create_motor(direction, angle, translation):\n",
    "    d = direction\n",
    "    a = angle\n",
    "    t = translation\n",
    "    B23 =  d[0]\n",
    "    B13 = -d[1]\n",
    "    B12 =  d[2]\n",
    "    cp = cos(angle/2.0)\n",
    "    sp = sin(angle/2.0)\n",
    "    t1 = t[0] / 2.0\n",
    "    t2 = t[1] / 2.0\n",
    "    t3 = t[2] / 2.0\n",
    "    M = np.array([cp,\n",
    "                  -B12 * sp,\n",
    "                  -B13 * sp,\n",
    "                  -B23 * sp,\n",
    "                  -t1 * cp + (-B12 * t2 - B13 * t3) * sp,\n",
    "                  -t2 * cp + ( B12 * t1 - B23 * t3) * sp, \n",
    "                  -t3 * cp + (-B13 * t1 + B23 * t2) * sp, \n",
    "                  (B12 * t3 - B13 * t2 + B23 * t1) * sp]).reshape(8,1)\n",
    "    return M\n"
   ]
  },
  {
   "cell_type": "code",
   "execution_count": 7,
   "metadata": {
    "collapsed": false
   },
   "outputs": [
    {
     "name": "stdout",
     "output_type": "stream",
     "text": [
      "[[ 0.]\n",
      " [ 0.]\n",
      " [ 1.]\n",
      " [ 0.]\n",
      " [ 1.]\n",
      " [-1.]]\n"
     ]
    },
    {
     "data": {
      "text/plain": [
       "array([[ 0.      ],\n",
       "       [-0.866025],\n",
       "       [ 0.5     ],\n",
       "       [-1.732051],\n",
       "       [ 1.      ],\n",
       "       [-0.633975]])"
      ]
     },
     "execution_count": 7,
     "metadata": {},
     "output_type": "execute_result"
    }
   ],
   "source": [
    "p = np.array([1.0,1.0,1.0]).reshape(3,1)\n",
    "u = np.array([1.0, 0.0,0.0]).reshape(3,1)\n",
    "motor = create_motor([0,0,1], pi/3, [1,1,1])\n",
    "v = Versor()\n",
    "dll = v.dual_line(p, u)\n",
    "print(dll)\n",
    "v.motor_transform_line(motor, dll)"
   ]
  },
  {
   "cell_type": "code",
   "execution_count": 6,
   "metadata": {
    "collapsed": false
   },
   "outputs": [
    {
     "name": "stdout",
     "output_type": "stream",
     "text": [
      "[[ 1.]\n",
      " [ 0.]\n",
      " [ 1.]\n",
      " [ 0.]\n",
      " [ 1.]\n",
      " [ 0.]]\n"
     ]
    },
    {
     "data": {
      "text/plain": [
       "array([[ 1.      ],\n",
       "       [-0.866025],\n",
       "       [ 0.5     ],\n",
       "       [-0.732051],\n",
       "       [ 0.      ],\n",
       "       [ 0.366025]])"
      ]
     },
     "execution_count": 6,
     "metadata": {},
     "output_type": "execute_result"
    }
   ],
   "source": [
    "def dualline(p,u):\n",
    "    return np.array([p.ravel(), np.cross(p.ravel(), u.ravel())]).reshape(6,1)\n",
    "dll = dualline(p,u)\n",
    "print(dll)\n",
    "v.motor_transform_line(motor, dll)"
   ]
  }
 ],
 "metadata": {
  "kernelspec": {
   "display_name": "Python 2",
   "language": "python",
   "name": "python2"
  },
  "language_info": {
   "codemirror_mode": {
    "name": "ipython",
    "version": 2
   },
   "file_extension": ".py",
   "mimetype": "text/x-python",
   "name": "python",
   "nbconvert_exporter": "python",
   "pygments_lexer": "ipython2",
   "version": "2.7.6"
  }
 },
 "nbformat": 4,
 "nbformat_minor": 0
}
