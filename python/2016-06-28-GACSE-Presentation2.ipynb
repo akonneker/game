{
 "cells": [
  {
   "cell_type": "markdown",
   "metadata": {
    "slideshow": {
     "slide_type": "-"
    }
   },
   "source": [
    "# Motor Estimation Using Heterogeneus Sets of Objects in Conformal Geometric Algebra\n",
    "\n",
    "## Lars Tingelstad, IPK, NTNU\n",
    "\n",
    "### GACSE Workshop @ CGI 2016"
   ]
  },
  {
   "cell_type": "code",
   "execution_count": 1,
   "metadata": {
    "collapsed": true
   },
   "outputs": [],
   "source": [
    "from __future__ import print_function"
   ]
  },
  {
   "cell_type": "code",
   "execution_count": 2,
   "metadata": {
    "collapsed": false
   },
   "outputs": [],
   "source": [
    "import sys\n",
    "sys.path.append('../build/')"
   ]
  },
  {
   "cell_type": "code",
   "execution_count": 4,
   "metadata": {
    "collapsed": false
   },
   "outputs": [
    {
     "name": "stdout",
     "output_type": "stream",
     "text": [
      "Populating the interactive namespace from numpy and matplotlib\n"
     ]
    }
   ],
   "source": [
    "%pylab inline\n",
    "np.set_printoptions(precision=4, suppress=True)\n"
   ]
  },
  {
   "cell_type": "code",
   "execution_count": 5,
   "metadata": {
    "collapsed": false
   },
   "outputs": [],
   "source": [
    "import versor as vsr\n",
    "from versor.drawing import *"
   ]
  },
  {
   "cell_type": "code",
   "execution_count": 6,
   "metadata": {
    "collapsed": false
   },
   "outputs": [],
   "source": [
    "from motor_estimation import MotorEstimationSolver\n",
    "from motor_estimation_valkenburg_dorst import (point_matrix, dual_line_matrix, dual_plane_matrix)"
   ]
  },
  {
   "cell_type": "code",
   "execution_count": 7,
   "metadata": {
    "collapsed": false
   },
   "outputs": [],
   "source": [
    "from game import (MotorEstimationSolver, VDMotorEstimationSolver)"
   ]
  },
  {
   "cell_type": "markdown",
   "metadata": {},
   "source": [
    "## Ground truth motor"
   ]
  },
  {
   "cell_type": "code",
   "execution_count": 8,
   "metadata": {
    "collapsed": false
   },
   "outputs": [
    {
     "name": "stdout",
     "output_type": "stream",
     "text": [
      "Mot: [ 0.87 0 -0.5 0 -0.68 -0.43 -0.18 -0.25 ]\n"
     ]
    }
   ],
   "source": [
    "motor = vsr.Vec(1,1,1).trs() * vsr.Rot(vsr.Biv(0,1,0) * np.pi/6.0)\n",
    "print(motor)"
   ]
  },
  {
   "cell_type": "markdown",
   "metadata": {},
   "source": [
    "## Motor Estimation from Points"
   ]
  },
  {
   "cell_type": "markdown",
   "metadata": {},
   "source": [
    "$$\\min_{M \\in \\mathcal M} {1 \\over 2} \\sum_{i=1}^N \\| \\mathrm{P}_{\\mathbb R_3^1}(M a_i \\widetilde M) - \\mathrm{P}_{\\mathbb R_3^1}(b_i )  \\|^2$$"
   ]
  },
  {
   "cell_type": "markdown",
   "metadata": {},
   "source": [
    "### Dataset generation"
   ]
  },
  {
   "cell_type": "code",
   "execution_count": 9,
   "metadata": {
    "collapsed": false
   },
   "outputs": [],
   "source": [
    "n_points = 10\n",
    "sigma = 0.09\n",
    "points_a = [vsr.Vec(*np.random.normal(0.0, 0.3, 3)).null() \n",
    "            for i in range(n_points)]\n",
    "points_b = [point.spin(motor) for point in points_a]\n",
    "points_b_noisy = [vsr.Vec(*(np.array(point)[:3] \n",
    "                            + sigma * np.random.randn(3))).null() \n",
    "                  for point in points_b]"
   ]
  },
  {
   "cell_type": "code",
   "execution_count": 12,
   "metadata": {
    "collapsed": false
   },
   "outputs": [],
   "source": [
    "points_a_mesh = [point_mesh(p,color='hotpink') for p in points_a]\n",
    "points_b_mesh = [point_mesh(p,color='lightskyblue') for p in points_b]\n",
    "\n",
    "\n",
    "scene = Scene(children=\n",
    "              [point_mesh(p,color='hotpink') for p in points_a] +\\\n",
    "              [point_mesh(p,color='lightskyblue') for p in points_b] +\\\n",
    "              [frame_mesh(),AmbientLight(color='#cccccc')])\n",
    "\n",
    "camera = PerspectiveCamera(position=[3, -3, 3])\n",
    "renderer = Renderer(camera=camera, \n",
    "                    scene=scene, \n",
    "                    controls=[TrackballControls(controlling=camera)],\n",
    "                    background = 'white')\n",
    "# renderer.width = '800'\n",
    "# renderer.height = '450'\n",
    "display(renderer)"
   ]
  },
  {
   "cell_type": "markdown",
   "metadata": {},
   "source": [
    "### Estimate motor using local parameterization"
   ]
  },
  {
   "cell_type": "code",
   "execution_count": 13,
   "metadata": {
    "collapsed": false
   },
   "outputs": [
    {
     "name": "stdout",
     "output_type": "stream",
     "text": [
      "\n",
      "Solver Summary (v 1.11.0-eigen-(3.2.92)-lapack-suitesparse-(4.4.6)-openmp)\n",
      "\n",
      "                                     Original                  Reduced\n",
      "Parameter blocks                            1                        1\n",
      "Parameters                                  8                        8\n",
      "Effective parameters                        6                        6\n",
      "Residual blocks                            10                       10\n",
      "Residual                                   30                       30\n",
      "\n",
      "Minimizer                        TRUST_REGION\n",
      "\n",
      "Dense linear algebra library            EIGEN\n",
      "Trust region strategy     LEVENBERG_MARQUARDT\n",
      "\n",
      "                                        Given                     Used\n",
      "Linear solver                        DENSE_QR                 DENSE_QR\n",
      "Threads                                     1                        1\n",
      "Linear solver threads                       1                        1\n",
      "\n",
      "Cost:\n",
      "Initial                          6.604903e+01\n",
      "Final                            5.964068e-02\n",
      "Change                           6.598939e+01\n",
      "\n",
      "Minimizer iterations                        6\n",
      "Successful steps                            6\n",
      "Unsuccessful steps                          0\n",
      "\n",
      "Time (in seconds):\n",
      "Preprocessor                           0.0001\n",
      "\n",
      "  Residual evaluation                  0.0002\n",
      "  Jacobian evaluation                  0.0010\n",
      "  Linear solver                        0.0002\n",
      "Minimizer                              0.0020\n",
      "\n",
      "Postprocessor                          0.0000\n",
      "Total                                  0.0021\n",
      "\n",
      "Termination:                      CONVERGENCE (Function tolerance reached. |cost_change|/cost: 1.701588e-08 <= 1.000000e-06)\n",
      "\n"
     ]
    }
   ],
   "source": [
    "# initial_motor = vsr.Mot(1.0, 0.0, 0.0, 0.0, 0.0, 0.0, 0.0, 0.0)\n",
    "initial_motor = vsr.Vec(2,3,4).trs() * vsr.Rot(vsr.Biv(0,-1,0) * np.pi/6)\n",
    "mes = MotorEstimationSolver(initial_motor)\n",
    "for a, b in zip(points_a, points_b_noisy):\n",
    "    mes.add_point_correspondences_residual_block(a,b)\n",
    "mes.set_parameterization('BIVECTOR_GENERATOR')\n",
    "mes.linear_solver_type = 'DENSE_QR'\n",
    "(estimated_motor, summary_point_1, motors) = mes.solve()\n",
    "print(summary_point_1['full_report'])"
   ]
  },
  {
   "cell_type": "code",
   "execution_count": 15,
   "metadata": {
    "collapsed": false
   },
   "outputs": [
    {
     "data": {
      "text/plain": [
       "[<matplotlib.lines.Line2D at 0x7fc2bdfd51d0>]"
      ]
     },
     "execution_count": 15,
     "metadata": {},
     "output_type": "execute_result"
    },
    {
     "data": {
      "image/png": "[encoded data removed]",
      "text/plain": [
       "<matplotlib.figure.Figure at 0x7fc2be0acd90>"
      ]
     },
     "metadata": {},
     "output_type": "display_data"
    }
   ],
   "source": [
    "plt.plot([it['cost'] for it in summary_point_1['iterations'] ])"
   ]
  },
  {
   "cell_type": "markdown",
   "metadata": {},
   "source": [
    "#### Check solution"
   ]
  },
  {
   "cell_type": "code",
   "execution_count": 16,
   "metadata": {
    "collapsed": false
   },
   "outputs": [
    {
     "name": "stdout",
     "output_type": "stream",
     "text": [
      "[ 0.866  0.    -0.5    0.    -0.683 -0.433 -0.183 -0.25 ]\n",
      "[ 0.8597  0.0557 -0.5057  0.0452 -0.6521 -0.4259 -0.2322 -0.2999]\n",
      "False\n"
     ]
    }
   ],
   "source": [
    "print(np.array(motor))\n",
    "print(np.array(estimated_motor))\n",
    "print(np.allclose(np.array(motor), np.array(estimated_motor)))"
   ]
  },
  {
   "cell_type": "markdown",
   "metadata": {},
   "source": [
    "### Estimate motor using Valkenburg-Dorst solver"
   ]
  },
  {
   "cell_type": "code",
   "execution_count": 17,
   "metadata": {
    "collapsed": false
   },
   "outputs": [],
   "source": [
    "vd = VDMotorEstimationSolver()\n",
    "vd.add_point_observations(points_a, points_b)\n",
    "vd_estimated_motor = vd.solve()"
   ]
  },
  {
   "cell_type": "markdown",
   "metadata": {},
   "source": [
    "#### Check solution"
   ]
  },
  {
   "cell_type": "code",
   "execution_count": 18,
   "metadata": {
    "collapsed": false
   },
   "outputs": [
    {
     "name": "stdout",
     "output_type": "stream",
     "text": [
      "[ 0.866  0.    -0.5    0.    -0.683 -0.433 -0.183 -0.25 ]\n",
      "[ 0.866  0.    -0.5   -0.    -0.683 -0.433 -0.183 -0.25 ]\n",
      "True\n"
     ]
    }
   ],
   "source": [
    "print(np.array(motor))\n",
    "print(np.array(vd_estimated_motor))\n",
    "print(np.allclose(np.array(motor), np.array(vd_estimated_motor)))"
   ]
  },
  {
   "cell_type": "markdown",
   "metadata": {},
   "source": [
    "### Visualize Solution"
   ]
  },
  {
   "cell_type": "code",
   "execution_count": 19,
   "metadata": {
    "collapsed": true
   },
   "outputs": [],
   "source": [
    "scene = Scene(children=\n",
    "              [point_mesh(p,color='palegreen') for p in [p.spin(estimated_motor) for p in points_a]] +\\\n",
    "              [point_mesh(p,color='hotpink') for p in points_a] +\\\n",
    "              [point_mesh(p,color='hotpink') for p in points_b] +\\\n",
    "              [frame_mesh(),AmbientLight(color='#cccccc')])\n",
    "\n",
    "camera = PerspectiveCamera(position=[3, -3, 3])\n",
    "renderer = Renderer(camera=camera, \n",
    "                    scene=scene, \n",
    "                    controls=[TrackballControls(controlling=camera)],\n",
    "                    background = 'white')\n",
    "# renderer.width = '1600'\n",
    "# renderer.height = '900'\n",
    "display(renderer)"
   ]
  },
  {
   "cell_type": "markdown",
   "metadata": {},
   "source": [
    "## Motor Estimation from Lines"
   ]
  },
  {
   "cell_type": "markdown",
   "metadata": {},
   "source": [
    "### Dataset generation"
   ]
  },
  {
   "cell_type": "code",
   "execution_count": 20,
   "metadata": {
    "collapsed": false
   },
   "outputs": [],
   "source": [
    "lines_a = [vsr.Dll(vsr.Vec(*np.random.normal(0.0,0.8,3)),\n",
    "                   vsr.Vec(*np.random.normal(0.0,0.8,3)))\n",
    "          for i in range(10)]\n",
    "lines_b = [line.spin(motor) for line in lines_a]\n",
    "noise_motor = vsr.Vec(0.05,0.05,0.05).trs() * vsr.Rot(vsr.Biv(1,0,0) * np.pi/50.)\n",
    "lines_b_noisy = [line.spin(motor * noise_motor) for line in lines_a]"
   ]
  },
  {
   "cell_type": "code",
   "execution_count": 22,
   "metadata": {
    "collapsed": false
   },
   "outputs": [],
   "source": [
    "scene = Scene(children=\n",
    "              [line_mesh(l,length=1, color='hotpink') for l in lines_a] +\\\n",
    "              [line_mesh(l, length=1, color='lightskyblue') for l in lines_b] +\\\n",
    "              [frame_mesh(),\n",
    "               AmbientLight(color='#cccccc')])\n",
    "\n",
    "camera = PerspectiveCamera(position=[3, -3, 3])\n",
    "renderer = Renderer(camera=camera, \n",
    "                    scene=scene, \n",
    "                    controls=[TrackballControls(controlling=camera)],\n",
    "                    background = 'white')\n",
    "display(renderer)"
   ]
  },
  {
   "cell_type": "markdown",
   "metadata": {
    "collapsed": false
   },
   "source": [
    "### Estimate motor using 6 residuals"
   ]
  },
  {
   "cell_type": "markdown",
   "metadata": {},
   "source": [
    "$$ \\min_{M \\in \\mathcal M} \\frac{1}{2} \\sum_{i=1}^n \\| M \\varLambda_{b_i} \\tilde{M} - \\varLambda_{a_i} \\|^2 $$"
   ]
  },
  {
   "cell_type": "code",
   "execution_count": 27,
   "metadata": {
    "collapsed": false
   },
   "outputs": [
    {
     "name": "stdout",
     "output_type": "stream",
     "text": [
      "Ceres Solver Report: Iterations: 4, Initial cost: 2.952932e+01, Final cost: 8.783125e-14, Termination: CONVERGENCE\n"
     ]
    }
   ],
   "source": [
    "initial_motor = vsr.Mot(1.0, 0.0, 0.0, 0.0, 0.0, 0.0, 0.0, 0.0)\n",
    "mes = MotorEstimationSolver(initial_motor)\n",
    "for a, b in zip(lines_a, lines_b_noisy):\n",
    "    mes.add_line_correspondences_residual_block(a,b)\n",
    "mes.set_parameterization('BIVECTOR_GENERATOR')\n",
    "mes.linear_solver_type = \"DENSE_QR\"\n",
    "mes.parameter_tolerance = 1e-6\n",
    "estimated_motor, lin_summary_1, motors = mes.solve()\n",
    "print(lin_summary_1['brief_report'])"
   ]
  },
  {
   "cell_type": "markdown",
   "metadata": {
    "collapsed": false
   },
   "source": [
    "#### Check solution"
   ]
  },
  {
   "cell_type": "code",
   "execution_count": 24,
   "metadata": {
    "collapsed": false
   },
   "outputs": [
    {
     "name": "stdout",
     "output_type": "stream",
     "text": [
      "[ 0.866  0.    -0.5    0.    -0.683 -0.433 -0.183 -0.25 ]\n",
      "[ 0.8643 -0.0544 -0.499   0.0314 -0.7193 -0.4103 -0.2332 -0.2483]\n",
      "False\n"
     ]
    }
   ],
   "source": [
    "print(np.array(motor))\n",
    "print(np.array(estimated_motor))\n",
    "print(np.allclose(np.array(motor), np.array(estimated_motor)))"
   ]
  },
  {
   "cell_type": "markdown",
   "metadata": {},
   "source": [
    "### Valkenburg and Dorst Solver"
   ]
  },
  {
   "cell_type": "code",
   "execution_count": 25,
   "metadata": {
    "collapsed": false
   },
   "outputs": [
    {
     "name": "stdout",
     "output_type": "stream",
     "text": [
      "Mot: [ 0.87 8.9e-18 -0.5 2e-17 0 0 0 0 ]\n"
     ]
    }
   ],
   "source": [
    "vd = VDMotorEstimationSolver()\n",
    "vd.add_dual_line_observations(lines_a, lines_b)\n",
    "vd_estimated_motor = vd.solve()\n",
    "print(vd_estimated_motor)"
   ]
  },
  {
   "cell_type": "code",
   "execution_count": 26,
   "metadata": {
    "collapsed": false
   },
   "outputs": [],
   "source": [
    "scene = Scene(children=\n",
    "              [line_mesh(l,length=1, color='hotpink') for l in [l.spin(estimated_motor) for l in lines_a]] +\\\n",
    "              [line_mesh(l,length=1, color='lightgreen') for l in [l.spin(vd_estimated_motor) for l in lines_a]] +\\\n",
    "              [line_mesh(l, length=1, color='lightskyblue') for l in lines_b] +\\\n",
    "              [frame_mesh(),\n",
    "               AmbientLight(color='#cccccc')])\n",
    "\n",
    "camera = PerspectiveCamera(position=[3, -3, 3])\n",
    "renderer = Renderer(camera=camera, \n",
    "                    scene=scene, \n",
    "                    controls=[TrackballControls(controlling=camera)],\n",
    "                    background = 'white')\n",
    "renderer.width = '800'\n",
    "renderer.height = '450'\n",
    "display(renderer)"
   ]
  },
  {
   "cell_type": "code",
   "execution_count": null,
   "metadata": {
    "collapsed": true
   },
   "outputs": [],
   "source": []
  },
  {
   "cell_type": "markdown",
   "metadata": {},
   "source": [
    "### Estimate motor using 4 residuals"
   ]
  },
  {
   "cell_type": "code",
   "execution_count": 19,
   "metadata": {
    "collapsed": false
   },
   "outputs": [
    {
     "name": "stdout",
     "output_type": "stream",
     "text": [
      "\n",
      "Solver Summary (v 1.11.0-eigen-(3.2.92)-lapack-suitesparse-(4.4.6)-openmp)\n",
      "\n",
      "                                     Original                  Reduced\n",
      "Parameter blocks                            1                        1\n",
      "Parameters                                  8                        8\n",
      "Effective parameters                        6                        6\n",
      "Residual blocks                            10                       10\n",
      "Residual                                   40                       40\n",
      "\n",
      "Minimizer                        TRUST_REGION\n",
      "\n",
      "Dense linear algebra library            EIGEN\n",
      "Trust region strategy     LEVENBERG_MARQUARDT\n",
      "\n",
      "                                        Given                     Used\n",
      "Linear solver                        DENSE_QR                 DENSE_QR\n",
      "Threads                                     1                        1\n",
      "Linear solver threads                       1                        1\n",
      "\n",
      "Cost:\n",
      "Initial                          4.739404e+00\n",
      "Final                            1.298020e+00\n",
      "Change                           3.441385e+00\n",
      "\n",
      "Minimizer iterations                       50\n",
      "Successful steps                           36\n",
      "Unsuccessful steps                         14\n",
      "\n",
      "Time (in seconds):\n",
      "Preprocessor                           0.0000\n",
      "\n",
      "  Residual evaluation                  0.0009\n",
      "  Jacobian evaluation                  0.0050\n",
      "  Linear solver                        0.0005\n",
      "Minimizer                              0.0084\n",
      "\n",
      "Postprocessor                          0.0000\n",
      "Total                                  0.0084\n",
      "\n",
      "Termination:                   NO_CONVERGENCE (Maximum number of iterations reached.)\n",
      "\n"
     ]
    }
   ],
   "source": [
    "initial_motor = vsr.Mot(1.0, 0.0, 0.0, 0.0, 0.0, 0.0, 0.0, 0.0)\n",
    "mes = MotorEstimationSolver(initial_motor)\n",
    "for a, b in zip(lines_a, lines_b):\n",
    "    mes.add_line_angle_distance_residual_block(a,b)\n",
    "mes.set_parameterization('BIVECTOR_GENERATOR')\n",
    "mes.linear_solver_type = \"DENSE_QR\"\n",
    "estimated_motor, lin_summary_2, motors = mes.solve()\n",
    "print(lin_summary_2['full_report'])"
   ]
  },
  {
   "cell_type": "markdown",
   "metadata": {},
   "source": [
    "#### Check solution"
   ]
  },
  {
   "cell_type": "code",
   "execution_count": 20,
   "metadata": {
    "collapsed": false
   },
   "outputs": [
    {
     "name": "stdout",
     "output_type": "stream",
     "text": [
      "[ 0.866  0.    -0.5    0.    -0.683 -0.433 -0.183 -0.25 ]\n",
      "[ 0.8746  0.001  -0.4848  0.0044 -0.6822 -0.4338 -0.2186 -0.2441]\n",
      "False\n",
      "False\n"
     ]
    }
   ],
   "source": [
    "print(np.array(motor))\n",
    "print(np.array(estimated_motor))\n",
    "print(np.allclose(np.array(motor), np.array(estimated_motor)))\n",
    "print(np.allclose(np.array(motor), np.array(estimated_motor), \n",
    "                  rtol=1e-05, atol=1e-03))"
   ]
  },
  {
   "cell_type": "markdown",
   "metadata": {
    "collapsed": false
   },
   "source": [
    "### Estimate motor using 2 residuals"
   ]
  },
  {
   "cell_type": "code",
   "execution_count": 61,
   "metadata": {
    "collapsed": false
   },
   "outputs": [
    {
     "name": "stdout",
     "output_type": "stream",
     "text": [
      "\n",
      "Solver Summary (v 1.12.0-eigen-(3.2.92)-lapack-suitesparse-(4.4.6)-openmp)\n",
      "\n",
      "                                     Original                  Reduced\n",
      "Parameter blocks                            1                        1\n",
      "Parameters                                  8                        8\n",
      "Effective parameters                        6                        6\n",
      "Residual blocks                            10                       10\n",
      "Residual                                   20                       20\n",
      "\n",
      "Minimizer                        TRUST_REGION\n",
      "\n",
      "Dense linear algebra library            EIGEN\n",
      "Trust region strategy     LEVENBERG_MARQUARDT\n",
      "\n",
      "                                        Given                     Used\n",
      "Linear solver                        DENSE_QR                 DENSE_QR\n",
      "Threads                                     1                        1\n",
      "Linear solver threads                       1                        1\n",
      "\n",
      "Cost:\n",
      "Initial                          1.493945e+01\n",
      "Final                            1.250001e+00\n",
      "Change                           1.368945e+01\n",
      "\n",
      "Minimizer iterations                       17\n",
      "Successful steps                           14\n",
      "Unsuccessful steps                          3\n",
      "\n",
      "Time (in seconds):\n",
      "Preprocessor                           0.0000\n",
      "\n",
      "  Residual evaluation                  0.0002\n",
      "  Jacobian evaluation                  0.0019\n",
      "  Linear solver                        0.0001\n",
      "Minimizer                              0.0026\n",
      "\n",
      "Postprocessor                          0.0000\n",
      "Total                                  0.0026\n",
      "\n",
      "Termination:                      CONVERGENCE (Function tolerance reached. |cost_change|/cost: 5.541330e-07 <= 1.000000e-06)\n",
      "\n"
     ]
    }
   ],
   "source": [
    "initial_motor = vsr.Mot(1.0, 0.0, 0.0, 0.0, 0.0, 0.0, 0.0, 0.0)\n",
    "mes = MotorEstimationSolver(initial_motor)\n",
    "for a, b in zip(lines_a, lines_b):\n",
    "    mes.add_line_angle_distance_norm_residual_block(a,b)\n",
    "mes.set_parameterization('BIVECTOR_GENERATOR')\n",
    "mes.linear_solver_type = \"DENSE_QR\"\n",
    "estimated_motor, lin_summary_3 = mes.solve()\n",
    "print(lin_summary_3['full_report'])"
   ]
  },
  {
   "cell_type": "markdown",
   "metadata": {},
   "source": [
    "#### Check solution"
   ]
  },
  {
   "cell_type": "code",
   "execution_count": 62,
   "metadata": {
    "collapsed": false
   },
   "outputs": [
    {
     "name": "stdout",
     "output_type": "stream",
     "text": [
      "[ 0.866  0.    -0.5    0.    -0.683 -0.433 -0.183 -0.25 ]\n",
      "[ 0.8659 -0.0003 -0.5002 -0.0002 -0.6829 -0.4329 -0.183  -0.2499]\n",
      "False\n",
      "True\n"
     ]
    }
   ],
   "source": [
    "print(np.array(motor))\n",
    "print(np.array(estimated_motor))\n",
    "print(np.allclose(np.array(motor), np.array(estimated_motor)))\n",
    "print(np.allclose(np.array(motor), np.array(estimated_motor), \n",
    "                  rtol=1e-05, atol=1e-03))"
   ]
  },
  {
   "cell_type": "markdown",
   "metadata": {},
   "source": [
    "### Estimate motor using Valkenburg-Dorst solver"
   ]
  },
  {
   "cell_type": "code",
   "execution_count": 63,
   "metadata": {
    "collapsed": false
   },
   "outputs": [
    {
     "name": "stdout",
     "output_type": "stream",
     "text": [
      "Mot: [ -0.87 -3e-17 0.5 4.3e-18 0 0 0 0 ]\n"
     ]
    }
   ],
   "source": [
    "vd = VDMotorEstimationSolver()\n",
    "vd.add_dual_line_observations(lines_a, lines_b)\n",
    "vd_estimated_motor = vd.solve()\n",
    "print(vd_estimated_motor)"
   ]
  },
  {
   "cell_type": "markdown",
   "metadata": {},
   "source": [
    "#### Check solution"
   ]
  },
  {
   "cell_type": "code",
   "execution_count": 64,
   "metadata": {
    "collapsed": false
   },
   "outputs": [
    {
     "name": "stdout",
     "output_type": "stream",
     "text": [
      "[ 0.866  0.    -0.5    0.    -0.683 -0.433 -0.183 -0.25 ]\n",
      "[-0.866 -0.     0.5    0.     0.     0.     0.     0.   ]\n",
      "False\n"
     ]
    }
   ],
   "source": [
    "print(np.array(motor))\n",
    "print(np.array(vd_estimated_motor))\n",
    "print(np.allclose(motor, vd_estimated_motor))"
   ]
  },
  {
   "cell_type": "markdown",
   "metadata": {},
   "source": [
    "### Plots"
   ]
  },
  {
   "cell_type": "code",
   "execution_count": 65,
   "metadata": {
    "collapsed": false
   },
   "outputs": [
    {
     "data": {
      "text/plain": [
       "<matplotlib.text.Text at 0x7fd8a8c0b990>"
      ]
     },
     "execution_count": 65,
     "metadata": {},
     "output_type": "execute_result"
    },
    {
     "data": {
      "image/png": "[encoded data removed]",
      "text/plain": [
       "<matplotlib.figure.Figure at 0x7fd8a8c3e3d0>"
      ]
     },
     "metadata": {},
     "output_type": "display_data"
    }
   ],
   "source": [
    "fig, ax = plt.subplots(2, sharex=True)\n",
    "\n",
    "ax[0].set_aspect('equal')\n",
    "plt.set_cmap('gray')\n",
    "\n",
    "almost_black = '#262626'\n",
    "spines_to_remove = ['top', 'right']\n",
    "for spine in spines_to_remove:\n",
    "    ax[0].spines[spine].set_visible(False)\n",
    "    ax[1].spines[spine].set_visible(False)\n",
    "    \n",
    "ax[0].xaxis.set_ticks_position('none')\n",
    "ax[0].yaxis.set_ticks_position('none')\n",
    "ax[1].xaxis.set_ticks_position('none')\n",
    "ax[1].yaxis.set_ticks_position('none')\n",
    "\n",
    "spines_to_keep = ['bottom', 'left']\n",
    "for spine in spines_to_keep:\n",
    "    ax[0].spines[spine].set_linewidth(0.5)\n",
    "    ax[0].spines[spine].set_color(almost_black)\n",
    "    ax[1].spines[spine].set_linewidth(0.5)\n",
    "    ax[1].spines[spine].set_color(almost_black)\n",
    "ax[0].xaxis.label.set_color(almost_black)\n",
    "ax[0].yaxis.label.set_color(almost_black)\n",
    "ax[1].xaxis.label.set_color(almost_black)\n",
    "ax[1].yaxis.label.set_color(almost_black)\n",
    "\n",
    "# ax.plot([it['cost'] for it in lin_summary_4['iterations'] ], label=r\"commutator\")\n",
    "# ax[0].plot([it['cost'] for it in lin_summary_3['iterations'] ], label=r\"$2$-residuals\", c='red')\n",
    "ax[0].plot([it['cost'] for it in lin_summary_2['iterations'] ], label=r\"$4$-residuals\")\n",
    "ax[1].plot([it['cost'] for it in lin_summary_1['iterations'] ], label=r\"$6$-residuals\")\n",
    "\n",
    "ax[0].set_yscale('log')\n",
    "ax[1].set_yscale('log')\n",
    "\n",
    "ax[0].grid(which=\"both\")\n",
    "ax[1].grid(which=\"both\")\n",
    "\n",
    "# ax[0].set_xscale('log')\n",
    "\n",
    "# plt.yscale('log')\n",
    "\n",
    "# ax[0].title.set_color(almost_black)\n",
    "# ax[0].axhline(0, color=almost_black, linewidth=0.15)\n",
    "# ax[0].axvline(0, color=almost_black, linewidth=0.15)\n",
    "# ax[1].title.set_color(almost_black)\n",
    "# ax[1].axhline(0, color=almost_black, linewidth=0.15)\n",
    "# ax[1].axvline(0, color=almost_black, linewidth=0.15)\n",
    "\n",
    "# Remove the line around the legend box, and instead fill it with a light grey\n",
    "# Also only use one point for the scatterplot legend because the user will \n",
    "# get the idea after just one, they don't need three.\n",
    "light_grey = np.array([float(248)/float(255)]*3)\n",
    "legend = ax[0].legend(frameon=True, scatterpoints=1)\n",
    "rect = legend.get_frame()\n",
    "rect.set_facecolor(light_grey)\n",
    "rect.set_linewidth(0.0)\n",
    "legend = ax[1].legend(frameon=True, scatterpoints=1)\n",
    "rect = legend.get_frame()\n",
    "rect.set_facecolor(light_grey)\n",
    "rect.set_linewidth(0.0)\n",
    "\n",
    "fig.text(0.06, 0.5, 'Cost', ha='center', va='center', rotation='vertical')\n",
    "\n",
    "# plt.tight_layout()\n",
    "plt.xlabel(r'Iteration $k$')\n",
    "# fig.ylabel(r'Cost')\n",
    "# ax[1].ylabel(r'Cost')\n",
    "\n",
    "# plt.savefig('/home/lars/Dropbox/Apps/ShareLaTeX/2016-gacse/figures/cost_lines2.pdf')"
   ]
  },
  {
   "cell_type": "markdown",
   "metadata": {},
   "source": [
    "## Motor Estimation from planes"
   ]
  },
  {
   "cell_type": "markdown",
   "metadata": {},
   "source": [
    "### Dataset generation"
   ]
  },
  {
   "cell_type": "code",
   "execution_count": 66,
   "metadata": {
    "collapsed": false
   },
   "outputs": [],
   "source": [
    "n_planes = 10\n",
    "planes_a = []\n",
    "for i in range(10):\n",
    "    dir_vec = np.random.normal(0.0, 0.8, 4)\n",
    "    dir_vec = dir_vec / np.linalg.norm(dir_vec)\n",
    "    distance = np.random.normal(0.0, 0.8,1)\n",
    "    arr = dir_vec + distance\n",
    "    planes_a.append(vsr.Dlp(dir_vec[0],dir_vec[1],dir_vec[2],distance[0]))\n",
    "planes_b = [plane.spin(motor) for plane in planes_a]"
   ]
  },
  {
   "cell_type": "markdown",
   "metadata": {},
   "source": [
    "### Estimate motor using 2 residuals"
   ]
  },
  {
   "cell_type": "code",
   "execution_count": 67,
   "metadata": {
    "collapsed": false
   },
   "outputs": [
    {
     "name": "stdout",
     "output_type": "stream",
     "text": [
      "Ceres Solver Report: Iterations: 17, Initial cost: 2.753812e+01, Final cost: 1.250000e+00, Termination: CONVERGENCE\n"
     ]
    }
   ],
   "source": [
    "motor = vsr.Vec(1,1,1).trs() * vsr.Rot(vsr.Biv(0,1,0) * np.pi/6.0)\n",
    "noise_motor_plane = vsr.Vec(0.1,0.1,0.1).trs() * vsr.Rot(vsr.Biv(1,0,0) * np.pi/24)\n",
    "initial_motor = vsr.Mot(1.0, 0.0, 0.0, 0.0, 0.0, 0.0, 0.0, 0.0)\n",
    "mes = MotorEstimationSolver(initial_motor)\n",
    "for a, b in zip(planes_a, planes_b):\n",
    "#     mes.add_dual_plane_angle_error_residual_block(a,b.spin(noise_motor_plane))\n",
    "    mes.add_dual_plane_angle_error_residual_block(a,b)\n",
    "\n",
    "mes.set_parameterization('BIVECTOR_GENERATOR')\n",
    "mes.linear_solver_type = \"DENSE_QR\"\n",
    "mes.function_tolerance = 1e-8\n",
    "mes.max_num_iterations = 100\n",
    "estimated_motor, pln_summary_1 = mes.solve()\n",
    "print(pln_summary_1['brief_report'])"
   ]
  },
  {
   "cell_type": "code",
   "execution_count": 68,
   "metadata": {
    "collapsed": false
   },
   "outputs": [
    {
     "name": "stdout",
     "output_type": "stream",
     "text": [
      "[ 0.866  0.    -0.5    0.    -0.683 -0.433 -0.183 -0.25 ]\n",
      "[ 0.866  0.    -0.5   -0.    -0.683 -0.433 -0.183 -0.25 ]\n",
      "False\n",
      "True\n"
     ]
    }
   ],
   "source": [
    "print(np.array(motor))\n",
    "print(np.array(estimated_motor))\n",
    "print(np.allclose(np.array(motor), np.array(estimated_motor)))\n",
    "print(np.allclose(np.array(motor), np.array(estimated_motor), \n",
    "                  rtol=1e-05, atol=1e-05))"
   ]
  },
  {
   "cell_type": "code",
   "execution_count": 69,
   "metadata": {
    "collapsed": false
   },
   "outputs": [
    {
     "data": {
      "text/plain": [
       "<matplotlib.text.Text at 0x7fd8a8e1bdd0>"
      ]
     },
     "execution_count": 69,
     "metadata": {},
     "output_type": "execute_result"
    },
    {
     "data": {
      "image/png": "[encoded data removed]",
      "text/plain": [
       "<matplotlib.figure.Figure at 0x7fd8a8aabc90>"
      ]
     },
     "metadata": {},
     "output_type": "display_data"
    }
   ],
   "source": [
    "fig, ax = plt.subplots(1)\n",
    "\n",
    "# ax.set_aspect('equal')\n",
    "plt.set_cmap('gray')\n",
    "\n",
    "almost_black = '#262626'\n",
    "spines_to_remove = ['top', 'right']\n",
    "for spine in spines_to_remove:\n",
    "    ax.spines[spine].set_visible(False)\n",
    "ax.xaxis.set_ticks_position('none')\n",
    "ax.yaxis.set_ticks_position('none')\n",
    "\n",
    "spines_to_keep = ['bottom', 'left']\n",
    "for spine in spines_to_keep:\n",
    "    ax.spines[spine].set_linewidth(0.5)\n",
    "    ax.spines[spine].set_color(almost_black)\n",
    "ax.xaxis.label.set_color(almost_black)\n",
    "ax.yaxis.label.set_color(almost_black)\n",
    "\n",
    "ax.plot([it['cost'] for it in pln_summary_1['iterations'] ])\n",
    "\n",
    "ax.title.set_color(almost_black)\n",
    "ax.axhline(0, color=almost_black, linewidth=0.15)\n",
    "ax.axvline(0, color=almost_black, linewidth=0.15)\n",
    "\n",
    "# Remove the line around the legend box, and instead fill it with a light grey\n",
    "# Also only use one point for the scatterplot legend because the user will \n",
    "# get the idea after just one, they don't need three.\n",
    "\n",
    "# light_grey = np.array([float(248)/float(255)]*3)\n",
    "# legend = ax.legend(frameon=True, scatterpoints=1)\n",
    "# rect = legend.get_frame()\n",
    "# rect.set_facecolor(light_grey)\n",
    "# rect.set_linewidth(0.0)\n",
    "\n",
    "plt.xlabel(r'Iteration $k$')\n",
    "plt.ylabel(r'Cost')\n",
    "\n",
    "\n",
    "# plt.savefig('/Users/lars/Dropbox/Apps/ShareLaTeX/2016-gacse/figures/cost_planes.pdf')"
   ]
  },
  {
   "cell_type": "markdown",
   "metadata": {},
   "source": [
    "### Estimate motor using Valkenburg-Dorst solver"
   ]
  },
  {
   "cell_type": "code",
   "execution_count": 70,
   "metadata": {
    "collapsed": false
   },
   "outputs": [
    {
     "name": "stdout",
     "output_type": "stream",
     "text": [
      "Mot: [ 0.87 -3.5e-17 -0.5 8.1e-18 0 0 0 0 ]\n"
     ]
    }
   ],
   "source": [
    "vd = VDMotorEstimationSolver()\n",
    "vd.add_dual_plane_observations(planes_a, planes_b)\n",
    "vd_estimated_motor = vd.solve()\n",
    "print(vd_estimated_motor)"
   ]
  },
  {
   "cell_type": "markdown",
   "metadata": {},
   "source": [
    "#### Check solution"
   ]
  },
  {
   "cell_type": "code",
   "execution_count": 71,
   "metadata": {
    "collapsed": false
   },
   "outputs": [
    {
     "name": "stdout",
     "output_type": "stream",
     "text": [
      "[ 0.866  0.    -0.5    0.    -0.683 -0.433 -0.183 -0.25 ]\n",
      "[ 0.866 -0.    -0.5    0.     0.     0.     0.     0.   ]\n",
      "False\n"
     ]
    }
   ],
   "source": [
    "print(np.array(motor))\n",
    "print(np.array(vd_estimated_motor))\n",
    "print(np.allclose(motor, vd_estimated_motor))"
   ]
  },
  {
   "cell_type": "markdown",
   "metadata": {},
   "source": [
    "## Motor Estimation from heterogeneous conformal objects"
   ]
  },
  {
   "cell_type": "markdown",
   "metadata": {},
   "source": [
    "### Estimate motor using Valkenburg-Dorst solver"
   ]
  },
  {
   "cell_type": "code",
   "execution_count": 280,
   "metadata": {
    "collapsed": false
   },
   "outputs": [
    {
     "name": "stdout",
     "output_type": "stream",
     "text": [
      "Mot: [ -0.87 2.1e-18 0.5 -2.8e-17 0.68 0.43 0.18 0.25 ]\n"
     ]
    }
   ],
   "source": [
    "vd = VDMotorEstimationSolver()\n",
    "vd.add_point_observations(points_a, points_b)\n",
    "vd.add_dual_line_observations(lines_a, lines_b)\n",
    "vd.add_dual_plane_observations(planes_a, planes_b)\n",
    "vd_estimated_motor = vd.solve()\n",
    "print(vd_estimated_motor)"
   ]
  },
  {
   "cell_type": "markdown",
   "metadata": {},
   "source": [
    "#### Check solution"
   ]
  },
  {
   "cell_type": "code",
   "execution_count": 281,
   "metadata": {
    "collapsed": false,
    "scrolled": true
   },
   "outputs": [
    {
     "name": "stdout",
     "output_type": "stream",
     "text": [
      "[ 0.866  0.    -0.5    0.    -0.683 -0.433 -0.183 -0.25 ]\n",
      "[-0.866  0.     0.5   -0.     0.683  0.433  0.183  0.25 ]\n",
      "False\n"
     ]
    }
   ],
   "source": [
    "print(np.array(motor))\n",
    "print(np.array(vd_estimated_motor))\n",
    "print(np.allclose(motor, vd_estimated_motor))"
   ]
  },
  {
   "cell_type": "code",
   "execution_count": 282,
   "metadata": {
    "collapsed": false
   },
   "outputs": [
    {
     "name": "stdout",
     "output_type": "stream",
     "text": [
      "[-0.866  0.     0.5   -0.     0.683  0.433  0.183  0.25 ]\n",
      "[ 0.866  0.    -0.5    0.    -0.683 -0.433 -0.183 -0.25 ]\n",
      "[-0.866  0.     0.5   -0.     0.683  0.433  0.183  0.25 ]\n",
      "Ceres Solver Report: Iterations: 1, Initial cost: 1.250000e+00, Final cost: 1.250000e+00, Termination: CONVERGENCE\n"
     ]
    }
   ],
   "source": [
    "initial_motors = [vd_estimated_motor]\n",
    "vd_summaries_no_noise = []\n",
    "estimated_motors = []\n",
    "for initial_motor in initial_motors:\n",
    "    mes = MotorEstimationSolver(initial_motor)\n",
    "    for a, b in zip(planes_a, planes_b):\n",
    "        mes.add_dual_plane_angle_error_residual_block(a,b)\n",
    "    for a, b in zip(lines_a, lines_b):\n",
    "        mes.add_line_correspondences_residual_block(a,b)\n",
    "    for a, b in zip(points_a, points_b):\n",
    "        mes.add_point_correspondences_residual_block(a,b)\n",
    "    mes.set_parameterization('BIVECTOR_GENERATOR')\n",
    "    mes.linear_solver_type = \"DENSE_QR\"\n",
    "    mes.max_num_iterations = 100\n",
    "    mes.function_tolerance = 1e-2\n",
    "    em, summary_het = mes.solve()\n",
    "    estimated_motors.append(em)\n",
    "    vd_summaries_no_noise.append(summary_het)\n",
    "    print(np.array(initial_motor))\n",
    "    print(np.array(motor))\n",
    "    print(np.array(em))\n",
    "    print(summary_het['brief_report'])"
   ]
  },
  {
   "cell_type": "code",
   "execution_count": 309,
   "metadata": {
    "collapsed": false
   },
   "outputs": [
    {
     "name": "stdout",
     "output_type": "stream",
     "text": [
      "Mot: [ 1 0 0 0 0 0 0 0 ]\n",
      "Mot: [ 0.87 4.2e-07 -0.5 1.1e-06 -0.68 -0.43 -0.18 -0.25 ]\n",
      "Ceres Solver Report: Iterations: 5, Initial cost: 9.075208e+01, Final cost: 1.250000e+00, Termination: CONVERGENCE\n",
      "\n",
      "Mot: [ -0.5 0 -0.87 0 -0.018 0.025 0.068 -0.043 ]\n",
      "Mot: [ -0.87 4.1e-06 0.5 -6.6e-05 0.68 0.43 0.18 0.25 ]\n",
      "Ceres Solver Report: Iterations: 10, Initial cost: 2.060420e+02, Final cost: 1.250001e+00, Termination: CONVERGENCE\n",
      "\n"
     ]
    }
   ],
   "source": [
    "motor = vsr.Vec(1,1,1).trs() * vsr.Rot(vsr.Biv(0,1,0) * np.pi/6.0)\n",
    "noise_motor = vsr.Vec(0.1,0.1,0.1).trs() * vsr.Rot(vsr.Biv(1,0,0) * np.pi/100)\n",
    "\n",
    "noise_motor_plane = vsr.Vec(0.05,0.05,0.05).trs() * vsr.Rot(vsr.Biv(1,0,0) * np.pi/100)\n",
    "noise_motor_lines = vsr.Vec(-0.01,-0.01,-0.01).trs() * vsr.Rot(vsr.Biv(0,1,0) * (-np.pi/100))\n",
    "noise_motor_points = vsr.Vec(0.1,0.1,0.1).trs() * vsr.Rot(vsr.Biv(0,0,1) * (np.pi/100))\n",
    "\n",
    "# initial_motor = vsr.Mot(1.0, 0.0, 0.0, 0.0, 0.0, 0.0, 0.0, 0.0)\n",
    "\n",
    "initial_motors = [vsr.Mot(1.0, 0.0, 0.0, 0.0, 0.0, 0.0, 0.0, 0.0),\n",
    "                  vsr.Vec(0.1,0.1,0.1).trs() * vsr.Rot(vsr.Biv(0,1,0) * (np.pi/6.0 + np.pi/2.))]\n",
    "\n",
    "labels = [\"1\", \"$\\pi$\"]\n",
    "summaries_no_noise = []\n",
    "estimated_motors_no_noise = []\n",
    "for initial_motor in initial_motors:\n",
    "    mes = MotorEstimationSolver(initial_motor)\n",
    "    for a, b in zip(planes_a, planes_b):\n",
    "        mes.add_dual_plane_angle_error_residual_block(a,b)\n",
    "    for a, b in zip(lines_a, lines_b):\n",
    "        mes.add_line_correspondences_residual_block(a,b)\n",
    "    for a, b in zip(points_a, points_b):\n",
    "        mes.add_point_correspondences_residual_block(a,b)\n",
    "    mes.set_parameterization('BIVECTOR_GENERATOR')\n",
    "    mes.linear_solver_type = \"DENSE_QR\"\n",
    "    mes.max_num_iterations = 100\n",
    "    em, summary_het = mes.solve()\n",
    "    estimated_motors_no_noise.append(em)\n",
    "    summaries_no_noise.append(summary_het)\n",
    "    print(initial_motor)\n",
    "#     print(motor)\n",
    "    print(em)\n",
    "\n",
    "#     print(np.array(motor))\n",
    "#     print(np.array(estimated_motor))\n",
    "#     print(np.allclose(np.array(motor), np.array(estimated_motor)))\n",
    "#     print(np.allclose(np.array(motor), np.array(estimated_motor), \n",
    "#                       rtol=1e-05, atol=1e-5))\n",
    "    print(summary_het['brief_report'])\n",
    "    print()"
   ]
  },
  {
   "cell_type": "code",
   "execution_count": 310,
   "metadata": {
    "collapsed": false
   },
   "outputs": [
    {
     "data": {
      "text/plain": [
       "<matplotlib.legend.Legend at 0x7fd8a49da350>"
      ]
     },
     "execution_count": 310,
     "metadata": {},
     "output_type": "execute_result"
    },
    {
     "data": {
      "image/png": "[encoded data removed]",
      "text/plain": [
       "<matplotlib.figure.Figure at 0x7fd8a5df0e10>"
      ]
     },
     "metadata": {},
     "output_type": "display_data"
    }
   ],
   "source": [
    "for s,l in zip(summaries_no_noise, labels):\n",
    "    plt.plot([it['cost'] for it in s['iterations']], label=l)\n",
    "plt.semilogy()\n",
    "plt.legend()"
   ]
  },
  {
   "cell_type": "markdown",
   "metadata": {},
   "source": [
    "## With noise"
   ]
  },
  {
   "cell_type": "code",
   "execution_count": 311,
   "metadata": {
    "collapsed": false
   },
   "outputs": [],
   "source": [
    "motor = vsr.Vec(1,1,1).trs() * vsr.Rot(vsr.Biv(0,1,0) * np.pi/6.0)\n",
    "\n",
    "noise_motor_planes = vsr.Vec(0.05,0.05,0.05).trs() * vsr.Rot(vsr.Biv(1,0,0) * np.pi/100)\n",
    "noise_motor_lines = vsr.Vec(-0.01,-0.01,-0.01).trs() * vsr.Rot(vsr.Biv(0,1,0) * (-np.pi/100))\n",
    "noise_motor_points = vsr.Vec(0.1,0.1,0.1).trs() * vsr.Rot(vsr.Biv(0,0,1) * (np.pi/100))\n",
    "\n",
    "points_b_noisy = [b.spin(noise_motor_points) for b in points_b]\n",
    "lines_b_noisy = [b.spin(noise_motor_lines) for b in lines_b]\n",
    "planes_b_noisy = [b.spin(noise_motor_planes) for b in planes_b]"
   ]
  },
  {
   "cell_type": "markdown",
   "metadata": {},
   "source": [
    "### Estimate motor using Valkenburg-Dorst solver"
   ]
  },
  {
   "cell_type": "code",
   "execution_count": 312,
   "metadata": {
    "collapsed": false
   },
   "outputs": [
    {
     "name": "stdout",
     "output_type": "stream",
     "text": [
      "Mot: [ -0.87 -0.0029 0.49 0.0083 0.76 0.45 0.25 0.24 ]\n"
     ]
    }
   ],
   "source": [
    "vd = VDMotorEstimationSolver()\n",
    "vd.add_point_observations(points_a, points_b_noisy)\n",
    "vd.add_dual_line_observations(lines_a, lines_b_noisy)\n",
    "vd.add_dual_plane_observations(planes_a, planes_b_noisy)\n",
    "vd_estimated_motor = vd.solve()\n",
    "print(vd_estimated_motor)"
   ]
  },
  {
   "cell_type": "markdown",
   "metadata": {},
   "source": [
    "#### Check solution"
   ]
  },
  {
   "cell_type": "code",
   "execution_count": 313,
   "metadata": {
    "collapsed": false,
    "scrolled": true
   },
   "outputs": [
    {
     "name": "stdout",
     "output_type": "stream",
     "text": [
      "[ 0.866  0.    -0.5    0.    -0.683 -0.433 -0.183 -0.25 ]\n",
      "[-0.8736 -0.0029  0.4865  0.0083  0.762   0.4471  0.252   0.2426]\n",
      "False\n"
     ]
    }
   ],
   "source": [
    "print(np.array(motor))\n",
    "print(np.array(vd_estimated_motor))\n",
    "print(np.allclose(motor, vd_estimated_motor))"
   ]
  },
  {
   "cell_type": "code",
   "execution_count": 288,
   "metadata": {
    "collapsed": false
   },
   "outputs": [
    {
     "name": "stdout",
     "output_type": "stream",
     "text": [
      "0.503397771552 0.147638265685\n"
     ]
    }
   ],
   "source": [
    "d = [np.linalg.norm(np.array(a.spin(vd_estimated_motor)) - np.array(a.spin(motor))) for a in points_a]\n",
    "print(np.mean(d), np.std(d))"
   ]
  },
  {
   "cell_type": "code",
   "execution_count": 329,
   "metadata": {
    "collapsed": false
   },
   "outputs": [
    {
     "name": "stdout",
     "output_type": "stream",
     "text": [
      "[ 1.  0.  0.  0.  0.  0.  0.  0.]\n",
      "Ceres Solver Report: Iterations: 14, Initial cost: 9.449687e+01, Final cost: 1.563907e+00, Termination: CONVERGENCE\n",
      "[-0.5     0.     -0.866   0.     -0.0183  0.025   0.0683 -0.0433]\n",
      "Ceres Solver Report: Iterations: 20, Initial cost: 2.140821e+02, Final cost: 1.563907e+00, Termination: CONVERGENCE\n"
     ]
    }
   ],
   "source": [
    "# initial_motors = [vsr.Mot(1.0, 0.0, 0.0, 0.0, 0.0, 0.0, 0.0, 0.0),\n",
    "#                   vsr.Vec(1,1,1).trs() * vsr.Rot(vsr.Biv(0,1,0) * (np.pi/6.0 + np.pi/2))]\n",
    "summaries_noise = []\n",
    "estimated_motors_noise = []\n",
    "for initial_motor in initial_motors:\n",
    "    mes = MotorEstimationSolver(initial_motor)\n",
    "    for a, b in zip(planes_a, planes_b_noisy):\n",
    "        mes.add_dual_plane_angle_error_residual_block(a,b)\n",
    "    for a, b in zip(lines_a, lines_b_noisy):\n",
    "        mes.add_line_correspondences_residual_block(a,b)\n",
    "    for a, b in zip(points_a, points_b_noisy):\n",
    "        mes.add_point_correspondences_residual_block(a,b)\n",
    "    mes.set_parameterization('BIVECTOR_GENERATOR')\n",
    "    mes.linear_solver_type = \"DENSE_QR\"\n",
    "    mes.max_num_iterations = 100\n",
    "#     mes.function_tolerance = 1e-4\n",
    "    em, summary_het = mes.solve()\n",
    "    estimated_motors_noise.append(em)\n",
    "    summaries_noise.append(summary_het)\n",
    "    print(np.array(initial_motor))\n",
    "#     print(np.array(motor))\n",
    "#     print(np.array(em))\n",
    "    print(summary_het['brief_report'])"
   ]
  },
  {
   "cell_type": "code",
   "execution_count": 290,
   "metadata": {
    "collapsed": false
   },
   "outputs": [
    {
     "name": "stdout",
     "output_type": "stream",
     "text": [
      "0.201342423866 0.0597160798383\n",
      "0.201275060229 0.0596699971294\n"
     ]
    }
   ],
   "source": [
    "d = [[np.linalg.norm(np.array(a.spin(em)) - \n",
    "                np.array(a.spin(motor))) for a in points_a] for em in estimated_motors_noise]\n",
    "for d in d:\n",
    "    print(np.mean(d), np.std(d))"
   ]
  },
  {
   "cell_type": "code",
   "execution_count": 330,
   "metadata": {
    "collapsed": false
   },
   "outputs": [
    {
     "name": "stdout",
     "output_type": "stream",
     "text": [
      "[-0.8736 -0.0029  0.4865  0.0083  0.762   0.4471  0.252   0.2426]\n",
      "[ 0.866  0.    -0.5    0.    -0.683 -0.433 -0.183 -0.25 ]\n",
      "[-0.8705  0.0084  0.4918  0.0166  0.7129  0.4549  0.1952  0.2415]\n",
      "Ceres Solver Report: Iterations: 17, Initial cost: 2.046072e+00, Final cost: 1.563907e+00, Termination: CONVERGENCE\n"
     ]
    }
   ],
   "source": [
    "initial_motors = [vd_estimated_motor]\n",
    "vd_summaries_noise = []\n",
    "estimated_motors = []\n",
    "for initial_motor in initial_motors:\n",
    "    mes = MotorEstimationSolver(initial_motor)\n",
    "    for a, b in zip(planes_a, planes_b_noisy):\n",
    "        mes.add_dual_plane_angle_error_residual_block(a,b)\n",
    "    for a, b in zip(lines_a, lines_b_noisy):\n",
    "        mes.add_line_correspondences_residual_block(a,b)\n",
    "    for a, b in zip(points_a, points_b_noisy):\n",
    "        mes.add_point_correspondences_residual_block(a,b)\n",
    "    mes.set_parameterization('BIVECTOR_GENERATOR')\n",
    "    mes.linear_solver_type = \"DENSE_QR\"\n",
    "    mes.max_num_iterations = 100\n",
    "#     mes.function_tolerance = 1e-5\n",
    "    em, summary_het = mes.solve()\n",
    "    estimated_motors.append(em)\n",
    "    vd_summaries_noise.append(summary_het)\n",
    "    print(np.array(initial_motor))\n",
    "    print(np.array(motor))\n",
    "    print(np.array(em))\n",
    "    print(summary_het['brief_report'])"
   ]
  },
  {
   "cell_type": "code",
   "execution_count": 331,
   "metadata": {
    "collapsed": false
   },
   "outputs": [
    {
     "data": {
      "text/plain": [
       "<matplotlib.legend.Legend at 0x7fd8a3a70a90>"
      ]
     },
     "execution_count": 331,
     "metadata": {},
     "output_type": "execute_result"
    },
    {
     "data": {
      "image/png": "[encoded data removed]",
      "text/plain": [
       "<matplotlib.figure.Figure at 0x7fd8a3e61650>"
      ]
     },
     "metadata": {},
     "output_type": "display_data"
    }
   ],
   "source": [
    "for s,l in zip(summaries_no_noise, labels):\n",
    "    plt.plot([it['cost'] for it in s['iterations']], label=l)\n",
    "for s,l in zip(summaries_noise, labels):\n",
    "    plt.plot([it['cost'] for it in s['iterations']], label=l)\n",
    "plt.axhline(y=vd_summaries_noise[0]['iterations'][0]['cost'])\n",
    "plt.axhline(y=vd_summaries_no_noise[0]['iterations'][0]['cost'])\n",
    "plt.semilogy()\n",
    "plt.legend()"
   ]
  },
  {
   "cell_type": "code",
   "execution_count": 273,
   "metadata": {
    "collapsed": false
   },
   "outputs": [
    {
     "data": {
      "text/plain": [
       "[]"
      ]
     },
     "execution_count": 273,
     "metadata": {},
     "output_type": "execute_result"
    },
    {
     "data": {
      "image/png": "[encoded data removed]",
      "text/plain": [
       "<matplotlib.figure.Figure at 0x7fd8a69f6110>"
      ]
     },
     "metadata": {},
     "output_type": "display_data"
    }
   ],
   "source": [
    "for s in summaries:\n",
    "    plt.plot([it['cost'] for it in s['iterations']])\n",
    "plt.semilogy()"
   ]
  },
  {
   "cell_type": "code",
   "execution_count": 246,
   "metadata": {
    "collapsed": false
   },
   "outputs": [
    {
     "name": "stdout",
     "output_type": "stream",
     "text": [
      "1.3584124525e-15 8.55792174811e-16\n"
     ]
    }
   ],
   "source": [
    "d = [[np.linalg.norm(np.array(a.spin(em)) - \n",
    "                np.array(a.spin(motor))) for a in points_a] for em in estimated_motors]\n",
    "for d in d:\n",
    "    print(np.mean(d), np.std(d))"
   ]
  },
  {
   "cell_type": "code",
   "execution_count": 380,
   "metadata": {
    "collapsed": false
   },
   "outputs": [
    {
     "data": {
      "image/png": "[encoded data removed]",
      "text/plain": [
       "<matplotlib.figure.Figure at 0x7fd8a2a24c50>"
      ]
     },
     "metadata": {},
     "output_type": "display_data"
    }
   ],
   "source": [
    "fig, ax = plt.subplots(1)\n",
    "\n",
    "ax.set_aspect('equal')\n",
    "\n",
    "almost_black = '#262626'\n",
    "spines_to_remove = ['top', 'right']\n",
    "for spine in spines_to_remove:\n",
    "    ax.spines[spine].set_visible(False)\n",
    "ax.xaxis.set_ticks_position('none')\n",
    "ax.yaxis.set_ticks_position('none')\n",
    "\n",
    "spines_to_keep = ['bottom', 'left']\n",
    "for spine in spines_to_keep:\n",
    "    ax.spines[spine].set_linewidth(0.5)\n",
    "    ax.spines[spine].set_color(almost_black)\n",
    "ax.xaxis.label.set_color(almost_black)\n",
    "ax.yaxis.label.set_color(almost_black)\n",
    "\n",
    "# ax.grid(which=\"both\")\n",
    "\n",
    "ax.axhline(y=vd_summaries_noise[0]['iterations'][0]['cost'], \n",
    "           ls=\"-\", lw=0.75,c='black',label=\"V\\&D~[26], With noise\")\n",
    "ax.axhline(y=vd_summaries_no_noise[0]['iterations'][0]['cost'],\n",
    "           ls=\"--\", lw=0.75,c='black',label=\"V\\&D~[26], Without noise\")\n",
    "\n",
    "ax.plot([it['cost'] for it in summaries_no_noise[1]['iterations']], label=r\"Without noise, $\\bar{\\theta}_0 = \\pi$\")\n",
    "ax.plot([it['cost'] for it in summaries_no_noise[0]['iterations']], label=r\"Without noise, $\\bar{\\theta}_0 = {\\pi \\over 3}$\")\n",
    "\n",
    "\n",
    "ax.plot([it['cost'] for it in summaries_noise[1]['iterations']], label=r\"With noise, $\\bar{\\theta}_0 = \\pi$\")\n",
    "ax.plot([it['cost'] for it in summaries_noise[0]['iterations']], label=r\"With noise, $\\bar{\\theta}_0 = {\\pi \\over 3}$\")\n",
    "\n",
    "\n",
    "\n",
    "ax.semilogy()\n",
    "\n",
    "# ax.set_yscale('log')\n",
    "\n",
    "ax.title.set_color(almost_black)\n",
    "ax.axhline(0, color=almost_black, linewidth=0.15)\n",
    "ax.axvline(0, color=almost_black, linewidth=0.15)\n",
    "\n",
    "# Remove the line around the legend box, and instead fill it with a light grey\n",
    "# Also only use one point for the scatterplot legend because the user will \n",
    "# get the idea after just one, they don't need three.\n",
    "\n",
    "light_grey = np.array([float(248)/float(255)]*3)\n",
    "legend = ax.legend(frameon=True, scatterpoints=1)\n",
    "rect = legend.get_frame()\n",
    "rect.set_facecolor(light_grey)\n",
    "rect.set_linewidth(0.0)\n",
    "\n",
    "\n",
    "\n",
    "\n",
    "plt.xlabel(r'Iteration $k$')\n",
    "plt.ylabel(r'Cost')\n",
    "\n",
    "\n",
    "plt.savefig('/home/lars/Dropbox/PhD/latex/2016-05-18_-_AACA-D-16-00064_Manuscript_Tingelstad_Egeland/cost_heterogeneous2.pdf')"
   ]
  },
  {
   "cell_type": "code",
   "execution_count": null,
   "metadata": {
    "collapsed": true
   },
   "outputs": [],
   "source": []
  },
  {
   "cell_type": "code",
   "execution_count": null,
   "metadata": {
    "collapsed": true
   },
   "outputs": [],
   "source": []
  }
 ],
 "metadata": {
  "kernelspec": {
   "display_name": "Python 2",
   "language": "python",
   "name": "python2"
  },
  "language_info": {
   "codemirror_mode": {
    "name": "ipython",
    "version": 2
   },
   "file_extension": ".py",
   "mimetype": "text/x-python",
   "name": "python",
   "nbconvert_exporter": "python",
   "pygments_lexer": "ipython2",
   "version": "2.7.11+"
  },
  "widgets": {
   "state": {},
   "version": "1.1.2"
  }
 },
 "nbformat": 4,
 "nbformat_minor": 0
}
