{
 "cells": [
  {
   "cell_type": "code",
   "execution_count": 1,
   "metadata": {
    "collapsed": true
   },
   "outputs": [],
   "source": [
    "from __future__ import print_function"
   ]
  },
  {
   "cell_type": "code",
   "execution_count": 2,
   "metadata": {
    "collapsed": true
   },
   "outputs": [],
   "source": [
    "import sys\n",
    "import subprocess\n",
    "import json\n",
    "sys.path.append('../build/')"
   ]
  },
  {
   "cell_type": "code",
   "execution_count": 3,
   "metadata": {
    "collapsed": false
   },
   "outputs": [
    {
     "name": "stdout",
     "output_type": "stream",
     "text": [
      "Populating the interactive namespace from numpy and matplotlib\n"
     ]
    }
   ],
   "source": [
    "%pylab inline\n",
    "np.set_printoptions(precision=4, suppress=True)"
   ]
  },
  {
   "cell_type": "code",
   "execution_count": 4,
   "metadata": {
    "collapsed": false
   },
   "outputs": [],
   "source": [
    "import versor as vsr\n",
    "import autodiff_multivector as ad\n",
    "from motor_estimation import MotorEstimationSolver"
   ]
  },
  {
   "cell_type": "markdown",
   "metadata": {},
   "source": [
    "# Automatic Multivector Differentiation"
   ]
  },
  {
   "cell_type": "code",
   "execution_count": 5,
   "metadata": {
    "collapsed": false
   },
   "outputs": [
    {
     "name": "stdout",
     "output_type": "stream",
     "text": [
      "[[-5.]\n",
      " [-2.]\n",
      " [ 3.]]\n",
      "[[-0. -1. -1.]\n",
      " [ 1.  0. -1.]\n",
      " [ 1.  1.  0.]]\n"
     ]
    }
   ],
   "source": [
    "jac, statements = ad.diff_ceres(vsr.Vec(1,2,3), vsr.Biv(1,1,1))\n",
    "print(jac)\n",
    "print(statements)"
   ]
  },
  {
   "cell_type": "code",
   "execution_count": 6,
   "metadata": {
    "collapsed": false
   },
   "outputs": [
    {
     "name": "stdout",
     "output_type": "stream",
     "text": [
      "[[ 0. -1. -1.]\n",
      " [ 1.  0. -1.]\n",
      " [ 1.  1.  0.]]\n",
      "1: d[6] = 0\n",
      "2: d[7] = 0\n",
      "3: d[8] = 0\n",
      "4: d[6] =  + -1*d[2] + -3*d[4] + -1*d[1] + -2*d[3]\n",
      "5: d[7] =  + -1*d[2] + -3*d[5] + 1*d[0] + 1*d[3]\n",
      "6: d[8] =  + 1*d[1] + 2*d[5] + 1*d[0] + 1*d[4]\n",
      "\n"
     ]
    }
   ],
   "source": [
    "jac, statements = ad.diff_adept(vsr.Vec(1,2,3), vsr.Biv(1,1,1))\n",
    "print(jac)\n",
    "print(statements)"
   ]
  },
  {
   "cell_type": "code",
   "execution_count": 7,
   "metadata": {
    "collapsed": false
   },
   "outputs": [
    {
     "data": {
      "text/plain": [
       "[array([[ 0.],\n",
       "        [ 0.],\n",
       "        [ 0.]]), array([[ 0.],\n",
       "        [ 0.],\n",
       "        [ 0.]])]"
      ]
     },
     "execution_count": 7,
     "metadata": {},
     "output_type": "execute_result"
    }
   ],
   "source": [
    "ad.diff_ceres_rotor_matrix(pi/2, vsr.Vec(1,0,0))"
   ]
  },
  {
   "cell_type": "code",
   "execution_count": 8,
   "metadata": {
    "collapsed": false
   },
   "outputs": [],
   "source": [
    "res, jac, statements = ad.diff_adept_rotor_matrix(pi/2, vsr.Vec(1,0,0))"
   ]
  },
  {
   "cell_type": "code",
   "execution_count": 9,
   "metadata": {
    "collapsed": false
   },
   "outputs": [
    {
     "name": "stdout",
     "output_type": "stream",
     "text": [
      "[[ 0.]\n",
      " [ 0.]\n",
      " [ 0.]]\n",
      "[[ 0.]\n",
      " [ 0.]\n",
      " [ 0.]]\n"
     ]
    }
   ],
   "source": [
    "print(res)\n",
    "print(jac)"
   ]
  },
  {
   "cell_type": "code",
   "execution_count": 10,
   "metadata": {
    "collapsed": false
   },
   "outputs": [
    {
     "name": "stdout",
     "output_type": "stream",
     "text": [
      "[[ 0.8776]\n",
      " [ 0.4794]\n",
      " [ 0.    ]]\n",
      "[[-0.4794]\n",
      " [ 0.8776]\n",
      " [ 0.    ]]\n"
     ]
    }
   ],
   "source": [
    "res, jac = ad.diff_ceres_rotor_versor(0.5, vsr.Vec(1,0,0))\n",
    "print(res)\n",
    "print(jac)"
   ]
  },
  {
   "cell_type": "code",
   "execution_count": 11,
   "metadata": {
    "collapsed": false
   },
   "outputs": [
    {
     "name": "stdout",
     "output_type": "stream",
     "text": [
      "[[ 0.]\n",
      " [ 1.]\n",
      " [ 0.]]\n",
      "[[-1.]\n",
      " [ 0.]\n",
      " [ 0.]]\n"
     ]
    }
   ],
   "source": [
    "res, jac, statements = ad.diff_adept_rotor_versor(pi/2, vsr.Vec(1,0,0))\n",
    "print(res)\n",
    "print(jac)\n",
    "# print(statements)"
   ]
  },
  {
   "cell_type": "code",
   "execution_count": 12,
   "metadata": {
    "collapsed": false
   },
   "outputs": [
    {
     "data": {
      "text/plain": [
       "Vec: [ 0.88 0.48 0 ]"
      ]
     },
     "execution_count": 12,
     "metadata": {},
     "output_type": "execute_result"
    }
   ],
   "source": [
    "vsr.Vec(1,0,0).spin(vsr.Rot(cos(0.25), -sin(0.25),0,0))"
   ]
  },
  {
   "cell_type": "code",
   "execution_count": null,
   "metadata": {
    "collapsed": true
   },
   "outputs": [],
   "source": []
  },
  {
   "cell_type": "code",
   "execution_count": 13,
   "metadata": {
    "collapsed": false
   },
   "outputs": [
    {
     "name": "stdout",
     "output_type": "stream",
     "text": [
      "920\n"
     ]
    }
   ],
   "source": [
    "def run_benchmarks(name, repetitions):\n",
    "    proc = subprocess.Popen(['/home/game/game/build/benchmark', \n",
    "                             '--benchmark_format=json', \n",
    "                             '--benchmark_filter={}'.format(name),\n",
    "                             '--benchmark_repetitions={}'.format(repetitions)],\n",
    "                            stdout=subprocess.PIPE)\n",
    "    stdout = proc.communicate()[0]\n",
    "    return json.loads(stdout)\n",
    "\n",
    "benchmarks = run_benchmarks('BM_CeresRotor',1)\n",
    "print(benchmarks['benchmarks'][0]['real_time'])"
   ]
  },
  {
   "cell_type": "markdown",
   "metadata": {},
   "source": [
    "# Motor Estimation\n",
    "## Performance"
   ]
  },
  {
   "cell_type": "code",
   "execution_count": 14,
   "metadata": {
    "collapsed": false
   },
   "outputs": [
    {
     "name": "stdout",
     "output_type": "stream",
     "text": [
      "Mot: [ 0.87 0 -0.5 0 -0.68 -0.43 -0.18 -0.25 ]\n"
     ]
    }
   ],
   "source": [
    "motor = vsr.Vec(1,1,1).trs() * vsr.Rot(vsr.Biv(0,1,0) * np.pi/6.0)\n",
    "print(motor)"
   ]
  },
  {
   "cell_type": "code",
   "execution_count": 15,
   "metadata": {
    "collapsed": false
   },
   "outputs": [],
   "source": [
    "def benchmark_motor_estimation(n_points, num_linear_solver_threads, num_threads):\n",
    "    sigma = 0.09\n",
    "    points_a = [vsr.Vec(*np.random.normal(0.0, 0.8, 3)).null() \n",
    "                for i in range(n_points)]\n",
    "    points_b = [point.spin(motor) for point in points_a]\n",
    "    points_b_noisy = [vsr.Vec(*(np.array(point)[:3] \n",
    "                                + sigma * np.random.randn(3))).null() \n",
    "                      for point in points_b]\n",
    "    initial_motor = vsr.Mot(1.0, 0.0, 0.0, 0.0, 0.0, 0.0, 0.0, 0.0)\n",
    "    mes = MotorEstimationSolver(initial_motor)\n",
    "    for a, b in zip(points_a, points_b_noisy):\n",
    "        mes.add_point_correspondences_residual_block(a,b)\n",
    "    mes.set_parameterization('BIVECTOR_GENERATOR')\n",
    "    mes.linear_solver_type = 'DENSE_QR'\n",
    "    mes.num_linear_solver_threads = num_linear_solver_threads\n",
    "    mes.num_threads = num_threads\n",
    "    (estimated_motor, summary, motors) = mes.solve()\n",
    "#     print(summary['full_report'])\n",
    "    return summary['total_time_in_seconds']"
   ]
  },
  {
   "cell_type": "code",
   "execution_count": 16,
   "metadata": {
    "collapsed": false
   },
   "outputs": [
    {
     "name": "stdout",
     "output_type": "stream",
     "text": [
      "0.00050008401298\n",
      "9.47762783549e-05\n"
     ]
    }
   ],
   "source": [
    "time_10_1_1 = [benchmark_motor_estimation(10, 1,1) for i in range(1000)]\n",
    "print(np.mean(time_10_1_1))\n",
    "print(np.std(time_10_1_1))"
   ]
  },
  {
   "cell_type": "code",
   "execution_count": 31,
   "metadata": {
    "collapsed": false
   },
   "outputs": [
    {
     "name": "stdout",
     "output_type": "stream",
     "text": [
      "0.0476819423995\n",
      "0.00166339272053\n"
     ]
    }
   ],
   "source": [
    "time_100_4_4 = [benchmark_motor_estimation(10000, 128,32) for i in range(100)]\n",
    "print(np.mean(time_100_4_4))\n",
    "print(np.std(time_100_4_4))"
   ]
  },
  {
   "cell_type": "code",
   "execution_count": 18,
   "metadata": {
    "collapsed": true
   },
   "outputs": [],
   "source": [
    "# n_points = [10, 100, 1000, 10000, 100000]\n",
    "n_points = [10]\n",
    "n_linear_solver_threads = [1, 2, 4, 8, 16, 32, 64, 128, 256, 512, 1024, 2048]\n",
    "n_threads = [1, 2, 4, 8, 16, 32, 64, 128, 256, 512, 1024, 2048]"
   ]
  },
  {
   "cell_type": "code",
   "execution_count": 19,
   "metadata": {
    "collapsed": false
   },
   "outputs": [],
   "source": [
    "res = {}\n",
    "for i in n_points:\n",
    "    for j in n_linear_solver_threads:\n",
    "        for k in n_threads:\n",
    "            total_time_in_seconds = benchmark_motor_estimation(i, j, k)\n",
    "            res['{}_{}_{}'.format(i,j,k)] = total_time_in_seconds"
   ]
  },
  {
   "cell_type": "code",
   "execution_count": 20,
   "metadata": {
    "collapsed": false
   },
   "outputs": [
    {
     "name": "stdout",
     "output_type": "stream",
     "text": [
      "{'10_32_8': 0.025593224010663107, '10_2_1024': 0.041082893003476784, '10_1024_16': 0.0011323950020596385, '10_32_16': 0.0008658270089654252, '10_16_2048': 0.08148157800314948, '10_512_4': 0.00047682800504844636, '10_8_256': 0.009256713005015627, '10_128_2048': 0.0783414440084016, '10_512_2': 0.0061107290093787014, '10_64_2': 0.004629538001609035, '10_64_1': 0.0005250029935268685, '10_16_128': 0.007412380000459962, '10_64_4': 0.021858391002751887, '10_1024_8': 0.0005058050010120496, '10_64_8': 0.007026721999864094, '10_1024_4': 0.02503840198914986, '10_1024_2': 0.007055437003145926, '10_1024_1': 0.0005112130020279437, '10_256_32': 0.0012756069918395951, '10_64_256': 0.009087282000109553, '10_1_128': 0.013435982997179963, '10_4_16': 0.0009957559959730133, '10_2048_1': 0.0005131849902682006, '10_2_2048': 0.08146405201114248, '10_16_1024': 0.03737701699719764, '10_512_1024': 0.03114715698757209, '10_8_1024': 0.03170252501149662, '10_16_32': 0.0015387700113933533, '10_1024_64': 0.002502215007552877, '10_16_1': 0.000713866000296548, '10_128_256': 0.009738134991494007, '10_2048_2': 0.0064719390065874904, '10_16_2': 0.007104762000381015, '10_2048_4': 0.025673334996099584, '10_16_4': 0.024790918003418483, '10_2048_8': 0.00044054399768356234, '10_16_8': 0.00047842600906733423, '10_8_128': 0.004405016006785445, '10_256_128': 0.004554021987132728, '10_32_1024': 0.040407922002486885, '10_1024_256': 0.008593156991992146, '10_8_16': 0.0023476240021409467, '10_256_1024': 0.03782693899120204, '10_4_128': 0.005079958005808294, '10_256_64': 0.002040788996964693, '10_4_2048': 0.08422233600867912, '10_32_32': 0.0015747540019219741, '10_256_512': 0.0172629509906983, '10_128_16': 0.0010835410066647455, '10_1_256': 0.016828794992761686, '10_2_128': 0.004701591999037191, '10_2048_1024': 0.038437509996583685, '10_2048_512': 0.01768638100475073, '10_32_256': 0.008777940005529672, '10_2_512': 0.018011013002251275, '10_2_8': 0.002267375006340444, '10_16_256': 0.009785461996216327, '10_1_32': 0.0017133579967776313, '10_2_2': 0.006294222999713384, '10_2_1': 0.0004325280024204403, '10_512_32': 0.0015344050043495372, '10_2_4': 0.026065708007081412, '10_1_4': 0.0004079069913132116, '10_2_64': 0.002395425006398, '10_1_1': 0.0006157439929665998, '10_1_2': 0.0004703430022345856, '10_1_8': 0.04922099800023716, '10_16_16': 0.0026324429927626625, '10_64_1024': 0.039590182990650646, '10_128_128': 0.0047878309997031465, '10_8_512': 0.018750760005787015, '10_128_1024': 0.03863621900381986, '10_32_2048': 0.08338130499760155, '10_4_256': 0.008851557999150828, '10_512_512': 0.01735256498795934, '10_64_2048': 0.08454073299071752, '10_2048_16': 0.0027395740034990013, '10_2_16': 0.0009978739981306717, '10_512_1': 0.0005062139971414581, '10_64_512': 0.019427630002610385, '10_512_8': 0.025606534007238224, '10_4_64': 0.002464913995936513, '10_64_64': 0.002659972000401467, '10_128_32': 0.0015701859956607223, '10_16_64': 0.0023909720039227977, '10_1_2048': 0.07667622000735719, '10_512_2048': 0.076049701005104, '10_2048_64': 0.0026075079949805513, '10_1_16': 0.00303872799850069, '10_8_64': 0.0024979860027087852, '10_8_4': 0.03002462199947331, '10_8_1': 0.0005073729989817366, '10_128_512': 0.018942670998512767, '10_8_2': 0.005107798002427444, '10_512_256': 0.008990359012386762, '10_8_8': 0.0004763670003740117, '10_512_16': 0.0009681130031822249, '10_64_16': 0.001110081997467205, '10_1024_2048': 0.08261017299082596, '10_1_512': 0.035160622996045277, '10_32_64': 0.002408287997241132, '10_1024_1024': 0.03374862999771722, '10_256_4': 0.017162952994112857, '10_4_1024': 0.04415336099918932, '10_256_1': 0.0004375449934741482, '10_2_256': 0.008719361998373643, '10_256_8': 0.015130530999158509, '10_1024_512': 0.020002803998067975, '10_512_64': 0.0024185259972000495, '10_1_64': 0.0031406029884237796, '10_256_256': 0.008924232999561355, '10_2048_32': 0.0015976779977791011, '10_2048_2048': 0.07651433900173288, '10_32_512': 0.016023114003473893, '10_2_32': 0.001638636997085996, '10_1024_32': 0.0015531569952145219, '10_4_1': 0.0005417020001914352, '10_32_2': 0.004749661005917005, '10_32_1': 0.0005653990083374083, '10_4_2': 0.006497526002931409, '10_4_4': 0.025485406993539073, '10_32_128': 0.004743259996757843, '10_32_4': 0.0005077120003988966, '10_4_8': 0.0004892700089840218, '10_64_128': 0.00499473100353498, '10_2048_128': 0.004424290003953502, '10_16_512': 0.014762859995244071, '10_8_2048': 0.0650707489985507, '10_256_16': 0.001106020004954189, '10_256_2048': 0.06355792800604831, '10_128_4': 0.028106648998800665, '10_128_1': 0.0005222359905019403, '10_128_2': 0.006061805004719645, '10_2048_256': 0.007501963991671801, '10_64_32': 0.001523633996839635, '10_128_8': 0.0024207349924836308, '10_4_32': 0.0011747799871955067, '10_128_64': 0.002798130997689441, '10_256_2': 0.005701635003788397, '10_1024_128': 0.0037678660009987652, '10_8_32': 0.0015722549869678915, '10_1_1024': 0.04715788600151427, '10_512_128': 0.004533879007794894, '10_4_512': 0.017537987005198374}\n"
     ]
    }
   ],
   "source": [
    "print(res)"
   ]
  },
  {
   "cell_type": "code",
   "execution_count": 21,
   "metadata": {
    "collapsed": false
   },
   "outputs": [
    {
     "ename": "NameError",
     "evalue": "name 'summary' is not defined",
     "output_type": "error",
     "traceback": [
      "\u001b[1;31m---------------------------------------------------------------------------\u001b[0m",
      "\u001b[1;31mNameError\u001b[0m                                 Traceback (most recent call last)",
      "\u001b[1;32m<ipython-input-21-4fefc5ac07c5>\u001b[0m in \u001b[0;36m<module>\u001b[1;34m()\u001b[0m\n\u001b[1;32m----> 1\u001b[1;33m \u001b[0msummary\u001b[0m\u001b[1;33m[\u001b[0m\u001b[1;34m'jacobian_evaluation_solver_time_in_seconds'\u001b[0m\u001b[1;33m]\u001b[0m\u001b[1;33m\u001b[0m\u001b[0m\n\u001b[0m",
      "\u001b[1;31mNameError\u001b[0m: name 'summary' is not defined"
     ]
    }
   ],
   "source": [
    "summary['jacobian_evaluation_solver_time_in_seconds']"
   ]
  }
 ],
 "metadata": {
  "kernelspec": {
   "display_name": "Python 2",
   "language": "python",
   "name": "python2"
  },
  "language_info": {
   "codemirror_mode": {
    "name": "ipython",
    "version": 2
   },
   "file_extension": ".py",
   "mimetype": "text/x-python",
   "name": "python",
   "nbconvert_exporter": "python",
   "pygments_lexer": "ipython2",
   "version": "2.7.11+"
  },
  "widgets": {
   "state": {},
   "version": "1.1.2"
  }
 },
 "nbformat": 4,
 "nbformat_minor": 0
}
