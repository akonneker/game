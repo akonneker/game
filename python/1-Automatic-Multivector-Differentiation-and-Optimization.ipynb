{
 "cells": [
  {
   "cell_type": "code",
   "execution_count": 1,
   "metadata": {
    "collapsed": true
   },
   "outputs": [],
   "source": [
    "from __future__ import print_function"
   ]
  },
  {
   "cell_type": "code",
   "execution_count": 2,
   "metadata": {
    "collapsed": true
   },
   "outputs": [],
   "source": [
    "import sys\n",
    "sys.path.append('../build/')"
   ]
  },
  {
   "cell_type": "code",
   "execution_count": 3,
   "metadata": {
    "collapsed": false
   },
   "outputs": [
    {
     "name": "stdout",
     "output_type": "stream",
     "text": [
      "Populating the interactive namespace from numpy and matplotlib\n"
     ]
    }
   ],
   "source": [
    "%pylab inline\n",
    "np.set_printoptions(precision=4, suppress=True)"
   ]
  },
  {
   "cell_type": "code",
   "execution_count": 8,
   "metadata": {
    "collapsed": false
   },
   "outputs": [],
   "source": [
    "import versor as vsr\n",
    "import autodiff_multivector as ad\n",
    "from motor_estimation import MotorEstimationSolver"
   ]
  },
  {
   "cell_type": "markdown",
   "metadata": {},
   "source": [
    "# Automatic Multivector Differentiation"
   ]
  },
  {
   "cell_type": "code",
   "execution_count": 6,
   "metadata": {
    "collapsed": false
   },
   "outputs": [
    {
     "name": "stdout",
     "output_type": "stream",
     "text": [
      "[[-5.]\n",
      " [-2.]\n",
      " [ 3.]]\n",
      "[[-0. -1. -1.]\n",
      " [ 1.  0. -1.]\n",
      " [ 1.  1.  0.]]\n"
     ]
    }
   ],
   "source": [
    "jac, statements = ad.diff_ceres(vsr.Vec(1,2,3), vsr.Biv(1,1,1))\n",
    "print(jac)\n",
    "print(statements)"
   ]
  },
  {
   "cell_type": "code",
   "execution_count": 10,
   "metadata": {
    "collapsed": false
   },
   "outputs": [
    {
     "name": "stdout",
     "output_type": "stream",
     "text": [
      "[[ 0. -1. -1.]\n",
      " [ 1.  0. -1.]\n",
      " [ 1.  1.  0.]]\n",
      "1: d[6] = 0\n",
      "2: d[7] = 0\n",
      "3: d[8] = 0\n",
      "4: d[6] =  + -1*d[2] + -3*d[4] + -1*d[1] + -2*d[3]\n",
      "5: d[7] =  + -1*d[2] + -3*d[5] + 1*d[0] + 1*d[3]\n",
      "6: d[8] =  + 1*d[1] + 2*d[5] + 1*d[0] + 1*d[4]\n",
      "\n"
     ]
    }
   ],
   "source": [
    "jac, statements = ad.diff_adept(vsr.Vec(1,2,3), vsr.Biv(1,1,1))\n",
    "print(jac)\n",
    "print(statements)"
   ]
  },
  {
   "cell_type": "code",
   "execution_count": 11,
   "metadata": {
    "collapsed": true
   },
   "outputs": [],
   "source": [
    "import subprocess"
   ]
  },
  {
   "cell_type": "code",
   "execution_count": 40,
   "metadata": {
    "collapsed": false
   },
   "outputs": [
    {
     "data": {
      "text/plain": [
       "'{\\n  \"context\": {\\n    \"date\": \"2016-07-25 13:36:04\",\\n    \"num_cpus\": 12,\\n    \"mhz_per_cpu\": 1200,\\n    \"cpu_scaling_enabled\": true,\\n    \"library_build_type\": \"release\"\\n  },\\n  \"benchmarks\": [\\n    {\\n      \"name\": \"BM_InnerProductVectorBivector\",\\n      \"iterations\": 174501425,\\n      \"real_time\": 4,\\n      \"cpu_time\": 4,\\n      \"time_unit\": \"ns\"\\n    },\\n    {\\n      \"name\": \"BM_AdeptJacobianForward\",\\n      \"iterations\": 296610,\\n      \"real_time\": 2325,\\n      \"cpu_time\": 2320,\\n      \"time_unit\": \"ns\"\\n    },\\n    {\\n      \"name\": \"BM_AdeptJacobianReverse\",\\n      \"iterations\": 330189,\\n      \"real_time\": 1828,\\n      \"cpu_time\": 1829,\\n      \"time_unit\": \"ns\"\\n    },\\n    {\\n      \"name\": \"BM_CeresJacobian\",\\n      \"iterations\": 2160494,\\n      \"real_time\": 324,\\n      \"cpu_time\": 324,\\n      \"time_unit\": \"ns\"\\n    },\\n    {\\n      \"name\": \"BM_InnerProductVectorBivector2\",\\n      \"iterations\": 236486486,\\n      \"real_time\": 3,\\n      \"cpu_time\": 3,\\n      \"time_unit\": \"ns\"\\n    },\\n    {\\n      \"name\": \"BM_AdeptJacobianForward2\",\\n      \"iterations\": 2777778,\\n      \"real_time\": 274,\\n      \"cpu_time\": 274,\\n      \"time_unit\": \"ns\"\\n    },\\n    {\\n      \"name\": \"BM_AdeptJacobianReverse2\",\\n      \"iterations\": 2500000,\\n      \"real_time\": 284,\\n      \"cpu_time\": 285,\\n      \"time_unit\": \"ns\"\\n    },\\n    {\\n      \"name\": \"BM_CeresJacobian2\",\\n      \"iterations\": 2187500,\\n      \"real_time\": 316,\\n      \"cpu_time\": 315,\\n      \"time_unit\": \"ns\"\\n    },\\n    {\\n      \"name\": \"BM_MotorSpinPoint\",\\n      \"iterations\": 15625000,\\n      \"real_time\": 45,\\n      \"cpu_time\": 45,\\n      \"time_unit\": \"ns\"\\n    },\\n    {\\n      \"name\": \"BM_AdeptMotorSpinPointJacobianForward\",\\n      \"iterations\": 30172,\\n      \"real_time\": 27399,\\n      \"cpu_time\": 27443,\\n      \"time_unit\": \"ns\"\\n    },\\n    {\\n      \"name\": \"BM_AdeptMotorSpinPointJacobianReverse\",\\n      \"iterations\": 23649,\\n      \"real_time\": 24609,\\n      \"cpu_time\": 24694,\\n      \"time_unit\": \"ns\"\\n    },\\n    {\\n      \"name\": \"BM_CeresMotorSpinPointJacobian\",\\n      \"iterations\": 125000,\\n      \"real_time\": 5834,\\n      \"cpu_time\": 5856,\\n      \"time_unit\": \"ns\"\\n    }\\n  ]\\n}\\n'"
      ]
     },
     "execution_count": 40,
     "metadata": {},
     "output_type": "execute_result"
    }
   ],
   "source": [
    "def run_benchmarks():\n",
    "    proc = subprocess.Popen(['/home/game/game/build/benchmark', '--benchmark_format=json'],\n",
    "                            stdout=subprocess.PIPE)\n",
    "    stdout = proc.communicate()[0]\n",
    "    return stdout\n",
    "\n",
    "run_benchmarks()"
   ]
  },
  {
   "cell_type": "code",
   "execution_count": 33,
   "metadata": {
    "collapsed": false
   },
   "outputs": [],
   "source": [
    "import json"
   ]
  },
  {
   "cell_type": "code",
   "execution_count": 34,
   "metadata": {
    "collapsed": false
   },
   "outputs": [
    {
     "name": "stdout",
     "output_type": "stream",
     "text": [
      "{\n",
      "  \"context\": {\n",
      "    \"date\": \"2016-07-25 13:30:07\",\n",
      "    \"num_cpus\": 12,\n",
      "    \"mhz_per_cpu\": 1222,\n",
      "    \"cpu_scaling_enabled\": true,\n",
      "    \"library_build_type\": \"release\"\n",
      "  },\n",
      "  \"benchmarks\": [\n",
      "    {\n",
      "      \"name\": \"BM_InnerProductVectorBivector\",\n",
      "      \"iterations\": 164650538,\n",
      "      \"real_time\": 4,\n",
      "      \"cpu_time\": 4,\n",
      "      \"time_unit\": \"ns\"\n",
      "    },\n",
      "    {\n",
      "      \"name\": \"BM_AdeptJacobianForward\",\n",
      "      \"iterations\": 324074,\n",
      "      \"real_time\": 1959,\n",
      "      \"cpu_time\": 1950,\n",
      "      \"time_unit\": \"ns\"\n",
      "    },\n",
      "    {\n",
      "      \"name\": \"BM_AdeptJacobianReverse\",\n",
      "      \"iterations\": 336538,\n",
      "      \"real_time\": 1842,\n",
      "      \"cpu_time\": 1842,\n",
      "      \"time_unit\": \"ns\"\n",
      "    },\n",
      "    {\n",
      "      \"name\": \"BM_CeresJacobian\",\n",
      "      \"iterations\": 1988636,\n",
      "      \"real_time\": 334,\n",
      "      \"cpu_time\": 334,\n",
      "      \"time_unit\": \"ns\"\n",
      "    },\n",
      "    {\n",
      "      \"name\": \"BM_InnerProductVectorBivector2\",\n",
      "      \"iterations\": 230263158,\n",
      "      \"real_time\": 3,\n",
      "      \"cpu_time\": 3,\n",
      "      \"time_unit\": \"ns\"\n",
      "    },\n",
      "    {\n",
      "      \"name\": \"BM_AdeptJacobianForward2\",\n",
      "      \"iterations\": 2611940,\n",
      "      \"real_time\": 267,\n",
      "      \"cpu_time\": 266,\n",
      "      \"time_unit\": \"ns\"\n",
      "    },\n",
      "    {\n",
      "      \"name\": \"BM_AdeptJacobianReverse2\",\n",
      "      \"iterations\": 2916667,\n",
      "      \"real_time\": 271,\n",
      "      \"cpu_time\": 272,\n",
      "      \"time_unit\": \"ns\"\n",
      "    },\n",
      "    {\n",
      "      \"name\": \"BM_CeresJacobian2\",\n",
      "      \"iterations\": 2302632,\n",
      "      \"real_time\": 263,\n",
      "      \"cpu_time\": 262,\n",
      "      \"time_unit\": \"ns\"\n",
      "    },\n",
      "    {\n",
      "      \"name\": \"BM_MotorSpinPoint\",\n",
      "      \"iterations\": 15486726,\n",
      "      \"real_time\": 50,\n",
      "      \"cpu_time\": 50,\n",
      "      \"time_unit\": \"ns\"\n",
      "    },\n",
      "    {\n",
      "      \"name\": \"BM_AdeptMotorSpinPointJacobianForward\",\n",
      "      \"iterations\": 25362,\n",
      "      \"real_time\": 26657,\n",
      "      \"cpu_time\": 26654,\n",
      "      \"time_unit\": \"ns\"\n",
      "    },\n",
      "    {\n",
      "      \"name\": \"BM_AdeptMotorSpinPointJacobianReverse\",\n",
      "      \"iterations\": 28689,\n",
      "      \"real_time\": 23952,\n",
      "      \"cpu_time\": 23981,\n",
      "      \"time_unit\": \"ns\"\n",
      "    },\n",
      "    {\n",
      "      \"name\": \"BM_CeresMotorSpinPointJacobian\",\n",
      "      \"iterations\": 125000,\n",
      "      \"real_time\": 5898,\n",
      "      \"cpu_time\": 5920,\n",
      "      \"time_unit\": \"ns\"\n",
      "    }\n",
      "  ]\n",
      "}\n",
      "\n"
     ]
    }
   ],
   "source": [
    "print(stdout)"
   ]
  },
  {
   "cell_type": "code",
   "execution_count": 37,
   "metadata": {
    "collapsed": false
   },
   "outputs": [
    {
     "name": "stdout",
     "output_type": "stream",
     "text": [
      "BM_InnerProductVectorBivector\n",
      "BM_AdeptJacobianForward\n",
      "BM_AdeptJacobianReverse\n",
      "BM_CeresJacobian\n",
      "BM_InnerProductVectorBivector2\n",
      "BM_AdeptJacobianForward2\n",
      "BM_AdeptJacobianReverse2\n",
      "BM_CeresJacobian2\n",
      "BM_MotorSpinPoint\n",
      "BM_AdeptMotorSpinPointJacobianForward\n",
      "BM_AdeptMotorSpinPointJacobianReverse\n",
      "BM_CeresMotorSpinPointJacobian\n"
     ]
    },
    {
     "data": {
      "text/plain": [
       "[None, None, None, None, None, None, None, None, None, None, None, None]"
      ]
     },
     "execution_count": 37,
     "metadata": {},
     "output_type": "execute_result"
    }
   ],
   "source": [
    "bm = json.loads(stdout)\n",
    "[print(bm['name']) for bm in bm['benchmarks']]"
   ]
  }
 ],
 "metadata": {
  "kernelspec": {
   "display_name": "Python 2",
   "language": "python",
   "name": "python2"
  },
  "language_info": {
   "codemirror_mode": {
    "name": "ipython",
    "version": 2
   },
   "file_extension": ".py",
   "mimetype": "text/x-python",
   "name": "python",
   "nbconvert_exporter": "python",
   "pygments_lexer": "ipython2",
   "version": "2.7.11+"
  },
  "widgets": {
   "state": {},
   "version": "1.1.2"
  }
 },
 "nbformat": 4,
 "nbformat_minor": 0
}
