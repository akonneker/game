{
 "cells": [
  {
   "cell_type": "code",
   "execution_count": 2,
   "metadata": {
    "collapsed": false
   },
   "outputs": [
    {
     "name": "stdout",
     "output_type": "stream",
     "text": [
      "Populating the interactive namespace from numpy and matplotlib\n"
     ]
    },
    {
     "data": {
      "text/plain": [
       "'1.10.1'"
      ]
     },
     "execution_count": 2,
     "metadata": {},
     "output_type": "execute_result"
    }
   ],
   "source": [
    "%pylab inline\n",
    "np.set_printoptions(precision=4, suppress=True)\n",
    "from transformations import rotation_matrix\n",
    "np.__version__"
   ]
  },
  {
   "cell_type": "code",
   "execution_count": 3,
   "metadata": {
    "collapsed": false
   },
   "outputs": [],
   "source": [
    "gp_table = np.array([1,  2,  3,  4,  5,  6,  7,  8,\n",
    "                     2,  1,  7, -6,  8, -4,  3,  5,\n",
    "                     3, -7,  1,  5,  4,  8, -2,  6,\n",
    "                     4,  6, -5,  1, -3,  2,  8,  7,\n",
    "                     5,  8, -4,  3, -1, -7,  6, -2,\n",
    "                     6,  4,  8, -2,  7, -1, -5, -3,\n",
    "                     7, -3,  2,  8, -6,  5, -1, -4, \n",
    "                     8,  5,  6,  7, -2, -3, -4, -1]).reshape(8,8)\n",
    "\n",
    "def gp_tensor():\n",
    "    dim = 8\n",
    "    tensor = np.zeros((8,8,8))\n",
    "    for k in range(dim):\n",
    "        for i in range(dim):\n",
    "            for j in range(dim):\n",
    "                val = gp_table[i,j]\n",
    "                if abs(val) == k + 1:\n",
    "                    tensor[k,i,j] = np.sign(val)\n",
    "    return tensor\n",
    "\n",
    "def gp_left_matrix(multivector):\n",
    "    tensor = gp_tensor()\n",
    "    matrix = np.zeros((8,8))\n",
    "    for i in range(8):\n",
    "        t = tensor[i,:,:]\n",
    "        matrix[i,:] = np.inner(t.T,multivector.T).reshape(-1)\n",
    "    return matrix\n",
    "\n",
    "def gp_right_matrix(multivector):\n",
    "    tensor = gp_tensor()\n",
    "    matrix = np.zeros((8,8))\n",
    "    for i in range(8):\n",
    "        t = tensor[i,:,:]\n",
    "        matrix[i,:] = np.inner(multivector.T,t).reshape(-1)\n",
    "    return matrix"
   ]
  },
  {
   "cell_type": "code",
   "execution_count": 23,
   "metadata": {
    "collapsed": false
   },
   "outputs": [
    {
     "name": "stdout",
     "output_type": "stream",
     "text": [
      "[[ 0.5    0.     0.866]\n",
      " [ 0.     1.     0.   ]\n",
      " [-0.866  0.     0.5  ]]\n"
     ]
    },
    {
     "data": {
      "text/plain": [
       "array([[ 0.5  ],\n",
       "       [ 0.   ],\n",
       "       [-0.866]])"
      ]
     },
     "execution_count": 23,
     "metadata": {},
     "output_type": "execute_result"
    }
   ],
   "source": [
    "angle = pi/3\n",
    "R = rotation_matrix(angle, [0,1,0])[:3,:3]\n",
    "print(R)\n",
    "np.dot(R, np.array([1,0,0]).reshape(3,1))"
   ]
  },
  {
   "cell_type": "code",
   "execution_count": 24,
   "metadata": {
    "collapsed": false
   },
   "outputs": [],
   "source": [
    "A1 = np.array([0.0,         1.0,        0.0, 0.0, 0.0, 0.0, 0.0, 0.0]).reshape(8,1)\n",
    "A2 = np.array([0.0,         0.0,        0.0, 1.0, 0.0, 0.0, 0.0, 0.0]).reshape(8,1)\n",
    "B1 = np.array([0.0,  cos(angle), 0.0, -sin(angle), 0.0, 0.0, 0.0, 0.0]).reshape(8,1)\n",
    "B2 = np.array([0.0, sin(angle), 0.0, cos(angle), 0.0, 0.0, 0.0, 0.0]).reshape(8,1)"
   ]
  },
  {
   "cell_type": "code",
   "execution_count": 25,
   "metadata": {
    "collapsed": false
   },
   "outputs": [
    {
     "data": {
      "text/plain": [
       "array([[ 0.],\n",
       "       [ 1.],\n",
       "       [ 0.],\n",
       "       [ 0.],\n",
       "       [ 0.],\n",
       "       [ 0.],\n",
       "       [ 0.],\n",
       "       [ 0.]])"
      ]
     },
     "execution_count": 25,
     "metadata": {},
     "output_type": "execute_result"
    }
   ],
   "source": [
    "A1"
   ]
  },
  {
   "cell_type": "code",
   "execution_count": 26,
   "metadata": {
    "collapsed": false
   },
   "outputs": [
    {
     "name": "stdout",
     "output_type": "stream",
     "text": [
      "(16, 8)\n"
     ]
    }
   ],
   "source": [
    "gp_a = np.row_stack([gp_right_matrix(A1),gp_right_matrix(A2)])\n",
    "b_gp = np.row_stack([gp_left_matrix(B1),gp_left_matrix(B2)])\n",
    "m = gp_a - b_gp\n",
    "print(m.shape)"
   ]
  },
  {
   "cell_type": "code",
   "execution_count": 27,
   "metadata": {
    "collapsed": false
   },
   "outputs": [
    {
     "data": {
      "text/plain": [
       "array([[ 0.   ,  0.5  ,  0.   , -0.866,  0.   ,  0.   ,  0.   ,  0.   ],\n",
       "       [ 0.5  ,  0.   ,  0.   ,  0.   ,  0.   ,  0.866,  0.   ,  0.   ],\n",
       "       [ 0.   ,  0.   ,  0.   ,  0.   , -0.866,  0.   , -0.5  ,  0.   ],\n",
       "       [-0.866,  0.   ,  0.   ,  0.   ,  0.   ,  0.5  ,  0.   ,  0.   ],\n",
       "       [ 0.   ,  0.   , -0.866,  0.   ,  0.   ,  0.   ,  0.   ,  0.5  ],\n",
       "       [ 0.   ,  0.866,  0.   ,  0.5  ,  0.   ,  0.   ,  0.   ,  0.   ],\n",
       "       [ 0.   ,  0.   , -0.5  ,  0.   ,  0.   ,  0.   ,  0.   , -0.866],\n",
       "       [ 0.   ,  0.   ,  0.   ,  0.   ,  0.5  ,  0.   , -0.866,  0.   ],\n",
       "       [ 0.   ,  0.866,  0.   ,  0.5  ,  0.   ,  0.   ,  0.   ,  0.   ],\n",
       "       [ 0.866,  0.   ,  0.   ,  0.   ,  0.   , -0.5  ,  0.   ,  0.   ],\n",
       "       [ 0.   ,  0.   ,  0.   ,  0.   ,  0.5  ,  0.   , -0.866,  0.   ],\n",
       "       [ 0.5  ,  0.   ,  0.   ,  0.   ,  0.   ,  0.866,  0.   ,  0.   ],\n",
       "       [ 0.   ,  0.   ,  0.5  ,  0.   ,  0.   ,  0.   ,  0.   ,  0.866],\n",
       "       [ 0.   , -0.5  ,  0.   ,  0.866,  0.   ,  0.   ,  0.   ,  0.   ],\n",
       "       [ 0.   ,  0.   , -0.866,  0.   ,  0.   ,  0.   ,  0.   ,  0.5  ],\n",
       "       [ 0.   ,  0.   ,  0.   ,  0.   ,  0.866,  0.   ,  0.5  ,  0.   ]])"
      ]
     },
     "execution_count": 27,
     "metadata": {},
     "output_type": "execute_result"
    }
   ],
   "source": [
    "b_gp"
   ]
  },
  {
   "cell_type": "code",
   "execution_count": 31,
   "metadata": {
    "collapsed": false
   },
   "outputs": [
    {
     "name": "stdout",
     "output_type": "stream",
     "text": [
      "[-0.     -0.      0.7071 -0.5     0.      0.5    -0.     -0.    ]\n"
     ]
    }
   ],
   "source": [
    "[U,s,Vt] = np.linalg.svd(m)\n",
    "rotor = Vt.T[:,-1]\n",
    "print(rotor)"
   ]
  },
  {
   "cell_type": "code",
   "execution_count": 29,
   "metadata": {
    "collapsed": false
   },
   "outputs": [
    {
     "name": "stdout",
     "output_type": "stream",
     "text": [
      "[[-1.  0. -0.]\n",
      " [-0.  1.  0.]\n",
      " [ 0.  0. -1.]]\n"
     ]
    }
   ],
   "source": [
    "from transformations import quaternion_matrix\n",
    "R_est = quaternion_matrix([-rotor[4], rotor[5], -rotor[6], rotor[0]])[:3,:3]\n",
    "print(R_est)"
   ]
  },
  {
   "cell_type": "code",
   "execution_count": 30,
   "metadata": {
    "collapsed": false
   },
   "outputs": [
    {
     "data": {
      "text/plain": [
       "False"
      ]
     },
     "execution_count": 30,
     "metadata": {},
     "output_type": "execute_result"
    }
   ],
   "source": [
    "np.allclose(R,R_est)"
   ]
  },
  {
   "cell_type": "code",
   "execution_count": null,
   "metadata": {
    "collapsed": true
   },
   "outputs": [],
   "source": []
  }
 ],
 "metadata": {
  "kernelspec": {
   "display_name": "Python 2",
   "language": "python",
   "name": "python2"
  },
  "language_info": {
   "codemirror_mode": {
    "name": "ipython",
    "version": 2
   },
   "file_extension": ".py",
   "mimetype": "text/x-python",
   "name": "python",
   "nbconvert_exporter": "python",
   "pygments_lexer": "ipython2",
   "version": "2.7.6"
  }
 },
 "nbformat": 4,
 "nbformat_minor": 0
}
