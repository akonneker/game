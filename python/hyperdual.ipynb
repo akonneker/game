{
 "cells": [
  {
   "cell_type": "code",
   "execution_count": 1,
   "metadata": {
    "collapsed": false
   },
   "outputs": [
    {
     "name": "stdout",
     "output_type": "stream",
     "text": [
      "Populating the interactive namespace from numpy and matplotlib\n"
     ]
    }
   ],
   "source": [
    "from __future__ import print_function\n",
    "import sys\n",
    "sys.path.append('../build/')\n",
    "%pylab inline\n",
    "np.set_printoptions(precision=4, suppress=True)\n",
    "import versor as vsr\n",
    "import hyperdual\n",
    "import motor_jacobian"
   ]
  },
  {
   "cell_type": "code",
   "execution_count": 2,
   "metadata": {
    "collapsed": false
   },
   "outputs": [],
   "source": [
    "rotor = (vsr.Biv(1,0,0).unit() * pi/6).exp()\n",
    "rotor1 = vsr.Rot(1,0,0,0)\n",
    "a = vsr.Vec(1,0,0)\n",
    "b = a.spin(rotor)"
   ]
  },
  {
   "cell_type": "code",
   "execution_count": 3,
   "metadata": {
    "collapsed": false
   },
   "outputs": [],
   "source": [
    "# hyperdual.hyperdual1(a,b,rotor)"
   ]
  },
  {
   "cell_type": "code",
   "execution_count": 4,
   "metadata": {
    "collapsed": false
   },
   "outputs": [],
   "source": [
    "# hyperdual.hyperdual2(a,b,rotor)"
   ]
  },
  {
   "cell_type": "code",
   "execution_count": 5,
   "metadata": {
    "collapsed": true
   },
   "outputs": [],
   "source": [
    " def jacrot(a, rot):\n",
    "    j = np.zeros((3,3))\n",
    "    for i in range(3):\n",
    "        biv = vsr.Biv(0.0, 0.0, 0.0)\n",
    "        biv[i] = 1.0\n",
    "        j[:,i] = 2.0 * np.array(biv.comm(a.spin(rot))) # Wrong sign?\n",
    "    return j"
   ]
  },
  {
   "cell_type": "code",
   "execution_count": 6,
   "metadata": {
    "collapsed": false
   },
   "outputs": [
    {
     "name": "stdout",
     "output_type": "stream",
     "text": [
      "[[ 0.  0.  0.]\n",
      " [-2.  0.  0.]\n",
      " [ 0. -2.  0.]]\n"
     ]
    }
   ],
   "source": [
    "J = jacrot(a,rotor1)\n",
    "print(J)"
   ]
  },
  {
   "cell_type": "code",
   "execution_count": 7,
   "metadata": {
    "collapsed": false
   },
   "outputs": [
    {
     "data": {
      "text/plain": [
       "Biv: [ 1.732 0 0 ]"
      ]
     },
     "execution_count": 7,
     "metadata": {},
     "output_type": "execute_result"
    }
   ],
   "source": [
    "a ^ b * 2"
   ]
  },
  {
   "cell_type": "code",
   "execution_count": 8,
   "metadata": {
    "collapsed": false
   },
   "outputs": [
    {
     "name": "stdout",
     "output_type": "stream",
     "text": [
      "[ 1.7321  0.      0.    ]\n",
      "\n",
      "[[ 3.      0.      0.    ]\n",
      " [ 0.      3.      1.7321]\n",
      " [ 0.      1.7321  1.    ]]\n"
     ]
    }
   ],
   "source": [
    "res, grad, H = hyperdual.hyperdualB(a, b, rotor1) \n",
    "print(grad)\n",
    "print()\n",
    "print(H)"
   ]
  },
  {
   "cell_type": "code",
   "execution_count": 9,
   "metadata": {
    "collapsed": true
   },
   "outputs": [],
   "source": [
    "vectors_a = [vsr.Vec(1,0,0), vsr.Vec(0,1,0), vsr.Vec(0,0,1)]\n",
    "vectors_b = [a.spin(rotor) for a in vectors_a]"
   ]
  },
  {
   "cell_type": "code",
   "execution_count": 10,
   "metadata": {
    "collapsed": true
   },
   "outputs": [],
   "source": [
    "n_points=10\n",
    "vectors_a = [vsr.Vec(*np.random.normal(0.0, 0.8, 3)) for i in range(n_points)]\n",
    "vectors_b = [vector.spin(rotor) for vector in vectors_a]"
   ]
  },
  {
   "cell_type": "code",
   "execution_count": 11,
   "metadata": {
    "collapsed": false
   },
   "outputs": [],
   "source": [
    "def update(rot):\n",
    "    ans = [hyperdual.hyperdualB(a,b,rot) for a,b in zip(vectors_a, vectors_b)]\n",
    "    res = np.sum([t[0] for t in ans])\n",
    "    grad = np.sum([t[1] for t in ans], axis=0)\n",
    "    Hess = np.sum([t[2] for t in ans], axis=0)\n",
    "    B = np.dot(np.linalg.pinv(Hess),grad)\n",
    "    rot = vsr.Biv(*B).exp() * rot\n",
    "    grad_norm = np.linalg.norm(grad)\n",
    "    return rot, res, grad_norm"
   ]
  },
  {
   "cell_type": "code",
   "execution_count": 12,
   "metadata": {
    "collapsed": false
   },
   "outputs": [
    {
     "name": "stdout",
     "output_type": "stream",
     "text": [
      "8.17753306669\n",
      "0.0944158864625\n",
      "8.78592360236e-08\n",
      "Rot: [ 0.87 -0.5 2.2e-18 -3.1e-17 ]\n"
     ]
    }
   ],
   "source": [
    "rot = vsr.Rot(1,0,0,0)\n",
    "for i in range(3):\n",
    "    rot, res, grad_norm = update(rot)\n",
    "    print(res)\n",
    "print(rot)"
   ]
  },
  {
   "cell_type": "code",
   "execution_count": 13,
   "metadata": {
    "collapsed": false
   },
   "outputs": [
    {
     "name": "stdout",
     "output_type": "stream",
     "text": [
      "[[ 65.4203 -11.0731   5.3403]\n",
      " [-11.0731  64.1451   1.8383]\n",
      " [  5.3403   1.8383  44.7531]]\n"
     ]
    }
   ],
   "source": [
    "rot = vsr.Rot(1,0,0,0)\n",
    "J = np.array([jacrot(a,rot) for a in vectors_a]).reshape(-1,3)\n",
    "print(np.dot(J.T,J))"
   ]
  },
  {
   "cell_type": "code",
   "execution_count": 14,
   "metadata": {
    "collapsed": false
   },
   "outputs": [
    {
     "name": "stdout",
     "output_type": "stream",
     "text": [
      "[[ 49.0652 -10.6172  -0.7896]\n",
      " [-10.6172  57.7051   9.3161]\n",
      " [ -0.7896   9.3161  51.1931]]\n"
     ]
    }
   ],
   "source": [
    "Hess = np.sum([hyperdual.hyperdualB(a,b,rot)[2] for a,b in zip(vectors_a, vectors_b)], axis=0)\n",
    "print(Hess)"
   ]
  },
  {
   "cell_type": "code",
   "execution_count": 15,
   "metadata": {
    "collapsed": false
   },
   "outputs": [],
   "source": [
    "motor1 = vsr.Mot(1,0,0,0,0,0,0,0)\n",
    "motor = vsr.Vec(1,1,1).trs() * vsr.Rot(vsr.Biv(0,1,0) * np.pi/6.0)\n",
    "points_a = [a.null() for a in vectors_a]\n",
    "points_b = [a.spin(motor) for a in points_a]\n",
    "a = points_a[0]\n",
    "b = points_b[0]"
   ]
  },
  {
   "cell_type": "code",
   "execution_count": 16,
   "metadata": {
    "collapsed": false
   },
   "outputs": [
    {
     "name": "stdout",
     "output_type": "stream",
     "text": [
      "[[ 0.463  -0.7886  0.5791 -1.7956 -0.2651  0.    ]\n",
      " [-0.7886  0.7801 -1.9809  0.9857  0.     -0.2651]\n",
      " [ 0.5791 -1.9809  4.0351  0.      0.9857  1.7956]\n",
      " [-1.7956  0.9857  0.      4.      0.      0.    ]\n",
      " [-0.2651  0.      0.9857  0.      4.      0.    ]\n",
      " [ 0.     -0.2651  1.7956  0.      0.      4.    ]]\n"
     ]
    }
   ],
   "source": [
    "motor0 = vsr.Mot(1,0,0,0,0,0,0,0)\n",
    "r,g,H = hyperdual.hyperdualmotor(a,b, motor0)\n",
    "# print(g)\n",
    "print(H)"
   ]
  },
  {
   "cell_type": "code",
   "execution_count": 17,
   "metadata": {
    "collapsed": true
   },
   "outputs": [],
   "source": [
    "ans = [hyperdual.hyperdualmotor(a,b,motor0) for a,b in zip(points_a, points_b)]\n",
    "res = np.sum([t[0] for t in ans])\n",
    "grad = np.sum([t[1] for t in ans], axis=0)\n",
    "Hess = np.sum([t[2] for t in ans], axis=0)"
   ]
  },
  {
   "cell_type": "code",
   "execution_count": 18,
   "metadata": {
    "collapsed": false
   },
   "outputs": [
    {
     "name": "stdout",
     "output_type": "stream",
     "text": [
      "[-16.8065  34.9785  23.2384  32.7579  20.      21.8544]\n"
     ]
    }
   ],
   "source": [
    "print(grad)"
   ]
  },
  {
   "cell_type": "code",
   "execution_count": 19,
   "metadata": {
    "collapsed": false
   },
   "outputs": [
    {
     "name": "stdout",
     "output_type": "stream",
     "text": [
      "[[ 79.7794 -11.7864  10.4699 -35.3965  23.2119   0.    ]\n",
      " [-11.7864  23.6617   9.0987   2.0974   0.      23.2119]\n",
      " [ 10.4699   9.0987  45.7905   0.       2.0974  35.3965]\n",
      " [-35.3965   2.0974   0.      40.       0.       0.    ]\n",
      " [ 23.2119   0.       2.0974   0.      40.       0.    ]\n",
      " [  0.      23.2119  35.3965   0.       0.      40.    ]]\n"
     ]
    }
   ],
   "source": [
    "print(Hess)"
   ]
  },
  {
   "cell_type": "code",
   "execution_count": 20,
   "metadata": {
    "collapsed": false
   },
   "outputs": [],
   "source": [
    "def update(rot):\n",
    "    ans = [hyperdual.hyperdualmotor(a,b,rot) for a,b in zip(points_a, points_b)]\n",
    "    res = np.sum([t[0] for t in ans])\n",
    "    grad = np.sum([t[1] for t in ans], axis=0)\n",
    "    Hess = np.sum([t[2] for t in ans], axis=0)\n",
    "    B = -np.dot(np.linalg.pinv(Hess),grad)\n",
    "    rot = vsr.Dll(*B).exp() * rot\n",
    "    grad_norm = np.linalg.norm(grad)\n",
    "    return rot, res, grad_norm"
   ]
  },
  {
   "cell_type": "code",
   "execution_count": 21,
   "metadata": {
    "collapsed": false
   },
   "outputs": [
    {
     "name": "stdout",
     "output_type": "stream",
     "text": [
      "30.3242872198\n",
      "Mot: [ 0.68 -0.051 -0.59 -0.44 -0.08 0.11 0.71 0.094 ]\n",
      "13.6474440534\n",
      "Mot: [ 0.91 -0.038 -0.41 -0.0099 -0.78 -0.47 -0.28 -0.19 ]\n",
      "0.331908566537\n",
      "Mot: [ 0.87 -0.0031 -0.49 -0.0043 -0.69 -0.43 -0.19 -0.24 ]\n",
      "0.00160808395415\n",
      "Mot: [ 0.87 3.4e-07 -0.5 8.3e-07 -0.68 -0.43 -0.18 -0.25 ]\n",
      "1.83237476235e-11\n",
      "Mot: [ 0.87 3.4e-07 -0.5 8.3e-07 -0.68 -0.43 -0.18 -0.25 ]\n",
      "5\n"
     ]
    }
   ],
   "source": [
    "rot = vsr.Mot(1,0,0,0,0,0,0,0)\n",
    "res = 1e6\n",
    "i = 0\n",
    "while res > 1e-6:\n",
    "    i += 1\n",
    "    rot, res, grad_norm = update(rot)\n",
    "    print(res)\n",
    "    print(rot)\n",
    "print(i)"
   ]
  },
  {
   "cell_type": "code",
   "execution_count": 22,
   "metadata": {
    "collapsed": false
   },
   "outputs": [
    {
     "name": "stdout",
     "output_type": "stream",
     "text": [
      "Mot: [ 1 1.2e-07 7.5e-07 -8.9e-07 1.5e-07 -1.6e-07 1.3e-07 0 ]\n"
     ]
    }
   ],
   "source": [
    "print(rot.rev() * motor)"
   ]
  },
  {
   "cell_type": "code",
   "execution_count": 23,
   "metadata": {
    "collapsed": true
   },
   "outputs": [],
   "source": [
    "import motor_jacobian"
   ]
  },
  {
   "cell_type": "code",
   "execution_count": 24,
   "metadata": {
    "collapsed": false
   },
   "outputs": [],
   "source": [
    "def jacmot(a,mot):\n",
    "    j = np.zeros((3,6))\n",
    "    for i in range(6):\n",
    "        dll = vsr.Dll(0.0, 0.0, 0.0, 0.0, 0.0, 0.0)\n",
    "        dll[i] = 1.0\n",
    "        j[:,i] = 2. * np.array(dll.comm(a.spin(mot)))[:3]\n",
    "    return j"
   ]
  },
  {
   "cell_type": "code",
   "execution_count": 25,
   "metadata": {
    "collapsed": false
   },
   "outputs": [],
   "source": [
    "J = np.array([jacmot(a,motor0) for a in points_a]).reshape(-1,6)"
   ]
  },
  {
   "cell_type": "code",
   "execution_count": 26,
   "metadata": {
    "collapsed": false
   },
   "outputs": [
    {
     "data": {
      "text/plain": [
       "array([[ 65.4203, -11.0731,   5.3403, -15.3965,  -9.5461,   0.    ],\n",
       "       [-11.0731,  64.1451,   1.8383,  23.9517,   0.    ,  -9.5461],\n",
       "       [  5.3403,   1.8383,  44.7531,   0.    ,  23.9517,  15.3965],\n",
       "       [-15.3965,  23.9517,   0.    ,  40.    ,   0.    ,   0.    ],\n",
       "       [ -9.5461,   0.    ,  23.9517,   0.    ,  40.    ,   0.    ],\n",
       "       [  0.    ,  -9.5461,  15.3965,   0.    ,   0.    ,  40.    ]])"
      ]
     },
     "execution_count": 26,
     "metadata": {},
     "output_type": "execute_result"
    }
   ],
   "source": [
    "np.dot(J.T,J)"
   ]
  },
  {
   "cell_type": "code",
   "execution_count": null,
   "metadata": {
    "collapsed": true
   },
   "outputs": [],
   "source": []
  }
 ],
 "metadata": {
  "kernelspec": {
   "display_name": "Python 2",
   "language": "python",
   "name": "python2"
  },
  "language_info": {
   "codemirror_mode": {
    "name": "ipython",
    "version": 2
   },
   "file_extension": ".py",
   "mimetype": "text/x-python",
   "name": "python",
   "nbconvert_exporter": "python",
   "pygments_lexer": "ipython2",
   "version": "2.7.12"
  }
 },
 "nbformat": 4,
 "nbformat_minor": 1
}
