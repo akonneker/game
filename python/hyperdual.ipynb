{
 "cells": [
  {
   "cell_type": "code",
   "execution_count": 16,
   "metadata": {
    "collapsed": false
   },
   "outputs": [
    {
     "name": "stdout",
     "output_type": "stream",
     "text": [
      "Populating the interactive namespace from numpy and matplotlib\n"
     ]
    },
    {
     "name": "stderr",
     "output_type": "stream",
     "text": [
      "/usr/lib/python3.5/site-packages/IPython/core/magics/pylab.py:161: UserWarning: pylab import has clobbered these variables: ['Inf']\n",
      "`%matplotlib` prevents importing * from pylab and numpy\n",
      "  \"\\n`%matplotlib` prevents importing * from pylab and numpy\"\n"
     ]
    }
   ],
   "source": [
    "from __future__ import print_function\n",
    "import sys\n",
    "sys.path.append('../build/')\n",
    "%pylab inline\n",
    "np.set_printoptions(precision=4, suppress=True)\n",
    "import versor as vsr\n",
    "import hyperdual\n",
    "from versor.drawing import *"
   ]
  },
  {
   "cell_type": "code",
   "execution_count": 30,
   "metadata": {
    "collapsed": false
   },
   "outputs": [],
   "source": [
    "th = pi/6\n",
    "B = vsr.EGA(vsr.Biv(1,0,0)) * np.tan(th/2)\n",
    "B\n",
    "one = vsr.EGA(1,0,0,0,0,0,0,0)"
   ]
  },
  {
   "cell_type": "code",
   "execution_count": 33,
   "metadata": {
    "collapsed": false
   },
   "outputs": [
    {
     "data": {
      "text/plain": [
       "EGA: [ 0 2.2 0.13 3 0 0 0 0 ]"
      ]
     },
     "execution_count": 33,
     "metadata": {},
     "output_type": "execute_result"
    }
   ],
   "source": [
    "vsr.EGA(vsr.Vec(1,2,3)).spin((one + B) * (one - B).inv())"
   ]
  },
  {
   "cell_type": "code",
   "execution_count": 35,
   "metadata": {
    "collapsed": false
   },
   "outputs": [
    {
     "data": {
      "text/plain": [
       "EGA: [ 0 2.2 0.13 3 0 0 0 0 ]"
      ]
     },
     "execution_count": 35,
     "metadata": {},
     "output_type": "execute_result"
    }
   ],
   "source": [
    "vsr.EGA(vsr.Vec(1,2,3)).spin(vsr.EGA(vsr.Biv(-th,0,0).exp()))"
   ]
  },
  {
   "cell_type": "code",
   "execution_count": 2,
   "metadata": {
    "collapsed": false
   },
   "outputs": [],
   "source": [
    "rotor = (vsr.Biv(1,0,0).unit() * (pi/6)).exp()"
   ]
  },
  {
   "cell_type": "code",
   "execution_count": 3,
   "metadata": {
    "collapsed": false
   },
   "outputs": [
    {
     "data": {
      "text/plain": [
       "EGA: [ 0 0 0 0 -0.52 0 0 0 ]"
      ]
     },
     "execution_count": 3,
     "metadata": {},
     "output_type": "execute_result"
    }
   ],
   "source": [
    "B = vsr.EGA(rotor.log())\n",
    "B"
   ]
  },
  {
   "cell_type": "code",
   "execution_count": 4,
   "metadata": {
    "collapsed": true
   },
   "outputs": [],
   "source": [
    "one = vsr.EGA(1,0,0,0,0,0,0,0)"
   ]
  },
  {
   "cell_type": "code",
   "execution_count": 5,
   "metadata": {
    "collapsed": false
   },
   "outputs": [
    {
     "data": {
      "text/plain": [
       "EGA: [ 1 0 0 0 0 0 0 0 ]"
      ]
     },
     "execution_count": 5,
     "metadata": {},
     "output_type": "execute_result"
    }
   ],
   "source": [
    "R2 = (one + B) * (one - B).inv()\n",
    "R2 * R2.rev()"
   ]
  },
  {
   "cell_type": "code",
   "execution_count": 6,
   "metadata": {
    "collapsed": false
   },
   "outputs": [
    {
     "data": {
      "text/plain": [
       "Mot: [ 0.87 -0.5 0 0 -0.93 -0.62 -1.3 0.75 ]"
      ]
     },
     "execution_count": 6,
     "metadata": {},
     "output_type": "execute_result"
    }
   ],
   "source": [
    "M = vsr.Vec(1,2,3).trs() * rotor\n",
    "M"
   ]
  },
  {
   "cell_type": "code",
   "execution_count": 7,
   "metadata": {
    "collapsed": false
   },
   "outputs": [
    {
     "data": {
      "text/plain": [
       "Dll: [ -0.5236 0 0 -0.977 -0.6451 -1.5 ]"
      ]
     },
     "execution_count": 7,
     "metadata": {},
     "output_type": "execute_result"
    }
   ],
   "source": [
    "Bm = M.log()\n",
    "Bm"
   ]
  },
  {
   "cell_type": "code",
   "execution_count": 14,
   "metadata": {
    "collapsed": false
   },
   "outputs": [],
   "source": [
    "MextE = (Bm ^ Bm) * 0.5 + Bm + 1"
   ]
  },
  {
   "cell_type": "code",
   "execution_count": 15,
   "metadata": {
    "collapsed": false
   },
   "outputs": [
    {
     "data": {
      "text/plain": [
       "Mot: [ 1.3 0 0 0 -5.6e-17 0 5.6e-17 0 ]"
      ]
     },
     "execution_count": 15,
     "metadata": {},
     "output_type": "execute_result"
    }
   ],
   "source": [
    "MextE * MextE.rev()"
   ]
  },
  {
   "cell_type": "code",
   "execution_count": 11,
   "metadata": {
    "collapsed": false
   },
   "outputs": [
    {
     "data": {
      "text/plain": [
       "Mot: [ 0 0 0 0 0 0 0 0 ]"
      ]
     },
     "execution_count": 11,
     "metadata": {},
     "output_type": "execute_result"
    }
   ],
   "source": [
    "(Bm ^ Bm) ^ Bm"
   ]
  },
  {
   "cell_type": "code",
   "execution_count": null,
   "metadata": {
    "collapsed": false
   },
   "outputs": [],
   "source": [
    "Bm = vsr.Mot(0,Bm[0],Bm[1],Bm[2],Bm[3],Bm[4],Bm[5],0)"
   ]
  },
  {
   "cell_type": "code",
   "execution_count": null,
   "metadata": {
    "collapsed": true
   },
   "outputs": [],
   "source": [
    "def Cayley(B):\n",
    "    one = onem = vsr.Mot(1,0,0,0,0,0,0,0)\n",
    "    B = vsr.Mot(0,Bm[0],Bm[1],Bm[2],Bm[3],Bm[4],Bm[5],0)\n",
    "    B2 = B * B\n",
    "    B20 = vsr.Mot(B2[0],0,0,0,0,0,0,0)\n",
    "    B22 = vsr.Mot(0,B2[1],B2[2],B2[3],B2[4],B2[5],B2[6],0)\n",
    "    B24 = vsr.Mot(0,0,0,0,0,0,0,B2[7])\n",
    "    print((one - B20 + B24))\n",
    "    return (one + B + B + B2) * (one - B20 + B24) * (1.0 / (1 - B2[0])**2)"
   ]
  },
  {
   "cell_type": "code",
   "execution_count": null,
   "metadata": {
    "collapsed": false
   },
   "outputs": [],
   "source": [
    "Mc = Cayley(M.log())\n",
    "np.array(Mc)"
   ]
  },
  {
   "cell_type": "code",
   "execution_count": null,
   "metadata": {
    "collapsed": false
   },
   "outputs": [],
   "source": [
    "(onem - Bm).inv()"
   ]
  },
  {
   "cell_type": "code",
   "execution_count": null,
   "metadata": {
    "collapsed": false
   },
   "outputs": [],
   "source": [
    "(onem - Bm.rev()) * (onem - Bm * Bm).inv()"
   ]
  },
  {
   "cell_type": "code",
   "execution_count": null,
   "metadata": {
    "collapsed": true
   },
   "outputs": [],
   "source": [
    "np.t"
   ]
  },
  {
   "cell_type": "code",
   "execution_count": null,
   "metadata": {
    "collapsed": false
   },
   "outputs": [],
   "source": [
    "Mc.log().biv().duale().unit()"
   ]
  },
  {
   "cell_type": "code",
   "execution_count": null,
   "metadata": {
    "collapsed": false
   },
   "outputs": [],
   "source": [
    "M.log().biv().duale().unit()"
   ]
  },
  {
   "cell_type": "code",
   "execution_count": null,
   "metadata": {
    "collapsed": false
   },
   "outputs": [],
   "source": [
    "F = (Bm * Bm + Bm * Bm ) * 0.5\n",
    "F[0] *= -1\n",
    "F[0] += 1\n",
    "F"
   ]
  },
  {
   "cell_type": "code",
   "execution_count": null,
   "metadata": {
    "collapsed": false
   },
   "outputs": [],
   "source": [
    "M2 = (onem + Bm) * (onem + Bm) * F * (1.0 / F[0]**2)\n",
    "vsr.Vec(0,0,0).null().spin(M2)"
   ]
  },
  {
   "cell_type": "code",
   "execution_count": null,
   "metadata": {
    "collapsed": false
   },
   "outputs": [],
   "source": [
    "vsr.Vec(0,0,0).null().spin(M)"
   ]
  },
  {
   "cell_type": "code",
   "execution_count": null,
   "metadata": {
    "collapsed": false
   },
   "outputs": [],
   "source": [
    "Bd = (M2.rev() * M).log()"
   ]
  },
  {
   "cell_type": "code",
   "execution_count": null,
   "metadata": {
    "collapsed": false
   },
   "outputs": [],
   "source": [
    "M.log()"
   ]
  },
  {
   "cell_type": "code",
   "execution_count": null,
   "metadata": {
    "collapsed": false
   },
   "outputs": [],
   "source": [
    "Bd"
   ]
  },
  {
   "cell_type": "code",
   "execution_count": null,
   "metadata": {
    "collapsed": true
   },
   "outputs": [],
   "source": [
    "onem = vsr.Mot(1,0,0,0,0,0,0,0)"
   ]
  },
  {
   "cell_type": "code",
   "execution_count": null,
   "metadata": {
    "collapsed": false
   },
   "outputs": [],
   "source": [
    "R2 = (onem - Bm).inv() * (onem + Bm)\n",
    "R2 * R2.rev()"
   ]
  },
  {
   "cell_type": "code",
   "execution_count": null,
   "metadata": {
    "collapsed": false
   },
   "outputs": [],
   "source": [
    "rotor"
   ]
  },
  {
   "cell_type": "code",
   "execution_count": null,
   "metadata": {
    "collapsed": false
   },
   "outputs": [],
   "source": [
    "n_points=10\n",
    "sigma = 0.01\n",
    "vectors_a = [vsr.Vec(*np.random.normal(0.0, 0.8, 3)).unit() for i in range(n_points)]\n",
    "vectors_b = [vector.spin(rotor) for vector in vectors_a]\n",
    "vectors_b_noisy = [vsr.Vec(*(np.array(vector)\n",
    "                            + sigma * np.random.randn(3))).null() \n",
    "                  for vector in vectors_b]"
   ]
  },
  {
   "cell_type": "code",
   "execution_count": null,
   "metadata": {
    "collapsed": true
   },
   "outputs": [],
   "source": [
    "vectors_a = [vsr.Vec(1,0,0), vsr.Vec(0,1,0), vsr.Vec(0,0,1)]\n",
    "vectors_b = [a.spin(rotor) for a in vectors_a]"
   ]
  },
  {
   "cell_type": "code",
   "execution_count": null,
   "metadata": {
    "collapsed": false
   },
   "outputs": [],
   "source": [
    "ans = [hyperdual.hyperdualB(a,b,vsr.Biv(0,pi/6,0).exp()) for a,b in zip(vectors_a, vectors_b)]\n",
    "res = np.sum([t[0] for t in ans])\n",
    "grad = np.sum([t[1] for t in ans], axis=0)[1:]\n",
    "Hess = np.sum([t[2] for t in ans], axis=0)"
   ]
  },
  {
   "cell_type": "code",
   "execution_count": null,
   "metadata": {
    "collapsed": false
   },
   "outputs": [],
   "source": [
    "grad"
   ]
  },
  {
   "cell_type": "code",
   "execution_count": null,
   "metadata": {
    "collapsed": false
   },
   "outputs": [],
   "source": [
    "ans"
   ]
  },
  {
   "cell_type": "code",
   "execution_count": null,
   "metadata": {
    "collapsed": false
   },
   "outputs": [],
   "source": [
    "print(Hess)"
   ]
  },
  {
   "cell_type": "code",
   "execution_count": null,
   "metadata": {
    "collapsed": false
   },
   "outputs": [],
   "source": [
    "aegas = [vsr.EGA(a) for a in vectors_a]\n",
    "begas = [vsr.EGA(b) for b in vectors_b]\n",
    "aegas"
   ]
  },
  {
   "cell_type": "code",
   "execution_count": null,
   "metadata": {
    "collapsed": false
   },
   "outputs": [],
   "source": [
    "begas"
   ]
  },
  {
   "cell_type": "code",
   "execution_count": null,
   "metadata": {
    "collapsed": false
   },
   "outputs": [],
   "source": [
    "a = aegas[0]\n",
    "b = begas[0]"
   ]
  },
  {
   "cell_type": "code",
   "execution_count": null,
   "metadata": {
    "collapsed": false
   },
   "outputs": [],
   "source": [
    "R = vsr.EGA(vsr.Biv(0,pi/6,0).exp())\n",
    "R"
   ]
  },
  {
   "cell_type": "code",
   "execution_count": null,
   "metadata": {
    "collapsed": false
   },
   "outputs": [],
   "source": [
    "B = vsr.EGA(vsr.Biv(1,0,0))\n",
    "gr = vsr.EGA(vsr.Biv(*ans[0][1][1:]))\n",
    "gr\n",
    "rar = a.spin(R)"
   ]
  },
  {
   "cell_type": "code",
   "execution_count": null,
   "metadata": {
    "collapsed": false
   },
   "outputs": [],
   "source": [
    "B * a.spin(R) * b - a.spin(R) * B * b"
   ]
  },
  {
   "cell_type": "code",
   "execution_count": null,
   "metadata": {
    "collapsed": false
   },
   "outputs": [],
   "source": [
    "B * a.spin(R) * b - b * a.spin(R) * B"
   ]
  },
  {
   "cell_type": "code",
   "execution_count": null,
   "metadata": {
    "collapsed": false
   },
   "outputs": [],
   "source": [
    "B * a.spin(R) * b + B * a.spin(R) * b"
   ]
  },
  {
   "cell_type": "code",
   "execution_count": null,
   "metadata": {
    "collapsed": false
   },
   "outputs": [],
   "source": [
    "(B * 2) * a.spin(R) * b"
   ]
  },
  {
   "cell_type": "code",
   "execution_count": null,
   "metadata": {
    "collapsed": false
   },
   "outputs": [],
   "source": [
    "2 * a.spin(R) ^ b"
   ]
  },
  {
   "cell_type": "code",
   "execution_count": null,
   "metadata": {
    "collapsed": false
   },
   "outputs": [],
   "source": [
    "a.spin(R) * b - b * a.spin(R)"
   ]
  },
  {
   "cell_type": "code",
   "execution_count": null,
   "metadata": {
    "collapsed": false
   },
   "outputs": [],
   "source": [
    "gr <= B"
   ]
  },
  {
   "cell_type": "code",
   "execution_count": null,
   "metadata": {
    "collapsed": false
   },
   "outputs": [],
   "source": [
    "B = vsr.EGA(vsr.Biv(1,0,0))\n",
    "2 * rar * B.rev() * b"
   ]
  },
  {
   "cell_type": "code",
   "execution_count": null,
   "metadata": {
    "collapsed": false
   },
   "outputs": [],
   "source": [
    "vsr.EGA(a * b) - vsr.EGA(b * a)"
   ]
  },
  {
   "cell_type": "code",
   "execution_count": null,
   "metadata": {
    "collapsed": false
   },
   "outputs": [],
   "source": [
    "(2 * rar * B.rev() * b) <= vsr.EGA(vsr.Biv(0,1,0))"
   ]
  },
  {
   "cell_type": "code",
   "execution_count": null,
   "metadata": {
    "collapsed": true
   },
   "outputs": [],
   "source": []
  },
  {
   "cell_type": "code",
   "execution_count": null,
   "metadata": {
    "collapsed": true
   },
   "outputs": [],
   "source": []
  },
  {
   "cell_type": "code",
   "execution_count": null,
   "metadata": {
    "collapsed": true
   },
   "outputs": [],
   "source": [
    "def Hij(Bi,Bj,a,b,rot): \n",
    "    ar = a.spin(rot)\n",
    "    ans = (Bi * Bj * ar * b + \n",
    "#            Bi * ar * Bj.rev() * b + \n",
    "#            Bi* ar * Bj.rev() * b +\n",
    "           ar * Bi.rev() * Bj.rev() * b) \n",
    "    return -ans[0] "
   ]
  },
  {
   "cell_type": "code",
   "execution_count": null,
   "metadata": {
    "collapsed": false
   },
   "outputs": [],
   "source": [
    "def Hij2(Bi,Bj,a,b,rot): \n",
    "    ar = a.spin(rot)\n",
    "    ans = (\n",
    "           Bi * ar * Bj.rev() * b + \n",
    "           Bi* ar * Bj.rev() * b\n",
    "        )\n",
    "    return -ans[0] "
   ]
  },
  {
   "cell_type": "code",
   "execution_count": null,
   "metadata": {
    "collapsed": false
   },
   "outputs": [],
   "source": [
    "def Hess2(a,b,rot):\n",
    "    a = vsr.EGA(a)\n",
    "    b = vsr.EGA(b)\n",
    "    R = vsr.EGA(rot)\n",
    "    E12 = vsr.EGA(vsr.Biv(1,0,0))\n",
    "    E13 = vsr.EGA(vsr.Biv(0,1,0))\n",
    "    E23 = vsr.EGA(vsr.Biv(0,0,1))\n",
    "    return np.array([[Hij(E12,E12,a,b,R), Hij(E12,E13,a,b,R),Hij(E12,E23,a,b,R)],\n",
    "                     [Hij(E13,E12,a,b,R), Hij(E13,E13,a,b,R),Hij(E13,E23,a,b,R)],\n",
    "                     [Hij(E23,E12,a,b,R), Hij(E23,E13,a,b,R),Hij(E23,E23,a,b,R)]])"
   ]
  },
  {
   "cell_type": "code",
   "execution_count": null,
   "metadata": {
    "collapsed": true
   },
   "outputs": [],
   "source": [
    "def Hess3(a,b,rot):\n",
    "    a = vsr.EGA(a)\n",
    "    b = vsr.EGA(b)\n",
    "    R = vsr.EGA(rot)\n",
    "    E12 = vsr.EGA(vsr.Biv(1,0,0))\n",
    "    E13 = vsr.EGA(vsr.Biv(0,1,0))\n",
    "    E23 = vsr.EGA(vsr.Biv(0,0,1))\n",
    "    return np.array([[Hij2(E12,E12,a,b,R), Hij2(E12,E13,a,b,R),Hij2(E12,E23,a,b,R)],\n",
    "                     [Hij2(E13,E12,a,b,R), Hij2(E13,E13,a,b,R),Hij2(E13,E23,a,b,R)],\n",
    "                     [Hij2(E23,E12,a,b,R), Hij2(E23,E13,a,b,R),Hij2(E23,E23,a,b,R)]])"
   ]
  },
  {
   "cell_type": "code",
   "execution_count": null,
   "metadata": {
    "collapsed": true
   },
   "outputs": [],
   "source": [
    "def Hess4(a,b,rot):\n",
    "    return Hess2(a,b,rot) - Hess3(a,b,rot)"
   ]
  },
  {
   "cell_type": "code",
   "execution_count": null,
   "metadata": {
    "collapsed": true
   },
   "outputs": [],
   "source": [
    "def grad2(a,b,rot):\n",
    "    def grad_ij(B, a ,b,rot):\n",
    "        return (B.comm(a.spin(rot)) * b * -2)[0]\n",
    "    return vsr.Biv(grad_ij(vsr.Biv(1,0,0),a,b,rot),\n",
    "                   grad_ij(vsr.Biv(0,1,0),a,b,rot),\n",
    "                   grad_ij(vsr.Biv(0,0,1),a,b,rot))"
   ]
  },
  {
   "cell_type": "code",
   "execution_count": null,
   "metadata": {
    "collapsed": true
   },
   "outputs": [],
   "source": [
    "a = vsr.Vec(0,1,0)\n",
    "b = a.spin((vsr.Biv(1,0,0).unit() * (pi/6)).exp())\n",
    "R = (vsr.Biv(0,1,0).unit() * (pi/6)).exp()"
   ]
  },
  {
   "cell_type": "code",
   "execution_count": null,
   "metadata": {
    "collapsed": false
   },
   "outputs": [],
   "source": [
    "a = vsr.EGA(a)\n",
    "b = vsr.EGA(b)\n",
    "R = vsr.EGA(R)\n",
    "ar = a.spin(R)\n",
    "E12 = vsr.EGA(vsr.Biv(1,0,0))\n",
    "E13 = vsr.EGA(vsr.Biv(0,1,0))\n",
    "E23 = vsr.EGA(vsr.Biv(0,0,1))"
   ]
  },
  {
   "cell_type": "code",
   "execution_count": null,
   "metadata": {
    "collapsed": false
   },
   "outputs": [],
   "source": [
    "B1 = E12\n",
    "B2 = E12"
   ]
  },
  {
   "cell_type": "code",
   "execution_count": null,
   "metadata": {
    "collapsed": false
   },
   "outputs": [],
   "source": [
    "(B1 * B2 * ar * b + \n",
    " B1 * ar * B2.rev() * b + \n",
    " B2* ar * B1.rev() * b +\n",
    " ar * B1.rev() * B2.rev() * b) * 0.5"
   ]
  },
  {
   "cell_type": "code",
   "execution_count": null,
   "metadata": {
    "collapsed": false
   },
   "outputs": [],
   "source": [
    "B1 * (B2 * ar * b - b * ar * B2.rev() * 2.0 + ar.spin(B) * b * 2.0)"
   ]
  },
  {
   "cell_type": "code",
   "execution_count": null,
   "metadata": {
    "collapsed": false
   },
   "outputs": [],
   "source": [
    "a = vsr.Vec(1,0,0)\n",
    "b = a.spin((vsr.Biv(1,0,0).unit() * (pi/6)).exp())\n",
    "R = (vsr.Biv(0,1,1).unit() * (pi/6)).exp()"
   ]
  },
  {
   "cell_type": "code",
   "execution_count": null,
   "metadata": {
    "collapsed": false
   },
   "outputs": [],
   "source": [
    "a = vsr.Vec(1,1,0)\n",
    "print(a.norm())\n",
    "b = a.spin((vsr.Biv(1,0,0).unit() * (pi/6)).exp())\n",
    "\n",
    "# print((a * a)[0])\n",
    "R = (vsr.Biv(0,1,0).unit() * (pi/6)).exp()\n",
    "\n",
    "# R = rotor\n",
    "print(Hess2(a,b,R),'\\n')\n",
    "print(Hess3(a,b,R),'\\n')\n",
    "print(Hess4(a,b,R),'\\n')\n",
    "print(hyperdual.hyperdualB(a,b,R)[2])"
   ]
  },
  {
   "cell_type": "code",
   "execution_count": null,
   "metadata": {
    "collapsed": false
   },
   "outputs": [],
   "source": [
    "(hyperdual.hyperdualB(a,b,R)[2] + Hess4(a,b,R) ) / 4"
   ]
  },
  {
   "cell_type": "code",
   "execution_count": null,
   "metadata": {
    "collapsed": false
   },
   "outputs": [],
   "source": [
    "a.norm() "
   ]
  },
  {
   "cell_type": "code",
   "execution_count": null,
   "metadata": {
    "collapsed": false
   },
   "outputs": [],
   "source": [
    "H = ans[0][2]\n",
    "np.dot(np.dot(np.array([1,0,0]).reshape(3,1).T,H),np.array([0,1,0]).reshape(3,1))"
   ]
  },
  {
   "cell_type": "code",
   "execution_count": null,
   "metadata": {
    "collapsed": false
   },
   "outputs": [],
   "source": [
    "cos(pi/6) - (pi / 9 )"
   ]
  },
  {
   "cell_type": "code",
   "execution_count": null,
   "metadata": {
    "collapsed": false
   },
   "outputs": [],
   "source": [
    "# R = vsr.Biv(0,pi/4,0).exp()\n",
    "(Hess2(a,b,R).copy()-hyperdual.hyperdualB(a,b,R)[2].copy() )"
   ]
  },
  {
   "cell_type": "code",
   "execution_count": null,
   "metadata": {
    "collapsed": false
   },
   "outputs": [],
   "source": [
    "a.spin(R) <= b"
   ]
  },
  {
   "cell_type": "code",
   "execution_count": null,
   "metadata": {
    "collapsed": false
   },
   "outputs": [],
   "source": [
    "2 * pi /4"
   ]
  },
  {
   "cell_type": "code",
   "execution_count": null,
   "metadata": {
    "collapsed": false
   },
   "outputs": [],
   "source": [
    "cos(pi / 1)"
   ]
  },
  {
   "cell_type": "code",
   "execution_count": null,
   "metadata": {
    "collapsed": false
   },
   "outputs": [],
   "source": [
    "print(Hess2(a,b,R).copy()[0,0])\n",
    "print(hyperdual.hyperdualB(a,b,R)[2].copy()[0,0])"
   ]
  },
  {
   "cell_type": "code",
   "execution_count": null,
   "metadata": {
    "collapsed": false
   },
   "outputs": [],
   "source": [
    "ans[0][2]"
   ]
  },
  {
   "cell_type": "code",
   "execution_count": null,
   "metadata": {
    "collapsed": false
   },
   "outputs": [],
   "source": [
    "((vsr.Biv(1,2,3).unit() * pi/6).exp() * rotor).rev()"
   ]
  },
  {
   "cell_type": "code",
   "execution_count": null,
   "metadata": {
    "collapsed": false
   },
   "outputs": [],
   "source": [
    "rotor.rev() * (vsr.Biv(1,2,3).unit() * pi/6).exp().rev()"
   ]
  },
  {
   "cell_type": "code",
   "execution_count": null,
   "metadata": {
    "collapsed": false
   },
   "outputs": [],
   "source": [
    "E = np.array([1,0,0]).reshape(3,1)\n",
    "np.dot(np.dot(E.T, H2), E)"
   ]
  },
  {
   "cell_type": "code",
   "execution_count": null,
   "metadata": {
    "collapsed": false
   },
   "outputs": [],
   "source": [
    "rotor = (vsr.Biv(1,2,3).unit() * pi/6).exp()\n",
    "a = vsr.Vec(1,0,0)\n",
    "b = a.spin(rotor)\n",
    "rotor1 = vsr.Biv(0,0,pi/6).exp()\n",
    "_,_,H = hyperdual.hyperdualB(a,b,rotor1)\n",
    "print(H)"
   ]
  },
  {
   "cell_type": "code",
   "execution_count": null,
   "metadata": {
    "collapsed": false
   },
   "outputs": [],
   "source": [
    "Hess2(vsr.EGA(a), vsr.EGA(b), vsr.EGA(rotor1))"
   ]
  },
  {
   "cell_type": "code",
   "execution_count": null,
   "metadata": {
    "collapsed": false
   },
   "outputs": [],
   "source": [
    "E12 * cos(pi/6)"
   ]
  },
  {
   "cell_type": "code",
   "execution_count": null,
   "metadata": {
    "collapsed": true
   },
   "outputs": [],
   "source": [
    "Hij()"
   ]
  },
  {
   "cell_type": "code",
   "execution_count": null,
   "metadata": {
    "collapsed": true
   },
   "outputs": [],
   "source": [
    "vectors_a = [vsr.Vec(1,0,0), vsr.Vec(0,1,0), vsr.Vec(0,0,1)]\n",
    "vectors_b = [a.spin(rotor) for a in vectors_a]"
   ]
  },
  {
   "cell_type": "code",
   "execution_count": null,
   "metadata": {
    "collapsed": true
   },
   "outputs": [],
   "source": []
  },
  {
   "cell_type": "code",
   "execution_count": null,
   "metadata": {
    "collapsed": true
   },
   "outputs": [],
   "source": [
    "n_points=10\n",
    "vectors_a = [vsr.Vec(*np.random.normal(0.0, 0.8, 3)) for i in range(n_points)]\n",
    "vectors_b = [vector.spin(rotor) for vector in vectors_a]"
   ]
  },
  {
   "cell_type": "code",
   "execution_count": null,
   "metadata": {
    "collapsed": false
   },
   "outputs": [],
   "source": [
    "rot = vsr.Rot(1,0,0,0)\n",
    "np.sum([np.array(Hess2(a,b,rot)) for a,b in zip(vectors_a, vectors_b)],axis=0)"
   ]
  },
  {
   "cell_type": "code",
   "execution_count": null,
   "metadata": {
    "collapsed": false
   },
   "outputs": [],
   "source": [
    "ans = [hyperdual.hyperdualB(a,b,rot) for a,b in zip(vectors_a, vectors_b)]\n",
    "res = np.sum([t[0] for t in ans])\n",
    "grad = np.sum([t[1] for t in ans], axis=0)[1:]\n",
    "Hess = np.sum([t[2] for t in ans], axis=0)\n",
    "Hess"
   ]
  },
  {
   "cell_type": "code",
   "execution_count": null,
   "metadata": {
    "collapsed": false
   },
   "outputs": [],
   "source": [
    "def update(rot):\n",
    "    ans = [hyperdual.hyperdualB(a,b,rot) for a,b in zip(vectors_a, vectors_b)]\n",
    "    res = np.sum([t[0] for t in ans])\n",
    "    grad = np.sum([t[1] for t in ans], axis=0)[1:]\n",
    "    Hess = np.sum([t[2] for t in ans], axis=0)\n",
    "    \n",
    "#     print(Hess)\n",
    "    Hess = -np.sum([np.array(Hess2(a,b,rot)) for a,b in zip(vectors_a, vectors_b)],axis=0)\n",
    "#     print(Hess)\n",
    "    B = np.dot(np.linalg.pinv(Hess),grad)\n",
    "    rot = vsr.Biv(*B).exp() * rot\n",
    "#     rot = vsr.Biv(*(-grad * 0.1)).exp() * rot\n",
    "    grad_norm = np.linalg.norm(grad)\n",
    "    return rot, res, grad_norm"
   ]
  },
  {
   "cell_type": "code",
   "execution_count": null,
   "metadata": {
    "collapsed": false,
    "scrolled": true
   },
   "outputs": [],
   "source": [
    "rot = vsr.Rot(1,0,0,0)\n",
    "for i in range(10):\n",
    "    rot, res, grad_norm = update(rot)\n",
    "    print(res)\n",
    "print(rot)"
   ]
  },
  {
   "cell_type": "code",
   "execution_count": null,
   "metadata": {
    "collapsed": false
   },
   "outputs": [],
   "source": [
    "rot = vsr.Rot(1,0,0,0)\n",
    "J = np.array([jacrot(a,rot) for a in vectors_a]).reshape(-1,3)\n",
    "print(np.dot(J.T,J))"
   ]
  },
  {
   "cell_type": "code",
   "execution_count": null,
   "metadata": {
    "collapsed": false
   },
   "outputs": [],
   "source": [
    "Hess = np.sum([hyperdual.hyperdualB(a,b,rot)[2] for a,b in zip(vectors_a, vectors_b)], axis=0)\n",
    "print(Hess)"
   ]
  },
  {
   "cell_type": "code",
   "execution_count": null,
   "metadata": {
    "collapsed": false
   },
   "outputs": [],
   "source": [
    "motor1 = vsr.Mot(1,0,0,0,0,0,0,0)\n",
    "motor = vsr.Vec(1,1,1).trs() * vsr.Rot(vsr.Biv(0,1,0) * np.pi/6.0)\n",
    "points_a = [a.null() for a in vectors_a]\n",
    "points_b = [a.spin(motor) for a in points_a]\n",
    "a = points_a[0]\n",
    "b = points_b[0]\n",
    "points_b_noisy = [vsr.Vec(*(np.array(point)[:3] \n",
    "                            + sigma * np.random.randn(3))).null() \n",
    "                  for point in points_b]"
   ]
  },
  {
   "cell_type": "code",
   "execution_count": null,
   "metadata": {
    "collapsed": false
   },
   "outputs": [],
   "source": [
    "motor0 = vsr.Mot(1,0,0,0,0,0,0,0)\n",
    "r,g,H = hyperdual.hyperdualmotor(a,b, motor0)\n",
    "# print(g)\n",
    "print(H)"
   ]
  },
  {
   "cell_type": "code",
   "execution_count": null,
   "metadata": {
    "collapsed": true
   },
   "outputs": [],
   "source": [
    "ans = [hyperdual.hyperdualmotor(a,b,motor0) for a,b in zip(points_a, points_b_noisy)]\n",
    "res = np.sum([t[0] for t in ans])\n",
    "grad = np.sum([t[1] for t in ans], axis=0)\n",
    "Hess = np.sum([t[2] for t in ans], axis=0)"
   ]
  },
  {
   "cell_type": "code",
   "execution_count": null,
   "metadata": {
    "collapsed": false
   },
   "outputs": [],
   "source": [
    "print(grad * -2) "
   ]
  },
  {
   "cell_type": "code",
   "execution_count": null,
   "metadata": {
    "collapsed": false
   },
   "outputs": [],
   "source": [
    "vsr.Dll(*grad).spin(motor0)"
   ]
  },
  {
   "cell_type": "code",
   "execution_count": null,
   "metadata": {
    "collapsed": false
   },
   "outputs": [],
   "source": [
    "print(np.array(motor0 * vsr.Dll(*(np.sum([np.array(vsr.CGA(a.spin(motor0) ^ b) * 2)[6:12]\n",
    "                        for a, b in zip(points_a, points_b_noisy)], axis=0)) * 2)))"
   ]
  },
  {
   "cell_type": "code",
   "execution_count": null,
   "metadata": {
    "collapsed": false
   },
   "outputs": [],
   "source": [
    "np.array(vsr.CGA(points_a[0].spin(motor0) ^ points_b[0] ) * 2)[6:16]"
   ]
  },
  {
   "cell_type": "code",
   "execution_count": null,
   "metadata": {
    "collapsed": false
   },
   "outputs": [],
   "source": [
    "grad * 2"
   ]
  },
  {
   "cell_type": "code",
   "execution_count": null,
   "metadata": {
    "collapsed": false
   },
   "outputs": [],
   "source": [
    "print(Hess)"
   ]
  },
  {
   "cell_type": "code",
   "execution_count": null,
   "metadata": {
    "collapsed": false
   },
   "outputs": [],
   "source": [
    "motor.dll()"
   ]
  },
  {
   "cell_type": "code",
   "execution_count": null,
   "metadata": {
    "collapsed": false
   },
   "outputs": [],
   "source": [
    "scene = Scene(children=\n",
    "              [point_mesh(point,color=Colors.HOTPINK) for point in points_a] +\\\n",
    "              [point_mesh(point,color=Colors.LIGHTSKYBLUE) for point in points_b] +\\\n",
    "              [line_mesh(vsr.Dll(*grad ))] +\\\n",
    "              [line_mesh(motor.dll())] +\\\n",
    "#               [point_mesh(point,color='palegreen') for point in points_b_noisy] +\\\n",
    "#               [point_mesh(point.spin(motors[1]),color='palegreen') for point in points_a] +\\\n",
    "#               [point_mesh(point.spin(em_point_3_res_noise),color=Colors.HOTPINK) for point in points_a] +\\\n",
    "#             [point_mesh(point.spin(vd_em_points_noise),color=Colors.BLACK) for point in points_a] +\\\n",
    "\n",
    "              [frame_mesh(),AmbientLight(color='#cccccc')])\n",
    "\n",
    "camera = PerspectiveCamera(position=[3, -3, 3])\n",
    "renderer = Renderer(camera=camera, \n",
    "                    scene=scene, \n",
    "                    controls=[TrackballControls(controlling=camera)],\n",
    "                    background = 'white',\n",
    "                    width='960',\n",
    "                    height='512')\n",
    "# renderer.width = '1024'\n",
    "# renderer.height = '768'\n",
    "display(renderer)"
   ]
  },
  {
   "cell_type": "code",
   "execution_count": null,
   "metadata": {
    "collapsed": false
   },
   "outputs": [],
   "source": [
    "def update(rot):\n",
    "    ans = [hyperdual.hyperdualmotor(a,b,rot) for a,b in zip(points_a, points_b)]\n",
    "    res = np.sum([t[0] for t in ans])\n",
    "    grad = np.sum([t[1] for t in ans], axis=0)\n",
    "    Hess = np.sum([t[2] for t in ans], axis=0)\n",
    "    B = -np.dot(np.linalg.pinv(Hess),grad)\n",
    "    rot = vsr.Dll(*B).exp() * rot\n",
    "    grad_norm = np.linalg.norm(grad)\n",
    "    return rot, res, grad_norm"
   ]
  },
  {
   "cell_type": "code",
   "execution_count": null,
   "metadata": {
    "collapsed": false
   },
   "outputs": [],
   "source": [
    "M = motor + vsr.Mot(0,2,0,0,0,0,0,0)\n",
    "M * M.rev()"
   ]
  },
  {
   "cell_type": "code",
   "execution_count": null,
   "metadata": {
    "collapsed": false
   },
   "outputs": [],
   "source": [
    "M2 = M.retract()\n",
    "M2 * M2.rev()"
   ]
  },
  {
   "cell_type": "code",
   "execution_count": null,
   "metadata": {
    "collapsed": false
   },
   "outputs": [],
   "source": [
    "def update2(rot):\n",
    "    ans = [hyperdual.hyperdualmotor(a,b,rot) for a,b in zip(points_a, points_b)]\n",
    "    res = np.sum([t[0] for t in ans])\n",
    "    grad = np.sum([t[1] for t in ans], axis=0)\n",
    "    Hess = np.sum([t[2] for t in ans], axis=0)\n",
    "    B = np.dot(np.linalg.pinv(Hess),grad)\n",
    "    B = vsr.Mot(0,B[0], B[1], B[2], B[3], B[4], B[5], 0)\n",
    "    rot = (rot * B ).retract()\n",
    "    grad_norm = np.linalg.norm(grad)\n",
    "    return rot, res, grad_norm"
   ]
  },
  {
   "cell_type": "code",
   "execution_count": null,
   "metadata": {
    "collapsed": false
   },
   "outputs": [],
   "source": [
    "rot = vsr.Mot(1,0,0,0,0,0,0,0)\n",
    "res = 1e6\n",
    "i = 0\n",
    "# while res > 1e-6:\n",
    "for i in range(10):\n",
    "    i += 1\n",
    "    rot, res, grad_norm = update(rot)\n",
    "    print(res)\n",
    "    print(rot)\n",
    "# print(i)"
   ]
  },
  {
   "cell_type": "code",
   "execution_count": null,
   "metadata": {
    "collapsed": false
   },
   "outputs": [],
   "source": [
    "np.linalg.norm(rot.rev() * motor)"
   ]
  },
  {
   "cell_type": "code",
   "execution_count": null,
   "metadata": {
    "collapsed": false
   },
   "outputs": [],
   "source": [
    "print(rot.rev() * motor)"
   ]
  },
  {
   "cell_type": "code",
   "execution_count": null,
   "metadata": {
    "collapsed": true
   },
   "outputs": [],
   "source": [
    "import motor_jacobian"
   ]
  },
  {
   "cell_type": "code",
   "execution_count": null,
   "metadata": {
    "collapsed": false
   },
   "outputs": [],
   "source": [
    "def jacmot(a,mot):\n",
    "    j = np.zeros((3,6))\n",
    "    for i in range(6):\n",
    "        dll = vsr.Dll(0.0, 0.0, 0.0, 0.0, 0.0, 0.0)\n",
    "        dll[i] = 1.0\n",
    "        j[:,i] = 2. * np.array(dll.comm(a.spin(mot)))[:3]\n",
    "    return j"
   ]
  },
  {
   "cell_type": "code",
   "execution_count": null,
   "metadata": {
    "collapsed": false
   },
   "outputs": [],
   "source": [
    "J = np.array([jacmot(a,motor0) for a in points_a]).reshape(-1,6)"
   ]
  },
  {
   "cell_type": "code",
   "execution_count": null,
   "metadata": {
    "collapsed": false
   },
   "outputs": [],
   "source": [
    "np.dot(J.T,J)"
   ]
  },
  {
   "cell_type": "code",
   "execution_count": null,
   "metadata": {
    "collapsed": true
   },
   "outputs": [],
   "source": [
    "n_points = 10\n",
    "sigma = 0.09\n",
    "points_a = [(vsr.Vec(*np.random.normal(0.0, 0.8, 3)).null(),\n",
    "             vsr.Vec(*np.random.normal(0.0, 0.8, 3)).null()  )\n",
    "            for i in range(n_points)]\n",
    "\n",
    "points_a_noisy = [(vsr.Vec(*(np.array(a)[:3] + sigma * np.random.randn(3))).null(),\n",
    "                   vsr.Vec(*(np.array(b)[:3] + sigma * np.random.randn(3))).null()) \n",
    "                  for a,b in points_a]\n",
    "\n",
    "lines_a = [vsr.Dll(a,b).unit() for (a,b) in points_a]\n",
    "lines_b = [line.spin(motor) for line in lines_a]"
   ]
  },
  {
   "cell_type": "code",
   "execution_count": null,
   "metadata": {
    "collapsed": true
   },
   "outputs": [],
   "source": [
    "def jac(a, mot):\n",
    "    j = np.zeros((6,6))\n",
    "    for i in range(6):\n",
    "        ei = vsr.Dll(0.0, 0.0, 0.0,0.0,0.0,0.0)\n",
    "        ei[i] = 1.0\n",
    "        j[:,i] = 2.0 * np.array(ei.comm(a.spin(mot))) # Wrong sign?\n",
    "    return j"
   ]
  },
  {
   "cell_type": "code",
   "execution_count": null,
   "metadata": {
    "collapsed": false
   },
   "outputs": [],
   "source": [
    "J = np.array([jac(a, motor0) for a in lines_a]).reshape(-1,6)"
   ]
  },
  {
   "cell_type": "code",
   "execution_count": null,
   "metadata": {
    "collapsed": false
   },
   "outputs": [],
   "source": [
    "np.dot(J.T,J)"
   ]
  },
  {
   "cell_type": "code",
   "execution_count": null,
   "metadata": {
    "collapsed": false
   },
   "outputs": [],
   "source": [
    "f = np.array([np.array(a.spin(motor0) - b) for a,b in zip(lines_a, lines_b)]).reshape(-1,1)"
   ]
  },
  {
   "cell_type": "code",
   "execution_count": null,
   "metadata": {
    "collapsed": false
   },
   "outputs": [],
   "source": [
    "vsr.Dll(*np.dot(J.T,f))"
   ]
  },
  {
   "cell_type": "code",
   "execution_count": null,
   "metadata": {
    "collapsed": false
   },
   "outputs": [],
   "source": [
    "motor.dll()"
   ]
  },
  {
   "cell_type": "code",
   "execution_count": null,
   "metadata": {
    "collapsed": false
   },
   "outputs": [],
   "source": [
    "np.sum([np.array(a.spin(motor0).comm(b)) for a,b in zip(lines_a, lines_b)],axis=0)"
   ]
  },
  {
   "cell_type": "code",
   "execution_count": null,
   "metadata": {
    "collapsed": false
   },
   "outputs": [],
   "source": [
    "lines_a[0].spin(motor).rev()"
   ]
  },
  {
   "cell_type": "code",
   "execution_count": null,
   "metadata": {
    "collapsed": false
   },
   "outputs": [],
   "source": [
    "lines_a[0].rev().spin(motor)"
   ]
  },
  {
   "cell_type": "code",
   "execution_count": null,
   "metadata": {
    "collapsed": false
   },
   "outputs": [],
   "source": [
    "l = lines_a[0].spin(motor0) - lines_b[0]\n",
    "np.inner(l,l)"
   ]
  },
  {
   "cell_type": "code",
   "execution_count": null,
   "metadata": {
    "collapsed": false
   },
   "outputs": [],
   "source": [
    "np.sum([a*a for a in np.array(l)])"
   ]
  },
  {
   "cell_type": "code",
   "execution_count": null,
   "metadata": {
    "collapsed": false
   },
   "outputs": [],
   "source": [
    "l * l.rev()"
   ]
  },
  {
   "cell_type": "code",
   "execution_count": null,
   "metadata": {
    "collapsed": false
   },
   "outputs": [],
   "source": [
    "(l.biv() * l.biv().rev() )[0] + (l.drv().vec() * l.drv().vec().rev())[0]"
   ]
  },
  {
   "cell_type": "code",
   "execution_count": null,
   "metadata": {
    "collapsed": false
   },
   "outputs": [],
   "source": [
    "Ba = lines_a[0]\n",
    "Ba[3] = Ba[4] = Ba[5] = 0 \n",
    "Ba"
   ]
  },
  {
   "cell_type": "code",
   "execution_count": null,
   "metadata": {
    "collapsed": false
   },
   "outputs": [],
   "source": [
    "da = lines_a[0]\n",
    "da[0] = da[1] = da[2] = 0\n",
    "da"
   ]
  },
  {
   "cell_type": "code",
   "execution_count": null,
   "metadata": {
    "collapsed": false
   },
   "outputs": [],
   "source": [
    "Ba.spin(motor)"
   ]
  },
  {
   "cell_type": "code",
   "execution_count": null,
   "metadata": {
    "collapsed": false
   },
   "outputs": [],
   "source": [
    "from hyperdual_lines import lines"
   ]
  },
  {
   "cell_type": "code",
   "execution_count": null,
   "metadata": {
    "collapsed": false
   },
   "outputs": [],
   "source": [
    "lc = np.array(lines_a[0].spin(motor0) - lines_b[0])"
   ]
  },
  {
   "cell_type": "code",
   "execution_count": null,
   "metadata": {
    "collapsed": false
   },
   "outputs": [],
   "source": [
    "lc[0] * lc[0]"
   ]
  },
  {
   "cell_type": "code",
   "execution_count": null,
   "metadata": {
    "collapsed": false
   },
   "outputs": [],
   "source": [
    "lines(lines_a[0], lines_b[0], motor0)"
   ]
  },
  {
   "cell_type": "code",
   "execution_count": null,
   "metadata": {
    "collapsed": false
   },
   "outputs": [],
   "source": [
    "ans = [lines(a,b,motor0) for a,b in zip(lines_a, lines_b)]\n",
    "res = np.sum([t[0] for t in ans])\n",
    "grad = np.sum([t[1] for t in ans], axis=0)\n",
    "Hess = np.sum([t[2] for t in ans], axis=0)\n",
    "print(grad)"
   ]
  },
  {
   "cell_type": "code",
   "execution_count": null,
   "metadata": {
    "collapsed": false
   },
   "outputs": [],
   "source": [
    "vsr.Dll(*grad).spin(motor0)"
   ]
  },
  {
   "cell_type": "code",
   "execution_count": null,
   "metadata": {
    "collapsed": false
   },
   "outputs": [],
   "source": [
    "(motor0 * vsr.Dll(*np.sum([np.array(a.spin(motor0).comm(b)) \n",
    "                          for a,b in zip(lines_a, lines_b)],axis=0))).dll()"
   ]
  },
  {
   "cell_type": "code",
   "execution_count": null,
   "metadata": {
    "collapsed": false
   },
   "outputs": [],
   "source": [
    "vsr.Dll(*np.sum([np.array(a.spin(motor0).comm(b)) \n",
    "                          for a,b in zip(lines_a, lines_b)],axis=0))"
   ]
  },
  {
   "cell_type": "code",
   "execution_count": null,
   "metadata": {
    "collapsed": true
   },
   "outputs": [],
   "source": [
    "n_points = 10\n",
    "sigma = 0.09\n",
    "points_a = [(vsr.Vec(*np.random.normal(0.0, 0.8, 3)).null(),\n",
    "             vsr.Vec(*np.random.normal(0.0, 0.8, 3)).null()  )\n",
    "            for i in range(n_points)]\n",
    "\n",
    "points_a_noisy = [(vsr.Vec(*(np.array(a)[:3] + sigma * np.random.randn(3))).null(),\n",
    "                   vsr.Vec(*(np.array(b)[:3] + sigma * np.random.randn(3))).null()) \n",
    "                  for a,b in points_a]\n",
    "\n",
    "lines_a = [vsr.Dll(a,b).unit() for (a,b) in points_a]\n",
    "lines_b = [line.spin(motor) for line in lines_a]"
   ]
  },
  {
   "cell_type": "code",
   "execution_count": null,
   "metadata": {
    "collapsed": true
   },
   "outputs": [],
   "source": [
    "def update(rot):\n",
    "    ans = [lines(a,b,rot) for a,b in zip(lines_a, lines_b)]\n",
    "    res = np.sum([t[0] for t in ans])\n",
    "    grad = np.sum([t[1] for t in ans], axis=0)\n",
    "    Hess = np.sum([t[2] for t in ans], axis=0)\n",
    "    B = -np.dot(np.linalg.pinv(Hess),grad)\n",
    "    rot = vsr.Dll(*B).exp() * rot\n",
    "    grad_norm = np.linalg.norm(grad)\n",
    "    return rot, res, grad_norm"
   ]
  },
  {
   "cell_type": "code",
   "execution_count": null,
   "metadata": {
    "collapsed": false
   },
   "outputs": [],
   "source": [
    "rot = vsr.Mot(1,0,0,0,0,0,0,0)\n",
    "res = 1e6\n",
    "i = 0\n",
    "ress = []\n",
    "while res > 1e-3:\n",
    "# for i in range(100):\n",
    "    i += 1\n",
    "    rot, res, grad_norm = update(rot)\n",
    "    ress.append(res)\n",
    "print(ress)\n",
    "print(rot)\n",
    "print(i)"
   ]
  },
  {
   "cell_type": "code",
   "execution_count": null,
   "metadata": {
    "collapsed": false
   },
   "outputs": [],
   "source": [
    "plot(ress);"
   ]
  }
 ],
 "metadata": {
  "kernelspec": {
   "display_name": "Python 3",
   "language": "python",
   "name": "python3"
  },
  "language_info": {
   "codemirror_mode": {
    "name": "ipython",
    "version": 3
   },
   "file_extension": ".py",
   "mimetype": "text/x-python",
   "name": "python",
   "nbconvert_exporter": "python",
   "pygments_lexer": "ipython3",
   "version": "3.5.2"
  }
 },
 "nbformat": 4,
 "nbformat_minor": 1
}
