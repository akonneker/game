{
 "cells": [
  {
   "cell_type": "code",
   "execution_count": 1,
   "metadata": {
    "collapsed": false
   },
   "outputs": [
    {
     "name": "stdout",
     "output_type": "stream",
     "text": [
      "Populating the interactive namespace from numpy and matplotlib\n"
     ]
    }
   ],
   "source": [
    "from __future__ import print_function\n",
    "import sys\n",
    "sys.path.append('../build/')\n",
    "%pylab inline\n",
    "np.set_printoptions(precision=4, suppress=True)\n",
    "import versor as vsr\n",
    "import hyperdual\n",
    "import motor_jacobian"
   ]
  },
  {
   "cell_type": "code",
   "execution_count": 2,
   "metadata": {
    "collapsed": false
   },
   "outputs": [],
   "source": [
    "rotor = (vsr.Biv(1,0,0).unit() * pi/6).exp()\n",
    "rotor1 = vsr.Rot(1,0,0,0)\n",
    "a = vsr.Vec(1,0,0)\n",
    "b = a.spin(rotor)"
   ]
  },
  {
   "cell_type": "code",
   "execution_count": 3,
   "metadata": {
    "collapsed": false
   },
   "outputs": [],
   "source": [
    "# hyperdual.hyperdual1(a,b,rotor)"
   ]
  },
  {
   "cell_type": "code",
   "execution_count": 4,
   "metadata": {
    "collapsed": false
   },
   "outputs": [],
   "source": [
    "# hyperdual.hyperdual2(a,b,rotor)"
   ]
  },
  {
   "cell_type": "code",
   "execution_count": 5,
   "metadata": {
    "collapsed": true
   },
   "outputs": [],
   "source": [
    " def jacrot(a, rot):\n",
    "    j = np.zeros((3,3))\n",
    "    for i in range(3):\n",
    "        biv = vsr.Biv(0.0, 0.0, 0.0)\n",
    "        biv[i] = 1.0\n",
    "        j[:,i] = 2.0 * np.array(biv.comm(a.spin(rot))) # Wrong sign?\n",
    "    return j"
   ]
  },
  {
   "cell_type": "code",
   "execution_count": 48,
   "metadata": {
    "collapsed": false
   },
   "outputs": [
    {
     "name": "stdout",
     "output_type": "stream",
     "text": [
      "[[ 0.  2.  0.]\n",
      " [ 0.  0.  2.]\n",
      " [ 0.  0.  0.]]\n"
     ]
    }
   ],
   "source": [
    "J = jacrot(a,rotor1)\n",
    "print(J)"
   ]
  },
  {
   "cell_type": "code",
   "execution_count": 51,
   "metadata": {
    "collapsed": false
   },
   "outputs": [
    {
     "data": {
      "text/plain": [
       "array([[ 0.406 , -0.2892,  0.    ],\n",
       "       [-0.4841,  0.    , -0.2892],\n",
       "       [ 0.    , -0.4841, -0.406 ],\n",
       "       [ 1.9212,  0.0154,  0.    ],\n",
       "       [-0.2697,  0.    ,  0.0154],\n",
       "       [ 0.    , -0.2697, -1.9212],\n",
       "       [ 0.4031,  0.1259,  0.    ],\n",
       "       [ 3.08  ,  0.    ,  0.1259],\n",
       "       [ 0.    ,  3.08  , -0.4031],\n",
       "       [-3.0692,  0.1342,  0.    ],\n",
       "       [ 1.0462,  0.    ,  0.1342],\n",
       "       [ 0.    ,  1.0462,  3.0692],\n",
       "       [ 1.3915, -0.9433,  0.    ],\n",
       "       [ 0.892 ,  0.    , -0.9433],\n",
       "       [ 0.    ,  0.892 , -1.3915],\n",
       "       [-0.3187,  2.0026,  0.    ],\n",
       "       [-1.6942,  0.    ,  2.0026],\n",
       "       [ 0.    , -1.6942,  0.3187],\n",
       "       [-2.087 , -0.9905,  0.    ],\n",
       "       [-1.029 ,  0.    , -0.9905],\n",
       "       [ 0.    , -1.029 ,  2.087 ],\n",
       "       [-2.1767, -1.2374,  0.    ],\n",
       "       [ 2.0351,  0.    , -1.2374],\n",
       "       [ 0.    ,  2.0351,  2.1767],\n",
       "       [-0.8041, -0.9026,  0.    ],\n",
       "       [ 1.8108,  0.    , -0.9026],\n",
       "       [ 0.    ,  1.8108,  0.8041],\n",
       "       [-3.3761,  2.4591,  0.    ],\n",
       "       [ 1.2112,  0.    ,  2.4591],\n",
       "       [ 0.    ,  1.2112,  3.3761]])"
      ]
     },
     "execution_count": 51,
     "metadata": {},
     "output_type": "execute_result"
    }
   ],
   "source": [
    "np.array([jacrot(a,rot) for a in vectors_a]).reshape(-1,3)"
   ]
  },
  {
   "cell_type": "code",
   "execution_count": 7,
   "metadata": {
    "collapsed": false
   },
   "outputs": [
    {
     "data": {
      "text/plain": [
       "Biv: [ 1.732 0 0 ]"
      ]
     },
     "execution_count": 7,
     "metadata": {},
     "output_type": "execute_result"
    }
   ],
   "source": [
    "a ^ b * 2"
   ]
  },
  {
   "cell_type": "code",
   "execution_count": 8,
   "metadata": {
    "collapsed": false
   },
   "outputs": [
    {
     "name": "stdout",
     "output_type": "stream",
     "text": [
      "[ 1.7321  0.      0.    ]\n",
      "\n",
      "[[ 3.      0.      0.    ]\n",
      " [ 0.      3.      1.7321]\n",
      " [ 0.      1.7321  1.    ]]\n"
     ]
    }
   ],
   "source": [
    "res, grad, H = hyperdual.hyperdualB(a, b, rotor1) \n",
    "print(grad)\n",
    "print()\n",
    "print(H)"
   ]
  },
  {
   "cell_type": "code",
   "execution_count": 44,
   "metadata": {
    "collapsed": true
   },
   "outputs": [],
   "source": [
    "vectors_a = [vsr.Vec(1,0,0), vsr.Vec(0,1,0), vsr.Vec(0,0,1)]\n",
    "vectors_b = [a.spin(rotor) for a in vectors_a]"
   ]
  },
  {
   "cell_type": "code",
   "execution_count": 45,
   "metadata": {
    "collapsed": true
   },
   "outputs": [],
   "source": [
    "n_points=10\n",
    "vectors_a = [vsr.Vec(*np.random.normal(0.0, 0.8, 3)) for i in range(n_points)]\n",
    "vectors_b = [vector.spin(rotor) for vector in vectors_a]"
   ]
  },
  {
   "cell_type": "code",
   "execution_count": 46,
   "metadata": {
    "collapsed": false
   },
   "outputs": [],
   "source": [
    "def update(rot):\n",
    "    ans = [hyperdual.hyperdualB(a,b,rot) for a,b in zip(vectors_a, vectors_b)]\n",
    "    res = np.sum([t[0] for t in ans])\n",
    "    grad = np.sum([t[1] for t in ans], axis=0)\n",
    "    Hess = np.sum([t[2] for t in ans], axis=0)\n",
    "    B = np.dot(np.linalg.pinv(Hess),grad)\n",
    "    rot = vsr.Biv(*B).exp() * rot\n",
    "    grad_norm = np.linalg.norm(grad)\n",
    "    return rot, res, grad_norm"
   ]
  },
  {
   "cell_type": "code",
   "execution_count": 47,
   "metadata": {
    "collapsed": false
   },
   "outputs": [
    {
     "name": "stdout",
     "output_type": "stream",
     "text": [
      "7.63933287844\n",
      "0.0882019528161\n",
      "8.20768249977e-08\n",
      "Rot: [ 0.87 -0.5 3.2e-17 -2.6e-17 ]\n"
     ]
    }
   ],
   "source": [
    "rot = vsr.Rot(1,0,0,0)\n",
    "for i in range(3):\n",
    "    rot, res, grad_norm = update(rot)\n",
    "    print(res)\n",
    "print(rot)"
   ]
  },
  {
   "cell_type": "code",
   "execution_count": 58,
   "metadata": {
    "collapsed": false
   },
   "outputs": [
    {
     "name": "stdout",
     "output_type": "stream",
     "text": [
      "[[ 61.1147  -5.8339   2.6544]\n",
      " [ -5.8339  55.5389   0.8801]\n",
      " [  2.6544   0.8801  34.3606]]\n"
     ]
    }
   ],
   "source": [
    "rot = vsr.Rot(1,0,0,0)\n",
    "J = np.array([jacrot(a,rot) for a in vectors_a]).reshape(-1,3)\n",
    "print(np.dot(J.T,J))"
   ]
  },
  {
   "cell_type": "code",
   "execution_count": 59,
   "metadata": {
    "collapsed": false
   },
   "outputs": [
    {
     "name": "stdout",
     "output_type": "stream",
     "text": [
      "[[ 45.836   -5.5248  -0.5354]\n",
      " [ -5.5248  49.4821   9.6105]\n",
      " [ -0.5354   9.6105  40.4173]]\n"
     ]
    }
   ],
   "source": [
    "Hess = np.sum([hyperdual.hyperdualB(a,b,rot)[2] for a,b in zip(vectors_a, vectors_b)], axis=0)\n",
    "print(Hess)"
   ]
  }
 ],
 "metadata": {
  "kernelspec": {
   "display_name": "Python 2",
   "language": "python",
   "name": "python2"
  },
  "language_info": {
   "codemirror_mode": {
    "name": "ipython",
    "version": 2
   },
   "file_extension": ".py",
   "mimetype": "text/x-python",
   "name": "python",
   "nbconvert_exporter": "python",
   "pygments_lexer": "ipython2",
   "version": "2.7.12"
  }
 },
 "nbformat": 4,
 "nbformat_minor": 1
}
