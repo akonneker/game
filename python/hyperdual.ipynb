{
 "cells": [
  {
   "cell_type": "code",
   "execution_count": 76,
   "metadata": {
    "collapsed": false
   },
   "outputs": [
    {
     "name": "stdout",
     "output_type": "stream",
     "text": [
      "Populating the interactive namespace from numpy and matplotlib\n"
     ]
    },
    {
     "name": "stderr",
     "output_type": "stream",
     "text": [
      "/Users/lars/anaconda3/lib/python3.5/site-packages/IPython/core/magics/pylab.py:161: UserWarning: pylab import has clobbered these variables: ['Inf']\n",
      "`%matplotlib` prevents importing * from pylab and numpy\n",
      "  \"\\n`%matplotlib` prevents importing * from pylab and numpy\"\n"
     ]
    }
   ],
   "source": [
    "from __future__ import print_function\n",
    "import sys\n",
    "sys.path.append('../build/')\n",
    "%pylab inline\n",
    "np.set_printoptions(precision=4, suppress=True)\n",
    "import versor as vsr\n",
    "import hyperdual\n",
    "from versor.drawing import *"
   ]
  },
  {
   "cell_type": "code",
   "execution_count": null,
   "metadata": {
    "collapsed": true
   },
   "outputs": [],
   "source": []
  },
  {
   "cell_type": "code",
   "execution_count": 77,
   "metadata": {
    "collapsed": false
   },
   "outputs": [],
   "source": [
    "th = pi/6\n",
    "B = vsr.EGA(vsr.Biv(1,0,0)) * np.tan(th/2)\n",
    "B\n",
    "one = vsr.EGA(1,0,0,0,0,0,0,0)"
   ]
  },
  {
   "cell_type": "code",
   "execution_count": 78,
   "metadata": {
    "collapsed": false
   },
   "outputs": [
    {
     "data": {
      "text/plain": [
       "EGA: [ 0 2.2 0.13 3 0 0 0 0 ]"
      ]
     },
     "execution_count": 78,
     "metadata": {},
     "output_type": "execute_result"
    }
   ],
   "source": [
    "vsr.EGA(vsr.Vec(1,2,3)).spin((one + B) * (one - B).inv())"
   ]
  },
  {
   "cell_type": "code",
   "execution_count": 79,
   "metadata": {
    "collapsed": false
   },
   "outputs": [
    {
     "data": {
      "text/plain": [
       "EGA: [ 0 2.2 0.13 3 0 0 0 0 ]"
      ]
     },
     "execution_count": 79,
     "metadata": {},
     "output_type": "execute_result"
    }
   ],
   "source": [
    "vsr.EGA(vsr.Vec(1,2,3)).spin(vsr.EGA(vsr.Biv(-th,0,0).exp()))"
   ]
  },
  {
   "cell_type": "code",
   "execution_count": 80,
   "metadata": {
    "collapsed": false
   },
   "outputs": [],
   "source": [
    "rotor = (vsr.Biv(1,0,0).unit() * (pi/6)).exp()"
   ]
  },
  {
   "cell_type": "code",
   "execution_count": 81,
   "metadata": {
    "collapsed": false
   },
   "outputs": [
    {
     "data": {
      "text/plain": [
       "EGA: [ 0 0 0 0 -0.52 0 0 0 ]"
      ]
     },
     "execution_count": 81,
     "metadata": {},
     "output_type": "execute_result"
    }
   ],
   "source": [
    "B = vsr.EGA(rotor.log())\n",
    "B"
   ]
  },
  {
   "cell_type": "code",
   "execution_count": 82,
   "metadata": {
    "collapsed": true
   },
   "outputs": [],
   "source": [
    "one = vsr.EGA(1,0,0,0,0,0,0,0)"
   ]
  },
  {
   "cell_type": "code",
   "execution_count": 83,
   "metadata": {
    "collapsed": false
   },
   "outputs": [
    {
     "data": {
      "text/plain": [
       "EGA: [ 1 0 0 0 0 0 0 0 ]"
      ]
     },
     "execution_count": 83,
     "metadata": {},
     "output_type": "execute_result"
    }
   ],
   "source": [
    "R2 = (one + B) * (one - B).inv()\n",
    "R2 * R2.rev()"
   ]
  },
  {
   "cell_type": "code",
   "execution_count": 84,
   "metadata": {
    "collapsed": false
   },
   "outputs": [
    {
     "data": {
      "text/plain": [
       "Mot: [ 0.87 -0.5 0 0 -0.93 -0.62 -1.3 0.75 ]"
      ]
     },
     "execution_count": 84,
     "metadata": {},
     "output_type": "execute_result"
    }
   ],
   "source": [
    "M = vsr.Vec(1,2,3).trs() * rotor\n",
    "M"
   ]
  },
  {
   "cell_type": "code",
   "execution_count": 85,
   "metadata": {
    "collapsed": false
   },
   "outputs": [
    {
     "data": {
      "text/plain": [
       "Dll: [ -0.5236 0 0 -0.977 -0.6451 -1.5 ]"
      ]
     },
     "execution_count": 85,
     "metadata": {},
     "output_type": "execute_result"
    }
   ],
   "source": [
    "Bm = M.log()\n",
    "Bm"
   ]
  },
  {
   "cell_type": "code",
   "execution_count": 86,
   "metadata": {
    "collapsed": false
   },
   "outputs": [],
   "source": [
    "MextE = (Bm ^ Bm) * 0.5 + Bm + 1"
   ]
  },
  {
   "cell_type": "code",
   "execution_count": 87,
   "metadata": {
    "collapsed": false
   },
   "outputs": [
    {
     "data": {
      "text/plain": [
       "Mot: [ 1.3 0 0 0 0 0 -1.1e-16 0 ]"
      ]
     },
     "execution_count": 87,
     "metadata": {},
     "output_type": "execute_result"
    }
   ],
   "source": [
    "MextE * MextE.rev()"
   ]
  },
  {
   "cell_type": "code",
   "execution_count": 88,
   "metadata": {
    "collapsed": false
   },
   "outputs": [
    {
     "data": {
      "text/plain": [
       "Mot: [ 0 0 0 0 0 0 0 0 ]"
      ]
     },
     "execution_count": 88,
     "metadata": {},
     "output_type": "execute_result"
    }
   ],
   "source": [
    "(Bm ^ Bm) ^ Bm"
   ]
  },
  {
   "cell_type": "code",
   "execution_count": 89,
   "metadata": {
    "collapsed": false
   },
   "outputs": [],
   "source": [
    "Bm = vsr.Mot(0,Bm[0],Bm[1],Bm[2],Bm[3],Bm[4],Bm[5],0)"
   ]
  },
  {
   "cell_type": "code",
   "execution_count": 90,
   "metadata": {
    "collapsed": true
   },
   "outputs": [],
   "source": [
    "def Cayley(B):\n",
    "    one = onem = vsr.Mot(1,0,0,0,0,0,0,0)\n",
    "    B = vsr.Mot(0,Bm[0],Bm[1],Bm[2],Bm[3],Bm[4],Bm[5],0)\n",
    "    B2 = B * B\n",
    "    B20 = vsr.Mot(B2[0],0,0,0,0,0,0,0)\n",
    "    B22 = vsr.Mot(0,B2[1],B2[2],B2[3],B2[4],B2[5],B2[6],0)\n",
    "    B24 = vsr.Mot(0,0,0,0,0,0,0,B2[7])\n",
    "    return (one + B + B + B2) * (one - B20 + B24) * (1.0 / (1 - B2[0])**2)"
   ]
  },
  {
   "cell_type": "code",
   "execution_count": 91,
   "metadata": {
    "collapsed": false
   },
   "outputs": [
    {
     "data": {
      "text/plain": [
       "array([ 0.5697,  0.    , -0.8219,  0.    ,  0.    , -0.8737, -1.0126,\n",
       "       -1.2605])"
      ]
     },
     "execution_count": 91,
     "metadata": {},
     "output_type": "execute_result"
    }
   ],
   "source": [
    "Mc = Cayley(M.log())\n",
    "np.array(Mc)"
   ]
  },
  {
   "cell_type": "code",
   "execution_count": 92,
   "metadata": {
    "collapsed": false
   },
   "outputs": [
    {
     "data": {
      "text/plain": [
       "Mot: [ 0.78 -0.41 -0 -0 -0.77 -0.51 -1.2 0 ]"
      ]
     },
     "execution_count": 92,
     "metadata": {},
     "output_type": "execute_result"
    }
   ],
   "source": [
    "(onem - Bm).inv()"
   ]
  },
  {
   "cell_type": "code",
   "execution_count": 93,
   "metadata": {
    "collapsed": false
   },
   "outputs": [
    {
     "data": {
      "text/plain": [
       "Mot: [ 0.78 -0.41 0 0 -0.77 -0.51 -1.7 -0.97 ]"
      ]
     },
     "execution_count": 93,
     "metadata": {},
     "output_type": "execute_result"
    }
   ],
   "source": [
    "(onem - Bm.rev()) * (onem - Bm * Bm).inv()"
   ]
  },
  {
   "cell_type": "code",
   "execution_count": 94,
   "metadata": {
    "collapsed": false
   },
   "outputs": [
    {
     "ename": "AttributeError",
     "evalue": "module 'numpy' has no attribute 't'",
     "output_type": "error",
     "traceback": [
      "\u001b[0;31m---------------------------------------------------------------------------\u001b[0m",
      "\u001b[0;31mAttributeError\u001b[0m                            Traceback (most recent call last)",
      "\u001b[0;32m<ipython-input-94-05740edf3400>\u001b[0m in \u001b[0;36m<module>\u001b[0;34m()\u001b[0m\n\u001b[0;32m----> 1\u001b[0;31m \u001b[0mnp\u001b[0m\u001b[0;34m.\u001b[0m\u001b[0mt\u001b[0m\u001b[0;34m\u001b[0m\u001b[0m\n\u001b[0m",
      "\u001b[0;31mAttributeError\u001b[0m: module 'numpy' has no attribute 't'"
     ]
    }
   ],
   "source": [
    "np.t"
   ]
  },
  {
   "cell_type": "code",
   "execution_count": 95,
   "metadata": {
    "collapsed": false
   },
   "outputs": [
    {
     "data": {
      "text/plain": [
       "Vec: [ 0 1 0 ]"
      ]
     },
     "execution_count": 95,
     "metadata": {},
     "output_type": "execute_result"
    }
   ],
   "source": [
    "Mc.log().biv().duale().unit()"
   ]
  },
  {
   "cell_type": "code",
   "execution_count": 96,
   "metadata": {
    "collapsed": false
   },
   "outputs": [
    {
     "data": {
      "text/plain": [
       "Vec: [ 0 0 -1 ]"
      ]
     },
     "execution_count": 96,
     "metadata": {},
     "output_type": "execute_result"
    }
   ],
   "source": [
    "M.log().biv().duale().unit()"
   ]
  },
  {
   "cell_type": "code",
   "execution_count": 97,
   "metadata": {
    "collapsed": false
   },
   "outputs": [
    {
     "data": {
      "text/plain": [
       "Mot: [ 1.3 0 0 0 0 0 0 1.6 ]"
      ]
     },
     "execution_count": 97,
     "metadata": {},
     "output_type": "execute_result"
    }
   ],
   "source": [
    "F = (Bm * Bm + Bm * Bm ) * 0.5\n",
    "F[0] *= -1\n",
    "F[0] += 1\n",
    "F"
   ]
  },
  {
   "cell_type": "code",
   "execution_count": 98,
   "metadata": {
    "collapsed": false
   },
   "outputs": [
    {
     "data": {
      "text/plain": [
       "Pnt: [ 0.08288 3.675 4.709 1 17.84 ]"
      ]
     },
     "execution_count": 98,
     "metadata": {},
     "output_type": "execute_result"
    }
   ],
   "source": [
    "M2 = (onem + Bm) * (onem + Bm) * F * (1.0 / F[0]**2)\n",
    "vsr.Vec(0,0,0).null().spin(M2)"
   ]
  },
  {
   "cell_type": "code",
   "execution_count": 99,
   "metadata": {
    "collapsed": false
   },
   "outputs": [
    {
     "data": {
      "text/plain": [
       "Pnt: [ 1 2 3 1 7 ]"
      ]
     },
     "execution_count": 99,
     "metadata": {},
     "output_type": "execute_result"
    }
   ],
   "source": [
    "vsr.Vec(0,0,0).null().spin(M)"
   ]
  },
  {
   "cell_type": "code",
   "execution_count": 100,
   "metadata": {
    "collapsed": false
   },
   "outputs": [],
   "source": [
    "Bd = (M2.rev() * M).log()"
   ]
  },
  {
   "cell_type": "code",
   "execution_count": 101,
   "metadata": {
    "collapsed": false
   },
   "outputs": [
    {
     "data": {
      "text/plain": [
       "Dll: [ -0.5236 0 0 -0.977 -0.6451 -1.5 ]"
      ]
     },
     "execution_count": 101,
     "metadata": {},
     "output_type": "execute_result"
    }
   ],
   "source": [
    "M.log()"
   ]
  },
  {
   "cell_type": "code",
   "execution_count": 102,
   "metadata": {
    "collapsed": false
   },
   "outputs": [
    {
     "data": {
      "text/plain": [
       "Dll: [ 0.4411 0 0 0.8231 0.5435 0.8545 ]"
      ]
     },
     "execution_count": 102,
     "metadata": {},
     "output_type": "execute_result"
    }
   ],
   "source": [
    "Bd"
   ]
  },
  {
   "cell_type": "code",
   "execution_count": 103,
   "metadata": {
    "collapsed": true
   },
   "outputs": [],
   "source": [
    "onem = vsr.Mot(1,0,0,0,0,0,0,0)"
   ]
  },
  {
   "cell_type": "code",
   "execution_count": 104,
   "metadata": {
    "collapsed": false
   },
   "outputs": [
    {
     "data": {
      "text/plain": [
       "Mot: [ 1 0 0 0 0 0 0 -2.5 ]"
      ]
     },
     "execution_count": 104,
     "metadata": {},
     "output_type": "execute_result"
    }
   ],
   "source": [
    "R2 = (onem - Bm).inv() * (onem + Bm)\n",
    "R2 * R2.rev()"
   ]
  },
  {
   "cell_type": "code",
   "execution_count": 105,
   "metadata": {
    "collapsed": false
   },
   "outputs": [
    {
     "data": {
      "text/plain": [
       "Rot: [ 0.87 -0.5 0 0 ]"
      ]
     },
     "execution_count": 105,
     "metadata": {},
     "output_type": "execute_result"
    }
   ],
   "source": [
    "rotor"
   ]
  },
  {
   "cell_type": "code",
   "execution_count": 106,
   "metadata": {
    "collapsed": false
   },
   "outputs": [],
   "source": [
    "n_points=10\n",
    "sigma = 0.01\n",
    "vectors_a = [vsr.Vec(*np.random.normal(0.0, 0.8, 3)).unit() for i in range(n_points)]\n",
    "vectors_b = [vector.spin(rotor) for vector in vectors_a]\n",
    "vectors_b_noisy = [vsr.Vec(*(np.array(vector)\n",
    "                            + sigma * np.random.randn(3))).null() \n",
    "                  for vector in vectors_b]"
   ]
  },
  {
   "cell_type": "code",
   "execution_count": 107,
   "metadata": {
    "collapsed": true
   },
   "outputs": [],
   "source": [
    "vectors_a = [vsr.Vec(1,0,0), vsr.Vec(0,1,0), vsr.Vec(0,0,1)]\n",
    "vectors_b = [a.spin(rotor) for a in vectors_a]"
   ]
  },
  {
   "cell_type": "code",
   "execution_count": 108,
   "metadata": {
    "collapsed": false
   },
   "outputs": [],
   "source": [
    "ans = [hyperdual.hyperdualB(a,b,vsr.Biv(0,pi/6,0).exp()) for a,b in zip(vectors_a, vectors_b)]\n",
    "res = np.sum([t[0] for t in ans])\n",
    "grad = np.sum([t[1] for t in ans], axis=0)[1:]\n",
    "Hess = np.sum([t[2] for t in ans], axis=0)"
   ]
  },
  {
   "cell_type": "code",
   "execution_count": 109,
   "metadata": {
    "collapsed": false
   },
   "outputs": [
    {
     "data": {
      "text/plain": [
       "array([ 2.5981, -2.5981, -1.5   ])"
      ]
     },
     "execution_count": 109,
     "metadata": {},
     "output_type": "execute_result"
    }
   ],
   "source": [
    "grad"
   ]
  },
  {
   "cell_type": "code",
   "execution_count": 110,
   "metadata": {
    "collapsed": false
   },
   "outputs": [
    {
     "data": {
      "text/plain": [
       "[(0.7499999999999999,\n",
       "  array([ 0.   ,  0.866, -0.866, -1.5  ]),\n",
       "  array([[ 2.5  ,  1.5  , -0.866],\n",
       "         [ 1.5  ,  2.5  ,  0.866],\n",
       "         [-0.866,  0.866,  1.5  ]])),\n",
       " (0.49999999999999983,\n",
       "  array([ 0.    ,  1.7321,  0.    ,  0.    ]),\n",
       "  array([[ 3.    ,  0.    ,  0.    ],\n",
       "         [ 0.    ,  1.    , -1.7321],\n",
       "         [ 0.    , -1.7321,  3.    ]])),\n",
       " (0.49999999999999983,\n",
       "  array([ 0.    ,  0.    , -1.7321,  0.    ]),\n",
       "  array([[ 1.    ,  0.    ,  1.7321],\n",
       "         [ 0.    ,  3.    ,  0.    ],\n",
       "         [ 1.7321,  0.    ,  3.    ]]))]"
      ]
     },
     "execution_count": 110,
     "metadata": {},
     "output_type": "execute_result"
    }
   ],
   "source": [
    "ans"
   ]
  },
  {
   "cell_type": "code",
   "execution_count": 111,
   "metadata": {
    "collapsed": false
   },
   "outputs": [
    {
     "name": "stdout",
     "output_type": "stream",
     "text": [
      "[[ 6.5    1.5    0.866]\n",
      " [ 1.5    6.5   -0.866]\n",
      " [ 0.866 -0.866  7.5  ]]\n"
     ]
    }
   ],
   "source": [
    "print(Hess)"
   ]
  },
  {
   "cell_type": "code",
   "execution_count": 112,
   "metadata": {
    "collapsed": false
   },
   "outputs": [
    {
     "data": {
      "text/plain": [
       "[EGA: [ 0 1 0 0 0 0 0 0 ], EGA: [ 0 0 1 0 0 0 0 0 ], EGA: [ 0 0 0 1 0 0 0 0 ]]"
      ]
     },
     "execution_count": 112,
     "metadata": {},
     "output_type": "execute_result"
    }
   ],
   "source": [
    "aegas = [vsr.EGA(a) for a in vectors_a]\n",
    "begas = [vsr.EGA(b) for b in vectors_b]\n",
    "aegas"
   ]
  },
  {
   "cell_type": "code",
   "execution_count": 113,
   "metadata": {
    "collapsed": false
   },
   "outputs": [
    {
     "data": {
      "text/plain": [
       "[EGA: [ 0 0.5 0.87 0 0 0 0 0 ],\n",
       " EGA: [ 0 -0.87 0.5 0 0 0 0 0 ],\n",
       " EGA: [ 0 0 0 1 0 0 0 0 ]]"
      ]
     },
     "execution_count": 113,
     "metadata": {},
     "output_type": "execute_result"
    }
   ],
   "source": [
    "begas"
   ]
  },
  {
   "cell_type": "code",
   "execution_count": 114,
   "metadata": {
    "collapsed": false
   },
   "outputs": [],
   "source": [
    "a = aegas[0]\n",
    "b = begas[0]"
   ]
  },
  {
   "cell_type": "code",
   "execution_count": 40,
   "metadata": {
    "collapsed": false
   },
   "outputs": [
    {
     "data": {
      "text/plain": [
       "EGA: [ 0.87 0 0 0 0 -0.5 0 0 ]"
      ]
     },
     "execution_count": 40,
     "metadata": {},
     "output_type": "execute_result"
    }
   ],
   "source": [
    "R = vsr.EGA(vsr.Biv(0,pi/6,0).exp())\n",
    "R"
   ]
  },
  {
   "cell_type": "code",
   "execution_count": 41,
   "metadata": {
    "collapsed": false
   },
   "outputs": [],
   "source": [
    "B = vsr.EGA(vsr.Biv(1,0,0))\n",
    "gr = vsr.EGA(vsr.Biv(*ans[0][1][1:]))\n",
    "gr\n",
    "rar = a.spin(R)"
   ]
  },
  {
   "cell_type": "code",
   "execution_count": 42,
   "metadata": {
    "collapsed": false
   },
   "outputs": [
    {
     "data": {
      "text/plain": [
       "EGA: [ -0.87 0 0 0 0.5 0 0 0 ]"
      ]
     },
     "execution_count": 42,
     "metadata": {},
     "output_type": "execute_result"
    }
   ],
   "source": [
    "B * a.spin(R) * b - a.spin(R) * B * b"
   ]
  },
  {
   "cell_type": "code",
   "execution_count": 43,
   "metadata": {
    "collapsed": false
   },
   "outputs": [
    {
     "data": {
      "text/plain": [
       "EGA: [ -0.87 0 0 0 0 0 0 0 ]"
      ]
     },
     "execution_count": 43,
     "metadata": {},
     "output_type": "execute_result"
    }
   ],
   "source": [
    "B * a.spin(R) * b - b * a.spin(R) * B"
   ]
  },
  {
   "cell_type": "code",
   "execution_count": 44,
   "metadata": {
    "collapsed": false
   },
   "outputs": [
    {
     "data": {
      "text/plain": [
       "EGA: [ -0.87 0 0 0 0.5 -1.5 0.87 0 ]"
      ]
     },
     "execution_count": 44,
     "metadata": {},
     "output_type": "execute_result"
    }
   ],
   "source": [
    "B * a.spin(R) * b + B * a.spin(R) * b"
   ]
  },
  {
   "cell_type": "code",
   "execution_count": 45,
   "metadata": {
    "collapsed": false
   },
   "outputs": [
    {
     "data": {
      "text/plain": [
       "EGA: [ -0.87 0 0 0 0.5 -1.5 0.87 0 ]"
      ]
     },
     "execution_count": 45,
     "metadata": {},
     "output_type": "execute_result"
    }
   ],
   "source": [
    "(B * 2) * a.spin(R) * b"
   ]
  },
  {
   "cell_type": "code",
   "execution_count": 46,
   "metadata": {
    "collapsed": false
   },
   "outputs": [
    {
     "data": {
      "text/plain": [
       "EGA: [ 0 0 0 0 0.87 -0.87 -1.5 0 ]"
      ]
     },
     "execution_count": 46,
     "metadata": {},
     "output_type": "execute_result"
    }
   ],
   "source": [
    "2 * a.spin(R) ^ b"
   ]
  },
  {
   "cell_type": "code",
   "execution_count": 47,
   "metadata": {
    "collapsed": false
   },
   "outputs": [
    {
     "data": {
      "text/plain": [
       "EGA: [ 0 0 0 0 0.87 -0.87 -1.5 0 ]"
      ]
     },
     "execution_count": 47,
     "metadata": {},
     "output_type": "execute_result"
    }
   ],
   "source": [
    "a.spin(R) * b - b * a.spin(R)"
   ]
  },
  {
   "cell_type": "code",
   "execution_count": 48,
   "metadata": {
    "collapsed": false
   },
   "outputs": [
    {
     "data": {
      "text/plain": [
       "EGA: [ -0.87 0 0 0 0 0 0 0 ]"
      ]
     },
     "execution_count": 48,
     "metadata": {},
     "output_type": "execute_result"
    }
   ],
   "source": [
    "gr <= B"
   ]
  },
  {
   "cell_type": "code",
   "execution_count": 49,
   "metadata": {
    "collapsed": false
   },
   "outputs": [
    {
     "data": {
      "text/plain": [
       "EGA: [ -0.87 0 0 0 0.5 1.5 -0.87 0 ]"
      ]
     },
     "execution_count": 49,
     "metadata": {},
     "output_type": "execute_result"
    }
   ],
   "source": [
    "B = vsr.EGA(vsr.Biv(1,0,0))\n",
    "2 * rar * B.rev() * b"
   ]
  },
  {
   "cell_type": "code",
   "execution_count": 50,
   "metadata": {
    "collapsed": false
   },
   "outputs": [
    {
     "data": {
      "text/plain": [
       "EGA: [ 0 0 0 0 1.7 0 0 0 ]"
      ]
     },
     "execution_count": 50,
     "metadata": {},
     "output_type": "execute_result"
    }
   ],
   "source": [
    "vsr.EGA(a * b) - vsr.EGA(b * a)"
   ]
  },
  {
   "cell_type": "code",
   "execution_count": 51,
   "metadata": {
    "collapsed": false
   },
   "outputs": [
    {
     "data": {
      "text/plain": [
       "EGA: [ -1.5 0 0 0 0 -0.87 0 0 ]"
      ]
     },
     "execution_count": 51,
     "metadata": {},
     "output_type": "execute_result"
    }
   ],
   "source": [
    "(2 * rar * B.rev() * b) <= vsr.EGA(vsr.Biv(0,1,0))"
   ]
  },
  {
   "cell_type": "code",
   "execution_count": null,
   "metadata": {
    "collapsed": true
   },
   "outputs": [],
   "source": []
  },
  {
   "cell_type": "code",
   "execution_count": null,
   "metadata": {
    "collapsed": true
   },
   "outputs": [],
   "source": []
  },
  {
   "cell_type": "code",
   "execution_count": 52,
   "metadata": {
    "collapsed": false
   },
   "outputs": [],
   "source": [
    "def Hij(Bi,Bj,a,b,R):\n",
    "    Rr = R.rev()\n",
    "    Bir = Bi.rev()\n",
    "    Bjr = Bj.rev()\n",
    "    ans = (\n",
    "        Bi * Rr * Bj * a * Rr -\n",
    "        Bj * Rr * Bi * a * Rr -\n",
    "        Bi * a * Rr * Bjr * 2 -\n",
    "        Bj * a * Rr * Bir * 2 -\n",
    "        R * a * Bir * R * Bjr -\n",
    "        R * a * Bjr * R * Bir\n",
    "    ) * b * 0.5\n",
    "    return ans[0] "
   ]
  },
  {
   "cell_type": "code",
   "execution_count": 53,
   "metadata": {
    "collapsed": true
   },
   "outputs": [],
   "source": [
    "def Hi(B,a,b,R):\n",
    "    G = B.comm(a.spin(R)) * 2\n",
    "    H = (a.spin(R) - b) * ((B * B * a.spin(R)) + \n",
    "                           2.0 * a.spin(R).spin(B) + (a.spin(R) * B * B))\n",
    "    ans = H + G * G\n",
    "    return ans"
   ]
  },
  {
   "cell_type": "code",
   "execution_count": 54,
   "metadata": {
    "collapsed": false
   },
   "outputs": [],
   "source": [
    "def HessM(a,b,mot):\n",
    "    a = vsr.CGA(a)\n",
    "    b = vsr.CGA(b)\n",
    "    M = vsr.CGA(mot)\n",
    "\n",
    "    E12 = vsr.CGA(vsr.Dll(1,0,0,0,0,0)) * M.rev()\n",
    "    E13 = vsr.CGA(vsr.Dll(0,1,0,0,0,0)) * M.rev()\n",
    "    E23 = vsr.CGA(vsr.Dll(0,0,1,0,0,0)) * M.rev()\n",
    "    E1i = vsr.CGA(vsr.Dll(0,0,0,1,0,0)) * M.rev()\n",
    "    E2i = vsr.CGA(vsr.Dll(0,0,0,0,1,0)) * M.rev()\n",
    "    E3i = vsr.CGA(vsr.Dll(0,0,0,0,0,1)) * M.rev()\n",
    "    E12[0] = E12[27] = 0\n",
    "    E13[0] = E13[27] = 0\n",
    "    E23[0] = E23[27] = 0\n",
    "    E1i[0] = E1i[27] = 0\n",
    "    E2i[0] = E2i[27] = 0\n",
    "    E3i[0] = E3i[27] = 0\n",
    "    H12 = Hi(E12,a,b,M) \n",
    "    H13 = Hi(E13,a,b,M)  \n",
    "    H23 = Hi(E23,a,b,M)  \n",
    "    H1i = Hi(E1i,a,b,M)\n",
    "    H2i = Hi(E2i,a,b,M)\n",
    "    H3i = Hi(E3i,a,b,M)\n",
    "\n",
    "    H1213 = 0.25 * (Hi(E12+E13,a,b,M) - Hi(E12-E13,a,b,M))\n",
    "    H1223 = 0.25 * (Hi(E12+E23,a,b,M) - Hi(E12-E23,a,b,M))\n",
    "    H121i = 0.25 * (Hi(E12+E1i,a,b,M) - Hi(E12-E1i,a,b,M))\n",
    "    H122i = 0.25 * (Hi(E12+E2i,a,b,M) - Hi(E12-E2i,a,b,M))\n",
    "    H123i = 0.25 * (Hi(E12+E3i,a,b,M) - Hi(E12-E3i,a,b,M))\n",
    "\n",
    "    H1323 = 0.25 * (Hi(E13+E23,a,b,M) - Hi(E13-E23,a,b,M))\n",
    "    H131i = 0.25 * (Hi(E13+E1i,a,b,M) - Hi(E13-E1i,a,b,M))\n",
    "    H132i = 0.25 * (Hi(E13+E2i,a,b,M) - Hi(E13-E2i,a,b,M))\n",
    "    H133i = 0.25 * (Hi(E13+E3i,a,b,M) - Hi(E13-E3i,a,b,M))\n",
    "\n",
    "    H231i = 0.25 * (Hi(E23+E1i,a,b,M) - Hi(E23-E1i,a,b,M))\n",
    "    H232i = 0.25 * (Hi(E23+E2i,a,b,M) - Hi(E23-E2i,a,b,M))\n",
    "    H233i = 0.25 * (Hi(E23+E3i,a,b,M) - Hi(E23-E3i,a,b,M))\n",
    "\n",
    "    H1i2i = 0.25 * (Hi(E1i+E2i,a,b,M) - Hi(E1i-E2i,a,b,M))\n",
    "    H1i3i = 0.25 * (Hi(E1i+E3i,a,b,M) - Hi(E1i-E3i,a,b,M))\n",
    "\n",
    "    H2i3i = 0.25 * (Hi(E2i+E3i,a,b,M) - Hi(E2i-E3i,a,b,M))\n",
    "\n",
    "    H = np.zeros((6,6))\n",
    "    H[0,0] = H12[0]\n",
    "    H[1,1] = H13[0]\n",
    "    H[2,2] = H23[0]\n",
    "    H[3,3] = H1i[0]\n",
    "    H[4,4] = H2i[0]\n",
    "    H[5,5] = H3i[0]\n",
    "    H[0,1] = H[1,0] = H1213[0]\n",
    "    H[0,2] = H[2,0] = H1223[0]\n",
    "    H[0,3] = H[3,0] = H121i[0]\n",
    "    H[0,4] = H[4,0] = H122i[0]\n",
    "    H[0,5] = H[5,0] = H123i[0]\n",
    "\n",
    "    H[1,2] = H[2,1] = H1323[0]\n",
    "    H[1,3] = H[3,1] = H131i[0]\n",
    "    H[1,4] = H[4,1] = H132i[0]\n",
    "    H[1,5] = H[5,1] = H133i[0]\n",
    "\n",
    "    H[2,3] = H[3,2] = H231i[0]\n",
    "    H[2,4] = H[4,2] = H232i[0]\n",
    "    H[2,5] = H[5,2] = H233i[0]\n",
    "\n",
    "    H[3,4] = H[4,3] = H1i2i[0]\n",
    "    H[3,5] = H[5,3] = H1i3i[0]\n",
    "\n",
    "    H[4,5] = H[5,4] = H2i3i[0]\n",
    "\n",
    "    return H"
   ]
  },
  {
   "cell_type": "code",
   "execution_count": 58,
   "metadata": {
    "collapsed": true
   },
   "outputs": [],
   "source": [
    "def dfM(a,b,mot):\n",
    "    a = vsr.CGA(a)\n",
    "    b = vsr.CGA(b)\n",
    "    M = vsr.CGA(mot)\n",
    "    E12 = vsr.CGA(vsr.Dll(1,0,0,0,0,0)) * M.rev()\n",
    "    E13 = vsr.CGA(vsr.Dll(0,1,0,0,0,0)) * M.rev()\n",
    "    E23 = vsr.CGA(vsr.Dll(0,0,1,0,0,0)) * M.rev()\n",
    "    E1i = vsr.CGA(vsr.Dll(0,0,0,1,0,0)) * M.rev()\n",
    "    E2i = vsr.CGA(vsr.Dll(0,0,0,0,1,0)) * M.rev()\n",
    "    E3i = vsr.CGA(vsr.Dll(0,0,0,0,0,1)) * M.rev()\n",
    "    E12[0] = E12[27] = 0\n",
    "    E13[0] = E13[27] = 0\n",
    "    E23[0] = E23[27] = 0\n",
    "    E1i[0] = E1i[27] = 0\n",
    "    E2i[0] = E2i[27] = 0\n",
    "    E3i[0] = E3i[27] = 0\n",
    "    E12[0] = 0\n",
    "    E13[0] = 0\n",
    "    E23[0] = 0\n",
    "    E1i[0] = 0\n",
    "    E2i[0] = 0\n",
    "    E3i[0] = 0\n",
    "    d = lambda Ei : ((a.spin(M) - b) * (2 * Ei.comm(a.spin(M))))[0]\n",
    "    return np.array([d(E12), d(E13), d(E23), d(E1i), d(E2i), d(E3i)])"
   ]
  },
  {
   "cell_type": "code",
   "execution_count": 124,
   "metadata": {
    "collapsed": true
   },
   "outputs": [],
   "source": [
    "def resM(a,b,mot):\n",
    "    return ((a.spin(mot) - b) * (a.spin(mot) - b))[0] * 0.5"
   ]
  },
  {
   "cell_type": "code",
   "execution_count": 125,
   "metadata": {
    "collapsed": false
   },
   "outputs": [
    {
     "data": {
      "text/plain": [
       "Mot: [ 0.87 -0.5 0 0 -0.93 -0.62 -1.3 0.75 ]"
      ]
     },
     "execution_count": 125,
     "metadata": {},
     "output_type": "execute_result"
    }
   ],
   "source": [
    "M"
   ]
  },
  {
   "cell_type": "code",
   "execution_count": 126,
   "metadata": {
    "collapsed": false
   },
   "outputs": [
    {
     "name": "stdout",
     "output_type": "stream",
     "text": [
      "[[ 47.1747   7.234  -33.1549 -48.8079  34.7216   0.    ]\n",
      " [  7.234   79.3752  17.0539 -61.7007   0.      34.7216]\n",
      " [-33.1549  17.0539  44.9764   0.     -61.7007  48.8079]\n",
      " [-48.8079 -61.7007   0.      40.       0.       0.    ]\n",
      " [ 34.7216   0.     -61.7007   0.      40.       0.    ]\n",
      " [  0.      34.7216  48.8079   0.       0.      40.    ]]\n",
      "\n",
      "82.6446325401\n",
      "[[ 108.2224   76.4428  -33.5898  -55.6056   14.7772   -8.8042]\n",
      " [  76.4428  164.8045   22.7557  -56.569    15.1065   41.7983]\n",
      " [ -33.5898   22.7557  193.8834   -0.0344  -61.8269   48.5476]\n",
      " [ -55.6056  -56.569    -0.0344   39.5072   -1.4435   -0.6185]\n",
      " [  14.7772   15.1065  -61.8269   -1.4435   35.7716   -1.8117]\n",
      " [  -8.8042   41.7983   48.5476   -0.6185   -1.8117   39.2238]]\n",
      "\n",
      "7.08023393599\n",
      "[[ 161.5906    3.9036  -82.0383  -47.0174   41.2257  -26.4571]\n",
      " [   3.9036  234.3152   26.5733  -61.9875   -1.0236   38.9731]\n",
      " [ -82.0383   26.5733  128.1817    2.6222  -52.2447   10.0101]\n",
      " [ -47.0174  -61.9875    2.6222   39.9096   -0.326     1.337 ]\n",
      " [  41.2257   -1.0236  -52.2447   -0.326    38.8241    4.8229]\n",
      " [ -26.4571   38.9731   10.0101    1.337     4.8229   20.2191]]\n",
      "\n",
      "2.81246652115\n",
      "[[ 141.2027   45.5152  -79.2764  -49.0449   33.4615  -24.4829]\n",
      " [  45.5152  225.1178   40.6543  -61.579     0.6466   47.2985]\n",
      " [ -79.2764   40.6543  181.2613   -0.1488  -62.4911   33.4343]\n",
      " [ -49.0449  -61.579    -0.1488   39.9992   -0.0041   -0.0793]\n",
      " [  33.4615    0.6466  -62.4911   -0.0041   39.9783   -0.4215]\n",
      " [ -24.4829   47.2985   33.4343   -0.0793   -0.4215   31.8005]]\n",
      "\n",
      "0.087586822132\n",
      "[[ 144.9809   39.2145  -81.6435  -48.8077   34.7255  -25.9877]\n",
      " [  39.2145  229.5035   40.039   -61.7008   -0.0019   47.0404]\n",
      " [ -81.6435   40.039   175.4187    0.0001  -61.6979   30.1318]\n",
      " [ -48.8077  -61.7008    0.0001   40.       -0.        0.0001]\n",
      " [  34.7255   -0.0019  -61.6979   -0.       40.        0.0015]\n",
      " [ -25.9877   47.0404   30.1318    0.0001    0.0015   29.9906]]\n",
      "\n",
      "1.90818348269e-06\n",
      "[[ 144.964    39.2436  -81.6357  -48.8079   34.7216  -25.9808]\n",
      " [  39.2436  229.485    40.0443  -61.7007    0.       47.0421]\n",
      " [ -81.6357   40.0443  175.4451    0.      -61.7007   30.1477]\n",
      " [ -48.8079  -61.7007    0.       40.        0.        0.    ]\n",
      " [  34.7216    0.      -61.7007    0.       40.       -0.    ]\n",
      " [ -25.9808   47.0421   30.1477    0.       -0.       30.    ]]\n",
      "\n",
      "2.20377535316e-20\n",
      "5\n",
      "Mot: [ 0.87 -0.5 4.8e-12 1.1e-12 -0.93 -0.62 -1.3 0.75 ]\n",
      "Mot: [ 0.87 -0.5 0 0 -0.93 -0.62 -1.3 0.75 ]\n"
     ]
    },
    {
     "data": {
      "text/plain": [
       "[<matplotlib.lines.Line2D at 0x110a07e10>]"
      ]
     },
     "execution_count": 126,
     "metadata": {},
     "output_type": "execute_result"
    },
    {
     "data": {
      "image/png": "[encoded data removed]",
      "text/plain": [
       "<matplotlib.figure.Figure at 0x10f6ef5c0>"
      ]
     },
     "metadata": {},
     "output_type": "display_data"
    }
   ],
   "source": [
    "n_points=10\n",
    "vectors_a = [vsr.Vec(*np.random.normal(0.0, 0.8, 3)).null() for i in range(n_points)]\n",
    "vectors_b = [vector.spin(M) for vector in vectors_a]\n",
    "\n",
    "n_points = 10\n",
    "sigma = 0.09\n",
    "points_a = [(vsr.Vec(*np.random.normal(0.0, 0.8, 3)).null(),\n",
    "             vsr.Vec(*np.random.normal(0.0, 0.8, 3)).null()  )\n",
    "            for i in range(n_points)]\n",
    "\n",
    "points_a_noisy = [(vsr.Vec(*(np.array(a)[:3] + sigma * np.random.randn(3))).null(),\n",
    "                   vsr.Vec(*(np.array(b)[:3] + sigma * np.random.randn(3))).null()) \n",
    "                  for a,b in points_a]\n",
    "\n",
    "lines_a = [vsr.Dll(a,b).unit() for (a,b) in points_a]\n",
    "lines_b = [line.spin(M) for line in lines_a]\n",
    "\n",
    "# vectors_a = lines_a\n",
    "# vectors_b = lines_b\n",
    "\n",
    "def update(mot):\n",
    "    res = np.sum([np.array(resM(a,b,mot)) for a,b in zip(vectors_a, vectors_b)],axis=0)\n",
    "    grad = np.sum([np.array(dfM(a,b,mot)) for a,b in zip(vectors_a, vectors_b)],axis=0)\n",
    "    Hess = np.sum([np.array(HessM(a,b,mot)) for a,b in zip(vectors_a, vectors_b)],axis=0)\n",
    "    \n",
    "    print(Hess)\n",
    "    print()\n",
    "\n",
    "    B = np.dot(np.linalg.pinv(Hess), -grad)\n",
    "    mot = (vsr.Dll(*B) * mot.rev()).dll().exp() * mot    \n",
    "#     mot = Cayley((vsr.Dll(*B) * mot.rev()).dll()) * mot\n",
    "    \n",
    "    grad_norm = np.linalg.norm(grad)\n",
    "    return mot, res, grad_norm\n",
    "\n",
    "rot = vsr.Mot(1,0,0,0,0,0,0,0)\n",
    "ress = []\n",
    "for i in range(10):\n",
    "    rot, res, grad_norm = update(rot)\n",
    "    ress.append(res)\n",
    "    print(res)\n",
    "    if grad_norm < 1e-6: \n",
    "        break\n",
    "print(i)\n",
    "print(rot)\n",
    "\n",
    "print(M)\n",
    "\n",
    "plot(ress)"
   ]
  },
  {
   "cell_type": "code",
   "execution_count": 64,
   "metadata": {
    "collapsed": false
   },
   "outputs": [
    {
     "ename": "NameError",
     "evalue": "name 'M2' is not defined",
     "output_type": "error",
     "traceback": [
      "\u001b[0;31m---------------------------------------------------------------------------\u001b[0m",
      "\u001b[0;31mNameError\u001b[0m                                 Traceback (most recent call last)",
      "\u001b[0;32m<ipython-input-64-4e867b0e40f2>\u001b[0m in \u001b[0;36m<module>\u001b[0;34m()\u001b[0m\n\u001b[0;32m----> 1\u001b[0;31m \u001b[0mdfM\u001b[0m\u001b[0;34m(\u001b[0m\u001b[0ma\u001b[0m\u001b[0;34m,\u001b[0m\u001b[0mb\u001b[0m\u001b[0;34m,\u001b[0m\u001b[0mM2\u001b[0m\u001b[0;34m)\u001b[0m\u001b[0;34m\u001b[0m\u001b[0m\n\u001b[0m",
      "\u001b[0;31mNameError\u001b[0m: name 'M2' is not defined"
     ]
    }
   ],
   "source": [
    "dfM(a,b,M2)"
   ]
  },
  {
   "cell_type": "code",
   "execution_count": 156,
   "metadata": {
    "collapsed": false
   },
   "outputs": [
    {
     "name": "stdout",
     "output_type": "stream",
     "text": [
      "CGA: [ 0 0 0 0 0 0 0 0 0 0 0 0 0.87 0 0.5 0 0 0 0 0 0 0 0 0 0 0 0 0 0 0 0 0 ]\n"
     ]
    },
    {
     "data": {
      "text/plain": [
       "array([[ 3.9641, -0.1495, -2.    , -1.7321,  3.    ,  0.    ],\n",
       "       [-0.1495,  2.6471,  1.8571, -1.933 , -1.8481,  3.116 ],\n",
       "       [-2.    ,  1.8571,  1.9641,  0.    , -2.    ,  1.7321],\n",
       "       [-1.7321, -1.933 ,  0.    ,  4.    ,  0.    ,  0.    ],\n",
       "       [ 3.    , -1.8481, -2.    ,  0.    ,  2.    ,  0.    ],\n",
       "       [ 0.    ,  3.116 ,  1.7321,  0.    ,  0.    ,  4.    ]])"
      ]
     },
     "execution_count": 156,
     "metadata": {},
     "output_type": "execute_result"
    }
   ],
   "source": [
    "M = vsr.Vec(0,0,1).trs() * vsr.Biv(pi/6,0,0).exp()\n",
    "a = vsr.Vec(1,0,0).null()\n",
    "b = a.spin(M)\n",
    "\n",
    "M2 = vsr.Vec(0,1,0).trs() * vsr.Biv(0,pi/6,0).exp()\n",
    "HessM(a,b,M2)"
   ]
  },
  {
   "cell_type": "code",
   "execution_count": 54,
   "metadata": {
    "collapsed": true
   },
   "outputs": [],
   "source": [
    "def Gi(B,a,b,R):\n",
    "    G = B.comm(a.spin(R)) * 2\n",
    "    ans = G * G\n",
    "    return ans"
   ]
  },
  {
   "cell_type": "code",
   "execution_count": 55,
   "metadata": {
    "collapsed": true
   },
   "outputs": [],
   "source": [
    "def Jac(a,R):\n",
    "    J = np.zeros((3,3))\n",
    "    for i in range(3):\n",
    "        Ei = vsr.Biv(0,0,0)\n",
    "        Ei[i] = 1.0\n",
    "        J[:,i] = Ei.comm(a.spin(R)) * 2.0\n",
    "    return J"
   ]
  },
  {
   "cell_type": "code",
   "execution_count": 56,
   "metadata": {
    "collapsed": true
   },
   "outputs": [],
   "source": [
    "def Hess2(a,b,rot):\n",
    "    a = vsr.EGA(a)\n",
    "    b = vsr.EGA(b)\n",
    "    R = vsr.EGA(rot)\n",
    "    E12 = vsr.EGA(vsr.Biv(1,0,0)) * R.rev()\n",
    "    E13 = vsr.EGA(vsr.Biv(0,1,0)) * R.rev()\n",
    "    E23 = vsr.EGA(vsr.Biv(0,0,1)) * R.rev()\n",
    "    E12[0] = 0\n",
    "    E13[0] = 0\n",
    "    E23[0] = 0\n",
    "#     print(E12)\n",
    "#     print(E13)\n",
    "#     print(E23)\n",
    "    H12 = Hi(E12,a,b,R) \n",
    "    H13 = Hi(E13,a,b,R)  \n",
    "    H23 = Hi(E23,a,b,R)  \n",
    "    H1213 = 0.25 * (Hi(E12+E13,a,b,R) - Hi(E12-E13,a,b,R))\n",
    "    H1223 = 0.25 * (Hi(E12+E23,a,b,R) - Hi(E12-E23,a,b,R))\n",
    "    H1323 = 0.25 * (Hi(E13+E23,a,b,R) - Hi(E13-E23,a,b,R))\n",
    "    return np.array([[  H12[0], H1213[0], H1223[0]],\n",
    "                     [H1213[0],   H13[0], H1323[0]],\n",
    "                     [H1223[0], H1323[0],   H23[0]]])"
   ]
  },
  {
   "cell_type": "code",
   "execution_count": null,
   "metadata": {
    "collapsed": false
   },
   "outputs": [],
   "source": []
  },
  {
   "cell_type": "code",
   "execution_count": 57,
   "metadata": {
    "collapsed": false
   },
   "outputs": [
    {
     "ename": "NameError",
     "evalue": "name 'rot' is not defined",
     "output_type": "error",
     "traceback": [
      "\u001b[0;31m---------------------------------------------------------------------------\u001b[0m",
      "\u001b[0;31mNameError\u001b[0m                                 Traceback (most recent call last)",
      "\u001b[0;32m<ipython-input-57-e701cb50b71f>\u001b[0m in \u001b[0;36m<module>\u001b[0;34m()\u001b[0m\n\u001b[1;32m      1\u001b[0m \u001b[0ma\u001b[0m \u001b[0;34m=\u001b[0m \u001b[0mvsr\u001b[0m\u001b[0;34m.\u001b[0m\u001b[0mEGA\u001b[0m\u001b[0;34m(\u001b[0m\u001b[0ma\u001b[0m\u001b[0;34m)\u001b[0m\u001b[0;34m\u001b[0m\u001b[0m\n\u001b[1;32m      2\u001b[0m \u001b[0mb\u001b[0m \u001b[0;34m=\u001b[0m \u001b[0mvsr\u001b[0m\u001b[0;34m.\u001b[0m\u001b[0mEGA\u001b[0m\u001b[0;34m(\u001b[0m\u001b[0mb\u001b[0m\u001b[0;34m)\u001b[0m\u001b[0;34m\u001b[0m\u001b[0m\n\u001b[0;32m----> 3\u001b[0;31m \u001b[0mR\u001b[0m \u001b[0;34m=\u001b[0m \u001b[0mvsr\u001b[0m\u001b[0;34m.\u001b[0m\u001b[0mEGA\u001b[0m\u001b[0;34m(\u001b[0m\u001b[0mrot\u001b[0m\u001b[0;34m)\u001b[0m\u001b[0;34m\u001b[0m\u001b[0m\n\u001b[0m\u001b[1;32m      4\u001b[0m \u001b[0mE12\u001b[0m \u001b[0;34m=\u001b[0m \u001b[0mvsr\u001b[0m\u001b[0;34m.\u001b[0m\u001b[0mEGA\u001b[0m\u001b[0;34m(\u001b[0m\u001b[0mvsr\u001b[0m\u001b[0;34m.\u001b[0m\u001b[0mBiv\u001b[0m\u001b[0;34m(\u001b[0m\u001b[0;36m1\u001b[0m\u001b[0;34m,\u001b[0m\u001b[0;36m0\u001b[0m\u001b[0;34m,\u001b[0m\u001b[0;36m0\u001b[0m\u001b[0;34m)\u001b[0m\u001b[0;34m)\u001b[0m\u001b[0;34m\u001b[0m\u001b[0m\n\u001b[1;32m      5\u001b[0m \u001b[0mE13\u001b[0m \u001b[0;34m=\u001b[0m \u001b[0mvsr\u001b[0m\u001b[0;34m.\u001b[0m\u001b[0mEGA\u001b[0m\u001b[0;34m(\u001b[0m\u001b[0mvsr\u001b[0m\u001b[0;34m.\u001b[0m\u001b[0mBiv\u001b[0m\u001b[0;34m(\u001b[0m\u001b[0;36m0\u001b[0m\u001b[0;34m,\u001b[0m\u001b[0;36m1\u001b[0m\u001b[0;34m,\u001b[0m\u001b[0;36m0\u001b[0m\u001b[0;34m)\u001b[0m\u001b[0;34m)\u001b[0m\u001b[0;34m\u001b[0m\u001b[0m\n",
      "\u001b[0;31mNameError\u001b[0m: name 'rot' is not defined"
     ]
    }
   ],
   "source": [
    "a = vsr.EGA(a)\n",
    "b = vsr.EGA(b)\n",
    "R = vsr.EGA(rot)\n",
    "E12 = vsr.EGA(vsr.Biv(1,0,0))\n",
    "E13 = vsr.EGA(vsr.Biv(0,1,0)) \n",
    "E23 = vsr.EGA(vsr.Biv(0,0,1)) \n",
    "0.25 * (Hi(E12+E12,a,b,R) - Hi(E12-E12,a,b,R))"
   ]
  },
  {
   "cell_type": "code",
   "execution_count": 58,
   "metadata": {
    "collapsed": false
   },
   "outputs": [
    {
     "ename": "NameError",
     "evalue": "name 'E12' is not defined",
     "output_type": "error",
     "traceback": [
      "\u001b[0;31m---------------------------------------------------------------------------\u001b[0m",
      "\u001b[0;31mNameError\u001b[0m                                 Traceback (most recent call last)",
      "\u001b[0;32m<ipython-input-58-463e2294676d>\u001b[0m in \u001b[0;36m<module>\u001b[0;34m()\u001b[0m\n\u001b[0;32m----> 1\u001b[0;31m \u001b[0mHi\u001b[0m\u001b[0;34m(\u001b[0m\u001b[0mE12\u001b[0m\u001b[0;34m,\u001b[0m\u001b[0ma\u001b[0m\u001b[0;34m,\u001b[0m\u001b[0mb\u001b[0m\u001b[0;34m,\u001b[0m\u001b[0mR\u001b[0m\u001b[0;34m)\u001b[0m\u001b[0;34m\u001b[0m\u001b[0m\n\u001b[0m",
      "\u001b[0;31mNameError\u001b[0m: name 'E12' is not defined"
     ]
    }
   ],
   "source": [
    "Hi(E12,a,b,R)"
   ]
  },
  {
   "cell_type": "code",
   "execution_count": 59,
   "metadata": {
    "collapsed": false
   },
   "outputs": [],
   "source": [
    "a = vsr.Vec(1,0,0)\n",
    "b = a.spin((vsr.Biv(1,0,0).unit() * (pi/6)).exp())\n",
    "rot = (vsr.Biv(0,1,0).unit() * (pi/6)).exp()"
   ]
  },
  {
   "cell_type": "code",
   "execution_count": 60,
   "metadata": {
    "collapsed": false
   },
   "outputs": [
    {
     "data": {
      "text/plain": [
       "1.4999999999999998"
      ]
     },
     "execution_count": 60,
     "metadata": {},
     "output_type": "execute_result"
    }
   ],
   "source": [
    "(a.spin(rot) - b).norm() * (a.spin(rot) - b).norm() "
   ]
  },
  {
   "cell_type": "code",
   "execution_count": 61,
   "metadata": {
    "collapsed": false
   },
   "outputs": [
    {
     "name": "stdout",
     "output_type": "stream",
     "text": [
      "[[ 1.      0.     -1.7321]\n",
      " [ 0.      4.      0.    ]\n",
      " [-1.7321  0.      3.    ]]\n"
     ]
    }
   ],
   "source": [
    "J = Jac(a,rot)\n",
    "JtJ = np.dot(J.T,J)\n",
    "print(JtJ)"
   ]
  },
  {
   "cell_type": "code",
   "execution_count": 62,
   "metadata": {
    "collapsed": false
   },
   "outputs": [
    {
     "ename": "NameError",
     "evalue": "name 'df' is not defined",
     "output_type": "error",
     "traceback": [
      "\u001b[0;31m---------------------------------------------------------------------------\u001b[0m",
      "\u001b[0;31mNameError\u001b[0m                                 Traceback (most recent call last)",
      "\u001b[0;32m<ipython-input-62-33df0865b252>\u001b[0m in \u001b[0;36m<module>\u001b[0;34m()\u001b[0m\n\u001b[0;32m----> 1\u001b[0;31m \u001b[0mprint\u001b[0m\u001b[0;34m(\u001b[0m\u001b[0mdf\u001b[0m\u001b[0;34m(\u001b[0m\u001b[0ma\u001b[0m\u001b[0;34m,\u001b[0m\u001b[0mb\u001b[0m\u001b[0;34m,\u001b[0m\u001b[0mrot\u001b[0m\u001b[0;34m)\u001b[0m\u001b[0;34m)\u001b[0m\u001b[0;34m\u001b[0m\u001b[0m\n\u001b[0m\u001b[1;32m      2\u001b[0m \u001b[0mprint\u001b[0m\u001b[0;34m(\u001b[0m\u001b[0mHess2\u001b[0m\u001b[0;34m(\u001b[0m\u001b[0ma\u001b[0m\u001b[0;34m,\u001b[0m\u001b[0mb\u001b[0m\u001b[0;34m,\u001b[0m\u001b[0mrot\u001b[0m\u001b[0;34m)\u001b[0m\u001b[0;34m,\u001b[0m\u001b[0;34m'\\n'\u001b[0m\u001b[0;34m)\u001b[0m\u001b[0;34m\u001b[0m\u001b[0m\n",
      "\u001b[0;31mNameError\u001b[0m: name 'df' is not defined"
     ]
    }
   ],
   "source": [
    "print(df(a,b,rot))\n",
    "print(Hess2(a,b,rot),'\\n')"
   ]
  },
  {
   "cell_type": "code",
   "execution_count": 63,
   "metadata": {
    "collapsed": false
   },
   "outputs": [
    {
     "name": "stdout",
     "output_type": "stream",
     "text": [
      "[ 0.866 -0.866 -1.5  ]\n",
      "[[ 2.5    1.5   -0.866]\n",
      " [ 1.5    2.5    0.866]\n",
      " [-0.866  0.866  1.5  ]]\n"
     ]
    }
   ],
   "source": [
    "print(hyperdual.hyperdualB(a,b,rot)[1][1:])\n",
    "print(hyperdual.hyperdualB(a,b,rot)[2])"
   ]
  },
  {
   "cell_type": "code",
   "execution_count": 64,
   "metadata": {
    "collapsed": false
   },
   "outputs": [
    {
     "name": "stdout",
     "output_type": "stream",
     "text": [
      "1.0\n"
     ]
    }
   ],
   "source": [
    "print((hyperdual.hyperdualB(a,b,rot)[2] - Hess2(a,b,rot))[0][0])"
   ]
  },
  {
   "cell_type": "code",
   "execution_count": 148,
   "metadata": {
    "collapsed": false
   },
   "outputs": [],
   "source": [
    "def df(a,b,R):\n",
    "    a = vsr.EGA(a)\n",
    "    b = vsr.EGA(b)\n",
    "    R = vsr.EGA(R)\n",
    "    Rr = R.rev()\n",
    "    E12 = vsr.EGA(vsr.Biv(1,0,0)) * R.rev()\n",
    "    E13 = vsr.EGA(vsr.Biv(0,1,0)) * R.rev()\n",
    "    E23 = vsr.EGA(vsr.Biv(0,0,1)) * R.rev()\n",
    "    E12[0] = 0\n",
    "    E13[0] = 0\n",
    "    E23[0] = 0\n",
    "    d = lambda Ei : ((a.spin(R) - b) * (2 * Ei.comm(a.spin(R))))[0]\n",
    "    return np.array([d(E12), d(E13), d(E23)])"
   ]
  },
  {
   "cell_type": "code",
   "execution_count": null,
   "metadata": {
    "collapsed": true
   },
   "outputs": [],
   "source": [
    "def df(a,b,R):\n",
    "    a = vsr.EGA(a)\n",
    "    b = vsr.EGA(b)\n",
    "    R = vsr.EGA(R)\n",
    "    Rr = R.rev()\n",
    "    E12 = vsr.EGA(vsr.Biv(1,0,0)) * R.rev()\n",
    "    E13 = vsr.EGA(vsr.Biv(0,1,0)) * R.rev()\n",
    "    E23 = vsr.EGA(vsr.Biv(0,0,1)) * R.rev()\n",
    "    E12[0] = 0\n",
    "    E13[0] = 0\n",
    "    E23[0] = 0\n",
    "    d = lambda Ei : ((a.spin(R) - b) * (2 * Ei.comm(a.spin(R))))[0]\n",
    "    return np.array([d(E12), d(E13), d(E23)])"
   ]
  },
  {
   "cell_type": "code",
   "execution_count": 93,
   "metadata": {
    "collapsed": true
   },
   "outputs": [],
   "source": [
    "def CayE3(B):\n",
    "    B = vsr.EGA(B)\n",
    "    one = vsr.EGA(1.,0.,0.,0.,0.,0.,0.,0.)\n",
    "    cay = (one + B) * (one - B).inv()\n",
    "    return -vsr.Rot(cay[0], cay[4], cay[5], cay[6])"
   ]
  },
  {
   "cell_type": "code",
   "execution_count": 94,
   "metadata": {
    "collapsed": false
   },
   "outputs": [
    {
     "data": {
      "text/plain": [
       "Rot: [ 0.5 -0.87 -0 -0 ]"
      ]
     },
     "execution_count": 94,
     "metadata": {},
     "output_type": "execute_result"
    }
   ],
   "source": [
    "CayE3(vsr.Biv(tan(pi/3),0,0))"
   ]
  },
  {
   "cell_type": "code",
   "execution_count": 103,
   "metadata": {
    "collapsed": false
   },
   "outputs": [
    {
     "name": "stdout",
     "output_type": "stream",
     "text": [
      "7.90173775754\n",
      "3.80489269296\n",
      "0.198617857575\n",
      "1.63616615196e-05\n",
      "9.03133674098e-18\n",
      "4\n"
     ]
    },
    {
     "data": {
      "text/plain": [
       "[<matplotlib.lines.Line2D at 0x10ec77c50>]"
      ]
     },
     "execution_count": 103,
     "metadata": {},
     "output_type": "execute_result"
    },
    {
     "data": {
      "image/png": "[encoded data removed]",
      "text/plain": [
       "<matplotlib.figure.Figure at 0x10ec105c0>"
      ]
     },
     "metadata": {},
     "output_type": "display_data"
    }
   ],
   "source": [
    "n_points=10\n",
    "vectors_a = [vsr.Vec(*np.random.normal(0.0, 0.8, 3)) for i in range(n_points)]\n",
    "vectors_b = [vector.spin(rotor) for vector in vectors_a]\n",
    "\n",
    "def update(rot):\n",
    "    ans = [hyperdual.hyperdualB(a,b,rot) for a,b in zip(vectors_a, vectors_b)]\n",
    "    res = np.sum([t[0] for t in ans])\n",
    "    \n",
    "    grad = np.sum([np.array(df(a,b,rot)) for a,b in zip(vectors_a, vectors_b)],axis=0)\n",
    "    Hess = np.sum([np.array(Hess2(a,b,rot)) for a,b in zip(vectors_a, vectors_b)],axis=0)\n",
    "\n",
    "    B = np.dot(np.linalg.pinv(Hess), grad)\n",
    "    rot = (vsr.Biv(*B) * rot.rev()).biv().exp() * rot\n",
    "#     rot = CayE3((vsr.Biv(*B) * rot.rev()).biv()) * rot\n",
    "    \n",
    "    \n",
    "    grad_norm = np.linalg.norm(grad)\n",
    "    return rot, res, grad_norm\n",
    "\n",
    "rot = vsr.Rot(1,0,0,0)\n",
    "ress = []\n",
    "for i in range(10):\n",
    "    rot, res, grad_norm = update(rot)\n",
    "    ress.append(res)\n",
    "    print(res)\n",
    "    if res < 1e-6: \n",
    "        break\n",
    "print(i)\n",
    "\n",
    "plot(ress)"
   ]
  },
  {
   "cell_type": "code",
   "execution_count": 90,
   "metadata": {
    "collapsed": true
   },
   "outputs": [],
   "source": [
    "def grad2(a,b,rot):\n",
    "    def grad_ij(B, a ,b,rot):\n",
    "        return (B.comm(a.spin(rot)) * b * -2)[0]\n",
    "    return vsr.Biv(grad_ij(vsr.Biv(1,0,0),a,b,rot),\n",
    "                   grad_ij(vsr.Biv(0,1,0),a,b,rot),\n",
    "                   grad_ij(vsr.Biv(0,0,1),a,b,rot))"
   ]
  },
  {
   "cell_type": "code",
   "execution_count": 260,
   "metadata": {
    "collapsed": true
   },
   "outputs": [],
   "source": [
    "a = vsr.Vec(1,0,0)\n",
    "b = a.spin((vsr.Biv(1,0,0).unit() * (pi/6)).exp())\n",
    "R = (vsr.Biv(0,1,0).unit() * (pi/6)).exp()"
   ]
  },
  {
   "cell_type": "code",
   "execution_count": 261,
   "metadata": {
    "collapsed": false
   },
   "outputs": [
    {
     "data": {
      "text/plain": [
       "array([ 1.5  , -0.75 , -0.866])"
      ]
     },
     "execution_count": 261,
     "metadata": {},
     "output_type": "execute_result"
    }
   ],
   "source": [
    "df(a,b,R)"
   ]
  },
  {
   "cell_type": "code",
   "execution_count": 262,
   "metadata": {
    "collapsed": false
   },
   "outputs": [
    {
     "data": {
      "text/plain": [
       "Biv: [ 0.866 -0.866 -1.5 ]"
      ]
     },
     "execution_count": 262,
     "metadata": {},
     "output_type": "execute_result"
    }
   ],
   "source": [
    "grad2(a,b,R)"
   ]
  },
  {
   "cell_type": "code",
   "execution_count": 263,
   "metadata": {
    "collapsed": false
   },
   "outputs": [
    {
     "data": {
      "text/plain": [
       "(0.7499999999999999,\n",
       " array([ 0.   ,  0.866, -0.866, -1.5  ]),\n",
       " array([[ 2.5  ,  1.5  , -0.866],\n",
       "        [ 1.5  ,  2.5  ,  0.866],\n",
       "        [-0.866,  0.866,  1.5  ]]))"
      ]
     },
     "execution_count": 263,
     "metadata": {},
     "output_type": "execute_result"
    }
   ],
   "source": [
    "hyperdual.hyperdualB(a,b,R)"
   ]
  },
  {
   "cell_type": "code",
   "execution_count": 264,
   "metadata": {
    "collapsed": false
   },
   "outputs": [],
   "source": [
    "a = vsr.EGA(a)\n",
    "b = vsr.EGA(b)\n",
    "R = vsr.EGA(R)\n",
    "ar = a.spin(R)\n",
    "E12 = vsr.EGA(vsr.Biv(1,0,0))\n",
    "E13 = vsr.EGA(vsr.Biv(0,1,0))\n",
    "E23 = vsr.EGA(vsr.Biv(0,0,1))"
   ]
  },
  {
   "cell_type": "code",
   "execution_count": 265,
   "metadata": {
    "collapsed": false
   },
   "outputs": [],
   "source": [
    "B1 = E12\n",
    "B2 = E12"
   ]
  },
  {
   "cell_type": "code",
   "execution_count": 266,
   "metadata": {
    "collapsed": false
   },
   "outputs": [
    {
     "data": {
      "text/plain": [
       "EGA: [ -0.5 0 0 0 -0.87 0 0 0 ]"
      ]
     },
     "execution_count": 266,
     "metadata": {},
     "output_type": "execute_result"
    }
   ],
   "source": [
    "(B1 * B2 * ar * b + \n",
    " B1 * ar * B2.rev() * b + \n",
    " B2* ar * B1.rev() * b +\n",
    " ar * B1.rev() * B2.rev() * b) * 0.5"
   ]
  },
  {
   "cell_type": "code",
   "execution_count": 267,
   "metadata": {
    "collapsed": false,
    "scrolled": true
   },
   "outputs": [
    {
     "data": {
      "text/plain": [
       "EGA: [ 0.12 0 0 0 -0.067 -0.2 3.1 0 ]"
      ]
     },
     "execution_count": 267,
     "metadata": {},
     "output_type": "execute_result"
    }
   ],
   "source": [
    "B1 * (B2 * ar * b - b * ar * B2.rev() * 2.0 + ar.spin(B) * b * 2.0)"
   ]
  },
  {
   "cell_type": "code",
   "execution_count": 268,
   "metadata": {
    "collapsed": false
   },
   "outputs": [],
   "source": [
    "a = vsr.Vec(1,0,0)\n",
    "b = a.spin((vsr.Biv(1,0,0).unit() * (pi/6)).exp())\n",
    "R = (vsr.Biv(0,1,0).unit() * (pi/6)).exp()"
   ]
  },
  {
   "cell_type": "code",
   "execution_count": 269,
   "metadata": {
    "collapsed": false
   },
   "outputs": [
    {
     "name": "stdout",
     "output_type": "stream",
     "text": [
      "[[ 1.5    0.75   0.   ]\n",
      " [ 0.75   0.75   1.299]\n",
      " [ 0.     1.299 -0.5  ]] \n",
      "\n",
      "[[ 2.5    1.5   -0.866]\n",
      " [ 1.5    2.5    0.866]\n",
      " [-0.866  0.866  1.5  ]]\n"
     ]
    }
   ],
   "source": [
    "\n",
    "print(Hess2(a,b,R),'\\n')\n",
    "print(hyperdual.hyperdualB(a,b,R)[2])"
   ]
  },
  {
   "cell_type": "code",
   "execution_count": 270,
   "metadata": {
    "collapsed": false
   },
   "outputs": [
    {
     "data": {
      "text/plain": [
       "array([[ 4.    ,  2.25  , -0.866 ],\n",
       "       [ 2.25  ,  3.25  ,  2.1651],\n",
       "       [-0.866 ,  2.1651,  1.    ]])"
      ]
     },
     "execution_count": 270,
     "metadata": {},
     "output_type": "execute_result"
    }
   ],
   "source": [
    "(hyperdual.hyperdualB(a,b,R)[2] + Hess2(a,b,R) ) "
   ]
  },
  {
   "cell_type": "code",
   "execution_count": null,
   "metadata": {
    "collapsed": false
   },
   "outputs": [],
   "source": []
  },
  {
   "cell_type": "code",
   "execution_count": 271,
   "metadata": {
    "collapsed": false
   },
   "outputs": [
    {
     "data": {
      "text/plain": [
       "array([[ 0.]])"
      ]
     },
     "execution_count": 271,
     "metadata": {},
     "output_type": "execute_result"
    }
   ],
   "source": [
    "H = ans[0][2]\n",
    "np.dot(np.dot(np.array([1,0,0]).reshape(3,1).T,H),np.array([0,1,0]).reshape(3,1))"
   ]
  },
  {
   "cell_type": "code",
   "execution_count": 272,
   "metadata": {
    "collapsed": false
   },
   "outputs": [
    {
     "data": {
      "text/plain": [
       "0.51695955338557287"
      ]
     },
     "execution_count": 272,
     "metadata": {},
     "output_type": "execute_result"
    }
   ],
   "source": [
    "cos(pi/6) - (pi / 9 )"
   ]
  },
  {
   "cell_type": "code",
   "execution_count": 273,
   "metadata": {
    "collapsed": false
   },
   "outputs": [
    {
     "data": {
      "text/plain": [
       "array([[-1.   , -0.75 ,  0.866],\n",
       "       [-0.75 , -1.75 ,  0.433],\n",
       "       [ 0.866,  0.433, -2.   ]])"
      ]
     },
     "execution_count": 273,
     "metadata": {},
     "output_type": "execute_result"
    }
   ],
   "source": [
    "# R = vsr.Biv(0,pi/4,0).exp()\n",
    "(Hess2(a,b,R).copy()-hyperdual.hyperdualB(a,b,R)[2].copy() )"
   ]
  },
  {
   "cell_type": "code",
   "execution_count": 274,
   "metadata": {
    "collapsed": false
   },
   "outputs": [
    {
     "data": {
      "text/plain": [
       "0.2500000000000002"
      ]
     },
     "execution_count": 274,
     "metadata": {},
     "output_type": "execute_result"
    }
   ],
   "source": [
    "a.spin(R) <= b"
   ]
  },
  {
   "cell_type": "code",
   "execution_count": 275,
   "metadata": {
    "collapsed": false
   },
   "outputs": [
    {
     "data": {
      "text/plain": [
       "1.5707963267948966"
      ]
     },
     "execution_count": 275,
     "metadata": {},
     "output_type": "execute_result"
    }
   ],
   "source": [
    "2 * pi /4"
   ]
  },
  {
   "cell_type": "code",
   "execution_count": 276,
   "metadata": {
    "collapsed": false
   },
   "outputs": [
    {
     "data": {
      "text/plain": [
       "-1.0"
      ]
     },
     "execution_count": 276,
     "metadata": {},
     "output_type": "execute_result"
    }
   ],
   "source": [
    "cos(pi / 1)"
   ]
  },
  {
   "cell_type": "code",
   "execution_count": 277,
   "metadata": {
    "collapsed": false
   },
   "outputs": [
    {
     "name": "stdout",
     "output_type": "stream",
     "text": [
      "1.5\n",
      "2.5\n"
     ]
    }
   ],
   "source": [
    "print(Hess2(a,b,R).copy()[0,0])\n",
    "print(hyperdual.hyperdualB(a,b,R)[2].copy()[0,0])"
   ]
  },
  {
   "cell_type": "code",
   "execution_count": 278,
   "metadata": {
    "collapsed": false
   },
   "outputs": [
    {
     "data": {
      "text/plain": [
       "array([[ 3.    ,  0.    ,  0.    ],\n",
       "       [ 0.    ,  3.    ,  1.7321],\n",
       "       [ 0.    ,  1.7321,  1.    ]])"
      ]
     },
     "execution_count": 278,
     "metadata": {},
     "output_type": "execute_result"
    }
   ],
   "source": [
    "ans[0][2]"
   ]
  },
  {
   "cell_type": "code",
   "execution_count": 279,
   "metadata": {
    "collapsed": false
   },
   "outputs": [
    {
     "ename": "TypeError",
     "evalue": "unsupported operand type(s) for /: 'versor_pybind11.Biv' and 'int'",
     "output_type": "error",
     "traceback": [
      "\u001b[0;31m---------------------------------------------------------------------------\u001b[0m",
      "\u001b[0;31mTypeError\u001b[0m                                 Traceback (most recent call last)",
      "\u001b[0;32m<ipython-input-279-689261a65cf5>\u001b[0m in \u001b[0;36m<module>\u001b[0;34m()\u001b[0m\n\u001b[0;32m----> 1\u001b[0;31m \u001b[0;34m(\u001b[0m\u001b[0;34m(\u001b[0m\u001b[0mvsr\u001b[0m\u001b[0;34m.\u001b[0m\u001b[0mBiv\u001b[0m\u001b[0;34m(\u001b[0m\u001b[0;36m1\u001b[0m\u001b[0;34m,\u001b[0m\u001b[0;36m2\u001b[0m\u001b[0;34m,\u001b[0m\u001b[0;36m3\u001b[0m\u001b[0;34m)\u001b[0m\u001b[0;34m.\u001b[0m\u001b[0munit\u001b[0m\u001b[0;34m(\u001b[0m\u001b[0;34m)\u001b[0m \u001b[0;34m*\u001b[0m \u001b[0mpi\u001b[0m\u001b[0;34m/\u001b[0m\u001b[0;36m6\u001b[0m\u001b[0;34m)\u001b[0m\u001b[0;34m.\u001b[0m\u001b[0mexp\u001b[0m\u001b[0;34m(\u001b[0m\u001b[0;34m)\u001b[0m \u001b[0;34m*\u001b[0m \u001b[0mrotor\u001b[0m\u001b[0;34m)\u001b[0m\u001b[0;34m.\u001b[0m\u001b[0mrev\u001b[0m\u001b[0;34m(\u001b[0m\u001b[0;34m)\u001b[0m\u001b[0;34m\u001b[0m\u001b[0m\n\u001b[0m",
      "\u001b[0;31mTypeError\u001b[0m: unsupported operand type(s) for /: 'versor_pybind11.Biv' and 'int'"
     ]
    }
   ],
   "source": [
    "((vsr.Biv(1,2,3).unit() * pi/6).exp() * rotor).rev()"
   ]
  },
  {
   "cell_type": "code",
   "execution_count": 280,
   "metadata": {
    "collapsed": false
   },
   "outputs": [
    {
     "ename": "TypeError",
     "evalue": "unsupported operand type(s) for /: 'versor_pybind11.Biv' and 'int'",
     "output_type": "error",
     "traceback": [
      "\u001b[0;31m---------------------------------------------------------------------------\u001b[0m",
      "\u001b[0;31mTypeError\u001b[0m                                 Traceback (most recent call last)",
      "\u001b[0;32m<ipython-input-280-aab8c41950a1>\u001b[0m in \u001b[0;36m<module>\u001b[0;34m()\u001b[0m\n\u001b[0;32m----> 1\u001b[0;31m \u001b[0mrotor\u001b[0m\u001b[0;34m.\u001b[0m\u001b[0mrev\u001b[0m\u001b[0;34m(\u001b[0m\u001b[0;34m)\u001b[0m \u001b[0;34m*\u001b[0m \u001b[0;34m(\u001b[0m\u001b[0mvsr\u001b[0m\u001b[0;34m.\u001b[0m\u001b[0mBiv\u001b[0m\u001b[0;34m(\u001b[0m\u001b[0;36m1\u001b[0m\u001b[0;34m,\u001b[0m\u001b[0;36m2\u001b[0m\u001b[0;34m,\u001b[0m\u001b[0;36m3\u001b[0m\u001b[0;34m)\u001b[0m\u001b[0;34m.\u001b[0m\u001b[0munit\u001b[0m\u001b[0;34m(\u001b[0m\u001b[0;34m)\u001b[0m \u001b[0;34m*\u001b[0m \u001b[0mpi\u001b[0m\u001b[0;34m/\u001b[0m\u001b[0;36m6\u001b[0m\u001b[0;34m)\u001b[0m\u001b[0;34m.\u001b[0m\u001b[0mexp\u001b[0m\u001b[0;34m(\u001b[0m\u001b[0;34m)\u001b[0m\u001b[0;34m.\u001b[0m\u001b[0mrev\u001b[0m\u001b[0;34m(\u001b[0m\u001b[0;34m)\u001b[0m\u001b[0;34m\u001b[0m\u001b[0m\n\u001b[0m",
      "\u001b[0;31mTypeError\u001b[0m: unsupported operand type(s) for /: 'versor_pybind11.Biv' and 'int'"
     ]
    }
   ],
   "source": [
    "rotor.rev() * (vsr.Biv(1,2,3).unit() * pi/6).exp().rev()"
   ]
  },
  {
   "cell_type": "code",
   "execution_count": 281,
   "metadata": {
    "collapsed": false
   },
   "outputs": [
    {
     "ename": "NameError",
     "evalue": "name 'H2' is not defined",
     "output_type": "error",
     "traceback": [
      "\u001b[0;31m---------------------------------------------------------------------------\u001b[0m",
      "\u001b[0;31mNameError\u001b[0m                                 Traceback (most recent call last)",
      "\u001b[0;32m<ipython-input-281-3167ccd3118f>\u001b[0m in \u001b[0;36m<module>\u001b[0;34m()\u001b[0m\n\u001b[1;32m      1\u001b[0m \u001b[0mE\u001b[0m \u001b[0;34m=\u001b[0m \u001b[0mnp\u001b[0m\u001b[0;34m.\u001b[0m\u001b[0marray\u001b[0m\u001b[0;34m(\u001b[0m\u001b[0;34m[\u001b[0m\u001b[0;36m1\u001b[0m\u001b[0;34m,\u001b[0m\u001b[0;36m0\u001b[0m\u001b[0;34m,\u001b[0m\u001b[0;36m0\u001b[0m\u001b[0;34m]\u001b[0m\u001b[0;34m)\u001b[0m\u001b[0;34m.\u001b[0m\u001b[0mreshape\u001b[0m\u001b[0;34m(\u001b[0m\u001b[0;36m3\u001b[0m\u001b[0;34m,\u001b[0m\u001b[0;36m1\u001b[0m\u001b[0;34m)\u001b[0m\u001b[0;34m\u001b[0m\u001b[0m\n\u001b[0;32m----> 2\u001b[0;31m \u001b[0mnp\u001b[0m\u001b[0;34m.\u001b[0m\u001b[0mdot\u001b[0m\u001b[0;34m(\u001b[0m\u001b[0mnp\u001b[0m\u001b[0;34m.\u001b[0m\u001b[0mdot\u001b[0m\u001b[0;34m(\u001b[0m\u001b[0mE\u001b[0m\u001b[0;34m.\u001b[0m\u001b[0mT\u001b[0m\u001b[0;34m,\u001b[0m \u001b[0mH2\u001b[0m\u001b[0;34m)\u001b[0m\u001b[0;34m,\u001b[0m \u001b[0mE\u001b[0m\u001b[0;34m)\u001b[0m\u001b[0;34m\u001b[0m\u001b[0m\n\u001b[0m",
      "\u001b[0;31mNameError\u001b[0m: name 'H2' is not defined"
     ]
    }
   ],
   "source": [
    "E = np.array([1,0,0]).reshape(3,1)\n",
    "np.dot(np.dot(E.T, H2), E)"
   ]
  },
  {
   "cell_type": "code",
   "execution_count": 282,
   "metadata": {
    "collapsed": false
   },
   "outputs": [
    {
     "ename": "TypeError",
     "evalue": "unsupported operand type(s) for /: 'versor_pybind11.Biv' and 'int'",
     "output_type": "error",
     "traceback": [
      "\u001b[0;31m---------------------------------------------------------------------------\u001b[0m",
      "\u001b[0;31mTypeError\u001b[0m                                 Traceback (most recent call last)",
      "\u001b[0;32m<ipython-input-282-c131c913dc8c>\u001b[0m in \u001b[0;36m<module>\u001b[0;34m()\u001b[0m\n\u001b[0;32m----> 1\u001b[0;31m \u001b[0mrotor\u001b[0m \u001b[0;34m=\u001b[0m \u001b[0;34m(\u001b[0m\u001b[0mvsr\u001b[0m\u001b[0;34m.\u001b[0m\u001b[0mBiv\u001b[0m\u001b[0;34m(\u001b[0m\u001b[0;36m1\u001b[0m\u001b[0;34m,\u001b[0m\u001b[0;36m2\u001b[0m\u001b[0;34m,\u001b[0m\u001b[0;36m3\u001b[0m\u001b[0;34m)\u001b[0m\u001b[0;34m.\u001b[0m\u001b[0munit\u001b[0m\u001b[0;34m(\u001b[0m\u001b[0;34m)\u001b[0m \u001b[0;34m*\u001b[0m \u001b[0mpi\u001b[0m\u001b[0;34m/\u001b[0m\u001b[0;36m6\u001b[0m\u001b[0;34m)\u001b[0m\u001b[0;34m.\u001b[0m\u001b[0mexp\u001b[0m\u001b[0;34m(\u001b[0m\u001b[0;34m)\u001b[0m\u001b[0;34m\u001b[0m\u001b[0m\n\u001b[0m\u001b[1;32m      2\u001b[0m \u001b[0ma\u001b[0m \u001b[0;34m=\u001b[0m \u001b[0mvsr\u001b[0m\u001b[0;34m.\u001b[0m\u001b[0mVec\u001b[0m\u001b[0;34m(\u001b[0m\u001b[0;36m1\u001b[0m\u001b[0;34m,\u001b[0m\u001b[0;36m0\u001b[0m\u001b[0;34m,\u001b[0m\u001b[0;36m0\u001b[0m\u001b[0;34m)\u001b[0m\u001b[0;34m\u001b[0m\u001b[0m\n\u001b[1;32m      3\u001b[0m \u001b[0mb\u001b[0m \u001b[0;34m=\u001b[0m \u001b[0ma\u001b[0m\u001b[0;34m.\u001b[0m\u001b[0mspin\u001b[0m\u001b[0;34m(\u001b[0m\u001b[0mrotor\u001b[0m\u001b[0;34m)\u001b[0m\u001b[0;34m\u001b[0m\u001b[0m\n\u001b[1;32m      4\u001b[0m \u001b[0mrotor1\u001b[0m \u001b[0;34m=\u001b[0m \u001b[0mvsr\u001b[0m\u001b[0;34m.\u001b[0m\u001b[0mBiv\u001b[0m\u001b[0;34m(\u001b[0m\u001b[0;36m0\u001b[0m\u001b[0;34m,\u001b[0m\u001b[0;36m0\u001b[0m\u001b[0;34m,\u001b[0m\u001b[0mpi\u001b[0m\u001b[0;34m/\u001b[0m\u001b[0;36m6\u001b[0m\u001b[0;34m)\u001b[0m\u001b[0;34m.\u001b[0m\u001b[0mexp\u001b[0m\u001b[0;34m(\u001b[0m\u001b[0;34m)\u001b[0m\u001b[0;34m\u001b[0m\u001b[0m\n\u001b[1;32m      5\u001b[0m \u001b[0m_\u001b[0m\u001b[0;34m,\u001b[0m\u001b[0m_\u001b[0m\u001b[0;34m,\u001b[0m\u001b[0mH\u001b[0m \u001b[0;34m=\u001b[0m \u001b[0mhyperdual\u001b[0m\u001b[0;34m.\u001b[0m\u001b[0mhyperdualB\u001b[0m\u001b[0;34m(\u001b[0m\u001b[0ma\u001b[0m\u001b[0;34m,\u001b[0m\u001b[0mb\u001b[0m\u001b[0;34m,\u001b[0m\u001b[0mrotor1\u001b[0m\u001b[0;34m)\u001b[0m\u001b[0;34m\u001b[0m\u001b[0m\n",
      "\u001b[0;31mTypeError\u001b[0m: unsupported operand type(s) for /: 'versor_pybind11.Biv' and 'int'"
     ]
    }
   ],
   "source": [
    "rotor = (vsr.Biv(1,2,3).unit() * pi/6).exp()\n",
    "a = vsr.Vec(1,0,0)\n",
    "b = a.spin(rotor)\n",
    "rotor1 = vsr.Biv(0,0,pi/6).exp()\n",
    "_,_,H = hyperdual.hyperdualB(a,b,rotor1)\n",
    "print(H)"
   ]
  },
  {
   "cell_type": "code",
   "execution_count": 283,
   "metadata": {
    "collapsed": false
   },
   "outputs": [
    {
     "ename": "NameError",
     "evalue": "name 'rotor1' is not defined",
     "output_type": "error",
     "traceback": [
      "\u001b[0;31m---------------------------------------------------------------------------\u001b[0m",
      "\u001b[0;31mNameError\u001b[0m                                 Traceback (most recent call last)",
      "\u001b[0;32m<ipython-input-283-16f91379427f>\u001b[0m in \u001b[0;36m<module>\u001b[0;34m()\u001b[0m\n\u001b[0;32m----> 1\u001b[0;31m \u001b[0mHess2\u001b[0m\u001b[0;34m(\u001b[0m\u001b[0mvsr\u001b[0m\u001b[0;34m.\u001b[0m\u001b[0mEGA\u001b[0m\u001b[0;34m(\u001b[0m\u001b[0ma\u001b[0m\u001b[0;34m)\u001b[0m\u001b[0;34m,\u001b[0m \u001b[0mvsr\u001b[0m\u001b[0;34m.\u001b[0m\u001b[0mEGA\u001b[0m\u001b[0;34m(\u001b[0m\u001b[0mb\u001b[0m\u001b[0;34m)\u001b[0m\u001b[0;34m,\u001b[0m \u001b[0mvsr\u001b[0m\u001b[0;34m.\u001b[0m\u001b[0mEGA\u001b[0m\u001b[0;34m(\u001b[0m\u001b[0mrotor1\u001b[0m\u001b[0;34m)\u001b[0m\u001b[0;34m)\u001b[0m\u001b[0;34m\u001b[0m\u001b[0m\n\u001b[0m",
      "\u001b[0;31mNameError\u001b[0m: name 'rotor1' is not defined"
     ]
    }
   ],
   "source": [
    "Hess2(vsr.EGA(a), vsr.EGA(b), vsr.EGA(rotor1))"
   ]
  },
  {
   "cell_type": "code",
   "execution_count": 284,
   "metadata": {
    "collapsed": false
   },
   "outputs": [
    {
     "data": {
      "text/plain": [
       "EGA: [ 0 0 0 0 0.87 0 0 0 ]"
      ]
     },
     "execution_count": 284,
     "metadata": {},
     "output_type": "execute_result"
    }
   ],
   "source": [
    "E12 * cos(pi/6)"
   ]
  },
  {
   "cell_type": "code",
   "execution_count": 285,
   "metadata": {
    "collapsed": false
   },
   "outputs": [
    {
     "ename": "TypeError",
     "evalue": "Hij() missing 5 required positional arguments: 'Bi', 'Bj', 'a', 'b', and 'R'",
     "output_type": "error",
     "traceback": [
      "\u001b[0;31m---------------------------------------------------------------------------\u001b[0m",
      "\u001b[0;31mTypeError\u001b[0m                                 Traceback (most recent call last)",
      "\u001b[0;32m<ipython-input-285-eaf8daee4060>\u001b[0m in \u001b[0;36m<module>\u001b[0;34m()\u001b[0m\n\u001b[0;32m----> 1\u001b[0;31m \u001b[0mHij\u001b[0m\u001b[0;34m(\u001b[0m\u001b[0;34m)\u001b[0m\u001b[0;34m\u001b[0m\u001b[0m\n\u001b[0m",
      "\u001b[0;31mTypeError\u001b[0m: Hij() missing 5 required positional arguments: 'Bi', 'Bj', 'a', 'b', and 'R'"
     ]
    }
   ],
   "source": [
    "Hij()"
   ]
  },
  {
   "cell_type": "code",
   "execution_count": 322,
   "metadata": {
    "collapsed": true
   },
   "outputs": [],
   "source": [
    "vectors_a = [vsr.Vec(1,0,0), vsr.Vec(0,1,0), vsr.Vec(0,0,1)]\n",
    "vectors_b = [a.spin(rotor) for a in vectors_a]"
   ]
  },
  {
   "cell_type": "code",
   "execution_count": null,
   "metadata": {
    "collapsed": true
   },
   "outputs": [],
   "source": []
  },
  {
   "cell_type": "code",
   "execution_count": 307,
   "metadata": {
    "collapsed": true
   },
   "outputs": [],
   "source": [
    "n_points=10\n",
    "vectors_a = [vsr.Vec(*np.random.normal(0.0, 0.8, 3)) for i in range(n_points)]\n",
    "vectors_b = [vector.spin(rotor) for vector in vectors_a]"
   ]
  },
  {
   "cell_type": "code",
   "execution_count": 288,
   "metadata": {
    "collapsed": false
   },
   "outputs": [
    {
     "data": {
      "text/plain": [
       "array([[ 23.8533,  -1.199 ,   1.0192],\n",
       "       [ -1.199 ,  16.685 ,  -8.673 ],\n",
       "       [  1.0192,  -8.673 ,  32.9391]])"
      ]
     },
     "execution_count": 288,
     "metadata": {},
     "output_type": "execute_result"
    }
   ],
   "source": [
    "rot = vsr.Rot(1,0,0,0)\n",
    "np.sum([np.array(Hess2(a,b,rot)) for a,b in zip(vectors_a, vectors_b)],axis=0)"
   ]
  },
  {
   "cell_type": "code",
   "execution_count": 289,
   "metadata": {
    "collapsed": false
   },
   "outputs": [
    {
     "data": {
      "text/plain": [
       "array([[ 35.78  ,  -1.199 ,   1.0192],\n",
       "       [ -1.199 ,  28.6117,  -8.673 ],\n",
       "       [  1.0192,  -8.673 ,  44.8658]])"
      ]
     },
     "execution_count": 289,
     "metadata": {},
     "output_type": "execute_result"
    }
   ],
   "source": [
    "ans = [hyperdual.hyperdualB(a,b,rot) for a,b in zip(vectors_a, vectors_b)]\n",
    "res = np.sum([t[0] for t in ans])\n",
    "grad = np.sum([t[1] for t in ans], axis=0)[1:]\n",
    "Hess = np.sum([t[2] for t in ans], axis=0)\n",
    "Hess"
   ]
  },
  {
   "cell_type": "code",
   "execution_count": 290,
   "metadata": {
    "collapsed": false
   },
   "outputs": [
    {
     "data": {
      "text/plain": [
       "array([[-11.9267,  -0.    ,   0.    ],\n",
       "       [ -0.    , -11.9267,   0.    ],\n",
       "       [  0.    ,   0.    , -11.9267]])"
      ]
     },
     "execution_count": 290,
     "metadata": {},
     "output_type": "execute_result"
    }
   ],
   "source": [
    "np.sum([np.array(Hess2(a,b,rot)) for a,b in zip(vectors_a, vectors_b)],axis=0) - Hess"
   ]
  },
  {
   "cell_type": "code",
   "execution_count": 331,
   "metadata": {
    "collapsed": false
   },
   "outputs": [],
   "source": [
    "def update(rot):\n",
    "    ans = [hyperdual.hyperdualB(a,b,rot) for a,b in zip(vectors_a, vectors_b)]\n",
    "    res = np.sum([t[0] for t in ans])\n",
    "    grad = np.sum([t[1] for t in ans], axis=0)[1:]\n",
    "    HessD = np.sum([t[2] for t in ans], axis=0)\n",
    "    \n",
    "    grad2 = np.sum([np.array(df(a,b,rot)) for a,b in zip(vectors_a, vectors_b)],axis=0)\n",
    "    HessN = np.sum([np.array(Hess2(a,b,rot)) for a,b in zip(vectors_a, vectors_b)],axis=0)\n",
    "    \n",
    "    HessJtJ = np.sum([np.dot(Jac(a,rot).T,Jac(a,rot)) for a,b in zip(vectors_a, vectors_b)],axis=0)\n",
    "#     print(HessD)\n",
    "#     print(HessN)\n",
    "\n",
    "    B = np.dot(np.linalg.pinv(HessN),grad2)\n",
    "    rot = (vsr.Biv(*B) * rot.rev()).biv().exp() * rot\n",
    "    \n",
    "#     B = np.dot(np.linalg.pinv(HessD),grad)\n",
    "#     rot = vsr.Biv(*B).exp() * rot\n",
    "    \n",
    "#     B = np.dot(np.linalg.pinv(HessJtJ),-grad)\n",
    "#     rot = vsr.Biv(*B).exp() * rot\n",
    "    \n",
    "    \n",
    "    grad_norm = np.linalg.norm(grad)\n",
    "    return rot, res, grad_norm"
   ]
  },
  {
   "cell_type": "code",
   "execution_count": 336,
   "metadata": {
    "collapsed": false,
    "scrolled": true
   },
   "outputs": [
    {
     "name": "stdout",
     "output_type": "stream",
     "text": [
      "1.0\n",
      "0.450976241027\n",
      "0.0173636623112\n",
      "5.92424243496e-07\n",
      "3\n"
     ]
    }
   ],
   "source": [
    "rot = vsr.Rot(1,0,0,0)\n",
    "ress = []\n",
    "for i in range(10):\n",
    "    rot, res, grad_norm = update(rot)\n",
    "    ress.append(res)\n",
    "    print(res)\n",
    "    if res < 1e-6: \n",
    "        break\n",
    "print(i)"
   ]
  },
  {
   "cell_type": "code",
   "execution_count": 337,
   "metadata": {
    "collapsed": false
   },
   "outputs": [
    {
     "data": {
      "text/plain": [
       "[<matplotlib.lines.Line2D at 0x7f6e3b6d18d0>]"
      ]
     },
     "execution_count": 337,
     "metadata": {},
     "output_type": "execute_result"
    },
    {
     "data": {
      "image/png": "[encoded data removed]",
      "text/plain": [
       "<matplotlib.figure.Figure at 0x7f6e3da1e518>"
      ]
     },
     "metadata": {},
     "output_type": "display_data"
    }
   ],
   "source": [
    "plot(ress)"
   ]
  },
  {
   "cell_type": "code",
   "execution_count": 293,
   "metadata": {
    "collapsed": false
   },
   "outputs": [
    {
     "ename": "NameError",
     "evalue": "name 'jacrot' is not defined",
     "output_type": "error",
     "traceback": [
      "\u001b[0;31m---------------------------------------------------------------------------\u001b[0m",
      "\u001b[0;31mNameError\u001b[0m                                 Traceback (most recent call last)",
      "\u001b[0;32m<ipython-input-293-99692e523c53>\u001b[0m in \u001b[0;36m<module>\u001b[0;34m()\u001b[0m\n\u001b[1;32m      1\u001b[0m \u001b[0mrot\u001b[0m \u001b[0;34m=\u001b[0m \u001b[0mvsr\u001b[0m\u001b[0;34m.\u001b[0m\u001b[0mRot\u001b[0m\u001b[0;34m(\u001b[0m\u001b[0;36m1\u001b[0m\u001b[0;34m,\u001b[0m\u001b[0;36m0\u001b[0m\u001b[0;34m,\u001b[0m\u001b[0;36m0\u001b[0m\u001b[0;34m,\u001b[0m\u001b[0;36m0\u001b[0m\u001b[0;34m)\u001b[0m\u001b[0;34m\u001b[0m\u001b[0m\n\u001b[0;32m----> 2\u001b[0;31m \u001b[0mJ\u001b[0m \u001b[0;34m=\u001b[0m \u001b[0mnp\u001b[0m\u001b[0;34m.\u001b[0m\u001b[0marray\u001b[0m\u001b[0;34m(\u001b[0m\u001b[0;34m[\u001b[0m\u001b[0mjacrot\u001b[0m\u001b[0;34m(\u001b[0m\u001b[0ma\u001b[0m\u001b[0;34m,\u001b[0m\u001b[0mrot\u001b[0m\u001b[0;34m)\u001b[0m \u001b[0;32mfor\u001b[0m \u001b[0ma\u001b[0m \u001b[0;32min\u001b[0m \u001b[0mvectors_a\u001b[0m\u001b[0;34m]\u001b[0m\u001b[0;34m)\u001b[0m\u001b[0;34m.\u001b[0m\u001b[0mreshape\u001b[0m\u001b[0;34m(\u001b[0m\u001b[0;34m-\u001b[0m\u001b[0;36m1\u001b[0m\u001b[0;34m,\u001b[0m\u001b[0;36m3\u001b[0m\u001b[0;34m)\u001b[0m\u001b[0;34m\u001b[0m\u001b[0m\n\u001b[0m\u001b[1;32m      3\u001b[0m \u001b[0mprint\u001b[0m\u001b[0;34m(\u001b[0m\u001b[0mnp\u001b[0m\u001b[0;34m.\u001b[0m\u001b[0mdot\u001b[0m\u001b[0;34m(\u001b[0m\u001b[0mJ\u001b[0m\u001b[0;34m.\u001b[0m\u001b[0mT\u001b[0m\u001b[0;34m,\u001b[0m\u001b[0mJ\u001b[0m\u001b[0;34m)\u001b[0m\u001b[0;34m)\u001b[0m\u001b[0;34m\u001b[0m\u001b[0m\n",
      "\u001b[0;32m<ipython-input-293-99692e523c53>\u001b[0m in \u001b[0;36m<listcomp>\u001b[0;34m(.0)\u001b[0m\n\u001b[1;32m      1\u001b[0m \u001b[0mrot\u001b[0m \u001b[0;34m=\u001b[0m \u001b[0mvsr\u001b[0m\u001b[0;34m.\u001b[0m\u001b[0mRot\u001b[0m\u001b[0;34m(\u001b[0m\u001b[0;36m1\u001b[0m\u001b[0;34m,\u001b[0m\u001b[0;36m0\u001b[0m\u001b[0;34m,\u001b[0m\u001b[0;36m0\u001b[0m\u001b[0;34m,\u001b[0m\u001b[0;36m0\u001b[0m\u001b[0;34m)\u001b[0m\u001b[0;34m\u001b[0m\u001b[0m\n\u001b[0;32m----> 2\u001b[0;31m \u001b[0mJ\u001b[0m \u001b[0;34m=\u001b[0m \u001b[0mnp\u001b[0m\u001b[0;34m.\u001b[0m\u001b[0marray\u001b[0m\u001b[0;34m(\u001b[0m\u001b[0;34m[\u001b[0m\u001b[0mjacrot\u001b[0m\u001b[0;34m(\u001b[0m\u001b[0ma\u001b[0m\u001b[0;34m,\u001b[0m\u001b[0mrot\u001b[0m\u001b[0;34m)\u001b[0m \u001b[0;32mfor\u001b[0m \u001b[0ma\u001b[0m \u001b[0;32min\u001b[0m \u001b[0mvectors_a\u001b[0m\u001b[0;34m]\u001b[0m\u001b[0;34m)\u001b[0m\u001b[0;34m.\u001b[0m\u001b[0mreshape\u001b[0m\u001b[0;34m(\u001b[0m\u001b[0;34m-\u001b[0m\u001b[0;36m1\u001b[0m\u001b[0;34m,\u001b[0m\u001b[0;36m3\u001b[0m\u001b[0;34m)\u001b[0m\u001b[0;34m\u001b[0m\u001b[0m\n\u001b[0m\u001b[1;32m      3\u001b[0m \u001b[0mprint\u001b[0m\u001b[0;34m(\u001b[0m\u001b[0mnp\u001b[0m\u001b[0;34m.\u001b[0m\u001b[0mdot\u001b[0m\u001b[0;34m(\u001b[0m\u001b[0mJ\u001b[0m\u001b[0;34m.\u001b[0m\u001b[0mT\u001b[0m\u001b[0;34m,\u001b[0m\u001b[0mJ\u001b[0m\u001b[0;34m)\u001b[0m\u001b[0;34m)\u001b[0m\u001b[0;34m\u001b[0m\u001b[0m\n",
      "\u001b[0;31mNameError\u001b[0m: name 'jacrot' is not defined"
     ]
    }
   ],
   "source": [
    "rot = vsr.Rot(1,0,0,0)\n",
    "J = np.array([jacrot(a,rot) for a in vectors_a]).reshape(-1,3)\n",
    "print(np.dot(J.T,J))"
   ]
  },
  {
   "cell_type": "code",
   "execution_count": 294,
   "metadata": {
    "collapsed": false
   },
   "outputs": [
    {
     "name": "stdout",
     "output_type": "stream",
     "text": [
      "[[ 35.78    -1.199    1.0192]\n",
      " [ -1.199   28.6117  -8.673 ]\n",
      " [  1.0192  -8.673   44.8658]]\n"
     ]
    }
   ],
   "source": [
    "Hess = np.sum([hyperdual.hyperdualB(a,b,rot)[2] for a,b in zip(vectors_a, vectors_b)], axis=0)\n",
    "print(Hess)"
   ]
  },
  {
   "cell_type": "code",
   "execution_count": 162,
   "metadata": {
    "collapsed": false
   },
   "outputs": [
    {
     "ename": "TypeError",
     "evalue": "unsupported operand type(s) for /: 'versor_pybind11.Biv' and 'float'",
     "output_type": "error",
     "traceback": [
      "\u001b[0;31m---------------------------------------------------------------------------\u001b[0m",
      "\u001b[0;31mTypeError\u001b[0m                                 Traceback (most recent call last)",
      "\u001b[0;32m<ipython-input-162-03603611d1f0>\u001b[0m in \u001b[0;36m<module>\u001b[0;34m()\u001b[0m\n\u001b[1;32m      1\u001b[0m \u001b[0mmotor1\u001b[0m \u001b[0;34m=\u001b[0m \u001b[0mvsr\u001b[0m\u001b[0;34m.\u001b[0m\u001b[0mMot\u001b[0m\u001b[0;34m(\u001b[0m\u001b[0;36m1\u001b[0m\u001b[0;34m,\u001b[0m\u001b[0;36m0\u001b[0m\u001b[0;34m,\u001b[0m\u001b[0;36m0\u001b[0m\u001b[0;34m,\u001b[0m\u001b[0;36m0\u001b[0m\u001b[0;34m,\u001b[0m\u001b[0;36m0\u001b[0m\u001b[0;34m,\u001b[0m\u001b[0;36m0\u001b[0m\u001b[0;34m,\u001b[0m\u001b[0;36m0\u001b[0m\u001b[0;34m,\u001b[0m\u001b[0;36m0\u001b[0m\u001b[0;34m)\u001b[0m\u001b[0;34m\u001b[0m\u001b[0m\n\u001b[0;32m----> 2\u001b[0;31m \u001b[0mmotor\u001b[0m \u001b[0;34m=\u001b[0m \u001b[0mvsr\u001b[0m\u001b[0;34m.\u001b[0m\u001b[0mVec\u001b[0m\u001b[0;34m(\u001b[0m\u001b[0;36m1\u001b[0m\u001b[0;34m,\u001b[0m\u001b[0;36m1\u001b[0m\u001b[0;34m,\u001b[0m\u001b[0;36m1\u001b[0m\u001b[0;34m)\u001b[0m\u001b[0;34m.\u001b[0m\u001b[0mtrs\u001b[0m\u001b[0;34m(\u001b[0m\u001b[0;34m)\u001b[0m \u001b[0;34m*\u001b[0m \u001b[0mvsr\u001b[0m\u001b[0;34m.\u001b[0m\u001b[0mRot\u001b[0m\u001b[0;34m(\u001b[0m\u001b[0mvsr\u001b[0m\u001b[0;34m.\u001b[0m\u001b[0mBiv\u001b[0m\u001b[0;34m(\u001b[0m\u001b[0;36m0\u001b[0m\u001b[0;34m,\u001b[0m\u001b[0;36m1\u001b[0m\u001b[0;34m,\u001b[0m\u001b[0;36m0\u001b[0m\u001b[0;34m)\u001b[0m \u001b[0;34m*\u001b[0m \u001b[0mnp\u001b[0m\u001b[0;34m.\u001b[0m\u001b[0mpi\u001b[0m\u001b[0;34m/\u001b[0m\u001b[0;36m6.0\u001b[0m\u001b[0;34m)\u001b[0m\u001b[0;34m\u001b[0m\u001b[0m\n\u001b[0m\u001b[1;32m      3\u001b[0m \u001b[0mpoints_a\u001b[0m \u001b[0;34m=\u001b[0m \u001b[0;34m[\u001b[0m\u001b[0ma\u001b[0m\u001b[0;34m.\u001b[0m\u001b[0mnull\u001b[0m\u001b[0;34m(\u001b[0m\u001b[0;34m)\u001b[0m \u001b[0;32mfor\u001b[0m \u001b[0ma\u001b[0m \u001b[0;32min\u001b[0m \u001b[0mvectors_a\u001b[0m\u001b[0;34m]\u001b[0m\u001b[0;34m\u001b[0m\u001b[0m\n\u001b[1;32m      4\u001b[0m \u001b[0mpoints_b\u001b[0m \u001b[0;34m=\u001b[0m \u001b[0;34m[\u001b[0m\u001b[0ma\u001b[0m\u001b[0;34m.\u001b[0m\u001b[0mspin\u001b[0m\u001b[0;34m(\u001b[0m\u001b[0mmotor\u001b[0m\u001b[0;34m)\u001b[0m \u001b[0;32mfor\u001b[0m \u001b[0ma\u001b[0m \u001b[0;32min\u001b[0m \u001b[0mpoints_a\u001b[0m\u001b[0;34m]\u001b[0m\u001b[0;34m\u001b[0m\u001b[0m\n\u001b[1;32m      5\u001b[0m \u001b[0ma\u001b[0m \u001b[0;34m=\u001b[0m \u001b[0mpoints_a\u001b[0m\u001b[0;34m[\u001b[0m\u001b[0;36m0\u001b[0m\u001b[0;34m]\u001b[0m\u001b[0;34m\u001b[0m\u001b[0m\n",
      "\u001b[0;31mTypeError\u001b[0m: unsupported operand type(s) for /: 'versor_pybind11.Biv' and 'float'"
     ]
    }
   ],
   "source": [
    "motor1 = vsr.Mot(1,0,0,0,0,0,0,0)\n",
    "motor = vsr.Vec(1,1,1).trs() * vsr.Rot(vsr.Biv(0,1,0) * np.pi/6.0)\n",
    "points_a = [a.null() for a in vectors_a]\n",
    "points_b = [a.spin(motor) for a in points_a]\n",
    "a = points_a[0]\n",
    "b = points_b[0]\n",
    "points_b_noisy = [vsr.Vec(*(np.array(point)[:3] \n",
    "                            + sigma * np.random.randn(3))).null() \n",
    "                  for point in points_b]"
   ]
  },
  {
   "cell_type": "code",
   "execution_count": null,
   "metadata": {
    "collapsed": false
   },
   "outputs": [],
   "source": [
    "motor0 = vsr.Mot(1,0,0,0,0,0,0,0)\n",
    "r,g,H = hyperdual.hyperdualmotor(a,b, motor0)\n",
    "# print(g)\n",
    "print(H)"
   ]
  },
  {
   "cell_type": "code",
   "execution_count": null,
   "metadata": {
    "collapsed": true
   },
   "outputs": [],
   "source": [
    "ans = [hyperdual.hyperdualmotor(a,b,motor0) for a,b in zip(points_a, points_b_noisy)]\n",
    "res = np.sum([t[0] for t in ans])\n",
    "grad = np.sum([t[1] for t in ans], axis=0)\n",
    "Hess = np.sum([t[2] for t in ans], axis=0)"
   ]
  },
  {
   "cell_type": "code",
   "execution_count": null,
   "metadata": {
    "collapsed": false
   },
   "outputs": [],
   "source": [
    "print(grad * -2) "
   ]
  },
  {
   "cell_type": "code",
   "execution_count": null,
   "metadata": {
    "collapsed": false
   },
   "outputs": [],
   "source": [
    "vsr.Dll(*grad).spin(motor0)"
   ]
  },
  {
   "cell_type": "code",
   "execution_count": null,
   "metadata": {
    "collapsed": false
   },
   "outputs": [],
   "source": [
    "print(np.array(motor0 * vsr.Dll(*(np.sum([np.array(vsr.CGA(a.spin(motor0) ^ b) * 2)[6:12]\n",
    "                        for a, b in zip(points_a, points_b_noisy)], axis=0)) * 2)))"
   ]
  },
  {
   "cell_type": "code",
   "execution_count": null,
   "metadata": {
    "collapsed": false
   },
   "outputs": [],
   "source": [
    "np.array(vsr.CGA(points_a[0].spin(motor0) ^ points_b[0] ) * 2)[6:16]"
   ]
  },
  {
   "cell_type": "code",
   "execution_count": null,
   "metadata": {
    "collapsed": false
   },
   "outputs": [],
   "source": [
    "grad * 2"
   ]
  },
  {
   "cell_type": "code",
   "execution_count": null,
   "metadata": {
    "collapsed": false
   },
   "outputs": [],
   "source": [
    "print(Hess)"
   ]
  },
  {
   "cell_type": "code",
   "execution_count": null,
   "metadata": {
    "collapsed": false
   },
   "outputs": [],
   "source": [
    "motor.dll()"
   ]
  },
  {
   "cell_type": "code",
   "execution_count": null,
   "metadata": {
    "collapsed": false
   },
   "outputs": [],
   "source": [
    "scene = Scene(children=\n",
    "              [point_mesh(point,color=Colors.HOTPINK) for point in points_a] +\\\n",
    "              [point_mesh(point,color=Colors.LIGHTSKYBLUE) for point in points_b] +\\\n",
    "              [line_mesh(vsr.Dll(*grad ))] +\\\n",
    "              [line_mesh(motor.dll())] +\\\n",
    "#               [point_mesh(point,color='palegreen') for point in points_b_noisy] +\\\n",
    "#               [point_mesh(point.spin(motors[1]),color='palegreen') for point in points_a] +\\\n",
    "#               [point_mesh(point.spin(em_point_3_res_noise),color=Colors.HOTPINK) for point in points_a] +\\\n",
    "#             [point_mesh(point.spin(vd_em_points_noise),color=Colors.BLACK) for point in points_a] +\\\n",
    "\n",
    "              [frame_mesh(),AmbientLight(color='#cccccc')])\n",
    "\n",
    "camera = PerspectiveCamera(position=[3, -3, 3])\n",
    "renderer = Renderer(camera=camera, \n",
    "                    scene=scene, \n",
    "                    controls=[TrackballControls(controlling=camera)],\n",
    "                    background = 'white',\n",
    "                    width='960',\n",
    "                    height='512')\n",
    "# renderer.width = '1024'\n",
    "# renderer.height = '768'\n",
    "display(renderer)"
   ]
  },
  {
   "cell_type": "code",
   "execution_count": null,
   "metadata": {
    "collapsed": false
   },
   "outputs": [],
   "source": [
    "def update(rot):\n",
    "    ans = [hyperdual.hyperdualmotor(a,b,rot) for a,b in zip(points_a, points_b)]\n",
    "    res = np.sum([t[0] for t in ans])\n",
    "    grad = np.sum([t[1] for t in ans], axis=0)\n",
    "    Hess = np.sum([t[2] for t in ans], axis=0)\n",
    "    B = -np.dot(np.linalg.pinv(Hess),grad)\n",
    "    rot = vsr.Dll(*B).exp() * rot\n",
    "    grad_norm = np.linalg.norm(grad)\n",
    "    return rot, res, grad_norm"
   ]
  },
  {
   "cell_type": "code",
   "execution_count": null,
   "metadata": {
    "collapsed": false
   },
   "outputs": [],
   "source": [
    "M = motor + vsr.Mot(0,2,0,0,0,0,0,0)\n",
    "M * M.rev()"
   ]
  },
  {
   "cell_type": "code",
   "execution_count": null,
   "metadata": {
    "collapsed": false
   },
   "outputs": [],
   "source": [
    "M2 = M.retract()\n",
    "M2 * M2.rev()"
   ]
  },
  {
   "cell_type": "code",
   "execution_count": null,
   "metadata": {
    "collapsed": false
   },
   "outputs": [],
   "source": [
    "def update2(rot):\n",
    "    ans = [hyperdual.hyperdualmotor(a,b,rot) for a,b in zip(points_a, points_b)]\n",
    "    res = np.sum([t[0] for t in ans])\n",
    "    grad = np.sum([t[1] for t in ans], axis=0)\n",
    "    Hess = np.sum([t[2] for t in ans], axis=0)\n",
    "    B = np.dot(np.linalg.pinv(Hess),grad)\n",
    "    B = vsr.Mot(0,B[0], B[1], B[2], B[3], B[4], B[5], 0)\n",
    "    rot = (rot * B ).retract()\n",
    "    grad_norm = np.linalg.norm(grad)\n",
    "    return rot, res, grad_norm"
   ]
  },
  {
   "cell_type": "code",
   "execution_count": null,
   "metadata": {
    "collapsed": false
   },
   "outputs": [],
   "source": [
    "rot = vsr.Mot(1,0,0,0,0,0,0,0)\n",
    "res = 1e6\n",
    "i = 0\n",
    "# while res > 1e-6:\n",
    "for i in range(10):\n",
    "    i += 1\n",
    "    rot, res, grad_norm = update(rot)\n",
    "    print(res)\n",
    "    print(rot)\n",
    "# print(i)"
   ]
  },
  {
   "cell_type": "code",
   "execution_count": null,
   "metadata": {
    "collapsed": false
   },
   "outputs": [],
   "source": [
    "np.linalg.norm(rot.rev() * motor)"
   ]
  },
  {
   "cell_type": "code",
   "execution_count": null,
   "metadata": {
    "collapsed": false
   },
   "outputs": [],
   "source": [
    "print(rot.rev() * motor)"
   ]
  },
  {
   "cell_type": "code",
   "execution_count": null,
   "metadata": {
    "collapsed": true
   },
   "outputs": [],
   "source": [
    "import motor_jacobian"
   ]
  },
  {
   "cell_type": "code",
   "execution_count": null,
   "metadata": {
    "collapsed": false
   },
   "outputs": [],
   "source": [
    "def jacmot(a,mot):\n",
    "    j = np.zeros((3,6))\n",
    "    for i in range(6):\n",
    "        dll = vsr.Dll(0.0, 0.0, 0.0, 0.0, 0.0, 0.0)\n",
    "        dll[i] = 1.0\n",
    "        j[:,i] = 2. * np.array(dll.comm(a.spin(mot)))[:3]\n",
    "    return j"
   ]
  },
  {
   "cell_type": "code",
   "execution_count": null,
   "metadata": {
    "collapsed": false
   },
   "outputs": [],
   "source": [
    "J = np.array([jacmot(a,motor0) for a in points_a]).reshape(-1,6)"
   ]
  },
  {
   "cell_type": "code",
   "execution_count": null,
   "metadata": {
    "collapsed": false
   },
   "outputs": [],
   "source": [
    "np.dot(J.T,J)"
   ]
  },
  {
   "cell_type": "code",
   "execution_count": null,
   "metadata": {
    "collapsed": true
   },
   "outputs": [],
   "source": [
    "n_points = 10\n",
    "sigma = 0.09\n",
    "points_a = [(vsr.Vec(*np.random.normal(0.0, 0.8, 3)).null(),\n",
    "             vsr.Vec(*np.random.normal(0.0, 0.8, 3)).null()  )\n",
    "            for i in range(n_points)]\n",
    "\n",
    "points_a_noisy = [(vsr.Vec(*(np.array(a)[:3] + sigma * np.random.randn(3))).null(),\n",
    "                   vsr.Vec(*(np.array(b)[:3] + sigma * np.random.randn(3))).null()) \n",
    "                  for a,b in points_a]\n",
    "\n",
    "lines_a = [vsr.Dll(a,b).unit() for (a,b) in points_a]\n",
    "lines_b = [line.spin(motor) for line in lines_a]"
   ]
  },
  {
   "cell_type": "code",
   "execution_count": null,
   "metadata": {
    "collapsed": true
   },
   "outputs": [],
   "source": [
    "def jac(a, mot):\n",
    "    j = np.zeros((6,6))\n",
    "    for i in range(6):\n",
    "        ei = vsr.Dll(0.0, 0.0, 0.0,0.0,0.0,0.0)\n",
    "        ei[i] = 1.0\n",
    "        j[:,i] = 2.0 * np.array(ei.comm(a.spin(mot))) # Wrong sign?\n",
    "    return j"
   ]
  },
  {
   "cell_type": "code",
   "execution_count": null,
   "metadata": {
    "collapsed": false
   },
   "outputs": [],
   "source": [
    "J = np.array([jac(a, motor0) for a in lines_a]).reshape(-1,6)"
   ]
  },
  {
   "cell_type": "code",
   "execution_count": null,
   "metadata": {
    "collapsed": false
   },
   "outputs": [],
   "source": [
    "np.dot(J.T,J)"
   ]
  },
  {
   "cell_type": "code",
   "execution_count": null,
   "metadata": {
    "collapsed": false
   },
   "outputs": [],
   "source": [
    "f = np.array([np.array(a.spin(motor0) - b) for a,b in zip(lines_a, lines_b)]).reshape(-1,1)"
   ]
  },
  {
   "cell_type": "code",
   "execution_count": null,
   "metadata": {
    "collapsed": false
   },
   "outputs": [],
   "source": [
    "vsr.Dll(*np.dot(J.T,f))"
   ]
  },
  {
   "cell_type": "code",
   "execution_count": null,
   "metadata": {
    "collapsed": false
   },
   "outputs": [],
   "source": [
    "motor.dll()"
   ]
  },
  {
   "cell_type": "code",
   "execution_count": null,
   "metadata": {
    "collapsed": false
   },
   "outputs": [],
   "source": [
    "np.sum([np.array(a.spin(motor0).comm(b)) for a,b in zip(lines_a, lines_b)],axis=0)"
   ]
  },
  {
   "cell_type": "code",
   "execution_count": null,
   "metadata": {
    "collapsed": false
   },
   "outputs": [],
   "source": [
    "lines_a[0].spin(motor).rev()"
   ]
  },
  {
   "cell_type": "code",
   "execution_count": null,
   "metadata": {
    "collapsed": false
   },
   "outputs": [],
   "source": [
    "lines_a[0].rev().spin(motor)"
   ]
  },
  {
   "cell_type": "code",
   "execution_count": null,
   "metadata": {
    "collapsed": false
   },
   "outputs": [],
   "source": [
    "l = lines_a[0].spin(motor0) - lines_b[0]\n",
    "np.inner(l,l)"
   ]
  },
  {
   "cell_type": "code",
   "execution_count": null,
   "metadata": {
    "collapsed": false
   },
   "outputs": [],
   "source": [
    "np.sum([a*a for a in np.array(l)])"
   ]
  },
  {
   "cell_type": "code",
   "execution_count": null,
   "metadata": {
    "collapsed": false
   },
   "outputs": [],
   "source": [
    "l * l.rev()"
   ]
  },
  {
   "cell_type": "code",
   "execution_count": null,
   "metadata": {
    "collapsed": false
   },
   "outputs": [],
   "source": [
    "(l.biv() * l.biv().rev() )[0] + (l.drv().vec() * l.drv().vec().rev())[0]"
   ]
  },
  {
   "cell_type": "code",
   "execution_count": null,
   "metadata": {
    "collapsed": false
   },
   "outputs": [],
   "source": [
    "Ba = lines_a[0]\n",
    "Ba[3] = Ba[4] = Ba[5] = 0 \n",
    "Ba"
   ]
  },
  {
   "cell_type": "code",
   "execution_count": null,
   "metadata": {
    "collapsed": false
   },
   "outputs": [],
   "source": [
    "da = lines_a[0]\n",
    "da[0] = da[1] = da[2] = 0\n",
    "da"
   ]
  },
  {
   "cell_type": "code",
   "execution_count": null,
   "metadata": {
    "collapsed": false
   },
   "outputs": [],
   "source": [
    "Ba.spin(motor)"
   ]
  },
  {
   "cell_type": "code",
   "execution_count": null,
   "metadata": {
    "collapsed": false
   },
   "outputs": [],
   "source": [
    "from hyperdual_lines import lines"
   ]
  },
  {
   "cell_type": "code",
   "execution_count": null,
   "metadata": {
    "collapsed": false
   },
   "outputs": [],
   "source": [
    "lc = np.array(lines_a[0].spin(motor0) - lines_b[0])"
   ]
  },
  {
   "cell_type": "code",
   "execution_count": null,
   "metadata": {
    "collapsed": false
   },
   "outputs": [],
   "source": [
    "lc[0] * lc[0]"
   ]
  },
  {
   "cell_type": "code",
   "execution_count": null,
   "metadata": {
    "collapsed": false
   },
   "outputs": [],
   "source": [
    "lines(lines_a[0], lines_b[0], motor0)"
   ]
  },
  {
   "cell_type": "code",
   "execution_count": null,
   "metadata": {
    "collapsed": false
   },
   "outputs": [],
   "source": [
    "ans = [lines(a,b,motor0) for a,b in zip(lines_a, lines_b)]\n",
    "res = np.sum([t[0] for t in ans])\n",
    "grad = np.sum([t[1] for t in ans], axis=0)\n",
    "Hess = np.sum([t[2] for t in ans], axis=0)\n",
    "print(grad)"
   ]
  },
  {
   "cell_type": "code",
   "execution_count": null,
   "metadata": {
    "collapsed": false
   },
   "outputs": [],
   "source": [
    "vsr.Dll(*grad).spin(motor0)"
   ]
  },
  {
   "cell_type": "code",
   "execution_count": null,
   "metadata": {
    "collapsed": false
   },
   "outputs": [],
   "source": [
    "(motor0 * vsr.Dll(*np.sum([np.array(a.spin(motor0).comm(b)) \n",
    "                          for a,b in zip(lines_a, lines_b)],axis=0))).dll()"
   ]
  },
  {
   "cell_type": "code",
   "execution_count": null,
   "metadata": {
    "collapsed": false
   },
   "outputs": [],
   "source": [
    "vsr.Dll(*np.sum([np.array(a.spin(motor0).comm(b)) \n",
    "                          for a,b in zip(lines_a, lines_b)],axis=0))"
   ]
  },
  {
   "cell_type": "code",
   "execution_count": null,
   "metadata": {
    "collapsed": true
   },
   "outputs": [],
   "source": [
    "n_points = 10\n",
    "sigma = 0.09\n",
    "points_a = [(vsr.Vec(*np.random.normal(0.0, 0.8, 3)).null(),\n",
    "             vsr.Vec(*np.random.normal(0.0, 0.8, 3)).null()  )\n",
    "            for i in range(n_points)]\n",
    "\n",
    "points_a_noisy = [(vsr.Vec(*(np.array(a)[:3] + sigma * np.random.randn(3))).null(),\n",
    "                   vsr.Vec(*(np.array(b)[:3] + sigma * np.random.randn(3))).null()) \n",
    "                  for a,b in points_a]\n",
    "\n",
    "lines_a = [vsr.Dll(a,b).unit() for (a,b) in points_a]\n",
    "lines_b = [line.spin(motor) for line in lines_a]"
   ]
  },
  {
   "cell_type": "code",
   "execution_count": null,
   "metadata": {
    "collapsed": true
   },
   "outputs": [],
   "source": [
    "def update(rot):\n",
    "    ans = [lines(a,b,rot) for a,b in zip(lines_a, lines_b)]\n",
    "    res = np.sum([t[0] for t in ans])\n",
    "    grad = np.sum([t[1] for t in ans], axis=0)\n",
    "    Hess = np.sum([t[2] for t in ans], axis=0)\n",
    "    B = -np.dot(np.linalg.pinv(Hess),grad)\n",
    "    rot = vsr.Dll(*B).exp() * rot\n",
    "    grad_norm = np.linalg.norm(grad)\n",
    "    return rot, res, grad_norm"
   ]
  },
  {
   "cell_type": "code",
   "execution_count": null,
   "metadata": {
    "collapsed": false
   },
   "outputs": [],
   "source": [
    "rot = vsr.Mot(1,0,0,0,0,0,0,0)\n",
    "res = 1e6\n",
    "i = 0\n",
    "ress = []\n",
    "while res > 1e-3:\n",
    "# for i in range(100):\n",
    "    i += 1\n",
    "    rot, res, grad_norm = update(rot)\n",
    "    ress.append(res)\n",
    "print(ress)\n",
    "print(rot)\n",
    "print(i)"
   ]
  },
  {
   "cell_type": "code",
   "execution_count": null,
   "metadata": {
    "collapsed": false
   },
   "outputs": [],
   "source": [
    "plot(ress);"
   ]
  }
 ],
 "metadata": {
  "anaconda-cloud": {},
  "kernelspec": {
   "display_name": "Python [default]",
   "language": "python",
   "name": "python3"
  },
  "language_info": {
   "codemirror_mode": {
    "name": "ipython",
    "version": 3
   },
   "file_extension": ".py",
   "mimetype": "text/x-python",
   "name": "python",
   "nbconvert_exporter": "python",
   "pygments_lexer": "ipython3",
   "version": "3.5.2"
  }
 },
 "nbformat": 4,
 "nbformat_minor": 1
}
