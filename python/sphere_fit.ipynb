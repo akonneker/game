{
 "cells": [
  {
   "cell_type": "code",
   "execution_count": 26,
   "metadata": {
    "collapsed": false
   },
   "outputs": [
    {
     "name": "stdout",
     "output_type": "stream",
     "text": [
      "Populating the interactive namespace from numpy and matplotlib\n"
     ]
    },
    {
     "data": {
      "text/plain": [
       "'1.10.1'"
      ]
     },
     "execution_count": 26,
     "metadata": {},
     "output_type": "execute_result"
    }
   ],
   "source": [
    "%pylab inline\n",
    "np.set_printoptions(precision=2, suppress=True)\n",
    "np.__version__"
   ]
  },
  {
   "cell_type": "code",
   "execution_count": 18,
   "metadata": {
    "collapsed": false
   },
   "outputs": [],
   "source": [
    "def new_positions_spherical_coordinates(num_points, radius, x_offset=0.0, y_offset=0.0, z_offset=0.0, stddev=0.0):\n",
    "    radius = radius + stddev * np.random.rand()\n",
    "    print(radius)\n",
    "    theta = np.random.uniform(0.,2. * np.pi ,(num_points,1))\n",
    "    phi = np.arccos(1-2*np.random.uniform(0.0,1.,(num_points,1)))\n",
    "    x = radius * np.sin( theta ) * np.cos( phi ) + x_offset + stddev * np.random.rand()\n",
    "    y = radius * np.sin( theta ) * np.sin( phi ) + y_offset + stddev * np.random.rand()\n",
    "    z = radius * np.cos( theta ) + z_offset + stddev * np.random.rand()\n",
    "    return (x,y,z)"
   ]
  },
  {
   "cell_type": "code",
   "execution_count": 48,
   "metadata": {
    "collapsed": false
   },
   "outputs": [
    {
     "name": "stdout",
     "output_type": "stream",
     "text": [
      "20.0094789505\n"
     ]
    }
   ],
   "source": [
    "# Generate random point set\n",
    "r = 20.0\n",
    "n = 100\n",
    "(x,y,z) = new_positions_spherical_coordinates(n, r,\n",
    "                                              x_offset=1.0,\n",
    "                                              y_offset=2.0,\n",
    "                                              z_offset=3.0, \n",
    "                                              stddev=0.01)\n",
    "# print(x)\n",
    "# print(y)\n",
    "# print(z)"
   ]
  },
  {
   "cell_type": "code",
   "execution_count": 49,
   "metadata": {
    "collapsed": true
   },
   "outputs": [],
   "source": [
    "# Point set from Hildenbrand\n",
    "# n = 5\n",
    "# x = [1.0, 1.0, 0.0, 0.0, -1.0]\n",
    "# y = [0.0, 1.0, 0.0, 1.0,  0.0]\n",
    "# z = [0.0, 0.0, 1.0, 1.0,  1.0]"
   ]
  },
  {
   "cell_type": "code",
   "execution_count": 50,
   "metadata": {
    "collapsed": false
   },
   "outputs": [],
   "source": [
    "ps = [np.array(np.ravel(p).tolist() + \n",
    "               [1.0, 0.5*np.linalg.norm(p)**2]).reshape(5,1) \n",
    "      for p in zip(x,y,z)]"
   ]
  },
  {
   "cell_type": "markdown",
   "metadata": {},
   "source": [
    "## Total Least Squares Fitting of $k$-Spheres in $n$-D Euclidean Space Using an $(n + 2)$-D Isometric Representation\n",
    "\n",
    "Leo Dorst 2014\n",
    "\n",
    "Journal of Mathematical Imaging and Vision\n",
    "\n",
    "http://link.springer.com/article/10.1007%2Fs10851-014-0495-2\n"
   ]
  },
  {
   "cell_type": "markdown",
   "metadata": {},
   "source": [
    "Cost function:\n",
    "$$\\frac{1}{N}\\sum_i\\frac{(p_i \\cdot x)^2}{x^2}$$"
   ]
  },
  {
   "cell_type": "code",
   "execution_count": 51,
   "metadata": {
    "collapsed": false
   },
   "outputs": [
    {
     "name": "stdout",
     "output_type": "stream",
     "text": [
      "[   1.      2.      3.      1.   -193.17]\n",
      "Estimated radius: 20.0094789505\n"
     ]
    }
   ],
   "source": [
    "M = np.zeros((5,5))\n",
    "M[:3,:3] = np.eye(3)\n",
    "M[3,4] = -1\n",
    "M[4,3] = -1\n",
    "P = np.zeros((5,5)) \n",
    "for p in ps:\n",
    "    P += np.outer(p,p)\n",
    "PM = np.matmul(P,M)\n",
    "(w,v) = np.linalg.eig(PM)\n",
    "idx = np.where(w == np.min(w[w>0]))[0][0]\n",
    "x_ = v[:,idx]\n",
    "x_ /= x_[3]\n",
    "x_dorst = x_.copy()\n",
    "print(x_)\n",
    "radius = np.sqrt(x_[0]*x_[0] + x_[1]*x_[1] + x_[2]*x_[2] - 2*x_[4])\n",
    "print(\"Estimated radius: {}\".format(radius))"
   ]
  },
  {
   "cell_type": "code",
   "execution_count": 52,
   "metadata": {
    "collapsed": false
   },
   "outputs": [
    {
     "name": "stdout",
     "output_type": "stream",
     "text": [
      "[[    6688.52      624.81      917.63   -37643.83     -139.35]\n",
      " [     624.81    13771.22      266.57   -78467.21     -256.1 ]\n",
      " [     917.63      266.57    21809.54  -141861.72     -387.89]\n",
      " [     139.35      256.1       387.89   -21134.64     -100.  ]\n",
      " [   37643.83    78467.21   141861.72 -4703471.78   -21134.64]]\n"
     ]
    }
   ],
   "source": [
    "print PM"
   ]
  },
  {
   "cell_type": "code",
   "execution_count": 53,
   "metadata": {
    "collapsed": false
   },
   "outputs": [
    {
     "name": "stdout",
     "output_type": "stream",
     "text": [
      "[   1.      2.      3.      1.   -193.17]\n",
      "Estimated radius: 20.0094789505\n"
     ]
    }
   ],
   "source": [
    "(u,s,v) = np.linalg.svd(PM) \n",
    "x_ = v.T[:,-1]\n",
    "x_ /= x_[3]\n",
    "print(x_)\n",
    "radius = np.sqrt(x_[0]*x_[0] + x_[1]*x_[1] + x_[2]*x_[2] - 2*x_[4])\n",
    "print(\"Estimated radius: {}\".format(radius))"
   ]
  },
  {
   "cell_type": "markdown",
   "metadata": {
    "collapsed": false
   },
   "source": [
    "## Foundations of Geometric Algebra Computing\n",
    "\n",
    "Dietmar Hildenbrand 2013"
   ]
  },
  {
   "cell_type": "code",
   "execution_count": 58,
   "metadata": {
    "collapsed": false
   },
   "outputs": [
    {
     "name": "stdout",
     "output_type": "stream",
     "text": [
      "[-114.22   -0.9    -2.4     0.65    1.  ]\n",
      "Estimated radius: 114.238427445\n"
     ]
    }
   ],
   "source": [
    "P = np.zeros((5,5))\n",
    "for p in ps:\n",
    "    P += np.outer(p,p)\n",
    "(w,v) = np.linalg.eig(P)\n",
    "idx = np.where(w == np.min(w[w>0]))[0][0]\n",
    "x_ = v[:,idx]\n",
    "x_ /= x_[4]\n",
    "print(x_)\n",
    "radius = np.sqrt(x_[0]*x_[0] + x_[1]*x_[1] + x_[2]*x_[2] - 2*x_[3])\n",
    "print(\"Estimated radius: {}\".format(radius))"
   ]
  },
  {
   "cell_type": "code",
   "execution_count": null,
   "metadata": {
    "collapsed": false
   },
   "outputs": [],
   "source": [
    "# P"
   ]
  },
  {
   "cell_type": "code",
   "execution_count": null,
   "metadata": {
    "collapsed": false
   },
   "outputs": [],
   "source": [
    "import sys\n",
    "sys.path.append('../build/Debug/')\n",
    "import libsphere_fit as sphere_fit"
   ]
  },
  {
   "cell_type": "code",
   "execution_count": null,
   "metadata": {
    "collapsed": false
   },
   "outputs": [],
   "source": [
    "def create_solver_options(use_trust_region_minimizer=True):\n",
    "    solver_options = {\n",
    "        'minimizer_type':'TRUST_REGION',\n",
    "#                 'minimizer_type':'LINE_SEARCH',\n",
    "                      'trust_region_strategy_type':'LEVENBERG_MARQUARDT',\n",
    "                      'linear_solver_type':'DENSE_QR',\n",
    "                      'max_num_iterations': 100, \n",
    "                      'num_threads': 12,\n",
    "                      'num_linear_solver_threads':12,\n",
    "                      'parameter_tolerance': 10e-8,\n",
    "                      'function_tolerance': 10e-8,\n",
    "                      'minimizer_progress_to_stdout':False,\n",
    "                      'trust_region_minimizer_iterations_to_dump':[],\n",
    "                      'trust_region_problem_dump_directory':'/home/lars/devel/game_ws/dump/sphere_fit',\n",
    "                     }\n",
    "    return solver_options    "
   ]
  },
  {
   "cell_type": "code",
   "execution_count": 59,
   "metadata": {
    "collapsed": false
   },
   "outputs": [
    {
     "ename": "NameError",
     "evalue": "name 'sphere_fit' is not defined",
     "output_type": "error",
     "traceback": [
      "\u001b[0;31m---------------------------------------------------------------------------\u001b[0m",
      "\u001b[0;31mNameError\u001b[0m                                 Traceback (most recent call last)",
      "\u001b[0;32m<ipython-input-59-b8a5ac21d37e>\u001b[0m in \u001b[0;36m<module>\u001b[0;34m()\u001b[0m\n\u001b[0;32m----> 1\u001b[0;31m \u001b[0msf\u001b[0m \u001b[0;34m=\u001b[0m \u001b[0msphere_fit\u001b[0m\u001b[0;34m.\u001b[0m\u001b[0mSphereFit\u001b[0m\u001b[0;34m(\u001b[0m\u001b[0;34m)\u001b[0m\u001b[0;34m\u001b[0m\u001b[0m\n\u001b[0m\u001b[1;32m      2\u001b[0m \u001b[0;34m\u001b[0m\u001b[0m\n\u001b[1;32m      3\u001b[0m \u001b[0msolver_options\u001b[0m \u001b[0;34m=\u001b[0m \u001b[0mcreate_solver_options\u001b[0m\u001b[0;34m(\u001b[0m\u001b[0;34m)\u001b[0m\u001b[0;34m\u001b[0m\u001b[0m\n\u001b[1;32m      4\u001b[0m \u001b[0;31m# solver_options['minimizer_progress_to_stdout'] = True\u001b[0m\u001b[0;34m\u001b[0m\u001b[0;34m\u001b[0m\u001b[0m\n\u001b[1;32m      5\u001b[0m \u001b[0;31m# solver_options['trust_region_minimizer_iterations_to_dump'] = [1,2,3,4,5,6,7,8,9]\u001b[0m\u001b[0;34m\u001b[0m\u001b[0;34m\u001b[0m\u001b[0m\n",
      "\u001b[0;31mNameError\u001b[0m: name 'sphere_fit' is not defined"
     ]
    }
   ],
   "source": [
    "sf = sphere_fit.SphereFit()\n",
    "\n",
    "solver_options = create_solver_options()\n",
    "# solver_options['minimizer_progress_to_stdout'] = True\n",
    "# solver_options['trust_region_minimizer_iterations_to_dump'] = [1,2,3,4,5,6,7,8,9]\n",
    "sf.set_solver_options(solver_options)\n",
    "\n",
    "\n",
    "sphere = np.array([1.0, 1.0, 1.0, 1.0, 1.0]).reshape(5,1)\n",
    "points = np.ascontiguousarray(np.transpose([x,y,z])).reshape(n,3).copy()\n",
    "x_ = sf.run(sphere, points).copy()\n",
    "\n",
    "x_ = x_ / x_[3]\n",
    "print(x_.reshape(-1))\n",
    "radius = np.sqrt(x_[0]*x_[0] + x_[1]*x_[1] + x_[2]*x_[2] - 2*x_[4])[0]\n",
    "print(\"Estimated radius: {}\".format(radius))"
   ]
  },
  {
   "cell_type": "code",
   "execution_count": null,
   "metadata": {
    "collapsed": false
   },
   "outputs": [],
   "source": [
    "np.linalg.norm(sphere)\n",
    "x_dorst"
   ]
  },
  {
   "cell_type": "code",
   "execution_count": null,
   "metadata": {
    "collapsed": false
   },
   "outputs": [],
   "source": [
    "# matplotlib.rc?\n",
    "scale = 1.0\n",
    "fig_width_pt = 358.50475  # Get this from LaTeX using \\showthe\\columnwidth\n",
    "inches_per_pt = 1.0/72.27               # Convert pt to inches\n",
    "golden_mean = (sqrt(5.0)-1.0)/2.0         # Aesthetic ratio\n",
    "fig_width = fig_width_pt*inches_per_pt  # width in inches\n",
    "fig_height =fig_width*golden_mean       # height in inches\n",
    "fig_size = [fig_width,fig_height]\n",
    "print fig_size\n",
    "params = {\n",
    "    'axes.labelsize': 9,\n",
    "    'font.size': 9,\n",
    "#           \"font.family\": \"sans-serif\",\n",
    "#           \"font.sans-serif\": [],\n",
    "          \"font.family\": \"serif\",\n",
    "          \"font.serif\": [],\n",
    "          'legend.fontsize': 9,\n",
    "          'legend.linewidth': 0.3,\n",
    "          'xtick.labelsize': 8,\n",
    "          'ytick.labelsize': 8,\n",
    "          'text.usetex': True,\n",
    "          'figure.figsize': fig_size,\n",
    "          'axes.linewidth': 0.5\n",
    "         }\n",
    " \n",
    " \n",
    "matplotlib.rcParams.update(params)\n",
    "iterations = sf.summary()['iterations']\n",
    "plt.plot([iteration['gradient_max_norm'] for iteration in iterations])\n",
    "\n",
    "plt.xlabel('Iteration $k$')\n",
    "plt.ylabel('Gradient max norm')\n",
    "plt.xticks([iteration['iteration'] for iteration in iterations])\n",
    "save_dir = '/home/lars/Dropbox/sharelatex/2016_phd_thesis_lt/figures'\n",
    "plt.savefig(save_dir + '/sphere_fit_gradient.pdf')"
   ]
  },
  {
   "cell_type": "code",
   "execution_count": null,
   "metadata": {
    "collapsed": false
   },
   "outputs": [],
   "source": [
    "sphere.reshape(-1)"
   ]
  },
  {
   "cell_type": "code",
   "execution_count": null,
   "metadata": {
    "collapsed": false,
    "scrolled": true
   },
   "outputs": [],
   "source": [
    "print(sf.summary()['full_report'])"
   ]
  },
  {
   "cell_type": "code",
   "execution_count": null,
   "metadata": {
    "collapsed": false
   },
   "outputs": [],
   "source": [
    "\"a\\\\r\\\\nb\""
   ]
  },
  {
   "cell_type": "code",
   "execution_count": null,
   "metadata": {
    "collapsed": false
   },
   "outputs": [],
   "source": [
    "from mpl_toolkits.mplot3d import Axes3D\n",
    "fig = plt.figure()\n",
    "ax = fig.gca(projection='3d')\n",
    "ax.set_aspect(\"equal\")\n",
    "u, v = np.mgrid[0:2*np.pi:20j, 0:-np.pi:10j]\n",
    "sx= r * np.cos(u)*np.sin(v)\n",
    "sy= r * np.sin(u)*np.sin(v)\n",
    "sz= r * np.cos(v)\n",
    "ax.plot_wireframe(sx, sy, sz, color=\"r\")\n",
    "\n",
    "ax.scatter3D(x,y,z)\n",
    "# sx= radius * np.cos(u)*np.sin(v) + x_[0]\n",
    "# sy= radius * np.sin(u)*np.sin(v) + x_[1]\n",
    "# sz= radius * np.cos(v) + x_[2]\n",
    "# ax.plot_wireframe(sx, sy, sz, color=\"b\")\n",
    "plt.savefig('sphere_fit.pdf')"
   ]
  },
  {
   "cell_type": "code",
   "execution_count": null,
   "metadata": {
    "collapsed": false
   },
   "outputs": [],
   "source": [
    "def load_problem_iteration_dump(directory, iteration):\n",
    "    tmp = '/ceres_solver_iteration_{:0>3d}'.format(iteration)\n",
    "    D = np.loadtxt(directory + tmp + '_D.txt')\n",
    "    b = np.loadtxt(directory + tmp + '_b.txt')\n",
    "    x = np.loadtxt(directory + tmp + '_x.txt')\n",
    "    f = open(directory + tmp + '.m')\n",
    "    matlab_script = f.readlines()\n",
    "    f.close()\n",
    "    rows = [int(s) for s in matlab_script[1][:-2].split() if s.isdigit()][0]\n",
    "    cols = [int(s) for s in matlab_script[2][:-2].split() if s.isdigit()][0]\n",
    "    A_sparse = np.loadtxt(directory + tmp + '_A.txt')\n",
    "    A = np.zeros((rows, cols))\n",
    "    for row in A_sparse:\n",
    "        A[int(row[0]), int(row[1])] = row[2]\n",
    "    return (A,D,b,x)\n",
    "\n",
    "directory = solver_options['trust_region_problem_dump_directory']\n",
    "(A, D, b, x_) = load_problem_iteration_dump(directory, 1)\n",
    "A"
   ]
  },
  {
   "cell_type": "code",
   "execution_count": null,
   "metadata": {
    "collapsed": false
   },
   "outputs": [],
   "source": [
    "D"
   ]
  }
 ],
 "metadata": {
  "kernelspec": {
   "display_name": "Python 2",
   "language": "python",
   "name": "python2"
  },
  "language_info": {
   "codemirror_mode": {
    "name": "ipython",
    "version": 2
   },
   "file_extension": ".py",
   "mimetype": "text/x-python",
   "name": "python",
   "nbconvert_exporter": "python",
   "pygments_lexer": "ipython2",
   "version": "2.7.10"
  }
 },
 "nbformat": 4,
 "nbformat_minor": 0
}
