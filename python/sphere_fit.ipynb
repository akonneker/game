{
 "cells": [
  {
   "cell_type": "code",
   "execution_count": 1,
   "metadata": {
    "collapsed": false
   },
   "outputs": [
    {
     "name": "stdout",
     "output_type": "stream",
     "text": [
      "Populating the interactive namespace from numpy and matplotlib\n"
     ]
    }
   ],
   "source": [
    "%pylab inline"
   ]
  },
  {
   "cell_type": "code",
   "execution_count": 2,
   "metadata": {
    "collapsed": false
   },
   "outputs": [],
   "source": [
    "def new_positions_spherical_coordinates(num_points, radius, x_offset=0.0, y_offset=0.0, z_offset=0.0, stddev=0.0):\n",
    "    radius = radius + stddev * np.random.rand()\n",
    "    print(radius)\n",
    "    theta = np.random.uniform(0.,2. * np.pi ,(num_points,1))\n",
    "    phi = np.arccos(1-2*np.random.uniform(0.0,1.,(num_points,1)))\n",
    "    x = radius * np.sin( theta ) * np.cos( phi ) + x_offset + stddev * np.random.rand()\n",
    "    y = radius * np.sin( theta ) * np.sin( phi ) + y_offset + stddev * np.random.rand()\n",
    "    z = radius * np.cos( theta ) + z_offset + stddev * np.random.rand()\n",
    "    return (x,y,z)"
   ]
  },
  {
   "cell_type": "code",
   "execution_count": 3,
   "metadata": {
    "collapsed": false
   },
   "outputs": [],
   "source": [
    "np.set_printoptions(precision=4)"
   ]
  },
  {
   "cell_type": "code",
   "execution_count": 4,
   "metadata": {
    "collapsed": false
   },
   "outputs": [
    {
     "name": "stdout",
     "output_type": "stream",
     "text": [
      "44.1563874476\n"
     ]
    }
   ],
   "source": [
    "# Generate random point set\n",
    "r = 44.0\n",
    "n = 10\n",
    "(x,y,z) = new_positions_spherical_coordinates(n, r,\n",
    "                                              x_offset=0.0,\n",
    "                                              y_offset=0.0,\n",
    "                                              z_offset=0.0, \n",
    "                                              stddev=0.5)"
   ]
  },
  {
   "cell_type": "code",
   "execution_count": 5,
   "metadata": {
    "collapsed": true
   },
   "outputs": [],
   "source": [
    "# Point set from Hildenbrand\n",
    "# n = 5\n",
    "# x = [1.0, 1.0, 0.0, 0.0, -1.0]\n",
    "# y = [0.0, 1.0, 0.0, 1.0,  0.0]\n",
    "# z = [0.0, 0.0, 1.0, 1.0,  1.0]"
   ]
  },
  {
   "cell_type": "code",
   "execution_count": 6,
   "metadata": {
    "collapsed": false
   },
   "outputs": [],
   "source": [
    "ps = [np.array(np.ravel(p).tolist() + \n",
    "               [1.0, 0.5*np.linalg.norm(p)**2]).reshape(5,1) \n",
    "      for p in zip(x,y,z)]"
   ]
  },
  {
   "cell_type": "markdown",
   "metadata": {},
   "source": [
    "## Total Least Squares Fitting of $k$-Spheres in $n$-D Euclidean Space Using an $(n + 2)$-D Isometric Representation\n",
    "\n",
    "Leo Dorst 2014\n",
    "\n",
    "Journal of Mathematical Imaging and Vision\n",
    "\n",
    "http://link.springer.com/article/10.1007%2Fs10851-014-0495-2\n"
   ]
  },
  {
   "cell_type": "markdown",
   "metadata": {},
   "source": [
    "Cost function:\n",
    "$$\\frac{1}{N}\\sum_i\\frac{(p_i \\cdot x)^2}{x^2}$$"
   ]
  },
  {
   "cell_type": "code",
   "execution_count": 7,
   "metadata": {
    "collapsed": false
   },
   "outputs": [
    {
     "name": "stdout",
     "output_type": "stream",
     "text": [
      "[  2.8169e-01   4.3111e-02   1.8332e-01   1.0000e+00  -9.7484e+02]\n",
      "Estimated radius: 44.1563874476\n"
     ]
    }
   ],
   "source": [
    "M = np.zeros((5,5))\n",
    "M[:3,:3] = np.eye(3)\n",
    "M[3,4] = -1\n",
    "M[4,3] = -1\n",
    "P = np.zeros((5,5))\n",
    "for p in ps:\n",
    "    P += np.inner(np.outer(p,p),M)\n",
    "(w,v) = np.linalg.eig(P / float(len(ps)))\n",
    "idx = np.where(w == np.min(w[w>0]))[0][0]\n",
    "x_ = v[:,idx]\n",
    "x_ /= x_[3]\n",
    "print(x_)\n",
    "radius = np.sqrt(x_[0]*x_[0] + x_[1]*x_[1] + x_[2]*x_[2] - 2*x_[4])\n",
    "print(\"Estimated radius: {}\".format(radius))"
   ]
  },
  {
   "cell_type": "code",
   "execution_count": 8,
   "metadata": {
    "collapsed": false
   },
   "outputs": [],
   "source": [
    "# M"
   ]
  },
  {
   "cell_type": "code",
   "execution_count": 9,
   "metadata": {
    "collapsed": false
   },
   "outputs": [],
   "source": [
    "# P"
   ]
  },
  {
   "cell_type": "markdown",
   "metadata": {
    "collapsed": false
   },
   "source": [
    "## Foundations of Geometric Algebra Computing\n",
    "\n",
    "Dietmar Hildenbrand 2013"
   ]
  },
  {
   "cell_type": "code",
   "execution_count": 47,
   "metadata": {
    "collapsed": false
   },
   "outputs": [
    {
     "name": "stdout",
     "output_type": "stream",
     "text": [
      "[ -2.8169e-01  -4.3111e-02  -1.8332e-01  -9.7484e+02   1.0000e+00]\n",
      "Estimated radius: 44.1563874476\n"
     ]
    }
   ],
   "source": [
    "P = np.zeros((5,5))\n",
    "for p in ps:\n",
    "    P += np.outer(p,p)\n",
    "(w,v) = np.linalg.eig(P)\n",
    "idx = np.where(w == np.min(w[w>0]))[0][0]\n",
    "x_ = v[:,idx]\n",
    "x_ /= x_[4]\n",
    "print(x_)\n",
    "radius = np.sqrt(x_[0]*x_[0] + x_[1]*x_[1] + x_[2]*x_[2] - 2*x_[3])\n",
    "print(\"Estimated radius: {}\".format(radius))"
   ]
  },
  {
   "cell_type": "code",
   "execution_count": 11,
   "metadata": {
    "collapsed": false
   },
   "outputs": [],
   "source": [
    "# P"
   ]
  },
  {
   "cell_type": "code",
   "execution_count": 12,
   "metadata": {
    "collapsed": false
   },
   "outputs": [],
   "source": [
    "import sys\n",
    "sys.path.append('../build/Debug/')\n",
    "import libsphere_fit as sphere_fit"
   ]
  },
  {
   "cell_type": "code",
   "execution_count": 13,
   "metadata": {
    "collapsed": false
   },
   "outputs": [],
   "source": [
    "def create_solver_options(use_trust_region_minimizer=True):\n",
    "    solver_options = {'minimizer_type':'TRUST_REGION',\n",
    "                      'trust_region_strategy_type':'LEVENBERG_MARQUARDT',\n",
    "                      'linear_solver_type':'DENSE_QR',\n",
    "                      'max_num_iterations': 100, \n",
    "                      'num_threads': 12,\n",
    "                      'num_linear_solver_threads':12,\n",
    "                      'parameter_tolerance': 10e-12,\n",
    "                      'function_tolerance': 10e-12,\n",
    "                      'minimizer_progress_to_stdout':False,\n",
    "                      'trust_region_minimizer_iterations_to_dump':[],\n",
    "                      'trust_region_problem_dump_directory':'/home/lars/devel/game_ws/dump/sphere_fit',\n",
    "                     }\n",
    "    return solver_options    "
   ]
  },
  {
   "cell_type": "code",
   "execution_count": 52,
   "metadata": {
    "collapsed": false
   },
   "outputs": [
    {
     "name": "stdout",
     "output_type": "stream",
     "text": [
      "[  2.8169e-01   4.3111e-02   1.8332e-01   1.0000e+00  -9.7484e+02]\n",
      "Estimated radius: 44.1563874476\n"
     ]
    }
   ],
   "source": [
    "sf = sphere_fit.SphereFit()\n",
    "\n",
    "solver_options = create_solver_options()\n",
    "solver_options['minimizer_progress_to_stdout'] = True\n",
    "solver_options['trust_region_minimizer_iterations_to_dump'] = [1,2,3,4,5,6,7,8,9]\n",
    "sf.set_solver_options(solver_options)\n",
    "\n",
    "\n",
    "sphere = np.array([1.0, 1.0, 1.0, 1.0, 1.0]).reshape(5,1)\n",
    "points = np.ascontiguousarray(np.transpose([x,y,z])).reshape(n,3).copy()\n",
    "x_ = sf.run(sphere, points).copy()\n",
    "x_ = x_ / x_[3]\n",
    "print(x_.reshape(-1))\n",
    "radius = np.sqrt(x_[0]*x_[0] + x_[1]*x_[1] + x_[2]*x_[2] - 2*x_[4])[0]\n",
    "print(\"Estimated radius: {}\".format(radius))"
   ]
  },
  {
   "cell_type": "code",
   "execution_count": 15,
   "metadata": {
    "collapsed": false
   },
   "outputs": [
    {
     "data": {
      "text/plain": [
       "array([  1.0827e-02,   1.6570e-03,   7.0458e-03,   3.8435e-02,  -3.7468e+01])"
      ]
     },
     "execution_count": 15,
     "metadata": {},
     "output_type": "execute_result"
    }
   ],
   "source": [
    "sphere.reshape(-1)"
   ]
  },
  {
   "cell_type": "code",
   "execution_count": 16,
   "metadata": {
    "collapsed": false,
    "scrolled": true
   },
   "outputs": [],
   "source": [
    "# sf.summary()"
   ]
  },
  {
   "cell_type": "code",
   "execution_count": 17,
   "metadata": {
    "collapsed": false
   },
   "outputs": [],
   "source": [
    "# from mpl_toolkits.mplot3d import Axes3D\n",
    "# fig = plt.figure()\n",
    "# ax = fig.gca(projection='3d')\n",
    "# ax.set_aspect(\"equal\")\n",
    "# u, v = np.mgrid[0:2*np.pi:20j, 0:-np.pi:10j]\n",
    "# sx= r * np.cos(u)*np.sin(v)\n",
    "# sy= r * np.sin(u)*np.sin(v)\n",
    "# sz= r * np.cos(v)\n",
    "# ax.plot_wireframe(sx, sy, sz, color=\"r\")\n",
    "\n",
    "# # ax.scatter3D(x,y,z)\n",
    "# sx= radius * np.cos(u)*np.sin(v) + x_[0]\n",
    "# sy= radius * np.sin(u)*np.sin(v) + x_[1]\n",
    "# sz= radius * np.cos(v) + x_[2]\n",
    "# ax.plot_wireframe(sx, sy, sz, color=\"b\")"
   ]
  },
  {
   "cell_type": "code",
   "execution_count": 18,
   "metadata": {
    "collapsed": false
   },
   "outputs": [
    {
     "data": {
      "text/plain": [
       "array([[ 0.0583,  0.0692,  0.0652, -0.0954, -0.0605],\n",
       "       [ 0.0656,  0.0669,  0.0616, -0.0957, -0.0634],\n",
       "       [ 0.0663,  0.0693,  0.0579, -0.0959, -0.0601],\n",
       "       [ 0.0683,  0.0678,  0.0579, -0.0962, -0.0592],\n",
       "       [ 0.0634,  0.0612,  0.0699, -0.0967, -0.0578],\n",
       "       [ 0.0624,  0.0629,  0.0687, -0.0966, -0.0566],\n",
       "       [ 0.0695,  0.0626,  0.063 , -0.0963, -0.0629],\n",
       "       [ 0.0685,  0.0667,  0.0588, -0.0965, -0.0576],\n",
       "       [ 0.0638,  0.0638,  0.0669, -0.0958, -0.0636],\n",
       "       [ 0.0632,  0.061 ,  0.0706, -0.0964, -0.0607]])"
      ]
     },
     "execution_count": 18,
     "metadata": {},
     "output_type": "execute_result"
    }
   ],
   "source": [
    "def load_problem_iteration_dump(directory, iteration):\n",
    "    tmp = '/ceres_solver_iteration_{:0>3d}'.format(iteration)\n",
    "    D = np.loadtxt(directory + tmp + '_D.txt')\n",
    "    b = np.loadtxt(directory + tmp + '_b.txt')\n",
    "    x = np.loadtxt(directory + tmp + '_x.txt')\n",
    "    f = open(directory + tmp + '.m')\n",
    "    matlab_script = f.readlines()\n",
    "    f.close()\n",
    "    rows = [int(s) for s in matlab_script[1][:-2].split() if s.isdigit()][0]\n",
    "    cols = [int(s) for s in matlab_script[2][:-2].split() if s.isdigit()][0]\n",
    "    A_sparse = np.loadtxt(directory + tmp + '_A.txt')\n",
    "    A = np.zeros((rows, cols))\n",
    "    for row in A_sparse:\n",
    "        A[int(row[0]), int(row[1])] = row[2]\n",
    "    return (A,D,b,x)\n",
    "\n",
    "directory = solver_options['trust_region_problem_dump_directory']\n",
    "(A, D, b, x_) = load_problem_iteration_dump(directory, 1)\n",
    "A"
   ]
  },
  {
   "cell_type": "code",
   "execution_count": 45,
   "metadata": {
    "collapsed": false
   },
   "outputs": [
    {
     "data": {
      "text/plain": [
       "array([ 0.002 ,  0.002 ,  0.002 ,  0.003 ,  0.0019])"
      ]
     },
     "execution_count": 45,
     "metadata": {},
     "output_type": "execute_result"
    }
   ],
   "source": [
    "D"
   ]
  }
 ],
 "metadata": {
  "kernelspec": {
   "display_name": "Python 2",
   "language": "python",
   "name": "python2"
  },
  "language_info": {
   "codemirror_mode": {
    "name": "ipython",
    "version": 2
   },
   "file_extension": ".py",
   "mimetype": "text/x-python",
   "name": "python",
   "nbconvert_exporter": "python",
   "pygments_lexer": "ipython2",
   "version": "2.7.6"
  }
 },
 "nbformat": 4,
 "nbformat_minor": 0
}
