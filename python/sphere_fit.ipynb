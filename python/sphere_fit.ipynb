{
 "cells": [
  {
   "cell_type": "code",
   "execution_count": 1,
   "metadata": {
    "collapsed": false
   },
   "outputs": [
    {
     "name": "stdout",
     "output_type": "stream",
     "text": [
      "Populating the interactive namespace from numpy and matplotlib\n"
     ]
    }
   ],
   "source": [
    "%pylab inline"
   ]
  },
  {
   "cell_type": "code",
   "execution_count": 2,
   "metadata": {
    "collapsed": false
   },
   "outputs": [],
   "source": [
    "def new_positions_spherical_coordinates(num_points, radius, x_offset=0.0, y_offset=0.0, z_offset=0.0, stddev=0.0):\n",
    "    radius = radius + stddev * np.random.rand()\n",
    "    print(radius)\n",
    "    theta = np.random.uniform(0.,2. * np.pi ,(num_points,1))\n",
    "    phi = np.arccos(1-2*np.random.uniform(0.0,1.,(num_points,1)))\n",
    "    x = radius * np.sin( theta ) * np.cos( phi ) + x_offset + stddev * np.random.rand()\n",
    "    y = radius * np.sin( theta ) * np.sin( phi ) + y_offset + stddev * np.random.rand()\n",
    "    z = radius * np.cos( theta ) + z_offset + stddev * np.random.rand()\n",
    "    return (x,y,z)"
   ]
  },
  {
   "cell_type": "code",
   "execution_count": 3,
   "metadata": {
    "collapsed": false
   },
   "outputs": [],
   "source": [
    "np.set_printoptions(precision=4)"
   ]
  },
  {
   "cell_type": "code",
   "execution_count": 4,
   "metadata": {
    "collapsed": false
   },
   "outputs": [
    {
     "name": "stdout",
     "output_type": "stream",
     "text": [
      "44.0968072721\n"
     ]
    }
   ],
   "source": [
    "# Generate random point set\n",
    "r = 44.0\n",
    "n = 1000\n",
    "(x,y,z) = new_positions_spherical_coordinates(n, r,\n",
    "                                              x_offset=1.0,\n",
    "                                              y_offset=2.0,\n",
    "                                              z_offset=3.0, \n",
    "                                              stddev=0.1)"
   ]
  },
  {
   "cell_type": "code",
   "execution_count": 5,
   "metadata": {
    "collapsed": true
   },
   "outputs": [],
   "source": [
    "# Point set from Hildenbrand\n",
    "# n = 5\n",
    "# x = [1.0, 1.0, 0.0, 0.0, -1.0]\n",
    "# y = [0.0, 1.0, 0.0, 1.0,  0.0]\n",
    "# z = [0.0, 0.0, 1.0, 1.0,  1.0]"
   ]
  },
  {
   "cell_type": "code",
   "execution_count": 6,
   "metadata": {
    "collapsed": false
   },
   "outputs": [],
   "source": [
    "ps = [np.array(np.ravel(p).tolist() + \n",
    "               [1.0, 0.5*np.linalg.norm(p)**2]).reshape(5,1) \n",
    "      for p in zip(x,y,z)]"
   ]
  },
  {
   "cell_type": "markdown",
   "metadata": {},
   "source": [
    "## Total Least Squares Fitting of $k$-Spheres in $n$-D Euclidean Space Using an $(n + 2)$-D Isometric Representation\n",
    "\n",
    "Leo Dorst 2014\n",
    "\n",
    "Journal of Mathematical Imaging and Vision\n",
    "\n",
    "http://link.springer.com/article/10.1007%2Fs10851-014-0495-2\n"
   ]
  },
  {
   "cell_type": "markdown",
   "metadata": {},
   "source": [
    "Cost function:\n",
    "$$\\frac{1}{N}\\sum_i\\frac{(p_i \\cdot x)^2}{x^2}$$"
   ]
  },
  {
   "cell_type": "code",
   "execution_count": 7,
   "metadata": {
    "collapsed": false
   },
   "outputs": [
    {
     "name": "stdout",
     "output_type": "stream",
     "text": [
      "[   1.0837    2.0029    3.0921    1.     -964.8907]\n",
      "Estimated radius: 44.0968072721\n"
     ]
    }
   ],
   "source": [
    "M = np.zeros((5,5))\n",
    "M[:3,:3] = np.eye(3)\n",
    "M[3,4] = -1\n",
    "M[4,3] = -1\n",
    "P = np.zeros((5,5))\n",
    "for p in ps:\n",
    "    P += np.inner(np.outer(p,p),M)\n",
    "(w,v) = np.linalg.eig(P / float(len(ps)))\n",
    "idx = np.where(w == np.min(w[w>0]))[0][0]\n",
    "x_ = v[:,idx]\n",
    "x_ /= x_[3]\n",
    "print(x_)\n",
    "radius = np.sqrt(x_[0]*x_[0] + x_[1]*x_[1] + x_[2]*x_[2] - 2*x_[4])\n",
    "print(\"Estimated radius: {}\".format(radius))"
   ]
  },
  {
   "cell_type": "code",
   "execution_count": 8,
   "metadata": {
    "collapsed": false
   },
   "outputs": [],
   "source": [
    "# M"
   ]
  },
  {
   "cell_type": "code",
   "execution_count": 9,
   "metadata": {
    "collapsed": false
   },
   "outputs": [],
   "source": [
    "# P"
   ]
  },
  {
   "cell_type": "markdown",
   "metadata": {
    "collapsed": false
   },
   "source": [
    "## Foundations of Geometric Algebra Computing\n",
    "\n",
    "Dietmar Hildenbrand 2013"
   ]
  },
  {
   "cell_type": "code",
   "execution_count": 10,
   "metadata": {
    "collapsed": false
   },
   "outputs": [
    {
     "name": "stdout",
     "output_type": "stream",
     "text": [
      "[-680.1557  -14.3937   -8.8803    0.8233    1.    ]\n",
      "Estimated radius: 680.364696223\n"
     ]
    }
   ],
   "source": [
    "P = np.zeros((5,5))\n",
    "for p in ps:\n",
    "    P += np.outer(p,p)\n",
    "(w,v) = np.linalg.eig(P)\n",
    "idx = np.where(w == np.min(w[w>0]))[0][0]\n",
    "x_ = v[:,idx]\n",
    "x_ /= x_[4]\n",
    "print(x_)\n",
    "radius = np.sqrt(x_[0]*x_[0] + x_[1]*x_[1] + x_[2]*x_[2] - 2*x_[3])\n",
    "print(\"Estimated radius: {}\".format(radius))"
   ]
  },
  {
   "cell_type": "code",
   "execution_count": 11,
   "metadata": {
    "collapsed": false
   },
   "outputs": [],
   "source": [
    "# P"
   ]
  },
  {
   "cell_type": "code",
   "execution_count": 12,
   "metadata": {
    "collapsed": false
   },
   "outputs": [],
   "source": [
    "import sys\n",
    "sys.path.append('../build/Debug/')\n",
    "import libsphere_fit as sphere_fit"
   ]
  },
  {
   "cell_type": "code",
   "execution_count": 19,
   "metadata": {
    "collapsed": false
   },
   "outputs": [
    {
     "name": "stdout",
     "output_type": "stream",
     "text": [
      "[   1.0837    2.0029    3.0921    1.     -964.8907]\n",
      "Estimated radius: 44.0968072721\n"
     ]
    }
   ],
   "source": [
    "sf = sphere_fit.SphereFit()\n",
    "\n",
    "solver_options = {'trust_region_strategy_type':'LEVENBERG_MARQUARDT',\n",
    "                  'linear_solver_type':'DENSE_QR',\n",
    "                  'max_num_iterations': 25, \n",
    "                  'num_threads': 12,\n",
    "                  'num_linear_solver_threads':12,\n",
    "                  'parameter_tolerance': 10e-12,\n",
    "                  'function_tolerance': 10e-12}\n",
    "sf.set_solver_options(solver_options)\n",
    "\n",
    "\n",
    "sphere = np.array([1.0, 1.0, 1.0, 1.0, 1.0]).reshape(5,1)\n",
    "points = np.ascontiguousarray(np.transpose([x,y,z])).reshape(n,3).copy()\n",
    "x_ = sf.run(sphere, points).copy()\n",
    "x_ = x_ / x_[3]\n",
    "print(x_.reshape(-1))\n",
    "radius = np.sqrt(x_[0]*x_[0] + x_[1]*x_[1] + x_[2]*x_[2] - 2*x_[4])[0]\n",
    "print(\"Estimated radius: {}\".format(radius))"
   ]
  },
  {
   "cell_type": "code",
   "execution_count": 20,
   "metadata": {
    "collapsed": false
   },
   "outputs": [
    {
     "data": {
      "text/plain": [
       "array([  0.0487,   0.09  ,   0.139 ,   0.0449, -43.3646])"
      ]
     },
     "execution_count": 20,
     "metadata": {},
     "output_type": "execute_result"
    }
   ],
   "source": [
    "sphere.reshape(-1)"
   ]
  },
  {
   "cell_type": "code",
   "execution_count": 21,
   "metadata": {
    "collapsed": false,
    "scrolled": true
   },
   "outputs": [
    {
     "data": {
      "text/plain": [
       "'DENSE_QR'"
      ]
     },
     "execution_count": 21,
     "metadata": {},
     "output_type": "execute_result"
    }
   ],
   "source": [
    "sf.summary()['linear_solver_type_used']"
   ]
  },
  {
   "cell_type": "code",
   "execution_count": 22,
   "metadata": {
    "collapsed": false
   },
   "outputs": [
    {
     "data": {
      "text/plain": [
       "{'brief_report': 'Ceres Solver Report: Iterations: 8, Initial cost: 4.748744e+08, Final cost: 3.383180e-21, Termination: CONVERGENCE',\n",
       " 'iterations': [{'cost': 474874439.4890291,\n",
       "   'cost_change': 0.0,\n",
       "   'eta': 0.1,\n",
       "   'gradient_max_norm': 1905672165.712697,\n",
       "   'iteration': 0,\n",
       "   'linear_solver_iterations': 0,\n",
       "   'relative_decrease': 0.0,\n",
       "   'step_norm': 0.0,\n",
       "   'trust_region_radius': 10000.0},\n",
       "  {'cost': 162463339.8635205,\n",
       "   'cost_change': 312411099.62550855,\n",
       "   'eta': 0.0,\n",
       "   'gradient_max_norm': 342908970.87357825,\n",
       "   'iteration': 1,\n",
       "   'linear_solver_iterations': 1,\n",
       "   'relative_decrease': 0.6578905455561771,\n",
       "   'step_norm': 0.7210447956877726,\n",
       "   'trust_region_radius': 10325.127563120355},\n",
       "  {'cost': 55317326.347779915,\n",
       "   'cost_change': 107146013.51574059,\n",
       "   'eta': 0.0,\n",
       "   'gradient_max_norm': 74609661.90800117,\n",
       "   'iteration': 2,\n",
       "   'linear_solver_iterations': 1,\n",
       "   'relative_decrease': 0.6595125299638808,\n",
       "   'step_norm': 2.855379761792053,\n",
       "   'trust_region_radius': 10671.629062198666},\n",
       "  {'cost': 12736489.25711196,\n",
       "   'cost_change': 42580837.090667956,\n",
       "   'eta': 0.0,\n",
       "   'gradient_max_norm': 21992126.668082647,\n",
       "   'iteration': 3,\n",
       "   'linear_solver_iterations': 1,\n",
       "   'relative_decrease': 0.7697564926744368,\n",
       "   'step_norm': 8.244893977263729,\n",
       "   'trust_region_radius': 12659.685031342346},\n",
       "  {'cost': 740232.1507362525,\n",
       "   'cost_change': 11996257.106375707,\n",
       "   'eta': 0.0,\n",
       "   'gradient_max_norm': 8998708.934558125,\n",
       "   'iteration': 4,\n",
       "   'linear_solver_iterations': 1,\n",
       "   'relative_decrease': 0.9418810093861052,\n",
       "   'step_norm': 14.711972982678246,\n",
       "   'trust_region_radius': 37979.05509402704},\n",
       "  {'cost': 552.8993099882609,\n",
       "   'cost_change': 739679.2514262643,\n",
       "   'eta': 0.0,\n",
       "   'gradient_max_norm': 501537.49925508746,\n",
       "   'iteration': 5,\n",
       "   'linear_solver_iterations': 1,\n",
       "   'relative_decrease': 0.9992530733082466,\n",
       "   'step_norm': 17.542942645304553,\n",
       "   'trust_region_radius': 113937.16528208113},\n",
       "  {'cost': 0.1001983596683616,\n",
       "   'cost_change': 552.7991116285925,\n",
       "   'eta': 0.0,\n",
       "   'gradient_max_norm': 7007.319970950613,\n",
       "   'iteration': 6,\n",
       "   'linear_solver_iterations': 1,\n",
       "   'relative_decrease': 0.9998187765299075,\n",
       "   'step_norm': 0.4529021288392568,\n",
       "   'trust_region_radius': 341811.4958462434},\n",
       "  {'cost': 3.3784446652648994e-09,\n",
       "   'cost_change': 0.10019835628991694,\n",
       "   'eta': 0.0,\n",
       "   'gradient_max_norm': 1.2858967436891566,\n",
       "   'iteration': 7,\n",
       "   'linear_solver_iterations': 1,\n",
       "   'relative_decrease': 0.9999999662881179,\n",
       "   'step_norm': 0.006055054898732685,\n",
       "   'trust_region_radius': 1025434.4875387303},\n",
       "  {'cost': 3.3831795319191507e-21,\n",
       "   'cost_change': 3.3784446652615162e-09,\n",
       "   'eta': 0.0,\n",
       "   'gradient_max_norm': 5.081744219453954e-07,\n",
       "   'iteration': 8,\n",
       "   'linear_solver_iterations': 1,\n",
       "   'relative_decrease': 1.0000000000004217,\n",
       "   'step_norm': 1.1127057711707062e-06,\n",
       "   'trust_region_radius': 3076303.462616191}],\n",
       " 'linear_solver_type_used': 'DENSE_QR',\n",
       " 'num_parameter_blocks': 1,\n",
       " 'num_parameters': 5,\n",
       " 'num_residual_blocks': 1000,\n",
       " 'num_residuals': 1000,\n",
       " 'trust_region_strategy_type': 'LEVENBERG_MARQUARDT'}"
      ]
     },
     "execution_count": 22,
     "metadata": {},
     "output_type": "execute_result"
    }
   ],
   "source": [
    "sf.summary()"
   ]
  },
  {
   "cell_type": "code",
   "execution_count": 17,
   "metadata": {
    "collapsed": false
   },
   "outputs": [],
   "source": [
    "# from mpl_toolkits.mplot3d import Axes3D\n",
    "# fig = plt.figure()\n",
    "# ax = fig.gca(projection='3d')\n",
    "# ax.set_aspect(\"equal\")\n",
    "# u, v = np.mgrid[0:2*np.pi:20j, 0:-np.pi:10j]\n",
    "# sx= r * np.cos(u)*np.sin(v)\n",
    "# sy= r * np.sin(u)*np.sin(v)\n",
    "# sz= r * np.cos(v)\n",
    "# ax.plot_wireframe(sx, sy, sz, color=\"r\")\n",
    "\n",
    "# # ax.scatter3D(x,y,z)\n",
    "# sx= radius * np.cos(u)*np.sin(v) + x_[0]\n",
    "# sy= radius * np.sin(u)*np.sin(v) + x_[1]\n",
    "# sz= radius * np.cos(v) + x_[2]\n",
    "# ax.plot_wireframe(sx, sy, sz, color=\"b\")"
   ]
  },
  {
   "cell_type": "code",
   "execution_count": null,
   "metadata": {
    "collapsed": true
   },
   "outputs": [],
   "source": []
  }
 ],
 "metadata": {
  "kernelspec": {
   "display_name": "Python 2",
   "language": "python",
   "name": "python2"
  },
  "language_info": {
   "codemirror_mode": {
    "name": "ipython",
    "version": 2
   },
   "file_extension": ".py",
   "mimetype": "text/x-python",
   "name": "python",
   "nbconvert_exporter": "python",
   "pygments_lexer": "ipython2",
   "version": "2.7.6"
  }
 },
 "nbformat": 4,
 "nbformat_minor": 0
}
