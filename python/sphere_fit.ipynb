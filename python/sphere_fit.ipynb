{
 "cells": [
  {
   "cell_type": "code",
   "execution_count": 86,
   "metadata": {
    "collapsed": false
   },
   "outputs": [
    {
     "name": "stdout",
     "output_type": "stream",
     "text": [
      "Populating the interactive namespace from numpy and matplotlib\n"
     ]
    }
   ],
   "source": [
    "%pylab inline"
   ]
  },
  {
   "cell_type": "code",
   "execution_count": 87,
   "metadata": {
    "collapsed": false
   },
   "outputs": [],
   "source": [
    "def new_positions_spherical_coordinates(num_points, radius, x_offset=0.0, y_offset=0.0, z_offset=0.0, stddev=0.0):\n",
    "    radius = radius + stddev * np.random.rand()\n",
    "    print(radius)\n",
    "    theta = np.random.uniform(0.,2. * np.pi ,(num_points,1))\n",
    "    phi = np.arccos(1-2*np.random.uniform(0.0,1.,(num_points,1)))\n",
    "    x = radius * np.sin( theta ) * np.cos( phi ) + x_offset + stddev * np.random.rand()\n",
    "    y = radius * np.sin( theta ) * np.sin( phi ) + y_offset + stddev * np.random.rand()\n",
    "    z = radius * np.cos( theta ) + z_offset + stddev * np.random.rand()\n",
    "    return (x,y,z)"
   ]
  },
  {
   "cell_type": "code",
   "execution_count": 88,
   "metadata": {
    "collapsed": false
   },
   "outputs": [],
   "source": [
    "np.set_printoptions(precision=4)"
   ]
  },
  {
   "cell_type": "code",
   "execution_count": 89,
   "metadata": {
    "collapsed": false
   },
   "outputs": [
    {
     "name": "stdout",
     "output_type": "stream",
     "text": [
      "3.10939451419\n"
     ]
    }
   ],
   "source": [
    "# Generate random point set\n",
    "r = 3.0\n",
    "n = 10000\n",
    "(x,y,z) = new_positions_spherical_coordinates(n, r,\n",
    "                                              x_offset=1.0,\n",
    "                                              y_offset=2.0,\n",
    "                                              z_offset=3.0, \n",
    "                                              stddev=0.2)"
   ]
  },
  {
   "cell_type": "code",
   "execution_count": 99,
   "metadata": {
    "collapsed": true
   },
   "outputs": [],
   "source": [
    "# Point set from Hildenbrand\n",
    "x = [1.0, 1.0, 0.0, 0.0, -1.0]\n",
    "y = [0.0, 1.0, 0.0, 1.0,  0.0]\n",
    "z = [0.0, 0.0, 1.0, 1.0,  2.0]"
   ]
  },
  {
   "cell_type": "code",
   "execution_count": 100,
   "metadata": {
    "collapsed": false
   },
   "outputs": [
    {
     "data": {
      "text/plain": [
       "array([[ 1. ],\n",
       "       [ 0. ],\n",
       "       [ 0. ],\n",
       "       [ 1. ],\n",
       "       [ 0.5]])"
      ]
     },
     "execution_count": 100,
     "metadata": {},
     "output_type": "execute_result"
    }
   ],
   "source": [
    "ps = [np.array(np.ravel(p).tolist() + \n",
    "               [1.0, 0.5*np.linalg.norm(p)**2]).reshape(5,1) \n",
    "      for p in zip(x,y,z)]\n",
    "ps[0]"
   ]
  },
  {
   "cell_type": "markdown",
   "metadata": {},
   "source": [
    "## Total Least Squares Fitting of $k$-Spheres in $n$-D Euclidean Space Using an $(n + 2)$-D Isometric Representation\n",
    "\n",
    "Leo Dorst 2014\n",
    "\n",
    "Journal of Mathematical Imaging and Vision\n",
    "\n",
    "http://link.springer.com/article/10.1007%2Fs10851-014-0495-2\n"
   ]
  },
  {
   "cell_type": "markdown",
   "metadata": {},
   "source": [
    "Cost function:\n",
    "$$\\sum_i\\frac{(p_i \\cdot x)^2}{x^2}$$"
   ]
  },
  {
   "cell_type": "code",
   "execution_count": 112,
   "metadata": {
    "collapsed": false
   },
   "outputs": [
    {
     "name": "stdout",
     "output_type": "stream",
     "text": [
      "[-0.0817  0.0137 -0.6156 -0.6973  0.3577]\n"
     ]
    }
   ],
   "source": [
    "M = np.zeros((5,5))\n",
    "M[:3,:3] = np.eye(3)\n",
    "M[3,4] = -1\n",
    "M[4,3] = -1\n",
    "P = np.zeros((5,5))\n",
    "for p in ps:\n",
    "    P += np.inner(np.outer(p,p),M)\n",
    "(w,v) = np.linalg.eig(P / float(len(ps)))\n",
    "idx = np.where(w == np.min(w[w>0]))[0][0]\n",
    "x_ = v[:,idx]\n",
    "# x_ /= x_[3]\n",
    "print(x_)\n",
    "# radius = np.sqrt(x_[0]*x_[0] + x_[1]*x_[1] + x_[2]*x_[2] - 2*x_[4])\n",
    "# print(\"Estimated radius: {}\".format(radius))"
   ]
  },
  {
   "cell_type": "code",
   "execution_count": 93,
   "metadata": {
    "collapsed": false
   },
   "outputs": [
    {
     "data": {
      "text/plain": [
       "array([[ 1.,  0.,  0.,  0.,  0.],\n",
       "       [ 0.,  1.,  0.,  0.,  0.],\n",
       "       [ 0.,  0.,  1.,  0.,  0.],\n",
       "       [ 0.,  0.,  0.,  0., -1.],\n",
       "       [ 0.,  0.,  0., -1.,  0.]])"
      ]
     },
     "execution_count": 93,
     "metadata": {},
     "output_type": "execute_result"
    }
   ],
   "source": [
    "M"
   ]
  },
  {
   "cell_type": "code",
   "execution_count": 113,
   "metadata": {
    "collapsed": false
   },
   "outputs": [
    {
     "data": {
      "text/plain": [
       "array([[ 3.  ,  1.  , -2.  ,  1.  , -1.  ],\n",
       "       [ 1.  ,  2.  ,  1.  , -2.  , -2.  ],\n",
       "       [-2.  ,  1.  ,  6.  , -6.5 , -4.  ],\n",
       "       [ 1.  ,  2.  ,  4.  , -5.5 , -5.  ],\n",
       "       [-1.  ,  2.  ,  6.5 , -8.75, -5.5 ]])"
      ]
     },
     "execution_count": 113,
     "metadata": {},
     "output_type": "execute_result"
    }
   ],
   "source": [
    "P"
   ]
  },
  {
   "cell_type": "markdown",
   "metadata": {
    "collapsed": false
   },
   "source": [
    "## Foundations of Geometric Algebra Computing\n",
    "\n",
    "Dietmar Hildenbrand 2013"
   ]
  },
  {
   "cell_type": "code",
   "execution_count": 126,
   "metadata": {
    "collapsed": false
   },
   "outputs": [
    {
     "name": "stdout",
     "output_type": "stream",
     "text": [
      "[ 0.1391 -0.2528 -0.5046 -0.3655  0.727 ]\n"
     ]
    }
   ],
   "source": [
    "P = np.zeros((5,5))\n",
    "for p in ps:\n",
    "    P += np.outer(p,p)\n",
    "(w,v) = np.linalg.eig(P)\n",
    "idx = np.where(w == np.min(w[w>0]))[0][0]\n",
    "x_ = v[:,idx]\n",
    "# x_ /= x_[4]\n",
    "print(x_)\n",
    "# radius = np.sqrt(x_[0]*x_[0] + x_[1]*x_[1] + x_[2]*x_[2] - 2*x_[3])\n",
    "# print(\"Estimated radius: {}\".format(radius))"
   ]
  },
  {
   "cell_type": "code",
   "execution_count": 115,
   "metadata": {
    "collapsed": false
   },
   "outputs": [
    {
     "data": {
      "text/plain": [
       "array([[ 3.  ,  1.  , -2.  ,  1.  , -1.  ],\n",
       "       [ 1.  ,  2.  ,  1.  ,  2.  ,  2.  ],\n",
       "       [-2.  ,  1.  ,  6.  ,  4.  ,  6.5 ],\n",
       "       [ 1.  ,  2.  ,  4.  ,  5.  ,  5.5 ],\n",
       "       [-1.  ,  2.  ,  6.5 ,  5.5 ,  8.75]])"
      ]
     },
     "execution_count": 115,
     "metadata": {},
     "output_type": "execute_result"
    }
   ],
   "source": [
    "P"
   ]
  },
  {
   "cell_type": "code",
   "execution_count": null,
   "metadata": {
    "collapsed": false
   },
   "outputs": [],
   "source": []
  },
  {
   "cell_type": "code",
   "execution_count": 97,
   "metadata": {
    "collapsed": false
   },
   "outputs": [],
   "source": [
    "# from mpl_toolkits.mplot3d import Axes3D\n",
    "# fig = plt.figure()\n",
    "# ax = fig.gca(projection='3d')\n",
    "# ax.set_aspect(\"equal\")\n",
    "# u, v = np.mgrid[0:2*np.pi:20j, 0:-np.pi:10j]\n",
    "# sx= r * np.cos(u)*np.sin(v)\n",
    "# sy= r * np.sin(u)*np.sin(v)\n",
    "# sz= r * np.cos(v)\n",
    "# ax.plot_wireframe(sx, sy, sz, color=\"r\")\n",
    "\n",
    "# # ax.scatter3D(x,y,z)\n",
    "# sx= radius * np.cos(u)*np.sin(v) + x_[0]\n",
    "# sy= radius * np.sin(u)*np.sin(v) + x_[1]\n",
    "# sz= radius * np.cos(v) + x_[2]\n",
    "# ax.plot_wireframe(sx, sy, sz, color=\"b\")"
   ]
  }
 ],
 "metadata": {
  "kernelspec": {
   "display_name": "Python 2",
   "language": "python",
   "name": "python2"
  },
  "language_info": {
   "codemirror_mode": {
    "name": "ipython",
    "version": 2
   },
   "file_extension": ".py",
   "mimetype": "text/x-python",
   "name": "python",
   "nbconvert_exporter": "python",
   "pygments_lexer": "ipython2",
   "version": "2.7.6"
  }
 },
 "nbformat": 4,
 "nbformat_minor": 0
}
