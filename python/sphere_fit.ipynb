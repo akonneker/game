{
 "cells": [
  {
   "cell_type": "code",
   "execution_count": 68,
   "metadata": {
    "collapsed": false
   },
   "outputs": [
    {
     "name": "stdout",
     "output_type": "stream",
     "text": [
      "Populating the interactive namespace from numpy and matplotlib\n"
     ]
    },
    {
     "data": {
      "text/plain": [
       "'1.10.1'"
      ]
     },
     "execution_count": 68,
     "metadata": {},
     "output_type": "execute_result"
    }
   ],
   "source": [
    "%pylab inline\n",
    "np.set_printoptions(precision=6, suppress=True)\n",
    "np.__version__"
   ]
  },
  {
   "cell_type": "code",
   "execution_count": 28,
   "metadata": {
    "collapsed": false
   },
   "outputs": [],
   "source": [
    "def new_positions_spherical_coordinates(num_points, radius, x_offset=0.0, y_offset=0.0, z_offset=0.0, stddev=0.0):\n",
    "    radius = radius + stddev * np.random.rand()\n",
    "    print(radius)\n",
    "    theta = np.random.uniform(0.,2. * np.pi ,(num_points,1))\n",
    "    phi = np.arccos(1-2*np.random.uniform(0.0,1.,(num_points,1)))\n",
    "    x = radius * np.sin( theta ) * np.cos( phi ) + x_offset + stddev * np.random.rand()\n",
    "    y = radius * np.sin( theta ) * np.sin( phi ) + y_offset + stddev * np.random.rand()\n",
    "    z = radius * np.cos( theta ) + z_offset + stddev * np.random.rand()\n",
    "    return (x,y,z)"
   ]
  },
  {
   "cell_type": "code",
   "execution_count": 29,
   "metadata": {
    "collapsed": false
   },
   "outputs": [],
   "source": [
    "np.set_printoptions(precision=4)"
   ]
  },
  {
   "cell_type": "code",
   "execution_count": 90,
   "metadata": {
    "collapsed": false
   },
   "outputs": [
    {
     "name": "stdout",
     "output_type": "stream",
     "text": [
      "200.0\n"
     ]
    }
   ],
   "source": [
    "# Generate random point set\n",
    "r = 200.0\n",
    "n = 1000\n",
    "(x,y,z) = new_positions_spherical_coordinates(n, r,\n",
    "                                              x_offset=1.0,\n",
    "                                              y_offset=2.0,\n",
    "                                              z_offset=3.0, \n",
    "                                              stddev=0.0)\n",
    "# print(x)\n",
    "# print(y)\n",
    "# print(z)"
   ]
  },
  {
   "cell_type": "code",
   "execution_count": 86,
   "metadata": {
    "collapsed": true
   },
   "outputs": [],
   "source": [
    "# Point set from Hildenbrand\n",
    "# n = 5\n",
    "# x = [1.0, 1.0, 0.0, 0.0, -1.0]\n",
    "# y = [0.0, 1.0, 0.0, 1.0,  0.0]\n",
    "# z = [0.0, 0.0, 1.0, 1.0,  1.0]"
   ]
  },
  {
   "cell_type": "code",
   "execution_count": 91,
   "metadata": {
    "collapsed": false
   },
   "outputs": [],
   "source": [
    "ps = [np.array(np.ravel(p).tolist() + \n",
    "               [1.0, 0.5*np.linalg.norm(p)**2]).reshape(5,1) \n",
    "      for p in zip(x,y,z)]"
   ]
  },
  {
   "cell_type": "markdown",
   "metadata": {},
   "source": [
    "## Total Least Squares Fitting of $k$-Spheres in $n$-D Euclidean Space Using an $(n + 2)$-D Isometric Representation\n",
    "\n",
    "Leo Dorst 2014\n",
    "\n",
    "Journal of Mathematical Imaging and Vision\n",
    "\n",
    "http://link.springer.com/article/10.1007%2Fs10851-014-0495-2\n"
   ]
  },
  {
   "cell_type": "markdown",
   "metadata": {},
   "source": [
    "Cost function:\n",
    "$$\\frac{1}{N}\\sum_i\\frac{(p_i \\cdot x)^2}{x^2}$$"
   ]
  },
  {
   "cell_type": "code",
   "execution_count": 92,
   "metadata": {
    "collapsed": false
   },
   "outputs": [
    {
     "name": "stdout",
     "output_type": "stream",
     "text": [
      "[     1.      2.      3.      1. -19993.]\n",
      "Estimated radius: 200.0\n"
     ]
    }
   ],
   "source": [
    "M = np.zeros((5,5))\n",
    "M[:3,:3] = np.eye(3)\n",
    "M[3,4] = -1\n",
    "M[4,3] = -1\n",
    "P = np.zeros((5,5)) \n",
    "for p in ps:\n",
    "    P += np.outer(p,p)\n",
    "PM = np.matmul(P,M)\n",
    "(w,v) = np.linalg.eig(PM)\n",
    "idx = np.where(w == np.min(w[w>0]))[0][0]\n",
    "x_ = v[:,idx]\n",
    "x_ /= x_[3]\n",
    "x_dorst = x_.copy()\n",
    "print(x_)\n",
    "radius = np.sqrt(x_[0]*x_[0] + x_[1]*x_[1] + x_[2]*x_[2] - 2*x_[4])\n",
    "print(\"Estimated radius: {}\".format(radius))"
   ]
  },
  {
   "cell_type": "code",
   "execution_count": 97,
   "metadata": {
    "collapsed": false
   },
   "outputs": [
    {
     "name": "stdout",
     "output_type": "stream",
     "text": [
      "[     1.      2.      3.      1. -19993.]\n",
      "Estimated radius: 200.0\n"
     ]
    }
   ],
   "source": [
    "(u,s,v) = np.linalg.svd(PM) \n",
    "x_ = v.T[:,-1]\n",
    "x_ /= x_[3]\n",
    "print(x_)\n",
    "radius = np.sqrt(x_[0]*x_[0] + x_[1]*x_[1] + x_[2]*x_[2] - 2*x_[4])\n",
    "print(\"Estimated radius: {}\".format(radius))"
   ]
  },
  {
   "cell_type": "code",
   "execution_count": 9,
   "metadata": {
    "collapsed": false
   },
   "outputs": [],
   "source": [
    "# P"
   ]
  },
  {
   "cell_type": "markdown",
   "metadata": {
    "collapsed": false
   },
   "source": [
    "## Foundations of Geometric Algebra Computing\n",
    "\n",
    "Dietmar Hildenbrand 2013"
   ]
  },
  {
   "cell_type": "code",
   "execution_count": 46,
   "metadata": {
    "collapsed": false
   },
   "outputs": [
    {
     "name": "stdout",
     "output_type": "stream",
     "text": [
      "[ 601.6286  184.3887   52.8624    0.02      1.    ]\n",
      "Estimated radius: 631.467022151\n"
     ]
    }
   ],
   "source": [
    "P = np.zeros((5,5))\n",
    "for p in ps:\n",
    "    P += np.outer(p,p)\n",
    "(w,v) = np.linalg.eig(P)\n",
    "idx = np.where(w == np.min(w[w>0]))[0][0]\n",
    "x_ = v[:,idx]\n",
    "x_ /= x_[4]\n",
    "print(x_)\n",
    "radius = np.sqrt(x_[0]*x_[0] + x_[1]*x_[1] + x_[2]*x_[2] - 2*x_[3])\n",
    "print(\"Estimated radius: {}\".format(radius))"
   ]
  },
  {
   "cell_type": "code",
   "execution_count": 11,
   "metadata": {
    "collapsed": false
   },
   "outputs": [],
   "source": [
    "# P"
   ]
  },
  {
   "cell_type": "code",
   "execution_count": 12,
   "metadata": {
    "collapsed": false
   },
   "outputs": [],
   "source": [
    "import sys\n",
    "sys.path.append('../build/Debug/')\n",
    "import libsphere_fit as sphere_fit"
   ]
  },
  {
   "cell_type": "code",
   "execution_count": 94,
   "metadata": {
    "collapsed": false
   },
   "outputs": [],
   "source": [
    "def create_solver_options(use_trust_region_minimizer=True):\n",
    "    solver_options = {\n",
    "        'minimizer_type':'TRUST_REGION',\n",
    "#                 'minimizer_type':'LINE_SEARCH',\n",
    "                      'trust_region_strategy_type':'LEVENBERG_MARQUARDT',\n",
    "                      'linear_solver_type':'DENSE_QR',\n",
    "                      'max_num_iterations': 100, \n",
    "                      'num_threads': 12,\n",
    "                      'num_linear_solver_threads':12,\n",
    "                      'parameter_tolerance': 10e-12,\n",
    "                      'function_tolerance': 10e-12,\n",
    "                      'minimizer_progress_to_stdout':False,\n",
    "                      'trust_region_minimizer_iterations_to_dump':[],\n",
    "                      'trust_region_problem_dump_directory':'/home/lars/devel/game_ws/dump/sphere_fit',\n",
    "                     }\n",
    "    return solver_options    "
   ]
  },
  {
   "cell_type": "code",
   "execution_count": 95,
   "metadata": {
    "collapsed": false
   },
   "outputs": [
    {
     "name": "stdout",
     "output_type": "stream",
     "text": [
      "[     1.            2.            3.            1.       -19993.000001]\n",
      "Estimated radius: 200.000000003\n"
     ]
    }
   ],
   "source": [
    "sf = sphere_fit.SphereFit()\n",
    "\n",
    "solver_options = create_solver_options()\n",
    "# solver_options['minimizer_progress_to_stdout'] = True\n",
    "# solver_options['trust_region_minimizer_iterations_to_dump'] = [1,2,3,4,5,6,7,8,9]\n",
    "sf.set_solver_options(solver_options)\n",
    "\n",
    "\n",
    "sphere = np.array([1.0, 1.0, 1.0, 1.0, 1.0]).reshape(5,1)\n",
    "points = np.ascontiguousarray(np.transpose([x,y,z])).reshape(n,3).copy()\n",
    "x_ = sf.run(sphere, points).copy()\n",
    "\n",
    "x_ = x_ / x_[3]\n",
    "print(x_.reshape(-1))\n",
    "radius = np.sqrt(x_[0]*x_[0] + x_[1]*x_[1] + x_[2]*x_[2] - 2*x_[4])[0]\n",
    "print(\"Estimated radius: {}\".format(radius))"
   ]
  },
  {
   "cell_type": "code",
   "execution_count": 75,
   "metadata": {
    "collapsed": false
   },
   "outputs": [
    {
     "data": {
      "text/plain": [
       "array([   1.,    2.,    3.,    1., -193.])"
      ]
     },
     "execution_count": 75,
     "metadata": {},
     "output_type": "execute_result"
    }
   ],
   "source": [
    "np.linalg.norm(sphere)\n",
    "x_dorst"
   ]
  },
  {
   "cell_type": "code",
   "execution_count": 16,
   "metadata": {
    "collapsed": false
   },
   "outputs": [
    {
     "name": "stdout",
     "output_type": "stream",
     "text": [
      "[4.960630275356303, 3.0658381157919457]\n"
     ]
    },
    {
     "data": {
      "image/png": "[encoded data removed]",
      "text/plain": [
       "<matplotlib.figure.Figure at 0x7fb9df022bd0>"
      ]
     },
     "metadata": {},
     "output_type": "display_data"
    }
   ],
   "source": [
    "# matplotlib.rc?\n",
    "scale = 1.0\n",
    "fig_width_pt = 358.50475  # Get this from LaTeX using \\showthe\\columnwidth\n",
    "inches_per_pt = 1.0/72.27               # Convert pt to inches\n",
    "golden_mean = (sqrt(5.0)-1.0)/2.0         # Aesthetic ratio\n",
    "fig_width = fig_width_pt*inches_per_pt  # width in inches\n",
    "fig_height =fig_width*golden_mean       # height in inches\n",
    "fig_size = [fig_width,fig_height]\n",
    "print fig_size\n",
    "params = {\n",
    "    'axes.labelsize': 9,\n",
    "    'font.size': 9,\n",
    "#           \"font.family\": \"sans-serif\",\n",
    "#           \"font.sans-serif\": [],\n",
    "          \"font.family\": \"serif\",\n",
    "          \"font.serif\": [],\n",
    "          'legend.fontsize': 9,\n",
    "          'legend.linewidth': 0.3,\n",
    "          'xtick.labelsize': 8,\n",
    "          'ytick.labelsize': 8,\n",
    "          'text.usetex': True,\n",
    "          'figure.figsize': fig_size,\n",
    "          'axes.linewidth': 0.5\n",
    "         }\n",
    " \n",
    " \n",
    "matplotlib.rcParams.update(params)\n",
    "iterations = sf.summary()['iterations']\n",
    "plt.plot([iteration['gradient_max_norm'] for iteration in iterations])\n",
    "\n",
    "plt.xlabel('Iteration $k$')\n",
    "plt.ylabel('Gradient max norm')\n",
    "plt.xticks([iteration['iteration'] for iteration in iterations])\n",
    "save_dir = '/home/lars/Dropbox/sharelatex/2016_phd_thesis_lt/figures'\n",
    "plt.savefig(save_dir + '/sphere_fit_gradient.pdf')"
   ]
  },
  {
   "cell_type": "code",
   "execution_count": 17,
   "metadata": {
    "collapsed": false
   },
   "outputs": [
    {
     "data": {
      "text/plain": [
       "array([ -1.0582e-11,   5.1027e-11,   3.4625e-11,   3.3483e-01,  -1.6742e+01])"
      ]
     },
     "execution_count": 17,
     "metadata": {},
     "output_type": "execute_result"
    }
   ],
   "source": [
    "sphere.reshape(-1)"
   ]
  },
  {
   "cell_type": "code",
   "execution_count": 18,
   "metadata": {
    "collapsed": false,
    "scrolled": true
   },
   "outputs": [
    {
     "name": "stdout",
     "output_type": "stream",
     "text": [
      "\n",
      "Solver Summary (v 1.10.0-eigen-(3.2.0)-lapack-suitesparse-(4.2.1)-openmp)\n",
      "\n",
      "                                     Original                  Reduced\n",
      "Parameter blocks                            1                        1\n",
      "Parameters                                  5                        5\n",
      "Residual blocks                            10                       10\n",
      "Residual                                   10                       10\n",
      "\n",
      "Minimizer                        TRUST_REGION\n",
      "\n",
      "Dense linear algebra library            EIGEN\n",
      "Trust region strategy     LEVENBERG_MARQUARDT\n",
      "\n",
      "                                        Given                     Used\n",
      "Linear solver                        DENSE_QR                 DENSE_QR\n",
      "Threads                                    12                       12\n",
      "Linear solver threads                      12                       12\n",
      "\n",
      "Cost:\n",
      "Initial                          1.159454e+04\n",
      "Final                            9.177607e-20\n",
      "Change                           1.159454e+04\n",
      "\n",
      "Minimizer iterations                        6\n",
      "Successful steps                            6\n",
      "Unsuccessful steps                          0\n",
      "\n",
      "Time (in seconds):\n",
      "Preprocessor                           0.0027\n",
      "\n",
      "  Residual evaluation                  0.0046\n",
      "  Jacobian evaluation                  0.0116\n",
      "  Linear solver                        0.0008\n",
      "Minimizer                              0.0173\n",
      "\n",
      "Postprocessor                          0.0000\n",
      "Total                                  0.0200\n",
      "\n",
      "Termination:                      CONVERGENCE (Parameter tolerance reached. Relative step_norm: 1.457985e-11 <= 1.000000e-07.)\n",
      "\n"
     ]
    }
   ],
   "source": [
    "print(sf.summary()['full_report'])"
   ]
  },
  {
   "cell_type": "code",
   "execution_count": 19,
   "metadata": {
    "collapsed": false
   },
   "outputs": [
    {
     "data": {
      "text/plain": [
       "'a\\\\r\\\\nb'"
      ]
     },
     "execution_count": 19,
     "metadata": {},
     "output_type": "execute_result"
    }
   ],
   "source": [
    "\"a\\\\r\\\\nb\""
   ]
  },
  {
   "cell_type": "code",
   "execution_count": 20,
   "metadata": {
    "collapsed": false
   },
   "outputs": [
    {
     "name": "stderr",
     "output_type": "stream",
     "text": [
      "/usr/lib/pymodules/python2.7/matplotlib/collections.py:548: FutureWarning: elementwise comparison failed; returning scalar instead, but in the future will perform elementwise comparison\n",
      "  if self._edgecolors == 'face':\n"
     ]
    },
    {
     "data": {
      "image/png": "[encoded data removed]",
      "text/plain": [
       "<matplotlib.figure.Figure at 0x7fb9d7566250>"
      ]
     },
     "metadata": {},
     "output_type": "display_data"
    }
   ],
   "source": [
    "from mpl_toolkits.mplot3d import Axes3D\n",
    "fig = plt.figure()\n",
    "ax = fig.gca(projection='3d')\n",
    "ax.set_aspect(\"equal\")\n",
    "u, v = np.mgrid[0:2*np.pi:20j, 0:-np.pi:10j]\n",
    "sx= r * np.cos(u)*np.sin(v)\n",
    "sy= r * np.sin(u)*np.sin(v)\n",
    "sz= r * np.cos(v)\n",
    "ax.plot_wireframe(sx, sy, sz, color=\"r\")\n",
    "\n",
    "ax.scatter3D(x,y,z)\n",
    "# sx= radius * np.cos(u)*np.sin(v) + x_[0]\n",
    "# sy= radius * np.sin(u)*np.sin(v) + x_[1]\n",
    "# sz= radius * np.cos(v) + x_[2]\n",
    "# ax.plot_wireframe(sx, sy, sz, color=\"b\")\n",
    "plt.savefig('sphere_fit.pdf')"
   ]
  },
  {
   "cell_type": "code",
   "execution_count": 21,
   "metadata": {
    "collapsed": false
   },
   "outputs": [
    {
     "data": {
      "text/plain": [
       "array([[ 0.0702,  0.0653,  0.0597, -0.0956, -0.0651],\n",
       "       [ 0.0673,  0.0618,  0.066 , -0.0955, -0.0642],\n",
       "       [ 0.0629,  0.0639,  0.0648, -0.0945, -0.0567],\n",
       "       [ 0.07  ,  0.0595,  0.0621, -0.0947, -0.0578],\n",
       "       [ 0.066 ,  0.0671,  0.0579, -0.0945, -0.0562],\n",
       "       [ 0.0689,  0.0683,  0.0577, -0.0956, -0.0645],\n",
       "       [ 0.0636,  0.0637,  0.064 , -0.0945, -0.0563],\n",
       "       [ 0.0696,  0.0683,  0.0564, -0.0954, -0.0635],\n",
       "       [ 0.0664,  0.0597,  0.0668, -0.0949, -0.0595],\n",
       "       [ 0.0707,  0.059 ,  0.0627, -0.0948, -0.0591]])"
      ]
     },
     "execution_count": 21,
     "metadata": {},
     "output_type": "execute_result"
    }
   ],
   "source": [
    "def load_problem_iteration_dump(directory, iteration):\n",
    "    tmp = '/ceres_solver_iteration_{:0>3d}'.format(iteration)\n",
    "    D = np.loadtxt(directory + tmp + '_D.txt')\n",
    "    b = np.loadtxt(directory + tmp + '_b.txt')\n",
    "    x = np.loadtxt(directory + tmp + '_x.txt')\n",
    "    f = open(directory + tmp + '.m')\n",
    "    matlab_script = f.readlines()\n",
    "    f.close()\n",
    "    rows = [int(s) for s in matlab_script[1][:-2].split() if s.isdigit()][0]\n",
    "    cols = [int(s) for s in matlab_script[2][:-2].split() if s.isdigit()][0]\n",
    "    A_sparse = np.loadtxt(directory + tmp + '_A.txt')\n",
    "    A = np.zeros((rows, cols))\n",
    "    for row in A_sparse:\n",
    "        A[int(row[0]), int(row[1])] = row[2]\n",
    "    return (A,D,b,x)\n",
    "\n",
    "directory = solver_options['trust_region_problem_dump_directory']\n",
    "(A, D, b, x_) = load_problem_iteration_dump(directory, 1)\n",
    "A"
   ]
  },
  {
   "cell_type": "code",
   "execution_count": 57,
   "metadata": {
    "collapsed": false
   },
   "outputs": [
    {
     "data": {
      "text/plain": [
       "array([ 0.0021,  0.002 ,  0.0019,  0.003 ,  0.0019])"
      ]
     },
     "execution_count": 57,
     "metadata": {},
     "output_type": "execute_result"
    }
   ],
   "source": [
    "D"
   ]
  }
 ],
 "metadata": {
  "kernelspec": {
   "display_name": "Python 2",
   "language": "python",
   "name": "python2"
  },
  "language_info": {
   "codemirror_mode": {
    "name": "ipython",
    "version": 2
   },
   "file_extension": ".py",
   "mimetype": "text/x-python",
   "name": "python",
   "nbconvert_exporter": "python",
   "pygments_lexer": "ipython2",
   "version": "2.7.6"
  }
 },
 "nbformat": 4,
 "nbformat_minor": 0
}
