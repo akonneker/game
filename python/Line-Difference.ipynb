{
 "cells": [
  {
   "cell_type": "code",
   "execution_count": 1,
   "metadata": {
    "collapsed": false
   },
   "outputs": [
    {
     "name": "stdout",
     "output_type": "stream",
     "text": [
      "Populating the interactive namespace from numpy and matplotlib\n"
     ]
    }
   ],
   "source": [
    "from __future__ import print_function\n",
    "import sys\n",
    "sys.path.append('../build/')\n",
    "%pylab inline\n",
    "np.set_printoptions(precision=4, suppress=True)\n",
    "import versor as vsr\n",
    "from versor.drawing import *"
   ]
  },
  {
   "cell_type": "code",
   "execution_count": 54,
   "metadata": {
    "collapsed": false
   },
   "outputs": [],
   "source": [
    "p1 = vsr.Vec(1,0,1).null()\n",
    "p2 = vsr.Vec(2,0.2,1).null()\n",
    "\n",
    "l1 = vsr.Dll(vsr.Vec(0,0,0).null(), vsr.Vec(1,0,0).null()).unit()\n",
    "\n",
    "theta = pi/6\n",
    "delta = 0.6\n",
    "\n",
    "\n",
    "m = vsr.Vec(1,1,delta).trs() * vsr.Biv(theta/2,0,0).exp()\n",
    "\n",
    "l1 = l1.spin(m)\n",
    "l2 = l1.spin(m)\n",
    "l3 = l2.comm(l1)\n",
    "\n",
    "l1_dir = l1.dir().vec().unit()\n",
    "l1_loc = l1.loc(vsr.Vec(0,0,0).null()).vec()\n",
    "l2_dir = l2.dir().vec().unit()\n",
    "l2_loc = l2.loc(vsr.Vec(0,0,0).null()).vec()\n",
    "\n",
    "l4 = vsr.Dll(l3.loc(vsr.Vec(0,0,0).null()), l3.biv().duale().unit())\n",
    "\n",
    "p1 = l1.loc(l4.loc(vsr.Vec(0,0,0).null()))\n",
    "p2 = l2.loc(l4.loc(vsr.Vec(0,0,0).null()))\n",
    "\n",
    "p = ((p2.vec() + p1.vec()) * 0.5).null()\n",
    "\n",
    "# bisector\n",
    "\n",
    "lv = vsr.Dll(p, (l2_dir + l1_dir).unit())\n",
    "lw = vsr.Dll(p, (l2_dir-l1_dir).unit())\n",
    "\n",
    "\n",
    "l5 = l2 - l1\n",
    "\n",
    "scene = Scene(children=[\n",
    "        frame_mesh(),\n",
    "        line_mesh(l1, color=Colors.DEEPSKYBLUE),\n",
    "        point_mesh(p1,color=Colors.DEEPSKYBLUE),\n",
    "\n",
    "        line_mesh(l2, color=Colors.DEEPPINK),\n",
    "        point_mesh(p2,color=Colors.DEEPPINK),\n",
    "        \n",
    "        line_mesh(l3, color='lightgreen'),\n",
    "        \n",
    "        line_mesh(l5, color='lightgreen'),\n",
    "        \n",
    "        # midpoint\n",
    "        point_mesh(p, color='lightgreen'),\n",
    "\n",
    "        \n",
    "#         bivector_mesh(l3.biv(), color='red'),\n",
    "#         vector_mesh(B1.comm(bn.comm(B2) * delta), color='red'),\n",
    "        \n",
    "        line_mesh(lv, color='lightgreen'),\n",
    "\n",
    "        \n",
    "        AmbientLight(color='#777777')])\n",
    "\n",
    "camera = PerspectiveCamera(position=[0, 5, 5], up=[0, 0, 1],\n",
    "                      children=[DirectionalLight(color='white', \n",
    "                                                 position=[3, 5, 1], \n",
    "                                                 intensity=0.5)])\n",
    "# camera.children = []\n",
    "\n",
    "renderer = Renderer(camera=camera, \n",
    "                    scene=scene, \n",
    "                    controls=[TrackballControls(controlling=camera)],\n",
    "                    background = 'white')\n",
    "renderer.width = '950'\n",
    "renderer.height = '713'\n",
    "display(renderer)"
   ]
  },
  {
   "cell_type": "code",
   "execution_count": 56,
   "metadata": {
    "collapsed": false
   },
   "outputs": [],
   "source": [
    "scene.children[1].material.color='pink'"
   ]
  },
  {
   "cell_type": "code",
   "execution_count": 57,
   "metadata": {
    "collapsed": false
   },
   "outputs": [
    {
     "data": {
      "text/plain": [
       "0.95484720719709215"
      ]
     },
     "execution_count": 57,
     "metadata": {},
     "output_type": "execute_result"
    }
   ],
   "source": [
    "4 * st**2 * (1.0 + np.inner(dw,dw)) + delta**2 * ct**2"
   ]
  },
  {
   "cell_type": "code",
   "execution_count": 25,
   "metadata": {
    "collapsed": false
   },
   "outputs": [
    {
     "data": {
      "text/plain": [
       "0.95484720719709237"
      ]
     },
     "execution_count": 25,
     "metadata": {},
     "output_type": "execute_result"
    }
   ],
   "source": [
    "np.inner(l5,l5)"
   ]
  },
  {
   "cell_type": "code",
   "execution_count": 34,
   "metadata": {
    "collapsed": true
   },
   "outputs": [],
   "source": [
    "st = sin(theta/2)\n",
    "ct = cos(theta/2)\n",
    "deltahalf = delta / 2\n",
    "dw = lw.drv().vec()"
   ]
  },
  {
   "cell_type": "code",
   "execution_count": 40,
   "metadata": {
    "collapsed": false
   },
   "outputs": [
    {
     "data": {
      "text/plain": [
       "0.95484720719709215"
      ]
     },
     "execution_count": 40,
     "metadata": {},
     "output_type": "execute_result"
    }
   ],
   "source": [
    "4 * st**2 * (1.0 + np.inner(dw,dw)) + delta**2 * ct**2"
   ]
  },
  {
   "cell_type": "code",
   "execution_count": 38,
   "metadata": {
    "collapsed": false
   },
   "outputs": [
    {
     "data": {
      "text/plain": [
       "0.95484720719709237"
      ]
     },
     "execution_count": 38,
     "metadata": {},
     "output_type": "execute_result"
    }
   ],
   "source": [
    "np.inner(l5,l5)"
   ]
  },
  {
   "cell_type": "code",
   "execution_count": 41,
   "metadata": {
    "collapsed": false
   },
   "outputs": [
    {
     "data": {
      "text/plain": [
       "True"
      ]
     },
     "execution_count": 41,
     "metadata": {},
     "output_type": "execute_result"
    }
   ],
   "source": [
    "np.allclose(4 * st**2 * (1.0 + np.inner(dw,dw)) + delta**2 * ct**2, np.inner(l5,l5))"
   ]
  }
 ],
 "metadata": {
  "kernelspec": {
   "display_name": "Python 2",
   "language": "python",
   "name": "python2"
  },
  "language_info": {
   "codemirror_mode": {
    "name": "ipython",
    "version": 2
   },
   "file_extension": ".py",
   "mimetype": "text/x-python",
   "name": "python",
   "nbconvert_exporter": "python",
   "pygments_lexer": "ipython2",
   "version": "2.7.11+"
  },
  "widgets": {
   "state": {
    "000931778f0b4e378281a26275f931f9": {
     "views": []
    },
    "007e287f0f8047c9a81fc715bf8f26f7": {
     "views": []
    },
    "0136715367b443dd86cb508334215a30": {
     "views": []
    },
    "0146b74afb5340a5a70f407f9d2a452c": {
     "views": []
    },
    "014a96f8090743a084d39a43e9e7c989": {
     "views": []
    },
    "015e0e9cd07648c19bcaaf6329c64a63": {
     "views": []
    },
    "02aa5862c9e34d349dee0c977eee2251": {
     "views": []
    },
    "02fdbd490377459988624dfb7730b864": {
     "views": []
    },
    "03875eac6dad46fba45784c0cf7c2b9b": {
     "views": []
    },
    "03ddaaf98842426e96d9e0e15073076f": {
     "views": []
    },
    "03f38e8c76034f1393e2b165377c398d": {
     "views": []
    },
    "03f57ce304d04fea9a54c57d81e1fe66": {
     "views": []
    },
    "03fd690abd54486d88453d8f071c7c32": {
     "views": []
    },
    "0428af23f6564dcf9051ac3475bdf372": {
     "views": []
    },
    "04aa810f9fc2459e87bc4f8a75a14335": {
     "views": []
    },
    "04e4111494ca44cb8822e7b2189a63d8": {
     "views": []
    },
    "04f01925405c49529adcd6ad60e88e8b": {
     "views": []
    },
    "051f44cba3a74dc0906421391168d9c8": {
     "views": []
    },
    "0537e2557f374dd29f556674f0101fbc": {
     "views": []
    },
    "056cfaa1383244adb1d1899a036ca683": {
     "views": []
    },
    "057f7d24238a414cbabf8d4bf5c8e78c": {
     "views": []
    },
    "0589bb48035c4e0a9293fe1a476fbf0a": {
     "views": []
    },
    "0610460dd55941f29155d45d07a965de": {
     "views": []
    },
    "064f505a425c495ab70a41fc229cbb86": {
     "views": []
    },
    "065e54e02c5b4f6b886bb21b0e75bf08": {
     "views": []
    },
    "066c9c61ad5441d592e3f7edde3035e4": {
     "views": []
    },
    "06ce0b7c9baa4c4392184c7ad775ec43": {
     "views": []
    },
    "06d8e67a941e4fcbabcdc3ef3719002d": {
     "views": []
    },
    "070131c70f5a49e2ab85a047ae364b36": {
     "views": []
    },
    "07987e7afe8b41a7b4719432432cc0fd": {
     "views": []
    },
    "07a3cc629b12421d992d004633c30e6c": {
     "views": []
    },
    "081e8a77e38941f9ba8b8b83997dda48": {
     "views": []
    },
    "0820e7c315494786adede183e18b3a85": {
     "views": []
    },
    "084e9f4294f042fd8962c1d53ee0df49": {
     "views": []
    },
    "08530a6a7c884fffbd91ee01c611a7b4": {
     "views": []
    },
    "0873e10462a54f6598c860edbaa22820": {
     "views": []
    },
    "08b41062b7ad416daf2713ea3da6f510": {
     "views": []
    },
    "08b804b617f54b19a8e40c9cb36a9bba": {
     "views": []
    },
    "09705c80f576407b841495d3e6225ef9": {
     "views": []
    },
    "0993aac80d9c4f11aee86b8c0b903970": {
     "views": []
    },
    "09cc984251b64792972d0d23f9834467": {
     "views": []
    },
    "0a60e6ca94d84a66912542e99e39843b": {
     "views": []
    },
    "0b068bbaa8634ec4a9260420765c131d": {
     "views": []
    },
    "0b0c576bdecc44fb8b315aa52e98c7b6": {
     "views": []
    },
    "0b4c3490aa654feb9ba5078a246cde4f": {
     "views": []
    },
    "0b8d03a9618d47ae85eefdfe4cb05df5": {
     "views": []
    },
    "0be284de09244ea892f77d14720e0263": {
     "views": []
    },
    "0be5ebd7d5494d92a4da20905bbab13c": {
     "views": []
    },
    "0bf00808939d4aa3b618aba66788d07e": {
     "views": []
    },
    "0c199f21ea47467fb92dcf1763182a42": {
     "views": []
    },
    "0c2cc0e4351c4131b0834202cc87b127": {
     "views": []
    },
    "0c87a2c77a3944589238133602223347": {
     "views": []
    },
    "0cab7104a1c04d8d94a60f952fdadefe": {
     "views": []
    },
    "0cb192b58b14477890ce87219fcc2e4d": {
     "views": []
    },
    "0cc559a8946c46bea0427acda33caf62": {
     "views": []
    },
    "0d0cb42deaa64a71a28c1923cc4b7bb1": {
     "views": []
    },
    "0d225e157965495db12984131ea64ebb": {
     "views": []
    },
    "0d22b9feccce43688ed3fc3a70279e43": {
     "views": []
    },
    "0d597b2aac3846308d53c06bcb298e68": {
     "views": []
    },
    "0db1f69b37cf4e24a3a3e61b2fb600bf": {
     "views": []
    },
    "0de83eb53abd4b21ac60cf346ebcffdd": {
     "views": []
    },
    "0e7ef46fb89b475fa05eb108fb57c520": {
     "views": []
    },
    "0f7614743c0f4a2190722e885a20aafe": {
     "views": []
    },
    "10d3c7aa1a004ece9f640d555053a640": {
     "views": []
    },
    "10dfefb15dcb41cf9020c6fbf5bb31ff": {
     "views": []
    },
    "1147daf5bd3746feb64d05efa020f0ca": {
     "views": []
    },
    "11f729ff98a046bb877393c136f6a8f4": {
     "views": []
    },
    "12418db915b34aebb84d9d66f731276d": {
     "views": []
    },
    "12523c152d8d4be887ec294c49b4ae47": {
     "views": []
    },
    "12f9011396fd467cb0ab2714880834dd": {
     "views": []
    },
    "130f0a6e38e74f088cda23adcc2c540e": {
     "views": []
    },
    "1419d84daa75493e8fcd7fa87415bb6e": {
     "views": []
    },
    "1432bc96b1be41eb8488149f90d864e5": {
     "views": []
    },
    "14543195e79643f2975a00909b675c76": {
     "views": []
    },
    "147463d0a08941bca251f302a30c3db2": {
     "views": []
    },
    "147f62db4cb543239304af87593161eb": {
     "views": []
    },
    "14b6bb91479c46e3a9fb9081cb79e65f": {
     "views": []
    },
    "14be7314b3dc4253977a7c87a3f507cc": {
     "views": []
    },
    "1526b5bf6fca4d848cd3ed746d6fe381": {
     "views": []
    },
    "1597711c998548999f06b85a74bcab78": {
     "views": []
    },
    "15f956aff8d24ce78b6abc2f6fb6b2b3": {
     "views": []
    },
    "160d7f75cc944a4bbf9a0d375db8817a": {
     "views": []
    },
    "161f5fc43b1e4454b363aee4c563ff95": {
     "views": []
    },
    "16216fa866e547ab962b0670d3f9c9ee": {
     "views": []
    },
    "1663a6da8e274deea2f62bb416626785": {
     "views": []
    },
    "16690968311844eb8bcc34b0fd6bc906": {
     "views": []
    },
    "16d519e34f494535a7573497f5ae466b": {
     "views": []
    },
    "1705bd1e7c3344579fe7b0ce8b614b93": {
     "views": []
    },
    "177d441a0dbb4965b6a08e411f77afb8": {
     "views": []
    },
    "178d94a0a7d54cd7a07671e0b187f8e5": {
     "views": []
    },
    "17bf1e7db6de44a68d68a7844ee2e4ef": {
     "views": []
    },
    "181077f9827941a4925c2ef3c31c1695": {
     "views": []
    },
    "1838347bfe6b4143ba50ed6dfc1b55ec": {
     "views": []
    },
    "1849428b591d4856be0854e9f3aae2d9": {
     "views": []
    },
    "186051798c054ca7b1c54b911af0a15e": {
     "views": []
    },
    "1935a58c942c497088281fd28b67e36f": {
     "views": []
    },
    "194da90aa65649849f647801249bf49d": {
     "views": []
    },
    "19e19544ac734028ba830cfe6337be42": {
     "views": []
    },
    "1a263a94c7e147f48095497838479e05": {
     "views": []
    },
    "1a4c5819cf064f19b20fffb822f22da3": {
     "views": []
    },
    "1b0a9d25fa7742a0b7e248c2ba859fa0": {
     "views": []
    },
    "1bd19ff84eae4e399536f5f878f10da4": {
     "views": []
    },
    "1d203061f2344fa0871db0caae1aab11": {
     "views": []
    },
    "1d745b8d85a44a599b3df42df178e433": {
     "views": []
    },
    "1dc3e0c0f46346e0896d50b547faafa3": {
     "views": []
    },
    "1dee52059e484cf5aa3878e6a99f8d03": {
     "views": []
    },
    "1e1b4f64db21464d9dda12040a706465": {
     "views": []
    },
    "1e68cd447dfa4001b1ebe60e2d8b4577": {
     "views": []
    },
    "1e92f0a174644ec29736a5ada825c736": {
     "views": []
    },
    "1eae1558a7cb4a129edb4756ff3bc13b": {
     "views": []
    },
    "1eb528ad624046febcb2906a9a14c011": {
     "views": []
    },
    "1ee64981dc2c4f97b052f2706c6f8144": {
     "views": []
    },
    "1ee7adfeab6442a1b4878d14b7785196": {
     "views": []
    },
    "1f2292f4d0ad4dd6b02c15fc4097af7e": {
     "views": []
    },
    "1fb5a089f89d4b66b562bcfc1b91b8bf": {
     "views": []
    },
    "1fcec5defb824083a26d37dd6c9a6700": {
     "views": []
    },
    "1fd0bdc13ffa4de78547ada20a404132": {
     "views": []
    },
    "1fd4f4ee33f74946a49faf88575637d8": {
     "views": []
    },
    "20813822372c43ddb719ee28d2affae9": {
     "views": []
    },
    "20d8d135c4ce413785de803bfa800680": {
     "views": []
    },
    "218b3812e8d044b18db2837213d0d278": {
     "views": []
    },
    "223fee56e8a6496faff11cc7441af1dd": {
     "views": []
    },
    "224f960712104fde84e346b4d16084b9": {
     "views": []
    },
    "22ca5e4d36ca4f08935c67c01097addc": {
     "views": []
    },
    "22f9dd6d4bef4594abee16b67bfac273": {
     "views": []
    },
    "236eddec2b75486cb5c61bd6611e1015": {
     "views": []
    },
    "237466ae24754a2ebe54c0b8fe4ac4ad": {
     "views": []
    },
    "23c4350a729540e896a8faecc55bcf5d": {
     "views": []
    },
    "23f2e7dbec4e416281d28d189879dbf4": {
     "views": []
    },
    "243ae4b03214484f882e3928d9241b22": {
     "views": []
    },
    "244e0fb8f7a9477b98d84f0e5cbbbe6a": {
     "views": []
    },
    "248ccf4989c243d3b0f9442d1506748d": {
     "views": []
    },
    "24a6b380e8954e61b54836fc23ba8d0c": {
     "views": []
    },
    "24ae90ee12f84087bd330d1a1c55a3c7": {
     "views": []
    },
    "24f1cf78fcd3423d8ba4cdcea8af8212": {
     "views": []
    },
    "252678300d2c4732bcd11f5022ff9b45": {
     "views": []
    },
    "253747f75dd140388dac4e5c12cba448": {
     "views": []
    },
    "2563e938cdee487286f493f5cde4d109": {
     "views": []
    },
    "2576f56b1a4b4a97acc97411f55945dd": {
     "views": []
    },
    "259a1a9d35a045c0a418af7ba0194da4": {
     "views": []
    },
    "259d9bc090bc480590e7235eb2f4ef84": {
     "views": []
    },
    "26f5454aa2434c018d8ba7b904b80bcf": {
     "views": []
    },
    "271460d5632b4188a868d3c1c83ed077": {
     "views": []
    },
    "273436511a1e422ca44052f54011ec55": {
     "views": []
    },
    "273ecea04c3247949ac2635d6bd2a9ec": {
     "views": []
    },
    "27481422f5b743b5a527ec8325dcccd1": {
     "views": []
    },
    "274f3d77033a48c88b62e0c0f7aee63e": {
     "views": []
    },
    "27f25e0e33e04f0da4ec4e7427ba490f": {
     "views": []
    },
    "2809a8c30d4748b285674ad0b1906cdf": {
     "views": []
    },
    "28645226b0754f8f80d8e8d23b107d92": {
     "views": []
    },
    "28729880ed8943b888c2e13e88347e99": {
     "views": []
    },
    "28bd901b0e5347f2a72967d5d4b232c1": {
     "views": []
    },
    "28d1b4ddd582448da3d30c4c645d33b0": {
     "views": []
    },
    "29131644535d48b9bc2c4228c0f28b9e": {
     "views": []
    },
    "291ad3118fce4ca1a3fda14053cb0032": {
     "views": []
    },
    "298697ea7a90451a8bd67153c36944c7": {
     "views": []
    },
    "29c60e04fd414bae8d0f0ed1a18996e8": {
     "views": []
    },
    "2a1c78c3fbdd4840aff7dc2c33fa1bda": {
     "views": []
    },
    "2a5469df70ff44fdae4acc85d466b51d": {
     "views": []
    },
    "2a8580bf63a64ce7b57b5d6eff13fcda": {
     "views": []
    },
    "2ac5e58e62d749d19bf49fb5f923d806": {
     "views": []
    },
    "2ade812bd21c475bb3008055dc9878b9": {
     "views": []
    },
    "2b3bddb575e749bc9dda0b00977e7aa4": {
     "views": []
    },
    "2b92d9c3424e477d985574f9e4923734": {
     "views": []
    },
    "2bc43b71335e4a8dbbdffd0f12912c9b": {
     "views": []
    },
    "2c3c2d951c8c4c36b0427501b6dfefe5": {
     "views": []
    },
    "2c68f70305704714904461fa03adb046": {
     "views": []
    },
    "2ca136e33b8a4f95962a122a2b0897ad": {
     "views": []
    },
    "2d242e30370a45c7957780ed6a1d29e2": {
     "views": []
    },
    "2d6295debb844c49a2d83e1b26a9b019": {
     "views": []
    },
    "2d800ec448f94b10a4d4c8c010d85824": {
     "views": []
    },
    "2d91c2b26982436ea7b7704b1c4c1432": {
     "views": []
    },
    "2e0847c50c0d4bdfa78f6ff93babc959": {
     "views": []
    },
    "2e3fd02b04894ff3987c7b5c621dcea2": {
     "views": []
    },
    "2e995177f57441c0b5740deb6a00043a": {
     "views": []
    },
    "2ee59f83998b4e5a973463ef1e121710": {
     "views": []
    },
    "2f02c3c4d26f4557960f496673adfcc5": {
     "views": []
    },
    "2f0b3e7b9d9e4077887b3c16402e0d59": {
     "views": []
    },
    "2fc1e0814ce84356ac5fc40386038dfc": {
     "views": []
    },
    "3001bb8c1a1c4de9aaea92b7e649ab61": {
     "views": []
    },
    "3084f134896a48bd97f58f6930c64621": {
     "views": []
    },
    "308f751d2c8542fdaef6d92e45d32ec4": {
     "views": []
    },
    "309206027eb14134ad266b64272a6d22": {
     "views": []
    },
    "30cad08a2b4f4e80a3c0de61a1e67d2d": {
     "views": []
    },
    "31500aa505b4447bbaa334a0cbb06b56": {
     "views": []
    },
    "31931ae360944a9c9553329183cd9dad": {
     "views": []
    },
    "320565f7c77d482b8645c61130f33f89": {
     "views": []
    },
    "3205dcc903d94262a1fb1236696ac0b0": {
     "views": []
    },
    "32558a6d4c7a4e4f810001608144998b": {
     "views": []
    },
    "327c73f98b444172b9914c07e1496901": {
     "views": []
    },
    "329d431ad8594d6cbb048c342658a534": {
     "views": []
    },
    "32f2f1fa35d548a588660393372c3548": {
     "views": []
    },
    "330a6b7ab18e4aa1b3c8f27cfa2d10c5": {
     "views": []
    },
    "3316a8038b614f96a523f58237e507ad": {
     "views": []
    },
    "3333323695a0405388c5b566a329e3fd": {
     "views": []
    },
    "33a8afd68c284766867ee33d948cd6d6": {
     "views": []
    },
    "33b42b4347424f469092054ac1c534fe": {
     "views": []
    },
    "33d98160e4fc489c9076dfe27e283d7b": {
     "views": []
    },
    "3400a2eebf9b4f68abdb01d96a63e2f4": {
     "views": []
    },
    "342ebf06d1594d6dbce1dd39be7f7906": {
     "views": []
    },
    "342f8f272f9c441eb725783e0d76cbb0": {
     "views": []
    },
    "343c4840cae34542bc1097b8dadb116e": {
     "views": []
    },
    "3465eac745184d0585a7854b76c97aa0": {
     "views": []
    },
    "34db508e22134c3bb86c85c6e3ac544f": {
     "views": []
    },
    "35014a380a744513827e0cc2df4f0331": {
     "views": []
    },
    "350ddece1ce049cdbe82e22ed9d85b41": {
     "views": []
    },
    "35203caf47b84e6383cd6f70b0f0e591": {
     "views": []
    },
    "352edeab1e9c44c99dedaa7beb049d44": {
     "views": []
    },
    "353f1e4945bc4f589a689cfef96dfcaf": {
     "views": []
    },
    "35a51c5f44344d2dad130c1d9acae0df": {
     "views": []
    },
    "35b9c9ccfc4843f0a84db8c8982f3115": {
     "views": []
    },
    "35dd2679a55a4031a55f43896e67f6b4": {
     "views": []
    },
    "3689300c197d48019a7de604f8c36165": {
     "views": []
    },
    "36b376c823624cd79486e8053ef5eec6": {
     "views": []
    },
    "36fad3f4a11642e59c4e8d1868923382": {
     "views": []
    },
    "37227f80d5e64e2ca84f9b5d63f0be73": {
     "views": []
    },
    "3725b95725af418488c8daba3c298922": {
     "views": []
    },
    "373726f178354bf3b911342a72045b51": {
     "views": []
    },
    "373f0e8954b64ed584fd6aea6fb21eef": {
     "views": []
    },
    "378424e3c0ce4bf4b4e9875bae4eeb26": {
     "views": []
    },
    "3787e43ad3ec4691861885d1f2de321f": {
     "views": []
    },
    "38c9341307a145728efbe568ef14c016": {
     "views": []
    },
    "38d8dfe9d74b4508af481882525ba816": {
     "views": []
    },
    "39186ab6785d4d4aa9504685f8508aa8": {
     "views": []
    },
    "394e4ff9a2c044acb453a020cd17e8fa": {
     "views": []
    },
    "3954a7c6889143b2b427645d2d1e2bbd": {
     "views": []
    },
    "3ae2e32febfa4cb68bb37423ad74ad8b": {
     "views": []
    },
    "3b132caa8f2f4d37b0ccb77e91117b47": {
     "views": []
    },
    "3b224b8e4e20499a9aa9938c966a8622": {
     "views": []
    },
    "3baed697042e49568ec2996ce74ae44a": {
     "views": []
    },
    "3c44ecbacda045cf8fad36c42d26856b": {
     "views": []
    },
    "3c6b45fe234247ff8cb52a580236d861": {
     "views": []
    },
    "3c9418de0e6a43058c5214c06dd1faa2": {
     "views": []
    },
    "3ca0bd560e7242bfb1e1f17a3e0e588a": {
     "views": []
    },
    "3ca67c8956ef448d80361c4abf495a1a": {
     "views": []
    },
    "3cd76baa01e74864b9ed5825da513023": {
     "views": []
    },
    "3ce9374b9dbe477e8f6abf2f0875cb50": {
     "views": []
    },
    "3ddb36f0ddef448da588a99d07a3b9f2": {
     "views": []
    },
    "3e141f1903a94b34bcb477945edfc123": {
     "views": []
    },
    "3e8034c23283494489856acd8bdfaf14": {
     "views": []
    },
    "3e97902ed093406a825fb57d417d348d": {
     "views": [
      {
       "cell_index": 1
      }
     ]
    },
    "3eee811529ae4349a2bf8bdc9cca30cd": {
     "views": []
    },
    "3f1e92c994eb432d9b7a2c1ba887249d": {
     "views": []
    },
    "3faefff415734098bbb24016d3d4ee51": {
     "views": []
    },
    "4009a2ae97d54671919f2fe86e843a1e": {
     "views": []
    },
    "40a6f3395cd446d2a23fda622171c743": {
     "views": []
    },
    "40b5370d6d5043609f8a27b3368df1d1": {
     "views": []
    },
    "416ad6dcf8bf4e5c8559117dfa4c17d4": {
     "views": []
    },
    "419bc9bec4f04ddeadc3af983b1273e6": {
     "views": []
    },
    "42a9faa85dbb49e89e272c781b37ec87": {
     "views": []
    },
    "42cba74611e64dc3b5649e1d1edd2ad6": {
     "views": []
    },
    "42d691f2bc6c425b9c03d55b5c8332b0": {
     "views": []
    },
    "436b44a0b7364b269c9865f9a3507976": {
     "views": []
    },
    "43847fb8009c4b16b4c05397ff0be2de": {
     "views": []
    },
    "43ea7c50d30b4315830141c7620fe531": {
     "views": []
    },
    "443ad633063545d383a797e2c411f460": {
     "views": []
    },
    "4443de37a19149fb9e45b1ffc0faf87b": {
     "views": []
    },
    "444733af140d425b8baf613c41a164d5": {
     "views": []
    },
    "444c8ae2b39a43d1b8f10e7914ceaf4d": {
     "views": []
    },
    "445fa09cfa0f487ca35c289c32212759": {
     "views": []
    },
    "44e41bc8e9784dbba415360170655a15": {
     "views": []
    },
    "4538e39803364fe2a0a935cabef62d79": {
     "views": []
    },
    "458afb482443403f8778fe567af63bf4": {
     "views": []
    },
    "45a88c40fe0e4eb4a6a8d3e69d188d54": {
     "views": []
    },
    "464cb0a5ff7844aea44968f63d4a7c45": {
     "views": []
    },
    "468eab0d860c4790a033d2cbfe6936e5": {
     "views": []
    },
    "46af4ba59bbe4dda9b427d84055398df": {
     "views": []
    },
    "46f19413cedb4e5c8c831b956a64145c": {
     "views": []
    },
    "4729dad479b94f949949040effde46e7": {
     "views": []
    },
    "474d8e5949f242df87a41dfdf996a50b": {
     "views": []
    },
    "476579ebb3c54a36a65a59a2a37b8270": {
     "views": []
    },
    "4789328fba9d4279bf2513f556d4cb2d": {
     "views": []
    },
    "47e6b62b29f54f939cf75c0e386bc56e": {
     "views": []
    },
    "4838647fdb90418bb63a39a93d5ab126": {
     "views": []
    },
    "4855e43a586d43f8803212c349516baa": {
     "views": []
    },
    "486b76e73e0044fb9b018cdaca6356fc": {
     "views": []
    },
    "4968da7afc564ef29b1dfea44f54e59a": {
     "views": []
    },
    "4971f2ddef0d4b3590fa427cd04aebe8": {
     "views": []
    },
    "49d2cf0e570641668e4a580e2e018303": {
     "views": []
    },
    "49fca5d5f6f546efb359c8f5bcc79fe8": {
     "views": []
    },
    "4aa26f3c16e848a796c6b54a59694df2": {
     "views": []
    },
    "4bb178df86bd4955a9eb7abcbc05d1aa": {
     "views": []
    },
    "4caa1ff6d013405485463a1bdd1f47dd": {
     "views": []
    },
    "4d05837d87fd4f0f8a7f8581317726f1": {
     "views": []
    },
    "4d11cb56f0724c6ead7e38a2b8538240": {
     "views": []
    },
    "4d2b1cbf797a42f785d25482b364293b": {
     "views": []
    },
    "4d33eccb8c474bef859deec3ae6dc29e": {
     "views": []
    },
    "4d47bf7e1f164693bd6cc37ee7c72b3b": {
     "views": []
    },
    "4d57f626660346d492e22dae82d5c006": {
     "views": []
    },
    "4d75747598d74a73945b368f489e69c0": {
     "views": []
    },
    "4db903756d9c476fb1e5128b1f6d4f11": {
     "views": []
    },
    "4deb76b22f9d47d4bba13ecf4b81239c": {
     "views": []
    },
    "4e2fe70e7d554a46ba1d76547511dca4": {
     "views": []
    },
    "4e31a1fc11ee4546aac62c0bf03a3f00": {
     "views": []
    },
    "4e65259ed9af45759ae3d451bbc560c2": {
     "views": []
    },
    "4ec0b070c8cd4da1a5df57bc514fab51": {
     "views": []
    },
    "4f2663274de140e2b647a54b3d6c5935": {
     "views": []
    },
    "4f2da18405cd4a9e93900f4eeebe58a8": {
     "views": []
    },
    "4f7960824e674861a3746ad1d502ea8a": {
     "views": []
    },
    "4fb6096b937842878b1795458552562d": {
     "views": []
    },
    "4fbdd5f37463483a933905bf617fdb8a": {
     "views": []
    },
    "4fe75b0ddfc842b7bf4e2782b623bab6": {
     "views": []
    },
    "501061163895401ea96e861442946f33": {
     "views": []
    },
    "5023f5379cc8439a8480acfae4136ccb": {
     "views": []
    },
    "5038de13c8714a46b321e9232c066084": {
     "views": []
    },
    "5058eaae28984aad9ad7ecf9ebe4b93d": {
     "views": []
    },
    "5070dc77158d4990aeca3ec427ed28f7": {
     "views": []
    },
    "51d2a5f744994af8809fab11c1a6d911": {
     "views": []
    },
    "51e196daec32437caec7e3b1e7c8bf9b": {
     "views": []
    },
    "5226c5f65b5a49ed88f308d8557a04c1": {
     "views": []
    },
    "52a5b5dd5378462d93e79149fc6b23eb": {
     "views": []
    },
    "52aae9ff6a8a44e8be0a3be2439fa7e5": {
     "views": []
    },
    "5320b2e6496145e7bc9489ed81bbacdb": {
     "views": []
    },
    "533a14ae6bb84b51b715e85adc4fdbe1": {
     "views": []
    },
    "534a486972aa49a0b7c5e941f8dd97f0": {
     "views": []
    },
    "538b39bd774c4e48a0d566322efde75b": {
     "views": []
    },
    "53b1043b61df4e9a8f4e1abb4870b07d": {
     "views": []
    },
    "53e83e4736294a0eb1f0e015c31f1a4b": {
     "views": []
    },
    "5414a9dc63d741eda33d2eb440fe8d68": {
     "views": []
    },
    "54245985d3744e8b89746a6b333dfccd": {
     "views": []
    },
    "546f0375191e4c38964422f356c7bc1d": {
     "views": []
    },
    "5495db015c3f42089275ec53551bde3a": {
     "views": []
    },
    "54a65802c58a4a309d667228d6654be1": {
     "views": []
    },
    "553bad419a504802961ef91d2c226b95": {
     "views": []
    },
    "553e85f150ab44f6b19eec21e8d2466f": {
     "views": []
    },
    "55b96f9bf4024226a455f891b61752b0": {
     "views": []
    },
    "55cc6955cb064aaba372c648d8673948": {
     "views": []
    },
    "568707b3d04348209d1ab233313543a3": {
     "views": []
    },
    "575071e9ed7d40e286ac0c517138f8ea": {
     "views": []
    },
    "5753144baf1c420385eb239b32ecb4d3": {
     "views": []
    },
    "579b1849282b46db824da231506a3b0b": {
     "views": []
    },
    "57eae489d88d450c8c93106dfcd18638": {
     "views": []
    },
    "57ff246a48164756a71764e94eff9153": {
     "views": []
    },
    "582111a1f2ba4f5bbfa23369405aca82": {
     "views": []
    },
    "58757aaa033c4bf59ae0f65ed44155a0": {
     "views": []
    },
    "58c0c43b507d4d2eb12cc2c46ebf73ef": {
     "views": []
    },
    "58ef4ab3352540cf97a9a62bbc16db63": {
     "views": []
    },
    "59b5d670c1854c4d8c91453f6ac04acc": {
     "views": []
    },
    "59bbfc7802944e719f459dc2d1c3ae1d": {
     "views": []
    },
    "5a3c1c3e4095455eba6947f2ead8d20d": {
     "views": []
    },
    "5ab00bf494194fcaa0f061f987e955a8": {
     "views": []
    },
    "5acf0af385af46b3bf8de0715038d60b": {
     "views": []
    },
    "5b79363ad79a4730ac3164b40bfda7f3": {
     "views": []
    },
    "5b7ba89ff1c043a4b1ff4ad57ce81f66": {
     "views": []
    },
    "5bb3d011b78b430f9da6d44a77d9d5e5": {
     "views": []
    },
    "5c170980f40f460a84cd2cc12b112229": {
     "views": []
    },
    "5c72c068fb504b6fbc1cfdcec0570422": {
     "views": []
    },
    "5cc6196936a848e58ec89c7b7749066e": {
     "views": []
    },
    "5d92b55a74b74c95ba108a6ddf19bb3c": {
     "views": []
    },
    "5de00adb814747a8a0e95f9a10e330b9": {
     "views": []
    },
    "5e1d9ba0ef3d4419ba3243f1114f4f80": {
     "views": []
    },
    "5e22f804329c478b883c73700c850762": {
     "views": []
    },
    "5e50e8e61d964dd1b4459c5d269cd89d": {
     "views": []
    },
    "5eae00edac994107b570e6812936fe0f": {
     "views": []
    },
    "5ec569a606924b5f941f6f2fc87f571f": {
     "views": []
    },
    "5f60000cc91d47ae91ed741286f313cc": {
     "views": []
    },
    "5f9650ad0f1c4fbba72e024e6e81bc91": {
     "views": []
    },
    "5fde93c09a2042faa2c1798d3d251bdb": {
     "views": []
    },
    "601f7da8738645819d837fbcd375a09e": {
     "views": []
    },
    "605a13b152554929a5df0e8bff403ff6": {
     "views": []
    },
    "61490d6cfbcd4724b85c1a3095feccf5": {
     "views": []
    },
    "615000d9e6ad4794a7522bb6063765bb": {
     "views": []
    },
    "617b44efd9f44379bb075ed8754ec395": {
     "views": []
    },
    "621f6f40093e45a0914346f5ac143e78": {
     "views": []
    },
    "62443343a825495585554a080dd040bb": {
     "views": []
    },
    "629c7f7ed0c54014bf78e25e3ec0103a": {
     "views": []
    },
    "6345ec9f059048c68efd100184588d13": {
     "views": []
    },
    "636bb27a7b0a458c8bb45fa8bdbc759a": {
     "views": []
    },
    "63f1119d591b47f7b097bd5c6a518288": {
     "views": []
    },
    "64117f16b31c4d6db740de2b06c8809b": {
     "views": []
    },
    "642b1b63cd0b4338936db938cba9afcb": {
     "views": []
    },
    "64519795f2a0454cba8d8f12bf03000e": {
     "views": []
    },
    "648ef3aa9bf54f40a40d3d5282c13b1f": {
     "views": []
    },
    "64f6ef9585464a1eaad31348c5089c57": {
     "views": []
    },
    "65ee3e1c8f7d47f39c4ec706dac4a02f": {
     "views": []
    },
    "65f0ddcfb7a843079c988eacef57a5e0": {
     "views": []
    },
    "660021afc94e433385ae3f918c1f3e04": {
     "views": []
    },
    "66173d1db2624781923ce1f0eeb3e33a": {
     "views": []
    },
    "66331dee2f424654a60d2baf101ee2dd": {
     "views": []
    },
    "6699e9f7510044f08e5b38c74340d143": {
     "views": []
    },
    "67144d81b9674984b05abbf00bb332a1": {
     "views": []
    },
    "6741436b5aec468b9866aa4471d47c5a": {
     "views": []
    },
    "676b75bc085c41ec8e3d2d09ba7e1c70": {
     "views": []
    },
    "67b625535adf4229a4ecbe081efc97aa": {
     "views": []
    },
    "67d72e860ccc4a5ea49cf2f8f0f88a9e": {
     "views": []
    },
    "689edfb9e67f452382458ee21189d8c0": {
     "views": []
    },
    "68fafd123cd844e08530097ea025c8da": {
     "views": []
    },
    "69e0066e30a740638c437aec8e972e52": {
     "views": []
    },
    "69ff035d9f2f4bd09473fad7d99ad848": {
     "views": []
    },
    "6a37fcc197044da4bb839d1f4cfd98d6": {
     "views": []
    },
    "6a64b362398d4a3eae7fbbee14c8f23e": {
     "views": []
    },
    "6aa3b430a3e741c6839d0298e7c9e107": {
     "views": []
    },
    "6aa81690459e41e7ab32ef5ec88f2a56": {
     "views": []
    },
    "6ad99c6695584beaa5733a0efc9ee6c5": {
     "views": []
    },
    "6b1b077d270a47c79efc84c317e00514": {
     "views": []
    },
    "6b24511929404fc68e32367769691131": {
     "views": []
    },
    "6b8f05214a35487ba5889ebf7451eafc": {
     "views": []
    },
    "6bdefc3bae6d431aa3deaebeeeb9b396": {
     "views": []
    },
    "6bf6fb7aff884bf2aeb2e4bb3bac6538": {
     "views": []
    },
    "6c0809b7da634492b6d0647d9c7697c7": {
     "views": []
    },
    "6c12a5c7e3d2430c94a2d05e3290d093": {
     "views": []
    },
    "6c3275ee6a78462fadd38f63512e8ce6": {
     "views": []
    },
    "6c55048b80da426797b6ac8ef7b0dfcb": {
     "views": []
    },
    "6c94aa77864e4013b1afb5f093dc15dd": {
     "views": []
    },
    "6cbd9337d1fd4530b5709f29a9a6c4b7": {
     "views": []
    },
    "6d1c88038d2f459890bdfb20fa7f2724": {
     "views": []
    },
    "6d3f45ccacee4d31a9b6b658dcd01f96": {
     "views": []
    },
    "6ddab1dc99b64d50aeaab914d40f7269": {
     "views": []
    },
    "6e17f6e6ad884d28b4959de5f272ebfc": {
     "views": []
    },
    "6f1e174913854ee480f6cd955875484e": {
     "views": []
    },
    "700575d08ba04dec97d949442370697d": {
     "views": []
    },
    "7055c9c82a7a4c84b25fcfeff1ab0d8e": {
     "views": []
    },
    "7123199a19a840aba30a6c936c52eb0a": {
     "views": []
    },
    "723ef1922b194737804ab895cf9c0e9c": {
     "views": []
    },
    "72cf5c7515ff447ea8307cd2faf8a8a3": {
     "views": []
    },
    "72f9181262f94b4bba485de281d03366": {
     "views": []
    },
    "73265731df2b442ea1468edab98bfeaf": {
     "views": []
    },
    "73aeac05bd0f40558eea1ecaf69fdbf8": {
     "views": []
    },
    "747bce4dd6444ac6936c5720dbaea526": {
     "views": []
    },
    "74be7d481a954864a1ae99f2945808bd": {
     "views": []
    },
    "74dc213ace8f452fb06a55f79cbe3c9b": {
     "views": []
    },
    "7572cdde60ae4c3090a79f0ff6a01ccc": {
     "views": []
    },
    "7624350ae33248d8b9847e3e614e627b": {
     "views": []
    },
    "7675af6b8dbb45dbbc523448e3b933e3": {
     "views": []
    },
    "769ef0dad2f74a5a9da5ddd9383513b4": {
     "views": []
    },
    "76b5dd1fbb124aabb84fde147e98639b": {
     "views": []
    },
    "7750e1c3e2e84e4ab1241474db3b3ec3": {
     "views": []
    },
    "779ef41ffdc047e18e8c37c898b9fc51": {
     "views": []
    },
    "7806f59dae5c40139486c53d9777800f": {
     "views": []
    },
    "783cb03bd48646bf9687446140134ed0": {
     "views": []
    },
    "7881a76e822b47b480e498b253b8031d": {
     "views": []
    },
    "789858bc5e254d0ba6660db77734402f": {
     "views": []
    },
    "78aa73d942854893afb774a9d85bdec7": {
     "views": []
    },
    "78c5094e639d4659824fdca61421fe8f": {
     "views": []
    },
    "792bac4749e8496b9aa42376810dcd0f": {
     "views": []
    },
    "794fa79c3be7460f819ebedc0d6873ca": {
     "views": []
    },
    "79edb70a46294e6b9af5650167ac2954": {
     "views": []
    },
    "7a3dcb95a0e84105b5ce6f18bc8141b6": {
     "views": []
    },
    "7aaefe79b87e4b9c9bc04b609d2793d3": {
     "views": []
    },
    "7ad0367bfdc44a50882fbab0a23d138b": {
     "views": []
    },
    "7b96f96db3aa4edba0bf0fd3f3941323": {
     "views": []
    },
    "7bc918f148d84c169e9fc44cb5610b97": {
     "views": []
    },
    "7c306eeba58942c1bc65e1fd6113c8cf": {
     "views": []
    },
    "7cb9d132545f433889d9b66673051e93": {
     "views": []
    },
    "7cd7b636682344878e95c798a33c30f8": {
     "views": []
    },
    "7d5f90caf312473aa28704905ddbad6d": {
     "views": []
    },
    "7db8030789cc44fabec706e1ce8504b7": {
     "views": []
    },
    "7dbb9e8933904ec581f0d31509748758": {
     "views": []
    },
    "7e99a53660504e1883c6af3bb020b611": {
     "views": []
    },
    "7e9cb947b87746d29491cde3dddf851e": {
     "views": []
    },
    "7eebbee45fe3488aa596e234b2c5ca7b": {
     "views": []
    },
    "7eedf5b871484f7481cf449ad8b0ca02": {
     "views": []
    },
    "7f468b8d47ea4166acd2f5ff4f1f5bcd": {
     "views": []
    },
    "7f81b365c65849a39904b4e72a5385ba": {
     "views": []
    },
    "80289e3c90a04cc99800a453f5949492": {
     "views": []
    },
    "806f2d6ca77a4538823a4e0fe502a6d2": {
     "views": []
    },
    "80a6da46e1fd41b1b8ed65eec5c24d55": {
     "views": []
    },
    "80e6189da2624815936fb70ec925ac79": {
     "views": []
    },
    "80e8875f5ff8400483e537df1d4e4e6e": {
     "views": []
    },
    "81057b45abba4cfea17b8abb026e558c": {
     "views": []
    },
    "81314c811acc4cb9bbd26c5b9501631e": {
     "views": []
    },
    "813ac48dc7174117872a0e34889151f0": {
     "views": []
    },
    "817d9279c5fd47e09698d6e391b38fc8": {
     "views": []
    },
    "818a351a86d14661b2e3bfdf9a12eca3": {
     "views": []
    },
    "81d0622abd9f4f86b350f6e0454362d6": {
     "views": []
    },
    "821c06f4ce384389b2f0cd8737a93abe": {
     "views": []
    },
    "8249815cae5d4163a03b4efce1496b05": {
     "views": []
    },
    "82689ed152984b2f923f51ef4be98df4": {
     "views": []
    },
    "8297b41b718c40298cba753bd6f98558": {
     "views": []
    },
    "82b3c0b58c934f9fb96e7f33e7c19dbd": {
     "views": []
    },
    "8326b39143504e9eb44e89af9fd2b028": {
     "views": []
    },
    "83679af464ca4c96b0b44ceda8b295da": {
     "views": []
    },
    "83a3191a7a884af097b814c8935b27c6": {
     "views": []
    },
    "83f6a6d1d52b4421a512ab4f81de33c5": {
     "views": []
    },
    "84185f1f64ce4581bc845bf323c42304": {
     "views": []
    },
    "8442e3ff3bda4eaea0900b7ebc806e65": {
     "views": []
    },
    "848a6442bd3e4afcac7c6ffb35fc0038": {
     "views": []
    },
    "84b2c04e19de42ff8c51ac162a4dea73": {
     "views": []
    },
    "84e1abe2b30a40d084844d6bb54ffec5": {
     "views": []
    },
    "852d3049aacd4d20aa87b9effae38e91": {
     "views": []
    },
    "85aadb968e5948edb0beaca69f6c19ef": {
     "views": []
    },
    "85b530ac99a740f297cdce444f2b6491": {
     "views": []
    },
    "85c7615ec5d24e7bab2f58391618a91b": {
     "views": []
    },
    "86046f44f3d145c0a339649f7151dbb5": {
     "views": []
    },
    "86450ceccbae438e8a949caa07eac3e9": {
     "views": []
    },
    "86e0bc3105334207a1d3387f58c8ef57": {
     "views": []
    },
    "8732359d107d4dd7acc923c50b54fd9a": {
     "views": []
    },
    "874ad59fee464dd788bb0bc1bd120a6c": {
     "views": []
    },
    "877c8fe8229543549168ea90aaaa0eef": {
     "views": []
    },
    "878297ea71e146d0bfb81848a281dc62": {
     "views": []
    },
    "879cae4d303e4bfe86a2e5bea444ccc4": {
     "views": []
    },
    "87f4e012fd544e3189f0c43a5c7bc171": {
     "views": []
    },
    "882a35086d804208be9f461b50ba5c55": {
     "views": []
    },
    "88bdf56087b24ea18c390743376168a2": {
     "views": []
    },
    "88c0040f48434b80bfc7ef1801fbe083": {
     "views": []
    },
    "890097e695cf4218bd6561e1362a002e": {
     "views": []
    },
    "895a248b72a1492291c434d8a45a1e21": {
     "views": []
    },
    "8a166d90bc964faeb11d9e45f32bf254": {
     "views": []
    },
    "8a599b9fad4448bea47550d4a6fce625": {
     "views": []
    },
    "8b174c96f8de4da298bec7f65cbdd6b9": {
     "views": []
    },
    "8b99a158f1804a469e4207ea4716a65d": {
     "views": []
    },
    "8bab6758d9a343c593dcfd34861fdfc2": {
     "views": []
    },
    "8be9be61bfa9489ca4dbe0e035cbc649": {
     "views": []
    },
    "8c3c912b56844ca6a332854fdd0d0f71": {
     "views": []
    },
    "8ca24de9811c47c487730b76e67aa312": {
     "views": []
    },
    "8da3ad45673c40ffbd2802670500a601": {
     "views": []
    },
    "8e8d9f9d018d421c9ecebeeb6a141578": {
     "views": []
    },
    "8e9f9b488ac44d8fb1e54b3a2da811f3": {
     "views": []
    },
    "8f0dd3b83ac14c8dbcb7cd9a17f3ab90": {
     "views": []
    },
    "8f3fb451361e40e5bcb76712cfe8976f": {
     "views": []
    },
    "8f41ca8c24c64b5597ca6f6a74f50706": {
     "views": []
    },
    "8fe16c038d3549b4bf25e6b321180c48": {
     "views": []
    },
    "905a12d0d2514ecda36b6fac56575cd9": {
     "views": []
    },
    "90615ab6174d4bf6afbdd7983188b599": {
     "views": []
    },
    "90ed7ef877034ea99a9f60713420c1a5": {
     "views": []
    },
    "910eb8199ebf4a16b2ec39d55acb4850": {
     "views": []
    },
    "91a287b358a44c12aa0b85e045546c39": {
     "views": []
    },
    "91b754ac51da4303b1429ff740ef798d": {
     "views": []
    },
    "91c7b1dc6abf44c099d1ee37725046da": {
     "views": []
    },
    "9214fdaea44b4c1cbe6ea577445b06e9": {
     "views": []
    },
    "922cea9beeb249afb307915f8be040c5": {
     "views": []
    },
    "92442688fba843be92852c8e07984392": {
     "views": []
    },
    "924ec7f33d10431db32782e62bb829ca": {
     "views": []
    },
    "9295d7368f51470386bbb2822e38e821": {
     "views": []
    },
    "929d0a0a8e7041368aadf010d6e8d4e0": {
     "views": []
    },
    "92ca91a20d42418cb3e8c7268a011db1": {
     "views": []
    },
    "92f8e49589a34bc38afc37813f4e02bb": {
     "views": []
    },
    "9388860ebef34f8299b5d86c6c359628": {
     "views": []
    },
    "94063e7d0fac4b8899d4b081ceb578cc": {
     "views": []
    },
    "9416d778432c4d91b10f57cf925952e3": {
     "views": []
    },
    "943036a31de04e03ae107437c57fb4d1": {
     "views": []
    },
    "945bd941c2af4047a8f2d1bc218efa02": {
     "views": []
    },
    "9474624db9464a4bb265bdc1972e794d": {
     "views": []
    },
    "94c1867c9056472d9ac6f101118e1606": {
     "views": []
    },
    "94ec66bd92df4579a9fe1125d504b89b": {
     "views": []
    },
    "9515f74177c14918bd80cc3253fb6b29": {
     "views": []
    },
    "95407dff5a7a4cc78fed6232e7b6c959": {
     "views": []
    },
    "957b1846bffb48218fe46ccef15c4e37": {
     "views": []
    },
    "95a12e35ce9f47e7a78600ff9833abe3": {
     "views": []
    },
    "95a397344ecd4ea8bcc95c9a22b1d349": {
     "views": []
    },
    "96a33c99ab684b6eadebdab7ca1ac76a": {
     "views": []
    },
    "96f15fb2d8674f7186ee7efa15dac62e": {
     "views": []
    },
    "9758fd982f854ad8baab90cc8a1c0f00": {
     "views": []
    },
    "982cf8d733da4fd8a26e9eff989e014d": {
     "views": []
    },
    "986ae839e78b4de3a6259ba8ac063809": {
     "views": []
    },
    "987136d288fe419f96acaa53756438cd": {
     "views": []
    },
    "98b197732e1e43d683251eb5ee14afdf": {
     "views": []
    },
    "98e916fd8bac4d2d9f657d272882d042": {
     "views": []
    },
    "98f55ab20fec4f97a2f73c985f8d9abf": {
     "views": []
    },
    "992188c5b25841c69077a1b3e72dfaf7": {
     "views": []
    },
    "99bd2ed6e0874e10821b7aa53755a0fc": {
     "views": []
    },
    "99c4b392c44548db820551fb63ecd3a5": {
     "views": []
    },
    "99cff1ef012a459094973a5faee12384": {
     "views": []
    },
    "9a1756e0a7b549239d2917d92cc5e58f": {
     "views": []
    },
    "9a633f01caa44d849490da3be13d6297": {
     "views": []
    },
    "9afc6f59aea3454e84abdd109599d082": {
     "views": []
    },
    "9b91b1a2c4c54f1598d8e32a94bd109b": {
     "views": []
    },
    "9b9985cfb97e43f9934c63e1c9a8c6f5": {
     "views": []
    },
    "9bc02972f35f498e86ac34cca59de48a": {
     "views": []
    },
    "9bee646de6404866bf9e437541205e81": {
     "views": []
    },
    "9beeb07d9624437e937a7ff17983f0b3": {
     "views": []
    },
    "9c63e2a4cade400a8960dd53b04ba0a7": {
     "views": []
    },
    "9d58222269a74acd8ca2bd86548821f0": {
     "views": []
    },
    "9d62052049464da59867e757bd8c5b72": {
     "views": []
    },
    "9df58de22a25400696d7883d56642170": {
     "views": []
    },
    "9e49d96f60244cb5a10fc47ab5b1dc9e": {
     "views": []
    },
    "9e6e029d2d13457e8cbfb27560dc4250": {
     "views": []
    },
    "9f67a18bb9254e399b1c0467e7d0d0df": {
     "views": []
    },
    "9f6c29fd9d4144f9b9c9bfaa0f948530": {
     "views": []
    },
    "a0423bcc281c4b67a6ffffdac3bf2d9f": {
     "views": []
    },
    "a0d07491823f40baa931efc537a6fcbb": {
     "views": []
    },
    "a0e5aa55c9ae4b3b8d9c75b81af24be5": {
     "views": []
    },
    "a12ca31c9b8f4707ae20bfe08c7f62b5": {
     "views": []
    },
    "a19120ffd522456f8528908dd59ed187": {
     "views": []
    },
    "a1c611569d98439bbab9a305ac0dfba4": {
     "views": []
    },
    "a323a4efa40e48c99ae62b114a3e4e1b": {
     "views": []
    },
    "a3619a437bfd4075bd57bf6bef6cd2ac": {
     "views": []
    },
    "a377d9896a794c7795449fd1cd38582f": {
     "views": []
    },
    "a3a75387934e40c8a83828a7af27650b": {
     "views": []
    },
    "a3bd61615ff04471b56dc845216c558b": {
     "views": []
    },
    "a3d50f4f2d644a2c9c8dfd40da69ff22": {
     "views": []
    },
    "a3d9f780079f469fb13fc46e89e60242": {
     "views": []
    },
    "a41b6e6adefe46ebae9979b3628295b1": {
     "views": []
    },
    "a4a2270a7c6f4a87a5311daeb6aed49a": {
     "views": []
    },
    "a4bd2a6befbd4241b73ddf8a6348f259": {
     "views": []
    },
    "a5222ae714f143179c4af15cfeb7830e": {
     "views": []
    },
    "a52543ae4c3642a3aa08a9e01f6f1587": {
     "views": []
    },
    "a5675099babf48bebabbe6ada757a0e2": {
     "views": []
    },
    "a5cb1657128243d7a727510717b9b3b3": {
     "views": []
    },
    "a5f438f0568b43748b0fa21d665c5f2b": {
     "views": []
    },
    "a6a0075df74b4020adb2e82d3c8c9a1c": {
     "views": []
    },
    "a6c5485b2489483e8cd5af14a114792b": {
     "views": []
    },
    "a6cd7b3de7b9493eb950c55834f60c94": {
     "views": []
    },
    "a6f3c059c39c4a1db70b44fe5d410afc": {
     "views": []
    },
    "a72350acb9614217a3e5406d0713e0f9": {
     "views": []
    },
    "a72781fc4a5147b1ab9d9193bea15aea": {
     "views": []
    },
    "a74da68c7868490ca501a136e4402d59": {
     "views": []
    },
    "a75ea5dd37f2464c9e79813a00e226e2": {
     "views": []
    },
    "a78aac8478ed45078b4acae7880f4316": {
     "views": []
    },
    "a7c96b1497794152b0e896e67ca223de": {
     "views": []
    },
    "a81796e2c3d04c2785ae8b9edeecaf5c": {
     "views": []
    },
    "a8bbd8b03ea9429499770a64fdb467f2": {
     "views": []
    },
    "a98c4a37653b4a769b801bd048ebe1b2": {
     "views": []
    },
    "a999f4a4c91f4f65b395ce2c906e221c": {
     "views": []
    },
    "a9a291e5e9d7452990859bfd6ca8fe3a": {
     "views": []
    },
    "a9a3591a8957409d81f2fe96d861dae9": {
     "views": []
    },
    "aa105ea91bb84061a1eca7e192233854": {
     "views": []
    },
    "aa14ef14352a45adba06b7709dc115b2": {
     "views": []
    },
    "aa4ba19ce5dd4280ba0df4bf20a4064b": {
     "views": []
    },
    "aa9ba16489ed462c92eb73be7ef6a093": {
     "views": []
    },
    "aad48d90e71648dcaa14094fad57b8ee": {
     "views": []
    },
    "ab4533cf5f754826b774cfaf532e3583": {
     "views": []
    },
    "ab4b17a7017841ac9600040c64204197": {
     "views": []
    },
    "ab85689680ea42a4887face949daa2dd": {
     "views": []
    },
    "abe45817be3f4a009fae9f39a038f93c": {
     "views": []
    },
    "abef61b40c1447f9a939079984ca7183": {
     "views": []
    },
    "abf4004a31914b098a3978c9decd4523": {
     "views": []
    },
    "ace3b3209ccc40cb8044bfea11bd80a2": {
     "views": []
    },
    "ad0249c4fb7141b784e24dd95c31881b": {
     "views": []
    },
    "ad8d2accb9f94bf193f4ac51f8d160d1": {
     "views": []
    },
    "add26662234c4abbbce61009c9d7ec94": {
     "views": []
    },
    "ae4bf8d8b3e14527aa18cd9e742f203b": {
     "views": []
    },
    "ae79131c701f4508a9944a606e0f642f": {
     "views": []
    },
    "aeb2a753870846acb1a712696edec1c5": {
     "views": []
    },
    "aed6c1658eb4488eb04fe4906d434b38": {
     "views": []
    },
    "aefe3e2bc6b94cd69a26b1d427133efa": {
     "views": []
    },
    "af266085923e466e9833552af1bf5b98": {
     "views": []
    },
    "af3d17f26fa84246ac08a3df458aabc9": {
     "views": []
    },
    "af5e73a2bac848adbfe01d601a645e6f": {
     "views": []
    },
    "af674ae3dc864b088399179c5d7cde24": {
     "views": []
    },
    "af884b8e5db34fbaa3765cac77e46df2": {
     "views": []
    },
    "afde9f393fee463c9bd6bd5d10b76169": {
     "views": []
    },
    "b02cade4c31c4cc38896284b3cd77d94": {
     "views": []
    },
    "b08baf3106234c6fa0d591b8728cd82a": {
     "views": []
    },
    "b09a7cdca7e045f5b8898c7f9f582d00": {
     "views": []
    },
    "b0ba68e312c94eda8a8fdd78e1c3c34e": {
     "views": []
    },
    "b0c05d818ec94c25af9340776992fe60": {
     "views": []
    },
    "b12914ebea32487fad2c18a771ccb365": {
     "views": []
    },
    "b160c39fa6e14d70a50ae0b01cb02e4f": {
     "views": []
    },
    "b29f6c9be22b48c19c83caf0af50b92d": {
     "views": []
    },
    "b336d0a198a142c98b6f14838a446436": {
     "views": []
    },
    "b361da025424414fb7a0e32002df1966": {
     "views": []
    },
    "b3ffd7b65dbd4cea88061fcc57656a91": {
     "views": []
    },
    "b46f06eddf4749de812cbdbfc042ef12": {
     "views": []
    },
    "b47457ea45f04ee1922542c94050d241": {
     "views": []
    },
    "b4f6a501f7e94944a4d5d78fc0eb85ab": {
     "views": []
    },
    "b57a837b4103496aa7b9aef248cc4c65": {
     "views": []
    },
    "b6a1e253614a4353aa99f833d313a28c": {
     "views": []
    },
    "b74d0f7925ce4a93a0ee30409bb3fd54": {
     "views": []
    },
    "b7e50b2c94974064898961ba4200e330": {
     "views": []
    },
    "b80b7d1e7c92447eaca8ee3d079c89e3": {
     "views": []
    },
    "b81862a1acdb4912922e0a2e5b9c8c21": {
     "views": []
    },
    "b85d4784ffe74967b5e53a9a70bdede0": {
     "views": []
    },
    "b8a77815cda34fd5aba42bd18e333196": {
     "views": []
    },
    "b8e11b69180d40feb4d0bc725eb60b6e": {
     "views": []
    },
    "b90a9c06965948ee939671cdc7edada5": {
     "views": []
    },
    "b933eecf528a4a2396da2467f282af53": {
     "views": []
    },
    "b9377b53557b4fc6bc3079e9231c31cc": {
     "views": []
    },
    "b94e7279b24e4f688b250a66711192c1": {
     "views": []
    },
    "b961ae9181b4463e9f82065937219ab7": {
     "views": []
    },
    "b9977090d6eb482b99f2c3cad3df606f": {
     "views": []
    },
    "b9fbc54c0c9b4f36bd28a4435e24c0f9": {
     "views": []
    },
    "ba135a73321a4396b67b19ecdd0b2086": {
     "views": []
    },
    "ba3d8883c1dd47acb6fbf820cb77bd3b": {
     "views": []
    },
    "bc2dc8459fbe4a998563e66c495c807f": {
     "views": []
    },
    "bcee9396142c4d918256ef8a38c07883": {
     "views": []
    },
    "bcf832aff3e94245b268b96368332c80": {
     "views": []
    },
    "bd29b51260434bfc918c287976ce9411": {
     "views": []
    },
    "bd62b234730e4957a1f0bc64ecaa74e8": {
     "views": []
    },
    "bd895dd772c44c3d8c0ab07e1bc1f444": {
     "views": []
    },
    "bdaf27e81a844a0996a68752e4ff0830": {
     "views": []
    },
    "bdb38e72b3c642f68582f03e570149e9": {
     "views": []
    },
    "be44891a026d44e1aed4a60c0f36851c": {
     "views": []
    },
    "beae4818dd0f4577bae8d5125e395519": {
     "views": []
    },
    "bef97e75fd6142498ee00e0cf933c922": {
     "views": []
    },
    "bf0d6eb48b8d49e2966ab60214244d80": {
     "views": []
    },
    "bf39c2849f4945a796adee55d3ee59e8": {
     "views": []
    },
    "bf5d17206f0b424da2e75b830bb7190b": {
     "views": []
    },
    "bf84f61e084745408c224a69bf43ef3f": {
     "views": []
    },
    "c03eb32f295144d68af37118bd200a90": {
     "views": []
    },
    "c05fb745f0074285aa569303182556cd": {
     "views": []
    },
    "c0e57db745c24863971883907a19e776": {
     "views": []
    },
    "c0f62a55d40744f38ebb8499cd9b6a3f": {
     "views": []
    },
    "c11f0a71e5a54a7e8a569b1358d761c9": {
     "views": []
    },
    "c12f660f61f64a29be5655c937e48955": {
     "views": []
    },
    "c15fe96aff2146ddb87f3dcf73be3dd3": {
     "views": []
    },
    "c1f557e8f107431298bf2141add81280": {
     "views": []
    },
    "c2010f66fcdd4a98a91d768aa796c42e": {
     "views": []
    },
    "c22ef48c1bf745bfa768dbf552e90827": {
     "views": []
    },
    "c2396459102545afa5ea6ba6c147845d": {
     "views": []
    },
    "c2925503d3ce4751b7a8517ef2ce0535": {
     "views": []
    },
    "c3014256410c4963931b1808226ec30f": {
     "views": []
    },
    "c398c21033da46468fdf62855af77279": {
     "views": []
    },
    "c463b4647101440ba2b6d0ff7b2689bf": {
     "views": []
    },
    "c4b98e5b58254a519909bd1618186486": {
     "views": []
    },
    "c50bfe0458364d7f890d3054fb889cbf": {
     "views": []
    },
    "c50ef4e0b5fc4043a5af45346c59bb86": {
     "views": []
    },
    "c53e808256ca41b484a23f04b15fecc7": {
     "views": []
    },
    "c5aafa66c9a14e5bb3aa39a4c81ff32e": {
     "views": []
    },
    "c643b9b5d56d40a287778a41b4969207": {
     "views": []
    },
    "c70cfedf7dbd42eeb830a25ff3919fae": {
     "views": []
    },
    "c70f5d0167b04bc883209b0cffaefdc5": {
     "views": []
    },
    "c76772bfc76b45448460de4e45c355f5": {
     "views": []
    },
    "c7b8fed7a5f1401ead9da7530d82e1b4": {
     "views": []
    },
    "c7d6388fe72b4292ab207f62cae86404": {
     "views": []
    },
    "c8759acc394c475bb794b37d5c32714f": {
     "views": []
    },
    "c8a4a2f4dde84686a6b0bd2acd9bab57": {
     "views": []
    },
    "c9620a3fac824c68ac8f2d39fa25e868": {
     "views": []
    },
    "ca17695ee62349d3954cbd7c50ee484b": {
     "views": []
    },
    "ca93c3218e5a4a8ca5a6e6aed86f218c": {
     "views": []
    },
    "cabd226c815d47978b9047b73ba82e91": {
     "views": []
    },
    "cabf2d549bb440afbe1e36c7e320a1b9": {
     "views": []
    },
    "cae777d698cf43e8bae659aed30fedac": {
     "views": []
    },
    "cb3a161ee9ad47f197231b42d9cdf2e3": {
     "views": []
    },
    "cba97231de1f44fa8006e54b47bcd98e": {
     "views": []
    },
    "cbf6e05154d8489783a1b0149d6ca279": {
     "views": []
    },
    "cc1ed51ed31042cfad119fc2fc5f0487": {
     "views": []
    },
    "cca0150542d447d9b31e48f67609a491": {
     "views": []
    },
    "ccea4f773aa04e9aac7804bd37e5be4c": {
     "views": []
    },
    "cd31b23f92064fdf93b4ec8c9afe0eb9": {
     "views": []
    },
    "cd4fc26f76dc4ec6b2441d63283b7187": {
     "views": []
    },
    "cde4736d895041239f8d5f11ab764a46": {
     "views": []
    },
    "cde8389e4cfb4e0abb026a7299f48d23": {
     "views": []
    },
    "cdf04842f2b444c597745e3519776140": {
     "views": []
    },
    "cecc38cbf0924220bdfb9b4a94dcff03": {
     "views": []
    },
    "cefbc6ddb3f242f89f16caeea628e416": {
     "views": []
    },
    "cfeea8b160274b7387b393a480705919": {
     "views": []
    },
    "d02a525a3d91465c9dc5f283c144c85f": {
     "views": []
    },
    "d03a9cedfa7d4dffa98f5eef5e86169e": {
     "views": []
    },
    "d08f7bb247194021a81de3df5c19ac30": {
     "views": []
    },
    "d0990f9f6bed4b85a66717519d371970": {
     "views": []
    },
    "d09b9661f28840a28b0a5829b7dd4967": {
     "views": []
    },
    "d0f0950756fd48039d5c8b56e8b5d550": {
     "views": []
    },
    "d10dd016154e44658cc6ef171d6329f2": {
     "views": []
    },
    "d1f2d72ccf2249558adcf61612ad5e48": {
     "views": []
    },
    "d2cfe0a82d7949f1978b6ae8f2c6cdcc": {
     "views": []
    },
    "d2ddb6397f0140aa8f290f22d9ae531f": {
     "views": []
    },
    "d350a1f3f06f4623b0cb18dd93f6b6c4": {
     "views": []
    },
    "d3d64f8be8074ad59c771aac643f82c3": {
     "views": []
    },
    "d403718c9e1648528bc972081805503b": {
     "views": []
    },
    "d4b91ffe0b7d4757a942973ed6e7e307": {
     "views": []
    },
    "d50fb42fbe8249da8549b50dbf1fb3d6": {
     "views": []
    },
    "d6bed58ce8394487ae3b0c8e8a33d992": {
     "views": []
    },
    "d7040ded450f4bd5a30f50526056fe79": {
     "views": []
    },
    "d72e723e134d42d9a1a812deba7da706": {
     "views": []
    },
    "d7d077baa1e4444183dc6b51213bd7d9": {
     "views": []
    },
    "d7d753fd4ad441c289e51161c7211ffd": {
     "views": []
    },
    "d8086ca30c4748e691d83e7077a71d71": {
     "views": []
    },
    "d859c0df0ee64d8fabb837b62ce8f71f": {
     "views": []
    },
    "d8b37c490d93411b8c183eb0ba9d9d05": {
     "views": []
    },
    "d8e0e4ecc8ec43c698b80c954bd1b8e2": {
     "views": []
    },
    "d926335fa82f4a51bb4a1975058b3871": {
     "views": []
    },
    "d98d1370fd874f8d965a70dc0cbb0dfd": {
     "views": []
    },
    "d9b6ac6c870146a58433010c86f6b7f3": {
     "views": []
    },
    "da7f747467d34fb28b41d6b312b0bd1d": {
     "views": []
    },
    "daa800facc8949b6b28e1e78e82a9824": {
     "views": []
    },
    "db51321ee3344dfeb1efe895b313903f": {
     "views": []
    },
    "db9066e83cdb45f68192a2577edd30b7": {
     "views": []
    },
    "dbd2744e249949689abd957410534c8f": {
     "views": []
    },
    "dbda371d894e4dac90a62a2e7f816ba3": {
     "views": []
    },
    "dc11f8944448494a883ecf8c66b96246": {
     "views": []
    },
    "dc184f09030b45e0a18f67c986b896bf": {
     "views": []
    },
    "dcb077c73c9b4a1ebef8f8d1705ee27c": {
     "views": []
    },
    "dd9ec1f825744d6f970cb11c86aafdba": {
     "views": []
    },
    "de2cf678e31e48b284102afa5aa2a4c1": {
     "views": []
    },
    "de83cfec74324ec5a4df95b4b032404a": {
     "views": []
    },
    "de8e0c95278e45268954886e61255405": {
     "views": []
    },
    "dec87592355044378d84c1ed0bcb9cd1": {
     "views": []
    },
    "df5fe552a6d54582a3db350db325b61a": {
     "views": []
    },
    "df9cb39c4aaf47039f36040e4004473b": {
     "views": []
    },
    "e013ad1fb8534902bed2954eef55595a": {
     "views": []
    },
    "e0406ec4ed404423ba9297b7ab513fe6": {
     "views": []
    },
    "e0b8bde170414f3e874c85b9429e78f8": {
     "views": []
    },
    "e1258258c4134954ba541f7e2b26ff24": {
     "views": []
    },
    "e236d822b9b14444927f79d59d4809a8": {
     "views": []
    },
    "e23dc70c2c474dc68c0b19c817f84d63": {
     "views": []
    },
    "e24984ba57ef4f66940baa298e8e1fde": {
     "views": []
    },
    "e271368db9444e0fb1a7491f0f210e43": {
     "views": []
    },
    "e2e6697714724ec99fbfc88037dd86ff": {
     "views": []
    },
    "e340c76cf77f4c50b8db47721364fd3c": {
     "views": []
    },
    "e350398b65314e8ba16d62d43c36d38a": {
     "views": []
    },
    "e3b57706002a47dba5ba432c7134d790": {
     "views": []
    },
    "e3bd72fb1bb849c5be378e5ff7ff172d": {
     "views": []
    },
    "e4966e78ffc44b3d8b82ae87f4360abf": {
     "views": []
    },
    "e4c63e16a38c425d8743fd00c4ea3e79": {
     "views": []
    },
    "e50b70f182b24091b4c5acadb3f64c74": {
     "views": []
    },
    "e54f9c679f19476488a51316c6bd2da4": {
     "views": []
    },
    "e645da7bf8574e2c9db7e6459cd13f97": {
     "views": []
    },
    "e65b2c35ab744552822cbcd1335f9ddd": {
     "views": []
    },
    "e6f7de6899094f08bf010bc820bd0884": {
     "views": []
    },
    "e6fab1454c834307b25f9ec7e7ffb03b": {
     "views": []
    },
    "e736ccdd8b8f407a9a2ef83412b3fd6a": {
     "views": []
    },
    "e79d0ddb5ddd49c597e97c97a9f65cc2": {
     "views": []
    },
    "e7ba7491985a4fd6b22719a1808624d9": {
     "views": []
    },
    "e824b5bbd8f84f6493dabd9b0b05d871": {
     "views": []
    },
    "e836451c90b64e3e9057fb55087db62e": {
     "views": []
    },
    "e88942783b7d4aa9af7ddd34a3f47643": {
     "views": []
    },
    "e90e22907d6c4f1ab06ec1ab17de7a5f": {
     "views": []
    },
    "e91bf68643d848d388cf4c3570c3d662": {
     "views": []
    },
    "e9b67e1fb9b449e984185e7193cf037e": {
     "views": []
    },
    "e9e8b39aa0724ba79380709e6613031a": {
     "views": []
    },
    "ea0411357bb34774aece7f441a53fcce": {
     "views": []
    },
    "ea3e486010d24efda89d49bb9e4a1d69": {
     "views": []
    },
    "ea5f15f95ede41f1a317aeb0646a1db6": {
     "views": []
    },
    "eab2637b6e7e42f2a12047ba36700447": {
     "views": []
    },
    "eaf480ea4423459aba3d1b83a9dd6eae": {
     "views": []
    },
    "eb0d692e5bad4dba8d9929c39643cadd": {
     "views": []
    },
    "eb16ef040a2843b6b265c7ac9541df79": {
     "views": []
    },
    "eb270fb042c5445fbcaa2730badb197e": {
     "views": []
    },
    "eba6d5f81e84458e807111d25f9468fa": {
     "views": []
    },
    "ebcab5e9e78e4dada1402a935a258ac4": {
     "views": []
    },
    "ebfe27d5ffb8437cb8d5906ea228d0a9": {
     "views": []
    },
    "ec4c589e9c414a7680fe1e561496bb64": {
     "views": []
    },
    "ec687111cb25458c9b6116557008dc9a": {
     "views": []
    },
    "ecc3ffe446cb4306a060c792844b87ee": {
     "views": []
    },
    "ed0096d769ee416bb7293e6ded1c6bf6": {
     "views": []
    },
    "ed105b402e9a4c84a6eb2e15e8f16f91": {
     "views": []
    },
    "edd42c027101425c919616858a9c6344": {
     "views": []
    },
    "edddb276e905477d905f50df8c35738e": {
     "views": []
    },
    "ede144bd713b45b095de85363f4eab4a": {
     "views": []
    },
    "edfd0d007066403e9331fe7e9d0ee393": {
     "views": []
    },
    "ee44821692054ab78b6053de8ec4231c": {
     "views": []
    },
    "eea87b1a0ace4d04bfdf921a526e3553": {
     "views": []
    },
    "eeb8527a347b4dc18a42990f64834631": {
     "views": []
    },
    "ef27cf635ece42a4af92f38210dd9638": {
     "views": []
    },
    "ef36b05167d44899b3f915fe1e03bd32": {
     "views": []
    },
    "ef453bdd96f4409bb07a2000356c9b2d": {
     "views": []
    },
    "ef92587f20a8407f8918691cb038c24f": {
     "views": []
    },
    "efd2f28b48c3413bbef949f296aeeee3": {
     "views": []
    },
    "f0d2fd7b0f1a4ac8888c09f4b6ff9cc7": {
     "views": []
    },
    "f15dcb504e2d4aa78748df0a17a13a3f": {
     "views": []
    },
    "f1c081ebf711432496a92f20d3bedb93": {
     "views": []
    },
    "f1cb484b4df044a2b528b4e8da14d49a": {
     "views": []
    },
    "f24d47bcb55e477fa667ce2384e0088e": {
     "views": []
    },
    "f2ac9510e19d42dbb18409c096da9e63": {
     "views": []
    },
    "f2c8cd886aa24554a1b6c9cff8e99a36": {
     "views": []
    },
    "f2ef23c555fe403ea827da4c90666f07": {
     "views": []
    },
    "f2f924b66985407f8a86fb1db1a781a1": {
     "views": []
    },
    "f2fe4e97cdbd4565a1a0658227624760": {
     "views": []
    },
    "f40387e6aa2347d088f6622f0173e860": {
     "views": []
    },
    "f4290141e0d2450aa10b3ab6b37698db": {
     "views": []
    },
    "f436173f90684860bcbcbf49d4e1a0a2": {
     "views": []
    },
    "f455129e61794cebb250c8a8bc2c5003": {
     "views": []
    },
    "f4a7544d71994489b21129d40b24177d": {
     "views": []
    },
    "f4d432f7637d4f95b4d8b470571ec4ce": {
     "views": []
    },
    "f4f4bfceb3cd4f4c8dbcf04c9bcb8ad0": {
     "views": []
    },
    "f60c3690d398456f913f64e2b024620f": {
     "views": []
    },
    "f6bb9562b5d946b9932d6ed4ec1b2c41": {
     "views": []
    },
    "f70d8d92f41647aa90ad2b3c1bb3b839": {
     "views": []
    },
    "f713f54d11ec4f34879fc4409e2db5c0": {
     "views": []
    },
    "f71918690ba94930b00468cddf8b0114": {
     "views": []
    },
    "f750b172c11b4fe3ae486d7a116376f8": {
     "views": []
    },
    "f7683e2ce14a45378ebe785d79860042": {
     "views": []
    },
    "f7954107869d424ba899a4903ac7a6cf": {
     "views": []
    },
    "f79a70105ce74aefb41a22d3acd9c1ca": {
     "views": []
    },
    "f7b849562b2b4f7a9b320698ea397732": {
     "views": []
    },
    "f8a1e68691e8411899f26097b7f27f02": {
     "views": []
    },
    "f8c4ab26e0454fd7ab07b1ec053af5e3": {
     "views": []
    },
    "f8ccdeb8d9034758aa6258ac8ffacaa2": {
     "views": []
    },
    "f92e2335f36c48c9a59804587dccc429": {
     "views": []
    },
    "f9847074c2104db7855c23d0892b79b8": {
     "views": []
    },
    "f99f9116394946c881fe32ab8283aeb9": {
     "views": []
    },
    "f9a248ad9bc44936bb8510d2dc92a920": {
     "views": []
    },
    "f9a5bc52603c4f59b669b3b34be390e9": {
     "views": []
    },
    "f9c2dbf5e08c4756b83377a80fc33275": {
     "views": []
    },
    "f9f269e089dd4ab2aabb0a67134b6d5e": {
     "views": []
    },
    "f9fe8e58fe484f88819ca7a0dc1ee490": {
     "views": []
    },
    "fa16fa00982f45b5baaa88c44b91b6de": {
     "views": []
    },
    "fa4e3a68ab164f1b9be49665381d9b91": {
     "views": []
    },
    "fa703e560009418397ada7d4c81a65b7": {
     "views": []
    },
    "fa99fbe08e5c43f29ed531d2b558a7b0": {
     "views": []
    },
    "fac4388dcef9474996fe2a522ef945f2": {
     "views": []
    },
    "faec8a29de524003a9d210442d57a694": {
     "views": []
    },
    "fbba3b1da94e4fb08e5b6af6d375a0c4": {
     "views": []
    },
    "fbca0e8ed3ef4e31861c7c81ab6c3945": {
     "views": []
    },
    "fceafe0a93d94771b0586655f65c1fc5": {
     "views": []
    },
    "fd06801f4e9445ddb0007cb1df4ae8aa": {
     "views": []
    },
    "fd15e58fa94649e0a0aef12324cf15bd": {
     "views": []
    },
    "fd2453f560664b80b9989969b271c4f0": {
     "views": []
    },
    "fd50783e235f444ebc0feeb2f1dc2c20": {
     "views": []
    },
    "fd9c4bf5b8be431e84e1a49a459eac8f": {
     "views": []
    },
    "ff0e1e947b6d4875b7628a0d8f46f2ef": {
     "views": []
    },
    "ff17c06d0bb543cd943d3be0969b4706": {
     "views": []
    },
    "ff53d5d1c64b454091e6cfa8ba9cb1b0": {
     "views": []
    },
    "ffd8368b7c184d1395ff0912826d715d": {
     "views": []
    },
    "fffae13512c24923a52ab12ac81cfe25": {
     "views": []
    }
   },
   "version": "1.1.2"
  }
 },
 "nbformat": 4,
 "nbformat_minor": 0
}
