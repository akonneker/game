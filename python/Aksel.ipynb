{
 "cells": [
  {
   "cell_type": "code",
   "execution_count": 1,
   "metadata": {
    "collapsed": false
   },
   "outputs": [
    {
     "name": "stdout",
     "output_type": "stream",
     "text": [
      "Populating the interactive namespace from numpy and matplotlib\n"
     ]
    }
   ],
   "source": [
    "from __future__ import print_function\n",
    "import sys\n",
    "sys.path.append('../build/')\n",
    "%pylab inline\n",
    "np.set_printoptions(precision=4, suppress=True)"
   ]
  },
  {
   "cell_type": "code",
   "execution_count": 2,
   "metadata": {
    "collapsed": true
   },
   "outputs": [],
   "source": [
    "import versor as vsr\n",
    "from versor.drawing import *\n",
    "from cylinder_estimation import CylinderEstimationSolver"
   ]
  },
  {
   "cell_type": "code",
   "execution_count": 56,
   "metadata": {
    "collapsed": false
   },
   "outputs": [],
   "source": [
    "l = vsr.Dll(vsr.Vec(0,0,0).null(), vsr.Vec(0,0,1))\n",
    "trs = vsr.Vec(0,0,0.1).trs() * vsr.Rot(1,0,0,0)\n",
    "ps = [vsr.Vec(1,0,0).null(), vsr.Vec(0,1,0).null(), vsr.Vec(0,-1,0).null(), vsr.Vec(-1,0,0).null(),\n",
    "      vsr.Vec(1,0,1).null(), vsr.Vec(0,1,1).null(), vsr.Vec(0,-1,1).null(), vsr.Vec(-1,0,1).null()]"
   ]
  },
  {
   "cell_type": "code",
   "execution_count": 53,
   "metadata": {
    "collapsed": true
   },
   "outputs": [],
   "source": [
    "radius = 1.0\n",
    "ps = []\n",
    "for i in range(10):\n",
    "    x,y = np.random.normal(0.0, 0.3, 2)\n",
    "    z = np.random.normal()\n",
    "    ps.append(vsr.Vec(x,y,z).null())"
   ]
  },
  {
   "cell_type": "code",
   "execution_count": 4,
   "metadata": {
    "collapsed": false
   },
   "outputs": [
    {
     "name": "stdout",
     "output_type": "stream",
     "text": [
      "Dll: [ 1 0 0 0 0 0 ]\n"
     ]
    }
   ],
   "source": [
    "print(l)"
   ]
  },
  {
   "cell_type": "code",
   "execution_count": 5,
   "metadata": {
    "collapsed": false
   },
   "outputs": [
    {
     "data": {
      "text/plain": [
       "1.0"
      ]
     },
     "execution_count": 5,
     "metadata": {},
     "output_type": "execute_result"
    }
   ],
   "source": [
    "np.sqrt(-(l.loc(vsr.Vec(1,0,0).null()) <= vsr.Vec(1,0,0).null()))"
   ]
  },
  {
   "cell_type": "code",
   "execution_count": 6,
   "metadata": {
    "collapsed": false
   },
   "outputs": [
    {
     "data": {
      "text/plain": [
       "0.38370882151592128"
      ]
     },
     "execution_count": 6,
     "metadata": {},
     "output_type": "execute_result"
    }
   ],
   "source": [
    "np.sqrt(-(l.loc(ps[0]) <= ps[0]))"
   ]
  },
  {
   "cell_type": "code",
   "execution_count": 7,
   "metadata": {
    "collapsed": false
   },
   "outputs": [
    {
     "data": {
      "text/plain": [
       "1.0"
      ]
     },
     "execution_count": 7,
     "metadata": {},
     "output_type": "execute_result"
    }
   ],
   "source": [
    "vsr.Vec(1,0,0).null().vec().norm()"
   ]
  },
  {
   "cell_type": "code",
   "execution_count": 40,
   "metadata": {
    "collapsed": false
   },
   "outputs": [
    {
     "name": "stdout",
     "output_type": "stream",
     "text": [
      "Dll: [ 0.5 0 -0.866 1 -3.098 1.732 ]\n"
     ]
    }
   ],
   "source": [
    "motor = vsr.Vec(1,2,3).trs() * vsr.Rot(vsr.Biv(0,1,0) * np.pi/6.0)\n",
    "print(l.spin(motor))"
   ]
  },
  {
   "cell_type": "code",
   "execution_count": null,
   "metadata": {
    "collapsed": false
   },
   "outputs": [],
   "source": []
  },
  {
   "cell_type": "code",
   "execution_count": null,
   "metadata": {
    "collapsed": false
   },
   "outputs": [],
   "source": [
    "ps[0]"
   ]
  },
  {
   "cell_type": "code",
   "execution_count": 57,
   "metadata": {
    "collapsed": false
   },
   "outputs": [
    {
     "name": "stdout",
     "output_type": "stream",
     "text": [
      "Dll: [ 1 -5.19e-09 1.123e-08 3.257e-08 2.195e-08 3.094 ]\n",
      "3.25149522861\n",
      "\n",
      "Solver Summary (v 1.11.0-eigen-(3.2.92)-lapack-suitesparse-(4.4.6)-openmp)\n",
      "\n",
      "                                     Original                  Reduced\n",
      "Parameter blocks                            2                        2\n",
      "Parameters                                  7                        7\n",
      "Residual blocks                             8                        8\n",
      "Residual                                    8                        8\n",
      "\n",
      "Minimizer                        TRUST_REGION\n",
      "\n",
      "Dense linear algebra library            EIGEN\n",
      "Trust region strategy     LEVENBERG_MARQUARDT\n",
      "\n",
      "                                        Given                     Used\n",
      "Linear solver                        DENSE_QR                 DENSE_QR\n",
      "Threads                                     1                        1\n",
      "Linear solver threads                       1                        1\n",
      "\n",
      "Cost:\n",
      "Initial                          4.839729e+01\n",
      "Final                            7.287118e-18\n",
      "Change                           4.839729e+01\n",
      "\n",
      "Minimizer iterations                       11\n",
      "Successful steps                            8\n",
      "Unsuccessful steps                          3\n",
      "\n",
      "Time (in seconds):\n",
      "Preprocessor                           0.0000\n",
      "\n",
      "  Residual evaluation                  0.0007\n",
      "  Jacobian evaluation                  0.0043\n",
      "  Linear solver                        0.0002\n",
      "Minimizer                              0.0055\n",
      "\n",
      "Postprocessor                          0.0000\n",
      "Total                                  0.0056\n",
      "\n",
      "Termination:                      CONVERGENCE (Parameter tolerance reached. Relative step_norm: 9.359753e-09 <= 1.000000e-08.)\n",
      "\n"
     ]
    }
   ],
   "source": [
    "initial_line = vsr.Dll(1,0,0,0,0,0).spin(vsr.Vec(1,2.1,3.1).trs() * vsr.Rot(vsr.Biv(0,1,0) * np.pi/6.0))\n",
    "initial_radius = 0.1\n",
    "solver = CylinderEstimationSolver(initial_line, initial_radius)\n",
    "for p in ps:\n",
    "    solver.add_residual_block(p)\n",
    "solver.linear_solver_type = 'DENSE_QR'\n",
    "# solver.max_num_iterations = 2\n",
    "\n",
    "estimated_line, estimated_radius, summary = solver.solve()\n",
    "print(estimated_line.unit())\n",
    "print(estimated_radius)\n",
    "print(summary['full_report'])"
   ]
  },
  {
   "cell_type": "code",
   "execution_count": 55,
   "metadata": {
    "collapsed": false
   },
   "outputs": [],
   "source": [
    "scene = Scene(children=\n",
    "              [line_mesh(vsr.Dll(1,0,0,0,0,0).spin(vsr.Vec(1,2.1,3.1).trs() * \n",
    "                                                   vsr.Rot(vsr.Biv(0,1,0) * np.pi/6.0)), color=Colors.RED)] +\\\n",
    "              [line_mesh(estimated_line.unit(),color=Colors.AQUAMARINE)] +\\\n",
    "              [line_mesh(l.spin(motor))] +\\\n",
    "              [point_mesh(p.spin(motor), color=Colors.HOTPINK) for p in ps] +\\\n",
    "              [frame_mesh(), AmbientLight(color='#cccccc')])\n",
    "\n",
    "camera = PerspectiveCamera(position=[3, -3, 3])\n",
    "renderer = Renderer(camera=camera, \n",
    "                    scene=scene,\n",
    "                    controls=[TrackballControls(controlling=camera)],\n",
    "                    background = 'white')\n",
    "display(renderer)"
   ]
  },
  {
   "cell_type": "code",
   "execution_count": null,
   "metadata": {
    "collapsed": false
   },
   "outputs": [],
   "source": [
    "estimated_line"
   ]
  },
  {
   "cell_type": "code",
   "execution_count": null,
   "metadata": {
    "collapsed": false
   },
   "outputs": [],
   "source": [
    "estimated_radius"
   ]
  },
  {
   "cell_type": "code",
   "execution_count": null,
   "metadata": {
    "collapsed": false
   },
   "outputs": [],
   "source": [
    "solver.solve()"
   ]
  }
 ],
 "metadata": {
  "kernelspec": {
   "display_name": "Python 2",
   "language": "python",
   "name": "python2"
  },
  "language_info": {
   "codemirror_mode": {
    "name": "ipython",
    "version": 2
   },
   "file_extension": ".py",
   "mimetype": "text/x-python",
   "name": "python",
   "nbconvert_exporter": "python",
   "pygments_lexer": "ipython2",
   "version": "2.7.11+"
  },
  "widgets": {
   "state": {
    "001e2715398d46408c14418f30060cd0": {
     "views": []
    },
    "00c91a9d40f14d9794b78674c530726f": {
     "views": []
    },
    "00f5bfffbb494d44b08d6824136ee357": {
     "views": []
    },
    "0114023649ba4992b6a8ceb6aac2dc4e": {
     "views": []
    },
    "014eebb2d95746e79623523144b3adaf": {
     "views": []
    },
    "02280af6b56c47ecba7d4022623c13be": {
     "views": []
    },
    "029f92e8479e4955a3c0d3b1cbaffaa1": {
     "views": []
    },
    "02c68a0902e843d3acecd13cdc0b1336": {
     "views": []
    },
    "03388896f8034e98816fc58784a693d9": {
     "views": []
    },
    "03b6e994e6fb4637aaae6f7887e26fc8": {
     "views": []
    },
    "04bf9549035546529d5868264d660330": {
     "views": []
    },
    "04e1281f0227461794c2cc7b27969fcd": {
     "views": []
    },
    "04ea868f826a4bf195c14f46c93d0c3f": {
     "views": []
    },
    "04fafec64bc84bb6848da67f4dad2827": {
     "views": []
    },
    "05662da8efd4464599257c64e33a01e6": {
     "views": []
    },
    "056822d364a540218d216d6426f242de": {
     "views": []
    },
    "05ab18f01fc44f56a9348806c66adab1": {
     "views": []
    },
    "05e842c7cbfe42338a2928fc7f909fd6": {
     "views": []
    },
    "06e48d9e5d894793b7bb9f7ccdd30d67": {
     "views": []
    },
    "08b9f57becc8481a8644d439838cfa18": {
     "views": []
    },
    "08f1ebfd5714490f8558a0ba25dfb9f2": {
     "views": []
    },
    "093b77f6e4504211af29d631320cd3c4": {
     "views": []
    },
    "0a8aa8a306b546e49aa860beb69220f0": {
     "views": []
    },
    "0aafa3668ad84be2a959e60f46302e12": {
     "views": []
    },
    "0b24ec10c8c3473e9c7c0e11cf843579": {
     "views": []
    },
    "0b96436efc954b91b94a1ec8c47dac95": {
     "views": []
    },
    "0c2d5e1076ee4928ae5bbb326050ba17": {
     "views": []
    },
    "0cab16490935456d9b213c1bbda0f229": {
     "views": []
    },
    "0cea81868e24462da40a95608ff54394": {
     "views": []
    },
    "0d5cb794b7cf40549dd9ad4b3f7d5366": {
     "views": []
    },
    "0dcf68d1a7ca45b6b69f684d02577b74": {
     "views": []
    },
    "0df82a9403ce4cfdbf5f48a54a5d7da3": {
     "views": []
    },
    "0e0b4231d09644a38a768a1f9dffa759": {
     "views": []
    },
    "0f2a41218daf405383129d55ea07cd2c": {
     "views": []
    },
    "110cecdffd614a69b498b380d4081fa6": {
     "views": []
    },
    "11b2f9171d4d44c09d191a15e944fb9f": {
     "views": []
    },
    "13689e957ee948f8b6c39258568f8fbb": {
     "views": []
    },
    "1374aa9d2284404c9d100ef776017bd9": {
     "views": []
    },
    "1398863130314c51bd8af7bd52ad9195": {
     "views": []
    },
    "141bd5b6f1a84a8d8cb3f7c7c42e455f": {
     "views": []
    },
    "14bc4160c459472bac1f11fd28a7c421": {
     "views": []
    },
    "1549abc0c5ba4f3bb9b2d6fa1a80eacb": {
     "views": []
    },
    "15bd9a77ad0341e18acca7016f904024": {
     "views": []
    },
    "16165f9a0b514b668818718e19f7ab94": {
     "views": []
    },
    "168aaa9b574c4e14972e788cc1a3c9e4": {
     "views": []
    },
    "16eef656239941ff93572b16da43a334": {
     "views": []
    },
    "17094c4e6edc43e1a5f1f912d83eb95a": {
     "views": []
    },
    "1812f811bd944e18bc7336223ba248c0": {
     "views": []
    },
    "181d09a25f2b4a4c882f8791688f2dfe": {
     "views": []
    },
    "18a1644f7c9a43ee996133c034142beb": {
     "views": []
    },
    "18c40580164947689121fff388418969": {
     "views": []
    },
    "190bc05be43c41c099c055ded3fe11e5": {
     "views": []
    },
    "1913fe0f67d745079635345271d2809d": {
     "views": []
    },
    "191e68c27bc64c31999306970f142558": {
     "views": []
    },
    "194428d4984c4f39bbe12173aa68863b": {
     "views": []
    },
    "1b31359ddaeb4ccc98f25d1759ebd302": {
     "views": []
    },
    "1b9335b7643b415f93ad73bfff83788e": {
     "views": []
    },
    "1b9bb5015c6b482e81c9fb4270e01866": {
     "views": []
    },
    "1bc4c1757fe54d119d25e80190a928f7": {
     "views": []
    },
    "1c224fdd064044bcb3b3e6d4c9d4e1c0": {
     "views": []
    },
    "1c44896a24974f4a9cf34a1ca619081e": {
     "views": []
    },
    "1c746836df6b466489012b510eb9a6c0": {
     "views": []
    },
    "1c8512f7f7f94c17be4a47d003076920": {
     "views": []
    },
    "1cd073ac2f6048779be4ec4d49dd66f1": {
     "views": []
    },
    "1ce2a28f6aa041a4a3842d00b006fc6d": {
     "views": []
    },
    "1dcb46221ec940e1b64a9a4b18bc49a8": {
     "views": []
    },
    "1df8e8a057544ca39a7a3ed534ef0e3d": {
     "views": []
    },
    "1e47788adcd44d50949396e0c54d5d67": {
     "views": []
    },
    "1e48c61fd17e44ffa2cc9cb39e1eda5c": {
     "views": []
    },
    "1e913545f78c44108ab84a046eda8c33": {
     "views": []
    },
    "1f0d5969f0e74063a2c831bb7a5758db": {
     "views": []
    },
    "1f0f1fcf3d5549ac97d5f0fe2adf1676": {
     "views": []
    },
    "1fc3885057b444c8a1ed40577991a151": {
     "views": []
    },
    "20dc52d465a0442191c66737be024e0c": {
     "views": []
    },
    "20e1b2ed8be34e00858a612c59f49c49": {
     "views": []
    },
    "218ca178de474b6aa4e123ca436ec532": {
     "views": []
    },
    "2424c40bd37e4b61a9ed3faf8e6bdf79": {
     "views": []
    },
    "24df0cae9bc94b8298eec85cff2a20a9": {
     "views": []
    },
    "258b683fc628493680738e692f840bf1": {
     "views": []
    },
    "25a7fd72ac7b42b787a2f40d08abca23": {
     "views": []
    },
    "25c6f2391ecd445dbf77a664f0223244": {
     "views": []
    },
    "25cd89805f84404a996ac21dbc4deefa": {
     "views": []
    },
    "263341365b24486f9dbf7668ed734823": {
     "views": []
    },
    "263687d382384bb3b1735b12b2a6fc31": {
     "views": []
    },
    "265e30fa6152415ca0faef99b5763dfb": {
     "views": []
    },
    "26e08da94d23456e8ee86ff94f5561c0": {
     "views": []
    },
    "270dd52fa3464cbca3e5330179f11f98": {
     "views": []
    },
    "2757f20e029047e39c13ed9da535eaf3": {
     "views": []
    },
    "28653368bc9f41a1985a11f43f7feffe": {
     "views": []
    },
    "2947a4df1329414d8045f6bcc073399d": {
     "views": []
    },
    "2982fe9192b44264945d6af01c841bad": {
     "views": []
    },
    "2ab1115a40c44af586b0bdfcf9170e66": {
     "views": []
    },
    "2b408b15cdc8440b978fa7b83dda4bf3": {
     "views": []
    },
    "2b6f3da34509405693b0928ab8b469a6": {
     "views": []
    },
    "2c0b877ed3a44f8599953aa5e54cfe85": {
     "views": []
    },
    "2c2741361ffc4684ab74ce389e2a1744": {
     "views": []
    },
    "2c641e2fd80f4fe39bd1e0a2a649c0f0": {
     "views": []
    },
    "2cab67e7579a459b93748c56e3ad3b73": {
     "views": []
    },
    "2d59f9e7e5b0484a92cb091e551c2e2e": {
     "views": []
    },
    "2d9959fe50054319824e533b52e78fa2": {
     "views": []
    },
    "2de173a81845486084bb2746a3453dfc": {
     "views": []
    },
    "2ee6d438e82a4e2c8d57c290dda309f8": {
     "views": []
    },
    "2f95a6118758426c821b9017282e360f": {
     "views": []
    },
    "3085ff76a92540a2b677df06bcfdf4ca": {
     "views": []
    },
    "30cb8cdf29bc444d9f03b385a48aa894": {
     "views": []
    },
    "3181d72b732a455383c0edb5a2d229bf": {
     "views": []
    },
    "31a0bad8e5b44cd3992e4eb87071b47e": {
     "views": []
    },
    "3265a5d8461e462189ee2af904dc7061": {
     "views": []
    },
    "331564a09d3d4882bdcca213e9f2e8e4": {
     "views": []
    },
    "339748a157f94bfd89ed450cc1f5dd3c": {
     "views": []
    },
    "33f0b908705d46b2a16c2da0d00e2888": {
     "views": []
    },
    "33fa143a1d894f8598cce655cf900636": {
     "views": []
    },
    "34c0a25d876b4e55ad0bcd0bf5689944": {
     "views": []
    },
    "3556315da8cf4f4ea73aa2de1642d5a4": {
     "views": []
    },
    "3584291ab9da4791b35e6e45ca63e74c": {
     "views": []
    },
    "3600db8d55764b82827e1b53a86b95c6": {
     "views": []
    },
    "3636b69f5cbc44ae8ceacaf973f379b3": {
     "views": []
    },
    "3669f4f3d0e74f2fb828faaa8ef209f2": {
     "views": []
    },
    "36ced590c0d442e7b19518501f4b2933": {
     "views": []
    },
    "375f8ffebc3b4d56b44d5f2e78af78db": {
     "views": []
    },
    "37b3edd643a24c4b97618e2e7be79268": {
     "views": []
    },
    "381414e1a43d4a9a93defb3026ab8d83": {
     "views": []
    },
    "38a36a1815a6495bb0ea992b65c6eedd": {
     "views": []
    },
    "38ea9d20e6094f00a697451a5c2c755b": {
     "views": []
    },
    "393b4c84cc7147d8865a30c7b1e812e0": {
     "views": []
    },
    "396ac28bcb734a8ab6214e82c97c8e12": {
     "views": []
    },
    "396fe20168b44def80f85c398d889865": {
     "views": []
    },
    "39871e78ac0f4b9dbb5118bac6d09df5": {
     "views": []
    },
    "39f690727c4346d79017839104ad5ed6": {
     "views": []
    },
    "3a9aba4b7ea34c449e3d7eec4c1d88cd": {
     "views": []
    },
    "3aa2aad9776c489ab0d3a08842ae6ae0": {
     "views": []
    },
    "3b34405d4f8b43f785a96318dba7dc6d": {
     "views": []
    },
    "3b94390ccb15434db29cb1ff722a3ea5": {
     "views": []
    },
    "3bf75bbb6af84525873958af3ee87532": {
     "views": []
    },
    "3d274f64756c492cae3e825371effd20": {
     "views": []
    },
    "3e67d48b0b714ed297e0229a7cf26a25": {
     "views": []
    },
    "3e88f83d73a54950ad0369283aae6b7a": {
     "views": []
    },
    "3ef1cc41c8334afbb251cbe40156c385": {
     "views": []
    },
    "3f0f5c94190d45998a17df6997ea2694": {
     "views": []
    },
    "3f61fa8b33ef4399beed3e5e4792e38d": {
     "views": []
    },
    "3f7796791e3c4aeb9c80dc1d39f61ece": {
     "views": []
    },
    "3fd2494e7e2846ab81f4aa8becd1de73": {
     "views": []
    },
    "4083d79f26d64348b327338c822c0f94": {
     "views": []
    },
    "416b8616355744638db10b72e2c87cf7": {
     "views": []
    },
    "4235ab6b282d49ec9af8db6229818a9a": {
     "views": []
    },
    "4254522d63f849279384fc1726d3447a": {
     "views": []
    },
    "433525bd78f240879929361e0a424525": {
     "views": []
    },
    "4365af0fcf1044958baffee6e0d14856": {
     "views": []
    },
    "437ace263ea94ef08588a6b438bb208c": {
     "views": []
    },
    "43841efe1a6447c3b06abffb7fafac0d": {
     "views": []
    },
    "43bacf8d5da042be9e11d9bbb271cc42": {
     "views": []
    },
    "44056df9c47a42b2a3893561a3d7521a": {
     "views": []
    },
    "44a4c6838c2b4b1fb07476e41276ea0f": {
     "views": []
    },
    "44b9b33fb05a484182ad788a3884096e": {
     "views": []
    },
    "454fadcd9aa54693a283d7abdf5da307": {
     "views": []
    },
    "455745bd9d1449c2ac891b6367516196": {
     "views": []
    },
    "459a99aa45f1480a9ed398408099a95e": {
     "views": []
    },
    "461ad12df7e64a87818006977ec88767": {
     "views": []
    },
    "462fb5e5734745119e870a8635754aa0": {
     "views": []
    },
    "472442eb81c44729b939df87d064ba09": {
     "views": []
    },
    "47a5ad155d8341a1a5bcbbccd7c05ac7": {
     "views": []
    },
    "47b4aa78275142b799dbadd1f84af32f": {
     "views": []
    },
    "47b9904265754a439c7bfb841c05de97": {
     "views": []
    },
    "47f19f63be79411f9f6ef5d3b2b8484c": {
     "views": []
    },
    "4882d425475f42589d2c963a9d61f392": {
     "views": []
    },
    "4945bcf3046e43528644c1898ada6a0c": {
     "views": []
    },
    "49a7f451ac6f4810a0d21f0d0f7cee99": {
     "views": []
    },
    "49c0b84609bc456f910d9c37207067a6": {
     "views": []
    },
    "4a9058953f434882850d9e4f5dcffb62": {
     "views": []
    },
    "4b8013f9cce54cb2a51b6e0394868e24": {
     "views": []
    },
    "4bc578d6a92846c08846f9579b1194b7": {
     "views": []
    },
    "4c4a70cbe3a142b59614b7ad38874195": {
     "views": []
    },
    "4ccbee852627479da6f8aa01845ee4f2": {
     "views": []
    },
    "4d2ba2a1d21c443e99fb1974947cdeab": {
     "views": []
    },
    "4db694013f7c49feacdf3e340cf17df5": {
     "views": []
    },
    "4dfc5abe71134f28871b846b898be56a": {
     "views": []
    },
    "4e79b8c88df4414ba9ad88a549ded5db": {
     "views": []
    },
    "4e8c353ab67c4b1db88831e173802a9f": {
     "views": []
    },
    "4ea3a306f2954e25bf3bf194e8bb79e0": {
     "views": []
    },
    "4eefd3a6ca844e8bb8f53d54777a23ec": {
     "views": []
    },
    "4f228f856c5f43fda00096742b9d952e": {
     "views": []
    },
    "4f6facfd82934c6f88edb326bfa53dbc": {
     "views": []
    },
    "50086a18dd5048f6850a01f6c78683bd": {
     "views": []
    },
    "50b1388a8726415e84c80952ebf335cc": {
     "views": []
    },
    "513b40c10dc248a5ba7922248c8f3c6a": {
     "views": []
    },
    "5158a71306bd4fc4aa0c41a2b90bde8d": {
     "views": []
    },
    "51cb5032a76f4da8bb0dabd7cc605839": {
     "views": []
    },
    "527e27b66227405b9428b6e8044e10da": {
     "views": []
    },
    "5560142091d841f49518bae64da46617": {
     "views": []
    },
    "55d55f35b93540a3bda1dfdad577e67c": {
     "views": []
    },
    "5647e9e6cf004a04863de3f1869699dc": {
     "views": []
    },
    "57629fc898cf4c4c9dab32ff46d84610": {
     "views": []
    },
    "57aea9f7a23f4570a0e292618214c5a2": {
     "views": []
    },
    "58216c6bce6a4b6ca6a2d78407ee6e1a": {
     "views": []
    },
    "587338a162cd4b9db008b6b1803e58a4": {
     "views": []
    },
    "58fee380407b496abed88e466fe08fcf": {
     "views": []
    },
    "59ab7fc1083040e4b3b97c051489bcd9": {
     "views": []
    },
    "5a3a81ee6b3e45a88312434d187afa91": {
     "views": []
    },
    "5af586efcc2044e39db84046b7a32926": {
     "views": []
    },
    "5ba6b09a08c148a9aa981e279602eea2": {
     "views": []
    },
    "5c595b7c9cf54c7eaad9024790c23e22": {
     "views": []
    },
    "5c5af9c9d354467c8b550b57cd6e2e4f": {
     "views": []
    },
    "5c9d925832de4d12ad1498d255f90c8d": {
     "views": []
    },
    "5cd1460af09b4642bd8b78312d998f38": {
     "views": []
    },
    "5d1acfaf39344892a03c309fe3ce00ec": {
     "views": []
    },
    "5d812746a5004020a3312b806ae784a4": {
     "views": []
    },
    "5d8cc0164da74cd3a0e7596516af4b1e": {
     "views": []
    },
    "5e4ec18a83fc483dafe4cc7e3009b671": {
     "views": []
    },
    "5e6736d1435044ada4bd1cfba2a59262": {
     "views": []
    },
    "5ea3abc901b647fb993ed5ce6693866f": {
     "views": []
    },
    "5ea9541552be4632b7bb14dd86e28c3f": {
     "views": []
    },
    "5f00c0904b714458ad7d3c2cad1880f4": {
     "views": []
    },
    "5f531de19d3848608354725bd2b38d93": {
     "views": []
    },
    "5f6b46077d764cccb1c54a5485fd9731": {
     "views": []
    },
    "5f79c750a05d4b098d2797c3252bf6ce": {
     "views": []
    },
    "6017bafc6a474457834abcc153447141": {
     "views": []
    },
    "603bd03d44e440619e53fd6e9ef4e7f1": {
     "views": []
    },
    "6055fc2ca1df4d63ba9b171b5ee5b9bd": {
     "views": []
    },
    "620bbd942ddb49abb25dbfae3e2e8ce9": {
     "views": []
    },
    "620d838257014988b4cd320201e28716": {
     "views": []
    },
    "62299819dd5445f1bf53e58442613f0d": {
     "views": []
    },
    "62e8f62e814e43ceba7f1859af9f8a66": {
     "views": []
    },
    "630af9d35ab3496e85ccce1b266d8e47": {
     "views": []
    },
    "63ef684af8c2440fa9a8dda2221bbe8b": {
     "views": []
    },
    "649b2805ba3b40e2af808aeaa44f2f0d": {
     "views": []
    },
    "64adf86debc143c4b658ba41b76b3ad0": {
     "views": []
    },
    "64b292e5676649e5a8582e3dd6ed0f8c": {
     "views": []
    },
    "64ebf40afd3149b7b82c8dedb76c625e": {
     "views": []
    },
    "670c2c34a4514779bef8a3692742a444": {
     "views": []
    },
    "673004074787489597418308a5ee1c62": {
     "views": []
    },
    "68649669f4be436a98c3e95dcef11f8c": {
     "views": []
    },
    "692286c76b18465ebd97e789d0e5169f": {
     "views": []
    },
    "69d256592e3c4b31b81bdb40563fcf46": {
     "views": []
    },
    "69e764df16b943dc8718271ac7ec20ec": {
     "views": []
    },
    "6a2447997d75442482cffa94d017a071": {
     "views": []
    },
    "6a3036c22dbe41cc877ebd23bf363cf6": {
     "views": []
    },
    "6af9d2a9e8f74edfad0f50a50fa6b124": {
     "views": []
    },
    "6b32d250b01e42d3b57c8ce42d72b8ff": {
     "views": []
    },
    "6b778da222fa43748a56757588fce654": {
     "views": []
    },
    "6bd7d352b6684e9d98c07346d2948717": {
     "views": []
    },
    "6be73f11e1dd4b8485b8dd457771b032": {
     "views": []
    },
    "6c1296ee484c44a78dd81dedfae69412": {
     "views": []
    },
    "6c1ab6efc23b4cb4a0f78f014804d8fa": {
     "views": []
    },
    "6c439483ce36484cb3e5bb348185ac21": {
     "views": []
    },
    "6c7b56d2f7884d83ab444f18f988ad04": {
     "views": []
    },
    "6cf4296a00ac47f8b5148a0c321ad475": {
     "views": []
    },
    "6d70cc734e8a4f819043b5582746c13a": {
     "views": []
    },
    "6deb766638f94377a57ebb5221fe0d56": {
     "views": []
    },
    "6eefba9f676447b6a4fc930bebed0ecd": {
     "views": []
    },
    "6f1fad82f67d435ba2f7f87e206b2094": {
     "views": []
    },
    "6f362d29d3a64ab1adbf4dde1da1ad32": {
     "views": []
    },
    "6fc43f5d831d4ec7b78990f6d6fcdb2d": {
     "views": []
    },
    "705ce886fc7c4930897b4c19ca03a6dc": {
     "views": []
    },
    "7062aa45a0ec40da859820ac02fc0666": {
     "views": []
    },
    "70704d9aa8774ab2b689fc08149d40f5": {
     "views": []
    },
    "70f7fce51d27495da3bb0ac59417ef51": {
     "views": []
    },
    "71cc822d473e4d509deca4965d8426c1": {
     "views": []
    },
    "71d5f044e76e476996ee864ce49088fb": {
     "views": []
    },
    "72148f13b6d84ce1bffef7576cdaa8ca": {
     "views": []
    },
    "722d8739b78444e5a2f5067dfe06bd4e": {
     "views": []
    },
    "7282cf4a5c7e4661a30d152cb667718d": {
     "views": []
    },
    "72f68fb009cf4c7f84ed5fe10848638f": {
     "views": []
    },
    "72f724be356d4f7683fe4d656d3be655": {
     "views": []
    },
    "74187cb6d6274bf6b1cb0c638a68679e": {
     "views": []
    },
    "744912f329ad4115af70a487db772551": {
     "views": []
    },
    "74643a0e2e1f4b30854baacbd5761803": {
     "views": []
    },
    "74fcd915ec684e3b9c31761d79d64e87": {
     "views": []
    },
    "7532b2e6cd82432ea386e3f8c626bb6b": {
     "views": []
    },
    "75c60c3b9fda4d428d3fb86275dc679d": {
     "views": []
    },
    "75df5551eda74c9fb6e1599f5432f470": {
     "views": []
    },
    "76a4a5a31d1c42f39eda2c45ee51624d": {
     "views": []
    },
    "77767149c37c45dd8bbd6858ee6a1c37": {
     "views": []
    },
    "78c769bee4cb47cba03d07c1eb7ee60a": {
     "views": []
    },
    "79493d6c980a44d7b5260034a4a103db": {
     "views": []
    },
    "79977f578307414ba57f3bd4b3fd99cc": {
     "views": []
    },
    "79cb7dc3aa124a5ca6d3707085984a27": {
     "views": []
    },
    "79cf61c717b94aba8bb48b67ea0b09c1": {
     "views": []
    },
    "79efb52953e04e039ca780202e1a70f2": {
     "views": []
    },
    "7a74b38ce7b94e04b1aa9ecefd55adb9": {
     "views": []
    },
    "7ac4ec1fdd1a4527809bf2a31ba3d70b": {
     "views": []
    },
    "7ad2c3413612440da1c692ff57337c44": {
     "views": []
    },
    "7b2be64193e44a6a8d5d2176d2c6b5a0": {
     "views": []
    },
    "7b3a8db4d103471196334725dab3e116": {
     "views": []
    },
    "7b65e7b656e44c70801edd6cbf6fddfa": {
     "views": []
    },
    "7bb7c5018d794a74a4883c5b284d9bb7": {
     "views": []
    },
    "7bc7e4a2f4404393bc8b28fee68cd4bd": {
     "views": []
    },
    "7ca0e05303f243ddaf530ab16e237573": {
     "views": []
    },
    "7d38f963168446b8b3b89c3e61f329a9": {
     "views": []
    },
    "7e5b49a7a620417580516f0e995cfe41": {
     "views": []
    },
    "7f57432a206d4980b32070eb9ca2e194": {
     "views": []
    },
    "7f73c9e640e649a18b9d660d2ba4aeaf": {
     "views": []
    },
    "800c7b911e3e4917a981a3370f75c81e": {
     "views": []
    },
    "80497e1dea8140b7961ae1a1a4938ef7": {
     "views": []
    },
    "80e0b1ffa94145cab333408e81861f27": {
     "views": []
    },
    "80e76e70ebf14060b3d13cac75d230cd": {
     "views": []
    },
    "80fe2d8329ea41588f291dfc3bb54f3d": {
     "views": []
    },
    "8167caa1dcf143d9958e421b2e272f5c": {
     "views": []
    },
    "81e84fc67ebc463f8947cf1784f832d4": {
     "views": []
    },
    "820fb74450ab4af79029d1c585ce7b29": {
     "views": []
    },
    "824464e9490a411187d0897e108a77ec": {
     "views": []
    },
    "824a190cac2b4755900cced14ddacb57": {
     "views": []
    },
    "82d35e8abf8542a1aaa76acaee9011c2": {
     "views": []
    },
    "831f18d720974ab48470f343c4f10055": {
     "views": []
    },
    "84171fcf363a4065b56ae6701c9fdb97": {
     "views": []
    },
    "84bd516a0f594d1b86371ba10c911978": {
     "views": []
    },
    "8533e19cc6144ffebffffa5c6109b8e1": {
     "views": []
    },
    "856d0a8a7a5543cbb6f865af486a85f6": {
     "views": []
    },
    "8579804b71774798a670a50d7e0a38dc": {
     "views": []
    },
    "86904e0674f248d792208e12e412c183": {
     "views": []
    },
    "8748b252b6cd48148dcc255025288497": {
     "views": []
    },
    "893d8cf0bf4543c68a2ab669c561a50f": {
     "views": []
    },
    "8aacd7c0224d4a0ca9e4930edd65d5a1": {
     "views": []
    },
    "8b1faf8ba9684f5f94680fefaca2df0a": {
     "views": []
    },
    "8b4cf4cbd4964963aff90c97f64ea05f": {
     "views": []
    },
    "8b7af3596171407d98ee13c2fe5f587e": {
     "views": []
    },
    "8b8b7fd7784e4389846003f53cf43f0a": {
     "views": []
    },
    "8c94c6e22e6d429bbe0b9cad0d58ea03": {
     "views": []
    },
    "8d25eb68d8f54a2487b96156d3d81abc": {
     "views": []
    },
    "8d3c54785d5b4358b70ec99b7b09566d": {
     "views": []
    },
    "8d46d272f9864a26839a9de934542f6f": {
     "views": []
    },
    "8dd175df9c8b4352b83c42def215cd70": {
     "views": []
    },
    "8e04e695a4c2466ebaf68b9ffeac27d6": {
     "views": []
    },
    "8e15666857f34770bc7a61a07ff8fb3d": {
     "views": []
    },
    "8e67676fdefe46e7843490baf6f26a7c": {
     "views": []
    },
    "8e86e57adf554f809dd4bdfd6c74cfa2": {
     "views": []
    },
    "8ef6f21d041448bd943c7f85e7790a53": {
     "views": []
    },
    "8f13b88e984f439a9ae7c561edc582bf": {
     "views": []
    },
    "8f7719302a0144039ae57e1aa7ca37fd": {
     "views": []
    },
    "9021849ae42840d781767802ca0ed07d": {
     "views": []
    },
    "9039de248b1146e9a9f76880641d3e55": {
     "views": []
    },
    "9095711617da4fd9a4ab8bad6341a3f7": {
     "views": []
    },
    "90af6380dabe49ae9f364d46984a016d": {
     "views": []
    },
    "9128ee259c4b4fe4a4b420a15866f7c5": {
     "views": []
    },
    "916f9d388e8a472ea0b6e7b96bf09279": {
     "views": []
    },
    "91873d7392014feca52d3db1dcd145a9": {
     "views": []
    },
    "924ebcde1c19405d8f8c7e1cec0722d5": {
     "views": []
    },
    "926b0e0b7c124f0a8dbdb85857448169": {
     "views": []
    },
    "928f0274d2ea4d48abe2d1b86c22fa20": {
     "views": []
    },
    "92d482aae1544710b531f48ab2ed7d3e": {
     "views": []
    },
    "93a1f7397254441fa90d7aa491fd7f80": {
     "views": []
    },
    "93cb91e77b234d98946754662d795ad6": {
     "views": []
    },
    "9456b773466b41008b61ed1d19f66ffb": {
     "views": []
    },
    "945ea25d67c44cceb921aa50805ba8c5": {
     "views": []
    },
    "94706641a49e4c50b31624d5973541a5": {
     "views": []
    },
    "94874b9387234307973b6d24fd08af1b": {
     "views": []
    },
    "94c2bc306c044ff69fa937fa398b13b3": {
     "views": []
    },
    "94cfed802e0140e1a9ece5970b602c2d": {
     "views": []
    },
    "94e3463005944adcafe8ef0d4883d0d7": {
     "views": []
    },
    "9503bbd64ffd4ee383e2b1cdc6eedcf2": {
     "views": []
    },
    "966de8333ab847e4a1463e9a4e531745": {
     "views": []
    },
    "96aefce81b37466293eff7ecb756c114": {
     "views": []
    },
    "96b7bff0afa447959a38c4dec0331a8f": {
     "views": []
    },
    "96d0bda652234aa7a3197d5cd0acc5c9": {
     "views": []
    },
    "96f73eac1e6241a381d1cc5926b3a4d2": {
     "views": []
    },
    "9748e294df3a417e9cee2701b7201e99": {
     "views": []
    },
    "984d2095f151453aa97db4e50975ae04": {
     "views": []
    },
    "986804b2d80a4c4f8dd3a47789631404": {
     "views": []
    },
    "98b723dce49b417e941f5d77c2261049": {
     "views": []
    },
    "991ba74a45e34e52a4890c8cd5bc71d1": {
     "views": []
    },
    "9944973a7ffe476399b44c3fe6abf9d9": {
     "views": []
    },
    "9a95c64a126e47208eaaf82c08a122ae": {
     "views": []
    },
    "9b1d69100c914460914adf1568f5d546": {
     "views": []
    },
    "9b3f66ad4b024b9da9d63d68175b0139": {
     "views": []
    },
    "9b659f7e8d27420c95cc8167c7001a6e": {
     "views": []
    },
    "9c0bbe8a8fb647238b54781b06d29cfb": {
     "views": []
    },
    "9c1af305f8f445f3bb023985c9339b40": {
     "views": []
    },
    "9c21ffba7d484d778eb3b6194097d9bf": {
     "views": []
    },
    "9c57e65d95714cdfabc87d4eba44f703": {
     "views": []
    },
    "9cb89932dca14b5d9c354c267576ac79": {
     "views": []
    },
    "9d42b4f534974e399c1c4f58a5fa917b": {
     "views": []
    },
    "9de4360ed8c44b069d4083cff6a320ab": {
     "views": []
    },
    "9e0b883830844094888b7af01bafa39f": {
     "views": []
    },
    "9e236f1449b54f98bc7d5cf872ecc0b4": {
     "views": []
    },
    "9e80db1d0fb349e49d12431e93b736e2": {
     "views": []
    },
    "9ec61417f12a49d1bc7cd97df929acad": {
     "views": []
    },
    "9f5837b5bd1f47daa2ef41d607f34c10": {
     "views": []
    },
    "9f602a76e65b47579630ab834d66b8cb": {
     "views": []
    },
    "9f6f105f2d4f4a2d81110a9c1f30cd10": {
     "views": []
    },
    "a0b1a724bc734224b75f5b598e558a53": {
     "views": []
    },
    "a213ca17bddc4353b9e8c5928f995147": {
     "views": []
    },
    "a2974c5432004839893fadf65e20ec42": {
     "views": []
    },
    "a2bf52a0ab0a426494360342d9abb99d": {
     "views": []
    },
    "a3373a317c5b4ff787f01d3005cedbb3": {
     "views": []
    },
    "a374f7611c0b40f9825477084e5eb8a6": {
     "views": []
    },
    "a4f9d3df86794580a686d889eae3281e": {
     "views": []
    },
    "a652e3e09c3e42b08c8be719a9723b42": {
     "views": []
    },
    "a66758081d62442699062a7ecf8707ad": {
     "views": []
    },
    "a73956445c624888a2febe128632ae2e": {
     "views": []
    },
    "a8000ce14ea245a09d00413b7ca0c636": {
     "views": []
    },
    "a89b759050ba4f01bd7689b45e42fae4": {
     "views": []
    },
    "a89c25cb82834d1cb44ca945bbedbd25": {
     "views": []
    },
    "a94cf2423f9b45e3ad772dd9994e31ed": {
     "views": []
    },
    "a9817430c61446969c46fa7cee63f9da": {
     "views": []
    },
    "aa791405f60e43e7ad9e331ce6b38695": {
     "views": []
    },
    "aa844e8d8c98499eb0bea30e1ad00467": {
     "views": []
    },
    "aaece60092794629b67634537f410f4c": {
     "views": []
    },
    "ab56573690e74727a668c1fd67ef6f16": {
     "views": []
    },
    "ad92e0402e304c6daeaf84be17135ae2": {
     "views": []
    },
    "ae4a542cf0434ace9058509a48a216b5": {
     "views": []
    },
    "aea63eaeb560494f9f1475d8d3abfd22": {
     "views": []
    },
    "aeccffdefbac40d5ba94e532ce655f04": {
     "views": []
    },
    "af2734853a97497c926a7bc3213c688f": {
     "views": []
    },
    "af7aec15c2924506b06897f1b12e032c": {
     "views": []
    },
    "af9dadc921294129a0fc6c1790c4dd63": {
     "views": []
    },
    "afd93015547646db808750b0098d6c36": {
     "views": []
    },
    "afe39eba977b4f749134d5055c4aff20": {
     "views": []
    },
    "b0262d9cc2754a258cfc12f0ddfc6844": {
     "views": []
    },
    "b034c8dc30e6418f872b121663587470": {
     "views": []
    },
    "b0968f576ac94483bdca1f5a444301c9": {
     "views": []
    },
    "b0ab0d600b254157abc9383ea3ffd210": {
     "views": []
    },
    "b0c3ed096ff24c6c9661e44b8ad49dbd": {
     "views": []
    },
    "b0e21101e9d143c995c63c1fcafc279e": {
     "views": []
    },
    "b112939eb099422e8a19ad7ab5477c71": {
     "views": []
    },
    "b13e6f678f224a10a086b839c6e5b381": {
     "views": []
    },
    "b174029cef324238a1eaff8d1569858a": {
     "views": []
    },
    "b210ba98818540889d8dc43479db71ab": {
     "views": []
    },
    "b22b9502537e48be97b0e0173bd89732": {
     "views": []
    },
    "b363f3105b0649d893ba095358f1b048": {
     "views": []
    },
    "b3658c7be3694b74bc01e2e52c5aafc3": {
     "views": []
    },
    "b37a647863554315ad7d5be1dbc3e0ae": {
     "views": []
    },
    "b3edd58e876b41889d2e7ec82747da37": {
     "views": []
    },
    "b40f7aaa61274aa3bea8fb397955f4d0": {
     "views": []
    },
    "b43c274fa65a4855a633ca4b9876f394": {
     "views": []
    },
    "b4596c5cd4394e6cb33ab253fe4ecc72": {
     "views": []
    },
    "b52dbf8ebfa9482aa9ba3929b7012561": {
     "views": []
    },
    "b559233e9d354bc7a055986e93c9ca40": {
     "views": []
    },
    "b56b645c0ee2478a9be759e66141d5f7": {
     "views": []
    },
    "b5af3a19d7c44d3b9beacd3e7541c3cd": {
     "views": []
    },
    "b60e26d8f0e64e65b54e3bdd64c58964": {
     "views": []
    },
    "b78a828866854ea798e9a3131ea7bb4a": {
     "views": []
    },
    "b791aa2246104655a862cd250b78e7cd": {
     "views": []
    },
    "b7ba0c6109c549f59522274677e396cd": {
     "views": []
    },
    "b85d0e2b572344bc885e9e7788c9a116": {
     "views": []
    },
    "b954e1a3ccc64ea89c68e863a5d78e40": {
     "views": []
    },
    "b9d91ddea3494bfcbbec1bc2aa1115d7": {
     "views": []
    },
    "b9f3389dfe97425ebe70ee630018158c": {
     "views": []
    },
    "ba3b9be3437b4306b5226123c392c419": {
     "views": []
    },
    "bab24021792c4c0f8354460e6665c48f": {
     "views": []
    },
    "bae7c1a791b2498db470e034cb1bf1a5": {
     "views": []
    },
    "bb024d7f38fc4d56b3dc26b7c95464d5": {
     "views": []
    },
    "bb5e49a577d04649aee44e9e394b47d4": {
     "views": []
    },
    "bb8d1f839e404cd7a035df7a79520f9d": {
     "views": []
    },
    "bc2978d4d37d403284970fd2dd9289de": {
     "views": []
    },
    "bc67114c703a4fdfa6f52c290b17c9f8": {
     "views": []
    },
    "bc97231d1616442fb122e8cebef4631f": {
     "views": []
    },
    "bcf999513372438ebdfb5a9aba900d17": {
     "views": []
    },
    "bd01111a99a34080b7171e9bd77144b6": {
     "views": []
    },
    "bd41796a550b42b48e3bfe9f90750ac0": {
     "views": []
    },
    "bd81f0d1f3ab4b85b51424821762d3b1": {
     "views": []
    },
    "bd993f0ebdf0442b814c3a274db20085": {
     "views": []
    },
    "bf3dd203742347399e755e593207c94b": {
     "views": []
    },
    "bf46d391c50c47e1bab1cdf099dabaae": {
     "views": []
    },
    "bf6ba9db591c4912a296bd2b4303b7f9": {
     "views": []
    },
    "bf872757422945049204ea7891768ec2": {
     "views": []
    },
    "bfae0e1e4a544c9d804c8e8a8adf45db": {
     "views": []
    },
    "bfb108d83f4546a38569431200d8917e": {
     "views": []
    },
    "c025c178e44b4f1baa47c214e5f34a97": {
     "views": []
    },
    "c0286829d398422a863b8da88bfb9892": {
     "views": []
    },
    "c02d5f0775e7409da29e4d0a61e032a0": {
     "views": []
    },
    "c048e053123b4fa0947441c5e100b37f": {
     "views": []
    },
    "c04bc7171cf0440fb88604f66020a5cc": {
     "views": []
    },
    "c0b5077644ed40bcaa9b9343e3ef2351": {
     "views": []
    },
    "c1dc21f447f84bb4bb140821efcbd475": {
     "views": []
    },
    "c220de2c9a544de38dbad5e788f251a1": {
     "views": []
    },
    "c2c29d616902401c8a2a4ab49044d005": {
     "views": []
    },
    "c2ca6b7dd128499ab8d47591c9d57c8a": {
     "views": []
    },
    "c2d2a46b254643fda3413f018f09b5e9": {
     "views": []
    },
    "c3130280af2849318ee50dd3bad6aafe": {
     "views": []
    },
    "c39dfa9f710741a6a0dc9562fe275ec4": {
     "views": []
    },
    "c4535a03ce3e42598c5485a89249e391": {
     "views": []
    },
    "c45c2fbf9c2b423d8a22b0956cd2fc93": {
     "views": []
    },
    "c4de5889435d43e4979eaeacfb4f3de3": {
     "views": []
    },
    "c50e10ccfa4a47028ddc6a8568afc08e": {
     "views": []
    },
    "c616a620220f43c0aca420d3314f7f8f": {
     "views": []
    },
    "c619dc6035484d519ba20bf97991b978": {
     "views": []
    },
    "c6d672fb0d134fda98099a8762a3f521": {
     "views": []
    },
    "c6e09a7c14454648958fcb0e039a881a": {
     "views": []
    },
    "c6f8bac2aa624211bed6389cdd408d53": {
     "views": []
    },
    "c708c8b6fc104e2997f0d3aa4785d13a": {
     "views": []
    },
    "c73145ca987f4eb5a7a600aec4dc1204": {
     "views": []
    },
    "c7cdcc789fde43adb94ad1b2b6cc6396": {
     "views": []
    },
    "c833b36895324450b5e1f9b6934f1b4c": {
     "views": []
    },
    "c854ad33c67c4ad2ab430e64150868d2": {
     "views": []
    },
    "c86cd8c7cd014049afa1f5f65e61c9d4": {
     "views": []
    },
    "c8e5da62e32749a5bc66934482fda81c": {
     "views": []
    },
    "c8f3e955cc7343dc8520c8036a9abc67": {
     "views": []
    },
    "c8fad2310e8c4c7f8f3d503d623e1d73": {
     "views": []
    },
    "cae3d89dadc548eaac19397377406821": {
     "views": []
    },
    "caf2f721d89f47b2bfeb0691ba3653d0": {
     "views": []
    },
    "cc2f3bc474fc48b4a56a6ca00c6f001b": {
     "views": []
    },
    "cc364b5180994101be89a0e5c5d8eb89": {
     "views": []
    },
    "cced6de05a614a97ba98d4f722229264": {
     "views": []
    },
    "cd2b2f1e58654c7cb6a1577abd6bbc8c": {
     "views": []
    },
    "cd66a779202d45b29d24ac2852d58c8a": {
     "views": []
    },
    "cdbc90d8dcec4f639b129bc8a89d670e": {
     "views": []
    },
    "cdd472e924a442bd806c8927ef2be86f": {
     "views": []
    },
    "ce2680945707460bb2cf7dd9ff73b96c": {
     "views": []
    },
    "ce34e443a6814845b6c8021b1e3c974e": {
     "views": []
    },
    "ce3c0cf4a2cf4f96b6725dbf0585b179": {
     "views": []
    },
    "ce4be6fa172f4fb2aaf509dc0c3053af": {
     "views": []
    },
    "ce8be75cee6f4c0d99eedfe859b6b46b": {
     "views": []
    },
    "cf00415cd3404df0beb73c1e3eaa1c4c": {
     "views": []
    },
    "cf2e2f24c005427c996ab7dcdf4ccec6": {
     "views": []
    },
    "cf502840242942959101ac616aac9702": {
     "views": []
    },
    "cffc27796bdd43ecb495791323db2127": {
     "views": []
    },
    "d009497b5b8a4c17989b38fac335df44": {
     "views": []
    },
    "d017b622a53942e3ba656a7136b56d43": {
     "views": []
    },
    "d0495685b59f46b28343bc8b16575941": {
     "views": []
    },
    "d08cefbe597448ba9739d34c66959998": {
     "views": []
    },
    "d0a94d7b4f27410182b0ee8f75cbd887": {
     "views": []
    },
    "d1286f3e1aa045e894fb3b7606f37a34": {
     "views": []
    },
    "d20deec95a95418da9a394be518441ce": {
     "views": []
    },
    "d220ea045e724ed79dccd3bc63c29dd8": {
     "views": []
    },
    "d26370583c51491aae25e6df903bb278": {
     "views": []
    },
    "d2d7e3db106547e1bbd39c0c00214ec1": {
     "views": []
    },
    "d3b22e80e5984f4bbe26e2c9eb0adf5c": {
     "views": []
    },
    "d3d253cec5184dbf9b4b98f3163bea87": {
     "views": []
    },
    "d3d3c2007f3b4e65a990b2bf44064816": {
     "views": []
    },
    "d49630d2ca334bd2a2f8056d361f23e5": {
     "views": []
    },
    "d4a59b7c82254d2f8cf5bf834e3d74bd": {
     "views": []
    },
    "d5576acb1df745d08d6131087e4e3267": {
     "views": []
    },
    "d570fdf3d43148b6b77dc42961912ef4": {
     "views": []
    },
    "d575fe5381444930a84ee5e4bbd306a1": {
     "views": []
    },
    "d5ba44bb060c4bd1b671c68e02dc713f": {
     "views": []
    },
    "d68a728283784edcb75783d71b862b56": {
     "views": []
    },
    "d6d691e8cf14405ca5252962f4d7395e": {
     "views": []
    },
    "d7127a4f72084469b858ec144cae97e4": {
     "views": []
    },
    "d72ed2cee55f4d089b318c26bd71b548": {
     "views": []
    },
    "d735007fcfb64f4588a8f1a5516df649": {
     "views": []
    },
    "d74da9cc12d04a1ebaafd336a0e4ca6e": {
     "views": []
    },
    "d78b65d2ad5c45ceae023997ce885d81": {
     "views": []
    },
    "d7f5e2bd30b24888aa61f1347c705f55": {
     "views": []
    },
    "d87969bc35d549868ace90139e02d553": {
     "views": []
    },
    "d87c301a33614c66a6fd04ed2ea7a2ae": {
     "views": []
    },
    "d88a52d43fc242e2a97e3ae7ac190e41": {
     "views": []
    },
    "d92898c852de4f8384ba5c2a19e5d1f6": {
     "views": []
    },
    "d9a259b0dc154949b68ee313dd2b7ba8": {
     "views": []
    },
    "da756580c0a94c45a4f21394cfd4edc8": {
     "views": [
      {
       "cell_index": 12
      }
     ]
    },
    "daa219bc5672434780c82b398630fc34": {
     "views": []
    },
    "daaac131b83c433f988a25a4b0f6e369": {
     "views": []
    },
    "db626710b5f841159374001f16686f5d": {
     "views": []
    },
    "db8845ae018a4efb8a759305902187d8": {
     "views": []
    },
    "dbc06f9bdfed45d695f597b4e9719059": {
     "views": []
    },
    "dbd79f3532fd459d955afc32b1999ecc": {
     "views": []
    },
    "dce832bbe9734bab90819431ddc253b2": {
     "views": []
    },
    "dd1d291e5a78465abde23b48de4a9046": {
     "views": []
    },
    "dd49b8c6e66c4f36adb4f30c4a55230e": {
     "views": []
    },
    "dd8731ddca49410cb2d2640bdc14e448": {
     "views": []
    },
    "de376fea39474e2790a1aa3a4e127a77": {
     "views": []
    },
    "ded129041ad94b59916f64c94f29705f": {
     "views": []
    },
    "def7f9f8b000404badb9538cab555a62": {
     "views": []
    },
    "df9edeeeecae43aaad89663f49848613": {
     "views": []
    },
    "dfc09b039f5141f0b4b4b8c4c555f160": {
     "views": []
    },
    "e00154ff9c5c415b87179b58a886a9d4": {
     "views": []
    },
    "e09a5a78dfba4e519edeb99287799dae": {
     "views": []
    },
    "e0e103dd09584b48bc92c95c75ebf655": {
     "views": []
    },
    "e140fe9936574fcdb96afd858dbf7fec": {
     "views": []
    },
    "e1c2bace685d42e9966ce820baf5c101": {
     "views": []
    },
    "e266a4e56ec14b9eb3ce1d1eb562c40f": {
     "views": []
    },
    "e2cedb072eb84919b37dd8b8e1fa9a8c": {
     "views": []
    },
    "e2fda5ea12ca471abfb038171e3b3faa": {
     "views": []
    },
    "e3741a055f4e42c0b6d9c19b2f39357f": {
     "views": []
    },
    "e37c772a7d19435f817d69d345c2ad67": {
     "views": []
    },
    "e3ff42b031c94d8380187e9d5fe1d49d": {
     "views": []
    },
    "e470c71f0b7a4ce295b8194cd1de6b1c": {
     "views": []
    },
    "e4e10c32bceb452dbf85b49197b648dc": {
     "views": []
    },
    "e5b2a6a34189442eba6360e9c49672ac": {
     "views": []
    },
    "e5e967ae94eb48048bdd39f37a62ed41": {
     "views": []
    },
    "e5ff19c323a3423a84c0431c83d56855": {
     "views": []
    },
    "e6f9b6bdbab047beb0dffe0411b6c4e4": {
     "views": []
    },
    "e70e15da510f43f795b34c59228abd30": {
     "views": []
    },
    "e7fb115957534a9589ac02468b77a8c6": {
     "views": []
    },
    "e8063758b2804e9784c2ff0263d89429": {
     "views": []
    },
    "e8134f968b2044a29097636487a483ed": {
     "views": []
    },
    "e8234ed661954c1b81a85a1e1a1797f6": {
     "views": []
    },
    "e8ae4c3f3c6d4360b81a3ecfa70b43e6": {
     "views": []
    },
    "e8f6e06512174407871c895050633a08": {
     "views": []
    },
    "e95de76d2bda4306a96aa20028b88cff": {
     "views": []
    },
    "e97fd65ad5534ed1a6911ae44ba6b419": {
     "views": []
    },
    "e99c92ce7e364988bfbacd51e51972e5": {
     "views": []
    },
    "ea9d951968e4463b8e3cef6ceee2b585": {
     "views": []
    },
    "eac241d26c8b4c27a652663a38bd50bb": {
     "views": []
    },
    "eb57ff4b9dab4f26b353efdcbe179e81": {
     "views": []
    },
    "eb8385c1f2ae44b0914bdc155bd6b60f": {
     "views": []
    },
    "eb8d9c78b42142d5994b53c693555aec": {
     "views": []
    },
    "ebbbbb37c9604daa9c21108519f427fe": {
     "views": []
    },
    "ebd34092a0a748a4b69f3f00f7833781": {
     "views": []
    },
    "ebeff9f3922c49528bdce389818d2a27": {
     "views": []
    },
    "ecb2d6becd1f4b8fba32ae66f44eb474": {
     "views": []
    },
    "edd1ae60d02849dc9136028bd0b06131": {
     "views": []
    },
    "eddd3cc7cd4e4906a8da6dbfa70f63a0": {
     "views": []
    },
    "ee27c03ed50045fa9742526524f3f41d": {
     "views": []
    },
    "ee87e5d696784341870c2889fc4b9c88": {
     "views": []
    },
    "eed15d48aa014966b9e9b720a980d4cb": {
     "views": []
    },
    "efbb1e6d805a4656a9adb829369bff21": {
     "views": []
    },
    "f0aec33ef5b54ae4ae8da751a1af0feb": {
     "views": []
    },
    "f0c4cd2a0dea4ae3a0e3129ed067b2c5": {
     "views": []
    },
    "f1b51ba23b0d45958a42db28fb39b734": {
     "views": []
    },
    "f1b7e817ad2e4e1aa6bcb712535baa78": {
     "views": []
    },
    "f2409b821faa47b5b7b8bec830386f59": {
     "views": []
    },
    "f29956f071c24c6fa147c3b223ec4a81": {
     "views": []
    },
    "f2d56f08856b4b4fb2c056bea4289c8d": {
     "views": []
    },
    "f322b61ae98f49498b24b41c9ead3b50": {
     "views": []
    },
    "f5bf90776091443d841171914d0f1276": {
     "views": []
    },
    "f6257d5e4c5d425689657e85528cdbd3": {
     "views": []
    },
    "f638566384e54843af943de12cfc5938": {
     "views": []
    },
    "f77b3e576d3d40288d49820ac52c58c6": {
     "views": []
    },
    "f79d2c092e5a4735ab67761e763ab8d7": {
     "views": []
    },
    "f80e11df009f4621a3140faa26e44358": {
     "views": []
    },
    "f82fb815e5ae4da799f422b24469764f": {
     "views": []
    },
    "f837e22555df4bfab0dd3e5171f16df6": {
     "views": []
    },
    "f8599fbb40194fd9838e1bb0d4f8c009": {
     "views": []
    },
    "f8817e0472684245b0742dad9916cb23": {
     "views": []
    },
    "f8e0916032d14f7b8f0b07badc4357e1": {
     "views": []
    },
    "f8e1b279ec6349e98075578e4be2a8de": {
     "views": []
    },
    "f8fddf021084439193765bbb3ba20a72": {
     "views": []
    },
    "f92c9aafb4f644b0905b72c15c19e9b8": {
     "views": []
    },
    "f93dc66a08314e9b9865340f1a8930df": {
     "views": []
    },
    "f9b1554694634b2ab3d9e5c5e95ca97e": {
     "views": []
    },
    "f9ebc04588eb4355b03001f8739e3092": {
     "views": []
    },
    "fa552a65ff5d412bbd1aa3d5ee899676": {
     "views": []
    },
    "faf521655e0a4975b8eeb2b9ead54775": {
     "views": []
    },
    "fb88db0ea4a74243b5d8476b4e0d01a3": {
     "views": []
    },
    "fc5d2ce187554cd0a76fdfcbe487fdfc": {
     "views": []
    },
    "fd53590e206a41afa7c79281dd5ac65e": {
     "views": []
    },
    "fdc44ac8ef9f45f6b431d0a0db8cb288": {
     "views": []
    },
    "feb8f6faa0944aea9caf8f112e362711": {
     "views": []
    },
    "febe8cbab650457ca6e1591a0fa0f62c": {
     "views": []
    },
    "ff9274e20e4445368517cadc9a9fa6d8": {
     "views": []
    },
    "ff9399b565ac40a6adbaf0cf7e4772d5": {
     "views": []
    },
    "ffd8e37af97542ad945353ff6f8ec82d": {
     "views": []
    },
    "ffe03a19855d4dedb4609e51433f6de6": {
     "views": []
    },
    "fffbb1f4ebe74bdaa400f2bb1d180202": {
     "views": []
    }
   },
   "version": "1.1.2"
  }
 },
 "nbformat": 4,
 "nbformat_minor": 0
}
