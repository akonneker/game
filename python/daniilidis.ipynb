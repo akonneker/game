{
 "cells": [
  {
   "cell_type": "markdown",
   "metadata": {},
   "source": [
    "# Daniilidis calibration"
   ]
  },
  {
   "cell_type": "code",
   "execution_count": 2,
   "metadata": {
    "collapsed": true
   },
   "outputs": [],
   "source": [
    "from __future__ import print_function"
   ]
  },
  {
   "cell_type": "code",
   "execution_count": 3,
   "metadata": {
    "collapsed": true
   },
   "outputs": [],
   "source": [
    "import sys\n",
    "sys.path.append('../build/')"
   ]
  },
  {
   "cell_type": "code",
   "execution_count": 4,
   "metadata": {
    "collapsed": false
   },
   "outputs": [
    {
     "name": "stdout",
     "output_type": "stream",
     "text": [
      "Populating the interactive namespace from numpy and matplotlib\n"
     ]
    }
   ],
   "source": [
    "%pylab inline\n",
    "np.set_printoptions(precision=4, suppress=True)"
   ]
  },
  {
   "cell_type": "code",
   "execution_count": 5,
   "metadata": {
    "collapsed": true
   },
   "outputs": [],
   "source": [
    "import versor as vsr"
   ]
  },
  {
   "cell_type": "markdown",
   "metadata": {},
   "source": [
    "## Generate dataset"
   ]
  },
  {
   "cell_type": "code",
   "execution_count": 6,
   "metadata": {
    "collapsed": true
   },
   "outputs": [],
   "source": [
    "M_object_in_world = vsr.Vec(1.0,1.0,0.1).trs() * vsr.Biv(pi/4.0, 0.0,0.0).exp()\n",
    "M_eye_in_hand = vsr.Vec(0.1, 0.2, 0.3).trs() * vsr.Biv(0.0,1.0,0.0).exp()\n",
    "M_eye_in_hand_initial = vsr.Vec(0.11, 0.24, 0.36).trs() * (vsr.Biv(1.0,1.0,0.0).unit() * (np.pi/5.)).exp()"
   ]
  },
  {
   "cell_type": "code",
   "execution_count": 24,
   "metadata": {
    "collapsed": true
   },
   "outputs": [],
   "source": [
    "def hand_eye_pose_pairs(M_object_in_world, M_eye_in_hand, n):\n",
    "    pose_pairs = [\n",
    "            (M_hand_in_world, \n",
    "             (M_eye_in_hand.rev() * M_hand_in_world.rev() * M_object_in_world))\n",
    "            for M_hand_in_world in [vsr.Vec(*np.random.rand(3)).trs() *\n",
    "                                    vsr.Rot(vsr.Biv(*np.random.rand(3)).unit() *\n",
    "                                            np.random.rand() * np.pi)\n",
    "                                    for i in range(n)]]\n",
    "\n",
    "    As = [pose_pair[0] for pose_pair in pose_pairs]\n",
    "    Bs = [pose_pair[1] for pose_pair in pose_pairs]\n",
    "\n",
    "    LAs = []\n",
    "    LBs = []\n",
    "    for i in range(n):\n",
    "        for j in range(i+1,n):\n",
    "#             LAs.append(((As[j].rev() * As[i]).log() ))\n",
    "#             LBs.append(((Bs[j] * Bs[i].rev()).log() ))\n",
    "            LAs.append(vsr.Dll(*np.array(As[j].rev() * As[i])[1:7]))\n",
    "            LBs.append(vsr.Dll(*np.array(Bs[j] * Bs[i].rev())[1:7]))\n",
    "    return LAs, LBs"
   ]
  },
  {
   "cell_type": "code",
   "execution_count": 25,
   "metadata": {
    "collapsed": false
   },
   "outputs": [
    {
     "name": "stdout",
     "output_type": "stream",
     "text": [
      "45\n"
     ]
    }
   ],
   "source": [
    "n_lines = 10\n",
    "lines_a, lines_b = hand_eye_pose_pairs(M_object_in_world, M_eye_in_hand, n_lines)\n",
    "print(len(lines_a))"
   ]
  },
  {
   "cell_type": "code",
   "execution_count": 26,
   "metadata": {
    "collapsed": false
   },
   "outputs": [
    {
     "data": {
      "text/plain": [
       "array([ 1.,  1.,  1.,  1.,  1.,  1.])"
      ]
     },
     "execution_count": 26,
     "metadata": {},
     "output_type": "execute_result"
    }
   ],
   "source": [
    "np.ones(9)[1:7]"
   ]
  },
  {
   "cell_type": "code",
   "execution_count": 27,
   "metadata": {
    "collapsed": true
   },
   "outputs": [],
   "source": [
    "from scipy import linalg"
   ]
  },
  {
   "cell_type": "code",
   "execution_count": 28,
   "metadata": {
    "collapsed": true
   },
   "outputs": [],
   "source": [
    "def daniilidis_calibration(LAs, LBs):\n",
    "    def skew(v):\n",
    "        skv = roll(roll(diag(v.flatten()), 1, 1), -1, 0)\n",
    "        return skv - skv.T\n",
    "    \n",
    "    Ds = []\n",
    "    for LA, LB in zip(LAs, LBs):\n",
    "#         LA = LA.unit()\n",
    "#         LB = LB.unit()\n",
    "        D = np.zeros((6,8))\n",
    "        a = np.array(LA).copy()[:3]\n",
    "        a = np.array([a[2], -a[1], a[0]])\n",
    "        b = np.array(LB).copy()[:3]\n",
    "        b = np.array([b[2], -b[1], b[0]])\n",
    "        aprime = np.array(LA).copy()[3:]\n",
    "        bprime = np.array(LB).copy()[3:]\n",
    "\n",
    "        # Upper 3\n",
    "        D[:3,0] = a - b\n",
    "        D[:3,1:4] = skew(a + b)\n",
    "        # Lower 3\n",
    "        D[3:,0] = aprime - bprime\n",
    "        D[3:,1:4] = skew(aprime + bprime)\n",
    "        D[3:,4] = a - b \n",
    "        D[3:,5:8] = skew(a + b)  \n",
    "        Ds.append(D)\n",
    "    Ds = np.array(Ds).reshape(-1,8)\n",
    "    \n",
    "#     [U, s, Vt] = linalg.svd(Ds, full_matrices=True)\n",
    "    [U, s, Vt] = np.linalg.svd(Ds)\n",
    "\n",
    "    v7 = Vt.T[:,-2]\n",
    "    v8 = Vt.T[:,-1]\n",
    "    u1 = v7[:4]\n",
    "    v1 = v7[4:]\n",
    "    u2 = v8[:4]\n",
    "    v2 = v8[4:]\n",
    "    \n",
    "    a = np.inner(u1,v1)\n",
    "    b = np.inner(u1,v2) + np.inner(u2,v1)\n",
    "    c = np.inner(u2,v2)\n",
    "    [s1, s2] = np.roots([a,b,c])\n",
    "    \n",
    "    val1 = (s1**2 * np.inner(u1,u1)) + (2 * s1 * np.inner(u1,u2)) + (np.inner(u2,u2))\n",
    "    val2 = (s2**2 * np.inner(u1,u1)) + (2 * s2 * np.inner(u1,u2)) + (np.inner(u2,u2))\n",
    "\n",
    "    if val1 > val2:\n",
    "        s = s1\n",
    "        val = val1\n",
    "    else:\n",
    "        s = s2\n",
    "        val = val2\n",
    "\n",
    "    lambda2 = np.sqrt(1./val)\n",
    "    lambda1 = s * lambda2\n",
    "    \n",
    "    m_arr = lambda1 * v7 + lambda2 * v8\n",
    "    m_arr[1:4] = np.array([m_arr[3], -m_arr[2], m_arr[1]])\n",
    "    m_arr[4:8] = np.roll(m_arr[4:8], -1)\n",
    "    \n",
    "    return vsr.Mot(*m_arr), Ds"
   ]
  },
  {
   "cell_type": "code",
   "execution_count": 29,
   "metadata": {
    "collapsed": false
   },
   "outputs": [],
   "source": [
    "estimated_motor, D = daniilidis_calibration(lines_b, lines_a)"
   ]
  },
  {
   "cell_type": "markdown",
   "metadata": {},
   "source": [
    "## Check solution"
   ]
  },
  {
   "cell_type": "code",
   "execution_count": 30,
   "metadata": {
    "collapsed": false
   },
   "outputs": [
    {
     "data": {
      "text/plain": [
       "Mot: [ 1 0 -8.5e-33 0 -4.2e-18 0 -1.5e-18 0.18 ]"
      ]
     },
     "execution_count": 30,
     "metadata": {},
     "output_type": "execute_result"
    }
   ],
   "source": [
    "estimated_motor * estimated_motor.rev()"
   ]
  },
  {
   "cell_type": "code",
   "execution_count": 31,
   "metadata": {
    "collapsed": false
   },
   "outputs": [
    {
     "data": {
      "text/plain": [
       "array([[-0.4161, -0.    , -0.9093,  0.1   ],\n",
       "       [-0.    ,  1.    , -0.    , -0.0832],\n",
       "       [ 0.9093,  0.    , -0.4161,  0.3   ],\n",
       "       [ 0.    ,  0.    ,  0.    ,  0.    ]])"
      ]
     },
     "execution_count": 31,
     "metadata": {},
     "output_type": "execute_result"
    }
   ],
   "source": [
    "estimated_motor.matrix()"
   ]
  },
  {
   "cell_type": "code",
   "execution_count": 37,
   "metadata": {
    "collapsed": false
   },
   "outputs": [
    {
     "data": {
      "text/plain": [
       "array([[-0.4161,  0.    , -0.9093,  0.1   ],\n",
       "       [ 0.    ,  1.    ,  0.    ,  0.2   ],\n",
       "       [ 0.9093,  0.    , -0.4161,  0.3   ],\n",
       "       [ 0.    ,  0.    ,  0.    ,  0.    ]])"
      ]
     },
     "execution_count": 37,
     "metadata": {},
     "output_type": "execute_result"
    }
   ],
   "source": [
    "M_eye_in_hand.matrix()"
   ]
  },
  {
   "cell_type": "code",
   "execution_count": 26,
   "metadata": {
    "collapsed": false
   },
   "outputs": [
    {
     "ename": "IndentationError",
     "evalue": "unexpected indent (<ipython-input-26-ca12279846f6>, line 3)",
     "output_type": "error",
     "traceback": [
      "\u001b[0;36m  File \u001b[0;32m\"<ipython-input-26-ca12279846f6>\"\u001b[0;36m, line \u001b[0;32m3\u001b[0m\n\u001b[0;31m    get_ipython().magic(u'Get n')\u001b[0m\n\u001b[0m    ^\u001b[0m\n\u001b[0;31mIndentationError\u001b[0m\u001b[0;31m:\u001b[0m unexpected indent\n"
     ]
    }
   ],
   "source": [
    "function [Hcam2marker_, err] = hand_eye_dual_quaternion(Hmarker2world, Hgrid2cam)\n",
    "%Our quaternions are like this (q1 q2 q3,s )\n",
    "    %Get n\n",
    "    n = size(Hmarker2world,3);\n",
    "    %Make movements (a,B) which are interposition transformations\n",
    "    %(marker2wordl and cam2grid)\n",
    "    %transform A,B into dual quaternions        \n",
    "    for i=1:n-1\n",
    "        A = inv(Hmarker2world(:,:,i+1))*Hmarker2world(:,:,i);\n",
    "        B = Hgrid2cam(:,:,i+1)*inv(Hgrid2cam(:,:,i));         \n",
    "        [q,qprime] = getDualQuaternion(A(1:3,1:3),A(1:3,4));               \n",
    "        Qa(i).q = q;\n",
    "        Qa(i).qprime = qprime;\n",
    "\n",
    "        [q,qprime] = getDualQuaternion(B(1:3,1:3),B(1:3,4));                \n",
    "        Qb(i).q = q;\n",
    "        Qb(i).qprime = qprime;\n",
    "    end\n",
    "    \n",
    "    %The dual quaternion is (Q.q + epsilon*Q.prime)\n",
    "    %a = Qa.q, a' = Qa.prime  idem for b\n",
    "    S = [];\n",
    "    for i=1:n-1\n",
    "        S(:,:,i) = [Qa(i).q(1:3)-Qb(i).q(1:3)   crossprod(Qa(i).q(1:3)+Qb(i).q(1:3)) zeros(3,1) zeros(3,3);...\n",
    "                    Qa(i).qprime(1:3)-Qb(i).qprime(1:3)   crossprod(Qa(i).qprime(1:3)+Qb(i).qprime(1:3)) Qa(i).q(1:3)-Qb(i).q(1:3)   crossprod(Qa(i).q(1:3)+Qb(i).q(1:3))];                                \n",
    "    end  \n",
    "    \n",
    "    %Construct T\n",
    "    T = [];    \n",
    "    for i=1:n-1\n",
    "        T = [T  S(:,:,i)'];      \n",
    "    end\n",
    "    \n",
    "    T = T';\n",
    "    %SVD \n",
    "    [U,S,V] = svd(T);\n",
    "    \n",
    "    %Solution, right null vectors of T\n",
    "    v7 = V(:,7);\n",
    "    v8 = V(:,8);\n",
    "    \n",
    "    u1 = v7(1:4);\n",
    "    v1 = v7(5:8);\n",
    "    \n",
    "    u2 = v8(1:4);\n",
    "    v2 = v8(5:8);\n",
    "    %Now lambda1*v7+lambda2*v8 = [q;qprime]\n",
    "    %\n",
    "    %or other:\n",
    "    %\n",
    "    %lambda1^2*u1'*u1+2*lambda1*lambda2*u1'*u2+lambda2^2*u2'*u2 = 1   \n",
    "    %and\n",
    "    %lambda1^2*u1'*v1 + lambda1*lambda2*(u1'*v2+u2'*v1)+lambda2*u2'*v1 = 0\n",
    "    %Setting lambda1/lambda2 = s\n",
    "    %lambda1^2/lambda2^2*u1'*v1 + lambda1*lambda2/lambda2^2*(u1'*v2+u2'*v1)+lambda2^2/lambda2^2*u2'*v1 = 0\n",
    "    %s^2*u1'*v1 + s*(u1'*v2+u2'*v1)+u2'*v1 = 0\n",
    "    %s^2*u1'*v1 + s*(u1'*v2+u2'*v1)+u2'*v1 = 0\n",
    "    a = u1'*v1;\n",
    "    b = (u1'*v2+u2'*v1);\n",
    "%     c = u2'*v1;\n",
    "    c = u2'*v2 ;\n",
    "    s = roots([a b c]);\n",
    "    \n",
    "    %insert into equation\n",
    "    val1 = s(1)^2*u1'*u1+2*s(1)*u1'*u2+u2'*u2;\n",
    "    val2 = s(2)^2*u1'*u1+2*s(2)*u1'*u2+u2'*u2;\n",
    "    %Take bigger value\n",
    "    if(val1>val2)\n",
    "        s = s(1);\n",
    "        val = val1;\n",
    "    else\n",
    "        s = s(2);\n",
    "        val = val2;\n",
    "    end\n",
    "    %Get lambdas\n",
    "    lambda2 = sqrt(1/val);\n",
    "    lambda1 = s*lambda2;\n",
    "    \n",
    "    %This algorithm gives quaternion with the form of (s, q1 q2\n",
    "    %q3)->contrary to the notation we used above (q1 q2 q3,s )\n",
    "    %Therefore we must rearrange the elements!        \n",
    "    qfinal = lambda1*v7+lambda2*v8;    \n",
    "    q = [qfinal(2:4);qfinal(1)];\n",
    "    qprime = [qfinal(6:8);qfinal(5)];\n",
    "    \n",
    "    %Extract transformation\n",
    "    R = q2dcm(q);    \n",
    "    t = 2*qmult(qprime,qconj(q));\n",
    "    t = t(1:3);\n",
    "    \n",
    "    %Assign output arguments\n",
    "    Hcam2marker_ = [R -R*t;[0 0 0 1]]^-1;    \n",
    "    err=[];\n",
    "    \n",
    "\n",
    "\n",
    "    \n",
    "\n"
   ]
  },
  {
   "cell_type": "code",
   "execution_count": null,
   "metadata": {
    "collapsed": true
   },
   "outputs": [],
   "source": [
    "#Creates a dual quaternion from a rotation matrix and a translation vector    \n",
    "def getDualQuaternion(R,t)    \n",
    "    %Conversion from R,t to the screw representation [d,theta,l,m]\n",
    "    \n",
    "    r = rodrigues(R);\n",
    "    theta = norm(r);\n",
    "    l = r/norm(theta);\n",
    "    %Pitch d\n",
    "    d = l'*t;    \n",
    "    %Make point c\n",
    "    c = .5*(t-d*l)+cot(theta/2)*cross(l,t);\n",
    "    %moment vector\n",
    "    m = cross(c,l);\n",
    "    %Rotation quaternion\n",
    "    %(q1 q2 q3,s )\n",
    "    q = [sin(theta/2)*l; cos(theta/2)];\n",
    "    %Get dual\n",
    "    qprime = [.5*(q(4)*t+cross(t,q(1:3)));-.5*q(1:3)'*t];"
   ]
  }
 ],
 "metadata": {
  "kernelspec": {
   "display_name": "Python 2",
   "language": "python",
   "name": "python2"
  },
  "language_info": {
   "codemirror_mode": {
    "name": "ipython",
    "version": 2
   },
   "file_extension": ".py",
   "mimetype": "text/x-python",
   "name": "python",
   "nbconvert_exporter": "python",
   "pygments_lexer": "ipython2",
   "version": "2.7.11"
  }
 },
 "nbformat": 4,
 "nbformat_minor": 0
}
