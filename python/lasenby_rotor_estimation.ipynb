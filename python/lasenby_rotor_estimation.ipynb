{
 "cells": [
  {
   "cell_type": "markdown",
   "metadata": {},
   "source": [
    "# Lasenby Rotor Estimation"
   ]
  },
  {
   "cell_type": "code",
   "execution_count": 1,
   "metadata": {
    "collapsed": true
   },
   "outputs": [],
   "source": [
    "from __future__ import print_function"
   ]
  },
  {
   "cell_type": "code",
   "execution_count": 2,
   "metadata": {
    "collapsed": true
   },
   "outputs": [],
   "source": [
    "import sys\n",
    "sys.path.append('../build/')"
   ]
  },
  {
   "cell_type": "code",
   "execution_count": 93,
   "metadata": {
    "collapsed": false
   },
   "outputs": [
    {
     "name": "stdout",
     "output_type": "stream",
     "text": [
      "Populating the interactive namespace from numpy and matplotlib\n"
     ]
    }
   ],
   "source": [
    "%pylab inline\n",
    "np.set_printoptions(precision=4, suppress=True)"
   ]
  },
  {
   "cell_type": "code",
   "execution_count": 94,
   "metadata": {
    "collapsed": true
   },
   "outputs": [],
   "source": [
    "import versor as vsr"
   ]
  },
  {
   "cell_type": "markdown",
   "metadata": {},
   "source": [
    "## Generate Dataset"
   ]
  },
  {
   "cell_type": "code",
   "execution_count": 95,
   "metadata": {
    "collapsed": false
   },
   "outputs": [
    {
     "name": "stdout",
     "output_type": "stream",
     "text": [
      "Rot: [ 0.87 -0.29 -0.29 -0.29 ]\n"
     ]
    }
   ],
   "source": [
    "rotor = (vsr.Biv(1,1,1).unit() * pi/6.0  ).exp()\n",
    "print(rotor)"
   ]
  },
  {
   "cell_type": "code",
   "execution_count": 96,
   "metadata": {
    "collapsed": false
   },
   "outputs": [],
   "source": [
    "n_vectors = 10\n",
    "sigma = 0.09\n",
    "vectors_a = [vsr.Vec(*np.random.normal(0.0, 0.8, 3)).unit()\n",
    "            for i in range(n_vectors)]\n",
    "vectors_b = [vector.spin(rotor) for vector in vectors_a]\n",
    "vectors_b_noisy = [vsr.Vec(*(np.array(vector)[:3] \n",
    "                            + sigma * np.random.randn(3))) \n",
    "                  for vector in vectors_b]"
   ]
  },
  {
   "cell_type": "code",
   "execution_count": 114,
   "metadata": {
    "collapsed": false
   },
   "outputs": [
    {
     "name": "stdout",
     "output_type": "stream",
     "text": [
      "[[ 0.6667 -0.6667 -0.3333]\n",
      " [ 0.3333  0.6667 -0.6667]\n",
      " [ 0.6667  0.3333  0.6667]]\n"
     ]
    }
   ],
   "source": [
    "F = np.zeros((3,3))\n",
    "for i in range(3):\n",
    "    for j in range(3):\n",
    "        sigma_i = vsr.Vec(0,0,0)\n",
    "        sigma_j = vsr.Vec(0,0,0)\n",
    "        sigma_i[i] = 1.0\n",
    "        sigma_j[j] = 1.0\n",
    "        F[i,j] = np.sum([(sigma_i <= ui) * (sigma_j <= vi) \n",
    "                         for ui, vi in zip(vectors_a, vectors_b)  ] )\n",
    "U, s, Vt = np.linalg.svd(F)\n",
    "R_lasenby = np.dot(Vt.T,U.T)\n",
    "print(R_lasenby)"
   ]
  },
  {
   "cell_type": "code",
   "execution_count": 122,
   "metadata": {
    "collapsed": false
   },
   "outputs": [
    {
     "name": "stdout",
     "output_type": "stream",
     "text": [
      "[[ 0.6667 -0.6667 -0.3333]\n",
      " [ 0.3333  0.6667 -0.6667]\n",
      " [ 0.6667  0.3333  0.6667]]\n"
     ]
    }
   ],
   "source": [
    "U, _, Vt = np.linalg.svd(np.sum([np.outer(np.array(ui), np.array(vi)) \n",
    "                                 for ui, vi in zip(vectors_a, vectors_b)], 0))\n",
    "R_lasenby = np.dot(Vt.T,U.T)\n",
    "print(R_lasenby)"
   ]
  },
  {
   "cell_type": "code",
   "execution_count": 123,
   "metadata": {
    "collapsed": false
   },
   "outputs": [],
   "source": [
    "R_real = np.array([np.array(vsr.Vec(1,0,0).spin(rotor)), \n",
    "                   np.array(vsr.Vec(0,1,0).spin(rotor)), \n",
    "                   np.array(vsr.Vec(0,0,1).spin(rotor))]).T"
   ]
  },
  {
   "cell_type": "code",
   "execution_count": 124,
   "metadata": {
    "collapsed": false
   },
   "outputs": [
    {
     "data": {
      "text/plain": [
       "True"
      ]
     },
     "execution_count": 124,
     "metadata": {},
     "output_type": "execute_result"
    }
   ],
   "source": [
    "np.allclose(R_lasenby, R_real)"
   ]
  },
  {
   "cell_type": "code",
   "execution_count": null,
   "metadata": {
    "collapsed": true
   },
   "outputs": [],
   "source": []
  }
 ],
 "metadata": {
  "kernelspec": {
   "display_name": "Python 2",
   "language": "python",
   "name": "python2"
  },
  "language_info": {
   "codemirror_mode": {
    "name": "ipython",
    "version": 2
   },
   "file_extension": ".py",
   "mimetype": "text/x-python",
   "name": "python",
   "nbconvert_exporter": "python",
   "pygments_lexer": "ipython2",
   "version": "2.7.11+"
  }
 },
 "nbformat": 4,
 "nbformat_minor": 0
}
