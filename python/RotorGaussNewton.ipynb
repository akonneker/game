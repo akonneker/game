{
 "cells": [
  {
   "cell_type": "code",
   "execution_count": 1,
   "metadata": {
    "collapsed": false
   },
   "outputs": [
    {
     "name": "stdout",
     "output_type": "stream",
     "text": [
      "Populating the interactive namespace from numpy and matplotlib\n"
     ]
    }
   ],
   "source": [
    "from __future__ import print_function\n",
    "import sys\n",
    "sys.path.append('../build/')\n",
    "%pylab inline\n",
    "np.set_printoptions(precision=4, suppress=True)\n",
    "import versor as vsr\n",
    "import motor_jacobian"
   ]
  },
  {
   "cell_type": "code",
   "execution_count": 2,
   "metadata": {
    "collapsed": false
   },
   "outputs": [
    {
     "name": "stdout",
     "output_type": "stream",
     "text": [
      "Rot: [ 0.87 -0.5 0 0 ]\n"
     ]
    }
   ],
   "source": [
    "rotor = (vsr.Biv(1,0,0).unit() * pi/6).exp()\n",
    "rotor0 = vsr.Biv(pi/2, 0.0, 0.0).exp()\n",
    "print(rotor)"
   ]
  },
  {
   "cell_type": "code",
   "execution_count": 3,
   "metadata": {
    "collapsed": false
   },
   "outputs": [],
   "source": [
    "vectors_a = [vsr.Vec(1,0,0), vsr.Vec(0,1,0), vsr.Vec(0,0,1)]\n",
    "vectors_b = [a.spin(rotor) for a in vectors_a]"
   ]
  },
  {
   "cell_type": "code",
   "execution_count": 4,
   "metadata": {
    "collapsed": false
   },
   "outputs": [],
   "source": [
    "n_points=10\n",
    "vectors_a = [vsr.Vec(*np.random.normal(0.0, 0.8, 3)) for i in range(n_points)]\n",
    "vectors_b = [vector.spin(rotor) for vector in vectors_a]"
   ]
  },
  {
   "cell_type": "code",
   "execution_count": 5,
   "metadata": {
    "collapsed": false
   },
   "outputs": [],
   "source": [
    " def jacrot(a, rot):\n",
    "    j = np.zeros((3,3))\n",
    "    for i in range(3):\n",
    "        biv = vsr.Biv(0.0, 0.0, 0.0)\n",
    "        biv[i] = 1.0\n",
    "        j[:,i] = 2.0 * np.array(biv.comm(a.spin(rot))) # Wrong sign?\n",
    "    return j\n"
   ]
  },
  {
   "cell_type": "code",
   "execution_count": 6,
   "metadata": {
    "collapsed": false
   },
   "outputs": [],
   "source": [
    "# motor_jacobian.diff_rotor_cost(rotor, a, b)"
   ]
  },
  {
   "cell_type": "code",
   "execution_count": 7,
   "metadata": {
    "collapsed": false
   },
   "outputs": [
    {
     "data": {
      "text/plain": [
       "array([[-1.8896,  0.6041,  0.    ],\n",
       "       [ 2.0862,  0.    ,  0.6041],\n",
       "       [ 0.    ,  2.0862,  1.8896]])"
      ]
     },
     "execution_count": 7,
     "metadata": {},
     "output_type": "execute_result"
    }
   ],
   "source": [
    "J = jacrot(vectors_a[0], rotor)\n",
    "J"
   ]
  },
  {
   "cell_type": "code",
   "execution_count": 8,
   "metadata": {
    "collapsed": false
   },
   "outputs": [],
   "source": [
    "def make_skew(a):\n",
    "    temp = a[:,2].copy()\n",
    "    a[:,2] = a[:,0].copy()\n",
    "    a[:,0] = temp\n",
    "    a[:,1] *= -1.0\n",
    "#     a\n",
    "#     a = np.roll(a,1)\n",
    "    return a"
   ]
  },
  {
   "cell_type": "code",
   "execution_count": 9,
   "metadata": {
    "collapsed": false
   },
   "outputs": [
    {
     "data": {
      "text/plain": [
       "array([[ 0.    , -0.3021, -0.9448],\n",
       "       [ 0.3021, -0.    ,  1.0431],\n",
       "       [ 0.9448, -1.0431,  0.    ]])"
      ]
     },
     "execution_count": 9,
     "metadata": {},
     "output_type": "execute_result"
    }
   ],
   "source": [
    "make_skew(J) * 0.5"
   ]
  },
  {
   "cell_type": "code",
   "execution_count": 10,
   "metadata": {
    "collapsed": false
   },
   "outputs": [],
   "source": [
    "temp = J[:,2]"
   ]
  },
  {
   "cell_type": "code",
   "execution_count": 11,
   "metadata": {
    "collapsed": false
   },
   "outputs": [
    {
     "data": {
      "text/plain": [
       "array([[ 0.    , -0.6041,  0.    ],\n",
       "       [ 0.6041, -0.    ,  0.6041],\n",
       "       [ 1.8896, -2.0862,  1.8896]])"
      ]
     },
     "execution_count": 11,
     "metadata": {},
     "output_type": "execute_result"
    }
   ],
   "source": [
    "J[:,2] = J[:,0]\n",
    "J[:,0] = temp\n",
    "J"
   ]
  },
  {
   "cell_type": "code",
   "execution_count": 12,
   "metadata": {
    "collapsed": true
   },
   "outputs": [],
   "source": [
    "def resrot(a,b,rot):\n",
    "    return np.array(b - a.spin(rot)).reshape(-1,1)"
   ]
  },
  {
   "cell_type": "code",
   "execution_count": 13,
   "metadata": {
    "collapsed": false
   },
   "outputs": [
    {
     "name": "stdout",
     "output_type": "stream",
     "text": [
      "[[-0.8619  0.6041  0.    ]\n",
      " [-2.6795  0.      0.6041]\n",
      " [ 0.     -2.6795  0.8619]]\n"
     ]
    }
   ],
   "source": [
    "a = vectors_a[0]\n",
    "b = vectors_b[0]\n",
    "J = jacrot(a, rotor0)\n",
    "print(J)"
   ]
  },
  {
   "cell_type": "code",
   "execution_count": 14,
   "metadata": {
    "collapsed": false
   },
   "outputs": [
    {
     "data": {
      "text/plain": [
       "Biv: [ -3.431 1.44 0.3104 ]"
      ]
     },
     "execution_count": 14,
     "metadata": {},
     "output_type": "execute_result"
    }
   ],
   "source": [
    "a.spin(rotor0) ^ b * 2"
   ]
  },
  {
   "cell_type": "code",
   "execution_count": 15,
   "metadata": {
    "collapsed": false
   },
   "outputs": [
    {
     "ename": "MemoryError",
     "evalue": "std::bad_alloc",
     "output_type": "error",
     "traceback": [
      "\u001b[0;31m---------------------------------------------------------------------------\u001b[0m",
      "\u001b[0;31mMemoryError\u001b[0m                               Traceback (most recent call last)",
      "\u001b[0;32m<ipython-input-15-6b2fbd13e3fb>\u001b[0m in \u001b[0;36m<module>\u001b[0;34m()\u001b[0m\n\u001b[0;32m----> 1\u001b[0;31m \u001b[0mmotor_jacobian\u001b[0m\u001b[0;34m.\u001b[0m\u001b[0mouter_product\u001b[0m\u001b[0;34m(\u001b[0m\u001b[0ma\u001b[0m\u001b[0;34m,\u001b[0m\u001b[0mb\u001b[0m\u001b[0;34m,\u001b[0m\u001b[0mrotor\u001b[0m\u001b[0;34m)\u001b[0m\u001b[0;34m\u001b[0m\u001b[0m\n\u001b[0m",
      "\u001b[0;31mMemoryError\u001b[0m: std::bad_alloc"
     ]
    }
   ],
   "source": [
    "motor_jacobian.outer_product(a,b,rotor)"
   ]
  },
  {
   "cell_type": "code",
   "execution_count": 16,
   "metadata": {
    "collapsed": false
   },
   "outputs": [
    {
     "name": "stdout",
     "output_type": "stream",
     "text": [
      "[[-2.3829]\n",
      " [-0.5138]\n",
      " [ 0.    ]]\n"
     ]
    }
   ],
   "source": [
    "f = resrot(a,b,rotor0)\n",
    "print(f)"
   ]
  },
  {
   "cell_type": "code",
   "execution_count": 17,
   "metadata": {
    "collapsed": false
   },
   "outputs": [
    {
     "data": {
      "text/plain": [
       "array([[ 3.4307],\n",
       "       [-1.4396],\n",
       "       [-0.3104]])"
      ]
     },
     "execution_count": 17,
     "metadata": {},
     "output_type": "execute_result"
    }
   ],
   "source": [
    "np.dot(J.T,f)"
   ]
  },
  {
   "cell_type": "code",
   "execution_count": 18,
   "metadata": {
    "collapsed": false
   },
   "outputs": [
    {
     "data": {
      "text/plain": [
       "Biv: [ -1.715 0.7198 0.1552 ]"
      ]
     },
     "execution_count": 18,
     "metadata": {},
     "output_type": "execute_result"
    }
   ],
   "source": [
    "a.spin(rotor0) ^ b"
   ]
  },
  {
   "cell_type": "code",
   "execution_count": 19,
   "metadata": {
    "collapsed": false
   },
   "outputs": [
    {
     "data": {
      "text/plain": [
       "Biv: [ 1.715 -0.08961 0.4156 ]"
      ]
     },
     "execution_count": 19,
     "metadata": {},
     "output_type": "execute_result"
    }
   ],
   "source": [
    "a ^ b"
   ]
  },
  {
   "cell_type": "code",
   "execution_count": 20,
   "metadata": {
    "collapsed": false
   },
   "outputs": [
    {
     "ename": "TypeError",
     "evalue": "Required argument 'a' (pos 1) not found",
     "output_type": "error",
     "traceback": [
      "\u001b[0;31m---------------------------------------------------------------------------\u001b[0m",
      "\u001b[0;31mTypeError\u001b[0m                                 Traceback (most recent call last)",
      "\u001b[0;32m<ipython-input-20-e2ac952a0daf>\u001b[0m in \u001b[0;36m<module>\u001b[0;34m()\u001b[0m\n\u001b[0;32m----> 1\u001b[0;31m \u001b[0mnp\u001b[0m\u001b[0;34m.\u001b[0m\u001b[0mdot\u001b[0m\u001b[0;34m(\u001b[0m\u001b[0;34m)\u001b[0m\u001b[0;34m\u001b[0m\u001b[0m\n\u001b[0m",
      "\u001b[0;31mTypeError\u001b[0m: Required argument 'a' (pos 1) not found"
     ]
    }
   ],
   "source": [
    "np.dot()"
   ]
  },
  {
   "cell_type": "code",
   "execution_count": 21,
   "metadata": {
    "collapsed": false
   },
   "outputs": [
    {
     "data": {
      "text/plain": [
       "array([[ 7.9228, -0.5207, -1.6188],\n",
       "       [-0.5207,  7.5449, -2.3095],\n",
       "       [-1.6188, -2.3095,  1.1079]])"
      ]
     },
     "execution_count": 21,
     "metadata": {},
     "output_type": "execute_result"
    }
   ],
   "source": [
    "np.dot(J.T, J)"
   ]
  },
  {
   "cell_type": "code",
   "execution_count": 22,
   "metadata": {
    "collapsed": false
   },
   "outputs": [
    {
     "ename": "NameError",
     "evalue": "name 'B' is not defined",
     "output_type": "error",
     "traceback": [
      "\u001b[0;31m---------------------------------------------------------------------------\u001b[0m",
      "\u001b[0;31mNameError\u001b[0m                                 Traceback (most recent call last)",
      "\u001b[0;32m<ipython-input-22-30cf3d7d133b>\u001b[0m in \u001b[0;36m<module>\u001b[0;34m()\u001b[0m\n\u001b[0;32m----> 1\u001b[0;31m \u001b[0mB\u001b[0m\u001b[0;34m\u001b[0m\u001b[0m\n\u001b[0m",
      "\u001b[0;31mNameError\u001b[0m: name 'B' is not defined"
     ]
    }
   ],
   "source": [
    "B"
   ]
  },
  {
   "cell_type": "code",
   "execution_count": 23,
   "metadata": {
    "collapsed": false
   },
   "outputs": [
    {
     "data": {
      "text/plain": [
       "array([[ 0.    , -0.1552,  0.7198],\n",
       "       [ 0.1552,  0.    ,  1.7153],\n",
       "       [-0.7198, -1.7153,  0.    ]])"
      ]
     },
     "execution_count": 23,
     "metadata": {},
     "output_type": "execute_result"
    }
   ],
   "source": [
    "def Hess2(a,b,rot):\n",
    "    H = np.zeros((3,3))\n",
    "    B = a.spin(rot) ^ b\n",
    "    for i in range(3):\n",
    "        ei = vsr.Biv(0.0, 0.0, 0.0)\n",
    "        ei[i] = 1.0\n",
    "        H[:,i] = ei.comm(B)\n",
    "    return H\n",
    "Hess2(a,b,rotor0)"
   ]
  },
  {
   "cell_type": "code",
   "execution_count": 24,
   "metadata": {
    "collapsed": false
   },
   "outputs": [
    {
     "data": {
      "text/plain": [
       "Vec: [ -1.3 0.43 0.3 ]"
      ]
     },
     "execution_count": 24,
     "metadata": {},
     "output_type": "execute_result"
    }
   ],
   "source": [
    "a"
   ]
  },
  {
   "cell_type": "code",
   "execution_count": 26,
   "metadata": {
    "collapsed": false
   },
   "outputs": [
    {
     "data": {
      "text/plain": [
       "array([[-3.4641, -0.    , -0.    ],\n",
       "       [-0.    , -3.4641,  2.    ],\n",
       "       [-0.    , -2.    , -3.4641]])"
      ]
     },
     "execution_count": 26,
     "metadata": {},
     "output_type": "execute_result"
    }
   ],
   "source": [
    " def Hess(a,b, rot):\n",
    "    j = np.zeros((3,3))\n",
    "    R = vsr.EGA(rot)\n",
    "    a = vsr.EGA(a)\n",
    "    b = vsr.EGA(b)\n",
    "    for i in range(3):\n",
    "        ei = vsr.Biv(0.0, 0.0, 0.0)\n",
    "        ei[i] = 1.0\n",
    "        ei = vsr.EGA(ei)\n",
    "        j[:,i] = -2.0 * np.array(((ei * a * R.rev() * b - b * R * a * ei.rev())))[4:7]\n",
    "    return j\n",
    "rotor = (vsr.Biv(1,0,0).unit() * pi/6).exp()\n",
    "a = vsr.Vec(1,0,0)\n",
    "b = a.spin(rotor)\n",
    "Hess(a,b,rotor)\n",
    "# np.sum([Hess(a,b,rotor0) for a,b in zip(vectors_a, vectors_b)], axis=0)"
   ]
  },
  {
   "cell_type": "code",
   "execution_count": null,
   "metadata": {
    "collapsed": false
   },
   "outputs": [],
   "source": [
    "j = np.zeros((3,3))\n",
    "R = vsr.EGA(rotor)\n",
    "a = vsr.EGA(vectors_a[0])\n",
    "b = vsr.EGA(vectors_b[0])\n",
    "for i in range(3):\n",
    "    ei = vsr.Biv(0.0, 0.0, 0.0)\n",
    "    ei[i] = 1.0\n",
    "    ei = vsr.EGA(ei)\n",
    "#     print(((R * a * ei.rev()) ^ b)  + ((ei * a * R.rev()) ^ b) )\n",
    "    j[:,i] = -2.0 * np.array(((R * a * ei.rev() + ei * a * R.rev()) ^ b))[4:7]\n",
    "j"
   ]
  },
  {
   "cell_type": "code",
   "execution_count": null,
   "metadata": {
    "collapsed": false
   },
   "outputs": [],
   "source": [
    "# np.array([motor_jacobian.outer_product(a, b, rotor0)[:,1:] for a,b in zip(vectors_a, vectors_b)]).reshape(1,3)"
   ]
  },
  {
   "cell_type": "code",
   "execution_count": null,
   "metadata": {
    "collapsed": false
   },
   "outputs": [],
   "source": [
    "# motor_jacobian.outer_product(a, b, rotor0)"
   ]
  },
  {
   "cell_type": "code",
   "execution_count": null,
   "metadata": {
    "collapsed": false
   },
   "outputs": [],
   "source": [
    "a.spin(b)"
   ]
  },
  {
   "cell_type": "code",
   "execution_count": null,
   "metadata": {
    "collapsed": false
   },
   "outputs": [],
   "source": [
    "np.sum([motor_jacobian.outer_product(a, b, rotor0)[:,1:] for a,b in zip(vectors_a, vectors_b)], axis=0)"
   ]
  },
  {
   "cell_type": "code",
   "execution_count": null,
   "metadata": {
    "collapsed": false
   },
   "outputs": [],
   "source": [
    "np.array([motor_jacobian.outer_product(a, b, rotor0)[:,1:] for a,b in zip(vectors_a, vectors_b)])"
   ]
  },
  {
   "cell_type": "code",
   "execution_count": null,
   "metadata": {
    "collapsed": false
   },
   "outputs": [],
   "source": [
    "np.dot(J.T,J)"
   ]
  },
  {
   "cell_type": "code",
   "execution_count": null,
   "metadata": {
    "collapsed": false
   },
   "outputs": [],
   "source": [
    "Hess(vectors_a[0], vectors_b[0], rotor0)"
   ]
  },
  {
   "cell_type": "code",
   "execution_count": null,
   "metadata": {
    "collapsed": false
   },
   "outputs": [],
   "source": [
    "a_ = vsr.EGA(a.spin(rotor0))\n",
    "b_ = vsr.EGA(b)\n",
    "ei = vsr.Biv(0.0, 0.0, 0.0)\n",
    "ej = vsr.Biv(0.0, 0.0, 0.0)"
   ]
  },
  {
   "cell_type": "code",
   "execution_count": null,
   "metadata": {
    "collapsed": false
   },
   "outputs": [],
   "source": [
    "rotor0 * a *  vsr.Biv(1,0,0) "
   ]
  },
  {
   "cell_type": "code",
   "execution_count": null,
   "metadata": {
    "collapsed": false
   },
   "outputs": [],
   "source": [
    "[np.array(-2 * a ^ b)[4:6] for "
   ]
  },
  {
   "cell_type": "code",
   "execution_count": null,
   "metadata": {
    "collapsed": false
   },
   "outputs": [],
   "source": [
    "(a_ <= ei)"
   ]
  },
  {
   "cell_type": "code",
   "execution_count": null,
   "metadata": {
    "collapsed": false
   },
   "outputs": [],
   "source": [
    "(a_ <= ei) <= ei"
   ]
  },
  {
   "cell_type": "code",
   "execution_count": null,
   "metadata": {
    "collapsed": false
   },
   "outputs": [],
   "source": [
    "a_.comm(ei)"
   ]
  },
  {
   "cell_type": "code",
   "execution_count": null,
   "metadata": {
    "collapsed": false
   },
   "outputs": [],
   "source": [
    "vsr.Biv(1,0,0).rev() * vsr.Biv(1,0,0).rev()"
   ]
  },
  {
   "cell_type": "code",
   "execution_count": null,
   "metadata": {
    "collapsed": false
   },
   "outputs": [],
   "source": [
    "Hess(a,rotor0);"
   ]
  },
  {
   "cell_type": "code",
   "execution_count": null,
   "metadata": {
    "collapsed": false
   },
   "outputs": [],
   "source": [
    "J = np.array([jacrot(a, rotor0) for a in vectors_a]).reshape(-1,3)\n",
    "g = np.array([resrot(a,b,rotor0) for a,b in zip(vectors_a, vectors_b)]).reshape(-1,1)\n",
    "np.dot(J.T,g)"
   ]
  },
  {
   "cell_type": "code",
   "execution_count": null,
   "metadata": {
    "collapsed": false
   },
   "outputs": [],
   "source": [
    "[np.sum(np.array((a.spin(rotor0) ^ b)).reshape(-1,3), axis=0) for a,b in zip(vectors_a, vectors_b)]"
   ]
  },
  {
   "cell_type": "code",
   "execution_count": null,
   "metadata": {
    "collapsed": false
   },
   "outputs": [],
   "source": [
    "B1 = -2 * np.sum([np.array((a.spin(rotor0) ^ b)).reshape(3,1).T for a,b in zip(vectors_a, vectors_b)], axis=0).flatten()\n",
    "B = vsr.Biv(*B1)\n",
    "B"
   ]
  },
  {
   "cell_type": "code",
   "execution_count": null,
   "metadata": {
    "collapsed": false
   },
   "outputs": [],
   "source": [
    "np.array((rotor0.rev() * B).biv())"
   ]
  },
  {
   "cell_type": "code",
   "execution_count": null,
   "metadata": {
    "collapsed": false
   },
   "outputs": [],
   "source": [
    "rotor0.rev() * (vectors_a[1].spin(rotor0) ^ vectors_b[1])"
   ]
  },
  {
   "cell_type": "code",
   "execution_count": null,
   "metadata": {
    "collapsed": false
   },
   "outputs": [],
   "source": [
    "J = np.array([jac(a, rotor0) for a in vectors_a]).reshape(-1,3)\n",
    "J"
   ]
  },
  {
   "cell_type": "code",
   "execution_count": null,
   "metadata": {
    "collapsed": false
   },
   "outputs": [],
   "source": [
    "np.dot(J.T,J)"
   ]
  },
  {
   "cell_type": "code",
   "execution_count": null,
   "metadata": {
    "collapsed": false
   },
   "outputs": [],
   "source": [
    "H = np.sum([Hess(a,b, rotor0) for a,b in zip(vectors_a, vectors_b)], axis=0)\n",
    "H"
   ]
  },
  {
   "cell_type": "code",
   "execution_count": null,
   "metadata": {
    "collapsed": false
   },
   "outputs": [],
   "source": [
    "H = np.sum([np.array(a.spin(rotor0) ^ b) for a,b in zip(vectors_a, vectors_b)], axis=0)\n",
    "H"
   ]
  },
  {
   "cell_type": "code",
   "execution_count": null,
   "metadata": {
    "collapsed": false
   },
   "outputs": [],
   "source": [
    "def Hess(a,b, rot):\n",
    "    j = np.zeros((3,3))\n",
    "    R = vsr.EGA(rot)\n",
    "    a = vsr.EGA(a)\n",
    "    b = vsr.EGA(b)\n",
    "    for i in range(3):\n",
    "        ei = vsr.Biv(0.0, 0.0, 0.0)\n",
    "        ei[i] = 1.0\n",
    "        ei = vsr.EGA(ei)\n",
    "        j[:,i] = -2.0 * np.array(((ei * a * R.rev() * b + b * R * a * ei)))[4:7]\n",
    "    return j\n",
    "np.sum([Hess(a,b,rotor0) for a,b in zip(vectors_a, vectors_b)], axis=0)"
   ]
  },
  {
   "cell_type": "code",
   "execution_count": null,
   "metadata": {
    "collapsed": true
   },
   "outputs": [],
   "source": [
    "def Hess3(rot):\n",
    "    rot = vsr.Rot(*rot)\n",
    "    H = np.sum([Hess(a,b,rot) for a,b in zip(vectors_a, vectors_b)], axis=0)\n",
    "    return H"
   ]
  },
  {
   "cell_type": "code",
   "execution_count": null,
   "metadata": {
    "collapsed": false
   },
   "outputs": [],
   "source": [
    "def Jac3(rot):\n",
    "    rot = vsr.Rot(*rot)\n",
    "    return np.array([jacrot(a, rot) for a in vectors_a]).reshape(-1,3)"
   ]
  },
  {
   "cell_type": "code",
   "execution_count": null,
   "metadata": {
    "collapsed": true
   },
   "outputs": [],
   "source": [
    "J = Jac3(rotor0)"
   ]
  },
  {
   "cell_type": "code",
   "execution_count": null,
   "metadata": {
    "collapsed": true
   },
   "outputs": [],
   "source": [
    "def Res3(rot):\n",
    "    rot = vsr.Rot(*rot)\n",
    "    return np.array([resrot(a,b,rot) for a,b in zip(vectors_a, vectors_b)]).reshape(-1,1)"
   ]
  },
  {
   "cell_type": "code",
   "execution_count": null,
   "metadata": {
    "collapsed": false
   },
   "outputs": [],
   "source": [
    "def update(vectors_a, vectors_b, rot):\n",
    "#     H = -2 * np.sum([motor_jacobian.outer_product(a, b, rot)[:,1:] for a,b in zip(vectors_a, vectors_b)], axis=0)\n",
    "    J = np.array([jacrot(a, rot) for a in vectors_a]).reshape(-1,3)\n",
    "    g = np.array([resrot(a,b,rot) for a,b in zip(vectors_a, vectors_b)]).reshape(-1,1)\n",
    "    JTg = np.dot(J.T,g)\n",
    "    JTJ = np.dot(J.T,J)\n",
    "#     print(JTJ)\n",
    "    H = -JTJ\n",
    "#     H = np.sum([Hess(a,b,rot) for a,b in zip(vectors_a, vectors_b)], axis=0)\n",
    "    print(H)\n",
    "#     print(rot)\n",
    "#     print(JTg)\n",
    "#     print(H-JTJ)\n",
    "    B = np.dot(np.linalg.pinv(H),JTg)\n",
    "#     print(B)\n",
    "#     B = np.sum([np.array(a.spin(rot) ^ b) for a,b in zip(vectors_a, vectors_b)], axis=0) # steepest descent\n",
    "    r = vsr.Biv(*B).exp() * rot\n",
    "#     grad_norm = np.linalg.norm(JTg)\n",
    "    err = np.dot(g.T,g)[0][0]\n",
    "    return r, err"
   ]
  },
  {
   "cell_type": "code",
   "execution_count": null,
   "metadata": {
    "collapsed": false
   },
   "outputs": [],
   "source": [
    "r = (vsr.Biv(1,0.001, 0.001).unit() * pi/9).exp()\n",
    "r0 = vsr.Rot(1,0,0,0)\n",
    "r = r0\n",
    "r, err = update(vectors_a, vectors_b, r)\n",
    "rs = [r0, r]\n",
    "n = 1\n",
    "\n",
    "# for i in range(4):\n",
    "while err > 1e-6:\n",
    "    print(n)\n",
    "    r, err = update(vectors_a, vectors_b, r)\n",
    "    rs.append(r)\n",
    "    n += 1\n",
    "\n",
    "print(n)\n",
    "print(r)"
   ]
  },
  {
   "cell_type": "code",
   "execution_count": null,
   "metadata": {
    "collapsed": true
   },
   "outputs": [],
   "source": []
  },
  {
   "cell_type": "code",
   "execution_count": null,
   "metadata": {
    "collapsed": false
   },
   "outputs": [],
   "source": [
    "from scipy.optimize import minimize"
   ]
  },
  {
   "cell_type": "code",
   "execution_count": null,
   "metadata": {
    "collapsed": false
   },
   "outputs": [],
   "source": [
    "minimize(Res3, np.array(rotor0))"
   ]
  },
  {
   "cell_type": "markdown",
   "metadata": {},
   "source": [
    "# Motor"
   ]
  },
  {
   "cell_type": "code",
   "execution_count": null,
   "metadata": {
    "collapsed": false
   },
   "outputs": [],
   "source": [
    "m0 = vsr.Mot(1,0,0,0,0,0,0,0)\n",
    "motor = vsr.Vec(1,1,1).trs() * vsr.Rot(vsr.Biv(0,1,0) * np.pi/6.0)\n",
    "print(motor)"
   ]
  },
  {
   "cell_type": "code",
   "execution_count": null,
   "metadata": {
    "collapsed": true
   },
   "outputs": [],
   "source": [
    "n_points=3\n",
    "points_a = [vsr.Vec(*np.random.normal(0.0, 0.8, 3)).null() for i in range(n_points)]\n",
    "points_b = [point.spin(motor) for point in points_a]"
   ]
  },
  {
   "cell_type": "code",
   "execution_count": null,
   "metadata": {
    "collapsed": false
   },
   "outputs": [],
   "source": [
    "vsr.Pnt(1,2,3,0,0).spin(motor)"
   ]
  },
  {
   "cell_type": "code",
   "execution_count": null,
   "metadata": {
    "collapsed": false
   },
   "outputs": [],
   "source": [
    "no = vsr.Pnt(0,0,0,1,0)\n",
    "D = np.zeros((3,3))\n",
    "for i in range(3):\n",
    "    B = vsr.Drv(0,0,0)\n",
    "    B[i] = 1\n",
    "    D[:,i] = np.array(B.comm(no))[:3]\n",
    "print(D)"
   ]
  },
  {
   "cell_type": "code",
   "execution_count": null,
   "metadata": {
    "collapsed": false
   },
   "outputs": [],
   "source": [
    "J1 = motor_jacobian.diff_point(motor, points_a[0])\n",
    "print(J1)"
   ]
  },
  {
   "cell_type": "code",
   "execution_count": null,
   "metadata": {
    "collapsed": false
   },
   "outputs": [],
   "source": [
    "J2 = motor_jacobian.jacobian_exp(motor, vsr.Dll(0,0,0,0,0,0))\n",
    "print(J2)"
   ]
  },
  {
   "cell_type": "code",
   "execution_count": null,
   "metadata": {
    "collapsed": false
   },
   "outputs": [],
   "source": [
    "np.dot(J1,J2)"
   ]
  },
  {
   "cell_type": "code",
   "execution_count": null,
   "metadata": {
    "collapsed": false
   },
   "outputs": [],
   "source": [
    "B =  motor.log().biv()"
   ]
  },
  {
   "cell_type": "code",
   "execution_count": null,
   "metadata": {
    "collapsed": false
   },
   "outputs": [],
   "source": [
    "a = points_a[0]\n",
    "a"
   ]
  },
  {
   "cell_type": "code",
   "execution_count": null,
   "metadata": {
    "collapsed": true
   },
   "outputs": [],
   "source": [
    "R = motor.rot()"
   ]
  },
  {
   "cell_type": "code",
   "execution_count": null,
   "metadata": {
    "collapsed": false
   },
   "outputs": [],
   "source": [
    "vsr.Biv(1,0,0).comm(a.spin(R))"
   ]
  },
  {
   "cell_type": "code",
   "execution_count": null,
   "metadata": {
    "collapsed": false
   },
   "outputs": [],
   "source": [
    "vsr.Dll(1,0,0,0,0,0).comm(a.spin(motor))"
   ]
  },
  {
   "cell_type": "code",
   "execution_count": null,
   "metadata": {
    "collapsed": false
   },
   "outputs": [],
   "source": [
    "vsr.Vec(1,2,3).null().spin(motor)"
   ]
  },
  {
   "cell_type": "code",
   "execution_count": null,
   "metadata": {
    "collapsed": false
   },
   "outputs": [],
   "source": [
    "vsr.Vec(1,2,3).spin(motor.rot())"
   ]
  },
  {
   "cell_type": "code",
   "execution_count": null,
   "metadata": {
    "collapsed": true
   },
   "outputs": [],
   "source": [
    "def jac(a, mot):\n",
    "    j = np.zeros((3,6))\n",
    "    for i in range(6):\n",
    "        dll = vsr.Dll(0.0, 0.0, 0.0, 0.0, 0.0, 0.0)\n",
    "        dll[i] = 1.0\n",
    "        j[:,i] = -2.0 * np.array(dll.comm(a.spin(mot)))[:3]\n",
    "    return j"
   ]
  },
  {
   "cell_type": "code",
   "execution_count": null,
   "metadata": {
    "collapsed": false
   },
   "outputs": [],
   "source": [
    "a = points_a[0]\n",
    "b = points_b[0]\n",
    "jac(a,motor)"
   ]
  },
  {
   "cell_type": "code",
   "execution_count": null,
   "metadata": {
    "collapsed": true
   },
   "outputs": [],
   "source": [
    "def res(a,b,mot):\n",
    "    return np.array(b - a.spin(mot))[:3].reshape(-1,1)"
   ]
  },
  {
   "cell_type": "code",
   "execution_count": null,
   "metadata": {
    "collapsed": false
   },
   "outputs": [],
   "source": [
    "J = jac(a, m0)\n",
    "r = res(a,b,m0)\n",
    "B = vsr.Dll(*np.dot(J.T,r))"
   ]
  },
  {
   "cell_type": "code",
   "execution_count": null,
   "metadata": {
    "collapsed": false
   },
   "outputs": [],
   "source": [
    "B"
   ]
  },
  {
   "cell_type": "code",
   "execution_count": null,
   "metadata": {
    "collapsed": false
   },
   "outputs": [],
   "source": [
    "[vsr.Dll(0,1,0,0,0,0).comm(B) \n",
    " for B in [vsr.Dll(*np.dot(jac(a,m0).T,res(a,b,m0))) \n",
    "           for a,b in zip(points_a, points_b)]]"
   ]
  },
  {
   "cell_type": "code",
   "execution_count": null,
   "metadata": {
    "collapsed": false
   },
   "outputs": [],
   "source": [
    "a.spin(m) ^ b"
   ]
  },
  {
   "cell_type": "code",
   "execution_count": null,
   "metadata": {
    "collapsed": false
   },
   "outputs": [],
   "source": [
    "def update(points_a, points_b, mot):\n",
    "    J = np.array([jac(a, mot) for a in points_a]).reshape(-1,6)\n",
    "    g = np.array([res(a,b,mot) for a,b in zip(points_a, points_b)]).reshape(-1,1)\n",
    "    JTg = np.dot(J.T,g)\n",
    "    print(JTg)\n",
    "    print()\n",
    "    H = np.dot(J.T,J)\n",
    "    print(H)\n",
    "    print()\n",
    "    B = -np.dot(np.linalg.pinv(H),JTg)\n",
    "    B = -JTg\n",
    "    r = vsr.Dll(*B).exp() * mot\n",
    "    grad_norm = np.linalg.norm(JTg)\n",
    "    err = np.dot(g.T,g)[0][0]\n",
    "    return r, err, grad_norm"
   ]
  },
  {
   "cell_type": "code",
   "execution_count": null,
   "metadata": {
    "collapsed": false
   },
   "outputs": [],
   "source": [
    "m = m0\n",
    "res(points_a[0], points_b[0], m)\n",
    "m, err, gnorm = update(points_a, points_b, m)\n",
    "errs = []\n",
    "# for i in range(6):\n",
    "while err > 1e-6:\n",
    "    m, err, gnorm = update(points_a, points_b, m)\n",
    "    errs.append(err)\n",
    "print(m)"
   ]
  },
  {
   "cell_type": "code",
   "execution_count": null,
   "metadata": {
    "collapsed": false
   },
   "outputs": [],
   "source": [
    "plt.semilogy(errs)"
   ]
  },
  {
   "cell_type": "code",
   "execution_count": null,
   "metadata": {
    "collapsed": true
   },
   "outputs": [],
   "source": []
  }
 ],
 "metadata": {
  "kernelspec": {
   "display_name": "Python 2",
   "language": "python",
   "name": "python2"
  },
  "language_info": {
   "codemirror_mode": {
    "name": "ipython",
    "version": 2
   },
   "file_extension": ".py",
   "mimetype": "text/x-python",
   "name": "python",
   "nbconvert_exporter": "python",
   "pygments_lexer": "ipython2",
   "version": "2.7.12"
  }
 },
 "nbformat": 4,
 "nbformat_minor": 0
}
