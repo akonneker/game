{
 "cells": [
  {
   "cell_type": "code",
   "execution_count": 1,
   "metadata": {
    "collapsed": false
   },
   "outputs": [
    {
     "name": "stdout",
     "output_type": "stream",
     "text": [
      "Populating the interactive namespace from numpy and matplotlib\n"
     ]
    }
   ],
   "source": [
    "from __future__ import print_function\n",
    "import sys\n",
    "sys.path.append('../build/')\n",
    "%pylab inline\n",
    "np.set_printoptions(precision=4, suppress=True)"
   ]
  },
  {
   "cell_type": "code",
   "execution_count": 2,
   "metadata": {
    "collapsed": true
   },
   "outputs": [],
   "source": [
    "import versor as vsr\n",
    "from versor.drawing import *\n",
    "from motor_estimation import MotorEstimationSolver\n",
    "from game import (MotorEstimationSolver, VDMotorEstimationSolver)"
   ]
  },
  {
   "cell_type": "markdown",
   "metadata": {},
   "source": [
    "# Rotor Estimation"
   ]
  },
  {
   "cell_type": "code",
   "execution_count": 3,
   "metadata": {
    "collapsed": false
   },
   "outputs": [
    {
     "name": "stdout",
     "output_type": "stream",
     "text": [
      "Rot: [ 0.87 -0.5 0 0 ]\n"
     ]
    }
   ],
   "source": [
    "rotor = vsr.Biv(pi/6, 0.0, 0.0).exp()\n",
    "print(rotor)"
   ]
  },
  {
   "cell_type": "code",
   "execution_count": 4,
   "metadata": {
    "collapsed": false
   },
   "outputs": [],
   "source": [
    "vectors_a = [vsr.Vec(1,1,0), vsr.Vec(1,0,1), vsr.Vec(0,1,1)]\n",
    "vectors_b = [a.spin(rotor) for a in vectors_a]"
   ]
  },
  {
   "cell_type": "code",
   "execution_count": 5,
   "metadata": {
    "collapsed": false
   },
   "outputs": [
    {
     "name": "stdout",
     "output_type": "stream",
     "text": [
      "Mot: [ 0.87 -0.5 -2.5e-10 -3.8e-10 -5.1e-10 -3.9e-10 3.9e-10 -2.3e-10 ]\n"
     ]
    }
   ],
   "source": [
    "initial_rotor = vsr.Mot(1.0, 0.0, 0.0, 0.0, 0.0, 0.0, 0.0, 0.0)\n",
    "mes = MotorEstimationSolver(initial_rotor)\n",
    "for a, b in zip(vectors_a, vectors_b):\n",
    "    mes.add_point_correspondences_residual_block(a.null(),b.null())\n",
    "mes.set_parameterization('BIVECTOR_GENERATOR')\n",
    "mes.linear_solver_type = 'DENSE_QR'\n",
    "(estimated_rotor, summary, rotors) = mes.solve()\n",
    "# print(summary['full_report'])\n",
    "print(estimated_rotor)"
   ]
  },
  {
   "cell_type": "code",
   "execution_count": 6,
   "metadata": {
    "collapsed": false
   },
   "outputs": [],
   "source": [
    "scene = Scene(children=\n",
    "              [vector_mesh(a,arrow=True,color='hotpink') for a in vectors_a] +\\\n",
    "              [vector_mesh(b,arrow=True,color='lightskyblue') for b in vectors_b] +\\\n",
    "              [frame_mesh(),AmbientLight(color='#cccccc')])\n",
    "\n",
    "camera = PerspectiveCamera(position=[3, -3, 3])\n",
    "renderer = Renderer(camera=camera, \n",
    "                    scene=scene, \n",
    "                    controls=[TrackballControls(controlling=camera)],\n",
    "                    background = 'white')\n",
    "\n",
    "display(renderer)"
   ]
  },
  {
   "cell_type": "markdown",
   "metadata": {
    "collapsed": true
   },
   "source": [
    "# Circles"
   ]
  },
  {
   "cell_type": "code",
   "execution_count": 7,
   "metadata": {
    "collapsed": false
   },
   "outputs": [
    {
     "ename": "AttributeError",
     "evalue": "'Dlp' object has no attribute 'vec'",
     "output_type": "error",
     "traceback": [
      "\u001b[1;31m---------------------------------------------------------------------------\u001b[0m",
      "\u001b[1;31mAttributeError\u001b[0m                            Traceback (most recent call last)",
      "\u001b[1;32m<ipython-input-7-230a397c9027>\u001b[0m in \u001b[0;36m<module>\u001b[1;34m()\u001b[0m\n\u001b[0;32m      2\u001b[0m \u001b[0mp1s\u001b[0m \u001b[1;33m=\u001b[0m \u001b[1;33m[\u001b[0m\u001b[0mvsr\u001b[0m\u001b[1;33m.\u001b[0m\u001b[0mVec\u001b[0m\u001b[1;33m(\u001b[0m\u001b[1;36m1\u001b[0m\u001b[1;33m,\u001b[0m\u001b[1;36m0\u001b[0m\u001b[1;33m,\u001b[0m\u001b[1;36m0\u001b[0m\u001b[1;33m)\u001b[0m\u001b[1;33m.\u001b[0m\u001b[0mnull\u001b[0m\u001b[1;33m(\u001b[0m\u001b[1;33m)\u001b[0m\u001b[1;33m,\u001b[0m \u001b[0mvsr\u001b[0m\u001b[1;33m.\u001b[0m\u001b[0mVec\u001b[0m\u001b[1;33m(\u001b[0m\u001b[1;36m0\u001b[0m\u001b[1;33m,\u001b[0m\u001b[1;36m1\u001b[0m\u001b[1;33m,\u001b[0m\u001b[1;36m0\u001b[0m\u001b[1;33m)\u001b[0m\u001b[1;33m.\u001b[0m\u001b[0mnull\u001b[0m\u001b[1;33m(\u001b[0m\u001b[1;33m)\u001b[0m\u001b[1;33m,\u001b[0m \u001b[0mvsr\u001b[0m\u001b[1;33m.\u001b[0m\u001b[0mVec\u001b[0m\u001b[1;33m(\u001b[0m\u001b[1;36m0\u001b[0m\u001b[1;33m,\u001b[0m\u001b[1;36m0\u001b[0m\u001b[1;33m,\u001b[0m\u001b[1;36m1\u001b[0m\u001b[1;33m)\u001b[0m\u001b[1;33m.\u001b[0m\u001b[0mnull\u001b[0m\u001b[1;33m(\u001b[0m\u001b[1;33m)\u001b[0m\u001b[1;33m]\u001b[0m\u001b[1;33m\u001b[0m\u001b[0m\n\u001b[0;32m      3\u001b[0m \u001b[0mp2s\u001b[0m \u001b[1;33m=\u001b[0m \u001b[1;33m[\u001b[0m\u001b[0mp1i\u001b[0m\u001b[1;33m.\u001b[0m\u001b[0mspin\u001b[0m\u001b[1;33m(\u001b[0m\u001b[0mmotor\u001b[0m\u001b[1;33m)\u001b[0m \u001b[1;32mfor\u001b[0m \u001b[0mp1i\u001b[0m \u001b[1;32min\u001b[0m \u001b[0mp1s\u001b[0m\u001b[1;33m]\u001b[0m\u001b[1;33m\u001b[0m\u001b[0m\n\u001b[1;32m----> 4\u001b[1;33m \u001b[0mp3s\u001b[0m \u001b[1;33m=\u001b[0m \u001b[1;33m[\u001b[0m\u001b[1;33m(\u001b[0m\u001b[0mp2i\u001b[0m \u001b[1;33m-\u001b[0m \u001b[0mp1i\u001b[0m\u001b[1;33m)\u001b[0m\u001b[1;33m.\u001b[0m\u001b[0mvec\u001b[0m\u001b[1;33m(\u001b[0m\u001b[1;33m)\u001b[0m\u001b[1;33m.\u001b[0m\u001b[0mnull\u001b[0m\u001b[1;33m(\u001b[0m\u001b[1;33m)\u001b[0m \u001b[1;32mfor\u001b[0m \u001b[0mp1i\u001b[0m\u001b[1;33m,\u001b[0m \u001b[0mp2i\u001b[0m \u001b[1;32min\u001b[0m \u001b[0mzip\u001b[0m\u001b[1;33m(\u001b[0m\u001b[0mp1s\u001b[0m\u001b[1;33m,\u001b[0m\u001b[0mp2s\u001b[0m\u001b[1;33m)\u001b[0m\u001b[1;33m]\u001b[0m\u001b[1;33m\u001b[0m\u001b[0m\n\u001b[0m\u001b[0;32m      5\u001b[0m \u001b[0mc1\u001b[0m \u001b[1;33m=\u001b[0m \u001b[0mvsr\u001b[0m\u001b[1;33m.\u001b[0m\u001b[0mCir\u001b[0m\u001b[1;33m(\u001b[0m\u001b[1;33m*\u001b[0m\u001b[0mp1s\u001b[0m\u001b[1;33m)\u001b[0m\u001b[1;33m\u001b[0m\u001b[0m\n\u001b[0;32m      6\u001b[0m \u001b[0mc2\u001b[0m \u001b[1;33m=\u001b[0m \u001b[0mvsr\u001b[0m\u001b[1;33m.\u001b[0m\u001b[0mCir\u001b[0m\u001b[1;33m(\u001b[0m\u001b[1;33m*\u001b[0m\u001b[0mp2s\u001b[0m\u001b[1;33m)\u001b[0m\u001b[1;33m\u001b[0m\u001b[0m\n",
      "\u001b[1;31mAttributeError\u001b[0m: 'Dlp' object has no attribute 'vec'"
     ]
    }
   ],
   "source": [
    "motor = vsr.Vec(0.5,1,1.5).trs() * vsr.Biv(pi/6, 0.0, 0.0).exp()\n",
    "p1s = [vsr.Vec(1,0,0).null(), vsr.Vec(0,1,0).null(), vsr.Vec(0,0,1).null()] \n",
    "p2s = [p1i.spin(motor) for p1i in p1s] \n",
    "p3s = [(p2i - p1i).vec().null() for p1i, p2i in zip(p1s,p2s)]\n",
    "c1 = vsr.Cir(*p1s)\n",
    "c2 = vsr.Cir(*p2s)\n",
    "c3 = vsr.Cir(*p3s)\n",
    "pp1 = c1.dual().split() \n",
    "(pp1[1] - pp1[0]).vec().norm() == 2.0 * c1.radius()"
   ]
  },
  {
   "cell_type": "code",
   "execution_count": 8,
   "metadata": {
    "collapsed": false
   },
   "outputs": [
    {
     "ename": "NameError",
     "evalue": "name 'c1' is not defined",
     "output_type": "error",
     "traceback": [
      "\u001b[1;31m---------------------------------------------------------------------------\u001b[0m",
      "\u001b[1;31mNameError\u001b[0m                                 Traceback (most recent call last)",
      "\u001b[1;32m<ipython-input-8-8e31f00e17da>\u001b[0m in \u001b[0;36m<module>\u001b[1;34m()\u001b[0m\n\u001b[1;32m----> 1\u001b[1;33m \u001b[0mc1\u001b[0m\u001b[1;33m.\u001b[0m\u001b[0mradius\u001b[0m\u001b[1;33m(\u001b[0m\u001b[1;33m)\u001b[0m\u001b[1;33m\u001b[0m\u001b[0m\n\u001b[0m",
      "\u001b[1;31mNameError\u001b[0m: name 'c1' is not defined"
     ]
    }
   ],
   "source": [
    "c1.radius()"
   ]
  },
  {
   "cell_type": "code",
   "execution_count": 9,
   "metadata": {
    "collapsed": false
   },
   "outputs": [
    {
     "ename": "NameError",
     "evalue": "name 'p3s' is not defined",
     "output_type": "error",
     "traceback": [
      "\u001b[1;31m---------------------------------------------------------------------------\u001b[0m",
      "\u001b[1;31mNameError\u001b[0m                                 Traceback (most recent call last)",
      "\u001b[1;32m<ipython-input-9-8cdab4ae83ac>\u001b[0m in \u001b[0;36m<module>\u001b[1;34m()\u001b[0m\n\u001b[1;32m----> 1\u001b[1;33m \u001b[1;32mprint\u001b[0m\u001b[1;33m(\u001b[0m\u001b[0mp3s\u001b[0m\u001b[1;33m)\u001b[0m\u001b[1;33m\u001b[0m\u001b[0m\n\u001b[0m",
      "\u001b[1;31mNameError\u001b[0m: name 'p3s' is not defined"
     ]
    }
   ],
   "source": [
    "print(p3s)"
   ]
  },
  {
   "cell_type": "code",
   "execution_count": 10,
   "metadata": {
    "collapsed": true
   },
   "outputs": [],
   "source": [
    "class Colors:\n",
    "    RED = 'red'\n",
    "    GREEN = 'green'\n",
    "    BLUE = 'blue'\n",
    "    HOTPINK = 'hotpink'\n",
    "    LIGHTSKYBLUE = 'lightskyblue'\n",
    "    AQUAMARINE = 'aquamarine'"
   ]
  },
  {
   "cell_type": "code",
   "execution_count": 11,
   "metadata": {
    "collapsed": false
   },
   "outputs": [
    {
     "data": {
      "text/plain": [
       "'lightskyblue'"
      ]
     },
     "execution_count": 11,
     "metadata": {},
     "output_type": "execute_result"
    }
   ],
   "source": [
    "Colors.LIGHTSKYBLUE"
   ]
  },
  {
   "cell_type": "code",
   "execution_count": 12,
   "metadata": {
    "collapsed": false
   },
   "outputs": [
    {
     "ename": "NameError",
     "evalue": "name 'c1' is not defined",
     "output_type": "error",
     "traceback": [
      "\u001b[1;31m---------------------------------------------------------------------------\u001b[0m",
      "\u001b[1;31mNameError\u001b[0m                                 Traceback (most recent call last)",
      "\u001b[1;32m<ipython-input-12-63fd07e66597>\u001b[0m in \u001b[0;36m<module>\u001b[1;34m()\u001b[0m\n\u001b[0;32m      8\u001b[0m \u001b[1;31m#               [circle_mesh(c3, color='turquoise')] +\\\u001b[0m\u001b[1;33m\u001b[0m\u001b[1;33m\u001b[0m\u001b[0m\n\u001b[0;32m      9\u001b[0m \u001b[1;31m#               [circle_mesh(c2 - c1, color='red')] +\\\u001b[0m\u001b[1;33m\u001b[0m\u001b[1;33m\u001b[0m\u001b[0m\n\u001b[1;32m---> 10\u001b[1;33m               \u001b[1;33m[\u001b[0m\u001b[0mline_mesh\u001b[0m\u001b[1;33m(\u001b[0m\u001b[0mvsr\u001b[0m\u001b[1;33m.\u001b[0m\u001b[0mDll\u001b[0m\u001b[1;33m(\u001b[0m\u001b[1;33m*\u001b[0m\u001b[0mpp1\u001b[0m\u001b[1;33m)\u001b[0m\u001b[1;33m,\u001b[0m \u001b[0mcolor\u001b[0m\u001b[1;33m=\u001b[0m\u001b[0mColors\u001b[0m\u001b[1;33m.\u001b[0m\u001b[0mGREEN\u001b[0m\u001b[1;33m)\u001b[0m\u001b[1;33m]\u001b[0m \u001b[1;33m+\u001b[0m\u001b[0;31m\\\u001b[0m\u001b[1;33m\u001b[0m\u001b[0m\n\u001b[0m\u001b[0;32m     11\u001b[0m \u001b[1;33m\u001b[0m\u001b[0m\n\u001b[0;32m     12\u001b[0m               [frame_mesh(),AmbientLight(color='#cccccc')])\n",
      "\u001b[1;31mNameError\u001b[0m: name 'c1' is not defined"
     ]
    }
   ],
   "source": [
    "scene = Scene(children=\n",
    "              [point_mesh(p1i,color=Colors.HOTPINK) for p1i in p1s] +\\\n",
    "#               [point_mesh(p2i,color='lightskyblue') for p2i in p2s] +\\\n",
    "              \n",
    "              [circle_mesh(c1, color='hotpink')] +\\\n",
    "              [point_mesh(p, color='red') for p in  pp1] +\\\n",
    "#               [circle_mesh(c2, color='lightskyblue')] +\\\n",
    "#               [circle_mesh(c3, color='turquoise')] +\\\n",
    "#               [circle_mesh(c2 - c1, color='red')] +\\\n",
    "              [line_mesh(vsr.Dll(*pp1), color=Colors.GREEN)] +\\\n",
    "\n",
    "              [frame_mesh(),AmbientLight(color='#cccccc')])\n",
    "\n",
    "camera = PerspectiveCamera(position=[3, -3, 3])\n",
    "renderer = Renderer(camera=camera, \n",
    "                    scene=scene, \n",
    "                    controls=[TrackballControls(controlling=camera)],\n",
    "                    background = 'white')\n",
    "display(renderer)"
   ]
  },
  {
   "cell_type": "code",
   "execution_count": 13,
   "metadata": {
    "collapsed": false
   },
   "outputs": [
    {
     "ename": "NameError",
     "evalue": "name 'c1' is not defined",
     "output_type": "error",
     "traceback": [
      "\u001b[1;31m---------------------------------------------------------------------------\u001b[0m",
      "\u001b[1;31mNameError\u001b[0m                                 Traceback (most recent call last)",
      "\u001b[1;32m<ipython-input-13-06db89994c40>\u001b[0m in \u001b[0;36m<module>\u001b[1;34m()\u001b[0m\n\u001b[1;32m----> 1\u001b[1;33m \u001b[0mpp\u001b[0m \u001b[1;33m=\u001b[0m \u001b[0mc1\u001b[0m\u001b[1;33m.\u001b[0m\u001b[0mdual\u001b[0m\u001b[1;33m(\u001b[0m\u001b[1;33m)\u001b[0m\u001b[1;33m\u001b[0m\u001b[0m\n\u001b[0m\u001b[0;32m      2\u001b[0m \u001b[0mpp\u001b[0m\u001b[1;33m.\u001b[0m\u001b[0m__print_debug_info_console\u001b[0m\u001b[1;33m(\u001b[0m\u001b[1;33m)\u001b[0m\u001b[1;33m\u001b[0m\u001b[0m\n",
      "\u001b[1;31mNameError\u001b[0m: name 'c1' is not defined"
     ]
    }
   ],
   "source": [
    "pp = c1.dual()\n",
    "pp.__print_debug_info_console()"
   ]
  },
  {
   "cell_type": "markdown",
   "metadata": {},
   "source": [
    "# Tangents"
   ]
  },
  {
   "cell_type": "code",
   "execution_count": 14,
   "metadata": {
    "collapsed": false
   },
   "outputs": [
    {
     "name": "stdout",
     "output_type": "stream",
     "text": [
      "4.21468485109e-08\n",
      "5.96046447754e-08\n",
      "0.5\n"
     ]
    }
   ],
   "source": [
    "t1 = vsr.Tnv(vsr.Vec(1,2,3).null(), vsr.Vec(-1,1,1).unit())\n",
    "t2 = vsr.Tnv(vsr.Vec(1,3,3).null(), vsr.Vec(-1,2,1).unit())\n",
    "t3 = t2.comm(t1).dual()\n",
    "print(t1.radius())\n",
    "print(t2.radius())\n",
    "print(t3.radius())"
   ]
  },
  {
   "cell_type": "code",
   "execution_count": 15,
   "metadata": {
    "collapsed": true
   },
   "outputs": [],
   "source": [
    "def tangent_vector_mesh(tnv, color='gray'):\n",
    "    tangent = point_mesh(tnv.pnt(), color=color)\n",
    "    tangent.children = [vector_mesh(tnv.dir().vec(), arrow=True, color=color)]\n",
    "    return tangent\n",
    "    "
   ]
  },
  {
   "cell_type": "code",
   "execution_count": 16,
   "metadata": {
    "collapsed": false
   },
   "outputs": [],
   "source": [
    "scene = Scene(children=\n",
    "              [tangent_vector_mesh(t1, color=Colors.LIGHTSKYBLUE),\n",
    "               tangent_vector_mesh(t2, color=Colors.LIGHTSKYBLUE),\n",
    "               circle_mesh(t3, color=Colors.HOTPINK),\n",
    "               frame_mesh(),\n",
    "               AmbientLight(color='#cccccc')])\n",
    "\n",
    "camera = PerspectiveCamera(position=[3, -3, 3])\n",
    "renderer = Renderer(camera=camera, \n",
    "                    scene=scene, \n",
    "                    controls=[TrackballControls(controlling=camera)],\n",
    "                    background = 'white')\n",
    "display(renderer)"
   ]
  },
  {
   "cell_type": "code",
   "execution_count": 17,
   "metadata": {
    "collapsed": false
   },
   "outputs": [
    {
     "data": {
      "text/plain": [
       "Tnv: [ 3 4 -1 2 1 2 8.5 -4 -2.5 -5.5 ]"
      ]
     },
     "execution_count": 17,
     "metadata": {},
     "output_type": "execute_result"
    }
   ],
   "source": [
    "p = vsr.Par(vsr.Vec(1,2,3).null(), vsr.Vec(-1,1,1).null())\n",
    "p"
   ]
  },
  {
   "cell_type": "code",
   "execution_count": 18,
   "metadata": {
    "collapsed": false
   },
   "outputs": [
    {
     "data": {
      "text/plain": [
       "Drv: [ -2 0 0 ]"
      ]
     },
     "execution_count": 18,
     "metadata": {},
     "output_type": "execute_result"
    }
   ],
   "source": [
    "a = vsr.Vec(1,0,0).null()\n",
    "b = vsr.Vec(-1,0,0).null()\n",
    "l = vsr.Dll(a,b)\n",
    "l.dir()"
   ]
  },
  {
   "cell_type": "code",
   "execution_count": 19,
   "metadata": {
    "collapsed": false
   },
   "outputs": [
    {
     "data": {
      "text/plain": [
       "Pnt: [ 0 0 0 1 0 ]"
      ]
     },
     "execution_count": 19,
     "metadata": {},
     "output_type": "execute_result"
    }
   ],
   "source": [
    "vsr.Par(a,b).pnt()"
   ]
  },
  {
   "cell_type": "code",
   "execution_count": 20,
   "metadata": {
    "collapsed": false
   },
   "outputs": [
    {
     "ename": "NameError",
     "evalue": "name 't' is not defined",
     "output_type": "error",
     "traceback": [
      "\u001b[1;31m---------------------------------------------------------------------------\u001b[0m",
      "\u001b[1;31mNameError\u001b[0m                                 Traceback (most recent call last)",
      "\u001b[1;32m<ipython-input-20-5a23c550a186>\u001b[0m in \u001b[0;36m<module>\u001b[1;34m()\u001b[0m\n\u001b[0;32m      3\u001b[0m               \u001b[1;33m[\u001b[0m\u001b[0mcircle_mesh\u001b[0m\u001b[1;33m(\u001b[0m\u001b[0mt\u001b[0m\u001b[1;33m.\u001b[0m\u001b[0mdual\u001b[0m\u001b[1;33m(\u001b[0m\u001b[1;33m)\u001b[0m\u001b[1;33m,\u001b[0m \u001b[0mcolor\u001b[0m\u001b[1;33m=\u001b[0m\u001b[1;34m'hotpink'\u001b[0m\u001b[1;33m)\u001b[0m\u001b[1;33m]\u001b[0m \u001b[1;33m+\u001b[0m\u001b[0;31m\\\u001b[0m\u001b[1;33m\u001b[0m\u001b[0m\n\u001b[0;32m      4\u001b[0m \u001b[1;33m\u001b[0m\u001b[0m\n\u001b[1;32m----> 5\u001b[1;33m               \u001b[1;33m[\u001b[0m\u001b[0mline_mesh\u001b[0m\u001b[1;33m(\u001b[0m\u001b[0mvsr\u001b[0m\u001b[1;33m.\u001b[0m\u001b[0mDll\u001b[0m\u001b[1;33m(\u001b[0m\u001b[0ma\u001b[0m\u001b[1;33m,\u001b[0m\u001b[0mb\u001b[0m\u001b[1;33m)\u001b[0m\u001b[1;33m,\u001b[0m \u001b[0mcolor\u001b[0m\u001b[1;33m=\u001b[0m\u001b[0mColors\u001b[0m\u001b[1;33m.\u001b[0m\u001b[0mGREEN\u001b[0m\u001b[1;33m)\u001b[0m\u001b[1;33m]\u001b[0m \u001b[1;33m+\u001b[0m\u001b[0;31m\\\u001b[0m\u001b[1;33m\u001b[0m\u001b[0m\n\u001b[0m\u001b[0;32m      6\u001b[0m               [frame_mesh(),AmbientLight(color='#cccccc')])\n\u001b[0;32m      7\u001b[0m \u001b[1;33m\u001b[0m\u001b[0m\n",
      "\u001b[1;31mNameError\u001b[0m: name 't' is not defined"
     ]
    }
   ],
   "source": [
    "scene = Scene(children=\n",
    "              [point_mesh(a), point_mesh(b)] +\\\n",
    "              [circle_mesh(t.dual(), color='hotpink')] +\\\n",
    "\n",
    "              [line_mesh(vsr.Dll(a,b), color=Colors.GREEN)] +\\\n",
    "              [frame_mesh(),AmbientLight(color='#cccccc')])\n",
    "\n",
    "camera = PerspectiveCamera(position=[3, -3, 3])\n",
    "renderer = Renderer(camera=camera, \n",
    "                    scene=scene, \n",
    "                    controls=[TrackballControls(controlling=camera)],\n",
    "                    background = 'white')\n",
    "display(renderer)"
   ]
  },
  {
   "cell_type": "code",
   "execution_count": null,
   "metadata": {
    "collapsed": true
   },
   "outputs": [],
   "source": []
  },
  {
   "cell_type": "code",
   "execution_count": null,
   "metadata": {
    "collapsed": true
   },
   "outputs": [],
   "source": []
  },
  {
   "cell_type": "code",
   "execution_count": null,
   "metadata": {
    "collapsed": true
   },
   "outputs": [],
   "source": []
  },
  {
   "cell_type": "code",
   "execution_count": null,
   "metadata": {
    "collapsed": true
   },
   "outputs": [],
   "source": []
  },
  {
   "cell_type": "code",
   "execution_count": null,
   "metadata": {
    "collapsed": true
   },
   "outputs": [],
   "source": []
  }
 ],
 "metadata": {
  "kernelspec": {
   "display_name": "Python 2",
   "language": "python",
   "name": "python2"
  },
  "language_info": {
   "codemirror_mode": {
    "name": "ipython",
    "version": 2
   },
   "file_extension": ".py",
   "mimetype": "text/x-python",
   "name": "python",
   "nbconvert_exporter": "python",
   "pygments_lexer": "ipython2",
   "version": "2.7.11+"
  },
  "widgets": {
   "state": {
    "015299cdab1343ea997ed9dbe5e385e7": {
     "views": []
    },
    "035bca5d66bb468180f7949a70794f8b": {
     "views": []
    },
    "079665dff62c40e7bbd6fd94d2ec5b51": {
     "views": []
    },
    "0bf74125d2084709bfd8ecfcf9a61330": {
     "views": []
    },
    "0d2489a081f047b684f517e251e7e502": {
     "views": []
    },
    "123ef42fe27e431fa826f5ccd96686c9": {
     "views": []
    },
    "12bd9a4972074d10bd08e4b9d16d6c01": {
     "views": []
    },
    "1a2d367a36174f14b7006ab49ddc4eec": {
     "views": []
    },
    "1b49ccb128114f00ace77f2e1e7c47d5": {
     "views": []
    },
    "1ba32cdd9c454a41bb4747432bf70123": {
     "views": []
    },
    "1fa41fd1fd2049389e7e2c647d28b057": {
     "views": []
    },
    "21ec4df63a184cddb41b7e98b2040986": {
     "views": []
    },
    "26bff0ad8040477ca69e187c308bafd8": {
     "views": []
    },
    "2ab2f516055c4aeaa3a7d2f59502af02": {
     "views": []
    },
    "2bc3d5f8c2e14bb59ed4dad2c1159345": {
     "views": []
    },
    "2d4d5efc2989441d9d9d78a18037877a": {
     "views": []
    },
    "2dd8ee3fb5b94840bb5ceab94484b6d8": {
     "views": []
    },
    "2fbc2c606c834686814c209078466231": {
     "views": []
    },
    "33bd1545c09a4b1c99fb89188fa7a405": {
     "views": []
    },
    "34b877629ec74d629749b7d5358df8c8": {
     "views": []
    },
    "36b2c0d38b384ebaaf70929c0e4a4fd8": {
     "views": []
    },
    "373d8029350f40579c3ecc41746eccba": {
     "views": []
    },
    "37d09a442f63453abfc41413ffeaffb3": {
     "views": []
    },
    "3ad53e5045124f59b8bd2f9135bbfde6": {
     "views": []
    },
    "437ebb999cc44cb6beee603b47e39cd5": {
     "views": []
    },
    "445f27b932a546508a8a152877cc2f4a": {
     "views": [
      {
       "cell_index": 18
      }
     ]
    },
    "44a519d510eb42a8b4b8345468117471": {
     "views": []
    },
    "4511c0e04eca4eeaac039d522bbc36a1": {
     "views": []
    },
    "4796ff197d3a4dabb8a1c8018deefeea": {
     "views": []
    },
    "531e44a2cf0c455bb4bdf39ce385ba40": {
     "views": []
    },
    "53678ce3e5f44106a2b7fd223d0b3950": {
     "views": []
    },
    "547531e37d514419b9ce02b71b1acefa": {
     "views": []
    },
    "578fbb3c4c7c4063a47f16a40db89358": {
     "views": []
    },
    "585570444327489e88b28ef475291144": {
     "views": []
    },
    "5888030964594bf0bf7bac8d04026e8e": {
     "views": []
    },
    "58b0960546e44d38b360f1590f01ba16": {
     "views": []
    },
    "5e2109e0dfb446ebb227aded63a38558": {
     "views": []
    },
    "5e54e4fd8c9c4269a648373e6e3537bb": {
     "views": []
    },
    "5ff1e10543b04dfe96a8c50385a95c16": {
     "views": []
    },
    "6074f1a413964d11a7e1117206227730": {
     "views": []
    },
    "6694ac72f5564b7bb02db5130c4d640c": {
     "views": []
    },
    "694125418ec946c9ae94557daca45470": {
     "views": []
    },
    "6b4743aea2ff4628875c5d1d8353507a": {
     "views": []
    },
    "6bd6c1422da94c129cbf20e2521396a3": {
     "views": []
    },
    "6e57929e62f841adb7e9fc6118138c8a": {
     "views": []
    },
    "724dea4dad8e45b6bbd4a66d08217c57": {
     "views": []
    },
    "72c547bfd9ce40c58f65097cadf2ab11": {
     "views": []
    },
    "72f20ed76eaa4efc94f08da0538263d8": {
     "views": []
    },
    "82da2893cd124384bfab942898062bc6": {
     "views": []
    },
    "83be9b61876946768b16bbfa22aac451": {
     "views": []
    },
    "85464d2d8054471c9dc9131102c93737": {
     "views": []
    },
    "85771fc30ca34f0695318e13b9faa8fc": {
     "views": []
    },
    "85ce6a343c53441cb10ad834c654e0f0": {
     "views": []
    },
    "92fdaca7055d49c6afe805963d6850f4": {
     "views": []
    },
    "a1b1f08db4be4536bb596fb5f3be1973": {
     "views": []
    },
    "a2325afeb9cb403d8bb46f2d2984819a": {
     "views": []
    },
    "a23badafd48549ca83f12b33a9acd678": {
     "views": []
    },
    "a4a1693d46824eae9fa3aed94680ccbc": {
     "views": []
    },
    "a52938591b464e2ea75cba86b8cf4340": {
     "views": []
    },
    "a77af93419034592b9c203a04ee357f2": {
     "views": []
    },
    "b0929e802ca94d4184c5c1ae8dca0a83": {
     "views": []
    },
    "b2543162e627456bb47597130cc1b18c": {
     "views": []
    },
    "b45f1d914a67425495597441c8d6bd1b": {
     "views": []
    },
    "b4760ce98a1e415993c2897abb27bc08": {
     "views": []
    },
    "b88334ae30094ebd88b77ffdd83666c5": {
     "views": []
    },
    "b90d3800bfdc404e83c009d62d5fb855": {
     "views": []
    },
    "bf70af1641da4f6095897e21cfce3525": {
     "views": []
    },
    "c005af8961844917b8d1356c1cf199da": {
     "views": []
    },
    "c2f2022b1efb4d419c61227a1c719c91": {
     "views": []
    },
    "cb387ca9b8cb4068b093c642fb4053a3": {
     "views": []
    },
    "cda7551e01f84c159c703cf847f22109": {
     "views": []
    },
    "ce85a5b68824462882df833aa8dad880": {
     "views": []
    },
    "db0c616fc31b48e5872bb5ccfea77e66": {
     "views": []
    },
    "dc5b59a809394773a44741ce9eee910c": {
     "views": []
    },
    "de43f43a74fb497f96fb33ecd77bde80": {
     "views": []
    },
    "df235b28e3954362a779f260ebaf4c59": {
     "views": [
      {
       "cell_index": 6
      }
     ]
    },
    "df2e9f209c7244dd9fb98739c7852f97": {
     "views": []
    },
    "e0f33f6254c048cca9bced4bd983f3fc": {
     "views": []
    },
    "e0f70a7c86d343ccb9306edfa937135c": {
     "views": []
    },
    "e4527ed764074ad8944e9ad2bfaf6032": {
     "views": []
    },
    "e4931726ebc74d62ad52a1690cac3972": {
     "views": []
    },
    "e54820ac7a6b4f7daec74e0309f6f5be": {
     "views": []
    },
    "e7cb138f774d421281839a095ee458be": {
     "views": []
    },
    "ec530cab24514bf8939d5d36e03a2e53": {
     "views": []
    },
    "edf4d44a65484d7d963e568a8f5bf775": {
     "views": []
    },
    "f35ab10ebe1f4e3eb4723177576dc32f": {
     "views": []
    },
    "f3b0034f798147cbb540739cf30a497b": {
     "views": []
    },
    "f50a4a2243a446668c9e7992ffcf3bba": {
     "views": []
    },
    "f75ae412903b4df496055e34c44fdc59": {
     "views": []
    },
    "fa3fd0b119bd4e3cb881d5b336ebc521": {
     "views": []
    }
   },
   "version": "1.1.2"
  }
 },
 "nbformat": 4,
 "nbformat_minor": 0
}
