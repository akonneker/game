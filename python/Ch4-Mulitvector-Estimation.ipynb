{
 "cells": [
  {
   "cell_type": "code",
   "execution_count": 1,
   "metadata": {
    "collapsed": false
   },
   "outputs": [
    {
     "name": "stdout",
     "output_type": "stream",
     "text": [
      "Populating the interactive namespace from numpy and matplotlib\n"
     ]
    }
   ],
   "source": [
    "from __future__ import print_function\n",
    "import sys\n",
    "sys.path.append('../build/')\n",
    "%pylab inline\n",
    "np.set_printoptions(precision=4, suppress=True)"
   ]
  },
  {
   "cell_type": "code",
   "execution_count": 3,
   "metadata": {
    "collapsed": false
   },
   "outputs": [],
   "source": [
    "import versor as vsr\n",
    "from versor.drawing import *\n",
    "from motor_estimation import MotorEstimationSolver\n",
    "# from game import (MotorEstimationSolver, VDMotorEstimationSolver)"
   ]
  },
  {
   "cell_type": "markdown",
   "metadata": {},
   "source": [
    "# Rotor Estimation"
   ]
  },
  {
   "cell_type": "code",
   "execution_count": 4,
   "metadata": {
    "collapsed": false
   },
   "outputs": [
    {
     "name": "stdout",
     "output_type": "stream",
     "text": [
      "Rot: [ 0.87 -0.5 0 0 ]\n"
     ]
    }
   ],
   "source": [
    "rotor = vsr.Biv(pi/6, 0.0, 0.0).exp()\n",
    "print(rotor)"
   ]
  },
  {
   "cell_type": "code",
   "execution_count": 5,
   "metadata": {
    "collapsed": false
   },
   "outputs": [],
   "source": [
    "vectors_a = [vsr.Vec(1,1,0), vsr.Vec(1,0,1), vsr.Vec(0,1,1)]\n",
    "vectors_b = [a.spin(rotor) for a in vectors_a]"
   ]
  },
  {
   "cell_type": "code",
   "execution_count": 6,
   "metadata": {
    "collapsed": false
   },
   "outputs": [],
   "source": [
    "def project_r3(m):\n",
    "    r = vsr.Vec(0,0,0)\n",
    "    r[0] = (vsr.CGA(vsr.Pnt(1,0,0,0,0)) * vsr.CGA(m))[0]\n",
    "    r[1] = (vsr.CGA(vsr.Pnt(0,1,0,0,0)) * vsr.CGA(m))[0]\n",
    "    r[2] = (vsr.CGA(vsr.Pnt(0,0,1,0,0)) * vsr.CGA(m))[0]\n",
    "    return r"
   ]
  },
  {
   "cell_type": "code",
   "execution_count": 7,
   "metadata": {
    "collapsed": false
   },
   "outputs": [
    {
     "data": {
      "text/plain": [
       "Vec: [ 1 2 3 ]"
      ]
     },
     "execution_count": 7,
     "metadata": {},
     "output_type": "execute_result"
    }
   ],
   "source": [
    "project_r3(vsr.Vec(1,2,3).null())"
   ]
  },
  {
   "cell_type": "code",
   "execution_count": 8,
   "metadata": {
    "collapsed": false
   },
   "outputs": [
    {
     "data": {
      "text/plain": [
       "CGA: [ -6.5 0 0 0 0 0 2 3 0 0 -2 -3 6.5 -1 -1.5 6.5 0 0 0 0 0 0 0 0 0 0 0 0 0 0 0 0 ]"
      ]
     },
     "execution_count": 8,
     "metadata": {},
     "output_type": "execute_result"
    }
   ],
   "source": [
    "vsr.CGA(vsr.Vec(1,0,0).null()) * vsr.CGA(vsr.Vec(1,2,3).null())"
   ]
  },
  {
   "cell_type": "code",
   "execution_count": 9,
   "metadata": {
    "collapsed": false
   },
   "outputs": [
    {
     "name": "stdout",
     "output_type": "stream",
     "text": [
      "\n",
      "Solver Summary (v 1.12.0-eigen-(3.3.1)-lapack-suitesparse-(4.5.3)-cxsparse-(3.1.9)-no_openmp)\n",
      "\n",
      "                                     Original                  Reduced\n",
      "Parameter blocks                            1                        1\n",
      "Parameters                                  8                        8\n",
      "Effective parameters                        6                        6\n",
      "Residual blocks                             3                        3\n",
      "Residual                                    9                        9\n",
      "\n",
      "Minimizer                        TRUST_REGION\n",
      "\n",
      "Dense linear algebra library            EIGEN\n",
      "Trust region strategy     LEVENBERG_MARQUARDT\n",
      "\n",
      "                                        Given                     Used\n",
      "Linear solver                        DENSE_QR                 DENSE_QR\n",
      "Threads                                     1                        1\n",
      "Linear solver threads                       1                        1\n",
      "Linear solver ordering              AUTOMATIC                        1\n",
      "\n",
      "Cost:\n",
      "Initial                          2.000000e+00\n",
      "Final                            5.806293e-27\n",
      "Change                           2.000000e+00\n",
      "\n",
      "Minimizer iterations                        6\n",
      "Successful steps                            6\n",
      "Unsuccessful steps                          0\n",
      "\n",
      "Time (in seconds):\n",
      "Preprocessor                           0.0031\n",
      "\n",
      "  Residual evaluation                  0.0000\n",
      "  Jacobian evaluation                  0.0001\n",
      "  Linear solver                        0.0000\n",
      "Minimizer                              0.0004\n",
      "\n",
      "Postprocessor                          0.0000\n",
      "Total                                  0.0036\n",
      "\n",
      "Termination:                      CONVERGENCE (Gradient tolerance reached. Gradient max norm: 1.681934e-13 <= 1.000000e-10)\n",
      "\n",
      "Mot: [ 0.87 -0.5 -2.6e-14 9.6e-15 -6.6e-14 1.1e-14 -2.8e-15 1.6e-15 ]\n"
     ]
    }
   ],
   "source": [
    "initial_rotor = vsr.Mot(1.0, 0.0, 0.0, 0.0, 0.0, 0.0, 0.0, 0.0)\n",
    "mes = MotorEstimationSolver(initial_rotor)\n",
    "for a, b in zip(vectors_a, vectors_b):\n",
    "    mes.add_point_correspondences_residual_block(a.null(),b.null())\n",
    "# mes.set_parameterization('BIVECTOR_GENERATOR')\n",
    "mes.set_parameterization('POLAR_DECOMPOSITION_TANGENT')\n",
    "mes.linear_solver_type = 'DENSE_QR'\n",
    "# mes.minimizer_type = 'LINE_SEARCH'\n",
    "# mes.line_search_type = 'ARMIJO'\n",
    "# mes.line_search_direction_type = 'NONLINEAR_CONJUGATE_GRADIENT'\n",
    "# mes.nonlinear_conjugate_gradient_type = 'HESTENES_STIEFEL'\n",
    "\n",
    "(estimated_rotor, summary, rotors) = mes.solve()\n",
    "print(summary['full_report'])\n",
    "print(estimated_rotor)"
   ]
  },
  {
   "cell_type": "code",
   "execution_count": 10,
   "metadata": {
    "collapsed": true
   },
   "outputs": [],
   "source": [
    "n_points = 100000\n",
    "sigma = 0.09\n",
    "points_a = [vsr.Vec(*np.random.normal(0.0, 0.3, 3)).null() \n",
    "            for i in range(n_points)]\n",
    "points_b = [point.spin(rotor) for point in points_a]\n",
    "points_b_noisy = [vsr.Vec(*(np.array(point)[:3] \n",
    "                            + sigma * np.random.randn(3))).null() \n",
    "                  for point in points_b]"
   ]
  },
  {
   "cell_type": "code",
   "execution_count": 11,
   "metadata": {
    "collapsed": false
   },
   "outputs": [
    {
     "name": "stdout",
     "output_type": "stream",
     "text": [
      "\n",
      "Solver Summary (v 1.12.0-eigen-(3.3.1)-lapack-suitesparse-(4.5.3)-cxsparse-(3.1.9)-no_openmp)\n",
      "\n",
      "                                     Original                  Reduced\n",
      "Parameter blocks                            1                        1\n",
      "Parameters                                  8                        8\n",
      "Effective parameters                        6                        6\n",
      "Residual blocks                        100000                   100000\n",
      "Residual                               300000                   300000\n",
      "\n",
      "Minimizer                        TRUST_REGION\n",
      "\n",
      "Dense linear algebra library            EIGEN\n",
      "Trust region strategy     LEVENBERG_MARQUARDT\n",
      "\n",
      "                                        Given                     Used\n",
      "Linear solver                        DENSE_QR                 DENSE_QR\n",
      "Threads                                     1                        1\n",
      "Linear solver threads                       1                        1\n",
      "Linear solver ordering              AUTOMATIC                        1\n",
      "\n",
      "Cost:\n",
      "Initial                          9.027528e+03\n",
      "Final                            2.503366e-22\n",
      "Change                           9.027528e+03\n",
      "\n",
      "Minimizer iterations                        5\n",
      "Successful steps                            5\n",
      "Unsuccessful steps                          0\n",
      "\n",
      "Time (in seconds):\n",
      "Preprocessor                           0.0248\n",
      "\n",
      "  Residual evaluation                  0.0456\n",
      "  Jacobian evaluation                  0.6562\n",
      "  Linear solver                        0.1678\n",
      "Minimizer                              0.9021\n",
      "\n",
      "Postprocessor                          0.0027\n",
      "Total                                  0.9296\n",
      "\n",
      "Termination:                      CONVERGENCE (Parameter tolerance reached. Relative step_norm: 4.012041e-14 <= 1.000000e-08.)\n",
      "\n",
      "Mot: [ 0.87 -0.5 -1.2e-15 1.8e-15 -1.3e-14 -3.2e-14 7.4e-16 -4.3e-16 ]\n"
     ]
    }
   ],
   "source": [
    "initial_rotor = vsr.Mot(1.0, 0.0, 0.0, 0.0, 0.0, 0.0, 0.0, 0.0)\n",
    "mes = MotorEstimationSolver(initial_rotor)\n",
    "for a, b in zip(points_a, points_b):\n",
    "    mes.add_point_correspondences_residual_block(a,b)\n",
    "mes.set_parameterization('BIVECTOR_GENERATOR')\n",
    "# mes.set_parameterization('POLAR_DECOMPOSITION_TANGENT')\n",
    "# mes.set_parameterization('POLAR_DECOMPOSITION')\n",
    "mes.linear_solver_type = 'DENSE_QR'\n",
    "# mes.minimizer_type = 'LINE_SEARCH'\n",
    "# mes.line_search_type = 'ARMIJO'\n",
    "# mes.line_search_direction_type = 'NONLINEAR_CONJUGATE_GRADIENT'\n",
    "# mes.nonlinear_conjugate_gradient_type = 'HESTENES_STIEFEL'\n",
    "\n",
    "(estimated_rotor, summary, rotors) = mes.solve()\n",
    "print(summary['full_report'])\n",
    "print(estimated_rotor)"
   ]
  },
  {
   "cell_type": "code",
   "execution_count": 12,
   "metadata": {
    "collapsed": true
   },
   "outputs": [],
   "source": [
    "mes.line_search_type?"
   ]
  },
  {
   "cell_type": "code",
   "execution_count": null,
   "metadata": {
    "collapsed": false
   },
   "outputs": [],
   "source": []
  },
  {
   "cell_type": "code",
   "execution_count": 13,
   "metadata": {
    "collapsed": false
   },
   "outputs": [],
   "source": [
    "scene = Scene(children=\n",
    "              [vector_mesh(a,arrow=True,color='hotpink') for a in vectors_a] +\\\n",
    "              [vector_mesh(b,arrow=True,color='lightskyblue') for b in vectors_b] +\\\n",
    "              [frame_mesh(),AmbientLight(color='#cccccc')])\n",
    "\n",
    "camera = PerspectiveCamera(position=[3, -3, 3])\n",
    "renderer = Renderer(camera=camera, \n",
    "                    scene=scene, \n",
    "                    controls=[TrackballControls(controlling=camera)],\n",
    "                    background = 'white')\n",
    "\n",
    "display(renderer)"
   ]
  },
  {
   "cell_type": "markdown",
   "metadata": {
    "collapsed": true
   },
   "source": [
    "# Circles"
   ]
  },
  {
   "cell_type": "code",
   "execution_count": 14,
   "metadata": {
    "collapsed": false
   },
   "outputs": [
    {
     "data": {
      "text/plain": [
       "True"
      ]
     },
     "execution_count": 14,
     "metadata": {},
     "output_type": "execute_result"
    }
   ],
   "source": [
    "motor = vsr.Vec(0.5,1,1.5).trs() * vsr.Biv(pi/6, 0.0, 0.0).exp()\n",
    "p1s = [vsr.Vec(1,0,0).null(), vsr.Vec(0,1,0).null(), vsr.Vec(0,0,1).null()] \n",
    "p2s = [p1i.spin(motor) for p1i in p1s] \n",
    "p3s = [(p2i - p1i).vec().null() for p1i, p2i in zip(p1s,p2s)]\n",
    "c1 = vsr.Cir(*p1s)\n",
    "c2 = vsr.Cir(*p2s)\n",
    "c3 = vsr.Cir(*p3s)\n",
    "pp1 = c1.dual().split() \n",
    "(pp1[1] - pp1[0]).vec().norm() == 2.0 * c1.radius()"
   ]
  },
  {
   "cell_type": "code",
   "execution_count": 15,
   "metadata": {
    "collapsed": false
   },
   "outputs": [
    {
     "data": {
      "text/plain": [
       "0.816496580927726"
      ]
     },
     "execution_count": 15,
     "metadata": {},
     "output_type": "execute_result"
    }
   ],
   "source": [
    "c1.radius()"
   ]
  },
  {
   "cell_type": "code",
   "execution_count": 16,
   "metadata": {
    "collapsed": false
   },
   "outputs": [
    {
     "name": "stdout",
     "output_type": "stream",
     "text": [
      "[Pnt: [ 2.22e-16 1.866 1.5 1 2.866 ], Pnt: [ -0.366 0.5 1.5 1 1.317 ], Pnt: [ 0.5 1 1.5 1 1.75 ]]\n"
     ]
    }
   ],
   "source": [
    "print(p3s)"
   ]
  },
  {
   "cell_type": "code",
   "execution_count": 17,
   "metadata": {
    "collapsed": true
   },
   "outputs": [],
   "source": [
    "class Colors:\n",
    "    RED = 'red'\n",
    "    GREEN = 'green'\n",
    "    BLUE = 'blue'\n",
    "    HOTPINK = 'hotpink'\n",
    "    LIGHTSKYBLUE = 'lightskyblue'\n",
    "    AQUAMARINE = 'aquamarine'"
   ]
  },
  {
   "cell_type": "code",
   "execution_count": 18,
   "metadata": {
    "collapsed": false
   },
   "outputs": [
    {
     "data": {
      "text/plain": [
       "'lightskyblue'"
      ]
     },
     "execution_count": 18,
     "metadata": {},
     "output_type": "execute_result"
    }
   ],
   "source": [
    "Colors.LIGHTSKYBLUE"
   ]
  },
  {
   "cell_type": "code",
   "execution_count": 19,
   "metadata": {
    "collapsed": false
   },
   "outputs": [],
   "source": [
    "scene = Scene(children=\n",
    "              [point_mesh(p1i,color=Colors.HOTPINK) for p1i in p1s] +\\\n",
    "#               [point_mesh(p2i,color='lightskyblue') for p2i in p2s] +\\\n",
    "              \n",
    "              [circle_mesh(c1, color='hotpink')] +\\\n",
    "              [point_mesh(p, color='red') for p in  pp1] +\\\n",
    "#               [circle_mesh(c2, color='lightskyblue')] +\\\n",
    "#               [circle_mesh(c3, color='turquoise')] +\\\n",
    "#               [circle_mesh(c2 - c1, color='red')] +\\\n",
    "              [line_mesh(vsr.Dll(*pp1), color=Colors.GREEN)] +\\\n",
    "\n",
    "              [frame_mesh(),AmbientLight(color='#cccccc')])\n",
    "\n",
    "camera = PerspectiveCamera(position=[3, -3, 3])\n",
    "renderer = Renderer(camera=camera, \n",
    "                    scene=scene, \n",
    "                    controls=[TrackballControls(controlling=camera)],\n",
    "                    background = 'white')\n",
    "display(renderer)"
   ]
  },
  {
   "cell_type": "code",
   "execution_count": 20,
   "metadata": {
    "collapsed": false
   },
   "outputs": [],
   "source": [
    "pp = c1.dual()\n",
    "pp.__print_debug_info_console()"
   ]
  },
  {
   "cell_type": "markdown",
   "metadata": {},
   "source": [
    "# Tangents"
   ]
  },
  {
   "cell_type": "code",
   "execution_count": 21,
   "metadata": {
    "collapsed": false
   },
   "outputs": [
    {
     "ename": "AttributeError",
     "evalue": "module 'versor' has no attribute 'Tnv'",
     "output_type": "error",
     "traceback": [
      "\u001b[0;31m---------------------------------------------------------------------------\u001b[0m",
      "\u001b[0;31mAttributeError\u001b[0m                            Traceback (most recent call last)",
      "\u001b[0;32m<ipython-input-21-3e9f91873544>\u001b[0m in \u001b[0;36m<module>\u001b[0;34m()\u001b[0m\n\u001b[0;32m----> 1\u001b[0;31m \u001b[0mt1\u001b[0m \u001b[0;34m=\u001b[0m \u001b[0mvsr\u001b[0m\u001b[0;34m.\u001b[0m\u001b[0mTnv\u001b[0m\u001b[0;34m(\u001b[0m\u001b[0mvsr\u001b[0m\u001b[0;34m.\u001b[0m\u001b[0mVec\u001b[0m\u001b[0;34m(\u001b[0m\u001b[0;36m1\u001b[0m\u001b[0;34m,\u001b[0m\u001b[0;36m2\u001b[0m\u001b[0;34m,\u001b[0m\u001b[0;36m3\u001b[0m\u001b[0;34m)\u001b[0m\u001b[0;34m.\u001b[0m\u001b[0mnull\u001b[0m\u001b[0;34m(\u001b[0m\u001b[0;34m)\u001b[0m\u001b[0;34m,\u001b[0m \u001b[0mvsr\u001b[0m\u001b[0;34m.\u001b[0m\u001b[0mVec\u001b[0m\u001b[0;34m(\u001b[0m\u001b[0;34m-\u001b[0m\u001b[0;36m1\u001b[0m\u001b[0;34m,\u001b[0m\u001b[0;36m1\u001b[0m\u001b[0;34m,\u001b[0m\u001b[0;36m1\u001b[0m\u001b[0;34m)\u001b[0m\u001b[0;34m.\u001b[0m\u001b[0munit\u001b[0m\u001b[0;34m(\u001b[0m\u001b[0;34m)\u001b[0m\u001b[0;34m)\u001b[0m\u001b[0;34m\u001b[0m\u001b[0m\n\u001b[0m\u001b[1;32m      2\u001b[0m \u001b[0mt2\u001b[0m \u001b[0;34m=\u001b[0m \u001b[0mvsr\u001b[0m\u001b[0;34m.\u001b[0m\u001b[0mTnv\u001b[0m\u001b[0;34m(\u001b[0m\u001b[0mvsr\u001b[0m\u001b[0;34m.\u001b[0m\u001b[0mVec\u001b[0m\u001b[0;34m(\u001b[0m\u001b[0;36m1\u001b[0m\u001b[0;34m,\u001b[0m\u001b[0;36m3\u001b[0m\u001b[0;34m,\u001b[0m\u001b[0;36m3\u001b[0m\u001b[0;34m)\u001b[0m\u001b[0;34m.\u001b[0m\u001b[0mnull\u001b[0m\u001b[0;34m(\u001b[0m\u001b[0;34m)\u001b[0m\u001b[0;34m,\u001b[0m \u001b[0mvsr\u001b[0m\u001b[0;34m.\u001b[0m\u001b[0mVec\u001b[0m\u001b[0;34m(\u001b[0m\u001b[0;34m-\u001b[0m\u001b[0;36m1\u001b[0m\u001b[0;34m,\u001b[0m\u001b[0;36m2\u001b[0m\u001b[0;34m,\u001b[0m\u001b[0;36m1\u001b[0m\u001b[0;34m)\u001b[0m\u001b[0;34m.\u001b[0m\u001b[0munit\u001b[0m\u001b[0;34m(\u001b[0m\u001b[0;34m)\u001b[0m\u001b[0;34m)\u001b[0m\u001b[0;34m\u001b[0m\u001b[0m\n\u001b[1;32m      3\u001b[0m \u001b[0mt3\u001b[0m \u001b[0;34m=\u001b[0m \u001b[0mt2\u001b[0m\u001b[0;34m.\u001b[0m\u001b[0mcomm\u001b[0m\u001b[0;34m(\u001b[0m\u001b[0mt1\u001b[0m\u001b[0;34m)\u001b[0m\u001b[0;34m.\u001b[0m\u001b[0mdual\u001b[0m\u001b[0;34m(\u001b[0m\u001b[0;34m)\u001b[0m\u001b[0;34m\u001b[0m\u001b[0m\n\u001b[1;32m      4\u001b[0m \u001b[0mprint\u001b[0m\u001b[0;34m(\u001b[0m\u001b[0mt1\u001b[0m\u001b[0;34m.\u001b[0m\u001b[0mradius\u001b[0m\u001b[0;34m(\u001b[0m\u001b[0;34m)\u001b[0m\u001b[0;34m)\u001b[0m\u001b[0;34m\u001b[0m\u001b[0m\n\u001b[1;32m      5\u001b[0m \u001b[0mprint\u001b[0m\u001b[0;34m(\u001b[0m\u001b[0mt2\u001b[0m\u001b[0;34m.\u001b[0m\u001b[0mradius\u001b[0m\u001b[0;34m(\u001b[0m\u001b[0;34m)\u001b[0m\u001b[0;34m)\u001b[0m\u001b[0;34m\u001b[0m\u001b[0m\n",
      "\u001b[0;31mAttributeError\u001b[0m: module 'versor' has no attribute 'Tnv'"
     ]
    }
   ],
   "source": [
    "t1 = vsr.Tnv(vsr.Vec(1,2,3).null(), vsr.Vec(-1,1,1).unit())\n",
    "t2 = vsr.Tnv(vsr.Vec(1,3,3).null(), vsr.Vec(-1,2,1).unit())\n",
    "t3 = t2.comm(t1).dual()\n",
    "print(t1.radius())\n",
    "print(t2.radius())\n",
    "print(t3.radius())"
   ]
  },
  {
   "cell_type": "code",
   "execution_count": 22,
   "metadata": {
    "collapsed": true
   },
   "outputs": [],
   "source": [
    "def tangent_vector_mesh(tnv, color='gray'):\n",
    "    tangent = point_mesh(tnv.pnt(), color=color)\n",
    "    tangent.children = [vector_mesh(tnv.dir().vec(), arrow=True, color=color)]\n",
    "    return tangent\n",
    "    "
   ]
  },
  {
   "cell_type": "code",
   "execution_count": 23,
   "metadata": {
    "collapsed": false
   },
   "outputs": [
    {
     "ename": "NameError",
     "evalue": "name 't1' is not defined",
     "output_type": "error",
     "traceback": [
      "\u001b[0;31m---------------------------------------------------------------------------\u001b[0m",
      "\u001b[0;31mNameError\u001b[0m                                 Traceback (most recent call last)",
      "\u001b[0;32m<ipython-input-23-e138315fbbb8>\u001b[0m in \u001b[0;36m<module>\u001b[0;34m()\u001b[0m\n\u001b[1;32m      1\u001b[0m scene = Scene(children=\n\u001b[0;32m----> 2\u001b[0;31m               [tangent_vector_mesh(t1, color=Colors.LIGHTSKYBLUE),\n\u001b[0m\u001b[1;32m      3\u001b[0m                \u001b[0mtangent_vector_mesh\u001b[0m\u001b[0;34m(\u001b[0m\u001b[0mt2\u001b[0m\u001b[0;34m,\u001b[0m \u001b[0mcolor\u001b[0m\u001b[0;34m=\u001b[0m\u001b[0mColors\u001b[0m\u001b[0;34m.\u001b[0m\u001b[0mLIGHTSKYBLUE\u001b[0m\u001b[0;34m)\u001b[0m\u001b[0;34m,\u001b[0m\u001b[0;34m\u001b[0m\u001b[0m\n\u001b[1;32m      4\u001b[0m                \u001b[0mcircle_mesh\u001b[0m\u001b[0;34m(\u001b[0m\u001b[0mt3\u001b[0m\u001b[0;34m,\u001b[0m \u001b[0mcolor\u001b[0m\u001b[0;34m=\u001b[0m\u001b[0mColors\u001b[0m\u001b[0;34m.\u001b[0m\u001b[0mHOTPINK\u001b[0m\u001b[0;34m)\u001b[0m\u001b[0;34m,\u001b[0m\u001b[0;34m\u001b[0m\u001b[0m\n\u001b[1;32m      5\u001b[0m                \u001b[0mframe_mesh\u001b[0m\u001b[0;34m(\u001b[0m\u001b[0;34m)\u001b[0m\u001b[0;34m,\u001b[0m\u001b[0;34m\u001b[0m\u001b[0m\n",
      "\u001b[0;31mNameError\u001b[0m: name 't1' is not defined"
     ]
    }
   ],
   "source": [
    "scene = Scene(children=\n",
    "              [tangent_vector_mesh(t1, color=Colors.LIGHTSKYBLUE),\n",
    "               tangent_vector_mesh(t2, color=Colors.LIGHTSKYBLUE),\n",
    "               circle_mesh(t3, color=Colors.HOTPINK),\n",
    "               frame_mesh(),\n",
    "               AmbientLight(color='#cccccc')])\n",
    "\n",
    "camera = PerspectiveCamera(position=[3, -3, 3])\n",
    "renderer = Renderer(camera=camera, \n",
    "                    scene=scene, \n",
    "                    controls=[TrackballControls(controlling=camera)],\n",
    "                    background = 'white')\n",
    "display(renderer)"
   ]
  },
  {
   "cell_type": "code",
   "execution_count": 24,
   "metadata": {
    "collapsed": false
   },
   "outputs": [
    {
     "data": {
      "text/plain": [
       "Par: [ 3 4 -1 2 1 2 8.5 -4 -2.5 -5.5 ]"
      ]
     },
     "execution_count": 24,
     "metadata": {},
     "output_type": "execute_result"
    }
   ],
   "source": [
    "p = vsr.Par(vsr.Vec(1,2,3).null(), vsr.Vec(-1,1,1).null())\n",
    "p"
   ]
  },
  {
   "cell_type": "code",
   "execution_count": 25,
   "metadata": {
    "collapsed": false
   },
   "outputs": [
    {
     "data": {
      "text/plain": [
       "Drv: [ -2 0 0 ]"
      ]
     },
     "execution_count": 25,
     "metadata": {},
     "output_type": "execute_result"
    }
   ],
   "source": [
    "a = vsr.Vec(1,0,0).null()\n",
    "b = vsr.Vec(-1,0,0).null()\n",
    "l = vsr.Dll(a,b)\n",
    "l.dir()"
   ]
  },
  {
   "cell_type": "code",
   "execution_count": 26,
   "metadata": {
    "collapsed": false
   },
   "outputs": [
    {
     "data": {
      "text/plain": [
       "Pnt: [ 0 0 0 1 0 ]"
      ]
     },
     "execution_count": 26,
     "metadata": {},
     "output_type": "execute_result"
    }
   ],
   "source": [
    "vsr.Par(a,b).pnt()"
   ]
  },
  {
   "cell_type": "code",
   "execution_count": 27,
   "metadata": {
    "collapsed": false
   },
   "outputs": [
    {
     "ename": "NameError",
     "evalue": "name 't' is not defined",
     "output_type": "error",
     "traceback": [
      "\u001b[0;31m---------------------------------------------------------------------------\u001b[0m",
      "\u001b[0;31mNameError\u001b[0m                                 Traceback (most recent call last)",
      "\u001b[0;32m<ipython-input-27-5a23c550a186>\u001b[0m in \u001b[0;36m<module>\u001b[0;34m()\u001b[0m\n\u001b[1;32m      3\u001b[0m               \u001b[0;34m[\u001b[0m\u001b[0mcircle_mesh\u001b[0m\u001b[0;34m(\u001b[0m\u001b[0mt\u001b[0m\u001b[0;34m.\u001b[0m\u001b[0mdual\u001b[0m\u001b[0;34m(\u001b[0m\u001b[0;34m)\u001b[0m\u001b[0;34m,\u001b[0m \u001b[0mcolor\u001b[0m\u001b[0;34m=\u001b[0m\u001b[0;34m'hotpink'\u001b[0m\u001b[0;34m)\u001b[0m\u001b[0;34m]\u001b[0m \u001b[0;34m+\u001b[0m\u001b[0;31m\\\u001b[0m\u001b[0;34m\u001b[0m\u001b[0m\n\u001b[1;32m      4\u001b[0m \u001b[0;34m\u001b[0m\u001b[0m\n\u001b[0;32m----> 5\u001b[0;31m               \u001b[0;34m[\u001b[0m\u001b[0mline_mesh\u001b[0m\u001b[0;34m(\u001b[0m\u001b[0mvsr\u001b[0m\u001b[0;34m.\u001b[0m\u001b[0mDll\u001b[0m\u001b[0;34m(\u001b[0m\u001b[0ma\u001b[0m\u001b[0;34m,\u001b[0m\u001b[0mb\u001b[0m\u001b[0;34m)\u001b[0m\u001b[0;34m,\u001b[0m \u001b[0mcolor\u001b[0m\u001b[0;34m=\u001b[0m\u001b[0mColors\u001b[0m\u001b[0;34m.\u001b[0m\u001b[0mGREEN\u001b[0m\u001b[0;34m)\u001b[0m\u001b[0;34m]\u001b[0m \u001b[0;34m+\u001b[0m\u001b[0;31m\\\u001b[0m\u001b[0;34m\u001b[0m\u001b[0m\n\u001b[0m\u001b[1;32m      6\u001b[0m               [frame_mesh(),AmbientLight(color='#cccccc')])\n\u001b[1;32m      7\u001b[0m \u001b[0;34m\u001b[0m\u001b[0m\n",
      "\u001b[0;31mNameError\u001b[0m: name 't' is not defined"
     ]
    }
   ],
   "source": [
    "scene = Scene(children=\n",
    "              [point_mesh(a), point_mesh(b)] +\\\n",
    "              [circle_mesh(t.dual(), color='hotpink')] +\\\n",
    "\n",
    "              [line_mesh(vsr.Dll(a,b), color=Colors.GREEN)] +\\\n",
    "              [frame_mesh(),AmbientLight(color='#cccccc')])\n",
    "\n",
    "camera = PerspectiveCamera(position=[3, -3, 3])\n",
    "renderer = Renderer(camera=camera, \n",
    "                    scene=scene, \n",
    "                    controls=[TrackballControls(controlling=camera)],\n",
    "                    background = 'white')\n",
    "display(renderer)"
   ]
  },
  {
   "cell_type": "code",
   "execution_count": null,
   "metadata": {
    "collapsed": true
   },
   "outputs": [],
   "source": []
  },
  {
   "cell_type": "code",
   "execution_count": null,
   "metadata": {
    "collapsed": true
   },
   "outputs": [],
   "source": []
  },
  {
   "cell_type": "code",
   "execution_count": null,
   "metadata": {
    "collapsed": true
   },
   "outputs": [],
   "source": []
  },
  {
   "cell_type": "code",
   "execution_count": null,
   "metadata": {
    "collapsed": true
   },
   "outputs": [],
   "source": []
  },
  {
   "cell_type": "code",
   "execution_count": null,
   "metadata": {
    "collapsed": true
   },
   "outputs": [],
   "source": []
  }
 ],
 "metadata": {
  "anaconda-cloud": {},
  "kernelspec": {
   "display_name": "Python [default]",
   "language": "python",
   "name": "python3"
  },
  "language_info": {
   "codemirror_mode": {
    "name": "ipython",
    "version": 3
   },
   "file_extension": ".py",
   "mimetype": "text/x-python",
   "name": "python",
   "nbconvert_exporter": "python",
   "pygments_lexer": "ipython3",
   "version": "3.5.2"
  },
  "widgets": {
   "state": {
    "5778024536714610b5166bff0f41ba06": {
     "views": [
      {
       "cell_index": 20
      }
     ]
    },
    "c5b3ac3d54db45969619226da4fb69e4": {
     "views": [
      {
       "cell_index": 13
      }
     ]
    }
   },
   "version": "1.2.0"
  }
 },
 "nbformat": 4,
 "nbformat_minor": 0
}
