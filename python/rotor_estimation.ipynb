{
 "cells": [
  {
   "cell_type": "markdown",
   "metadata": {},
   "source": [
    "# Rotor Estimation"
   ]
  },
  {
   "cell_type": "code",
   "execution_count": 1,
   "metadata": {
    "collapsed": false
   },
   "outputs": [
    {
     "name": "stdout",
     "output_type": "stream",
     "text": [
      "Populating the interactive namespace from numpy and matplotlib\n"
     ]
    }
   ],
   "source": [
    "import sys\n",
    "sys.path.append('../build/Debug/')\n",
    "from transformations import (quaternion_matrix as quaternion_to_matrix,\n",
    "                             euler_matrix as euler_to_matrix, \n",
    "                             euler_from_quaternion)\n",
    "import librotor_estimation as rotor_estimation\n",
    "%pylab inline\n",
    "np.set_printoptions(precision=6, suppress=True)\n",
    "from ipy_table import *"
   ]
  },
  {
   "cell_type": "code",
   "execution_count": 2,
   "metadata": {
    "collapsed": false
   },
   "outputs": [],
   "source": [
    "\n",
    "fig_width_pt = 358.50475  # Get this from LaTeX using \\showthe\\columnwidth\n",
    "inches_per_pt = 1.0/72.27               # Convert pt to inches\n",
    "golden_mean = (sqrt(5.0)-1.0)/2.0         # Aesthetic ratio\n",
    "fig_width = fig_width_pt*inches_per_pt  # width in inches\n",
    "fig_height =fig_width*golden_mean       # height in inches\n",
    "fig_size = [fig_width,fig_height]\n",
    "params = {\n",
    "    'axes.labelsize': 9,\n",
    "    'font.size': 9,\n",
    "    \"font.family\": \"serif\",\n",
    "    \"font.serif\": [],\n",
    "    'legend.fontsize': 9,\n",
    "    'legend.linewidth': 0.3,\n",
    "    'xtick.labelsize': 8,\n",
    "    'ytick.labelsize': 8,\n",
    "    'text.usetex': True,\n",
    "    'text.latex.preamble':[r'\\usepackage{amsmath}', r'\\usepackage{bm}'],\n",
    "    'figure.figsize': fig_size,\n",
    "    'axes.linewidth': 0.5\n",
    "}\n",
    " \n",
    " \n",
    "matplotlib.rcParams.update(params)\n",
    "np.set_printoptions(suppress=True)"
   ]
  },
  {
   "cell_type": "markdown",
   "metadata": {},
   "source": [
    "## Introduction"
   ]
  },
  {
   "cell_type": "markdown",
   "metadata": {},
   "source": [
    "### Dataset generation"
   ]
  },
  {
   "cell_type": "code",
   "execution_count": 80,
   "metadata": {
    "collapsed": false
   },
   "outputs": [],
   "source": [
    "r = euler_to_matrix(0.0,0.0,np.pi/3.0)[:3,:3]"
   ]
  },
  {
   "cell_type": "code",
   "execution_count": 81,
   "metadata": {
    "collapsed": false
   },
   "outputs": [],
   "source": [
    "def generate_dataset(n_points, sigma, mu):\n",
    "    n_points = n_points\n",
    "    r = euler_to_matrix(0.0,0.0,np.pi/3.0)[:3,:3]\n",
    "#     angles = np.pi * np.random.randn(3)\n",
    "#     r = euler_to_matrix(angles[0], angles[1], angles[2])[:3,:3]\n",
    "    points_a = np.random.normal(0.0,0.8,(n_points,3))\n",
    "    points_a = np.array([point / np.linalg.norm(point) for point in points_a])\n",
    "    points_b = np.array([np.dot(r,point.reshape(3,1)).reshape(3) for point in points_a])\n",
    "    # Add noise to the rotated point cloud\n",
    "    sigma = sigma\n",
    "    mu = mu\n",
    "    points_b_noisy = points_b + sigma * np.random.randn(n_points,3) + mu\n",
    "    points_b_noisy = np.array([point / np.linalg.norm(point) for point in points_b_noisy])\n",
    "    return (points_a, points_b, points_b_noisy)"
   ]
  },
  {
   "cell_type": "code",
   "execution_count": 82,
   "metadata": {
    "collapsed": false
   },
   "outputs": [],
   "source": [
    "(points_a, points_b, points_b_noisy) = generate_dataset(10, 0.0, 0.0)"
   ]
  },
  {
   "cell_type": "markdown",
   "metadata": {},
   "source": [
    "## Non-Linear Least Squares Rotor estimation"
   ]
  },
  {
   "cell_type": "code",
   "execution_count": 83,
   "metadata": {
    "collapsed": true
   },
   "outputs": [],
   "source": [
    "def create_solver_options(use_trust_region_minimizer=True):\n",
    "    solver_options = {\n",
    "        'minimizer_type':'TRUST_REGION',\n",
    "        'trust_region_strategy_type':'LEVENBERG_MARQUARDT',\n",
    "        'linear_solver_type':'DENSE_QR',\n",
    "        'max_num_iterations': 100, \n",
    "        'num_threads': 12,\n",
    "        'num_linear_solver_threads':12,\n",
    "        'parameter_tolerance': 10e-16,\n",
    "        'function_tolerance': 10e-16,\n",
    "        'minimizer_progress_to_stdout':False,\n",
    "        'trust_region_minimizer_iterations_to_dump':[],\n",
    "        'trust_region_problem_dump_directory':'/home/lars/devel/game_ws/dump/sphere_fit',\n",
    "    }\n",
    "    return solver_options  \n",
    "solver_options = create_solver_options()"
   ]
  },
  {
   "cell_type": "markdown",
   "metadata": {},
   "source": [
    "### Estimate full rotor \n",
    "$$ R = \\cos \\left( \\frac{\\theta}{2} \\right) - \\sin \\left( \\frac{\\theta}{2} \\right)  B  $$"
   ]
  },
  {
   "cell_type": "code",
   "execution_count": 84,
   "metadata": {
    "collapsed": false
   },
   "outputs": [
    {
     "name": "stdout",
     "output_type": "stream",
     "text": [
      "[ 0.866025 -0.5      -0.       -0.      ]\n"
     ]
    }
   ],
   "source": [
    "rotor_parameters = np.array([1.0, 0.0, 0.0, 0.0]).reshape(4,1)\n",
    "re = rotor_estimation.RotorEstimation(solver_options)\n",
    "rotor_1 = re.run(rotor_parameters.copy(), points_a, points_b_noisy)\n",
    "print(rotor_1.ravel())"
   ]
  },
  {
   "cell_type": "markdown",
   "metadata": {},
   "source": [
    "### Estimate the bivector generator\n",
    "$$ R = \\exp \\left( - \\frac{\\theta}{2} B \\right) $$"
   ]
  },
  {
   "cell_type": "code",
   "execution_count": 35,
   "metadata": {
    "collapsed": false,
    "scrolled": true
   },
   "outputs": [
    {
     "name": "stdout",
     "output_type": "stream",
     "text": [
      "[ 0.866025 -0.5       0.        0.      ]\n"
     ]
    }
   ],
   "source": [
    "bivector_parameters = np.array([0.0,0.0,1.0]).reshape(3,1)\n",
    "rbe = rotor_estimation.RotorBivectorGeneratorEstimation()\n",
    "rotor_2 = rbe.run(bivector_parameters.copy(), points_a, points_b_noisy)\n",
    "print(rotor_2.ravel())"
   ]
  },
  {
   "cell_type": "code",
   "execution_count": 36,
   "metadata": {
    "collapsed": false
   },
   "outputs": [
    {
     "name": "stdout",
     "output_type": "stream",
     "text": [
      "[ 0.866025 -0.        0.        0.5     ]\n"
     ]
    }
   ],
   "source": [
    "quaternion_parameters = np.array([1.0, 0.0, 0.0, 0.0]).reshape(4,1)\n",
    "qe = rotor_estimation.QuaternionEstimation(solver_options)\n",
    "quaternion = qe.run(quaternion_parameters.copy(), points_a, points_b_noisy)\n",
    "print(quaternion.ravel())"
   ]
  },
  {
   "cell_type": "markdown",
   "metadata": {},
   "source": [
    "### SVD using tensor representation"
   ]
  },
  {
   "cell_type": "code",
   "execution_count": 37,
   "metadata": {
    "collapsed": false
   },
   "outputs": [
    {
     "data": {
      "text/plain": [
       "array([[ 0.693366],\n",
       "       [-0.400315],\n",
       "       [ 0.      ],\n",
       "       [ 0.      ]])"
      ]
     },
     "execution_count": 37,
     "metadata": {},
     "output_type": "execute_result"
    }
   ],
   "source": [
    "def rotor_estimation_ls_svd(points_a, points_b_noisy):\n",
    "    \n",
    "    gp_table = np.array([1,  2,  3,  4,  5,  6,  7,  8,\n",
    "                         2,  1,  7, -6,  8, -4,  3,  5,\n",
    "                         3, -7,  1,  5,  4,  8, -2,  6,\n",
    "                         4,  6, -5,  1, -3,  2,  8,  7,\n",
    "                         5,  8, -4,  3, -1, -7,  6, -2,\n",
    "                         6,  4,  8, -2,  7, -1, -5, -3,\n",
    "                         7, -3,  2,  8, -6,  5, -1, -4, \n",
    "                         8,  5,  6,  7, -2, -3, -4, -1]).reshape(8,8)\n",
    "\n",
    "    def gp_tensor():\n",
    "        dim = 8\n",
    "        tensor = np.zeros((8,8,8))\n",
    "        for k in range(dim):\n",
    "            for i in range(dim):\n",
    "                for j in range(dim):\n",
    "                    val = gp_table[i,j]\n",
    "                    if abs(val) == k + 1:\n",
    "                        tensor[k,i,j] = np.sign(val)\n",
    "        return tensor\n",
    "\n",
    "    def gp_left_matrix(multivector):\n",
    "        tensor = gp_tensor()\n",
    "        matrix = np.zeros((8,8))\n",
    "        for i in range(8):\n",
    "            t = tensor[i,:,:]\n",
    "            matrix[i,:] = np.inner(t.T,multivector.T).reshape(-1)\n",
    "        return matrix\n",
    "\n",
    "    def gp_right_matrix(multivector):\n",
    "        tensor = gp_tensor()\n",
    "        matrix = np.zeros((8,8))\n",
    "        for i in range(8):\n",
    "            t = tensor[i,:,:]\n",
    "            matrix[i,:] = np.inner(multivector.T,t).reshape(-1)\n",
    "        return matrix\n",
    "\n",
    "    A = [np.array([0.0, p[0], p[1], p[2], 0.0, 0.0, 0.0, 0.0]).reshape(8,1) for p in points_a]\n",
    "    B = [np.array([0.0, p[0], p[1], p[2], 0.0, 0.0, 0.0, 0.0]).reshape(8,1) for p in points_b_noisy]\n",
    "\n",
    "    gp_a = np.row_stack([gp_right_matrix(a) for a in A])\n",
    "    b_gp = np.row_stack([gp_left_matrix(b) for b in B])\n",
    "    m = gp_a - b_gp\n",
    "\n",
    "    [U,s,Vt] = np.linalg.svd(m)\n",
    "    names = ('sc', 'e1', 'e2', 'e3', 'e23', 'e31', 'e12', 'e123')\n",
    "    res = np.recarray(1, formats = 8*['f8'], names=names, buf=Vt.T[:,-1])\n",
    "    rotor = np.array([res['sc'], res['e12'], -res['e31'], res['e23']])\n",
    "    return rotor\n",
    "\n",
    "rotor_estimation_ls_svd(points_a.copy(), points_b_noisy.copy())"
   ]
  },
  {
   "cell_type": "markdown",
   "metadata": {},
   "source": [
    "### \"*Least-squares estimation of transformation parameters between two point patterns*\" by Shinji Umeyama"
   ]
  },
  {
   "cell_type": "code",
   "execution_count": 38,
   "metadata": {
    "collapsed": false
   },
   "outputs": [],
   "source": [
    "def umeyama(src, dst):\n",
    "    '''\n",
    "    Estimates transform between src and dst points.\n",
    "    The algorithm is based on:\n",
    "    \"Least-squares estimation of transformation parameters between two point patterns\",\n",
    "    Shinji Umeyama, PAMI 1991, DOI: 10.1109/34.88573\n",
    "    '''\n",
    "    assert src.shape == dst.shape\n",
    "\n",
    "    m = src.shape[0]\n",
    "    n = src.shape[1]\n",
    "    one_over_n = 1.0/n\n",
    "\n",
    "    # compute mean\n",
    "    src_mean = np.sum(src, axis=1) * one_over_n\n",
    "    dst_mean = np.sum(dst, axis=1) * one_over_n\n",
    "\n",
    "    # demean\n",
    "    src_demean = src - src_mean[:,np.newaxis]\n",
    "    dst_demean = dst - dst_mean[:,np.newaxis]\n",
    "\n",
    "\n",
    "    # Eq. (36)-(37)\n",
    "    src_var = np.sum(src_demean**2) * one_over_n\n",
    "\n",
    "    # Eq. (38)\n",
    "    sigma = one_over_n * np.dot(dst_demean, src_demean.T);\n",
    "\n",
    "    U, d, Vt = np.linalg.svd(sigma)\n",
    "\n",
    "    # Initialize the resulting transformation with an identity matrix...\n",
    "    Rt = np.eye(m+1)\n",
    "\n",
    "    # Eq. (39)\n",
    "    S = np.ones(m);\n",
    "    if np.linalg.det(sigma) < 0:\n",
    "        S[m-1] = -1;\n",
    "    \n",
    "    # Eq. (40) and (43)\n",
    "    rank = 0\n",
    "    for i in range(m):\n",
    "        if d[i] > 1e-12*d[0]:\n",
    "            rank +=1\n",
    "\n",
    "    if rank == m-1:\n",
    "        if np.linalg.det(U) * np.linalg.det(Vt.T) > 0:\n",
    "            Rt[0:m,0:m] = np.dot(U, Vt)\n",
    "        else:\n",
    "            s = S[m-1]\n",
    "            S[m-1] = -1\n",
    "            Rt[0:m,0:m] =  np.dot(np.dot(U, np.diag(S)), Vt)\n",
    "            S[m-1] = s\n",
    "    else:\n",
    "        Rt[0:m,0:m] =  np.dot(np.dot(U, np.diag(S)), Vt)\n",
    "    \n",
    "    # Eq. (42)\n",
    "    c = 1.0/src_var * np.dot(d, S);\n",
    "\n",
    "    # Eq. (41)\n",
    "    Rt[0:m,m] = dst_mean\n",
    "    Rt[0:m,m] -= c*np.dot(Rt[0:m,0:m], src_mean)\n",
    "\n",
    "    return Rt\n",
    "\n",
    "umeyama_r = umeyama(points_a.T,points_b_noisy.T)[:3,:3]"
   ]
  },
  {
   "cell_type": "markdown",
   "metadata": {},
   "source": [
    "### \"*Least-Squares Fitting of Two 3-D Point Sets*\" by K.S. Arun, T. S. Huang and S. D. Blostein"
   ]
  },
  {
   "cell_type": "code",
   "execution_count": 39,
   "metadata": {
    "collapsed": false
   },
   "outputs": [
    {
     "data": {
      "text/plain": [
       "array([[ 0.5     , -0.866025,  0.      ],\n",
       "       [ 0.866025,  0.5     , -0.      ],\n",
       "       [ 0.      , -0.      ,  1.      ]])"
      ]
     },
     "execution_count": 39,
     "metadata": {},
     "output_type": "execute_result"
    }
   ],
   "source": [
    "def estsimt(X1,X2):\n",
    "    # from estsimt.m in MultiCameSelfCal\n",
    "\n",
    "    # ESTimate SIMilarity Transformation\n",
    "    #\n",
    "    # [s,R,T] = estsimt(X1,X2)\n",
    "    #\n",
    "    # X1,X2 ... 3xN matrices with corresponding 3D points\n",
    "    #\n",
    "    # X2 = s*R*X1 + T\n",
    "    # s ... scalar scale\n",
    "    # R ... 3x3 rotation matrix\n",
    "    # T ... 3x1 translation vector\n",
    "    #\n",
    "    # This is done according to the paper:\n",
    "    # \"Least-Squares Fitting of Two 3-D Point Sets\"\n",
    "    # by K.S. Arun, T. S. Huang and S. D. Blostein\n",
    "\n",
    "    N = X1.shape[1]\n",
    "    if N != X2.shape[1]:\n",
    "        raise ValueError('both X1 and X2 must have same number of points')\n",
    "\n",
    "    X1cent = np.mean(X1,axis=1)\n",
    "    X2cent = np.mean(X2,axis=1)\n",
    "    # normalize coordinate systems for both set of points\n",
    "    x1 = X1 - X1cent[:,np.newaxis]\n",
    "    x2 = X2 - X2cent[:,np.newaxis]\n",
    "\n",
    "    # mutual distances\n",
    "    d1 = x1[:,1:]-x1[:,:-1]\n",
    "    d2 = x2[:,1:]-x2[:,:-1]\n",
    "    ds1 = np.sqrt( np.sum( d1**2, axis=0) )\n",
    "    ds2 = np.sqrt( np.sum( d2**2, axis=0) )\n",
    "\n",
    "    scales = ds2/ds1\n",
    "    s = np.median( scales )\n",
    "\n",
    "    # undo scale\n",
    "    x1s = s*x1\n",
    "\n",
    "    # finding rotation\n",
    "    H = np.zeros((3,3))\n",
    "    for i in range(N):\n",
    "        tmp1 = x1s[:,i,np.newaxis]\n",
    "        tmp2 = x2[np.newaxis,:,i]\n",
    "        tmp = np.dot(tmp1,tmp2)\n",
    "        H += tmp\n",
    "\n",
    "    U,S,Vt = np.linalg.svd(H)\n",
    "    V = Vt.T\n",
    "    X = np.dot(V,U.T)\n",
    "    R=X\n",
    "\n",
    "    T = X2cent - s*np.dot(R,X1cent)\n",
    "    return s,R,T\n",
    "\n",
    "(s, R, T) = estsimt(points_a.T,points_b_noisy.T)\n",
    "R"
   ]
  },
  {
   "cell_type": "markdown",
   "metadata": {},
   "source": [
    "## Results"
   ]
  },
  {
   "cell_type": "code",
   "execution_count": 40,
   "metadata": {
    "collapsed": false
   },
   "outputs": [],
   "source": [
    "def rotor_to_quaternion(rotor):\n",
    "    return np.array([-rotor[3], rotor[2], -rotor[1],rotor[0]]).ravel()\n",
    "def rotor_to_matrix(rotor):\n",
    "    return quaternion_to_matrix(rotor_to_quaternion(rotor.ravel()))[:3,:3]"
   ]
  },
  {
   "cell_type": "markdown",
   "metadata": {},
   "source": [
    "### Non-Linear Least Squares Rotor Estimation "
   ]
  },
  {
   "cell_type": "code",
   "execution_count": 41,
   "metadata": {
    "collapsed": false
   },
   "outputs": [
    {
     "data": {
      "image/png": "[encoded data removed]",
      "text/plain": [
       "<matplotlib.figure.Figure at 0x7f949ea44f10>"
      ]
     },
     "metadata": {},
     "output_type": "display_data"
    },
    {
     "name": "stdout",
     "output_type": "stream",
     "text": [
      "5\n",
      "5\n",
      "7\n"
     ]
    }
   ],
   "source": [
    "iterations_re = re.summary()['iterations']\n",
    "plt.plot([iteration['gradient_max_norm'] for iteration in iterations_re], label='full rotor')\n",
    "iterations_rbe = rbe.summary()['iterations']\n",
    "plt.plot([iteration['gradient_max_norm'] for iteration in iterations_rbe],label='bivector generator')\n",
    "iterations_qe = qe.summary()['iterations']\n",
    "plt.plot([iteration['gradient_max_norm'] for iteration in iterations_qe],label='quaternion')\n",
    "plt.legend()\n",
    "plt.xticks([iteration['iteration'] for iteration in max(iterations_rbe, iterations_re)])\n",
    "plt.xlabel('iteration')\n",
    "plt.ylabel('gradient max norm')\n",
    "\n",
    "plt.show()\n",
    "\n",
    "print(len(iterations_re))\n",
    "print(len(iterations_qe))\n",
    "print(len(iterations_rbe))"
   ]
  },
  {
   "cell_type": "code",
   "execution_count": 42,
   "metadata": {
    "collapsed": false
   },
   "outputs": [],
   "source": [
    "def rotor_euclidean_rms_distance(rotor, points_a, points_b):\n",
    "    r = rotor_to_matrix(rotor)\n",
    "    points_b_estimated = np.array([np.dot(r,point.reshape(3,1)).reshape(3) \n",
    "                                   for point in points_a])\n",
    "    rms = np.sum([np.linalg.norm(pb - pbe) \n",
    "                  for pb, pbe in zip(points_b, points_b_estimated)]) / np.sqrt(len(points_a))\n",
    "    return rms\n",
    "def quaternion_euclidean_rms_distance(quaternion, points_a, points_b):\n",
    "    r = quaternion_to_matrix(np.array([quaternion[1], \n",
    "                                       quaternion[2], \n",
    "                                       quaternion[3], \n",
    "                                       quaternion[0]]).ravel())[:3,:3]\n",
    "    points_b_estimated = np.array([np.dot(r,point.reshape(3,1)).reshape(3) \n",
    "                                   for point in points_a])\n",
    "    rms = np.sum([np.linalg.norm(pb - pbe) \n",
    "                  for pb, pbe in zip(points_b, points_b_estimated)]) / np.sqrt(len(points_a))\n",
    "    return rms\n",
    "def matrix_euclidean_rms_distance(matrix, points_a, points_b):\n",
    "    points_b_estimated = np.array([np.dot(matrix,point.reshape(3,1)).reshape(3) \n",
    "                                   for point in points_a])\n",
    "    rms = np.sum([np.linalg.norm(pb - pbe) \n",
    "                  for pb, pbe in zip(points_b, points_b_estimated)]) / np.sqrt(len(points_a))\n",
    "    return rms"
   ]
  },
  {
   "cell_type": "code",
   "execution_count": 43,
   "metadata": {
    "collapsed": false
   },
   "outputs": [],
   "source": [
    "def euclidean_rms(f, points):\n",
    "    (points_a, points_b, points_b_noisy) = points \n",
    "    r = f(points_a, points_b_noisy)\n",
    "    points_b_estimated = np.array([np.dot(r,point.reshape(3,1)).reshape(3) \n",
    "                                   for point in points_a])\n",
    "#     rms = np.sum([np.linalg.norm(pb - pbe) \n",
    "#                   for pb, pbe in zip(points_b, points_b_estimated)]) / np.sqrt(len(points_a))\n",
    "    \n",
    "    rms = np.sum([np.arccos(np.dot(pb, pbe)) \n",
    "                  for pb, pbe in zip(points_b, points_b_estimated)]) / np.sqrt(len(points_a))\n",
    "    \n",
    "    return rms"
   ]
  },
  {
   "cell_type": "code",
   "execution_count": 44,
   "metadata": {
    "collapsed": true
   },
   "outputs": [],
   "source": [
    "nls_r_1 = lambda points : euclidean_rms(lambda points_a, points_b_noisy: \n",
    "                            rotor_to_matrix(rotor_estimation.RotorEstimation(solver_options)\n",
    "                                            .run(rotor_parameters.copy(), points_a, points_b_noisy)),\n",
    "                            points)"
   ]
  },
  {
   "cell_type": "code",
   "execution_count": 45,
   "metadata": {
    "collapsed": false
   },
   "outputs": [],
   "source": [
    "nls_r_2 = lambda points : euclidean_rms(lambda points_a, points_b_noisy : \n",
    "                            rotor_to_matrix(rotor_estimation.RotorBivectorGeneratorEstimation()\n",
    "                                            .run(bivector_parameters.copy(), points_a, points_b_noisy)), \n",
    "                                 points)"
   ]
  },
  {
   "cell_type": "code",
   "execution_count": 46,
   "metadata": {
    "collapsed": false
   },
   "outputs": [],
   "source": [
    "nls_q = lambda points : euclidean_rms(lambda points_a, points_b_noisy : \n",
    "                            quaternion_to_matrix(np.roll(rotor_estimation.QuaternionEstimation(solver_options)\n",
    "                                                         .run(quaternion_parameters.copy(), \n",
    "                                                              points_a, \n",
    "                                                              points_b_noisy).ravel(), -1))[:3,:3],\n",
    "                            points)"
   ]
  },
  {
   "cell_type": "code",
   "execution_count": 47,
   "metadata": {
    "collapsed": true
   },
   "outputs": [],
   "source": [
    "ls_svd = lambda points : euclidean_rms(lambda points_a, points_b_noisy : \n",
    "                                rotor_to_matrix(rotor_estimation_ls_svd(points_a, points_b_noisy)), \n",
    "                                points)"
   ]
  },
  {
   "cell_type": "code",
   "execution_count": 48,
   "metadata": {
    "collapsed": false
   },
   "outputs": [],
   "source": [
    "um = lambda points : euclidean_rms(lambda points_a, points_b_noisy : \n",
    "                             umeyama(points_a.T,points_b_noisy.T)[:3,:3], \n",
    "                             points)"
   ]
  },
  {
   "cell_type": "code",
   "execution_count": 51,
   "metadata": {
    "collapsed": true
   },
   "outputs": [],
   "source": [
    "arun = lambda points : euclidean_rms(lambda points_a, points_b_noisy : \n",
    "                                     estsimt(points_a.T,points_b_noisy.T)[1],\n",
    "                                    points)"
   ]
  },
  {
   "cell_type": "code",
   "execution_count": 78,
   "metadata": {
    "collapsed": false
   },
   "outputs": [
    {
     "data": {
      "text/html": [
       "<table border=\"1\" cellpadding=\"3\" cellspacing=\"0\"  style=\"border:1px solid black;border-collapse:collapse;\"><tr><td  style=\"background-color:White;border-left: 1px solid transparent;border-top: 1px solid transparent;\"><b></b></td><td  style=\"background-color:LightGray;\"><b>Mean&nbsp$\\mu$</b></td><td  style=\"background-color:LightGray;\"><b>Std.dev.&nbsp$\\sigma$</b></td></tr><tr><td  style=\"background-color:LightGray;\"><b>nls_r_1</b></td><td  style=\"background-color:Ivory;\">0.1393</td><td  style=\"background-color:Ivory;\">0.0624</td></tr><tr><td  style=\"background-color:LightGray;\"><b>nls_r_2</b></td><td  style=\"background-color:AliceBlue;\">0.1393</td><td  style=\"background-color:AliceBlue;\">0.0624</td></tr><tr><td  style=\"background-color:LightGray;\"><b>nls_q</b></td><td  style=\"background-color:Ivory;\">0.1393</td><td  style=\"background-color:Ivory;\">0.0624</td></tr><tr><td  style=\"background-color:LightGray;\"><b>ls_svd</b></td><td  style=\"background-color:AliceBlue;\">1.0540</td><td  style=\"background-color:AliceBlue;\">1.1854</td></tr><tr><td  style=\"background-color:LightGray;\"><b>umeyama</b></td><td  style=\"background-color:Ivory;\">0.1455</td><td  style=\"background-color:Ivory;\">0.0648</td></tr><tr><td  style=\"background-color:LightGray;\"><b>arun</b></td><td  style=\"background-color:AliceBlue;\">0.1455</td><td  style=\"background-color:AliceBlue;\">0.0648</td></tr></table>"
      ],
      "text/plain": [
       "<ipy_table.IpyTable at 0x7f949ea8a6d0>"
      ]
     },
     "execution_count": 78,
     "metadata": {},
     "output_type": "execute_result"
    }
   ],
   "source": [
    "solvers = [nls_r_1, nls_r_2, nls_q, ls_svd, um, arun]\n",
    "n_points = 10\n",
    "n_samples = 1000\n",
    "sigma = 0.09\n",
    "mu = 0.0\n",
    "points_set = [generate_dataset(n_points, sigma, mu) for i in range(n_samples)]\n",
    "means_and_stds = [(np.mean(l), np.std(l)) \n",
    "                  for l in [[solver(points) for points in points_set] for solver in solvers]]\n",
    "\n",
    "t = [\n",
    "    ['', 'Mean $\\mu$', 'Std.dev. $\\sigma$'],\n",
    "    ['nls_r_1', means_and_stds[0][0],means_and_stds[0][1]], \n",
    "    ['nls_r_2', means_and_stds[1][0],means_and_stds[1][1]],\n",
    "    ['nls_q',   means_and_stds[2][0],means_and_stds[2][1]],\n",
    "    ['ls_svd',  means_and_stds[3][0],means_and_stds[3][1]],\n",
    "    ['umeyama', means_and_stds[4][0],means_and_stds[4][1]],\n",
    "    ['arun',    means_and_stds[5][0],means_and_stds[5][1]]\n",
    "];\n",
    "make_table(t)\n",
    "apply_theme('basic_both')"
   ]
  },
  {
   "cell_type": "code",
   "execution_count": 79,
   "metadata": {
    "collapsed": false
   },
   "outputs": [
    {
     "data": {
      "text/html": [
       "<table border=\"1\" cellpadding=\"3\" cellspacing=\"0\"  style=\"border:1px solid black;border-collapse:collapse;\"><tr><td  style=\"background-color:White;border-left: 1px solid transparent;border-top: 1px solid transparent;\"><b></b></td><td  style=\"background-color:LightGray;\"><b>Mean&nbsp$\\mu$</b></td><td  style=\"background-color:LightGray;\"><b>Std.dev.&nbsp$\\sigma$</b></td></tr><tr><td  style=\"background-color:LightGray;\"><b>nls_r_1</b></td><td  style=\"background-color:Ivory;\">0.2861</td><td  style=\"background-color:Ivory;\">0.1187</td></tr><tr><td  style=\"background-color:LightGray;\"><b>nls_r_2</b></td><td  style=\"background-color:AliceBlue;\">0.2861</td><td  style=\"background-color:AliceBlue;\">0.1187</td></tr><tr><td  style=\"background-color:LightGray;\"><b>nls_q</b></td><td  style=\"background-color:Ivory;\">0.2861</td><td  style=\"background-color:Ivory;\">0.1187</td></tr><tr><td  style=\"background-color:LightGray;\"><b>ls_svd</b></td><td  style=\"background-color:AliceBlue;\">1.1342</td><td  style=\"background-color:AliceBlue;\">1.1096</td></tr><tr><td  style=\"background-color:LightGray;\"><b>umeyama</b></td><td  style=\"background-color:Ivory;\">0.2978</td><td  style=\"background-color:Ivory;\">0.1248</td></tr><tr><td  style=\"background-color:LightGray;\"><b>arun</b></td><td  style=\"background-color:AliceBlue;\">0.3010</td><td  style=\"background-color:AliceBlue;\">0.1649</td></tr></table>"
      ],
      "text/plain": [
       "<ipy_table.IpyTable at 0x7f949ea8a110>"
      ]
     },
     "execution_count": 79,
     "metadata": {},
     "output_type": "execute_result"
    }
   ],
   "source": [
    "solvers = [nls_r_1, nls_r_2, nls_q, ls_svd, um, arun]\n",
    "n_points = 10\n",
    "n_samples = 1000\n",
    "sigma = 0.18\n",
    "mu = 0.0\n",
    "points_set = [generate_dataset(n_points, sigma, mu) for i in range(n_samples)]\n",
    "means_and_stds = [(np.mean(l), np.std(l)) \n",
    "                  for l in [[solver(points) for points in points_set] for solver in solvers]]\n",
    "\n",
    "t = [\n",
    "    ['', 'Mean $\\mu$', 'Std.dev. $\\sigma$'],\n",
    "    ['nls_r_1', means_and_stds[0][0],means_and_stds[0][1]], \n",
    "    ['nls_r_2', means_and_stds[1][0],means_and_stds[1][1]],\n",
    "    ['nls_q',   means_and_stds[2][0],means_and_stds[2][1]],\n",
    "    ['ls_svd',  means_and_stds[3][0],means_and_stds[3][1]],\n",
    "    ['umeyama', means_and_stds[4][0],means_and_stds[4][1]],\n",
    "    ['arun',    means_and_stds[5][0],means_and_stds[5][1]]\n",
    "];\n",
    "make_table(t)\n",
    "apply_theme('basic_both')"
   ]
  },
  {
   "cell_type": "code",
   "execution_count": null,
   "metadata": {
    "collapsed": false
   },
   "outputs": [],
   "source": [
    "points_b - points_b_noisy\n",
    "rms = np.sum([np.linalg.norm(pb - pbe) for pb, pbe in zip(points_b, points_b_noisy)]) / np.sqrt(len(points_b))\n",
    "rms / 2.\n",
    "np.linalg.norm(pb - pbe)\n",
    "\n",
    "points_set[0]\n",
    "\n",
    "np.mean([np.linalg.norm(p[1] - p[2]) for p in points_set]) / 2"
   ]
  },
  {
   "cell_type": "code",
   "execution_count": 77,
   "metadata": {
    "collapsed": false
   },
   "outputs": [
    {
     "data": {
      "image/png": "[encoded data removed]",
      "text/plain": [
       "<matplotlib.figure.Figure at 0x7f949ec84190>"
      ]
     },
     "metadata": {},
     "output_type": "display_data"
    }
   ],
   "source": [
    "(points_a, points_b, points_b_noisy) = generate_dataset(10, 0.09, 0.0)\n",
    "\n",
    "fig, ax = plt.subplots(1)\n",
    "\n",
    "# ax.set_aspect('equal')\n",
    "plt.set_cmap('gray')\n",
    "\n",
    "almost_black = '#262626'\n",
    "spines_to_remove = ['top', 'right']\n",
    "for spine in spines_to_remove:\n",
    "    ax.spines[spine].set_visible(False)\n",
    "ax.xaxis.set_ticks_position('none')\n",
    "ax.yaxis.set_ticks_position('none')\n",
    "\n",
    "spines_to_keep = ['bottom', 'left']\n",
    "for spine in spines_to_keep:\n",
    "    ax.spines[spine].set_linewidth(0.5)\n",
    "    ax.spines[spine].set_color(almost_black)\n",
    "ax.xaxis.label.set_color(almost_black)\n",
    "ax.yaxis.label.set_color(almost_black)\n",
    "\n",
    "c = random.rand(n_points)\n",
    "\n",
    "x = points_a[:,0]\n",
    "y = points_a[:,1]\n",
    "ax.scatter(x, y, c='r',\n",
    "           edgecolor=almost_black, linewidth=0.15, \n",
    "           label=r\"$\\{\\bm{\\mathrm{a}}_i\\}$\")\n",
    "for i, txt in enumerate(range(n_points)):\n",
    "    ax.annotate(txt, (x[i],y[i]))\n",
    "    \n",
    "x = points_b[:,0]\n",
    "y = points_b[:,1]\n",
    "ax.scatter(x,y,c='b',\n",
    "           edgecolor=almost_black,linewidth=0.15, \n",
    "           label=r\"$\\{\\bm{\\mathrm{a}^\\prime}_i\\}$\")\n",
    "for i, txt in enumerate(range(n_points)):\n",
    "    ax.annotate(txt, (x[i],y[i]))\n",
    "    \n",
    "x = points_b_noisy[:,0]\n",
    "y = points_b_noisy[:,1]\n",
    "ax.scatter(x,y,c='g',\n",
    "           edgecolor=almost_black,linewidth=0.15, \n",
    "           label=r\"$\\{\\bm{\\mathrm{b}}_i\\}$\")\n",
    "for i, txt in enumerate(range(n_points)):\n",
    "    ax.annotate(txt, (x[i],y[i]))\n",
    "    \n",
    "ax.title.set_color(almost_black)\n",
    "ax.axhline(0, color=almost_black, linewidth=0.15)\n",
    "ax.axvline(0, color=almost_black, linewidth=0.15)\n",
    "\n",
    "# Remove the line around the legend box, and instead fill it with a light grey\n",
    "# Also only use one point for the scatterplot legend because the user will \n",
    "# get the idea after just one, they don't need three.\n",
    "light_grey = np.array([float(248)/float(255)]*3)\n",
    "legend = ax.legend(frameon=True, scatterpoints=1)\n",
    "rect = legend.get_frame()\n",
    "rect.set_facecolor(light_grey)\n",
    "rect.set_linewidth(0.0)\n",
    "\n",
    "# Change the legend label colors to almost black, too\n",
    "texts = legend.texts\n",
    "for t in texts:\n",
    "    t.set_color(almost_black)\n",
    "\n",
    "plt.xlabel(r'$\\bm{\\mathrm{e}}_1$-axis $[m]$')\n",
    "plt.ylabel(r'$\\bm{\\mathrm{e}}_2$-axis $[m]$')\n",
    "\n",
    "save_dir = '/home/lars/Dropbox/sharelatex/2016_phd_thesis_lt/figures'\n",
    "plt.show()\n",
    "fig.savefig(save_dir + '/rotor_estimation_xy_proj.pdf')"
   ]
  },
  {
   "cell_type": "code",
   "execution_count": null,
   "metadata": {
    "collapsed": true
   },
   "outputs": [],
   "source": []
  },
  {
   "cell_type": "code",
   "execution_count": null,
   "metadata": {
    "collapsed": false
   },
   "outputs": [],
   "source": [
    "from mpl_toolkits.mplot3d import Axes3D\n",
    "def plot_point_clouds(points_a, points_b):\n",
    "    fig = plt.figure()\n",
    "    almost_black = '#262626'   \n",
    "    ax = plt.axes(projection='3d')\n",
    "    ax.xaxis.label.set_color(almost_black)\n",
    "    ax.yaxis.label.set_color(almost_black)\n",
    "\n",
    "    spines_to_remove = ['bottom', 'right']\n",
    "    for spine in spines_to_remove:\n",
    "        ax.spines[spine].set_visible(False)\n",
    "    ax.xaxis.set_ticks_position('none')\n",
    "    ax.yaxis.set_ticks_position('none')\n",
    "    \n",
    "    n = points_a.shape[0]\n",
    "    x = points_a[:,0]\n",
    "    y = points_a[:,1]\n",
    "    z = points_a[:,2]\n",
    "    c = x + y\n",
    "    ax.scatter(x, y, z, c = c )\n",
    "    x = points_b[:,0]\n",
    "    y = points_b[:,1]\n",
    "    z = points_b[:,2]\n",
    "     \n",
    "    ax.scatter(x, y, z, c = c)\n",
    "    ax.set_xlabel('$x$-axis')\n",
    "    ax.set_ylabel('$y$-axis')\n",
    "    ax.set_zlabel('$z$-axis')\n",
    "    \n",
    "plot_point_clouds(points_a, points_b)"
   ]
  },
  {
   "cell_type": "code",
   "execution_count": null,
   "metadata": {
    "collapsed": false
   },
   "outputs": [],
   "source": [
    "# fig = plt.figure()\n",
    "# x = points_b[:,0]\n",
    "# y = points_b[:,1]\n",
    "# c = x + y\n",
    "# plt.scatter(x, y, c = c)\n",
    "# x = points_b_estimated[:,0]\n",
    "# y = points_b_estimated[:,1]\n",
    "# plt.scatter(x,y,c = c)\n",
    "# plt.show()"
   ]
  }
 ],
 "metadata": {
  "kernelspec": {
   "display_name": "Python 2",
   "language": "python",
   "name": "python2"
  },
  "language_info": {
   "codemirror_mode": {
    "name": "ipython",
    "version": 2
   },
   "file_extension": ".py",
   "mimetype": "text/x-python",
   "name": "python",
   "nbconvert_exporter": "python",
   "pygments_lexer": "ipython2",
   "version": "2.7.6"
  }
 },
 "nbformat": 4,
 "nbformat_minor": 0
}
