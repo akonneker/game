{
 "cells": [
  {
   "cell_type": "markdown",
   "metadata": {},
   "source": [
    "# Rotor Estimation using the Tensor Representation of Geometric Algebra"
   ]
  },
  {
   "cell_type": "code",
   "execution_count": 2,
   "metadata": {
    "collapsed": false
   },
   "outputs": [
    {
     "name": "stdout",
     "output_type": "stream",
     "text": [
      "Populating the interactive namespace from numpy and matplotlib\n"
     ]
    }
   ],
   "source": [
    "from __future__ import print_function\n",
    "import sys\n",
    "sys.path.append('../build/')\n",
    "%pylab inline\n",
    "np.set_printoptions(precision=2, suppress=True,threshold=np.inf)\n",
    "import versor as vsr"
   ]
  },
  {
   "cell_type": "markdown",
   "metadata": {},
   "source": [
    "## Dataset generation"
   ]
  },
  {
   "cell_type": "code",
   "execution_count": 5,
   "metadata": {
    "collapsed": true
   },
   "outputs": [],
   "source": [
    "r = vsr.Rot(vsr.Biv(0,1,0) * np.pi/6.0)"
   ]
  },
  {
   "cell_type": "code",
   "execution_count": 20,
   "metadata": {
    "collapsed": false
   },
   "outputs": [],
   "source": [
    "R = np.zeros((3,3))\n",
    "for i in range(3):\n",
    "    for j in range(3):\n",
    "        a = vsr.Vec(0,0,0)\n",
    "        b = vsr.Vec(0,0,0)\n",
    "        a[j] = 1\n",
    "        b[i] = 1\n",
    "        R[i,j] = b <= a.spin(r)        "
   ]
  },
  {
   "cell_type": "code",
   "execution_count": 23,
   "metadata": {
    "collapsed": false
   },
   "outputs": [
    {
     "data": {
      "text/plain": [
       "array([[ 0.5 ,  0.  , -0.87],\n",
       "       [ 0.  ,  1.  ,  0.  ],\n",
       "       [ 0.87,  0.  ,  0.5 ]])"
      ]
     },
     "execution_count": 23,
     "metadata": {},
     "output_type": "execute_result"
    }
   ],
   "source": [
    "R"
   ]
  },
  {
   "cell_type": "code",
   "execution_count": 16,
   "metadata": {
    "collapsed": false
   },
   "outputs": [
    {
     "data": {
      "text/plain": [
       "Vec: [ 0.5 0 0.87 ]"
      ]
     },
     "execution_count": 16,
     "metadata": {},
     "output_type": "execute_result"
    }
   ],
   "source": [
    "vsr.Vec(1,0,0).spin(r)"
   ]
  },
  {
   "cell_type": "code",
   "execution_count": 19,
   "metadata": {
    "collapsed": false
   },
   "outputs": [
    {
     "data": {
      "text/plain": [
       "Vec: [ 0 1 0 ]"
      ]
     },
     "execution_count": 19,
     "metadata": {},
     "output_type": "execute_result"
    }
   ],
   "source": [
    "vsr.Vec(0,1,0).spin(r)"
   ]
  },
  {
   "cell_type": "code",
   "execution_count": 18,
   "metadata": {
    "collapsed": false
   },
   "outputs": [
    {
     "data": {
      "text/plain": [
       "Vec: [ -0.87 0 0.5 ]"
      ]
     },
     "execution_count": 18,
     "metadata": {},
     "output_type": "execute_result"
    }
   ],
   "source": [
    "vsr.Vec(0,0,1).spin(r)"
   ]
  },
  {
   "cell_type": "code",
   "execution_count": 64,
   "metadata": {
    "collapsed": true
   },
   "outputs": [],
   "source": [
    "n_points = 10\n",
    "sigma = 0.09\n",
    "points_a = [vsr.Vec(*np.random.normal(0.0, 0.8, 3))\n",
    "            for i in range(n_points)]\n",
    "points_b = [point.spin(rotor) for point in points_a]\n",
    "points_b_noisy = [vsr.Vec(*(np.array(point)[:3] \n",
    "                            + sigma * np.random.randn(3))) \n",
    "                  for point in points_b]"
   ]
  },
  {
   "cell_type": "code",
   "execution_count": 65,
   "metadata": {
    "collapsed": false
   },
   "outputs": [
    {
     "name": "stdout",
     "output_type": "stream",
     "text": [
      "Rot: [ 0.92 0 0.38 0 ]\n",
      "Rot: [ 0.92 0 0.38 0 ]\n",
      "[[-0.06  0.37 -0.07  0.92]\n",
      " [ 0.52  0.25  0.81 -0.  ]\n",
      " [ 0.16 -0.89  0.18  0.38]\n",
      " [-0.84 -0.04  0.55 -0.  ]]\n",
      "[ 9.58  6.67  5.86  0.  ]\n"
     ]
    }
   ],
   "source": [
    "rotor = vsr.Biv(0,-pi/8,0).exp()\n",
    "print(rotor)\n",
    "n_points = 3\n",
    "sigma = 0.09\n",
    "points_a = [vsr.Vec(*np.random.normal(0.0, 0.8, 3))\n",
    "            for i in range(n_points)]\n",
    "points_b = [point.spin(rotor) for point in points_a]\n",
    "points_b_noisy = [vsr.Vec(*(np.array(point)[:3] \n",
    "                            + sigma * np.random.randn(3))) \n",
    "                  for point in points_b]\n",
    "\n",
    "ega_a = [vsr.EGA(p) for p in points_a]\n",
    "ega_b = [vsr.EGA(p) for p in points_b]\n",
    "\n",
    "def matrix(a, b):\n",
    "    m = np.zeros((8,8))\n",
    "    for i in range(8):\n",
    "        ei = vsr.EGA(0,0,0,0,0,0,0,0)\n",
    "        ei[i] = i\n",
    "        m[i,:] = np.array(ei * a - b * ei)\n",
    "    return m\n",
    "\n",
    "print(vsr.Rot(vsr.EGA(rotor)))\n",
    "\n",
    "m = np.row_stack([\n",
    "        np.delete(np.delete(matrix(a,b),[0,4,5,6],0), [1,2,3,7],1)\n",
    "        for a, b in zip(ega_a, ega_b)]).copy()\n",
    "\n",
    "U,s,Vt = np.linalg.svd(m)\n",
    "print(Vt.T)\n",
    "print(s)"
   ]
  },
  {
   "cell_type": "markdown",
   "metadata": {},
   "source": [
    "## Solver"
   ]
  },
  {
   "cell_type": "code",
   "execution_count": 26,
   "metadata": {
    "collapsed": false
   },
   "outputs": [],
   "source": [
    "class Multivector(object):\n",
    "    def __init__(self, data=None):\n",
    "        if data is not None:\n",
    "            self._data = np.array(data).reshape(8,1)\n",
    "        else:\n",
    "            self._data = np.zeros((8,1))\n",
    "        self._grades = [0, 1, 1, 1, 2, 2, 2, 3]\n",
    "        self._gp_tensor = self._create_gp_tensor()\n",
    "        \n",
    "    def __repr__(self):\n",
    "        return self._data.ravel().__repr__()\n",
    "    \n",
    "#     @property\n",
    "#     def scalar(self):\n",
    "#         return self._data[0]\n",
    "    \n",
    "#     @scalar.setter\n",
    "    def scalar(self, scalar):\n",
    "        self._data[0] = scalar\n",
    "        return Multivector(self._data)\n",
    "    \n",
    "#     @property        \n",
    "        gp_table = np.array([1,  2,  3,  4,  5,  6,  7,  8,\n",
    "                             2,  1,  7, -6,  8, -4,  3,  5,\n",
    "                             3, -7,  1,  5,  4,  8, -2,  6,\n",
    "                             4,  6, -5,  1, -3,  2,  8,  7,\n",
    "                             5,  8, -4,  3, -1, -7,  6, -2,\n",
    "                             6,  4,  8, -2,  7, -1, -5, -3,\n",
    "                             7, -3,  2,  8, -6,  5, -1, -4, \n",
    "                             8,  5,  6,  7, -2, -3, -4, -1]).T.reshape(8,8)\n",
    "#     def vector(self):\n",
    "#         return self._data[1:4]\n",
    "    \n",
    "    def vector(self, vector):\n",
    "        self._data[1:4] = np.array(vector).copy().reshape(-1,1)\n",
    "        return Multivector(self._data)\n",
    "    \n",
    "#     @property\n",
    "#     def bivector(self):\n",
    "#         return self._data[4:7]\n",
    "    \n",
    "#     @bivector.setter\n",
    "    def bivector(self, bivector):\n",
    "        self._data[4:7] = np.array(bivector).copy().reshape(-1,1)\n",
    "        return Multivector(self._data)\n",
    "    \n",
    "#     @property\n",
    "#     def pseudoscalar(self):\n",
    "#         return self._data[7]\n",
    "    \n",
    "#     @pseudoscalar.setter\n",
    "    def pseudoscalar(self, pseudoscalar):\n",
    "        self._data[7] = pseudoscalar\n",
    "        return Multivector(self._data)\n",
    "    \n",
    "    def _create_gp_tensor(self):\n",
    "        M = np.zeros((8,8))\n",
    "        mask = np.array([1,2,3,4,5,6,7,8])\n",
    "        for i in range(8):\n",
    "            W = np.zeros((8,8))\n",
    "            for j in range(8):\n",
    "                a = vsr.EGA(0,0,0,0,0,0,0,0)\n",
    "                b = vsr.EGA(0,0,0,0,0,0,0,0)\n",
    "                a[i] = 1.\n",
    "                b[j] = 1.\n",
    "                M[i,j] = np.dot(mask, np.array(a * b))\n",
    "        gp_table = M.copy()\n",
    "        tensor = np.zeros((8,8,8))\n",
    "        for k in range(8):\n",
    "            for i in range(8):\n",
    "                for j in range(8):\n",
    "                    val = gp_table[i,j]\n",
    "                    if abs(val) == k + 1:\n",
    "                        tensor[k,i,j] = np.sign(val)\n",
    "        return tensor\n",
    "    \n",
    "    def gp_right_matrix(self):\n",
    "        return np.tensordot(self._gp_tensor.T,self._data,1).reshape(8,8)\n",
    "    \n",
    "    def gp_left_matrix(self):\n",
    "        return np.tensordot(self._data.T, self._gp_tensor,1).reshape(8,8)"
   ]
  },
  {
   "cell_type": "code",
   "execution_count": 27,
   "metadata": {
    "collapsed": false
   },
   "outputs": [
    {
     "data": {
      "text/plain": [
       "array([[ 0.,  1.,  2.,  3.,  0.,  0.,  0.,  0.],\n",
       "       [ 1.,  0.,  0.,  0.,  2.,  3.,  0.,  0.],\n",
       "       [ 2.,  0.,  0.,  0., -1.,  0.,  3.,  0.],\n",
       "       [ 3.,  0.,  0.,  0.,  0., -1., -2.,  0.],\n",
       "       [ 0., -2.,  1.,  0.,  0.,  0.,  0., -3.],\n",
       "       [ 0., -3.,  0.,  1.,  0.,  0.,  0.,  2.],\n",
       "       [ 0.,  0., -3.,  2.,  0.,  0.,  0., -1.],\n",
       "       [ 0.,  0.,  0.,  0., -3.,  2., -1.,  0.]])"
      ]
     },
     "execution_count": 27,
     "metadata": {},
     "output_type": "execute_result"
    }
   ],
   "source": [
    "Multivector(vsr.EGA(vsr.Vec(1,2,3))).gp_left_matrix()"
   ]
  },
  {
   "cell_type": "code",
   "execution_count": 28,
   "metadata": {
    "collapsed": false
   },
   "outputs": [
    {
     "data": {
      "text/plain": [
       "matrix([[ 0.,  1.,  2.,  3.,  0.,  0.,  0.,  0.]])"
      ]
     },
     "execution_count": 28,
     "metadata": {},
     "output_type": "execute_result"
    }
   ],
   "source": [
    "matrix(vsr.EGA(vsr.Vec(1,2,3)))"
   ]
  },
  {
   "cell_type": "code",
   "execution_count": 29,
   "metadata": {
    "collapsed": false
   },
   "outputs": [
    {
     "data": {
      "text/plain": [
       "array([-36.,   0.,   0.,   0.,   5.,   8.,   1.,   0.])"
      ]
     },
     "execution_count": 29,
     "metadata": {},
     "output_type": "execute_result"
    }
   ],
   "source": [
    "np.dot(Multivector(vsr.EGA(vsr.Vec(1,2,3))).gp_left_matrix(), vsr.EGA(vsr.Vec(-5,-5,-7)))"
   ]
  },
  {
   "cell_type": "code",
   "execution_count": 30,
   "metadata": {
    "collapsed": false
   },
   "outputs": [
    {
     "data": {
      "text/plain": [
       "Rot: [ -36 5 8 1 ]"
      ]
     },
     "execution_count": 30,
     "metadata": {},
     "output_type": "execute_result"
    }
   ],
   "source": [
    "vsr.Vec(1,2,3) * vsr.Vec(-5,-5,-7)"
   ]
  },
  {
   "cell_type": "code",
   "execution_count": 31,
   "metadata": {
    "collapsed": false
   },
   "outputs": [
    {
     "data": {
      "text/plain": [
       "Rot: [ -36 -5 -8 -1 ]"
      ]
     },
     "execution_count": 31,
     "metadata": {},
     "output_type": "execute_result"
    }
   ],
   "source": [
    "vsr.Vec(-5,-5,-7) * vsr.Vec(1,2,3)"
   ]
  },
  {
   "cell_type": "code",
   "execution_count": 32,
   "metadata": {
    "collapsed": true
   },
   "outputs": [],
   "source": [
    "def matrix(a, left=True):\n",
    "    m = np.zeros((8,8))\n",
    "    for i in range(8):\n",
    "        ei = vsr.EGA(0,0,0,0,0,0,0,0)\n",
    "        ei[i] = 1.0\n",
    "        if left:\n",
    "            m[i,:] = np.array(a * ei)\n",
    "        else:\n",
    "            m[i,:] = np.array(ei * a)\n",
    "    return m"
   ]
  },
  {
   "cell_type": "code",
   "execution_count": 33,
   "metadata": {
    "collapsed": false
   },
   "outputs": [
    {
     "name": "stdout",
     "output_type": "stream",
     "text": [
      "[[ 0. -2.  3. -2.  0.  0.  0.  0.]\n",
      " [-2.  0.  0.  0. -3.  2.  0.  0.]\n",
      " [ 3.  0.  0.  0. -2.  0.  2.  0.]\n",
      " [-2.  0.  0.  0.  0. -2.  3.  0.]\n",
      " [ 0. -3. -2.  0.  0.  0.  0. -2.]\n",
      " [ 0.  2.  0. -2.  0.  0.  0. -3.]\n",
      " [ 0.  0.  2.  3.  0.  0.  0. -2.]\n",
      " [ 0.  0.  0.  0. -2. -3. -2.  0.]]\n"
     ]
    },
    {
     "data": {
      "text/plain": [
       "array([[-2., -3.,  2.,  0.],\n",
       "       [ 3., -2.,  0.,  2.],\n",
       "       [-2.,  0., -2.,  3.],\n",
       "       [ 0., -2., -3., -2.]])"
      ]
     },
     "execution_count": 33,
     "metadata": {},
     "output_type": "execute_result"
    }
   ],
   "source": [
    "mask = [1,0,0,0,1,1,1,0]\n",
    "mask= np.outer(mask,mask)\n",
    "m = matrix(vsr.EGA(vsr.Vec(1,2,3))) - matrix(vsr.EGA(vsr.Vec(3,-1,5)),True) \n",
    "print(m)\n",
    "np.delete(np.delete(m,[0,4,5,6],0), [1,2,3,7],1)"
   ]
  },
  {
   "cell_type": "code",
   "execution_count": 34,
   "metadata": {
    "collapsed": false
   },
   "outputs": [
    {
     "data": {
      "text/plain": [
       "Mot: [ 0.87 -0.29 -0.29 -0.29 -0.72 -0.43 -0.14 0.14 ]"
      ]
     },
     "execution_count": 34,
     "metadata": {},
     "output_type": "execute_result"
    }
   ],
   "source": [
    "motor"
   ]
  },
  {
   "cell_type": "code",
   "execution_count": 35,
   "metadata": {
    "collapsed": false
   },
   "outputs": [
    {
     "name": "stdout",
     "output_type": "stream",
     "text": [
      "[ 7.93  7.93  7.75  7.75  2.26  2.26  0.    0.  ]\n",
      "[[-0.    0.43  0.   -0.   -0.   -0.25 -0.05  0.86]\n",
      " [-0.1  -0.   -0.79  0.58 -0.17  0.    0.    0.  ]\n",
      " [-0.75  0.   -0.    0.    0.44  0.   -0.5  -0.03]\n",
      " [ 0.5  -0.   -0.16  0.12  0.84 -0.   -0.    0.  ]\n",
      " [ 0.   -0.5   0.12  0.16 -0.   -0.84  0.   -0.  ]\n",
      " [ 0.   -0.75  0.    0.    0.    0.44 -0.03  0.5 ]\n",
      " [ 0.    0.1   0.58  0.79  0.    0.17 -0.    0.  ]\n",
      " [ 0.43 -0.    0.   -0.   -0.25 -0.   -0.86 -0.05]]\n",
      "Rot: [ 0.87 0 -0.5 0 ]\n"
     ]
    }
   ],
   "source": [
    "points_a = [vsr.EGA(vsr.Vec(1,0,0)), \n",
    "            vsr.EGA(vsr.Vec(0,0,1)),\n",
    "            vsr.EGA(vsr.Vec(1,2,3))]\n",
    "points_b = [a.spin(vsr.EGA(rotor)) for a in points_a]\n",
    "\n",
    "# n_points = 10\n",
    "# sigma = 0.09\n",
    "# points_a = [vsr.EGA(vsr.Vec(*np.random.normal(0.0, 0.8, 3)))\n",
    "#             for i in range(n_points)]\n",
    "# points_b = [point.spin(vsr.EGA(rotor)) for point in points_a]\n",
    "\n",
    "m = np.array([gp_a - gp_b for gp_a, gp_b in zip([Multivector(np.array(point)).gp_right_matrix()\n",
    "                                                 for point in points_a],\n",
    "                                                [Multivector(np.array(point)).gp_left_matrix()\n",
    "                                                 for point in points_b])]).reshape(-1,8)\n",
    "U,s,Vt = np.linalg.svd(m)\n",
    "print(s)\n",
    "print(Vt.T)\n",
    "print(rotor)"
   ]
  },
  {
   "cell_type": "code",
   "execution_count": 36,
   "metadata": {
    "collapsed": false
   },
   "outputs": [
    {
     "ename": "ValueError",
     "evalue": "could not broadcast input array from shape (8,1) into shape (3,1)",
     "output_type": "error",
     "traceback": [
      "\u001b[1;31m---------------------------------------------------------------------------\u001b[0m",
      "\u001b[1;31mValueError\u001b[0m                                Traceback (most recent call last)",
      "\u001b[1;32m<ipython-input-36-d0d2ce20aba5>\u001b[0m in \u001b[0;36m<module>\u001b[1;34m()\u001b[0m\n\u001b[1;32m----> 1\u001b[1;33m \u001b[0mMultivector\u001b[0m\u001b[1;33m(\u001b[0m\u001b[1;33m)\u001b[0m\u001b[1;33m.\u001b[0m\u001b[0mvector\u001b[0m\u001b[1;33m(\u001b[0m\u001b[0mpoints_a\u001b[0m\u001b[1;33m[\u001b[0m\u001b[1;36m0\u001b[0m\u001b[1;33m]\u001b[0m\u001b[1;33m)\u001b[0m\u001b[1;33m.\u001b[0m\u001b[0mgp_left_matrix\u001b[0m\u001b[1;33m(\u001b[0m\u001b[1;33m)\u001b[0m\u001b[1;33m\u001b[0m\u001b[0m\n\u001b[0m",
      "\u001b[1;32m<ipython-input-26-feec86752238>\u001b[0m in \u001b[0;36mvector\u001b[1;34m(self, vector)\u001b[0m\n\u001b[0;32m     33\u001b[0m \u001b[1;33m\u001b[0m\u001b[0m\n\u001b[0;32m     34\u001b[0m     \u001b[1;32mdef\u001b[0m \u001b[0mvector\u001b[0m\u001b[1;33m(\u001b[0m\u001b[0mself\u001b[0m\u001b[1;33m,\u001b[0m \u001b[0mvector\u001b[0m\u001b[1;33m)\u001b[0m\u001b[1;33m:\u001b[0m\u001b[1;33m\u001b[0m\u001b[0m\n\u001b[1;32m---> 35\u001b[1;33m         \u001b[0mself\u001b[0m\u001b[1;33m.\u001b[0m\u001b[0m_data\u001b[0m\u001b[1;33m[\u001b[0m\u001b[1;36m1\u001b[0m\u001b[1;33m:\u001b[0m\u001b[1;36m4\u001b[0m\u001b[1;33m]\u001b[0m \u001b[1;33m=\u001b[0m \u001b[0mnp\u001b[0m\u001b[1;33m.\u001b[0m\u001b[0marray\u001b[0m\u001b[1;33m(\u001b[0m\u001b[0mvector\u001b[0m\u001b[1;33m)\u001b[0m\u001b[1;33m.\u001b[0m\u001b[0mcopy\u001b[0m\u001b[1;33m(\u001b[0m\u001b[1;33m)\u001b[0m\u001b[1;33m.\u001b[0m\u001b[0mreshape\u001b[0m\u001b[1;33m(\u001b[0m\u001b[1;33m-\u001b[0m\u001b[1;36m1\u001b[0m\u001b[1;33m,\u001b[0m\u001b[1;36m1\u001b[0m\u001b[1;33m)\u001b[0m\u001b[1;33m\u001b[0m\u001b[0m\n\u001b[0m\u001b[0;32m     36\u001b[0m         \u001b[1;32mreturn\u001b[0m \u001b[0mMultivector\u001b[0m\u001b[1;33m(\u001b[0m\u001b[0mself\u001b[0m\u001b[1;33m.\u001b[0m\u001b[0m_data\u001b[0m\u001b[1;33m)\u001b[0m\u001b[1;33m\u001b[0m\u001b[0m\n\u001b[0;32m     37\u001b[0m \u001b[1;33m\u001b[0m\u001b[0m\n",
      "\u001b[1;31mValueError\u001b[0m: could not broadcast input array from shape (8,1) into shape (3,1)"
     ]
    }
   ],
   "source": [
    "Multivector().vector(points_a[0]).gp_left_matrix()"
   ]
  },
  {
   "cell_type": "code",
   "execution_count": 37,
   "metadata": {
    "collapsed": false
   },
   "outputs": [
    {
     "ename": "SyntaxError",
     "evalue": "invalid syntax (<ipython-input-37-7512b3dde167>, line 12)",
     "output_type": "error",
     "traceback": [
      "\u001b[1;36m  File \u001b[1;32m\"<ipython-input-37-7512b3dde167>\"\u001b[1;36m, line \u001b[1;32m12\u001b[0m\n\u001b[1;33m    )]         3, -7,  1,  5,  4,  8, -2,  6,\u001b[0m\n\u001b[1;37m    ^\u001b[0m\n\u001b[1;31mSyntaxError\u001b[0m\u001b[1;31m:\u001b[0m invalid syntax\n"
     ]
    }
   ],
   "source": [
    "class TensorRotorSolver(object):\n",
    "    def __init__(self):\n",
    "        self._gp_tensor = self._create_gp_tensor()\n",
    "        \n",
    "    @property\n",
    "    def gp_tensor(self):\n",
    "        return self._gp_tensor\n",
    "        \n",
    "    def _create_gp_tensor(self):\n",
    "        gp_table = np.array([1,  2,  3,  4,  5,  6,  7,  8,\n",
    "                             2,  1,  7, -6,  8, -4,  3,  5,\n",
    "                    )]         3, -7,  1,  5,  4,  8, -2,  6,\n",
    "                             4,  6, -5,  1, -3,  2,  8,  7,\n",
    "                             5,  8, -4,  3, -1, -7,  6, -2,\n",
    "                             6,  4,  8, -2,  7, -1, -5, -3,\n",
    "                             7, -3,  2,  8, -6,  5, -1, -4, \n",
    "                             8,  5,  6,  7, -2, -3, -4, -1]).T.reshape(8,8)\n",
    "        tensor = np.zeros((8,8,8))\n",
    "        for k in range(8):\n",
    "            for i in range(8):\n",
    "                for j in range(8):\n",
    "                    val = gp_table[i,j]\n",
    "                    if abs(val) == k + 1:\n",
    "                        tensor[k,i,j] = np.sign(val)\n",
    "        return tensor\n",
    "    \n",
    "    "
   ]
  },
  {
   "cell_type": "code",
   "execution_count": 38,
   "metadata": {
    "collapsed": true
   },
   "outputs": [],
   "source": [
    "def rotor_estimation_ls_svd(points_a, points_b):\n",
    "    \n",
    "#     gp_table = np.array([1,  2,  3,  4,  5,  6,  7,  8,\n",
    "#                          2,  1,  7, -6,  8, -4,  3,  5,\n",
    "#                          3, -7,  1,  5,  4,  8, -2,  6,\n",
    "#                          4,  6, -5,  1, -3,  2,  8,  7,\n",
    "#                          5,  8, -4,  3, -1, -7,  6, -2,\n",
    "#                          6,  4,  8, -2,  7, -1, -5, -3,\n",
    "#                          7, -3,  2,  8, -6,  5, -1, -4, \n",
    "#                          8,  5,  6,  7, -2, -3, -4, -1]).reshape(8,8)\n",
    "\n",
    "    M = np.zeros((8,8))\n",
    "    mask = np.array([1,2,3,4,5,6,7,8])\n",
    "    for i in range(8):\n",
    "        W = np.zeros((8,8))\n",
    "        for j in range(8):\n",
    "            a = vsr.EGA(0,0,0,0,0,0,0,0)\n",
    "            b = vsr.EGA(0,0,0,0,0,0,0,0)\n",
    "            a[i] = 1.\n",
    "            b[j] = 1.\n",
    "            M[i,j] = np.dot(mask, np.array(a * b))\n",
    "    gp_table = M.copy()\n",
    "\n",
    "    def gp_tensor():\n",
    "        dim = 8\n",
    "        tensor = np.zeros((8,8,8))\n",
    "        for k in range(dim):\n",
    "            for i in range(dim):\n",
    "                for j in range(dim):\n",
    "                    val = gp_table[i,j]\n",
    "                    if abs(val) == k + 1:\n",
    "                        tensor[k,i,j] = np.sign(val)\n",
    "        return tensor\n",
    "\n",
    "    def gp_left_matrix(multivector):\n",
    "        tensor = gp_tensor()\n",
    "        matrix = np.zeros((8,8))\n",
    "        for i in range(8):\n",
    "            t = tensor[i,:,:]\n",
    "            matrix[i,:] = np.inner(t.T,np.array(multivector).T).reshape(-1)\n",
    "        return matrix\n",
    "\n",
    "    def gp_right_matrix(multivector):\n",
    "        tensor = gp_tensor()\n",
    "        matrix = np.zeros((8,8))\n",
    "        for i in range(8):\n",
    "            t = tensor[i,:,:]\n",
    "            matrix[i,:] = np.inner(np.array(multivector).T,t).reshape(-1)\n",
    "        return matrix\n",
    "\n",
    "#     A = [np.array([0.0, p[0], p[1], p[2], 0.0, 0.0, 0.0, 0.0]).reshape(8,1) for p in points_a]\n",
    "#     B = [np.array([0.0, p[0], p[1], p[2], 0.0, 0.0, 0.0, 0.0]).reshape(8,1) for p in points_b]\n",
    "\n",
    "    gp_a = np.row_stack([\n",
    "        np.delete(np.delete(gp_right_matrix(a),[0,4,5,6],0), [1,2,3,7],1)\n",
    "         for a in points_a])\n",
    "    \n",
    "    b_gp = np.row_stack([\n",
    "            np.delete(np.delete(gp_left_matrix(b),[0,4,5,6],0), [1,2,3,7],1) for b in points_b])\n",
    "    m = gp_a - b_gp\n",
    "\n",
    "    [U,s,Vt] = np.linalg.svd(m)\n",
    "    print(Vt.T)\n",
    "    print(s)\n",
    "\n",
    "    names = ('sc', 'e1', 'e2', 'e3', 'e12', 'e13', 'e23', 'e123')\n",
    "    res = np.recarray(1, formats = 8*['f8'], names=names, buf=Vt.T[:,-2])\n",
    "    rotor = np.array([res['sc'], res['e12'], res['e13'], res['e23']])\n",
    "    return rotor, m"
   ]
  },
  {
   "cell_type": "code",
   "execution_count": 39,
   "metadata": {
    "collapsed": false
   },
   "outputs": [
    {
     "name": "stdout",
     "output_type": "stream",
     "text": [
      "[EGA: [ 0 1 0 0 0 0 0 0 ], EGA: [ 0 0 0 1 0 0 0 0 ], EGA: [ 0 1 2 3 0 0 0 0 ]]\n",
      "[EGA: [ 0 0.5 0 0.87 0 0 0 0 ], EGA: [ 0 -0.87 0 0.5 0 0 0 0 ], EGA: [ 0 -2.1 2 2.4 0 0 0 0 ]]\n",
      "[[-0.43 -0.   -0.25  0.87]\n",
      " [-0.5  -0.2   0.84 -0.  ]\n",
      " [-0.75 -0.   -0.44 -0.5 ]\n",
      " [ 0.1  -0.98 -0.17  0.  ]]\n",
      "[ 7.93  7.75  2.26  0.  ]\n"
     ]
    },
    {
     "ename": "TypeError",
     "evalue": "buffer is too small for requested array",
     "output_type": "error",
     "traceback": [
      "\u001b[1;31m---------------------------------------------------------------------------\u001b[0m",
      "\u001b[1;31mTypeError\u001b[0m                                 Traceback (most recent call last)",
      "\u001b[1;32m<ipython-input-39-39b2cd073fc1>\u001b[0m in \u001b[0;36m<module>\u001b[1;34m()\u001b[0m\n\u001b[0;32m      1\u001b[0m \u001b[1;32mprint\u001b[0m\u001b[1;33m(\u001b[0m\u001b[0mpoints_a\u001b[0m\u001b[1;33m)\u001b[0m\u001b[1;33m\u001b[0m\u001b[0m\n\u001b[0;32m      2\u001b[0m \u001b[1;32mprint\u001b[0m\u001b[1;33m(\u001b[0m\u001b[0mpoints_b\u001b[0m\u001b[1;33m)\u001b[0m\u001b[1;33m\u001b[0m\u001b[0m\n\u001b[1;32m----> 3\u001b[1;33m \u001b[0mr\u001b[0m\u001b[1;33m,\u001b[0m\u001b[0mm2\u001b[0m \u001b[1;33m=\u001b[0m \u001b[0mrotor_estimation_ls_svd\u001b[0m\u001b[1;33m(\u001b[0m\u001b[0mpoints_a\u001b[0m\u001b[1;33m,\u001b[0m \u001b[0mpoints_b\u001b[0m\u001b[1;33m)\u001b[0m\u001b[1;33m\u001b[0m\u001b[0m\n\u001b[0m\u001b[0;32m      4\u001b[0m \u001b[0mvsr\u001b[0m\u001b[1;33m.\u001b[0m\u001b[0mRot\u001b[0m\u001b[1;33m(\u001b[0m\u001b[1;33m*\u001b[0m\u001b[0mr\u001b[0m\u001b[1;33m)\u001b[0m\u001b[1;33m\u001b[0m\u001b[0m\n",
      "\u001b[1;32m<ipython-input-38-b426613e1b96>\u001b[0m in \u001b[0;36mrotor_estimation_ls_svd\u001b[1;34m(points_a, points_b)\u001b[0m\n\u001b[0;32m     65\u001b[0m \u001b[1;33m\u001b[0m\u001b[0m\n\u001b[0;32m     66\u001b[0m     \u001b[0mnames\u001b[0m \u001b[1;33m=\u001b[0m \u001b[1;33m(\u001b[0m\u001b[1;34m'sc'\u001b[0m\u001b[1;33m,\u001b[0m \u001b[1;34m'e1'\u001b[0m\u001b[1;33m,\u001b[0m \u001b[1;34m'e2'\u001b[0m\u001b[1;33m,\u001b[0m \u001b[1;34m'e3'\u001b[0m\u001b[1;33m,\u001b[0m \u001b[1;34m'e12'\u001b[0m\u001b[1;33m,\u001b[0m \u001b[1;34m'e13'\u001b[0m\u001b[1;33m,\u001b[0m \u001b[1;34m'e23'\u001b[0m\u001b[1;33m,\u001b[0m \u001b[1;34m'e123'\u001b[0m\u001b[1;33m)\u001b[0m\u001b[1;33m\u001b[0m\u001b[0m\n\u001b[1;32m---> 67\u001b[1;33m     \u001b[0mres\u001b[0m \u001b[1;33m=\u001b[0m \u001b[0mnp\u001b[0m\u001b[1;33m.\u001b[0m\u001b[0mrecarray\u001b[0m\u001b[1;33m(\u001b[0m\u001b[1;36m1\u001b[0m\u001b[1;33m,\u001b[0m \u001b[0mformats\u001b[0m \u001b[1;33m=\u001b[0m \u001b[1;36m8\u001b[0m\u001b[1;33m*\u001b[0m\u001b[1;33m[\u001b[0m\u001b[1;34m'f8'\u001b[0m\u001b[1;33m]\u001b[0m\u001b[1;33m,\u001b[0m \u001b[0mnames\u001b[0m\u001b[1;33m=\u001b[0m\u001b[0mnames\u001b[0m\u001b[1;33m,\u001b[0m \u001b[0mbuf\u001b[0m\u001b[1;33m=\u001b[0m\u001b[0mVt\u001b[0m\u001b[1;33m.\u001b[0m\u001b[0mT\u001b[0m\u001b[1;33m[\u001b[0m\u001b[1;33m:\u001b[0m\u001b[1;33m,\u001b[0m\u001b[1;33m-\u001b[0m\u001b[1;36m2\u001b[0m\u001b[1;33m]\u001b[0m\u001b[1;33m)\u001b[0m\u001b[1;33m\u001b[0m\u001b[0m\n\u001b[0m\u001b[0;32m     68\u001b[0m     \u001b[0mrotor\u001b[0m \u001b[1;33m=\u001b[0m \u001b[0mnp\u001b[0m\u001b[1;33m.\u001b[0m\u001b[0marray\u001b[0m\u001b[1;33m(\u001b[0m\u001b[1;33m[\u001b[0m\u001b[0mres\u001b[0m\u001b[1;33m[\u001b[0m\u001b[1;34m'sc'\u001b[0m\u001b[1;33m]\u001b[0m\u001b[1;33m,\u001b[0m \u001b[0mres\u001b[0m\u001b[1;33m[\u001b[0m\u001b[1;34m'e12'\u001b[0m\u001b[1;33m]\u001b[0m\u001b[1;33m,\u001b[0m \u001b[0mres\u001b[0m\u001b[1;33m[\u001b[0m\u001b[1;34m'e13'\u001b[0m\u001b[1;33m]\u001b[0m\u001b[1;33m,\u001b[0m \u001b[0mres\u001b[0m\u001b[1;33m[\u001b[0m\u001b[1;34m'e23'\u001b[0m\u001b[1;33m]\u001b[0m\u001b[1;33m]\u001b[0m\u001b[1;33m)\u001b[0m\u001b[1;33m\u001b[0m\u001b[0m\n\u001b[0;32m     69\u001b[0m     \u001b[1;32mreturn\u001b[0m \u001b[0mrotor\u001b[0m\u001b[1;33m,\u001b[0m \u001b[0mm\u001b[0m\u001b[1;33m\u001b[0m\u001b[0m\n",
      "\u001b[1;32m/usr/lib/python2.7/dist-packages/numpy/core/records.pyc\u001b[0m in \u001b[0;36m__new__\u001b[1;34m(subtype, shape, dtype, buf, offset, strides, formats, names, titles, byteorder, aligned, order)\u001b[0m\n\u001b[0;32m    421\u001b[0m             self = ndarray.__new__(subtype, shape, (record, descr),\n\u001b[0;32m    422\u001b[0m                                       \u001b[0mbuffer\u001b[0m\u001b[1;33m=\u001b[0m\u001b[0mbuf\u001b[0m\u001b[1;33m,\u001b[0m \u001b[0moffset\u001b[0m\u001b[1;33m=\u001b[0m\u001b[0moffset\u001b[0m\u001b[1;33m,\u001b[0m\u001b[1;33m\u001b[0m\u001b[0m\n\u001b[1;32m--> 423\u001b[1;33m                                       strides=strides, order=order)\n\u001b[0m\u001b[0;32m    424\u001b[0m         \u001b[1;32mreturn\u001b[0m \u001b[0mself\u001b[0m\u001b[1;33m\u001b[0m\u001b[0m\n\u001b[0;32m    425\u001b[0m \u001b[1;33m\u001b[0m\u001b[0m\n",
      "\u001b[1;31mTypeError\u001b[0m: buffer is too small for requested array"
     ]
    }
   ],
   "source": [
    "print(points_a)\n",
    "print(points_b)\n",
    "r,m2 = rotor_estimation_ls_svd(points_a, points_b)\n",
    "vsr.Rot(*r)"
   ]
  },
  {
   "cell_type": "raw",
   "metadata": {},
   "source": []
  },
  {
   "cell_type": "code",
   "execution_count": 40,
   "metadata": {
    "collapsed": false
   },
   "outputs": [
    {
     "name": "stdout",
     "output_type": "stream",
     "text": [
      "Rot: [ 0.87 0 -0.5 0 ]\n"
     ]
    }
   ],
   "source": [
    "print(rotor)"
   ]
  },
  {
   "cell_type": "code",
   "execution_count": 41,
   "metadata": {
    "collapsed": false
   },
   "outputs": [
    {
     "name": "stdout",
     "output_type": "stream",
     "text": [
      "[[ 1  2  3  4  5  6  7  8]\n",
      " [ 2  1 -7  6  8  4 -3  5]\n",
      " [ 3  7  1 -5 -4  8  2  6]\n",
      " [ 4 -6  5  1  3 -2  8  7]\n",
      " [ 5  8  4 -3 -1  7 -6 -2]\n",
      " [ 6 -4  8  2 -7 -1  5 -3]\n",
      " [ 7  3 -2  8  6 -5 -1 -4]\n",
      " [ 8  5  6  7 -2 -3 -4 -1]]\n"
     ]
    }
   ],
   "source": [
    "gp_table = np.array([1,  2,  3,  4,  5,  6,  7,  8,\n",
    "                     2,  1,  7, -6,  8, -4,  3,  5,\n",
    "                     3, -7,  1,  5,  4,  8, -2,  6,\n",
    "                     4,  6, -5,  1, -3,  2,  8,  7,\n",
    "                     5,  8, -4,  3, -1, -7,  6, -2,\n",
    "                     6,  4,  8, -2,  7, -1, -5, -3,\n",
    "                     7, -3,  2,  8, -6,  5, -1, -4, \n",
    "                     8,  5,  6,  7, -2, -3, -4, -1]).T.reshape(8,8)\n",
    "print(gp_table.T)"
   ]
  },
  {
   "cell_type": "code",
   "execution_count": 42,
   "metadata": {
    "collapsed": false
   },
   "outputs": [
    {
     "name": "stdout",
     "output_type": "stream",
     "text": [
      "[[ 1.  2.  3.  4.  5.  6.  7.  8.]\n",
      " [ 2.  1.  5.  6.  3.  4.  8.  7.]\n",
      " [ 3. -5.  1.  7. -2. -8.  4. -6.]\n",
      " [ 4. -6. -7.  1.  8. -2. -3.  5.]\n",
      " [ 5. -3.  2.  8. -1. -7.  6. -4.]\n",
      " [ 6. -4. -8.  2.  7. -1. -5.  3.]\n",
      " [ 7.  8. -4.  3. -6.  5. -1. -2.]\n",
      " [ 8.  7. -6.  5. -4.  3. -2. -1.]]\n"
     ]
    }
   ],
   "source": [
    "M = np.zeros((8,8))\n",
    "mask = np.array([1,2,3,4,5,6,7,8])\n",
    "for i in range(8):\n",
    "    W = np.zeros((8,8))\n",
    "    for j in range(8):\n",
    "        a = vsr.EGA(0,0,0,0,0,0,0,0)\n",
    "        b = vsr.EGA(0,0,0,0,0,0,0,0)\n",
    "        a[i] = 1.\n",
    "        b[j] = 1.\n",
    "        M[i,j] = np.dot(mask, np.array(a * b))\n",
    "gp_table = M.T.copy()\n",
    "print(gp_table.T)"
   ]
  },
  {
   "cell_type": "code",
   "execution_count": 43,
   "metadata": {
    "collapsed": false
   },
   "outputs": [
    {
     "ename": "ValueError",
     "evalue": "could not broadcast input array from shape (8,1) into shape (3,1)",
     "output_type": "error",
     "traceback": [
      "\u001b[1;31m---------------------------------------------------------------------------\u001b[0m",
      "\u001b[1;31mValueError\u001b[0m                                Traceback (most recent call last)",
      "\u001b[1;32m<ipython-input-43-95b75d82027c>\u001b[0m in \u001b[0;36m<module>\u001b[1;34m()\u001b[0m\n\u001b[1;32m----> 1\u001b[1;33m \u001b[1;32mprint\u001b[0m\u001b[1;33m(\u001b[0m\u001b[0mMultivector\u001b[0m\u001b[1;33m(\u001b[0m\u001b[1;33m)\u001b[0m\u001b[1;33m.\u001b[0m\u001b[0mvector\u001b[0m\u001b[1;33m(\u001b[0m\u001b[0mpoints_a\u001b[0m\u001b[1;33m[\u001b[0m\u001b[1;36m0\u001b[0m\u001b[1;33m]\u001b[0m\u001b[1;33m)\u001b[0m\u001b[1;33m.\u001b[0m\u001b[0mgp_right_matrix\u001b[0m\u001b[1;33m(\u001b[0m\u001b[1;33m)\u001b[0m\u001b[1;33m)\u001b[0m\u001b[1;33m\u001b[0m\u001b[0m\n\u001b[0m\u001b[0;32m      2\u001b[0m \u001b[1;32mprint\u001b[0m\u001b[1;33m(\u001b[0m\u001b[0mMultivector\u001b[0m\u001b[1;33m(\u001b[0m\u001b[1;33m)\u001b[0m\u001b[1;33m.\u001b[0m\u001b[0mvector\u001b[0m\u001b[1;33m(\u001b[0m\u001b[0mpoints_b\u001b[0m\u001b[1;33m[\u001b[0m\u001b[1;36m0\u001b[0m\u001b[1;33m]\u001b[0m\u001b[1;33m)\u001b[0m\u001b[1;33m.\u001b[0m\u001b[0mgp_left_matrix\u001b[0m\u001b[1;33m(\u001b[0m\u001b[1;33m)\u001b[0m\u001b[1;33m)\u001b[0m\u001b[1;33m\u001b[0m\u001b[0m\n\u001b[0;32m      3\u001b[0m \u001b[1;32mprint\u001b[0m\u001b[1;33m(\u001b[0m\u001b[0mm2\u001b[0m\u001b[1;33m[\u001b[0m\u001b[1;33m:\u001b[0m\u001b[1;36m8\u001b[0m\u001b[1;33m]\u001b[0m\u001b[1;33m)\u001b[0m\u001b[1;33m\u001b[0m\u001b[0m\n",
      "\u001b[1;32m<ipython-input-26-feec86752238>\u001b[0m in \u001b[0;36mvector\u001b[1;34m(self, vector)\u001b[0m\n\u001b[0;32m     33\u001b[0m \u001b[1;33m\u001b[0m\u001b[0m\n\u001b[0;32m     34\u001b[0m     \u001b[1;32mdef\u001b[0m \u001b[0mvector\u001b[0m\u001b[1;33m(\u001b[0m\u001b[0mself\u001b[0m\u001b[1;33m,\u001b[0m \u001b[0mvector\u001b[0m\u001b[1;33m)\u001b[0m\u001b[1;33m:\u001b[0m\u001b[1;33m\u001b[0m\u001b[0m\n\u001b[1;32m---> 35\u001b[1;33m         \u001b[0mself\u001b[0m\u001b[1;33m.\u001b[0m\u001b[0m_data\u001b[0m\u001b[1;33m[\u001b[0m\u001b[1;36m1\u001b[0m\u001b[1;33m:\u001b[0m\u001b[1;36m4\u001b[0m\u001b[1;33m]\u001b[0m \u001b[1;33m=\u001b[0m \u001b[0mnp\u001b[0m\u001b[1;33m.\u001b[0m\u001b[0marray\u001b[0m\u001b[1;33m(\u001b[0m\u001b[0mvector\u001b[0m\u001b[1;33m)\u001b[0m\u001b[1;33m.\u001b[0m\u001b[0mcopy\u001b[0m\u001b[1;33m(\u001b[0m\u001b[1;33m)\u001b[0m\u001b[1;33m.\u001b[0m\u001b[0mreshape\u001b[0m\u001b[1;33m(\u001b[0m\u001b[1;33m-\u001b[0m\u001b[1;36m1\u001b[0m\u001b[1;33m,\u001b[0m\u001b[1;36m1\u001b[0m\u001b[1;33m)\u001b[0m\u001b[1;33m\u001b[0m\u001b[0m\n\u001b[0m\u001b[0;32m     36\u001b[0m         \u001b[1;32mreturn\u001b[0m \u001b[0mMultivector\u001b[0m\u001b[1;33m(\u001b[0m\u001b[0mself\u001b[0m\u001b[1;33m.\u001b[0m\u001b[0m_data\u001b[0m\u001b[1;33m)\u001b[0m\u001b[1;33m\u001b[0m\u001b[0m\n\u001b[0;32m     37\u001b[0m \u001b[1;33m\u001b[0m\u001b[0m\n",
      "\u001b[1;31mValueError\u001b[0m: could not broadcast input array from shape (8,1) into shape (3,1)"
     ]
    }
   ],
   "source": [
    "print(Multivector().vector(points_a[0]).gp_right_matrix())\n",
    "print(Multivector().vector(points_b[0]).gp_left_matrix())\n",
    "print(m2[:8])"
   ]
  },
  {
   "cell_type": "code",
   "execution_count": 44,
   "metadata": {
    "collapsed": false
   },
   "outputs": [
    {
     "data": {
      "text/plain": [
       "EGA: [ 0 0.5 0 0.87 0 0 0 0 ]"
      ]
     },
     "execution_count": 44,
     "metadata": {},
     "output_type": "execute_result"
    }
   ],
   "source": [
    "r = rotor\n",
    "vsr.EGA(0,1,0,0,0,0,0,0).spin(vsr.EGA(r[0],0,0,0,r[1],r[2],r[3],0))"
   ]
  },
  {
   "cell_type": "code",
   "execution_count": 63,
   "metadata": {
    "collapsed": false
   },
   "outputs": [
    {
     "name": "stdout",
     "output_type": "stream",
     "text": [
      "Rot: [ 0.92 0 0.38 0 ]\n",
      "Rot: [ 0.92 0 0.38 0 ]\n",
      "[[-0.06 -0.36  0.12 -0.92]\n",
      " [ 0.66 -0.33 -0.67 -0.  ]\n",
      " [ 0.15  0.87 -0.28 -0.38]\n",
      " [-0.73 -0.09 -0.67 -0.  ]]\n",
      "[ 14.75  11.35   8.26   0.  ]\n"
     ]
    }
   ],
   "source": [
    "rotor = vsr.Biv(0,-pi/8,0).exp()\n",
    "print(rotor)\n",
    "n_points = 3\n",
    "sigma = 0.09\n",
    "points_a = [vsr.Vec(*np.random.normal(0.0, 0.8, 3))\n",
    "            for i in range(n_points)]\n",
    "points_b = [point.spin(rotor) for point in points_a]\n",
    "points_b_noisy = [vsr.Vec(*(np.array(point)[:3] \n",
    "                            + sigma * np.random.randn(3))) \n",
    "                  for point in points_b]\n",
    "\n",
    "ega_a = [vsr.EGA(p) for p in points_a]\n",
    "ega_b = [vsr.EGA(p) for p in points_b]\n",
    "\n",
    "def matrix(a, b):\n",
    "    m = np.zeros((8,8))\n",
    "    for i in range(8):\n",
    "        ei = vsr.EGA(0,0,0,0,0,0,0,0)\n",
    "        ei[i] = i\n",
    "        m[i,:] = np.array(ei * a - b * ei)\n",
    "    return m\n",
    "\n",
    "print(vsr.Rot(vsr.EGA(rotor)))\n",
    "\n",
    "m = np.row_stack([\n",
    "        np.delete(np.delete(matrix(a,b),[0,4,5,6],0), [1,2,3,7],1)\n",
    "        for a, b in zip(ega_a, ega_b)]).copy()\n",
    "\n",
    "U,s,Vt = np.linalg.svd(m)\n",
    "print(Vt.T)\n",
    "print(s)"
   ]
  },
  {
   "cell_type": "code",
   "execution_count": 46,
   "metadata": {
    "collapsed": false,
    "scrolled": true
   },
   "outputs": [
    {
     "name": "stdout",
     "output_type": "stream",
     "text": [
      "[[ 0.    0.    0.    0.   -0.    0.   -0.    0.    0.    0.    0.    0.    0.\n",
      "   0.   -0.   -0.   -0.   -0.    0.    0.   -0.01  0.03 -0.01  0.02 -0.08\n",
      "   0.02 -0.24  0.29  0.    0.    0.    0.92]\n",
      " [-0.    0.    0.   -0.    0.    0.    0.    0.    0.02  0.   -0.01 -0.02\n",
      "  -0.16 -0.01  0.    0.93 -0.24 -0.11  0.    0.21  0.    0.    0.    0.    0.\n",
      "   0.    0.    0.    0.    0.    0.   -0.  ]\n",
      " [-0.    0.   -0.    0.   -0.   -0.   -0.   -0.    0.07  0.02  0.1  -0.08\n",
      "   0.52  0.6   0.    0.26  0.21  0.05 -0.   -0.47 -0.   -0.   -0.    0.    0.\n",
      "  -0.   -0.   -0.   -0.08 -0.01  0.    0.  ]\n",
      " [-0.    0.    0.    0.    0.    0.    0.    0.    0.04  0.01  0.02  0.01\n",
      "   0.73 -0.68 -0.    0.11 -0.   -0.   -0.   -0.    0.   -0.    0.    0.    0.\n",
      "   0.    0.    0.    0.    0.    0.   -0.  ]\n",
      " [ 0.    0.    0.01 -0.    0.    0.    0.   -0.    0.35  0.03  0.04  0.12\n",
      "  -0.4  -0.38 -0.    0.14  0.22  0.18 -0.   -0.66 -0.   -0.    0.    0.    0.\n",
      "  -0.   -0.    0.   -0.15 -0.01  0.    0.  ]\n",
      " [ 0.   -0.   -0.02 -0.01 -0.    0.    0.    0.   -0.88 -0.1  -0.23 -0.13\n",
      "  -0.08 -0.13 -0.    0.1   0.1   0.05 -0.   -0.28 -0.   -0.    0.   -0.    0.\n",
      "  -0.   -0.    0.   -0.14 -0.01  0.    0.  ]\n",
      " [-0.   -0.    0.    0.    0.   -0.01 -0.    0.05  0.   -0.    0.   -0.    0.\n",
      "  -0.   -0.04  0.    0.   -0.   -0.02  0.   -0.03 -0.27  0.1  -0.59 -0.44\n",
      "   0.11 -0.16 -0.17  0.05 -0.54 -0.08 -0.  ]\n",
      " [-0.   -0.   -0.    0.    0.   -0.    0.   -0.   -0.   -0.    0.   -0.    0.\n",
      "   0.    0.    0.    0.    0.   -0.   -0.    0.03 -0.07  0.02 -0.06  0.19\n",
      "  -0.04  0.57 -0.69  0.   -0.02 -0.    0.38]\n",
      " [ 0.   -0.   -0.    0.    0.    0.   -0.    0.    0.   -0.    0.   -0.   -0.\n",
      "   0.    0.02 -0.    0.    0.    0.01 -0.   -0.07  0.23 -0.17  0.61 -0.23\n",
      "   0.47 -0.18 -0.31  0.03 -0.37 -0.05 -0.  ]\n",
      " [ 0.    0.    0.   -0.   -0.02  0.04 -0.04  0.02 -0.    0.   -0.    0.   -0.\n",
      "  -0.    0.04 -0.   -0.   -0.    0.26  0.   -0.12 -0.11 -0.59 -0.16  0.27\n",
      "  -0.2  -0.52 -0.36 -0.01  0.11  0.02  0.  ]\n",
      " [ 0.   -0.   -0.   -0.    0.04  0.02 -0.07  0.02  0.    0.   -0.    0.   -0.\n",
      "  -0.    0.2  -0.    0.    0.   -0.36 -0.    0.19  0.36  0.07 -0.39  0.12\n",
      "   0.55 -0.19 -0.15 -0.03  0.35  0.05  0.  ]\n",
      " [ 0.   -0.   -0.    0.   -0.    0.   -0.    0.    0.   -0.   -0.    0.   -0.\n",
      "  -0.    0.01 -0.    0.    0.    0.07 -0.   -0.11  0.08 -0.69 -0.21 -0.07\n",
      "   0.29  0.49  0.35  0.01 -0.07 -0.01 -0.  ]\n",
      " [-0.   -0.    0.    0.    0.01 -0.02 -0.    0.06  0.   -0.    0.   -0.    0.\n",
      "   0.   -0.05 -0.   -0.   -0.   -0.09  0.   -0.61  0.24  0.19 -0.12  0.58\n",
      "   0.05 -0.02  0.11  0.03 -0.39 -0.05 -0.  ]\n",
      " [-0.    0.    0.    0.   -0.   -0.04 -0.01  0.12  0.   -0.    0.   -0.    0.\n",
      "   0.   -0.14  0.    0.    0.    0.31 -0.    0.56  0.6  -0.02 -0.13  0.13\n",
      "  -0.23 -0.    0.03  0.03 -0.33 -0.05 -0.  ]\n",
      " [-0.    0.    0.   -0.   -0.    0.01 -0.01  0.01 -0.    0.    0.   -0.    0.\n",
      "   0.   -0.03  0.   -0.   -0.    0.02  0.   -0.48  0.54  0.01 -0.11 -0.51\n",
      "  -0.32  0.04 -0.16 -0.02  0.25  0.04  0.  ]\n",
      " [-0.    0.    0.    0.   -0.09  0.09 -0.02  0.03 -0.    0.    0.   -0.   -0.\n",
      "   0.   -0.18  0.    0.    0.   -0.82  0.    0.13  0.03 -0.29  0.08  0.\n",
      "  -0.36 -0.04 -0.02  0.02 -0.18 -0.03 -0.  ]\n",
      " [-0.15 -0.    0.06 -0.82 -0.   -0.   -0.   -0.   -0.03 -0.03 -0.03  0.34\n",
      "   0.04  0.04  0.   -0.06 -0.28 -0.21 -0.   -0.13 -0.   -0.    0.    0.   -0.\n",
      "   0.    0.    0.   -0.18 -0.02  0.    0.  ]\n",
      " [-0.15  0.29 -0.09 -0.   -0.   -0.   -0.   -0.   -0.08  0.58  0.26 -0.25\n",
      "  -0.07 -0.08 -0.   -0.03  0.13 -0.61 -0.   -0.1  -0.   -0.   -0.    0.    0.\n",
      "   0.   -0.   -0.    0.07  0.01 -0.   -0.  ]\n",
      " [-0.11  0.11  0.42 -0.39 -0.   -0.   -0.   -0.    0.08 -0.02 -0.27 -0.29\n",
      "  -0.03 -0.03 -0.    0.1   0.55  0.12  0.    0.18  0.    0.   -0.   -0.    0.\n",
      "  -0.   -0.   -0.    0.35  0.03 -0.   -0.  ]\n",
      " [-0.36 -0.15  0.08 -0.17 -0.   -0.   -0.   -0.   -0.08  0.08  0.58 -0.43\n",
      "  -0.04 -0.04  0.   -0.01 -0.19  0.47  0.    0.06  0.    0.    0.    0.   -0.\n",
      "   0.    0.    0.   -0.11 -0.01  0.    0.  ]\n",
      " [ 0.33 -0.65  0.21 -0.05  0.    0.    0.    0.    0.05 -0.1   0.01 -0.37\n",
      "  -0.03 -0.04 -0.   -0.05 -0.21 -0.33 -0.   -0.23 -0.   -0.   -0.   -0.    0.\n",
      "  -0.   -0.   -0.    0.26  0.02 -0.   -0.  ]\n",
      " [ 0.03 -0.25 -0.82 -0.27  0.    0.    0.    0.   -0.02  0.01  0.04 -0.01\n",
      "  -0.02 -0.02  0.    0.06  0.24  0.11  0.    0.05  0.   -0.   -0.   -0.    0.\n",
      "  -0.   -0.   -0.    0.34  0.03 -0.   -0.  ]\n",
      " [ 0.69  0.32 -0.14 -0.25  0.    0.    0.    0.    0.1   0.04 -0.02 -0.4\n",
      "  -0.01 -0.01 -0.   -0.03 -0.03  0.12  0.    0.1   0.    0.    0.    0.   -0.\n",
      "   0.    0.    0.   -0.39 -0.03  0.    0.  ]\n",
      " [-0.21  0.4  -0.16  0.02 -0.   -0.   -0.   -0.    0.12 -0.08 -0.37 -0.31\n",
      "   0.03  0.01 -0.   -0.06 -0.52  0.13 -0.   -0.28 -0.   -0.   -0.   -0.    0.\n",
      "  -0.   -0.   -0.    0.38  0.03 -0.   -0.  ]\n",
      " [-0.1   0.24 -0.08  0.01 -0.   -0.   -0.   -0.    0.04 -0.73  0.31 -0.13\n",
      "  -0.04 -0.04 -0.   -0.01  0.13 -0.32 -0.   -0.02  0.    0.    0.    0.    0.\n",
      "   0.    0.    0.   -0.01 -0.05  0.38  0.  ]\n",
      " [ 0.42  0.28  0.19 -0.06  0.    0.    0.    0.   -0.22  0.03  0.44  0.33\n",
      "  -0.01 -0.    0.    0.03 -0.09  0.17 -0.   -0.11 -0.   -0.   -0.   -0.    0.\n",
      "  -0.   -0.   -0.    0.55  0.05 -0.01 -0.  ]\n",
      " [ 0.   -0.   -0.    0.    0.03  0.22 -0.42  0.32  0.   -0.   -0.   -0.   -0.\n",
      "  -0.    0.78 -0.   -0.   -0.   -0.02  0.    0.   -0.01  0.01  0.07 -0.03\n",
      "  -0.18  0.07  0.06  0.01 -0.14 -0.02 -0.  ]\n",
      " [-0.    0.    0.   -0.    0.08 -0.28 -0.07  0.89  0.    0.    0.    0.    0.\n",
      "   0.   -0.28  0.    0.    0.   -0.01 -0.   -0.04 -0.09 -0.    0.05 -0.03\n",
      "   0.08 -0.   -0.01 -0.01  0.14  0.02  0.  ]\n",
      " [-0.    0.    0.    0.    0.42  0.63  0.61  0.23  0.   -0.    0.    0.   -0.\n",
      "  -0.    0.04 -0.    0.   -0.    0.01  0.    0.    0.01  0.   -0.    0.    0.\n",
      "  -0.   -0.   -0.    0.   -0.   -0.  ]\n",
      " [-0.    0.   -0.   -0.    0.41 -0.68  0.42 -0.07  0.   -0.   -0.   -0.   -0.\n",
      "  -0.    0.38 -0.   -0.   -0.   -0.12  0.    0.02  0.02 -0.08  0.01  0.\n",
      "  -0.13 -0.02 -0.01  0.01 -0.07 -0.01 -0.  ]\n",
      " [-0.    0.    0.    0.   -0.8  -0.05  0.51  0.17 -0.   -0.    0.    0.   -0.\n",
      "  -0.    0.25 -0.   -0.    0.    0.01 -0.    0.    0.02  0.01 -0.02  0.\n",
      "   0.01 -0.   -0.    0.    0.   -0.   -0.  ]\n",
      " [ 0.04 -0.1   0.03 -0.    0.    0.    0.    0.   -0.01  0.3  -0.13  0.06\n",
      "   0.02  0.02  0.    0.   -0.05  0.13  0.    0.01 -0.    0.    0.   -0.   -0.\n",
      "   0.    0.    0.    0.03 -0.13  0.91 -0.  ]]\n"
     ]
    }
   ],
   "source": [
    "cga_a = [vsr.CGA(p.null()) for p in points_a]\n",
    "cga_b = [vsr.CGA(p.null()) for p in points_b]\n",
    "def matrix(a, b):\n",
    "    m = np.zeros((32,32))\n",
    "    for i in range(32):\n",
    "        ei = vsr.CGA(*np.zeros(32))\n",
    "        ei[i] = i\n",
    "        m[i,:] = np.array(ei * a - b * ei)\n",
    "    return m\n",
    "k = matrix(cga_a[0], cga_b[0])\n",
    "\n",
    "\n",
    "m = np.row_stack([matrix(a,b) for a,b in zip(cga_a, cga_b)])\n",
    "U,s,Vt = np.linalg.svd(m)\n",
    "print(Vt.T)"
   ]
  },
  {
   "cell_type": "code",
   "execution_count": 47,
   "metadata": {
    "collapsed": false
   },
   "outputs": [
    {
     "name": "stdout",
     "output_type": "stream",
     "text": [
      "0.000333070755005\n"
     ]
    }
   ],
   "source": [
    "import time\n",
    "t1 = time.time()\n",
    "vsr.CGA(vsr.Vec(1,2,3).null()).spin(vsr.CGA(motor))\n",
    "t2 = time.time()\n",
    "print(t2-t1)"
   ]
  },
  {
   "cell_type": "code",
   "execution_count": 48,
   "metadata": {
    "collapsed": false
   },
   "outputs": [
    {
     "name": "stdout",
     "output_type": "stream",
     "text": [
      "0.000256061553955\n"
     ]
    }
   ],
   "source": [
    "t1 = time.time()\n",
    "vsr.Vec(1,2,3).null().spin(motor)\n",
    "t2 = time.time()\n",
    "print(t2-t1)"
   ]
  },
  {
   "cell_type": "code",
   "execution_count": 49,
   "metadata": {
    "collapsed": false
   },
   "outputs": [
    {
     "ename": "TypeError",
     "evalue": "Incompatible function arguments. The following argument types are supported:\n    1. (CGA, CGA) -> CGA\n",
     "output_type": "error",
     "traceback": [
      "\u001b[1;31m---------------------------------------------------------------------------\u001b[0m",
      "\u001b[1;31mTypeError\u001b[0m                                 Traceback (most recent call last)",
      "\u001b[1;32m<ipython-input-49-9efcdd01d436>\u001b[0m in \u001b[0;36m<module>\u001b[1;34m()\u001b[0m\n\u001b[0;32m     11\u001b[0m \u001b[0mcga_a\u001b[0m \u001b[1;33m=\u001b[0m \u001b[1;33m[\u001b[0m\u001b[0mvsr\u001b[0m\u001b[1;33m.\u001b[0m\u001b[0mCGA\u001b[0m\u001b[1;33m(\u001b[0m\u001b[0mp\u001b[0m\u001b[1;33m)\u001b[0m \u001b[1;32mfor\u001b[0m \u001b[0mp\u001b[0m \u001b[1;32min\u001b[0m \u001b[0mpoints_a\u001b[0m\u001b[1;33m]\u001b[0m\u001b[1;33m\u001b[0m\u001b[0m\n\u001b[0;32m     12\u001b[0m \u001b[0mcga_b\u001b[0m \u001b[1;33m=\u001b[0m \u001b[1;33m[\u001b[0m\u001b[0mvsr\u001b[0m\u001b[1;33m.\u001b[0m\u001b[0mCGA\u001b[0m\u001b[1;33m(\u001b[0m\u001b[0mp\u001b[0m\u001b[1;33m)\u001b[0m \u001b[1;32mfor\u001b[0m \u001b[0mp\u001b[0m \u001b[1;32min\u001b[0m \u001b[0mpoints_b\u001b[0m\u001b[1;33m]\u001b[0m\u001b[1;33m\u001b[0m\u001b[0m\n\u001b[1;32m---> 13\u001b[1;33m \u001b[1;32mprint\u001b[0m\u001b[1;33m(\u001b[0m\u001b[0mmatrix\u001b[0m\u001b[1;33m(\u001b[0m\u001b[0mega_a\u001b[0m\u001b[1;33m[\u001b[0m\u001b[1;36m0\u001b[0m\u001b[1;33m]\u001b[0m\u001b[1;33m,\u001b[0m \u001b[0mega_b\u001b[0m\u001b[1;33m[\u001b[0m\u001b[1;36m0\u001b[0m\u001b[1;33m]\u001b[0m\u001b[1;33m)\u001b[0m\u001b[1;33m)\u001b[0m\u001b[1;33m\u001b[0m\u001b[0m\n\u001b[0m\u001b[0;32m     14\u001b[0m \u001b[1;32mprint\u001b[0m\u001b[1;33m(\u001b[0m\u001b[0mnp\u001b[0m\u001b[1;33m.\u001b[0m\u001b[0mdelete\u001b[0m\u001b[1;33m(\u001b[0m\u001b[0mmatrix\u001b[0m\u001b[1;33m(\u001b[0m\u001b[0mega_a\u001b[0m\u001b[1;33m[\u001b[0m\u001b[1;36m0\u001b[0m\u001b[1;33m]\u001b[0m\u001b[1;33m,\u001b[0m \u001b[0mega_b\u001b[0m\u001b[1;33m[\u001b[0m\u001b[1;36m0\u001b[0m\u001b[1;33m]\u001b[0m\u001b[1;33m)\u001b[0m\u001b[1;33m,\u001b[0m\u001b[1;33m[\u001b[0m\u001b[1;36m0\u001b[0m\u001b[1;33m,\u001b[0m\u001b[1;36m4\u001b[0m\u001b[1;33m,\u001b[0m\u001b[1;36m5\u001b[0m\u001b[1;33m,\u001b[0m\u001b[1;36m6\u001b[0m\u001b[1;33m]\u001b[0m\u001b[1;33m,\u001b[0m\u001b[1;36m0\u001b[0m\u001b[1;33m)\u001b[0m\u001b[1;33m)\u001b[0m\u001b[1;33m\u001b[0m\u001b[0m\n\u001b[0;32m     15\u001b[0m \u001b[1;32mprint\u001b[0m\u001b[1;33m(\u001b[0m\u001b[0mnp\u001b[0m\u001b[1;33m.\u001b[0m\u001b[0mdelete\u001b[0m\u001b[1;33m(\u001b[0m\u001b[0mmatrix\u001b[0m\u001b[1;33m(\u001b[0m\u001b[0mega_a\u001b[0m\u001b[1;33m[\u001b[0m\u001b[1;36m0\u001b[0m\u001b[1;33m]\u001b[0m\u001b[1;33m,\u001b[0m \u001b[0mega_b\u001b[0m\u001b[1;33m[\u001b[0m\u001b[1;36m0\u001b[0m\u001b[1;33m]\u001b[0m\u001b[1;33m)\u001b[0m\u001b[1;33m,\u001b[0m\u001b[1;33m[\u001b[0m\u001b[1;36m1\u001b[0m\u001b[1;33m,\u001b[0m\u001b[1;36m2\u001b[0m\u001b[1;33m,\u001b[0m\u001b[1;36m3\u001b[0m\u001b[1;33m,\u001b[0m\u001b[1;36m7\u001b[0m\u001b[1;33m]\u001b[0m\u001b[1;33m,\u001b[0m\u001b[1;36m1\u001b[0m\u001b[1;33m)\u001b[0m\u001b[1;33m)\u001b[0m\u001b[1;33m\u001b[0m\u001b[0m\n",
      "\u001b[1;32m<ipython-input-46-c9154dc61464>\u001b[0m in \u001b[0;36mmatrix\u001b[1;34m(a, b)\u001b[0m\n\u001b[0;32m      6\u001b[0m         \u001b[0mei\u001b[0m \u001b[1;33m=\u001b[0m \u001b[0mvsr\u001b[0m\u001b[1;33m.\u001b[0m\u001b[0mCGA\u001b[0m\u001b[1;33m(\u001b[0m\u001b[1;33m*\u001b[0m\u001b[0mnp\u001b[0m\u001b[1;33m.\u001b[0m\u001b[0mzeros\u001b[0m\u001b[1;33m(\u001b[0m\u001b[1;36m32\u001b[0m\u001b[1;33m)\u001b[0m\u001b[1;33m)\u001b[0m\u001b[1;33m\u001b[0m\u001b[0m\n\u001b[0;32m      7\u001b[0m         \u001b[0mei\u001b[0m\u001b[1;33m[\u001b[0m\u001b[0mi\u001b[0m\u001b[1;33m]\u001b[0m \u001b[1;33m=\u001b[0m \u001b[0mi\u001b[0m\u001b[1;33m\u001b[0m\u001b[0m\n\u001b[1;32m----> 8\u001b[1;33m         \u001b[0mm\u001b[0m\u001b[1;33m[\u001b[0m\u001b[0mi\u001b[0m\u001b[1;33m,\u001b[0m\u001b[1;33m:\u001b[0m\u001b[1;33m]\u001b[0m \u001b[1;33m=\u001b[0m \u001b[0mnp\u001b[0m\u001b[1;33m.\u001b[0m\u001b[0marray\u001b[0m\u001b[1;33m(\u001b[0m\u001b[0mei\u001b[0m \u001b[1;33m*\u001b[0m \u001b[0ma\u001b[0m \u001b[1;33m-\u001b[0m \u001b[0mb\u001b[0m \u001b[1;33m*\u001b[0m \u001b[0mei\u001b[0m\u001b[1;33m)\u001b[0m\u001b[1;33m\u001b[0m\u001b[0m\n\u001b[0m\u001b[0;32m      9\u001b[0m     \u001b[1;32mreturn\u001b[0m \u001b[0mm\u001b[0m\u001b[1;33m\u001b[0m\u001b[0m\n\u001b[0;32m     10\u001b[0m \u001b[0mk\u001b[0m \u001b[1;33m=\u001b[0m \u001b[0mmatrix\u001b[0m\u001b[1;33m(\u001b[0m\u001b[0mcga_a\u001b[0m\u001b[1;33m[\u001b[0m\u001b[1;36m0\u001b[0m\u001b[1;33m]\u001b[0m\u001b[1;33m,\u001b[0m \u001b[0mcga_b\u001b[0m\u001b[1;33m[\u001b[0m\u001b[1;36m0\u001b[0m\u001b[1;33m]\u001b[0m\u001b[1;33m)\u001b[0m\u001b[1;33m\u001b[0m\u001b[0m\n",
      "\u001b[1;31mTypeError\u001b[0m: Incompatible function arguments. The following argument types are supported:\n    1. (CGA, CGA) -> CGA\n"
     ]
    }
   ],
   "source": [
    "motor = vsr.Vec(1,1,1).trs() * vsr.Rot(vsr.Biv(1,1,1).unit() * np.pi/6.0)\n",
    "n_points = 10\n",
    "sigma = 0.09\n",
    "points_a = [vsr.Vec(*np.random.normal(0.0, 0.8, 3)).null()\n",
    "            for i in range(n_points)]\n",
    "points_b = [point.spin(motor) for point in points_a]\n",
    "points_b_noisy = [vsr.Vec(*(np.array(point)[:3] \n",
    "                            + sigma * np.random.randn(3))).null() \n",
    "                  for point in points_b]\n",
    "\n",
    "cga_a = [vsr.CGA(p) for p in points_a]\n",
    "cga_b = [vsr.CGA(p) for p in points_b]\n",
    "print(matrix(ega_a[0], ega_b[0]))\n",
    "print(np.delete(matrix(ega_a[0], ega_b[0]),[0,4,5,6],0))\n",
    "print(np.delete(matrix(ega_a[0], ega_b[0]),[1,2,3,7],1))\n",
    "cga_a = [vsr.CGA(vsr.Vec(1,0,0).null()), \n",
    "            vsr.CGA(vsr.Vec(0,0,1).null()),\n",
    "            vsr.CGA(vsr.Vec(0,2,0).null())]\n",
    "cga_b = [a.spin(vsr.CGA(motor)) for a in cga_a]\n",
    "\n",
    "\n",
    "def matrix(a, b):\n",
    "    m = np.zeros((32,32))\n",
    "    for i in range(32):\n",
    "        ei = vsr.CGA(*np.zeros(32))\n",
    "        ei[i] = i\n",
    "        m[i,:] = np.array(ei * a - b * ei) \n",
    "    return m\n",
    "\n",
    "# print(matrix(cga_a[0], cga_b[0]))\n",
    "\n",
    "m = np.row_stack([\n",
    "         np.delete(np.delete(matrix(a,b),[0,6,7,8,12,13,14,28],0), [1,2,3,4,5,9,\n",
    "                                                                    10,11,15,16,17,\n",
    "                                                                    18,19,20,21,22,\n",
    "                                                                    23,24,25,26,27,\n",
    "                                                                    29,30,31,32],1)\n",
    "         for a, b in zip(cga_a, cga_b)]).copy()\n",
    "\n",
    "# m = np.row_stack([matrix(a,b) for a, b in zip(cga_a, cga_b)]).copy()\n",
    "\n",
    "U,s,Vt = np.linalg.svd(m)\n",
    "# print(Vt.T)\n",
    "print(s)"
   ]
  },
  {
   "cell_type": "code",
   "execution_count": 50,
   "metadata": {
    "collapsed": false
   },
   "outputs": [
    {
     "data": {
      "text/plain": [
       "CGA: [ 0.87 0 0 0 0 0 -0.29 -0.29 -0.29 0 0 0 -0.72 -0.43 -0.14 0 0 0 0 0 0 0 0 0 0 0 0 0.14 0 0 0 0 ]"
      ]
     },
     "execution_count": 50,
     "metadata": {},
     "output_type": "execute_result"
    }
   ],
   "source": [
    "vsr.CGA(motor)"
   ]
  },
  {
   "cell_type": "code",
   "execution_count": 51,
   "metadata": {
    "collapsed": false
   },
   "outputs": [],
   "source": [
    "import scipy.linalg as linalg\n",
    "U,s,Vh = linalg.svd(m)"
   ]
  },
  {
   "cell_type": "code",
   "execution_count": 52,
   "metadata": {
    "collapsed": false
   },
   "outputs": [],
   "source": [
    "import scipy.io as io\n",
    "io.savemat(\"/home/lars/m.mat\", {\"m\":m})"
   ]
  },
  {
   "cell_type": "code",
   "execution_count": 53,
   "metadata": {
    "collapsed": false
   },
   "outputs": [
    {
     "name": "stdout",
     "output_type": "stream",
     "text": [
      "[[ 0.    0.29  0.    0.71  0.    0.    0.    0.  ]\n",
      " [ 0.29  0.    0.    0.    0.    0.71  0.    0.  ]\n",
      " [ 0.    0.    0.    0.   -0.71  0.   -1.71  0.  ]\n",
      " [ 0.71  0.    0.    0.    0.    1.71  0.    0.  ]\n",
      " [ 0.    0.   -0.71  0.    0.    0.    0.    0.29]\n",
      " [ 0.    0.71  0.    1.71  0.    0.    0.    0.  ]\n",
      " [ 0.    0.   -1.71  0.    0.    0.    0.    0.71]\n",
      " [ 0.    0.    0.    0.    0.29  0.    0.71  0.  ]\n",
      " [ 0.   -0.71  0.    0.29  0.    0.    0.    0.  ]\n",
      " [-0.71  0.    0.    0.    0.   -1.71  0.    0.  ]\n",
      " [ 0.    0.    0.    0.    1.71  0.   -0.71  0.  ]\n",
      " [ 0.29  0.    0.    0.    0.    0.71  0.    0.  ]\n",
      " [ 0.    0.    1.71  0.    0.    0.    0.   -0.71]\n",
      " [ 0.   -1.71  0.    0.71  0.    0.    0.    0.  ]\n",
      " [ 0.    0.   -0.71  0.    0.    0.    0.    0.29]\n",
      " [ 0.    0.    0.    0.   -0.71  0.    0.29  0.  ]]\n",
      "[ 2.83  2.83  2.    2.    2.    2.    0.    0.  ]\n"
     ]
    }
   ],
   "source": [
    "M = io.loadmat(\"/home/lars/Downloads/M.mat\")[\"M\"]\n",
    "print(M)\n",
    "U,s,Vt = np.linalg.svd(M)\n",
    "print(s)"
   ]
  },
  {
   "cell_type": "code",
   "execution_count": 54,
   "metadata": {
    "collapsed": false
   },
   "outputs": [
    {
     "name": "stdout",
     "output_type": "stream",
     "text": [
      "[[  0.     0.     0.     0.     0.     0.     0.     0.     0.     0.     0.\n",
      "    0.     0.     0.     0.     0.     0.     0.     0.     0.     0.     0.\n",
      "    0.     0.     0.     0.     0.     0.     0.     0.     0.     0.  ]\n",
      " [ -0.39   0.     0.     0.     0.     0.    -3.49   0.95   0.     2.     0.\n",
      "    0.     5.44   0.     0.     0.     0.     0.     0.     0.     0.     0.\n",
      "    0.     0.     0.     0.     0.     0.     0.     0.     0.     0.  ]\n",
      " [  0.     0.     0.     0.     0.     0.    -5.4    0.     1.9    0.     4.\n",
      "    0.     0.    10.88   0.     0.     0.     0.     0.     0.     0.     0.\n",
      "    0.     0.     0.     0.     0.     0.     0.     0.     0.     0.  ]\n",
      " [  3.35   0.     0.     0.     0.     0.     0.    -8.09  10.47   0.     0.\n",
      "    6.     0.     0.    16.32   0.     0.     0.     0.     0.     0.     0.\n",
      "    0.     0.     0.     0.     0.     0.     0.     0.     0.     0.  ]\n",
      " [  0.     0.     0.     0.     0.     0.     0.     0.     0.   -10.79\n",
      "   13.96  -3.8    0.     0.     0.    21.75   0.     0.     0.     0.     0.\n",
      "    0.     0.     0.     0.     0.     0.     0.     0.     0.     0.     0.  ]\n",
      " [  0.     0.     0.     0.     0.     0.     0.     0.     0.     0.     0.\n",
      "    0.   -13.49  17.44  -4.75 -10.     0.     0.     0.     0.     0.     0.\n",
      "    0.     0.     0.     0.     0.     0.     0.     0.     0.     0.  ]\n",
      " [  0.   -20.93 -16.19   0.     0.     0.     0.     0.     0.     0.     0.\n",
      "    0.     0.     0.     0.     0.     6.7    0.     0.     0.     0.     0.\n",
      "    0.     0.     0.     0.     0.     0.     0.     0.     0.     0.  ]\n",
      " [  0.     6.65   0.   -18.88   0.     0.     0.     0.     0.     0.     0.\n",
      "    0.     0.     0.     0.     0.    -0.     0.     0.     0.     0.     0.\n",
      "    0.     0.     0.     0.     0.     0.     0.     0.     0.     0.  ]]\n"
     ]
    }
   ],
   "source": [
    "print(m[:8])"
   ]
  },
  {
   "cell_type": "code",
   "execution_count": null,
   "metadata": {
    "collapsed": false
   },
   "outputs": [],
   "source": [
    "print(M[:8])"
   ]
  },
  {
   "cell_type": "code",
   "execution_count": null,
   "metadata": {
    "collapsed": false
   },
   "outputs": [],
   "source": [
    "matrix(vsr.EGA(1,0,0,0,0,0,0,0), vsr.EGA(0,0,0,0,0,0,0,0)).T"
   ]
  },
  {
   "cell_type": "code",
   "execution_count": null,
   "metadata": {
    "collapsed": false
   },
   "outputs": [],
   "source": [
    "print(vsr.EGA(0,1,0,0,0,0,0,0) * vsr.EGA(1,0,0,0,0,0,0,0))\n",
    "print(vsr.EGA(0,1,0,0,0,0,0,0) * vsr.EGA(0,1,0,0,0,0,0,0))\n",
    "print(vsr.EGA(0,1,0,0,0,0,0,0) * vsr.EGA(0,0,1,0,0,0,0,0))\n",
    "print(vsr.EGA(0,1,0,0,0,0,0,0) * vsr.EGA(0,0,0,1,0,0,0,0))\n",
    "print(vsr.EGA(0,1,0,0,0,0,0,0) * vsr.EGA(0,0,0,0,1,0,0,0))\n",
    "print(vsr.EGA(0,1,0,0,0,0,0,0) * vsr.EGA(0,0,0,0,0,1,0,0))\n",
    "print(vsr.EGA(0,1,0,0,0,0,0,0) * vsr.EGA(0,0,0,0,0,0,1,0))\n",
    "print(vsr.EGA(0,1,0,0,0,0,0,0) * vsr.EGA(0,0,0,0,0,0,0,1))"
   ]
  },
  {
   "cell_type": "code",
   "execution_count": null,
   "metadata": {
    "collapsed": false
   },
   "outputs": [],
   "source": [
    "np.array([np.array(vsr.EGA(0,0,1,0,0,0,0,0) * vsr.EGA(1,0,0,0,0,0,0,0)),\n",
    "          np.array(vsr.EGA(0,0,1,0,0,0,0,0) * vsr.EGA(0,1,0,0,0,0,0,0)),\n",
    "          np.array(vsr.EGA(0,0,1,0,0,0,0,0) * vsr.EGA(0,0,1,0,0,0,0,0)),\n",
    "          np.array(vsr.EGA(0,0,1,0,0,0,0,0) * vsr.EGA(0,0,0,1,0,0,0,0)),\n",
    "          np.array(vsr.EGA(0,0,1,0,0,0,0,0) * vsr.EGA(0,0,0,0,1,0,0,0)),\n",
    "          np.array(vsr.EGA(0,0,1,0,0,0,0,0) * vsr.EGA(0,0,0,0,0,1,0,0)),\n",
    "          np.array(vsr.EGA(0,0,1,0,0,0,0,0) * vsr.EGA(0,0,0,0,0,0,1,0)),\n",
    "          np.array(vsr.EGA(0,0,1,0,0,0,0,0) * vsr.EGA(0,0,0,0,0,0,0,1))]).T"
   ]
  },
  {
   "cell_type": "code",
   "execution_count": null,
   "metadata": {
    "collapsed": true
   },
   "outputs": [],
   "source": []
  },
  {
   "cell_type": "code",
   "execution_count": null,
   "metadata": {
    "collapsed": false
   },
   "outputs": [],
   "source": [
    "Multivector()._gp_tensor[2,:,:]"
   ]
  },
  {
   "cell_type": "code",
   "execution_count": null,
   "metadata": {
    "collapsed": false
   },
   "outputs": [],
   "source": [
    "vsr.EGA(0,0,0,0,0,0,0,0) * vsr.EGA(0,a[0],a[1],0,a[2],0,0,0)"
   ]
  },
  {
   "cell_type": "code",
   "execution_count": null,
   "metadata": {
    "collapsed": false
   },
   "outputs": [],
   "source": [
    "np.inner(matrix(vsr.EGA(vsr.Vec(1,2,3)), vsr.EGA(0,0,0,0,0,0,0,0)), vsr.EGA(vsr.Vec(-12,9,-13)))"
   ]
  },
  {
   "cell_type": "code",
   "execution_count": null,
   "metadata": {
    "collapsed": false
   },
   "outputs": [],
   "source": [
    "vsr.Vec(1,2,3) * vsr.Vec(-12,9,-13)"
   ]
  },
  {
   "cell_type": "code",
   "execution_count": null,
   "metadata": {
    "collapsed": false
   },
   "outputs": [],
   "source": [
    "motor = vsr.Vec(1,1,1).trs() * vsr.Rot(vsr.Biv(0,1,0) * np.pi/6.0)\n",
    "a = vsr.CGA(motor)\n",
    "print(a)"
   ]
  },
  {
   "cell_type": "code",
   "execution_count": null,
   "metadata": {
    "collapsed": false
   },
   "outputs": [],
   "source": [
    "a = vsr.EGA(1,0,0,0,0,0,0,0)\n",
    "m2 = np.zeros((8,8))\n",
    "for i in range(8):\n",
    "    \n",
    "    ei = vsr.EGA(*np.zeros(8))\n",
    "    ei[i] = 1.0\n",
    "    m2[:,i] = ei * vsr.EGA(1,0,0,0,0,0,0,0)\n",
    "print(m)"
   ]
  },
  {
   "cell_type": "code",
   "execution_count": null,
   "metadata": {
    "collapsed": false
   },
   "outputs": [],
   "source": [
    "np.sum(m2,0)"
   ]
  },
  {
   "cell_type": "code",
   "execution_count": null,
   "metadata": {
    "collapsed": false
   },
   "outputs": [],
   "source": [
    "M = np.zeros((8,8))\n",
    "for i in range(8):\n",
    "    W = np.zeros((8,8))\n",
    "    for j in range(8):\n",
    "        a = vsr.EGA(0,0,0,0,0,0,0,0)\n",
    "        b = vsr.EGA(0,0,0,0,0,0,0,0)\n",
    "        a[i] = 1.\n",
    "        b[j] = j + 1\n",
    "        W[i,:] = np.array(a * b)\n",
    "    print(np.sum(W,0))\n",
    "    M[i,:] = np.sum(W,0)\n",
    "print(M)"
   ]
  },
  {
   "cell_type": "code",
   "execution_count": null,
   "metadata": {
    "collapsed": false
   },
   "outputs": [],
   "source": [
    "M = np.zeros((8,8))\n",
    "mask = np.array([1,2,3,4,5,6,7,8])\n",
    "for i in range(8):\n",
    "    W = np.zeros((8,8))\n",
    "    for j in range(8):\n",
    "        a = vsr.EGA(0,0,0,0,0,0,0,0)\n",
    "        b = vsr.EGA(0,0,0,0,0,0,0,0)\n",
    "        a[i] = 1.\n",
    "        b[j] = 1.\n",
    "        M[i,j] = np.dot(mask, np.array(a <= b))\n",
    "print(M.T)"
   ]
  },
  {
   "cell_type": "code",
   "execution_count": null,
   "metadata": {
    "collapsed": false
   },
   "outputs": [],
   "source": [
    "def row(a):\n",
    "    M = np.zeros(8)\n",
    "    for i in range(8):\n",
    "        b = vsr.EGA(0,0,0,0,0,0,0,0)\n",
    "        b[i] = i + 1\n",
    "        M += np.array(a * b)\n",
    "    return M\n",
    "\n",
    "for i in range(8):\n",
    "    ei = vsr.EGA(0,0,0,0,0,0,0,0)\n",
    "    ei[i] = 1.\n",
    "    print(row(ei))\n",
    "    "
   ]
  },
  {
   "cell_type": "code",
   "execution_count": null,
   "metadata": {
    "collapsed": false
   },
   "outputs": [],
   "source": [
    "np.dot([1,2,3,4,5,6,7,8], np.array(vsr.EGA(0,0,0,0,0,1,0,0) * vsr.EGA(0,0,0,0,0,0,0,1)))"
   ]
  }
 ],
 "metadata": {
  "kernelspec": {
   "display_name": "Python 2",
   "language": "python",
   "name": "python2"
  },
  "language_info": {
   "codemirror_mode": {
    "name": "ipython",
    "version": 2
   },
   "file_extension": ".py",
   "mimetype": "text/x-python",
   "name": "python",
   "nbconvert_exporter": "python",
   "pygments_lexer": "ipython2",
   "version": "2.7.11+"
  },
  "widgets": {
   "state": {},
   "version": "1.1.2"
  }
 },
 "nbformat": 4,
 "nbformat_minor": 0
}
