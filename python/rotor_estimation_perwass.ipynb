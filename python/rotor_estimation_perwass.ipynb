{
 "cells": [
  {
   "cell_type": "markdown",
   "metadata": {},
   "source": [
    "# Rotor Estimation using the Tensor Representation of Geometric Algebra"
   ]
  },
  {
   "cell_type": "code",
   "execution_count": 1,
   "metadata": {
    "collapsed": false
   },
   "outputs": [
    {
     "name": "stderr",
     "output_type": "stream",
     "text": [
      "/home/game/python/local/lib/python2.7/site-packages/matplotlib/font_manager.py:273: UserWarning: Matplotlib is building the font cache using fc-list. This may take a moment.\n",
      "  warnings.warn('Matplotlib is building the font cache using fc-list. This may take a moment.')\n"
     ]
    },
    {
     "name": "stdout",
     "output_type": "stream",
     "text": [
      "Populating the interactive namespace from numpy and matplotlib\n"
     ]
    }
   ],
   "source": [
    "from __future__ import print_function\n",
    "import sys\n",
    "sys.path.append('../build/')\n",
    "%pylab inline\n",
    "np.set_printoptions(precision=2, suppress=True,threshold=np.inf)\n",
    "import versor as vsr"
   ]
  },
  {
   "cell_type": "markdown",
   "metadata": {},
   "source": [
    "## Dataset generation"
   ]
  },
  {
   "cell_type": "code",
   "execution_count": 2,
   "metadata": {
    "collapsed": true
   },
   "outputs": [],
   "source": [
    "r = vsr.Rot(vsr.Biv(0,1,0) * np.pi/6.0)"
   ]
  },
  {
   "cell_type": "code",
   "execution_count": 3,
   "metadata": {
    "collapsed": false
   },
   "outputs": [],
   "source": [
    "R = np.zeros((3,3))\n",
    "for i in range(3):\n",
    "    for j in range(3):\n",
    "        a = vsr.Vec(0,0,0)\n",
    "        b = vsr.Vec(0,0,0)\n",
    "        a[j] = 1\n",
    "        b[i] = 1\n",
    "        R[i,j] = b <= a.spin(r)        "
   ]
  },
  {
   "cell_type": "code",
   "execution_count": 4,
   "metadata": {
    "collapsed": false
   },
   "outputs": [
    {
     "data": {
      "text/plain": [
       "array([[ 0.5 ,  0.  , -0.87],\n",
       "       [ 0.  ,  1.  ,  0.  ],\n",
       "       [ 0.87,  0.  ,  0.5 ]])"
      ]
     },
     "execution_count": 4,
     "metadata": {},
     "output_type": "execute_result"
    }
   ],
   "source": [
    "R"
   ]
  },
  {
   "cell_type": "code",
   "execution_count": 5,
   "metadata": {
    "collapsed": false
   },
   "outputs": [
    {
     "data": {
      "text/plain": [
       "Vec: [ 0.5 0 0.87 ]"
      ]
     },
     "execution_count": 5,
     "metadata": {},
     "output_type": "execute_result"
    }
   ],
   "source": [
    "vsr.Vec(1,0,0).spin(r)"
   ]
  },
  {
   "cell_type": "code",
   "execution_count": 6,
   "metadata": {
    "collapsed": false
   },
   "outputs": [
    {
     "data": {
      "text/plain": [
       "Vec: [ 0 1 0 ]"
      ]
     },
     "execution_count": 6,
     "metadata": {},
     "output_type": "execute_result"
    }
   ],
   "source": [
    "vsr.Vec(0,1,0).spin(r)"
   ]
  },
  {
   "cell_type": "code",
   "execution_count": 7,
   "metadata": {
    "collapsed": false
   },
   "outputs": [
    {
     "data": {
      "text/plain": [
       "Vec: [ -0.87 0 0.5 ]"
      ]
     },
     "execution_count": 7,
     "metadata": {},
     "output_type": "execute_result"
    }
   ],
   "source": [
    "vsr.Vec(0,0,1).spin(r)"
   ]
  },
  {
   "cell_type": "code",
   "execution_count": 8,
   "metadata": {
    "collapsed": false
   },
   "outputs": [
    {
     "ename": "NameError",
     "evalue": "name 'rotor' is not defined",
     "output_type": "error",
     "traceback": [
      "\u001b[1;31m---------------------------------------------------------------------------\u001b[0m",
      "\u001b[1;31mNameError\u001b[0m                                 Traceback (most recent call last)",
      "\u001b[1;32m<ipython-input-8-29894d491fe5>\u001b[0m in \u001b[0;36m<module>\u001b[1;34m()\u001b[0m\n\u001b[0;32m      3\u001b[0m points_a = [vsr.Vec(*np.random.normal(0.0, 0.8, 3))\n\u001b[0;32m      4\u001b[0m             for i in range(n_points)]\n\u001b[1;32m----> 5\u001b[1;33m \u001b[0mpoints_b\u001b[0m \u001b[1;33m=\u001b[0m \u001b[1;33m[\u001b[0m\u001b[0mpoint\u001b[0m\u001b[1;33m.\u001b[0m\u001b[0mspin\u001b[0m\u001b[1;33m(\u001b[0m\u001b[0mrotor\u001b[0m\u001b[1;33m)\u001b[0m \u001b[1;32mfor\u001b[0m \u001b[0mpoint\u001b[0m \u001b[1;32min\u001b[0m \u001b[0mpoints_a\u001b[0m\u001b[1;33m]\u001b[0m\u001b[1;33m\u001b[0m\u001b[0m\n\u001b[0m\u001b[0;32m      6\u001b[0m points_b_noisy = [vsr.Vec(*(np.array(point)[:3] \n\u001b[0;32m      7\u001b[0m                             + sigma * np.random.randn(3))) \n",
      "\u001b[1;31mNameError\u001b[0m: name 'rotor' is not defined"
     ]
    }
   ],
   "source": [
    "n_points = 10\n",
    "sigma = 0.09\n",
    "points_a = [vsr.Vec(*np.random.normal(0.0, 0.8, 3))\n",
    "            for i in range(n_points)]\n",
    "points_b = [point.spin(rotor) for point in points_a]\n",
    "points_b_noisy = [vsr.Vec(*(np.array(point)[:3] \n",
    "                            + sigma * np.random.randn(3))) \n",
    "                  for point in points_b]"
   ]
  },
  {
   "cell_type": "code",
   "execution_count": 9,
   "metadata": {
    "collapsed": false
   },
   "outputs": [
    {
     "name": "stdout",
     "output_type": "stream",
     "text": [
      "Rot: [ 0.92 0 0.38 0 ]\n"
     ]
    },
    {
     "ename": "TypeError",
     "evalue": "Incompatible function arguments. The following argument types are supported:\n    1. (Rot, float, float, float, float) -> None\n    2. (Rot, Biv) -> None\n",
     "output_type": "error",
     "traceback": [
      "\u001b[1;31m---------------------------------------------------------------------------\u001b[0m",
      "\u001b[1;31mTypeError\u001b[0m                                 Traceback (most recent call last)",
      "\u001b[1;32m<ipython-input-9-47a3442c2cd2>\u001b[0m in \u001b[0;36m<module>\u001b[1;34m()\u001b[0m\n\u001b[0;32m     21\u001b[0m     \u001b[1;32mreturn\u001b[0m \u001b[0mm\u001b[0m\u001b[1;33m\u001b[0m\u001b[0m\n\u001b[0;32m     22\u001b[0m \u001b[1;33m\u001b[0m\u001b[0m\n\u001b[1;32m---> 23\u001b[1;33m \u001b[1;32mprint\u001b[0m\u001b[1;33m(\u001b[0m\u001b[0mvsr\u001b[0m\u001b[1;33m.\u001b[0m\u001b[0mRot\u001b[0m\u001b[1;33m(\u001b[0m\u001b[0mvsr\u001b[0m\u001b[1;33m.\u001b[0m\u001b[0mEGA\u001b[0m\u001b[1;33m(\u001b[0m\u001b[0mrotor\u001b[0m\u001b[1;33m)\u001b[0m\u001b[1;33m)\u001b[0m\u001b[1;33m)\u001b[0m\u001b[1;33m\u001b[0m\u001b[0m\n\u001b[0m\u001b[0;32m     24\u001b[0m \u001b[1;33m\u001b[0m\u001b[0m\n\u001b[0;32m     25\u001b[0m m = np.row_stack([\n",
      "\u001b[1;31mTypeError\u001b[0m: Incompatible function arguments. The following argument types are supported:\n    1. (Rot, float, float, float, float) -> None\n    2. (Rot, Biv) -> None\n"
     ]
    }
   ],
   "source": [
    "rotor = vsr.Biv(0,-pi/8,0).exp()\n",
    "print(rotor)\n",
    "n_points = 3\n",
    "sigma = 0.09\n",
    "points_a = [vsr.Vec(*np.random.normal(0.0, 0.8, 3))\n",
    "            for i in range(n_points)]\n",
    "points_b = [point.spin(rotor) for point in points_a]\n",
    "points_b_noisy = [vsr.Vec(*(np.array(point)[:3] \n",
    "                            + sigma * np.random.randn(3))) \n",
    "                  for point in points_b]\n",
    "\n",
    "ega_a = [vsr.EGA(p) for p in points_a]\n",
    "ega_b = [vsr.EGA(p) for p in points_b]\n",
    "\n",
    "def matrix(a, b):\n",
    "    m = np.zeros((8,8))\n",
    "    for i in range(8):\n",
    "        ei = vsr.EGA(0,0,0,0,0,0,0,0)\n",
    "        ei[i] = i\n",
    "        m[i,:] = np.array(ei * a - b * ei)\n",
    "    return m\n",
    "\n",
    "print(vsr.Rot(vsr.EGA(rotor)))\n",
    "\n",
    "m = np.row_stack([\n",
    "        np.delete(np.delete(matrix(a,b),[0,4,5,6],0), [1,2,3,7],1)\n",
    "        for a, b in zip(ega_a, ega_b)]).copy()\n",
    "\n",
    "U,s,Vt = np.linalg.svd(m)\n",
    "print(Vt.T)\n",
    "print(s)"
   ]
  },
  {
   "cell_type": "markdown",
   "metadata": {},
   "source": [
    "## Solver"
   ]
  },
  {
   "cell_type": "code",
   "execution_count": 10,
   "metadata": {
    "collapsed": false
   },
   "outputs": [],
   "source": [
    "class Multivector(object):\n",
    "    def __init__(self, data=None):\n",
    "        if data is not None:\n",
    "            self._data = np.array(data).reshape(8,1)\n",
    "        else:\n",
    "            self._data = np.zeros((8,1))\n",
    "        self._grades = [0, 1, 1, 1, 2, 2, 2, 3]\n",
    "        self._gp_tensor = self._create_gp_tensor()\n",
    "        \n",
    "    def __repr__(self):\n",
    "        return self._data.ravel().__repr__()\n",
    "    \n",
    "#     @property\n",
    "#     def scalar(self):\n",
    "#         return self._data[0]\n",
    "    \n",
    "#     @scalar.setter\n",
    "    def scalar(self, scalar):\n",
    "        self._data[0] = scalar\n",
    "        return Multivector(self._data)\n",
    "    \n",
    "#     @property        \n",
    "        gp_table = np.array([1,  2,  3,  4,  5,  6,  7,  8,\n",
    "                             2,  1,  7, -6,  8, -4,  3,  5,\n",
    "                             3, -7,  1,  5,  4,  8, -2,  6,\n",
    "                             4,  6, -5,  1, -3,  2,  8,  7,\n",
    "                             5,  8, -4,  3, -1, -7,  6, -2,\n",
    "                             6,  4,  8, -2,  7, -1, -5, -3,\n",
    "                             7, -3,  2,  8, -6,  5, -1, -4, \n",
    "                             8,  5,  6,  7, -2, -3, -4, -1]).T.reshape(8,8)\n",
    "#     def vector(self):\n",
    "#         return self._data[1:4]\n",
    "    \n",
    "    def vector(self, vector):\n",
    "        self._data[1:4] = np.array(vector).copy().reshape(-1,1)\n",
    "        return Multivector(self._data)\n",
    "    \n",
    "#     @property\n",
    "#     def bivector(self):\n",
    "#         return self._data[4:7]\n",
    "    \n",
    "#     @bivector.setter\n",
    "    def bivector(self, bivector):\n",
    "        self._data[4:7] = np.array(bivector).copy().reshape(-1,1)\n",
    "        return Multivector(self._data)\n",
    "    \n",
    "#     @property\n",
    "#     def pseudoscalar(self):\n",
    "#         return self._data[7]\n",
    "    \n",
    "#     @pseudoscalar.setter\n",
    "    def pseudoscalar(self, pseudoscalar):\n",
    "        self._data[7] = pseudoscalar\n",
    "        return Multivector(self._data)\n",
    "    \n",
    "    def _create_gp_tensor(self):\n",
    "        M = np.zeros((8,8))\n",
    "        mask = np.array([1,2,3,4,5,6,7,8])\n",
    "        for i in range(8):\n",
    "            W = np.zeros((8,8))\n",
    "            for j in range(8):\n",
    "                a = vsr.EGA(0,0,0,0,0,0,0,0)\n",
    "                b = vsr.EGA(0,0,0,0,0,0,0,0)\n",
    "                a[i] = 1.\n",
    "                b[j] = 1.\n",
    "                M[i,j] = np.dot(mask, np.array(a * b))\n",
    "        gp_table = M.copy()\n",
    "        tensor = np.zeros((8,8,8))\n",
    "        for k in range(8):\n",
    "            for i in range(8):\n",
    "                for j in range(8):\n",
    "                    val = gp_table[i,j]\n",
    "                    if abs(val) == k + 1:\n",
    "                        tensor[k,i,j] = np.sign(val)\n",
    "        return tensor\n",
    "    \n",
    "    def gp_right_matrix(self):\n",
    "        return np.tensordot(self._gp_tensor.T,self._data,1).reshape(8,8)\n",
    "    \n",
    "    def gp_left_matrix(self):\n",
    "        return np.tensordot(self._data.T, self._gp_tensor,1).reshape(8,8)"
   ]
  },
  {
   "cell_type": "code",
   "execution_count": 11,
   "metadata": {
    "collapsed": false
   },
   "outputs": [
    {
     "data": {
      "text/plain": [
       "array([[ 0.,  1.,  2.,  3.,  0.,  0.,  0.,  0.],\n",
       "       [ 1.,  0.,  0.,  0.,  2.,  3.,  0.,  0.],\n",
       "       [ 2.,  0.,  0.,  0., -1.,  0.,  3.,  0.],\n",
       "       [ 3.,  0.,  0.,  0.,  0., -1., -2.,  0.],\n",
       "       [ 0., -2.,  1.,  0.,  0.,  0.,  0., -3.],\n",
       "       [ 0., -3.,  0.,  1.,  0.,  0.,  0.,  2.],\n",
       "       [ 0.,  0., -3.,  2.,  0.,  0.,  0., -1.],\n",
       "       [ 0.,  0.,  0.,  0., -3.,  2., -1.,  0.]])"
      ]
     },
     "execution_count": 11,
     "metadata": {},
     "output_type": "execute_result"
    }
   ],
   "source": [
    "Multivector(vsr.EGA(vsr.Vec(1,2,3))).gp_left_matrix()"
   ]
  },
  {
   "cell_type": "code",
   "execution_count": 12,
   "metadata": {
    "collapsed": false
   },
   "outputs": [
    {
     "ename": "TypeError",
     "evalue": "matrix() takes exactly 2 arguments (1 given)",
     "output_type": "error",
     "traceback": [
      "\u001b[1;31m---------------------------------------------------------------------------\u001b[0m",
      "\u001b[1;31mTypeError\u001b[0m                                 Traceback (most recent call last)",
      "\u001b[1;32m<ipython-input-12-369d2f593f70>\u001b[0m in \u001b[0;36m<module>\u001b[1;34m()\u001b[0m\n\u001b[1;32m----> 1\u001b[1;33m \u001b[0mmatrix\u001b[0m\u001b[1;33m(\u001b[0m\u001b[0mvsr\u001b[0m\u001b[1;33m.\u001b[0m\u001b[0mEGA\u001b[0m\u001b[1;33m(\u001b[0m\u001b[0mvsr\u001b[0m\u001b[1;33m.\u001b[0m\u001b[0mVec\u001b[0m\u001b[1;33m(\u001b[0m\u001b[1;36m1\u001b[0m\u001b[1;33m,\u001b[0m\u001b[1;36m2\u001b[0m\u001b[1;33m,\u001b[0m\u001b[1;36m3\u001b[0m\u001b[1;33m)\u001b[0m\u001b[1;33m)\u001b[0m\u001b[1;33m)\u001b[0m\u001b[1;33m\u001b[0m\u001b[0m\n\u001b[0m",
      "\u001b[1;31mTypeError\u001b[0m: matrix() takes exactly 2 arguments (1 given)"
     ]
    }
   ],
   "source": [
    "matrix(vsr.EGA(vsr.Vec(1,2,3)))"
   ]
  },
  {
   "cell_type": "code",
   "execution_count": 13,
   "metadata": {
    "collapsed": false
   },
   "outputs": [
    {
     "data": {
      "text/plain": [
       "array([-36.,   0.,   0.,   0.,   5.,   8.,   1.,   0.])"
      ]
     },
     "execution_count": 13,
     "metadata": {},
     "output_type": "execute_result"
    }
   ],
   "source": [
    "np.dot(Multivector(vsr.EGA(vsr.Vec(1,2,3))).gp_left_matrix(), vsr.EGA(vsr.Vec(-5,-5,-7)))"
   ]
  },
  {
   "cell_type": "code",
   "execution_count": 14,
   "metadata": {
    "collapsed": false
   },
   "outputs": [
    {
     "data": {
      "text/plain": [
       "Rot: [ -36 5 8 1 ]"
      ]
     },
     "execution_count": 14,
     "metadata": {},
     "output_type": "execute_result"
    }
   ],
   "source": [
    "vsr.Vec(1,2,3) * vsr.Vec(-5,-5,-7)"
   ]
  },
  {
   "cell_type": "code",
   "execution_count": 15,
   "metadata": {
    "collapsed": false
   },
   "outputs": [
    {
     "data": {
      "text/plain": [
       "Rot: [ -36 -5 -8 -1 ]"
      ]
     },
     "execution_count": 15,
     "metadata": {},
     "output_type": "execute_result"
    }
   ],
   "source": [
    "vsr.Vec(-5,-5,-7) * vsr.Vec(1,2,3)"
   ]
  },
  {
   "cell_type": "code",
   "execution_count": 16,
   "metadata": {
    "collapsed": true
   },
   "outputs": [],
   "source": [
    "def matrix(a, left=True):\n",
    "    m = np.zeros((8,8))\n",
    "    for i in range(8):\n",
    "        ei = vsr.EGA(0,0,0,0,0,0,0,0)\n",
    "        ei[i] = 1.0\n",
    "        if left:\n",
    "            m[i,:] = np.array(a * ei)\n",
    "        else:\n",
    "            m[i,:] = np.array(ei * a)\n",
    "    return m"
   ]
  },
  {
   "cell_type": "code",
   "execution_count": 17,
   "metadata": {
    "collapsed": false
   },
   "outputs": [
    {
     "name": "stdout",
     "output_type": "stream",
     "text": [
      "[[ 0. -2.  3. -2.  0.  0.  0.  0.]\n",
      " [-2.  0.  0.  0. -3.  2.  0.  0.]\n",
      " [ 3.  0.  0.  0. -2.  0.  2.  0.]\n",
      " [-2.  0.  0.  0.  0. -2.  3.  0.]\n",
      " [ 0. -3. -2.  0.  0.  0.  0. -2.]\n",
      " [ 0.  2.  0. -2.  0.  0.  0. -3.]\n",
      " [ 0.  0.  2.  3.  0.  0.  0. -2.]\n",
      " [ 0.  0.  0.  0. -2. -3. -2.  0.]]\n"
     ]
    },
    {
     "data": {
      "text/plain": [
       "array([[-2., -3.,  2.,  0.],\n",
       "       [ 3., -2.,  0.,  2.],\n",
       "       [-2.,  0., -2.,  3.],\n",
       "       [ 0., -2., -3., -2.]])"
      ]
     },
     "execution_count": 17,
     "metadata": {},
     "output_type": "execute_result"
    }
   ],
   "source": [
    "mask = [1,0,0,0,1,1,1,0]\n",
    "mask= np.outer(mask,mask)\n",
    "m = matrix(vsr.EGA(vsr.Vec(1,2,3))) - matrix(vsr.EGA(vsr.Vec(3,-1,5)),True) \n",
    "print(m)\n",
    "np.delete(np.delete(m,[0,4,5,6],0), [1,2,3,7],1)"
   ]
  },
  {
   "cell_type": "code",
   "execution_count": 18,
   "metadata": {
    "collapsed": false
   },
   "outputs": [
    {
     "ename": "NameError",
     "evalue": "name 'motor' is not defined",
     "output_type": "error",
     "traceback": [
      "\u001b[1;31m---------------------------------------------------------------------------\u001b[0m",
      "\u001b[1;31mNameError\u001b[0m                                 Traceback (most recent call last)",
      "\u001b[1;32m<ipython-input-18-2bdd70c4f93d>\u001b[0m in \u001b[0;36m<module>\u001b[1;34m()\u001b[0m\n\u001b[1;32m----> 1\u001b[1;33m \u001b[0mmotor\u001b[0m\u001b[1;33m\u001b[0m\u001b[0m\n\u001b[0m",
      "\u001b[1;31mNameError\u001b[0m: name 'motor' is not defined"
     ]
    }
   ],
   "source": [
    "motor"
   ]
  },
  {
   "cell_type": "code",
   "execution_count": 19,
   "metadata": {
    "collapsed": false
   },
   "outputs": [
    {
     "name": "stdout",
     "output_type": "stream",
     "text": [
      "[ 7.93  7.93  7.75  7.75  2.26  2.26  0.    0.  ]\n",
      "[[-0.   -0.33  0.   -0.    0.    0.19  0.48  0.79]\n",
      " [ 0.33  0.   -0.72 -0.24  0.56  0.   -0.   -0.  ]\n",
      " [-0.8   0.    0.    0.    0.47  0.   -0.33  0.2 ]\n",
      " [ 0.38  0.    0.62  0.21  0.65  0.   -0.   -0.  ]\n",
      " [-0.   -0.38 -0.21  0.62  0.   -0.65  0.    0.  ]\n",
      " [ 0.   -0.8  -0.    0.   -0.    0.47 -0.2  -0.33]\n",
      " [ 0.   -0.33  0.24 -0.72 -0.   -0.56 -0.    0.  ]\n",
      " [-0.33 -0.    0.    0.    0.19 -0.    0.79 -0.48]]\n",
      "Rot: [ 0.92 0 0.38 0 ]\n"
     ]
    }
   ],
   "source": [
    "points_a = [vsr.EGA(vsr.Vec(1,0,0)), \n",
    "            vsr.EGA(vsr.Vec(0,0,1)),\n",
    "            vsr.EGA(vsr.Vec(1,2,3))]\n",
    "points_b = [a.spin(vsr.EGA(rotor)) for a in points_a]\n",
    "\n",
    "# n_points = 10\n",
    "# sigma = 0.09\n",
    "# points_a = [vsr.EGA(vsr.Vec(*np.random.normal(0.0, 0.8, 3)))\n",
    "#             for i in range(n_points)]\n",
    "# points_b = [point.spin(vsr.EGA(rotor)) for point in points_a]\n",
    "\n",
    "m = np.array([gp_a - gp_b for gp_a, gp_b in zip([Multivector(np.array(point)).gp_right_matrix()\n",
    "                                                 for point in points_a],\n",
    "                                                [Multivector(np.array(point)).gp_left_matrix()\n",
    "                                                 for point in points_b])]).reshape(-1,8)\n",
    "U,s,Vt = np.linalg.svd(m)\n",
    "print(s)\n",
    "print(Vt.T)\n",
    "print(rotor)"
   ]
  },
  {
   "cell_type": "code",
   "execution_count": 20,
   "metadata": {
    "collapsed": false
   },
   "outputs": [
    {
     "ename": "ValueError",
     "evalue": "could not broadcast input array from shape (8,1) into shape (3,1)",
     "output_type": "error",
     "traceback": [
      "\u001b[1;31m---------------------------------------------------------------------------\u001b[0m",
      "\u001b[1;31mValueError\u001b[0m                                Traceback (most recent call last)",
      "\u001b[1;32m<ipython-input-20-d0d2ce20aba5>\u001b[0m in \u001b[0;36m<module>\u001b[1;34m()\u001b[0m\n\u001b[1;32m----> 1\u001b[1;33m \u001b[0mMultivector\u001b[0m\u001b[1;33m(\u001b[0m\u001b[1;33m)\u001b[0m\u001b[1;33m.\u001b[0m\u001b[0mvector\u001b[0m\u001b[1;33m(\u001b[0m\u001b[0mpoints_a\u001b[0m\u001b[1;33m[\u001b[0m\u001b[1;36m0\u001b[0m\u001b[1;33m]\u001b[0m\u001b[1;33m)\u001b[0m\u001b[1;33m.\u001b[0m\u001b[0mgp_left_matrix\u001b[0m\u001b[1;33m(\u001b[0m\u001b[1;33m)\u001b[0m\u001b[1;33m\u001b[0m\u001b[0m\n\u001b[0m",
      "\u001b[1;32m<ipython-input-10-feec86752238>\u001b[0m in \u001b[0;36mvector\u001b[1;34m(self, vector)\u001b[0m\n\u001b[0;32m     33\u001b[0m \u001b[1;33m\u001b[0m\u001b[0m\n\u001b[0;32m     34\u001b[0m     \u001b[1;32mdef\u001b[0m \u001b[0mvector\u001b[0m\u001b[1;33m(\u001b[0m\u001b[0mself\u001b[0m\u001b[1;33m,\u001b[0m \u001b[0mvector\u001b[0m\u001b[1;33m)\u001b[0m\u001b[1;33m:\u001b[0m\u001b[1;33m\u001b[0m\u001b[0m\n\u001b[1;32m---> 35\u001b[1;33m         \u001b[0mself\u001b[0m\u001b[1;33m.\u001b[0m\u001b[0m_data\u001b[0m\u001b[1;33m[\u001b[0m\u001b[1;36m1\u001b[0m\u001b[1;33m:\u001b[0m\u001b[1;36m4\u001b[0m\u001b[1;33m]\u001b[0m \u001b[1;33m=\u001b[0m \u001b[0mnp\u001b[0m\u001b[1;33m.\u001b[0m\u001b[0marray\u001b[0m\u001b[1;33m(\u001b[0m\u001b[0mvector\u001b[0m\u001b[1;33m)\u001b[0m\u001b[1;33m.\u001b[0m\u001b[0mcopy\u001b[0m\u001b[1;33m(\u001b[0m\u001b[1;33m)\u001b[0m\u001b[1;33m.\u001b[0m\u001b[0mreshape\u001b[0m\u001b[1;33m(\u001b[0m\u001b[1;33m-\u001b[0m\u001b[1;36m1\u001b[0m\u001b[1;33m,\u001b[0m\u001b[1;36m1\u001b[0m\u001b[1;33m)\u001b[0m\u001b[1;33m\u001b[0m\u001b[0m\n\u001b[0m\u001b[0;32m     36\u001b[0m         \u001b[1;32mreturn\u001b[0m \u001b[0mMultivector\u001b[0m\u001b[1;33m(\u001b[0m\u001b[0mself\u001b[0m\u001b[1;33m.\u001b[0m\u001b[0m_data\u001b[0m\u001b[1;33m)\u001b[0m\u001b[1;33m\u001b[0m\u001b[0m\n\u001b[0;32m     37\u001b[0m \u001b[1;33m\u001b[0m\u001b[0m\n",
      "\u001b[1;31mValueError\u001b[0m: could not broadcast input array from shape (8,1) into shape (3,1)"
     ]
    }
   ],
   "source": [
    "Multivector().vector(points_a[0]).gp_left_matrix()"
   ]
  },
  {
   "cell_type": "code",
   "execution_count": 21,
   "metadata": {
    "collapsed": false
   },
   "outputs": [],
   "source": [
    "class TensorRotorSolver(object):\n",
    "    def __init__(self):\n",
    "        self._gp_tensor = self._create_gp_tensor()\n",
    "        \n",
    "    @property\n",
    "    def gp_tensor(self):\n",
    "        return self._gp_tensor\n",
    "        \n",
    "    def _create_gp_tensor(self):\n",
    "        gp_table = np.array([1,  2,  3,  4,  5,  6,  7,  8,\n",
    "                             2,  1,  7, -6,  8, -4,  3,  5,\n",
    "                             3, -7,  1,  5,  4,  8, -2,  6,\n",
    "                             4,  6, -5,  1, -3,  2,  8,  7,\n",
    "                             5,  8, -4,  3, -1, -7,  6, -2,\n",
    "                             6,  4,  8, -2,  7, -1, -5, -3,\n",
    "                             7, -3,  2,  8, -6,  5, -1, -4, \n",
    "                             8,  5,  6,  7, -2, -3, -4, -1]).T.reshape(8,8)\n",
    "        tensor = np.zeros((8,8,8))\n",
    "        for k in range(8):\n",
    "            for i in range(8):\n",
    "                for j in range(8):\n",
    "                    val = gp_table[i,j]\n",
    "                    if abs(val) == k + 1:\n",
    "                        tensor[k,i,j] = np.sign(val)\n",
    "        return tensor\n",
    "    \n",
    "    "
   ]
  },
  {
   "cell_type": "code",
   "execution_count": 22,
   "metadata": {
    "collapsed": false
   },
   "outputs": [
    {
     "name": "stdout",
     "output_type": "stream",
     "text": [
      "[  0.   0.   0.   0.   0.   0.   0.  14.]\n"
     ]
    }
   ],
   "source": [
    "Gkij = TensorRotorSolver().gp_tensor\n",
    "ai = np.array([0,1,2,3,0,0,0,0])\n",
    "bj = np.array([0,0,0,0,1,2,3,0])\n",
    "print(np.einsum('i,j,kij->k', ai, bj, Gkij))"
   ]
  },
  {
   "cell_type": "code",
   "execution_count": 44,
   "metadata": {
    "collapsed": false
   },
   "outputs": [
    {
     "name": "stdout",
     "output_type": "stream",
     "text": [
      "[[ 0.  0.  0.  0. -1. -2. -3.  0.]\n",
      " [ 0.  0. -3.  2.  0.  0.  0. -1.]\n",
      " [ 0.  3.  0. -1.  0.  0.  0. -2.]\n",
      " [ 0. -2.  1.  0.  0.  0.  0. -3.]\n",
      " [ 0.  0.  0.  0.  0.  0.  0.  0.]\n",
      " [ 0.  0.  0.  0.  0.  0.  0.  0.]\n",
      " [ 0.  0.  0.  0.  0.  0.  0.  0.]\n",
      " [ 0.  0.  0.  0.  0.  0.  0.  0.]]\n"
     ]
    }
   ],
   "source": [
    "print(np.einsum('j,kij->ki',bj, Ikij))"
   ]
  },
  {
   "cell_type": "code",
   "execution_count": 45,
   "metadata": {
    "collapsed": false
   },
   "outputs": [
    {
     "name": "stdout",
     "output_type": "stream",
     "text": [
      "[[ 0.  1.  2.  3.  0.  0.  0.  0.]\n",
      " [ 1.  0.  0.  0.  0.  3. -2.  0.]\n",
      " [ 2.  0.  0.  0. -3.  0.  1.  0.]\n",
      " [ 3.  0.  0.  0.  2. -1.  0.  0.]\n",
      " [ 0.  0. -3.  2.  0.  0.  0.  1.]\n",
      " [ 0.  3.  0. -1.  0.  0.  0.  2.]\n",
      " [ 0. -2.  1.  0.  0.  0.  0.  3.]\n",
      " [ 0.  0.  0.  0.  1.  2.  3.  0.]]\n"
     ]
    }
   ],
   "source": [
    "print(np.einsum('i,kij->kj', ai, Gkij))"
   ]
  },
  {
   "cell_type": "code",
   "execution_count": 24,
   "metadata": {
    "collapsed": false
   },
   "outputs": [
    {
     "data": {
      "text/plain": [
       "EGA: [ 1 0 4 5 2 3 7 6 ]"
      ]
     },
     "execution_count": 24,
     "metadata": {},
     "output_type": "execute_result"
    }
   ],
   "source": [
    "vsr.EGA(0,1,0,0,0,0,0,0) * vsr.EGA(0,1,2,3,4,5,6,7)"
   ]
  },
  {
   "cell_type": "code",
   "execution_count": 25,
   "metadata": {
    "collapsed": false
   },
   "outputs": [
    {
     "name": "stdout",
     "output_type": "stream",
     "text": [
      "[[ 0.  0.  0.  0. -5. -6. -7.  0.]\n",
      " [ 0.  0. -5. -6.  0.  0.  0.  0.]\n",
      " [ 0.  5.  0. -7.  0.  0.  0.  0.]\n",
      " [ 0.  6.  7.  0.  0.  0.  0.  0.]\n",
      " [ 5.  0.  0.  0.  0.  0.  0.  0.]\n",
      " [ 6.  0.  0.  0.  0.  0.  0.  0.]\n",
      " [ 7.  0.  0.  0.  0.  0.  0.  0.]\n",
      " [ 0.  0.  0.  0.  0.  0.  0.  0.]]\n"
     ]
    }
   ],
   "source": [
    "B = vsr.EGA(0,0,0,0,5,6,7,0)\n",
    "J = np.zeros((8,8))\n",
    "for i in range(8):\n",
    "    ei = vsr.EGA(*np.zeros(8))\n",
    "    ei[i] = 1.\n",
    "    J[:,i] = ei <= B\n",
    "print(J)\n",
    "    "
   ]
  },
  {
   "cell_type": "code",
   "execution_count": 26,
   "metadata": {
    "collapsed": false
   },
   "outputs": [
    {
     "ename": "NameError",
     "evalue": "name 'Ikij' is not defined",
     "output_type": "error",
     "traceback": [
      "\u001b[1;31m---------------------------------------------------------------------------\u001b[0m",
      "\u001b[1;31mNameError\u001b[0m                                 Traceback (most recent call last)",
      "\u001b[1;32m<ipython-input-26-a82f9e828e3f>\u001b[0m in \u001b[0;36m<module>\u001b[1;34m()\u001b[0m\n\u001b[1;32m----> 1\u001b[1;33m \u001b[1;32mprint\u001b[0m\u001b[1;33m(\u001b[0m\u001b[0mnp\u001b[0m\u001b[1;33m.\u001b[0m\u001b[0meinsum\u001b[0m\u001b[1;33m(\u001b[0m\u001b[1;34m'i,j,kij->k'\u001b[0m\u001b[1;33m,\u001b[0m \u001b[0mai\u001b[0m\u001b[1;33m,\u001b[0m \u001b[0mbj\u001b[0m\u001b[1;33m,\u001b[0m \u001b[0mIkij\u001b[0m\u001b[1;33m)\u001b[0m\u001b[1;33m)\u001b[0m\u001b[1;33m\u001b[0m\u001b[0m\n\u001b[0m",
      "\u001b[1;31mNameError\u001b[0m: name 'Ikij' is not defined"
     ]
    }
   ],
   "source": [
    "print(np.einsum('i,j,kij->k', ai, bj, Ikij))"
   ]
  },
  {
   "cell_type": "code",
   "execution_count": 27,
   "metadata": {
    "collapsed": false
   },
   "outputs": [
    {
     "ename": "NameError",
     "evalue": "name 'Okij' is not defined",
     "output_type": "error",
     "traceback": [
      "\u001b[1;31m---------------------------------------------------------------------------\u001b[0m",
      "\u001b[1;31mNameError\u001b[0m                                 Traceback (most recent call last)",
      "\u001b[1;32m<ipython-input-27-a1de5c6acb96>\u001b[0m in \u001b[0;36m<module>\u001b[1;34m()\u001b[0m\n\u001b[1;32m----> 1\u001b[1;33m \u001b[1;32mprint\u001b[0m\u001b[1;33m(\u001b[0m\u001b[0mnp\u001b[0m\u001b[1;33m.\u001b[0m\u001b[0meinsum\u001b[0m\u001b[1;33m(\u001b[0m\u001b[1;34m'i,j,kij->k'\u001b[0m\u001b[1;33m,\u001b[0m \u001b[0mai\u001b[0m\u001b[1;33m,\u001b[0m \u001b[0mbj\u001b[0m\u001b[1;33m,\u001b[0m \u001b[0mOkij\u001b[0m\u001b[1;33m)\u001b[0m\u001b[1;33m)\u001b[0m\u001b[1;33m\u001b[0m\u001b[0m\n\u001b[0m",
      "\u001b[1;31mNameError\u001b[0m: name 'Okij' is not defined"
     ]
    }
   ],
   "source": [
    "print(np.einsum('i,j,kij->k', ai, bj, Okij))"
   ]
  },
  {
   "cell_type": "code",
   "execution_count": 28,
   "metadata": {
    "collapsed": false
   },
   "outputs": [
    {
     "data": {
      "text/plain": [
       "EGA: [ 1 2 3 4 -5 -6 -7 -8 ]"
      ]
     },
     "execution_count": 28,
     "metadata": {},
     "output_type": "execute_result"
    }
   ],
   "source": [
    "vsr.EGA(1,2,3,4,5,6,7,8).rev()"
   ]
  },
  {
   "cell_type": "code",
   "execution_count": 29,
   "metadata": {
    "collapsed": false
   },
   "outputs": [],
   "source": [
    "Rji = np.array([1,0,0,0,0,0,0,0,\n",
    "           0,1,0,0,0,0,0,0,\n",
    "          0,0,1,0,0,0,0,0,\n",
    "          0,0,0,1,0,0,0,0,\n",
    "          0,0,0,0,-1,0,0,0,\n",
    "          0,0,0,0,0,-1,0,0,\n",
    "          0,0,0,0,0,0,-1,0,\n",
    "          0,0,0,0,0,0,0,-1\n",
    "         ]).reshape(8,8)"
   ]
  },
  {
   "cell_type": "code",
   "execution_count": 30,
   "metadata": {
    "collapsed": false
   },
   "outputs": [
    {
     "name": "stdout",
     "output_type": "stream",
     "text": [
      "[ 0.87  0.    0.    0.    0.    0.   -0.5   0.  ] [ 0.87  0.    0.    0.    0.    0.    0.5   0.  ]\n"
     ]
    }
   ],
   "source": [
    "rot = np.array([cos(pi/6),0,0,0,0,0,-sin(pi/6),0])\n",
    "rotrev = np.einsum('i,ji->j', rot, Rji)\n",
    "print(rot, rotrev)"
   ]
  },
  {
   "cell_type": "code",
   "execution_count": 31,
   "metadata": {
    "collapsed": false
   },
   "outputs": [
    {
     "name": "stdout",
     "output_type": "stream",
     "text": [
      "[ 0.   -1.23  1.87  3.    0.    0.    0.    0.  ]\n"
     ]
    }
   ],
   "source": [
    "print(np.einsum('i,j,m,kij,ml,pkl->p', rot, ai, rot,Gkij,Rji, Gkij))"
   ]
  },
  {
   "cell_type": "code",
   "execution_count": 32,
   "metadata": {
    "collapsed": false
   },
   "outputs": [
    {
     "name": "stdout",
     "output_type": "stream",
     "text": [
      "[ 0.   -1.23  1.87  3.    0.    0.    0.    0.  ]\n"
     ]
    }
   ],
   "source": [
    "print(np.einsum('i,j,m,lm,kij,pkl->p', rot, ai, rot,Rji,Gkij,Gkij))"
   ]
  },
  {
   "cell_type": "code",
   "execution_count": 33,
   "metadata": {
    "collapsed": false
   },
   "outputs": [
    {
     "ename": "ValueError",
     "evalue": "fewer operands provided to einstein sum function than specified in the subscripts string",
     "output_type": "error",
     "traceback": [
      "\u001b[1;31m---------------------------------------------------------------------------\u001b[0m",
      "\u001b[1;31mValueError\u001b[0m                                Traceback (most recent call last)",
      "\u001b[1;32m<ipython-input-33-7962a689f004>\u001b[0m in \u001b[0;36m<module>\u001b[1;34m()\u001b[0m\n\u001b[1;32m----> 1\u001b[1;33m \u001b[1;32mprint\u001b[0m\u001b[1;33m(\u001b[0m\u001b[0mnp\u001b[0m\u001b[1;33m.\u001b[0m\u001b[0meinsum\u001b[0m\u001b[1;33m(\u001b[0m\u001b[1;34m'j,m,ml,pkl->p'\u001b[0m\u001b[1;33m,\u001b[0m \u001b[0mai\u001b[0m\u001b[1;33m,\u001b[0m \u001b[0mrot\u001b[0m\u001b[1;33m,\u001b[0m\u001b[0mRji\u001b[0m\u001b[1;33m,\u001b[0m\u001b[0mGkij\u001b[0m\u001b[1;33m,\u001b[0m\u001b[0mGkij\u001b[0m\u001b[1;33m)\u001b[0m\u001b[1;33m)\u001b[0m\u001b[1;33m\u001b[0m\u001b[0m\n\u001b[0m",
      "\u001b[1;31mValueError\u001b[0m: fewer operands provided to einstein sum function than specified in the subscripts string"
     ]
    }
   ],
   "source": [
    "print(np.einsum('j,m,ml,pkl->p', ai, rot,Rji,Gkij,Gkij))"
   ]
  },
  {
   "cell_type": "code",
   "execution_count": 34,
   "metadata": {
    "collapsed": false
   },
   "outputs": [
    {
     "name": "stdout",
     "output_type": "stream",
     "text": [
      "[[ 0.   -0.27  4.46  5.2   0.    0.    0.    0.  ]\n",
      " [-0.27  0.    0.    0.    0.    0.    0.    0.  ]\n",
      " [ 4.46  0.    0.    0.    0.    0.    0.    0.  ]\n",
      " [ 5.2   0.    0.    0.    0.    0.    0.    0.  ]\n",
      " [ 0.    0.    0.    0.    0.    0.    0.   -0.27]\n",
      " [ 0.    0.    0.    0.    0.    0.    0.    4.46]\n",
      " [ 0.    0.    0.    0.    0.    0.    0.    5.2 ]\n",
      " [ 0.    0.    0.    0.   -0.27  4.46  5.2   0.  ]]\n"
     ]
    }
   ],
   "source": [
    "print(np.einsum('j,m,ml,kij,pkl->pi', ai, rot,Rji,Gkij,Gkij) + \n",
    "      np.einsum('i,j,kij,pkl->pl', rot, ai, Gkij,Gkij))"
   ]
  },
  {
   "cell_type": "code",
   "execution_count": 35,
   "metadata": {
    "collapsed": false
   },
   "outputs": [
    {
     "name": "stdout",
     "output_type": "stream",
     "text": [
      "[[ 0.   -0.27  4.46  5.2   0.    0.    0.   -3.  ]\n",
      " [-0.27  0.    0.    0.   -3.   -5.2   4.46  0.  ]\n",
      " [ 4.46  0.    0.    0.    5.2  -3.    0.27  0.  ]\n",
      " [ 5.2   0.    0.    0.   -4.46 -0.27 -3.    0.  ]\n",
      " [ 0.    0.    0.    0.    0.    0.    0.    0.  ]\n",
      " [ 0.    0.    0.    0.    0.    0.    0.    0.  ]\n",
      " [ 0.    0.    0.    0.    0.    0.    0.    0.  ]\n",
      " [ 0.    0.    0.    0.    0.    0.    0.    0.  ]]\n"
     ]
    }
   ],
   "source": [
    "print(np.einsum('i,j,lm,kij,pkl->pm', rot, ai,Rji,Gkij,Gkij) +\n",
    "      np.einsum('j,m,lm,kij,pkl->pi', ai, rot,Rji,Gkij,Gkij))"
   ]
  },
  {
   "cell_type": "code",
   "execution_count": 36,
   "metadata": {
    "collapsed": false
   },
   "outputs": [
    {
     "name": "stdout",
     "output_type": "stream",
     "text": [
      "[[ 0.   -0.13  2.23  2.6   0.    0.    0.    1.5 ]\n",
      " [-0.13  0.    0.    0.    1.5  -2.6   2.23  0.  ]\n",
      " [ 2.23  0.    0.    0.    2.6   1.5   0.13  0.  ]\n",
      " [ 2.6   0.    0.    0.   -2.23 -0.13  1.5   0.  ]\n",
      " [ 0.   -1.5   2.6  -2.23  0.    0.    0.   -0.13]\n",
      " [ 0.   -2.6  -1.5  -0.13  0.    0.    0.    2.23]\n",
      " [ 0.    2.23  0.13 -1.5   0.    0.    0.    2.6 ]\n",
      " [-1.5   0.    0.    0.   -0.13  2.23  2.6   0.  ]]\n"
     ]
    }
   ],
   "source": [
    "print(np.einsum('j,m,lm,kij,pkl->ip', ai, rot,Rji,Gkij,Gkij))"
   ]
  },
  {
   "cell_type": "code",
   "execution_count": 37,
   "metadata": {
    "collapsed": false
   },
   "outputs": [
    {
     "ename": "ValueError",
     "evalue": "must specify the einstein sum subscripts string and at least one operand",
     "output_type": "error",
     "traceback": [
      "\u001b[1;31m---------------------------------------------------------------------------\u001b[0m",
      "\u001b[1;31mValueError\u001b[0m                                Traceback (most recent call last)",
      "\u001b[1;32m<ipython-input-37-c8da2cec9519>\u001b[0m in \u001b[0;36m<module>\u001b[1;34m()\u001b[0m\n\u001b[1;32m----> 1\u001b[1;33m \u001b[0mnp\u001b[0m\u001b[1;33m.\u001b[0m\u001b[0meinsum\u001b[0m\u001b[1;33m(\u001b[0m\u001b[1;34m'r,j,kij->'\u001b[0m\u001b[1;33m)\u001b[0m\u001b[1;33m\u001b[0m\u001b[0m\n\u001b[0m",
      "\u001b[1;31mValueError\u001b[0m: must specify the einstein sum subscripts string and at least one operand"
     ]
    }
   ],
   "source": [
    "np.einsum('r,j,kij->')"
   ]
  },
  {
   "cell_type": "code",
   "execution_count": 38,
   "metadata": {
    "collapsed": false
   },
   "outputs": [
    {
     "ename": "NameError",
     "evalue": "name 'ae' is not defined",
     "output_type": "error",
     "traceback": [
      "\u001b[1;31m---------------------------------------------------------------------------\u001b[0m",
      "\u001b[1;31mNameError\u001b[0m                                 Traceback (most recent call last)",
      "\u001b[1;32m<ipython-input-38-9da12bda76de>\u001b[0m in \u001b[0;36m<module>\u001b[1;34m()\u001b[0m\n\u001b[0;32m      1\u001b[0m \u001b[0mJac\u001b[0m \u001b[1;33m=\u001b[0m \u001b[0mnp\u001b[0m\u001b[1;33m.\u001b[0m\u001b[0mzeros\u001b[0m\u001b[1;33m(\u001b[0m\u001b[1;33m(\u001b[0m\u001b[1;36m3\u001b[0m\u001b[1;33m,\u001b[0m\u001b[1;36m4\u001b[0m\u001b[1;33m)\u001b[0m\u001b[1;33m)\u001b[0m\u001b[1;33m\u001b[0m\u001b[0m\n\u001b[1;32m----> 2\u001b[1;33m \u001b[0mJac\u001b[0m\u001b[1;33m[\u001b[0m\u001b[1;33m:\u001b[0m\u001b[1;33m,\u001b[0m\u001b[1;36m0\u001b[0m\u001b[1;33m]\u001b[0m \u001b[1;33m=\u001b[0m \u001b[0mnp\u001b[0m\u001b[1;33m.\u001b[0m\u001b[0marray\u001b[0m\u001b[1;33m(\u001b[0m\u001b[0mvsr\u001b[0m\u001b[1;33m.\u001b[0m\u001b[0mEGA\u001b[0m\u001b[1;33m(\u001b[0m\u001b[1;36m1\u001b[0m\u001b[1;33m,\u001b[0m\u001b[1;36m0\u001b[0m\u001b[1;33m,\u001b[0m\u001b[1;36m0\u001b[0m\u001b[1;33m,\u001b[0m\u001b[1;36m0\u001b[0m\u001b[1;33m,\u001b[0m\u001b[1;36m0\u001b[0m\u001b[1;33m,\u001b[0m\u001b[1;36m0\u001b[0m\u001b[1;33m,\u001b[0m\u001b[1;36m0\u001b[0m\u001b[1;33m,\u001b[0m\u001b[1;36m0\u001b[0m\u001b[1;33m)\u001b[0m \u001b[1;33m*\u001b[0m \u001b[0mae\u001b[0m \u001b[1;33m*\u001b[0m \u001b[0mRe\u001b[0m\u001b[1;33m.\u001b[0m\u001b[0mrev\u001b[0m\u001b[1;33m(\u001b[0m\u001b[1;33m)\u001b[0m \u001b[1;33m+\u001b[0m \u001b[0mRe\u001b[0m \u001b[1;33m*\u001b[0m \u001b[0mae\u001b[0m \u001b[1;33m*\u001b[0m \u001b[0mvsr\u001b[0m\u001b[1;33m.\u001b[0m\u001b[0mEGA\u001b[0m\u001b[1;33m(\u001b[0m\u001b[1;36m1\u001b[0m\u001b[1;33m,\u001b[0m\u001b[1;36m0\u001b[0m\u001b[1;33m,\u001b[0m\u001b[1;36m0\u001b[0m\u001b[1;33m,\u001b[0m\u001b[1;36m0\u001b[0m\u001b[1;33m,\u001b[0m\u001b[1;36m0\u001b[0m\u001b[1;33m,\u001b[0m\u001b[1;36m0\u001b[0m\u001b[1;33m,\u001b[0m\u001b[1;36m0\u001b[0m\u001b[1;33m,\u001b[0m\u001b[1;36m0\u001b[0m\u001b[1;33m)\u001b[0m\u001b[1;33m)\u001b[0m\u001b[1;33m[\u001b[0m\u001b[1;36m1\u001b[0m\u001b[1;33m:\u001b[0m\u001b[1;36m4\u001b[0m\u001b[1;33m]\u001b[0m\u001b[1;33m\u001b[0m\u001b[0m\n\u001b[0m\u001b[0;32m      3\u001b[0m \u001b[0mJac\u001b[0m\u001b[1;33m[\u001b[0m\u001b[1;33m:\u001b[0m\u001b[1;33m,\u001b[0m\u001b[1;36m1\u001b[0m\u001b[1;33m]\u001b[0m \u001b[1;33m=\u001b[0m \u001b[0mnp\u001b[0m\u001b[1;33m.\u001b[0m\u001b[0marray\u001b[0m\u001b[1;33m(\u001b[0m\u001b[0mvsr\u001b[0m\u001b[1;33m.\u001b[0m\u001b[0mEGA\u001b[0m\u001b[1;33m(\u001b[0m\u001b[1;36m0\u001b[0m\u001b[1;33m,\u001b[0m\u001b[1;36m0\u001b[0m\u001b[1;33m,\u001b[0m\u001b[1;36m0\u001b[0m\u001b[1;33m,\u001b[0m\u001b[1;36m0\u001b[0m\u001b[1;33m,\u001b[0m\u001b[1;36m1\u001b[0m\u001b[1;33m,\u001b[0m\u001b[1;36m0\u001b[0m\u001b[1;33m,\u001b[0m\u001b[1;36m0\u001b[0m\u001b[1;33m,\u001b[0m\u001b[1;36m0\u001b[0m\u001b[1;33m)\u001b[0m \u001b[1;33m*\u001b[0m \u001b[0mae\u001b[0m \u001b[1;33m*\u001b[0m \u001b[0mRe\u001b[0m\u001b[1;33m.\u001b[0m\u001b[0mrev\u001b[0m\u001b[1;33m(\u001b[0m\u001b[1;33m)\u001b[0m \u001b[1;33m+\u001b[0m \u001b[0mRe\u001b[0m \u001b[1;33m*\u001b[0m \u001b[0mae\u001b[0m \u001b[1;33m*\u001b[0m \u001b[0mvsr\u001b[0m\u001b[1;33m.\u001b[0m\u001b[0mEGA\u001b[0m\u001b[1;33m(\u001b[0m\u001b[1;36m0\u001b[0m\u001b[1;33m,\u001b[0m\u001b[1;36m0\u001b[0m\u001b[1;33m,\u001b[0m\u001b[1;36m0\u001b[0m\u001b[1;33m,\u001b[0m\u001b[1;36m0\u001b[0m\u001b[1;33m,\u001b[0m\u001b[1;33m-\u001b[0m\u001b[1;36m1.\u001b[0m\u001b[1;33m,\u001b[0m\u001b[1;36m0\u001b[0m\u001b[1;33m,\u001b[0m\u001b[1;36m0\u001b[0m\u001b[1;33m,\u001b[0m\u001b[1;36m0\u001b[0m\u001b[1;33m)\u001b[0m\u001b[1;33m)\u001b[0m\u001b[1;33m[\u001b[0m\u001b[1;36m1\u001b[0m\u001b[1;33m:\u001b[0m\u001b[1;36m4\u001b[0m\u001b[1;33m]\u001b[0m\u001b[1;33m\u001b[0m\u001b[0m\n\u001b[0;32m      4\u001b[0m \u001b[0mJac\u001b[0m\u001b[1;33m[\u001b[0m\u001b[1;33m:\u001b[0m\u001b[1;33m,\u001b[0m\u001b[1;36m2\u001b[0m\u001b[1;33m]\u001b[0m \u001b[1;33m=\u001b[0m \u001b[0mnp\u001b[0m\u001b[1;33m.\u001b[0m\u001b[0marray\u001b[0m\u001b[1;33m(\u001b[0m\u001b[0mvsr\u001b[0m\u001b[1;33m.\u001b[0m\u001b[0mEGA\u001b[0m\u001b[1;33m(\u001b[0m\u001b[1;36m0\u001b[0m\u001b[1;33m,\u001b[0m\u001b[1;36m0\u001b[0m\u001b[1;33m,\u001b[0m\u001b[1;36m0\u001b[0m\u001b[1;33m,\u001b[0m\u001b[1;36m0\u001b[0m\u001b[1;33m,\u001b[0m\u001b[1;36m0\u001b[0m\u001b[1;33m,\u001b[0m\u001b[1;36m1\u001b[0m\u001b[1;33m,\u001b[0m\u001b[1;36m0\u001b[0m\u001b[1;33m,\u001b[0m\u001b[1;36m0\u001b[0m\u001b[1;33m)\u001b[0m \u001b[1;33m*\u001b[0m \u001b[0mae\u001b[0m \u001b[1;33m*\u001b[0m \u001b[0mRe\u001b[0m\u001b[1;33m.\u001b[0m\u001b[0mrev\u001b[0m\u001b[1;33m(\u001b[0m\u001b[1;33m)\u001b[0m \u001b[1;33m+\u001b[0m \u001b[0mRe\u001b[0m \u001b[1;33m*\u001b[0m \u001b[0mae\u001b[0m \u001b[1;33m*\u001b[0m \u001b[0mvsr\u001b[0m\u001b[1;33m.\u001b[0m\u001b[0mEGA\u001b[0m\u001b[1;33m(\u001b[0m\u001b[1;36m0\u001b[0m\u001b[1;33m,\u001b[0m\u001b[1;36m0\u001b[0m\u001b[1;33m,\u001b[0m\u001b[1;36m0\u001b[0m\u001b[1;33m,\u001b[0m\u001b[1;36m0\u001b[0m\u001b[1;33m,\u001b[0m\u001b[1;36m0\u001b[0m\u001b[1;33m,\u001b[0m\u001b[1;33m-\u001b[0m\u001b[1;36m1\u001b[0m\u001b[1;33m,\u001b[0m\u001b[1;36m0\u001b[0m\u001b[1;33m,\u001b[0m\u001b[1;36m0\u001b[0m\u001b[1;33m)\u001b[0m\u001b[1;33m)\u001b[0m\u001b[1;33m[\u001b[0m\u001b[1;36m1\u001b[0m\u001b[1;33m:\u001b[0m\u001b[1;36m4\u001b[0m\u001b[1;33m]\u001b[0m\u001b[1;33m\u001b[0m\u001b[0m\n\u001b[0;32m      5\u001b[0m \u001b[0mJac\u001b[0m\u001b[1;33m[\u001b[0m\u001b[1;33m:\u001b[0m\u001b[1;33m,\u001b[0m\u001b[1;36m3\u001b[0m\u001b[1;33m]\u001b[0m \u001b[1;33m=\u001b[0m \u001b[0mnp\u001b[0m\u001b[1;33m.\u001b[0m\u001b[0marray\u001b[0m\u001b[1;33m(\u001b[0m\u001b[0mvsr\u001b[0m\u001b[1;33m.\u001b[0m\u001b[0mEGA\u001b[0m\u001b[1;33m(\u001b[0m\u001b[1;36m0\u001b[0m\u001b[1;33m,\u001b[0m\u001b[1;36m0\u001b[0m\u001b[1;33m,\u001b[0m\u001b[1;36m0\u001b[0m\u001b[1;33m,\u001b[0m\u001b[1;36m0\u001b[0m\u001b[1;33m,\u001b[0m\u001b[1;36m0\u001b[0m\u001b[1;33m,\u001b[0m\u001b[1;36m0\u001b[0m\u001b[1;33m,\u001b[0m\u001b[1;36m1.\u001b[0m\u001b[1;33m,\u001b[0m\u001b[1;36m0\u001b[0m\u001b[1;33m)\u001b[0m \u001b[1;33m*\u001b[0m \u001b[0mae\u001b[0m \u001b[1;33m*\u001b[0m \u001b[0mRe\u001b[0m\u001b[1;33m.\u001b[0m\u001b[0mrev\u001b[0m\u001b[1;33m(\u001b[0m\u001b[1;33m)\u001b[0m \u001b[1;33m+\u001b[0m \u001b[0mRe\u001b[0m \u001b[1;33m*\u001b[0m \u001b[0mae\u001b[0m \u001b[1;33m*\u001b[0m \u001b[0mvsr\u001b[0m\u001b[1;33m.\u001b[0m\u001b[0mEGA\u001b[0m\u001b[1;33m(\u001b[0m\u001b[1;36m0\u001b[0m\u001b[1;33m,\u001b[0m\u001b[1;36m0\u001b[0m\u001b[1;33m,\u001b[0m\u001b[1;36m0\u001b[0m\u001b[1;33m,\u001b[0m\u001b[1;36m0\u001b[0m\u001b[1;33m,\u001b[0m\u001b[1;36m0\u001b[0m\u001b[1;33m,\u001b[0m\u001b[1;36m0\u001b[0m\u001b[1;33m,\u001b[0m\u001b[1;33m-\u001b[0m\u001b[1;36m1\u001b[0m\u001b[1;33m,\u001b[0m\u001b[1;36m0\u001b[0m\u001b[1;33m)\u001b[0m\u001b[1;33m)\u001b[0m\u001b[1;33m[\u001b[0m\u001b[1;36m1\u001b[0m\u001b[1;33m:\u001b[0m\u001b[1;36m4\u001b[0m\u001b[1;33m]\u001b[0m\u001b[1;33m\u001b[0m\u001b[0m\n",
      "\u001b[1;31mNameError\u001b[0m: name 'ae' is not defined"
     ]
    }
   ],
   "source": [
    "Jac = np.zeros((3,4))\n",
    "Jac[:,0] = np.array(vsr.EGA(1,0,0,0,0,0,0,0) * ae * Re.rev() + Re * ae * vsr.EGA(1,0,0,0,0,0,0,0))[1:4]\n",
    "Jac[:,1] = np.array(vsr.EGA(0,0,0,0,1,0,0,0) * ae * Re.rev() + Re * ae * vsr.EGA(0,0,0,0,-1.,0,0,0))[1:4]\n",
    "Jac[:,2] = np.array(vsr.EGA(0,0,0,0,0,1,0,0) * ae * Re.rev() + Re * ae * vsr.EGA(0,0,0,0,0,-1,0,0))[1:4]\n",
    "Jac[:,3] = np.array(vsr.EGA(0,0,0,0,0,0,1.,0) * ae * Re.rev() + Re * ae * vsr.EGA(0,0,0,0,0,0,-1,0))[1:4]\n",
    "print(Jac)"
   ]
  },
  {
   "cell_type": "code",
   "execution_count": 39,
   "metadata": {
    "collapsed": false
   },
   "outputs": [
    {
     "name": "stdout",
     "output_type": "stream",
     "text": [
      "[[ 0.    0.    0.    0.    0.    0.    0.    0.  ]\n",
      " [ 1.73  1.    0.    0.    0.    0.    0.    0.  ]\n",
      " [ 1.   -1.73  0.    0.    0.    0.    0.    0.  ]\n",
      " [ 0.    0.   -1.73 -1.    0.    0.    0.    0.  ]\n",
      " [ 0.    0.    0.    0.    0.    0.    0.    0.  ]\n",
      " [ 0.    0.    0.    0.    0.    0.    0.    0.  ]\n",
      " [ 0.    0.    0.    0.    0.    0.    0.    0.  ]\n",
      " [ 0.    0.    0.    0.    0.    0.    0.    0.  ]]\n"
     ]
    }
   ],
   "source": [
    "ae = vsr.EGA(0,1,0,0,0,0,0,0)\n",
    "Re = vsr.EGA(cos(pi/6),0,0,0,-sin(pi/6),0,0,0)\n",
    "Jac = np.zeros((8,8))\n",
    "Jac[:,0] = np.array(vsr.EGA(1,0,0,0,0,0,0,0) * ae * Re.rev() + Re * ae * vsr.EGA(1,0,0,0,0,0,0,0))\n",
    "Jac[:,1] = np.array(vsr.EGA(0,0,0,0,1,0,0,0) * ae * Re.rev() + Re * ae * vsr.EGA(0,0,0,0,-1.,0,0,0))\n",
    "Jac[:,2] = np.array(vsr.EGA(0,0,0,0,0,1,0,0) * ae * Re.rev() + Re * ae * vsr.EGA(0,0,0,0,0,-1,0,0))\n",
    "Jac[:,3] = np.array(vsr.EGA(0,0,0,0,0,0,1.,0) * ae * Re.rev() + Re * ae * vsr.EGA(0,0,0,0,0,0,-1,0))\n",
    "print(Jac)"
   ]
  },
  {
   "cell_type": "code",
   "execution_count": 40,
   "metadata": {
    "collapsed": false
   },
   "outputs": [
    {
     "data": {
      "text/plain": [
       "Vec: [ 0.5 0.87 0 ]"
      ]
     },
     "execution_count": 40,
     "metadata": {},
     "output_type": "execute_result"
    }
   ],
   "source": [
    "vsr.Vec(1,0,0).spin(vsr.Rot(cos(pi/6), -sin(pi/6),0,0))"
   ]
  },
  {
   "cell_type": "code",
   "execution_count": 41,
   "metadata": {
    "collapsed": true
   },
   "outputs": [],
   "source": [
    "def create_ip_tensor():\n",
    "    gp_table = np.array([0, 0, 0, 0, 0, 0, 0, 0, \n",
    "                         0, 1, 0, 0, 0, -4, 3, 5, \n",
    "                         0, 0, 1, 0, 4, 0, -2, 6, \n",
    "                         0, 0, 0, 1, -3, 2, 0, 7, \n",
    "                         0, 0, -4, 3, -1, 0, 0, -2, \n",
    "                         0, 4, 0, -2, 0, -1, 0, -3, \n",
    "                         0, -3, 2, 0, 0, 0, -1, -4, \n",
    "                         0, 5, 6, 7, -2, -3, -4, -1]).T.reshape(8,8)\n",
    "    tensor = np.zeros((8,8,8))\n",
    "    for k in range(8):\n",
    "        for i in range(8):\n",
    "            for j in range(8):\n",
    "                val = gp_table[i,j]\n",
    "                if abs(val) == k + 1:\n",
    "                    tensor[k,i,j] = np.sign(val)\n",
    "    return tensor\n",
    "\n",
    "def create_op_tensor():\n",
    "    gp_table = np.array([1, 2, 3, 4, 5, 6, 7, 8,\n",
    "                         2, 0, 7, -6, 8, 0, 0, 0,\n",
    "                         3, -7, 0, 5, 0, 8, 0, 0, \n",
    "                         4, 6, -5, 0, 0, 0, 8, 0, \n",
    "                         5, 8, 0, 0, 0, 0, 0, 0,\n",
    "                         6, 0, 8, 0, 0, 0, 0, 0, \n",
    "                         7, 0, 0, 8, 0, 0, 0, 0, \n",
    "                         8, 0, 0, 0, 0, 0, 0, 0]).T.reshape(8,8)\n",
    "    tensor = np.zeros((8,8,8))\n",
    "    for k in range(8):\n",
    "        for i in range(8):\n",
    "            for j in range(8):\n",
    "                val = gp_table[i,j]\n",
    "                if abs(val) == k + 1:\n",
    "                    tensor[k,i,j] = np.sign(val)\n",
    "    return tensor\n"
   ]
  },
  {
   "cell_type": "code",
   "execution_count": 42,
   "metadata": {
    "collapsed": false
   },
   "outputs": [],
   "source": [
    "Ikij = create_ip_tensor()\n",
    "Okij = create_op_tensor()"
   ]
  },
  {
   "cell_type": "code",
   "execution_count": 47,
   "metadata": {
    "collapsed": false
   },
   "outputs": [
    {
     "ename": "NameError",
     "evalue": "name 'B' is not defined",
     "output_type": "error",
     "traceback": [
      "\u001b[1;31m---------------------------------------------------------------------------\u001b[0m",
      "\u001b[1;31mNameError\u001b[0m                                 Traceback (most recent call last)",
      "\u001b[1;32m<ipython-input-47-47dcf4be19ae>\u001b[0m in \u001b[0;36m<module>\u001b[1;34m()\u001b[0m\n\u001b[1;32m----> 1\u001b[1;33m \u001b[0mBjIkij\u001b[0m \u001b[1;33m=\u001b[0m \u001b[0mnp\u001b[0m\u001b[1;33m.\u001b[0m\u001b[0meinsum\u001b[0m\u001b[1;33m(\u001b[0m\u001b[1;34m'j,kij->ki'\u001b[0m\u001b[1;33m,\u001b[0m\u001b[0mB\u001b[0m\u001b[1;33m,\u001b[0m \u001b[0mIkij\u001b[0m\u001b[1;33m)\u001b[0m\u001b[1;33m\u001b[0m\u001b[0m\n\u001b[0m\u001b[0;32m      2\u001b[0m \u001b[1;32mprint\u001b[0m\u001b[1;33m(\u001b[0m\u001b[0mBjIkij\u001b[0m\u001b[1;33m)\u001b[0m\u001b[1;33m\u001b[0m\u001b[0m\n",
      "\u001b[1;31mNameError\u001b[0m: name 'B' is not defined"
     ]
    }
   ],
   "source": [
    "BjIkij = np.einsum('j,kij->ki',B, Ikij)\n",
    "print(BjIkij)"
   ]
  },
  {
   "cell_type": "code",
   "execution_count": 48,
   "metadata": {
    "collapsed": false
   },
   "outputs": [
    {
     "ename": "NameError",
     "evalue": "name 'BjIkij' is not defined",
     "output_type": "error",
     "traceback": [
      "\u001b[1;31m---------------------------------------------------------------------------\u001b[0m",
      "\u001b[1;31mNameError\u001b[0m                                 Traceback (most recent call last)",
      "\u001b[1;32m<ipython-input-48-48131e4d2b52>\u001b[0m in \u001b[0;36m<module>\u001b[1;34m()\u001b[0m\n\u001b[1;32m----> 1\u001b[1;33m \u001b[0mnp\u001b[0m\u001b[1;33m.\u001b[0m\u001b[0mtensordot\u001b[0m\u001b[1;33m(\u001b[0m\u001b[0ma\u001b[0m\u001b[1;33m,\u001b[0m \u001b[0mBjIkij\u001b[0m\u001b[1;33m,\u001b[0m\u001b[1;36m1\u001b[0m\u001b[1;33m)\u001b[0m\u001b[1;33m\u001b[0m\u001b[0m\n\u001b[0m",
      "\u001b[1;31mNameError\u001b[0m: name 'BjIkij' is not defined"
     ]
    }
   ],
   "source": [
    "np.tensordot(a, BjIkij,1)"
   ]
  },
  {
   "cell_type": "code",
   "execution_count": 49,
   "metadata": {
    "collapsed": false
   },
   "outputs": [
    {
     "ename": "NameError",
     "evalue": "name 'B' is not defined",
     "output_type": "error",
     "traceback": [
      "\u001b[1;31m---------------------------------------------------------------------------\u001b[0m",
      "\u001b[1;31mNameError\u001b[0m                                 Traceback (most recent call last)",
      "\u001b[1;32m<ipython-input-49-3ed4108b2ace>\u001b[0m in \u001b[0;36m<module>\u001b[1;34m()\u001b[0m\n\u001b[1;32m----> 1\u001b[1;33m \u001b[0mnp\u001b[0m\u001b[1;33m.\u001b[0m\u001b[0meinsum\u001b[0m\u001b[1;33m(\u001b[0m\u001b[1;34m'j,ijk->ki'\u001b[0m\u001b[1;33m,\u001b[0m\u001b[0mB\u001b[0m\u001b[1;33m,\u001b[0m \u001b[0mGkij\u001b[0m\u001b[1;33m)\u001b[0m\u001b[1;33m\u001b[0m\u001b[0m\n\u001b[0m",
      "\u001b[1;31mNameError\u001b[0m: name 'B' is not defined"
     ]
    }
   ],
   "source": [
    "np.einsum('j,ijk->ki',B, Gkij)"
   ]
  },
  {
   "cell_type": "code",
   "execution_count": 50,
   "metadata": {
    "collapsed": false
   },
   "outputs": [
    {
     "data": {
      "text/plain": [
       "array([[[ 1.,  0.,  0.,  0.],\n",
       "        [ 0.,  1.,  0.,  0.],\n",
       "        [ 0.,  0.,  1.,  0.],\n",
       "        [ 0.,  0.,  0., -1.]],\n",
       "\n",
       "       [[ 0.,  1.,  0.,  0.],\n",
       "        [ 1.,  0.,  0.,  0.],\n",
       "        [ 0.,  0.,  0., -1.],\n",
       "        [ 0.,  0.,  1.,  0.]],\n",
       "\n",
       "       [[ 0.,  0.,  1.,  0.],\n",
       "        [ 0.,  0.,  0.,  1.],\n",
       "        [ 1.,  0.,  0.,  0.],\n",
       "        [ 0., -1.,  0.,  0.]],\n",
       "\n",
       "       [[ 0.,  0.,  0.,  1.],\n",
       "        [ 0.,  0.,  1.,  0.],\n",
       "        [ 0., -1.,  0.,  0.],\n",
       "        [ 1.,  0.,  0.,  0.]]])"
      ]
     },
     "execution_count": 50,
     "metadata": {},
     "output_type": "execute_result"
    }
   ],
   "source": [
    "Gkij = np.zeros((4,4,4))\n",
    "Gkij[0] = np.array([1,0,0,0,0,1,0,0,0,0,1,0,0,0,0,-1]).reshape(4,4)\n",
    "Gkij[1] = np.array([0,1,0,0,1,0,0,0,0,0,0,-1,0,0,1,0]).reshape(4,4)\n",
    "Gkij[2] = np.array([0,0,1,0,0,0,0,1,1,0,0,0,0,-1,0,0]).reshape(4,4)\n",
    "Gkij[3] = np.array([0,0,0,1,0,0,1,0,0,-1,0,0,1,0,0,0]).reshape(4,4)\n",
    "Gkij"
   ]
  },
  {
   "cell_type": "code",
   "execution_count": 51,
   "metadata": {
    "collapsed": false
   },
   "outputs": [
    {
     "data": {
      "text/plain": [
       "array([ 0.,  0.,  0.,  1.])"
      ]
     },
     "execution_count": 51,
     "metadata": {},
     "output_type": "execute_result"
    }
   ],
   "source": [
    "ai = np.array([0,1,0,0])\n",
    "bj = np.array([0,0,1,0])\n",
    "np.einsum('i,j,kij->k',ai,bj,Gkij)"
   ]
  },
  {
   "cell_type": "code",
   "execution_count": 52,
   "metadata": {
    "collapsed": true
   },
   "outputs": [],
   "source": [
    "# Reduced tensor"
   ]
  },
  {
   "cell_type": "code",
   "execution_count": 53,
   "metadata": {
    "collapsed": false
   },
   "outputs": [],
   "source": [
    "Maji = Mbji = np.array([[0,1,0,0],[0,0,1,0]])\n",
    "Mcji = np.array([[1,0,0,0],[0,0,0,1]])"
   ]
  },
  {
   "cell_type": "code",
   "execution_count": 54,
   "metadata": {
    "collapsed": false
   },
   "outputs": [],
   "source": [
    "Gwuv = np.einsum('wk,iu,jv,kij->wuv',Mcji,Maji.T, Mbji.T,Gkij)"
   ]
  },
  {
   "cell_type": "code",
   "execution_count": 55,
   "metadata": {
    "collapsed": false
   },
   "outputs": [],
   "source": [
    "aM = np.array([0,1]) # 0 e1 + 1 e2\n",
    "bM = np.array([1,0]) # 1 e1 + 0 e2"
   ]
  },
  {
   "cell_type": "code",
   "execution_count": 56,
   "metadata": {
    "collapsed": false
   },
   "outputs": [],
   "source": [
    "cM = np.einsum('u,v,wuv->w',aM, bM, Gwuv)"
   ]
  },
  {
   "cell_type": "code",
   "execution_count": null,
   "metadata": {
    "collapsed": false
   },
   "outputs": [],
   "source": [
    "np.einsum('w,wk',cM, Mcji)"
   ]
  },
  {
   "cell_type": "code",
   "execution_count": 58,
   "metadata": {
    "collapsed": false
   },
   "outputs": [
    {
     "ename": "NameError",
     "evalue": "name 'B' is not defined",
     "output_type": "error",
     "traceback": [
      "\u001b[1;31m---------------------------------------------------------------------------\u001b[0m",
      "\u001b[1;31mNameError\u001b[0m                                 Traceback (most recent call last)",
      "\u001b[1;32m<ipython-input-58-5ce9bb01fa13>\u001b[0m in \u001b[0;36m<module>\u001b[1;34m()\u001b[0m\n\u001b[1;32m----> 1\u001b[1;33m \u001b[0mnp\u001b[0m\u001b[1;33m.\u001b[0m\u001b[0mtensordot\u001b[0m\u001b[1;33m(\u001b[0m\u001b[0mnp\u001b[0m\u001b[1;33m.\u001b[0m\u001b[0mtensordot\u001b[0m\u001b[1;33m(\u001b[0m\u001b[0ma\u001b[0m\u001b[1;33m,\u001b[0m\u001b[0mB\u001b[0m\u001b[1;33m,\u001b[0m\u001b[1;36m0\u001b[0m\u001b[1;33m)\u001b[0m\u001b[1;33m,\u001b[0m \u001b[0mIkij\u001b[0m\u001b[1;33m,\u001b[0m\u001b[1;36m2\u001b[0m\u001b[1;33m)\u001b[0m\u001b[1;33m\u001b[0m\u001b[0m\n\u001b[0m",
      "\u001b[1;31mNameError\u001b[0m: name 'B' is not defined"
     ]
    }
   ],
   "source": [
    "np.tensordot(np.tensordot(a,B,0), Ikij,2)"
   ]
  },
  {
   "cell_type": "code",
   "execution_count": 59,
   "metadata": {
    "collapsed": false
   },
   "outputs": [
    {
     "ename": "NameError",
     "evalue": "name 'B' is not defined",
     "output_type": "error",
     "traceback": [
      "\u001b[1;31m---------------------------------------------------------------------------\u001b[0m",
      "\u001b[1;31mNameError\u001b[0m                                 Traceback (most recent call last)",
      "\u001b[1;32m<ipython-input-59-11be6b9f3633>\u001b[0m in \u001b[0;36m<module>\u001b[1;34m()\u001b[0m\n\u001b[1;32m----> 1\u001b[1;33m \u001b[0mnp\u001b[0m\u001b[1;33m.\u001b[0m\u001b[0mtensordot\u001b[0m\u001b[1;33m(\u001b[0m\u001b[0ma\u001b[0m\u001b[1;33m,\u001b[0m \u001b[0mnp\u001b[0m\u001b[1;33m.\u001b[0m\u001b[0mtensordot\u001b[0m\u001b[1;33m(\u001b[0m\u001b[0mB\u001b[0m\u001b[1;33m,\u001b[0m \u001b[0mGkij\u001b[0m\u001b[1;33m,\u001b[0m\u001b[1;36m1\u001b[0m\u001b[1;33m)\u001b[0m\u001b[1;33m,\u001b[0m\u001b[1;36m0\u001b[0m\u001b[1;33m)\u001b[0m\u001b[1;33m\u001b[0m\u001b[0m\n\u001b[0m",
      "\u001b[1;31mNameError\u001b[0m: name 'B' is not defined"
     ]
    }
   ],
   "source": [
    "np.tensordot(a, np.tensordot(B, Gkij,1),0)"
   ]
  },
  {
   "cell_type": "code",
   "execution_count": 60,
   "metadata": {
    "collapsed": false
   },
   "outputs": [
    {
     "ename": "NameError",
     "evalue": "name 'B' is not defined",
     "output_type": "error",
     "traceback": [
      "\u001b[1;31m---------------------------------------------------------------------------\u001b[0m",
      "\u001b[1;31mNameError\u001b[0m                                 Traceback (most recent call last)",
      "\u001b[1;32m<ipython-input-60-3fd2b1c20727>\u001b[0m in \u001b[0;36m<module>\u001b[1;34m()\u001b[0m\n\u001b[1;32m----> 1\u001b[1;33m \u001b[0mnp\u001b[0m\u001b[1;33m.\u001b[0m\u001b[0meinsum\u001b[0m\u001b[1;33m(\u001b[0m\u001b[1;34m'i,j,kij->k'\u001b[0m\u001b[1;33m,\u001b[0m\u001b[0ma\u001b[0m\u001b[1;33m,\u001b[0m \u001b[0mB\u001b[0m\u001b[1;33m,\u001b[0m \u001b[0mGkij\u001b[0m\u001b[1;33m)\u001b[0m\u001b[1;33m\u001b[0m\u001b[0m\n\u001b[0m",
      "\u001b[1;31mNameError\u001b[0m: name 'B' is not defined"
     ]
    }
   ],
   "source": [
    "np.einsum('i,j,kij->k',a, B, Gkij)"
   ]
  },
  {
   "cell_type": "code",
   "execution_count": null,
   "metadata": {
    "collapsed": true
   },
   "outputs": [],
   "source": []
  },
  {
   "cell_type": "code",
   "execution_count": null,
   "metadata": {
    "collapsed": false
   },
   "outputs": [],
   "source": [
    "vsr.EGA(*a) * vsr.EGA(*B)"
   ]
  },
  {
   "cell_type": "code",
   "execution_count": null,
   "metadata": {
    "collapsed": true
   },
   "outputs": [],
   "source": [
    "def rotor_estimation_ls_svd(points_a, points_b):\n",
    "    \n",
    "#     gp_table = np.array([1,  2,  3,  4,  5,  6,  7,  8,\n",
    "#                          2,  1,  7, -6,  8, -4,  3,  5,\n",
    "#                          3, -7,  1,  5,  4,  8, -2,  6,\n",
    "#                          4,  6, -5,  1, -3,  2,  8,  7,\n",
    "#                          5,  8, -4,  3, -1, -7,  6, -2,\n",
    "#                          6,  4,  8, -2,  7, -1, -5, -3,\n",
    "#                          7, -3,  2,  8, -6,  5, -1, -4, \n",
    "#                          8,  5,  6,  7, -2, -3, -4, -1]).reshape(8,8)\n",
    "\n",
    "    M = np.zeros((8,8))\n",
    "    mask = np.array([1,2,3,4,5,6,7,8])\n",
    "    for i in range(8):\n",
    "        W = np.zeros((8,8))\n",
    "        for j in range(8):\n",
    "            a = vsr.EGA(0,0,0,0,0,0,0,0)\n",
    "            b = vsr.EGA(0,0,0,0,0,0,0,0)\n",
    "            a[i] = 1.\n",
    "            b[j] = 1.\n",
    "            M[i,j] = np.dot(mask, np.array(a * b))\n",
    "    gp_table = M.copy()\n",
    "\n",
    "    def gp_tensor():\n",
    "        dim = 8\n",
    "        tensor = np.zeros((8,8,8))\n",
    "        for k in range(dim):\n",
    "            for i in range(dim):\n",
    "                for j in range(dim):\n",
    "                    val = gp_table[i,j]\n",
    "                    if abs(val) == k + 1:\n",
    "                        tensor[k,i,j] = np.sign(val)\n",
    "        return tensor\n",
    "\n",
    "    def gp_left_matrix(multivector):\n",
    "        tensor = gp_tensor()\n",
    "        matrix = np.zeros((8,8))\n",
    "        for i in range(8):\n",
    "            t = tensor[i,:,:]\n",
    "            matrix[i,:] = np.inner(t.T,np.array(multivector).T).reshape(-1)\n",
    "        return matrix\n",
    "\n",
    "    def gp_right_matrix(multivector):\n",
    "        tensor = gp_tensor()\n",
    "        matrix = np.zeros((8,8))\n",
    "        for i in range(8):\n",
    "            t = tensor[i,:,:]\n",
    "            matrix[i,:] = np.inner(np.array(multivector).T,t).reshape(-1)\n",
    "        return matrix\n",
    "\n",
    "#     A = [np.array([0.0, p[0], p[1], p[2], 0.0, 0.0, 0.0, 0.0]).reshape(8,1) for p in points_a]\n",
    "#     B = [np.array([0.0, p[0], p[1], p[2], 0.0, 0.0, 0.0, 0.0]).reshape(8,1) for p in points_b]\n",
    "\n",
    "    gp_a = np.row_stack([\n",
    "        np.delete(np.delete(gp_right_matrix(a),[0,4,5,6],0), [1,2,3,7],1)\n",
    "         for a in points_a])\n",
    "    \n",
    "    b_gp = np.row_stack([\n",
    "            np.delete(np.delete(gp_left_matrix(b),[0,4,5,6],0), [1,2,3,7],1) for b in points_b])\n",
    "    m = gp_a - b_gp\n",
    "\n",
    "    [U,s,Vt] = np.linalg.svd(m)\n",
    "    print(Vt.T)\n",
    "    print(s)\n",
    "\n",
    "    names = ('sc', 'e1', 'e2', 'e3', 'e12', 'e13', 'e23', 'e123')\n",
    "    res = np.recarray(1, formats = 8*['f8'], names=names, buf=Vt.T[:,-2])\n",
    "    rotor = np.array([res['sc'], res['e12'], res['e13'], res['e23']])\n",
    "    return rotor, m"
   ]
  },
  {
   "cell_type": "code",
   "execution_count": null,
   "metadata": {
    "collapsed": false
   },
   "outputs": [],
   "source": [
    "print(points_a)\n",
    "print(points_b)\n",
    "r,m2 = rotor_estimation_ls_svd(points_a, points_b)\n",
    "vsr.Rot(*r)"
   ]
  },
  {
   "cell_type": "raw",
   "metadata": {},
   "source": []
  },
  {
   "cell_type": "code",
   "execution_count": null,
   "metadata": {
    "collapsed": false
   },
   "outputs": [],
   "source": [
    "print(rotor)"
   ]
  },
  {
   "cell_type": "code",
   "execution_count": null,
   "metadata": {
    "collapsed": false
   },
   "outputs": [],
   "source": [
    "gp_table = np.array([1,  2,  3,  4,  5,  6,  7,  8,\n",
    "                     2,  1,  7, -6,  8, -4,  3,  5,\n",
    "                     3, -7,  1,  5,  4,  8, -2,  6,\n",
    "                     4,  6, -5,  1, -3,  2,  8,  7,\n",
    "                     5,  8, -4,  3, -1, -7,  6, -2,\n",
    "                     6,  4,  8, -2,  7, -1, -5, -3,\n",
    "                     7, -3,  2,  8, -6,  5, -1, -4, \n",
    "                     8,  5,  6,  7, -2, -3, -4, -1]).T.reshape(8,8)\n",
    "print(gp_table.T)"
   ]
  },
  {
   "cell_type": "code",
   "execution_count": null,
   "metadata": {
    "collapsed": false
   },
   "outputs": [],
   "source": [
    "M = np.zeros((8,8))\n",
    "mask = np.array([1,2,3,4,5,6,7,8])\n",
    "for i in range(8):\n",
    "    W = np.zeros((8,8))\n",
    "    for j in range(8):\n",
    "        a = vsr.EGA(0,0,0,0,0,0,0,0)\n",
    "        b = vsr.EGA(0,0,0,0,0,0,0,0)\n",
    "        a[i] = 1.\n",
    "        b[j] = 1.\n",
    "        M[i,j] = np.dot(mask, np.array(a * b))\n",
    "gp_table = M.T.copy()\n",
    "print(gp_table.T)"
   ]
  },
  {
   "cell_type": "code",
   "execution_count": null,
   "metadata": {
    "collapsed": false
   },
   "outputs": [],
   "source": [
    "print(Multivector().vector(points_a[0]).gp_right_matrix())\n",
    "print(Multivector().vector(points_b[0]).gp_left_matrix())\n",
    "print(m2[:8])"
   ]
  },
  {
   "cell_type": "code",
   "execution_count": null,
   "metadata": {
    "collapsed": false
   },
   "outputs": [],
   "source": [
    "r = rotor\n",
    "vsr.EGA(0,1,0,0,0,0,0,0).spin(vsr.EGA(r[0],0,0,0,r[1],r[2],r[3],0))"
   ]
  },
  {
   "cell_type": "code",
   "execution_count": null,
   "metadata": {
    "collapsed": false
   },
   "outputs": [],
   "source": [
    "rotor = vsr.Biv(0,-pi/8,0).exp()\n",
    "print(rotor)\n",
    "n_points = 3\n",
    "sigma = 0.09\n",
    "points_a = [vsr.Vec(*np.random.normal(0.0, 0.8, 3))\n",
    "            for i in range(n_points)]\n",
    "points_b = [point.spin(rotor) for point in points_a]\n",
    "points_b_noisy = [vsr.Vec(*(np.array(point)[:3] \n",
    "                            + sigma * np.random.randn(3))) \n",
    "                  for point in points_b]\n",
    "\n",
    "ega_a = [vsr.EGA(p) for p in points_a]\n",
    "ega_b = [vsr.EGA(p) for p in points_b]\n",
    "\n",
    "def matrix(a, b):\n",
    "    m = np.zeros((8,8))\n",
    "    for i in range(8):\n",
    "        ei = vsr.EGA(0,0,0,0,0,0,0,0)\n",
    "        ei[i] = i\n",
    "        m[i,:] = np.array(ei * a - b * ei)\n",
    "    return m\n",
    "\n",
    "\n",
    "m = np.row_stack([\n",
    "        np.delete(np.delete(matrix(a,b),[0,4,5,6],0), [1,2,3,7],1)\n",
    "        for a, b in zip(ega_a, ega_b)]).copy()\n",
    "\n",
    "U,s,Vt = np.linalg.svd(m)\n",
    "print(Vt.T)\n",
    "print(s)"
   ]
  },
  {
   "cell_type": "code",
   "execution_count": null,
   "metadata": {
    "collapsed": false
   },
   "outputs": [],
   "source": []
  },
  {
   "cell_type": "code",
   "execution_count": null,
   "metadata": {
    "collapsed": false
   },
   "outputs": [],
   "source": [
    "r = np.array([1,2,3,4,5,6,7,8]).T"
   ]
  },
  {
   "cell_type": "code",
   "execution_count": null,
   "metadata": {
    "collapsed": true
   },
   "outputs": [],
   "source": [
    "Mrotij = np.array([[1,0,0,0,0,0,0,0],\n",
    "                   [0,0,0,0,1,0,0,0],\n",
    "                   [0,0,0,0,0,1,0,0],\n",
    "                   [0,0,0,0,0,0,1,0]])"
   ]
  },
  {
   "cell_type": "code",
   "execution_count": null,
   "metadata": {
    "collapsed": false
   },
   "outputs": [],
   "source": [
    "np.einsum('j,ij->i',r,Mrotij)"
   ]
  },
  {
   "cell_type": "code",
   "execution_count": null,
   "metadata": {
    "collapsed": false,
    "scrolled": true
   },
   "outputs": [],
   "source": [
    "cga_a = [vsr.CGA(p.null()) for p in points_a]\n",
    "cga_b = [vsr.CGA(p.null()) for p in points_b]\n",
    "def matrix(a, b):\n",
    "    m = np.zeros((32,32))\n",
    "    for i in range(32):\n",
    "        ei = vsr.CGA(*np.zeros(32))\n",
    "        ei[i] = i\n",
    "        m[i,:] = np.array(ei * a - b * ei)\n",
    "    return m\n",
    "k = matrix(cga_a[0], cga_b[0])\n",
    "\n",
    "\n",
    "m = np.row_stack([matrix(a,b) for a,b in zip(cga_a, cga_b)])\n",
    "U,s,Vt = np.linalg.svd(m)\n",
    "print(Vt.T)"
   ]
  },
  {
   "cell_type": "code",
   "execution_count": null,
   "metadata": {
    "collapsed": false
   },
   "outputs": [],
   "source": [
    "import time\n",
    "t1 = time.time()\n",
    "vsr.CGA(vsr.Vec(1,2,3).null()).spin(vsr.CGA(motor))\n",
    "t2 = time.time()\n",
    "print(t2-t1)"
   ]
  },
  {
   "cell_type": "code",
   "execution_count": null,
   "metadata": {
    "collapsed": false
   },
   "outputs": [],
   "source": [
    "t1 = time.time()\n",
    "vsr.Vec(1,2,3).null().spin(motor)\n",
    "t2 = time.time()\n",
    "print(t2-t1)"
   ]
  },
  {
   "cell_type": "code",
   "execution_count": null,
   "metadata": {
    "collapsed": false
   },
   "outputs": [],
   "source": [
    "motor = vsr.Vec(1,1,1).trs() * vsr.Rot(vsr.Biv(1,1,1).unit() * np.pi/6.0)\n",
    "n_points = 10\n",
    "sigma = 0.09\n",
    "points_a = [vsr.Vec(*np.random.normal(0.0, 0.8, 3)).null()\n",
    "            for i in range(n_points)]\n",
    "points_b = [point.spin(motor) for point in points_a]\n",
    "points_b_noisy = [vsr.Vec(*(np.array(point)[:3] \n",
    "                            + sigma * np.random.randn(3))).null() \n",
    "                  for point in points_b]\n",
    "\n",
    "cga_a = [vsr.CGA(p) for p in points_a]\n",
    "cga_b = [vsr.CGA(p) for p in points_b]\n",
    "print(matrix(ega_a[0], ega_b[0]))\n",
    "print(np.delete(matrix(ega_a[0], ega_b[0]),[0,4,5,6],0))\n",
    "print(np.delete(matrix(ega_a[0], ega_b[0]),[1,2,3,7],1))\n",
    "cga_a = [vsr.CGA(vsr.Vec(1,0,0).null()), \n",
    "            vsr.CGA(vsr.Vec(0,0,1).null()),\n",
    "            vsr.CGA(vsr.Vec(0,2,0).null())]\n",
    "cga_b = [a.spin(vsr.CGA(motor)) for a in cga_a]\n",
    "\n",
    "\n",
    "def matrix(a, b):\n",
    "    m = np.zeros((32,32))\n",
    "    for i in range(32):\n",
    "        ei = vsr.CGA(*np.zeros(32))\n",
    "        ei[i] = i\n",
    "        m[i,:] = np.array(ei * a - b * ei) \n",
    "    return m\n",
    "\n",
    "# print(matrix(cga_a[0], cga_b[0]))\n",
    "\n",
    "m = np.row_stack([\n",
    "         np.delete(np.delete(matrix(a,b),[0,6,7,8,12,13,14,28],0), [1,2,3,4,5,9,\n",
    "                                                                    10,11,15,16,17,\n",
    "                                                                    18,19,20,21,22,\n",
    "                                                                    23,24,25,26,27,\n",
    "                                                                    29,30,31,32],1)\n",
    "         for a, b in zip(cga_a, cga_b)]).copy()\n",
    "\n",
    "# m = np.row_stack([matrix(a,b) for a, b in zip(cga_a, cga_b)]).copy()\n",
    "\n",
    "U,s,Vt = np.linalg.svd(m)\n",
    "# print(Vt.T)\n",
    "print(s)"
   ]
  },
  {
   "cell_type": "code",
   "execution_count": null,
   "metadata": {
    "collapsed": false
   },
   "outputs": [],
   "source": [
    "vsr.CGA(motor)"
   ]
  },
  {
   "cell_type": "code",
   "execution_count": null,
   "metadata": {
    "collapsed": false
   },
   "outputs": [],
   "source": [
    "import scipy.linalg as linalg\n",
    "U,s,Vh = linalg.svd(m)"
   ]
  },
  {
   "cell_type": "code",
   "execution_count": null,
   "metadata": {
    "collapsed": false
   },
   "outputs": [],
   "source": [
    "import scipy.io as io\n",
    "io.savemat(\"/home/lars/m.mat\", {\"m\":m})"
   ]
  },
  {
   "cell_type": "code",
   "execution_count": null,
   "metadata": {
    "collapsed": false
   },
   "outputs": [],
   "source": [
    "M = io.loadmat(\"/home/lars/Downloads/M.mat\")[\"M\"]\n",
    "print(M)\n",
    "U,s,Vt = np.linalg.svd(M)\n",
    "print(s)"
   ]
  },
  {
   "cell_type": "code",
   "execution_count": 54,
   "metadata": {
    "collapsed": false
   },
   "outputs": [
    {
     "name": "stdout",
     "output_type": "stream",
     "text": [
      "[[  0.     0.     0.     0.     0.     0.     0.     0.     0.     0.     0.\n",
      "    0.     0.     0.     0.     0.     0.     0.     0.     0.     0.     0.\n",
      "    0.     0.     0.     0.     0.     0.     0.     0.     0.     0.  ]\n",
      " [ -0.39   0.     0.     0.     0.     0.    -3.49   0.95   0.     2.     0.\n",
      "    0.     5.44   0.     0.     0.     0.     0.     0.     0.     0.     0.\n",
      "    0.     0.     0.     0.     0.     0.     0.     0.     0.     0.  ]\n",
      " [  0.     0.     0.     0.     0.     0.    -5.4    0.     1.9    0.     4.\n",
      "    0.     0.    10.88   0.     0.     0.     0.     0.     0.     0.     0.\n",
      "    0.     0.     0.     0.     0.     0.     0.     0.     0.     0.  ]\n",
      " [  3.35   0.     0.     0.     0.     0.     0.    -8.09  10.47   0.     0.\n",
      "    6.     0.     0.    16.32   0.     0.     0.     0.     0.     0.     0.\n",
      "    0.     0.     0.     0.     0.     0.     0.     0.     0.     0.  ]\n",
      " [  0.     0.     0.     0.     0.     0.     0.     0.     0.   -10.79\n",
      "   13.96  -3.8    0.     0.     0.    21.75   0.     0.     0.     0.     0.\n",
      "    0.     0.     0.     0.     0.     0.     0.     0.     0.     0.     0.  ]\n",
      " [  0.     0.     0.     0.     0.     0.     0.     0.     0.     0.     0.\n",
      "    0.   -13.49  17.44  -4.75 -10.     0.     0.     0.     0.     0.     0.\n",
      "    0.     0.     0.     0.     0.     0.     0.     0.     0.     0.  ]\n",
      " [  0.   -20.93 -16.19   0.     0.     0.     0.     0.     0.     0.     0.\n",
      "    0.     0.     0.     0.     0.     6.7    0.     0.     0.     0.     0.\n",
      "    0.     0.     0.     0.     0.     0.     0.     0.     0.     0.  ]\n",
      " [  0.     6.65   0.   -18.88   0.     0.     0.     0.     0.     0.     0.\n",
      "    0.     0.     0.     0.     0.    -0.     0.     0.     0.     0.     0.\n",
      "    0.     0.     0.     0.     0.     0.     0.     0.     0.     0.  ]]\n"
     ]
    }
   ],
   "source": [
    "print(m[:8])"
   ]
  },
  {
   "cell_type": "code",
   "execution_count": null,
   "metadata": {
    "collapsed": false
   },
   "outputs": [],
   "source": [
    "print(M[:8])"
   ]
  },
  {
   "cell_type": "code",
   "execution_count": null,
   "metadata": {
    "collapsed": false
   },
   "outputs": [],
   "source": [
    "matrix(vsr.EGA(1,0,0,0,0,0,0,0), vsr.EGA(0,0,0,0,0,0,0,0)).T"
   ]
  },
  {
   "cell_type": "code",
   "execution_count": null,
   "metadata": {
    "collapsed": false
   },
   "outputs": [],
   "source": [
    "print(vsr.EGA(0,1,0,0,0,0,0,0) * vsr.EGA(1,0,0,0,0,0,0,0))\n",
    "print(vsr.EGA(0,1,0,0,0,0,0,0) * vsr.EGA(0,1,0,0,0,0,0,0))\n",
    "print(vsr.EGA(0,1,0,0,0,0,0,0) * vsr.EGA(0,0,1,0,0,0,0,0))\n",
    "print(vsr.EGA(0,1,0,0,0,0,0,0) * vsr.EGA(0,0,0,1,0,0,0,0))\n",
    "print(vsr.EGA(0,1,0,0,0,0,0,0) * vsr.EGA(0,0,0,0,1,0,0,0))\n",
    "print(vsr.EGA(0,1,0,0,0,0,0,0) * vsr.EGA(0,0,0,0,0,1,0,0))\n",
    "print(vsr.EGA(0,1,0,0,0,0,0,0) * vsr.EGA(0,0,0,0,0,0,1,0))\n",
    "print(vsr.EGA(0,1,0,0,0,0,0,0) * vsr.EGA(0,0,0,0,0,0,0,1))"
   ]
  },
  {
   "cell_type": "code",
   "execution_count": null,
   "metadata": {
    "collapsed": false
   },
   "outputs": [],
   "source": [
    "np.array([np.array(vsr.EGA(0,0,1,0,0,0,0,0) * vsr.EGA(1,0,0,0,0,0,0,0)),\n",
    "          np.array(vsr.EGA(0,0,1,0,0,0,0,0) * vsr.EGA(0,1,0,0,0,0,0,0)),\n",
    "          np.array(vsr.EGA(0,0,1,0,0,0,0,0) * vsr.EGA(0,0,1,0,0,0,0,0)),\n",
    "          np.array(vsr.EGA(0,0,1,0,0,0,0,0) * vsr.EGA(0,0,0,1,0,0,0,0)),\n",
    "          np.array(vsr.EGA(0,0,1,0,0,0,0,0) * vsr.EGA(0,0,0,0,1,0,0,0)),\n",
    "          np.array(vsr.EGA(0,0,1,0,0,0,0,0) * vsr.EGA(0,0,0,0,0,1,0,0)),\n",
    "          np.array(vsr.EGA(0,0,1,0,0,0,0,0) * vsr.EGA(0,0,0,0,0,0,1,0)),\n",
    "          np.array(vsr.EGA(0,0,1,0,0,0,0,0) * vsr.EGA(0,0,0,0,0,0,0,1))]).T"
   ]
  },
  {
   "cell_type": "code",
   "execution_count": null,
   "metadata": {
    "collapsed": true
   },
   "outputs": [],
   "source": []
  },
  {
   "cell_type": "code",
   "execution_count": null,
   "metadata": {
    "collapsed": false
   },
   "outputs": [],
   "source": [
    "Multivector()._gp_tensor[2,:,:]"
   ]
  },
  {
   "cell_type": "code",
   "execution_count": null,
   "metadata": {
    "collapsed": false
   },
   "outputs": [],
   "source": [
    "vsr.EGA(0,0,0,0,0,0,0,0) * vsr.EGA(0,a[0],a[1],0,a[2],0,0,0)"
   ]
  },
  {
   "cell_type": "code",
   "execution_count": null,
   "metadata": {
    "collapsed": false
   },
   "outputs": [],
   "source": [
    "np.inner(matrix(vsr.EGA(vsr.Vec(1,2,3)), vsr.EGA(0,0,0,0,0,0,0,0)), vsr.EGA(vsr.Vec(-12,9,-13)))"
   ]
  },
  {
   "cell_type": "code",
   "execution_count": null,
   "metadata": {
    "collapsed": false
   },
   "outputs": [],
   "source": [
    "vsr.Vec(1,2,3) * vsr.Vec(-12,9,-13)"
   ]
  },
  {
   "cell_type": "code",
   "execution_count": null,
   "metadata": {
    "collapsed": false
   },
   "outputs": [],
   "source": [
    "motor = vsr.Vec(1,1,1).trs() * vsr.Rot(vsr.Biv(0,1,0) * np.pi/6.0)\n",
    "a = vsr.CGA(motor)\n",
    "print(a)"
   ]
  },
  {
   "cell_type": "code",
   "execution_count": null,
   "metadata": {
    "collapsed": false
   },
   "outputs": [],
   "source": [
    "a = vsr.EGA(1,0,0,0,0,0,0,0)\n",
    "m2 = np.zeros((8,8))\n",
    "for i in range(8):\n",
    "    \n",
    "    ei = vsr.EGA(*np.zeros(8))\n",
    "    ei[i] = 1.0\n",
    "    m2[:,i] = ei * vsr.EGA(1,0,0,0,0,0,0,0)\n",
    "print(m)"
   ]
  },
  {
   "cell_type": "code",
   "execution_count": null,
   "metadata": {
    "collapsed": false
   },
   "outputs": [],
   "source": [
    "np.sum(m2,0)"
   ]
  },
  {
   "cell_type": "code",
   "execution_count": null,
   "metadata": {
    "collapsed": false
   },
   "outputs": [],
   "source": [
    "M = np.zeros((8,8))\n",
    "for i in range(8):\n",
    "    W = np.zeros((8,8))\n",
    "    for j in range(8):\n",
    "        a = vsr.EGA(0,0,0,0,0,0,0,0)\n",
    "        b = vsr.EGA(0,0,0,0,0,0,0,0)\n",
    "        a[i] = 1.\n",
    "        b[j] = j + 1\n",
    "        W[i,:] = np.array(a * b)\n",
    "    print(np.sum(W,0))\n",
    "    M[i,:] = np.sum(W,0)\n",
    "print(M)"
   ]
  },
  {
   "cell_type": "code",
   "execution_count": null,
   "metadata": {
    "collapsed": false
   },
   "outputs": [],
   "source": [
    "M = np.zeros((8,8))\n",
    "mask = np.array([1,2,3,4,5,6,7,8])\n",
    "for i in range(8):\n",
    "    W = np.zeros((8,8))\n",
    "    for j in range(8):\n",
    "        a = vsr.EGA(0,0,0,0,0,0,0,0)\n",
    "        b = vsr.EGA(0,0,0,0,0,0,0,0)\n",
    "        a[i] = 1.\n",
    "        b[j] = 1.\n",
    "        M[i,j] = np.dot(mask, np.array(a <= b))\n",
    "print(M.T)"
   ]
  },
  {
   "cell_type": "code",
   "execution_count": null,
   "metadata": {
    "collapsed": false
   },
   "outputs": [],
   "source": [
    "def row(a):\n",
    "    M = np.zeros(8)\n",
    "    for i in range(8):\n",
    "        b = vsr.EGA(0,0,0,0,0,0,0,0)\n",
    "        b[i] = i + 1\n",
    "        M += np.array(a * b)\n",
    "    return M\n",
    "\n",
    "for i in range(8):\n",
    "    ei = vsr.EGA(0,0,0,0,0,0,0,0)\n",
    "    ei[i] = 1.\n",
    "    print(row(ei))\n",
    "    "
   ]
  },
  {
   "cell_type": "code",
   "execution_count": null,
   "metadata": {
    "collapsed": false
   },
   "outputs": [],
   "source": [
    "np.dot([1,2,3,4,5,6,7,8], np.array(vsr.EGA(0,0,0,0,0,1,0,0) * vsr.EGA(0,0,0,0,0,0,0,1)))"
   ]
  }
 ],
 "metadata": {
  "kernelspec": {
   "display_name": "Python 2",
   "language": "python",
   "name": "python2"
  },
  "language_info": {
   "codemirror_mode": {
    "name": "ipython",
    "version": 2
   },
   "file_extension": ".py",
   "mimetype": "text/x-python",
   "name": "python",
   "nbconvert_exporter": "python",
   "pygments_lexer": "ipython2",
   "version": "2.7.11+"
  },
  "widgets": {
   "state": {},
   "version": "1.1.2"
  }
 },
 "nbformat": 4,
 "nbformat_minor": 0
}
