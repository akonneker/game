{
 "cells": [
  {
   "cell_type": "code",
   "execution_count": 33,
   "metadata": {
    "collapsed": false
   },
   "outputs": [],
   "source": [
    "from ga import Ga, half, zero, one\n",
    "import mv\n",
    "import metric\n",
    "from printer import Format, GaLatexPrinter\n",
    "from sympy import Symbol, symbols, factor, collect, cos, sin, pi, srepr, sqrt, atan2\n",
    "import numpy as np\n",
    "Format()\n",
    "\n",
    "g = '1 0 0 0 0, 0 1 0 0 0, 0 0 1 0 0, 0 0 0 0 -1, 0 0 0 -1 0'\n",
    "(_1, _2, _3, _o, _i) = coords = symbols('1,2,3,o,\\infty',real=True)\n",
    "\n",
    "c3d = Ga('e_1 e_2 e_3 n_o n_\\infty',g=g,coords=coords)\n",
    "(e1, e2, e3, no, ni) = c3d.mv()\n",
    "(r,th,phi,alpha,beta,gamma) = symbols('r theta phi alpha beta gamma',real=True)\n",
    "c3d.dual_mode('Iinv+')"
   ]
  },
  {
   "cell_type": "code",
   "execution_count": 2,
   "metadata": {
    "collapsed": false
   },
   "outputs": [
    {
     "data": {
      "text/latex": [
       "\\begin{equation*}  \\boldsymbol{e}_{1}\\wedge \\boldsymbol{e}_{2}\\wedge \\boldsymbol{e}_{3}\\wedge \\boldsymbol{n}_{o}\\wedge \\boldsymbol{n}_{\\infty} \\end{equation*}"
      ],
      "text/plain": [
       " \\boldsymbol{e}_{1}\\wedge \\boldsymbol{e}_{2}\\wedge \\boldsymbol{e}_{3}\\wedge \\boldsymbol{n}_{o}\\wedge \\boldsymbol{n}_{\\infty}"
      ]
     },
     "execution_count": 2,
     "metadata": {},
     "output_type": "execute_result"
    }
   ],
   "source": [
    "pseudo_scalar = e1 ^ e2 ^ e3 ^ no ^ ni\n",
    "pseudo_scalar"
   ]
  },
  {
   "cell_type": "code",
   "execution_count": 3,
   "metadata": {
    "collapsed": true
   },
   "outputs": [],
   "source": [
    "def make_euclidean_vector(a, n=3, ga=None):\n",
    "    if isinstance(a,str):\n",
    "        v = zero\n",
    "        symbols_list = []\n",
    "        for i in range(n):\n",
    "            a_i = Symbol(a+str(i+1))\n",
    "            symbols_list.append(a_i*ga.basis[i])\n",
    "            v += a_i*ga.basis[i]\n",
    "        v = ga.mv(v)\n",
    "        return v, symbols_list"
   ]
  },
  {
   "cell_type": "code",
   "execution_count": 4,
   "metadata": {
    "collapsed": false
   },
   "outputs": [
    {
     "data": {
      "text/latex": [
       "\\begin{equation*} t_{1} \\boldsymbol{e}_{1} + t_{2} \\boldsymbol{e}_{2} + t_{3} \\boldsymbol{e}_{3} + \\boldsymbol{n}_{o} + \\left ( \\frac{1}{2} {\\left ( t_{1} \\right )}^{2} + \\frac{1}{2} {\\left ( t_{2} \\right )}^{2} + \\frac{1}{2} {\\left ( t_{3} \\right )}^{2}\\right ) \\boldsymbol{n}_{\\infty} \\end{equation*}"
      ],
      "text/plain": [
       "t_{1} \\boldsymbol{e}_{1} + t_{2} \\boldsymbol{e}_{2} + t_{3} \\boldsymbol{e}_{3} + \\boldsymbol{n}_{o} + \\left ( \\frac{1}{2} {\\left ( t_{1} \\right )}^{2} + \\frac{1}{2} {\\left ( t_{2} \\right )}^{2} + \\frac{1}{2} {\\left ( t_{3} \\right )}^{2}\\right ) \\boldsymbol{n}_{\\infty}"
      ]
     },
     "execution_count": 4,
     "metadata": {},
     "output_type": "execute_result"
    }
   ],
   "source": [
    "t,_ = make_euclidean_vector('t',ga=c3d)\n",
    "translator = one - half * t * ni\n",
    "translator * no * translator.rev()"
   ]
  },
  {
   "cell_type": "code",
   "execution_count": 5,
   "metadata": {
    "collapsed": false
   },
   "outputs": [
    {
     "data": {
      "text/latex": [
       "\\begin{equation*} \\cos{\\left (\\frac{\\theta }{2} \\right )}  - B_{12} \\sin{\\left (\\frac{\\theta }{2} \\right )} \\boldsymbol{e}_{1}\\wedge \\boldsymbol{e}_{2} - B_{13} \\sin{\\left (\\frac{\\theta }{2} \\right )} \\boldsymbol{e}_{1}\\wedge \\boldsymbol{e}_{3} - B_{23} \\sin{\\left (\\frac{\\theta }{2} \\right )} \\boldsymbol{e}_{2}\\wedge \\boldsymbol{e}_{3} \\end{equation*}"
      ],
      "text/plain": [
       "\\cos{\\left (\\frac{\\theta }{2} \\right )}  - B_{12} \\sin{\\left (\\frac{\\theta }{2} \\right )} \\boldsymbol{e}_{1}\\wedge \\boldsymbol{e}_{2} - B_{13} \\sin{\\left (\\frac{\\theta }{2} \\right )} \\boldsymbol{e}_{1}\\wedge \\boldsymbol{e}_{3} - B_{23} \\sin{\\left (\\frac{\\theta }{2} \\right )} \\boldsymbol{e}_{2}\\wedge \\boldsymbol{e}_{3}"
      ]
     },
     "execution_count": 5,
     "metadata": {},
     "output_type": "execute_result"
    }
   ],
   "source": [
    "from sympy.abc import x, theta\n",
    "# Define unit bivectors\n",
    "e12 = e1 ^ e2\n",
    "e13 = e1 ^ e3\n",
    "e23 = e2 ^ e3\n",
    "e123 = e1 ^ e2 ^ e3\n",
    "(B12, B13, B23) = symbols('B_12,B_13,B_23')\n",
    "rotation_plane = ( B12 * e12 + B13 * e13 + B23 * e23 )\n",
    "B = rotation_plane\n",
    "rotor = cos(half * theta) - sin( half * theta) * rotation_plane\n",
    "rotor"
   ]
  },
  {
   "cell_type": "code",
   "execution_count": 6,
   "metadata": {
    "collapsed": true
   },
   "outputs": [],
   "source": [
    "def point(x):\n",
    "    global no, ni\n",
    "    p = x + half * x * x * ni + no\n",
    "    return p\n",
    "\n",
    "def line(p, u):\n",
    "    global no, ni\n",
    "    l = p ^ u ^ ni\n",
    "    return l\n",
    "\n",
    "def line2(p, q):\n",
    "    global no, ni\n",
    "    l = p ^ q ^ ni\n",
    "    return l\n",
    "\n",
    "def dual(x):\n",
    "    global pseudo_scalar\n",
    "    return x * pseudo_scalar.inv()"
   ]
  },
  {
   "cell_type": "code",
   "execution_count": 7,
   "metadata": {
    "collapsed": false
   },
   "outputs": [],
   "source": [
    "a,_ = make_euclidean_vector('a',ga=c3d)\n",
    "b,_ = make_euclidean_vector('b',ga=c3d)\n",
    "c,_ = make_euclidean_vector('c',ga=c3d)\n",
    "d,_ = make_euclidean_vector('c',ga=c3d)\n",
    "u,_ = make_euclidean_vector('u',ga=c3d)\n",
    "v,_ = make_euclidean_vector('v',ga=c3d)\n",
    "A = point(a)\n",
    "B = point(b)\n",
    "C = point(c)\n",
    "D = point(d)\n",
    "La = line(A,u)\n",
    "Lb = line(B,v)\n",
    "Lc = line2(A,B)\n",
    "dLa = dual(La)\n",
    "dLb = dual(Lb)\n",
    "dLc = dual(Lc)"
   ]
  },
  {
   "cell_type": "code",
   "execution_count": 8,
   "metadata": {
    "collapsed": false
   },
   "outputs": [
    {
     "data": {
      "text/latex": [
       "\\begin{equation*} \\cos{\\left (\\frac{\\theta }{2} \\right )}  - B_{12} \\sin{\\left (\\frac{\\theta }{2} \\right )} \\boldsymbol{e}_{1}\\wedge \\boldsymbol{e}_{2} - B_{13} \\sin{\\left (\\frac{\\theta }{2} \\right )} \\boldsymbol{e}_{1}\\wedge \\boldsymbol{e}_{3} + \\left ( - \\frac{t_{1}}{2} \\cos{\\left (\\frac{\\theta }{2} \\right )} + \\left(- \\frac{B_{12} t_{2}}{2} - \\frac{B_{13} t_{3}}{2}\\right) \\sin{\\left (\\frac{\\theta }{2} \\right )}\\right ) \\boldsymbol{e}_{1}\\wedge \\boldsymbol{n}_{\\infty} - B_{23} \\sin{\\left (\\frac{\\theta }{2} \\right )} \\boldsymbol{e}_{2}\\wedge \\boldsymbol{e}_{3} + \\left ( - \\frac{t_{2}}{2} \\cos{\\left (\\frac{\\theta }{2} \\right )} + \\left(\\frac{B_{12} t_{1}}{2} - \\frac{B_{23} t_{3}}{2}\\right) \\sin{\\left (\\frac{\\theta }{2} \\right )}\\right ) \\boldsymbol{e}_{2}\\wedge \\boldsymbol{n}_{\\infty} + \\left ( - \\frac{t_{3}}{2} \\cos{\\left (\\frac{\\theta }{2} \\right )} + \\left(\\frac{B_{13} t_{1}}{2} + \\frac{B_{23} t_{2}}{2}\\right) \\sin{\\left (\\frac{\\theta }{2} \\right )}\\right ) \\boldsymbol{e}_{3}\\wedge \\boldsymbol{n}_{\\infty} + \\left(\\frac{B_{12} t_{3}}{2} - \\frac{B_{13} t_{2}}{2} + \\frac{B_{23} t_{1}}{2}\\right) \\sin{\\left (\\frac{\\theta }{2} \\right )} \\boldsymbol{e}_{1}\\wedge \\boldsymbol{e}_{2}\\wedge \\boldsymbol{e}_{3}\\wedge \\boldsymbol{n}_{\\infty} \\end{equation*}"
      ],
      "text/plain": [
       "\\cos{\\left (\\frac{\\theta }{2} \\right )}  - B_{12} \\sin{\\left (\\frac{\\theta }{2} \\right )} \\boldsymbol{e}_{1}\\wedge \\boldsymbol{e}_{2} - B_{13} \\sin{\\left (\\frac{\\theta }{2} \\right )} \\boldsymbol{e}_{1}\\wedge \\boldsymbol{e}_{3} + \\left ( - \\frac{t_{1}}{2} \\cos{\\left (\\frac{\\theta }{2} \\right )} + \\left(- \\frac{B_{12} t_{2}}{2} - \\frac{B_{13} t_{3}}{2}\\right) \\sin{\\left (\\frac{\\theta }{2} \\right )}\\right ) \\boldsymbol{e}_{1}\\wedge \\boldsymbol{n}_{\\infty} - B_{23} \\sin{\\left (\\frac{\\theta }{2} \\right )} \\boldsymbol{e}_{2}\\wedge \\boldsymbol{e}_{3} + \\left ( - \\frac{t_{2}}{2} \\cos{\\left (\\frac{\\theta }{2} \\right )} + \\left(\\frac{B_{12} t_{1}}{2} - \\frac{B_{23} t_{3}}{2}\\right) \\sin{\\left (\\frac{\\theta }{2} \\right )}\\right ) \\boldsymbol{e}_{2}\\wedge \\boldsymbol{n}_{\\infty} + \\left ( - \\frac{t_{3}}{2} \\cos{\\left (\\frac{\\theta }{2} \\right )} + \\left(\\frac{B_{13} t_{1}}{2} + \\frac{B_{23} t_{2}}{2}\\right) \\sin{\\left (\\frac{\\theta }{2} \\right )}\\right ) \\boldsymbol{e}_{3}\\wedge \\boldsymbol{n}_{\\infty} + \\left(\\frac{B_{12} t_{3}}{2} - \\frac{B_{13} t_{2}}{2} + \\frac{B_{23} t_{1}}{2}\\right) \\sin{\\left (\\frac{\\theta }{2} \\right )} \\boldsymbol{e}_{1}\\wedge \\boldsymbol{e}_{2}\\wedge \\boldsymbol{e}_{3}\\wedge \\boldsymbol{n}_{\\infty}"
      ]
     },
     "execution_count": 8,
     "metadata": {},
     "output_type": "execute_result"
    }
   ],
   "source": [
    "motor = translator * rotor\n",
    "motor"
   ]
  },
  {
   "cell_type": "code",
   "execution_count": 9,
   "metadata": {
    "collapsed": false
   },
   "outputs": [],
   "source": [
    "dLa_ = motor * La.dual() * motor.rev()\n",
    "dLa"
   ]
  },
  {
   "cell_type": "code",
   "execution_count": 17,
   "metadata": {
    "collapsed": false
   },
   "outputs": [
    {
     "data": {
      "text/latex": [
       "\\begin{equation*} \\left ( u_{3} - v_{3}\\right ) \\boldsymbol{e}_{1}\\wedge \\boldsymbol{e}_{2} + \\left ( - u_{2} + v_{2}\\right ) \\boldsymbol{e}_{1}\\wedge \\boldsymbol{e}_{3} + \\left ( a_{2} u_{3} - a_{3} u_{2} - b_{2} v_{3} + b_{3} v_{2}\\right ) \\boldsymbol{e}_{1}\\wedge \\boldsymbol{n}_{\\infty} + \\left ( u_{1} - v_{1}\\right ) \\boldsymbol{e}_{2}\\wedge \\boldsymbol{e}_{3} + \\left ( - a_{1} u_{3} + a_{3} u_{1} + b_{1} v_{3} - b_{3} v_{1}\\right ) \\boldsymbol{e}_{2}\\wedge \\boldsymbol{n}_{\\infty} + \\left ( a_{1} u_{2} - a_{2} u_{1} - b_{1} v_{2} + b_{2} v_{1}\\right ) \\boldsymbol{e}_{3}\\wedge \\boldsymbol{n}_{\\infty} \\end{equation*}"
      ],
      "text/plain": [
       "\\left ( u_{3} - v_{3}\\right ) \\boldsymbol{e}_{1}\\wedge \\boldsymbol{e}_{2} + \\left ( - u_{2} + v_{2}\\right ) \\boldsymbol{e}_{1}\\wedge \\boldsymbol{e}_{3} + \\left ( a_{2} u_{3} - a_{3} u_{2} - b_{2} v_{3} + b_{3} v_{2}\\right ) \\boldsymbol{e}_{1}\\wedge \\boldsymbol{n}_{\\infty} + \\left ( u_{1} - v_{1}\\right ) \\boldsymbol{e}_{2}\\wedge \\boldsymbol{e}_{3} + \\left ( - a_{1} u_{3} + a_{3} u_{1} + b_{1} v_{3} - b_{3} v_{1}\\right ) \\boldsymbol{e}_{2}\\wedge \\boldsymbol{n}_{\\infty} + \\left ( a_{1} u_{2} - a_{2} u_{1} - b_{1} v_{2} + b_{2} v_{1}\\right ) \\boldsymbol{e}_{3}\\wedge \\boldsymbol{n}_{\\infty}"
      ]
     },
     "execution_count": 17,
     "metadata": {},
     "output_type": "execute_result"
    }
   ],
   "source": [
    "dLa - dLb"
   ]
  },
  {
   "cell_type": "code",
   "execution_count": 35,
   "metadata": {
    "collapsed": false
   },
   "outputs": [
    {
     "data": {
      "text/latex": [
       "\\begin{equation*} i u_{3} \\boldsymbol{e}_{1}\\wedge \\boldsymbol{e}_{2} - i u_{2} \\boldsymbol{e}_{1}\\wedge \\boldsymbol{e}_{3} + i \\left(a_{2} u_{3} - a_{3} u_{2}\\right) \\boldsymbol{e}_{1}\\wedge \\boldsymbol{n}_{\\infty} + i u_{1} \\boldsymbol{e}_{2}\\wedge \\boldsymbol{e}_{3} + i \\left(- a_{1} u_{3} + a_{3} u_{1}\\right) \\boldsymbol{e}_{2}\\wedge \\boldsymbol{n}_{\\infty} + i \\left(a_{1} u_{2} - a_{2} u_{1}\\right) \\boldsymbol{e}_{3}\\wedge \\boldsymbol{n}_{\\infty} \\end{equation*}"
      ],
      "text/plain": [
       "i u_{3} \\boldsymbol{e}_{1}\\wedge \\boldsymbol{e}_{2} - i u_{2} \\boldsymbol{e}_{1}\\wedge \\boldsymbol{e}_{3} + i \\left(a_{2} u_{3} - a_{3} u_{2}\\right) \\boldsymbol{e}_{1}\\wedge \\boldsymbol{n}_{\\infty} + i u_{1} \\boldsymbol{e}_{2}\\wedge \\boldsymbol{e}_{3} + i \\left(- a_{1} u_{3} + a_{3} u_{1}\\right) \\boldsymbol{e}_{2}\\wedge \\boldsymbol{n}_{\\infty} + i \\left(a_{1} u_{2} - a_{2} u_{1}\\right) \\boldsymbol{e}_{3}\\wedge \\boldsymbol{n}_{\\infty}"
      ]
     },
     "execution_count": 35,
     "metadata": {},
     "output_type": "execute_result"
    }
   ],
   "source": [
    "La.dual()"
   ]
  },
  {
   "cell_type": "code",
   "execution_count": 36,
   "metadata": {
    "collapsed": false
   },
   "outputs": [
    {
     "data": {
      "text/latex": [
       "\\begin{equation*} \\frac{1}{{\\left ( v_{1} \\right )}^{2} + {\\left ( v_{2} \\right )}^{2} + {\\left ( v_{3} \\right )}^{2}} \\left(- a_{1} u_{2} v_{3} + a_{1} u_{3} v_{2} + a_{2} u_{1} v_{3} - a_{2} u_{3} v_{1} - a_{3} u_{1} v_{2} + a_{3} u_{2} v_{1} + b_{1} u_{2} v_{3} - b_{1} u_{3} v_{2} - b_{2} u_{1} v_{3} + b_{2} u_{3} v_{1} + b_{3} u_{1} v_{2} - b_{3} u_{2} v_{1}\\right) \\boldsymbol{e}_{1}\\wedge \\boldsymbol{e}_{2}\\wedge \\boldsymbol{e}_{3}\\wedge \\boldsymbol{n}_{\\infty} \\end{equation*}"
      ],
      "text/plain": [
       "\\frac{1}{{\\left ( v_{1} \\right )}^{2} + {\\left ( v_{2} \\right )}^{2} + {\\left ( v_{3} \\right )}^{2}} \\left(- a_{1} u_{2} v_{3} + a_{1} u_{3} v_{2} + a_{2} u_{1} v_{3} - a_{2} u_{3} v_{1} - a_{3} u_{1} v_{2} + a_{3} u_{2} v_{1} + b_{1} u_{2} v_{3} - b_{1} u_{3} v_{2} - b_{2} u_{1} v_{3} + b_{2} u_{3} v_{1} + b_{3} u_{1} v_{2} - b_{3} u_{2} v_{1}\\right) \\boldsymbol{e}_{1}\\wedge \\boldsymbol{e}_{2}\\wedge \\boldsymbol{e}_{3}\\wedge \\boldsymbol{n}_{\\infty}"
      ]
     },
     "execution_count": 36,
     "metadata": {},
     "output_type": "execute_result"
    }
   ],
   "source": [
    "dLa ^ dLb.inv()"
   ]
  },
  {
   "cell_type": "code",
   "execution_count": 38,
   "metadata": {
    "collapsed": false
   },
   "outputs": [
    {
     "data": {
      "text/latex": [
       "\\begin{equation*} \\frac{u_{1}}{{\\left ( v_{1} \\right )}^{2} + {\\left ( v_{2} \\right )}^{2} + {\\left ( v_{3} \\right )}^{2}} \\left(a_{1} u_{2} v_{3} - a_{1} u_{3} v_{2} - a_{2} u_{1} v_{3} + a_{2} u_{3} v_{1} + a_{3} u_{1} v_{2} - a_{3} u_{2} v_{1} - b_{1} u_{2} v_{3} + b_{1} u_{3} v_{2} + b_{2} u_{1} v_{3} - b_{2} u_{3} v_{1} - b_{3} u_{1} v_{2} + b_{3} u_{2} v_{1}\\right) \\boldsymbol{e}_{1}\\wedge \\boldsymbol{n}_{\\infty} + \\frac{u_{2}}{{\\left ( v_{1} \\right )}^{2} + {\\left ( v_{2} \\right )}^{2} + {\\left ( v_{3} \\right )}^{2}} \\left(a_{1} u_{2} v_{3} - a_{1} u_{3} v_{2} - a_{2} u_{1} v_{3} + a_{2} u_{3} v_{1} + a_{3} u_{1} v_{2} - a_{3} u_{2} v_{1} - b_{1} u_{2} v_{3} + b_{1} u_{3} v_{2} + b_{2} u_{1} v_{3} - b_{2} u_{3} v_{1} - b_{3} u_{1} v_{2} + b_{3} u_{2} v_{1}\\right) \\boldsymbol{e}_{2}\\wedge \\boldsymbol{n}_{\\infty} + \\frac{u_{3}}{{\\left ( v_{1} \\right )}^{2} + {\\left ( v_{2} \\right )}^{2} + {\\left ( v_{3} \\right )}^{2}} \\left(a_{1} u_{2} v_{3} - a_{1} u_{3} v_{2} - a_{2} u_{1} v_{3} + a_{2} u_{3} v_{1} + a_{3} u_{1} v_{2} - a_{3} u_{2} v_{1} - b_{1} u_{2} v_{3} + b_{1} u_{3} v_{2} + b_{2} u_{1} v_{3} - b_{2} u_{3} v_{1} - b_{3} u_{1} v_{2} + b_{3} u_{2} v_{1}\\right) \\boldsymbol{e}_{3}\\wedge \\boldsymbol{n}_{\\infty} \\end{equation*}"
      ],
      "text/plain": [
       "\\frac{u_{1}}{{\\left ( v_{1} \\right )}^{2} + {\\left ( v_{2} \\right )}^{2} + {\\left ( v_{3} \\right )}^{2}} \\left(a_{1} u_{2} v_{3} - a_{1} u_{3} v_{2} - a_{2} u_{1} v_{3} + a_{2} u_{3} v_{1} + a_{3} u_{1} v_{2} - a_{3} u_{2} v_{1} - b_{1} u_{2} v_{3} + b_{1} u_{3} v_{2} + b_{2} u_{1} v_{3} - b_{2} u_{3} v_{1} - b_{3} u_{1} v_{2} + b_{3} u_{2} v_{1}\\right) \\boldsymbol{e}_{1}\\wedge \\boldsymbol{n}_{\\infty} + \\frac{u_{2}}{{\\left ( v_{1} \\right )}^{2} + {\\left ( v_{2} \\right )}^{2} + {\\left ( v_{3} \\right )}^{2}} \\left(a_{1} u_{2} v_{3} - a_{1} u_{3} v_{2} - a_{2} u_{1} v_{3} + a_{2} u_{3} v_{1} + a_{3} u_{1} v_{2} - a_{3} u_{2} v_{1} - b_{1} u_{2} v_{3} + b_{1} u_{3} v_{2} + b_{2} u_{1} v_{3} - b_{2} u_{3} v_{1} - b_{3} u_{1} v_{2} + b_{3} u_{2} v_{1}\\right) \\boldsymbol{e}_{2}\\wedge \\boldsymbol{n}_{\\infty} + \\frac{u_{3}}{{\\left ( v_{1} \\right )}^{2} + {\\left ( v_{2} \\right )}^{2} + {\\left ( v_{3} \\right )}^{2}} \\left(a_{1} u_{2} v_{3} - a_{1} u_{3} v_{2} - a_{2} u_{1} v_{3} + a_{2} u_{3} v_{1} + a_{3} u_{1} v_{2} - a_{3} u_{2} v_{1} - b_{1} u_{2} v_{3} + b_{1} u_{3} v_{2} + b_{2} u_{1} v_{3} - b_{2} u_{3} v_{1} - b_{3} u_{1} v_{2} + b_{3} u_{2} v_{1}\\right) \\boldsymbol{e}_{3}\\wedge \\boldsymbol{n}_{\\infty}"
      ]
     },
     "execution_count": 38,
     "metadata": {},
     "output_type": "execute_result"
    }
   ],
   "source": [
    "dLa < dLb.inv() + mv.com(dLa,dLb.inv()) + dLa ^ dLb.inv()"
   ]
  },
  {
   "cell_type": "code",
   "execution_count": 30,
   "metadata": {
    "collapsed": false
   },
   "outputs": [
    {
     "ename": "TypeError",
     "evalue": "unsupported operand type(s) for %: 'Mv' and 'Mv'",
     "output_type": "error",
     "traceback": [
      "\u001b[1;31m---------------------------------------------------------------------------\u001b[0m",
      "\u001b[1;31mTypeError\u001b[0m                                 Traceback (most recent call last)",
      "\u001b[1;32m<ipython-input-30-bab669400818>\u001b[0m in \u001b[0;36m<module>\u001b[1;34m()\u001b[0m\n\u001b[1;32m----> 1\u001b[1;33m \u001b[0mdLa\u001b[0m \u001b[1;33m%\u001b[0m \u001b[0mdLb\u001b[0m\u001b[1;33m.\u001b[0m\u001b[0minv\u001b[0m\u001b[1;33m(\u001b[0m\u001b[1;33m)\u001b[0m\u001b[1;33m\u001b[0m\u001b[0m\n\u001b[0m",
      "\u001b[1;31mTypeError\u001b[0m: unsupported operand type(s) for %: 'Mv' and 'Mv'"
     ]
    }
   ],
   "source": []
  }
 ],
 "metadata": {
  "kernelspec": {
   "display_name": "Python 2",
   "language": "python",
   "name": "python2"
  },
  "language_info": {
   "codemirror_mode": {
    "name": "ipython",
    "version": 2
   },
   "file_extension": ".py",
   "mimetype": "text/x-python",
   "name": "python",
   "nbconvert_exporter": "python",
   "pygments_lexer": "ipython2",
   "version": "2.7.6"
  }
 },
 "nbformat": 4,
 "nbformat_minor": 0
}
