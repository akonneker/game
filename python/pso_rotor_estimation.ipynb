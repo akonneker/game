{
 "cells": [
  {
   "cell_type": "code",
   "execution_count": 1,
   "metadata": {
    "collapsed": false
   },
   "outputs": [
    {
     "name": "stdout",
     "output_type": "stream",
     "text": [
      "Populating the interactive namespace from numpy and matplotlib\n"
     ]
    }
   ],
   "source": [
    "%pylab inline\n",
    "import sys\n",
    "sys.path.append('../build/Debug')\n",
    "from pyswarm import pso\n",
    "from transformations import quaternion_matrix, euler_matrix\n",
    "from libpso import rotate_point, rotor\n",
    "np.set_printoptions(precision=6, suppress=True)"
   ]
  },
  {
   "cell_type": "code",
   "execution_count": 2,
   "metadata": {
    "collapsed": false
   },
   "outputs": [
    {
     "ename": "TypeError",
     "evalue": "No to_python (by-value) converter found for C++ type: vsr::Multivector<vsr::algebra<vsr::metric<4, 1, true>, double>, vsr::Basis<(short)0, (short)3, (short)5, (short)6> >",
     "output_type": "error",
     "traceback": [
      "\u001b[1;31m---------------------------------------------------------------------------\u001b[0m",
      "\u001b[1;31mTypeError\u001b[0m                                 Traceback (most recent call last)",
      "\u001b[1;32m<ipython-input-2-6af8c02e2974>\u001b[0m in \u001b[0;36m<module>\u001b[1;34m()\u001b[0m\n\u001b[1;32m----> 1\u001b[1;33m \u001b[0mrotor\u001b[0m\u001b[1;33m(\u001b[0m\u001b[1;36m1\u001b[0m\u001b[1;33m,\u001b[0m\u001b[1;36m0\u001b[0m\u001b[1;33m,\u001b[0m\u001b[1;36m0\u001b[0m\u001b[1;33m,\u001b[0m\u001b[1;36m0\u001b[0m\u001b[1;33m)\u001b[0m\u001b[1;33m\u001b[0m\u001b[0m\n\u001b[0m",
      "\u001b[1;31mTypeError\u001b[0m: No to_python (by-value) converter found for C++ type: vsr::Multivector<vsr::algebra<vsr::metric<4, 1, true>, double>, vsr::Basis<(short)0, (short)3, (short)5, (short)6> >"
     ]
    }
   ],
   "source": [
    "rotor(1,0,0,0)"
   ]
  },
  {
   "cell_type": "code",
   "execution_count": 21,
   "metadata": {
    "collapsed": true
   },
   "outputs": [],
   "source": [
    "def generate_dataset(n_points, sigma, mu):\n",
    "    n_points = n_points\n",
    "    r = euler_matrix(0.0,0.0,np.pi/2.0)[:3,:3]\n",
    "#     angles = np.pi * np.random.randn(3)\n",
    "#     r = euler_to_matrix(angles[0], angles[1], angles[2])[:3,:3]\n",
    "    points_a = np.random.normal(0.0,0.8,(n_points,3))\n",
    "    points_a = np.array([point / np.linalg.norm(point) for point in points_a])\n",
    "    points_b = np.array([np.dot(r,point.reshape(3,1)).reshape(3) + np.array([0.0,0.0,1.0]) for point in points_a])\n",
    "    # Add noise to the rotated point cloud\n",
    "    sigma = sigma\n",
    "    mu = mu\n",
    "    points_b_noisy = points_b + sigma * np.random.randn(n_points,3) + mu\n",
    "    points_b_noisy = np.array([point / np.linalg.norm(point) for point in points_b_noisy])\n",
    "    return (r, points_a, points_b, points_b_noisy)"
   ]
  },
  {
   "cell_type": "code",
   "execution_count": 22,
   "metadata": {
    "collapsed": false
   },
   "outputs": [
    {
     "data": {
      "text/plain": [
       "array([[ 0., -1.,  0.],\n",
       "       [ 1.,  0.,  0.],\n",
       "       [-0.,  0.,  1.]])"
      ]
     },
     "execution_count": 22,
     "metadata": {},
     "output_type": "execute_result"
    }
   ],
   "source": [
    "(r, points_a, points_b, points_b_noisy) = generate_dataset(10, 0.0, 0.0)\n",
    "r"
   ]
  },
  {
   "cell_type": "code",
   "execution_count": 23,
   "metadata": {
    "collapsed": false
   },
   "outputs": [],
   "source": [
    "def myfunc(q):\n",
    "    q[:4] /= np.linalg.norm(q[:4])\n",
    "    b = points_b\n",
    "    b_ = np.array([rotate_point(q.reshape(8,1), point.reshape(3,1)).reshape(3) for point in points_a])\n",
    "    return np.sum([np.linalg.norm(pa - pb) for pa, pb in zip(b, b_)])\n",
    "\n",
    "def myfunc2(q):\n",
    "    q = np.array(q) / np.linalg.norm(q)\n",
    "    r = quaternion_matrix(q.reshape(4))[:3,:3]\n",
    "    b = points_b\n",
    "    b_ = np.array([np.dot(r,point.reshape(3,1)).reshape(3) for point in points_a])\n",
    "    return np.sum([np.linalg.norm(pa - pb) for pa, pb in zip(b, b_)])"
   ]
  },
  {
   "cell_type": "code",
   "execution_count": 34,
   "metadata": {
    "collapsed": false
   },
   "outputs": [
    {
     "name": "stdout",
     "output_type": "stream",
     "text": [
      "Stopping search: Swarm best position change less than 1e-12\n",
      "2.17344408273e-11\n",
      "[[ 0.707107]\n",
      " [-0.707107]\n",
      " [-0.      ]\n",
      " [ 0.      ]\n",
      " [ 0.      ]\n",
      " [ 0.      ]\n",
      " [-1.      ]\n",
      " [-0.292893]]\n"
     ]
    }
   ],
   "source": [
    "lb = [-1] * 8\n",
    "# lb = [0,0,0,0]\n",
    "ub = [1] * 8\n",
    "q, d = pso(myfunc, lb, ub, \n",
    "           swarmsize=250, \n",
    "           maxiter=1000, \n",
    "           minstep=1e-12, \n",
    "           minfunc=1e-12,\n",
    "           omega=0.75,\n",
    "           phip=0.75,\n",
    "           phig=0.75,\n",
    "           debug=False)\n",
    "print(d)\n",
    "print(q.reshape(8,1))"
   ]
  },
  {
   "cell_type": "code",
   "execution_count": 10,
   "metadata": {
    "collapsed": false
   },
   "outputs": [
    {
     "name": "stdout",
     "output_type": "stream",
     "text": [
      "[[ 0.35349  -0.707234  0.000366]\n",
      " [ 0.707234  0.35349  -0.000422]\n",
      " [-0.000366  0.000422  0.35349 ]]\n"
     ]
    },
    {
     "data": {
      "text/plain": [
       "array([[ 1.200293],\n",
       "       [-0.400043],\n",
       "       [ 0.17935 ]])"
      ]
     },
     "execution_count": 10,
     "metadata": {},
     "output_type": "execute_result"
    }
   ],
   "source": [
    "m = q\n",
    "a = -0.5 * m[0] * np.eye(3) + \\\n",
    "np.array([0.0, -m[1], m[2], \n",
    "          m[1], 0.0, -m[3],\n",
    "         -m[2], m[3], 0.0]).reshape(3,3)\n",
    "\n",
    "b = np.array([m[4], m[5], m[6]]).reshape(3,1)\n",
    "print a\n",
    "np.linalg.solve(a,b)"
   ]
  },
  {
   "cell_type": "code",
   "execution_count": 25,
   "metadata": {
    "collapsed": false
   },
   "outputs": [],
   "source": [
    "pso?"
   ]
  },
  {
   "cell_type": "code",
   "execution_count": 8,
   "metadata": {
    "collapsed": false
   },
   "outputs": [
    {
     "ename": "RuntimeError",
     "evalue": "rotor: Array must have shape (8,1)",
     "output_type": "error",
     "traceback": [
      "\u001b[1;31m---------------------------------------------------------------------------\u001b[0m",
      "\u001b[1;31mRuntimeError\u001b[0m                              Traceback (most recent call last)",
      "\u001b[1;32m<ipython-input-8-488ca5965c75>\u001b[0m in \u001b[0;36m<module>\u001b[1;34m()\u001b[0m\n\u001b[0;32m      2\u001b[0m \u001b[1;31m# rotor = np.array([1.0, 0.0, 0.0,0.0]).reshape(4,1)\u001b[0m\u001b[1;33m\u001b[0m\u001b[1;33m\u001b[0m\u001b[0m\n\u001b[0;32m      3\u001b[0m \u001b[0mvec\u001b[0m \u001b[1;33m=\u001b[0m \u001b[0mnp\u001b[0m\u001b[1;33m.\u001b[0m\u001b[0marray\u001b[0m\u001b[1;33m(\u001b[0m\u001b[1;33m[\u001b[0m\u001b[1;36m1.0\u001b[0m\u001b[1;33m,\u001b[0m \u001b[1;36m0.0\u001b[0m\u001b[1;33m,\u001b[0m \u001b[1;36m0.0\u001b[0m\u001b[1;33m]\u001b[0m\u001b[1;33m)\u001b[0m\u001b[1;33m.\u001b[0m\u001b[0mreshape\u001b[0m\u001b[1;33m(\u001b[0m\u001b[1;36m3\u001b[0m\u001b[1;33m,\u001b[0m\u001b[1;36m1\u001b[0m\u001b[1;33m)\u001b[0m\u001b[1;33m\u001b[0m\u001b[0m\n\u001b[1;32m----> 4\u001b[1;33m \u001b[0mrotate_point\u001b[0m\u001b[1;33m(\u001b[0m\u001b[0mrotor\u001b[0m\u001b[1;33m,\u001b[0m \u001b[0mvec\u001b[0m\u001b[1;33m)\u001b[0m\u001b[1;33m\u001b[0m\u001b[0m\n\u001b[0m",
      "\u001b[1;31mRuntimeError\u001b[0m: rotor: Array must have shape (8,1)"
     ]
    }
   ],
   "source": [
    "rotor = np.array([cos(pi/4),-sin(pi/4),1.0,1.0, 1.0,1.0,1.0]).reshape(7,1)\n",
    "# rotor = np.array([1.0, 0.0, 0.0,0.0]).reshape(4,1)\n",
    "vec = np.array([1.0, 0.0, 0.0]).reshape(3,1)\n",
    "rotate_point(rotor, vec)"
   ]
  },
  {
   "cell_type": "code",
   "execution_count": null,
   "metadata": {
    "collapsed": false
   },
   "outputs": [],
   "source": [
    "rotor[:4] /= 3.0\n",
    "rotor"
   ]
  }
 ],
 "metadata": {
  "kernelspec": {
   "display_name": "Python 2",
   "language": "python",
   "name": "python2"
  },
  "language_info": {
   "codemirror_mode": {
    "name": "ipython",
    "version": 2
   },
   "file_extension": ".py",
   "mimetype": "text/x-python",
   "name": "python",
   "nbconvert_exporter": "python",
   "pygments_lexer": "ipython2",
   "version": "2.7.6"
  }
 },
 "nbformat": 4,
 "nbformat_minor": 0
}
