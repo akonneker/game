{
 "cells": [
  {
   "cell_type": "code",
   "execution_count": 1,
   "metadata": {
    "collapsed": false
   },
   "outputs": [
    {
     "name": "stdout",
     "output_type": "stream",
     "text": [
      "Populating the interactive namespace from numpy and matplotlib\n"
     ]
    },
    {
     "ename": "ImportError",
     "evalue": "No module named pyswarm",
     "output_type": "error",
     "traceback": [
      "\u001b[0;31m---------------------------------------------------------------------------\u001b[0m",
      "\u001b[0;31mImportError\u001b[0m                               Traceback (most recent call last)",
      "\u001b[0;32m<ipython-input-1-5fe180856eeb>\u001b[0m in \u001b[0;36m<module>\u001b[0;34m()\u001b[0m\n\u001b[1;32m      2\u001b[0m \u001b[0;32mimport\u001b[0m \u001b[0msys\u001b[0m\u001b[0;34m\u001b[0m\u001b[0m\n\u001b[1;32m      3\u001b[0m \u001b[0msys\u001b[0m\u001b[0;34m.\u001b[0m\u001b[0mpath\u001b[0m\u001b[0;34m.\u001b[0m\u001b[0mappend\u001b[0m\u001b[0;34m(\u001b[0m\u001b[0;34m'../build/'\u001b[0m\u001b[0;34m)\u001b[0m\u001b[0;34m\u001b[0m\u001b[0m\n\u001b[0;32m----> 4\u001b[0;31m \u001b[0;32mfrom\u001b[0m \u001b[0mpyswarm\u001b[0m \u001b[0;32mimport\u001b[0m \u001b[0mpso\u001b[0m\u001b[0;34m\u001b[0m\u001b[0m\n\u001b[0m\u001b[1;32m      5\u001b[0m \u001b[0;32mfrom\u001b[0m \u001b[0mtransformations\u001b[0m \u001b[0;32mimport\u001b[0m \u001b[0mquaternion_matrix\u001b[0m\u001b[0;34m,\u001b[0m \u001b[0meuler_matrix\u001b[0m\u001b[0;34m\u001b[0m\u001b[0m\n\u001b[1;32m      6\u001b[0m \u001b[0;32mimport\u001b[0m \u001b[0mversor\u001b[0m \u001b[0;32mas\u001b[0m \u001b[0mvsr\u001b[0m\u001b[0;34m\u001b[0m\u001b[0m\n",
      "\u001b[0;31mImportError\u001b[0m: No module named pyswarm"
     ]
    }
   ],
   "source": [
    "%pylab inline\n",
    "import sys\n",
    "sys.path.append('../build/')\n",
    "from pyswarm import pso\n",
    "from transformations import quaternion_matrix, euler_matrix\n",
    "import versor as vsr\n",
    "np.set_printoptions(precision=6, suppress=True)"
   ]
  },
  {
   "cell_type": "code",
   "execution_count": null,
   "metadata": {
    "collapsed": false
   },
   "outputs": [],
   "source": []
  },
  {
   "cell_type": "code",
   "execution_count": null,
   "metadata": {
    "collapsed": true
   },
   "outputs": [],
   "source": [
    "# def generate_dataset(n_points, sigma, mu):\n",
    "#     n_points = n_points\n",
    "#     r = euler_matrix(0.0,0.0,np.pi/3.0)[:3,:3]\n",
    "# #     angles = np.pi * np.random.randn(3)\n",
    "# #     r = euler_to_matrix(angles[0], angles[1], angles[2])[:3,:3]\n",
    "#     points_a = np.random.normal(0.0,0.8,(n_points,3))\n",
    "# #     points_a = np.array([point / np.linalg.norm(point) for point in points_a])\n",
    "#     points_b = np.array([np.dot(r,point.reshape(3,1)).reshape(3) + np.array([0.0,0.0,1.0]) for point in points_a])\n",
    "#     # Add noise to the rotated point cloud\n",
    "#     sigma = sigma\n",
    "#     mu = mu\n",
    "#     points_b_noisy = points_b + sigma * np.random.randn(n_points,3) + mu\n",
    "#     points_b_noisy = np.array([point / np.linalg.norm(point) for point in points_b_noisy])\n",
    "#     return (r, points_a, points_b, points_b_noisy)"
   ]
  },
  {
   "cell_type": "code",
   "execution_count": null,
   "metadata": {
    "collapsed": false
   },
   "outputs": [],
   "source": [
    "n = 10\n",
    "motor = vsr.Trs.from_vector(vsr.Vec(1,1,1)) * vsr.Rot.from_bivector(vsr.Biv(0,1,0) * np.pi/6.0)\n",
    "points_a = [vsr.Vec(*np.random.normal(0.0, 0.8, 3)).null() for i in range(n)]\n",
    "points_b = [point.spin(motor) for point in points_a]"
   ]
  },
  {
   "cell_type": "code",
   "execution_count": null,
   "metadata": {
    "collapsed": false
   },
   "outputs": [],
   "source": [
    "# def myfunc(q):\n",
    "#     q[:4] /= np.linalg.norm(q[:4])\n",
    "#     b = points_b\n",
    "#     b_ = np.array([rotate_point(q.reshape(8,1), point.reshape(3,1)).reshape(3) for point in points_a])\n",
    "#     return np.sum([np.linalg.norm(pa - pb) for pa, pb in zip(b, b_)])\n",
    "\n",
    "# def myfunc2(q):\n",
    "#     q = np.array(q) / np.linalg.norm(q)\n",
    "#     r = quaternion_matrix(q.reshape(4))[:3,:3]\n",
    "#     b = points_b\n",
    "#     b_ = np.array([np.dot(r,point.reshape(3,1)).reshape(3) for point in points_a])\n",
    "#     return np.sum([np.linalg.norm(pa - pb) for pa, pb in zip(b, b_)])\n",
    "\n",
    "def myfunc3(m):\n",
    "    mot = vsr.Mot(*m)\n",
    "    mot = polar_decomposition(mot)\n",
    "    b_ = [point.spin(mot) for point in points_a]\n",
    "    b = points_b\n",
    "    return np.sum([np.linalg.norm(pa.to_array()[:3] - pb.to_array()[:3]) for pa, pb in zip(b, b_)])"
   ]
  },
  {
   "cell_type": "code",
   "execution_count": null,
   "metadata": {
    "collapsed": false
   },
   "outputs": [],
   "source": [
    "print(motor)\n",
    "lb = [-1] * 8\n",
    "# lb = [0,0,0,0]\n",
    "ub = [1] * 8\n",
    "mot, d= pso(myfunc3, lb, ub, \n",
    "           swarmsize=100, \n",
    "           maxiter=200, \n",
    "           minstep=1e-8, \n",
    "           minfunc=1e-8,\n",
    "           omega=0.75,\n",
    "           phip=0.75,\n",
    "           phig=0.75,\n",
    "             processes=5,\n",
    "             particle_output=False,\n",
    "           debug=False)\n",
    "print(d)\n",
    "print(polar_decomposition(vsr.Mot(*mot)))"
   ]
  },
  {
   "cell_type": "code",
   "execution_count": null,
   "metadata": {
    "collapsed": false
   },
   "outputs": [],
   "source": [
    "plt.plot(papa)\n",
    "plt.show()"
   ]
  },
  {
   "cell_type": "code",
   "execution_count": null,
   "metadata": {
    "collapsed": false
   },
   "outputs": [],
   "source": [
    "m_real = vsr.Trs.from_vector(vsr.Vec(1,1,1)) * vsr.Rot.from_bivector(vsr.Biv(1,0,0) * -pi/6)\n",
    "print(m_real)\n",
    "m_est = vsr.Mot(*mot)\n",
    "print(m_est)\n",
    "print(m_est * m_est.rev())\n",
    "pso?"
   ]
  },
  {
   "cell_type": "code",
   "execution_count": null,
   "metadata": {
    "collapsed": false
   },
   "outputs": [],
   "source": [
    "def polar_decomposition(x):\n",
    "    xx = x * x.rev()\n",
    "    sinv = (vsr.Sca(1.0) + (vsr.Drt(- xx[7] / (2 * xx[0]))))\n",
    "    return x * sinv\n",
    "print polar_decomposition(m_est)"
   ]
  },
  {
   "cell_type": "code",
   "execution_count": null,
   "metadata": {
    "collapsed": false
   },
   "outputs": [],
   "source": [
    "print polar_decomposition(m_est)"
   ]
  },
  {
   "cell_type": "code",
   "execution_count": null,
   "metadata": {
    "collapsed": false
   },
   "outputs": [],
   "source": [
    "vsr.Sca(1) + vsr.Drt(1)"
   ]
  },
  {
   "cell_type": "code",
   "execution_count": null,
   "metadata": {
    "collapsed": false
   },
   "outputs": [],
   "source": [
    "m = mot\n",
    "a = -0.5 * m[0] * np.eye(3) + \\\n",
    "np.array([0.0, -m[1], m[2], \n",
    "          m[1], 0.0, -m[3],\n",
    "         -m[2], m[3], 0.0]).reshape(3,3)\n",
    "\n",
    "b = np.array([m[4], m[5], m[6]]).reshape(3,1)\n",
    "print a\n",
    "np.linalg.solve(a,b)"
   ]
  },
  {
   "cell_type": "code",
   "execution_count": null,
   "metadata": {
    "collapsed": false
   },
   "outputs": [],
   "source": [
    "pso?"
   ]
  },
  {
   "cell_type": "code",
   "execution_count": null,
   "metadata": {
    "collapsed": false
   },
   "outputs": [],
   "source": [
    "rotor = np.array([cos(pi/4),-sin(pi/4),1.0,1.0, 1.0,1.0,1.0]).reshape(7,1)\n",
    "# rotor = np.array([1.0, 0.0, 0.0,0.0]).reshape(4,1)\n",
    "vec = np.array([1.0, 0.0, 0.0]).reshape(3,1)\n",
    "rotate_point(rotor, vec)"
   ]
  },
  {
   "cell_type": "code",
   "execution_count": null,
   "metadata": {
    "collapsed": false
   },
   "outputs": [],
   "source": [
    "rotor[:4] /= 3.0\n",
    "rotor"
   ]
  }
 ],
 "metadata": {
  "kernelspec": {
   "display_name": "Python 2",
   "language": "python",
   "name": "python2"
  },
  "language_info": {
   "codemirror_mode": {
    "name": "ipython",
    "version": 2
   },
   "file_extension": ".py",
   "mimetype": "text/x-python",
   "name": "python",
   "nbconvert_exporter": "python",
   "pygments_lexer": "ipython2",
   "version": "2.7.10"
  }
 },
 "nbformat": 4,
 "nbformat_minor": 0
}
