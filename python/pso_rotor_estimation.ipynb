{
 "cells": [
  {
   "cell_type": "code",
   "execution_count": 6,
   "metadata": {
    "collapsed": false
   },
   "outputs": [
    {
     "name": "stdout",
     "output_type": "stream",
     "text": [
      "Populating the interactive namespace from numpy and matplotlib\n"
     ]
    },
    {
     "name": "stderr",
     "output_type": "stream",
     "text": [
      "versor/cga.py:4: RuntimeWarning: to-Python converter for vsr::Multivector<vsr::algebra<vsr::metric<4, 1, true>, double>, vsr::Basis<(short)1, (short)2, (short)4, (short)8, (short)16> > already registered; second conversion method ignored.\n",
      "  from libversor import (Biv, Bst, Cir, Con, Dil, Dll, Dlp, Dls, Drb, Drt, Drv,\n"
     ]
    }
   ],
   "source": [
    "%pylab inline\n",
    "import sys\n",
    "sys.path.append('../build/')\n",
    "from pyswarm import pso\n",
    "from transformations import quaternion_matrix, euler_matrix\n",
    "import versor as vsr\n",
    "np.set_printoptions(precision=6, suppress=True)"
   ]
  },
  {
   "cell_type": "code",
   "execution_count": null,
   "metadata": {
    "collapsed": false
   },
   "outputs": [],
   "source": []
  },
  {
   "cell_type": "code",
   "execution_count": null,
   "metadata": {
    "collapsed": true
   },
   "outputs": [],
   "source": [
    "# def generate_dataset(n_points, sigma, mu):\n",
    "#     n_points = n_points\n",
    "#     r = euler_matrix(0.0,0.0,np.pi/3.0)[:3,:3]\n",
    "# #     angles = np.pi * np.random.randn(3)\n",
    "# #     r = euler_to_matrix(angles[0], angles[1], angles[2])[:3,:3]\n",
    "#     points_a = np.random.normal(0.0,0.8,(n_points,3))\n",
    "# #     points_a = np.array([point / np.linalg.norm(point) for point in points_a])\n",
    "#     points_b = np.array([np.dot(r,point.reshape(3,1)).reshape(3) + np.array([0.0,0.0,1.0]) for point in points_a])\n",
    "#     # Add noise to the rotated point cloud\n",
    "#     sigma = sigma\n",
    "#     mu = mu\n",
    "#     points_b_noisy = points_b + sigma * np.random.randn(n_points,3) + mu\n",
    "#     points_b_noisy = np.array([point / np.linalg.norm(point) for point in points_b_noisy])\n",
    "#     return (r, points_a, points_b, points_b_noisy)"
   ]
  },
  {
   "cell_type": "code",
   "execution_count": 7,
   "metadata": {
    "collapsed": false
   },
   "outputs": [],
   "source": [
    "n = 10\n",
    "motor = vsr.Trs.from_vector(vsr.Vec(1,1,1)) * vsr.Rot.from_bivector(vsr.Biv(0,1,0) * np.pi/6.0)\n",
    "points_a = [vsr.Vec(*np.random.normal(0.0, 0.8, 3)).null() for i in range(n)]\n",
    "points_b = [point.spin(motor) for point in points_a]"
   ]
  },
  {
   "cell_type": "code",
   "execution_count": 32,
   "metadata": {
    "collapsed": false
   },
   "outputs": [],
   "source": [
    "# def myfunc(q):\n",
    "#     q[:4] /= np.linalg.norm(q[:4])\n",
    "#     b = points_b\n",
    "#     b_ = np.array([rotate_point(q.reshape(8,1), point.reshape(3,1)).reshape(3) for point in points_a])\n",
    "#     return np.sum([np.linalg.norm(pa - pb) for pa, pb in zip(b, b_)])\n",
    "\n",
    "# def myfunc2(q):\n",
    "#     q = np.array(q) / np.linalg.norm(q)\n",
    "#     r = quaternion_matrix(q.reshape(4))[:3,:3]\n",
    "#     b = points_b\n",
    "#     b_ = np.array([np.dot(r,point.reshape(3,1)).reshape(3) for point in points_a])\n",
    "#     return np.sum([np.linalg.norm(pa - pb) for pa, pb in zip(b, b_)])\n",
    "\n",
    "def myfunc3(m):\n",
    "    mot = vsr.Mot(*m)\n",
    "    mot = polar_decomposition(mot)\n",
    "    b_ = [point.spin(mot) for point in points_a]\n",
    "    b = points_b\n",
    "    return np.sum([np.linalg.norm(pa.to_array()[:3] - pb.to_array()[:3]) for pa, pb in zip(b, b_)])"
   ]
  },
  {
   "cell_type": "code",
   "execution_count": 48,
   "metadata": {
    "collapsed": false
   },
   "outputs": [
    {
     "name": "stdout",
     "output_type": "stream",
     "text": [
      "0.965926  0  -0.258819  0  -0.612372  -0.482963  -0.353553  -0.12941  \n",
      "Stopping search: Swarm best objective change less than 1e-08\n",
      "1.95372220859e-06\n",
      "0.965926  -7.37589e-09  -0.258819  1.34022e-08  -0.612373  -0.482963  -0.353553  -0.12941  \n"
     ]
    }
   ],
   "source": [
    "print(motor)\n",
    "lb = [-1] * 8\n",
    "# lb = [0,0,0,0]\n",
    "ub = [1] * 8\n",
    "mot, d= pso(myfunc3, lb, ub, \n",
    "           swarmsize=100, \n",
    "           maxiter=200, \n",
    "           minstep=1e-8, \n",
    "           minfunc=1e-8,\n",
    "           omega=0.75,\n",
    "           phip=0.75,\n",
    "           phig=0.75,\n",
    "             processes=5,\n",
    "             particle_output=False,\n",
    "           debug=False)\n",
    "print(d)\n",
    "print(polar_decomposition(vsr.Mot(*mot)))"
   ]
  },
  {
   "cell_type": "code",
   "execution_count": 28,
   "metadata": {
    "collapsed": false
   },
   "outputs": [
    {
     "data": {
      "image/png": "[encoded data removed]",
      "text/plain": [
       "<matplotlib.figure.Figure at 0x7f66d4517290>"
      ]
     },
     "metadata": {},
     "output_type": "display_data"
    }
   ],
   "source": [
    "plt.plot(papa)\n",
    "plt.show()"
   ]
  },
  {
   "cell_type": "code",
   "execution_count": 30,
   "metadata": {
    "collapsed": false
   },
   "outputs": [
    {
     "name": "stdout",
     "output_type": "stream",
     "text": [
      "0.965926  0.258819  0  0  -0.353553  -0.612372  -0.482963  -0.12941  \n",
      "-0.965926  -1.68251e-08  0.258819  -4.57666e-08  0.612372  0.335787  0.353553  0.678676  \n",
      "1  0  -7.12751e-18  6.61744e-24  -2.55111e-17  -2.77556e-17  2.0814e-17  -1.13729  \n"
     ]
    }
   ],
   "source": [
    "m_real = vsr.Trs.from_vector(vsr.Vec(1,1,1)) * vsr.Rot.from_bivector(vsr.Biv(1,0,0) * -pi/6)\n",
    "print(m_real)\n",
    "m_est = vsr.Mot(*mot)\n",
    "print(m_est)\n",
    "print(m_est * m_est.rev())\n",
    "pso?"
   ]
  },
  {
   "cell_type": "code",
   "execution_count": 31,
   "metadata": {
    "collapsed": false
   },
   "outputs": [
    {
     "name": "stdout",
     "output_type": "stream",
     "text": [
      "-0.965926  -1.68251e-08  0.258819  -4.57666e-08  0.612372  0.482963  0.353553  0.12941  \n"
     ]
    }
   ],
   "source": [
    "def polar_decomposition(x):\n",
    "    xx = x * x.rev()\n",
    "    sinv = (vsr.Sca(1.0) + (vsr.Drt(- xx[7] / (2 * xx[0]))))\n",
    "    return x * sinv\n",
    "print polar_decomposition(m_est)"
   ]
  },
  {
   "cell_type": "code",
   "execution_count": null,
   "metadata": {
    "collapsed": false
   },
   "outputs": [],
   "source": [
    "print polar_decomposition(m_est)"
   ]
  },
  {
   "cell_type": "code",
   "execution_count": null,
   "metadata": {
    "collapsed": false
   },
   "outputs": [],
   "source": [
    "vsr.Sca(1) + vsr.Drt(1)"
   ]
  },
  {
   "cell_type": "code",
   "execution_count": null,
   "metadata": {
    "collapsed": false
   },
   "outputs": [],
   "source": [
    "m = mot\n",
    "a = -0.5 * m[0] * np.eye(3) + \\\n",
    "np.array([0.0, -m[1], m[2], \n",
    "          m[1], 0.0, -m[3],\n",
    "         -m[2], m[3], 0.0]).reshape(3,3)\n",
    "\n",
    "b = np.array([m[4], m[5], m[6]]).reshape(3,1)\n",
    "print a\n",
    "np.linalg.solve(a,b)"
   ]
  },
  {
   "cell_type": "code",
   "execution_count": null,
   "metadata": {
    "collapsed": false
   },
   "outputs": [],
   "source": [
    "pso?"
   ]
  },
  {
   "cell_type": "code",
   "execution_count": null,
   "metadata": {
    "collapsed": false
   },
   "outputs": [],
   "source": [
    "rotor = np.array([cos(pi/4),-sin(pi/4),1.0,1.0, 1.0,1.0,1.0]).reshape(7,1)\n",
    "# rotor = np.array([1.0, 0.0, 0.0,0.0]).reshape(4,1)\n",
    "vec = np.array([1.0, 0.0, 0.0]).reshape(3,1)\n",
    "rotate_point(rotor, vec)"
   ]
  },
  {
   "cell_type": "code",
   "execution_count": null,
   "metadata": {
    "collapsed": false
   },
   "outputs": [],
   "source": [
    "rotor[:4] /= 3.0\n",
    "rotor"
   ]
  }
 ],
 "metadata": {
  "kernelspec": {
   "display_name": "Python 2",
   "language": "python",
   "name": "python2"
  },
  "language_info": {
   "codemirror_mode": {
    "name": "ipython",
    "version": 2
   },
   "file_extension": ".py",
   "mimetype": "text/x-python",
   "name": "python",
   "nbconvert_exporter": "python",
   "pygments_lexer": "ipython2",
   "version": "2.7.6"
  }
 },
 "nbformat": 4,
 "nbformat_minor": 0
}
