{
 "cells": [
  {
   "cell_type": "code",
   "execution_count": 1,
   "metadata": {
    "collapsed": false
   },
   "outputs": [
    {
     "name": "stdout",
     "output_type": "stream",
     "text": [
      "Populating the interactive namespace from numpy and matplotlib\n"
     ]
    }
   ],
   "source": [
    "from __future__ import print_function\n",
    "import sys\n",
    "sys.path.append('../build/')\n",
    "%pylab inline\n",
    "np.set_printoptions(precision=4, suppress=True)\n",
    "import versor as vsr\n",
    "from versor.drawing import *\n",
    "from motor_estimation import MotorEstimationSolver"
   ]
  },
  {
   "cell_type": "code",
   "execution_count": 2,
   "metadata": {
    "collapsed": false
   },
   "outputs": [
    {
     "name": "stderr",
     "output_type": "stream",
     "text": [
      "Widget Javascript not detected.  It may not be installed properly. Did you enable the widgetsnbextension? If not, then run \"jupyter nbextension enable --py --sys-prefix widgetsnbextension\"\n"
     ]
    }
   ],
   "source": [
    "p1 = vsr.Vec(1,0,1).null()\n",
    "p2 = vsr.Vec(2,0.2,1).null()\n",
    "\n",
    "l1 = vsr.Dll(vsr.Vec(0,0,0).null(), vsr.Vec(1,0,0).null()).unit()\n",
    "\n",
    "theta = pi/6\n",
    "delta = 0.6\n",
    "\n",
    "\n",
    "m = vsr.Vec(1,1,delta).trs() * vsr.Biv(theta/2,0,0).exp()\n",
    "\n",
    "l1 = l1.spin(m)\n",
    "l2 = l1.spin(m)\n",
    "l3 = l2.comm(l1.rev())\n",
    "\n",
    "l1_dir = l1.dir().vec().unit()\n",
    "l1_loc = l1.loc(vsr.Vec(0,0,0).null()).vec()\n",
    "l2_dir = l2.dir().vec().unit()\n",
    "l2_loc = l2.loc(vsr.Vec(0,0,0).null()).vec()\n",
    "\n",
    "l4 = vsr.Dll(l3.loc(vsr.Vec(0,0,0).null()), l3.biv().duale().unit())\n",
    "\n",
    "p1 = l1.loc(l4.loc(vsr.Vec(0,0,0).null()))\n",
    "p2 = l2.loc(l4.loc(vsr.Vec(0,0,0).null()))\n",
    "\n",
    "p = ((p2.vec() + p1.vec()) * 0.5).null()\n",
    "\n",
    "# bisector\n",
    "\n",
    "lv = vsr.Dll(p, (l2_dir + l1_dir).unit())\n",
    "lw = vsr.Dll(p, (l2_dir-l1_dir).unit())\n",
    "\n",
    "\n",
    "l5 = l2 - l1\n",
    "\n",
    "scene = Scene(children=[\n",
    "        frame_mesh(),\n",
    "        line_mesh(l1, color=Colors.DEEPSKYBLUE),\n",
    "        point_mesh(p1,color=Colors.DEEPSKYBLUE),\n",
    "\n",
    "        line_mesh(l2, color=Colors.DEEPPINK),\n",
    "        point_mesh(p2,color=Colors.DEEPPINK),\n",
    "        \n",
    "        line_mesh(l3, color=Colors.BLACK),\n",
    "        \n",
    "        line_mesh(l5, color='lightgreen'),\n",
    "        \n",
    "        # midpoint\n",
    "        point_mesh(p, color='lightgreen'),\n",
    "\n",
    "        \n",
    "#         bivector_mesh(l3.biv(), color='red'),\n",
    "#         vector_mesh(B1.comm(bn.comm(B2) * delta), color='red'),\n",
    "        \n",
    "        line_mesh(lv, color='lightgreen'),\n",
    "\n",
    "        \n",
    "        AmbientLight(color='#777777')])\n",
    "\n",
    "camera = PerspectiveCamera(position=[0, 5, 5], up=[0, 0, 1],\n",
    "                      children=[DirectionalLight(color='white', \n",
    "                                                 position=[3, 5, 1], \n",
    "                                                 intensity=0.5)])\n",
    "# camera.children = []\n",
    "\n",
    "renderer = Renderer(camera=camera, \n",
    "                    scene=scene, \n",
    "                    controls=[TrackballControls(controlling=camera)],\n",
    "                    background = 'white')\n",
    "# renderer.width = '950'\n",
    "# renderer.height = '713'\n",
    "display(renderer)"
   ]
  },
  {
   "cell_type": "markdown",
   "metadata": {},
   "source": [
    "# Ground truth motor"
   ]
  },
  {
   "cell_type": "code",
   "execution_count": 3,
   "metadata": {
    "collapsed": false
   },
   "outputs": [
    {
     "name": "stdout",
     "output_type": "stream",
     "text": [
      "Mot: [ 0.87 -0.13 -0.27 -0.4 -0.16 -0.22 -0.12 0.021 ]\n"
     ]
    }
   ],
   "source": [
    "delta = 0.6\n",
    "theta = pi/6\n",
    "motor = (vsr.Vec(1,2,3).unit() * delta ).trs() * vsr.Rot(vsr.Biv(1,2,3).unit() * theta)\n",
    "print(motor)"
   ]
  },
  {
   "cell_type": "markdown",
   "metadata": {},
   "source": [
    "# Dataset"
   ]
  },
  {
   "cell_type": "code",
   "execution_count": 45,
   "metadata": {
    "collapsed": true
   },
   "outputs": [],
   "source": [
    "n_points = 10\n",
    "sigma = 0.09\n",
    "points_a = [(vsr.Vec(0,0,0).null(),\n",
    "             vsr.Vec(*np.random.normal(0.0, 0.8, 3)).null()  )\n",
    "            for i in range(n_points)]\n",
    "\n",
    "points_a_noisy = [(vsr.Vec(*(np.array(a)[:3] + sigma * np.random.randn(3))).null(),\n",
    "                   vsr.Vec(*(np.array(b)[:3] + sigma * np.random.randn(3))).null()) \n",
    "                  for a,b in points_a]\n",
    "\n",
    "lines_a = [vsr.Dll(a,b).unit() for (a,b) in points_a]\n",
    "lines_b = [line.spin(motor) for line in lines_a]"
   ]
  },
  {
   "cell_type": "markdown",
   "metadata": {},
   "source": [
    "# Estimate motor"
   ]
  },
  {
   "cell_type": "markdown",
   "metadata": {},
   "source": [
    "## Commutator"
   ]
  },
  {
   "cell_type": "code",
   "execution_count": 46,
   "metadata": {
    "collapsed": false
   },
   "outputs": [
    {
     "name": "stdout",
     "output_type": "stream",
     "text": [
      "\n",
      "Solver Summary (v 1.12.0-eigen-(3.3.1)-lapack-suitesparse-(4.5.3)-cxsparse-(3.1.9)-no_openmp)\n",
      "\n",
      "                                     Original                  Reduced\n",
      "Parameter blocks                            1                        1\n",
      "Parameters                                  8                        8\n",
      "Effective parameters                        6                        6\n",
      "Residual blocks                            10                       10\n",
      "Residual                                   60                       60\n",
      "\n",
      "Minimizer                        TRUST_REGION\n",
      "\n",
      "Dense linear algebra library            EIGEN\n",
      "Trust region strategy     LEVENBERG_MARQUARDT\n",
      "\n",
      "                                        Given                     Used\n",
      "Linear solver                        DENSE_QR                 DENSE_QR\n",
      "Threads                                     1                        1\n",
      "Linear solver threads                       1                        1\n",
      "Linear solver ordering              AUTOMATIC                        1\n",
      "\n",
      "Cost:\n",
      "Initial                          3.806419e+00\n",
      "Final                            1.061719e-23\n",
      "Change                           3.806419e+00\n",
      "\n",
      "Minimizer iterations                        5\n",
      "Successful steps                            5\n",
      "Unsuccessful steps                          0\n",
      "\n",
      "Time (in seconds):\n",
      "Preprocessor                           0.0000\n",
      "\n",
      "  Residual evaluation                  0.0000\n",
      "  Jacobian evaluation                  0.0001\n",
      "  Linear solver                        0.0000\n",
      "Minimizer                              0.0002\n",
      "\n",
      "Postprocessor                          0.0000\n",
      "Total                                  0.0003\n",
      "\n",
      "Termination:                      CONVERGENCE (Gradient tolerance reached. Gradient max norm: 1.421564e-11 <= 1.000000e-10)\n",
      "\n",
      "Mot: [ 0.87 -0.13 -0.27 -0.4 -0.16 -0.22 -0.12 0.021 ]\n"
     ]
    }
   ],
   "source": [
    "initial_motor = vsr.Mot(1.0, 0.0, 0.0, 0.0, 0.0, 0.0, 0.0, 0.0)\n",
    "mes = MotorEstimationSolver(initial_motor)\n",
    "for a, b in zip(lines_a, lines_b):\n",
    "#     mes.add_line_correspondences_residual_block(a,b)\n",
    "    mes.add_line_commutator_residual_block(a,b)\n",
    "mes.set_parameterization('BIVECTOR_GENERATOR')\n",
    "mes.linear_solver_type = 'DENSE_QR'\n",
    "(em_lines_6_res, summary_lines_6_res, _) = mes.solve()\n",
    "print(summary_lines_6_res['full_report'])\n",
    "print(em_lines_6_res)"
   ]
  },
  {
   "cell_type": "markdown",
   "metadata": {},
   "source": [
    "## Difference"
   ]
  },
  {
   "cell_type": "code",
   "execution_count": 47,
   "metadata": {
    "collapsed": false
   },
   "outputs": [
    {
     "name": "stdout",
     "output_type": "stream",
     "text": [
      "\n",
      "Solver Summary (v 1.12.0-eigen-(3.3.1)-lapack-suitesparse-(4.5.3)-cxsparse-(3.1.9)-no_openmp)\n",
      "\n",
      "                                     Original                  Reduced\n",
      "Parameter blocks                            1                        1\n",
      "Parameters                                  8                        8\n",
      "Effective parameters                        6                        6\n",
      "Residual blocks                            10                       10\n",
      "Residual                                   60                       60\n",
      "\n",
      "Minimizer                        TRUST_REGION\n",
      "\n",
      "Dense linear algebra library            EIGEN\n",
      "Trust region strategy     LEVENBERG_MARQUARDT\n",
      "\n",
      "                                        Given                     Used\n",
      "Linear solver                        DENSE_QR                 DENSE_QR\n",
      "Threads                                     1                        1\n",
      "Linear solver threads                       1                        1\n",
      "Linear solver ordering              AUTOMATIC                        1\n",
      "\n",
      "Cost:\n",
      "Initial                          4.658714e+00\n",
      "Final                            1.586341e-21\n",
      "Change                           4.658714e+00\n",
      "\n",
      "Minimizer iterations                        5\n",
      "Successful steps                            5\n",
      "Unsuccessful steps                          0\n",
      "\n",
      "Time (in seconds):\n",
      "Preprocessor                           0.0000\n",
      "\n",
      "  Residual evaluation                  0.0000\n",
      "  Jacobian evaluation                  0.0001\n",
      "  Linear solver                        0.0000\n",
      "Minimizer                              0.0002\n",
      "\n",
      "Postprocessor                          0.0000\n",
      "Total                                  0.0003\n",
      "\n",
      "Termination:                      CONVERGENCE (Parameter tolerance reached. Relative step_norm: 9.702036e-12 <= 1.000000e-08.)\n",
      "\n",
      "Mot: [ 0.87 -0.13 -0.27 -0.4 -0.16 -0.22 -0.12 0.021 ]\n"
     ]
    }
   ],
   "source": [
    "initial_motor = vsr.Mot(1.0, 0.0, 0.0, 0.0, 0.0, 0.0, 0.0, 0.0)\n",
    "mes = MotorEstimationSolver(initial_motor)\n",
    "for a, b in zip(lines_a, lines_b):\n",
    "    mes.add_line_correspondences_residual_block(a,b)\n",
    "mes.set_parameterization('BIVECTOR_GENERATOR')\n",
    "mes.linear_solver_type = 'DENSE_QR'\n",
    "(em_lines_6_res, summary_lines_6_res, _) = mes.solve()\n",
    "print(summary_lines_6_res['full_report'])\n",
    "print(em_lines_6_res)"
   ]
  },
  {
   "cell_type": "code",
   "execution_count": null,
   "metadata": {
    "collapsed": true
   },
   "outputs": [],
   "source": []
  },
  {
   "cell_type": "markdown",
   "metadata": {},
   "source": [
    "# Gauss-Newton"
   ]
  },
  {
   "cell_type": "markdown",
   "metadata": {},
   "source": [
    "## Commutator"
   ]
  },
  {
   "cell_type": "code",
   "execution_count": 48,
   "metadata": {
    "collapsed": true
   },
   "outputs": [],
   "source": [
    "Jci = lambda ei, M, l1, l2 : np.array((ei.comm(l1.spin(M))).comm(l2)) * 2"
   ]
  },
  {
   "cell_type": "code",
   "execution_count": 49,
   "metadata": {
    "collapsed": false
   },
   "outputs": [],
   "source": [
    "fci = lambda M, l1, l2 : np.array(l1.spin(M).comm(l2)).reshape(6,1)"
   ]
  },
  {
   "cell_type": "code",
   "execution_count": 51,
   "metadata": {
    "collapsed": false
   },
   "outputs": [
    {
     "name": "stdout",
     "output_type": "stream",
     "text": [
      "[[-0.2415  0.6384 -1.2999  0.      0.      0.    ]\n",
      " [-0.4147 -1.3964  0.6421  0.      0.      0.    ]\n",
      " [-0.3596 -0.2734 -0.5243  0.      0.      0.    ]\n",
      " [-0.1347 -0.3255  0.0609 -0.5243  0.2734 -0.3596]\n",
      " [ 0.1554  0.0677  0.2847 -0.6421 -1.3964  0.4147]\n",
      " [ 0.6223  0.76    0.5764 -1.2999 -0.6384 -0.2415]\n",
      " [-0.8374  1.4175  0.373   0.      0.      0.    ]\n",
      " [ 0.338  -0.941   0.169   0.      0.      0.    ]\n",
      " [ 0.3901  0.7413 -1.3883  0.      0.      0.    ]\n",
      " [-0.1814 -0.0313  0.374  -1.3883 -0.7413  0.3901]\n",
      " [ 0.1572  0.1348 -0.4174 -0.169  -0.941  -0.338 ]\n",
      " [-0.4546 -0.0598  0.9212  0.373  -1.4175 -0.8374]\n",
      " [-1.3189  0.1032  0.0501  0.      0.      0.    ]\n",
      " [-1.2562  0.1578  0.6718  0.      0.      0.    ]\n",
      " [ 0.1198 -0.1319 -1.2893  0.      0.      0.    ]\n",
      " [ 0.0417  0.05    0.5573 -1.2893  0.1319  0.1198]\n",
      " [ 0.4372 -0.0577 -0.2624 -0.6718  0.1578  1.2562]\n",
      " [ 0.5497 -0.0392  0.0196  0.0501 -0.1032 -1.3189]\n",
      " [-1.865   0.245   0.3974  0.      0.      0.    ]\n",
      " [ 0.2851 -1.4766  0.8469  0.      0.      0.    ]\n",
      " [ 0.452   0.828  -0.656   0.      0.      0.    ]\n",
      " [-0.5634 -0.5735  0.5284 -0.656  -0.828   0.452 ]\n",
      " [ 0.3553  0.3765 -0.3426 -0.8469 -1.4766 -0.2851]\n",
      " [-0.1816 -0.1697  0.1608  0.3974 -0.245  -1.865 ]\n",
      " [-1.0453  0.9277 -1.213   0.      0.      0.    ]\n",
      " [ 0.0011 -1.0713 -0.0275  0.      0.      0.    ]\n",
      " [-0.0397 -0.7834 -0.068   0.      0.      0.    ]\n",
      " [-0.2029 -0.4991 -0.2537 -0.068   0.7834 -0.0397]\n",
      " [-0.0054 -0.1493 -0.0104  0.0275 -1.0713 -0.0011]\n",
      " [ 0.3762  0.5911  0.4613 -1.213  -0.9277 -1.0453]\n",
      " [-1.6665  0.5108  0.2373  0.      0.      0.    ]\n",
      " [-0.7116  0.1558  0.7407  0.      0.      0.    ]\n",
      " [-0.0694  0.1555 -1.3663  0.      0.      0.    ]\n",
      " [-0.0481 -0.0459  0.6284 -1.3663 -0.1555 -0.0694]\n",
      " [ 0.4932 -0.1055 -0.5387 -0.7407  0.1558  0.7116]\n",
      " [ 0.4179 -0.1507  0.1726  0.2373 -0.5108 -1.6665]\n",
      " [-1.0151  1.6073 -0.5757  0.      0.      0.    ]\n",
      " [ 0.0217 -0.2303 -0.2962  0.      0.      0.    ]\n",
      " [-0.0138 -0.5251 -0.8692  0.      0.      0.    ]\n",
      " [ 0.0239 -0.0927 -0.0729 -0.8692  0.5251 -0.0138]\n",
      " [ 0.0376 -0.3301 -0.4048  0.2962 -0.2303 -0.0217]\n",
      " [ 0.111   0.2837  0.7868 -0.5757 -1.6073 -1.0151]\n",
      " [-1.4109  0.2703 -0.2497  0.      0.      0.    ]\n",
      " [-0.7171 -0.4906 -0.5486  0.      0.      0.    ]\n",
      " [ 1.0679 -0.8844 -0.2675  0.      0.      0.    ]\n",
      " [-0.1202 -0.2218 -0.1857 -0.2675  0.8844  1.0679]\n",
      " [-0.0807 -0.0462 -0.0557  0.5486 -0.4906  0.7171]\n",
      " [-0.066   0.0678  0.0254 -0.2497 -0.2703 -1.4109]\n",
      " [-1.2819 -0.0199  0.1406  0.      0.      0.    ]\n",
      " [-0.375  -1.4036 -0.3165  0.      0.      0.    ]\n",
      " [ 1.4657 -0.1755 -0.2114  0.      0.      0.    ]\n",
      " [-0.3686 -0.36   -0.0502 -0.2114  0.1755  1.4657]\n",
      " [-0.0943  0.3438  0.0987  0.3165 -1.4036  0.375 ]\n",
      " [-0.4778 -0.0409  0.0438  0.1406  0.0199 -1.2819]\n",
      " [ 0.4139  0.3561 -0.5884  0.      0.      0.    ]\n",
      " [-1.0467 -1.2667  0.4344  0.      0.      0.    ]\n",
      " [ 0.3641  0.0914 -1.1549  0.      0.      0.    ]\n",
      " [ 0.0338  0.1311  0.2452 -1.1549 -0.0914  0.3641]\n",
      " [ 0.0972  0.2923  0.4621 -0.4344 -1.2667  1.0467]\n",
      " [ 0.2161  0.5104  0.626  -0.5884 -0.3561  0.4139]]\n",
      "[[-1.6206  0.2565 -0.5224  0.      0.      0.    ]\n",
      " [ 0.5022 -1.5762 -0.7775  0.      0.      0.    ]\n",
      " [-0.8001 -0.6083 -0.7192  0.      0.      0.    ]\n",
      " [ 0.1345 -0.3941 -1.1871 -0.7192  0.6083 -0.8001]\n",
      " [-0.7698 -0.9312  0.5559  0.7775 -1.5762 -0.5022]\n",
      " [ 0.3247  0.43   -0.0221 -0.5224 -0.2565 -1.6206]\n",
      " [-1.6605  0.6267  0.1649  0.      0.      0.    ]\n",
      " [ 0.8161 -0.4394  0.4081  0.      0.      0.    ]\n",
      " [ 0.2191  0.4164 -1.8807  0.      0.      0.    ]\n",
      " [ 0.5269  1.1773  0.6018 -1.8807 -0.4164  0.2191]\n",
      " [ 0.4399  0.1632 -0.9777 -0.4081 -0.4394 -0.8161]\n",
      " [-0.4048 -0.5363  0.2731  0.1649 -0.6267 -1.6605]\n",
      " [-1.1227 -0.928  -0.4508  0.      0.      0.    ]\n",
      " [-0.7281 -1.164   0.3894  0.      0.      0.    ]\n",
      " [-0.6004  0.661  -1.6446  0.      0.      0.    ]\n",
      " [-0.3698 -0.0737  0.2615 -1.6446 -0.661  -0.6004]\n",
      " [-0.3212  0.8867  0.1552 -0.3894 -1.164   0.7281]\n",
      " [ 0.7253 -0.0684 -0.3803 -0.4508  0.928  -1.1227]\n",
      " [-1.8235  0.3192  0.5177  0.      0.      0.    ]\n",
      " [ 0.2651 -1.5123  0.7874  0.      0.      0.    ]\n",
      " [ 0.4504  0.825  -0.6598  0.      0.      0.    ]\n",
      " [-0.3336 -0.1541  1.2176 -0.6598 -0.825   0.4504]\n",
      " [ 0.5725  0.7803  0.4007 -0.7874 -1.5123 -0.2651]\n",
      " [-0.4384 -0.6252 -0.4458  0.5177 -0.3192 -1.8235]\n",
      " [-1.9681 -0.1917  0.2507  0.      0.      0.    ]\n",
      " [ 0.0405 -1.1589 -1.0455  0.      0.      0.    ]\n",
      " [-0.0452 -0.8937 -0.7899  0.      0.      0.    ]\n",
      " [-0.2095 -0.1346 -0.9827 -0.7899  0.8937 -0.0452]\n",
      " [-0.2332 -1.0562  0.2777  1.0455 -1.1589 -0.0405]\n",
      " [-0.0129  0.005  -0.2616  0.2507  0.1917 -1.9681]\n",
      " [-1.6571 -0.7146 -0.332   0.      0.      0.    ]\n",
      " [-0.5632 -0.7143  0.5862  0.      0.      0.    ]\n",
      " [-0.3798  0.8508 -1.5808  0.      0.      0.    ]\n",
      " [-0.5048  0.2901  0.5876 -1.5808 -0.8508 -0.3798]\n",
      " [ 0.077   1.0256 -0.1003 -0.5862 -0.7143  0.5632]\n",
      " [ 0.5353 -0.3841 -0.5179 -0.332   0.7146 -1.6571]\n",
      " [-1.9714 -0.2729  0.0977  0.      0.      0.    ]\n",
      " [ 0.0473 -0.1646 -0.6446  0.      0.      0.    ]\n",
      " [-0.0126 -0.4795 -1.7924  0.      0.      0.    ]\n",
      " [ 0.049   0.9498 -0.5607 -1.7924  0.4795 -0.0126]\n",
      " [ 0.0756 -0.5995 -0.7959  0.6446 -0.1646 -0.0473]\n",
      " [ 0.0503 -0.301  -0.043   0.0977  0.2729 -1.9714]\n",
      " [-0.9078 -0.8715  0.805   0.      0.      0.    ]\n",
      " [-0.6421 -1.4284 -0.4912  0.      0.      0.    ]\n",
      " [ 0.4916 -0.4071 -1.584   0.      0.      0.    ]\n",
      " [-0.0884 -0.0747 -0.0439 -1.584   0.4071  0.4916]\n",
      " [-0.01   -0.2045 -0.0022  0.4912 -1.4284  0.6421]\n",
      " [-0.1214 -0.1999 -0.099   0.805   0.8715 -0.9078]\n",
      " [-0.6867 -0.1544  1.0881  0.      0.      0.    ]\n",
      " [-0.0404 -1.9712 -0.0341  0.      0.      0.    ]\n",
      " [ 0.808  -0.0967 -1.2941  0.      0.      0.    ]\n",
      " [ 0.2251 -0.2498  0.5645 -1.2941  0.0967  0.808 ]\n",
      " [ 0.1954 -0.025   0.1841  0.0341 -1.9712  0.0404]\n",
      " [-0.6086 -0.2838  0.1073  1.0881  0.1544 -0.6867]\n",
      " [-0.5155  0.3628 -0.5995  0.      0.      0.    ]\n",
      " [ 0.6762 -1.7903 -0.2806  0.      0.      0.    ]\n",
      " [-0.833  -0.2092 -1.6145  0.      0.      0.    ]\n",
      " [ 0.8558 -0.0655 -0.7286 -1.6145  0.2092 -0.833 ]\n",
      " [-0.9245 -0.4862  0.0591  0.2806 -1.7903 -0.6762]\n",
      " [ 0.2952  0.5539  0.582  -0.5995 -0.3628 -0.5155]]\n",
      "[[-1.4976  0.3819 -0.7778  0.      0.      0.    ]\n",
      " [ 0.3823 -1.7093 -0.5919  0.      0.      0.    ]\n",
      " [-0.7796 -0.5927 -0.793   0.      0.      0.    ]\n",
      " [ 0.0534 -0.443  -1.0699 -0.793   0.5927 -0.7796]\n",
      " [-0.5961 -0.6904  0.4387  0.5919 -1.7093 -0.3823]\n",
      " [ 0.3796  0.6002  0.0485 -0.7778 -0.3819 -1.4976]\n",
      " [-1.5875  0.7839  0.2062  0.      0.      0.    ]\n",
      " [ 0.7814 -0.5152  0.3907  0.      0.      0.    ]\n",
      " [ 0.2054  0.3903 -1.8973  0.      0.      0.    ]\n",
      " [ 0.4122  0.9483  0.5075 -1.8973 -0.3903  0.2054]\n",
      " [ 0.3969  0.1262 -0.9482 -0.3907 -0.5152 -0.7814]\n",
      " [-0.3812 -0.393   0.4147  0.2062 -0.7839 -1.5875]\n",
      " [-1.2009 -0.8798 -0.4274  0.      0.      0.    ]\n",
      " [-0.8821 -1.0289  0.4717  0.      0.      0.    ]\n",
      " [-0.4297  0.473  -1.7702  0.      0.      0.    ]\n",
      " [-0.3144  0.0021  0.1779 -1.7702 -0.473  -0.4297]\n",
      " [-0.0249  0.7338 -0.0068 -0.4717 -1.0289  0.8821]\n",
      " [ 0.5558  0.0281 -0.3154 -0.4274  0.8798 -1.2009]\n",
      " [-1.8473  0.2797  0.4536  0.      0.      0.    ]\n",
      " [ 0.2777 -1.4914  0.8248  0.      0.      0.    ]\n",
      " [ 0.4507  0.8255 -0.6613  0.      0.      0.    ]\n",
      " [-0.3793 -0.2377  1.0834 -0.6613 -0.8255  0.4507]\n",
      " [ 0.538   0.7039  0.2366 -0.8248 -1.4914 -0.2777]\n",
      " [-0.3795 -0.5403 -0.3786  0.4536 -0.2797 -1.8473]\n",
      " [-1.9981  0.0366 -0.0479  0.      0.      0.    ]\n",
      " [ 0.0373 -1.2623 -0.9646  0.      0.      0.    ]\n",
      " [-0.0488 -0.964  -0.7395  0.      0.      0.    ]\n",
      " [-0.2312 -0.2488 -0.9572 -0.7395  0.964  -0.0488]\n",
      " [-0.2147 -0.9379  0.2449  0.9646 -1.2623 -0.0373]\n",
      " [ 0.0193  0.2183 -0.2367 -0.0479 -0.0366 -1.9981]\n",
      " [-1.7195 -0.6285 -0.292   0.      0.      0.    ]\n",
      " [-0.631  -0.5863  0.6568  0.      0.      0.    ]\n",
      " [-0.2937  0.6581 -1.6943  0.      0.      0.    ]\n",
      " [-0.4155  0.2806  0.443  -1.6943 -0.6581 -0.2937]\n",
      " [ 0.2523  0.8316 -0.2852 -0.6568 -0.5863  0.631 ]\n",
      " [ 0.3887 -0.2497 -0.4145 -0.292   0.6285 -1.7195]\n",
      " [-1.9988  0.0474 -0.017   0.      0.      0.    ]\n",
      " [ 0.0466 -0.2283 -0.6346  0.      0.      0.    ]\n",
      " [-0.0167 -0.6339 -1.7729  0.      0.      0.    ]\n",
      " [ 0.0516  0.7527 -0.62   -1.7729  0.6339 -0.0167]\n",
      " [ 0.0724 -0.6241 -0.7557  0.6346 -0.2283 -0.0466]\n",
      " [-0.0041 -0.0662  0.0499 -0.017  -0.0474 -1.9988]\n",
      " [-1.1191 -0.7295  0.6739  0.      0.      0.    ]\n",
      " [-0.7304 -1.3951 -0.5588  0.      0.      0.    ]\n",
      " [ 0.6721 -0.5567 -1.4858  0.      0.      0.    ]\n",
      " [-0.1414 -0.0851 -0.1026 -1.4858  0.5567  0.6721]\n",
      " [ 0.1012 -0.3036  0.0836  0.5588 -1.3951  0.7304]\n",
      " [-0.201  -0.0986 -0.1464  0.6739  0.7295 -1.1191]\n",
      " [-0.8403 -0.1388  0.9787  0.      0.      0.    ]\n",
      " [-0.1402 -1.9832 -0.1183  0.      0.      0.    ]\n",
      " [ 0.9758 -0.1168 -1.1764  0.      0.      0.    ]\n",
      " [ 0.0617 -0.2765  0.516  -1.1764  0.1168  0.9758]\n",
      " [ 0.2498 -0.0686  0.2775  0.1183 -1.9832  0.1402]\n",
      " [-0.5845 -0.2498  0.0579  0.9787  0.1388 -0.8403]\n",
      " [-0.3815  0.4065 -0.6716  0.      0.      0.    ]\n",
      " [ 0.4053 -1.8982 -0.1682  0.      0.      0.    ]\n",
      " [-0.6741 -0.1693 -1.7202  0.      0.      0.    ]\n",
      " [ 0.6541 -0.0627 -0.5951 -1.7202  0.1693 -0.6741]\n",
      " [-0.6158 -0.2911  0.061   0.1682 -1.8982 -0.4053]\n",
      " [ 0.304   0.6213  0.6508 -0.6716 -0.4065 -0.3815]]\n",
      "[[-1.4969  0.3825 -0.779   0.      0.      0.    ]\n",
      " [ 0.3825 -1.7092 -0.5922  0.      0.      0.    ]\n",
      " [-0.779  -0.5922 -0.794   0.      0.      0.    ]\n",
      " [ 0.0536 -0.4425 -1.0695 -0.794   0.5922 -0.779 ]\n",
      " [-0.5987 -0.6925  0.4425  0.5922 -1.7092 -0.3825]\n",
      " [ 0.377   0.5987  0.0536 -0.779  -0.3825 -1.4969]\n",
      " [-1.5886  0.7818  0.2057  0.      0.      0.    ]\n",
      " [ 0.7818 -0.5143  0.3909  0.      0.      0.    ]\n",
      " [ 0.2057  0.3909 -1.8971  0.      0.      0.    ]\n",
      " [ 0.4124  0.949   0.5081 -1.8971 -0.3909  0.2057]\n",
      " [ 0.3966  0.1254 -0.949  -0.3909 -0.5143 -0.7818]\n",
      " [-0.3827 -0.3966  0.4124  0.2057 -0.7818 -1.5886]\n",
      " [-1.1994 -0.8814 -0.4282  0.      0.      0.    ]\n",
      " [-0.8814 -1.0296  0.4714  0.      0.      0.    ]\n",
      " [-0.4282  0.4714 -1.771   0.      0.      0.    ]\n",
      " [-0.3163  0.0053  0.1789 -1.771  -0.4714 -0.4282]\n",
      " [-0.0276  0.7362 -0.0053 -0.4714 -1.0296  0.8814]\n",
      " [ 0.5573  0.0276 -0.3163 -0.4282  0.8814 -1.1994]\n",
      " [-1.8482  0.278   0.4508  0.      0.      0.    ]\n",
      " [ 0.278  -1.4909  0.8257  0.      0.      0.    ]\n",
      " [ 0.4508  0.8257 -0.6609  0.      0.      0.    ]\n",
      " [-0.3795 -0.2378  1.0836 -0.6609 -0.8257  0.4508]\n",
      " [ 0.539   0.7053  0.2378 -0.8257 -1.4909 -0.278 ]\n",
      " [-0.3783 -0.539  -0.3795  0.4508 -0.278  -1.8482]\n",
      " [-1.9981  0.0373 -0.0488  0.      0.      0.    ]\n",
      " [ 0.0373 -1.2626 -0.9642  0.      0.      0.    ]\n",
      " [-0.0488 -0.9642 -0.7393  0.      0.      0.    ]\n",
      " [-0.2312 -0.2476 -0.959  -0.7393  0.9642 -0.0488]\n",
      " [-0.2148 -0.9396  0.2476  0.9642 -1.2626 -0.0373]\n",
      " [ 0.0193  0.2148 -0.2312 -0.0488 -0.0373 -1.9981]\n",
      " [-1.7184 -0.6309 -0.2931  0.      0.      0.    ]\n",
      " [-0.6309 -0.5866  0.6566  0.      0.      0.    ]\n",
      " [-0.2931  0.6566 -1.6949  0.      0.      0.    ]\n",
      " [-0.4163  0.2838  0.4438 -1.6949 -0.6566 -0.2931]\n",
      " [ 0.2511  0.8341 -0.2838 -0.6566 -0.5866  0.6309]\n",
      " [ 0.3903 -0.2511 -0.4163 -0.2931  0.6309 -1.7184]\n",
      " [-1.9988  0.0466 -0.0167  0.      0.      0.    ]\n",
      " [ 0.0466 -0.2285 -0.6345  0.      0.      0.    ]\n",
      " [-0.0167 -0.6345 -1.7727  0.      0.      0.    ]\n",
      " [ 0.0517  0.7552 -0.6212 -1.7727  0.6345 -0.0167]\n",
      " [ 0.0724 -0.6254 -0.7552  0.6345 -0.2285 -0.0466]\n",
      " [-0.0042 -0.0724  0.0517 -0.0167 -0.0466 -1.9988]\n",
      " [-1.1194 -0.7293  0.6737  0.      0.      0.    ]\n",
      " [-0.7293 -1.396  -0.5579  0.      0.      0.    ]\n",
      " [ 0.6737 -0.5579 -1.4846  0.      0.      0.    ]\n",
      " [-0.1443 -0.0833 -0.1047 -1.4846  0.5579  0.6737]\n",
      " [ 0.1008 -0.3029  0.0833  0.5579 -1.396   0.7293]\n",
      " [-0.1982 -0.1008 -0.1443  0.6737  0.7293 -1.1194]\n",
      " [-0.8416 -0.1387  0.9776  0.      0.      0.    ]\n",
      " [-0.1387 -1.9834 -0.117   0.      0.      0.    ]\n",
      " [ 0.9776 -0.117  -1.175   0.      0.      0.    ]\n",
      " [ 0.059  -0.2766  0.5144 -1.175   0.117   0.9776]\n",
      " [ 0.2497 -0.0681  0.2766  0.117  -1.9834  0.1387]\n",
      " [-0.5826 -0.2497  0.059   0.9776  0.1387 -0.8416]\n",
      " [-0.3809  0.4066 -0.6719  0.      0.      0.    ]\n",
      " [ 0.4066 -1.8979 -0.1687  0.      0.      0.    ]\n",
      " [-0.6719 -0.1687 -1.7212  0.      0.      0.    ]\n",
      " [ 0.6525 -0.0624 -0.5933 -1.7212  0.1687 -0.6719]\n",
      " [-0.6206 -0.2928  0.0624  0.1687 -1.8979 -0.4066]\n",
      " [ 0.3006  0.6206  0.6525 -0.6719 -0.4066 -0.3809]]\n",
      "r:  7.24311991038e-13\n",
      "3\n",
      "Mot: [ 0.87 -0.13 -0.27 -0.4 -0.16 -0.22 -0.12 0.021 ]\n"
     ]
    }
   ],
   "source": [
    "M = initial_motor\n",
    "eps1 = 1e-6\n",
    "eps2 = 1e-6\n",
    "rsc = []\n",
    "for i in range(10):\n",
    "    k = len(rsc)\n",
    "    Jc = np.array([np.array([Jci(ei, M, a, b) for ei in [vsr.Dll(1,0,0,0,0,0), \n",
    "                                                         vsr.Dll(0,1,0,0,0,0),\n",
    "                                                         vsr.Dll(0,0,1,0,0,0),\n",
    "                                                         vsr.Dll(0,0,0,1,0,0),\n",
    "                                                         vsr.Dll(0,0,0,0,1,0),\n",
    "                                                         vsr.Dll(0,0,0,0,0,1)]]).reshape(6,6).T \n",
    "                for a, b in zip(lines_a, lines_b)]).reshape(-1,6)\n",
    "    print(Jc)\n",
    "    fc = np.array([fci(M,a,b) for a, b in zip(lines_a, lines_b)]).reshape(-1,1)\n",
    "    A = np.dot(Jc.T,Jc)\n",
    "    g = np.dot(Jc.T, fc)\n",
    "    r = np.dot(fc.T,fc)[0][0] / 2\n",
    "    rsc.append(r)\n",
    "    if r < 1e-6:\n",
    "        break\n",
    "    h = np.dot(np.linalg.pinv(A), -g)\n",
    "    B = vsr.Dll(*h)\n",
    "    M = B.exp() * M\n",
    "print('r: ', r)\n",
    "print(k)    \n",
    "print(M)"
   ]
  },
  {
   "cell_type": "code",
   "execution_count": 10,
   "metadata": {
    "collapsed": false
   },
   "outputs": [
    {
     "name": "stdout",
     "output_type": "stream",
     "text": [
      "r:  7.74902653587e-13\n",
      "3\n",
      "Mot: [ 0.87 -0.13 -0.27 -0.4 -0.16 -0.22 -0.12 0.021 ]\n"
     ]
    }
   ],
   "source": [
    "Jci = lambda ei, M, l1, l2 : np.array(((ei.comm(l1.spin(M))).comm(l2)).mot().dll()) * 2\n",
    "fci = lambda M, l1, l2 : np.array((l1.spin(M).comm(l2)).mot().dll()).reshape(6,1)\n",
    "M = initial_motor\n",
    "eps1 = 1e-6\n",
    "eps2 = 1e-6\n",
    "rsc = []\n",
    "for i in range(10):\n",
    "    k = len(rsc)\n",
    "    Jc = np.array([np.array([Jci(vsr.CGA(ei), \n",
    "                                 vsr.CGA(M), \n",
    "                                 vsr.CGA(a.undual()),\n",
    "                                 vsr.CGA(b.undual())) for ei in [vsr.Dll(1,0,0,0,0,0), \n",
    "                                                      vsr.Dll(0,1,0,0,0,0),\n",
    "                                                      vsr.Dll(0,0,1,0,0,0),\n",
    "                                                      vsr.Dll(0,0,0,1,0,0),\n",
    "                                                      vsr.Dll(0,0,0,0,1,0),\n",
    "                                                      vsr.Dll(0,0,0,0,0,1)]]).reshape(6,6).T \n",
    "                for a, b in zip(lines_a, lines_b)]).reshape(-1,6)\n",
    "    fc = np.array([fci(vsr.CGA(M),\n",
    "                       vsr.CGA(a.undual()),\n",
    "                       vsr.CGA(b.undual())) for a, b in zip(lines_a, lines_b)]).reshape(-1,1)\n",
    "\n",
    "    A = np.dot(Jc.T,Jc)\n",
    "    g = np.dot(Jc.T,fc)\n",
    "    r = np.dot(fc.T,fc)[0][0] / 2\n",
    "    rsc.append(r)\n",
    "    if r < 1e-6:\n",
    "        break\n",
    "    h = np.dot(np.linalg.pinv(A), -g)\n",
    "    B = vsr.Dll(*h)\n",
    "    M = B.exp() * M\n",
    "print('r: ', r)\n",
    "print(k)    \n",
    "print(M)"
   ]
  },
  {
   "cell_type": "markdown",
   "metadata": {},
   "source": [
    "## Difference"
   ]
  },
  {
   "cell_type": "code",
   "execution_count": 11,
   "metadata": {
    "collapsed": true
   },
   "outputs": [],
   "source": [
    "Jdi = lambda ei, M, l1, l2 : np.array((ei.comm(l1.spin(M)))) * 2"
   ]
  },
  {
   "cell_type": "code",
   "execution_count": 12,
   "metadata": {
    "collapsed": true
   },
   "outputs": [],
   "source": [
    "fdi = lambda M, l1, l2 : np.array(l1.spin(M) - l2).reshape(6,1)"
   ]
  },
  {
   "cell_type": "code",
   "execution_count": 13,
   "metadata": {
    "collapsed": false
   },
   "outputs": [
    {
     "name": "stdout",
     "output_type": "stream",
     "text": [
      "r:  6.24767391636e-11\n",
      "3\n",
      "Mot: [ 0.87 -0.13 -0.27 -0.4 -0.16 -0.22 -0.12 0.021 ]\n"
     ]
    }
   ],
   "source": [
    "M = initial_motor\n",
    "rsd = []\n",
    "for i in range(10):\n",
    "    k = len(rsd)\n",
    "    Jd = np.array([np.array([Jdi(ei, M, a, b) for ei in [vsr.Dll(1,0,0,0,0,0), \n",
    "                                                      vsr.Dll(0,1,0,0,0,0),\n",
    "                                                      vsr.Dll(0,0,1,0,0,0),\n",
    "                                                      vsr.Dll(0,0,0,1,0,0),\n",
    "                                                      vsr.Dll(0,0,0,0,1,0),\n",
    "                                                      vsr.Dll(0,0,0,0,0,1)]]).reshape(6,6).T \n",
    "                for a, b in zip(lines_a, lines_b)]).reshape(-1,6)\n",
    "    fd = np.array([fdi(M,a,b) for a, b in zip(lines_a, lines_b)]).reshape(-1,1)\n",
    "    A = np.dot(Jd.T,Jd)\n",
    "    g = np.dot(Jd.T, fd)\n",
    "    r = np.dot(fd.T,fd)[0][0] / 2\n",
    "    rsd.append(r)\n",
    "    if r < 1e-6:\n",
    "        print('r: ', r)\n",
    "        break\n",
    "    h = np.dot(np.linalg.pinv(A), -g)\n",
    "    B = vsr.Dll(*h)\n",
    "    M = B.exp() * M\n",
    "print(k)\n",
    "print(M)"
   ]
  },
  {
   "cell_type": "code",
   "execution_count": 14,
   "metadata": {
    "collapsed": false
   },
   "outputs": [
    {
     "data": {
      "text/plain": [
       "<matplotlib.text.Text at 0x10ae7acf8>"
      ]
     },
     "execution_count": 14,
     "metadata": {},
     "output_type": "execute_result"
    },
    {
     "data": {
      "image/png": "[encoded data removed]",
      "text/plain": [
       "<matplotlib.figure.Figure at 0x10ae84a90>"
      ]
     },
     "metadata": {},
     "output_type": "display_data"
    }
   ],
   "source": [
    "fig, ax = plt.subplots(1)\n",
    "ax.plot(rsc, label=r'Commutator')\n",
    "ax.plot(rsd, label=r'Difference')\n",
    "ax.semilogy()\n",
    "legend = ax.legend(frameon=False)\n",
    "ax.xaxis.set_major_locator(MaxNLocator(integer=True))\n",
    "plt.xlabel(r'Iteration k')\n",
    "plt.ylabel(r'Cost')\n",
    "# plt.savefig('lines-cost-engage.eps')"
   ]
  },
  {
   "cell_type": "markdown",
   "metadata": {},
   "source": [
    "## Planes"
   ]
  },
  {
   "cell_type": "code",
   "execution_count": 15,
   "metadata": {
    "collapsed": true
   },
   "outputs": [],
   "source": [
    "n_planes = 10\n",
    "planes_a = []\n",
    "for i in range(10):\n",
    "    dir_vec = np.random.normal(0.0, 0.8, 4)\n",
    "    dir_vec = dir_vec / np.linalg.norm(dir_vec)\n",
    "    distance = np.random.normal(0.0, 0.8,1)\n",
    "    arr = dir_vec + distance\n",
    "    planes_a.append(vsr.Dlp(dir_vec[0],dir_vec[1],dir_vec[2],distance[0]))\n",
    "planes_b = [plane.spin(motor) for plane in planes_a]"
   ]
  },
  {
   "cell_type": "code",
   "execution_count": 53,
   "metadata": {
    "collapsed": true
   },
   "outputs": [],
   "source": [
    "Jci = lambda ei, M, l1, l2 : np.array(((ei.comm(l1.spin(M))).comm(l2)).mot().dll()) * 2\n",
    "fci = lambda M, l1, l2 : np.array((l1.spin(M).comm(l2)).mot().dll()).reshape(6,1)"
   ]
  },
  {
   "cell_type": "code",
   "execution_count": 54,
   "metadata": {
    "collapsed": false
   },
   "outputs": [
    {
     "name": "stdout",
     "output_type": "stream",
     "text": [
      "[[ 0.178   0.0368  0.0289  0.      0.      0.    ]\n",
      " [ 0.3183  0.0365 -0.1568  0.      0.      0.    ]\n",
      " [-0.045   0.0283  0.2588  0.      0.      0.    ]\n",
      " [-1.4015 -0.258   0.     -0.0222 -0.1568 -0.0289]\n",
      " [ 0.198   0.     -0.258   0.0283  0.2001  0.0368]\n",
      " [ 0.      0.198   1.4015  0.045   0.3183  0.0586]\n",
      " [ 1.4553  0.0637  0.2804  0.      0.      0.    ]\n",
      " [ 0.0022  1.2498 -0.908   0.      0.      0.    ]\n",
      " [ 0.003  -0.2836  0.2069  0.      0.      0.    ]\n",
      " [-0.4951 -0.1529  0.      1.2491 -0.908  -0.2804]\n",
      " [-0.6811  0.     -0.1529 -0.2836  0.2062  0.0637]\n",
      " [ 0.     -0.6811  0.4951 -0.003   0.0022  0.0007]\n",
      " [ 0.6868 -0.4229  1.1042  0.      0.      0.    ]\n",
      " [ 0.1613  1.226  -0.5293  0.      0.      0.    ]\n",
      " [ 0.271   0.3406  0.1338  0.      0.      0.    ]\n",
      " [-0.629  -1.3121  0.      0.8895 -0.5293 -1.1042]\n",
      " [-1.0569  0.     -1.3121  0.3406 -0.2027 -0.4229]\n",
      " [ 0.     -1.0569  0.629  -0.271   0.1613  0.3365]\n",
      " [-0.0957 -0.5755  0.6923  0.      0.      0.    ]\n",
      " [ 0.2564  0.8254 -0.2484  0.      0.      0.    ]\n",
      " [ 0.1143  0.092   0.5082  0.      0.      0.    ]\n",
      " [-0.0145 -0.0403  0.      0.1107 -0.2484 -0.6923]\n",
      " [-0.0064  0.     -0.0403  0.092  -0.2065 -0.5755]\n",
      " [ 0.     -0.0064  0.0145 -0.1143  0.2564  0.7147]\n",
      " [ 0.8963 -0.3738  0.1455  0.      0.      0.    ]\n",
      " [ 0.5009 -0.0593  0.2649  0.      0.      0.    ]\n",
      " [-0.4085  0.5547  0.4051  0.      0.      0.    ]\n",
      " [ 0.2422 -0.1331  0.      0.216   0.2649 -0.1455]\n",
      " [-0.1975  0.     -0.1331  0.5547  0.6804 -0.3738]\n",
      " [ 0.     -0.1975 -0.2422  0.4085  0.5009 -0.2752]\n",
      " [ 0.4898 -0.1614 -0.3509  0.      0.      0.    ]\n",
      " [ 0.5341  1.4641  0.214   0.      0.      0.    ]\n",
      " [-1.4685 -0.2707  0.7774  0.      0.      0.    ]\n",
      " [-0.3654 -0.5991  0.      0.5883  0.214   0.3509]\n",
      " [ 1.0045  0.     -0.5991 -0.2707 -0.0985 -0.1614]\n",
      " [ 0.      1.0045  0.3654  1.4685  0.5341  0.8758]\n",
      " [-0.0429 -0.3703  1.0619  0.      0.      0.    ]\n",
      " [ 0.7866  1.3033 -0.7768  0.      0.      0.    ]\n",
      " [ 0.2308  0.0795  0.8045  0.      0.      0.    ]\n",
      " [ 0.3974  0.5433  0.      0.2279 -0.7768 -1.0619]\n",
      " [ 0.1166  0.      0.5433  0.0795 -0.2709 -0.3703]\n",
      " [ 0.      0.1166 -0.3974 -0.2308  0.7866  1.0754]\n",
      " [ 0.5134 -1.2816  0.0741  0.      0.      0.    ]\n",
      " [-0.184   0.44    0.0303  0.      0.      0.    ]\n",
      " [-0.0627 -0.1784  0.974   0.      0.      0.    ]\n",
      " [-0.1105  0.2705  0.     -0.0103  0.0303 -0.0741]\n",
      " [-0.0376  0.      0.2705 -0.1784  0.5237 -1.2816]\n",
      " [ 0.     -0.0376  0.1105  0.0627 -0.184   0.4503]\n",
      " [ 0.8297 -0.1007  0.1168  0.      0.      0.    ]\n",
      " [ 0.41    0.4041  0.3203  0.      0.      0.    ]\n",
      " [-0.7086  0.4773  0.1267  0.      0.      0.    ]\n",
      " [ 0.4558 -0.1662  0.      0.5536  0.3203 -0.1168]\n",
      " [-0.7878  0.     -0.1662  0.4773  0.2762 -0.1007]\n",
      " [ 0.     -0.7878 -0.4558  0.7086  0.41   -0.1495]\n",
      " [ 1.5328 -0.1665 -0.1765  0.      0.      0.    ]\n",
      " [ 0.3116  0.4889 -1.0516  0.      0.      0.    ]\n",
      " [ 0.1604 -0.5103  0.9393  0.      0.      0.    ]\n",
      " [ 2.4228 -0.4067  0.      0.5412 -1.0516  0.1765]\n",
      " [ 1.2468  0.     -0.4067 -0.5103  0.9916 -0.1665]\n",
      " [ 0.      1.2468 -2.4228 -0.1604  0.3116 -0.0523]]\n",
      "[[ 0.1797  0.1488  0.1166  0.      0.      0.    ]\n",
      " [ 0.1688  0.3102 -0.0832  0.      0.      0.    ]\n",
      " [ 0.1493 -0.0938  0.3428  0.      0.      0.    ]\n",
      " [-0.7431 -1.0421  0.      0.0735 -0.0832 -0.1166]\n",
      " [-0.6571  0.     -1.0421 -0.0938  0.1061  0.1488]\n",
      " [ 0.     -0.6571  0.7431 -0.1493  0.1688  0.2367]\n",
      " [ 1.5999 -0.0383 -0.1686  0.      0.      0.    ]\n",
      " [ 0.0009  1.5146 -0.3737  0.      0.      0.    ]\n",
      " [ 0.0037 -0.344   0.0844  0.      0.      0.    ]\n",
      " [-0.2038  0.0919  0.      1.515  -0.3737  0.1686]\n",
      " [-0.8261  0.      0.0919 -0.344   0.0849 -0.0383]\n",
      " [ 0.     -0.8261  0.2038 -0.0037  0.0009 -0.0004]\n",
      " [ 1.5925 -0.1061  0.2771  0.      0.      0.    ]\n",
      " [-0.1484  1.4904  0.4871  0.      0.      0.    ]\n",
      " [ 0.4284  0.5384  0.271   0.      0.      0.    ]\n",
      " [ 0.5788 -0.3293  0.      1.4059  0.4871 -0.2771]\n",
      " [-1.6706  0.     -0.3293  0.5384  0.1865 -0.1061]\n",
      " [ 0.     -1.6706 -0.5788 -0.4284 -0.1484  0.0844]\n",
      " [ 0.7959 -0.3489  0.4198  0.      0.      0.    ]\n",
      " [-0.3648  0.9355  0.3534  0.      0.      0.    ]\n",
      " [ 0.5184  0.4174  0.7271  0.      0.      0.    ]\n",
      " [ 0.0206 -0.0244  0.      0.5021  0.3534 -0.4198]\n",
      " [-0.0292  0.     -0.0244  0.4174  0.2937 -0.3489]\n",
      " [ 0.     -0.0292 -0.0206 -0.5184 -0.3648  0.4334]\n",
      " [ 0.8345  0.551  -0.2145  0.      0.      0.    ]\n",
      " [ 0.5456  0.4992  0.2885  0.      0.      0.    ]\n",
      " [-0.1769  0.2403  1.1467  0.      0.      0.    ]\n",
      " [ 0.2638  0.1961  0.      0.0935  0.2885  0.2145]\n",
      " [-0.0855  0.      0.1961  0.2403  0.741   0.551 ]\n",
      " [ 0.     -0.0855 -0.2638  0.1769  0.5456  0.4057]\n",
      " [ 0.2392 -0.3146 -0.6836  0.      0.      0.    ]\n",
      " [-0.2736  1.8952 -0.1096  0.      0.      0.    ]\n",
      " [-0.4712 -0.0869  1.7569  0.      0.      0.    ]\n",
      " [ 0.1872 -1.1673  0.      0.1888 -0.1096  0.6836]\n",
      " [ 0.3224  0.     -1.1673 -0.0869  0.0504 -0.3146]\n",
      " [ 0.      0.3224 -0.1872  0.4712 -0.2736  1.7064]\n",
      " [ 1.1084 -0.2881  0.8263  0.      0.      0.    ]\n",
      " [-0.2832  1.8477  0.2797  0.      0.      0.    ]\n",
      " [ 1.0237  0.3525  0.9343  0.      0.      0.    ]\n",
      " [-0.1431  0.4228  0.      1.0109  0.2797 -0.8263]\n",
      " [ 0.5172  0.      0.4228  0.3525  0.0975 -0.2881]\n",
      " [ 0.      0.5172  0.1431 -1.0237 -0.2832  0.8368]\n",
      " [ 1.3107 -0.4803  0.0278  0.      0.      0.    ]\n",
      " [-0.4575  0.1775  0.0753  0.      0.      0.    ]\n",
      " [ 0.053   0.1509  1.4708  0.      0.      0.    ]\n",
      " [-0.2748  0.1013  0.      0.0087  0.0753 -0.0278]\n",
      " [ 0.0318  0.      0.1013  0.1509  1.302  -0.4803]\n",
      " [ 0.      0.0318  0.2748 -0.053  -0.4575  0.1687]\n",
      " [ 0.5758  0.4148 -0.481   0.      0.      0.    ]\n",
      " [ 0.3963  0.9247  0.3096  0.      0.      0.    ]\n",
      " [-0.3955  0.2664  0.8827  0.      0.      0.    ]\n",
      " [ 0.4405  0.6846  0.      0.3089  0.3096  0.481 ]\n",
      " [-0.4396  0.      0.6846  0.2664  0.2669  0.4148]\n",
      " [ 0.     -0.4396 -0.4405  0.3955  0.3963  0.6158]\n",
      " [ 1.632   0.1332  0.1413  0.      0.      0.    ]\n",
      " [ 0.2437  0.8986 -0.8223  0.      0.      0.    ]\n",
      " [ 0.2539 -0.8078  0.8172  0.      0.      0.    ]\n",
      " [ 1.8943  0.3254  0.      0.8567 -0.8223 -0.1413]\n",
      " [ 1.9737  0.      0.3254 -0.8078  0.7753  0.1332]\n",
      " [ 0.      1.9737 -1.8943 -0.2539  0.2437  0.0419]]\n",
      "[[ 0.1629  0.1606  0.1258  0.      0.      0.    ]\n",
      " [ 0.1606  0.3173 -0.0791  0.      0.      0.    ]\n",
      " [ 0.1257 -0.079   0.3563  0.      0.      0.    ]\n",
      " [-0.7069 -1.1243  0.      0.0619 -0.0791 -0.1258]\n",
      " [-0.5535  0.     -1.1243 -0.079   0.1009  0.1606]\n",
      " [ 0.     -0.5535  0.7069 -0.1257  0.1606  0.2554]\n",
      " [ 1.6094  0.0009  0.004   0.      0.      0.    ]\n",
      " [ 0.0008  1.5305 -0.3479  0.      0.      0.    ]\n",
      " [ 0.0037 -0.3475  0.079   0.      0.      0.    ]\n",
      " [-0.1897 -0.0022  0.      1.5304 -0.3479 -0.004 ]\n",
      " [-0.8345  0.     -0.0022 -0.3475  0.079   0.0009]\n",
      " [ 0.     -0.8345  0.1897 -0.0037  0.0008  0.    ]\n",
      " [ 1.5587 -0.1587  0.4144  0.      0.      0.    ]\n",
      " [-0.1585  1.4858  0.5203  0.      0.      0.    ]\n",
      " [ 0.4142  0.5206  0.3255  0.      0.      0.    ]\n",
      " [ 0.6183 -0.4925  0.      1.3595  0.5203 -0.4144]\n",
      " [-1.6154  0.     -0.4925  0.5206  0.1993 -0.1587]\n",
      " [ 0.     -1.6154 -0.6183 -0.4142 -0.1585  0.1263]\n",
      " [ 0.7574 -0.3845  0.4625  0.      0.      0.    ]\n",
      " [-0.3844  0.9255  0.3723  0.      0.      0.    ]\n",
      " [ 0.4625  0.3724  0.787   0.      0.      0.    ]\n",
      " [ 0.0217 -0.0269  0.      0.448   0.3723 -0.4625]\n",
      " [-0.0261  0.     -0.0269  0.3724  0.3095 -0.3845]\n",
      " [ 0.     -0.0261 -0.0217 -0.4625 -0.3844  0.4775]\n",
      " [ 0.8443  0.5398 -0.2101  0.      0.      0.    ]\n",
      " [ 0.5397  0.5086  0.2854  0.      0.      0.    ]\n",
      " [-0.2103  0.2857  1.1305  0.      0.      0.    ]\n",
      " [ 0.2609  0.1921  0.      0.1112  0.2854  0.2101]\n",
      " [-0.1017  0.      0.1921  0.2857  0.7331  0.5398]\n",
      " [ 0.     -0.1017 -0.2609  0.2103  0.5397  0.3974]\n",
      " [ 0.3189 -0.3021 -0.6565  0.      0.      0.    ]\n",
      " [-0.3023  1.902  -0.1211  0.      0.      0.    ]\n",
      " [-0.6568 -0.1211  1.6946  0.      0.      0.    ]\n",
      " [ 0.2068 -1.1211  0.      0.2631 -0.1211  0.6565]\n",
      " [ 0.4493  0.     -1.1211 -0.1211  0.0557 -0.3021]\n",
      " [ 0.      0.4493 -0.2068  0.6568 -0.3023  1.6389]\n",
      " [ 1.0219 -0.3218  0.923   0.      0.      0.    ]\n",
      " [-0.3216  1.8459  0.3176  0.      0.      0.    ]\n",
      " [ 0.9227  0.3177  1.0454  0.      0.      0.    ]\n",
      " [-0.1625  0.4722  0.      0.9112  0.3176 -0.923 ]\n",
      " [ 0.4662  0.      0.4722  0.3177  0.1107 -0.3218]\n",
      " [ 0.      0.4662  0.1625 -0.9227 -0.3216  0.9347]\n",
      " [ 1.3195 -0.462   0.0267  0.      0.      0.    ]\n",
      " [-0.462   0.1667  0.076   0.      0.      0.    ]\n",
      " [ 0.0268  0.0762  1.4774  0.      0.      0.    ]\n",
      " [-0.2775  0.0975  0.      0.0044  0.076  -0.0267]\n",
      " [ 0.0161  0.      0.0975  0.0762  1.3151 -0.462 ]\n",
      " [ 0.      0.0161  0.2775 -0.0268 -0.462   0.1623]\n",
      " [ 0.6164  0.3902 -0.4525  0.      0.      0.    ]\n",
      " [ 0.3901  0.9329  0.3047  0.      0.      0.    ]\n",
      " [-0.4527  0.3049  0.842   0.      0.      0.    ]\n",
      " [ 0.4337  0.6439  0.      0.3536  0.3047  0.4525]\n",
      " [-0.5033  0.      0.6439  0.3049  0.2628  0.3902]\n",
      " [ 0.     -0.5033 -0.4337  0.4527  0.3901  0.5792]\n",
      " [ 1.6066  0.2378  0.2522  0.      0.      0.    ]\n",
      " [ 0.2377  0.925  -0.8021  0.      0.      0.    ]\n",
      " [ 0.252  -0.8018  0.8311  0.      0.      0.    ]\n",
      " [ 1.848   0.581   0.      0.8503 -0.8021 -0.2522]\n",
      " [ 1.9589  0.      0.581  -0.8018  0.7563  0.2378]\n",
      " [ 0.      1.9589 -1.848  -0.252   0.2377  0.0747]]\n",
      "[[ 0.1629  0.1605  0.1258  0.      0.      0.    ]\n",
      " [ 0.1605  0.3173 -0.0791  0.      0.      0.    ]\n",
      " [ 0.1258 -0.0791  0.3563  0.      0.      0.    ]\n",
      " [-0.7068 -1.1242  0.      0.062  -0.0791 -0.1258]\n",
      " [-0.5539  0.     -1.1242 -0.0791  0.1009  0.1605]\n",
      " [ 0.     -0.5539  0.7068 -0.1258  0.1605  0.2553]\n",
      " [ 1.6094  0.0008  0.0037  0.      0.      0.    ]\n",
      " [ 0.0008  1.5305 -0.3475  0.      0.      0.    ]\n",
      " [ 0.0037 -0.3475  0.0789  0.      0.      0.    ]\n",
      " [-0.1895 -0.002   0.      1.5305 -0.3475 -0.0037]\n",
      " [-0.8345  0.     -0.002  -0.3475  0.0789  0.0008]\n",
      " [ 0.     -0.8345  0.1895 -0.0037  0.0008  0.    ]\n",
      " [ 1.5588 -0.1586  0.4142  0.      0.      0.    ]\n",
      " [-0.1586  1.4857  0.5206  0.      0.      0.    ]\n",
      " [ 0.4142  0.5206  0.3256  0.      0.      0.    ]\n",
      " [ 0.6186 -0.4922  0.      1.3594  0.5206 -0.4142]\n",
      " [-1.6153  0.     -0.4922  0.5206  0.1994 -0.1586]\n",
      " [ 0.     -1.6153 -0.6186 -0.4142 -0.1586  0.1262]\n",
      " [ 0.7575 -0.3844  0.4625  0.      0.      0.    ]\n",
      " [-0.3844  0.9254  0.3724  0.      0.      0.    ]\n",
      " [ 0.4625  0.3724  0.787   0.      0.      0.    ]\n",
      " [ 0.0217 -0.0269  0.      0.448   0.3724 -0.4625]\n",
      " [-0.0261  0.     -0.0269  0.3724  0.3095 -0.3844]\n",
      " [ 0.     -0.0261 -0.0217 -0.4625 -0.3844  0.4775]\n",
      " [ 0.8443  0.5398 -0.2101  0.      0.      0.    ]\n",
      " [ 0.5398  0.5086  0.2854  0.      0.      0.    ]\n",
      " [-0.2101  0.2854  1.1306  0.      0.      0.    ]\n",
      " [ 0.261   0.1922  0.      0.1111  0.2854  0.2101]\n",
      " [-0.1016  0.      0.1922  0.2854  0.7332  0.5398]\n",
      " [ 0.     -0.1016 -0.261   0.2101  0.5398  0.3975]\n",
      " [ 0.3187 -0.3021 -0.6566  0.      0.      0.    ]\n",
      " [-0.3021  1.9021 -0.121   0.      0.      0.    ]\n",
      " [-0.6566 -0.121   1.6947  0.      0.      0.    ]\n",
      " [ 0.2067 -1.1212  0.      0.263  -0.121   0.6566]\n",
      " [ 0.4491  0.     -1.1212 -0.121   0.0557 -0.3021]\n",
      " [ 0.      0.4491 -0.2067  0.6566 -0.3021  1.639 ]\n",
      " [ 1.0221 -0.3218  0.9228  0.      0.      0.    ]\n",
      " [-0.3218  1.8458  0.3177  0.      0.      0.    ]\n",
      " [ 0.9228  0.3177  1.0453  0.      0.      0.    ]\n",
      " [-0.1626  0.4721  0.      0.9113  0.3177 -0.9228]\n",
      " [ 0.4662  0.      0.4721  0.3177  0.1108 -0.3218]\n",
      " [ 0.      0.4662  0.1626 -0.9228 -0.3218  0.9345]\n",
      " [ 1.3195 -0.462   0.0267  0.      0.      0.    ]\n",
      " [-0.462   0.1667  0.076   0.      0.      0.    ]\n",
      " [ 0.0267  0.076   1.4774  0.      0.      0.    ]\n",
      " [-0.2775  0.0975  0.      0.0044  0.076  -0.0267]\n",
      " [ 0.016   0.      0.0975  0.076   1.3151 -0.462 ]\n",
      " [ 0.      0.016   0.2775 -0.0267 -0.462   0.1623]\n",
      " [ 0.6163  0.3902 -0.4525  0.      0.      0.    ]\n",
      " [ 0.3902  0.9328  0.3048  0.      0.      0.    ]\n",
      " [-0.4525  0.3048  0.8421  0.      0.      0.    ]\n",
      " [ 0.4338  0.644   0.      0.3535  0.3048  0.4525]\n",
      " [-0.5031  0.      0.644   0.3048  0.2628  0.3902]\n",
      " [ 0.     -0.5031 -0.4338  0.4525  0.3902  0.5793]\n",
      " [ 1.6067  0.2376  0.252   0.      0.      0.    ]\n",
      " [ 0.2376  0.9252 -0.802   0.      0.      0.    ]\n",
      " [ 0.252  -0.802   0.8309  0.      0.      0.    ]\n",
      " [ 1.8476  0.5806  0.      0.8505 -0.802  -0.252 ]\n",
      " [ 1.9594  0.      0.5806 -0.802   0.7562  0.2376]\n",
      " [ 0.      1.9594 -1.8476 -0.252   0.2376  0.0747]]\n",
      "r:  5.51419648178e-12\n",
      "3\n",
      "Mot: [ 0.87 -0.13 -0.27 -0.4 -0.16 -0.22 -0.12 0.021 ]\n"
     ]
    }
   ],
   "source": [
    "M = initial_motor\n",
    "eps1 = 1e-6\n",
    "eps2 = 1e-6\n",
    "rsc = []\n",
    "for i in range(10):\n",
    "    k = len(rsc)\n",
    "    Jc = np.array([np.array([Jci(vsr.CGA(ei), \n",
    "                                 vsr.CGA(M), \n",
    "                                 vsr.CGA(a),\n",
    "                                 vsr.CGA(b)) for ei in [vsr.Dll(1,0,0,0,0,0), \n",
    "                                                      vsr.Dll(0,1,0,0,0,0),\n",
    "                                                      vsr.Dll(0,0,1,0,0,0),\n",
    "                                                      vsr.Dll(0,0,0,1,0,0),\n",
    "                                                      vsr.Dll(0,0,0,0,1,0),\n",
    "                                                      vsr.Dll(0,0,0,0,0,1)]]).reshape(6,6).T \n",
    "                for a, b in zip(planes_a, planes_b)]).reshape(-1,6)\n",
    "    fc = np.array([fci(vsr.CGA(M),\n",
    "                       vsr.CGA(a),\n",
    "                       vsr.CGA(b)) for a, b in zip(planes_a, planes_b)]).reshape(-1,1)\n",
    "\n",
    "    print(Jc)\n",
    "    A = np.dot(Jc.T,Jc)\n",
    "    g = np.dot(Jc.T,fc)\n",
    "    r = np.dot(fc.T,fc)[0][0] / 2\n",
    "    rsc.append(r)\n",
    "    if r < 1e-6:\n",
    "        break\n",
    "    h = np.dot(np.linalg.pinv(A), -g)\n",
    "    B = vsr.Dll(*h)\n",
    "    M = B.exp() * M\n",
    "print('r: ', r)\n",
    "print(k)    \n",
    "print(M)"
   ]
  },
  {
   "cell_type": "code",
   "execution_count": 18,
   "metadata": {
    "collapsed": false
   },
   "outputs": [
    {
     "data": {
      "text/plain": [
       "<matplotlib.text.Text at 0x10ea47748>"
      ]
     },
     "execution_count": 18,
     "metadata": {},
     "output_type": "execute_result"
    },
    {
     "data": {
      "image/png": "[encoded data removed]",
      "text/plain": [
       "<matplotlib.figure.Figure at 0x10ae7da20>"
      ]
     },
     "metadata": {},
     "output_type": "display_data"
    }
   ],
   "source": [
    "fig, ax = plt.subplots(1)\n",
    "ax.plot(rsc, label=r'planes')\n",
    "ax.semilogy()\n",
    "legend = ax.legend(frameon=False)\n",
    "ax.xaxis.set_major_locator(MaxNLocator(integer=True))\n",
    "plt.xlabel(r'Iteration k')\n",
    "plt.ylabel(r'Cost')\n",
    "# plt.savefig('lines-cost-engage.eps')"
   ]
  },
  {
   "cell_type": "markdown",
   "metadata": {},
   "source": [
    "## Points"
   ]
  },
  {
   "cell_type": "code",
   "execution_count": 55,
   "metadata": {
    "collapsed": false
   },
   "outputs": [
    {
     "name": "stdout",
     "output_type": "stream",
     "text": [
      "CGA: [ 0 0 0 0 0 1 0 0 0 0 0 0 0 0 0 0 0 0 0 0 0 0 0 0 0 0 0 0 0 0 0 0 ]\n"
     ]
    }
   ],
   "source": [
    "ni = vsr.CGA(*[0]*32); ni[5] = 1; print(ni)"
   ]
  },
  {
   "cell_type": "code",
   "execution_count": 56,
   "metadata": {
    "collapsed": true
   },
   "outputs": [],
   "source": [
    "n_points=10\n",
    "points_a = [vsr.CGA(vsr.Vec(*np.random.normal(0.0, 0.8, 3)).null()) ^ ni for i in range(n_points)]\n",
    "points_b = [point.spin(vsr.CGA(motor)) for point in points_a]"
   ]
  },
  {
   "cell_type": "code",
   "execution_count": 62,
   "metadata": {
    "collapsed": false
   },
   "outputs": [
    {
     "name": "stdout",
     "output_type": "stream",
     "text": [
      "r:  1.98857563467e-09\n",
      "3\n",
      "Mot: [ 0.87 -0.13 -0.27 -0.4 -0.16 -0.22 -0.12 0.021 ]\n"
     ]
    }
   ],
   "source": [
    "M = initial_motor\n",
    "eps1 = 1e-6\n",
    "eps2 = 1e-6\n",
    "rsc = []\n",
    "for i in range(10):\n",
    "    k = len(rsc)\n",
    "    Jc = np.array([np.array([Jci(vsr.CGA(ei), \n",
    "                                 vsr.CGA(M), \n",
    "                                 (a),\n",
    "                                 (b)) for ei in [vsr.Dll(1,0,0,0,0,0), \n",
    "                                                      vsr.Dll(0,1,0,0,0,0),\n",
    "                                                      vsr.Dll(0,0,1,0,0,0),\n",
    "                                                      vsr.Dll(0,0,0,1,0,0),\n",
    "                                                      vsr.Dll(0,0,0,0,1,0),\n",
    "                                                      vsr.Dll(0,0,0,0,0,1)]]).reshape(6,6).T \n",
    "                for a, b in zip(points_a, points_b)]).reshape(-1,6)\n",
    "    fc = np.array([fci(vsr.CGA(M),\n",
    "                       (a),\n",
    "                       (b)) for a, b in zip(points_a, points_b)]).reshape(-1,1)\n",
    "\n",
    "#     print(Jc)\n",
    "    A = np.dot(Jc.T,Jc)\n",
    "#     print(A)\n",
    "    g = np.dot(Jc.T,fc)\n",
    "    r = np.dot(fc.T,fc)[0][0] / 2\n",
    "    rsc.append(r)\n",
    "    if r < 1e-6:\n",
    "        break\n",
    "#     h = np.dot(np.linalg.pinv(A), -g)\n",
    "    h = np.linalg.solve(A,-g)\n",
    "    B = vsr.Dll(*h)\n",
    "    M = B.exp() * M\n",
    "print('r: ', r)\n",
    "print(k)    \n",
    "print(M)"
   ]
  },
  {
   "cell_type": "code",
   "execution_count": 22,
   "metadata": {
    "collapsed": false
   },
   "outputs": [
    {
     "name": "stdout",
     "output_type": "stream",
     "text": [
      "[[ 0.      0.      0.      0.      0.      0.    ]\n",
      " [ 0.      0.      0.      0.      0.      0.    ]\n",
      " [ 0.      0.      0.      0.      0.      0.    ]\n",
      " [-2.5145 -3.5249  0.      2.      0.      0.    ]\n",
      " [-0.1027  0.     -3.5249  0.      2.      0.    ]\n",
      " [ 0.     -0.1027  2.5145  0.      0.      2.    ]]\n"
     ]
    }
   ],
   "source": [
    "print(Jc[:6,:])"
   ]
  },
  {
   "cell_type": "code",
   "execution_count": 23,
   "metadata": {
    "collapsed": false
   },
   "outputs": [
    {
     "data": {
      "text/plain": [
       "<matplotlib.text.Text at 0x10efe7da0>"
      ]
     },
     "execution_count": 23,
     "metadata": {},
     "output_type": "execute_result"
    },
    {
     "data": {
      "image/png": "[encoded data removed]",
      "text/plain": [
       "<matplotlib.figure.Figure at 0x10f667e48>"
      ]
     },
     "metadata": {},
     "output_type": "display_data"
    }
   ],
   "source": [
    "fig, ax = plt.subplots(1)\n",
    "ax.plot(rsc, label=r'points')\n",
    "ax.semilogy()\n",
    "legend = ax.legend(frameon=False)\n",
    "ax.xaxis.set_major_locator(MaxNLocator(integer=True))\n",
    "plt.xlabel(r'Iteration k')\n",
    "plt.ylabel(r'Cost')\n",
    "# plt.savefig('lines-cost-engage.eps')"
   ]
  },
  {
   "cell_type": "markdown",
   "metadata": {},
   "source": [
    "# Points, Lines, and Planes"
   ]
  },
  {
   "cell_type": "code",
   "execution_count": 24,
   "metadata": {
    "collapsed": false
   },
   "outputs": [
    {
     "name": "stdout",
     "output_type": "stream",
     "text": [
      "[[ 83.1102   2.1504 -12.8544   1.6969  -7.7236  -0.433 ]\n",
      " [  2.1504  69.8554 -10.4641   0.5623  -1.147   -6.6401]\n",
      " [-12.8544 -10.4641  79.6749  -1.8018  -4.3316  -5.0988]\n",
      " [  1.6969   0.5623  -1.8018  63.1038   7.3897  -3.0896]\n",
      " [ -7.7236  -1.147   -4.3316   7.3897  72.7195   7.012 ]\n",
      " [ -0.433   -6.6401  -5.0988  -3.0896   7.012   70.7513]]\n",
      "[[  82.3455    7.0106    2.0836  -12.1388   -0.4955    0.6748]\n",
      " [   7.0106   96.214   -10.1113  -25.2003   -2.0077    2.2592]\n",
      " [   2.0836  -10.1113  103.971    -2.7979  -23.345    11.7344]\n",
      " [ -12.1388  -25.2003   -2.7979   73.7837    4.5646   -3.2377]\n",
      " [  -0.4955   -2.0077  -23.345     4.5646   69.366     4.0478]\n",
      " [   0.6748    2.2592   11.7344   -3.2377    4.0478   79.2524]]\n",
      "[[  86.0986    6.3095    2.6217  -17.0407    3.8649    1.2687]\n",
      " [   6.3095   93.7463   -8.2353  -21.1019   -1.1179    7.4008]\n",
      " [   2.6217   -8.2353  103.7065   -2.3866  -18.3286   17.756 ]\n",
      " [ -17.0407  -21.1019   -2.3866   74.6873    4.4139   -3.1939]\n",
      " [   3.8649   -1.1179  -18.3286    4.4139   68.5321    3.4189]\n",
      " [   1.2687    7.4008   17.756    -3.1939    3.4189   79.5655]]\n",
      "[[  86.0019    6.2182    2.6474  -16.9275    3.7718    1.2563]\n",
      " [   6.2182   93.5635   -8.2918  -20.8806   -1.1121    7.275 ]\n",
      " [   2.6474   -8.2918  103.5069   -2.3684  -18.127    17.6359]\n",
      " [ -16.9275  -20.8806   -2.3684   74.6886    4.4124   -3.1941]\n",
      " [   3.7718   -1.1121  -18.127     4.4124   68.5321    3.4214]\n",
      " [   1.2563    7.275    17.6359   -3.1941    3.4214   79.5643]]\n",
      "r:  5.29432850163e-13\n",
      "3\n",
      "Mot: [ 0.87 -0.13 -0.27 -0.4 -0.16 -0.22 -0.12 0.021 ]\n"
     ]
    }
   ],
   "source": [
    "Jci = lambda ei, M, l1, l2 : np.array(((ei.comm(l1.spin(M))).comm(l2)).mot().dll()) * 2\n",
    "fci = lambda M, l1, l2 : np.array((l1.spin(M).comm(l2)).mot().dll()).reshape(6,1)\n",
    "M = initial_motor\n",
    "eps1 = 1e-6\n",
    "eps2 = 1e-6\n",
    "rsc = []\n",
    "for i in range(10):\n",
    "    k = len(rsc)\n",
    "    Jlin = np.array([np.array([Jci(vsr.CGA(ei), \n",
    "                                 vsr.CGA(M), \n",
    "                                 vsr.CGA(a.undual()),\n",
    "                                 vsr.CGA(b.undual())) for ei in [vsr.Dll(1,0,0,0,0,0), \n",
    "                                                      vsr.Dll(0,1,0,0,0,0),\n",
    "                                                      vsr.Dll(0,0,1,0,0,0),\n",
    "                                                      vsr.Dll(0,0,0,1,0,0),\n",
    "                                                      vsr.Dll(0,0,0,0,1,0),\n",
    "                                                      vsr.Dll(0,0,0,0,0,1)]]).reshape(6,6).T \n",
    "                for a, b in zip(lines_a, lines_b)]).reshape(-1,6)\n",
    "    flin = np.array([fci(vsr.CGA(M),\n",
    "                       vsr.CGA(a.undual()),\n",
    "                       vsr.CGA(b.undual())) for a, b in zip(lines_a, lines_b)]).reshape(-1,1)\n",
    "    Jpln = np.array([np.array([Jci(vsr.CGA(ei), \n",
    "                                 vsr.CGA(M), \n",
    "                                 vsr.CGA(a.undual()),\n",
    "                                 vsr.CGA(b.undual())) for ei in [vsr.Dll(1,0,0,0,0,0), \n",
    "                                                      vsr.Dll(0,1,0,0,0,0),\n",
    "                                                      vsr.Dll(0,0,1,0,0,0),\n",
    "                                                      vsr.Dll(0,0,0,1,0,0),\n",
    "                                                      vsr.Dll(0,0,0,0,1,0),\n",
    "                                                      vsr.Dll(0,0,0,0,0,1)]]).reshape(6,6).T \n",
    "                for a, b in zip(planes_a, planes_b)]).reshape(-1,6)\n",
    "    fpln = np.array([fci(vsr.CGA(M),\n",
    "                       vsr.CGA(a.undual()),\n",
    "                       vsr.CGA(b.undual())) for a, b in zip(planes_a, planes_b)]).reshape(-1,1)\n",
    "    \n",
    "    Jpnt = np.array([np.array([Jci(vsr.CGA(ei), \n",
    "                                 vsr.CGA(M), \n",
    "                                 (a),\n",
    "                                 (b)) for ei in [vsr.Dll(1,0,0,0,0,0), \n",
    "                                                      vsr.Dll(0,1,0,0,0,0),\n",
    "                                                      vsr.Dll(0,0,1,0,0,0),\n",
    "                                                      vsr.Dll(0,0,0,1,0,0),\n",
    "                                                      vsr.Dll(0,0,0,0,1,0),\n",
    "                                                      vsr.Dll(0,0,0,0,0,1)]]).reshape(6,6).T \n",
    "                for a, b in zip(points_a, points_b)]).reshape(-1,6)\n",
    "    fpnt = np.array([fci(vsr.CGA(M),\n",
    "                       (a),\n",
    "                       (b)) for a, b in zip(points_a, points_b)]).reshape(-1,1)\n",
    "    \n",
    "    Jc = np.vstack((Jlin, Jpln, Jpnt))\n",
    "    fc = np.vstack((flin, fpln, fpnt))\n",
    "\n",
    "    A = np.dot(Jc.T,Jc)\n",
    "    print(A)\n",
    "    g = np.dot(Jc.T,fc)\n",
    "    r = np.dot(fc.T,fc)[0][0] / 2\n",
    "    rsc.append(r)\n",
    "    if r < 1e-6:\n",
    "        break\n",
    "    h = np.dot(np.linalg.pinv(A), -g)\n",
    "    B = vsr.Dll(*h)\n",
    "    M = B.exp() * M\n",
    "print('r: ', r)\n",
    "print(k)    \n",
    "print(M)"
   ]
  },
  {
   "cell_type": "code",
   "execution_count": 25,
   "metadata": {
    "collapsed": false
   },
   "outputs": [
    {
     "data": {
      "text/plain": [
       "Pln: [ 1.789 -0.08201 0.4455 -0.06293 ]"
      ]
     },
     "execution_count": 25,
     "metadata": {},
     "output_type": "execute_result"
    }
   ],
   "source": [
    "planes_a[0].undual()"
   ]
  },
  {
   "cell_type": "code",
   "execution_count": 26,
   "metadata": {
    "collapsed": true
   },
   "outputs": [],
   "source": [
    "## Spheres"
   ]
  },
  {
   "cell_type": "code",
   "execution_count": 39,
   "metadata": {
    "collapsed": true
   },
   "outputs": [],
   "source": [
    "sph1 = vsr.Sph(vsr.Vec(1,-1,1).null(), 0.3)\n",
    "sph2 = vsr.Sph(vsr.Vec(2,-3,5).null(), 0.7)"
   ]
  },
  {
   "cell_type": "code",
   "execution_count": 44,
   "metadata": {
    "collapsed": false
   },
   "outputs": [
    {
     "data": {
      "text/plain": [
       "CGA: [ 1 0 0 0 0 0 0 0 0 0 0 0 0 0 0 0 0 0 0 0 0 0 0 0 0 0 0 0 0 0 0 0 ]"
      ]
     },
     "execution_count": 44,
     "metadata": {},
     "output_type": "execute_result"
    }
   ],
   "source": [
    "(vsr.CGA(sph1) ^ ni )* (vsr.CGA(sph2) ^ ni).inv()"
   ]
  },
  {
   "cell_type": "code",
   "execution_count": 34,
   "metadata": {
    "collapsed": false
   },
   "outputs": [
    {
     "data": {
      "text/plain": [
       "CGA: [ 0 0 0 0 0 0 0 0 0 0 0 0 1 -1 1 1 0 0 0 0 0 0 0 0 0 0 0 0 0 0 0 0 ]"
      ]
     },
     "execution_count": 34,
     "metadata": {},
     "output_type": "execute_result"
    }
   ],
   "source": [
    "vsr.CGA(sph.dual()) ^ ni"
   ]
  },
  {
   "cell_type": "code",
   "execution_count": 32,
   "metadata": {
    "collapsed": false
   },
   "outputs": [
    {
     "data": {
      "text/plain": [
       "Dls: [ 1 -1 1 1 1.455 ]"
      ]
     },
     "execution_count": 32,
     "metadata": {},
     "output_type": "execute_result"
    }
   ],
   "source": [
    "sph.dual()"
   ]
  },
  {
   "cell_type": "code",
   "execution_count": null,
   "metadata": {
    "collapsed": true
   },
   "outputs": [],
   "source": []
  }
 ],
 "metadata": {
  "anaconda-cloud": {},
  "kernelspec": {
   "display_name": "Python [default]",
   "language": "python",
   "name": "python3"
  },
  "language_info": {
   "codemirror_mode": {
    "name": "ipython",
    "version": 3
   },
   "file_extension": ".py",
   "mimetype": "text/x-python",
   "name": "python",
   "nbconvert_exporter": "python",
   "pygments_lexer": "ipython3",
   "version": "3.5.2"
  },
  "widgets": {
   "state": {
    "c70d49cc55034b1cbb8fef426fdfb61d": {
     "views": [
      {
       "cell_index": 1
      }
     ]
    }
   },
   "version": "1.2.0"
  }
 },
 "nbformat": 4,
 "nbformat_minor": 1
}
